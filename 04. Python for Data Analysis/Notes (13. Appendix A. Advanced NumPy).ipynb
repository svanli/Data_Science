{
 "cells": [
  {
   "cell_type": "markdown",
   "id": "54d90d12-1edd-4563-a9ff-ed58bd346b81",
   "metadata": {
    "tags": []
   },
   "source": [
    "# <b>Python for Data Analysis</b>\n",
    "# 14. Appendix A. Advanced NumPy"
   ]
  },
  {
   "cell_type": "code",
   "execution_count": 1,
   "id": "87b07f93-2ff2-4b25-b861-2a6a2e521f71",
   "metadata": {},
   "outputs": [],
   "source": [
    "import numpy as np\n",
    "import matplotlib.pyplot as plt\n",
    "import pandas as pd\n",
    "import seaborn as sns\n",
    "import statsmodels as sm\n",
    "pd.options.display.max_columns = 20\n",
    "pd.options.display.max_rows = 20\n",
    "pd.options.display.max_colwidth = 80\n",
    "np.set_printoptions(precision = 4, suppress = True)\n",
    "from pandas import Series, DataFrame\n",
    "%matplotlib inline"
   ]
  },
  {
   "cell_type": "code",
   "execution_count": 2,
   "id": "df14fcbc-1e89-43f9-abb0-e2db193d70ed",
   "metadata": {},
   "outputs": [],
   "source": [
    "rng = np.random.default_rng(seed = 12345)"
   ]
  },
  {
   "cell_type": "markdown",
   "id": "1ddad8d3-fa2b-4917-a138-f5ba82ef92be",
   "metadata": {},
   "source": [
    "## A.1 ndarray Object Internals"
   ]
  },
  {
   "cell_type": "code",
   "execution_count": 3,
   "id": "b020faee-dcce-4ea2-9786-3383d62bd84e",
   "metadata": {},
   "outputs": [
    {
     "data": {
      "text/plain": [
       "(40, 8)"
      ]
     },
     "execution_count": 3,
     "metadata": {},
     "output_type": "execute_result"
    }
   ],
   "source": [
    "np.ones((10, 5)).strides"
   ]
  },
  {
   "cell_type": "code",
   "execution_count": 4,
   "id": "a0f0fad6",
   "metadata": {},
   "outputs": [
    {
     "data": {
      "text/plain": [
       "(40, 8)"
      ]
     },
     "execution_count": 4,
     "metadata": {},
     "output_type": "execute_result"
    }
   ],
   "source": [
    "np.ones((10, 5)).strides"
   ]
  },
  {
   "cell_type": "code",
   "execution_count": 5,
   "id": "70a984bf-1c36-4fb2-bb9d-9bdc9a1200b5",
   "metadata": {},
   "outputs": [
    {
     "data": {
      "text/plain": [
       "(160, 40, 8)"
      ]
     },
     "execution_count": 5,
     "metadata": {},
     "output_type": "execute_result"
    }
   ],
   "source": [
    "np.ones((3, 4, 5), dtype = np.float64).strides"
   ]
  },
  {
   "cell_type": "markdown",
   "id": "18b74b01-e39d-4387-a0eb-4bf1e7d59374",
   "metadata": {},
   "source": [
    "### NumPy Data Type Hierarchy"
   ]
  },
  {
   "cell_type": "code",
   "execution_count": 6,
   "id": "72e0cf51-0ac6-4e4a-8354-1b34a8a8c1bc",
   "metadata": {},
   "outputs": [
    {
     "data": {
      "text/plain": [
       "True"
      ]
     },
     "execution_count": 6,
     "metadata": {},
     "output_type": "execute_result"
    }
   ],
   "source": [
    "ints = np.ones(10, dtype = np.uint16)\n",
    "floats = np.ones(10, dtype = np.float32)\n",
    "np.issubdtype(ints.dtype, np.integer)\n",
    "np.issubdtype(floats.dtype, np.floating)"
   ]
  },
  {
   "cell_type": "code",
   "execution_count": 7,
   "id": "30d3e029-4a90-4f45-92d2-c695426acdc0",
   "metadata": {},
   "outputs": [
    {
     "data": {
      "text/plain": [
       "[numpy.float64,\n",
       " numpy.floating,\n",
       " numpy.inexact,\n",
       " numpy.number,\n",
       " numpy.generic,\n",
       " float,\n",
       " object]"
      ]
     },
     "execution_count": 7,
     "metadata": {},
     "output_type": "execute_result"
    }
   ],
   "source": [
    "np.float64.mro()"
   ]
  },
  {
   "cell_type": "code",
   "execution_count": 8,
   "id": "c1131cf2-6a81-4c1b-893e-7cff79444896",
   "metadata": {},
   "outputs": [
    {
     "data": {
      "text/plain": [
       "True"
      ]
     },
     "execution_count": 8,
     "metadata": {},
     "output_type": "execute_result"
    }
   ],
   "source": [
    "np.issubdtype(ints.dtype, np.number)"
   ]
  },
  {
   "cell_type": "markdown",
   "id": "d32fff14-6e63-424b-a2e2-40008aab5027",
   "metadata": {},
   "source": [
    "## A.2 Advanced Array Manipulation"
   ]
  },
  {
   "cell_type": "markdown",
   "id": "7c6224ec-cf92-4c34-97a6-1f1c219af5e6",
   "metadata": {},
   "source": [
    "### Reshaping Arrays"
   ]
  },
  {
   "cell_type": "code",
   "execution_count": 9,
   "id": "1828bf9b-32f3-4fd1-9ef2-95285470be51",
   "metadata": {},
   "outputs": [
    {
     "data": {
      "text/plain": [
       "array([0, 1, 2, 3, 4, 5, 6, 7])"
      ]
     },
     "execution_count": 9,
     "metadata": {},
     "output_type": "execute_result"
    }
   ],
   "source": [
    "arr = np.arange(8)\n",
    "arr"
   ]
  },
  {
   "cell_type": "code",
   "execution_count": 10,
   "id": "a9f2fccc-d57b-407e-afb1-f2aca04c8a0e",
   "metadata": {},
   "outputs": [
    {
     "data": {
      "text/plain": [
       "array([[0, 1],\n",
       "       [2, 3],\n",
       "       [4, 5],\n",
       "       [6, 7]])"
      ]
     },
     "execution_count": 10,
     "metadata": {},
     "output_type": "execute_result"
    }
   ],
   "source": [
    "arr.reshape((4, 2))"
   ]
  },
  {
   "cell_type": "code",
   "execution_count": 11,
   "id": "6a88a489-8d28-4a7d-bf7e-f1538f1efb0d",
   "metadata": {},
   "outputs": [
    {
     "data": {
      "text/plain": [
       "array([[0, 1, 2, 3],\n",
       "       [4, 5, 6, 7]])"
      ]
     },
     "execution_count": 11,
     "metadata": {},
     "output_type": "execute_result"
    }
   ],
   "source": [
    "arr.reshape((4, 2)).reshape((2, 4))"
   ]
  },
  {
   "cell_type": "code",
   "execution_count": 12,
   "id": "e82768c9-ee55-43fb-bb3b-5584d39f4916",
   "metadata": {},
   "outputs": [
    {
     "data": {
      "text/plain": [
       "array([[ 0,  1,  2],\n",
       "       [ 3,  4,  5],\n",
       "       [ 6,  7,  8],\n",
       "       [ 9, 10, 11],\n",
       "       [12, 13, 14]])"
      ]
     },
     "execution_count": 12,
     "metadata": {},
     "output_type": "execute_result"
    }
   ],
   "source": [
    "arr = np.arange(15)\n",
    "arr.reshape((5, -1))"
   ]
  },
  {
   "cell_type": "code",
   "execution_count": 13,
   "id": "04e093f5-b061-4ab5-a3a1-ba473fc60207",
   "metadata": {},
   "outputs": [
    {
     "data": {
      "text/plain": [
       "array([[  0,   1,   2,   3,   4,   5,   6,   7,   8,   9,  10,  11,  12,\n",
       "         13,  14,  15,  16,  17,  18,  19,  20,  21,  22,  23,  24,  25,\n",
       "         26,  27,  28,  29,  30,  31,  32,  33,  34,  35],\n",
       "       [ 36,  37,  38,  39,  40,  41,  42,  43,  44,  45,  46,  47,  48,\n",
       "         49,  50,  51,  52,  53,  54,  55,  56,  57,  58,  59,  60,  61,\n",
       "         62,  63,  64,  65,  66,  67,  68,  69,  70,  71],\n",
       "       [ 72,  73,  74,  75,  76,  77,  78,  79,  80,  81,  82,  83,  84,\n",
       "         85,  86,  87,  88,  89,  90,  91,  92,  93,  94,  95,  96,  97,\n",
       "         98,  99, 100, 101, 102, 103, 104, 105, 106, 107],\n",
       "       [108, 109, 110, 111, 112, 113, 114, 115, 116, 117, 118, 119, 120,\n",
       "        121, 122, 123, 124, 125, 126, 127, 128, 129, 130, 131, 132, 133,\n",
       "        134, 135, 136, 137, 138, 139, 140, 141, 142, 143],\n",
       "       [144, 145, 146, 147, 148, 149, 150, 151, 152, 153, 154, 155, 156,\n",
       "        157, 158, 159, 160, 161, 162, 163, 164, 165, 166, 167, 168, 169,\n",
       "        170, 171, 172, 173, 174, 175, 176, 177, 178, 179],\n",
       "       [180, 181, 182, 183, 184, 185, 186, 187, 188, 189, 190, 191, 192,\n",
       "        193, 194, 195, 196, 197, 198, 199, 200, 201, 202, 203, 204, 205,\n",
       "        206, 207, 208, 209, 210, 211, 212, 213, 214, 215],\n",
       "       [216, 217, 218, 219, 220, 221, 222, 223, 224, 225, 226, 227, 228,\n",
       "        229, 230, 231, 232, 233, 234, 235, 236, 237, 238, 239, 240, 241,\n",
       "        242, 243, 244, 245, 246, 247, 248, 249, 250, 251],\n",
       "       [252, 253, 254, 255, 256, 257, 258, 259, 260, 261, 262, 263, 264,\n",
       "        265, 266, 267, 268, 269, 270, 271, 272, 273, 274, 275, 276, 277,\n",
       "        278, 279, 280, 281, 282, 283, 284, 285, 286, 287],\n",
       "       [288, 289, 290, 291, 292, 293, 294, 295, 296, 297, 298, 299, 300,\n",
       "        301, 302, 303, 304, 305, 306, 307, 308, 309, 310, 311, 312, 313,\n",
       "        314, 315, 316, 317, 318, 319, 320, 321, 322, 323]])"
      ]
     },
     "execution_count": 13,
     "metadata": {},
     "output_type": "execute_result"
    }
   ],
   "source": [
    "arrTest = np.arange(324)\n",
    "arrTest.reshape((9, -1))"
   ]
  },
  {
   "cell_type": "code",
   "execution_count": 14,
   "id": "c5efffdd-9f60-4ede-8eea-e25c8a8e762c",
   "metadata": {},
   "outputs": [
    {
     "data": {
      "text/plain": [
       "(3, 5)"
      ]
     },
     "execution_count": 14,
     "metadata": {},
     "output_type": "execute_result"
    }
   ],
   "source": [
    "other_arr = np.ones((3, 5))\n",
    "other_arr.shape"
   ]
  },
  {
   "cell_type": "code",
   "execution_count": 15,
   "id": "7f4ebed1-d2ff-4398-9c7b-d5caf8c899de",
   "metadata": {},
   "outputs": [
    {
     "data": {
      "text/plain": [
       "array([[1., 1., 1., 1., 1.],\n",
       "       [1., 1., 1., 1., 1.],\n",
       "       [1., 1., 1., 1., 1.]])"
      ]
     },
     "execution_count": 15,
     "metadata": {},
     "output_type": "execute_result"
    }
   ],
   "source": [
    "other_arr"
   ]
  },
  {
   "cell_type": "code",
   "execution_count": 16,
   "id": "c582c6f9-9f6f-4370-a973-89ea629381ba",
   "metadata": {},
   "outputs": [
    {
     "data": {
      "text/plain": [
       "array([[ 0,  1,  2,  3,  4],\n",
       "       [ 5,  6,  7,  8,  9],\n",
       "       [10, 11, 12, 13, 14]])"
      ]
     },
     "execution_count": 16,
     "metadata": {},
     "output_type": "execute_result"
    }
   ],
   "source": [
    "arr.reshape(other_arr.shape)"
   ]
  },
  {
   "cell_type": "code",
   "execution_count": 17,
   "id": "a2896ec8-f723-481e-9458-22d770560bf0",
   "metadata": {},
   "outputs": [
    {
     "data": {
      "text/plain": [
       "array([[ 0,  1,  2],\n",
       "       [ 3,  4,  5],\n",
       "       [ 6,  7,  8],\n",
       "       [ 9, 10, 11],\n",
       "       [12, 13, 14]])"
      ]
     },
     "execution_count": 17,
     "metadata": {},
     "output_type": "execute_result"
    }
   ],
   "source": [
    "arr = np.arange(15).reshape((5, 3))\n",
    "arr"
   ]
  },
  {
   "cell_type": "code",
   "execution_count": 18,
   "id": "fa6d89d5-24aa-4b89-b570-bc5ad1089cdf",
   "metadata": {},
   "outputs": [
    {
     "data": {
      "text/plain": [
       "array([ 0,  1,  2,  3,  4,  5,  6,  7,  8,  9, 10, 11, 12, 13, 14])"
      ]
     },
     "execution_count": 18,
     "metadata": {},
     "output_type": "execute_result"
    }
   ],
   "source": [
    "arr.ravel()"
   ]
  },
  {
   "cell_type": "code",
   "execution_count": 19,
   "id": "7dc97ac1-537d-4f65-9658-38509ed947eb",
   "metadata": {},
   "outputs": [
    {
     "data": {
      "text/plain": [
       "array([ 0,  1,  2,  3,  4,  5,  6,  7,  8,  9, 10, 11, 12, 13, 14])"
      ]
     },
     "execution_count": 19,
     "metadata": {},
     "output_type": "execute_result"
    }
   ],
   "source": [
    "arr.flatten()"
   ]
  },
  {
   "cell_type": "markdown",
   "id": "243a981f-192a-46d9-b3ab-8c90027dc257",
   "metadata": {},
   "source": [
    "### C Versus FORTRAN Order"
   ]
  },
  {
   "cell_type": "code",
   "execution_count": 20,
   "id": "60a5f4cf-4cad-4455-ac73-9aef154a213a",
   "metadata": {},
   "outputs": [
    {
     "data": {
      "text/plain": [
       "array([[ 0,  1,  2,  3],\n",
       "       [ 4,  5,  6,  7],\n",
       "       [ 8,  9, 10, 11]])"
      ]
     },
     "execution_count": 20,
     "metadata": {},
     "output_type": "execute_result"
    }
   ],
   "source": [
    "arr = np.arange(12).reshape((3, 4))\n",
    "arr"
   ]
  },
  {
   "cell_type": "code",
   "execution_count": 21,
   "id": "2d0af161-3cf7-4585-a64a-e7c22fdc63df",
   "metadata": {},
   "outputs": [
    {
     "data": {
      "text/plain": [
       "array([ 0,  1,  2,  3,  4,  5,  6,  7,  8,  9, 10, 11])"
      ]
     },
     "execution_count": 21,
     "metadata": {},
     "output_type": "execute_result"
    }
   ],
   "source": [
    "arr.ravel()"
   ]
  },
  {
   "cell_type": "code",
   "execution_count": 22,
   "id": "836c7387-ebdc-449c-b404-c39b31c3512b",
   "metadata": {},
   "outputs": [
    {
     "data": {
      "text/plain": [
       "array([ 0,  4,  8,  1,  5,  9,  2,  6, 10,  3,  7, 11])"
      ]
     },
     "execution_count": 22,
     "metadata": {},
     "output_type": "execute_result"
    }
   ],
   "source": [
    "arr.ravel(\"F\")"
   ]
  },
  {
   "cell_type": "markdown",
   "id": "5fbff803-c4b9-4e49-911d-0ab5c74ead23",
   "metadata": {},
   "source": [
    "### Concatenating and Splitting Arrays"
   ]
  },
  {
   "cell_type": "code",
   "execution_count": 23,
   "id": "88329424-be46-4629-9843-67390a21b899",
   "metadata": {},
   "outputs": [],
   "source": [
    "arr1 = np.array([[1, 2, 3], [4, 5, 6]])\n",
    "arr2 = np.array([[7, 8, 9], [10, 11, 12]])"
   ]
  },
  {
   "cell_type": "code",
   "execution_count": 24,
   "id": "ea0b0a67-923a-44a2-b7bf-51c82f074f67",
   "metadata": {},
   "outputs": [
    {
     "data": {
      "text/plain": [
       "array([[ 1,  2,  3],\n",
       "       [ 4,  5,  6],\n",
       "       [ 7,  8,  9],\n",
       "       [10, 11, 12]])"
      ]
     },
     "execution_count": 24,
     "metadata": {},
     "output_type": "execute_result"
    }
   ],
   "source": [
    "np.concatenate([arr1, arr2], axis = 0)"
   ]
  },
  {
   "cell_type": "code",
   "execution_count": 25,
   "id": "f6102ae3-0c59-4c2c-8e37-5e3e04418c0b",
   "metadata": {},
   "outputs": [
    {
     "data": {
      "text/plain": [
       "array([[ 1,  2,  3,  7,  8,  9],\n",
       "       [ 4,  5,  6, 10, 11, 12]])"
      ]
     },
     "execution_count": 25,
     "metadata": {},
     "output_type": "execute_result"
    }
   ],
   "source": [
    "np.concatenate([arr1, arr2], axis = 1)"
   ]
  },
  {
   "cell_type": "code",
   "execution_count": 26,
   "id": "549a4c8b-88ba-4579-803e-15fb5bf28db1",
   "metadata": {},
   "outputs": [
    {
     "data": {
      "text/plain": [
       "array([[ 1,  2,  3],\n",
       "       [ 4,  5,  6],\n",
       "       [ 7,  8,  9],\n",
       "       [10, 11, 12]])"
      ]
     },
     "execution_count": 26,
     "metadata": {},
     "output_type": "execute_result"
    }
   ],
   "source": [
    "np.vstack((arr1, arr2))"
   ]
  },
  {
   "cell_type": "code",
   "execution_count": 27,
   "id": "84090e4d-4271-45be-acd5-bdda9aa5860b",
   "metadata": {},
   "outputs": [
    {
     "data": {
      "text/plain": [
       "array([[ 1,  2,  3,  7,  8,  9],\n",
       "       [ 4,  5,  6, 10, 11, 12]])"
      ]
     },
     "execution_count": 27,
     "metadata": {},
     "output_type": "execute_result"
    }
   ],
   "source": [
    "np.hstack((arr1, arr2))"
   ]
  },
  {
   "cell_type": "code",
   "execution_count": 28,
   "id": "60e4d905-f009-4fc4-8cb4-ad4593430bc2",
   "metadata": {},
   "outputs": [
    {
     "data": {
      "text/plain": [
       "array([[-1.4238,  1.2637],\n",
       "       [-0.8707, -0.2592],\n",
       "       [-0.0753, -0.7409],\n",
       "       [-1.3678,  0.6489],\n",
       "       [ 0.3611, -1.9529]])"
      ]
     },
     "execution_count": 28,
     "metadata": {},
     "output_type": "execute_result"
    }
   ],
   "source": [
    "arr = rng.standard_normal((5, 2))\n",
    "arr"
   ]
  },
  {
   "cell_type": "code",
   "execution_count": 32,
   "id": "0377fe13-17f2-4fe9-bd92-0922c278f23f",
   "metadata": {},
   "outputs": [],
   "source": [
    "first, second, third = np.split(arr, [1, 3])"
   ]
  },
  {
   "cell_type": "code",
   "execution_count": 33,
   "id": "80ac3e8a-23a8-4c04-9cc2-54a6a888beac",
   "metadata": {},
   "outputs": [
    {
     "data": {
      "text/plain": [
       "array([[-1.4238,  1.2637]])"
      ]
     },
     "execution_count": 33,
     "metadata": {},
     "output_type": "execute_result"
    }
   ],
   "source": [
    "first"
   ]
  },
  {
   "cell_type": "code",
   "execution_count": 34,
   "id": "327ba1df-18e7-4474-a132-ac4728665816",
   "metadata": {},
   "outputs": [
    {
     "data": {
      "text/plain": [
       "array([[-0.8707, -0.2592],\n",
       "       [-0.0753, -0.7409]])"
      ]
     },
     "execution_count": 34,
     "metadata": {},
     "output_type": "execute_result"
    }
   ],
   "source": [
    "second"
   ]
  },
  {
   "cell_type": "code",
   "execution_count": 35,
   "id": "954770ff-1ddd-47de-ba8b-2477472d2f38",
   "metadata": {},
   "outputs": [
    {
     "data": {
      "text/plain": [
       "array([[-1.3678,  0.6489],\n",
       "       [ 0.3611, -1.9529]])"
      ]
     },
     "execution_count": 35,
     "metadata": {},
     "output_type": "execute_result"
    }
   ],
   "source": [
    "third"
   ]
  },
  {
   "cell_type": "markdown",
   "id": "05c12fc2-7932-4975-af4a-eb829d319498",
   "metadata": {},
   "source": [
    "#### Stacking helpers: r_ and c_"
   ]
  },
  {
   "cell_type": "code",
   "execution_count": 37,
   "id": "a00c95c3-7235-46c8-94f0-b4be2ca9aacf",
   "metadata": {},
   "outputs": [
    {
     "data": {
      "text/plain": [
       "array([0, 1, 2, 3, 4, 5])"
      ]
     },
     "execution_count": 37,
     "metadata": {},
     "output_type": "execute_result"
    }
   ],
   "source": [
    "arr = np.arange(6)\n",
    "arr"
   ]
  },
  {
   "cell_type": "code",
   "execution_count": 39,
   "id": "990f9c70-55b0-48ea-ac9c-d1285bbfb859",
   "metadata": {},
   "outputs": [],
   "source": [
    "arr1 = arr.reshape((3, 2))\n",
    "arr2 = rng.standard_normal((3, 2))"
   ]
  },
  {
   "cell_type": "code",
   "execution_count": 41,
   "id": "4a95664b-1e5e-434e-90a9-f4e89c6d076b",
   "metadata": {},
   "outputs": [
    {
     "data": {
      "text/plain": [
       "array([[0, 1],\n",
       "       [2, 3],\n",
       "       [4, 5]])"
      ]
     },
     "execution_count": 41,
     "metadata": {},
     "output_type": "execute_result"
    }
   ],
   "source": [
    "arr1"
   ]
  },
  {
   "cell_type": "code",
   "execution_count": 42,
   "id": "abbb1d46-7a7d-4d1d-8bf2-01eb4e20b306",
   "metadata": {},
   "outputs": [
    {
     "data": {
      "text/plain": [
       "array([[ 2.3474,  0.9685],\n",
       "       [-0.7594,  0.9022],\n",
       "       [-0.467 , -0.0607]])"
      ]
     },
     "execution_count": 42,
     "metadata": {},
     "output_type": "execute_result"
    }
   ],
   "source": [
    "arr2"
   ]
  },
  {
   "cell_type": "code",
   "execution_count": 40,
   "id": "021bac7e-f4c0-416d-bb15-41d0ea82e7dd",
   "metadata": {},
   "outputs": [
    {
     "data": {
      "text/plain": [
       "array([[ 0.    ,  1.    ],\n",
       "       [ 2.    ,  3.    ],\n",
       "       [ 4.    ,  5.    ],\n",
       "       [ 2.3474,  0.9685],\n",
       "       [-0.7594,  0.9022],\n",
       "       [-0.467 , -0.0607]])"
      ]
     },
     "execution_count": 40,
     "metadata": {},
     "output_type": "execute_result"
    }
   ],
   "source": [
    "np.r_[arr1, arr2]"
   ]
  },
  {
   "cell_type": "code",
   "execution_count": 43,
   "id": "52e2ace9-d318-4975-b0c5-79c5d7fd300b",
   "metadata": {},
   "outputs": [
    {
     "data": {
      "text/plain": [
       "array([[ 0.    ,  1.    ,  0.    ],\n",
       "       [ 2.    ,  3.    ,  1.    ],\n",
       "       [ 4.    ,  5.    ,  2.    ],\n",
       "       [ 2.3474,  0.9685,  3.    ],\n",
       "       [-0.7594,  0.9022,  4.    ],\n",
       "       [-0.467 , -0.0607,  5.    ]])"
      ]
     },
     "execution_count": 43,
     "metadata": {},
     "output_type": "execute_result"
    }
   ],
   "source": [
    "np.c_[np.r_[arr1, arr2], arr]"
   ]
  },
  {
   "cell_type": "code",
   "execution_count": 44,
   "id": "3fa15c4c-3e87-400c-b0f9-6322b6b69a00",
   "metadata": {},
   "outputs": [
    {
     "data": {
      "text/plain": [
       "array([[  1, -10],\n",
       "       [  2,  -9],\n",
       "       [  3,  -8],\n",
       "       [  4,  -7],\n",
       "       [  5,  -6]])"
      ]
     },
     "execution_count": 44,
     "metadata": {},
     "output_type": "execute_result"
    }
   ],
   "source": [
    "np.c_[1:6, -10:-5]"
   ]
  },
  {
   "cell_type": "markdown",
   "id": "c8ab068f-7dbe-4fa6-bd1d-6dd3c9b8a14c",
   "metadata": {},
   "source": [
    "### Repeating Elements: <code>tile</code> and <code>repeat</code>"
   ]
  },
  {
   "cell_type": "code",
   "execution_count": 45,
   "id": "dbe6f236-a92e-48b3-afe7-d07a56882afb",
   "metadata": {},
   "outputs": [
    {
     "data": {
      "text/plain": [
       "array([0, 1, 2])"
      ]
     },
     "execution_count": 45,
     "metadata": {},
     "output_type": "execute_result"
    }
   ],
   "source": [
    "arr = np.arange(3)\n",
    "arr"
   ]
  },
  {
   "cell_type": "code",
   "execution_count": 46,
   "id": "0ccb5bb7-83bf-44f0-99fa-f3e4244fdf1d",
   "metadata": {},
   "outputs": [
    {
     "data": {
      "text/plain": [
       "array([0, 0, 0, 1, 1, 1, 2, 2, 2])"
      ]
     },
     "execution_count": 46,
     "metadata": {},
     "output_type": "execute_result"
    }
   ],
   "source": [
    "arr.repeat(3)"
   ]
  },
  {
   "cell_type": "code",
   "execution_count": 50,
   "id": "8078bfd8-1683-4ea4-a000-41c2b5015b8f",
   "metadata": {},
   "outputs": [
    {
     "data": {
      "text/plain": [
       "array([0, 0, 1, 1, 1, 2, 2, 2, 2])"
      ]
     },
     "execution_count": 50,
     "metadata": {},
     "output_type": "execute_result"
    }
   ],
   "source": [
    "arr.repeat([2, 3, 4])"
   ]
  },
  {
   "cell_type": "code",
   "execution_count": 51,
   "id": "02eed93f-ef65-4664-a61c-fe88b317634a",
   "metadata": {},
   "outputs": [
    {
     "data": {
      "text/plain": [
       "array([[ 0.7888, -1.2567],\n",
       "       [ 0.5759,  1.399 ]])"
      ]
     },
     "execution_count": 51,
     "metadata": {},
     "output_type": "execute_result"
    }
   ],
   "source": [
    "arr = rng.standard_normal((2, 2))\n",
    "arr"
   ]
  },
  {
   "cell_type": "code",
   "execution_count": 52,
   "id": "044fddba-9245-4e26-b45c-e272983908ba",
   "metadata": {},
   "outputs": [
    {
     "data": {
      "text/plain": [
       "array([[ 0.7888, -1.2567],\n",
       "       [ 0.7888, -1.2567],\n",
       "       [ 0.5759,  1.399 ],\n",
       "       [ 0.5759,  1.399 ]])"
      ]
     },
     "execution_count": 52,
     "metadata": {},
     "output_type": "execute_result"
    }
   ],
   "source": [
    "arr.repeat(2, axis = 0)"
   ]
  },
  {
   "cell_type": "code",
   "execution_count": 53,
   "id": "0625469e-9ebe-4659-8c2d-cb09b3b02375",
   "metadata": {},
   "outputs": [
    {
     "data": {
      "text/plain": [
       "array([[ 0.7888, -1.2567],\n",
       "       [ 0.7888, -1.2567],\n",
       "       [ 0.5759,  1.399 ],\n",
       "       [ 0.5759,  1.399 ],\n",
       "       [ 0.5759,  1.399 ]])"
      ]
     },
     "execution_count": 53,
     "metadata": {},
     "output_type": "execute_result"
    }
   ],
   "source": [
    "arr.repeat([2, 3], axis = 0)"
   ]
  },
  {
   "cell_type": "code",
   "execution_count": 54,
   "id": "e22b5c62-4575-4061-a6ba-153e1c851ed7",
   "metadata": {},
   "outputs": [
    {
     "data": {
      "text/plain": [
       "array([[ 0.7888,  0.7888, -1.2567, -1.2567, -1.2567],\n",
       "       [ 0.5759,  0.5759,  1.399 ,  1.399 ,  1.399 ]])"
      ]
     },
     "execution_count": 54,
     "metadata": {},
     "output_type": "execute_result"
    }
   ],
   "source": [
    "arr.repeat([2, 3], axis = 1)"
   ]
  },
  {
   "cell_type": "code",
   "execution_count": 55,
   "id": "c7d42516-be79-4516-81e9-df5c45f64eeb",
   "metadata": {},
   "outputs": [
    {
     "data": {
      "text/plain": [
       "array([[ 0.7888, -1.2567],\n",
       "       [ 0.5759,  1.399 ]])"
      ]
     },
     "execution_count": 55,
     "metadata": {},
     "output_type": "execute_result"
    }
   ],
   "source": [
    "arr"
   ]
  },
  {
   "cell_type": "code",
   "execution_count": 56,
   "id": "695eb18b-c29e-4c38-97bf-99c3fa384e63",
   "metadata": {},
   "outputs": [
    {
     "data": {
      "text/plain": [
       "array([[ 0.7888, -1.2567,  0.7888, -1.2567],\n",
       "       [ 0.5759,  1.399 ,  0.5759,  1.399 ]])"
      ]
     },
     "execution_count": 56,
     "metadata": {},
     "output_type": "execute_result"
    }
   ],
   "source": [
    "np.tile(arr, 2)"
   ]
  },
  {
   "cell_type": "code",
   "execution_count": 57,
   "id": "d7564da1-3b31-4fec-8157-ba8ce65c0414",
   "metadata": {},
   "outputs": [
    {
     "data": {
      "text/plain": [
       "array([[ 0.7888, -1.2567],\n",
       "       [ 0.5759,  1.399 ]])"
      ]
     },
     "execution_count": 57,
     "metadata": {},
     "output_type": "execute_result"
    }
   ],
   "source": [
    "arr"
   ]
  },
  {
   "cell_type": "code",
   "execution_count": 58,
   "id": "39d52345-cbcd-479e-a904-6edbe294f8c1",
   "metadata": {},
   "outputs": [
    {
     "data": {
      "text/plain": [
       "array([[ 0.7888, -1.2567],\n",
       "       [ 0.5759,  1.399 ],\n",
       "       [ 0.7888, -1.2567],\n",
       "       [ 0.5759,  1.399 ]])"
      ]
     },
     "execution_count": 58,
     "metadata": {},
     "output_type": "execute_result"
    }
   ],
   "source": [
    "np.tile(arr, (2, 1))"
   ]
  },
  {
   "cell_type": "code",
   "execution_count": 59,
   "id": "35c04b21-d436-4bf5-937d-a5274c3667da",
   "metadata": {},
   "outputs": [
    {
     "data": {
      "text/plain": [
       "array([[ 0.7888, -1.2567,  0.7888, -1.2567],\n",
       "       [ 0.5759,  1.399 ,  0.5759,  1.399 ],\n",
       "       [ 0.7888, -1.2567,  0.7888, -1.2567],\n",
       "       [ 0.5759,  1.399 ,  0.5759,  1.399 ],\n",
       "       [ 0.7888, -1.2567,  0.7888, -1.2567],\n",
       "       [ 0.5759,  1.399 ,  0.5759,  1.399 ]])"
      ]
     },
     "execution_count": 59,
     "metadata": {},
     "output_type": "execute_result"
    }
   ],
   "source": [
    "np.tile(arr, (3, 2))"
   ]
  },
  {
   "cell_type": "markdown",
   "id": "3d8936c6-0c89-408f-9c6b-554fedf9c88f",
   "metadata": {},
   "source": [
    "### Fancy Indexing Equivalents: <code>take</code> and <code>put</code>"
   ]
  },
  {
   "cell_type": "code",
   "execution_count": 60,
   "id": "8c23b60c-cbdc-4c7b-837c-0863ce6b5712",
   "metadata": {},
   "outputs": [
    {
     "data": {
      "text/plain": [
       "array([  0, 100, 200, 300, 400, 500, 600, 700, 800, 900])"
      ]
     },
     "execution_count": 60,
     "metadata": {},
     "output_type": "execute_result"
    }
   ],
   "source": [
    "arr = np.arange(10) * 100\n",
    "arr"
   ]
  },
  {
   "cell_type": "code",
   "execution_count": 62,
   "id": "78c44645-be82-4c4f-95a7-bb5f0f7a7d9e",
   "metadata": {},
   "outputs": [
    {
     "data": {
      "text/plain": [
       "[7, 1, 2, 6]"
      ]
     },
     "execution_count": 62,
     "metadata": {},
     "output_type": "execute_result"
    }
   ],
   "source": [
    "inds = [7, 1, 2, 6]\n",
    "inds"
   ]
  },
  {
   "cell_type": "code",
   "execution_count": 63,
   "id": "d950db5d-d177-435e-ba8b-6d1b8d3aca07",
   "metadata": {},
   "outputs": [
    {
     "data": {
      "text/plain": [
       "array([700, 100, 200, 600])"
      ]
     },
     "execution_count": 63,
     "metadata": {},
     "output_type": "execute_result"
    }
   ],
   "source": [
    "arr[inds]"
   ]
  },
  {
   "cell_type": "code",
   "execution_count": 64,
   "id": "ec7c5700-cfe6-414d-8e24-b3f99c3ab310",
   "metadata": {},
   "outputs": [
    {
     "data": {
      "text/plain": [
       "array([700, 100, 200, 600])"
      ]
     },
     "execution_count": 64,
     "metadata": {},
     "output_type": "execute_result"
    }
   ],
   "source": [
    "arr.take(inds)"
   ]
  },
  {
   "cell_type": "code",
   "execution_count": 66,
   "id": "12a92011-964a-4ed2-b033-d9209946f74b",
   "metadata": {},
   "outputs": [
    {
     "data": {
      "text/plain": [
       "array([  0,  42,  42, 300, 400, 500,  42,  42, 800, 900])"
      ]
     },
     "execution_count": 66,
     "metadata": {},
     "output_type": "execute_result"
    }
   ],
   "source": [
    "arr.put(inds, 42)\n",
    "arr"
   ]
  },
  {
   "cell_type": "code",
   "execution_count": 68,
   "id": "992a13b9-f0eb-4627-bfda-d417b8b50d94",
   "metadata": {},
   "outputs": [
    {
     "data": {
      "text/plain": [
       "array([  0,  41,  42, 300, 400, 500,  43,  40, 800, 900])"
      ]
     },
     "execution_count": 68,
     "metadata": {},
     "output_type": "execute_result"
    }
   ],
   "source": [
    "arr.put(inds, [40, 41, 42, 43])\n",
    "arr"
   ]
  },
  {
   "cell_type": "code",
   "execution_count": 69,
   "id": "622394fd-808d-4054-b4b5-dc37ed79e74a",
   "metadata": {},
   "outputs": [],
   "source": [
    "inds = [2, 0, 2, 1]"
   ]
  },
  {
   "cell_type": "code",
   "execution_count": 70,
   "id": "6fd0f26c-4183-42c1-b85f-955074ffc74e",
   "metadata": {},
   "outputs": [
    {
     "data": {
      "text/plain": [
       "array([[ 1.3223, -0.2997,  0.9029, -1.6216],\n",
       "       [-0.1582,  0.4495, -1.3436, -0.0817]])"
      ]
     },
     "execution_count": 70,
     "metadata": {},
     "output_type": "execute_result"
    }
   ],
   "source": [
    "arr = rng.standard_normal((2, 4))\n",
    "arr"
   ]
  },
  {
   "cell_type": "code",
   "execution_count": 71,
   "id": "a98c657a-eafd-41a3-9fff-d90931ee9261",
   "metadata": {},
   "outputs": [
    {
     "data": {
      "text/plain": [
       "array([[ 0.9029,  1.3223,  0.9029, -0.2997],\n",
       "       [-1.3436, -0.1582, -1.3436,  0.4495]])"
      ]
     },
     "execution_count": 71,
     "metadata": {},
     "output_type": "execute_result"
    }
   ],
   "source": [
    "arr.take(inds, axis = 1)"
   ]
  },
  {
   "cell_type": "markdown",
   "id": "cab56051-db24-4e90-b18a-f8851dbc6d7d",
   "metadata": {},
   "source": [
    "## A.3 Broadcasting"
   ]
  },
  {
   "cell_type": "code",
   "execution_count": 72,
   "id": "4dc2f553-1e4f-4f81-94ab-693e4ff51b87",
   "metadata": {},
   "outputs": [
    {
     "data": {
      "text/plain": [
       "array([0, 1, 2, 3, 4])"
      ]
     },
     "execution_count": 72,
     "metadata": {},
     "output_type": "execute_result"
    }
   ],
   "source": [
    "arr = np.arange(5)\n",
    "arr"
   ]
  },
  {
   "cell_type": "code",
   "execution_count": 73,
   "id": "55b06d09-c8f1-48a0-bb1a-374c24897143",
   "metadata": {},
   "outputs": [
    {
     "data": {
      "text/plain": [
       "array([ 0,  4,  8, 12, 16])"
      ]
     },
     "execution_count": 73,
     "metadata": {},
     "output_type": "execute_result"
    }
   ],
   "source": [
    "arr * 4"
   ]
  },
  {
   "cell_type": "code",
   "execution_count": 74,
   "id": "8b716155-9c8b-4df3-ac69-59a745632a14",
   "metadata": {},
   "outputs": [
    {
     "data": {
      "text/plain": [
       "array([[ 1.7247,  2.6182,  0.7774],\n",
       "       [ 0.8286, -0.959 , -1.2094],\n",
       "       [-1.4123,  0.5415,  0.7519],\n",
       "       [-0.6588, -1.2287,  0.2576]])"
      ]
     },
     "execution_count": 74,
     "metadata": {},
     "output_type": "execute_result"
    }
   ],
   "source": [
    "arr = rng.standard_normal((4, 3))\n",
    "arr"
   ]
  },
  {
   "cell_type": "code",
   "execution_count": 75,
   "id": "bdd2d9b6-8045-49a3-b1a9-14d1c36a06e5",
   "metadata": {},
   "outputs": [
    {
     "data": {
      "text/plain": [
       "array([0.1206, 0.243 , 0.1444])"
      ]
     },
     "execution_count": 75,
     "metadata": {},
     "output_type": "execute_result"
    }
   ],
   "source": [
    "arr.mean(0)"
   ]
  },
  {
   "cell_type": "code",
   "execution_count": 77,
   "id": "5dea7432-5e57-4d97-affe-5ec961bcee9b",
   "metadata": {},
   "outputs": [
    {
     "data": {
      "text/plain": [
       "array([[ 1.6042,  2.3751,  0.633 ],\n",
       "       [ 0.7081, -1.202 , -1.3538],\n",
       "       [-1.5329,  0.2985,  0.6076],\n",
       "       [-0.7793, -1.4717,  0.1132]])"
      ]
     },
     "execution_count": 77,
     "metadata": {},
     "output_type": "execute_result"
    }
   ],
   "source": [
    "demeaned = arr - arr.mean(0)\n",
    "demeaned"
   ]
  },
  {
   "cell_type": "code",
   "execution_count": 78,
   "id": "f8f11040-4ed5-44fb-afb9-71d22d7585a2",
   "metadata": {},
   "outputs": [
    {
     "data": {
      "text/plain": [
       "array([[ 1.7247,  2.6182,  0.7774],\n",
       "       [ 0.8286, -0.959 , -1.2094],\n",
       "       [-1.4123,  0.5415,  0.7519],\n",
       "       [-0.6588, -1.2287,  0.2576]])"
      ]
     },
     "execution_count": 78,
     "metadata": {},
     "output_type": "execute_result"
    }
   ],
   "source": [
    "arr"
   ]
  },
  {
   "cell_type": "code",
   "execution_count": 80,
   "id": "957eee1b-f4fd-4647-a647-86b21ea03099",
   "metadata": {},
   "outputs": [
    {
     "data": {
      "text/plain": [
       "array([ 1.7068, -0.4466, -0.0396, -0.5433])"
      ]
     },
     "execution_count": 80,
     "metadata": {},
     "output_type": "execute_result"
    }
   ],
   "source": [
    "row_means = arr.mean(1)\n",
    "row_means"
   ]
  },
  {
   "cell_type": "code",
   "execution_count": 81,
   "id": "f797f552-22ad-4894-9103-b3f30795cfa2",
   "metadata": {},
   "outputs": [
    {
     "data": {
      "text/plain": [
       "(4,)"
      ]
     },
     "execution_count": 81,
     "metadata": {},
     "output_type": "execute_result"
    }
   ],
   "source": [
    "row_means.shape"
   ]
  },
  {
   "cell_type": "code",
   "execution_count": 82,
   "id": "63f40043-1167-47cd-844c-d0e782bb075f",
   "metadata": {},
   "outputs": [
    {
     "data": {
      "text/plain": [
       "array([[ 1.7068],\n",
       "       [-0.4466],\n",
       "       [-0.0396],\n",
       "       [-0.5433]])"
      ]
     },
     "execution_count": 82,
     "metadata": {},
     "output_type": "execute_result"
    }
   ],
   "source": [
    "row_means.reshape((4, 1))"
   ]
  },
  {
   "cell_type": "code",
   "execution_count": 83,
   "id": "40f041ad-cfca-4153-9352-6e1bf0f1232f",
   "metadata": {},
   "outputs": [],
   "source": [
    "demeaned = arr - row_means.reshape((4, 1))"
   ]
  },
  {
   "cell_type": "code",
   "execution_count": 84,
   "id": "782dad29-4a3c-4eb5-93ed-bc55ef64fa82",
   "metadata": {},
   "outputs": [
    {
     "data": {
      "text/plain": [
       "array([-0.,  0.,  0.,  0.])"
      ]
     },
     "execution_count": 84,
     "metadata": {},
     "output_type": "execute_result"
    }
   ],
   "source": [
    "demeaned.mean(1)"
   ]
  },
  {
   "cell_type": "markdown",
   "id": "3de7c6cd-1aa5-4a5c-a4c5-aeb1f560bdc0",
   "metadata": {},
   "source": [
    "### Broadcasting over Other Axes"
   ]
  },
  {
   "cell_type": "code",
   "execution_count": 85,
   "id": "d17139a6-74a2-4176-94a2-a892e12841bf",
   "metadata": {},
   "outputs": [
    {
     "data": {
      "text/plain": [
       "array([[ 1.7247,  2.6182,  0.7774],\n",
       "       [ 0.8286, -0.959 , -1.2094],\n",
       "       [-1.4123,  0.5415,  0.7519],\n",
       "       [-0.6588, -1.2287,  0.2576]])"
      ]
     },
     "execution_count": 85,
     "metadata": {},
     "output_type": "execute_result"
    }
   ],
   "source": [
    "arr"
   ]
  },
  {
   "cell_type": "code",
   "execution_count": 86,
   "id": "de6af44e-8f85-481c-94ae-446f22fbe8f3",
   "metadata": {},
   "outputs": [
    {
     "data": {
      "text/plain": [
       "array([ 1.7068, -0.4466, -0.0396, -0.5433])"
      ]
     },
     "execution_count": 86,
     "metadata": {},
     "output_type": "execute_result"
    }
   ],
   "source": [
    "arr.mean(1)"
   ]
  },
  {
   "cell_type": "code",
   "execution_count": 90,
   "id": "c1d3aa2f-d3a0-48cf-a814-77e78cf25de3",
   "metadata": {},
   "outputs": [],
   "source": [
    "# Will return an error:\n",
    "# arr - arr.mean(1)"
   ]
  },
  {
   "cell_type": "code",
   "execution_count": 92,
   "id": "bfeb6266-688c-4e8f-b0f8-f0df05569fa0",
   "metadata": {},
   "outputs": [
    {
     "data": {
      "text/plain": [
       "array([[ 0.018 ,  0.9114, -0.9294],\n",
       "       [ 1.2752, -0.5124, -0.7628],\n",
       "       [-1.3727,  0.5811,  0.7915],\n",
       "       [-0.1155, -0.6854,  0.8009]])"
      ]
     },
     "execution_count": 92,
     "metadata": {},
     "output_type": "execute_result"
    }
   ],
   "source": [
    "arr - arr.mean(1).reshape((4, 1))"
   ]
  },
  {
   "cell_type": "code",
   "execution_count": 94,
   "id": "3df9ba0e-98a3-42d2-b8a1-13886b42d502",
   "metadata": {},
   "outputs": [
    {
     "data": {
      "text/plain": [
       "array([[0., 0., 0., 0.],\n",
       "       [0., 0., 0., 0.],\n",
       "       [0., 0., 0., 0.],\n",
       "       [0., 0., 0., 0.]])"
      ]
     },
     "execution_count": 94,
     "metadata": {},
     "output_type": "execute_result"
    }
   ],
   "source": [
    "arr = np.zeros((4, 4))\n",
    "arr"
   ]
  },
  {
   "cell_type": "code",
   "execution_count": 95,
   "id": "19177e83-ab7b-4411-9e50-e4afc21f6081",
   "metadata": {},
   "outputs": [],
   "source": [
    "arr_3d = arr[:, np.newaxis, :]"
   ]
  },
  {
   "cell_type": "code",
   "execution_count": 96,
   "id": "e13273c8-23e7-442f-809c-e465da56cada",
   "metadata": {},
   "outputs": [
    {
     "data": {
      "text/plain": [
       "(4, 1, 4)"
      ]
     },
     "execution_count": 96,
     "metadata": {},
     "output_type": "execute_result"
    }
   ],
   "source": [
    "arr_3d.shape"
   ]
  },
  {
   "cell_type": "code",
   "execution_count": 99,
   "id": "72ac0bba-7174-4552-b9c9-ce2c6c271636",
   "metadata": {},
   "outputs": [
    {
     "data": {
      "text/plain": [
       "array([-0.093 , -0.0662, -1.1082])"
      ]
     },
     "execution_count": 99,
     "metadata": {},
     "output_type": "execute_result"
    }
   ],
   "source": [
    "arr_1d = rng.standard_normal(3)\n",
    "arr_1d"
   ]
  },
  {
   "cell_type": "code",
   "execution_count": 100,
   "id": "e7ea8bc7-f9c5-4096-b86c-660268ff25c8",
   "metadata": {},
   "outputs": [
    {
     "data": {
      "text/plain": [
       "array([[-0.093 ],\n",
       "       [-0.0662],\n",
       "       [-1.1082]])"
      ]
     },
     "execution_count": 100,
     "metadata": {},
     "output_type": "execute_result"
    }
   ],
   "source": [
    "arr_1d[:, np.newaxis]"
   ]
  },
  {
   "cell_type": "code",
   "execution_count": 101,
   "id": "174f52c4-c32b-47ba-8aa0-29c4f029f6a0",
   "metadata": {},
   "outputs": [
    {
     "data": {
      "text/plain": [
       "(3,)"
      ]
     },
     "execution_count": 101,
     "metadata": {},
     "output_type": "execute_result"
    }
   ],
   "source": [
    "arr_1d.shape"
   ]
  },
  {
   "cell_type": "code",
   "execution_count": 102,
   "id": "5552e0ce-ee9d-4446-985a-44133046d38d",
   "metadata": {},
   "outputs": [
    {
     "data": {
      "text/plain": [
       "array([[-0.093 , -0.0662, -1.1082]])"
      ]
     },
     "execution_count": 102,
     "metadata": {},
     "output_type": "execute_result"
    }
   ],
   "source": [
    "arr_1d[np.newaxis, :]"
   ]
  },
  {
   "cell_type": "code",
   "execution_count": 103,
   "id": "0fbe9801-6282-49d1-ac3f-e56a80de2806",
   "metadata": {},
   "outputs": [],
   "source": [
    "arr = rng.standard_normal((3, 4, 5))"
   ]
  },
  {
   "cell_type": "code",
   "execution_count": 105,
   "id": "ec5c6855-7ec8-4daa-a727-f7d12d4a9699",
   "metadata": {},
   "outputs": [
    {
     "data": {
      "text/plain": [
       "array([[[ 0.136 ,  1.3471,  0.0611,  0.0709,  0.4337],\n",
       "        [ 0.2775,  0.5303,  0.5367,  0.6184, -0.795 ],\n",
       "        [ 0.3   , -1.6027,  0.2668, -1.2616, -0.0713],\n",
       "        [ 0.474 , -0.4149,  0.0977, -1.6404, -0.8573]],\n",
       "\n",
       "       [[ 0.6883, -1.1545,  0.6505, -1.3884, -0.9074],\n",
       "        [-1.0954,  0.0071,  0.5344, -1.0658, -0.1815],\n",
       "        [ 1.622 , -0.3174, -0.8158,  0.3866, -0.2236],\n",
       "        [-0.7017, -1.7957,  0.8183, -0.571 ,  0.0008]],\n",
       "\n",
       "       [[-1.0636,  1.3017,  0.7479,  0.9809, -0.1104],\n",
       "        [ 0.4679,  0.8906,  1.023 ,  0.3124, -0.0619],\n",
       "        [-0.3595, -0.7486, -0.9655,  0.36  , -0.2446],\n",
       "        [-1.9959, -0.1552,  1.0638, -0.2752, -1.8533]]])"
      ]
     },
     "execution_count": 105,
     "metadata": {},
     "output_type": "execute_result"
    }
   ],
   "source": [
    "arr"
   ]
  },
  {
   "cell_type": "code",
   "execution_count": 104,
   "id": "9521b599-5f4c-4019-9d88-93171df77636",
   "metadata": {},
   "outputs": [
    {
     "data": {
      "text/plain": [
       "array([[ 0.4097,  0.2336, -0.4738, -0.4682],\n",
       "       [-0.4223, -0.3602,  0.1303, -0.4499],\n",
       "       [ 0.3713,  0.5264, -0.3916, -0.6432]])"
      ]
     },
     "execution_count": 104,
     "metadata": {},
     "output_type": "execute_result"
    }
   ],
   "source": [
    "depth_means = arr.mean(2)\n",
    "depth_means"
   ]
  },
  {
   "cell_type": "code",
   "execution_count": 106,
   "id": "e6be4911-46bd-4c71-b1ab-e45acb2be02c",
   "metadata": {},
   "outputs": [
    {
     "data": {
      "text/plain": [
       "(3, 4)"
      ]
     },
     "execution_count": 106,
     "metadata": {},
     "output_type": "execute_result"
    }
   ],
   "source": [
    "depth_means.shape"
   ]
  },
  {
   "cell_type": "code",
   "execution_count": 107,
   "id": "ab94774e-16e6-4171-a748-6a3af8d78a8c",
   "metadata": {},
   "outputs": [
    {
     "data": {
      "text/plain": [
       "array([[ 0., -0., -0., -0.],\n",
       "       [-0.,  0.,  0., -0.],\n",
       "       [ 0., -0., -0.,  0.]])"
      ]
     },
     "execution_count": 107,
     "metadata": {},
     "output_type": "execute_result"
    }
   ],
   "source": [
    "demeaned = arr - depth_means[:, :, np.newaxis]\n",
    "demeaned.mean(2)"
   ]
  },
  {
   "cell_type": "code",
   "execution_count": 108,
   "id": "cbf34e57-8d9e-4073-9d54-988cf9f93d23",
   "metadata": {},
   "outputs": [],
   "source": [
    "def demean_axis(arr, axis = 0):\n",
    "    means = arr.mean(axis)\n",
    "    \n",
    "    # This generalizes things like [:, :, np.newaxis] to N dimensions\n",
    "    indexer = [slice(None)] * arr.ndim\n",
    "    indexer[axis] = np.newaxis\n",
    "    return arr - means[indexer]"
   ]
  },
  {
   "cell_type": "markdown",
   "id": "c6d40447-d5c4-41eb-bbbf-ccbb00ee9107",
   "metadata": {},
   "source": [
    "### Setting Array Values by Broadcasting"
   ]
  },
  {
   "cell_type": "code",
   "execution_count": 109,
   "id": "70ccaff1-68cd-416d-948c-3caf92c71c1d",
   "metadata": {},
   "outputs": [
    {
     "data": {
      "text/plain": [
       "array([[0., 0., 0.],\n",
       "       [0., 0., 0.],\n",
       "       [0., 0., 0.],\n",
       "       [0., 0., 0.]])"
      ]
     },
     "execution_count": 109,
     "metadata": {},
     "output_type": "execute_result"
    }
   ],
   "source": [
    "arr = np.zeros((4, 3))\n",
    "arr"
   ]
  },
  {
   "cell_type": "code",
   "execution_count": 110,
   "id": "51139fdf-93d5-4162-8a7d-557850dedbcb",
   "metadata": {},
   "outputs": [],
   "source": [
    "arr[:] = 5"
   ]
  },
  {
   "cell_type": "code",
   "execution_count": 111,
   "id": "edda1e71-e463-4a75-8fcd-7afa171455dc",
   "metadata": {},
   "outputs": [
    {
     "data": {
      "text/plain": [
       "array([[5., 5., 5.],\n",
       "       [5., 5., 5.],\n",
       "       [5., 5., 5.],\n",
       "       [5., 5., 5.]])"
      ]
     },
     "execution_count": 111,
     "metadata": {},
     "output_type": "execute_result"
    }
   ],
   "source": [
    "arr"
   ]
  },
  {
   "cell_type": "code",
   "execution_count": 112,
   "id": "a5b9a78c-a069-4eb5-b634-d869204c2593",
   "metadata": {},
   "outputs": [
    {
     "data": {
      "text/plain": [
       "array([ 1.28, -0.42,  0.44,  1.6 ])"
      ]
     },
     "execution_count": 112,
     "metadata": {},
     "output_type": "execute_result"
    }
   ],
   "source": [
    "col = np.array([1.28, -0.42, 0.44, 1.6])\n",
    "col"
   ]
  },
  {
   "cell_type": "code",
   "execution_count": 113,
   "id": "a8e984bc-e973-4463-937c-b410b6fdd1a0",
   "metadata": {},
   "outputs": [
    {
     "data": {
      "text/plain": [
       "array([[ 1.28,  1.28,  1.28],\n",
       "       [-0.42, -0.42, -0.42],\n",
       "       [ 0.44,  0.44,  0.44],\n",
       "       [ 1.6 ,  1.6 ,  1.6 ]])"
      ]
     },
     "execution_count": 113,
     "metadata": {},
     "output_type": "execute_result"
    }
   ],
   "source": [
    "arr[:] = col[:, np.newaxis]\n",
    "arr"
   ]
  },
  {
   "cell_type": "markdown",
   "id": "a72b4d61-736e-4c5a-94e7-7a9e66035b55",
   "metadata": {},
   "source": [
    "## A.4 Advanced ufunc Usage"
   ]
  },
  {
   "cell_type": "markdown",
   "id": "aefc2396-b5d8-4d58-ab06-b35f36b1cde6",
   "metadata": {},
   "source": [
    "### ufunc Instance Methods"
   ]
  },
  {
   "cell_type": "code",
   "execution_count": 114,
   "id": "1e11229b-d49d-40e5-8e1d-77dba854490f",
   "metadata": {},
   "outputs": [],
   "source": [
    "arr = np.arange(10)"
   ]
  },
  {
   "cell_type": "code",
   "execution_count": 115,
   "id": "3278f712-d695-48cf-856e-5c9dd24863c8",
   "metadata": {},
   "outputs": [
    {
     "data": {
      "text/plain": [
       "45"
      ]
     },
     "execution_count": 115,
     "metadata": {},
     "output_type": "execute_result"
    }
   ],
   "source": [
    "np.add.reduce(arr)"
   ]
  },
  {
   "cell_type": "code",
   "execution_count": 116,
   "id": "2eed9a68-29a4-458f-bf2b-980c2d6a90da",
   "metadata": {},
   "outputs": [
    {
     "data": {
      "text/plain": [
       "45"
      ]
     },
     "execution_count": 116,
     "metadata": {},
     "output_type": "execute_result"
    }
   ],
   "source": [
    "arr.sum()"
   ]
  },
  {
   "cell_type": "code",
   "execution_count": null,
   "id": "9c047d28-c461-4f08-a601-9998a6ea1bfe",
   "metadata": {},
   "outputs": [],
   "source": []
  }
 ],
 "metadata": {
  "kernelspec": {
   "display_name": "Python 3 (ipykernel)",
   "language": "python",
   "name": "python3"
  },
  "language_info": {
   "codemirror_mode": {
    "name": "ipython",
    "version": 3
   },
   "file_extension": ".py",
   "mimetype": "text/x-python",
   "name": "python",
   "nbconvert_exporter": "python",
   "pygments_lexer": "ipython3",
   "version": "3.9.13"
  }
 },
 "nbformat": 4,
 "nbformat_minor": 5
}
