{
 "cells": [
  {
   "cell_type": "markdown",
   "id": "54d90d12-1edd-4563-a9ff-ed58bd346b81",
   "metadata": {},
   "source": [
    "# Python Data Science Handbook"
   ]
  },
  {
   "cell_type": "markdown",
   "id": "658ab407-bab9-4e37-88a9-700652724c50",
   "metadata": {},
   "source": [
    "## 1. Jupyter: Beyond Normal Python"
   ]
  },
  {
   "cell_type": "markdown",
   "id": "4c327ec1-9e62-4cc9-8601-84dae31be0b6",
   "metadata": {},
   "source": [
    "### Chapter 1"
   ]
  },
  {
   "cell_type": "markdown",
   "id": "1ddad8d3-fa2b-4917-a138-f5ba82ef92be",
   "metadata": {},
   "source": [
    "### Accessing Documentation with ?"
   ]
  },
  {
   "cell_type": "code",
   "execution_count": 2,
   "id": "ec78e033-7d70-4a0b-be6d-b0af9264659e",
   "metadata": {},
   "outputs": [
    {
     "name": "stdout",
     "output_type": "stream",
     "text": [
      "Help on built-in function len in module builtins:\n",
      "\n",
      "len(obj, /)\n",
      "    Return the number of items in a container.\n",
      "\n"
     ]
    }
   ],
   "source": [
    "help(len)"
   ]
  },
  {
   "cell_type": "code",
   "execution_count": 3,
   "id": "efd20690-109d-47cb-b99e-4ffcabd45c18",
   "metadata": {},
   "outputs": [
    {
     "data": {
      "text/plain": [
       "\u001b[1;31mSignature:\u001b[0m \u001b[0mlen\u001b[0m\u001b[1;33m(\u001b[0m\u001b[0mobj\u001b[0m\u001b[1;33m,\u001b[0m \u001b[1;33m/\u001b[0m\u001b[1;33m)\u001b[0m\u001b[1;33m\u001b[0m\u001b[1;33m\u001b[0m\u001b[0m\n",
       "\u001b[1;31mDocstring:\u001b[0m Return the number of items in a container.\n",
       "\u001b[1;31mType:\u001b[0m      builtin_function_or_method\n"
      ]
     },
     "metadata": {},
     "output_type": "display_data"
    }
   ],
   "source": [
    "len?"
   ]
  },
  {
   "cell_type": "code",
   "execution_count": 5,
   "id": "7124cd99-9fb3-4cd6-954a-f954937b2605",
   "metadata": {},
   "outputs": [
    {
     "data": {
      "text/plain": [
       "\u001b[1;31mSignature:\u001b[0m \u001b[0mL\u001b[0m\u001b[1;33m.\u001b[0m\u001b[0minsert\u001b[0m\u001b[1;33m(\u001b[0m\u001b[0mindex\u001b[0m\u001b[1;33m,\u001b[0m \u001b[0mobject\u001b[0m\u001b[1;33m,\u001b[0m \u001b[1;33m/\u001b[0m\u001b[1;33m)\u001b[0m\u001b[1;33m\u001b[0m\u001b[1;33m\u001b[0m\u001b[0m\n",
       "\u001b[1;31mDocstring:\u001b[0m Insert object before index.\n",
       "\u001b[1;31mType:\u001b[0m      builtin_function_or_method\n"
      ]
     },
     "metadata": {},
     "output_type": "display_data"
    }
   ],
   "source": [
    "L = [1, 2, 3]\n",
    "L.insert?"
   ]
  },
  {
   "cell_type": "code",
   "execution_count": 7,
   "id": "c064c55e-25d4-4634-816a-be6f3091b977",
   "metadata": {},
   "outputs": [
    {
     "data": {
      "text/plain": [
       "\u001b[1;31mType:\u001b[0m        list\n",
       "\u001b[1;31mString form:\u001b[0m [1, 2, 3]\n",
       "\u001b[1;31mLength:\u001b[0m      3\n",
       "\u001b[1;31mDocstring:\u001b[0m  \n",
       "Built-in mutable sequence.\n",
       "\n",
       "If no argument is given, the constructor creates a new empty list.\n",
       "The argument must be an iterable if specified.\n"
      ]
     },
     "metadata": {},
     "output_type": "display_data"
    }
   ],
   "source": [
    "L = [1, 2, 3]\n",
    "L?"
   ]
  },
  {
   "cell_type": "code",
   "execution_count": 8,
   "id": "20667ce4-a2da-41e3-8167-a1154073e1e0",
   "metadata": {},
   "outputs": [],
   "source": [
    "def square(a):\n",
    "    \"\"\"Return the square of a.\"\"\"\n",
    "    return a ** 2"
   ]
  },
  {
   "cell_type": "code",
   "execution_count": 9,
   "id": "d15347c3-2adb-48c8-a02b-878a5553b4f0",
   "metadata": {},
   "outputs": [
    {
     "data": {
      "text/plain": [
       "\u001b[1;31mSignature:\u001b[0m \u001b[0msquare\u001b[0m\u001b[1;33m(\u001b[0m\u001b[0ma\u001b[0m\u001b[1;33m)\u001b[0m\u001b[1;33m\u001b[0m\u001b[1;33m\u001b[0m\u001b[0m\n",
       "\u001b[1;31mDocstring:\u001b[0m Return the square of a.\n",
       "\u001b[1;31mFile:\u001b[0m      c:\\users\\vanli\\appdata\\local\\temp\\ipykernel_11552\\1116730004.py\n",
       "\u001b[1;31mType:\u001b[0m      function\n"
      ]
     },
     "metadata": {},
     "output_type": "display_data"
    }
   ],
   "source": [
    "square?"
   ]
  },
  {
   "cell_type": "markdown",
   "id": "0eaf6b30-3933-4457-b0e2-e88dd3e88445",
   "metadata": {},
   "source": [
    "### Accessing Source Code with ??"
   ]
  },
  {
   "cell_type": "code",
   "execution_count": 10,
   "id": "a7344cf9-6238-4745-96f9-9055727de2d3",
   "metadata": {},
   "outputs": [
    {
     "data": {
      "text/plain": [
       "\u001b[1;31mSignature:\u001b[0m \u001b[0msquare\u001b[0m\u001b[1;33m(\u001b[0m\u001b[0ma\u001b[0m\u001b[1;33m)\u001b[0m\u001b[1;33m\u001b[0m\u001b[1;33m\u001b[0m\u001b[0m\n",
       "\u001b[1;31mSource:\u001b[0m   \n",
       "\u001b[1;32mdef\u001b[0m \u001b[0msquare\u001b[0m\u001b[1;33m(\u001b[0m\u001b[0ma\u001b[0m\u001b[1;33m)\u001b[0m\u001b[1;33m:\u001b[0m\u001b[1;33m\n",
       "\u001b[0m    \u001b[1;34m\"\"\"Return the square of a.\"\"\"\u001b[0m\u001b[1;33m\n",
       "\u001b[0m    \u001b[1;32mreturn\u001b[0m \u001b[0ma\u001b[0m \u001b[1;33m**\u001b[0m \u001b[1;36m2\u001b[0m\u001b[1;33m\u001b[0m\u001b[1;33m\u001b[0m\u001b[0m\n",
       "\u001b[1;31mFile:\u001b[0m      c:\\users\\vanli\\appdata\\local\\temp\\ipykernel_11552\\1116730004.py\n",
       "\u001b[1;31mType:\u001b[0m      function\n"
      ]
     },
     "metadata": {},
     "output_type": "display_data"
    }
   ],
   "source": [
    "square??"
   ]
  },
  {
   "cell_type": "markdown",
   "id": "d80773da-0213-4926-abc5-821d4226769f",
   "metadata": {},
   "source": [
    "### Exploring Modules with Tab Completion"
   ]
  },
  {
   "cell_type": "code",
   "execution_count": null,
   "id": "ee4bbfb5-7f23-4198-becb-368f99dc2840",
   "metadata": {},
   "outputs": [],
   "source": [
    "L. # Press TAB"
   ]
  },
  {
   "cell_type": "code",
   "execution_count": null,
   "id": "95152d99-6219-46da-9964-d47f1d90402a",
   "metadata": {},
   "outputs": [],
   "source": [
    "L.c"
   ]
  },
  {
   "cell_type": "code",
   "execution_count": null,
   "id": "ce7c0f2f-bc7c-4f4e-a2fb-dc077d7ad4f1",
   "metadata": {},
   "outputs": [],
   "source": [
    "from itertools import co\n",
    "\n",
    "from numpy import \n",
    "\n",
    "import "
   ]
  },
  {
   "cell_type": "code",
   "execution_count": 13,
   "id": "689ab65e-cf12-4063-9d0c-055c77c151a6",
   "metadata": {},
   "outputs": [
    {
     "data": {
      "text/plain": [
       "BytesWarning\n",
       "DeprecationWarning\n",
       "FutureWarning\n",
       "ImportWarning\n",
       "PendingDeprecationWarning\n",
       "ResourceWarning\n",
       "RuntimeWarning\n",
       "SyntaxWarning\n",
       "UnicodeWarning\n",
       "UserWarning\n",
       "Warning"
      ]
     },
     "metadata": {},
     "output_type": "display_data"
    }
   ],
   "source": [
    "*Warning?"
   ]
  },
  {
   "cell_type": "code",
   "execution_count": 14,
   "id": "6bbdd9b1-5790-4ee4-b162-ec59d087eb62",
   "metadata": {},
   "outputs": [
    {
     "data": {
      "text/plain": []
     },
     "metadata": {},
     "output_type": "display_data"
    }
   ],
   "source": [
    "*pandas?"
   ]
  },
  {
   "cell_type": "code",
   "execution_count": 15,
   "id": "bca8084f-cc0a-44a6-ba3e-6b660993330d",
   "metadata": {},
   "outputs": [
    {
     "data": {
      "text/plain": [
       "str.find\n",
       "str.rfind"
      ]
     },
     "metadata": {},
     "output_type": "display_data"
    }
   ],
   "source": [
    "str.*find*?"
   ]
  },
  {
   "cell_type": "markdown",
   "id": "355184e3-2cc0-4502-8a37-fd8746e50459",
   "metadata": {},
   "source": [
    "### Chapter 2"
   ]
  },
  {
   "cell_type": "code",
   "execution_count": null,
   "id": "c0e351b4-2077-4b78-b083-8589ecb01091",
   "metadata": {},
   "outputs": [],
   "source": []
  }
 ],
 "metadata": {
  "kernelspec": {
   "display_name": "Python 3 (ipykernel)",
   "language": "python",
   "name": "python3"
  },
  "language_info": {
   "codemirror_mode": {
    "name": "ipython",
    "version": 3
   },
   "file_extension": ".py",
   "mimetype": "text/x-python",
   "name": "python",
   "nbconvert_exporter": "python",
   "pygments_lexer": "ipython3",
   "version": "3.9.13"
  }
 },
 "nbformat": 4,
 "nbformat_minor": 5
}
