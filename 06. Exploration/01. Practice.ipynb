{
 "cells": [
  {
   "cell_type": "markdown",
   "id": "54d90d12-1edd-4563-a9ff-ed58bd346b81",
   "metadata": {
    "tags": []
   },
   "source": [
    "# __Fire Causes__\n",
    "#### _Bureau of Fire Investigations_\n",
    "<div>\n",
    "<img src=\"https://upload.wikimedia.org/wikipedia/commons/2/25/Emblem_of_the_New_York_City_Fire_Department.svg\" width=\"120\"/>\n",
    "</div>"
   ]
  },
  {
   "cell_type": "markdown",
   "id": "e97ce87f-ca1a-42b9-bcd4-bf6a812014b7",
   "metadata": {
    "tags": []
   },
   "source": [
    "<hr>"
   ]
  },
  {
   "cell_type": "markdown",
   "id": "5b0a1ba7-fd23-4035-bac4-7a740d5952da",
   "metadata": {
    "tags": []
   },
   "source": [
    "Source: _<a href=\"https://data.cityofnewyork.us/Public-Safety/Bureau-of-Fire-Investigations-Fire-Causes/ii3r-svjz/about_data\">NYC Open Data</a>_ <br>\n",
    "Last updated: _9 May 2024_ <br>\n",
    "Accessed: _3 June 2024_"
   ]
  },
  {
   "cell_type": "markdown",
   "id": "1160c357-084c-4094-b8cb-375fd9fcbd8b",
   "metadata": {
    "tags": []
   },
   "source": [
    "<hr>"
   ]
  },
  {
   "cell_type": "markdown",
   "id": "3421d465-21e4-4a6e-b1ea-8382d086ec7d",
   "metadata": {
    "tags": []
   },
   "source": [
    "### Imports"
   ]
  },
  {
   "cell_type": "code",
   "execution_count": 1,
   "id": "87b07f93-2ff2-4b25-b861-2a6a2e521f71",
   "metadata": {
    "jupyter": {
     "source_hidden": true
    },
    "tags": []
   },
   "outputs": [
    {
     "name": "stderr",
     "output_type": "stream",
     "text": [
      "C:\\ProgramData\\Anaconda3\\lib\\site-packages\\scipy\\__init__.py:155: UserWarning: A NumPy version >=1.18.5 and <1.25.0 is required for this version of SciPy (detected version 1.26.4\n",
      "  warnings.warn(f\"A NumPy version >={np_minversion} and <{np_maxversion}\"\n"
     ]
    }
   ],
   "source": [
    "import numpy as np\n",
    "import pandas as pd\n",
    "import matplotlib.pyplot as plt\n",
    "import seaborn as sns"
   ]
  },
  {
   "cell_type": "markdown",
   "id": "06a407c5-a242-4a5c-9ea2-de8939d7d315",
   "metadata": {
    "tags": []
   },
   "source": [
    "<hr>"
   ]
  },
  {
   "cell_type": "markdown",
   "id": "1ddad8d3-fa2b-4917-a138-f5ba82ef92be",
   "metadata": {
    "tags": []
   },
   "source": [
    "### Exploration"
   ]
  },
  {
   "cell_type": "code",
   "execution_count": 2,
   "id": "f3376e75-7f78-47a0-a291-3947cf80c7f6",
   "metadata": {
    "jupyter": {
     "source_hidden": true
    },
    "tags": []
   },
   "outputs": [],
   "source": [
    "# Set the path to the file\n",
    "path = 'datasets/001. Bureau of Fire Investigations - Fire Causes/Bureau_of_Fire_Investigations_-_Fire_Causes_20240603.csv'"
   ]
  },
  {
   "cell_type": "code",
   "execution_count": 3,
   "id": "97229a18-06a3-4196-a424-660187b84faf",
   "metadata": {
    "jupyter": {
     "source_hidden": true
    },
    "tags": []
   },
   "outputs": [
    {
     "data": {
      "text/html": [
       "<div>\n",
       "<style scoped>\n",
       "    .dataframe tbody tr th:only-of-type {\n",
       "        vertical-align: middle;\n",
       "    }\n",
       "\n",
       "    .dataframe tbody tr th {\n",
       "        vertical-align: top;\n",
       "    }\n",
       "\n",
       "    .dataframe thead th {\n",
       "        text-align: right;\n",
       "    }\n",
       "</style>\n",
       "<table border=\"1\" class=\"dataframe\">\n",
       "  <thead>\n",
       "    <tr style=\"text-align: right;\">\n",
       "      <th></th>\n",
       "      <th>Case_Year</th>\n",
       "      <th>Case Number</th>\n",
       "      <th>Incident_DateTime</th>\n",
       "      <th>Borough</th>\n",
       "      <th>Battalion</th>\n",
       "      <th>Community_District</th>\n",
       "      <th>Precinct</th>\n",
       "      <th>Incident_Classification</th>\n",
       "      <th>Cause_Fire_Description</th>\n",
       "      <th>Fire_Code_Category</th>\n",
       "    </tr>\n",
       "  </thead>\n",
       "  <tbody>\n",
       "    <tr>\n",
       "      <th>0</th>\n",
       "      <td>2016</td>\n",
       "      <td>40001</td>\n",
       "      <td>01/01/2016 12:08:00 AM</td>\n",
       "      <td>Queens</td>\n",
       "      <td>50</td>\n",
       "      <td>8</td>\n",
       "      <td>107</td>\n",
       "      <td>MD Residential Structure</td>\n",
       "      <td>Smoking (Cigarette/Cigar)</td>\n",
       "      <td>Smoking</td>\n",
       "    </tr>\n",
       "    <tr>\n",
       "      <th>1</th>\n",
       "      <td>2016</td>\n",
       "      <td>50001</td>\n",
       "      <td>01/01/2016 12:13:00 AM</td>\n",
       "      <td>Staten Island</td>\n",
       "      <td>21</td>\n",
       "      <td>2</td>\n",
       "      <td>122</td>\n",
       "      <td>PD Residential Structure</td>\n",
       "      <td>Incendiary - Combustible Material</td>\n",
       "      <td>Incendiary</td>\n",
       "    </tr>\n",
       "    <tr>\n",
       "      <th>2</th>\n",
       "      <td>2016</td>\n",
       "      <td>40002</td>\n",
       "      <td>01/01/2016 12:21:00 AM</td>\n",
       "      <td>Queens</td>\n",
       "      <td>37</td>\n",
       "      <td>5</td>\n",
       "      <td>104</td>\n",
       "      <td>MD Residential Structure</td>\n",
       "      <td>Incendiary - Combustible Material</td>\n",
       "      <td>Incendiary</td>\n",
       "    </tr>\n",
       "    <tr>\n",
       "      <th>3</th>\n",
       "      <td>2016</td>\n",
       "      <td>60001</td>\n",
       "      <td>01/01/2016 12:29:00 AM</td>\n",
       "      <td>Bronx</td>\n",
       "      <td>15</td>\n",
       "      <td>12</td>\n",
       "      <td>47</td>\n",
       "      <td>Burn Notification (Albany)</td>\n",
       "      <td>Albany Burn Notif. Unrelated to a Fire/Explosion</td>\n",
       "      <td>Other</td>\n",
       "    </tr>\n",
       "    <tr>\n",
       "      <th>4</th>\n",
       "      <td>2016</td>\n",
       "      <td>40003</td>\n",
       "      <td>01/01/2016 12:32:00 AM</td>\n",
       "      <td>Queens</td>\n",
       "      <td>50</td>\n",
       "      <td>12</td>\n",
       "      <td>103</td>\n",
       "      <td>PD Residential Structure</td>\n",
       "      <td>Incendiary - Combustible Material</td>\n",
       "      <td>Incendiary</td>\n",
       "    </tr>\n",
       "  </tbody>\n",
       "</table>\n",
       "</div>"
      ],
      "text/plain": [
       "   Case_Year  Case Number       Incident_DateTime        Borough Battalion  \\\n",
       "0       2016        40001  01/01/2016 12:08:00 AM         Queens        50   \n",
       "1       2016        50001  01/01/2016 12:13:00 AM  Staten Island        21   \n",
       "2       2016        40002  01/01/2016 12:21:00 AM         Queens        37   \n",
       "3       2016        60001  01/01/2016 12:29:00 AM          Bronx        15   \n",
       "4       2016        40003  01/01/2016 12:32:00 AM         Queens        50   \n",
       "\n",
       "  Community_District Precinct     Incident_Classification  \\\n",
       "0                  8      107    MD Residential Structure   \n",
       "1                  2      122    PD Residential Structure   \n",
       "2                  5      104    MD Residential Structure   \n",
       "3                 12       47  Burn Notification (Albany)   \n",
       "4                 12      103    PD Residential Structure   \n",
       "\n",
       "                             Cause_Fire_Description Fire_Code_Category  \n",
       "0                         Smoking (Cigarette/Cigar)            Smoking  \n",
       "1                 Incendiary - Combustible Material         Incendiary  \n",
       "2                 Incendiary - Combustible Material         Incendiary  \n",
       "3  Albany Burn Notif. Unrelated to a Fire/Explosion              Other  \n",
       "4                 Incendiary - Combustible Material         Incendiary  "
      ]
     },
     "execution_count": 3,
     "metadata": {},
     "output_type": "execute_result"
    }
   ],
   "source": [
    "df = pd.read_csv(path)\n",
    "df.head()"
   ]
  },
  {
   "cell_type": "code",
   "execution_count": 4,
   "id": "1ff571f1-3c67-4017-b2ea-a25651dee989",
   "metadata": {
    "jupyter": {
     "source_hidden": true
    },
    "tags": []
   },
   "outputs": [],
   "source": [
    "# Set the new column names\n",
    "colnames = ['Year', 'ID', 'Date', 'Borough', 'Fire battalion', 'Community district', \n",
    "            'Police precinct', 'Incident type', 'Fire cause', 'Fire cause category']\n",
    "\n",
    "# Set the new column datatypes\n",
    "#coldtypes = {'Year': 'int64', 'ID': 'int64', 'Date': 'str', 'Borough': 'str', \n",
    "#             'Fire battalion': 'int64', 'Community district': 'int64', \n",
    "#             'Police precinct': 'int64', 'Incident type': 'str', \n",
    "#             'Fire cause': 'str', 'Fire cause category': 'str'}"
   ]
  },
  {
   "cell_type": "code",
   "execution_count": 5,
   "id": "b20a4b5b-75f0-4934-8e0d-1c6526a7db17",
   "metadata": {
    "jupyter": {
     "source_hidden": true
    },
    "tags": []
   },
   "outputs": [
    {
     "data": {
      "text/html": [
       "<div>\n",
       "<style scoped>\n",
       "    .dataframe tbody tr th:only-of-type {\n",
       "        vertical-align: middle;\n",
       "    }\n",
       "\n",
       "    .dataframe tbody tr th {\n",
       "        vertical-align: top;\n",
       "    }\n",
       "\n",
       "    .dataframe thead th {\n",
       "        text-align: right;\n",
       "    }\n",
       "</style>\n",
       "<table border=\"1\" class=\"dataframe\">\n",
       "  <thead>\n",
       "    <tr style=\"text-align: right;\">\n",
       "      <th></th>\n",
       "      <th>Year</th>\n",
       "      <th>ID</th>\n",
       "      <th>Date</th>\n",
       "      <th>Borough</th>\n",
       "      <th>Fire battalion</th>\n",
       "      <th>Community district</th>\n",
       "      <th>Police precinct</th>\n",
       "      <th>Incident type</th>\n",
       "      <th>Fire cause</th>\n",
       "      <th>Fire cause category</th>\n",
       "    </tr>\n",
       "  </thead>\n",
       "  <tbody>\n",
       "    <tr>\n",
       "      <th>0</th>\n",
       "      <td>2016</td>\n",
       "      <td>40001</td>\n",
       "      <td>01/01/2016 12:08:00 AM</td>\n",
       "      <td>Queens</td>\n",
       "      <td>50</td>\n",
       "      <td>8</td>\n",
       "      <td>107</td>\n",
       "      <td>MD Residential Structure</td>\n",
       "      <td>Smoking (Cigarette/Cigar)</td>\n",
       "      <td>Smoking</td>\n",
       "    </tr>\n",
       "    <tr>\n",
       "      <th>1</th>\n",
       "      <td>2016</td>\n",
       "      <td>50001</td>\n",
       "      <td>01/01/2016 12:13:00 AM</td>\n",
       "      <td>Staten Island</td>\n",
       "      <td>21</td>\n",
       "      <td>2</td>\n",
       "      <td>122</td>\n",
       "      <td>PD Residential Structure</td>\n",
       "      <td>Incendiary - Combustible Material</td>\n",
       "      <td>Incendiary</td>\n",
       "    </tr>\n",
       "    <tr>\n",
       "      <th>2</th>\n",
       "      <td>2016</td>\n",
       "      <td>40002</td>\n",
       "      <td>01/01/2016 12:21:00 AM</td>\n",
       "      <td>Queens</td>\n",
       "      <td>37</td>\n",
       "      <td>5</td>\n",
       "      <td>104</td>\n",
       "      <td>MD Residential Structure</td>\n",
       "      <td>Incendiary - Combustible Material</td>\n",
       "      <td>Incendiary</td>\n",
       "    </tr>\n",
       "    <tr>\n",
       "      <th>3</th>\n",
       "      <td>2016</td>\n",
       "      <td>60001</td>\n",
       "      <td>01/01/2016 12:29:00 AM</td>\n",
       "      <td>Bronx</td>\n",
       "      <td>15</td>\n",
       "      <td>12</td>\n",
       "      <td>47</td>\n",
       "      <td>Burn Notification (Albany)</td>\n",
       "      <td>Albany Burn Notif. Unrelated to a Fire/Explosion</td>\n",
       "      <td>Other</td>\n",
       "    </tr>\n",
       "    <tr>\n",
       "      <th>4</th>\n",
       "      <td>2016</td>\n",
       "      <td>40003</td>\n",
       "      <td>01/01/2016 12:32:00 AM</td>\n",
       "      <td>Queens</td>\n",
       "      <td>50</td>\n",
       "      <td>12</td>\n",
       "      <td>103</td>\n",
       "      <td>PD Residential Structure</td>\n",
       "      <td>Incendiary - Combustible Material</td>\n",
       "      <td>Incendiary</td>\n",
       "    </tr>\n",
       "  </tbody>\n",
       "</table>\n",
       "</div>"
      ],
      "text/plain": [
       "   Year     ID                    Date        Borough Fire battalion  \\\n",
       "0  2016  40001  01/01/2016 12:08:00 AM         Queens             50   \n",
       "1  2016  50001  01/01/2016 12:13:00 AM  Staten Island             21   \n",
       "2  2016  40002  01/01/2016 12:21:00 AM         Queens             37   \n",
       "3  2016  60001  01/01/2016 12:29:00 AM          Bronx             15   \n",
       "4  2016  40003  01/01/2016 12:32:00 AM         Queens             50   \n",
       "\n",
       "  Community district Police precinct               Incident type  \\\n",
       "0                  8             107    MD Residential Structure   \n",
       "1                  2             122    PD Residential Structure   \n",
       "2                  5             104    MD Residential Structure   \n",
       "3                 12              47  Burn Notification (Albany)   \n",
       "4                 12             103    PD Residential Structure   \n",
       "\n",
       "                                         Fire cause Fire cause category  \n",
       "0                         Smoking (Cigarette/Cigar)             Smoking  \n",
       "1                 Incendiary - Combustible Material          Incendiary  \n",
       "2                 Incendiary - Combustible Material          Incendiary  \n",
       "3  Albany Burn Notif. Unrelated to a Fire/Explosion               Other  \n",
       "4                 Incendiary - Combustible Material          Incendiary  "
      ]
     },
     "execution_count": 5,
     "metadata": {},
     "output_type": "execute_result"
    }
   ],
   "source": [
    "# Set the new column names\n",
    "df = pd.read_csv(path, names = colnames, header = 0)\n",
    "df.head()"
   ]
  },
  {
   "cell_type": "code",
   "execution_count": 6,
   "id": "bf358ba2-6aaf-4d3b-bed1-312a88559eb8",
   "metadata": {},
   "outputs": [],
   "source": [
    "# #, dtype = coldtypes)#, parse_dates=['Incident_DateTime'])"
   ]
  },
  {
   "cell_type": "code",
   "execution_count": 19,
   "id": "ed13ed2d-2ddc-4970-b12f-cc1569925b8e",
   "metadata": {
    "tags": []
   },
   "outputs": [],
   "source": [
    "# Helper function\n",
    "def dataset_check(dataset, stats_check = False, corr_check = False):\n",
    "    # Calculate\n",
    "    df = dataset\n",
    "    columns = df.shape[1]\n",
    "    rows = df.shape[0]\n",
    "    duplicate_rows = df.duplicated().sum()\n",
    "    dtypes = df.dtypes\n",
    "    missing = df.isna().sum()\n",
    "    missing = missing[missing > 0]\n",
    "    missing_percentage = (df.isna().sum() / len(df) * 100).round(2)\n",
    "    missing_percentage = missing_percentage[missing_percentage > 0]\n",
    "    unique = df.nunique()\n",
    "    stats = df.describe() if stats_check else None\n",
    "    corr = df.corr() if corr_check else None\n",
    "\n",
    "    # Print\n",
    "    print(f'COLUMNS:\\n{columns:,}\\n'.replace(',', ' '))\n",
    "    print(f'ROWS:\\n{rows:,}\\n'.replace(',', ' '))\n",
    "    if duplicate_rows > 0:\n",
    "        print(f'DUPLICATE ROWS:\\n{duplicate_rows}\\n')\n",
    "    print('DATATYPES:')\n",
    "    print(dtypes, '\\n')\n",
    "    print('MISSING VALUES:')\n",
    "    print(missing, '\\n')\n",
    "    print('MISSING VALUES IN %:')\n",
    "    print(missing_percentage.apply(lambda x: f'{x:.2f}%'), '\\n')\n",
    "    print('UNIQUE VALUES:')\n",
    "    print(unique, '\\n')\n",
    "    \n",
    "    # Conditional part\n",
    "    if stats_check:\n",
    "        print('BASIC STATISTICS:')\n",
    "        print(stats, '\\n')\n",
    "    if corr_check:\n",
    "        print('CORRELATION MATRIX:')\n",
    "        print(corr, '\\n')"
   ]
  },
  {
   "cell_type": "code",
   "execution_count": 20,
   "id": "fab48248-90a8-451b-b740-7aecbfd8bb30",
   "metadata": {},
   "outputs": [
    {
     "name": "stdout",
     "output_type": "stream",
     "text": [
      "COLUMNS:\n",
      "10\n",
      "\n",
      "ROWS:\n",
      "53 741\n",
      "\n",
      "DATATYPES:\n",
      "Year                    int64\n",
      "ID                      int64\n",
      "Date                   object\n",
      "Borough                object\n",
      "Fire battalion         object\n",
      "Community district     object\n",
      "Police precinct        object\n",
      "Incident type          object\n",
      "Fire cause             object\n",
      "Fire cause category    object\n",
      "dtype: object \n",
      "\n",
      "MISSING VALUES:\n",
      "Borough                 260\n",
      "Fire battalion         7658\n",
      "Community district      338\n",
      "Police precinct         344\n",
      "Incident type           827\n",
      "Fire cause               73\n",
      "Fire cause category      61\n",
      "dtype: int64 \n",
      "\n",
      "MISSING VALUES IN %:\n",
      "Borough                 0.48%\n",
      "Fire battalion         14.25%\n",
      "Community district      0.63%\n",
      "Police precinct         0.64%\n",
      "Incident type           1.54%\n",
      "Fire cause              0.14%\n",
      "Fire cause category     0.11%\n",
      "dtype: object \n",
      "\n",
      "UNIQUE VALUES:\n",
      "Year                       9\n",
      "ID                      9543\n",
      "Date                   52343\n",
      "Borough                    6\n",
      "Fire battalion            57\n",
      "Community district        19\n",
      "Police precinct           96\n",
      "Incident type             33\n",
      "Fire cause               134\n",
      "Fire cause category       15\n",
      "dtype: int64 \n",
      "\n"
     ]
    }
   ],
   "source": [
    "# Perform the basic check\n",
    "dataset_check(df)"
   ]
  },
  {
   "cell_type": "markdown",
   "id": "2d108ec5-4f01-4908-aef9-3945fb43b93c",
   "metadata": {},
   "source": [
    "Let’s check what we have:\n",
    "- <b>Duplicates.</b> There are no duplicate rows, which is good.\n",
    "- <b>Datatypes.</b> Columns <code>Date</code>, <code>Fire battalion</code>, <code>Community district</code>, and <code>Police precint</code> are seen as <code>object</code> columns even though they contain dates and numbers. This should be checked.\n",
    "- <b>Missing values.</b> We have relatively many missing values in column <code>Incident type</code> and we have _a lot_ missing values in <code>Fire battalion</code>. This is very strange — how come _so many_ incidents do not have an assigned battalion. Could this be because not every incident was reacted by the fire department? \n",
    "- <b>Unique values.</b> We have 53 741 rows, but the <code>ID</code> column has 9 543 unique values. That means that the column is of no use and can be dropped. Also, New York has 5 boroughs and not 6 as can be seen in the image below.\n",
    "\n",
    "<div>\n",
    "<img src=\"https://www.loumovesyou.com/wp-content/uploads/2022/11/FiveBoroughs-01.jpg\" width=\"600\"/>\n",
    "</div>"
   ]
  },
  {
   "cell_type": "code",
   "execution_count": null,
   "id": "6c84065e-a003-4d68-9d2b-c068e4ba7f32",
   "metadata": {},
   "outputs": [],
   "source": [
    "df[df['Fire battalion'].isna()]"
   ]
  },
  {
   "cell_type": "code",
   "execution_count": null,
   "id": "856e5de2-8ef6-477e-a34e-34f63add5d2a",
   "metadata": {},
   "outputs": [],
   "source": [
    "df['Fire battalion'].unique()"
   ]
  },
  {
   "cell_type": "code",
   "execution_count": null,
   "id": "df462d0a-a9f4-4e36-a81a-1a786d7a3b19",
   "metadata": {
    "tags": []
   },
   "outputs": [],
   "source": [
    "pivot1 = df.pivot_table(index = 'Fire battalion',\n",
    "               columns = 'Borough',\n",
    "               values = 'ID',\n",
    "               aggfunc = 'count',\n",
    "               fill_value = 0,\n",
    "               margins = True, \n",
    "               margins_name = 'Total')\n",
    "\n",
    "pivot1.sort_values(by=['Total'], ascending=False)"
   ]
  },
  {
   "cell_type": "code",
   "execution_count": null,
   "id": "e7438161-9c89-4a0a-bb58-6990722e493e",
   "metadata": {},
   "outputs": [],
   "source": [
    "pivot2 = df.pivot_table(\n",
    "    index = 'Borough',\n",
    "    values = 'ID',\n",
    "    aggfunc = 'count',\n",
    "    #fill_value = 0,\n",
    "    margins = True,\n",
    "    #margins_name = 'Total',\n",
    ")\n",
    "\n",
    "pivot2.sort_values(by = 'ID', ascending = False)"
   ]
  },
  {
   "cell_type": "code",
   "execution_count": null,
   "id": "c11d6cb6-993d-48fd-bb86-3e6c2eb79e6e",
   "metadata": {},
   "outputs": [],
   "source": [
    "outsideofNYC = df[df['Borough'] == 'Outside of NYC']\n",
    "outsideofNYC.head(20)"
   ]
  },
  {
   "cell_type": "code",
   "execution_count": null,
   "id": "9d1cfb70-e3c5-4ef3-afe3-d220f089bcb9",
   "metadata": {},
   "outputs": [],
   "source": [
    "outsideofNYC[outsideofNYC['Borough'] != 'Outside of NYC']"
   ]
  },
  {
   "cell_type": "code",
   "execution_count": null,
   "id": "7389ccac-efaa-46ee-9c51-26a454fb3a8b",
   "metadata": {},
   "outputs": [],
   "source": [
    "outsideofNYC['Fire cause category'].unique()"
   ]
  },
  {
   "cell_type": "code",
   "execution_count": null,
   "id": "983d0e51",
   "metadata": {},
   "outputs": [],
   "source": [
    "outsideofNYC['Fire cause category'].unique()"
   ]
  },
  {
   "cell_type": "code",
   "execution_count": null,
   "id": "782d9701",
   "metadata": {},
   "outputs": [],
   "source": [
    "outsideofNYC['Fire cause category'].unique()"
   ]
  },
  {
   "cell_type": "code",
   "execution_count": null,
   "id": "e059bee1",
   "metadata": {},
   "outputs": [],
   "source": [
    "outsideofNYC['Fire cause category'].unique()"
   ]
  },
  {
   "cell_type": "code",
   "execution_count": null,
   "id": "9a70dba0",
   "metadata": {},
   "outputs": [],
   "source": [
    "outsideofNYC['Fire cause category'].unique()"
   ]
  },
  {
   "cell_type": "code",
   "execution_count": null,
   "id": "966ce864-e17e-4131-93b7-79b1abcdb925",
   "metadata": {},
   "outputs": [],
   "source": [
    "77/53481*100"
   ]
  },
  {
   "cell_type": "code",
   "execution_count": null,
   "id": "562cd317-e8a0-4906-ad02-3646e0d99d3e",
   "metadata": {
    "tags": []
   },
   "outputs": [],
   "source": [
    "# Heatmap example\n",
    "sns.heatmap(pivot1, cmap = 'RdYlGn');"
   ]
  },
  {
   "cell_type": "code",
   "execution_count": null,
   "id": "78bf3a69-d3c7-4c5c-a3ec-19444481e08f",
   "metadata": {},
   "outputs": [],
   "source": [
    "pivot3 = df.pivot_table(index = 'Police precinct',\n",
    "               columns = 'Borough',\n",
    "               values = 'ID',\n",
    "               aggfunc = 'count',\n",
    "               fill_value = 0,\n",
    "               margins = True, \n",
    "               margins_name = 'Total')\n",
    "\n",
    "pivot3b = pivot3.sort_values(by=['Total'], ascending=False)\n",
    "pivot3b[pivot3b['Total'] <= 300].index"
   ]
  },
  {
   "cell_type": "code",
   "execution_count": null,
   "id": "e9b4b18f-58a9-430f-97b5-a93e7904755d",
   "metadata": {
    "tags": []
   },
   "outputs": [],
   "source": [
    "pivot3b[pivot3b['Total'] <= 400]['Total']#.sum()"
   ]
  },
  {
   "cell_type": "code",
   "execution_count": null,
   "id": "f1d2c7d0-9679-4166-9655-83596d4c6f13",
   "metadata": {},
   "outputs": [],
   "source": [
    "pivot4 = df.pivot_table(index = 'Community district',\n",
    "               columns = 'Borough',\n",
    "               values = 'ID',\n",
    "               aggfunc = 'count',\n",
    "               fill_value = 0,\n",
    "               margins = True, \n",
    "               margins_name = 'Total')\n",
    "\n",
    "pivot4.sort_values(by=['Total'], ascending=False)"
   ]
  },
  {
   "cell_type": "code",
   "execution_count": null,
   "id": "b0c4d529-04d6-4728-ab48-eebd0952ab49",
   "metadata": {},
   "outputs": [],
   "source": [
    "df.nunique()"
   ]
  },
  {
   "cell_type": "code",
   "execution_count": null,
   "id": "f9c95d65-a215-470f-9968-9719124fd358",
   "metadata": {},
   "outputs": [],
   "source": [
    "df[df['Fire battalion'] == '50']"
   ]
  },
  {
   "cell_type": "code",
   "execution_count": null,
   "id": "6b7e6653-b6e0-4334-a19e-2e7885811804",
   "metadata": {},
   "outputs": [],
   "source": [
    "df = pd.read_csv(path, parse_dates=['Incident_DateTime'])\n",
    "df.head()"
   ]
  },
  {
   "cell_type": "code",
   "execution_count": null,
   "id": "a9f5bbce-5d6c-42d8-a8d0-d844394a6296",
   "metadata": {},
   "outputs": [],
   "source": [
    "cond = df['Incident_DateTime'].dt.dayofweek == 1\n",
    "df[cond]"
   ]
  },
  {
   "cell_type": "code",
   "execution_count": null,
   "id": "d6c30f72-80e5-4777-9064-365d04d6e80e",
   "metadata": {},
   "outputs": [],
   "source": [
    "df.dtypes"
   ]
  },
  {
   "cell_type": "code",
   "execution_count": null,
   "id": "448a1beb-5bb0-4cbb-b152-df687707b0e8",
   "metadata": {},
   "outputs": [],
   "source": [
    "df.shape"
   ]
  },
  {
   "cell_type": "code",
   "execution_count": null,
   "id": "85d324b7-e09d-459c-b91e-d9db89655044",
   "metadata": {},
   "outputs": [],
   "source": [
    "df.describe()"
   ]
  },
  {
   "cell_type": "code",
   "execution_count": null,
   "id": "773414e7-87f6-433b-ae83-259aed0516be",
   "metadata": {},
   "outputs": [],
   "source": [
    "df['Incident_DateTime'].max()"
   ]
  },
  {
   "cell_type": "code",
   "execution_count": null,
   "id": "30462ff8-d995-4cff-8f79-36f50a7d5b58",
   "metadata": {},
   "outputs": [],
   "source": [
    "df.dtypes"
   ]
  },
  {
   "cell_type": "code",
   "execution_count": null,
   "id": "b611ddcf-c0d1-47e3-8c6d-aa39639feae3",
   "metadata": {},
   "outputs": [],
   "source": [
    "print(np.sort(df['Case_Year'].unique()))"
   ]
  },
  {
   "cell_type": "code",
   "execution_count": null,
   "id": "768f41d4-4569-498d-8d78-7b0b2f653009",
   "metadata": {},
   "outputs": [],
   "source": [
    "df.nunique()"
   ]
  },
  {
   "cell_type": "code",
   "execution_count": null,
   "id": "8f859978-b1fc-4f46-a76f-b7a991f6c29d",
   "metadata": {},
   "outputs": [],
   "source": [
    "df.sort_values(by = ['Case Number', 'Incident_DateTime']).head(20)"
   ]
  },
  {
   "cell_type": "code",
   "execution_count": null,
   "id": "26f5da37-a22d-4d76-b547-f7ca5cee828f",
   "metadata": {},
   "outputs": [],
   "source": [
    "groupby1 = df.groupby(by = ['Case Number']).count()\n",
    "groupby1['Incident_DateTime'].sort_values(ascending = False)"
   ]
  },
  {
   "cell_type": "code",
   "execution_count": null,
   "id": "af111377-c104-411e-a570-d43ad336bbcf",
   "metadata": {},
   "outputs": [],
   "source": [
    "df[df['Case Number'] == 20203].sort_values(by = 'Case_Year')"
   ]
  },
  {
   "cell_type": "code",
   "execution_count": null,
   "id": "4693e27c-a88b-410b-ba44-306e22b3b9e4",
   "metadata": {},
   "outputs": [],
   "source": []
  }
 ],
 "metadata": {
  "kernelspec": {
   "display_name": "Python 3 (ipykernel)",
   "language": "python",
   "name": "python3"
  },
  "language_info": {
   "codemirror_mode": {
    "name": "ipython",
    "version": 3
   },
   "file_extension": ".py",
   "mimetype": "text/x-python",
   "name": "python",
   "nbconvert_exporter": "python",
   "pygments_lexer": "ipython3",
   "version": "3.9.13"
  }
 },
 "nbformat": 4,
 "nbformat_minor": 5
}
