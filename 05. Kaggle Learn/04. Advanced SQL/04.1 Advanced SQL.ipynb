{
 "cells": [
  {
   "cell_type": "markdown",
   "id": "54d90d12-1edd-4563-a9ff-ed58bd346b81",
   "metadata": {
    "tags": []
   },
   "source": [
    "# <b>Kaggle Learn</b>\n",
    "# 4. Advanced SQL"
   ]
  },
  {
   "cell_type": "code",
   "execution_count": 1,
   "id": "87b07f93-2ff2-4b25-b861-2a6a2e521f71",
   "metadata": {},
   "outputs": [],
   "source": [
    "import numpy as np\n",
    "import matplotlib.pyplot as plt\n",
    "import pandas as pd\n",
    "import seaborn as sns\n",
    "import statsmodels as sm\n",
    "pd.options.display.max_columns = 20\n",
    "pd.options.display.max_rows = 20\n",
    "pd.options.display.max_colwidth = 80\n",
    "np.set_printoptions(precision = 4, suppress = True)\n",
    "from pandas import Series, DataFrame\n",
    "%matplotlib inline"
   ]
  },
  {
   "cell_type": "markdown",
   "id": "1ddad8d3-fa2b-4917-a138-f5ba82ef92be",
   "metadata": {},
   "source": [
    "## 1. JOINs and UNIONs"
   ]
  },
  {
   "cell_type": "code",
   "execution_count": null,
   "id": "28b64191-141f-49e7-aa76-431e6142e610",
   "metadata": {},
   "outputs": [],
   "source": [
    "from google.cloud import bigquery\n",
    "\n",
    "# Create a \"Client\" object\n",
    "client = bigquery.Client()\n",
    "\n",
    "# Construct a reference to the \"hacker_news\" dataset\n",
    "dataset_ref = client.dataset(\"hacker_news\", project=\"bigquery-public-data\")\n",
    "\n",
    "# API request - fetch the dataset\n",
    "dataset = client.get_dataset(dataset_ref)\n",
    "\n",
    "# Construct a reference to the \"comments\" table\n",
    "table_ref = dataset_ref.table(\"comments\")\n",
    "\n",
    "# API request - fetch the table\n",
    "table = client.get_table(table_ref)\n",
    "\n",
    "# Preview the first five lines of the table\n",
    "client.list_rows(table, max_results=5).to_dataframe()"
   ]
  },
  {
   "cell_type": "code",
   "execution_count": null,
   "id": "e1ce23f9-f46f-415f-b2a3-a8acd6e45617",
   "metadata": {},
   "outputs": [],
   "source": [
    "# Construct a reference to the \"stories\" table\n",
    "table_ref = dataset_ref.table(\"stories\")\n",
    "\n",
    "# API request - fetch the table\n",
    "table = client.get_table(table_ref)\n",
    "\n",
    "# Preview the first five lines of the table\n",
    "client.list_rows(table, max_results=5).to_dataframe()"
   ]
  },
  {
   "cell_type": "code",
   "execution_count": null,
   "id": "91a5ba58-fe84-45e9-bac0-3287bd979bf4",
   "metadata": {},
   "outputs": [],
   "source": [
    "# Query to select all stories posted on January 1, 2012, with number of comments\n",
    "join_query = \"\"\"\n",
    "             WITH c AS\n",
    "             (\n",
    "             SELECT parent, COUNT(*) as num_comments\n",
    "             FROM `bigquery-public-data.hacker_news.comments` \n",
    "             GROUP BY parent\n",
    "             )\n",
    "             SELECT s.id as story_id, s.by, s.title, c.num_comments\n",
    "             FROM `bigquery-public-data.hacker_news.stories` AS s\n",
    "             LEFT JOIN c\n",
    "             ON s.id = c.parent\n",
    "             WHERE EXTRACT(DATE FROM s.time_ts) = '2012-01-01'\n",
    "             ORDER BY c.num_comments DESC\n",
    "             \"\"\"\n",
    "\n",
    "# Run the query, and return a pandas DataFrame\n",
    "join_result = client.query(join_query).result().to_dataframe()\n",
    "join_result.head()"
   ]
  },
  {
   "cell_type": "code",
   "execution_count": null,
   "id": "6185d9b1-2683-483c-886a-2dbf73340206",
   "metadata": {},
   "outputs": [],
   "source": [
    "# None of these stories received any comments\n",
    "join_result.tail()"
   ]
  },
  {
   "cell_type": "code",
   "execution_count": null,
   "id": "dd00114b-6da9-4ad4-8cda-bb5bea55601c",
   "metadata": {},
   "outputs": [],
   "source": [
    "# Query to select all users who posted stories or comments on January 1, 2014\n",
    "union_query = \"\"\"\n",
    "              SELECT c.by\n",
    "              FROM `bigquery-public-data.hacker_news.comments` AS c\n",
    "              WHERE EXTRACT(DATE FROM c.time_ts) = '2014-01-01'\n",
    "              UNION DISTINCT\n",
    "              SELECT s.by\n",
    "              FROM `bigquery-public-data.hacker_news.stories` AS s\n",
    "              WHERE EXTRACT(DATE FROM s.time_ts) = '2014-01-01'\n",
    "              \"\"\"\n",
    "\n",
    "# Run the query, and return a pandas DataFrame\n",
    "union_result = client.query(union_query).result().to_dataframe()\n",
    "union_result.head()"
   ]
  },
  {
   "cell_type": "code",
   "execution_count": null,
   "id": "60c3fd5b-2a56-4ad4-89c9-a31a1555019f",
   "metadata": {},
   "outputs": [],
   "source": [
    "# Number of users who posted stories or comments on January 1, 2014\n",
    "len(union_result)"
   ]
  },
  {
   "cell_type": "markdown",
   "id": "8cd47b7a-67f1-4fcc-a060-7a988dd454ce",
   "metadata": {},
   "source": [
    "## 2. Analytic Functions"
   ]
  },
  {
   "cell_type": "code",
   "execution_count": null,
   "id": "48b5fb27-47de-464b-b12c-f5ef93ac6b86",
   "metadata": {},
   "outputs": [],
   "source": [
    "from google.cloud import bigquery\n",
    "\n",
    "# Create a \"Client\" object\n",
    "client = bigquery.Client()\n",
    "\n",
    "# Construct a reference to the \"san_francisco\" dataset\n",
    "dataset_ref = client.dataset(\"san_francisco\", project=\"bigquery-public-data\")\n",
    "\n",
    "# API request - fetch the dataset\n",
    "dataset = client.get_dataset(dataset_ref)\n",
    "\n",
    "# Construct a reference to the \"bikeshare_trips\" table\n",
    "table_ref = dataset_ref.table(\"bikeshare_trips\")\n",
    "\n",
    "# API request - fetch the table\n",
    "table = client.get_table(table_ref)\n",
    "\n",
    "# Preview the first five lines of the table\n",
    "client.list_rows(table, max_results=5).to_dataframe()"
   ]
  },
  {
   "cell_type": "code",
   "execution_count": null,
   "id": "da14f631-2d5f-48f5-9e3f-7c42fb2e02d0",
   "metadata": {},
   "outputs": [],
   "source": [
    "# Query to count the (cumulative) number of trips per day\n",
    "num_trips_query = \"\"\"\n",
    "                  WITH trips_by_day AS\n",
    "                  (\n",
    "                  SELECT DATE(start_date) AS trip_date,\n",
    "                      COUNT(*) as num_trips\n",
    "                  FROM `bigquery-public-data.san_francisco.bikeshare_trips`\n",
    "                  WHERE EXTRACT(YEAR FROM start_date) = 2015\n",
    "                  GROUP BY trip_date\n",
    "                  )\n",
    "                  SELECT *,\n",
    "                      SUM(num_trips) \n",
    "                          OVER (\n",
    "                               ORDER BY trip_date\n",
    "                               ROWS BETWEEN UNBOUNDED PRECEDING AND CURRENT ROW\n",
    "                               ) AS cumulative_trips\n",
    "                      FROM trips_by_day\n",
    "                  \"\"\"\n",
    "\n",
    "# Run the query, and return a pandas DataFrame\n",
    "num_trips_result = client.query(num_trips_query).result().to_dataframe()\n",
    "num_trips_result.head()"
   ]
  },
  {
   "cell_type": "code",
   "execution_count": null,
   "id": "a78b8782-2d2b-4230-aa2f-f6c887556a7a",
   "metadata": {},
   "outputs": [],
   "source": [
    "# Query to track beginning and ending stations on October 25, 2015, for each bike\n",
    "start_end_query = \"\"\"\n",
    "                  SELECT bike_number,\n",
    "                      TIME(start_date) AS trip_time,\n",
    "                      FIRST_VALUE(start_station_id)\n",
    "                          OVER (\n",
    "                               PARTITION BY bike_number\n",
    "                               ORDER BY start_date\n",
    "                               ROWS BETWEEN UNBOUNDED PRECEDING AND UNBOUNDED FOLLOWING\n",
    "                               ) AS first_station_id,\n",
    "                      LAST_VALUE(end_station_id)\n",
    "                          OVER (\n",
    "                               PARTITION BY bike_number\n",
    "                               ORDER BY start_date\n",
    "                               ROWS BETWEEN UNBOUNDED PRECEDING AND UNBOUNDED FOLLOWING\n",
    "                               ) AS last_station_id,\n",
    "                      start_station_id,\n",
    "                      end_station_id\n",
    "                  FROM `bigquery-public-data.san_francisco.bikeshare_trips`\n",
    "                  WHERE DATE(start_date) = '2015-10-25' \n",
    "                  \"\"\"\n",
    "\n",
    "# Run the query, and return a pandas DataFrame\n",
    "start_end_result = client.query(start_end_query).result().to_dataframe()\n",
    "start_end_result.head()"
   ]
  },
  {
   "cell_type": "markdown",
   "id": "b4f05ead-c6da-4566-9c10-a713c3c79522",
   "metadata": {},
   "source": [
    "## 3. Nested and Repeated Data"
   ]
  },
  {
   "cell_type": "code",
   "execution_count": null,
   "id": "21aea712-b6bc-4562-a3a7-d7466a3e7cf4",
   "metadata": {},
   "outputs": [],
   "source": [
    "from google.cloud import bigquery\n",
    "\n",
    "# Create a \"Client\" object\n",
    "client = bigquery.Client()\n",
    "\n",
    "# Construct a reference to the \"google_analytics_sample\" dataset\n",
    "dataset_ref = client.dataset(\"google_analytics_sample\", project=\"bigquery-public-data\")\n",
    "\n",
    "# Construct a reference to the \"ga_sessions_20170801\" table\n",
    "table_ref = dataset_ref.table(\"ga_sessions_20170801\")\n",
    "\n",
    "# API request - fetch the table\n",
    "table = client.get_table(table_ref)\n",
    "\n",
    "# Preview the first five lines of the table\n",
    "client.list_rows(table, max_results=5).to_dataframe()"
   ]
  },
  {
   "cell_type": "code",
   "execution_count": null,
   "id": "c7923c20-947d-4206-a86c-fe41b7bd7211",
   "metadata": {},
   "outputs": [],
   "source": [
    "print(\"SCHEMA field for the 'totals' column:\\n\")\n",
    "print(table.schema[5])\n",
    "\n",
    "print(\"\\nSCHEMA field for the 'device' column:\\n\")\n",
    "print(table.schema[7])"
   ]
  },
  {
   "cell_type": "code",
   "execution_count": null,
   "id": "7a665681-3df3-406d-b32f-fb62d282a52b",
   "metadata": {},
   "outputs": [],
   "source": [
    "# Query to count the number of transactions per browser\n",
    "query = \"\"\"\n",
    "        SELECT device.browser AS device_browser,\n",
    "            SUM(totals.transactions) as total_transactions\n",
    "        FROM `bigquery-public-data.google_analytics_sample.ga_sessions_20170801`\n",
    "        GROUP BY device_browser\n",
    "        ORDER BY total_transactions DESC\n",
    "        \"\"\"\n",
    "\n",
    "# Run the query, and return a pandas DataFrame\n",
    "result = client.query(query).result().to_dataframe()\n",
    "result.head()"
   ]
  },
  {
   "cell_type": "code",
   "execution_count": null,
   "id": "fd0b458d-74c4-4031-bbd5-d574d218e180",
   "metadata": {},
   "outputs": [],
   "source": [
    "# Query to determine most popular landing point on the website\n",
    "query = \"\"\"\n",
    "        SELECT hits.page.pagePath as path,\n",
    "            COUNT(hits.page.pagePath) as counts\n",
    "        FROM `bigquery-public-data.google_analytics_sample.ga_sessions_20170801`, \n",
    "            UNNEST(hits) as hits\n",
    "        WHERE hits.type=\"PAGE\" and hits.hitNumber=1\n",
    "        GROUP BY path\n",
    "        ORDER BY counts DESC\n",
    "        \"\"\"\n",
    "\n",
    "# Run the query, and return a pandas DataFrame\n",
    "result = client.query(query).result().to_dataframe()\n",
    "result.head()"
   ]
  },
  {
   "cell_type": "markdown",
   "id": "d3691c99-48b4-44d4-b896-571d50947dd2",
   "metadata": {},
   "source": [
    "## 4. Writing Efficient Queries"
   ]
  },
  {
   "cell_type": "code",
   "execution_count": null,
   "id": "0d2e554e-74bf-4da8-94fc-265b3e53c05a",
   "metadata": {},
   "outputs": [],
   "source": [
    "from google.cloud import bigquery\n",
    "from time import time\n",
    "\n",
    "client = bigquery.Client()\n",
    "\n",
    "def show_amount_of_data_scanned(query):\n",
    "    # dry_run lets us see how much data the query uses without running it\n",
    "    dry_run_config = bigquery.QueryJobConfig(dry_run=True)\n",
    "    query_job = client.query(query, job_config=dry_run_config)\n",
    "    print('Data processed: {} GB'.format(round(query_job.total_bytes_processed / 10**9, 3)))\n",
    "    \n",
    "def show_time_to_run(query):\n",
    "    time_config = bigquery.QueryJobConfig(use_query_cache=False)\n",
    "    start = time()\n",
    "    query_result = client.query(query, job_config=time_config).result()\n",
    "    end = time()\n",
    "    print('Time to run: {} seconds'.format(round(end-start, 3)))"
   ]
  },
  {
   "cell_type": "code",
   "execution_count": null,
   "id": "2d15e801-8424-415e-9702-d4b010f5c336",
   "metadata": {},
   "outputs": [],
   "source": [
    "star_query = \"SELECT * FROM `bigquery-public-data.github_repos.contents`\"\n",
    "show_amount_of_data_scanned(star_query)\n",
    "\n",
    "basic_query = \"SELECT size, binary FROM `bigquery-public-data.github_repos.contents`\"\n",
    "show_amount_of_data_scanned(basic_query)"
   ]
  },
  {
   "cell_type": "code",
   "execution_count": null,
   "id": "f556c120-a9c3-48a5-9ff5-dadde52fca19",
   "metadata": {},
   "outputs": [],
   "source": [
    "more_data_query = \"\"\"\n",
    "                  SELECT MIN(start_station_name) AS start_station_name,\n",
    "                      MIN(end_station_name) AS end_station_name,\n",
    "                      AVG(duration_sec) AS avg_duration_sec\n",
    "                  FROM `bigquery-public-data.san_francisco.bikeshare_trips`\n",
    "                  WHERE start_station_id != end_station_id \n",
    "                  GROUP BY start_station_id, end_station_id\n",
    "                  LIMIT 10\n",
    "                  \"\"\"\n",
    "show_amount_of_data_scanned(more_data_query)\n",
    "\n",
    "less_data_query = \"\"\"\n",
    "                  SELECT start_station_name,\n",
    "                      end_station_name,\n",
    "                      AVG(duration_sec) AS avg_duration_sec                  \n",
    "                  FROM `bigquery-public-data.san_francisco.bikeshare_trips`\n",
    "                  WHERE start_station_name != end_station_name\n",
    "                  GROUP BY start_station_name, end_station_name\n",
    "                  LIMIT 10\n",
    "                  \"\"\"\n",
    "show_amount_of_data_scanned(less_data_query)"
   ]
  },
  {
   "cell_type": "code",
   "execution_count": null,
   "id": "4203c8f0-868f-4996-92ef-15dd9dba66bf",
   "metadata": {},
   "outputs": [],
   "source": [
    "more_data_query = \"\"\"\n",
    "                  SELECT MIN(start_station_name) AS start_station_name,\n",
    "                      MIN(end_station_name) AS end_station_name,\n",
    "                      AVG(duration_sec) AS avg_duration_sec\n",
    "                  FROM `bigquery-public-data.san_francisco.bikeshare_trips`\n",
    "                  WHERE start_station_id != end_station_id \n",
    "                  GROUP BY start_station_id, end_station_id\n",
    "                  LIMIT 10\n",
    "                  \"\"\"\n",
    "show_amount_of_data_scanned(more_data_query)\n",
    "\n",
    "less_data_query = \"\"\"\n",
    "                  SELECT start_station_name,\n",
    "                      end_station_name,\n",
    "                      AVG(duration_sec) AS avg_duration_sec                  \n",
    "                  FROM `bigquery-public-data.san_francisco.bikeshare_trips`\n",
    "                  WHERE start_station_name != end_station_name\n",
    "                  GROUP BY start_station_name, end_station_name\n",
    "                  LIMIT 10\n",
    "                  \"\"\"\n",
    "show_amount_of_data_scanned(less_data_query)"
   ]
  },
  {
   "cell_type": "code",
   "execution_count": null,
   "id": "91a0e52f-20b8-47fd-b070-41e5e18d3788",
   "metadata": {},
   "outputs": [],
   "source": [
    "big_join_query = \"\"\"\n",
    "                 SELECT repo,\n",
    "                     COUNT(DISTINCT c.committer.name) as num_committers,\n",
    "                     COUNT(DISTINCT f.id) AS num_files\n",
    "                 FROM `bigquery-public-data.github_repos.commits` AS c,\n",
    "                     UNNEST(c.repo_name) AS repo\n",
    "                 INNER JOIN `bigquery-public-data.github_repos.files` AS f\n",
    "                     ON f.repo_name = repo\n",
    "                 WHERE f.repo_name IN ( 'tensorflow/tensorflow', 'facebook/react', 'twbs/bootstrap', 'apple/swift', 'Microsoft/vscode', 'torvalds/linux')\n",
    "                 GROUP BY repo\n",
    "                 ORDER BY repo\n",
    "                 \"\"\"\n",
    "show_time_to_run(big_join_query)\n",
    "\n",
    "small_join_query = \"\"\"\n",
    "                   WITH commits AS\n",
    "                   (\n",
    "                   SELECT COUNT(DISTINCT committer.name) AS num_committers, repo\n",
    "                   FROM `bigquery-public-data.github_repos.commits`,\n",
    "                       UNNEST(repo_name) as repo\n",
    "                   WHERE repo IN ( 'tensorflow/tensorflow', 'facebook/react', 'twbs/bootstrap', 'apple/swift', 'Microsoft/vscode', 'torvalds/linux')\n",
    "                   GROUP BY repo\n",
    "                   ),\n",
    "                   files AS \n",
    "                   (\n",
    "                   SELECT COUNT(DISTINCT id) AS num_files, repo_name as repo\n",
    "                   FROM `bigquery-public-data.github_repos.files`\n",
    "                   WHERE repo_name IN ( 'tensorflow/tensorflow', 'facebook/react', 'twbs/bootstrap', 'apple/swift', 'Microsoft/vscode', 'torvalds/linux')\n",
    "                   GROUP BY repo\n",
    "                   )\n",
    "                   SELECT commits.repo, commits.num_committers, files.num_files\n",
    "                   FROM commits \n",
    "                   INNER JOIN files\n",
    "                       ON commits.repo = files.repo\n",
    "                   ORDER BY repo\n",
    "                   \"\"\"\n",
    "\n",
    "show_time_to_run(small_join_query)"
   ]
  }
 ],
 "metadata": {
  "kernelspec": {
   "display_name": "Python 3 (ipykernel)",
   "language": "python",
   "name": "python3"
  },
  "language_info": {
   "codemirror_mode": {
    "name": "ipython",
    "version": 3
   },
   "file_extension": ".py",
   "mimetype": "text/x-python",
   "name": "python",
   "nbconvert_exporter": "python",
   "pygments_lexer": "ipython3",
   "version": "3.9.13"
  }
 },
 "nbformat": 4,
 "nbformat_minor": 5
}
