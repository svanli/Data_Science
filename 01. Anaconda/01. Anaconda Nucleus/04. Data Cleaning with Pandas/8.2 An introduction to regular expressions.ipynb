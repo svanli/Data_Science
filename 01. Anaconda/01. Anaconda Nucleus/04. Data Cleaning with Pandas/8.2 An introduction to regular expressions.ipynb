{
 "cells": [
  {
   "cell_type": "markdown",
   "id": "4273e4f4-1893-4abd-b330-352fc0d3aabf",
   "metadata": {},
   "source": [
    "# An introduction to regular expressions\n",
    "Decoding simple regex features to match complex text patterns."
   ]
  },
  {
   "cell_type": "markdown",
   "id": "61864738-5752-4b30-a443-7e4b10c53578",
   "metadata": {},
   "source": [
    "From: https://www.oreilly.com/content/an-introduction-to-regular-expressions/"
   ]
  },
  {
   "cell_type": "markdown",
   "id": "5f3924f8-a9af-45b7-b1c1-3654362fcaa2",
   "metadata": {},
   "source": [
    "<i>Offtopic | HTML-codes from: https://www.startertutorials.com/ajwt/character-formatting-essentials.html</i>"
   ]
  },
  {
   "cell_type": "code",
   "execution_count": 5,
   "id": "a1ee453d-e739-49a1-b97e-dd9f68017c76",
   "metadata": {},
   "outputs": [],
   "source": [
    "import re\n",
    "import pandas as pd"
   ]
  },
  {
   "cell_type": "markdown",
   "id": "52f9b6d3-0464-44d2-8a5a-5702e49babe8",
   "metadata": {},
   "source": [
    "Match two capital letters like AA, AB, AC, DE etc.:"
   ]
  },
  {
   "cell_type": "code",
   "execution_count": 4,
   "id": "9dff427c-885b-48eb-b919-88052e59eb5d",
   "metadata": {},
   "outputs": [
    {
     "name": "stdout",
     "output_type": "stream",
     "text": [
      "Match\n"
     ]
    }
   ],
   "source": [
    "result = re.fullmatch(pattern=\"[A-Z]{2}\", string = \"TX\")\n",
    "\n",
    "if result:\n",
    "    print(\"Match\")\n",
    "else:\n",
    "    print(\"No match\")"
   ]
  },
  {
   "cell_type": "code",
   "execution_count": 8,
   "id": "bf5611e6-0704-4ee5-8220-10ef8c1a093c",
   "metadata": {
    "collapsed": true,
    "jupyter": {
     "outputs_hidden": true,
     "source_hidden": true
    },
    "tags": []
   },
   "outputs": [
    {
     "data": {
      "text/plain": [
       "0     TX\n",
       "1     AX\n",
       "2     SW\n",
       "3    asc\n",
       "Name: abbreviations, dtype: object"
      ]
     },
     "execution_count": 8,
     "metadata": {},
     "output_type": "execute_result"
    }
   ],
   "source": [
    "abb = pd.Series([\"TX\", \"AX\", \"SW\", \"asc\"], name = 'abbreviations')\n",
    "abb"
   ]
  },
  {
   "cell_type": "markdown",
   "id": "3678c4fc-8e77-404e-a3e2-0104ce478e08",
   "metadata": {},
   "source": [
    "Match $10:"
   ]
  },
  {
   "cell_type": "code",
   "execution_count": 17,
   "id": "bfd88dc1-cf43-4e4a-aba9-7320bfb46843",
   "metadata": {},
   "outputs": [
    {
     "name": "stdout",
     "output_type": "stream",
     "text": [
      "Match\n"
     ]
    }
   ],
   "source": [
    "result = re.fullmatch(pattern=\"\\$10\", string = \"$10\")\n",
    "\n",
    "if result:\n",
    "    print(\"Match\")\n",
    "else:\n",
    "    print(\"No match\")"
   ]
  },
  {
   "cell_type": "markdown",
   "id": "e29a0528-adc6-4b13-9950-d9cf0585fd3b",
   "metadata": {},
   "source": [
    "<code>\\s</code> is space:"
   ]
  },
  {
   "cell_type": "code",
   "execution_count": 20,
   "id": "7e198ddb-d18f-4431-bc8b-3490fb6cb9d0",
   "metadata": {},
   "outputs": [
    {
     "name": "stdout",
     "output_type": "stream",
     "text": [
      "Match\n"
     ]
    }
   ],
   "source": [
    "result = re.fullmatch(pattern=\"Lorem\\sIpsum\", string = \"Lorem Ipsum\")\n",
    "\n",
    "if result:\n",
    "    print(\"Match\")\n",
    "else:\n",
    "    print(\"No match\")"
   ]
  },
  {
   "cell_type": "markdown",
   "id": "02ac175f-f329-4f62-8549-4e472cb05018",
   "metadata": {},
   "source": [
    "First character should be 0, 1 or 3 and second character should be F, X or B. Any combination is possible:"
   ]
  },
  {
   "cell_type": "code",
   "execution_count": 30,
   "id": "50b00c09-d6c6-4caa-81ee-7f466888cab6",
   "metadata": {},
   "outputs": [
    {
     "name": "stdout",
     "output_type": "stream",
     "text": [
      "Match\n"
     ]
    }
   ],
   "source": [
    "result = re.fullmatch(pattern=\"[013][FXB]\", string = \"1X\")\n",
    "\n",
    "if result:\n",
    "    print(\"Match\")\n",
    "else:\n",
    "    print(\"No match\")"
   ]
  },
  {
   "cell_type": "markdown",
   "id": "82e112a2-0c7b-4987-935d-25bd13e07189",
   "metadata": {},
   "source": [
    "First character should be either 0 or 1 or 3. Same for the second and third character. The fourth character should be F, X or B. Any combination is possible:"
   ]
  },
  {
   "cell_type": "code",
   "execution_count": 34,
   "id": "f9b53fb6-5460-4fc0-a433-e208fba58c84",
   "metadata": {},
   "outputs": [
    {
     "name": "stdout",
     "output_type": "stream",
     "text": [
      "Match\n"
     ]
    }
   ],
   "source": [
    "result = re.fullmatch(pattern=\"[013]{3}[FXB]\", string = \"130X\")\n",
    "\n",
    "if result:\n",
    "    print(\"Match\")\n",
    "else:\n",
    "    print(\"No match\")"
   ]
  },
  {
   "cell_type": "markdown",
   "id": "39964b36-1ed8-42db-abca-e2d7e52043e9",
   "metadata": {},
   "source": [
    "First 3 characters are allowed to be composed only out of letters <kbd>S, T, E, F, A</kbd> and <kbd>N</kbd>. All capital. The last fourth letter is allowed to be composed only out of letters v, a, n, l and i. All lowercase."
   ]
  },
  {
   "cell_type": "code",
   "execution_count": 40,
   "id": "274bad41-4868-45da-82bb-b33de8ccefc1",
   "metadata": {},
   "outputs": [
    {
     "name": "stdout",
     "output_type": "stream",
     "text": [
      "Match\n"
     ]
    }
   ],
   "source": [
    "result = re.fullmatch(pattern=\"[STEFAN]{3}[vanli]{1}\", string = \"EFEl\")\n",
    "\n",
    "if result:\n",
    "    print(\"Match\")\n",
    "else:\n",
    "    print(\"No match\")"
   ]
  },
  {
   "cell_type": "markdown",
   "id": "de393094-1331-4e49-8b1e-515ac5532b2a",
   "metadata": {},
   "source": [
    "Можно указать промежуток, который ты бы хотел использовать. В данном случае используются только буквы от B до H для первого символа и цифры от 3 до 7 для второго."
   ]
  },
  {
   "cell_type": "code",
   "execution_count": 42,
   "id": "07e2823c-c89d-4533-b17e-aff5d2ef5b7c",
   "metadata": {},
   "outputs": [
    {
     "name": "stdout",
     "output_type": "stream",
     "text": [
      "Match\n"
     ]
    }
   ],
   "source": [
    "result = re.fullmatch(pattern=\"[B-H][3-7]\", string = \"D5\")\n",
    "\n",
    "if result:\n",
    "    print(\"Match\")\n",
    "else:\n",
    "    print(\"No match\")"
   ]
  },
  {
   "cell_type": "markdown",
   "id": "0b2c6913-8b42-4ae2-b874-09fc8d736e8b",
   "metadata": {},
   "source": [
    "Допустимые символы для первого символа: промежуток символов от A до Z, от a до z и от 0 до 9. Оно пишется A-Z и сразу дальше без пробела a-z потому что код видит их вместе: (A-Z)(a-z)(0-9). Если поставишь между ними дефис, то код будет видеть дополнительный символ типа (A-Z)(-)(a-z)(-)(0-9). Порядок, насколько я понял, не важен. В данном случае заглавные и строчные символы а также цифры не имеют между собой какого-то приоритета."
   ]
  },
  {
   "cell_type": "code",
   "execution_count": 47,
   "id": "c0c1a11b-8308-4e5a-a91e-2ab4687372b1",
   "metadata": {},
   "outputs": [
    {
     "name": "stdout",
     "output_type": "stream",
     "text": [
      "Match\n"
     ]
    }
   ],
   "source": [
    "result = re.fullmatch(pattern=\"[A-Za-z0-9][3-7]\", string = \"a5\")\n",
    "\n",
    "if result:\n",
    "    print(\"Match\")\n",
    "else:\n",
    "    print(\"No match\")"
   ]
  },
  {
   "cell_type": "markdown",
   "id": "6dc4ac0e-eafd-439e-a1d7-4b17e40875b9",
   "metadata": {},
   "source": [
    "<code>^</code> (a carrot) before a character/characters means <i>don't include the following (after this symbol) characters</i>:"
   ]
  },
  {
   "cell_type": "code",
   "execution_count": 52,
   "id": "b0e76b7e-5831-4311-af6c-5a050b5a2a57",
   "metadata": {},
   "outputs": [
    {
     "name": "stdout",
     "output_type": "stream",
     "text": [
      "Match\n"
     ]
    }
   ],
   "source": [
    "result = re.fullmatch(pattern=\"[^1-3]\", string = \"4\")\n",
    "\n",
    "if result:\n",
    "    print(\"Match\")\n",
    "else:\n",
    "    print(\"No match\")"
   ]
  },
  {
   "cell_type": "markdown",
   "id": "1770ba03-28f2-47af-bb9b-e105dbf9c2e1",
   "metadata": {},
   "source": [
    "If you want to include dash <kbd>-</kbd> you can include it the following way: "
   ]
  },
  {
   "cell_type": "code",
   "execution_count": 56,
   "id": "82e46d41-766e-4c99-80f6-4e0051903711",
   "metadata": {},
   "outputs": [
    {
     "name": "stdout",
     "output_type": "stream",
     "text": [
      "Match\n"
     ]
    }
   ],
   "source": [
    "result = re.fullmatch(pattern=\"[-1-3]\", string = \"-\") # or [1-3-]\n",
    "\n",
    "if result:\n",
    "    print(\"Match\")\n",
    "else:\n",
    "    print(\"No match\")"
   ]
  },
  {
   "cell_type": "code",
   "execution_count": null,
   "id": "fc092ff7-2dde-4e87-96c8-c8bdda093d96",
   "metadata": {},
   "outputs": [],
   "source": [
    "^[0-9]\n",
    "jawhdih23892389\n",
    "84289ido3\n",
    "ioj2oh3x\n",
    "2i3od2ij3nd\n",
    "jd2i3d9"
   ]
  }
 ],
 "metadata": {
  "kernelspec": {
   "display_name": "Python 3 (ipykernel)",
   "language": "python",
   "name": "python3"
  },
  "language_info": {
   "codemirror_mode": {
    "name": "ipython",
    "version": 3
   },
   "file_extension": ".py",
   "mimetype": "text/x-python",
   "name": "python",
   "nbconvert_exporter": "python",
   "pygments_lexer": "ipython3",
   "version": "3.9.13"
  }
 },
 "nbformat": 4,
 "nbformat_minor": 5
}
