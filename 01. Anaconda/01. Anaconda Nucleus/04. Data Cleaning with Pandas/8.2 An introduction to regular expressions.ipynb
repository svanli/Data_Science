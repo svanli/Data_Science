{
 "cells": [
  {
   "cell_type": "markdown",
   "id": "4273e4f4-1893-4abd-b330-352fc0d3aabf",
   "metadata": {},
   "source": [
    "# An introduction to regular expressions\n",
    "Decoding simple regex features to match complex text patterns."
   ]
  },
  {
   "cell_type": "markdown",
   "id": "61864738-5752-4b30-a443-7e4b10c53578",
   "metadata": {},
   "source": [
    "From: https://www.oreilly.com/content/an-introduction-to-regular-expressions/"
   ]
  },
  {
   "cell_type": "markdown",
   "id": "5f3924f8-a9af-45b7-b1c1-3654362fcaa2",
   "metadata": {},
   "source": [
    "<i>Offtopic | HTML-codes from: https://www.startertutorials.com/ajwt/character-formatting-essentials.html</i>"
   ]
  },
  {
   "cell_type": "code",
   "execution_count": 1,
   "id": "a1ee453d-e739-49a1-b97e-dd9f68017c76",
   "metadata": {},
   "outputs": [],
   "source": [
    "import re\n",
    "import pandas as pd"
   ]
  },
  {
   "cell_type": "markdown",
   "id": "52f9b6d3-0464-44d2-8a5a-5702e49babe8",
   "metadata": {},
   "source": [
    "Match two capital letters like AA, AB, AC, DE etc.:"
   ]
  },
  {
   "cell_type": "code",
   "execution_count": 2,
   "id": "9dff427c-885b-48eb-b919-88052e59eb5d",
   "metadata": {},
   "outputs": [
    {
     "name": "stdout",
     "output_type": "stream",
     "text": [
      "Match\n"
     ]
    }
   ],
   "source": [
    "result = re.fullmatch(pattern=\"[A-Z]{2}\", string = \"TX\")\n",
    "\n",
    "if result:\n",
    "    print(\"Match\")\n",
    "else:\n",
    "    print(\"No match\")"
   ]
  },
  {
   "cell_type": "code",
   "execution_count": 3,
   "id": "bf5611e6-0704-4ee5-8220-10ef8c1a093c",
   "metadata": {
    "jupyter": {
     "source_hidden": true
    },
    "tags": []
   },
   "outputs": [
    {
     "data": {
      "text/plain": [
       "0     TX\n",
       "1     AX\n",
       "2     SW\n",
       "3    asc\n",
       "Name: abbreviations, dtype: object"
      ]
     },
     "execution_count": 3,
     "metadata": {},
     "output_type": "execute_result"
    }
   ],
   "source": [
    "abb = pd.Series([\"TX\", \"AX\", \"SW\", \"asc\"], name = 'abbreviations')\n",
    "abb"
   ]
  },
  {
   "cell_type": "markdown",
   "id": "3678c4fc-8e77-404e-a3e2-0104ce478e08",
   "metadata": {},
   "source": [
    "Match $10:"
   ]
  },
  {
   "cell_type": "code",
   "execution_count": 4,
   "id": "bfd88dc1-cf43-4e4a-aba9-7320bfb46843",
   "metadata": {},
   "outputs": [
    {
     "name": "stdout",
     "output_type": "stream",
     "text": [
      "Match\n"
     ]
    }
   ],
   "source": [
    "result = re.fullmatch(pattern=\"\\$10\", string = \"$10\")\n",
    "\n",
    "if result:\n",
    "    print(\"Match\")\n",
    "else:\n",
    "    print(\"No match\")"
   ]
  },
  {
   "cell_type": "markdown",
   "id": "e29a0528-adc6-4b13-9950-d9cf0585fd3b",
   "metadata": {},
   "source": [
    "<code>\\s</code> is space:"
   ]
  },
  {
   "cell_type": "code",
   "execution_count": 5,
   "id": "7e198ddb-d18f-4431-bc8b-3490fb6cb9d0",
   "metadata": {},
   "outputs": [
    {
     "name": "stdout",
     "output_type": "stream",
     "text": [
      "Match\n"
     ]
    }
   ],
   "source": [
    "result = re.fullmatch(pattern=\"Lorem\\sIpsum\", string = \"Lorem Ipsum\")\n",
    "\n",
    "if result:\n",
    "    print(\"Match\")\n",
    "else:\n",
    "    print(\"No match\")"
   ]
  },
  {
   "cell_type": "markdown",
   "id": "02ac175f-f329-4f62-8549-4e472cb05018",
   "metadata": {},
   "source": [
    "First character should be 0, 1 or 3 and second character should be F, X or B. Any combination is possible:"
   ]
  },
  {
   "cell_type": "code",
   "execution_count": 6,
   "id": "50b00c09-d6c6-4caa-81ee-7f466888cab6",
   "metadata": {},
   "outputs": [
    {
     "name": "stdout",
     "output_type": "stream",
     "text": [
      "Match\n"
     ]
    }
   ],
   "source": [
    "result = re.fullmatch(pattern=\"[013][FXB]\", string = \"1X\")\n",
    "\n",
    "if result:\n",
    "    print(\"Match\")\n",
    "else:\n",
    "    print(\"No match\")"
   ]
  },
  {
   "cell_type": "markdown",
   "id": "82e112a2-0c7b-4987-935d-25bd13e07189",
   "metadata": {},
   "source": [
    "First character should be either 0 or 1 or 3. Same for the second and third character. The fourth character should be F, X or B. Any combination is possible:"
   ]
  },
  {
   "cell_type": "code",
   "execution_count": 7,
   "id": "f9b53fb6-5460-4fc0-a433-e208fba58c84",
   "metadata": {},
   "outputs": [
    {
     "name": "stdout",
     "output_type": "stream",
     "text": [
      "Match\n"
     ]
    }
   ],
   "source": [
    "result = re.fullmatch(pattern=\"[013]{3}[FXB]\", string = \"130X\")\n",
    "\n",
    "if result:\n",
    "    print(\"Match\")\n",
    "else:\n",
    "    print(\"No match\")"
   ]
  },
  {
   "cell_type": "markdown",
   "id": "39964b36-1ed8-42db-abca-e2d7e52043e9",
   "metadata": {},
   "source": [
    "First 3 characters are allowed to be composed only out of letters <kbd>S, T, E, F, A</kbd> and <kbd>N</kbd>. All capital. The last fourth letter is allowed to be composed only out of letters v, a, n, l and i. All lowercase."
   ]
  },
  {
   "cell_type": "code",
   "execution_count": 8,
   "id": "274bad41-4868-45da-82bb-b33de8ccefc1",
   "metadata": {},
   "outputs": [
    {
     "name": "stdout",
     "output_type": "stream",
     "text": [
      "Match\n"
     ]
    }
   ],
   "source": [
    "result = re.fullmatch(pattern=\"[STEFAN]{3}[vanli]{1}\", string = \"EFEl\")\n",
    "\n",
    "if result:\n",
    "    print(\"Match\")\n",
    "else:\n",
    "    print(\"No match\")"
   ]
  },
  {
   "cell_type": "markdown",
   "id": "de393094-1331-4e49-8b1e-515ac5532b2a",
   "metadata": {},
   "source": [
    "Можно указать промежуток, который ты бы хотел использовать. В данном случае используются только буквы от B до H для первого символа и цифры от 3 до 7 для второго."
   ]
  },
  {
   "cell_type": "code",
   "execution_count": 9,
   "id": "07e2823c-c89d-4533-b17e-aff5d2ef5b7c",
   "metadata": {},
   "outputs": [
    {
     "name": "stdout",
     "output_type": "stream",
     "text": [
      "Match\n"
     ]
    }
   ],
   "source": [
    "result = re.fullmatch(pattern=\"[B-H][3-7]\", string = \"D5\")\n",
    "\n",
    "if result:\n",
    "    print(\"Match\")\n",
    "else:\n",
    "    print(\"No match\")"
   ]
  },
  {
   "cell_type": "markdown",
   "id": "0b2c6913-8b42-4ae2-b874-09fc8d736e8b",
   "metadata": {},
   "source": [
    "Допустимые символы для первого символа: промежуток символов от A до Z, от a до z и от 0 до 9. Оно пишется A-Z и сразу дальше без пробела a-z потому что код видит их вместе: (A-Z)(a-z)(0-9). Если поставишь между ними дефис, то код будет видеть дополнительный символ типа (A-Z)(-)(a-z)(-)(0-9). Порядок, насколько я понял, не важен. В данном случае заглавные и строчные символы а также цифры не имеют между собой какого-то приоритета."
   ]
  },
  {
   "cell_type": "code",
   "execution_count": 10,
   "id": "c0c1a11b-8308-4e5a-a91e-2ab4687372b1",
   "metadata": {},
   "outputs": [
    {
     "name": "stdout",
     "output_type": "stream",
     "text": [
      "Match\n"
     ]
    }
   ],
   "source": [
    "result = re.fullmatch(pattern=\"[A-Za-z0-9][3-7]\", string = \"a5\")\n",
    "\n",
    "if result:\n",
    "    print(\"Match\")\n",
    "else:\n",
    "    print(\"No match\")"
   ]
  },
  {
   "cell_type": "markdown",
   "id": "c3e7bf14-37eb-4ab5-8146-cfc59ce20d4b",
   "metadata": {},
   "source": [
    "Альтернативой <i>0-9</i> является <i>\\d</i>. Пример:"
   ]
  },
  {
   "cell_type": "code",
   "execution_count": 39,
   "id": "40fffd66-a37a-464e-b5f4-ae56e0717b80",
   "metadata": {},
   "outputs": [
    {
     "name": "stdout",
     "output_type": "stream",
     "text": [
      "Match\n"
     ]
    }
   ],
   "source": [
    "result = re.fullmatch(pattern=\"[A-Za-z\\d]\", string = \"5\")\n",
    "\n",
    "if result:\n",
    "    print(\"Match\")\n",
    "else:\n",
    "    print(\"No match\")"
   ]
  },
  {
   "cell_type": "markdown",
   "id": "6dc4ac0e-eafd-439e-a1d7-4b17e40875b9",
   "metadata": {},
   "source": [
    "<code>^</code> (a carrot) before a character/characters means <i>don't include the following (after this symbol) characters</i>:"
   ]
  },
  {
   "cell_type": "code",
   "execution_count": 11,
   "id": "b0e76b7e-5831-4311-af6c-5a050b5a2a57",
   "metadata": {},
   "outputs": [
    {
     "name": "stdout",
     "output_type": "stream",
     "text": [
      "Match\n"
     ]
    }
   ],
   "source": [
    "result = re.fullmatch(pattern=\"[^1-3]\", string = \"4\")\n",
    "\n",
    "if result:\n",
    "    print(\"Match\")\n",
    "else:\n",
    "    print(\"No match\")"
   ]
  },
  {
   "cell_type": "markdown",
   "id": "1770ba03-28f2-47af-bb9b-e105dbf9c2e1",
   "metadata": {},
   "source": [
    "If you want to include dash <kbd>-</kbd> you can include it the following way: "
   ]
  },
  {
   "cell_type": "code",
   "execution_count": 12,
   "id": "82e46d41-766e-4c99-80f6-4e0051903711",
   "metadata": {},
   "outputs": [
    {
     "name": "stdout",
     "output_type": "stream",
     "text": [
      "Match\n"
     ]
    }
   ],
   "source": [
    "result = re.fullmatch(pattern=\"[-1-3]\", string = \"-\") # or [1-3-]\n",
    "\n",
    "if result:\n",
    "    print(\"Match\")\n",
    "else:\n",
    "    print(\"No match\")"
   ]
  },
  {
   "cell_type": "markdown",
   "id": "b1ac9a21-11db-40fe-a742-a4d19a8ec341",
   "metadata": {},
   "source": [
    "<code>^</code> at the beginning says: <i>it should begin with this symbol</i>\n",
    "<br>\n",
    "<code>$</code> at the end says: <i>it should end with this symbol</i>\n",
    "<br> <br>\n",
    "It does not match here, but works fin on regex101.com"
   ]
  },
  {
   "cell_type": "code",
   "execution_count": 13,
   "id": "5b7ee807-c517-4562-b1c0-98f053b07f8f",
   "metadata": {},
   "outputs": [
    {
     "name": "stdout",
     "output_type": "stream",
     "text": [
      "No match\n"
     ]
    }
   ],
   "source": [
    "result = re.fullmatch(pattern=\"^[0-9]\", string = \"84289ido3\")\n",
    "\n",
    "if result:\n",
    "    print(\"Match\")\n",
    "else:\n",
    "    print(\"No match\")"
   ]
  },
  {
   "cell_type": "code",
   "execution_count": 14,
   "id": "5ed0a3b9-30ff-47ce-a69c-edb65e723139",
   "metadata": {},
   "outputs": [
    {
     "name": "stdout",
     "output_type": "stream",
     "text": [
      "No match\n"
     ]
    }
   ],
   "source": [
    "result = re.fullmatch(pattern=\"[0-9]$\", string = \"84289ido3\")\n",
    "\n",
    "if result:\n",
    "    print(\"Match\")\n",
    "else:\n",
    "    print(\"No match\")"
   ]
  },
  {
   "cell_type": "markdown",
   "id": "61ab59ce-f17b-43be-9540-1cf72046126b",
   "metadata": {},
   "source": [
    "Qualifying the start <code>^</code> and end <code>$</code> of a string forces everything between them to be the only contents allowed in the input. Like in the example below, where only 2 numbers are allowed:"
   ]
  },
  {
   "cell_type": "code",
   "execution_count": 15,
   "id": "c091bfaf-79e5-4420-8404-4442527228b2",
   "metadata": {},
   "outputs": [
    {
     "name": "stdout",
     "output_type": "stream",
     "text": [
      "Match\n"
     ]
    }
   ],
   "source": [
    "result = re.fullmatch(pattern=\"^[0-9][0-9]$\", string = \"84\")\n",
    "\n",
    "if result:\n",
    "    print(\"Match\")\n",
    "else:\n",
    "    print(\"No match\")"
   ]
  },
  {
   "cell_type": "markdown",
   "id": "2ed475e6-8391-47dc-817e-567616124972",
   "metadata": {},
   "source": [
    "Match a Dutch telefone number:"
   ]
  },
  {
   "cell_type": "code",
   "execution_count": 16,
   "id": "f0fda84a-45e4-4c43-b3f0-0ec8a2d89873",
   "metadata": {},
   "outputs": [
    {
     "name": "stdout",
     "output_type": "stream",
     "text": [
      "Match\n"
     ]
    }
   ],
   "source": [
    "result = re.fullmatch(pattern=\"[+][3][1] [6] [0-9]{2} [0-9]{2} [0-9]{2} [0-9]{2}\", \n",
    "                      string = \"+31 6 83 26 10 38\")\n",
    "\n",
    "if result:\n",
    "    print(\"Match\")\n",
    "else:\n",
    "    print(\"No match\")"
   ]
  },
  {
   "cell_type": "markdown",
   "id": "cdd886d3-aae3-464c-8220-b4bdc5ebe484",
   "metadata": {},
   "source": [
    "Use <code>{}</code> to state the number of repetitions. E.g. <code>[0-9]{2}</code> is equal to <code>[0-9][0-9]</code> and means <i>repeat the number two times</i>"
   ]
  },
  {
   "cell_type": "code",
   "execution_count": 17,
   "id": "438500e4-8d6b-46cd-b585-267eea8b02b6",
   "metadata": {},
   "outputs": [
    {
     "name": "stdout",
     "output_type": "stream",
     "text": [
      "Match\n"
     ]
    }
   ],
   "source": [
    "result = re.fullmatch(pattern=\"[0-9]{2}\", \n",
    "                      string = \"38\")\n",
    "\n",
    "if result:\n",
    "    print(\"Match\")\n",
    "else:\n",
    "    print(\"No match\")"
   ]
  },
  {
   "cell_type": "markdown",
   "id": "e9e261ec-98a0-48b7-913c-55ab2092c288",
   "metadata": {},
   "source": [
    "Match a 10-digit phone number with dashes:"
   ]
  },
  {
   "cell_type": "code",
   "execution_count": 18,
   "id": "8427ee44-328b-46f3-98fc-927b629b533c",
   "metadata": {},
   "outputs": [
    {
     "name": "stdout",
     "output_type": "stream",
     "text": [
      "Match\n"
     ]
    }
   ],
   "source": [
    "result = re.fullmatch(pattern=\"[0-9]{3}-[0-9]{3}-[0-9]{4}\", \n",
    "                      string = \"470-127-7501\")\n",
    "\n",
    "if result:\n",
    "    print(\"Match\")\n",
    "else:\n",
    "    print(\"No match\")"
   ]
  },
  {
   "cell_type": "markdown",
   "id": "1218cdd6-8fd6-4288-8f7f-9c5975e42ac8",
   "metadata": {},
   "source": [
    "Use <code>{n,n}</code> (n,n ← without spaces!) to state the <i>minimum</i> and <i>maximum</i> number of repetitions. E.g. <code>[0-9]{2,4}</code> means <i>repeat the number minimum 2 times and maximum 3</i>. If you leave the second number empty, e.g. like <code>{n,}</code> then you will state a <i>minimum</i> without a <i>maximum</i>."
   ]
  },
  {
   "cell_type": "code",
   "execution_count": 19,
   "id": "637f766c-8d39-499e-9838-3b58a7204144",
   "metadata": {},
   "outputs": [
    {
     "name": "stdout",
     "output_type": "stream",
     "text": [
      "Match\n"
     ]
    }
   ],
   "source": [
    "result = re.fullmatch(pattern=\"[0-9]{4,6}\", \n",
    "                      string = \"746311\")\n",
    "\n",
    "if result:\n",
    "    print(\"Match\")\n",
    "else:\n",
    "    print(\"No match\")"
   ]
  },
  {
   "cell_type": "markdown",
   "id": "2b58d562-5368-4a61-b902-f08395b63252",
   "metadata": {},
   "source": [
    "If you want a value to be made optional you can use <code>?</code> or <code>{0,1}</code>:"
   ]
  },
  {
   "cell_type": "code",
   "execution_count": 20,
   "id": "6e3bff59-c2fa-43f0-a329-70eee3fbea59",
   "metadata": {},
   "outputs": [
    {
     "name": "stdout",
     "output_type": "stream",
     "text": [
      "Match\n"
     ]
    }
   ],
   "source": [
    "result = re.fullmatch(pattern=\"[0-9]?[A-Za-z]\", \n",
    "                      string = \"1A\")\n",
    "\n",
    "if result:\n",
    "    print(\"Match\")\n",
    "else:\n",
    "    print(\"No match\")"
   ]
  },
  {
   "cell_type": "code",
   "execution_count": 21,
   "id": "2ceeac12-6073-437e-b62d-2af5fa602691",
   "metadata": {},
   "outputs": [
    {
     "name": "stdout",
     "output_type": "stream",
     "text": [
      "Match\n"
     ]
    }
   ],
   "source": [
    "result = re.fullmatch(pattern=\"[0-9]{0,1}[A-Za-z]\", \n",
    "                      string = \"1A\")\n",
    "\n",
    "if result:\n",
    "    print(\"Match\")\n",
    "else:\n",
    "    print(\"No match\")"
   ]
  },
  {
   "cell_type": "markdown",
   "id": "0ab344a9-e1d7-4b5f-b078-309587384f8b",
   "metadata": {},
   "source": [
    "Making the dashes in the phone number optional:"
   ]
  },
  {
   "cell_type": "code",
   "execution_count": 22,
   "id": "1a1230de-2e3a-4ab2-87ed-8b99004e5d38",
   "metadata": {},
   "outputs": [
    {
     "name": "stdout",
     "output_type": "stream",
     "text": [
      "Match\n"
     ]
    }
   ],
   "source": [
    "result = re.fullmatch(pattern=\"[0-9]{3}-?[0-9]{3}-?[0-9]{4}\", \n",
    "                      string = \"4701277501\")\n",
    "\n",
    "if result:\n",
    "    print(\"Match\")\n",
    "else:\n",
    "    print(\"No match\")"
   ]
  },
  {
   "cell_type": "markdown",
   "id": "838f4f68-2e0b-47b4-9b95-bfe885b91ad7",
   "metadata": {},
   "source": [
    "Making the country code <i>+31</i> optional as well as spaces:"
   ]
  },
  {
   "cell_type": "code",
   "execution_count": 23,
   "id": "e3b22d6e-542c-4a45-bf1f-3f4e96383b48",
   "metadata": {},
   "outputs": [
    {
     "name": "stdout",
     "output_type": "stream",
     "text": [
      "Match\n"
     ]
    }
   ],
   "source": [
    "result = re.fullmatch(pattern=\"[+]?[3]?[1]? ?[6] ?[0-9]{2} ?[0-9]{2} ?[0-9]{2} ?[0-9]{2}\", \n",
    "                      string = \"6 83261038\")\n",
    "\n",
    "if result:\n",
    "    print(\"Match\")\n",
    "else:\n",
    "    print(\"No match\")"
   ]
  },
  {
   "cell_type": "markdown",
   "id": "a11e0300-7e7f-43d2-a0d9-bc7188da5691",
   "metadata": {},
   "source": [
    "1 or more repetitions can be made using <code>+</code> or <code>{1,}</code>:"
   ]
  },
  {
   "cell_type": "code",
   "execution_count": 24,
   "id": "36f7fa9a-8eb8-48f1-8ec2-9c834fcf897b",
   "metadata": {},
   "outputs": [
    {
     "name": "stdout",
     "output_type": "stream",
     "text": [
      "Match\n"
     ]
    }
   ],
   "source": [
    "result = re.fullmatch(pattern=\"[5]+[A-Za-z]\", \n",
    "                      string = \"555A\")\n",
    "\n",
    "if result:\n",
    "    print(\"Match\")\n",
    "else:\n",
    "    print(\"No match\")"
   ]
  },
  {
   "cell_type": "markdown",
   "id": "95f1e6fe-d640-4381-9bb4-51edb3bc48b1",
   "metadata": {},
   "source": [
    "0 or more repetitions can be made using <code>*</code> or <code>{0,}</code>:"
   ]
  },
  {
   "cell_type": "code",
   "execution_count": 25,
   "id": "9e82a52b-db7d-4bac-92ee-e724c39c1f6c",
   "metadata": {},
   "outputs": [
    {
     "name": "stdout",
     "output_type": "stream",
     "text": [
      "Match\n"
     ]
    }
   ],
   "source": [
    "result = re.fullmatch(pattern=\"[5]*[A-Za-z]\", \n",
    "                      string = \"A\")\n",
    "\n",
    "if result:\n",
    "    print(\"Match\")\n",
    "else:\n",
    "    print(\"No match\")"
   ]
  },
  {
   "cell_type": "markdown",
   "id": "90993c53-4f8c-4d8a-ae20-82b6e8619fa7",
   "metadata": {},
   "source": [
    "<code>.</code> means <i>any character</i>. In the example below you have [(1) only one number 5] followed by [(2) 3 random characters] followed by [(3) 1 capital letter]:\n",
    "<br>\n",
    "<br>\n",
    "Note that <code>.{3}</code> = <code>...</code>"
   ]
  },
  {
   "cell_type": "code",
   "execution_count": 26,
   "id": "20586355-f1d2-4358-a029-a132692aed11",
   "metadata": {},
   "outputs": [
    {
     "name": "stdout",
     "output_type": "stream",
     "text": [
      "Match\n"
     ]
    }
   ],
   "source": [
    "result = re.fullmatch(pattern=\"[5].{3}[A-Z]\", \n",
    "                      string = \"5&@)D\")\n",
    "\n",
    "if result:\n",
    "    print(\"Match\")\n",
    "else:\n",
    "    print(\"No match\")"
   ]
  },
  {
   "cell_type": "markdown",
   "id": "6a21a888-623f-4b28-97a8-999ed8bd7dd7",
   "metadata": {},
   "source": [
    "Alternative to SQL's <code>_*_</code> is <code>.*</code>. It means <i>match any symbol for 0 or more times</i>."
   ]
  },
  {
   "cell_type": "code",
   "execution_count": 27,
   "id": "44766219-5bde-4322-a667-8290935eabb5",
   "metadata": {},
   "outputs": [
    {
     "name": "stdout",
     "output_type": "stream",
     "text": [
      "Match\n"
     ]
    }
   ],
   "source": [
    "result = re.fullmatch(pattern=\".*\", \n",
    "                      string = \"5&@)D\")\n",
    "\n",
    "if result:\n",
    "    print(\"Match\")\n",
    "else:\n",
    "    print(\"No match\")"
   ]
  },
  {
   "cell_type": "markdown",
   "id": "94015c70-47fc-4cb4-a1da-427d32765056",
   "metadata": {},
   "source": [
    "Use <code>()</code> for grouping. In the example below we make the index letters optional:"
   ]
  },
  {
   "cell_type": "code",
   "execution_count": 28,
   "id": "48d9851c-4d14-4219-b879-7bf87c30b768",
   "metadata": {},
   "outputs": [
    {
     "name": "stdout",
     "output_type": "stream",
     "text": [
      "Match\n"
     ]
    }
   ],
   "source": [
    "result = re.fullmatch(pattern=\"[0-9]{4}( [A-Za-z]{2})?\", \n",
    "                      string = \"3024 SG\")\n",
    "\n",
    "if result:\n",
    "    print(\"Match\")\n",
    "else:\n",
    "    print(\"No match\")"
   ]
  },
  {
   "cell_type": "code",
   "execution_count": 29,
   "id": "9d1be3df-ae8b-4385-ba63-4d73b58ee437",
   "metadata": {},
   "outputs": [
    {
     "name": "stdout",
     "output_type": "stream",
     "text": [
      "Match\n"
     ]
    }
   ],
   "source": [
    "result = re.fullmatch(pattern=\"([A-Z]{4}-)?[0-9]{3}-?[0-9]{4}\", \n",
    "                      string = \"DEBS-127-7501\")\n",
    "\n",
    "if result:\n",
    "    print(\"Match\")\n",
    "else:\n",
    "    print(\"No match\")"
   ]
  },
  {
   "cell_type": "markdown",
   "id": "07ea6102-82e8-43cd-a0ab-ab4128539b44",
   "metadata": {},
   "source": [
    "<code>OR</code> is expressed with <code>|</code>. It alternates two or more valid patterns where at least one of those patterns must match in that position. In the example below we want to get US zip codes that end with 35 or 75. It means that we have 3 numbers and the last two numbers (extra numbers) should be 35 or 75. In total there are 5 numbers."
   ]
  },
  {
   "cell_type": "code",
   "execution_count": 30,
   "id": "044c4904-02a7-4ecf-a652-93dee6468f79",
   "metadata": {},
   "outputs": [
    {
     "name": "stdout",
     "output_type": "stream",
     "text": [
      "Match\n"
     ]
    }
   ],
   "source": [
    "result = re.fullmatch(pattern=\"[0-9]{3}(35|75)\", \n",
    "                      string = \"93435\")\n",
    "\n",
    "if result:\n",
    "    print(\"Match\")\n",
    "else:\n",
    "    print(\"No match\")"
   ]
  },
  {
   "cell_type": "markdown",
   "id": "01b5d013-bfb8-4565-a394-4bb7c623c754",
   "metadata": {},
   "source": [
    "Look up for indexes that have a number between 3025-3030, space is optional and the index letters should be either AN or NK:"
   ]
  },
  {
   "cell_type": "code",
   "execution_count": 31,
   "id": "0327e64b-d9d7-4762-92dd-a50878d9b684",
   "metadata": {},
   "outputs": [
    {
     "name": "stdout",
     "output_type": "stream",
     "text": [
      "Match\n"
     ]
    }
   ],
   "source": [
    "result = re.fullmatch(pattern=\"[3][0](25|26|27|28|29|30) ?(AN|NK)\", \n",
    "                      string = \"3030NK\")\n",
    "\n",
    "if result:\n",
    "    print(\"Match\")\n",
    "else:\n",
    "    print(\"No match\")"
   ]
  },
  {
   "cell_type": "markdown",
   "id": "d9f3ad81-6c22-46ff-b6a8-66c4517db56d",
   "metadata": {},
   "source": [
    "<code>|</code> can also be used to simply to qualify a set of literal values. E.g. if I want to only match ALPHA, BETA, and GAMMA, I can use <code>|</code> to achieve this."
   ]
  },
  {
   "cell_type": "code",
   "execution_count": 32,
   "id": "46dec84d-3fcc-4d25-8057-0d0f0e5763d9",
   "metadata": {},
   "outputs": [
    {
     "name": "stdout",
     "output_type": "stream",
     "text": [
      "Match\n"
     ]
    }
   ],
   "source": [
    "result = re.fullmatch(pattern=\"ALPHA|BETA|GAMMA\", \n",
    "                      string = \"BETA\")\n",
    "\n",
    "if result:\n",
    "    print(\"Match\")\n",
    "else:\n",
    "    print(\"No match\")"
   ]
  },
  {
   "cell_type": "markdown",
   "id": "268e2ac8-e90a-4b9c-ae84-38d7e2a03eaf",
   "metadata": {},
   "source": [
    "This is a prefix <code>(?<=text)</code> and this is a suffix <code>(?=text)</code>. You use a prefix in a situation when you want e.g. extract numbers that are precedes by uppercase letters. Like you want to get <i>12</i> from the <i>ALPHA12</i>."
   ]
  },
  {
   "cell_type": "code",
   "execution_count": null,
   "id": "ec7a2672-d5ae-4917-959a-85afc631da55",
   "metadata": {},
   "outputs": [],
   "source": [
    "# A prefix\n",
    "result = re.fullmatch(pattern=\"(?<=[A-Z]+)[0-9]+\", \n",
    "                      string = \"ALPHA12\")\n",
    "\n",
    "if result:\n",
    "    print(\"Match\")\n",
    "else:\n",
    "    print(\"No match\")"
   ]
  },
  {
   "cell_type": "code",
   "execution_count": null,
   "id": "c9b4cbaf-2bad-49ed-baf1-8a06fbe60a06",
   "metadata": {},
   "outputs": [],
   "source": [
    "# A suffic\n",
    "result = re.fullmatch(pattern=\"[0-9]+(?=[A-Z]+)\", \n",
    "                      string = \"12ALPHA\")\n",
    "\n",
    "if result:\n",
    "    print(\"Match\")\n",
    "else:\n",
    "    print(\"No match\")"
   ]
  },
  {
   "cell_type": "markdown",
   "id": "d9d4b5cb-db63-4a1a-b52c-07e5ecded9e9",
   "metadata": {},
   "source": [
    "From: https://towardsai.net/p/l/regular-expression-regex-in-python-the-basics"
   ]
  },
  {
   "cell_type": "markdown",
   "id": "4d5b5d6d-5bd0-499b-b61b-90915f5e2681",
   "metadata": {},
   "source": [
    "Sythax of the <code>finall</code> function:"
   ]
  },
  {
   "cell_type": "markdown",
   "id": "32d508fd-6bff-440c-8d0f-f2392fb22f82",
   "metadata": {},
   "source": [
    "re.findall(pattern = <replace with the regex pattern>,\n",
    "    string = <replace with the text>)"
   ]
  },
  {
   "cell_type": "code",
   "execution_count": 43,
   "id": "42c81c78-a44c-425f-a630-8a31adf92100",
   "metadata": {},
   "outputs": [
    {
     "data": {
      "text/plain": [
       "['Player1', 'Player2']"
      ]
     },
     "execution_count": 43,
     "metadata": {},
     "output_type": "execute_result"
    }
   ],
   "source": [
    "re.findall(pattern = r\"Player\\d\",\n",
    "           string = \"Player1 and Player2 form a team.\")"
   ]
  },
  {
   "cell_type": "code",
   "execution_count": 48,
   "id": "2f0bc5e3-6f39-4bd1-a8e4-8b70e4d3df97",
   "metadata": {},
   "outputs": [
    {
     "name": "stdout",
     "output_type": "stream",
     "text": [
      "Line1 \n",
      "Line2\n"
     ]
    }
   ],
   "source": [
    "print('Line1 \\nLine2')"
   ]
  },
  {
   "cell_type": "code",
   "execution_count": 46,
   "id": "1b11ba74-a8d5-4d1c-909b-6b2ecaea7268",
   "metadata": {},
   "outputs": [
    {
     "name": "stdout",
     "output_type": "stream",
     "text": [
      "Line1 \tLine2\n"
     ]
    }
   ],
   "source": [
    "print('Line1 \\tLine2')"
   ]
  },
  {
   "cell_type": "markdown",
   "id": "becf84fc-cdda-446c-9394-a10a2774a36b",
   "metadata": {},
   "source": [
    "1. Literal match of word <i>player</i>:"
   ]
  },
  {
   "cell_type": "code",
   "execution_count": 49,
   "id": "33e0cc87-339c-434a-88e9-8d77e7f30538",
   "metadata": {},
   "outputs": [
    {
     "data": {
      "text/plain": [
       "['player', 'player', 'player']"
      ]
     },
     "execution_count": 49,
     "metadata": {},
     "output_type": "execute_result"
    }
   ],
   "source": [
    "text = \"My team has player1, player2, and playerN.\"\n",
    "\n",
    "re.findall(r\"player\", text)"
   ]
  },
  {
   "cell_type": "markdown",
   "id": "e4ca86c8-5330-4942-961a-95aa545fda25",
   "metadata": {},
   "source": [
    "2. Match a digit using <code>\\d</code>"
   ]
  },
  {
   "cell_type": "code",
   "execution_count": 50,
   "id": "8bb14527-3522-409f-b8dd-2469d0af0e92",
   "metadata": {},
   "outputs": [
    {
     "data": {
      "text/plain": [
       "['player1', 'player2']"
      ]
     },
     "execution_count": 50,
     "metadata": {},
     "output_type": "execute_result"
    }
   ],
   "source": [
    "re.findall(r\"player\\d\", text)"
   ]
  },
  {
   "cell_type": "markdown",
   "id": "c7c523c1-0447-4299-bb07-208bdfb17de9",
   "metadata": {},
   "source": [
    "3. Match a non-digit using <code>\\D</code>"
   ]
  },
  {
   "cell_type": "code",
   "execution_count": 56,
   "id": "c4bd36d4-99a4-4648-a1e6-8df4d7d8e8ab",
   "metadata": {},
   "outputs": [
    {
     "data": {
      "text/plain": [
       "['playerN']"
      ]
     },
     "execution_count": 56,
     "metadata": {},
     "output_type": "execute_result"
    }
   ],
   "source": [
    "re.findall(r\"player\\D\", text)"
   ]
  },
  {
   "cell_type": "markdown",
   "id": "094482fd-8f52-4ffc-a0d6-bdc14eb5bbd5",
   "metadata": {},
   "source": [
    "4. Match a word character using <code>\\w</code>"
   ]
  },
  {
   "cell_type": "code",
   "execution_count": 60,
   "id": "82131004-ff48-438c-8a55-d6ee3addbbc9",
   "metadata": {},
   "outputs": [
    {
     "data": {
      "text/plain": [
       "['player1', 'player2', 'playerN']"
      ]
     },
     "execution_count": 60,
     "metadata": {},
     "output_type": "execute_result"
    }
   ],
   "source": [
    "re.findall(r\"player\\w\", text)"
   ]
  },
  {
   "cell_type": "markdown",
   "id": "1cb1f358-d2fb-4ed3-9cfa-c4fcf6c72513",
   "metadata": {},
   "source": [
    "5. Match a non-word character using <code>\\W</code>"
   ]
  },
  {
   "cell_type": "code",
   "execution_count": 62,
   "id": "fd4b8f9a-9a44-44f9-9d04-85194fd8b529",
   "metadata": {},
   "outputs": [
    {
     "data": {
      "text/plain": [
       "['#']"
      ]
     },
     "execution_count": 62,
     "metadata": {},
     "output_type": "execute_result"
    }
   ],
   "source": [
    "text2 = \"#Learn_Regex_in_5_Minutes\"\n",
    "\n",
    "re.findall(r\"\\W\", text2)"
   ]
  },
  {
   "cell_type": "markdown",
   "id": "39211219-e71b-4ee8-9ad0-aebde8f90ad4",
   "metadata": {},
   "source": [
    "6. Match whitespace with <code>\\s</code>"
   ]
  },
  {
   "cell_type": "code",
   "execution_count": 63,
   "id": "21ab6b7a-6120-439c-8eb0-afef666400b0",
   "metadata": {},
   "outputs": [
    {
     "data": {
      "text/plain": [
       "['Python regex']"
      ]
     },
     "execution_count": 63,
     "metadata": {},
     "output_type": "execute_result"
    }
   ],
   "source": [
    "text3 = \"I am learning Python regex.\"\n",
    "\n",
    "re.findall(r\"Python\\sregex\", text3)"
   ]
  },
  {
   "cell_type": "markdown",
   "id": "5b1560c2-1e9b-454b-863f-cc4e74dc7400",
   "metadata": {},
   "source": [
    "7. Match a non-whitespace with <code>\\S</code>"
   ]
  },
  {
   "cell_type": "code",
   "execution_count": 64,
   "id": "7cd8bdc8-450c-464c-bbea-8259ef796a8f",
   "metadata": {},
   "outputs": [
    {
     "data": {
      "text/plain": [
       "['sugar-free']"
      ]
     },
     "execution_count": 64,
     "metadata": {},
     "output_type": "execute_result"
    }
   ],
   "source": [
    "text4 = \"I like sugar-free coffee.\"\n",
    "\n",
    "re.findall(r\"sugar\\Sfree\", text4)"
   ]
  },
  {
   "cell_type": "markdown",
   "id": "a56d7a82-e23a-4709-8bc7-bd4205521f4a",
   "metadata": {},
   "source": [
    "Extract phone number from the text"
   ]
  },
  {
   "cell_type": "code",
   "execution_count": 68,
   "id": "876bd370-1876-4e7d-ac09-b94f8bf569f8",
   "metadata": {},
   "outputs": [
    {
     "data": {
      "text/plain": [
       "['1234567890']"
      ]
     },
     "execution_count": 68,
     "metadata": {},
     "output_type": "execute_result"
    }
   ],
   "source": [
    "text5 = \"My phone numbers is 1234567890.\"\n",
    "\n",
    "re.findall(r\"\\d{10}\", text5)"
   ]
  },
  {
   "cell_type": "code",
   "execution_count": 69,
   "id": "e59c3877-557c-4576-94f8-fe99bf081fc6",
   "metadata": {},
   "outputs": [
    {
     "data": {
      "text/plain": [
       "['My phone numbers is 1234567890.', '']"
      ]
     },
     "execution_count": 69,
     "metadata": {},
     "output_type": "execute_result"
    }
   ],
   "source": [
    "re.findall(r\".*\", text5)"
   ]
  },
  {
   "cell_type": "markdown",
   "id": "206606a2-b587-458c-a8d8-09065d323281",
   "metadata": {},
   "source": [
    "1. Match one or more times using <code>+</code>"
   ]
  },
  {
   "cell_type": "code",
   "execution_count": 72,
   "id": "d3cb975e-0279-4f9c-9560-b2e61bbc9702",
   "metadata": {},
   "outputs": [
    {
     "data": {
      "text/plain": [
       "['1234567890']"
      ]
     },
     "execution_count": 72,
     "metadata": {},
     "output_type": "execute_result"
    }
   ],
   "source": [
    "text5 = \"My phone numbers is 1234567890.\"\n",
    "\n",
    "re.findall(r\"\\d+\", text5)"
   ]
  },
  {
   "cell_type": "markdown",
   "id": "5a367f31-c476-4774-8564-a7f535dedb80",
   "metadata": {},
   "source": [
    "2. Match exactly <i>n</i> occurrences using <code>{n}</code>"
   ]
  },
  {
   "cell_type": "code",
   "execution_count": 74,
   "id": "c89786a2-66cc-4633-a504-4a766a1de513",
   "metadata": {},
   "outputs": [
    {
     "data": {
      "text/plain": [
       "['comp1234', 'data5678']"
      ]
     },
     "execution_count": 74,
     "metadata": {},
     "output_type": "execute_result"
    }
   ],
   "source": [
    "text6 = \"I studies comp1234. My friend studies data5678\"\n",
    "\n",
    "re.findall(r\"\\w{4}\\d{4}\", text6)"
   ]
  },
  {
   "cell_type": "markdown",
   "id": "e172a2b1-997c-4ee3-b6d5-329f5eb31f5e",
   "metadata": {},
   "source": [
    "3. Match the preceding character zer or one time. In this example it will match both <i>cat</i> and <i>cats</i>"
   ]
  },
  {
   "cell_type": "code",
   "execution_count": 75,
   "id": "92379065-7e17-4366-a158-976dc9a67dcf",
   "metadata": {},
   "outputs": [
    {
     "data": {
      "text/plain": [
       "['cat', 'cats']"
      ]
     },
     "execution_count": 75,
     "metadata": {},
     "output_type": "execute_result"
    }
   ],
   "source": [
    "text7 = \"I have a cat. My friend has two cats.\"\n",
    "\n",
    "re.findall(r\"cats?\", text7)"
   ]
  },
  {
   "cell_type": "markdown",
   "id": "6dc6bcbb-cd80-442e-b70a-42fb0f2e768e",
   "metadata": {},
   "source": [
    "4. Special characters like <kbd>\\\\</kbd> <kbd>*</kbd> <kbd>+</kbd> <kbd>?</kbd> cannot be directly matched using code like <code>re.findall(r\"+\", text)</code>. Use the escape character <code>\\\\</code> before the special character."
   ]
  },
  {
   "cell_type": "code",
   "execution_count": 76,
   "id": "b69db576-3600-4b54-9b32-0cf2031a2730",
   "metadata": {},
   "outputs": [
    {
     "data": {
      "text/plain": [
       "['+']"
      ]
     },
     "execution_count": 76,
     "metadata": {},
     "output_type": "execute_result"
    }
   ],
   "source": [
    "text8 = \"1 + 1 = 2\"\n",
    "\n",
    "re.findall(r\"\\+\", text8)"
   ]
  },
  {
   "cell_type": "code",
   "execution_count": 97,
   "id": "1a02c546-85d2-42b5-b304-8ff4de2d90ed",
   "metadata": {},
   "outputs": [
    {
     "data": {
      "text/plain": [
       "['\\\\']"
      ]
     },
     "execution_count": 97,
     "metadata": {},
     "output_type": "execute_result"
    }
   ],
   "source": [
    "text9 = \"Desktop \\ New Foler\"\n",
    "\n",
    "re.findall(r\"\\\\\", text9)"
   ]
  }
 ],
 "metadata": {
  "kernelspec": {
   "display_name": "Python 3 (ipykernel)",
   "language": "python",
   "name": "python3"
  },
  "language_info": {
   "codemirror_mode": {
    "name": "ipython",
    "version": 3
   },
   "file_extension": ".py",
   "mimetype": "text/x-python",
   "name": "python",
   "nbconvert_exporter": "python",
   "pygments_lexer": "ipython3",
   "version": "3.9.13"
  }
 },
 "nbformat": 4,
 "nbformat_minor": 5
}
