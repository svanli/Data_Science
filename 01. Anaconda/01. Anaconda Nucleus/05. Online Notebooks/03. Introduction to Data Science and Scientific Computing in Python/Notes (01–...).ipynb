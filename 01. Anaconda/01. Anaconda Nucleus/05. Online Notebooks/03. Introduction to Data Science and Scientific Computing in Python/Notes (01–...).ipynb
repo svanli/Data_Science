{
 "cells": [
  {
   "cell_type": "markdown",
   "id": "0ffc4875-66eb-4282-946d-e0a763c0be1c",
   "metadata": {},
   "source": [
    "# Notes (01–...)"
   ]
  },
  {
   "cell_type": "code",
   "execution_count": 1,
   "id": "289d0dc8-f3f4-40e9-aa03-83431b34bca6",
   "metadata": {},
   "outputs": [],
   "source": [
    "import numpy as np"
   ]
  },
  {
   "cell_type": "markdown",
   "id": "53d7108e-e6b9-4c8f-ab82-e39635578e24",
   "metadata": {},
   "source": [
    "# 01. What is Numpy"
   ]
  },
  {
   "cell_type": "code",
   "execution_count": 2,
   "id": "e39ccc18-5ea8-4bee-bcdd-e5c6190d635e",
   "metadata": {},
   "outputs": [],
   "source": [
    "age = [10, 18, 61, 52, 13]"
   ]
  },
  {
   "cell_type": "code",
   "execution_count": 3,
   "id": "bb8a2672-80b6-4d4a-aa7a-93ee31a2a7c8",
   "metadata": {},
   "outputs": [],
   "source": [
    "ex_array = np.array(age)"
   ]
  },
  {
   "cell_type": "code",
   "execution_count": 4,
   "id": "d8ff4762-1049-4e63-83cf-63b08d964743",
   "metadata": {},
   "outputs": [
    {
     "data": {
      "text/plain": [
       "array([10, 18, 61, 52, 13])"
      ]
     },
     "execution_count": 4,
     "metadata": {},
     "output_type": "execute_result"
    }
   ],
   "source": [
    "ex_array"
   ]
  },
  {
   "cell_type": "code",
   "execution_count": 5,
   "id": "a692489e-090a-4844-ad5f-61026af0c1b7",
   "metadata": {},
   "outputs": [
    {
     "name": "stdout",
     "output_type": "stream",
     "text": [
      "<class 'numpy.ndarray'>\n",
      "<class 'list'>\n"
     ]
    }
   ],
   "source": [
    "print(type(ex_array))\n",
    "print(type(age))"
   ]
  },
  {
   "cell_type": "code",
   "execution_count": 6,
   "id": "013f874a-ae7a-4647-86d5-8d34c99667fc",
   "metadata": {},
   "outputs": [
    {
     "data": {
      "text/plain": [
       "array([10, 18, 61, 52, 13])"
      ]
     },
     "execution_count": 6,
     "metadata": {},
     "output_type": "execute_result"
    }
   ],
   "source": [
    "ex_array_1 = np.array([10, 18, 61, 52, 13])\n",
    "ex_array_1"
   ]
  },
  {
   "cell_type": "code",
   "execution_count": 7,
   "id": "d30bf5a0-cc3e-44cd-ab06-719fe3b7019d",
   "metadata": {},
   "outputs": [
    {
     "data": {
      "text/plain": [
       "array([[10, 17, 13],\n",
       "       [61, 52, 43]])"
      ]
     },
     "execution_count": 7,
     "metadata": {},
     "output_type": "execute_result"
    }
   ],
   "source": [
    "ex_array_2 = np.array([[10, 17, 13], [61, 52, 43]])\n",
    "ex_array_2"
   ]
  },
  {
   "cell_type": "code",
   "execution_count": 8,
   "id": "e7555465-f042-4c08-8510-969380acdad5",
   "metadata": {},
   "outputs": [
    {
     "name": "stdout",
     "output_type": "stream",
     "text": [
      "(5,)\n",
      "(2, 3)\n"
     ]
    }
   ],
   "source": [
    "print(np.shape(ex_array_1))\n",
    "print(np.shape(ex_array_2))"
   ]
  },
  {
   "cell_type": "code",
   "execution_count": 9,
   "id": "5e2f5362-2e41-47fa-b4fe-29d12b7c02e3",
   "metadata": {},
   "outputs": [
    {
     "name": "stdout",
     "output_type": "stream",
     "text": [
      "(5,)\n",
      "(2, 3)\n"
     ]
    }
   ],
   "source": [
    "print(ex_array_1.shape)\n",
    "print(ex_array_2.shape)"
   ]
  },
  {
   "cell_type": "code",
   "execution_count": 10,
   "id": "d940931f-6d55-47eb-8f2c-c1b4a5b7d062",
   "metadata": {},
   "outputs": [
    {
     "data": {
      "text/plain": [
       "((5,), (2, 3))"
      ]
     },
     "execution_count": 10,
     "metadata": {},
     "output_type": "execute_result"
    }
   ],
   "source": [
    "ex_array_1.shape, ex_array_2.shape"
   ]
  },
  {
   "cell_type": "code",
   "execution_count": 11,
   "id": "15a941c9-8a9d-4242-96ed-479157e5f351",
   "metadata": {},
   "outputs": [
    {
     "name": "stdout",
     "output_type": "stream",
     "text": [
      "5\n",
      "6\n"
     ]
    }
   ],
   "source": [
    "print(ex_array_1.size)\n",
    "print(ex_array_2.size)"
   ]
  },
  {
   "cell_type": "code",
   "execution_count": 12,
   "id": "a3459416-4900-4bf4-9fc1-8c9fc3d2f129",
   "metadata": {},
   "outputs": [
    {
     "name": "stdout",
     "output_type": "stream",
     "text": [
      "4\n",
      "4\n"
     ]
    }
   ],
   "source": [
    "print(ex_array_1.itemsize)\n",
    "print(ex_array_2.itemsize)"
   ]
  },
  {
   "cell_type": "code",
   "execution_count": 13,
   "id": "57089cec-8c37-44d2-8884-545827ff05cd",
   "metadata": {},
   "outputs": [
    {
     "name": "stdout",
     "output_type": "stream",
     "text": [
      "20\n",
      "24\n"
     ]
    }
   ],
   "source": [
    "print(ex_array_1.nbytes)\n",
    "print(ex_array_2.nbytes)"
   ]
  },
  {
   "cell_type": "code",
   "execution_count": 14,
   "id": "07b4fa53-4618-4c25-b4b9-f7241168c169",
   "metadata": {},
   "outputs": [
    {
     "name": "stdout",
     "output_type": "stream",
     "text": [
      "1\n",
      "2\n"
     ]
    }
   ],
   "source": [
    "print(ex_array_1.ndim)\n",
    "print(ex_array_2.ndim)"
   ]
  },
  {
   "cell_type": "code",
   "execution_count": 15,
   "id": "18554408-23ba-4f4e-b48e-82254c9c8f4e",
   "metadata": {},
   "outputs": [],
   "source": [
    "age_tuple = (10, 18, 61, 52, 13)"
   ]
  },
  {
   "cell_type": "code",
   "execution_count": 16,
   "id": "91a595bf-1aea-4c49-8922-9803e7d1735d",
   "metadata": {},
   "outputs": [
    {
     "data": {
      "text/plain": [
       "array([10, 18, 61, 52, 13])"
      ]
     },
     "execution_count": 16,
     "metadata": {},
     "output_type": "execute_result"
    }
   ],
   "source": [
    "ex_array_1_tuple = np.array(age_tuple)\n",
    "ex_array_1_tuple"
   ]
  },
  {
   "cell_type": "code",
   "execution_count": 17,
   "id": "0bc85298-1e60-4885-b111-066d48b8e16a",
   "metadata": {},
   "outputs": [
    {
     "name": "stdout",
     "output_type": "stream",
     "text": [
      "[  1   2   3   4   5   6   7   8   9  10  11  12  13  14  15  16  17  18\n",
      "  19  20  21  22  23  24  25  26  27  28  29  30  31  32  33  34  35  36\n",
      "  37  38  39  40  41  42  43  44  45  46  47  48  49  50  51  52  53  54\n",
      "  55  56  57  58  59  60  61  62  63  64  65  66  67  68  69  70  71  72\n",
      "  73  74  75  76  77  78  79  80  81  82  83  84  85  86  87  88  89  90\n",
      "  91  92  93  94  95  96  97  98  99 100]\n"
     ]
    }
   ],
   "source": [
    "ex_array_1_func = np.arange(1, 100+1, 1)\n",
    "print(ex_array_1_func)"
   ]
  },
  {
   "cell_type": "code",
   "execution_count": 18,
   "id": "63d97193-6046-4ac5-a9ec-ff4063ab0048",
   "metadata": {
    "collapsed": true,
    "jupyter": {
     "outputs_hidden": true
    },
    "tags": []
   },
   "outputs": [
    {
     "data": {
      "text/plain": [
       "\u001b[1;31mSignature:\u001b[0m\n",
       "\u001b[0mnp\u001b[0m\u001b[1;33m.\u001b[0m\u001b[0mlinspace\u001b[0m\u001b[1;33m(\u001b[0m\u001b[1;33m\n",
       "\u001b[0m    \u001b[0mstart\u001b[0m\u001b[1;33m,\u001b[0m\u001b[1;33m\n",
       "\u001b[0m    \u001b[0mstop\u001b[0m\u001b[1;33m,\u001b[0m\u001b[1;33m\n",
       "\u001b[0m    \u001b[0mnum\u001b[0m\u001b[1;33m=\u001b[0m\u001b[1;36m50\u001b[0m\u001b[1;33m,\u001b[0m\u001b[1;33m\n",
       "\u001b[0m    \u001b[0mendpoint\u001b[0m\u001b[1;33m=\u001b[0m\u001b[1;32mTrue\u001b[0m\u001b[1;33m,\u001b[0m\u001b[1;33m\n",
       "\u001b[0m    \u001b[0mretstep\u001b[0m\u001b[1;33m=\u001b[0m\u001b[1;32mFalse\u001b[0m\u001b[1;33m,\u001b[0m\u001b[1;33m\n",
       "\u001b[0m    \u001b[0mdtype\u001b[0m\u001b[1;33m=\u001b[0m\u001b[1;32mNone\u001b[0m\u001b[1;33m,\u001b[0m\u001b[1;33m\n",
       "\u001b[0m    \u001b[0maxis\u001b[0m\u001b[1;33m=\u001b[0m\u001b[1;36m0\u001b[0m\u001b[1;33m,\u001b[0m\u001b[1;33m\n",
       "\u001b[0m\u001b[1;33m)\u001b[0m\u001b[1;33m\u001b[0m\u001b[1;33m\u001b[0m\u001b[0m\n",
       "\u001b[1;31mDocstring:\u001b[0m\n",
       "Return evenly spaced numbers over a specified interval.\n",
       "\n",
       "Returns `num` evenly spaced samples, calculated over the\n",
       "interval [`start`, `stop`].\n",
       "\n",
       "The endpoint of the interval can optionally be excluded.\n",
       "\n",
       ".. versionchanged:: 1.16.0\n",
       "    Non-scalar `start` and `stop` are now supported.\n",
       "\n",
       ".. versionchanged:: 1.20.0\n",
       "    Values are rounded towards ``-inf`` instead of ``0`` when an\n",
       "    integer ``dtype`` is specified. The old behavior can\n",
       "    still be obtained with ``np.linspace(start, stop, num).astype(int)``\n",
       "\n",
       "Parameters\n",
       "----------\n",
       "start : array_like\n",
       "    The starting value of the sequence.\n",
       "stop : array_like\n",
       "    The end value of the sequence, unless `endpoint` is set to False.\n",
       "    In that case, the sequence consists of all but the last of ``num + 1``\n",
       "    evenly spaced samples, so that `stop` is excluded.  Note that the step\n",
       "    size changes when `endpoint` is False.\n",
       "num : int, optional\n",
       "    Number of samples to generate. Default is 50. Must be non-negative.\n",
       "endpoint : bool, optional\n",
       "    If True, `stop` is the last sample. Otherwise, it is not included.\n",
       "    Default is True.\n",
       "retstep : bool, optional\n",
       "    If True, return (`samples`, `step`), where `step` is the spacing\n",
       "    between samples.\n",
       "dtype : dtype, optional\n",
       "    The type of the output array.  If `dtype` is not given, the data type\n",
       "    is inferred from `start` and `stop`. The inferred dtype will never be\n",
       "    an integer; `float` is chosen even if the arguments would produce an\n",
       "    array of integers.\n",
       "\n",
       "    .. versionadded:: 1.9.0\n",
       "\n",
       "axis : int, optional\n",
       "    The axis in the result to store the samples.  Relevant only if start\n",
       "    or stop are array-like.  By default (0), the samples will be along a\n",
       "    new axis inserted at the beginning. Use -1 to get an axis at the end.\n",
       "\n",
       "    .. versionadded:: 1.16.0\n",
       "\n",
       "Returns\n",
       "-------\n",
       "samples : ndarray\n",
       "    There are `num` equally spaced samples in the closed interval\n",
       "    ``[start, stop]`` or the half-open interval ``[start, stop)``\n",
       "    (depending on whether `endpoint` is True or False).\n",
       "step : float, optional\n",
       "    Only returned if `retstep` is True\n",
       "\n",
       "    Size of spacing between samples.\n",
       "\n",
       "\n",
       "See Also\n",
       "--------\n",
       "arange : Similar to `linspace`, but uses a step size (instead of the\n",
       "         number of samples).\n",
       "geomspace : Similar to `linspace`, but with numbers spaced evenly on a log\n",
       "            scale (a geometric progression).\n",
       "logspace : Similar to `geomspace`, but with the end points specified as\n",
       "           logarithms.\n",
       "\n",
       "Examples\n",
       "--------\n",
       ">>> np.linspace(2.0, 3.0, num=5)\n",
       "array([2.  , 2.25, 2.5 , 2.75, 3.  ])\n",
       ">>> np.linspace(2.0, 3.0, num=5, endpoint=False)\n",
       "array([2. ,  2.2,  2.4,  2.6,  2.8])\n",
       ">>> np.linspace(2.0, 3.0, num=5, retstep=True)\n",
       "(array([2.  ,  2.25,  2.5 ,  2.75,  3.  ]), 0.25)\n",
       "\n",
       "Graphical illustration:\n",
       "\n",
       ">>> import matplotlib.pyplot as plt\n",
       ">>> N = 8\n",
       ">>> y = np.zeros(N)\n",
       ">>> x1 = np.linspace(0, 10, N, endpoint=True)\n",
       ">>> x2 = np.linspace(0, 10, N, endpoint=False)\n",
       ">>> plt.plot(x1, y, 'o')\n",
       "[<matplotlib.lines.Line2D object at 0x...>]\n",
       ">>> plt.plot(x2, y + 0.5, 'o')\n",
       "[<matplotlib.lines.Line2D object at 0x...>]\n",
       ">>> plt.ylim([-0.5, 1])\n",
       "(-0.5, 1)\n",
       ">>> plt.show()\n",
       "\u001b[1;31mFile:\u001b[0m      c:\\programdata\\anaconda3\\lib\\site-packages\\numpy\\core\\function_base.py\n",
       "\u001b[1;31mType:\u001b[0m      function\n"
      ]
     },
     "metadata": {},
     "output_type": "display_data"
    }
   ],
   "source": [
    "np.linspace?"
   ]
  },
  {
   "cell_type": "code",
   "execution_count": 19,
   "id": "6392b85e-eefc-4f8f-bdca-9c26226671e3",
   "metadata": {},
   "outputs": [
    {
     "data": {
      "text/plain": [
       "array([ 1.  ,  3.25,  5.5 ,  7.75, 10.  ])"
      ]
     },
     "execution_count": 19,
     "metadata": {},
     "output_type": "execute_result"
    }
   ],
   "source": [
    "np.linspace(1, 10, 5)"
   ]
  },
  {
   "cell_type": "code",
   "execution_count": 20,
   "id": "1098defb-1d7c-4a27-825f-1e5c1f81f67c",
   "metadata": {
    "collapsed": true,
    "jupyter": {
     "outputs_hidden": true
    },
    "tags": []
   },
   "outputs": [
    {
     "data": {
      "text/plain": [
       "\u001b[1;31mSignature:\u001b[0m\n",
       "\u001b[0mnp\u001b[0m\u001b[1;33m.\u001b[0m\u001b[0mlogspace\u001b[0m\u001b[1;33m(\u001b[0m\u001b[1;33m\n",
       "\u001b[0m    \u001b[0mstart\u001b[0m\u001b[1;33m,\u001b[0m\u001b[1;33m\n",
       "\u001b[0m    \u001b[0mstop\u001b[0m\u001b[1;33m,\u001b[0m\u001b[1;33m\n",
       "\u001b[0m    \u001b[0mnum\u001b[0m\u001b[1;33m=\u001b[0m\u001b[1;36m50\u001b[0m\u001b[1;33m,\u001b[0m\u001b[1;33m\n",
       "\u001b[0m    \u001b[0mendpoint\u001b[0m\u001b[1;33m=\u001b[0m\u001b[1;32mTrue\u001b[0m\u001b[1;33m,\u001b[0m\u001b[1;33m\n",
       "\u001b[0m    \u001b[0mbase\u001b[0m\u001b[1;33m=\u001b[0m\u001b[1;36m10.0\u001b[0m\u001b[1;33m,\u001b[0m\u001b[1;33m\n",
       "\u001b[0m    \u001b[0mdtype\u001b[0m\u001b[1;33m=\u001b[0m\u001b[1;32mNone\u001b[0m\u001b[1;33m,\u001b[0m\u001b[1;33m\n",
       "\u001b[0m    \u001b[0maxis\u001b[0m\u001b[1;33m=\u001b[0m\u001b[1;36m0\u001b[0m\u001b[1;33m,\u001b[0m\u001b[1;33m\n",
       "\u001b[0m\u001b[1;33m)\u001b[0m\u001b[1;33m\u001b[0m\u001b[1;33m\u001b[0m\u001b[0m\n",
       "\u001b[1;31mDocstring:\u001b[0m\n",
       "Return numbers spaced evenly on a log scale.\n",
       "\n",
       "In linear space, the sequence starts at ``base ** start``\n",
       "(`base` to the power of `start`) and ends with ``base ** stop``\n",
       "(see `endpoint` below).\n",
       "\n",
       ".. versionchanged:: 1.16.0\n",
       "    Non-scalar `start` and `stop` are now supported.\n",
       "\n",
       "Parameters\n",
       "----------\n",
       "start : array_like\n",
       "    ``base ** start`` is the starting value of the sequence.\n",
       "stop : array_like\n",
       "    ``base ** stop`` is the final value of the sequence, unless `endpoint`\n",
       "    is False.  In that case, ``num + 1`` values are spaced over the\n",
       "    interval in log-space, of which all but the last (a sequence of\n",
       "    length `num`) are returned.\n",
       "num : integer, optional\n",
       "    Number of samples to generate.  Default is 50.\n",
       "endpoint : boolean, optional\n",
       "    If true, `stop` is the last sample. Otherwise, it is not included.\n",
       "    Default is True.\n",
       "base : array_like, optional\n",
       "    The base of the log space. The step size between the elements in\n",
       "    ``ln(samples) / ln(base)`` (or ``log_base(samples)``) is uniform.\n",
       "    Default is 10.0.\n",
       "dtype : dtype\n",
       "    The type of the output array.  If `dtype` is not given, the data type\n",
       "    is inferred from `start` and `stop`. The inferred type will never be\n",
       "    an integer; `float` is chosen even if the arguments would produce an\n",
       "    array of integers.\n",
       "axis : int, optional\n",
       "    The axis in the result to store the samples.  Relevant only if start\n",
       "    or stop are array-like.  By default (0), the samples will be along a\n",
       "    new axis inserted at the beginning. Use -1 to get an axis at the end.\n",
       "\n",
       "    .. versionadded:: 1.16.0\n",
       "\n",
       "\n",
       "Returns\n",
       "-------\n",
       "samples : ndarray\n",
       "    `num` samples, equally spaced on a log scale.\n",
       "\n",
       "See Also\n",
       "--------\n",
       "arange : Similar to linspace, with the step size specified instead of the\n",
       "         number of samples. Note that, when used with a float endpoint, the\n",
       "         endpoint may or may not be included.\n",
       "linspace : Similar to logspace, but with the samples uniformly distributed\n",
       "           in linear space, instead of log space.\n",
       "geomspace : Similar to logspace, but with endpoints specified directly.\n",
       "\n",
       "Notes\n",
       "-----\n",
       "Logspace is equivalent to the code\n",
       "\n",
       ">>> y = np.linspace(start, stop, num=num, endpoint=endpoint)\n",
       "... # doctest: +SKIP\n",
       ">>> power(base, y).astype(dtype)\n",
       "... # doctest: +SKIP\n",
       "\n",
       "Examples\n",
       "--------\n",
       ">>> np.logspace(2.0, 3.0, num=4)\n",
       "array([ 100.        ,  215.443469  ,  464.15888336, 1000.        ])\n",
       ">>> np.logspace(2.0, 3.0, num=4, endpoint=False)\n",
       "array([100.        ,  177.827941  ,  316.22776602,  562.34132519])\n",
       ">>> np.logspace(2.0, 3.0, num=4, base=2.0)\n",
       "array([4.        ,  5.0396842 ,  6.34960421,  8.        ])\n",
       "\n",
       "Graphical illustration:\n",
       "\n",
       ">>> import matplotlib.pyplot as plt\n",
       ">>> N = 10\n",
       ">>> x1 = np.logspace(0.1, 1, N, endpoint=True)\n",
       ">>> x2 = np.logspace(0.1, 1, N, endpoint=False)\n",
       ">>> y = np.zeros(N)\n",
       ">>> plt.plot(x1, y, 'o')\n",
       "[<matplotlib.lines.Line2D object at 0x...>]\n",
       ">>> plt.plot(x2, y + 0.5, 'o')\n",
       "[<matplotlib.lines.Line2D object at 0x...>]\n",
       ">>> plt.ylim([-0.5, 1])\n",
       "(-0.5, 1)\n",
       ">>> plt.show()\n",
       "\u001b[1;31mFile:\u001b[0m      c:\\programdata\\anaconda3\\lib\\site-packages\\numpy\\core\\function_base.py\n",
       "\u001b[1;31mType:\u001b[0m      function\n"
      ]
     },
     "metadata": {},
     "output_type": "display_data"
    }
   ],
   "source": [
    "np.logspace?"
   ]
  },
  {
   "cell_type": "code",
   "execution_count": 21,
   "id": "43505647-4d26-48e3-bb1f-4fc6b42a2b24",
   "metadata": {},
   "outputs": [
    {
     "data": {
      "text/plain": [
       "array([1.e+01, 1.e+16])"
      ]
     },
     "execution_count": 21,
     "metadata": {},
     "output_type": "execute_result"
    }
   ],
   "source": [
    "np.logspace(1, 16, 2)"
   ]
  },
  {
   "cell_type": "code",
   "execution_count": 22,
   "id": "c67fe93f-9846-4610-a9fe-10474c054ad6",
   "metadata": {},
   "outputs": [
    {
     "data": {
      "text/plain": [
       "2.718281828459045"
      ]
     },
     "execution_count": 22,
     "metadata": {},
     "output_type": "execute_result"
    }
   ],
   "source": [
    "np.e"
   ]
  },
  {
   "cell_type": "code",
   "execution_count": 23,
   "id": "b9656110-9665-4d22-ad4d-10d3e64d4946",
   "metadata": {},
   "outputs": [
    {
     "data": {
      "text/plain": [
       "7.3890560989306495"
      ]
     },
     "execution_count": 23,
     "metadata": {},
     "output_type": "execute_result"
    }
   ],
   "source": [
    "np.e**2"
   ]
  },
  {
   "cell_type": "code",
   "execution_count": 24,
   "id": "a6d3afaa-3469-4195-be56-e47f362079a0",
   "metadata": {},
   "outputs": [
    {
     "data": {
      "text/plain": [
       "array([1.00000000e+00, 2.27278564e+00, 5.16555456e+00, 1.17401982e+01,\n",
       "       2.66829540e+01, 6.06446346e+01, 1.37832255e+02, 3.13263169e+02,\n",
       "       7.11980032e+02, 1.61817799e+03])"
      ]
     },
     "execution_count": 24,
     "metadata": {},
     "output_type": "execute_result"
    }
   ],
   "source": [
    "np.logspace(\n",
    "    0,         # start  starting value of the sequence\n",
    "    np.e**2,   # stop   ending value of the sequence\n",
    "    10,        # num    number of elements in the sequence\n",
    "    base=np.e  # base   base of the logarithm\n",
    ")"
   ]
  },
  {
   "cell_type": "code",
   "execution_count": 25,
   "id": "28739bef-3514-4ebe-9c8c-2a3e7c549005",
   "metadata": {},
   "outputs": [
    {
     "data": {
      "text/plain": [
       "array([1.00000000e+01, 5.62341325e+04, 3.16227766e+08, 1.77827941e+12,\n",
       "       1.00000000e+16])"
      ]
     },
     "execution_count": 25,
     "metadata": {},
     "output_type": "execute_result"
    }
   ],
   "source": [
    "np.logspace(\n",
    "    1,\n",
    "    16,\n",
    "    5,\n",
    "    2\n",
    ")"
   ]
  },
  {
   "cell_type": "code",
   "execution_count": 26,
   "id": "6daef10d-44ee-44f4-90c7-42f516fc069a",
   "metadata": {},
   "outputs": [
    {
     "data": {
      "text/plain": [
       "\u001b[1;31mType:\u001b[0m        MGridClass\n",
       "\u001b[1;31mString form:\u001b[0m <numpy.lib.index_tricks.MGridClass object at 0x000002CDB641D790>\n",
       "\u001b[1;31mFile:\u001b[0m        c:\\programdata\\anaconda3\\lib\\site-packages\\numpy\\lib\\index_tricks.py\n",
       "\u001b[1;31mDocstring:\u001b[0m  \n",
       "`nd_grid` instance which returns a dense multi-dimensional \"meshgrid\".\n",
       "\n",
       "An instance of `numpy.lib.index_tricks.nd_grid` which returns an dense\n",
       "(or fleshed out) mesh-grid when indexed, so that each returned argument\n",
       "has the same shape.  The dimensions and number of the output arrays are\n",
       "equal to the number of indexing dimensions.  If the step length is not a\n",
       "complex number, then the stop is not inclusive.\n",
       "\n",
       "However, if the step length is a **complex number** (e.g. 5j), then\n",
       "the integer part of its magnitude is interpreted as specifying the\n",
       "number of points to create between the start and stop values, where\n",
       "the stop value **is inclusive**.\n",
       "\n",
       "Returns\n",
       "-------\n",
       "mesh-grid `ndarrays` all of the same dimensions\n",
       "\n",
       "See Also\n",
       "--------\n",
       "numpy.lib.index_tricks.nd_grid : class of `ogrid` and `mgrid` objects\n",
       "ogrid : like mgrid but returns open (not fleshed out) mesh grids\n",
       "r_ : array concatenator\n",
       "\n",
       "Examples\n",
       "--------\n",
       ">>> np.mgrid[0:5,0:5]\n",
       "array([[[0, 0, 0, 0, 0],\n",
       "        [1, 1, 1, 1, 1],\n",
       "        [2, 2, 2, 2, 2],\n",
       "        [3, 3, 3, 3, 3],\n",
       "        [4, 4, 4, 4, 4]],\n",
       "       [[0, 1, 2, 3, 4],\n",
       "        [0, 1, 2, 3, 4],\n",
       "        [0, 1, 2, 3, 4],\n",
       "        [0, 1, 2, 3, 4],\n",
       "        [0, 1, 2, 3, 4]]])\n",
       ">>> np.mgrid[-1:1:5j]\n",
       "array([-1. , -0.5,  0. ,  0.5,  1. ])\n"
      ]
     },
     "metadata": {},
     "output_type": "display_data"
    }
   ],
   "source": [
    "np.mgrid?"
   ]
  },
  {
   "cell_type": "code",
   "execution_count": 27,
   "id": "84e3c436-4080-4a71-b275-17d545b8fe2e",
   "metadata": {},
   "outputs": [
    {
     "data": {
      "text/plain": [
       "array([[[0, 0, 0, 0, 0],\n",
       "        [1, 1, 1, 1, 1],\n",
       "        [2, 2, 2, 2, 2],\n",
       "        [3, 3, 3, 3, 3],\n",
       "        [4, 4, 4, 4, 4]],\n",
       "\n",
       "       [[0, 1, 2, 3, 4],\n",
       "        [0, 1, 2, 3, 4],\n",
       "        [0, 1, 2, 3, 4],\n",
       "        [0, 1, 2, 3, 4],\n",
       "        [0, 1, 2, 3, 4]]])"
      ]
     },
     "execution_count": 27,
     "metadata": {},
     "output_type": "execute_result"
    }
   ],
   "source": [
    "ex_grid = np.mgrid[0:5, 0:5]\n",
    "ex_grid"
   ]
  },
  {
   "cell_type": "code",
   "execution_count": 28,
   "id": "d0cc1467-03b8-47b9-a248-2b33acb9f183",
   "metadata": {},
   "outputs": [
    {
     "data": {
      "text/plain": [
       "3"
      ]
     },
     "execution_count": 28,
     "metadata": {},
     "output_type": "execute_result"
    }
   ],
   "source": [
    "ex_grid[1, 2, 3]"
   ]
  },
  {
   "cell_type": "code",
   "execution_count": 29,
   "id": "4b5d224f-b113-4cf4-b1e8-f140e03a0b38",
   "metadata": {},
   "outputs": [
    {
     "data": {
      "text/plain": [
       "array([[[0, 0],\n",
       "        [1, 1]],\n",
       "\n",
       "       [[0, 1],\n",
       "        [0, 1]]])"
      ]
     },
     "execution_count": 29,
     "metadata": {},
     "output_type": "execute_result"
    }
   ],
   "source": [
    "np.mgrid[0:1+1, 0:1+1]"
   ]
  },
  {
   "cell_type": "code",
   "execution_count": 35,
   "id": "1fefdda4-232b-4ff3-8051-d655b0aabd07",
   "metadata": {},
   "outputs": [
    {
     "data": {
      "text/plain": [
       "array([[-1.60071163]])"
      ]
     },
     "execution_count": 35,
     "metadata": {},
     "output_type": "execute_result"
    }
   ],
   "source": [
    "np.random.randn(1, 1)"
   ]
  },
  {
   "cell_type": "code",
   "execution_count": 34,
   "id": "80287150",
   "metadata": {},
   "outputs": [
    {
     "data": {
      "text/plain": [
       "array([[ 0.38512272, -1.11140363],\n",
       "       [ 0.61842158,  0.24285243]])"
      ]
     },
     "execution_count": 34,
     "metadata": {},
     "output_type": "execute_result"
    }
   ],
   "source": [
    "np.random.randn(2, 2)"
   ]
  },
  {
   "cell_type": "code",
   "execution_count": 32,
   "id": "678fb05f-4ad8-45f3-8022-3921ab160516",
   "metadata": {
    "collapsed": true,
    "jupyter": {
     "outputs_hidden": true
    },
    "tags": []
   },
   "outputs": [
    {
     "data": {
      "text/plain": [
       "\u001b[1;31mDocstring:\u001b[0m\n",
       "randn(d0, d1, ..., dn)\n",
       "\n",
       "Return a sample (or samples) from the \"standard normal\" distribution.\n",
       "\n",
       ".. note::\n",
       "    This is a convenience function for users porting code from Matlab,\n",
       "    and wraps `standard_normal`. That function takes a\n",
       "    tuple to specify the size of the output, which is consistent with\n",
       "    other NumPy functions like `numpy.zeros` and `numpy.ones`.\n",
       "\n",
       ".. note::\n",
       "    New code should use the ``standard_normal`` method of a ``default_rng()``\n",
       "    instance instead; please see the :ref:`random-quick-start`.\n",
       "\n",
       "If positive int_like arguments are provided, `randn` generates an array\n",
       "of shape ``(d0, d1, ..., dn)``, filled\n",
       "with random floats sampled from a univariate \"normal\" (Gaussian)\n",
       "distribution of mean 0 and variance 1. A single float randomly sampled\n",
       "from the distribution is returned if no argument is provided.\n",
       "\n",
       "Parameters\n",
       "----------\n",
       "d0, d1, ..., dn : int, optional\n",
       "    The dimensions of the returned array, must be non-negative.\n",
       "    If no argument is given a single Python float is returned.\n",
       "\n",
       "Returns\n",
       "-------\n",
       "Z : ndarray or float\n",
       "    A ``(d0, d1, ..., dn)``-shaped array of floating-point samples from\n",
       "    the standard normal distribution, or a single such float if\n",
       "    no parameters were supplied.\n",
       "\n",
       "See Also\n",
       "--------\n",
       "standard_normal : Similar, but takes a tuple as its argument.\n",
       "normal : Also accepts mu and sigma arguments.\n",
       "Generator.standard_normal: which should be used for new code.\n",
       "\n",
       "Notes\n",
       "-----\n",
       "For random samples from :math:`N(\\mu, \\sigma^2)`, use:\n",
       "\n",
       "``sigma * np.random.randn(...) + mu``\n",
       "\n",
       "Examples\n",
       "--------\n",
       ">>> np.random.randn()\n",
       "2.1923875335537315  # random\n",
       "\n",
       "Two-by-four array of samples from N(3, 6.25):\n",
       "\n",
       ">>> 3 + 2.5 * np.random.randn(2, 4)\n",
       "array([[-4.49401501,  4.00950034, -1.81814867,  7.29718677],   # random\n",
       "       [ 0.39924804,  4.68456316,  4.99394529,  4.84057254]])  # random\n",
       "\u001b[1;31mType:\u001b[0m      builtin_function_or_method\n"
      ]
     },
     "metadata": {},
     "output_type": "display_data"
    }
   ],
   "source": [
    "np.random.randn?"
   ]
  },
  {
   "cell_type": "code",
   "execution_count": 100,
   "id": "402fa507-2d43-41e5-847f-4c7b5f12e8e0",
   "metadata": {},
   "outputs": [],
   "source": [
    "np.random.seed(4)"
   ]
  },
  {
   "cell_type": "code",
   "execution_count": 133,
   "id": "61673553-2bbb-44c9-8bca-348257dfff6f",
   "metadata": {},
   "outputs": [],
   "source": [
    "r = np.random.rand(10, 2)"
   ]
  },
  {
   "cell_type": "code",
   "execution_count": 141,
   "id": "bed991f3-6c89-4a05-961f-89484730981b",
   "metadata": {},
   "outputs": [
    {
     "data": {
      "text/plain": [
       "array([[0.08305444, 0.23964044],\n",
       "       [0.22148276, 0.3635998 ],\n",
       "       [0.81031423, 0.06009617],\n",
       "       [0.44974356, 0.81317053],\n",
       "       [0.26423837, 0.06340098],\n",
       "       [0.24210767, 0.08507046],\n",
       "       [0.80777744, 0.17025008],\n",
       "       [0.19534463, 0.81464201],\n",
       "       [0.81028553, 0.58937388],\n",
       "       [0.91473434, 0.05982164]])"
      ]
     },
     "execution_count": 141,
     "metadata": {},
     "output_type": "execute_result"
    }
   ],
   "source": [
    "r"
   ]
  },
  {
   "cell_type": "code",
   "execution_count": 107,
   "id": "2899cc73-e990-479f-b468-13fd7925e48b",
   "metadata": {},
   "outputs": [],
   "source": [
    "np.random.seed(5)"
   ]
  },
  {
   "cell_type": "code",
   "execution_count": 108,
   "id": "3a101205-7a0b-404d-aaba-20ccbbcd217f",
   "metadata": {},
   "outputs": [],
   "source": [
    "r2 = np.random.rand(5,5)"
   ]
  },
  {
   "cell_type": "code",
   "execution_count": 117,
   "id": "ebfbb23e-0389-4f53-9bbe-93a7de03956a",
   "metadata": {},
   "outputs": [
    {
     "data": {
      "text/plain": [
       "array([[0.22199317, 0.87073231, 0.20671916, 0.91861091, 0.48841119],\n",
       "       [0.61174386, 0.76590786, 0.51841799, 0.2968005 , 0.18772123],\n",
       "       [0.08074127, 0.7384403 , 0.44130922, 0.15830987, 0.87993703],\n",
       "       [0.27408646, 0.41423502, 0.29607993, 0.62878791, 0.57983781],\n",
       "       [0.5999292 , 0.26581912, 0.28468588, 0.25358821, 0.32756395]])"
      ]
     },
     "execution_count": 117,
     "metadata": {},
     "output_type": "execute_result"
    }
   ],
   "source": [
    "r2"
   ]
  },
  {
   "cell_type": "code",
   "execution_count": 113,
   "id": "3da76136-b600-49dd-8286-16d4a324fa00",
   "metadata": {},
   "outputs": [
    {
     "data": {
      "text/plain": [
       "array([[0.22199317, 0.87073231, 0.20671916, 0.91861091, 0.48841119],\n",
       "       [0.61174386, 0.76590786, 0.51841799, 0.2968005 , 0.18772123],\n",
       "       [0.08074127, 0.7384403 , 0.44130922, 0.15830987, 0.87993703],\n",
       "       [0.27408646, 0.41423502, 0.29607993, 0.62878791, 0.57983781],\n",
       "       [0.5999292 , 0.26581912, 0.28468588, 0.25358821, 0.32756395]])"
      ]
     },
     "execution_count": 113,
     "metadata": {},
     "output_type": "execute_result"
    }
   ],
   "source": [
    "r2"
   ]
  },
  {
   "cell_type": "code",
   "execution_count": 142,
   "id": "d653ad8a-7623-45cb-b977-c8242161d843",
   "metadata": {},
   "outputs": [],
   "source": [
    "r3 = np.random.rand(10, 2)"
   ]
  },
  {
   "cell_type": "code",
   "execution_count": 145,
   "id": "87177b31-97ae-408d-8ed3-c075282ddd11",
   "metadata": {},
   "outputs": [
    {
     "data": {
      "text/plain": [
       "array([[0.96499664, 0.57097522],\n",
       "       [0.30251811, 0.82570583],\n",
       "       [0.65941728, 0.98650144],\n",
       "       [0.10748953, 0.58091853],\n",
       "       [0.47282816, 0.65227079],\n",
       "       [0.24185905, 0.03113006],\n",
       "       [0.54423235, 0.36471018],\n",
       "       [0.89233328, 0.45934559],\n",
       "       [0.4186541 , 0.63290554],\n",
       "       [0.52717883, 0.96121114]])"
      ]
     },
     "execution_count": 145,
     "metadata": {},
     "output_type": "execute_result"
    }
   ],
   "source": [
    "r3"
   ]
  },
  {
   "cell_type": "code",
   "execution_count": 234,
   "id": "a36619bf-7aed-4c53-8dc4-df124d0751af",
   "metadata": {},
   "outputs": [
    {
     "data": {
      "text/plain": [
       "array([0.4349867 , 0.97345204, 0.62407665, 0.34092971, 0.69136453])"
      ]
     },
     "execution_count": 234,
     "metadata": {},
     "output_type": "execute_result"
    }
   ],
   "source": [
    "np.random.seed(1231)\n",
    "random_number = np.random.rand(5)\n",
    "random_number"
   ]
  },
  {
   "cell_type": "code",
   "execution_count": 216,
   "id": "a1cd7a12-51a7-4074-8099-ab5c276993b5",
   "metadata": {},
   "outputs": [
    {
     "name": "stdout",
     "output_type": "stream",
     "text": [
      "[0.18902576 0.47262131 0.39278117 0.61892993 0.43676629]\n"
     ]
    }
   ],
   "source": [
    "random_numbers = np.random.rand(5)\n",
    "print(random_numbers)"
   ]
  },
  {
   "cell_type": "code",
   "execution_count": 324,
   "id": "e4fa3a62-f6d5-4ce1-a6e0-e4eb041a5c3b",
   "metadata": {},
   "outputs": [
    {
     "data": {
      "text/plain": [
       "array([[4.17022005e-01, 7.20324493e-01],\n",
       "       [1.14374817e-04, 3.02332573e-01]])"
      ]
     },
     "execution_count": 324,
     "metadata": {},
     "output_type": "execute_result"
    }
   ],
   "source": [
    "np.random.seed(1)\n",
    "random_with_seed = np.random.rand(2, 2)\n",
    "random_with_seed"
   ]
  },
  {
   "cell_type": "code",
   "execution_count": 314,
   "id": "6b179754-1c76-490d-97e1-fe49e6e09cfb",
   "metadata": {},
   "outputs": [
    {
     "data": {
      "text/plain": [
       "array([[0.57019677, 0.43860151, 0.98837384, 0.10204481, 0.20887676],\n",
       "       [0.16130952, 0.65310833, 0.2532916 , 0.46631077, 0.24442559]])"
      ]
     },
     "execution_count": 314,
     "metadata": {},
     "output_type": "execute_result"
    }
   ],
   "source": [
    "random_without_seed = np.random.rand(2, 5)\n",
    "random_without_seed"
   ]
  },
  {
   "cell_type": "code",
   "execution_count": 330,
   "id": "c425b579-ecde-4751-a7f9-ef5e52ad2a3f",
   "metadata": {},
   "outputs": [
    {
     "data": {
      "text/plain": [
       "array([[0, 0, 0, 0, 0],\n",
       "       [1, 0, 0, 0, 0],\n",
       "       [0, 2, 0, 0, 0],\n",
       "       [0, 0, 3, 0, 0],\n",
       "       [0, 0, 0, 4, 0]])"
      ]
     },
     "execution_count": 330,
     "metadata": {},
     "output_type": "execute_result"
    }
   ],
   "source": [
    "np.diag([1, 2, 3, 4], k=-1)"
   ]
  },
  {
   "cell_type": "code",
   "execution_count": 340,
   "id": "77294166-c663-4405-96de-67c55ff49036",
   "metadata": {},
   "outputs": [
    {
     "data": {
      "text/plain": [
       "array([[0, 0, 0, 4, 0],\n",
       "       [0, 0, 3, 0, 0],\n",
       "       [0, 2, 0, 0, 0],\n",
       "       [1, 0, 0, 0, 0],\n",
       "       [0, 0, 0, 0, 0]])"
      ]
     },
     "execution_count": 340,
     "metadata": {},
     "output_type": "execute_result"
    }
   ],
   "source": [
    "np.diag([1, 2, 3, 4], k=-1)[::-1]"
   ]
  },
  {
   "cell_type": "code",
   "execution_count": 347,
   "id": "5169b555-bfd8-4286-9a19-2d711b5a3ae0",
   "metadata": {},
   "outputs": [
    {
     "data": {
      "text/plain": [
       "array([[1, 0, 0, 0, 0],\n",
       "       [0, 1, 0, 0, 0],\n",
       "       [0, 0, 1, 0, 0],\n",
       "       [0, 0, 0, 1, 0],\n",
       "       [0, 0, 0, 0, 1]])"
      ]
     },
     "execution_count": 347,
     "metadata": {},
     "output_type": "execute_result"
    }
   ],
   "source": [
    "np.eye(5, dtype='int')"
   ]
  },
  {
   "cell_type": "code",
   "execution_count": 352,
   "id": "c2fb1fd3-21a7-42a7-b802-a6c1721b2590",
   "metadata": {},
   "outputs": [
    {
     "data": {
      "text/plain": [
       "array([[0, 0],\n",
       "       [0, 0],\n",
       "       [0, 0],\n",
       "       [0, 0],\n",
       "       [0, 0]])"
      ]
     },
     "execution_count": 352,
     "metadata": {},
     "output_type": "execute_result"
    }
   ],
   "source": [
    "np.zeros((5, 2), dtype='int')"
   ]
  },
  {
   "cell_type": "code",
   "execution_count": 354,
   "id": "a7987152-48f8-40e7-9514-8b762f21012f",
   "metadata": {},
   "outputs": [
    {
     "data": {
      "text/plain": [
       "array([[1, 1, 1],\n",
       "       [1, 1, 1],\n",
       "       [1, 1, 1],\n",
       "       [1, 1, 1],\n",
       "       [1, 1, 1]])"
      ]
     },
     "execution_count": 354,
     "metadata": {},
     "output_type": "execute_result"
    }
   ],
   "source": [
    "np.ones((5, 3), dtype='int')"
   ]
  },
  {
   "cell_type": "code",
   "execution_count": 355,
   "id": "715f585e-329e-4609-a6c7-3c7fb53f8fdc",
   "metadata": {},
   "outputs": [
    {
     "data": {
      "text/plain": [
       "array([['', ''],\n",
       "       ['', ''],\n",
       "       ['', ''],\n",
       "       ['', '']], dtype='<U1')"
      ]
     },
     "execution_count": 355,
     "metadata": {},
     "output_type": "execute_result"
    }
   ],
   "source": [
    "np.empty((4, 2), dtype='str')"
   ]
  },
  {
   "cell_type": "code",
   "execution_count": 359,
   "id": "8d39f99f-6c54-4ca9-a1ee-c4baf38c0597",
   "metadata": {},
   "outputs": [
    {
     "data": {
      "text/plain": [
       "array([[0.00000000e+000, 0.00000000e+000],\n",
       "       [0.00000000e+000, 0.00000000e+000],\n",
       "       [0.00000000e+000, 7.70742408e-321],\n",
       "       [1.08221785e-312, 8.70018274e-313]])"
      ]
     },
     "execution_count": 359,
     "metadata": {},
     "output_type": "execute_result"
    }
   ],
   "source": [
    "np.empty((4, 2))"
   ]
  },
  {
   "cell_type": "code",
   "execution_count": 360,
   "id": "9aee09f7-3be8-4d1d-b713-57be4279b25f",
   "metadata": {},
   "outputs": [
    {
     "data": {
      "text/plain": [
       "array([['', ''],\n",
       "       ['', ''],\n",
       "       ['', ''],\n",
       "       ['', '']], dtype='<U1')"
      ]
     },
     "execution_count": 360,
     "metadata": {},
     "output_type": "execute_result"
    }
   ],
   "source": [
    "np.full((4, 2), '', dtype='str')"
   ]
  },
  {
   "cell_type": "code",
   "execution_count": 363,
   "id": "f5a27d55-a469-4dbe-9dcf-d460af4cbb17",
   "metadata": {},
   "outputs": [
    {
     "data": {
      "text/plain": [
       "array([[0, 0, 0, 0, 0],\n",
       "       [0, 1, 0, 0, 0],\n",
       "       [0, 0, 2, 0, 0],\n",
       "       [0, 0, 0, 3, 0],\n",
       "       [0, 0, 0, 0, 4]])"
      ]
     },
     "execution_count": 363,
     "metadata": {},
     "output_type": "execute_result"
    }
   ],
   "source": [
    "np.diag(np.arange(5))"
   ]
  },
  {
   "cell_type": "code",
   "execution_count": 375,
   "id": "d985d8b8-039d-4721-b076-b2585bf9c2ac",
   "metadata": {},
   "outputs": [
    {
     "name": "stdout",
     "output_type": "stream",
     "text": [
      "[[6 7]\n",
      " [8 9]]\n"
     ]
    }
   ],
   "source": [
    "ex_array = np.array([[6, 7], [8, 9]])\n",
    "print(ex_array)"
   ]
  },
  {
   "cell_type": "code",
   "execution_count": 376,
   "id": "383b8027-dba7-401b-adae-07f5c39d027f",
   "metadata": {},
   "outputs": [
    {
     "data": {
      "text/plain": [
       "array([[6, 7, 6, 7],\n",
       "       [8, 9, 8, 9],\n",
       "       [6, 7, 6, 7],\n",
       "       [8, 9, 8, 9],\n",
       "       [6, 7, 6, 7],\n",
       "       [8, 9, 8, 9]])"
      ]
     },
     "execution_count": 376,
     "metadata": {},
     "output_type": "execute_result"
    }
   ],
   "source": [
    "np.tile(ex_array, (3, 2))"
   ]
  },
  {
   "cell_type": "code",
   "execution_count": 378,
   "id": "348cfdfe-1686-46fc-848f-58c20e9ab9de",
   "metadata": {},
   "outputs": [
    {
     "data": {
      "text/plain": [
       "range(0, 100000)"
      ]
     },
     "execution_count": 378,
     "metadata": {},
     "output_type": "execute_result"
    }
   ],
   "source": [
    "L = range(100_000)\n",
    "L"
   ]
  },
  {
   "cell_type": "code",
   "execution_count": 381,
   "id": "2ddd8f45-4b2c-489f-8c5b-929b1a98945a",
   "metadata": {},
   "outputs": [
    {
     "data": {
      "text/plain": [
       "[1, 8, 27, 64]"
      ]
     },
     "execution_count": 381,
     "metadata": {},
     "output_type": "execute_result"
    }
   ],
   "source": [
    "upgraded_b = [i**3 for i in range(1, 4+1)]\n",
    "upgraded_b"
   ]
  },
  {
   "cell_type": "code",
   "execution_count": 384,
   "id": "95660a6d-922e-47c1-b226-7cad0ae0e57a",
   "metadata": {},
   "outputs": [
    {
     "data": {
      "text/plain": [
       "[0, 1, 4, 9, 16, 25, 36, 49, 64, 81]"
      ]
     },
     "execution_count": 384,
     "metadata": {},
     "output_type": "execute_result"
    }
   ],
   "source": [
    "L = range(10)\n",
    "new_L = [i**2 for i in L]\n",
    "new_L"
   ]
  }
 ],
 "metadata": {
  "kernelspec": {
   "display_name": "Python 3 (ipykernel)",
   "language": "python",
   "name": "python3"
  },
  "language_info": {
   "codemirror_mode": {
    "name": "ipython",
    "version": 3
   },
   "file_extension": ".py",
   "mimetype": "text/x-python",
   "name": "python",
   "nbconvert_exporter": "python",
   "pygments_lexer": "ipython3",
   "version": "3.9.13"
  }
 },
 "nbformat": 4,
 "nbformat_minor": 5
}
