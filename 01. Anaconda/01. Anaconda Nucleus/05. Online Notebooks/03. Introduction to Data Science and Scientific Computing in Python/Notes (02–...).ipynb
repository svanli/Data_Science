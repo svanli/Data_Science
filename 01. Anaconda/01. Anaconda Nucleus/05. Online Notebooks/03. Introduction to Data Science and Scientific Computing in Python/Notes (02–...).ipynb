{
 "cells": [
  {
   "cell_type": "markdown",
   "id": "0ffc4875-66eb-4282-946d-e0a763c0be1c",
   "metadata": {},
   "source": [
    "# Notes (02)"
   ]
  },
  {
   "cell_type": "code",
   "execution_count": 1,
   "id": "289d0dc8-f3f4-40e9-aa03-83431b34bca6",
   "metadata": {},
   "outputs": [],
   "source": [
    "import numpy as np\n",
    "from scipy import sparse"
   ]
  },
  {
   "cell_type": "markdown",
   "id": "53d7108e-e6b9-4c8f-ab82-e39635578e24",
   "metadata": {},
   "source": [
    "# 02. Representation of Data (for Machine Learning)"
   ]
  },
  {
   "cell_type": "code",
   "execution_count": 2,
   "id": "5d12bf01-f207-417c-8561-cd42c69346b1",
   "metadata": {},
   "outputs": [
    {
     "name": "stdout",
     "output_type": "stream",
     "text": [
      "[[0.         0.95071431 0.73199394 0.         0.        ]\n",
      " [0.         0.         0.86617615 0.         0.70807258]\n",
      " [0.         0.96990985 0.83244264 0.         0.        ]\n",
      " [0.         0.         0.         0.         0.        ]\n",
      " [0.         0.         0.         0.         0.        ]\n",
      " [0.78517596 0.         0.         0.         0.        ]\n",
      " [0.         0.         0.         0.94888554 0.96563203]\n",
      " [0.80839735 0.         0.         0.         0.        ]\n",
      " [0.         0.         0.         0.9093204  0.        ]\n",
      " [0.         0.         0.         0.         0.        ]]\n"
     ]
    }
   ],
   "source": [
    "np.random.seed(42)\n",
    "X = np.random.random((10, 5))\n",
    "X[X < 0.7] = 0\n",
    "print(X)"
   ]
  },
  {
   "cell_type": "code",
   "execution_count": 3,
   "id": "031cf2cd-0544-45df-bdf2-ec262ca1527e",
   "metadata": {},
   "outputs": [
    {
     "name": "stdout",
     "output_type": "stream",
     "text": [
      "[[0.         0.95071431 0.73199394 0.         0.        ]\n",
      " [0.         0.         0.86617615 0.         0.70807258]\n",
      " [0.         0.96990985 0.83244264 0.         0.        ]\n",
      " [0.         0.         0.         0.         0.        ]\n",
      " [0.         0.         0.         0.         0.        ]\n",
      " [0.78517596 0.         0.         0.         0.        ]\n",
      " [0.         0.         0.         0.94888554 0.96563203]\n",
      " [0.80839735 0.         0.         0.         0.        ]\n",
      " [0.         0.         0.         0.9093204  0.        ]\n",
      " [0.         0.         0.         0.         0.        ]]\n"
     ]
    }
   ],
   "source": [
    "print(X)"
   ]
  },
  {
   "cell_type": "code",
   "execution_count": 4,
   "id": "16c1f34d-b3e8-40a8-840d-8b05c927ea6b",
   "metadata": {},
   "outputs": [
    {
     "name": "stdout",
     "output_type": "stream",
     "text": [
      "  (0, 1)\t0.9507143064099162\n",
      "  (0, 2)\t0.7319939418114051\n",
      "  (1, 2)\t0.8661761457749352\n",
      "  (1, 4)\t0.7080725777960455\n",
      "  (2, 1)\t0.9699098521619943\n",
      "  (2, 2)\t0.8324426408004217\n",
      "  (5, 0)\t0.7851759613930136\n",
      "  (6, 3)\t0.9488855372533332\n",
      "  (6, 4)\t0.9656320330745594\n",
      "  (7, 0)\t0.8083973481164611\n",
      "  (8, 3)\t0.9093204020787821\n"
     ]
    }
   ],
   "source": [
    "X_csr = sparse.csr_matrix(X)\n",
    "print(X_csr)"
   ]
  },
  {
   "cell_type": "code",
   "execution_count": 5,
   "id": "ef4859a1-48d7-440d-993b-0ad934857825",
   "metadata": {},
   "outputs": [
    {
     "name": "stdout",
     "output_type": "stream",
     "text": [
      "[[0.         0.95071431 0.73199394 0.         0.        ]\n",
      " [0.         0.         0.86617615 0.         0.70807258]\n",
      " [0.         0.96990985 0.83244264 0.         0.        ]\n",
      " [0.         0.         0.         0.         0.        ]\n",
      " [0.         0.         0.         0.         0.        ]\n",
      " [0.78517596 0.         0.         0.         0.        ]\n",
      " [0.         0.         0.         0.94888554 0.96563203]\n",
      " [0.80839735 0.         0.         0.         0.        ]\n",
      " [0.         0.         0.         0.9093204  0.        ]\n",
      " [0.         0.         0.         0.         0.        ]]\n"
     ]
    }
   ],
   "source": [
    "print(X_csr.toarray())"
   ]
  },
  {
   "cell_type": "code",
   "execution_count": 6,
   "id": "e4e7a136-f934-4c74-a065-45131e35e747",
   "metadata": {},
   "outputs": [
    {
     "name": "stdout",
     "output_type": "stream",
     "text": [
      "5\n"
     ]
    }
   ],
   "source": [
    "print(X_csr.shape[1])"
   ]
  },
  {
   "cell_type": "code",
   "execution_count": 7,
   "id": "a5d0ff5e-0ba5-473c-a5d5-7d9bda02c850",
   "metadata": {},
   "outputs": [
    {
     "data": {
      "text/plain": [
       "array([0.96958463, 0.77513282, 0.93949894, 0.89482735, 0.59789998])"
      ]
     },
     "execution_count": 7,
     "metadata": {},
     "output_type": "execute_result"
    }
   ],
   "source": [
    "y = np.random.random(5)\n",
    "y"
   ]
  },
  {
   "cell_type": "code",
   "execution_count": 8,
   "id": "9bc1a733-6087-48b3-941b-97acfae8b657",
   "metadata": {},
   "outputs": [
    {
     "name": "stdout",
     "output_type": "stream",
     "text": [
      "  (0, 1)\t0.9507143064099162\n",
      "  (0, 2)\t0.7319939418114051\n",
      "  (1, 2)\t0.8661761457749352\n",
      "  (1, 4)\t0.7080725777960455\n",
      "  (2, 1)\t0.9699098521619943\n",
      "  (2, 2)\t0.8324426408004217\n",
      "  (5, 0)\t0.7851759613930136\n",
      "  (6, 3)\t0.9488855372533332\n",
      "  (6, 4)\t0.9656320330745594\n",
      "  (7, 0)\t0.8083973481164611\n",
      "  (8, 3)\t0.9093204020787821\n"
     ]
    }
   ],
   "source": [
    "print(X_csr)"
   ]
  },
  {
   "cell_type": "code",
   "execution_count": 9,
   "id": "f64a7487-b08f-40f3-acba-907c15c8dae4",
   "metadata": {},
   "outputs": [
    {
     "data": {
      "text/plain": [
       "array([1.4246374 , 1.23712815, 1.53388794, 0.        , 0.        ,\n",
       "       0.76129454, 1.4264401 , 0.78380964, 0.81368477, 0.        ])"
      ]
     },
     "execution_count": 9,
     "metadata": {},
     "output_type": "execute_result"
    }
   ],
   "source": [
    "z1 = X_csr.dot(y)\n",
    "z1"
   ]
  },
  {
   "cell_type": "code",
   "execution_count": 10,
   "id": "fbaeabf1-f15b-4917-b61e-c37f96b98f98",
   "metadata": {},
   "outputs": [
    {
     "data": {
      "text/plain": [
       "array([[0.        , 0.95071431, 0.73199394, 0.        , 0.        ],\n",
       "       [0.        , 0.        , 0.86617615, 0.        , 0.70807258],\n",
       "       [0.        , 0.96990985, 0.83244264, 0.        , 0.        ],\n",
       "       [0.        , 0.        , 0.        , 0.        , 0.        ],\n",
       "       [0.        , 0.        , 0.        , 0.        , 0.        ],\n",
       "       [0.78517596, 0.        , 0.        , 0.        , 0.        ],\n",
       "       [0.        , 0.        , 0.        , 0.94888554, 0.96563203],\n",
       "       [0.80839735, 0.        , 0.        , 0.        , 0.        ],\n",
       "       [0.        , 0.        , 0.        , 0.9093204 , 0.        ],\n",
       "       [0.        , 0.        , 0.        , 0.        , 0.        ]])"
      ]
     },
     "execution_count": 10,
     "metadata": {},
     "output_type": "execute_result"
    }
   ],
   "source": [
    "X"
   ]
  },
  {
   "cell_type": "code",
   "execution_count": 11,
   "id": "0ff38615-82e5-4ccb-a213-f565da522b4b",
   "metadata": {},
   "outputs": [
    {
     "data": {
      "text/plain": [
       "array([1.4246374 , 1.23712815, 1.53388794, 0.        , 0.        ,\n",
       "       0.76129454, 1.4264401 , 0.78380964, 0.81368477, 0.        ])"
      ]
     },
     "execution_count": 11,
     "metadata": {},
     "output_type": "execute_result"
    }
   ],
   "source": [
    "z2 = X.dot(y)\n",
    "z2"
   ]
  },
  {
   "cell_type": "code",
   "execution_count": 12,
   "id": "b92e1ced-3ce6-4c69-83a4-0176a809dd9d",
   "metadata": {},
   "outputs": [
    {
     "data": {
      "text/plain": [
       "True"
      ]
     },
     "execution_count": 12,
     "metadata": {},
     "output_type": "execute_result"
    }
   ],
   "source": [
    "example_1 = np.arange(0, 5)\n",
    "example_2 = np.arange(0, 5)\n",
    "example_3 = np.arange(0+10, 5+10)\n",
    "\n",
    "np.allclose(example_1, example_2)"
   ]
  },
  {
   "cell_type": "code",
   "execution_count": 13,
   "id": "cc7a0e64-5f1e-49ea-aa29-7780d84a62f0",
   "metadata": {},
   "outputs": [
    {
     "data": {
      "text/plain": [
       "False"
      ]
     },
     "execution_count": 13,
     "metadata": {},
     "output_type": "execute_result"
    }
   ],
   "source": [
    "np.allclose(example_2, example_3)"
   ]
  },
  {
   "cell_type": "code",
   "execution_count": 14,
   "id": "2ddacc2b-cd6f-4b01-bd0c-f2feda9698ca",
   "metadata": {},
   "outputs": [
    {
     "data": {
      "text/plain": [
       "array([0, 1, 2, 3, 4])"
      ]
     },
     "execution_count": 14,
     "metadata": {},
     "output_type": "execute_result"
    }
   ],
   "source": [
    "array_1 = np.arange(0, 5)\n",
    "array_1"
   ]
  },
  {
   "cell_type": "code",
   "execution_count": 15,
   "id": "4a2f4f4a-86c2-48cc-a300-7af11907e188",
   "metadata": {},
   "outputs": [
    {
     "data": {
      "text/plain": [
       "array([5, 6, 7, 8, 9])"
      ]
     },
     "execution_count": 15,
     "metadata": {},
     "output_type": "execute_result"
    }
   ],
   "source": [
    "array_2 = np.arange(0+5, 5+5)\n",
    "array_2"
   ]
  },
  {
   "cell_type": "code",
   "execution_count": 16,
   "id": "9a5b59bb-2762-466b-b18c-96bd14cac17c",
   "metadata": {},
   "outputs": [
    {
     "data": {
      "text/plain": [
       "80"
      ]
     },
     "execution_count": 16,
     "metadata": {},
     "output_type": "execute_result"
    }
   ],
   "source": [
    "dot_product = array_1.dot(array_2)\n",
    "dot_product"
   ]
  },
  {
   "cell_type": "code",
   "execution_count": 17,
   "id": "e12caff3-82cc-4702-9c6c-ae3da8081a3d",
   "metadata": {},
   "outputs": [
    {
     "name": "stdout",
     "output_type": "stream",
     "text": [
      "\n"
     ]
    }
   ],
   "source": [
    "print(sparse.lil_matrix((5,5)))"
   ]
  },
  {
   "cell_type": "code",
   "execution_count": 18,
   "id": "426fff93-5805-422d-9065-5ee75b4c5dda",
   "metadata": {},
   "outputs": [
    {
     "name": "stdout",
     "output_type": "stream",
     "text": [
      "Maximum element: 15\n"
     ]
    }
   ],
   "source": [
    "def find_max_element(numbers):\n",
    "    max_element = float(\"-inf\")  # Initialize to negative infinity\n",
    "    for num in numbers:\n",
    "        if num > max_element:\n",
    "            max_element = num\n",
    "    return max_element\n",
    "\n",
    "# Example usage:\n",
    "numbers_list = [5, 9, 2, 15, 7]\n",
    "max_num = find_max_element(numbers_list)\n",
    "print(\"Maximum element:\", max_num) "
   ]
  },
  {
   "cell_type": "code",
   "execution_count": 19,
   "id": "76da9c72-040a-40a4-9777-6c60a8e076da",
   "metadata": {},
   "outputs": [],
   "source": [
    "def find_max_element_2(numbers):\n",
    "    max_element = 0\n",
    "    for num in numbers:\n",
    "        if num > max_element:\n",
    "            max_element = num\n",
    "    return max_element"
   ]
  },
  {
   "cell_type": "code",
   "execution_count": 20,
   "id": "2862887a-d8d4-462f-8fbd-e5df28fac940",
   "metadata": {},
   "outputs": [],
   "source": [
    "numbers_list = [0, 2, 3, 64, 23, 3, 42, 5, 9]"
   ]
  },
  {
   "cell_type": "code",
   "execution_count": 21,
   "id": "e2137b7d-fd27-48ea-bd3f-906e935228c8",
   "metadata": {},
   "outputs": [
    {
     "data": {
      "text/plain": [
       "64"
      ]
     },
     "execution_count": 21,
     "metadata": {},
     "output_type": "execute_result"
    }
   ],
   "source": [
    "max_num_2 = find_max_element_2(numbers_list)\n",
    "max_num_2"
   ]
  },
  {
   "cell_type": "code",
   "execution_count": 22,
   "id": "843f6363-a12c-4e7c-ab42-2a1119e7c021",
   "metadata": {},
   "outputs": [],
   "source": [
    "def min_element(num_list):\n",
    "    lowest_value = float('inf')\n",
    "    \n",
    "    for n in num_list:\n",
    "        if n < lowest_value:\n",
    "            lowest_value = n\n",
    "    return lowest_value"
   ]
  },
  {
   "cell_type": "code",
   "execution_count": 23,
   "id": "af0d866b-8d99-4b2a-b947-6b7d9d366344",
   "metadata": {},
   "outputs": [],
   "source": [
    "numbers_list = [0.05, 12, 42, 12, 0.001, 0.312, -0.3234, -0.031, -120, 231, 21]"
   ]
  },
  {
   "cell_type": "code",
   "execution_count": 24,
   "id": "c9b796d1-41b5-4ba3-b3f0-bafc3e3034c0",
   "metadata": {},
   "outputs": [
    {
     "data": {
      "text/plain": [
       "-120"
      ]
     },
     "execution_count": 24,
     "metadata": {},
     "output_type": "execute_result"
    }
   ],
   "source": [
    "min_element(numbers_list)"
   ]
  },
  {
   "cell_type": "code",
   "execution_count": 25,
   "id": "5e971a4b-6e5b-44a0-a24d-6c704b41120e",
   "metadata": {},
   "outputs": [
    {
     "name": "stdout",
     "output_type": "stream",
     "text": [
      "[[3 0]\n",
      " [4 4]\n",
      " [1 4]\n",
      " [1 0]\n",
      " [3 3]\n",
      " [3 4]\n",
      " [0 4]\n",
      " [4 0]\n",
      " [0 0]\n",
      " [0 3]\n",
      " [2 2]\n",
      " [0 2]\n",
      " [2 0]\n",
      " [2 4]\n",
      " [1 1]]\n"
     ]
    }
   ],
   "source": [
    "a193628 = np.random.randint(0, 5, (15, 2))\n",
    "print(a193628)"
   ]
  },
  {
   "cell_type": "code",
   "execution_count": 26,
   "id": "6ae21081-4df9-4115-8d96-91da6dca3c94",
   "metadata": {},
   "outputs": [
    {
     "data": {
      "text/plain": [
       "4"
      ]
     },
     "execution_count": 26,
     "metadata": {},
     "output_type": "execute_result"
    }
   ],
   "source": [
    "a193628[1, 0]"
   ]
  },
  {
   "cell_type": "code",
   "execution_count": 27,
   "id": "bf0ae416-b57b-40db-b89d-b793d645c186",
   "metadata": {},
   "outputs": [
    {
     "data": {
      "text/plain": [
       "<5x5 sparse matrix of type '<class 'numpy.float64'>'\n",
       "\twith 0 stored elements in List of Lists format>"
      ]
     },
     "execution_count": 27,
     "metadata": {},
     "output_type": "execute_result"
    }
   ],
   "source": [
    "X_lil = sparse.lil_matrix((5, 5))\n",
    "X_lil"
   ]
  },
  {
   "cell_type": "code",
   "execution_count": 28,
   "id": "4918c03c-2ebd-4d3f-875e-873734200fc6",
   "metadata": {},
   "outputs": [
    {
     "name": "stdout",
     "output_type": "stream",
     "text": [
      "[[0. 0. 2. 3. 4.]\n",
      " [1. 2. 0. 0. 5.]\n",
      " [2. 0. 4. 0. 6.]\n",
      " [3. 0. 0. 6. 7.]\n",
      " [4. 0. 0. 0. 8.]] \n",
      "\n",
      "  (0, 2)\t2.0\n",
      "  (0, 3)\t3.0\n",
      "  (0, 4)\t4.0\n",
      "  (1, 0)\t1.0\n",
      "  (1, 1)\t2.0\n",
      "  (1, 4)\t5.0\n",
      "  (2, 0)\t2.0\n",
      "  (2, 2)\t4.0\n",
      "  (2, 4)\t6.0\n",
      "  (3, 0)\t3.0\n",
      "  (3, 3)\t6.0\n",
      "  (3, 4)\t7.0\n",
      "  (4, 0)\t4.0\n",
      "  (4, 4)\t8.0\n"
     ]
    }
   ],
   "source": [
    "for i, j in a193628:\n",
    "    X_lil[i, j] = i + j\n",
    "    \n",
    "print(X_lil.toarray(), '\\n')\n",
    "print(X_lil)"
   ]
  },
  {
   "cell_type": "code",
   "execution_count": 29,
   "id": "a06d3b44-2fca-4c15-ab17-bbe10cd7a26f",
   "metadata": {},
   "outputs": [
    {
     "name": "stdout",
     "output_type": "stream",
     "text": [
      "3 0\n",
      "4 4\n",
      "1 4\n",
      "1 0\n",
      "3 3\n",
      "3 4\n",
      "0 4\n",
      "4 0\n",
      "0 0\n",
      "0 3\n",
      "2 2\n",
      "0 2\n",
      "2 0\n",
      "2 4\n",
      "1 1\n"
     ]
    }
   ],
   "source": [
    "for i, j in a193628:\n",
    "    print(i, j)"
   ]
  },
  {
   "cell_type": "code",
   "execution_count": 30,
   "id": "7afb406a-9aba-4287-94ff-c85381584422",
   "metadata": {},
   "outputs": [
    {
     "data": {
      "text/plain": [
       "array([[3, 0],\n",
       "       [4, 4],\n",
       "       [1, 4],\n",
       "       [1, 0],\n",
       "       [3, 3],\n",
       "       [3, 4],\n",
       "       [0, 4],\n",
       "       [4, 0],\n",
       "       [0, 0],\n",
       "       [0, 3],\n",
       "       [2, 2],\n",
       "       [0, 2],\n",
       "       [2, 0],\n",
       "       [2, 4],\n",
       "       [1, 1]])"
      ]
     },
     "execution_count": 30,
     "metadata": {},
     "output_type": "execute_result"
    }
   ],
   "source": [
    "a193628"
   ]
  },
  {
   "cell_type": "code",
   "execution_count": 31,
   "id": "11dca538-9891-4a55-a54a-04fa921c2b0b",
   "metadata": {},
   "outputs": [
    {
     "name": "stdout",
     "output_type": "stream",
     "text": [
      "[[0 1]\n",
      " [0 0]\n",
      " [1 1]\n",
      " [1 0]\n",
      " [1 0]]\n"
     ]
    }
   ],
   "source": [
    "a200528 = np.random.randint(0, 2, (5, 2))\n",
    "print(a200528)"
   ]
  },
  {
   "cell_type": "code",
   "execution_count": 32,
   "id": "b53c3680-a60f-4d4a-b129-f4ec7d00fd80",
   "metadata": {},
   "outputs": [
    {
     "name": "stdout",
     "output_type": "stream",
     "text": [
      "  (0, 1)\t1.0\n",
      "  (1, 0)\t1.0\n",
      "  (1, 1)\t2.0 \n",
      "\n",
      "[[0. 1. 0.]\n",
      " [1. 2. 0.]\n",
      " [0. 0. 0.]]\n"
     ]
    }
   ],
   "source": [
    "X_lil_2 = sparse.lil_matrix((3, 3))\n",
    "\n",
    "for r, c in a200528:\n",
    "    X_lil_2[r, c] = r + c\n",
    "    \n",
    "print(X_lil_2, '\\n')\n",
    "print(X_lil_2.toarray())"
   ]
  },
  {
   "cell_type": "code",
   "execution_count": 33,
   "id": "0c12bd1c-a1f8-4df8-807d-847e2fed73bb",
   "metadata": {},
   "outputs": [
    {
     "data": {
      "text/plain": [
       "<3x3 sparse matrix of type '<class 'numpy.float64'>'\n",
       "\twith 3 stored elements in List of Lists format>"
      ]
     },
     "execution_count": 33,
     "metadata": {},
     "output_type": "execute_result"
    }
   ],
   "source": [
    "X_lil_2"
   ]
  },
  {
   "cell_type": "code",
   "execution_count": 34,
   "id": "4396729d-79ae-42f3-8126-390ee7abef9e",
   "metadata": {},
   "outputs": [
    {
     "data": {
      "text/plain": [
       "<3x3 sparse matrix of type '<class 'numpy.float64'>'\n",
       "\twith 3 stored elements in Compressed Sparse Row format>"
      ]
     },
     "execution_count": 34,
     "metadata": {},
     "output_type": "execute_result"
    }
   ],
   "source": [
    "X_csr = X_lil_2.tocsr()\n",
    "X_csr"
   ]
  },
  {
   "cell_type": "code",
   "execution_count": 35,
   "id": "a377dbd3-f1d1-4f22-bea3-85dd5a10f005",
   "metadata": {},
   "outputs": [
    {
     "name": "stdout",
     "output_type": "stream",
     "text": [
      "  (0, 1)\t1.0\n",
      "  (1, 0)\t1.0\n",
      "  (1, 1)\t2.0\n"
     ]
    }
   ],
   "source": [
    "print(X_csr)"
   ]
  },
  {
   "cell_type": "code",
   "execution_count": 36,
   "id": "68183aa4-77bc-4af6-8982-80d29c9750f5",
   "metadata": {},
   "outputs": [
    {
     "data": {
      "text/plain": [
       "<3x3 sparse matrix of type '<class 'numpy.float64'>'\n",
       "\twith 3 stored elements in List of Lists format>"
      ]
     },
     "execution_count": 36,
     "metadata": {},
     "output_type": "execute_result"
    }
   ],
   "source": [
    "X_lil_2"
   ]
  },
  {
   "cell_type": "code",
   "execution_count": 37,
   "id": "a98146f6-c99f-4c84-83db-b4ecf679f492",
   "metadata": {},
   "outputs": [
    {
     "name": "stdout",
     "output_type": "stream",
     "text": [
      "  (0, 1)\t1.0\n",
      "  (1, 0)\t1.0\n",
      "  (1, 1)\t2.0\n"
     ]
    }
   ],
   "source": [
    "print(X_lil_2)"
   ]
  },
  {
   "cell_type": "code",
   "execution_count": 38,
   "id": "10e58e54-9bac-45f7-90a7-583a0cf42b02",
   "metadata": {},
   "outputs": [
    {
     "data": {
      "text/plain": [
       "<3x3 sparse matrix of type '<class 'numpy.float64'>'\n",
       "\twith 3 stored elements in Compressed Sparse Column format>"
      ]
     },
     "execution_count": 38,
     "metadata": {},
     "output_type": "execute_result"
    }
   ],
   "source": [
    "X_csc = X_lil_2.tocsc()\n",
    "X_csc"
   ]
  },
  {
   "cell_type": "code",
   "execution_count": 39,
   "id": "4c06ebb1-d520-4b5d-bc3c-75658ffba902",
   "metadata": {},
   "outputs": [
    {
     "name": "stdout",
     "output_type": "stream",
     "text": [
      "  (1, 0)\t1.0\n",
      "  (0, 1)\t1.0\n",
      "  (1, 1)\t2.0\n"
     ]
    }
   ],
   "source": [
    "print(X_csc)"
   ]
  },
  {
   "cell_type": "code",
   "execution_count": 42,
   "id": "4df0d3bb-de85-4e8b-9508-4b40fb5aae22",
   "metadata": {},
   "outputs": [
    {
     "name": "stdout",
     "output_type": "stream",
     "text": [
      "[0 2 3 6]\n"
     ]
    }
   ],
   "source": [
    "A1 = np.array([0, 2, 3, 6])\n",
    "print(A1)"
   ]
  },
  {
   "cell_type": "code",
   "execution_count": 43,
   "id": "da3e96cd-cd7d-4d94-9a9b-5c4c47a6cc4e",
   "metadata": {},
   "outputs": [
    {
     "name": "stdout",
     "output_type": "stream",
     "text": [
      "[0 2 2 0 1 2]\n"
     ]
    }
   ],
   "source": [
    "A2 = np.array([0, 2, 2, 0, 1, 2])\n",
    "print(A2)"
   ]
  },
  {
   "cell_type": "code",
   "execution_count": 44,
   "id": "69b256f1-3977-42ec-925f-2d748e2e577e",
   "metadata": {},
   "outputs": [
    {
     "name": "stdout",
     "output_type": "stream",
     "text": [
      "[1 1 1 1 2 2 2 2 3 3 3 3 4 4 4 4 5 5 5 5 6 6 6 6]\n"
     ]
    }
   ],
   "source": [
    "A3 = np.array([1, 2, 3, 4, 5, 6]).repeat(4)\n",
    "print(A3)"
   ]
  },
  {
   "cell_type": "code",
   "execution_count": 46,
   "id": "5eb14ad7-33dd-495c-887e-95d4476868ee",
   "metadata": {},
   "outputs": [
    {
     "name": "stdout",
     "output_type": "stream",
     "text": [
      "[1 1 1 1 2 2 2 2 3 3 3 3 4 4 4 4 5 5 5 5 6 6 6 6]\n"
     ]
    }
   ],
   "source": [
    "A4 = np.arange(1, 7).repeat(4)\n",
    "print(A4)"
   ]
  },
  {
   "cell_type": "code",
   "execution_count": 52,
   "id": "a1ca4495-aaeb-4417-8f9a-2ad98a02fc16",
   "metadata": {},
   "outputs": [
    {
     "name": "stdout",
     "output_type": "stream",
     "text": [
      "[0 1 2 3 4]\n"
     ]
    }
   ],
   "source": [
    "EX1 = np.arange(0, 5)\n",
    "print(EX1)"
   ]
  },
  {
   "cell_type": "code",
   "execution_count": 55,
   "id": "1ae6ff0e-2e37-4d74-b0ce-859f476b7107",
   "metadata": {},
   "outputs": [
    {
     "name": "stdout",
     "output_type": "stream",
     "text": [
      "[0 0 0 0 1 1 1 1 2 2 2 2 3 3 3 3 4 4 4 4]\n"
     ]
    }
   ],
   "source": [
    "EX2 = EX1.repeat(4)    # or np.arange(0, 5).repeat(4)\n",
    "print(EX2)"
   ]
  },
  {
   "cell_type": "code",
   "execution_count": 56,
   "id": "3e49a859-331b-49b0-acfd-ad7b4930cbc6",
   "metadata": {},
   "outputs": [
    {
     "name": "stdout",
     "output_type": "stream",
     "text": [
      "[[[1 1]\n",
      "  [1 1]]\n",
      "\n",
      " [[2 2]\n",
      "  [2 2]]\n",
      "\n",
      " [[3 3]\n",
      "  [3 3]]\n",
      "\n",
      " [[4 4]\n",
      "  [4 4]]\n",
      "\n",
      " [[5 5]\n",
      "  [5 5]]\n",
      "\n",
      " [[6 6]\n",
      "  [6 6]]]\n"
     ]
    }
   ],
   "source": [
    "A5 = A4.reshape(6, 2, 2)\n",
    "print(A5)"
   ]
  },
  {
   "cell_type": "code",
   "execution_count": 60,
   "id": "38045986-268c-4c47-a566-caa34a32cc4f",
   "metadata": {},
   "outputs": [
    {
     "name": "stdout",
     "output_type": "stream",
     "text": [
      "[1 1 1 1 2 2 2 2 3 3 3 3 4 4 4 4 5 5 5 5 6 6 6 6]\n"
     ]
    }
   ],
   "source": [
    "array1 = np.array([1, 1, 1, 1, 2, 2, 2, 2, 3, 3, 3, 3, 4, 4, 4, 4, 5, 5, 5, 5, 6, 6, 6, 6])\n",
    "print(array1)"
   ]
  },
  {
   "cell_type": "code",
   "execution_count": 61,
   "id": "981e695d-b079-45e4-aa15-b272ee1185f2",
   "metadata": {},
   "outputs": [
    {
     "name": "stdout",
     "output_type": "stream",
     "text": [
      "[[[1 1]\n",
      "  [1 1]]\n",
      "\n",
      " [[2 2]\n",
      "  [2 2]]\n",
      "\n",
      " [[3 3]\n",
      "  [3 3]]\n",
      "\n",
      " [[4 4]\n",
      "  [4 4]]\n",
      "\n",
      " [[5 5]\n",
      "  [5 5]]\n",
      "\n",
      " [[6 6]\n",
      "  [6 6]]]\n"
     ]
    }
   ],
   "source": [
    "array2 = array1.reshape(6, 2, 2)\n",
    "print(array2)"
   ]
  },
  {
   "cell_type": "code",
   "execution_count": 68,
   "id": "b7e9f5a1-fcc1-4bf0-8ce2-d5a941a2bbb2",
   "metadata": {},
   "outputs": [],
   "source": [
    "from scipy.sparse import bsr_matrix"
   ]
  },
  {
   "cell_type": "code",
   "execution_count": 69,
   "id": "13fa5510-20ec-4b3a-b6e8-c1375e763213",
   "metadata": {},
   "outputs": [],
   "source": [
    "data = [1, 2, 3, 4, 5, 6, 7, 8, 9, 10, 11, 12]\n",
    "indices = [0, 1, 0, 1, 0, 1]\n",
    "indptr = [0, 2, 4, 6]"
   ]
  },
  {
   "cell_type": "code",
   "execution_count": 83,
   "id": "b0290333-7a10-406a-b7e1-c649b350cbd7",
   "metadata": {},
   "outputs": [
    {
     "data": {
      "text/plain": [
       "array([[0, 0, 0, 0, 0, 0],\n",
       "       [0, 0, 0, 0, 0, 0],\n",
       "       [0, 0, 0, 0, 0, 0],\n",
       "       [0, 0, 0, 0, 0, 0],\n",
       "       [0, 0, 0, 0, 0, 0],\n",
       "       [0, 0, 0, 0, 0, 0]])"
      ]
     },
     "execution_count": 83,
     "metadata": {},
     "output_type": "execute_result"
    }
   ],
   "source": [
    "from scipy.sparse import bsr_matrix\n",
    "import numpy as np\n",
    "\n",
    "# Create the 2x2 blocks\n",
    "block1 = np.array([[1, 2], [3, 4]])\n",
    "block2 = np.array([[5, 6], [7, 8]])\n",
    "block3 = np.array([[9, 10], [11, 12]])\n",
    "\n",
    "# Stack the blocks to create the data array\n",
    "data = np.array([block1, block2, block3])\n",
    "\n",
    "# Define the column indices of the blocks\n",
    "indices = np.array([0, 0, 0])\n",
    "\n",
    "# Define the row pointers to the blocks\n",
    "indptr = np.array([0, 0, 0, 0])  # Adjusted indptr to be of size 4\n",
    "\n",
    "# Create the BSR matrix\n",
    "bsr_matrix((data, indices, indptr), shape=(6, 6)).toarray()"
   ]
  },
  {
   "cell_type": "code",
   "execution_count": 78,
   "id": "7f2ec578-8003-44bf-95a7-66ab4179aff1",
   "metadata": {},
   "outputs": [
    {
     "data": {
      "text/plain": [
       "array([[[ 1,  2],\n",
       "        [ 3,  4]],\n",
       "\n",
       "       [[ 5,  6],\n",
       "        [ 7,  8]],\n",
       "\n",
       "       [[ 9, 10],\n",
       "        [11, 12]]])"
      ]
     },
     "execution_count": 78,
     "metadata": {},
     "output_type": "execute_result"
    }
   ],
   "source": [
    "data"
   ]
  },
  {
   "cell_type": "code",
   "execution_count": 87,
   "id": "d3deca00-45ee-4d09-90af-29ce680b60ea",
   "metadata": {},
   "outputs": [
    {
     "data": {
      "text/plain": [
       "array([[[1, 1, 1],\n",
       "        [1, 1, 1]],\n",
       "\n",
       "       [[2, 2, 2],\n",
       "        [2, 2, 2]],\n",
       "\n",
       "       [[3, 3, 3],\n",
       "        [3, 3, 3]],\n",
       "\n",
       "       [[4, 4, 4],\n",
       "        [4, 4, 4]]])"
      ]
     },
     "execution_count": 87,
     "metadata": {},
     "output_type": "execute_result"
    }
   ],
   "source": [
    "ones = np.ones((2, 3), dtype=int)\n",
    "data = np.array([ones + i for i in range(4)])\n",
    "data"
   ]
  },
  {
   "cell_type": "code",
   "execution_count": 94,
   "id": "33e2100b-bd1a-4e02-b303-313a76957681",
   "metadata": {},
   "outputs": [
    {
     "data": {
      "text/plain": [
       "array([[1, 1, 0, 0, 2, 2],\n",
       "       [1, 1, 0, 0, 2, 2],\n",
       "       [0, 0, 0, 0, 3, 3],\n",
       "       [0, 0, 0, 0, 3, 3],\n",
       "       [4, 4, 5, 5, 6, 6],\n",
       "       [4, 4, 5, 5, 6, 6]])"
      ]
     },
     "execution_count": 94,
     "metadata": {},
     "output_type": "execute_result"
    }
   ],
   "source": [
    "from scipy.sparse import bsr_matrix\n",
    "\n",
    "indptr = np.array([0, 2, 3, 6])\n",
    "indices = np.array([0, 2, 2, 0, 1, 2])\n",
    "data = np.array([1, 2, 3, 4, 5, 6]).repeat(4).reshape(6, 2, 2)\n",
    "bsr_matrix((data, indices, indptr), shape = (6, 6)).toarray()"
   ]
  },
  {
   "cell_type": "code",
   "execution_count": 96,
   "id": "f7ba0c3e-6b79-4ee4-a390-fe580a5bc5fb",
   "metadata": {},
   "outputs": [
    {
     "name": "stdout",
     "output_type": "stream",
     "text": [
      "[[[1 1]\n",
      "  [1 1]]\n",
      "\n",
      " [[2 2]\n",
      "  [2 2]]\n",
      "\n",
      " [[3 3]\n",
      "  [3 3]]\n",
      "\n",
      " [[4 4]\n",
      "  [4 4]]\n",
      "\n",
      " [[5 5]\n",
      "  [5 5]]\n",
      "\n",
      " [[6 6]\n",
      "  [6 6]]]\n"
     ]
    }
   ],
   "source": [
    "data = np.array([1, 2, 3, 4, 5, 6]).repeat(4).reshape(6, 2, 2)\n",
    "print(data)"
   ]
  },
  {
   "cell_type": "code",
   "execution_count": 99,
   "id": "5851da38-0694-42eb-81f0-c60809e71ef4",
   "metadata": {},
   "outputs": [
    {
     "name": "stdout",
     "output_type": "stream",
     "text": [
      "[[1 1 0 0 2 2]\n",
      " [1 1 0 0 2 2]\n",
      " [0 0 0 0 3 3]\n",
      " [0 0 0 0 3 3]\n",
      " [4 4 5 5 6 6]\n",
      " [4 4 5 5 6 6]]\n"
     ]
    }
   ],
   "source": [
    "from scipy.sparse import bsr_matrix\n",
    "\n",
    "indptr = np.array([0, 2, 3, 6])\n",
    "indices = np.array([0, 2, 2, 0, 1, 2])\n",
    "data = np.array([1, 2, 3, 4, 5, 6]).repeat(4).reshape(6, 2, 2)\n",
    "\n",
    "print(bsr_matrix((data, indices, indptr), shape = (6, 6)).toarray())"
   ]
  },
  {
   "cell_type": "code",
   "execution_count": 110,
   "id": "45a02a76-faae-4a42-ae82-55fa5f8e1669",
   "metadata": {},
   "outputs": [
    {
     "name": "stdout",
     "output_type": "stream",
     "text": [
      "[[1 1]\n",
      " [1 1]] \n",
      "\n",
      "[[3 3]\n",
      " [3 3]] \n",
      "\n",
      "[[3 3]\n",
      " [3 3]] \n",
      "\n",
      "[[1 1]\n",
      " [1 1]] \n",
      "\n",
      "[[2 2]\n",
      " [2 2]] \n",
      "\n",
      "[[3 3]\n",
      " [3 3]]\n"
     ]
    }
   ],
   "source": [
    "print(data[0], '\\n')\n",
    "print(data[2], '\\n')\n",
    "print(data[2], '\\n')\n",
    "print(data[0], '\\n')\n",
    "print(data[1], '\\n')\n",
    "print(data[2])"
   ]
  },
  {
   "cell_type": "code",
   "execution_count": 100,
   "id": "d3bb26c8-9d1b-4f8f-8862-865ff23df360",
   "metadata": {},
   "outputs": [
    {
     "data": {
      "text/plain": [
       "array([[1, 1, 0, 0, 2, 2],\n",
       "       [1, 1, 0, 0, 2, 2],\n",
       "       [0, 0, 0, 0, 3, 3],\n",
       "       [0, 0, 0, 0, 3, 3],\n",
       "       [4, 4, 5, 5, 6, 6],\n",
       "       [4, 4, 5, 5, 6, 6]])"
      ]
     },
     "execution_count": 100,
     "metadata": {},
     "output_type": "execute_result"
    }
   ],
   "source": [
    "from scipy.sparse import bsr_matrix\n",
    "import numpy as np\n",
    "\n",
    "# Create the 2x2 blocks\n",
    "block1 = np.array([[1, 1], [1, 1]])\n",
    "block2 = np.array([[2, 2], [2, 2]])\n",
    "block3 = np.array([[3, 3], [3, 3]])\n",
    "block4 = np.array([[4, 4], [4, 4]])\n",
    "block5 = np.array([[5, 5], [5, 5]])\n",
    "block6 = np.array([[6, 6], [6, 6]])\n",
    "\n",
    "# Stack the blocks to create the data array\n",
    "data = np.array([block1, block2, block3, block4, block5, block6])\n",
    "\n",
    "# Define the column indices of the blocks\n",
    "indices = np.array([0, 2, 2, 0, 1, 2])\n",
    "\n",
    "# Define the row pointers to the blocks\n",
    "indptr = np.array([0, 2, 3, 6])\n",
    "\n",
    "# Create the BSR matrix\n",
    "bsr_matrix((data, indices, indptr), shape=(6, 6)).toarray()"
   ]
  },
  {
   "cell_type": "code",
   "execution_count": 112,
   "id": "08d9961c-bbea-4602-a2f1-cb51f05d7574",
   "metadata": {},
   "outputs": [
    {
     "name": "stdout",
     "output_type": "stream",
     "text": [
      "  (1, 1)\t2\n",
      "  (3, 4)\t5\n",
      "  (0, 2)\t9\n",
      "  (2, 3)\t1\n",
      "  (4, 3)\t6\n"
     ]
    },
    {
     "data": {
      "text/plain": [
       "array([[0, 0, 9, 0, 0, 0, 0],\n",
       "       [0, 2, 0, 0, 0, 0, 0],\n",
       "       [0, 0, 0, 1, 0, 0, 0],\n",
       "       [0, 0, 0, 0, 5, 0, 0],\n",
       "       [0, 0, 0, 6, 0, 0, 0],\n",
       "       [0, 0, 0, 0, 0, 0, 0]])"
      ]
     },
     "execution_count": 112,
     "metadata": {},
     "output_type": "execute_result"
    }
   ],
   "source": [
    "row = [1, 3, 0, 2, 4]\n",
    "col = [1, 4, 2, 3, 3]\n",
    "data = [2, 5, 9, 1, 6]\n",
    "coo = sparse.coo_matrix((data, (row, col)), shape=(6, 7))\n",
    "print(coo)\n",
    "coo.toarray()"
   ]
  },
  {
   "cell_type": "code",
   "execution_count": 119,
   "id": "3d6302e5-8354-4311-bc97-2462258aa947",
   "metadata": {},
   "outputs": [
    {
     "name": "stdout",
     "output_type": "stream",
     "text": [
      "  (1, 1)\t2\n",
      "  (3, 4)\t5\n",
      "  (0, 2)\t9\n",
      "  (2, 3)\t1\n",
      "  (4, 3)\t6 \n",
      "\n",
      "[[0 0 9 0 0 0 0]\n",
      " [0 2 0 0 0 0 0]\n",
      " [0 0 0 1 0 0 0]\n",
      " [0 0 0 0 5 0 0]\n",
      " [0 0 0 6 0 0 0]\n",
      " [0 0 0 0 0 0 0]]\n"
     ]
    }
   ],
   "source": [
    "row = [1, 3, 0, 2, 4]\n",
    "col = [1, 4, 2, 3, 3]\n",
    "data = [2, 5, 9, 1, 6]\n",
    "\n",
    "coo = sparse.coo_matrix((data, (row, col)), shape=(6, 7))\n",
    "\n",
    "print(coo, '\\n')\n",
    "print(coo.toarray())"
   ]
  },
  {
   "cell_type": "code",
   "execution_count": 120,
   "id": "7d4f20d5-b5e9-4bc5-961c-ada83607bbe9",
   "metadata": {},
   "outputs": [
    {
     "data": {
      "text/plain": [
       "<6x7 sparse matrix of type '<class 'numpy.intc'>'\n",
       "\twith 5 stored elements in Compressed Sparse Row format>"
      ]
     },
     "execution_count": 120,
     "metadata": {},
     "output_type": "execute_result"
    }
   ],
   "source": [
    "coo.tocsr()"
   ]
  },
  {
   "cell_type": "code",
   "execution_count": 121,
   "id": "77e0903f-e922-4c03-b8ce-61c82859f0f0",
   "metadata": {},
   "outputs": [
    {
     "data": {
      "text/plain": [
       "<6x7 sparse matrix of type '<class 'numpy.int32'>'\n",
       "\twith 5 stored elements in COOrdinate format>"
      ]
     },
     "execution_count": 121,
     "metadata": {},
     "output_type": "execute_result"
    }
   ],
   "source": [
    "coo"
   ]
  },
  {
   "cell_type": "code",
   "execution_count": 135,
   "id": "8b676f33-9c25-470a-94c7-d96bc101eda7",
   "metadata": {},
   "outputs": [
    {
     "name": "stdout",
     "output_type": "stream",
     "text": [
      "[[0. 1. 2. 3. 4.]\n",
      " [0. 2. 3. 4. 5.]\n",
      " [0. 0. 4. 5. 6.]\n",
      " [0. 0. 0. 6. 7.]\n",
      " [0. 0. 0. 0. 8.]]\n"
     ]
    }
   ],
   "source": [
    "from scipy.sparse import dok_matrix\n",
    "\n",
    "S = dok_matrix((5, 5), dtype=np.float32)\n",
    "\n",
    "for i in range(5):\n",
    "    for j in range(i, 5):\n",
    "        S[i, j] = i+j\n",
    "        \n",
    "print(S.toarray())"
   ]
  },
  {
   "cell_type": "code",
   "execution_count": 128,
   "id": "93f1c140-6c04-4f59-90e0-08100f3128e8",
   "metadata": {},
   "outputs": [],
   "source": [
    "ex2030 = dok_matrix((5, 5), dtype=np.float32)\n",
    "\n",
    "for a in range(5):\n",
    "    for b in range(a, 5):\n",
    "        ex2030[a, b] = a + b        "
   ]
  },
  {
   "cell_type": "code",
   "execution_count": 129,
   "id": "1f331046-beca-4abf-b006-620da9072d33",
   "metadata": {},
   "outputs": [
    {
     "name": "stdout",
     "output_type": "stream",
     "text": [
      "0 0\n",
      "0 1\n",
      "0 2\n",
      "0 3\n",
      "0 4\n",
      "1 0\n",
      "1 1\n",
      "1 2\n",
      "1 3\n",
      "1 4\n",
      "2 0\n",
      "2 1\n",
      "2 2\n",
      "2 3\n",
      "2 4\n",
      "3 0\n",
      "3 1\n",
      "3 2\n",
      "3 3\n",
      "3 4\n",
      "4 0\n",
      "4 1\n",
      "4 2\n",
      "4 3\n",
      "4 4\n"
     ]
    }
   ],
   "source": [
    "for a in range(5):\n",
    "    for b in range(5):\n",
    "        print(a, b)"
   ]
  },
  {
   "cell_type": "code",
   "execution_count": 134,
   "id": "cb421ef1-4f2f-4631-b01c-ed0581bf4cc6",
   "metadata": {},
   "outputs": [
    {
     "data": {
      "text/plain": [
       "4"
      ]
     },
     "execution_count": 134,
     "metadata": {},
     "output_type": "execute_result"
    }
   ],
   "source": [
    "range(4, 5)[0]"
   ]
  },
  {
   "cell_type": "code",
   "execution_count": 136,
   "id": "15329d07-dcbb-4b8f-a56b-301e2001e5da",
   "metadata": {},
   "outputs": [
    {
     "name": "stdout",
     "output_type": "stream",
     "text": [
      "  (0, 1)\t0.32518332202674705\n",
      "  (0, 2)\t0.7296061783380641\n",
      "  (0, 3)\t0.6375574713552131\n",
      "  (0, 4)\t0.8872127425763265\n",
      "  (0, 5)\t0.4722149251619493\n",
      "  (0, 7)\t0.713244787222995\n",
      "  (0, 8)\t0.7607850486168974\n",
      "  (0, 9)\t0.5612771975694962\n",
      "  (0, 10)\t0.770967179954561\n",
      "  (0, 11)\t0.49379559636439074\n",
      "  (0, 12)\t0.5227328293819941\n",
      "  (0, 13)\t0.42754101835854963\n",
      "  (0, 17)\t0.6364104112637804\n",
      "  (0, 19)\t0.5085706911647028\n",
      "  (0, 20)\t0.907566473926093\n",
      "  (0, 22)\t0.41038292303562973\n",
      "  (0, 23)\t0.7555511385430487\n",
      "  (0, 28)\t0.9296976523425731\n",
      "  (0, 29)\t0.808120379564417\n",
      "  (0, 30)\t0.6334037565104235\n",
      "  (0, 31)\t0.8714605901877177\n",
      "  (0, 32)\t0.8036720768991145\n",
      "  (0, 34)\t0.8925589984899778\n",
      "  (0, 35)\t0.5393422419156507\n",
      "  (0, 36)\t0.8074401551640625\n",
      "  :\t:\n",
      "  (999, 968)\t0.33191817185357453\n",
      "  (999, 970)\t0.7894293925253537\n",
      "  (999, 971)\t0.46457328396871256\n",
      "  (999, 972)\t0.4785331973584963\n",
      "  (999, 974)\t0.9686290064312921\n",
      "  (999, 978)\t0.7562896176674918\n",
      "  (999, 979)\t0.9319608885775645\n",
      "  (999, 980)\t0.38916525967580806\n",
      "  (999, 981)\t0.37645551486938944\n",
      "  (999, 982)\t0.42328152417948284\n",
      "  (999, 983)\t0.689773773068713\n",
      "  (999, 984)\t0.8949717731073455\n",
      "  (999, 985)\t0.6645538017125541\n",
      "  (999, 986)\t0.9137047194988281\n",
      "  (999, 987)\t0.5798293627721056\n",
      "  (999, 989)\t0.808326594351145\n",
      "  (999, 991)\t0.5232795368009746\n",
      "  (999, 992)\t0.43041927918711054\n",
      "  (999, 993)\t0.8981631637978522\n",
      "  (999, 994)\t0.40761332509498294\n",
      "  (999, 995)\t0.8131468341343352\n",
      "  (999, 996)\t0.4715542826701673\n",
      "  (999, 997)\t0.34797004520318275\n",
      "  (999, 998)\t0.5967277339216505\n",
      "  (999, 999)\t0.3608261692841199\n"
     ]
    }
   ],
   "source": [
    "import numpy as np\n",
    "from scipy.sparse import dok_matrix\n",
    "\n",
    "# Create a big numpy dense matrix filled with random numbers in [0, 1)\n",
    "rows, cols = 1000, 1000\n",
    "dense_matrix = np.random.random((rows, cols))\n",
    "\n",
    "# Generate a random number within the range [0, 1)\n",
    "random_number = np.random.random()\n",
    "\n",
    "# Substitute all elements in the matrix less than the random number with zero\n",
    "dense_matrix[dense_matrix < random_number] = 0\n",
    "\n",
    "# Convert the dense matrix to DOK sparse matrix\n",
    "dok_sparse_matrix = dok_matrix(dense_matrix)\n",
    "\n",
    "# Print the resulting DOK sparse matrix\n",
    "print(dok_sparse_matrix)"
   ]
  }
 ],
 "metadata": {
  "kernelspec": {
   "display_name": "Python 3 (ipykernel)",
   "language": "python",
   "name": "python3"
  },
  "language_info": {
   "codemirror_mode": {
    "name": "ipython",
    "version": 3
   },
   "file_extension": ".py",
   "mimetype": "text/x-python",
   "name": "python",
   "nbconvert_exporter": "python",
   "pygments_lexer": "ipython3",
   "version": "3.9.13"
  }
 },
 "nbformat": 4,
 "nbformat_minor": 5
}
