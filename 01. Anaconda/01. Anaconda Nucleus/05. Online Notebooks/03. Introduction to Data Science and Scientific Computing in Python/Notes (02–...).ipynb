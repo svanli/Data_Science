{
 "cells": [
  {
   "cell_type": "markdown",
   "id": "0ffc4875-66eb-4282-946d-e0a763c0be1c",
   "metadata": {},
   "source": [
    "# Notes (02)"
   ]
  },
  {
   "cell_type": "code",
   "execution_count": 1,
   "id": "289d0dc8-f3f4-40e9-aa03-83431b34bca6",
   "metadata": {},
   "outputs": [],
   "source": [
    "import numpy as np\n",
    "from scipy import sparse"
   ]
  },
  {
   "cell_type": "markdown",
   "id": "53d7108e-e6b9-4c8f-ab82-e39635578e24",
   "metadata": {},
   "source": [
    "# 02. Representation of Data (for Machine Learning)"
   ]
  },
  {
   "cell_type": "code",
   "execution_count": 2,
   "id": "5d12bf01-f207-417c-8561-cd42c69346b1",
   "metadata": {},
   "outputs": [
    {
     "name": "stdout",
     "output_type": "stream",
     "text": [
      "[[0.         0.95071431 0.73199394 0.         0.        ]\n",
      " [0.         0.         0.86617615 0.         0.70807258]\n",
      " [0.         0.96990985 0.83244264 0.         0.        ]\n",
      " [0.         0.         0.         0.         0.        ]\n",
      " [0.         0.         0.         0.         0.        ]\n",
      " [0.78517596 0.         0.         0.         0.        ]\n",
      " [0.         0.         0.         0.94888554 0.96563203]\n",
      " [0.80839735 0.         0.         0.         0.        ]\n",
      " [0.         0.         0.         0.9093204  0.        ]\n",
      " [0.         0.         0.         0.         0.        ]]\n"
     ]
    }
   ],
   "source": [
    "np.random.seed(42)\n",
    "X = np.random.random((10, 5))\n",
    "X[X < 0.7] = 0\n",
    "print(X)"
   ]
  },
  {
   "cell_type": "code",
   "execution_count": 3,
   "id": "031cf2cd-0544-45df-bdf2-ec262ca1527e",
   "metadata": {},
   "outputs": [
    {
     "name": "stdout",
     "output_type": "stream",
     "text": [
      "[[0.         0.95071431 0.73199394 0.         0.        ]\n",
      " [0.         0.         0.86617615 0.         0.70807258]\n",
      " [0.         0.96990985 0.83244264 0.         0.        ]\n",
      " [0.         0.         0.         0.         0.        ]\n",
      " [0.         0.         0.         0.         0.        ]\n",
      " [0.78517596 0.         0.         0.         0.        ]\n",
      " [0.         0.         0.         0.94888554 0.96563203]\n",
      " [0.80839735 0.         0.         0.         0.        ]\n",
      " [0.         0.         0.         0.9093204  0.        ]\n",
      " [0.         0.         0.         0.         0.        ]]\n"
     ]
    }
   ],
   "source": [
    "print(X)"
   ]
  },
  {
   "cell_type": "code",
   "execution_count": 4,
   "id": "16c1f34d-b3e8-40a8-840d-8b05c927ea6b",
   "metadata": {},
   "outputs": [
    {
     "name": "stdout",
     "output_type": "stream",
     "text": [
      "  (0, 1)\t0.9507143064099162\n",
      "  (0, 2)\t0.7319939418114051\n",
      "  (1, 2)\t0.8661761457749352\n",
      "  (1, 4)\t0.7080725777960455\n",
      "  (2, 1)\t0.9699098521619943\n",
      "  (2, 2)\t0.8324426408004217\n",
      "  (5, 0)\t0.7851759613930136\n",
      "  (6, 3)\t0.9488855372533332\n",
      "  (6, 4)\t0.9656320330745594\n",
      "  (7, 0)\t0.8083973481164611\n",
      "  (8, 3)\t0.9093204020787821\n"
     ]
    }
   ],
   "source": [
    "X_csr = sparse.csr_matrix(X)\n",
    "print(X_csr)"
   ]
  },
  {
   "cell_type": "code",
   "execution_count": 5,
   "id": "ef4859a1-48d7-440d-993b-0ad934857825",
   "metadata": {},
   "outputs": [
    {
     "name": "stdout",
     "output_type": "stream",
     "text": [
      "[[0.         0.95071431 0.73199394 0.         0.        ]\n",
      " [0.         0.         0.86617615 0.         0.70807258]\n",
      " [0.         0.96990985 0.83244264 0.         0.        ]\n",
      " [0.         0.         0.         0.         0.        ]\n",
      " [0.         0.         0.         0.         0.        ]\n",
      " [0.78517596 0.         0.         0.         0.        ]\n",
      " [0.         0.         0.         0.94888554 0.96563203]\n",
      " [0.80839735 0.         0.         0.         0.        ]\n",
      " [0.         0.         0.         0.9093204  0.        ]\n",
      " [0.         0.         0.         0.         0.        ]]\n"
     ]
    }
   ],
   "source": [
    "print(X_csr.toarray())"
   ]
  },
  {
   "cell_type": "code",
   "execution_count": 6,
   "id": "e4e7a136-f934-4c74-a065-45131e35e747",
   "metadata": {},
   "outputs": [
    {
     "name": "stdout",
     "output_type": "stream",
     "text": [
      "5\n"
     ]
    }
   ],
   "source": [
    "print(X_csr.shape[1])"
   ]
  },
  {
   "cell_type": "code",
   "execution_count": 7,
   "id": "a5d0ff5e-0ba5-473c-a5d5-7d9bda02c850",
   "metadata": {},
   "outputs": [
    {
     "data": {
      "text/plain": [
       "array([0.96958463, 0.77513282, 0.93949894, 0.89482735, 0.59789998])"
      ]
     },
     "execution_count": 7,
     "metadata": {},
     "output_type": "execute_result"
    }
   ],
   "source": [
    "y = np.random.random(5)\n",
    "y"
   ]
  },
  {
   "cell_type": "code",
   "execution_count": 8,
   "id": "9bc1a733-6087-48b3-941b-97acfae8b657",
   "metadata": {},
   "outputs": [
    {
     "name": "stdout",
     "output_type": "stream",
     "text": [
      "  (0, 1)\t0.9507143064099162\n",
      "  (0, 2)\t0.7319939418114051\n",
      "  (1, 2)\t0.8661761457749352\n",
      "  (1, 4)\t0.7080725777960455\n",
      "  (2, 1)\t0.9699098521619943\n",
      "  (2, 2)\t0.8324426408004217\n",
      "  (5, 0)\t0.7851759613930136\n",
      "  (6, 3)\t0.9488855372533332\n",
      "  (6, 4)\t0.9656320330745594\n",
      "  (7, 0)\t0.8083973481164611\n",
      "  (8, 3)\t0.9093204020787821\n"
     ]
    }
   ],
   "source": [
    "print(X_csr)"
   ]
  },
  {
   "cell_type": "code",
   "execution_count": 9,
   "id": "f64a7487-b08f-40f3-acba-907c15c8dae4",
   "metadata": {},
   "outputs": [
    {
     "data": {
      "text/plain": [
       "array([1.4246374 , 1.23712815, 1.53388794, 0.        , 0.        ,\n",
       "       0.76129454, 1.4264401 , 0.78380964, 0.81368477, 0.        ])"
      ]
     },
     "execution_count": 9,
     "metadata": {},
     "output_type": "execute_result"
    }
   ],
   "source": [
    "z1 = X_csr.dot(y)\n",
    "z1"
   ]
  },
  {
   "cell_type": "code",
   "execution_count": 10,
   "id": "fbaeabf1-f15b-4917-b61e-c37f96b98f98",
   "metadata": {},
   "outputs": [
    {
     "data": {
      "text/plain": [
       "array([[0.        , 0.95071431, 0.73199394, 0.        , 0.        ],\n",
       "       [0.        , 0.        , 0.86617615, 0.        , 0.70807258],\n",
       "       [0.        , 0.96990985, 0.83244264, 0.        , 0.        ],\n",
       "       [0.        , 0.        , 0.        , 0.        , 0.        ],\n",
       "       [0.        , 0.        , 0.        , 0.        , 0.        ],\n",
       "       [0.78517596, 0.        , 0.        , 0.        , 0.        ],\n",
       "       [0.        , 0.        , 0.        , 0.94888554, 0.96563203],\n",
       "       [0.80839735, 0.        , 0.        , 0.        , 0.        ],\n",
       "       [0.        , 0.        , 0.        , 0.9093204 , 0.        ],\n",
       "       [0.        , 0.        , 0.        , 0.        , 0.        ]])"
      ]
     },
     "execution_count": 10,
     "metadata": {},
     "output_type": "execute_result"
    }
   ],
   "source": [
    "X"
   ]
  },
  {
   "cell_type": "code",
   "execution_count": 11,
   "id": "0ff38615-82e5-4ccb-a213-f565da522b4b",
   "metadata": {},
   "outputs": [
    {
     "data": {
      "text/plain": [
       "array([1.4246374 , 1.23712815, 1.53388794, 0.        , 0.        ,\n",
       "       0.76129454, 1.4264401 , 0.78380964, 0.81368477, 0.        ])"
      ]
     },
     "execution_count": 11,
     "metadata": {},
     "output_type": "execute_result"
    }
   ],
   "source": [
    "z2 = X.dot(y)\n",
    "z2"
   ]
  },
  {
   "cell_type": "code",
   "execution_count": 12,
   "id": "b92e1ced-3ce6-4c69-83a4-0176a809dd9d",
   "metadata": {},
   "outputs": [
    {
     "data": {
      "text/plain": [
       "True"
      ]
     },
     "execution_count": 12,
     "metadata": {},
     "output_type": "execute_result"
    }
   ],
   "source": [
    "example_1 = np.arange(0, 5)\n",
    "example_2 = np.arange(0, 5)\n",
    "example_3 = np.arange(0+10, 5+10)\n",
    "\n",
    "np.allclose(example_1, example_2)"
   ]
  },
  {
   "cell_type": "code",
   "execution_count": 13,
   "id": "cc7a0e64-5f1e-49ea-aa29-7780d84a62f0",
   "metadata": {},
   "outputs": [
    {
     "data": {
      "text/plain": [
       "False"
      ]
     },
     "execution_count": 13,
     "metadata": {},
     "output_type": "execute_result"
    }
   ],
   "source": [
    "np.allclose(example_2, example_3)"
   ]
  },
  {
   "cell_type": "code",
   "execution_count": 20,
   "id": "2ddacc2b-cd6f-4b01-bd0c-f2feda9698ca",
   "metadata": {},
   "outputs": [
    {
     "data": {
      "text/plain": [
       "array([0, 1, 2, 3, 4])"
      ]
     },
     "execution_count": 20,
     "metadata": {},
     "output_type": "execute_result"
    }
   ],
   "source": [
    "array_1 = np.arange(0, 5)\n",
    "array_1"
   ]
  },
  {
   "cell_type": "code",
   "execution_count": 21,
   "id": "4a2f4f4a-86c2-48cc-a300-7af11907e188",
   "metadata": {},
   "outputs": [
    {
     "data": {
      "text/plain": [
       "array([5, 6, 7, 8, 9])"
      ]
     },
     "execution_count": 21,
     "metadata": {},
     "output_type": "execute_result"
    }
   ],
   "source": [
    "array_2 = np.arange(0+5, 5+5)\n",
    "array_2"
   ]
  },
  {
   "cell_type": "code",
   "execution_count": 23,
   "id": "9a5b59bb-2762-466b-b18c-96bd14cac17c",
   "metadata": {},
   "outputs": [
    {
     "data": {
      "text/plain": [
       "80"
      ]
     },
     "execution_count": 23,
     "metadata": {},
     "output_type": "execute_result"
    }
   ],
   "source": [
    "dot_product = array_1.dot(array_2)\n",
    "dot_product"
   ]
  },
  {
   "cell_type": "code",
   "execution_count": 25,
   "id": "e12caff3-82cc-4702-9c6c-ae3da8081a3d",
   "metadata": {},
   "outputs": [
    {
     "name": "stdout",
     "output_type": "stream",
     "text": [
      "\n"
     ]
    }
   ],
   "source": [
    "print(sparse.lil_matrix((5,5)))"
   ]
  },
  {
   "cell_type": "code",
   "execution_count": 26,
   "id": "426fff93-5805-422d-9065-5ee75b4c5dda",
   "metadata": {},
   "outputs": [
    {
     "name": "stdout",
     "output_type": "stream",
     "text": [
      "Maximum element: 15\n"
     ]
    }
   ],
   "source": [
    "def find_max_element(numbers):\n",
    "    max_element = float(\"-inf\")  # Initialize to negative infinity\n",
    "    for num in numbers:\n",
    "        if num > max_element:\n",
    "            max_element = num\n",
    "    return max_element\n",
    "\n",
    "# Example usage:\n",
    "numbers_list = [5, 9, 2, 15, 7]\n",
    "max_num = find_max_element(numbers_list)\n",
    "print(\"Maximum element:\", max_num) "
   ]
  },
  {
   "cell_type": "code",
   "execution_count": 29,
   "id": "76da9c72-040a-40a4-9777-6c60a8e076da",
   "metadata": {},
   "outputs": [],
   "source": [
    "def find_max_element_2(numbers):\n",
    "    max_element = 0\n",
    "    for num in numbers:\n",
    "        if num > max_element:\n",
    "            max_element = num\n",
    "    return max_element"
   ]
  },
  {
   "cell_type": "code",
   "execution_count": 30,
   "id": "2862887a-d8d4-462f-8fbd-e5df28fac940",
   "metadata": {},
   "outputs": [],
   "source": [
    "numbers_list = [0, 2, 3, 64, 23, 3, 42, 5, 9]"
   ]
  },
  {
   "cell_type": "code",
   "execution_count": 31,
   "id": "e2137b7d-fd27-48ea-bd3f-906e935228c8",
   "metadata": {},
   "outputs": [
    {
     "data": {
      "text/plain": [
       "64"
      ]
     },
     "execution_count": 31,
     "metadata": {},
     "output_type": "execute_result"
    }
   ],
   "source": [
    "max_num_2 = find_max_element_2(numbers_list)\n",
    "max_num_2"
   ]
  },
  {
   "cell_type": "code",
   "execution_count": 64,
   "id": "843f6363-a12c-4e7c-ab42-2a1119e7c021",
   "metadata": {},
   "outputs": [],
   "source": [
    "def min_element(num_list):\n",
    "    lowest_value = float('inf')\n",
    "    \n",
    "    for n in num_list:\n",
    "        if n < lowest_value:\n",
    "            lowest_value = n\n",
    "    return lowest_value"
   ]
  },
  {
   "cell_type": "code",
   "execution_count": 65,
   "id": "af0d866b-8d99-4b2a-b947-6b7d9d366344",
   "metadata": {},
   "outputs": [],
   "source": [
    "numbers_list = [0.05, 12, 42, 12, 0.001, 0.312, -0.3234, -0.031, -120, 231, 21]"
   ]
  },
  {
   "cell_type": "code",
   "execution_count": 66,
   "id": "c9b796d1-41b5-4ba3-b3f0-bafc3e3034c0",
   "metadata": {},
   "outputs": [
    {
     "data": {
      "text/plain": [
       "-120"
      ]
     },
     "execution_count": 66,
     "metadata": {},
     "output_type": "execute_result"
    }
   ],
   "source": [
    "min_element(numbers_list)"
   ]
  },
  {
   "cell_type": "code",
   "execution_count": 75,
   "id": "5e971a4b-6e5b-44a0-a24d-6c704b41120e",
   "metadata": {},
   "outputs": [
    {
     "name": "stdout",
     "output_type": "stream",
     "text": [
      "[[0 1]\n",
      " [0 2]\n",
      " [3 0]\n",
      " [0 1]\n",
      " [1 2]\n",
      " [3 1]\n",
      " [0 3]\n",
      " [3 0]\n",
      " [1 0]\n",
      " [3 4]\n",
      " [4 2]\n",
      " [0 0]\n",
      " [2 2]\n",
      " [2 3]\n",
      " [0 3]]\n"
     ]
    }
   ],
   "source": [
    "a193628 = np.random.randint(0, 5, (15, 2))\n",
    "print(a193628)"
   ]
  },
  {
   "cell_type": "code",
   "execution_count": 84,
   "id": "6ae21081-4df9-4115-8d96-91da6dca3c94",
   "metadata": {},
   "outputs": [
    {
     "data": {
      "text/plain": [
       "0"
      ]
     },
     "execution_count": 84,
     "metadata": {},
     "output_type": "execute_result"
    }
   ],
   "source": [
    "a193628[1, 0]"
   ]
  },
  {
   "cell_type": "code",
   "execution_count": 82,
   "id": "bf0ae416-b57b-40db-b89d-b793d645c186",
   "metadata": {},
   "outputs": [
    {
     "data": {
      "text/plain": [
       "<5x5 sparse matrix of type '<class 'numpy.float64'>'\n",
       "\twith 0 stored elements in List of Lists format>"
      ]
     },
     "execution_count": 82,
     "metadata": {},
     "output_type": "execute_result"
    }
   ],
   "source": [
    "X_lil = sparse.lil_matrix((5, 5))\n",
    "X_lil"
   ]
  },
  {
   "cell_type": "code",
   "execution_count": 88,
   "id": "4918c03c-2ebd-4d3f-875e-873734200fc6",
   "metadata": {},
   "outputs": [
    {
     "name": "stdout",
     "output_type": "stream",
     "text": [
      "[[0. 1. 2. 3. 0.]\n",
      " [1. 0. 3. 0. 0.]\n",
      " [0. 0. 4. 5. 0.]\n",
      " [3. 4. 0. 0. 7.]\n",
      " [0. 0. 6. 0. 0.]] \n",
      "\n",
      "  (0, 1)\t1.0\n",
      "  (0, 2)\t2.0\n",
      "  (0, 3)\t3.0\n",
      "  (1, 0)\t1.0\n",
      "  (1, 2)\t3.0\n",
      "  (2, 2)\t4.0\n",
      "  (2, 3)\t5.0\n",
      "  (3, 0)\t3.0\n",
      "  (3, 1)\t4.0\n",
      "  (3, 4)\t7.0\n",
      "  (4, 2)\t6.0\n"
     ]
    }
   ],
   "source": [
    "for i, j in a193628:\n",
    "    X_lil[i, j] = i + j\n",
    "    \n",
    "print(X_lil.toarray(), '\\n')\n",
    "print(X_lil)"
   ]
  },
  {
   "cell_type": "code",
   "execution_count": 89,
   "id": "a06d3b44-2fca-4c15-ab17-bbe10cd7a26f",
   "metadata": {},
   "outputs": [
    {
     "name": "stdout",
     "output_type": "stream",
     "text": [
      "0 1\n",
      "0 2\n",
      "3 0\n",
      "0 1\n",
      "1 2\n",
      "3 1\n",
      "0 3\n",
      "3 0\n",
      "1 0\n",
      "3 4\n",
      "4 2\n",
      "0 0\n",
      "2 2\n",
      "2 3\n",
      "0 3\n"
     ]
    }
   ],
   "source": [
    "for i, j in a193628:\n",
    "    print(i, j)"
   ]
  },
  {
   "cell_type": "code",
   "execution_count": 90,
   "id": "7afb406a-9aba-4287-94ff-c85381584422",
   "metadata": {},
   "outputs": [
    {
     "data": {
      "text/plain": [
       "array([[0, 1],\n",
       "       [0, 2],\n",
       "       [3, 0],\n",
       "       [0, 1],\n",
       "       [1, 2],\n",
       "       [3, 1],\n",
       "       [0, 3],\n",
       "       [3, 0],\n",
       "       [1, 0],\n",
       "       [3, 4],\n",
       "       [4, 2],\n",
       "       [0, 0],\n",
       "       [2, 2],\n",
       "       [2, 3],\n",
       "       [0, 3]])"
      ]
     },
     "execution_count": 90,
     "metadata": {},
     "output_type": "execute_result"
    }
   ],
   "source": [
    "a193628"
   ]
  },
  {
   "cell_type": "code",
   "execution_count": 92,
   "id": "11dca538-9891-4a55-a54a-04fa921c2b0b",
   "metadata": {},
   "outputs": [
    {
     "name": "stdout",
     "output_type": "stream",
     "text": [
      "[[1 0]\n",
      " [0 0]\n",
      " [0 1]\n",
      " [1 1]\n",
      " [1 1]]\n"
     ]
    }
   ],
   "source": [
    "a200528 = np.random.randint(0, 2, (5, 2))\n",
    "print(a200528)"
   ]
  },
  {
   "cell_type": "code",
   "execution_count": 94,
   "id": "b53c3680-a60f-4d4a-b129-f4ec7d00fd80",
   "metadata": {},
   "outputs": [
    {
     "name": "stdout",
     "output_type": "stream",
     "text": [
      "  (0, 1)\t1.0\n",
      "  (1, 0)\t1.0\n",
      "  (1, 1)\t2.0 \n",
      "\n",
      "[[0. 1. 0.]\n",
      " [1. 2. 0.]\n",
      " [0. 0. 0.]]\n"
     ]
    }
   ],
   "source": [
    "X_lil_2 = sparse.lil_matrix((3, 3))\n",
    "\n",
    "for r, c in a200528:\n",
    "    X_lil_2[r, c] = r + c\n",
    "    \n",
    "print(X_lil_2, '\\n')\n",
    "print(X_lil_2.toarray())"
   ]
  },
  {
   "cell_type": "code",
   "execution_count": 100,
   "id": "0c12bd1c-a1f8-4df8-807d-847e2fed73bb",
   "metadata": {},
   "outputs": [
    {
     "data": {
      "text/plain": [
       "<3x3 sparse matrix of type '<class 'numpy.float64'>'\n",
       "\twith 3 stored elements in List of Lists format>"
      ]
     },
     "execution_count": 100,
     "metadata": {},
     "output_type": "execute_result"
    }
   ],
   "source": [
    "X_lil_2"
   ]
  },
  {
   "cell_type": "code",
   "execution_count": 96,
   "id": "4396729d-79ae-42f3-8126-390ee7abef9e",
   "metadata": {},
   "outputs": [
    {
     "data": {
      "text/plain": [
       "<3x3 sparse matrix of type '<class 'numpy.float64'>'\n",
       "\twith 3 stored elements in Compressed Sparse Row format>"
      ]
     },
     "execution_count": 96,
     "metadata": {},
     "output_type": "execute_result"
    }
   ],
   "source": [
    "X_csr = X_lil_2.tocsr()\n",
    "X_csr"
   ]
  },
  {
   "cell_type": "code",
   "execution_count": 98,
   "id": "a377dbd3-f1d1-4f22-bea3-85dd5a10f005",
   "metadata": {},
   "outputs": [
    {
     "name": "stdout",
     "output_type": "stream",
     "text": [
      "  (0, 1)\t1.0\n",
      "  (1, 0)\t1.0\n",
      "  (1, 1)\t2.0\n"
     ]
    }
   ],
   "source": [
    "print(X_csr)"
   ]
  },
  {
   "cell_type": "code",
   "execution_count": 97,
   "id": "68183aa4-77bc-4af6-8982-80d29c9750f5",
   "metadata": {},
   "outputs": [
    {
     "data": {
      "text/plain": [
       "<3x3 sparse matrix of type '<class 'numpy.float64'>'\n",
       "\twith 3 stored elements in List of Lists format>"
      ]
     },
     "execution_count": 97,
     "metadata": {},
     "output_type": "execute_result"
    }
   ],
   "source": [
    "X_lil_2"
   ]
  },
  {
   "cell_type": "code",
   "execution_count": 99,
   "id": "a98146f6-c99f-4c84-83db-b4ecf679f492",
   "metadata": {},
   "outputs": [
    {
     "name": "stdout",
     "output_type": "stream",
     "text": [
      "  (0, 1)\t1.0\n",
      "  (1, 0)\t1.0\n",
      "  (1, 1)\t2.0\n"
     ]
    }
   ],
   "source": [
    "print(X_lil_2)"
   ]
  },
  {
   "cell_type": "code",
   "execution_count": 101,
   "id": "10e58e54-9bac-45f7-90a7-583a0cf42b02",
   "metadata": {},
   "outputs": [
    {
     "data": {
      "text/plain": [
       "<3x3 sparse matrix of type '<class 'numpy.float64'>'\n",
       "\twith 3 stored elements in Compressed Sparse Column format>"
      ]
     },
     "execution_count": 101,
     "metadata": {},
     "output_type": "execute_result"
    }
   ],
   "source": [
    "X_csc = X_lil_2.tocsc()\n",
    "X_csc"
   ]
  },
  {
   "cell_type": "code",
   "execution_count": 102,
   "id": "4c06ebb1-d520-4b5d-bc3c-75658ffba902",
   "metadata": {},
   "outputs": [
    {
     "name": "stdout",
     "output_type": "stream",
     "text": [
      "  (1, 0)\t1.0\n",
      "  (0, 1)\t1.0\n",
      "  (1, 1)\t2.0\n"
     ]
    }
   ],
   "source": [
    "print(X_csc)"
   ]
  }
 ],
 "metadata": {
  "kernelspec": {
   "display_name": "Python 3 (ipykernel)",
   "language": "python",
   "name": "python3"
  },
  "language_info": {
   "codemirror_mode": {
    "name": "ipython",
    "version": 3
   },
   "file_extension": ".py",
   "mimetype": "text/x-python",
   "name": "python",
   "nbconvert_exporter": "python",
   "pygments_lexer": "ipython3",
   "version": "3.9.13"
  }
 },
 "nbformat": 4,
 "nbformat_minor": 5
}
