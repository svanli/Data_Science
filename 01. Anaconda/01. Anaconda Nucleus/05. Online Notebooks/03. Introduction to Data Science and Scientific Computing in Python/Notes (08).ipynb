{
 "cells": [
  {
   "cell_type": "markdown",
   "id": "0ffc4875-66eb-4282-946d-e0a763c0be1c",
   "metadata": {},
   "source": [
    "# Notes (08)"
   ]
  },
  {
   "cell_type": "markdown",
   "id": "a6874916-3284-4939-a03b-bd40b1450ef0",
   "metadata": {},
   "source": [
    "# 08. Bokeh: quick (and partial) summary"
   ]
  },
  {
   "cell_type": "code",
   "execution_count": 9,
   "id": "a94923c3-7649-4214-8cb4-07d74ff284a3",
   "metadata": {},
   "outputs": [],
   "source": [
    "x = [0.1, 0.5, 1.0, 1.5, 2.0, 2.5, 3.0]\n",
    "y0 = [i**2 for i in x]\n",
    "y1 = [10**i for i in x]\n",
    "y2 = [10**(i**2) for i in x]"
   ]
  },
  {
   "cell_type": "code",
   "execution_count": 10,
   "id": "fa67f53d-92af-4664-9cb9-bcc5a4f0268d",
   "metadata": {},
   "outputs": [
    {
     "data": {
      "text/plain": [
       "[0.010000000000000002, 0.25, 1.0, 2.25, 4.0, 6.25, 9.0]"
      ]
     },
     "execution_count": 10,
     "metadata": {},
     "output_type": "execute_result"
    }
   ],
   "source": [
    "y0"
   ]
  },
  {
   "cell_type": "code",
   "execution_count": 11,
   "id": "17848dee-ad7f-4735-836b-2a5e705d6fdd",
   "metadata": {},
   "outputs": [
    {
     "data": {
      "text/plain": [
       "[1.2589254117941673,\n",
       " 3.1622776601683795,\n",
       " 10.0,\n",
       " 31.622776601683793,\n",
       " 100.0,\n",
       " 316.22776601683796,\n",
       " 1000.0]"
      ]
     },
     "execution_count": 11,
     "metadata": {},
     "output_type": "execute_result"
    }
   ],
   "source": [
    "y1"
   ]
  },
  {
   "cell_type": "code",
   "execution_count": 12,
   "id": "a63b8a00-532d-4466-b518-64532bd50a7e",
   "metadata": {},
   "outputs": [
    {
     "data": {
      "text/plain": [
       "[1.023292992280754,\n",
       " 1.7782794100389228,\n",
       " 10.0,\n",
       " 177.82794100389228,\n",
       " 10000.0,\n",
       " 1778279.410038923,\n",
       " 1000000000.0]"
      ]
     },
     "execution_count": 12,
     "metadata": {},
     "output_type": "execute_result"
    }
   ],
   "source": [
    "y2"
   ]
  },
  {
   "cell_type": "code",
   "execution_count": 13,
   "id": "0fb0148c-7e9d-48fd-9f82-cd1c2ef0fb16",
   "metadata": {},
   "outputs": [
    {
     "data": {
      "text/plain": [
       "[0, 10]"
      ]
     },
     "execution_count": 13,
     "metadata": {},
     "output_type": "execute_result"
    }
   ],
   "source": [
    "x_range=[0,10]\n",
    "x_range"
   ]
  },
  {
   "cell_type": "code",
   "execution_count": 14,
   "id": "218b28cd-6bd0-4357-8041-a6b82a6aed50",
   "metadata": {},
   "outputs": [],
   "source": [
    "import numpy as np"
   ]
  },
  {
   "cell_type": "code",
   "execution_count": 15,
   "id": "f6253789-2476-453b-a2fa-10b629753049",
   "metadata": {},
   "outputs": [
    {
     "data": {
      "text/plain": [
       "array([81.32460516, 73.03106629, 47.40396578, 56.03518463, 79.74456683,\n",
       "       64.57286431, 56.19258858, 56.77423811, 98.37361463, 58.26730179])"
      ]
     },
     "execution_count": 15,
     "metadata": {},
     "output_type": "execute_result"
    }
   ],
   "source": [
    "N = 10\n",
    "np.random.random(size=N)*100"
   ]
  },
  {
   "cell_type": "code",
   "execution_count": 16,
   "id": "cdb46a68-add4-4ae8-8ca2-8bbca0af645c",
   "metadata": {},
   "outputs": [],
   "source": [
    "import numpy as np\n",
    "\n",
    "from bokeh.plotting import figure, output_file, show\n",
    "\n",
    "# prepare some data\n",
    "N = 50\n",
    "x = np.random.random(size=N) * 100\n",
    "y = np.random.random(size=N) * 100\n",
    "radii = np.random.random(size=N) * 1.5\n",
    "colors = [\n",
    "    \"#%02x%02x%02x\" % (int(r), int(g), 150) for r, g in zip(50+2*x, 30+2*y)\n",
    "]\n",
    "\n",
    "TOOLS=\"crosshair,pan,wheel_zoom,box_zoom,reset,box_select,lasso_select\"\n",
    "\n",
    "# create a new plot with the tools above, and explicit ranges\n",
    "p = figure(tools=TOOLS, x_range=(0,100), y_range=(0,100), width=500, height=500)\n",
    "\n",
    "# add a circle renderer with vectorized colors and sizes\n",
    "p.circle(x,y, radius=radii, fill_alpha=0.6, line_color=None)\n",
    "\n",
    "# show the results\n",
    "show(p)"
   ]
  },
  {
   "cell_type": "code",
   "execution_count": 17,
   "id": "bfa464cf-4c3e-4f69-abe0-751166866432",
   "metadata": {},
   "outputs": [],
   "source": [
    "x = [1, 2, 3, 4, 5]\n",
    "y = [3, 7, 8, 5, 1]\n",
    "\n",
    "p = figure(plot_width=400, plot_height=400)\n",
    "p.circle(x, y, size=20)\n",
    "show(p)"
   ]
  },
  {
   "cell_type": "code",
   "execution_count": 18,
   "id": "5383995c-e853-4790-b839-10248863d152",
   "metadata": {},
   "outputs": [],
   "source": [
    "from bokeh.sampledata.iris import flowers as df\n",
    "from bokeh.models import ColumnDataSource\n",
    "\n",
    "source = ColumnDataSource(df)"
   ]
  },
  {
   "cell_type": "code",
   "execution_count": 19,
   "id": "01fd1225-0805-4efb-802a-93bc94974438",
   "metadata": {},
   "outputs": [
    {
     "data": {
      "text/html": [
       "<div>\n",
       "<style scoped>\n",
       "    .dataframe tbody tr th:only-of-type {\n",
       "        vertical-align: middle;\n",
       "    }\n",
       "\n",
       "    .dataframe tbody tr th {\n",
       "        vertical-align: top;\n",
       "    }\n",
       "\n",
       "    .dataframe thead th {\n",
       "        text-align: right;\n",
       "    }\n",
       "</style>\n",
       "<table border=\"1\" class=\"dataframe\">\n",
       "  <thead>\n",
       "    <tr style=\"text-align: right;\">\n",
       "      <th></th>\n",
       "      <th>sepal_length</th>\n",
       "      <th>sepal_width</th>\n",
       "      <th>petal_length</th>\n",
       "      <th>petal_width</th>\n",
       "      <th>species</th>\n",
       "    </tr>\n",
       "  </thead>\n",
       "  <tbody>\n",
       "    <tr>\n",
       "      <th>0</th>\n",
       "      <td>5.1</td>\n",
       "      <td>3.5</td>\n",
       "      <td>1.4</td>\n",
       "      <td>0.2</td>\n",
       "      <td>setosa</td>\n",
       "    </tr>\n",
       "    <tr>\n",
       "      <th>1</th>\n",
       "      <td>4.9</td>\n",
       "      <td>3.0</td>\n",
       "      <td>1.4</td>\n",
       "      <td>0.2</td>\n",
       "      <td>setosa</td>\n",
       "    </tr>\n",
       "    <tr>\n",
       "      <th>2</th>\n",
       "      <td>4.7</td>\n",
       "      <td>3.2</td>\n",
       "      <td>1.3</td>\n",
       "      <td>0.2</td>\n",
       "      <td>setosa</td>\n",
       "    </tr>\n",
       "    <tr>\n",
       "      <th>3</th>\n",
       "      <td>4.6</td>\n",
       "      <td>3.1</td>\n",
       "      <td>1.5</td>\n",
       "      <td>0.2</td>\n",
       "      <td>setosa</td>\n",
       "    </tr>\n",
       "    <tr>\n",
       "      <th>4</th>\n",
       "      <td>5.0</td>\n",
       "      <td>3.6</td>\n",
       "      <td>1.4</td>\n",
       "      <td>0.2</td>\n",
       "      <td>setosa</td>\n",
       "    </tr>\n",
       "    <tr>\n",
       "      <th>...</th>\n",
       "      <td>...</td>\n",
       "      <td>...</td>\n",
       "      <td>...</td>\n",
       "      <td>...</td>\n",
       "      <td>...</td>\n",
       "    </tr>\n",
       "    <tr>\n",
       "      <th>145</th>\n",
       "      <td>6.7</td>\n",
       "      <td>3.0</td>\n",
       "      <td>5.2</td>\n",
       "      <td>2.3</td>\n",
       "      <td>virginica</td>\n",
       "    </tr>\n",
       "    <tr>\n",
       "      <th>146</th>\n",
       "      <td>6.3</td>\n",
       "      <td>2.5</td>\n",
       "      <td>5.0</td>\n",
       "      <td>1.9</td>\n",
       "      <td>virginica</td>\n",
       "    </tr>\n",
       "    <tr>\n",
       "      <th>147</th>\n",
       "      <td>6.5</td>\n",
       "      <td>3.0</td>\n",
       "      <td>5.2</td>\n",
       "      <td>2.0</td>\n",
       "      <td>virginica</td>\n",
       "    </tr>\n",
       "    <tr>\n",
       "      <th>148</th>\n",
       "      <td>6.2</td>\n",
       "      <td>3.4</td>\n",
       "      <td>5.4</td>\n",
       "      <td>2.3</td>\n",
       "      <td>virginica</td>\n",
       "    </tr>\n",
       "    <tr>\n",
       "      <th>149</th>\n",
       "      <td>5.9</td>\n",
       "      <td>3.0</td>\n",
       "      <td>5.1</td>\n",
       "      <td>1.8</td>\n",
       "      <td>virginica</td>\n",
       "    </tr>\n",
       "  </tbody>\n",
       "</table>\n",
       "<p>150 rows × 5 columns</p>\n",
       "</div>"
      ],
      "text/plain": [
       "     sepal_length  sepal_width  petal_length  petal_width    species\n",
       "0             5.1          3.5           1.4          0.2     setosa\n",
       "1             4.9          3.0           1.4          0.2     setosa\n",
       "2             4.7          3.2           1.3          0.2     setosa\n",
       "3             4.6          3.1           1.5          0.2     setosa\n",
       "4             5.0          3.6           1.4          0.2     setosa\n",
       "..            ...          ...           ...          ...        ...\n",
       "145           6.7          3.0           5.2          2.3  virginica\n",
       "146           6.3          2.5           5.0          1.9  virginica\n",
       "147           6.5          3.0           5.2          2.0  virginica\n",
       "148           6.2          3.4           5.4          2.3  virginica\n",
       "149           5.9          3.0           5.1          1.8  virginica\n",
       "\n",
       "[150 rows x 5 columns]"
      ]
     },
     "execution_count": 19,
     "metadata": {},
     "output_type": "execute_result"
    }
   ],
   "source": [
    "df"
   ]
  },
  {
   "cell_type": "code",
   "execution_count": 20,
   "id": "f0a5a3f4-0fa4-42f0-a836-138a9b9cb652",
   "metadata": {},
   "outputs": [],
   "source": [
    "from bokeh.sampledata.airports import data as airports"
   ]
  },
  {
   "cell_type": "code",
   "execution_count": 21,
   "id": "70913db9-3d74-4add-82a3-cae9a2391df9",
   "metadata": {},
   "outputs": [
    {
     "data": {
      "text/html": [
       "<div>\n",
       "<style scoped>\n",
       "    .dataframe tbody tr th:only-of-type {\n",
       "        vertical-align: middle;\n",
       "    }\n",
       "\n",
       "    .dataframe tbody tr th {\n",
       "        vertical-align: top;\n",
       "    }\n",
       "\n",
       "    .dataframe thead th {\n",
       "        text-align: right;\n",
       "    }\n",
       "</style>\n",
       "<table border=\"1\" class=\"dataframe\">\n",
       "  <thead>\n",
       "    <tr style=\"text-align: right;\">\n",
       "      <th></th>\n",
       "      <th>name</th>\n",
       "      <th>elevation</th>\n",
       "      <th>x</th>\n",
       "      <th>y</th>\n",
       "    </tr>\n",
       "  </thead>\n",
       "  <tbody>\n",
       "    <tr>\n",
       "      <th>0</th>\n",
       "      <td>CHINLE MUNICIPAL AIRPORT</td>\n",
       "      <td>1691</td>\n",
       "      <td>-1.219788e+07</td>\n",
       "      <td>4.315889e+06</td>\n",
       "    </tr>\n",
       "    <tr>\n",
       "      <th>1</th>\n",
       "      <td>ELY AIRPORT /YELLAND FIELD/ AIRPORT</td>\n",
       "      <td>1908</td>\n",
       "      <td>-1.278414e+07</td>\n",
       "      <td>4.764692e+06</td>\n",
       "    </tr>\n",
       "    <tr>\n",
       "      <th>2</th>\n",
       "      <td>TRUCKEE-TAHOE AIRPORT</td>\n",
       "      <td>1798</td>\n",
       "      <td>-1.337387e+07</td>\n",
       "      <td>4.767619e+06</td>\n",
       "    </tr>\n",
       "    <tr>\n",
       "      <th>3</th>\n",
       "      <td>GARFIELD COUNTY REGIONAL AIRPORT</td>\n",
       "      <td>1691</td>\n",
       "      <td>-1.199211e+07</td>\n",
       "      <td>4.797343e+06</td>\n",
       "    </tr>\n",
       "    <tr>\n",
       "      <th>4</th>\n",
       "      <td>SANTA FE MUNICIPAL AIRPORT</td>\n",
       "      <td>1935</td>\n",
       "      <td>-1.180982e+07</td>\n",
       "      <td>4.248063e+06</td>\n",
       "    </tr>\n",
       "  </tbody>\n",
       "</table>\n",
       "</div>"
      ],
      "text/plain": [
       "                                  name  elevation             x             y\n",
       "0             CHINLE MUNICIPAL AIRPORT       1691 -1.219788e+07  4.315889e+06\n",
       "1  ELY AIRPORT /YELLAND FIELD/ AIRPORT       1908 -1.278414e+07  4.764692e+06\n",
       "2                TRUCKEE-TAHOE AIRPORT       1798 -1.337387e+07  4.767619e+06\n",
       "3     GARFIELD COUNTY REGIONAL AIRPORT       1691 -1.199211e+07  4.797343e+06\n",
       "4           SANTA FE MUNICIPAL AIRPORT       1935 -1.180982e+07  4.248063e+06"
      ]
     },
     "execution_count": 21,
     "metadata": {},
     "output_type": "execute_result"
    }
   ],
   "source": [
    "airports.head(5)"
   ]
  },
  {
   "cell_type": "code",
   "execution_count": 22,
   "id": "6b1394f4-e97f-408a-8005-b33e7b440a27",
   "metadata": {},
   "outputs": [],
   "source": [
    "from bokeh.sampledata.stocks import AAPL"
   ]
  },
  {
   "cell_type": "code",
   "execution_count": 23,
   "id": "7dd86875-ab0b-43a0-ae3f-e98e1d879c13",
   "metadata": {},
   "outputs": [],
   "source": [
    "import pandas as pd"
   ]
  },
  {
   "cell_type": "code",
   "execution_count": 24,
   "id": "b05d2230-865e-4c97-8cb7-74a4d767928b",
   "metadata": {},
   "outputs": [],
   "source": [
    "AAPL_df = pd.DataFrame(AAPL)"
   ]
  },
  {
   "cell_type": "code",
   "execution_count": 25,
   "id": "eae73184-64a5-4511-90ef-24fe67c294c3",
   "metadata": {},
   "outputs": [
    {
     "data": {
      "text/html": [
       "<div>\n",
       "<style scoped>\n",
       "    .dataframe tbody tr th:only-of-type {\n",
       "        vertical-align: middle;\n",
       "    }\n",
       "\n",
       "    .dataframe tbody tr th {\n",
       "        vertical-align: top;\n",
       "    }\n",
       "\n",
       "    .dataframe thead th {\n",
       "        text-align: right;\n",
       "    }\n",
       "</style>\n",
       "<table border=\"1\" class=\"dataframe\">\n",
       "  <thead>\n",
       "    <tr style=\"text-align: right;\">\n",
       "      <th></th>\n",
       "      <th>date</th>\n",
       "      <th>open</th>\n",
       "      <th>high</th>\n",
       "      <th>low</th>\n",
       "      <th>close</th>\n",
       "      <th>volume</th>\n",
       "      <th>adj_close</th>\n",
       "    </tr>\n",
       "  </thead>\n",
       "  <tbody>\n",
       "    <tr>\n",
       "      <th>0</th>\n",
       "      <td>2000-03-01</td>\n",
       "      <td>118.56</td>\n",
       "      <td>132.06</td>\n",
       "      <td>118.50</td>\n",
       "      <td>130.31</td>\n",
       "      <td>38478000</td>\n",
       "      <td>31.68</td>\n",
       "    </tr>\n",
       "    <tr>\n",
       "      <th>1</th>\n",
       "      <td>2000-03-02</td>\n",
       "      <td>127.00</td>\n",
       "      <td>127.94</td>\n",
       "      <td>120.69</td>\n",
       "      <td>122.00</td>\n",
       "      <td>11136800</td>\n",
       "      <td>29.66</td>\n",
       "    </tr>\n",
       "    <tr>\n",
       "      <th>2</th>\n",
       "      <td>2000-03-03</td>\n",
       "      <td>124.87</td>\n",
       "      <td>128.23</td>\n",
       "      <td>120.00</td>\n",
       "      <td>128.00</td>\n",
       "      <td>11565200</td>\n",
       "      <td>31.12</td>\n",
       "    </tr>\n",
       "    <tr>\n",
       "      <th>3</th>\n",
       "      <td>2000-03-06</td>\n",
       "      <td>126.00</td>\n",
       "      <td>129.13</td>\n",
       "      <td>125.00</td>\n",
       "      <td>125.69</td>\n",
       "      <td>7520000</td>\n",
       "      <td>30.56</td>\n",
       "    </tr>\n",
       "    <tr>\n",
       "      <th>4</th>\n",
       "      <td>2000-03-07</td>\n",
       "      <td>126.44</td>\n",
       "      <td>127.44</td>\n",
       "      <td>121.12</td>\n",
       "      <td>122.87</td>\n",
       "      <td>9767600</td>\n",
       "      <td>29.87</td>\n",
       "    </tr>\n",
       "    <tr>\n",
       "      <th>5</th>\n",
       "      <td>2000-03-08</td>\n",
       "      <td>122.87</td>\n",
       "      <td>123.94</td>\n",
       "      <td>118.56</td>\n",
       "      <td>122.00</td>\n",
       "      <td>9690800</td>\n",
       "      <td>29.66</td>\n",
       "    </tr>\n",
       "    <tr>\n",
       "      <th>6</th>\n",
       "      <td>2000-03-09</td>\n",
       "      <td>120.87</td>\n",
       "      <td>125.00</td>\n",
       "      <td>118.25</td>\n",
       "      <td>122.25</td>\n",
       "      <td>9884400</td>\n",
       "      <td>29.72</td>\n",
       "    </tr>\n",
       "    <tr>\n",
       "      <th>7</th>\n",
       "      <td>2000-03-10</td>\n",
       "      <td>121.69</td>\n",
       "      <td>127.94</td>\n",
       "      <td>121.00</td>\n",
       "      <td>125.75</td>\n",
       "      <td>8900800</td>\n",
       "      <td>30.57</td>\n",
       "    </tr>\n",
       "    <tr>\n",
       "      <th>8</th>\n",
       "      <td>2000-03-13</td>\n",
       "      <td>122.12</td>\n",
       "      <td>126.50</td>\n",
       "      <td>119.50</td>\n",
       "      <td>121.31</td>\n",
       "      <td>10864400</td>\n",
       "      <td>29.50</td>\n",
       "    </tr>\n",
       "    <tr>\n",
       "      <th>9</th>\n",
       "      <td>2000-03-14</td>\n",
       "      <td>121.22</td>\n",
       "      <td>124.25</td>\n",
       "      <td>114.00</td>\n",
       "      <td>114.25</td>\n",
       "      <td>15321200</td>\n",
       "      <td>27.78</td>\n",
       "    </tr>\n",
       "  </tbody>\n",
       "</table>\n",
       "</div>"
      ],
      "text/plain": [
       "         date    open    high     low   close    volume  adj_close\n",
       "0  2000-03-01  118.56  132.06  118.50  130.31  38478000      31.68\n",
       "1  2000-03-02  127.00  127.94  120.69  122.00  11136800      29.66\n",
       "2  2000-03-03  124.87  128.23  120.00  128.00  11565200      31.12\n",
       "3  2000-03-06  126.00  129.13  125.00  125.69   7520000      30.56\n",
       "4  2000-03-07  126.44  127.44  121.12  122.87   9767600      29.87\n",
       "5  2000-03-08  122.87  123.94  118.56  122.00   9690800      29.66\n",
       "6  2000-03-09  120.87  125.00  118.25  122.25   9884400      29.72\n",
       "7  2000-03-10  121.69  127.94  121.00  125.75   8900800      30.57\n",
       "8  2000-03-13  122.12  126.50  119.50  121.31  10864400      29.50\n",
       "9  2000-03-14  121.22  124.25  114.00  114.25  15321200      27.78"
      ]
     },
     "execution_count": 25,
     "metadata": {},
     "output_type": "execute_result"
    }
   ],
   "source": [
    "AAPL_df.head(10)"
   ]
  },
  {
   "cell_type": "code",
   "execution_count": 26,
   "id": "edff7f02-7027-4e76-a85a-8864b09bb634",
   "metadata": {},
   "outputs": [
    {
     "data": {
      "text/plain": [
       "array([ 31.68,  29.66,  31.12, ..., 438.75, 435.62, 424.83])"
      ]
     },
     "execution_count": 26,
     "metadata": {},
     "output_type": "execute_result"
    }
   ],
   "source": [
    "np.array(AAPL_df['adj_close'])"
   ]
  },
  {
   "cell_type": "code",
   "execution_count": 27,
   "id": "9ea249f4-2f22-4642-a387-bc55fa3e4e86",
   "metadata": {},
   "outputs": [
    {
     "data": {
      "text/plain": [
       "array([ 31.68,  29.66,  31.12, ..., 438.75, 435.62, 424.83])"
      ]
     },
     "execution_count": 27,
     "metadata": {},
     "output_type": "execute_result"
    }
   ],
   "source": [
    "np.array(AAPL['adj_close'])"
   ]
  },
  {
   "cell_type": "code",
   "execution_count": 28,
   "id": "6f442b53-53ba-4784-a0bf-7399d352aaf5",
   "metadata": {},
   "outputs": [
    {
     "data": {
      "text/plain": [
       "array(['2000-03-01', '2000-03-02', '2000-03-03', ..., '2013-02-27',\n",
       "       '2013-02-28', '2013-03-01'], dtype='datetime64[D]')"
      ]
     },
     "execution_count": 28,
     "metadata": {},
     "output_type": "execute_result"
    }
   ],
   "source": [
    "np.array(AAPL['date'], dtype=np.datetime64)"
   ]
  },
  {
   "cell_type": "code",
   "execution_count": 29,
   "id": "6c7e52c5-a0d7-4efe-bb8f-8d01c3f9a817",
   "metadata": {},
   "outputs": [],
   "source": [
    "window_size = 30\n",
    "window = np.ones(window_size)/float(window_size)"
   ]
  },
  {
   "cell_type": "code",
   "execution_count": 30,
   "id": "46765f8e-8fd6-4f99-8e77-98e8e6a8b344",
   "metadata": {},
   "outputs": [
    {
     "data": {
      "text/plain": [
       "array([0.03333333, 0.03333333, 0.03333333, 0.03333333, 0.03333333,\n",
       "       0.03333333, 0.03333333, 0.03333333, 0.03333333, 0.03333333,\n",
       "       0.03333333, 0.03333333, 0.03333333, 0.03333333, 0.03333333,\n",
       "       0.03333333, 0.03333333, 0.03333333, 0.03333333, 0.03333333,\n",
       "       0.03333333, 0.03333333, 0.03333333, 0.03333333, 0.03333333,\n",
       "       0.03333333, 0.03333333, 0.03333333, 0.03333333, 0.03333333])"
      ]
     },
     "execution_count": 30,
     "metadata": {},
     "output_type": "execute_result"
    }
   ],
   "source": [
    "window"
   ]
  },
  {
   "cell_type": "code",
   "execution_count": 31,
   "id": "8f11a0f2-52bc-4d16-a2ba-7dc2eb3f2830",
   "metadata": {},
   "outputs": [
    {
     "name": "stdout",
     "output_type": "stream",
     "text": [
      "[1. 1. 1. 1. 1. 1. 1. 1. 1. 1. 1. 1. 1. 1. 1. 1. 1. 1. 1. 1. 1. 1. 1. 1.\n",
      " 1. 1. 1. 1. 1. 1.]\n"
     ]
    }
   ],
   "source": [
    "print(np.ones(30))"
   ]
  },
  {
   "cell_type": "code",
   "execution_count": 32,
   "id": "80d89701-454e-469e-b9a3-1b1672659b17",
   "metadata": {},
   "outputs": [
    {
     "data": {
      "text/plain": [
       "30.0"
      ]
     },
     "execution_count": 32,
     "metadata": {},
     "output_type": "execute_result"
    }
   ],
   "source": [
    "float(30)"
   ]
  },
  {
   "cell_type": "code",
   "execution_count": 33,
   "id": "b91eaab5-d3e1-430f-88ca-d47e37133e1a",
   "metadata": {},
   "outputs": [
    {
     "name": "stdout",
     "output_type": "stream",
     "text": [
      "Result: [0.5  1.25 2.   2.75 1.  ]\n"
     ]
    }
   ],
   "source": [
    "# Define two input sequences\n",
    "sequence1 = [1, 2, 3, 4]\n",
    "sequence2 = [0.5, 0.25]\n",
    "\n",
    "# Perform convolution\n",
    "result = np.convolve(sequence1, sequence2, mode='full')\n",
    "\n",
    "print(\"Result:\", result)"
   ]
  },
  {
   "cell_type": "code",
   "execution_count": 34,
   "id": "5ce0d027-75e1-479e-b52d-3d22bdf94009",
   "metadata": {},
   "outputs": [],
   "source": [
    "fruits = ['Apples', 'Pears', 'Nectarines', 'Plums', 'Grapes', 'Strawberries']\n",
    "fruits.sort()"
   ]
  },
  {
   "cell_type": "code",
   "execution_count": 35,
   "id": "971207b3-fc45-4d0d-988f-56a37ef942cd",
   "metadata": {},
   "outputs": [
    {
     "data": {
      "text/plain": [
       "['Apples', 'Grapes', 'Nectarines', 'Pears', 'Plums', 'Strawberries']"
      ]
     },
     "execution_count": 35,
     "metadata": {},
     "output_type": "execute_result"
    }
   ],
   "source": [
    "fruits"
   ]
  },
  {
   "cell_type": "code",
   "execution_count": 36,
   "id": "f8f3617b-ce07-4cc2-b36e-cbdb0f2f413f",
   "metadata": {},
   "outputs": [],
   "source": [
    "fruits = ['Apples', 'Pears', 'Nectarines', 'Plums', 'Grapes', 'Strawberries']\n",
    "years = ['2015', '2016', '2017']"
   ]
  },
  {
   "cell_type": "code",
   "execution_count": 37,
   "id": "6f1dc671-e758-4cec-b082-e25f6b48efdd",
   "metadata": {},
   "outputs": [
    {
     "data": {
      "text/plain": [
       "[('Apples', '2015'),\n",
       " ('Apples', '2016'),\n",
       " ('Apples', '2017'),\n",
       " ('Pears', '2015'),\n",
       " ('Pears', '2016'),\n",
       " ('Pears', '2017'),\n",
       " ('Nectarines', '2015'),\n",
       " ('Nectarines', '2016'),\n",
       " ('Nectarines', '2017'),\n",
       " ('Plums', '2015'),\n",
       " ('Plums', '2016'),\n",
       " ('Plums', '2017'),\n",
       " ('Grapes', '2015'),\n",
       " ('Grapes', '2016'),\n",
       " ('Grapes', '2017'),\n",
       " ('Strawberries', '2015'),\n",
       " ('Strawberries', '2016'),\n",
       " ('Strawberries', '2017')]"
      ]
     },
     "execution_count": 37,
     "metadata": {},
     "output_type": "execute_result"
    }
   ],
   "source": [
    "x = [ (fruit, year) for fruit in fruits for year in years ]\n",
    "x"
   ]
  }
 ],
 "metadata": {
  "kernelspec": {
   "display_name": "Python 3 (ipykernel)",
   "language": "python",
   "name": "python3"
  },
  "language_info": {
   "codemirror_mode": {
    "name": "ipython",
    "version": 3
   },
   "file_extension": ".py",
   "mimetype": "text/x-python",
   "name": "python",
   "nbconvert_exporter": "python",
   "pygments_lexer": "ipython3",
   "version": "3.9.13"
  }
 },
 "nbformat": 4,
 "nbformat_minor": 5
}
