{
 "cells": [
  {
   "cell_type": "markdown",
   "id": "0ffc4875-66eb-4282-946d-e0a763c0be1c",
   "metadata": {},
   "source": [
    "# Notes (08)"
   ]
  },
  {
   "cell_type": "markdown",
   "id": "a6874916-3284-4939-a03b-bd40b1450ef0",
   "metadata": {},
   "source": [
    "# 08. Bokeh: quick (and partial) summary"
   ]
  },
  {
   "cell_type": "code",
   "execution_count": 1,
   "id": "a94923c3-7649-4214-8cb4-07d74ff284a3",
   "metadata": {},
   "outputs": [],
   "source": [
    "x = [0.1, 0.5, 1.0, 1.5, 2.0, 2.5, 3.0]\n",
    "y0 = [i**2 for i in x]\n",
    "y1 = [10**i for i in x]\n",
    "y2 = [10**(i**2) for i in x]"
   ]
  },
  {
   "cell_type": "code",
   "execution_count": 2,
   "id": "fa67f53d-92af-4664-9cb9-bcc5a4f0268d",
   "metadata": {},
   "outputs": [
    {
     "data": {
      "text/plain": [
       "[0.010000000000000002, 0.25, 1.0, 2.25, 4.0, 6.25, 9.0]"
      ]
     },
     "execution_count": 2,
     "metadata": {},
     "output_type": "execute_result"
    }
   ],
   "source": [
    "y0"
   ]
  },
  {
   "cell_type": "code",
   "execution_count": 3,
   "id": "17848dee-ad7f-4735-836b-2a5e705d6fdd",
   "metadata": {},
   "outputs": [
    {
     "data": {
      "text/plain": [
       "[1.2589254117941673,\n",
       " 3.1622776601683795,\n",
       " 10.0,\n",
       " 31.622776601683793,\n",
       " 100.0,\n",
       " 316.22776601683796,\n",
       " 1000.0]"
      ]
     },
     "execution_count": 3,
     "metadata": {},
     "output_type": "execute_result"
    }
   ],
   "source": [
    "y1"
   ]
  },
  {
   "cell_type": "code",
   "execution_count": 4,
   "id": "a63b8a00-532d-4466-b518-64532bd50a7e",
   "metadata": {},
   "outputs": [
    {
     "data": {
      "text/plain": [
       "[1.023292992280754,\n",
       " 1.7782794100389228,\n",
       " 10.0,\n",
       " 177.82794100389228,\n",
       " 10000.0,\n",
       " 1778279.410038923,\n",
       " 1000000000.0]"
      ]
     },
     "execution_count": 4,
     "metadata": {},
     "output_type": "execute_result"
    }
   ],
   "source": [
    "y2"
   ]
  }
 ],
 "metadata": {
  "kernelspec": {
   "display_name": "Python 3 (ipykernel)",
   "language": "python",
   "name": "python3"
  },
  "language_info": {
   "codemirror_mode": {
    "name": "ipython",
    "version": 3
   },
   "file_extension": ".py",
   "mimetype": "text/x-python",
   "name": "python",
   "nbconvert_exporter": "python",
   "pygments_lexer": "ipython3",
   "version": "3.9.13"
  }
 },
 "nbformat": 4,
 "nbformat_minor": 5
}
