{
 "cells": [
  {
   "cell_type": "markdown",
   "metadata": {},
   "source": [
    "# 07. Data Grouping and Filtering\n",
    "\n",
    "Another quite popular operations to perform on data are **grouping** and **filtering**.\n",
    "The former is used to group values into mulitple subgroups and operate on specific groups; the latter is to dwelve into data based on specific categories or filters on values.\n",
    "Most of the time, these two operations are performed together.\n",
    "\n",
    "Pandas allows to do group and filtering, thanks to the `groupby` and `filter` functions. \n",
    "\n",
    "We will see examples in this notebook."
   ]
  },
  {
   "cell_type": "markdown",
   "metadata": {},
   "source": [
    "**Note** \n",
    "\n",
    "In this notebook, we will be using `numpy.random` functions for random selection of values and random number generations to work on fake data."
   ]
  },
  {
   "cell_type": "code",
   "execution_count": 1,
   "metadata": {},
   "outputs": [],
   "source": [
    "import numpy as np\n",
    "import pandas as pd"
   ]
  },
  {
   "cell_type": "code",
   "execution_count": 2,
   "metadata": {},
   "outputs": [],
   "source": [
    "gender = [\"Male\", \"Female\"]\n",
    "income = [\"Poor\", \"Middle Class\", \"Rich\"]"
   ]
  },
  {
   "cell_type": "code",
   "execution_count": 3,
   "metadata": {},
   "outputs": [],
   "source": [
    "n = 500\n",
    "\n",
    "gender_data = []\n",
    "income_data = []\n",
    "\n",
    "for i in range(0, 500):\n",
    "    gender_data.append(np.random.choice(gender))\n",
    "    income_data.append(np.random.choice(income))"
   ]
  },
  {
   "cell_type": "code",
   "execution_count": 11,
   "metadata": {
    "collapsed": true,
    "jupyter": {
     "outputs_hidden": true
    },
    "tags": []
   },
   "outputs": [
    {
     "data": {
      "text/plain": [
       "['Female',\n",
       " 'Male',\n",
       " 'Male',\n",
       " 'Female',\n",
       " 'Female',\n",
       " 'Male',\n",
       " 'Male',\n",
       " 'Male',\n",
       " 'Male',\n",
       " 'Female']"
      ]
     },
     "execution_count": 11,
     "metadata": {},
     "output_type": "execute_result"
    }
   ],
   "source": [
    "gender_data[:10]"
   ]
  },
  {
   "cell_type": "code",
   "execution_count": 12,
   "metadata": {
    "collapsed": true,
    "jupyter": {
     "outputs_hidden": true
    },
    "tags": []
   },
   "outputs": [
    {
     "data": {
      "text/plain": [
       "['Middle Class',\n",
       " 'Poor',\n",
       " 'Middle Class',\n",
       " 'Middle Class',\n",
       " 'Poor',\n",
       " 'Poor',\n",
       " 'Middle Class',\n",
       " 'Rich',\n",
       " 'Poor',\n",
       " 'Rich']"
      ]
     },
     "execution_count": 12,
     "metadata": {},
     "output_type": "execute_result"
    }
   ],
   "source": [
    "income_data[:10]"
   ]
  },
  {
   "cell_type": "markdown",
   "metadata": {},
   "source": [
    "Z -> N(0, 1)\n",
    "<br>\n",
    "N(m, s) -> m + s * Z"
   ]
  },
  {
   "cell_type": "code",
   "execution_count": 6,
   "metadata": {},
   "outputs": [],
   "source": [
    "#Z -> N(0,1)\n",
    "#N(m, s) -> m + s * Z\n",
    "height = 160 + 30 * np.random.randn(n)\n",
    "weight = 65 + 25 * np.random.randn(n)\n",
    "age = 30 + 12 * np.random.randn(n)\n",
    "income = 18000 + 3500 * np.random.rand(n)"
   ]
  },
  {
   "cell_type": "code",
   "execution_count": 7,
   "metadata": {},
   "outputs": [],
   "source": [
    "data = pd.DataFrame(\n",
    "    {\n",
    "        \"Gender\" : gender_data,\n",
    "        \"Economic Status\" : income_data,\n",
    "        \"Height\" : height,\n",
    "        \"Weight\" : weight,\n",
    "        \"Age\" : age,\n",
    "        \"Income\" : income\n",
    "    }\n",
    ")"
   ]
  },
  {
   "cell_type": "code",
   "execution_count": 9,
   "metadata": {
    "tags": []
   },
   "outputs": [
    {
     "data": {
      "text/html": [
       "<div>\n",
       "<style scoped>\n",
       "    .dataframe tbody tr th:only-of-type {\n",
       "        vertical-align: middle;\n",
       "    }\n",
       "\n",
       "    .dataframe tbody tr th {\n",
       "        vertical-align: top;\n",
       "    }\n",
       "\n",
       "    .dataframe thead th {\n",
       "        text-align: right;\n",
       "    }\n",
       "</style>\n",
       "<table border=\"1\" class=\"dataframe\">\n",
       "  <thead>\n",
       "    <tr style=\"text-align: right;\">\n",
       "      <th></th>\n",
       "      <th>Gender</th>\n",
       "      <th>Economic Status</th>\n",
       "      <th>Height</th>\n",
       "      <th>Weight</th>\n",
       "      <th>Age</th>\n",
       "      <th>Income</th>\n",
       "    </tr>\n",
       "  </thead>\n",
       "  <tbody>\n",
       "    <tr>\n",
       "      <th>0</th>\n",
       "      <td>Female</td>\n",
       "      <td>Middle Class</td>\n",
       "      <td>108.919310</td>\n",
       "      <td>54.053707</td>\n",
       "      <td>27.542020</td>\n",
       "      <td>20977.295007</td>\n",
       "    </tr>\n",
       "    <tr>\n",
       "      <th>1</th>\n",
       "      <td>Male</td>\n",
       "      <td>Poor</td>\n",
       "      <td>180.440425</td>\n",
       "      <td>69.915184</td>\n",
       "      <td>34.208488</td>\n",
       "      <td>19744.997546</td>\n",
       "    </tr>\n",
       "    <tr>\n",
       "      <th>2</th>\n",
       "      <td>Male</td>\n",
       "      <td>Middle Class</td>\n",
       "      <td>136.215786</td>\n",
       "      <td>41.815437</td>\n",
       "      <td>33.663745</td>\n",
       "      <td>19142.291562</td>\n",
       "    </tr>\n",
       "    <tr>\n",
       "      <th>3</th>\n",
       "      <td>Female</td>\n",
       "      <td>Middle Class</td>\n",
       "      <td>142.516745</td>\n",
       "      <td>49.996199</td>\n",
       "      <td>35.041471</td>\n",
       "      <td>18743.683989</td>\n",
       "    </tr>\n",
       "    <tr>\n",
       "      <th>4</th>\n",
       "      <td>Female</td>\n",
       "      <td>Poor</td>\n",
       "      <td>175.520617</td>\n",
       "      <td>43.014027</td>\n",
       "      <td>26.323569</td>\n",
       "      <td>20884.448053</td>\n",
       "    </tr>\n",
       "    <tr>\n",
       "      <th>5</th>\n",
       "      <td>Male</td>\n",
       "      <td>Poor</td>\n",
       "      <td>147.943771</td>\n",
       "      <td>70.137523</td>\n",
       "      <td>38.354636</td>\n",
       "      <td>21425.638293</td>\n",
       "    </tr>\n",
       "    <tr>\n",
       "      <th>6</th>\n",
       "      <td>Male</td>\n",
       "      <td>Middle Class</td>\n",
       "      <td>154.451622</td>\n",
       "      <td>53.411307</td>\n",
       "      <td>37.749500</td>\n",
       "      <td>20217.130755</td>\n",
       "    </tr>\n",
       "    <tr>\n",
       "      <th>7</th>\n",
       "      <td>Male</td>\n",
       "      <td>Rich</td>\n",
       "      <td>221.004251</td>\n",
       "      <td>53.192329</td>\n",
       "      <td>30.268086</td>\n",
       "      <td>18808.019685</td>\n",
       "    </tr>\n",
       "    <tr>\n",
       "      <th>8</th>\n",
       "      <td>Male</td>\n",
       "      <td>Poor</td>\n",
       "      <td>168.643705</td>\n",
       "      <td>75.435287</td>\n",
       "      <td>33.187742</td>\n",
       "      <td>19036.924644</td>\n",
       "    </tr>\n",
       "    <tr>\n",
       "      <th>9</th>\n",
       "      <td>Female</td>\n",
       "      <td>Rich</td>\n",
       "      <td>183.068506</td>\n",
       "      <td>58.904473</td>\n",
       "      <td>45.840153</td>\n",
       "      <td>19719.025395</td>\n",
       "    </tr>\n",
       "    <tr>\n",
       "      <th>10</th>\n",
       "      <td>Male</td>\n",
       "      <td>Rich</td>\n",
       "      <td>181.329356</td>\n",
       "      <td>75.940823</td>\n",
       "      <td>29.999631</td>\n",
       "      <td>20375.449463</td>\n",
       "    </tr>\n",
       "    <tr>\n",
       "      <th>11</th>\n",
       "      <td>Female</td>\n",
       "      <td>Rich</td>\n",
       "      <td>171.571673</td>\n",
       "      <td>68.311118</td>\n",
       "      <td>41.476114</td>\n",
       "      <td>20538.716060</td>\n",
       "    </tr>\n",
       "    <tr>\n",
       "      <th>12</th>\n",
       "      <td>Female</td>\n",
       "      <td>Middle Class</td>\n",
       "      <td>189.475247</td>\n",
       "      <td>70.978564</td>\n",
       "      <td>42.440576</td>\n",
       "      <td>19623.130042</td>\n",
       "    </tr>\n",
       "    <tr>\n",
       "      <th>13</th>\n",
       "      <td>Female</td>\n",
       "      <td>Middle Class</td>\n",
       "      <td>163.844202</td>\n",
       "      <td>53.817915</td>\n",
       "      <td>35.212956</td>\n",
       "      <td>20623.196228</td>\n",
       "    </tr>\n",
       "    <tr>\n",
       "      <th>14</th>\n",
       "      <td>Female</td>\n",
       "      <td>Poor</td>\n",
       "      <td>158.601684</td>\n",
       "      <td>70.256710</td>\n",
       "      <td>3.393360</td>\n",
       "      <td>19599.173363</td>\n",
       "    </tr>\n",
       "    <tr>\n",
       "      <th>15</th>\n",
       "      <td>Female</td>\n",
       "      <td>Rich</td>\n",
       "      <td>146.925682</td>\n",
       "      <td>72.830134</td>\n",
       "      <td>26.859344</td>\n",
       "      <td>20599.982119</td>\n",
       "    </tr>\n",
       "    <tr>\n",
       "      <th>16</th>\n",
       "      <td>Male</td>\n",
       "      <td>Middle Class</td>\n",
       "      <td>153.449499</td>\n",
       "      <td>74.359001</td>\n",
       "      <td>15.958050</td>\n",
       "      <td>21497.593176</td>\n",
       "    </tr>\n",
       "    <tr>\n",
       "      <th>17</th>\n",
       "      <td>Male</td>\n",
       "      <td>Middle Class</td>\n",
       "      <td>142.680537</td>\n",
       "      <td>58.158336</td>\n",
       "      <td>29.385439</td>\n",
       "      <td>19893.681939</td>\n",
       "    </tr>\n",
       "    <tr>\n",
       "      <th>18</th>\n",
       "      <td>Female</td>\n",
       "      <td>Rich</td>\n",
       "      <td>185.758174</td>\n",
       "      <td>56.685627</td>\n",
       "      <td>38.382112</td>\n",
       "      <td>19425.956896</td>\n",
       "    </tr>\n",
       "    <tr>\n",
       "      <th>19</th>\n",
       "      <td>Male</td>\n",
       "      <td>Poor</td>\n",
       "      <td>151.199763</td>\n",
       "      <td>93.775171</td>\n",
       "      <td>27.839930</td>\n",
       "      <td>21091.818284</td>\n",
       "    </tr>\n",
       "    <tr>\n",
       "      <th>20</th>\n",
       "      <td>Male</td>\n",
       "      <td>Middle Class</td>\n",
       "      <td>163.123522</td>\n",
       "      <td>118.084902</td>\n",
       "      <td>35.035798</td>\n",
       "      <td>20992.468471</td>\n",
       "    </tr>\n",
       "    <tr>\n",
       "      <th>21</th>\n",
       "      <td>Female</td>\n",
       "      <td>Poor</td>\n",
       "      <td>120.828654</td>\n",
       "      <td>39.860135</td>\n",
       "      <td>-10.492888</td>\n",
       "      <td>18728.544058</td>\n",
       "    </tr>\n",
       "    <tr>\n",
       "      <th>22</th>\n",
       "      <td>Male</td>\n",
       "      <td>Middle Class</td>\n",
       "      <td>196.885117</td>\n",
       "      <td>61.003885</td>\n",
       "      <td>12.276338</td>\n",
       "      <td>18600.788074</td>\n",
       "    </tr>\n",
       "    <tr>\n",
       "      <th>23</th>\n",
       "      <td>Male</td>\n",
       "      <td>Rich</td>\n",
       "      <td>164.538521</td>\n",
       "      <td>66.959597</td>\n",
       "      <td>38.329166</td>\n",
       "      <td>18119.720066</td>\n",
       "    </tr>\n",
       "    <tr>\n",
       "      <th>24</th>\n",
       "      <td>Male</td>\n",
       "      <td>Middle Class</td>\n",
       "      <td>124.742673</td>\n",
       "      <td>80.320740</td>\n",
       "      <td>32.375657</td>\n",
       "      <td>19920.174730</td>\n",
       "    </tr>\n",
       "    <tr>\n",
       "      <th>25</th>\n",
       "      <td>Female</td>\n",
       "      <td>Rich</td>\n",
       "      <td>130.306085</td>\n",
       "      <td>113.381552</td>\n",
       "      <td>23.063030</td>\n",
       "      <td>19777.920148</td>\n",
       "    </tr>\n",
       "    <tr>\n",
       "      <th>26</th>\n",
       "      <td>Female</td>\n",
       "      <td>Poor</td>\n",
       "      <td>126.395783</td>\n",
       "      <td>56.066575</td>\n",
       "      <td>37.002080</td>\n",
       "      <td>18066.656417</td>\n",
       "    </tr>\n",
       "    <tr>\n",
       "      <th>27</th>\n",
       "      <td>Female</td>\n",
       "      <td>Middle Class</td>\n",
       "      <td>173.147190</td>\n",
       "      <td>73.650560</td>\n",
       "      <td>29.733886</td>\n",
       "      <td>18414.920493</td>\n",
       "    </tr>\n",
       "    <tr>\n",
       "      <th>28</th>\n",
       "      <td>Male</td>\n",
       "      <td>Middle Class</td>\n",
       "      <td>129.366553</td>\n",
       "      <td>12.798032</td>\n",
       "      <td>23.336714</td>\n",
       "      <td>20076.216279</td>\n",
       "    </tr>\n",
       "    <tr>\n",
       "      <th>29</th>\n",
       "      <td>Male</td>\n",
       "      <td>Middle Class</td>\n",
       "      <td>154.749724</td>\n",
       "      <td>54.875541</td>\n",
       "      <td>30.569141</td>\n",
       "      <td>19633.933734</td>\n",
       "    </tr>\n",
       "  </tbody>\n",
       "</table>\n",
       "</div>"
      ],
      "text/plain": [
       "    Gender Economic Status      Height      Weight        Age        Income\n",
       "0   Female    Middle Class  108.919310   54.053707  27.542020  20977.295007\n",
       "1     Male            Poor  180.440425   69.915184  34.208488  19744.997546\n",
       "2     Male    Middle Class  136.215786   41.815437  33.663745  19142.291562\n",
       "3   Female    Middle Class  142.516745   49.996199  35.041471  18743.683989\n",
       "4   Female            Poor  175.520617   43.014027  26.323569  20884.448053\n",
       "5     Male            Poor  147.943771   70.137523  38.354636  21425.638293\n",
       "6     Male    Middle Class  154.451622   53.411307  37.749500  20217.130755\n",
       "7     Male            Rich  221.004251   53.192329  30.268086  18808.019685\n",
       "8     Male            Poor  168.643705   75.435287  33.187742  19036.924644\n",
       "9   Female            Rich  183.068506   58.904473  45.840153  19719.025395\n",
       "10    Male            Rich  181.329356   75.940823  29.999631  20375.449463\n",
       "11  Female            Rich  171.571673   68.311118  41.476114  20538.716060\n",
       "12  Female    Middle Class  189.475247   70.978564  42.440576  19623.130042\n",
       "13  Female    Middle Class  163.844202   53.817915  35.212956  20623.196228\n",
       "14  Female            Poor  158.601684   70.256710   3.393360  19599.173363\n",
       "15  Female            Rich  146.925682   72.830134  26.859344  20599.982119\n",
       "16    Male    Middle Class  153.449499   74.359001  15.958050  21497.593176\n",
       "17    Male    Middle Class  142.680537   58.158336  29.385439  19893.681939\n",
       "18  Female            Rich  185.758174   56.685627  38.382112  19425.956896\n",
       "19    Male            Poor  151.199763   93.775171  27.839930  21091.818284\n",
       "20    Male    Middle Class  163.123522  118.084902  35.035798  20992.468471\n",
       "21  Female            Poor  120.828654   39.860135 -10.492888  18728.544058\n",
       "22    Male    Middle Class  196.885117   61.003885  12.276338  18600.788074\n",
       "23    Male            Rich  164.538521   66.959597  38.329166  18119.720066\n",
       "24    Male    Middle Class  124.742673   80.320740  32.375657  19920.174730\n",
       "25  Female            Rich  130.306085  113.381552  23.063030  19777.920148\n",
       "26  Female            Poor  126.395783   56.066575  37.002080  18066.656417\n",
       "27  Female    Middle Class  173.147190   73.650560  29.733886  18414.920493\n",
       "28    Male    Middle Class  129.366553   12.798032  23.336714  20076.216279\n",
       "29    Male    Middle Class  154.749724   54.875541  30.569141  19633.933734"
      ]
     },
     "execution_count": 9,
     "metadata": {},
     "output_type": "execute_result"
    }
   ],
   "source": [
    "data.head(30)"
   ]
  },
  {
   "cell_type": "markdown",
   "metadata": {},
   "source": [
    "## Data Grouping"
   ]
  },
  {
   "cell_type": "markdown",
   "metadata": {},
   "source": [
    "←←←←←←←←←←←←←←←←←←←←←←←←←←←←←←←←←←←← stopped here"
   ]
  },
  {
   "cell_type": "code",
   "execution_count": 13,
   "metadata": {},
   "outputs": [],
   "source": [
    "grouped_gender = data.groupby(\"Gender\")"
   ]
  },
  {
   "cell_type": "code",
   "execution_count": 16,
   "metadata": {},
   "outputs": [
    {
     "data": {
      "text/plain": [
       "{'Female': [0, 3, 4, 9, 11, 12, 13, 14, 15, 18, 21, 25, 26, 27, 32, 33, 34, 36, 37, 41, 44, 47, 48, 50, 51, 52, 55, 57, 58, 59, 61, 62, 64, 65, 66, 68, 69, 72, 73, 75, 78, 80, 82, 83, 84, 86, 87, 89, 90, 92, 93, 94, 96, 98, 99, 102, 105, 106, 107, 108, 109, 111, 116, 117, 119, 121, 122, 124, 126, 127, 129, 130, 131, 133, 134, 135, 136, 137, 140, 141, 145, 146, 147, 150, 151, 153, 154, 157, 162, 164, 167, 168, 170, 171, 172, 177, 178, 179, 182, 185, ...], 'Male': [1, 2, 5, 6, 7, 8, 10, 16, 17, 19, 20, 22, 23, 24, 28, 29, 30, 31, 35, 38, 39, 40, 42, 43, 45, 46, 49, 53, 54, 56, 60, 63, 67, 70, 71, 74, 76, 77, 79, 81, 85, 88, 91, 95, 97, 100, 101, 103, 104, 110, 112, 113, 114, 115, 118, 120, 123, 125, 128, 132, 138, 139, 142, 143, 144, 148, 149, 152, 155, 156, 158, 159, 160, 161, 163, 165, 166, 169, 173, 174, 175, 176, 180, 181, 183, 184, 189, 191, 194, 195, 196, 199, 201, 202, 206, 207, 211, 213, 214, 215, ...]}"
      ]
     },
     "execution_count": 16,
     "metadata": {},
     "output_type": "execute_result"
    }
   ],
   "source": [
    "grouped_gender.groups"
   ]
  },
  {
   "cell_type": "code",
   "execution_count": 17,
   "metadata": {},
   "outputs": [
    {
     "name": "stdout",
     "output_type": "stream",
     "text": [
      "Female\n",
      "     Gender Economic Status      Height      Weight        Age        Income\n",
      "0    Female    Middle Class  108.919310   54.053707  27.542020  20977.295007\n",
      "3    Female    Middle Class  142.516745   49.996199  35.041471  18743.683989\n",
      "4    Female            Poor  175.520617   43.014027  26.323569  20884.448053\n",
      "9    Female            Rich  183.068506   58.904473  45.840153  19719.025395\n",
      "11   Female            Rich  171.571673   68.311118  41.476114  20538.716060\n",
      "..      ...             ...         ...         ...        ...           ...\n",
      "490  Female            Poor  126.309601   72.281999  43.244447  19042.881567\n",
      "492  Female            Rich  171.943335   68.929817  25.569880  18428.515754\n",
      "493  Female            Rich  142.943854   46.138044  15.355971  19952.083041\n",
      "495  Female    Middle Class  214.295610   46.354274  45.142851  20893.703853\n",
      "499  Female    Middle Class  157.474534  100.245393  16.270387  20483.511671\n",
      "\n",
      "[250 rows x 6 columns]\n",
      "Male\n",
      "    Gender Economic Status      Height      Weight        Age        Income\n",
      "1     Male            Poor  180.440425   69.915184  34.208488  19744.997546\n",
      "2     Male    Middle Class  136.215786   41.815437  33.663745  19142.291562\n",
      "5     Male            Poor  147.943771   70.137523  38.354636  21425.638293\n",
      "6     Male    Middle Class  154.451622   53.411307  37.749500  20217.130755\n",
      "7     Male            Rich  221.004251   53.192329  30.268086  18808.019685\n",
      "..     ...             ...         ...         ...        ...           ...\n",
      "491   Male            Rich  161.558340   63.596533  33.510393  20847.648494\n",
      "494   Male    Middle Class  180.385872   96.160085  20.162104  19711.279863\n",
      "496   Male    Middle Class  163.006665   36.960253  25.929066  18453.330372\n",
      "497   Male    Middle Class  152.317427  138.481758  44.577614  20647.421350\n",
      "498   Male            Poor  168.869167  124.551364  39.963131  20841.450653\n",
      "\n",
      "[250 rows x 6 columns]\n"
     ]
    }
   ],
   "source": [
    "for names, groups in grouped_gender:\n",
    "    print(names)\n",
    "    print(groups)"
   ]
  },
  {
   "cell_type": "code",
   "execution_count": null,
   "metadata": {},
   "outputs": [],
   "source": [
    "grouped_gender.get_group(\"Female\")"
   ]
  },
  {
   "cell_type": "code",
   "execution_count": null,
   "metadata": {},
   "outputs": [],
   "source": [
    "double_group = data.groupby([\"Gender\", \"Economic Status\"])"
   ]
  },
  {
   "cell_type": "code",
   "execution_count": null,
   "metadata": {},
   "outputs": [],
   "source": [
    "len(double_group)"
   ]
  },
  {
   "cell_type": "code",
   "execution_count": null,
   "metadata": {},
   "outputs": [],
   "source": [
    "for names, groups in double_group:\n",
    "    print(names)\n",
    "    print(groups)"
   ]
  },
  {
   "cell_type": "markdown",
   "metadata": {},
   "source": [
    "## Operations on Groups"
   ]
  },
  {
   "cell_type": "code",
   "execution_count": null,
   "metadata": {},
   "outputs": [],
   "source": [
    "double_group.sum()"
   ]
  },
  {
   "cell_type": "code",
   "execution_count": null,
   "metadata": {},
   "outputs": [],
   "source": [
    "double_group.mean()"
   ]
  },
  {
   "cell_type": "code",
   "execution_count": null,
   "metadata": {},
   "outputs": [],
   "source": [
    "double_group.size()"
   ]
  },
  {
   "cell_type": "code",
   "execution_count": null,
   "metadata": {},
   "outputs": [],
   "source": [
    "double_group.describe()"
   ]
  },
  {
   "cell_type": "code",
   "execution_count": null,
   "metadata": {},
   "outputs": [],
   "source": [
    "grouped_income = double_group[\"Income\"]"
   ]
  },
  {
   "cell_type": "code",
   "execution_count": null,
   "metadata": {},
   "outputs": [],
   "source": [
    "grouped_income.describe()"
   ]
  },
  {
   "cell_type": "code",
   "execution_count": null,
   "metadata": {},
   "outputs": [],
   "source": [
    "double_group.aggregate(\n",
    "    {\n",
    "        \"Income\": np.sum,\n",
    "        \"Age\" : np.mean,\n",
    "        \"Height\" : np.std\n",
    "    }\n",
    ")"
   ]
  },
  {
   "cell_type": "code",
   "execution_count": null,
   "metadata": {},
   "outputs": [],
   "source": [
    "double_group.aggregate(\n",
    "    {\n",
    "        \"Age\" : np.mean,\n",
    "        \"Height\" : lambda h:(np.mean(h))/np.std(h)\n",
    "    }\n",
    ")"
   ]
  },
  {
   "cell_type": "code",
   "execution_count": null,
   "metadata": {},
   "outputs": [],
   "source": [
    "double_group.aggregate([np.sum, np.mean, np.std])"
   ]
  },
  {
   "cell_type": "code",
   "execution_count": null,
   "metadata": {},
   "outputs": [],
   "source": [
    "double_group.aggregate([lambda x: np.mean(x) / np.std(x)])"
   ]
  },
  {
   "cell_type": "markdown",
   "metadata": {},
   "source": [
    "## Data Filtering"
   ]
  },
  {
   "cell_type": "code",
   "execution_count": null,
   "metadata": {},
   "outputs": [],
   "source": [
    "double_group[\"Age\"].filter(lambda x: x.sum()>2400)"
   ]
  },
  {
   "cell_type": "markdown",
   "metadata": {},
   "source": [
    "## Transforming variables"
   ]
  },
  {
   "cell_type": "code",
   "execution_count": null,
   "metadata": {},
   "outputs": [],
   "source": [
    "zscore = lambda x : (x - x.mean())/x.std()"
   ]
  },
  {
   "cell_type": "code",
   "execution_count": null,
   "metadata": {},
   "outputs": [],
   "source": [
    "z_group = double_group.transform(zscore)"
   ]
  },
  {
   "cell_type": "code",
   "execution_count": null,
   "metadata": {},
   "outputs": [],
   "source": [
    "import matplotlib.pyplot as plt"
   ]
  },
  {
   "cell_type": "code",
   "execution_count": null,
   "metadata": {},
   "outputs": [],
   "source": [
    "plt.hist(z_group[\"Age\"])"
   ]
  },
  {
   "cell_type": "code",
   "execution_count": null,
   "metadata": {},
   "outputs": [],
   "source": [
    "fill_na_mean = lambda x : x.fillna(x.mean())"
   ]
  },
  {
   "cell_type": "code",
   "execution_count": null,
   "metadata": {},
   "outputs": [],
   "source": [
    "double_group.transform(fill_na_mean)"
   ]
  },
  {
   "cell_type": "markdown",
   "metadata": {},
   "source": [
    "## Other operations on data and groups"
   ]
  },
  {
   "cell_type": "code",
   "execution_count": null,
   "metadata": {},
   "outputs": [],
   "source": [
    "double_group.head(1)"
   ]
  },
  {
   "cell_type": "code",
   "execution_count": null,
   "metadata": {},
   "outputs": [],
   "source": [
    "double_group.tail(1)"
   ]
  },
  {
   "cell_type": "code",
   "execution_count": null,
   "metadata": {},
   "outputs": [],
   "source": [
    "double_group.nth(32)"
   ]
  },
  {
   "cell_type": "code",
   "execution_count": null,
   "metadata": {},
   "outputs": [],
   "source": [
    "double_group.nth(82)"
   ]
  },
  {
   "cell_type": "code",
   "execution_count": null,
   "metadata": {},
   "outputs": [],
   "source": [
    "data_sorted = data.sort_values([\"Age\", \"Income\"])"
   ]
  },
  {
   "cell_type": "code",
   "execution_count": null,
   "metadata": {},
   "outputs": [],
   "source": [
    "data_sorted.head(10)"
   ]
  },
  {
   "cell_type": "code",
   "execution_count": null,
   "metadata": {},
   "outputs": [],
   "source": [
    "age_grouped = data_sorted.groupby(\"Gender\")"
   ]
  },
  {
   "cell_type": "code",
   "execution_count": null,
   "metadata": {},
   "outputs": [],
   "source": [
    "age_grouped.head(1)"
   ]
  },
  {
   "cell_type": "code",
   "execution_count": null,
   "metadata": {},
   "outputs": [],
   "source": [
    "age_grouped.tail(1)"
   ]
  }
 ],
 "metadata": {
  "kernelspec": {
   "display_name": "Python 3 (ipykernel)",
   "language": "python",
   "name": "python3"
  },
  "language_info": {
   "codemirror_mode": {
    "name": "ipython",
    "version": 3
   },
   "file_extension": ".py",
   "mimetype": "text/x-python",
   "name": "python",
   "nbconvert_exporter": "python",
   "pygments_lexer": "ipython3",
   "version": "3.9.13"
  }
 },
 "nbformat": 4,
 "nbformat_minor": 4
}
