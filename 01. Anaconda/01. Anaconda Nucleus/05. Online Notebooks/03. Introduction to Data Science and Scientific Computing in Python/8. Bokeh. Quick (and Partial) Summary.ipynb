{
 "cells": [
  {
   "cell_type": "markdown",
   "metadata": {},
   "source": [
    "# 08. Bokeh: quick (and partial) summary\n",
    "Giuseppe Jurman\n",
    "\n",
    "April, 29th 2019\n",
    "\n",
    "(partially abridged from [Data Visualisation with Bokeh](https://github.com/ernestoarbitrio/bokeh-data-visualisation))"
   ]
  },
  {
   "cell_type": "markdown",
   "metadata": {},
   "source": [
    "**Bokeh** is a `Python` interactive visualization library that targets modern web browsers for presentation. Bokeh provides elegant, concise construction of novel graphics with high-performance interactivity over very large or streaming datasets in a quick and easy way.\n",
    "\n",
    "To offer both simplicity and the powerful and flexible features needed for advanced customizations, Bokeh exposes two interface levels to users:\n",
    "\n",
    "- a low-level bokeh.models interface that provides the most flexibility to application developers.\n",
    "- an higher-level bokeh.plotting interface centered around composing visual glyphs.\n",
    "\n",
    "This Introduction focuses on the bokeh.plotting interface."
   ]
  },
  {
   "cell_type": "markdown",
   "metadata": {},
   "source": [
    "## Defining key concepts\n",
    "\n",
    "### Glossary\n",
    "\n",
    "In order to make the best use of this User Guide, it is important to have context for some high level concepts and terms. Here is a small glossary of some of the most important concepts in Bokeh.\n",
    "\n",
    "**Application**\n",
    "\n",
    "A Bokeh application is a rendered Bokeh document, running in a browser.\n",
    "\n",
    "**BokehJS**\n",
    "\n",
    "The JavaScript client library that actually renders the visuals and handles the UI interactions for Bokeh plots and widgets in the browser. Typically, users will not have to think about this aspect of Bokeh much (“We write the JavaScript, so you don’t have to!”) but it is good to have basic knowledge of this dichotomy. For full details, see the BokehJS chapter of the Developer Guide.\n",
    "\n",
    "**Documents**\n",
    "\n",
    "An organizing data structure for Bokeh applications. Documents contain all the Bokeh Models and data needed to render an interactive visualization or application in the browser.\n",
    "\n",
    "**Embedding**\n",
    "\n",
    "Various methods of including Bokeh plots and widgets into web apps and pages, or the IPython notebook. See Embedding Plots and Apps for more details.\n",
    "\n",
    "**Glyphs**\n",
    "\n",
    "The basic visual building blocks of Bokeh plots, e.g. lines, rectangles, squares, wedges, patches, etc. The bokeh.plotting interface provides a convenient way to create plots centered around glyphs. See Plotting with Basic Glyphs for more information.\n",
    "\n",
    "**Models**\n",
    "\n",
    "The lowest-level objects that comprise Bokeh “scenegraphs”. These live in the bokeh.models interface. Most users will not use this level of interface to assemble plots directly. However, ultimately all Bokeh plots consist of collections of models, so it is important to understand them enough to configure their attributes and properties. See Styling Visual Attributes for more information.\n",
    "\n",
    "**Server**\n",
    "\n",
    "The Bokeh server is an optional component that can be used for sharing and publishing Bokeh plots and apps, for handling streaming of large data sets, or for enabling sophisticated user interactions based off of widgets and selections. See Running a Bokeh Server for more explanation.\n",
    "\n",
    "**Widgets**\n",
    "\n",
    "User interface elements outside of a Bokeh plot such as sliders, drop down menus, buttons, etc. Events and updates from widgets can inform additional computations, or cause Bokeh plots to update. Widgets can be used in both standalone applications or with the Bokeh server. For examples and information, see Adding Interactions."
   ]
  },
  {
   "cell_type": "markdown",
   "metadata": {},
   "source": [
    "### Getting Started\n",
    "\n",
    "Let’s begin with some examples.\n",
    "\n",
    "Anyway Bokeh is composed by a lot of capabilities and functions. In this tutorial we will see a little part of the library, so for more detailed information please consult the full [User Guide](http://bokeh.pydata.org/en/latest/docs/user_guide.html#userguide).\n",
    "\n",
    "Plotting data in basic Python lists as a line plot including zoom, pan, save, and other tools is simple and straightforward:"
   ]
  },
  {
   "cell_type": "code",
   "execution_count": 134,
   "metadata": {},
   "outputs": [],
   "source": [
    "import bokeh"
   ]
  },
  {
   "cell_type": "code",
   "execution_count": 135,
   "metadata": {},
   "outputs": [
    {
     "data": {
      "text/plain": [
       "'2.4.3'"
      ]
     },
     "execution_count": 135,
     "metadata": {},
     "output_type": "execute_result"
    }
   ],
   "source": [
    "bokeh.__version__"
   ]
  },
  {
   "cell_type": "code",
   "execution_count": 136,
   "metadata": {},
   "outputs": [
    {
     "data": {
      "text/html": [
       "<div class=\"bk-root\">\n",
       "        <a href=\"https://bokeh.org\" target=\"_blank\" class=\"bk-logo bk-logo-small bk-logo-notebook\"></a>\n",
       "        <span id=\"58400\">Loading BokehJS ...</span>\n",
       "    </div>\n"
      ]
     },
     "metadata": {},
     "output_type": "display_data"
    },
    {
     "data": {
      "application/javascript": [
       "(function(root) {\n",
       "  function now() {\n",
       "    return new Date();\n",
       "  }\n",
       "\n",
       "  const force = true;\n",
       "\n",
       "  if (typeof root._bokeh_onload_callbacks === \"undefined\" || force === true) {\n",
       "    root._bokeh_onload_callbacks = [];\n",
       "    root._bokeh_is_loading = undefined;\n",
       "  }\n",
       "\n",
       "const JS_MIME_TYPE = 'application/javascript';\n",
       "  const HTML_MIME_TYPE = 'text/html';\n",
       "  const EXEC_MIME_TYPE = 'application/vnd.bokehjs_exec.v0+json';\n",
       "  const CLASS_NAME = 'output_bokeh rendered_html';\n",
       "\n",
       "  /**\n",
       "   * Render data to the DOM node\n",
       "   */\n",
       "  function render(props, node) {\n",
       "    const script = document.createElement(\"script\");\n",
       "    node.appendChild(script);\n",
       "  }\n",
       "\n",
       "  /**\n",
       "   * Handle when an output is cleared or removed\n",
       "   */\n",
       "  function handleClearOutput(event, handle) {\n",
       "    const cell = handle.cell;\n",
       "\n",
       "    const id = cell.output_area._bokeh_element_id;\n",
       "    const server_id = cell.output_area._bokeh_server_id;\n",
       "    // Clean up Bokeh references\n",
       "    if (id != null && id in Bokeh.index) {\n",
       "      Bokeh.index[id].model.document.clear();\n",
       "      delete Bokeh.index[id];\n",
       "    }\n",
       "\n",
       "    if (server_id !== undefined) {\n",
       "      // Clean up Bokeh references\n",
       "      const cmd_clean = \"from bokeh.io.state import curstate; print(curstate().uuid_to_server['\" + server_id + \"'].get_sessions()[0].document.roots[0]._id)\";\n",
       "      cell.notebook.kernel.execute(cmd_clean, {\n",
       "        iopub: {\n",
       "          output: function(msg) {\n",
       "            const id = msg.content.text.trim();\n",
       "            if (id in Bokeh.index) {\n",
       "              Bokeh.index[id].model.document.clear();\n",
       "              delete Bokeh.index[id];\n",
       "            }\n",
       "          }\n",
       "        }\n",
       "      });\n",
       "      // Destroy server and session\n",
       "      const cmd_destroy = \"import bokeh.io.notebook as ion; ion.destroy_server('\" + server_id + \"')\";\n",
       "      cell.notebook.kernel.execute(cmd_destroy);\n",
       "    }\n",
       "  }\n",
       "\n",
       "  /**\n",
       "   * Handle when a new output is added\n",
       "   */\n",
       "  function handleAddOutput(event, handle) {\n",
       "    const output_area = handle.output_area;\n",
       "    const output = handle.output;\n",
       "\n",
       "    // limit handleAddOutput to display_data with EXEC_MIME_TYPE content only\n",
       "    if ((output.output_type != \"display_data\") || (!Object.prototype.hasOwnProperty.call(output.data, EXEC_MIME_TYPE))) {\n",
       "      return\n",
       "    }\n",
       "\n",
       "    const toinsert = output_area.element.find(\".\" + CLASS_NAME.split(' ')[0]);\n",
       "\n",
       "    if (output.metadata[EXEC_MIME_TYPE][\"id\"] !== undefined) {\n",
       "      toinsert[toinsert.length - 1].firstChild.textContent = output.data[JS_MIME_TYPE];\n",
       "      // store reference to embed id on output_area\n",
       "      output_area._bokeh_element_id = output.metadata[EXEC_MIME_TYPE][\"id\"];\n",
       "    }\n",
       "    if (output.metadata[EXEC_MIME_TYPE][\"server_id\"] !== undefined) {\n",
       "      const bk_div = document.createElement(\"div\");\n",
       "      bk_div.innerHTML = output.data[HTML_MIME_TYPE];\n",
       "      const script_attrs = bk_div.children[0].attributes;\n",
       "      for (let i = 0; i < script_attrs.length; i++) {\n",
       "        toinsert[toinsert.length - 1].firstChild.setAttribute(script_attrs[i].name, script_attrs[i].value);\n",
       "        toinsert[toinsert.length - 1].firstChild.textContent = bk_div.children[0].textContent\n",
       "      }\n",
       "      // store reference to server id on output_area\n",
       "      output_area._bokeh_server_id = output.metadata[EXEC_MIME_TYPE][\"server_id\"];\n",
       "    }\n",
       "  }\n",
       "\n",
       "  function register_renderer(events, OutputArea) {\n",
       "\n",
       "    function append_mime(data, metadata, element) {\n",
       "      // create a DOM node to render to\n",
       "      const toinsert = this.create_output_subarea(\n",
       "        metadata,\n",
       "        CLASS_NAME,\n",
       "        EXEC_MIME_TYPE\n",
       "      );\n",
       "      this.keyboard_manager.register_events(toinsert);\n",
       "      // Render to node\n",
       "      const props = {data: data, metadata: metadata[EXEC_MIME_TYPE]};\n",
       "      render(props, toinsert[toinsert.length - 1]);\n",
       "      element.append(toinsert);\n",
       "      return toinsert\n",
       "    }\n",
       "\n",
       "    /* Handle when an output is cleared or removed */\n",
       "    events.on('clear_output.CodeCell', handleClearOutput);\n",
       "    events.on('delete.Cell', handleClearOutput);\n",
       "\n",
       "    /* Handle when a new output is added */\n",
       "    events.on('output_added.OutputArea', handleAddOutput);\n",
       "\n",
       "    /**\n",
       "     * Register the mime type and append_mime function with output_area\n",
       "     */\n",
       "    OutputArea.prototype.register_mime_type(EXEC_MIME_TYPE, append_mime, {\n",
       "      /* Is output safe? */\n",
       "      safe: true,\n",
       "      /* Index of renderer in `output_area.display_order` */\n",
       "      index: 0\n",
       "    });\n",
       "  }\n",
       "\n",
       "  // register the mime type if in Jupyter Notebook environment and previously unregistered\n",
       "  if (root.Jupyter !== undefined) {\n",
       "    const events = require('base/js/events');\n",
       "    const OutputArea = require('notebook/js/outputarea').OutputArea;\n",
       "\n",
       "    if (OutputArea.prototype.mime_types().indexOf(EXEC_MIME_TYPE) == -1) {\n",
       "      register_renderer(events, OutputArea);\n",
       "    }\n",
       "  }\n",
       "  if (typeof (root._bokeh_timeout) === \"undefined\" || force === true) {\n",
       "    root._bokeh_timeout = Date.now() + 5000;\n",
       "    root._bokeh_failed_load = false;\n",
       "  }\n",
       "\n",
       "  const NB_LOAD_WARNING = {'data': {'text/html':\n",
       "     \"<div style='background-color: #fdd'>\\n\"+\n",
       "     \"<p>\\n\"+\n",
       "     \"BokehJS does not appear to have successfully loaded. If loading BokehJS from CDN, this \\n\"+\n",
       "     \"may be due to a slow or bad network connection. Possible fixes:\\n\"+\n",
       "     \"</p>\\n\"+\n",
       "     \"<ul>\\n\"+\n",
       "     \"<li>re-rerun `output_notebook()` to attempt to load from CDN again, or</li>\\n\"+\n",
       "     \"<li>use INLINE resources instead, as so:</li>\\n\"+\n",
       "     \"</ul>\\n\"+\n",
       "     \"<code>\\n\"+\n",
       "     \"from bokeh.resources import INLINE\\n\"+\n",
       "     \"output_notebook(resources=INLINE)\\n\"+\n",
       "     \"</code>\\n\"+\n",
       "     \"</div>\"}};\n",
       "\n",
       "  function display_loaded() {\n",
       "    const el = document.getElementById(\"58400\");\n",
       "    if (el != null) {\n",
       "      el.textContent = \"BokehJS is loading...\";\n",
       "    }\n",
       "    if (root.Bokeh !== undefined) {\n",
       "      if (el != null) {\n",
       "        el.textContent = \"BokehJS \" + root.Bokeh.version + \" successfully loaded.\";\n",
       "      }\n",
       "    } else if (Date.now() < root._bokeh_timeout) {\n",
       "      setTimeout(display_loaded, 100)\n",
       "    }\n",
       "  }\n",
       "\n",
       "  function run_callbacks() {\n",
       "    try {\n",
       "      root._bokeh_onload_callbacks.forEach(function(callback) {\n",
       "        if (callback != null)\n",
       "          callback();\n",
       "      });\n",
       "    } finally {\n",
       "      delete root._bokeh_onload_callbacks\n",
       "    }\n",
       "    console.debug(\"Bokeh: all callbacks have finished\");\n",
       "  }\n",
       "\n",
       "  function load_libs(css_urls, js_urls, callback) {\n",
       "    if (css_urls == null) css_urls = [];\n",
       "    if (js_urls == null) js_urls = [];\n",
       "\n",
       "    root._bokeh_onload_callbacks.push(callback);\n",
       "    if (root._bokeh_is_loading > 0) {\n",
       "      console.debug(\"Bokeh: BokehJS is being loaded, scheduling callback at\", now());\n",
       "      return null;\n",
       "    }\n",
       "    if (js_urls == null || js_urls.length === 0) {\n",
       "      run_callbacks();\n",
       "      return null;\n",
       "    }\n",
       "    console.debug(\"Bokeh: BokehJS not loaded, scheduling load and callback at\", now());\n",
       "    root._bokeh_is_loading = css_urls.length + js_urls.length;\n",
       "\n",
       "    function on_load() {\n",
       "      root._bokeh_is_loading--;\n",
       "      if (root._bokeh_is_loading === 0) {\n",
       "        console.debug(\"Bokeh: all BokehJS libraries/stylesheets loaded\");\n",
       "        run_callbacks()\n",
       "      }\n",
       "    }\n",
       "\n",
       "    function on_error(url) {\n",
       "      console.error(\"failed to load \" + url);\n",
       "    }\n",
       "\n",
       "    for (let i = 0; i < css_urls.length; i++) {\n",
       "      const url = css_urls[i];\n",
       "      const element = document.createElement(\"link\");\n",
       "      element.onload = on_load;\n",
       "      element.onerror = on_error.bind(null, url);\n",
       "      element.rel = \"stylesheet\";\n",
       "      element.type = \"text/css\";\n",
       "      element.href = url;\n",
       "      console.debug(\"Bokeh: injecting link tag for BokehJS stylesheet: \", url);\n",
       "      document.body.appendChild(element);\n",
       "    }\n",
       "\n",
       "    for (let i = 0; i < js_urls.length; i++) {\n",
       "      const url = js_urls[i];\n",
       "      const element = document.createElement('script');\n",
       "      element.onload = on_load;\n",
       "      element.onerror = on_error.bind(null, url);\n",
       "      element.async = false;\n",
       "      element.src = url;\n",
       "      console.debug(\"Bokeh: injecting script tag for BokehJS library: \", url);\n",
       "      document.head.appendChild(element);\n",
       "    }\n",
       "  };\n",
       "\n",
       "  function inject_raw_css(css) {\n",
       "    const element = document.createElement(\"style\");\n",
       "    element.appendChild(document.createTextNode(css));\n",
       "    document.body.appendChild(element);\n",
       "  }\n",
       "\n",
       "  const js_urls = [\"https://cdn.bokeh.org/bokeh/release/bokeh-2.4.3.min.js\", \"https://cdn.bokeh.org/bokeh/release/bokeh-gl-2.4.3.min.js\", \"https://cdn.bokeh.org/bokeh/release/bokeh-widgets-2.4.3.min.js\", \"https://cdn.bokeh.org/bokeh/release/bokeh-tables-2.4.3.min.js\", \"https://cdn.bokeh.org/bokeh/release/bokeh-mathjax-2.4.3.min.js\"];\n",
       "  const css_urls = [];\n",
       "\n",
       "  const inline_js = [    function(Bokeh) {\n",
       "      Bokeh.set_log_level(\"info\");\n",
       "    },\n",
       "function(Bokeh) {\n",
       "    }\n",
       "  ];\n",
       "\n",
       "  function run_inline_js() {\n",
       "    if (root.Bokeh !== undefined || force === true) {\n",
       "          for (let i = 0; i < inline_js.length; i++) {\n",
       "      inline_js[i].call(root, root.Bokeh);\n",
       "    }\n",
       "if (force === true) {\n",
       "        display_loaded();\n",
       "      }} else if (Date.now() < root._bokeh_timeout) {\n",
       "      setTimeout(run_inline_js, 100);\n",
       "    } else if (!root._bokeh_failed_load) {\n",
       "      console.log(\"Bokeh: BokehJS failed to load within specified timeout.\");\n",
       "      root._bokeh_failed_load = true;\n",
       "    } else if (force !== true) {\n",
       "      const cell = $(document.getElementById(\"58400\")).parents('.cell').data().cell;\n",
       "      cell.output_area.append_execute_result(NB_LOAD_WARNING)\n",
       "    }\n",
       "  }\n",
       "\n",
       "  if (root._bokeh_is_loading === 0) {\n",
       "    console.debug(\"Bokeh: BokehJS loaded, going straight to plotting\");\n",
       "    run_inline_js();\n",
       "  } else {\n",
       "    load_libs(css_urls, js_urls, function() {\n",
       "      console.debug(\"Bokeh: BokehJS plotting callback run at\", now());\n",
       "      run_inline_js();\n",
       "    });\n",
       "  }\n",
       "}(window));"
      ],
      "application/vnd.bokehjs_load.v0+json": "(function(root) {\n  function now() {\n    return new Date();\n  }\n\n  const force = true;\n\n  if (typeof root._bokeh_onload_callbacks === \"undefined\" || force === true) {\n    root._bokeh_onload_callbacks = [];\n    root._bokeh_is_loading = undefined;\n  }\n\n\n  if (typeof (root._bokeh_timeout) === \"undefined\" || force === true) {\n    root._bokeh_timeout = Date.now() + 5000;\n    root._bokeh_failed_load = false;\n  }\n\n  const NB_LOAD_WARNING = {'data': {'text/html':\n     \"<div style='background-color: #fdd'>\\n\"+\n     \"<p>\\n\"+\n     \"BokehJS does not appear to have successfully loaded. If loading BokehJS from CDN, this \\n\"+\n     \"may be due to a slow or bad network connection. Possible fixes:\\n\"+\n     \"</p>\\n\"+\n     \"<ul>\\n\"+\n     \"<li>re-rerun `output_notebook()` to attempt to load from CDN again, or</li>\\n\"+\n     \"<li>use INLINE resources instead, as so:</li>\\n\"+\n     \"</ul>\\n\"+\n     \"<code>\\n\"+\n     \"from bokeh.resources import INLINE\\n\"+\n     \"output_notebook(resources=INLINE)\\n\"+\n     \"</code>\\n\"+\n     \"</div>\"}};\n\n  function display_loaded() {\n    const el = document.getElementById(\"58400\");\n    if (el != null) {\n      el.textContent = \"BokehJS is loading...\";\n    }\n    if (root.Bokeh !== undefined) {\n      if (el != null) {\n        el.textContent = \"BokehJS \" + root.Bokeh.version + \" successfully loaded.\";\n      }\n    } else if (Date.now() < root._bokeh_timeout) {\n      setTimeout(display_loaded, 100)\n    }\n  }\n\n  function run_callbacks() {\n    try {\n      root._bokeh_onload_callbacks.forEach(function(callback) {\n        if (callback != null)\n          callback();\n      });\n    } finally {\n      delete root._bokeh_onload_callbacks\n    }\n    console.debug(\"Bokeh: all callbacks have finished\");\n  }\n\n  function load_libs(css_urls, js_urls, callback) {\n    if (css_urls == null) css_urls = [];\n    if (js_urls == null) js_urls = [];\n\n    root._bokeh_onload_callbacks.push(callback);\n    if (root._bokeh_is_loading > 0) {\n      console.debug(\"Bokeh: BokehJS is being loaded, scheduling callback at\", now());\n      return null;\n    }\n    if (js_urls == null || js_urls.length === 0) {\n      run_callbacks();\n      return null;\n    }\n    console.debug(\"Bokeh: BokehJS not loaded, scheduling load and callback at\", now());\n    root._bokeh_is_loading = css_urls.length + js_urls.length;\n\n    function on_load() {\n      root._bokeh_is_loading--;\n      if (root._bokeh_is_loading === 0) {\n        console.debug(\"Bokeh: all BokehJS libraries/stylesheets loaded\");\n        run_callbacks()\n      }\n    }\n\n    function on_error(url) {\n      console.error(\"failed to load \" + url);\n    }\n\n    for (let i = 0; i < css_urls.length; i++) {\n      const url = css_urls[i];\n      const element = document.createElement(\"link\");\n      element.onload = on_load;\n      element.onerror = on_error.bind(null, url);\n      element.rel = \"stylesheet\";\n      element.type = \"text/css\";\n      element.href = url;\n      console.debug(\"Bokeh: injecting link tag for BokehJS stylesheet: \", url);\n      document.body.appendChild(element);\n    }\n\n    for (let i = 0; i < js_urls.length; i++) {\n      const url = js_urls[i];\n      const element = document.createElement('script');\n      element.onload = on_load;\n      element.onerror = on_error.bind(null, url);\n      element.async = false;\n      element.src = url;\n      console.debug(\"Bokeh: injecting script tag for BokehJS library: \", url);\n      document.head.appendChild(element);\n    }\n  };\n\n  function inject_raw_css(css) {\n    const element = document.createElement(\"style\");\n    element.appendChild(document.createTextNode(css));\n    document.body.appendChild(element);\n  }\n\n  const js_urls = [\"https://cdn.bokeh.org/bokeh/release/bokeh-2.4.3.min.js\", \"https://cdn.bokeh.org/bokeh/release/bokeh-gl-2.4.3.min.js\", \"https://cdn.bokeh.org/bokeh/release/bokeh-widgets-2.4.3.min.js\", \"https://cdn.bokeh.org/bokeh/release/bokeh-tables-2.4.3.min.js\", \"https://cdn.bokeh.org/bokeh/release/bokeh-mathjax-2.4.3.min.js\"];\n  const css_urls = [];\n\n  const inline_js = [    function(Bokeh) {\n      Bokeh.set_log_level(\"info\");\n    },\nfunction(Bokeh) {\n    }\n  ];\n\n  function run_inline_js() {\n    if (root.Bokeh !== undefined || force === true) {\n          for (let i = 0; i < inline_js.length; i++) {\n      inline_js[i].call(root, root.Bokeh);\n    }\nif (force === true) {\n        display_loaded();\n      }} else if (Date.now() < root._bokeh_timeout) {\n      setTimeout(run_inline_js, 100);\n    } else if (!root._bokeh_failed_load) {\n      console.log(\"Bokeh: BokehJS failed to load within specified timeout.\");\n      root._bokeh_failed_load = true;\n    } else if (force !== true) {\n      const cell = $(document.getElementById(\"58400\")).parents('.cell').data().cell;\n      cell.output_area.append_execute_result(NB_LOAD_WARNING)\n    }\n  }\n\n  if (root._bokeh_is_loading === 0) {\n    console.debug(\"Bokeh: BokehJS loaded, going straight to plotting\");\n    run_inline_js();\n  } else {\n    load_libs(css_urls, js_urls, function() {\n      console.debug(\"Bokeh: BokehJS plotting callback run at\", now());\n      run_inline_js();\n    });\n  }\n}(window));"
     },
     "metadata": {},
     "output_type": "display_data"
    }
   ],
   "source": [
    "from bokeh.plotting import figure, output_notebook, show\n",
    "output_notebook()"
   ]
  },
  {
   "cell_type": "code",
   "execution_count": 137,
   "metadata": {},
   "outputs": [
    {
     "data": {
      "text/html": [
       "\n",
       "  <div class=\"bk-root\" id=\"f5dd1aef-8a30-4cb4-95a1-da5cd561632b\" data-root-id=\"58401\"></div>\n"
      ]
     },
     "metadata": {},
     "output_type": "display_data"
    },
    {
     "data": {
      "application/javascript": [
       "(function(root) {\n",
       "  function embed_document(root) {\n",
       "  const docs_json = {\"4b472b16-7034-4998-88bc-8193d16d93fc\":{\"defs\":[],\"roots\":{\"references\":[{\"attributes\":{\"below\":[{\"id\":\"58410\"}],\"center\":[{\"id\":\"58413\"},{\"id\":\"58417\"}],\"height\":400,\"left\":[{\"id\":\"58414\"}],\"renderers\":[{\"id\":\"58436\"}],\"title\":{\"id\":\"59292\"},\"toolbar\":{\"id\":\"58425\"},\"width\":400,\"x_range\":{\"id\":\"58402\"},\"x_scale\":{\"id\":\"58406\"},\"y_range\":{\"id\":\"58404\"},\"y_scale\":{\"id\":\"58408\"}},\"id\":\"58401\",\"subtype\":\"Figure\",\"type\":\"Plot\"},{\"attributes\":{\"data\":{\"x\":[1,2,3,4,5],\"y\":[6,7,2,4,5]},\"selected\":{\"id\":\"59301\"},\"selection_policy\":{\"id\":\"59300\"}},\"id\":\"58432\",\"type\":\"ColumnDataSource\"},{\"attributes\":{\"fill_alpha\":{\"value\":0.5},\"fill_color\":{\"value\":\"navy\"},\"hatch_alpha\":{\"value\":0.5},\"hatch_color\":{\"value\":\"navy\"},\"line_alpha\":{\"value\":0.5},\"line_color\":{\"value\":\"navy\"},\"size\":{\"value\":20},\"x\":{\"field\":\"x\"},\"y\":{\"field\":\"y\"}},\"id\":\"58433\",\"type\":\"Circle\"},{\"attributes\":{},\"id\":\"59295\",\"type\":\"BasicTickFormatter\"},{\"attributes\":{},\"id\":\"59296\",\"type\":\"AllLabels\"},{\"attributes\":{\"coordinates\":null,\"group\":null},\"id\":\"59292\",\"type\":\"Title\"},{\"attributes\":{},\"id\":\"59298\",\"type\":\"BasicTickFormatter\"},{\"attributes\":{},\"id\":\"58404\",\"type\":\"DataRange1d\"},{\"attributes\":{},\"id\":\"59299\",\"type\":\"AllLabels\"},{\"attributes\":{},\"id\":\"58419\",\"type\":\"WheelZoomTool\"},{\"attributes\":{},\"id\":\"58415\",\"type\":\"BasicTicker\"},{\"attributes\":{\"axis\":{\"id\":\"58414\"},\"coordinates\":null,\"dimension\":1,\"group\":null,\"ticker\":null},\"id\":\"58417\",\"type\":\"Grid\"},{\"attributes\":{\"source\":{\"id\":\"58432\"}},\"id\":\"58437\",\"type\":\"CDSView\"},{\"attributes\":{},\"id\":\"58402\",\"type\":\"DataRange1d\"},{\"attributes\":{},\"id\":\"58423\",\"type\":\"HelpTool\"},{\"attributes\":{\"coordinates\":null,\"formatter\":{\"id\":\"59298\"},\"group\":null,\"major_label_policy\":{\"id\":\"59299\"},\"ticker\":{\"id\":\"58411\"}},\"id\":\"58410\",\"type\":\"LinearAxis\"},{\"attributes\":{},\"id\":\"58421\",\"type\":\"SaveTool\"},{\"attributes\":{\"fill_alpha\":{\"value\":0.1},\"fill_color\":{\"value\":\"navy\"},\"hatch_alpha\":{\"value\":0.1},\"hatch_color\":{\"value\":\"navy\"},\"line_alpha\":{\"value\":0.1},\"line_color\":{\"value\":\"navy\"},\"size\":{\"value\":20},\"x\":{\"field\":\"x\"},\"y\":{\"field\":\"y\"}},\"id\":\"58434\",\"type\":\"Circle\"},{\"attributes\":{},\"id\":\"59300\",\"type\":\"UnionRenderers\"},{\"attributes\":{\"coordinates\":null,\"formatter\":{\"id\":\"59295\"},\"group\":null,\"major_label_policy\":{\"id\":\"59296\"},\"ticker\":{\"id\":\"58415\"}},\"id\":\"58414\",\"type\":\"LinearAxis\"},{\"attributes\":{\"axis\":{\"id\":\"58410\"},\"coordinates\":null,\"group\":null,\"ticker\":null},\"id\":\"58413\",\"type\":\"Grid\"},{\"attributes\":{},\"id\":\"58408\",\"type\":\"LinearScale\"},{\"attributes\":{},\"id\":\"59301\",\"type\":\"Selection\"},{\"attributes\":{},\"id\":\"58411\",\"type\":\"BasicTicker\"},{\"attributes\":{\"bottom_units\":\"screen\",\"coordinates\":null,\"fill_alpha\":0.5,\"fill_color\":\"lightgrey\",\"group\":null,\"left_units\":\"screen\",\"level\":\"overlay\",\"line_alpha\":1.0,\"line_color\":\"black\",\"line_dash\":[4,4],\"line_width\":2,\"right_units\":\"screen\",\"syncable\":false,\"top_units\":\"screen\"},\"id\":\"58424\",\"type\":\"BoxAnnotation\"},{\"attributes\":{},\"id\":\"58422\",\"type\":\"ResetTool\"},{\"attributes\":{\"coordinates\":null,\"data_source\":{\"id\":\"58432\"},\"glyph\":{\"id\":\"58433\"},\"group\":null,\"hover_glyph\":null,\"muted_glyph\":{\"id\":\"58435\"},\"nonselection_glyph\":{\"id\":\"58434\"},\"view\":{\"id\":\"58437\"}},\"id\":\"58436\",\"type\":\"GlyphRenderer\"},{\"attributes\":{\"overlay\":{\"id\":\"58424\"}},\"id\":\"58420\",\"type\":\"BoxZoomTool\"},{\"attributes\":{},\"id\":\"58418\",\"type\":\"PanTool\"},{\"attributes\":{\"fill_alpha\":{\"value\":0.2},\"fill_color\":{\"value\":\"navy\"},\"hatch_alpha\":{\"value\":0.2},\"hatch_color\":{\"value\":\"navy\"},\"line_alpha\":{\"value\":0.2},\"line_color\":{\"value\":\"navy\"},\"size\":{\"value\":20},\"x\":{\"field\":\"x\"},\"y\":{\"field\":\"y\"}},\"id\":\"58435\",\"type\":\"Circle\"},{\"attributes\":{},\"id\":\"58406\",\"type\":\"LinearScale\"},{\"attributes\":{\"tools\":[{\"id\":\"58418\"},{\"id\":\"58419\"},{\"id\":\"58420\"},{\"id\":\"58421\"},{\"id\":\"58422\"},{\"id\":\"58423\"}]},\"id\":\"58425\",\"type\":\"Toolbar\"}],\"root_ids\":[\"58401\"]},\"title\":\"Bokeh Application\",\"version\":\"2.4.3\"}};\n",
       "  const render_items = [{\"docid\":\"4b472b16-7034-4998-88bc-8193d16d93fc\",\"root_ids\":[\"58401\"],\"roots\":{\"58401\":\"f5dd1aef-8a30-4cb4-95a1-da5cd561632b\"}}];\n",
       "  root.Bokeh.embed.embed_items_notebook(docs_json, render_items);\n",
       "  }\n",
       "  if (root.Bokeh !== undefined) {\n",
       "    embed_document(root);\n",
       "  } else {\n",
       "    let attempts = 0;\n",
       "    const timer = setInterval(function(root) {\n",
       "      if (root.Bokeh !== undefined) {\n",
       "        clearInterval(timer);\n",
       "        embed_document(root);\n",
       "      } else {\n",
       "        attempts++;\n",
       "        if (attempts > 100) {\n",
       "          clearInterval(timer);\n",
       "          console.log(\"Bokeh: ERROR: Unable to run BokehJS code because BokehJS library is missing\");\n",
       "        }\n",
       "      }\n",
       "    }, 10, root)\n",
       "  }\n",
       "})(window);"
      ],
      "application/vnd.bokehjs_exec.v0+json": ""
     },
     "metadata": {
      "application/vnd.bokehjs_exec.v0+json": {
       "id": "58401"
      }
     },
     "output_type": "display_data"
    }
   ],
   "source": [
    "p = figure(plot_width=400, plot_height=400)\n",
    "\n",
    "# add a circle renderer with a size, color, and alpha\n",
    "p.circle([1, 2, 3, 4, 5], [6, 7, 2, 4, 5], size=20, color=\"navy\", alpha=0.5)\n",
    "\n",
    "# show the results\n",
    "show(p)"
   ]
  },
  {
   "cell_type": "markdown",
   "metadata": {},
   "source": [
    "### Multiple lines"
   ]
  },
  {
   "cell_type": "code",
   "execution_count": 138,
   "metadata": {},
   "outputs": [
    {
     "data": {
      "text/html": [
       "\n",
       "  <div class=\"bk-root\" id=\"a32216d2-3517-4e05-a29f-f037d5e5cf70\" data-root-id=\"59358\"></div>\n"
      ]
     },
     "metadata": {},
     "output_type": "display_data"
    },
    {
     "data": {
      "application/javascript": [
       "(function(root) {\n",
       "  function embed_document(root) {\n",
       "  const docs_json = {\"22618147-fcc1-47fb-bb88-9981cf0e9964\":{\"defs\":[],\"roots\":{\"references\":[{\"attributes\":{\"below\":[{\"id\":\"59367\"}],\"center\":[{\"id\":\"59370\"},{\"id\":\"59374\"}],\"height\":400,\"left\":[{\"id\":\"59371\"}],\"renderers\":[{\"id\":\"59393\"}],\"title\":{\"id\":\"60260\"},\"toolbar\":{\"id\":\"59382\"},\"width\":400,\"x_range\":{\"id\":\"59359\"},\"x_scale\":{\"id\":\"59363\"},\"y_range\":{\"id\":\"59361\"},\"y_scale\":{\"id\":\"59365\"}},\"id\":\"59358\",\"subtype\":\"Figure\",\"type\":\"Plot\"},{\"attributes\":{},\"id\":\"60263\",\"type\":\"BasicTickFormatter\"},{\"attributes\":{},\"id\":\"59359\",\"type\":\"DataRange1d\"},{\"attributes\":{},\"id\":\"60264\",\"type\":\"AllLabels\"},{\"attributes\":{\"data\":{\"line_alpha\":[0.8,0.3],\"line_color\":[\"firebrick\",\"navy\"],\"xs\":[[1,3,2],[3,4,6,6]],\"ys\":[[2,1,4],[4,7,8,5]]},\"selected\":{\"id\":\"60269\"},\"selection_policy\":{\"id\":\"60268\"}},\"id\":\"59389\",\"type\":\"ColumnDataSource\"},{\"attributes\":{},\"id\":\"60266\",\"type\":\"BasicTickFormatter\"},{\"attributes\":{},\"id\":\"59379\",\"type\":\"ResetTool\"},{\"attributes\":{},\"id\":\"60267\",\"type\":\"AllLabels\"},{\"attributes\":{\"tools\":[{\"id\":\"59375\"},{\"id\":\"59376\"},{\"id\":\"59377\"},{\"id\":\"59378\"},{\"id\":\"59379\"},{\"id\":\"59380\"}]},\"id\":\"59382\",\"type\":\"Toolbar\"},{\"attributes\":{},\"id\":\"59361\",\"type\":\"DataRange1d\"},{\"attributes\":{\"coordinates\":null,\"formatter\":{\"id\":\"60263\"},\"group\":null,\"major_label_policy\":{\"id\":\"60264\"},\"ticker\":{\"id\":\"59372\"}},\"id\":\"59371\",\"type\":\"LinearAxis\"},{\"attributes\":{\"bottom_units\":\"screen\",\"coordinates\":null,\"fill_alpha\":0.5,\"fill_color\":\"lightgrey\",\"group\":null,\"left_units\":\"screen\",\"level\":\"overlay\",\"line_alpha\":1.0,\"line_color\":\"black\",\"line_dash\":[4,4],\"line_width\":2,\"right_units\":\"screen\",\"syncable\":false,\"top_units\":\"screen\"},\"id\":\"59381\",\"type\":\"BoxAnnotation\"},{\"attributes\":{\"coordinates\":null,\"formatter\":{\"id\":\"60266\"},\"group\":null,\"major_label_policy\":{\"id\":\"60267\"},\"ticker\":{\"id\":\"59368\"}},\"id\":\"59367\",\"type\":\"LinearAxis\"},{\"attributes\":{},\"id\":\"59365\",\"type\":\"LinearScale\"},{\"attributes\":{},\"id\":\"60268\",\"type\":\"UnionRenderers\"},{\"attributes\":{},\"id\":\"59363\",\"type\":\"LinearScale\"},{\"attributes\":{},\"id\":\"59380\",\"type\":\"HelpTool\"},{\"attributes\":{},\"id\":\"59368\",\"type\":\"BasicTicker\"},{\"attributes\":{},\"id\":\"60269\",\"type\":\"Selection\"},{\"attributes\":{\"axis\":{\"id\":\"59367\"},\"coordinates\":null,\"group\":null,\"ticker\":null},\"id\":\"59370\",\"type\":\"Grid\"},{\"attributes\":{\"axis\":{\"id\":\"59371\"},\"coordinates\":null,\"dimension\":1,\"group\":null,\"ticker\":null},\"id\":\"59374\",\"type\":\"Grid\"},{\"attributes\":{},\"id\":\"59372\",\"type\":\"BasicTicker\"},{\"attributes\":{\"line_alpha\":{\"value\":0.1},\"line_color\":{\"field\":\"line_color\"},\"line_width\":{\"value\":4},\"xs\":{\"field\":\"xs\"},\"ys\":{\"field\":\"ys\"}},\"id\":\"59391\",\"type\":\"MultiLine\"},{\"attributes\":{\"line_alpha\":{\"value\":0.2},\"line_color\":{\"field\":\"line_color\"},\"line_width\":{\"value\":4},\"xs\":{\"field\":\"xs\"},\"ys\":{\"field\":\"ys\"}},\"id\":\"59392\",\"type\":\"MultiLine\"},{\"attributes\":{\"line_alpha\":{\"field\":\"line_alpha\"},\"line_color\":{\"field\":\"line_color\"},\"line_width\":{\"value\":4},\"xs\":{\"field\":\"xs\"},\"ys\":{\"field\":\"ys\"}},\"id\":\"59390\",\"type\":\"MultiLine\"},{\"attributes\":{},\"id\":\"59376\",\"type\":\"WheelZoomTool\"},{\"attributes\":{},\"id\":\"59375\",\"type\":\"PanTool\"},{\"attributes\":{\"source\":{\"id\":\"59389\"}},\"id\":\"59394\",\"type\":\"CDSView\"},{\"attributes\":{\"overlay\":{\"id\":\"59381\"}},\"id\":\"59377\",\"type\":\"BoxZoomTool\"},{\"attributes\":{},\"id\":\"59378\",\"type\":\"SaveTool\"},{\"attributes\":{\"coordinates\":null,\"data_source\":{\"id\":\"59389\"},\"glyph\":{\"id\":\"59390\"},\"group\":null,\"hover_glyph\":null,\"muted_glyph\":{\"id\":\"59392\"},\"nonselection_glyph\":{\"id\":\"59391\"},\"view\":{\"id\":\"59394\"}},\"id\":\"59393\",\"type\":\"GlyphRenderer\"},{\"attributes\":{\"coordinates\":null,\"group\":null},\"id\":\"60260\",\"type\":\"Title\"}],\"root_ids\":[\"59358\"]},\"title\":\"Bokeh Application\",\"version\":\"2.4.3\"}};\n",
       "  const render_items = [{\"docid\":\"22618147-fcc1-47fb-bb88-9981cf0e9964\",\"root_ids\":[\"59358\"],\"roots\":{\"59358\":\"a32216d2-3517-4e05-a29f-f037d5e5cf70\"}}];\n",
       "  root.Bokeh.embed.embed_items_notebook(docs_json, render_items);\n",
       "  }\n",
       "  if (root.Bokeh !== undefined) {\n",
       "    embed_document(root);\n",
       "  } else {\n",
       "    let attempts = 0;\n",
       "    const timer = setInterval(function(root) {\n",
       "      if (root.Bokeh !== undefined) {\n",
       "        clearInterval(timer);\n",
       "        embed_document(root);\n",
       "      } else {\n",
       "        attempts++;\n",
       "        if (attempts > 100) {\n",
       "          clearInterval(timer);\n",
       "          console.log(\"Bokeh: ERROR: Unable to run BokehJS code because BokehJS library is missing\");\n",
       "        }\n",
       "      }\n",
       "    }, 10, root)\n",
       "  }\n",
       "})(window);"
      ],
      "application/vnd.bokehjs_exec.v0+json": ""
     },
     "metadata": {
      "application/vnd.bokehjs_exec.v0+json": {
       "id": "59358"
      }
     },
     "output_type": "display_data"
    }
   ],
   "source": [
    "p = figure(plot_width=400, plot_height=400)\n",
    "p.multi_line([[1, 3, 2], [3, 4, 6, 6]], [[2, 1, 4], [4, 7, 8, 5]],\n",
    "             color=[\"firebrick\", \"navy\"], alpha=[0.8, 0.3], line_width=4)\n",
    "show(p)"
   ]
  },
  {
   "cell_type": "markdown",
   "metadata": {},
   "source": [
    "### Plotting bars"
   ]
  },
  {
   "cell_type": "code",
   "execution_count": 139,
   "metadata": {},
   "outputs": [
    {
     "data": {
      "text/html": [
       "\n",
       "  <div class=\"bk-root\" id=\"9df35c23-a692-4576-9b9e-ec2310508f5e\" data-root-id=\"60326\"></div>\n"
      ]
     },
     "metadata": {},
     "output_type": "display_data"
    },
    {
     "data": {
      "application/javascript": [
       "(function(root) {\n",
       "  function embed_document(root) {\n",
       "  const docs_json = {\"7096a768-4371-431a-ab16-ca8009f2fb95\":{\"defs\":[],\"roots\":{\"references\":[{\"attributes\":{\"below\":[{\"id\":\"60335\"}],\"center\":[{\"id\":\"60338\"},{\"id\":\"60342\"}],\"height\":400,\"left\":[{\"id\":\"60339\"}],\"renderers\":[{\"id\":\"60361\"}],\"title\":{\"id\":\"61239\"},\"toolbar\":{\"id\":\"60350\"},\"width\":400,\"x_range\":{\"id\":\"60327\"},\"x_scale\":{\"id\":\"60331\"},\"y_range\":{\"id\":\"60329\"},\"y_scale\":{\"id\":\"60333\"}},\"id\":\"60326\",\"subtype\":\"Figure\",\"type\":\"Plot\"},{\"attributes\":{\"axis\":{\"id\":\"60339\"},\"coordinates\":null,\"dimension\":1,\"group\":null,\"ticker\":null},\"id\":\"60342\",\"type\":\"Grid\"},{\"attributes\":{},\"id\":\"61247\",\"type\":\"UnionRenderers\"},{\"attributes\":{\"coordinates\":null,\"formatter\":{\"id\":\"61245\"},\"group\":null,\"major_label_policy\":{\"id\":\"61246\"},\"ticker\":{\"id\":\"60336\"}},\"id\":\"60335\",\"type\":\"LinearAxis\"},{\"attributes\":{},\"id\":\"61248\",\"type\":\"Selection\"},{\"attributes\":{\"data\":{\"top\":[1.2,2.5,3.7],\"x\":[1,2,3]},\"selected\":{\"id\":\"61248\"},\"selection_policy\":{\"id\":\"61247\"}},\"id\":\"60357\",\"type\":\"ColumnDataSource\"},{\"attributes\":{\"coordinates\":null,\"data_source\":{\"id\":\"60357\"},\"glyph\":{\"id\":\"60358\"},\"group\":null,\"hover_glyph\":null,\"muted_glyph\":{\"id\":\"60360\"},\"nonselection_glyph\":{\"id\":\"60359\"},\"view\":{\"id\":\"60362\"}},\"id\":\"60361\",\"type\":\"GlyphRenderer\"},{\"attributes\":{},\"id\":\"60348\",\"type\":\"HelpTool\"},{\"attributes\":{},\"id\":\"60336\",\"type\":\"BasicTicker\"},{\"attributes\":{},\"id\":\"60346\",\"type\":\"SaveTool\"},{\"attributes\":{},\"id\":\"60347\",\"type\":\"ResetTool\"},{\"attributes\":{},\"id\":\"60327\",\"type\":\"DataRange1d\"},{\"attributes\":{\"fill_color\":{\"value\":\"red\"},\"hatch_color\":{\"value\":\"red\"},\"line_color\":{\"value\":\"red\"},\"top\":{\"field\":\"top\"},\"width\":{\"value\":0.5},\"x\":{\"field\":\"x\"}},\"id\":\"60358\",\"type\":\"VBar\"},{\"attributes\":{\"axis\":{\"id\":\"60335\"},\"coordinates\":null,\"group\":null,\"ticker\":null},\"id\":\"60338\",\"type\":\"Grid\"},{\"attributes\":{\"bottom_units\":\"screen\",\"coordinates\":null,\"fill_alpha\":0.5,\"fill_color\":\"lightgrey\",\"group\":null,\"left_units\":\"screen\",\"level\":\"overlay\",\"line_alpha\":1.0,\"line_color\":\"black\",\"line_dash\":[4,4],\"line_width\":2,\"right_units\":\"screen\",\"syncable\":false,\"top_units\":\"screen\"},\"id\":\"60349\",\"type\":\"BoxAnnotation\"},{\"attributes\":{},\"id\":\"60344\",\"type\":\"WheelZoomTool\"},{\"attributes\":{},\"id\":\"61243\",\"type\":\"AllLabels\"},{\"attributes\":{\"tools\":[{\"id\":\"60343\"},{\"id\":\"60344\"},{\"id\":\"60345\"},{\"id\":\"60346\"},{\"id\":\"60347\"},{\"id\":\"60348\"}]},\"id\":\"60350\",\"type\":\"Toolbar\"},{\"attributes\":{},\"id\":\"61246\",\"type\":\"AllLabels\"},{\"attributes\":{\"coordinates\":null,\"formatter\":{\"id\":\"61242\"},\"group\":null,\"major_label_policy\":{\"id\":\"61243\"},\"ticker\":{\"id\":\"60340\"}},\"id\":\"60339\",\"type\":\"LinearAxis\"},{\"attributes\":{},\"id\":\"60343\",\"type\":\"PanTool\"},{\"attributes\":{\"fill_alpha\":{\"value\":0.1},\"fill_color\":{\"value\":\"red\"},\"hatch_alpha\":{\"value\":0.1},\"hatch_color\":{\"value\":\"red\"},\"line_alpha\":{\"value\":0.1},\"line_color\":{\"value\":\"red\"},\"top\":{\"field\":\"top\"},\"width\":{\"value\":0.5},\"x\":{\"field\":\"x\"}},\"id\":\"60359\",\"type\":\"VBar\"},{\"attributes\":{\"fill_alpha\":{\"value\":0.2},\"fill_color\":{\"value\":\"red\"},\"hatch_alpha\":{\"value\":0.2},\"hatch_color\":{\"value\":\"red\"},\"line_alpha\":{\"value\":0.2},\"line_color\":{\"value\":\"red\"},\"top\":{\"field\":\"top\"},\"width\":{\"value\":0.5},\"x\":{\"field\":\"x\"}},\"id\":\"60360\",\"type\":\"VBar\"},{\"attributes\":{\"coordinates\":null,\"group\":null},\"id\":\"61239\",\"type\":\"Title\"},{\"attributes\":{\"overlay\":{\"id\":\"60349\"}},\"id\":\"60345\",\"type\":\"BoxZoomTool\"},{\"attributes\":{},\"id\":\"61242\",\"type\":\"BasicTickFormatter\"},{\"attributes\":{\"source\":{\"id\":\"60357\"}},\"id\":\"60362\",\"type\":\"CDSView\"},{\"attributes\":{},\"id\":\"60333\",\"type\":\"LinearScale\"},{\"attributes\":{},\"id\":\"60331\",\"type\":\"LinearScale\"},{\"attributes\":{},\"id\":\"60329\",\"type\":\"DataRange1d\"},{\"attributes\":{},\"id\":\"61245\",\"type\":\"BasicTickFormatter\"},{\"attributes\":{},\"id\":\"60340\",\"type\":\"BasicTicker\"}],\"root_ids\":[\"60326\"]},\"title\":\"Bokeh Application\",\"version\":\"2.4.3\"}};\n",
       "  const render_items = [{\"docid\":\"7096a768-4371-431a-ab16-ca8009f2fb95\",\"root_ids\":[\"60326\"],\"roots\":{\"60326\":\"9df35c23-a692-4576-9b9e-ec2310508f5e\"}}];\n",
       "  root.Bokeh.embed.embed_items_notebook(docs_json, render_items);\n",
       "  }\n",
       "  if (root.Bokeh !== undefined) {\n",
       "    embed_document(root);\n",
       "  } else {\n",
       "    let attempts = 0;\n",
       "    const timer = setInterval(function(root) {\n",
       "      if (root.Bokeh !== undefined) {\n",
       "        clearInterval(timer);\n",
       "        embed_document(root);\n",
       "      } else {\n",
       "        attempts++;\n",
       "        if (attempts > 100) {\n",
       "          clearInterval(timer);\n",
       "          console.log(\"Bokeh: ERROR: Unable to run BokehJS code because BokehJS library is missing\");\n",
       "        }\n",
       "      }\n",
       "    }, 10, root)\n",
       "  }\n",
       "})(window);"
      ],
      "application/vnd.bokehjs_exec.v0+json": ""
     },
     "metadata": {
      "application/vnd.bokehjs_exec.v0+json": {
       "id": "60326"
      }
     },
     "output_type": "display_data"
    }
   ],
   "source": [
    "p = figure(plot_width=400, plot_height=400)\n",
    "p.vbar(x=[1, 2, 3], width=0.5, bottom=0,\n",
    "       top=[1.2, 2.5, 3.7], color=\"red\")\n",
    "show(p)"
   ]
  },
  {
   "cell_type": "code",
   "execution_count": 140,
   "metadata": {},
   "outputs": [
    {
     "data": {
      "text/html": [
       "\n",
       "  <div class=\"bk-root\" id=\"3d2e5262-14f2-43b0-a346-96eb0707f19f\" data-root-id=\"61305\"></div>\n"
      ]
     },
     "metadata": {},
     "output_type": "display_data"
    },
    {
     "data": {
      "application/javascript": [
       "(function(root) {\n",
       "  function embed_document(root) {\n",
       "  const docs_json = {\"612b6655-fde9-4a2c-8414-613886caf176\":{\"defs\":[],\"roots\":{\"references\":[{\"attributes\":{\"below\":[{\"id\":\"61314\"}],\"center\":[{\"id\":\"61317\"},{\"id\":\"61321\"}],\"height\":400,\"left\":[{\"id\":\"61318\"}],\"renderers\":[{\"id\":\"61340\"}],\"title\":{\"id\":\"62229\"},\"toolbar\":{\"id\":\"61329\"},\"width\":400,\"x_range\":{\"id\":\"61306\"},\"x_scale\":{\"id\":\"61310\"},\"y_range\":{\"id\":\"61308\"},\"y_scale\":{\"id\":\"61312\"}},\"id\":\"61305\",\"subtype\":\"Figure\",\"type\":\"Plot\"},{\"attributes\":{},\"id\":\"62237\",\"type\":\"UnionRenderers\"},{\"attributes\":{},\"id\":\"61327\",\"type\":\"HelpTool\"},{\"attributes\":{},\"id\":\"61325\",\"type\":\"SaveTool\"},{\"attributes\":{},\"id\":\"62238\",\"type\":\"Selection\"},{\"attributes\":{},\"id\":\"61326\",\"type\":\"ResetTool\"},{\"attributes\":{},\"id\":\"61319\",\"type\":\"BasicTicker\"},{\"attributes\":{\"data\":{\"right\":[1.2,2.5,3.7],\"y\":[1,2,3]},\"selected\":{\"id\":\"62238\"},\"selection_policy\":{\"id\":\"62237\"}},\"id\":\"61336\",\"type\":\"ColumnDataSource\"},{\"attributes\":{\"bottom_units\":\"screen\",\"coordinates\":null,\"fill_alpha\":0.5,\"fill_color\":\"lightgrey\",\"group\":null,\"left_units\":\"screen\",\"level\":\"overlay\",\"line_alpha\":1.0,\"line_color\":\"black\",\"line_dash\":[4,4],\"line_width\":2,\"right_units\":\"screen\",\"syncable\":false,\"top_units\":\"screen\"},\"id\":\"61328\",\"type\":\"BoxAnnotation\"},{\"attributes\":{},\"id\":\"61312\",\"type\":\"LinearScale\"},{\"attributes\":{\"axis\":{\"id\":\"61314\"},\"coordinates\":null,\"group\":null,\"ticker\":null},\"id\":\"61317\",\"type\":\"Grid\"},{\"attributes\":{\"coordinates\":null,\"group\":null},\"id\":\"62229\",\"type\":\"Title\"},{\"attributes\":{},\"id\":\"61310\",\"type\":\"LinearScale\"},{\"attributes\":{},\"id\":\"62235\",\"type\":\"BasicTickFormatter\"},{\"attributes\":{\"fill_alpha\":{\"value\":0.2},\"fill_color\":{\"value\":\"navy\"},\"hatch_alpha\":{\"value\":0.2},\"hatch_color\":{\"value\":\"navy\"},\"height\":{\"value\":0.5},\"line_alpha\":{\"value\":0.2},\"line_color\":{\"value\":\"navy\"},\"right\":{\"field\":\"right\"},\"y\":{\"field\":\"y\"}},\"id\":\"61339\",\"type\":\"HBar\"},{\"attributes\":{\"fill_color\":{\"value\":\"navy\"},\"hatch_color\":{\"value\":\"navy\"},\"height\":{\"value\":0.5},\"line_color\":{\"value\":\"navy\"},\"right\":{\"field\":\"right\"},\"y\":{\"field\":\"y\"}},\"id\":\"61337\",\"type\":\"HBar\"},{\"attributes\":{\"axis\":{\"id\":\"61318\"},\"coordinates\":null,\"dimension\":1,\"group\":null,\"ticker\":null},\"id\":\"61321\",\"type\":\"Grid\"},{\"attributes\":{\"tools\":[{\"id\":\"61322\"},{\"id\":\"61323\"},{\"id\":\"61324\"},{\"id\":\"61325\"},{\"id\":\"61326\"},{\"id\":\"61327\"}]},\"id\":\"61329\",\"type\":\"Toolbar\"},{\"attributes\":{\"coordinates\":null,\"formatter\":{\"id\":\"62235\"},\"group\":null,\"major_label_policy\":{\"id\":\"62236\"},\"ticker\":{\"id\":\"61315\"}},\"id\":\"61314\",\"type\":\"LinearAxis\"},{\"attributes\":{\"fill_alpha\":{\"value\":0.1},\"fill_color\":{\"value\":\"navy\"},\"hatch_alpha\":{\"value\":0.1},\"hatch_color\":{\"value\":\"navy\"},\"height\":{\"value\":0.5},\"line_alpha\":{\"value\":0.1},\"line_color\":{\"value\":\"navy\"},\"right\":{\"field\":\"right\"},\"y\":{\"field\":\"y\"}},\"id\":\"61338\",\"type\":\"HBar\"},{\"attributes\":{\"coordinates\":null,\"data_source\":{\"id\":\"61336\"},\"glyph\":{\"id\":\"61337\"},\"group\":null,\"hover_glyph\":null,\"muted_glyph\":{\"id\":\"61339\"},\"nonselection_glyph\":{\"id\":\"61338\"},\"view\":{\"id\":\"61341\"}},\"id\":\"61340\",\"type\":\"GlyphRenderer\"},{\"attributes\":{\"coordinates\":null,\"formatter\":{\"id\":\"62232\"},\"group\":null,\"major_label_policy\":{\"id\":\"62233\"},\"ticker\":{\"id\":\"61319\"}},\"id\":\"61318\",\"type\":\"LinearAxis\"},{\"attributes\":{},\"id\":\"61315\",\"type\":\"BasicTicker\"},{\"attributes\":{},\"id\":\"61323\",\"type\":\"WheelZoomTool\"},{\"attributes\":{},\"id\":\"61322\",\"type\":\"PanTool\"},{\"attributes\":{},\"id\":\"62233\",\"type\":\"AllLabels\"},{\"attributes\":{},\"id\":\"62232\",\"type\":\"BasicTickFormatter\"},{\"attributes\":{\"source\":{\"id\":\"61336\"}},\"id\":\"61341\",\"type\":\"CDSView\"},{\"attributes\":{},\"id\":\"62236\",\"type\":\"AllLabels\"},{\"attributes\":{},\"id\":\"61306\",\"type\":\"DataRange1d\"},{\"attributes\":{\"overlay\":{\"id\":\"61328\"}},\"id\":\"61324\",\"type\":\"BoxZoomTool\"},{\"attributes\":{},\"id\":\"61308\",\"type\":\"DataRange1d\"}],\"root_ids\":[\"61305\"]},\"title\":\"Bokeh Application\",\"version\":\"2.4.3\"}};\n",
       "  const render_items = [{\"docid\":\"612b6655-fde9-4a2c-8414-613886caf176\",\"root_ids\":[\"61305\"],\"roots\":{\"61305\":\"3d2e5262-14f2-43b0-a346-96eb0707f19f\"}}];\n",
       "  root.Bokeh.embed.embed_items_notebook(docs_json, render_items);\n",
       "  }\n",
       "  if (root.Bokeh !== undefined) {\n",
       "    embed_document(root);\n",
       "  } else {\n",
       "    let attempts = 0;\n",
       "    const timer = setInterval(function(root) {\n",
       "      if (root.Bokeh !== undefined) {\n",
       "        clearInterval(timer);\n",
       "        embed_document(root);\n",
       "      } else {\n",
       "        attempts++;\n",
       "        if (attempts > 100) {\n",
       "          clearInterval(timer);\n",
       "          console.log(\"Bokeh: ERROR: Unable to run BokehJS code because BokehJS library is missing\");\n",
       "        }\n",
       "      }\n",
       "    }, 10, root)\n",
       "  }\n",
       "})(window);"
      ],
      "application/vnd.bokehjs_exec.v0+json": ""
     },
     "metadata": {
      "application/vnd.bokehjs_exec.v0+json": {
       "id": "61305"
      }
     },
     "output_type": "display_data"
    }
   ],
   "source": [
    "p = figure(plot_width=400, plot_height=400)\n",
    "p.hbar(y=[1, 2, 3], height=0.5, left=0,\n",
    "       right=[1.2, 2.5, 3.7], color=\"navy\")\n",
    "show(p)"
   ]
  },
  {
   "cell_type": "markdown",
   "metadata": {},
   "source": [
    "### Plotting line"
   ]
  },
  {
   "cell_type": "code",
   "execution_count": 141,
   "metadata": {},
   "outputs": [
    {
     "name": "stderr",
     "output_type": "stream",
     "text": [
      "BokehDeprecationWarning: 'legend' keyword is deprecated, use explicit 'legend_label', 'legend_field', or 'legend_group' keywords instead\n"
     ]
    },
    {
     "data": {
      "text/html": [
       "\n",
       "  <div class=\"bk-root\" id=\"56c20777-09f7-4c90-805c-3f847ad18b7e\" data-root-id=\"62295\"></div>\n"
      ]
     },
     "metadata": {},
     "output_type": "display_data"
    },
    {
     "data": {
      "application/javascript": [
       "(function(root) {\n",
       "  function embed_document(root) {\n",
       "  const docs_json = {\"c8e12faf-f2de-4e20-ba3a-aead497c5e83\":{\"defs\":[],\"roots\":{\"references\":[{\"attributes\":{\"below\":[{\"id\":\"62306\"}],\"center\":[{\"id\":\"62309\"},{\"id\":\"62313\"},{\"id\":\"62344\"}],\"height\":400,\"left\":[{\"id\":\"62310\"}],\"renderers\":[{\"id\":\"62332\"}],\"title\":{\"id\":\"62296\"},\"toolbar\":{\"id\":\"62321\"},\"width\":500,\"x_range\":{\"id\":\"62298\"},\"x_scale\":{\"id\":\"62302\"},\"y_range\":{\"id\":\"62300\"},\"y_scale\":{\"id\":\"62304\"}},\"id\":\"62295\",\"subtype\":\"Figure\",\"type\":\"Plot\"},{\"attributes\":{\"coordinates\":null,\"group\":null,\"text\":\"line example\"},\"id\":\"62296\",\"type\":\"Title\"},{\"attributes\":{},\"id\":\"62307\",\"type\":\"BasicTicker\"},{\"attributes\":{\"axis\":{\"id\":\"62306\"},\"coordinates\":null,\"group\":null,\"ticker\":null},\"id\":\"62309\",\"type\":\"Grid\"},{\"attributes\":{},\"id\":\"62336\",\"type\":\"BasicTickFormatter\"},{\"attributes\":{},\"id\":\"62315\",\"type\":\"WheelZoomTool\"},{\"attributes\":{\"axis_label\":\"x\",\"coordinates\":null,\"formatter\":{\"id\":\"62339\"},\"group\":null,\"major_label_policy\":{\"id\":\"62340\"},\"ticker\":{\"id\":\"62307\"}},\"id\":\"62306\",\"type\":\"LinearAxis\"},{\"attributes\":{},\"id\":\"62304\",\"type\":\"LinearScale\"},{\"attributes\":{},\"id\":\"62337\",\"type\":\"AllLabels\"},{\"attributes\":{\"axis_label\":\"y\",\"coordinates\":null,\"formatter\":{\"id\":\"62336\"},\"group\":null,\"major_label_policy\":{\"id\":\"62337\"},\"ticker\":{\"id\":\"62311\"}},\"id\":\"62310\",\"type\":\"LinearAxis\"},{\"attributes\":{},\"id\":\"62339\",\"type\":\"BasicTickFormatter\"},{\"attributes\":{\"source\":{\"id\":\"62328\"}},\"id\":\"62333\",\"type\":\"CDSView\"},{\"attributes\":{},\"id\":\"62311\",\"type\":\"BasicTicker\"},{\"attributes\":{},\"id\":\"62340\",\"type\":\"AllLabels\"},{\"attributes\":{},\"id\":\"62319\",\"type\":\"HelpTool\"},{\"attributes\":{},\"id\":\"62314\",\"type\":\"PanTool\"},{\"attributes\":{\"overlay\":{\"id\":\"62320\"}},\"id\":\"62316\",\"type\":\"BoxZoomTool\"},{\"attributes\":{},\"id\":\"62317\",\"type\":\"SaveTool\"},{\"attributes\":{},\"id\":\"62318\",\"type\":\"ResetTool\"},{\"attributes\":{\"line_color\":\"#1f77b4\",\"line_width\":2,\"x\":{\"field\":\"x\"},\"y\":{\"field\":\"y\"}},\"id\":\"62329\",\"type\":\"Line\"},{\"attributes\":{\"bottom_units\":\"screen\",\"coordinates\":null,\"fill_alpha\":0.5,\"fill_color\":\"lightgrey\",\"group\":null,\"left_units\":\"screen\",\"level\":\"overlay\",\"line_alpha\":1.0,\"line_color\":\"black\",\"line_dash\":[4,4],\"line_width\":2,\"right_units\":\"screen\",\"syncable\":false,\"top_units\":\"screen\"},\"id\":\"62320\",\"type\":\"BoxAnnotation\"},{\"attributes\":{\"data\":{\"x\":[1,2,3,4,5,6,7],\"y\":[6,7,2,4,5,10,4]},\"selected\":{\"id\":\"62342\"},\"selection_policy\":{\"id\":\"62341\"}},\"id\":\"62328\",\"type\":\"ColumnDataSource\"},{\"attributes\":{},\"id\":\"62341\",\"type\":\"UnionRenderers\"},{\"attributes\":{\"line_alpha\":0.1,\"line_color\":\"#1f77b4\",\"line_width\":2,\"x\":{\"field\":\"x\"},\"y\":{\"field\":\"y\"}},\"id\":\"62330\",\"type\":\"Line\"},{\"attributes\":{},\"id\":\"62298\",\"type\":\"DataRange1d\"},{\"attributes\":{\"coordinates\":null,\"group\":null,\"items\":[{\"id\":\"62345\"}]},\"id\":\"62344\",\"type\":\"Legend\"},{\"attributes\":{\"coordinates\":null,\"data_source\":{\"id\":\"62328\"},\"glyph\":{\"id\":\"62329\"},\"group\":null,\"hover_glyph\":null,\"muted_glyph\":{\"id\":\"62331\"},\"nonselection_glyph\":{\"id\":\"62330\"},\"view\":{\"id\":\"62333\"}},\"id\":\"62332\",\"type\":\"GlyphRenderer\"},{\"attributes\":{},\"id\":\"62342\",\"type\":\"Selection\"},{\"attributes\":{\"line_alpha\":0.2,\"line_color\":\"#1f77b4\",\"line_width\":2,\"x\":{\"field\":\"x\"},\"y\":{\"field\":\"y\"}},\"id\":\"62331\",\"type\":\"Line\"},{\"attributes\":{\"label\":{\"value\":\"Temp.\"},\"renderers\":[{\"id\":\"62332\"}]},\"id\":\"62345\",\"type\":\"LegendItem\"},{\"attributes\":{},\"id\":\"62302\",\"type\":\"LinearScale\"},{\"attributes\":{\"axis\":{\"id\":\"62310\"},\"coordinates\":null,\"dimension\":1,\"group\":null,\"ticker\":null},\"id\":\"62313\",\"type\":\"Grid\"},{\"attributes\":{},\"id\":\"62300\",\"type\":\"DataRange1d\"},{\"attributes\":{\"tools\":[{\"id\":\"62314\"},{\"id\":\"62315\"},{\"id\":\"62316\"},{\"id\":\"62317\"},{\"id\":\"62318\"},{\"id\":\"62319\"}]},\"id\":\"62321\",\"type\":\"Toolbar\"}],\"root_ids\":[\"62295\"]},\"title\":\"Bokeh Application\",\"version\":\"2.4.3\"}};\n",
       "  const render_items = [{\"docid\":\"c8e12faf-f2de-4e20-ba3a-aead497c5e83\",\"root_ids\":[\"62295\"],\"roots\":{\"62295\":\"56c20777-09f7-4c90-805c-3f847ad18b7e\"}}];\n",
       "  root.Bokeh.embed.embed_items_notebook(docs_json, render_items);\n",
       "  }\n",
       "  if (root.Bokeh !== undefined) {\n",
       "    embed_document(root);\n",
       "  } else {\n",
       "    let attempts = 0;\n",
       "    const timer = setInterval(function(root) {\n",
       "      if (root.Bokeh !== undefined) {\n",
       "        clearInterval(timer);\n",
       "        embed_document(root);\n",
       "      } else {\n",
       "        attempts++;\n",
       "        if (attempts > 100) {\n",
       "          clearInterval(timer);\n",
       "          console.log(\"Bokeh: ERROR: Unable to run BokehJS code because BokehJS library is missing\");\n",
       "        }\n",
       "      }\n",
       "    }, 10, root)\n",
       "  }\n",
       "})(window);"
      ],
      "application/vnd.bokehjs_exec.v0+json": ""
     },
     "metadata": {
      "application/vnd.bokehjs_exec.v0+json": {
       "id": "62295"
      }
     },
     "output_type": "display_data"
    }
   ],
   "source": [
    "# prepare some demo data\n",
    "x = [1, 2, 3, 4, 5, 6, 7]\n",
    "y = [6, 7, 2, 4, 5, 10, 4]\n",
    "\n",
    "# create a new plot with a title and axis labels\n",
    "p = figure(title=\"line example\", x_axis_label='x', y_axis_label='y', width=500, height=400)\n",
    "\n",
    "# add a line renderer with legend and line thickness\n",
    "p.line(x, y, legend=\"Temp.\", line_width=2)\n",
    "\n",
    "# show the results\n",
    "show(p)"
   ]
  },
  {
   "cell_type": "markdown",
   "metadata": {},
   "source": [
    "### Twin Axes"
   ]
  },
  {
   "cell_type": "code",
   "execution_count": 142,
   "metadata": {},
   "outputs": [
    {
     "data": {
      "text/html": [
       "\n",
       "  <div class=\"bk-root\" id=\"8ba9a46b-7765-4581-aff5-27e400aeb4d1\" data-root-id=\"63304\"></div>\n"
      ]
     },
     "metadata": {},
     "output_type": "display_data"
    },
    {
     "data": {
      "application/javascript": [
       "(function(root) {\n",
       "  function embed_document(root) {\n",
       "  const docs_json = {\"85195202-f9ba-4d61-b2ee-83a97cc05ff3\":{\"defs\":[],\"roots\":{\"references\":[{\"attributes\":{\"below\":[{\"id\":\"63313\"}],\"center\":[{\"id\":\"63316\"},{\"id\":\"63320\"}],\"extra_y_ranges\":{\"foo\":{\"id\":\"63341\"}},\"left\":[{\"id\":\"63317\"},{\"id\":\"63348\"}],\"renderers\":[{\"id\":\"63339\"},{\"id\":\"63346\"}],\"title\":{\"id\":\"64257\"},\"toolbar\":{\"id\":\"63328\"},\"x_range\":{\"id\":\"63305\"},\"x_scale\":{\"id\":\"63309\"},\"y_range\":{\"id\":\"63307\"},\"y_scale\":{\"id\":\"63311\"}},\"id\":\"63304\",\"subtype\":\"Figure\",\"type\":\"Plot\"},{\"attributes\":{},\"id\":\"64267\",\"type\":\"AllLabels\"},{\"attributes\":{},\"id\":\"64268\",\"type\":\"UnionRenderers\"},{\"attributes\":{},\"id\":\"64266\",\"type\":\"BasicTickFormatter\"},{\"attributes\":{},\"id\":\"64269\",\"type\":\"Selection\"},{\"attributes\":{\"coordinates\":null,\"group\":null},\"id\":\"64257\",\"type\":\"Title\"},{\"attributes\":{\"end\":100},\"id\":\"63341\",\"type\":\"Range1d\"},{\"attributes\":{\"coordinates\":null,\"data_source\":{\"id\":\"63335\"},\"glyph\":{\"id\":\"63336\"},\"group\":null,\"hover_glyph\":null,\"muted_glyph\":{\"id\":\"63338\"},\"nonselection_glyph\":{\"id\":\"63337\"},\"view\":{\"id\":\"63340\"}},\"id\":\"63339\",\"type\":\"GlyphRenderer\"},{\"attributes\":{\"fill_color\":{\"value\":\"blue\"},\"hatch_color\":{\"value\":\"blue\"},\"line_color\":{\"value\":\"blue\"},\"x\":{\"field\":\"x\"},\"y\":{\"field\":\"y\"}},\"id\":\"63343\",\"type\":\"Circle\"},{\"attributes\":{\"end\":6.5,\"start\":-6.5},\"id\":\"63305\",\"type\":\"Range1d\"},{\"attributes\":{\"bottom_units\":\"screen\",\"coordinates\":null,\"fill_alpha\":0.5,\"fill_color\":\"lightgrey\",\"group\":null,\"left_units\":\"screen\",\"level\":\"overlay\",\"line_alpha\":1.0,\"line_color\":\"black\",\"line_dash\":[4,4],\"line_width\":2,\"right_units\":\"screen\",\"syncable\":false,\"top_units\":\"screen\"},\"id\":\"63327\",\"type\":\"BoxAnnotation\"},{\"attributes\":{\"coordinates\":null,\"formatter\":{\"id\":\"64263\"},\"group\":null,\"major_label_policy\":{\"id\":\"64264\"},\"ticker\":{\"id\":\"64262\"},\"y_range_name\":\"foo\"},\"id\":\"63348\",\"type\":\"LinearAxis\"},{\"attributes\":{\"end\":1.1,\"start\":-1.1},\"id\":\"63307\",\"type\":\"Range1d\"},{\"attributes\":{\"fill_color\":{\"value\":\"red\"},\"hatch_color\":{\"value\":\"red\"},\"line_color\":{\"value\":\"red\"},\"x\":{\"field\":\"x\"},\"y\":{\"field\":\"y\"}},\"id\":\"63336\",\"type\":\"Circle\"},{\"attributes\":{\"data\":{\"x\":{\"__ndarray__\":\"GC1EVPshGcCyxt3tlLsYwExgd4cuVRjA5vkQIcjuF8CAk6q6YYgXwBotRFT7IRfAtMbd7ZS7FsBOYHeHLlUWwOj5ECHI7hXAgpOqumGIFcAcLURU+yEVwLbG3e2UuxTAUGB3hy5VFMDq+RAhyO4TwISTqrphiBPAHi1EVPshE8C4xt3tlLsSwFJgd4cuVRLA7PkQIcjuEcCGk6q6YYgRwCAtRFT7IRHAusbd7ZS7EMBUYHeHLlUQwNzzIUKQ3Q/AECdVdcMQD8BEWoio9kMOwHiNu9spdw3ArMDuDl2qDMDg8yFCkN0LwBQnVXXDEAvASFqIqPZDCsB8jbvbKXcJwLDA7g5dqgjA5PMhQpDdB8AYJ1V1wxAHwExaiKj2QwbAgI272yl3BcC0wO4OXaoEwOjzIUKQ3QPAHCdVdcMQA8BQWoio9kMCwISNu9spdwHAuMDuDl2qAMDY50OEILv/v0BOquqGIf6/qLQQUe2H/L8QG3e3U+76v3iB3R26VPm/4OdDhCC7979ITqrqhiH2v7C0EFHth/S/GBt3t1Pu8r+Agd0dulTxv9DPhwhBdu+/oJxU1Q1D7L9waSGi2g/pv0A27m6n3OW/EAO7O3Sp4r/Anw8Rguzev2A5qaobhti/ANNCRLUf0r9A2bi7nXLHvwAZ2N2hS7W/AAIG7943kT8AGltVkee9P8BZeneVwMs/QJMjIrFG1D+g+YmIF63aPwAwePe+ieA/MGOrKvK84z9glt5dJfDmP5DJEZFYI+o/wPxExItW7T/4F7x730TwP5CxVRV53vE/KEvvrhJ48z/A5IhIrBH1P1h+IuJFq/Y/8Be8e99E+D+IsVUVed75PyBL764SePs/uOSISKwR/T9QfiLiRav+P/QL3r1vIgBAwNiqijzvAECMpXdXCbwBQFhyRCTWiAJAJD8R8aJVA0DwC969byIEQLzYqoo87wRAiKV3Vwm8BUBUckQk1ogGQCA/EfGiVQdA7AvevW8iCEC42KqKPO8IQISld1cJvAlAUHJEJNaICkAcPxHxolULQOgL3r1vIgxAtNiqijzvDECApXdXCbwNQExyRCTWiA5AGD8R8aJVD0DyBe/eNxEQQFhsVUWedxBAvtK7qwTeEEAkOSISa0QRQIqfiHjRqhFA8AXv3jcREkBWbFVFnncSQLzSu6sE3hJAIjkiEmtEE0CIn4h40aoTQO4F7943ERRAVGxVRZ53FEC60rurBN4UQCA5IhJrRBVAhp+IeNGqFUDsBe/eNxEWQFJsVUWedxZAuNK7qwTeFkAeOSISa0QXQISfiHjRqhdA6gXv3jcRGEBQbFVFnncYQLbSu6sE3hhA\",\"dtype\":\"float64\",\"order\":\"little\",\"shape\":[126]},\"y\":{\"__ndarray__\":\"AAAAAAAAAACamZmZmZnpP5qZmZmZmfk/NDMzMzMzA0CamZmZmZkJQAAAAAAAABBANDMzMzMzE0BnZmZmZmYWQJqZmZmZmRlAzczMzMzMHEAAAAAAAAAgQJqZmZmZmSFANDMzMzMzI0DNzMzMzMwkQGdmZmZmZiZAAAAAAAAAKECamZmZmZkpQDQzMzMzMytAzczMzMzMLEBnZmZmZmYuQAAAAAAAADBAzczMzMzMMECamZmZmZkxQGdmZmZmZjJANDMzMzMzM0AAAAAAAAA0QM3MzMzMzDRAmpmZmZmZNUBnZmZmZmY2QDQzMzMzMzdAAAAAAAAAOEDNzMzMzMw4QJqZmZmZmTlAZ2ZmZmZmOkA0MzMzMzM7QAAAAAAAADxAzczMzMzMPECamZmZmZk9QGdmZmZmZj5ANDMzMzMzP0AAAAAAAABAQGdmZmZmZkBAzczMzMzMQEAzMzMzMzNBQJqZmZmZmUFAAAAAAAAAQkBnZmZmZmZCQM3MzMzMzEJANDMzMzMzQ0CamZmZmZlDQAAAAAAAAERAZ2ZmZmZmREDNzMzMzMxEQDQzMzMzM0VAmpmZmZmZRUAAAAAAAABGQGdmZmZmZkZAzczMzMzMRkA0MzMzMzNHQJqZmZmZmUdAAAAAAAAASEBnZmZmZmZIQM3MzMzMzEhANDMzMzMzSUCamZmZmZlJQAAAAAAAAEpAZ2ZmZmZmSkDNzMzMzMxKQDQzMzMzM0tAmpmZmZmZS0AAAAAAAABMQGdmZmZmZkxAzczMzMzMTEA0MzMzMzNNQJqZmZmZmU1AAAAAAAAATkBnZmZmZmZOQM3MzMzMzE5ANDMzMzMzT0CamZmZmZlPQAAAAAAAAFBAMzMzMzMzUEBnZmZmZmZQQJqZmZmZmVBAzczMzMzMUEAAAAAAAABRQDMzMzMzM1FAZ2ZmZmZmUUCamZmZmZlRQM3MzMzMzFFAAAAAAAAAUkAzMzMzMzNSQGdmZmZmZlJAmpmZmZmZUkDNzMzMzMxSQAAAAAAAAFNANDMzMzMzU0BnZmZmZmZTQJqZmZmZmVNAzczMzMzMU0AAAAAAAABUQDQzMzMzM1RAZ2ZmZmZmVECamZmZmZlUQM3MzMzMzFRAAAAAAAAAVUA0MzMzMzNVQGdmZmZmZlVAmpmZmZmZVUDNzMzMzMxVQAAAAAAAAFZANDMzMzMzVkBnZmZmZmZWQJqZmZmZmVZAzczMzMzMVkAAAAAAAABXQDQzMzMzM1dAZ2ZmZmZmV0CamZmZmZlXQM3MzMzMzFdAAAAAAAAAWEA0MzMzMzNYQGdmZmZmZlhAmpmZmZmZWEDNzMzMzMxYQAAAAAAAAFlA\",\"dtype\":\"float64\",\"order\":\"little\",\"shape\":[126]}},\"selected\":{\"id\":\"64271\"},\"selection_policy\":{\"id\":\"64270\"}},\"id\":\"63342\",\"type\":\"ColumnDataSource\"},{\"attributes\":{},\"id\":\"64263\",\"type\":\"BasicTickFormatter\"},{\"attributes\":{\"coordinates\":null,\"formatter\":{\"id\":\"64260\"},\"group\":null,\"major_label_policy\":{\"id\":\"64261\"},\"ticker\":{\"id\":\"63318\"}},\"id\":\"63317\",\"type\":\"LinearAxis\"},{\"attributes\":{},\"id\":\"63311\",\"type\":\"LinearScale\"},{\"attributes\":{\"fill_alpha\":{\"value\":0.1},\"fill_color\":{\"value\":\"blue\"},\"hatch_alpha\":{\"value\":0.1},\"hatch_color\":{\"value\":\"blue\"},\"line_alpha\":{\"value\":0.1},\"line_color\":{\"value\":\"blue\"},\"x\":{\"field\":\"x\"},\"y\":{\"field\":\"y\"}},\"id\":\"63344\",\"type\":\"Circle\"},{\"attributes\":{},\"id\":\"63309\",\"type\":\"LinearScale\"},{\"attributes\":{\"fill_alpha\":{\"value\":0.1},\"fill_color\":{\"value\":\"red\"},\"hatch_alpha\":{\"value\":0.1},\"hatch_color\":{\"value\":\"red\"},\"line_alpha\":{\"value\":0.1},\"line_color\":{\"value\":\"red\"},\"x\":{\"field\":\"x\"},\"y\":{\"field\":\"y\"}},\"id\":\"63337\",\"type\":\"Circle\"},{\"attributes\":{\"coordinates\":null,\"formatter\":{\"id\":\"64266\"},\"group\":null,\"major_label_policy\":{\"id\":\"64267\"},\"ticker\":{\"id\":\"63314\"}},\"id\":\"63313\",\"type\":\"LinearAxis\"},{\"attributes\":{\"fill_alpha\":{\"value\":0.2},\"fill_color\":{\"value\":\"red\"},\"hatch_alpha\":{\"value\":0.2},\"hatch_color\":{\"value\":\"red\"},\"line_alpha\":{\"value\":0.2},\"line_color\":{\"value\":\"red\"},\"x\":{\"field\":\"x\"},\"y\":{\"field\":\"y\"}},\"id\":\"63338\",\"type\":\"Circle\"},{\"attributes\":{},\"id\":\"64261\",\"type\":\"AllLabels\"},{\"attributes\":{},\"id\":\"63314\",\"type\":\"BasicTicker\"},{\"attributes\":{\"data\":{\"x\":{\"__ndarray__\":\"GC1EVPshGcCyxt3tlLsYwExgd4cuVRjA5vkQIcjuF8CAk6q6YYgXwBotRFT7IRfAtMbd7ZS7FsBOYHeHLlUWwOj5ECHI7hXAgpOqumGIFcAcLURU+yEVwLbG3e2UuxTAUGB3hy5VFMDq+RAhyO4TwISTqrphiBPAHi1EVPshE8C4xt3tlLsSwFJgd4cuVRLA7PkQIcjuEcCGk6q6YYgRwCAtRFT7IRHAusbd7ZS7EMBUYHeHLlUQwNzzIUKQ3Q/AECdVdcMQD8BEWoio9kMOwHiNu9spdw3ArMDuDl2qDMDg8yFCkN0LwBQnVXXDEAvASFqIqPZDCsB8jbvbKXcJwLDA7g5dqgjA5PMhQpDdB8AYJ1V1wxAHwExaiKj2QwbAgI272yl3BcC0wO4OXaoEwOjzIUKQ3QPAHCdVdcMQA8BQWoio9kMCwISNu9spdwHAuMDuDl2qAMDY50OEILv/v0BOquqGIf6/qLQQUe2H/L8QG3e3U+76v3iB3R26VPm/4OdDhCC7979ITqrqhiH2v7C0EFHth/S/GBt3t1Pu8r+Agd0dulTxv9DPhwhBdu+/oJxU1Q1D7L9waSGi2g/pv0A27m6n3OW/EAO7O3Sp4r/Anw8Rguzev2A5qaobhti/ANNCRLUf0r9A2bi7nXLHvwAZ2N2hS7W/AAIG7943kT8AGltVkee9P8BZeneVwMs/QJMjIrFG1D+g+YmIF63aPwAwePe+ieA/MGOrKvK84z9glt5dJfDmP5DJEZFYI+o/wPxExItW7T/4F7x730TwP5CxVRV53vE/KEvvrhJ48z/A5IhIrBH1P1h+IuJFq/Y/8Be8e99E+D+IsVUVed75PyBL764SePs/uOSISKwR/T9QfiLiRav+P/QL3r1vIgBAwNiqijzvAECMpXdXCbwBQFhyRCTWiAJAJD8R8aJVA0DwC969byIEQLzYqoo87wRAiKV3Vwm8BUBUckQk1ogGQCA/EfGiVQdA7AvevW8iCEC42KqKPO8IQISld1cJvAlAUHJEJNaICkAcPxHxolULQOgL3r1vIgxAtNiqijzvDECApXdXCbwNQExyRCTWiA5AGD8R8aJVD0DyBe/eNxEQQFhsVUWedxBAvtK7qwTeEEAkOSISa0QRQIqfiHjRqhFA8AXv3jcREkBWbFVFnncSQLzSu6sE3hJAIjkiEmtEE0CIn4h40aoTQO4F7943ERRAVGxVRZ53FEC60rurBN4UQCA5IhJrRBVAhp+IeNGqFUDsBe/eNxEWQFJsVUWedxZAuNK7qwTeFkAeOSISa0QXQISfiHjRqhdA6gXv3jcRGEBQbFVFnncYQLbSu6sE3hhA\",\"dtype\":\"float64\",\"order\":\"little\",\"shape\":[126]},\"y\":{\"__ndarray__\":\"B1wUMyamsTwky4vLro65P6zSPSP/bck/Jbq6lc3p0j9XZyvpOuzYP9gFS3Tort4/S0GlF40R4j+pGUZpbp3kP7z+v8KU9OY/MKhdmAMR6T/eDAmPVO3qPyhjLUzFhOw/t1UaokPT7T9BHsX5d9XuP/vgRN/NiO8/iG0sm3rr7z/HQuDHgfzvP72YL9e3u+8//RW9gcIp7z9qOBofF0juP2C00er2GO0/HHPrP2mf6z8x16rZM9/pP1MvWC3R3Oc/0tHD9WSd5T/vys8NrybjPwGGoLv8fuA/p6ckJDFa2z9p5l0jcnDVPz8ySNa4n84/z9a2bTgQwj9JFpiCD0qlP9gm6Dk3462/9Qq3ygIxxL+gS/8QyVrQv1Jhun47c9a/JdHwQ0FS3L/dGi7savTgv0DA7P9WlOO/crMfLS4C5r9cHtzduTfov3DI4npTL+q/lhLQ3/Lj67/viQE6O1Htv8QoRTGGc+6/Y0DHPe1H77+p7F0TUczvv1HsNw9f/++/DT4MmpTg77/B6yJ2QHDvv2CZ4PWBr+6/9yLYHEag7b8lJbqyQkXsv5cSvFTvoeq/3gUyl3y66L/SsApOyZPmv0H2lhdWM+S/OMh6STef4b8a4Y7HCrzdv3u+C2SY7de/LaSwivHh0b9m/jPXGVHHv0bTvttYRbW/xSXLwqk3kT/JIzUvK9a9PxjIxkANics//AfpL0vw0z91hzWkD+nZP4cP6pqNn98/CxrYG5SC4j9hCW3CCAblP+5iZOG2U+c/hMjjJbpl6T/Mcx3cxjbrP44pBXs3wuw/3a38hhgE7j/R9xCtMvnuPzNU7vwSn+8/IbeALBH07z+1XzrVU/fvP6DPKKDSqO8/pbRJW1YJ7z+JM+n3dhruP8RhK3eX3uw/Jfgtz99Y6z+f2l/YNI3pP+WxtFcugOc/zaIuPws35T/F08pCpLfiP3g4I+RcCOA/mTEMNiZg2j8025+JG2zUPwSg1R2oh8w/qzXOvj7cvz+ZZ0Soul6ZPxMepJQaPbO/RLIVCFdQxr8Pn7GuhmTRv7Nrs+BkdNe/O7QgoURI3b9ITvP1nmjhv9zlVSmUAOS/XGXQmV9l5r9ZNdHU4ZDov+SMb++Nfeq/d0LwuHcm7L9QJSxSYIftv8TXognBnO6/SRtzYNRj779HhCYhndrvv+yTLnbr/++/NaAP81/T77/KpXWIbFXvv+6vwmBTh+6/2k8AqCNr7b+D929HtAPsv7RWM6KcVOq/762gZSti6L8bWsKEWzHmvw8RMHvHx+O/52bX95or4b9I9bkoBsfcv2FS64I67da/RcPLJ8rY0L9F3NCChDLFvyPcIcx4+rC/\",\"dtype\":\"float64\",\"order\":\"little\",\"shape\":[126]}},\"selected\":{\"id\":\"64269\"},\"selection_policy\":{\"id\":\"64268\"}},\"id\":\"63335\",\"type\":\"ColumnDataSource\"},{\"attributes\":{\"axis\":{\"id\":\"63313\"},\"coordinates\":null,\"group\":null,\"ticker\":null},\"id\":\"63316\",\"type\":\"Grid\"},{\"attributes\":{},\"id\":\"63325\",\"type\":\"ResetTool\"},{\"attributes\":{\"source\":{\"id\":\"63335\"}},\"id\":\"63340\",\"type\":\"CDSView\"},{\"attributes\":{},\"id\":\"63324\",\"type\":\"SaveTool\"},{\"attributes\":{\"axis\":{\"id\":\"63317\"},\"coordinates\":null,\"dimension\":1,\"group\":null,\"ticker\":null},\"id\":\"63320\",\"type\":\"Grid\"},{\"attributes\":{\"overlay\":{\"id\":\"63327\"}},\"id\":\"63323\",\"type\":\"BoxZoomTool\"},{\"attributes\":{},\"id\":\"63321\",\"type\":\"PanTool\"},{\"attributes\":{},\"id\":\"64264\",\"type\":\"AllLabels\"},{\"attributes\":{},\"id\":\"63318\",\"type\":\"BasicTicker\"},{\"attributes\":{\"tools\":[{\"id\":\"63321\"},{\"id\":\"63322\"},{\"id\":\"63323\"},{\"id\":\"63324\"},{\"id\":\"63325\"},{\"id\":\"63326\"}]},\"id\":\"63328\",\"type\":\"Toolbar\"},{\"attributes\":{},\"id\":\"64270\",\"type\":\"UnionRenderers\"},{\"attributes\":{},\"id\":\"64271\",\"type\":\"Selection\"},{\"attributes\":{},\"id\":\"63326\",\"type\":\"HelpTool\"},{\"attributes\":{},\"id\":\"64260\",\"type\":\"BasicTickFormatter\"},{\"attributes\":{\"coordinates\":null,\"data_source\":{\"id\":\"63342\"},\"glyph\":{\"id\":\"63343\"},\"group\":null,\"hover_glyph\":null,\"muted_glyph\":{\"id\":\"63345\"},\"nonselection_glyph\":{\"id\":\"63344\"},\"view\":{\"id\":\"63347\"},\"y_range_name\":\"foo\"},\"id\":\"63346\",\"type\":\"GlyphRenderer\"},{\"attributes\":{},\"id\":\"63322\",\"type\":\"WheelZoomTool\"},{\"attributes\":{\"source\":{\"id\":\"63342\"}},\"id\":\"63347\",\"type\":\"CDSView\"},{\"attributes\":{},\"id\":\"64262\",\"type\":\"BasicTicker\"},{\"attributes\":{\"fill_alpha\":{\"value\":0.2},\"fill_color\":{\"value\":\"blue\"},\"hatch_alpha\":{\"value\":0.2},\"hatch_color\":{\"value\":\"blue\"},\"line_alpha\":{\"value\":0.2},\"line_color\":{\"value\":\"blue\"},\"x\":{\"field\":\"x\"},\"y\":{\"field\":\"y\"}},\"id\":\"63345\",\"type\":\"Circle\"}],\"root_ids\":[\"63304\"]},\"title\":\"Bokeh Application\",\"version\":\"2.4.3\"}};\n",
       "  const render_items = [{\"docid\":\"85195202-f9ba-4d61-b2ee-83a97cc05ff3\",\"root_ids\":[\"63304\"],\"roots\":{\"63304\":\"8ba9a46b-7765-4581-aff5-27e400aeb4d1\"}}];\n",
       "  root.Bokeh.embed.embed_items_notebook(docs_json, render_items);\n",
       "  }\n",
       "  if (root.Bokeh !== undefined) {\n",
       "    embed_document(root);\n",
       "  } else {\n",
       "    let attempts = 0;\n",
       "    const timer = setInterval(function(root) {\n",
       "      if (root.Bokeh !== undefined) {\n",
       "        clearInterval(timer);\n",
       "        embed_document(root);\n",
       "      } else {\n",
       "        attempts++;\n",
       "        if (attempts > 100) {\n",
       "          clearInterval(timer);\n",
       "          console.log(\"Bokeh: ERROR: Unable to run BokehJS code because BokehJS library is missing\");\n",
       "        }\n",
       "      }\n",
       "    }, 10, root)\n",
       "  }\n",
       "})(window);"
      ],
      "application/vnd.bokehjs_exec.v0+json": ""
     },
     "metadata": {
      "application/vnd.bokehjs_exec.v0+json": {
       "id": "63304"
      }
     },
     "output_type": "display_data"
    }
   ],
   "source": [
    "from numpy import pi, arange, sin, linspace\n",
    "from bokeh.models import LinearAxis, Range1d\n",
    "\n",
    "x = arange(-2*pi, 2*pi, 0.1)\n",
    "y = sin(x)\n",
    "y2 = linspace(0, 100, len(y))\n",
    "\n",
    "p = figure(x_range=(-6.5, 6.5), y_range=(-1.1, 1.1))\n",
    "\n",
    "p.circle(x, y, color=\"red\")\n",
    "\n",
    "p.extra_y_ranges = {\"foo\": Range1d(start=0, end=100)}\n",
    "p.circle(x, y2, color=\"blue\", y_range_name=\"foo\")\n",
    "p.add_layout(LinearAxis(y_range_name=\"foo\"), 'left')\n",
    "\n",
    "show(p)"
   ]
  },
  {
   "cell_type": "markdown",
   "metadata": {},
   "source": [
    "The basic steps to creating plots with the [bokeh.plotting](http://bokeh.pydata.org/en/latest/docs/reference/plotting.html#bokeh-plotting) interface are:\n",
    "\n",
    " - Prepare some data (in this case plain python lists).\n",
    " - Tell Bokeh where to generate output (in this case using `output_notebook()`).\n",
    " - Call `figure()` to create a plot with some overall options like title, tools and axes labels.\n",
    " - Add renderers (in this case, `Figure.line`) for our data, with visual customizations like colors, legends and widths  to the plot.\n",
    " - Ask Bokeh to `show()` or `save()` the results.\n",
    "\n",
    "Steps three and four can be repeated to create more than one plot, as shown in some of the examples below.\n",
    "\n",
    "The [bokeh.plotting](http://bokeh.pydata.org/en/latest/docs/reference/plotting.html#bokeh-plotting) interface is also quite handy if we need to customize the output a bit more by adding more data series, glyphs, logarithmic axis, and so on. It’s also possible to easily combine multiple glyphs together on one plot as shown below:"
   ]
  },
  {
   "cell_type": "code",
   "execution_count": 143,
   "metadata": {},
   "outputs": [
    {
     "data": {
      "text/html": [
       "\n",
       "  <div class=\"bk-root\" id=\"e8755088-cc7f-492e-9fa5-024f7bd483e0\" data-root-id=\"64353\"></div>\n"
      ]
     },
     "metadata": {},
     "output_type": "display_data"
    },
    {
     "data": {
      "application/javascript": [
       "(function(root) {\n",
       "  function embed_document(root) {\n",
       "  const docs_json = {\"30ccc7ad-7c01-4317-94e5-01bf9222e210\":{\"defs\":[],\"roots\":{\"references\":[{\"attributes\":{\"below\":[{\"id\":\"64364\"}],\"center\":[{\"id\":\"64367\"},{\"id\":\"64371\"},{\"id\":\"64398\"}],\"height\":350,\"left\":[{\"id\":\"64368\"}],\"renderers\":[{\"id\":\"64386\"},{\"id\":\"64404\"},{\"id\":\"64422\"},{\"id\":\"64443\"},{\"id\":\"64466\"},{\"id\":\"64490\"}],\"title\":{\"id\":\"64354\"},\"toolbar\":{\"id\":\"64377\"},\"width\":700,\"x_range\":{\"id\":\"64356\"},\"x_scale\":{\"id\":\"64360\"},\"y_range\":{\"id\":\"64358\"},\"y_scale\":{\"id\":\"64362\"}},\"id\":\"64353\",\"subtype\":\"Figure\",\"type\":\"Plot\"},{\"attributes\":{\"line_alpha\":0.2,\"line_color\":\"orange\",\"line_dash\":[4,4],\"x\":{\"field\":\"x\"},\"y\":{\"field\":\"y\"}},\"id\":\"64489\",\"type\":\"Line\"},{\"attributes\":{\"label\":{\"value\":\"y=x^2\"},\"renderers\":[{\"id\":\"64422\"}]},\"id\":\"64438\",\"type\":\"LegendItem\"},{\"attributes\":{\"source\":{\"id\":\"64462\"}},\"id\":\"64467\",\"type\":\"CDSView\"},{\"attributes\":{\"data\":{\"x\":[0.1,0.5,1.0,1.5,2.0,2.5,3.0],\"y\":[1.2589254117941673,3.1622776601683795,10.0,31.622776601683793,100.0,316.22776601683796,1000.0]},\"selected\":{\"id\":\"64484\"},\"selection_policy\":{\"id\":\"64483\"}},\"id\":\"64462\",\"type\":\"ColumnDataSource\"},{\"attributes\":{\"line_alpha\":0.1,\"line_color\":\"orange\",\"line_dash\":[4,4],\"x\":{\"field\":\"x\"},\"y\":{\"field\":\"y\"}},\"id\":\"64488\",\"type\":\"Line\"},{\"attributes\":{},\"id\":\"64365\",\"type\":\"BasicTicker\"},{\"attributes\":{\"line_alpha\":0.2,\"line_color\":\"red\",\"x\":{\"field\":\"x\"},\"y\":{\"field\":\"y\"}},\"id\":\"64442\",\"type\":\"Line\"},{\"attributes\":{},\"id\":\"64395\",\"type\":\"UnionRenderers\"},{\"attributes\":{\"axis\":{\"id\":\"64364\"},\"coordinates\":null,\"group\":null,\"ticker\":null},\"id\":\"64367\",\"type\":\"Grid\"},{\"attributes\":{},\"id\":\"64396\",\"type\":\"Selection\"},{\"attributes\":{},\"id\":\"64459\",\"type\":\"Selection\"},{\"attributes\":{\"axis\":{\"id\":\"64368\"},\"coordinates\":null,\"dimension\":1,\"group\":null,\"ticker\":null},\"id\":\"64371\",\"type\":\"Grid\"},{\"attributes\":{\"source\":{\"id\":\"64382\"}},\"id\":\"64387\",\"type\":\"CDSView\"},{\"attributes\":{\"line_alpha\":0.1,\"line_color\":\"#1f77b4\",\"x\":{\"field\":\"x\"},\"y\":{\"field\":\"y\"}},\"id\":\"64384\",\"type\":\"Line\"},{\"attributes\":{\"axis_label\":\"sections\",\"coordinates\":null,\"formatter\":{\"id\":\"64393\"},\"group\":null,\"major_label_policy\":{\"id\":\"64394\"},\"ticker\":{\"id\":\"64365\"}},\"id\":\"64364\",\"type\":\"LinearAxis\"},{\"attributes\":{\"coordinates\":null,\"data_source\":{\"id\":\"64400\"},\"glyph\":{\"id\":\"64401\"},\"group\":null,\"hover_glyph\":null,\"muted_glyph\":{\"id\":\"64403\"},\"nonselection_glyph\":{\"id\":\"64402\"},\"view\":{\"id\":\"64405\"}},\"id\":\"64404\",\"type\":\"GlyphRenderer\"},{\"attributes\":{\"line_color\":\"red\",\"x\":{\"field\":\"x\"},\"y\":{\"field\":\"y\"}},\"id\":\"64440\",\"type\":\"Line\"},{\"attributes\":{},\"id\":\"64362\",\"type\":\"LogScale\"},{\"attributes\":{\"fill_alpha\":{\"value\":0.2},\"fill_color\":{\"value\":\"white\"},\"hatch_alpha\":{\"value\":0.2},\"line_alpha\":{\"value\":0.2},\"line_color\":{\"value\":\"#1f77b4\"},\"size\":{\"value\":8},\"x\":{\"field\":\"x\"},\"y\":{\"field\":\"y\"}},\"id\":\"64403\",\"type\":\"Circle\"},{\"attributes\":{\"line_alpha\":0.1,\"line_color\":\"red\",\"x\":{\"field\":\"x\"},\"y\":{\"field\":\"y\"}},\"id\":\"64441\",\"type\":\"Line\"},{\"attributes\":{\"source\":{\"id\":\"64486\"}},\"id\":\"64491\",\"type\":\"CDSView\"},{\"attributes\":{\"coordinates\":null,\"data_source\":{\"id\":\"64462\"},\"glyph\":{\"id\":\"64463\"},\"group\":null,\"hover_glyph\":null,\"muted_glyph\":{\"id\":\"64465\"},\"nonselection_glyph\":{\"id\":\"64464\"},\"view\":{\"id\":\"64467\"}},\"id\":\"64466\",\"type\":\"GlyphRenderer\"},{\"attributes\":{},\"id\":\"64391\",\"type\":\"AllLabels\"},{\"attributes\":{},\"id\":\"64394\",\"type\":\"AllLabels\"},{\"attributes\":{\"data\":{\"x\":[0.1,0.5,1.0,1.5,2.0,2.5,3.0],\"y\":[0.010000000000000002,0.25,1.0,2.25,4.0,6.25,9.0]},\"selected\":{\"id\":\"64436\"},\"selection_policy\":{\"id\":\"64435\"}},\"id\":\"64418\",\"type\":\"ColumnDataSource\"},{\"attributes\":{\"label\":{\"value\":\"y=10^x\"},\"renderers\":[{\"id\":\"64443\"},{\"id\":\"64466\"}]},\"id\":\"64461\",\"type\":\"LegendItem\"},{\"attributes\":{\"axis_label\":\"particles\",\"coordinates\":null,\"formatter\":{\"id\":\"64390\"},\"group\":null,\"major_label_policy\":{\"id\":\"64391\"},\"ticker\":{\"id\":\"64369\"}},\"id\":\"64368\",\"type\":\"LogAxis\"},{\"attributes\":{},\"id\":\"64483\",\"type\":\"UnionRenderers\"},{\"attributes\":{\"num_minor_ticks\":10},\"id\":\"64369\",\"type\":\"LogTicker\"},{\"attributes\":{\"source\":{\"id\":\"64400\"}},\"id\":\"64405\",\"type\":\"CDSView\"},{\"attributes\":{},\"id\":\"64458\",\"type\":\"UnionRenderers\"},{\"attributes\":{},\"id\":\"64436\",\"type\":\"Selection\"},{\"attributes\":{\"data\":{\"x\":[0.1,0.5,1.0,1.5,2.0,2.5,3.0],\"y\":[1.2589254117941673,3.1622776601683795,10.0,31.622776601683793,100.0,316.22776601683796,1000.0]},\"selected\":{\"id\":\"64459\"},\"selection_policy\":{\"id\":\"64458\"}},\"id\":\"64439\",\"type\":\"ColumnDataSource\"},{\"attributes\":{},\"id\":\"64509\",\"type\":\"UnionRenderers\"},{\"attributes\":{\"bottom_units\":\"screen\",\"coordinates\":null,\"fill_alpha\":0.5,\"fill_color\":\"lightgrey\",\"group\":null,\"left_units\":\"screen\",\"level\":\"overlay\",\"line_alpha\":1.0,\"line_color\":\"black\",\"line_dash\":[4,4],\"line_width\":2,\"right_units\":\"screen\",\"syncable\":false,\"top_units\":\"screen\"},\"id\":\"64376\",\"type\":\"BoxAnnotation\"},{\"attributes\":{\"coordinates\":null,\"data_source\":{\"id\":\"64418\"},\"glyph\":{\"id\":\"64419\"},\"group\":null,\"hover_glyph\":null,\"muted_glyph\":{\"id\":\"64421\"},\"nonselection_glyph\":{\"id\":\"64420\"},\"view\":{\"id\":\"64423\"}},\"id\":\"64422\",\"type\":\"GlyphRenderer\"},{\"attributes\":{},\"id\":\"64393\",\"type\":\"BasicTickFormatter\"},{\"attributes\":{\"fill_alpha\":{\"value\":0.1},\"fill_color\":{\"value\":\"white\"},\"hatch_alpha\":{\"value\":0.1},\"line_alpha\":{\"value\":0.1},\"line_color\":{\"value\":\"#1f77b4\"},\"size\":{\"value\":8},\"x\":{\"field\":\"x\"},\"y\":{\"field\":\"y\"}},\"id\":\"64402\",\"type\":\"Circle\"},{\"attributes\":{\"ticker\":null},\"id\":\"64390\",\"type\":\"LogTickFormatter\"},{\"attributes\":{},\"id\":\"64435\",\"type\":\"UnionRenderers\"},{\"attributes\":{\"coordinates\":null,\"data_source\":{\"id\":\"64439\"},\"glyph\":{\"id\":\"64440\"},\"group\":null,\"hover_glyph\":null,\"muted_glyph\":{\"id\":\"64442\"},\"nonselection_glyph\":{\"id\":\"64441\"},\"view\":{\"id\":\"64444\"}},\"id\":\"64443\",\"type\":\"GlyphRenderer\"},{\"attributes\":{\"source\":{\"id\":\"64418\"}},\"id\":\"64423\",\"type\":\"CDSView\"},{\"attributes\":{},\"id\":\"64484\",\"type\":\"Selection\"},{\"attributes\":{},\"id\":\"64415\",\"type\":\"UnionRenderers\"},{\"attributes\":{},\"id\":\"64510\",\"type\":\"Selection\"},{\"attributes\":{},\"id\":\"64416\",\"type\":\"Selection\"},{\"attributes\":{\"label\":{\"value\":\"y=10^x^2\"},\"renderers\":[{\"id\":\"64490\"}]},\"id\":\"64512\",\"type\":\"LegendItem\"},{\"attributes\":{\"fill_alpha\":{\"value\":0.2},\"fill_color\":{\"value\":\"red\"},\"hatch_alpha\":{\"value\":0.2},\"line_alpha\":{\"value\":0.2},\"line_color\":{\"value\":\"red\"},\"size\":{\"value\":6},\"x\":{\"field\":\"x\"},\"y\":{\"field\":\"y\"}},\"id\":\"64465\",\"type\":\"Circle\"},{\"attributes\":{\"tools\":[{\"id\":\"64372\"},{\"id\":\"64373\"},{\"id\":\"64374\"},{\"id\":\"64375\"}]},\"id\":\"64377\",\"type\":\"Toolbar\"},{\"attributes\":{\"line_color\":\"#1f77b4\",\"line_width\":3,\"x\":{\"field\":\"x\"},\"y\":{\"field\":\"y\"}},\"id\":\"64419\",\"type\":\"Line\"},{\"attributes\":{},\"id\":\"64356\",\"type\":\"DataRange1d\"},{\"attributes\":{},\"id\":\"64375\",\"type\":\"SaveTool\"},{\"attributes\":{},\"id\":\"64374\",\"type\":\"ResetTool\"},{\"attributes\":{},\"id\":\"64372\",\"type\":\"PanTool\"},{\"attributes\":{\"coordinates\":null,\"group\":null,\"text\":\"log axis example\"},\"id\":\"64354\",\"type\":\"Title\"},{\"attributes\":{\"overlay\":{\"id\":\"64376\"}},\"id\":\"64373\",\"type\":\"BoxZoomTool\"},{\"attributes\":{\"line_alpha\":0.2,\"line_color\":\"#1f77b4\",\"x\":{\"field\":\"x\"},\"y\":{\"field\":\"y\"}},\"id\":\"64385\",\"type\":\"Line\"},{\"attributes\":{},\"id\":\"64360\",\"type\":\"LinearScale\"},{\"attributes\":{\"label\":{\"value\":\"y=x\"},\"renderers\":[{\"id\":\"64386\"},{\"id\":\"64404\"}]},\"id\":\"64399\",\"type\":\"LegendItem\"},{\"attributes\":{\"data\":{\"x\":[0.1,0.5,1.0,1.5,2.0,2.5,3.0],\"y\":[0.1,0.5,1.0,1.5,2.0,2.5,3.0]},\"selected\":{\"id\":\"64416\"},\"selection_policy\":{\"id\":\"64415\"}},\"id\":\"64400\",\"type\":\"ColumnDataSource\"},{\"attributes\":{\"data\":{\"x\":[0.1,0.5,1.0,1.5,2.0,2.5,3.0],\"y\":[1.023292992280754,1.7782794100389228,10.0,177.82794100389228,10000.0,1778279.410038923,1000000000.0]},\"selected\":{\"id\":\"64510\"},\"selection_policy\":{\"id\":\"64509\"}},\"id\":\"64486\",\"type\":\"ColumnDataSource\"},{\"attributes\":{\"data\":{\"x\":[0.1,0.5,1.0,1.5,2.0,2.5,3.0],\"y\":[0.1,0.5,1.0,1.5,2.0,2.5,3.0]},\"selected\":{\"id\":\"64396\"},\"selection_policy\":{\"id\":\"64395\"}},\"id\":\"64382\",\"type\":\"ColumnDataSource\"},{\"attributes\":{\"line_alpha\":0.1,\"line_color\":\"#1f77b4\",\"line_width\":3,\"x\":{\"field\":\"x\"},\"y\":{\"field\":\"y\"}},\"id\":\"64420\",\"type\":\"Line\"},{\"attributes\":{\"line_alpha\":0.2,\"line_color\":\"#1f77b4\",\"line_width\":3,\"x\":{\"field\":\"x\"},\"y\":{\"field\":\"y\"}},\"id\":\"64421\",\"type\":\"Line\"},{\"attributes\":{\"line_color\":\"#1f77b4\",\"x\":{\"field\":\"x\"},\"y\":{\"field\":\"y\"}},\"id\":\"64383\",\"type\":\"Line\"},{\"attributes\":{},\"id\":\"64358\",\"type\":\"DataRange1d\"},{\"attributes\":{\"source\":{\"id\":\"64439\"}},\"id\":\"64444\",\"type\":\"CDSView\"},{\"attributes\":{\"coordinates\":null,\"data_source\":{\"id\":\"64382\"},\"glyph\":{\"id\":\"64383\"},\"group\":null,\"hover_glyph\":null,\"muted_glyph\":{\"id\":\"64385\"},\"nonselection_glyph\":{\"id\":\"64384\"},\"view\":{\"id\":\"64387\"}},\"id\":\"64386\",\"type\":\"GlyphRenderer\"},{\"attributes\":{\"line_color\":\"orange\",\"line_dash\":[4,4],\"x\":{\"field\":\"x\"},\"y\":{\"field\":\"y\"}},\"id\":\"64487\",\"type\":\"Line\"},{\"attributes\":{\"coordinates\":null,\"data_source\":{\"id\":\"64486\"},\"glyph\":{\"id\":\"64487\"},\"group\":null,\"hover_glyph\":null,\"muted_glyph\":{\"id\":\"64489\"},\"nonselection_glyph\":{\"id\":\"64488\"},\"view\":{\"id\":\"64491\"}},\"id\":\"64490\",\"type\":\"GlyphRenderer\"},{\"attributes\":{\"fill_color\":{\"value\":\"white\"},\"line_color\":{\"value\":\"#1f77b4\"},\"size\":{\"value\":8},\"x\":{\"field\":\"x\"},\"y\":{\"field\":\"y\"}},\"id\":\"64401\",\"type\":\"Circle\"},{\"attributes\":{\"fill_color\":{\"value\":\"red\"},\"line_color\":{\"value\":\"red\"},\"size\":{\"value\":6},\"x\":{\"field\":\"x\"},\"y\":{\"field\":\"y\"}},\"id\":\"64463\",\"type\":\"Circle\"},{\"attributes\":{\"fill_alpha\":{\"value\":0.1},\"fill_color\":{\"value\":\"red\"},\"hatch_alpha\":{\"value\":0.1},\"line_alpha\":{\"value\":0.1},\"line_color\":{\"value\":\"red\"},\"size\":{\"value\":6},\"x\":{\"field\":\"x\"},\"y\":{\"field\":\"y\"}},\"id\":\"64464\",\"type\":\"Circle\"},{\"attributes\":{\"coordinates\":null,\"group\":null,\"items\":[{\"id\":\"64399\"},{\"id\":\"64438\"},{\"id\":\"64461\"},{\"id\":\"64512\"}]},\"id\":\"64398\",\"type\":\"Legend\"}],\"root_ids\":[\"64353\"]},\"title\":\"Bokeh Application\",\"version\":\"2.4.3\"}};\n",
       "  const render_items = [{\"docid\":\"30ccc7ad-7c01-4317-94e5-01bf9222e210\",\"root_ids\":[\"64353\"],\"roots\":{\"64353\":\"e8755088-cc7f-492e-9fa5-024f7bd483e0\"}}];\n",
       "  root.Bokeh.embed.embed_items_notebook(docs_json, render_items);\n",
       "  }\n",
       "  if (root.Bokeh !== undefined) {\n",
       "    embed_document(root);\n",
       "  } else {\n",
       "    let attempts = 0;\n",
       "    const timer = setInterval(function(root) {\n",
       "      if (root.Bokeh !== undefined) {\n",
       "        clearInterval(timer);\n",
       "        embed_document(root);\n",
       "      } else {\n",
       "        attempts++;\n",
       "        if (attempts > 100) {\n",
       "          clearInterval(timer);\n",
       "          console.log(\"Bokeh: ERROR: Unable to run BokehJS code because BokehJS library is missing\");\n",
       "        }\n",
       "      }\n",
       "    }, 10, root)\n",
       "  }\n",
       "})(window);"
      ],
      "application/vnd.bokehjs_exec.v0+json": ""
     },
     "metadata": {
      "application/vnd.bokehjs_exec.v0+json": {
       "id": "64353"
      }
     },
     "output_type": "display_data"
    }
   ],
   "source": [
    "# prepare some data\n",
    "x = [0.1, 0.5, 1.0, 1.5, 2.0, 2.5, 3.0]\n",
    "y0 = [i**2 for i in x]\n",
    "y1 = [10**i for i in x]\n",
    "y2 = [10**(i**2) for i in x]\n",
    "\n",
    "# create a new plot\n",
    "p = figure(\n",
    "    tools=\"pan,box_zoom,reset,save\",\n",
    "    y_axis_type=\"log\", title=\"log axis example\",\n",
    "    x_axis_label='sections', y_axis_label='particles',\n",
    "    width=700, height=350)\n",
    "\n",
    "\n",
    "# add some renderers\n",
    "p.line(x, x, legend_label=\"y=x\")\n",
    "p.circle(x, x, legend_label=\"y=x\", fill_color=\"white\", size=8)\n",
    "\n",
    "p.line(x, y0, legend_label=\"y=x^2\", line_width=3)\n",
    "\n",
    "p.line(x, y1, legend_label=\"y=10^x\", line_color=\"red\")\n",
    "p.circle(x, y1, legend_label=\"y=10^x\", fill_color=\"red\", line_color=\"red\", size=6)\n",
    "\n",
    "p.line(x, y2, legend_label=\"y=10^x^2\", line_color=\"orange\", line_dash=\"4 4\")\n",
    "\n",
    "# show the results\n",
    "show(p)"
   ]
  },
  {
   "cell_type": "markdown",
   "metadata": {},
   "source": [
    "From the 0.12.9 it's possible to define the click policy on the legend. So for example if you want to hide the series you click on the legend:"
   ]
  },
  {
   "cell_type": "code",
   "execution_count": 144,
   "metadata": {},
   "outputs": [],
   "source": [
    "p.legend.location = \"top_left\"\n",
    "p.legend.click_policy=\"hide\" # >mute< is the other option"
   ]
  },
  {
   "cell_type": "code",
   "execution_count": 145,
   "metadata": {},
   "outputs": [
    {
     "data": {
      "text/html": [
       "\n",
       "  <div class=\"bk-root\" id=\"4e432a56-d542-4dae-a1ac-0125ecaa59c1\" data-root-id=\"64353\"></div>\n"
      ]
     },
     "metadata": {},
     "output_type": "display_data"
    },
    {
     "data": {
      "application/javascript": [
       "(function(root) {\n",
       "  function embed_document(root) {\n",
       "  const docs_json = {\"6bab4230-3334-4a85-b14a-9327843accab\":{\"defs\":[],\"roots\":{\"references\":[{\"attributes\":{\"below\":[{\"id\":\"64364\"}],\"center\":[{\"id\":\"64367\"},{\"id\":\"64371\"},{\"id\":\"64398\"}],\"height\":350,\"left\":[{\"id\":\"64368\"}],\"renderers\":[{\"id\":\"64386\"},{\"id\":\"64404\"},{\"id\":\"64422\"},{\"id\":\"64443\"},{\"id\":\"64466\"},{\"id\":\"64490\"}],\"title\":{\"id\":\"64354\"},\"toolbar\":{\"id\":\"64377\"},\"width\":700,\"x_range\":{\"id\":\"64356\"},\"x_scale\":{\"id\":\"64360\"},\"y_range\":{\"id\":\"64358\"},\"y_scale\":{\"id\":\"64362\"}},\"id\":\"64353\",\"subtype\":\"Figure\",\"type\":\"Plot\"},{\"attributes\":{\"line_alpha\":0.2,\"line_color\":\"orange\",\"line_dash\":[4,4],\"x\":{\"field\":\"x\"},\"y\":{\"field\":\"y\"}},\"id\":\"64489\",\"type\":\"Line\"},{\"attributes\":{\"label\":{\"value\":\"y=x^2\"},\"renderers\":[{\"id\":\"64422\"}]},\"id\":\"64438\",\"type\":\"LegendItem\"},{\"attributes\":{\"source\":{\"id\":\"64462\"}},\"id\":\"64467\",\"type\":\"CDSView\"},{\"attributes\":{\"data\":{\"x\":[0.1,0.5,1.0,1.5,2.0,2.5,3.0],\"y\":[1.2589254117941673,3.1622776601683795,10.0,31.622776601683793,100.0,316.22776601683796,1000.0]},\"selected\":{\"id\":\"64484\"},\"selection_policy\":{\"id\":\"64483\"}},\"id\":\"64462\",\"type\":\"ColumnDataSource\"},{\"attributes\":{\"line_alpha\":0.1,\"line_color\":\"orange\",\"line_dash\":[4,4],\"x\":{\"field\":\"x\"},\"y\":{\"field\":\"y\"}},\"id\":\"64488\",\"type\":\"Line\"},{\"attributes\":{},\"id\":\"64365\",\"type\":\"BasicTicker\"},{\"attributes\":{\"line_alpha\":0.2,\"line_color\":\"red\",\"x\":{\"field\":\"x\"},\"y\":{\"field\":\"y\"}},\"id\":\"64442\",\"type\":\"Line\"},{\"attributes\":{},\"id\":\"64395\",\"type\":\"UnionRenderers\"},{\"attributes\":{\"axis\":{\"id\":\"64364\"},\"coordinates\":null,\"group\":null,\"ticker\":null},\"id\":\"64367\",\"type\":\"Grid\"},{\"attributes\":{},\"id\":\"64396\",\"type\":\"Selection\"},{\"attributes\":{},\"id\":\"64459\",\"type\":\"Selection\"},{\"attributes\":{\"axis\":{\"id\":\"64368\"},\"coordinates\":null,\"dimension\":1,\"group\":null,\"ticker\":null},\"id\":\"64371\",\"type\":\"Grid\"},{\"attributes\":{\"source\":{\"id\":\"64382\"}},\"id\":\"64387\",\"type\":\"CDSView\"},{\"attributes\":{\"line_alpha\":0.1,\"line_color\":\"#1f77b4\",\"x\":{\"field\":\"x\"},\"y\":{\"field\":\"y\"}},\"id\":\"64384\",\"type\":\"Line\"},{\"attributes\":{\"axis_label\":\"sections\",\"coordinates\":null,\"formatter\":{\"id\":\"64393\"},\"group\":null,\"major_label_policy\":{\"id\":\"64394\"},\"ticker\":{\"id\":\"64365\"}},\"id\":\"64364\",\"type\":\"LinearAxis\"},{\"attributes\":{\"coordinates\":null,\"data_source\":{\"id\":\"64400\"},\"glyph\":{\"id\":\"64401\"},\"group\":null,\"hover_glyph\":null,\"muted_glyph\":{\"id\":\"64403\"},\"nonselection_glyph\":{\"id\":\"64402\"},\"view\":{\"id\":\"64405\"}},\"id\":\"64404\",\"type\":\"GlyphRenderer\"},{\"attributes\":{\"line_color\":\"red\",\"x\":{\"field\":\"x\"},\"y\":{\"field\":\"y\"}},\"id\":\"64440\",\"type\":\"Line\"},{\"attributes\":{},\"id\":\"64362\",\"type\":\"LogScale\"},{\"attributes\":{\"fill_alpha\":{\"value\":0.2},\"fill_color\":{\"value\":\"white\"},\"hatch_alpha\":{\"value\":0.2},\"line_alpha\":{\"value\":0.2},\"line_color\":{\"value\":\"#1f77b4\"},\"size\":{\"value\":8},\"x\":{\"field\":\"x\"},\"y\":{\"field\":\"y\"}},\"id\":\"64403\",\"type\":\"Circle\"},{\"attributes\":{\"line_alpha\":0.1,\"line_color\":\"red\",\"x\":{\"field\":\"x\"},\"y\":{\"field\":\"y\"}},\"id\":\"64441\",\"type\":\"Line\"},{\"attributes\":{\"source\":{\"id\":\"64486\"}},\"id\":\"64491\",\"type\":\"CDSView\"},{\"attributes\":{\"coordinates\":null,\"data_source\":{\"id\":\"64462\"},\"glyph\":{\"id\":\"64463\"},\"group\":null,\"hover_glyph\":null,\"muted_glyph\":{\"id\":\"64465\"},\"nonselection_glyph\":{\"id\":\"64464\"},\"view\":{\"id\":\"64467\"}},\"id\":\"64466\",\"type\":\"GlyphRenderer\"},{\"attributes\":{},\"id\":\"64391\",\"type\":\"AllLabels\"},{\"attributes\":{},\"id\":\"64394\",\"type\":\"AllLabels\"},{\"attributes\":{\"data\":{\"x\":[0.1,0.5,1.0,1.5,2.0,2.5,3.0],\"y\":[0.010000000000000002,0.25,1.0,2.25,4.0,6.25,9.0]},\"selected\":{\"id\":\"64436\"},\"selection_policy\":{\"id\":\"64435\"}},\"id\":\"64418\",\"type\":\"ColumnDataSource\"},{\"attributes\":{\"label\":{\"value\":\"y=10^x\"},\"renderers\":[{\"id\":\"64443\"},{\"id\":\"64466\"}]},\"id\":\"64461\",\"type\":\"LegendItem\"},{\"attributes\":{\"axis_label\":\"particles\",\"coordinates\":null,\"formatter\":{\"id\":\"64390\"},\"group\":null,\"major_label_policy\":{\"id\":\"64391\"},\"ticker\":{\"id\":\"64369\"}},\"id\":\"64368\",\"type\":\"LogAxis\"},{\"attributes\":{},\"id\":\"64483\",\"type\":\"UnionRenderers\"},{\"attributes\":{\"num_minor_ticks\":10},\"id\":\"64369\",\"type\":\"LogTicker\"},{\"attributes\":{\"source\":{\"id\":\"64400\"}},\"id\":\"64405\",\"type\":\"CDSView\"},{\"attributes\":{},\"id\":\"64458\",\"type\":\"UnionRenderers\"},{\"attributes\":{},\"id\":\"64436\",\"type\":\"Selection\"},{\"attributes\":{\"data\":{\"x\":[0.1,0.5,1.0,1.5,2.0,2.5,3.0],\"y\":[1.2589254117941673,3.1622776601683795,10.0,31.622776601683793,100.0,316.22776601683796,1000.0]},\"selected\":{\"id\":\"64459\"},\"selection_policy\":{\"id\":\"64458\"}},\"id\":\"64439\",\"type\":\"ColumnDataSource\"},{\"attributes\":{},\"id\":\"64509\",\"type\":\"UnionRenderers\"},{\"attributes\":{\"bottom_units\":\"screen\",\"coordinates\":null,\"fill_alpha\":0.5,\"fill_color\":\"lightgrey\",\"group\":null,\"left_units\":\"screen\",\"level\":\"overlay\",\"line_alpha\":1.0,\"line_color\":\"black\",\"line_dash\":[4,4],\"line_width\":2,\"right_units\":\"screen\",\"syncable\":false,\"top_units\":\"screen\"},\"id\":\"64376\",\"type\":\"BoxAnnotation\"},{\"attributes\":{\"coordinates\":null,\"data_source\":{\"id\":\"64418\"},\"glyph\":{\"id\":\"64419\"},\"group\":null,\"hover_glyph\":null,\"muted_glyph\":{\"id\":\"64421\"},\"nonselection_glyph\":{\"id\":\"64420\"},\"view\":{\"id\":\"64423\"}},\"id\":\"64422\",\"type\":\"GlyphRenderer\"},{\"attributes\":{},\"id\":\"64393\",\"type\":\"BasicTickFormatter\"},{\"attributes\":{\"fill_alpha\":{\"value\":0.1},\"fill_color\":{\"value\":\"white\"},\"hatch_alpha\":{\"value\":0.1},\"line_alpha\":{\"value\":0.1},\"line_color\":{\"value\":\"#1f77b4\"},\"size\":{\"value\":8},\"x\":{\"field\":\"x\"},\"y\":{\"field\":\"y\"}},\"id\":\"64402\",\"type\":\"Circle\"},{\"attributes\":{\"ticker\":null},\"id\":\"64390\",\"type\":\"LogTickFormatter\"},{\"attributes\":{},\"id\":\"64435\",\"type\":\"UnionRenderers\"},{\"attributes\":{\"coordinates\":null,\"data_source\":{\"id\":\"64439\"},\"glyph\":{\"id\":\"64440\"},\"group\":null,\"hover_glyph\":null,\"muted_glyph\":{\"id\":\"64442\"},\"nonselection_glyph\":{\"id\":\"64441\"},\"view\":{\"id\":\"64444\"}},\"id\":\"64443\",\"type\":\"GlyphRenderer\"},{\"attributes\":{\"source\":{\"id\":\"64418\"}},\"id\":\"64423\",\"type\":\"CDSView\"},{\"attributes\":{},\"id\":\"64484\",\"type\":\"Selection\"},{\"attributes\":{},\"id\":\"64415\",\"type\":\"UnionRenderers\"},{\"attributes\":{},\"id\":\"64510\",\"type\":\"Selection\"},{\"attributes\":{},\"id\":\"64416\",\"type\":\"Selection\"},{\"attributes\":{\"label\":{\"value\":\"y=10^x^2\"},\"renderers\":[{\"id\":\"64490\"}]},\"id\":\"64512\",\"type\":\"LegendItem\"},{\"attributes\":{\"fill_alpha\":{\"value\":0.2},\"fill_color\":{\"value\":\"red\"},\"hatch_alpha\":{\"value\":0.2},\"line_alpha\":{\"value\":0.2},\"line_color\":{\"value\":\"red\"},\"size\":{\"value\":6},\"x\":{\"field\":\"x\"},\"y\":{\"field\":\"y\"}},\"id\":\"64465\",\"type\":\"Circle\"},{\"attributes\":{\"tools\":[{\"id\":\"64372\"},{\"id\":\"64373\"},{\"id\":\"64374\"},{\"id\":\"64375\"}]},\"id\":\"64377\",\"type\":\"Toolbar\"},{\"attributes\":{\"line_color\":\"#1f77b4\",\"line_width\":3,\"x\":{\"field\":\"x\"},\"y\":{\"field\":\"y\"}},\"id\":\"64419\",\"type\":\"Line\"},{\"attributes\":{},\"id\":\"64356\",\"type\":\"DataRange1d\"},{\"attributes\":{},\"id\":\"64375\",\"type\":\"SaveTool\"},{\"attributes\":{},\"id\":\"64374\",\"type\":\"ResetTool\"},{\"attributes\":{},\"id\":\"64372\",\"type\":\"PanTool\"},{\"attributes\":{\"coordinates\":null,\"group\":null,\"text\":\"log axis example\"},\"id\":\"64354\",\"type\":\"Title\"},{\"attributes\":{\"overlay\":{\"id\":\"64376\"}},\"id\":\"64373\",\"type\":\"BoxZoomTool\"},{\"attributes\":{\"line_alpha\":0.2,\"line_color\":\"#1f77b4\",\"x\":{\"field\":\"x\"},\"y\":{\"field\":\"y\"}},\"id\":\"64385\",\"type\":\"Line\"},{\"attributes\":{},\"id\":\"64360\",\"type\":\"LinearScale\"},{\"attributes\":{\"label\":{\"value\":\"y=x\"},\"renderers\":[{\"id\":\"64386\"},{\"id\":\"64404\"}]},\"id\":\"64399\",\"type\":\"LegendItem\"},{\"attributes\":{\"data\":{\"x\":[0.1,0.5,1.0,1.5,2.0,2.5,3.0],\"y\":[0.1,0.5,1.0,1.5,2.0,2.5,3.0]},\"selected\":{\"id\":\"64416\"},\"selection_policy\":{\"id\":\"64415\"}},\"id\":\"64400\",\"type\":\"ColumnDataSource\"},{\"attributes\":{\"data\":{\"x\":[0.1,0.5,1.0,1.5,2.0,2.5,3.0],\"y\":[1.023292992280754,1.7782794100389228,10.0,177.82794100389228,10000.0,1778279.410038923,1000000000.0]},\"selected\":{\"id\":\"64510\"},\"selection_policy\":{\"id\":\"64509\"}},\"id\":\"64486\",\"type\":\"ColumnDataSource\"},{\"attributes\":{\"data\":{\"x\":[0.1,0.5,1.0,1.5,2.0,2.5,3.0],\"y\":[0.1,0.5,1.0,1.5,2.0,2.5,3.0]},\"selected\":{\"id\":\"64396\"},\"selection_policy\":{\"id\":\"64395\"}},\"id\":\"64382\",\"type\":\"ColumnDataSource\"},{\"attributes\":{\"line_alpha\":0.1,\"line_color\":\"#1f77b4\",\"line_width\":3,\"x\":{\"field\":\"x\"},\"y\":{\"field\":\"y\"}},\"id\":\"64420\",\"type\":\"Line\"},{\"attributes\":{\"line_alpha\":0.2,\"line_color\":\"#1f77b4\",\"line_width\":3,\"x\":{\"field\":\"x\"},\"y\":{\"field\":\"y\"}},\"id\":\"64421\",\"type\":\"Line\"},{\"attributes\":{\"line_color\":\"#1f77b4\",\"x\":{\"field\":\"x\"},\"y\":{\"field\":\"y\"}},\"id\":\"64383\",\"type\":\"Line\"},{\"attributes\":{},\"id\":\"64358\",\"type\":\"DataRange1d\"},{\"attributes\":{\"source\":{\"id\":\"64439\"}},\"id\":\"64444\",\"type\":\"CDSView\"},{\"attributes\":{\"coordinates\":null,\"data_source\":{\"id\":\"64382\"},\"glyph\":{\"id\":\"64383\"},\"group\":null,\"hover_glyph\":null,\"muted_glyph\":{\"id\":\"64385\"},\"nonselection_glyph\":{\"id\":\"64384\"},\"view\":{\"id\":\"64387\"}},\"id\":\"64386\",\"type\":\"GlyphRenderer\"},{\"attributes\":{\"line_color\":\"orange\",\"line_dash\":[4,4],\"x\":{\"field\":\"x\"},\"y\":{\"field\":\"y\"}},\"id\":\"64487\",\"type\":\"Line\"},{\"attributes\":{\"coordinates\":null,\"data_source\":{\"id\":\"64486\"},\"glyph\":{\"id\":\"64487\"},\"group\":null,\"hover_glyph\":null,\"muted_glyph\":{\"id\":\"64489\"},\"nonselection_glyph\":{\"id\":\"64488\"},\"view\":{\"id\":\"64491\"}},\"id\":\"64490\",\"type\":\"GlyphRenderer\"},{\"attributes\":{\"fill_color\":{\"value\":\"white\"},\"line_color\":{\"value\":\"#1f77b4\"},\"size\":{\"value\":8},\"x\":{\"field\":\"x\"},\"y\":{\"field\":\"y\"}},\"id\":\"64401\",\"type\":\"Circle\"},{\"attributes\":{\"fill_color\":{\"value\":\"red\"},\"line_color\":{\"value\":\"red\"},\"size\":{\"value\":6},\"x\":{\"field\":\"x\"},\"y\":{\"field\":\"y\"}},\"id\":\"64463\",\"type\":\"Circle\"},{\"attributes\":{\"fill_alpha\":{\"value\":0.1},\"fill_color\":{\"value\":\"red\"},\"hatch_alpha\":{\"value\":0.1},\"line_alpha\":{\"value\":0.1},\"line_color\":{\"value\":\"red\"},\"size\":{\"value\":6},\"x\":{\"field\":\"x\"},\"y\":{\"field\":\"y\"}},\"id\":\"64464\",\"type\":\"Circle\"},{\"attributes\":{\"click_policy\":\"hide\",\"coordinates\":null,\"group\":null,\"items\":[{\"id\":\"64399\"},{\"id\":\"64438\"},{\"id\":\"64461\"},{\"id\":\"64512\"}],\"location\":\"top_left\"},\"id\":\"64398\",\"type\":\"Legend\"}],\"root_ids\":[\"64353\"]},\"title\":\"Bokeh Application\",\"version\":\"2.4.3\"}};\n",
       "  const render_items = [{\"docid\":\"6bab4230-3334-4a85-b14a-9327843accab\",\"root_ids\":[\"64353\"],\"roots\":{\"64353\":\"4e432a56-d542-4dae-a1ac-0125ecaa59c1\"}}];\n",
       "  root.Bokeh.embed.embed_items_notebook(docs_json, render_items);\n",
       "  }\n",
       "  if (root.Bokeh !== undefined) {\n",
       "    embed_document(root);\n",
       "  } else {\n",
       "    let attempts = 0;\n",
       "    const timer = setInterval(function(root) {\n",
       "      if (root.Bokeh !== undefined) {\n",
       "        clearInterval(timer);\n",
       "        embed_document(root);\n",
       "      } else {\n",
       "        attempts++;\n",
       "        if (attempts > 100) {\n",
       "          clearInterval(timer);\n",
       "          console.log(\"Bokeh: ERROR: Unable to run BokehJS code because BokehJS library is missing\");\n",
       "        }\n",
       "      }\n",
       "    }, 10, root)\n",
       "  }\n",
       "})(window);"
      ],
      "application/vnd.bokehjs_exec.v0+json": ""
     },
     "metadata": {
      "application/vnd.bokehjs_exec.v0+json": {
       "id": "64353"
      }
     },
     "output_type": "display_data"
    }
   ],
   "source": [
    "show(p)"
   ]
  },
  {
   "cell_type": "markdown",
   "metadata": {},
   "source": [
    "## Sample Data\n",
    "Some of the examples included in the Bokeh source make use of sample data files that are distributed separately. To download this data, execute the following commands at a Bash or Windows command prompt:\n",
    "\n",
    "```bash\n",
    "bokeh sampledata\n",
    "```"
   ]
  },
  {
   "cell_type": "markdown",
   "metadata": {},
   "source": [
    "## Concepts\n",
    "\n",
    "Let’s consider the plots above, and use them to help define some core concepts.\n",
    "\n",
    "### Plot\n",
    "\n",
    "Plots are a central concept in Bokeh. They are containers that hold all the various objects (renderers, guides, data, and tools) that comprise the final visualization that is presented to users. The bokeh.plotting interface provides a Figure class to help with assembling all the necessary objects, and a convenience function figure() for creating Figure objects.\n",
    "\n",
    "### Glyphs\n",
    "\n",
    "Glyphs are the basic visual marks that Bokeh can display. At the lowest level, there are glyph objects, such as Line. If you are using the low-level bokeh.models interface, it is your responsibility to create and coordinate all the various Bokeh objects, including glyph objects and their data sources. To make life easier, the bokeh.plotting interface exposes higher level glyph methods such as the Figure.line method used in the first example. The second example also adds in calls to Figure.circle to display circle and line glyphs together on the same plot. Besides lines and circles, Bokeh makes many additional glyphs and markers available.\n",
    "\n",
    "The visual appearance of a glyph is tied directly to the data values that are associated with the glyph’s various attributes. In the example above we see that positional attributes like x and y can be set to vectors of data. But glyphs also have some combination of Line Properties, Fill Properties, and Text Properties to control their appearance. All of these attributes can be set with “vectorized” values as well. We will show examples of this below.\n",
    "\n",
    "### Guides and Annotations\n",
    "\n",
    "Bokeh plots can also have other visual components that aid presentation or help the user make comparisons. These fall into two categories. Guides are visual aids that help users judge distances, angles, etc. These include grid lines or bands, axes (such as linear, log, or datetime) that may have ticks and tick labels as well. Annotations are visual aids that label or name parts of the plot. These include titles, legends, etc.\n",
    "\n",
    "### Ranges\n",
    "\n",
    "Ranges describe the data-space bounds of a plot. By default, plots generated with the bokeh.plotting interface come configured with DataRange1d objects that try to automatically set the plot bounds to encompass all the available data. But it is possible to supply explicit Range1d objects for fixed bounds. As a convenience these can also typically be spelled as 2-tuples or lists:\n",
    "\n",
    "`p = figure(x_range=[0,10], y_range=(10, 20))`\n",
    "\n",
    "\n",
    "### Resources\n",
    "\n",
    "To generate plots, the client library BokehJS JavaScript and CSS code must be loaded into the browser. By default, the output_file() function will load BokehJS from http://cdn.pydata.org . However, you can also configure Bokeh to generate static HTML files with BokehJS resources embedded directly inside, by passing the argument mode=\"inline\" to the output_file() function.\n",
    "\n",
    "### More examples¶\n",
    "\n",
    "Here are a few more examples to demonstrate other common tasks and use-cases with the bokeh.plotting interface.\n",
    "\n",
    "\n",
    "### Vectorized colors and sizes¶\n",
    "\n",
    "This example shows how it is possible to provide sequences of data values for glyph attributes like fill_color and radius. Other things to look out for in this example:\n",
    "- supplying an explicit list of tool names to figure()\n",
    "- fetching BokehJS resources from CDN using the mode argument\n",
    "- setting the x_range and y_range explicitly\n",
    "- turning a line off (by setting its value to None)\n",
    "- using NumPy arrays for supplying data"
   ]
  },
  {
   "cell_type": "code",
   "execution_count": 146,
   "metadata": {},
   "outputs": [
    {
     "data": {
      "text/html": [
       "\n",
       "  <div class=\"bk-root\" id=\"2a12e1bd-ed84-457e-9f28-15df519a7bf4\" data-root-id=\"65657\"></div>\n"
      ]
     },
     "metadata": {},
     "output_type": "display_data"
    },
    {
     "data": {
      "application/javascript": [
       "(function(root) {\n",
       "  function embed_document(root) {\n",
       "  const docs_json = {\"98e78661-d7d4-4414-8c23-74370b538bf5\":{\"defs\":[],\"roots\":{\"references\":[{\"attributes\":{\"below\":[{\"id\":\"65666\"}],\"center\":[{\"id\":\"65669\"},{\"id\":\"65673\"}],\"height\":500,\"left\":[{\"id\":\"65670\"}],\"renderers\":[{\"id\":\"65696\"}],\"title\":{\"id\":\"66642\"},\"toolbar\":{\"id\":\"65684\"},\"width\":500,\"x_range\":{\"id\":\"65658\"},\"x_scale\":{\"id\":\"65662\"},\"y_range\":{\"id\":\"65660\"},\"y_scale\":{\"id\":\"65664\"}},\"id\":\"65657\",\"subtype\":\"Figure\",\"type\":\"Plot\"},{\"attributes\":{},\"id\":\"66650\",\"type\":\"UnionRenderers\"},{\"attributes\":{\"fill_alpha\":{\"value\":0.2},\"fill_color\":{\"field\":\"fill_color\"},\"hatch_alpha\":{\"value\":0.2},\"line_alpha\":{\"value\":0.2},\"line_color\":{\"value\":null},\"radius\":{\"field\":\"radius\"},\"x\":{\"field\":\"x\"},\"y\":{\"field\":\"y\"}},\"id\":\"65695\",\"type\":\"Circle\"},{\"attributes\":{},\"id\":\"66645\",\"type\":\"BasicTickFormatter\"},{\"attributes\":{\"source\":{\"id\":\"65692\"}},\"id\":\"65697\",\"type\":\"CDSView\"},{\"attributes\":{\"coordinates\":null,\"fill_alpha\":0.5,\"fill_color\":\"lightgrey\",\"group\":null,\"level\":\"overlay\",\"line_alpha\":1.0,\"line_color\":\"black\",\"line_dash\":[4,4],\"line_width\":2,\"syncable\":false,\"xs_units\":\"screen\",\"ys_units\":\"screen\"},\"id\":\"65683\",\"type\":\"PolyAnnotation\"},{\"attributes\":{},\"id\":\"66646\",\"type\":\"AllLabels\"},{\"attributes\":{},\"id\":\"65678\",\"type\":\"ResetTool\"},{\"attributes\":{},\"id\":\"66651\",\"type\":\"Selection\"},{\"attributes\":{\"overlay\":{\"id\":\"65681\"}},\"id\":\"65679\",\"type\":\"BoxSelectTool\"},{\"attributes\":{},\"id\":\"65664\",\"type\":\"LinearScale\"},{\"attributes\":{\"bottom_units\":\"screen\",\"coordinates\":null,\"fill_alpha\":0.5,\"fill_color\":\"lightgrey\",\"group\":null,\"left_units\":\"screen\",\"level\":\"overlay\",\"line_alpha\":1.0,\"line_color\":\"black\",\"line_dash\":[4,4],\"line_width\":2,\"right_units\":\"screen\",\"syncable\":false,\"top_units\":\"screen\"},\"id\":\"65681\",\"type\":\"BoxAnnotation\"},{\"attributes\":{},\"id\":\"65667\",\"type\":\"BasicTicker\"},{\"attributes\":{\"bottom_units\":\"screen\",\"coordinates\":null,\"fill_alpha\":0.5,\"fill_color\":\"lightgrey\",\"group\":null,\"left_units\":\"screen\",\"level\":\"overlay\",\"line_alpha\":1.0,\"line_color\":\"black\",\"line_dash\":[4,4],\"line_width\":2,\"right_units\":\"screen\",\"syncable\":false,\"top_units\":\"screen\"},\"id\":\"65682\",\"type\":\"BoxAnnotation\"},{\"attributes\":{},\"id\":\"66648\",\"type\":\"BasicTickFormatter\"},{\"attributes\":{\"tools\":[{\"id\":\"65674\"},{\"id\":\"65675\"},{\"id\":\"65676\"},{\"id\":\"65677\"},{\"id\":\"65678\"},{\"id\":\"65679\"},{\"id\":\"65680\"}]},\"id\":\"65684\",\"type\":\"Toolbar\"},{\"attributes\":{\"coordinates\":null,\"formatter\":{\"id\":\"66648\"},\"group\":null,\"major_label_policy\":{\"id\":\"66649\"},\"ticker\":{\"id\":\"65667\"}},\"id\":\"65666\",\"type\":\"LinearAxis\"},{\"attributes\":{\"coordinates\":null,\"group\":null},\"id\":\"66642\",\"type\":\"Title\"},{\"attributes\":{\"coordinates\":null,\"formatter\":{\"id\":\"66645\"},\"group\":null,\"major_label_policy\":{\"id\":\"66646\"},\"ticker\":{\"id\":\"65671\"}},\"id\":\"65670\",\"type\":\"LinearAxis\"},{\"attributes\":{\"overlay\":{\"id\":\"65682\"}},\"id\":\"65677\",\"type\":\"BoxZoomTool\"},{\"attributes\":{\"overlay\":{\"id\":\"65683\"}},\"id\":\"65680\",\"type\":\"LassoSelectTool\"},{\"attributes\":{},\"id\":\"65674\",\"type\":\"CrosshairTool\"},{\"attributes\":{},\"id\":\"65675\",\"type\":\"PanTool\"},{\"attributes\":{\"data\":{\"fill_color\":[\"#9ac896\",\"#47c496\",\"#3eb396\",\"#eaa996\",\"#9ec896\",\"#546396\",\"#8ac196\",\"#708b96\",\"#c34996\",\"#76d296\",\"#db8796\",\"#9f8a96\",\"#f98596\",\"#6edc96\",\"#d61f96\",\"#848e96\",\"#a1cb96\",\"#586f96\",\"#985996\",\"#6a8f96\",\"#dd9496\",\"#c2a796\",\"#c76496\",\"#58cd96\",\"#457696\",\"#326096\",\"#74ba96\",\"#ea1e96\",\"#9b7596\",\"#f47396\",\"#8b8d96\",\"#a98b96\",\"#d74796\",\"#5cab96\",\"#875796\",\"#797a96\",\"#9a8c96\",\"#c5d796\",\"#8c5496\",\"#629896\",\"#935196\",\"#5e3096\",\"#d53c96\",\"#842696\",\"#5d2996\",\"#ca7e96\",\"#853696\",\"#9d6b96\",\"#f47696\",\"#de8196\",\"#a67b96\",\"#429d96\",\"#bea496\",\"#4f6296\",\"#f79e96\",\"#cc5096\",\"#70b796\",\"#463196\",\"#c1aa96\",\"#97d196\",\"#3cd996\",\"#424196\",\"#f0d096\",\"#ecb196\",\"#864a96\",\"#cee396\",\"#a03396\",\"#945196\",\"#b37596\",\"#78a096\",\"#b84296\",\"#76dd96\",\"#387b96\",\"#b84596\",\"#9c6d96\",\"#695396\",\"#89ca96\",\"#f88096\",\"#f4e596\",\"#7f9796\",\"#73ac96\",\"#726c96\",\"#a58896\",\"#5ad196\",\"#bcd396\",\"#7b6c96\",\"#cc7596\",\"#485196\",\"#4e4b96\",\"#5a8796\",\"#5be096\",\"#e61e96\",\"#9abb96\",\"#ad9896\",\"#76e396\",\"#b4e296\",\"#b63f96\",\"#799096\",\"#7aba96\",\"#363596\",\"#e44896\",\"#a73c96\",\"#577696\",\"#a37396\",\"#dfc396\",\"#bd3e96\",\"#6e4596\",\"#406d96\",\"#e87996\",\"#84cb96\",\"#a64396\",\"#9cc896\",\"#a56b96\",\"#acb896\",\"#aad696\",\"#8f5396\",\"#774396\",\"#649396\",\"#36db96\",\"#b29d96\",\"#b46196\",\"#483f96\",\"#b44396\",\"#c75396\",\"#af4096\",\"#815296\",\"#9c8d96\",\"#6ae296\",\"#795496\",\"#b1d596\",\"#cf6696\",\"#8b5296\",\"#cd8496\",\"#a0dd96\",\"#34d696\",\"#71d696\",\"#a6cd96\",\"#5bc696\",\"#a44796\",\"#55d696\",\"#8b5d96\",\"#7d5b96\",\"#cf9a96\",\"#dad096\",\"#466d96\",\"#7acb96\",\"#ac4296\",\"#764696\",\"#952d96\",\"#f36a96\",\"#aa6796\",\"#429b96\",\"#786396\",\"#ae9696\",\"#bf6496\",\"#6edd96\",\"#c4b696\",\"#b3cd96\",\"#4fe296\",\"#9abc96\",\"#f24b96\",\"#e58296\",\"#f23696\",\"#775296\",\"#42cd96\",\"#a27a96\",\"#e89296\",\"#547896\",\"#b52b96\",\"#c9e396\",\"#d59396\",\"#8b3b96\",\"#6f5a96\",\"#cbb696\",\"#566696\",\"#35bc96\",\"#677596\",\"#e2b396\",\"#f26a96\",\"#818b96\",\"#eb6096\",\"#e97196\",\"#3cca96\",\"#665d96\",\"#3ccd96\",\"#f65b96\",\"#d98d96\",\"#c24096\",\"#645496\",\"#979896\",\"#b83a96\",\"#914796\",\"#bd2296\",\"#ee9596\",\"#b97996\",\"#cf9396\",\"#48cb96\",\"#d86796\",\"#8f8396\",\"#dfb296\",\"#5c7f96\",\"#42ca96\",\"#43a296\",\"#80a596\",\"#756696\",\"#6e2096\",\"#a0ab96\",\"#4a7796\",\"#946e96\",\"#dbdd96\",\"#cb4996\",\"#772796\",\"#ab7c96\",\"#798496\",\"#e74696\",\"#a7a696\",\"#36c096\",\"#85d496\",\"#a6da96\",\"#66ce96\",\"#a5bb96\",\"#a14496\",\"#355f96\",\"#8d4396\",\"#d39b96\",\"#ecb696\",\"#5e3d96\",\"#4a6e96\",\"#cdd896\",\"#918a96\",\"#3f8096\",\"#55bc96\",\"#a5ae96\",\"#ae1e96\",\"#359b96\",\"#ef8a96\",\"#f86896\",\"#ca8696\",\"#c1e296\",\"#719596\",\"#465996\",\"#e05396\",\"#e29296\",\"#c99196\",\"#3eda96\",\"#42dc96\",\"#397896\",\"#ce9396\",\"#8cb296\",\"#8c3996\",\"#dd3f96\",\"#d93996\",\"#4b8c96\",\"#aa7096\",\"#587796\",\"#672e96\",\"#993a96\",\"#8e2296\",\"#89d096\",\"#bb8696\",\"#a09296\",\"#598196\",\"#7dd596\",\"#c48196\",\"#ec2596\",\"#c0ab96\",\"#924f96\",\"#a0af96\",\"#b77a96\",\"#92d096\",\"#4e7896\",\"#e3d596\",\"#4c3f96\",\"#6c7796\",\"#b2c296\",\"#b27496\",\"#5d6296\",\"#74cc96\",\"#cc5596\",\"#9ea996\",\"#c0d996\",\"#bfe596\",\"#f03696\",\"#53ce96\",\"#515c96\",\"#f67096\",\"#7fa696\",\"#d76696\",\"#e0b996\",\"#67da96\",\"#6f7d96\",\"#70c196\",\"#5e9096\",\"#f69996\",\"#ca4e96\",\"#d36996\",\"#cfca96\",\"#e3b896\",\"#a1d496\",\"#c03796\",\"#362696\",\"#3fcc96\",\"#587b96\",\"#b09896\",\"#ea4d96\",\"#ba9496\",\"#60a596\",\"#409096\",\"#d12b96\",\"#67d096\",\"#325a96\",\"#572296\",\"#959b96\",\"#688f96\",\"#aac096\",\"#354296\",\"#883196\",\"#63a096\",\"#f03596\",\"#66e296\",\"#9a9596\",\"#a85896\",\"#909096\",\"#6f9896\",\"#4b2a96\",\"#f5d096\",\"#a6c196\",\"#7e2e96\",\"#8d5896\",\"#71ac96\",\"#799896\",\"#542a96\",\"#5d8f96\",\"#63e296\",\"#734196\",\"#85c696\",\"#dd5d96\",\"#8e8a96\",\"#322e96\",\"#a62b96\",\"#f71f96\",\"#ac4496\",\"#45d296\",\"#513d96\",\"#9b5896\",\"#944d96\",\"#848496\",\"#daac96\",\"#e64896\",\"#4b4196\",\"#e9e296\",\"#5d3096\",\"#ebd096\",\"#db5396\",\"#e37e96\",\"#ae9b96\",\"#b5cd96\",\"#d9b996\",\"#6fab96\",\"#3d5b96\",\"#693a96\",\"#5dc196\",\"#e42f96\",\"#a7bd96\",\"#6f3a96\",\"#499196\",\"#40d996\",\"#5dcb96\",\"#d9b596\",\"#8a7d96\",\"#793c96\",\"#6ac296\",\"#736996\",\"#6a1e96\",\"#d88e96\",\"#c4a396\",\"#a7d496\",\"#d08c96\",\"#3d6396\",\"#afdc96\",\"#378b96\",\"#f58496\",\"#aa8096\",\"#be9196\",\"#e0b596\",\"#534396\",\"#8b9e96\",\"#7ca196\",\"#a4a196\",\"#bf8d96\",\"#589496\",\"#a4b796\",\"#c53296\",\"#992f96\",\"#916f96\",\"#5e6c96\",\"#5d9596\",\"#8d5196\",\"#7a6796\",\"#875a96\",\"#a37796\",\"#352796\",\"#399f96\",\"#544a96\",\"#807d96\",\"#617496\",\"#526f96\",\"#f64596\",\"#d6a096\",\"#b49a96\",\"#aa7196\",\"#f02e96\",\"#b07796\",\"#72a796\",\"#a02496\",\"#ca9796\",\"#c7b096\",\"#3cd196\",\"#d9b296\",\"#713f96\",\"#ad8f96\",\"#8d5596\",\"#3fa696\",\"#35d896\",\"#859b96\",\"#d28196\",\"#6e7b96\",\"#c4d296\",\"#553e96\",\"#f89b96\",\"#98e496\",\"#922c96\",\"#e2e096\",\"#a74796\",\"#e67796\",\"#782096\",\"#c16596\",\"#cfa296\",\"#5e4796\",\"#f87196\",\"#aa7696\",\"#905496\",\"#5c6f96\",\"#9f8a96\",\"#eeb596\",\"#673f96\",\"#bbbd96\",\"#8e8d96\",\"#af4f96\",\"#49d396\",\"#d44996\",\"#d4b296\",\"#bb5396\",\"#9c4196\",\"#c2e196\",\"#348696\",\"#e56596\",\"#645596\",\"#516396\",\"#c14e96\",\"#f83a96\",\"#a2e396\",\"#60c796\",\"#a93096\",\"#7b2996\",\"#511e96\",\"#aa4d96\",\"#b44796\",\"#c66b96\",\"#8ad496\",\"#732696\",\"#62a296\",\"#b49a96\",\"#b72196\",\"#e52396\",\"#7fd696\",\"#7c4a96\",\"#e74896\",\"#785896\",\"#529196\",\"#cdcd96\",\"#465296\",\"#94b696\",\"#c8dc96\",\"#a1d696\",\"#8de296\",\"#cbbc96\",\"#8fe396\",\"#e4be96\",\"#e14c96\",\"#4fd096\",\"#cc8896\",\"#948396\",\"#597196\",\"#8c2796\",\"#e76896\",\"#af2b96\",\"#3e8c96\",\"#529c96\",\"#a53596\",\"#7f3796\",\"#658d96\",\"#756e96\",\"#a63a96\",\"#78a896\",\"#a38e96\",\"#cf4596\",\"#728d96\",\"#e97296\",\"#b54b96\",\"#5dac96\",\"#f23996\",\"#9eb396\",\"#d34396\",\"#dd3796\",\"#9cc196\",\"#b48c96\",\"#954f96\",\"#5f8d96\",\"#d18596\",\"#abc096\",\"#a52f96\",\"#a2bb96\",\"#74bd96\",\"#864d96\",\"#b49e96\",\"#db2896\",\"#ec5296\",\"#848396\",\"#a9c096\",\"#54b496\",\"#d3b196\",\"#67b696\",\"#b44a96\",\"#8a3796\",\"#495c96\",\"#b0d396\",\"#b4a296\",\"#50d996\",\"#4d7a96\",\"#491e96\",\"#9d2f96\",\"#6da796\",\"#76cc96\",\"#c95396\",\"#ac3a96\",\"#bf4196\",\"#8e6a96\",\"#648496\",\"#55aa96\",\"#4a9196\",\"#7dbe96\",\"#b87996\",\"#5da196\",\"#bcae96\",\"#9ce496\",\"#e63996\",\"#cf4396\",\"#6bd096\",\"#f3b996\",\"#7cde96\",\"#939796\",\"#ed2196\",\"#de4296\",\"#92b296\",\"#9c9096\",\"#808496\",\"#cf4d96\",\"#c35096\",\"#5a3096\",\"#adcf96\",\"#927596\",\"#eba096\",\"#eaa596\",\"#f09496\",\"#f5c196\",\"#8f8f96\",\"#712b96\",\"#75b496\",\"#e5db96\",\"#949c96\",\"#ec6996\",\"#de8796\",\"#552b96\",\"#7ccb96\",\"#9d6e96\",\"#7e6f96\",\"#db4b96\",\"#7ed896\",\"#348b96\",\"#546b96\",\"#cd7596\",\"#586596\",\"#8e9d96\",\"#c08e96\",\"#323f96\",\"#e48f96\",\"#722796\",\"#815d96\",\"#9cd496\",\"#967496\",\"#904496\",\"#c98a96\",\"#775496\",\"#9de596\",\"#bda596\",\"#69d296\",\"#9bc096\",\"#592196\",\"#8cb296\",\"#765996\",\"#646296\",\"#679696\",\"#bcdd96\",\"#545f96\",\"#613896\",\"#b7ca96\",\"#ac4e96\",\"#569b96\",\"#bc7596\",\"#819096\",\"#e0cd96\",\"#86ce96\",\"#c83496\",\"#d0ca96\",\"#4e4696\",\"#637a96\",\"#f27d96\",\"#b98596\",\"#d5de96\",\"#87ae96\",\"#543d96\",\"#a38c96\",\"#62ae96\",\"#653596\",\"#626796\",\"#586396\",\"#d84896\",\"#ae6b96\",\"#bc3396\",\"#a48096\",\"#43a196\",\"#cd3696\",\"#37a696\",\"#dfc796\",\"#c08b96\",\"#a52696\",\"#942396\",\"#917f96\",\"#c92b96\",\"#434696\",\"#bf9b96\",\"#3ab596\",\"#892196\",\"#39de96\",\"#d6cf96\",\"#86cd96\",\"#a19f96\",\"#597696\",\"#3daa96\",\"#e95396\",\"#6d8996\",\"#668196\",\"#ad6696\",\"#377e96\",\"#cad296\",\"#7d3296\",\"#ec9196\",\"#98e296\",\"#b15d96\",\"#abdc96\",\"#3b4696\",\"#b02496\",\"#60a196\",\"#97c596\",\"#eea296\",\"#62ad96\",\"#9f9d96\",\"#ed8696\",\"#4cae96\",\"#7a2d96\",\"#36b196\",\"#ae6496\",\"#e45496\",\"#723896\",\"#506196\",\"#765596\",\"#813296\",\"#de9e96\",\"#d85b96\",\"#cadb96\",\"#dd5d96\",\"#336896\",\"#d19996\",\"#59e596\",\"#ea5996\",\"#a9c996\",\"#9c8a96\",\"#842c96\",\"#389796\",\"#728496\",\"#4f7896\",\"#a26196\",\"#913396\",\"#a86596\",\"#dad396\",\"#769296\",\"#326496\",\"#48e496\",\"#a0c896\",\"#3fba96\",\"#bbab96\",\"#4cda96\",\"#e02796\",\"#f07096\",\"#d9e396\",\"#ad6596\",\"#9fd196\",\"#7e3d96\",\"#b58896\",\"#c5cc96\",\"#a4e096\",\"#b88096\",\"#b99c96\",\"#34d896\",\"#c16796\",\"#d55d96\",\"#612c96\",\"#5c4996\",\"#e16d96\",\"#8f3d96\",\"#d8c896\",\"#8b9f96\",\"#74e296\",\"#c16f96\",\"#f13096\",\"#383796\",\"#67e196\",\"#9ccc96\",\"#7cdb96\",\"#32c496\",\"#a55296\",\"#af3f96\",\"#504496\",\"#cf5496\",\"#75a396\",\"#98d696\",\"#792e96\",\"#bf3796\",\"#b9e496\",\"#e8e196\",\"#d87a96\",\"#e6ac96\",\"#d83596\",\"#4fd296\",\"#9fa996\",\"#c73e96\",\"#537096\",\"#3be596\",\"#81a996\",\"#b36c96\",\"#867d96\",\"#dd6596\",\"#6c9896\",\"#5ca396\",\"#6f4a96\",\"#552796\",\"#6dd196\",\"#b6a396\",\"#823096\",\"#e2c096\",\"#5cac96\",\"#e3b496\",\"#7cd396\",\"#44d896\",\"#3adb96\",\"#d57196\",\"#cea496\",\"#332f96\",\"#37d196\",\"#726d96\",\"#893a96\",\"#efa896\",\"#596996\",\"#e16096\",\"#e86596\",\"#348396\",\"#54b296\",\"#988c96\",\"#b53596\",\"#47ba96\",\"#efc396\",\"#a12c96\",\"#f3bd96\",\"#56bb96\",\"#a24c96\",\"#c88196\",\"#3b2a96\",\"#727b96\",\"#c28f96\",\"#4c5f96\",\"#625996\",\"#842e96\",\"#bae196\",\"#36a496\",\"#439596\",\"#807796\",\"#caae96\",\"#a96896\",\"#ddd396\",\"#34dc96\",\"#896596\",\"#38a596\",\"#60b096\",\"#4db796\",\"#8f9996\",\"#f36c96\",\"#669296\",\"#9ce596\",\"#5f4496\",\"#b75396\",\"#dc3196\",\"#5e6e96\",\"#488796\",\"#ca6096\",\"#e39f96\",\"#c5b596\",\"#a77c96\",\"#cda696\",\"#b47196\",\"#ca8d96\",\"#914c96\",\"#e57d96\",\"#5c4f96\",\"#a7cb96\",\"#f94e96\",\"#8b7796\",\"#b83096\",\"#bf7296\",\"#e5be96\",\"#8ba296\",\"#3e7d96\",\"#cbd696\",\"#3a4296\",\"#b46a96\",\"#d7cd96\",\"#5e4796\",\"#e73196\",\"#4e5d96\",\"#3f8496\",\"#6b4596\",\"#447096\",\"#6cc596\",\"#8f5596\",\"#f54f96\",\"#7b2596\",\"#df9196\",\"#9a9296\",\"#bb7196\",\"#7eab96\",\"#b32096\",\"#a5e596\",\"#40c396\",\"#b4ac96\",\"#d46796\",\"#4c5596\",\"#deda96\",\"#9bab96\",\"#3bd696\",\"#7ed596\",\"#8f2496\",\"#8de596\",\"#c8a196\",\"#804a96\",\"#bba596\",\"#a1b296\",\"#93b596\",\"#6d5996\",\"#518596\",\"#7dc496\",\"#b5bb96\",\"#bc9c96\",\"#cc6e96\",\"#adbc96\",\"#772c96\",\"#bb5f96\",\"#8cdf96\",\"#532396\",\"#44c796\",\"#6fb796\",\"#b52d96\",\"#5b8c96\",\"#70a496\",\"#f8aa96\",\"#491e96\",\"#50da96\",\"#687996\",\"#a84b96\",\"#dd8c96\",\"#623596\",\"#678196\",\"#b47b96\",\"#76b496\",\"#a9a896\",\"#c2a796\",\"#9ae596\",\"#5c5996\",\"#92b396\",\"#86ac96\",\"#58d496\",\"#a68396\",\"#d15696\",\"#c69096\",\"#eb8696\",\"#8c3a96\",\"#85c096\",\"#759496\",\"#6c8196\",\"#526396\",\"#c07f96\",\"#d66f96\",\"#b66f96\",\"#d35d96\",\"#9c8d96\",\"#903796\",\"#594296\",\"#db7496\",\"#d45196\",\"#887796\",\"#f6b696\",\"#f37296\",\"#839f96\",\"#84ba96\",\"#6f9696\",\"#b85296\",\"#405996\",\"#4aa196\",\"#ac4a96\",\"#4b9a96\",\"#a46896\",\"#4c5496\",\"#654596\",\"#8e7596\",\"#ec3096\",\"#5ed996\",\"#4ee296\",\"#66b196\",\"#425696\",\"#e53296\",\"#345296\",\"#c23096\",\"#484e96\",\"#deab96\",\"#b8d196\",\"#bfbd96\",\"#77e596\",\"#37bf96\",\"#bc9896\",\"#82ba96\",\"#aa5c96\",\"#a6de96\",\"#d57b96\",\"#decf96\",\"#c0c196\",\"#582996\",\"#76a596\",\"#afcd96\",\"#6c5896\",\"#443e96\",\"#c4e196\",\"#d84796\",\"#b19796\",\"#d3a096\",\"#acdd96\",\"#588996\",\"#7ab096\",\"#6d5f96\",\"#b79196\",\"#f66496\",\"#84bc96\",\"#f92896\",\"#59be96\",\"#652096\",\"#d12496\",\"#59a096\",\"#e79d96\",\"#b5cb96\",\"#e2ad96\",\"#b9b796\",\"#814196\",\"#7fb396\",\"#949c96\",\"#8eba96\",\"#c06696\",\"#be9b96\",\"#cab296\",\"#c13596\",\"#4f5e96\",\"#5b3696\",\"#a1cd96\",\"#e91e96\",\"#b8db96\",\"#db9b96\",\"#aec796\",\"#f1c796\",\"#656996\",\"#ba4396\",\"#973d96\",\"#dacc96\",\"#9eb296\",\"#e8d796\",\"#749796\",\"#ec2696\",\"#eab596\",\"#593496\",\"#e07a96\",\"#f86596\",\"#675696\",\"#807b96\",\"#afe596\",\"#ae4696\",\"#cd6b96\",\"#a9a496\",\"#f8a596\",\"#697c96\",\"#68b196\",\"#40af96\",\"#852096\",\"#cc4d96\",\"#e07f96\",\"#444596\",\"#372f96\",\"#c97e96\",\"#d8b596\",\"#cf8f96\",\"#667896\",\"#696896\",\"#df3796\",\"#bbc896\",\"#e22e96\",\"#c3ae96\",\"#f4bb96\",\"#a89296\",\"#75d496\",\"#4c5196\",\"#8d4296\",\"#db5d96\",\"#b4b896\",\"#db7396\",\"#6a6296\",\"#887f96\",\"#e6ab96\",\"#c1b296\",\"#b29396\",\"#a15296\",\"#d6e296\",\"#545e96\",\"#848d96\",\"#afde96\",\"#356b96\",\"#929a96\",\"#f17e96\",\"#3f7f96\",\"#b32d96\",\"#96b496\",\"#e26f96\",\"#ccde96\",\"#8b6b96\",\"#42cf96\",\"#69c996\",\"#be3796\",\"#ef5a96\",\"#9fd696\",\"#989596\",\"#92b496\",\"#4f3c96\",\"#cfb096\",\"#573d96\",\"#414896\",\"#43b396\",\"#3a9796\",\"#896596\",\"#cca096\",\"#ddad96\",\"#f49796\",\"#d89396\",\"#e9e496\",\"#942496\",\"#7f3e96\",\"#cd7b96\",\"#746c96\",\"#884696\",\"#b68896\",\"#db2996\",\"#a3c096\",\"#5fd296\",\"#c2dd96\",\"#3fb096\",\"#a0d296\",\"#5b6996\",\"#3f8796\",\"#c6a596\",\"#5a9196\",\"#be2996\",\"#4f4996\",\"#805e96\",\"#ebaa96\",\"#952596\",\"#bad896\",\"#9e6b96\",\"#633c96\",\"#324b96\",\"#44c396\",\"#496596\",\"#dc2d96\",\"#b4e496\",\"#4ebb96\",\"#c66f96\",\"#b95a96\",\"#9d6a96\",\"#443896\",\"#863896\",\"#609d96\",\"#f19796\",\"#a29b96\",\"#db5f96\",\"#e6bf96\",\"#e35496\",\"#db4496\",\"#f94596\",\"#3f3996\",\"#f3d296\",\"#397a96\",\"#5a6796\",\"#b97796\",\"#844f96\",\"#752396\",\"#476c96\",\"#8e8896\",\"#762096\",\"#c1dc96\",\"#709096\",\"#8ba096\",\"#b0d896\",\"#79d196\",\"#95cf96\",\"#6d3196\",\"#64b196\",\"#57a296\",\"#6c6996\",\"#d43996\",\"#c32396\",\"#c8bd96\",\"#8c9c96\",\"#c4dd96\",\"#558296\",\"#3c5996\",\"#f8ac96\",\"#e3c096\",\"#b1df96\",\"#ed2396\",\"#847396\",\"#9e4296\",\"#ed9496\",\"#3ce296\",\"#8ddd96\",\"#a97596\",\"#acd896\",\"#b24496\",\"#b57096\",\"#8aa896\",\"#ccc596\",\"#36b996\",\"#52af96\",\"#8e2b96\",\"#c89196\",\"#bf8496\",\"#896096\",\"#39a596\",\"#eb8d96\",\"#c02996\",\"#689196\",\"#d97296\",\"#8d8396\",\"#f83b96\",\"#3bcc96\",\"#5d7496\",\"#d6dc96\",\"#96cc96\",\"#32a396\",\"#d09e96\",\"#9d2896\",\"#50af96\",\"#996496\",\"#6e8796\",\"#8a8f96\",\"#3f4c96\",\"#534796\",\"#6c3a96\",\"#d56c96\",\"#acbb96\",\"#afb896\",\"#9c3396\",\"#77a296\",\"#385496\",\"#578296\",\"#32bb96\",\"#593096\",\"#401e96\",\"#5b9496\",\"#7d1f96\",\"#4f8696\",\"#f3c696\",\"#762d96\",\"#4d1e96\",\"#572496\",\"#d98196\",\"#6cda96\",\"#4d3d96\",\"#de3696\",\"#a19896\",\"#854c96\",\"#33db96\",\"#a48a96\",\"#df4f96\",\"#607196\",\"#eb7396\",\"#766196\",\"#8eab96\",\"#339896\",\"#50a796\",\"#65bb96\",\"#f36896\",\"#d07e96\",\"#722896\",\"#be7496\",\"#d64096\",\"#bb6b96\",\"#d62696\",\"#e6aa96\",\"#a88c96\",\"#488a96\",\"#d15996\",\"#929c96\",\"#bedf96\",\"#dbce96\",\"#325596\",\"#71a896\",\"#5bc796\",\"#358796\",\"#edb196\",\"#a64f96\",\"#e6db96\",\"#829396\",\"#8d5b96\",\"#9b6e96\",\"#636496\",\"#f1d796\",\"#ae1e96\",\"#788796\",\"#a37e96\",\"#bd5996\",\"#cd6b96\",\"#479b96\",\"#be8c96\",\"#426296\",\"#cb4e96\",\"#a4ad96\",\"#74cb96\",\"#6cad96\",\"#9e8d96\",\"#626396\",\"#ad9d96\",\"#caa396\",\"#e1cb96\",\"#eac796\",\"#5baf96\",\"#8f4c96\",\"#a04996\",\"#4e2e96\",\"#ed9496\",\"#dc7296\",\"#923a96\",\"#5dc396\",\"#a31e96\",\"#b95696\",\"#914896\",\"#3b9496\",\"#aa5596\",\"#52be96\",\"#cfab96\",\"#745196\",\"#f29996\",\"#53be96\",\"#d46e96\",\"#dc8396\",\"#c9a696\",\"#76c896\",\"#d88096\",\"#8f6d96\",\"#a8ca96\",\"#de9596\",\"#b09296\",\"#b46a96\",\"#3b9396\",\"#c66296\",\"#74c596\",\"#6d7496\",\"#d42296\",\"#765496\",\"#5cb396\",\"#d25e96\",\"#f26396\",\"#de7696\",\"#448a96\",\"#81a096\",\"#425596\",\"#56a396\",\"#c33896\",\"#6f3596\",\"#96c696\",\"#735996\",\"#a0a596\",\"#70b496\",\"#e67b96\",\"#6a9996\",\"#582296\",\"#ec5c96\",\"#72b596\",\"#3de496\",\"#ea7b96\",\"#e3a796\",\"#cec396\",\"#504e96\",\"#7b6096\",\"#dd9d96\",\"#ab1e96\",\"#75ad96\",\"#38d796\",\"#db4396\",\"#ac2b96\",\"#95aa96\",\"#6ada96\",\"#cd5796\",\"#3f3696\",\"#a46796\",\"#34b996\",\"#d65e96\",\"#80b396\",\"#d56996\",\"#719496\",\"#8b3796\",\"#8d6096\",\"#df9296\",\"#7c3596\",\"#f36696\",\"#8c3296\",\"#bc3996\",\"#d33796\",\"#e03a96\",\"#eec096\",\"#f9ae96\",\"#a0b096\",\"#339f96\",\"#7fb996\",\"#456196\",\"#9f8c96\",\"#9a4f96\",\"#bebf96\",\"#9e2996\",\"#492196\",\"#887996\",\"#d83996\",\"#442396\",\"#345596\",\"#6edb96\",\"#b43a96\",\"#f59796\",\"#d43896\",\"#832896\",\"#dfaf96\",\"#6a4296\",\"#33c696\",\"#602c96\",\"#4ac196\",\"#5e3096\",\"#dd3a96\",\"#363096\",\"#61d496\",\"#7c1f96\",\"#5c8d96\",\"#57a096\",\"#589896\",\"#c4e096\",\"#a59c96\",\"#ca8896\",\"#ba3c96\",\"#5f6496\",\"#82e096\",\"#6ba496\",\"#c86396\",\"#dcb596\",\"#747c96\",\"#a36296\",\"#a96096\",\"#586296\",\"#bbd196\",\"#cc7b96\",\"#635896\",\"#bcb296\",\"#36b296\",\"#a15396\",\"#c2dd96\",\"#f62096\",\"#34d996\",\"#567396\",\"#e14096\",\"#825996\",\"#50b296\",\"#b64096\",\"#872596\",\"#babf96\",\"#975996\",\"#94e096\",\"#f26196\",\"#498b96\",\"#cc4f96\",\"#932a96\",\"#cb2196\",\"#ac5296\",\"#ca2096\",\"#615196\",\"#928896\",\"#b3cc96\",\"#b4de96\",\"#6b5d96\",\"#434396\",\"#824396\",\"#f33d96\",\"#33ad96\",\"#377f96\",\"#637296\",\"#e0c196\",\"#63df96\",\"#a92396\",\"#b28296\",\"#96d596\",\"#736a96\",\"#de7496\",\"#7d5396\",\"#4e8a96\",\"#a8ab96\",\"#7a9196\",\"#b97f96\",\"#6bca96\",\"#729196\",\"#826296\",\"#acc996\",\"#477896\",\"#5b4696\",\"#4a5e96\",\"#bbd896\",\"#a6ba96\",\"#945196\",\"#dbbc96\",\"#c58396\",\"#7e7396\",\"#c9a796\",\"#f29996\",\"#73a496\",\"#b03396\",\"#73ac96\",\"#9c7a96\",\"#34ba96\",\"#9baa96\",\"#e36f96\",\"#eb5796\",\"#e54e96\",\"#529b96\",\"#a5cb96\",\"#a4cd96\",\"#e22496\",\"#448b96\",\"#3ea096\",\"#8ca896\",\"#6d3796\",\"#a22296\",\"#53be96\",\"#f2b296\",\"#583796\",\"#ac6796\",\"#d86396\",\"#ec9996\",\"#7aa596\",\"#577396\",\"#647696\",\"#7ec896\",\"#347f96\",\"#49de96\",\"#49a996\",\"#bdd596\",\"#5a9d96\",\"#472a96\",\"#b96596\",\"#e3af96\",\"#429e96\",\"#d28096\",\"#547696\",\"#63de96\",\"#ac7396\",\"#648a96\",\"#f24c96\",\"#433996\",\"#ccb496\",\"#442296\",\"#762b96\",\"#ccad96\",\"#886596\",\"#dba196\",\"#83b796\",\"#985896\",\"#55c396\",\"#bbb096\",\"#a7b896\",\"#a79096\",\"#7a4796\",\"#494c96\",\"#406b96\",\"#ac4996\",\"#a42896\",\"#699796\",\"#3c9d96\",\"#768496\",\"#b42896\",\"#bb5f96\",\"#4ab896\",\"#734496\",\"#f55d96\",\"#a3d096\",\"#edac96\",\"#c65496\",\"#4ad896\",\"#9c2496\",\"#696a96\",\"#c3a796\",\"#452496\",\"#b22b96\",\"#75c296\",\"#7f3996\",\"#e0ad96\",\"#a7e096\",\"#d3af96\",\"#5b7396\",\"#378b96\",\"#c7b496\",\"#b05896\",\"#348096\",\"#828a96\",\"#443196\",\"#89cc96\",\"#3ae096\",\"#906a96\",\"#acbf96\",\"#f0a196\",\"#df9c96\",\"#54c096\",\"#b3d296\",\"#ed2b96\",\"#503496\",\"#389d96\",\"#b15096\",\"#445f96\",\"#e32496\",\"#b6cb96\",\"#59a596\",\"#a52a96\",\"#c26b96\",\"#7cd896\",\"#867b96\",\"#dd5f96\",\"#d17d96\",\"#80ba96\",\"#cfa696\",\"#a38496\",\"#cb6096\",\"#8b8f96\",\"#f02196\",\"#b25896\",\"#39d896\",\"#eae296\",\"#b3cf96\",\"#863c96\",\"#6cc796\",\"#5c4496\",\"#4f7296\",\"#c7be96\",\"#4b2a96\",\"#449496\",\"#8c8696\",\"#f5e496\",\"#db3f96\",\"#bd7196\",\"#659a96\",\"#8cca96\",\"#bac796\",\"#904c96\",\"#b85f96\",\"#ec6f96\",\"#42d396\",\"#77af96\",\"#7f6796\",\"#4d3896\",\"#459f96\",\"#bfd996\",\"#345696\",\"#f04396\",\"#933c96\",\"#b9e296\",\"#965596\",\"#8fc296\",\"#5bd696\",\"#595e96\",\"#425596\",\"#ce3796\",\"#e38296\",\"#e24496\",\"#cc3b96\",\"#d62296\",\"#48c196\",\"#d48896\",\"#489296\",\"#642d96\",\"#3a1f96\",\"#552996\",\"#697796\",\"#f65196\",\"#912f96\",\"#a18b96\",\"#c44d96\",\"#483796\",\"#957f96\",\"#3a5796\",\"#a63a96\",\"#6fa596\",\"#861f96\",\"#81de96\",\"#58e296\",\"#6b3296\",\"#f86c96\",\"#6f9496\",\"#b35c96\",\"#e92a96\",\"#c8e596\",\"#7a3a96\",\"#777396\",\"#b88596\",\"#8ce596\",\"#dcd796\",\"#cc5896\",\"#8c4396\",\"#bb5396\",\"#85ca96\",\"#d9dc96\",\"#9c4696\",\"#842a96\",\"#874c96\",\"#c76696\",\"#624c96\",\"#d02296\",\"#3fb896\",\"#b1a896\",\"#39a896\",\"#ce2396\",\"#dbac96\",\"#407196\",\"#34b096\",\"#93d396\",\"#399996\",\"#b68b96\",\"#e3a096\",\"#ae7a96\",\"#6b9496\",\"#ae2296\",\"#63aa96\",\"#ab7a96\",\"#776696\",\"#bea696\",\"#3fa696\",\"#422e96\",\"#efc696\",\"#abd396\",\"#389b96\",\"#d53696\",\"#ec9c96\",\"#efc596\",\"#ee2c96\",\"#a9d096\",\"#a15e96\",\"#eb4396\",\"#73c796\",\"#356896\",\"#6acf96\",\"#7cc796\",\"#ddc496\",\"#54b496\",\"#e5bb96\",\"#7aa996\",\"#f7d196\",\"#f6b296\",\"#e6c096\",\"#f43296\",\"#ef5996\",\"#9e7696\",\"#666496\",\"#5fb796\",\"#c45996\",\"#a92d96\",\"#e23096\",\"#8e4396\",\"#38dd96\",\"#ea8e96\",\"#ba8896\",\"#4ec996\",\"#97db96\",\"#7a7f96\",\"#ee5e96\",\"#ba2496\",\"#5a4596\",\"#555496\",\"#e79f96\",\"#51bf96\",\"#4d6c96\",\"#6e7196\",\"#709c96\",\"#91b296\",\"#852796\",\"#422496\",\"#72d796\",\"#753d96\",\"#4d5f96\",\"#363196\",\"#f52596\",\"#c16396\",\"#d54796\",\"#a02196\",\"#b73996\",\"#987296\",\"#6b2896\",\"#c18196\",\"#80aa96\",\"#409896\",\"#772496\",\"#ca4d96\",\"#ae8596\",\"#604196\",\"#db5c96\",\"#c8cd96\",\"#e4b196\",\"#544f96\",\"#7cc696\",\"#3c2e96\",\"#ea4696\",\"#7c6c96\",\"#d4b396\",\"#d6e496\",\"#349b96\",\"#4a9d96\",\"#579e96\",\"#744f96\",\"#798296\",\"#581f96\",\"#5a2496\",\"#b7a296\",\"#54b396\",\"#858696\",\"#473c96\",\"#c8de96\",\"#e9d696\",\"#387f96\",\"#63bd96\",\"#b0cc96\",\"#96a296\",\"#41b896\",\"#ddbf96\",\"#9b5996\",\"#967f96\",\"#7e9296\",\"#6e6096\",\"#f79e96\",\"#406996\",\"#35a396\",\"#b3ad96\",\"#d44896\",\"#cc2396\",\"#816196\",\"#7b2c96\",\"#e42b96\",\"#e75796\",\"#9bd996\",\"#878b96\",\"#71ba96\",\"#c5ab96\",\"#d59696\",\"#bfcb96\",\"#53b996\",\"#703996\",\"#d87f96\",\"#3f2296\",\"#8b9296\",\"#917296\",\"#60c396\",\"#7f2d96\",\"#3fd396\",\"#4f2496\",\"#815196\",\"#3ed596\",\"#6e8196\",\"#eb8f96\",\"#696496\",\"#856296\",\"#44a596\",\"#cfaa96\",\"#f63296\",\"#8e8596\",\"#a6c296\",\"#e1da96\",\"#435296\",\"#de7796\",\"#86de96\",\"#3f3096\",\"#d77996\",\"#a0da96\",\"#d59e96\",\"#67d096\",\"#5cd996\",\"#459696\",\"#a36796\",\"#7c9c96\",\"#af1f96\",\"#7b9196\",\"#8ae196\",\"#5a2396\",\"#a45596\",\"#886796\",\"#93ca96\",\"#6b2496\",\"#71a696\",\"#be3a96\",\"#534b96\",\"#cbca96\",\"#9e9c96\",\"#c0bd96\",\"#48b796\",\"#dca596\",\"#c79e96\",\"#87b196\",\"#b0bf96\",\"#f26796\",\"#ece096\",\"#887d96\",\"#e12d96\",\"#d86396\",\"#b39196\",\"#636096\",\"#c78896\",\"#ec9296\",\"#3d7096\",\"#bd4296\",\"#802696\",\"#ed6e96\",\"#8fd996\",\"#4eb196\",\"#b65096\",\"#b6d596\",\"#80dd96\",\"#36b896\",\"#dc8596\",\"#422e96\",\"#432596\",\"#42b796\",\"#d48296\",\"#9d3496\",\"#768b96\",\"#bb4a96\",\"#c45596\",\"#3c6296\",\"#d3bc96\",\"#94ba96\",\"#7a6696\",\"#3ebb96\",\"#37a296\",\"#8f5f96\",\"#a86b96\",\"#f37d96\",\"#9aa396\",\"#b83b96\",\"#ae6396\",\"#70bf96\",\"#735096\",\"#d1c396\",\"#959e96\",\"#823296\",\"#b44496\",\"#b33996\",\"#72c396\",\"#674096\",\"#c39396\",\"#7ca996\",\"#e78f96\",\"#684196\",\"#bb5296\",\"#49b296\",\"#808c96\",\"#ecbc96\",\"#99b196\",\"#74a896\",\"#958c96\",\"#96aa96\",\"#8c3096\",\"#e8c396\",\"#749196\",\"#f83796\",\"#b93796\",\"#ae6a96\",\"#eea596\",\"#862196\",\"#776396\",\"#e5a896\",\"#746796\",\"#b82c96\",\"#558a96\",\"#983096\",\"#ea5796\",\"#a65496\",\"#af5496\",\"#bba296\",\"#996796\",\"#d0c296\",\"#aa4896\",\"#f18596\",\"#cf7f96\",\"#67ce96\",\"#54db96\",\"#356796\",\"#afb096\",\"#a0cf96\",\"#532f96\",\"#d94a96\",\"#a7bf96\",\"#723196\",\"#c53096\",\"#6dcc96\",\"#4c7b96\",\"#59b396\",\"#687b96\",\"#8f5596\",\"#9da296\",\"#e69696\",\"#9c5e96\",\"#ccd096\",\"#b27196\",\"#989696\",\"#dcb096\",\"#6f7496\",\"#ce8796\",\"#d3e496\",\"#75a896\",\"#e93296\",\"#7dd096\",\"#5eaf96\",\"#c07b96\",\"#dada96\",\"#ec5a96\",\"#e4a496\",\"#7cc996\",\"#f0bf96\",\"#914596\",\"#743196\",\"#e69c96\",\"#3aa596\",\"#89b996\",\"#a5a496\",\"#afac96\",\"#953e96\",\"#359896\",\"#437c96\",\"#f59196\",\"#76d596\",\"#67b996\",\"#8e6396\",\"#d4d996\",\"#9dd296\",\"#eec396\",\"#b5c096\",\"#66e496\",\"#735c96\",\"#a33596\",\"#88c796\",\"#f62f96\",\"#a15996\",\"#358a96\",\"#435396\",\"#d83d96\",\"#caa896\",\"#cd9696\",\"#865196\",\"#a38f96\",\"#5c8696\",\"#352a96\",\"#706d96\",\"#e09596\",\"#388d96\",\"#625296\",\"#932296\",\"#a1e496\",\"#ec4096\",\"#b27596\",\"#bb2c96\",\"#951f96\",\"#3b8896\",\"#c64c96\",\"#643496\",\"#a6b996\",\"#7ec196\",\"#685196\",\"#c8c996\",\"#8c5896\",\"#a8ce96\",\"#b3d696\",\"#67d296\",\"#bf3996\",\"#43b696\",\"#ee4e96\",\"#f9bc96\",\"#f62c96\",\"#e57996\",\"#b44c96\",\"#3a8396\",\"#845596\",\"#d3a396\",\"#a75f96\",\"#39a696\",\"#b5b196\",\"#b48d96\",\"#928496\",\"#c2a396\",\"#365896\",\"#d06096\",\"#d6a696\",\"#6dc896\",\"#55cc96\",\"#ec8b96\",\"#bee196\",\"#9db896\",\"#d15996\",\"#daad96\",\"#c63d96\",\"#e97b96\",\"#7ba296\",\"#4ac496\",\"#aa3496\",\"#cf5a96\",\"#447396\",\"#814c96\",\"#ea2896\",\"#a8e496\",\"#372996\",\"#f13696\",\"#be2a96\",\"#322396\",\"#3bc596\",\"#89c896\",\"#a5d896\",\"#40ab96\",\"#873a96\",\"#582796\",\"#46db96\",\"#cb3596\",\"#833e96\",\"#747196\",\"#658296\",\"#99aa96\",\"#6b5396\",\"#6b9596\",\"#b69996\",\"#ede096\",\"#745496\",\"#c24d96\",\"#54d696\",\"#c09796\",\"#55e396\",\"#6a9296\",\"#873e96\",\"#4d9696\",\"#b09296\",\"#353d96\",\"#ef3896\",\"#5ec696\",\"#edca96\",\"#424e96\",\"#9e8496\",\"#353896\",\"#b7a896\",\"#e3e096\",\"#975096\",\"#bb9896\",\"#d34a96\",\"#8a6d96\",\"#619096\",\"#7c8096\",\"#7a5496\",\"#6ac096\",\"#d66196\",\"#e68996\",\"#878e96\",\"#3c4696\",\"#575d96\",\"#42bd96\",\"#554b96\",\"#695d96\",\"#dc6a96\",\"#cf3896\",\"#e4c396\",\"#55d496\",\"#dce496\",\"#6b9096\",\"#a05896\",\"#95b396\",\"#826e96\",\"#818396\",\"#b19496\",\"#349f96\",\"#8dac96\",\"#4c6d96\",\"#b05a96\",\"#40bf96\",\"#9d2096\",\"#557c96\",\"#5b3896\",\"#b6c396\",\"#454496\",\"#a8be96\",\"#e72c96\",\"#a06d96\",\"#3ad496\",\"#612996\",\"#364396\",\"#7abf96\",\"#867396\",\"#746f96\",\"#caba96\",\"#5e3d96\",\"#328496\",\"#727096\",\"#e06696\",\"#a22996\",\"#662896\",\"#b97e96\",\"#e2b896\",\"#822596\",\"#986d96\",\"#78a396\",\"#ec4196\",\"#90ac96\",\"#342e96\",\"#f85996\",\"#7b2396\",\"#8bde96\",\"#a69596\",\"#f4d096\",\"#b07996\",\"#cb9c96\",\"#7caf96\",\"#434496\",\"#d52e96\",\"#dd8596\",\"#aabf96\",\"#bcae96\",\"#a68896\",\"#ec3496\",\"#b26196\",\"#5ccf96\",\"#d69996\",\"#e02b96\",\"#b22e96\",\"#c89e96\",\"#7cb096\",\"#964b96\",\"#9b5996\",\"#da5196\",\"#af8b96\",\"#5ba396\",\"#3f4796\",\"#823296\",\"#d13796\",\"#507696\",\"#bbd196\",\"#c12196\",\"#d05696\",\"#93d496\",\"#559696\",\"#675096\",\"#495996\",\"#b7bf96\",\"#7ba996\",\"#e2dd96\",\"#6b4d96\",\"#7e3396\",\"#525196\",\"#bd4196\",\"#634896\",\"#9d3796\",\"#6c4f96\",\"#b97196\",\"#5f4e96\",\"#527a96\",\"#56b296\",\"#3d2896\",\"#353896\",\"#cb6696\",\"#a34596\",\"#ea7e96\",\"#a13f96\",\"#3e6b96\",\"#a4bf96\",\"#ac4696\",\"#e69c96\",\"#65b596\",\"#846d96\",\"#b86796\",\"#956c96\",\"#e5a296\",\"#e25196\",\"#d2b996\",\"#f82b96\",\"#b87396\",\"#e22496\",\"#b5d296\",\"#46b896\",\"#7d5c96\",\"#67cb96\",\"#b08396\",\"#895996\",\"#ed9196\",\"#4fa996\",\"#549196\",\"#5c5b96\",\"#c5c596\",\"#9db696\",\"#579b96\",\"#67cf96\",\"#ba3096\",\"#eca496\",\"#f65e96\",\"#6e6296\",\"#8b5596\",\"#39ab96\",\"#f71e96\",\"#909996\",\"#767a96\",\"#589296\",\"#ac7496\",\"#8a3f96\",\"#d09696\",\"#a16896\",\"#8ba196\",\"#de4f96\",\"#999e96\",\"#697596\",\"#7c6a96\",\"#b39e96\",\"#ab5096\",\"#50e596\",\"#4c9b96\",\"#d39296\",\"#d89996\",\"#c9e496\",\"#c1ce96\",\"#b88896\",\"#d43d96\",\"#6c1e96\",\"#913696\",\"#c89d96\",\"#86c696\",\"#3fc896\",\"#cfcb96\",\"#609e96\",\"#ee8596\",\"#4f8f96\",\"#e3e496\",\"#435596\",\"#e67396\",\"#573c96\",\"#a03a96\",\"#a27996\",\"#612596\",\"#975f96\",\"#af3596\",\"#dc2d96\",\"#e5ab96\",\"#58e296\",\"#382d96\",\"#dae196\",\"#e05696\",\"#d5c396\",\"#f8c396\",\"#bc5596\",\"#bf6496\",\"#df9896\",\"#b36396\",\"#bc9e96\",\"#d57896\",\"#ac8b96\",\"#57a196\",\"#bfcc96\",\"#b3ab96\",\"#51c596\",\"#e5b796\",\"#719196\",\"#e39f96\",\"#3faa96\",\"#bb5196\",\"#b14796\",\"#f63496\",\"#e1da96\",\"#b17296\",\"#479d96\",\"#ee9f96\",\"#529096\",\"#f74e96\",\"#5ccd96\",\"#3c5696\",\"#b27696\",\"#4b3f96\",\"#4b6f96\",\"#bf5096\",\"#7ec396\",\"#454b96\",\"#ed6096\",\"#935196\",\"#586096\",\"#4f3b96\",\"#e6a296\",\"#5d5896\",\"#547196\",\"#618496\",\"#f6ba96\",\"#3d5c96\",\"#408196\",\"#f03496\",\"#7e8d96\",\"#9f9a96\",\"#82c996\",\"#c26396\",\"#beda96\",\"#b96296\",\"#da3c96\",\"#379f96\",\"#ee2096\",\"#f85e96\",\"#b77f96\",\"#7d9196\",\"#e5c896\",\"#492696\",\"#7e9d96\",\"#89d096\",\"#368596\",\"#633196\",\"#c46e96\",\"#482696\",\"#634796\",\"#827d96\",\"#502096\",\"#827d96\",\"#f37b96\",\"#82b196\",\"#ee9096\",\"#854796\",\"#b13096\",\"#4ade96\",\"#80d096\",\"#33ba96\",\"#9bc796\",\"#9b4496\",\"#5f5f96\",\"#f02d96\",\"#373296\",\"#8fd896\",\"#5c5a96\",\"#ab5196\",\"#867e96\",\"#f63296\",\"#dfa396\",\"#567696\",\"#328096\",\"#de8696\",\"#de5496\",\"#e58696\",\"#f32596\",\"#929696\",\"#5f1f96\",\"#bb4e96\",\"#d1c196\",\"#993796\",\"#9dc996\",\"#c4c496\",\"#7fc096\",\"#b06096\",\"#8ce096\",\"#6ea996\",\"#7b3e96\",\"#735596\",\"#f36b96\",\"#4e4096\",\"#67de96\",\"#72c296\",\"#ca8296\",\"#9de296\",\"#f76496\",\"#65d696\",\"#974896\",\"#ae3496\",\"#687796\",\"#eba896\",\"#c33b96\",\"#7f3496\",\"#b74196\",\"#c4b096\",\"#ef5f96\",\"#e24e96\",\"#3f9096\",\"#884496\",\"#855796\",\"#465e96\",\"#999896\",\"#38dd96\",\"#63a796\",\"#47d196\",\"#c69f96\",\"#7b8096\",\"#db6696\",\"#889b96\",\"#f36296\",\"#378f96\",\"#5a4c96\",\"#95cb96\",\"#df2f96\",\"#5f9696\",\"#7a2c96\",\"#442496\",\"#da4296\",\"#60c596\",\"#388d96\",\"#9ece96\",\"#63d196\",\"#d4cd96\",\"#f46b96\",\"#6c5e96\",\"#37df96\",\"#b8ce96\",\"#75c496\",\"#343796\",\"#754e96\",\"#75b896\",\"#9d6296\",\"#479096\",\"#d5bf96\",\"#c92996\",\"#578796\",\"#f64e96\",\"#d2b796\",\"#713f96\",\"#f06596\",\"#37e496\",\"#9fa596\",\"#bec296\",\"#333396\",\"#49d296\",\"#785e96\",\"#8a5e96\",\"#c7e496\",\"#b98796\",\"#91b796\",\"#f45c96\",\"#eb6996\",\"#944c96\",\"#b05b96\",\"#b2c296\",\"#af7c96\",\"#83ca96\",\"#862396\",\"#b93296\",\"#c09896\",\"#c6d396\",\"#5e8296\",\"#85b396\",\"#41a296\",\"#547696\",\"#9e4a96\",\"#4d6996\",\"#bdb496\",\"#71c496\",\"#df4696\",\"#b1b096\",\"#66a096\",\"#3a3796\",\"#a71e96\",\"#6a5896\",\"#8ba696\",\"#bd3096\",\"#389096\",\"#995796\",\"#ab4b96\",\"#af2896\",\"#c93996\",\"#6a6096\",\"#695296\",\"#b2b196\",\"#eeb696\",\"#58e596\",\"#f71f96\",\"#d07e96\",\"#9ed896\",\"#7b3096\",\"#547596\",\"#d9ac96\",\"#9dcf96\",\"#ed5d96\",\"#a49f96\",\"#58c696\",\"#efc196\",\"#652396\",\"#5ee296\",\"#da9996\",\"#519196\",\"#8ce596\",\"#429096\",\"#f4a796\",\"#85d196\",\"#f67996\",\"#dde096\",\"#ab6b96\",\"#c7b496\",\"#839296\",\"#c54e96\",\"#c49c96\",\"#e18796\",\"#aa2396\",\"#bda296\",\"#cbb296\",\"#4e5196\",\"#d85596\",\"#a5e596\",\"#6a3a96\",\"#f0b996\",\"#606996\",\"#f6ca96\",\"#3fa296\",\"#ea2296\",\"#92a796\",\"#9d5296\",\"#7bb996\",\"#4e1e96\",\"#507096\",\"#965b96\",\"#ca7f96\",\"#5eaf96\",\"#3ce596\",\"#ed4b96\",\"#53a796\",\"#c58e96\",\"#626996\",\"#ceda96\",\"#9d4496\",\"#d55e96\",\"#6b6f96\",\"#95c596\",\"#e45b96\",\"#745796\",\"#d25396\",\"#f04296\",\"#c71f96\",\"#8b3c96\",\"#5f8196\",\"#e46f96\",\"#ce9196\",\"#ea7296\",\"#70df96\",\"#cf8a96\",\"#cdc796\",\"#9e7796\",\"#a18c96\",\"#a2c796\",\"#42b896\",\"#448596\",\"#6b4296\",\"#597b96\",\"#84c996\",\"#8cbe96\",\"#7d6396\",\"#aa2f96\",\"#924d96\",\"#ea3396\",\"#58d996\",\"#377a96\",\"#6f5896\",\"#883796\",\"#606496\",\"#e98196\",\"#515096\",\"#53e596\",\"#d52796\",\"#bc6696\",\"#b0bd96\",\"#de4396\",\"#39dc96\",\"#5f6e96\",\"#e37e96\",\"#52c196\",\"#589f96\",\"#e78896\",\"#352796\",\"#4db196\",\"#92c196\",\"#b15496\",\"#c7bf96\",\"#b97796\",\"#474896\",\"#b8b996\",\"#df3b96\",\"#949496\",\"#c7ce96\",\"#992096\",\"#6a4896\",\"#d72996\",\"#7f2696\",\"#9bbb96\",\"#41df96\",\"#48a196\",\"#35d896\",\"#b17096\",\"#519f96\",\"#665c96\",\"#ca3296\",\"#e7ca96\",\"#6d5c96\",\"#f72096\",\"#5a8996\",\"#454e96\",\"#5f3696\",\"#b95796\",\"#afc996\",\"#804096\",\"#713d96\",\"#818b96\",\"#607996\",\"#95be96\",\"#d05696\",\"#c22496\",\"#bc6196\",\"#3f6e96\",\"#736896\",\"#605196\",\"#e97096\",\"#8b9496\",\"#56e196\",\"#3ac696\",\"#e19596\",\"#acb496\",\"#557496\",\"#bdc896\",\"#845796\",\"#41bf96\",\"#6f3696\",\"#9f7296\",\"#b19096\",\"#3f9c96\",\"#43c196\",\"#963b96\",\"#417796\",\"#ed7596\",\"#7fda96\",\"#72c096\",\"#8d5096\",\"#4f8696\",\"#4de496\",\"#628796\",\"#932096\",\"#929f96\",\"#d18a96\",\"#674796\",\"#a89b96\",\"#cba696\",\"#e63096\",\"#ac9196\",\"#534e96\",\"#bbdd96\",\"#c1ad96\",\"#902a96\",\"#d78196\",\"#f3a996\",\"#9e9196\",\"#804496\",\"#b8bd96\",\"#eb7196\",\"#e47896\",\"#5da296\",\"#552996\",\"#e69d96\",\"#edb196\",\"#7c9396\",\"#8a8396\",\"#8c2396\",\"#8fd996\",\"#9e3696\",\"#e16996\",\"#60b196\",\"#689c96\",\"#602f96\",\"#8d9196\",\"#7e6196\",\"#db8996\",\"#c04396\",\"#58d796\",\"#715596\",\"#ea3496\",\"#3ece96\",\"#768796\",\"#f75c96\",\"#b5a196\",\"#e59b96\",\"#818c96\",\"#3e4f96\",\"#b25796\",\"#88cf96\",\"#af6396\",\"#839f96\",\"#b69096\",\"#f88d96\",\"#e8d396\",\"#dcb396\",\"#992496\",\"#c52996\",\"#406296\",\"#482396\",\"#b38b96\",\"#aac196\",\"#40aa96\",\"#683096\",\"#ca7396\",\"#359096\",\"#b7b396\",\"#aa9f96\",\"#5c9496\",\"#567096\",\"#39a896\",\"#eb7596\",\"#705d96\",\"#a63296\",\"#a92896\",\"#492196\",\"#403996\",\"#88d296\",\"#436696\",\"#666696\",\"#32d796\",\"#567296\",\"#d89996\",\"#875e96\",\"#6ce296\",\"#de1e96\",\"#b25396\",\"#538096\",\"#617c96\",\"#e44296\",\"#d67196\",\"#a8b296\",\"#dfad96\",\"#f68f96\",\"#e69a96\",\"#cca696\",\"#76bf96\",\"#bd4796\",\"#dfc696\",\"#832096\",\"#583c96\",\"#362b96\",\"#405296\",\"#b0d396\",\"#de5696\",\"#dc2696\",\"#412f96\",\"#a2c196\",\"#6b4c96\",\"#343496\",\"#f25796\",\"#cbc296\",\"#6bcc96\",\"#65ce96\",\"#c3bb96\",\"#dcd696\",\"#928896\",\"#65b096\",\"#888c96\",\"#eed096\",\"#c37a96\",\"#479d96\",\"#4a5396\",\"#4ce396\",\"#f5ac96\",\"#57c896\",\"#706096\",\"#566e96\",\"#472196\",\"#a9b896\",\"#cf4c96\",\"#da9596\",\"#cd5d96\",\"#a9bc96\",\"#c53296\",\"#adc796\",\"#ccd196\",\"#f96c96\",\"#a59896\",\"#b14f96\",\"#f5c396\",\"#ea5196\",\"#743696\",\"#a8a996\",\"#a27396\",\"#3f3e96\",\"#bbaa96\",\"#815496\",\"#d25896\",\"#574e96\",\"#f82896\",\"#ea6d96\",\"#6b8c96\",\"#5c5a96\",\"#b22d96\",\"#777096\",\"#e94c96\",\"#8a8a96\",\"#c7e096\",\"#a86a96\",\"#8f6a96\",\"#a25696\",\"#3f8596\",\"#ef6696\",\"#648296\",\"#96d896\",\"#803296\",\"#982b96\",\"#bda396\",\"#a3c396\",\"#c78696\",\"#b68896\",\"#53de96\",\"#f24996\",\"#c44896\",\"#687096\",\"#ae6396\",\"#37c196\",\"#d15796\",\"#e1ae96\",\"#7d9896\",\"#615e96\",\"#f79e96\",\"#789a96\",\"#795c96\",\"#89ad96\",\"#d42c96\",\"#33aa96\",\"#93a896\",\"#8d7196\",\"#639396\",\"#43ae96\",\"#4ba596\",\"#d62596\",\"#eb7d96\",\"#b16e96\",\"#476296\",\"#446096\",\"#77ae96\",\"#40c796\",\"#878c96\",\"#af8d96\",\"#b8d796\",\"#456796\",\"#938296\",\"#bb5e96\",\"#365496\",\"#5f3b96\",\"#7e9896\",\"#564b96\",\"#689d96\",\"#a7a496\",\"#86a096\",\"#698196\",\"#d02f96\",\"#e59796\",\"#5d2d96\",\"#e08596\",\"#92ac96\",\"#57b096\",\"#e52996\",\"#db8f96\",\"#f39796\",\"#68cb96\",\"#717b96\",\"#477196\",\"#447c96\",\"#c4bb96\",\"#e89696\",\"#8aaa96\",\"#ad8f96\",\"#8c2d96\",\"#cd4896\",\"#b35096\",\"#4bb996\",\"#788896\",\"#404396\",\"#c42196\",\"#546496\",\"#bcbf96\",\"#908c96\",\"#cc8c96\",\"#bbad96\",\"#b86b96\",\"#e5b196\",\"#9fc196\",\"#d1bf96\",\"#6b2196\",\"#785c96\",\"#7ebb96\",\"#a32d96\",\"#e32396\",\"#f77c96\",\"#69bf96\",\"#634b96\",\"#ba6f96\",\"#ca2a96\",\"#e0aa96\",\"#837d96\",\"#795796\",\"#a2d196\",\"#98c096\",\"#6f5696\",\"#638796\",\"#3e3096\",\"#35c796\",\"#74d096\",\"#b74d96\",\"#7b5896\",\"#f5bd96\",\"#abc496\",\"#889f96\",\"#9fa796\",\"#882096\",\"#a0b496\",\"#8eb596\",\"#6b9296\",\"#931f96\",\"#5b9396\",\"#a88c96\",\"#443a96\",\"#98d396\",\"#a84d96\",\"#939c96\",\"#8cd196\",\"#368496\",\"#f56096\",\"#e75896\",\"#5eca96\",\"#a2db96\",\"#c17596\",\"#542f96\",\"#376d96\",\"#6a8b96\",\"#755696\",\"#657096\",\"#323096\",\"#659796\",\"#58b596\",\"#b26b96\",\"#486b96\",\"#c6d796\",\"#3e7d96\",\"#977196\",\"#78c096\",\"#adc096\",\"#a33d96\",\"#53d796\",\"#d99e96\",\"#ddba96\",\"#b8b996\",\"#3b3596\",\"#602596\",\"#af7e96\",\"#aebb96\",\"#f85496\",\"#ab6496\",\"#b98a96\",\"#3f2396\",\"#496496\",\"#cee296\",\"#52b796\",\"#893896\",\"#516996\",\"#bd9296\",\"#a02796\",\"#eb8796\",\"#e0c896\",\"#7bda96\",\"#75e596\",\"#5ed496\",\"#c4db96\",\"#da5096\",\"#96a496\",\"#ecbb96\",\"#679496\",\"#c4ce96\",\"#665496\",\"#3d3496\",\"#db7b96\",\"#f94f96\",\"#334396\",\"#696696\",\"#bd9596\",\"#f09796\",\"#9b9196\",\"#3cc996\",\"#752396\",\"#5f4f96\",\"#345596\",\"#529f96\",\"#879496\",\"#39a096\",\"#9ddf96\",\"#908b96\",\"#c38e96\",\"#ee5796\",\"#379a96\",\"#a69c96\",\"#936996\",\"#7b7496\",\"#a3c896\",\"#376296\",\"#907a96\",\"#4bb396\",\"#af9e96\",\"#e58296\",\"#582796\",\"#643c96\",\"#6b8096\",\"#403796\",\"#f2a296\",\"#c28196\",\"#815496\",\"#cd9096\",\"#6ca596\",\"#5b9596\",\"#f4d096\",\"#958796\",\"#f35896\",\"#ee5396\",\"#44c996\",\"#4e9196\",\"#b6c896\",\"#858196\",\"#dc2a96\",\"#f43b96\",\"#cda696\",\"#a84596\",\"#ed5296\",\"#5d9196\",\"#70e296\",\"#5ce596\",\"#a16596\",\"#da9896\",\"#54b096\",\"#3e9996\",\"#5aa596\",\"#b1d296\",\"#629f96\",\"#e3dc96\",\"#844796\",\"#c86f96\",\"#383796\",\"#3eaa96\",\"#662296\",\"#5cb096\",\"#d7db96\",\"#d8da96\",\"#cb8f96\",\"#e29296\",\"#97be96\",\"#7b4296\",\"#4b6096\",\"#cbb496\",\"#5ddf96\",\"#3d4896\",\"#397896\",\"#bf9796\",\"#dac596\",\"#b26796\",\"#d69296\",\"#cdbc96\",\"#36a496\",\"#67bb96\",\"#a32a96\",\"#765596\",\"#c7e396\",\"#4b8b96\",\"#72af96\",\"#346c96\",\"#94b396\",\"#d77396\",\"#ca5996\",\"#da2f96\",\"#cf9196\",\"#c9a696\",\"#3aaf96\",\"#7c8696\",\"#593896\",\"#8d4396\",\"#f22496\",\"#6ac596\",\"#d7a496\",\"#b5c596\",\"#db2596\",\"#60c196\",\"#715696\",\"#37ce96\",\"#b4cb96\",\"#da9696\",\"#703196\",\"#d12a96\",\"#bed996\",\"#a3cc96\",\"#be5196\",\"#442996\",\"#7f5696\",\"#cc5f96\",\"#8c8d96\",\"#e68b96\",\"#a2a096\",\"#dd3496\",\"#534896\",\"#afd496\",\"#586b96\",\"#5a7f96\",\"#4f8196\",\"#339596\",\"#d99a96\",\"#acc496\",\"#3cd896\",\"#6aa496\",\"#c07b96\",\"#ed8596\",\"#7f2096\",\"#63d596\",\"#b5a696\",\"#67c396\",\"#48b196\",\"#c34f96\",\"#a46c96\",\"#458f96\",\"#d03a96\",\"#d14396\",\"#974396\",\"#79c696\",\"#a0ba96\",\"#648496\",\"#882796\",\"#b13e96\",\"#794d96\",\"#3e7196\",\"#4e7a96\",\"#615896\",\"#e76896\",\"#55a996\",\"#918396\",\"#deda96\",\"#a8dc96\",\"#8d2e96\",\"#9d5f96\",\"#908b96\",\"#851f96\",\"#a39996\",\"#c88496\",\"#631f96\",\"#597b96\",\"#37da96\",\"#b5ad96\",\"#3a6d96\",\"#f66b96\",\"#f0cd96\",\"#f15e96\",\"#e23396\",\"#406e96\",\"#926596\",\"#ca9596\",\"#a71e96\",\"#78c896\",\"#b1db96\",\"#964b96\",\"#d92596\",\"#72be96\",\"#895a96\",\"#4d7d96\",\"#d75696\",\"#ec1f96\",\"#e32496\",\"#c2cd96\",\"#ee9696\",\"#4b7396\",\"#d78996\",\"#763496\",\"#734696\",\"#c28496\",\"#343096\",\"#7ae396\",\"#393a96\",\"#79a296\",\"#515596\",\"#8ee396\",\"#f69c96\",\"#a27a96\",\"#f6b296\",\"#e92996\",\"#6e8696\",\"#c54f96\",\"#f26196\",\"#48e296\",\"#ec4c96\",\"#dfac96\",\"#985096\",\"#4ce496\",\"#4abf96\",\"#aee396\",\"#583d96\",\"#a6cb96\",\"#db2c96\",\"#7b8196\",\"#a8d396\",\"#968d96\",\"#485396\",\"#d48096\",\"#b4c796\",\"#9a2e96\",\"#af8596\",\"#d04d96\",\"#894c96\",\"#d9cf96\",\"#425996\",\"#a78996\",\"#654b96\",\"#ed7296\",\"#412d96\",\"#387596\",\"#ce9096\",\"#ed3896\",\"#d09496\",\"#a4d796\",\"#eb7c96\",\"#678496\",\"#4cb096\",\"#728c96\",\"#8c6d96\",\"#91b296\",\"#6c2b96\",\"#964996\",\"#5ea696\",\"#52aa96\",\"#618f96\",\"#6c3e96\",\"#b0a696\",\"#725a96\",\"#34c596\",\"#326996\",\"#985d96\",\"#a5be96\",\"#577396\",\"#ecbf96\",\"#86bd96\",\"#f4e196\",\"#e36d96\",\"#652596\",\"#dd2e96\",\"#bdc896\",\"#6e6a96\",\"#b95696\",\"#e1c796\",\"#473396\",\"#407d96\",\"#c82796\",\"#9c3296\",\"#e9e296\",\"#d12496\",\"#d9b896\",\"#b14596\",\"#607b96\",\"#904296\",\"#5be096\",\"#4bca96\",\"#f7b996\",\"#e46196\",\"#384e96\",\"#79c496\",\"#402696\",\"#bb8496\",\"#d6d096\",\"#eba596\",\"#884396\",\"#4ba396\",\"#708b96\",\"#3f9a96\",\"#bf8d96\",\"#757a96\",\"#729b96\",\"#4d4796\",\"#362196\",\"#82b796\",\"#4e2f96\",\"#945c96\",\"#f78796\",\"#525b96\",\"#c64096\",\"#6e9096\",\"#f3c996\",\"#3d2a96\",\"#d39496\",\"#91a996\",\"#5ac296\",\"#974d96\",\"#d22196\",\"#d25796\",\"#824c96\",\"#533996\",\"#bcab96\",\"#5e9896\",\"#999796\",\"#a37796\",\"#57da96\",\"#f5c796\",\"#4a3796\",\"#b16b96\",\"#66d296\",\"#bacb96\",\"#eabd96\",\"#6b6a96\",\"#a49596\",\"#c23296\",\"#bf5096\",\"#f22b96\",\"#b39a96\",\"#4ab096\",\"#92de96\",\"#46af96\",\"#e9c596\",\"#d78696\",\"#63d796\",\"#e2bc96\",\"#db6f96\",\"#a86f96\",\"#d5d796\",\"#83aa96\",\"#d53396\",\"#f56496\",\"#e1ce96\",\"#7e8f96\",\"#c06796\",\"#826c96\",\"#f7cb96\",\"#dd6096\",\"#836796\",\"#6dc896\",\"#5eb296\",\"#6ae096\",\"#f07b96\",\"#ab3296\",\"#a94f96\",\"#3fdd96\",\"#e07496\",\"#996596\",\"#f27496\",\"#9d7696\",\"#6b7996\",\"#342196\",\"#44d696\",\"#3f3c96\",\"#ed8c96\",\"#523796\",\"#7b9396\",\"#80b996\",\"#b9d796\",\"#9d6b96\",\"#bd3e96\",\"#d38a96\",\"#966796\",\"#9c4f96\",\"#b2b896\",\"#4f8896\",\"#a88d96\",\"#a32b96\",\"#e68e96\",\"#824196\",\"#504a96\",\"#54a496\",\"#9e6596\",\"#367296\",\"#dd2196\",\"#4d9196\",\"#894e96\",\"#607896\",\"#5d8896\",\"#715e96\",\"#4a2d96\",\"#ec7496\",\"#594c96\",\"#823696\",\"#a5c596\",\"#346a96\",\"#c45896\",\"#b46996\",\"#6c7396\",\"#4d5d96\",\"#b6ac96\",\"#e2c896\",\"#674196\",\"#477896\",\"#503d96\",\"#7d1e96\",\"#9c3e96\",\"#aac396\",\"#54a796\",\"#874596\",\"#5a7896\",\"#6d3796\",\"#6d5396\",\"#ce2196\",\"#c75e96\",\"#8ba296\",\"#ecb796\",\"#602696\",\"#f3cd96\",\"#448e96\",\"#f88e96\",\"#89c796\",\"#c69096\",\"#3da596\",\"#cc7496\",\"#955696\",\"#88d896\",\"#67d396\",\"#54bf96\",\"#34a896\",\"#808096\",\"#3c7496\",\"#455a96\",\"#a8bb96\",\"#c8a796\",\"#46b096\",\"#68a796\",\"#958c96\",\"#b8a496\",\"#883d96\",\"#7b8d96\",\"#644896\",\"#708a96\",\"#46a696\",\"#ad7996\",\"#f83a96\",\"#3f3796\",\"#447696\",\"#b09a96\",\"#397b96\",\"#ce3396\",\"#435696\",\"#77b696\",\"#b04396\",\"#844696\",\"#787596\",\"#e48c96\",\"#98db96\",\"#c6ca96\",\"#f38296\",\"#3b6d96\",\"#331e96\",\"#818196\",\"#f23b96\",\"#6a5296\",\"#7db296\",\"#dda296\",\"#8a2396\",\"#dd2496\",\"#b28496\",\"#b6a796\",\"#ee7296\",\"#f4a996\",\"#57cf96\",\"#924796\",\"#809696\",\"#809c96\",\"#cf5b96\",\"#46a596\",\"#5dae96\",\"#d82496\",\"#3c6496\",\"#f7b196\",\"#a4e296\",\"#802296\",\"#c5b096\",\"#e97e96\",\"#684d96\",\"#41e296\",\"#e53b96\",\"#c3dc96\",\"#c03796\",\"#799a96\",\"#356796\",\"#609096\",\"#f07896\",\"#c88e96\",\"#66c396\",\"#ab7596\",\"#a42796\",\"#61bd96\",\"#679f96\",\"#d54596\",\"#cb7496\",\"#c49c96\",\"#aee496\",\"#b6de96\",\"#b83896\",\"#64d696\",\"#579796\",\"#cc4f96\",\"#853796\",\"#88c196\",\"#b05296\",\"#88aa96\",\"#554c96\",\"#452e96\",\"#9e6896\",\"#c73096\",\"#994a96\",\"#f7d396\",\"#9e4596\",\"#f79296\",\"#e3ae96\",\"#bc9596\",\"#f1a296\",\"#c83496\",\"#758996\",\"#4bde96\",\"#d2d596\",\"#3fb996\",\"#e5c896\",\"#d79696\",\"#884196\",\"#694996\",\"#6b4096\",\"#f0d296\",\"#c58296\",\"#bcda96\",\"#c23d96\",\"#aa5b96\",\"#425796\",\"#827596\",\"#8bcc96\",\"#86b696\",\"#b5d496\",\"#6f4e96\",\"#b85496\",\"#6be196\",\"#9a8a96\",\"#91a196\",\"#64e396\",\"#59a896\",\"#68de96\",\"#f9e196\",\"#7f3296\",\"#494596\",\"#e79196\",\"#877796\",\"#91ac96\",\"#bfde96\",\"#534596\",\"#61e196\",\"#ca3996\",\"#80a696\",\"#c28296\",\"#ee2b96\",\"#966096\",\"#da3096\",\"#732b96\",\"#7b6296\",\"#cb7f96\",\"#4c9996\",\"#bdbb96\",\"#e75b96\",\"#3c5096\",\"#ea8596\",\"#d8b896\",\"#a38796\",\"#3d4396\",\"#577796\",\"#96d196\",\"#b5b096\",\"#392896\",\"#404496\",\"#b52c96\",\"#87c696\",\"#d59c96\",\"#647296\",\"#73b996\",\"#654596\",\"#328296\",\"#ce6196\",\"#4f3d96\",\"#b9bd96\",\"#e25496\",\"#3a2996\",\"#d66d96\",\"#58a796\",\"#979a96\",\"#40d896\",\"#3e2b96\",\"#f22d96\",\"#dc8c96\",\"#66c996\",\"#8c9e96\",\"#daad96\",\"#d75b96\",\"#58ce96\",\"#c72296\",\"#c75c96\",\"#9a5796\",\"#f88296\",\"#609d96\",\"#93dd96\",\"#8fb396\",\"#f14a96\",\"#8c3896\",\"#4a6a96\",\"#ca7296\",\"#9ee396\",\"#722996\",\"#b2d596\",\"#e3bb96\",\"#e62f96\",\"#e69e96\",\"#ca2096\",\"#983696\",\"#8aa496\",\"#b5ba96\",\"#8fb296\",\"#82dc96\",\"#ec7a96\",\"#8aaa96\",\"#56e496\",\"#5dbb96\",\"#c1c096\",\"#473796\",\"#c8b796\",\"#b34096\",\"#604996\",\"#4d6896\",\"#794f96\",\"#f85c96\",\"#649296\",\"#b82996\",\"#be7096\",\"#3f8896\",\"#b53096\",\"#c94f96\",\"#c39796\",\"#5d8396\",\"#f09f96\",\"#5e8496\",\"#b55096\",\"#8c4a96\",\"#e02a96\",\"#906696\",\"#876e96\",\"#466c96\",\"#c07596\",\"#6dc096\",\"#9c4c96\",\"#cbcc96\",\"#ae4996\",\"#bca996\",\"#632a96\",\"#459696\",\"#d03096\",\"#cb3696\",\"#568296\",\"#aea696\",\"#6f8e96\",\"#deba96\",\"#404096\",\"#8ed996\",\"#884e96\",\"#43bb96\",\"#3fd196\",\"#c25096\",\"#883c96\",\"#5b4196\",\"#d64196\",\"#d67096\",\"#6e5496\",\"#d95e96\",\"#936c96\",\"#733f96\",\"#a5bf96\",\"#aec296\",\"#36cd96\",\"#b9be96\",\"#484c96\",\"#c12196\",\"#e89c96\",\"#bc3396\",\"#91b796\",\"#d15996\",\"#542d96\",\"#975a96\",\"#412c96\",\"#7ead96\",\"#666596\",\"#5fb196\",\"#cb6196\",\"#5c2196\",\"#616696\",\"#842b96\",\"#bf8f96\",\"#489096\",\"#36c396\",\"#de5396\",\"#4b3496\",\"#4fcb96\",\"#ccdb96\",\"#aeb896\",\"#a65596\",\"#dbca96\",\"#de4896\",\"#873596\",\"#3e2b96\",\"#bfbd96\",\"#342296\",\"#449296\",\"#7b5b96\",\"#a8a296\",\"#f4b896\",\"#9e8c96\",\"#a54a96\",\"#eebb96\",\"#e29596\",\"#665f96\",\"#a99c96\",\"#5de596\",\"#a65c96\",\"#643296\",\"#ad6c96\",\"#944596\",\"#646d96\",\"#942e96\",\"#728b96\",\"#e1b396\",\"#50a796\",\"#ca8496\",\"#e26696\",\"#5bca96\",\"#5bc496\",\"#45ca96\",\"#6ca696\",\"#a88e96\",\"#6a3896\",\"#ef9a96\",\"#3c6b96\",\"#3e2896\",\"#91a796\",\"#a5c096\",\"#83e396\",\"#ef9796\",\"#923296\",\"#d65a96\",\"#b73196\",\"#56b996\",\"#60d996\",\"#d14396\",\"#ec3e96\",\"#eb3096\",\"#c15996\",\"#e72396\",\"#f99196\",\"#f1ba96\",\"#567696\",\"#8ee096\",\"#e04c96\",\"#6ecb96\",\"#357e96\",\"#cb8496\",\"#768496\",\"#842b96\",\"#64a596\",\"#8a4796\",\"#937096\",\"#f62e96\",\"#7e8496\",\"#65c396\",\"#5a4996\",\"#d6a096\",\"#8d4c96\",\"#466c96\",\"#381e96\",\"#ef1e96\",\"#3a8096\",\"#8b4596\",\"#f25f96\",\"#e39096\",\"#8a6596\",\"#ee9096\",\"#5ea096\",\"#d9a596\",\"#b5c496\",\"#bbe196\",\"#464696\",\"#88be96\",\"#df6e96\",\"#9b6796\",\"#353196\",\"#4d5996\",\"#395e96\",\"#5b6b96\",\"#4a9d96\",\"#bdcc96\",\"#759596\",\"#f7bd96\",\"#b77996\",\"#f75096\",\"#c35f96\",\"#98d296\",\"#3ad696\",\"#9e3d96\",\"#e49b96\",\"#923b96\",\"#77a996\",\"#4c3196\",\"#743296\",\"#593a96\",\"#89bd96\",\"#94dd96\",\"#b4ab96\",\"#38d696\",\"#57cd96\",\"#a22396\",\"#6ba696\",\"#58c996\",\"#513796\",\"#9cc496\",\"#7ae596\",\"#5d9296\",\"#cbd196\",\"#665196\",\"#37cf96\",\"#8f4b96\",\"#cdb996\",\"#c0e296\",\"#e55396\",\"#c9c096\",\"#499c96\",\"#d75c96\",\"#a19696\",\"#7b4f96\",\"#719796\",\"#c0c896\",\"#7c4396\",\"#3e6696\",\"#c3ac96\",\"#ebc196\",\"#972196\",\"#ec6096\",\"#7ac796\",\"#7cd896\",\"#d35a96\",\"#80bb96\",\"#71c596\",\"#b83296\",\"#a49396\",\"#d33096\",\"#833e96\",\"#3fcb96\",\"#51d296\",\"#ea7a96\",\"#8fe396\",\"#76dc96\",\"#f48d96\",\"#e95196\",\"#7a2296\",\"#54a996\",\"#c7d096\",\"#75d196\",\"#bfa396\",\"#b0c496\",\"#f68396\",\"#654696\",\"#6c9b96\",\"#79b296\",\"#f4b596\",\"#7cbb96\",\"#49d496\",\"#958996\",\"#ebbc96\",\"#9c9b96\",\"#eb2796\",\"#897596\",\"#3f8496\",\"#c14096\",\"#f3c796\",\"#414896\",\"#463d96\",\"#3a9396\",\"#a48d96\",\"#35d596\",\"#e67196\",\"#ce3096\",\"#8fdf96\",\"#ed9c96\",\"#3b3196\",\"#ae9396\",\"#d48896\",\"#437196\",\"#59db96\",\"#a67296\",\"#86ac96\",\"#42e196\",\"#a8db96\",\"#be4396\",\"#933e96\",\"#3f4f96\",\"#5b5996\",\"#c5bd96\",\"#a57696\",\"#f96796\",\"#71df96\",\"#919696\",\"#d77496\",\"#e2ad96\",\"#ddb496\",\"#e6be96\",\"#37e196\",\"#73e396\",\"#322196\",\"#b47696\",\"#6b5c96\",\"#6c8296\",\"#d63c96\",\"#bc8296\",\"#8b3096\",\"#352396\",\"#409696\",\"#c47896\",\"#514996\",\"#756a96\",\"#387496\",\"#53b996\",\"#7ea796\",\"#7bd196\",\"#c34d96\",\"#824b96\",\"#4e3d96\",\"#43c496\",\"#41cf96\",\"#51b396\",\"#4c5896\",\"#447196\",\"#5f9696\",\"#84c996\",\"#b67e96\",\"#44df96\",\"#cbbd96\",\"#ee6896\",\"#99af96\",\"#ab8b96\",\"#a59296\",\"#646396\",\"#907f96\",\"#5daf96\",\"#ad8896\",\"#4b2396\",\"#d82d96\",\"#862396\",\"#7dd896\",\"#f84396\",\"#7a3996\",\"#b77996\",\"#42b996\",\"#68c596\"],\"radius\":{\"__ndarray__\":\"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\",\"dtype\":\"float64\",\"order\":\"little\",\"shape\":[4000]},\"x\":{\"__ndarray__\":\"lDWk8f8SSkDlIC36v5klQJfDsOTxWhhAUEZg3K0HV0CIzscBdRtLQFqW1zpaBjFA978VOQcVRkCl0F8I8hs/QKkJi5kiN1JA3ge6OSYlQUCvzaRBUyNVQFftncwPfktAhujh0/DiWEBc2Wm4gSI+QIedXcHuiFRA7wiJd8e1REBRXCD8SN9LQBioMhGZUjNA0I0OkDiiSUCiiMOC2zQ8QBfVNlUzaVVAyDqxNrEQUkCZp/j1uaRSQKXqylYwQDNAs5MNLCGgI0B4XpevP6HQPyq/jEQyrkBATzWRFu0SV0C1ThRxLnhKQNslD+/dSFhAOo9mu3ZaRkCs+ZGgZvRNQC6uUDnjpVRAOtsdQQJ+NUAZAr2de2NFQGtGmoJE+UFAftS+b/0wSkCWnbj1/GlSQElmxL4YqUZA61dUmRF4OEApQvYHO3JIQM3nZ/8rHjZAZ/Lbx0x5VECDhTl1+a9EQBgC22Z51DVAWqodrEsDU0A3ErVtmsxEQEn8z3Zt1UpAPN5w+zRUWEByfeDqvZBVQH5hoEJqLk1A+zrxLeriIEALRuz1oY9RQP5Z7iLvWC1AHJvSvua/WECLILknt1hTQHoeJ1rFXj9AgBmnYnA5JEASZCinw+RRQPEnE/zEc0lARBLV/f3OFUDfN7PTIBwgQGE7PMce0VdAr2FcBoRRV0BkcUFLHBVFQHirJnW6nFNAXgfCWDWhS0DyRwGpZZNIQOnpraXHIlBAoxkBwreaQUBC0zMYIchQQPDunzhSEEFAbgtRnz4ZC0CFPg8YRtBQQCw2KxDvgEpA1fR9noyYO0DZZ6SUavRFQBMnF4Ymy1hAymBf5X9AWEDCpYg9DUlDQBX3GSJ7QkBAXoCVorsJQEDON7YzacRMQJi6RhAmazRA8mT9sLxPUUCP8gTh0G5CQHZLuXsZU1NAz2bf9nElJkCwKLc69acsQCLCLvkFDDRA6Nq9qJS7NECWbqK9BYpWQCStss+uDEpAiXtaT3rSTkBpFuYKFhdBQGmzFixQWlBAkoRMsVKKUECXcd5px/BBQJLQyuQWA0JAZ5gnVAfuAUD+0J7vWlpWQDTxkJAmbU1AawmpFKCXMkAGW7MbZV5MQJa/2b1qqVVAATcUMv9wUUCtoFqvNCc+QDNt8ngAJx1Ar8nyHZbWVkBM1GNRLoNEQJDD5ETALU1AlaKoyIKhSkA74g6O8etMQLoINE0zjk5ATzqWVC4ATkDaCq/ih1ZHQDzFahZnZ0FALKKxhIQyOUDm/4iJes8CQKmMffKLClBAJg2XlnlVUEAdrOCal54mQI1uNGXXUFBAwkxMOjqjUkAH5eQt/EdPQEsSiM/Z1UNAzGqGhtugSkBOgENu5D88QJR1vW4f/0FAnk8p4uv9T0Bt+Y49TrtTQLP8EdVKaUZADSnSb59tU0Bv8jVOA7JLQJ7fInkvcPQ/kCrxKpLuP0AOVK2p8RdNQM4hl7TPtjRAy71Yvq+tTECmb6Avy+UxQDy/QMLveUZAHF/8yqfcQkDNLTAPnb9TQI/bR8uGGlVAMCfwXaJdJED2WT3pVCBCQDAiIRUFnk5ARzAD4rYNQUCSppr/OOxIQBd+T2DVKFhAUo4H9sIQTkAQGQKibqogQJOlkLNMu0FAzYQqj8giT0AR00U5H7pRQGQS4o15dT5AQlvET8xJUkCXklgFXS1QQDAhOYWdpi1AzdBaqYg/SkDUgnvy4wJYQABHH3kkfFZAnWMS5JYJWEA2SwqeBE5BQG7AQDEyMCBAOrsXdFw6TEALRBbZXtNWQIRMagmvejFAU/p0Ast4UEAG1DI9o/ZSQENJc0WNcVRA3xJFq41ARkBSyN78+Iw+QJTYBBWCPlNARMXzA/tFMkAqRjG0yZv8P0939YYFtjpAjSothNcIVkBlfwwAQhBYQM/W6M+WzENAZATIWfooV0BqIO1ct/JWQMfJs2v+oBRAEJr6l0dxOkCG2NwONJcUQBKniAHbkVhAM4pv5PfkVEDrSppp+xZSQAZFphYTBjlAAs+0hiBgSUCb++ouHMdQQNP68dTg8EdAk1ZlAJpwUUAeZBrTC5BXQCgrs/j39FBATy/u3aGnU0ASWhhfEDsmQOm4CiO/w1RASFDndjVGR0CPlCciZb5VQADxoaWISjVAlMzall36IEDGKANtoS4hQIcEkFErqUNA1bcywY/TQECljp/T7mk+QBgSR/CwnEtAGlOaztanKEBZJg6L16NIQKafEsiaNFVAl7GZb6YpU0AZBXYtcHVBQFGeQieyYU5AXrVqX4XGQUBfLCZbG75WQOc9iu7Jbk1AXC2+Jj9OA0BUFzyBd8JEQHAaT1TjIU1AKBLyyrl+OkAnEBjBd9pMQB40HZrC+EtAcPQZMkzF+j86qT4pbNJGQMKJsez5M1RAYljADOtLV0CoOMQe2lc2QPlIYx1PRShA9JwP8hFkU0BXTSsOMsFHQNilCgiwjhpA8tvDIjKpMUACahBZHuZMQLAdTlvdLk9AEr3RGNpS/j/oa8Yq6KtXQLHW8ULn2FhAr3OHJTIJU0C+dQ5bt/RRQJpwvbVLoz9AsvDR1L3XJEDu6GF6gMBVQKntBG2IBFZAQqpC2TDtUkDUIiybM+YYQFbWs6YvYSBAeVvjHsOJDUCL4r0AQIVTQL+Yh6GSrEZAXx7CxTeNRkBBy9QwiHhVQOdRimYQ4VRAEh4P1h3rKUDxttiIHDpOQIYVngVqezNAuo/12kbYOkDSdqnHevFJQHYYy633BEdAJgDZPYXpRUCQhBYZyylRQEI+CLhggktA0RbU/I/eM0ALAMxvP8pCQEm5mgGPTVJAvBta1IpUV0BHVn69esZRQOF30j6bFUhAFrQatxawS0Cr4t2h0rtQQPuKyNAZM0hA/j5qmW/ALECAunYR1SFWQPR9sDNxPipAWsdUC34JPUBaYbAkixxQQJcfeW26HlBAeop154WINUCwnxTQeZdAQE4uZkK0SVNAL3SARaAGS0B71EDpqdlRQGUtO0qxsVFAXXGgPuTLV0BYNXXd4OAwQDagR/A+Wi9AGCToWEWCWEAAo0lvZ2RDQDAKaWQDpVRABuFVwzzSVUCKkuET5uo6QFXMd+wz/D5AN88a1vs9P0AVBhf1wHA2QHE/I7iMhlhAcfZToRcEU0AX8+xUlCNUQN9+wl4Et1NA/1CfLag8VkANKat1TsJLQJ38uTDf21FAFApklZNbAkCGId4p880bQGmckVizKjNAuSPnR+aBT0DK+aMpQxVXQBe8h2mXBlFAvOcyZ8tdN0AW9GeVHFUdQDRp53T37FNA5yKmYPGxOkDA63ZTmJq1P/piQzHShzJAoaqkH13gSEALVqwi+HI7QEtfA6YWE05A2qK59OJL+T+Feti4F71FQJ2DUI62hThAH59dhNjfV0B1uhZZIno6QAhlgJDUAkpAoiMQWBypTUC4OKks5bhHQIvHvkelqz5AqUnJ7lUIKUCf7ALfmWJYQKnEhRhxO01AMK04FUMNQ0BEGZgqecBGQBDsOMNn7D9AqUj2s6T/QUCvYKljomAxQDQAm4rRzzVAzsCi7SGPOEANKduwQWxAQKHuhg5wxERAXMArrSBjVUAHcE+XewlHQAgo8CiXyt0/6Hg0vOo/TUAMROARPr1YQKoywjRbqk5ARiBnIvJHI0BAWDIMp7ovQNVPXvicSkpADn55Snq2SEDEkPR29axEQEoQX8UJHlVAS2pUSpGbVkBifnUFVJkpQO4a6bRA6VZAlZkyVxf+NUCbLPE+IStXQEHR+ochN1VAIuf6j64qVkAmyWPk9AxPQDaGpfCUdFBAAqHg1y7xVECDUQWmKMQ+QBQg2V0l/hZA4T+bp0rMO0CeBF+H87I1QBNg1gWHXlZAEks+r/R8TUABBF1cD4Q+QKi5KBzAXydAvq2WPlwYHUByiYnypLI1QE1gsiKO9VRACkMDErInRkCxIoHXEPxBQM7WQWHEQTxAYtqEYopHQEBlMn0Kzmg8QG0wW4giyFRAwWPo46VcUkAWe3ruvFFNQMcM3IPw0lNAEtrh3+JVF0DsFYitmXhPQHBNf4DaQQdAOszx4dtzWEC1xCT2WgBOQJjC2iKPnVFApxkwJ7LEVUBE6jx7Oq4wQEH2ewyKZUZA+9mnxViYQkCplvGVp5hMQF6VCo63rFFApkmlv+gIM0BzE3ZQG55MQJ2LglJmeVJA1dW1GHTaSUAm+mE5yNFHQKfxTjKgajZABp19vZWdNUADq8tBPORGQIaRjKztLEJAgHYsflRCRUCXDg3n71lMQC73u3CUbv4/qDaqcuCnDEDo8HqtS0IxQI1bFNDvlUNAUnCEDn2tN0DYAzMgLmEwQBjEcHapgFhAsjcY3g6UVEDC55Ry11tQQB2FxyMjJ05AZQp3NNLWV0ChDK9TiqBPQFZV/B9MCkBA1u5t7JqMS0DKevYLYxRTQBeM3QA1tFJA/emDyC4pFUC4SfN5Zf1UQEOghmG71z9AnDpm/OTJTkDyXRdPjcBGQEpJPAPFJRpALnfTfYrw+j/S4YwSwMpEQDpzu0QAFlRAegEZprYePkAD+3Lf9U1SQOLDVa/9wDFA2+Zb6fLWWECPXdEVX79JQGSYcRX+K0hAjgQcS8QDVkDUbFVTa0BNQGouGQOTg1ZAuQJmtPO5QUA6yIYcivNRQJq73q6WpFNAUR3CffcnNkBDvneqBtZYQGQooBzYEU5ATUmRPw6TR0BJBrCylBo1QN5tpDUUUUtAVhQUuomFV0DULP8M0/k6QMlRE7v0MlFA1ERtTpM8R0AWrZBb+GpPQAok4JOstydA5gPlHPdGVEApjM+fEFFUQGa61Ex9OFFA5rqylKuZSkAQ4OnUUQxSQDq1XJB/8PI/iApSRWF/VkCGtePLIWg5QE6ARuDeci9ATvZYJMPoUUAB7w0RdthYQOkAC0FDNkxA78ltR25nN0CzXcDuGv1NQKL1KcvCT0JAKtTOmfe7L0C88fxlLTpOQG1ZLouYTlBAUzgjuPyfUkC6QJc0WQlGQOGzxOFZQEBAclxcZbB3OEDfznjQ0FFQQHoIuf6DvVBAWl2e9jdmVkBB162APXZDQF9uJecCg0JATaDgY8S6VkB4p8ZwmptBQOYyV7SfLTBAzEDLN6R8U0DyvM5H5qYkQCUWTGkyjUhAa3vAidHDUkAaHke6BMVLQC2cqHVP5EZAjxWPL7opU0CpMUHLsk9HQIizulQgUFZA2EVSQQ/uVUDvP9Qpo1wtQJ6oMFz6WlNAysSO0QGrSEDDBE3W7PYzQNiCq4bOhkZA7iSwX/2sVkBkAytMH3pPQGCtOa/xuBhAE/7RTqpVMEAYgy+L+shMQFoVl4I6ZENACwuN/RaMOUCv/upBdPpAQPiKEqToPk1AyFfCkY6XQUCUYPml2X9MQJlXHh60plNAXcQd/sI+QEBfUfdaWfxWQLnOJC4PYFBAkAdbgpGfNUAV+D+SYxNYQNxDP+K9FktAN3lA6ec7VEBP/1QG43hVQOWWIO1au0pADHhe6r5DUED4+cZd5uBIQCw5hcYa1jZAcIYFhGDoU0Dsp5wfaXhOQGYeaQeh6ExAq8MLHh0hTECKKGTwxYdAQC7w5ucvE0VAuh2VQOpZUECwyQquozlVQBqKIIZhSVdA1fZvzXSiREDEpkxIo/1NQPmk7q+9FjFAq9vpm8AkVEBejYpPrNs6QAFV2zAVU1BAdnb9LLwdRkAcDWJXxv0nQAu6ZcMBj09AEXLNU9xNUECffRcgmG4uQPFJn2G7ZCtAj5vNJTMPJ0C3Mjse4vpKQCnWulg00D1AQcnLPt0mQUD0VSY9dfpSQF6oEu5Ms05A030wy12/UUAGlGPE7DhHQFklhu5jHzlAhKy6Z/jrMUCyYz1OENkoQJAd+UeC8kJAnD0BE1PCUEBx2kXz6Yo1QHH0FzQgUFFAxajc8y+QSkDGcmLOYoRWQJPdA0agplNAB8ZddnDgPEDY6sMfFjxYQNTjQGvGtEJAH/ggucd3SED2iuvAan5XQMvpdYaljlVAFpxLeEIRSEA7bsuQpYNKQFnYhiqHhkNA46l24u2/U0BDNanPzzNSQJQt6zfgbTRA4HIZ8GvCTkCmCRpfCQhIQNu8082wKFdAPgkY+WkSV0B+roYll8dXQNzq0x3tYFhA9breiApaR0BE5a/EfpU/QAaWZftm9kBAMF07ZdZgVkAHdzCJ4ZJIQEjSZLCXUVdA+Stl9FeLVUDMp7il9JoxQCUSbERFoUJAsJiQDJnsSkA9IH7yrAVDQI+TunIxNFVAVs3Ax+wFQ0C6hgpEYMn0P6KUFEQnKzFATLmJdkZ0U0BNfI+Gb18zQHgWYZQhK0dAfBM/rk/FUUBQQ2aqyczFPzV3hWQoWFZAqHmda2QBQEDb5IiHr/VDQH6Mc2vPtUpA9gtLoWkpSUB2pPJH5oRHQFxYz4D79FJAzAMCHYZtQUDbZAY9vsRKQDHJLHnNcVFASK9aMmW9O0AP1yPc0kdKQC4VnPkXrDNA0fe2YG+pRkDXEt62og1BQNTW37TMUTlAju6A9K2ROkCzLJmihF9RQFMtpFCBRzFA+bIB+QfLN0AsMV6IZ6pQQKi8qzt6hk5A4EgPSVAaMkBcOCt+gVhRQJZpw7vk20NANAbhavLZVUCGz7LhaR5FQBxhmgsk21JA/BnDlUHaU0A/SoZle7EsQAUMH9Kc0zhAbr5DEyUNWEB7ac0Ll+NQQAqCYXtOf1RAlpEqfr9wRUB6Tq+GbnQxQMB1e1NYWUxAeb2VsVxiOEDY97r+EpQ5QElkyvxcADhALgKl4agaM0DW2x3du99UQJQoD1E+DU9AiZyyXK9PUUCK8xsY4YBMQLpoq9hCYCFAtmoEuiZqU0A3PMSFnu4EQNmpYZsKqlVA6gKdpv7FUUBEgK8GxdpMQC6eQRXPpEhAlxXJjp/zR0Bh4bykkupSQH4CYn7TdCFACcmUvduqUUDMuUyPpyIQQFbKoJtD/kVAGF9XvUuqDkCa9XfCdpVUQF3obbp8DEVARlE9COLzS0DKQ1ZgV5QzQCZl6G4G0xZAhVl7YmjzVkBPBcQ7J4E9QCt874F+cDpAtyXfd9z/TkAl+dxyMtQHQDXeZD9uBVNAbZAbJFX3QkBAtnE/gVtXQC5BcOZvnUlAJz+efTrCT0CixE1wUmtOQPiqjRzx4hJA0whd692ZT0CNpDUe6nQ3QCbkkaSPdElAZgphLVacV0DGtS6pZDg4QP1U8VrwbUtAXDOh0f9lV0CnKHgE1LYqQHJnkj+RAUJAJZbDkhfSA0BWQ1S1gwVPQFrsDZ8AVFZAoizNRpYMQECFAdeVUVEuQHbwYLXgLUFAy0BFV/bHQ0BmgTI3jphVQBITK4AiwFRAkMg2fC8bU0Af1JgZCG5VQGxQh78KVuk/aeJOJNz3U0CGeuQhV5AzQEX9cPh7HldAqAZiW7XHTUChY6rnR6NKQNW8K4P1p0RA7+PdHuu4CEDoxceJ+BJAQIOBmLz9CS1ALvGvniU8TECWCHoLbftHQDDVLJ1EgU1Ab79TrXUfVUBNBN3nVhdBQGAh0+wQhrM/f9fr+3d4JkArayii8J9LQCrsYlmxaBpAwCGXfpklUUB+SIM/mOIqQHBmBkaV31VA5SSrSy/PV0AxLxabKexUQEmcd9Aa4U5AOts36nZGS0C8o+IoZQBDQFEaAL3LZVBA9/YEhcR+UkB3mqJQ0qxMQAq/Bz8OxVBA3PAugl3vUEAEsp7amlXyPxD/HJcX/1FADJyeZr54VECRmQ/3vt83QEpblph5OzVARqCyGU3tVUBEyWDDwlpHQCtqLg8R2VRAlW9U43RWRkBMdt/Hkb9AQOpyZ/Be4lFAbvN+Kh70V0AomgQLmbgIQHQLLM0QsjpA1mLE3PyNSkDqGHdlwI1CQLB10gla8s8/L4YP/UznTEBlXHFuZVxPQOwxHSI36y5A+pJBzVilU0ANniW4DfdAQMaZF6RiiUlApUo9Ln7qQUDZVRgPIKxRQOr6oXFD6lBAihVu+XzcVkDxxrUBc95UQPY96j3Tl1ZAFK4+pwHHVEDMAlrMFxctQEh/UF67YEtAA74k3ke7UkCaNGhBcaIwQGy1D7k1ChJAMW6tYLnCQ0AzJeNj6iRQQKwYTeWNMUVAbyToZr1jVUDMIIgla1I9QMe7cRD9SzVA10HU6y7fPkArdVkpOa4xQKxHirYByj1Ar8oOoVWBUECUUa/5fQdEQD98pzyQDlZAUgfKiJ4cNUBt7xS7XS9WQAng8jFju0JAK1vbkuYWIkDjCjeH7poQQPVHzj5xZFRASycltZuXU0AEcUK4JS7pP5JgChvErwRApXi6fNYoQEDZt1shlepFQK3f7Gqup1dA2v91m2rvM0AKmnh+Lu9VQN0q9Uww2VZA8AYZTgzl9D8U38IXfVgxQICSPdLgoUlArqShVYB/UEC1IhBFduclQPxiYh4aqFdA+SgTR1nNS0AldsmdnCdYQEn3gOVKNzJAwPmY5UIVTEBrTqNT2s9SQKMRKzSSyBNAWKK/mhsOQEB2YXPtGAhSQPANFTBdSipAD/3vd3J5OEAsC2Atpr9EQNsBZrSUDlFAAo5KAZ5UA0DCzpoaL9chQAnvKUKirUNAI58almsFU0AyIpNXA+1NQOpakOT0elVAzNvaLxVO9z9bPFUDb9pFQNqL0DbYPAlAO4p9wXQBN0Cpc9WHtw4rQOIv4M1nQ0dAXSwTPp85WEBh6PPBcmc6QNQ7c/ZhpUpAmELVg1/1NkDs4HxaHaRQQAnf4eHAUlVAjP21dEdYNkCOLA4k9vcmQMDsJFkqFlNA+HKr9wwxVkD731UTAGFSQMMJMOH+V01AO+3Wb8JnU0Ajnyw4HU5QQJEthIUpH1NAek6ZRdfTR0AI19PvhG1WQI403NaNKDVA37+H/mJNTUBQV/Ye3vdYQGuhm8GHfkZAZex+Lj7UUECv6Vfp/rhRQOivNoqTalZAI3HLr/tgRkAw/cdGhlwYQFjbsDcKL1NAvGsKv7B3EUB9UCzhCVdQQMwQ1UmVrlRAQZ2ypHh9NkBLJCXhCqNWQOAcgujUvixAt8F21THaGkAiXhVH+8c8QB551COSbSJACmlfmxgXPUAny6Ef1m5HQJ+ntiXFY1hA2qN/6CNTQkDKWiZ6OblVQE6rge2FNUpACzXetU0wUUBTl+QqeS1DQCLDgQu8O1BAUDSbNKXdTEAQ2GuuL+UdQKgXwW5wXFBAwTueZNFRVEBBFg45Dj4qQC4NTqCTnVVAVuUfTi5qSkBH1DaH8jkTQFg/o1fYOUNA106EwwBUR0AOmMuE7utGQN4j7tc/w1JAwjlHnyuLQ0BIo2PoMDJRQLsYSm658ktASpm518pTSEA4qfqiprg9QG/HfzxkZi9ANWDFkDzzQkBgnIK+1nlQQBNMh1qPRFFAAQ3jDwlGU0CBcPtD3NVOQNRZW/Ezd0FAZxD7D/0oUUAXEiIReqVGQD+DLJ4ypTBArhf33MnYIkCGirVNiO4+QPE/UTTjb1BAEPCqVLz6NEDG6j7ioAc/QPThKnZ7yVhANZCs+uSGJ0DiDKnhau0uQIfliJHjFTtAVSakmDSETUAHJhOkf31VQE+n7JbHSDhA39lv7jKlOkBQZslVN11QQGKj7wYwDEFAkMtosPf3TUB9tANXYAJSQHR6IJiKKUpA+JLtZmQONUB0sIEwtj5IQF5hBfM1NUVAX40Ii9RtM0CBBMVL2jpNQEFzLEjz/VNAtwVsktqTUkCg0mzbfjtXQCEjXBFChUZAnLiiTmzLRECfAiothetAQJwRdweaPD1AW/SIh4tKMEBMszzqdNNRQJuySuU0h1RAOtwPKVSXUEBHXG+0zD1UQP3+h3XeskpAvLXMleaVR0DOXlHdyuEzQH/eTeSCMVVAr+Ah+rlNVEBbeMAt4adFQDWg5iZvklhAtaK4ZmIrWECQ8t9Iv0lEQIcd2BFpu0RA1RTggJ/vPkDWffqOUcVQQNFs2yn5OBxA/Mh7ahLjKED6o1n65rlOQJIK+m/pailAiXxjesi/TECEPTJlQoQqQNtB6uyT6zlAblGMKas8R0DOl6a4PENXQJpWIHGyVDZAd797Edf8LECVMqFgyAc6QAjVZcIyKSBAzmgZSX1zVkCGyfWfDtXzP9yUl5KRDFJAs9WmXdz2JkAw6KZYNpxVQCM4OHYM0lBAv+272ualUUCv3PYjQWFBQNMw/V3w6QZA9mlD6vxTUUDqDoXYTSdEQO3UWv3uOk5AnF8P8dw+TUBj4WVZhGNUQF06k/NskFVAgjJzk9DdUUD+AWcTclwzQGZfdHfDMUFAmH4pu7tKT0CNsIdXMEg9QIMhJWm86iJAJeryMZtUUkDXx1Lj6shUQP5BtR5qxE9A24EXlwUqVEBAb252NbxOQC9fwwWEXjNASrIEaCoCQkBrdYfe8aA9QEesQ7+nvVBAOHVV9RmDWEDsPuNuZ5NEQMgLJsMx81hA0KK742qTM0DGlO3uyI85QKQsKnVK6VNANbVLKuO0M0Daz1zuoKlWQPUCkf0TYFBA5kWjwdEOVkBptf7aY+VQQNPMnxCn0UNAdBKfwoNTQ0DFPHzuLpNIQJd6TWTFFEdARyNmsLLXUUBRUEnl0oBRQDeDXIKiClNAMiVf1ingUUDFbqYHhdstQJlpUyhFsDRA1G4rFmzsS0Db0YO6DfdWQCZ2hoOazlBAkchifBotVUDpSryYnDtPQHEYsVx6/FdAmPt5C9TmOUA5xS5EpB9RQCVS1BBqbUlAMC7SYqcaVUDP9V+UbiNLQJw6Vmg801ZAPgen3P+YQECMkYaX1U1XQGkkcjw4AVdAwJpL6yHfM0BXT9tEqN5VQAbE1QLqyVhAQvmNVeaSOkBl3s1U4oNDQJpmgMVWcE9APIKRHz8mT0ANRezU+GdTQD0ARFMsx01AHE9VSZbWWECGVBpD/pI7QDVdtdjEJDtA1E86Dlf1HECQZGgXV8NEQPR23ennX1NAPGi89UrHVUAm6rQJr34iQKI9aidmJwVABAD9W1f/UkAXKjtYRdFUQI8HnL8FpVNAu6vqCdFaOkD+EaBHD5g7QOEaDLS4pVVAIITF5eY3UUC3vVOXlg1WQPTfG4S7J1JAsdNriKhcWEDeA2jvq75NQCAx1NkQ/0BAACsOVWzMKkACsWHIUf9GQEj0bttPN1VAODkTnLlZUEDLZ/gcPC1VQNWIDMM9TzxAmN6aJ36gRUB+NqC77J9WQEQFWBH18lFAMGbNGMITUEDVWk97FdpLQNezQTrolVRAjlaFpwhKMUCi+sK43aJEQJbdzjDObU9A7sQOSh1T+j/dlTH+PANIQJ7WIDkb9VdAZfWt7RlnGkCmdsT4/SBQQNMBv718NklAD+iXkYQJVkDQGKGjXk1TQBZgd5zoZUZAsHVFCpznIEBEPqKDaeQ7QGfQKWC2iFFAmWwprZuvV0D8cD7ErW9LQFQ6QItvvklAwFQDXQ83SEA0ZNZlYBktQJebcVLYo1NABn/8LROYMkBk2W6228sfQCI8hvq4uSFAtI2hyayaEEBcIeyLb9JFQGgKv+ENSFNAilUzFfhjVUDUwM5ZXVhYQEd6tsnK0VRAykB7aT/uVkBZhZd+P6tIQPTQDTDITUNAfv+O7+BgU0C1VED0OoZAQC7SxRt4hUVA3RrOxICQUEB+qRaVqy1VQKA7J8h9ckxA7LaN68LANkDhE0Z92gpSQAzh3aZa2RpAU3jC79mAS0D8nlzbpLY0QMhFP3DJjxtAds/P5e6IUkDeYF09Xn00QK8wx/rOllFADrE34IOaLUBTH/C/uLBDQERyGSphNFdAzj1DhdTqSECJhFOgmQBRQPIj/SEHNUtAf/T8P0LNOEBAZKdfs3ndP7sptavibyJA4yb90T79J0Dk7xTRYV9VQAb8BKo7RVBAOD6kxZbyLECeQkOoNZFSQDOrxkFG7VBAXDfPS87ySkCGj9HswzEiQGay7/zCC0VARMRNsj5aN0BiFGURWO1XQD11JrKIN0xAcaLnG6QkVUArjNnq+4BWQLB8cIOJM1ZAoSHhW8QuVUD8WZPrmfVYQOp5dpZpABtAjfy9yXYgWED6/mrN0i4NQFExrJeVcDRAFLZx58PgUEDA3+lBRZlEQKcd9MrKxEBALsX+r0irJUBGGFHzCBVHQL590xtJG0FAPubUp+nrUUBC7FqFzAI/QEaKxttmSkZAzOe9PVuNT0DtXZLn+MlBQIbl7t2O+EhApSQZTayHPUC7fuUS1085QKeEvN7MlDJAq8qi6ORZPUAi0CCO31RUQD+xKKxVI1JAs9oc0r3fUkDLIT23B51GQJfjRZOwTVJAkQ/D6ebrMUCQtR3QdiwVQGODCSCKzVhA8+o1YiokVkAMqwbEgeNPQGgKhVwIc1dACb0+kROeREDaC6CDlAdLQApFqdK9d1dA+D4LoBc7FEA3cE7uDelGQGhYzJME3E1A/s2mpUW5TkAe+VG6ZBZQQD5sl2sHY1BAGoiu/vgCRkC5phywB0BTQJ194zvxTQNA/Z1G9zp0MEAaQWV+vy5HQDR7U48v1VJANuT/V2e7UUBs2AWvfutFQK7JBrnwtA1Amm/RYJY0V0AU5W4dYMlRQGEYcgqMGDtA9pid54X1VEC7Z6wGy8xGQAApPD942VhAGfGeZzTzEkAeuyt4eN41QM8spB1NgFRAqEaX0x0DSUCw7I3n+cLXP4+IfjQ90FNAEGFPlPHaSkBWp3SkVjkuQHwCqFTyy0lAjhgufKRxPkDgkbdnbT1GQGlDaNg8sRpAMmdyamW+MEBcZfzcnEw9QHGOwqydd1RAVN0HEFSdTkASWPT3OFdPQIbVdJgUq0pAJR2bipBFQUDp7BUXpa8LQFUzR+aVnjJAQEsU9oczyD/hIrw2IogzQDxtSmSxOB1Azq0piKTRNECscxpVw+9CQBxzDLY4oy1AqgwerSIyWEA2BGxxbQhBQL7aRS/h0itA/Ra3KaCJMkCxd2lIM/BUQNUatre5Cz1A2Bl8wY5FK0B6L0mqiIhVQGtTu5nbzktAXnq10dL9REBE8kKYWd3mPzq2n70NhUxAZvJxU5CwVUDbD9yumGU3QI2iuniQNFdAGakO2O42QUCyao4sTgNHQJyaj4UBNug/GMGo40PWLkBhpewMV7M5QFpsQ/fzOFhAesQXT/TdU0DohADc3zlAQGKBcmE8l1FAz85AukyLVEB40B4nbjJRQHygslbAi1RAKCt/YUiSVkCEKwACeZ5NQAEQjsIhVyZA5NRUnBzsU0DZmauL/jlIQM0eLCFAj1FADQoun6I6VUBwXBZwbxDOP/yNvyOa8z9AzMiU+o65NECQw/02b778PzbTJNzvZ1dAOXFRm9ccTUAChadml5pWQIEcaXVmO0RAi+K5hhfVRkDDxkCbnnJKQKhVCgpomDhAgAl0QSztV0COHzksXwhPQBRwFORbqEFAvgaInMd+TEDZh05XdHNRQLckSzlNZlNAYYotgAp5JUCWr/uNQYNRQPLHvI3/qiBAUWTR7KImU0AtJjZ7jJtMQMfQ1WNNhEBAZ/3YD8ABPUAgW/h+lyBLQDbqK5dreThA2bB+9vHFTkD5IxmrKAFTQFGdmQdU61VAHwXrOr8QV0AmCXkg1eQ0QM7iTO6QTEdAupWj0+egS0AJzpGb3pYsQLYXYWKvf1dAHIMS85hEVUAbg4yv9QVIQGcYG3dZijVAZ5UEqWRDTECAvn1p7+RQQBD8tmQi3EdAzC+1OaTqEkCs4kiQ3jlOQDCuReifRzBAD0sgOOS2U0B2DLj184VAQCrlyy7uCFhAqiRyoVGZMEAfbMFU719UQIzhDyQLTlVAfRuDxLjtUkCMCQjEBSpBQMOCO+SKz1RA9qy0QJpwR0C7nq/2N7pNQJrIYAhFiVVATG8E/EWkT0DP4OeRxFJQQHsRSlEKSBJAftauK0aJUkCT/SFkHJ1AQCAKBhSutT1AzPNGPn9eVED4RcD0kglBQP3EdkIaKjVA64F/TuIVVEC3MW34XghYQPjHt14ThlVAOkZNDA1yIkBCmgCllMtDQAQ9LVNxJiBA5w5O9mo/MkBX6ER7jydSQAJgrzw62T5AkORFObEISUAaUxz1X39AQMWD2zdOjktADS8iAAtTP0CTVqRhgpdWQBDNeaGoQDxAu8aap8s8M0Bf8VpVSkNXQGrNNxh9KUBAytVs9MEfFkDk4hE86hhXQGx3cf4tKVZAlPb8LaKYU0AbdVxxiJIuQBKTDX2RV0JAxguMZfZpVUBlbA7xwlpOQDgPLcik1UBAQRVuk2daCEAsVuorYDdVQG2xc0f2qE5ATIVjG1HwSEBZuaSN6XI8QI2gCB96ZFNAWjIuphyNGkAgXxDyF4FMQBTRs+Ysz/A/bHQ95ImFVECyYlx4hIpDQDLQwK4/elRAbwcKP+eeP0BKGB751FZGQD4oeIiZz0ZAnjqLdTi2VUD5Wr9Q8olCQEYFE6tGLFhA5hVAApyDRkCzGXLDHUxRQKnQT9bVOlRAqbspyHnSVUCjH8bBrYJXQBJn5DJy/1hAqisZ66iZS0DsmutHhgPhP/8nnpNVY0NAsLYtC9WhI0Ck8t9ou29LQJQGIjQyAUpAbg7caXyDUUDbP231AwRLQKBI34kG0ydAGW3KduqjRUBL04slY89UQHC9OSBAhCJA6OVzyAoG9z9XADW4IXE+QFiDNzbxVlBA3XZeiRV2WEBMyxxBC0lUQGu9VPCYfERAkqOmUO6xVUDgaT6D7SA8QDDeubxWFek/0Li/AmBiN0BPxR9KMEQoQJn4A56sezZA4fsYZwR1VUCe4VzsRXoCQFdm3qk04TdAUHZHik6/QkDdI2+t9nE1QB63NgxNjjJANkkzkcQfM0ABscjCfU9SQHPHAYpAyUxAYWWjE6kUU0AtcCN9txlRQEDaX+UQ0jZA3iTYstIOREBGTtdhnIs8QKJ68qtYxFJAONkHZOZNVUCZA8SBo6pAQLHh0YgSb0xAZ+/PgZrITUBWfSfhRh0zQHeNSPziJlFAifNA/opRU0B0Xb8QOZk4QLnmkZGSVFFAA8VFojkVAEDlEvAyYMFLQLVGVhgjAFJAmKXqyZqPWEDiRUW7hdbxP/ly4numPzJAusEytyj5VUDDy+8w7yVEQCqRyHt94y5Aj4yYDluQUEA5tpOTiXBFQBBMss9kBVFAZBQuhKdTSUDuRRaCxa1IQOGyLlQcGFhA8F48JA8BJ0CpGguGokxTQGHMy4r6ZkhAOheKpA08U0AtlFU1+ZZOQBAyKYP4EFNAEhVjKLzoN0BSMJbQlDpIQM7sV57NPlBAQUFR+l1FUEBwjdDQbsM8QCrmhi06RiFA6ye4MfQwRECV4xiJTzlYQAx8gWSRbeA/ujDBTrJbBUAXuPyMQZI4QBNDYq/m0FVAhn2wQ56FOEBzkzcJ/eFNQMlndyq+GFBASEBKe8UDSUAYZt3aM19AQMsOlO48kFVApxtsQ+T+QkCUIsuBpvEsQLsTDagChU1AGIDvb4snQkDmFTVllf9QQB5Yb+5V5TxAXpmdqOwxQEDEF745rS1EQO3qcuHAo05AwgvEa7I6JUB1mIHoTt80QGhmCX1NJShALfn1FbUvUUAsE2frgCVNQEeHwAc3h0hAg/6im4crVUAmfMiOfG5SQFK5WSnRAENAUFqHwIfnUkDzKfUwqQlYQItRNlK6dUBAn/ftRf+dT0BuqTJte3pAQLu8UTTzgkpA9FPaj9PE9D9/bhdiJ35KQFCwjDSzLlZAQn0F4eo8V0ATDWhc+2lWQB+EnBfxCzBAIh4lBVXaTEAsbMUdoLNMQFurPFw1C1ZAHHKJZ/ejIkBeBIixgaQYQDlggb/Ai0ZASPTB41PyPUA7/X7ZKgZMQKObc9VsiDBAMoQDEpscWEDTasQ1DBgzQPFcozCam05AdOqmVNvJVEBDYwZMQlxXQETiCewKCkJAPc2Ki8+iMkCrlS4oo3o5QGRZXyntPUNAfOAlMcGu8z8THVt0D0gnQC+kn5FVyidAtFq2+J5zUUAWL68IERY0QMWJdTZJ/CVAUP9439LsUEDcTLGF/zlWQGqvKGC9VCBAx/Z34AYJVECUmIvoaywxQFAqUSIz4zhAiOGB6Pi2TkDBliDwLSQ5QEPu7dRWF1hAlkPxebnNIUAYLkeRlVpTQPhHtzbWECJAJCjZTtcUQUC+AaIxB1ZTQHziJPhpkEVAGMxJrFszVUAVce/tgUdEQL8Vq/5khElA2uGzh42oMUAs2CK1QyhRQI+a25LCSk1AcnarXG5QTUA91g6ZezlCQKBiT7OV7ydAyYNxBWVGHUDaPb5GXLFOQMco0eganExAUJPiQZ+UO0CoS5FQlbEVQMlJ23H8BUFAUege3rNYUED2EEe2IztRQMLfQfuOFyhASGFKB5FEQEA6ibUjPGtYQCznJZUaX0xASY8yDz9nV0C0P0Bdg55SQECMiWP93yhAVh2fb+umSkDh7P9tPKM7QIwXudoLIVJAEuwSA6qOI0BUzA+KGA5QQNaKre7p40BAKvFhQitqQ0Cq9yYDnMNVQDc7x2lafE1AEE87+YctVEBvytVyqJk0QCLYT+XndARAcIJVvwa9UkAQxybRar1PQKgNzOwNuPE/sO0IpkEnREC+QzgpF88iQOc8PbtDz0VA+p3Hob/mEUD54Q9koI1HQLQApY88mE5AaqZPgNvdV0BxP9LJb7tVQFJnnlrfDDFAV7A7MxYwUEAuhFLb4mxXQHG1jM4Dyy5Ag0L12+PiCkADgG00gs9PQJgcDDjDfCJAXfZDGIkpVkADlcVYdZBQQIYwnF547DNAmxQWkx3jTEAprrgI5QBSQH7cOA5bkUJAjwxQLo8dRUDJwuowoHdVQLHrR05F7VNAn6L8TySVQ0DVaypM/6lTQPwSdhuPckxAwATfA7c+U0CyAlaknGZGQNE8RG5bzVdACDSYGgoUUEBpeLZLGYkPQI5TPV8FGVdAnV/kxTwoUEDoYwGWQBdFQJ/+ytFyUz1AMIkBrGx+NUBU+OO5O18tQKdohLY2pVJAyqQxt1D+KUB3F/ZokuAiQKH+87DFq0ZAS+SQS6JwWECxPsL1/D9VQKp3AzBdalFAaGA32s6LOUA0DUt/AI9GQN/mt/IrBVFAI/v5vrOnR0DEtBsto8JQQHtmJe3qQFdA3Ozeo9DUIED2qRy95mJBQOdoj3RBbUNAenBdf+B7K0ByExLg2wgjQCITi+SSv1FARDaCPkTU8D9frrg7fMhXQPtjw70SbUhA5e/lEB3vUEBdEnxzqAtJQKysmwZITEdA2FnAp32uNEDZEWUyxOczQDbN7EjnviBAMWk4CYaUU0DHleYg1jtWQNPs9NHXDVZA+PG5ym5BU0Caz1UuqpxUQNRa/vHH+SZA7WkCpf9FVEA5icIHrR0mQG5WVLYpKDlAvAMIBAJVEUC4k3kqN+YxQMvfUo4v7DtAmAJMR/iJWEDqj04mb/ZHQAKOWjJi0UtADlMnghJVUkCDkGGf5EQmQMcigDE1z0hAQlFbIyTyEUDZBZBFIwZNQD+BNOqHpj5AVzOOaJMKRUC3dcdCH+9DQNpaAKmQEzNA9Og/O+PsPECrh9Xe7NhYQKQxQ2YCmj5AayzUPfg6UEBEcirWJPFWQLa94wo21FJA282ra2k7QkA55z7kJ0BBQEugVWnj1lBAxuF/clm3RkD81uKYWURVQOdqZW39WVNASHWcfre6RkDz9iNQYjVRQL+pKJIi40RAM45GsC78VECZJ+Eb6LRKQP/q9tvCtURA+J6T/YxfRUBgZY0LAKRSQPu3gt9AWjhA2EtBJyzFU0AI112/PXsaQOrWpxojxU9AozvI4BNSDEBUjERjQYxTQHAvtEImIVVAhAcd1utdHEAE4vFsRuPzP6TViMghRkhAhLOX0q+JD0CUEfRo45hQQK8tAYbeKVZAeWJdX2cCT0BMsfla3sU8QFGo/RqSBU9A7L+5JATJOECtonpHt3FOQKUyn7wXY0FAga66mwmZUUAQX63BBNYbQC7IMKpz+yBAxOiCuXahV0AWRY7Gb0BOQItmZmL/lApANBYRA5JsVECjZJkTd1pXQC+gbiX7u1dAakfZzDKTV0D6G8MMO/lNQEGEA7Z9/UtAolvSu5owV0AHkp9nsl5AQGhIW4Txv/0/oP308OByPEBs2KHXKbFCQFkZIgh6e1VAq2UaIW4pMUBkjb6GbnRWQIHnmSi2EkJAa5g3r1ynWEDXRQTnQ59YQBKERDtOilZA1Wvn9B1GWEAHb4ki96dXQIdfJeAbLUtAN650vW8tOkAgN3FKcOk2QNWCmukMQFJA3+KUi6jOTUBGrw8umBlWQFU3xI6XIEdAOOcIc7IqCUCTJoUSGA5XQF6P1wiaD1FA6MoRTW0qLEC8cTn51mVJQKqJdsNWOEJAxvU7/iyDV0BCpBfMTAhRQKp2hhezdTRAbPJVo8WLMUBf/pamTL1WQErVq0xbQi9Aw/3jh+9KK0AOzjSryXc+QBIdG76QIT9AxmqciyLMR0BlinMz9sREQJpgRtKf8yBAMY3PpxMJQEAOVf8CyudAQFnej1zqmCtA+eauQ5jlA0A1AHPMqH5YQEbHQQdd91FAM/1Xi05pVEB421qi3KFLQAs4MzBhrVBALVxlSOydSUDDAirtmLw8QDTJvvvC6VFATePlC0WZQ0AqRr/je78cQMCrJsiqV0FAceUuPjoSU0DSTcf4zzlPQDEHK19qUzdAEeN0kh4lVUDQ57VPScRSQPPYVZTKU1ZAPrSIHXVcMUCxLTAFdoBCQLVPbBd5FhVAzmj+No8IV0DjgVXtYp9CQKTb+y2qRFRAn7q14LWKVECWzoaMNHfzP96a0VPffShA73nK6OvsMkAAWzh9bpJAQFKG3zexxEFAByH9t5JoM0AmTQQgKmk0QM5m5K3TrFBA6yFHC44gMUCynDJ0+elEQJJc4KOKqSVAAnyYCAveUkDoiZQKZO5WQDpmmWCmHwhAEaq50qvHOEAqYZc2tJRPQNiom9FlD0lAt3gyUsdlHkCeGG451GhVQNc/7q37SEpAZyGYVBsnSUBDsZTb1TdDQEC1dQQhOT5Au922qwO/WECnzMq5+tEcQP4p3dt4FPk/rxXggaUhUEC7wQU6wllUQMROw25pVVNATFcoTuD8Q0B01j4j6FNCQMv6AjLqQlZAlyyCcCuqVkBL1kEhdWVKQJqoZjLNU0VA2CXjdQ+FP0C9llLLN3tSQLqOTASRalRAqTOsNqCmUUDUFVtte7kwQN8fIVe7cj9ARC3SMWzCVECkS4ANGy8aQLaPT24rd0ZAGhRS3F7iR0BEg2X/Lwg3QNyxMmwmbUNAUkpKQ7pSG0AzEfXj0HotQLOSJy0M7ENAxM2CfzvYGECS/n5aOxo+QEAAg2ApJldA7JFabcjPO0BFSfZClulEQC8TBtN/5CJA+4gD5Nq0U0D+FGcIuIlYQAyNjgXnBUdASlFqTuMTTUACaxrGI+hVQDBiu4etJSFAa8cN++GcVUAZ1i9seTBFQCyGvrgu/BtAeaBpoh63VECgODcvWLZLQKZdKdvvdFRAjUfzo7CcOkDlxo5L+W41QDn74BwDYiNARxNYk7JCTEAxxoo14IpCQL/26Y45ak9AdBLD80l6QkD9V40+jilGQIvzJRWNBzRA1s1IhVSRTEAxzsslDb1FQBjCJtiqdEhAr1M2vye4PEB9XM2E+8o/QK4XjVUwnFFADSbmunKKMEAHvuqIvTlTQG2KpOM5O0tAgdAc51DeUUCuFIDK80UmQMA2JF3iRFVA7YkE9QmuUkBumkpLeWxFQLUkj5D/nU9Ah3nQQHELWEBgRaZiyF1XQCqxMkwAlEVAsjg1f/XuVUBiIkBvKdZUQIJn9HdiM1BAdNjZkjL8OEDxAiIl16FSQLXxW8i9Q1dAwnTFxp82FkAuGCMyJXlRQIHmBMeHm0NAXvKpdm94V0AexVG32mxHQJzq4iSI5SxAg8PUM6yfUEBlZxZZxo9QQOnXnAl2pkNAyzS1wasHAkDwoAOH1UdVQCyKLRtwvyBA/prC60krIUAL4YMb8iwgQPz43wDmV1RAb4u9KxfBSkDqprFvbgFBQJKnrkAjMVFA29TuYsNdUkCyGlcmuBcVQIWO1E7kN1RAQ0f83S2aSEA4is4Dvi1CQISxDwLSjxhAMHUXb02ZBUDBJ4s4hlVHQPqPaoRIlE1AXBVUY4w5WEDGkmZt7BJKQLnNWS803lBApn9kHJ8oT0ACT5h45FY/QJq6cs53QUBAwvAi70n1U0D+t2MlQ+hIQDFczTo7JkRAXC97oRRdUEBqbGf4MzdQQIuMPVRqMEBAhC568KuaOkA31D3o1ihSQNRq3pOyg0JA2YvQtzm0VkADCDNeyTw7QHG2PV2GM1FATlxDqehSJ0BrfZctZYRDQKbDAuVjS1dAWB+0mz3gSUAyutHkaadAQD44yukn8UhAxn74ZaAeSUAddA8olb5GQAsTlUDSzFZAHkIdbtOwQED3vuYpq9BYQKUCr5rT6FBAWE6NweMyT0AxZDJD1ItXQO9PbgHlKkVACQ1YQ1B6QUDOrXlIuGxWQEKgTfqjqUBAVlREBgrPUEBOgwgq++cxQM187uD8uUlANYn5LUAEV0CfOOc4IRxNQMb2cOwRdU9AUmncdbguUUCiZO2zLPBJQMsLsPUWwlNA05b75V83TkBnr9D8DPhXQIHyVnC+sFNAjWJqNf2pOkAXRhoI9QwxQKLy8bO5Q/g/gseVwhJZT0CC5xBYMahLQMA48gb9xDBApH6enPjlVEB1zlpDb1NNQLyhtFScHEBAJojoWIR+UkAvFqAFNtk9QLs2zIAyLypAVI1KMz3vM0Bo6lqlRXs7QHIFGeGPbkdAPi2c25XESkBBt6DeMoVWQCyKvHNknEpAcdYUrb1ZU0D2lVaqUAtQQGOWqOOOi0lAClu0GQJcVUCfshPs8t8+QBcA65nknFNAWm75So85VEAwYGjROMVAQJEoObxH+VZA/GQcVAHhQkBw7hzmrEg2QAJS/w2dz1FA0TMGZV8XVUCOGZ0XTFRXQE4QHY/2VFZAa+W9I6ScQkB8B/evBs1XQMAaxD7gyUdAV/fwLvSmQEDjdCq3wo9WQAw8hvSrExFA47MqxKXzRUC50C2ervxMQKtZ4rE6eE9ASpNoP1njSEAQ3wf5JYb9P1zKJEr6OiFAuLdZVYh1WEAXfC01OSdBQPbhuEMHnjpAUNR5ikYOR0CPDtueNllUQBx8gjFt/0pAnX9Fh1GdV0CNOodIE3RQQDhqpAFWXzpAJLGwowVBQEBwvAFjRnNMQKdiPZAAv0VABVbzfZ6eWED21x7TuPNLQJLyqtmsXf4/upMYmoc3IUAbMNGy/MVUQCzFFlFtAVNAkoQ7Z61gU0ApWhzn0A1FQGdvhFlXcUxALMoKvlg6NUBu1LT2FwD4P64sHMPNOD9AJ2Ln3hTPVUCwDyYXQyMKQGDiCH72ZDhAJYcfWC1MSED25zIK0OlLQKF2sIeRU1dA/fY8eqYHUECIIeHL2ytRQKHJPNQx7EhABN7e9d/yE0AwJ2EoLZBSQDTE1phLAjlAMm7WMOAcTUBuDSYwPxFDQJEpRRAkATtAmzl6oxfXUkDNf0PzCZJGQPd+oIP5rE1ASPLJxZ4lUEDBfcR2AtQ6QGdVms2XvFFApO9HIG27IUA7YlLOh5RXQH/aYXMZ5FhAxNBlXd+dWEDeCHGXqHFWQLTdiJhxRlBA/HqsEUV+EUC8kz9KNb5EQCYQ+HIEMFRA+rsuqBJbTUCko5+U/u8MQDf9JgDhb1BAhW4335tDUECkiWkLiDxIQC0DrBDOB1JAOE6r51eFA0AsRmWPBslTQE0Hj7mJhFRAZnZiACjiPUCJPIE3t+0xQHq16uyzVVdA6j7karKNUUAIK/iYlOlKQB8U4XTH9VNAXl4IT3ILVUBYdNg64ZpSQL2R7S9S6VZAKb/c2lJiQkCO5O+e8QkoQKCw12bEDU5AZtKHru6+U0A2QPI0fwwiQOj4ke2A5UNAulDfXAoGV0CkbYfDW4FNQP8sU4RvSgVAs47Ehl7oV0DyP5KMfJZRQNDaH9ypics/jg66q9g3E0A9EV/C7/tFQHdZW/DD10xAV8KvJSJ3HUAwpudTkn1FQMa/o7ReDjNAYOwVEjGwJEC88LLP6S9TQBOfs+CXY0RA/mD3sMSDQEAX5D9l/oc5QPWqgOoC0klAV/dnt2qgPEBrkKRp7uU8QOSg7/5chlBA1yQlPNh+V0A7/gC1IqxAQH61Hw/VEVJAiGpkGkNFMUB0Hpm7BdVRQCwjQiZNxDFAU/aLmw9pPED3bHYDvWJFQLl9sR4uoCtALH+p0IKBT0DowFZ+MpT6P0kW7KNYt1dARo+nnLpMNkBc2PvL/HNXQJKzOAaz9CBArtSjBK46S0COI5CJ9XT/P1B/42e3vlBA+HiUfewpVkDO30PbOmFJQNKso+pXKlFAYVEzl7k+VEDWVo3rJzhGQLhZ/XeO2zdAHfYH+Z2KQkAMBBfJJhFCQFrdxY9oBTxAtqhX3puBVECcR5iLaZRWQBT+Rf49YkVA5NBGoG98FUDy8SUBTdwyQGOVlKkfHCBADFkW5d7LMUB3fT9SboE7QEbjam8nSlVADPJr2B2lU0CTZLZ2pk1WQLeSXF+9tjFArDi7j2lfVUB27uGTGcU8QON9ckupqUtAc0Yp2ZvxSEBtgRwecTJEQMdtE4Ro30NAVIRLsnriT0AM8MFWGBn0P/2Og+su/kZAuQrxYq4BKkD/ZIKoE5lPQIbAE0EBtx1AlmRkKDXESkC+wnBSdIUxQIX4/qcflDRAJ7a57JuJUEDX0vHmvVAjQJ+p7KU+j01ARMeDRACvVkC+F4OZMK9LQI7Z+fB5LhFA/OD8j1yrN0CCQBQntfUAQCmhQ6PLMUJAFVTILnY0RUAMIPmJN79AQG2bapTwGlNAUew0QHlqNkBAlFzQ4hezP/BcWi+MN0BASqeBx5vGVUB34ltQwxlMQOKsh9a8QjpAsIfrCXL4UEAx2AveOwFWQNpn7rsCE0RAz4KtAjmcSUAl3gJaLodBQI/OmpUDT1dA/KRE2hivR0BI9MGTGuXzPx9jXHcHylhAWIaYtbdQQkBsgJd+VVhGQL9ofEg1AU1AsmHYy41MWEAp/WmmLJlPQP4RXKCUO1NATKPUgf+dQkBuQkNfy6AhQAHv06EkclRAPTU135N5VUAxzmRv4zVOQHrhiJv0X1FAZtxrAm8iTUDJ6g6FXVBXQKyu9bN/EFBAsrb9iScXNUCwsrPQn4hUQPAX4E9u11VA3ZhsHR8XUED670Kai9NSQB6HgPKtoUJAQgM1zr4hSUAUaAbvBFxKQFGcULnWDVVA6dQQd41zT0BflQfzn+00QK2+Ud/AbRtAuuFNxzQ+RED6FCF30eBTQGT7WrpeVy5AnzyTXDU9UUBvPtcAk+1RQG8YHgjExlNAcaCkaopKSEBqJv7VEd0xQGw9OhG4+TpAfdspBToSJ0AOzTkYM7BQQIzdrTSYcUJA469oOGMfVkBjrTUl77Y8QOCQo5zrBUNAkCDZ6ccSMEDtQNEOZmNRQEYttxltsThAMQwlRRHLSkBFLtjULXM9QEJUqO0A4FBALu1qVauVNkD7izP/EikwQGOTnnyrLTJAREzXbC74FkCMcOgas4j5PzICQhqJLlNAU3YxQtp5TED0OaAeHhlXQNRLgaRK60tANrayFvXAGEB3tXkzjKhMQFcZg30mik5ANOzknYmKVkB6uYMPrsA5QMKjMsHqqURAuh1NyCLIUECBmVOD9/xIQNKJEPZ0f1ZAOdpe36waVkAWLfRhHwxUQBClUgM1x1hAJkDUsavDUEBS4T6FLwlWQN1KLmnif1BAgIoqPUrPJEA2lwRlGt9CQAjJSVK26jpAW7FhiaGoT0AvwEQQItRFQEvhXLVtYVdAaMl2WGEwLUCPEZlwxC4xQFl3qj21RDVAwpvZpgJ8UkD8aLiHGvtKQBJDHJAwsTJA3VRGJIfYOkDgGYt/kg1RQPQIzy2lWFdAh0IE7BaRWED+xooEI3s+QM+cryWvbEZAF5aVEBs8DkCydrKAALlYQMbDyptkm0dADmGOd94KQUABPbjx608zQM7hOwHprE5A+Qs6lqsvRkCIsJlXzM1TQFI7VsNR8UtAEZIqhOV+RkDg+BXZuppVQFNlJGuD7ElAiNmZqyH0O0BXpyWm26NCQF0YSL6tNlBAUnyCwapGTkAona08sgwuQEfdKF+A4CpAeDR4YUM0VEBCegxm/9hUQLr+Csbb81JA9byFU/34UUDwDyAZhdxQQKDq3S9tUVRAojELoLIaPUCeTg00q/pHQBjeYeNVx1JACRYOenshRUBTkHrR+lAbQAkpegAqrlNACmMQlG5MN0DjhGLUoIBXQCOTeJ2NjS1ATtjUNEo7VkATpWtXI5ohQKepwNrsk1ZAozyvT4TsMkD+iT3NL6FLQMX05br2FUxA4PrIO1D8N0Dr30oMYl5JQGnfRwzyRU9AmswRW8JfVUCMTeesI3JWQLcTpY0xHjNAIMvvNI7iCkBYLJXfPxxVQE1jZfQ2zFVA6gnRsg1+VEA437yhhNFYQF3Dwd2LSFFAYEQ5KM6uUUB6B8ywZahVQNzshjeCM1BAJLHPBopSUUDl/zGjx3hUQJw85WKMiE5AJNVYxCGcMkA1Yuvpe6xRQM1vzRG8PFBAulKgnx63L0DHTO60nXJWQNpoawgP4D9ACKTAfgsvVkCI7I7dtxQbQJcr4gD3OFFAXNHnWJXdT0CRS4nl2JlYQL00WpMf/VVAOM0oJ/ToT0AayousZ08lQFcoHxuymVdAqENbTzdGMEAOdjFYz6BYQOSoowguBDVA7c40k/Q7FEDkU3uYtQ5QQL90aTyOPClAqMq29QXaKUByzL8FAqdRQMAUA6yhL0NANgcRydPII0B7u99tRmZXQPCYIeEveEhAH5qG9pJNM0AZIZUeDVwtQHYCtTjPjlZA6PHhxAHGNUCwOacw9kQxQGETJBVKhjdARILKSiuIWEDYFVE9Z9cXQJBza0avhB1A757rKV/AV0C+klgo1hRDQKqendWGUktA4/2BcTogREDftgd0iBxSQGLXlylQgFFAfro6kQLqUEAE0V30gRlVQO9IH0pcZgRAPcK0nayfV0AtmVuU+MhYQO+D4q5Vo1BA8tkJ1ZLsQkBaWa6Y73VWQLrJs32heCdAEzV9KJUCQ0Cg009PT/5FQBsMWT7PLANAtER25OyvOEAc5ghCw0hSQFqGiE2O/CZAjTRZpZuBOEDLKcKuFy9EQACGoumZ2i5AEyPnSNUSREAzRONRIitYQAsNq67nBURAgvONQ9mKV0A9bOoRfudEQHGxZ7ZE009AkoIWGKQpKEDEXLJ/vJlDQJBWUkIBAO8/AoK5Cf9WSkAPp+gMnHBKQGJUs8TaiDZAoeKVDaXSV0DLieze5wYEQPSF1EDWVEdA/wqgfJxvNUAu0OipDnlOQFALT7yPNkVAHOBmX4OaWEAYVs+w7rBVQNpmSr1tEDJAuDQfOqhQ0T9RlB8j9YhVQKGdE5oPjFVA1IQ/jERuVkBF4BMhIitYQAWcYQ1lPUhA2G29nAruNkAn5TVhTzVRQLaM2R+W6FNAVq2XCQ7pSUB6n/iM2sVKQMCImw3fWlJAp3LKQPZPQ0C06sI4/61PQInWLc9sjkZA1i6Gt7NLPkBvMPv2ImtCQC67WEdReEBAtuRZoFssWECzDlw1qB8sQB+kSeqGpTpA63saySApQEBdlUZeFwFTQCNw7hFF6EpAeEO2x5avWEDJG+y+9KE5QEU/aJZIb0lAEgC3FOI1T0D8yAbnwDY7QPCeg13uLFdAPweIG14lUkCjXVFm5G1DQKlDIwWDs1BA2Aqr9b9KUkBBAl1etLtXQBtq2ZPPBFZAZvK9tEslG0DSFezlOIFFQNxLYiFVyERAuvHfbZCrJEBJrXuBMdRJQJPYWKeGvwtARJpzf2GIOECiTKUDgTUlQLChU8emnlJApc/W4hRDQkDKO17M9T9VQPwDL2Inp0VArvipjHQuWECThheOBJ4GQBJO/8MdSDRAdmsAx73RSEBP23cE9KtVQBXix8wO4TZA4OrdlhoOQkAKZqdpdZgiQEaRgIFYDFVAjeLKXeZFN0AXYVwuyqEIQNJIa8j9J0tAsD5n0CXJOEBtXVdONFhUQDS0BltLWVhAiDjufesmPUA26EQFzZ4HQMFpK1Vb3FBARDuUyOHuQEBMWCf6REvzP4v/9Ucs90BAzRmIU+rCQEC4Du4R8NBKQC6+gs+HfCVAtJ1CQh5zVEBySmp8ZOdSQORL9CmkjjJAAtoM2lKQWEDKZO5FeQFUQCnJ2iQlhD9AT4rqhOHUV0D4J4vB97AHQJ6bAk8/d0tAU9DXg9+fUUAM5UVOFxHmP15jzQhe7CdA0KBTAe+7QUAq541kcAlGQEWNAgHso1JASuY5oAbrUEDE+X2E9MBHQEVJ+oIeUFhAe8m/3/k3V0DD9Er/halIQLgumKhXok9AwEUXK1YOUEA/sLArvkBPQGdtbDT0Y0RAbbLdrDsbRUDFNiPZN/xQQGpEICFdzlFAXQyaH4eBUkCxihYbfnA2QDN6Px2U5kRADIs8/mftHkDGfJ6bkA4xQOzY+MnHGUtAi4tyPIo7K0C146eMzXJRQMVQa/K99z9ABrwmeSysVUBiMh6MWflPQOP2HQIHDzpA8KoxOAscEEBi+MtD8ltNQCe3VEu+ajxAjpsnjDxiRkCfHB9kn2xRQNpkieyBFQhAHVANNtrwSUCvkk0Os21OQLCVDg6Aak9ABs2e1kL9UkB6Wc8PmB48QODrL51n6jtA+QB91owHUECc3cIp2JxXQO3iON0YOzNAzrummBixWECSMNshM8dTQNsGCTNgNEtArrhVqxFkQkAFJYuupwQxQEo3aIZ4+1RAeqQ1lEnOSkD+9NmaOm5XQOVGA0YnhkxAHViqPSskM0Cq5hM+daNXQLkZGTx1jjlA+8pUyYsrNkBq5i7CCB1VQLv19PWYBS9A10vanuuwRkCIxs+RFCwgQNYw1vohTVhAg9u41C7fREAX838pzpNYQBvnUrzdeVVArhooMilXTkA38UL8361SQD/T6ScIf0RAXD8RrOp6UkBkQKSdmVRSQC9JNmDT71VAF3+Fg5QmTkAI29gSOWZRQNya4/TVN1NAPqMsznafLEDvUP4Fb8pUQAIc9T/+00xAsP4zNMMmPEDLYkqXhctXQCVQT3Z+YjdAMJRQny2MWEBjOF84IdsbQNJEZlGeFldAtdujK90wSEB1jr7QHd9KQAu+J6kGREJAZJ2GNhWCLEAq7Y9J4bguQNhSmG16E0lAcFycrjAQU0AlvXNRwF82QFYTnRFWHxVAjIA56xF+V0AAFg6Mj4kwQPdHR2IYYFJAnArKdrgdOEA4bjrO1pNTQJbdDyjR6EpAZmQQ4vlzVEDtr8v6CtM8QES19Fna9khACL0P3+lYVkBVpUlM55pAQDg9nO1wBFRAUVKaHtDJV0D66nqoz61SQNEYgP4lcUZAfJRQ356YNkAfAypKzkdWQGDBmw7/ilNA4FkrJRsJV0DFoYO1/Qc/QDZkZ4wUplNAMce555J6U0AA1uP2CwpLQKjRDHNz2EtArdY03VgmTEBMYxslVskgQE9c3nKpqyJAhwt1+drGPECe6aKggfgzQOxA5Juaq0RAGlGffFyxRkBAMyFJ0NlCQIhkZohSDE5A8X24DVURSEAWwx0H7RFXQJVxYEXzVzNAmxHinlLOBUA+pp8xiuQ+QIn7EygohkVADGiTjbpnN0BIjcDuAfpWQJ6LhIb+ES9AxkHoiLyoMEAkxFqE0XVUQHZglFdzQFFAxwzOw6m/T0Aohc+Qr5lVQMPvQukTdw1APaDXu579NkDOtVN6iihWQDxn7bSaZjBA1g/tfgtwM0B/iFEjzL5WQKZFKMt2rv4/Apzjv6DUK0AC2A+g1RpIQD9+TbhX2k9AHdjJwhqhUkBLGAbJDfpQQPq2RGdyESVADEpOdUXOUEDCG3EHWKdVQGu9rKsIq0hA0vEZL1q2UkCAAI5nzNRJQHbWd6P4CzxA7WfFMPW/VECWq+4S8ndDQCTmgirnRkpAZtS7mADVH0Cmbo7EyUMmQG6ryGx6Pvs/p3nJq5H7T0BX/vNpqc8vQANet44+XTpAv7DbKyEMU0A14Wglma9WQGUrCJLH1j1ARgnZkCG0WEDPHjkzUzY0QHfygvgLoSNA9Cic05uoNkDBTBIm8O9QQLtvcqA3b09AOvjdEIq9Q0APeGBfRJA/QIH+zkycy0NA+JhPL2JAN0D7l4oBJOxIQLzSsw9y31NAjPS8bCMJUkD1Jr4PmFZRQFSj9212BhpATm0vLs90QEAlcr/BVTM3QFerR/c291ZAVMjRrz1jRkDcYece4wIyQF2XJsXWWxBA7TvX1sb7VUA+ddclnpFOQATnJoH0pDFA28Rgu5ZkUUDtcTcm+pJEQO1qAfq7VB5AbUaJ2T3OPkBMBzBdWUFLQIjPvmhIz09AzC9x7k8qG0DgacdUOmohQJeP+kNdMklAMXkRjWw1H0BvpYdd8HZXQJTiH0K+UkNAg6jcZBwoQED+WrEFdNZGQNve52ODqC1Ap5DU/6t7K0CdLygRIkI4QCJbTK9jTkhA+yTPUHwZSEBo9j1h3+9TQKkTlq5U3jpAvRTFlVCmTUC1j4K1GjBTQNbyEmkLjFZACgcWm2anTkAgu1ZXOOkwQFpSB9ayIFFA0ZzpJnfhUUAKvukgNotHQBSdrNVYt1RAn7ptgWE7WEDC/4fpRgNLQPIjY/ZcrENAwjoP3AzbUEA2ZK8y3SpXQLCV+QtOVlZA/JYP58HZNUByAuhE+ZwxQBVDhPzCmlZAf9J2mgZ0V0Ag5FDeVqJCQLByWq3uIEZAsrvntsqPRkAkhg4/o0tHQMqp6KpSMEtARrbPrADrVUByHUBAfBc3QAin+FN3IDtAE9bkEMVyN0DpjiLtf8hGQA43oQoDLUNAVHk7Jm0+VUAsyXedodRRQOY+dVMqZDNAHM7F7R75P0B7GpDEdQhXQGr2uHAfZRlA5onyEjUfQUBvxnyhZbdYQD2T20HCelBAt9u7lBhhVkAv4kZWxs5DQL6SOPxachhAOBpjnWsDUECNvGMr5aRFQHAw+958ak9AV0sZOPhcREBx+U62Gp9QQGXRJISo11hAZ8ttNBbdVkDU99Lg41dVQAyEUt7Ew0lAEl50YMl1UkAKIK0v/h0cQBQ6bkQzHyZA+IgOqNw4UEDMwM+EWzhOQJTQ0nh9ZB1APPz0l7QXO0DjWXgJlBlTQMKhDCV10v0/oA8te16zUECI6CzxOBdOQHLHqYk3LzVAtqRI3Go5MkAFmYYmYUEMQJlyzI93L1dAXcXHQAMsP0BkBoL3KjNNQKNsTHlI1k1AEmiJLn4sJ0At1qVM2VQdQBMKWDzyiUVAbxEtdn15IUDOZo85oS86QICmnKUGgqM/FhnCoiBVMkBPZVdfsMJUQL3HS9bJXUVATxcS7mlZPUBupO91SYhVQBkVFM4tD1BAMR4U19jVMECenazPrsM3QDUq+FuHQFZAdZUa2+WRVEChj9EGK6pNQEbvtAYuo1VA2pWa8z+JWEDnjCZ/e4VWQP5LHSv+VVNArfk9IGUuQUArwHlh8mZRQLpY4tVhvFVAdPovj/pvREBzS+VxFnEzQH+uDo6AwgBAfy8Lwb4rHUCkoW4OkIdPQJX6ljpVklVAr+QQLHBMVUA6Ssiy41oeQBNytff4F0xAAtAWYFz9PED437Sn7qLxP5o4Z7sVFFhArg2ZyuY3U0Ai+a0S4ZA8QMrtX1Fm/DlAFJ1CJm4gUkDLYafg0EZVQO66EUpPG0hAYKj6baKmOUCHIrNV2ohFQK/csqZXiVdAYcfCT2Y7UkBK7fmOlEglQMwQmxe/3ihAI4EN6XpTKkCa62cZnHJYQNHLKGBHvTJAtfC3m8NNP0DxggPN7g0yQN6QG+6+7SVACWudEOzvTUDir51clbhTQC0dDjrMEVVA4w2DYaRlU0BhihMsMeJNQMjtxzTZclJAv84hLDPbTkCRWE3bKE1TQKywE3XR5lhA+BTZDWvgTEA4mn4YW9ZPQOAURmNMYFhAfp5lHUgPV0Bm/+s5vrRAQEQEZAear01A/BWoQh46TEDSDxGfiKkaQHofLfY0N1FAISXd0Kj2Q0Cwb1HVzBJUQLoVe7XfxjJAsOEn/vnKWEDKOpWrkwBXQHoITV351jxAMXOMa0lUNUC+lD+hgAJQQC0ZGrD/YEFArCjfXFn5VkBA1W1qcwJGQOjzlpPQpVJATN0R2OKiTUACsLtbz0tHQKAu8mhXLkxAg4exfeoqGkC+KrwTTrJXQHPj0oAwDTlA1keeZ+0RSUBMw9U08qdDQA64U2V7vUlAYbDyInhgUUDniVbOoHZMQLx9O4lQpVJAFna0NiOWUEDUCm6Cr8YwQApsDztaCFhAFbEWq29BUkDcqie+0Qk7QDtQM0BcJ09AS8vu81DDBUBQZm0i7OdTQMgQRNvU9lVA1eRc9PHoQkBhFyv56JE3QDox7NUnplhAEnUR81CtQUDaeFKYzfZBQGDKncpO8UVA2Q081DxeVECw0lPsPvLqP6YZvNvtVkhAU5lZyF3iRkDN1GwolsA4QBo+Z+/+VCFAQKOwfA8dKUAoBKs6k4lUQE8H3UXwLldAafh58RbDT0B7z1I6xWIlQEy37oE2cyJAAkXwBKRLQUAhVfZ2sf0cQKaHZruaYkVAohiXYeFyT0DJhhsyzMhQQFEEaH4wXiNAMI2CRBNlSEDX5jvIHDtRQC7jdZ/SNwBAgdfC2wW7NkAgBCwMxxRDQN5QWCCfCDJACF/XmiMFO0AI9yF5tU5NQGbTPYjoMkVA1aQE0cfXO0C0OLfMYN9TQCdi6psza1ZAoLYKoqj1NUA+81EdoMRVQEi9xCa/IkhAwsnJxVeCMkAReMCDM3NWQAyHjMIuJ1VAFXtpr6UvWEAchCoh1Vk7QGsXhatKjT9Aj0huwDaxJUAJGZmqoUoiQFIXi0ObR1JAfLVMZxLJVkClES2GWiRGQEj1zPBG9E5A6zCCz7e5RkAJgLHxknhTQFG0Vq85PFBAMCu2pjQsKUDOGrbLMJtBQJSagUpJ7BxA0NKblQVIUkC8bg2vbxQxQKhZPDa+WlFAtYVhVvmRR0AC1yqN2UlTQDqHTnXaNVFA+LGPonPeUECTVGQe2W1WQKa6wN92YEtAX0N+a5/rU0DQzeBulf08QB89/1sikkFAKsGacD0FQ0Ch/H5LW0NMQF7JWM8bIVZAiKUrpqKhWEDsAT7Defc7QHB0bDhftjhA86iexIgBUUDnEeVgNQhTQDeQXO/7z1VAwkOoiMtURECdVjpFaupBQHwaw5QcDUxAaxzgeqehSUA4d/q89Ls+QLkWxZio5DhAuiPtoM0aGEA0T2Qr11v+P0Lwh1+mjUBAfWRGUEG2UED/miscNVdCQPgHN70zYFhAd0+3HUFNTkD6K8/lOpJFQPdJKcq1WEtA0LyqCDaFRUA0pbAW379LQM+VmzO2KEdAAlI4wR3RPECR7IQUVERIQKtcqBcttDRARrrwVcKBTUCrTJfnrZYiQI4zH5oGu0lAVWAZEDuzTUDKhoc2FnJIQAV5JCMovUZAxXJVdexoAUAQUN9EqWNYQM0UXwAdtFZAuRfvx64GNkDwtJVKHxhMQPfVURw64FFAIPgS/XlVMUB+Vu2vh74FQLc9Ni0gADxAYxDXv33bQEC9WsE+bfg5QCC+/Fhdnrs/AvxTLIv9OUC4iSWbRwIzQC1ygUVIGlBABZU84ADIJkD2tT5E7YtSQIQYNXmelhlALSPLEWpISUALD+hIK5RBQEQvrDXZ0k5AmvuyT1FXTECKrz3pu4MwQACxqugm/1RAk2RwtPxlVUAYJhE3aMtQQJXTNszD2hNAduovWaBQN0DJylM17U1PQPbUwqvfB09ApX5854fSWECrUlRUWVZOQIdjYhpV/VBAqkZOGQCxG0AN9ltpbvsnQF5VAZcwg1NAjTJ6AQVIMED8CYJKSPpFQBO03kO8yy9At6utT41nUUB6JBXzuaVLQEFX3Zi3J1dAvJx+8DzJVUCoIFDeG3RCQIHKedRCyUBAS/kNxBFoNkAtuwyNGFhSQPJ8XX/tCFVA1+385VAySUCiO6XLz0ZXQPmpBVjD8jpA8pOGTelLUkC1Ipw9cgc6QLydwcmOgRZAJmNTAiskVUDZ+J7az+JYQJiUibm1A+M/6Ev5YrDYO0Av1k57Jn9RQIA3+qHo3FdAcGfI6314SkDeB2w8YvEVQPhB/F0iyEBA7kZpTz6xNkD057bmiVX1P578zWzDADBA2F26IjpfRUBo0qy+MdYPQMjyW85050pAbEpu8oCaR0Ae/JsQzC9SQGL0SVf8lldAc6u72wNzBEAcLq+efg5NQJM38ZJAQ0hApydfg557QkAG0R0VT0ZMQJefYwp4gwRAIXlrV9KKR0AXBrpT5ScpQB0b0xScQU9AnhFvkh9vVkDjxlLhfTwzQCP2fJp7VDlAZjSljBfHPECnPC2fIF4cQAwZ54wgF1hAfYkjDGQUUkBrHhpv6vJDQLAJ+9jVaFNATaAnUgBlPUD8l52FptE0QDzE4wbgTVhAXMowwYXESED4KZe0zDdYQFu5H1RDj1dAb1NALwJbIkD2bsDa1tssQK/WM+U4gFBAZVXKcL3IREBIEyJNHVpVQKBaqyKEVFhAOkhb3HBvU0C5stTU7pdNQJ+kwZEydFdAwxU8VFXpNUB2y0t7KBo/QEzbNIilGzVAqenhxSTsS0CREE1K/QpVQKpEMoyYGjFASjF9PmylGEDXYD+VNWk0QCLoa/BO909A/hrH4TlYOEBdoRj4hiBWQO4lo0AakURAQvF+myjOUkDIE/J2iiYJQFp52pNkxBlAU13G/KtjOkBo1GKlXG41QLhNTrYpolRAbgMZbr/cVED3ELO3/TxTQDrW8ikmH1ZAur/US3RZSUDmNMZbAGRCQDgkILkgUSlALiqRG3QxU0CerowsJvM1QPT7BT3ObxZAZ5q+wl/GD0DToHIHXqBRQAwYJCPBB1VA/ovOiegDUEB//u84O4BUQFiJl8ceb1NATLGsG1pNAEAsmAYS4+w6QCzwGTpKQkxAwS/KykcWQUCBBiRFTLtSQKWpKMWs8ilANfj3+YQNQEDgL90ircz2P5lWucyupUhASoXVjaWxVEBe1O4Fhw5TQN0HbBvmCVVAKtYfXA2/U0D/3Huf1edSQJ4KqinsmhBAjlI4fzC6QkD7ZyMkQNozQDNwWomgwkZAuWHRu54CWECW92ENi308QIK06K95vlRAMh4Fo7BoUECSKPnqUCZVQH68MQ7sPTdAirmMkAveP0CuZIxPde8FQLp8Fl2TTFBAMNMov3gaVUDpQit18jQ/QOEHQ54H+lNArji2+QeMUUBT1oMIEGlMQI8Tx1crmlFAaYIU0qLnIkBAZ2bRbUFDQGZ8JhcgVFNAnPKNu0qVRkDkivgSGotWQCUBIERiDUxAi0KMw5ZrVUCPSjPNwOQwQOlaYcHNTE9AVmzv+KJhM0CbVeXXznI0QFPplfxm6C1AmIpm4nUR4j92mtrQHvhUQJyTbSZuqk5ALPDuo7MFFUBufmr4Qhg8QFGnGe/x0VFAY3tAGfBoV0AzUqe1mXhDQMJPD1GOkThAJTEu/mFwUED1lT7Zpb06QBo+ZhP8WiZAU28h3TQgUkASYTHsFaRMQF1DPyZDtyNAb4rUGkLQU0BR9n/mgO9TQOHkfQvoa0lAMrXiWDruQUAeF3ln0qJLQNq0ZbKBDDlAIZKTuSKKRUAqJhaEFPdPQMLctxMJ/0FAkIj2re7tGEDe9RixHXosQO8zL6maxDdAQkMDjSi7VkDb89x3I9QxQOxNrEmG9kdA2HDgNBKEVUDgKmA7aolNQH7l0cXmx0ZAJoGoGcTcSkD9y+on/IRHQKchLIt+1URAlY+d0phVTEAAuoSugdpSQHLCJTGW5DhABqdpOvyDM0COHxhc4pgHQOSeBsd0YVBAWYG6OJJmEUD/4zvXfZdYQAjq6DlV3VdAVoOPXU/6V0A7OcpZGxRWQN0Afo6egR1ArKXp6dULSED2yUe12gRTQCSznP6LRU1AA+STlS6MQUAGG1n/sfNPQM6dhp0tBUlAd4wS6GjnVEBKNV9d5QZAQGeIsPplw0VAchi2j3esK0BsZDu9Fa5UQGuHfgauXldAKpOwjNsyVkA1MaJNJhxSQJncQ5K2h1dAUJXljwCjKUDGCBy/f7tUQDBlXpF4AUFAJlJTRRR1QEClvTocyQpSQHAOd5DE7fc/6hwt6EwqQkAELnTwkysNQOCqEHfP9kFA7OWZBPALL0DbnJlIBCBHQKn7zvXijFhAY/BI16AGTEAZERA1jplYQJeD55/H4lZAsPpSnW49PkBE+bnOwn5SQBPcza0hHFhAr+W6j77vJkC1z08i7V1XQPFf2DVUvFVAKZ0vN7+lSUCaCdaczRMqQIZ3hJ0O5yhAXY0hR4YET0AoKOhexE4zQNQqZ3YfKk1AIFLl/Ao+VUD3y9APS09CQNxp77IYvk1AZLJL+14+SUBJU9iWlewmQKSbB3qoW1RA1A4tEVhEUEDf2EhIDDBKQHQGHerAaU9Aq5ROdzPFU0DGNIBMmfFFQCNT3cvO/VRADx4Za90GIECnuZwdklFNQIf4fRWBjTlA3pIiGEFoV0Auzib+S14eQNrGyrSfegpArt91QC2DU0Cx/BIIzGhXQBeayzTOy1NA/XgiJl+tTECAm8HGZy1XQB5zzjxQ1DpA0XgHLfrtKkAJGsP/yQRAQMYyBooogUZAc2zWXGH8R0BO2+eSeQc9QJa+hQyRP0lAHeCwpGAsNkA5OnWKkEAwQLFbS57y+DdAsgi+UlREPUDb+OGZV65PQLgEEG3UGEBAgrofN9U19j/ADF/Vw1zAP6dPIsH0hElA6iUeOSjCTECnPVMAg7oyQOuHumaBXldA6Ex9PsQARUDej9x4c1dYQHmkHk40MlZAl23tXgqFOUBc7uTpLWRVQAfWvIxYfFFAMd5Ir8lGPkBh7k5vyfdQQOAOXAjV6VVA0VGYrqStJUD15a/YY2ccQHLVN17l1FJACa5mAXqeSkDpV1morvtWQK8bgEPM7lNArXy9xETqVEB/By59idJPQOJUWz47bTdAcxDyOESwR0C0jIzm7f40QOh2eNPVHClADhyjVNCqWEAGw7M1hk1WQPbZZyODLgtASjhSjnb/QUAX+8IeLQ0dQDGivy35MlFA/DDGALOTVECa1HfLlDFXQC2ROn52ikVAXEHVK+0wKUAGXbHs9HM/QBJAoMiZihtAbTiIZZq9UUDLd8ZqC+tAQELtOwT3AkBA9W0CQE1fK0AvBUPHPkkBQEjHYBmkA0RABZ/xizVoLECLZpq3ZYlIQE7YpvnhrlhATEH4WkNrMECSLjAIU5hSQGypzu1hTj5AnF0TeN4sWEA5gM7uN6QWQBWvONRXL1RAcDDpfOrAR0D8YXLbUk80QIdrmmJrcklAd1GMehUPVEDLPiZwExNUQGziv70UGkRAm2+q1i+6MEBhE47PaFFRQGSjfiovTzZAgkwv8bXZSUDUvOfZuntMQMY0vKNcsTJATzVaj7J6WEDSNhhZXFooQIswh+9Vxk9Af0egw0NrOkC1U5XzhgVRQGokMZmOFldA/+eEFjK1PEAZGxLkT5VMQH0A+SnDFlJAYbbnyf66UUDMa9CzOgZYQGos5o3qJlBA7DfKl4DvKECNL/UkVRtIQEh679uHfyRAW0OH+yjhVkAMAQ2rCLxUQE/6i8qG8zhAdmggRsMNVkAD6diI8S1VQH2yyR2OnE1A+yEcBvBkVEBS3Iwsb2lEQPMtzsK2bVRAMV1/F0hwWED+O8qlPflVQBb516jHE0NA4gLep7vYUUCupiQ6IzVEQPbHg9CPtVhApk8KdEplVUDTv0A890ZEQB72jlOuhz1A2uhLhuJQNkCojqifwSQ8QIB0bdjQ0ldA6qa+DNhsTkCgPzjh+tVNQFAhbzpkmhpAe+1rn+rfVUAM6etRd8lJQJE5urcaGVhAErE9BnTjSkB5TrQ0Krc8QPBQQwcsRPM/rDR2B3yjIkDgVuhJB3YbQCJI2cATY1dA+HEhmwpLMEBNR7RhXUpCQCrj880HqUNAqAmPW5T8UEAyP3xk79ZKQPwmlsxfcFFAJKYzaNY4VEDHbwIXRQ9JQCvOEjE9qEpA8uER9I0fUEAnzL2k38QtQOBDjmNTrE1AUVbS2BZNTEBunIpy/IVWQO8S6/+GLURA1cwvOCH2LkAzHDUzbjYxQJONofmOL0tABBvtcHuDAEAn4dQExmhVQGZFGjrxoCtAknMDcs34RUAitXKRGhA3QMhzdtuqgzVAF7ZuUPf0P0Dwx+NFmBEoQDgGtWasTldAO6YVsfziM0BaqnmcUg9EQPZbD/5/6ExAXNjR0Z8w9j/yjAnaeEFSQF8sS/mvQ1BAaKgdlGlVPUCDskcsUGkrQIH85/IHm1BAlWzoC5gWVkA1hyA+DfI6QFaydQNtUyVANKqdExuDLkBV7D6ZtcdCQEZS7+4RhEpAgG8qMDE1TkA81RvgixAxQAUdHAQrZ0VAJJJPtP07NEBZQnJqQY49QG4oORll9D1AxWYUV4iWU0BY5TWrHLlSQKYTQwu7SUZAZnkacnpDV0Chd1jPZgk3QKCssCu9OlhAr9CEg9x+IkAbyDU92MBYQIbTRAbV10VA/nWl2RCWUkBMuvNcEnQWQLZCWgHqQlNAEteOxlfkSEDZj2rlM5pFQOI2ARVt/DpAXUwTiG57MUDKOZmxGvr0PyuocKFekENAS9VTOVPLFUAsqdUEuyAjQBkzcyTnvU1AHZzPsrHJUkAaViy4tPkkQALKe+oMDTtA2BtV3wDISECCsQWJmcFQQNFW+USEvUVAANoe2W1EQkDZ0/YbRWw5QKKMaFB9cT9A+iytpNqIJEAz9zl4NPVOQDUF/ScRyFhA+UCtktSkG0C9AHBgHPciQGIzWxBBkk9AJSuJGTRfD0B2n5bKHIBTQCErYnX7QyFAH3jynW1OQUDN/xexw7ZPQIIH0g2qjkRAbZ11p6iPQUD/bI2IC1hWQLDmFdK+sUlAazLXVpKZUkBY5isGqSFYQFCIgehVJRNAbPwPb8Xn4D8ufiay4fVDQN8qhEjyC1hAuzjBVZNcPEAaiYKjJdxCQCQjQIcEc1VAZC6Ma1AsRkAp2z7jQmtVQMFzs7gEG1BADwTYr8+XUEB8x4E6dZxXQGSote5JQFhANMx+uOa+MkAy01y2CQBIQB6h4Gdop0NAagGZ3ES4Q0A0VIrpJadTQIbHWSkXsiRAEEZ4BwrBNUC+M+noyM9UQEoF1Z0b0xVAf6VfRFWmWEAOtWfpaq9MQBnLOlLIgUNAxYVznwx+UkAemQSqzfhWQGdr/3u7XTtAKfjt4hPCHkCFYaHPCWxWQKJA+oB3IVJAtK+3wdfOUUCgh+w/q8BBQCr8/nmbHvo/OYUANicYN0B9ieVlR8hXQGOipH3K3FJAsgGbniY5OkDUufKOWXNOQBUp0mgGokxATC1KUCOoN0Crntu7jZ06QPpmc4MxcFRArDg5RL8oU0BmBI2jREtSQMSgTX+TPk9AMgPkLaSJUEBsYBLNv9JQQI+/FNC9ZzlAjDlI8YTaMkCijmeNFExTQCmC4lzN60RAB+QUXV6FRUBf5WCS1bFPQJ98K2f/skVAyAF8e5uCMUBkrmKnpZgjQF6Az8SrIUtALjZ11ES8UkADBClMLNdJQJUU2JgIuVhAfDu8xsEES0AIX2M4bbdYQIw4jpd2NFZAZb+/m0hWUUBLkwXg+PtXQA9rDiwS31JACkFtW43QQEDqHUv9HvspQPK3eKppD1RA3SLNlLmbG0CrUO8NE3xWQDhRDDYHsFRA+tHBqaaXRUALPimSd6k7QIbcRWhtzDxAsaBdbHjFV0A6Rc/q9mpSQIg6dLJhRVFA9zVzx0oFUkAv5kj+NwVOQL9Xf6+/mCBArMlcF4EjRECBnHA+VHNGQBt+FZlnIEVA/9VuKMhnUECiNukbS5s+QE5f44tXylBAaJ+9ZaH1PECeezysvABKQC4SK1uVy0dA+cgcj60QOUD1gt2OBPwzQEPOagAYYztAtRjY5FD/WECCD4U9eEZDQIgV2FthVydAxLcDujGlVkAO1g0zJUZFQM6VtFjw+0dAHNcxm0umUUCCl91+Dv8wQOCa0EIbjTdAcGR9/A0ZU0Bvs0iIZ6dDQMb397LKHVJA4XCQz76QV0A2nBJwfiBJQLXesNJmBVVApl7KMlJxQECxn6S2H31CQDxukBX9MVNATju8NKSDKkDhQR15ImRRQC0Z7ipcvFZADKT86TbtFEDfh1vOMRpXQNaSKGek0lRAZ1QGsAt5TEAl3VWQNJUWQAj5gYDuhjJAl9dc4lIBSUBSRQZTuG1QQLrwuYm8BgxA7plf580rHED7K363XXRQQBPcr3m5aUVAa3DSUtdiVECFWPdG9Xs5QNwgTW5HQEBATnTNeoKnOUDAmObYw1TaPxKJDj0zh1NAIQAdNrQLLUARjALPS+dQQNuw2gXQClZAZPVGCDxMEEANVOzLQ4NUQP3iAH3iPjNAArTQsgBGSUAIlkfM1bsdQPRz6WyorBlA0Vif+aoSWECZJTJxk1RVQK7IbElXRDpAWa9uk4+WRkDQMJzC4AZVQD1evonKp1RA8uP4cvB8M0AjqhJRG6pSQEUzb1vpoVJAAeI+eyMSSkDRNlH9U9RYQFd9Nyx7HjdA+yM69NxWSEBdQGCbYVRHQDPEQSds+FdAdyH27IWSRkDVlon7KZ8oQASIZDk5G1NAupqr0UkZS0D6zuEKYj5AQNE5fJ78DVBAHusaX0YwVkCHSuUdPpVWQGAP2rRlklZAqxpw2YEAU0DhPiV6kaxJQKhXRBOrLkZAru3T2mtkUEA7fnLIll1HQMyuDG0FA0RAp31ZdbVTV0AJftD+FB9GQN2dJ5rlNDJAgS6Tk3vsNUCoijklAepRQP2QeBbaoyVA9yg8IhbOUkA9zkPccDZQQFjrLlHYCjdA/aDpmNdgK0CnJqfW+vpBQGSRc7z0ylhANDMJAed4OUA1pOB9BsxQQACj0f3qhlFAqkQRbkhyG0A6o8WfsnBQQDatMlU481JAQuOU/v40UkAnL5XKBL01QAie1e1XwFdAnBD4h/kINkBM93S3MGBQQIxzIci7mkZAw4g5z7vLVUBk5dPt969HQEzer3ubfEVAfQj3q06mJECv6PDvpNNRQP7CKEHN3z1AdPnes1GrSkCfNVl3Mz9TQFZBs+m8Jk9ALYiAyJRZUUDCgo6mh/44QGbvO2PaiyNAbZclpiTRU0CQ8vQstCpTQLZHoQOpADJALYbW//w6T0AIQk7ym+Q+QPj5KEOCiFVApaWAVK/bHUATqUEYOg9HQO5AsfhJvEVAIN442tw8IUDWAbRX5gMbQG4NicrBGFJAFj3MbjG3RUCUedPqR+c0QGXfzbwRjlRA8Yc6gVebVEAZTwB8O1I+QOMmv/BL+VRAxydKSuVISEC7/BaIXlJAQPpxS2V8wUxAmsBjHR06T0CKpzqnbgcCQOafGrNn51BApmRMU87HJkBsbro2Q+JRQNbNcsih2VZACQ+jUWhVUUAIHtpNbuxHQIwYp4kD6lNANwXc40E+MUAneXCOBEtJQM4rqTpWox5AxRlF/W0dQ0CIDVUDtiw6QHdGOyvJ9jZAGNxjp8YuU0CXXsm+kCg1QDXd33PzojdAmppJ62unRECBUxSeNb5RQKmuB4nGsiZAeQYbAKKtAEDHZuPxWpJVQNxLqV5/GSlAotxsR9AILUAj2gJ6S0dTQKBBU+mPBk9AxaKIWaULTUAX4PgtTixVQC7S+Lh4m1VA1GM/BCpaRUCNunf4AV8ZQDdqDvJ0rFFAaCIKhfzG8z+m1xaYhGYiQMBGo0ZDZUJAwOLAB9S9TUD8iBUQCE1YQKbF6PkJIktAToj8konXTEAPshej44dXQBxhP+0DBVZAKdIg9XgwOkBbYPusk/5NQMTCK35l/jVARKSH5mw2TUAGD2gbOiA5QKnQwahtzU5AlZe6geeaSEBmhXM3DAM5QKhPNp2mm0hACT0xRrIaQECGse2FSe1VQFY5QGESRy5AgqP6UBANU0C8doxELxBWQBKC3WEF4TRASpncGdXMNED6DFuSyiMjQKj3hCv4bT1A+UngGJyzTUBRqoJTjFA8QJv1BCWBr1dA+DOqB8+NFUCEQQlmJKYZQC+Ahu/AxkdANpQbwS3fTEBgDYUcpXpEQNwk6he1tFdA4kfbWLorSEDeaxuEj4FUQMysHQ8quVBACM8ADSZsMkCgDLmJYkk3QOyQmrfs+lNAX5t2gnhSV0Bqi25Mti9XQOWCpre+7VFA+xUiU/O/VkBE7aJWPO5YQG8jKV5H7ldA+ksEjQ9NMkCiRQXJ7jZHQHnBdvZa1FVAoDnui8RhPkCInV2gQsz9P0/Oz/R7LlNAedvQeuwtQUCFlbCu+oJEQEOJ/9FoSzlAu24dDMImRkAQg4NAsmdIQPZ/5n9gkVhA8xeGYQYOQ0AzOVlW4v05QAZoS1CWCDRAyHCYcraKVEBh6x9TcsNGQLgO2rs2fSRA0MtMI6/kCUD+2CP6ir9XQEbTeCEO6RFASSmGWH55RkDYUiUqERdYQLroPOd0PFZA7jg9WhwDRkDYHtUmSY9XQPzFIgklCDZAmKZ9XErlVEAnm2ITGmVQQFY/qzI4NVFAEjeNOAfCJEACg/dFB79FQLOc2pWeqFVALrnJrsRkSkBuaaPVZJT/Pw7UodMayytAtbzIR9HfDECWUSFfCfc0QEUwvHxgVyhAOZLgk7xmUUBPFbW/8vVAQHMCnX3Wu1hA5S036pCxUEBqskwowbhYQHiqUmNqIlJAPzW23+SRSUBc7zURSbEQQAw5FP1iCktA8rO5Ex9OVkDY6QcpxhhIQJlaTdA6XEFAYokr9rQKKkAu0YkZEa1AQDr0C+JQ3jNAl8+/le/VRUCPvx0tL69IQJjwojunTFBAEYpudLgACUBWITkJSIYyQLDJkzUMPExAokeh8ROPPEBov0wfmTwzQMocM0tUAC9AprOQK7uLSkBXHxIlVSNCQMIZ+ooX1jVAeqwfepAjU0C8LXKY0BA6QJrYMoQmygdAutlh7KFJR0AITo98cndTQE0bgfxwzVFAAuO+CJh+VkBEPMeiVuFSQK/tt9ztHidA/jY8rVSgVEBSfnqYR/xLQPz0aFoKTUJADnLgs6jFP0A2+2TDoMNRQLa42z3yg0JA6GhSQjRRGUBWOpFYEz9SQNV8GGU6NFdAFXAhcDJjSUCRhepso0pXQC7be39HAUJA2LtpT2W1QkA9qRWnqDpUQA6OJcfblkNAlpvgoAOjP0DWS0MoM9RQQPqjymmJv0xAXIC19oooVECOT3F76E9EQD4bRsSWOhtAvfVuyRP/L0DKwBNdBRJXQPxn3lx+bUdAhN4Faqg0QUBsZ5HmqklYQDwjuncS9FZANx1QhBEhQkBZSforSzExQIcuJuGmrlJA6SJRdmjfQECOgjyoQqFRQLAu528BuU9AEavlJ4qQWEDmO0+NXcg5QDRVRBbuSD1Adi1fWIfvQUDv3Xzh/VZYQJGpLx9+h0JATsMWfmX4J0BA3RcyJeRIQKin4F28KFdAgR8SqVeNSkB0wOUsxCtXQGsrxgL0+EVADpUhgYR2G0Ad75ccTf1RQHY7SlJ7KVhA6UizsQxmHkCI8M+C0HQkQCIw9mcUFRBAdGufyt6OTEAiK0Rcbhf+P0hSqzOAklZANWHO6NWbU0ABhvWzilNHQBAyRvw8b1dAWJTgdgojE0D2owwzeQRPQKhGeucUTVRAnIdzLVBpIUDV8i62k7wzQIZPR7UsDE1ARZSKhNorRUAq4qCQZTogQE4astcDrU1AUDisYzCOUUA4ubvfa3NIQB4yaEOnextAVyq9P0/MNEA/TVxdHnlSQC+o48q340xAqywsivjvWEB5lnh2hLk/QJIS9DO560dABmMpsI6pVEAal6p9GhtWQJz+BSEyclVAzMY32wqYVkBNxGRkUmMFQISCl0Job0BAGDIG7SkI3T8bzlWMvl1QQCpGft9jsjxAoLsXRDhQPUBVsln0LIpUQE7KtH/hX1FA0CkOifNXRkAcONYZ8KH6P3GyPNTb2x1A+rqnb55SUkB0WMJ5qw8vQOU+Bnmy1UBAt5bDqDJ6C0BjuirMPYQwQK4e29hmNENARy+RczB/QkD1PYzKnjNSQD0DTGBlFkRAWzy92RvuLEACr1MG52IhQCKLk4i2GR5A1hCTdsGSL0AzkTQX7RkqQCQ1ob3VISJA5Jdkm1mgNkB/HHhXHpREQBJ8kyvzmlBAZJTL2C1rIkDB6oaSgjZTQH0gPzTZildAQ4Glq1n3SUDBLSQVJGROQFXcSLHf7ExAULiatFg1OUCg1pbD0JBHQAzKOY85rDVAfrS9zf3+TkBCXjOZcyIpQAma6n37yFRAUAg+PwAhRUD3mv83uPVCQNpjvLTVxlhA0sQ6wX4+QkBzBzJRYaNQQLb7WhB3/CBAzDAHI+dvO0A=\",\"dtype\":\"float64\",\"order\":\"little\",\"shape\":[4000]},\"y\":{\"__ndarray__\":\"fLHDtaxZVUCDZObe7MFUQOO5dtkqsFJAJEhvZK9tUUBpWzHYnUhVQEDxjxKuTkFAKBaskIRvVED68Aaz/WZLQJKj4oaWyTVAvZ5jcr6dVkBvbr1J9XpKQHCgzJhvL0tAoXsGGU/tSUCR2Qo5D8ZXQHjRo8PNMuI/K8y08VsxTEAiVA4swL9VQMotOnkSbURAgyHisUG9PUAyBbc2W15MQLXs4DoGsU1ASH6hSuo/UUBOJMgrsYxBQODfTjqz/lVA3PHryDwSRkAkIv1gMatAQBe7ypaskFNAuMDC/Uc33z+nilo1QNtFQElci7/bakVAanAI3BrXS0DTcgHcGn1LQJec/Yhe2zRAvzT0ACCtUUDyrPHDsY48QC/thuMnP0dAXe3PD1ieS0C7aqPbeiJXQI04h0PtGDtAwHb/qXmLTkAPOHTkfec5QMizNtmeFSJAZsRfHI1YLkBcG1V2HikRQGaTZejMeRdA4OmcIA4jSEDDTVdp+lEoQBpuDy+gZ0NAbJDW4p4URkALAa2Zju1IQGZ286nDfUdA9BOqOUL3T0Bn8F+yRthQQFzbaNg/GEFAJJk5t44ZUEBMmH/Trl45QJ3btNtfP1NA0H46ciynI0Cxk6dwD55RQHDKM+8MaFZALoTlcMxsV0CQQ9CBHYAxQDPdFk87RVZAWhB+qOxoUkBhQPQgUSs2QC5yt91XpVhAtkaeBCMpJUBmcFMiQMU5QIxrwNLJ+0VA+/CbJXBKUEA8oIKC6jAyQFkKSuPv81dAyRzvu+JtR0DnB4gG+qgzQLkfQTLYw0NALGohfDT9OkAAMCiEy5lVQOWZ0KQrvEhAlKGF9or3WECiJfLw4VdOQDP5wty51FFAvz+2s4ORQ0DDu3DVNYJKQHtzhhbhZFZAJNo0L4CtVkCMVJKCzIJDQGuCyVffz0VAEhreSFWWOUDvhp/4Vp42QKHsHej+T0pALS93VGdBWEDwZgYOYLraPzCWXWDcpFNA1qiOA7uYTkBoeDscp6JYQDP9ZiQ3g1hAnwW5ZHipMEBFdktO1IdMQFLM9xyxiFNAqTTussnCJ0BmrvGq+Gw1QOJy6Q6NiS5ANIfgivcARkAg40gd+kRFQDq0Rg1GvFRAtOdH7Fo/MECRswGrEJwzQMAFfWr770NA5N8lwhHzRkDOeKjCyKNVQMYJ3UF6zzJAMz+sb3ddVUBS+oDZP0dDQEFX4QTFWVNAQ6ZZsdMbV0DrHbr6Zoo6QML8Gfw41DJASsLC1DdrTUCAi4pTMrhXQBDXGyU68k9ArIsq1ZrFQECKCQZL+78wQOOonMp+uTJA8QADCpDQOkCIvS95+jUxQHP4mf9yajpA1nNY9/jzS0AyGO4StJlYQIh4w+6bDDtAlaBvlJH/VkA5SdQiCixCQAnDN0arGDpAueL58fqqSUDYPumJQ/dXQMeYSir/BFdAB+Xq4t8GV0D/gBg8NOtVQED2UCWtHlVA3CPyAabcNEAJ6NLuTQdXQK4yoZj0+j9AaiWbMnv+PkArk44aWx9PQHxlfOcgT1ZAybO7brnXQ0A7TiIdT6ZVQChkDXdJIzJAsHAArRdRNECTpZ+Ds2geQFI0djeoIkNA54uiXo57QkAEPmK9l2BPQFaO7JXKY0FARfB2WTseTkAQ9cmnwLVBQJruzy0l4FdAx+KjV9QXU0CPvE03CutVQEMYbqF5kVhAqctiapfaU0DKFrpt8uc2QEftOUwQFElAnUkBvY/MKECMZno1I0k6QM4Mdnyp7lVACbcY1FsCR0BwX/NTkytNQH3UD1PIsEZA0iV4sg1UGkDHL0JEO65YQIilk9QQb01AWLrCE1GqLUDofmsd9h8+QATAn2RNCVNA2oea0n8FQkCfJVw7EsVTQGwIL61630VA7gWa6aK7UkDRvFoo9ANDQFqu8GUbcEtAtiF7psetQECfClJ2Xd1EQBLjSbqYkVVAy68dUV/oP0CSWomWKOFVQPSp3RIgqz5AiMMUePjzS0BAuTK44EkxQCo6JcgpGDtAJWdipiaWTkBybhq4t2EsQIQ6+ARw5zRAB2gUp5NlA0DQPwQauOFNQNdKAAux80ZAkyUHohp6TUBs7QkBaK9VQKsd448KVkJA628LhnVFSUBhb/U99I1SQPVy19RPTkhA3ar5ySGMVUBdx65Z7YFQQIKpKAvN/lBANowUiecrQkAokhCmHD/1PzF34qZCplFAlmQxYZ5JRkBdwX02ATJEQMNezNAy7ldA9nB8NWSNNUAsL1wqW0cSQKbFIpG3rkdADI2r26ywSUASwKpUQCs0QNHnjKAJA1FAJUJNW2VXVEC+PJXH1tNWQEhegt1llldAxXwjdWQaVkDCZ88RHahTQKKO0NQCCTNAlxk2LThKQEDaTCM4ZZoyQOigKv3JUk9A8X9F8a8bU0AG8tDHo/gvQNJP1eIvN0RAdGBMafZSV0A+IXZASBlLQISpedafvUhAlbqrZ8fAU0AFrFSAewZSQOBUgPNtY8c/dBzAHMlpT0ADMGVmOj1LQBAXfDB2skJA3KlLSF4ZSkCf8PgpAYlYQEnMsrKb4k1A1gax9DKNPUApDcd825Y6QM4xMK6SBk1AGgomEmXVTEC4JzLwMYFXQASxs/Nv2FdAgOt9vG+VRkCUXPJjjnBNQMf20VbhnFJAJrgeVMiHK0DoS53iL6owQK03CnMtQStARTEeuH24S0DSH3C6r4lEQDCArdEWbkZAdOQF/j2wIEBur21/4wwsQKKq4J/V0gFABivLlRhXVkDIspeDxRhKQO4Oe2nbEE1AP/VvS8npSEAu7Mhwv+5WQMjO4mo17EhAJKh3NQ2rDkAKR8nbQapRQN5rW864+jhAdf/vAxo8UkDrmiYU3TRHQIWHXsc1SlZAdRJDTbqiRkAC2fBSiOZWQHlJEwGBsTBAJNR9SWxSRkD1io4geotUQIgnFRQotkVAL+lReUEFQUAFEB6O49xVQNyL0L/6wTtA5X9xVBp+UUD9nvUobXhXQLx5mNPM8lhAfHyPSy6VKECiN6YpDhJWQF5j1u8vCD9A6T3ouRS8REDrWyQlxANRQAAPydd1P0JAFMqDFb5kU0BgK38M7p9XQO0tEEeY5UdAZg0F1iBzVEAUcpWtJIpMQMA3eVh84U5A+gFgEgcPOEDgvzIMnOhCQHPaGSgakVVAx87q2pBPU0A6dkQihtBWQCqMGCdD0ilAyycGrQ4IEUCteDWScthVQH277qGKUUdAVjEpaHCMTkDWOM5Q79I3QPBGLxoQi01AHwJ+y0TlUEBM9buI7ZVMQM0cKLQ2pxpAz+8tDJhXVkC9G8pFbS0+QDCBaTt6VAJAK5w7NxBBT0Aa2LFaUkpMQJEakwZPQlRAyINCmDU5MkBCHBE2fq4jQJbY80b7UlBAVmyH6A3cJ0Aiy3IA9pNYQIMYsWUu3k1ATm05lDMMPUCk60kRpqZMQPr6StXCsU5AeU9dGPsbGUA1Dw/LlEJWQApuzf6CalRA3X4ZUeM6IEBpB3vlERs9QI9OS98q3VFA+lPT0VW0TkDiBb2NS94ZQMXRX1JYRExA1DzHx5acWEBaeeHSCPsxQEi/7QGkCVVAJlOEVPXzP0AEdYo1BSFLQH2dftJ9xSBA9KK8hvaEG0BUbIoXMYfsP9z1k3XXXDNAXs8G9UyZVkCzCVSkM48vQGwISFOMYT1AIluZrtjlN0C9EddZJopJQMvUhsM12VFAvz7K8kx5NUCnn9w9R9ExQKaIqbyoi1hArieBT9LkIkDF798ChlBWQA+eyO1L0DpAsr7ox0IcSEBHRkP6qFZPQPcw6ZUJ4FVAeowSN9BvU0AiLkDn+65RQFagX5oKoT5A6TGWGD2lLECzQMttr2ZUQMI4tMuUqSFAo+p8afj0U0CeJw95X4QsQAo2pHeBw0xAcZya9NNtV0D5pqrAgr5VQJaTrb5Y8FJAgK/EAIvFR0B3RFzal8suQK1zZMTlnFRAjGZyfkHEQkBgVyKXjyXBP32u7eQOH0xA3Yw4OoSwUEBB/fSpTcdWQDnoFMH7oktAtX7sjfxeQUAqfM8TDNxXQGmit/kGeUtAVsrc2L+8SUDLGtfK7JVIQI6CgZ6+z0xAYrt7meflUkCJJhVyea8yQFSjkcdiGFBAfGXALqtsUEBum27fqGxQQLy2V4Qt+UtAdo14ygyjTUBa8g9yHTlTQLyw2o95bSRAtnbdNDZ7IUA9wPqRDFZEQI/867AQvUNAO9I4TR7+TUAqUSjjnfo5QKDvUx4hZEJA9pic4rJMPkCm3ylWB3ZGQLaGiIZ3lRNAnDhg0HcxUEA4jvNTjXU2QKnnIE6o+EdAFrFE0Ce+RUAVbXAgmFVEQNo91mICqTNAPdTVZUdYUEAdBM1lqApPQL7KZu6v3URAn2Bw3qTYIEDAH6o6ukZGQIeSHM7/KlFAdV30YzLPCUBBetOwl0pOQKZQAJirU1JAZ/XuxCJ6VkA+ctocLItSQDrh1KNZ4TBAvEeIeHR3TEBMu7RJhsU7QO+zxl7YDlFApnLFivtEV0DvGsXa50pPQNtJ/5y03UhAOZxtS7dkR0AtsAnRaYlWQAKwdBxhYjBAwTHHLedFT0DgRsOp+MlYQDEux+yz4x1ABGtu9xpIWEADmzElro80QF5x80BvbUZAYP5OyvAX8T8sjtSVKeRBQKqqhlk5gVBAwhaFwG/oNEDqqK7X5NVEQN2+Ybc9NkZA6b7u0axbO0DY4oTA00JEQIB5H48UEEtARoxilg/8UkA2iL7fJtEwQA+CwvxF5FNAIqpWRs73S0DTVs0HAbY4QHHzo3drr1ZAEWGw5gqoNUARoALLrJxSQLs0501p7zpArUTw20fGMUBeOrVaHm9YQAzawmSvOUpAMUZY94fmQUC5dUESC9M7QM6ge3+sWkFA66aP1ilyOEDKbsSiAo4sQG4qWkUmrVhALsizXmIuVUAnXuN52yYiQJgRpoaCGhZAADow37S92z/NSQtW+O83QI1xgQr4pTRAbu4F549AQ0Cy97Q+TdBWQDeIbICdrxBAQ77rKReLUEDu9hqIwjRPQI5gybS0RPw/xupx3zXMBEDVbeYMFhZXQGyQNO/6JTZAu02TH1lzNUBdi4NVCwg9QJ9t0dZ89UxAaP6cr+L6VUDnvSzGsAA6QAkNgGVyAlNAmw5l6GnHV0BVB7zBJh1XQO167H1Yj1hAAPT7nEDFU0CgdB4/06lYQE2C4TFuHFRAVUZKoPkKN0BpEhEcHFZWQKQIi4ForkpA7D7uIh18SUCwDmd8oNVEQG2F9YJCqBNAOp6Vz4WUQkD+9MMUWEsaQN/s7RJXgUtA7gQbt2KOT0Dwd2cuODInQBOTwPpfdSlA38HmISXCS0Dyyv6DHCNEQBs8nQjpZyxA0LVzjedYUUD4Kd7p9BFMQMH8waebyDNAim+hIBHxS0DlmJaAVRdFQH/r9KBj/DZAlZe6RSDYUUBE4Modza0rQAgbSgvItVJATJcD2bn1MkDee4vDd0MpQGLgp2VQYFRAQOzhsNWuS0A9GmI5jro4QLVvyogNy0tAsvjOORT8SUBPrQuSSVZUQPgY009hkyFAqJVsVFa7U0CXlw6ghOpTQBzmnOrewjdALHCDk3QcUEBBrnCxq3QUQHTq+RrmLTpA88uuYXJ7SUD8AO0fRlVUQC2btUoZ0lJAK6q7WdRhUkAcvtr48xtTQP2OMLMKTTZAklnP4BRZKUCsBzgflHI/QJ8fMcKuslZAm7L42lOVUECr6KUitWBXQMkWZ/ejKUdAUKDrjFrRzz8RHhSrRDAhQIRCw7uJKVFAmI35BP7aVUDVcAbnGeE6QPBr5zzG5CxATBjpvwS/MUCg8qIedSFDQEiJBxjpr0lAD9Vx1vKHUUBrLT9zMP9MQNjz5CByB1RAXiHPSh7oRkBLC59LYXdQQIj2GuErBFJAOQ4FmBbYWEAxSu/9GC0rQK2t8DgJtTJAEknBZK9OVkCN+xYW8WtTQOxfvDDVC1hARdtMLrJrTkDKljajTg74P+5p79McXjJAnkte2D6CUkACjmE+5KpMQFqSEarTsUlAIrpcH7rDN0D3kSG1FHE5QJRjqxdbeSJAFnLw+Bg4VkCSJyqYZMtFQMJ23albXFBAi4m9NMHjUEAZiqlRV5VNQNzROQfSZFRAE+/wUktITECi0jEE7jQbQBfzJUse2VJA6bn3DRqmV0BvMwLGIoZPQB2S9cvu20JAjKUO64BBSkC3brf0i1QbQA4e92dBplVAoqB6Z+EdREDQoy4hSHNEQNlRnvpOoTZAMRNT5tNAV0Bef6SyKWtLQJWCKQEtQUNA7CNAnG3yRUB2lDQwftFBQNMWAU1r0E9ArLchLzgXTEA6R5vaL48wQP3dUzeCd0xAdGAXRr2lE0C/3FOqpfw/QPSY4EZX1lZAXmvXTe68RUC6gFaefXkzQEdDm0F1KUtAu1UG7v0BO0DKyHuLvO9YQD+YwgkP6lBAQgwR+a6JVkC8Y3pbG1JUQEqIpYkfq/o/0+dPFemYUkAjj+CHqeg9QCxHmV95A0FAYZW+toYITkB3su8HFOlXQB4BrqFVcEBAeUXyxtG+KkBrqzTGnJtVQNL+rj1QKzhApyBttUBsT0Dmj2EZJ8NFQNTkUc+YrUxAiAVv9VzwVUA7WRWVdxVWQGab1S91FiZAu9tdR+SDVUACtWQ6iVE0QIXpTD3VCkdABY8mdqHlR0DcTBNn6vBJQGXad69/FFhAjuTnDekTUkD6zGObJDQvQAcsR3YusEtAbpdsTWwNUkCAB4nq4AwnQC5Z8oITUkJAXQgOiqtGQUDDJ+PU8Q41QPZOF7BhU0NAt832Fx4NJUD79cM81IZIQC6J+WUeZFBAWPBuxppOKEAYJIM65wpRQJDveC8oKVVAJmr1f6tBS0Do2DaEj28RQOgaPk0BawRAdAokfFxYSEBMV2yUiq0bQGzzXULfYzRA2QcP40l0T0CMHWhCVuhSQCwS1S0jo/s/j8YZNAIaWED0fZuz1i1WQCgIMM58/VVAOcZ65RghUEDR+/g7yC9GQO6QRw2zjVFAF2vL9pzwOkC+0bvIps9KQGg/2hyEw0hA5t/kTWEnQkCVSKpJpgZIQD8wLjNCnlZAg8PMcGpDJEAYAHkVBMFMQHrhl9c1nVhAmGA8O4OTP0BX2hFMnthXQB5r++fFTDRATykoGQJdCUDW/BsYBX5QQOMbWM+/+lRAmYx0EPWbUEACinf03e1RQCeb2GIt709A5begGUYOSkBOHfboDw9SQMrzNQwYnB5ABucdnRJ2UkDkHs04MLVBQEwylkqxNDtAdGf/80EuKkAjfPpkyttAQP7BbvWl3jtAO9QJWfu6JEDKhmOawARQQFh5SKiexD5AOnbY9H6xV0CMpbWZA8M/QD82dEospkJAvPJPzxD5TkA9x7sO1/tYQHHGYTNonj1Ac9amXH5zVUDMYLJKQBBLQJmSAhmAPh1AU2XPxPd4TkAfkHaZCI1JQP/J3Q0uv0ZA1gNWvwHrQEBoxExCwhwlQH5sZ+Zaz0FAkI1pMhKmVkA6dYW83AxNQJ3JXnM6pUFAqoM/2K7HWEA8/FAyHFdVQHgoIvJ4g1NA4vE23Q+nUUArkt6vQopXQDIvebGxJRNAGz6LB0uPREBYcGTY5KJYQB1UIh8U5EFAz79S/OJsVkDeB0NSX0svQMeURv6FpkpAS42HXRjeVUAJGBM3q0BYQH7qvZEgtkhAS/rmFoysT0C6tTLw7ktXQAdk/WdjQkJAVop79CGJP0BtYZKuVnIdQDE/XgmXhDVACMfJFQj/Q0AteDgy5OIvQHnxrKVbUFVAOssUe6U2UECrTaTJOpNYQMhFvCLkaURAsw1s5EEPIkAwLkkFQRwpQBBReL6IZVhAfhZm0NvGVUB4AkBU5KFXQAZD3annxFRAfNyGvudeOkB2zmoMkeowQDKy9dU9SzNAiiH8NE1zO0AU3zcdn6VQQPWFQ/k/F1dAJPU8cd2qIEBahgKX1L8pQF2JBdFYyFhA2GDQiZBnWEAy+VPPYD9HQF0oGivU1lFAI8waH5evJ0DkBJacO5ZWQLYOIxa1c1FAC8dvvgUbMEAEqLW2nL1EQDGFkf3/4FhAutmDdfttUUDPOZE/X4hDQINnjHKg+EdAGOy2RBH4QUDatOtBfYVOQCfmvQn+tVBAffVNY1ZGNkBzWAOWuUsTQJAHvrNjbFZARwIfoaGyUEAEUiiy9XEiQGOfkrl7RVRA91SjjvrPUUCHS9LDNtlSQKgB6TMfqVZAVtm7TnBfV0DIrF5iQ7xXQFDCKJBH6kRA3bUibObGUEDd4Xxh+tMhQPS5WzR4ZlZAZrNnGDzSQ0BvquZ/IbEsQKQmzcCqW1FAGNIL7Lr8QkCBmTRsl7dAQGcfnp8j9UFAykZIW6RLSUChCvZCsZlSQDAFvj8KgktA9EaQnzN2J0DmXCx364VTQIOZz7K6rVRAgT6FShQ6HUAmJCRxd+5TQA8yJgxMt1NAcaKxJUdIN0ARrAJcjPBIQCS4xbzsERlAu8IkJTpLR0AM7M5jeENMQCYp8KqOeEBAOWs3Gi6iPUAyFi3nFsIgQKwihf5oeFhAsN/CiDPMUECKWob8Z+1NQPZTB8O0d0ZA3ys5S7AIUkBkDr+b95JCQPQRXIgIvVZA+hhJbfLQV0BCRZloJdJBQJyNHXgK9VBALMAkHw1WUkCqstNnSjRTQCvgtW7H305AUPrY5U+BQ0BpScaf2CFNQD81lRQc9FhAm9oeupcxM0CLMdcyNJE6QNTdldK6giNA+cSFdRwlREBmABph7WlKQN7qSp9NnEBAlvnxAmMuUECswNKYIvtSQOpwt5hkpEdAk8ShQnEdUUDjXeZNGe5EQF78uhH03UtAY7XROi0CN0CePwzDRNBHQKUo6m3s3ThACmbgyIu7VUAxPd+1a2I4QKy2fPAIQkZADtIhfo1tIkBjAszXpQhFQLmYYP6wFFRAtLPQomSPUEAAH6l7u+BHQFbHT+0EDldAWF9Lfd9fMkBO/CL1rRtDQK9hkrhL41VAxSt2CXXrNEDkSNE82uIjQNBNLIcvnT9AZAM4hDesSUDzIF6s6/wzQPg2oJ8iu0RA/GCL2RXkVECkT/UI/+E7QIhTpZzvjjhAsj8iL1rZD0CwuAA0o/FMQI/Cc4eTK01AVk+0jWH/REBlYs3tkK9RQMTLwlC5HfI/anOaTkP8WEAPtaOU3bhUQFL2bp7owlFApKhU/CZNQkCfHbQP+JI7QN8oEoWGlldAHkxL5ICrUUANrzEQcQRXQDOmAv1w5FZAF03oP7e1CkATBBgXtP9YQMWDdgPZYlBAYMEzlml1NkBbnpb1YeZQQKjg6VWGlFJAOlrpxM3/UkAcxaBz6JY9QDvEdIsl0ElAGyUp0TDRVEC+mm8GBKNTQBDL/AJOsE9A742dLi4VREAY/TtT9dpTQMP0dSIbdx1AeFaJSY1QQEDFz0Gk3DlYQP5l7WrhYwdAW5WQmEcjVUBf3lro1jFTQFRtISM1Ax9AwIatW/GuS0BZMnnzLdJQQG6tpmpogVFAAJStF8JOwz9ojO+gPIlXQIor0WKt/0ZA2ChEVmWONkBcBvXIfblLQC4zU9SkgidAFVCUj5D1SEAcHrx0TUJHQKQTMD8M3lJAUCBqoDpfUUAFcx2wCztRQIbIaDh56VhAuDaggCH4PUC2JjqPEadSQDwy8d8b1lFALyc2fDDJVkBNCFcoellJQMULtcMwADxAuerQLpSLTEALp+3U1jlKQIVchTPq5SxAUbOKaLVaVEDxGuVEmIJNQG/JC6144EhANWue32poQUCtbHkTdmFIQFPbyjwuTERAqJETygRkREDiBwlXHJ4/QGRAltGg0UtAdwPcbaRvKUDGvq1FAScyQAHB7v0grkVAttUzA0DBOUAdr4m0VUlGQMT85gh6EVNAM2MsY5IzRUCYwfKh2CFQQFLio8VSh1NA0OvJJrsDTkDUEAsy3F86QBCFicwT8j1AGXr4heprUEBsHVs1RDg2QCehWr9cJ09ALlyTdkqmQkBKcqr231s7QP+Uimop6jNAGKaZBWbgRUCfnDmGb0wiQEkPDmfIf1dAa2kXhlWEWEDcIAcvR21SQGs+Kni8UjxASqWomwTrJEBDATrkf386QC7m2epMfiJAFgiBi9huOEDLhtlLNKBRQJfj4pnhflZAqlp2KkLpU0BPg33cMeFYQHl/uPkeNVRAIO14kO+qTkAuM2l8fJJTQDSR7xuRIT9A61YtjxsIWEBZOwvFM2FHQEb22HxuIFZAYwP9myFmVEAeFLuIkd4XQGwLMHQz/FBAxyVsp3zjVUBY0OJmsUo9QJ3SPqGDajBAOEzWL8pkWED0r4jIw9M0QNFwudbJZU5A/PTc+ZNOUEBeAnKV3vVXQLLirW+3+kpAD+g4Rx9PUkCmB5BkhkFAQGqxqxfFyUxAb7bMKkWuQUAqz6Nm0d9TQDu6olJGEBRA7Bf0Sw0eVEASEGnks1XzP7Ntk67wZQlAgLzMSIpSUEASOujPEvpPQD9Rv/x+r1VAqiMA3XztUUDcP/KWLjpTQAK4teZihzFAnbJCQMikUkBBrhOpZJFPQLbSKSn6ilNArofYWmUsQkBCubK15GNPQF58O7OEklJASxFeOHuNJ0Acog4WYARAQOYLFARYWyhANPy57i7iVUDA3UXKitm1P2no6JovrFdAOQYigUtjT0C323TtAjlVQOW+x2cJO1VACI0Y3u/GQkDkOy6JwNAyQL8jqUSRpS9ABJeNqLbcVUDfN3utp4ZSQADB8h83KldADH7gdZtjTkB8/pD+gy0QQFdJOp7O41JApA9FQ53sJkAApDMBui1HQKDvVOT6wUFAXekViRUCPEB+ghVfymxHQIb0x2At61hAqQPHbmR6NECOEy8FeXhDQPdq/1xGxFBAMtLffA/pUEDQyLEpDppHQBCck6yZbFJA8+mhkOg4UkA0oq1z06T3P2poQwIrvDdARoEkvt5JSEDKiJZOJcEzQAgcenuFnCFAtT5B4QYRSEAKHPlm5ORSQIuJL9TnZ0xAmg0c4saMRkAU/SXI3q1CQN5+iyn1BClAhIkvpjpfVUCG0RViYyYgQKKtXuvdE1JAOjg1T3mlU0BETLcEkiVNQEFkRIx3xFZAotfZorCXOUBsrALyQ0kyQMUkbnlC6z9AMF+vjRhSU0CvwYVZ1lBFQI9l9psLMEFAjKut3t5cSEDZ0IhID69RQMsGA918n1JASbmvtVVzTUBO4kC+rHE6QNLN1PUHhVhAbZm1VqYxQEDDJiDzwPhLQH/LGam6B1hAekJiBs5GQ0AR8FeKLhRPQGHkk45PCkhArK+TOTJCSEAR/7RQ3aweQJvrQ9/V2FJA0vjkTK5+REDCaRynsw5YQIWQsTZVeENAdvIrWhMlVkDl2HINGmZVQDTelDXGcSlAea4mpSBePkDlIMMOtQJXQJIOXvig6E1AT/Q/PVLOUkDKg5uScGYuQEPejA+XTlJAE9HC+LIBL0BFjIgS6hc1QAMQSlqsrFJAENJ8+ENWTkCCFn33afxBQKGSinUxW1BAYFGUeKjjUUCtijGMFktOQCsK9yW+dE1AB8AhCRTbWEBJPAUU5UAIQDtTEylODTBAH2Zm4wdfR0CiEEodBbdDQAAeRWv/GDRAN2il+b2/SkD63yiRJEAWQPZFSQqlSFRAGze3lVWWVkAwo3Ok/+JXQFwVFP11VlJA0ZCZCNWEVkAKYx63WNdCQGFrbfieXEpADVYTXnz+UEDtjyQ3XfpMQI2iVMFyqBdAZOzHBR7INUBZIc5Z+jZAQFNi2kJpk1FA8ocJfAvxDEBP/vTVRU9XQOkVDt/GeENAEYtU0afVLkAbdByOV7k2QE7krLH4vFRAABh7uwjIQUBy3Jx3eL4fQCS+9+f2z1hAaUQNW4axU0Du+lBLanhEQGH3mZRfKj5AuJ/HIBY5Q0BK7s3toWYqQPpUmi5U1ypA5zjsoYLcT0CxiHuqdkZOQP/9ceXXSE9AaTRuZexFQEDogG53PihUQEq6gf9wBjtAXnOH5DY5M0DYc6CN26IzQITAcoKr2StA11JacmSTVkBWKbrGMxxHQGqOUzm7fEJABdOwahpxRkDJJqTKjYU4QHo4b3J4vQdAAhxry2SgQ0AtJ+4Xw4RKQIDM5XXAwPI/wIss5gncV0CYwpXL265MQLqgX9ZwRlBA20GLMPJLV0BGOEIqgXBWQK9L1Q/0I1ZASj1VqNXOI0BRlcHTpXhSQFF1WPnInFBA4aAzioLYQkBhpcaKCJkrQHL5ENru5QVA/Z9m+df9U0BHG9PmrYpPQGJh05sZ9VdA7k8bMgMwSUC1B1c7Bf09QJomcOLhw1FALeLmv8JVVEACi2BTGDNYQFoCrDHXZAZA1eI0sqZ+RUBcBeeY6jEyQJPwCWzOg01AgclcAdefWEAz3pIsrOpXQLXkbssQ2UVAIpT559JcV0AAqGmZUxozQMAHUUlmukRAVObR0TFXUUCT7jnrRfZUQD/FSiYlZlNAb9DmPAMwUkCdtOischwbQAEvHKal6kxAvu/2reCvSUA1WL/uY4RAQEW3Et/h5lBAn4lz0knlS0Ccr7IU5MQWQJp7mJ7x/ExAnyb8Dek9RUA1BOabVGxJQFBjGKay9C1A/y/ds+bNVUBU5s7WPYNFQOIMCpoV0ldAd8v6Bk/XVUAzNjunOKpQQCAKRzoSElBA0ASv0ny+FUArV5CoYytSQHgXdnIztEFA8VhEiKBdSkAPwTdRCmtMQLdFsGxcSDdASqkPdcy7NEBGPQqWIZUsQCKZWk4EvkNAu4QvX5CtU0DwuurwBVVTQFS/k78n4yVA05hgeAKMUEAIVPCmBEc7QI77Sq7kN0lA9DFB82O7U0Cz4oeTRDAiQCjiGAnQi9M/sA6f4lGATUCchysNBkLvPxYxdlumGEpAd/w3QBMIVUCoXQMVZOEeQBiLaDgBVdA/mXP9oUmGCkCLPFq08O5IQEgt7AcCnldAf3GgHmumL0DiNlJCToEoQClNLcfdv05ACB2GctsnN0DmFMrx8LtXQGFL0xrXPUtAid3VbNafOEATeXQx/vlEQOYMnseMaUVAf5vG9xrPQEDYhtvhnLVRQAzhaoKptE5A6N0r3k8sUUDtjWiVZ6dTQNiTfbQllkJAa5t76B0XSEAZcVLfPckUQMHvgPbnt0VAR445VyUaMUD3fOj0sX1DQNzpP+spphFALWKxPNeUUUBsNJ7N6rdLQE9+2oEmOUtAVlvvTgDMPUB4fP7UHqJPQH/a24BqJVhAjVbPRuwEVkAolbDtVp47QI4gprulTFFAkY10HMM2VUClYMLz5VtKQCvxKe+BfVJAeNuYMdeOOEC4UXPAdqxXQEjsYrW+b01A6RdEMXfdPkDFKyPBRRxEQC7U7/HEgUFARhV3mHwlV0AAJrQOgK6qP+4ZOy7bakpAZvGDV8cVSEASPcJtAoo9QN7lwLqJQENAXkm2UrB6T0AL90EOb7hLQHLmjvyfNEFAEytCIaAGOEDTomu95+tRQBfEj+9WsVVA9NSEneThUUCNwmpZONFLQO43zwWNY0FASF8iftv9T0CTedsO0KtQQAmoL5HTr1VAN7F8SJw4VUBJNYwhtydSQHyKbpiZAjdACmwHOF2+NUAGAvAXTMMgQA3yBHmaoU1Alb5H0OE8RUCb0i+8mB8sQFm4VzdcolRAIHdQ4PNq2j8TvVxVXTM8QBY+qHmcBzVAJAmxycm+TUAyiWyvbdA7QCtco/MXHVRAl95n1YO3UUAoB2NyLdU5QAODMJZC905AJ0ciMcgdVEBgMLA4eyJEQNTRAka+a0lABTfRBnQBUUCtzLr961dVQAgbu/2PqkhACTBzURvOQ0CokdmOkJRVQF78087a201AegC9VOQ4TUCvJi1YdSpDQLi8RDZzZU1AzibiaME9QUDqc6JOaulUQO60UW3FiUVAZgZw+ZcEAEB8EtFS6Qg7QD2PZEaduFJAMpvqOVoVQEB9xcGzq09BQAxcFA6GEkZAF4zKmTc3S0ARXjvb+UtQQL0hkTj3mjtAG0F6qiq/UEDLKAY6F/MqQIUVA3HB6idAw+d55sMVVUDWnt610ZI9QChxQpLQ4FBANfe0j6/aUkCukB3Ha2tHQI1KzTXly05AhXRSqGNFAkACeKZEqjc/QA4q42ZY+FJA9vpl1qDLWEDF4mwvB3dHQIW1R+vHOFFAYcqXfpOxVEAx4cIkKGI4QCoFpnc2gkBACR3UX5fZT0CoXptDsMjUP8I/RA+V7FFAhVP5vhszV0BuKqXvp58yQKH0rrzS1BpA1jTZH9yeUUDNgI4QNIxXQAyk4+ustzxA6lPtwao1KECGhhggEmlCQCkJyKZoalNA5zr2A0wQQECL76sWFrRSQJpCat0Hz0JA7pL3g0uKTUC++gRisKQpQGKlfla8rUBA9FQuBH4zTUB3fCujAWcnQM2onAHUDkJAkLWEn+zsJEDkxGO1mOgrQNRWf2pbBilAetWLbcK/LEC5qWrOfUJUQEsUNlSjH1JA/3Ax2sZUUkDj339V2jpQQL/T0ZV1ZFNAdyZo/zf3QEC7N4CiDKtLQJ/tqV8L6jhAxFcgdlY5VEDs8h1/onkXQNaYZHDlK/4/akw/p03XRkAGREOdAhQrQPgzty42cAVA80NerNTjO0Cwg+9/B7pXQAIxS/mMYyxAEQ3OBTh+TkD89ljHdPEqQLw9gGQKtxRAHVdnALUjUkCY8K/YGzEyQDYEgwkGAFVAhaTeLm5mHEAdr+ovUGtUQOVo9swppCJA/tw7bTgnLEAG5uPE/UIiQL77xUK10lZAlNKGY8Q24z/yBBdaO/lLQM9Iqov2VVBAVtTtvLacTkApiQWWbkZYQI1OGdObik9AO93UDU6USkAiVitAJ5QuQPukSNCKmUFA6NXtKq1bWEChruS/09VQQOS5CZlAXEFAZPtm3Rj4UkCoAdmLNrBHQNFYwM2ID0FAJNo4UeizQEDSj06UcydBQIbNVr1ba1ZA8oLoBP9KR0A+keyXywo9QEmdqjJlnlJA9zmdMcWCUkBGH3OsMYI6QAuJlxUs7FdAaPk9wMC29D9Ey1o4vW5XQN9z0YsNdkVAJuJ33NVBMUCV18pQkII9QM56YZ/OmVJAhbJYNCwgMUDj8j9hgQYPQLbl1dhiNlRAyEnOgaagPUDBUnokxVVYQFFWX37D6kBAkbfbluJaS0D4H7RzgvE4QGI958oTNBlAPM2Hqg6o/D9pA7xIIBQ6QKDKgyODDfc/PvlK5+2UOUB4y3yLX4xKQKnnNETswlVApgTJMdYAWEAGr+YC+94/QCsYIdD4tTJARnMwbEWkMkCVYtIbkdcvQI4ex8pR9VFAUHewCz16SEDUraIlGDlFQNq2b722e1RAW6r+L54kWEAkW2eNjxMGQIOvi4JPAUlAEG54b+L+VkC8MIqxiAlDQF4SsnIPjUVAEdmL4JGhOkB2ZmKaFAJLQKQpvz8YqFFAQ8cJI5TXTEDx+jOP4ExIQFdfVzZ+n1VA4UAIeiTeTEAPvGA5IQ5BQBlpwWhjcVVAVoHIFCC8RkBrazSnFwc0QAgKk5bNN0BAZWBREOBYV0D8+tue34lTQPY4IcHCsTlAxNl24z7QU0DikPs6OnJJQHD0xK6OeEVA5aG1rs4/UUBjNBn6I/9OQMoeDitPxFBA9NxJSwsHJUCxdwXYRcRRQB0XNTSVFUdAoksmlvacU0BChaj9k41RQH/hPGrPVERAo7MBJBSKPEArJZUf60Q4QKmz22xLeE9AXFZAApavVUBKjKp8dv5VQO7jz7KWwgpAQQZZQntIS0CV/r4beFRQQN6i7cmHVVFAotJbM0jmKUCXb6ErWXQDQIPqV599HVRAnyUbdIWKUkAdgi4ELWspQHCQ1QKxaEJAcJ/H3FtfQUD8nEH3DctOQD8RqWal9VBADd042aNYRUAlFCzJnxlGQAB581gRU1VARwMogp98SEDx1fac3RxYQBr7a8D4cVFABzmv3RbpVkDvyLk35NZPQIj0fNLR5hhAkIPefmb+QUBHQX5XzyJSQHQcra+ICVBAaU7Li42qSEDeagat7QhGQENNEpsAAVhAhw92CoxDRUDe7DUYqQxLQMogTmwZFzdA5A4jP4SuK0CkItQ/CMlSQC6er7+ZIwFAJaZ92BAmG0AXy5JZ+/dRQCDZZKnw9UFA7duxqXlxUED4p8wuqjBTQIbzGYLHcT1AlaVp8eWsVEDbKbip7VtSQPu+fRz4UFNAgpHC9X+ZTED7dSr7TtM0QE12Xq0qZjdAgeAvdDZIQ0A5qSV+NPQ1QI6pA8YjwhVAwCOVlWF/TkBsj3f/KvpPQPaxfmaig0lAXsVREPUGFUCl80nCFGBAQMHaXhKJR1NAiNO4dONEM0B5niolD60/QIqCS+3wT1ZAcrXyh3LSUUD9jm4tOCE7QPCpt1npX1dAYpchnplWCkBz3DLq6jNDQEikAwN5MlFAmliwniUICEBcQKj4RQkbQDcypyldmlRAAOAOoTidK0A1OPsDRvdRQHSetYIoRVhA/3AqEfY2UkDdam4q4nVFQPqWJRdAZEtAviUUHkLUUkAUDPFxAm89QJM/7L44mEhAGIX3y7gVS0CaCKS+9okjQEDtB0CmxFVArWk8q3tNWECAlFtJuz5DQPmQ9YCOOFRAfSChJFF1UEBfmWg/NqpPQFz9rhm0UVRAQFD1wTOLVkBQEUI7m+EaQAYpvPJK/SZADkIuVo3IT0BggDnEeSA5QAew7gLRREBAI3J3O5SRCUASfvZt7KRVQMhaSWzv5lBAL0SLP7cuGECeVLuOY25DQKLSgwpsWFdA1in2SD5lR0Bwl0BBV0RAQCxtNz/x5UdAaj5qVVidU0BAJ/GgKAZRQHpu0+l/iklAIFGtN3+QQEBY9v4nPGNMQA7IkSCxZPs/pMpWL3ptPUATRP6lMlhXQBq7VJBPl1hA3+Elpwo3VkC9eApe5hcuQKMKUqeQKlVAuIbVxfc/M0Cmw8oMESdFQCv3Co9ABlRARvM0EEcuGEC+fJpMkK5NQHZ0avDZGUpAmCrqtuDGWECa9er1EcwwQAtpdq8W/kRAjDQaf04dT0DxcAmwi5xVQLvv9Ub/OFVAyRfORa5pN0CDUh9TxkxAQC9+XsDkfURAVHJq+Vu7VkBBwdevmyxSQGrjsOyAT0JAyrhgBOopKkCysEQWeypQQLgzb0lRaldAYIqLNRgVPECTl4QJXNkyQEEGgDxkBy5AlnEWeCOBWED45c9BrJ87QCbk6DFGn1RADbvG6M4UV0DHwQBm5wNAQB77B1uIqTtAa/dh8UnsKUAqeFyDgjBJQKHny0XsNDNA6XBfcKBdLUDNm64pUWIAQPzO4g6qbVRA3RFlPtWySkCwNKVT/htNQE+6zx5s4R5AFIWnxsz45D96zWDZI8UXQGxiMY4jUkZAY/Ntt6LmOUDlL/IXT3UhQPlUbMLOX0tAQ+E8lEXBN0ALcELeB8YpQL0YpWbjfkhAFvrnSgG3PEDswWem31UsQNNvOjkc+lBAPGFRYOFF6z+z0VXb0xpYQJlmnVexk1hAHAk5hJHiJED/JeUwDYdDQAox8xVsiU1AlSmRxzR1P0BQ/WUCTtEZQKe8UgzJ5VhAgoHBLBQALEB/FeWmK1VFQD1wnRU38ElAumagyDP4WECfP74q+yhXQBesfyaccD1A0ZUtns+mMkCUprs+8r86QBBjD3BUilVAS0bguRvaV0BLb8fdsgo0QOY1yKMpWRhAxYuREv9wN0BxDlpeITFCQA9sO/TiHzdAtlS/eNaZAEBnPA5F1ktTQCBsvCEqW1FAZmQW3EpAUUD/3/6G7tYGQIV7yBZK1FFAgd4W8PHrREBhdOCt+1VSQAQcNsrhqlZAL++N/8PuTkDHVI6XelRLQJfdTCKmVlBA0FoO4WQFR0AreKMgYbNNQIo1hn+xEwFAAt7BsAaQUUASgDDQvgtHQLFF2x1QBkJA6JsQ5cMZUUANtEdEvwlRQOZQdnYTTiBADqeH5P8KVUCMyH2AyaRWQD52XNkrbU9AJuYjhq8vKED2kXOdmYtPQE45w7pU41RA2NsZR8gcHEDo0jeQZUJWQMiTV8BpJkBAWp9gbhiGMkAqCxrNLzlVQNCP5Ibfm0JAbXDB6DglVkA16A5gBytVQG7rzunl0VRAaWcLZunIUkANm5yITqhTQCq+c4QTflFA2CyfsNp6VkC/6bE2WJdSQCgLgbotS1RAdlrEq0ZVJEBd5Z0mH9k9QI0fyOTJCEZADizUd/msQUCuxipDDidTQOqYAPvK9z1AhNr8QMuFHkDwIi6YQ0IiQKP7hcgatzJAlMRVSPL/V0BkUZT92CdMQJsttEGBqEpA9Y72pWFwVUA7nA5mS6xXQFTo+/oRfUhANP/pxUIMQECIM+SXop0JQMScIo4o5zNA8KdhWz5mO0Dl4JwvSjRQQAtebZzON1RAWDOFT0azQ0DbsTuoet9EQGz4u0BlhU9AbPJEBNONUkAOpFem14ASQC69onuA4gpA+BYdLyU9V0BqXa7DbDYvQEiE0tr5REBAYKbXboOCI0CEWPCzywwPQFG+VvrwVkFA7UKHiuzoNECmTzxaxin/PzBdqSEykStAP+liHzswRUAbSr6d9m4VQJoUCjybykhAjCPZBMqOUUDrhU5Ou65OQHXyNdSqUApA6oB88SatN0BudS58bclJQDpxwi/CgjFAYS58HkdwP0BjaK3qnvJVQO7JdpMga1JANHJ37fTiOEASH1r4txxVQGxo1fHzfiBA+OH18dRMNEDNWU7PHaNDQBCfdlM3oFJAIngMVkDRWEDXv6aH/XhPQDa1+7WZ+09ARRhe9awKUEDx/45lOfQ4QEvctGkJBklANKhpdi1U7D/1WuYvAGYKQD/J1ff9j1BA88kr+TuoUkClILugUSlKQFL6Rtnn7y5AD01MWdMSWEC6in7AVBhXQHHi8b68TEhAfee6UeLvU0B7Grx74tdVQAuB4Ue2mFBAx87jvilJU0DXAHtkbStUQPTYeLhDqz1A1g1u2Wp2SEBDI+id4j5NQBF7SbzbvUBAKjhgfrIcUECN0lKT++xCQHTtmBhNv1BA1YISDsfpUUDjiZDbcEw1QLGLsquRqAZATYiYNIP7QEDhxeTashAcQFr8IjOo1BpAbH2YF4eIPEAfCyBIFnpXQGa7F0o5UktANTX1oIiVU0DIDkaCVrxRQB4VhoR4MU5AXe2qVbW1VUANUmEHZ3tTQG4VL7EFoStAvioEzWFUSED4SVEmvAMDQGl0QKfbFE1AZAIOtbYURUDWl0sNEL9UQHyoFA4UtB9AO4DPMq28VkDGF/y27iYIQPhmN9cEpzlAwILqPG/oVkBZ7v7hVeNIQAx/8VKdUUxANp8b2gCxQUB5Of2rlzZBQGZUqQKg7lBA9tEvUXCeUUCmIAQWqqkkQEX0d1fgyUlAwVqSLs6TVECYNLtnCJBXQP3MPLR+NTpAap3vdxxKRkBxyqTW2hBYQNjJXvUFmyJAM5sr3InqRkAyFR0lT4pXQI5uNDIUBlBA0Y/Z6wBNVkALSpFKtmBXQLx/q6qoHE5AJz2D0WZzQkDHw67qxK5PQMTZsRky5uk/eOkVAebaTEDM7SeF1GlYQA0NrFtJLgZAvj5xOMu0O0Cz42PonmZCQLS4cdBol1VAjE65C568CUB6b8QTfAxRQGww5NW1tSxAAf6FUrXJNkD7eof2P45VQINdAb21vU9AMDtx1lzhU0CXTaxeKC5TQMlWk7Sr+VBAlhAthJATUECpLinMxHNSQHhoW3mjJ1RAAwu6IxRnQkBHvbiqrEhYQDJk6MkvwkdADkDTpdRgHkCbd9vC82xBQD0neAuN+kxA6r5jiHumQEDCa3DrMYFKQKzU9mR5CE1AlIyW5QCUREB14fvXIjYyQGCk/LOGtBFAqxfspD4HREB+/S3Wr3VXQIuqxEnIeVJAuqDhfMhrOUDBFb5MZP9WQBJBV5/N61dA7BfqYG1HU0Arnafby+RJQOprwv2RQCBAsRhP2fH3DkDGwZsGGShTQK/T3/+FOElAyPShAgrYJkBewlcX12dLQA+wEP9BFzZArW346y6gO0D65USjQT5BQF+H1cyfzVNADDmDAY2AU0BLq8Neqy5CQFp4MUZqqVNAW9qHfrqXUEATYZaMTlxAQBXQSK07a0NArCTonGLJR0A3RUaLOr9QQEL9DC9aKy1Aycx9NSNGQUAeorDm2iRUQACQAUvZGzlAzqn+uUOsVEBwbN50SgVQQBvtbh04tSRA5/mlOmR2M0A0RBhJzMErQL+QDrRKoVRAiYRHCwh3MUDmANGdBk5NQGM+I6hadFFAHYwG2QRVTECE1wyKWLYxQMH6tj9mGzpAUSji6wWMUkA8ixv0xZdLQO33zYvQyVNAwiuZ2cNqUkAwxrcDMlhRQGIrCKcVqktAY4PwcviBUUDlB37PcH8iQKt/+0NioFRAfIShRY71TEB8zzHkIzEpQDygm6VyuSlAMnO5Dxg3Q0AyqpInw/RQQN6QtJ8DL/4/Wuo4zhR3QUC9+hTV/F1RQP5kN3xzX0JASNEro+F3HUCi+u4XVBhLQB9p8hZByiJAFq+37zmHPEAb6KG3Lj87QBeOie3GJTtA5fT/v3OQUECIkQt6nEZCQHAG6r8RnVRAPWwoRulwNUAyP+gwZdRJQHwBN/oEVEhACO/kqpcCVkBRBoOIh7VXQLCOmon3dEJAfNqFqk5XUkD3D9YMcCVWQJgHbOVoUCFAVJcSZIF5NkAZK+Vc9jxUQMr2xTfsjiNAYtPxoSKWIkD2hHKn9tpVQLbVaZQAeEdAHwYW6VW6UkB6qr3AXWBHQBTgbBqbyztAlBjJ0euQUECp9N1SIwROQPtNEVktMUBA9/wZ0pVBVkBUPPbpXftEQMt5lsl7O05AW+iOK11dUkBl4FdEJLRFQCj9KS/MREpAeLKip6PWWECeNnGhLlNRQOf0itAGXiRAx82gfgNNVkDFr098ECpSQK48Qt/NdEdA3/X0SsGZV0Bq61OK5CA+QIFrYZgp0VBA+JUmsnJwVUBQxuumLCVUQPHvxlLEyjNAoMcaao23I0BoR3iLi4JPQPYj9VG84VBART+XJKNoU0BnjgyOFcpQQB95EBPb0lFA6qDv/uN3MECDToTpf7BOQH4FwYxWl0dAmxUAPdnzTEDvfTTx6v1WQKz34CpiZVNA8mTE13RsQUCf0fg+m3VXQEr4jeSIl1ZATwtjfrCuVEBkTQRGJFBUQCKqo0G5wVhAejdQJJ50P0D2dAjA0g0nQJrd0AFbKlVAFnk+g0ZBIUBo8FzpRIs9QOv42Gb8IEtAyfOgDYHsOkCBGkleqZQvQE6Y3A/gSFFAco+5UKQaTkCQft3BVqw5QMaPB/VtakxAa3xtYfoJSkCMIrsAPloYQHNCYX+I2UNABEjZ3pjcTUASotu9S8tLQA499ctePDpAUCbb7OOKAUDs3KbdFcdYQAKozwTANDFA0EUrs3zHRUBujcEyd98dQJytBFavO+E/Z94Nc72rSkCEKZDVORc3QAiZUZPCJiZAvchJfYJ4U0C4yd5rCHlUQN5LuZOC3DlAQ/kvLEJ9VUAhyZHMhSk9QFIhtgs6GlZAz0Qe9OYYV0B8Y4s/aJFWQC2oldpckStAp+tFWaIAU0AJ3qfkMGc4QKbvEiWYylNA1hFIJ6APHEAI53kD5sRGQI4O74TGTjdAtomNaHJHSUDhcXUC7Kk7QOlJKdXJuVBABNe0q8d4QEAKNdkOTx5RQLklimb8eFJALuERQ8rpS0DqjiluNJVJQK6m4P0fv1BAT5pp3nhHPUBGneGbCpJAQA5FTWjID1FAqq3ihkRdVUAx0/ODStVVQDkF+qQXeUtAmfoeUmB8WEBJe1aeJFVTQIwBi9ia5j1AUyVoeD31UUBWnUr5MB4vQBB8V46sY0dAdOd99MySUEDPxupsN9pUQIcgCXHuHiZAlrecU6UBPkB0Jw1J6VpFQJ53e/x2DzdAKO5pFMVFFUB3fZIGg85YQGaNXkHfwxdAGmAxmATmKECgt5qYYb8ZQB4+j9MiVAVAp10ckl31VEDaMY5G5F1VQMYUDItWSldAmTLpJ823UUAmjq+ZsaQsQHSCrNnjFRNA0GfH78mgV0DUoTQMu64nQJgBmOZ4GzBA0sTuURHsRECiyUcWVChJQKoFw97ci1FA0+1fvGLYOkATrgQlWOhNQJeQ6Se1w05AwNEGSZBVWEC8XiNewD47QNhMfX6PjDdAc+ydNxEeV0A0mLaUAXFOQKNVca+srVhAKfgVZaISTUBHw024jm0wQKoiB263C05APRVj2JgZTUDMyufEnqYvQMxoB1OdqipAXldpXzYVVUAz9xSzpIBVQDcC6cWfVThAnAhL3tamSUA1GLD7dLIqQGuUaN9UTVFAbJFb8EFaWEDqa3yukwU5QIv/IcJ+q05Au6uYN0xJNkAleXiDz9JDQE8jH+NxjkxAIVgvXoqBSEC31RGObmM7QAf44XaDWVRAcMp3CSzCQEAbd4pW/vpKQEOfQW3iPkxAPnQ1VSd7NEBo3PDVu6s/QGk256Ga91NAXm4PHXCqNkB1I0TEXY0/QAyxSAYuHkNAiEHZMtpUKkCM7wr66rFUQOUaC4jQ3VZAm7DnaffWWEAgXUVSsaNMQLls+LQCdj1AqNsaRkyuUkCyXJIY0T9EQPkrRC8yZklAD054MjCdTUALrr4b3TtQQCPK2yCLxVFAt467hGvuQ0B17xdsRXU+QBqySYHnN1RAPu3C6Fm08D8OI34jGIxHQFt87seRwSpA7fQU/rCqVEBgI9Lx/wYzQAgqesqQElRA07uZH/fKHUBAPCWUMOtDQF4dq2lYylZAJ8m6/DnZF0CsxXpyC/0yQAzruiEGI1RAjzJXDnp6RUDt5ECeaFdEQI6I91poiFNAi6pwDPLmL0AJd/Jq+IhJQIdfMJBfr0RAI3Wv1UYWQkDiIueNhGUXQAESGy/2HxRApbuEA2ooSEBCvlK8ukVTQD6GsqJlwwxAKhkN5kLtQ0APL7JpwatQQANcOVCIyjFAsuPXohjKUUBtc/OYTNIgQE3vKGqZhD1AK1F0JDcaB0AADCozOgpYQLffwd4x501AmIBrFhlVVkC4GemXXPVGQEHjEWesjE9AxMBbwPc8UkA8PDrIZS0zQGoPz8czICBA8Gfz1NfgSUDcLayjNStUQK2ShadJClJATYOrHLWPSkDkaC0x0jomQAc8hoWt6UBADWQi68k0VkCLt5J2t+BOQDzj7R8iCxtAjxTURFSdIEAw260TgRRQQBQLgRmkQFJAUs9ScJuXNkBOZQAtgKg9QI4X7NW65TlAb8s/AbFhS0A1IwI8trlQQOyxqPxduzRA8rBScazfJEDfhyPz92UpQGglTrhSFUZAbrYCVExoVkBomziH7aT9P4DkvCBZTjxAI0dVgdzDVkA6WHKD+g9OQACtOGZcGjlAG/o7KAK+PUCPHYrN2DFUQOSnBHk5eVFAJkPzZdbwV0B/oAolcNo3QKWm/oMgByVAj+ELlIadOUBQ5EJCVs4xQPvJToZXejVAiaVzHGJTKUDHxo6Q3vE4QE9ihjaA6kRA2KlwTvYYOEDG+UMw6BVHQLryqjjzhFJAvolMZpjKFUBme1nAre8qQGJJySW5IEJAN28tX2XiM0DYnC+Ekj5IQKcfSYHu2TBAY3WA7pd1Q0B0ILf3MSFUQFFTue6gATRATEcInfWOT0Bysy5gfPRSQItu1odw/kNAMc3PRt5oQkCAF9szV7xDQMLHlG18j1BAnp6H5EeLOUD23Mgz3npTQETM4f03OBtAxvRB+SxwRUBiur16OK0KQJj29F49iFZAqVP9jTJaU0D78bPqSFY/QMBZnxUvtFVAqTothEdaSUA0H+0wOuI9QDF9J0mD9kxAgg54sBVwUUCN3O4CLdFMQEP3ITR85z5AreXQRYfwVEAjuICnTgpTQBjfqtEld09ALqohYEc7VkB2X7A90zciQE1cPQp70FBA//QreCA7QEAkZhkjUilBQGUOxvTAqjtAfQmm6ya1UUBAsiqh0WDUP3yixQoy2E5AT9hzoV0mR0CVC32+Ez9NQEI/SQIMmkVAc6JUCtzuMED/Qk0uQT9OQFOpL89NsUJANetHqDN3UEDGg5y0d/A4QOoxfpgVFlBA4/ixtwvLRUBPPQFguwxDQGSFhChJElBA00vWEoIROUDfs7P1IfNYQJVTkz2nYU9AFyVSm94dTUB0skig1f1OQHEnewQI1FhATOvQ/i4bVkDcmgC07IBKQMfMpPO7Ay9AII0zwLTJ0j/6GgsAWyUoQALoISa1009A2zF1OGMZVUBTWT25l1VVQDNReFjQulVAzvwYamwQUECYma0autZJQPAdiT7BVkxAY2wDH93NWECSM0nqN7U7QI2I/NPaWUVA2vCqwOcmLkAqh5URCoAsQIH2VY4K30ZAROyQV2ZEDkBi/10UplxAQEhw1frzVSdAMjBJVPPiH0DYN9PZXaBRQP8CtmOFnlhAXCDJQryyH0BaS1v3Rm5YQPjC4LVmKzxAMiqrruy0VEDtfgtxSaVUQGSVBvLknztAk8C3XlKKQUBgvivKQa9OQAaaO4dmc0FA/NGcHmoIUEDgvTnRqIZGQAUlDM9kTktAyg7DzQNlUECI1wF0+c5VQL7iLZQHsVFAdDI1S77kVEDojXJsNzRTQPswOhso50xABujTBOI/UEBG5DDH7ZRRQCMSDJFDzDlAMjPTUa7xNEDMabdaYjwmQBRUzaUQlVdAVw50lcYSRUCl5cJfmfpPQEQO0g8uKFBAiutRrpCFTEBCtiE2BBg4QLMeZ5pm9VVAFS83QMh3PEDXhJLeqjpGQAlrbG2U5TBAxf250chpREBr5h76mzU5QD1SaANOtVRAySM8SALONkAtS0zkAqFAQIYyRa1e/DlA2g5KuCC3QECpeYphWIotQL+UOB9Sl1BAWan7oOFEPUCYiLhBqvFEQAO2iub2rklAQCWREHSIU0C9bpM6FlM/QGBA+kmJ+khAGUI6GinVJkA83BNK5utLQAtNCW6GJk9A8aBvOtdjVUBY+VWStFVBQPhg6E1Lg1dA6uacomMJQUCy8Hl7bnAuQKZOf6dPOlBAeGMpmiBc9j8sznN8pA5AQAiKwd/hZUhAk0yDFgblTECSHQipYk1VQNjED6hSuxBAUQ3Ol9HfT0D0lkYB9UJWQHC+xp5M8UlAC0Q/sLl1I0AEHmy1iyZEQK4oFrOZkhBANzSJkvm/NEC1mUKl2vRHQBJY65FxafA/uTemhyzPR0B5tYJbemZHQOhz0CWZclJA3zYgASmnTEC/SXKRK5I0QPX2v0uoSSJA7oQ/e8EGWEB/UWvbxE5WQDpOqkvZmFNAzRu5zH0gVUAaqL26ch8zQCEwRqYbYEBAVhBZD+5THkA2DqcdsA4kQNh9VaCyQVdAWvJibJNVPkBkeE7dKsk5QFInkv0KLkhAMAxYBr4lJECvNikp9aJQQFFnx+kXFUZALEJv3jemSED5fQdLET1KQIorQQ4QCztAsr5WUq46SkBx0Iv9QqUPQCtQGJCoPE5AJJ47jh/n5z/KciP8Vjw4QKtlJc4qeFRALhTD4y+RKUDdcSeYEGBVQIVQYiWkxlRA3lO/E6NZVEAS35WZq6VAQNZb40rGQlhAvrQR6Zx7UUDIZSh+2yUwQMICmH+CxjtAwy1Ck+1gQ0AGbklA7QkxQEkeRO25CFhADZ0qn82JVECtx6a8uBtJQPJIE79gnlhAAMil/NOnQUCDCn/85hxXQIcc8gL6GDVAt4tkUQV3JkAhSVGHsFtGQFayH8aDS1FANIzCPh4cLUAFFpkcEwcmQEIRLoO/gTFAzikxKjlNUkAavJrK5WBAQFbqv55CHThAKUcZs/eNTEA4JlD+ymQzQBY+B9NsnjxAFeT3JhwkQEA7JyX0sotOQBPcSZ9E6FdA0neOQlAjUUBk3CcvXWlWQLw9qLKCNVBA6P7mmReQSEBLz7EOAihCQCwZv/V8Tk9A5PP1aw4yQUDR6KcogkxMQFOEJO+9ZTdAyhG7hW2lVUD4OHhaJ2IhQGATsPAnPk5AHlL+8zJUHUCdjk0LRBUIQBxM5g9TUzJAgKXHmRz8VEAFwcAvGdxLQJ1P+wNEElZAblhPgF19VkDLkWZbvudVQAt4gEbCVkNAtMDnvvo6QEClTczS6itYQBJcRTLUH1ZA20vfIOjGVECJfvVRrCMpQMhpu0KcdjhASoch4RJEU0DwXLgjGRRBQNZRd5jkvkxAjS8xMVkxVECLLr/kfWIXQG7gTgN9ZEpAUrq0foVxOEDuTGz/Oi9TQEvOeNPf7zBA9/C/+wLrQUC+sLqr/MFYQFf1Bl/d6lBAAG2GdnadVEAS57E489QlQHXuFfZMgVZA8CL9sj0MQEA4hMlTATxAQKpCp6ai2FhACL4UUiJZSkAQf6dRvipTQAuV5QHoKz9AeMPrZ6zEQkBUU42tL3Y3QMRGMncW/j5AZGgSOBGLVEBDIUdfnIZHQHRlkQpym1VA/aRWwB2BBkDGGRbDKZkkQIJaN8+qrE5AifKOyummVkALyZUjWD9JQDuneOUDo1JAhd6LtQKBUEAJz8XlVzhGQD8ZX0xPBDZAt8i9L/H4QkCQdy+0XdxSQHpvKYzV2FRAR/WCJPxbNEAS/4UfeUJSQGwyIRheXlBA9hYAoAv0KUCQ5RNB50XXP10QXAFKYz1Ap2vt/ecEUUBuV4vyPQkiQO6/DxwHiExA4FJtbXT9PEC143dtTNI2QObVZw4hQhVAYumfQ0xFK0DLKiKjUYJAQPJXaE6SWDpAFNV67et/UkDkhORGSRlTQJsg5vZ/61hA5Kn08vpz6z9DfbAZ0DNIQDamF0k9RVdAFVWW/56jIkCxPq3hg9dFQAsbnFKwy1FATLWXzKE0VkDO85Iv9/M/QGB9+j75PlBA6UzoXyEHVUCi851J83BUQETnAjDONgVAjOOciA+ZWEB5kQdk/tFOQPX8DFIR4kxAKaSUVIXlWECyEFrjTZ1MQGWxegaOKlFAOUwQe51wVkArI4+ZcOpGQKBkwjn4S1hA1ZUDER1YQ0DoYq5tCMRSQJ5deoNiE01AehupkBQ6OEAlrpB5h5lPQJmMIqIWREpAWrkaCJfpBkDDFVurt4lQQPxrV50XjFJAgnwTwO7nOUCZPEQof/g7QCAOwcZo5VhAfuU5rpP9LEDYz6emuXBTQKtHpHa6+kJATMyOSPubVUBIQ8kfpoFQQOKrNxp4KwNANUd6hps7UUB4aVJf3AI6QDOljRs/b1NA4FwZuJHwxD91BH0XTpBEQOcJypRw4z5A5d+FQhxHSEAf1qYUfThSQL1cWycI4FhA+vr4z9v1NkABVZIcfSdRQJXyRQ+YEkxArum5AejyQkCa8Qr+jIFXQLfZOrwkaTNA09Tb1Rw8QEDObYnbDUtEQDEPBnZ68VRAa/mXXOSUPkBkhrfJqII8QN5DTBnw6DpApdsut9dcMkDIsn9upqvsP/IXa0fYsi5A75wwIQzZSEBI2BWbv2dEQCQ/XAtW6UxA4Pq69o4pRUDkhjEIGSpYQBckPQTxKktAVHz3Tkc8VUCrbud951dGQDH+Rq5bp0tAxafSUeUzVUD2qeUBoVBTQHrrOF0c3UlAH6xttxxAMkDKIW0J+GdHQJ3OMC50c1VARcuunhgYVEA5nfAljXVBQHYRKbU8LiFAQ4Lp536aN0A2zb4IR10lQNI92V8BYVdAY9AXdA0pR0AL8rlEbCw9QFsJgDTUqSlAQDhFCT2LQUD4d1rQROVIQD96n/wKQzlAAmMjtUX/WECCTILuBWQSQO4+s0hGI0JAS2cZsgriU0APTnsUsZkyQNqPazSb31dAw47NZsM+RED3Uo34iQ9IQNxrOOMLbFRA7oUkURw2UEAldq4UOoVKQIhPKZSOGRNAKGxRnv17UkD5new+N29UQNha9yDPNTtANcQx+WkwVEAYgkcXjUFGQLcMqp9lHDVAYHC9heptU0BxFCIhLI4tQJMFhqhBsk1AQFM47gUeVkCeUgXs7gDwP1087UHUAzVAmBhfGkbkFkD6OWiy46UQQHj5pCLWpVNAruPvCrQqWEBnZvdI0nNQQKNELGkxU1dARsylYqqHRECmK9MnKihQQNJEmPeCcj9AV6Yuwq+DJEBkLD0eCIdVQHZTpPFBRj9ACl/CH8CX9j+Ptx83netKQMKVlYQtbjhAc8+W1YNaKEB440c96qM8QLmr9KHqb1VAVP1rzvEPMUDI0YkYx6UvQLu/CCT+f0tAslG1EobuRkBsDMYRYhFUQHTM1fNKRjxAnH9crGaECEC1mzi7WvJAQJsLUiboMkRAtijng96iQkCwhgCgSpw5QM4Dd+jdkkRAZCVW2H2YTUD+ko+wS2JYQGuC4kloHFVA08/RUTXBTUA1DGyed8hSQN21MjQChEVAHyPK0rhFVUCtl6TjcoE8QGjGMUf6K1RAzcWCGo5IKEDaWHD1gQhFQOD4xe8NiExA5LPlLPiOT0DiG3i2q3RUQHIW2+OVei1AODYjUqBeRkDPgvYGR/FFQJsiEVGgm1dA8xX1Ss9MVEBL3aOGoUs5QBjba0MGGUpAL6X94PjUWECVot37P0hKQNwlzG3Oe/A/d2prFH0rUEAxQVk7tRtLQPa3NJ6d3zRAGZd9N7pWT0BUQQ2qAQNRQCCqA1cUiyJAsEMzy6PqTEBh4R7Dtl04QF37Oe3H/ldAdHt21V7iUUDg1rtz2wgZQHPKVMCs7khA0AYkAKxgUUBdDs/d+dhMQNz4bwxfZTNAjW4ToIr3U0BE655Q/9JEQD6EXh7BkEZA1IQkvE+LUEAInSepM38WQGsiwBjX2U9AgtG7vBBnUkAXB9yAlmBNQAnNfBILbUlAz9IhmOyiBECVtHcvlHtXQCCh2m6u8ChAYkYjP3LdQkAsnE1sJmZSQLm6FmoNlk9AvuXPK7lIIUBvWP5NIslMQF3SHN1u3EBAEJl5Vc3RSkB3Q153Zp0yQAtWiEsLL1dAJ5x8C2aTO0ANKVSxkZgmQLjt57eXEFZAGF/PcF1GSkDe4ztKokY/QFsxKtZ2c1BAThX8X+BDT0CL+tyQ0JhLQBbrsqoa/ThAX4ycXLK+PEC4B7BgLilWQHbhR+aEaUFAXPg6f3UlUEBYr551OZpMQKm7IYfvwktA0CkhQ72jVkDCMDcWnbJSQJMfCdbWHwhAnopPwl8BFkCWCZ0bnxhBQO1l49MyTQZAnbFfd4xLS0D0Znk6OWlUQFm5OKzHnVFArvMZjTThIkAmkwTEC0pFQDBV7LtNi0xA/qNZBxGnUkBBLETMISJQQMGvC3uQpU1AstlLSlmcREAHTgXIQl1RQE/BfaE9zUVAKm6K4C27P0Dh0bps5MMkQNa319idUhVABi4UKRF8/z8gI1f3e9IrQPwmaEMSmVZAFdX9hE4mQkDAhoFpsiVCQJxRRWH6JFdAXhIlzKc1RUCh3kXKJcZOQCpRpWPXAEBAPUaWiIOZWEBYS5IC0rXSP4x65NkwuzpAZwYDj9WESEBjl1EGl5VHQAo1/QsyZjJAvgI9vg7lREDoyoRAIYRSQBX8o8Vi8FFA4/DD0cBVTEBQ1oR/8RVPQIr/5IYhE1FAfTWR3yUlVEAC/8+2SNE0QIyqD3AqAlVAEFMu8LZ08T96pEuBr14uQO6UP9t8YxtAFVQgQoR1OkB79y1mvbBWQG0EkjbxfzxA4TckMpXHEEDiH/TA268hQAxZ7pcSc1RAffYEMVURN0AyUGsKcOAmQHE5PCNI2TxAqiXs1ZCbVEBDUsA6qcBVQOUPWZeBBVZAp+mSrD23U0CmlQ6/Oh1XQHJu9Phxn0pAiJjI8IdSUkDdwSWsdotLQFeIqOzeUVZATW9a0XAIR0A/Dy6WpNFPQFpf/Jz14zpAsEzx+cm1WEAHc8nmdt5RQPQskSJJR1VAzroZEuuUQECKZ7ioBBREQDiNuE+s2v4/jwqh0kZAU0D0JhygNxE3QK2aJ39r7k1ALetvdZH5P0C3sekb2N9TQNDW2V6zzyRAySWArNwtVUBuqrWlv3BWQLXs77SgmUNAA3qNw76wTkDpMO3tt4Y4QFyHvPQ2oFRAAU/iNerHOUDw6cllHDUoQOJ8sMr+aFFAPH7E/DpSRUA70nkqtyowQGfllewVllFAEB2KtCAGO0BFSKFUqT09QBRt4zIRDDhAi+3Rf1xLFUC5+Fd/2cNDQG8MBzp4o0tAGkfUpmMBPkAVlLVyrqceQP1dJuYalERAyszR+uIcN0DKOcl2VA9LQDM3O6R6WFhAmRR58HgWQ0AaKa4AyCxDQEPf1CSBbjxA7O0RO0bbSUAh3TeApiRCQFSWD/gEG0lAA3HHukJRV0Aa+85jrYwkQBYQuDg0lxpAcB1gxFqrUECxdDQDyLxUQB3QY4oeI0pA7bj9uKKHSkBujtq8OA5YQJofa/GnljVAywhGRi83NUCcY3+kcYpEQJlHpRSbfEFAxqfvXtptVECigh0sKsw8QFyk5z+CHVJArVURO4GWTkC3yJP5BD1AQGpLPGz5DlBAkeLZsGUhT0BRfTmw1XU/QH1R13uN8FFAFj/6caW4HEA4a1yeNpVRQNODkbTPUFFAF7KI51z2REBdazfO9U5NQLdAS/+sBFJAbZ7s6nn6UEDVCF5Vl2QNQKFFWwT90UdAVNYQRmMVREByvg5bFjdBQPvMs8J6q0BAtteM/QYWUkCgthYcaixVQJYfacltiUtA0E1aFzbOS0Bp5RRbhi1XQAbe6a9PbUJAVKP2wOgASUByAdbBni9AQI4XdAfIITtAwPxarsRFLUA6IqVb6rlOQJ/qEtBZozZAoMTaMMfYT0ATrjdlOM5QQNUKA1mUQ1BAhRV+sbHLSED1mL3cNYEhQGExfH4eTk5AiJtJDClQH0B6YkiaEPtJQD1n04oE2FFAuFIYF/BGUkDlaHTPv6YWQKhvZZ/qcUxAjF4cANhTTkCQhK8W8aRVQOR2XvKEaEdAnOfjIX7LREBhWFDRGLBHQKDYvSKaqVNAVICLJoEvTkAqmgbLmopRQEWHrWzsckxAjkQip8F5HkA4yme0xDc1QJdPTaX/CzlAPT27D0h/U0DSrCp5R49KQEVVxHLnrTJAYpB+FlM/+D/6dSZ6EKtBQAOt0+sMNlRAFeS1Bdu4S0DCsUFLmpFLQN1l5aLy51FAB8JhUT57Q0CRHDtZwmdSQAlamzN8f1RAFvg9Hsw2VEC6sug9su38Pwo+VVeUCj9AqaTEc22sU0BVDiNpT8oeQJekdmKnkwRA27S2TLufR0Ak9KT8WSVUQPNKU03R9zZAstyfIlJwREBWupgwRB4ZQOMZVFdzkVFAES025EvNR0Cg1VgJ5ZE8QAigYL+OdlZAlky4eX9JVECbYnufdT88QGrASQy8W0pA1zq08wqRIkCI80KxpTlVQLuvTiJxUlZASmKdF/j0N0ChwWWrbHg9QCxCLVTJ6lNAne8Lk0vEVEBjn5OYAixQQEQajDsMI1FAhGAW0Pij9T874x5Q+NNSQJJEXfe68VJAu+xaqXsCTUA8Qd1KIu/mPzHTyu0OaU1AblGVbzmhS0BXoezj6+ssQKAY0lkWp1ZAtPEVS0n9N0DbdgTezZtPQC3aIwFsc1ZA+KnGHOeRSUAb+cSFKJFAQCoL6iaCKD1AgXb0ufeDVUA6Rheo87JXQF7cBV46/UVApsrhkP7CIUAMKYKROPdDQEmJRBsrUktAXP7447g2PEDUPYsGJa9EQHDXhBdDySJAPNGTFBR2TkDw33oTO+5SQPbqssnma0NA95l3xSRxQ0B5g7SsDCxXQF93eT+p80dAGZxUOZrdRED/FfqUYUxUQFHdVvh8R1RA8O9/J1YaL0AENUv2qSRXQIZuZZyBFlBAvwy3xBWMU0B6xWcwP3ZTQCGKKI8QBidATXFn8nKsDUCIBoC3DRNIQLsI8U16p1NAAq8SC1gCO0CgB+e64p5BQJxmi1/VOEtA5L48LIpeBUA/yFZZubpBQO7hnlvDhlhALvl1pFUlU0BdHHYVnjIqQDZowqaw70JA2hzuedAbTUA4mqVoNJkSQBLK1OGnWEpAYE0q4rVaVUAyFuyRgYdXQPISIv2F91hAyL6cTC7LVkBEFRzk5KlXQF/M97VgRzlA5B4QrzbaUEAFQAYEC6NTQIwGOZZ+tk1AASM4MBAXVkDFHUM+NFA7QKh3RmLK7SZAbE81I39WR0AXw9vinsw4QOhfxCvrzTJAMDtENwwKQkCsot/vTtBNQMisX+yOV05AoD4BYHTmTEAqhCrINmpVQKcxZKW8SwVAoPEONrLeOEC00cJVZ947QPHpRwVfPVBAj9wDWXqZTUBY0ZmWLEZQQPTiGM5FLFhAQ9b6wPR6S0DFC+FXjSNMQMqZaLmmijxAYRSlxz0BT0AZ4VnaWLZPQNlL3aoT+EJAeoVZO2+GRUCPgmJGAFBVQD03PzckPUFA4v1osgg/R0BMoNNCF6lSQA5JmNJ7CFBAIHJoWDcQSUDQD1cAUuQSQGxb6QScdy5ADu+28fi3SEBuDdy6EKEpQL2GOcl2mlBAghXmLMThSEBmUlkwrU07QNSAs0cdqUxA0N3kK/7rUEC8ZfTl2/5NQFhYRU7hTVZAjuzmnDx9SkDQM0CPCy09QPi3aPODxDpAuvhCd3dzVUAY20Lu7OVMQMiCYQRUUFVAS5/UkybnSEDpcL+1phIYQM6X7BxYWy1Awll5m54NUUC32xql+fozQPlDrTjKbDpAoyi1yaH6TED8Txox35VYQExc7kMQ5lhAzqHJPDfDQUAJI5ywrb1OQBBEZXBiXlJAveAnzKnaTkAIdqvIM/dQQEyPsYQQlFZAdUpzGYYnUEDnPM8dJNxXQJYuXjZOwTRAPrelnXFDREA2NFMOoHYpQJbzATUQllFAbzvVZoYyAEClqynTWVlSQIDFdPyirVdAjzYJ8fuAV0AuZJG0w3lMQJEhxSGpN01AxCcv/qsOVEAINgsrYDAyQJKQaCy9jUBAbycoRg/ZUkB+kKzA2zdYQLpVOk+yEDVAWnUaV3yKRkB81tneIHZOQJ0YUBmp7FRA6lPK/jlEQkBP+pnwcghNQJEktTkPxlNAiPRNRfLXUEDTqaULUrdTQESgs5T+LBhAEdwRFYfdO0CvOIUlNqRYQGZtaA4pe0tAeUAlT6EpUkBwEtoWJ5VDQL8HiU2uulJA/397+b5KRUDUD2aYiLo9QDeaQNhLZyFAa7OEIgDVTEARaHmKcgFRQN36q8RIMFJA5zckOgkJSkCy2H9w0WIqQGRHvkN1oDJA/J4fbfggCUAKl+JEwPJUQDU1dH5vz1BAU7ruvbHgVEAXMA9n3iIOQDScMO/YZlRApj6eSExQPECMXVJ5ewNWQB1UUDyivlVA4yvO4cAlTkA0V5bGmNYjQIbRRlbfLRlAH9MoQnV1V0AI3uqu3s9VQIWrF/PN2TlA3i+DLGgRF0BZS+tgaCM8QLZK3uKxUUBALbk5f7LsS0BLZEy/wFxLQKxslmDfRlBALpezDKZSJkBfS0ul+hc1QDJf8f9lylZAfZAxRaxWQ0D4ubLo+GRIQHqHYD/Zw0hAbHO+sRnXTUC49i78kjVPQKi7Nfpp01RA+lE4dvJGV0AKP8yWtcVQQOTjMIdod0dAPueyAh77SUAeGQ9cLk7zPwhkJm3G4FZAUBDgHpwMUUCyHSscQrhUQFp0Er9KdlJAVL6/kQyJOEBDQrK2K6dDQFFgtsZYUkxAmEiuP6kOLEDLWPbIC64yQPQfdwo3gTJAIwM/eF0JVUDvVHPMipJTQCs6GAr6qUlA/FCI0sILE0CRwQ0Mf1owQBa31Kk11DdAGUXrExvxREClXy2O6S1HQK42d9AUCT1AX13wCbGIQkA6nxuhRGBRQFpQi2qyZ0lAmVR7BV+EV0AA+N3bpMVXQGAXqapiqiBAT7WxaSFyQECC3nAmzlJLQGSyE+NlbOs/M833T1bITkDGye/PHIZJQAjWWcFMFe0/mtFIzxlOR0BxjJoeO4FXQKth17Ke8lFAjPczpoLAQ0A+Jazr2ltDQPWzpt9+4FVArUK/CdYKQEDoSTn6Oa4lQFVKmZjuB0RATo6QPDTKQUAj1CyKTcpNQECiFLzJv70/qdGELktBVUBPWvjZbbVXQOjV/ESZoDZAoZQSGpfmD0D/xbSQkQhUQLUN0VJieD5A5v9anVvsR0BplBVCTQE8QHAvqN2uJOY/PhdRK3e5C0DCt4SWmvpVQHqcpyK4OE5AzioElINiRUCANueSYOlKQCoGxhmKmCZA1HCUcVYBNEDAPs2Nj5NJQA+IgZIhiiJAV3pb1GC0WEBBWy1v1BEsQAHkCrspjlBAd6O78e/qO0BlYPSEFb5YQCFgkWqKj09Ag9uh8VYSR0CMODoSyJZSQOiNTPV3rBZAJHX/7jAbSkCxXJwY/ew4QIDjQjXp40BABrQXLw+bWEDmv9DvdmY3QGq3nlqEylFArWOG38kBOUBbIrmkytFYQE4kQD9fKVRAjtI6SoOrWEBhgiIztWAvQDydkKNXvVVAgSoM1oRDHUCFpaAoLd1IQIoL/K9gvlZANHNQUi7hS0Czy0LeJMw6QI7GKS+BvUhAYqAPmP86VUBxb9ArCvUgQBjASGRzxUlArZymuOOKN0AeZhWTNUc3QNRA4aCKJlZAundMtNunPUBDvpsQ0ulKQMRutNzYnTZAVTpqodQfRUDqXwneG8wfQDCa01IIzEVABU1jRfmjTEAQ4oRPSW4qQEXZrA0Dr01AinXFbyA7V0Bh98Gs8aZHQNMq947si0lAH1aXHFpNUkDxn3hsiIhLQEKEmurU4ENAySUDhJCSUkDkqhpFRvkaQLeBmHseijVAv4DlYhYaUUB+kntY7ZVRQFhaVMZLdkxA4jxlZk8vMEAciOri0R5RQEp7V2ybaj5A+DUD88/5VEDkJp1Yi9dCQB/pEmfvxj9AM2Pvnk8XVEDfnbh9A0NFQI+HhThENVRA5/5qrvjxU0Bfp7fRJXxYQDC0VaUD2UNAp3ZEmKKjDkCGQB+QnlYgQE6KPNS/SlVA+dQK6loSQ0CRtkBxHn08QJJFeGhsMlVAUEz8vz8yJUBS7X2vhs5HQD03VUZgmxJAmyQP3NAZJEB6t84jeJBYQLc/MXmrNghAqZDrXmddU0C86GRgiNwzQPKb6zHHU0dAF8FNC3IZMkCy9OjyyVFYQBT2elbjmlVARCg80xllU0CKX1S4BchAQN2Ucl+pFThAJX24P0HTVECMlFO7TtwQQN58Da0ptUlAKHbloEZGVkDR2Hp+w/tQQFLViboylTJACqVXFEOvUED00Gevb2BLQJ2VDy9yGE9AL5WBZbTSS0C/r9YiQgZHQK7XBF0vQ09ANNbszhDCNEDIUlhuU178P58QOj07K1NA8P0Un0qAIUAixIyTVXw/QOTc/cTzeUpA2b4WdY7vPkAjWLcPPygxQA71vK/JjkxAE2NNyxBvVUAOORIi2/AZQAoaAF5juk1AmwhAM8puUUBEbhAFLIZUQJi7I/r8mzdAvLRbHSjF/j+kFYaAKpo8QIAiEit9BzdAGBUvytoLK0C1ephS+a9RQNegzXB4lk5A7nQh5911TkBJL+ri5XVGQJTtS8mNmFdApnybtmw4VUAwod+6o/YpQNSXZI9nbUNAss91FXONVkDLnddpi7ZVQM+aDCsH71NAHMCOd4wNQ0BOR0GefMBNQKi2FbRTkyRAZnYEz5EbOUDyu0HHgj8aQGIFxLorDE9A1L6ZuFNUUkCC12ErXR1YQF2e4J/qIVJAtdtnjYD2VECS7kLbTC9KQDu2D3cRLFdAADRA2xLMU0BFxwEDM2tEQAYjnvKwaURADKawKaI6V0Dz34fP0oVRQB5zBCDcZyVA0FI2gICPQUCkTlUBTAFWQDXsH4m6RUxAmBnYentYQkDaEgcSOrpDQJBmd5o8uFVA4HEdjkSHQEDmjuV6xmhCQMKC+bGqWVVAMJ2U3z+cUkCtkP/GPEZYQA3DXbiHcUdAH5hMuMOiJEBkFe0s2Yw4QN8FFCgB+ldAXhqIGhiqRUAWev2zJ8NBQMUfYFzihUVAd0nDNRMRRkBDKsM6eM5GQJDaYwRqMvg/qw57GEMVV0CkXqCKEyYuQJuAVfz7jUtAOb0xHlxyKUA1v9/2xUZNQAhn4QJ0ZVNA5BvbXGk/V0BvaX69jXNDQHg0CkUTSDBAQV85SikZS0Akp1GgSUNCQOglmVsIszhATG0BgdxQU0AqQgG8d7pKQFLP+nUw4UtA/uQ6PoAkG0DfF/qGcRhMQDrPpOwJ7jFAsSwsnV45NkAWR8Tcw9ZQQCy4xBNn+UFAaKOgrVwNRUCAkiqFKl7+P9BzaVZt5kxA2pm38D44OEA7Mjg4DIxGQNnIKyWoj0pA12BueWcKQEBGEntG6/EfQDUF+HA8lkVA5u1cvHxZN0Ch+m/Dt9MoQBEYsfkY4FRAd4je9OISQ0Dj2FRQthg9QLiEoTr78EJAAUX1Rs9LRUA4L3jViuo/QDyxMFBj2FFAMKTtPvReVUC5IquEy5AxQJ68PnDWm0ZA+5oaaltHL0Bw4opnYu7UP1Br6nBaDTBAFMQyzHGrVECnTywsZCFRQKGDUl+b8DNAOZx3k3mqRkAYOe9JuCQpQAD11UWT5zpA2vlKa9uk/T8tar3y3hJAQCl/7oj5lVBAEhqRwA4kU0B6KEQRRYIRQHDlPFIt5lVAxJdIYUAoTEDqnF6rpi9MQKc85ngWIFVAlHxka6OeTED7zB+ypuZQQG8A1UMKpUVAPPhkXTk6PEA0PRXeklBXQGEjQssus1ZANBFwM305VEDOlyFFa19RQAwnt7amiEhAiwNb19ifRUAwWsSBxiM+QBjbkzdluVNAkU0BqJMkUUBUGRl/L1pSQJFWTjxwNVFACghPhyudS0CorDjgxsJQQBRv6Bdiry9AVKikFbXAS0ChCZahA081QLK3+95ZDUtArM2pwYAUUUDosiuqUfBGQL545eT7AyxAxhyDDa+UKUARmriBoDtGQIZvAjZ1IE9ApxjoZctcR0ADPtF2O8wlQIVwx+E0YDxAnxrlBjwDU0CFBUl8FukyQCWc6IT7RTRAHbtVMYP/RUBXSaoDXrZLQOyaydcCqldAoawDhFyZVUC524hmLRFJQI1jjC2O+ENA0HvLk8/y3j+g0TVNDdlIQIlBTJ3Tiy1AlDuITHJJOkCR05yN05tSQCUaU0rNiFBAy8K9IkqVBkCy9oLj4Q8IQJIXA6njg0lA63xIt0Y0UUAGHqu8nQVFQHUorQYSZFFAKX8pJEo2VkDQP1nMmbk0QFB+JwAFN05A9zVw5cGGT0A6ogiGa7Q+QMMv1O6G5VBAPmqeSX8eUkBwFzzO01IKQMFlcL6xpkFAhLhVqLprUkA3LRDYeYNYQG1cd92DhwJAgbcMO1VSUkANVhQHGTJIQHlj0NZYkjdAoUnLpfWXWEDEx7E5KAYtQKIg1g2y2VdA1xio9vnqKUD+l5+FHB9PQA8xfjh4eEJAP+o+kbuOTED6P+gEi6dGQL0qIjwCM0xAottJe4GzVECwrmlTuOhFQJJBrUOPYRNA+3MOlEr5U0DX6SMnuiBQQCkfB1lajDNA2Qxnbi6oRUDubHzt/KNPQEXhpUTaz1hAIcG8KzYVWEAfoXJRgOoqQHrKZ7wyGFdAddBy0UxpTkDa6xitDN44QIeYPOT58SlALh53KFhgVEAUSyw4TVY6QG8RRmfrnVFAVS3iGUcCN0DcrWk/efIgQI1qs25XqkJA9itbn6lLIkCDFwpiHAg2QAobOFcNoFZAwqKW602+M0DAFjdpEAZNQDbPuxnGCFJAEoIPHHzOTUDSTDElYIBQQI4uw5nimyZAQUQFnVX8SkA9JBAEKBhYQM4SYC5T8lZACD1OhyV7U0BnilY21UJVQI4tnoeSHE5At53KaIKEMUA2A8f8c8U1QDaiCdlvYjFAk0bbGYqQVkCUKCV4PStJQOZFdUeRjFdANeEqWqWpL0C6US5o8p8+QLMq7FCksjxAc1btQZL2RUD0plH6NNFVQOXN587XHFNAsHnvrTfCVkBdBnv7LVg4QHR6UmQRKztA/oja03R5WECvIKKs6hFLQCjuXQ7db1BAEgrIzBasWEBbM30vr0VRQL1ec6SlE1hAEkzOCj9jWECDEk4DhvwkQJvXl1rxlDNAisuUy5noTEAjhc27yVxGQBkQ7aRM31FA1Bhz5wgTWEBwNCL2k8ozQDiIc7j2Y1hA2lUoe6TvK0B+cXqFbgNRQDb+bcTKGUlAVp92xJs7G0Ada8NrB7hAQOKrK0jqWSJAqYSNvpwQGkCs+BpFhxVBQLnXD9chf0hAp01ix27dTkCwia+PRbhTQM7uwFNE/z5AN/LHz7p1OUDj9QFYH9hJQGbnEMZ+R1NAkgbUradZSkBO8mkQcN0yQLFBMi0ndkZAfiyYUkRyVkDRBSvzM1dSQGJD7w9uchRAJ8l4dJdOM0C3Us4Ze+kcQKYoaHafBlVAwiwsYn+tT0CET7hMVyJFQHDeRQpQc1NAmZLsFtPRM0CVgrsNbThJQMEGtPiI3UBAXW7StRo7L0BP0CWOTPxTQP54Fb89CTtAxtPOynXgFkD74heyLONDQPhx7IQYIFFALrQ3ApEPT0CFqnc7AEJXQGtCkZRDLhpAqDDO4pNlH0DPqSNxMJhLQGiZ47QDeVVAftZgtpkLUEBVRLfps/ZRQHE9aw8ynj5A2ZxktNwVVkCMhtvkQIYAQHkBpETIJD9ABEUTORmCPEBPqiAQJgNJQHlsbUzG709AOp16Dhj1V0BvPdeuz65SQDvoupApUTZADwleUjpvKkCt44OLsRxDQAOjmV+5FUVAKPBUu9iwWEBad/uvD68WQLO67Wmk9FZAGwBnj4qjU0CD+heESSwhQGaW90djBlBAINw1L9tS9j9mluxNp7UoQNa3LDdUxlBA2PkNAMuBU0BDXsqdVphSQAzTt2Y/xFdARohiPxA/R0BU8gNMsZ9RQNY1buYK11hATOu68FS6U0BWanpAylxUQFAYJ0kSMylAppZET4ogU0AayQJVFA4xQB57utkdlzVAdvztdUykQkCH+PMC/e04QP22yvFqYD9AS5JCuz0rTUBbGm2rgPgWQMofQd4WjURAf4yafVaYSkCGUYUgHt8iQA/P0T8G6zhAtFR+yKFITkCt9uiawG9JQPqCU5xlNlBAqXh/lwuMSUBN8KBE9Vc5QAsiZU8QSTZAttNEpuLKGUAbOoGQODFCQPmG4w0vGkRAAUJf01+LQ0BnWzxrWN1FQJm++TkGWVRAkrt7WeolN0AWwysB4ddVQEVp5aNdzDVA0yUwgfVhUUBjZSbrABEZQHQopDODEE5Ax77KLXiNIkAjXdBOeVYoQIaXrkQVF0lAIX6Khs0cUUCwWCwJpz9MQDUAe7h2gFNAXrrpS2A1MUAV999zoH5XQCdIgv49IDhAFo8takmpU0AjEKjaBGdWQKrhdOHKczlAYp003swiLkA24H84UsYxQBgf/AtlozFAFZVhFvWqREBkgriZVE47QA7JBnhuFUBAw84BGEaRQ0CyTcY2kagwQFpTZV/pKVRALy0rJkybVEBWmxVA7ORVQPnG6PQVClRAFCXsSPYsN0AuAsRwt77/P5wRW66ftk9And9l7sqoJUCDd4ZnSTJTQBrnJf6t2z1A6c51Uu1kHkB16ayLcgs+QIhgkicmdRxAxLRseV7lUUC24kKBNMVBQNiez1bGYlJAf3xgUE7MQEBaIj2Ncqf8P/LCsErHBkJAWqtVt4ZyGkBms5JeW0xMQJt6WU3WsExAViZpbIe9VEBmswO0X7w6QM9GfbR3XSZAPWCcQIa0VUAA9f1QxK9XQJd+NS+SQFNAHPnJeF31O0BkjSaRIZdVQEWO6q5AKjVAimS00fVcJ0C+tGooddkbQN0rIYGq8FNAoxURBEshAUDGLgzCYT5NQMszSP8puz5Ab8qvpX+QUEBpUl6ct1FTQIhA78bHpUtA0SPbT2ELNkBPir0qLrlTQHex0AOZ401AVVDN3+VBQEDU3uNrN4VPQPsZlUMS71hA0jh0xEoeP0A8fpVhrKckQJzJ5eBVlUNA9q6QrXb0M0CdthF1F/dDQKYE9qVNvCBAn1tD77JPS0BjPhDnZKtSQPvPu/RgIFFAIBUduGu2SUAsINQC2AZCQNGC66V8mVVAhgAEuf/DVECacyVdmoVVQMMTVewqA1FAeIodU60bTEBGVWz2+6MqQDgyq631Dk9A1IOVW2hgQ0Bat2rE1eYUQDKFyDIdJ1FAhjOC8XRHVEBV+x6GrLhYQERpPl04ZU5AnuS7htb2JECkzPgoLF0+QBoqwQLoRCNASiYbPNloU0A67fAkA3lXQFfG3hMHmzJA9GCadPJ8MEBvZK7R7MAiQGxX1ZYOnD1A2KyZpbZ9BkAGqiBDD/1MQEef4fcri1NAk9aP3EYxRkCONnhz+klYQJL/ZDL/SDdA1eS3YxmiVUBL4JB5KApIQH7izmhRsElAlFcZ7Ny+SUBcQpxs1UAaQGrCmO598VBAbO1Ywdr0NEBLNAhF0ItEQJGOFh/NQCBAvkEF4eCeSUAC2Tf3grtUQPddKD3XzDVAZbkJ/jRCUEAahZrtVXg3QO7roxx7nkNAUOpJdA2Sxz+A2HGuL5bLP0CQ33cztUhAJF4NPRHeM0CcLaA8G0BAQP0fWBT1hExAV6t5BYT6QUBC6hFcf55MQIIlrIokTFBA5Cq5LsjuUEBUo3Sknc5UQFIY+JqgfVhAriH32txfNEBrcUerNQBUQCckdOPCK0RA0VVcqI97QkB+czQ4dpUjQElCIG31pj1AHun5ZfM4QEBEsA2bQl5DQNk/i+ifwE9ANTengQHZVUBJK7FQAPhNQORNTv6e8FNADaGsisnaRkB04I3KSzY5QBUBka6+SkBA2qRGvR2MVkAuaZIWihFXQK4WbZJ9/i9AVqMRtLlRT0BBsEWSnc8tQBa8deAQaFFAfbr/7xEiI0C5mX8WFUQkQC/731pd6SxAFRFkD4vuU0AOS4N7d/1XQIr3o/f6uFFA6MxWlUwaV0A8RElHCeBVQEI5C+S9mQVA8Xpw4J0WUUD5edE6oXtVQJa5HoJoZilAA3ukGufEVECKV+DZyfpYQM2k6NEzJE1Ak/8HgLJ3VkDlUkp6ne45QL5B25vdO1ZAOGay69n6NkAhXfX04XRTQMCPskXIiVhAAr1W3P/tOkCypbbTZ0xUQF57OiU/nU9AJvlMcTUQP0BvPU0tSipOQHFm59LElDhAPicDICx1TkBycSPqnlBVQD+i+Wuq5jJAA1kElVkkQkCFyx7icdNRQOD5XstFZFRAcNXHtY7P/z9Y0xwZSqBAQAx/gZFpI1VAh/U3xeZFV0Ao1XvHW0Y+QHWEemYquFNA80zB3dTyVEDH1yeJDPMkQNCUUK5OQE1AsQhLlv4CIkDvsHKRZXgwQBu1d+S1oFVAupOGopGNVkDuSOZxlz1HQOp8xQpMolhAPsSC1R3BV0Aae+GQxNVLQOp5HiPGlzlAssUjpCx2A0B3DGGYwXVRQI0KqtBsXFZA4rS4gABuVkCI6MSGp6FQQLLtDj8xxlRAci+cj+9GSUBjAKNlVkg0QKOwaUKJT09A980kuSCVUkCJ6yH5+uVSQKiUObaFqVNAIP7f0pnRVkCY1k62ROZKQIDK0Abl2lNAIyjaj+haT0B+i4GCz28SQAS65Rv0wUVAIpWCZsSpSUAtgqKi1DgxQDDR9+uXIVVAEbFUE5wHNUC/RupUSEkvQJ8As0OCSk1AxXsq5KbHS0BAEAJ/OvlWQPmPzXQU1ERAkjKFwXMLIkB49iIoFitYQCj8bGBptE9AgWaysfhII0CpzeX7t0dNQKGzmxJIoEpA6/Ke9Sf2REAZfV6LKaJXQNfLbKCAI0VAsiWtlVDGUUC9jiq6wmJYQIKE2zaBoFdANrEPB/zoMkBst+XqYQQwQCYIEbE8mjhAbQ0OqQygPUCVx7GBt/hTQIM2SmdrNkZAPplC+BpKQkCujFSRrShYQK/CwtucBk5Aak4R8ZiiRUAd2JzMeORRQEUlrLOCwVJAo4AnLIgUVEBSCpozunBYQJBC8Ck6oFhAju6vHaWd+D+GzjZQ5x1GQMK7F7AsBT9Aaf0iOIo+SUAz47gsERwuQDF4r88BA0lAwNbTU1JyIkA8ZndrV44HQMuDOtmAPE5AwC/mKSyaRkBm9LRxMIw1QCvr/e82M0NA2PhevUaORUAjqW9IIXxTQMGI/j/IKlFAPGhkkBJyVkCyC3G3YrA3QEBoGKLjyTZAtHQohc+aL0ALA8CfndFUQDkEeosFO1ZAAcuGpvC6UkCoCDqnNhM9QCEvUZWt+0RA3ACpAH0jTkBN0JO7YHNVQOMMZbqxE0hAXgJadYYsWED8NWFcOuFTQOzgrY/SqUJAdhzKoREsUkDHtn1rs11LQHr7dVaVAE1Am7+gUu9kQUCg50DZF0xIQC7/1HGLIlJAZ2SJoIepSkDi7WlrLMwGQG4RClvkNh5AvL2To3+/BEAkQvxHY1NXQPr67/JD0TJAwDtYtiwyK0CCUJbROv9GQEF16d3daVNAKsjuG8LxVEA=\",\"dtype\":\"float64\",\"order\":\"little\",\"shape\":[4000]}},\"selected\":{\"id\":\"66651\"},\"selection_policy\":{\"id\":\"66650\"}},\"id\":\"65692\",\"type\":\"ColumnDataSource\"},{\"attributes\":{},\"id\":\"65676\",\"type\":\"WheelZoomTool\"},{\"attributes\":{},\"id\":\"66649\",\"type\":\"AllLabels\"},{\"attributes\":{\"end\":100},\"id\":\"65658\",\"type\":\"Range1d\"},{\"attributes\":{},\"id\":\"65671\",\"type\":\"BasicTicker\"},{\"attributes\":{},\"id\":\"65662\",\"type\":\"LinearScale\"},{\"attributes\":{\"axis\":{\"id\":\"65670\"},\"coordinates\":null,\"dimension\":1,\"group\":null,\"ticker\":null},\"id\":\"65673\",\"type\":\"Grid\"},{\"attributes\":{\"fill_alpha\":{\"value\":0.6},\"fill_color\":{\"field\":\"fill_color\"},\"line_color\":{\"value\":null},\"radius\":{\"field\":\"radius\"},\"x\":{\"field\":\"x\"},\"y\":{\"field\":\"y\"}},\"id\":\"65693\",\"type\":\"Circle\"},{\"attributes\":{\"fill_alpha\":{\"value\":0.1},\"fill_color\":{\"field\":\"fill_color\"},\"hatch_alpha\":{\"value\":0.1},\"line_alpha\":{\"value\":0.1},\"line_color\":{\"value\":null},\"radius\":{\"field\":\"radius\"},\"x\":{\"field\":\"x\"},\"y\":{\"field\":\"y\"}},\"id\":\"65694\",\"type\":\"Circle\"},{\"attributes\":{\"coordinates\":null,\"data_source\":{\"id\":\"65692\"},\"glyph\":{\"id\":\"65693\"},\"group\":null,\"hover_glyph\":null,\"muted_glyph\":{\"id\":\"65695\"},\"nonselection_glyph\":{\"id\":\"65694\"},\"view\":{\"id\":\"65697\"}},\"id\":\"65696\",\"type\":\"GlyphRenderer\"},{\"attributes\":{\"end\":100},\"id\":\"65660\",\"type\":\"Range1d\"},{\"attributes\":{\"axis\":{\"id\":\"65666\"},\"coordinates\":null,\"group\":null,\"ticker\":null},\"id\":\"65669\",\"type\":\"Grid\"}],\"root_ids\":[\"65657\"]},\"title\":\"Bokeh Application\",\"version\":\"2.4.3\"}};\n",
       "  const render_items = [{\"docid\":\"98e78661-d7d4-4414-8c23-74370b538bf5\",\"root_ids\":[\"65657\"],\"roots\":{\"65657\":\"2a12e1bd-ed84-457e-9f28-15df519a7bf4\"}}];\n",
       "  root.Bokeh.embed.embed_items_notebook(docs_json, render_items);\n",
       "  }\n",
       "  if (root.Bokeh !== undefined) {\n",
       "    embed_document(root);\n",
       "  } else {\n",
       "    let attempts = 0;\n",
       "    const timer = setInterval(function(root) {\n",
       "      if (root.Bokeh !== undefined) {\n",
       "        clearInterval(timer);\n",
       "        embed_document(root);\n",
       "      } else {\n",
       "        attempts++;\n",
       "        if (attempts > 100) {\n",
       "          clearInterval(timer);\n",
       "          console.log(\"Bokeh: ERROR: Unable to run BokehJS code because BokehJS library is missing\");\n",
       "        }\n",
       "      }\n",
       "    }, 10, root)\n",
       "  }\n",
       "})(window);"
      ],
      "application/vnd.bokehjs_exec.v0+json": ""
     },
     "metadata": {
      "application/vnd.bokehjs_exec.v0+json": {
       "id": "65657"
      }
     },
     "output_type": "display_data"
    }
   ],
   "source": [
    "import numpy as np\n",
    "\n",
    "from bokeh.plotting import figure, output_file, show\n",
    "\n",
    "# prepare some data\n",
    "N = 4000\n",
    "x = np.random.random(size=N) * 100\n",
    "y = np.random.random(size=N) * 100\n",
    "radii = np.random.random(size=N) * 1.5\n",
    "colors = [\n",
    "    \"#%02x%02x%02x\" % (int(r), int(g), 150) for r, g in zip(50+2*x, 30+2*y)\n",
    "]\n",
    "\n",
    "TOOLS=\"crosshair,pan,wheel_zoom,box_zoom,reset,box_select,lasso_select\"\n",
    "\n",
    "# create a new plot with the tools above, and explicit ranges\n",
    "p = figure(tools=TOOLS, x_range=(0,100), y_range=(0,100), width=500, height=500)\n",
    "\n",
    "# add a circle renderer with vectorized colors and sizes\n",
    "p.circle(x,y, radius=radii, fill_color=colors, fill_alpha=0.6, line_color=None)\n",
    "\n",
    "# show the results\n",
    "show(p)"
   ]
  },
  {
   "cell_type": "markdown",
   "metadata": {},
   "source": [
    "# Data Sources and Transformations"
   ]
  },
  {
   "cell_type": "markdown",
   "metadata": {},
   "source": [
    "We've seen how Bokeh can work well with Python lists, NumPy arrays, Pandas series, etc. At lower levels, these inputs are converted to a Bokeh `ColumnDataSource`. This data type is the central data source object used throughout Bokeh. Although Bokeh often creates them for us transparently, there are times when it is useful to create them explicitly.\n",
    "\n",
    "In later sections we will see features like hover tooltips, computed transforms, and CustomJS interactions that make use of the `ColumnDataSource`, so let's take a quick look now."
   ]
  },
  {
   "cell_type": "markdown",
   "metadata": {},
   "source": [
    "## Creating with Python Dicts\n",
    "The `ColumnDataSource` can be imported from `bokeh.models`:"
   ]
  },
  {
   "cell_type": "code",
   "execution_count": 147,
   "metadata": {},
   "outputs": [],
   "source": [
    "from bokeh.models import ColumnDataSource"
   ]
  },
  {
   "cell_type": "markdown",
   "metadata": {},
   "source": [
    "The `ColumnDataSource` is a mapping of column names (strings) to sequences of values. Here is a simple example. The mapping is provided by passing a Python `dict` with string keys and simple Python lists as values. The values could also be NumPy arrays, or Pandas sequences.\n",
    "\n",
    "***NOTE: ALL the columns in a `ColumnDataSource` must always be the SAME length.***\n"
   ]
  },
  {
   "cell_type": "code",
   "execution_count": 148,
   "metadata": {},
   "outputs": [],
   "source": [
    "source = ColumnDataSource(data={\n",
    "    'x' : [1, 2, 3, 4, 5],\n",
    "    'y' : [3, 7, 8, 5, 1],\n",
    "})"
   ]
  },
  {
   "cell_type": "markdown",
   "metadata": {},
   "source": [
    "Up until now we have called functions like `p.circle` by passing in literal lists or arrays of data directly, when we do this, Bokeh creates a `ColumnDataSource` for us, automatically. But it is possible to specify a `ColumnDataSource` explicitly by passing it as the `source` argument to a glyph method. Whenever we do this, if we want a property (like `\"x\"` or `\"y\"` or `\"fill_color\"`) to have a sequence of values, we pass the ***name of the column*** that we would like to use for a property:"
   ]
  },
  {
   "cell_type": "code",
   "execution_count": 149,
   "metadata": {},
   "outputs": [
    {
     "data": {
      "text/html": [
       "\n",
       "  <div class=\"bk-root\" id=\"29916e61-a7aa-4140-aeac-454a0b914324\" data-root-id=\"66721\"></div>\n"
      ]
     },
     "metadata": {},
     "output_type": "display_data"
    },
    {
     "data": {
      "application/javascript": [
       "(function(root) {\n",
       "  function embed_document(root) {\n",
       "  const docs_json = {\"972bb730-2a35-47de-b366-22dea0ba3f13\":{\"defs\":[],\"roots\":{\"references\":[{\"attributes\":{\"below\":[{\"id\":\"66730\"}],\"center\":[{\"id\":\"66733\"},{\"id\":\"66737\"}],\"height\":400,\"left\":[{\"id\":\"66734\"}],\"renderers\":[{\"id\":\"66756\"}],\"title\":{\"id\":\"67715\"},\"toolbar\":{\"id\":\"66745\"},\"width\":400,\"x_range\":{\"id\":\"66722\"},\"x_scale\":{\"id\":\"66726\"},\"y_range\":{\"id\":\"66724\"},\"y_scale\":{\"id\":\"66728\"}},\"id\":\"66721\",\"subtype\":\"Figure\",\"type\":\"Plot\"},{\"attributes\":{},\"id\":\"66741\",\"type\":\"SaveTool\"},{\"attributes\":{},\"id\":\"66731\",\"type\":\"BasicTicker\"},{\"attributes\":{},\"id\":\"66728\",\"type\":\"LinearScale\"},{\"attributes\":{\"axis\":{\"id\":\"66734\"},\"coordinates\":null,\"dimension\":1,\"group\":null,\"ticker\":null},\"id\":\"66737\",\"type\":\"Grid\"},{\"attributes\":{\"coordinates\":null,\"formatter\":{\"id\":\"67718\"},\"group\":null,\"major_label_policy\":{\"id\":\"67719\"},\"ticker\":{\"id\":\"66735\"}},\"id\":\"66734\",\"type\":\"LinearAxis\"},{\"attributes\":{\"axis\":{\"id\":\"66730\"},\"coordinates\":null,\"group\":null,\"ticker\":null},\"id\":\"66733\",\"type\":\"Grid\"},{\"attributes\":{},\"id\":\"66743\",\"type\":\"HelpTool\"},{\"attributes\":{},\"id\":\"66722\",\"type\":\"DataRange1d\"},{\"attributes\":{},\"id\":\"67718\",\"type\":\"BasicTickFormatter\"},{\"attributes\":{},\"id\":\"66724\",\"type\":\"DataRange1d\"},{\"attributes\":{\"coordinates\":null,\"formatter\":{\"id\":\"67721\"},\"group\":null,\"major_label_policy\":{\"id\":\"67722\"},\"ticker\":{\"id\":\"66731\"}},\"id\":\"66730\",\"type\":\"LinearAxis\"},{\"attributes\":{},\"id\":\"66726\",\"type\":\"LinearScale\"},{\"attributes\":{},\"id\":\"67719\",\"type\":\"AllLabels\"},{\"attributes\":{\"overlay\":{\"id\":\"66744\"}},\"id\":\"66740\",\"type\":\"BoxZoomTool\"},{\"attributes\":{},\"id\":\"66738\",\"type\":\"PanTool\"},{\"attributes\":{},\"id\":\"67721\",\"type\":\"BasicTickFormatter\"},{\"attributes\":{},\"id\":\"66739\",\"type\":\"WheelZoomTool\"},{\"attributes\":{\"fill_alpha\":{\"value\":0.2},\"fill_color\":{\"value\":\"#1f77b4\"},\"hatch_alpha\":{\"value\":0.2},\"line_alpha\":{\"value\":0.2},\"line_color\":{\"value\":\"#1f77b4\"},\"size\":{\"value\":20},\"x\":{\"field\":\"x\"},\"y\":{\"field\":\"y\"}},\"id\":\"66755\",\"type\":\"Circle\"},{\"attributes\":{\"coordinates\":null,\"data_source\":{\"id\":\"66720\"},\"glyph\":{\"id\":\"66753\"},\"group\":null,\"hover_glyph\":null,\"muted_glyph\":{\"id\":\"66755\"},\"nonselection_glyph\":{\"id\":\"66754\"},\"view\":{\"id\":\"66757\"}},\"id\":\"66756\",\"type\":\"GlyphRenderer\"},{\"attributes\":{},\"id\":\"67722\",\"type\":\"AllLabels\"},{\"attributes\":{\"fill_color\":{\"value\":\"#1f77b4\"},\"line_color\":{\"value\":\"#1f77b4\"},\"size\":{\"value\":20},\"x\":{\"field\":\"x\"},\"y\":{\"field\":\"y\"}},\"id\":\"66753\",\"type\":\"Circle\"},{\"attributes\":{\"tools\":[{\"id\":\"66738\"},{\"id\":\"66739\"},{\"id\":\"66740\"},{\"id\":\"66741\"},{\"id\":\"66742\"},{\"id\":\"66743\"}]},\"id\":\"66745\",\"type\":\"Toolbar\"},{\"attributes\":{},\"id\":\"66735\",\"type\":\"BasicTicker\"},{\"attributes\":{},\"id\":\"67723\",\"type\":\"UnionRenderers\"},{\"attributes\":{\"source\":{\"id\":\"66720\"}},\"id\":\"66757\",\"type\":\"CDSView\"},{\"attributes\":{},\"id\":\"67724\",\"type\":\"Selection\"},{\"attributes\":{\"coordinates\":null,\"group\":null},\"id\":\"67715\",\"type\":\"Title\"},{\"attributes\":{\"data\":{\"x\":[1,2,3,4,5],\"y\":[3,7,8,5,1]},\"selected\":{\"id\":\"67724\"},\"selection_policy\":{\"id\":\"67723\"}},\"id\":\"66720\",\"type\":\"ColumnDataSource\"},{\"attributes\":{\"bottom_units\":\"screen\",\"coordinates\":null,\"fill_alpha\":0.5,\"fill_color\":\"lightgrey\",\"group\":null,\"left_units\":\"screen\",\"level\":\"overlay\",\"line_alpha\":1.0,\"line_color\":\"black\",\"line_dash\":[4,4],\"line_width\":2,\"right_units\":\"screen\",\"syncable\":false,\"top_units\":\"screen\"},\"id\":\"66744\",\"type\":\"BoxAnnotation\"},{\"attributes\":{},\"id\":\"66742\",\"type\":\"ResetTool\"},{\"attributes\":{\"fill_alpha\":{\"value\":0.1},\"fill_color\":{\"value\":\"#1f77b4\"},\"hatch_alpha\":{\"value\":0.1},\"line_alpha\":{\"value\":0.1},\"line_color\":{\"value\":\"#1f77b4\"},\"size\":{\"value\":20},\"x\":{\"field\":\"x\"},\"y\":{\"field\":\"y\"}},\"id\":\"66754\",\"type\":\"Circle\"}],\"root_ids\":[\"66721\"]},\"title\":\"Bokeh Application\",\"version\":\"2.4.3\"}};\n",
       "  const render_items = [{\"docid\":\"972bb730-2a35-47de-b366-22dea0ba3f13\",\"root_ids\":[\"66721\"],\"roots\":{\"66721\":\"29916e61-a7aa-4140-aeac-454a0b914324\"}}];\n",
       "  root.Bokeh.embed.embed_items_notebook(docs_json, render_items);\n",
       "  }\n",
       "  if (root.Bokeh !== undefined) {\n",
       "    embed_document(root);\n",
       "  } else {\n",
       "    let attempts = 0;\n",
       "    const timer = setInterval(function(root) {\n",
       "      if (root.Bokeh !== undefined) {\n",
       "        clearInterval(timer);\n",
       "        embed_document(root);\n",
       "      } else {\n",
       "        attempts++;\n",
       "        if (attempts > 100) {\n",
       "          clearInterval(timer);\n",
       "          console.log(\"Bokeh: ERROR: Unable to run BokehJS code because BokehJS library is missing\");\n",
       "        }\n",
       "      }\n",
       "    }, 10, root)\n",
       "  }\n",
       "})(window);"
      ],
      "application/vnd.bokehjs_exec.v0+json": ""
     },
     "metadata": {
      "application/vnd.bokehjs_exec.v0+json": {
       "id": "66721"
      }
     },
     "output_type": "display_data"
    }
   ],
   "source": [
    "p = figure(plot_width=400, plot_height=400)\n",
    "p.circle('x', 'y', size=20, source=source)\n",
    "show(p)"
   ]
  },
  {
   "cell_type": "markdown",
   "metadata": {},
   "source": [
    "My notes (Stefan) <br>\n",
    "This is the same:"
   ]
  },
  {
   "cell_type": "code",
   "execution_count": 150,
   "metadata": {},
   "outputs": [
    {
     "data": {
      "text/html": [
       "\n",
       "  <div class=\"bk-root\" id=\"73fe08a3-9d12-46fd-83f2-ec503fa14644\" data-root-id=\"67781\"></div>\n"
      ]
     },
     "metadata": {},
     "output_type": "display_data"
    },
    {
     "data": {
      "application/javascript": [
       "(function(root) {\n",
       "  function embed_document(root) {\n",
       "  const docs_json = {\"ebbc5755-d28c-47f4-8f28-8c20aacb1298\":{\"defs\":[],\"roots\":{\"references\":[{\"attributes\":{\"below\":[{\"id\":\"67790\"}],\"center\":[{\"id\":\"67793\"},{\"id\":\"67797\"}],\"height\":400,\"left\":[{\"id\":\"67794\"}],\"renderers\":[{\"id\":\"67816\"}],\"title\":{\"id\":\"68786\"},\"toolbar\":{\"id\":\"67805\"},\"width\":400,\"x_range\":{\"id\":\"67782\"},\"x_scale\":{\"id\":\"67786\"},\"y_range\":{\"id\":\"67784\"},\"y_scale\":{\"id\":\"67788\"}},\"id\":\"67781\",\"subtype\":\"Figure\",\"type\":\"Plot\"},{\"attributes\":{\"axis\":{\"id\":\"67794\"},\"coordinates\":null,\"dimension\":1,\"group\":null,\"ticker\":null},\"id\":\"67797\",\"type\":\"Grid\"},{\"attributes\":{},\"id\":\"68793\",\"type\":\"AllLabels\"},{\"attributes\":{\"fill_alpha\":{\"value\":0.2},\"fill_color\":{\"value\":\"#1f77b4\"},\"hatch_alpha\":{\"value\":0.2},\"line_alpha\":{\"value\":0.2},\"line_color\":{\"value\":\"#1f77b4\"},\"size\":{\"value\":20},\"x\":{\"field\":\"x\"},\"y\":{\"field\":\"y\"}},\"id\":\"67815\",\"type\":\"Circle\"},{\"attributes\":{\"coordinates\":null,\"formatter\":{\"id\":\"68789\"},\"group\":null,\"major_label_policy\":{\"id\":\"68790\"},\"ticker\":{\"id\":\"67795\"}},\"id\":\"67794\",\"type\":\"LinearAxis\"},{\"attributes\":{\"bottom_units\":\"screen\",\"coordinates\":null,\"fill_alpha\":0.5,\"fill_color\":\"lightgrey\",\"group\":null,\"left_units\":\"screen\",\"level\":\"overlay\",\"line_alpha\":1.0,\"line_color\":\"black\",\"line_dash\":[4,4],\"line_width\":2,\"right_units\":\"screen\",\"syncable\":false,\"top_units\":\"screen\"},\"id\":\"67804\",\"type\":\"BoxAnnotation\"},{\"attributes\":{\"fill_color\":{\"value\":\"#1f77b4\"},\"line_color\":{\"value\":\"#1f77b4\"},\"size\":{\"value\":20},\"x\":{\"field\":\"x\"},\"y\":{\"field\":\"y\"}},\"id\":\"67813\",\"type\":\"Circle\"},{\"attributes\":{},\"id\":\"67802\",\"type\":\"ResetTool\"},{\"attributes\":{\"source\":{\"id\":\"67812\"}},\"id\":\"67817\",\"type\":\"CDSView\"},{\"attributes\":{},\"id\":\"67801\",\"type\":\"SaveTool\"},{\"attributes\":{},\"id\":\"67784\",\"type\":\"DataRange1d\"},{\"attributes\":{\"overlay\":{\"id\":\"67804\"}},\"id\":\"67800\",\"type\":\"BoxZoomTool\"},{\"attributes\":{},\"id\":\"67782\",\"type\":\"DataRange1d\"},{\"attributes\":{},\"id\":\"67798\",\"type\":\"PanTool\"},{\"attributes\":{},\"id\":\"67799\",\"type\":\"WheelZoomTool\"},{\"attributes\":{\"fill_alpha\":{\"value\":0.1},\"fill_color\":{\"value\":\"#1f77b4\"},\"hatch_alpha\":{\"value\":0.1},\"line_alpha\":{\"value\":0.1},\"line_color\":{\"value\":\"#1f77b4\"},\"size\":{\"value\":20},\"x\":{\"field\":\"x\"},\"y\":{\"field\":\"y\"}},\"id\":\"67814\",\"type\":\"Circle\"},{\"attributes\":{\"data\":{\"x\":[1,2,3,4,5],\"y\":[3,7,8,5,1]},\"selected\":{\"id\":\"68795\"},\"selection_policy\":{\"id\":\"68794\"}},\"id\":\"67812\",\"type\":\"ColumnDataSource\"},{\"attributes\":{\"coordinates\":null,\"data_source\":{\"id\":\"67812\"},\"glyph\":{\"id\":\"67813\"},\"group\":null,\"hover_glyph\":null,\"muted_glyph\":{\"id\":\"67815\"},\"nonselection_glyph\":{\"id\":\"67814\"},\"view\":{\"id\":\"67817\"}},\"id\":\"67816\",\"type\":\"GlyphRenderer\"},{\"attributes\":{},\"id\":\"67795\",\"type\":\"BasicTicker\"},{\"attributes\":{},\"id\":\"68794\",\"type\":\"UnionRenderers\"},{\"attributes\":{},\"id\":\"68795\",\"type\":\"Selection\"},{\"attributes\":{\"tools\":[{\"id\":\"67798\"},{\"id\":\"67799\"},{\"id\":\"67800\"},{\"id\":\"67801\"},{\"id\":\"67802\"},{\"id\":\"67803\"}]},\"id\":\"67805\",\"type\":\"Toolbar\"},{\"attributes\":{\"coordinates\":null,\"group\":null},\"id\":\"68786\",\"type\":\"Title\"},{\"attributes\":{},\"id\":\"68789\",\"type\":\"BasicTickFormatter\"},{\"attributes\":{\"coordinates\":null,\"formatter\":{\"id\":\"68792\"},\"group\":null,\"major_label_policy\":{\"id\":\"68793\"},\"ticker\":{\"id\":\"67791\"}},\"id\":\"67790\",\"type\":\"LinearAxis\"},{\"attributes\":{},\"id\":\"67788\",\"type\":\"LinearScale\"},{\"attributes\":{},\"id\":\"67786\",\"type\":\"LinearScale\"},{\"attributes\":{},\"id\":\"68790\",\"type\":\"AllLabels\"},{\"attributes\":{},\"id\":\"68792\",\"type\":\"BasicTickFormatter\"},{\"attributes\":{},\"id\":\"67791\",\"type\":\"BasicTicker\"},{\"attributes\":{\"axis\":{\"id\":\"67790\"},\"coordinates\":null,\"group\":null,\"ticker\":null},\"id\":\"67793\",\"type\":\"Grid\"},{\"attributes\":{},\"id\":\"67803\",\"type\":\"HelpTool\"}],\"root_ids\":[\"67781\"]},\"title\":\"Bokeh Application\",\"version\":\"2.4.3\"}};\n",
       "  const render_items = [{\"docid\":\"ebbc5755-d28c-47f4-8f28-8c20aacb1298\",\"root_ids\":[\"67781\"],\"roots\":{\"67781\":\"73fe08a3-9d12-46fd-83f2-ec503fa14644\"}}];\n",
       "  root.Bokeh.embed.embed_items_notebook(docs_json, render_items);\n",
       "  }\n",
       "  if (root.Bokeh !== undefined) {\n",
       "    embed_document(root);\n",
       "  } else {\n",
       "    let attempts = 0;\n",
       "    const timer = setInterval(function(root) {\n",
       "      if (root.Bokeh !== undefined) {\n",
       "        clearInterval(timer);\n",
       "        embed_document(root);\n",
       "      } else {\n",
       "        attempts++;\n",
       "        if (attempts > 100) {\n",
       "          clearInterval(timer);\n",
       "          console.log(\"Bokeh: ERROR: Unable to run BokehJS code because BokehJS library is missing\");\n",
       "        }\n",
       "      }\n",
       "    }, 10, root)\n",
       "  }\n",
       "})(window);"
      ],
      "application/vnd.bokehjs_exec.v0+json": ""
     },
     "metadata": {
      "application/vnd.bokehjs_exec.v0+json": {
       "id": "67781"
      }
     },
     "output_type": "display_data"
    }
   ],
   "source": [
    "x = [1, 2, 3, 4, 5]\n",
    "y = [3, 7, 8, 5, 1]\n",
    "\n",
    "p = figure(plot_width=400, plot_height=400)\n",
    "p.circle(x, y, size=20)\n",
    "show(p)"
   ]
  },
  {
   "cell_type": "markdown",
   "metadata": {},
   "source": [
    "## Creating with Pandas DataFrames\n",
    "\n",
    "It's also simple to create `ColumnDataSource` objects directly from Pandas data frames. To do this, just pass the data frame to  `ColumnDataSource` when you create it:"
   ]
  },
  {
   "cell_type": "code",
   "execution_count": 151,
   "metadata": {},
   "outputs": [
    {
     "data": {
      "text/html": [
       "\n",
       "  <div class=\"bk-root\" id=\"046d7bcc-9f88-4aa2-aa76-11b54bb9f066\" data-root-id=\"68853\"></div>\n"
      ]
     },
     "metadata": {},
     "output_type": "display_data"
    },
    {
     "data": {
      "application/javascript": [
       "(function(root) {\n",
       "  function embed_document(root) {\n",
       "  const docs_json = {\"3152062b-690e-4c6d-a0d7-1e7de1a347b9\":{\"defs\":[],\"roots\":{\"references\":[{\"attributes\":{\"below\":[{\"id\":\"68862\"}],\"center\":[{\"id\":\"68865\"},{\"id\":\"68869\"}],\"height\":400,\"left\":[{\"id\":\"68866\"}],\"renderers\":[{\"id\":\"68888\"}],\"title\":{\"id\":\"69869\"},\"toolbar\":{\"id\":\"68877\"},\"width\":400,\"x_range\":{\"id\":\"68854\"},\"x_scale\":{\"id\":\"68858\"},\"y_range\":{\"id\":\"68856\"},\"y_scale\":{\"id\":\"68860\"}},\"id\":\"68853\",\"subtype\":\"Figure\",\"type\":\"Plot\"},{\"attributes\":{\"coordinates\":null,\"group\":null},\"id\":\"69869\",\"type\":\"Title\"},{\"attributes\":{},\"id\":\"69877\",\"type\":\"UnionRenderers\"},{\"attributes\":{\"data\":{\"index\":[0,1,2,3,4,5,6,7,8,9,10,11,12,13,14,15,16,17,18,19,20,21,22,23,24,25,26,27,28,29,30,31,32,33,34,35,36,37,38,39,40,41,42,43,44,45,46,47,48,49,50,51,52,53,54,55,56,57,58,59,60,61,62,63,64,65,66,67,68,69,70,71,72,73,74,75,76,77,78,79,80,81,82,83,84,85,86,87,88,89,90,91,92,93,94,95,96,97,98,99,100,101,102,103,104,105,106,107,108,109,110,111,112,113,114,115,116,117,118,119,120,121,122,123,124,125,126,127,128,129,130,131,132,133,134,135,136,137,138,139,140,141,142,143,144,145,146,147,148,149],\"petal_length\":{\"__ndarray__\":\"ZmZmZmZm9j9mZmZmZmb2P83MzMzMzPQ/AAAAAAAA+D9mZmZmZmb2PzMzMzMzM/s/ZmZmZmZm9j8AAAAAAAD4P2ZmZmZmZvY/AAAAAAAA+D8AAAAAAAD4P5qZmZmZmfk/ZmZmZmZm9j+amZmZmZnxPzMzMzMzM/M/AAAAAAAA+D/NzMzMzMz0P2ZmZmZmZvY/MzMzMzMz+z8AAAAAAAD4PzMzMzMzM/s/AAAAAAAA+D8AAAAAAADwPzMzMzMzM/s/ZmZmZmZm/j+amZmZmZn5P5qZmZmZmfk/AAAAAAAA+D9mZmZmZmb2P5qZmZmZmfk/mpmZmZmZ+T8AAAAAAAD4PwAAAAAAAPg/ZmZmZmZm9j8AAAAAAAD4PzMzMzMzM/M/zczMzMzM9D9mZmZmZmb2P83MzMzMzPQ/AAAAAAAA+D/NzMzMzMz0P83MzMzMzPQ/zczMzMzM9D+amZmZmZn5P2ZmZmZmZv4/ZmZmZmZm9j+amZmZmZn5P2ZmZmZmZvY/AAAAAAAA+D9mZmZmZmb2P83MzMzMzBJAAAAAAAAAEkCamZmZmZkTQAAAAAAAABBAZmZmZmZmEkAAAAAAAAASQM3MzMzMzBJAZmZmZmZmCkBmZmZmZmYSQDMzMzMzMw9AAAAAAAAADEDNzMzMzMwQQAAAAAAAABBAzczMzMzMEkDNzMzMzMwMQJqZmZmZmRFAAAAAAAAAEkBmZmZmZmYQQAAAAAAAABJAMzMzMzMzD0AzMzMzMzMTQAAAAAAAABBAmpmZmZmZE0DNzMzMzMwSQDMzMzMzMxFAmpmZmZmZEUAzMzMzMzMTQAAAAAAAABRAAAAAAAAAEkAAAAAAAAAMQGZmZmZmZg5AmpmZmZmZDUAzMzMzMzMPQGZmZmZmZhRAAAAAAAAAEkAAAAAAAAASQM3MzMzMzBJAmpmZmZmZEUBmZmZmZmYQQAAAAAAAABBAmpmZmZmZEUBmZmZmZmYSQAAAAAAAABBAZmZmZmZmCkDNzMzMzMwQQM3MzMzMzBBAzczMzMzMEEAzMzMzMzMRQAAAAAAAAAhAZmZmZmZmEEAAAAAAAAAYQGZmZmZmZhRAmpmZmZmZF0BmZmZmZmYWQDMzMzMzMxdAZmZmZmZmGkAAAAAAAAASQDMzMzMzMxlAMzMzMzMzF0BmZmZmZmYYQGZmZmZmZhRAMzMzMzMzFUAAAAAAAAAWQAAAAAAAABRAZmZmZmZmFEAzMzMzMzMVQAAAAAAAABZAzczMzMzMGkCamZmZmZkbQAAAAAAAABRAzczMzMzMFkCamZmZmZkTQM3MzMzMzBpAmpmZmZmZE0DNzMzMzMwWQAAAAAAAABhAMzMzMzMzE0CamZmZmZkTQGZmZmZmZhZAMzMzMzMzF0BmZmZmZmYYQJqZmZmZmRlAZmZmZmZmFkBmZmZmZmYUQGZmZmZmZhZAZmZmZmZmGEBmZmZmZmYWQAAAAAAAABZAMzMzMzMzE0CamZmZmZkVQGZmZmZmZhZAZmZmZmZmFEBmZmZmZmYUQJqZmZmZmRdAzczMzMzMFkDNzMzMzMwUQAAAAAAAABRAzczMzMzMFECamZmZmZkVQGZmZmZmZhRA\",\"dtype\":\"float64\",\"order\":\"little\",\"shape\":[150]},\"petal_width\":{\"__ndarray__\":\"mpmZmZmZyT+amZmZmZnJP5qZmZmZmck/mpmZmZmZyT+amZmZmZnJP5qZmZmZmdk/MzMzMzMz0z+amZmZmZnJP5qZmZmZmck/mpmZmZmZuT+amZmZmZnJP5qZmZmZmck/mpmZmZmZuT+amZmZmZm5P5qZmZmZmck/mpmZmZmZ2T+amZmZmZnZPzMzMzMzM9M/MzMzMzMz0z8zMzMzMzPTP5qZmZmZmck/mpmZmZmZ2T+amZmZmZnJPwAAAAAAAOA/mpmZmZmZyT+amZmZmZnJP5qZmZmZmdk/mpmZmZmZyT+amZmZmZnJP5qZmZmZmck/mpmZmZmZyT+amZmZmZnZP5qZmZmZmbk/mpmZmZmZyT+amZmZmZnJP5qZmZmZmck/mpmZmZmZyT+amZmZmZm5P5qZmZmZmck/mpmZmZmZyT8zMzMzMzPTPzMzMzMzM9M/mpmZmZmZyT8zMzMzMzPjP5qZmZmZmdk/MzMzMzMz0z+amZmZmZnJP5qZmZmZmck/mpmZmZmZyT+amZmZmZnJP2ZmZmZmZvY/AAAAAAAA+D8AAAAAAAD4P83MzMzMzPQ/AAAAAAAA+D/NzMzMzMz0P5qZmZmZmfk/AAAAAAAA8D/NzMzMzMz0P2ZmZmZmZvY/AAAAAAAA8D8AAAAAAAD4PwAAAAAAAPA/ZmZmZmZm9j/NzMzMzMz0P2ZmZmZmZvY/AAAAAAAA+D8AAAAAAADwPwAAAAAAAPg/mpmZmZmZ8T/NzMzMzMz8P83MzMzMzPQ/AAAAAAAA+D8zMzMzMzPzP83MzMzMzPQ/ZmZmZmZm9j9mZmZmZmb2PzMzMzMzM/s/AAAAAAAA+D8AAAAAAADwP5qZmZmZmfE/AAAAAAAA8D8zMzMzMzPzP5qZmZmZmfk/AAAAAAAA+D+amZmZmZn5PwAAAAAAAPg/zczMzMzM9D/NzMzMzMz0P83MzMzMzPQ/MzMzMzMz8z9mZmZmZmb2PzMzMzMzM/M/AAAAAAAA8D/NzMzMzMz0PzMzMzMzM/M/zczMzMzM9D/NzMzMzMz0P5qZmZmZmfE/zczMzMzM9D8AAAAAAAAEQGZmZmZmZv4/zczMzMzMAEDNzMzMzMz8P5qZmZmZmQFAzczMzMzMAEAzMzMzMzP7P83MzMzMzPw/zczMzMzM/D8AAAAAAAAEQAAAAAAAAABAZmZmZmZm/j/NzMzMzMwAQAAAAAAAAABAMzMzMzMzA0BmZmZmZmYCQM3MzMzMzPw/mpmZmZmZAUBmZmZmZmYCQAAAAAAAAPg/ZmZmZmZmAkAAAAAAAAAAQAAAAAAAAABAzczMzMzM/D/NzMzMzMwAQM3MzMzMzPw/zczMzMzM/D/NzMzMzMz8P83MzMzMzABAmpmZmZmZ+T9mZmZmZmb+PwAAAAAAAABAmpmZmZmZAUAAAAAAAAD4P2ZmZmZmZvY/ZmZmZmZmAkAzMzMzMzMDQM3MzMzMzPw/zczMzMzM/D/NzMzMzMwAQDMzMzMzMwNAZmZmZmZmAkBmZmZmZmb+P2ZmZmZmZgJAAAAAAAAABEBmZmZmZmYCQGZmZmZmZv4/AAAAAAAAAEBmZmZmZmYCQM3MzMzMzPw/\",\"dtype\":\"float64\",\"order\":\"little\",\"shape\":[150]},\"sepal_length\":{\"__ndarray__\":\"ZmZmZmZmFECamZmZmZkTQM3MzMzMzBJAZmZmZmZmEkAAAAAAAAAUQJqZmZmZmRVAZmZmZmZmEkAAAAAAAAAUQJqZmZmZmRFAmpmZmZmZE0CamZmZmZkVQDMzMzMzMxNAMzMzMzMzE0AzMzMzMzMRQDMzMzMzMxdAzczMzMzMFkCamZmZmZkVQGZmZmZmZhRAzczMzMzMFkBmZmZmZmYUQJqZmZmZmRVAZmZmZmZmFEBmZmZmZmYSQGZmZmZmZhRAMzMzMzMzE0AAAAAAAAAUQAAAAAAAABRAzczMzMzMFEDNzMzMzMwUQM3MzMzMzBJAMzMzMzMzE0CamZmZmZkVQM3MzMzMzBRAAAAAAAAAFkCamZmZmZkTQAAAAAAAABRAAAAAAAAAFkCamZmZmZkTQJqZmZmZmRFAZmZmZmZmFEAAAAAAAAAUQAAAAAAAABJAmpmZmZmZEUAAAAAAAAAUQGZmZmZmZhRAMzMzMzMzE0BmZmZmZmYUQGZmZmZmZhJAMzMzMzMzFUAAAAAAAAAUQAAAAAAAABxAmpmZmZmZGUCamZmZmZkbQAAAAAAAABZAAAAAAAAAGkDNzMzMzMwWQDMzMzMzMxlAmpmZmZmZE0BmZmZmZmYaQM3MzMzMzBRAAAAAAAAAFECamZmZmZkXQAAAAAAAABhAZmZmZmZmGEBmZmZmZmYWQM3MzMzMzBpAZmZmZmZmFkAzMzMzMzMXQM3MzMzMzBhAZmZmZmZmFkCamZmZmZkXQGZmZmZmZhhAMzMzMzMzGUBmZmZmZmYYQJqZmZmZmRlAZmZmZmZmGkAzMzMzMzMbQM3MzMzMzBpAAAAAAAAAGEDNzMzMzMwWQAAAAAAAABZAAAAAAAAAFkAzMzMzMzMXQAAAAAAAABhAmpmZmZmZFUAAAAAAAAAYQM3MzMzMzBpAMzMzMzMzGUBmZmZmZmYWQAAAAAAAABZAAAAAAAAAFkBmZmZmZmYYQDMzMzMzMxdAAAAAAAAAFEBmZmZmZmYWQM3MzMzMzBZAzczMzMzMFkDNzMzMzMwYQGZmZmZmZhRAzczMzMzMFkAzMzMzMzMZQDMzMzMzMxdAZmZmZmZmHEAzMzMzMzMZQAAAAAAAABpAZmZmZmZmHkCamZmZmZkTQDMzMzMzMx1AzczMzMzMGkDNzMzMzMwcQAAAAAAAABpAmpmZmZmZGUAzMzMzMzMbQM3MzMzMzBZAMzMzMzMzF0CamZmZmZkZQAAAAAAAABpAzczMzMzMHkDNzMzMzMweQAAAAAAAABhAmpmZmZmZG0BmZmZmZmYWQM3MzMzMzB5AMzMzMzMzGUDNzMzMzMwaQM3MzMzMzBxAzczMzMzMGEBmZmZmZmYYQJqZmZmZmRlAzczMzMzMHECamZmZmZkdQJqZmZmZmR9AmpmZmZmZGUAzMzMzMzMZQGZmZmZmZhhAzczMzMzMHkAzMzMzMzMZQJqZmZmZmRlAAAAAAAAAGECamZmZmZkbQM3MzMzMzBpAmpmZmZmZG0AzMzMzMzMXQDMzMzMzMxtAzczMzMzMGkDNzMzMzMwaQDMzMzMzMxlAAAAAAAAAGkDNzMzMzMwYQJqZmZmZmRdA\",\"dtype\":\"float64\",\"order\":\"little\",\"shape\":[150]},\"sepal_width\":{\"__ndarray__\":\"AAAAAAAADEAAAAAAAAAIQJqZmZmZmQlAzczMzMzMCEDNzMzMzMwMQDMzMzMzMw9AMzMzMzMzC0AzMzMzMzMLQDMzMzMzMwdAzczMzMzMCECamZmZmZkNQDMzMzMzMwtAAAAAAAAACEAAAAAAAAAIQAAAAAAAABBAmpmZmZmZEUAzMzMzMzMPQAAAAAAAAAxAZmZmZmZmDkBmZmZmZmYOQDMzMzMzMwtAmpmZmZmZDUDNzMzMzMwMQGZmZmZmZgpAMzMzMzMzC0AAAAAAAAAIQDMzMzMzMwtAAAAAAAAADEAzMzMzMzMLQJqZmZmZmQlAzczMzMzMCEAzMzMzMzMLQGZmZmZmZhBAzczMzMzMEEDNzMzMzMwIQJqZmZmZmQlAAAAAAAAADEDNzMzMzMwMQAAAAAAAAAhAMzMzMzMzC0AAAAAAAAAMQGZmZmZmZgJAmpmZmZmZCUAAAAAAAAAMQGZmZmZmZg5AAAAAAAAACEBmZmZmZmYOQJqZmZmZmQlAmpmZmZmZDUBmZmZmZmYKQJqZmZmZmQlAmpmZmZmZCUDNzMzMzMwIQGZmZmZmZgJAZmZmZmZmBkBmZmZmZmYGQGZmZmZmZgpAMzMzMzMzA0AzMzMzMzMHQJqZmZmZmQVAAAAAAAAAAEAAAAAAAAAIQJqZmZmZmQFAMzMzMzMzB0AzMzMzMzMHQM3MzMzMzAhAAAAAAAAACECamZmZmZkFQJqZmZmZmQFAAAAAAAAABECamZmZmZkJQGZmZmZmZgZAAAAAAAAABEBmZmZmZmYGQDMzMzMzMwdAAAAAAAAACEBmZmZmZmYGQAAAAAAAAAhAMzMzMzMzB0DNzMzMzMwEQDMzMzMzMwNAMzMzMzMzA0CamZmZmZkFQJqZmZmZmQVAAAAAAAAACEAzMzMzMzMLQM3MzMzMzAhAZmZmZmZmAkAAAAAAAAAIQAAAAAAAAARAzczMzMzMBEAAAAAAAAAIQM3MzMzMzARAZmZmZmZmAkCamZmZmZkFQAAAAAAAAAhAMzMzMzMzB0AzMzMzMzMHQAAAAAAAAARAZmZmZmZmBkBmZmZmZmYKQJqZmZmZmQVAAAAAAAAACEAzMzMzMzMHQAAAAAAAAAhAAAAAAAAACEAAAAAAAAAEQDMzMzMzMwdAAAAAAAAABEDNzMzMzMwMQJqZmZmZmQlAmpmZmZmZBUAAAAAAAAAIQAAAAAAAAARAZmZmZmZmBkCamZmZmZkJQAAAAAAAAAhAZmZmZmZmDkDNzMzMzMwEQJqZmZmZmQFAmpmZmZmZCUBmZmZmZmYGQGZmZmZmZgZAmpmZmZmZBUBmZmZmZmYKQJqZmZmZmQlAZmZmZmZmBkAAAAAAAAAIQGZmZmZmZgZAAAAAAAAACEBmZmZmZmYGQGZmZmZmZg5AZmZmZmZmBkBmZmZmZmYGQM3MzMzMzARAAAAAAAAACEAzMzMzMzMLQM3MzMzMzAhAAAAAAAAACEDNzMzMzMwIQM3MzMzMzAhAzczMzMzMCECamZmZmZkFQJqZmZmZmQlAZmZmZmZmCkAAAAAAAAAIQAAAAAAAAARAAAAAAAAACEAzMzMzMzMLQAAAAAAAAAhA\",\"dtype\":\"float64\",\"order\":\"little\",\"shape\":[150]},\"species\":[\"setosa\",\"setosa\",\"setosa\",\"setosa\",\"setosa\",\"setosa\",\"setosa\",\"setosa\",\"setosa\",\"setosa\",\"setosa\",\"setosa\",\"setosa\",\"setosa\",\"setosa\",\"setosa\",\"setosa\",\"setosa\",\"setosa\",\"setosa\",\"setosa\",\"setosa\",\"setosa\",\"setosa\",\"setosa\",\"setosa\",\"setosa\",\"setosa\",\"setosa\",\"setosa\",\"setosa\",\"setosa\",\"setosa\",\"setosa\",\"setosa\",\"setosa\",\"setosa\",\"setosa\",\"setosa\",\"setosa\",\"setosa\",\"setosa\",\"setosa\",\"setosa\",\"setosa\",\"setosa\",\"setosa\",\"setosa\",\"setosa\",\"setosa\",\"versicolor\",\"versicolor\",\"versicolor\",\"versicolor\",\"versicolor\",\"versicolor\",\"versicolor\",\"versicolor\",\"versicolor\",\"versicolor\",\"versicolor\",\"versicolor\",\"versicolor\",\"versicolor\",\"versicolor\",\"versicolor\",\"versicolor\",\"versicolor\",\"versicolor\",\"versicolor\",\"versicolor\",\"versicolor\",\"versicolor\",\"versicolor\",\"versicolor\",\"versicolor\",\"versicolor\",\"versicolor\",\"versicolor\",\"versicolor\",\"versicolor\",\"versicolor\",\"versicolor\",\"versicolor\",\"versicolor\",\"versicolor\",\"versicolor\",\"versicolor\",\"versicolor\",\"versicolor\",\"versicolor\",\"versicolor\",\"versicolor\",\"versicolor\",\"versicolor\",\"versicolor\",\"versicolor\",\"versicolor\",\"versicolor\",\"versicolor\",\"virginica\",\"virginica\",\"virginica\",\"virginica\",\"virginica\",\"virginica\",\"virginica\",\"virginica\",\"virginica\",\"virginica\",\"virginica\",\"virginica\",\"virginica\",\"virginica\",\"virginica\",\"virginica\",\"virginica\",\"virginica\",\"virginica\",\"virginica\",\"virginica\",\"virginica\",\"virginica\",\"virginica\",\"virginica\",\"virginica\",\"virginica\",\"virginica\",\"virginica\",\"virginica\",\"virginica\",\"virginica\",\"virginica\",\"virginica\",\"virginica\",\"virginica\",\"virginica\",\"virginica\",\"virginica\",\"virginica\",\"virginica\",\"virginica\",\"virginica\",\"virginica\",\"virginica\",\"virginica\",\"virginica\",\"virginica\",\"virginica\",\"virginica\"]},\"selected\":{\"id\":\"69878\"},\"selection_policy\":{\"id\":\"69877\"}},\"id\":\"68852\",\"type\":\"ColumnDataSource\"},{\"attributes\":{},\"id\":\"69878\",\"type\":\"Selection\"},{\"attributes\":{\"fill_alpha\":{\"value\":0.1},\"fill_color\":{\"value\":\"#1f77b4\"},\"hatch_alpha\":{\"value\":0.1},\"line_alpha\":{\"value\":0.1},\"line_color\":{\"value\":\"#1f77b4\"},\"x\":{\"field\":\"petal_length\"},\"y\":{\"field\":\"petal_width\"}},\"id\":\"68886\",\"type\":\"Circle\"},{\"attributes\":{\"coordinates\":null,\"data_source\":{\"id\":\"68852\"},\"glyph\":{\"id\":\"68885\"},\"group\":null,\"hover_glyph\":null,\"muted_glyph\":{\"id\":\"68887\"},\"nonselection_glyph\":{\"id\":\"68886\"},\"view\":{\"id\":\"68889\"}},\"id\":\"68888\",\"type\":\"GlyphRenderer\"},{\"attributes\":{},\"id\":\"68867\",\"type\":\"BasicTicker\"},{\"attributes\":{},\"id\":\"68854\",\"type\":\"DataRange1d\"},{\"attributes\":{\"source\":{\"id\":\"68852\"}},\"id\":\"68889\",\"type\":\"CDSView\"},{\"attributes\":{},\"id\":\"68875\",\"type\":\"HelpTool\"},{\"attributes\":{},\"id\":\"68858\",\"type\":\"LinearScale\"},{\"attributes\":{\"coordinates\":null,\"formatter\":{\"id\":\"69872\"},\"group\":null,\"major_label_policy\":{\"id\":\"69873\"},\"ticker\":{\"id\":\"68867\"}},\"id\":\"68866\",\"type\":\"LinearAxis\"},{\"attributes\":{},\"id\":\"68860\",\"type\":\"LinearScale\"},{\"attributes\":{},\"id\":\"68871\",\"type\":\"WheelZoomTool\"},{\"attributes\":{\"fill_color\":{\"value\":\"#1f77b4\"},\"line_color\":{\"value\":\"#1f77b4\"},\"x\":{\"field\":\"petal_length\"},\"y\":{\"field\":\"petal_width\"}},\"id\":\"68885\",\"type\":\"Circle\"},{\"attributes\":{},\"id\":\"68856\",\"type\":\"DataRange1d\"},{\"attributes\":{\"coordinates\":null,\"formatter\":{\"id\":\"69875\"},\"group\":null,\"major_label_policy\":{\"id\":\"69876\"},\"ticker\":{\"id\":\"68863\"}},\"id\":\"68862\",\"type\":\"LinearAxis\"},{\"attributes\":{\"axis\":{\"id\":\"68862\"},\"coordinates\":null,\"group\":null,\"ticker\":null},\"id\":\"68865\",\"type\":\"Grid\"},{\"attributes\":{\"overlay\":{\"id\":\"68876\"}},\"id\":\"68872\",\"type\":\"BoxZoomTool\"},{\"attributes\":{},\"id\":\"68863\",\"type\":\"BasicTicker\"},{\"attributes\":{\"axis\":{\"id\":\"68866\"},\"coordinates\":null,\"dimension\":1,\"group\":null,\"ticker\":null},\"id\":\"68869\",\"type\":\"Grid\"},{\"attributes\":{},\"id\":\"68873\",\"type\":\"SaveTool\"},{\"attributes\":{},\"id\":\"69872\",\"type\":\"BasicTickFormatter\"},{\"attributes\":{},\"id\":\"68870\",\"type\":\"PanTool\"},{\"attributes\":{\"fill_alpha\":{\"value\":0.2},\"fill_color\":{\"value\":\"#1f77b4\"},\"hatch_alpha\":{\"value\":0.2},\"line_alpha\":{\"value\":0.2},\"line_color\":{\"value\":\"#1f77b4\"},\"x\":{\"field\":\"petal_length\"},\"y\":{\"field\":\"petal_width\"}},\"id\":\"68887\",\"type\":\"Circle\"},{\"attributes\":{},\"id\":\"69873\",\"type\":\"AllLabels\"},{\"attributes\":{\"bottom_units\":\"screen\",\"coordinates\":null,\"fill_alpha\":0.5,\"fill_color\":\"lightgrey\",\"group\":null,\"left_units\":\"screen\",\"level\":\"overlay\",\"line_alpha\":1.0,\"line_color\":\"black\",\"line_dash\":[4,4],\"line_width\":2,\"right_units\":\"screen\",\"syncable\":false,\"top_units\":\"screen\"},\"id\":\"68876\",\"type\":\"BoxAnnotation\"},{\"attributes\":{},\"id\":\"68874\",\"type\":\"ResetTool\"},{\"attributes\":{},\"id\":\"69875\",\"type\":\"BasicTickFormatter\"},{\"attributes\":{},\"id\":\"69876\",\"type\":\"AllLabels\"},{\"attributes\":{\"tools\":[{\"id\":\"68870\"},{\"id\":\"68871\"},{\"id\":\"68872\"},{\"id\":\"68873\"},{\"id\":\"68874\"},{\"id\":\"68875\"}]},\"id\":\"68877\",\"type\":\"Toolbar\"}],\"root_ids\":[\"68853\"]},\"title\":\"Bokeh Application\",\"version\":\"2.4.3\"}};\n",
       "  const render_items = [{\"docid\":\"3152062b-690e-4c6d-a0d7-1e7de1a347b9\",\"root_ids\":[\"68853\"],\"roots\":{\"68853\":\"046d7bcc-9f88-4aa2-aa76-11b54bb9f066\"}}];\n",
       "  root.Bokeh.embed.embed_items_notebook(docs_json, render_items);\n",
       "  }\n",
       "  if (root.Bokeh !== undefined) {\n",
       "    embed_document(root);\n",
       "  } else {\n",
       "    let attempts = 0;\n",
       "    const timer = setInterval(function(root) {\n",
       "      if (root.Bokeh !== undefined) {\n",
       "        clearInterval(timer);\n",
       "        embed_document(root);\n",
       "      } else {\n",
       "        attempts++;\n",
       "        if (attempts > 100) {\n",
       "          clearInterval(timer);\n",
       "          console.log(\"Bokeh: ERROR: Unable to run BokehJS code because BokehJS library is missing\");\n",
       "        }\n",
       "      }\n",
       "    }, 10, root)\n",
       "  }\n",
       "})(window);"
      ],
      "application/vnd.bokehjs_exec.v0+json": ""
     },
     "metadata": {
      "application/vnd.bokehjs_exec.v0+json": {
       "id": "68853"
      }
     },
     "output_type": "display_data"
    }
   ],
   "source": [
    "from bokeh.sampledata.iris import flowers as df\n",
    "\n",
    "source = ColumnDataSource(df)\n",
    "\n",
    "p = figure(plot_width=400, plot_height=400)\n",
    "p.circle('petal_length', 'petal_width', source=source)\n",
    "show(p)"
   ]
  },
  {
   "cell_type": "markdown",
   "metadata": {},
   "source": [
    "## Automatic Conversion\n",
    "\n",
    "If you do not need to share data sources, it may be convenient to pass dicts, Pandas `DataFrame` or `GroupBy` objects directly to glhyph methods, without explicitly creating a `ColumnDataSource`. In this case, a `ColumnDataSource` will be created automatically."
   ]
  },
  {
   "cell_type": "code",
   "execution_count": 152,
   "metadata": {},
   "outputs": [
    {
     "data": {
      "text/html": [
       "\n",
       "  <div class=\"bk-root\" id=\"bfdb3fb8-374c-4a44-a3aa-ad0e7cf32167\" data-root-id=\"69935\"></div>\n"
      ]
     },
     "metadata": {},
     "output_type": "display_data"
    },
    {
     "data": {
      "application/javascript": [
       "(function(root) {\n",
       "  function embed_document(root) {\n",
       "  const docs_json = {\"7fba973a-cd0e-43c3-8baf-1dfa06f7b0d3\":{\"defs\":[],\"roots\":{\"references\":[{\"attributes\":{\"below\":[{\"id\":\"69944\"}],\"center\":[{\"id\":\"69947\"},{\"id\":\"69951\"}],\"height\":400,\"left\":[{\"id\":\"69948\"}],\"renderers\":[{\"id\":\"69971\"}],\"title\":{\"id\":\"70963\"},\"toolbar\":{\"id\":\"69959\"},\"width\":400,\"x_range\":{\"id\":\"69936\"},\"x_scale\":{\"id\":\"69940\"},\"y_range\":{\"id\":\"69938\"},\"y_scale\":{\"id\":\"69942\"}},\"id\":\"69935\",\"subtype\":\"Figure\",\"type\":\"Plot\"},{\"attributes\":{\"coordinates\":null,\"group\":null},\"id\":\"70963\",\"type\":\"Title\"},{\"attributes\":{},\"id\":\"70967\",\"type\":\"AllLabels\"},{\"attributes\":{},\"id\":\"70969\",\"type\":\"BasicTickFormatter\"},{\"attributes\":{\"coordinates\":null,\"formatter\":{\"id\":\"70969\"},\"group\":null,\"major_label_policy\":{\"id\":\"70970\"},\"ticker\":{\"id\":\"69945\"}},\"id\":\"69944\",\"type\":\"LinearAxis\"},{\"attributes\":{\"tools\":[{\"id\":\"69952\"},{\"id\":\"69953\"},{\"id\":\"69954\"},{\"id\":\"69955\"},{\"id\":\"69956\"},{\"id\":\"69957\"}]},\"id\":\"69959\",\"type\":\"Toolbar\"},{\"attributes\":{},\"id\":\"70966\",\"type\":\"BasicTickFormatter\"},{\"attributes\":{},\"id\":\"69936\",\"type\":\"DataRange1d\"},{\"attributes\":{},\"id\":\"69942\",\"type\":\"LinearScale\"},{\"attributes\":{},\"id\":\"69940\",\"type\":\"LinearScale\"},{\"attributes\":{\"data\":{\"index\":[0,1,2,3,4,5,6,7,8,9,10,11,12,13,14,15,16,17,18,19,20,21,22,23,24,25,26,27,28,29,30,31,32,33,34,35,36,37,38,39,40,41,42,43,44,45,46,47,48,49,50,51,52,53,54,55,56,57,58,59,60,61,62,63,64,65,66,67,68,69,70,71,72,73,74,75,76,77,78,79,80,81,82,83,84,85,86,87,88,89,90,91,92,93,94,95,96,97,98,99,100,101,102,103,104,105,106,107,108,109,110,111,112,113,114,115,116,117,118,119,120,121,122,123,124,125,126,127,128,129,130,131,132,133,134,135,136,137,138,139,140,141,142,143,144,145,146,147,148,149],\"petal_length\":{\"__ndarray__\":\"ZmZmZmZm9j9mZmZmZmb2P83MzMzMzPQ/AAAAAAAA+D9mZmZmZmb2PzMzMzMzM/s/ZmZmZmZm9j8AAAAAAAD4P2ZmZmZmZvY/AAAAAAAA+D8AAAAAAAD4P5qZmZmZmfk/ZmZmZmZm9j+amZmZmZnxPzMzMzMzM/M/AAAAAAAA+D/NzMzMzMz0P2ZmZmZmZvY/MzMzMzMz+z8AAAAAAAD4PzMzMzMzM/s/AAAAAAAA+D8AAAAAAADwPzMzMzMzM/s/ZmZmZmZm/j+amZmZmZn5P5qZmZmZmfk/AAAAAAAA+D9mZmZmZmb2P5qZmZmZmfk/mpmZmZmZ+T8AAAAAAAD4PwAAAAAAAPg/ZmZmZmZm9j8AAAAAAAD4PzMzMzMzM/M/zczMzMzM9D9mZmZmZmb2P83MzMzMzPQ/AAAAAAAA+D/NzMzMzMz0P83MzMzMzPQ/zczMzMzM9D+amZmZmZn5P2ZmZmZmZv4/ZmZmZmZm9j+amZmZmZn5P2ZmZmZmZvY/AAAAAAAA+D9mZmZmZmb2P83MzMzMzBJAAAAAAAAAEkCamZmZmZkTQAAAAAAAABBAZmZmZmZmEkAAAAAAAAASQM3MzMzMzBJAZmZmZmZmCkBmZmZmZmYSQDMzMzMzMw9AAAAAAAAADEDNzMzMzMwQQAAAAAAAABBAzczMzMzMEkDNzMzMzMwMQJqZmZmZmRFAAAAAAAAAEkBmZmZmZmYQQAAAAAAAABJAMzMzMzMzD0AzMzMzMzMTQAAAAAAAABBAmpmZmZmZE0DNzMzMzMwSQDMzMzMzMxFAmpmZmZmZEUAzMzMzMzMTQAAAAAAAABRAAAAAAAAAEkAAAAAAAAAMQGZmZmZmZg5AmpmZmZmZDUAzMzMzMzMPQGZmZmZmZhRAAAAAAAAAEkAAAAAAAAASQM3MzMzMzBJAmpmZmZmZEUBmZmZmZmYQQAAAAAAAABBAmpmZmZmZEUBmZmZmZmYSQAAAAAAAABBAZmZmZmZmCkDNzMzMzMwQQM3MzMzMzBBAzczMzMzMEEAzMzMzMzMRQAAAAAAAAAhAZmZmZmZmEEAAAAAAAAAYQGZmZmZmZhRAmpmZmZmZF0BmZmZmZmYWQDMzMzMzMxdAZmZmZmZmGkAAAAAAAAASQDMzMzMzMxlAMzMzMzMzF0BmZmZmZmYYQGZmZmZmZhRAMzMzMzMzFUAAAAAAAAAWQAAAAAAAABRAZmZmZmZmFEAzMzMzMzMVQAAAAAAAABZAzczMzMzMGkCamZmZmZkbQAAAAAAAABRAzczMzMzMFkCamZmZmZkTQM3MzMzMzBpAmpmZmZmZE0DNzMzMzMwWQAAAAAAAABhAMzMzMzMzE0CamZmZmZkTQGZmZmZmZhZAMzMzMzMzF0BmZmZmZmYYQJqZmZmZmRlAZmZmZmZmFkBmZmZmZmYUQGZmZmZmZhZAZmZmZmZmGEBmZmZmZmYWQAAAAAAAABZAMzMzMzMzE0CamZmZmZkVQGZmZmZmZhZAZmZmZmZmFEBmZmZmZmYUQJqZmZmZmRdAzczMzMzMFkDNzMzMzMwUQAAAAAAAABRAzczMzMzMFECamZmZmZkVQGZmZmZmZhRA\",\"dtype\":\"float64\",\"order\":\"little\",\"shape\":[150]},\"petal_width\":{\"__ndarray__\":\"mpmZmZmZyT+amZmZmZnJP5qZmZmZmck/mpmZmZmZyT+amZmZmZnJP5qZmZmZmdk/MzMzMzMz0z+amZmZmZnJP5qZmZmZmck/mpmZmZmZuT+amZmZmZnJP5qZmZmZmck/mpmZmZmZuT+amZmZmZm5P5qZmZmZmck/mpmZmZmZ2T+amZmZmZnZPzMzMzMzM9M/MzMzMzMz0z8zMzMzMzPTP5qZmZmZmck/mpmZmZmZ2T+amZmZmZnJPwAAAAAAAOA/mpmZmZmZyT+amZmZmZnJP5qZmZmZmdk/mpmZmZmZyT+amZmZmZnJP5qZmZmZmck/mpmZmZmZyT+amZmZmZnZP5qZmZmZmbk/mpmZmZmZyT+amZmZmZnJP5qZmZmZmck/mpmZmZmZyT+amZmZmZm5P5qZmZmZmck/mpmZmZmZyT8zMzMzMzPTPzMzMzMzM9M/mpmZmZmZyT8zMzMzMzPjP5qZmZmZmdk/MzMzMzMz0z+amZmZmZnJP5qZmZmZmck/mpmZmZmZyT+amZmZmZnJP2ZmZmZmZvY/AAAAAAAA+D8AAAAAAAD4P83MzMzMzPQ/AAAAAAAA+D/NzMzMzMz0P5qZmZmZmfk/AAAAAAAA8D/NzMzMzMz0P2ZmZmZmZvY/AAAAAAAA8D8AAAAAAAD4PwAAAAAAAPA/ZmZmZmZm9j/NzMzMzMz0P2ZmZmZmZvY/AAAAAAAA+D8AAAAAAADwPwAAAAAAAPg/mpmZmZmZ8T/NzMzMzMz8P83MzMzMzPQ/AAAAAAAA+D8zMzMzMzPzP83MzMzMzPQ/ZmZmZmZm9j9mZmZmZmb2PzMzMzMzM/s/AAAAAAAA+D8AAAAAAADwP5qZmZmZmfE/AAAAAAAA8D8zMzMzMzPzP5qZmZmZmfk/AAAAAAAA+D+amZmZmZn5PwAAAAAAAPg/zczMzMzM9D/NzMzMzMz0P83MzMzMzPQ/MzMzMzMz8z9mZmZmZmb2PzMzMzMzM/M/AAAAAAAA8D/NzMzMzMz0PzMzMzMzM/M/zczMzMzM9D/NzMzMzMz0P5qZmZmZmfE/zczMzMzM9D8AAAAAAAAEQGZmZmZmZv4/zczMzMzMAEDNzMzMzMz8P5qZmZmZmQFAzczMzMzMAEAzMzMzMzP7P83MzMzMzPw/zczMzMzM/D8AAAAAAAAEQAAAAAAAAABAZmZmZmZm/j/NzMzMzMwAQAAAAAAAAABAMzMzMzMzA0BmZmZmZmYCQM3MzMzMzPw/mpmZmZmZAUBmZmZmZmYCQAAAAAAAAPg/ZmZmZmZmAkAAAAAAAAAAQAAAAAAAAABAzczMzMzM/D/NzMzMzMwAQM3MzMzMzPw/zczMzMzM/D/NzMzMzMz8P83MzMzMzABAmpmZmZmZ+T9mZmZmZmb+PwAAAAAAAABAmpmZmZmZAUAAAAAAAAD4P2ZmZmZmZvY/ZmZmZmZmAkAzMzMzMzMDQM3MzMzMzPw/zczMzMzM/D/NzMzMzMwAQDMzMzMzMwNAZmZmZmZmAkBmZmZmZmb+P2ZmZmZmZgJAAAAAAAAABEBmZmZmZmYCQGZmZmZmZv4/AAAAAAAAAEBmZmZmZmYCQM3MzMzMzPw/\",\"dtype\":\"float64\",\"order\":\"little\",\"shape\":[150]},\"sepal_length\":{\"__ndarray__\":\"ZmZmZmZmFECamZmZmZkTQM3MzMzMzBJAZmZmZmZmEkAAAAAAAAAUQJqZmZmZmRVAZmZmZmZmEkAAAAAAAAAUQJqZmZmZmRFAmpmZmZmZE0CamZmZmZkVQDMzMzMzMxNAMzMzMzMzE0AzMzMzMzMRQDMzMzMzMxdAzczMzMzMFkCamZmZmZkVQGZmZmZmZhRAzczMzMzMFkBmZmZmZmYUQJqZmZmZmRVAZmZmZmZmFEBmZmZmZmYSQGZmZmZmZhRAMzMzMzMzE0AAAAAAAAAUQAAAAAAAABRAzczMzMzMFEDNzMzMzMwUQM3MzMzMzBJAMzMzMzMzE0CamZmZmZkVQM3MzMzMzBRAAAAAAAAAFkCamZmZmZkTQAAAAAAAABRAAAAAAAAAFkCamZmZmZkTQJqZmZmZmRFAZmZmZmZmFEAAAAAAAAAUQAAAAAAAABJAmpmZmZmZEUAAAAAAAAAUQGZmZmZmZhRAMzMzMzMzE0BmZmZmZmYUQGZmZmZmZhJAMzMzMzMzFUAAAAAAAAAUQAAAAAAAABxAmpmZmZmZGUCamZmZmZkbQAAAAAAAABZAAAAAAAAAGkDNzMzMzMwWQDMzMzMzMxlAmpmZmZmZE0BmZmZmZmYaQM3MzMzMzBRAAAAAAAAAFECamZmZmZkXQAAAAAAAABhAZmZmZmZmGEBmZmZmZmYWQM3MzMzMzBpAZmZmZmZmFkAzMzMzMzMXQM3MzMzMzBhAZmZmZmZmFkCamZmZmZkXQGZmZmZmZhhAMzMzMzMzGUBmZmZmZmYYQJqZmZmZmRlAZmZmZmZmGkAzMzMzMzMbQM3MzMzMzBpAAAAAAAAAGEDNzMzMzMwWQAAAAAAAABZAAAAAAAAAFkAzMzMzMzMXQAAAAAAAABhAmpmZmZmZFUAAAAAAAAAYQM3MzMzMzBpAMzMzMzMzGUBmZmZmZmYWQAAAAAAAABZAAAAAAAAAFkBmZmZmZmYYQDMzMzMzMxdAAAAAAAAAFEBmZmZmZmYWQM3MzMzMzBZAzczMzMzMFkDNzMzMzMwYQGZmZmZmZhRAzczMzMzMFkAzMzMzMzMZQDMzMzMzMxdAZmZmZmZmHEAzMzMzMzMZQAAAAAAAABpAZmZmZmZmHkCamZmZmZkTQDMzMzMzMx1AzczMzMzMGkDNzMzMzMwcQAAAAAAAABpAmpmZmZmZGUAzMzMzMzMbQM3MzMzMzBZAMzMzMzMzF0CamZmZmZkZQAAAAAAAABpAzczMzMzMHkDNzMzMzMweQAAAAAAAABhAmpmZmZmZG0BmZmZmZmYWQM3MzMzMzB5AMzMzMzMzGUDNzMzMzMwaQM3MzMzMzBxAzczMzMzMGEBmZmZmZmYYQJqZmZmZmRlAzczMzMzMHECamZmZmZkdQJqZmZmZmR9AmpmZmZmZGUAzMzMzMzMZQGZmZmZmZhhAzczMzMzMHkAzMzMzMzMZQJqZmZmZmRlAAAAAAAAAGECamZmZmZkbQM3MzMzMzBpAmpmZmZmZG0AzMzMzMzMXQDMzMzMzMxtAzczMzMzMGkDNzMzMzMwaQDMzMzMzMxlAAAAAAAAAGkDNzMzMzMwYQJqZmZmZmRdA\",\"dtype\":\"float64\",\"order\":\"little\",\"shape\":[150]},\"sepal_width\":{\"__ndarray__\":\"AAAAAAAADEAAAAAAAAAIQJqZmZmZmQlAzczMzMzMCEDNzMzMzMwMQDMzMzMzMw9AMzMzMzMzC0AzMzMzMzMLQDMzMzMzMwdAzczMzMzMCECamZmZmZkNQDMzMzMzMwtAAAAAAAAACEAAAAAAAAAIQAAAAAAAABBAmpmZmZmZEUAzMzMzMzMPQAAAAAAAAAxAZmZmZmZmDkBmZmZmZmYOQDMzMzMzMwtAmpmZmZmZDUDNzMzMzMwMQGZmZmZmZgpAMzMzMzMzC0AAAAAAAAAIQDMzMzMzMwtAAAAAAAAADEAzMzMzMzMLQJqZmZmZmQlAzczMzMzMCEAzMzMzMzMLQGZmZmZmZhBAzczMzMzMEEDNzMzMzMwIQJqZmZmZmQlAAAAAAAAADEDNzMzMzMwMQAAAAAAAAAhAMzMzMzMzC0AAAAAAAAAMQGZmZmZmZgJAmpmZmZmZCUAAAAAAAAAMQGZmZmZmZg5AAAAAAAAACEBmZmZmZmYOQJqZmZmZmQlAmpmZmZmZDUBmZmZmZmYKQJqZmZmZmQlAmpmZmZmZCUDNzMzMzMwIQGZmZmZmZgJAZmZmZmZmBkBmZmZmZmYGQGZmZmZmZgpAMzMzMzMzA0AzMzMzMzMHQJqZmZmZmQVAAAAAAAAAAEAAAAAAAAAIQJqZmZmZmQFAMzMzMzMzB0AzMzMzMzMHQM3MzMzMzAhAAAAAAAAACECamZmZmZkFQJqZmZmZmQFAAAAAAAAABECamZmZmZkJQGZmZmZmZgZAAAAAAAAABEBmZmZmZmYGQDMzMzMzMwdAAAAAAAAACEBmZmZmZmYGQAAAAAAAAAhAMzMzMzMzB0DNzMzMzMwEQDMzMzMzMwNAMzMzMzMzA0CamZmZmZkFQJqZmZmZmQVAAAAAAAAACEAzMzMzMzMLQM3MzMzMzAhAZmZmZmZmAkAAAAAAAAAIQAAAAAAAAARAzczMzMzMBEAAAAAAAAAIQM3MzMzMzARAZmZmZmZmAkCamZmZmZkFQAAAAAAAAAhAMzMzMzMzB0AzMzMzMzMHQAAAAAAAAARAZmZmZmZmBkBmZmZmZmYKQJqZmZmZmQVAAAAAAAAACEAzMzMzMzMHQAAAAAAAAAhAAAAAAAAACEAAAAAAAAAEQDMzMzMzMwdAAAAAAAAABEDNzMzMzMwMQJqZmZmZmQlAmpmZmZmZBUAAAAAAAAAIQAAAAAAAAARAZmZmZmZmBkCamZmZmZkJQAAAAAAAAAhAZmZmZmZmDkDNzMzMzMwEQJqZmZmZmQFAmpmZmZmZCUBmZmZmZmYGQGZmZmZmZgZAmpmZmZmZBUBmZmZmZmYKQJqZmZmZmQlAZmZmZmZmBkAAAAAAAAAIQGZmZmZmZgZAAAAAAAAACEBmZmZmZmYGQGZmZmZmZg5AZmZmZmZmBkBmZmZmZmYGQM3MzMzMzARAAAAAAAAACEAzMzMzMzMLQM3MzMzMzAhAAAAAAAAACEDNzMzMzMwIQM3MzMzMzAhAzczMzMzMCECamZmZmZkFQJqZmZmZmQlAZmZmZmZmCkAAAAAAAAAIQAAAAAAAAARAAAAAAAAACEAzMzMzMzMLQAAAAAAAAAhA\",\"dtype\":\"float64\",\"order\":\"little\",\"shape\":[150]},\"species\":[\"setosa\",\"setosa\",\"setosa\",\"setosa\",\"setosa\",\"setosa\",\"setosa\",\"setosa\",\"setosa\",\"setosa\",\"setosa\",\"setosa\",\"setosa\",\"setosa\",\"setosa\",\"setosa\",\"setosa\",\"setosa\",\"setosa\",\"setosa\",\"setosa\",\"setosa\",\"setosa\",\"setosa\",\"setosa\",\"setosa\",\"setosa\",\"setosa\",\"setosa\",\"setosa\",\"setosa\",\"setosa\",\"setosa\",\"setosa\",\"setosa\",\"setosa\",\"setosa\",\"setosa\",\"setosa\",\"setosa\",\"setosa\",\"setosa\",\"setosa\",\"setosa\",\"setosa\",\"setosa\",\"setosa\",\"setosa\",\"setosa\",\"setosa\",\"versicolor\",\"versicolor\",\"versicolor\",\"versicolor\",\"versicolor\",\"versicolor\",\"versicolor\",\"versicolor\",\"versicolor\",\"versicolor\",\"versicolor\",\"versicolor\",\"versicolor\",\"versicolor\",\"versicolor\",\"versicolor\",\"versicolor\",\"versicolor\",\"versicolor\",\"versicolor\",\"versicolor\",\"versicolor\",\"versicolor\",\"versicolor\",\"versicolor\",\"versicolor\",\"versicolor\",\"versicolor\",\"versicolor\",\"versicolor\",\"versicolor\",\"versicolor\",\"versicolor\",\"versicolor\",\"versicolor\",\"versicolor\",\"versicolor\",\"versicolor\",\"versicolor\",\"versicolor\",\"versicolor\",\"versicolor\",\"versicolor\",\"versicolor\",\"versicolor\",\"versicolor\",\"versicolor\",\"versicolor\",\"versicolor\",\"versicolor\",\"virginica\",\"virginica\",\"virginica\",\"virginica\",\"virginica\",\"virginica\",\"virginica\",\"virginica\",\"virginica\",\"virginica\",\"virginica\",\"virginica\",\"virginica\",\"virginica\",\"virginica\",\"virginica\",\"virginica\",\"virginica\",\"virginica\",\"virginica\",\"virginica\",\"virginica\",\"virginica\",\"virginica\",\"virginica\",\"virginica\",\"virginica\",\"virginica\",\"virginica\",\"virginica\",\"virginica\",\"virginica\",\"virginica\",\"virginica\",\"virginica\",\"virginica\",\"virginica\",\"virginica\",\"virginica\",\"virginica\",\"virginica\",\"virginica\",\"virginica\",\"virginica\",\"virginica\",\"virginica\",\"virginica\",\"virginica\",\"virginica\",\"virginica\"]},\"selected\":{\"id\":\"70972\"},\"selection_policy\":{\"id\":\"70971\"}},\"id\":\"69966\",\"type\":\"ColumnDataSource\"},{\"attributes\":{},\"id\":\"69938\",\"type\":\"DataRange1d\"},{\"attributes\":{},\"id\":\"69957\",\"type\":\"HelpTool\"},{\"attributes\":{},\"id\":\"70972\",\"type\":\"Selection\"},{\"attributes\":{},\"id\":\"69945\",\"type\":\"BasicTicker\"},{\"attributes\":{\"axis\":{\"id\":\"69944\"},\"coordinates\":null,\"group\":null,\"ticker\":null},\"id\":\"69947\",\"type\":\"Grid\"},{\"attributes\":{},\"id\":\"70970\",\"type\":\"AllLabels\"},{\"attributes\":{\"coordinates\":null,\"formatter\":{\"id\":\"70966\"},\"group\":null,\"major_label_policy\":{\"id\":\"70967\"},\"ticker\":{\"id\":\"69949\"}},\"id\":\"69948\",\"type\":\"LinearAxis\"},{\"attributes\":{},\"id\":\"69949\",\"type\":\"BasicTicker\"},{\"attributes\":{\"coordinates\":null,\"data_source\":{\"id\":\"69966\"},\"glyph\":{\"id\":\"69968\"},\"group\":null,\"hover_glyph\":null,\"muted_glyph\":{\"id\":\"69970\"},\"nonselection_glyph\":{\"id\":\"69969\"},\"view\":{\"id\":\"69972\"}},\"id\":\"69971\",\"type\":\"GlyphRenderer\"},{\"attributes\":{\"axis\":{\"id\":\"69948\"},\"coordinates\":null,\"dimension\":1,\"group\":null,\"ticker\":null},\"id\":\"69951\",\"type\":\"Grid\"},{\"attributes\":{\"fill_alpha\":{\"value\":0.1},\"fill_color\":{\"value\":\"green\"},\"hatch_alpha\":{\"value\":0.1},\"hatch_color\":{\"value\":\"green\"},\"line_alpha\":{\"value\":0.1},\"line_color\":{\"value\":\"green\"},\"x\":{\"field\":\"petal_length\"},\"y\":{\"field\":\"petal_width\"}},\"id\":\"69969\",\"type\":\"Circle\"},{\"attributes\":{\"fill_color\":{\"value\":\"green\"},\"hatch_color\":{\"value\":\"green\"},\"line_color\":{\"value\":\"green\"},\"x\":{\"field\":\"petal_length\"},\"y\":{\"field\":\"petal_width\"}},\"id\":\"69968\",\"type\":\"Circle\"},{\"attributes\":{\"fill_alpha\":{\"value\":0.2},\"fill_color\":{\"value\":\"green\"},\"hatch_alpha\":{\"value\":0.2},\"hatch_color\":{\"value\":\"green\"},\"line_alpha\":{\"value\":0.2},\"line_color\":{\"value\":\"green\"},\"x\":{\"field\":\"petal_length\"},\"y\":{\"field\":\"petal_width\"}},\"id\":\"69970\",\"type\":\"Circle\"},{\"attributes\":{\"source\":{\"id\":\"69966\"}},\"id\":\"69972\",\"type\":\"CDSView\"},{\"attributes\":{\"bottom_units\":\"screen\",\"coordinates\":null,\"fill_alpha\":0.5,\"fill_color\":\"lightgrey\",\"group\":null,\"left_units\":\"screen\",\"level\":\"overlay\",\"line_alpha\":1.0,\"line_color\":\"black\",\"line_dash\":[4,4],\"line_width\":2,\"right_units\":\"screen\",\"syncable\":false,\"top_units\":\"screen\"},\"id\":\"69958\",\"type\":\"BoxAnnotation\"},{\"attributes\":{},\"id\":\"70971\",\"type\":\"UnionRenderers\"},{\"attributes\":{},\"id\":\"69956\",\"type\":\"ResetTool\"},{\"attributes\":{},\"id\":\"69955\",\"type\":\"SaveTool\"},{\"attributes\":{\"overlay\":{\"id\":\"69958\"}},\"id\":\"69954\",\"type\":\"BoxZoomTool\"},{\"attributes\":{},\"id\":\"69952\",\"type\":\"PanTool\"},{\"attributes\":{},\"id\":\"69953\",\"type\":\"WheelZoomTool\"}],\"root_ids\":[\"69935\"]},\"title\":\"Bokeh Application\",\"version\":\"2.4.3\"}};\n",
       "  const render_items = [{\"docid\":\"7fba973a-cd0e-43c3-8baf-1dfa06f7b0d3\",\"root_ids\":[\"69935\"],\"roots\":{\"69935\":\"bfdb3fb8-374c-4a44-a3aa-ad0e7cf32167\"}}];\n",
       "  root.Bokeh.embed.embed_items_notebook(docs_json, render_items);\n",
       "  }\n",
       "  if (root.Bokeh !== undefined) {\n",
       "    embed_document(root);\n",
       "  } else {\n",
       "    let attempts = 0;\n",
       "    const timer = setInterval(function(root) {\n",
       "      if (root.Bokeh !== undefined) {\n",
       "        clearInterval(timer);\n",
       "        embed_document(root);\n",
       "      } else {\n",
       "        attempts++;\n",
       "        if (attempts > 100) {\n",
       "          clearInterval(timer);\n",
       "          console.log(\"Bokeh: ERROR: Unable to run BokehJS code because BokehJS library is missing\");\n",
       "        }\n",
       "      }\n",
       "    }, 10, root)\n",
       "  }\n",
       "})(window);"
      ],
      "application/vnd.bokehjs_exec.v0+json": ""
     },
     "metadata": {
      "application/vnd.bokehjs_exec.v0+json": {
       "id": "69935"
      }
     },
     "output_type": "display_data"
    }
   ],
   "source": [
    "from bokeh.sampledata.iris import flowers as df\n",
    "\n",
    "p = figure(plot_width=400, plot_height=400)\n",
    "p.circle('petal_length', 'petal_width', source=df, color='green')\n",
    "show(p)"
   ]
  },
  {
   "cell_type": "markdown",
   "metadata": {},
   "source": [
    "## Deal with datetime and categorical axes"
   ]
  },
  {
   "cell_type": "markdown",
   "metadata": {},
   "source": [
    "### Datetime axes\n",
    "Dealing with date and time series is another common task. Bokeh has a sophisticated `DatetimeAxis` that can change the displayed ticks based on the current scale of the plot. There are some inputs for which Bokeh will automatically default to DatetimeAxis, but you can always explicitly ask for one by passing the value \"datetime\" to the `x_axis_type` or `y_axis_type` parameters to `figure()`. A few things of interest to look out for in this example:\n",
    "\n",
    "- setting the width and height arguments to figure()\n",
    "- customizing plots and other objects by assigning values to their attributes\n",
    "- accessing guides and annotations with convenience Figure attributes: `legend, grid, xgrid, ygrid, axis, xaxis, yaxis`"
   ]
  },
  {
   "cell_type": "code",
   "execution_count": 153,
   "metadata": {},
   "outputs": [
    {
     "name": "stdout",
     "output_type": "stream",
     "text": [
      "Using data directory: C:\\Users\\vanli\\.bokeh\\data\n",
      "Skipping 'CGM.csv' (checksum match)\n",
      "Skipping 'US_Counties.zip' (checksum match)\n",
      "Skipping 'us_cities.json' (checksum match)\n",
      "Skipping 'unemployment09.csv' (checksum match)\n",
      "Skipping 'AAPL.csv' (checksum match)\n",
      "Skipping 'FB.csv' (checksum match)\n",
      "Skipping 'GOOG.csv' (checksum match)\n",
      "Skipping 'IBM.csv' (checksum match)\n",
      "Skipping 'MSFT.csv' (checksum match)\n",
      "Skipping 'WPP2012_SA_DB03_POPULATION_QUINQUENNIAL.zip' (checksum match)\n",
      "Skipping 'gapminder_fertility.csv' (checksum match)\n",
      "Skipping 'gapminder_population.csv' (checksum match)\n",
      "Skipping 'gapminder_life_expectancy.csv' (checksum match)\n",
      "Skipping 'gapminder_regions.csv' (checksum match)\n",
      "Skipping 'world_cities.zip' (checksum match)\n",
      "Skipping 'airports.json' (checksum match)\n",
      "Skipping 'movies.db.zip' (checksum match)\n",
      "Skipping 'airports.csv' (checksum match)\n",
      "Skipping 'routes.csv' (checksum match)\n",
      "Skipping 'haarcascade_frontalface_default.xml' (checksum match)\n"
     ]
    }
   ],
   "source": [
    "bokeh.sampledata.download()"
   ]
  },
  {
   "cell_type": "code",
   "execution_count": 154,
   "metadata": {},
   "outputs": [],
   "source": [
    "from bokeh.sampledata.stocks import AAPL"
   ]
  },
  {
   "cell_type": "code",
   "execution_count": 155,
   "metadata": {},
   "outputs": [
    {
     "data": {
      "text/html": [
       "\n",
       "  <div class=\"bk-root\" id=\"36cf6074-5a10-444d-8851-422aab2a5d3e\" data-root-id=\"71029\"></div>\n"
      ]
     },
     "metadata": {},
     "output_type": "display_data"
    },
    {
     "data": {
      "application/javascript": [
       "(function(root) {\n",
       "  function embed_document(root) {\n",
       "  const docs_json = {\"74b9137c-eb28-4060-85cc-7dfcde180a51\":{\"defs\":[],\"roots\":{\"references\":[{\"attributes\":{\"below\":[{\"id\":\"71038\"}],\"center\":[{\"id\":\"71041\"},{\"id\":\"71045\"},{\"id\":\"71089\"}],\"height\":350,\"left\":[{\"id\":\"71042\"}],\"renderers\":[{\"id\":\"71064\"},{\"id\":\"71095\"}],\"title\":{\"id\":\"71066\"},\"toolbar\":{\"id\":\"71053\"},\"width\":800,\"x_range\":{\"id\":\"71030\"},\"x_scale\":{\"id\":\"71034\"},\"y_range\":{\"id\":\"71032\"},\"y_scale\":{\"id\":\"71036\"}},\"id\":\"71029\",\"subtype\":\"Figure\",\"type\":\"Plot\"},{\"attributes\":{\"coordinates\":null,\"data_source\":{\"id\":\"71060\"},\"glyph\":{\"id\":\"71061\"},\"group\":null,\"hover_glyph\":null,\"muted_glyph\":{\"id\":\"71063\"},\"nonselection_glyph\":{\"id\":\"71062\"},\"view\":{\"id\":\"71065\"}},\"id\":\"71064\",\"type\":\"GlyphRenderer\"},{\"attributes\":{\"line_alpha\":0.1,\"line_color\":\"red\",\"x\":{\"field\":\"x\"},\"y\":{\"field\":\"y\"}},\"id\":\"71093\",\"type\":\"Line\"},{\"attributes\":{},\"id\":\"71051\",\"type\":\"HelpTool\"},{\"attributes\":{\"label\":{\"value\":\"close\"},\"renderers\":[{\"id\":\"71064\"}]},\"id\":\"71090\",\"type\":\"LegendItem\"},{\"attributes\":{\"tools\":[{\"id\":\"71046\"},{\"id\":\"71047\"},{\"id\":\"71048\"},{\"id\":\"71049\"},{\"id\":\"71050\"},{\"id\":\"71051\"}]},\"id\":\"71053\",\"type\":\"Toolbar\"},{\"attributes\":{\"line_alpha\":0.2,\"line_color\":\"red\",\"x\":{\"field\":\"x\"},\"y\":{\"field\":\"y\"}},\"id\":\"71094\",\"type\":\"Line\"},{\"attributes\":{\"axis_label\":\"Price\",\"coordinates\":null,\"formatter\":{\"id\":\"71069\"},\"group\":null,\"major_label_policy\":{\"id\":\"71070\"},\"ticker\":{\"id\":\"71043\"}},\"id\":\"71042\",\"type\":\"LinearAxis\"},{\"attributes\":{\"axis\":{\"id\":\"71042\"},\"band_fill_alpha\":0.1,\"band_fill_color\":\"gray\",\"coordinates\":null,\"dimension\":1,\"grid_line_alpha\":0,\"group\":null,\"ticker\":null},\"id\":\"71045\",\"type\":\"Grid\"},{\"attributes\":{},\"id\":\"71030\",\"type\":\"DataRange1d\"},{\"attributes\":{\"coordinates\":null,\"data_source\":{\"id\":\"71091\"},\"glyph\":{\"id\":\"71092\"},\"group\":null,\"hover_glyph\":null,\"muted_glyph\":{\"id\":\"71094\"},\"nonselection_glyph\":{\"id\":\"71093\"},\"view\":{\"id\":\"71096\"}},\"id\":\"71095\",\"type\":\"GlyphRenderer\"},{\"attributes\":{},\"id\":\"71043\",\"type\":\"BasicTicker\"},{\"attributes\":{\"fill_alpha\":{\"value\":0.1},\"fill_color\":{\"value\":\"darkgrey\"},\"hatch_alpha\":{\"value\":0.1},\"hatch_color\":{\"value\":\"darkgrey\"},\"line_alpha\":{\"value\":0.1},\"line_color\":{\"value\":\"darkgrey\"},\"x\":{\"field\":\"x\"},\"y\":{\"field\":\"y\"}},\"id\":\"71062\",\"type\":\"Circle\"},{\"attributes\":{\"source\":{\"id\":\"71091\"}},\"id\":\"71096\",\"type\":\"CDSView\"},{\"attributes\":{},\"id\":\"71034\",\"type\":\"LinearScale\"},{\"attributes\":{},\"id\":\"71075\",\"type\":\"Selection\"},{\"attributes\":{},\"id\":\"71108\",\"type\":\"Selection\"},{\"attributes\":{\"axis_label\":\"Date\",\"coordinates\":null,\"formatter\":{\"id\":\"71072\"},\"group\":null,\"major_label_policy\":{\"id\":\"71073\"},\"ticker\":{\"id\":\"71039\"}},\"id\":\"71038\",\"type\":\"DatetimeAxis\"},{\"attributes\":{},\"id\":\"71047\",\"type\":\"WheelZoomTool\"},{\"attributes\":{\"data\":{\"x\":{\"__ndarray__\":\"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\",\"dtype\":\"float64\",\"order\":\"little\",\"shape\":[3270]},\"y\":{\"__ndarray__\":\"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\",\"dtype\":\"float64\",\"order\":\"little\",\"shape\":[3270]}},\"selected\":{\"id\":\"71108\"},\"selection_policy\":{\"id\":\"71107\"}},\"id\":\"71091\",\"type\":\"ColumnDataSource\"},{\"attributes\":{},\"id\":\"71046\",\"type\":\"PanTool\"},{\"attributes\":{},\"id\":\"71032\",\"type\":\"DataRange1d\"},{\"attributes\":{\"overlay\":{\"id\":\"71052\"}},\"id\":\"71048\",\"type\":\"BoxZoomTool\"},{\"attributes\":{\"label\":{\"value\":\"avg\"},\"renderers\":[{\"id\":\"71095\"}]},\"id\":\"71122\",\"type\":\"LegendItem\"},{\"attributes\":{},\"id\":\"71036\",\"type\":\"LinearScale\"},{\"attributes\":{\"mantissas\":[1,2,5],\"max_interval\":500.0,\"num_minor_ticks\":0},\"id\":\"71077\",\"type\":\"AdaptiveTicker\"},{\"attributes\":{},\"id\":\"71070\",\"type\":\"AllLabels\"},{\"attributes\":{\"num_minor_ticks\":5,\"tickers\":[{\"id\":\"71077\"},{\"id\":\"71078\"},{\"id\":\"71079\"},{\"id\":\"71080\"},{\"id\":\"71081\"},{\"id\":\"71082\"},{\"id\":\"71083\"},{\"id\":\"71084\"},{\"id\":\"71085\"},{\"id\":\"71086\"},{\"id\":\"71087\"},{\"id\":\"71088\"}]},\"id\":\"71039\",\"type\":\"DatetimeTicker\"},{\"attributes\":{},\"id\":\"71069\",\"type\":\"BasicTickFormatter\"},{\"attributes\":{\"base\":60,\"mantissas\":[1,2,5,10,15,20,30],\"max_interval\":1800000.0,\"min_interval\":1000.0,\"num_minor_ticks\":0},\"id\":\"71078\",\"type\":\"AdaptiveTicker\"},{\"attributes\":{\"axis\":{\"id\":\"71038\"},\"coordinates\":null,\"grid_line_alpha\":0,\"group\":null,\"ticker\":null},\"id\":\"71041\",\"type\":\"Grid\"},{\"attributes\":{\"base\":24,\"mantissas\":[1,2,4,6,8,12],\"max_interval\":43200000.0,\"min_interval\":3600000.0,\"num_minor_ticks\":0},\"id\":\"71079\",\"type\":\"AdaptiveTicker\"},{\"attributes\":{},\"id\":\"71107\",\"type\":\"UnionRenderers\"},{\"attributes\":{},\"id\":\"71088\",\"type\":\"YearsTicker\"},{\"attributes\":{\"click_policy\":\"hide\",\"coordinates\":null,\"group\":null,\"items\":[{\"id\":\"71090\"},{\"id\":\"71122\"}],\"location\":\"top_left\"},\"id\":\"71089\",\"type\":\"Legend\"},{\"attributes\":{\"months\":[0,1,2,3,4,5,6,7,8,9,10,11]},\"id\":\"71084\",\"type\":\"MonthsTicker\"},{\"attributes\":{\"bottom_units\":\"screen\",\"coordinates\":null,\"fill_alpha\":0.5,\"fill_color\":\"lightgrey\",\"group\":null,\"left_units\":\"screen\",\"level\":\"overlay\",\"line_alpha\":1.0,\"line_color\":\"black\",\"line_dash\":[4,4],\"line_width\":2,\"right_units\":\"screen\",\"syncable\":false,\"top_units\":\"screen\"},\"id\":\"71052\",\"type\":\"BoxAnnotation\"},{\"attributes\":{\"fill_alpha\":{\"value\":0.2},\"fill_color\":{\"value\":\"darkgrey\"},\"hatch_alpha\":{\"value\":0.2},\"hatch_color\":{\"value\":\"darkgrey\"},\"line_alpha\":{\"value\":0.2},\"line_color\":{\"value\":\"darkgrey\"},\"x\":{\"field\":\"x\"},\"y\":{\"field\":\"y\"}},\"id\":\"71061\",\"type\":\"Circle\"},{\"attributes\":{\"days\":[1,15]},\"id\":\"71083\",\"type\":\"DaysTicker\"},{\"attributes\":{\"days\":[1,2,3,4,5,6,7,8,9,10,11,12,13,14,15,16,17,18,19,20,21,22,23,24,25,26,27,28,29,30,31]},\"id\":\"71080\",\"type\":\"DaysTicker\"},{\"attributes\":{},\"id\":\"71074\",\"type\":\"UnionRenderers\"},{\"attributes\":{\"days\":[1,4,7,10,13,16,19,22,25,28]},\"id\":\"71081\",\"type\":\"DaysTicker\"},{\"attributes\":{\"days\":[1,8,15,22]},\"id\":\"71082\",\"type\":\"DaysTicker\"},{\"attributes\":{},\"id\":\"71072\",\"type\":\"DatetimeTickFormatter\"},{\"attributes\":{\"months\":[0,6]},\"id\":\"71087\",\"type\":\"MonthsTicker\"},{\"attributes\":{},\"id\":\"71050\",\"type\":\"ResetTool\"},{\"attributes\":{\"months\":[0,2,4,6,8,10]},\"id\":\"71085\",\"type\":\"MonthsTicker\"},{\"attributes\":{\"fill_alpha\":{\"value\":0.2},\"fill_color\":{\"value\":\"darkgrey\"},\"hatch_alpha\":{\"value\":0.2},\"hatch_color\":{\"value\":\"darkgrey\"},\"line_alpha\":{\"value\":0.2},\"line_color\":{\"value\":\"darkgrey\"},\"x\":{\"field\":\"x\"},\"y\":{\"field\":\"y\"}},\"id\":\"71063\",\"type\":\"Circle\"},{\"attributes\":{},\"id\":\"71049\",\"type\":\"SaveTool\"},{\"attributes\":{\"data\":{\"x\":{\"__ndarray__\":\"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\",\"dtype\":\"float64\",\"order\":\"little\",\"shape\":[3270]},\"y\":{\"__ndarray__\":\"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\",\"dtype\":\"float64\",\"order\":\"little\",\"shape\":[3270]}},\"selected\":{\"id\":\"71075\"},\"selection_policy\":{\"id\":\"71074\"}},\"id\":\"71060\",\"type\":\"ColumnDataSource\"},{\"attributes\":{\"source\":{\"id\":\"71060\"}},\"id\":\"71065\",\"type\":\"CDSView\"},{\"attributes\":{\"months\":[0,4,8]},\"id\":\"71086\",\"type\":\"MonthsTicker\"},{\"attributes\":{},\"id\":\"71073\",\"type\":\"AllLabels\"},{\"attributes\":{\"line_color\":\"red\",\"x\":{\"field\":\"x\"},\"y\":{\"field\":\"y\"}},\"id\":\"71092\",\"type\":\"Line\"},{\"attributes\":{\"coordinates\":null,\"group\":null,\"text\":\"AAPL One-Month Average\"},\"id\":\"71066\",\"type\":\"Title\"}],\"root_ids\":[\"71029\"]},\"title\":\"Bokeh Application\",\"version\":\"2.4.3\"}};\n",
       "  const render_items = [{\"docid\":\"74b9137c-eb28-4060-85cc-7dfcde180a51\",\"root_ids\":[\"71029\"],\"roots\":{\"71029\":\"36cf6074-5a10-444d-8851-422aab2a5d3e\"}}];\n",
       "  root.Bokeh.embed.embed_items_notebook(docs_json, render_items);\n",
       "  }\n",
       "  if (root.Bokeh !== undefined) {\n",
       "    embed_document(root);\n",
       "  } else {\n",
       "    let attempts = 0;\n",
       "    const timer = setInterval(function(root) {\n",
       "      if (root.Bokeh !== undefined) {\n",
       "        clearInterval(timer);\n",
       "        embed_document(root);\n",
       "      } else {\n",
       "        attempts++;\n",
       "        if (attempts > 100) {\n",
       "          clearInterval(timer);\n",
       "          console.log(\"Bokeh: ERROR: Unable to run BokehJS code because BokehJS library is missing\");\n",
       "        }\n",
       "      }\n",
       "    }, 10, root)\n",
       "  }\n",
       "})(window);"
      ],
      "application/vnd.bokehjs_exec.v0+json": ""
     },
     "metadata": {
      "application/vnd.bokehjs_exec.v0+json": {
       "id": "71029"
      }
     },
     "output_type": "display_data"
    }
   ],
   "source": [
    "# prepare some data\n",
    "aapl = np.array(AAPL['adj_close'])\n",
    "aapl_dates = np.array(AAPL['date'], dtype=np.datetime64)\n",
    "\n",
    "window_size = 30\n",
    "window = np.ones(window_size)/float(window_size)\n",
    "aapl_avg = np.convolve(aapl, window, 'same')\n",
    "\n",
    "# create a new plot with a datetime axis type\n",
    "p = figure(width=800, height=350, x_axis_type=\"datetime\")\n",
    "\n",
    "# add renderers\n",
    "p.circle(aapl_dates, aapl, size=4, color='darkgrey', alpha=0.2, legend_label='close')\n",
    "p.line(aapl_dates, aapl_avg, color='red', legend_label='avg')\n",
    "\n",
    "# NEW: customize by setting attributes\n",
    "p.title.text = \"AAPL One-Month Average\"\n",
    "p.legend.location = \"top_left\"\n",
    "p.grid.grid_line_alpha=0\n",
    "p.xaxis.axis_label = 'Date'\n",
    "p.yaxis.axis_label = 'Price'\n",
    "\n",
    "p.ygrid.band_fill_color=\"gray\"\n",
    "p.ygrid.band_fill_alpha = 0.1\n",
    "\n",
    "p.legend.click_policy=\"hide\" # enable the click policy on the legend\n",
    "\n",
    "# show the results\n",
    "show(p)"
   ]
  },
  {
   "cell_type": "markdown",
   "metadata": {},
   "source": [
    "## Categorical axes\n",
    "To inform Bokeh that the `x-axis` is `categorical`, we pass this list of factors as the `x_range` argument to bokeh plotting figure:\n",
    "\n",
    "```python\n",
    "p = figure(x_range=fruits, ... )\n",
    "```\n",
    "\n",
    "Note that passing the list of factors is a convenient shorthand notation for creating a FactorRange. The equivalent explicit notation is:\n",
    "```python\n",
    "p = figure(x_range=FactorRange(field=fruits), ... )\n",
    "```\n",
    "This more explicit for is useful when you want to customize the FactorRange, e.g. by changing the range or category padding.\n",
    "\n",
    "Next we can call vbar with the list of fruit name factors as the x coordinate, the bar height as the top coordinate, and optionally any width or other properties that we would like to set:\n",
    "```python\n",
    "p.vbar(x=fruits, top=[5, 3, 4, 2, 4, 6], width=0.9)\n",
    "```\n",
    "\n",
    "Now putting this stuff together we will see the output:"
   ]
  },
  {
   "cell_type": "code",
   "execution_count": 156,
   "metadata": {},
   "outputs": [
    {
     "data": {
      "text/html": [
       "\n",
       "  <div class=\"bk-root\" id=\"6b80d682-0ed0-45f1-90f6-e294d834e286\" data-root-id=\"72275\"></div>\n"
      ]
     },
     "metadata": {},
     "output_type": "display_data"
    },
    {
     "data": {
      "application/javascript": [
       "(function(root) {\n",
       "  function embed_document(root) {\n",
       "  const docs_json = {\"1d4f967b-0acd-4aff-a126-3b7e89ba938a\":{\"defs\":[],\"roots\":{\"references\":[{\"attributes\":{\"below\":[{\"id\":\"72286\"}],\"center\":[{\"id\":\"72288\"},{\"id\":\"72292\"}],\"height\":250,\"left\":[{\"id\":\"72289\"}],\"renderers\":[{\"id\":\"72298\"}],\"title\":{\"id\":\"72276\"},\"toolbar\":{\"id\":\"72293\"},\"toolbar_location\":null,\"x_range\":{\"id\":\"72278\"},\"x_scale\":{\"id\":\"72282\"},\"y_range\":{\"id\":\"72280\"},\"y_scale\":{\"id\":\"72284\"}},\"id\":\"72275\",\"subtype\":\"Figure\",\"type\":\"Plot\"},{\"attributes\":{},\"id\":\"73333\",\"type\":\"UnionRenderers\"},{\"attributes\":{\"axis\":{\"id\":\"72286\"},\"coordinates\":null,\"grid_line_color\":null,\"group\":null,\"ticker\":null},\"id\":\"72288\",\"type\":\"Grid\"},{\"attributes\":{},\"id\":\"73334\",\"type\":\"Selection\"},{\"attributes\":{},\"id\":\"72293\",\"type\":\"Toolbar\"},{\"attributes\":{\"axis\":{\"id\":\"72289\"},\"coordinates\":null,\"dimension\":1,\"group\":null,\"ticker\":null},\"id\":\"72292\",\"type\":\"Grid\"},{\"attributes\":{},\"id\":\"72290\",\"type\":\"BasicTicker\"},{\"attributes\":{\"fill_color\":{\"value\":\"#1f77b4\"},\"line_color\":{\"value\":\"#1f77b4\"},\"top\":{\"field\":\"top\"},\"width\":{\"value\":0.6},\"x\":{\"field\":\"x\"}},\"id\":\"72295\",\"type\":\"VBar\"},{\"attributes\":{\"factors\":[\"Apples\",\"Pears\",\"Nectarines\",\"Plums\",\"Grapes\",\"Strawberries\"]},\"id\":\"72278\",\"type\":\"FactorRange\"},{\"attributes\":{},\"id\":\"73332\",\"type\":\"AllLabels\"},{\"attributes\":{},\"id\":\"72287\",\"type\":\"CategoricalTicker\"},{\"attributes\":{\"coordinates\":null,\"formatter\":{\"id\":\"73331\"},\"group\":null,\"major_label_policy\":{\"id\":\"73332\"},\"ticker\":{\"id\":\"72287\"}},\"id\":\"72286\",\"type\":\"CategoricalAxis\"},{\"attributes\":{\"data\":{\"top\":[5,3,4,2,4,6],\"x\":[\"Apples\",\"Pears\",\"Nectarines\",\"Plums\",\"Grapes\",\"Strawberries\"]},\"selected\":{\"id\":\"73334\"},\"selection_policy\":{\"id\":\"73333\"}},\"id\":\"72294\",\"type\":\"ColumnDataSource\"},{\"attributes\":{},\"id\":\"73329\",\"type\":\"AllLabels\"},{\"attributes\":{\"fill_alpha\":{\"value\":0.2},\"fill_color\":{\"value\":\"#1f77b4\"},\"hatch_alpha\":{\"value\":0.2},\"line_alpha\":{\"value\":0.2},\"line_color\":{\"value\":\"#1f77b4\"},\"top\":{\"field\":\"top\"},\"width\":{\"value\":0.6},\"x\":{\"field\":\"x\"}},\"id\":\"72297\",\"type\":\"VBar\"},{\"attributes\":{\"start\":0},\"id\":\"72280\",\"type\":\"DataRange1d\"},{\"attributes\":{\"fill_alpha\":{\"value\":0.1},\"fill_color\":{\"value\":\"#1f77b4\"},\"hatch_alpha\":{\"value\":0.1},\"line_alpha\":{\"value\":0.1},\"line_color\":{\"value\":\"#1f77b4\"},\"top\":{\"field\":\"top\"},\"width\":{\"value\":0.6},\"x\":{\"field\":\"x\"}},\"id\":\"72296\",\"type\":\"VBar\"},{\"attributes\":{\"coordinates\":null,\"group\":null,\"text\":\"Fruit Counts\"},\"id\":\"72276\",\"type\":\"Title\"},{\"attributes\":{},\"id\":\"73331\",\"type\":\"CategoricalTickFormatter\"},{\"attributes\":{},\"id\":\"73328\",\"type\":\"BasicTickFormatter\"},{\"attributes\":{},\"id\":\"72284\",\"type\":\"LinearScale\"},{\"attributes\":{\"coordinates\":null,\"data_source\":{\"id\":\"72294\"},\"glyph\":{\"id\":\"72295\"},\"group\":null,\"hover_glyph\":null,\"muted_glyph\":{\"id\":\"72297\"},\"nonselection_glyph\":{\"id\":\"72296\"},\"view\":{\"id\":\"72299\"}},\"id\":\"72298\",\"type\":\"GlyphRenderer\"},{\"attributes\":{},\"id\":\"72282\",\"type\":\"CategoricalScale\"},{\"attributes\":{\"source\":{\"id\":\"72294\"}},\"id\":\"72299\",\"type\":\"CDSView\"},{\"attributes\":{\"coordinates\":null,\"formatter\":{\"id\":\"73328\"},\"group\":null,\"major_label_policy\":{\"id\":\"73329\"},\"ticker\":{\"id\":\"72290\"}},\"id\":\"72289\",\"type\":\"LinearAxis\"}],\"root_ids\":[\"72275\"]},\"title\":\"Bokeh Application\",\"version\":\"2.4.3\"}};\n",
       "  const render_items = [{\"docid\":\"1d4f967b-0acd-4aff-a126-3b7e89ba938a\",\"root_ids\":[\"72275\"],\"roots\":{\"72275\":\"6b80d682-0ed0-45f1-90f6-e294d834e286\"}}];\n",
       "  root.Bokeh.embed.embed_items_notebook(docs_json, render_items);\n",
       "  }\n",
       "  if (root.Bokeh !== undefined) {\n",
       "    embed_document(root);\n",
       "  } else {\n",
       "    let attempts = 0;\n",
       "    const timer = setInterval(function(root) {\n",
       "      if (root.Bokeh !== undefined) {\n",
       "        clearInterval(timer);\n",
       "        embed_document(root);\n",
       "      } else {\n",
       "        attempts++;\n",
       "        if (attempts > 100) {\n",
       "          clearInterval(timer);\n",
       "          console.log(\"Bokeh: ERROR: Unable to run BokehJS code because BokehJS library is missing\");\n",
       "        }\n",
       "      }\n",
       "    }, 10, root)\n",
       "  }\n",
       "})(window);"
      ],
      "application/vnd.bokehjs_exec.v0+json": ""
     },
     "metadata": {
      "application/vnd.bokehjs_exec.v0+json": {
       "id": "72275"
      }
     },
     "output_type": "display_data"
    }
   ],
   "source": [
    "fruits = ['Apples', 'Pears', 'Nectarines', 'Plums', 'Grapes', 'Strawberries']\n",
    "\n",
    "p = figure(x_range=fruits, plot_height=250, title=\"Fruit Counts\",\n",
    "           toolbar_location=None, tools=\"\")\n",
    "\n",
    "p.vbar(x=fruits, top=[5, 3, 4, 2, 4, 6], width=0.6)\n",
    "\n",
    "p.xgrid.grid_line_color = None\n",
    "p.y_range.start = 0\n",
    "\n",
    "show(p)"
   ]
  },
  {
   "cell_type": "markdown",
   "metadata": {},
   "source": [
    "Often times we may want to have bars that are shaded some color. One way is to supply all the colors up front. This can be done by putting all the data, including the colors for each bar, in a `ColumnDataSource`. Then the name of the column containing the colors is passed to figure as the color (or line_color/fill_color) arguments. This is shown below:"
   ]
  },
  {
   "cell_type": "code",
   "execution_count": 157,
   "metadata": {},
   "outputs": [
    {
     "data": {
      "text/html": [
       "\n",
       "  <div class=\"bk-root\" id=\"70314ed9-25d4-4435-82b4-9e2ffc00b26d\" data-root-id=\"73381\"></div>\n"
      ]
     },
     "metadata": {},
     "output_type": "display_data"
    },
    {
     "data": {
      "application/javascript": [
       "(function(root) {\n",
       "  function embed_document(root) {\n",
       "  const docs_json = {\"fe9be60a-555d-4e53-8075-c971d0a7530f\":{\"defs\":[],\"roots\":{\"references\":[{\"attributes\":{\"below\":[{\"id\":\"73392\"}],\"center\":[{\"id\":\"73394\"},{\"id\":\"73398\"},{\"id\":\"73415\"}],\"height\":250,\"left\":[{\"id\":\"73395\"}],\"renderers\":[{\"id\":\"73404\"}],\"title\":{\"id\":\"73382\"},\"toolbar\":{\"id\":\"73399\"},\"toolbar_location\":null,\"x_range\":{\"id\":\"73384\"},\"x_scale\":{\"id\":\"73388\"},\"y_range\":{\"id\":\"73386\"},\"y_scale\":{\"id\":\"73390\"}},\"id\":\"73381\",\"subtype\":\"Figure\",\"type\":\"Plot\"},{\"attributes\":{\"data\":{\"color\":[\"#3288bd\",\"#99d594\",\"#e6f598\",\"#fee08b\",\"#fc8d59\",\"#d53e4f\"],\"counts\":[5,3,4,2,4,6],\"fruits\":[\"Apples\",\"Pears\",\"Nectarines\",\"Plums\",\"Grapes\",\"Strawberries\"]},\"selected\":{\"id\":\"73414\"},\"selection_policy\":{\"id\":\"73413\"}},\"id\":\"73380\",\"type\":\"ColumnDataSource\"},{\"attributes\":{},\"id\":\"73411\",\"type\":\"CategoricalTickFormatter\"},{\"attributes\":{\"axis\":{\"id\":\"73395\"},\"coordinates\":null,\"dimension\":1,\"group\":null,\"ticker\":null},\"id\":\"73398\",\"type\":\"Grid\"},{\"attributes\":{\"fill_alpha\":{\"value\":0.2},\"fill_color\":{\"field\":\"color\"},\"hatch_alpha\":{\"value\":0.2},\"hatch_color\":{\"field\":\"color\"},\"line_alpha\":{\"value\":0.2},\"line_color\":{\"field\":\"color\"},\"top\":{\"field\":\"counts\"},\"width\":{\"value\":0.6},\"x\":{\"field\":\"fruits\"}},\"id\":\"73403\",\"type\":\"VBar\"},{\"attributes\":{},\"id\":\"73412\",\"type\":\"AllLabels\"},{\"attributes\":{\"fill_color\":{\"field\":\"color\"},\"hatch_color\":{\"field\":\"color\"},\"line_color\":{\"field\":\"color\"},\"top\":{\"field\":\"counts\"},\"width\":{\"value\":0.6},\"x\":{\"field\":\"fruits\"}},\"id\":\"73401\",\"type\":\"VBar\"},{\"attributes\":{},\"id\":\"73414\",\"type\":\"Selection\"},{\"attributes\":{},\"id\":\"73408\",\"type\":\"BasicTickFormatter\"},{\"attributes\":{},\"id\":\"73413\",\"type\":\"UnionRenderers\"},{\"attributes\":{\"coordinates\":null,\"group\":null,\"items\":[{\"id\":\"73416\"}],\"location\":\"top_center\",\"orientation\":\"horizontal\"},\"id\":\"73415\",\"type\":\"Legend\"},{\"attributes\":{\"coordinates\":null,\"formatter\":{\"id\":\"73411\"},\"group\":null,\"major_label_policy\":{\"id\":\"73412\"},\"ticker\":{\"id\":\"73393\"}},\"id\":\"73392\",\"type\":\"CategoricalAxis\"},{\"attributes\":{\"end\":9},\"id\":\"73386\",\"type\":\"Range1d\"},{\"attributes\":{},\"id\":\"73409\",\"type\":\"AllLabels\"},{\"attributes\":{},\"id\":\"73390\",\"type\":\"LinearScale\"},{\"attributes\":{\"coordinates\":null,\"group\":null,\"text\":\"Fruit Counts\"},\"id\":\"73382\",\"type\":\"Title\"},{\"attributes\":{\"label\":{\"value\":\"fruits\"},\"renderers\":[{\"id\":\"73404\"}]},\"id\":\"73416\",\"type\":\"LegendItem\"},{\"attributes\":{},\"id\":\"73399\",\"type\":\"Toolbar\"},{\"attributes\":{},\"id\":\"73388\",\"type\":\"CategoricalScale\"},{\"attributes\":{\"coordinates\":null,\"data_source\":{\"id\":\"73380\"},\"glyph\":{\"id\":\"73401\"},\"group\":null,\"hover_glyph\":null,\"muted_glyph\":{\"id\":\"73403\"},\"nonselection_glyph\":{\"id\":\"73402\"},\"view\":{\"id\":\"73405\"}},\"id\":\"73404\",\"type\":\"GlyphRenderer\"},{\"attributes\":{\"factors\":[\"Apples\",\"Pears\",\"Nectarines\",\"Plums\",\"Grapes\",\"Strawberries\"]},\"id\":\"73384\",\"type\":\"FactorRange\"},{\"attributes\":{\"fill_alpha\":{\"value\":0.1},\"fill_color\":{\"field\":\"color\"},\"hatch_alpha\":{\"value\":0.1},\"hatch_color\":{\"field\":\"color\"},\"line_alpha\":{\"value\":0.1},\"line_color\":{\"field\":\"color\"},\"top\":{\"field\":\"counts\"},\"width\":{\"value\":0.6},\"x\":{\"field\":\"fruits\"}},\"id\":\"73402\",\"type\":\"VBar\"},{\"attributes\":{},\"id\":\"73393\",\"type\":\"CategoricalTicker\"},{\"attributes\":{\"axis\":{\"id\":\"73392\"},\"coordinates\":null,\"grid_line_color\":null,\"group\":null,\"ticker\":null},\"id\":\"73394\",\"type\":\"Grid\"},{\"attributes\":{\"source\":{\"id\":\"73380\"}},\"id\":\"73405\",\"type\":\"CDSView\"},{\"attributes\":{},\"id\":\"73396\",\"type\":\"BasicTicker\"},{\"attributes\":{\"coordinates\":null,\"formatter\":{\"id\":\"73408\"},\"group\":null,\"major_label_policy\":{\"id\":\"73409\"},\"ticker\":{\"id\":\"73396\"}},\"id\":\"73395\",\"type\":\"LinearAxis\"}],\"root_ids\":[\"73381\"]},\"title\":\"Bokeh Application\",\"version\":\"2.4.3\"}};\n",
       "  const render_items = [{\"docid\":\"fe9be60a-555d-4e53-8075-c971d0a7530f\",\"root_ids\":[\"73381\"],\"roots\":{\"73381\":\"70314ed9-25d4-4435-82b4-9e2ffc00b26d\"}}];\n",
       "  root.Bokeh.embed.embed_items_notebook(docs_json, render_items);\n",
       "  }\n",
       "  if (root.Bokeh !== undefined) {\n",
       "    embed_document(root);\n",
       "  } else {\n",
       "    let attempts = 0;\n",
       "    const timer = setInterval(function(root) {\n",
       "      if (root.Bokeh !== undefined) {\n",
       "        clearInterval(timer);\n",
       "        embed_document(root);\n",
       "      } else {\n",
       "        attempts++;\n",
       "        if (attempts > 100) {\n",
       "          clearInterval(timer);\n",
       "          console.log(\"Bokeh: ERROR: Unable to run BokehJS code because BokehJS library is missing\");\n",
       "        }\n",
       "      }\n",
       "    }, 10, root)\n",
       "  }\n",
       "})(window);"
      ],
      "application/vnd.bokehjs_exec.v0+json": ""
     },
     "metadata": {
      "application/vnd.bokehjs_exec.v0+json": {
       "id": "73381"
      }
     },
     "output_type": "display_data"
    }
   ],
   "source": [
    "from bokeh.models import ColumnDataSource\n",
    "from bokeh.palettes import Spectral6\n",
    "\n",
    "fruits = ['Apples', 'Pears', 'Nectarines', 'Plums', 'Grapes', 'Strawberries']\n",
    "counts = [5, 3, 4, 2, 4, 6]\n",
    "\n",
    "source = ColumnDataSource(data=dict(fruits=fruits, counts=counts, color=Spectral6))\n",
    "\n",
    "p = figure(x_range=fruits, y_range=(0,9), plot_height=250, title=\"Fruit Counts\",\n",
    "           toolbar_location=None, tools=\"\")\n",
    "\n",
    "p.vbar(x='fruits', top='counts', width=0.6, color='color', legend_label=\"fruits\", source=source)\n",
    "\n",
    "p.xgrid.grid_line_color = None\n",
    "p.legend.orientation = \"horizontal\"\n",
    "p.legend.location = \"top_center\"\n",
    "\n",
    "show(p)"
   ]
  },
  {
   "cell_type": "markdown",
   "metadata": {},
   "source": [
    "### Grouped\n",
    "\n",
    "When creating bar charts, it is often desirable to visually display the data according to sub-groups. There are two basic methods that can be used, depending on your use case: using nested categorical coordinates, or applying vidual dodges.\n",
    "\n",
    "### Nested Categories\n",
    "\n",
    "If the coordinates of a plot range and data have two or three levels, then Bokeh will automatically group the factors on the axis, including a hierarchical tick labeling with separators between the groups. In the case of bar charts, this results in bars grouped together by the top-level factors. This is probably the most common way to achieve grouped bars, especially if you are starting from “tidy” data.\n",
    "\n",
    "The example below shows this approach by creating a single column of coordinates that are each 2-tuples of the form (fruit, year). Accordingly, the plot groups the axes by fruit type, with a single call to vbar:"
   ]
  },
  {
   "cell_type": "code",
   "execution_count": 158,
   "metadata": {},
   "outputs": [
    {
     "data": {
      "text/html": [
       "\n",
       "  <div class=\"bk-root\" id=\"c826e0b3-52fd-4e26-acfd-7dd7a1332992\" data-root-id=\"74508\"></div>\n"
      ]
     },
     "metadata": {},
     "output_type": "display_data"
    },
    {
     "data": {
      "application/javascript": [
       "(function(root) {\n",
       "  function embed_document(root) {\n",
       "  const docs_json = {\"ecf0b56a-2908-423e-9b21-9f73018ffea0\":{\"defs\":[],\"roots\":{\"references\":[{\"attributes\":{\"below\":[{\"id\":\"74518\"}],\"center\":[{\"id\":\"74520\"},{\"id\":\"74524\"}],\"height\":250,\"left\":[{\"id\":\"74521\"}],\"renderers\":[{\"id\":\"74530\"}],\"title\":{\"id\":\"74509\"},\"toolbar\":{\"id\":\"74525\"},\"toolbar_location\":null,\"x_range\":{\"id\":\"74507\"},\"x_scale\":{\"id\":\"74514\"},\"y_range\":{\"id\":\"74512\"},\"y_scale\":{\"id\":\"74516\"}},\"id\":\"74508\",\"subtype\":\"Figure\",\"type\":\"Plot\"},{\"attributes\":{\"source\":{\"id\":\"74506\"}},\"id\":\"74531\",\"type\":\"CDSView\"},{\"attributes\":{\"factors\":[[\"Apples\",\"2015\"],[\"Apples\",\"2016\"],[\"Apples\",\"2017\"],[\"Pears\",\"2015\"],[\"Pears\",\"2016\"],[\"Pears\",\"2017\"],[\"Nectarines\",\"2015\"],[\"Nectarines\",\"2016\"],[\"Nectarines\",\"2017\"],[\"Plums\",\"2015\"],[\"Plums\",\"2016\"],[\"Plums\",\"2017\"],[\"Grapes\",\"2015\"],[\"Grapes\",\"2016\"],[\"Grapes\",\"2017\"],[\"Strawberries\",\"2015\"],[\"Strawberries\",\"2016\"],[\"Strawberries\",\"2017\"]],\"range_padding\":0.1},\"id\":\"74507\",\"type\":\"FactorRange\"},{\"attributes\":{},\"id\":\"74519\",\"type\":\"CategoricalTicker\"},{\"attributes\":{\"axis\":{\"id\":\"74521\"},\"coordinates\":null,\"dimension\":1,\"group\":null,\"ticker\":null},\"id\":\"74524\",\"type\":\"Grid\"},{\"attributes\":{},\"id\":\"74522\",\"type\":\"BasicTicker\"},{\"attributes\":{},\"id\":\"75578\",\"type\":\"BasicTickFormatter\"},{\"attributes\":{\"data\":{\"counts\":[2,5,3,1,3,2,4,3,4,3,2,4,2,4,5,4,6,3],\"x\":[[\"Apples\",\"2015\"],[\"Apples\",\"2016\"],[\"Apples\",\"2017\"],[\"Pears\",\"2015\"],[\"Pears\",\"2016\"],[\"Pears\",\"2017\"],[\"Nectarines\",\"2015\"],[\"Nectarines\",\"2016\"],[\"Nectarines\",\"2017\"],[\"Plums\",\"2015\"],[\"Plums\",\"2016\"],[\"Plums\",\"2017\"],[\"Grapes\",\"2015\"],[\"Grapes\",\"2016\"],[\"Grapes\",\"2017\"],[\"Strawberries\",\"2015\"],[\"Strawberries\",\"2016\"],[\"Strawberries\",\"2017\"]]},\"selected\":{\"id\":\"75584\"},\"selection_policy\":{\"id\":\"75583\"}},\"id\":\"74506\",\"type\":\"ColumnDataSource\"},{\"attributes\":{\"fill_color\":{\"value\":\"#1f77b4\"},\"line_color\":{\"value\":\"#1f77b4\"},\"top\":{\"field\":\"counts\"},\"width\":{\"value\":0.9},\"x\":{\"field\":\"x\"}},\"id\":\"74527\",\"type\":\"VBar\"},{\"attributes\":{},\"id\":\"75579\",\"type\":\"AllLabels\"},{\"attributes\":{},\"id\":\"75581\",\"type\":\"CategoricalTickFormatter\"},{\"attributes\":{},\"id\":\"74516\",\"type\":\"LinearScale\"},{\"attributes\":{\"coordinates\":null,\"data_source\":{\"id\":\"74506\"},\"glyph\":{\"id\":\"74527\"},\"group\":null,\"hover_glyph\":null,\"muted_glyph\":{\"id\":\"74529\"},\"nonselection_glyph\":{\"id\":\"74528\"},\"view\":{\"id\":\"74531\"}},\"id\":\"74530\",\"type\":\"GlyphRenderer\"},{\"attributes\":{\"axis\":{\"id\":\"74518\"},\"coordinates\":null,\"grid_line_color\":null,\"group\":null,\"ticker\":null},\"id\":\"74520\",\"type\":\"Grid\"},{\"attributes\":{},\"id\":\"75582\",\"type\":\"AllLabels\"},{\"attributes\":{\"fill_alpha\":{\"value\":0.1},\"fill_color\":{\"value\":\"#1f77b4\"},\"hatch_alpha\":{\"value\":0.1},\"line_alpha\":{\"value\":0.1},\"line_color\":{\"value\":\"#1f77b4\"},\"top\":{\"field\":\"counts\"},\"width\":{\"value\":0.9},\"x\":{\"field\":\"x\"}},\"id\":\"74528\",\"type\":\"VBar\"},{\"attributes\":{\"start\":0},\"id\":\"74512\",\"type\":\"DataRange1d\"},{\"attributes\":{\"coordinates\":null,\"formatter\":{\"id\":\"75581\"},\"group\":null,\"major_label_orientation\":1,\"major_label_policy\":{\"id\":\"75582\"},\"ticker\":{\"id\":\"74519\"}},\"id\":\"74518\",\"type\":\"CategoricalAxis\"},{\"attributes\":{\"coordinates\":null,\"formatter\":{\"id\":\"75578\"},\"group\":null,\"major_label_policy\":{\"id\":\"75579\"},\"ticker\":{\"id\":\"74522\"}},\"id\":\"74521\",\"type\":\"LinearAxis\"},{\"attributes\":{\"coordinates\":null,\"group\":null,\"text\":\"Fruit Counts by Year\"},\"id\":\"74509\",\"type\":\"Title\"},{\"attributes\":{},\"id\":\"74525\",\"type\":\"Toolbar\"},{\"attributes\":{},\"id\":\"74514\",\"type\":\"CategoricalScale\"},{\"attributes\":{\"fill_alpha\":{\"value\":0.2},\"fill_color\":{\"value\":\"#1f77b4\"},\"hatch_alpha\":{\"value\":0.2},\"line_alpha\":{\"value\":0.2},\"line_color\":{\"value\":\"#1f77b4\"},\"top\":{\"field\":\"counts\"},\"width\":{\"value\":0.9},\"x\":{\"field\":\"x\"}},\"id\":\"74529\",\"type\":\"VBar\"},{\"attributes\":{},\"id\":\"75583\",\"type\":\"UnionRenderers\"},{\"attributes\":{},\"id\":\"75584\",\"type\":\"Selection\"}],\"root_ids\":[\"74508\"]},\"title\":\"Bokeh Application\",\"version\":\"2.4.3\"}};\n",
       "  const render_items = [{\"docid\":\"ecf0b56a-2908-423e-9b21-9f73018ffea0\",\"root_ids\":[\"74508\"],\"roots\":{\"74508\":\"c826e0b3-52fd-4e26-acfd-7dd7a1332992\"}}];\n",
       "  root.Bokeh.embed.embed_items_notebook(docs_json, render_items);\n",
       "  }\n",
       "  if (root.Bokeh !== undefined) {\n",
       "    embed_document(root);\n",
       "  } else {\n",
       "    let attempts = 0;\n",
       "    const timer = setInterval(function(root) {\n",
       "      if (root.Bokeh !== undefined) {\n",
       "        clearInterval(timer);\n",
       "        embed_document(root);\n",
       "      } else {\n",
       "        attempts++;\n",
       "        if (attempts > 100) {\n",
       "          clearInterval(timer);\n",
       "          console.log(\"Bokeh: ERROR: Unable to run BokehJS code because BokehJS library is missing\");\n",
       "        }\n",
       "      }\n",
       "    }, 10, root)\n",
       "  }\n",
       "})(window);"
      ],
      "application/vnd.bokehjs_exec.v0+json": ""
     },
     "metadata": {
      "application/vnd.bokehjs_exec.v0+json": {
       "id": "74508"
      }
     },
     "output_type": "display_data"
    }
   ],
   "source": [
    "from bokeh.models import ColumnDataSource, FactorRange\n",
    "from bokeh.plotting import figure\n",
    "\n",
    "fruits = ['Apples', 'Pears', 'Nectarines', 'Plums', 'Grapes', 'Strawberries']\n",
    "years = ['2015', '2016', '2017']\n",
    "\n",
    "data = {'fruits' : fruits,\n",
    "        '2015'   : [2, 1, 4, 3, 2, 4],\n",
    "        '2016'   : [5, 3, 3, 2, 4, 6],\n",
    "        '2017'   : [3, 2, 4, 4, 5, 3]}\n",
    "\n",
    "# this creates [ (\"Apples\", \"2015\"), (\"Apples\", \"2016\"), (\"Apples\", \"2017\"), (\"Pears\", \"2015), ... ]\n",
    "x = [ (fruit, year) for fruit in fruits for year in years ]\n",
    "counts = sum(zip(data['2015'], data['2016'], data['2017']), ()) # like an hstack in numpy\n",
    "\n",
    "source = ColumnDataSource(data=dict(x=x, counts=counts))\n",
    "\n",
    "p = figure(x_range=FactorRange(*x), plot_height=250, title=\"Fruit Counts by Year\",\n",
    "           toolbar_location=None, tools=\"\")\n",
    "\n",
    "p.vbar(x='x', top='counts', width=0.9, source=source)\n",
    "\n",
    "p.y_range.start = 0\n",
    "p.x_range.range_padding = 0.1\n",
    "p.xaxis.major_label_orientation = 1\n",
    "p.xgrid.grid_line_color = None\n",
    "\n",
    "show(p)"
   ]
  },
  {
   "cell_type": "markdown",
   "metadata": {},
   "source": [
    "We can also apply a color mapping, similar to the earlier example. To obtain same grouped bar plot of fruits data as above, except with the bars shaded by the year, changethe vbar function call to use `factor_cmap` for the fill_color:"
   ]
  },
  {
   "cell_type": "code",
   "execution_count": 159,
   "metadata": {},
   "outputs": [
    {
     "data": {
      "text/html": [
       "\n",
       "  <div class=\"bk-root\" id=\"c1b0b872-0d14-4ecb-9f2a-2901ff94adec\" data-root-id=\"74508\"></div>\n"
      ]
     },
     "metadata": {},
     "output_type": "display_data"
    },
    {
     "data": {
      "application/javascript": [
       "(function(root) {\n",
       "  function embed_document(root) {\n",
       "  const docs_json = {\"72b67cf7-015d-4f24-80e0-c2e70b8944f0\":{\"defs\":[],\"roots\":{\"references\":[{\"attributes\":{\"below\":[{\"id\":\"74518\"}],\"center\":[{\"id\":\"74520\"},{\"id\":\"74524\"}],\"height\":250,\"left\":[{\"id\":\"74521\"}],\"renderers\":[{\"id\":\"74530\"},{\"id\":\"75635\"}],\"title\":{\"id\":\"74509\"},\"toolbar\":{\"id\":\"74525\"},\"toolbar_location\":null,\"x_range\":{\"id\":\"74507\"},\"x_scale\":{\"id\":\"74514\"},\"y_range\":{\"id\":\"74512\"},\"y_scale\":{\"id\":\"74516\"}},\"id\":\"74508\",\"subtype\":\"Figure\",\"type\":\"Plot\"},{\"attributes\":{\"source\":{\"id\":\"74506\"}},\"id\":\"74531\",\"type\":\"CDSView\"},{\"attributes\":{\"factors\":[[\"Apples\",\"2015\"],[\"Apples\",\"2016\"],[\"Apples\",\"2017\"],[\"Pears\",\"2015\"],[\"Pears\",\"2016\"],[\"Pears\",\"2017\"],[\"Nectarines\",\"2015\"],[\"Nectarines\",\"2016\"],[\"Nectarines\",\"2017\"],[\"Plums\",\"2015\"],[\"Plums\",\"2016\"],[\"Plums\",\"2017\"],[\"Grapes\",\"2015\"],[\"Grapes\",\"2016\"],[\"Grapes\",\"2017\"],[\"Strawberries\",\"2015\"],[\"Strawberries\",\"2016\"],[\"Strawberries\",\"2017\"]],\"range_padding\":0.1},\"id\":\"74507\",\"type\":\"FactorRange\"},{\"attributes\":{},\"id\":\"74519\",\"type\":\"CategoricalTicker\"},{\"attributes\":{\"axis\":{\"id\":\"74521\"},\"coordinates\":null,\"dimension\":1,\"group\":null,\"ticker\":null},\"id\":\"74524\",\"type\":\"Grid\"},{\"attributes\":{\"fill_alpha\":{\"value\":0.1},\"fill_color\":{\"field\":\"x\",\"transform\":{\"id\":\"75630\"}},\"hatch_alpha\":{\"value\":0.1},\"line_alpha\":{\"value\":0.1},\"line_color\":{\"value\":\"white\"},\"top\":{\"field\":\"counts\"},\"width\":{\"value\":0.9},\"x\":{\"field\":\"x\"}},\"id\":\"75633\",\"type\":\"VBar\"},{\"attributes\":{},\"id\":\"74522\",\"type\":\"BasicTicker\"},{\"attributes\":{\"coordinates\":null,\"data_source\":{\"id\":\"74506\"},\"glyph\":{\"id\":\"75632\"},\"group\":null,\"hover_glyph\":null,\"muted_glyph\":{\"id\":\"75634\"},\"nonselection_glyph\":{\"id\":\"75633\"},\"view\":{\"id\":\"75636\"}},\"id\":\"75635\",\"type\":\"GlyphRenderer\"},{\"attributes\":{\"data\":{\"counts\":[2,5,3,1,3,2,4,3,4,3,2,4,2,4,5,4,6,3],\"x\":[[\"Apples\",\"2015\"],[\"Apples\",\"2016\"],[\"Apples\",\"2017\"],[\"Pears\",\"2015\"],[\"Pears\",\"2016\"],[\"Pears\",\"2017\"],[\"Nectarines\",\"2015\"],[\"Nectarines\",\"2016\"],[\"Nectarines\",\"2017\"],[\"Plums\",\"2015\"],[\"Plums\",\"2016\"],[\"Plums\",\"2017\"],[\"Grapes\",\"2015\"],[\"Grapes\",\"2016\"],[\"Grapes\",\"2017\"],[\"Strawberries\",\"2015\"],[\"Strawberries\",\"2016\"],[\"Strawberries\",\"2017\"]]},\"selected\":{\"id\":\"75584\"},\"selection_policy\":{\"id\":\"75583\"}},\"id\":\"74506\",\"type\":\"ColumnDataSource\"},{\"attributes\":{\"fill_color\":{\"value\":\"#1f77b4\"},\"line_color\":{\"value\":\"#1f77b4\"},\"top\":{\"field\":\"counts\"},\"width\":{\"value\":0.9},\"x\":{\"field\":\"x\"}},\"id\":\"74527\",\"type\":\"VBar\"},{\"attributes\":{},\"id\":\"75578\",\"type\":\"BasicTickFormatter\"},{\"attributes\":{},\"id\":\"75579\",\"type\":\"AllLabels\"},{\"attributes\":{},\"id\":\"75581\",\"type\":\"CategoricalTickFormatter\"},{\"attributes\":{\"end\":2,\"factors\":[\"2015\",\"2016\",\"2017\"],\"palette\":[\"#5e4fa2\",\"#3288bd\",\"#66c2a5\",\"#abdda4\",\"#e6f598\",\"#fee08b\",\"#fdae61\",\"#f46d43\",\"#d53e4f\",\"#9e0142\"],\"start\":1},\"id\":\"75630\",\"type\":\"CategoricalColorMapper\"},{\"attributes\":{},\"id\":\"74516\",\"type\":\"LinearScale\"},{\"attributes\":{\"fill_color\":{\"field\":\"x\",\"transform\":{\"id\":\"75630\"}},\"line_color\":{\"value\":\"white\"},\"top\":{\"field\":\"counts\"},\"width\":{\"value\":0.9},\"x\":{\"field\":\"x\"}},\"id\":\"75632\",\"type\":\"VBar\"},{\"attributes\":{\"coordinates\":null,\"data_source\":{\"id\":\"74506\"},\"glyph\":{\"id\":\"74527\"},\"group\":null,\"hover_glyph\":null,\"muted_glyph\":{\"id\":\"74529\"},\"nonselection_glyph\":{\"id\":\"74528\"},\"view\":{\"id\":\"74531\"}},\"id\":\"74530\",\"type\":\"GlyphRenderer\"},{\"attributes\":{\"axis\":{\"id\":\"74518\"},\"coordinates\":null,\"grid_line_color\":null,\"group\":null,\"ticker\":null},\"id\":\"74520\",\"type\":\"Grid\"},{\"attributes\":{},\"id\":\"75582\",\"type\":\"AllLabels\"},{\"attributes\":{\"fill_alpha\":{\"value\":0.1},\"fill_color\":{\"value\":\"#1f77b4\"},\"hatch_alpha\":{\"value\":0.1},\"line_alpha\":{\"value\":0.1},\"line_color\":{\"value\":\"#1f77b4\"},\"top\":{\"field\":\"counts\"},\"width\":{\"value\":0.9},\"x\":{\"field\":\"x\"}},\"id\":\"74528\",\"type\":\"VBar\"},{\"attributes\":{\"start\":0},\"id\":\"74512\",\"type\":\"DataRange1d\"},{\"attributes\":{\"coordinates\":null,\"formatter\":{\"id\":\"75581\"},\"group\":null,\"major_label_orientation\":1,\"major_label_policy\":{\"id\":\"75582\"},\"ticker\":{\"id\":\"74519\"}},\"id\":\"74518\",\"type\":\"CategoricalAxis\"},{\"attributes\":{\"coordinates\":null,\"formatter\":{\"id\":\"75578\"},\"group\":null,\"major_label_policy\":{\"id\":\"75579\"},\"ticker\":{\"id\":\"74522\"}},\"id\":\"74521\",\"type\":\"LinearAxis\"},{\"attributes\":{\"coordinates\":null,\"group\":null,\"text\":\"Fruit Counts by Year\"},\"id\":\"74509\",\"type\":\"Title\"},{\"attributes\":{\"fill_alpha\":{\"value\":0.2},\"fill_color\":{\"field\":\"x\",\"transform\":{\"id\":\"75630\"}},\"hatch_alpha\":{\"value\":0.2},\"line_alpha\":{\"value\":0.2},\"line_color\":{\"value\":\"white\"},\"top\":{\"field\":\"counts\"},\"width\":{\"value\":0.9},\"x\":{\"field\":\"x\"}},\"id\":\"75634\",\"type\":\"VBar\"},{\"attributes\":{},\"id\":\"74525\",\"type\":\"Toolbar\"},{\"attributes\":{},\"id\":\"74514\",\"type\":\"CategoricalScale\"},{\"attributes\":{\"source\":{\"id\":\"74506\"}},\"id\":\"75636\",\"type\":\"CDSView\"},{\"attributes\":{\"fill_alpha\":{\"value\":0.2},\"fill_color\":{\"value\":\"#1f77b4\"},\"hatch_alpha\":{\"value\":0.2},\"line_alpha\":{\"value\":0.2},\"line_color\":{\"value\":\"#1f77b4\"},\"top\":{\"field\":\"counts\"},\"width\":{\"value\":0.9},\"x\":{\"field\":\"x\"}},\"id\":\"74529\",\"type\":\"VBar\"},{\"attributes\":{},\"id\":\"75583\",\"type\":\"UnionRenderers\"},{\"attributes\":{},\"id\":\"75584\",\"type\":\"Selection\"}],\"root_ids\":[\"74508\"]},\"title\":\"Bokeh Application\",\"version\":\"2.4.3\"}};\n",
       "  const render_items = [{\"docid\":\"72b67cf7-015d-4f24-80e0-c2e70b8944f0\",\"root_ids\":[\"74508\"],\"roots\":{\"74508\":\"c1b0b872-0d14-4ecb-9f2a-2901ff94adec\"}}];\n",
       "  root.Bokeh.embed.embed_items_notebook(docs_json, render_items);\n",
       "  }\n",
       "  if (root.Bokeh !== undefined) {\n",
       "    embed_document(root);\n",
       "  } else {\n",
       "    let attempts = 0;\n",
       "    const timer = setInterval(function(root) {\n",
       "      if (root.Bokeh !== undefined) {\n",
       "        clearInterval(timer);\n",
       "        embed_document(root);\n",
       "      } else {\n",
       "        attempts++;\n",
       "        if (attempts > 100) {\n",
       "          clearInterval(timer);\n",
       "          console.log(\"Bokeh: ERROR: Unable to run BokehJS code because BokehJS library is missing\");\n",
       "        }\n",
       "      }\n",
       "    }, 10, root)\n",
       "  }\n",
       "})(window);"
      ],
      "application/vnd.bokehjs_exec.v0+json": ""
     },
     "metadata": {
      "application/vnd.bokehjs_exec.v0+json": {
       "id": "74508"
      }
     },
     "output_type": "display_data"
    }
   ],
   "source": [
    "from bokeh.transform import factor_cmap\n",
    "from bokeh.palettes import Spectral10\n",
    "\n",
    "# use the palette to colormap based on the the x[1:2] values\n",
    "p.vbar(x='x', top='counts', width=0.9, source=source, line_color=\"white\",\n",
    "       fill_color=factor_cmap('x', palette=Spectral10, factors=years, start=1, end=2))\n",
    "show(p)"
   ]
  },
  {
   "cell_type": "code",
   "execution_count": 160,
   "metadata": {},
   "outputs": [
    {
     "data": {
      "text/html": [
       "\n",
       "  <div class=\"bk-root\" id=\"6ceaee49-89c8-48fa-b0ea-14ac9103c372\" data-root-id=\"74508\"></div>\n"
      ]
     },
     "metadata": {},
     "output_type": "display_data"
    },
    {
     "data": {
      "application/javascript": [
       "(function(root) {\n",
       "  function embed_document(root) {\n",
       "  const docs_json = {\"8fb8c980-d491-41b1-b250-fb503a319686\":{\"defs\":[],\"roots\":{\"references\":[{\"attributes\":{\"below\":[{\"id\":\"74518\"}],\"center\":[{\"id\":\"74520\"},{\"id\":\"74524\"}],\"height\":250,\"left\":[{\"id\":\"74521\"}],\"renderers\":[{\"id\":\"74530\"},{\"id\":\"75635\"},{\"id\":\"76740\"}],\"title\":{\"id\":\"74509\"},\"toolbar\":{\"id\":\"74525\"},\"toolbar_location\":null,\"x_range\":{\"id\":\"74507\"},\"x_scale\":{\"id\":\"74514\"},\"y_range\":{\"id\":\"74512\"},\"y_scale\":{\"id\":\"74516\"}},\"id\":\"74508\",\"subtype\":\"Figure\",\"type\":\"Plot\"},{\"attributes\":{\"source\":{\"id\":\"74506\"}},\"id\":\"74531\",\"type\":\"CDSView\"},{\"attributes\":{\"factors\":[[\"Apples\",\"2015\"],[\"Apples\",\"2016\"],[\"Apples\",\"2017\"],[\"Pears\",\"2015\"],[\"Pears\",\"2016\"],[\"Pears\",\"2017\"],[\"Nectarines\",\"2015\"],[\"Nectarines\",\"2016\"],[\"Nectarines\",\"2017\"],[\"Plums\",\"2015\"],[\"Plums\",\"2016\"],[\"Plums\",\"2017\"],[\"Grapes\",\"2015\"],[\"Grapes\",\"2016\"],[\"Grapes\",\"2017\"],[\"Strawberries\",\"2015\"],[\"Strawberries\",\"2016\"],[\"Strawberries\",\"2017\"]],\"range_padding\":0.1},\"id\":\"74507\",\"type\":\"FactorRange\"},{\"attributes\":{},\"id\":\"74519\",\"type\":\"CategoricalTicker\"},{\"attributes\":{\"fill_alpha\":{\"value\":0.2},\"fill_color\":{\"field\":\"x\",\"transform\":{\"id\":\"76735\"}},\"hatch_alpha\":{\"value\":0.2},\"line_alpha\":{\"value\":0.2},\"line_color\":{\"value\":\"white\"},\"top\":{\"field\":\"counts\"},\"width\":{\"value\":0.9},\"x\":{\"field\":\"x\"}},\"id\":\"76739\",\"type\":\"VBar\"},{\"attributes\":{\"axis\":{\"id\":\"74521\"},\"coordinates\":null,\"dimension\":1,\"group\":null,\"ticker\":null},\"id\":\"74524\",\"type\":\"Grid\"},{\"attributes\":{\"fill_alpha\":{\"value\":0.1},\"fill_color\":{\"field\":\"x\",\"transform\":{\"id\":\"75630\"}},\"hatch_alpha\":{\"value\":0.1},\"line_alpha\":{\"value\":0.1},\"line_color\":{\"value\":\"white\"},\"top\":{\"field\":\"counts\"},\"width\":{\"value\":0.9},\"x\":{\"field\":\"x\"}},\"id\":\"75633\",\"type\":\"VBar\"},{\"attributes\":{},\"id\":\"74522\",\"type\":\"BasicTicker\"},{\"attributes\":{\"fill_alpha\":{\"value\":0.1},\"fill_color\":{\"field\":\"x\",\"transform\":{\"id\":\"76735\"}},\"hatch_alpha\":{\"value\":0.1},\"line_alpha\":{\"value\":0.1},\"line_color\":{\"value\":\"white\"},\"top\":{\"field\":\"counts\"},\"width\":{\"value\":0.9},\"x\":{\"field\":\"x\"}},\"id\":\"76738\",\"type\":\"VBar\"},{\"attributes\":{\"fill_color\":{\"field\":\"x\",\"transform\":{\"id\":\"76735\"}},\"line_color\":{\"value\":\"white\"},\"top\":{\"field\":\"counts\"},\"width\":{\"value\":0.9},\"x\":{\"field\":\"x\"}},\"id\":\"76737\",\"type\":\"VBar\"},{\"attributes\":{\"coordinates\":null,\"data_source\":{\"id\":\"74506\"},\"glyph\":{\"id\":\"75632\"},\"group\":null,\"hover_glyph\":null,\"muted_glyph\":{\"id\":\"75634\"},\"nonselection_glyph\":{\"id\":\"75633\"},\"view\":{\"id\":\"75636\"}},\"id\":\"75635\",\"type\":\"GlyphRenderer\"},{\"attributes\":{\"data\":{\"counts\":[2,5,3,1,3,2,4,3,4,3,2,4,2,4,5,4,6,3],\"x\":[[\"Apples\",\"2015\"],[\"Apples\",\"2016\"],[\"Apples\",\"2017\"],[\"Pears\",\"2015\"],[\"Pears\",\"2016\"],[\"Pears\",\"2017\"],[\"Nectarines\",\"2015\"],[\"Nectarines\",\"2016\"],[\"Nectarines\",\"2017\"],[\"Plums\",\"2015\"],[\"Plums\",\"2016\"],[\"Plums\",\"2017\"],[\"Grapes\",\"2015\"],[\"Grapes\",\"2016\"],[\"Grapes\",\"2017\"],[\"Strawberries\",\"2015\"],[\"Strawberries\",\"2016\"],[\"Strawberries\",\"2017\"]]},\"selected\":{\"id\":\"75584\"},\"selection_policy\":{\"id\":\"75583\"}},\"id\":\"74506\",\"type\":\"ColumnDataSource\"},{\"attributes\":{\"fill_color\":{\"value\":\"#1f77b4\"},\"line_color\":{\"value\":\"#1f77b4\"},\"top\":{\"field\":\"counts\"},\"width\":{\"value\":0.9},\"x\":{\"field\":\"x\"}},\"id\":\"74527\",\"type\":\"VBar\"},{\"attributes\":{\"source\":{\"id\":\"74506\"}},\"id\":\"76741\",\"type\":\"CDSView\"},{\"attributes\":{},\"id\":\"75578\",\"type\":\"BasicTickFormatter\"},{\"attributes\":{},\"id\":\"75579\",\"type\":\"AllLabels\"},{\"attributes\":{},\"id\":\"75581\",\"type\":\"CategoricalTickFormatter\"},{\"attributes\":{\"end\":2,\"factors\":[\"2015\",\"2016\",\"2017\"],\"palette\":[\"#5e4fa2\",\"#3288bd\",\"#66c2a5\",\"#abdda4\",\"#e6f598\",\"#fee08b\",\"#fdae61\",\"#f46d43\",\"#d53e4f\",\"#9e0142\"],\"start\":1},\"id\":\"75630\",\"type\":\"CategoricalColorMapper\"},{\"attributes\":{},\"id\":\"74516\",\"type\":\"LinearScale\"},{\"attributes\":{\"fill_color\":{\"field\":\"x\",\"transform\":{\"id\":\"75630\"}},\"line_color\":{\"value\":\"white\"},\"top\":{\"field\":\"counts\"},\"width\":{\"value\":0.9},\"x\":{\"field\":\"x\"}},\"id\":\"75632\",\"type\":\"VBar\"},{\"attributes\":{\"coordinates\":null,\"data_source\":{\"id\":\"74506\"},\"glyph\":{\"id\":\"74527\"},\"group\":null,\"hover_glyph\":null,\"muted_glyph\":{\"id\":\"74529\"},\"nonselection_glyph\":{\"id\":\"74528\"},\"view\":{\"id\":\"74531\"}},\"id\":\"74530\",\"type\":\"GlyphRenderer\"},{\"attributes\":{\"axis\":{\"id\":\"74518\"},\"coordinates\":null,\"grid_line_color\":null,\"group\":null,\"ticker\":null},\"id\":\"74520\",\"type\":\"Grid\"},{\"attributes\":{},\"id\":\"75582\",\"type\":\"AllLabels\"},{\"attributes\":{\"fill_alpha\":{\"value\":0.1},\"fill_color\":{\"value\":\"#1f77b4\"},\"hatch_alpha\":{\"value\":0.1},\"line_alpha\":{\"value\":0.1},\"line_color\":{\"value\":\"#1f77b4\"},\"top\":{\"field\":\"counts\"},\"width\":{\"value\":0.9},\"x\":{\"field\":\"x\"}},\"id\":\"74528\",\"type\":\"VBar\"},{\"attributes\":{\"start\":0},\"id\":\"74512\",\"type\":\"DataRange1d\"},{\"attributes\":{\"coordinates\":null,\"formatter\":{\"id\":\"75581\"},\"group\":null,\"major_label_orientation\":1,\"major_label_policy\":{\"id\":\"75582\"},\"ticker\":{\"id\":\"74519\"}},\"id\":\"74518\",\"type\":\"CategoricalAxis\"},{\"attributes\":{\"coordinates\":null,\"formatter\":{\"id\":\"75578\"},\"group\":null,\"major_label_policy\":{\"id\":\"75579\"},\"ticker\":{\"id\":\"74522\"}},\"id\":\"74521\",\"type\":\"LinearAxis\"},{\"attributes\":{\"coordinates\":null,\"group\":null,\"text\":\"Fruit Counts by Year\"},\"id\":\"74509\",\"type\":\"Title\"},{\"attributes\":{\"coordinates\":null,\"data_source\":{\"id\":\"74506\"},\"glyph\":{\"id\":\"76737\"},\"group\":null,\"hover_glyph\":null,\"muted_glyph\":{\"id\":\"76739\"},\"nonselection_glyph\":{\"id\":\"76738\"},\"view\":{\"id\":\"76741\"}},\"id\":\"76740\",\"type\":\"GlyphRenderer\"},{\"attributes\":{\"fill_alpha\":{\"value\":0.2},\"fill_color\":{\"field\":\"x\",\"transform\":{\"id\":\"75630\"}},\"hatch_alpha\":{\"value\":0.2},\"line_alpha\":{\"value\":0.2},\"line_color\":{\"value\":\"white\"},\"top\":{\"field\":\"counts\"},\"width\":{\"value\":0.9},\"x\":{\"field\":\"x\"}},\"id\":\"75634\",\"type\":\"VBar\"},{\"attributes\":{},\"id\":\"74525\",\"type\":\"Toolbar\"},{\"attributes\":{},\"id\":\"74514\",\"type\":\"CategoricalScale\"},{\"attributes\":{\"source\":{\"id\":\"74506\"}},\"id\":\"75636\",\"type\":\"CDSView\"},{\"attributes\":{\"end\":2,\"factors\":[\"2015\",\"2016\",\"2017\"],\"palette\":[\"#deebf7\",\"#9ecae1\",\"#3182bd\"],\"start\":1},\"id\":\"76735\",\"type\":\"CategoricalColorMapper\"},{\"attributes\":{\"fill_alpha\":{\"value\":0.2},\"fill_color\":{\"value\":\"#1f77b4\"},\"hatch_alpha\":{\"value\":0.2},\"line_alpha\":{\"value\":0.2},\"line_color\":{\"value\":\"#1f77b4\"},\"top\":{\"field\":\"counts\"},\"width\":{\"value\":0.9},\"x\":{\"field\":\"x\"}},\"id\":\"74529\",\"type\":\"VBar\"},{\"attributes\":{},\"id\":\"75583\",\"type\":\"UnionRenderers\"},{\"attributes\":{},\"id\":\"75584\",\"type\":\"Selection\"}],\"root_ids\":[\"74508\"]},\"title\":\"Bokeh Application\",\"version\":\"2.4.3\"}};\n",
       "  const render_items = [{\"docid\":\"8fb8c980-d491-41b1-b250-fb503a319686\",\"root_ids\":[\"74508\"],\"roots\":{\"74508\":\"6ceaee49-89c8-48fa-b0ea-14ac9103c372\"}}];\n",
       "  root.Bokeh.embed.embed_items_notebook(docs_json, render_items);\n",
       "  }\n",
       "  if (root.Bokeh !== undefined) {\n",
       "    embed_document(root);\n",
       "  } else {\n",
       "    let attempts = 0;\n",
       "    const timer = setInterval(function(root) {\n",
       "      if (root.Bokeh !== undefined) {\n",
       "        clearInterval(timer);\n",
       "        embed_document(root);\n",
       "      } else {\n",
       "        attempts++;\n",
       "        if (attempts > 100) {\n",
       "          clearInterval(timer);\n",
       "          console.log(\"Bokeh: ERROR: Unable to run BokehJS code because BokehJS library is missing\");\n",
       "        }\n",
       "      }\n",
       "    }, 10, root)\n",
       "  }\n",
       "})(window);"
      ],
      "application/vnd.bokehjs_exec.v0+json": ""
     },
     "metadata": {
      "application/vnd.bokehjs_exec.v0+json": {
       "id": "74508"
      }
     },
     "output_type": "display_data"
    }
   ],
   "source": [
    "from bokeh.transform import factor_cmap\n",
    "from bokeh.palettes import Blues3\n",
    "\n",
    "# use the palette to colormap based on the the x[1:2] values\n",
    "p.vbar(x='x', top='counts', width=0.9, source=source, line_color=\"white\",\n",
    "       fill_color=factor_cmap('x', palette=Blues3[::-1], factors=years, start=1, end=2))\n",
    "show(p)"
   ]
  },
  {
   "cell_type": "markdown",
   "metadata": {},
   "source": [
    "Another method for achieving grouped bars is to explicitly specify a visual displacement for the bars. Such a visual offset is also referred to as a dodge.\n",
    "\n",
    "In this scenario, our data is not “tidy”. Instead a single table with rows indexed by factors (fruit, year), we have separate series for each year. We can plot all the year series using separate calls to vbar but since every bar in each group has the same fruit factor, the bars would overlap visually. We can prevent this overlap and distinguish the bars visually by using the dodge() function to provide an offset for each different call to vbar:"
   ]
  },
  {
   "cell_type": "code",
   "execution_count": 161,
   "metadata": {},
   "outputs": [
    {
     "data": {
      "text/html": [
       "\n",
       "  <div class=\"bk-root\" id=\"6da57817-56dc-43b2-bf13-dbe2addc72e0\" data-root-id=\"77841\"></div>\n"
      ]
     },
     "metadata": {},
     "output_type": "display_data"
    },
    {
     "data": {
      "application/javascript": [
       "(function(root) {\n",
       "  function embed_document(root) {\n",
       "  const docs_json = {\"4516c945-c047-40ff-a68f-1229f88161a5\":{\"defs\":[],\"roots\":{\"references\":[{\"attributes\":{\"below\":[{\"id\":\"77852\"}],\"center\":[{\"id\":\"77854\"},{\"id\":\"77858\"},{\"id\":\"77876\"}],\"height\":250,\"left\":[{\"id\":\"77855\"}],\"renderers\":[{\"id\":\"77865\"},{\"id\":\"77883\"},{\"id\":\"77900\"}],\"title\":{\"id\":\"77842\"},\"toolbar\":{\"id\":\"77859\"},\"toolbar_location\":null,\"x_range\":{\"id\":\"77844\"},\"x_scale\":{\"id\":\"77848\"},\"y_range\":{\"id\":\"77846\"},\"y_scale\":{\"id\":\"77850\"}},\"id\":\"77841\",\"subtype\":\"Figure\",\"type\":\"Plot\"},{\"attributes\":{\"fill_alpha\":{\"value\":0.2},\"fill_color\":{\"value\":\"#718dbf\"},\"hatch_alpha\":{\"value\":0.2},\"hatch_color\":{\"value\":\"#718dbf\"},\"line_alpha\":{\"value\":0.2},\"line_color\":{\"value\":\"#718dbf\"},\"top\":{\"field\":\"2016\"},\"width\":{\"value\":0.2},\"x\":{\"field\":\"fruits\",\"transform\":{\"id\":\"77878\"}}},\"id\":\"77882\",\"type\":\"VBar\"},{\"attributes\":{\"fill_alpha\":{\"value\":0.1},\"fill_color\":{\"value\":\"#e84d60\"},\"hatch_alpha\":{\"value\":0.1},\"hatch_color\":{\"value\":\"#e84d60\"},\"line_alpha\":{\"value\":0.1},\"line_color\":{\"value\":\"#e84d60\"},\"top\":{\"field\":\"2017\"},\"width\":{\"value\":0.2},\"x\":{\"field\":\"fruits\",\"transform\":{\"id\":\"77895\"}}},\"id\":\"77898\",\"type\":\"VBar\"},{\"attributes\":{\"label\":{\"value\":\"2015\"},\"renderers\":[{\"id\":\"77865\"}]},\"id\":\"77877\",\"type\":\"LegendItem\"},{\"attributes\":{\"coordinates\":null,\"data_source\":{\"id\":\"77840\"},\"glyph\":{\"id\":\"77897\"},\"group\":null,\"hover_glyph\":null,\"muted_glyph\":{\"id\":\"77899\"},\"nonselection_glyph\":{\"id\":\"77898\"},\"view\":{\"id\":\"77901\"}},\"id\":\"77900\",\"type\":\"GlyphRenderer\"},{\"attributes\":{},\"id\":\"77875\",\"type\":\"Selection\"},{\"attributes\":{\"coordinates\":null,\"data_source\":{\"id\":\"77840\"},\"glyph\":{\"id\":\"77880\"},\"group\":null,\"hover_glyph\":null,\"muted_glyph\":{\"id\":\"77882\"},\"nonselection_glyph\":{\"id\":\"77881\"},\"view\":{\"id\":\"77884\"}},\"id\":\"77883\",\"type\":\"GlyphRenderer\"},{\"attributes\":{\"range\":{\"id\":\"77844\"},\"value\":0.25},\"id\":\"77895\",\"type\":\"Dodge\"},{\"attributes\":{\"fill_color\":{\"value\":\"#e84d60\"},\"hatch_color\":{\"value\":\"#e84d60\"},\"line_color\":{\"value\":\"#e84d60\"},\"top\":{\"field\":\"2017\"},\"width\":{\"value\":0.2},\"x\":{\"field\":\"fruits\",\"transform\":{\"id\":\"77895\"}}},\"id\":\"77897\",\"type\":\"VBar\"},{\"attributes\":{\"fill_alpha\":{\"value\":0.2},\"fill_color\":{\"value\":\"#e84d60\"},\"hatch_alpha\":{\"value\":0.2},\"hatch_color\":{\"value\":\"#e84d60\"},\"line_alpha\":{\"value\":0.2},\"line_color\":{\"value\":\"#e84d60\"},\"top\":{\"field\":\"2017\"},\"width\":{\"value\":0.2},\"x\":{\"field\":\"fruits\",\"transform\":{\"id\":\"77895\"}}},\"id\":\"77899\",\"type\":\"VBar\"},{\"attributes\":{},\"id\":\"77873\",\"type\":\"AllLabels\"},{\"attributes\":{\"label\":{\"value\":\"2017\"},\"renderers\":[{\"id\":\"77900\"}]},\"id\":\"77911\",\"type\":\"LegendItem\"},{\"attributes\":{\"source\":{\"id\":\"77840\"}},\"id\":\"77901\",\"type\":\"CDSView\"},{\"attributes\":{\"label\":{\"value\":\"2016\"},\"renderers\":[{\"id\":\"77883\"}]},\"id\":\"77894\",\"type\":\"LegendItem\"},{\"attributes\":{\"fill_alpha\":{\"value\":0.1},\"fill_color\":{\"value\":\"#718dbf\"},\"hatch_alpha\":{\"value\":0.1},\"hatch_color\":{\"value\":\"#718dbf\"},\"line_alpha\":{\"value\":0.1},\"line_color\":{\"value\":\"#718dbf\"},\"top\":{\"field\":\"2016\"},\"width\":{\"value\":0.2},\"x\":{\"field\":\"fruits\",\"transform\":{\"id\":\"77878\"}}},\"id\":\"77881\",\"type\":\"VBar\"},{\"attributes\":{},\"id\":\"77874\",\"type\":\"UnionRenderers\"},{\"attributes\":{},\"id\":\"77870\",\"type\":\"AllLabels\"},{\"attributes\":{\"coordinates\":null,\"group\":null,\"items\":[{\"id\":\"77877\"},{\"id\":\"77894\"},{\"id\":\"77911\"}],\"location\":\"top_left\",\"orientation\":\"horizontal\"},\"id\":\"77876\",\"type\":\"Legend\"},{\"attributes\":{\"data\":{\"2015\":[2,1,4,3,2,4],\"2016\":[5,3,3,2,4,6],\"2017\":[3,2,4,4,5,3],\"fruits\":[\"Apples\",\"Pears\",\"Nectarines\",\"Plums\",\"Grapes\",\"Strawberries\"]},\"selected\":{\"id\":\"77875\"},\"selection_policy\":{\"id\":\"77874\"}},\"id\":\"77840\",\"type\":\"ColumnDataSource\"},{\"attributes\":{\"source\":{\"id\":\"77840\"}},\"id\":\"77884\",\"type\":\"CDSView\"},{\"attributes\":{\"source\":{\"id\":\"77840\"}},\"id\":\"77866\",\"type\":\"CDSView\"},{\"attributes\":{},\"id\":\"77872\",\"type\":\"CategoricalTickFormatter\"},{\"attributes\":{},\"id\":\"77869\",\"type\":\"BasicTickFormatter\"},{\"attributes\":{\"range\":{\"id\":\"77844\"},\"value\":-0.25},\"id\":\"77860\",\"type\":\"Dodge\"},{\"attributes\":{\"fill_color\":{\"value\":\"#718dbf\"},\"hatch_color\":{\"value\":\"#718dbf\"},\"line_color\":{\"value\":\"#718dbf\"},\"top\":{\"field\":\"2016\"},\"width\":{\"value\":0.2},\"x\":{\"field\":\"fruits\",\"transform\":{\"id\":\"77878\"}}},\"id\":\"77880\",\"type\":\"VBar\"},{\"attributes\":{\"coordinates\":null,\"formatter\":{\"id\":\"77872\"},\"group\":null,\"major_label_policy\":{\"id\":\"77873\"},\"ticker\":{\"id\":\"77853\"}},\"id\":\"77852\",\"type\":\"CategoricalAxis\"},{\"attributes\":{\"fill_alpha\":{\"value\":0.1},\"fill_color\":{\"value\":\"#c9d9d3\"},\"hatch_alpha\":{\"value\":0.1},\"hatch_color\":{\"value\":\"#c9d9d3\"},\"line_alpha\":{\"value\":0.1},\"line_color\":{\"value\":\"#c9d9d3\"},\"top\":{\"field\":\"2015\"},\"width\":{\"value\":0.2},\"x\":{\"field\":\"fruits\",\"transform\":{\"id\":\"77860\"}}},\"id\":\"77863\",\"type\":\"VBar\"},{\"attributes\":{\"axis\":{\"id\":\"77852\"},\"coordinates\":null,\"grid_line_color\":null,\"group\":null,\"ticker\":null},\"id\":\"77854\",\"type\":\"Grid\"},{\"attributes\":{\"axis\":{\"id\":\"77855\"},\"coordinates\":null,\"dimension\":1,\"group\":null,\"ticker\":null},\"id\":\"77858\",\"type\":\"Grid\"},{\"attributes\":{\"fill_color\":{\"value\":\"#c9d9d3\"},\"hatch_color\":{\"value\":\"#c9d9d3\"},\"line_color\":{\"value\":\"#c9d9d3\"},\"top\":{\"field\":\"2015\"},\"width\":{\"value\":0.2},\"x\":{\"field\":\"fruits\",\"transform\":{\"id\":\"77860\"}}},\"id\":\"77862\",\"type\":\"VBar\"},{\"attributes\":{\"coordinates\":null,\"formatter\":{\"id\":\"77869\"},\"group\":null,\"major_label_policy\":{\"id\":\"77870\"},\"ticker\":{\"id\":\"77856\"}},\"id\":\"77855\",\"type\":\"LinearAxis\"},{\"attributes\":{\"end\":10},\"id\":\"77846\",\"type\":\"Range1d\"},{\"attributes\":{},\"id\":\"77856\",\"type\":\"BasicTicker\"},{\"attributes\":{},\"id\":\"77850\",\"type\":\"LinearScale\"},{\"attributes\":{},\"id\":\"77859\",\"type\":\"Toolbar\"},{\"attributes\":{\"coordinates\":null,\"group\":null,\"text\":\"Fruit Counts by Year\"},\"id\":\"77842\",\"type\":\"Title\"},{\"attributes\":{\"range\":{\"id\":\"77844\"}},\"id\":\"77878\",\"type\":\"Dodge\"},{\"attributes\":{},\"id\":\"77848\",\"type\":\"CategoricalScale\"},{\"attributes\":{\"fill_alpha\":{\"value\":0.2},\"fill_color\":{\"value\":\"#c9d9d3\"},\"hatch_alpha\":{\"value\":0.2},\"hatch_color\":{\"value\":\"#c9d9d3\"},\"line_alpha\":{\"value\":0.2},\"line_color\":{\"value\":\"#c9d9d3\"},\"top\":{\"field\":\"2015\"},\"width\":{\"value\":0.2},\"x\":{\"field\":\"fruits\",\"transform\":{\"id\":\"77860\"}}},\"id\":\"77864\",\"type\":\"VBar\"},{\"attributes\":{\"factors\":[\"Apples\",\"Pears\",\"Nectarines\",\"Plums\",\"Grapes\",\"Strawberries\"],\"range_padding\":0.1},\"id\":\"77844\",\"type\":\"FactorRange\"},{\"attributes\":{\"coordinates\":null,\"data_source\":{\"id\":\"77840\"},\"glyph\":{\"id\":\"77862\"},\"group\":null,\"hover_glyph\":null,\"muted_glyph\":{\"id\":\"77864\"},\"nonselection_glyph\":{\"id\":\"77863\"},\"view\":{\"id\":\"77866\"}},\"id\":\"77865\",\"type\":\"GlyphRenderer\"},{\"attributes\":{},\"id\":\"77853\",\"type\":\"CategoricalTicker\"}],\"root_ids\":[\"77841\"]},\"title\":\"Bokeh Application\",\"version\":\"2.4.3\"}};\n",
       "  const render_items = [{\"docid\":\"4516c945-c047-40ff-a68f-1229f88161a5\",\"root_ids\":[\"77841\"],\"roots\":{\"77841\":\"6da57817-56dc-43b2-bf13-dbe2addc72e0\"}}];\n",
       "  root.Bokeh.embed.embed_items_notebook(docs_json, render_items);\n",
       "  }\n",
       "  if (root.Bokeh !== undefined) {\n",
       "    embed_document(root);\n",
       "  } else {\n",
       "    let attempts = 0;\n",
       "    const timer = setInterval(function(root) {\n",
       "      if (root.Bokeh !== undefined) {\n",
       "        clearInterval(timer);\n",
       "        embed_document(root);\n",
       "      } else {\n",
       "        attempts++;\n",
       "        if (attempts > 100) {\n",
       "          clearInterval(timer);\n",
       "          console.log(\"Bokeh: ERROR: Unable to run BokehJS code because BokehJS library is missing\");\n",
       "        }\n",
       "      }\n",
       "    }, 10, root)\n",
       "  }\n",
       "})(window);"
      ],
      "application/vnd.bokehjs_exec.v0+json": ""
     },
     "metadata": {
      "application/vnd.bokehjs_exec.v0+json": {
       "id": "77841"
      }
     },
     "output_type": "display_data"
    }
   ],
   "source": [
    "from bokeh.core.properties import value\n",
    "from bokeh.models import ColumnDataSource\n",
    "from bokeh.transform import dodge\n",
    "\n",
    "fruits = ['Apples', 'Pears', 'Nectarines', 'Plums', 'Grapes', 'Strawberries']\n",
    "years = ['2015', '2016', '2017']\n",
    "\n",
    "data = {'fruits' : fruits,\n",
    "        '2015'   : [2, 1, 4, 3, 2, 4],\n",
    "        '2016'   : [5, 3, 3, 2, 4, 6],\n",
    "        '2017'   : [3, 2, 4, 4, 5, 3]}\n",
    "\n",
    "source = ColumnDataSource(data=data)\n",
    "\n",
    "p = figure(x_range=fruits, y_range=(0, 10), plot_height=250, title=\"Fruit Counts by Year\",\n",
    "           toolbar_location=None, tools=\"\")\n",
    "\n",
    "p.vbar(x=dodge('fruits', -0.25, range=p.x_range), top='2015', width=0.2, source=source,\n",
    "       color=\"#c9d9d3\", legend_label=\"2015\")\n",
    "\n",
    "p.vbar(x=dodge('fruits',  0.0,  range=p.x_range), top='2016', width=0.2, source=source,\n",
    "       color=\"#718dbf\", legend_label=\"2016\")\n",
    "\n",
    "p.vbar(x=dodge('fruits',  0.25, range=p.x_range), top='2017', width=0.2, source=source,\n",
    "       color=\"#e84d60\", legend_label=\"2017\")\n",
    "\n",
    "p.x_range.range_padding = 0.1\n",
    "p.xgrid.grid_line_color = None\n",
    "p.legend.location = \"top_left\"\n",
    "p.legend.orientation = \"horizontal\"\n",
    "\n",
    "show(p)"
   ]
  },
  {
   "cell_type": "markdown",
   "metadata": {},
   "source": [
    "Another common operation or bar charts is to stack bars on top of one another. Bokeh makes this easy to do with the specialized hbar_stack() and vbar_stack() functions. The example below shows the fruits data from above, but with the bars for each fruit type stacked instead of grouped:"
   ]
  },
  {
   "cell_type": "code",
   "execution_count": 162,
   "metadata": {},
   "outputs": [
    {
     "data": {
      "text/html": [
       "\n",
       "  <div class=\"bk-root\" id=\"ee57aed6-6715-4783-9e3e-8f8c32bd41c0\" data-root-id=\"79020\"></div>\n"
      ]
     },
     "metadata": {},
     "output_type": "display_data"
    },
    {
     "data": {
      "application/javascript": [
       "(function(root) {\n",
       "  function embed_document(root) {\n",
       "  const docs_json = {\"15d5fc37-c1f6-4dd7-8a59-cd9a51795386\":{\"defs\":[],\"roots\":{\"references\":[{\"attributes\":{\"below\":[{\"id\":\"79031\"}],\"center\":[{\"id\":\"79033\"},{\"id\":\"79037\"},{\"id\":\"79060\"}],\"height\":250,\"left\":[{\"id\":\"79034\"}],\"outline_line_color\":null,\"renderers\":[{\"id\":\"79049\"},{\"id\":\"79066\"},{\"id\":\"79082\"}],\"title\":{\"id\":\"79021\"},\"toolbar\":{\"id\":\"79038\"},\"toolbar_location\":null,\"x_range\":{\"id\":\"79023\"},\"x_scale\":{\"id\":\"79027\"},\"y_range\":{\"id\":\"79025\"},\"y_scale\":{\"id\":\"79029\"}},\"id\":\"79020\",\"subtype\":\"Figure\",\"type\":\"Plot\"},{\"attributes\":{\"fields\":[\"2015\",\"2016\"]},\"id\":\"79042\",\"type\":\"Stack\"},{\"attributes\":{\"bottom\":{\"expr\":{\"id\":\"79041\"}},\"fill_color\":{\"value\":\"#718dbf\"},\"hatch_color\":{\"value\":\"#718dbf\"},\"line_color\":{\"value\":\"#718dbf\"},\"top\":{\"expr\":{\"id\":\"79042\"}},\"width\":{\"value\":0.9},\"x\":{\"field\":\"fruits\"}},\"id\":\"79063\",\"type\":\"VBar\"},{\"attributes\":{},\"id\":\"79059\",\"type\":\"Selection\"},{\"attributes\":{\"coordinates\":null,\"group\":null,\"items\":[{\"id\":\"79061\"},{\"id\":\"79077\"},{\"id\":\"79093\"}],\"location\":\"top_left\",\"orientation\":\"horizontal\"},\"id\":\"79060\",\"type\":\"Legend\"},{\"attributes\":{\"source\":{\"id\":\"79019\"}},\"id\":\"79067\",\"type\":\"CDSView\"},{\"attributes\":{\"bottom\":{\"expr\":{\"id\":\"79039\"}},\"fill_alpha\":{\"value\":0.1},\"fill_color\":{\"value\":\"#c9d9d3\"},\"hatch_alpha\":{\"value\":0.1},\"hatch_color\":{\"value\":\"#c9d9d3\"},\"line_alpha\":{\"value\":0.1},\"line_color\":{\"value\":\"#c9d9d3\"},\"top\":{\"expr\":{\"id\":\"79040\"}},\"width\":{\"value\":0.9},\"x\":{\"field\":\"fruits\"}},\"id\":\"79047\",\"type\":\"VBar\"},{\"attributes\":{},\"id\":\"79053\",\"type\":\"BasicTickFormatter\"},{\"attributes\":{\"source\":{\"id\":\"79019\"}},\"id\":\"79050\",\"type\":\"CDSView\"},{\"attributes\":{\"fields\":[\"2015\"]},\"id\":\"79040\",\"type\":\"Stack\"},{\"attributes\":{\"fields\":[\"2015\",\"2016\"]},\"id\":\"79043\",\"type\":\"Stack\"},{\"attributes\":{\"bottom\":{\"expr\":{\"id\":\"79039\"}},\"fill_color\":{\"value\":\"#c9d9d3\"},\"hatch_color\":{\"value\":\"#c9d9d3\"},\"line_color\":{\"value\":\"#c9d9d3\"},\"top\":{\"expr\":{\"id\":\"79040\"}},\"width\":{\"value\":0.9},\"x\":{\"field\":\"fruits\"}},\"id\":\"79046\",\"type\":\"VBar\"},{\"attributes\":{\"coordinates\":null,\"formatter\":{\"id\":\"79053\"},\"group\":null,\"major_label_policy\":{\"id\":\"79054\"},\"minor_tick_line_color\":null,\"ticker\":{\"id\":\"79035\"}},\"id\":\"79034\",\"type\":\"LinearAxis\"},{\"attributes\":{\"data\":{\"2015\":[2,1,4,3,2,4],\"2016\":[5,3,4,2,4,6],\"2017\":[3,2,4,4,5,3],\"fruits\":[\"Apples\",\"Pears\",\"Nectarines\",\"Plums\",\"Grapes\",\"Strawberries\"]},\"selected\":{\"id\":\"79059\"},\"selection_policy\":{\"id\":\"79058\"}},\"id\":\"79019\",\"type\":\"ColumnDataSource\"},{\"attributes\":{\"axis\":{\"id\":\"79034\"},\"coordinates\":null,\"dimension\":1,\"group\":null,\"ticker\":null},\"id\":\"79037\",\"type\":\"Grid\"},{\"attributes\":{\"axis\":{\"id\":\"79031\"},\"coordinates\":null,\"grid_line_color\":null,\"group\":null,\"ticker\":null},\"id\":\"79033\",\"type\":\"Grid\"},{\"attributes\":{},\"id\":\"79035\",\"type\":\"BasicTicker\"},{\"attributes\":{\"bottom\":{\"expr\":{\"id\":\"79039\"}},\"fill_alpha\":{\"value\":0.2},\"fill_color\":{\"value\":\"#c9d9d3\"},\"hatch_alpha\":{\"value\":0.2},\"hatch_color\":{\"value\":\"#c9d9d3\"},\"line_alpha\":{\"value\":0.2},\"line_color\":{\"value\":\"#c9d9d3\"},\"top\":{\"expr\":{\"id\":\"79040\"}},\"width\":{\"value\":0.9},\"x\":{\"field\":\"fruits\"}},\"id\":\"79048\",\"type\":\"VBar\"},{\"attributes\":{\"fields\":[\"2015\",\"2016\",\"2017\"]},\"id\":\"79044\",\"type\":\"Stack\"},{\"attributes\":{},\"id\":\"79032\",\"type\":\"CategoricalTicker\"},{\"attributes\":{\"coordinates\":null,\"data_source\":{\"id\":\"79019\"},\"glyph\":{\"id\":\"79063\"},\"group\":null,\"hover_glyph\":null,\"muted_glyph\":{\"id\":\"79065\"},\"name\":\"2016\",\"nonselection_glyph\":{\"id\":\"79064\"},\"view\":{\"id\":\"79067\"}},\"id\":\"79066\",\"type\":\"GlyphRenderer\"},{\"attributes\":{},\"id\":\"79038\",\"type\":\"Toolbar\"},{\"attributes\":{\"label\":{\"value\":\"2015\"},\"renderers\":[{\"id\":\"79049\"}]},\"id\":\"79061\",\"type\":\"LegendItem\"},{\"attributes\":{\"label\":{\"value\":\"2016\"},\"renderers\":[{\"id\":\"79066\"}]},\"id\":\"79077\",\"type\":\"LegendItem\"},{\"attributes\":{},\"id\":\"79054\",\"type\":\"AllLabels\"},{\"attributes\":{\"coordinates\":null,\"data_source\":{\"id\":\"79019\"},\"glyph\":{\"id\":\"79079\"},\"group\":null,\"hover_glyph\":null,\"muted_glyph\":{\"id\":\"79081\"},\"name\":\"2017\",\"nonselection_glyph\":{\"id\":\"79080\"},\"view\":{\"id\":\"79083\"}},\"id\":\"79082\",\"type\":\"GlyphRenderer\"},{\"attributes\":{\"bottom\":{\"expr\":{\"id\":\"79041\"}},\"fill_alpha\":{\"value\":0.2},\"fill_color\":{\"value\":\"#718dbf\"},\"hatch_alpha\":{\"value\":0.2},\"hatch_color\":{\"value\":\"#718dbf\"},\"line_alpha\":{\"value\":0.2},\"line_color\":{\"value\":\"#718dbf\"},\"top\":{\"expr\":{\"id\":\"79042\"}},\"width\":{\"value\":0.9},\"x\":{\"field\":\"fruits\"}},\"id\":\"79065\",\"type\":\"VBar\"},{\"attributes\":{\"bottom\":{\"expr\":{\"id\":\"79043\"}},\"fill_color\":{\"value\":\"#e84d60\"},\"hatch_color\":{\"value\":\"#e84d60\"},\"line_color\":{\"value\":\"#e84d60\"},\"top\":{\"expr\":{\"id\":\"79044\"}},\"width\":{\"value\":0.9},\"x\":{\"field\":\"fruits\"}},\"id\":\"79079\",\"type\":\"VBar\"},{\"attributes\":{\"fields\":[]},\"id\":\"79039\",\"type\":\"Stack\"},{\"attributes\":{\"bottom\":{\"expr\":{\"id\":\"79041\"}},\"fill_alpha\":{\"value\":0.1},\"fill_color\":{\"value\":\"#718dbf\"},\"hatch_alpha\":{\"value\":0.1},\"hatch_color\":{\"value\":\"#718dbf\"},\"line_alpha\":{\"value\":0.1},\"line_color\":{\"value\":\"#718dbf\"},\"top\":{\"expr\":{\"id\":\"79042\"}},\"width\":{\"value\":0.9},\"x\":{\"field\":\"fruits\"}},\"id\":\"79064\",\"type\":\"VBar\"},{\"attributes\":{\"bottom\":{\"expr\":{\"id\":\"79043\"}},\"fill_alpha\":{\"value\":0.1},\"fill_color\":{\"value\":\"#e84d60\"},\"hatch_alpha\":{\"value\":0.1},\"hatch_color\":{\"value\":\"#e84d60\"},\"line_alpha\":{\"value\":0.1},\"line_color\":{\"value\":\"#e84d60\"},\"top\":{\"expr\":{\"id\":\"79044\"}},\"width\":{\"value\":0.9},\"x\":{\"field\":\"fruits\"}},\"id\":\"79080\",\"type\":\"VBar\"},{\"attributes\":{},\"id\":\"79029\",\"type\":\"LinearScale\"},{\"attributes\":{\"bottom\":{\"expr\":{\"id\":\"79043\"}},\"fill_alpha\":{\"value\":0.2},\"fill_color\":{\"value\":\"#e84d60\"},\"hatch_alpha\":{\"value\":0.2},\"hatch_color\":{\"value\":\"#e84d60\"},\"line_alpha\":{\"value\":0.2},\"line_color\":{\"value\":\"#e84d60\"},\"top\":{\"expr\":{\"id\":\"79044\"}},\"width\":{\"value\":0.9},\"x\":{\"field\":\"fruits\"}},\"id\":\"79081\",\"type\":\"VBar\"},{\"attributes\":{\"coordinates\":null,\"group\":null,\"text\":\"Fruit Counts by Year\"},\"id\":\"79021\",\"type\":\"Title\"},{\"attributes\":{\"source\":{\"id\":\"79019\"}},\"id\":\"79083\",\"type\":\"CDSView\"},{\"attributes\":{\"factors\":[\"Apples\",\"Pears\",\"Nectarines\",\"Plums\",\"Grapes\",\"Strawberries\"],\"range_padding\":0.1},\"id\":\"79023\",\"type\":\"FactorRange\"},{\"attributes\":{\"coordinates\":null,\"data_source\":{\"id\":\"79019\"},\"glyph\":{\"id\":\"79046\"},\"group\":null,\"hover_glyph\":null,\"muted_glyph\":{\"id\":\"79048\"},\"name\":\"2015\",\"nonselection_glyph\":{\"id\":\"79047\"},\"view\":{\"id\":\"79050\"}},\"id\":\"79049\",\"type\":\"GlyphRenderer\"},{\"attributes\":{\"fields\":[\"2015\"]},\"id\":\"79041\",\"type\":\"Stack\"},{\"attributes\":{\"label\":{\"value\":\"2017\"},\"renderers\":[{\"id\":\"79082\"}]},\"id\":\"79093\",\"type\":\"LegendItem\"},{\"attributes\":{},\"id\":\"79056\",\"type\":\"CategoricalTickFormatter\"},{\"attributes\":{\"coordinates\":null,\"formatter\":{\"id\":\"79056\"},\"group\":null,\"major_label_policy\":{\"id\":\"79057\"},\"minor_tick_line_color\":null,\"ticker\":{\"id\":\"79032\"}},\"id\":\"79031\",\"type\":\"CategoricalAxis\"},{\"attributes\":{\"start\":0},\"id\":\"79025\",\"type\":\"DataRange1d\"},{\"attributes\":{},\"id\":\"79057\",\"type\":\"AllLabels\"},{\"attributes\":{},\"id\":\"79058\",\"type\":\"UnionRenderers\"},{\"attributes\":{},\"id\":\"79027\",\"type\":\"CategoricalScale\"}],\"root_ids\":[\"79020\"]},\"title\":\"Bokeh Application\",\"version\":\"2.4.3\"}};\n",
       "  const render_items = [{\"docid\":\"15d5fc37-c1f6-4dd7-8a59-cd9a51795386\",\"root_ids\":[\"79020\"],\"roots\":{\"79020\":\"ee57aed6-6715-4783-9e3e-8f8c32bd41c0\"}}];\n",
       "  root.Bokeh.embed.embed_items_notebook(docs_json, render_items);\n",
       "  }\n",
       "  if (root.Bokeh !== undefined) {\n",
       "    embed_document(root);\n",
       "  } else {\n",
       "    let attempts = 0;\n",
       "    const timer = setInterval(function(root) {\n",
       "      if (root.Bokeh !== undefined) {\n",
       "        clearInterval(timer);\n",
       "        embed_document(root);\n",
       "      } else {\n",
       "        attempts++;\n",
       "        if (attempts > 100) {\n",
       "          clearInterval(timer);\n",
       "          console.log(\"Bokeh: ERROR: Unable to run BokehJS code because BokehJS library is missing\");\n",
       "        }\n",
       "      }\n",
       "    }, 10, root)\n",
       "  }\n",
       "})(window);"
      ],
      "application/vnd.bokehjs_exec.v0+json": ""
     },
     "metadata": {
      "application/vnd.bokehjs_exec.v0+json": {
       "id": "79020"
      }
     },
     "output_type": "display_data"
    }
   ],
   "source": [
    "fruits = ['Apples', 'Pears', 'Nectarines', 'Plums', 'Grapes', 'Strawberries']\n",
    "years = [\"2015\", \"2016\", \"2017\"]\n",
    "colors = [\"#c9d9d3\", \"#718dbf\", \"#e84d60\"]\n",
    "\n",
    "data = {'fruits' : fruits,\n",
    "        '2015'   : [2, 1, 4, 3, 2, 4],\n",
    "        '2016'   : [5, 3, 4, 2, 4, 6],\n",
    "        '2017'   : [3, 2, 4, 4, 5, 3]}\n",
    "\n",
    "source = ColumnDataSource(data=data)\n",
    "\n",
    "p = figure(x_range=fruits, plot_height=250, title=\"Fruit Counts by Year\",\n",
    "           toolbar_location=None, tools=\"\")\n",
    "\n",
    "p.vbar_stack(years, x='fruits', width=0.9, color=colors, source=source,\n",
    "             legend_label=[x for x in years])\n",
    "\n",
    "p.y_range.start = 0\n",
    "p.x_range.range_padding = 0.1\n",
    "p.xgrid.grid_line_color = None\n",
    "p.axis.minor_tick_line_color = None\n",
    "p.outline_line_color = None\n",
    "p.legend.location = \"top_left\"\n",
    "p.legend.orientation = \"horizontal\"\n",
    "\n",
    "show(p)"
   ]
  },
  {
   "cell_type": "markdown",
   "metadata": {},
   "source": [
    "Sometimes we may want to stack bars that have both positive and negative extents. The example below shows how it is possible to create such a stacked bar chart that is split by positive and negative values:"
   ]
  },
  {
   "cell_type": "code",
   "execution_count": 163,
   "metadata": {},
   "outputs": [
    {
     "data": {
      "text/html": [
       "\n",
       "  <div class=\"bk-root\" id=\"a1d12f3c-f8d3-4a4c-be29-a8b524f92e2c\" data-root-id=\"80210\"></div>\n"
      ]
     },
     "metadata": {},
     "output_type": "display_data"
    },
    {
     "data": {
      "application/javascript": [
       "(function(root) {\n",
       "  function embed_document(root) {\n",
       "  const docs_json = {\"3005b4bc-9a33-4bd0-bfe3-5c46726b2463\":{\"defs\":[],\"roots\":{\"references\":[{\"attributes\":{\"below\":[{\"id\":\"80221\"}],\"center\":[{\"id\":\"80224\"},{\"id\":\"80227\"},{\"id\":\"80265\"}],\"height\":250,\"left\":[{\"id\":\"80225\"}],\"outline_line_color\":null,\"renderers\":[{\"id\":\"80253\"},{\"id\":\"80271\"},{\"id\":\"80288\"},{\"id\":\"80312\"},{\"id\":\"80331\"},{\"id\":\"80350\"}],\"title\":{\"id\":\"80211\"},\"toolbar\":{\"id\":\"80235\"},\"toolbar_location\":null,\"x_range\":{\"id\":\"80213\"},\"x_scale\":{\"id\":\"80217\"},\"y_range\":{\"id\":\"80215\"},\"y_scale\":{\"id\":\"80219\"}},\"id\":\"80210\",\"subtype\":\"Figure\",\"type\":\"Plot\"},{\"attributes\":{\"fill_alpha\":{\"value\":0.1},\"fill_color\":{\"value\":\"#fdbb84\"},\"hatch_alpha\":{\"value\":0.1},\"hatch_color\":{\"value\":\"#fdbb84\"},\"height\":{\"value\":0.9},\"left\":{\"expr\":{\"id\":\"80304\"}},\"line_alpha\":{\"value\":0.1},\"line_color\":{\"value\":\"#fdbb84\"},\"right\":{\"expr\":{\"id\":\"80305\"}},\"y\":{\"field\":\"fruits\"}},\"id\":\"80329\",\"type\":\"HBar\"},{\"attributes\":{\"coordinates\":null,\"data_source\":{\"id\":\"80301\"},\"glyph\":{\"id\":\"80328\"},\"group\":null,\"hover_glyph\":null,\"muted_glyph\":{\"id\":\"80330\"},\"name\":\"2016\",\"nonselection_glyph\":{\"id\":\"80329\"},\"view\":{\"id\":\"80332\"}},\"id\":\"80331\",\"type\":\"GlyphRenderer\"},{\"attributes\":{},\"id\":\"80222\",\"type\":\"BasicTicker\"},{\"attributes\":{\"coordinates\":null,\"formatter\":{\"id\":\"80260\"},\"group\":null,\"major_label_policy\":{\"id\":\"80261\"},\"minor_tick_line_color\":null,\"ticker\":{\"id\":\"80222\"}},\"id\":\"80221\",\"type\":\"LinearAxis\"},{\"attributes\":{},\"id\":\"80219\",\"type\":\"CategoricalScale\"},{\"attributes\":{},\"id\":\"80217\",\"type\":\"LinearScale\"},{\"attributes\":{\"fill_alpha\":{\"value\":0.2},\"fill_color\":{\"value\":\"#fdbb84\"},\"hatch_alpha\":{\"value\":0.2},\"hatch_color\":{\"value\":\"#fdbb84\"},\"height\":{\"value\":0.9},\"left\":{\"expr\":{\"id\":\"80304\"}},\"line_alpha\":{\"value\":0.2},\"line_color\":{\"value\":\"#fdbb84\"},\"right\":{\"expr\":{\"id\":\"80305\"}},\"y\":{\"field\":\"fruits\"}},\"id\":\"80330\",\"type\":\"HBar\"},{\"attributes\":{\"coordinates\":null,\"formatter\":{\"id\":\"80257\"},\"group\":null,\"major_label_policy\":{\"id\":\"80258\"},\"minor_tick_line_color\":null,\"ticker\":{\"id\":\"80226\"}},\"id\":\"80225\",\"type\":\"CategoricalAxis\"},{\"attributes\":{},\"id\":\"80233\",\"type\":\"HelpTool\"},{\"attributes\":{\"axis\":{\"id\":\"80221\"},\"coordinates\":null,\"group\":null,\"ticker\":null},\"id\":\"80224\",\"type\":\"Grid\"},{\"attributes\":{\"source\":{\"id\":\"80301\"}},\"id\":\"80332\",\"type\":\"CDSView\"},{\"attributes\":{\"axis\":{\"id\":\"80225\"},\"coordinates\":null,\"dimension\":1,\"grid_line_color\":null,\"group\":null,\"ticker\":null},\"id\":\"80227\",\"type\":\"Grid\"},{\"attributes\":{},\"id\":\"80226\",\"type\":\"CategoricalTicker\"},{\"attributes\":{\"label\":{\"value\":\"2016 imports\"},\"renderers\":[{\"id\":\"80331\"}]},\"id\":\"80345\",\"type\":\"LegendItem\"},{\"attributes\":{},\"id\":\"80229\",\"type\":\"WheelZoomTool\"},{\"attributes\":{},\"id\":\"80228\",\"type\":\"PanTool\"},{\"attributes\":{\"overlay\":{\"id\":\"80234\"}},\"id\":\"80230\",\"type\":\"BoxZoomTool\"},{\"attributes\":{},\"id\":\"80231\",\"type\":\"SaveTool\"},{\"attributes\":{},\"id\":\"80232\",\"type\":\"ResetTool\"},{\"attributes\":{\"coordinates\":null,\"group\":null,\"text\":\"Fruit import/export, by year\"},\"id\":\"80211\",\"type\":\"Title\"},{\"attributes\":{\"fill_alpha\":{\"value\":0.1},\"fill_color\":{\"value\":\"#43a2ca\"},\"hatch_alpha\":{\"value\":0.1},\"hatch_color\":{\"value\":\"#43a2ca\"},\"height\":{\"value\":0.9},\"left\":{\"expr\":{\"id\":\"80243\"}},\"line_alpha\":{\"value\":0.1},\"line_color\":{\"value\":\"#43a2ca\"},\"right\":{\"expr\":{\"id\":\"80244\"}},\"y\":{\"field\":\"fruits\"}},\"id\":\"80251\",\"type\":\"HBar\"},{\"attributes\":{\"data\":{\"2015\":[2,1,4,3,2,4],\"2016\":[5,3,4,2,4,6],\"2017\":[3,2,4,4,5,3],\"fruits\":[\"Apples\",\"Pears\",\"Nectarines\",\"Plums\",\"Grapes\",\"Strawberries\"]},\"selected\":{\"id\":\"80263\"},\"selection_policy\":{\"id\":\"80262\"}},\"id\":\"80242\",\"type\":\"ColumnDataSource\"},{\"attributes\":{\"source\":{\"id\":\"80242\"}},\"id\":\"80254\",\"type\":\"CDSView\"},{\"attributes\":{\"coordinates\":null,\"group\":null,\"items\":[{\"id\":\"80266\"},{\"id\":\"80283\"},{\"id\":\"80300\"},{\"id\":\"80326\"},{\"id\":\"80345\"},{\"id\":\"80364\"}],\"location\":\"top_left\"},\"id\":\"80265\",\"type\":\"Legend\"},{\"attributes\":{\"label\":{\"value\":\"2015 exports\"},\"renderers\":[{\"id\":\"80253\"}]},\"id\":\"80266\",\"type\":\"LegendItem\"},{\"attributes\":{\"end\":16,\"start\":-16},\"id\":\"80213\",\"type\":\"Range1d\"},{\"attributes\":{\"coordinates\":null,\"data_source\":{\"id\":\"80242\"},\"glyph\":{\"id\":\"80250\"},\"group\":null,\"hover_glyph\":null,\"muted_glyph\":{\"id\":\"80252\"},\"name\":\"2015\",\"nonselection_glyph\":{\"id\":\"80251\"},\"view\":{\"id\":\"80254\"}},\"id\":\"80253\",\"type\":\"GlyphRenderer\"},{\"attributes\":{\"factors\":[\"Apples\",\"Pears\",\"Nectarines\",\"Plums\",\"Grapes\",\"Strawberries\"],\"range_padding\":0.1},\"id\":\"80215\",\"type\":\"FactorRange\"},{\"attributes\":{\"coordinates\":null,\"data_source\":{\"id\":\"80301\"},\"glyph\":{\"id\":\"80347\"},\"group\":null,\"hover_glyph\":null,\"muted_glyph\":{\"id\":\"80349\"},\"name\":\"2017\",\"nonselection_glyph\":{\"id\":\"80348\"},\"view\":{\"id\":\"80351\"}},\"id\":\"80350\",\"type\":\"GlyphRenderer\"},{\"attributes\":{\"fill_color\":{\"value\":\"#fee8c8\"},\"hatch_color\":{\"value\":\"#fee8c8\"},\"height\":{\"value\":0.9},\"left\":{\"expr\":{\"id\":\"80306\"}},\"line_color\":{\"value\":\"#fee8c8\"},\"right\":{\"expr\":{\"id\":\"80307\"}},\"y\":{\"field\":\"fruits\"}},\"id\":\"80347\",\"type\":\"HBar\"},{\"attributes\":{\"fill_alpha\":{\"value\":0.1},\"fill_color\":{\"value\":\"#fee8c8\"},\"hatch_alpha\":{\"value\":0.1},\"hatch_color\":{\"value\":\"#fee8c8\"},\"height\":{\"value\":0.9},\"left\":{\"expr\":{\"id\":\"80306\"}},\"line_alpha\":{\"value\":0.1},\"line_color\":{\"value\":\"#fee8c8\"},\"right\":{\"expr\":{\"id\":\"80307\"}},\"y\":{\"field\":\"fruits\"}},\"id\":\"80348\",\"type\":\"HBar\"},{\"attributes\":{\"fill_alpha\":{\"value\":0.2},\"fill_color\":{\"value\":\"#fee8c8\"},\"hatch_alpha\":{\"value\":0.2},\"hatch_color\":{\"value\":\"#fee8c8\"},\"height\":{\"value\":0.9},\"left\":{\"expr\":{\"id\":\"80306\"}},\"line_alpha\":{\"value\":0.2},\"line_color\":{\"value\":\"#fee8c8\"},\"right\":{\"expr\":{\"id\":\"80307\"}},\"y\":{\"field\":\"fruits\"}},\"id\":\"80349\",\"type\":\"HBar\"},{\"attributes\":{\"source\":{\"id\":\"80301\"}},\"id\":\"80351\",\"type\":\"CDSView\"},{\"attributes\":{\"label\":{\"value\":\"2017 imports\"},\"renderers\":[{\"id\":\"80350\"}]},\"id\":\"80364\",\"type\":\"LegendItem\"},{\"attributes\":{\"fill_color\":{\"value\":\"#43a2ca\"},\"hatch_color\":{\"value\":\"#43a2ca\"},\"height\":{\"value\":0.9},\"left\":{\"expr\":{\"id\":\"80243\"}},\"line_color\":{\"value\":\"#43a2ca\"},\"right\":{\"expr\":{\"id\":\"80244\"}},\"y\":{\"field\":\"fruits\"}},\"id\":\"80250\",\"type\":\"HBar\"},{\"attributes\":{\"tools\":[{\"id\":\"80228\"},{\"id\":\"80229\"},{\"id\":\"80230\"},{\"id\":\"80231\"},{\"id\":\"80232\"},{\"id\":\"80233\"}]},\"id\":\"80235\",\"type\":\"Toolbar\"},{\"attributes\":{\"bottom_units\":\"screen\",\"coordinates\":null,\"fill_alpha\":0.5,\"fill_color\":\"lightgrey\",\"group\":null,\"left_units\":\"screen\",\"level\":\"overlay\",\"line_alpha\":1.0,\"line_color\":\"black\",\"line_dash\":[4,4],\"line_width\":2,\"right_units\":\"screen\",\"syncable\":false,\"top_units\":\"screen\"},\"id\":\"80234\",\"type\":\"BoxAnnotation\"},{\"attributes\":{\"coordinates\":null,\"data_source\":{\"id\":\"80242\"},\"glyph\":{\"id\":\"80268\"},\"group\":null,\"hover_glyph\":null,\"muted_glyph\":{\"id\":\"80270\"},\"name\":\"2016\",\"nonselection_glyph\":{\"id\":\"80269\"},\"view\":{\"id\":\"80272\"}},\"id\":\"80271\",\"type\":\"GlyphRenderer\"},{\"attributes\":{\"fields\":[\"2015\"]},\"id\":\"80303\",\"type\":\"Stack\"},{\"attributes\":{\"fill_color\":{\"value\":\"#a8ddb5\"},\"hatch_color\":{\"value\":\"#a8ddb5\"},\"height\":{\"value\":0.9},\"left\":{\"expr\":{\"id\":\"80245\"}},\"line_color\":{\"value\":\"#a8ddb5\"},\"right\":{\"expr\":{\"id\":\"80246\"}},\"y\":{\"field\":\"fruits\"}},\"id\":\"80268\",\"type\":\"HBar\"},{\"attributes\":{\"coordinates\":null,\"data_source\":{\"id\":\"80301\"},\"glyph\":{\"id\":\"80309\"},\"group\":null,\"hover_glyph\":null,\"muted_glyph\":{\"id\":\"80311\"},\"name\":\"2015\",\"nonselection_glyph\":{\"id\":\"80310\"},\"view\":{\"id\":\"80313\"}},\"id\":\"80312\",\"type\":\"GlyphRenderer\"},{\"attributes\":{\"fill_alpha\":{\"value\":0.1},\"fill_color\":{\"value\":\"#a8ddb5\"},\"hatch_alpha\":{\"value\":0.1},\"hatch_color\":{\"value\":\"#a8ddb5\"},\"height\":{\"value\":0.9},\"left\":{\"expr\":{\"id\":\"80245\"}},\"line_alpha\":{\"value\":0.1},\"line_color\":{\"value\":\"#a8ddb5\"},\"right\":{\"expr\":{\"id\":\"80246\"}},\"y\":{\"field\":\"fruits\"}},\"id\":\"80269\",\"type\":\"HBar\"},{\"attributes\":{\"fields\":[\"2015\",\"2016\",\"2017\"]},\"id\":\"80248\",\"type\":\"Stack\"},{\"attributes\":{\"fields\":[]},\"id\":\"80302\",\"type\":\"Stack\"},{\"attributes\":{\"fill_alpha\":{\"value\":0.2},\"fill_color\":{\"value\":\"#a8ddb5\"},\"hatch_alpha\":{\"value\":0.2},\"hatch_color\":{\"value\":\"#a8ddb5\"},\"height\":{\"value\":0.9},\"left\":{\"expr\":{\"id\":\"80245\"}},\"line_alpha\":{\"value\":0.2},\"line_color\":{\"value\":\"#a8ddb5\"},\"right\":{\"expr\":{\"id\":\"80246\"}},\"y\":{\"field\":\"fruits\"}},\"id\":\"80270\",\"type\":\"HBar\"},{\"attributes\":{},\"id\":\"80257\",\"type\":\"CategoricalTickFormatter\"},{\"attributes\":{\"fields\":[\"2015\"]},\"id\":\"80304\",\"type\":\"Stack\"},{\"attributes\":{\"fill_alpha\":{\"value\":0.2},\"fill_color\":{\"value\":\"#43a2ca\"},\"hatch_alpha\":{\"value\":0.2},\"hatch_color\":{\"value\":\"#43a2ca\"},\"height\":{\"value\":0.9},\"left\":{\"expr\":{\"id\":\"80243\"}},\"line_alpha\":{\"value\":0.2},\"line_color\":{\"value\":\"#43a2ca\"},\"right\":{\"expr\":{\"id\":\"80244\"}},\"y\":{\"field\":\"fruits\"}},\"id\":\"80252\",\"type\":\"HBar\"},{\"attributes\":{\"fields\":[\"2015\",\"2016\"]},\"id\":\"80305\",\"type\":\"Stack\"},{\"attributes\":{},\"id\":\"80258\",\"type\":\"AllLabels\"},{\"attributes\":{\"fields\":[\"2015\",\"2016\"]},\"id\":\"80306\",\"type\":\"Stack\"},{\"attributes\":{\"fields\":[\"2015\",\"2016\",\"2017\"]},\"id\":\"80307\",\"type\":\"Stack\"},{\"attributes\":{\"fill_color\":{\"value\":\"#e34a33\"},\"hatch_color\":{\"value\":\"#e34a33\"},\"height\":{\"value\":0.9},\"left\":{\"expr\":{\"id\":\"80302\"}},\"line_color\":{\"value\":\"#e34a33\"},\"right\":{\"expr\":{\"id\":\"80303\"}},\"y\":{\"field\":\"fruits\"}},\"id\":\"80309\",\"type\":\"HBar\"},{\"attributes\":{\"source\":{\"id\":\"80242\"}},\"id\":\"80272\",\"type\":\"CDSView\"},{\"attributes\":{},\"id\":\"80260\",\"type\":\"BasicTickFormatter\"},{\"attributes\":{\"fill_alpha\":{\"value\":0.1},\"fill_color\":{\"value\":\"#e34a33\"},\"hatch_alpha\":{\"value\":0.1},\"hatch_color\":{\"value\":\"#e34a33\"},\"height\":{\"value\":0.9},\"left\":{\"expr\":{\"id\":\"80302\"}},\"line_alpha\":{\"value\":0.1},\"line_color\":{\"value\":\"#e34a33\"},\"right\":{\"expr\":{\"id\":\"80303\"}},\"y\":{\"field\":\"fruits\"}},\"id\":\"80310\",\"type\":\"HBar\"},{\"attributes\":{\"label\":{\"value\":\"2016 exports\"},\"renderers\":[{\"id\":\"80271\"}]},\"id\":\"80283\",\"type\":\"LegendItem\"},{\"attributes\":{},\"id\":\"80261\",\"type\":\"AllLabels\"},{\"attributes\":{\"fill_alpha\":{\"value\":0.2},\"fill_color\":{\"value\":\"#e34a33\"},\"hatch_alpha\":{\"value\":0.2},\"hatch_color\":{\"value\":\"#e34a33\"},\"height\":{\"value\":0.9},\"left\":{\"expr\":{\"id\":\"80302\"}},\"line_alpha\":{\"value\":0.2},\"line_color\":{\"value\":\"#e34a33\"},\"right\":{\"expr\":{\"id\":\"80303\"}},\"y\":{\"field\":\"fruits\"}},\"id\":\"80311\",\"type\":\"HBar\"},{\"attributes\":{\"fill_color\":{\"value\":\"#fdbb84\"},\"hatch_color\":{\"value\":\"#fdbb84\"},\"height\":{\"value\":0.9},\"left\":{\"expr\":{\"id\":\"80304\"}},\"line_color\":{\"value\":\"#fdbb84\"},\"right\":{\"expr\":{\"id\":\"80305\"}},\"y\":{\"field\":\"fruits\"}},\"id\":\"80328\",\"type\":\"HBar\"},{\"attributes\":{},\"id\":\"80324\",\"type\":\"Selection\"},{\"attributes\":{\"fields\":[\"2015\"]},\"id\":\"80245\",\"type\":\"Stack\"},{\"attributes\":{\"source\":{\"id\":\"80301\"}},\"id\":\"80313\",\"type\":\"CDSView\"},{\"attributes\":{\"label\":{\"value\":\"2015 imports\"},\"renderers\":[{\"id\":\"80312\"}]},\"id\":\"80326\",\"type\":\"LegendItem\"},{\"attributes\":{\"data\":{\"2015\":[-1,0,-1,-3,-2,-1],\"2016\":[-2,-1,-3,-1,-2,-2],\"2017\":[-1,-2,-1,0,-2,-2],\"fruits\":[\"Apples\",\"Pears\",\"Nectarines\",\"Plums\",\"Grapes\",\"Strawberries\"]},\"selected\":{\"id\":\"80324\"},\"selection_policy\":{\"id\":\"80323\"}},\"id\":\"80301\",\"type\":\"ColumnDataSource\"},{\"attributes\":{},\"id\":\"80262\",\"type\":\"UnionRenderers\"},{\"attributes\":{\"fields\":[\"2015\",\"2016\"]},\"id\":\"80246\",\"type\":\"Stack\"},{\"attributes\":{},\"id\":\"80263\",\"type\":\"Selection\"},{\"attributes\":{},\"id\":\"80323\",\"type\":\"UnionRenderers\"},{\"attributes\":{\"fields\":[\"2015\",\"2016\"]},\"id\":\"80247\",\"type\":\"Stack\"},{\"attributes\":{\"fields\":[\"2015\"]},\"id\":\"80244\",\"type\":\"Stack\"},{\"attributes\":{\"coordinates\":null,\"data_source\":{\"id\":\"80242\"},\"glyph\":{\"id\":\"80285\"},\"group\":null,\"hover_glyph\":null,\"muted_glyph\":{\"id\":\"80287\"},\"name\":\"2017\",\"nonselection_glyph\":{\"id\":\"80286\"},\"view\":{\"id\":\"80289\"}},\"id\":\"80288\",\"type\":\"GlyphRenderer\"},{\"attributes\":{\"fill_color\":{\"value\":\"#e0f3db\"},\"hatch_color\":{\"value\":\"#e0f3db\"},\"height\":{\"value\":0.9},\"left\":{\"expr\":{\"id\":\"80247\"}},\"line_color\":{\"value\":\"#e0f3db\"},\"right\":{\"expr\":{\"id\":\"80248\"}},\"y\":{\"field\":\"fruits\"}},\"id\":\"80285\",\"type\":\"HBar\"},{\"attributes\":{\"fill_alpha\":{\"value\":0.1},\"fill_color\":{\"value\":\"#e0f3db\"},\"hatch_alpha\":{\"value\":0.1},\"hatch_color\":{\"value\":\"#e0f3db\"},\"height\":{\"value\":0.9},\"left\":{\"expr\":{\"id\":\"80247\"}},\"line_alpha\":{\"value\":0.1},\"line_color\":{\"value\":\"#e0f3db\"},\"right\":{\"expr\":{\"id\":\"80248\"}},\"y\":{\"field\":\"fruits\"}},\"id\":\"80286\",\"type\":\"HBar\"},{\"attributes\":{\"fill_alpha\":{\"value\":0.2},\"fill_color\":{\"value\":\"#e0f3db\"},\"hatch_alpha\":{\"value\":0.2},\"hatch_color\":{\"value\":\"#e0f3db\"},\"height\":{\"value\":0.9},\"left\":{\"expr\":{\"id\":\"80247\"}},\"line_alpha\":{\"value\":0.2},\"line_color\":{\"value\":\"#e0f3db\"},\"right\":{\"expr\":{\"id\":\"80248\"}},\"y\":{\"field\":\"fruits\"}},\"id\":\"80287\",\"type\":\"HBar\"},{\"attributes\":{\"source\":{\"id\":\"80242\"}},\"id\":\"80289\",\"type\":\"CDSView\"},{\"attributes\":{\"label\":{\"value\":\"2017 exports\"},\"renderers\":[{\"id\":\"80288\"}]},\"id\":\"80300\",\"type\":\"LegendItem\"},{\"attributes\":{\"fields\":[]},\"id\":\"80243\",\"type\":\"Stack\"}],\"root_ids\":[\"80210\"]},\"title\":\"Bokeh Application\",\"version\":\"2.4.3\"}};\n",
       "  const render_items = [{\"docid\":\"3005b4bc-9a33-4bd0-bfe3-5c46726b2463\",\"root_ids\":[\"80210\"],\"roots\":{\"80210\":\"a1d12f3c-f8d3-4a4c-be29-a8b524f92e2c\"}}];\n",
       "  root.Bokeh.embed.embed_items_notebook(docs_json, render_items);\n",
       "  }\n",
       "  if (root.Bokeh !== undefined) {\n",
       "    embed_document(root);\n",
       "  } else {\n",
       "    let attempts = 0;\n",
       "    const timer = setInterval(function(root) {\n",
       "      if (root.Bokeh !== undefined) {\n",
       "        clearInterval(timer);\n",
       "        embed_document(root);\n",
       "      } else {\n",
       "        attempts++;\n",
       "        if (attempts > 100) {\n",
       "          clearInterval(timer);\n",
       "          console.log(\"Bokeh: ERROR: Unable to run BokehJS code because BokehJS library is missing\");\n",
       "        }\n",
       "      }\n",
       "    }, 10, root)\n",
       "  }\n",
       "})(window);"
      ],
      "application/vnd.bokehjs_exec.v0+json": ""
     },
     "metadata": {
      "application/vnd.bokehjs_exec.v0+json": {
       "id": "80210"
      }
     },
     "output_type": "display_data"
    }
   ],
   "source": [
    "from bokeh.palettes import GnBu3, OrRd3\n",
    "\n",
    "fruits = ['Apples', 'Pears', 'Nectarines', 'Plums', 'Grapes', 'Strawberries']\n",
    "years = [\"2015\", \"2016\", \"2017\"]\n",
    "\n",
    "exports = {'fruits' : fruits,\n",
    "           '2015'   : [2, 1, 4, 3, 2, 4],\n",
    "           '2016'   : [5, 3, 4, 2, 4, 6],\n",
    "           '2017'   : [3, 2, 4, 4, 5, 3]}\n",
    "imports = {'fruits' : fruits,\n",
    "           '2015'   : [-1, 0, -1, -3, -2, -1],\n",
    "           '2016'   : [-2, -1, -3, -1, -2, -2],\n",
    "           '2017'   : [-1, -2, -1, 0, -2, -2]}\n",
    "\n",
    "p = figure(y_range=fruits, plot_height=250, x_range=(-16, 16), title=\"Fruit import/export, by year\",\n",
    "           toolbar_location=None)\n",
    "\n",
    "p.hbar_stack(years, y='fruits', height=0.9, color=GnBu3, source=ColumnDataSource(exports),\n",
    "             legend_label=[\"%s exports\" % x for x in years])\n",
    "\n",
    "p.hbar_stack(years, y='fruits', height=0.9, color=OrRd3, source=ColumnDataSource(imports),\n",
    "             legend_label=[\"%s imports\" % x for x in years])\n",
    "\n",
    "p.y_range.range_padding = 0.1\n",
    "p.ygrid.grid_line_color = None\n",
    "p.legend.location = \"top_left\"\n",
    "p.axis.minor_tick_line_color = None\n",
    "p.outline_line_color = None\n",
    "\n",
    "show(p)"
   ]
  },
  {
   "cell_type": "code",
   "execution_count": 164,
   "metadata": {},
   "outputs": [
    {
     "data": {
      "text/html": [
       "\n",
       "  <div class=\"bk-root\" id=\"8b6e4a1b-f747-4e62-b829-ee9f118e9b38\" data-root-id=\"81508\"></div>\n"
      ]
     },
     "metadata": {},
     "output_type": "display_data"
    },
    {
     "data": {
      "application/javascript": [
       "(function(root) {\n",
       "  function embed_document(root) {\n",
       "  const docs_json = {\"0bcef99c-afce-4d15-9e6d-510c64eca85f\":{\"defs\":[],\"roots\":{\"references\":[{\"attributes\":{\"below\":[{\"id\":\"81519\"}],\"center\":[{\"id\":\"81522\"},{\"id\":\"81525\"},{\"id\":\"81563\"}],\"height\":250,\"left\":[{\"id\":\"81523\"}],\"outline_line_color\":null,\"renderers\":[{\"id\":\"81551\"},{\"id\":\"81569\"},{\"id\":\"81586\"},{\"id\":\"81610\"},{\"id\":\"81629\"},{\"id\":\"81648\"}],\"title\":{\"id\":\"81509\"},\"toolbar\":{\"id\":\"81533\"},\"toolbar_location\":null,\"x_range\":{\"id\":\"81511\"},\"x_scale\":{\"id\":\"81515\"},\"y_range\":{\"id\":\"81513\"},\"y_scale\":{\"id\":\"81517\"}},\"id\":\"81508\",\"subtype\":\"Figure\",\"type\":\"Plot\"},{\"attributes\":{},\"id\":\"81558\",\"type\":\"BasicTickFormatter\"},{\"attributes\":{},\"id\":\"81515\",\"type\":\"LinearScale\"},{\"attributes\":{\"coordinates\":null,\"formatter\":{\"id\":\"81558\"},\"group\":null,\"major_label_policy\":{\"id\":\"81559\"},\"minor_tick_line_color\":null,\"ticker\":{\"id\":\"81520\"}},\"id\":\"81519\",\"type\":\"LinearAxis\"},{\"attributes\":{},\"id\":\"81520\",\"type\":\"BasicTicker\"},{\"attributes\":{},\"id\":\"81531\",\"type\":\"HelpTool\"},{\"attributes\":{},\"id\":\"81517\",\"type\":\"CategoricalScale\"},{\"attributes\":{\"coordinates\":null,\"group\":null,\"text\":\"Fruit import/export, by year\"},\"id\":\"81509\",\"type\":\"Title\"},{\"attributes\":{\"factors\":[\"Apples\",\"Pears\",\"Nectarines\",\"Plums\",\"Grapes\",\"Strawberries\"],\"range_padding\":0.1},\"id\":\"81513\",\"type\":\"FactorRange\"},{\"attributes\":{\"coordinates\":null,\"formatter\":{\"id\":\"81555\"},\"group\":null,\"major_label_policy\":{\"id\":\"81556\"},\"minor_tick_line_color\":null,\"ticker\":{\"id\":\"81524\"}},\"id\":\"81523\",\"type\":\"CategoricalAxis\"},{\"attributes\":{\"axis\":{\"id\":\"81519\"},\"coordinates\":null,\"group\":null,\"ticker\":null},\"id\":\"81522\",\"type\":\"Grid\"},{\"attributes\":{\"fields\":[]},\"id\":\"81541\",\"type\":\"Stack\"},{\"attributes\":{\"axis\":{\"id\":\"81523\"},\"coordinates\":null,\"dimension\":1,\"grid_line_color\":null,\"group\":null,\"ticker\":null},\"id\":\"81525\",\"type\":\"Grid\"},{\"attributes\":{},\"id\":\"81524\",\"type\":\"CategoricalTicker\"},{\"attributes\":{},\"id\":\"81527\",\"type\":\"WheelZoomTool\"},{\"attributes\":{\"fields\":[\"2015\"]},\"id\":\"81542\",\"type\":\"Stack\"},{\"attributes\":{},\"id\":\"81526\",\"type\":\"PanTool\"},{\"attributes\":{\"overlay\":{\"id\":\"81532\"}},\"id\":\"81528\",\"type\":\"BoxZoomTool\"},{\"attributes\":{},\"id\":\"81529\",\"type\":\"SaveTool\"},{\"attributes\":{\"fields\":[\"2015\",\"2016\"]},\"id\":\"81544\",\"type\":\"Stack\"},{\"attributes\":{},\"id\":\"81530\",\"type\":\"ResetTool\"},{\"attributes\":{\"bottom_units\":\"screen\",\"coordinates\":null,\"fill_alpha\":0.5,\"fill_color\":\"lightgrey\",\"group\":null,\"left_units\":\"screen\",\"level\":\"overlay\",\"line_alpha\":1.0,\"line_color\":\"black\",\"line_dash\":[4,4],\"line_width\":2,\"right_units\":\"screen\",\"syncable\":false,\"top_units\":\"screen\"},\"id\":\"81532\",\"type\":\"BoxAnnotation\"},{\"attributes\":{\"coordinates\":null,\"data_source\":{\"id\":\"81540\"},\"glyph\":{\"id\":\"81548\"},\"group\":null,\"hover_glyph\":null,\"muted_glyph\":{\"id\":\"81550\"},\"name\":\"2015\",\"nonselection_glyph\":{\"id\":\"81549\"},\"view\":{\"id\":\"81552\"}},\"id\":\"81551\",\"type\":\"GlyphRenderer\"},{\"attributes\":{\"coordinates\":null,\"data_source\":{\"id\":\"81540\"},\"glyph\":{\"id\":\"81566\"},\"group\":null,\"hover_glyph\":null,\"muted_glyph\":{\"id\":\"81568\"},\"name\":\"2016\",\"nonselection_glyph\":{\"id\":\"81567\"},\"view\":{\"id\":\"81570\"}},\"id\":\"81569\",\"type\":\"GlyphRenderer\"},{\"attributes\":{\"fill_color\":{\"value\":\"#9ecae1\"},\"hatch_color\":{\"value\":\"#9ecae1\"},\"height\":{\"value\":0.9},\"left\":{\"expr\":{\"id\":\"81543\"}},\"line_color\":{\"value\":\"#9ecae1\"},\"right\":{\"expr\":{\"id\":\"81544\"}},\"y\":{\"field\":\"fruits\"}},\"id\":\"81566\",\"type\":\"HBar\"},{\"attributes\":{\"fill_alpha\":{\"value\":0.1},\"fill_color\":{\"value\":\"#deebf7\"},\"hatch_alpha\":{\"value\":0.1},\"hatch_color\":{\"value\":\"#deebf7\"},\"height\":{\"value\":0.9},\"left\":{\"expr\":{\"id\":\"81541\"}},\"line_alpha\":{\"value\":0.1},\"line_color\":{\"value\":\"#deebf7\"},\"right\":{\"expr\":{\"id\":\"81542\"}},\"y\":{\"field\":\"fruits\"}},\"id\":\"81549\",\"type\":\"HBar\"},{\"attributes\":{\"source\":{\"id\":\"81540\"}},\"id\":\"81552\",\"type\":\"CDSView\"},{\"attributes\":{\"fill_color\":{\"value\":\"#3182bd\"},\"hatch_color\":{\"value\":\"#3182bd\"},\"height\":{\"value\":0.9},\"left\":{\"expr\":{\"id\":\"81545\"}},\"line_color\":{\"value\":\"#3182bd\"},\"right\":{\"expr\":{\"id\":\"81546\"}},\"y\":{\"field\":\"fruits\"}},\"id\":\"81583\",\"type\":\"HBar\"},{\"attributes\":{\"fill_alpha\":{\"value\":0.1},\"fill_color\":{\"value\":\"#9ecae1\"},\"hatch_alpha\":{\"value\":0.1},\"hatch_color\":{\"value\":\"#9ecae1\"},\"height\":{\"value\":0.9},\"left\":{\"expr\":{\"id\":\"81543\"}},\"line_alpha\":{\"value\":0.1},\"line_color\":{\"value\":\"#9ecae1\"},\"right\":{\"expr\":{\"id\":\"81544\"}},\"y\":{\"field\":\"fruits\"}},\"id\":\"81567\",\"type\":\"HBar\"},{\"attributes\":{\"fill_alpha\":{\"value\":0.2},\"fill_color\":{\"value\":\"#9ecae1\"},\"hatch_alpha\":{\"value\":0.2},\"hatch_color\":{\"value\":\"#9ecae1\"},\"height\":{\"value\":0.9},\"left\":{\"expr\":{\"id\":\"81543\"}},\"line_alpha\":{\"value\":0.2},\"line_color\":{\"value\":\"#9ecae1\"},\"right\":{\"expr\":{\"id\":\"81544\"}},\"y\":{\"field\":\"fruits\"}},\"id\":\"81568\",\"type\":\"HBar\"},{\"attributes\":{\"fields\":[\"2015\",\"2016\"]},\"id\":\"81545\",\"type\":\"Stack\"},{\"attributes\":{\"fields\":[\"2015\",\"2016\",\"2017\"]},\"id\":\"81546\",\"type\":\"Stack\"},{\"attributes\":{\"coordinates\":null,\"group\":null,\"items\":[{\"id\":\"81564\"},{\"id\":\"81581\"},{\"id\":\"81598\"},{\"id\":\"81624\"},{\"id\":\"81643\"},{\"id\":\"81662\"}],\"location\":\"top_left\"},\"id\":\"81563\",\"type\":\"Legend\"},{\"attributes\":{\"source\":{\"id\":\"81540\"}},\"id\":\"81570\",\"type\":\"CDSView\"},{\"attributes\":{},\"id\":\"81560\",\"type\":\"UnionRenderers\"},{\"attributes\":{\"label\":{\"value\":\"2016 exports\"},\"renderers\":[{\"id\":\"81569\"}]},\"id\":\"81581\",\"type\":\"LegendItem\"},{\"attributes\":{},\"id\":\"81559\",\"type\":\"AllLabels\"},{\"attributes\":{},\"id\":\"81561\",\"type\":\"Selection\"},{\"attributes\":{\"fill_alpha\":{\"value\":0.2},\"fill_color\":{\"value\":\"#deebf7\"},\"hatch_alpha\":{\"value\":0.2},\"hatch_color\":{\"value\":\"#deebf7\"},\"height\":{\"value\":0.9},\"left\":{\"expr\":{\"id\":\"81541\"}},\"line_alpha\":{\"value\":0.2},\"line_color\":{\"value\":\"#deebf7\"},\"right\":{\"expr\":{\"id\":\"81542\"}},\"y\":{\"field\":\"fruits\"}},\"id\":\"81550\",\"type\":\"HBar\"},{\"attributes\":{},\"id\":\"81556\",\"type\":\"AllLabels\"},{\"attributes\":{\"label\":{\"value\":\"2015 exports\"},\"renderers\":[{\"id\":\"81551\"}]},\"id\":\"81564\",\"type\":\"LegendItem\"},{\"attributes\":{},\"id\":\"81555\",\"type\":\"CategoricalTickFormatter\"},{\"attributes\":{\"fields\":[\"2015\"]},\"id\":\"81543\",\"type\":\"Stack\"},{\"attributes\":{\"coordinates\":null,\"data_source\":{\"id\":\"81540\"},\"glyph\":{\"id\":\"81583\"},\"group\":null,\"hover_glyph\":null,\"muted_glyph\":{\"id\":\"81585\"},\"name\":\"2017\",\"nonselection_glyph\":{\"id\":\"81584\"},\"view\":{\"id\":\"81587\"}},\"id\":\"81586\",\"type\":\"GlyphRenderer\"},{\"attributes\":{\"fields\":[]},\"id\":\"81600\",\"type\":\"Stack\"},{\"attributes\":{\"fill_alpha\":{\"value\":0.1},\"fill_color\":{\"value\":\"#3182bd\"},\"hatch_alpha\":{\"value\":0.1},\"hatch_color\":{\"value\":\"#3182bd\"},\"height\":{\"value\":0.9},\"left\":{\"expr\":{\"id\":\"81545\"}},\"line_alpha\":{\"value\":0.1},\"line_color\":{\"value\":\"#3182bd\"},\"right\":{\"expr\":{\"id\":\"81546\"}},\"y\":{\"field\":\"fruits\"}},\"id\":\"81584\",\"type\":\"HBar\"},{\"attributes\":{\"fill_alpha\":{\"value\":0.2},\"fill_color\":{\"value\":\"#3182bd\"},\"hatch_alpha\":{\"value\":0.2},\"hatch_color\":{\"value\":\"#3182bd\"},\"height\":{\"value\":0.9},\"left\":{\"expr\":{\"id\":\"81545\"}},\"line_alpha\":{\"value\":0.2},\"line_color\":{\"value\":\"#3182bd\"},\"right\":{\"expr\":{\"id\":\"81546\"}},\"y\":{\"field\":\"fruits\"}},\"id\":\"81585\",\"type\":\"HBar\"},{\"attributes\":{\"source\":{\"id\":\"81540\"}},\"id\":\"81587\",\"type\":\"CDSView\"},{\"attributes\":{\"label\":{\"value\":\"2017 exports\"},\"renderers\":[{\"id\":\"81586\"}]},\"id\":\"81598\",\"type\":\"LegendItem\"},{\"attributes\":{\"coordinates\":null,\"data_source\":{\"id\":\"81599\"},\"glyph\":{\"id\":\"81626\"},\"group\":null,\"hover_glyph\":null,\"muted_glyph\":{\"id\":\"81628\"},\"name\":\"2016\",\"nonselection_glyph\":{\"id\":\"81627\"},\"view\":{\"id\":\"81630\"}},\"id\":\"81629\",\"type\":\"GlyphRenderer\"},{\"attributes\":{\"fill_alpha\":{\"value\":0.1},\"fill_color\":{\"value\":\"#fdae6b\"},\"hatch_alpha\":{\"value\":0.1},\"hatch_color\":{\"value\":\"#fdae6b\"},\"height\":{\"value\":0.9},\"left\":{\"expr\":{\"id\":\"81602\"}},\"line_alpha\":{\"value\":0.1},\"line_color\":{\"value\":\"#fdae6b\"},\"right\":{\"expr\":{\"id\":\"81603\"}},\"y\":{\"field\":\"fruits\"}},\"id\":\"81627\",\"type\":\"HBar\"},{\"attributes\":{\"fill_alpha\":{\"value\":0.2},\"fill_color\":{\"value\":\"#fdae6b\"},\"hatch_alpha\":{\"value\":0.2},\"hatch_color\":{\"value\":\"#fdae6b\"},\"height\":{\"value\":0.9},\"left\":{\"expr\":{\"id\":\"81602\"}},\"line_alpha\":{\"value\":0.2},\"line_color\":{\"value\":\"#fdae6b\"},\"right\":{\"expr\":{\"id\":\"81603\"}},\"y\":{\"field\":\"fruits\"}},\"id\":\"81628\",\"type\":\"HBar\"},{\"attributes\":{\"source\":{\"id\":\"81599\"}},\"id\":\"81630\",\"type\":\"CDSView\"},{\"attributes\":{\"label\":{\"value\":\"2016 imports\"},\"renderers\":[{\"id\":\"81629\"}]},\"id\":\"81643\",\"type\":\"LegendItem\"},{\"attributes\":{\"fields\":[\"2015\"]},\"id\":\"81601\",\"type\":\"Stack\"},{\"attributes\":{\"coordinates\":null,\"data_source\":{\"id\":\"81599\"},\"glyph\":{\"id\":\"81607\"},\"group\":null,\"hover_glyph\":null,\"muted_glyph\":{\"id\":\"81609\"},\"name\":\"2015\",\"nonselection_glyph\":{\"id\":\"81608\"},\"view\":{\"id\":\"81611\"}},\"id\":\"81610\",\"type\":\"GlyphRenderer\"},{\"attributes\":{\"fields\":[\"2015\"]},\"id\":\"81602\",\"type\":\"Stack\"},{\"attributes\":{\"fields\":[\"2015\",\"2016\"]},\"id\":\"81603\",\"type\":\"Stack\"},{\"attributes\":{\"fields\":[\"2015\",\"2016\"]},\"id\":\"81604\",\"type\":\"Stack\"},{\"attributes\":{\"fields\":[\"2015\",\"2016\",\"2017\"]},\"id\":\"81605\",\"type\":\"Stack\"},{\"attributes\":{\"fill_color\":{\"value\":\"#fee6ce\"},\"hatch_color\":{\"value\":\"#fee6ce\"},\"height\":{\"value\":0.9},\"left\":{\"expr\":{\"id\":\"81600\"}},\"line_color\":{\"value\":\"#fee6ce\"},\"right\":{\"expr\":{\"id\":\"81601\"}},\"y\":{\"field\":\"fruits\"}},\"id\":\"81607\",\"type\":\"HBar\"},{\"attributes\":{\"fill_color\":{\"value\":\"#deebf7\"},\"hatch_color\":{\"value\":\"#deebf7\"},\"height\":{\"value\":0.9},\"left\":{\"expr\":{\"id\":\"81541\"}},\"line_color\":{\"value\":\"#deebf7\"},\"right\":{\"expr\":{\"id\":\"81542\"}},\"y\":{\"field\":\"fruits\"}},\"id\":\"81548\",\"type\":\"HBar\"},{\"attributes\":{\"fill_color\":{\"value\":\"#fdae6b\"},\"hatch_color\":{\"value\":\"#fdae6b\"},\"height\":{\"value\":0.9},\"left\":{\"expr\":{\"id\":\"81602\"}},\"line_color\":{\"value\":\"#fdae6b\"},\"right\":{\"expr\":{\"id\":\"81603\"}},\"y\":{\"field\":\"fruits\"}},\"id\":\"81626\",\"type\":\"HBar\"},{\"attributes\":{\"fill_alpha\":{\"value\":0.1},\"fill_color\":{\"value\":\"#fee6ce\"},\"hatch_alpha\":{\"value\":0.1},\"hatch_color\":{\"value\":\"#fee6ce\"},\"height\":{\"value\":0.9},\"left\":{\"expr\":{\"id\":\"81600\"}},\"line_alpha\":{\"value\":0.1},\"line_color\":{\"value\":\"#fee6ce\"},\"right\":{\"expr\":{\"id\":\"81601\"}},\"y\":{\"field\":\"fruits\"}},\"id\":\"81608\",\"type\":\"HBar\"},{\"attributes\":{\"data\":{\"2015\":[-1,0,-1,-3,-2,-1],\"2016\":[-2,-1,-3,-1,-2,-2],\"2017\":[-1,-2,-1,0,-2,-2],\"fruits\":[\"Apples\",\"Pears\",\"Nectarines\",\"Plums\",\"Grapes\",\"Strawberries\"]},\"selected\":{\"id\":\"81622\"},\"selection_policy\":{\"id\":\"81621\"}},\"id\":\"81599\",\"type\":\"ColumnDataSource\"},{\"attributes\":{\"fill_alpha\":{\"value\":0.2},\"fill_color\":{\"value\":\"#fee6ce\"},\"hatch_alpha\":{\"value\":0.2},\"hatch_color\":{\"value\":\"#fee6ce\"},\"height\":{\"value\":0.9},\"left\":{\"expr\":{\"id\":\"81600\"}},\"line_alpha\":{\"value\":0.2},\"line_color\":{\"value\":\"#fee6ce\"},\"right\":{\"expr\":{\"id\":\"81601\"}},\"y\":{\"field\":\"fruits\"}},\"id\":\"81609\",\"type\":\"HBar\"},{\"attributes\":{\"end\":16,\"start\":-16},\"id\":\"81511\",\"type\":\"Range1d\"},{\"attributes\":{\"data\":{\"2015\":[2,1,4,3,2,4],\"2016\":[5,3,4,2,4,6],\"2017\":[3,2,4,4,5,3],\"fruits\":[\"Apples\",\"Pears\",\"Nectarines\",\"Plums\",\"Grapes\",\"Strawberries\"]},\"selected\":{\"id\":\"81561\"},\"selection_policy\":{\"id\":\"81560\"}},\"id\":\"81540\",\"type\":\"ColumnDataSource\"},{\"attributes\":{},\"id\":\"81622\",\"type\":\"Selection\"},{\"attributes\":{\"coordinates\":null,\"data_source\":{\"id\":\"81599\"},\"glyph\":{\"id\":\"81645\"},\"group\":null,\"hover_glyph\":null,\"muted_glyph\":{\"id\":\"81647\"},\"name\":\"2017\",\"nonselection_glyph\":{\"id\":\"81646\"},\"view\":{\"id\":\"81649\"}},\"id\":\"81648\",\"type\":\"GlyphRenderer\"},{\"attributes\":{\"source\":{\"id\":\"81599\"}},\"id\":\"81611\",\"type\":\"CDSView\"},{\"attributes\":{\"label\":{\"value\":\"2015 imports\"},\"renderers\":[{\"id\":\"81610\"}]},\"id\":\"81624\",\"type\":\"LegendItem\"},{\"attributes\":{\"fill_color\":{\"value\":\"#e6550d\"},\"hatch_color\":{\"value\":\"#e6550d\"},\"height\":{\"value\":0.9},\"left\":{\"expr\":{\"id\":\"81604\"}},\"line_color\":{\"value\":\"#e6550d\"},\"right\":{\"expr\":{\"id\":\"81605\"}},\"y\":{\"field\":\"fruits\"}},\"id\":\"81645\",\"type\":\"HBar\"},{\"attributes\":{},\"id\":\"81621\",\"type\":\"UnionRenderers\"},{\"attributes\":{\"fill_alpha\":{\"value\":0.1},\"fill_color\":{\"value\":\"#e6550d\"},\"hatch_alpha\":{\"value\":0.1},\"hatch_color\":{\"value\":\"#e6550d\"},\"height\":{\"value\":0.9},\"left\":{\"expr\":{\"id\":\"81604\"}},\"line_alpha\":{\"value\":0.1},\"line_color\":{\"value\":\"#e6550d\"},\"right\":{\"expr\":{\"id\":\"81605\"}},\"y\":{\"field\":\"fruits\"}},\"id\":\"81646\",\"type\":\"HBar\"},{\"attributes\":{\"fill_alpha\":{\"value\":0.2},\"fill_color\":{\"value\":\"#e6550d\"},\"hatch_alpha\":{\"value\":0.2},\"hatch_color\":{\"value\":\"#e6550d\"},\"height\":{\"value\":0.9},\"left\":{\"expr\":{\"id\":\"81604\"}},\"line_alpha\":{\"value\":0.2},\"line_color\":{\"value\":\"#e6550d\"},\"right\":{\"expr\":{\"id\":\"81605\"}},\"y\":{\"field\":\"fruits\"}},\"id\":\"81647\",\"type\":\"HBar\"},{\"attributes\":{\"source\":{\"id\":\"81599\"}},\"id\":\"81649\",\"type\":\"CDSView\"},{\"attributes\":{\"label\":{\"value\":\"2017 imports\"},\"renderers\":[{\"id\":\"81648\"}]},\"id\":\"81662\",\"type\":\"LegendItem\"},{\"attributes\":{\"tools\":[{\"id\":\"81526\"},{\"id\":\"81527\"},{\"id\":\"81528\"},{\"id\":\"81529\"},{\"id\":\"81530\"},{\"id\":\"81531\"}]},\"id\":\"81533\",\"type\":\"Toolbar\"}],\"root_ids\":[\"81508\"]},\"title\":\"Bokeh Application\",\"version\":\"2.4.3\"}};\n",
       "  const render_items = [{\"docid\":\"0bcef99c-afce-4d15-9e6d-510c64eca85f\",\"root_ids\":[\"81508\"],\"roots\":{\"81508\":\"8b6e4a1b-f747-4e62-b829-ee9f118e9b38\"}}];\n",
       "  root.Bokeh.embed.embed_items_notebook(docs_json, render_items);\n",
       "  }\n",
       "  if (root.Bokeh !== undefined) {\n",
       "    embed_document(root);\n",
       "  } else {\n",
       "    let attempts = 0;\n",
       "    const timer = setInterval(function(root) {\n",
       "      if (root.Bokeh !== undefined) {\n",
       "        clearInterval(timer);\n",
       "        embed_document(root);\n",
       "      } else {\n",
       "        attempts++;\n",
       "        if (attempts > 100) {\n",
       "          clearInterval(timer);\n",
       "          console.log(\"Bokeh: ERROR: Unable to run BokehJS code because BokehJS library is missing\");\n",
       "        }\n",
       "      }\n",
       "    }, 10, root)\n",
       "  }\n",
       "})(window);"
      ],
      "application/vnd.bokehjs_exec.v0+json": ""
     },
     "metadata": {
      "application/vnd.bokehjs_exec.v0+json": {
       "id": "81508"
      }
     },
     "output_type": "display_data"
    }
   ],
   "source": [
    "from bokeh.palettes import GnBu3, OrRd3, Blues3, Oranges3\n",
    "\n",
    "Blues3 = Blues3[::-1]\n",
    "Oranges3 = Oranges3[::-1]\n",
    "\n",
    "fruits = ['Apples', 'Pears', 'Nectarines', 'Plums', 'Grapes', 'Strawberries']\n",
    "years = [\"2015\", \"2016\", \"2017\"]\n",
    "\n",
    "exports = {'fruits' : fruits,\n",
    "           '2015'   : [2, 1, 4, 3, 2, 4],\n",
    "           '2016'   : [5, 3, 4, 2, 4, 6],\n",
    "           '2017'   : [3, 2, 4, 4, 5, 3]}\n",
    "imports = {'fruits' : fruits,\n",
    "           '2015'   : [-1, 0, -1, -3, -2, -1],\n",
    "           '2016'   : [-2, -1, -3, -1, -2, -2],\n",
    "           '2017'   : [-1, -2, -1, 0, -2, -2]}\n",
    "\n",
    "p = figure(y_range=fruits, plot_height=250, x_range=(-16, 16), title=\"Fruit import/export, by year\",\n",
    "           toolbar_location=None)\n",
    "\n",
    "p.hbar_stack(years, y='fruits', height=0.9, color=Blues3, source=ColumnDataSource(exports),\n",
    "             legend_label=[\"%s exports\" % x for x in years])\n",
    "\n",
    "p.hbar_stack(years, y='fruits', height=0.9, color=Oranges3, source=ColumnDataSource(imports),\n",
    "             legend_label=[\"%s imports\" % x for x in years])\n",
    "\n",
    "p.y_range.range_padding = 0.1\n",
    "p.ygrid.grid_line_color = None\n",
    "p.legend.location = \"top_left\"\n",
    "p.axis.minor_tick_line_color = None\n",
    "p.outline_line_color = None\n",
    "\n",
    "show(p)"
   ]
  },
  {
   "cell_type": "markdown",
   "metadata": {},
   "source": [
    "## Mixing Categorical Levels\n",
    "\n",
    "If you have created a range with nested categories as above, it is possible to plot glyphs using only the \"outer\" categories, if desired. The plot below shows monthly values grouped by quarter as bars. The data for these are in the famliar format:\n",
    "\n",
    "    factors = [(\"Q1\", \"jan\"), (\"Q1\", \"feb\"), (\"Q1\", \"mar\"), ....]\n",
    "\n",
    "The plot also overlays a line representing average quarterly values, and this is accomplished by using only the \"quarter\" part of each nexted category:\n",
    "\n",
    "    p.line(x=[\"Q1\", \"Q2\", \"Q3\", \"Q4\"], y=....)"
   ]
  },
  {
   "cell_type": "code",
   "execution_count": 168,
   "metadata": {},
   "outputs": [
    {
     "data": {
      "text/html": [
       "\n",
       "  <div class=\"bk-root\" id=\"2d94bede-1cef-4eb4-a3b3-953329fd6a83\" data-root-id=\"86563\"></div>\n"
      ]
     },
     "metadata": {},
     "output_type": "display_data"
    },
    {
     "data": {
      "application/javascript": [
       "(function(root) {\n",
       "  function embed_document(root) {\n",
       "  const docs_json = {\"eeb749b5-5645-4337-b648-934e70a7acc8\":{\"defs\":[],\"roots\":{\"references\":[{\"attributes\":{\"below\":[{\"id\":\"86571\"}],\"center\":[{\"id\":\"86573\"},{\"id\":\"86577\"}],\"height\":250,\"left\":[{\"id\":\"86574\"}],\"renderers\":[{\"id\":\"86596\"},{\"id\":\"86602\"},{\"id\":\"86608\"}],\"title\":{\"id\":\"87750\"},\"toolbar\":{\"id\":\"86585\"},\"x_range\":{\"id\":\"86562\"},\"x_scale\":{\"id\":\"86567\"},\"y_range\":{\"id\":\"86565\"},\"y_scale\":{\"id\":\"86569\"}},\"id\":\"86563\",\"subtype\":\"Figure\",\"type\":\"Plot\"},{\"attributes\":{},\"id\":\"87758\",\"type\":\"UnionRenderers\"},{\"attributes\":{},\"id\":\"86578\",\"type\":\"PanTool\"},{\"attributes\":{\"bottom_units\":\"screen\",\"coordinates\":null,\"fill_alpha\":0.5,\"fill_color\":\"lightgrey\",\"group\":null,\"left_units\":\"screen\",\"level\":\"overlay\",\"line_alpha\":1.0,\"line_color\":\"black\",\"line_dash\":[4,4],\"line_width\":2,\"right_units\":\"screen\",\"syncable\":false,\"top_units\":\"screen\"},\"id\":\"86584\",\"type\":\"BoxAnnotation\"},{\"attributes\":{},\"id\":\"86583\",\"type\":\"HelpTool\"},{\"attributes\":{},\"id\":\"86579\",\"type\":\"WheelZoomTool\"},{\"attributes\":{\"overlay\":{\"id\":\"86584\"}},\"id\":\"86580\",\"type\":\"BoxZoomTool\"},{\"attributes\":{},\"id\":\"86581\",\"type\":\"SaveTool\"},{\"attributes\":{},\"id\":\"86582\",\"type\":\"ResetTool\"},{\"attributes\":{\"fill_alpha\":{\"value\":0.1},\"fill_color\":{\"value\":\"white\"},\"hatch_alpha\":{\"value\":0.1},\"line_alpha\":{\"value\":0.1},\"line_color\":{\"value\":\"red\"},\"size\":{\"value\":10},\"x\":{\"field\":\"x\"},\"y\":{\"field\":\"y\"}},\"id\":\"86606\",\"type\":\"Circle\"},{\"attributes\":{\"coordinates\":null,\"group\":null},\"id\":\"87750\",\"type\":\"Title\"},{\"attributes\":{\"data\":{\"x\":[\"Q1\",\"Q2\",\"Q3\",\"Q4\"],\"y\":[12,9,13,14]},\"selected\":{\"id\":\"87763\"},\"selection_policy\":{\"id\":\"87762\"}},\"id\":\"86604\",\"type\":\"ColumnDataSource\"},{\"attributes\":{\"fill_alpha\":{\"value\":0.2},\"fill_color\":{\"value\":\"white\"},\"hatch_alpha\":{\"value\":0.2},\"line_alpha\":{\"value\":0.2},\"line_color\":{\"value\":\"red\"},\"size\":{\"value\":10},\"x\":{\"field\":\"x\"},\"y\":{\"field\":\"y\"}},\"id\":\"86607\",\"type\":\"Circle\"},{\"attributes\":{\"line_alpha\":0.1,\"line_color\":\"red\",\"line_width\":3,\"x\":{\"field\":\"x\"},\"y\":{\"field\":\"y\"}},\"id\":\"86600\",\"type\":\"Line\"},{\"attributes\":{},\"id\":\"87761\",\"type\":\"Selection\"},{\"attributes\":{},\"id\":\"86572\",\"type\":\"CategoricalTicker\"},{\"attributes\":{\"source\":{\"id\":\"86592\"}},\"id\":\"86597\",\"type\":\"CDSView\"},{\"attributes\":{\"fill_color\":{\"value\":\"white\"},\"line_color\":{\"value\":\"red\"},\"size\":{\"value\":10},\"x\":{\"field\":\"x\"},\"y\":{\"field\":\"y\"}},\"id\":\"86605\",\"type\":\"Circle\"},{\"attributes\":{},\"id\":\"87756\",\"type\":\"CategoricalTickFormatter\"},{\"attributes\":{},\"id\":\"87753\",\"type\":\"BasicTickFormatter\"},{\"attributes\":{},\"id\":\"87760\",\"type\":\"UnionRenderers\"},{\"attributes\":{},\"id\":\"86575\",\"type\":\"BasicTicker\"},{\"attributes\":{\"line_alpha\":0.2,\"line_color\":\"red\",\"line_width\":3,\"x\":{\"field\":\"x\"},\"y\":{\"field\":\"y\"}},\"id\":\"86601\",\"type\":\"Line\"},{\"attributes\":{},\"id\":\"87754\",\"type\":\"AllLabels\"},{\"attributes\":{},\"id\":\"87763\",\"type\":\"Selection\"},{\"attributes\":{\"coordinates\":null,\"formatter\":{\"id\":\"87753\"},\"group\":null,\"major_label_policy\":{\"id\":\"87754\"},\"ticker\":{\"id\":\"86575\"}},\"id\":\"86574\",\"type\":\"LinearAxis\"},{\"attributes\":{\"coordinates\":null,\"data_source\":{\"id\":\"86598\"},\"glyph\":{\"id\":\"86599\"},\"group\":null,\"hover_glyph\":null,\"muted_glyph\":{\"id\":\"86601\"},\"nonselection_glyph\":{\"id\":\"86600\"},\"view\":{\"id\":\"86603\"}},\"id\":\"86602\",\"type\":\"GlyphRenderer\"},{\"attributes\":{\"factors\":[[\"Q1\",\"jan\"],[\"Q1\",\"feb\"],[\"Q1\",\"mar\"],[\"Q2\",\"apr\"],[\"Q2\",\"may\"],[\"Q2\",\"jun\"],[\"Q3\",\"jul\"],[\"Q3\",\"aug\"],[\"Q3\",\"sep\"],[\"Q4\",\"oct\"],[\"Q4\",\"nov\"],[\"Q4\",\"dec\"]],\"range_padding\":0.1},\"id\":\"86562\",\"type\":\"FactorRange\"},{\"attributes\":{\"axis\":{\"id\":\"86574\"},\"coordinates\":null,\"dimension\":1,\"group\":null,\"ticker\":null},\"id\":\"86577\",\"type\":\"Grid\"},{\"attributes\":{\"data\":{\"x\":[\"Q1\",\"Q2\",\"Q3\",\"Q4\"],\"y\":[12,9,13,14]},\"selected\":{\"id\":\"87761\"},\"selection_policy\":{\"id\":\"87760\"}},\"id\":\"86598\",\"type\":\"ColumnDataSource\"},{\"attributes\":{},\"id\":\"87757\",\"type\":\"AllLabels\"},{\"attributes\":{\"coordinates\":null,\"formatter\":{\"id\":\"87756\"},\"group\":null,\"major_label_policy\":{\"id\":\"87757\"},\"ticker\":{\"id\":\"86572\"}},\"id\":\"86571\",\"type\":\"CategoricalAxis\"},{\"attributes\":{\"source\":{\"id\":\"86598\"}},\"id\":\"86603\",\"type\":\"CDSView\"},{\"attributes\":{\"axis\":{\"id\":\"86571\"},\"coordinates\":null,\"grid_line_color\":null,\"group\":null,\"ticker\":null},\"id\":\"86573\",\"type\":\"Grid\"},{\"attributes\":{\"line_color\":\"red\",\"line_width\":3,\"x\":{\"field\":\"x\"},\"y\":{\"field\":\"y\"}},\"id\":\"86599\",\"type\":\"Line\"},{\"attributes\":{},\"id\":\"87759\",\"type\":\"Selection\"},{\"attributes\":{},\"id\":\"86569\",\"type\":\"LinearScale\"},{\"attributes\":{\"fill_alpha\":{\"value\":0.1},\"fill_color\":{\"value\":\"#1f77b4\"},\"hatch_alpha\":{\"value\":0.1},\"line_alpha\":{\"value\":0.1},\"line_color\":{\"value\":\"#1f77b4\"},\"top\":{\"field\":\"top\"},\"width\":{\"value\":0.9},\"x\":{\"field\":\"x\"}},\"id\":\"86594\",\"type\":\"VBar\"},{\"attributes\":{},\"id\":\"87762\",\"type\":\"UnionRenderers\"},{\"attributes\":{},\"id\":\"86567\",\"type\":\"CategoricalScale\"},{\"attributes\":{\"coordinates\":null,\"data_source\":{\"id\":\"86592\"},\"glyph\":{\"id\":\"86593\"},\"group\":null,\"hover_glyph\":null,\"muted_glyph\":{\"id\":\"86595\"},\"nonselection_glyph\":{\"id\":\"86594\"},\"view\":{\"id\":\"86597\"}},\"id\":\"86596\",\"type\":\"GlyphRenderer\"},{\"attributes\":{\"fill_alpha\":{\"value\":0.2},\"fill_color\":{\"value\":\"#1f77b4\"},\"hatch_alpha\":{\"value\":0.2},\"line_alpha\":{\"value\":0.2},\"line_color\":{\"value\":\"#1f77b4\"},\"top\":{\"field\":\"top\"},\"width\":{\"value\":0.9},\"x\":{\"field\":\"x\"}},\"id\":\"86595\",\"type\":\"VBar\"},{\"attributes\":{\"tools\":[{\"id\":\"86578\"},{\"id\":\"86579\"},{\"id\":\"86580\"},{\"id\":\"86581\"},{\"id\":\"86582\"},{\"id\":\"86583\"}]},\"id\":\"86585\",\"type\":\"Toolbar\"},{\"attributes\":{\"start\":0},\"id\":\"86565\",\"type\":\"DataRange1d\"},{\"attributes\":{\"coordinates\":null,\"data_source\":{\"id\":\"86604\"},\"glyph\":{\"id\":\"86605\"},\"group\":null,\"hover_glyph\":null,\"muted_glyph\":{\"id\":\"86607\"},\"nonselection_glyph\":{\"id\":\"86606\"},\"view\":{\"id\":\"86609\"}},\"id\":\"86608\",\"type\":\"GlyphRenderer\"},{\"attributes\":{\"data\":{\"top\":[10,12,16,9,10,8,12,13,14,14,12,16],\"x\":[[\"Q1\",\"jan\"],[\"Q1\",\"feb\"],[\"Q1\",\"mar\"],[\"Q2\",\"apr\"],[\"Q2\",\"may\"],[\"Q2\",\"jun\"],[\"Q3\",\"jul\"],[\"Q3\",\"aug\"],[\"Q3\",\"sep\"],[\"Q4\",\"oct\"],[\"Q4\",\"nov\"],[\"Q4\",\"dec\"]]},\"selected\":{\"id\":\"87759\"},\"selection_policy\":{\"id\":\"87758\"}},\"id\":\"86592\",\"type\":\"ColumnDataSource\"},{\"attributes\":{\"source\":{\"id\":\"86604\"}},\"id\":\"86609\",\"type\":\"CDSView\"},{\"attributes\":{\"fill_alpha\":{\"value\":0.5},\"fill_color\":{\"value\":\"#1f77b4\"},\"hatch_alpha\":{\"value\":0.5},\"line_alpha\":{\"value\":0.5},\"line_color\":{\"value\":\"#1f77b4\"},\"top\":{\"field\":\"top\"},\"width\":{\"value\":0.9},\"x\":{\"field\":\"x\"}},\"id\":\"86593\",\"type\":\"VBar\"}],\"root_ids\":[\"86563\"]},\"title\":\"Bokeh Application\",\"version\":\"2.4.3\"}};\n",
       "  const render_items = [{\"docid\":\"eeb749b5-5645-4337-b648-934e70a7acc8\",\"root_ids\":[\"86563\"],\"roots\":{\"86563\":\"2d94bede-1cef-4eb4-a3b3-953329fd6a83\"}}];\n",
       "  root.Bokeh.embed.embed_items_notebook(docs_json, render_items);\n",
       "  }\n",
       "  if (root.Bokeh !== undefined) {\n",
       "    embed_document(root);\n",
       "  } else {\n",
       "    let attempts = 0;\n",
       "    const timer = setInterval(function(root) {\n",
       "      if (root.Bokeh !== undefined) {\n",
       "        clearInterval(timer);\n",
       "        embed_document(root);\n",
       "      } else {\n",
       "        attempts++;\n",
       "        if (attempts > 100) {\n",
       "          clearInterval(timer);\n",
       "          console.log(\"Bokeh: ERROR: Unable to run BokehJS code because BokehJS library is missing\");\n",
       "        }\n",
       "      }\n",
       "    }, 10, root)\n",
       "  }\n",
       "})(window);"
      ],
      "application/vnd.bokehjs_exec.v0+json": ""
     },
     "metadata": {
      "application/vnd.bokehjs_exec.v0+json": {
       "id": "86563"
      }
     },
     "output_type": "display_data"
    }
   ],
   "source": [
    "factors = [(\"Q1\", \"jan\"), (\"Q1\", \"feb\"), (\"Q1\", \"mar\"),\n",
    "           (\"Q2\", \"apr\"), (\"Q2\", \"may\"), (\"Q2\", \"jun\"),\n",
    "           (\"Q3\", \"jul\"), (\"Q3\", \"aug\"), (\"Q3\", \"sep\"),\n",
    "           (\"Q4\", \"oct\"), (\"Q4\", \"nov\"), (\"Q4\", \"dec\")]\n",
    "\n",
    "p = figure(x_range=FactorRange(*factors), plot_height=250)\n",
    "\n",
    "x = [ 10, 12, 16, 9, 10, 8, 12, 13, 14, 14, 12, 16 ]\n",
    "p.vbar(x=factors, top=x, width=0.9, alpha=0.5)\n",
    "\n",
    "qs, aves = [\"Q1\", \"Q2\", \"Q3\", \"Q4\"], [12, 9, 13, 14]\n",
    "p.line(x=qs, y=aves, color=\"red\", line_width=3)\n",
    "p.circle(x=qs, y=aves, line_color=\"red\", fill_color=\"white\", size=10)\n",
    "\n",
    "p.y_range.start = 0\n",
    "p.x_range.range_padding = 0.1\n",
    "p.xgrid.grid_line_color = None\n",
    "\n",
    "show(p)"
   ]
  },
  {
   "cell_type": "markdown",
   "metadata": {},
   "source": [
    "## Using Pandas `GroupBy`\n",
    "\n",
    "We may want to make charts based on the results of \"group by\" operations. Bokeh can utilize Pandas `GroupBy` objects directly to make this simpler. Let's take a look at how Bokeh deals with `GroupBy` objects by examining the \"cars\" data set."
   ]
  },
  {
   "cell_type": "code",
   "execution_count": 170,
   "metadata": {},
   "outputs": [
    {
     "data": {
      "text/html": [
       "<div>\n",
       "<style scoped>\n",
       "    .dataframe tbody tr th:only-of-type {\n",
       "        vertical-align: middle;\n",
       "    }\n",
       "\n",
       "    .dataframe tbody tr th {\n",
       "        vertical-align: top;\n",
       "    }\n",
       "\n",
       "    .dataframe thead th {\n",
       "        text-align: right;\n",
       "    }\n",
       "</style>\n",
       "<table border=\"1\" class=\"dataframe\">\n",
       "  <thead>\n",
       "    <tr style=\"text-align: right;\">\n",
       "      <th></th>\n",
       "      <th>mpg</th>\n",
       "      <th>cyl</th>\n",
       "      <th>displ</th>\n",
       "      <th>hp</th>\n",
       "      <th>weight</th>\n",
       "      <th>accel</th>\n",
       "      <th>yr</th>\n",
       "      <th>origin</th>\n",
       "      <th>name</th>\n",
       "      <th>mfr</th>\n",
       "    </tr>\n",
       "  </thead>\n",
       "  <tbody>\n",
       "    <tr>\n",
       "      <th>0</th>\n",
       "      <td>18.0</td>\n",
       "      <td>8</td>\n",
       "      <td>307.0</td>\n",
       "      <td>130</td>\n",
       "      <td>3504</td>\n",
       "      <td>12.0</td>\n",
       "      <td>70</td>\n",
       "      <td>North America</td>\n",
       "      <td>chevrolet chevelle malibu</td>\n",
       "      <td>chevrolet</td>\n",
       "    </tr>\n",
       "    <tr>\n",
       "      <th>1</th>\n",
       "      <td>15.0</td>\n",
       "      <td>8</td>\n",
       "      <td>350.0</td>\n",
       "      <td>165</td>\n",
       "      <td>3693</td>\n",
       "      <td>11.5</td>\n",
       "      <td>70</td>\n",
       "      <td>North America</td>\n",
       "      <td>buick skylark 320</td>\n",
       "      <td>buick</td>\n",
       "    </tr>\n",
       "    <tr>\n",
       "      <th>2</th>\n",
       "      <td>18.0</td>\n",
       "      <td>8</td>\n",
       "      <td>318.0</td>\n",
       "      <td>150</td>\n",
       "      <td>3436</td>\n",
       "      <td>11.0</td>\n",
       "      <td>70</td>\n",
       "      <td>North America</td>\n",
       "      <td>plymouth satellite</td>\n",
       "      <td>plymouth</td>\n",
       "    </tr>\n",
       "    <tr>\n",
       "      <th>3</th>\n",
       "      <td>16.0</td>\n",
       "      <td>8</td>\n",
       "      <td>304.0</td>\n",
       "      <td>150</td>\n",
       "      <td>3433</td>\n",
       "      <td>12.0</td>\n",
       "      <td>70</td>\n",
       "      <td>North America</td>\n",
       "      <td>amc rebel sst</td>\n",
       "      <td>amc</td>\n",
       "    </tr>\n",
       "    <tr>\n",
       "      <th>4</th>\n",
       "      <td>17.0</td>\n",
       "      <td>8</td>\n",
       "      <td>302.0</td>\n",
       "      <td>140</td>\n",
       "      <td>3449</td>\n",
       "      <td>10.5</td>\n",
       "      <td>70</td>\n",
       "      <td>North America</td>\n",
       "      <td>ford torino</td>\n",
       "      <td>ford</td>\n",
       "    </tr>\n",
       "  </tbody>\n",
       "</table>\n",
       "</div>"
      ],
      "text/plain": [
       "    mpg cyl  displ   hp  weight  accel  yr         origin  \\\n",
       "0  18.0   8  307.0  130    3504   12.0  70  North America   \n",
       "1  15.0   8  350.0  165    3693   11.5  70  North America   \n",
       "2  18.0   8  318.0  150    3436   11.0  70  North America   \n",
       "3  16.0   8  304.0  150    3433   12.0  70  North America   \n",
       "4  17.0   8  302.0  140    3449   10.5  70  North America   \n",
       "\n",
       "                        name        mfr  \n",
       "0  chevrolet chevelle malibu  chevrolet  \n",
       "1          buick skylark 320      buick  \n",
       "2         plymouth satellite   plymouth  \n",
       "3              amc rebel sst        amc  \n",
       "4                ford torino       ford  "
      ]
     },
     "execution_count": 170,
     "metadata": {},
     "output_type": "execute_result"
    }
   ],
   "source": [
    "from bokeh.sampledata.autompg import autompg_clean as df\n",
    "\n",
    "df.cyl = df.cyl.astype(str)\n",
    "df.head()"
   ]
  },
  {
   "cell_type": "markdown",
   "metadata": {},
   "source": [
    "Suppose we would like to display some values grouped according to `\"cyl\"`. If we create `df.groupby(('cyl'))` then call `group.describe()` we can see that Pandas automatically computes various statistics for each group. "
   ]
  },
  {
   "cell_type": "code",
   "execution_count": 172,
   "metadata": {},
   "outputs": [
    {
     "data": {
      "text/html": [
       "<div>\n",
       "<style scoped>\n",
       "    .dataframe tbody tr th:only-of-type {\n",
       "        vertical-align: middle;\n",
       "    }\n",
       "\n",
       "    .dataframe tbody tr th {\n",
       "        vertical-align: top;\n",
       "    }\n",
       "\n",
       "    .dataframe thead tr th {\n",
       "        text-align: left;\n",
       "    }\n",
       "\n",
       "    .dataframe thead tr:last-of-type th {\n",
       "        text-align: right;\n",
       "    }\n",
       "</style>\n",
       "<table border=\"1\" class=\"dataframe\">\n",
       "  <thead>\n",
       "    <tr>\n",
       "      <th></th>\n",
       "      <th colspan=\"8\" halign=\"left\">mpg</th>\n",
       "      <th colspan=\"2\" halign=\"left\">displ</th>\n",
       "      <th>...</th>\n",
       "      <th colspan=\"2\" halign=\"left\">accel</th>\n",
       "      <th colspan=\"8\" halign=\"left\">yr</th>\n",
       "    </tr>\n",
       "    <tr>\n",
       "      <th></th>\n",
       "      <th>count</th>\n",
       "      <th>mean</th>\n",
       "      <th>std</th>\n",
       "      <th>min</th>\n",
       "      <th>25%</th>\n",
       "      <th>50%</th>\n",
       "      <th>75%</th>\n",
       "      <th>max</th>\n",
       "      <th>count</th>\n",
       "      <th>mean</th>\n",
       "      <th>...</th>\n",
       "      <th>75%</th>\n",
       "      <th>max</th>\n",
       "      <th>count</th>\n",
       "      <th>mean</th>\n",
       "      <th>std</th>\n",
       "      <th>min</th>\n",
       "      <th>25%</th>\n",
       "      <th>50%</th>\n",
       "      <th>75%</th>\n",
       "      <th>max</th>\n",
       "    </tr>\n",
       "    <tr>\n",
       "      <th>cyl</th>\n",
       "      <th></th>\n",
       "      <th></th>\n",
       "      <th></th>\n",
       "      <th></th>\n",
       "      <th></th>\n",
       "      <th></th>\n",
       "      <th></th>\n",
       "      <th></th>\n",
       "      <th></th>\n",
       "      <th></th>\n",
       "      <th></th>\n",
       "      <th></th>\n",
       "      <th></th>\n",
       "      <th></th>\n",
       "      <th></th>\n",
       "      <th></th>\n",
       "      <th></th>\n",
       "      <th></th>\n",
       "      <th></th>\n",
       "      <th></th>\n",
       "      <th></th>\n",
       "    </tr>\n",
       "  </thead>\n",
       "  <tbody>\n",
       "    <tr>\n",
       "      <th>3</th>\n",
       "      <td>4.0</td>\n",
       "      <td>20.550000</td>\n",
       "      <td>2.564501</td>\n",
       "      <td>18.0</td>\n",
       "      <td>18.75</td>\n",
       "      <td>20.25</td>\n",
       "      <td>22.05</td>\n",
       "      <td>23.7</td>\n",
       "      <td>4.0</td>\n",
       "      <td>72.500000</td>\n",
       "      <td>...</td>\n",
       "      <td>13.5</td>\n",
       "      <td>13.5</td>\n",
       "      <td>4.0</td>\n",
       "      <td>75.500000</td>\n",
       "      <td>3.696846</td>\n",
       "      <td>72.0</td>\n",
       "      <td>72.75</td>\n",
       "      <td>75.0</td>\n",
       "      <td>77.75</td>\n",
       "      <td>80.0</td>\n",
       "    </tr>\n",
       "    <tr>\n",
       "      <th>4</th>\n",
       "      <td>199.0</td>\n",
       "      <td>29.283920</td>\n",
       "      <td>5.670546</td>\n",
       "      <td>18.0</td>\n",
       "      <td>25.00</td>\n",
       "      <td>28.40</td>\n",
       "      <td>32.95</td>\n",
       "      <td>46.6</td>\n",
       "      <td>199.0</td>\n",
       "      <td>109.670854</td>\n",
       "      <td>...</td>\n",
       "      <td>18.0</td>\n",
       "      <td>24.8</td>\n",
       "      <td>199.0</td>\n",
       "      <td>77.030151</td>\n",
       "      <td>3.737484</td>\n",
       "      <td>70.0</td>\n",
       "      <td>74.00</td>\n",
       "      <td>77.0</td>\n",
       "      <td>80.00</td>\n",
       "      <td>82.0</td>\n",
       "    </tr>\n",
       "    <tr>\n",
       "      <th>5</th>\n",
       "      <td>3.0</td>\n",
       "      <td>27.366667</td>\n",
       "      <td>8.228204</td>\n",
       "      <td>20.3</td>\n",
       "      <td>22.85</td>\n",
       "      <td>25.40</td>\n",
       "      <td>30.90</td>\n",
       "      <td>36.4</td>\n",
       "      <td>3.0</td>\n",
       "      <td>145.000000</td>\n",
       "      <td>...</td>\n",
       "      <td>20.0</td>\n",
       "      <td>20.1</td>\n",
       "      <td>3.0</td>\n",
       "      <td>79.000000</td>\n",
       "      <td>1.000000</td>\n",
       "      <td>78.0</td>\n",
       "      <td>78.50</td>\n",
       "      <td>79.0</td>\n",
       "      <td>79.50</td>\n",
       "      <td>80.0</td>\n",
       "    </tr>\n",
       "    <tr>\n",
       "      <th>6</th>\n",
       "      <td>83.0</td>\n",
       "      <td>19.973494</td>\n",
       "      <td>3.828809</td>\n",
       "      <td>15.0</td>\n",
       "      <td>18.00</td>\n",
       "      <td>19.00</td>\n",
       "      <td>21.00</td>\n",
       "      <td>38.0</td>\n",
       "      <td>83.0</td>\n",
       "      <td>218.361446</td>\n",
       "      <td>...</td>\n",
       "      <td>17.6</td>\n",
       "      <td>21.0</td>\n",
       "      <td>83.0</td>\n",
       "      <td>75.951807</td>\n",
       "      <td>3.264381</td>\n",
       "      <td>70.0</td>\n",
       "      <td>74.00</td>\n",
       "      <td>76.0</td>\n",
       "      <td>78.00</td>\n",
       "      <td>82.0</td>\n",
       "    </tr>\n",
       "    <tr>\n",
       "      <th>8</th>\n",
       "      <td>103.0</td>\n",
       "      <td>14.963107</td>\n",
       "      <td>2.836284</td>\n",
       "      <td>9.0</td>\n",
       "      <td>13.00</td>\n",
       "      <td>14.00</td>\n",
       "      <td>16.00</td>\n",
       "      <td>26.6</td>\n",
       "      <td>103.0</td>\n",
       "      <td>345.009709</td>\n",
       "      <td>...</td>\n",
       "      <td>14.0</td>\n",
       "      <td>22.2</td>\n",
       "      <td>103.0</td>\n",
       "      <td>73.902913</td>\n",
       "      <td>3.021214</td>\n",
       "      <td>70.0</td>\n",
       "      <td>72.00</td>\n",
       "      <td>73.0</td>\n",
       "      <td>76.00</td>\n",
       "      <td>81.0</td>\n",
       "    </tr>\n",
       "  </tbody>\n",
       "</table>\n",
       "<p>5 rows × 48 columns</p>\n",
       "</div>"
      ],
      "text/plain": [
       "       mpg                                                        displ  \\\n",
       "     count       mean       std   min    25%    50%    75%   max  count   \n",
       "cyl                                                                       \n",
       "3      4.0  20.550000  2.564501  18.0  18.75  20.25  22.05  23.7    4.0   \n",
       "4    199.0  29.283920  5.670546  18.0  25.00  28.40  32.95  46.6  199.0   \n",
       "5      3.0  27.366667  8.228204  20.3  22.85  25.40  30.90  36.4    3.0   \n",
       "6     83.0  19.973494  3.828809  15.0  18.00  19.00  21.00  38.0   83.0   \n",
       "8    103.0  14.963107  2.836284   9.0  13.00  14.00  16.00  26.6  103.0   \n",
       "\n",
       "                 ... accel           yr                                    \\\n",
       "           mean  ...   75%   max  count       mean       std   min    25%   \n",
       "cyl              ...                                                        \n",
       "3     72.500000  ...  13.5  13.5    4.0  75.500000  3.696846  72.0  72.75   \n",
       "4    109.670854  ...  18.0  24.8  199.0  77.030151  3.737484  70.0  74.00   \n",
       "5    145.000000  ...  20.0  20.1    3.0  79.000000  1.000000  78.0  78.50   \n",
       "6    218.361446  ...  17.6  21.0   83.0  75.951807  3.264381  70.0  74.00   \n",
       "8    345.009709  ...  14.0  22.2  103.0  73.902913  3.021214  70.0  72.00   \n",
       "\n",
       "                        \n",
       "      50%    75%   max  \n",
       "cyl                     \n",
       "3    75.0  77.75  80.0  \n",
       "4    77.0  80.00  82.0  \n",
       "5    79.0  79.50  80.0  \n",
       "6    76.0  78.00  82.0  \n",
       "8    73.0  76.00  81.0  \n",
       "\n",
       "[5 rows x 48 columns]"
      ]
     },
     "execution_count": 172,
     "metadata": {},
     "output_type": "execute_result"
    }
   ],
   "source": [
    "group = df.groupby(('cyl'))\n",
    "\n",
    "group.describe()"
   ]
  },
  {
   "cell_type": "markdown",
   "metadata": {},
   "source": [
    "Bokeh allows us to create a `ColumnDataSource` directly from Pandas `GroupBy` objects, and when this happens, the data source is automatically filled with the summary values from `group.desribe()`. Observe the column names below, which correspond to the output above."
   ]
  },
  {
   "cell_type": "code",
   "execution_count": 173,
   "metadata": {},
   "outputs": [
    {
     "data": {
      "text/plain": [
       "'cyl,mpg_count,mpg_mean,mpg_std,mpg_min,mpg_25%,mpg_50%,mpg_75%,mpg_max,displ_count,displ_mean,displ_std,displ_min,displ_25%,displ_50%,displ_75%,displ_max,hp_count,hp_mean,hp_std,hp_min,hp_25%,hp_50%,hp_75%,hp_max,weight_count,weight_mean,weight_std,weight_min,weight_25%,weight_50%,weight_75%,weight_max,accel_count,accel_mean,accel_std,accel_min,accel_25%,accel_50%,accel_75%,accel_max,yr_count,yr_mean,yr_std,yr_min,yr_25%,yr_50%,yr_75%,yr_max'"
      ]
     },
     "execution_count": 173,
     "metadata": {},
     "output_type": "execute_result"
    }
   ],
   "source": [
    "source = ColumnDataSource(group)\n",
    "\n",
    "\",\".join(source.column_names)"
   ]
  },
  {
   "cell_type": "markdown",
   "metadata": {},
   "source": [
    "Knowing these column names, we can immediately create bar charts based on Pandas `GroupBy` objects. The example below plots the aveage MPG per cylinder, i.e. columns `\"mpg_mean\"` vs `\"cyl\"`"
   ]
  },
  {
   "cell_type": "code",
   "execution_count": 174,
   "metadata": {},
   "outputs": [
    {
     "data": {
      "text/html": [
       "\n",
       "  <div class=\"bk-root\" id=\"0e92bc3f-d9de-423b-ab83-08f335639fb6\" data-root-id=\"89135\"></div>\n"
      ]
     },
     "metadata": {},
     "output_type": "display_data"
    },
    {
     "data": {
      "application/javascript": [
       "(function(root) {\n",
       "  function embed_document(root) {\n",
       "  const docs_json = {\"746893f9-ed9b-424a-a2e3-6af86fb831de\":{\"defs\":[],\"roots\":{\"references\":[{\"attributes\":{\"below\":[{\"id\":\"89144\"}],\"center\":[{\"id\":\"89146\"},{\"id\":\"89150\"}],\"height\":350,\"left\":[{\"id\":\"89147\"}],\"renderers\":[{\"id\":\"89169\"}],\"title\":{\"id\":\"90341\"},\"toolbar\":{\"id\":\"89158\"},\"x_range\":{\"id\":\"89136\"},\"x_scale\":{\"id\":\"89140\"},\"y_range\":{\"id\":\"89138\"},\"y_scale\":{\"id\":\"89142\"}},\"id\":\"89135\",\"subtype\":\"Figure\",\"type\":\"Plot\"},{\"attributes\":{\"fill_alpha\":{\"value\":0.2},\"fill_color\":{\"field\":\"cyl\",\"transform\":{\"id\":\"89134\"}},\"hatch_alpha\":{\"value\":0.2},\"line_alpha\":{\"value\":0.2},\"line_color\":{\"value\":\"white\"},\"top\":{\"field\":\"mpg_mean\"},\"x\":{\"field\":\"cyl\"}},\"id\":\"89168\",\"type\":\"VBar\"},{\"attributes\":{\"axis\":{\"id\":\"89147\"},\"coordinates\":null,\"dimension\":1,\"group\":null,\"ticker\":null},\"id\":\"89150\",\"type\":\"Grid\"},{\"attributes\":{},\"id\":\"89156\",\"type\":\"HelpTool\"},{\"attributes\":{},\"id\":\"89148\",\"type\":\"BasicTicker\"},{\"attributes\":{\"factors\":[\"3\",\"4\",\"5\",\"6\",\"8\"]},\"id\":\"89136\",\"type\":\"FactorRange\"},{\"attributes\":{},\"id\":\"90349\",\"type\":\"UnionRenderers\"},{\"attributes\":{},\"id\":\"89140\",\"type\":\"CategoricalScale\"},{\"attributes\":{\"coordinates\":null,\"data_source\":{\"id\":\"89133\"},\"glyph\":{\"id\":\"89166\"},\"group\":null,\"hover_glyph\":null,\"muted_glyph\":{\"id\":\"89168\"},\"nonselection_glyph\":{\"id\":\"89167\"},\"view\":{\"id\":\"89170\"}},\"id\":\"89169\",\"type\":\"GlyphRenderer\"},{\"attributes\":{},\"id\":\"90345\",\"type\":\"AllLabels\"},{\"attributes\":{\"tools\":[{\"id\":\"89151\"},{\"id\":\"89152\"},{\"id\":\"89153\"},{\"id\":\"89154\"},{\"id\":\"89155\"},{\"id\":\"89156\"}]},\"id\":\"89158\",\"type\":\"Toolbar\"},{\"attributes\":{},\"id\":\"89142\",\"type\":\"LinearScale\"},{\"attributes\":{},\"id\":\"89151\",\"type\":\"PanTool\"},{\"attributes\":{},\"id\":\"90347\",\"type\":\"CategoricalTickFormatter\"},{\"attributes\":{\"factors\":[\"3\",\"4\",\"5\",\"6\",\"8\"],\"palette\":[\"#2b83ba\",\"#abdda4\",\"#ffffbf\",\"#fdae61\",\"#d7191c\"]},\"id\":\"89134\",\"type\":\"CategoricalColorMapper\"},{\"attributes\":{\"data\":{\"accel_25%\":{\"__ndarray__\":\"AAAAAACAKkCamZmZmZktQGZmZmZm5jFAmpmZmZkZLkAAAAAAAAAnQA==\",\"dtype\":\"float64\",\"order\":\"little\",\"shape\":[5]},\"accel_50%\":{\"__ndarray__\":\"AAAAAAAAK0AzMzMzMzMwQGZmZmZm5jNAAAAAAAAAMEAAAAAAAAAqQA==\",\"dtype\":\"float64\",\"order\":\"little\",\"shape\":[5]},\"accel_75%\":{\"__ndarray__\":\"AAAAAAAAK0AAAAAAAAAyQAAAAAAAADRAmpmZmZmZMUAAAAAAAAAsQA==\",\"dtype\":\"float64\",\"order\":\"little\",\"shape\":[5]},\"accel_count\":{\"__ndarray__\":\"AAAAAAAAEEAAAAAAAOBoQAAAAAAAAAhAAAAAAADAVEAAAAAAAMBZQA==\",\"dtype\":\"float64\",\"order\":\"little\",\"shape\":[5]},\"accel_max\":{\"__ndarray__\":\"AAAAAAAAK0DNzMzMzMw4QJqZmZmZGTRAAAAAAAAANUAzMzMzMzM2QA==\",\"dtype\":\"float64\",\"order\":\"little\",\"shape\":[5]},\"accel_mean\":{\"__ndarray__\":\"AAAAAACAKkCSxCwG+JQwQCIiIiIiojJA7d9LWxRBMEBCLI1MIukpQA==\",\"dtype\":\"float64\",\"order\":\"little\",\"shape\":[5]},\"accel_min\":{\"__ndarray__\":\"AAAAAAAAKUAzMzMzMzMnQM3MzMzMzC9AmpmZmZmZJkAAAAAAAAAgQA==\",\"dtype\":\"float64\",\"order\":\"little\",\"shape\":[5]},\"accel_std\":{\"__ndarray__\":\"AAAAAAAA4D+Y1TA5wxADQO1jrP039AJA0StM4BRBAEABZ5ysTswBQA==\",\"dtype\":\"float64\",\"order\":\"little\",\"shape\":[5]},\"cyl\":[\"3\",\"4\",\"5\",\"6\",\"8\"],\"displ_25%\":{\"__ndarray__\":\"AAAAAACAUUAAAAAAAMBWQAAAAAAAgF9AAAAAAADwaEAAAAAAABBzQA==\",\"dtype\":\"float64\",\"order\":\"little\",\"shape\":[5]},\"displ_50%\":{\"__ndarray__\":\"AAAAAACAUUAAAAAAAEBaQAAAAAAAYGBAAAAAAADgbEAAAAAAAOB1QA==\",\"dtype\":\"float64\",\"order\":\"little\",\"shape\":[5]},\"displ_75%\":{\"__ndarray__\":\"AAAAAAAgUkAAAAAAAEBeQAAAAAAAoGNAAAAAAABAb0AAAAAAAIB2QA==\",\"dtype\":\"float64\",\"order\":\"little\",\"shape\":[5]},\"displ_count\":{\"__ndarray__\":\"AAAAAAAAEEAAAAAAAOBoQAAAAAAAAAhAAAAAAADAVEAAAAAAAMBZQA==\",\"dtype\":\"float64\",\"order\":\"little\",\"shape\":[5]},\"displ_max\":{\"__ndarray__\":\"AAAAAAAAVEAAAAAAAIBjQAAAAAAA4GZAAAAAAABgcEAAAAAAAHB8QA==\",\"dtype\":\"float64\",\"order\":\"little\",\"shape\":[5]},\"displ_mean\":{\"__ndarray__\":\"AAAAAAAgUkD/9sBG72pbQAAAAAAAIGJAmjq/9pBLa0DJeVnEJ5B1QA==\",\"dtype\":\"float64\",\"order\":\"little\",\"shape\":[5]},\"displ_min\":{\"__ndarray__\":\"AAAAAACAUUAAAAAAAABRQAAAAAAAQF5AAAAAAAAgYkAAAAAAAEBwQA==\",\"dtype\":\"float64\",\"order\":\"little\",\"shape\":[5]},\"displ_std\":{\"__ndarray__\":\"AAAAAAAAFEC9furRdmA1QLmT4WuwpEBAT4BvAbA2QEDXs8ZGYGNHQA==\",\"dtype\":\"float64\",\"order\":\"little\",\"shape\":[5]},\"hp_25%\":{\"__ndarray__\":\"AAAAAADQV0AAAAAAAABRQAAAAAAAAFJAAAAAAAAgV0AAAAAAAIBhQA==\",\"dtype\":\"float64\",\"order\":\"little\",\"shape\":[5]},\"hp_50%\":{\"__ndarray__\":\"AAAAAACgWEAAAAAAAIBTQAAAAAAAQFNAAAAAAAAAWUAAAAAAAMBiQA==\",\"dtype\":\"float64\",\"order\":\"little\",\"shape\":[5]},\"hp_75%\":{\"__ndarray__\":\"AAAAAACgWUAAAAAAAABWQAAAAAAAgFZAAAAAAACAW0AAAAAAAOBlQA==\",\"dtype\":\"float64\",\"order\":\"little\",\"shape\":[5]},\"hp_count\":{\"__ndarray__\":\"AAAAAAAAEEAAAAAAAOBoQAAAAAAAAAhAAAAAAADAVEAAAAAAAMBZQA==\",\"dtype\":\"float64\",\"order\":\"little\",\"shape\":[5]},\"hp_max\":{\"__ndarray__\":\"AAAAAACAW0AAAAAAAMBcQAAAAAAAwFlAAAAAAACgZEAAAAAAAMBsQA==\",\"dtype\":\"float64\",\"order\":\"little\",\"shape\":[5]},\"hp_mean\":{\"__ndarray__\":\"AAAAAADQWEB2PKeSApJTQFVVVVVVlVRAsD3ksmJgWUDCfquNocljQA==\",\"dtype\":\"float64\",\"order\":\"little\",\"shape\":[5]},\"hp_min\":{\"__ndarray__\":\"AAAAAACAVkAAAAAAAABHQAAAAAAAwFBAAAAAAAAAUkAAAAAAAIBWQA==\",\"dtype\":\"float64\",\"order\":\"little\",\"shape\":[5]},\"hp_std\":{\"__ndarray__\":\"sTIWI2yaIECEr0Go0wstQDKsjxZJlTJAxZAwIvaeLEBPwZb3G3Q8QA==\",\"dtype\":\"float64\",\"order\":\"little\",\"shape\":[5]},\"mpg_25%\":{\"__ndarray__\":\"AAAAAADAMkAAAAAAAAA5QJqZmZmZ2TZAAAAAAAAAMkAAAAAAAAAqQA==\",\"dtype\":\"float64\",\"order\":\"little\",\"shape\":[5]},\"mpg_50%\":{\"__ndarray__\":\"AAAAAABANEBmZmZmZmY8QGZmZmZmZjlAAAAAAAAAM0AAAAAAAAAsQA==\",\"dtype\":\"float64\",\"order\":\"little\",\"shape\":[5]},\"mpg_75%\":{\"__ndarray__\":\"zczMzMwMNkCamZmZmXlAQGZmZmZm5j5AAAAAAAAANUAAAAAAAAAwQA==\",\"dtype\":\"float64\",\"order\":\"little\",\"shape\":[5]},\"mpg_count\":{\"__ndarray__\":\"AAAAAAAAEEAAAAAAAOBoQAAAAAAAAAhAAAAAAADAVEAAAAAAAMBZQA==\",\"dtype\":\"float64\",\"order\":\"little\",\"shape\":[5]},\"mpg_max\":{\"__ndarray__\":\"MzMzMzOzN0DNzMzMzExHQDMzMzMzM0JAAAAAAAAAQ0CamZmZmZk6QA==\",\"dtype\":\"float64\",\"order\":\"little\",\"shape\":[5]},\"mpg_mean\":{\"__ndarray__\":\"zczMzMyMNEByD2z0rkg9QN3d3d3dXTtA6lu15jb5M0BhwH9VHO0tQA==\",\"dtype\":\"float64\",\"order\":\"little\",\"shape\":[5]},\"mpg_min\":{\"__ndarray__\":\"AAAAAAAAMkAAAAAAAAAyQM3MzMzMTDRAAAAAAAAALkAAAAAAAAAiQA==\",\"dtype\":\"float64\",\"order\":\"little\",\"shape\":[5]},\"mpg_std\":{\"__ndarray__\":\"ca9eOxmEBECNLXOmo64WQOWG1RfXdCBALURKf2ahDkC3cW7BtbAGQA==\",\"dtype\":\"float64\",\"order\":\"little\",\"shape\":[5]},\"weight_25%\":{\"__ndarray__\":\"AAAAAADNoUAAAAAAAP6fQAAAAAAAlKZAAAAAAAACp0AAAAAAAK6tQA==\",\"dtype\":\"float64\",\"order\":\"little\",\"shape\":[5]},\"weight_50%\":{\"__ndarray__\":\"AAAAAACOokAAAAAAAGyhQAAAAAAADKdAAAAAAAAUqUAAAAAAACywQA==\",\"dtype\":\"float64\",\"order\":\"little\",\"shape\":[5]},\"weight_75%\":{\"__ndarray__\":\"AAAAAAB+o0AAAAAAAAWkQAAAAAAAUKlAAAAAAADOqkAAAAAAgDOxQA==\",\"dtype\":\"float64\",\"order\":\"little\",\"shape\":[5]},\"weight_count\":{\"__ndarray__\":\"AAAAAAAAEEAAAAAAAOBoQAAAAAAAAAhAAAAAAADAVEAAAAAAAMBZQA==\",\"dtype\":\"float64\",\"order\":\"little\",\"shape\":[5]},\"weight_max\":{\"__ndarray__\":\"AAAAAABApUAAAAAAAIypQAAAAAAAlKtAAAAAAACGrkAAAAAAABS0QA==\",\"dtype\":\"float64\",\"order\":\"little\",\"shape\":[5]},\"weight_mean\":{\"__ndarray__\":\"AAAAAAC9okAsMl+aOAKiQKuqqqqqPqhAjqbOrz0EqUBD0x3stxKwQA==\",\"dtype\":\"float64\",\"order\":\"little\",\"shape\":[5]},\"weight_min\":{\"__ndarray__\":\"AAAAAACYoEAAAAAAADSZQAAAAAAAHKZAAAAAAABQo0AAAAAAAByoQA==\",\"dtype\":\"float64\",\"order\":\"little\",\"shape\":[5]},\"weight_std\":{\"__ndarray__\":\"udhs7B3ybkC7+VSg9G11QA9pSX6AZXdAdmeNgiLGdEC9UR6eVA18QA==\",\"dtype\":\"float64\",\"order\":\"little\",\"shape\":[5]},\"yr_25%\":{\"__ndarray__\":\"AAAAAAAwUkAAAAAAAIBSQAAAAAAAoFNAAAAAAACAUkAAAAAAAABSQA==\",\"dtype\":\"float64\",\"order\":\"little\",\"shape\":[5]},\"yr_50%\":{\"__ndarray__\":\"AAAAAADAUkAAAAAAAEBTQAAAAAAAwFNAAAAAAAAAU0AAAAAAAEBSQA==\",\"dtype\":\"float64\",\"order\":\"little\",\"shape\":[5]},\"yr_75%\":{\"__ndarray__\":\"AAAAAABwU0AAAAAAAABUQAAAAAAA4FNAAAAAAACAU0AAAAAAAABTQA==\",\"dtype\":\"float64\",\"order\":\"little\",\"shape\":[5]},\"yr_count\":{\"__ndarray__\":\"AAAAAAAAEEAAAAAAAOBoQAAAAAAAAAhAAAAAAADAVEAAAAAAAMBZQA==\",\"dtype\":\"float64\",\"order\":\"little\",\"shape\":[5]},\"yr_max\":{\"__ndarray__\":\"AAAAAAAAVEAAAAAAAIBUQAAAAAAAAFRAAAAAAACAVEAAAAAAAEBUQA==\",\"dtype\":\"float64\",\"order\":\"little\",\"shape\":[5]},\"yr_mean\":{\"__ndarray__\":\"AAAAAADgUkDEWG397UFTQAAAAAAAwFNAghLeaOr8UkCL+ARSyXlSQA==\",\"dtype\":\"float64\",\"order\":\"little\",\"shape\":[5]},\"yr_min\":{\"__ndarray__\":\"AAAAAAAAUkAAAAAAAIBRQAAAAAAAgFNAAAAAAACAUUAAAAAAAIBRQA==\",\"dtype\":\"float64\",\"order\":\"little\",\"shape\":[5]},\"yr_std\":{\"__ndarray__\":\"p1MQvCOTDUAe5PLGXeYNQAAAAAAAAPA/p0OY+nMdCkABv1x2cisIQA==\",\"dtype\":\"float64\",\"order\":\"little\",\"shape\":[5]}},\"selected\":{\"id\":\"90350\"},\"selection_policy\":{\"id\":\"90349\"}},\"id\":\"89133\",\"type\":\"ColumnDataSource\"},{\"attributes\":{},\"id\":\"89154\",\"type\":\"SaveTool\"},{\"attributes\":{\"axis_label\":\"Mean MPG\",\"coordinates\":null,\"formatter\":{\"id\":\"90344\"},\"group\":null,\"major_label_policy\":{\"id\":\"90345\"},\"ticker\":{\"id\":\"89148\"}},\"id\":\"89147\",\"type\":\"LinearAxis\"},{\"attributes\":{},\"id\":\"89145\",\"type\":\"CategoricalTicker\"},{\"attributes\":{},\"id\":\"89152\",\"type\":\"WheelZoomTool\"},{\"attributes\":{\"fill_alpha\":{\"value\":0.1},\"fill_color\":{\"field\":\"cyl\",\"transform\":{\"id\":\"89134\"}},\"hatch_alpha\":{\"value\":0.1},\"line_alpha\":{\"value\":0.1},\"line_color\":{\"value\":\"white\"},\"top\":{\"field\":\"mpg_mean\"},\"x\":{\"field\":\"cyl\"}},\"id\":\"89167\",\"type\":\"VBar\"},{\"attributes\":{\"axis\":{\"id\":\"89144\"},\"coordinates\":null,\"grid_line_color\":null,\"group\":null,\"ticker\":null},\"id\":\"89146\",\"type\":\"Grid\"},{\"attributes\":{\"source\":{\"id\":\"89133\"}},\"id\":\"89170\",\"type\":\"CDSView\"},{\"attributes\":{\"overlay\":{\"id\":\"89157\"}},\"id\":\"89153\",\"type\":\"BoxZoomTool\"},{\"attributes\":{},\"id\":\"90348\",\"type\":\"AllLabels\"},{\"attributes\":{\"start\":0},\"id\":\"89138\",\"type\":\"DataRange1d\"},{\"attributes\":{\"bottom_units\":\"screen\",\"coordinates\":null,\"fill_alpha\":0.5,\"fill_color\":\"lightgrey\",\"group\":null,\"left_units\":\"screen\",\"level\":\"overlay\",\"line_alpha\":1.0,\"line_color\":\"black\",\"line_dash\":[4,4],\"line_width\":2,\"right_units\":\"screen\",\"syncable\":false,\"top_units\":\"screen\"},\"id\":\"89157\",\"type\":\"BoxAnnotation\"},{\"attributes\":{\"coordinates\":null,\"group\":null},\"id\":\"90341\",\"type\":\"Title\"},{\"attributes\":{\"axis_label\":\"number of cylinders\",\"coordinates\":null,\"formatter\":{\"id\":\"90347\"},\"group\":null,\"major_label_policy\":{\"id\":\"90348\"},\"ticker\":{\"id\":\"89145\"}},\"id\":\"89144\",\"type\":\"CategoricalAxis\"},{\"attributes\":{},\"id\":\"89155\",\"type\":\"ResetTool\"},{\"attributes\":{\"fill_color\":{\"field\":\"cyl\",\"transform\":{\"id\":\"89134\"}},\"line_color\":{\"value\":\"white\"},\"top\":{\"field\":\"mpg_mean\"},\"x\":{\"field\":\"cyl\"}},\"id\":\"89166\",\"type\":\"VBar\"},{\"attributes\":{},\"id\":\"90344\",\"type\":\"BasicTickFormatter\"},{\"attributes\":{},\"id\":\"90350\",\"type\":\"Selection\"}],\"root_ids\":[\"89135\"]},\"title\":\"Bokeh Application\",\"version\":\"2.4.3\"}};\n",
       "  const render_items = [{\"docid\":\"746893f9-ed9b-424a-a2e3-6af86fb831de\",\"root_ids\":[\"89135\"],\"roots\":{\"89135\":\"0e92bc3f-d9de-423b-ab83-08f335639fb6\"}}];\n",
       "  root.Bokeh.embed.embed_items_notebook(docs_json, render_items);\n",
       "  }\n",
       "  if (root.Bokeh !== undefined) {\n",
       "    embed_document(root);\n",
       "  } else {\n",
       "    let attempts = 0;\n",
       "    const timer = setInterval(function(root) {\n",
       "      if (root.Bokeh !== undefined) {\n",
       "        clearInterval(timer);\n",
       "        embed_document(root);\n",
       "      } else {\n",
       "        attempts++;\n",
       "        if (attempts > 100) {\n",
       "          clearInterval(timer);\n",
       "          console.log(\"Bokeh: ERROR: Unable to run BokehJS code because BokehJS library is missing\");\n",
       "        }\n",
       "      }\n",
       "    }, 10, root)\n",
       "  }\n",
       "})(window);"
      ],
      "application/vnd.bokehjs_exec.v0+json": ""
     },
     "metadata": {
      "application/vnd.bokehjs_exec.v0+json": {
       "id": "89135"
      }
     },
     "output_type": "display_data"
    }
   ],
   "source": [
    "from bokeh.palettes import Spectral5\n",
    "\n",
    "cyl_cmap = factor_cmap('cyl', palette=Spectral5, factors=sorted(df.cyl.unique()))\n",
    "\n",
    "p = figure(plot_height=350, x_range=group)\n",
    "p.vbar(x='cyl', top='mpg_mean', width=1, line_color=\"white\", \n",
    "       fill_color=cyl_cmap, source=source)\n",
    "\n",
    "p.xgrid.grid_line_color = None\n",
    "p.xaxis.axis_label = \"number of cylinders\"\n",
    "p.yaxis.axis_label = \"Mean MPG\"\n",
    "p.y_range.start = 0\n",
    "\n",
    "show(p)"
   ]
  },
  {
   "cell_type": "markdown",
   "metadata": {},
   "source": [
    "## Label\n",
    "\n",
    "The `Label` annotation allows you to easily attach single text labels to plots. The position and text to display are configured as `x`, `y`, and `text`:\n",
    "\n",
    "```python\n",
    "Label(x=10, y=5, text=\"Some Label\")\n",
    "```\n",
    "\n",
    "By default the units are in \"data space\" but `x_units` and `y_units` maybe set to `\"screen\"` to position the label relative to the canvas. Labels can also accept `x_offset` and `y_offset` to offset the final position from `x` and `y` by a given screen space distance. \n",
    "\n",
    "`Label` objects also have standard text, line (`border_line`) and fill (`background_fill`) properties. The line and fill properties apply to a bounding box around the text:\n",
    "\n",
    "```python\n",
    "Label(x=10, y=5, text=\"Some Label\", text_font_size=\"12pt\", \n",
    "      border_line_color=\"red\", background_fill_color=\"blue\")\n",
    "```"
   ]
  },
  {
   "cell_type": "code",
   "execution_count": 177,
   "metadata": {},
   "outputs": [
    {
     "data": {
      "text/html": [
       "\n",
       "  <div class=\"bk-root\" id=\"aca53123-d2b0-4bd0-a805-d2475a38e57a\" data-root-id=\"92988\"></div>\n"
      ]
     },
     "metadata": {},
     "output_type": "display_data"
    },
    {
     "data": {
      "application/javascript": [
       "(function(root) {\n",
       "  function embed_document(root) {\n",
       "  const docs_json = {\"4fd6a4e0-ef76-4557-bf82-3eea1ae608e7\":{\"defs\":[],\"roots\":{\"references\":[{\"attributes\":{\"below\":[{\"id\":\"92997\"}],\"center\":[{\"id\":\"93000\"},{\"id\":\"93004\"},{\"id\":\"93025\"}],\"left\":[{\"id\":\"93001\"}],\"renderers\":[{\"id\":\"93023\"}],\"title\":{\"id\":\"94229\"},\"toolbar\":{\"id\":\"93012\"},\"x_range\":{\"id\":\"92989\"},\"x_scale\":{\"id\":\"92993\"},\"y_range\":{\"id\":\"92991\"},\"y_scale\":{\"id\":\"92995\"}},\"id\":\"92988\",\"subtype\":\"Figure\",\"type\":\"Plot\"},{\"attributes\":{},\"id\":\"94232\",\"type\":\"BasicTickFormatter\"},{\"attributes\":{},\"id\":\"94237\",\"type\":\"UnionRenderers\"},{\"attributes\":{\"end\":10},\"id\":\"92991\",\"type\":\"Range1d\"},{\"attributes\":{\"fill_alpha\":{\"value\":0.2},\"fill_color\":{\"value\":\"olive\"},\"hatch_alpha\":{\"value\":0.2},\"hatch_color\":{\"value\":\"olive\"},\"line_alpha\":{\"value\":0.2},\"line_color\":{\"value\":\"olive\"},\"size\":{\"value\":10},\"x\":{\"field\":\"x\"},\"y\":{\"field\":\"y\"}},\"id\":\"93022\",\"type\":\"Circle\"},{\"attributes\":{},\"id\":\"94233\",\"type\":\"AllLabels\"},{\"attributes\":{},\"id\":\"94238\",\"type\":\"Selection\"},{\"attributes\":{},\"id\":\"92995\",\"type\":\"LinearScale\"},{\"attributes\":{\"tools\":[{\"id\":\"93005\"},{\"id\":\"93006\"},{\"id\":\"93007\"},{\"id\":\"93008\"},{\"id\":\"93009\"},{\"id\":\"93010\"}]},\"id\":\"93012\",\"type\":\"Toolbar\"},{\"attributes\":{\"coordinates\":null,\"formatter\":{\"id\":\"94235\"},\"group\":null,\"major_label_policy\":{\"id\":\"94236\"},\"ticker\":{\"id\":\"92998\"}},\"id\":\"92997\",\"type\":\"LinearAxis\"},{\"attributes\":{\"coordinates\":null,\"group\":null},\"id\":\"94229\",\"type\":\"Title\"},{\"attributes\":{},\"id\":\"94235\",\"type\":\"BasicTickFormatter\"},{\"attributes\":{},\"id\":\"93010\",\"type\":\"HelpTool\"},{\"attributes\":{},\"id\":\"93006\",\"type\":\"WheelZoomTool\"},{\"attributes\":{\"fill_alpha\":{\"value\":0.1},\"fill_color\":{\"value\":\"olive\"},\"hatch_alpha\":{\"value\":0.1},\"hatch_color\":{\"value\":\"olive\"},\"line_alpha\":{\"value\":0.1},\"line_color\":{\"value\":\"olive\"},\"size\":{\"value\":10},\"x\":{\"field\":\"x\"},\"y\":{\"field\":\"y\"}},\"id\":\"93021\",\"type\":\"Circle\"},{\"attributes\":{},\"id\":\"93005\",\"type\":\"PanTool\"},{\"attributes\":{\"overlay\":{\"id\":\"93011\"}},\"id\":\"93007\",\"type\":\"BoxZoomTool\"},{\"attributes\":{\"data\":{\"x\":[2,5,8],\"y\":[4,7,6]},\"selected\":{\"id\":\"94238\"},\"selection_policy\":{\"id\":\"94237\"}},\"id\":\"93019\",\"type\":\"ColumnDataSource\"},{\"attributes\":{},\"id\":\"93008\",\"type\":\"SaveTool\"},{\"attributes\":{},\"id\":\"93009\",\"type\":\"ResetTool\"},{\"attributes\":{\"source\":{\"id\":\"93019\"}},\"id\":\"93024\",\"type\":\"CDSView\"},{\"attributes\":{\"fill_color\":{\"value\":\"olive\"},\"hatch_color\":{\"value\":\"olive\"},\"line_color\":{\"value\":\"olive\"},\"size\":{\"value\":10},\"x\":{\"field\":\"x\"},\"y\":{\"field\":\"y\"}},\"id\":\"93020\",\"type\":\"Circle\"},{\"attributes\":{\"axis\":{\"id\":\"93001\"},\"coordinates\":null,\"dimension\":1,\"group\":null,\"ticker\":null},\"id\":\"93004\",\"type\":\"Grid\"},{\"attributes\":{\"axis\":{\"id\":\"92997\"},\"coordinates\":null,\"group\":null,\"ticker\":null},\"id\":\"93000\",\"type\":\"Grid\"},{\"attributes\":{\"bottom_units\":\"screen\",\"coordinates\":null,\"fill_alpha\":0.5,\"fill_color\":\"lightgrey\",\"group\":null,\"left_units\":\"screen\",\"level\":\"overlay\",\"line_alpha\":1.0,\"line_color\":\"black\",\"line_dash\":[4,4],\"line_width\":2,\"right_units\":\"screen\",\"syncable\":false,\"top_units\":\"screen\"},\"id\":\"93011\",\"type\":\"BoxAnnotation\"},{\"attributes\":{},\"id\":\"92998\",\"type\":\"BasicTicker\"},{\"attributes\":{\"coordinates\":null,\"formatter\":{\"id\":\"94232\"},\"group\":null,\"major_label_policy\":{\"id\":\"94233\"},\"ticker\":{\"id\":\"93002\"}},\"id\":\"93001\",\"type\":\"LinearAxis\"},{\"attributes\":{\"coordinates\":null,\"data_source\":{\"id\":\"93019\"},\"glyph\":{\"id\":\"93020\"},\"group\":null,\"hover_glyph\":null,\"muted_glyph\":{\"id\":\"93022\"},\"nonselection_glyph\":{\"id\":\"93021\"},\"view\":{\"id\":\"93024\"}},\"id\":\"93023\",\"type\":\"GlyphRenderer\"},{\"attributes\":{},\"id\":\"92993\",\"type\":\"LinearScale\"},{\"attributes\":{},\"id\":\"93002\",\"type\":\"BasicTicker\"},{\"attributes\":{\"coordinates\":null,\"group\":null,\"text\":\"Second Point\",\"text_baseline\":\"middle\",\"x\":5,\"x_offset\":12,\"y\":7},\"id\":\"93025\",\"type\":\"Label\"},{\"attributes\":{},\"id\":\"94236\",\"type\":\"AllLabels\"},{\"attributes\":{\"end\":10},\"id\":\"92989\",\"type\":\"Range1d\"}],\"root_ids\":[\"92988\"]},\"title\":\"Bokeh Application\",\"version\":\"2.4.3\"}};\n",
       "  const render_items = [{\"docid\":\"4fd6a4e0-ef76-4557-bf82-3eea1ae608e7\",\"root_ids\":[\"92988\"],\"roots\":{\"92988\":\"aca53123-d2b0-4bd0-a805-d2475a38e57a\"}}];\n",
       "  root.Bokeh.embed.embed_items_notebook(docs_json, render_items);\n",
       "  }\n",
       "  if (root.Bokeh !== undefined) {\n",
       "    embed_document(root);\n",
       "  } else {\n",
       "    let attempts = 0;\n",
       "    const timer = setInterval(function(root) {\n",
       "      if (root.Bokeh !== undefined) {\n",
       "        clearInterval(timer);\n",
       "        embed_document(root);\n",
       "      } else {\n",
       "        attempts++;\n",
       "        if (attempts > 100) {\n",
       "          clearInterval(timer);\n",
       "          console.log(\"Bokeh: ERROR: Unable to run BokehJS code because BokehJS library is missing\");\n",
       "        }\n",
       "      }\n",
       "    }, 10, root)\n",
       "  }\n",
       "})(window);"
      ],
      "application/vnd.bokehjs_exec.v0+json": ""
     },
     "metadata": {
      "application/vnd.bokehjs_exec.v0+json": {
       "id": "92988"
      }
     },
     "output_type": "display_data"
    }
   ],
   "source": [
    "from bokeh.models.annotations import Label\n",
    "from bokeh.plotting import figure\n",
    "\n",
    "p = figure(x_range=(0,10), y_range=(0,10))\n",
    "p.circle([2, 5, 8], [4, 7, 6], color=\"olive\", size=10)\n",
    "\n",
    "label = Label(x=5, y=7, x_offset=12, text=\"Second Point\", text_baseline=\"middle\")\n",
    "p.add_layout(label)\n",
    "\n",
    "show(p)"
   ]
  },
  {
   "cell_type": "markdown",
   "metadata": {},
   "source": [
    "## LabelSet\n",
    "\n",
    "The `LabelSet` annotation allows you to create many labels at once, for instance if you want to label an entire set of scatter markers. They are similar to `Label`, but they can also \n",
    "accept a `ColumnDataSource` as the `source` property, and then `x` and `y` may refer to columns in the data source, e.g. `x=\"col2\"` (but may also still be fixed values, e.g. `x=10`)."
   ]
  },
  {
   "cell_type": "code",
   "execution_count": 178,
   "metadata": {},
   "outputs": [
    {
     "data": {
      "text/html": [
       "\n",
       "  <div class=\"bk-root\" id=\"c4bdc216-2dbb-4f1d-8e33-8962737a5a54\" data-root-id=\"94296\"></div>\n"
      ]
     },
     "metadata": {},
     "output_type": "display_data"
    },
    {
     "data": {
      "application/javascript": [
       "(function(root) {\n",
       "  function embed_document(root) {\n",
       "  const docs_json = {\"079e518b-0787-457b-8fa0-548d94fd28f9\":{\"defs\":[],\"roots\":{\"references\":[{\"attributes\":{\"below\":[{\"id\":\"94305\"}],\"center\":[{\"id\":\"94308\"},{\"id\":\"94312\"},{\"id\":\"94333\"}],\"left\":[{\"id\":\"94309\"}],\"renderers\":[{\"id\":\"94331\"}],\"title\":{\"id\":\"95549\"},\"toolbar\":{\"id\":\"94320\"},\"x_range\":{\"id\":\"94297\"},\"x_scale\":{\"id\":\"94301\"},\"y_range\":{\"id\":\"94299\"},\"y_scale\":{\"id\":\"94303\"}},\"id\":\"94296\",\"subtype\":\"Figure\",\"type\":\"Plot\"},{\"attributes\":{\"axis_label\":\"Pressure (lbs)\",\"coordinates\":null,\"formatter\":{\"id\":\"95552\"},\"group\":null,\"major_label_policy\":{\"id\":\"95553\"},\"ticker\":{\"id\":\"94310\"}},\"id\":\"94309\",\"type\":\"LinearAxis\"},{\"attributes\":{\"coordinates\":null,\"data_source\":{\"id\":\"94295\"},\"glyph\":{\"id\":\"94328\"},\"group\":null,\"hover_glyph\":null,\"muted_glyph\":{\"id\":\"94330\"},\"nonselection_glyph\":{\"id\":\"94329\"},\"view\":{\"id\":\"94332\"}},\"id\":\"94331\",\"type\":\"GlyphRenderer\"},{\"attributes\":{\"fill_alpha\":{\"value\":0.2},\"fill_color\":{\"value\":\"#1f77b4\"},\"hatch_alpha\":{\"value\":0.2},\"line_alpha\":{\"value\":0.2},\"line_color\":{\"value\":\"#1f77b4\"},\"size\":{\"value\":8},\"x\":{\"field\":\"temp\"},\"y\":{\"field\":\"pressure\"}},\"id\":\"94330\",\"type\":\"Scatter\"},{\"attributes\":{\"fill_color\":{\"value\":\"#1f77b4\"},\"line_color\":{\"value\":\"#1f77b4\"},\"size\":{\"value\":8},\"x\":{\"field\":\"temp\"},\"y\":{\"field\":\"pressure\"}},\"id\":\"94328\",\"type\":\"Scatter\"},{\"attributes\":{},\"id\":\"95556\",\"type\":\"AllLabels\"},{\"attributes\":{},\"id\":\"95552\",\"type\":\"BasicTickFormatter\"},{\"attributes\":{},\"id\":\"94313\",\"type\":\"PanTool\"},{\"attributes\":{\"coordinates\":null,\"group\":null},\"id\":\"95549\",\"type\":\"Title\"},{\"attributes\":{\"axis_label\":\"Temperature (C)\",\"coordinates\":null,\"formatter\":{\"id\":\"95555\"},\"group\":null,\"major_label_policy\":{\"id\":\"95556\"},\"ticker\":{\"id\":\"94306\"}},\"id\":\"94305\",\"type\":\"LinearAxis\"},{\"attributes\":{\"bottom_units\":\"screen\",\"coordinates\":null,\"fill_alpha\":0.5,\"fill_color\":\"lightgrey\",\"group\":null,\"left_units\":\"screen\",\"level\":\"overlay\",\"line_alpha\":1.0,\"line_color\":\"black\",\"line_dash\":[4,4],\"line_width\":2,\"right_units\":\"screen\",\"syncable\":false,\"top_units\":\"screen\"},\"id\":\"94319\",\"type\":\"BoxAnnotation\"},{\"attributes\":{},\"id\":\"94303\",\"type\":\"LinearScale\"},{\"attributes\":{},\"id\":\"94314\",\"type\":\"WheelZoomTool\"},{\"attributes\":{\"fill_alpha\":{\"value\":0.1},\"fill_color\":{\"value\":\"#1f77b4\"},\"hatch_alpha\":{\"value\":0.1},\"line_alpha\":{\"value\":0.1},\"line_color\":{\"value\":\"#1f77b4\"},\"size\":{\"value\":8},\"x\":{\"field\":\"temp\"},\"y\":{\"field\":\"pressure\"}},\"id\":\"94329\",\"type\":\"Scatter\"},{\"attributes\":{},\"id\":\"94306\",\"type\":\"BasicTicker\"},{\"attributes\":{\"axis\":{\"id\":\"94305\"},\"coordinates\":null,\"group\":null,\"ticker\":null},\"id\":\"94308\",\"type\":\"Grid\"},{\"attributes\":{},\"id\":\"94301\",\"type\":\"LinearScale\"},{\"attributes\":{},\"id\":\"94317\",\"type\":\"ResetTool\"},{\"attributes\":{},\"id\":\"95557\",\"type\":\"UnionRenderers\"},{\"attributes\":{},\"id\":\"94299\",\"type\":\"DataRange1d\"},{\"attributes\":{\"axis\":{\"id\":\"94309\"},\"coordinates\":null,\"dimension\":1,\"group\":null,\"ticker\":null},\"id\":\"94312\",\"type\":\"Grid\"},{\"attributes\":{\"source\":{\"id\":\"94295\"}},\"id\":\"94332\",\"type\":\"CDSView\"},{\"attributes\":{\"coordinates\":null,\"group\":null,\"level\":\"glyph\",\"source\":{\"id\":\"94295\"},\"text\":{\"field\":\"names\"},\"x\":{\"field\":\"temp\"},\"x_offset\":{\"value\":5},\"y\":{\"field\":\"pressure\"},\"y_offset\":{\"value\":5}},\"id\":\"94333\",\"type\":\"LabelSet\"},{\"attributes\":{\"overlay\":{\"id\":\"94319\"}},\"id\":\"94315\",\"type\":\"BoxZoomTool\"},{\"attributes\":{},\"id\":\"94310\",\"type\":\"BasicTicker\"},{\"attributes\":{},\"id\":\"95558\",\"type\":\"Selection\"},{\"attributes\":{},\"id\":\"95555\",\"type\":\"BasicTickFormatter\"},{\"attributes\":{\"data\":{\"names\":[\"A\",\"B\",\"C\",\"D\",\"E\",\"F\"],\"pressure\":[165,189,220,141,260,174],\"temp\":[166,171,172,168,174,162]},\"selected\":{\"id\":\"95558\"},\"selection_policy\":{\"id\":\"95557\"}},\"id\":\"94295\",\"type\":\"ColumnDataSource\"},{\"attributes\":{},\"id\":\"94316\",\"type\":\"SaveTool\"},{\"attributes\":{},\"id\":\"94318\",\"type\":\"HelpTool\"},{\"attributes\":{\"tools\":[{\"id\":\"94313\"},{\"id\":\"94314\"},{\"id\":\"94315\"},{\"id\":\"94316\"},{\"id\":\"94317\"},{\"id\":\"94318\"}]},\"id\":\"94320\",\"type\":\"Toolbar\"},{\"attributes\":{\"end\":175,\"start\":160},\"id\":\"94297\",\"type\":\"Range1d\"},{\"attributes\":{},\"id\":\"95553\",\"type\":\"AllLabels\"}],\"root_ids\":[\"94296\"]},\"title\":\"Bokeh Application\",\"version\":\"2.4.3\"}};\n",
       "  const render_items = [{\"docid\":\"079e518b-0787-457b-8fa0-548d94fd28f9\",\"root_ids\":[\"94296\"],\"roots\":{\"94296\":\"c4bdc216-2dbb-4f1d-8e33-8962737a5a54\"}}];\n",
       "  root.Bokeh.embed.embed_items_notebook(docs_json, render_items);\n",
       "  }\n",
       "  if (root.Bokeh !== undefined) {\n",
       "    embed_document(root);\n",
       "  } else {\n",
       "    let attempts = 0;\n",
       "    const timer = setInterval(function(root) {\n",
       "      if (root.Bokeh !== undefined) {\n",
       "        clearInterval(timer);\n",
       "        embed_document(root);\n",
       "      } else {\n",
       "        attempts++;\n",
       "        if (attempts > 100) {\n",
       "          clearInterval(timer);\n",
       "          console.log(\"Bokeh: ERROR: Unable to run BokehJS code because BokehJS library is missing\");\n",
       "        }\n",
       "      }\n",
       "    }, 10, root)\n",
       "  }\n",
       "})(window);"
      ],
      "application/vnd.bokehjs_exec.v0+json": ""
     },
     "metadata": {
      "application/vnd.bokehjs_exec.v0+json": {
       "id": "94296"
      }
     },
     "output_type": "display_data"
    }
   ],
   "source": [
    "from bokeh.plotting import figure\n",
    "from bokeh.models import ColumnDataSource, LabelSet\n",
    "\n",
    "\n",
    "source = ColumnDataSource(data=dict(\n",
    "    temp=[166, 171, 172, 168, 174, 162],\n",
    "    pressure=[165, 189, 220, 141, 260, 174],\n",
    "    names=['A', 'B', 'C', 'D', 'E', 'F']))\n",
    "\n",
    "p = figure(x_range=(160, 175))\n",
    "p.scatter(x='temp', y='pressure', size=8, source=source)\n",
    "p.xaxis.axis_label = 'Temperature (C)'\n",
    "p.yaxis.axis_label = 'Pressure (lbs)'\n",
    "\n",
    "labels = LabelSet(x='temp', y='pressure', text='names', level='glyph',\n",
    "                  x_offset=5, y_offset=5, source=source, render_mode='canvas')\n",
    "\n",
    "\n",
    "p.add_layout(labels)\n",
    "\n",
    "show(p)"
   ]
  },
  {
   "cell_type": "markdown",
   "metadata": {},
   "source": [
    "## Legends\n",
    "\n",
    "When plots have multiple glyphs, it is desirable to include a legend to help users interpret what they see. Bokeh can generate legends easily based on the glyphs that are added. "
   ]
  },
  {
   "cell_type": "markdown",
   "metadata": {},
   "source": [
    "### Simple Legends\n",
    "\n",
    "In the simplest case, you can simply pass a string as the `legend` argument to a glyph function:\n",
    "```python\n",
    "p.circle(x, y, legend=\"sin(x)\")\n",
    "``` \n",
    "In this case Bokeh will automatically create a legend that shows a representation of that glyph, labeled by the test you provided. A full example is below."
   ]
  },
  {
   "cell_type": "code",
   "execution_count": 179,
   "metadata": {},
   "outputs": [
    {
     "data": {
      "text/html": [
       "\n",
       "  <div class=\"bk-root\" id=\"d83a47c4-9a3b-4682-bf89-4718c336dd21\" data-root-id=\"95615\"></div>\n"
      ]
     },
     "metadata": {},
     "output_type": "display_data"
    },
    {
     "data": {
      "application/javascript": [
       "(function(root) {\n",
       "  function embed_document(root) {\n",
       "  const docs_json = {\"cf191507-b445-45b6-af45-7c9e15bba871\":{\"defs\":[],\"roots\":{\"references\":[{\"attributes\":{\"below\":[{\"id\":\"95624\"}],\"center\":[{\"id\":\"95627\"},{\"id\":\"95631\"},{\"id\":\"95663\"}],\"height\":400,\"left\":[{\"id\":\"95628\"}],\"renderers\":[{\"id\":\"95650\"},{\"id\":\"95669\"}],\"title\":{\"id\":\"95652\"},\"toolbar\":{\"id\":\"95639\"},\"x_range\":{\"id\":\"95616\"},\"x_scale\":{\"id\":\"95620\"},\"y_range\":{\"id\":\"95618\"},\"y_scale\":{\"id\":\"95622\"}},\"id\":\"95615\",\"subtype\":\"Figure\",\"type\":\"Plot\"},{\"attributes\":{},\"id\":\"95655\",\"type\":\"BasicTickFormatter\"},{\"attributes\":{\"source\":{\"id\":\"95646\"}},\"id\":\"95651\",\"type\":\"CDSView\"},{\"attributes\":{\"axis\":{\"id\":\"95624\"},\"coordinates\":null,\"group\":null,\"ticker\":null},\"id\":\"95627\",\"type\":\"Grid\"},{\"attributes\":{\"fill_color\":{\"value\":\"#1f77b4\"},\"line_color\":{\"value\":\"#1f77b4\"},\"x\":{\"field\":\"x\"},\"y\":{\"field\":\"y\"}},\"id\":\"95647\",\"type\":\"Circle\"},{\"attributes\":{},\"id\":\"95656\",\"type\":\"AllLabels\"},{\"attributes\":{\"coordinates\":null,\"group\":null},\"id\":\"95652\",\"type\":\"Title\"},{\"attributes\":{\"tools\":[{\"id\":\"95632\"},{\"id\":\"95633\"},{\"id\":\"95634\"},{\"id\":\"95635\"},{\"id\":\"95636\"},{\"id\":\"95637\"}]},\"id\":\"95639\",\"type\":\"Toolbar\"},{\"attributes\":{},\"id\":\"95658\",\"type\":\"BasicTickFormatter\"},{\"attributes\":{\"coordinates\":null,\"data_source\":{\"id\":\"95646\"},\"glyph\":{\"id\":\"95647\"},\"group\":null,\"hover_glyph\":null,\"muted_glyph\":{\"id\":\"95649\"},\"nonselection_glyph\":{\"id\":\"95648\"},\"view\":{\"id\":\"95651\"}},\"id\":\"95650\",\"type\":\"GlyphRenderer\"},{\"attributes\":{},\"id\":\"95659\",\"type\":\"AllLabels\"},{\"attributes\":{\"fill_alpha\":{\"value\":0.2},\"fill_color\":{\"value\":\"#1f77b4\"},\"hatch_alpha\":{\"value\":0.2},\"line_alpha\":{\"value\":0.2},\"line_color\":{\"value\":\"#1f77b4\"},\"x\":{\"field\":\"x\"},\"y\":{\"field\":\"y\"}},\"id\":\"95649\",\"type\":\"Circle\"},{\"attributes\":{},\"id\":\"95637\",\"type\":\"HelpTool\"},{\"attributes\":{\"coordinates\":null,\"formatter\":{\"id\":\"95655\"},\"group\":null,\"major_label_policy\":{\"id\":\"95656\"},\"ticker\":{\"id\":\"95629\"}},\"id\":\"95628\",\"type\":\"LinearAxis\"},{\"attributes\":{\"coordinates\":null,\"group\":null,\"items\":[{\"id\":\"95664\"},{\"id\":\"95684\"}]},\"id\":\"95663\",\"type\":\"Legend\"},{\"attributes\":{\"fill_alpha\":{\"value\":0.1},\"fill_color\":{\"value\":\"#1f77b4\"},\"hatch_alpha\":{\"value\":0.1},\"line_alpha\":{\"value\":0.1},\"line_color\":{\"value\":\"#1f77b4\"},\"x\":{\"field\":\"x\"},\"y\":{\"field\":\"y\"}},\"id\":\"95648\",\"type\":\"Circle\"},{\"attributes\":{\"data\":{\"x\":{\"__ndarray__\":\"AAAAAAAAAACRGkt8Vz/AP5EaS3xXP9A/2qdwOgNf2D+RGkt8Vz/gPzXhXVstT+Q/2qdwOgNf6D9+boMZ2W7sP5EaS3xXP/A/433Ua0JH8j814V1bLU/0P4dE50oYV/Y/2qdwOgNf+D8sC/op7mb6P35ugxnZbvw/0NEMCcR2/j+RGkt8Vz8AQDrMD/RMQwFA433Ua0JHAkCML5njN0sDQDXhXVstTwRA3pIi0yJTBUCHROdKGFcGQDD2q8INWwdA2qdwOgNfCECDWTWy+GIJQCwL+inuZgpA1by+oeNqC0B+boMZ2W4MQCcgSJHOcg1A0NEMCcR2DkB5g9GAuXoPQJEaS3xXPxBAZnMtOFLBEEA6zA/0TEMRQA8l8q9HxRFA433Ua0JHEkC41rYnPckSQIwvmeM3SxNAYYh7nzLNE0A14V1bLU8UQAo6QBco0RRA3pIi0yJTFUCz6wSPHdUVQIdE50oYVxZAXJ3JBhPZFkAw9qvCDVsXQAVPjn4I3RdA2qdwOgNfGECuAFP2/eAYQINZNbL4YhlAV7IXbvPkGUAsC/op7mYaQABk3OXo6BpA1by+oeNqG0CpFaFd3uwbQH5ugxnZbhxAUsdl1dPwHEAnIEiRznIdQPt4Kk3J9B1A0NEMCcR2HkCkKu/EvvgeQHmD0YC5eh9ATdyzPLT8H0CRGkt8Vz8gQPtGPNpUgCBAZnMtOFLBIEDQnx6WTwIhQDrMD/RMQyFApPgAUkqEIUAPJfKvR8UhQHlR4w1FBiJA433Ua0JHIkBNqsXJP4giQLjWtic9ySJAIgOohToKI0CML5njN0sjQPZbikE1jCNAYYh7nzLNI0DLtGz9Lw4kQDXhXVstTyRAoA1PuSqQJEAKOkAXKNEkQHRmMXUlEiVA3pIi0yJTJUBJvxMxIJQlQLPrBI8d1SVAHRj27BoWJkCHROdKGFcmQPJw2KgVmCZAXJ3JBhPZJkDGybpkEBonQDD2q8INWydAmyKdIAucJ0AFT45+CN0nQG97f9wFHihA2qdwOgNfKEBE1GGYAKAoQK4AU/b94ChAGC1EVPshKUA=\",\"dtype\":\"float64\",\"order\":\"little\",\"shape\":[100]},\"y\":{\"__ndarray__\":\"AAAAAAAAAADwgwJ4LjTQP5qI2QHPEuA/+5MNU1HJ5z8ZTT7q2B3vP0aFmgwa+fI/ABg/lCAV9j+IQCEcMdb4P3fOhmLzMPs/EyzujrQb/T/9Izwlj47+PxccgYyLg/8/g6xao7j2/z9mZrL8O+b/P7+X94FZUv8/xVNiW3I9/j9RB8Ai+6v8P5FWKYlppPo/oSg6uxkv+D/Sh2bxK1b1PyZGRbpaJfI/8qg+VZVT7T/4C4p0qOPlP+UppLIiM9w/3FNHxZdVyD/J23zJpD6wv+3ENsZjOdS/wo12/ecH4r/dgWKM2Kjpv2MTsJELcPC/83ixWvXH87+358MBZM72v5eCD4nhdvm/rExY6Hq2+7+TIxAn7YP9vwSssILL1/6/70I4BJ6s/7/vOc8G+P7/vzTGy1KGzf+/3176khQZ/7/C8a4NiuT9vzGcHq/dNPy/l0FFlgER+r+EGZN4xoH3vx8WPFK3kfS/Cli7+O1M8b+HQNqEwoHrv9kfIiFb+OO/gKyggGI52L8EhrXMjDzAvyGGtcyMPMA/jqyggGI52D/gHyIhW/jjP4BA2oTCges/DVi7+O1M8T8cFjxSt5H0P4cZk3jGgfc/lUFFlgER+j8ynB6v3TT8P8Hxrg2K5P0/4F76khQZ/z80xstShs3/P+85zwb4/v8/8EI4BJ6s/z8DrLCCy9f+P5UjECftg/0/p0xY6Hq2+z+Vgg+J4Xb5P7fnwwFkzvY/9nixWvXH8z9dE7CRC3DwP9eBYozYqOk/w412/ecH4j/+xDbGYznUP0/bfMmkPrA/+FNHxZdVyL/UKaSyIjPcv+gLinSo4+W/+Kg+VZVT7b8lRkW6WiXyv8+HZvErVvW/pig6uxkv+L+TVimJaaT6v1EHwCL7q/y/xFNiW3I9/r/Al/eBWVL/v2Zmsvw75v+/g6xao7j2/78YHIGMi4P/v/sjPCWPjv6/EyzujrQb/b94zoZi8zD7v4xAIRwx1vi//Bc/lCAV9r9GhZoMGvnyvx5NPurYHe+/65MNU1HJ57+SiNkBzxLgv/GDAnguNNC/B1wUMyam0bw=\",\"dtype\":\"float64\",\"order\":\"little\",\"shape\":[100]}},\"selected\":{\"id\":\"95682\"},\"selection_policy\":{\"id\":\"95681\"}},\"id\":\"95665\",\"type\":\"ColumnDataSource\"},{\"attributes\":{},\"id\":\"95625\",\"type\":\"BasicTicker\"},{\"attributes\":{\"label\":{\"value\":\"sin(x)\"},\"renderers\":[{\"id\":\"95650\"}]},\"id\":\"95664\",\"type\":\"LegendItem\"},{\"attributes\":{},\"id\":\"95616\",\"type\":\"DataRange1d\"},{\"attributes\":{},\"id\":\"95681\",\"type\":\"UnionRenderers\"},{\"attributes\":{},\"id\":\"95660\",\"type\":\"UnionRenderers\"},{\"attributes\":{\"line_color\":\"orange\",\"line_dash\":[4,4],\"line_width\":2,\"x\":{\"field\":\"x\"},\"y\":{\"field\":\"y\"}},\"id\":\"95666\",\"type\":\"Line\"},{\"attributes\":{},\"id\":\"95636\",\"type\":\"ResetTool\"},{\"attributes\":{},\"id\":\"95661\",\"type\":\"Selection\"},{\"attributes\":{},\"id\":\"95635\",\"type\":\"SaveTool\"},{\"attributes\":{\"line_alpha\":0.2,\"line_color\":\"orange\",\"line_dash\":[4,4],\"line_width\":2,\"x\":{\"field\":\"x\"},\"y\":{\"field\":\"y\"}},\"id\":\"95668\",\"type\":\"Line\"},{\"attributes\":{\"overlay\":{\"id\":\"95638\"}},\"id\":\"95634\",\"type\":\"BoxZoomTool\"},{\"attributes\":{\"coordinates\":null,\"data_source\":{\"id\":\"95665\"},\"glyph\":{\"id\":\"95666\"},\"group\":null,\"hover_glyph\":null,\"muted_glyph\":{\"id\":\"95668\"},\"nonselection_glyph\":{\"id\":\"95667\"},\"view\":{\"id\":\"95670\"}},\"id\":\"95669\",\"type\":\"GlyphRenderer\"},{\"attributes\":{},\"id\":\"95632\",\"type\":\"PanTool\"},{\"attributes\":{},\"id\":\"95633\",\"type\":\"WheelZoomTool\"},{\"attributes\":{},\"id\":\"95629\",\"type\":\"BasicTicker\"},{\"attributes\":{\"axis\":{\"id\":\"95628\"},\"coordinates\":null,\"dimension\":1,\"group\":null,\"ticker\":null},\"id\":\"95631\",\"type\":\"Grid\"},{\"attributes\":{},\"id\":\"95618\",\"type\":\"DataRange1d\"},{\"attributes\":{\"source\":{\"id\":\"95665\"}},\"id\":\"95670\",\"type\":\"CDSView\"},{\"attributes\":{\"coordinates\":null,\"formatter\":{\"id\":\"95658\"},\"group\":null,\"major_label_policy\":{\"id\":\"95659\"},\"ticker\":{\"id\":\"95625\"}},\"id\":\"95624\",\"type\":\"LinearAxis\"},{\"attributes\":{\"line_alpha\":0.1,\"line_color\":\"orange\",\"line_dash\":[4,4],\"line_width\":2,\"x\":{\"field\":\"x\"},\"y\":{\"field\":\"y\"}},\"id\":\"95667\",\"type\":\"Line\"},{\"attributes\":{\"label\":{\"value\":\"2*sin(x)\"},\"renderers\":[{\"id\":\"95669\"}]},\"id\":\"95684\",\"type\":\"LegendItem\"},{\"attributes\":{\"bottom_units\":\"screen\",\"coordinates\":null,\"fill_alpha\":0.5,\"fill_color\":\"lightgrey\",\"group\":null,\"left_units\":\"screen\",\"level\":\"overlay\",\"line_alpha\":1.0,\"line_color\":\"black\",\"line_dash\":[4,4],\"line_width\":2,\"right_units\":\"screen\",\"syncable\":false,\"top_units\":\"screen\"},\"id\":\"95638\",\"type\":\"BoxAnnotation\"},{\"attributes\":{},\"id\":\"95620\",\"type\":\"LinearScale\"},{\"attributes\":{},\"id\":\"95682\",\"type\":\"Selection\"},{\"attributes\":{},\"id\":\"95622\",\"type\":\"LinearScale\"},{\"attributes\":{\"data\":{\"x\":{\"__ndarray__\":\"AAAAAAAAAACRGkt8Vz/AP5EaS3xXP9A/2qdwOgNf2D+RGkt8Vz/gPzXhXVstT+Q/2qdwOgNf6D9+boMZ2W7sP5EaS3xXP/A/433Ua0JH8j814V1bLU/0P4dE50oYV/Y/2qdwOgNf+D8sC/op7mb6P35ugxnZbvw/0NEMCcR2/j+RGkt8Vz8AQDrMD/RMQwFA433Ua0JHAkCML5njN0sDQDXhXVstTwRA3pIi0yJTBUCHROdKGFcGQDD2q8INWwdA2qdwOgNfCECDWTWy+GIJQCwL+inuZgpA1by+oeNqC0B+boMZ2W4MQCcgSJHOcg1A0NEMCcR2DkB5g9GAuXoPQJEaS3xXPxBAZnMtOFLBEEA6zA/0TEMRQA8l8q9HxRFA433Ua0JHEkC41rYnPckSQIwvmeM3SxNAYYh7nzLNE0A14V1bLU8UQAo6QBco0RRA3pIi0yJTFUCz6wSPHdUVQIdE50oYVxZAXJ3JBhPZFkAw9qvCDVsXQAVPjn4I3RdA2qdwOgNfGECuAFP2/eAYQINZNbL4YhlAV7IXbvPkGUAsC/op7mYaQABk3OXo6BpA1by+oeNqG0CpFaFd3uwbQH5ugxnZbhxAUsdl1dPwHEAnIEiRznIdQPt4Kk3J9B1A0NEMCcR2HkCkKu/EvvgeQHmD0YC5eh9ATdyzPLT8H0CRGkt8Vz8gQPtGPNpUgCBAZnMtOFLBIEDQnx6WTwIhQDrMD/RMQyFApPgAUkqEIUAPJfKvR8UhQHlR4w1FBiJA433Ua0JHIkBNqsXJP4giQLjWtic9ySJAIgOohToKI0CML5njN0sjQPZbikE1jCNAYYh7nzLNI0DLtGz9Lw4kQDXhXVstTyRAoA1PuSqQJEAKOkAXKNEkQHRmMXUlEiVA3pIi0yJTJUBJvxMxIJQlQLPrBI8d1SVAHRj27BoWJkCHROdKGFcmQPJw2KgVmCZAXJ3JBhPZJkDGybpkEBonQDD2q8INWydAmyKdIAucJ0AFT45+CN0nQG97f9wFHihA2qdwOgNfKEBE1GGYAKAoQK4AU/b94ChAGC1EVPshKUA=\",\"dtype\":\"float64\",\"order\":\"little\",\"shape\":[100]},\"y\":{\"__ndarray__\":\"AAAAAAAAAADwgwJ4LjTAP5qI2QHPEtA/+5MNU1HJ1z8ZTT7q2B3fP0aFmgwa+eI/ABg/lCAV5j+IQCEcMdboP3fOhmLzMOs/EyzujrQb7T/9Izwlj47uPxccgYyLg+8/g6xao7j27z9mZrL8O+bvP7+X94FZUu8/xVNiW3I97j9RB8Ai+6vsP5FWKYlppOo/oSg6uxkv6D/Sh2bxK1blPyZGRbpaJeI/8qg+VZVT3T/4C4p0qOPVP+UppLIiM8w/3FNHxZdVuD/J23zJpD6gv+3ENsZjOcS/wo12/ecH0r/dgWKM2KjZv2MTsJELcOC/83ixWvXH47+358MBZM7mv5eCD4nhdum/rExY6Hq267+TIxAn7YPtvwSssILL1+6/70I4BJ6s77/vOc8G+P7vvzTGy1KGze+/3176khQZ77/C8a4NiuTtvzGcHq/dNOy/l0FFlgER6r+EGZN4xoHnvx8WPFK3keS/Cli7+O1M4b+HQNqEwoHbv9kfIiFb+NO/gKyggGI5yL8EhrXMjDywvyGGtcyMPLA/jqyggGI5yD/gHyIhW/jTP4BA2oTCgds/DVi7+O1M4T8cFjxSt5HkP4cZk3jGgec/lUFFlgER6j8ynB6v3TTsP8Hxrg2K5O0/4F76khQZ7z80xstShs3vP+85zwb4/u8/8EI4BJ6s7z8DrLCCy9fuP5UjECftg+0/p0xY6Hq26z+Vgg+J4XbpP7fnwwFkzuY/9nixWvXH4z9dE7CRC3DgP9eBYozYqNk/w412/ecH0j/+xDbGYznEP0/bfMmkPqA/+FNHxZdVuL/UKaSyIjPMv+gLinSo49W/+Kg+VZVT3b8lRkW6WiXiv8+HZvErVuW/pig6uxkv6L+TVimJaaTqv1EHwCL7q+y/xFNiW3I97r/Al/eBWVLvv2Zmsvw75u+/g6xao7j2778YHIGMi4Pvv/sjPCWPju6/EyzujrQb7b94zoZi8zDrv4xAIRwx1ui//Bc/lCAV5r9GhZoMGvnivx5NPurYHd+/65MNU1HJ17+SiNkBzxLQv/GDAnguNMC/B1wUMyamwbw=\",\"dtype\":\"float64\",\"order\":\"little\",\"shape\":[100]}},\"selected\":{\"id\":\"95661\"},\"selection_policy\":{\"id\":\"95660\"}},\"id\":\"95646\",\"type\":\"ColumnDataSource\"}],\"root_ids\":[\"95615\"]},\"title\":\"Bokeh Application\",\"version\":\"2.4.3\"}};\n",
       "  const render_items = [{\"docid\":\"cf191507-b445-45b6-af45-7c9e15bba871\",\"root_ids\":[\"95615\"],\"roots\":{\"95615\":\"d83a47c4-9a3b-4682-bf89-4718c336dd21\"}}];\n",
       "  root.Bokeh.embed.embed_items_notebook(docs_json, render_items);\n",
       "  }\n",
       "  if (root.Bokeh !== undefined) {\n",
       "    embed_document(root);\n",
       "  } else {\n",
       "    let attempts = 0;\n",
       "    const timer = setInterval(function(root) {\n",
       "      if (root.Bokeh !== undefined) {\n",
       "        clearInterval(timer);\n",
       "        embed_document(root);\n",
       "      } else {\n",
       "        attempts++;\n",
       "        if (attempts > 100) {\n",
       "          clearInterval(timer);\n",
       "          console.log(\"Bokeh: ERROR: Unable to run BokehJS code because BokehJS library is missing\");\n",
       "        }\n",
       "      }\n",
       "    }, 10, root)\n",
       "  }\n",
       "})(window);"
      ],
      "application/vnd.bokehjs_exec.v0+json": ""
     },
     "metadata": {
      "application/vnd.bokehjs_exec.v0+json": {
       "id": "95615"
      }
     },
     "output_type": "display_data"
    }
   ],
   "source": [
    "import numpy as np\n",
    "\n",
    "x = np.linspace(0, 4*np.pi, 100)\n",
    "y = np.sin(x)\n",
    "\n",
    "p = figure(height=400)\n",
    "\n",
    "p.circle(x, y, legend_label=\"sin(x)\")\n",
    "p.line(x, 2*y, legend_label=\"2*sin(x)\", line_dash=[4, 4], line_color=\"orange\", line_width=2)\n",
    "\n",
    "show(p)"
   ]
  },
  {
   "cell_type": "markdown",
   "metadata": {},
   "source": [
    "### Compound legends\n",
    "\n",
    "In the example above, we provided a different legend label to each glyph method. Sometimes, two (or more) different glyphs are used with a single data source. In this case, you can make compound legends by specifying the same legend argument to multiple glyph methods when creating a plot, for example, if you plot a `sin` curve with both a line and a marker, you may give them the same label to cause them to show up together in the legend:\n",
    "\n",
    "```python\n",
    "p.circle(x, y, legend=\"sin(x)\")\n",
    "p.line(x, y, legend=\"sin(x)\", line_dash=[4, 4], line_color=\"orange\", line_width=2)\n",
    "```\n"
   ]
  },
  {
   "cell_type": "code",
   "execution_count": 194,
   "metadata": {},
   "outputs": [
    {
     "data": {
      "text/html": [
       "\n",
       "  <div class=\"bk-root\" id=\"a5275e44-a505-4bb7-8357-893521688607\" data-root-id=\"113013\"></div>\n"
      ]
     },
     "metadata": {},
     "output_type": "display_data"
    },
    {
     "data": {
      "application/javascript": [
       "(function(root) {\n",
       "  function embed_document(root) {\n",
       "  const docs_json = {\"49073e08-f7c0-4f69-8fac-22476b8a7e23\":{\"defs\":[],\"roots\":{\"references\":[{\"attributes\":{\"below\":[{\"id\":\"113022\"}],\"center\":[{\"id\":\"113025\"},{\"id\":\"113029\"},{\"id\":\"113061\"}],\"height\":400,\"left\":[{\"id\":\"113026\"}],\"renderers\":[{\"id\":\"113048\"},{\"id\":\"113067\"}],\"title\":{\"id\":\"113050\"},\"toolbar\":{\"id\":\"113037\"},\"x_range\":{\"id\":\"113014\"},\"x_scale\":{\"id\":\"113018\"},\"y_range\":{\"id\":\"113016\"},\"y_scale\":{\"id\":\"113020\"}},\"id\":\"113013\",\"subtype\":\"Figure\",\"type\":\"Plot\"},{\"attributes\":{},\"id\":\"113035\",\"type\":\"HelpTool\"},{\"attributes\":{},\"id\":\"113056\",\"type\":\"BasicTickFormatter\"},{\"attributes\":{},\"id\":\"113057\",\"type\":\"AllLabels\"},{\"attributes\":{\"axis\":{\"id\":\"113026\"},\"coordinates\":null,\"dimension\":1,\"group\":null,\"ticker\":null},\"id\":\"113029\",\"type\":\"Grid\"},{\"attributes\":{\"source\":{\"id\":\"113044\"}},\"id\":\"113049\",\"type\":\"CDSView\"},{\"attributes\":{},\"id\":\"113027\",\"type\":\"BasicTicker\"},{\"attributes\":{},\"id\":\"113031\",\"type\":\"WheelZoomTool\"},{\"attributes\":{},\"id\":\"113053\",\"type\":\"BasicTickFormatter\"},{\"attributes\":{},\"id\":\"113030\",\"type\":\"PanTool\"},{\"attributes\":{\"overlay\":{\"id\":\"113036\"}},\"id\":\"113032\",\"type\":\"BoxZoomTool\"},{\"attributes\":{},\"id\":\"113033\",\"type\":\"SaveTool\"},{\"attributes\":{},\"id\":\"113054\",\"type\":\"AllLabels\"},{\"attributes\":{},\"id\":\"113034\",\"type\":\"ResetTool\"},{\"attributes\":{},\"id\":\"113058\",\"type\":\"UnionRenderers\"},{\"attributes\":{\"bottom_units\":\"screen\",\"coordinates\":null,\"fill_alpha\":0.5,\"fill_color\":\"lightgrey\",\"group\":null,\"left_units\":\"screen\",\"level\":\"overlay\",\"line_alpha\":1.0,\"line_color\":\"black\",\"line_dash\":[4,4],\"line_width\":2,\"right_units\":\"screen\",\"syncable\":false,\"top_units\":\"screen\"},\"id\":\"113036\",\"type\":\"BoxAnnotation\"},{\"attributes\":{},\"id\":\"113059\",\"type\":\"Selection\"},{\"attributes\":{\"coordinates\":null,\"data_source\":{\"id\":\"113044\"},\"glyph\":{\"id\":\"113045\"},\"group\":null,\"hover_glyph\":null,\"muted_glyph\":{\"id\":\"113047\"},\"nonselection_glyph\":{\"id\":\"113046\"},\"view\":{\"id\":\"113049\"}},\"id\":\"113048\",\"type\":\"GlyphRenderer\"},{\"attributes\":{},\"id\":\"113080\",\"type\":\"Selection\"},{\"attributes\":{},\"id\":\"113014\",\"type\":\"DataRange1d\"},{\"attributes\":{\"coordinates\":null,\"data_source\":{\"id\":\"113063\"},\"glyph\":{\"id\":\"113064\"},\"group\":null,\"hover_glyph\":null,\"muted_glyph\":{\"id\":\"113066\"},\"nonselection_glyph\":{\"id\":\"113065\"},\"view\":{\"id\":\"113068\"}},\"id\":\"113067\",\"type\":\"GlyphRenderer\"},{\"attributes\":{\"coordinates\":null,\"formatter\":{\"id\":\"113053\"},\"group\":null,\"major_label_policy\":{\"id\":\"113054\"},\"ticker\":{\"id\":\"113027\"}},\"id\":\"113026\",\"type\":\"LinearAxis\"},{\"attributes\":{\"fill_alpha\":{\"value\":0.1},\"fill_color\":{\"value\":\"red\"},\"hatch_alpha\":{\"value\":0.1},\"hatch_color\":{\"value\":\"red\"},\"line_alpha\":{\"value\":0.1},\"line_color\":{\"value\":\"red\"},\"size\":{\"value\":3},\"x\":{\"field\":\"x\"},\"y\":{\"field\":\"y\"}},\"id\":\"113046\",\"type\":\"Circle\"},{\"attributes\":{\"axis\":{\"id\":\"113022\"},\"coordinates\":null,\"group\":null,\"ticker\":null},\"id\":\"113025\",\"type\":\"Grid\"},{\"attributes\":{\"coordinates\":null,\"group\":null},\"id\":\"113050\",\"type\":\"Title\"},{\"attributes\":{},\"id\":\"113023\",\"type\":\"BasicTicker\"},{\"attributes\":{\"data\":{\"x\":{\"__ndarray__\":\"AAAAAAAAAACRGkt8Vz/AP5EaS3xXP9A/2qdwOgNf2D+RGkt8Vz/gPzXhXVstT+Q/2qdwOgNf6D9+boMZ2W7sP5EaS3xXP/A/433Ua0JH8j814V1bLU/0P4dE50oYV/Y/2qdwOgNf+D8sC/op7mb6P35ugxnZbvw/0NEMCcR2/j+RGkt8Vz8AQDrMD/RMQwFA433Ua0JHAkCML5njN0sDQDXhXVstTwRA3pIi0yJTBUCHROdKGFcGQDD2q8INWwdA2qdwOgNfCECDWTWy+GIJQCwL+inuZgpA1by+oeNqC0B+boMZ2W4MQCcgSJHOcg1A0NEMCcR2DkB5g9GAuXoPQJEaS3xXPxBAZnMtOFLBEEA6zA/0TEMRQA8l8q9HxRFA433Ua0JHEkC41rYnPckSQIwvmeM3SxNAYYh7nzLNE0A14V1bLU8UQAo6QBco0RRA3pIi0yJTFUCz6wSPHdUVQIdE50oYVxZAXJ3JBhPZFkAw9qvCDVsXQAVPjn4I3RdA2qdwOgNfGECuAFP2/eAYQINZNbL4YhlAV7IXbvPkGUAsC/op7mYaQABk3OXo6BpA1by+oeNqG0CpFaFd3uwbQH5ugxnZbhxAUsdl1dPwHEAnIEiRznIdQPt4Kk3J9B1A0NEMCcR2HkCkKu/EvvgeQHmD0YC5eh9ATdyzPLT8H0CRGkt8Vz8gQPtGPNpUgCBAZnMtOFLBIEDQnx6WTwIhQDrMD/RMQyFApPgAUkqEIUAPJfKvR8UhQHlR4w1FBiJA433Ua0JHIkBNqsXJP4giQLjWtic9ySJAIgOohToKI0CML5njN0sjQPZbikE1jCNAYYh7nzLNI0DLtGz9Lw4kQDXhXVstTyRAoA1PuSqQJEAKOkAXKNEkQHRmMXUlEiVA3pIi0yJTJUBJvxMxIJQlQLPrBI8d1SVAHRj27BoWJkCHROdKGFcmQPJw2KgVmCZAXJ3JBhPZJkDGybpkEBonQDD2q8INWydAmyKdIAucJ0AFT45+CN0nQG97f9wFHihA2qdwOgNfKEBE1GGYAKAoQK4AU/b94ChAGC1EVPshKUA=\",\"dtype\":\"float64\",\"order\":\"little\",\"shape\":[100]},\"y\":{\"__ndarray__\":\"AAAAAAAAAADwgwJ4LjTAP5qI2QHPEtA/+5MNU1HJ1z8ZTT7q2B3fP0aFmgwa+eI/ABg/lCAV5j+IQCEcMdboP3fOhmLzMOs/EyzujrQb7T/9Izwlj47uPxccgYyLg+8/g6xao7j27z9mZrL8O+bvP7+X94FZUu8/xVNiW3I97j9RB8Ai+6vsP5FWKYlppOo/oSg6uxkv6D/Sh2bxK1blPyZGRbpaJeI/8qg+VZVT3T/4C4p0qOPVP+UppLIiM8w/3FNHxZdVuD/J23zJpD6gv+3ENsZjOcS/wo12/ecH0r/dgWKM2KjZv2MTsJELcOC/83ixWvXH47+358MBZM7mv5eCD4nhdum/rExY6Hq267+TIxAn7YPtvwSssILL1+6/70I4BJ6s77/vOc8G+P7vvzTGy1KGze+/3176khQZ77/C8a4NiuTtvzGcHq/dNOy/l0FFlgER6r+EGZN4xoHnvx8WPFK3keS/Cli7+O1M4b+HQNqEwoHbv9kfIiFb+NO/gKyggGI5yL8EhrXMjDywvyGGtcyMPLA/jqyggGI5yD/gHyIhW/jTP4BA2oTCgds/DVi7+O1M4T8cFjxSt5HkP4cZk3jGgec/lUFFlgER6j8ynB6v3TTsP8Hxrg2K5O0/4F76khQZ7z80xstShs3vP+85zwb4/u8/8EI4BJ6s7z8DrLCCy9fuP5UjECftg+0/p0xY6Hq26z+Vgg+J4XbpP7fnwwFkzuY/9nixWvXH4z9dE7CRC3DgP9eBYozYqNk/w412/ecH0j/+xDbGYznEP0/bfMmkPqA/+FNHxZdVuL/UKaSyIjPMv+gLinSo49W/+Kg+VZVT3b8lRkW6WiXiv8+HZvErVuW/pig6uxkv6L+TVimJaaTqv1EHwCL7q+y/xFNiW3I97r/Al/eBWVLvv2Zmsvw75u+/g6xao7j2778YHIGMi4Pvv/sjPCWPju6/EyzujrQb7b94zoZi8zDrv4xAIRwx1ui//Bc/lCAV5r9GhZoMGvnivx5NPurYHd+/65MNU1HJ17+SiNkBzxLQv/GDAnguNMC/B1wUMyamwbw=\",\"dtype\":\"float64\",\"order\":\"little\",\"shape\":[100]}},\"selected\":{\"id\":\"113080\"},\"selection_policy\":{\"id\":\"113079\"}},\"id\":\"113063\",\"type\":\"ColumnDataSource\"},{\"attributes\":{\"tools\":[{\"id\":\"113030\"},{\"id\":\"113031\"},{\"id\":\"113032\"},{\"id\":\"113033\"},{\"id\":\"113034\"},{\"id\":\"113035\"}]},\"id\":\"113037\",\"type\":\"Toolbar\"},{\"attributes\":{\"source\":{\"id\":\"113063\"}},\"id\":\"113068\",\"type\":\"CDSView\"},{\"attributes\":{\"line_alpha\":0.2,\"line_color\":\"grey\",\"x\":{\"field\":\"x\"},\"y\":{\"field\":\"y\"}},\"id\":\"113066\",\"type\":\"Line\"},{\"attributes\":{\"fill_color\":{\"value\":\"red\"},\"hatch_color\":{\"value\":\"red\"},\"line_color\":{\"value\":\"red\"},\"size\":{\"value\":3},\"x\":{\"field\":\"x\"},\"y\":{\"field\":\"y\"}},\"id\":\"113045\",\"type\":\"Circle\"},{\"attributes\":{\"line_alpha\":0.1,\"line_color\":\"grey\",\"x\":{\"field\":\"x\"},\"y\":{\"field\":\"y\"}},\"id\":\"113065\",\"type\":\"Line\"},{\"attributes\":{\"fill_alpha\":{\"value\":0.2},\"fill_color\":{\"value\":\"red\"},\"hatch_alpha\":{\"value\":0.2},\"hatch_color\":{\"value\":\"red\"},\"line_alpha\":{\"value\":0.2},\"line_color\":{\"value\":\"red\"},\"size\":{\"value\":3},\"x\":{\"field\":\"x\"},\"y\":{\"field\":\"y\"}},\"id\":\"113047\",\"type\":\"Circle\"},{\"attributes\":{},\"id\":\"113018\",\"type\":\"LinearScale\"},{\"attributes\":{\"data\":{\"x\":{\"__ndarray__\":\"AAAAAAAAAACRGkt8Vz/AP5EaS3xXP9A/2qdwOgNf2D+RGkt8Vz/gPzXhXVstT+Q/2qdwOgNf6D9+boMZ2W7sP5EaS3xXP/A/433Ua0JH8j814V1bLU/0P4dE50oYV/Y/2qdwOgNf+D8sC/op7mb6P35ugxnZbvw/0NEMCcR2/j+RGkt8Vz8AQDrMD/RMQwFA433Ua0JHAkCML5njN0sDQDXhXVstTwRA3pIi0yJTBUCHROdKGFcGQDD2q8INWwdA2qdwOgNfCECDWTWy+GIJQCwL+inuZgpA1by+oeNqC0B+boMZ2W4MQCcgSJHOcg1A0NEMCcR2DkB5g9GAuXoPQJEaS3xXPxBAZnMtOFLBEEA6zA/0TEMRQA8l8q9HxRFA433Ua0JHEkC41rYnPckSQIwvmeM3SxNAYYh7nzLNE0A14V1bLU8UQAo6QBco0RRA3pIi0yJTFUCz6wSPHdUVQIdE50oYVxZAXJ3JBhPZFkAw9qvCDVsXQAVPjn4I3RdA2qdwOgNfGECuAFP2/eAYQINZNbL4YhlAV7IXbvPkGUAsC/op7mYaQABk3OXo6BpA1by+oeNqG0CpFaFd3uwbQH5ugxnZbhxAUsdl1dPwHEAnIEiRznIdQPt4Kk3J9B1A0NEMCcR2HkCkKu/EvvgeQHmD0YC5eh9ATdyzPLT8H0CRGkt8Vz8gQPtGPNpUgCBAZnMtOFLBIEDQnx6WTwIhQDrMD/RMQyFApPgAUkqEIUAPJfKvR8UhQHlR4w1FBiJA433Ua0JHIkBNqsXJP4giQLjWtic9ySJAIgOohToKI0CML5njN0sjQPZbikE1jCNAYYh7nzLNI0DLtGz9Lw4kQDXhXVstTyRAoA1PuSqQJEAKOkAXKNEkQHRmMXUlEiVA3pIi0yJTJUBJvxMxIJQlQLPrBI8d1SVAHRj27BoWJkCHROdKGFcmQPJw2KgVmCZAXJ3JBhPZJkDGybpkEBonQDD2q8INWydAmyKdIAucJ0AFT45+CN0nQG97f9wFHihA2qdwOgNfKEBE1GGYAKAoQK4AU/b94ChAGC1EVPshKUA=\",\"dtype\":\"float64\",\"order\":\"little\",\"shape\":[100]},\"y\":{\"__ndarray__\":\"AAAAAAAAAADwgwJ4LjTAP5qI2QHPEtA/+5MNU1HJ1z8ZTT7q2B3fP0aFmgwa+eI/ABg/lCAV5j+IQCEcMdboP3fOhmLzMOs/EyzujrQb7T/9Izwlj47uPxccgYyLg+8/g6xao7j27z9mZrL8O+bvP7+X94FZUu8/xVNiW3I97j9RB8Ai+6vsP5FWKYlppOo/oSg6uxkv6D/Sh2bxK1blPyZGRbpaJeI/8qg+VZVT3T/4C4p0qOPVP+UppLIiM8w/3FNHxZdVuD/J23zJpD6gv+3ENsZjOcS/wo12/ecH0r/dgWKM2KjZv2MTsJELcOC/83ixWvXH47+358MBZM7mv5eCD4nhdum/rExY6Hq267+TIxAn7YPtvwSssILL1+6/70I4BJ6s77/vOc8G+P7vvzTGy1KGze+/3176khQZ77/C8a4NiuTtvzGcHq/dNOy/l0FFlgER6r+EGZN4xoHnvx8WPFK3keS/Cli7+O1M4b+HQNqEwoHbv9kfIiFb+NO/gKyggGI5yL8EhrXMjDywvyGGtcyMPLA/jqyggGI5yD/gHyIhW/jTP4BA2oTCgds/DVi7+O1M4T8cFjxSt5HkP4cZk3jGgec/lUFFlgER6j8ynB6v3TTsP8Hxrg2K5O0/4F76khQZ7z80xstShs3vP+85zwb4/u8/8EI4BJ6s7z8DrLCCy9fuP5UjECftg+0/p0xY6Hq26z+Vgg+J4XbpP7fnwwFkzuY/9nixWvXH4z9dE7CRC3DgP9eBYozYqNk/w412/ecH0j/+xDbGYznEP0/bfMmkPqA/+FNHxZdVuL/UKaSyIjPMv+gLinSo49W/+Kg+VZVT3b8lRkW6WiXiv8+HZvErVuW/pig6uxkv6L+TVimJaaTqv1EHwCL7q+y/xFNiW3I97r/Al/eBWVLvv2Zmsvw75u+/g6xao7j2778YHIGMi4Pvv/sjPCWPju6/EyzujrQb7b94zoZi8zDrv4xAIRwx1ui//Bc/lCAV5r9GhZoMGvnivx5NPurYHd+/65MNU1HJ17+SiNkBzxLQv/GDAnguNMC/B1wUMyamwbw=\",\"dtype\":\"float64\",\"order\":\"little\",\"shape\":[100]}},\"selected\":{\"id\":\"113059\"},\"selection_policy\":{\"id\":\"113058\"}},\"id\":\"113044\",\"type\":\"ColumnDataSource\"},{\"attributes\":{},\"id\":\"113020\",\"type\":\"LinearScale\"},{\"attributes\":{\"coordinates\":null,\"group\":null,\"items\":[{\"id\":\"113062\"}]},\"id\":\"113061\",\"type\":\"Legend\"},{\"attributes\":{\"line_color\":\"grey\",\"x\":{\"field\":\"x\"},\"y\":{\"field\":\"y\"}},\"id\":\"113064\",\"type\":\"Line\"},{\"attributes\":{},\"id\":\"113079\",\"type\":\"UnionRenderers\"},{\"attributes\":{\"label\":{\"value\":\"sin(x)\"},\"renderers\":[{\"id\":\"113048\"},{\"id\":\"113067\"}]},\"id\":\"113062\",\"type\":\"LegendItem\"},{\"attributes\":{\"coordinates\":null,\"formatter\":{\"id\":\"113056\"},\"group\":null,\"major_label_policy\":{\"id\":\"113057\"},\"ticker\":{\"id\":\"113023\"}},\"id\":\"113022\",\"type\":\"LinearAxis\"},{\"attributes\":{},\"id\":\"113016\",\"type\":\"DataRange1d\"}],\"root_ids\":[\"113013\"]},\"title\":\"Bokeh Application\",\"version\":\"2.4.3\"}};\n",
       "  const render_items = [{\"docid\":\"49073e08-f7c0-4f69-8fac-22476b8a7e23\",\"root_ids\":[\"113013\"],\"roots\":{\"113013\":\"a5275e44-a505-4bb7-8357-893521688607\"}}];\n",
       "  root.Bokeh.embed.embed_items_notebook(docs_json, render_items);\n",
       "  }\n",
       "  if (root.Bokeh !== undefined) {\n",
       "    embed_document(root);\n",
       "  } else {\n",
       "    let attempts = 0;\n",
       "    const timer = setInterval(function(root) {\n",
       "      if (root.Bokeh !== undefined) {\n",
       "        clearInterval(timer);\n",
       "        embed_document(root);\n",
       "      } else {\n",
       "        attempts++;\n",
       "        if (attempts > 100) {\n",
       "          clearInterval(timer);\n",
       "          console.log(\"Bokeh: ERROR: Unable to run BokehJS code because BokehJS library is missing\");\n",
       "        }\n",
       "      }\n",
       "    }, 10, root)\n",
       "  }\n",
       "})(window);"
      ],
      "application/vnd.bokehjs_exec.v0+json": ""
     },
     "metadata": {
      "application/vnd.bokehjs_exec.v0+json": {
       "id": "113013"
      }
     },
     "output_type": "display_data"
    }
   ],
   "source": [
    "import numpy as np\n",
    "\n",
    "x = np.linspace(0, 4*np.pi, 100)\n",
    "y = np.sin(x)\n",
    "\n",
    "p = figure(height=400)\n",
    "\n",
    "p.circle(x, y, color='red', size=3, legend_label=('sin(x)'))\n",
    "p.line(x, y, line_color=\"grey\", line_width=1, legend_label=('sin(x)'))\n",
    "#p.legend_label('sinx(x)')\n",
    "\n",
    "show(p)"
   ]
  },
  {
   "cell_type": "markdown",
   "metadata": {},
   "source": [
    "## Color bars\n",
    "\n",
    "Color bars are especially useful if we vary the color of a glyph according to some color mapping. Bokeh color bars are configured with a color mapper and added to plots with the `add_layout` method:\n",
    "```python\n",
    "color_mapper = LinearColorMapper(palette=\"Viridis256\", low=data_low, high=data_high)\n",
    "color_bar = ColorBar(color_mapper=color_mapper, location=(0,0))\n",
    "p.add_layout(color_bar, 'right')\n",
    "```\n",
    "The example below shows a complete example that also uses the color mapper to transform the glyph color."
   ]
  },
  {
   "cell_type": "code",
   "execution_count": 203,
   "metadata": {},
   "outputs": [
    {
     "data": {
      "text/html": [
       "\n",
       "  <div class=\"bk-root\" id=\"0e387450-a9fd-40fa-840e-8e45948cc9e7\" data-root-id=\"122176\"></div>\n"
      ]
     },
     "metadata": {},
     "output_type": "display_data"
    },
    {
     "data": {
      "application/javascript": [
       "(function(root) {\n",
       "  function embed_document(root) {\n",
       "  const docs_json = {\"a586f98f-93f2-4391-9292-e57e311ac1d5\":{\"defs\":[],\"roots\":{\"references\":[{\"attributes\":{\"below\":[{\"id\":\"122185\"}],\"center\":[{\"id\":\"122188\"},{\"id\":\"122192\"}],\"left\":[{\"id\":\"122189\"}],\"renderers\":[{\"id\":\"122199\"}],\"right\":[{\"id\":\"122201\"}],\"title\":{\"id\":\"123651\"},\"toolbar\":{\"id\":\"122193\"},\"toolbar_location\":null,\"x_range\":{\"id\":\"122177\"},\"x_scale\":{\"id\":\"122181\"},\"y_range\":{\"id\":\"122179\"},\"y_scale\":{\"id\":\"122183\"}},\"id\":\"122176\",\"subtype\":\"Figure\",\"type\":\"Plot\"},{\"attributes\":{},\"id\":\"122193\",\"type\":\"Toolbar\"},{\"attributes\":{\"axis_label\":\"MPG\",\"coordinates\":null,\"formatter\":{\"id\":\"123654\"},\"group\":null,\"major_label_policy\":{\"id\":\"123655\"},\"ticker\":{\"id\":\"122190\"}},\"id\":\"122189\",\"type\":\"LinearAxis\"},{\"attributes\":{\"axis\":{\"id\":\"122185\"},\"coordinates\":null,\"group\":null,\"ticker\":null},\"id\":\"122188\",\"type\":\"Grid\"},{\"attributes\":{\"fill_alpha\":{\"value\":0.2},\"fill_color\":{\"field\":\"weight\",\"transform\":{\"id\":\"122175\"}},\"hatch_alpha\":{\"value\":0.2},\"hatch_color\":{\"field\":\"weight\",\"transform\":{\"id\":\"122175\"}},\"line_alpha\":{\"value\":0.2},\"line_color\":{\"field\":\"weight\",\"transform\":{\"id\":\"122175\"}},\"size\":{\"value\":7.5},\"x\":{\"field\":\"hp\"},\"y\":{\"field\":\"mpg\"}},\"id\":\"122198\",\"type\":\"Circle\"},{\"attributes\":{\"axis_label\":\"Horsepower\",\"coordinates\":null,\"formatter\":{\"id\":\"123658\"},\"group\":null,\"major_label_policy\":{\"id\":\"123659\"},\"ticker\":{\"id\":\"122186\"}},\"id\":\"122185\",\"type\":\"LinearAxis\"},{\"attributes\":{},\"id\":\"122190\",\"type\":\"BasicTicker\"},{\"attributes\":{},\"id\":\"123661\",\"type\":\"Selection\"},{\"attributes\":{\"fill_alpha\":{\"value\":0.6},\"fill_color\":{\"field\":\"weight\",\"transform\":{\"id\":\"122175\"}},\"hatch_alpha\":{\"value\":0.6},\"hatch_color\":{\"field\":\"weight\",\"transform\":{\"id\":\"122175\"}},\"line_alpha\":{\"value\":0.6},\"line_color\":{\"field\":\"weight\",\"transform\":{\"id\":\"122175\"}},\"size\":{\"value\":7.5},\"x\":{\"field\":\"hp\"},\"y\":{\"field\":\"mpg\"}},\"id\":\"122196\",\"type\":\"Circle\"},{\"attributes\":{},\"id\":\"123654\",\"type\":\"BasicTickFormatter\"},{\"attributes\":{\"coordinates\":null,\"group\":null},\"id\":\"123651\",\"type\":\"Title\"},{\"attributes\":{},\"id\":\"122186\",\"type\":\"BasicTicker\"},{\"attributes\":{\"fill_alpha\":{\"value\":0.1},\"fill_color\":{\"field\":\"weight\",\"transform\":{\"id\":\"122175\"}},\"hatch_alpha\":{\"value\":0.1},\"hatch_color\":{\"field\":\"weight\",\"transform\":{\"id\":\"122175\"}},\"line_alpha\":{\"value\":0.1},\"line_color\":{\"field\":\"weight\",\"transform\":{\"id\":\"122175\"}},\"size\":{\"value\":7.5},\"x\":{\"field\":\"hp\"},\"y\":{\"field\":\"mpg\"}},\"id\":\"122197\",\"type\":\"Circle\"},{\"attributes\":{},\"id\":\"122177\",\"type\":\"DataRange1d\"},{\"attributes\":{},\"id\":\"122181\",\"type\":\"LinearScale\"},{\"attributes\":{},\"id\":\"123655\",\"type\":\"AllLabels\"},{\"attributes\":{\"data\":{\"accel\":{\"__ndarray__\":\"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\",\"dtype\":\"float64\",\"order\":\"little\",\"shape\":[392]},\"cyl\":[8,8,8,8,8,8,8,8,8,8,8,8,8,8,4,6,6,6,4,4,4,4,4,4,6,8,8,8,8,4,4,4,6,6,6,6,6,8,8,8,8,8,8,8,6,4,6,6,4,4,4,4,4,4,4,4,4,4,4,4,4,8,8,8,8,8,8,8,8,8,3,8,8,8,8,4,4,4,4,4,4,4,4,4,8,8,8,8,8,8,8,8,8,8,8,8,6,6,6,6,6,4,8,8,8,8,6,4,4,4,3,4,6,4,8,8,4,4,4,4,8,4,6,8,6,6,6,4,4,4,4,6,6,6,8,8,8,8,8,4,4,4,4,4,4,4,4,4,4,4,6,6,6,6,8,8,8,8,6,6,6,6,6,8,8,4,4,6,4,4,4,4,6,4,6,4,4,4,4,4,4,4,4,4,4,8,8,8,8,6,6,6,6,4,4,4,4,6,6,6,6,4,4,4,4,4,8,4,6,6,8,8,8,8,4,4,4,4,4,8,8,8,8,6,6,6,6,8,8,8,8,4,4,4,4,4,4,4,4,6,4,3,4,4,4,4,4,8,8,8,6,6,6,4,6,6,6,6,6,6,8,6,8,8,4,4,4,4,4,4,4,4,5,6,4,6,4,4,6,6,4,6,6,8,8,8,8,8,8,8,8,4,4,4,4,5,8,4,8,4,4,4,4,4,6,6,4,4,4,4,4,4,4,4,6,4,4,4,4,4,4,4,4,4,4,5,4,4,4,4,6,3,4,4,4,4,4,6,4,4,4,4,4,4,4,4,4,4,4,4,4,4,4,4,4,6,6,6,6,8,6,6,4,4,4,4,4,4,4,4,4,4,4,4,4,4,4,4,4,4,6,6,4,6,4,4,4,4,4,4,4,4],\"displ\":{\"__ndarray__\":\"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\",\"dtype\":\"float64\",\"order\":\"little\",\"shape\":[392]},\"hp\":[130,165,150,150,140,198,220,215,225,190,170,160,150,225,95,95,97,85,88,46,87,90,95,113,90,215,200,210,193,88,90,95,100,105,100,88,100,165,175,153,150,180,170,175,110,72,100,88,86,90,70,76,65,69,60,70,95,80,54,90,86,165,175,150,153,150,208,155,160,190,97,150,130,140,150,112,76,87,69,86,92,97,80,88,175,150,145,137,150,198,150,158,150,215,225,175,105,100,100,88,95,46,150,167,170,180,100,88,72,94,90,85,107,90,145,230,49,75,91,112,150,110,122,180,95,100,100,67,80,65,75,100,110,105,140,150,150,140,150,83,67,78,52,61,75,75,75,97,93,67,95,105,72,72,170,145,150,148,110,105,110,95,110,110,129,75,83,100,78,96,71,97,97,70,90,95,88,98,115,53,86,81,92,79,83,140,150,120,152,100,105,81,90,52,60,70,53,100,78,110,95,71,70,75,72,102,150,88,108,120,180,145,130,150,68,80,58,96,70,145,110,145,130,110,105,100,98,180,170,190,149,78,88,75,89,63,83,67,78,97,110,110,48,66,52,70,60,110,140,139,105,95,85,88,100,90,105,85,110,120,145,165,139,140,68,95,97,75,95,105,85,97,103,125,115,133,71,68,115,85,88,90,110,130,129,138,135,155,142,125,150,71,65,80,80,77,125,71,90,70,70,65,69,90,115,115,90,76,60,70,65,90,88,90,90,78,90,75,92,75,65,105,65,48,48,67,67,67,67,62,132,100,88,72,84,84,92,110,84,58,64,60,67,65,62,68,63,65,65,74,75,75,100,74,80,76,116,120,110,105,88,85,88,88,88,85,84,90,92,74,68,68,63,70,88,75,70,67,67,67,110,85,92,112,96,84,90,86,52,84,79,82],\"index\":[0,1,2,3,4,5,6,7,8,9,10,11,12,13,14,15,16,17,18,19,20,21,22,23,24,25,26,27,28,29,30,31,32,33,34,35,36,37,38,39,40,41,42,43,44,45,46,47,48,49,50,51,52,53,54,55,56,57,58,59,60,61,62,63,64,65,66,67,68,69,70,71,72,73,74,75,76,77,78,79,80,81,82,83,84,85,86,87,88,89,90,91,92,93,94,95,96,97,98,99,100,101,102,103,104,105,106,107,108,109,110,111,112,113,114,115,116,117,118,119,120,121,122,123,124,125,126,127,128,129,130,131,132,133,134,135,136,137,138,139,140,141,142,143,144,145,146,147,148,149,150,151,152,153,154,155,156,157,158,159,160,161,162,163,164,165,166,167,168,169,170,171,172,173,174,175,176,177,178,179,180,181,182,183,184,185,186,187,188,189,190,191,192,193,194,195,196,197,198,199,200,201,202,203,204,205,206,207,208,209,210,211,212,213,214,215,216,217,218,219,220,221,222,223,224,225,226,227,228,229,230,231,232,233,234,235,236,237,238,239,240,241,242,243,244,245,246,247,248,249,250,251,252,253,254,255,256,257,258,259,260,261,262,263,264,265,266,267,268,269,270,271,272,273,274,275,276,277,278,279,280,281,282,283,284,285,286,287,288,289,290,291,292,293,294,295,296,297,298,299,300,301,302,303,304,305,306,307,308,309,310,311,312,313,314,315,316,317,318,319,320,321,322,323,324,325,326,327,328,329,330,331,332,333,334,335,336,337,338,339,340,341,342,343,344,345,346,347,348,349,350,351,352,353,354,355,356,357,358,359,360,361,362,363,364,365,366,367,368,369,370,371,372,373,374,375,376,377,378,379,380,381,382,383,384,385,386,387,388,389,390,391],\"mpg\":{\"__ndarray__\":\"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\",\"dtype\":\"float64\",\"order\":\"little\",\"shape\":[392]},\"name\":[\"chevrolet chevelle malibu\",\"buick skylark 320\",\"plymouth satellite\",\"amc rebel sst\",\"ford torino\",\"ford galaxie 500\",\"chevrolet impala\",\"plymouth fury iii\",\"pontiac catalina\",\"amc ambassador dpl\",\"dodge challenger se\",\"plymouth 'cuda 340\",\"chevrolet monte carlo\",\"buick estate wagon (sw)\",\"toyota corona mark ii\",\"plymouth duster\",\"amc hornet\",\"ford maverick\",\"datsun pl510\",\"volkswagen 1131 deluxe sedan\",\"peugeot 504\",\"audi 100 ls\",\"saab 99e\",\"bmw 2002\",\"amc gremlin\",\"ford f250\",\"chevy c20\",\"dodge d200\",\"hi 1200d\",\"datsun pl510\",\"chevrolet vega 2300\",\"toyota corona\",\"amc gremlin\",\"plymouth satellite custom\",\"chevrolet chevelle malibu\",\"ford torino 500\",\"amc matador\",\"chevrolet impala\",\"pontiac catalina brougham\",\"ford galaxie 500\",\"plymouth fury iii\",\"dodge monaco (sw)\",\"ford country squire (sw)\",\"pontiac safari (sw)\",\"amc hornet sportabout (sw)\",\"chevrolet vega (sw)\",\"pontiac firebird\",\"ford mustang\",\"mercury capri 2000\",\"opel 1900\",\"peugeot 304\",\"fiat 124b\",\"toyota corolla 1200\",\"datsun 1200\",\"volkswagen model 111\",\"plymouth cricket\",\"toyota corona hardtop\",\"dodge colt hardtop\",\"volkswagen type 3\",\"chevrolet vega\",\"ford pinto runabout\",\"chevrolet impala\",\"pontiac catalina\",\"plymouth fury iii\",\"ford galaxie 500\",\"amc ambassador sst\",\"mercury marquis\",\"buick lesabre custom\",\"oldsmobile delta 88 royale\",\"chrysler newport royal\",\"mazda rx2 coupe\",\"amc matador (sw)\",\"chevrolet chevelle concours (sw)\",\"ford gran torino (sw)\",\"plymouth satellite custom (sw)\",\"volvo 145e (sw)\",\"volkswagen 411 (sw)\",\"peugeot 504 (sw)\",\"renault 12 (sw)\",\"ford pinto (sw)\",\"datsun 510 (sw)\",\"toyouta corona mark ii (sw)\",\"dodge colt (sw)\",\"toyota corolla 1600 (sw)\",\"buick century 350\",\"amc matador\",\"chevrolet malibu\",\"ford gran torino\",\"dodge coronet custom\",\"mercury marquis brougham\",\"chevrolet caprice classic\",\"ford ltd\",\"plymouth fury gran sedan\",\"chrysler new yorker brougham\",\"buick electra 225 custom\",\"amc ambassador brougham\",\"plymouth valiant\",\"chevrolet nova custom\",\"amc hornet\",\"ford maverick\",\"plymouth duster\",\"volkswagen super beetle\",\"chevrolet impala\",\"ford country\",\"plymouth custom suburb\",\"oldsmobile vista cruiser\",\"amc gremlin\",\"toyota carina\",\"chevrolet vega\",\"datsun 610\",\"maxda rx3\",\"ford pinto\",\"mercury capri v6\",\"fiat 124 sport coupe\",\"chevrolet monte carlo s\",\"pontiac grand prix\",\"fiat 128\",\"opel manta\",\"audi 100ls\",\"volvo 144ea\",\"dodge dart custom\",\"saab 99le\",\"toyota mark ii\",\"oldsmobile omega\",\"plymouth duster\",\"amc hornet\",\"chevrolet nova\",\"datsun b210\",\"ford pinto\",\"toyota corolla 1200\",\"chevrolet vega\",\"chevrolet chevelle malibu classic\",\"amc matador\",\"plymouth satellite sebring\",\"ford gran torino\",\"buick century luxus (sw)\",\"dodge coronet custom (sw)\",\"ford gran torino (sw)\",\"amc matador (sw)\",\"audi fox\",\"volkswagen dasher\",\"opel manta\",\"toyota corona\",\"datsun 710\",\"dodge colt\",\"fiat 128\",\"fiat 124 tc\",\"honda civic\",\"subaru\",\"fiat x1.9\",\"plymouth valiant custom\",\"chevrolet nova\",\"mercury monarch\",\"ford maverick\",\"pontiac catalina\",\"chevrolet bel air\",\"plymouth grand fury\",\"ford ltd\",\"buick century\",\"chevroelt chevelle malibu\",\"amc matador\",\"plymouth fury\",\"buick skyhawk\",\"chevrolet monza 2+2\",\"ford mustang ii\",\"toyota corolla\",\"ford pinto\",\"amc gremlin\",\"pontiac astro\",\"toyota corona\",\"volkswagen dasher\",\"datsun 710\",\"ford pinto\",\"volkswagen rabbit\",\"amc pacer\",\"audi 100ls\",\"peugeot 504\",\"volvo 244dl\",\"saab 99le\",\"honda civic cvcc\",\"fiat 131\",\"opel 1900\",\"capri ii\",\"dodge colt\",\"renault 12tl\",\"chevrolet chevelle malibu classic\",\"dodge coronet brougham\",\"amc matador\",\"ford gran torino\",\"plymouth valiant\",\"chevrolet nova\",\"ford maverick\",\"amc hornet\",\"chevrolet chevette\",\"chevrolet woody\",\"vw rabbit\",\"honda civic\",\"dodge aspen se\",\"ford granada ghia\",\"pontiac ventura sj\",\"amc pacer d/l\",\"volkswagen rabbit\",\"datsun b-210\",\"toyota corolla\",\"ford pinto\",\"volvo 245\",\"plymouth volare premier v8\",\"peugeot 504\",\"toyota mark ii\",\"mercedes-benz 280s\",\"cadillac seville\",\"chevy c10\",\"ford f108\",\"dodge d100\",\"honda accord cvcc\",\"buick opel isuzu deluxe\",\"renault 5 gtl\",\"plymouth arrow gs\",\"datsun f-10 hatchback\",\"chevrolet caprice classic\",\"oldsmobile cutlass supreme\",\"dodge monaco brougham\",\"mercury cougar brougham\",\"chevrolet concours\",\"buick skylark\",\"plymouth volare custom\",\"ford granada\",\"pontiac grand prix lj\",\"chevrolet monte carlo landau\",\"chrysler cordoba\",\"ford thunderbird\",\"volkswagen rabbit custom\",\"pontiac sunbird coupe\",\"toyota corolla liftback\",\"ford mustang ii 2+2\",\"chevrolet chevette\",\"dodge colt m/m\",\"subaru dl\",\"volkswagen dasher\",\"datsun 810\",\"bmw 320i\",\"mazda rx-4\",\"volkswagen rabbit custom diesel\",\"ford fiesta\",\"mazda glc deluxe\",\"datsun b210 gx\",\"honda civic cvcc\",\"oldsmobile cutlass salon brougham\",\"dodge diplomat\",\"mercury monarch ghia\",\"pontiac phoenix lj\",\"chevrolet malibu\",\"ford fairmont (auto)\",\"ford fairmont (man)\",\"plymouth volare\",\"amc concord\",\"buick century special\",\"mercury zephyr\",\"dodge aspen\",\"amc concord d/l\",\"chevrolet monte carlo landau\",\"buick regal sport coupe (turbo)\",\"ford futura\",\"dodge magnum xe\",\"chevrolet chevette\",\"toyota corona\",\"datsun 510\",\"dodge omni\",\"toyota celica gt liftback\",\"plymouth sapporo\",\"oldsmobile starfire sx\",\"datsun 200-sx\",\"audi 5000\",\"volvo 264gl\",\"saab 99gle\",\"peugeot 604sl\",\"volkswagen scirocco\",\"honda accord lx\",\"pontiac lemans v6\",\"mercury zephyr 6\",\"ford fairmont 4\",\"amc concord dl 6\",\"dodge aspen 6\",\"chevrolet caprice classic\",\"ford ltd landau\",\"mercury grand marquis\",\"dodge st. regis\",\"buick estate wagon (sw)\",\"ford country squire (sw)\",\"chevrolet malibu classic (sw)\",\"chrysler lebaron town @ country (sw)\",\"vw rabbit custom\",\"maxda glc deluxe\",\"dodge colt hatchback custom\",\"amc spirit dl\",\"mercedes benz 300d\",\"cadillac eldorado\",\"peugeot 504\",\"oldsmobile cutlass salon brougham\",\"plymouth horizon\",\"plymouth horizon tc3\",\"datsun 210\",\"fiat strada custom\",\"buick skylark limited\",\"chevrolet citation\",\"oldsmobile omega brougham\",\"pontiac phoenix\",\"vw rabbit\",\"toyota corolla tercel\",\"chevrolet chevette\",\"datsun 310\",\"chevrolet citation\",\"ford fairmont\",\"amc concord\",\"dodge aspen\",\"audi 4000\",\"toyota corona liftback\",\"mazda 626\",\"datsun 510 hatchback\",\"toyota corolla\",\"mazda glc\",\"dodge colt\",\"datsun 210\",\"vw rabbit c (diesel)\",\"vw dasher (diesel)\",\"audi 5000s (diesel)\",\"mercedes-benz 240d\",\"honda civic 1500 gl\",\"subaru dl\",\"vokswagen rabbit\",\"datsun 280-zx\",\"mazda rx-7 gs\",\"triumph tr7 coupe\",\"honda accord\",\"plymouth reliant\",\"buick skylark\",\"dodge aries wagon (sw)\",\"chevrolet citation\",\"plymouth reliant\",\"toyota starlet\",\"plymouth champ\",\"honda civic 1300\",\"subaru\",\"datsun 210 mpg\",\"toyota tercel\",\"mazda glc 4\",\"plymouth horizon 4\",\"ford escort 4w\",\"ford escort 2h\",\"volkswagen jetta\",\"honda prelude\",\"toyota corolla\",\"datsun 200sx\",\"mazda 626\",\"peugeot 505s turbo diesel\",\"volvo diesel\",\"toyota cressida\",\"datsun 810 maxima\",\"buick century\",\"oldsmobile cutlass ls\",\"ford granada gl\",\"chrysler lebaron salon\",\"chevrolet cavalier\",\"chevrolet cavalier wagon\",\"chevrolet cavalier 2-door\",\"pontiac j2000 se hatchback\",\"dodge aries se\",\"pontiac phoenix\",\"ford fairmont futura\",\"volkswagen rabbit l\",\"mazda glc custom l\",\"mazda glc custom\",\"plymouth horizon miser\",\"mercury lynx l\",\"nissan stanza xe\",\"honda accord\",\"toyota corolla\",\"honda civic\",\"honda civic (auto)\",\"datsun 310 gx\",\"buick century limited\",\"oldsmobile cutlass ciera (diesel)\",\"chrysler lebaron medallion\",\"ford granada l\",\"toyota celica gt\",\"dodge charger 2.2\",\"chevrolet camaro\",\"ford mustang gl\",\"vw pickup\",\"dodge rampage\",\"ford ranger\",\"chevy s-10\"],\"origin\":[1,1,1,1,1,1,1,1,1,1,1,1,1,1,3,1,1,1,3,2,2,2,2,2,1,1,1,1,1,3,1,3,1,1,1,1,1,1,1,1,1,1,1,1,1,1,1,1,1,2,2,2,3,3,2,1,3,1,2,1,1,1,1,1,1,1,1,1,1,1,3,1,1,1,1,2,2,2,2,1,3,3,1,3,1,1,1,1,1,1,1,1,1,1,1,1,1,1,1,1,1,2,1,1,1,1,1,3,1,3,3,1,1,2,1,1,2,2,2,2,1,2,3,1,1,1,1,3,1,3,1,1,1,1,1,1,1,1,1,2,2,2,3,3,1,2,2,3,3,2,1,1,1,1,1,1,1,1,1,1,1,1,1,1,1,3,1,1,1,3,2,3,1,2,1,2,2,2,2,3,2,2,1,1,2,1,1,1,1,1,1,1,1,1,1,2,3,1,1,1,1,2,3,3,1,2,1,2,3,2,1,1,1,1,3,1,2,1,3,1,1,1,1,1,1,1,1,1,1,1,1,2,1,3,1,1,1,3,2,3,2,3,2,1,3,3,3,1,1,1,1,1,1,1,1,1,1,1,1,1,1,1,1,1,1,3,3,1,3,1,1,3,2,2,2,2,2,3,1,1,1,1,1,1,1,1,1,1,1,1,1,2,3,1,1,2,1,2,1,1,1,3,2,1,1,1,1,2,3,1,3,1,1,1,1,2,3,3,3,3,3,1,3,2,2,2,2,3,3,2,3,3,2,3,1,1,1,1,1,3,1,3,3,3,3,3,1,1,1,2,3,3,3,3,2,2,3,3,1,1,1,1,1,1,1,1,1,1,1,2,3,3,1,1,3,3,3,3,3,3,1,1,1,1,3,1,1,1,2,1,1,1],\"weight\":[3504,3693,3436,3433,3449,4341,4354,4312,4425,3850,3563,3609,3761,3086,2372,2833,2774,2587,2130,1835,2672,2430,2375,2234,2648,4615,4376,4382,4732,2130,2264,2228,2634,3439,3329,3302,3288,4209,4464,4154,4096,4955,4746,5140,2962,2408,3282,3139,2220,2123,2074,2065,1773,1613,1834,1955,2278,2126,2254,2408,2226,4274,4385,4135,4129,3672,4633,4502,4456,4422,2330,3892,4098,4294,4077,2933,2511,2979,2189,2395,2288,2506,2164,2100,4100,3672,3988,4042,3777,4952,4464,4363,4237,4735,4951,3821,3121,3278,2945,3021,2904,1950,4997,4906,4654,4499,2789,2279,2401,2379,2124,2310,2472,2265,4082,4278,1867,2158,2582,2868,3399,2660,2807,3664,3102,2901,3336,1950,2451,1836,2542,3781,3632,3613,4141,4699,4457,4638,4257,2219,1963,2300,1649,2003,2125,2108,2246,2489,2391,2000,3264,3459,3432,3158,4668,4440,4498,4657,3907,3897,3730,3785,3039,3221,3169,2171,2639,2914,2592,2702,2223,2545,2984,1937,3211,2694,2957,2945,2671,1795,2464,2220,2572,2255,2202,4215,4190,3962,4215,3233,3353,3012,3085,2035,2164,1937,1795,3651,3574,3645,3193,1825,1990,2155,2565,3150,3940,3270,2930,3820,4380,4055,3870,3755,2045,2155,1825,2300,1945,3880,4060,4140,4295,3520,3425,3630,3525,4220,4165,4325,4335,1940,2740,2265,2755,2051,2075,1985,2190,2815,2600,2720,1985,1800,1985,2070,1800,3365,3735,3570,3535,3155,2965,2720,3430,3210,3380,3070,3620,3410,3425,3445,3205,4080,2155,2560,2300,2230,2515,2745,2855,2405,2830,3140,2795,3410,1990,2135,3245,2990,2890,3265,3360,3840,3725,3955,3830,4360,4054,3605,3940,1925,1975,1915,2670,3530,3900,3190,3420,2200,2150,2020,2130,2670,2595,2700,2556,2144,1968,2120,2019,2678,2870,3003,3381,2188,2711,2542,2434,2265,2110,2800,2110,2085,2335,2950,3250,1850,2145,1845,2910,2420,2500,2290,2490,2635,2620,2725,2385,1755,1875,1760,2065,1975,2050,1985,2215,2045,2380,2190,2210,2350,2615,2635,3230,3160,2900,2930,3415,3725,3060,3465,2605,2640,2395,2575,2525,2735,2865,1980,2025,1970,2125,2125,2160,2205,2245,1965,1965,1995,2945,3015,2585,2835,2665,2370,2950,2790,2130,2295,2625,2720],\"yr\":[70,70,70,70,70,70,70,70,70,70,70,70,70,70,70,70,70,70,70,70,70,70,70,70,70,70,70,70,70,71,71,71,71,71,71,71,71,71,71,71,71,71,71,71,71,71,71,71,71,71,71,71,71,71,71,71,72,72,72,72,72,72,72,72,72,72,72,72,72,72,72,72,72,72,72,72,72,72,72,72,72,72,72,72,73,73,73,73,73,73,73,73,73,73,73,73,73,73,73,73,73,73,73,73,73,73,73,73,73,73,73,73,73,73,73,73,73,73,73,73,73,73,73,73,74,74,74,74,74,74,74,74,74,74,74,74,74,74,74,74,74,74,74,74,74,74,74,74,74,74,75,75,75,75,75,75,75,75,75,75,75,75,75,75,75,75,75,75,75,75,75,75,75,75,75,75,75,75,75,75,76,76,76,76,76,76,76,76,76,76,76,76,76,76,76,76,76,76,76,76,76,76,76,76,76,76,76,76,76,76,76,76,76,76,77,77,77,77,77,77,77,77,77,77,77,77,77,77,77,77,77,77,77,77,77,77,77,77,77,77,77,77,78,78,78,78,78,78,78,78,78,78,78,78,78,78,78,78,78,78,78,78,78,78,78,78,78,78,78,78,78,78,78,78,78,78,78,78,79,79,79,79,79,79,79,79,79,79,79,79,79,79,79,79,79,79,79,79,79,79,79,79,79,79,79,79,79,80,80,80,80,80,80,80,80,80,80,80,80,80,80,80,80,80,80,80,80,80,80,80,80,80,80,80,81,81,81,81,81,81,81,81,81,81,81,81,81,81,81,81,81,81,81,81,81,81,81,81,81,81,81,81,82,82,82,82,82,82,82,82,82,82,82,82,82,82,82,82,82,82,82,82,82,82,82,82,82,82,82,82,82,82]},\"selected\":{\"id\":\"123661\"},\"selection_policy\":{\"id\":\"123660\"}},\"id\":\"122194\",\"type\":\"ColumnDataSource\"},{\"attributes\":{},\"id\":\"122183\",\"type\":\"LinearScale\"},{\"attributes\":{},\"id\":\"123658\",\"type\":\"BasicTickFormatter\"},{\"attributes\":{\"high\":5140,\"low\":1613,\"palette\":[\"#440154\",\"#440255\",\"#440357\",\"#450558\",\"#45065A\",\"#45085B\",\"#46095C\",\"#460B5E\",\"#460C5F\",\"#460E61\",\"#470F62\",\"#471163\",\"#471265\",\"#471466\",\"#471567\",\"#471669\",\"#47186A\",\"#48196B\",\"#481A6C\",\"#481C6E\",\"#481D6F\",\"#481E70\",\"#482071\",\"#482172\",\"#482273\",\"#482374\",\"#472575\",\"#472676\",\"#472777\",\"#472878\",\"#472A79\",\"#472B7A\",\"#472C7B\",\"#462D7C\",\"#462F7C\",\"#46307D\",\"#46317E\",\"#45327F\",\"#45347F\",\"#453580\",\"#453681\",\"#443781\",\"#443982\",\"#433A83\",\"#433B83\",\"#433C84\",\"#423D84\",\"#423E85\",\"#424085\",\"#414186\",\"#414286\",\"#404387\",\"#404487\",\"#3F4587\",\"#3F4788\",\"#3E4888\",\"#3E4989\",\"#3D4A89\",\"#3D4B89\",\"#3D4C89\",\"#3C4D8A\",\"#3C4E8A\",\"#3B508A\",\"#3B518A\",\"#3A528B\",\"#3A538B\",\"#39548B\",\"#39558B\",\"#38568B\",\"#38578C\",\"#37588C\",\"#37598C\",\"#365A8C\",\"#365B8C\",\"#355C8C\",\"#355D8C\",\"#345E8D\",\"#345F8D\",\"#33608D\",\"#33618D\",\"#32628D\",\"#32638D\",\"#31648D\",\"#31658D\",\"#31668D\",\"#30678D\",\"#30688D\",\"#2F698D\",\"#2F6A8D\",\"#2E6B8E\",\"#2E6C8E\",\"#2E6D8E\",\"#2D6E8E\",\"#2D6F8E\",\"#2C708E\",\"#2C718E\",\"#2C728E\",\"#2B738E\",\"#2B748E\",\"#2A758E\",\"#2A768E\",\"#2A778E\",\"#29788E\",\"#29798E\",\"#287A8E\",\"#287A8E\",\"#287B8E\",\"#277C8E\",\"#277D8E\",\"#277E8E\",\"#267F8E\",\"#26808E\",\"#26818E\",\"#25828E\",\"#25838D\",\"#24848D\",\"#24858D\",\"#24868D\",\"#23878D\",\"#23888D\",\"#23898D\",\"#22898D\",\"#228A8D\",\"#228B8D\",\"#218C8D\",\"#218D8C\",\"#218E8C\",\"#208F8C\",\"#20908C\",\"#20918C\",\"#1F928C\",\"#1F938B\",\"#1F948B\",\"#1F958B\",\"#1F968B\",\"#1E978A\",\"#1E988A\",\"#1E998A\",\"#1E998A\",\"#1E9A89\",\"#1E9B89\",\"#1E9C89\",\"#1E9D88\",\"#1E9E88\",\"#1E9F88\",\"#1EA087\",\"#1FA187\",\"#1FA286\",\"#1FA386\",\"#20A485\",\"#20A585\",\"#21A685\",\"#21A784\",\"#22A784\",\"#23A883\",\"#23A982\",\"#24AA82\",\"#25AB81\",\"#26AC81\",\"#27AD80\",\"#28AE7F\",\"#29AF7F\",\"#2AB07E\",\"#2BB17D\",\"#2CB17D\",\"#2EB27C\",\"#2FB37B\",\"#30B47A\",\"#32B57A\",\"#33B679\",\"#35B778\",\"#36B877\",\"#38B976\",\"#39B976\",\"#3BBA75\",\"#3DBB74\",\"#3EBC73\",\"#40BD72\",\"#42BE71\",\"#44BE70\",\"#45BF6F\",\"#47C06E\",\"#49C16D\",\"#4BC26C\",\"#4DC26B\",\"#4FC369\",\"#51C468\",\"#53C567\",\"#55C666\",\"#57C665\",\"#59C764\",\"#5BC862\",\"#5EC961\",\"#60C960\",\"#62CA5F\",\"#64CB5D\",\"#67CC5C\",\"#69CC5B\",\"#6BCD59\",\"#6DCE58\",\"#70CE56\",\"#72CF55\",\"#74D054\",\"#77D052\",\"#79D151\",\"#7CD24F\",\"#7ED24E\",\"#81D34C\",\"#83D34B\",\"#86D449\",\"#88D547\",\"#8BD546\",\"#8DD644\",\"#90D643\",\"#92D741\",\"#95D73F\",\"#97D83E\",\"#9AD83C\",\"#9DD93A\",\"#9FD938\",\"#A2DA37\",\"#A5DA35\",\"#A7DB33\",\"#AADB32\",\"#ADDC30\",\"#AFDC2E\",\"#B2DD2C\",\"#B5DD2B\",\"#B7DD29\",\"#BADE27\",\"#BDDE26\",\"#BFDF24\",\"#C2DF22\",\"#C5DF21\",\"#C7E01F\",\"#CAE01E\",\"#CDE01D\",\"#CFE11C\",\"#D2E11B\",\"#D4E11A\",\"#D7E219\",\"#DAE218\",\"#DCE218\",\"#DFE318\",\"#E1E318\",\"#E4E318\",\"#E7E419\",\"#E9E419\",\"#ECE41A\",\"#EEE51B\",\"#F1E51C\",\"#F3E51E\",\"#F6E61F\",\"#F8E621\",\"#FAE622\",\"#FDE724\"]},\"id\":\"122175\",\"type\":\"LinearColorMapper\"},{\"attributes\":{\"axis\":{\"id\":\"122189\"},\"coordinates\":null,\"dimension\":1,\"group\":null,\"ticker\":null},\"id\":\"122192\",\"type\":\"Grid\"},{\"attributes\":{\"source\":{\"id\":\"122194\"}},\"id\":\"122200\",\"type\":\"CDSView\"},{\"attributes\":{},\"id\":\"123656\",\"type\":\"NoOverlap\"},{\"attributes\":{},\"id\":\"123659\",\"type\":\"AllLabels\"},{\"attributes\":{\"color_mapper\":{\"id\":\"122175\"},\"coordinates\":null,\"group\":null,\"label_standoff\":12,\"location\":[0,0],\"major_label_policy\":{\"id\":\"123656\"},\"title\":\"Weight\"},\"id\":\"122201\",\"type\":\"ColorBar\"},{\"attributes\":{\"coordinates\":null,\"data_source\":{\"id\":\"122194\"},\"glyph\":{\"id\":\"122196\"},\"group\":null,\"hover_glyph\":null,\"muted_glyph\":{\"id\":\"122198\"},\"nonselection_glyph\":{\"id\":\"122197\"},\"view\":{\"id\":\"122200\"}},\"id\":\"122199\",\"type\":\"GlyphRenderer\"},{\"attributes\":{},\"id\":\"122179\",\"type\":\"DataRange1d\"},{\"attributes\":{},\"id\":\"123660\",\"type\":\"UnionRenderers\"}],\"root_ids\":[\"122176\"]},\"title\":\"Bokeh Application\",\"version\":\"2.4.3\"}};\n",
       "  const render_items = [{\"docid\":\"a586f98f-93f2-4391-9292-e57e311ac1d5\",\"root_ids\":[\"122176\"],\"roots\":{\"122176\":\"0e387450-a9fd-40fa-840e-8e45948cc9e7\"}}];\n",
       "  root.Bokeh.embed.embed_items_notebook(docs_json, render_items);\n",
       "  }\n",
       "  if (root.Bokeh !== undefined) {\n",
       "    embed_document(root);\n",
       "  } else {\n",
       "    let attempts = 0;\n",
       "    const timer = setInterval(function(root) {\n",
       "      if (root.Bokeh !== undefined) {\n",
       "        clearInterval(timer);\n",
       "        embed_document(root);\n",
       "      } else {\n",
       "        attempts++;\n",
       "        if (attempts > 100) {\n",
       "          clearInterval(timer);\n",
       "          console.log(\"Bokeh: ERROR: Unable to run BokehJS code because BokehJS library is missing\");\n",
       "        }\n",
       "      }\n",
       "    }, 10, root)\n",
       "  }\n",
       "})(window);"
      ],
      "application/vnd.bokehjs_exec.v0+json": ""
     },
     "metadata": {
      "application/vnd.bokehjs_exec.v0+json": {
       "id": "122176"
      }
     },
     "output_type": "display_data"
    }
   ],
   "source": [
    "from bokeh.sampledata.autompg import autompg\n",
    "from bokeh.models import LinearColorMapper, ColorBar\n",
    "from bokeh.transform import transform\n",
    "\n",
    "source = ColumnDataSource(autompg)\n",
    "color_mapper = LinearColorMapper(palette=\"Viridis256\", low=autompg.weight.min(), high=autompg.weight.max())\n",
    "\n",
    "p = figure(x_axis_label='Horsepower', y_axis_label='MPG', tools='', toolbar_location=None)\n",
    "p.circle(x='hp', y='mpg', color=transform('weight', color_mapper), size=7.5, alpha=0.6, source=autompg)\n",
    "\n",
    "color_bar = ColorBar(color_mapper=color_mapper, label_standoff=12, location=(0,0), title='Weight')\n",
    "p.add_layout(color_bar, 'right')\n",
    "\n",
    "show(p)"
   ]
  },
  {
   "cell_type": "markdown",
   "metadata": {},
   "source": [
    "# Configuring tools"
   ]
  },
  {
   "cell_type": "code",
   "execution_count": 204,
   "metadata": {},
   "outputs": [
    {
     "data": {
      "text/html": [
       "\n",
       "  <div class=\"bk-root\" id=\"fc7dd2df-ef26-4903-b51d-249af59ad548\" data-root-id=\"123717\"></div>\n"
      ]
     },
     "metadata": {},
     "output_type": "display_data"
    },
    {
     "data": {
      "application/javascript": [
       "(function(root) {\n",
       "  function embed_document(root) {\n",
       "  const docs_json = {\"38327f65-d07c-43a0-b5e7-ddeb87c7fe90\":{\"defs\":[],\"roots\":{\"references\":[{\"attributes\":{\"below\":[{\"id\":\"123727\"}],\"center\":[{\"id\":\"123730\"},{\"id\":\"123734\"}],\"height\":400,\"left\":[{\"id\":\"123731\"}],\"renderers\":[{\"id\":\"123753\"}],\"title\":null,\"toolbar\":{\"id\":\"123742\"},\"toolbar_location\":\"below\",\"width\":400,\"x_range\":{\"id\":\"123719\"},\"x_scale\":{\"id\":\"123723\"},\"y_range\":{\"id\":\"123721\"},\"y_scale\":{\"id\":\"123725\"}},\"id\":\"123717\",\"subtype\":\"Figure\",\"type\":\"Plot\"},{\"attributes\":{\"tools\":[{\"id\":\"123735\"},{\"id\":\"123736\"},{\"id\":\"123737\"},{\"id\":\"123738\"},{\"id\":\"123739\"},{\"id\":\"123740\"}]},\"id\":\"123742\",\"type\":\"Toolbar\"},{\"attributes\":{},\"id\":\"125218\",\"type\":\"AllLabels\"},{\"attributes\":{},\"id\":\"123719\",\"type\":\"DataRange1d\"},{\"attributes\":{\"data\":{\"x\":[1,2,3,4,5],\"y\":[2,5,8,2,7]},\"selected\":{\"id\":\"125223\"},\"selection_policy\":{\"id\":\"125222\"}},\"id\":\"123749\",\"type\":\"ColumnDataSource\"},{\"attributes\":{},\"id\":\"123738\",\"type\":\"SaveTool\"},{\"attributes\":{},\"id\":\"125220\",\"type\":\"BasicTickFormatter\"},{\"attributes\":{\"coordinates\":null,\"data_source\":{\"id\":\"123749\"},\"glyph\":{\"id\":\"123750\"},\"group\":null,\"hover_glyph\":null,\"muted_glyph\":{\"id\":\"123752\"},\"nonselection_glyph\":{\"id\":\"123751\"},\"view\":{\"id\":\"123754\"}},\"id\":\"123753\",\"type\":\"GlyphRenderer\"},{\"attributes\":{},\"id\":\"123740\",\"type\":\"HelpTool\"},{\"attributes\":{},\"id\":\"123732\",\"type\":\"BasicTicker\"},{\"attributes\":{\"axis\":{\"id\":\"123727\"},\"coordinates\":null,\"group\":null,\"ticker\":null},\"id\":\"123730\",\"type\":\"Grid\"},{\"attributes\":{},\"id\":\"125221\",\"type\":\"AllLabels\"},{\"attributes\":{},\"id\":\"125217\",\"type\":\"BasicTickFormatter\"},{\"attributes\":{\"axis\":{\"id\":\"123731\"},\"coordinates\":null,\"dimension\":1,\"group\":null,\"ticker\":null},\"id\":\"123734\",\"type\":\"Grid\"},{\"attributes\":{},\"id\":\"123739\",\"type\":\"ResetTool\"},{\"attributes\":{},\"id\":\"123728\",\"type\":\"BasicTicker\"},{\"attributes\":{},\"id\":\"123736\",\"type\":\"WheelZoomTool\"},{\"attributes\":{\"fill_alpha\":{\"value\":0.2},\"fill_color\":{\"value\":\"#1f77b4\"},\"hatch_alpha\":{\"value\":0.2},\"line_alpha\":{\"value\":0.2},\"line_color\":{\"value\":\"#1f77b4\"},\"size\":{\"value\":10},\"x\":{\"field\":\"x\"},\"y\":{\"field\":\"y\"}},\"id\":\"123752\",\"type\":\"Circle\"},{\"attributes\":{},\"id\":\"123721\",\"type\":\"DataRange1d\"},{\"attributes\":{},\"id\":\"125222\",\"type\":\"UnionRenderers\"},{\"attributes\":{},\"id\":\"123723\",\"type\":\"LinearScale\"},{\"attributes\":{},\"id\":\"125223\",\"type\":\"Selection\"},{\"attributes\":{\"fill_alpha\":{\"value\":0.1},\"fill_color\":{\"value\":\"#1f77b4\"},\"hatch_alpha\":{\"value\":0.1},\"line_alpha\":{\"value\":0.1},\"line_color\":{\"value\":\"#1f77b4\"},\"size\":{\"value\":10},\"x\":{\"field\":\"x\"},\"y\":{\"field\":\"y\"}},\"id\":\"123751\",\"type\":\"Circle\"},{\"attributes\":{\"coordinates\":null,\"formatter\":{\"id\":\"125220\"},\"group\":null,\"major_label_policy\":{\"id\":\"125221\"},\"ticker\":{\"id\":\"123728\"}},\"id\":\"123727\",\"type\":\"LinearAxis\"},{\"attributes\":{},\"id\":\"123735\",\"type\":\"PanTool\"},{\"attributes\":{},\"id\":\"123725\",\"type\":\"LinearScale\"},{\"attributes\":{\"bottom_units\":\"screen\",\"coordinates\":null,\"fill_alpha\":0.5,\"fill_color\":\"lightgrey\",\"group\":null,\"left_units\":\"screen\",\"level\":\"overlay\",\"line_alpha\":1.0,\"line_color\":\"black\",\"line_dash\":[4,4],\"line_width\":2,\"right_units\":\"screen\",\"syncable\":false,\"top_units\":\"screen\"},\"id\":\"123741\",\"type\":\"BoxAnnotation\"},{\"attributes\":{\"source\":{\"id\":\"123749\"}},\"id\":\"123754\",\"type\":\"CDSView\"},{\"attributes\":{\"fill_color\":{\"value\":\"#1f77b4\"},\"line_color\":{\"value\":\"#1f77b4\"},\"size\":{\"value\":10},\"x\":{\"field\":\"x\"},\"y\":{\"field\":\"y\"}},\"id\":\"123750\",\"type\":\"Circle\"},{\"attributes\":{\"overlay\":{\"id\":\"123741\"}},\"id\":\"123737\",\"type\":\"BoxZoomTool\"},{\"attributes\":{\"coordinates\":null,\"formatter\":{\"id\":\"125217\"},\"group\":null,\"major_label_policy\":{\"id\":\"125218\"},\"ticker\":{\"id\":\"123732\"}},\"id\":\"123731\",\"type\":\"LinearAxis\"}],\"root_ids\":[\"123717\"]},\"title\":\"Bokeh Application\",\"version\":\"2.4.3\"}};\n",
       "  const render_items = [{\"docid\":\"38327f65-d07c-43a0-b5e7-ddeb87c7fe90\",\"root_ids\":[\"123717\"],\"roots\":{\"123717\":\"fc7dd2df-ef26-4903-b51d-249af59ad548\"}}];\n",
       "  root.Bokeh.embed.embed_items_notebook(docs_json, render_items);\n",
       "  }\n",
       "  if (root.Bokeh !== undefined) {\n",
       "    embed_document(root);\n",
       "  } else {\n",
       "    let attempts = 0;\n",
       "    const timer = setInterval(function(root) {\n",
       "      if (root.Bokeh !== undefined) {\n",
       "        clearInterval(timer);\n",
       "        embed_document(root);\n",
       "      } else {\n",
       "        attempts++;\n",
       "        if (attempts > 100) {\n",
       "          clearInterval(timer);\n",
       "          console.log(\"Bokeh: ERROR: Unable to run BokehJS code because BokehJS library is missing\");\n",
       "        }\n",
       "      }\n",
       "    }, 10, root)\n",
       "  }\n",
       "})(window);"
      ],
      "application/vnd.bokehjs_exec.v0+json": ""
     },
     "metadata": {
      "application/vnd.bokehjs_exec.v0+json": {
       "id": "123717"
      }
     },
     "output_type": "display_data"
    }
   ],
   "source": [
    "# create a new plot with the toolbar below\n",
    "p = figure(plot_width=400, plot_height=400,\n",
    "           title=None, toolbar_location=\"below\")\n",
    "\n",
    "p.circle([1, 2, 3, 4, 5], [2, 5, 8, 2, 7], size=10)\n",
    "\n",
    "show(p)"
   ]
  },
  {
   "cell_type": "markdown",
   "metadata": {},
   "source": [
    "### Specifying tools\n",
    "In `bokeh` you can specify wich tools include within the toolbar and which one must be active at the plot render\n",
    "\n",
    "The Tools can be supplied conveniently with a comma-separate string containing tool shortcut names:\n",
    "\n",
    "```python\n",
    "tools = \"pan,wheel_zoom,box_zoom,reset\"\n",
    "```\n",
    "However, this method does not allow setting properties of the tools.\n",
    "\n",
    "Finally, it is also always possible to add new tools to a plot by passing a tool object to the add_tools method of a plot. This can also be done in conjunction with the tools keyword described above:\n",
    "```python\n",
    "from bokeh.models import BoxSelectTool\n",
    "\n",
    "plot = figure(tools=\"pan,wheel_zoom,box_zoom,reset\")\n",
    "plot.add_tools(BoxSelectTool(dimensions=[\"width\"]))\n",
    "```"
   ]
  },
  {
   "cell_type": "code",
   "execution_count": 208,
   "metadata": {},
   "outputs": [
    {
     "data": {
      "text/html": [
       "\n",
       "  <div class=\"bk-root\" id=\"66ec9db3-4d97-42cb-952d-bf89d76c9a12\" data-root-id=\"130024\"></div>\n"
      ]
     },
     "metadata": {},
     "output_type": "display_data"
    },
    {
     "data": {
      "application/javascript": [
       "(function(root) {\n",
       "  function embed_document(root) {\n",
       "  const docs_json = {\"e8174a6c-16a1-4d56-8d55-9d9f9f1775eb\":{\"defs\":[],\"roots\":{\"references\":[{\"attributes\":{\"below\":[{\"id\":\"130034\"}],\"center\":[{\"id\":\"130037\"},{\"id\":\"130041\"}],\"height\":400,\"left\":[{\"id\":\"130038\"}],\"renderers\":[{\"id\":\"130056\"}],\"title\":null,\"toolbar\":{\"id\":\"130047\"},\"toolbar_location\":\"below\",\"width\":400,\"x_range\":{\"id\":\"130026\"},\"x_scale\":{\"id\":\"130030\"},\"y_range\":{\"id\":\"130028\"},\"y_scale\":{\"id\":\"130032\"}},\"id\":\"130024\",\"subtype\":\"Figure\",\"type\":\"Plot\"},{\"attributes\":{\"dimensions\":\"height\",\"overlay\":{\"id\":\"131573\"}},\"id\":\"130058\",\"type\":\"BoxSelectTool\"},{\"attributes\":{\"bottom_units\":\"screen\",\"coordinates\":null,\"fill_alpha\":0.5,\"fill_color\":\"lightgrey\",\"group\":null,\"left_units\":\"screen\",\"level\":\"overlay\",\"line_alpha\":1.0,\"line_color\":\"black\",\"line_dash\":[4,4],\"line_width\":2,\"right_units\":\"screen\",\"syncable\":false,\"top_units\":\"screen\"},\"id\":\"130046\",\"type\":\"BoxAnnotation\"},{\"attributes\":{},\"id\":\"130030\",\"type\":\"LinearScale\"},{\"attributes\":{},\"id\":\"131566\",\"type\":\"AllLabels\"},{\"attributes\":{\"fill_alpha\":{\"value\":0.1},\"fill_color\":{\"value\":\"#1f77b4\"},\"hatch_alpha\":{\"value\":0.1},\"line_alpha\":{\"value\":0.1},\"line_color\":{\"value\":\"#1f77b4\"},\"size\":{\"value\":10},\"x\":{\"field\":\"x\"},\"y\":{\"field\":\"y\"}},\"id\":\"130054\",\"type\":\"Circle\"},{\"attributes\":{\"tools\":[{\"id\":\"130042\"},{\"id\":\"130043\"},{\"id\":\"130044\"},{\"id\":\"130045\"},{\"id\":\"130058\"}]},\"id\":\"130047\",\"type\":\"Toolbar\"},{\"attributes\":{},\"id\":\"130026\",\"type\":\"DataRange1d\"},{\"attributes\":{},\"id\":\"131569\",\"type\":\"AllLabels\"},{\"attributes\":{\"data\":{\"x\":[1,2,3,4,5],\"y\":[2,5,8,2,7]},\"selected\":{\"id\":\"131571\"},\"selection_policy\":{\"id\":\"131570\"}},\"id\":\"130052\",\"type\":\"ColumnDataSource\"},{\"attributes\":{\"coordinates\":null,\"formatter\":{\"id\":\"131565\"},\"group\":null,\"major_label_policy\":{\"id\":\"131566\"},\"ticker\":{\"id\":\"130039\"}},\"id\":\"130038\",\"type\":\"LinearAxis\"},{\"attributes\":{\"coordinates\":null,\"data_source\":{\"id\":\"130052\"},\"glyph\":{\"id\":\"130053\"},\"group\":null,\"hover_glyph\":null,\"muted_glyph\":{\"id\":\"130055\"},\"nonselection_glyph\":{\"id\":\"130054\"},\"view\":{\"id\":\"130057\"}},\"id\":\"130056\",\"type\":\"GlyphRenderer\"},{\"attributes\":{},\"id\":\"131568\",\"type\":\"BasicTickFormatter\"},{\"attributes\":{},\"id\":\"130028\",\"type\":\"DataRange1d\"},{\"attributes\":{\"overlay\":{\"id\":\"130046\"}},\"id\":\"130044\",\"type\":\"BoxZoomTool\"},{\"attributes\":{},\"id\":\"130035\",\"type\":\"BasicTicker\"},{\"attributes\":{},\"id\":\"130045\",\"type\":\"ResetTool\"},{\"attributes\":{\"coordinates\":null,\"formatter\":{\"id\":\"131568\"},\"group\":null,\"major_label_policy\":{\"id\":\"131569\"},\"ticker\":{\"id\":\"130035\"}},\"id\":\"130034\",\"type\":\"LinearAxis\"},{\"attributes\":{},\"id\":\"130042\",\"type\":\"PanTool\"},{\"attributes\":{},\"id\":\"130032\",\"type\":\"LinearScale\"},{\"attributes\":{\"source\":{\"id\":\"130052\"}},\"id\":\"130057\",\"type\":\"CDSView\"},{\"attributes\":{\"axis\":{\"id\":\"130038\"},\"coordinates\":null,\"dimension\":1,\"group\":null,\"ticker\":null},\"id\":\"130041\",\"type\":\"Grid\"},{\"attributes\":{},\"id\":\"131571\",\"type\":\"Selection\"},{\"attributes\":{\"axis\":{\"id\":\"130034\"},\"coordinates\":null,\"group\":null,\"ticker\":null},\"id\":\"130037\",\"type\":\"Grid\"},{\"attributes\":{},\"id\":\"131565\",\"type\":\"BasicTickFormatter\"},{\"attributes\":{\"fill_alpha\":{\"value\":0.2},\"fill_color\":{\"value\":\"#1f77b4\"},\"hatch_alpha\":{\"value\":0.2},\"line_alpha\":{\"value\":0.2},\"line_color\":{\"value\":\"#1f77b4\"},\"size\":{\"value\":10},\"x\":{\"field\":\"x\"},\"y\":{\"field\":\"y\"}},\"id\":\"130055\",\"type\":\"Circle\"},{\"attributes\":{\"fill_color\":{\"value\":\"#1f77b4\"},\"line_color\":{\"value\":\"#1f77b4\"},\"size\":{\"value\":10},\"x\":{\"field\":\"x\"},\"y\":{\"field\":\"y\"}},\"id\":\"130053\",\"type\":\"Circle\"},{\"attributes\":{\"bottom_units\":\"screen\",\"coordinates\":null,\"fill_alpha\":0.5,\"fill_color\":\"lightgrey\",\"group\":null,\"left_units\":\"screen\",\"level\":\"overlay\",\"line_alpha\":1.0,\"line_color\":\"black\",\"line_dash\":[4,4],\"line_width\":2,\"right_units\":\"screen\",\"syncable\":false,\"top_units\":\"screen\"},\"id\":\"131573\",\"type\":\"BoxAnnotation\"},{\"attributes\":{},\"id\":\"130043\",\"type\":\"WheelZoomTool\"},{\"attributes\":{},\"id\":\"130039\",\"type\":\"BasicTicker\"},{\"attributes\":{},\"id\":\"131570\",\"type\":\"UnionRenderers\"}],\"root_ids\":[\"130024\"]},\"title\":\"Bokeh Application\",\"version\":\"2.4.3\"}};\n",
       "  const render_items = [{\"docid\":\"e8174a6c-16a1-4d56-8d55-9d9f9f1775eb\",\"root_ids\":[\"130024\"],\"roots\":{\"130024\":\"66ec9db3-4d97-42cb-952d-bf89d76c9a12\"}}];\n",
       "  root.Bokeh.embed.embed_items_notebook(docs_json, render_items);\n",
       "  }\n",
       "  if (root.Bokeh !== undefined) {\n",
       "    embed_document(root);\n",
       "  } else {\n",
       "    let attempts = 0;\n",
       "    const timer = setInterval(function(root) {\n",
       "      if (root.Bokeh !== undefined) {\n",
       "        clearInterval(timer);\n",
       "        embed_document(root);\n",
       "      } else {\n",
       "        attempts++;\n",
       "        if (attempts > 100) {\n",
       "          clearInterval(timer);\n",
       "          console.log(\"Bokeh: ERROR: Unable to run BokehJS code because BokehJS library is missing\");\n",
       "        }\n",
       "      }\n",
       "    }, 10, root)\n",
       "  }\n",
       "})(window);"
      ],
      "application/vnd.bokehjs_exec.v0+json": ""
     },
     "metadata": {
      "application/vnd.bokehjs_exec.v0+json": {
       "id": "130024"
      }
     },
     "output_type": "display_data"
    }
   ],
   "source": [
    "from bokeh.models import BoxSelectTool\n",
    "\n",
    "tools = \"pan, wheel_zoom, box_zoom, reset\" \n",
    "p = figure(plot_width=400, plot_height=400, \n",
    "           tools=tools, title=None, \n",
    "           toolbar_location=\"below\")\n",
    "p.circle([1, 2, 3, 4, 5], [2, 5, 8, 2, 7], size=10)\n",
    "p.add_tools(BoxSelectTool(dimensions='height'))\n",
    "show(p)"
   ]
  },
  {
   "cell_type": "markdown",
   "metadata": {},
   "source": [
    "### Setting the active tool\n",
    "Bokeh toolbars can have (at most) one active tool from each kind of gesture (drag, scroll, tap). By default, Bokeh will use a default pre-defined order of preference to choose one of each kind from the set of configured tools, to be active.\n",
    "\n",
    "However it is possible to exert control over which tool is active. At the lowest bokeh.models level, this is accomplished by using the active_drag, active_inspect, active_scroll, and active_tap properties of Toolbar. These properties can take the following values:\n",
    "\n",
    "    None — there is no active tool of this kind\n",
    "    \"auto\" — Bokeh chooses a tool of this kind to be active (possibly none)\n",
    "    a Tool instance — Bokeh sets the given tool to be the active tool\n",
    "\n",
    "Additionally, the active_inspect tool may accept: * A sequence of Tool instances to be set as the active tools"
   ]
  },
  {
   "cell_type": "code",
   "execution_count": 212,
   "metadata": {},
   "outputs": [
    {
     "data": {
      "text/html": [
       "\n",
       "  <div class=\"bk-root\" id=\"4830da9a-7349-4f26-8bac-3c070f43aa55\" data-root-id=\"134903\"></div>\n"
      ]
     },
     "metadata": {},
     "output_type": "display_data"
    },
    {
     "data": {
      "application/javascript": [
       "(function(root) {\n",
       "  function embed_document(root) {\n",
       "  const docs_json = {\"531fe620-9c48-4c99-9843-c44a5d29afa7\":{\"defs\":[],\"roots\":{\"references\":[{\"attributes\":{\"below\":[{\"id\":\"134912\"}],\"center\":[{\"id\":\"134915\"},{\"id\":\"134919\"}],\"height\":400,\"left\":[{\"id\":\"134916\"}],\"renderers\":[{\"id\":\"134933\"}],\"title\":{\"id\":\"136473\"},\"toolbar\":{\"id\":\"134925\"},\"width\":400,\"x_range\":{\"id\":\"134904\"},\"x_scale\":{\"id\":\"134908\"},\"y_range\":{\"id\":\"134906\"},\"y_scale\":{\"id\":\"134910\"}},\"id\":\"134903\",\"subtype\":\"Figure\",\"type\":\"Plot\"},{\"attributes\":{},\"id\":\"136476\",\"type\":\"BasicTickFormatter\"},{\"attributes\":{},\"id\":\"136477\",\"type\":\"AllLabels\"},{\"attributes\":{\"coordinates\":null,\"formatter\":{\"id\":\"136476\"},\"group\":null,\"major_label_policy\":{\"id\":\"136477\"},\"ticker\":{\"id\":\"134917\"}},\"id\":\"134916\",\"type\":\"LinearAxis\"},{\"attributes\":{\"overlay\":{\"id\":\"134923\"}},\"id\":\"134922\",\"type\":\"BoxSelectTool\"},{\"attributes\":{},\"id\":\"134920\",\"type\":\"PanTool\"},{\"attributes\":{},\"id\":\"136479\",\"type\":\"BasicTickFormatter\"},{\"attributes\":{},\"id\":\"134904\",\"type\":\"DataRange1d\"},{\"attributes\":{},\"id\":\"136480\",\"type\":\"AllLabels\"},{\"attributes\":{\"overlay\":{\"id\":\"134924\"}},\"id\":\"134921\",\"type\":\"LassoSelectTool\"},{\"attributes\":{\"active_drag\":{\"id\":\"134921\"},\"tools\":[{\"id\":\"134920\"},{\"id\":\"134921\"},{\"id\":\"134922\"}]},\"id\":\"134925\",\"type\":\"Toolbar\"},{\"attributes\":{},\"id\":\"134917\",\"type\":\"BasicTicker\"},{\"attributes\":{\"data\":{\"x\":[1,2,3,4,5],\"y\":[2,5,8,2,7]},\"selected\":{\"id\":\"136482\"},\"selection_policy\":{\"id\":\"136481\"}},\"id\":\"134929\",\"type\":\"ColumnDataSource\"},{\"attributes\":{\"coordinates\":null,\"fill_alpha\":0.5,\"fill_color\":\"lightgrey\",\"group\":null,\"level\":\"overlay\",\"line_alpha\":1.0,\"line_color\":\"black\",\"line_dash\":[4,4],\"line_width\":2,\"syncable\":false,\"xs_units\":\"screen\",\"ys_units\":\"screen\"},\"id\":\"134924\",\"type\":\"PolyAnnotation\"},{\"attributes\":{\"axis\":{\"id\":\"134916\"},\"coordinates\":null,\"dimension\":1,\"group\":null,\"ticker\":null},\"id\":\"134919\",\"type\":\"Grid\"},{\"attributes\":{\"fill_alpha\":{\"value\":0.2},\"fill_color\":{\"value\":\"#1f77b4\"},\"hatch_alpha\":{\"value\":0.2},\"line_alpha\":{\"value\":0.2},\"line_color\":{\"value\":\"#1f77b4\"},\"size\":{\"value\":10},\"x\":{\"field\":\"x\"},\"y\":{\"field\":\"y\"}},\"id\":\"134932\",\"type\":\"Circle\"},{\"attributes\":{\"bottom_units\":\"screen\",\"coordinates\":null,\"fill_alpha\":0.5,\"fill_color\":\"lightgrey\",\"group\":null,\"left_units\":\"screen\",\"level\":\"overlay\",\"line_alpha\":1.0,\"line_color\":\"black\",\"line_dash\":[4,4],\"line_width\":2,\"right_units\":\"screen\",\"syncable\":false,\"top_units\":\"screen\"},\"id\":\"134923\",\"type\":\"BoxAnnotation\"},{\"attributes\":{},\"id\":\"136481\",\"type\":\"UnionRenderers\"},{\"attributes\":{\"axis\":{\"id\":\"134912\"},\"coordinates\":null,\"group\":null,\"ticker\":null},\"id\":\"134915\",\"type\":\"Grid\"},{\"attributes\":{\"fill_color\":{\"value\":\"#1f77b4\"},\"line_color\":{\"value\":\"#1f77b4\"},\"size\":{\"value\":10},\"x\":{\"field\":\"x\"},\"y\":{\"field\":\"y\"}},\"id\":\"134930\",\"type\":\"Circle\"},{\"attributes\":{},\"id\":\"134913\",\"type\":\"BasicTicker\"},{\"attributes\":{},\"id\":\"136482\",\"type\":\"Selection\"},{\"attributes\":{\"coordinates\":null,\"group\":null},\"id\":\"136473\",\"type\":\"Title\"},{\"attributes\":{},\"id\":\"134908\",\"type\":\"LinearScale\"},{\"attributes\":{},\"id\":\"134910\",\"type\":\"LinearScale\"},{\"attributes\":{\"source\":{\"id\":\"134929\"}},\"id\":\"134934\",\"type\":\"CDSView\"},{\"attributes\":{\"fill_alpha\":{\"value\":0.1},\"fill_color\":{\"value\":\"#1f77b4\"},\"hatch_alpha\":{\"value\":0.1},\"line_alpha\":{\"value\":0.1},\"line_color\":{\"value\":\"#1f77b4\"},\"size\":{\"value\":10},\"x\":{\"field\":\"x\"},\"y\":{\"field\":\"y\"}},\"id\":\"134931\",\"type\":\"Circle\"},{\"attributes\":{\"coordinates\":null,\"data_source\":{\"id\":\"134929\"},\"glyph\":{\"id\":\"134930\"},\"group\":null,\"hover_glyph\":null,\"muted_glyph\":{\"id\":\"134932\"},\"nonselection_glyph\":{\"id\":\"134931\"},\"view\":{\"id\":\"134934\"}},\"id\":\"134933\",\"type\":\"GlyphRenderer\"},{\"attributes\":{},\"id\":\"134906\",\"type\":\"DataRange1d\"},{\"attributes\":{\"coordinates\":null,\"formatter\":{\"id\":\"136479\"},\"group\":null,\"major_label_policy\":{\"id\":\"136480\"},\"ticker\":{\"id\":\"134913\"}},\"id\":\"134912\",\"type\":\"LinearAxis\"}],\"root_ids\":[\"134903\"]},\"title\":\"Bokeh Application\",\"version\":\"2.4.3\"}};\n",
       "  const render_items = [{\"docid\":\"531fe620-9c48-4c99-9843-c44a5d29afa7\",\"root_ids\":[\"134903\"],\"roots\":{\"134903\":\"4830da9a-7349-4f26-8bac-3c070f43aa55\"}}];\n",
       "  root.Bokeh.embed.embed_items_notebook(docs_json, render_items);\n",
       "  }\n",
       "  if (root.Bokeh !== undefined) {\n",
       "    embed_document(root);\n",
       "  } else {\n",
       "    let attempts = 0;\n",
       "    const timer = setInterval(function(root) {\n",
       "      if (root.Bokeh !== undefined) {\n",
       "        clearInterval(timer);\n",
       "        embed_document(root);\n",
       "      } else {\n",
       "        attempts++;\n",
       "        if (attempts > 100) {\n",
       "          clearInterval(timer);\n",
       "          console.log(\"Bokeh: ERROR: Unable to run BokehJS code because BokehJS library is missing\");\n",
       "        }\n",
       "      }\n",
       "    }, 10, root)\n",
       "  }\n",
       "})(window);"
      ],
      "application/vnd.bokehjs_exec.v0+json": ""
     },
     "metadata": {
      "application/vnd.bokehjs_exec.v0+json": {
       "id": "134903"
      }
     },
     "output_type": "display_data"
    }
   ],
   "source": [
    "plot = figure(tools=\"pan,lasso_select,box_select\", \n",
    "              plot_width=400, plot_height=400, \n",
    "              active_drag=\"lasso_select\")\n",
    "plot.circle([1, 2, 3, 4, 5], [2, 5, 8, 2, 7], size=10)\n",
    "show(plot)"
   ]
  },
  {
   "cell_type": "markdown",
   "metadata": {},
   "source": [
    "## Tooltip"
   ]
  },
  {
   "cell_type": "markdown",
   "metadata": {},
   "source": [
    "By default, the hover tool will generate a “tabular” tooltip where each row contains a label, and its associated value. The labels and values are supplied as a list of (label, value) tuples. For instance, the tooltip below on the left was created with the accompanying tooltips definition on the right."
   ]
  },
  {
   "cell_type": "markdown",
   "metadata": {},
   "source": [
    "### Basic tooltips"
   ]
  },
  {
   "cell_type": "markdown",
   "metadata": {},
   "source": [
    "<img src=\"http://bokeh.pydata.org/en/latest/_images/hover_basic.png\">"
   ]
  },
  {
   "cell_type": "markdown",
   "metadata": {},
   "source": [
    "```python\n",
    "\t\n",
    "hover.tooltips = [\n",
    "    (\"index\", \"$index\"),\n",
    "    (\"(x,y)\", \"($x, $y)\"),\n",
    "    (\"radius\", \"@radius\"),\n",
    "    (\"fill color\", \"$color[hex, swatch]:fill_color\"),\n",
    "    (\"foo\", \"@foo\"),\n",
    "    (\"bar\", \"@bar\"),\n",
    "]\n",
    "```"
   ]
  },
  {
   "cell_type": "markdown",
   "metadata": {},
   "source": [
    "Field names that begin with $ are `special fields`. These often correspond to values that are intrinsic to the plot, such as the coordinates of the mouse in data or screen space. These special fields are listed here:\n",
    "\n",
    " - `$index`: index of selected point in the data source\n",
    " - `$name`: value of the name property of the hovered glyph renderer\n",
    " - `$x`: x-coordinate under the cursor in data space\n",
    " - `$y`: y-coordinate under the cursor in data space\n",
    " - `$sx`: x-coordinate under the cursor in screen (canvas) space\n",
    " - `$sy`: y-coordinate under the cursor in screen (canvas) space\n",
    " - `$name`: The name property of the glyph that is hovered over\n",
    " - `$color`: colors from a data source, with the syntax: $color[options]:field_name. \n",
    " \n",
    "The available options are: hex (to display the color as a hex value), and swatch to also display a small color swatch.\n",
    "Field names that begin with @ are associated with columns in a ColumnDataSource. For instance the field name \"@price\" will display values from the \"price\" column whenever a hover is triggered. If the hover is for the 17th glyph, then the hover tooltip will correspondingly display the 17th price value.\n",
    "\n",
    "Note that if a column name contains spaces, the it must be supplied by surrounding it in curly braces, e.g. @{adjusted close} will display values from a column named \"adjusted close\".\n",
    "\n",
    "Sometimes (especially with stacked charts) it is desirable to allow the name of the column be specified indirectly. The field name `@$name` is distinguished in that it will look up the name field on the hovered glyph renderer, and use that value as the column name. For instance, if a user hovers with the name \"US East\", then `@$name` is equivalent to `@{US East}`.\n",
    "\n",
    "Here is a complete example of how to configure and use the hover tool by setting the tooltips argument to figure:"
   ]
  },
  {
   "cell_type": "code",
   "execution_count": 215,
   "metadata": {},
   "outputs": [
    {
     "data": {
      "text/html": [
       "\n",
       "  <div class=\"bk-root\" id=\"68079117-03ef-4abf-8bdb-6333a3c0f9ae\" data-root-id=\"139860\"></div>\n"
      ]
     },
     "metadata": {},
     "output_type": "display_data"
    },
    {
     "data": {
      "application/javascript": [
       "(function(root) {\n",
       "  function embed_document(root) {\n",
       "  const docs_json = {\"f0a285e9-5aa0-47b3-8021-24f90563cc5e\":{\"defs\":[],\"roots\":{\"references\":[{\"attributes\":{\"below\":[{\"id\":\"139871\"}],\"center\":[{\"id\":\"139874\"},{\"id\":\"139878\"}],\"height\":400,\"left\":[{\"id\":\"139875\"}],\"renderers\":[{\"id\":\"139899\"}],\"title\":{\"id\":\"139861\"},\"toolbar\":{\"id\":\"139887\"},\"width\":400,\"x_range\":{\"id\":\"139863\"},\"x_scale\":{\"id\":\"139867\"},\"y_range\":{\"id\":\"139865\"},\"y_scale\":{\"id\":\"139869\"}},\"id\":\"139860\",\"subtype\":\"Figure\",\"type\":\"Plot\"},{\"attributes\":{},\"id\":\"139882\",\"type\":\"SaveTool\"},{\"attributes\":{\"overlay\":{\"id\":\"139885\"}},\"id\":\"139881\",\"type\":\"BoxZoomTool\"},{\"attributes\":{\"bottom_units\":\"screen\",\"coordinates\":null,\"fill_alpha\":0.5,\"fill_color\":\"lightgrey\",\"group\":null,\"left_units\":\"screen\",\"level\":\"overlay\",\"line_alpha\":1.0,\"line_color\":\"black\",\"line_dash\":[4,4],\"line_width\":2,\"right_units\":\"screen\",\"syncable\":false,\"top_units\":\"screen\"},\"id\":\"139885\",\"type\":\"BoxAnnotation\"},{\"attributes\":{},\"id\":\"141478\",\"type\":\"UnionRenderers\"},{\"attributes\":{},\"id\":\"139880\",\"type\":\"WheelZoomTool\"},{\"attributes\":{\"data\":{\"desc\":[\"A\",\"b\",\"C\",\"d\",\"E\"],\"x\":[1,2,3,4,5],\"y\":[2,5,8,2,7]},\"selected\":{\"id\":\"141479\"},\"selection_policy\":{\"id\":\"141478\"}},\"id\":\"139859\",\"type\":\"ColumnDataSource\"},{\"attributes\":{\"source\":{\"id\":\"139859\"}},\"id\":\"139900\",\"type\":\"CDSView\"},{\"attributes\":{\"coordinates\":null,\"group\":null,\"text\":\"Mouse over the dots\"},\"id\":\"139861\",\"type\":\"Title\"},{\"attributes\":{},\"id\":\"141479\",\"type\":\"Selection\"},{\"attributes\":{\"fill_color\":{\"value\":\"#1f77b4\"},\"line_color\":{\"value\":\"#1f77b4\"},\"size\":{\"value\":20},\"x\":{\"field\":\"x\"},\"y\":{\"field\":\"y\"}},\"id\":\"139896\",\"type\":\"Circle\"},{\"attributes\":{},\"id\":\"139884\",\"type\":\"HelpTool\"},{\"attributes\":{},\"id\":\"141474\",\"type\":\"AllLabels\"},{\"attributes\":{},\"id\":\"139883\",\"type\":\"ResetTool\"},{\"attributes\":{},\"id\":\"139876\",\"type\":\"BasicTicker\"},{\"attributes\":{},\"id\":\"141473\",\"type\":\"BasicTickFormatter\"},{\"attributes\":{\"axis\":{\"id\":\"139875\"},\"coordinates\":null,\"dimension\":1,\"group\":null,\"ticker\":null},\"id\":\"139878\",\"type\":\"Grid\"},{\"attributes\":{},\"id\":\"139872\",\"type\":\"BasicTicker\"},{\"attributes\":{},\"id\":\"139879\",\"type\":\"PanTool\"},{\"attributes\":{},\"id\":\"139867\",\"type\":\"LinearScale\"},{\"attributes\":{\"coordinates\":null,\"formatter\":{\"id\":\"141473\"},\"group\":null,\"major_label_policy\":{\"id\":\"141474\"},\"ticker\":{\"id\":\"139876\"}},\"id\":\"139875\",\"type\":\"LinearAxis\"},{\"attributes\":{\"fill_alpha\":{\"value\":0.1},\"fill_color\":{\"value\":\"#1f77b4\"},\"hatch_alpha\":{\"value\":0.1},\"line_alpha\":{\"value\":0.1},\"line_color\":{\"value\":\"#1f77b4\"},\"size\":{\"value\":20},\"x\":{\"field\":\"x\"},\"y\":{\"field\":\"y\"}},\"id\":\"139897\",\"type\":\"Circle\"},{\"attributes\":{\"tools\":[{\"id\":\"139879\"},{\"id\":\"139880\"},{\"id\":\"139881\"},{\"id\":\"139882\"},{\"id\":\"139883\"},{\"id\":\"139884\"},{\"id\":\"139886\"}]},\"id\":\"139887\",\"type\":\"Toolbar\"},{\"attributes\":{},\"id\":\"141476\",\"type\":\"BasicTickFormatter\"},{\"attributes\":{\"coordinates\":null,\"formatter\":{\"id\":\"141476\"},\"group\":null,\"major_label_policy\":{\"id\":\"141477\"},\"ticker\":{\"id\":\"139872\"}},\"id\":\"139871\",\"type\":\"LinearAxis\"},{\"attributes\":{},\"id\":\"141477\",\"type\":\"AllLabels\"},{\"attributes\":{},\"id\":\"139865\",\"type\":\"DataRange1d\"},{\"attributes\":{},\"id\":\"139863\",\"type\":\"DataRange1d\"},{\"attributes\":{\"axis\":{\"id\":\"139871\"},\"coordinates\":null,\"group\":null,\"ticker\":null},\"id\":\"139874\",\"type\":\"Grid\"},{\"attributes\":{\"callback\":null,\"tooltips\":[[\"index\",\"$index\"],[\"(x,y)\",\"($x, $y)\"],[\"desc\",\"@desc\"]]},\"id\":\"139886\",\"type\":\"HoverTool\"},{\"attributes\":{},\"id\":\"139869\",\"type\":\"LinearScale\"},{\"attributes\":{\"fill_alpha\":{\"value\":0.2},\"fill_color\":{\"value\":\"#1f77b4\"},\"hatch_alpha\":{\"value\":0.2},\"line_alpha\":{\"value\":0.2},\"line_color\":{\"value\":\"#1f77b4\"},\"size\":{\"value\":20},\"x\":{\"field\":\"x\"},\"y\":{\"field\":\"y\"}},\"id\":\"139898\",\"type\":\"Circle\"},{\"attributes\":{\"coordinates\":null,\"data_source\":{\"id\":\"139859\"},\"glyph\":{\"id\":\"139896\"},\"group\":null,\"hover_glyph\":null,\"muted_glyph\":{\"id\":\"139898\"},\"nonselection_glyph\":{\"id\":\"139897\"},\"view\":{\"id\":\"139900\"}},\"id\":\"139899\",\"type\":\"GlyphRenderer\"}],\"root_ids\":[\"139860\"]},\"title\":\"Bokeh Application\",\"version\":\"2.4.3\"}};\n",
       "  const render_items = [{\"docid\":\"f0a285e9-5aa0-47b3-8021-24f90563cc5e\",\"root_ids\":[\"139860\"],\"roots\":{\"139860\":\"68079117-03ef-4abf-8bdb-6333a3c0f9ae\"}}];\n",
       "  root.Bokeh.embed.embed_items_notebook(docs_json, render_items);\n",
       "  }\n",
       "  if (root.Bokeh !== undefined) {\n",
       "    embed_document(root);\n",
       "  } else {\n",
       "    let attempts = 0;\n",
       "    const timer = setInterval(function(root) {\n",
       "      if (root.Bokeh !== undefined) {\n",
       "        clearInterval(timer);\n",
       "        embed_document(root);\n",
       "      } else {\n",
       "        attempts++;\n",
       "        if (attempts > 100) {\n",
       "          clearInterval(timer);\n",
       "          console.log(\"Bokeh: ERROR: Unable to run BokehJS code because BokehJS library is missing\");\n",
       "        }\n",
       "      }\n",
       "    }, 10, root)\n",
       "  }\n",
       "})(window);"
      ],
      "application/vnd.bokehjs_exec.v0+json": ""
     },
     "metadata": {
      "application/vnd.bokehjs_exec.v0+json": {
       "id": "139860"
      }
     },
     "output_type": "display_data"
    }
   ],
   "source": [
    "from bokeh.models import ColumnDataSource\n",
    "\n",
    "source = ColumnDataSource(data=dict(\n",
    "    x=[1, 2, 3, 4, 5],\n",
    "    y=[2, 5, 8, 2, 7],\n",
    "    desc=['A', 'b', 'C', 'd', 'E'],\n",
    "))\n",
    "\n",
    "TOOLTIPS = [\n",
    "    (\"index\", \"$index\"),\n",
    "    (\"(x,y)\", \"($x, $y)\"),\n",
    "    (\"desc\", \"@desc\"),\n",
    "]\n",
    "\n",
    "p = figure(plot_width=400, plot_height=400, tooltips=TOOLTIPS,\n",
    "           title=\"Mouse over the dots\")\n",
    "\n",
    "p.circle('x', 'y', size=20, source=source)\n",
    "\n",
    "show(p)"
   ]
  },
  {
   "cell_type": "markdown",
   "metadata": {},
   "source": [
    "### Formatting Tooltip Fields\n",
    "By default, values for fields (e.g. @foo) are displayed in a basic numeric format. However it is possible to control the formatting of values more precisely. Fields can be modified by appending a format specified to the end in curly braces. Some examples are below."
   ]
  },
  {
   "cell_type": "markdown",
   "metadata": {},
   "source": [
    "```python\n",
    "\"@foo{0,0.000}\"    # formats 10000.1234 as: 10,000.123\n",
    "\n",
    "\"@foo{(.00)}\"      # formats -10000.1234 as: (10000.123)\n",
    "\n",
    "\"@foo{($ 0.00 a)}\" # formats 1230974 as: $ 1.23 m\n",
    "```"
   ]
  },
  {
   "cell_type": "code",
   "execution_count": 225,
   "metadata": {},
   "outputs": [
    {
     "data": {
      "text/html": [
       "\n",
       "  <div class=\"bk-root\" id=\"83d9d5b6-e95e-4904-9091-3da0f12d618e\" data-root-id=\"157903\"></div>\n"
      ]
     },
     "metadata": {},
     "output_type": "display_data"
    },
    {
     "data": {
      "application/javascript": [
       "(function(root) {\n",
       "  function embed_document(root) {\n",
       "  const docs_json = {\"0e2e9345-b4fc-4c50-a1dd-5ffe34e4c659\":{\"defs\":[],\"roots\":{\"references\":[{\"attributes\":{\"background_fill_color\":\"#f5f5f5\",\"below\":[{\"id\":\"157914\"}],\"center\":[{\"id\":\"157917\"},{\"id\":\"157921\"}],\"height\":250,\"left\":[{\"id\":\"157918\"}],\"renderers\":[{\"id\":\"157927\"}],\"sizing_mode\":\"scale_width\",\"title\":{\"id\":\"157904\"},\"toolbar\":{\"id\":\"157922\"},\"toolbar_location\":null,\"x_range\":{\"id\":\"157906\"},\"x_scale\":{\"id\":\"157910\"},\"y_range\":{\"id\":\"157908\"},\"y_scale\":{\"id\":\"157912\"}},\"id\":\"157903\",\"subtype\":\"Figure\",\"type\":\"Plot\"},{\"attributes\":{\"months\":[0,1,2,3,4,5,6,7,8,9,10,11]},\"id\":\"159716\",\"type\":\"MonthsTicker\"},{\"attributes\":{\"days\":[1,15]},\"id\":\"159715\",\"type\":\"DaysTicker\"},{\"attributes\":{\"days\":[1,2,3,4,5,6,7,8,9,10,11,12,13,14,15,16,17,18,19,20,21,22,23,24,25,26,27,28,29,30,31]},\"id\":\"159712\",\"type\":\"DaysTicker\"},{\"attributes\":{\"days\":[1,4,7,10,13,16,19,22,25,28]},\"id\":\"159713\",\"type\":\"DaysTicker\"},{\"attributes\":{},\"id\":\"157908\",\"type\":\"DataRange1d\"},{\"attributes\":{\"days\":[1,8,15,22]},\"id\":\"159714\",\"type\":\"DaysTicker\"},{\"attributes\":{},\"id\":\"157906\",\"type\":\"DataRange1d\"},{\"attributes\":{\"months\":[0,6]},\"id\":\"159719\",\"type\":\"MonthsTicker\"},{\"attributes\":{\"months\":[0,2,4,6,8,10]},\"id\":\"159717\",\"type\":\"MonthsTicker\"},{\"attributes\":{},\"id\":\"159707\",\"type\":\"UnionRenderers\"},{\"attributes\":{\"months\":[0,4,8]},\"id\":\"159718\",\"type\":\"MonthsTicker\"},{\"attributes\":{},\"id\":\"159708\",\"type\":\"Selection\"},{\"attributes\":{},\"id\":\"159702\",\"type\":\"BasicTickFormatter\"},{\"attributes\":{},\"id\":\"159706\",\"type\":\"AllLabels\"},{\"attributes\":{\"axis\":{\"id\":\"157914\"},\"coordinates\":null,\"grid_line_color\":\"white\",\"group\":null,\"ticker\":null},\"id\":\"157917\",\"type\":\"Grid\"},{\"attributes\":{\"axis_label\":\"Date\",\"axis_line_color\":null,\"coordinates\":null,\"formatter\":{\"id\":\"159705\"},\"group\":null,\"major_label_policy\":{\"id\":\"159706\"},\"ticker\":{\"id\":\"157915\"}},\"id\":\"157914\",\"type\":\"DatetimeAxis\"},{\"attributes\":{},\"id\":\"159705\",\"type\":\"DatetimeTickFormatter\"},{\"attributes\":{},\"id\":\"159703\",\"type\":\"AllLabels\"},{\"attributes\":{\"num_minor_ticks\":5,\"tickers\":[{\"id\":\"159709\"},{\"id\":\"159710\"},{\"id\":\"159711\"},{\"id\":\"159712\"},{\"id\":\"159713\"},{\"id\":\"159714\"},{\"id\":\"159715\"},{\"id\":\"159716\"},{\"id\":\"159717\"},{\"id\":\"159718\"},{\"id\":\"159719\"},{\"id\":\"159720\"}]},\"id\":\"157915\",\"type\":\"DatetimeTicker\"},{\"attributes\":{},\"id\":\"157919\",\"type\":\"BasicTicker\"},{\"attributes\":{},\"id\":\"157912\",\"type\":\"LinearScale\"},{\"attributes\":{\"coordinates\":null,\"data_source\":{\"id\":\"157902\"},\"glyph\":{\"id\":\"157924\"},\"group\":null,\"hover_glyph\":null,\"muted_glyph\":{\"id\":\"157926\"},\"nonselection_glyph\":{\"id\":\"157925\"},\"view\":{\"id\":\"157928\"}},\"id\":\"157927\",\"type\":\"GlyphRenderer\"},{\"attributes\":{\"base\":60,\"mantissas\":[1,2,5,10,15,20,30],\"max_interval\":1800000.0,\"min_interval\":1000.0,\"num_minor_ticks\":0},\"id\":\"159710\",\"type\":\"AdaptiveTicker\"},{\"attributes\":{\"data\":{\"adj close\":[31.68,28.26,33.05,26.56,30.82,25.0,21.22,23.28,25.14,27.78,23.68,23.31,24.56,30.36,29.15,10.85,9.78,9.51,9.85,8.54,7.29,7.2,8.36,10.55,9.57,9.42,9.51,11.12,10.72,12.02,11.66,11.3,10.53,10.94,10.71,9.72,9.48,8.79,9.02,7.65,7.85,8.9,9.03,9.22,10.24,10.03,11.33,10.1,12.02,11.96,11.4,12.13,11.89,12.16,11.65,11.64,11.66,9.95,8.33,8.42,7.39,7.31,7.84,6.9,7.09,6.95,6.86,7.81,7.93,7.54,7.19,6.84,7.1,7.26,7.0,7.23,7.16,7.05,6.99,6.49,8.9,8.91,8.16,9.27,9.92,10.11,9.91,9.88,11.16,10.76,10.11,12.07,11.52,10.86,10.08,10.31,10.1,11.54,11.22,11.17,11.09,13.46,12.4,13.28,13.51,12.93,12.99,14.0,15.72,15.05,15.66,15.22,15.01,16.77,17.12,18.81,19.33,24.46,26.62,31.15,31.12,31.13,33.67,34.41,38.39,41.47,39.42,41.65,41.17,34.54,36.13,34.86,38.94,36.94,35.8,40.41,41.48,44.83,44.48,49.99,52.36,48.99,55.23,58.58,63.18,72.02,70.13,72.34,74.0,69.88,68.36,63.68,62.23,60.93,64.4,69.65,63.2,58.13,56.03,54.48,50.82,61.66,62.31,65.95,70.53,71.0,72.18,77.76,76.14,83.49,88.62,83.12,83.31,86.07,82.42,82.5,83.95,88.63,91.08,87.87,96.74,104.57,115.51,114.27,118.54,130.39,141.99,122.92,127.47,128.15,140.19,157.02,165.74,182.71,161.82,173.95,179.34,189.49,155.26,131.64,123.96,121.59,123.13,139.56,143.72,167.51,183.0,181.31,180.54,168.49,169.47,161.7,159.68,171.01,156.79,130.41,97.35,99.09,107.99,93.79,90.13,95.57,84.23,85.3,91.61,94.16,86.74,93.71,106.85,116.29,120.5,125.64,119.14,139.9,133.6,131.68,147.35,161.01,159.5,160.76,176.88,180.26,186.04,187.12,197.67,198.59,191.04,203.3,204.34,200.29,190.81,195.15,218.67,223.07,233.36,259.16,239.49,231.23,248.93,266.55,240.16,238.84,254.66,240.84,235.84,260.7,278.99,290.35,299.59,307.4,300.26,312.2,316.24,324.57,317.75,336.99,340.94,345.61,329.99,331.83,322.74,338.64,326.91,336.03,317.78,324.87,347.95,381.07,363.44,363.46,367.12,393.2,359.65,382.09,389.25,364.65,382.22,371.72,402.09,416.01,442.63,488.43,530.22,569.5,583.09,564.21,567.95,542.9,556.56,560.35,556.33,587.84,559.19,602.85,653.3,660.53,682.44,651.28,617.92,571.02,555.09,565.02,523.86,531.9,493.22,445.09,454.14],\"date\":{\"__ndarray__\":\"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\",\"dtype\":\"float64\",\"order\":\"little\",\"shape\":[327]},\"volume\":[38478000,15845200,8568800,33618800,11678000,17852400,14530800,9020000,7320400,14211000,14720600,6697200,4803800,10669000,9706200,72795600,21495600,31649000,14611200,17586200,12327200,10910000,15121000,30562800,9795600,12451000,15840600,19422200,16334800,11813600,11603200,10037200,11613600,12190400,10818600,15878000,6644800,7443800,7746600,20375600,12238800,5956800,7043000,8238000,6470200,6204000,18910600,20246200,16730200,9291800,12464000,8603600,7108800,10691800,9724600,9486000,5347000,12482000,10757200,7388600,14521200,11909800,7229600,8077800,7355200,7782000,16760600,10565600,5061200,5122600,5885000,5537200,6673600,13323000,8167400,5512200,11980200,4371200,3825000,7332800,21013800,7382800,9284000,10977200,9169200,7086600,8908600,4774600,9601000,10335600,8432600,21789400,9538600,10714400,8754600,6540600,3703400,17412400,10966800,9119400,9867000,35963000,15293400,9111400,12306600,9412800,7010600,14254000,13936200,12463600,11562400,7558200,11536400,13448600,8309600,9768200,41536000,42624800,18167000,49671000,26482200,8783200,79551800,30058200,18730600,43546200,36480400,19693400,14815200,33754700,16006300,22740100,13356200,19559800,14942500,24560100,20074300,32715600,9323500,16171300,19520100,18125200,21776900,22815400,18275400,30608200,17111000,16050800,40527100,24718700,20571400,32595200,21622900,29135400,28387300,27559400,33455000,45749200,31362000,30382300,44639500,26251600,24920000,23399700,31997200,23754000,16677100,22836200,15424600,16658000,25340600,25770600,30259300,48731200,22197500,14281000,29960700,25462900,17928300,26854300,19018700,34089800,52801600,61476900,34810600,25164600,78093900,40192700,30958500,51092000,40674300,33695400,46135000,35789800,49391300,34338200,36596200,38542100,79065900,48059800,34074900,44838600,41308600,27430900,30181700,28114800,29234400,28210900,40728600,22212400,31992000,37920300,28264600,18105400,26549500,59866200,57477300,70732900,58503200,66217400,10634800,37184800,24500000,28514200,30764500,24106200,22495300,27444900,22009000,18955600,19313000,16713000,10642800,33273300,22675500,16485600,31242200,14136100,15398300,16751000,26929400,19270900,13411100,29228100,15852500,10230500,17488200,17888900,16508200,66682500,22603100,16448800,21293500,21349300,20463900,28336600,45923600,45818400,27082300,28022200,24780100,36588500,15287700,11372500,13688900,14576800,36965800,19948000,14033200,13698000,18551700,11497700,9497200,10729600,26942900,11494300,29144900,19504400,14621500,16431600,21782100,11191000,16154800,19810100,14257000,12590900,15376200,21215500,26498900,31119500,20171900,19509900,19123500,22187300,10793900,13283500,12757500,8411800,9286500,9347800,6671300,33734000,15418300,29481700,26108500,37528100,18076600,12593800,13589600,15549300,9876300,16761500,31332600,8739500,20190100,13971300,12020300,13240200,17022300,18897700,29404200,19895300,22345900,12605900,16202800,19267300,13990900]},\"selected\":{\"id\":\"159708\"},\"selection_policy\":{\"id\":\"159707\"}},\"id\":\"157902\",\"type\":\"ColumnDataSource\"},{\"attributes\":{\"axis\":{\"id\":\"157918\"},\"coordinates\":null,\"dimension\":1,\"grid_line_color\":\"white\",\"group\":null,\"ticker\":null},\"id\":\"157921\",\"type\":\"Grid\"},{\"attributes\":{\"line_color\":\"#ebbd5b\",\"line_width\":2,\"x\":{\"field\":\"date\"},\"y\":{\"field\":\"adj close\"}},\"id\":\"157924\",\"type\":\"Line\"},{\"attributes\":{\"line_alpha\":0.2,\"line_color\":\"#ebbd5b\",\"line_width\":2,\"x\":{\"field\":\"date\"},\"y\":{\"field\":\"adj close\"}},\"id\":\"157926\",\"type\":\"Line\"},{\"attributes\":{\"line_alpha\":0.1,\"line_color\":\"#ebbd5b\",\"line_width\":2,\"x\":{\"field\":\"date\"},\"y\":{\"field\":\"adj close\"}},\"id\":\"157925\",\"type\":\"Line\"},{\"attributes\":{\"tools\":[{\"id\":\"157929\"}]},\"id\":\"157922\",\"type\":\"Toolbar\"},{\"attributes\":{\"mantissas\":[1,2,5],\"max_interval\":500.0,\"num_minor_ticks\":0},\"id\":\"159709\",\"type\":\"AdaptiveTicker\"},{\"attributes\":{},\"id\":\"157910\",\"type\":\"LinearScale\"},{\"attributes\":{\"source\":{\"id\":\"157902\"}},\"id\":\"157928\",\"type\":\"CDSView\"},{\"attributes\":{\"axis_label\":\"Price\",\"axis_line_color\":null,\"coordinates\":null,\"formatter\":{\"id\":\"159702\"},\"group\":null,\"major_label_policy\":{\"id\":\"159703\"},\"ticker\":{\"id\":\"157919\"}},\"id\":\"157918\",\"type\":\"LinearAxis\"},{\"attributes\":{\"callback\":null,\"formatters\":{\"adj close\":\"printf\",\"date\":\"datetime\"},\"mode\":\"vline\",\"tooltips\":[[\"date\",\"@date{%F}\"],[\"close\",\"$@{adj close}{0.00 a}\"],[\"volume\",\"@volume{0.00 a}\"]]},\"id\":\"157929\",\"type\":\"HoverTool\"},{\"attributes\":{\"coordinates\":null,\"group\":null,\"text\":\"Hover Tooltip Formatting\"},\"id\":\"157904\",\"type\":\"Title\"},{\"attributes\":{\"base\":24,\"mantissas\":[1,2,4,6,8,12],\"max_interval\":43200000.0,\"min_interval\":3600000.0,\"num_minor_ticks\":0},\"id\":\"159711\",\"type\":\"AdaptiveTicker\"},{\"attributes\":{},\"id\":\"159720\",\"type\":\"YearsTicker\"}],\"root_ids\":[\"157903\"]},\"title\":\"Bokeh Application\",\"version\":\"2.4.3\"}};\n",
       "  const render_items = [{\"docid\":\"0e2e9345-b4fc-4c50-a1dd-5ffe34e4c659\",\"root_ids\":[\"157903\"],\"roots\":{\"157903\":\"83d9d5b6-e95e-4904-9091-3da0f12d618e\"}}];\n",
       "  root.Bokeh.embed.embed_items_notebook(docs_json, render_items);\n",
       "  }\n",
       "  if (root.Bokeh !== undefined) {\n",
       "    embed_document(root);\n",
       "  } else {\n",
       "    let attempts = 0;\n",
       "    const timer = setInterval(function(root) {\n",
       "      if (root.Bokeh !== undefined) {\n",
       "        clearInterval(timer);\n",
       "        embed_document(root);\n",
       "      } else {\n",
       "        attempts++;\n",
       "        if (attempts > 100) {\n",
       "          clearInterval(timer);\n",
       "          console.log(\"Bokeh: ERROR: Unable to run BokehJS code because BokehJS library is missing\");\n",
       "        }\n",
       "      }\n",
       "    }, 10, root)\n",
       "  }\n",
       "})(window);"
      ],
      "application/vnd.bokehjs_exec.v0+json": ""
     },
     "metadata": {
      "application/vnd.bokehjs_exec.v0+json": {
       "id": "157903"
      }
     },
     "output_type": "display_data"
    }
   ],
   "source": [
    "import numpy as np\n",
    "from bokeh.models import ColumnDataSource, HoverTool\n",
    "from bokeh.plotting import figure\n",
    "from bokeh.sampledata.stocks import AAPL # Sample stock data [bokeh built-in]\n",
    "\n",
    "def datetime(x):\n",
    "    return np.array(x, dtype=np.datetime64)\n",
    "\n",
    "source = ColumnDataSource(data={\n",
    "    'date'      : datetime(AAPL['date'][::10]),\n",
    "    'adj close' : AAPL['adj_close'][::10],\n",
    "    'volume'    : AAPL['volume'][::10],\n",
    "})\n",
    "\n",
    "p = figure(plot_height=250, x_axis_type=\"datetime\", tools=\"\", toolbar_location=None,\n",
    "           title=\"Hover Tooltip Formatting\", sizing_mode=\"scale_width\")\n",
    "p.background_fill_color=\"#f5f5f5\"\n",
    "p.grid.grid_line_color=\"white\"\n",
    "p.xaxis.axis_label = 'Date'\n",
    "p.yaxis.axis_label = 'Price'\n",
    "p.axis.axis_line_color = None\n",
    "\n",
    "p.line(x='date', y='adj close', line_width=2, color='#ebbd5b', source=source)\n",
    "\n",
    "p.add_tools(HoverTool(\n",
    "    tooltips=[\n",
    "        ( 'date',   '@date{%F}'            ),\n",
    "        ( 'close',  '$@{adj close}{0.00 a}' ), # use @{ } for field names with spaces. Was: {%0.2f}\n",
    "        ( 'volume', '@volume{0.00 a}'      ),\n",
    "    ],\n",
    "\n",
    "    formatters={\n",
    "        'date'      : 'datetime', # use 'datetime' formatter for 'date' field\n",
    "        'adj close' : 'printf',   # use 'printf' formatter for 'adj close' field\n",
    "                                  # use default 'numeral' formatter for other fields\n",
    "    },\n",
    "\n",
    "    # display a tooltip whenever the cursor is vertically in line with a glyph\n",
    "    mode='vline'\n",
    "))\n",
    "\n",
    "show(p)"
   ]
  },
  {
   "cell_type": "markdown",
   "metadata": {},
   "source": [
    "### Custom HTML Tooltip"
   ]
  },
  {
   "cell_type": "markdown",
   "metadata": {},
   "source": [
    "It is also possible to supply a custom HTML template for a tooltip. To do this, pass an HTML string, with the Bokeh tooltip field name symbols wherever substitutions are desired. Note that you can also use the {safe} format after the column name to disable the escaping of HTML in the data source. An example is shown below:"
   ]
  },
  {
   "cell_type": "code",
   "execution_count": 226,
   "metadata": {},
   "outputs": [
    {
     "data": {
      "text/html": [
       "\n",
       "  <div class=\"bk-root\" id=\"97a99a72-ef70-4caa-a352-c25e0809afd9\" data-root-id=\"159827\"></div>\n"
      ]
     },
     "metadata": {},
     "output_type": "display_data"
    },
    {
     "data": {
      "application/javascript": [
       "(function(root) {\n",
       "  function embed_document(root) {\n",
       "  const docs_json = {\"55a1638b-a398-43a8-87d1-6f99f7837bfa\":{\"defs\":[],\"roots\":{\"references\":[{\"attributes\":{\"below\":[{\"id\":\"159838\"}],\"center\":[{\"id\":\"159841\"},{\"id\":\"159845\"}],\"height\":400,\"left\":[{\"id\":\"159842\"}],\"renderers\":[{\"id\":\"159866\"}],\"title\":{\"id\":\"159828\"},\"toolbar\":{\"id\":\"159854\"},\"width\":400,\"x_range\":{\"id\":\"159830\"},\"x_scale\":{\"id\":\"159834\"},\"y_range\":{\"id\":\"159832\"},\"y_scale\":{\"id\":\"159836\"}},\"id\":\"159827\",\"subtype\":\"Figure\",\"type\":\"Plot\"},{\"attributes\":{},\"id\":\"159836\",\"type\":\"LinearScale\"},{\"attributes\":{\"coordinates\":null,\"formatter\":{\"id\":\"161660\"},\"group\":null,\"major_label_policy\":{\"id\":\"161661\"},\"ticker\":{\"id\":\"159843\"}},\"id\":\"159842\",\"type\":\"LinearAxis\"},{\"attributes\":{\"callback\":null,\"tooltips\":\"\\n    <div>\\n        <div>\\n            <img\\n                src=\\\"@imgs\\\" height=\\\"42\\\" alt=\\\"@imgs\\\" width=\\\"42\\\"\\n                style=\\\"float: left; margin: 0px 15px 15px 0px;\\\"\\n                border=\\\"2\\\"\\n            ></img>\\n        </div>\\n        <div>\\n            <span style=\\\"font-size: 17px; font-weight: bold;\\\">@desc</span>\\n            <span style=\\\"font-size: 15px; color: #966;\\\">[$index]</span>\\n        </div>\\n        <div>\\n            <span>@fonts{safe}</span>\\n        </div>\\n        <div>\\n            <span style=\\\"font-size: 15px;\\\">Location</span>\\n            <span style=\\\"font-size: 10px; color: #696;\\\">($x, $y)</span>\\n        </div>\\n    </div>\\n\"},\"id\":\"159853\",\"type\":\"HoverTool\"},{\"attributes\":{\"data\":{\"desc\":[\"A\",\"b\",\"C\",\"d\",\"E\"],\"fonts\":[\"<i>italics</i>\",\"<pre>pre</pre>\",\"<b>bold</b>\",\"<small>small</small>\",\"<del>del</del>\"],\"imgs\":[\"https://bokeh.pydata.org/static/snake.jpg\",\"https://bokeh.pydata.org/static/snake2.png\",\"https://bokeh.pydata.org/static/snake3D.png\",\"https://bokeh.pydata.org/static/snake4_TheRevenge.png\",\"https://bokeh.pydata.org/static/snakebite.jpg\"],\"x\":[1,2,3,4,5],\"y\":[2,5,8,2,7]},\"selected\":{\"id\":\"161666\"},\"selection_policy\":{\"id\":\"161665\"}},\"id\":\"159826\",\"type\":\"ColumnDataSource\"},{\"attributes\":{\"fill_color\":{\"value\":\"#1f77b4\"},\"line_color\":{\"value\":\"#1f77b4\"},\"size\":{\"value\":20},\"x\":{\"field\":\"x\"},\"y\":{\"field\":\"y\"}},\"id\":\"159863\",\"type\":\"Circle\"},{\"attributes\":{},\"id\":\"161666\",\"type\":\"Selection\"},{\"attributes\":{},\"id\":\"159850\",\"type\":\"ResetTool\"},{\"attributes\":{},\"id\":\"159849\",\"type\":\"SaveTool\"},{\"attributes\":{},\"id\":\"159839\",\"type\":\"BasicTicker\"},{\"attributes\":{},\"id\":\"159843\",\"type\":\"BasicTicker\"},{\"attributes\":{\"axis\":{\"id\":\"159842\"},\"coordinates\":null,\"dimension\":1,\"group\":null,\"ticker\":null},\"id\":\"159845\",\"type\":\"Grid\"},{\"attributes\":{},\"id\":\"161660\",\"type\":\"BasicTickFormatter\"},{\"attributes\":{\"fill_alpha\":{\"value\":0.1},\"fill_color\":{\"value\":\"#1f77b4\"},\"hatch_alpha\":{\"value\":0.1},\"line_alpha\":{\"value\":0.1},\"line_color\":{\"value\":\"#1f77b4\"},\"size\":{\"value\":20},\"x\":{\"field\":\"x\"},\"y\":{\"field\":\"y\"}},\"id\":\"159864\",\"type\":\"Circle\"},{\"attributes\":{},\"id\":\"159832\",\"type\":\"DataRange1d\"},{\"attributes\":{\"tools\":[{\"id\":\"159846\"},{\"id\":\"159847\"},{\"id\":\"159848\"},{\"id\":\"159849\"},{\"id\":\"159850\"},{\"id\":\"159851\"},{\"id\":\"159853\"}]},\"id\":\"159854\",\"type\":\"Toolbar\"},{\"attributes\":{},\"id\":\"159846\",\"type\":\"PanTool\"},{\"attributes\":{},\"id\":\"159851\",\"type\":\"HelpTool\"},{\"attributes\":{\"axis\":{\"id\":\"159838\"},\"coordinates\":null,\"group\":null,\"ticker\":null},\"id\":\"159841\",\"type\":\"Grid\"},{\"attributes\":{},\"id\":\"161665\",\"type\":\"UnionRenderers\"},{\"attributes\":{\"bottom_units\":\"screen\",\"coordinates\":null,\"fill_alpha\":0.5,\"fill_color\":\"lightgrey\",\"group\":null,\"left_units\":\"screen\",\"level\":\"overlay\",\"line_alpha\":1.0,\"line_color\":\"black\",\"line_dash\":[4,4],\"line_width\":2,\"right_units\":\"screen\",\"syncable\":false,\"top_units\":\"screen\"},\"id\":\"159852\",\"type\":\"BoxAnnotation\"},{\"attributes\":{},\"id\":\"159847\",\"type\":\"WheelZoomTool\"},{\"attributes\":{},\"id\":\"161664\",\"type\":\"AllLabels\"},{\"attributes\":{},\"id\":\"159830\",\"type\":\"DataRange1d\"},{\"attributes\":{\"coordinates\":null,\"data_source\":{\"id\":\"159826\"},\"glyph\":{\"id\":\"159863\"},\"group\":null,\"hover_glyph\":null,\"muted_glyph\":{\"id\":\"159865\"},\"nonselection_glyph\":{\"id\":\"159864\"},\"view\":{\"id\":\"159867\"}},\"id\":\"159866\",\"type\":\"GlyphRenderer\"},{\"attributes\":{\"fill_alpha\":{\"value\":0.2},\"fill_color\":{\"value\":\"#1f77b4\"},\"hatch_alpha\":{\"value\":0.2},\"line_alpha\":{\"value\":0.2},\"line_color\":{\"value\":\"#1f77b4\"},\"size\":{\"value\":20},\"x\":{\"field\":\"x\"},\"y\":{\"field\":\"y\"}},\"id\":\"159865\",\"type\":\"Circle\"},{\"attributes\":{},\"id\":\"161661\",\"type\":\"AllLabels\"},{\"attributes\":{},\"id\":\"161663\",\"type\":\"BasicTickFormatter\"},{\"attributes\":{\"coordinates\":null,\"group\":null,\"text\":\"Mouse over the dots\"},\"id\":\"159828\",\"type\":\"Title\"},{\"attributes\":{},\"id\":\"159834\",\"type\":\"LinearScale\"},{\"attributes\":{\"coordinates\":null,\"formatter\":{\"id\":\"161663\"},\"group\":null,\"major_label_policy\":{\"id\":\"161664\"},\"ticker\":{\"id\":\"159839\"}},\"id\":\"159838\",\"type\":\"LinearAxis\"},{\"attributes\":{\"overlay\":{\"id\":\"159852\"}},\"id\":\"159848\",\"type\":\"BoxZoomTool\"},{\"attributes\":{\"source\":{\"id\":\"159826\"}},\"id\":\"159867\",\"type\":\"CDSView\"}],\"root_ids\":[\"159827\"]},\"title\":\"Bokeh Application\",\"version\":\"2.4.3\"}};\n",
       "  const render_items = [{\"docid\":\"55a1638b-a398-43a8-87d1-6f99f7837bfa\",\"root_ids\":[\"159827\"],\"roots\":{\"159827\":\"97a99a72-ef70-4caa-a352-c25e0809afd9\"}}];\n",
       "  root.Bokeh.embed.embed_items_notebook(docs_json, render_items);\n",
       "  }\n",
       "  if (root.Bokeh !== undefined) {\n",
       "    embed_document(root);\n",
       "  } else {\n",
       "    let attempts = 0;\n",
       "    const timer = setInterval(function(root) {\n",
       "      if (root.Bokeh !== undefined) {\n",
       "        clearInterval(timer);\n",
       "        embed_document(root);\n",
       "      } else {\n",
       "        attempts++;\n",
       "        if (attempts > 100) {\n",
       "          clearInterval(timer);\n",
       "          console.log(\"Bokeh: ERROR: Unable to run BokehJS code because BokehJS library is missing\");\n",
       "        }\n",
       "      }\n",
       "    }, 10, root)\n",
       "  }\n",
       "})(window);"
      ],
      "application/vnd.bokehjs_exec.v0+json": ""
     },
     "metadata": {
      "application/vnd.bokehjs_exec.v0+json": {
       "id": "159827"
      }
     },
     "output_type": "display_data"
    }
   ],
   "source": [
    "source = ColumnDataSource(data=dict(\n",
    "    x=[1, 2, 3, 4, 5],\n",
    "    y=[2, 5, 8, 2, 7],\n",
    "    desc=['A', 'b', 'C', 'd', 'E'],\n",
    "    imgs=[\n",
    "        'https://bokeh.pydata.org/static/snake.jpg',\n",
    "        'https://bokeh.pydata.org/static/snake2.png',\n",
    "        'https://bokeh.pydata.org/static/snake3D.png',\n",
    "        'https://bokeh.pydata.org/static/snake4_TheRevenge.png',\n",
    "        'https://bokeh.pydata.org/static/snakebite.jpg'\n",
    "    ],\n",
    "    fonts=[\n",
    "        '<i>italics</i>',\n",
    "        '<pre>pre</pre>',\n",
    "        '<b>bold</b>',\n",
    "        '<small>small</small>',\n",
    "        '<del>del</del>'\n",
    "    ]\n",
    "))\n",
    "\n",
    "TOOLTIPS = \"\"\"\n",
    "    <div>\n",
    "        <div>\n",
    "            <img\n",
    "                src=\"@imgs\" height=\"42\" alt=\"@imgs\" width=\"42\"\n",
    "                style=\"float: left; margin: 0px 15px 15px 0px;\"\n",
    "                border=\"2\"\n",
    "            ></img>\n",
    "        </div>\n",
    "        <div>\n",
    "            <span style=\"font-size: 17px; font-weight: bold;\">@desc</span>\n",
    "            <span style=\"font-size: 15px; color: #966;\">[$index]</span>\n",
    "        </div>\n",
    "        <div>\n",
    "            <span>@fonts{safe}</span>\n",
    "        </div>\n",
    "        <div>\n",
    "            <span style=\"font-size: 15px;\">Location</span>\n",
    "            <span style=\"font-size: 10px; color: #696;\">($x, $y)</span>\n",
    "        </div>\n",
    "    </div>\n",
    "\"\"\"\n",
    "\n",
    "p = figure(plot_width=400, plot_height=400, tooltips=TOOLTIPS,\n",
    "           title=\"Mouse over the dots\")\n",
    "\n",
    "p.circle('x', 'y', size=20, source=source)\n",
    "\n",
    "show(p)"
   ]
  },
  {
   "cell_type": "markdown",
   "metadata": {},
   "source": [
    "## Gridplots and linked charts\n",
    "In this notebook i will figure out some layout options for `bokeh` charts. The `gridplot()` function can be used to arrange Bokeh Plots in grid layout. Linking together various aspects of different plots can be a useful technique for data visualization. In Bokeh, such linkages are typically accomplished by sharing some plot component between plots."
   ]
  },
  {
   "cell_type": "markdown",
   "metadata": {},
   "source": [
    "### Gridplots\n",
    "gridplot() allows to create a N x M layout for visualise several plots in an ordered way. It also collects all tools into a single toolbar, and the currently active tool is the same for all plots in the grid. **It is possible to leave “empty” spaces in the grid by passing None instead of a plot object.**"
   ]
  },
  {
   "cell_type": "code",
   "execution_count": 227,
   "metadata": {},
   "outputs": [],
   "source": [
    "from bokeh.layouts import gridplot\n",
    "from bokeh.palettes import Viridis3\n",
    "from bokeh.plotting import figure\n",
    "import numpy as np"
   ]
  },
  {
   "cell_type": "code",
   "execution_count": 228,
   "metadata": {},
   "outputs": [
    {
     "data": {
      "text/html": [
       "\n",
       "  <div class=\"bk-root\" id=\"35677097-7cca-42d2-af00-9f6efd3e6991\" data-root-id=\"161868\"></div>\n"
      ]
     },
     "metadata": {},
     "output_type": "display_data"
    },
    {
     "data": {
      "application/javascript": [
       "(function(root) {\n",
       "  function embed_document(root) {\n",
       "  const docs_json = {\"631bdf6c-49bf-461a-8ea5-b02914b5a4d1\":{\"defs\":[],\"roots\":{\"references\":[{\"attributes\":{\"children\":[{\"id\":\"161867\"},{\"id\":\"161865\"}]},\"id\":\"161868\",\"type\":\"Column\"},{\"attributes\":{\"coordinates\":null,\"formatter\":{\"id\":\"161837\"},\"group\":null,\"major_label_policy\":{\"id\":\"161838\"},\"ticker\":{\"id\":\"161729\"}},\"id\":\"161728\",\"type\":\"LinearAxis\"},{\"attributes\":{},\"id\":\"161726\",\"type\":\"LinearScale\"},{\"attributes\":{\"overlay\":{\"id\":\"161818\"}},\"id\":\"161814\",\"type\":\"BoxZoomTool\"},{\"attributes\":{},\"id\":\"161764\",\"type\":\"LinearScale\"},{\"attributes\":{\"fill_alpha\":{\"value\":0.2},\"fill_color\":{\"value\":\"#FDE724\"},\"hatch_alpha\":{\"value\":0.2},\"hatch_color\":{\"value\":\"#FDE724\"},\"line_alpha\":{\"value\":0.2},\"line_color\":{\"value\":\"#FDE724\"},\"size\":{\"value\":3},\"x\":{\"field\":\"x\"},\"y\":{\"field\":\"y\"}},\"id\":\"161829\",\"type\":\"Circle\"},{\"attributes\":{},\"id\":\"161812\",\"type\":\"PanTool\"},{\"attributes\":{\"tools\":[{\"id\":\"161736\"},{\"id\":\"161737\"},{\"id\":\"161738\"},{\"id\":\"161739\"},{\"id\":\"161740\"},{\"id\":\"161741\"}]},\"id\":\"161743\",\"type\":\"Toolbar\"},{\"attributes\":{\"tools\":[{\"id\":\"161812\"},{\"id\":\"161813\"},{\"id\":\"161814\"},{\"id\":\"161815\"},{\"id\":\"161816\"},{\"id\":\"161817\"}]},\"id\":\"161819\",\"type\":\"Toolbar\"},{\"attributes\":{\"coordinates\":null,\"formatter\":{\"id\":\"161856\"},\"group\":null,\"major_label_policy\":{\"id\":\"161857\"},\"ticker\":{\"id\":\"161809\"}},\"id\":\"161808\",\"type\":\"LinearAxis\"},{\"attributes\":{\"bottom_units\":\"screen\",\"coordinates\":null,\"fill_alpha\":0.5,\"fill_color\":\"lightgrey\",\"group\":null,\"left_units\":\"screen\",\"level\":\"overlay\",\"line_alpha\":1.0,\"line_color\":\"black\",\"line_dash\":[4,4],\"line_width\":2,\"right_units\":\"screen\",\"syncable\":false,\"top_units\":\"screen\"},\"id\":\"161742\",\"type\":\"BoxAnnotation\"},{\"attributes\":{\"fill_color\":{\"value\":\"#440154\"},\"hatch_color\":{\"value\":\"#440154\"},\"line_color\":{\"value\":\"#440154\"},\"size\":{\"value\":3},\"x\":{\"field\":\"x\"},\"y\":{\"field\":\"y\"}},\"id\":\"161751\",\"type\":\"Circle\"},{\"attributes\":{\"below\":[{\"id\":\"161766\"}],\"center\":[{\"id\":\"161769\"},{\"id\":\"161773\"}],\"height\":250,\"left\":[{\"id\":\"161770\"}],\"renderers\":[{\"id\":\"161792\"}],\"title\":null,\"toolbar\":{\"id\":\"161781\"},\"toolbar_location\":null,\"width\":250,\"x_range\":{\"id\":\"161758\"},\"x_scale\":{\"id\":\"161762\"},\"y_range\":{\"id\":\"161760\"},\"y_scale\":{\"id\":\"161764\"}},\"id\":\"161756\",\"subtype\":\"Figure\",\"type\":\"Plot\"},{\"attributes\":{},\"id\":\"161834\",\"type\":\"BasicTickFormatter\"},{\"attributes\":{},\"id\":\"161722\",\"type\":\"DataRange1d\"},{\"attributes\":{},\"id\":\"161720\",\"type\":\"DataRange1d\"},{\"attributes\":{\"axis\":{\"id\":\"161808\"},\"coordinates\":null,\"dimension\":1,\"group\":null,\"ticker\":null},\"id\":\"161811\",\"type\":\"Grid\"},{\"attributes\":{\"fill_alpha\":{\"value\":0.1},\"fill_color\":{\"value\":\"#440154\"},\"hatch_alpha\":{\"value\":0.1},\"hatch_color\":{\"value\":\"#440154\"},\"line_alpha\":{\"value\":0.1},\"line_color\":{\"value\":\"#440154\"},\"size\":{\"value\":3},\"x\":{\"field\":\"x\"},\"y\":{\"field\":\"y\"}},\"id\":\"161752\",\"type\":\"Circle\"},{\"attributes\":{},\"id\":\"161845\",\"type\":\"BasicTickFormatter\"},{\"attributes\":{\"data\":{\"x\":{\"__ndarray__\":\"AAAAAAAAAACRGkt8Vz/AP5EaS3xXP9A/2qdwOgNf2D+RGkt8Vz/gPzXhXVstT+Q/2qdwOgNf6D9+boMZ2W7sP5EaS3xXP/A/433Ua0JH8j814V1bLU/0P4dE50oYV/Y/2qdwOgNf+D8sC/op7mb6P35ugxnZbvw/0NEMCcR2/j+RGkt8Vz8AQDrMD/RMQwFA433Ua0JHAkCML5njN0sDQDXhXVstTwRA3pIi0yJTBUCHROdKGFcGQDD2q8INWwdA2qdwOgNfCECDWTWy+GIJQCwL+inuZgpA1by+oeNqC0B+boMZ2W4MQCcgSJHOcg1A0NEMCcR2DkB5g9GAuXoPQJEaS3xXPxBAZnMtOFLBEEA6zA/0TEMRQA8l8q9HxRFA433Ua0JHEkC41rYnPckSQIwvmeM3SxNAYYh7nzLNE0A14V1bLU8UQAo6QBco0RRA3pIi0yJTFUCz6wSPHdUVQIdE50oYVxZAXJ3JBhPZFkAw9qvCDVsXQAVPjn4I3RdA2qdwOgNfGECuAFP2/eAYQINZNbL4YhlAV7IXbvPkGUAsC/op7mYaQABk3OXo6BpA1by+oeNqG0CpFaFd3uwbQH5ugxnZbhxAUsdl1dPwHEAnIEiRznIdQPt4Kk3J9B1A0NEMCcR2HkCkKu/EvvgeQHmD0YC5eh9ATdyzPLT8H0CRGkt8Vz8gQPtGPNpUgCBAZnMtOFLBIEDQnx6WTwIhQDrMD/RMQyFApPgAUkqEIUAPJfKvR8UhQHlR4w1FBiJA433Ua0JHIkBNqsXJP4giQLjWtic9ySJAIgOohToKI0CML5njN0sjQPZbikE1jCNAYYh7nzLNI0DLtGz9Lw4kQDXhXVstTyRAoA1PuSqQJEAKOkAXKNEkQHRmMXUlEiVA3pIi0yJTJUBJvxMxIJQlQLPrBI8d1SVAHRj27BoWJkCHROdKGFcmQPJw2KgVmCZAXJ3JBhPZJkDGybpkEBonQDD2q8INWydAmyKdIAucJ0AFT45+CN0nQG97f9wFHihA2qdwOgNfKEBE1GGYAKAoQK4AU/b94ChAGC1EVPshKUA=\",\"dtype\":\"float64\",\"order\":\"little\",\"shape\":[100]},\"y\":{\"__ndarray__\":\"AAAAAAAAAADwgwJ4LjTAP5qI2QHPEtA/+5MNU1HJ1z8ZTT7q2B3fP0aFmgwa+eI/ABg/lCAV5j+IQCEcMdboP3fOhmLzMOs/EyzujrQb7T/9Izwlj47uPxccgYyLg+8/g6xao7j27z9mZrL8O+bvP7+X94FZUu8/xVNiW3I97j9RB8Ai+6vsP5FWKYlppOo/oSg6uxkv6D/Sh2bxK1blPyZGRbpaJeI/8qg+VZVT3T/4C4p0qOPVP+UppLIiM8w/3FNHxZdVuD/J23zJpD6gv+3ENsZjOcS/wo12/ecH0r/dgWKM2KjZv2MTsJELcOC/83ixWvXH47+358MBZM7mv5eCD4nhdum/rExY6Hq267+TIxAn7YPtvwSssILL1+6/70I4BJ6s77/vOc8G+P7vvzTGy1KGze+/3176khQZ77/C8a4NiuTtvzGcHq/dNOy/l0FFlgER6r+EGZN4xoHnvx8WPFK3keS/Cli7+O1M4b+HQNqEwoHbv9kfIiFb+NO/gKyggGI5yL8EhrXMjDywvyGGtcyMPLA/jqyggGI5yD/gHyIhW/jTP4BA2oTCgds/DVi7+O1M4T8cFjxSt5HkP4cZk3jGgec/lUFFlgER6j8ynB6v3TTsP8Hxrg2K5O0/4F76khQZ7z80xstShs3vP+85zwb4/u8/8EI4BJ6s7z8DrLCCy9fuP5UjECftg+0/p0xY6Hq26z+Vgg+J4XbpP7fnwwFkzuY/9nixWvXH4z9dE7CRC3DgP9eBYozYqNk/w412/ecH0j/+xDbGYznEP0/bfMmkPqA/+FNHxZdVuL/UKaSyIjPMv+gLinSo49W/+Kg+VZVT3b8lRkW6WiXiv8+HZvErVuW/pig6uxkv6L+TVimJaaTqv1EHwCL7q+y/xFNiW3I97r/Al/eBWVLvv2Zmsvw75u+/g6xao7j2778YHIGMi4Pvv/sjPCWPju6/EyzujrQb7b94zoZi8zDrv4xAIRwx1ui//Bc/lCAV5r9GhZoMGvnivx5NPurYHd+/65MNU1HJ17+SiNkBzxLQv/GDAnguNMC/B1wUMyamwbw=\",\"dtype\":\"float64\",\"order\":\"little\",\"shape\":[100]}},\"selected\":{\"id\":\"161840\"},\"selection_policy\":{\"id\":\"161839\"}},\"id\":\"161750\",\"type\":\"ColumnDataSource\"},{\"attributes\":{},\"id\":\"161835\",\"type\":\"AllLabels\"},{\"attributes\":{},\"id\":\"161724\",\"type\":\"LinearScale\"},{\"attributes\":{\"coordinates\":null,\"formatter\":{\"id\":\"161834\"},\"group\":null,\"major_label_policy\":{\"id\":\"161835\"},\"ticker\":{\"id\":\"161733\"}},\"id\":\"161732\",\"type\":\"LinearAxis\"},{\"attributes\":{},\"id\":\"161846\",\"type\":\"AllLabels\"},{\"attributes\":{},\"id\":\"161741\",\"type\":\"HelpTool\"},{\"attributes\":{\"coordinates\":null,\"data_source\":{\"id\":\"161826\"},\"glyph\":{\"id\":\"161827\"},\"group\":null,\"hover_glyph\":null,\"muted_glyph\":{\"id\":\"161829\"},\"nonselection_glyph\":{\"id\":\"161828\"},\"view\":{\"id\":\"161831\"}},\"id\":\"161830\",\"type\":\"GlyphRenderer\"},{\"attributes\":{},\"id\":\"161837\",\"type\":\"BasicTickFormatter\"},{\"attributes\":{},\"id\":\"161729\",\"type\":\"BasicTicker\"},{\"attributes\":{},\"id\":\"161767\",\"type\":\"BasicTicker\"},{\"attributes\":{\"axis\":{\"id\":\"161728\"},\"coordinates\":null,\"group\":null,\"ticker\":null},\"id\":\"161731\",\"type\":\"Grid\"},{\"attributes\":{},\"id\":\"161848\",\"type\":\"BasicTickFormatter\"},{\"attributes\":{},\"id\":\"161838\",\"type\":\"AllLabels\"},{\"attributes\":{},\"id\":\"161849\",\"type\":\"AllLabels\"},{\"attributes\":{},\"id\":\"161856\",\"type\":\"BasicTickFormatter\"},{\"attributes\":{\"axis\":{\"id\":\"161732\"},\"coordinates\":null,\"dimension\":1,\"group\":null,\"ticker\":null},\"id\":\"161735\",\"type\":\"Grid\"},{\"attributes\":{},\"id\":\"161733\",\"type\":\"BasicTicker\"},{\"attributes\":{},\"id\":\"161857\",\"type\":\"AllLabels\"},{\"attributes\":{},\"id\":\"161805\",\"type\":\"BasicTicker\"},{\"attributes\":{},\"id\":\"161737\",\"type\":\"WheelZoomTool\"},{\"attributes\":{},\"id\":\"161839\",\"type\":\"UnionRenderers\"},{\"attributes\":{},\"id\":\"161736\",\"type\":\"PanTool\"},{\"attributes\":{},\"id\":\"161859\",\"type\":\"BasicTickFormatter\"},{\"attributes\":{\"overlay\":{\"id\":\"161742\"}},\"id\":\"161738\",\"type\":\"BoxZoomTool\"},{\"attributes\":{\"axis\":{\"id\":\"161766\"},\"coordinates\":null,\"group\":null,\"ticker\":null},\"id\":\"161769\",\"type\":\"Grid\"},{\"attributes\":{},\"id\":\"161860\",\"type\":\"AllLabels\"},{\"attributes\":{},\"id\":\"161740\",\"type\":\"ResetTool\"},{\"attributes\":{},\"id\":\"161739\",\"type\":\"SaveTool\"},{\"attributes\":{},\"id\":\"161850\",\"type\":\"UnionRenderers\"},{\"attributes\":{},\"id\":\"161851\",\"type\":\"Selection\"},{\"attributes\":{},\"id\":\"161817\",\"type\":\"HelpTool\"},{\"attributes\":{},\"id\":\"161861\",\"type\":\"UnionRenderers\"},{\"attributes\":{\"toolbar\":{\"id\":\"161866\"},\"toolbar_location\":\"above\"},\"id\":\"161867\",\"type\":\"ToolbarBox\"},{\"attributes\":{},\"id\":\"161862\",\"type\":\"Selection\"},{\"attributes\":{},\"id\":\"161813\",\"type\":\"WheelZoomTool\"},{\"attributes\":{\"source\":{\"id\":\"161826\"}},\"id\":\"161831\",\"type\":\"CDSView\"},{\"attributes\":{\"axis\":{\"id\":\"161804\"},\"coordinates\":null,\"group\":null,\"ticker\":null},\"id\":\"161807\",\"type\":\"Grid\"},{\"attributes\":{},\"id\":\"161815\",\"type\":\"SaveTool\"},{\"attributes\":{},\"id\":\"161809\",\"type\":\"BasicTicker\"},{\"attributes\":{},\"id\":\"161816\",\"type\":\"ResetTool\"},{\"attributes\":{},\"id\":\"161840\",\"type\":\"Selection\"},{\"attributes\":{\"below\":[{\"id\":\"161728\"}],\"center\":[{\"id\":\"161731\"},{\"id\":\"161735\"}],\"height\":250,\"left\":[{\"id\":\"161732\"}],\"renderers\":[{\"id\":\"161754\"}],\"title\":null,\"toolbar\":{\"id\":\"161743\"},\"toolbar_location\":null,\"width\":250,\"x_range\":{\"id\":\"161720\"},\"x_scale\":{\"id\":\"161724\"},\"y_range\":{\"id\":\"161722\"},\"y_scale\":{\"id\":\"161726\"}},\"id\":\"161718\",\"subtype\":\"Figure\",\"type\":\"Plot\"},{\"attributes\":{\"children\":[[{\"id\":\"161718\"},0,0],[{\"id\":\"161756\"},0,1],[{\"id\":\"161794\"},1,1]]},\"id\":\"161865\",\"type\":\"GridBox\"},{\"attributes\":{\"bottom_units\":\"screen\",\"coordinates\":null,\"fill_alpha\":0.5,\"fill_color\":\"lightgrey\",\"group\":null,\"left_units\":\"screen\",\"level\":\"overlay\",\"line_alpha\":1.0,\"line_color\":\"black\",\"line_dash\":[4,4],\"line_width\":2,\"right_units\":\"screen\",\"syncable\":false,\"top_units\":\"screen\"},\"id\":\"161818\",\"type\":\"BoxAnnotation\"},{\"attributes\":{\"source\":{\"id\":\"161788\"}},\"id\":\"161793\",\"type\":\"CDSView\"},{\"attributes\":{},\"id\":\"161796\",\"type\":\"DataRange1d\"},{\"attributes\":{\"fill_alpha\":{\"value\":0.1},\"fill_color\":{\"value\":\"#FDE724\"},\"hatch_alpha\":{\"value\":0.1},\"hatch_color\":{\"value\":\"#FDE724\"},\"line_alpha\":{\"value\":0.1},\"line_color\":{\"value\":\"#FDE724\"},\"size\":{\"value\":3},\"x\":{\"field\":\"x\"},\"y\":{\"field\":\"y\"}},\"id\":\"161828\",\"type\":\"Circle\"},{\"attributes\":{\"fill_color\":{\"value\":\"#FDE724\"},\"hatch_color\":{\"value\":\"#FDE724\"},\"line_color\":{\"value\":\"#FDE724\"},\"size\":{\"value\":3},\"x\":{\"field\":\"x\"},\"y\":{\"field\":\"y\"}},\"id\":\"161827\",\"type\":\"Circle\"},{\"attributes\":{\"toolbars\":[{\"id\":\"161743\"},{\"id\":\"161781\"},{\"id\":\"161819\"}],\"tools\":[{\"id\":\"161736\"},{\"id\":\"161737\"},{\"id\":\"161738\"},{\"id\":\"161739\"},{\"id\":\"161740\"},{\"id\":\"161741\"},{\"id\":\"161774\"},{\"id\":\"161775\"},{\"id\":\"161776\"},{\"id\":\"161777\"},{\"id\":\"161778\"},{\"id\":\"161779\"},{\"id\":\"161812\"},{\"id\":\"161813\"},{\"id\":\"161814\"},{\"id\":\"161815\"},{\"id\":\"161816\"},{\"id\":\"161817\"}]},\"id\":\"161866\",\"type\":\"ProxyToolbar\"},{\"attributes\":{},\"id\":\"161802\",\"type\":\"LinearScale\"},{\"attributes\":{\"coordinates\":null,\"formatter\":{\"id\":\"161845\"},\"group\":null,\"major_label_policy\":{\"id\":\"161846\"},\"ticker\":{\"id\":\"161771\"}},\"id\":\"161770\",\"type\":\"LinearAxis\"},{\"attributes\":{},\"id\":\"161779\",\"type\":\"HelpTool\"},{\"attributes\":{},\"id\":\"161778\",\"type\":\"ResetTool\"},{\"attributes\":{\"coordinates\":null,\"formatter\":{\"id\":\"161859\"},\"group\":null,\"major_label_policy\":{\"id\":\"161860\"},\"ticker\":{\"id\":\"161805\"}},\"id\":\"161804\",\"type\":\"LinearAxis\"},{\"attributes\":{},\"id\":\"161798\",\"type\":\"DataRange1d\"},{\"attributes\":{\"overlay\":{\"id\":\"161780\"}},\"id\":\"161776\",\"type\":\"BoxZoomTool\"},{\"attributes\":{},\"id\":\"161777\",\"type\":\"SaveTool\"},{\"attributes\":{\"bottom_units\":\"screen\",\"coordinates\":null,\"fill_alpha\":0.5,\"fill_color\":\"lightgrey\",\"group\":null,\"left_units\":\"screen\",\"level\":\"overlay\",\"line_alpha\":1.0,\"line_color\":\"black\",\"line_dash\":[4,4],\"line_width\":2,\"right_units\":\"screen\",\"syncable\":false,\"top_units\":\"screen\"},\"id\":\"161780\",\"type\":\"BoxAnnotation\"},{\"attributes\":{\"data\":{\"x\":{\"__ndarray__\":\"AAAAAAAAAACRGkt8Vz/AP5EaS3xXP9A/2qdwOgNf2D+RGkt8Vz/gPzXhXVstT+Q/2qdwOgNf6D9+boMZ2W7sP5EaS3xXP/A/433Ua0JH8j814V1bLU/0P4dE50oYV/Y/2qdwOgNf+D8sC/op7mb6P35ugxnZbvw/0NEMCcR2/j+RGkt8Vz8AQDrMD/RMQwFA433Ua0JHAkCML5njN0sDQDXhXVstTwRA3pIi0yJTBUCHROdKGFcGQDD2q8INWwdA2qdwOgNfCECDWTWy+GIJQCwL+inuZgpA1by+oeNqC0B+boMZ2W4MQCcgSJHOcg1A0NEMCcR2DkB5g9GAuXoPQJEaS3xXPxBAZnMtOFLBEEA6zA/0TEMRQA8l8q9HxRFA433Ua0JHEkC41rYnPckSQIwvmeM3SxNAYYh7nzLNE0A14V1bLU8UQAo6QBco0RRA3pIi0yJTFUCz6wSPHdUVQIdE50oYVxZAXJ3JBhPZFkAw9qvCDVsXQAVPjn4I3RdA2qdwOgNfGECuAFP2/eAYQINZNbL4YhlAV7IXbvPkGUAsC/op7mYaQABk3OXo6BpA1by+oeNqG0CpFaFd3uwbQH5ugxnZbhxAUsdl1dPwHEAnIEiRznIdQPt4Kk3J9B1A0NEMCcR2HkCkKu/EvvgeQHmD0YC5eh9ATdyzPLT8H0CRGkt8Vz8gQPtGPNpUgCBAZnMtOFLBIEDQnx6WTwIhQDrMD/RMQyFApPgAUkqEIUAPJfKvR8UhQHlR4w1FBiJA433Ua0JHIkBNqsXJP4giQLjWtic9ySJAIgOohToKI0CML5njN0sjQPZbikE1jCNAYYh7nzLNI0DLtGz9Lw4kQDXhXVstTyRAoA1PuSqQJEAKOkAXKNEkQHRmMXUlEiVA3pIi0yJTJUBJvxMxIJQlQLPrBI8d1SVAHRj27BoWJkCHROdKGFcmQPJw2KgVmCZAXJ3JBhPZJkDGybpkEBonQDD2q8INWydAmyKdIAucJ0AFT45+CN0nQG97f9wFHihA2qdwOgNfKEBE1GGYAKAoQK4AU/b94ChAGC1EVPshKUA=\",\"dtype\":\"float64\",\"order\":\"little\",\"shape\":[100]},\"y\":{\"__ndarray__\":\"AAAAAAAA8D+yzYPRkeXxP7ihgYdrgfM/rb0yquzM9D/245G2v8L1P87bFRfwXvY/2iiqbvqe9j/kKcny1oH2P2p9E6r9B/Y/t9rofWQz9T/V4vYmdwf0P338ARYJifI/RdfykkG+8D9ETRXIBF3tPyugTMuSxOg/JsOhHxvG4z8XRefmX+zcP4TfmO5l1dE/2IAW3tnTuT9YVAYbRxi0v26sY4ZobNC/kDyhvhiP278fJw0IIiDjv8rnndrvKei/4klI9jTQ7L9i6ms85X/wvyB3ITG5U/K/nEtETQ/c879kyJx6lxL1v3a2nZlS8vW/jCxGFqd39r9Ikzy8b6D2v7IbDo0EbPa/VCYsdD3b9b+XNIXNbvD0vyX2CM1fr/O/Ewqe7jod8r/hQKSueEDwv7KoVMWJQey/OkhCQL6N57//x2pm7XjivwmD/egKMNq/WFreULgEzr/Qjtyf0basv8DQmYTCjb8/YDFTHT090z9zKk7fyUfePwQ64frNauQ/Br4PG51d6T/UmpIn8OftPyz+X62J+/A/JAqwLSe98j/wrAGOlDH0P+CqQLrTUvU/YiQQQD0c9j8rs4V6k4r2Pw41lOsPnPY/TXYpjGpQ9j9uO9/02qj1P8SNeVoTqPQ/wTrZcjVS8z/dcSFwwazxPxnyVbD+fO8/vXE0K8Ye6z+6a09r11DmP/7dFbP8JuE/QJmw0PVs1z8YNwvg51bIP4A3qsMi+oY/tJyl3I19xb9gjLYfHAnWv+4O12hWfOC/dgkSnTaw5b/Eiyd/wIrqv1M5qN/19+6/bg/Nc81y8b9c/veZwCHzv4mZSz7lgfS/nqNH2pCN9b9BMd7bdED2vxjtFmOwl/a/lMBYHdyR9r+wHoMNEC/2vww2BinjcPW/M3KRy2Ra9L+mR1EcEPDyv8K/p5i5N/G/fKrPIO5w7r87P/7sBPXpv0iCivwvDuW/bUUVRECh3788RM3h1qPUv0S1wErRosK/wBtiTTs7oT9AtNpTsC7LP5z1ygVNz9g/audXAYjQ4T/buikNCPDmP2xZBmcMses//P//////7z8=\",\"dtype\":\"float64\",\"order\":\"little\",\"shape\":[100]}},\"selected\":{\"id\":\"161862\"},\"selection_policy\":{\"id\":\"161861\"}},\"id\":\"161826\",\"type\":\"ColumnDataSource\"},{\"attributes\":{},\"id\":\"161774\",\"type\":\"PanTool\"},{\"attributes\":{\"fill_alpha\":{\"value\":0.2},\"fill_color\":{\"value\":\"#208F8C\"},\"hatch_alpha\":{\"value\":0.2},\"hatch_color\":{\"value\":\"#208F8C\"},\"line_alpha\":{\"value\":0.2},\"line_color\":{\"value\":\"#208F8C\"},\"size\":{\"value\":3},\"x\":{\"field\":\"x\"},\"y\":{\"field\":\"y\"}},\"id\":\"161791\",\"type\":\"Circle\"},{\"attributes\":{\"below\":[{\"id\":\"161804\"}],\"center\":[{\"id\":\"161807\"},{\"id\":\"161811\"}],\"height\":250,\"left\":[{\"id\":\"161808\"}],\"renderers\":[{\"id\":\"161830\"}],\"title\":null,\"toolbar\":{\"id\":\"161819\"},\"toolbar_location\":null,\"width\":250,\"x_range\":{\"id\":\"161796\"},\"x_scale\":{\"id\":\"161800\"},\"y_range\":{\"id\":\"161798\"},\"y_scale\":{\"id\":\"161802\"}},\"id\":\"161794\",\"subtype\":\"Figure\",\"type\":\"Plot\"},{\"attributes\":{\"coordinates\":null,\"data_source\":{\"id\":\"161750\"},\"glyph\":{\"id\":\"161751\"},\"group\":null,\"hover_glyph\":null,\"muted_glyph\":{\"id\":\"161753\"},\"nonselection_glyph\":{\"id\":\"161752\"},\"view\":{\"id\":\"161755\"}},\"id\":\"161754\",\"type\":\"GlyphRenderer\"},{\"attributes\":{\"axis\":{\"id\":\"161770\"},\"coordinates\":null,\"dimension\":1,\"group\":null,\"ticker\":null},\"id\":\"161773\",\"type\":\"Grid\"},{\"attributes\":{\"coordinates\":null,\"data_source\":{\"id\":\"161788\"},\"glyph\":{\"id\":\"161789\"},\"group\":null,\"hover_glyph\":null,\"muted_glyph\":{\"id\":\"161791\"},\"nonselection_glyph\":{\"id\":\"161790\"},\"view\":{\"id\":\"161793\"}},\"id\":\"161792\",\"type\":\"GlyphRenderer\"},{\"attributes\":{\"tools\":[{\"id\":\"161774\"},{\"id\":\"161775\"},{\"id\":\"161776\"},{\"id\":\"161777\"},{\"id\":\"161778\"},{\"id\":\"161779\"}]},\"id\":\"161781\",\"type\":\"Toolbar\"},{\"attributes\":{},\"id\":\"161775\",\"type\":\"WheelZoomTool\"},{\"attributes\":{},\"id\":\"161762\",\"type\":\"LinearScale\"},{\"attributes\":{},\"id\":\"161760\",\"type\":\"DataRange1d\"},{\"attributes\":{\"data\":{\"x\":{\"__ndarray__\":\"AAAAAAAAAACRGkt8Vz/AP5EaS3xXP9A/2qdwOgNf2D+RGkt8Vz/gPzXhXVstT+Q/2qdwOgNf6D9+boMZ2W7sP5EaS3xXP/A/433Ua0JH8j814V1bLU/0P4dE50oYV/Y/2qdwOgNf+D8sC/op7mb6P35ugxnZbvw/0NEMCcR2/j+RGkt8Vz8AQDrMD/RMQwFA433Ua0JHAkCML5njN0sDQDXhXVstTwRA3pIi0yJTBUCHROdKGFcGQDD2q8INWwdA2qdwOgNfCECDWTWy+GIJQCwL+inuZgpA1by+oeNqC0B+boMZ2W4MQCcgSJHOcg1A0NEMCcR2DkB5g9GAuXoPQJEaS3xXPxBAZnMtOFLBEEA6zA/0TEMRQA8l8q9HxRFA433Ua0JHEkC41rYnPckSQIwvmeM3SxNAYYh7nzLNE0A14V1bLU8UQAo6QBco0RRA3pIi0yJTFUCz6wSPHdUVQIdE50oYVxZAXJ3JBhPZFkAw9qvCDVsXQAVPjn4I3RdA2qdwOgNfGECuAFP2/eAYQINZNbL4YhlAV7IXbvPkGUAsC/op7mYaQABk3OXo6BpA1by+oeNqG0CpFaFd3uwbQH5ugxnZbhxAUsdl1dPwHEAnIEiRznIdQPt4Kk3J9B1A0NEMCcR2HkCkKu/EvvgeQHmD0YC5eh9ATdyzPLT8H0CRGkt8Vz8gQPtGPNpUgCBAZnMtOFLBIEDQnx6WTwIhQDrMD/RMQyFApPgAUkqEIUAPJfKvR8UhQHlR4w1FBiJA433Ua0JHIkBNqsXJP4giQLjWtic9ySJAIgOohToKI0CML5njN0sjQPZbikE1jCNAYYh7nzLNI0DLtGz9Lw4kQDXhXVstTyRAoA1PuSqQJEAKOkAXKNEkQHRmMXUlEiVA3pIi0yJTJUBJvxMxIJQlQLPrBI8d1SVAHRj27BoWJkCHROdKGFcmQPJw2KgVmCZAXJ3JBhPZJkDGybpkEBonQDD2q8INWydAmyKdIAucJ0AFT45+CN0nQG97f9wFHihA2qdwOgNfKEBE1GGYAKAoQK4AU/b94ChAGC1EVPshKUA=\",\"dtype\":\"float64\",\"order\":\"little\",\"shape\":[100]},\"y\":{\"__ndarray__\":\"AAAAAAAA8D9o+gYFGL7vPyN/Fo5v+e4/XLHeqjC17T9foQT4kvbrP1YykSHGxOk/tTkVSdQo5z9AE3HJfC3kP1wsoPEH3+A/thLH2SiW2j9bQ2NRvgDTP4xzC34aOsY/cyCwKKhcqD8MyeikuUm0v0/eq9oaN8q/PSGBd67u1L+LyZhelmvcv8/m3JG2ueG/hlh3f5705L9dUsfUNNnnv10cd/2OW+q/wfLvCVdx7L8bLVJC9hHuv0PyRoe4Nu+/XjTx7ufa778HB0As4PvvvwQ9tXAZme+/V1DNmyq07r/ZTwivwlDtv4lZi6GZdOu/JeDa0Vgn6b/aPrV2e3Lmv8y0DJEnYeO/+f//////3783i/Tn4LnYv4yAwi7oDdG/3kQPZF83wr9U+ijPKj+QvxHsuGvkX7w/k1rgSlktzj+GU4hOOdfWP1m1P3WwOd4/AasNgtOP4j+XUJVeWbblPzdQz6Jvg+g/uvBkh4zr6j99NRQyxuTsP/FJcov7Zu4/Juk3u/Vr7z+VSynBge/vP5RLKcGB7+8/Jek3u/Vr7z/vSXKL+2buP381FDLG5Ow/uPBkh4zr6j86UM+ib4PoP5RQlV5ZtuU/BasNgtOP4j9TtT91sDneP45TiE4519Y/hVrgSlktzj807Lhr5F+8P8f6KM8qP5C/zUQPZF83wr+TgMIu6A3Rvy+L9Ofgudi/BwAAAAAA4L/PtAyRJ2Hjv9k+tXZ7cua/I+Da0Vgn6b+NWYuhmXTrv9pPCK/CUO2/V1DNmyq07r8DPbVwGZnvvwgHQCzg+++/XjTx7ufa779E8kaHuDbvvx4tUkL2Ee6/wPLvCVdx7L9dHHf9jlvqv2BSx9Q02ee/gVh3f5705L/M5tyRtrnhv4zJmF6Wa9y/RSGBd67u1L8x3qvaGjfKv/DI6KS5SbS/bSCwKKhcqD9zcwt+GjrGP2ZDY1G+ANM/uRLH2SiW2j9aLKDxB9/gPzsTccl8LeQ/uDkVSdQo5z9WMpEhxsTpP12hBPiS9us/X7HeqjC17T8kfxaOb/nuP2j6BgUYvu8/AAAAAAAA8D8=\",\"dtype\":\"float64\",\"order\":\"little\",\"shape\":[100]}},\"selected\":{\"id\":\"161851\"},\"selection_policy\":{\"id\":\"161850\"}},\"id\":\"161788\",\"type\":\"ColumnDataSource\"},{\"attributes\":{\"fill_alpha\":{\"value\":0.1},\"fill_color\":{\"value\":\"#208F8C\"},\"hatch_alpha\":{\"value\":0.1},\"hatch_color\":{\"value\":\"#208F8C\"},\"line_alpha\":{\"value\":0.1},\"line_color\":{\"value\":\"#208F8C\"},\"size\":{\"value\":3},\"x\":{\"field\":\"x\"},\"y\":{\"field\":\"y\"}},\"id\":\"161790\",\"type\":\"Circle\"},{\"attributes\":{\"fill_color\":{\"value\":\"#208F8C\"},\"hatch_color\":{\"value\":\"#208F8C\"},\"line_color\":{\"value\":\"#208F8C\"},\"size\":{\"value\":3},\"x\":{\"field\":\"x\"},\"y\":{\"field\":\"y\"}},\"id\":\"161789\",\"type\":\"Circle\"},{\"attributes\":{\"coordinates\":null,\"formatter\":{\"id\":\"161848\"},\"group\":null,\"major_label_policy\":{\"id\":\"161849\"},\"ticker\":{\"id\":\"161767\"}},\"id\":\"161766\",\"type\":\"LinearAxis\"},{\"attributes\":{\"fill_alpha\":{\"value\":0.2},\"fill_color\":{\"value\":\"#440154\"},\"hatch_alpha\":{\"value\":0.2},\"hatch_color\":{\"value\":\"#440154\"},\"line_alpha\":{\"value\":0.2},\"line_color\":{\"value\":\"#440154\"},\"size\":{\"value\":3},\"x\":{\"field\":\"x\"},\"y\":{\"field\":\"y\"}},\"id\":\"161753\",\"type\":\"Circle\"},{\"attributes\":{},\"id\":\"161758\",\"type\":\"DataRange1d\"},{\"attributes\":{\"source\":{\"id\":\"161750\"}},\"id\":\"161755\",\"type\":\"CDSView\"},{\"attributes\":{},\"id\":\"161800\",\"type\":\"LinearScale\"},{\"attributes\":{},\"id\":\"161771\",\"type\":\"BasicTicker\"}],\"root_ids\":[\"161868\"]},\"title\":\"Bokeh Application\",\"version\":\"2.4.3\"}};\n",
       "  const render_items = [{\"docid\":\"631bdf6c-49bf-461a-8ea5-b02914b5a4d1\",\"root_ids\":[\"161868\"],\"roots\":{\"161868\":\"35677097-7cca-42d2-af00-9f6efd3e6991\"}}];\n",
       "  root.Bokeh.embed.embed_items_notebook(docs_json, render_items);\n",
       "  }\n",
       "  if (root.Bokeh !== undefined) {\n",
       "    embed_document(root);\n",
       "  } else {\n",
       "    let attempts = 0;\n",
       "    const timer = setInterval(function(root) {\n",
       "      if (root.Bokeh !== undefined) {\n",
       "        clearInterval(timer);\n",
       "        embed_document(root);\n",
       "      } else {\n",
       "        attempts++;\n",
       "        if (attempts > 100) {\n",
       "          clearInterval(timer);\n",
       "          console.log(\"Bokeh: ERROR: Unable to run BokehJS code because BokehJS library is missing\");\n",
       "        }\n",
       "      }\n",
       "    }, 10, root)\n",
       "  }\n",
       "})(window);"
      ],
      "application/vnd.bokehjs_exec.v0+json": ""
     },
     "metadata": {
      "application/vnd.bokehjs_exec.v0+json": {
       "id": "161868"
      }
     },
     "output_type": "display_data"
    }
   ],
   "source": [
    "N = 100\n",
    "x = np.linspace(0, 4*np.pi, N)\n",
    "y0 = np.sin(x)\n",
    "y1 = np.cos(x)\n",
    "y2 = np.sin(x) + np.cos(x)\n",
    "\n",
    "# create three plots\n",
    "p1 = figure(plot_width=250, plot_height=250, title=None)\n",
    "p1.circle(x, y0, size=3, color=Viridis3[0])\n",
    "\n",
    "p2 = figure(plot_width=250, plot_height=250, title=None)\n",
    "p2.circle(x, y1, size=3, color=Viridis3[1])\n",
    "\n",
    "p3 = figure(plot_width=250, plot_height=250, title=None)\n",
    "p3.circle(x, y2, size=3, color=Viridis3[2])\n",
    "\n",
    "# make a grid\n",
    "grid = gridplot([[p1, p2], [None, p3]])\n",
    "\n",
    "# show the results\n",
    "show(grid)"
   ]
  },
  {
   "cell_type": "markdown",
   "metadata": {},
   "source": [
    "For convenience you can also just pass a list of plots, and specify the number of columns you want in your grid. For example,\n",
    "\n",
    "`gridplot([[s1, s2], [s3, None]])`\n",
    "\n",
    "and\n",
    "\n",
    "`gridplot([s1, s2, s3], ncols=2)`\n",
    "\n",
    "Furthermore, you can specify the size of the plots in the gridplot istruction."
   ]
  },
  {
   "cell_type": "code",
   "execution_count": 229,
   "metadata": {},
   "outputs": [
    {
     "data": {
      "text/html": [
       "\n",
       "  <div class=\"bk-root\" id=\"ce7069a7-6203-4b35-ae8b-2d825cc55c9a\" data-root-id=\"163999\"></div>\n"
      ]
     },
     "metadata": {},
     "output_type": "display_data"
    },
    {
     "data": {
      "application/javascript": [
       "(function(root) {\n",
       "  function embed_document(root) {\n",
       "  const docs_json = {\"5e899b05-418a-449e-a76a-28a8cba1d6e3\":{\"defs\":[],\"roots\":{\"references\":[{\"attributes\":{\"children\":[{\"id\":\"163998\"},{\"id\":\"163996\"}]},\"id\":\"163999\",\"type\":\"Column\"},{\"attributes\":{},\"id\":\"163945\",\"type\":\"HelpTool\"},{\"attributes\":{},\"id\":\"163975\",\"type\":\"BasicTickFormatter\"},{\"attributes\":{},\"id\":\"163944\",\"type\":\"ResetTool\"},{\"attributes\":{},\"id\":\"163976\",\"type\":\"AllLabels\"},{\"attributes\":{\"bottom_units\":\"screen\",\"coordinates\":null,\"fill_alpha\":0.5,\"fill_color\":\"lightgrey\",\"group\":null,\"left_units\":\"screen\",\"level\":\"overlay\",\"line_alpha\":1.0,\"line_color\":\"black\",\"line_dash\":[4,4],\"line_width\":2,\"right_units\":\"screen\",\"syncable\":false,\"top_units\":\"screen\"},\"id\":\"163946\",\"type\":\"BoxAnnotation\"},{\"attributes\":{},\"id\":\"163968\",\"type\":\"UnionRenderers\"},{\"attributes\":{},\"id\":\"163978\",\"type\":\"BasicTickFormatter\"},{\"attributes\":{\"source\":{\"id\":\"163954\"}},\"id\":\"163959\",\"type\":\"CDSView\"},{\"attributes\":{},\"id\":\"163969\",\"type\":\"Selection\"},{\"attributes\":{},\"id\":\"163979\",\"type\":\"AllLabels\"},{\"attributes\":{\"toolbar\":{\"id\":\"163997\"},\"toolbar_location\":\"above\"},\"id\":\"163998\",\"type\":\"ToolbarBox\"},{\"attributes\":{},\"id\":\"163987\",\"type\":\"BasicTickFormatter\"},{\"attributes\":{},\"id\":\"163988\",\"type\":\"AllLabels\"},{\"attributes\":{},\"id\":\"163980\",\"type\":\"UnionRenderers\"},{\"attributes\":{\"coordinates\":null,\"group\":null},\"id\":\"163960\",\"type\":\"Title\"},{\"attributes\":{},\"id\":\"163990\",\"type\":\"BasicTickFormatter\"},{\"attributes\":{},\"id\":\"163981\",\"type\":\"Selection\"},{\"attributes\":{},\"id\":\"163991\",\"type\":\"AllLabels\"},{\"attributes\":{},\"id\":\"163964\",\"type\":\"AllLabels\"},{\"attributes\":{},\"id\":\"163992\",\"type\":\"UnionRenderers\"},{\"attributes\":{},\"id\":\"163966\",\"type\":\"BasicTickFormatter\"},{\"attributes\":{},\"id\":\"163993\",\"type\":\"Selection\"},{\"attributes\":{\"coordinates\":null,\"data_source\":{\"id\":\"163880\"},\"glyph\":{\"id\":\"163881\"},\"group\":null,\"hover_glyph\":null,\"muted_glyph\":{\"id\":\"163883\"},\"nonselection_glyph\":{\"id\":\"163882\"},\"view\":{\"id\":\"163885\"}},\"id\":\"163884\",\"type\":\"GlyphRenderer\"},{\"attributes\":{},\"id\":\"163967\",\"type\":\"AllLabels\"},{\"attributes\":{},\"id\":\"163963\",\"type\":\"BasicTickFormatter\"},{\"attributes\":{\"coordinates\":null,\"group\":null},\"id\":\"163972\",\"type\":\"Title\"},{\"attributes\":{\"source\":{\"id\":\"163880\"}},\"id\":\"163885\",\"type\":\"CDSView\"},{\"attributes\":{\"fill_alpha\":{\"value\":0.2},\"fill_color\":{\"value\":\"#440154\"},\"hatch_alpha\":{\"value\":0.2},\"hatch_color\":{\"value\":\"#440154\"},\"line_alpha\":{\"value\":0.2},\"line_color\":{\"value\":\"#440154\"},\"size\":{\"value\":3},\"x\":{\"field\":\"x\"},\"y\":{\"field\":\"y\"}},\"id\":\"163883\",\"type\":\"Circle\"},{\"attributes\":{\"coordinates\":null,\"group\":null},\"id\":\"163984\",\"type\":\"Title\"},{\"attributes\":{\"fill_alpha\":{\"value\":0.1},\"fill_color\":{\"value\":\"#440154\"},\"hatch_alpha\":{\"value\":0.1},\"hatch_color\":{\"value\":\"#440154\"},\"line_alpha\":{\"value\":0.1},\"line_color\":{\"value\":\"#440154\"},\"size\":{\"value\":3},\"x\":{\"field\":\"x\"},\"y\":{\"field\":\"y\"}},\"id\":\"163882\",\"type\":\"Circle\"},{\"attributes\":{\"fill_color\":{\"value\":\"#208F8C\"},\"hatch_color\":{\"value\":\"#208F8C\"},\"line_color\":{\"value\":\"#208F8C\"},\"size\":{\"value\":3},\"x\":{\"field\":\"x\"},\"y\":{\"field\":\"y\"}},\"id\":\"163918\",\"type\":\"Circle\"},{\"attributes\":{\"data\":{\"x\":{\"__ndarray__\":\"AAAAAAAAAACRGkt8Vz/AP5EaS3xXP9A/2qdwOgNf2D+RGkt8Vz/gPzXhXVstT+Q/2qdwOgNf6D9+boMZ2W7sP5EaS3xXP/A/433Ua0JH8j814V1bLU/0P4dE50oYV/Y/2qdwOgNf+D8sC/op7mb6P35ugxnZbvw/0NEMCcR2/j+RGkt8Vz8AQDrMD/RMQwFA433Ua0JHAkCML5njN0sDQDXhXVstTwRA3pIi0yJTBUCHROdKGFcGQDD2q8INWwdA2qdwOgNfCECDWTWy+GIJQCwL+inuZgpA1by+oeNqC0B+boMZ2W4MQCcgSJHOcg1A0NEMCcR2DkB5g9GAuXoPQJEaS3xXPxBAZnMtOFLBEEA6zA/0TEMRQA8l8q9HxRFA433Ua0JHEkC41rYnPckSQIwvmeM3SxNAYYh7nzLNE0A14V1bLU8UQAo6QBco0RRA3pIi0yJTFUCz6wSPHdUVQIdE50oYVxZAXJ3JBhPZFkAw9qvCDVsXQAVPjn4I3RdA2qdwOgNfGECuAFP2/eAYQINZNbL4YhlAV7IXbvPkGUAsC/op7mYaQABk3OXo6BpA1by+oeNqG0CpFaFd3uwbQH5ugxnZbhxAUsdl1dPwHEAnIEiRznIdQPt4Kk3J9B1A0NEMCcR2HkCkKu/EvvgeQHmD0YC5eh9ATdyzPLT8H0CRGkt8Vz8gQPtGPNpUgCBAZnMtOFLBIEDQnx6WTwIhQDrMD/RMQyFApPgAUkqEIUAPJfKvR8UhQHlR4w1FBiJA433Ua0JHIkBNqsXJP4giQLjWtic9ySJAIgOohToKI0CML5njN0sjQPZbikE1jCNAYYh7nzLNI0DLtGz9Lw4kQDXhXVstTyRAoA1PuSqQJEAKOkAXKNEkQHRmMXUlEiVA3pIi0yJTJUBJvxMxIJQlQLPrBI8d1SVAHRj27BoWJkCHROdKGFcmQPJw2KgVmCZAXJ3JBhPZJkDGybpkEBonQDD2q8INWydAmyKdIAucJ0AFT45+CN0nQG97f9wFHihA2qdwOgNfKEBE1GGYAKAoQK4AU/b94ChAGC1EVPshKUA=\",\"dtype\":\"float64\",\"order\":\"little\",\"shape\":[100]},\"y\":{\"__ndarray__\":\"AAAAAAAA8D9o+gYFGL7vPyN/Fo5v+e4/XLHeqjC17T9foQT4kvbrP1YykSHGxOk/tTkVSdQo5z9AE3HJfC3kP1wsoPEH3+A/thLH2SiW2j9bQ2NRvgDTP4xzC34aOsY/cyCwKKhcqD8MyeikuUm0v0/eq9oaN8q/PSGBd67u1L+LyZhelmvcv8/m3JG2ueG/hlh3f5705L9dUsfUNNnnv10cd/2OW+q/wfLvCVdx7L8bLVJC9hHuv0PyRoe4Nu+/XjTx7ufa778HB0As4PvvvwQ9tXAZme+/V1DNmyq07r/ZTwivwlDtv4lZi6GZdOu/JeDa0Vgn6b/aPrV2e3Lmv8y0DJEnYeO/+f//////3783i/Tn4LnYv4yAwi7oDdG/3kQPZF83wr9U+ijPKj+QvxHsuGvkX7w/k1rgSlktzj+GU4hOOdfWP1m1P3WwOd4/AasNgtOP4j+XUJVeWbblPzdQz6Jvg+g/uvBkh4zr6j99NRQyxuTsP/FJcov7Zu4/Juk3u/Vr7z+VSynBge/vP5RLKcGB7+8/Jek3u/Vr7z/vSXKL+2buP381FDLG5Ow/uPBkh4zr6j86UM+ib4PoP5RQlV5ZtuU/BasNgtOP4j9TtT91sDneP45TiE4519Y/hVrgSlktzj807Lhr5F+8P8f6KM8qP5C/zUQPZF83wr+TgMIu6A3Rvy+L9Ofgudi/BwAAAAAA4L/PtAyRJ2Hjv9k+tXZ7cua/I+Da0Vgn6b+NWYuhmXTrv9pPCK/CUO2/V1DNmyq07r8DPbVwGZnvvwgHQCzg+++/XjTx7ufa779E8kaHuDbvvx4tUkL2Ee6/wPLvCVdx7L9dHHf9jlvqv2BSx9Q02ee/gVh3f5705L/M5tyRtrnhv4zJmF6Wa9y/RSGBd67u1L8x3qvaGjfKv/DI6KS5SbS/bSCwKKhcqD9zcwt+GjrGP2ZDY1G+ANM/uRLH2SiW2j9aLKDxB9/gPzsTccl8LeQ/uDkVSdQo5z9WMpEhxsTpP12hBPiS9us/X7HeqjC17T8kfxaOb/nuP2j6BgUYvu8/AAAAAAAA8D8=\",\"dtype\":\"float64\",\"order\":\"little\",\"shape\":[100]}},\"selected\":{\"id\":\"163981\"},\"selection_policy\":{\"id\":\"163980\"}},\"id\":\"163917\",\"type\":\"ColumnDataSource\"},{\"attributes\":{},\"id\":\"163887\",\"type\":\"DataRange1d\"},{\"attributes\":{\"children\":[[{\"id\":\"163849\"},0,0],[{\"id\":\"163886\"},0,1],[{\"id\":\"163923\"},1,0]]},\"id\":\"163996\",\"type\":\"GridBox\"},{\"attributes\":{\"source\":{\"id\":\"163917\"}},\"id\":\"163922\",\"type\":\"CDSView\"},{\"attributes\":{},\"id\":\"163889\",\"type\":\"DataRange1d\"},{\"attributes\":{},\"id\":\"163891\",\"type\":\"LinearScale\"},{\"attributes\":{\"coordinates\":null,\"formatter\":{\"id\":\"163978\"},\"group\":null,\"major_label_policy\":{\"id\":\"163979\"},\"ticker\":{\"id\":\"163896\"}},\"id\":\"163895\",\"type\":\"LinearAxis\"},{\"attributes\":{\"coordinates\":null,\"formatter\":{\"id\":\"163975\"},\"group\":null,\"major_label_policy\":{\"id\":\"163976\"},\"ticker\":{\"id\":\"163900\"}},\"id\":\"163899\",\"type\":\"LinearAxis\"},{\"attributes\":{},\"id\":\"163893\",\"type\":\"LinearScale\"},{\"attributes\":{},\"id\":\"163908\",\"type\":\"HelpTool\"},{\"attributes\":{},\"id\":\"163896\",\"type\":\"BasicTicker\"},{\"attributes\":{\"axis\":{\"id\":\"163895\"},\"coordinates\":null,\"group\":null,\"ticker\":null},\"id\":\"163898\",\"type\":\"Grid\"},{\"attributes\":{\"axis\":{\"id\":\"163899\"},\"coordinates\":null,\"dimension\":1,\"group\":null,\"ticker\":null},\"id\":\"163902\",\"type\":\"Grid\"},{\"attributes\":{},\"id\":\"163900\",\"type\":\"BasicTicker\"},{\"attributes\":{},\"id\":\"163904\",\"type\":\"WheelZoomTool\"},{\"attributes\":{},\"id\":\"163903\",\"type\":\"PanTool\"},{\"attributes\":{\"overlay\":{\"id\":\"163909\"}},\"id\":\"163905\",\"type\":\"BoxZoomTool\"},{\"attributes\":{},\"id\":\"163906\",\"type\":\"SaveTool\"},{\"attributes\":{},\"id\":\"163907\",\"type\":\"ResetTool\"},{\"attributes\":{\"bottom_units\":\"screen\",\"coordinates\":null,\"fill_alpha\":0.5,\"fill_color\":\"lightgrey\",\"group\":null,\"left_units\":\"screen\",\"level\":\"overlay\",\"line_alpha\":1.0,\"line_color\":\"black\",\"line_dash\":[4,4],\"line_width\":2,\"right_units\":\"screen\",\"syncable\":false,\"top_units\":\"screen\"},\"id\":\"163909\",\"type\":\"BoxAnnotation\"},{\"attributes\":{\"data\":{\"x\":{\"__ndarray__\":\"AAAAAAAAAACRGkt8Vz/AP5EaS3xXP9A/2qdwOgNf2D+RGkt8Vz/gPzXhXVstT+Q/2qdwOgNf6D9+boMZ2W7sP5EaS3xXP/A/433Ua0JH8j814V1bLU/0P4dE50oYV/Y/2qdwOgNf+D8sC/op7mb6P35ugxnZbvw/0NEMCcR2/j+RGkt8Vz8AQDrMD/RMQwFA433Ua0JHAkCML5njN0sDQDXhXVstTwRA3pIi0yJTBUCHROdKGFcGQDD2q8INWwdA2qdwOgNfCECDWTWy+GIJQCwL+inuZgpA1by+oeNqC0B+boMZ2W4MQCcgSJHOcg1A0NEMCcR2DkB5g9GAuXoPQJEaS3xXPxBAZnMtOFLBEEA6zA/0TEMRQA8l8q9HxRFA433Ua0JHEkC41rYnPckSQIwvmeM3SxNAYYh7nzLNE0A14V1bLU8UQAo6QBco0RRA3pIi0yJTFUCz6wSPHdUVQIdE50oYVxZAXJ3JBhPZFkAw9qvCDVsXQAVPjn4I3RdA2qdwOgNfGECuAFP2/eAYQINZNbL4YhlAV7IXbvPkGUAsC/op7mYaQABk3OXo6BpA1by+oeNqG0CpFaFd3uwbQH5ugxnZbhxAUsdl1dPwHEAnIEiRznIdQPt4Kk3J9B1A0NEMCcR2HkCkKu/EvvgeQHmD0YC5eh9ATdyzPLT8H0CRGkt8Vz8gQPtGPNpUgCBAZnMtOFLBIEDQnx6WTwIhQDrMD/RMQyFApPgAUkqEIUAPJfKvR8UhQHlR4w1FBiJA433Ua0JHIkBNqsXJP4giQLjWtic9ySJAIgOohToKI0CML5njN0sjQPZbikE1jCNAYYh7nzLNI0DLtGz9Lw4kQDXhXVstTyRAoA1PuSqQJEAKOkAXKNEkQHRmMXUlEiVA3pIi0yJTJUBJvxMxIJQlQLPrBI8d1SVAHRj27BoWJkCHROdKGFcmQPJw2KgVmCZAXJ3JBhPZJkDGybpkEBonQDD2q8INWydAmyKdIAucJ0AFT45+CN0nQG97f9wFHihA2qdwOgNfKEBE1GGYAKAoQK4AU/b94ChAGC1EVPshKUA=\",\"dtype\":\"float64\",\"order\":\"little\",\"shape\":[100]},\"y\":{\"__ndarray__\":\"AAAAAAAA8D+yzYPRkeXxP7ihgYdrgfM/rb0yquzM9D/245G2v8L1P87bFRfwXvY/2iiqbvqe9j/kKcny1oH2P2p9E6r9B/Y/t9rofWQz9T/V4vYmdwf0P338ARYJifI/RdfykkG+8D9ETRXIBF3tPyugTMuSxOg/JsOhHxvG4z8XRefmX+zcP4TfmO5l1dE/2IAW3tnTuT9YVAYbRxi0v26sY4ZobNC/kDyhvhiP278fJw0IIiDjv8rnndrvKei/4klI9jTQ7L9i6ms85X/wvyB3ITG5U/K/nEtETQ/c879kyJx6lxL1v3a2nZlS8vW/jCxGFqd39r9Ikzy8b6D2v7IbDo0EbPa/VCYsdD3b9b+XNIXNbvD0vyX2CM1fr/O/Ewqe7jod8r/hQKSueEDwv7KoVMWJQey/OkhCQL6N57//x2pm7XjivwmD/egKMNq/WFreULgEzr/Qjtyf0basv8DQmYTCjb8/YDFTHT090z9zKk7fyUfePwQ64frNauQ/Br4PG51d6T/UmpIn8OftPyz+X62J+/A/JAqwLSe98j/wrAGOlDH0P+CqQLrTUvU/YiQQQD0c9j8rs4V6k4r2Pw41lOsPnPY/TXYpjGpQ9j9uO9/02qj1P8SNeVoTqPQ/wTrZcjVS8z/dcSFwwazxPxnyVbD+fO8/vXE0K8Ye6z+6a09r11DmP/7dFbP8JuE/QJmw0PVs1z8YNwvg51bIP4A3qsMi+oY/tJyl3I19xb9gjLYfHAnWv+4O12hWfOC/dgkSnTaw5b/Eiyd/wIrqv1M5qN/19+6/bg/Nc81y8b9c/veZwCHzv4mZSz7lgfS/nqNH2pCN9b9BMd7bdED2vxjtFmOwl/a/lMBYHdyR9r+wHoMNEC/2vww2BinjcPW/M3KRy2Ra9L+mR1EcEPDyv8K/p5i5N/G/fKrPIO5w7r87P/7sBPXpv0iCivwvDuW/bUUVRECh3788RM3h1qPUv0S1wErRosK/wBtiTTs7oT9AtNpTsC7LP5z1ygVNz9g/audXAYjQ4T/buikNCPDmP2xZBmcMses//P//////7z8=\",\"dtype\":\"float64\",\"order\":\"little\",\"shape\":[100]}},\"selected\":{\"id\":\"163993\"},\"selection_policy\":{\"id\":\"163992\"}},\"id\":\"163954\",\"type\":\"ColumnDataSource\"},{\"attributes\":{},\"id\":\"163940\",\"type\":\"PanTool\"},{\"attributes\":{\"coordinates\":null,\"formatter\":{\"id\":\"163966\"},\"group\":null,\"major_label_policy\":{\"id\":\"163967\"},\"ticker\":{\"id\":\"163859\"}},\"id\":\"163858\",\"type\":\"LinearAxis\"},{\"attributes\":{\"toolbars\":[{\"id\":\"163873\"},{\"id\":\"163910\"},{\"id\":\"163947\"}],\"tools\":[{\"id\":\"163866\"},{\"id\":\"163867\"},{\"id\":\"163868\"},{\"id\":\"163869\"},{\"id\":\"163870\"},{\"id\":\"163871\"},{\"id\":\"163903\"},{\"id\":\"163904\"},{\"id\":\"163905\"},{\"id\":\"163906\"},{\"id\":\"163907\"},{\"id\":\"163908\"},{\"id\":\"163940\"},{\"id\":\"163941\"},{\"id\":\"163942\"},{\"id\":\"163943\"},{\"id\":\"163944\"},{\"id\":\"163945\"}]},\"id\":\"163997\",\"type\":\"ProxyToolbar\"},{\"attributes\":{\"below\":[{\"id\":\"163895\"}],\"center\":[{\"id\":\"163898\"},{\"id\":\"163902\"}],\"height\":250,\"left\":[{\"id\":\"163899\"}],\"renderers\":[{\"id\":\"163921\"}],\"title\":{\"id\":\"163972\"},\"toolbar\":{\"id\":\"163910\"},\"toolbar_location\":null,\"width\":250,\"x_range\":{\"id\":\"163887\"},\"x_scale\":{\"id\":\"163891\"},\"y_range\":{\"id\":\"163889\"},\"y_scale\":{\"id\":\"163893\"}},\"id\":\"163886\",\"subtype\":\"Figure\",\"type\":\"Plot\"},{\"attributes\":{},\"id\":\"163854\",\"type\":\"LinearScale\"},{\"attributes\":{\"axis\":{\"id\":\"163932\"},\"coordinates\":null,\"group\":null,\"ticker\":null},\"id\":\"163935\",\"type\":\"Grid\"},{\"attributes\":{\"below\":[{\"id\":\"163932\"}],\"center\":[{\"id\":\"163935\"},{\"id\":\"163939\"}],\"height\":250,\"left\":[{\"id\":\"163936\"}],\"renderers\":[{\"id\":\"163958\"}],\"title\":{\"id\":\"163984\"},\"toolbar\":{\"id\":\"163947\"},\"toolbar_location\":null,\"width\":250,\"x_range\":{\"id\":\"163924\"},\"x_scale\":{\"id\":\"163928\"},\"y_range\":{\"id\":\"163926\"},\"y_scale\":{\"id\":\"163930\"}},\"id\":\"163923\",\"subtype\":\"Figure\",\"type\":\"Plot\"},{\"attributes\":{},\"id\":\"163850\",\"type\":\"DataRange1d\"},{\"attributes\":{},\"id\":\"163930\",\"type\":\"LinearScale\"},{\"attributes\":{},\"id\":\"163852\",\"type\":\"DataRange1d\"},{\"attributes\":{},\"id\":\"163933\",\"type\":\"BasicTicker\"},{\"attributes\":{\"overlay\":{\"id\":\"163946\"}},\"id\":\"163942\",\"type\":\"BoxZoomTool\"},{\"attributes\":{\"axis\":{\"id\":\"163936\"},\"coordinates\":null,\"dimension\":1,\"group\":null,\"ticker\":null},\"id\":\"163939\",\"type\":\"Grid\"},{\"attributes\":{},\"id\":\"163937\",\"type\":\"BasicTicker\"},{\"attributes\":{\"coordinates\":null,\"formatter\":{\"id\":\"163990\"},\"group\":null,\"major_label_policy\":{\"id\":\"163991\"},\"ticker\":{\"id\":\"163933\"}},\"id\":\"163932\",\"type\":\"LinearAxis\"},{\"attributes\":{},\"id\":\"163928\",\"type\":\"LinearScale\"},{\"attributes\":{},\"id\":\"163941\",\"type\":\"WheelZoomTool\"},{\"attributes\":{},\"id\":\"163856\",\"type\":\"LinearScale\"},{\"attributes\":{\"tools\":[{\"id\":\"163940\"},{\"id\":\"163941\"},{\"id\":\"163942\"},{\"id\":\"163943\"},{\"id\":\"163944\"},{\"id\":\"163945\"}]},\"id\":\"163947\",\"type\":\"Toolbar\"},{\"attributes\":{\"coordinates\":null,\"formatter\":{\"id\":\"163963\"},\"group\":null,\"major_label_policy\":{\"id\":\"163964\"},\"ticker\":{\"id\":\"163863\"}},\"id\":\"163862\",\"type\":\"LinearAxis\"},{\"attributes\":{\"coordinates\":null,\"formatter\":{\"id\":\"163987\"},\"group\":null,\"major_label_policy\":{\"id\":\"163988\"},\"ticker\":{\"id\":\"163937\"}},\"id\":\"163936\",\"type\":\"LinearAxis\"},{\"attributes\":{},\"id\":\"163871\",\"type\":\"HelpTool\"},{\"attributes\":{\"fill_alpha\":{\"value\":0.2},\"fill_color\":{\"value\":\"#FDE724\"},\"hatch_alpha\":{\"value\":0.2},\"hatch_color\":{\"value\":\"#FDE724\"},\"line_alpha\":{\"value\":0.2},\"line_color\":{\"value\":\"#FDE724\"},\"size\":{\"value\":3},\"x\":{\"field\":\"x\"},\"y\":{\"field\":\"y\"}},\"id\":\"163957\",\"type\":\"Circle\"},{\"attributes\":{},\"id\":\"163859\",\"type\":\"BasicTicker\"},{\"attributes\":{\"axis\":{\"id\":\"163858\"},\"coordinates\":null,\"group\":null,\"ticker\":null},\"id\":\"163861\",\"type\":\"Grid\"},{\"attributes\":{\"axis\":{\"id\":\"163862\"},\"coordinates\":null,\"dimension\":1,\"group\":null,\"ticker\":null},\"id\":\"163865\",\"type\":\"Grid\"},{\"attributes\":{},\"id\":\"163863\",\"type\":\"BasicTicker\"},{\"attributes\":{},\"id\":\"163926\",\"type\":\"DataRange1d\"},{\"attributes\":{\"fill_alpha\":{\"value\":0.1},\"fill_color\":{\"value\":\"#FDE724\"},\"hatch_alpha\":{\"value\":0.1},\"hatch_color\":{\"value\":\"#FDE724\"},\"line_alpha\":{\"value\":0.1},\"line_color\":{\"value\":\"#FDE724\"},\"size\":{\"value\":3},\"x\":{\"field\":\"x\"},\"y\":{\"field\":\"y\"}},\"id\":\"163956\",\"type\":\"Circle\"},{\"attributes\":{},\"id\":\"163924\",\"type\":\"DataRange1d\"},{\"attributes\":{\"fill_color\":{\"value\":\"#FDE724\"},\"hatch_color\":{\"value\":\"#FDE724\"},\"line_color\":{\"value\":\"#FDE724\"},\"size\":{\"value\":3},\"x\":{\"field\":\"x\"},\"y\":{\"field\":\"y\"}},\"id\":\"163955\",\"type\":\"Circle\"},{\"attributes\":{\"fill_alpha\":{\"value\":0.2},\"fill_color\":{\"value\":\"#208F8C\"},\"hatch_alpha\":{\"value\":0.2},\"hatch_color\":{\"value\":\"#208F8C\"},\"line_alpha\":{\"value\":0.2},\"line_color\":{\"value\":\"#208F8C\"},\"size\":{\"value\":3},\"x\":{\"field\":\"x\"},\"y\":{\"field\":\"y\"}},\"id\":\"163920\",\"type\":\"Circle\"},{\"attributes\":{},\"id\":\"163943\",\"type\":\"SaveTool\"},{\"attributes\":{\"tools\":[{\"id\":\"163866\"},{\"id\":\"163867\"},{\"id\":\"163868\"},{\"id\":\"163869\"},{\"id\":\"163870\"},{\"id\":\"163871\"}]},\"id\":\"163873\",\"type\":\"Toolbar\"},{\"attributes\":{\"bottom_units\":\"screen\",\"coordinates\":null,\"fill_alpha\":0.5,\"fill_color\":\"lightgrey\",\"group\":null,\"left_units\":\"screen\",\"level\":\"overlay\",\"line_alpha\":1.0,\"line_color\":\"black\",\"line_dash\":[4,4],\"line_width\":2,\"right_units\":\"screen\",\"syncable\":false,\"top_units\":\"screen\"},\"id\":\"163872\",\"type\":\"BoxAnnotation\"},{\"attributes\":{\"coordinates\":null,\"data_source\":{\"id\":\"163917\"},\"glyph\":{\"id\":\"163918\"},\"group\":null,\"hover_glyph\":null,\"muted_glyph\":{\"id\":\"163920\"},\"nonselection_glyph\":{\"id\":\"163919\"},\"view\":{\"id\":\"163922\"}},\"id\":\"163921\",\"type\":\"GlyphRenderer\"},{\"attributes\":{\"fill_color\":{\"value\":\"#440154\"},\"hatch_color\":{\"value\":\"#440154\"},\"line_color\":{\"value\":\"#440154\"},\"size\":{\"value\":3},\"x\":{\"field\":\"x\"},\"y\":{\"field\":\"y\"}},\"id\":\"163881\",\"type\":\"Circle\"},{\"attributes\":{},\"id\":\"163870\",\"type\":\"ResetTool\"},{\"attributes\":{},\"id\":\"163869\",\"type\":\"SaveTool\"},{\"attributes\":{\"data\":{\"x\":{\"__ndarray__\":\"AAAAAAAAAACRGkt8Vz/AP5EaS3xXP9A/2qdwOgNf2D+RGkt8Vz/gPzXhXVstT+Q/2qdwOgNf6D9+boMZ2W7sP5EaS3xXP/A/433Ua0JH8j814V1bLU/0P4dE50oYV/Y/2qdwOgNf+D8sC/op7mb6P35ugxnZbvw/0NEMCcR2/j+RGkt8Vz8AQDrMD/RMQwFA433Ua0JHAkCML5njN0sDQDXhXVstTwRA3pIi0yJTBUCHROdKGFcGQDD2q8INWwdA2qdwOgNfCECDWTWy+GIJQCwL+inuZgpA1by+oeNqC0B+boMZ2W4MQCcgSJHOcg1A0NEMCcR2DkB5g9GAuXoPQJEaS3xXPxBAZnMtOFLBEEA6zA/0TEMRQA8l8q9HxRFA433Ua0JHEkC41rYnPckSQIwvmeM3SxNAYYh7nzLNE0A14V1bLU8UQAo6QBco0RRA3pIi0yJTFUCz6wSPHdUVQIdE50oYVxZAXJ3JBhPZFkAw9qvCDVsXQAVPjn4I3RdA2qdwOgNfGECuAFP2/eAYQINZNbL4YhlAV7IXbvPkGUAsC/op7mYaQABk3OXo6BpA1by+oeNqG0CpFaFd3uwbQH5ugxnZbhxAUsdl1dPwHEAnIEiRznIdQPt4Kk3J9B1A0NEMCcR2HkCkKu/EvvgeQHmD0YC5eh9ATdyzPLT8H0CRGkt8Vz8gQPtGPNpUgCBAZnMtOFLBIEDQnx6WTwIhQDrMD/RMQyFApPgAUkqEIUAPJfKvR8UhQHlR4w1FBiJA433Ua0JHIkBNqsXJP4giQLjWtic9ySJAIgOohToKI0CML5njN0sjQPZbikE1jCNAYYh7nzLNI0DLtGz9Lw4kQDXhXVstTyRAoA1PuSqQJEAKOkAXKNEkQHRmMXUlEiVA3pIi0yJTJUBJvxMxIJQlQLPrBI8d1SVAHRj27BoWJkCHROdKGFcmQPJw2KgVmCZAXJ3JBhPZJkDGybpkEBonQDD2q8INWydAmyKdIAucJ0AFT45+CN0nQG97f9wFHihA2qdwOgNfKEBE1GGYAKAoQK4AU/b94ChAGC1EVPshKUA=\",\"dtype\":\"float64\",\"order\":\"little\",\"shape\":[100]},\"y\":{\"__ndarray__\":\"AAAAAAAAAADwgwJ4LjTAP5qI2QHPEtA/+5MNU1HJ1z8ZTT7q2B3fP0aFmgwa+eI/ABg/lCAV5j+IQCEcMdboP3fOhmLzMOs/EyzujrQb7T/9Izwlj47uPxccgYyLg+8/g6xao7j27z9mZrL8O+bvP7+X94FZUu8/xVNiW3I97j9RB8Ai+6vsP5FWKYlppOo/oSg6uxkv6D/Sh2bxK1blPyZGRbpaJeI/8qg+VZVT3T/4C4p0qOPVP+UppLIiM8w/3FNHxZdVuD/J23zJpD6gv+3ENsZjOcS/wo12/ecH0r/dgWKM2KjZv2MTsJELcOC/83ixWvXH47+358MBZM7mv5eCD4nhdum/rExY6Hq267+TIxAn7YPtvwSssILL1+6/70I4BJ6s77/vOc8G+P7vvzTGy1KGze+/3176khQZ77/C8a4NiuTtvzGcHq/dNOy/l0FFlgER6r+EGZN4xoHnvx8WPFK3keS/Cli7+O1M4b+HQNqEwoHbv9kfIiFb+NO/gKyggGI5yL8EhrXMjDywvyGGtcyMPLA/jqyggGI5yD/gHyIhW/jTP4BA2oTCgds/DVi7+O1M4T8cFjxSt5HkP4cZk3jGgec/lUFFlgER6j8ynB6v3TTsP8Hxrg2K5O0/4F76khQZ7z80xstShs3vP+85zwb4/u8/8EI4BJ6s7z8DrLCCy9fuP5UjECftg+0/p0xY6Hq26z+Vgg+J4XbpP7fnwwFkzuY/9nixWvXH4z9dE7CRC3DgP9eBYozYqNk/w412/ecH0j/+xDbGYznEP0/bfMmkPqA/+FNHxZdVuL/UKaSyIjPMv+gLinSo49W/+Kg+VZVT3b8lRkW6WiXiv8+HZvErVuW/pig6uxkv6L+TVimJaaTqv1EHwCL7q+y/xFNiW3I97r/Al/eBWVLvv2Zmsvw75u+/g6xao7j2778YHIGMi4Pvv/sjPCWPju6/EyzujrQb7b94zoZi8zDrv4xAIRwx1ui//Bc/lCAV5r9GhZoMGvnivx5NPurYHd+/65MNU1HJ17+SiNkBzxLQv/GDAnguNMC/B1wUMyamwbw=\",\"dtype\":\"float64\",\"order\":\"little\",\"shape\":[100]}},\"selected\":{\"id\":\"163969\"},\"selection_policy\":{\"id\":\"163968\"}},\"id\":\"163880\",\"type\":\"ColumnDataSource\"},{\"attributes\":{\"overlay\":{\"id\":\"163872\"}},\"id\":\"163868\",\"type\":\"BoxZoomTool\"},{\"attributes\":{\"coordinates\":null,\"data_source\":{\"id\":\"163954\"},\"glyph\":{\"id\":\"163955\"},\"group\":null,\"hover_glyph\":null,\"muted_glyph\":{\"id\":\"163957\"},\"nonselection_glyph\":{\"id\":\"163956\"},\"view\":{\"id\":\"163959\"}},\"id\":\"163958\",\"type\":\"GlyphRenderer\"},{\"attributes\":{},\"id\":\"163866\",\"type\":\"PanTool\"},{\"attributes\":{},\"id\":\"163867\",\"type\":\"WheelZoomTool\"},{\"attributes\":{\"fill_alpha\":{\"value\":0.1},\"fill_color\":{\"value\":\"#208F8C\"},\"hatch_alpha\":{\"value\":0.1},\"hatch_color\":{\"value\":\"#208F8C\"},\"line_alpha\":{\"value\":0.1},\"line_color\":{\"value\":\"#208F8C\"},\"size\":{\"value\":3},\"x\":{\"field\":\"x\"},\"y\":{\"field\":\"y\"}},\"id\":\"163919\",\"type\":\"Circle\"},{\"attributes\":{\"below\":[{\"id\":\"163858\"}],\"center\":[{\"id\":\"163861\"},{\"id\":\"163865\"}],\"height\":250,\"left\":[{\"id\":\"163862\"}],\"renderers\":[{\"id\":\"163884\"}],\"title\":{\"id\":\"163960\"},\"toolbar\":{\"id\":\"163873\"},\"toolbar_location\":null,\"width\":250,\"x_range\":{\"id\":\"163850\"},\"x_scale\":{\"id\":\"163854\"},\"y_range\":{\"id\":\"163852\"},\"y_scale\":{\"id\":\"163856\"}},\"id\":\"163849\",\"subtype\":\"Figure\",\"type\":\"Plot\"},{\"attributes\":{\"tools\":[{\"id\":\"163903\"},{\"id\":\"163904\"},{\"id\":\"163905\"},{\"id\":\"163906\"},{\"id\":\"163907\"},{\"id\":\"163908\"}]},\"id\":\"163910\",\"type\":\"Toolbar\"}],\"root_ids\":[\"163999\"]},\"title\":\"Bokeh Application\",\"version\":\"2.4.3\"}};\n",
       "  const render_items = [{\"docid\":\"5e899b05-418a-449e-a76a-28a8cba1d6e3\",\"root_ids\":[\"163999\"],\"roots\":{\"163999\":\"ce7069a7-6203-4b35-ae8b-2d825cc55c9a\"}}];\n",
       "  root.Bokeh.embed.embed_items_notebook(docs_json, render_items);\n",
       "  }\n",
       "  if (root.Bokeh !== undefined) {\n",
       "    embed_document(root);\n",
       "  } else {\n",
       "    let attempts = 0;\n",
       "    const timer = setInterval(function(root) {\n",
       "      if (root.Bokeh !== undefined) {\n",
       "        clearInterval(timer);\n",
       "        embed_document(root);\n",
       "      } else {\n",
       "        attempts++;\n",
       "        if (attempts > 100) {\n",
       "          clearInterval(timer);\n",
       "          console.log(\"Bokeh: ERROR: Unable to run BokehJS code because BokehJS library is missing\");\n",
       "        }\n",
       "      }\n",
       "    }, 10, root)\n",
       "  }\n",
       "})(window);"
      ],
      "application/vnd.bokehjs_exec.v0+json": ""
     },
     "metadata": {
      "application/vnd.bokehjs_exec.v0+json": {
       "id": "163999"
      }
     },
     "output_type": "display_data"
    }
   ],
   "source": [
    "N = 100\n",
    "x = np.linspace(0, 4*np.pi, N)\n",
    "y0 = np.sin(x)\n",
    "y1 = np.cos(x)\n",
    "y2 = np.sin(x) + np.cos(x)\n",
    "\n",
    "# create three plots\n",
    "s1 = figure()\n",
    "s1.circle(x, y0, size=3, color=Viridis3[0])\n",
    "s2 = figure()\n",
    "s2.circle(x, y1, size=3, color=Viridis3[1])\n",
    "s3 = figure()\n",
    "s3.circle(x, y2, size=3, color=Viridis3[2])\n",
    "\n",
    "# make a grid\n",
    "grid = gridplot([s1, s2, s3], ncols=2, width=250, height=250)\n",
    "\n",
    "# show the results\n",
    "show(grid)"
   ]
  },
  {
   "cell_type": "markdown",
   "metadata": {},
   "source": [
    "### Linked panning and brushing\n",
    "\n",
    "Linking together various aspects of different plots can be a useful technique for data visualization. In Bokeh, such linkages are typically accomplished by sharing some plot component between plots. Below is an example that demonstrates linked panning (where changing the range of one plot causes others to update) by sharing range objects between the plots. Some other things to look out for in this example:\n",
    "\n",
    "- calling `figure()` multiple times to create multiple plots\n",
    "- using `gridplot()` to arrange several plots in an array\n",
    "- showing new glyphs using new glyph methods Figure.triangle and Figure.square\n",
    "- hiding the toolbar by setting toolbar_location to None\n",
    "- setting convenience arguments color (sets both line_color and fill_color) and alpha (sets both line_alpha and fill_alpha)\n"
   ]
  },
  {
   "cell_type": "code",
   "execution_count": 230,
   "metadata": {},
   "outputs": [
    {
     "data": {
      "text/html": [
       "\n",
       "  <div class=\"bk-root\" id=\"9db75c95-dc50-4125-a4f8-3ca1a0c26ba7\" data-root-id=\"166172\"></div>\n"
      ]
     },
     "metadata": {},
     "output_type": "display_data"
    },
    {
     "data": {
      "application/javascript": [
       "(function(root) {\n",
       "  function embed_document(root) {\n",
       "  const docs_json = {\"2ca5fff5-7eff-4fa9-ad51-7bb6cd8504e5\":{\"defs\":[],\"roots\":{\"references\":[{\"attributes\":{\"children\":[[{\"id\":\"166028\"},0,0],[{\"id\":\"166066\"},0,1],[{\"id\":\"166102\"},0,2]]},\"id\":\"166172\",\"type\":\"GridBox\"},{\"attributes\":{\"coordinates\":null,\"formatter\":{\"id\":\"166141\"},\"group\":null,\"major_label_policy\":{\"id\":\"166142\"},\"ticker\":{\"id\":\"166043\"}},\"id\":\"166042\",\"type\":\"LinearAxis\"},{\"attributes\":{},\"id\":\"166051\",\"type\":\"HelpTool\"},{\"attributes\":{\"axis\":{\"id\":\"166042\"},\"coordinates\":null,\"dimension\":1,\"group\":null,\"ticker\":null},\"id\":\"166045\",\"type\":\"Grid\"},{\"attributes\":{},\"id\":\"166043\",\"type\":\"BasicTicker\"},{\"attributes\":{},\"id\":\"166047\",\"type\":\"WheelZoomTool\"},{\"attributes\":{},\"id\":\"166046\",\"type\":\"PanTool\"},{\"attributes\":{\"overlay\":{\"id\":\"166052\"}},\"id\":\"166048\",\"type\":\"BoxZoomTool\"},{\"attributes\":{},\"id\":\"166049\",\"type\":\"SaveTool\"},{\"attributes\":{},\"id\":\"166050\",\"type\":\"ResetTool\"},{\"attributes\":{\"tools\":[{\"id\":\"166046\"},{\"id\":\"166047\"},{\"id\":\"166048\"},{\"id\":\"166049\"},{\"id\":\"166050\"},{\"id\":\"166051\"}]},\"id\":\"166053\",\"type\":\"Toolbar\"},{\"attributes\":{\"source\":{\"id\":\"166096\"}},\"id\":\"166101\",\"type\":\"CDSView\"},{\"attributes\":{},\"id\":\"166124\",\"type\":\"HelpTool\"},{\"attributes\":{},\"id\":\"166167\",\"type\":\"AllLabels\"},{\"attributes\":{},\"id\":\"166070\",\"type\":\"LinearScale\"},{\"attributes\":{},\"id\":\"166157\",\"type\":\"UnionRenderers\"},{\"attributes\":{},\"id\":\"166123\",\"type\":\"ResetTool\"},{\"attributes\":{\"source\":{\"id\":\"166060\"}},\"id\":\"166065\",\"type\":\"CDSView\"},{\"attributes\":{},\"id\":\"166158\",\"type\":\"Selection\"},{\"attributes\":{\"fill_alpha\":{\"value\":0.5},\"fill_color\":{\"value\":\"navy\"},\"hatch_alpha\":{\"value\":0.5},\"hatch_color\":{\"value\":\"navy\"},\"line_alpha\":{\"value\":0.5},\"line_color\":{\"value\":\"navy\"},\"size\":{\"value\":3},\"x\":{\"field\":\"x\"},\"y\":{\"field\":\"y\"}},\"id\":\"166061\",\"type\":\"Circle\"},{\"attributes\":{\"bottom_units\":\"screen\",\"coordinates\":null,\"fill_alpha\":0.5,\"fill_color\":\"lightgrey\",\"group\":null,\"left_units\":\"screen\",\"level\":\"overlay\",\"line_alpha\":1.0,\"line_color\":\"black\",\"line_dash\":[4,4],\"line_width\":2,\"right_units\":\"screen\",\"syncable\":false,\"top_units\":\"screen\"},\"id\":\"166125\",\"type\":\"BoxAnnotation\"},{\"attributes\":{\"coordinates\":null,\"data_source\":{\"id\":\"166060\"},\"glyph\":{\"id\":\"166061\"},\"group\":null,\"hover_glyph\":null,\"muted_glyph\":{\"id\":\"166063\"},\"nonselection_glyph\":{\"id\":\"166062\"},\"view\":{\"id\":\"166065\"}},\"id\":\"166064\",\"type\":\"GlyphRenderer\"},{\"attributes\":{\"data\":{\"x\":{\"__ndarray__\":\"AAAAAAAAAACRGkt8Vz/AP5EaS3xXP9A/2qdwOgNf2D+RGkt8Vz/gPzXhXVstT+Q/2qdwOgNf6D9+boMZ2W7sP5EaS3xXP/A/433Ua0JH8j814V1bLU/0P4dE50oYV/Y/2qdwOgNf+D8sC/op7mb6P35ugxnZbvw/0NEMCcR2/j+RGkt8Vz8AQDrMD/RMQwFA433Ua0JHAkCML5njN0sDQDXhXVstTwRA3pIi0yJTBUCHROdKGFcGQDD2q8INWwdA2qdwOgNfCECDWTWy+GIJQCwL+inuZgpA1by+oeNqC0B+boMZ2W4MQCcgSJHOcg1A0NEMCcR2DkB5g9GAuXoPQJEaS3xXPxBAZnMtOFLBEEA6zA/0TEMRQA8l8q9HxRFA433Ua0JHEkC41rYnPckSQIwvmeM3SxNAYYh7nzLNE0A14V1bLU8UQAo6QBco0RRA3pIi0yJTFUCz6wSPHdUVQIdE50oYVxZAXJ3JBhPZFkAw9qvCDVsXQAVPjn4I3RdA2qdwOgNfGECuAFP2/eAYQINZNbL4YhlAV7IXbvPkGUAsC/op7mYaQABk3OXo6BpA1by+oeNqG0CpFaFd3uwbQH5ugxnZbhxAUsdl1dPwHEAnIEiRznIdQPt4Kk3J9B1A0NEMCcR2HkCkKu/EvvgeQHmD0YC5eh9ATdyzPLT8H0CRGkt8Vz8gQPtGPNpUgCBAZnMtOFLBIEDQnx6WTwIhQDrMD/RMQyFApPgAUkqEIUAPJfKvR8UhQHlR4w1FBiJA433Ua0JHIkBNqsXJP4giQLjWtic9ySJAIgOohToKI0CML5njN0sjQPZbikE1jCNAYYh7nzLNI0DLtGz9Lw4kQDXhXVstTyRAoA1PuSqQJEAKOkAXKNEkQHRmMXUlEiVA3pIi0yJTJUBJvxMxIJQlQLPrBI8d1SVAHRj27BoWJkCHROdKGFcmQPJw2KgVmCZAXJ3JBhPZJkDGybpkEBonQDD2q8INWydAmyKdIAucJ0AFT45+CN0nQG97f9wFHihA2qdwOgNfKEBE1GGYAKAoQK4AU/b94ChAGC1EVPshKUA=\",\"dtype\":\"float64\",\"order\":\"little\",\"shape\":[100]},\"y\":{\"__ndarray__\":\"AAAAAAAAAADwgwJ4LjTAP5qI2QHPEtA/+5MNU1HJ1z8ZTT7q2B3fP0aFmgwa+eI/ABg/lCAV5j+IQCEcMdboP3fOhmLzMOs/EyzujrQb7T/9Izwlj47uPxccgYyLg+8/g6xao7j27z9mZrL8O+bvP7+X94FZUu8/xVNiW3I97j9RB8Ai+6vsP5FWKYlppOo/oSg6uxkv6D/Sh2bxK1blPyZGRbpaJeI/8qg+VZVT3T/4C4p0qOPVP+UppLIiM8w/3FNHxZdVuD/J23zJpD6gv+3ENsZjOcS/wo12/ecH0r/dgWKM2KjZv2MTsJELcOC/83ixWvXH47+358MBZM7mv5eCD4nhdum/rExY6Hq267+TIxAn7YPtvwSssILL1+6/70I4BJ6s77/vOc8G+P7vvzTGy1KGze+/3176khQZ77/C8a4NiuTtvzGcHq/dNOy/l0FFlgER6r+EGZN4xoHnvx8WPFK3keS/Cli7+O1M4b+HQNqEwoHbv9kfIiFb+NO/gKyggGI5yL8EhrXMjDywvyGGtcyMPLA/jqyggGI5yD/gHyIhW/jTP4BA2oTCgds/DVi7+O1M4T8cFjxSt5HkP4cZk3jGgec/lUFFlgER6j8ynB6v3TTsP8Hxrg2K5O0/4F76khQZ7z80xstShs3vP+85zwb4/u8/8EI4BJ6s7z8DrLCCy9fuP5UjECftg+0/p0xY6Hq26z+Vgg+J4XbpP7fnwwFkzuY/9nixWvXH4z9dE7CRC3DgP9eBYozYqNk/w412/ecH0j/+xDbGYznEP0/bfMmkPqA/+FNHxZdVuL/UKaSyIjPMv+gLinSo49W/+Kg+VZVT3b8lRkW6WiXiv8+HZvErVuW/pig6uxkv6L+TVimJaaTqv1EHwCL7q+y/xFNiW3I97r/Al/eBWVLvv2Zmsvw75u+/g6xao7j2778YHIGMi4Pvv/sjPCWPju6/EyzujrQb7b94zoZi8zDrv4xAIRwx1ui//Bc/lCAV5r9GhZoMGvnivx5NPurYHd+/65MNU1HJ17+SiNkBzxLQv/GDAnguNMC/B1wUMyamwbw=\",\"dtype\":\"float64\",\"order\":\"little\",\"shape\":[100]}},\"selected\":{\"id\":\"166147\"},\"selection_policy\":{\"id\":\"166146\"}},\"id\":\"166060\",\"type\":\"ColumnDataSource\"},{\"attributes\":{\"fill_alpha\":{\"value\":0.2},\"fill_color\":{\"value\":\"navy\"},\"hatch_alpha\":{\"value\":0.2},\"hatch_color\":{\"value\":\"navy\"},\"line_alpha\":{\"value\":0.2},\"line_color\":{\"value\":\"navy\"},\"size\":{\"value\":3},\"x\":{\"field\":\"x\"},\"y\":{\"field\":\"y\"}},\"id\":\"166063\",\"type\":\"Circle\"},{\"attributes\":{\"fill_alpha\":{\"value\":0.2},\"fill_color\":{\"value\":\"olive\"},\"hatch_alpha\":{\"value\":0.2},\"hatch_color\":{\"value\":\"olive\"},\"line_alpha\":{\"value\":0.2},\"line_color\":{\"value\":\"olive\"},\"size\":{\"value\":3},\"x\":{\"field\":\"x\"},\"y\":{\"field\":\"y\"}},\"id\":\"166136\",\"type\":\"Circle\"},{\"attributes\":{\"fill_alpha\":{\"value\":0.5},\"fill_color\":{\"value\":\"firebrick\"},\"hatch_alpha\":{\"value\":0.5},\"hatch_color\":{\"value\":\"firebrick\"},\"line_alpha\":{\"value\":0.5},\"line_color\":{\"value\":\"firebrick\"},\"size\":{\"value\":3},\"x\":{\"field\":\"x\"},\"y\":{\"field\":\"y\"}},\"id\":\"166097\",\"type\":\"Circle\"},{\"attributes\":{\"fill_alpha\":{\"value\":0.1},\"fill_color\":{\"value\":\"navy\"},\"hatch_alpha\":{\"value\":0.1},\"hatch_color\":{\"value\":\"navy\"},\"line_alpha\":{\"value\":0.1},\"line_color\":{\"value\":\"navy\"},\"size\":{\"value\":3},\"x\":{\"field\":\"x\"},\"y\":{\"field\":\"y\"}},\"id\":\"166062\",\"type\":\"Circle\"},{\"attributes\":{},\"id\":\"166146\",\"type\":\"UnionRenderers\"},{\"attributes\":{\"below\":[{\"id\":\"166038\"}],\"center\":[{\"id\":\"166041\"},{\"id\":\"166045\"}],\"height\":250,\"left\":[{\"id\":\"166042\"}],\"renderers\":[{\"id\":\"166064\"}],\"title\":null,\"toolbar\":{\"id\":\"166053\"},\"toolbar_location\":null,\"width\":250,\"x_range\":{\"id\":\"166030\"},\"x_scale\":{\"id\":\"166034\"},\"y_range\":{\"id\":\"166032\"},\"y_scale\":{\"id\":\"166036\"}},\"id\":\"166028\",\"subtype\":\"Figure\",\"type\":\"Plot\"},{\"attributes\":{\"data\":{\"x\":{\"__ndarray__\":\"AAAAAAAAAACRGkt8Vz/AP5EaS3xXP9A/2qdwOgNf2D+RGkt8Vz/gPzXhXVstT+Q/2qdwOgNf6D9+boMZ2W7sP5EaS3xXP/A/433Ua0JH8j814V1bLU/0P4dE50oYV/Y/2qdwOgNf+D8sC/op7mb6P35ugxnZbvw/0NEMCcR2/j+RGkt8Vz8AQDrMD/RMQwFA433Ua0JHAkCML5njN0sDQDXhXVstTwRA3pIi0yJTBUCHROdKGFcGQDD2q8INWwdA2qdwOgNfCECDWTWy+GIJQCwL+inuZgpA1by+oeNqC0B+boMZ2W4MQCcgSJHOcg1A0NEMCcR2DkB5g9GAuXoPQJEaS3xXPxBAZnMtOFLBEEA6zA/0TEMRQA8l8q9HxRFA433Ua0JHEkC41rYnPckSQIwvmeM3SxNAYYh7nzLNE0A14V1bLU8UQAo6QBco0RRA3pIi0yJTFUCz6wSPHdUVQIdE50oYVxZAXJ3JBhPZFkAw9qvCDVsXQAVPjn4I3RdA2qdwOgNfGECuAFP2/eAYQINZNbL4YhlAV7IXbvPkGUAsC/op7mYaQABk3OXo6BpA1by+oeNqG0CpFaFd3uwbQH5ugxnZbhxAUsdl1dPwHEAnIEiRznIdQPt4Kk3J9B1A0NEMCcR2HkCkKu/EvvgeQHmD0YC5eh9ATdyzPLT8H0CRGkt8Vz8gQPtGPNpUgCBAZnMtOFLBIEDQnx6WTwIhQDrMD/RMQyFApPgAUkqEIUAPJfKvR8UhQHlR4w1FBiJA433Ua0JHIkBNqsXJP4giQLjWtic9ySJAIgOohToKI0CML5njN0sjQPZbikE1jCNAYYh7nzLNI0DLtGz9Lw4kQDXhXVstTyRAoA1PuSqQJEAKOkAXKNEkQHRmMXUlEiVA3pIi0yJTJUBJvxMxIJQlQLPrBI8d1SVAHRj27BoWJkCHROdKGFcmQPJw2KgVmCZAXJ3JBhPZJkDGybpkEBonQDD2q8INWydAmyKdIAucJ0AFT45+CN0nQG97f9wFHihA2qdwOgNfKEBE1GGYAKAoQK4AU/b94ChAGC1EVPshKUA=\",\"dtype\":\"float64\",\"order\":\"little\",\"shape\":[100]},\"y\":{\"__ndarray__\":\"AAAAAAAA8D9o+gYFGL7vPyN/Fo5v+e4/XLHeqjC17T9foQT4kvbrP1YykSHGxOk/tTkVSdQo5z9AE3HJfC3kP1wsoPEH3+A/thLH2SiW2j9bQ2NRvgDTP4xzC34aOsY/cyCwKKhcqD8MyeikuUm0v0/eq9oaN8q/PSGBd67u1L+LyZhelmvcv8/m3JG2ueG/hlh3f5705L9dUsfUNNnnv10cd/2OW+q/wfLvCVdx7L8bLVJC9hHuv0PyRoe4Nu+/XjTx7ufa778HB0As4PvvvwQ9tXAZme+/V1DNmyq07r/ZTwivwlDtv4lZi6GZdOu/JeDa0Vgn6b/aPrV2e3Lmv8y0DJEnYeO/+f//////3783i/Tn4LnYv4yAwi7oDdG/3kQPZF83wr9U+ijPKj+QvxHsuGvkX7w/k1rgSlktzj+GU4hOOdfWP1m1P3WwOd4/AasNgtOP4j+XUJVeWbblPzdQz6Jvg+g/uvBkh4zr6j99NRQyxuTsP/FJcov7Zu4/Juk3u/Vr7z+VSynBge/vP5RLKcGB7+8/Jek3u/Vr7z/vSXKL+2buP381FDLG5Ow/uPBkh4zr6j86UM+ib4PoP5RQlV5ZtuU/BasNgtOP4j9TtT91sDneP45TiE4519Y/hVrgSlktzj807Lhr5F+8P8f6KM8qP5C/zUQPZF83wr+TgMIu6A3Rvy+L9Ofgudi/BwAAAAAA4L/PtAyRJ2Hjv9k+tXZ7cua/I+Da0Vgn6b+NWYuhmXTrv9pPCK/CUO2/V1DNmyq07r8DPbVwGZnvvwgHQCzg+++/XjTx7ufa779E8kaHuDbvvx4tUkL2Ee6/wPLvCVdx7L9dHHf9jlvqv2BSx9Q02ee/gVh3f5705L/M5tyRtrnhv4zJmF6Wa9y/RSGBd67u1L8x3qvaGjfKv/DI6KS5SbS/bSCwKKhcqD9zcwt+GjrGP2ZDY1G+ANM/uRLH2SiW2j9aLKDxB9/gPzsTccl8LeQ/uDkVSdQo5z9WMpEhxsTpP12hBPiS9us/X7HeqjC17T8kfxaOb/nuP2j6BgUYvu8/AAAAAAAA8D8=\",\"dtype\":\"float64\",\"order\":\"little\",\"shape\":[100]}},\"selected\":{\"id\":\"166158\"},\"selection_policy\":{\"id\":\"166157\"}},\"id\":\"166096\",\"type\":\"ColumnDataSource\"},{\"attributes\":{},\"id\":\"166168\",\"type\":\"UnionRenderers\"},{\"attributes\":{},\"id\":\"166072\",\"type\":\"LinearScale\"},{\"attributes\":{},\"id\":\"166036\",\"type\":\"LinearScale\"},{\"attributes\":{\"coordinates\":null,\"formatter\":{\"id\":\"166155\"},\"group\":null,\"major_label_policy\":{\"id\":\"166156\"},\"ticker\":{\"id\":\"166075\"}},\"id\":\"166074\",\"type\":\"LinearAxis\"},{\"attributes\":{},\"id\":\"166075\",\"type\":\"BasicTicker\"},{\"attributes\":{},\"id\":\"166169\",\"type\":\"Selection\"},{\"attributes\":{\"coordinates\":null,\"formatter\":{\"id\":\"166152\"},\"group\":null,\"major_label_policy\":{\"id\":\"166153\"},\"ticker\":{\"id\":\"166079\"}},\"id\":\"166078\",\"type\":\"LinearAxis\"},{\"attributes\":{\"fill_alpha\":{\"value\":0.5},\"fill_color\":{\"value\":\"olive\"},\"hatch_alpha\":{\"value\":0.5},\"hatch_color\":{\"value\":\"olive\"},\"line_alpha\":{\"value\":0.5},\"line_color\":{\"value\":\"olive\"},\"size\":{\"value\":3},\"x\":{\"field\":\"x\"},\"y\":{\"field\":\"y\"}},\"id\":\"166134\",\"type\":\"Circle\"},{\"attributes\":{},\"id\":\"166087\",\"type\":\"HelpTool\"},{\"attributes\":{\"below\":[{\"id\":\"166111\"}],\"center\":[{\"id\":\"166114\"},{\"id\":\"166118\"}],\"height\":250,\"left\":[{\"id\":\"166115\"}],\"renderers\":[{\"id\":\"166137\"}],\"title\":null,\"toolbar\":{\"id\":\"166126\"},\"toolbar_location\":null,\"width\":250,\"x_range\":{\"id\":\"166030\"},\"x_scale\":{\"id\":\"166107\"},\"y_range\":{\"id\":\"166105\"},\"y_scale\":{\"id\":\"166109\"}},\"id\":\"166102\",\"subtype\":\"Figure\",\"type\":\"Plot\"},{\"attributes\":{\"axis\":{\"id\":\"166074\"},\"coordinates\":null,\"group\":null,\"ticker\":null},\"id\":\"166077\",\"type\":\"Grid\"},{\"attributes\":{\"source\":{\"id\":\"166133\"}},\"id\":\"166138\",\"type\":\"CDSView\"},{\"attributes\":{},\"id\":\"166032\",\"type\":\"DataRange1d\"},{\"attributes\":{\"axis\":{\"id\":\"166078\"},\"coordinates\":null,\"dimension\":1,\"group\":null,\"ticker\":null},\"id\":\"166081\",\"type\":\"Grid\"},{\"attributes\":{},\"id\":\"166079\",\"type\":\"BasicTicker\"},{\"attributes\":{\"below\":[{\"id\":\"166074\"}],\"center\":[{\"id\":\"166077\"},{\"id\":\"166081\"}],\"height\":250,\"left\":[{\"id\":\"166078\"}],\"renderers\":[{\"id\":\"166100\"}],\"title\":null,\"toolbar\":{\"id\":\"166089\"},\"toolbar_location\":null,\"width\":250,\"x_range\":{\"id\":\"166030\"},\"x_scale\":{\"id\":\"166070\"},\"y_range\":{\"id\":\"166032\"},\"y_scale\":{\"id\":\"166072\"}},\"id\":\"166066\",\"subtype\":\"Figure\",\"type\":\"Plot\"},{\"attributes\":{\"tools\":[{\"id\":\"166119\"},{\"id\":\"166120\"},{\"id\":\"166121\"},{\"id\":\"166122\"},{\"id\":\"166123\"},{\"id\":\"166124\"}]},\"id\":\"166126\",\"type\":\"Toolbar\"},{\"attributes\":{},\"id\":\"166083\",\"type\":\"WheelZoomTool\"},{\"attributes\":{},\"id\":\"166082\",\"type\":\"PanTool\"},{\"attributes\":{\"data\":{\"x\":{\"__ndarray__\":\"AAAAAAAAAACRGkt8Vz/AP5EaS3xXP9A/2qdwOgNf2D+RGkt8Vz/gPzXhXVstT+Q/2qdwOgNf6D9+boMZ2W7sP5EaS3xXP/A/433Ua0JH8j814V1bLU/0P4dE50oYV/Y/2qdwOgNf+D8sC/op7mb6P35ugxnZbvw/0NEMCcR2/j+RGkt8Vz8AQDrMD/RMQwFA433Ua0JHAkCML5njN0sDQDXhXVstTwRA3pIi0yJTBUCHROdKGFcGQDD2q8INWwdA2qdwOgNfCECDWTWy+GIJQCwL+inuZgpA1by+oeNqC0B+boMZ2W4MQCcgSJHOcg1A0NEMCcR2DkB5g9GAuXoPQJEaS3xXPxBAZnMtOFLBEEA6zA/0TEMRQA8l8q9HxRFA433Ua0JHEkC41rYnPckSQIwvmeM3SxNAYYh7nzLNE0A14V1bLU8UQAo6QBco0RRA3pIi0yJTFUCz6wSPHdUVQIdE50oYVxZAXJ3JBhPZFkAw9qvCDVsXQAVPjn4I3RdA2qdwOgNfGECuAFP2/eAYQINZNbL4YhlAV7IXbvPkGUAsC/op7mYaQABk3OXo6BpA1by+oeNqG0CpFaFd3uwbQH5ugxnZbhxAUsdl1dPwHEAnIEiRznIdQPt4Kk3J9B1A0NEMCcR2HkCkKu/EvvgeQHmD0YC5eh9ATdyzPLT8H0CRGkt8Vz8gQPtGPNpUgCBAZnMtOFLBIEDQnx6WTwIhQDrMD/RMQyFApPgAUkqEIUAPJfKvR8UhQHlR4w1FBiJA433Ua0JHIkBNqsXJP4giQLjWtic9ySJAIgOohToKI0CML5njN0sjQPZbikE1jCNAYYh7nzLNI0DLtGz9Lw4kQDXhXVstTyRAoA1PuSqQJEAKOkAXKNEkQHRmMXUlEiVA3pIi0yJTJUBJvxMxIJQlQLPrBI8d1SVAHRj27BoWJkCHROdKGFcmQPJw2KgVmCZAXJ3JBhPZJkDGybpkEBonQDD2q8INWydAmyKdIAucJ0AFT45+CN0nQG97f9wFHihA2qdwOgNfKEBE1GGYAKAoQK4AU/b94ChAGC1EVPshKUA=\",\"dtype\":\"float64\",\"order\":\"little\",\"shape\":[100]},\"y\":{\"__ndarray__\":\"AAAAAAAA8D+yzYPRkeXxP7ihgYdrgfM/rb0yquzM9D/245G2v8L1P87bFRfwXvY/2iiqbvqe9j/kKcny1oH2P2p9E6r9B/Y/t9rofWQz9T/V4vYmdwf0P338ARYJifI/RdfykkG+8D9ETRXIBF3tPyugTMuSxOg/JsOhHxvG4z8XRefmX+zcP4TfmO5l1dE/2IAW3tnTuT9YVAYbRxi0v26sY4ZobNC/kDyhvhiP278fJw0IIiDjv8rnndrvKei/4klI9jTQ7L9i6ms85X/wvyB3ITG5U/K/nEtETQ/c879kyJx6lxL1v3a2nZlS8vW/jCxGFqd39r9Ikzy8b6D2v7IbDo0EbPa/VCYsdD3b9b+XNIXNbvD0vyX2CM1fr/O/Ewqe7jod8r/hQKSueEDwv7KoVMWJQey/OkhCQL6N57//x2pm7XjivwmD/egKMNq/WFreULgEzr/Qjtyf0basv8DQmYTCjb8/YDFTHT090z9zKk7fyUfePwQ64frNauQ/Br4PG51d6T/UmpIn8OftPyz+X62J+/A/JAqwLSe98j/wrAGOlDH0P+CqQLrTUvU/YiQQQD0c9j8rs4V6k4r2Pw41lOsPnPY/TXYpjGpQ9j9uO9/02qj1P8SNeVoTqPQ/wTrZcjVS8z/dcSFwwazxPxnyVbD+fO8/vXE0K8Ye6z+6a09r11DmP/7dFbP8JuE/QJmw0PVs1z8YNwvg51bIP4A3qsMi+oY/tJyl3I19xb9gjLYfHAnWv+4O12hWfOC/dgkSnTaw5b/Eiyd/wIrqv1M5qN/19+6/bg/Nc81y8b9c/veZwCHzv4mZSz7lgfS/nqNH2pCN9b9BMd7bdED2vxjtFmOwl/a/lMBYHdyR9r+wHoMNEC/2vww2BinjcPW/M3KRy2Ra9L+mR1EcEPDyv8K/p5i5N/G/fKrPIO5w7r87P/7sBPXpv0iCivwvDuW/bUUVRECh3788RM3h1qPUv0S1wErRosK/wBtiTTs7oT9AtNpTsC7LP5z1ygVNz9g/audXAYjQ4T/buikNCPDmP2xZBmcMses//P//////7z8=\",\"dtype\":\"float64\",\"order\":\"little\",\"shape\":[100]}},\"selected\":{\"id\":\"166169\"},\"selection_policy\":{\"id\":\"166168\"}},\"id\":\"166133\",\"type\":\"ColumnDataSource\"},{\"attributes\":{\"overlay\":{\"id\":\"166088\"}},\"id\":\"166084\",\"type\":\"BoxZoomTool\"},{\"attributes\":{},\"id\":\"166085\",\"type\":\"SaveTool\"},{\"attributes\":{\"coordinates\":null,\"data_source\":{\"id\":\"166133\"},\"glyph\":{\"id\":\"166134\"},\"group\":null,\"hover_glyph\":null,\"muted_glyph\":{\"id\":\"166136\"},\"nonselection_glyph\":{\"id\":\"166135\"},\"view\":{\"id\":\"166138\"}},\"id\":\"166137\",\"type\":\"GlyphRenderer\"},{\"attributes\":{},\"id\":\"166086\",\"type\":\"ResetTool\"},{\"attributes\":{},\"id\":\"166030\",\"type\":\"DataRange1d\"},{\"attributes\":{\"bottom_units\":\"screen\",\"coordinates\":null,\"fill_alpha\":0.5,\"fill_color\":\"lightgrey\",\"group\":null,\"left_units\":\"screen\",\"level\":\"overlay\",\"line_alpha\":1.0,\"line_color\":\"black\",\"line_dash\":[4,4],\"line_width\":2,\"right_units\":\"screen\",\"syncable\":false,\"top_units\":\"screen\"},\"id\":\"166088\",\"type\":\"BoxAnnotation\"},{\"attributes\":{\"fill_alpha\":{\"value\":0.1},\"fill_color\":{\"value\":\"olive\"},\"hatch_alpha\":{\"value\":0.1},\"hatch_color\":{\"value\":\"olive\"},\"line_alpha\":{\"value\":0.1},\"line_color\":{\"value\":\"olive\"},\"size\":{\"value\":3},\"x\":{\"field\":\"x\"},\"y\":{\"field\":\"y\"}},\"id\":\"166135\",\"type\":\"Circle\"},{\"attributes\":{},\"id\":\"166119\",\"type\":\"PanTool\"},{\"attributes\":{},\"id\":\"166112\",\"type\":\"BasicTicker\"},{\"attributes\":{\"axis\":{\"id\":\"166111\"},\"coordinates\":null,\"group\":null,\"ticker\":null},\"id\":\"166114\",\"type\":\"Grid\"},{\"attributes\":{\"coordinates\":null,\"formatter\":{\"id\":\"166163\"},\"group\":null,\"major_label_policy\":{\"id\":\"166164\"},\"ticker\":{\"id\":\"166116\"}},\"id\":\"166115\",\"type\":\"LinearAxis\"},{\"attributes\":{\"axis\":{\"id\":\"166115\"},\"coordinates\":null,\"dimension\":1,\"group\":null,\"ticker\":null},\"id\":\"166118\",\"type\":\"Grid\"},{\"attributes\":{},\"id\":\"166116\",\"type\":\"BasicTicker\"},{\"attributes\":{},\"id\":\"166107\",\"type\":\"LinearScale\"},{\"attributes\":{\"overlay\":{\"id\":\"166125\"}},\"id\":\"166121\",\"type\":\"BoxZoomTool\"},{\"attributes\":{\"coordinates\":null,\"formatter\":{\"id\":\"166166\"},\"group\":null,\"major_label_policy\":{\"id\":\"166167\"},\"ticker\":{\"id\":\"166112\"}},\"id\":\"166111\",\"type\":\"LinearAxis\"},{\"attributes\":{},\"id\":\"166120\",\"type\":\"WheelZoomTool\"},{\"attributes\":{},\"id\":\"166142\",\"type\":\"AllLabels\"},{\"attributes\":{},\"id\":\"166144\",\"type\":\"BasicTickFormatter\"},{\"attributes\":{},\"id\":\"166105\",\"type\":\"DataRange1d\"},{\"attributes\":{\"fill_alpha\":{\"value\":0.2},\"fill_color\":{\"value\":\"firebrick\"},\"hatch_alpha\":{\"value\":0.2},\"hatch_color\":{\"value\":\"firebrick\"},\"line_alpha\":{\"value\":0.2},\"line_color\":{\"value\":\"firebrick\"},\"size\":{\"value\":3},\"x\":{\"field\":\"x\"},\"y\":{\"field\":\"y\"}},\"id\":\"166099\",\"type\":\"Circle\"},{\"attributes\":{},\"id\":\"166109\",\"type\":\"LinearScale\"},{\"attributes\":{},\"id\":\"166152\",\"type\":\"BasicTickFormatter\"},{\"attributes\":{},\"id\":\"166145\",\"type\":\"AllLabels\"},{\"attributes\":{\"coordinates\":null,\"formatter\":{\"id\":\"166144\"},\"group\":null,\"major_label_policy\":{\"id\":\"166145\"},\"ticker\":{\"id\":\"166039\"}},\"id\":\"166038\",\"type\":\"LinearAxis\"},{\"attributes\":{},\"id\":\"166153\",\"type\":\"AllLabels\"},{\"attributes\":{},\"id\":\"166122\",\"type\":\"SaveTool\"},{\"attributes\":{\"axis\":{\"id\":\"166038\"},\"coordinates\":null,\"group\":null,\"ticker\":null},\"id\":\"166041\",\"type\":\"Grid\"},{\"attributes\":{},\"id\":\"166155\",\"type\":\"BasicTickFormatter\"},{\"attributes\":{},\"id\":\"166147\",\"type\":\"Selection\"},{\"attributes\":{},\"id\":\"166034\",\"type\":\"LinearScale\"},{\"attributes\":{},\"id\":\"166141\",\"type\":\"BasicTickFormatter\"},{\"attributes\":{},\"id\":\"166039\",\"type\":\"BasicTicker\"},{\"attributes\":{},\"id\":\"166156\",\"type\":\"AllLabels\"},{\"attributes\":{},\"id\":\"166163\",\"type\":\"BasicTickFormatter\"},{\"attributes\":{\"coordinates\":null,\"data_source\":{\"id\":\"166096\"},\"glyph\":{\"id\":\"166097\"},\"group\":null,\"hover_glyph\":null,\"muted_glyph\":{\"id\":\"166099\"},\"nonselection_glyph\":{\"id\":\"166098\"},\"view\":{\"id\":\"166101\"}},\"id\":\"166100\",\"type\":\"GlyphRenderer\"},{\"attributes\":{},\"id\":\"166164\",\"type\":\"AllLabels\"},{\"attributes\":{\"bottom_units\":\"screen\",\"coordinates\":null,\"fill_alpha\":0.5,\"fill_color\":\"lightgrey\",\"group\":null,\"left_units\":\"screen\",\"level\":\"overlay\",\"line_alpha\":1.0,\"line_color\":\"black\",\"line_dash\":[4,4],\"line_width\":2,\"right_units\":\"screen\",\"syncable\":false,\"top_units\":\"screen\"},\"id\":\"166052\",\"type\":\"BoxAnnotation\"},{\"attributes\":{\"fill_alpha\":{\"value\":0.1},\"fill_color\":{\"value\":\"firebrick\"},\"hatch_alpha\":{\"value\":0.1},\"hatch_color\":{\"value\":\"firebrick\"},\"line_alpha\":{\"value\":0.1},\"line_color\":{\"value\":\"firebrick\"},\"size\":{\"value\":3},\"x\":{\"field\":\"x\"},\"y\":{\"field\":\"y\"}},\"id\":\"166098\",\"type\":\"Circle\"},{\"attributes\":{},\"id\":\"166166\",\"type\":\"BasicTickFormatter\"},{\"attributes\":{\"tools\":[{\"id\":\"166082\"},{\"id\":\"166083\"},{\"id\":\"166084\"},{\"id\":\"166085\"},{\"id\":\"166086\"},{\"id\":\"166087\"}]},\"id\":\"166089\",\"type\":\"Toolbar\"}],\"root_ids\":[\"166172\"]},\"title\":\"Bokeh Application\",\"version\":\"2.4.3\"}};\n",
       "  const render_items = [{\"docid\":\"2ca5fff5-7eff-4fa9-ad51-7bb6cd8504e5\",\"root_ids\":[\"166172\"],\"roots\":{\"166172\":\"9db75c95-dc50-4125-a4f8-3ca1a0c26ba7\"}}];\n",
       "  root.Bokeh.embed.embed_items_notebook(docs_json, render_items);\n",
       "  }\n",
       "  if (root.Bokeh !== undefined) {\n",
       "    embed_document(root);\n",
       "  } else {\n",
       "    let attempts = 0;\n",
       "    const timer = setInterval(function(root) {\n",
       "      if (root.Bokeh !== undefined) {\n",
       "        clearInterval(timer);\n",
       "        embed_document(root);\n",
       "      } else {\n",
       "        attempts++;\n",
       "        if (attempts > 100) {\n",
       "          clearInterval(timer);\n",
       "          console.log(\"Bokeh: ERROR: Unable to run BokehJS code because BokehJS library is missing\");\n",
       "        }\n",
       "      }\n",
       "    }, 10, root)\n",
       "  }\n",
       "})(window);"
      ],
      "application/vnd.bokehjs_exec.v0+json": ""
     },
     "metadata": {
      "application/vnd.bokehjs_exec.v0+json": {
       "id": "166172"
      }
     },
     "output_type": "display_data"
    }
   ],
   "source": [
    "# prepare some data\n",
    "N = 100\n",
    "x = np.linspace(0, 4*np.pi, N)\n",
    "y0 = np.sin(x)\n",
    "y1 = np.cos(x)\n",
    "y2 = np.sin(x) + np.cos(x)\n",
    "\n",
    "# create a new plot\n",
    "s1 = figure(title=None)\n",
    "s1.circle(x, y0, size=3, color=\"navy\", alpha=0.5)\n",
    "\n",
    "# NEW: create a new plot and share both ranges\n",
    "s2 = figure(x_range=s1.x_range, y_range=s1.y_range, title=None)\n",
    "s2.circle(x, y1, size=3, color=\"firebrick\", alpha=0.5)\n",
    "\n",
    "# NEW: create a new plot and share only one range\n",
    "s3 = figure(x_range=s1.x_range, title=None)\n",
    "s3.circle(x, y2, size=3, color=\"olive\", alpha=0.5)\n",
    "\n",
    "# NEW: put the subplots in a gridplot\n",
    "p = gridplot([[s1, s2, s3]], toolbar_location=None, width=250, height=250)\n",
    "\n",
    "# show the results\n",
    "show(p)"
   ]
  },
  {
   "cell_type": "markdown",
   "metadata": {},
   "source": [
    "Another linkage that is often useful is linked brushing (where a selection on one plot causes a selection to update on other plots). Below is an example that demonstrates linked brushing by sharing a [ColumnDataSource](https://bokeh.pydata.org/en/latest/docs/reference/models/sources.html#bokeh.models.sources.ColumnDataSource) between two plots:"
   ]
  },
  {
   "cell_type": "code",
   "execution_count": 231,
   "metadata": {},
   "outputs": [
    {
     "data": {
      "text/html": [
       "\n",
       "  <div class=\"bk-root\" id=\"586e8d63-90b5-4d15-9368-51c9a2338324\" data-root-id=\"168330\"></div>\n"
      ]
     },
     "metadata": {},
     "output_type": "display_data"
    },
    {
     "data": {
      "application/javascript": [
       "(function(root) {\n",
       "  function embed_document(root) {\n",
       "  const docs_json = {\"7140b78c-3375-430f-8234-b6bedcdf7b98\":{\"defs\":[],\"roots\":{\"references\":[{\"attributes\":{\"children\":[{\"id\":\"168329\"},{\"id\":\"168327\"}]},\"id\":\"168330\",\"type\":\"Column\"},{\"attributes\":{},\"id\":\"168225\",\"type\":\"LinearScale\"},{\"attributes\":{},\"id\":\"168263\",\"type\":\"DataRange1d\"},{\"attributes\":{},\"id\":\"168316\",\"type\":\"BasicTickFormatter\"},{\"attributes\":{\"coordinates\":null,\"data_source\":{\"id\":\"168216\"},\"glyph\":{\"id\":\"168296\"},\"group\":null,\"hover_glyph\":null,\"muted_glyph\":{\"id\":\"168298\"},\"nonselection_glyph\":{\"id\":\"168297\"},\"view\":{\"id\":\"168300\"}},\"id\":\"168299\",\"type\":\"GlyphRenderer\"},{\"attributes\":{\"coordinates\":null,\"fill_alpha\":0.5,\"fill_color\":\"lightgrey\",\"group\":null,\"level\":\"overlay\",\"line_alpha\":1.0,\"line_color\":\"black\",\"line_dash\":[4,4],\"line_width\":2,\"syncable\":false,\"xs_units\":\"screen\",\"ys_units\":\"screen\"},\"id\":\"168244\",\"type\":\"PolyAnnotation\"},{\"attributes\":{},\"id\":\"168317\",\"type\":\"AllLabels\"},{\"attributes\":{\"coordinates\":null,\"formatter\":{\"id\":\"168319\"},\"group\":null,\"major_label_policy\":{\"id\":\"168320\"},\"ticker\":{\"id\":\"168270\"}},\"id\":\"168269\",\"type\":\"LinearAxis\"},{\"attributes\":{\"data\":{\"x\":{\"__ndarray__\":\"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\",\"dtype\":\"float64\",\"order\":\"little\",\"shape\":[300]},\"y0\":{\"__ndarray__\":\"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\",\"dtype\":\"float64\",\"order\":\"little\",\"shape\":[300]},\"y1\":{\"__ndarray__\":\"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\",\"dtype\":\"float64\",\"order\":\"little\",\"shape\":[300]}},\"selected\":{\"id\":\"168309\"},\"selection_policy\":{\"id\":\"168308\"}},\"id\":\"168216\",\"type\":\"ColumnDataSource\"},{\"attributes\":{\"fill_alpha\":{\"value\":0.2},\"fill_color\":{\"value\":\"#1f77b4\"},\"hatch_alpha\":{\"value\":0.2},\"line_alpha\":{\"value\":0.2},\"line_color\":{\"value\":\"#1f77b4\"},\"x\":{\"field\":\"x\"},\"y\":{\"field\":\"y0\"}},\"id\":\"168256\",\"type\":\"Circle\"},{\"attributes\":{\"tools\":[{\"id\":\"168235\"},{\"id\":\"168236\"},{\"id\":\"168237\"},{\"id\":\"168238\"},{\"id\":\"168239\"},{\"id\":\"168240\"},{\"id\":\"168241\"}]},\"id\":\"168245\",\"type\":\"Toolbar\"},{\"attributes\":{},\"id\":\"168304\",\"type\":\"AllLabels\"},{\"attributes\":{},\"id\":\"168319\",\"type\":\"BasicTickFormatter\"},{\"attributes\":{},\"id\":\"168265\",\"type\":\"LinearScale\"},{\"attributes\":{\"fill_color\":{\"value\":\"#1f77b4\"},\"line_color\":{\"value\":\"#1f77b4\"},\"x\":{\"field\":\"x\"},\"y\":{\"field\":\"y0\"}},\"id\":\"168254\",\"type\":\"Circle\"},{\"attributes\":{},\"id\":\"168320\",\"type\":\"AllLabels\"},{\"attributes\":{\"children\":[[{\"id\":\"168217\"},0,0],[{\"id\":\"168259\"},0,1]]},\"id\":\"168327\",\"type\":\"GridBox\"},{\"attributes\":{\"coordinates\":null,\"fill_alpha\":0.5,\"fill_color\":\"lightgrey\",\"group\":null,\"level\":\"overlay\",\"line_alpha\":1.0,\"line_color\":\"black\",\"line_dash\":[4,4],\"line_width\":2,\"syncable\":false,\"xs_units\":\"screen\",\"ys_units\":\"screen\"},\"id\":\"168286\",\"type\":\"PolyAnnotation\"},{\"attributes\":{\"below\":[{\"id\":\"168269\"}],\"center\":[{\"id\":\"168272\"},{\"id\":\"168276\"}],\"height\":350,\"left\":[{\"id\":\"168273\"}],\"renderers\":[{\"id\":\"168299\"}],\"title\":null,\"toolbar\":{\"id\":\"168287\"},\"toolbar_location\":null,\"width\":350,\"x_range\":{\"id\":\"168261\"},\"x_scale\":{\"id\":\"168265\"},\"y_range\":{\"id\":\"168263\"},\"y_scale\":{\"id\":\"168267\"}},\"id\":\"168259\",\"subtype\":\"Figure\",\"type\":\"Plot\"},{\"attributes\":{},\"id\":\"168274\",\"type\":\"BasicTicker\"},{\"attributes\":{},\"id\":\"168223\",\"type\":\"LinearScale\"},{\"attributes\":{\"source\":{\"id\":\"168216\"}},\"id\":\"168258\",\"type\":\"CDSView\"},{\"attributes\":{},\"id\":\"168219\",\"type\":\"DataRange1d\"},{\"attributes\":{},\"id\":\"168239\",\"type\":\"SaveTool\"},{\"attributes\":{},\"id\":\"168238\",\"type\":\"ResetTool\"},{\"attributes\":{\"below\":[{\"id\":\"168227\"}],\"center\":[{\"id\":\"168230\"},{\"id\":\"168234\"}],\"height\":350,\"left\":[{\"id\":\"168231\"}],\"renderers\":[{\"id\":\"168257\"}],\"title\":null,\"toolbar\":{\"id\":\"168245\"},\"toolbar_location\":null,\"width\":350,\"x_range\":{\"id\":\"168219\"},\"x_scale\":{\"id\":\"168223\"},\"y_range\":{\"id\":\"168221\"},\"y_scale\":{\"id\":\"168225\"}},\"id\":\"168217\",\"subtype\":\"Figure\",\"type\":\"Plot\"},{\"attributes\":{\"axis\":{\"id\":\"168273\"},\"coordinates\":null,\"dimension\":1,\"group\":null,\"ticker\":null},\"id\":\"168276\",\"type\":\"Grid\"},{\"attributes\":{\"fill_alpha\":{\"value\":0.2},\"fill_color\":{\"value\":\"#1f77b4\"},\"hatch_alpha\":{\"value\":0.2},\"line_alpha\":{\"value\":0.2},\"line_color\":{\"value\":\"#1f77b4\"},\"x\":{\"field\":\"x\"},\"y\":{\"field\":\"y1\"}},\"id\":\"168298\",\"type\":\"Circle\"},{\"attributes\":{\"overlay\":{\"id\":\"168286\"}},\"id\":\"168283\",\"type\":\"LassoSelectTool\"},{\"attributes\":{\"coordinates\":null,\"formatter\":{\"id\":\"168316\"},\"group\":null,\"major_label_policy\":{\"id\":\"168317\"},\"ticker\":{\"id\":\"168274\"}},\"id\":\"168273\",\"type\":\"LinearAxis\"},{\"attributes\":{},\"id\":\"168221\",\"type\":\"DataRange1d\"},{\"attributes\":{},\"id\":\"168270\",\"type\":\"BasicTicker\"},{\"attributes\":{\"axis\":{\"id\":\"168227\"},\"coordinates\":null,\"group\":null,\"ticker\":null},\"id\":\"168230\",\"type\":\"Grid\"},{\"attributes\":{},\"id\":\"168306\",\"type\":\"BasicTickFormatter\"},{\"attributes\":{},\"id\":\"168228\",\"type\":\"BasicTicker\"},{\"attributes\":{\"source\":{\"id\":\"168216\"}},\"id\":\"168300\",\"type\":\"CDSView\"},{\"attributes\":{\"overlay\":{\"id\":\"168242\"}},\"id\":\"168240\",\"type\":\"BoxSelectTool\"},{\"attributes\":{\"axis\":{\"id\":\"168269\"},\"coordinates\":null,\"group\":null,\"ticker\":null},\"id\":\"168272\",\"type\":\"Grid\"},{\"attributes\":{\"toolbar\":{\"id\":\"168328\"},\"toolbar_location\":\"above\"},\"id\":\"168329\",\"type\":\"ToolbarBox\"},{\"attributes\":{\"coordinates\":null,\"formatter\":{\"id\":\"168303\"},\"group\":null,\"major_label_policy\":{\"id\":\"168304\"},\"ticker\":{\"id\":\"168232\"}},\"id\":\"168231\",\"type\":\"LinearAxis\"},{\"attributes\":{},\"id\":\"168309\",\"type\":\"Selection\"},{\"attributes\":{\"bottom_units\":\"screen\",\"coordinates\":null,\"fill_alpha\":0.5,\"fill_color\":\"lightgrey\",\"group\":null,\"left_units\":\"screen\",\"level\":\"overlay\",\"line_alpha\":1.0,\"line_color\":\"black\",\"line_dash\":[4,4],\"line_width\":2,\"right_units\":\"screen\",\"syncable\":false,\"top_units\":\"screen\"},\"id\":\"168243\",\"type\":\"BoxAnnotation\"},{\"attributes\":{\"tools\":[{\"id\":\"168277\"},{\"id\":\"168278\"},{\"id\":\"168279\"},{\"id\":\"168280\"},{\"id\":\"168281\"},{\"id\":\"168282\"},{\"id\":\"168283\"}]},\"id\":\"168287\",\"type\":\"Toolbar\"},{\"attributes\":{},\"id\":\"168277\",\"type\":\"PanTool\"},{\"attributes\":{\"axis\":{\"id\":\"168231\"},\"coordinates\":null,\"dimension\":1,\"group\":null,\"ticker\":null},\"id\":\"168234\",\"type\":\"Grid\"},{\"attributes\":{},\"id\":\"168232\",\"type\":\"BasicTicker\"},{\"attributes\":{},\"id\":\"168308\",\"type\":\"UnionRenderers\"},{\"attributes\":{},\"id\":\"168261\",\"type\":\"DataRange1d\"},{\"attributes\":{},\"id\":\"168267\",\"type\":\"LinearScale\"},{\"attributes\":{\"overlay\":{\"id\":\"168244\"}},\"id\":\"168241\",\"type\":\"LassoSelectTool\"},{\"attributes\":{\"overlay\":{\"id\":\"168284\"}},\"id\":\"168282\",\"type\":\"BoxSelectTool\"},{\"attributes\":{},\"id\":\"168303\",\"type\":\"BasicTickFormatter\"},{\"attributes\":{},\"id\":\"168236\",\"type\":\"WheelZoomTool\"},{\"attributes\":{\"bottom_units\":\"screen\",\"coordinates\":null,\"fill_alpha\":0.5,\"fill_color\":\"lightgrey\",\"group\":null,\"left_units\":\"screen\",\"level\":\"overlay\",\"line_alpha\":1.0,\"line_color\":\"black\",\"line_dash\":[4,4],\"line_width\":2,\"right_units\":\"screen\",\"syncable\":false,\"top_units\":\"screen\"},\"id\":\"168284\",\"type\":\"BoxAnnotation\"},{\"attributes\":{\"fill_alpha\":{\"value\":0.1},\"fill_color\":{\"value\":\"#1f77b4\"},\"hatch_alpha\":{\"value\":0.1},\"line_alpha\":{\"value\":0.1},\"line_color\":{\"value\":\"#1f77b4\"},\"x\":{\"field\":\"x\"},\"y\":{\"field\":\"y0\"}},\"id\":\"168255\",\"type\":\"Circle\"},{\"attributes\":{},\"id\":\"168235\",\"type\":\"PanTool\"},{\"attributes\":{},\"id\":\"168278\",\"type\":\"WheelZoomTool\"},{\"attributes\":{\"overlay\":{\"id\":\"168243\"}},\"id\":\"168237\",\"type\":\"BoxZoomTool\"},{\"attributes\":{\"coordinates\":null,\"formatter\":{\"id\":\"168306\"},\"group\":null,\"major_label_policy\":{\"id\":\"168307\"},\"ticker\":{\"id\":\"168228\"}},\"id\":\"168227\",\"type\":\"LinearAxis\"},{\"attributes\":{},\"id\":\"168307\",\"type\":\"AllLabels\"},{\"attributes\":{\"bottom_units\":\"screen\",\"coordinates\":null,\"fill_alpha\":0.5,\"fill_color\":\"lightgrey\",\"group\":null,\"left_units\":\"screen\",\"level\":\"overlay\",\"line_alpha\":1.0,\"line_color\":\"black\",\"line_dash\":[4,4],\"line_width\":2,\"right_units\":\"screen\",\"syncable\":false,\"top_units\":\"screen\"},\"id\":\"168242\",\"type\":\"BoxAnnotation\"},{\"attributes\":{\"overlay\":{\"id\":\"168285\"}},\"id\":\"168279\",\"type\":\"BoxZoomTool\"},{\"attributes\":{\"toolbars\":[{\"id\":\"168245\"},{\"id\":\"168287\"}],\"tools\":[{\"id\":\"168235\"},{\"id\":\"168236\"},{\"id\":\"168237\"},{\"id\":\"168238\"},{\"id\":\"168239\"},{\"id\":\"168240\"},{\"id\":\"168241\"},{\"id\":\"168277\"},{\"id\":\"168278\"},{\"id\":\"168279\"},{\"id\":\"168280\"},{\"id\":\"168281\"},{\"id\":\"168282\"},{\"id\":\"168283\"}]},\"id\":\"168328\",\"type\":\"ProxyToolbar\"},{\"attributes\":{\"bottom_units\":\"screen\",\"coordinates\":null,\"fill_alpha\":0.5,\"fill_color\":\"lightgrey\",\"group\":null,\"left_units\":\"screen\",\"level\":\"overlay\",\"line_alpha\":1.0,\"line_color\":\"black\",\"line_dash\":[4,4],\"line_width\":2,\"right_units\":\"screen\",\"syncable\":false,\"top_units\":\"screen\"},\"id\":\"168285\",\"type\":\"BoxAnnotation\"},{\"attributes\":{\"fill_alpha\":{\"value\":0.1},\"fill_color\":{\"value\":\"#1f77b4\"},\"hatch_alpha\":{\"value\":0.1},\"line_alpha\":{\"value\":0.1},\"line_color\":{\"value\":\"#1f77b4\"},\"x\":{\"field\":\"x\"},\"y\":{\"field\":\"y1\"}},\"id\":\"168297\",\"type\":\"Circle\"},{\"attributes\":{\"fill_color\":{\"value\":\"#1f77b4\"},\"line_color\":{\"value\":\"#1f77b4\"},\"x\":{\"field\":\"x\"},\"y\":{\"field\":\"y1\"}},\"id\":\"168296\",\"type\":\"Circle\"},{\"attributes\":{},\"id\":\"168280\",\"type\":\"ResetTool\"},{\"attributes\":{\"coordinates\":null,\"data_source\":{\"id\":\"168216\"},\"glyph\":{\"id\":\"168254\"},\"group\":null,\"hover_glyph\":null,\"muted_glyph\":{\"id\":\"168256\"},\"nonselection_glyph\":{\"id\":\"168255\"},\"view\":{\"id\":\"168258\"}},\"id\":\"168257\",\"type\":\"GlyphRenderer\"},{\"attributes\":{},\"id\":\"168281\",\"type\":\"SaveTool\"}],\"root_ids\":[\"168330\"]},\"title\":\"Bokeh Application\",\"version\":\"2.4.3\"}};\n",
       "  const render_items = [{\"docid\":\"7140b78c-3375-430f-8234-b6bedcdf7b98\",\"root_ids\":[\"168330\"],\"roots\":{\"168330\":\"586e8d63-90b5-4d15-9368-51c9a2338324\"}}];\n",
       "  root.Bokeh.embed.embed_items_notebook(docs_json, render_items);\n",
       "  }\n",
       "  if (root.Bokeh !== undefined) {\n",
       "    embed_document(root);\n",
       "  } else {\n",
       "    let attempts = 0;\n",
       "    const timer = setInterval(function(root) {\n",
       "      if (root.Bokeh !== undefined) {\n",
       "        clearInterval(timer);\n",
       "        embed_document(root);\n",
       "      } else {\n",
       "        attempts++;\n",
       "        if (attempts > 100) {\n",
       "          clearInterval(timer);\n",
       "          console.log(\"Bokeh: ERROR: Unable to run BokehJS code because BokehJS library is missing\");\n",
       "        }\n",
       "      }\n",
       "    }, 10, root)\n",
       "  }\n",
       "})(window);"
      ],
      "application/vnd.bokehjs_exec.v0+json": ""
     },
     "metadata": {
      "application/vnd.bokehjs_exec.v0+json": {
       "id": "168330"
      }
     },
     "output_type": "display_data"
    }
   ],
   "source": [
    "from bokeh.models import ColumnDataSource\n",
    "# prepare some date\n",
    "N = 300\n",
    "x = np.linspace(0, 4*np.pi, N)\n",
    "y0 = np.sin(x)\n",
    "y1 = np.cos(x)\n",
    "\n",
    "# NEW: create a column data source for the plots to share\n",
    "source = ColumnDataSource(data=dict(x=x, y0=y0, y1=y1))\n",
    "\n",
    "TOOLS = \"pan,wheel_zoom,box_zoom,reset,save,box_select,lasso_select\"\n",
    "\n",
    "# create a new plot and add a renderer\n",
    "left = figure(tools=TOOLS, width=350, height=350, title=None)\n",
    "left.circle('x', 'y0', source=source)\n",
    "\n",
    "# create another new plot and add a renderer\n",
    "right = figure(tools=TOOLS, width=350, height=350, title=None)\n",
    "right.circle('x', 'y1', source=source)\n",
    "\n",
    "# put the subplots in a gridplot\n",
    "p = gridplot([[left, right]])\n",
    "\n",
    "# show the results\n",
    "show(p)"
   ]
  },
  {
   "cell_type": "markdown",
   "metadata": {},
   "source": [
    "### Linked Selection ←←←←←←←←←←←←←←←←←←←←←←←←← stopped here"
   ]
  },
  {
   "cell_type": "code",
   "execution_count": null,
   "metadata": {},
   "outputs": [],
   "source": [
    "from bokeh.io import output_file, show\n",
    "from bokeh.layouts import gridplot\n",
    "from bokeh.models import ColumnDataSource\n",
    "from bokeh.plotting import figure\n",
    "\n",
    "x = list(range(-20, 21))\n",
    "y0 = [abs(xx) for xx in x]\n",
    "y1 = [xx**2 for xx in x]\n",
    "\n",
    "# create a column data source for the plots to share\n",
    "source = ColumnDataSource(data=dict(x=x, y0=y0, y1=y1))\n",
    "\n",
    "TOOLS = \"box_select,lasso_select,help\"\n",
    "\n",
    "# create a new plot and add a renderer\n",
    "left = figure(tools=TOOLS, plot_width=300, plot_height=300, title=None)\n",
    "left.circle('x', 'y0', source=source)\n",
    "\n",
    "# create another new plot and add a renderer\n",
    "right = figure(tools=TOOLS, plot_width=300, plot_height=300, title=None)\n",
    "right.circle('x', 'y1', source=source)\n",
    "\n",
    "p = gridplot([[left, right]])\n",
    "\n",
    "show(p)"
   ]
  },
  {
   "cell_type": "markdown",
   "metadata": {},
   "source": [
    "### Linked selection with filtered data"
   ]
  },
  {
   "cell_type": "code",
   "execution_count": null,
   "metadata": {},
   "outputs": [],
   "source": [
    "from bokeh.models import ColumnDataSource, CDSView, BooleanFilter\n",
    "\n",
    "x = list(range(-20, 21))\n",
    "y0 = [abs(xx) for xx in x]\n",
    "y1 = [xx**2 for xx in x]\n",
    "\n",
    "# create a column data source for the plots to share\n",
    "source = ColumnDataSource(data=dict(x=x, y0=y0, y1=y1))\n",
    "\n",
    "# create a view of the source for one plot to use\n",
    "view = CDSView(source=source, filters=[BooleanFilter([True if y > 250 or y < 100 else False for y in y1])])\n",
    "\n",
    "TOOLS = \"box_select,lasso_select\"\n",
    "\n",
    "# create a new plot and add a renderer\n",
    "left = figure(tools=TOOLS, plot_width=300, plot_height=300, title=None)\n",
    "left.circle('x', 'y0', size=10, hover_color=\"firebrick\", source=source)\n",
    "\n",
    "# create another new plot, add a renderer that uses the view of the data source\n",
    "right = figure(tools=TOOLS, plot_width=300, plot_height=300, title=None)\n",
    "right.circle('x', 'y1', size=10, hover_color=\"firebrick\", source=source, view=view)\n",
    "\n",
    "p = gridplot([[left, right]])\n",
    "\n",
    "show(p)"
   ]
  },
  {
   "cell_type": "markdown",
   "metadata": {},
   "source": [
    "# Interaction with widgets and JS CallBacks"
   ]
  },
  {
   "cell_type": "markdown",
   "metadata": {},
   "source": [
    "## Adding Widgets"
   ]
  },
  {
   "cell_type": "markdown",
   "metadata": {},
   "source": [
    "Widgets are interactive controls that can be added to Bokeh applications to provide a front end user interface to a visualization. They can drive new computations, update plots, and connect to other programmatic functionality.\n",
    "Widgets can be added directly to the document root or nested inside a layout. There are two ways to program a widget’s functionality:\n",
    "\n",
    "- Use the `CustomJS` callback. This will work in standalone HTML documents.\n",
    "- Use `bokeh serve` to start the Bokeh server and set up event handlers. *[DESCRIBED IN OTHER NOTEBOOKS]*"
   ]
  },
  {
   "cell_type": "markdown",
   "metadata": {},
   "source": [
    "### Buttons"
   ]
  },
  {
   "cell_type": "code",
   "execution_count": null,
   "metadata": {},
   "outputs": [],
   "source": [
    "from bokeh.layouts import widgetbox"
   ]
  },
  {
   "cell_type": "code",
   "execution_count": null,
   "metadata": {},
   "outputs": [],
   "source": [
    "from bokeh.models.widgets import Button\n",
    "from bokeh.models import Column\n",
    "\n",
    "button_warning = Button(label=\"Foo Warning\", button_type=\"warning\")\n",
    "button_success = Button(label=\"Foo Success\", button_type=\"success\")\n",
    "\n",
    "show(Column(button_warning, button_success))"
   ]
  },
  {
   "cell_type": "markdown",
   "metadata": {},
   "source": [
    "### Checkbox button group"
   ]
  },
  {
   "cell_type": "code",
   "execution_count": null,
   "metadata": {},
   "outputs": [],
   "source": [
    "from bokeh.models.widgets import CheckboxButtonGroup\n",
    "\n",
    "checkbox_button_group = CheckboxButtonGroup(\n",
    "        labels=[\"Option 1\", \"Option 2\", \"Option 3\"], \n",
    "        active=[1, 2]) # active param show selected the slice you specify\n",
    "\n",
    "show(Column(checkbox_button_group))"
   ]
  },
  {
   "cell_type": "markdown",
   "metadata": {},
   "source": [
    "### Checkbox group"
   ]
  },
  {
   "cell_type": "code",
   "execution_count": null,
   "metadata": {},
   "outputs": [],
   "source": [
    "from bokeh.models.widgets import CheckboxGroup\n",
    "\n",
    "checkbox_group = CheckboxGroup(\n",
    "        labels=[\"Option 1\", \"Option 2\", \"Option 3\"], active=[0, 1])\n",
    "\n",
    "show(Column(checkbox_group))"
   ]
  },
  {
   "cell_type": "markdown",
   "metadata": {},
   "source": [
    "## Data Table\n",
    "Bokeh provides a sophisticated data table widget based on SlickGrid. Note that since the table is configured with a data source object, any plots that share this data source will automatically have selections linked between the plot and the table (even in static HTML documents). \n",
    "\n",
    "*The data table is sortable by clicking on the column name*"
   ]
  },
  {
   "cell_type": "code",
   "execution_count": null,
   "metadata": {},
   "outputs": [],
   "source": [
    "from datetime import date\n",
    "from random import randint\n",
    "from bokeh.models import ColumnDataSource\n",
    "from bokeh.models.widgets import DataTable, DateFormatter, TableColumn\n",
    "\n",
    "data = dict(\n",
    "        dates=[date(2017, 3, i+1) for i in range(10)],\n",
    "        downloads=[randint(0, 100) for i in range(10)],\n",
    "    )\n",
    "source = ColumnDataSource(data)\n",
    "\n",
    "columns = [\n",
    "        TableColumn(field=\"dates\", title=\"Date\", formatter=DateFormatter()),\n",
    "        TableColumn(field=\"downloads\", title=\"Downloads\"),\n",
    "    ]\n",
    "data_table = DataTable(source=source, columns=columns, width=400, height=280)\n",
    "\n",
    "show(Column(data_table))"
   ]
  },
  {
   "cell_type": "markdown",
   "metadata": {},
   "source": [
    "## Sliders"
   ]
  },
  {
   "cell_type": "code",
   "execution_count": null,
   "metadata": {},
   "outputs": [],
   "source": [
    "from bokeh.models.widgets import Slider, RangeSlider\n",
    "\n",
    "slider = Slider(start=0, end=10, value=3, step=.1, title=\"Slider\")\n",
    "range_slider = RangeSlider(start=0, end=10, value=(5,9), step=.1, title=\"Range Slider\")\n",
    "\n",
    "show(Column(slider, range_slider))"
   ]
  },
  {
   "cell_type": "markdown",
   "metadata": {},
   "source": [
    "## Tab panes"
   ]
  },
  {
   "cell_type": "code",
   "execution_count": null,
   "metadata": {},
   "outputs": [],
   "source": [
    "from bokeh.models.widgets import Panel, Tabs\n",
    "from bokeh.plotting import figure\n",
    "\n",
    "p1 = figure(plot_width=300, plot_height=300)\n",
    "p1.circle([1, 2, 3, 4, 5], [6, 7, 2, 4, 5], size=20, color=\"red\", alpha=0.5)\n",
    "tab1 = Panel(child=p1, title=\"circle\")\n",
    "\n",
    "p2 = figure(plot_width=300, plot_height=300)\n",
    "p2.line([1, 2, 3, 4, 5], [6, 7, 2, 4, 5], line_width=3, color=\"blue\", alpha=0.5)\n",
    "tab2 = Panel(child=p2, title=\"line\")\n",
    "\n",
    "tabs = Tabs(tabs=[ tab1, tab2 ])\n",
    "\n",
    "show(tabs)"
   ]
  },
  {
   "cell_type": "code",
   "execution_count": null,
   "metadata": {},
   "outputs": [],
   "source": [
    "from bokeh.layouts import column\n",
    "from bokeh.models import CustomJS, ColumnDataSource, Slider\n",
    "from bokeh.plotting import figure\n",
    "\n",
    "x = [x*0.005 for x in range(0, 200)]\n",
    "y = x\n",
    "\n",
    "source = ColumnDataSource(data=dict(x=x, y=y))\n",
    "\n",
    "plot = figure(plot_width=400, plot_height=400)\n",
    "plot.line('x', 'y', source=source, line_width=3, line_alpha=0.6)\n",
    "\n",
    "callback = CustomJS(args=dict(source=source), code=\"\"\"\n",
    "    var data = source.data;\n",
    "    var f = cb_obj.value\n",
    "    x = data['x']\n",
    "    y = data['y']\n",
    "    for (i = 0; i < x.length; i++) {\n",
    "        y[i] = Math.pow(x[i], f)\n",
    "    }\n",
    "    source.change.emit();\n",
    "\"\"\")\n",
    "\n",
    "slider = Slider(start=0.1, end=4, value=1, step=.1, title=\"power\")\n",
    "slider.js_on_change('value', callback)\n",
    "\n",
    "layout = column(slider, plot)\n",
    "\n",
    "show(layout)"
   ]
  },
  {
   "cell_type": "markdown",
   "metadata": {},
   "source": [
    "The above example shows how to attach a CustomJS callback to a Slider widget, so that whenever the slider value updates, the callback is executed to update some data."
   ]
  },
  {
   "cell_type": "markdown",
   "metadata": {},
   "source": [
    "# Additional Resources and Further Readings"
   ]
  },
  {
   "cell_type": "markdown",
   "metadata": {},
   "source": [
    "## Doumentation\n",
    "\n",
    "\n",
    "##### Main Page - https://bokeh.pydata.org/en/latest \n",
    "\n",
    "The main documentation front page, with links to many other resources\n",
    "\n",
    "---\n",
    "\n",
    "##### User's Guide - https://bokeh.pydata.org/en/latest/docs/user_guide.html\n",
    "\n",
    "The user's guide has many top-oriented subsections, for example \"Plotting with Basic Glyphs\", \"Configuring Plot Tools\", or \"Adding Interactions\". Each user's guide section typically example code and corresponding live plots that demonstrate how to accomplish various tasks. \n",
    "\n",
    "---\n",
    "\n",
    "##### Gallery - https://bokeh.pydata.org/en/latest/docs/gallery.html\n",
    "\n",
    "One of the best ways to learn is to find an existing example similar to what you want, and to study it and then use it as a starting place. Starting from a known working example can often save time and effort when getting started by allowing you to make small, incremental changes and observing the outcome. The Bokeh docs have a large thumbnail gallery that links to live plots and apps with corresponding code.  \n",
    "\n",
    "\n",
    "---\n",
    "\n",
    "##### Reference Guide - https://bokeh.pydata.org/en/latest/docs/reference.html\n",
    "\n",
    "If you are already familiar with Bokeh and have questions about specific details of the obejcts you are already using, the reference guide is a good resource for finding information. The reference guide is automatically generated from the project source code and is a complete resources for all bokeh models and their properties. \n",
    "\n",
    "---\n",
    "\n",
    "\n",
    "\n",
    "##### Issue tracker - https://github.com/bokeh/bokeh/issues\n",
    "\n",
    "The GitHub issue tracker is the place to go to submit ***bug reports*** and ***feature requests***. It it NOT the right place for general support questions (see the *General Community Support* links below).\n",
    "\n"
   ]
  },
  {
   "cell_type": "markdown",
   "metadata": {},
   "source": [
    "## Example apps and Scripts\n",
    "\n",
    "In addition to all the live gallery examples, Bokeh has many additional scripts and apps that can be instructive to study and emulate. \n",
    "\n",
    "##### Examples folder - https://github.com/bokeh/bokeh/tree/master/examples/\n",
    "\n",
    "The `examples` directory has many subfolders dedicated to different kinds of topics. Some of the hightlights are:\n",
    "\n",
    "* `app` - example Bokeh apps, run with \"`bokeh serve`\"\n",
    "* `howto` - some examples arranged around specific topics such as layout or notebook comms\n",
    "* `models` - examples that demonstrate the low-level `bokeh.models` API\n",
    "* `plotting` - a large collections of examples using the `bokeh.plotting` interface\n",
    "* `webgl` - some examples demonstrating WebGL usage\n",
    "\n",
    "---\n",
    "\n",
    "##### Example zipfile\n",
    "\n",
    "To make the things easier to obtain, a zip file of just the examples is also available at\n",
    "\n",
    "`https://cdn.pydata.org/bokeh/examples/examples-<x.y.z>.zip`\n",
    "\n",
    "For example, the examples zipfile for the `0.13.0` release can be found at:\n",
    "\n",
    "https://cdn.pydata.org/bokeh/examples/examples-0.13.0.zip\n",
    "\n",
    "\n"
   ]
  },
  {
   "cell_type": "markdown",
   "metadata": {},
   "source": [
    "## General Community Support\n",
    "\n",
    "Bokeh has a large and growing community. The best place to go for general support questions (either to ask, or to answer!) is one of the community support resources listed below. \n",
    "\n",
    "* Mailing list - https://groups.google.com/a/anaconda.com/forum/#!forum/bokeh\n",
    "* Gitter chat channel - https://gitter.im/bokeh/bokeh\n",
    "* StackOverflow (use `#bokeh` tag): http://stackoverflow.com/questions/tagged/bokeh\n",
    "\n"
   ]
  },
  {
   "cell_type": "markdown",
   "metadata": {},
   "source": [
    "## Contributor Resources\n",
    "\n",
    "Bokeh has a small but growinf developer community. We are always looking to have new contributors. Below are some resources for people involved in working on Bokeh itself.\n",
    "\n",
    "##### Source code - https://github.com/bokeh/bokeh\n",
    "\n",
    "Go here to clone the GitHub repo (in order to contribute or get the examples), or to submit issues to the issue tracker \n",
    "\n",
    "---\n",
    "\n",
    "##### Issue tracker - https://github.com/bokeh/bokeh/issues\n",
    "\n",
    "The GitHub issue tracker is the place to go to submit ***bug reports*** and ***feature requests***. For general support questions, see the *General Community Support* links above.\n",
    "\n",
    "---\n",
    "\n",
    "#### Developer's Guide - https://bokeh.pydata.org/en/latest/docs/dev_guide.html\n",
    "\n",
    "If you are interesting in becoming a contributor to Bokeh, the developer's guide is the place to start. It has information about getting a development environment set up, the library architecture, writing and running tests, \n",
    "\n",
    "---\n",
    "\n",
    "#### Dev Chat Channel - https://gitter.im/bokeh/bokeh-dev\n",
    "\n",
    "Come here for assistance with any questions about developing Bokeh itself. \n"
   ]
  }
 ],
 "metadata": {
  "kernelspec": {
   "display_name": "Python 3 (ipykernel)",
   "language": "python",
   "name": "python3"
  },
  "language_info": {
   "codemirror_mode": {
    "name": "ipython",
    "version": 3
   },
   "file_extension": ".py",
   "mimetype": "text/x-python",
   "name": "python",
   "nbconvert_exporter": "python",
   "pygments_lexer": "ipython3",
   "version": "3.9.13"
  }
 },
 "nbformat": 4,
 "nbformat_minor": 4
}
