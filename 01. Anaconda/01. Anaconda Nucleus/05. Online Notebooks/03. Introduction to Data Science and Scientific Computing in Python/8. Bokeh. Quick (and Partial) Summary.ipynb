{
 "cells": [
  {
   "cell_type": "markdown",
   "metadata": {},
   "source": [
    "# 08. Bokeh: quick (and partial) summary\n",
    "Giuseppe Jurman\n",
    "\n",
    "April, 29th 2019\n",
    "\n",
    "(partially abridged from [Data Visualisation with Bokeh](https://github.com/ernestoarbitrio/bokeh-data-visualisation))"
   ]
  },
  {
   "cell_type": "markdown",
   "metadata": {},
   "source": [
    "**Bokeh** is a `Python` interactive visualization library that targets modern web browsers for presentation. Bokeh provides elegant, concise construction of novel graphics with high-performance interactivity over very large or streaming datasets in a quick and easy way.\n",
    "\n",
    "To offer both simplicity and the powerful and flexible features needed for advanced customizations, Bokeh exposes two interface levels to users:\n",
    "\n",
    "- a low-level bokeh.models interface that provides the most flexibility to application developers.\n",
    "- an higher-level bokeh.plotting interface centered around composing visual glyphs.\n",
    "\n",
    "This Introduction focuses on the bokeh.plotting interface."
   ]
  },
  {
   "cell_type": "markdown",
   "metadata": {},
   "source": [
    "## Defining key concepts\n",
    "\n",
    "### Glossary\n",
    "\n",
    "In order to make the best use of this User Guide, it is important to have context for some high level concepts and terms. Here is a small glossary of some of the most important concepts in Bokeh.\n",
    "\n",
    "**Application**\n",
    "\n",
    "A Bokeh application is a rendered Bokeh document, running in a browser.\n",
    "\n",
    "**BokehJS**\n",
    "\n",
    "The JavaScript client library that actually renders the visuals and handles the UI interactions for Bokeh plots and widgets in the browser. Typically, users will not have to think about this aspect of Bokeh much (“We write the JavaScript, so you don’t have to!”) but it is good to have basic knowledge of this dichotomy. For full details, see the BokehJS chapter of the Developer Guide.\n",
    "\n",
    "**Documents**\n",
    "\n",
    "An organizing data structure for Bokeh applications. Documents contain all the Bokeh Models and data needed to render an interactive visualization or application in the browser.\n",
    "\n",
    "**Embedding**\n",
    "\n",
    "Various methods of including Bokeh plots and widgets into web apps and pages, or the IPython notebook. See Embedding Plots and Apps for more details.\n",
    "\n",
    "**Glyphs**\n",
    "\n",
    "The basic visual building blocks of Bokeh plots, e.g. lines, rectangles, squares, wedges, patches, etc. The bokeh.plotting interface provides a convenient way to create plots centered around glyphs. See Plotting with Basic Glyphs for more information.\n",
    "\n",
    "**Models**\n",
    "\n",
    "The lowest-level objects that comprise Bokeh “scenegraphs”. These live in the bokeh.models interface. Most users will not use this level of interface to assemble plots directly. However, ultimately all Bokeh plots consist of collections of models, so it is important to understand them enough to configure their attributes and properties. See Styling Visual Attributes for more information.\n",
    "\n",
    "**Server**\n",
    "\n",
    "The Bokeh server is an optional component that can be used for sharing and publishing Bokeh plots and apps, for handling streaming of large data sets, or for enabling sophisticated user interactions based off of widgets and selections. See Running a Bokeh Server for more explanation.\n",
    "\n",
    "**Widgets**\n",
    "\n",
    "User interface elements outside of a Bokeh plot such as sliders, drop down menus, buttons, etc. Events and updates from widgets can inform additional computations, or cause Bokeh plots to update. Widgets can be used in both standalone applications or with the Bokeh server. For examples and information, see Adding Interactions."
   ]
  },
  {
   "cell_type": "markdown",
   "metadata": {},
   "source": [
    "### Getting Started\n",
    "\n",
    "Let’s begin with some examples.\n",
    "\n",
    "Anyway Bokeh is composed by a lot of capabilities and functions. In this tutorial we will see a little part of the library, so for more detailed information please consult the full [User Guide](http://bokeh.pydata.org/en/latest/docs/user_guide.html#userguide).\n",
    "\n",
    "Plotting data in basic Python lists as a line plot including zoom, pan, save, and other tools is simple and straightforward:"
   ]
  },
  {
   "cell_type": "code",
   "execution_count": 1,
   "metadata": {},
   "outputs": [],
   "source": [
    "import bokeh"
   ]
  },
  {
   "cell_type": "code",
   "execution_count": 2,
   "metadata": {},
   "outputs": [
    {
     "data": {
      "text/plain": [
       "'2.4.3'"
      ]
     },
     "execution_count": 2,
     "metadata": {},
     "output_type": "execute_result"
    }
   ],
   "source": [
    "bokeh.__version__"
   ]
  },
  {
   "cell_type": "code",
   "execution_count": 3,
   "metadata": {},
   "outputs": [
    {
     "data": {
      "text/html": [
       "<div class=\"bk-root\">\n",
       "        <a href=\"https://bokeh.org\" target=\"_blank\" class=\"bk-logo bk-logo-small bk-logo-notebook\"></a>\n",
       "        <span id=\"1002\">Loading BokehJS ...</span>\n",
       "    </div>\n"
      ]
     },
     "metadata": {},
     "output_type": "display_data"
    },
    {
     "data": {
      "application/javascript": [
       "(function(root) {\n",
       "  function now() {\n",
       "    return new Date();\n",
       "  }\n",
       "\n",
       "  const force = true;\n",
       "\n",
       "  if (typeof root._bokeh_onload_callbacks === \"undefined\" || force === true) {\n",
       "    root._bokeh_onload_callbacks = [];\n",
       "    root._bokeh_is_loading = undefined;\n",
       "  }\n",
       "\n",
       "const JS_MIME_TYPE = 'application/javascript';\n",
       "  const HTML_MIME_TYPE = 'text/html';\n",
       "  const EXEC_MIME_TYPE = 'application/vnd.bokehjs_exec.v0+json';\n",
       "  const CLASS_NAME = 'output_bokeh rendered_html';\n",
       "\n",
       "  /**\n",
       "   * Render data to the DOM node\n",
       "   */\n",
       "  function render(props, node) {\n",
       "    const script = document.createElement(\"script\");\n",
       "    node.appendChild(script);\n",
       "  }\n",
       "\n",
       "  /**\n",
       "   * Handle when an output is cleared or removed\n",
       "   */\n",
       "  function handleClearOutput(event, handle) {\n",
       "    const cell = handle.cell;\n",
       "\n",
       "    const id = cell.output_area._bokeh_element_id;\n",
       "    const server_id = cell.output_area._bokeh_server_id;\n",
       "    // Clean up Bokeh references\n",
       "    if (id != null && id in Bokeh.index) {\n",
       "      Bokeh.index[id].model.document.clear();\n",
       "      delete Bokeh.index[id];\n",
       "    }\n",
       "\n",
       "    if (server_id !== undefined) {\n",
       "      // Clean up Bokeh references\n",
       "      const cmd_clean = \"from bokeh.io.state import curstate; print(curstate().uuid_to_server['\" + server_id + \"'].get_sessions()[0].document.roots[0]._id)\";\n",
       "      cell.notebook.kernel.execute(cmd_clean, {\n",
       "        iopub: {\n",
       "          output: function(msg) {\n",
       "            const id = msg.content.text.trim();\n",
       "            if (id in Bokeh.index) {\n",
       "              Bokeh.index[id].model.document.clear();\n",
       "              delete Bokeh.index[id];\n",
       "            }\n",
       "          }\n",
       "        }\n",
       "      });\n",
       "      // Destroy server and session\n",
       "      const cmd_destroy = \"import bokeh.io.notebook as ion; ion.destroy_server('\" + server_id + \"')\";\n",
       "      cell.notebook.kernel.execute(cmd_destroy);\n",
       "    }\n",
       "  }\n",
       "\n",
       "  /**\n",
       "   * Handle when a new output is added\n",
       "   */\n",
       "  function handleAddOutput(event, handle) {\n",
       "    const output_area = handle.output_area;\n",
       "    const output = handle.output;\n",
       "\n",
       "    // limit handleAddOutput to display_data with EXEC_MIME_TYPE content only\n",
       "    if ((output.output_type != \"display_data\") || (!Object.prototype.hasOwnProperty.call(output.data, EXEC_MIME_TYPE))) {\n",
       "      return\n",
       "    }\n",
       "\n",
       "    const toinsert = output_area.element.find(\".\" + CLASS_NAME.split(' ')[0]);\n",
       "\n",
       "    if (output.metadata[EXEC_MIME_TYPE][\"id\"] !== undefined) {\n",
       "      toinsert[toinsert.length - 1].firstChild.textContent = output.data[JS_MIME_TYPE];\n",
       "      // store reference to embed id on output_area\n",
       "      output_area._bokeh_element_id = output.metadata[EXEC_MIME_TYPE][\"id\"];\n",
       "    }\n",
       "    if (output.metadata[EXEC_MIME_TYPE][\"server_id\"] !== undefined) {\n",
       "      const bk_div = document.createElement(\"div\");\n",
       "      bk_div.innerHTML = output.data[HTML_MIME_TYPE];\n",
       "      const script_attrs = bk_div.children[0].attributes;\n",
       "      for (let i = 0; i < script_attrs.length; i++) {\n",
       "        toinsert[toinsert.length - 1].firstChild.setAttribute(script_attrs[i].name, script_attrs[i].value);\n",
       "        toinsert[toinsert.length - 1].firstChild.textContent = bk_div.children[0].textContent\n",
       "      }\n",
       "      // store reference to server id on output_area\n",
       "      output_area._bokeh_server_id = output.metadata[EXEC_MIME_TYPE][\"server_id\"];\n",
       "    }\n",
       "  }\n",
       "\n",
       "  function register_renderer(events, OutputArea) {\n",
       "\n",
       "    function append_mime(data, metadata, element) {\n",
       "      // create a DOM node to render to\n",
       "      const toinsert = this.create_output_subarea(\n",
       "        metadata,\n",
       "        CLASS_NAME,\n",
       "        EXEC_MIME_TYPE\n",
       "      );\n",
       "      this.keyboard_manager.register_events(toinsert);\n",
       "      // Render to node\n",
       "      const props = {data: data, metadata: metadata[EXEC_MIME_TYPE]};\n",
       "      render(props, toinsert[toinsert.length - 1]);\n",
       "      element.append(toinsert);\n",
       "      return toinsert\n",
       "    }\n",
       "\n",
       "    /* Handle when an output is cleared or removed */\n",
       "    events.on('clear_output.CodeCell', handleClearOutput);\n",
       "    events.on('delete.Cell', handleClearOutput);\n",
       "\n",
       "    /* Handle when a new output is added */\n",
       "    events.on('output_added.OutputArea', handleAddOutput);\n",
       "\n",
       "    /**\n",
       "     * Register the mime type and append_mime function with output_area\n",
       "     */\n",
       "    OutputArea.prototype.register_mime_type(EXEC_MIME_TYPE, append_mime, {\n",
       "      /* Is output safe? */\n",
       "      safe: true,\n",
       "      /* Index of renderer in `output_area.display_order` */\n",
       "      index: 0\n",
       "    });\n",
       "  }\n",
       "\n",
       "  // register the mime type if in Jupyter Notebook environment and previously unregistered\n",
       "  if (root.Jupyter !== undefined) {\n",
       "    const events = require('base/js/events');\n",
       "    const OutputArea = require('notebook/js/outputarea').OutputArea;\n",
       "\n",
       "    if (OutputArea.prototype.mime_types().indexOf(EXEC_MIME_TYPE) == -1) {\n",
       "      register_renderer(events, OutputArea);\n",
       "    }\n",
       "  }\n",
       "  if (typeof (root._bokeh_timeout) === \"undefined\" || force === true) {\n",
       "    root._bokeh_timeout = Date.now() + 5000;\n",
       "    root._bokeh_failed_load = false;\n",
       "  }\n",
       "\n",
       "  const NB_LOAD_WARNING = {'data': {'text/html':\n",
       "     \"<div style='background-color: #fdd'>\\n\"+\n",
       "     \"<p>\\n\"+\n",
       "     \"BokehJS does not appear to have successfully loaded. If loading BokehJS from CDN, this \\n\"+\n",
       "     \"may be due to a slow or bad network connection. Possible fixes:\\n\"+\n",
       "     \"</p>\\n\"+\n",
       "     \"<ul>\\n\"+\n",
       "     \"<li>re-rerun `output_notebook()` to attempt to load from CDN again, or</li>\\n\"+\n",
       "     \"<li>use INLINE resources instead, as so:</li>\\n\"+\n",
       "     \"</ul>\\n\"+\n",
       "     \"<code>\\n\"+\n",
       "     \"from bokeh.resources import INLINE\\n\"+\n",
       "     \"output_notebook(resources=INLINE)\\n\"+\n",
       "     \"</code>\\n\"+\n",
       "     \"</div>\"}};\n",
       "\n",
       "  function display_loaded() {\n",
       "    const el = document.getElementById(\"1002\");\n",
       "    if (el != null) {\n",
       "      el.textContent = \"BokehJS is loading...\";\n",
       "    }\n",
       "    if (root.Bokeh !== undefined) {\n",
       "      if (el != null) {\n",
       "        el.textContent = \"BokehJS \" + root.Bokeh.version + \" successfully loaded.\";\n",
       "      }\n",
       "    } else if (Date.now() < root._bokeh_timeout) {\n",
       "      setTimeout(display_loaded, 100)\n",
       "    }\n",
       "  }\n",
       "\n",
       "  function run_callbacks() {\n",
       "    try {\n",
       "      root._bokeh_onload_callbacks.forEach(function(callback) {\n",
       "        if (callback != null)\n",
       "          callback();\n",
       "      });\n",
       "    } finally {\n",
       "      delete root._bokeh_onload_callbacks\n",
       "    }\n",
       "    console.debug(\"Bokeh: all callbacks have finished\");\n",
       "  }\n",
       "\n",
       "  function load_libs(css_urls, js_urls, callback) {\n",
       "    if (css_urls == null) css_urls = [];\n",
       "    if (js_urls == null) js_urls = [];\n",
       "\n",
       "    root._bokeh_onload_callbacks.push(callback);\n",
       "    if (root._bokeh_is_loading > 0) {\n",
       "      console.debug(\"Bokeh: BokehJS is being loaded, scheduling callback at\", now());\n",
       "      return null;\n",
       "    }\n",
       "    if (js_urls == null || js_urls.length === 0) {\n",
       "      run_callbacks();\n",
       "      return null;\n",
       "    }\n",
       "    console.debug(\"Bokeh: BokehJS not loaded, scheduling load and callback at\", now());\n",
       "    root._bokeh_is_loading = css_urls.length + js_urls.length;\n",
       "\n",
       "    function on_load() {\n",
       "      root._bokeh_is_loading--;\n",
       "      if (root._bokeh_is_loading === 0) {\n",
       "        console.debug(\"Bokeh: all BokehJS libraries/stylesheets loaded\");\n",
       "        run_callbacks()\n",
       "      }\n",
       "    }\n",
       "\n",
       "    function on_error(url) {\n",
       "      console.error(\"failed to load \" + url);\n",
       "    }\n",
       "\n",
       "    for (let i = 0; i < css_urls.length; i++) {\n",
       "      const url = css_urls[i];\n",
       "      const element = document.createElement(\"link\");\n",
       "      element.onload = on_load;\n",
       "      element.onerror = on_error.bind(null, url);\n",
       "      element.rel = \"stylesheet\";\n",
       "      element.type = \"text/css\";\n",
       "      element.href = url;\n",
       "      console.debug(\"Bokeh: injecting link tag for BokehJS stylesheet: \", url);\n",
       "      document.body.appendChild(element);\n",
       "    }\n",
       "\n",
       "    for (let i = 0; i < js_urls.length; i++) {\n",
       "      const url = js_urls[i];\n",
       "      const element = document.createElement('script');\n",
       "      element.onload = on_load;\n",
       "      element.onerror = on_error.bind(null, url);\n",
       "      element.async = false;\n",
       "      element.src = url;\n",
       "      console.debug(\"Bokeh: injecting script tag for BokehJS library: \", url);\n",
       "      document.head.appendChild(element);\n",
       "    }\n",
       "  };\n",
       "\n",
       "  function inject_raw_css(css) {\n",
       "    const element = document.createElement(\"style\");\n",
       "    element.appendChild(document.createTextNode(css));\n",
       "    document.body.appendChild(element);\n",
       "  }\n",
       "\n",
       "  const js_urls = [\"https://cdn.bokeh.org/bokeh/release/bokeh-2.4.3.min.js\", \"https://cdn.bokeh.org/bokeh/release/bokeh-gl-2.4.3.min.js\", \"https://cdn.bokeh.org/bokeh/release/bokeh-widgets-2.4.3.min.js\", \"https://cdn.bokeh.org/bokeh/release/bokeh-tables-2.4.3.min.js\", \"https://cdn.bokeh.org/bokeh/release/bokeh-mathjax-2.4.3.min.js\"];\n",
       "  const css_urls = [];\n",
       "\n",
       "  const inline_js = [    function(Bokeh) {\n",
       "      Bokeh.set_log_level(\"info\");\n",
       "    },\n",
       "function(Bokeh) {\n",
       "    }\n",
       "  ];\n",
       "\n",
       "  function run_inline_js() {\n",
       "    if (root.Bokeh !== undefined || force === true) {\n",
       "          for (let i = 0; i < inline_js.length; i++) {\n",
       "      inline_js[i].call(root, root.Bokeh);\n",
       "    }\n",
       "if (force === true) {\n",
       "        display_loaded();\n",
       "      }} else if (Date.now() < root._bokeh_timeout) {\n",
       "      setTimeout(run_inline_js, 100);\n",
       "    } else if (!root._bokeh_failed_load) {\n",
       "      console.log(\"Bokeh: BokehJS failed to load within specified timeout.\");\n",
       "      root._bokeh_failed_load = true;\n",
       "    } else if (force !== true) {\n",
       "      const cell = $(document.getElementById(\"1002\")).parents('.cell').data().cell;\n",
       "      cell.output_area.append_execute_result(NB_LOAD_WARNING)\n",
       "    }\n",
       "  }\n",
       "\n",
       "  if (root._bokeh_is_loading === 0) {\n",
       "    console.debug(\"Bokeh: BokehJS loaded, going straight to plotting\");\n",
       "    run_inline_js();\n",
       "  } else {\n",
       "    load_libs(css_urls, js_urls, function() {\n",
       "      console.debug(\"Bokeh: BokehJS plotting callback run at\", now());\n",
       "      run_inline_js();\n",
       "    });\n",
       "  }\n",
       "}(window));"
      ],
      "application/vnd.bokehjs_load.v0+json": "(function(root) {\n  function now() {\n    return new Date();\n  }\n\n  const force = true;\n\n  if (typeof root._bokeh_onload_callbacks === \"undefined\" || force === true) {\n    root._bokeh_onload_callbacks = [];\n    root._bokeh_is_loading = undefined;\n  }\n\n\n  if (typeof (root._bokeh_timeout) === \"undefined\" || force === true) {\n    root._bokeh_timeout = Date.now() + 5000;\n    root._bokeh_failed_load = false;\n  }\n\n  const NB_LOAD_WARNING = {'data': {'text/html':\n     \"<div style='background-color: #fdd'>\\n\"+\n     \"<p>\\n\"+\n     \"BokehJS does not appear to have successfully loaded. If loading BokehJS from CDN, this \\n\"+\n     \"may be due to a slow or bad network connection. Possible fixes:\\n\"+\n     \"</p>\\n\"+\n     \"<ul>\\n\"+\n     \"<li>re-rerun `output_notebook()` to attempt to load from CDN again, or</li>\\n\"+\n     \"<li>use INLINE resources instead, as so:</li>\\n\"+\n     \"</ul>\\n\"+\n     \"<code>\\n\"+\n     \"from bokeh.resources import INLINE\\n\"+\n     \"output_notebook(resources=INLINE)\\n\"+\n     \"</code>\\n\"+\n     \"</div>\"}};\n\n  function display_loaded() {\n    const el = document.getElementById(\"1002\");\n    if (el != null) {\n      el.textContent = \"BokehJS is loading...\";\n    }\n    if (root.Bokeh !== undefined) {\n      if (el != null) {\n        el.textContent = \"BokehJS \" + root.Bokeh.version + \" successfully loaded.\";\n      }\n    } else if (Date.now() < root._bokeh_timeout) {\n      setTimeout(display_loaded, 100)\n    }\n  }\n\n  function run_callbacks() {\n    try {\n      root._bokeh_onload_callbacks.forEach(function(callback) {\n        if (callback != null)\n          callback();\n      });\n    } finally {\n      delete root._bokeh_onload_callbacks\n    }\n    console.debug(\"Bokeh: all callbacks have finished\");\n  }\n\n  function load_libs(css_urls, js_urls, callback) {\n    if (css_urls == null) css_urls = [];\n    if (js_urls == null) js_urls = [];\n\n    root._bokeh_onload_callbacks.push(callback);\n    if (root._bokeh_is_loading > 0) {\n      console.debug(\"Bokeh: BokehJS is being loaded, scheduling callback at\", now());\n      return null;\n    }\n    if (js_urls == null || js_urls.length === 0) {\n      run_callbacks();\n      return null;\n    }\n    console.debug(\"Bokeh: BokehJS not loaded, scheduling load and callback at\", now());\n    root._bokeh_is_loading = css_urls.length + js_urls.length;\n\n    function on_load() {\n      root._bokeh_is_loading--;\n      if (root._bokeh_is_loading === 0) {\n        console.debug(\"Bokeh: all BokehJS libraries/stylesheets loaded\");\n        run_callbacks()\n      }\n    }\n\n    function on_error(url) {\n      console.error(\"failed to load \" + url);\n    }\n\n    for (let i = 0; i < css_urls.length; i++) {\n      const url = css_urls[i];\n      const element = document.createElement(\"link\");\n      element.onload = on_load;\n      element.onerror = on_error.bind(null, url);\n      element.rel = \"stylesheet\";\n      element.type = \"text/css\";\n      element.href = url;\n      console.debug(\"Bokeh: injecting link tag for BokehJS stylesheet: \", url);\n      document.body.appendChild(element);\n    }\n\n    for (let i = 0; i < js_urls.length; i++) {\n      const url = js_urls[i];\n      const element = document.createElement('script');\n      element.onload = on_load;\n      element.onerror = on_error.bind(null, url);\n      element.async = false;\n      element.src = url;\n      console.debug(\"Bokeh: injecting script tag for BokehJS library: \", url);\n      document.head.appendChild(element);\n    }\n  };\n\n  function inject_raw_css(css) {\n    const element = document.createElement(\"style\");\n    element.appendChild(document.createTextNode(css));\n    document.body.appendChild(element);\n  }\n\n  const js_urls = [\"https://cdn.bokeh.org/bokeh/release/bokeh-2.4.3.min.js\", \"https://cdn.bokeh.org/bokeh/release/bokeh-gl-2.4.3.min.js\", \"https://cdn.bokeh.org/bokeh/release/bokeh-widgets-2.4.3.min.js\", \"https://cdn.bokeh.org/bokeh/release/bokeh-tables-2.4.3.min.js\", \"https://cdn.bokeh.org/bokeh/release/bokeh-mathjax-2.4.3.min.js\"];\n  const css_urls = [];\n\n  const inline_js = [    function(Bokeh) {\n      Bokeh.set_log_level(\"info\");\n    },\nfunction(Bokeh) {\n    }\n  ];\n\n  function run_inline_js() {\n    if (root.Bokeh !== undefined || force === true) {\n          for (let i = 0; i < inline_js.length; i++) {\n      inline_js[i].call(root, root.Bokeh);\n    }\nif (force === true) {\n        display_loaded();\n      }} else if (Date.now() < root._bokeh_timeout) {\n      setTimeout(run_inline_js, 100);\n    } else if (!root._bokeh_failed_load) {\n      console.log(\"Bokeh: BokehJS failed to load within specified timeout.\");\n      root._bokeh_failed_load = true;\n    } else if (force !== true) {\n      const cell = $(document.getElementById(\"1002\")).parents('.cell').data().cell;\n      cell.output_area.append_execute_result(NB_LOAD_WARNING)\n    }\n  }\n\n  if (root._bokeh_is_loading === 0) {\n    console.debug(\"Bokeh: BokehJS loaded, going straight to plotting\");\n    run_inline_js();\n  } else {\n    load_libs(css_urls, js_urls, function() {\n      console.debug(\"Bokeh: BokehJS plotting callback run at\", now());\n      run_inline_js();\n    });\n  }\n}(window));"
     },
     "metadata": {},
     "output_type": "display_data"
    }
   ],
   "source": [
    "from bokeh.plotting import figure, output_notebook, show\n",
    "output_notebook()"
   ]
  },
  {
   "cell_type": "code",
   "execution_count": 4,
   "metadata": {},
   "outputs": [
    {
     "data": {
      "text/html": [
       "\n",
       "  <div class=\"bk-root\" id=\"c48ee85f-147d-4b55-8163-df7dc9bdd4e4\" data-root-id=\"1003\"></div>\n"
      ]
     },
     "metadata": {},
     "output_type": "display_data"
    },
    {
     "data": {
      "application/javascript": [
       "(function(root) {\n",
       "  function embed_document(root) {\n",
       "  const docs_json = {\"7a9e85e0-ee92-4d2a-ab65-d38ab5be7733\":{\"defs\":[],\"roots\":{\"references\":[{\"attributes\":{\"below\":[{\"id\":\"1012\"}],\"center\":[{\"id\":\"1015\"},{\"id\":\"1019\"}],\"height\":400,\"left\":[{\"id\":\"1016\"}],\"renderers\":[{\"id\":\"1038\"}],\"title\":{\"id\":\"1040\"},\"toolbar\":{\"id\":\"1027\"},\"width\":400,\"x_range\":{\"id\":\"1004\"},\"x_scale\":{\"id\":\"1008\"},\"y_range\":{\"id\":\"1006\"},\"y_scale\":{\"id\":\"1010\"}},\"id\":\"1003\",\"subtype\":\"Figure\",\"type\":\"Plot\"},{\"attributes\":{},\"id\":\"1017\",\"type\":\"BasicTicker\"},{\"attributes\":{\"axis\":{\"id\":\"1016\"},\"coordinates\":null,\"dimension\":1,\"group\":null,\"ticker\":null},\"id\":\"1019\",\"type\":\"Grid\"},{\"attributes\":{\"axis\":{\"id\":\"1012\"},\"coordinates\":null,\"group\":null,\"ticker\":null},\"id\":\"1015\",\"type\":\"Grid\"},{\"attributes\":{\"fill_alpha\":{\"value\":0.5},\"fill_color\":{\"value\":\"navy\"},\"hatch_alpha\":{\"value\":0.5},\"hatch_color\":{\"value\":\"navy\"},\"line_alpha\":{\"value\":0.5},\"line_color\":{\"value\":\"navy\"},\"size\":{\"value\":20},\"x\":{\"field\":\"x\"},\"y\":{\"field\":\"y\"}},\"id\":\"1035\",\"type\":\"Circle\"},{\"attributes\":{},\"id\":\"1013\",\"type\":\"BasicTicker\"},{\"attributes\":{\"fill_alpha\":{\"value\":0.2},\"fill_color\":{\"value\":\"navy\"},\"hatch_alpha\":{\"value\":0.2},\"hatch_color\":{\"value\":\"navy\"},\"line_alpha\":{\"value\":0.2},\"line_color\":{\"value\":\"navy\"},\"size\":{\"value\":20},\"x\":{\"field\":\"x\"},\"y\":{\"field\":\"y\"}},\"id\":\"1037\",\"type\":\"Circle\"},{\"attributes\":{},\"id\":\"1023\",\"type\":\"SaveTool\"},{\"attributes\":{\"data\":{\"x\":[1,2,3,4,5],\"y\":[6,7,2,4,5]},\"selected\":{\"id\":\"1049\"},\"selection_policy\":{\"id\":\"1048\"}},\"id\":\"1034\",\"type\":\"ColumnDataSource\"},{\"attributes\":{\"coordinates\":null,\"data_source\":{\"id\":\"1034\"},\"glyph\":{\"id\":\"1035\"},\"group\":null,\"hover_glyph\":null,\"muted_glyph\":{\"id\":\"1037\"},\"nonselection_glyph\":{\"id\":\"1036\"},\"view\":{\"id\":\"1039\"}},\"id\":\"1038\",\"type\":\"GlyphRenderer\"},{\"attributes\":{},\"id\":\"1043\",\"type\":\"BasicTickFormatter\"},{\"attributes\":{\"source\":{\"id\":\"1034\"}},\"id\":\"1039\",\"type\":\"CDSView\"},{\"attributes\":{\"fill_alpha\":{\"value\":0.1},\"fill_color\":{\"value\":\"navy\"},\"hatch_alpha\":{\"value\":0.1},\"hatch_color\":{\"value\":\"navy\"},\"line_alpha\":{\"value\":0.1},\"line_color\":{\"value\":\"navy\"},\"size\":{\"value\":20},\"x\":{\"field\":\"x\"},\"y\":{\"field\":\"y\"}},\"id\":\"1036\",\"type\":\"Circle\"},{\"attributes\":{},\"id\":\"1004\",\"type\":\"DataRange1d\"},{\"attributes\":{},\"id\":\"1044\",\"type\":\"AllLabels\"},{\"attributes\":{},\"id\":\"1006\",\"type\":\"DataRange1d\"},{\"attributes\":{},\"id\":\"1020\",\"type\":\"PanTool\"},{\"attributes\":{},\"id\":\"1046\",\"type\":\"BasicTickFormatter\"},{\"attributes\":{},\"id\":\"1047\",\"type\":\"AllLabels\"},{\"attributes\":{\"coordinates\":null,\"group\":null},\"id\":\"1040\",\"type\":\"Title\"},{\"attributes\":{\"tools\":[{\"id\":\"1020\"},{\"id\":\"1021\"},{\"id\":\"1022\"},{\"id\":\"1023\"},{\"id\":\"1024\"},{\"id\":\"1025\"}]},\"id\":\"1027\",\"type\":\"Toolbar\"},{\"attributes\":{\"coordinates\":null,\"formatter\":{\"id\":\"1043\"},\"group\":null,\"major_label_policy\":{\"id\":\"1044\"},\"ticker\":{\"id\":\"1017\"}},\"id\":\"1016\",\"type\":\"LinearAxis\"},{\"attributes\":{\"coordinates\":null,\"formatter\":{\"id\":\"1046\"},\"group\":null,\"major_label_policy\":{\"id\":\"1047\"},\"ticker\":{\"id\":\"1013\"}},\"id\":\"1012\",\"type\":\"LinearAxis\"},{\"attributes\":{},\"id\":\"1010\",\"type\":\"LinearScale\"},{\"attributes\":{},\"id\":\"1008\",\"type\":\"LinearScale\"},{\"attributes\":{},\"id\":\"1048\",\"type\":\"UnionRenderers\"},{\"attributes\":{\"bottom_units\":\"screen\",\"coordinates\":null,\"fill_alpha\":0.5,\"fill_color\":\"lightgrey\",\"group\":null,\"left_units\":\"screen\",\"level\":\"overlay\",\"line_alpha\":1.0,\"line_color\":\"black\",\"line_dash\":[4,4],\"line_width\":2,\"right_units\":\"screen\",\"syncable\":false,\"top_units\":\"screen\"},\"id\":\"1026\",\"type\":\"BoxAnnotation\"},{\"attributes\":{},\"id\":\"1049\",\"type\":\"Selection\"},{\"attributes\":{},\"id\":\"1024\",\"type\":\"ResetTool\"},{\"attributes\":{},\"id\":\"1025\",\"type\":\"HelpTool\"},{\"attributes\":{\"overlay\":{\"id\":\"1026\"}},\"id\":\"1022\",\"type\":\"BoxZoomTool\"},{\"attributes\":{},\"id\":\"1021\",\"type\":\"WheelZoomTool\"}],\"root_ids\":[\"1003\"]},\"title\":\"Bokeh Application\",\"version\":\"2.4.3\"}};\n",
       "  const render_items = [{\"docid\":\"7a9e85e0-ee92-4d2a-ab65-d38ab5be7733\",\"root_ids\":[\"1003\"],\"roots\":{\"1003\":\"c48ee85f-147d-4b55-8163-df7dc9bdd4e4\"}}];\n",
       "  root.Bokeh.embed.embed_items_notebook(docs_json, render_items);\n",
       "  }\n",
       "  if (root.Bokeh !== undefined) {\n",
       "    embed_document(root);\n",
       "  } else {\n",
       "    let attempts = 0;\n",
       "    const timer = setInterval(function(root) {\n",
       "      if (root.Bokeh !== undefined) {\n",
       "        clearInterval(timer);\n",
       "        embed_document(root);\n",
       "      } else {\n",
       "        attempts++;\n",
       "        if (attempts > 100) {\n",
       "          clearInterval(timer);\n",
       "          console.log(\"Bokeh: ERROR: Unable to run BokehJS code because BokehJS library is missing\");\n",
       "        }\n",
       "      }\n",
       "    }, 10, root)\n",
       "  }\n",
       "})(window);"
      ],
      "application/vnd.bokehjs_exec.v0+json": ""
     },
     "metadata": {
      "application/vnd.bokehjs_exec.v0+json": {
       "id": "1003"
      }
     },
     "output_type": "display_data"
    }
   ],
   "source": [
    "p = figure(plot_width=400, plot_height=400)\n",
    "\n",
    "# add a circle renderer with a size, color, and alpha\n",
    "p.circle([1, 2, 3, 4, 5], [6, 7, 2, 4, 5], size=20, color=\"navy\", alpha=0.5)\n",
    "\n",
    "# show the results\n",
    "show(p)"
   ]
  },
  {
   "cell_type": "markdown",
   "metadata": {},
   "source": [
    "### Multiple lines"
   ]
  },
  {
   "cell_type": "code",
   "execution_count": 5,
   "metadata": {},
   "outputs": [
    {
     "data": {
      "text/html": [
       "\n",
       "  <div class=\"bk-root\" id=\"7f568a9a-0cb5-49c9-879c-b2d6e79c80be\" data-root-id=\"1106\"></div>\n"
      ]
     },
     "metadata": {},
     "output_type": "display_data"
    },
    {
     "data": {
      "application/javascript": [
       "(function(root) {\n",
       "  function embed_document(root) {\n",
       "  const docs_json = {\"e00be3cd-2ed5-4a88-8208-9739d804e31a\":{\"defs\":[],\"roots\":{\"references\":[{\"attributes\":{\"below\":[{\"id\":\"1115\"}],\"center\":[{\"id\":\"1118\"},{\"id\":\"1122\"}],\"height\":400,\"left\":[{\"id\":\"1119\"}],\"renderers\":[{\"id\":\"1141\"}],\"title\":{\"id\":\"1154\"},\"toolbar\":{\"id\":\"1130\"},\"width\":400,\"x_range\":{\"id\":\"1107\"},\"x_scale\":{\"id\":\"1111\"},\"y_range\":{\"id\":\"1109\"},\"y_scale\":{\"id\":\"1113\"}},\"id\":\"1106\",\"subtype\":\"Figure\",\"type\":\"Plot\"},{\"attributes\":{\"bottom_units\":\"screen\",\"coordinates\":null,\"fill_alpha\":0.5,\"fill_color\":\"lightgrey\",\"group\":null,\"left_units\":\"screen\",\"level\":\"overlay\",\"line_alpha\":1.0,\"line_color\":\"black\",\"line_dash\":[4,4],\"line_width\":2,\"right_units\":\"screen\",\"syncable\":false,\"top_units\":\"screen\"},\"id\":\"1129\",\"type\":\"BoxAnnotation\"},{\"attributes\":{},\"id\":\"1111\",\"type\":\"LinearScale\"},{\"attributes\":{},\"id\":\"1109\",\"type\":\"DataRange1d\"},{\"attributes\":{\"coordinates\":null,\"data_source\":{\"id\":\"1137\"},\"glyph\":{\"id\":\"1138\"},\"group\":null,\"hover_glyph\":null,\"muted_glyph\":{\"id\":\"1140\"},\"nonselection_glyph\":{\"id\":\"1139\"},\"view\":{\"id\":\"1142\"}},\"id\":\"1141\",\"type\":\"GlyphRenderer\"},{\"attributes\":{\"line_alpha\":{\"field\":\"line_alpha\"},\"line_color\":{\"field\":\"line_color\"},\"line_width\":{\"value\":4},\"xs\":{\"field\":\"xs\"},\"ys\":{\"field\":\"ys\"}},\"id\":\"1138\",\"type\":\"MultiLine\"},{\"attributes\":{\"coordinates\":null,\"formatter\":{\"id\":\"1160\"},\"group\":null,\"major_label_policy\":{\"id\":\"1161\"},\"ticker\":{\"id\":\"1116\"}},\"id\":\"1115\",\"type\":\"LinearAxis\"},{\"attributes\":{},\"id\":\"1107\",\"type\":\"DataRange1d\"},{\"attributes\":{},\"id\":\"1113\",\"type\":\"LinearScale\"},{\"attributes\":{},\"id\":\"1124\",\"type\":\"WheelZoomTool\"},{\"attributes\":{},\"id\":\"1158\",\"type\":\"AllLabels\"},{\"attributes\":{\"line_alpha\":{\"value\":0.1},\"line_color\":{\"field\":\"line_color\"},\"line_width\":{\"value\":4},\"xs\":{\"field\":\"xs\"},\"ys\":{\"field\":\"ys\"}},\"id\":\"1139\",\"type\":\"MultiLine\"},{\"attributes\":{},\"id\":\"1161\",\"type\":\"AllLabels\"},{\"attributes\":{\"tools\":[{\"id\":\"1123\"},{\"id\":\"1124\"},{\"id\":\"1125\"},{\"id\":\"1126\"},{\"id\":\"1127\"},{\"id\":\"1128\"}]},\"id\":\"1130\",\"type\":\"Toolbar\"},{\"attributes\":{},\"id\":\"1123\",\"type\":\"PanTool\"},{\"attributes\":{\"coordinates\":null,\"group\":null},\"id\":\"1154\",\"type\":\"Title\"},{\"attributes\":{},\"id\":\"1128\",\"type\":\"HelpTool\"},{\"attributes\":{\"line_alpha\":{\"value\":0.2},\"line_color\":{\"field\":\"line_color\"},\"line_width\":{\"value\":4},\"xs\":{\"field\":\"xs\"},\"ys\":{\"field\":\"ys\"}},\"id\":\"1140\",\"type\":\"MultiLine\"},{\"attributes\":{\"overlay\":{\"id\":\"1129\"}},\"id\":\"1125\",\"type\":\"BoxZoomTool\"},{\"attributes\":{},\"id\":\"1120\",\"type\":\"BasicTicker\"},{\"attributes\":{},\"id\":\"1157\",\"type\":\"BasicTickFormatter\"},{\"attributes\":{},\"id\":\"1126\",\"type\":\"SaveTool\"},{\"attributes\":{},\"id\":\"1160\",\"type\":\"BasicTickFormatter\"},{\"attributes\":{},\"id\":\"1162\",\"type\":\"UnionRenderers\"},{\"attributes\":{\"coordinates\":null,\"formatter\":{\"id\":\"1157\"},\"group\":null,\"major_label_policy\":{\"id\":\"1158\"},\"ticker\":{\"id\":\"1120\"}},\"id\":\"1119\",\"type\":\"LinearAxis\"},{\"attributes\":{\"axis\":{\"id\":\"1119\"},\"coordinates\":null,\"dimension\":1,\"group\":null,\"ticker\":null},\"id\":\"1122\",\"type\":\"Grid\"},{\"attributes\":{\"data\":{\"line_alpha\":[0.8,0.3],\"line_color\":[\"firebrick\",\"navy\"],\"xs\":[[1,3,2],[3,4,6,6]],\"ys\":[[2,1,4],[4,7,8,5]]},\"selected\":{\"id\":\"1163\"},\"selection_policy\":{\"id\":\"1162\"}},\"id\":\"1137\",\"type\":\"ColumnDataSource\"},{\"attributes\":{},\"id\":\"1163\",\"type\":\"Selection\"},{\"attributes\":{\"source\":{\"id\":\"1137\"}},\"id\":\"1142\",\"type\":\"CDSView\"},{\"attributes\":{},\"id\":\"1127\",\"type\":\"ResetTool\"},{\"attributes\":{},\"id\":\"1116\",\"type\":\"BasicTicker\"},{\"attributes\":{\"axis\":{\"id\":\"1115\"},\"coordinates\":null,\"group\":null,\"ticker\":null},\"id\":\"1118\",\"type\":\"Grid\"}],\"root_ids\":[\"1106\"]},\"title\":\"Bokeh Application\",\"version\":\"2.4.3\"}};\n",
       "  const render_items = [{\"docid\":\"e00be3cd-2ed5-4a88-8208-9739d804e31a\",\"root_ids\":[\"1106\"],\"roots\":{\"1106\":\"7f568a9a-0cb5-49c9-879c-b2d6e79c80be\"}}];\n",
       "  root.Bokeh.embed.embed_items_notebook(docs_json, render_items);\n",
       "  }\n",
       "  if (root.Bokeh !== undefined) {\n",
       "    embed_document(root);\n",
       "  } else {\n",
       "    let attempts = 0;\n",
       "    const timer = setInterval(function(root) {\n",
       "      if (root.Bokeh !== undefined) {\n",
       "        clearInterval(timer);\n",
       "        embed_document(root);\n",
       "      } else {\n",
       "        attempts++;\n",
       "        if (attempts > 100) {\n",
       "          clearInterval(timer);\n",
       "          console.log(\"Bokeh: ERROR: Unable to run BokehJS code because BokehJS library is missing\");\n",
       "        }\n",
       "      }\n",
       "    }, 10, root)\n",
       "  }\n",
       "})(window);"
      ],
      "application/vnd.bokehjs_exec.v0+json": ""
     },
     "metadata": {
      "application/vnd.bokehjs_exec.v0+json": {
       "id": "1106"
      }
     },
     "output_type": "display_data"
    }
   ],
   "source": [
    "p = figure(plot_width=400, plot_height=400)\n",
    "p.multi_line([[1, 3, 2], [3, 4, 6, 6]], [[2, 1, 4], [4, 7, 8, 5]],\n",
    "             color=[\"firebrick\", \"navy\"], alpha=[0.8, 0.3], line_width=4)\n",
    "show(p)"
   ]
  },
  {
   "cell_type": "markdown",
   "metadata": {},
   "source": [
    "### Plotting bars"
   ]
  },
  {
   "cell_type": "code",
   "execution_count": 6,
   "metadata": {},
   "outputs": [
    {
     "data": {
      "text/html": [
       "\n",
       "  <div class=\"bk-root\" id=\"dd10049b-d1d3-4df7-b143-93fb1be531e9\" data-root-id=\"1220\"></div>\n"
      ]
     },
     "metadata": {},
     "output_type": "display_data"
    },
    {
     "data": {
      "application/javascript": [
       "(function(root) {\n",
       "  function embed_document(root) {\n",
       "  const docs_json = {\"85c25d4c-394f-45b7-b4df-d9097b2b6ff8\":{\"defs\":[],\"roots\":{\"references\":[{\"attributes\":{\"below\":[{\"id\":\"1229\"}],\"center\":[{\"id\":\"1232\"},{\"id\":\"1236\"}],\"height\":400,\"left\":[{\"id\":\"1233\"}],\"renderers\":[{\"id\":\"1255\"}],\"title\":{\"id\":\"1279\"},\"toolbar\":{\"id\":\"1244\"},\"width\":400,\"x_range\":{\"id\":\"1221\"},\"x_scale\":{\"id\":\"1225\"},\"y_range\":{\"id\":\"1223\"},\"y_scale\":{\"id\":\"1227\"}},\"id\":\"1220\",\"subtype\":\"Figure\",\"type\":\"Plot\"},{\"attributes\":{\"coordinates\":null,\"formatter\":{\"id\":\"1285\"},\"group\":null,\"major_label_policy\":{\"id\":\"1286\"},\"ticker\":{\"id\":\"1230\"}},\"id\":\"1229\",\"type\":\"LinearAxis\"},{\"attributes\":{},\"id\":\"1223\",\"type\":\"DataRange1d\"},{\"attributes\":{},\"id\":\"1288\",\"type\":\"Selection\"},{\"attributes\":{\"axis\":{\"id\":\"1229\"},\"coordinates\":null,\"group\":null,\"ticker\":null},\"id\":\"1232\",\"type\":\"Grid\"},{\"attributes\":{},\"id\":\"1227\",\"type\":\"LinearScale\"},{\"attributes\":{\"coordinates\":null,\"group\":null},\"id\":\"1279\",\"type\":\"Title\"},{\"attributes\":{},\"id\":\"1225\",\"type\":\"LinearScale\"},{\"attributes\":{\"axis\":{\"id\":\"1233\"},\"coordinates\":null,\"dimension\":1,\"group\":null,\"ticker\":null},\"id\":\"1236\",\"type\":\"Grid\"},{\"attributes\":{},\"id\":\"1230\",\"type\":\"BasicTicker\"},{\"attributes\":{\"data\":{\"top\":[1.2,2.5,3.7],\"x\":[1,2,3]},\"selected\":{\"id\":\"1288\"},\"selection_policy\":{\"id\":\"1287\"}},\"id\":\"1251\",\"type\":\"ColumnDataSource\"},{\"attributes\":{\"fill_alpha\":{\"value\":0.1},\"fill_color\":{\"value\":\"red\"},\"hatch_alpha\":{\"value\":0.1},\"hatch_color\":{\"value\":\"red\"},\"line_alpha\":{\"value\":0.1},\"line_color\":{\"value\":\"red\"},\"top\":{\"field\":\"top\"},\"width\":{\"value\":0.5},\"x\":{\"field\":\"x\"}},\"id\":\"1253\",\"type\":\"VBar\"},{\"attributes\":{\"fill_alpha\":{\"value\":0.2},\"fill_color\":{\"value\":\"red\"},\"hatch_alpha\":{\"value\":0.2},\"hatch_color\":{\"value\":\"red\"},\"line_alpha\":{\"value\":0.2},\"line_color\":{\"value\":\"red\"},\"top\":{\"field\":\"top\"},\"width\":{\"value\":0.5},\"x\":{\"field\":\"x\"}},\"id\":\"1254\",\"type\":\"VBar\"},{\"attributes\":{},\"id\":\"1287\",\"type\":\"UnionRenderers\"},{\"attributes\":{\"fill_color\":{\"value\":\"red\"},\"hatch_color\":{\"value\":\"red\"},\"line_color\":{\"value\":\"red\"},\"top\":{\"field\":\"top\"},\"width\":{\"value\":0.5},\"x\":{\"field\":\"x\"}},\"id\":\"1252\",\"type\":\"VBar\"},{\"attributes\":{},\"id\":\"1221\",\"type\":\"DataRange1d\"},{\"attributes\":{\"source\":{\"id\":\"1251\"}},\"id\":\"1256\",\"type\":\"CDSView\"},{\"attributes\":{\"tools\":[{\"id\":\"1237\"},{\"id\":\"1238\"},{\"id\":\"1239\"},{\"id\":\"1240\"},{\"id\":\"1241\"},{\"id\":\"1242\"}]},\"id\":\"1244\",\"type\":\"Toolbar\"},{\"attributes\":{},\"id\":\"1282\",\"type\":\"BasicTickFormatter\"},{\"attributes\":{},\"id\":\"1283\",\"type\":\"AllLabels\"},{\"attributes\":{},\"id\":\"1240\",\"type\":\"SaveTool\"},{\"attributes\":{},\"id\":\"1285\",\"type\":\"BasicTickFormatter\"},{\"attributes\":{},\"id\":\"1241\",\"type\":\"ResetTool\"},{\"attributes\":{},\"id\":\"1286\",\"type\":\"AllLabels\"},{\"attributes\":{\"bottom_units\":\"screen\",\"coordinates\":null,\"fill_alpha\":0.5,\"fill_color\":\"lightgrey\",\"group\":null,\"left_units\":\"screen\",\"level\":\"overlay\",\"line_alpha\":1.0,\"line_color\":\"black\",\"line_dash\":[4,4],\"line_width\":2,\"right_units\":\"screen\",\"syncable\":false,\"top_units\":\"screen\"},\"id\":\"1243\",\"type\":\"BoxAnnotation\"},{\"attributes\":{},\"id\":\"1238\",\"type\":\"WheelZoomTool\"},{\"attributes\":{\"coordinates\":null,\"data_source\":{\"id\":\"1251\"},\"glyph\":{\"id\":\"1252\"},\"group\":null,\"hover_glyph\":null,\"muted_glyph\":{\"id\":\"1254\"},\"nonselection_glyph\":{\"id\":\"1253\"},\"view\":{\"id\":\"1256\"}},\"id\":\"1255\",\"type\":\"GlyphRenderer\"},{\"attributes\":{},\"id\":\"1237\",\"type\":\"PanTool\"},{\"attributes\":{\"overlay\":{\"id\":\"1243\"}},\"id\":\"1239\",\"type\":\"BoxZoomTool\"},{\"attributes\":{},\"id\":\"1234\",\"type\":\"BasicTicker\"},{\"attributes\":{},\"id\":\"1242\",\"type\":\"HelpTool\"},{\"attributes\":{\"coordinates\":null,\"formatter\":{\"id\":\"1282\"},\"group\":null,\"major_label_policy\":{\"id\":\"1283\"},\"ticker\":{\"id\":\"1234\"}},\"id\":\"1233\",\"type\":\"LinearAxis\"}],\"root_ids\":[\"1220\"]},\"title\":\"Bokeh Application\",\"version\":\"2.4.3\"}};\n",
       "  const render_items = [{\"docid\":\"85c25d4c-394f-45b7-b4df-d9097b2b6ff8\",\"root_ids\":[\"1220\"],\"roots\":{\"1220\":\"dd10049b-d1d3-4df7-b143-93fb1be531e9\"}}];\n",
       "  root.Bokeh.embed.embed_items_notebook(docs_json, render_items);\n",
       "  }\n",
       "  if (root.Bokeh !== undefined) {\n",
       "    embed_document(root);\n",
       "  } else {\n",
       "    let attempts = 0;\n",
       "    const timer = setInterval(function(root) {\n",
       "      if (root.Bokeh !== undefined) {\n",
       "        clearInterval(timer);\n",
       "        embed_document(root);\n",
       "      } else {\n",
       "        attempts++;\n",
       "        if (attempts > 100) {\n",
       "          clearInterval(timer);\n",
       "          console.log(\"Bokeh: ERROR: Unable to run BokehJS code because BokehJS library is missing\");\n",
       "        }\n",
       "      }\n",
       "    }, 10, root)\n",
       "  }\n",
       "})(window);"
      ],
      "application/vnd.bokehjs_exec.v0+json": ""
     },
     "metadata": {
      "application/vnd.bokehjs_exec.v0+json": {
       "id": "1220"
      }
     },
     "output_type": "display_data"
    }
   ],
   "source": [
    "p = figure(plot_width=400, plot_height=400)\n",
    "p.vbar(x=[1, 2, 3], width=0.5, bottom=0,\n",
    "       top=[1.2, 2.5, 3.7], color=\"red\")\n",
    "show(p)"
   ]
  },
  {
   "cell_type": "code",
   "execution_count": 7,
   "metadata": {},
   "outputs": [
    {
     "data": {
      "text/html": [
       "\n",
       "  <div class=\"bk-root\" id=\"e257df22-44fb-402d-a3ff-36c5bd0839d5\" data-root-id=\"1345\"></div>\n"
      ]
     },
     "metadata": {},
     "output_type": "display_data"
    },
    {
     "data": {
      "application/javascript": [
       "(function(root) {\n",
       "  function embed_document(root) {\n",
       "  const docs_json = {\"2bd90e1c-ae65-4a0b-8250-36b83de44b63\":{\"defs\":[],\"roots\":{\"references\":[{\"attributes\":{\"below\":[{\"id\":\"1354\"}],\"center\":[{\"id\":\"1357\"},{\"id\":\"1361\"}],\"height\":400,\"left\":[{\"id\":\"1358\"}],\"renderers\":[{\"id\":\"1380\"}],\"title\":{\"id\":\"1415\"},\"toolbar\":{\"id\":\"1369\"},\"width\":400,\"x_range\":{\"id\":\"1346\"},\"x_scale\":{\"id\":\"1350\"},\"y_range\":{\"id\":\"1348\"},\"y_scale\":{\"id\":\"1352\"}},\"id\":\"1345\",\"subtype\":\"Figure\",\"type\":\"Plot\"},{\"attributes\":{},\"id\":\"1352\",\"type\":\"LinearScale\"},{\"attributes\":{},\"id\":\"1350\",\"type\":\"LinearScale\"},{\"attributes\":{},\"id\":\"1423\",\"type\":\"UnionRenderers\"},{\"attributes\":{},\"id\":\"1367\",\"type\":\"HelpTool\"},{\"attributes\":{},\"id\":\"1424\",\"type\":\"Selection\"},{\"attributes\":{},\"id\":\"1348\",\"type\":\"DataRange1d\"},{\"attributes\":{\"source\":{\"id\":\"1376\"}},\"id\":\"1381\",\"type\":\"CDSView\"},{\"attributes\":{\"data\":{\"right\":[1.2,2.5,3.7],\"y\":[1,2,3]},\"selected\":{\"id\":\"1424\"},\"selection_policy\":{\"id\":\"1423\"}},\"id\":\"1376\",\"type\":\"ColumnDataSource\"},{\"attributes\":{\"axis\":{\"id\":\"1354\"},\"coordinates\":null,\"group\":null,\"ticker\":null},\"id\":\"1357\",\"type\":\"Grid\"},{\"attributes\":{},\"id\":\"1355\",\"type\":\"BasicTicker\"},{\"attributes\":{\"fill_alpha\":{\"value\":0.1},\"fill_color\":{\"value\":\"navy\"},\"hatch_alpha\":{\"value\":0.1},\"hatch_color\":{\"value\":\"navy\"},\"height\":{\"value\":0.5},\"line_alpha\":{\"value\":0.1},\"line_color\":{\"value\":\"navy\"},\"right\":{\"field\":\"right\"},\"y\":{\"field\":\"y\"}},\"id\":\"1378\",\"type\":\"HBar\"},{\"attributes\":{\"bottom_units\":\"screen\",\"coordinates\":null,\"fill_alpha\":0.5,\"fill_color\":\"lightgrey\",\"group\":null,\"left_units\":\"screen\",\"level\":\"overlay\",\"line_alpha\":1.0,\"line_color\":\"black\",\"line_dash\":[4,4],\"line_width\":2,\"right_units\":\"screen\",\"syncable\":false,\"top_units\":\"screen\"},\"id\":\"1368\",\"type\":\"BoxAnnotation\"},{\"attributes\":{},\"id\":\"1346\",\"type\":\"DataRange1d\"},{\"attributes\":{\"fill_color\":{\"value\":\"navy\"},\"hatch_color\":{\"value\":\"navy\"},\"height\":{\"value\":0.5},\"line_color\":{\"value\":\"navy\"},\"right\":{\"field\":\"right\"},\"y\":{\"field\":\"y\"}},\"id\":\"1377\",\"type\":\"HBar\"},{\"attributes\":{\"coordinates\":null,\"data_source\":{\"id\":\"1376\"},\"glyph\":{\"id\":\"1377\"},\"group\":null,\"hover_glyph\":null,\"muted_glyph\":{\"id\":\"1379\"},\"nonselection_glyph\":{\"id\":\"1378\"},\"view\":{\"id\":\"1381\"}},\"id\":\"1380\",\"type\":\"GlyphRenderer\"},{\"attributes\":{},\"id\":\"1418\",\"type\":\"BasicTickFormatter\"},{\"attributes\":{},\"id\":\"1366\",\"type\":\"ResetTool\"},{\"attributes\":{},\"id\":\"1365\",\"type\":\"SaveTool\"},{\"attributes\":{},\"id\":\"1419\",\"type\":\"AllLabels\"},{\"attributes\":{\"overlay\":{\"id\":\"1368\"}},\"id\":\"1364\",\"type\":\"BoxZoomTool\"},{\"attributes\":{},\"id\":\"1362\",\"type\":\"PanTool\"},{\"attributes\":{},\"id\":\"1363\",\"type\":\"WheelZoomTool\"},{\"attributes\":{},\"id\":\"1421\",\"type\":\"BasicTickFormatter\"},{\"attributes\":{\"tools\":[{\"id\":\"1362\"},{\"id\":\"1363\"},{\"id\":\"1364\"},{\"id\":\"1365\"},{\"id\":\"1366\"},{\"id\":\"1367\"}]},\"id\":\"1369\",\"type\":\"Toolbar\"},{\"attributes\":{\"coordinates\":null,\"group\":null},\"id\":\"1415\",\"type\":\"Title\"},{\"attributes\":{},\"id\":\"1359\",\"type\":\"BasicTicker\"},{\"attributes\":{},\"id\":\"1422\",\"type\":\"AllLabels\"},{\"attributes\":{\"axis\":{\"id\":\"1358\"},\"coordinates\":null,\"dimension\":1,\"group\":null,\"ticker\":null},\"id\":\"1361\",\"type\":\"Grid\"},{\"attributes\":{\"fill_alpha\":{\"value\":0.2},\"fill_color\":{\"value\":\"navy\"},\"hatch_alpha\":{\"value\":0.2},\"hatch_color\":{\"value\":\"navy\"},\"height\":{\"value\":0.5},\"line_alpha\":{\"value\":0.2},\"line_color\":{\"value\":\"navy\"},\"right\":{\"field\":\"right\"},\"y\":{\"field\":\"y\"}},\"id\":\"1379\",\"type\":\"HBar\"},{\"attributes\":{\"coordinates\":null,\"formatter\":{\"id\":\"1418\"},\"group\":null,\"major_label_policy\":{\"id\":\"1419\"},\"ticker\":{\"id\":\"1359\"}},\"id\":\"1358\",\"type\":\"LinearAxis\"},{\"attributes\":{\"coordinates\":null,\"formatter\":{\"id\":\"1421\"},\"group\":null,\"major_label_policy\":{\"id\":\"1422\"},\"ticker\":{\"id\":\"1355\"}},\"id\":\"1354\",\"type\":\"LinearAxis\"}],\"root_ids\":[\"1345\"]},\"title\":\"Bokeh Application\",\"version\":\"2.4.3\"}};\n",
       "  const render_items = [{\"docid\":\"2bd90e1c-ae65-4a0b-8250-36b83de44b63\",\"root_ids\":[\"1345\"],\"roots\":{\"1345\":\"e257df22-44fb-402d-a3ff-36c5bd0839d5\"}}];\n",
       "  root.Bokeh.embed.embed_items_notebook(docs_json, render_items);\n",
       "  }\n",
       "  if (root.Bokeh !== undefined) {\n",
       "    embed_document(root);\n",
       "  } else {\n",
       "    let attempts = 0;\n",
       "    const timer = setInterval(function(root) {\n",
       "      if (root.Bokeh !== undefined) {\n",
       "        clearInterval(timer);\n",
       "        embed_document(root);\n",
       "      } else {\n",
       "        attempts++;\n",
       "        if (attempts > 100) {\n",
       "          clearInterval(timer);\n",
       "          console.log(\"Bokeh: ERROR: Unable to run BokehJS code because BokehJS library is missing\");\n",
       "        }\n",
       "      }\n",
       "    }, 10, root)\n",
       "  }\n",
       "})(window);"
      ],
      "application/vnd.bokehjs_exec.v0+json": ""
     },
     "metadata": {
      "application/vnd.bokehjs_exec.v0+json": {
       "id": "1345"
      }
     },
     "output_type": "display_data"
    }
   ],
   "source": [
    "p = figure(plot_width=400, plot_height=400)\n",
    "p.hbar(y=[1, 2, 3], height=0.5, left=0,\n",
    "       right=[1.2, 2.5, 3.7], color=\"navy\")\n",
    "show(p)"
   ]
  },
  {
   "cell_type": "markdown",
   "metadata": {},
   "source": [
    "### Plotting line"
   ]
  },
  {
   "cell_type": "code",
   "execution_count": 8,
   "metadata": {},
   "outputs": [
    {
     "name": "stderr",
     "output_type": "stream",
     "text": [
      "BokehDeprecationWarning: 'legend' keyword is deprecated, use explicit 'legend_label', 'legend_field', or 'legend_group' keywords instead\n"
     ]
    },
    {
     "data": {
      "text/html": [
       "\n",
       "  <div class=\"bk-root\" id=\"c2f37cd4-8800-48a8-a817-734c6f0601a3\" data-root-id=\"1481\"></div>\n"
      ]
     },
     "metadata": {},
     "output_type": "display_data"
    },
    {
     "data": {
      "application/javascript": [
       "(function(root) {\n",
       "  function embed_document(root) {\n",
       "  const docs_json = {\"dbdf1b18-dc0a-4132-901e-d3fe5197c016\":{\"defs\":[],\"roots\":{\"references\":[{\"attributes\":{\"below\":[{\"id\":\"1492\"}],\"center\":[{\"id\":\"1495\"},{\"id\":\"1499\"},{\"id\":\"1530\"}],\"height\":400,\"left\":[{\"id\":\"1496\"}],\"renderers\":[{\"id\":\"1518\"}],\"title\":{\"id\":\"1482\"},\"toolbar\":{\"id\":\"1507\"},\"width\":500,\"x_range\":{\"id\":\"1484\"},\"x_scale\":{\"id\":\"1488\"},\"y_range\":{\"id\":\"1486\"},\"y_scale\":{\"id\":\"1490\"}},\"id\":\"1481\",\"subtype\":\"Figure\",\"type\":\"Plot\"},{\"attributes\":{\"coordinates\":null,\"data_source\":{\"id\":\"1514\"},\"glyph\":{\"id\":\"1515\"},\"group\":null,\"hover_glyph\":null,\"muted_glyph\":{\"id\":\"1517\"},\"nonselection_glyph\":{\"id\":\"1516\"},\"view\":{\"id\":\"1519\"}},\"id\":\"1518\",\"type\":\"GlyphRenderer\"},{\"attributes\":{},\"id\":\"1525\",\"type\":\"BasicTickFormatter\"},{\"attributes\":{\"bottom_units\":\"screen\",\"coordinates\":null,\"fill_alpha\":0.5,\"fill_color\":\"lightgrey\",\"group\":null,\"left_units\":\"screen\",\"level\":\"overlay\",\"line_alpha\":1.0,\"line_color\":\"black\",\"line_dash\":[4,4],\"line_width\":2,\"right_units\":\"screen\",\"syncable\":false,\"top_units\":\"screen\"},\"id\":\"1506\",\"type\":\"BoxAnnotation\"},{\"attributes\":{},\"id\":\"1526\",\"type\":\"AllLabels\"},{\"attributes\":{},\"id\":\"1488\",\"type\":\"LinearScale\"},{\"attributes\":{\"coordinates\":null,\"group\":null,\"items\":[{\"id\":\"1531\"}]},\"id\":\"1530\",\"type\":\"Legend\"},{\"attributes\":{\"line_alpha\":0.2,\"line_color\":\"#1f77b4\",\"line_width\":2,\"x\":{\"field\":\"x\"},\"y\":{\"field\":\"y\"}},\"id\":\"1517\",\"type\":\"Line\"},{\"attributes\":{\"tools\":[{\"id\":\"1500\"},{\"id\":\"1501\"},{\"id\":\"1502\"},{\"id\":\"1503\"},{\"id\":\"1504\"},{\"id\":\"1505\"}]},\"id\":\"1507\",\"type\":\"Toolbar\"},{\"attributes\":{},\"id\":\"1505\",\"type\":\"HelpTool\"},{\"attributes\":{\"source\":{\"id\":\"1514\"}},\"id\":\"1519\",\"type\":\"CDSView\"},{\"attributes\":{\"line_color\":\"#1f77b4\",\"line_width\":2,\"x\":{\"field\":\"x\"},\"y\":{\"field\":\"y\"}},\"id\":\"1515\",\"type\":\"Line\"},{\"attributes\":{\"axis\":{\"id\":\"1492\"},\"coordinates\":null,\"group\":null,\"ticker\":null},\"id\":\"1495\",\"type\":\"Grid\"},{\"attributes\":{\"line_alpha\":0.1,\"line_color\":\"#1f77b4\",\"line_width\":2,\"x\":{\"field\":\"x\"},\"y\":{\"field\":\"y\"}},\"id\":\"1516\",\"type\":\"Line\"},{\"attributes\":{},\"id\":\"1484\",\"type\":\"DataRange1d\"},{\"attributes\":{},\"id\":\"1522\",\"type\":\"BasicTickFormatter\"},{\"attributes\":{\"axis_label\":\"x\",\"coordinates\":null,\"formatter\":{\"id\":\"1525\"},\"group\":null,\"major_label_policy\":{\"id\":\"1526\"},\"ticker\":{\"id\":\"1493\"}},\"id\":\"1492\",\"type\":\"LinearAxis\"},{\"attributes\":{},\"id\":\"1490\",\"type\":\"LinearScale\"},{\"attributes\":{},\"id\":\"1528\",\"type\":\"Selection\"},{\"attributes\":{\"data\":{\"x\":[1,2,3,4,5,6,7],\"y\":[6,7,2,4,5,10,4]},\"selected\":{\"id\":\"1528\"},\"selection_policy\":{\"id\":\"1527\"}},\"id\":\"1514\",\"type\":\"ColumnDataSource\"},{\"attributes\":{},\"id\":\"1500\",\"type\":\"PanTool\"},{\"attributes\":{\"coordinates\":null,\"group\":null,\"text\":\"line example\"},\"id\":\"1482\",\"type\":\"Title\"},{\"attributes\":{},\"id\":\"1501\",\"type\":\"WheelZoomTool\"},{\"attributes\":{},\"id\":\"1486\",\"type\":\"DataRange1d\"},{\"attributes\":{},\"id\":\"1493\",\"type\":\"BasicTicker\"},{\"attributes\":{\"label\":{\"value\":\"Temp.\"},\"renderers\":[{\"id\":\"1518\"}]},\"id\":\"1531\",\"type\":\"LegendItem\"},{\"attributes\":{\"axis\":{\"id\":\"1496\"},\"coordinates\":null,\"dimension\":1,\"group\":null,\"ticker\":null},\"id\":\"1499\",\"type\":\"Grid\"},{\"attributes\":{},\"id\":\"1504\",\"type\":\"ResetTool\"},{\"attributes\":{},\"id\":\"1497\",\"type\":\"BasicTicker\"},{\"attributes\":{},\"id\":\"1503\",\"type\":\"SaveTool\"},{\"attributes\":{\"axis_label\":\"y\",\"coordinates\":null,\"formatter\":{\"id\":\"1522\"},\"group\":null,\"major_label_policy\":{\"id\":\"1523\"},\"ticker\":{\"id\":\"1497\"}},\"id\":\"1496\",\"type\":\"LinearAxis\"},{\"attributes\":{\"overlay\":{\"id\":\"1506\"}},\"id\":\"1502\",\"type\":\"BoxZoomTool\"},{\"attributes\":{},\"id\":\"1527\",\"type\":\"UnionRenderers\"},{\"attributes\":{},\"id\":\"1523\",\"type\":\"AllLabels\"}],\"root_ids\":[\"1481\"]},\"title\":\"Bokeh Application\",\"version\":\"2.4.3\"}};\n",
       "  const render_items = [{\"docid\":\"dbdf1b18-dc0a-4132-901e-d3fe5197c016\",\"root_ids\":[\"1481\"],\"roots\":{\"1481\":\"c2f37cd4-8800-48a8-a817-734c6f0601a3\"}}];\n",
       "  root.Bokeh.embed.embed_items_notebook(docs_json, render_items);\n",
       "  }\n",
       "  if (root.Bokeh !== undefined) {\n",
       "    embed_document(root);\n",
       "  } else {\n",
       "    let attempts = 0;\n",
       "    const timer = setInterval(function(root) {\n",
       "      if (root.Bokeh !== undefined) {\n",
       "        clearInterval(timer);\n",
       "        embed_document(root);\n",
       "      } else {\n",
       "        attempts++;\n",
       "        if (attempts > 100) {\n",
       "          clearInterval(timer);\n",
       "          console.log(\"Bokeh: ERROR: Unable to run BokehJS code because BokehJS library is missing\");\n",
       "        }\n",
       "      }\n",
       "    }, 10, root)\n",
       "  }\n",
       "})(window);"
      ],
      "application/vnd.bokehjs_exec.v0+json": ""
     },
     "metadata": {
      "application/vnd.bokehjs_exec.v0+json": {
       "id": "1481"
      }
     },
     "output_type": "display_data"
    }
   ],
   "source": [
    "# prepare some demo data\n",
    "x = [1, 2, 3, 4, 5, 6, 7]\n",
    "y = [6, 7, 2, 4, 5, 10, 4]\n",
    "\n",
    "# create a new plot with a title and axis labels\n",
    "p = figure(title=\"line example\", x_axis_label='x', y_axis_label='y', width=500, height=400)\n",
    "\n",
    "# add a line renderer with legend and line thickness\n",
    "p.line(x, y, legend=\"Temp.\", line_width=2)\n",
    "\n",
    "# show the results\n",
    "show(p)"
   ]
  },
  {
   "cell_type": "markdown",
   "metadata": {},
   "source": [
    "### Twin Axes"
   ]
  },
  {
   "cell_type": "code",
   "execution_count": 9,
   "metadata": {},
   "outputs": [
    {
     "data": {
      "text/html": [
       "\n",
       "  <div class=\"bk-root\" id=\"3f577651-818e-4ba0-975a-dfcc33b091d5\" data-root-id=\"1636\"></div>\n"
      ]
     },
     "metadata": {},
     "output_type": "display_data"
    },
    {
     "data": {
      "application/javascript": [
       "(function(root) {\n",
       "  function embed_document(root) {\n",
       "  const docs_json = {\"0463972a-77d6-4c7e-983e-29f1b5c0adf5\":{\"defs\":[],\"roots\":{\"references\":[{\"attributes\":{\"below\":[{\"id\":\"1645\"}],\"center\":[{\"id\":\"1648\"},{\"id\":\"1652\"}],\"extra_y_ranges\":{\"foo\":{\"id\":\"1673\"}},\"left\":[{\"id\":\"1649\"},{\"id\":\"1680\"}],\"renderers\":[{\"id\":\"1671\"},{\"id\":\"1678\"}],\"title\":{\"id\":\"1735\"},\"toolbar\":{\"id\":\"1660\"},\"x_range\":{\"id\":\"1637\"},\"x_scale\":{\"id\":\"1641\"},\"y_range\":{\"id\":\"1639\"},\"y_scale\":{\"id\":\"1643\"}},\"id\":\"1636\",\"subtype\":\"Figure\",\"type\":\"Plot\"},{\"attributes\":{\"fill_alpha\":{\"value\":0.1},\"fill_color\":{\"value\":\"red\"},\"hatch_alpha\":{\"value\":0.1},\"hatch_color\":{\"value\":\"red\"},\"line_alpha\":{\"value\":0.1},\"line_color\":{\"value\":\"red\"},\"x\":{\"field\":\"x\"},\"y\":{\"field\":\"y\"}},\"id\":\"1669\",\"type\":\"Circle\"},{\"attributes\":{},\"id\":\"1738\",\"type\":\"BasicTickFormatter\"},{\"attributes\":{\"end\":100},\"id\":\"1673\",\"type\":\"Range1d\"},{\"attributes\":{},\"id\":\"1739\",\"type\":\"AllLabels\"},{\"attributes\":{},\"id\":\"1657\",\"type\":\"ResetTool\"},{\"attributes\":{\"coordinates\":null,\"data_source\":{\"id\":\"1674\"},\"glyph\":{\"id\":\"1675\"},\"group\":null,\"hover_glyph\":null,\"muted_glyph\":{\"id\":\"1677\"},\"nonselection_glyph\":{\"id\":\"1676\"},\"view\":{\"id\":\"1679\"},\"y_range_name\":\"foo\"},\"id\":\"1678\",\"type\":\"GlyphRenderer\"},{\"attributes\":{},\"id\":\"1656\",\"type\":\"SaveTool\"},{\"attributes\":{\"overlay\":{\"id\":\"1659\"}},\"id\":\"1655\",\"type\":\"BoxZoomTool\"},{\"attributes\":{},\"id\":\"1740\",\"type\":\"BasicTicker\"},{\"attributes\":{},\"id\":\"1653\",\"type\":\"PanTool\"},{\"attributes\":{},\"id\":\"1748\",\"type\":\"UnionRenderers\"},{\"attributes\":{\"coordinates\":null,\"group\":null},\"id\":\"1735\",\"type\":\"Title\"},{\"attributes\":{},\"id\":\"1654\",\"type\":\"WheelZoomTool\"},{\"attributes\":{\"tools\":[{\"id\":\"1653\"},{\"id\":\"1654\"},{\"id\":\"1655\"},{\"id\":\"1656\"},{\"id\":\"1657\"},{\"id\":\"1658\"}]},\"id\":\"1660\",\"type\":\"Toolbar\"},{\"attributes\":{},\"id\":\"1741\",\"type\":\"BasicTickFormatter\"},{\"attributes\":{\"data\":{\"x\":{\"__ndarray__\":\"GC1EVPshGcCyxt3tlLsYwExgd4cuVRjA5vkQIcjuF8CAk6q6YYgXwBotRFT7IRfAtMbd7ZS7FsBOYHeHLlUWwOj5ECHI7hXAgpOqumGIFcAcLURU+yEVwLbG3e2UuxTAUGB3hy5VFMDq+RAhyO4TwISTqrphiBPAHi1EVPshE8C4xt3tlLsSwFJgd4cuVRLA7PkQIcjuEcCGk6q6YYgRwCAtRFT7IRHAusbd7ZS7EMBUYHeHLlUQwNzzIUKQ3Q/AECdVdcMQD8BEWoio9kMOwHiNu9spdw3ArMDuDl2qDMDg8yFCkN0LwBQnVXXDEAvASFqIqPZDCsB8jbvbKXcJwLDA7g5dqgjA5PMhQpDdB8AYJ1V1wxAHwExaiKj2QwbAgI272yl3BcC0wO4OXaoEwOjzIUKQ3QPAHCdVdcMQA8BQWoio9kMCwISNu9spdwHAuMDuDl2qAMDY50OEILv/v0BOquqGIf6/qLQQUe2H/L8QG3e3U+76v3iB3R26VPm/4OdDhCC7979ITqrqhiH2v7C0EFHth/S/GBt3t1Pu8r+Agd0dulTxv9DPhwhBdu+/oJxU1Q1D7L9waSGi2g/pv0A27m6n3OW/EAO7O3Sp4r/Anw8Rguzev2A5qaobhti/ANNCRLUf0r9A2bi7nXLHvwAZ2N2hS7W/AAIG7943kT8AGltVkee9P8BZeneVwMs/QJMjIrFG1D+g+YmIF63aPwAwePe+ieA/MGOrKvK84z9glt5dJfDmP5DJEZFYI+o/wPxExItW7T/4F7x730TwP5CxVRV53vE/KEvvrhJ48z/A5IhIrBH1P1h+IuJFq/Y/8Be8e99E+D+IsVUVed75PyBL764SePs/uOSISKwR/T9QfiLiRav+P/QL3r1vIgBAwNiqijzvAECMpXdXCbwBQFhyRCTWiAJAJD8R8aJVA0DwC969byIEQLzYqoo87wRAiKV3Vwm8BUBUckQk1ogGQCA/EfGiVQdA7AvevW8iCEC42KqKPO8IQISld1cJvAlAUHJEJNaICkAcPxHxolULQOgL3r1vIgxAtNiqijzvDECApXdXCbwNQExyRCTWiA5AGD8R8aJVD0DyBe/eNxEQQFhsVUWedxBAvtK7qwTeEEAkOSISa0QRQIqfiHjRqhFA8AXv3jcREkBWbFVFnncSQLzSu6sE3hJAIjkiEmtEE0CIn4h40aoTQO4F7943ERRAVGxVRZ53FEC60rurBN4UQCA5IhJrRBVAhp+IeNGqFUDsBe/eNxEWQFJsVUWedxZAuNK7qwTeFkAeOSISa0QXQISfiHjRqhdA6gXv3jcRGEBQbFVFnncYQLbSu6sE3hhA\",\"dtype\":\"float64\",\"order\":\"little\",\"shape\":[126]},\"y\":{\"__ndarray__\":\"B1wUMyamsTwky4vLro65P6zSPSP/bck/Jbq6lc3p0j9XZyvpOuzYP9gFS3Tort4/S0GlF40R4j+pGUZpbp3kP7z+v8KU9OY/MKhdmAMR6T/eDAmPVO3qPyhjLUzFhOw/t1UaokPT7T9BHsX5d9XuP/vgRN/NiO8/iG0sm3rr7z/HQuDHgfzvP72YL9e3u+8//RW9gcIp7z9qOBofF0juP2C00er2GO0/HHPrP2mf6z8x16rZM9/pP1MvWC3R3Oc/0tHD9WSd5T/vys8NrybjPwGGoLv8fuA/p6ckJDFa2z9p5l0jcnDVPz8ySNa4n84/z9a2bTgQwj9JFpiCD0qlP9gm6Dk3462/9Qq3ygIxxL+gS/8QyVrQv1Jhun47c9a/JdHwQ0FS3L/dGi7savTgv0DA7P9WlOO/crMfLS4C5r9cHtzduTfov3DI4npTL+q/lhLQ3/Lj67/viQE6O1Htv8QoRTGGc+6/Y0DHPe1H77+p7F0TUczvv1HsNw9f/++/DT4MmpTg77/B6yJ2QHDvv2CZ4PWBr+6/9yLYHEag7b8lJbqyQkXsv5cSvFTvoeq/3gUyl3y66L/SsApOyZPmv0H2lhdWM+S/OMh6STef4b8a4Y7HCrzdv3u+C2SY7de/LaSwivHh0b9m/jPXGVHHv0bTvttYRbW/xSXLwqk3kT/JIzUvK9a9PxjIxkANics//AfpL0vw0z91hzWkD+nZP4cP6pqNn98/CxrYG5SC4j9hCW3CCAblP+5iZOG2U+c/hMjjJbpl6T/Mcx3cxjbrP44pBXs3wuw/3a38hhgE7j/R9xCtMvnuPzNU7vwSn+8/IbeALBH07z+1XzrVU/fvP6DPKKDSqO8/pbRJW1YJ7z+JM+n3dhruP8RhK3eX3uw/Jfgtz99Y6z+f2l/YNI3pP+WxtFcugOc/zaIuPws35T/F08pCpLfiP3g4I+RcCOA/mTEMNiZg2j8025+JG2zUPwSg1R2oh8w/qzXOvj7cvz+ZZ0Soul6ZPxMepJQaPbO/RLIVCFdQxr8Pn7GuhmTRv7Nrs+BkdNe/O7QgoURI3b9ITvP1nmjhv9zlVSmUAOS/XGXQmV9l5r9ZNdHU4ZDov+SMb++Nfeq/d0LwuHcm7L9QJSxSYIftv8TXognBnO6/SRtzYNRj779HhCYhndrvv+yTLnbr/++/NaAP81/T77/KpXWIbFXvv+6vwmBTh+6/2k8AqCNr7b+D929HtAPsv7RWM6KcVOq/762gZSti6L8bWsKEWzHmvw8RMHvHx+O/52bX95or4b9I9bkoBsfcv2FS64I67da/RcPLJ8rY0L9F3NCChDLFvyPcIcx4+rC/\",\"dtype\":\"float64\",\"order\":\"little\",\"shape\":[126]}},\"selected\":{\"id\":\"1747\"},\"selection_policy\":{\"id\":\"1746\"}},\"id\":\"1667\",\"type\":\"ColumnDataSource\"},{\"attributes\":{\"source\":{\"id\":\"1674\"}},\"id\":\"1679\",\"type\":\"CDSView\"},{\"attributes\":{},\"id\":\"1742\",\"type\":\"AllLabels\"},{\"attributes\":{\"source\":{\"id\":\"1667\"}},\"id\":\"1672\",\"type\":\"CDSView\"},{\"attributes\":{},\"id\":\"1650\",\"type\":\"BasicTicker\"},{\"attributes\":{},\"id\":\"1749\",\"type\":\"Selection\"},{\"attributes\":{\"axis\":{\"id\":\"1649\"},\"coordinates\":null,\"dimension\":1,\"group\":null,\"ticker\":null},\"id\":\"1652\",\"type\":\"Grid\"},{\"attributes\":{},\"id\":\"1744\",\"type\":\"BasicTickFormatter\"},{\"attributes\":{\"fill_alpha\":{\"value\":0.2},\"fill_color\":{\"value\":\"red\"},\"hatch_alpha\":{\"value\":0.2},\"hatch_color\":{\"value\":\"red\"},\"line_alpha\":{\"value\":0.2},\"line_color\":{\"value\":\"red\"},\"x\":{\"field\":\"x\"},\"y\":{\"field\":\"y\"}},\"id\":\"1670\",\"type\":\"Circle\"},{\"attributes\":{\"axis\":{\"id\":\"1645\"},\"coordinates\":null,\"group\":null,\"ticker\":null},\"id\":\"1648\",\"type\":\"Grid\"},{\"attributes\":{},\"id\":\"1745\",\"type\":\"AllLabels\"},{\"attributes\":{},\"id\":\"1646\",\"type\":\"BasicTicker\"},{\"attributes\":{\"coordinates\":null,\"formatter\":{\"id\":\"1744\"},\"group\":null,\"major_label_policy\":{\"id\":\"1745\"},\"ticker\":{\"id\":\"1646\"}},\"id\":\"1645\",\"type\":\"LinearAxis\"},{\"attributes\":{},\"id\":\"1641\",\"type\":\"LinearScale\"},{\"attributes\":{},\"id\":\"1658\",\"type\":\"HelpTool\"},{\"attributes\":{},\"id\":\"1643\",\"type\":\"LinearScale\"},{\"attributes\":{\"coordinates\":null,\"formatter\":{\"id\":\"1738\"},\"group\":null,\"major_label_policy\":{\"id\":\"1739\"},\"ticker\":{\"id\":\"1650\"}},\"id\":\"1649\",\"type\":\"LinearAxis\"},{\"attributes\":{\"end\":1.1,\"start\":-1.1},\"id\":\"1639\",\"type\":\"Range1d\"},{\"attributes\":{\"coordinates\":null,\"formatter\":{\"id\":\"1741\"},\"group\":null,\"major_label_policy\":{\"id\":\"1742\"},\"ticker\":{\"id\":\"1740\"},\"y_range_name\":\"foo\"},\"id\":\"1680\",\"type\":\"LinearAxis\"},{\"attributes\":{\"data\":{\"x\":{\"__ndarray__\":\"GC1EVPshGcCyxt3tlLsYwExgd4cuVRjA5vkQIcjuF8CAk6q6YYgXwBotRFT7IRfAtMbd7ZS7FsBOYHeHLlUWwOj5ECHI7hXAgpOqumGIFcAcLURU+yEVwLbG3e2UuxTAUGB3hy5VFMDq+RAhyO4TwISTqrphiBPAHi1EVPshE8C4xt3tlLsSwFJgd4cuVRLA7PkQIcjuEcCGk6q6YYgRwCAtRFT7IRHAusbd7ZS7EMBUYHeHLlUQwNzzIUKQ3Q/AECdVdcMQD8BEWoio9kMOwHiNu9spdw3ArMDuDl2qDMDg8yFCkN0LwBQnVXXDEAvASFqIqPZDCsB8jbvbKXcJwLDA7g5dqgjA5PMhQpDdB8AYJ1V1wxAHwExaiKj2QwbAgI272yl3BcC0wO4OXaoEwOjzIUKQ3QPAHCdVdcMQA8BQWoio9kMCwISNu9spdwHAuMDuDl2qAMDY50OEILv/v0BOquqGIf6/qLQQUe2H/L8QG3e3U+76v3iB3R26VPm/4OdDhCC7979ITqrqhiH2v7C0EFHth/S/GBt3t1Pu8r+Agd0dulTxv9DPhwhBdu+/oJxU1Q1D7L9waSGi2g/pv0A27m6n3OW/EAO7O3Sp4r/Anw8Rguzev2A5qaobhti/ANNCRLUf0r9A2bi7nXLHvwAZ2N2hS7W/AAIG7943kT8AGltVkee9P8BZeneVwMs/QJMjIrFG1D+g+YmIF63aPwAwePe+ieA/MGOrKvK84z9glt5dJfDmP5DJEZFYI+o/wPxExItW7T/4F7x730TwP5CxVRV53vE/KEvvrhJ48z/A5IhIrBH1P1h+IuJFq/Y/8Be8e99E+D+IsVUVed75PyBL764SePs/uOSISKwR/T9QfiLiRav+P/QL3r1vIgBAwNiqijzvAECMpXdXCbwBQFhyRCTWiAJAJD8R8aJVA0DwC969byIEQLzYqoo87wRAiKV3Vwm8BUBUckQk1ogGQCA/EfGiVQdA7AvevW8iCEC42KqKPO8IQISld1cJvAlAUHJEJNaICkAcPxHxolULQOgL3r1vIgxAtNiqijzvDECApXdXCbwNQExyRCTWiA5AGD8R8aJVD0DyBe/eNxEQQFhsVUWedxBAvtK7qwTeEEAkOSISa0QRQIqfiHjRqhFA8AXv3jcREkBWbFVFnncSQLzSu6sE3hJAIjkiEmtEE0CIn4h40aoTQO4F7943ERRAVGxVRZ53FEC60rurBN4UQCA5IhJrRBVAhp+IeNGqFUDsBe/eNxEWQFJsVUWedxZAuNK7qwTeFkAeOSISa0QXQISfiHjRqhdA6gXv3jcRGEBQbFVFnncYQLbSu6sE3hhA\",\"dtype\":\"float64\",\"order\":\"little\",\"shape\":[126]},\"y\":{\"__ndarray__\":\"AAAAAAAAAACamZmZmZnpP5qZmZmZmfk/NDMzMzMzA0CamZmZmZkJQAAAAAAAABBANDMzMzMzE0BnZmZmZmYWQJqZmZmZmRlAzczMzMzMHEAAAAAAAAAgQJqZmZmZmSFANDMzMzMzI0DNzMzMzMwkQGdmZmZmZiZAAAAAAAAAKECamZmZmZkpQDQzMzMzMytAzczMzMzMLEBnZmZmZmYuQAAAAAAAADBAzczMzMzMMECamZmZmZkxQGdmZmZmZjJANDMzMzMzM0AAAAAAAAA0QM3MzMzMzDRAmpmZmZmZNUBnZmZmZmY2QDQzMzMzMzdAAAAAAAAAOEDNzMzMzMw4QJqZmZmZmTlAZ2ZmZmZmOkA0MzMzMzM7QAAAAAAAADxAzczMzMzMPECamZmZmZk9QGdmZmZmZj5ANDMzMzMzP0AAAAAAAABAQGdmZmZmZkBAzczMzMzMQEAzMzMzMzNBQJqZmZmZmUFAAAAAAAAAQkBnZmZmZmZCQM3MzMzMzEJANDMzMzMzQ0CamZmZmZlDQAAAAAAAAERAZ2ZmZmZmREDNzMzMzMxEQDQzMzMzM0VAmpmZmZmZRUAAAAAAAABGQGdmZmZmZkZAzczMzMzMRkA0MzMzMzNHQJqZmZmZmUdAAAAAAAAASEBnZmZmZmZIQM3MzMzMzEhANDMzMzMzSUCamZmZmZlJQAAAAAAAAEpAZ2ZmZmZmSkDNzMzMzMxKQDQzMzMzM0tAmpmZmZmZS0AAAAAAAABMQGdmZmZmZkxAzczMzMzMTEA0MzMzMzNNQJqZmZmZmU1AAAAAAAAATkBnZmZmZmZOQM3MzMzMzE5ANDMzMzMzT0CamZmZmZlPQAAAAAAAAFBAMzMzMzMzUEBnZmZmZmZQQJqZmZmZmVBAzczMzMzMUEAAAAAAAABRQDMzMzMzM1FAZ2ZmZmZmUUCamZmZmZlRQM3MzMzMzFFAAAAAAAAAUkAzMzMzMzNSQGdmZmZmZlJAmpmZmZmZUkDNzMzMzMxSQAAAAAAAAFNANDMzMzMzU0BnZmZmZmZTQJqZmZmZmVNAzczMzMzMU0AAAAAAAABUQDQzMzMzM1RAZ2ZmZmZmVECamZmZmZlUQM3MzMzMzFRAAAAAAAAAVUA0MzMzMzNVQGdmZmZmZlVAmpmZmZmZVUDNzMzMzMxVQAAAAAAAAFZANDMzMzMzVkBnZmZmZmZWQJqZmZmZmVZAzczMzMzMVkAAAAAAAABXQDQzMzMzM1dAZ2ZmZmZmV0CamZmZmZlXQM3MzMzMzFdAAAAAAAAAWEA0MzMzMzNYQGdmZmZmZlhAmpmZmZmZWEDNzMzMzMxYQAAAAAAAAFlA\",\"dtype\":\"float64\",\"order\":\"little\",\"shape\":[126]}},\"selected\":{\"id\":\"1749\"},\"selection_policy\":{\"id\":\"1748\"}},\"id\":\"1674\",\"type\":\"ColumnDataSource\"},{\"attributes\":{\"bottom_units\":\"screen\",\"coordinates\":null,\"fill_alpha\":0.5,\"fill_color\":\"lightgrey\",\"group\":null,\"left_units\":\"screen\",\"level\":\"overlay\",\"line_alpha\":1.0,\"line_color\":\"black\",\"line_dash\":[4,4],\"line_width\":2,\"right_units\":\"screen\",\"syncable\":false,\"top_units\":\"screen\"},\"id\":\"1659\",\"type\":\"BoxAnnotation\"},{\"attributes\":{\"fill_alpha\":{\"value\":0.2},\"fill_color\":{\"value\":\"blue\"},\"hatch_alpha\":{\"value\":0.2},\"hatch_color\":{\"value\":\"blue\"},\"line_alpha\":{\"value\":0.2},\"line_color\":{\"value\":\"blue\"},\"x\":{\"field\":\"x\"},\"y\":{\"field\":\"y\"}},\"id\":\"1677\",\"type\":\"Circle\"},{\"attributes\":{},\"id\":\"1746\",\"type\":\"UnionRenderers\"},{\"attributes\":{\"fill_alpha\":{\"value\":0.1},\"fill_color\":{\"value\":\"blue\"},\"hatch_alpha\":{\"value\":0.1},\"hatch_color\":{\"value\":\"blue\"},\"line_alpha\":{\"value\":0.1},\"line_color\":{\"value\":\"blue\"},\"x\":{\"field\":\"x\"},\"y\":{\"field\":\"y\"}},\"id\":\"1676\",\"type\":\"Circle\"},{\"attributes\":{\"fill_color\":{\"value\":\"blue\"},\"hatch_color\":{\"value\":\"blue\"},\"line_color\":{\"value\":\"blue\"},\"x\":{\"field\":\"x\"},\"y\":{\"field\":\"y\"}},\"id\":\"1675\",\"type\":\"Circle\"},{\"attributes\":{},\"id\":\"1747\",\"type\":\"Selection\"},{\"attributes\":{\"coordinates\":null,\"data_source\":{\"id\":\"1667\"},\"glyph\":{\"id\":\"1668\"},\"group\":null,\"hover_glyph\":null,\"muted_glyph\":{\"id\":\"1670\"},\"nonselection_glyph\":{\"id\":\"1669\"},\"view\":{\"id\":\"1672\"}},\"id\":\"1671\",\"type\":\"GlyphRenderer\"},{\"attributes\":{\"end\":6.5,\"start\":-6.5},\"id\":\"1637\",\"type\":\"Range1d\"},{\"attributes\":{\"fill_color\":{\"value\":\"red\"},\"hatch_color\":{\"value\":\"red\"},\"line_color\":{\"value\":\"red\"},\"x\":{\"field\":\"x\"},\"y\":{\"field\":\"y\"}},\"id\":\"1668\",\"type\":\"Circle\"}],\"root_ids\":[\"1636\"]},\"title\":\"Bokeh Application\",\"version\":\"2.4.3\"}};\n",
       "  const render_items = [{\"docid\":\"0463972a-77d6-4c7e-983e-29f1b5c0adf5\",\"root_ids\":[\"1636\"],\"roots\":{\"1636\":\"3f577651-818e-4ba0-975a-dfcc33b091d5\"}}];\n",
       "  root.Bokeh.embed.embed_items_notebook(docs_json, render_items);\n",
       "  }\n",
       "  if (root.Bokeh !== undefined) {\n",
       "    embed_document(root);\n",
       "  } else {\n",
       "    let attempts = 0;\n",
       "    const timer = setInterval(function(root) {\n",
       "      if (root.Bokeh !== undefined) {\n",
       "        clearInterval(timer);\n",
       "        embed_document(root);\n",
       "      } else {\n",
       "        attempts++;\n",
       "        if (attempts > 100) {\n",
       "          clearInterval(timer);\n",
       "          console.log(\"Bokeh: ERROR: Unable to run BokehJS code because BokehJS library is missing\");\n",
       "        }\n",
       "      }\n",
       "    }, 10, root)\n",
       "  }\n",
       "})(window);"
      ],
      "application/vnd.bokehjs_exec.v0+json": ""
     },
     "metadata": {
      "application/vnd.bokehjs_exec.v0+json": {
       "id": "1636"
      }
     },
     "output_type": "display_data"
    }
   ],
   "source": [
    "from numpy import pi, arange, sin, linspace\n",
    "from bokeh.models import LinearAxis, Range1d\n",
    "\n",
    "x = arange(-2*pi, 2*pi, 0.1)\n",
    "y = sin(x)\n",
    "y2 = linspace(0, 100, len(y))\n",
    "\n",
    "p = figure(x_range=(-6.5, 6.5), y_range=(-1.1, 1.1))\n",
    "\n",
    "p.circle(x, y, color=\"red\")\n",
    "\n",
    "p.extra_y_ranges = {\"foo\": Range1d(start=0, end=100)}\n",
    "p.circle(x, y2, color=\"blue\", y_range_name=\"foo\")\n",
    "p.add_layout(LinearAxis(y_range_name=\"foo\"), 'left')\n",
    "\n",
    "show(p)"
   ]
  },
  {
   "cell_type": "markdown",
   "metadata": {},
   "source": [
    "The basic steps to creating plots with the [bokeh.plotting](http://bokeh.pydata.org/en/latest/docs/reference/plotting.html#bokeh-plotting) interface are:\n",
    "\n",
    " - Prepare some data (in this case plain python lists).\n",
    " - Tell Bokeh where to generate output (in this case using `output_notebook()`).\n",
    " - Call `figure()` to create a plot with some overall options like title, tools and axes labels.\n",
    " - Add renderers (in this case, `Figure.line`) for our data, with visual customizations like colors, legends and widths  to the plot.\n",
    " - Ask Bokeh to `show()` or `save()` the results.\n",
    "\n",
    "Steps three and four can be repeated to create more than one plot, as shown in some of the examples below.\n",
    "\n",
    "The [bokeh.plotting](http://bokeh.pydata.org/en/latest/docs/reference/plotting.html#bokeh-plotting) interface is also quite handy if we need to customize the output a bit more by adding more data series, glyphs, logarithmic axis, and so on. It’s also possible to easily combine multiple glyphs together on one plot as shown below:"
   ]
  },
  {
   "cell_type": "code",
   "execution_count": 10,
   "metadata": {},
   "outputs": [
    {
     "data": {
      "text/html": [
       "\n",
       "  <div class=\"bk-root\" id=\"851ce7a2-1ad4-4862-a6b2-17368fb5abb4\" data-root-id=\"1831\"></div>\n"
      ]
     },
     "metadata": {},
     "output_type": "display_data"
    },
    {
     "data": {
      "application/javascript": [
       "(function(root) {\n",
       "  function embed_document(root) {\n",
       "  const docs_json = {\"17081c57-e887-4768-92c1-962706f13048\":{\"defs\":[],\"roots\":{\"references\":[{\"attributes\":{\"below\":[{\"id\":\"1842\"}],\"center\":[{\"id\":\"1845\"},{\"id\":\"1849\"},{\"id\":\"1876\"}],\"height\":350,\"left\":[{\"id\":\"1846\"}],\"renderers\":[{\"id\":\"1864\"},{\"id\":\"1882\"},{\"id\":\"1900\"},{\"id\":\"1921\"},{\"id\":\"1944\"},{\"id\":\"1968\"}],\"title\":{\"id\":\"1832\"},\"toolbar\":{\"id\":\"1855\"},\"width\":700,\"x_range\":{\"id\":\"1834\"},\"x_scale\":{\"id\":\"1838\"},\"y_range\":{\"id\":\"1836\"},\"y_scale\":{\"id\":\"1840\"}},\"id\":\"1831\",\"subtype\":\"Figure\",\"type\":\"Plot\"},{\"attributes\":{\"coordinates\":null,\"group\":null,\"items\":[{\"id\":\"1877\"},{\"id\":\"1916\"},{\"id\":\"1939\"},{\"id\":\"1990\"}]},\"id\":\"1876\",\"type\":\"Legend\"},{\"attributes\":{\"line_alpha\":0.1,\"line_color\":\"#1f77b4\",\"x\":{\"field\":\"x\"},\"y\":{\"field\":\"y\"}},\"id\":\"1862\",\"type\":\"Line\"},{\"attributes\":{},\"id\":\"1962\",\"type\":\"Selection\"},{\"attributes\":{\"source\":{\"id\":\"1964\"}},\"id\":\"1969\",\"type\":\"CDSView\"},{\"attributes\":{\"line_color\":\"orange\",\"line_dash\":[4,4],\"x\":{\"field\":\"x\"},\"y\":{\"field\":\"y\"}},\"id\":\"1965\",\"type\":\"Line\"},{\"attributes\":{},\"id\":\"1873\",\"type\":\"UnionRenderers\"},{\"attributes\":{},\"id\":\"1834\",\"type\":\"DataRange1d\"},{\"attributes\":{\"label\":{\"value\":\"y=x\"},\"renderers\":[{\"id\":\"1864\"},{\"id\":\"1882\"}]},\"id\":\"1877\",\"type\":\"LegendItem\"},{\"attributes\":{\"coordinates\":null,\"data_source\":{\"id\":\"1964\"},\"glyph\":{\"id\":\"1965\"},\"group\":null,\"hover_glyph\":null,\"muted_glyph\":{\"id\":\"1967\"},\"nonselection_glyph\":{\"id\":\"1966\"},\"view\":{\"id\":\"1969\"}},\"id\":\"1968\",\"type\":\"GlyphRenderer\"},{\"attributes\":{\"fill_alpha\":{\"value\":0.2},\"fill_color\":{\"value\":\"red\"},\"hatch_alpha\":{\"value\":0.2},\"line_alpha\":{\"value\":0.2},\"line_color\":{\"value\":\"red\"},\"size\":{\"value\":6},\"x\":{\"field\":\"x\"},\"y\":{\"field\":\"y\"}},\"id\":\"1943\",\"type\":\"Circle\"},{\"attributes\":{\"label\":{\"value\":\"y=10^x^2\"},\"renderers\":[{\"id\":\"1968\"}]},\"id\":\"1990\",\"type\":\"LegendItem\"},{\"attributes\":{\"data\":{\"x\":[0.1,0.5,1.0,1.5,2.0,2.5,3.0],\"y\":[1.023292992280754,1.7782794100389228,10.0,177.82794100389228,10000.0,1778279.410038923,1000000000.0]},\"selected\":{\"id\":\"1988\"},\"selection_policy\":{\"id\":\"1987\"}},\"id\":\"1964\",\"type\":\"ColumnDataSource\"},{\"attributes\":{},\"id\":\"1874\",\"type\":\"Selection\"},{\"attributes\":{},\"id\":\"1937\",\"type\":\"Selection\"},{\"attributes\":{\"source\":{\"id\":\"1940\"}},\"id\":\"1945\",\"type\":\"CDSView\"},{\"attributes\":{\"fill_alpha\":{\"value\":0.2},\"fill_color\":{\"value\":\"white\"},\"hatch_alpha\":{\"value\":0.2},\"line_alpha\":{\"value\":0.2},\"line_color\":{\"value\":\"#1f77b4\"},\"size\":{\"value\":8},\"x\":{\"field\":\"x\"},\"y\":{\"field\":\"y\"}},\"id\":\"1881\",\"type\":\"Circle\"},{\"attributes\":{\"source\":{\"id\":\"1860\"}},\"id\":\"1865\",\"type\":\"CDSView\"},{\"attributes\":{\"line_alpha\":0.2,\"line_color\":\"orange\",\"line_dash\":[4,4],\"x\":{\"field\":\"x\"},\"y\":{\"field\":\"y\"}},\"id\":\"1967\",\"type\":\"Line\"},{\"attributes\":{},\"id\":\"1836\",\"type\":\"DataRange1d\"},{\"attributes\":{\"coordinates\":null,\"data_source\":{\"id\":\"1878\"},\"glyph\":{\"id\":\"1879\"},\"group\":null,\"hover_glyph\":null,\"muted_glyph\":{\"id\":\"1881\"},\"nonselection_glyph\":{\"id\":\"1880\"},\"view\":{\"id\":\"1883\"}},\"id\":\"1882\",\"type\":\"GlyphRenderer\"},{\"attributes\":{\"data\":{\"x\":[0.1,0.5,1.0,1.5,2.0,2.5,3.0],\"y\":[1.2589254117941673,3.1622776601683795,10.0,31.622776601683793,100.0,316.22776601683796,1000.0]},\"selected\":{\"id\":\"1962\"},\"selection_policy\":{\"id\":\"1961\"}},\"id\":\"1940\",\"type\":\"ColumnDataSource\"},{\"attributes\":{\"data\":{\"x\":[0.1,0.5,1.0,1.5,2.0,2.5,3.0],\"y\":[0.010000000000000002,0.25,1.0,2.25,4.0,6.25,9.0]},\"selected\":{\"id\":\"1914\"},\"selection_policy\":{\"id\":\"1913\"}},\"id\":\"1896\",\"type\":\"ColumnDataSource\"},{\"attributes\":{\"line_alpha\":0.2,\"line_color\":\"red\",\"x\":{\"field\":\"x\"},\"y\":{\"field\":\"y\"}},\"id\":\"1920\",\"type\":\"Line\"},{\"attributes\":{\"fill_alpha\":{\"value\":0.1},\"fill_color\":{\"value\":\"red\"},\"hatch_alpha\":{\"value\":0.1},\"line_alpha\":{\"value\":0.1},\"line_color\":{\"value\":\"red\"},\"size\":{\"value\":6},\"x\":{\"field\":\"x\"},\"y\":{\"field\":\"y\"}},\"id\":\"1942\",\"type\":\"Circle\"},{\"attributes\":{\"source\":{\"id\":\"1917\"}},\"id\":\"1922\",\"type\":\"CDSView\"},{\"attributes\":{\"coordinates\":null,\"data_source\":{\"id\":\"1917\"},\"glyph\":{\"id\":\"1918\"},\"group\":null,\"hover_glyph\":null,\"muted_glyph\":{\"id\":\"1920\"},\"nonselection_glyph\":{\"id\":\"1919\"},\"view\":{\"id\":\"1922\"}},\"id\":\"1921\",\"type\":\"GlyphRenderer\"},{\"attributes\":{\"line_alpha\":0.2,\"line_color\":\"#1f77b4\",\"x\":{\"field\":\"x\"},\"y\":{\"field\":\"y\"}},\"id\":\"1863\",\"type\":\"Line\"},{\"attributes\":{\"line_alpha\":0.1,\"line_color\":\"red\",\"x\":{\"field\":\"x\"},\"y\":{\"field\":\"y\"}},\"id\":\"1919\",\"type\":\"Line\"},{\"attributes\":{\"data\":{\"x\":[0.1,0.5,1.0,1.5,2.0,2.5,3.0],\"y\":[1.2589254117941673,3.1622776601683795,10.0,31.622776601683793,100.0,316.22776601683796,1000.0]},\"selected\":{\"id\":\"1937\"},\"selection_policy\":{\"id\":\"1936\"}},\"id\":\"1917\",\"type\":\"ColumnDataSource\"},{\"attributes\":{},\"id\":\"1987\",\"type\":\"UnionRenderers\"},{\"attributes\":{\"source\":{\"id\":\"1878\"}},\"id\":\"1883\",\"type\":\"CDSView\"},{\"attributes\":{\"source\":{\"id\":\"1896\"}},\"id\":\"1901\",\"type\":\"CDSView\"},{\"attributes\":{\"line_color\":\"red\",\"x\":{\"field\":\"x\"},\"y\":{\"field\":\"y\"}},\"id\":\"1918\",\"type\":\"Line\"},{\"attributes\":{},\"id\":\"1988\",\"type\":\"Selection\"},{\"attributes\":{\"data\":{\"x\":[0.1,0.5,1.0,1.5,2.0,2.5,3.0],\"y\":[0.1,0.5,1.0,1.5,2.0,2.5,3.0]},\"selected\":{\"id\":\"1894\"},\"selection_policy\":{\"id\":\"1893\"}},\"id\":\"1878\",\"type\":\"ColumnDataSource\"},{\"attributes\":{\"coordinates\":null,\"data_source\":{\"id\":\"1896\"},\"glyph\":{\"id\":\"1897\"},\"group\":null,\"hover_glyph\":null,\"muted_glyph\":{\"id\":\"1899\"},\"nonselection_glyph\":{\"id\":\"1898\"},\"view\":{\"id\":\"1901\"}},\"id\":\"1900\",\"type\":\"GlyphRenderer\"},{\"attributes\":{\"coordinates\":null,\"data_source\":{\"id\":\"1940\"},\"glyph\":{\"id\":\"1941\"},\"group\":null,\"hover_glyph\":null,\"muted_glyph\":{\"id\":\"1943\"},\"nonselection_glyph\":{\"id\":\"1942\"},\"view\":{\"id\":\"1945\"}},\"id\":\"1944\",\"type\":\"GlyphRenderer\"},{\"attributes\":{\"overlay\":{\"id\":\"1854\"}},\"id\":\"1851\",\"type\":\"BoxZoomTool\"},{\"attributes\":{\"fill_alpha\":{\"value\":0.1},\"fill_color\":{\"value\":\"white\"},\"hatch_alpha\":{\"value\":0.1},\"line_alpha\":{\"value\":0.1},\"line_color\":{\"value\":\"#1f77b4\"},\"size\":{\"value\":8},\"x\":{\"field\":\"x\"},\"y\":{\"field\":\"y\"}},\"id\":\"1880\",\"type\":\"Circle\"},{\"attributes\":{\"line_alpha\":0.2,\"line_color\":\"#1f77b4\",\"line_width\":3,\"x\":{\"field\":\"x\"},\"y\":{\"field\":\"y\"}},\"id\":\"1899\",\"type\":\"Line\"},{\"attributes\":{},\"id\":\"1850\",\"type\":\"PanTool\"},{\"attributes\":{\"label\":{\"value\":\"y=x^2\"},\"renderers\":[{\"id\":\"1900\"}]},\"id\":\"1916\",\"type\":\"LegendItem\"},{\"attributes\":{\"line_alpha\":0.1,\"line_color\":\"#1f77b4\",\"line_width\":3,\"x\":{\"field\":\"x\"},\"y\":{\"field\":\"y\"}},\"id\":\"1898\",\"type\":\"Line\"},{\"attributes\":{},\"id\":\"1852\",\"type\":\"ResetTool\"},{\"attributes\":{\"label\":{\"value\":\"y=10^x\"},\"renderers\":[{\"id\":\"1921\"},{\"id\":\"1944\"}]},\"id\":\"1939\",\"type\":\"LegendItem\"},{\"attributes\":{\"fill_color\":{\"value\":\"red\"},\"line_color\":{\"value\":\"red\"},\"size\":{\"value\":6},\"x\":{\"field\":\"x\"},\"y\":{\"field\":\"y\"}},\"id\":\"1941\",\"type\":\"Circle\"},{\"attributes\":{},\"id\":\"1936\",\"type\":\"UnionRenderers\"},{\"attributes\":{},\"id\":\"1914\",\"type\":\"Selection\"},{\"attributes\":{},\"id\":\"1893\",\"type\":\"UnionRenderers\"},{\"attributes\":{\"axis_label\":\"sections\",\"coordinates\":null,\"formatter\":{\"id\":\"1871\"},\"group\":null,\"major_label_policy\":{\"id\":\"1872\"},\"ticker\":{\"id\":\"1843\"}},\"id\":\"1842\",\"type\":\"LinearAxis\"},{\"attributes\":{\"coordinates\":null,\"group\":null,\"text\":\"log axis example\"},\"id\":\"1832\",\"type\":\"Title\"},{\"attributes\":{},\"id\":\"1913\",\"type\":\"UnionRenderers\"},{\"attributes\":{},\"id\":\"1853\",\"type\":\"SaveTool\"},{\"attributes\":{},\"id\":\"1843\",\"type\":\"BasicTicker\"},{\"attributes\":{},\"id\":\"1894\",\"type\":\"Selection\"},{\"attributes\":{\"data\":{\"x\":[0.1,0.5,1.0,1.5,2.0,2.5,3.0],\"y\":[0.1,0.5,1.0,1.5,2.0,2.5,3.0]},\"selected\":{\"id\":\"1874\"},\"selection_policy\":{\"id\":\"1873\"}},\"id\":\"1860\",\"type\":\"ColumnDataSource\"},{\"attributes\":{\"bottom_units\":\"screen\",\"coordinates\":null,\"fill_alpha\":0.5,\"fill_color\":\"lightgrey\",\"group\":null,\"left_units\":\"screen\",\"level\":\"overlay\",\"line_alpha\":1.0,\"line_color\":\"black\",\"line_dash\":[4,4],\"line_width\":2,\"right_units\":\"screen\",\"syncable\":false,\"top_units\":\"screen\"},\"id\":\"1854\",\"type\":\"BoxAnnotation\"},{\"attributes\":{\"ticker\":null},\"id\":\"1868\",\"type\":\"LogTickFormatter\"},{\"attributes\":{\"axis\":{\"id\":\"1842\"},\"coordinates\":null,\"group\":null,\"ticker\":null},\"id\":\"1845\",\"type\":\"Grid\"},{\"attributes\":{\"tools\":[{\"id\":\"1850\"},{\"id\":\"1851\"},{\"id\":\"1852\"},{\"id\":\"1853\"}]},\"id\":\"1855\",\"type\":\"Toolbar\"},{\"attributes\":{},\"id\":\"1840\",\"type\":\"LogScale\"},{\"attributes\":{\"line_color\":\"#1f77b4\",\"line_width\":3,\"x\":{\"field\":\"x\"},\"y\":{\"field\":\"y\"}},\"id\":\"1897\",\"type\":\"Line\"},{\"attributes\":{\"line_alpha\":0.1,\"line_color\":\"orange\",\"line_dash\":[4,4],\"x\":{\"field\":\"x\"},\"y\":{\"field\":\"y\"}},\"id\":\"1966\",\"type\":\"Line\"},{\"attributes\":{},\"id\":\"1869\",\"type\":\"AllLabels\"},{\"attributes\":{},\"id\":\"1961\",\"type\":\"UnionRenderers\"},{\"attributes\":{\"axis_label\":\"particles\",\"coordinates\":null,\"formatter\":{\"id\":\"1868\"},\"group\":null,\"major_label_policy\":{\"id\":\"1869\"},\"ticker\":{\"id\":\"1847\"}},\"id\":\"1846\",\"type\":\"LogAxis\"},{\"attributes\":{},\"id\":\"1871\",\"type\":\"BasicTickFormatter\"},{\"attributes\":{\"axis\":{\"id\":\"1846\"},\"coordinates\":null,\"dimension\":1,\"group\":null,\"ticker\":null},\"id\":\"1849\",\"type\":\"Grid\"},{\"attributes\":{\"fill_color\":{\"value\":\"white\"},\"line_color\":{\"value\":\"#1f77b4\"},\"size\":{\"value\":8},\"x\":{\"field\":\"x\"},\"y\":{\"field\":\"y\"}},\"id\":\"1879\",\"type\":\"Circle\"},{\"attributes\":{\"num_minor_ticks\":10},\"id\":\"1847\",\"type\":\"LogTicker\"},{\"attributes\":{\"coordinates\":null,\"data_source\":{\"id\":\"1860\"},\"glyph\":{\"id\":\"1861\"},\"group\":null,\"hover_glyph\":null,\"muted_glyph\":{\"id\":\"1863\"},\"nonselection_glyph\":{\"id\":\"1862\"},\"view\":{\"id\":\"1865\"}},\"id\":\"1864\",\"type\":\"GlyphRenderer\"},{\"attributes\":{},\"id\":\"1838\",\"type\":\"LinearScale\"},{\"attributes\":{},\"id\":\"1872\",\"type\":\"AllLabels\"},{\"attributes\":{\"line_color\":\"#1f77b4\",\"x\":{\"field\":\"x\"},\"y\":{\"field\":\"y\"}},\"id\":\"1861\",\"type\":\"Line\"}],\"root_ids\":[\"1831\"]},\"title\":\"Bokeh Application\",\"version\":\"2.4.3\"}};\n",
       "  const render_items = [{\"docid\":\"17081c57-e887-4768-92c1-962706f13048\",\"root_ids\":[\"1831\"],\"roots\":{\"1831\":\"851ce7a2-1ad4-4862-a6b2-17368fb5abb4\"}}];\n",
       "  root.Bokeh.embed.embed_items_notebook(docs_json, render_items);\n",
       "  }\n",
       "  if (root.Bokeh !== undefined) {\n",
       "    embed_document(root);\n",
       "  } else {\n",
       "    let attempts = 0;\n",
       "    const timer = setInterval(function(root) {\n",
       "      if (root.Bokeh !== undefined) {\n",
       "        clearInterval(timer);\n",
       "        embed_document(root);\n",
       "      } else {\n",
       "        attempts++;\n",
       "        if (attempts > 100) {\n",
       "          clearInterval(timer);\n",
       "          console.log(\"Bokeh: ERROR: Unable to run BokehJS code because BokehJS library is missing\");\n",
       "        }\n",
       "      }\n",
       "    }, 10, root)\n",
       "  }\n",
       "})(window);"
      ],
      "application/vnd.bokehjs_exec.v0+json": ""
     },
     "metadata": {
      "application/vnd.bokehjs_exec.v0+json": {
       "id": "1831"
      }
     },
     "output_type": "display_data"
    }
   ],
   "source": [
    "# prepare some data\n",
    "x = [0.1, 0.5, 1.0, 1.5, 2.0, 2.5, 3.0]\n",
    "y0 = [i**2 for i in x]\n",
    "y1 = [10**i for i in x]\n",
    "y2 = [10**(i**2) for i in x]\n",
    "\n",
    "# create a new plot\n",
    "p = figure(\n",
    "    tools=\"pan,box_zoom,reset,save\",\n",
    "    y_axis_type=\"log\", title=\"log axis example\",\n",
    "    x_axis_label='sections', y_axis_label='particles',\n",
    "    width=700, height=350)\n",
    "\n",
    "\n",
    "# add some renderers\n",
    "p.line(x, x, legend_label=\"y=x\")\n",
    "p.circle(x, x, legend_label=\"y=x\", fill_color=\"white\", size=8)\n",
    "\n",
    "p.line(x, y0, legend_label=\"y=x^2\", line_width=3)\n",
    "\n",
    "p.line(x, y1, legend_label=\"y=10^x\", line_color=\"red\")\n",
    "p.circle(x, y1, legend_label=\"y=10^x\", fill_color=\"red\", line_color=\"red\", size=6)\n",
    "\n",
    "p.line(x, y2, legend_label=\"y=10^x^2\", line_color=\"orange\", line_dash=\"4 4\")\n",
    "\n",
    "# show the results\n",
    "show(p)"
   ]
  },
  {
   "cell_type": "markdown",
   "metadata": {},
   "source": [
    "From the 0.12.9 it's possible to define the click policy on the legend. So for example if you want to hide the series you click on the legend:"
   ]
  },
  {
   "cell_type": "code",
   "execution_count": 11,
   "metadata": {},
   "outputs": [],
   "source": [
    "p.legend.location = \"top_left\"\n",
    "p.legend.click_policy=\"hide\" # >mute< is the other option"
   ]
  },
  {
   "cell_type": "code",
   "execution_count": 12,
   "metadata": {},
   "outputs": [
    {
     "data": {
      "text/html": [
       "\n",
       "  <div class=\"bk-root\" id=\"2a09e5d1-7f9e-4627-b781-81991bd2d470\" data-root-id=\"1831\"></div>\n"
      ]
     },
     "metadata": {},
     "output_type": "display_data"
    },
    {
     "data": {
      "application/javascript": [
       "(function(root) {\n",
       "  function embed_document(root) {\n",
       "  const docs_json = {\"e0c12ca9-09a1-4beb-8169-c786c7eded30\":{\"defs\":[],\"roots\":{\"references\":[{\"attributes\":{\"below\":[{\"id\":\"1842\"}],\"center\":[{\"id\":\"1845\"},{\"id\":\"1849\"},{\"id\":\"1876\"}],\"height\":350,\"left\":[{\"id\":\"1846\"}],\"renderers\":[{\"id\":\"1864\"},{\"id\":\"1882\"},{\"id\":\"1900\"},{\"id\":\"1921\"},{\"id\":\"1944\"},{\"id\":\"1968\"}],\"title\":{\"id\":\"1832\"},\"toolbar\":{\"id\":\"1855\"},\"width\":700,\"x_range\":{\"id\":\"1834\"},\"x_scale\":{\"id\":\"1838\"},\"y_range\":{\"id\":\"1836\"},\"y_scale\":{\"id\":\"1840\"}},\"id\":\"1831\",\"subtype\":\"Figure\",\"type\":\"Plot\"},{\"attributes\":{\"click_policy\":\"hide\",\"coordinates\":null,\"group\":null,\"items\":[{\"id\":\"1877\"},{\"id\":\"1916\"},{\"id\":\"1939\"},{\"id\":\"1990\"}],\"location\":\"top_left\"},\"id\":\"1876\",\"type\":\"Legend\"},{\"attributes\":{\"line_alpha\":0.1,\"line_color\":\"#1f77b4\",\"x\":{\"field\":\"x\"},\"y\":{\"field\":\"y\"}},\"id\":\"1862\",\"type\":\"Line\"},{\"attributes\":{},\"id\":\"1962\",\"type\":\"Selection\"},{\"attributes\":{\"source\":{\"id\":\"1964\"}},\"id\":\"1969\",\"type\":\"CDSView\"},{\"attributes\":{\"line_color\":\"orange\",\"line_dash\":[4,4],\"x\":{\"field\":\"x\"},\"y\":{\"field\":\"y\"}},\"id\":\"1965\",\"type\":\"Line\"},{\"attributes\":{},\"id\":\"1873\",\"type\":\"UnionRenderers\"},{\"attributes\":{},\"id\":\"1834\",\"type\":\"DataRange1d\"},{\"attributes\":{\"label\":{\"value\":\"y=x\"},\"renderers\":[{\"id\":\"1864\"},{\"id\":\"1882\"}]},\"id\":\"1877\",\"type\":\"LegendItem\"},{\"attributes\":{\"coordinates\":null,\"data_source\":{\"id\":\"1964\"},\"glyph\":{\"id\":\"1965\"},\"group\":null,\"hover_glyph\":null,\"muted_glyph\":{\"id\":\"1967\"},\"nonselection_glyph\":{\"id\":\"1966\"},\"view\":{\"id\":\"1969\"}},\"id\":\"1968\",\"type\":\"GlyphRenderer\"},{\"attributes\":{\"fill_alpha\":{\"value\":0.2},\"fill_color\":{\"value\":\"red\"},\"hatch_alpha\":{\"value\":0.2},\"line_alpha\":{\"value\":0.2},\"line_color\":{\"value\":\"red\"},\"size\":{\"value\":6},\"x\":{\"field\":\"x\"},\"y\":{\"field\":\"y\"}},\"id\":\"1943\",\"type\":\"Circle\"},{\"attributes\":{\"label\":{\"value\":\"y=10^x^2\"},\"renderers\":[{\"id\":\"1968\"}]},\"id\":\"1990\",\"type\":\"LegendItem\"},{\"attributes\":{\"data\":{\"x\":[0.1,0.5,1.0,1.5,2.0,2.5,3.0],\"y\":[1.023292992280754,1.7782794100389228,10.0,177.82794100389228,10000.0,1778279.410038923,1000000000.0]},\"selected\":{\"id\":\"1988\"},\"selection_policy\":{\"id\":\"1987\"}},\"id\":\"1964\",\"type\":\"ColumnDataSource\"},{\"attributes\":{},\"id\":\"1874\",\"type\":\"Selection\"},{\"attributes\":{},\"id\":\"1937\",\"type\":\"Selection\"},{\"attributes\":{\"source\":{\"id\":\"1940\"}},\"id\":\"1945\",\"type\":\"CDSView\"},{\"attributes\":{\"fill_alpha\":{\"value\":0.2},\"fill_color\":{\"value\":\"white\"},\"hatch_alpha\":{\"value\":0.2},\"line_alpha\":{\"value\":0.2},\"line_color\":{\"value\":\"#1f77b4\"},\"size\":{\"value\":8},\"x\":{\"field\":\"x\"},\"y\":{\"field\":\"y\"}},\"id\":\"1881\",\"type\":\"Circle\"},{\"attributes\":{\"source\":{\"id\":\"1860\"}},\"id\":\"1865\",\"type\":\"CDSView\"},{\"attributes\":{\"line_alpha\":0.2,\"line_color\":\"orange\",\"line_dash\":[4,4],\"x\":{\"field\":\"x\"},\"y\":{\"field\":\"y\"}},\"id\":\"1967\",\"type\":\"Line\"},{\"attributes\":{},\"id\":\"1836\",\"type\":\"DataRange1d\"},{\"attributes\":{\"coordinates\":null,\"data_source\":{\"id\":\"1878\"},\"glyph\":{\"id\":\"1879\"},\"group\":null,\"hover_glyph\":null,\"muted_glyph\":{\"id\":\"1881\"},\"nonselection_glyph\":{\"id\":\"1880\"},\"view\":{\"id\":\"1883\"}},\"id\":\"1882\",\"type\":\"GlyphRenderer\"},{\"attributes\":{\"data\":{\"x\":[0.1,0.5,1.0,1.5,2.0,2.5,3.0],\"y\":[1.2589254117941673,3.1622776601683795,10.0,31.622776601683793,100.0,316.22776601683796,1000.0]},\"selected\":{\"id\":\"1962\"},\"selection_policy\":{\"id\":\"1961\"}},\"id\":\"1940\",\"type\":\"ColumnDataSource\"},{\"attributes\":{\"data\":{\"x\":[0.1,0.5,1.0,1.5,2.0,2.5,3.0],\"y\":[0.010000000000000002,0.25,1.0,2.25,4.0,6.25,9.0]},\"selected\":{\"id\":\"1914\"},\"selection_policy\":{\"id\":\"1913\"}},\"id\":\"1896\",\"type\":\"ColumnDataSource\"},{\"attributes\":{\"line_alpha\":0.2,\"line_color\":\"red\",\"x\":{\"field\":\"x\"},\"y\":{\"field\":\"y\"}},\"id\":\"1920\",\"type\":\"Line\"},{\"attributes\":{\"fill_alpha\":{\"value\":0.1},\"fill_color\":{\"value\":\"red\"},\"hatch_alpha\":{\"value\":0.1},\"line_alpha\":{\"value\":0.1},\"line_color\":{\"value\":\"red\"},\"size\":{\"value\":6},\"x\":{\"field\":\"x\"},\"y\":{\"field\":\"y\"}},\"id\":\"1942\",\"type\":\"Circle\"},{\"attributes\":{\"source\":{\"id\":\"1917\"}},\"id\":\"1922\",\"type\":\"CDSView\"},{\"attributes\":{\"coordinates\":null,\"data_source\":{\"id\":\"1917\"},\"glyph\":{\"id\":\"1918\"},\"group\":null,\"hover_glyph\":null,\"muted_glyph\":{\"id\":\"1920\"},\"nonselection_glyph\":{\"id\":\"1919\"},\"view\":{\"id\":\"1922\"}},\"id\":\"1921\",\"type\":\"GlyphRenderer\"},{\"attributes\":{\"line_alpha\":0.2,\"line_color\":\"#1f77b4\",\"x\":{\"field\":\"x\"},\"y\":{\"field\":\"y\"}},\"id\":\"1863\",\"type\":\"Line\"},{\"attributes\":{\"line_alpha\":0.1,\"line_color\":\"red\",\"x\":{\"field\":\"x\"},\"y\":{\"field\":\"y\"}},\"id\":\"1919\",\"type\":\"Line\"},{\"attributes\":{\"data\":{\"x\":[0.1,0.5,1.0,1.5,2.0,2.5,3.0],\"y\":[1.2589254117941673,3.1622776601683795,10.0,31.622776601683793,100.0,316.22776601683796,1000.0]},\"selected\":{\"id\":\"1937\"},\"selection_policy\":{\"id\":\"1936\"}},\"id\":\"1917\",\"type\":\"ColumnDataSource\"},{\"attributes\":{},\"id\":\"1987\",\"type\":\"UnionRenderers\"},{\"attributes\":{\"source\":{\"id\":\"1878\"}},\"id\":\"1883\",\"type\":\"CDSView\"},{\"attributes\":{\"source\":{\"id\":\"1896\"}},\"id\":\"1901\",\"type\":\"CDSView\"},{\"attributes\":{\"line_color\":\"red\",\"x\":{\"field\":\"x\"},\"y\":{\"field\":\"y\"}},\"id\":\"1918\",\"type\":\"Line\"},{\"attributes\":{},\"id\":\"1988\",\"type\":\"Selection\"},{\"attributes\":{\"data\":{\"x\":[0.1,0.5,1.0,1.5,2.0,2.5,3.0],\"y\":[0.1,0.5,1.0,1.5,2.0,2.5,3.0]},\"selected\":{\"id\":\"1894\"},\"selection_policy\":{\"id\":\"1893\"}},\"id\":\"1878\",\"type\":\"ColumnDataSource\"},{\"attributes\":{\"coordinates\":null,\"data_source\":{\"id\":\"1896\"},\"glyph\":{\"id\":\"1897\"},\"group\":null,\"hover_glyph\":null,\"muted_glyph\":{\"id\":\"1899\"},\"nonselection_glyph\":{\"id\":\"1898\"},\"view\":{\"id\":\"1901\"}},\"id\":\"1900\",\"type\":\"GlyphRenderer\"},{\"attributes\":{\"coordinates\":null,\"data_source\":{\"id\":\"1940\"},\"glyph\":{\"id\":\"1941\"},\"group\":null,\"hover_glyph\":null,\"muted_glyph\":{\"id\":\"1943\"},\"nonselection_glyph\":{\"id\":\"1942\"},\"view\":{\"id\":\"1945\"}},\"id\":\"1944\",\"type\":\"GlyphRenderer\"},{\"attributes\":{\"overlay\":{\"id\":\"1854\"}},\"id\":\"1851\",\"type\":\"BoxZoomTool\"},{\"attributes\":{\"fill_alpha\":{\"value\":0.1},\"fill_color\":{\"value\":\"white\"},\"hatch_alpha\":{\"value\":0.1},\"line_alpha\":{\"value\":0.1},\"line_color\":{\"value\":\"#1f77b4\"},\"size\":{\"value\":8},\"x\":{\"field\":\"x\"},\"y\":{\"field\":\"y\"}},\"id\":\"1880\",\"type\":\"Circle\"},{\"attributes\":{\"line_alpha\":0.2,\"line_color\":\"#1f77b4\",\"line_width\":3,\"x\":{\"field\":\"x\"},\"y\":{\"field\":\"y\"}},\"id\":\"1899\",\"type\":\"Line\"},{\"attributes\":{},\"id\":\"1850\",\"type\":\"PanTool\"},{\"attributes\":{\"label\":{\"value\":\"y=x^2\"},\"renderers\":[{\"id\":\"1900\"}]},\"id\":\"1916\",\"type\":\"LegendItem\"},{\"attributes\":{\"line_alpha\":0.1,\"line_color\":\"#1f77b4\",\"line_width\":3,\"x\":{\"field\":\"x\"},\"y\":{\"field\":\"y\"}},\"id\":\"1898\",\"type\":\"Line\"},{\"attributes\":{},\"id\":\"1852\",\"type\":\"ResetTool\"},{\"attributes\":{\"label\":{\"value\":\"y=10^x\"},\"renderers\":[{\"id\":\"1921\"},{\"id\":\"1944\"}]},\"id\":\"1939\",\"type\":\"LegendItem\"},{\"attributes\":{\"fill_color\":{\"value\":\"red\"},\"line_color\":{\"value\":\"red\"},\"size\":{\"value\":6},\"x\":{\"field\":\"x\"},\"y\":{\"field\":\"y\"}},\"id\":\"1941\",\"type\":\"Circle\"},{\"attributes\":{},\"id\":\"1936\",\"type\":\"UnionRenderers\"},{\"attributes\":{},\"id\":\"1914\",\"type\":\"Selection\"},{\"attributes\":{},\"id\":\"1893\",\"type\":\"UnionRenderers\"},{\"attributes\":{\"axis_label\":\"sections\",\"coordinates\":null,\"formatter\":{\"id\":\"1871\"},\"group\":null,\"major_label_policy\":{\"id\":\"1872\"},\"ticker\":{\"id\":\"1843\"}},\"id\":\"1842\",\"type\":\"LinearAxis\"},{\"attributes\":{\"coordinates\":null,\"group\":null,\"text\":\"log axis example\"},\"id\":\"1832\",\"type\":\"Title\"},{\"attributes\":{},\"id\":\"1913\",\"type\":\"UnionRenderers\"},{\"attributes\":{},\"id\":\"1853\",\"type\":\"SaveTool\"},{\"attributes\":{},\"id\":\"1843\",\"type\":\"BasicTicker\"},{\"attributes\":{},\"id\":\"1894\",\"type\":\"Selection\"},{\"attributes\":{\"data\":{\"x\":[0.1,0.5,1.0,1.5,2.0,2.5,3.0],\"y\":[0.1,0.5,1.0,1.5,2.0,2.5,3.0]},\"selected\":{\"id\":\"1874\"},\"selection_policy\":{\"id\":\"1873\"}},\"id\":\"1860\",\"type\":\"ColumnDataSource\"},{\"attributes\":{\"bottom_units\":\"screen\",\"coordinates\":null,\"fill_alpha\":0.5,\"fill_color\":\"lightgrey\",\"group\":null,\"left_units\":\"screen\",\"level\":\"overlay\",\"line_alpha\":1.0,\"line_color\":\"black\",\"line_dash\":[4,4],\"line_width\":2,\"right_units\":\"screen\",\"syncable\":false,\"top_units\":\"screen\"},\"id\":\"1854\",\"type\":\"BoxAnnotation\"},{\"attributes\":{\"ticker\":null},\"id\":\"1868\",\"type\":\"LogTickFormatter\"},{\"attributes\":{\"axis\":{\"id\":\"1842\"},\"coordinates\":null,\"group\":null,\"ticker\":null},\"id\":\"1845\",\"type\":\"Grid\"},{\"attributes\":{\"tools\":[{\"id\":\"1850\"},{\"id\":\"1851\"},{\"id\":\"1852\"},{\"id\":\"1853\"}]},\"id\":\"1855\",\"type\":\"Toolbar\"},{\"attributes\":{},\"id\":\"1840\",\"type\":\"LogScale\"},{\"attributes\":{\"line_color\":\"#1f77b4\",\"line_width\":3,\"x\":{\"field\":\"x\"},\"y\":{\"field\":\"y\"}},\"id\":\"1897\",\"type\":\"Line\"},{\"attributes\":{\"line_alpha\":0.1,\"line_color\":\"orange\",\"line_dash\":[4,4],\"x\":{\"field\":\"x\"},\"y\":{\"field\":\"y\"}},\"id\":\"1966\",\"type\":\"Line\"},{\"attributes\":{},\"id\":\"1869\",\"type\":\"AllLabels\"},{\"attributes\":{},\"id\":\"1961\",\"type\":\"UnionRenderers\"},{\"attributes\":{\"axis_label\":\"particles\",\"coordinates\":null,\"formatter\":{\"id\":\"1868\"},\"group\":null,\"major_label_policy\":{\"id\":\"1869\"},\"ticker\":{\"id\":\"1847\"}},\"id\":\"1846\",\"type\":\"LogAxis\"},{\"attributes\":{},\"id\":\"1871\",\"type\":\"BasicTickFormatter\"},{\"attributes\":{\"axis\":{\"id\":\"1846\"},\"coordinates\":null,\"dimension\":1,\"group\":null,\"ticker\":null},\"id\":\"1849\",\"type\":\"Grid\"},{\"attributes\":{\"fill_color\":{\"value\":\"white\"},\"line_color\":{\"value\":\"#1f77b4\"},\"size\":{\"value\":8},\"x\":{\"field\":\"x\"},\"y\":{\"field\":\"y\"}},\"id\":\"1879\",\"type\":\"Circle\"},{\"attributes\":{\"num_minor_ticks\":10},\"id\":\"1847\",\"type\":\"LogTicker\"},{\"attributes\":{\"coordinates\":null,\"data_source\":{\"id\":\"1860\"},\"glyph\":{\"id\":\"1861\"},\"group\":null,\"hover_glyph\":null,\"muted_glyph\":{\"id\":\"1863\"},\"nonselection_glyph\":{\"id\":\"1862\"},\"view\":{\"id\":\"1865\"}},\"id\":\"1864\",\"type\":\"GlyphRenderer\"},{\"attributes\":{},\"id\":\"1838\",\"type\":\"LinearScale\"},{\"attributes\":{},\"id\":\"1872\",\"type\":\"AllLabels\"},{\"attributes\":{\"line_color\":\"#1f77b4\",\"x\":{\"field\":\"x\"},\"y\":{\"field\":\"y\"}},\"id\":\"1861\",\"type\":\"Line\"}],\"root_ids\":[\"1831\"]},\"title\":\"Bokeh Application\",\"version\":\"2.4.3\"}};\n",
       "  const render_items = [{\"docid\":\"e0c12ca9-09a1-4beb-8169-c786c7eded30\",\"root_ids\":[\"1831\"],\"roots\":{\"1831\":\"2a09e5d1-7f9e-4627-b781-81991bd2d470\"}}];\n",
       "  root.Bokeh.embed.embed_items_notebook(docs_json, render_items);\n",
       "  }\n",
       "  if (root.Bokeh !== undefined) {\n",
       "    embed_document(root);\n",
       "  } else {\n",
       "    let attempts = 0;\n",
       "    const timer = setInterval(function(root) {\n",
       "      if (root.Bokeh !== undefined) {\n",
       "        clearInterval(timer);\n",
       "        embed_document(root);\n",
       "      } else {\n",
       "        attempts++;\n",
       "        if (attempts > 100) {\n",
       "          clearInterval(timer);\n",
       "          console.log(\"Bokeh: ERROR: Unable to run BokehJS code because BokehJS library is missing\");\n",
       "        }\n",
       "      }\n",
       "    }, 10, root)\n",
       "  }\n",
       "})(window);"
      ],
      "application/vnd.bokehjs_exec.v0+json": ""
     },
     "metadata": {
      "application/vnd.bokehjs_exec.v0+json": {
       "id": "1831"
      }
     },
     "output_type": "display_data"
    }
   ],
   "source": [
    "show(p)"
   ]
  },
  {
   "cell_type": "markdown",
   "metadata": {},
   "source": [
    "## Sample Data\n",
    "Some of the examples included in the Bokeh source make use of sample data files that are distributed separately. To download this data, execute the following commands at a Bash or Windows command prompt:\n",
    "\n",
    "```bash\n",
    "bokeh sampledata\n",
    "```"
   ]
  },
  {
   "cell_type": "markdown",
   "metadata": {},
   "source": [
    "## Concepts\n",
    "\n",
    "Let’s consider the plots above, and use them to help define some core concepts.\n",
    "\n",
    "### Plot\n",
    "\n",
    "Plots are a central concept in Bokeh. They are containers that hold all the various objects (renderers, guides, data, and tools) that comprise the final visualization that is presented to users. The bokeh.plotting interface provides a Figure class to help with assembling all the necessary objects, and a convenience function figure() for creating Figure objects.\n",
    "\n",
    "### Glyphs\n",
    "\n",
    "Glyphs are the basic visual marks that Bokeh can display. At the lowest level, there are glyph objects, such as Line. If you are using the low-level bokeh.models interface, it is your responsibility to create and coordinate all the various Bokeh objects, including glyph objects and their data sources. To make life easier, the bokeh.plotting interface exposes higher level glyph methods such as the Figure.line method used in the first example. The second example also adds in calls to Figure.circle to display circle and line glyphs together on the same plot. Besides lines and circles, Bokeh makes many additional glyphs and markers available.\n",
    "\n",
    "The visual appearance of a glyph is tied directly to the data values that are associated with the glyph’s various attributes. In the example above we see that positional attributes like x and y can be set to vectors of data. But glyphs also have some combination of Line Properties, Fill Properties, and Text Properties to control their appearance. All of these attributes can be set with “vectorized” values as well. We will show examples of this below.\n",
    "\n",
    "### Guides and Annotations\n",
    "\n",
    "Bokeh plots can also have other visual components that aid presentation or help the user make comparisons. These fall into two categories. Guides are visual aids that help users judge distances, angles, etc. These include grid lines or bands, axes (such as linear, log, or datetime) that may have ticks and tick labels as well. Annotations are visual aids that label or name parts of the plot. These include titles, legends, etc.\n",
    "\n",
    "### Ranges\n",
    "\n",
    "Ranges describe the data-space bounds of a plot. By default, plots generated with the bokeh.plotting interface come configured with DataRange1d objects that try to automatically set the plot bounds to encompass all the available data. But it is possible to supply explicit Range1d objects for fixed bounds. As a convenience these can also typically be spelled as 2-tuples or lists:\n",
    "\n",
    "`p = figure(x_range=[0,10], y_range=(10, 20))`\n",
    "\n",
    "\n",
    "### Resources\n",
    "\n",
    "To generate plots, the client library BokehJS JavaScript and CSS code must be loaded into the browser. By default, the output_file() function will load BokehJS from http://cdn.pydata.org . However, you can also configure Bokeh to generate static HTML files with BokehJS resources embedded directly inside, by passing the argument mode=\"inline\" to the output_file() function.\n",
    "\n",
    "### More examples¶\n",
    "\n",
    "Here are a few more examples to demonstrate other common tasks and use-cases with the bokeh.plotting interface.\n",
    "\n",
    "\n",
    "### Vectorized colors and sizes¶\n",
    "\n",
    "This example shows how it is possible to provide sequences of data values for glyph attributes like fill_color and radius. Other things to look out for in this example:\n",
    "- supplying an explicit list of tool names to figure()\n",
    "- fetching BokehJS resources from CDN using the mode argument\n",
    "- setting the x_range and y_range explicitly\n",
    "- turning a line off (by setting its value to None)\n",
    "- using NumPy arrays for supplying data"
   ]
  },
  {
   "cell_type": "code",
   "execution_count": 13,
   "metadata": {},
   "outputs": [
    {
     "data": {
      "text/html": [
       "\n",
       "  <div class=\"bk-root\" id=\"ecea99f5-ddbf-499d-88f1-9227f2960deb\" data-root-id=\"2281\"></div>\n"
      ]
     },
     "metadata": {},
     "output_type": "display_data"
    },
    {
     "data": {
      "application/javascript": [
       "(function(root) {\n",
       "  function embed_document(root) {\n",
       "  const docs_json = {\"7a697e10-bfbd-49f3-b1b4-a1f7f13ee3c5\":{\"defs\":[],\"roots\":{\"references\":[{\"attributes\":{\"below\":[{\"id\":\"2290\"}],\"center\":[{\"id\":\"2293\"},{\"id\":\"2297\"}],\"height\":500,\"left\":[{\"id\":\"2294\"}],\"renderers\":[{\"id\":\"2320\"}],\"title\":{\"id\":\"2412\"},\"toolbar\":{\"id\":\"2308\"},\"width\":500,\"x_range\":{\"id\":\"2282\"},\"x_scale\":{\"id\":\"2286\"},\"y_range\":{\"id\":\"2284\"},\"y_scale\":{\"id\":\"2288\"}},\"id\":\"2281\",\"subtype\":\"Figure\",\"type\":\"Plot\"},{\"attributes\":{},\"id\":\"2295\",\"type\":\"BasicTicker\"},{\"attributes\":{\"fill_alpha\":{\"value\":0.6},\"fill_color\":{\"field\":\"fill_color\"},\"line_color\":{\"value\":null},\"radius\":{\"field\":\"radius\"},\"x\":{\"field\":\"x\"},\"y\":{\"field\":\"y\"}},\"id\":\"2317\",\"type\":\"Circle\"},{\"attributes\":{\"axis\":{\"id\":\"2294\"},\"coordinates\":null,\"dimension\":1,\"group\":null,\"ticker\":null},\"id\":\"2297\",\"type\":\"Grid\"},{\"attributes\":{},\"id\":\"2419\",\"type\":\"AllLabels\"},{\"attributes\":{\"data\":{\"fill_color\":[\"#d2cb96\",\"#857496\",\"#d5ba96\",\"#538d96\",\"#98aa96\",\"#965f96\",\"#9ac996\",\"#9f8996\",\"#e0a996\",\"#512d96\",\"#c88196\",\"#713396\",\"#3b3896\",\"#833796\",\"#9a6796\",\"#cd6196\",\"#ab4c96\",\"#764696\",\"#406696\",\"#674b96\",\"#76a996\",\"#94be96\",\"#783e96\",\"#e48596\",\"#ef9a96\",\"#c7c196\",\"#3d9a96\",\"#df5896\",\"#329c96\",\"#b74196\",\"#743296\",\"#dd9896\",\"#b29d96\",\"#358496\",\"#945e96\",\"#ac7496\",\"#bec596\",\"#ed2896\",\"#948896\",\"#cbbc96\",\"#7f8996\",\"#6b6596\",\"#903f96\",\"#b92596\",\"#994296\",\"#a46996\",\"#5c7396\",\"#51a096\",\"#819396\",\"#b3af96\",\"#9f5896\",\"#853a96\",\"#5a8096\",\"#bc9d96\",\"#802e96\",\"#a43496\",\"#4ca996\",\"#7c5396\",\"#4cd896\",\"#56ce96\",\"#9ae296\",\"#d78796\",\"#609596\",\"#593c96\",\"#9c5596\",\"#7d2796\",\"#eb6596\",\"#364796\",\"#84c196\",\"#ae2396\",\"#ab3096\",\"#873596\",\"#866b96\",\"#53cb96\",\"#479596\",\"#f2b996\",\"#4f9f96\",\"#ef9c96\",\"#e92996\",\"#b7c896\",\"#8c5d96\",\"#c0a696\",\"#9e5c96\",\"#34ca96\",\"#f22096\",\"#7eda96\",\"#824f96\",\"#ba4596\",\"#ba5196\",\"#75dc96\",\"#a87b96\",\"#3c7896\",\"#59d996\",\"#be2496\",\"#8a2496\",\"#a87d96\",\"#de9e96\",\"#c55396\",\"#89d196\",\"#818696\",\"#74df96\",\"#bc5496\",\"#6eb496\",\"#b15096\",\"#82d296\",\"#ddc196\",\"#a88796\",\"#c64296\",\"#cc3c96\",\"#f55b96\",\"#4b8496\",\"#668096\",\"#549b96\",\"#b43496\",\"#bb7096\",\"#ede396\",\"#837996\",\"#6b2696\",\"#4bce96\",\"#b48c96\",\"#5b2396\",\"#d4dd96\",\"#ace296\",\"#81da96\",\"#8d7f96\",\"#cb4296\",\"#664896\",\"#bea496\",\"#7aa296\",\"#937d96\",\"#419596\",\"#324b96\",\"#794e96\",\"#4eba96\",\"#4c4f96\",\"#a7ad96\",\"#72dc96\",\"#383096\",\"#b47496\",\"#4aab96\",\"#ef7a96\",\"#d38596\",\"#cf2396\",\"#5b9596\",\"#b49e96\",\"#7a4296\",\"#81da96\",\"#e29596\",\"#cce596\",\"#48ce96\",\"#54a296\",\"#c1af96\",\"#798496\",\"#aa1f96\",\"#bd4296\",\"#3f7996\",\"#bd3e96\",\"#3bb296\",\"#f34996\",\"#b4b196\",\"#f1d696\",\"#bd7696\",\"#545596\",\"#d35296\",\"#c1e196\",\"#dbd296\",\"#7d6396\",\"#77db96\",\"#b99796\",\"#87b696\",\"#e16c96\",\"#acad96\",\"#404596\",\"#7d2596\",\"#f6c296\",\"#914e96\",\"#857396\",\"#e6ad96\",\"#d28696\",\"#c84f96\",\"#5a6996\",\"#5a5296\",\"#ca5c96\",\"#d5e396\",\"#ed6c96\",\"#a0c996\",\"#d95d96\",\"#cc7296\",\"#d2b596\",\"#72b596\",\"#f4a396\",\"#ea9596\",\"#c26d96\",\"#ea6e96\",\"#5e5196\",\"#e58096\",\"#f07596\",\"#975596\",\"#a13596\",\"#6aa796\",\"#b46596\",\"#8e9e96\",\"#c79696\",\"#ddc596\",\"#939b96\",\"#a0d296\",\"#662c96\",\"#6b5496\",\"#b76996\",\"#d04696\",\"#c12296\",\"#36a396\",\"#d64096\",\"#cda396\",\"#ac8c96\",\"#415296\",\"#87b596\",\"#7f5396\",\"#469396\",\"#509296\",\"#be4296\",\"#599296\",\"#b53c96\",\"#57a696\",\"#d45296\",\"#ecd396\",\"#b55696\",\"#b4dc96\",\"#c87a96\",\"#b23a96\",\"#485596\",\"#a04596\",\"#db4696\",\"#72a896\",\"#e1bf96\",\"#409496\",\"#5aa096\",\"#5d6d96\",\"#c52896\",\"#89c396\",\"#6ea996\",\"#6e7d96\",\"#7c5c96\",\"#442796\",\"#b69896\",\"#9a9496\",\"#356496\",\"#52b296\",\"#5ac996\",\"#cee296\",\"#912496\",\"#e0e596\",\"#72bf96\",\"#693196\",\"#a7bc96\",\"#f08e96\",\"#cfe496\",\"#e18896\",\"#b9d796\",\"#792a96\",\"#ed5796\",\"#515d96\",\"#83cd96\",\"#5aad96\",\"#41d296\",\"#679396\",\"#f12296\",\"#f07796\",\"#ebc196\",\"#555596\",\"#43b896\",\"#385496\",\"#e7db96\",\"#357396\",\"#344a96\",\"#acb796\",\"#dcc196\",\"#6e9b96\",\"#38d996\",\"#f32096\",\"#672796\",\"#373896\",\"#8d9696\",\"#5e5396\",\"#627b96\",\"#7e6c96\",\"#b56696\",\"#678296\",\"#c76496\",\"#928f96\",\"#3ca796\",\"#79a696\",\"#96bd96\",\"#ec7496\",\"#90ba96\",\"#4f5596\",\"#a7c696\",\"#337596\",\"#a78396\",\"#a26396\",\"#55a096\",\"#bd5f96\",\"#d7d296\",\"#a22f96\",\"#61b996\",\"#617d96\",\"#a8d596\",\"#e1c096\",\"#d17b96\",\"#a45a96\",\"#898196\",\"#c6a096\",\"#ac5f96\",\"#d85a96\",\"#eb5696\",\"#edd596\",\"#ce6f96\",\"#353496\",\"#c5b096\",\"#748496\",\"#566f96\",\"#5f6f96\",\"#753096\",\"#cb4796\",\"#38b396\",\"#38a896\",\"#359796\",\"#42af96\",\"#cc6696\",\"#b34a96\",\"#91b496\",\"#ad7c96\",\"#f25696\",\"#c32896\",\"#635096\",\"#e6af96\",\"#3dd896\",\"#93b796\",\"#dd7c96\",\"#bd8896\",\"#893196\",\"#c2bd96\",\"#484396\",\"#ddc096\",\"#525d96\",\"#913e96\",\"#eee196\",\"#59b796\",\"#8fd996\",\"#95d896\",\"#8d6496\",\"#9d6a96\",\"#e46b96\",\"#cd5c96\",\"#9d8e96\",\"#988a96\",\"#66a696\",\"#c52996\",\"#472b96\",\"#55ac96\",\"#814696\",\"#8bb496\",\"#888996\",\"#3ab596\",\"#4dda96\",\"#b9ce96\",\"#e7be96\",\"#885d96\",\"#b09796\",\"#644896\",\"#4fc696\",\"#b85396\",\"#a19996\",\"#35d496\",\"#baa996\",\"#977b96\",\"#3ccf96\",\"#7b3596\",\"#a9bb96\",\"#a1ca96\",\"#b67696\",\"#9e7096\",\"#475896\",\"#dbb896\",\"#b8cf96\",\"#4eb196\",\"#333b96\",\"#c3b296\",\"#bf6796\",\"#e62596\",\"#f7a796\",\"#f7da96\",\"#779296\",\"#d64c96\",\"#997496\",\"#c19996\",\"#b2a096\",\"#7ae196\",\"#c3a796\",\"#7d6496\",\"#6d8696\",\"#3bcf96\",\"#ae3a96\",\"#9d6196\",\"#572d96\",\"#6abd96\",\"#ea6296\",\"#afde96\",\"#d77f96\",\"#ed9696\",\"#c32796\",\"#5da696\",\"#bcc396\",\"#7bc996\",\"#b99b96\",\"#b4e296\",\"#cdbd96\",\"#443f96\",\"#476696\",\"#624f96\",\"#d72496\",\"#6be496\",\"#c0a796\",\"#c98e96\",\"#e5b296\",\"#cc6396\",\"#8acc96\",\"#eb7a96\",\"#917e96\",\"#6cc196\",\"#e28596\",\"#d44996\",\"#598096\",\"#ab8a96\",\"#37c096\",\"#c54c96\",\"#659a96\",\"#89de96\",\"#b6d596\",\"#95d796\",\"#6fa596\",\"#599196\",\"#612596\",\"#574896\",\"#b8de96\",\"#d15d96\",\"#42e096\",\"#7ec296\",\"#33d696\",\"#66b796\",\"#a78a96\",\"#d9a196\",\"#b84696\",\"#459796\",\"#a73596\",\"#6cc796\",\"#6c3e96\",\"#bd5396\",\"#8abf96\",\"#7fdc96\",\"#562096\",\"#9b5f96\",\"#458896\",\"#e77a96\",\"#b63196\",\"#b59d96\",\"#c45196\",\"#79c296\",\"#3c5e96\",\"#eac196\",\"#f1b496\",\"#7d3296\",\"#efd596\",\"#d97796\",\"#e93896\",\"#739e96\",\"#643596\",\"#7c7b96\",\"#9be096\",\"#b7e396\",\"#bc7f96\",\"#f6c496\",\"#da2696\",\"#58dc96\",\"#b0a696\",\"#93b596\",\"#eb9796\",\"#c05896\",\"#d5a096\",\"#f46296\",\"#ce4896\",\"#5dc396\",\"#58cb96\",\"#c15296\",\"#f43296\",\"#985b96\",\"#845696\",\"#90b296\",\"#686996\",\"#66ca96\",\"#d76e96\",\"#c25696\",\"#aea496\",\"#953e96\",\"#5b5796\",\"#564596\",\"#869a96\",\"#5f2096\",\"#78bf96\",\"#ba2c96\",\"#cb4396\",\"#382996\",\"#479996\",\"#5b2a96\",\"#6faa96\",\"#cb2a96\",\"#498e96\",\"#497796\",\"#a78896\",\"#4edc96\",\"#de5996\",\"#d1af96\",\"#6e2996\",\"#e3db96\",\"#686996\",\"#f1a696\",\"#68c196\",\"#a48d96\",\"#e3df96\",\"#df2a96\",\"#59ce96\",\"#f3db96\",\"#cddf96\",\"#5b6996\",\"#7b8096\",\"#c1d596\",\"#593a96\",\"#6d8b96\",\"#d68096\",\"#979296\",\"#7f4396\",\"#628096\",\"#5a8296\",\"#5dd296\",\"#ac3496\",\"#cfad96\",\"#a73c96\",\"#42b996\",\"#c4d896\",\"#509a96\",\"#cde296\",\"#573996\",\"#ddde96\",\"#553896\",\"#976096\",\"#8a3196\",\"#ed6f96\",\"#f43a96\",\"#c83d96\",\"#a22396\",\"#376196\",\"#d4cd96\",\"#36c996\",\"#afe496\",\"#d87d96\",\"#595f96\",\"#e5d596\",\"#b99f96\",\"#f0a996\",\"#764296\",\"#d9a596\",\"#e55896\",\"#906296\",\"#5f3196\",\"#b53c96\",\"#6c5696\",\"#474f96\",\"#ed8b96\",\"#359a96\",\"#ec9796\",\"#434a96\",\"#d95696\",\"#9fe196\",\"#bb4896\",\"#6d9696\",\"#a4b896\",\"#e12e96\",\"#ab6296\",\"#548296\",\"#a16596\",\"#696396\",\"#388696\",\"#ad7196\",\"#d0ca96\",\"#32e096\",\"#ef7b96\",\"#324e96\",\"#cf2e96\",\"#d89c96\",\"#85e096\",\"#5a9896\",\"#4ba696\",\"#ef2e96\",\"#f42796\",\"#56e496\",\"#ec6496\",\"#9e1f96\",\"#a06296\",\"#3e6b96\",\"#cc3c96\",\"#dde596\",\"#f68a96\",\"#e2cd96\",\"#876296\",\"#8a5396\",\"#71c596\",\"#8ebc96\",\"#cf6896\",\"#7cd296\",\"#50bc96\",\"#b62396\",\"#bf5196\",\"#738b96\",\"#977996\",\"#767196\",\"#495596\",\"#b48c96\",\"#f63196\",\"#6f6296\",\"#f57196\",\"#436996\",\"#cad396\",\"#38d696\",\"#547296\",\"#b03e96\",\"#5a8296\",\"#b7b896\",\"#b78e96\",\"#932496\",\"#a9dd96\",\"#883b96\",\"#f65696\",\"#b34096\",\"#7e7396\",\"#eaa796\",\"#99ca96\",\"#828196\",\"#d03b96\",\"#ccdd96\",\"#a44296\",\"#4d3f96\",\"#b5c696\",\"#7fc696\",\"#e65e96\",\"#a97d96\",\"#96c196\",\"#66ce96\",\"#514b96\",\"#efc896\",\"#776596\",\"#a4d196\",\"#9f6d96\",\"#6ac796\",\"#496b96\",\"#553b96\",\"#395896\",\"#af5996\",\"#dc4796\",\"#ca5b96\",\"#888f96\",\"#823b96\",\"#7c6896\",\"#589696\",\"#78a896\",\"#93c796\",\"#775f96\",\"#827596\",\"#ba8b96\",\"#4d6996\",\"#73cc96\",\"#693596\",\"#e95596\",\"#624e96\",\"#979a96\",\"#878e96\",\"#966996\",\"#647096\",\"#afd596\",\"#db7f96\",\"#a6be96\",\"#565c96\",\"#de2896\",\"#53c796\",\"#388096\",\"#eb3496\",\"#80d896\",\"#70db96\",\"#904996\",\"#423d96\",\"#455d96\",\"#5d7796\",\"#a6ce96\",\"#4e5896\",\"#f52296\",\"#a86096\",\"#a28e96\",\"#c6a396\",\"#877496\",\"#97ac96\",\"#a14d96\",\"#56d696\",\"#eab296\",\"#4f3496\",\"#abc496\",\"#7e7e96\",\"#4a5e96\",\"#732196\",\"#9bca96\",\"#982c96\",\"#79ae96\",\"#40b596\",\"#c48896\",\"#955896\",\"#4e9e96\",\"#718196\",\"#868296\",\"#e64696\",\"#e04196\",\"#901e96\",\"#547196\",\"#e77396\",\"#a05696\",\"#f3bb96\",\"#7c2f96\",\"#bc3696\",\"#42c396\",\"#c17196\",\"#37d696\",\"#6fc496\",\"#cc5f96\",\"#c44396\",\"#654496\",\"#ac7196\",\"#ced996\",\"#60e496\",\"#3e8196\",\"#c75796\",\"#dca496\",\"#a05296\",\"#e59f96\",\"#755096\",\"#794d96\",\"#9dc396\",\"#743296\",\"#788896\",\"#489796\",\"#40ae96\",\"#ab2796\",\"#98dc96\",\"#6bd696\",\"#661e96\",\"#f78096\",\"#b69496\",\"#aa7a96\",\"#8eb596\",\"#b3d596\",\"#7e6696\",\"#c2a796\",\"#ae7896\",\"#b8a696\",\"#823596\",\"#626a96\",\"#6a5496\",\"#b2c696\",\"#915196\",\"#974b96\",\"#aa7496\",\"#bf3996\",\"#de6b96\",\"#3c7596\",\"#7a7596\",\"#369996\",\"#b98596\",\"#3dd096\",\"#4c9196\",\"#b0c296\",\"#53c196\",\"#56cb96\",\"#ec4696\",\"#d9d696\",\"#5c5596\",\"#a05b96\",\"#e3d196\",\"#8d2e96\",\"#8fb896\",\"#4bb696\",\"#8d9196\",\"#424596\",\"#906d96\",\"#db2296\",\"#f49e96\",\"#699b96\",\"#e76396\",\"#4ca296\",\"#dc7e96\",\"#ac7896\",\"#493096\",\"#70a896\",\"#398296\",\"#554596\",\"#a64396\",\"#86a196\",\"#cdb096\",\"#7a4196\",\"#bc3696\",\"#506196\",\"#b15e96\",\"#3a3b96\",\"#b13996\",\"#bc7896\",\"#b3d096\",\"#9c8396\",\"#d35c96\",\"#927496\",\"#3c8b96\",\"#c44196\",\"#c98d96\",\"#add896\",\"#b36396\",\"#8f4f96\",\"#646d96\",\"#523196\",\"#4a7496\",\"#f57996\",\"#bc5b96\",\"#922d96\",\"#4f7396\",\"#9e6896\",\"#753996\",\"#9c2496\",\"#4fe396\",\"#c2d096\",\"#9a5396\",\"#dc4d96\",\"#f55e96\",\"#b54d96\",\"#b6cc96\",\"#6b5796\",\"#dd3b96\",\"#4f2196\",\"#e0aa96\",\"#f39196\",\"#83ca96\",\"#7f2c96\",\"#583596\",\"#3c3f96\",\"#9eb196\",\"#455996\",\"#c66096\",\"#958496\",\"#6b9a96\",\"#904496\",\"#639596\",\"#942396\",\"#769e96\",\"#50cc96\",\"#733c96\",\"#e2e496\",\"#9b5496\",\"#339b96\",\"#cfb796\",\"#3c9096\",\"#942896\",\"#ef7f96\",\"#abc296\",\"#5baa96\",\"#b29c96\",\"#816696\",\"#ac4796\",\"#e42c96\",\"#f96b96\",\"#d65696\",\"#d14996\",\"#d67e96\",\"#ba6e96\",\"#495496\",\"#6fe196\",\"#864696\",\"#94c096\",\"#889996\",\"#b45e96\",\"#9c8b96\",\"#ce3996\",\"#324796\",\"#325096\",\"#92dc96\",\"#e18b96\",\"#f75896\",\"#656596\",\"#f78896\",\"#902196\",\"#3b3a96\",\"#ec6c96\",\"#986e96\",\"#42d596\",\"#469596\",\"#cf2296\",\"#e09396\",\"#32b496\",\"#e16596\",\"#b58c96\",\"#ee8a96\",\"#a32a96\",\"#842396\",\"#d2af96\",\"#45df96\",\"#b46096\",\"#406a96\",\"#4fa196\",\"#785a96\",\"#4dd596\",\"#a74b96\",\"#f2c496\",\"#854196\",\"#3d5896\",\"#7eda96\",\"#736f96\",\"#8ddb96\",\"#f49296\",\"#b0a396\",\"#5bb696\",\"#837a96\",\"#a9a996\",\"#f1b396\",\"#3d2096\",\"#f33696\",\"#a46096\",\"#b1df96\",\"#8f8b96\",\"#c22496\",\"#e98a96\",\"#f29496\",\"#784896\",\"#538c96\",\"#d28496\",\"#816996\",\"#48d196\",\"#7d7696\",\"#355896\",\"#e7e496\",\"#978396\",\"#b28596\",\"#6dd296\",\"#933196\",\"#a38596\",\"#a71e96\",\"#7fcf96\",\"#c2e296\",\"#f5d496\",\"#97d296\",\"#4e9f96\",\"#734b96\",\"#d63996\",\"#f9bc96\",\"#c3dc96\",\"#687796\",\"#dbdd96\",\"#37bc96\",\"#945d96\",\"#ed7e96\",\"#447396\",\"#a37596\",\"#c66d96\",\"#e97e96\",\"#404a96\",\"#bf7296\",\"#b83496\",\"#ead296\",\"#9e4b96\",\"#b02496\",\"#8a2e96\",\"#c5db96\",\"#bda196\",\"#46b096\",\"#ab3e96\",\"#8ecb96\",\"#697696\",\"#75dc96\",\"#b09c96\",\"#6a5496\",\"#697896\",\"#369396\",\"#71a896\",\"#35d896\",\"#529596\",\"#4ca296\",\"#ef4c96\",\"#b37a96\",\"#e6d496\",\"#c6b596\",\"#f59396\",\"#f84d96\",\"#562796\",\"#b65d96\",\"#453396\",\"#b1dc96\",\"#3ada96\",\"#f85896\",\"#438796\",\"#7f6096\",\"#86d596\",\"#dd3996\",\"#ac2596\",\"#664096\",\"#9eb896\",\"#9b1f96\",\"#ee2596\",\"#a86e96\",\"#ce6596\",\"#c43296\",\"#f68c96\",\"#f2d896\",\"#ee8696\",\"#7e7b96\",\"#8e4396\",\"#773b96\",\"#93c396\",\"#c1a896\",\"#c28296\",\"#613896\",\"#b78f96\",\"#996796\",\"#7e6c96\",\"#7a9a96\",\"#3dc296\",\"#a42496\",\"#eec396\",\"#b57496\",\"#96b296\",\"#f16f96\",\"#4f5b96\",\"#8db296\",\"#6dda96\",\"#9a8296\",\"#324a96\",\"#81c396\",\"#60ad96\",\"#44a796\",\"#a12596\",\"#c05a96\",\"#4e4c96\",\"#c9c496\",\"#f44296\",\"#733396\",\"#ae3296\",\"#742496\",\"#695196\",\"#acd896\",\"#a25396\",\"#f68796\",\"#f57196\",\"#ad5396\",\"#462296\",\"#7c4096\",\"#97d196\",\"#d0bc96\",\"#eebe96\",\"#506f96\",\"#458e96\",\"#897a96\",\"#b72796\",\"#f56f96\",\"#96da96\",\"#4fbe96\",\"#748796\",\"#b38e96\",\"#a38096\",\"#7b5f96\",\"#c66296\",\"#b1df96\",\"#7ed996\",\"#4d3d96\",\"#8bd096\",\"#66a696\",\"#a07296\",\"#f2a396\",\"#c36c96\",\"#767096\",\"#859296\",\"#5ada96\",\"#ec2f96\",\"#7f5b96\",\"#ee4e96\",\"#a86696\",\"#a0b096\",\"#aa3896\",\"#b6a396\",\"#dd3d96\",\"#632396\",\"#aba496\",\"#9d7096\",\"#f49b96\",\"#baad96\",\"#84da96\",\"#756a96\",\"#98da96\",\"#6b5696\",\"#722b96\",\"#729696\",\"#a38e96\",\"#8f7896\",\"#f48096\",\"#4ad596\",\"#4acd96\",\"#785a96\",\"#521f96\",\"#565b96\",\"#af5c96\",\"#74bb96\",\"#ae6c96\",\"#817196\",\"#724096\",\"#5ba396\",\"#948196\",\"#843296\",\"#756696\",\"#f65296\",\"#f22596\",\"#6b7996\",\"#bb4196\",\"#b26296\",\"#385e96\",\"#d6e496\",\"#c14596\",\"#b84c96\",\"#bd4396\",\"#5bd496\",\"#642196\",\"#4d3896\",\"#38d296\",\"#714796\",\"#8f4896\",\"#f8ca96\",\"#a5c196\",\"#aa6296\",\"#af5a96\",\"#af6a96\",\"#edbf96\",\"#934296\",\"#e33696\",\"#f36696\",\"#888f96\",\"#645296\",\"#8e7996\",\"#ba4896\",\"#c36696\",\"#be2696\",\"#64c796\",\"#40ce96\",\"#36b096\",\"#567496\",\"#6e2b96\",\"#576796\",\"#f54796\",\"#523f96\",\"#7a4896\",\"#348596\",\"#ed9096\",\"#59ce96\",\"#db4496\",\"#7fbe96\",\"#ad7a96\",\"#539b96\",\"#382796\",\"#6d9296\",\"#4a8e96\",\"#7fe596\",\"#b18596\",\"#c46896\",\"#612f96\",\"#dc5496\",\"#359a96\",\"#3a6796\",\"#ef7196\",\"#b52296\",\"#e45096\",\"#cac696\",\"#cbc696\",\"#8e9e96\",\"#752a96\",\"#69d996\",\"#749896\",\"#f3cf96\",\"#a65296\",\"#a94f96\",\"#517196\",\"#a52496\",\"#e52c96\",\"#848c96\",\"#ad5596\",\"#b08796\",\"#8fe196\",\"#952196\",\"#799296\",\"#4c3796\",\"#606996\",\"#d97296\",\"#ad3296\",\"#c13b96\",\"#f96796\",\"#b5b396\",\"#63d496\",\"#825f96\",\"#e26696\",\"#54ca96\",\"#3e3f96\",\"#e28b96\",\"#74b296\",\"#563496\",\"#f36b96\",\"#b14896\",\"#d2bd96\",\"#575296\",\"#54c396\",\"#c65c96\",\"#b1bb96\",\"#61df96\",\"#975996\",\"#cd6896\",\"#8fd796\",\"#69e496\",\"#475196\",\"#3fe596\",\"#4cd096\",\"#476096\",\"#652e96\",\"#3d2696\",\"#75bf96\",\"#ddbb96\",\"#33a696\",\"#d0db96\",\"#d3cc96\",\"#b59c96\",\"#3a8796\",\"#ce2596\",\"#53a996\",\"#aca796\",\"#6baf96\",\"#b03096\",\"#895f96\",\"#cb2996\",\"#e72496\",\"#b67596\",\"#f27096\",\"#edb896\",\"#e3e096\",\"#454296\",\"#df5096\",\"#e74596\",\"#4c6b96\",\"#eb7c96\",\"#478296\",\"#905096\",\"#ecac96\",\"#77af96\",\"#3f2d96\",\"#959996\",\"#6ed596\",\"#a08296\",\"#4ae496\",\"#aa4796\",\"#945696\",\"#e92796\",\"#a64c96\",\"#6f5996\",\"#818096\",\"#d87b96\",\"#447f96\",\"#777196\",\"#90ab96\",\"#eec696\",\"#acd696\",\"#c7c396\",\"#f9e396\",\"#e04796\",\"#844396\",\"#e34596\",\"#b5d696\",\"#e54996\",\"#47b596\",\"#f5d096\",\"#f89396\",\"#78c896\",\"#3b5296\",\"#5b9a96\",\"#c0c996\",\"#744796\",\"#394196\",\"#beb396\",\"#a86296\",\"#986996\",\"#45ba96\",\"#87d496\",\"#6b3696\",\"#e2ba96\",\"#677696\",\"#b7ad96\",\"#55ce96\",\"#329196\",\"#d18e96\",\"#4d8f96\",\"#b9a396\",\"#9a6896\",\"#f46096\",\"#3b5996\",\"#df5296\",\"#b41f96\",\"#a34496\",\"#3c3296\",\"#3b9e96\",\"#6f9496\",\"#8f4296\",\"#e64196\",\"#714596\",\"#e1a796\",\"#e03496\",\"#71a696\",\"#ae2e96\",\"#738396\",\"#878796\",\"#57b296\",\"#a54a96\",\"#97d996\",\"#601e96\",\"#c4cb96\",\"#db5d96\",\"#96e496\",\"#a5c296\",\"#3ac996\",\"#b5aa96\",\"#c98996\",\"#c7c996\",\"#ea7196\",\"#3a2a96\",\"#4c2196\",\"#78a696\",\"#df2b96\",\"#817096\",\"#da3696\",\"#7b3696\",\"#656b96\",\"#c0b396\",\"#457896\",\"#8fab96\",\"#ef8e96\",\"#7ed996\",\"#d5e196\",\"#934596\",\"#f33396\",\"#398f96\",\"#515b96\",\"#6a3496\",\"#f07d96\",\"#5f8696\",\"#4ddd96\",\"#d8be96\",\"#3e8796\",\"#cb4696\",\"#e1cb96\",\"#b0b196\",\"#a66d96\",\"#698e96\",\"#5f8b96\",\"#77ac96\",\"#bc2f96\",\"#da2a96\",\"#69d696\",\"#a93796\",\"#389196\",\"#47c696\",\"#abd696\",\"#a29196\",\"#61d396\",\"#9a3596\",\"#50db96\",\"#e23896\",\"#e6c196\",\"#49a396\",\"#55bf96\",\"#bb5296\",\"#892d96\",\"#e6b496\",\"#e18d96\",\"#56a996\",\"#76a896\",\"#765096\",\"#7cb896\",\"#e76e96\",\"#a1c396\",\"#abdb96\",\"#3abf96\",\"#b55096\",\"#ce4f96\",\"#c55096\",\"#788096\",\"#3a3a96\",\"#c6d696\",\"#82db96\",\"#c5c296\",\"#747196\",\"#c2c596\",\"#8a4896\",\"#e6af96\",\"#d5aa96\",\"#63ba96\",\"#638396\",\"#ae9996\",\"#e83996\",\"#6f3896\",\"#9d9996\",\"#442b96\",\"#487f96\",\"#d0aa96\",\"#4f5f96\",\"#435e96\",\"#5d7e96\",\"#79c296\",\"#b55e96\",\"#5ada96\",\"#396296\",\"#b8c996\",\"#45c196\",\"#e44696\",\"#8bdd96\",\"#e0c796\",\"#d7ac96\",\"#c8a296\",\"#c88896\",\"#5a6396\",\"#403a96\",\"#5b9c96\",\"#b8ae96\",\"#7c7096\",\"#68a296\",\"#878296\",\"#85d996\",\"#aa8596\",\"#755796\",\"#e6af96\",\"#959796\",\"#43cc96\",\"#a2d496\",\"#6be296\",\"#ccd796\",\"#e69d96\",\"#c3d196\",\"#6f3096\",\"#4b9e96\",\"#cf9e96\",\"#807c96\",\"#495796\",\"#3aba96\",\"#e43096\",\"#32a696\",\"#f6e096\",\"#57b996\",\"#f45596\",\"#9dcf96\",\"#509196\",\"#ed8e96\",\"#629d96\",\"#87a596\",\"#c43896\",\"#6c7696\",\"#499196\",\"#f23896\",\"#d2b596\",\"#d92396\",\"#a52b96\",\"#c47396\",\"#5a4996\",\"#553b96\",\"#bb8796\",\"#41c696\",\"#35e296\",\"#dc2d96\",\"#e8e596\",\"#76a596\",\"#ae3796\",\"#823d96\",\"#99b296\",\"#608d96\",\"#5a3796\",\"#89e396\",\"#b7a996\",\"#b44b96\",\"#927196\",\"#936e96\",\"#40b296\",\"#459896\",\"#d06096\",\"#d8a396\",\"#57a796\",\"#d4d396\",\"#a78696\",\"#785696\",\"#908596\",\"#d28996\",\"#dfbd96\",\"#c25296\",\"#7bd696\",\"#8fa496\",\"#e98596\",\"#766996\",\"#a2b496\",\"#c7a596\",\"#73a696\",\"#5fe096\",\"#6f8696\",\"#582d96\",\"#924f96\",\"#714696\",\"#b42396\",\"#ecd096\",\"#337596\",\"#b84e96\",\"#829796\",\"#698296\",\"#d26e96\",\"#576096\",\"#cf6e96\",\"#c1d396\",\"#8e5596\",\"#e38696\",\"#5f7f96\",\"#9e4796\",\"#829896\",\"#6d3696\",\"#686196\",\"#f04196\",\"#d08496\",\"#646e96\",\"#396196\",\"#a87a96\",\"#dcc796\",\"#9bc496\",\"#496596\",\"#459196\",\"#8d4796\",\"#7a6296\",\"#cc8d96\",\"#692096\",\"#686096\",\"#d1c496\",\"#6b8096\",\"#7db096\",\"#f9c296\",\"#3c4096\",\"#9eaa96\",\"#5e2796\",\"#8e3c96\",\"#d8d396\",\"#96b396\",\"#58d596\",\"#79ca96\",\"#963b96\",\"#97bf96\",\"#bba896\",\"#937396\",\"#8a7d96\",\"#50c696\",\"#6bb596\",\"#8ce196\",\"#b28096\",\"#457696\",\"#46b296\",\"#5e1e96\",\"#721f96\",\"#755896\",\"#b97096\",\"#ee6296\",\"#d3e396\",\"#b13896\",\"#c57e96\",\"#b96696\",\"#776896\",\"#c69496\",\"#4ce296\",\"#b13096\",\"#9e9096\",\"#7aa496\",\"#e04196\",\"#5c3b96\",\"#931e96\",\"#464796\",\"#d7a496\",\"#d8dc96\",\"#43b796\",\"#8b7296\",\"#5f4896\",\"#eccf96\",\"#542f96\",\"#67d696\",\"#95e096\",\"#e43296\",\"#e6e096\",\"#5a2f96\",\"#b1e096\",\"#385896\",\"#6c9396\",\"#66a696\",\"#408d96\",\"#4d2e96\",\"#3be496\",\"#c18296\",\"#dd9a96\",\"#ad3096\",\"#e96196\",\"#93d596\",\"#856696\",\"#75b596\",\"#4f2f96\",\"#746296\",\"#a39596\",\"#ed6796\",\"#918896\",\"#c13b96\",\"#682896\",\"#5d9796\",\"#c16d96\",\"#aa8096\",\"#b1a196\",\"#d87d96\",\"#582096\",\"#944296\",\"#c4d596\",\"#5bc996\",\"#813f96\",\"#7bb596\",\"#4ad896\",\"#bbbc96\",\"#d36496\",\"#3a4796\",\"#36cf96\",\"#42c996\",\"#f8e496\",\"#37b496\",\"#7c2a96\",\"#9cd396\",\"#afae96\",\"#c17796\",\"#46c496\",\"#398396\",\"#433e96\",\"#c1cf96\",\"#4b6496\",\"#89a396\",\"#d18196\",\"#f84c96\",\"#574996\",\"#4e2d96\",\"#cc2e96\",\"#ec2096\",\"#4fd996\",\"#b82e96\",\"#c72796\",\"#6f9a96\",\"#b9a796\",\"#83bf96\",\"#ac3696\",\"#8f6296\",\"#cc2c96\",\"#f9d996\",\"#357796\",\"#b5cc96\",\"#cd4a96\",\"#b88e96\",\"#f57896\",\"#eacc96\",\"#a25796\",\"#583296\",\"#6c4096\",\"#aaba96\",\"#d33296\",\"#719e96\",\"#762296\",\"#903296\",\"#e4da96\",\"#979296\",\"#cc7a96\",\"#ac6096\",\"#b17a96\",\"#dc6a96\",\"#e35a96\",\"#3a8b96\",\"#685596\",\"#9fbb96\",\"#992496\",\"#f55196\",\"#73a696\",\"#879696\",\"#7a6d96\",\"#b81f96\",\"#a85396\",\"#be7b96\",\"#416896\",\"#879b96\",\"#6e3a96\",\"#dadf96\",\"#da6896\",\"#439196\",\"#90dc96\",\"#e4ad96\",\"#edc296\",\"#c5df96\",\"#afa596\",\"#98a796\",\"#6b6b96\",\"#4e6396\",\"#f02096\",\"#87a696\",\"#dc9d96\",\"#52db96\",\"#f88796\",\"#4fa496\",\"#c15d96\",\"#796196\",\"#e9b696\",\"#704b96\",\"#4b2896\",\"#7bd996\",\"#f02e96\",\"#bf7196\",\"#e03596\",\"#83df96\",\"#f3a996\",\"#4cc796\",\"#338a96\",\"#ab3596\",\"#645196\",\"#91ad96\",\"#e9c896\",\"#6c3396\",\"#5b2b96\",\"#442c96\",\"#4ccb96\",\"#adc196\",\"#778996\",\"#895a96\",\"#57be96\",\"#e84c96\",\"#434696\",\"#977396\",\"#bdda96\",\"#e94096\",\"#67cf96\",\"#7b8e96\",\"#f06296\",\"#aae296\",\"#c8ac96\",\"#7c9996\",\"#c0b196\",\"#458396\",\"#733096\",\"#e39696\",\"#ccc996\",\"#afda96\",\"#693a96\",\"#778f96\",\"#96b096\",\"#adb796\",\"#3e7196\",\"#df3c96\",\"#816696\",\"#6f6296\",\"#493396\",\"#d05d96\",\"#d23196\",\"#80de96\",\"#50d596\",\"#73b696\",\"#80d296\",\"#637296\",\"#806696\",\"#6c7096\",\"#9c7896\",\"#dea196\",\"#5b5696\",\"#75b896\",\"#5cac96\",\"#c42596\",\"#f9c796\",\"#34ce96\",\"#4fc096\",\"#e17296\",\"#5a4b96\",\"#f83996\",\"#568e96\",\"#d55496\",\"#4f5a96\",\"#98ab96\",\"#d76c96\",\"#ba8396\",\"#3ea296\",\"#d14a96\",\"#53ce96\",\"#b62796\",\"#f26696\",\"#eb9396\",\"#b6d096\",\"#9eca96\",\"#913f96\",\"#a76596\",\"#578b96\",\"#4b7496\",\"#d1bc96\",\"#b66596\",\"#55d796\",\"#673496\",\"#bb8896\",\"#986b96\",\"#5cd396\",\"#a57c96\",\"#d93696\",\"#d8a596\",\"#49b196\",\"#866b96\",\"#c37396\",\"#736396\",\"#c72696\",\"#49b396\",\"#7dae96\",\"#bee096\",\"#562d96\",\"#844f96\",\"#807e96\",\"#a2cb96\",\"#b07896\",\"#a5c196\",\"#52a296\",\"#57a796\",\"#8e2996\",\"#5e8096\",\"#e58096\",\"#9d6796\",\"#b73596\",\"#b76996\",\"#d4b396\",\"#3db996\",\"#5b7896\",\"#9c8796\",\"#beac96\",\"#846096\",\"#f38b96\",\"#dab896\",\"#404396\",\"#3cb096\",\"#41c396\",\"#9fd396\",\"#d9d396\",\"#e0d196\",\"#7f8696\",\"#943b96\",\"#e04c96\",\"#68c996\",\"#badf96\",\"#88d896\",\"#9cac96\",\"#e74d96\",\"#686496\",\"#587d96\",\"#95e496\",\"#ea3096\",\"#ee8696\",\"#af4096\",\"#764896\",\"#814296\",\"#337796\",\"#626096\",\"#dd6796\",\"#c67196\",\"#bf7a96\",\"#369296\",\"#457896\",\"#dddf96\",\"#48d296\",\"#d79e96\",\"#e82096\",\"#6d7a96\",\"#4e7396\",\"#939d96\",\"#602496\",\"#41a696\",\"#f09396\",\"#98cc96\",\"#492b96\",\"#dfb696\",\"#692c96\",\"#731f96\",\"#b73596\",\"#d65b96\",\"#b56996\",\"#62c696\",\"#af6b96\",\"#4f4396\",\"#624896\",\"#856e96\",\"#ba9a96\",\"#81a296\",\"#77b696\",\"#35ba96\",\"#645396\",\"#8b7c96\",\"#72e296\",\"#77b296\",\"#6d7196\",\"#7db696\",\"#e72196\",\"#3f4f96\",\"#ae3396\",\"#dbc696\",\"#4e2896\",\"#7a6e96\",\"#f32996\",\"#993f96\",\"#ada496\",\"#46d596\",\"#65bc96\",\"#40bc96\",\"#869e96\",\"#e49f96\",\"#e93796\",\"#7b7a96\",\"#719696\",\"#876896\",\"#5fcd96\",\"#744296\",\"#d37196\",\"#728196\",\"#6f9596\",\"#b22396\",\"#748a96\",\"#e13596\",\"#f93796\",\"#eb6f96\",\"#763296\",\"#ce7096\",\"#40df96\",\"#ac4e96\",\"#352896\",\"#5a8d96\",\"#542896\",\"#dd9b96\",\"#d25996\",\"#e92e96\",\"#d43a96\",\"#e44196\",\"#6ee096\",\"#dc5f96\",\"#82e196\",\"#e05b96\",\"#69d296\",\"#7bb396\",\"#d5c296\",\"#b99b96\",\"#7b8796\",\"#de7e96\",\"#854496\",\"#bad696\",\"#7c3396\",\"#a56b96\",\"#66a096\",\"#c22796\",\"#f99e96\",\"#6b9096\",\"#8c6596\",\"#f5b396\",\"#5a5196\",\"#4d3796\",\"#ae6b96\",\"#c5dd96\",\"#b94996\",\"#d2d696\",\"#88bd96\",\"#abcf96\",\"#4b1f96\",\"#df4d96\",\"#6ecc96\",\"#c77e96\",\"#3cd096\",\"#962696\",\"#e5d196\",\"#95ac96\",\"#457296\",\"#37d796\",\"#874896\",\"#e25e96\",\"#556b96\",\"#4c2996\",\"#ae5f96\",\"#c53f96\",\"#ed5396\",\"#8d2496\",\"#aa4096\",\"#79bc96\",\"#757596\",\"#552b96\",\"#64c096\",\"#853096\",\"#446396\",\"#d3ca96\",\"#cee196\",\"#9a7096\",\"#a09a96\",\"#f49d96\",\"#6a5496\",\"#d9b096\",\"#847896\",\"#44ca96\",\"#e56796\",\"#a08996\",\"#d3b796\",\"#a55e96\",\"#4bc396\",\"#b2ab96\",\"#69b196\",\"#537996\",\"#90d896\",\"#ec9196\",\"#692496\",\"#8f6696\",\"#64c196\",\"#f4a196\",\"#918d96\",\"#93ad96\",\"#926d96\",\"#b4bc96\",\"#d72a96\",\"#dc5096\",\"#b9de96\",\"#754a96\",\"#d9ca96\",\"#f1d796\",\"#7aac96\",\"#3f8d96\",\"#8a8596\",\"#a42b96\",\"#f07596\",\"#59b096\",\"#745396\",\"#a83f96\",\"#553c96\",\"#4f4896\",\"#b29d96\",\"#939296\",\"#3c4096\",\"#629596\",\"#332796\",\"#3e2196\",\"#77e396\",\"#3f8796\",\"#a6d196\",\"#8c6796\",\"#a24896\",\"#cdc596\",\"#8c8c96\",\"#608d96\",\"#385596\",\"#d83496\",\"#dd6b96\",\"#4e7e96\",\"#c6b396\",\"#65bd96\",\"#cca396\",\"#5ac896\",\"#ebc496\",\"#d67a96\",\"#d0de96\",\"#eb6f96\",\"#c1d196\",\"#995696\",\"#926296\",\"#422396\",\"#ae5e96\",\"#da4296\",\"#769496\",\"#986c96\",\"#9eca96\",\"#516396\",\"#32dc96\",\"#46e596\",\"#84c596\",\"#c53696\",\"#e7c396\",\"#cfbc96\",\"#b8dd96\",\"#6d6396\",\"#9a7a96\",\"#f6e296\",\"#905c96\",\"#f75496\",\"#d66b96\",\"#dfe196\",\"#b46996\",\"#346f96\",\"#71e596\",\"#796896\",\"#b03e96\",\"#6a7096\",\"#e98296\",\"#758396\",\"#b55296\",\"#cf5496\",\"#8adf96\",\"#58b296\",\"#e9c096\",\"#b72096\",\"#ccb596\",\"#624396\",\"#d64696\",\"#7bb396\",\"#de2f96\",\"#e56b96\",\"#aa4596\",\"#b09a96\",\"#a7a796\",\"#d3b096\",\"#373c96\",\"#b39596\",\"#ccb196\",\"#6c7d96\",\"#8fcd96\",\"#c27a96\",\"#726a96\",\"#6ac696\",\"#99b896\",\"#6c6b96\",\"#943296\",\"#d27996\",\"#724f96\",\"#4e5896\",\"#9d8096\",\"#dc9896\",\"#b13196\",\"#746896\",\"#425196\",\"#e93c96\",\"#b88396\",\"#d26a96\",\"#ce5c96\",\"#7bc596\",\"#524696\",\"#a13b96\",\"#88ba96\",\"#eb4696\",\"#79de96\",\"#f74196\",\"#508f96\",\"#719796\",\"#5f3296\",\"#e9c696\",\"#c4c396\",\"#906696\",\"#97d796\",\"#9f3896\",\"#ba2496\",\"#e32296\",\"#4e3796\",\"#657f96\",\"#a93c96\",\"#e68196\",\"#c4bf96\",\"#3d4696\",\"#e59396\",\"#614096\",\"#628796\",\"#94b996\",\"#d55496\",\"#623596\",\"#90d996\",\"#ba3196\",\"#946296\",\"#9d7796\",\"#38dc96\",\"#5db496\",\"#978096\",\"#87d796\",\"#3fda96\",\"#559c96\",\"#b24e96\",\"#d4df96\",\"#c1d096\",\"#b06596\",\"#c57096\",\"#786896\",\"#b73596\",\"#ccdc96\",\"#bfd096\",\"#561e96\",\"#c8be96\",\"#f93596\",\"#8f5f96\",\"#b98b96\",\"#b29f96\",\"#d36c96\",\"#67ba96\",\"#8a4096\",\"#38da96\",\"#baba96\",\"#82ce96\",\"#34c996\",\"#e22496\",\"#a5a996\",\"#6b9d96\",\"#e66296\",\"#6a3896\",\"#746e96\",\"#41c296\",\"#b7df96\",\"#6cb296\",\"#35a396\",\"#da6296\",\"#a96096\",\"#ec7296\",\"#a3d096\",\"#6c4796\",\"#c03d96\",\"#772f96\",\"#c87096\",\"#d88f96\",\"#b6a196\",\"#f1d896\",\"#d8a896\",\"#4e3996\",\"#d24996\",\"#6d6b96\",\"#ac5b96\",\"#b49396\",\"#bbe296\",\"#f86796\",\"#54e396\",\"#7c4596\",\"#f0d096\",\"#376096\",\"#75ab96\",\"#49ac96\",\"#83d896\",\"#6edf96\",\"#bedf96\",\"#bc5996\",\"#ec2196\",\"#7ce296\",\"#c53a96\",\"#ab6896\",\"#3dcf96\",\"#48cc96\",\"#74dd96\",\"#a98596\",\"#7bce96\",\"#3eb996\",\"#a48096\",\"#c52796\",\"#afd896\",\"#6b8e96\",\"#4adf96\",\"#c4d696\",\"#c98396\",\"#6a8496\",\"#ca6596\",\"#ce5596\",\"#bc5b96\",\"#442496\",\"#6a8296\",\"#876f96\",\"#375a96\",\"#859496\",\"#df8a96\",\"#5c2096\",\"#6b4c96\",\"#655596\",\"#c2bc96\",\"#56ba96\",\"#596c96\",\"#4c5996\",\"#564296\",\"#77aa96\",\"#388096\",\"#c02796\",\"#a4e296\",\"#588596\",\"#a15396\",\"#718996\",\"#455896\",\"#ba9c96\",\"#73c096\",\"#9fa496\",\"#bd2096\",\"#343f96\",\"#93b196\",\"#a08696\",\"#8e2096\",\"#b73d96\",\"#373696\",\"#ab6796\",\"#3b2496\",\"#69c796\",\"#559896\",\"#e78e96\",\"#b17e96\",\"#a94e96\",\"#f98a96\",\"#4eaa96\",\"#e0b996\",\"#5b6d96\",\"#a9ae96\",\"#d8b496\",\"#3e5d96\",\"#b07d96\",\"#a06b96\",\"#e39496\",\"#a87596\",\"#e59696\",\"#49a096\",\"#936096\",\"#a7d696\",\"#bec996\",\"#a29696\",\"#f5bf96\",\"#46a896\",\"#687a96\",\"#a66c96\",\"#ba7c96\",\"#377996\",\"#85c596\",\"#643c96\",\"#332596\",\"#d25b96\",\"#6cc696\",\"#572a96\",\"#f9dd96\",\"#bca796\",\"#af9296\",\"#6ed696\",\"#e17896\",\"#6b2196\",\"#a95996\",\"#ebc396\",\"#c29d96\",\"#f24496\",\"#cd5a96\",\"#399696\",\"#3adf96\",\"#de9396\",\"#9e4c96\",\"#545f96\",\"#848196\",\"#96d696\",\"#99e196\",\"#aaaa96\",\"#5ca096\",\"#416996\",\"#b7a096\",\"#4bb496\",\"#eb3296\",\"#543696\",\"#7ec996\",\"#c0e396\",\"#734f96\",\"#aaaf96\",\"#b6c596\",\"#e5db96\",\"#8ac296\",\"#aa9096\",\"#43b996\",\"#c26896\",\"#cdd796\",\"#60d796\",\"#977c96\",\"#d98396\",\"#95a696\",\"#767a96\",\"#9ca296\",\"#e79196\",\"#e75f96\",\"#9e5196\",\"#f8de96\",\"#54a496\",\"#f86396\",\"#f3cb96\",\"#d07596\",\"#e12396\",\"#e2cf96\",\"#ae6196\",\"#a97d96\",\"#6e5396\",\"#d39996\",\"#565896\",\"#519896\",\"#52d396\",\"#468296\",\"#509996\",\"#c27496\",\"#c46d96\",\"#c45796\",\"#bad396\",\"#88e596\",\"#7a5f96\",\"#bf6a96\",\"#85d196\",\"#97a896\",\"#b1c396\",\"#a0a496\",\"#8f3b96\",\"#c39896\",\"#504f96\",\"#b28196\",\"#c92896\",\"#b52796\",\"#5ddd96\",\"#de2796\",\"#653096\",\"#f75296\",\"#584696\",\"#96e396\",\"#b52396\",\"#d49c96\",\"#d65996\",\"#59ab96\",\"#f65b96\",\"#aad196\",\"#7f6d96\",\"#d92296\",\"#3d6496\",\"#ce2e96\",\"#c5d896\",\"#819596\",\"#509a96\",\"#568896\",\"#ba7d96\",\"#f33896\",\"#c03696\",\"#d45696\",\"#984596\",\"#44b496\",\"#dfc996\",\"#714f96\",\"#7c6696\",\"#b4ae96\",\"#ab5996\",\"#574696\",\"#c4a696\",\"#378a96\",\"#964696\",\"#c86796\",\"#679896\",\"#323396\",\"#e4a296\",\"#81df96\",\"#acdd96\",\"#959196\",\"#a82a96\",\"#d5b596\",\"#40b896\",\"#8ae096\",\"#85cd96\",\"#3f5e96\",\"#bb4396\",\"#421e96\",\"#77e396\",\"#62c596\",\"#d49c96\",\"#d46596\",\"#646696\",\"#aa5596\",\"#d8e496\",\"#a75496\",\"#3ea296\",\"#78db96\",\"#addf96\",\"#a7b896\",\"#58d996\",\"#e14896\",\"#522796\",\"#aa6696\",\"#cec496\",\"#68bd96\",\"#3be496\",\"#562e96\",\"#8e9096\",\"#8a5d96\",\"#5e9996\",\"#8d4c96\",\"#8abb96\",\"#c87896\",\"#3e7196\",\"#e62b96\",\"#c69296\",\"#568996\",\"#485696\",\"#57cb96\",\"#d94696\",\"#e0a396\",\"#d45e96\",\"#c16896\",\"#8c5296\",\"#917d96\",\"#ca2b96\",\"#de6096\",\"#c08796\",\"#c19e96\",\"#42ca96\",\"#86a596\",\"#c6d996\",\"#598a96\",\"#467496\",\"#802996\",\"#552396\",\"#55c796\",\"#373d96\",\"#9f5796\",\"#627796\",\"#aa2c96\",\"#633496\",\"#a93c96\",\"#76af96\",\"#87b696\",\"#744296\",\"#f05696\",\"#565996\",\"#98a396\",\"#bb4196\",\"#8a8896\",\"#6fc996\",\"#cf2096\",\"#a74c96\",\"#b38296\",\"#d28e96\",\"#66cb96\",\"#6c3796\",\"#f23896\",\"#a19e96\",\"#47a996\",\"#495196\",\"#b89c96\",\"#a26696\",\"#708d96\",\"#c5d796\",\"#922396\",\"#f0aa96\",\"#e45c96\",\"#5fb096\",\"#952496\",\"#5d3e96\",\"#3ab096\",\"#ee2096\",\"#c56496\",\"#a53b96\",\"#f04196\",\"#be3d96\",\"#771f96\",\"#d56696\",\"#434796\",\"#d67196\",\"#ccc296\",\"#8c6396\",\"#9edb96\",\"#744f96\",\"#51c496\",\"#cdc096\",\"#549796\",\"#4bdd96\",\"#a96a96\",\"#569196\",\"#427e96\",\"#759d96\",\"#816b96\",\"#82a496\",\"#c63696\",\"#568996\",\"#c34596\",\"#c5a096\",\"#847596\",\"#5fc496\",\"#388996\",\"#7c2a96\",\"#3cd296\",\"#3bce96\",\"#bae296\",\"#48b896\",\"#a4aa96\",\"#7a8196\",\"#7a7596\",\"#dd4596\",\"#f6d296\",\"#4b6696\",\"#dce396\",\"#d71f96\",\"#935796\",\"#85be96\",\"#dec496\",\"#ba6496\",\"#d13396\",\"#f8af96\",\"#a5b996\",\"#8d8696\",\"#8ccb96\",\"#b2cd96\",\"#b4c196\",\"#981f96\",\"#54b296\",\"#d5c996\",\"#e1bf96\",\"#47ca96\",\"#e3bf96\",\"#d69c96\",\"#d8be96\",\"#cc8496\",\"#f77b96\",\"#cc3996\",\"#7a7496\",\"#50e196\",\"#4bb796\",\"#4ce596\",\"#518096\",\"#f89c96\",\"#494496\",\"#ae6c96\",\"#c9a696\",\"#cc3c96\",\"#6a9396\",\"#4ed096\",\"#d9bc96\",\"#8c3c96\",\"#a66096\",\"#e04496\",\"#b06996\",\"#a6a496\",\"#f94096\",\"#d2b696\",\"#f0c496\",\"#e67796\",\"#6a6e96\",\"#c52d96\",\"#5a8696\",\"#754b96\",\"#343d96\",\"#e89796\",\"#5de396\",\"#68d596\",\"#88dc96\",\"#942196\",\"#b3c196\",\"#465796\",\"#e9bb96\",\"#9b4e96\",\"#407196\",\"#5aa996\",\"#ee4e96\",\"#602596\",\"#e37c96\",\"#5e6a96\",\"#f83696\",\"#363096\",\"#762196\",\"#802a96\",\"#cdd596\",\"#b2d196\",\"#e42e96\",\"#74bd96\",\"#ef2496\",\"#564596\",\"#62c296\",\"#62cb96\",\"#d9d096\",\"#3a9596\",\"#7f8096\",\"#3ac496\",\"#f03996\",\"#a78096\",\"#e73996\",\"#dc9296\",\"#7ed396\",\"#ba8196\",\"#b5ac96\",\"#d9b796\",\"#a63c96\",\"#e42b96\",\"#dfe496\",\"#54c396\",\"#c6b896\",\"#b65c96\",\"#b26796\",\"#827a96\",\"#7d3796\",\"#bb7096\",\"#cac096\",\"#e8cf96\",\"#c05e96\",\"#5f6696\",\"#dbb496\",\"#c22f96\",\"#a04996\",\"#cb9196\",\"#b28496\",\"#757896\",\"#bc4a96\",\"#743496\",\"#857c96\",\"#6c5896\",\"#796c96\",\"#524096\",\"#ec5d96\",\"#5a3096\",\"#37b096\",\"#78d396\",\"#3ed996\",\"#8d7696\",\"#6cbe96\",\"#cda296\",\"#e3cf96\",\"#d1bb96\",\"#cc6f96\",\"#498396\",\"#e16096\",\"#725196\",\"#d98696\",\"#ef5996\",\"#ad3896\",\"#f93896\",\"#682e96\",\"#9d8e96\",\"#6f3796\",\"#c1c196\",\"#a24996\",\"#a13796\",\"#673196\",\"#e44b96\",\"#bfb396\",\"#3d8296\",\"#73d396\",\"#448e96\",\"#5f8a96\",\"#898096\",\"#f34d96\",\"#32d596\",\"#9e2296\",\"#604596\",\"#a31f96\",\"#605596\",\"#702796\",\"#9bba96\",\"#77d996\",\"#cad896\",\"#4e5596\",\"#847596\",\"#c4c496\",\"#a36296\",\"#513b96\",\"#69da96\",\"#448696\",\"#70a596\",\"#56b896\",\"#36bd96\",\"#d06896\",\"#874396\",\"#3e8596\",\"#a3a096\",\"#6d8f96\",\"#8b9496\",\"#c36396\",\"#79c596\",\"#632f96\",\"#372896\",\"#bb6d96\",\"#937d96\",\"#c16e96\",\"#a4e296\",\"#b83a96\",\"#b98196\",\"#9d3796\",\"#862996\",\"#c37696\",\"#892996\",\"#dae096\",\"#5a3d96\",\"#328296\",\"#a46896\",\"#87bc96\",\"#55b996\",\"#809096\",\"#ed3b96\",\"#8a6a96\",\"#842196\",\"#e92696\",\"#f18796\",\"#ac3396\",\"#73ab96\",\"#94a696\",\"#602396\",\"#f97796\",\"#c0d996\",\"#d1d896\",\"#747e96\",\"#b9c696\",\"#7ebd96\",\"#d07096\",\"#a4c396\",\"#d7c596\",\"#623896\",\"#622896\",\"#772296\",\"#55cc96\",\"#993796\",\"#731e96\",\"#99d896\",\"#9e6e96\",\"#bd4396\",\"#815196\",\"#3f7896\",\"#85d396\",\"#6f7996\",\"#ad8b96\",\"#c66996\",\"#6c4396\",\"#98a696\",\"#b17a96\",\"#dc6d96\",\"#5faf96\",\"#438e96\",\"#e55996\",\"#b9d996\",\"#f2b696\",\"#c56f96\",\"#4f9796\",\"#df3c96\",\"#624d96\",\"#6a3f96\",\"#4f6296\",\"#b29f96\",\"#dc5196\",\"#5a3796\",\"#5e5e96\",\"#5d8596\",\"#edc496\",\"#c15a96\",\"#708b96\",\"#33d796\",\"#bdae96\",\"#d07996\",\"#97e096\",\"#34d096\",\"#e95a96\",\"#dfc396\",\"#becf96\",\"#4f9896\",\"#a82996\",\"#397396\",\"#d26696\",\"#7ed896\",\"#bed796\",\"#663996\",\"#8bb396\",\"#bfa696\",\"#60cc96\",\"#d9dd96\",\"#91d696\",\"#6e5996\",\"#492c96\",\"#3d8b96\",\"#3f5a96\",\"#ce6296\",\"#f88396\",\"#53c096\",\"#f58896\",\"#4c2b96\",\"#6c3996\",\"#976596\",\"#874e96\",\"#ddb296\",\"#5eab96\",\"#93cc96\",\"#bb2e96\",\"#61a896\",\"#3e8096\",\"#b3ae96\",\"#71d896\",\"#46af96\",\"#8e8f96\",\"#6c7c96\",\"#a75296\",\"#9e6a96\",\"#bb2096\",\"#3cd796\",\"#cb4d96\",\"#7e2896\",\"#f24996\",\"#6e3d96\",\"#c97296\",\"#f24896\",\"#399496\",\"#569a96\",\"#d44796\",\"#707a96\",\"#438e96\",\"#767696\",\"#d9c396\",\"#885196\",\"#3cba96\",\"#ac4d96\",\"#52d896\",\"#c84996\",\"#362996\",\"#529f96\",\"#cea096\",\"#dba596\",\"#da4496\",\"#ec4296\",\"#93d396\",\"#a57796\",\"#dddf96\",\"#436496\",\"#cbe096\",\"#dfc096\",\"#9c3596\",\"#aabd96\",\"#eba496\",\"#878d96\",\"#4a3d96\",\"#989796\",\"#753d96\",\"#e4dc96\",\"#687596\",\"#69b496\",\"#743c96\",\"#d24296\",\"#da5596\",\"#a6b996\",\"#f75c96\",\"#5f5396\",\"#3b2396\",\"#4f3296\",\"#cdd896\",\"#f84996\",\"#e1a896\",\"#93d296\",\"#5f6796\",\"#c56b96\",\"#c3d596\",\"#7b3396\",\"#3e2996\",\"#c48f96\",\"#b89e96\",\"#477196\",\"#609396\",\"#634496\",\"#d9a996\",\"#8b2c96\",\"#8a6296\",\"#cdb096\",\"#c54e96\",\"#d5dc96\",\"#cb7996\",\"#7b7e96\",\"#49af96\",\"#429696\",\"#ccc996\",\"#355c96\",\"#b54696\",\"#a6cc96\",\"#6a3596\",\"#518696\",\"#498196\",\"#822496\",\"#732896\",\"#64c096\",\"#c75196\",\"#b42996\",\"#a82696\",\"#b76496\",\"#759796\",\"#874296\",\"#757f96\",\"#edbb96\",\"#ceda96\",\"#dcd396\",\"#409396\",\"#7ec796\",\"#f84196\",\"#c09896\",\"#6bad96\",\"#869296\",\"#d83e96\",\"#957d96\",\"#484a96\",\"#823696\",\"#cd2496\",\"#37d996\",\"#c9bf96\",\"#905196\",\"#3da896\",\"#93b296\",\"#478596\",\"#43b496\",\"#4eb496\",\"#702796\",\"#96b196\",\"#d76796\",\"#886096\",\"#75ac96\",\"#7f6f96\",\"#93d096\",\"#f19b96\",\"#afd596\",\"#672d96\",\"#e82596\",\"#85af96\",\"#cd7c96\",\"#75c396\",\"#beaf96\",\"#f34996\",\"#7ea896\",\"#b52b96\",\"#d66996\",\"#856096\",\"#5edb96\",\"#5e3d96\",\"#4cc496\",\"#ce6796\",\"#eea296\",\"#3f9d96\",\"#df9f96\",\"#c5c796\",\"#965296\",\"#5cc596\",\"#5b5b96\",\"#8ead96\",\"#e9bc96\",\"#f71e96\",\"#36db96\",\"#7e4296\",\"#9d2696\",\"#4e8b96\",\"#616096\",\"#764b96\",\"#c85196\",\"#c4bb96\",\"#db6796\",\"#888b96\",\"#3a2196\",\"#6a2a96\",\"#589e96\",\"#4c9c96\",\"#ae3096\",\"#51b396\",\"#608296\",\"#ec4396\",\"#b4b496\",\"#c64696\",\"#cf7896\",\"#7b3196\",\"#923996\",\"#397096\",\"#834f96\",\"#907c96\",\"#7d3a96\",\"#90ca96\",\"#588b96\",\"#735096\",\"#74a596\",\"#984696\",\"#bbc696\",\"#5d7b96\",\"#c89996\",\"#3a5896\",\"#f77196\",\"#a28496\",\"#7ab296\",\"#38d896\",\"#de5c96\",\"#4b7f96\",\"#ac3c96\",\"#be7696\",\"#6d7496\",\"#7d9696\",\"#725e96\",\"#3fa296\",\"#c46996\",\"#62ae96\",\"#795696\",\"#6ec396\",\"#499f96\",\"#729596\",\"#e52296\",\"#d5aa96\",\"#cfa696\",\"#74bd96\",\"#b54996\",\"#c35c96\",\"#c7df96\",\"#346096\",\"#396e96\",\"#e13f96\",\"#8e4596\",\"#8c2f96\",\"#91d396\",\"#5abe96\",\"#594996\",\"#d4ad96\",\"#7e6d96\",\"#ebdc96\",\"#daa796\",\"#75e596\",\"#cee096\",\"#9d9b96\",\"#e8ab96\",\"#3fa596\",\"#435f96\",\"#a23e96\",\"#58c496\",\"#5dcc96\",\"#82b396\",\"#afce96\",\"#e14396\",\"#b38396\",\"#b39696\",\"#aea396\",\"#ce5696\",\"#8dcb96\",\"#d9db96\",\"#676996\",\"#618f96\",\"#b78a96\",\"#60a296\",\"#6da096\",\"#c3ab96\",\"#b09496\",\"#cb7596\",\"#b87896\",\"#73a796\",\"#e12496\",\"#8f6e96\",\"#cfaf96\",\"#39a996\",\"#f8a696\",\"#9b8b96\",\"#732f96\",\"#36d796\",\"#cadf96\",\"#b9d796\",\"#4ea496\",\"#e77c96\",\"#74c296\",\"#d8ca96\",\"#e39996\",\"#e55e96\",\"#b56f96\",\"#e73396\",\"#3ca996\",\"#ec9396\",\"#99a896\",\"#8c2f96\",\"#965096\",\"#e26d96\",\"#587696\",\"#d5a496\",\"#433596\",\"#7f6f96\",\"#895b96\",\"#525596\",\"#6f6196\",\"#6ad196\",\"#a21e96\",\"#abd496\",\"#666196\",\"#71d496\",\"#364296\",\"#c1e396\",\"#ecad96\",\"#d35296\",\"#c98796\",\"#458296\",\"#763096\",\"#f19196\",\"#a0b996\",\"#47e196\",\"#4ed896\",\"#e33296\",\"#825696\",\"#bb6496\",\"#4dcc96\",\"#838b96\",\"#456a96\",\"#5d4596\",\"#594296\",\"#51d296\",\"#4b9096\",\"#c3a396\",\"#49b296\",\"#95b196\",\"#edd796\",\"#855996\",\"#4ddf96\",\"#84e096\",\"#ef5996\",\"#ead396\",\"#dd3f96\",\"#8b8796\",\"#5aa596\",\"#d53596\",\"#821f96\",\"#653096\",\"#a13196\",\"#669596\",\"#7f5796\",\"#df8896\",\"#a2da96\",\"#e16896\",\"#878b96\",\"#cdaf96\",\"#af6e96\",\"#789996\",\"#a02c96\",\"#864396\",\"#b0d096\",\"#454e96\",\"#ba3096\",\"#d5ab96\",\"#954d96\",\"#dec596\",\"#6b5296\",\"#542796\",\"#dc9096\",\"#c34b96\",\"#852596\",\"#588396\",\"#b6e496\",\"#77b296\",\"#e79696\",\"#4aad96\",\"#be5096\",\"#838b96\",\"#e2b396\",\"#573e96\",\"#643996\",\"#eb6796\",\"#ec7996\",\"#565596\",\"#5e7e96\",\"#386d96\",\"#3e3896\",\"#8e6d96\",\"#ab8296\",\"#7c2996\",\"#58bd96\",\"#f19d96\",\"#403196\",\"#3d5896\",\"#ca3e96\",\"#f08a96\",\"#764a96\",\"#982b96\",\"#6bd296\",\"#57e496\",\"#9fd796\",\"#9ad196\",\"#5a8096\",\"#68d596\",\"#b65496\",\"#575b96\",\"#916296\",\"#668196\",\"#76b296\",\"#6dab96\",\"#de5d96\",\"#712f96\",\"#649e96\",\"#65a496\",\"#c0d096\",\"#7a3496\",\"#9e4196\",\"#4ec896\",\"#8d7a96\",\"#62d696\",\"#416096\",\"#a22896\",\"#636596\",\"#61b496\",\"#e32f96\",\"#48d396\",\"#4cd396\",\"#4ede96\",\"#b79b96\",\"#805f96\",\"#68dc96\",\"#d42496\",\"#48be96\",\"#e37996\",\"#b59896\",\"#5dcc96\",\"#5ba396\",\"#93d996\",\"#4b4796\",\"#956396\",\"#f3af96\",\"#afbf96\",\"#cf2096\",\"#ca9696\",\"#944b96\",\"#6e9696\",\"#647996\",\"#b3db96\",\"#d01f96\",\"#83a696\",\"#9a7096\",\"#d83696\",\"#d79f96\",\"#70a996\",\"#e1de96\",\"#353a96\",\"#346a96\",\"#4b1e96\",\"#a42796\",\"#4fa696\",\"#42b596\",\"#985496\",\"#8de096\",\"#405c96\",\"#d08196\",\"#ce2496\",\"#6abf96\",\"#aca096\",\"#425796\",\"#9d7e96\",\"#c88296\",\"#439d96\",\"#93cb96\",\"#48ca96\",\"#dbda96\",\"#d9d396\",\"#4c9396\",\"#e08896\",\"#429596\",\"#8e4296\",\"#c2d596\",\"#a7c996\",\"#f78096\",\"#af7696\",\"#f1ce96\",\"#d1b196\",\"#4fc296\",\"#80a296\",\"#692996\",\"#4cc296\",\"#a6d696\",\"#ae2d96\",\"#8f7496\",\"#a23696\",\"#7fd596\",\"#672896\",\"#6d9c96\",\"#49c396\",\"#e18a96\",\"#697196\",\"#346896\",\"#849996\",\"#786f96\",\"#6bd596\",\"#6dd196\",\"#885996\",\"#96c396\",\"#734796\",\"#44da96\",\"#4f8896\",\"#955896\",\"#4f4296\",\"#d7d696\",\"#44a096\",\"#ca2296\",\"#d5b096\",\"#764196\",\"#f7cc96\",\"#694e96\",\"#604396\",\"#bbb996\",\"#c65b96\",\"#e48296\",\"#ace496\",\"#339496\",\"#be7d96\",\"#91d596\",\"#f7a296\",\"#8eac96\",\"#662496\",\"#7d5396\",\"#76c596\",\"#eb8496\",\"#86e096\",\"#64b896\",\"#3e8996\",\"#bb3896\",\"#635596\",\"#44e396\",\"#e9b296\",\"#9c2396\",\"#346396\",\"#b7e296\",\"#b4ad96\",\"#564c96\",\"#878796\",\"#523396\",\"#39ae96\",\"#71ac96\",\"#b16396\",\"#e95996\",\"#77a496\",\"#63d496\",\"#9c8296\",\"#79d796\",\"#5c6796\",\"#f45296\",\"#b1cd96\",\"#5ade96\",\"#b97096\",\"#ed8696\",\"#d45396\",\"#7c5d96\",\"#f9cd96\",\"#c7de96\",\"#99cc96\",\"#647396\",\"#cb8796\",\"#c34496\",\"#f76296\",\"#b8b196\",\"#d0b096\",\"#d64a96\",\"#399596\",\"#5c2396\",\"#e3b096\",\"#7b2e96\",\"#acaf96\",\"#5a5296\",\"#dc8296\",\"#414696\",\"#965596\",\"#b45496\",\"#952896\",\"#424996\",\"#483d96\",\"#9ab796\",\"#b09d96\",\"#4a3696\",\"#e62396\",\"#d53696\",\"#712d96\",\"#b43d96\",\"#ba7c96\",\"#4a7096\",\"#d23d96\",\"#42a396\",\"#444e96\",\"#8c4c96\",\"#326596\",\"#4d4896\",\"#b2a896\",\"#f11f96\",\"#607c96\",\"#368d96\",\"#f9e196\",\"#3ad096\",\"#9cb796\",\"#e36896\",\"#77bc96\",\"#6c7996\",\"#d62596\",\"#517796\",\"#67b196\",\"#94cf96\",\"#5fa896\",\"#d09a96\",\"#3b6496\",\"#334d96\",\"#93bc96\",\"#36de96\",\"#974b96\",\"#855d96\",\"#865996\",\"#99bd96\",\"#48c196\",\"#944a96\",\"#81ad96\",\"#c63796\",\"#566f96\",\"#a3a296\",\"#95bb96\",\"#383d96\",\"#365496\",\"#46a096\",\"#34d496\",\"#83d296\",\"#957b96\",\"#912596\",\"#433e96\",\"#74c896\",\"#6ea796\",\"#35a196\",\"#853a96\",\"#a19496\",\"#d95996\",\"#975d96\",\"#5ed496\",\"#ba4896\",\"#50c096\",\"#5d4096\",\"#476396\",\"#5ed096\",\"#a68d96\",\"#f03296\",\"#79d796\",\"#548e96\",\"#6d6696\",\"#f97096\",\"#4da896\",\"#398496\",\"#488f96\",\"#c43b96\",\"#d59796\",\"#ad7696\",\"#c9b496\",\"#364d96\",\"#b37696\",\"#c87f96\",\"#327596\",\"#a2d396\",\"#bf2296\",\"#ab7296\",\"#b9dd96\",\"#a15896\",\"#7f1f96\",\"#9db396\",\"#af2296\",\"#9d3e96\",\"#8cc896\",\"#86d996\",\"#5e8696\",\"#677296\",\"#c56496\",\"#e1a896\",\"#c1b796\",\"#942c96\",\"#c9a696\",\"#5a9c96\",\"#af2996\",\"#d54d96\",\"#913d96\",\"#358596\",\"#b29496\",\"#e0a096\",\"#df4096\",\"#9ea796\",\"#dda396\",\"#b03e96\",\"#f44a96\",\"#3a3496\",\"#41b596\",\"#bb9196\",\"#c54996\",\"#80ca96\",\"#9e6696\",\"#575096\",\"#b85a96\",\"#888a96\",\"#812196\",\"#e0de96\",\"#367e96\",\"#41ca96\",\"#c64696\",\"#a7a496\",\"#7a7c96\",\"#92c396\",\"#bd4396\",\"#d93096\",\"#c4c996\",\"#387396\",\"#962096\",\"#aa8896\",\"#508c96\",\"#3faf96\",\"#f9ab96\",\"#eeac96\",\"#f9ae96\",\"#403f96\",\"#a1da96\",\"#705a96\",\"#bad996\",\"#63b396\",\"#4a5e96\",\"#bc2296\",\"#b12d96\",\"#80cb96\",\"#e0b296\",\"#de8496\",\"#4fc596\",\"#656d96\",\"#9da396\",\"#bc7296\",\"#35ae96\",\"#ab2e96\",\"#968a96\",\"#92d896\",\"#919b96\",\"#a56b96\",\"#a66796\",\"#bd9e96\",\"#9a7796\",\"#5c7896\",\"#797e96\",\"#5e3e96\",\"#ef3a96\",\"#ab3496\",\"#6a5896\",\"#c43596\",\"#adc596\",\"#a37e96\",\"#ea2296\",\"#67b396\",\"#57c196\",\"#c04a96\",\"#8eb996\",\"#c47d96\",\"#bc2a96\",\"#c3b096\",\"#ec3096\",\"#445f96\",\"#40b596\",\"#34e596\",\"#5da596\",\"#7b8296\",\"#6b2b96\",\"#a42596\",\"#b1cf96\",\"#e62096\",\"#b2bc96\",\"#35d296\",\"#344996\",\"#b75396\",\"#966296\",\"#5f2396\",\"#575d96\",\"#b87396\",\"#e73d96\",\"#794396\",\"#c22396\",\"#978796\",\"#a7da96\",\"#b66e96\",\"#377696\",\"#9c3f96\",\"#a7c996\",\"#a35d96\",\"#429b96\",\"#9ca396\",\"#9f7796\",\"#87cd96\",\"#4c8896\",\"#70cc96\",\"#f35d96\",\"#cf7396\",\"#34dd96\",\"#cd1e96\",\"#a62b96\",\"#49ad96\",\"#3bd696\",\"#c45496\",\"#c69796\",\"#8b8696\",\"#648596\",\"#746b96\",\"#5f9296\",\"#557f96\",\"#508596\",\"#3fb296\",\"#cdaf96\",\"#7e4396\",\"#edb096\",\"#6f8596\",\"#7f3396\",\"#9ea496\",\"#f5d996\",\"#eeb396\",\"#45be96\",\"#4f9796\",\"#70c496\",\"#cc2696\",\"#a22396\",\"#512996\",\"#3dc796\",\"#573996\",\"#856296\",\"#798096\",\"#dac096\",\"#d0a096\",\"#ba8a96\",\"#a84c96\",\"#3bd896\",\"#949096\",\"#bc9a96\",\"#e1c596\",\"#e6cf96\",\"#b77e96\",\"#d4ae96\",\"#937d96\",\"#d5c396\",\"#5f8796\",\"#f7da96\",\"#6b6e96\",\"#8a2196\",\"#e97196\",\"#aa7396\",\"#91a596\",\"#657096\",\"#a06e96\",\"#dc3896\",\"#7aae96\",\"#7cd496\",\"#bd4496\",\"#aaa496\",\"#f3e496\",\"#f37596\",\"#50e196\",\"#d25296\",\"#eb4196\",\"#a27896\",\"#d87596\",\"#3f5196\",\"#999b96\",\"#888c96\",\"#5d3296\",\"#9e9396\",\"#ddc296\",\"#db7096\",\"#d4bf96\",\"#f68596\",\"#718996\",\"#a4ad96\",\"#7ba196\",\"#c8be96\",\"#639096\",\"#69dd96\",\"#cb9e96\",\"#9a2496\",\"#5d9096\",\"#684396\",\"#3c8f96\",\"#4c9d96\",\"#5bc896\",\"#5b7b96\",\"#82bc96\",\"#384696\",\"#b1c596\",\"#bba896\",\"#a77196\",\"#942a96\",\"#9abc96\",\"#4e2296\",\"#b42296\",\"#434f96\",\"#ed8b96\",\"#74a596\",\"#cb6596\",\"#c07e96\",\"#8ba196\",\"#f55d96\",\"#507596\",\"#3ca796\",\"#4bb296\",\"#45b796\",\"#cae396\",\"#83ae96\",\"#a9ca96\",\"#b75996\",\"#eeb596\",\"#b42196\",\"#4a7796\",\"#d97296\",\"#558f96\",\"#923496\",\"#683496\",\"#9c7b96\",\"#95df96\",\"#d34796\",\"#af3f96\",\"#534596\",\"#7d4496\",\"#e88b96\",\"#828496\",\"#a36d96\",\"#62cd96\",\"#676296\",\"#4b6296\",\"#9e8296\",\"#e87396\",\"#685396\",\"#b61e96\",\"#bfb996\",\"#b63a96\",\"#e5c596\",\"#d23496\",\"#d03296\",\"#57a996\",\"#3fdf96\",\"#395f96\",\"#42d196\",\"#696696\",\"#7eb096\",\"#daa596\",\"#eb3f96\",\"#7a5796\",\"#f3e496\",\"#f4e196\",\"#f54f96\",\"#4a3596\",\"#cb2396\",\"#f39f96\",\"#8c6c96\",\"#cf8b96\",\"#b55796\",\"#d71f96\",\"#e1e596\",\"#477196\",\"#b98696\",\"#bd9796\",\"#504496\",\"#3f5e96\",\"#aabe96\",\"#806696\",\"#f5c096\",\"#4c8196\",\"#71ae96\",\"#44b896\",\"#72e296\",\"#648096\",\"#b33296\",\"#cbb896\",\"#e0a096\",\"#766096\",\"#a1b796\",\"#b4de96\",\"#8d2496\",\"#cebf96\",\"#f2b796\",\"#c9cc96\",\"#682c96\",\"#5e7896\",\"#c99a96\",\"#a1d296\",\"#ec9896\",\"#32d096\",\"#7a9396\",\"#b92396\",\"#ceb296\",\"#df9096\",\"#928b96\",\"#395396\",\"#973f96\",\"#b9c696\",\"#af8596\",\"#48aa96\",\"#7ec696\",\"#509b96\",\"#7e5996\",\"#61e596\",\"#ab2c96\",\"#40c896\",\"#ae2296\",\"#d54496\",\"#6ca096\",\"#98c096\",\"#3f2396\",\"#ae7396\",\"#7bb596\",\"#693c96\",\"#a2b996\",\"#dcc096\",\"#3ad096\",\"#c15396\",\"#a59896\",\"#6f6e96\",\"#62d696\",\"#65e196\",\"#edc796\",\"#455a96\",\"#c85696\",\"#65c796\",\"#615a96\",\"#c0b396\",\"#7db596\",\"#76c796\",\"#3b9c96\",\"#f88e96\",\"#aa6496\",\"#586996\",\"#376796\",\"#d86096\",\"#c2c796\",\"#d09b96\",\"#632196\",\"#e63b96\",\"#343796\",\"#6a1e96\",\"#b5c596\",\"#c46c96\",\"#409096\",\"#d86a96\",\"#c58796\",\"#707696\",\"#798496\",\"#d09396\",\"#719096\",\"#d87496\",\"#e37896\",\"#d3c296\",\"#3ad996\",\"#ea2d96\",\"#6abf96\",\"#474896\",\"#ca5896\",\"#b17796\",\"#b77c96\",\"#45d596\",\"#b4a596\",\"#aa3f96\",\"#aadd96\",\"#903796\",\"#e89d96\",\"#dbc896\",\"#d37b96\",\"#505b96\",\"#f86f96\",\"#f75396\",\"#4d8696\",\"#8c9596\",\"#52ce96\",\"#c05196\",\"#e16596\",\"#99bf96\",\"#82bd96\",\"#f48396\",\"#c57b96\",\"#90e496\",\"#ed9e96\",\"#e47796\",\"#d7df96\",\"#817096\",\"#7fcf96\",\"#f9cd96\",\"#9d8496\",\"#c7ac96\",\"#979d96\",\"#67d896\",\"#4ebd96\",\"#daa096\",\"#519096\",\"#f4c696\",\"#e5ce96\",\"#884b96\",\"#ec5196\",\"#7a6596\",\"#daad96\",\"#7de496\",\"#855796\",\"#649896\",\"#ef3c96\",\"#3b4296\",\"#c33c96\",\"#b98a96\",\"#f0d196\",\"#ae5b96\",\"#e1c196\",\"#405996\",\"#3f8196\",\"#8e2e96\",\"#3add96\",\"#d32f96\",\"#a33696\",\"#dc2f96\",\"#896296\",\"#3dd796\",\"#936096\",\"#3c6996\",\"#f42f96\",\"#796396\",\"#75c896\",\"#c57d96\",\"#85b996\",\"#e44996\",\"#a8b096\",\"#45bd96\",\"#b7dd96\",\"#d88096\"],\"radius\":{\"__ndarray__\":\"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\",\"dtype\":\"float64\",\"order\":\"little\",\"shape\":[4000]},\"x\":{\"__ndarray__\":\"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\",\"dtype\":\"float64\",\"order\":\"little\",\"shape\":[4000]},\"y\":{\"__ndarray__\":\"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\",\"dtype\":\"float64\",\"order\":\"little\",\"shape\":[4000]}},\"selected\":{\"id\":\"2421\"},\"selection_policy\":{\"id\":\"2420\"}},\"id\":\"2316\",\"type\":\"ColumnDataSource\"},{\"attributes\":{\"source\":{\"id\":\"2316\"}},\"id\":\"2321\",\"type\":\"CDSView\"},{\"attributes\":{\"fill_alpha\":{\"value\":0.2},\"fill_color\":{\"field\":\"fill_color\"},\"hatch_alpha\":{\"value\":0.2},\"line_alpha\":{\"value\":0.2},\"line_color\":{\"value\":null},\"radius\":{\"field\":\"radius\"},\"x\":{\"field\":\"x\"},\"y\":{\"field\":\"y\"}},\"id\":\"2319\",\"type\":\"Circle\"},{\"attributes\":{\"end\":100},\"id\":\"2282\",\"type\":\"Range1d\"},{\"attributes\":{},\"id\":\"2418\",\"type\":\"BasicTickFormatter\"},{\"attributes\":{\"coordinates\":null,\"formatter\":{\"id\":\"2418\"},\"group\":null,\"major_label_policy\":{\"id\":\"2419\"},\"ticker\":{\"id\":\"2291\"}},\"id\":\"2290\",\"type\":\"LinearAxis\"},{\"attributes\":{},\"id\":\"2288\",\"type\":\"LinearScale\"},{\"attributes\":{},\"id\":\"2286\",\"type\":\"LinearScale\"},{\"attributes\":{\"overlay\":{\"id\":\"2305\"}},\"id\":\"2303\",\"type\":\"BoxSelectTool\"},{\"attributes\":{\"end\":100},\"id\":\"2284\",\"type\":\"Range1d\"},{\"attributes\":{},\"id\":\"2291\",\"type\":\"BasicTicker\"},{\"attributes\":{\"bottom_units\":\"screen\",\"coordinates\":null,\"fill_alpha\":0.5,\"fill_color\":\"lightgrey\",\"group\":null,\"left_units\":\"screen\",\"level\":\"overlay\",\"line_alpha\":1.0,\"line_color\":\"black\",\"line_dash\":[4,4],\"line_width\":2,\"right_units\":\"screen\",\"syncable\":false,\"top_units\":\"screen\"},\"id\":\"2305\",\"type\":\"BoxAnnotation\"},{\"attributes\":{\"fill_alpha\":{\"value\":0.1},\"fill_color\":{\"field\":\"fill_color\"},\"hatch_alpha\":{\"value\":0.1},\"line_alpha\":{\"value\":0.1},\"line_color\":{\"value\":null},\"radius\":{\"field\":\"radius\"},\"x\":{\"field\":\"x\"},\"y\":{\"field\":\"y\"}},\"id\":\"2318\",\"type\":\"Circle\"},{\"attributes\":{\"coordinates\":null,\"formatter\":{\"id\":\"2415\"},\"group\":null,\"major_label_policy\":{\"id\":\"2416\"},\"ticker\":{\"id\":\"2295\"}},\"id\":\"2294\",\"type\":\"LinearAxis\"},{\"attributes\":{\"axis\":{\"id\":\"2290\"},\"coordinates\":null,\"group\":null,\"ticker\":null},\"id\":\"2293\",\"type\":\"Grid\"},{\"attributes\":{},\"id\":\"2416\",\"type\":\"AllLabels\"},{\"attributes\":{},\"id\":\"2421\",\"type\":\"Selection\"},{\"attributes\":{\"coordinates\":null,\"data_source\":{\"id\":\"2316\"},\"glyph\":{\"id\":\"2317\"},\"group\":null,\"hover_glyph\":null,\"muted_glyph\":{\"id\":\"2319\"},\"nonselection_glyph\":{\"id\":\"2318\"},\"view\":{\"id\":\"2321\"}},\"id\":\"2320\",\"type\":\"GlyphRenderer\"},{\"attributes\":{\"coordinates\":null,\"fill_alpha\":0.5,\"fill_color\":\"lightgrey\",\"group\":null,\"level\":\"overlay\",\"line_alpha\":1.0,\"line_color\":\"black\",\"line_dash\":[4,4],\"line_width\":2,\"syncable\":false,\"xs_units\":\"screen\",\"ys_units\":\"screen\"},\"id\":\"2307\",\"type\":\"PolyAnnotation\"},{\"attributes\":{\"bottom_units\":\"screen\",\"coordinates\":null,\"fill_alpha\":0.5,\"fill_color\":\"lightgrey\",\"group\":null,\"left_units\":\"screen\",\"level\":\"overlay\",\"line_alpha\":1.0,\"line_color\":\"black\",\"line_dash\":[4,4],\"line_width\":2,\"right_units\":\"screen\",\"syncable\":false,\"top_units\":\"screen\"},\"id\":\"2306\",\"type\":\"BoxAnnotation\"},{\"attributes\":{\"tools\":[{\"id\":\"2298\"},{\"id\":\"2299\"},{\"id\":\"2300\"},{\"id\":\"2301\"},{\"id\":\"2302\"},{\"id\":\"2303\"},{\"id\":\"2304\"}]},\"id\":\"2308\",\"type\":\"Toolbar\"},{\"attributes\":{},\"id\":\"2420\",\"type\":\"UnionRenderers\"},{\"attributes\":{},\"id\":\"2415\",\"type\":\"BasicTickFormatter\"},{\"attributes\":{},\"id\":\"2302\",\"type\":\"ResetTool\"},{\"attributes\":{\"overlay\":{\"id\":\"2306\"}},\"id\":\"2301\",\"type\":\"BoxZoomTool\"},{\"attributes\":{\"overlay\":{\"id\":\"2307\"}},\"id\":\"2304\",\"type\":\"LassoSelectTool\"},{\"attributes\":{\"coordinates\":null,\"group\":null},\"id\":\"2412\",\"type\":\"Title\"},{\"attributes\":{},\"id\":\"2298\",\"type\":\"CrosshairTool\"},{\"attributes\":{},\"id\":\"2299\",\"type\":\"PanTool\"},{\"attributes\":{},\"id\":\"2300\",\"type\":\"WheelZoomTool\"}],\"root_ids\":[\"2281\"]},\"title\":\"Bokeh Application\",\"version\":\"2.4.3\"}};\n",
       "  const render_items = [{\"docid\":\"7a697e10-bfbd-49f3-b1b4-a1f7f13ee3c5\",\"root_ids\":[\"2281\"],\"roots\":{\"2281\":\"ecea99f5-ddbf-499d-88f1-9227f2960deb\"}}];\n",
       "  root.Bokeh.embed.embed_items_notebook(docs_json, render_items);\n",
       "  }\n",
       "  if (root.Bokeh !== undefined) {\n",
       "    embed_document(root);\n",
       "  } else {\n",
       "    let attempts = 0;\n",
       "    const timer = setInterval(function(root) {\n",
       "      if (root.Bokeh !== undefined) {\n",
       "        clearInterval(timer);\n",
       "        embed_document(root);\n",
       "      } else {\n",
       "        attempts++;\n",
       "        if (attempts > 100) {\n",
       "          clearInterval(timer);\n",
       "          console.log(\"Bokeh: ERROR: Unable to run BokehJS code because BokehJS library is missing\");\n",
       "        }\n",
       "      }\n",
       "    }, 10, root)\n",
       "  }\n",
       "})(window);"
      ],
      "application/vnd.bokehjs_exec.v0+json": ""
     },
     "metadata": {
      "application/vnd.bokehjs_exec.v0+json": {
       "id": "2281"
      }
     },
     "output_type": "display_data"
    }
   ],
   "source": [
    "import numpy as np\n",
    "\n",
    "from bokeh.plotting import figure, output_file, show\n",
    "\n",
    "# prepare some data\n",
    "N = 4000\n",
    "x = np.random.random(size=N) * 100\n",
    "y = np.random.random(size=N) * 100\n",
    "radii = np.random.random(size=N) * 1.5\n",
    "colors = [\n",
    "    \"#%02x%02x%02x\" % (int(r), int(g), 150) for r, g in zip(50+2*x, 30+2*y)\n",
    "]\n",
    "\n",
    "TOOLS=\"crosshair,pan,wheel_zoom,box_zoom,reset,box_select,lasso_select\"\n",
    "\n",
    "# create a new plot with the tools above, and explicit ranges\n",
    "p = figure(tools=TOOLS, x_range=(0,100), y_range=(0,100), width=500, height=500)\n",
    "\n",
    "# add a circle renderer with vectorized colors and sizes\n",
    "p.circle(x,y, radius=radii, fill_color=colors, fill_alpha=0.6, line_color=None)\n",
    "\n",
    "# show the results\n",
    "show(p)"
   ]
  },
  {
   "cell_type": "markdown",
   "metadata": {},
   "source": [
    "# Data Sources and Transformations"
   ]
  },
  {
   "cell_type": "markdown",
   "metadata": {},
   "source": [
    "We've seen how Bokeh can work well with Python lists, NumPy arrays, Pandas series, etc. At lower levels, these inputs are converted to a Bokeh `ColumnDataSource`. This data type is the central data source object used throughout Bokeh. Although Bokeh often creates them for us transparently, there are times when it is useful to create them explicitly.\n",
    "\n",
    "In later sections we will see features like hover tooltips, computed transforms, and CustomJS interactions that make use of the `ColumnDataSource`, so let's take a quick look now."
   ]
  },
  {
   "cell_type": "markdown",
   "metadata": {},
   "source": [
    "## Creating with Python Dicts\n",
    "The `ColumnDataSource` can be imported from `bokeh.models`:"
   ]
  },
  {
   "cell_type": "code",
   "execution_count": 14,
   "metadata": {},
   "outputs": [],
   "source": [
    "from bokeh.models import ColumnDataSource"
   ]
  },
  {
   "cell_type": "markdown",
   "metadata": {},
   "source": [
    "The `ColumnDataSource` is a mapping of column names (strings) to sequences of values. Here is a simple example. The mapping is provided by passing a Python `dict` with string keys and simple Python lists as values. The values could also be NumPy arrays, or Pandas sequences.\n",
    "\n",
    "***NOTE: ALL the columns in a `ColumnDataSource` must always be the SAME length.***\n"
   ]
  },
  {
   "cell_type": "code",
   "execution_count": 15,
   "metadata": {},
   "outputs": [],
   "source": [
    "source = ColumnDataSource(data={\n",
    "    'x' : [1, 2, 3, 4, 5],\n",
    "    'y' : [3, 7, 8, 5, 1],\n",
    "})"
   ]
  },
  {
   "cell_type": "markdown",
   "metadata": {},
   "source": [
    "Up until now we have called functions like `p.circle` by passing in literal lists or arrays of data directly, when we do this, Bokeh creates a `ColumnDataSource` for us, automatically. But it is possible to specify a `ColumnDataSource` explicitly by passing it as the `source` argument to a glyph method. Whenever we do this, if we want a property (like `\"x\"` or `\"y\"` or `\"fill_color\"`) to have a sequence of values, we pass the ***name of the column*** that we would like to use for a property:"
   ]
  },
  {
   "cell_type": "code",
   "execution_count": 16,
   "metadata": {},
   "outputs": [
    {
     "data": {
      "text/html": [
       "\n",
       "  <div class=\"bk-root\" id=\"d5b0f5f6-831a-4f24-a4ec-a2470b303fee\" data-root-id=\"2491\"></div>\n"
      ]
     },
     "metadata": {},
     "output_type": "display_data"
    },
    {
     "data": {
      "application/javascript": [
       "(function(root) {\n",
       "  function embed_document(root) {\n",
       "  const docs_json = {\"3aeb8763-b4f3-4178-9c76-56f88e1a9575\":{\"defs\":[],\"roots\":{\"references\":[{\"attributes\":{\"below\":[{\"id\":\"2500\"}],\"center\":[{\"id\":\"2503\"},{\"id\":\"2507\"}],\"height\":400,\"left\":[{\"id\":\"2504\"}],\"renderers\":[{\"id\":\"2526\"}],\"title\":{\"id\":\"2631\"},\"toolbar\":{\"id\":\"2515\"},\"width\":400,\"x_range\":{\"id\":\"2492\"},\"x_scale\":{\"id\":\"2496\"},\"y_range\":{\"id\":\"2494\"},\"y_scale\":{\"id\":\"2498\"}},\"id\":\"2491\",\"subtype\":\"Figure\",\"type\":\"Plot\"},{\"attributes\":{\"coordinates\":null,\"formatter\":{\"id\":\"2637\"},\"group\":null,\"major_label_policy\":{\"id\":\"2638\"},\"ticker\":{\"id\":\"2501\"}},\"id\":\"2500\",\"type\":\"LinearAxis\"},{\"attributes\":{\"axis\":{\"id\":\"2504\"},\"coordinates\":null,\"dimension\":1,\"group\":null,\"ticker\":null},\"id\":\"2507\",\"type\":\"Grid\"},{\"attributes\":{},\"id\":\"2498\",\"type\":\"LinearScale\"},{\"attributes\":{},\"id\":\"2637\",\"type\":\"BasicTickFormatter\"},{\"attributes\":{},\"id\":\"2496\",\"type\":\"LinearScale\"},{\"attributes\":{},\"id\":\"2638\",\"type\":\"AllLabels\"},{\"attributes\":{\"fill_alpha\":{\"value\":0.2},\"fill_color\":{\"value\":\"#1f77b4\"},\"hatch_alpha\":{\"value\":0.2},\"line_alpha\":{\"value\":0.2},\"line_color\":{\"value\":\"#1f77b4\"},\"size\":{\"value\":20},\"x\":{\"field\":\"x\"},\"y\":{\"field\":\"y\"}},\"id\":\"2525\",\"type\":\"Circle\"},{\"attributes\":{\"fill_color\":{\"value\":\"#1f77b4\"},\"line_color\":{\"value\":\"#1f77b4\"},\"size\":{\"value\":20},\"x\":{\"field\":\"x\"},\"y\":{\"field\":\"y\"}},\"id\":\"2523\",\"type\":\"Circle\"},{\"attributes\":{\"coordinates\":null,\"data_source\":{\"id\":\"2490\"},\"glyph\":{\"id\":\"2523\"},\"group\":null,\"hover_glyph\":null,\"muted_glyph\":{\"id\":\"2525\"},\"nonselection_glyph\":{\"id\":\"2524\"},\"view\":{\"id\":\"2527\"}},\"id\":\"2526\",\"type\":\"GlyphRenderer\"},{\"attributes\":{\"source\":{\"id\":\"2490\"}},\"id\":\"2527\",\"type\":\"CDSView\"},{\"attributes\":{\"fill_alpha\":{\"value\":0.1},\"fill_color\":{\"value\":\"#1f77b4\"},\"hatch_alpha\":{\"value\":0.1},\"line_alpha\":{\"value\":0.1},\"line_color\":{\"value\":\"#1f77b4\"},\"size\":{\"value\":20},\"x\":{\"field\":\"x\"},\"y\":{\"field\":\"y\"}},\"id\":\"2524\",\"type\":\"Circle\"},{\"attributes\":{\"data\":{\"x\":[1,2,3,4,5],\"y\":[3,7,8,5,1]},\"selected\":{\"id\":\"2640\"},\"selection_policy\":{\"id\":\"2639\"}},\"id\":\"2490\",\"type\":\"ColumnDataSource\"},{\"attributes\":{\"axis\":{\"id\":\"2500\"},\"coordinates\":null,\"group\":null,\"ticker\":null},\"id\":\"2503\",\"type\":\"Grid\"},{\"attributes\":{},\"id\":\"2639\",\"type\":\"UnionRenderers\"},{\"attributes\":{},\"id\":\"2501\",\"type\":\"BasicTicker\"},{\"attributes\":{\"tools\":[{\"id\":\"2508\"},{\"id\":\"2509\"},{\"id\":\"2510\"},{\"id\":\"2511\"},{\"id\":\"2512\"},{\"id\":\"2513\"}]},\"id\":\"2515\",\"type\":\"Toolbar\"},{\"attributes\":{},\"id\":\"2513\",\"type\":\"HelpTool\"},{\"attributes\":{},\"id\":\"2512\",\"type\":\"ResetTool\"},{\"attributes\":{},\"id\":\"2640\",\"type\":\"Selection\"},{\"attributes\":{\"coordinates\":null,\"group\":null},\"id\":\"2631\",\"type\":\"Title\"},{\"attributes\":{},\"id\":\"2505\",\"type\":\"BasicTicker\"},{\"attributes\":{\"bottom_units\":\"screen\",\"coordinates\":null,\"fill_alpha\":0.5,\"fill_color\":\"lightgrey\",\"group\":null,\"left_units\":\"screen\",\"level\":\"overlay\",\"line_alpha\":1.0,\"line_color\":\"black\",\"line_dash\":[4,4],\"line_width\":2,\"right_units\":\"screen\",\"syncable\":false,\"top_units\":\"screen\"},\"id\":\"2514\",\"type\":\"BoxAnnotation\"},{\"attributes\":{},\"id\":\"2511\",\"type\":\"SaveTool\"},{\"attributes\":{\"overlay\":{\"id\":\"2514\"}},\"id\":\"2510\",\"type\":\"BoxZoomTool\"},{\"attributes\":{},\"id\":\"2508\",\"type\":\"PanTool\"},{\"attributes\":{},\"id\":\"2509\",\"type\":\"WheelZoomTool\"},{\"attributes\":{},\"id\":\"2492\",\"type\":\"DataRange1d\"},{\"attributes\":{},\"id\":\"2494\",\"type\":\"DataRange1d\"},{\"attributes\":{},\"id\":\"2634\",\"type\":\"BasicTickFormatter\"},{\"attributes\":{},\"id\":\"2635\",\"type\":\"AllLabels\"},{\"attributes\":{\"coordinates\":null,\"formatter\":{\"id\":\"2634\"},\"group\":null,\"major_label_policy\":{\"id\":\"2635\"},\"ticker\":{\"id\":\"2505\"}},\"id\":\"2504\",\"type\":\"LinearAxis\"}],\"root_ids\":[\"2491\"]},\"title\":\"Bokeh Application\",\"version\":\"2.4.3\"}};\n",
       "  const render_items = [{\"docid\":\"3aeb8763-b4f3-4178-9c76-56f88e1a9575\",\"root_ids\":[\"2491\"],\"roots\":{\"2491\":\"d5b0f5f6-831a-4f24-a4ec-a2470b303fee\"}}];\n",
       "  root.Bokeh.embed.embed_items_notebook(docs_json, render_items);\n",
       "  }\n",
       "  if (root.Bokeh !== undefined) {\n",
       "    embed_document(root);\n",
       "  } else {\n",
       "    let attempts = 0;\n",
       "    const timer = setInterval(function(root) {\n",
       "      if (root.Bokeh !== undefined) {\n",
       "        clearInterval(timer);\n",
       "        embed_document(root);\n",
       "      } else {\n",
       "        attempts++;\n",
       "        if (attempts > 100) {\n",
       "          clearInterval(timer);\n",
       "          console.log(\"Bokeh: ERROR: Unable to run BokehJS code because BokehJS library is missing\");\n",
       "        }\n",
       "      }\n",
       "    }, 10, root)\n",
       "  }\n",
       "})(window);"
      ],
      "application/vnd.bokehjs_exec.v0+json": ""
     },
     "metadata": {
      "application/vnd.bokehjs_exec.v0+json": {
       "id": "2491"
      }
     },
     "output_type": "display_data"
    }
   ],
   "source": [
    "p = figure(plot_width=400, plot_height=400)\n",
    "p.circle('x', 'y', size=20, source=source)\n",
    "show(p)"
   ]
  },
  {
   "cell_type": "markdown",
   "metadata": {},
   "source": [
    "My notes (Stefan) <br>\n",
    "This is the same:"
   ]
  },
  {
   "cell_type": "code",
   "execution_count": 17,
   "metadata": {},
   "outputs": [
    {
     "data": {
      "text/html": [
       "\n",
       "  <div class=\"bk-root\" id=\"62da9fbc-ff7c-4884-8f94-7cdca8f09414\" data-root-id=\"2697\"></div>\n"
      ]
     },
     "metadata": {},
     "output_type": "display_data"
    },
    {
     "data": {
      "application/javascript": [
       "(function(root) {\n",
       "  function embed_document(root) {\n",
       "  const docs_json = {\"1737a43f-f9f3-4a6a-89a5-8343ce032f4e\":{\"defs\":[],\"roots\":{\"references\":[{\"attributes\":{\"below\":[{\"id\":\"2706\"}],\"center\":[{\"id\":\"2709\"},{\"id\":\"2713\"}],\"height\":400,\"left\":[{\"id\":\"2710\"}],\"renderers\":[{\"id\":\"2732\"}],\"title\":{\"id\":\"2848\"},\"toolbar\":{\"id\":\"2721\"},\"width\":400,\"x_range\":{\"id\":\"2698\"},\"x_scale\":{\"id\":\"2702\"},\"y_range\":{\"id\":\"2700\"},\"y_scale\":{\"id\":\"2704\"}},\"id\":\"2697\",\"subtype\":\"Figure\",\"type\":\"Plot\"},{\"attributes\":{},\"id\":\"2854\",\"type\":\"BasicTickFormatter\"},{\"attributes\":{},\"id\":\"2857\",\"type\":\"Selection\"},{\"attributes\":{},\"id\":\"2855\",\"type\":\"AllLabels\"},{\"attributes\":{\"data\":{\"x\":[1,2,3,4,5],\"y\":[3,7,8,5,1]},\"selected\":{\"id\":\"2857\"},\"selection_policy\":{\"id\":\"2856\"}},\"id\":\"2728\",\"type\":\"ColumnDataSource\"},{\"attributes\":{\"fill_alpha\":{\"value\":0.2},\"fill_color\":{\"value\":\"#1f77b4\"},\"hatch_alpha\":{\"value\":0.2},\"line_alpha\":{\"value\":0.2},\"line_color\":{\"value\":\"#1f77b4\"},\"size\":{\"value\":20},\"x\":{\"field\":\"x\"},\"y\":{\"field\":\"y\"}},\"id\":\"2731\",\"type\":\"Circle\"},{\"attributes\":{\"bottom_units\":\"screen\",\"coordinates\":null,\"fill_alpha\":0.5,\"fill_color\":\"lightgrey\",\"group\":null,\"left_units\":\"screen\",\"level\":\"overlay\",\"line_alpha\":1.0,\"line_color\":\"black\",\"line_dash\":[4,4],\"line_width\":2,\"right_units\":\"screen\",\"syncable\":false,\"top_units\":\"screen\"},\"id\":\"2720\",\"type\":\"BoxAnnotation\"},{\"attributes\":{\"fill_color\":{\"value\":\"#1f77b4\"},\"line_color\":{\"value\":\"#1f77b4\"},\"size\":{\"value\":20},\"x\":{\"field\":\"x\"},\"y\":{\"field\":\"y\"}},\"id\":\"2729\",\"type\":\"Circle\"},{\"attributes\":{\"tools\":[{\"id\":\"2714\"},{\"id\":\"2715\"},{\"id\":\"2716\"},{\"id\":\"2717\"},{\"id\":\"2718\"},{\"id\":\"2719\"}]},\"id\":\"2721\",\"type\":\"Toolbar\"},{\"attributes\":{},\"id\":\"2718\",\"type\":\"ResetTool\"},{\"attributes\":{},\"id\":\"2852\",\"type\":\"AllLabels\"},{\"attributes\":{},\"id\":\"2715\",\"type\":\"WheelZoomTool\"},{\"attributes\":{\"source\":{\"id\":\"2728\"}},\"id\":\"2733\",\"type\":\"CDSView\"},{\"attributes\":{\"overlay\":{\"id\":\"2720\"}},\"id\":\"2716\",\"type\":\"BoxZoomTool\"},{\"attributes\":{},\"id\":\"2717\",\"type\":\"SaveTool\"},{\"attributes\":{\"axis\":{\"id\":\"2710\"},\"coordinates\":null,\"dimension\":1,\"group\":null,\"ticker\":null},\"id\":\"2713\",\"type\":\"Grid\"},{\"attributes\":{},\"id\":\"2851\",\"type\":\"BasicTickFormatter\"},{\"attributes\":{},\"id\":\"2711\",\"type\":\"BasicTicker\"},{\"attributes\":{},\"id\":\"2698\",\"type\":\"DataRange1d\"},{\"attributes\":{},\"id\":\"2700\",\"type\":\"DataRange1d\"},{\"attributes\":{},\"id\":\"2714\",\"type\":\"PanTool\"},{\"attributes\":{\"coordinates\":null,\"group\":null},\"id\":\"2848\",\"type\":\"Title\"},{\"attributes\":{\"coordinates\":null,\"formatter\":{\"id\":\"2851\"},\"group\":null,\"major_label_policy\":{\"id\":\"2852\"},\"ticker\":{\"id\":\"2711\"}},\"id\":\"2710\",\"type\":\"LinearAxis\"},{\"attributes\":{\"axis\":{\"id\":\"2706\"},\"coordinates\":null,\"group\":null,\"ticker\":null},\"id\":\"2709\",\"type\":\"Grid\"},{\"attributes\":{},\"id\":\"2707\",\"type\":\"BasicTicker\"},{\"attributes\":{},\"id\":\"2719\",\"type\":\"HelpTool\"},{\"attributes\":{},\"id\":\"2702\",\"type\":\"LinearScale\"},{\"attributes\":{\"coordinates\":null,\"data_source\":{\"id\":\"2728\"},\"glyph\":{\"id\":\"2729\"},\"group\":null,\"hover_glyph\":null,\"muted_glyph\":{\"id\":\"2731\"},\"nonselection_glyph\":{\"id\":\"2730\"},\"view\":{\"id\":\"2733\"}},\"id\":\"2732\",\"type\":\"GlyphRenderer\"},{\"attributes\":{},\"id\":\"2704\",\"type\":\"LinearScale\"},{\"attributes\":{},\"id\":\"2856\",\"type\":\"UnionRenderers\"},{\"attributes\":{\"coordinates\":null,\"formatter\":{\"id\":\"2854\"},\"group\":null,\"major_label_policy\":{\"id\":\"2855\"},\"ticker\":{\"id\":\"2707\"}},\"id\":\"2706\",\"type\":\"LinearAxis\"},{\"attributes\":{\"fill_alpha\":{\"value\":0.1},\"fill_color\":{\"value\":\"#1f77b4\"},\"hatch_alpha\":{\"value\":0.1},\"line_alpha\":{\"value\":0.1},\"line_color\":{\"value\":\"#1f77b4\"},\"size\":{\"value\":20},\"x\":{\"field\":\"x\"},\"y\":{\"field\":\"y\"}},\"id\":\"2730\",\"type\":\"Circle\"}],\"root_ids\":[\"2697\"]},\"title\":\"Bokeh Application\",\"version\":\"2.4.3\"}};\n",
       "  const render_items = [{\"docid\":\"1737a43f-f9f3-4a6a-89a5-8343ce032f4e\",\"root_ids\":[\"2697\"],\"roots\":{\"2697\":\"62da9fbc-ff7c-4884-8f94-7cdca8f09414\"}}];\n",
       "  root.Bokeh.embed.embed_items_notebook(docs_json, render_items);\n",
       "  }\n",
       "  if (root.Bokeh !== undefined) {\n",
       "    embed_document(root);\n",
       "  } else {\n",
       "    let attempts = 0;\n",
       "    const timer = setInterval(function(root) {\n",
       "      if (root.Bokeh !== undefined) {\n",
       "        clearInterval(timer);\n",
       "        embed_document(root);\n",
       "      } else {\n",
       "        attempts++;\n",
       "        if (attempts > 100) {\n",
       "          clearInterval(timer);\n",
       "          console.log(\"Bokeh: ERROR: Unable to run BokehJS code because BokehJS library is missing\");\n",
       "        }\n",
       "      }\n",
       "    }, 10, root)\n",
       "  }\n",
       "})(window);"
      ],
      "application/vnd.bokehjs_exec.v0+json": ""
     },
     "metadata": {
      "application/vnd.bokehjs_exec.v0+json": {
       "id": "2697"
      }
     },
     "output_type": "display_data"
    }
   ],
   "source": [
    "x = [1, 2, 3, 4, 5]\n",
    "y = [3, 7, 8, 5, 1]\n",
    "\n",
    "p = figure(plot_width=400, plot_height=400)\n",
    "p.circle(x, y, size=20)\n",
    "show(p)"
   ]
  },
  {
   "cell_type": "markdown",
   "metadata": {},
   "source": [
    "## Creating with Pandas DataFrames\n",
    "\n",
    "It's also simple to create `ColumnDataSource` objects directly from Pandas data frames. To do this, just pass the data frame to  `ColumnDataSource` when you create it:"
   ]
  },
  {
   "cell_type": "code",
   "execution_count": 18,
   "metadata": {},
   "outputs": [
    {
     "data": {
      "text/html": [
       "\n",
       "  <div class=\"bk-root\" id=\"e21def2f-312a-4945-9894-2c30a3b63231\" data-root-id=\"2915\"></div>\n"
      ]
     },
     "metadata": {},
     "output_type": "display_data"
    },
    {
     "data": {
      "application/javascript": [
       "(function(root) {\n",
       "  function embed_document(root) {\n",
       "  const docs_json = {\"2d1bdc78-efd9-422b-a2db-a0360d78434b\":{\"defs\":[],\"roots\":{\"references\":[{\"attributes\":{\"below\":[{\"id\":\"2924\"}],\"center\":[{\"id\":\"2927\"},{\"id\":\"2931\"}],\"height\":400,\"left\":[{\"id\":\"2928\"}],\"renderers\":[{\"id\":\"2950\"}],\"title\":{\"id\":\"3077\"},\"toolbar\":{\"id\":\"2939\"},\"width\":400,\"x_range\":{\"id\":\"2916\"},\"x_scale\":{\"id\":\"2920\"},\"y_range\":{\"id\":\"2918\"},\"y_scale\":{\"id\":\"2922\"}},\"id\":\"2915\",\"subtype\":\"Figure\",\"type\":\"Plot\"},{\"attributes\":{},\"id\":\"2925\",\"type\":\"BasicTicker\"},{\"attributes\":{\"overlay\":{\"id\":\"2938\"}},\"id\":\"2934\",\"type\":\"BoxZoomTool\"},{\"attributes\":{\"coordinates\":null,\"formatter\":{\"id\":\"3080\"},\"group\":null,\"major_label_policy\":{\"id\":\"3081\"},\"ticker\":{\"id\":\"2929\"}},\"id\":\"2928\",\"type\":\"LinearAxis\"},{\"attributes\":{},\"id\":\"2932\",\"type\":\"PanTool\"},{\"attributes\":{},\"id\":\"3085\",\"type\":\"UnionRenderers\"},{\"attributes\":{},\"id\":\"2916\",\"type\":\"DataRange1d\"},{\"attributes\":{},\"id\":\"2933\",\"type\":\"WheelZoomTool\"},{\"attributes\":{},\"id\":\"2922\",\"type\":\"LinearScale\"},{\"attributes\":{},\"id\":\"3086\",\"type\":\"Selection\"},{\"attributes\":{\"axis\":{\"id\":\"2928\"},\"coordinates\":null,\"dimension\":1,\"group\":null,\"ticker\":null},\"id\":\"2931\",\"type\":\"Grid\"},{\"attributes\":{},\"id\":\"2935\",\"type\":\"SaveTool\"},{\"attributes\":{},\"id\":\"2937\",\"type\":\"HelpTool\"},{\"attributes\":{},\"id\":\"3084\",\"type\":\"AllLabels\"},{\"attributes\":{\"coordinates\":null,\"data_source\":{\"id\":\"2914\"},\"glyph\":{\"id\":\"2947\"},\"group\":null,\"hover_glyph\":null,\"muted_glyph\":{\"id\":\"2949\"},\"nonselection_glyph\":{\"id\":\"2948\"},\"view\":{\"id\":\"2951\"}},\"id\":\"2950\",\"type\":\"GlyphRenderer\"},{\"attributes\":{},\"id\":\"3080\",\"type\":\"BasicTickFormatter\"},{\"attributes\":{\"data\":{\"index\":[0,1,2,3,4,5,6,7,8,9,10,11,12,13,14,15,16,17,18,19,20,21,22,23,24,25,26,27,28,29,30,31,32,33,34,35,36,37,38,39,40,41,42,43,44,45,46,47,48,49,50,51,52,53,54,55,56,57,58,59,60,61,62,63,64,65,66,67,68,69,70,71,72,73,74,75,76,77,78,79,80,81,82,83,84,85,86,87,88,89,90,91,92,93,94,95,96,97,98,99,100,101,102,103,104,105,106,107,108,109,110,111,112,113,114,115,116,117,118,119,120,121,122,123,124,125,126,127,128,129,130,131,132,133,134,135,136,137,138,139,140,141,142,143,144,145,146,147,148,149],\"petal_length\":{\"__ndarray__\":\"ZmZmZmZm9j9mZmZmZmb2P83MzMzMzPQ/AAAAAAAA+D9mZmZmZmb2PzMzMzMzM/s/ZmZmZmZm9j8AAAAAAAD4P2ZmZmZmZvY/AAAAAAAA+D8AAAAAAAD4P5qZmZmZmfk/ZmZmZmZm9j+amZmZmZnxPzMzMzMzM/M/AAAAAAAA+D/NzMzMzMz0P2ZmZmZmZvY/MzMzMzMz+z8AAAAAAAD4PzMzMzMzM/s/AAAAAAAA+D8AAAAAAADwPzMzMzMzM/s/ZmZmZmZm/j+amZmZmZn5P5qZmZmZmfk/AAAAAAAA+D9mZmZmZmb2P5qZmZmZmfk/mpmZmZmZ+T8AAAAAAAD4PwAAAAAAAPg/ZmZmZmZm9j8AAAAAAAD4PzMzMzMzM/M/zczMzMzM9D9mZmZmZmb2P83MzMzMzPQ/AAAAAAAA+D/NzMzMzMz0P83MzMzMzPQ/zczMzMzM9D+amZmZmZn5P2ZmZmZmZv4/ZmZmZmZm9j+amZmZmZn5P2ZmZmZmZvY/AAAAAAAA+D9mZmZmZmb2P83MzMzMzBJAAAAAAAAAEkCamZmZmZkTQAAAAAAAABBAZmZmZmZmEkAAAAAAAAASQM3MzMzMzBJAZmZmZmZmCkBmZmZmZmYSQDMzMzMzMw9AAAAAAAAADEDNzMzMzMwQQAAAAAAAABBAzczMzMzMEkDNzMzMzMwMQJqZmZmZmRFAAAAAAAAAEkBmZmZmZmYQQAAAAAAAABJAMzMzMzMzD0AzMzMzMzMTQAAAAAAAABBAmpmZmZmZE0DNzMzMzMwSQDMzMzMzMxFAmpmZmZmZEUAzMzMzMzMTQAAAAAAAABRAAAAAAAAAEkAAAAAAAAAMQGZmZmZmZg5AmpmZmZmZDUAzMzMzMzMPQGZmZmZmZhRAAAAAAAAAEkAAAAAAAAASQM3MzMzMzBJAmpmZmZmZEUBmZmZmZmYQQAAAAAAAABBAmpmZmZmZEUBmZmZmZmYSQAAAAAAAABBAZmZmZmZmCkDNzMzMzMwQQM3MzMzMzBBAzczMzMzMEEAzMzMzMzMRQAAAAAAAAAhAZmZmZmZmEEAAAAAAAAAYQGZmZmZmZhRAmpmZmZmZF0BmZmZmZmYWQDMzMzMzMxdAZmZmZmZmGkAAAAAAAAASQDMzMzMzMxlAMzMzMzMzF0BmZmZmZmYYQGZmZmZmZhRAMzMzMzMzFUAAAAAAAAAWQAAAAAAAABRAZmZmZmZmFEAzMzMzMzMVQAAAAAAAABZAzczMzMzMGkCamZmZmZkbQAAAAAAAABRAzczMzMzMFkCamZmZmZkTQM3MzMzMzBpAmpmZmZmZE0DNzMzMzMwWQAAAAAAAABhAMzMzMzMzE0CamZmZmZkTQGZmZmZmZhZAMzMzMzMzF0BmZmZmZmYYQJqZmZmZmRlAZmZmZmZmFkBmZmZmZmYUQGZmZmZmZhZAZmZmZmZmGEBmZmZmZmYWQAAAAAAAABZAMzMzMzMzE0CamZmZmZkVQGZmZmZmZhZAZmZmZmZmFEBmZmZmZmYUQJqZmZmZmRdAzczMzMzMFkDNzMzMzMwUQAAAAAAAABRAzczMzMzMFECamZmZmZkVQGZmZmZmZhRA\",\"dtype\":\"float64\",\"order\":\"little\",\"shape\":[150]},\"petal_width\":{\"__ndarray__\":\"mpmZmZmZyT+amZmZmZnJP5qZmZmZmck/mpmZmZmZyT+amZmZmZnJP5qZmZmZmdk/MzMzMzMz0z+amZmZmZnJP5qZmZmZmck/mpmZmZmZuT+amZmZmZnJP5qZmZmZmck/mpmZmZmZuT+amZmZmZm5P5qZmZmZmck/mpmZmZmZ2T+amZmZmZnZPzMzMzMzM9M/MzMzMzMz0z8zMzMzMzPTP5qZmZmZmck/mpmZmZmZ2T+amZmZmZnJPwAAAAAAAOA/mpmZmZmZyT+amZmZmZnJP5qZmZmZmdk/mpmZmZmZyT+amZmZmZnJP5qZmZmZmck/mpmZmZmZyT+amZmZmZnZP5qZmZmZmbk/mpmZmZmZyT+amZmZmZnJP5qZmZmZmck/mpmZmZmZyT+amZmZmZm5P5qZmZmZmck/mpmZmZmZyT8zMzMzMzPTPzMzMzMzM9M/mpmZmZmZyT8zMzMzMzPjP5qZmZmZmdk/MzMzMzMz0z+amZmZmZnJP5qZmZmZmck/mpmZmZmZyT+amZmZmZnJP2ZmZmZmZvY/AAAAAAAA+D8AAAAAAAD4P83MzMzMzPQ/AAAAAAAA+D/NzMzMzMz0P5qZmZmZmfk/AAAAAAAA8D/NzMzMzMz0P2ZmZmZmZvY/AAAAAAAA8D8AAAAAAAD4PwAAAAAAAPA/ZmZmZmZm9j/NzMzMzMz0P2ZmZmZmZvY/AAAAAAAA+D8AAAAAAADwPwAAAAAAAPg/mpmZmZmZ8T/NzMzMzMz8P83MzMzMzPQ/AAAAAAAA+D8zMzMzMzPzP83MzMzMzPQ/ZmZmZmZm9j9mZmZmZmb2PzMzMzMzM/s/AAAAAAAA+D8AAAAAAADwP5qZmZmZmfE/AAAAAAAA8D8zMzMzMzPzP5qZmZmZmfk/AAAAAAAA+D+amZmZmZn5PwAAAAAAAPg/zczMzMzM9D/NzMzMzMz0P83MzMzMzPQ/MzMzMzMz8z9mZmZmZmb2PzMzMzMzM/M/AAAAAAAA8D/NzMzMzMz0PzMzMzMzM/M/zczMzMzM9D/NzMzMzMz0P5qZmZmZmfE/zczMzMzM9D8AAAAAAAAEQGZmZmZmZv4/zczMzMzMAEDNzMzMzMz8P5qZmZmZmQFAzczMzMzMAEAzMzMzMzP7P83MzMzMzPw/zczMzMzM/D8AAAAAAAAEQAAAAAAAAABAZmZmZmZm/j/NzMzMzMwAQAAAAAAAAABAMzMzMzMzA0BmZmZmZmYCQM3MzMzMzPw/mpmZmZmZAUBmZmZmZmYCQAAAAAAAAPg/ZmZmZmZmAkAAAAAAAAAAQAAAAAAAAABAzczMzMzM/D/NzMzMzMwAQM3MzMzMzPw/zczMzMzM/D/NzMzMzMz8P83MzMzMzABAmpmZmZmZ+T9mZmZmZmb+PwAAAAAAAABAmpmZmZmZAUAAAAAAAAD4P2ZmZmZmZvY/ZmZmZmZmAkAzMzMzMzMDQM3MzMzMzPw/zczMzMzM/D/NzMzMzMwAQDMzMzMzMwNAZmZmZmZmAkBmZmZmZmb+P2ZmZmZmZgJAAAAAAAAABEBmZmZmZmYCQGZmZmZmZv4/AAAAAAAAAEBmZmZmZmYCQM3MzMzMzPw/\",\"dtype\":\"float64\",\"order\":\"little\",\"shape\":[150]},\"sepal_length\":{\"__ndarray__\":\"ZmZmZmZmFECamZmZmZkTQM3MzMzMzBJAZmZmZmZmEkAAAAAAAAAUQJqZmZmZmRVAZmZmZmZmEkAAAAAAAAAUQJqZmZmZmRFAmpmZmZmZE0CamZmZmZkVQDMzMzMzMxNAMzMzMzMzE0AzMzMzMzMRQDMzMzMzMxdAzczMzMzMFkCamZmZmZkVQGZmZmZmZhRAzczMzMzMFkBmZmZmZmYUQJqZmZmZmRVAZmZmZmZmFEBmZmZmZmYSQGZmZmZmZhRAMzMzMzMzE0AAAAAAAAAUQAAAAAAAABRAzczMzMzMFEDNzMzMzMwUQM3MzMzMzBJAMzMzMzMzE0CamZmZmZkVQM3MzMzMzBRAAAAAAAAAFkCamZmZmZkTQAAAAAAAABRAAAAAAAAAFkCamZmZmZkTQJqZmZmZmRFAZmZmZmZmFEAAAAAAAAAUQAAAAAAAABJAmpmZmZmZEUAAAAAAAAAUQGZmZmZmZhRAMzMzMzMzE0BmZmZmZmYUQGZmZmZmZhJAMzMzMzMzFUAAAAAAAAAUQAAAAAAAABxAmpmZmZmZGUCamZmZmZkbQAAAAAAAABZAAAAAAAAAGkDNzMzMzMwWQDMzMzMzMxlAmpmZmZmZE0BmZmZmZmYaQM3MzMzMzBRAAAAAAAAAFECamZmZmZkXQAAAAAAAABhAZmZmZmZmGEBmZmZmZmYWQM3MzMzMzBpAZmZmZmZmFkAzMzMzMzMXQM3MzMzMzBhAZmZmZmZmFkCamZmZmZkXQGZmZmZmZhhAMzMzMzMzGUBmZmZmZmYYQJqZmZmZmRlAZmZmZmZmGkAzMzMzMzMbQM3MzMzMzBpAAAAAAAAAGEDNzMzMzMwWQAAAAAAAABZAAAAAAAAAFkAzMzMzMzMXQAAAAAAAABhAmpmZmZmZFUAAAAAAAAAYQM3MzMzMzBpAMzMzMzMzGUBmZmZmZmYWQAAAAAAAABZAAAAAAAAAFkBmZmZmZmYYQDMzMzMzMxdAAAAAAAAAFEBmZmZmZmYWQM3MzMzMzBZAzczMzMzMFkDNzMzMzMwYQGZmZmZmZhRAzczMzMzMFkAzMzMzMzMZQDMzMzMzMxdAZmZmZmZmHEAzMzMzMzMZQAAAAAAAABpAZmZmZmZmHkCamZmZmZkTQDMzMzMzMx1AzczMzMzMGkDNzMzMzMwcQAAAAAAAABpAmpmZmZmZGUAzMzMzMzMbQM3MzMzMzBZAMzMzMzMzF0CamZmZmZkZQAAAAAAAABpAzczMzMzMHkDNzMzMzMweQAAAAAAAABhAmpmZmZmZG0BmZmZmZmYWQM3MzMzMzB5AMzMzMzMzGUDNzMzMzMwaQM3MzMzMzBxAzczMzMzMGEBmZmZmZmYYQJqZmZmZmRlAzczMzMzMHECamZmZmZkdQJqZmZmZmR9AmpmZmZmZGUAzMzMzMzMZQGZmZmZmZhhAzczMzMzMHkAzMzMzMzMZQJqZmZmZmRlAAAAAAAAAGECamZmZmZkbQM3MzMzMzBpAmpmZmZmZG0AzMzMzMzMXQDMzMzMzMxtAzczMzMzMGkDNzMzMzMwaQDMzMzMzMxlAAAAAAAAAGkDNzMzMzMwYQJqZmZmZmRdA\",\"dtype\":\"float64\",\"order\":\"little\",\"shape\":[150]},\"sepal_width\":{\"__ndarray__\":\"AAAAAAAADEAAAAAAAAAIQJqZmZmZmQlAzczMzMzMCEDNzMzMzMwMQDMzMzMzMw9AMzMzMzMzC0AzMzMzMzMLQDMzMzMzMwdAzczMzMzMCECamZmZmZkNQDMzMzMzMwtAAAAAAAAACEAAAAAAAAAIQAAAAAAAABBAmpmZmZmZEUAzMzMzMzMPQAAAAAAAAAxAZmZmZmZmDkBmZmZmZmYOQDMzMzMzMwtAmpmZmZmZDUDNzMzMzMwMQGZmZmZmZgpAMzMzMzMzC0AAAAAAAAAIQDMzMzMzMwtAAAAAAAAADEAzMzMzMzMLQJqZmZmZmQlAzczMzMzMCEAzMzMzMzMLQGZmZmZmZhBAzczMzMzMEEDNzMzMzMwIQJqZmZmZmQlAAAAAAAAADEDNzMzMzMwMQAAAAAAAAAhAMzMzMzMzC0AAAAAAAAAMQGZmZmZmZgJAmpmZmZmZCUAAAAAAAAAMQGZmZmZmZg5AAAAAAAAACEBmZmZmZmYOQJqZmZmZmQlAmpmZmZmZDUBmZmZmZmYKQJqZmZmZmQlAmpmZmZmZCUDNzMzMzMwIQGZmZmZmZgJAZmZmZmZmBkBmZmZmZmYGQGZmZmZmZgpAMzMzMzMzA0AzMzMzMzMHQJqZmZmZmQVAAAAAAAAAAEAAAAAAAAAIQJqZmZmZmQFAMzMzMzMzB0AzMzMzMzMHQM3MzMzMzAhAAAAAAAAACECamZmZmZkFQJqZmZmZmQFAAAAAAAAABECamZmZmZkJQGZmZmZmZgZAAAAAAAAABEBmZmZmZmYGQDMzMzMzMwdAAAAAAAAACEBmZmZmZmYGQAAAAAAAAAhAMzMzMzMzB0DNzMzMzMwEQDMzMzMzMwNAMzMzMzMzA0CamZmZmZkFQJqZmZmZmQVAAAAAAAAACEAzMzMzMzMLQM3MzMzMzAhAZmZmZmZmAkAAAAAAAAAIQAAAAAAAAARAzczMzMzMBEAAAAAAAAAIQM3MzMzMzARAZmZmZmZmAkCamZmZmZkFQAAAAAAAAAhAMzMzMzMzB0AzMzMzMzMHQAAAAAAAAARAZmZmZmZmBkBmZmZmZmYKQJqZmZmZmQVAAAAAAAAACEAzMzMzMzMHQAAAAAAAAAhAAAAAAAAACEAAAAAAAAAEQDMzMzMzMwdAAAAAAAAABEDNzMzMzMwMQJqZmZmZmQlAmpmZmZmZBUAAAAAAAAAIQAAAAAAAAARAZmZmZmZmBkCamZmZmZkJQAAAAAAAAAhAZmZmZmZmDkDNzMzMzMwEQJqZmZmZmQFAmpmZmZmZCUBmZmZmZmYGQGZmZmZmZgZAmpmZmZmZBUBmZmZmZmYKQJqZmZmZmQlAZmZmZmZmBkAAAAAAAAAIQGZmZmZmZgZAAAAAAAAACEBmZmZmZmYGQGZmZmZmZg5AZmZmZmZmBkBmZmZmZmYGQM3MzMzMzARAAAAAAAAACEAzMzMzMzMLQM3MzMzMzAhAAAAAAAAACEDNzMzMzMwIQM3MzMzMzAhAzczMzMzMCECamZmZmZkFQJqZmZmZmQlAZmZmZmZmCkAAAAAAAAAIQAAAAAAAAARAAAAAAAAACEAzMzMzMzMLQAAAAAAAAAhA\",\"dtype\":\"float64\",\"order\":\"little\",\"shape\":[150]},\"species\":[\"setosa\",\"setosa\",\"setosa\",\"setosa\",\"setosa\",\"setosa\",\"setosa\",\"setosa\",\"setosa\",\"setosa\",\"setosa\",\"setosa\",\"setosa\",\"setosa\",\"setosa\",\"setosa\",\"setosa\",\"setosa\",\"setosa\",\"setosa\",\"setosa\",\"setosa\",\"setosa\",\"setosa\",\"setosa\",\"setosa\",\"setosa\",\"setosa\",\"setosa\",\"setosa\",\"setosa\",\"setosa\",\"setosa\",\"setosa\",\"setosa\",\"setosa\",\"setosa\",\"setosa\",\"setosa\",\"setosa\",\"setosa\",\"setosa\",\"setosa\",\"setosa\",\"setosa\",\"setosa\",\"setosa\",\"setosa\",\"setosa\",\"setosa\",\"versicolor\",\"versicolor\",\"versicolor\",\"versicolor\",\"versicolor\",\"versicolor\",\"versicolor\",\"versicolor\",\"versicolor\",\"versicolor\",\"versicolor\",\"versicolor\",\"versicolor\",\"versicolor\",\"versicolor\",\"versicolor\",\"versicolor\",\"versicolor\",\"versicolor\",\"versicolor\",\"versicolor\",\"versicolor\",\"versicolor\",\"versicolor\",\"versicolor\",\"versicolor\",\"versicolor\",\"versicolor\",\"versicolor\",\"versicolor\",\"versicolor\",\"versicolor\",\"versicolor\",\"versicolor\",\"versicolor\",\"versicolor\",\"versicolor\",\"versicolor\",\"versicolor\",\"versicolor\",\"versicolor\",\"versicolor\",\"versicolor\",\"versicolor\",\"versicolor\",\"versicolor\",\"versicolor\",\"versicolor\",\"versicolor\",\"versicolor\",\"virginica\",\"virginica\",\"virginica\",\"virginica\",\"virginica\",\"virginica\",\"virginica\",\"virginica\",\"virginica\",\"virginica\",\"virginica\",\"virginica\",\"virginica\",\"virginica\",\"virginica\",\"virginica\",\"virginica\",\"virginica\",\"virginica\",\"virginica\",\"virginica\",\"virginica\",\"virginica\",\"virginica\",\"virginica\",\"virginica\",\"virginica\",\"virginica\",\"virginica\",\"virginica\",\"virginica\",\"virginica\",\"virginica\",\"virginica\",\"virginica\",\"virginica\",\"virginica\",\"virginica\",\"virginica\",\"virginica\",\"virginica\",\"virginica\",\"virginica\",\"virginica\",\"virginica\",\"virginica\",\"virginica\",\"virginica\",\"virginica\",\"virginica\"]},\"selected\":{\"id\":\"3086\"},\"selection_policy\":{\"id\":\"3085\"}},\"id\":\"2914\",\"type\":\"ColumnDataSource\"},{\"attributes\":{},\"id\":\"2929\",\"type\":\"BasicTicker\"},{\"attributes\":{\"fill_alpha\":{\"value\":0.1},\"fill_color\":{\"value\":\"#1f77b4\"},\"hatch_alpha\":{\"value\":0.1},\"line_alpha\":{\"value\":0.1},\"line_color\":{\"value\":\"#1f77b4\"},\"x\":{\"field\":\"petal_length\"},\"y\":{\"field\":\"petal_width\"}},\"id\":\"2948\",\"type\":\"Circle\"},{\"attributes\":{\"fill_alpha\":{\"value\":0.2},\"fill_color\":{\"value\":\"#1f77b4\"},\"hatch_alpha\":{\"value\":0.2},\"line_alpha\":{\"value\":0.2},\"line_color\":{\"value\":\"#1f77b4\"},\"x\":{\"field\":\"petal_length\"},\"y\":{\"field\":\"petal_width\"}},\"id\":\"2949\",\"type\":\"Circle\"},{\"attributes\":{\"source\":{\"id\":\"2914\"}},\"id\":\"2951\",\"type\":\"CDSView\"},{\"attributes\":{},\"id\":\"2936\",\"type\":\"ResetTool\"},{\"attributes\":{\"coordinates\":null,\"group\":null},\"id\":\"3077\",\"type\":\"Title\"},{\"attributes\":{\"fill_color\":{\"value\":\"#1f77b4\"},\"line_color\":{\"value\":\"#1f77b4\"},\"x\":{\"field\":\"petal_length\"},\"y\":{\"field\":\"petal_width\"}},\"id\":\"2947\",\"type\":\"Circle\"},{\"attributes\":{\"coordinates\":null,\"formatter\":{\"id\":\"3083\"},\"group\":null,\"major_label_policy\":{\"id\":\"3084\"},\"ticker\":{\"id\":\"2925\"}},\"id\":\"2924\",\"type\":\"LinearAxis\"},{\"attributes\":{\"bottom_units\":\"screen\",\"coordinates\":null,\"fill_alpha\":0.5,\"fill_color\":\"lightgrey\",\"group\":null,\"left_units\":\"screen\",\"level\":\"overlay\",\"line_alpha\":1.0,\"line_color\":\"black\",\"line_dash\":[4,4],\"line_width\":2,\"right_units\":\"screen\",\"syncable\":false,\"top_units\":\"screen\"},\"id\":\"2938\",\"type\":\"BoxAnnotation\"},{\"attributes\":{},\"id\":\"2920\",\"type\":\"LinearScale\"},{\"attributes\":{},\"id\":\"2918\",\"type\":\"DataRange1d\"},{\"attributes\":{\"tools\":[{\"id\":\"2932\"},{\"id\":\"2933\"},{\"id\":\"2934\"},{\"id\":\"2935\"},{\"id\":\"2936\"},{\"id\":\"2937\"}]},\"id\":\"2939\",\"type\":\"Toolbar\"},{\"attributes\":{\"axis\":{\"id\":\"2924\"},\"coordinates\":null,\"group\":null,\"ticker\":null},\"id\":\"2927\",\"type\":\"Grid\"},{\"attributes\":{},\"id\":\"3081\",\"type\":\"AllLabels\"},{\"attributes\":{},\"id\":\"3083\",\"type\":\"BasicTickFormatter\"}],\"root_ids\":[\"2915\"]},\"title\":\"Bokeh Application\",\"version\":\"2.4.3\"}};\n",
       "  const render_items = [{\"docid\":\"2d1bdc78-efd9-422b-a2db-a0360d78434b\",\"root_ids\":[\"2915\"],\"roots\":{\"2915\":\"e21def2f-312a-4945-9894-2c30a3b63231\"}}];\n",
       "  root.Bokeh.embed.embed_items_notebook(docs_json, render_items);\n",
       "  }\n",
       "  if (root.Bokeh !== undefined) {\n",
       "    embed_document(root);\n",
       "  } else {\n",
       "    let attempts = 0;\n",
       "    const timer = setInterval(function(root) {\n",
       "      if (root.Bokeh !== undefined) {\n",
       "        clearInterval(timer);\n",
       "        embed_document(root);\n",
       "      } else {\n",
       "        attempts++;\n",
       "        if (attempts > 100) {\n",
       "          clearInterval(timer);\n",
       "          console.log(\"Bokeh: ERROR: Unable to run BokehJS code because BokehJS library is missing\");\n",
       "        }\n",
       "      }\n",
       "    }, 10, root)\n",
       "  }\n",
       "})(window);"
      ],
      "application/vnd.bokehjs_exec.v0+json": ""
     },
     "metadata": {
      "application/vnd.bokehjs_exec.v0+json": {
       "id": "2915"
      }
     },
     "output_type": "display_data"
    }
   ],
   "source": [
    "from bokeh.sampledata.iris import flowers as df\n",
    "\n",
    "source = ColumnDataSource(df)\n",
    "\n",
    "p = figure(plot_width=400, plot_height=400)\n",
    "p.circle('petal_length', 'petal_width', source=source)\n",
    "show(p)"
   ]
  },
  {
   "cell_type": "markdown",
   "metadata": {},
   "source": [
    "## Automatic Conversion\n",
    "\n",
    "If you do not need to share data sources, it may be convenient to pass dicts, Pandas `DataFrame` or `GroupBy` objects directly to glhyph methods, without explicitly creating a `ColumnDataSource`. In this case, a `ColumnDataSource` will be created automatically."
   ]
  },
  {
   "cell_type": "code",
   "execution_count": 19,
   "metadata": {},
   "outputs": [
    {
     "data": {
      "text/html": [
       "\n",
       "  <div class=\"bk-root\" id=\"f17218bf-61f3-4270-bfbc-96dbe3d1b401\" data-root-id=\"3143\"></div>\n"
      ]
     },
     "metadata": {},
     "output_type": "display_data"
    },
    {
     "data": {
      "application/javascript": [
       "(function(root) {\n",
       "  function embed_document(root) {\n",
       "  const docs_json = {\"24f6dc42-bd7c-4ad6-a466-07bbe301d3f4\":{\"defs\":[],\"roots\":{\"references\":[{\"attributes\":{\"below\":[{\"id\":\"3152\"}],\"center\":[{\"id\":\"3155\"},{\"id\":\"3159\"}],\"height\":400,\"left\":[{\"id\":\"3156\"}],\"renderers\":[{\"id\":\"3179\"}],\"title\":{\"id\":\"3317\"},\"toolbar\":{\"id\":\"3167\"},\"width\":400,\"x_range\":{\"id\":\"3144\"},\"x_scale\":{\"id\":\"3148\"},\"y_range\":{\"id\":\"3146\"},\"y_scale\":{\"id\":\"3150\"}},\"id\":\"3143\",\"subtype\":\"Figure\",\"type\":\"Plot\"},{\"attributes\":{},\"id\":\"3148\",\"type\":\"LinearScale\"},{\"attributes\":{},\"id\":\"3150\",\"type\":\"LinearScale\"},{\"attributes\":{},\"id\":\"3325\",\"type\":\"UnionRenderers\"},{\"attributes\":{\"fill_alpha\":{\"value\":0.1},\"fill_color\":{\"value\":\"green\"},\"hatch_alpha\":{\"value\":0.1},\"hatch_color\":{\"value\":\"green\"},\"line_alpha\":{\"value\":0.1},\"line_color\":{\"value\":\"green\"},\"x\":{\"field\":\"petal_length\"},\"y\":{\"field\":\"petal_width\"}},\"id\":\"3177\",\"type\":\"Circle\"},{\"attributes\":{},\"id\":\"3326\",\"type\":\"Selection\"},{\"attributes\":{},\"id\":\"3320\",\"type\":\"BasicTickFormatter\"},{\"attributes\":{},\"id\":\"3157\",\"type\":\"BasicTicker\"},{\"attributes\":{\"axis\":{\"id\":\"3156\"},\"coordinates\":null,\"dimension\":1,\"group\":null,\"ticker\":null},\"id\":\"3159\",\"type\":\"Grid\"},{\"attributes\":{},\"id\":\"3321\",\"type\":\"AllLabels\"},{\"attributes\":{\"coordinates\":null,\"group\":null},\"id\":\"3317\",\"type\":\"Title\"},{\"attributes\":{\"fill_alpha\":{\"value\":0.2},\"fill_color\":{\"value\":\"green\"},\"hatch_alpha\":{\"value\":0.2},\"hatch_color\":{\"value\":\"green\"},\"line_alpha\":{\"value\":0.2},\"line_color\":{\"value\":\"green\"},\"x\":{\"field\":\"petal_length\"},\"y\":{\"field\":\"petal_width\"}},\"id\":\"3178\",\"type\":\"Circle\"},{\"attributes\":{\"coordinates\":null,\"formatter\":{\"id\":\"3323\"},\"group\":null,\"major_label_policy\":{\"id\":\"3324\"},\"ticker\":{\"id\":\"3153\"}},\"id\":\"3152\",\"type\":\"LinearAxis\"},{\"attributes\":{\"data\":{\"index\":[0,1,2,3,4,5,6,7,8,9,10,11,12,13,14,15,16,17,18,19,20,21,22,23,24,25,26,27,28,29,30,31,32,33,34,35,36,37,38,39,40,41,42,43,44,45,46,47,48,49,50,51,52,53,54,55,56,57,58,59,60,61,62,63,64,65,66,67,68,69,70,71,72,73,74,75,76,77,78,79,80,81,82,83,84,85,86,87,88,89,90,91,92,93,94,95,96,97,98,99,100,101,102,103,104,105,106,107,108,109,110,111,112,113,114,115,116,117,118,119,120,121,122,123,124,125,126,127,128,129,130,131,132,133,134,135,136,137,138,139,140,141,142,143,144,145,146,147,148,149],\"petal_length\":{\"__ndarray__\":\"ZmZmZmZm9j9mZmZmZmb2P83MzMzMzPQ/AAAAAAAA+D9mZmZmZmb2PzMzMzMzM/s/ZmZmZmZm9j8AAAAAAAD4P2ZmZmZmZvY/AAAAAAAA+D8AAAAAAAD4P5qZmZmZmfk/ZmZmZmZm9j+amZmZmZnxPzMzMzMzM/M/AAAAAAAA+D/NzMzMzMz0P2ZmZmZmZvY/MzMzMzMz+z8AAAAAAAD4PzMzMzMzM/s/AAAAAAAA+D8AAAAAAADwPzMzMzMzM/s/ZmZmZmZm/j+amZmZmZn5P5qZmZmZmfk/AAAAAAAA+D9mZmZmZmb2P5qZmZmZmfk/mpmZmZmZ+T8AAAAAAAD4PwAAAAAAAPg/ZmZmZmZm9j8AAAAAAAD4PzMzMzMzM/M/zczMzMzM9D9mZmZmZmb2P83MzMzMzPQ/AAAAAAAA+D/NzMzMzMz0P83MzMzMzPQ/zczMzMzM9D+amZmZmZn5P2ZmZmZmZv4/ZmZmZmZm9j+amZmZmZn5P2ZmZmZmZvY/AAAAAAAA+D9mZmZmZmb2P83MzMzMzBJAAAAAAAAAEkCamZmZmZkTQAAAAAAAABBAZmZmZmZmEkAAAAAAAAASQM3MzMzMzBJAZmZmZmZmCkBmZmZmZmYSQDMzMzMzMw9AAAAAAAAADEDNzMzMzMwQQAAAAAAAABBAzczMzMzMEkDNzMzMzMwMQJqZmZmZmRFAAAAAAAAAEkBmZmZmZmYQQAAAAAAAABJAMzMzMzMzD0AzMzMzMzMTQAAAAAAAABBAmpmZmZmZE0DNzMzMzMwSQDMzMzMzMxFAmpmZmZmZEUAzMzMzMzMTQAAAAAAAABRAAAAAAAAAEkAAAAAAAAAMQGZmZmZmZg5AmpmZmZmZDUAzMzMzMzMPQGZmZmZmZhRAAAAAAAAAEkAAAAAAAAASQM3MzMzMzBJAmpmZmZmZEUBmZmZmZmYQQAAAAAAAABBAmpmZmZmZEUBmZmZmZmYSQAAAAAAAABBAZmZmZmZmCkDNzMzMzMwQQM3MzMzMzBBAzczMzMzMEEAzMzMzMzMRQAAAAAAAAAhAZmZmZmZmEEAAAAAAAAAYQGZmZmZmZhRAmpmZmZmZF0BmZmZmZmYWQDMzMzMzMxdAZmZmZmZmGkAAAAAAAAASQDMzMzMzMxlAMzMzMzMzF0BmZmZmZmYYQGZmZmZmZhRAMzMzMzMzFUAAAAAAAAAWQAAAAAAAABRAZmZmZmZmFEAzMzMzMzMVQAAAAAAAABZAzczMzMzMGkCamZmZmZkbQAAAAAAAABRAzczMzMzMFkCamZmZmZkTQM3MzMzMzBpAmpmZmZmZE0DNzMzMzMwWQAAAAAAAABhAMzMzMzMzE0CamZmZmZkTQGZmZmZmZhZAMzMzMzMzF0BmZmZmZmYYQJqZmZmZmRlAZmZmZmZmFkBmZmZmZmYUQGZmZmZmZhZAZmZmZmZmGEBmZmZmZmYWQAAAAAAAABZAMzMzMzMzE0CamZmZmZkVQGZmZmZmZhZAZmZmZmZmFEBmZmZmZmYUQJqZmZmZmRdAzczMzMzMFkDNzMzMzMwUQAAAAAAAABRAzczMzMzMFECamZmZmZkVQGZmZmZmZhRA\",\"dtype\":\"float64\",\"order\":\"little\",\"shape\":[150]},\"petal_width\":{\"__ndarray__\":\"mpmZmZmZyT+amZmZmZnJP5qZmZmZmck/mpmZmZmZyT+amZmZmZnJP5qZmZmZmdk/MzMzMzMz0z+amZmZmZnJP5qZmZmZmck/mpmZmZmZuT+amZmZmZnJP5qZmZmZmck/mpmZmZmZuT+amZmZmZm5P5qZmZmZmck/mpmZmZmZ2T+amZmZmZnZPzMzMzMzM9M/MzMzMzMz0z8zMzMzMzPTP5qZmZmZmck/mpmZmZmZ2T+amZmZmZnJPwAAAAAAAOA/mpmZmZmZyT+amZmZmZnJP5qZmZmZmdk/mpmZmZmZyT+amZmZmZnJP5qZmZmZmck/mpmZmZmZyT+amZmZmZnZP5qZmZmZmbk/mpmZmZmZyT+amZmZmZnJP5qZmZmZmck/mpmZmZmZyT+amZmZmZm5P5qZmZmZmck/mpmZmZmZyT8zMzMzMzPTPzMzMzMzM9M/mpmZmZmZyT8zMzMzMzPjP5qZmZmZmdk/MzMzMzMz0z+amZmZmZnJP5qZmZmZmck/mpmZmZmZyT+amZmZmZnJP2ZmZmZmZvY/AAAAAAAA+D8AAAAAAAD4P83MzMzMzPQ/AAAAAAAA+D/NzMzMzMz0P5qZmZmZmfk/AAAAAAAA8D/NzMzMzMz0P2ZmZmZmZvY/AAAAAAAA8D8AAAAAAAD4PwAAAAAAAPA/ZmZmZmZm9j/NzMzMzMz0P2ZmZmZmZvY/AAAAAAAA+D8AAAAAAADwPwAAAAAAAPg/mpmZmZmZ8T/NzMzMzMz8P83MzMzMzPQ/AAAAAAAA+D8zMzMzMzPzP83MzMzMzPQ/ZmZmZmZm9j9mZmZmZmb2PzMzMzMzM/s/AAAAAAAA+D8AAAAAAADwP5qZmZmZmfE/AAAAAAAA8D8zMzMzMzPzP5qZmZmZmfk/AAAAAAAA+D+amZmZmZn5PwAAAAAAAPg/zczMzMzM9D/NzMzMzMz0P83MzMzMzPQ/MzMzMzMz8z9mZmZmZmb2PzMzMzMzM/M/AAAAAAAA8D/NzMzMzMz0PzMzMzMzM/M/zczMzMzM9D/NzMzMzMz0P5qZmZmZmfE/zczMzMzM9D8AAAAAAAAEQGZmZmZmZv4/zczMzMzMAEDNzMzMzMz8P5qZmZmZmQFAzczMzMzMAEAzMzMzMzP7P83MzMzMzPw/zczMzMzM/D8AAAAAAAAEQAAAAAAAAABAZmZmZmZm/j/NzMzMzMwAQAAAAAAAAABAMzMzMzMzA0BmZmZmZmYCQM3MzMzMzPw/mpmZmZmZAUBmZmZmZmYCQAAAAAAAAPg/ZmZmZmZmAkAAAAAAAAAAQAAAAAAAAABAzczMzMzM/D/NzMzMzMwAQM3MzMzMzPw/zczMzMzM/D/NzMzMzMz8P83MzMzMzABAmpmZmZmZ+T9mZmZmZmb+PwAAAAAAAABAmpmZmZmZAUAAAAAAAAD4P2ZmZmZmZvY/ZmZmZmZmAkAzMzMzMzMDQM3MzMzMzPw/zczMzMzM/D/NzMzMzMwAQDMzMzMzMwNAZmZmZmZmAkBmZmZmZmb+P2ZmZmZmZgJAAAAAAAAABEBmZmZmZmYCQGZmZmZmZv4/AAAAAAAAAEBmZmZmZmYCQM3MzMzMzPw/\",\"dtype\":\"float64\",\"order\":\"little\",\"shape\":[150]},\"sepal_length\":{\"__ndarray__\":\"ZmZmZmZmFECamZmZmZkTQM3MzMzMzBJAZmZmZmZmEkAAAAAAAAAUQJqZmZmZmRVAZmZmZmZmEkAAAAAAAAAUQJqZmZmZmRFAmpmZmZmZE0CamZmZmZkVQDMzMzMzMxNAMzMzMzMzE0AzMzMzMzMRQDMzMzMzMxdAzczMzMzMFkCamZmZmZkVQGZmZmZmZhRAzczMzMzMFkBmZmZmZmYUQJqZmZmZmRVAZmZmZmZmFEBmZmZmZmYSQGZmZmZmZhRAMzMzMzMzE0AAAAAAAAAUQAAAAAAAABRAzczMzMzMFEDNzMzMzMwUQM3MzMzMzBJAMzMzMzMzE0CamZmZmZkVQM3MzMzMzBRAAAAAAAAAFkCamZmZmZkTQAAAAAAAABRAAAAAAAAAFkCamZmZmZkTQJqZmZmZmRFAZmZmZmZmFEAAAAAAAAAUQAAAAAAAABJAmpmZmZmZEUAAAAAAAAAUQGZmZmZmZhRAMzMzMzMzE0BmZmZmZmYUQGZmZmZmZhJAMzMzMzMzFUAAAAAAAAAUQAAAAAAAABxAmpmZmZmZGUCamZmZmZkbQAAAAAAAABZAAAAAAAAAGkDNzMzMzMwWQDMzMzMzMxlAmpmZmZmZE0BmZmZmZmYaQM3MzMzMzBRAAAAAAAAAFECamZmZmZkXQAAAAAAAABhAZmZmZmZmGEBmZmZmZmYWQM3MzMzMzBpAZmZmZmZmFkAzMzMzMzMXQM3MzMzMzBhAZmZmZmZmFkCamZmZmZkXQGZmZmZmZhhAMzMzMzMzGUBmZmZmZmYYQJqZmZmZmRlAZmZmZmZmGkAzMzMzMzMbQM3MzMzMzBpAAAAAAAAAGEDNzMzMzMwWQAAAAAAAABZAAAAAAAAAFkAzMzMzMzMXQAAAAAAAABhAmpmZmZmZFUAAAAAAAAAYQM3MzMzMzBpAMzMzMzMzGUBmZmZmZmYWQAAAAAAAABZAAAAAAAAAFkBmZmZmZmYYQDMzMzMzMxdAAAAAAAAAFEBmZmZmZmYWQM3MzMzMzBZAzczMzMzMFkDNzMzMzMwYQGZmZmZmZhRAzczMzMzMFkAzMzMzMzMZQDMzMzMzMxdAZmZmZmZmHEAzMzMzMzMZQAAAAAAAABpAZmZmZmZmHkCamZmZmZkTQDMzMzMzMx1AzczMzMzMGkDNzMzMzMwcQAAAAAAAABpAmpmZmZmZGUAzMzMzMzMbQM3MzMzMzBZAMzMzMzMzF0CamZmZmZkZQAAAAAAAABpAzczMzMzMHkDNzMzMzMweQAAAAAAAABhAmpmZmZmZG0BmZmZmZmYWQM3MzMzMzB5AMzMzMzMzGUDNzMzMzMwaQM3MzMzMzBxAzczMzMzMGEBmZmZmZmYYQJqZmZmZmRlAzczMzMzMHECamZmZmZkdQJqZmZmZmR9AmpmZmZmZGUAzMzMzMzMZQGZmZmZmZhhAzczMzMzMHkAzMzMzMzMZQJqZmZmZmRlAAAAAAAAAGECamZmZmZkbQM3MzMzMzBpAmpmZmZmZG0AzMzMzMzMXQDMzMzMzMxtAzczMzMzMGkDNzMzMzMwaQDMzMzMzMxlAAAAAAAAAGkDNzMzMzMwYQJqZmZmZmRdA\",\"dtype\":\"float64\",\"order\":\"little\",\"shape\":[150]},\"sepal_width\":{\"__ndarray__\":\"AAAAAAAADEAAAAAAAAAIQJqZmZmZmQlAzczMzMzMCEDNzMzMzMwMQDMzMzMzMw9AMzMzMzMzC0AzMzMzMzMLQDMzMzMzMwdAzczMzMzMCECamZmZmZkNQDMzMzMzMwtAAAAAAAAACEAAAAAAAAAIQAAAAAAAABBAmpmZmZmZEUAzMzMzMzMPQAAAAAAAAAxAZmZmZmZmDkBmZmZmZmYOQDMzMzMzMwtAmpmZmZmZDUDNzMzMzMwMQGZmZmZmZgpAMzMzMzMzC0AAAAAAAAAIQDMzMzMzMwtAAAAAAAAADEAzMzMzMzMLQJqZmZmZmQlAzczMzMzMCEAzMzMzMzMLQGZmZmZmZhBAzczMzMzMEEDNzMzMzMwIQJqZmZmZmQlAAAAAAAAADEDNzMzMzMwMQAAAAAAAAAhAMzMzMzMzC0AAAAAAAAAMQGZmZmZmZgJAmpmZmZmZCUAAAAAAAAAMQGZmZmZmZg5AAAAAAAAACEBmZmZmZmYOQJqZmZmZmQlAmpmZmZmZDUBmZmZmZmYKQJqZmZmZmQlAmpmZmZmZCUDNzMzMzMwIQGZmZmZmZgJAZmZmZmZmBkBmZmZmZmYGQGZmZmZmZgpAMzMzMzMzA0AzMzMzMzMHQJqZmZmZmQVAAAAAAAAAAEAAAAAAAAAIQJqZmZmZmQFAMzMzMzMzB0AzMzMzMzMHQM3MzMzMzAhAAAAAAAAACECamZmZmZkFQJqZmZmZmQFAAAAAAAAABECamZmZmZkJQGZmZmZmZgZAAAAAAAAABEBmZmZmZmYGQDMzMzMzMwdAAAAAAAAACEBmZmZmZmYGQAAAAAAAAAhAMzMzMzMzB0DNzMzMzMwEQDMzMzMzMwNAMzMzMzMzA0CamZmZmZkFQJqZmZmZmQVAAAAAAAAACEAzMzMzMzMLQM3MzMzMzAhAZmZmZmZmAkAAAAAAAAAIQAAAAAAAAARAzczMzMzMBEAAAAAAAAAIQM3MzMzMzARAZmZmZmZmAkCamZmZmZkFQAAAAAAAAAhAMzMzMzMzB0AzMzMzMzMHQAAAAAAAAARAZmZmZmZmBkBmZmZmZmYKQJqZmZmZmQVAAAAAAAAACEAzMzMzMzMHQAAAAAAAAAhAAAAAAAAACEAAAAAAAAAEQDMzMzMzMwdAAAAAAAAABEDNzMzMzMwMQJqZmZmZmQlAmpmZmZmZBUAAAAAAAAAIQAAAAAAAAARAZmZmZmZmBkCamZmZmZkJQAAAAAAAAAhAZmZmZmZmDkDNzMzMzMwEQJqZmZmZmQFAmpmZmZmZCUBmZmZmZmYGQGZmZmZmZgZAmpmZmZmZBUBmZmZmZmYKQJqZmZmZmQlAZmZmZmZmBkAAAAAAAAAIQGZmZmZmZgZAAAAAAAAACEBmZmZmZmYGQGZmZmZmZg5AZmZmZmZmBkBmZmZmZmYGQM3MzMzMzARAAAAAAAAACEAzMzMzMzMLQM3MzMzMzAhAAAAAAAAACEDNzMzMzMwIQM3MzMzMzAhAzczMzMzMCECamZmZmZkFQJqZmZmZmQlAZmZmZmZmCkAAAAAAAAAIQAAAAAAAAARAAAAAAAAACEAzMzMzMzMLQAAAAAAAAAhA\",\"dtype\":\"float64\",\"order\":\"little\",\"shape\":[150]},\"species\":[\"setosa\",\"setosa\",\"setosa\",\"setosa\",\"setosa\",\"setosa\",\"setosa\",\"setosa\",\"setosa\",\"setosa\",\"setosa\",\"setosa\",\"setosa\",\"setosa\",\"setosa\",\"setosa\",\"setosa\",\"setosa\",\"setosa\",\"setosa\",\"setosa\",\"setosa\",\"setosa\",\"setosa\",\"setosa\",\"setosa\",\"setosa\",\"setosa\",\"setosa\",\"setosa\",\"setosa\",\"setosa\",\"setosa\",\"setosa\",\"setosa\",\"setosa\",\"setosa\",\"setosa\",\"setosa\",\"setosa\",\"setosa\",\"setosa\",\"setosa\",\"setosa\",\"setosa\",\"setosa\",\"setosa\",\"setosa\",\"setosa\",\"setosa\",\"versicolor\",\"versicolor\",\"versicolor\",\"versicolor\",\"versicolor\",\"versicolor\",\"versicolor\",\"versicolor\",\"versicolor\",\"versicolor\",\"versicolor\",\"versicolor\",\"versicolor\",\"versicolor\",\"versicolor\",\"versicolor\",\"versicolor\",\"versicolor\",\"versicolor\",\"versicolor\",\"versicolor\",\"versicolor\",\"versicolor\",\"versicolor\",\"versicolor\",\"versicolor\",\"versicolor\",\"versicolor\",\"versicolor\",\"versicolor\",\"versicolor\",\"versicolor\",\"versicolor\",\"versicolor\",\"versicolor\",\"versicolor\",\"versicolor\",\"versicolor\",\"versicolor\",\"versicolor\",\"versicolor\",\"versicolor\",\"versicolor\",\"versicolor\",\"versicolor\",\"versicolor\",\"versicolor\",\"versicolor\",\"versicolor\",\"versicolor\",\"virginica\",\"virginica\",\"virginica\",\"virginica\",\"virginica\",\"virginica\",\"virginica\",\"virginica\",\"virginica\",\"virginica\",\"virginica\",\"virginica\",\"virginica\",\"virginica\",\"virginica\",\"virginica\",\"virginica\",\"virginica\",\"virginica\",\"virginica\",\"virginica\",\"virginica\",\"virginica\",\"virginica\",\"virginica\",\"virginica\",\"virginica\",\"virginica\",\"virginica\",\"virginica\",\"virginica\",\"virginica\",\"virginica\",\"virginica\",\"virginica\",\"virginica\",\"virginica\",\"virginica\",\"virginica\",\"virginica\",\"virginica\",\"virginica\",\"virginica\",\"virginica\",\"virginica\",\"virginica\",\"virginica\",\"virginica\",\"virginica\",\"virginica\"]},\"selected\":{\"id\":\"3326\"},\"selection_policy\":{\"id\":\"3325\"}},\"id\":\"3174\",\"type\":\"ColumnDataSource\"},{\"attributes\":{\"source\":{\"id\":\"3174\"}},\"id\":\"3180\",\"type\":\"CDSView\"},{\"attributes\":{},\"id\":\"3161\",\"type\":\"WheelZoomTool\"},{\"attributes\":{\"axis\":{\"id\":\"3152\"},\"coordinates\":null,\"group\":null,\"ticker\":null},\"id\":\"3155\",\"type\":\"Grid\"},{\"attributes\":{\"overlay\":{\"id\":\"3166\"}},\"id\":\"3162\",\"type\":\"BoxZoomTool\"},{\"attributes\":{\"tools\":[{\"id\":\"3160\"},{\"id\":\"3161\"},{\"id\":\"3162\"},{\"id\":\"3163\"},{\"id\":\"3164\"},{\"id\":\"3165\"}]},\"id\":\"3167\",\"type\":\"Toolbar\"},{\"attributes\":{},\"id\":\"3323\",\"type\":\"BasicTickFormatter\"},{\"attributes\":{},\"id\":\"3153\",\"type\":\"BasicTicker\"},{\"attributes\":{\"coordinates\":null,\"formatter\":{\"id\":\"3320\"},\"group\":null,\"major_label_policy\":{\"id\":\"3321\"},\"ticker\":{\"id\":\"3157\"}},\"id\":\"3156\",\"type\":\"LinearAxis\"},{\"attributes\":{},\"id\":\"3163\",\"type\":\"SaveTool\"},{\"attributes\":{},\"id\":\"3160\",\"type\":\"PanTool\"},{\"attributes\":{\"fill_color\":{\"value\":\"green\"},\"hatch_color\":{\"value\":\"green\"},\"line_color\":{\"value\":\"green\"},\"x\":{\"field\":\"petal_length\"},\"y\":{\"field\":\"petal_width\"}},\"id\":\"3176\",\"type\":\"Circle\"},{\"attributes\":{},\"id\":\"3324\",\"type\":\"AllLabels\"},{\"attributes\":{},\"id\":\"3146\",\"type\":\"DataRange1d\"},{\"attributes\":{\"coordinates\":null,\"data_source\":{\"id\":\"3174\"},\"glyph\":{\"id\":\"3176\"},\"group\":null,\"hover_glyph\":null,\"muted_glyph\":{\"id\":\"3178\"},\"nonselection_glyph\":{\"id\":\"3177\"},\"view\":{\"id\":\"3180\"}},\"id\":\"3179\",\"type\":\"GlyphRenderer\"},{\"attributes\":{},\"id\":\"3164\",\"type\":\"ResetTool\"},{\"attributes\":{},\"id\":\"3144\",\"type\":\"DataRange1d\"},{\"attributes\":{\"bottom_units\":\"screen\",\"coordinates\":null,\"fill_alpha\":0.5,\"fill_color\":\"lightgrey\",\"group\":null,\"left_units\":\"screen\",\"level\":\"overlay\",\"line_alpha\":1.0,\"line_color\":\"black\",\"line_dash\":[4,4],\"line_width\":2,\"right_units\":\"screen\",\"syncable\":false,\"top_units\":\"screen\"},\"id\":\"3166\",\"type\":\"BoxAnnotation\"},{\"attributes\":{},\"id\":\"3165\",\"type\":\"HelpTool\"}],\"root_ids\":[\"3143\"]},\"title\":\"Bokeh Application\",\"version\":\"2.4.3\"}};\n",
       "  const render_items = [{\"docid\":\"24f6dc42-bd7c-4ad6-a466-07bbe301d3f4\",\"root_ids\":[\"3143\"],\"roots\":{\"3143\":\"f17218bf-61f3-4270-bfbc-96dbe3d1b401\"}}];\n",
       "  root.Bokeh.embed.embed_items_notebook(docs_json, render_items);\n",
       "  }\n",
       "  if (root.Bokeh !== undefined) {\n",
       "    embed_document(root);\n",
       "  } else {\n",
       "    let attempts = 0;\n",
       "    const timer = setInterval(function(root) {\n",
       "      if (root.Bokeh !== undefined) {\n",
       "        clearInterval(timer);\n",
       "        embed_document(root);\n",
       "      } else {\n",
       "        attempts++;\n",
       "        if (attempts > 100) {\n",
       "          clearInterval(timer);\n",
       "          console.log(\"Bokeh: ERROR: Unable to run BokehJS code because BokehJS library is missing\");\n",
       "        }\n",
       "      }\n",
       "    }, 10, root)\n",
       "  }\n",
       "})(window);"
      ],
      "application/vnd.bokehjs_exec.v0+json": ""
     },
     "metadata": {
      "application/vnd.bokehjs_exec.v0+json": {
       "id": "3143"
      }
     },
     "output_type": "display_data"
    }
   ],
   "source": [
    "from bokeh.sampledata.iris import flowers as df\n",
    "\n",
    "p = figure(plot_width=400, plot_height=400)\n",
    "p.circle('petal_length', 'petal_width', source=df, color='green')\n",
    "show(p)"
   ]
  },
  {
   "cell_type": "markdown",
   "metadata": {},
   "source": [
    "## Deal with datetime and categorical axes"
   ]
  },
  {
   "cell_type": "markdown",
   "metadata": {},
   "source": [
    "### Datetime axes\n",
    "Dealing with date and time series is another common task. Bokeh has a sophisticated `DatetimeAxis` that can change the displayed ticks based on the current scale of the plot. There are some inputs for which Bokeh will automatically default to DatetimeAxis, but you can always explicitly ask for one by passing the value \"datetime\" to the `x_axis_type` or `y_axis_type` parameters to `figure()`. A few things of interest to look out for in this example:\n",
    "\n",
    "- setting the width and height arguments to figure()\n",
    "- customizing plots and other objects by assigning values to their attributes\n",
    "- accessing guides and annotations with convenience Figure attributes: `legend, grid, xgrid, ygrid, axis, xaxis, yaxis`"
   ]
  },
  {
   "cell_type": "code",
   "execution_count": 20,
   "metadata": {},
   "outputs": [
    {
     "name": "stdout",
     "output_type": "stream",
     "text": [
      "Using data directory: C:\\Users\\vanli\\.bokeh\\data\n",
      "Skipping 'CGM.csv' (checksum match)\n",
      "Skipping 'US_Counties.zip' (checksum match)\n",
      "Skipping 'us_cities.json' (checksum match)\n",
      "Skipping 'unemployment09.csv' (checksum match)\n",
      "Skipping 'AAPL.csv' (checksum match)\n",
      "Skipping 'FB.csv' (checksum match)\n",
      "Skipping 'GOOG.csv' (checksum match)\n",
      "Skipping 'IBM.csv' (checksum match)\n",
      "Skipping 'MSFT.csv' (checksum match)\n",
      "Skipping 'WPP2012_SA_DB03_POPULATION_QUINQUENNIAL.zip' (checksum match)\n",
      "Skipping 'gapminder_fertility.csv' (checksum match)\n",
      "Skipping 'gapminder_population.csv' (checksum match)\n",
      "Skipping 'gapminder_life_expectancy.csv' (checksum match)\n",
      "Skipping 'gapminder_regions.csv' (checksum match)\n",
      "Skipping 'world_cities.zip' (checksum match)\n",
      "Skipping 'airports.json' (checksum match)\n",
      "Skipping 'movies.db.zip' (checksum match)\n",
      "Skipping 'airports.csv' (checksum match)\n",
      "Skipping 'routes.csv' (checksum match)\n",
      "Skipping 'haarcascade_frontalface_default.xml' (checksum match)\n"
     ]
    }
   ],
   "source": [
    "bokeh.sampledata.download()"
   ]
  },
  {
   "cell_type": "code",
   "execution_count": 21,
   "metadata": {},
   "outputs": [],
   "source": [
    "from bokeh.sampledata.stocks import AAPL"
   ]
  },
  {
   "cell_type": "code",
   "execution_count": 22,
   "metadata": {},
   "outputs": [
    {
     "data": {
      "text/html": [
       "\n",
       "  <div class=\"bk-root\" id=\"e8feae86-321e-4c60-b91f-3a12374dca78\" data-root-id=\"3383\"></div>\n"
      ]
     },
     "metadata": {},
     "output_type": "display_data"
    },
    {
     "data": {
      "application/javascript": [
       "(function(root) {\n",
       "  function embed_document(root) {\n",
       "  const docs_json = {\"751b673b-aaee-4ec5-8df3-17babbd9c38c\":{\"defs\":[],\"roots\":{\"references\":[{\"attributes\":{\"below\":[{\"id\":\"3392\"}],\"center\":[{\"id\":\"3395\"},{\"id\":\"3399\"},{\"id\":\"3443\"}],\"height\":350,\"left\":[{\"id\":\"3396\"}],\"renderers\":[{\"id\":\"3418\"},{\"id\":\"3449\"}],\"title\":{\"id\":\"3420\"},\"toolbar\":{\"id\":\"3407\"},\"width\":800,\"x_range\":{\"id\":\"3384\"},\"x_scale\":{\"id\":\"3388\"},\"y_range\":{\"id\":\"3386\"},\"y_scale\":{\"id\":\"3390\"}},\"id\":\"3383\",\"subtype\":\"Figure\",\"type\":\"Plot\"},{\"attributes\":{\"coordinates\":null,\"group\":null,\"text\":\"AAPL One-Month Average\"},\"id\":\"3420\",\"type\":\"Title\"},{\"attributes\":{\"label\":{\"value\":\"close\"},\"renderers\":[{\"id\":\"3418\"}]},\"id\":\"3444\",\"type\":\"LegendItem\"},{\"attributes\":{},\"id\":\"3404\",\"type\":\"ResetTool\"},{\"attributes\":{},\"id\":\"3403\",\"type\":\"SaveTool\"},{\"attributes\":{\"overlay\":{\"id\":\"3406\"}},\"id\":\"3402\",\"type\":\"BoxZoomTool\"},{\"attributes\":{},\"id\":\"3400\",\"type\":\"PanTool\"},{\"attributes\":{},\"id\":\"3401\",\"type\":\"WheelZoomTool\"},{\"attributes\":{\"click_policy\":\"hide\",\"coordinates\":null,\"group\":null,\"items\":[{\"id\":\"3444\"},{\"id\":\"3476\"}],\"location\":\"top_left\"},\"id\":\"3443\",\"type\":\"Legend\"},{\"attributes\":{},\"id\":\"3405\",\"type\":\"HelpTool\"},{\"attributes\":{\"line_alpha\":0.1,\"line_color\":\"red\",\"x\":{\"field\":\"x\"},\"y\":{\"field\":\"y\"}},\"id\":\"3447\",\"type\":\"Line\"},{\"attributes\":{},\"id\":\"3462\",\"type\":\"Selection\"},{\"attributes\":{\"line_color\":\"red\",\"x\":{\"field\":\"x\"},\"y\":{\"field\":\"y\"}},\"id\":\"3446\",\"type\":\"Line\"},{\"attributes\":{\"tools\":[{\"id\":\"3400\"},{\"id\":\"3401\"},{\"id\":\"3402\"},{\"id\":\"3403\"},{\"id\":\"3404\"},{\"id\":\"3405\"}]},\"id\":\"3407\",\"type\":\"Toolbar\"},{\"attributes\":{\"source\":{\"id\":\"3445\"}},\"id\":\"3450\",\"type\":\"CDSView\"},{\"attributes\":{\"line_alpha\":0.2,\"line_color\":\"red\",\"x\":{\"field\":\"x\"},\"y\":{\"field\":\"y\"}},\"id\":\"3448\",\"type\":\"Line\"},{\"attributes\":{},\"id\":\"3423\",\"type\":\"BasicTickFormatter\"},{\"attributes\":{\"fill_alpha\":{\"value\":0.2},\"fill_color\":{\"value\":\"darkgrey\"},\"hatch_alpha\":{\"value\":0.2},\"hatch_color\":{\"value\":\"darkgrey\"},\"line_alpha\":{\"value\":0.2},\"line_color\":{\"value\":\"darkgrey\"},\"x\":{\"field\":\"x\"},\"y\":{\"field\":\"y\"}},\"id\":\"3417\",\"type\":\"Circle\"},{\"attributes\":{\"label\":{\"value\":\"avg\"},\"renderers\":[{\"id\":\"3449\"}]},\"id\":\"3476\",\"type\":\"LegendItem\"},{\"attributes\":{\"data\":{\"x\":{\"__ndarray__\":\"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\",\"dtype\":\"float64\",\"order\":\"little\",\"shape\":[3270]},\"y\":{\"__ndarray__\":\"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\",\"dtype\":\"float64\",\"order\":\"little\",\"shape\":[3270]}},\"selected\":{\"id\":\"3462\"},\"selection_policy\":{\"id\":\"3461\"}},\"id\":\"3445\",\"type\":\"ColumnDataSource\"},{\"attributes\":{\"fill_alpha\":{\"value\":0.2},\"fill_color\":{\"value\":\"darkgrey\"},\"hatch_alpha\":{\"value\":0.2},\"hatch_color\":{\"value\":\"darkgrey\"},\"line_alpha\":{\"value\":0.2},\"line_color\":{\"value\":\"darkgrey\"},\"x\":{\"field\":\"x\"},\"y\":{\"field\":\"y\"}},\"id\":\"3415\",\"type\":\"Circle\"},{\"attributes\":{\"mantissas\":[1,2,5],\"max_interval\":500.0,\"num_minor_ticks\":0},\"id\":\"3431\",\"type\":\"AdaptiveTicker\"},{\"attributes\":{},\"id\":\"3424\",\"type\":\"AllLabels\"},{\"attributes\":{},\"id\":\"3390\",\"type\":\"LinearScale\"},{\"attributes\":{},\"id\":\"3397\",\"type\":\"BasicTicker\"},{\"attributes\":{\"num_minor_ticks\":5,\"tickers\":[{\"id\":\"3431\"},{\"id\":\"3432\"},{\"id\":\"3433\"},{\"id\":\"3434\"},{\"id\":\"3435\"},{\"id\":\"3436\"},{\"id\":\"3437\"},{\"id\":\"3438\"},{\"id\":\"3439\"},{\"id\":\"3440\"},{\"id\":\"3441\"},{\"id\":\"3442\"}]},\"id\":\"3393\",\"type\":\"DatetimeTicker\"},{\"attributes\":{},\"id\":\"3461\",\"type\":\"UnionRenderers\"},{\"attributes\":{},\"id\":\"3426\",\"type\":\"DatetimeTickFormatter\"},{\"attributes\":{\"axis\":{\"id\":\"3392\"},\"coordinates\":null,\"grid_line_alpha\":0,\"group\":null,\"ticker\":null},\"id\":\"3395\",\"type\":\"Grid\"},{\"attributes\":{\"base\":60,\"mantissas\":[1,2,5,10,15,20,30],\"max_interval\":1800000.0,\"min_interval\":1000.0,\"num_minor_ticks\":0},\"id\":\"3432\",\"type\":\"AdaptiveTicker\"},{\"attributes\":{},\"id\":\"3442\",\"type\":\"YearsTicker\"},{\"attributes\":{\"base\":24,\"mantissas\":[1,2,4,6,8,12],\"max_interval\":43200000.0,\"min_interval\":3600000.0,\"num_minor_ticks\":0},\"id\":\"3433\",\"type\":\"AdaptiveTicker\"},{\"attributes\":{\"coordinates\":null,\"data_source\":{\"id\":\"3414\"},\"glyph\":{\"id\":\"3415\"},\"group\":null,\"hover_glyph\":null,\"muted_glyph\":{\"id\":\"3417\"},\"nonselection_glyph\":{\"id\":\"3416\"},\"view\":{\"id\":\"3419\"}},\"id\":\"3418\",\"type\":\"GlyphRenderer\"},{\"attributes\":{\"months\":[0,1,2,3,4,5,6,7,8,9,10,11]},\"id\":\"3438\",\"type\":\"MonthsTicker\"},{\"attributes\":{},\"id\":\"3427\",\"type\":\"AllLabels\"},{\"attributes\":{\"axis\":{\"id\":\"3396\"},\"band_fill_alpha\":0.1,\"band_fill_color\":\"gray\",\"coordinates\":null,\"dimension\":1,\"grid_line_alpha\":0,\"group\":null,\"ticker\":null},\"id\":\"3399\",\"type\":\"Grid\"},{\"attributes\":{\"source\":{\"id\":\"3414\"}},\"id\":\"3419\",\"type\":\"CDSView\"},{\"attributes\":{\"days\":[1,15]},\"id\":\"3437\",\"type\":\"DaysTicker\"},{\"attributes\":{\"days\":[1,2,3,4,5,6,7,8,9,10,11,12,13,14,15,16,17,18,19,20,21,22,23,24,25,26,27,28,29,30,31]},\"id\":\"3434\",\"type\":\"DaysTicker\"},{\"attributes\":{\"days\":[1,4,7,10,13,16,19,22,25,28]},\"id\":\"3435\",\"type\":\"DaysTicker\"},{\"attributes\":{\"days\":[1,8,15,22]},\"id\":\"3436\",\"type\":\"DaysTicker\"},{\"attributes\":{\"months\":[0,6]},\"id\":\"3441\",\"type\":\"MonthsTicker\"},{\"attributes\":{\"months\":[0,2,4,6,8,10]},\"id\":\"3439\",\"type\":\"MonthsTicker\"},{\"attributes\":{},\"id\":\"3428\",\"type\":\"UnionRenderers\"},{\"attributes\":{},\"id\":\"3384\",\"type\":\"DataRange1d\"},{\"attributes\":{\"months\":[0,4,8]},\"id\":\"3440\",\"type\":\"MonthsTicker\"},{\"attributes\":{},\"id\":\"3429\",\"type\":\"Selection\"},{\"attributes\":{\"fill_alpha\":{\"value\":0.1},\"fill_color\":{\"value\":\"darkgrey\"},\"hatch_alpha\":{\"value\":0.1},\"hatch_color\":{\"value\":\"darkgrey\"},\"line_alpha\":{\"value\":0.1},\"line_color\":{\"value\":\"darkgrey\"},\"x\":{\"field\":\"x\"},\"y\":{\"field\":\"y\"}},\"id\":\"3416\",\"type\":\"Circle\"},{\"attributes\":{\"data\":{\"x\":{\"__ndarray__\":\"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\",\"dtype\":\"float64\",\"order\":\"little\",\"shape\":[3270]},\"y\":{\"__ndarray__\":\"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\",\"dtype\":\"float64\",\"order\":\"little\",\"shape\":[3270]}},\"selected\":{\"id\":\"3429\"},\"selection_policy\":{\"id\":\"3428\"}},\"id\":\"3414\",\"type\":\"ColumnDataSource\"},{\"attributes\":{\"axis_label\":\"Price\",\"coordinates\":null,\"formatter\":{\"id\":\"3423\"},\"group\":null,\"major_label_policy\":{\"id\":\"3424\"},\"ticker\":{\"id\":\"3397\"}},\"id\":\"3396\",\"type\":\"LinearAxis\"},{\"attributes\":{\"bottom_units\":\"screen\",\"coordinates\":null,\"fill_alpha\":0.5,\"fill_color\":\"lightgrey\",\"group\":null,\"left_units\":\"screen\",\"level\":\"overlay\",\"line_alpha\":1.0,\"line_color\":\"black\",\"line_dash\":[4,4],\"line_width\":2,\"right_units\":\"screen\",\"syncable\":false,\"top_units\":\"screen\"},\"id\":\"3406\",\"type\":\"BoxAnnotation\"},{\"attributes\":{},\"id\":\"3388\",\"type\":\"LinearScale\"},{\"attributes\":{\"coordinates\":null,\"data_source\":{\"id\":\"3445\"},\"glyph\":{\"id\":\"3446\"},\"group\":null,\"hover_glyph\":null,\"muted_glyph\":{\"id\":\"3448\"},\"nonselection_glyph\":{\"id\":\"3447\"},\"view\":{\"id\":\"3450\"}},\"id\":\"3449\",\"type\":\"GlyphRenderer\"},{\"attributes\":{\"axis_label\":\"Date\",\"coordinates\":null,\"formatter\":{\"id\":\"3426\"},\"group\":null,\"major_label_policy\":{\"id\":\"3427\"},\"ticker\":{\"id\":\"3393\"}},\"id\":\"3392\",\"type\":\"DatetimeAxis\"},{\"attributes\":{},\"id\":\"3386\",\"type\":\"DataRange1d\"}],\"root_ids\":[\"3383\"]},\"title\":\"Bokeh Application\",\"version\":\"2.4.3\"}};\n",
       "  const render_items = [{\"docid\":\"751b673b-aaee-4ec5-8df3-17babbd9c38c\",\"root_ids\":[\"3383\"],\"roots\":{\"3383\":\"e8feae86-321e-4c60-b91f-3a12374dca78\"}}];\n",
       "  root.Bokeh.embed.embed_items_notebook(docs_json, render_items);\n",
       "  }\n",
       "  if (root.Bokeh !== undefined) {\n",
       "    embed_document(root);\n",
       "  } else {\n",
       "    let attempts = 0;\n",
       "    const timer = setInterval(function(root) {\n",
       "      if (root.Bokeh !== undefined) {\n",
       "        clearInterval(timer);\n",
       "        embed_document(root);\n",
       "      } else {\n",
       "        attempts++;\n",
       "        if (attempts > 100) {\n",
       "          clearInterval(timer);\n",
       "          console.log(\"Bokeh: ERROR: Unable to run BokehJS code because BokehJS library is missing\");\n",
       "        }\n",
       "      }\n",
       "    }, 10, root)\n",
       "  }\n",
       "})(window);"
      ],
      "application/vnd.bokehjs_exec.v0+json": ""
     },
     "metadata": {
      "application/vnd.bokehjs_exec.v0+json": {
       "id": "3383"
      }
     },
     "output_type": "display_data"
    }
   ],
   "source": [
    "# prepare some data\n",
    "aapl = np.array(AAPL['adj_close'])\n",
    "aapl_dates = np.array(AAPL['date'], dtype=np.datetime64)\n",
    "\n",
    "window_size = 30\n",
    "window = np.ones(window_size)/float(window_size)\n",
    "aapl_avg = np.convolve(aapl, window, 'same')\n",
    "\n",
    "# create a new plot with a datetime axis type\n",
    "p = figure(width=800, height=350, x_axis_type=\"datetime\")\n",
    "\n",
    "# add renderers\n",
    "p.circle(aapl_dates, aapl, size=4, color='darkgrey', alpha=0.2, legend_label='close')\n",
    "p.line(aapl_dates, aapl_avg, color='red', legend_label='avg')\n",
    "\n",
    "# NEW: customize by setting attributes\n",
    "p.title.text = \"AAPL One-Month Average\"\n",
    "p.legend.location = \"top_left\"\n",
    "p.grid.grid_line_alpha=0\n",
    "p.xaxis.axis_label = 'Date'\n",
    "p.yaxis.axis_label = 'Price'\n",
    "\n",
    "p.ygrid.band_fill_color=\"gray\"\n",
    "p.ygrid.band_fill_alpha = 0.1\n",
    "\n",
    "p.legend.click_policy=\"hide\" # enable the click policy on the legend\n",
    "\n",
    "# show the results\n",
    "show(p)"
   ]
  },
  {
   "cell_type": "markdown",
   "metadata": {},
   "source": [
    "## Categorical axes\n",
    "To inform Bokeh that the `x-axis` is `categorical`, we pass this list of factors as the `x_range` argument to bokeh plotting figure:\n",
    "\n",
    "```python\n",
    "p = figure(x_range=fruits, ... )\n",
    "```\n",
    "\n",
    "Note that passing the list of factors is a convenient shorthand notation for creating a FactorRange. The equivalent explicit notation is:\n",
    "```python\n",
    "p = figure(x_range=FactorRange(field=fruits), ... )\n",
    "```\n",
    "This more explicit for is useful when you want to customize the FactorRange, e.g. by changing the range or category padding.\n",
    "\n",
    "Next we can call vbar with the list of fruit name factors as the x coordinate, the bar height as the top coordinate, and optionally any width or other properties that we would like to set:\n",
    "```python\n",
    "p.vbar(x=fruits, top=[5, 3, 4, 2, 4, 6], width=0.9)\n",
    "```\n",
    "\n",
    "Now putting this stuff together we will see the output:"
   ]
  },
  {
   "cell_type": "code",
   "execution_count": 23,
   "metadata": {},
   "outputs": [
    {
     "data": {
      "text/html": [
       "\n",
       "  <div class=\"bk-root\" id=\"8db73f48-2d8d-4c0f-9c46-c99a6a70adaf\" data-root-id=\"3775\"></div>\n"
      ]
     },
     "metadata": {},
     "output_type": "display_data"
    },
    {
     "data": {
      "application/javascript": [
       "(function(root) {\n",
       "  function embed_document(root) {\n",
       "  const docs_json = {\"83e9baef-909b-4c07-b53c-283955525e58\":{\"defs\":[],\"roots\":{\"references\":[{\"attributes\":{\"below\":[{\"id\":\"3786\"}],\"center\":[{\"id\":\"3788\"},{\"id\":\"3792\"}],\"height\":250,\"left\":[{\"id\":\"3789\"}],\"renderers\":[{\"id\":\"3798\"}],\"title\":{\"id\":\"3776\"},\"toolbar\":{\"id\":\"3793\"},\"toolbar_location\":null,\"x_range\":{\"id\":\"3778\"},\"x_scale\":{\"id\":\"3782\"},\"y_range\":{\"id\":\"3780\"},\"y_scale\":{\"id\":\"3784\"}},\"id\":\"3775\",\"subtype\":\"Figure\",\"type\":\"Plot\"},{\"attributes\":{},\"id\":\"3980\",\"type\":\"Selection\"},{\"attributes\":{\"axis\":{\"id\":\"3789\"},\"coordinates\":null,\"dimension\":1,\"group\":null,\"ticker\":null},\"id\":\"3792\",\"type\":\"Grid\"},{\"attributes\":{\"factors\":[\"Apples\",\"Pears\",\"Nectarines\",\"Plums\",\"Grapes\",\"Strawberries\"]},\"id\":\"3778\",\"type\":\"FactorRange\"},{\"attributes\":{\"source\":{\"id\":\"3794\"}},\"id\":\"3799\",\"type\":\"CDSView\"},{\"attributes\":{},\"id\":\"3784\",\"type\":\"LinearScale\"},{\"attributes\":{\"fill_alpha\":{\"value\":0.2},\"fill_color\":{\"value\":\"#1f77b4\"},\"hatch_alpha\":{\"value\":0.2},\"line_alpha\":{\"value\":0.2},\"line_color\":{\"value\":\"#1f77b4\"},\"top\":{\"field\":\"top\"},\"width\":{\"value\":0.6},\"x\":{\"field\":\"x\"}},\"id\":\"3797\",\"type\":\"VBar\"},{\"attributes\":{\"axis\":{\"id\":\"3786\"},\"coordinates\":null,\"grid_line_color\":null,\"group\":null,\"ticker\":null},\"id\":\"3788\",\"type\":\"Grid\"},{\"attributes\":{\"coordinates\":null,\"formatter\":{\"id\":\"3974\"},\"group\":null,\"major_label_policy\":{\"id\":\"3975\"},\"ticker\":{\"id\":\"3790\"}},\"id\":\"3789\",\"type\":\"LinearAxis\"},{\"attributes\":{},\"id\":\"3793\",\"type\":\"Toolbar\"},{\"attributes\":{},\"id\":\"3790\",\"type\":\"BasicTicker\"},{\"attributes\":{\"coordinates\":null,\"formatter\":{\"id\":\"3977\"},\"group\":null,\"major_label_policy\":{\"id\":\"3978\"},\"ticker\":{\"id\":\"3787\"}},\"id\":\"3786\",\"type\":\"CategoricalAxis\"},{\"attributes\":{\"start\":0},\"id\":\"3780\",\"type\":\"DataRange1d\"},{\"attributes\":{},\"id\":\"3975\",\"type\":\"AllLabels\"},{\"attributes\":{},\"id\":\"3974\",\"type\":\"BasicTickFormatter\"},{\"attributes\":{\"fill_alpha\":{\"value\":0.1},\"fill_color\":{\"value\":\"#1f77b4\"},\"hatch_alpha\":{\"value\":0.1},\"line_alpha\":{\"value\":0.1},\"line_color\":{\"value\":\"#1f77b4\"},\"top\":{\"field\":\"top\"},\"width\":{\"value\":0.6},\"x\":{\"field\":\"x\"}},\"id\":\"3796\",\"type\":\"VBar\"},{\"attributes\":{},\"id\":\"3782\",\"type\":\"CategoricalScale\"},{\"attributes\":{},\"id\":\"3979\",\"type\":\"UnionRenderers\"},{\"attributes\":{},\"id\":\"3977\",\"type\":\"CategoricalTickFormatter\"},{\"attributes\":{},\"id\":\"3787\",\"type\":\"CategoricalTicker\"},{\"attributes\":{\"fill_color\":{\"value\":\"#1f77b4\"},\"line_color\":{\"value\":\"#1f77b4\"},\"top\":{\"field\":\"top\"},\"width\":{\"value\":0.6},\"x\":{\"field\":\"x\"}},\"id\":\"3795\",\"type\":\"VBar\"},{\"attributes\":{\"coordinates\":null,\"data_source\":{\"id\":\"3794\"},\"glyph\":{\"id\":\"3795\"},\"group\":null,\"hover_glyph\":null,\"muted_glyph\":{\"id\":\"3797\"},\"nonselection_glyph\":{\"id\":\"3796\"},\"view\":{\"id\":\"3799\"}},\"id\":\"3798\",\"type\":\"GlyphRenderer\"},{\"attributes\":{},\"id\":\"3978\",\"type\":\"AllLabels\"},{\"attributes\":{\"coordinates\":null,\"group\":null,\"text\":\"Fruit Counts\"},\"id\":\"3776\",\"type\":\"Title\"},{\"attributes\":{\"data\":{\"top\":[5,3,4,2,4,6],\"x\":[\"Apples\",\"Pears\",\"Nectarines\",\"Plums\",\"Grapes\",\"Strawberries\"]},\"selected\":{\"id\":\"3980\"},\"selection_policy\":{\"id\":\"3979\"}},\"id\":\"3794\",\"type\":\"ColumnDataSource\"}],\"root_ids\":[\"3775\"]},\"title\":\"Bokeh Application\",\"version\":\"2.4.3\"}};\n",
       "  const render_items = [{\"docid\":\"83e9baef-909b-4c07-b53c-283955525e58\",\"root_ids\":[\"3775\"],\"roots\":{\"3775\":\"8db73f48-2d8d-4c0f-9c46-c99a6a70adaf\"}}];\n",
       "  root.Bokeh.embed.embed_items_notebook(docs_json, render_items);\n",
       "  }\n",
       "  if (root.Bokeh !== undefined) {\n",
       "    embed_document(root);\n",
       "  } else {\n",
       "    let attempts = 0;\n",
       "    const timer = setInterval(function(root) {\n",
       "      if (root.Bokeh !== undefined) {\n",
       "        clearInterval(timer);\n",
       "        embed_document(root);\n",
       "      } else {\n",
       "        attempts++;\n",
       "        if (attempts > 100) {\n",
       "          clearInterval(timer);\n",
       "          console.log(\"Bokeh: ERROR: Unable to run BokehJS code because BokehJS library is missing\");\n",
       "        }\n",
       "      }\n",
       "    }, 10, root)\n",
       "  }\n",
       "})(window);"
      ],
      "application/vnd.bokehjs_exec.v0+json": ""
     },
     "metadata": {
      "application/vnd.bokehjs_exec.v0+json": {
       "id": "3775"
      }
     },
     "output_type": "display_data"
    }
   ],
   "source": [
    "fruits = ['Apples', 'Pears', 'Nectarines', 'Plums', 'Grapes', 'Strawberries']\n",
    "\n",
    "p = figure(x_range=fruits, plot_height=250, title=\"Fruit Counts\",\n",
    "           toolbar_location=None, tools=\"\")\n",
    "\n",
    "p.vbar(x=fruits, top=[5, 3, 4, 2, 4, 6], width=0.6)\n",
    "\n",
    "p.xgrid.grid_line_color = None\n",
    "p.y_range.start = 0\n",
    "\n",
    "show(p)"
   ]
  },
  {
   "cell_type": "markdown",
   "metadata": {},
   "source": [
    "Often times we may want to have bars that are shaded some color. One way is to supply all the colors up front. This can be done by putting all the data, including the colors for each bar, in a `ColumnDataSource`. Then the name of the column containing the colors is passed to figure as the color (or line_color/fill_color) arguments. This is shown below:"
   ]
  },
  {
   "cell_type": "code",
   "execution_count": 24,
   "metadata": {},
   "outputs": [
    {
     "data": {
      "text/html": [
       "\n",
       "  <div class=\"bk-root\" id=\"91b66482-3a58-405a-b479-6f1438737eb3\" data-root-id=\"4027\"></div>\n"
      ]
     },
     "metadata": {},
     "output_type": "display_data"
    },
    {
     "data": {
      "application/javascript": [
       "(function(root) {\n",
       "  function embed_document(root) {\n",
       "  const docs_json = {\"d6cc44db-d67c-4820-beaf-aaec13d27c5f\":{\"defs\":[],\"roots\":{\"references\":[{\"attributes\":{\"below\":[{\"id\":\"4038\"}],\"center\":[{\"id\":\"4040\"},{\"id\":\"4044\"},{\"id\":\"4061\"}],\"height\":250,\"left\":[{\"id\":\"4041\"}],\"renderers\":[{\"id\":\"4050\"}],\"title\":{\"id\":\"4028\"},\"toolbar\":{\"id\":\"4045\"},\"toolbar_location\":null,\"x_range\":{\"id\":\"4030\"},\"x_scale\":{\"id\":\"4034\"},\"y_range\":{\"id\":\"4032\"},\"y_scale\":{\"id\":\"4036\"}},\"id\":\"4027\",\"subtype\":\"Figure\",\"type\":\"Plot\"},{\"attributes\":{\"label\":{\"value\":\"fruits\"},\"renderers\":[{\"id\":\"4050\"}]},\"id\":\"4062\",\"type\":\"LegendItem\"},{\"attributes\":{},\"id\":\"4057\",\"type\":\"CategoricalTickFormatter\"},{\"attributes\":{\"source\":{\"id\":\"4026\"}},\"id\":\"4051\",\"type\":\"CDSView\"},{\"attributes\":{\"fill_color\":{\"field\":\"color\"},\"hatch_color\":{\"field\":\"color\"},\"line_color\":{\"field\":\"color\"},\"top\":{\"field\":\"counts\"},\"width\":{\"value\":0.6},\"x\":{\"field\":\"fruits\"}},\"id\":\"4047\",\"type\":\"VBar\"},{\"attributes\":{\"fill_alpha\":{\"value\":0.1},\"fill_color\":{\"field\":\"color\"},\"hatch_alpha\":{\"value\":0.1},\"hatch_color\":{\"field\":\"color\"},\"line_alpha\":{\"value\":0.1},\"line_color\":{\"field\":\"color\"},\"top\":{\"field\":\"counts\"},\"width\":{\"value\":0.6},\"x\":{\"field\":\"fruits\"}},\"id\":\"4048\",\"type\":\"VBar\"},{\"attributes\":{},\"id\":\"4059\",\"type\":\"UnionRenderers\"},{\"attributes\":{\"fill_alpha\":{\"value\":0.2},\"fill_color\":{\"field\":\"color\"},\"hatch_alpha\":{\"value\":0.2},\"hatch_color\":{\"field\":\"color\"},\"line_alpha\":{\"value\":0.2},\"line_color\":{\"field\":\"color\"},\"top\":{\"field\":\"counts\"},\"width\":{\"value\":0.6},\"x\":{\"field\":\"fruits\"}},\"id\":\"4049\",\"type\":\"VBar\"},{\"attributes\":{\"data\":{\"color\":[\"#3288bd\",\"#99d594\",\"#e6f598\",\"#fee08b\",\"#fc8d59\",\"#d53e4f\"],\"counts\":[5,3,4,2,4,6],\"fruits\":[\"Apples\",\"Pears\",\"Nectarines\",\"Plums\",\"Grapes\",\"Strawberries\"]},\"selected\":{\"id\":\"4060\"},\"selection_policy\":{\"id\":\"4059\"}},\"id\":\"4026\",\"type\":\"ColumnDataSource\"},{\"attributes\":{\"coordinates\":null,\"group\":null,\"items\":[{\"id\":\"4062\"}],\"location\":\"top_center\",\"orientation\":\"horizontal\"},\"id\":\"4061\",\"type\":\"Legend\"},{\"attributes\":{},\"id\":\"4055\",\"type\":\"AllLabels\"},{\"attributes\":{},\"id\":\"4060\",\"type\":\"Selection\"},{\"attributes\":{\"coordinates\":null,\"data_source\":{\"id\":\"4026\"},\"glyph\":{\"id\":\"4047\"},\"group\":null,\"hover_glyph\":null,\"muted_glyph\":{\"id\":\"4049\"},\"nonselection_glyph\":{\"id\":\"4048\"},\"view\":{\"id\":\"4051\"}},\"id\":\"4050\",\"type\":\"GlyphRenderer\"},{\"attributes\":{\"coordinates\":null,\"formatter\":{\"id\":\"4057\"},\"group\":null,\"major_label_policy\":{\"id\":\"4058\"},\"ticker\":{\"id\":\"4039\"}},\"id\":\"4038\",\"type\":\"CategoricalAxis\"},{\"attributes\":{},\"id\":\"4045\",\"type\":\"Toolbar\"},{\"attributes\":{\"end\":9},\"id\":\"4032\",\"type\":\"Range1d\"},{\"attributes\":{},\"id\":\"4042\",\"type\":\"BasicTicker\"},{\"attributes\":{\"axis\":{\"id\":\"4041\"},\"coordinates\":null,\"dimension\":1,\"group\":null,\"ticker\":null},\"id\":\"4044\",\"type\":\"Grid\"},{\"attributes\":{},\"id\":\"4058\",\"type\":\"AllLabels\"},{\"attributes\":{},\"id\":\"4054\",\"type\":\"BasicTickFormatter\"},{\"attributes\":{},\"id\":\"4036\",\"type\":\"LinearScale\"},{\"attributes\":{\"coordinates\":null,\"group\":null,\"text\":\"Fruit Counts\"},\"id\":\"4028\",\"type\":\"Title\"},{\"attributes\":{},\"id\":\"4034\",\"type\":\"CategoricalScale\"},{\"attributes\":{\"factors\":[\"Apples\",\"Pears\",\"Nectarines\",\"Plums\",\"Grapes\",\"Strawberries\"]},\"id\":\"4030\",\"type\":\"FactorRange\"},{\"attributes\":{},\"id\":\"4039\",\"type\":\"CategoricalTicker\"},{\"attributes\":{\"axis\":{\"id\":\"4038\"},\"coordinates\":null,\"grid_line_color\":null,\"group\":null,\"ticker\":null},\"id\":\"4040\",\"type\":\"Grid\"},{\"attributes\":{\"coordinates\":null,\"formatter\":{\"id\":\"4054\"},\"group\":null,\"major_label_policy\":{\"id\":\"4055\"},\"ticker\":{\"id\":\"4042\"}},\"id\":\"4041\",\"type\":\"LinearAxis\"}],\"root_ids\":[\"4027\"]},\"title\":\"Bokeh Application\",\"version\":\"2.4.3\"}};\n",
       "  const render_items = [{\"docid\":\"d6cc44db-d67c-4820-beaf-aaec13d27c5f\",\"root_ids\":[\"4027\"],\"roots\":{\"4027\":\"91b66482-3a58-405a-b479-6f1438737eb3\"}}];\n",
       "  root.Bokeh.embed.embed_items_notebook(docs_json, render_items);\n",
       "  }\n",
       "  if (root.Bokeh !== undefined) {\n",
       "    embed_document(root);\n",
       "  } else {\n",
       "    let attempts = 0;\n",
       "    const timer = setInterval(function(root) {\n",
       "      if (root.Bokeh !== undefined) {\n",
       "        clearInterval(timer);\n",
       "        embed_document(root);\n",
       "      } else {\n",
       "        attempts++;\n",
       "        if (attempts > 100) {\n",
       "          clearInterval(timer);\n",
       "          console.log(\"Bokeh: ERROR: Unable to run BokehJS code because BokehJS library is missing\");\n",
       "        }\n",
       "      }\n",
       "    }, 10, root)\n",
       "  }\n",
       "})(window);"
      ],
      "application/vnd.bokehjs_exec.v0+json": ""
     },
     "metadata": {
      "application/vnd.bokehjs_exec.v0+json": {
       "id": "4027"
      }
     },
     "output_type": "display_data"
    }
   ],
   "source": [
    "from bokeh.models import ColumnDataSource\n",
    "from bokeh.palettes import Spectral6\n",
    "\n",
    "fruits = ['Apples', 'Pears', 'Nectarines', 'Plums', 'Grapes', 'Strawberries']\n",
    "counts = [5, 3, 4, 2, 4, 6]\n",
    "\n",
    "source = ColumnDataSource(data=dict(fruits=fruits, counts=counts, color=Spectral6))\n",
    "\n",
    "p = figure(x_range=fruits, y_range=(0,9), plot_height=250, title=\"Fruit Counts\",\n",
    "           toolbar_location=None, tools=\"\")\n",
    "\n",
    "p.vbar(x='fruits', top='counts', width=0.6, color='color', legend_label=\"fruits\", source=source)\n",
    "\n",
    "p.xgrid.grid_line_color = None\n",
    "p.legend.orientation = \"horizontal\"\n",
    "p.legend.location = \"top_center\"\n",
    "\n",
    "show(p)"
   ]
  },
  {
   "cell_type": "markdown",
   "metadata": {},
   "source": [
    "### Grouped\n",
    "\n",
    "When creating bar charts, it is often desirable to visually display the data according to sub-groups. There are two basic methods that can be used, depending on your use case: using nested categorical coordinates, or applying vidual dodges.\n",
    "\n",
    "### Nested Categories\n",
    "\n",
    "If the coordinates of a plot range and data have two or three levels, then Bokeh will automatically group the factors on the axis, including a hierarchical tick labeling with separators between the groups. In the case of bar charts, this results in bars grouped together by the top-level factors. This is probably the most common way to achieve grouped bars, especially if you are starting from “tidy” data.\n",
    "\n",
    "The example below shows this approach by creating a single column of coordinates that are each 2-tuples of the form (fruit, year). Accordingly, the plot groups the axes by fruit type, with a single call to vbar:"
   ]
  },
  {
   "cell_type": "code",
   "execution_count": 25,
   "metadata": {},
   "outputs": [
    {
     "data": {
      "text/html": [
       "\n",
       "  <div class=\"bk-root\" id=\"511a4143-ab7d-4266-92f0-fb175f3f58a6\" data-root-id=\"4300\"></div>\n"
      ]
     },
     "metadata": {},
     "output_type": "display_data"
    },
    {
     "data": {
      "application/javascript": [
       "(function(root) {\n",
       "  function embed_document(root) {\n",
       "  const docs_json = {\"0bfd4bc0-40a1-4891-b548-94f8a903734c\":{\"defs\":[],\"roots\":{\"references\":[{\"attributes\":{\"below\":[{\"id\":\"4310\"}],\"center\":[{\"id\":\"4312\"},{\"id\":\"4316\"}],\"height\":250,\"left\":[{\"id\":\"4313\"}],\"renderers\":[{\"id\":\"4322\"}],\"title\":{\"id\":\"4301\"},\"toolbar\":{\"id\":\"4317\"},\"toolbar_location\":null,\"x_range\":{\"id\":\"4299\"},\"x_scale\":{\"id\":\"4306\"},\"y_range\":{\"id\":\"4304\"},\"y_scale\":{\"id\":\"4308\"}},\"id\":\"4300\",\"subtype\":\"Figure\",\"type\":\"Plot\"},{\"attributes\":{\"fill_color\":{\"value\":\"#1f77b4\"},\"line_color\":{\"value\":\"#1f77b4\"},\"top\":{\"field\":\"counts\"},\"width\":{\"value\":0.9},\"x\":{\"field\":\"x\"}},\"id\":\"4319\",\"type\":\"VBar\"},{\"attributes\":{},\"id\":\"4308\",\"type\":\"LinearScale\"},{\"attributes\":{},\"id\":\"4311\",\"type\":\"CategoricalTicker\"},{\"attributes\":{\"factors\":[[\"Apples\",\"2015\"],[\"Apples\",\"2016\"],[\"Apples\",\"2017\"],[\"Pears\",\"2015\"],[\"Pears\",\"2016\"],[\"Pears\",\"2017\"],[\"Nectarines\",\"2015\"],[\"Nectarines\",\"2016\"],[\"Nectarines\",\"2017\"],[\"Plums\",\"2015\"],[\"Plums\",\"2016\"],[\"Plums\",\"2017\"],[\"Grapes\",\"2015\"],[\"Grapes\",\"2016\"],[\"Grapes\",\"2017\"],[\"Strawberries\",\"2015\"],[\"Strawberries\",\"2016\"],[\"Strawberries\",\"2017\"]],\"range_padding\":0.1},\"id\":\"4299\",\"type\":\"FactorRange\"},{\"attributes\":{\"start\":0},\"id\":\"4304\",\"type\":\"DataRange1d\"},{\"attributes\":{\"source\":{\"id\":\"4298\"}},\"id\":\"4323\",\"type\":\"CDSView\"},{\"attributes\":{\"axis\":{\"id\":\"4310\"},\"coordinates\":null,\"grid_line_color\":null,\"group\":null,\"ticker\":null},\"id\":\"4312\",\"type\":\"Grid\"},{\"attributes\":{\"coordinates\":null,\"formatter\":{\"id\":\"4519\"},\"group\":null,\"major_label_orientation\":1,\"major_label_policy\":{\"id\":\"4520\"},\"ticker\":{\"id\":\"4311\"}},\"id\":\"4310\",\"type\":\"CategoricalAxis\"},{\"attributes\":{},\"id\":\"4306\",\"type\":\"CategoricalScale\"},{\"attributes\":{\"coordinates\":null,\"group\":null,\"text\":\"Fruit Counts by Year\"},\"id\":\"4301\",\"type\":\"Title\"},{\"attributes\":{},\"id\":\"4520\",\"type\":\"AllLabels\"},{\"attributes\":{\"fill_alpha\":{\"value\":0.1},\"fill_color\":{\"value\":\"#1f77b4\"},\"hatch_alpha\":{\"value\":0.1},\"line_alpha\":{\"value\":0.1},\"line_color\":{\"value\":\"#1f77b4\"},\"top\":{\"field\":\"counts\"},\"width\":{\"value\":0.9},\"x\":{\"field\":\"x\"}},\"id\":\"4320\",\"type\":\"VBar\"},{\"attributes\":{},\"id\":\"4519\",\"type\":\"CategoricalTickFormatter\"},{\"attributes\":{\"fill_alpha\":{\"value\":0.2},\"fill_color\":{\"value\":\"#1f77b4\"},\"hatch_alpha\":{\"value\":0.2},\"line_alpha\":{\"value\":0.2},\"line_color\":{\"value\":\"#1f77b4\"},\"top\":{\"field\":\"counts\"},\"width\":{\"value\":0.9},\"x\":{\"field\":\"x\"}},\"id\":\"4321\",\"type\":\"VBar\"},{\"attributes\":{\"coordinates\":null,\"data_source\":{\"id\":\"4298\"},\"glyph\":{\"id\":\"4319\"},\"group\":null,\"hover_glyph\":null,\"muted_glyph\":{\"id\":\"4321\"},\"nonselection_glyph\":{\"id\":\"4320\"},\"view\":{\"id\":\"4323\"}},\"id\":\"4322\",\"type\":\"GlyphRenderer\"},{\"attributes\":{},\"id\":\"4317\",\"type\":\"Toolbar\"},{\"attributes\":{},\"id\":\"4314\",\"type\":\"BasicTicker\"},{\"attributes\":{\"axis\":{\"id\":\"4313\"},\"coordinates\":null,\"dimension\":1,\"group\":null,\"ticker\":null},\"id\":\"4316\",\"type\":\"Grid\"},{\"attributes\":{\"coordinates\":null,\"formatter\":{\"id\":\"4516\"},\"group\":null,\"major_label_policy\":{\"id\":\"4517\"},\"ticker\":{\"id\":\"4314\"}},\"id\":\"4313\",\"type\":\"LinearAxis\"},{\"attributes\":{},\"id\":\"4521\",\"type\":\"UnionRenderers\"},{\"attributes\":{},\"id\":\"4522\",\"type\":\"Selection\"},{\"attributes\":{\"data\":{\"counts\":[2,5,3,1,3,2,4,3,4,3,2,4,2,4,5,4,6,3],\"x\":[[\"Apples\",\"2015\"],[\"Apples\",\"2016\"],[\"Apples\",\"2017\"],[\"Pears\",\"2015\"],[\"Pears\",\"2016\"],[\"Pears\",\"2017\"],[\"Nectarines\",\"2015\"],[\"Nectarines\",\"2016\"],[\"Nectarines\",\"2017\"],[\"Plums\",\"2015\"],[\"Plums\",\"2016\"],[\"Plums\",\"2017\"],[\"Grapes\",\"2015\"],[\"Grapes\",\"2016\"],[\"Grapes\",\"2017\"],[\"Strawberries\",\"2015\"],[\"Strawberries\",\"2016\"],[\"Strawberries\",\"2017\"]]},\"selected\":{\"id\":\"4522\"},\"selection_policy\":{\"id\":\"4521\"}},\"id\":\"4298\",\"type\":\"ColumnDataSource\"},{\"attributes\":{},\"id\":\"4517\",\"type\":\"AllLabels\"},{\"attributes\":{},\"id\":\"4516\",\"type\":\"BasicTickFormatter\"}],\"root_ids\":[\"4300\"]},\"title\":\"Bokeh Application\",\"version\":\"2.4.3\"}};\n",
       "  const render_items = [{\"docid\":\"0bfd4bc0-40a1-4891-b548-94f8a903734c\",\"root_ids\":[\"4300\"],\"roots\":{\"4300\":\"511a4143-ab7d-4266-92f0-fb175f3f58a6\"}}];\n",
       "  root.Bokeh.embed.embed_items_notebook(docs_json, render_items);\n",
       "  }\n",
       "  if (root.Bokeh !== undefined) {\n",
       "    embed_document(root);\n",
       "  } else {\n",
       "    let attempts = 0;\n",
       "    const timer = setInterval(function(root) {\n",
       "      if (root.Bokeh !== undefined) {\n",
       "        clearInterval(timer);\n",
       "        embed_document(root);\n",
       "      } else {\n",
       "        attempts++;\n",
       "        if (attempts > 100) {\n",
       "          clearInterval(timer);\n",
       "          console.log(\"Bokeh: ERROR: Unable to run BokehJS code because BokehJS library is missing\");\n",
       "        }\n",
       "      }\n",
       "    }, 10, root)\n",
       "  }\n",
       "})(window);"
      ],
      "application/vnd.bokehjs_exec.v0+json": ""
     },
     "metadata": {
      "application/vnd.bokehjs_exec.v0+json": {
       "id": "4300"
      }
     },
     "output_type": "display_data"
    }
   ],
   "source": [
    "from bokeh.models import ColumnDataSource, FactorRange\n",
    "from bokeh.plotting import figure\n",
    "\n",
    "fruits = ['Apples', 'Pears', 'Nectarines', 'Plums', 'Grapes', 'Strawberries']\n",
    "years = ['2015', '2016', '2017']\n",
    "\n",
    "data = {'fruits' : fruits,\n",
    "        '2015'   : [2, 1, 4, 3, 2, 4],\n",
    "        '2016'   : [5, 3, 3, 2, 4, 6],\n",
    "        '2017'   : [3, 2, 4, 4, 5, 3]}\n",
    "\n",
    "# this creates [ (\"Apples\", \"2015\"), (\"Apples\", \"2016\"), (\"Apples\", \"2017\"), (\"Pears\", \"2015), ... ]\n",
    "x = [ (fruit, year) for fruit in fruits for year in years ]\n",
    "counts = sum(zip(data['2015'], data['2016'], data['2017']), ()) # like an hstack in numpy\n",
    "\n",
    "source = ColumnDataSource(data=dict(x=x, counts=counts))\n",
    "\n",
    "p = figure(x_range=FactorRange(*x), plot_height=250, title=\"Fruit Counts by Year\",\n",
    "           toolbar_location=None, tools=\"\")\n",
    "\n",
    "p.vbar(x='x', top='counts', width=0.9, source=source)\n",
    "\n",
    "p.y_range.start = 0\n",
    "p.x_range.range_padding = 0.1\n",
    "p.xaxis.major_label_orientation = 1\n",
    "p.xgrid.grid_line_color = None\n",
    "\n",
    "show(p)"
   ]
  },
  {
   "cell_type": "markdown",
   "metadata": {},
   "source": [
    "We can also apply a color mapping, similar to the earlier example. To obtain same grouped bar plot of fruits data as above, except with the bars shaded by the year, changethe vbar function call to use `factor_cmap` for the fill_color:"
   ]
  },
  {
   "cell_type": "code",
   "execution_count": 26,
   "metadata": {},
   "outputs": [
    {
     "data": {
      "text/html": [
       "\n",
       "  <div class=\"bk-root\" id=\"5a450396-3a84-422e-b38b-d4aa0d2b43da\" data-root-id=\"4300\"></div>\n"
      ]
     },
     "metadata": {},
     "output_type": "display_data"
    },
    {
     "data": {
      "application/javascript": [
       "(function(root) {\n",
       "  function embed_document(root) {\n",
       "  const docs_json = {\"2164d0de-4b5b-43b6-9a31-bfc08fad19df\":{\"defs\":[],\"roots\":{\"references\":[{\"attributes\":{\"below\":[{\"id\":\"4310\"}],\"center\":[{\"id\":\"4312\"},{\"id\":\"4316\"}],\"height\":250,\"left\":[{\"id\":\"4313\"}],\"renderers\":[{\"id\":\"4322\"},{\"id\":\"4573\"}],\"title\":{\"id\":\"4301\"},\"toolbar\":{\"id\":\"4317\"},\"toolbar_location\":null,\"x_range\":{\"id\":\"4299\"},\"x_scale\":{\"id\":\"4306\"},\"y_range\":{\"id\":\"4304\"},\"y_scale\":{\"id\":\"4308\"}},\"id\":\"4300\",\"subtype\":\"Figure\",\"type\":\"Plot\"},{\"attributes\":{\"fill_color\":{\"field\":\"x\",\"transform\":{\"id\":\"4568\"}},\"line_color\":{\"value\":\"white\"},\"top\":{\"field\":\"counts\"},\"width\":{\"value\":0.9},\"x\":{\"field\":\"x\"}},\"id\":\"4570\",\"type\":\"VBar\"},{\"attributes\":{\"fill_color\":{\"value\":\"#1f77b4\"},\"line_color\":{\"value\":\"#1f77b4\"},\"top\":{\"field\":\"counts\"},\"width\":{\"value\":0.9},\"x\":{\"field\":\"x\"}},\"id\":\"4319\",\"type\":\"VBar\"},{\"attributes\":{\"end\":2,\"factors\":[\"2015\",\"2016\",\"2017\"],\"palette\":[\"#5e4fa2\",\"#3288bd\",\"#66c2a5\",\"#abdda4\",\"#e6f598\",\"#fee08b\",\"#fdae61\",\"#f46d43\",\"#d53e4f\",\"#9e0142\"],\"start\":1},\"id\":\"4568\",\"type\":\"CategoricalColorMapper\"},{\"attributes\":{},\"id\":\"4308\",\"type\":\"LinearScale\"},{\"attributes\":{\"fill_alpha\":{\"value\":0.1},\"fill_color\":{\"field\":\"x\",\"transform\":{\"id\":\"4568\"}},\"hatch_alpha\":{\"value\":0.1},\"line_alpha\":{\"value\":0.1},\"line_color\":{\"value\":\"white\"},\"top\":{\"field\":\"counts\"},\"width\":{\"value\":0.9},\"x\":{\"field\":\"x\"}},\"id\":\"4571\",\"type\":\"VBar\"},{\"attributes\":{},\"id\":\"4311\",\"type\":\"CategoricalTicker\"},{\"attributes\":{\"factors\":[[\"Apples\",\"2015\"],[\"Apples\",\"2016\"],[\"Apples\",\"2017\"],[\"Pears\",\"2015\"],[\"Pears\",\"2016\"],[\"Pears\",\"2017\"],[\"Nectarines\",\"2015\"],[\"Nectarines\",\"2016\"],[\"Nectarines\",\"2017\"],[\"Plums\",\"2015\"],[\"Plums\",\"2016\"],[\"Plums\",\"2017\"],[\"Grapes\",\"2015\"],[\"Grapes\",\"2016\"],[\"Grapes\",\"2017\"],[\"Strawberries\",\"2015\"],[\"Strawberries\",\"2016\"],[\"Strawberries\",\"2017\"]],\"range_padding\":0.1},\"id\":\"4299\",\"type\":\"FactorRange\"},{\"attributes\":{\"start\":0},\"id\":\"4304\",\"type\":\"DataRange1d\"},{\"attributes\":{\"source\":{\"id\":\"4298\"}},\"id\":\"4323\",\"type\":\"CDSView\"},{\"attributes\":{\"axis\":{\"id\":\"4310\"},\"coordinates\":null,\"grid_line_color\":null,\"group\":null,\"ticker\":null},\"id\":\"4312\",\"type\":\"Grid\"},{\"attributes\":{\"coordinates\":null,\"formatter\":{\"id\":\"4519\"},\"group\":null,\"major_label_orientation\":1,\"major_label_policy\":{\"id\":\"4520\"},\"ticker\":{\"id\":\"4311\"}},\"id\":\"4310\",\"type\":\"CategoricalAxis\"},{\"attributes\":{},\"id\":\"4306\",\"type\":\"CategoricalScale\"},{\"attributes\":{\"coordinates\":null,\"group\":null,\"text\":\"Fruit Counts by Year\"},\"id\":\"4301\",\"type\":\"Title\"},{\"attributes\":{\"fill_alpha\":{\"value\":0.2},\"fill_color\":{\"field\":\"x\",\"transform\":{\"id\":\"4568\"}},\"hatch_alpha\":{\"value\":0.2},\"line_alpha\":{\"value\":0.2},\"line_color\":{\"value\":\"white\"},\"top\":{\"field\":\"counts\"},\"width\":{\"value\":0.9},\"x\":{\"field\":\"x\"}},\"id\":\"4572\",\"type\":\"VBar\"},{\"attributes\":{},\"id\":\"4520\",\"type\":\"AllLabels\"},{\"attributes\":{\"fill_alpha\":{\"value\":0.1},\"fill_color\":{\"value\":\"#1f77b4\"},\"hatch_alpha\":{\"value\":0.1},\"line_alpha\":{\"value\":0.1},\"line_color\":{\"value\":\"#1f77b4\"},\"top\":{\"field\":\"counts\"},\"width\":{\"value\":0.9},\"x\":{\"field\":\"x\"}},\"id\":\"4320\",\"type\":\"VBar\"},{\"attributes\":{\"source\":{\"id\":\"4298\"}},\"id\":\"4574\",\"type\":\"CDSView\"},{\"attributes\":{},\"id\":\"4519\",\"type\":\"CategoricalTickFormatter\"},{\"attributes\":{\"fill_alpha\":{\"value\":0.2},\"fill_color\":{\"value\":\"#1f77b4\"},\"hatch_alpha\":{\"value\":0.2},\"line_alpha\":{\"value\":0.2},\"line_color\":{\"value\":\"#1f77b4\"},\"top\":{\"field\":\"counts\"},\"width\":{\"value\":0.9},\"x\":{\"field\":\"x\"}},\"id\":\"4321\",\"type\":\"VBar\"},{\"attributes\":{\"coordinates\":null,\"data_source\":{\"id\":\"4298\"},\"glyph\":{\"id\":\"4319\"},\"group\":null,\"hover_glyph\":null,\"muted_glyph\":{\"id\":\"4321\"},\"nonselection_glyph\":{\"id\":\"4320\"},\"view\":{\"id\":\"4323\"}},\"id\":\"4322\",\"type\":\"GlyphRenderer\"},{\"attributes\":{},\"id\":\"4317\",\"type\":\"Toolbar\"},{\"attributes\":{},\"id\":\"4314\",\"type\":\"BasicTicker\"},{\"attributes\":{\"axis\":{\"id\":\"4313\"},\"coordinates\":null,\"dimension\":1,\"group\":null,\"ticker\":null},\"id\":\"4316\",\"type\":\"Grid\"},{\"attributes\":{\"coordinates\":null,\"formatter\":{\"id\":\"4516\"},\"group\":null,\"major_label_policy\":{\"id\":\"4517\"},\"ticker\":{\"id\":\"4314\"}},\"id\":\"4313\",\"type\":\"LinearAxis\"},{\"attributes\":{},\"id\":\"4521\",\"type\":\"UnionRenderers\"},{\"attributes\":{},\"id\":\"4522\",\"type\":\"Selection\"},{\"attributes\":{\"data\":{\"counts\":[2,5,3,1,3,2,4,3,4,3,2,4,2,4,5,4,6,3],\"x\":[[\"Apples\",\"2015\"],[\"Apples\",\"2016\"],[\"Apples\",\"2017\"],[\"Pears\",\"2015\"],[\"Pears\",\"2016\"],[\"Pears\",\"2017\"],[\"Nectarines\",\"2015\"],[\"Nectarines\",\"2016\"],[\"Nectarines\",\"2017\"],[\"Plums\",\"2015\"],[\"Plums\",\"2016\"],[\"Plums\",\"2017\"],[\"Grapes\",\"2015\"],[\"Grapes\",\"2016\"],[\"Grapes\",\"2017\"],[\"Strawberries\",\"2015\"],[\"Strawberries\",\"2016\"],[\"Strawberries\",\"2017\"]]},\"selected\":{\"id\":\"4522\"},\"selection_policy\":{\"id\":\"4521\"}},\"id\":\"4298\",\"type\":\"ColumnDataSource\"},{\"attributes\":{},\"id\":\"4517\",\"type\":\"AllLabels\"},{\"attributes\":{\"coordinates\":null,\"data_source\":{\"id\":\"4298\"},\"glyph\":{\"id\":\"4570\"},\"group\":null,\"hover_glyph\":null,\"muted_glyph\":{\"id\":\"4572\"},\"nonselection_glyph\":{\"id\":\"4571\"},\"view\":{\"id\":\"4574\"}},\"id\":\"4573\",\"type\":\"GlyphRenderer\"},{\"attributes\":{},\"id\":\"4516\",\"type\":\"BasicTickFormatter\"}],\"root_ids\":[\"4300\"]},\"title\":\"Bokeh Application\",\"version\":\"2.4.3\"}};\n",
       "  const render_items = [{\"docid\":\"2164d0de-4b5b-43b6-9a31-bfc08fad19df\",\"root_ids\":[\"4300\"],\"roots\":{\"4300\":\"5a450396-3a84-422e-b38b-d4aa0d2b43da\"}}];\n",
       "  root.Bokeh.embed.embed_items_notebook(docs_json, render_items);\n",
       "  }\n",
       "  if (root.Bokeh !== undefined) {\n",
       "    embed_document(root);\n",
       "  } else {\n",
       "    let attempts = 0;\n",
       "    const timer = setInterval(function(root) {\n",
       "      if (root.Bokeh !== undefined) {\n",
       "        clearInterval(timer);\n",
       "        embed_document(root);\n",
       "      } else {\n",
       "        attempts++;\n",
       "        if (attempts > 100) {\n",
       "          clearInterval(timer);\n",
       "          console.log(\"Bokeh: ERROR: Unable to run BokehJS code because BokehJS library is missing\");\n",
       "        }\n",
       "      }\n",
       "    }, 10, root)\n",
       "  }\n",
       "})(window);"
      ],
      "application/vnd.bokehjs_exec.v0+json": ""
     },
     "metadata": {
      "application/vnd.bokehjs_exec.v0+json": {
       "id": "4300"
      }
     },
     "output_type": "display_data"
    }
   ],
   "source": [
    "from bokeh.transform import factor_cmap\n",
    "from bokeh.palettes import Spectral10\n",
    "\n",
    "# use the palette to colormap based on the the x[1:2] values\n",
    "p.vbar(x='x', top='counts', width=0.9, source=source, line_color=\"white\",\n",
    "       fill_color=factor_cmap('x', palette=Spectral10, factors=years, start=1, end=2))\n",
    "show(p)"
   ]
  },
  {
   "cell_type": "code",
   "execution_count": 27,
   "metadata": {},
   "outputs": [
    {
     "data": {
      "text/html": [
       "\n",
       "  <div class=\"bk-root\" id=\"3882b75a-7314-49f1-bf0f-5c52e57fe832\" data-root-id=\"4300\"></div>\n"
      ]
     },
     "metadata": {},
     "output_type": "display_data"
    },
    {
     "data": {
      "application/javascript": [
       "(function(root) {\n",
       "  function embed_document(root) {\n",
       "  const docs_json = {\"b43a84a4-1476-4693-8c8d-363b96cbf010\":{\"defs\":[],\"roots\":{\"references\":[{\"attributes\":{\"below\":[{\"id\":\"4310\"}],\"center\":[{\"id\":\"4312\"},{\"id\":\"4316\"}],\"height\":250,\"left\":[{\"id\":\"4313\"}],\"renderers\":[{\"id\":\"4322\"},{\"id\":\"4573\"},{\"id\":\"4824\"}],\"title\":{\"id\":\"4301\"},\"toolbar\":{\"id\":\"4317\"},\"toolbar_location\":null,\"x_range\":{\"id\":\"4299\"},\"x_scale\":{\"id\":\"4306\"},\"y_range\":{\"id\":\"4304\"},\"y_scale\":{\"id\":\"4308\"}},\"id\":\"4300\",\"subtype\":\"Figure\",\"type\":\"Plot\"},{\"attributes\":{\"fill_color\":{\"field\":\"x\",\"transform\":{\"id\":\"4568\"}},\"line_color\":{\"value\":\"white\"},\"top\":{\"field\":\"counts\"},\"width\":{\"value\":0.9},\"x\":{\"field\":\"x\"}},\"id\":\"4570\",\"type\":\"VBar\"},{\"attributes\":{\"fill_color\":{\"value\":\"#1f77b4\"},\"line_color\":{\"value\":\"#1f77b4\"},\"top\":{\"field\":\"counts\"},\"width\":{\"value\":0.9},\"x\":{\"field\":\"x\"}},\"id\":\"4319\",\"type\":\"VBar\"},{\"attributes\":{\"coordinates\":null,\"data_source\":{\"id\":\"4298\"},\"glyph\":{\"id\":\"4821\"},\"group\":null,\"hover_glyph\":null,\"muted_glyph\":{\"id\":\"4823\"},\"nonselection_glyph\":{\"id\":\"4822\"},\"view\":{\"id\":\"4825\"}},\"id\":\"4824\",\"type\":\"GlyphRenderer\"},{\"attributes\":{\"source\":{\"id\":\"4298\"}},\"id\":\"4825\",\"type\":\"CDSView\"},{\"attributes\":{\"end\":2,\"factors\":[\"2015\",\"2016\",\"2017\"],\"palette\":[\"#5e4fa2\",\"#3288bd\",\"#66c2a5\",\"#abdda4\",\"#e6f598\",\"#fee08b\",\"#fdae61\",\"#f46d43\",\"#d53e4f\",\"#9e0142\"],\"start\":1},\"id\":\"4568\",\"type\":\"CategoricalColorMapper\"},{\"attributes\":{},\"id\":\"4308\",\"type\":\"LinearScale\"},{\"attributes\":{\"fill_alpha\":{\"value\":0.1},\"fill_color\":{\"field\":\"x\",\"transform\":{\"id\":\"4568\"}},\"hatch_alpha\":{\"value\":0.1},\"line_alpha\":{\"value\":0.1},\"line_color\":{\"value\":\"white\"},\"top\":{\"field\":\"counts\"},\"width\":{\"value\":0.9},\"x\":{\"field\":\"x\"}},\"id\":\"4571\",\"type\":\"VBar\"},{\"attributes\":{},\"id\":\"4311\",\"type\":\"CategoricalTicker\"},{\"attributes\":{\"factors\":[[\"Apples\",\"2015\"],[\"Apples\",\"2016\"],[\"Apples\",\"2017\"],[\"Pears\",\"2015\"],[\"Pears\",\"2016\"],[\"Pears\",\"2017\"],[\"Nectarines\",\"2015\"],[\"Nectarines\",\"2016\"],[\"Nectarines\",\"2017\"],[\"Plums\",\"2015\"],[\"Plums\",\"2016\"],[\"Plums\",\"2017\"],[\"Grapes\",\"2015\"],[\"Grapes\",\"2016\"],[\"Grapes\",\"2017\"],[\"Strawberries\",\"2015\"],[\"Strawberries\",\"2016\"],[\"Strawberries\",\"2017\"]],\"range_padding\":0.1},\"id\":\"4299\",\"type\":\"FactorRange\"},{\"attributes\":{\"start\":0},\"id\":\"4304\",\"type\":\"DataRange1d\"},{\"attributes\":{\"source\":{\"id\":\"4298\"}},\"id\":\"4323\",\"type\":\"CDSView\"},{\"attributes\":{\"axis\":{\"id\":\"4310\"},\"coordinates\":null,\"grid_line_color\":null,\"group\":null,\"ticker\":null},\"id\":\"4312\",\"type\":\"Grid\"},{\"attributes\":{\"coordinates\":null,\"formatter\":{\"id\":\"4519\"},\"group\":null,\"major_label_orientation\":1,\"major_label_policy\":{\"id\":\"4520\"},\"ticker\":{\"id\":\"4311\"}},\"id\":\"4310\",\"type\":\"CategoricalAxis\"},{\"attributes\":{},\"id\":\"4306\",\"type\":\"CategoricalScale\"},{\"attributes\":{\"coordinates\":null,\"group\":null,\"text\":\"Fruit Counts by Year\"},\"id\":\"4301\",\"type\":\"Title\"},{\"attributes\":{\"fill_alpha\":{\"value\":0.2},\"fill_color\":{\"field\":\"x\",\"transform\":{\"id\":\"4568\"}},\"hatch_alpha\":{\"value\":0.2},\"line_alpha\":{\"value\":0.2},\"line_color\":{\"value\":\"white\"},\"top\":{\"field\":\"counts\"},\"width\":{\"value\":0.9},\"x\":{\"field\":\"x\"}},\"id\":\"4572\",\"type\":\"VBar\"},{\"attributes\":{},\"id\":\"4520\",\"type\":\"AllLabels\"},{\"attributes\":{\"fill_alpha\":{\"value\":0.1},\"fill_color\":{\"value\":\"#1f77b4\"},\"hatch_alpha\":{\"value\":0.1},\"line_alpha\":{\"value\":0.1},\"line_color\":{\"value\":\"#1f77b4\"},\"top\":{\"field\":\"counts\"},\"width\":{\"value\":0.9},\"x\":{\"field\":\"x\"}},\"id\":\"4320\",\"type\":\"VBar\"},{\"attributes\":{\"source\":{\"id\":\"4298\"}},\"id\":\"4574\",\"type\":\"CDSView\"},{\"attributes\":{},\"id\":\"4519\",\"type\":\"CategoricalTickFormatter\"},{\"attributes\":{\"fill_alpha\":{\"value\":0.2},\"fill_color\":{\"value\":\"#1f77b4\"},\"hatch_alpha\":{\"value\":0.2},\"line_alpha\":{\"value\":0.2},\"line_color\":{\"value\":\"#1f77b4\"},\"top\":{\"field\":\"counts\"},\"width\":{\"value\":0.9},\"x\":{\"field\":\"x\"}},\"id\":\"4321\",\"type\":\"VBar\"},{\"attributes\":{\"coordinates\":null,\"data_source\":{\"id\":\"4298\"},\"glyph\":{\"id\":\"4319\"},\"group\":null,\"hover_glyph\":null,\"muted_glyph\":{\"id\":\"4321\"},\"nonselection_glyph\":{\"id\":\"4320\"},\"view\":{\"id\":\"4323\"}},\"id\":\"4322\",\"type\":\"GlyphRenderer\"},{\"attributes\":{},\"id\":\"4317\",\"type\":\"Toolbar\"},{\"attributes\":{},\"id\":\"4314\",\"type\":\"BasicTicker\"},{\"attributes\":{\"axis\":{\"id\":\"4313\"},\"coordinates\":null,\"dimension\":1,\"group\":null,\"ticker\":null},\"id\":\"4316\",\"type\":\"Grid\"},{\"attributes\":{\"fill_color\":{\"field\":\"x\",\"transform\":{\"id\":\"4819\"}},\"line_color\":{\"value\":\"white\"},\"top\":{\"field\":\"counts\"},\"width\":{\"value\":0.9},\"x\":{\"field\":\"x\"}},\"id\":\"4821\",\"type\":\"VBar\"},{\"attributes\":{\"fill_alpha\":{\"value\":0.1},\"fill_color\":{\"field\":\"x\",\"transform\":{\"id\":\"4819\"}},\"hatch_alpha\":{\"value\":0.1},\"line_alpha\":{\"value\":0.1},\"line_color\":{\"value\":\"white\"},\"top\":{\"field\":\"counts\"},\"width\":{\"value\":0.9},\"x\":{\"field\":\"x\"}},\"id\":\"4822\",\"type\":\"VBar\"},{\"attributes\":{\"coordinates\":null,\"formatter\":{\"id\":\"4516\"},\"group\":null,\"major_label_policy\":{\"id\":\"4517\"},\"ticker\":{\"id\":\"4314\"}},\"id\":\"4313\",\"type\":\"LinearAxis\"},{\"attributes\":{},\"id\":\"4521\",\"type\":\"UnionRenderers\"},{\"attributes\":{},\"id\":\"4522\",\"type\":\"Selection\"},{\"attributes\":{\"data\":{\"counts\":[2,5,3,1,3,2,4,3,4,3,2,4,2,4,5,4,6,3],\"x\":[[\"Apples\",\"2015\"],[\"Apples\",\"2016\"],[\"Apples\",\"2017\"],[\"Pears\",\"2015\"],[\"Pears\",\"2016\"],[\"Pears\",\"2017\"],[\"Nectarines\",\"2015\"],[\"Nectarines\",\"2016\"],[\"Nectarines\",\"2017\"],[\"Plums\",\"2015\"],[\"Plums\",\"2016\"],[\"Plums\",\"2017\"],[\"Grapes\",\"2015\"],[\"Grapes\",\"2016\"],[\"Grapes\",\"2017\"],[\"Strawberries\",\"2015\"],[\"Strawberries\",\"2016\"],[\"Strawberries\",\"2017\"]]},\"selected\":{\"id\":\"4522\"},\"selection_policy\":{\"id\":\"4521\"}},\"id\":\"4298\",\"type\":\"ColumnDataSource\"},{\"attributes\":{},\"id\":\"4517\",\"type\":\"AllLabels\"},{\"attributes\":{\"end\":2,\"factors\":[\"2015\",\"2016\",\"2017\"],\"palette\":[\"#deebf7\",\"#9ecae1\",\"#3182bd\"],\"start\":1},\"id\":\"4819\",\"type\":\"CategoricalColorMapper\"},{\"attributes\":{\"fill_alpha\":{\"value\":0.2},\"fill_color\":{\"field\":\"x\",\"transform\":{\"id\":\"4819\"}},\"hatch_alpha\":{\"value\":0.2},\"line_alpha\":{\"value\":0.2},\"line_color\":{\"value\":\"white\"},\"top\":{\"field\":\"counts\"},\"width\":{\"value\":0.9},\"x\":{\"field\":\"x\"}},\"id\":\"4823\",\"type\":\"VBar\"},{\"attributes\":{\"coordinates\":null,\"data_source\":{\"id\":\"4298\"},\"glyph\":{\"id\":\"4570\"},\"group\":null,\"hover_glyph\":null,\"muted_glyph\":{\"id\":\"4572\"},\"nonselection_glyph\":{\"id\":\"4571\"},\"view\":{\"id\":\"4574\"}},\"id\":\"4573\",\"type\":\"GlyphRenderer\"},{\"attributes\":{},\"id\":\"4516\",\"type\":\"BasicTickFormatter\"}],\"root_ids\":[\"4300\"]},\"title\":\"Bokeh Application\",\"version\":\"2.4.3\"}};\n",
       "  const render_items = [{\"docid\":\"b43a84a4-1476-4693-8c8d-363b96cbf010\",\"root_ids\":[\"4300\"],\"roots\":{\"4300\":\"3882b75a-7314-49f1-bf0f-5c52e57fe832\"}}];\n",
       "  root.Bokeh.embed.embed_items_notebook(docs_json, render_items);\n",
       "  }\n",
       "  if (root.Bokeh !== undefined) {\n",
       "    embed_document(root);\n",
       "  } else {\n",
       "    let attempts = 0;\n",
       "    const timer = setInterval(function(root) {\n",
       "      if (root.Bokeh !== undefined) {\n",
       "        clearInterval(timer);\n",
       "        embed_document(root);\n",
       "      } else {\n",
       "        attempts++;\n",
       "        if (attempts > 100) {\n",
       "          clearInterval(timer);\n",
       "          console.log(\"Bokeh: ERROR: Unable to run BokehJS code because BokehJS library is missing\");\n",
       "        }\n",
       "      }\n",
       "    }, 10, root)\n",
       "  }\n",
       "})(window);"
      ],
      "application/vnd.bokehjs_exec.v0+json": ""
     },
     "metadata": {
      "application/vnd.bokehjs_exec.v0+json": {
       "id": "4300"
      }
     },
     "output_type": "display_data"
    }
   ],
   "source": [
    "from bokeh.transform import factor_cmap\n",
    "from bokeh.palettes import Blues3\n",
    "\n",
    "# use the palette to colormap based on the the x[1:2] values\n",
    "p.vbar(x='x', top='counts', width=0.9, source=source, line_color=\"white\",\n",
    "       fill_color=factor_cmap('x', palette=Blues3[::-1], factors=years, start=1, end=2))\n",
    "show(p)"
   ]
  },
  {
   "cell_type": "markdown",
   "metadata": {},
   "source": [
    "Another method for achieving grouped bars is to explicitly specify a visual displacement for the bars. Such a visual offset is also referred to as a dodge.\n",
    "\n",
    "In this scenario, our data is not “tidy”. Instead a single table with rows indexed by factors (fruit, year), we have separate series for each year. We can plot all the year series using separate calls to vbar but since every bar in each group has the same fruit factor, the bars would overlap visually. We can prevent this overlap and distinguish the bars visually by using the dodge() function to provide an offset for each different call to vbar:"
   ]
  },
  {
   "cell_type": "code",
   "execution_count": 28,
   "metadata": {},
   "outputs": [
    {
     "data": {
      "text/html": [
       "\n",
       "  <div class=\"bk-root\" id=\"c0c96cd9-cec0-4821-b4be-77ed83e8a46e\" data-root-id=\"5071\"></div>\n"
      ]
     },
     "metadata": {},
     "output_type": "display_data"
    },
    {
     "data": {
      "application/javascript": [
       "(function(root) {\n",
       "  function embed_document(root) {\n",
       "  const docs_json = {\"aa980921-a5a9-4809-8763-237f2a175402\":{\"defs\":[],\"roots\":{\"references\":[{\"attributes\":{\"below\":[{\"id\":\"5082\"}],\"center\":[{\"id\":\"5084\"},{\"id\":\"5088\"},{\"id\":\"5106\"}],\"height\":250,\"left\":[{\"id\":\"5085\"}],\"renderers\":[{\"id\":\"5095\"},{\"id\":\"5113\"},{\"id\":\"5130\"}],\"title\":{\"id\":\"5072\"},\"toolbar\":{\"id\":\"5089\"},\"toolbar_location\":null,\"x_range\":{\"id\":\"5074\"},\"x_scale\":{\"id\":\"5078\"},\"y_range\":{\"id\":\"5076\"},\"y_scale\":{\"id\":\"5080\"}},\"id\":\"5071\",\"subtype\":\"Figure\",\"type\":\"Plot\"},{\"attributes\":{\"fill_color\":{\"value\":\"#e84d60\"},\"hatch_color\":{\"value\":\"#e84d60\"},\"line_color\":{\"value\":\"#e84d60\"},\"top\":{\"field\":\"2017\"},\"width\":{\"value\":0.2},\"x\":{\"field\":\"fruits\",\"transform\":{\"id\":\"5125\"}}},\"id\":\"5127\",\"type\":\"VBar\"},{\"attributes\":{\"fill_alpha\":{\"value\":0.2},\"fill_color\":{\"value\":\"#c9d9d3\"},\"hatch_alpha\":{\"value\":0.2},\"hatch_color\":{\"value\":\"#c9d9d3\"},\"line_alpha\":{\"value\":0.2},\"line_color\":{\"value\":\"#c9d9d3\"},\"top\":{\"field\":\"2015\"},\"width\":{\"value\":0.2},\"x\":{\"field\":\"fruits\",\"transform\":{\"id\":\"5090\"}}},\"id\":\"5094\",\"type\":\"VBar\"},{\"attributes\":{},\"id\":\"5103\",\"type\":\"AllLabels\"},{\"attributes\":{\"label\":{\"value\":\"2017\"},\"renderers\":[{\"id\":\"5130\"}]},\"id\":\"5141\",\"type\":\"LegendItem\"},{\"attributes\":{},\"id\":\"5100\",\"type\":\"AllLabels\"},{\"attributes\":{\"fill_alpha\":{\"value\":0.2},\"fill_color\":{\"value\":\"#718dbf\"},\"hatch_alpha\":{\"value\":0.2},\"hatch_color\":{\"value\":\"#718dbf\"},\"line_alpha\":{\"value\":0.2},\"line_color\":{\"value\":\"#718dbf\"},\"top\":{\"field\":\"2016\"},\"width\":{\"value\":0.2},\"x\":{\"field\":\"fruits\",\"transform\":{\"id\":\"5108\"}}},\"id\":\"5112\",\"type\":\"VBar\"},{\"attributes\":{\"fill_alpha\":{\"value\":0.2},\"fill_color\":{\"value\":\"#e84d60\"},\"hatch_alpha\":{\"value\":0.2},\"hatch_color\":{\"value\":\"#e84d60\"},\"line_alpha\":{\"value\":0.2},\"line_color\":{\"value\":\"#e84d60\"},\"top\":{\"field\":\"2017\"},\"width\":{\"value\":0.2},\"x\":{\"field\":\"fruits\",\"transform\":{\"id\":\"5125\"}}},\"id\":\"5129\",\"type\":\"VBar\"},{\"attributes\":{},\"id\":\"5102\",\"type\":\"CategoricalTickFormatter\"},{\"attributes\":{},\"id\":\"5099\",\"type\":\"BasicTickFormatter\"},{\"attributes\":{},\"id\":\"5086\",\"type\":\"BasicTicker\"},{\"attributes\":{\"axis\":{\"id\":\"5085\"},\"coordinates\":null,\"dimension\":1,\"group\":null,\"ticker\":null},\"id\":\"5088\",\"type\":\"Grid\"},{\"attributes\":{\"coordinates\":null,\"data_source\":{\"id\":\"5070\"},\"glyph\":{\"id\":\"5127\"},\"group\":null,\"hover_glyph\":null,\"muted_glyph\":{\"id\":\"5129\"},\"nonselection_glyph\":{\"id\":\"5128\"},\"view\":{\"id\":\"5131\"}},\"id\":\"5130\",\"type\":\"GlyphRenderer\"},{\"attributes\":{\"axis\":{\"id\":\"5082\"},\"coordinates\":null,\"grid_line_color\":null,\"group\":null,\"ticker\":null},\"id\":\"5084\",\"type\":\"Grid\"},{\"attributes\":{\"source\":{\"id\":\"5070\"}},\"id\":\"5114\",\"type\":\"CDSView\"},{\"attributes\":{\"coordinates\":null,\"data_source\":{\"id\":\"5070\"},\"glyph\":{\"id\":\"5110\"},\"group\":null,\"hover_glyph\":null,\"muted_glyph\":{\"id\":\"5112\"},\"nonselection_glyph\":{\"id\":\"5111\"},\"view\":{\"id\":\"5114\"}},\"id\":\"5113\",\"type\":\"GlyphRenderer\"},{\"attributes\":{},\"id\":\"5089\",\"type\":\"Toolbar\"},{\"attributes\":{\"factors\":[\"Apples\",\"Pears\",\"Nectarines\",\"Plums\",\"Grapes\",\"Strawberries\"],\"range_padding\":0.1},\"id\":\"5074\",\"type\":\"FactorRange\"},{\"attributes\":{\"data\":{\"2015\":[2,1,4,3,2,4],\"2016\":[5,3,3,2,4,6],\"2017\":[3,2,4,4,5,3],\"fruits\":[\"Apples\",\"Pears\",\"Nectarines\",\"Plums\",\"Grapes\",\"Strawberries\"]},\"selected\":{\"id\":\"5105\"},\"selection_policy\":{\"id\":\"5104\"}},\"id\":\"5070\",\"type\":\"ColumnDataSource\"},{\"attributes\":{\"fill_alpha\":{\"value\":0.1},\"fill_color\":{\"value\":\"#e84d60\"},\"hatch_alpha\":{\"value\":0.1},\"hatch_color\":{\"value\":\"#e84d60\"},\"line_alpha\":{\"value\":0.1},\"line_color\":{\"value\":\"#e84d60\"},\"top\":{\"field\":\"2017\"},\"width\":{\"value\":0.2},\"x\":{\"field\":\"fruits\",\"transform\":{\"id\":\"5125\"}}},\"id\":\"5128\",\"type\":\"VBar\"},{\"attributes\":{},\"id\":\"5078\",\"type\":\"CategoricalScale\"},{\"attributes\":{},\"id\":\"5083\",\"type\":\"CategoricalTicker\"},{\"attributes\":{\"range\":{\"id\":\"5074\"}},\"id\":\"5108\",\"type\":\"Dodge\"},{\"attributes\":{\"coordinates\":null,\"group\":null,\"text\":\"Fruit Counts by Year\"},\"id\":\"5072\",\"type\":\"Title\"},{\"attributes\":{},\"id\":\"5080\",\"type\":\"LinearScale\"},{\"attributes\":{\"source\":{\"id\":\"5070\"}},\"id\":\"5096\",\"type\":\"CDSView\"},{\"attributes\":{\"fill_color\":{\"value\":\"#c9d9d3\"},\"hatch_color\":{\"value\":\"#c9d9d3\"},\"line_color\":{\"value\":\"#c9d9d3\"},\"top\":{\"field\":\"2015\"},\"width\":{\"value\":0.2},\"x\":{\"field\":\"fruits\",\"transform\":{\"id\":\"5090\"}}},\"id\":\"5092\",\"type\":\"VBar\"},{\"attributes\":{\"end\":10},\"id\":\"5076\",\"type\":\"Range1d\"},{\"attributes\":{\"fill_alpha\":{\"value\":0.1},\"fill_color\":{\"value\":\"#718dbf\"},\"hatch_alpha\":{\"value\":0.1},\"hatch_color\":{\"value\":\"#718dbf\"},\"line_alpha\":{\"value\":0.1},\"line_color\":{\"value\":\"#718dbf\"},\"top\":{\"field\":\"2016\"},\"width\":{\"value\":0.2},\"x\":{\"field\":\"fruits\",\"transform\":{\"id\":\"5108\"}}},\"id\":\"5111\",\"type\":\"VBar\"},{\"attributes\":{\"range\":{\"id\":\"5074\"},\"value\":0.25},\"id\":\"5125\",\"type\":\"Dodge\"},{\"attributes\":{\"coordinates\":null,\"formatter\":{\"id\":\"5099\"},\"group\":null,\"major_label_policy\":{\"id\":\"5100\"},\"ticker\":{\"id\":\"5086\"}},\"id\":\"5085\",\"type\":\"LinearAxis\"},{\"attributes\":{\"label\":{\"value\":\"2016\"},\"renderers\":[{\"id\":\"5113\"}]},\"id\":\"5124\",\"type\":\"LegendItem\"},{\"attributes\":{\"label\":{\"value\":\"2015\"},\"renderers\":[{\"id\":\"5095\"}]},\"id\":\"5107\",\"type\":\"LegendItem\"},{\"attributes\":{\"coordinates\":null,\"formatter\":{\"id\":\"5102\"},\"group\":null,\"major_label_policy\":{\"id\":\"5103\"},\"ticker\":{\"id\":\"5083\"}},\"id\":\"5082\",\"type\":\"CategoricalAxis\"},{\"attributes\":{\"fill_alpha\":{\"value\":0.1},\"fill_color\":{\"value\":\"#c9d9d3\"},\"hatch_alpha\":{\"value\":0.1},\"hatch_color\":{\"value\":\"#c9d9d3\"},\"line_alpha\":{\"value\":0.1},\"line_color\":{\"value\":\"#c9d9d3\"},\"top\":{\"field\":\"2015\"},\"width\":{\"value\":0.2},\"x\":{\"field\":\"fruits\",\"transform\":{\"id\":\"5090\"}}},\"id\":\"5093\",\"type\":\"VBar\"},{\"attributes\":{},\"id\":\"5104\",\"type\":\"UnionRenderers\"},{\"attributes\":{\"source\":{\"id\":\"5070\"}},\"id\":\"5131\",\"type\":\"CDSView\"},{\"attributes\":{},\"id\":\"5105\",\"type\":\"Selection\"},{\"attributes\":{\"coordinates\":null,\"data_source\":{\"id\":\"5070\"},\"glyph\":{\"id\":\"5092\"},\"group\":null,\"hover_glyph\":null,\"muted_glyph\":{\"id\":\"5094\"},\"nonselection_glyph\":{\"id\":\"5093\"},\"view\":{\"id\":\"5096\"}},\"id\":\"5095\",\"type\":\"GlyphRenderer\"},{\"attributes\":{\"fill_color\":{\"value\":\"#718dbf\"},\"hatch_color\":{\"value\":\"#718dbf\"},\"line_color\":{\"value\":\"#718dbf\"},\"top\":{\"field\":\"2016\"},\"width\":{\"value\":0.2},\"x\":{\"field\":\"fruits\",\"transform\":{\"id\":\"5108\"}}},\"id\":\"5110\",\"type\":\"VBar\"},{\"attributes\":{\"range\":{\"id\":\"5074\"},\"value\":-0.25},\"id\":\"5090\",\"type\":\"Dodge\"},{\"attributes\":{\"coordinates\":null,\"group\":null,\"items\":[{\"id\":\"5107\"},{\"id\":\"5124\"},{\"id\":\"5141\"}],\"location\":\"top_left\",\"orientation\":\"horizontal\"},\"id\":\"5106\",\"type\":\"Legend\"}],\"root_ids\":[\"5071\"]},\"title\":\"Bokeh Application\",\"version\":\"2.4.3\"}};\n",
       "  const render_items = [{\"docid\":\"aa980921-a5a9-4809-8763-237f2a175402\",\"root_ids\":[\"5071\"],\"roots\":{\"5071\":\"c0c96cd9-cec0-4821-b4be-77ed83e8a46e\"}}];\n",
       "  root.Bokeh.embed.embed_items_notebook(docs_json, render_items);\n",
       "  }\n",
       "  if (root.Bokeh !== undefined) {\n",
       "    embed_document(root);\n",
       "  } else {\n",
       "    let attempts = 0;\n",
       "    const timer = setInterval(function(root) {\n",
       "      if (root.Bokeh !== undefined) {\n",
       "        clearInterval(timer);\n",
       "        embed_document(root);\n",
       "      } else {\n",
       "        attempts++;\n",
       "        if (attempts > 100) {\n",
       "          clearInterval(timer);\n",
       "          console.log(\"Bokeh: ERROR: Unable to run BokehJS code because BokehJS library is missing\");\n",
       "        }\n",
       "      }\n",
       "    }, 10, root)\n",
       "  }\n",
       "})(window);"
      ],
      "application/vnd.bokehjs_exec.v0+json": ""
     },
     "metadata": {
      "application/vnd.bokehjs_exec.v0+json": {
       "id": "5071"
      }
     },
     "output_type": "display_data"
    }
   ],
   "source": [
    "from bokeh.core.properties import value\n",
    "from bokeh.models import ColumnDataSource\n",
    "from bokeh.transform import dodge\n",
    "\n",
    "fruits = ['Apples', 'Pears', 'Nectarines', 'Plums', 'Grapes', 'Strawberries']\n",
    "years = ['2015', '2016', '2017']\n",
    "\n",
    "data = {'fruits' : fruits,\n",
    "        '2015'   : [2, 1, 4, 3, 2, 4],\n",
    "        '2016'   : [5, 3, 3, 2, 4, 6],\n",
    "        '2017'   : [3, 2, 4, 4, 5, 3]}\n",
    "\n",
    "source = ColumnDataSource(data=data)\n",
    "\n",
    "p = figure(x_range=fruits, y_range=(0, 10), plot_height=250, title=\"Fruit Counts by Year\",\n",
    "           toolbar_location=None, tools=\"\")\n",
    "\n",
    "p.vbar(x=dodge('fruits', -0.25, range=p.x_range), top='2015', width=0.2, source=source,\n",
    "       color=\"#c9d9d3\", legend_label=\"2015\")\n",
    "\n",
    "p.vbar(x=dodge('fruits',  0.0,  range=p.x_range), top='2016', width=0.2, source=source,\n",
    "       color=\"#718dbf\", legend_label=\"2016\")\n",
    "\n",
    "p.vbar(x=dodge('fruits',  0.25, range=p.x_range), top='2017', width=0.2, source=source,\n",
    "       color=\"#e84d60\", legend_label=\"2017\")\n",
    "\n",
    "p.x_range.range_padding = 0.1\n",
    "p.xgrid.grid_line_color = None\n",
    "p.legend.location = \"top_left\"\n",
    "p.legend.orientation = \"horizontal\"\n",
    "\n",
    "show(p)"
   ]
  },
  {
   "cell_type": "markdown",
   "metadata": {},
   "source": [
    "Another common operation or bar charts is to stack bars on top of one another. Bokeh makes this easy to do with the specialized hbar_stack() and vbar_stack() functions. The example below shows the fruits data from above, but with the bars for each fruit type stacked instead of grouped:"
   ]
  },
  {
   "cell_type": "code",
   "execution_count": 29,
   "metadata": {},
   "outputs": [
    {
     "data": {
      "text/html": [
       "\n",
       "  <div class=\"bk-root\" id=\"28a78a14-b9ab-441a-a7a9-21d231dd76dc\" data-root-id=\"5396\"></div>\n"
      ]
     },
     "metadata": {},
     "output_type": "display_data"
    },
    {
     "data": {
      "application/javascript": [
       "(function(root) {\n",
       "  function embed_document(root) {\n",
       "  const docs_json = {\"38b4d606-ce27-41d4-b9a8-2449d3d1e93d\":{\"defs\":[],\"roots\":{\"references\":[{\"attributes\":{\"below\":[{\"id\":\"5407\"}],\"center\":[{\"id\":\"5409\"},{\"id\":\"5413\"},{\"id\":\"5436\"}],\"height\":250,\"left\":[{\"id\":\"5410\"}],\"outline_line_color\":null,\"renderers\":[{\"id\":\"5425\"},{\"id\":\"5442\"},{\"id\":\"5458\"}],\"title\":{\"id\":\"5397\"},\"toolbar\":{\"id\":\"5414\"},\"toolbar_location\":null,\"x_range\":{\"id\":\"5399\"},\"x_scale\":{\"id\":\"5403\"},\"y_range\":{\"id\":\"5401\"},\"y_scale\":{\"id\":\"5405\"}},\"id\":\"5396\",\"subtype\":\"Figure\",\"type\":\"Plot\"},{\"attributes\":{},\"id\":\"5414\",\"type\":\"Toolbar\"},{\"attributes\":{\"bottom\":{\"expr\":{\"id\":\"5415\"}},\"fill_alpha\":{\"value\":0.2},\"fill_color\":{\"value\":\"#c9d9d3\"},\"hatch_alpha\":{\"value\":0.2},\"hatch_color\":{\"value\":\"#c9d9d3\"},\"line_alpha\":{\"value\":0.2},\"line_color\":{\"value\":\"#c9d9d3\"},\"top\":{\"expr\":{\"id\":\"5416\"}},\"width\":{\"value\":0.9},\"x\":{\"field\":\"fruits\"}},\"id\":\"5424\",\"type\":\"VBar\"},{\"attributes\":{},\"id\":\"5433\",\"type\":\"AllLabels\"},{\"attributes\":{\"fields\":[]},\"id\":\"5415\",\"type\":\"Stack\"},{\"attributes\":{\"start\":0},\"id\":\"5401\",\"type\":\"DataRange1d\"},{\"attributes\":{},\"id\":\"5405\",\"type\":\"LinearScale\"},{\"attributes\":{\"coordinates\":null,\"group\":null,\"text\":\"Fruit Counts by Year\"},\"id\":\"5397\",\"type\":\"Title\"},{\"attributes\":{},\"id\":\"5403\",\"type\":\"CategoricalScale\"},{\"attributes\":{\"factors\":[\"Apples\",\"Pears\",\"Nectarines\",\"Plums\",\"Grapes\",\"Strawberries\"],\"range_padding\":0.1},\"id\":\"5399\",\"type\":\"FactorRange\"},{\"attributes\":{\"coordinates\":null,\"group\":null,\"items\":[{\"id\":\"5437\"},{\"id\":\"5453\"},{\"id\":\"5469\"}],\"location\":\"top_left\",\"orientation\":\"horizontal\"},\"id\":\"5436\",\"type\":\"Legend\"},{\"attributes\":{},\"id\":\"5429\",\"type\":\"BasicTickFormatter\"},{\"attributes\":{\"axis\":{\"id\":\"5410\"},\"coordinates\":null,\"dimension\":1,\"group\":null,\"ticker\":null},\"id\":\"5413\",\"type\":\"Grid\"},{\"attributes\":{},\"id\":\"5435\",\"type\":\"Selection\"},{\"attributes\":{},\"id\":\"5430\",\"type\":\"AllLabels\"},{\"attributes\":{\"fields\":[\"2015\",\"2016\"]},\"id\":\"5418\",\"type\":\"Stack\"},{\"attributes\":{\"coordinates\":null,\"formatter\":{\"id\":\"5429\"},\"group\":null,\"major_label_policy\":{\"id\":\"5430\"},\"minor_tick_line_color\":null,\"ticker\":{\"id\":\"5411\"}},\"id\":\"5410\",\"type\":\"LinearAxis\"},{\"attributes\":{\"bottom\":{\"expr\":{\"id\":\"5415\"}},\"fill_color\":{\"value\":\"#c9d9d3\"},\"hatch_color\":{\"value\":\"#c9d9d3\"},\"line_color\":{\"value\":\"#c9d9d3\"},\"top\":{\"expr\":{\"id\":\"5416\"}},\"width\":{\"value\":0.9},\"x\":{\"field\":\"fruits\"}},\"id\":\"5422\",\"type\":\"VBar\"},{\"attributes\":{\"axis\":{\"id\":\"5407\"},\"coordinates\":null,\"grid_line_color\":null,\"group\":null,\"ticker\":null},\"id\":\"5409\",\"type\":\"Grid\"},{\"attributes\":{\"coordinates\":null,\"data_source\":{\"id\":\"5395\"},\"glyph\":{\"id\":\"5439\"},\"group\":null,\"hover_glyph\":null,\"muted_glyph\":{\"id\":\"5441\"},\"name\":\"2016\",\"nonselection_glyph\":{\"id\":\"5440\"},\"view\":{\"id\":\"5443\"}},\"id\":\"5442\",\"type\":\"GlyphRenderer\"},{\"attributes\":{\"coordinates\":null,\"data_source\":{\"id\":\"5395\"},\"glyph\":{\"id\":\"5422\"},\"group\":null,\"hover_glyph\":null,\"muted_glyph\":{\"id\":\"5424\"},\"name\":\"2015\",\"nonselection_glyph\":{\"id\":\"5423\"},\"view\":{\"id\":\"5426\"}},\"id\":\"5425\",\"type\":\"GlyphRenderer\"},{\"attributes\":{\"bottom\":{\"expr\":{\"id\":\"5417\"}},\"fill_color\":{\"value\":\"#718dbf\"},\"hatch_color\":{\"value\":\"#718dbf\"},\"line_color\":{\"value\":\"#718dbf\"},\"top\":{\"expr\":{\"id\":\"5418\"}},\"width\":{\"value\":0.9},\"x\":{\"field\":\"fruits\"}},\"id\":\"5439\",\"type\":\"VBar\"},{\"attributes\":{},\"id\":\"5408\",\"type\":\"CategoricalTicker\"},{\"attributes\":{\"label\":{\"value\":\"2015\"},\"renderers\":[{\"id\":\"5425\"}]},\"id\":\"5437\",\"type\":\"LegendItem\"},{\"attributes\":{\"data\":{\"2015\":[2,1,4,3,2,4],\"2016\":[5,3,4,2,4,6],\"2017\":[3,2,4,4,5,3],\"fruits\":[\"Apples\",\"Pears\",\"Nectarines\",\"Plums\",\"Grapes\",\"Strawberries\"]},\"selected\":{\"id\":\"5435\"},\"selection_policy\":{\"id\":\"5434\"}},\"id\":\"5395\",\"type\":\"ColumnDataSource\"},{\"attributes\":{\"bottom\":{\"expr\":{\"id\":\"5417\"}},\"fill_alpha\":{\"value\":0.2},\"fill_color\":{\"value\":\"#718dbf\"},\"hatch_alpha\":{\"value\":0.2},\"hatch_color\":{\"value\":\"#718dbf\"},\"line_alpha\":{\"value\":0.2},\"line_color\":{\"value\":\"#718dbf\"},\"top\":{\"expr\":{\"id\":\"5418\"}},\"width\":{\"value\":0.9},\"x\":{\"field\":\"fruits\"}},\"id\":\"5441\",\"type\":\"VBar\"},{\"attributes\":{\"fields\":[\"2015\"]},\"id\":\"5417\",\"type\":\"Stack\"},{\"attributes\":{\"coordinates\":null,\"data_source\":{\"id\":\"5395\"},\"glyph\":{\"id\":\"5455\"},\"group\":null,\"hover_glyph\":null,\"muted_glyph\":{\"id\":\"5457\"},\"name\":\"2017\",\"nonselection_glyph\":{\"id\":\"5456\"},\"view\":{\"id\":\"5459\"}},\"id\":\"5458\",\"type\":\"GlyphRenderer\"},{\"attributes\":{\"coordinates\":null,\"formatter\":{\"id\":\"5432\"},\"group\":null,\"major_label_policy\":{\"id\":\"5433\"},\"minor_tick_line_color\":null,\"ticker\":{\"id\":\"5408\"}},\"id\":\"5407\",\"type\":\"CategoricalAxis\"},{\"attributes\":{\"bottom\":{\"expr\":{\"id\":\"5417\"}},\"fill_alpha\":{\"value\":0.1},\"fill_color\":{\"value\":\"#718dbf\"},\"hatch_alpha\":{\"value\":0.1},\"hatch_color\":{\"value\":\"#718dbf\"},\"line_alpha\":{\"value\":0.1},\"line_color\":{\"value\":\"#718dbf\"},\"top\":{\"expr\":{\"id\":\"5418\"}},\"width\":{\"value\":0.9},\"x\":{\"field\":\"fruits\"}},\"id\":\"5440\",\"type\":\"VBar\"},{\"attributes\":{\"bottom\":{\"expr\":{\"id\":\"5419\"}},\"fill_color\":{\"value\":\"#e84d60\"},\"hatch_color\":{\"value\":\"#e84d60\"},\"line_color\":{\"value\":\"#e84d60\"},\"top\":{\"expr\":{\"id\":\"5420\"}},\"width\":{\"value\":0.9},\"x\":{\"field\":\"fruits\"}},\"id\":\"5455\",\"type\":\"VBar\"},{\"attributes\":{\"fields\":[\"2015\"]},\"id\":\"5416\",\"type\":\"Stack\"},{\"attributes\":{\"bottom\":{\"expr\":{\"id\":\"5419\"}},\"fill_alpha\":{\"value\":0.2},\"fill_color\":{\"value\":\"#e84d60\"},\"hatch_alpha\":{\"value\":0.2},\"hatch_color\":{\"value\":\"#e84d60\"},\"line_alpha\":{\"value\":0.2},\"line_color\":{\"value\":\"#e84d60\"},\"top\":{\"expr\":{\"id\":\"5420\"}},\"width\":{\"value\":0.9},\"x\":{\"field\":\"fruits\"}},\"id\":\"5457\",\"type\":\"VBar\"},{\"attributes\":{\"fields\":[\"2015\",\"2016\"]},\"id\":\"5419\",\"type\":\"Stack\"},{\"attributes\":{\"bottom\":{\"expr\":{\"id\":\"5415\"}},\"fill_alpha\":{\"value\":0.1},\"fill_color\":{\"value\":\"#c9d9d3\"},\"hatch_alpha\":{\"value\":0.1},\"hatch_color\":{\"value\":\"#c9d9d3\"},\"line_alpha\":{\"value\":0.1},\"line_color\":{\"value\":\"#c9d9d3\"},\"top\":{\"expr\":{\"id\":\"5416\"}},\"width\":{\"value\":0.9},\"x\":{\"field\":\"fruits\"}},\"id\":\"5423\",\"type\":\"VBar\"},{\"attributes\":{\"source\":{\"id\":\"5395\"}},\"id\":\"5426\",\"type\":\"CDSView\"},{\"attributes\":{\"bottom\":{\"expr\":{\"id\":\"5419\"}},\"fill_alpha\":{\"value\":0.1},\"fill_color\":{\"value\":\"#e84d60\"},\"hatch_alpha\":{\"value\":0.1},\"hatch_color\":{\"value\":\"#e84d60\"},\"line_alpha\":{\"value\":0.1},\"line_color\":{\"value\":\"#e84d60\"},\"top\":{\"expr\":{\"id\":\"5420\"}},\"width\":{\"value\":0.9},\"x\":{\"field\":\"fruits\"}},\"id\":\"5456\",\"type\":\"VBar\"},{\"attributes\":{},\"id\":\"5434\",\"type\":\"UnionRenderers\"},{\"attributes\":{\"fields\":[\"2015\",\"2016\",\"2017\"]},\"id\":\"5420\",\"type\":\"Stack\"},{\"attributes\":{\"source\":{\"id\":\"5395\"}},\"id\":\"5443\",\"type\":\"CDSView\"},{\"attributes\":{\"source\":{\"id\":\"5395\"}},\"id\":\"5459\",\"type\":\"CDSView\"},{\"attributes\":{\"label\":{\"value\":\"2016\"},\"renderers\":[{\"id\":\"5442\"}]},\"id\":\"5453\",\"type\":\"LegendItem\"},{\"attributes\":{},\"id\":\"5411\",\"type\":\"BasicTicker\"},{\"attributes\":{\"label\":{\"value\":\"2017\"},\"renderers\":[{\"id\":\"5458\"}]},\"id\":\"5469\",\"type\":\"LegendItem\"},{\"attributes\":{},\"id\":\"5432\",\"type\":\"CategoricalTickFormatter\"}],\"root_ids\":[\"5396\"]},\"title\":\"Bokeh Application\",\"version\":\"2.4.3\"}};\n",
       "  const render_items = [{\"docid\":\"38b4d606-ce27-41d4-b9a8-2449d3d1e93d\",\"root_ids\":[\"5396\"],\"roots\":{\"5396\":\"28a78a14-b9ab-441a-a7a9-21d231dd76dc\"}}];\n",
       "  root.Bokeh.embed.embed_items_notebook(docs_json, render_items);\n",
       "  }\n",
       "  if (root.Bokeh !== undefined) {\n",
       "    embed_document(root);\n",
       "  } else {\n",
       "    let attempts = 0;\n",
       "    const timer = setInterval(function(root) {\n",
       "      if (root.Bokeh !== undefined) {\n",
       "        clearInterval(timer);\n",
       "        embed_document(root);\n",
       "      } else {\n",
       "        attempts++;\n",
       "        if (attempts > 100) {\n",
       "          clearInterval(timer);\n",
       "          console.log(\"Bokeh: ERROR: Unable to run BokehJS code because BokehJS library is missing\");\n",
       "        }\n",
       "      }\n",
       "    }, 10, root)\n",
       "  }\n",
       "})(window);"
      ],
      "application/vnd.bokehjs_exec.v0+json": ""
     },
     "metadata": {
      "application/vnd.bokehjs_exec.v0+json": {
       "id": "5396"
      }
     },
     "output_type": "display_data"
    }
   ],
   "source": [
    "fruits = ['Apples', 'Pears', 'Nectarines', 'Plums', 'Grapes', 'Strawberries']\n",
    "years = [\"2015\", \"2016\", \"2017\"]\n",
    "colors = [\"#c9d9d3\", \"#718dbf\", \"#e84d60\"]\n",
    "\n",
    "data = {'fruits' : fruits,\n",
    "        '2015'   : [2, 1, 4, 3, 2, 4],\n",
    "        '2016'   : [5, 3, 4, 2, 4, 6],\n",
    "        '2017'   : [3, 2, 4, 4, 5, 3]}\n",
    "\n",
    "source = ColumnDataSource(data=data)\n",
    "\n",
    "p = figure(x_range=fruits, plot_height=250, title=\"Fruit Counts by Year\",\n",
    "           toolbar_location=None, tools=\"\")\n",
    "\n",
    "p.vbar_stack(years, x='fruits', width=0.9, color=colors, source=source,\n",
    "             legend_label=[x for x in years])\n",
    "\n",
    "p.y_range.start = 0\n",
    "p.x_range.range_padding = 0.1\n",
    "p.xgrid.grid_line_color = None\n",
    "p.axis.minor_tick_line_color = None\n",
    "p.outline_line_color = None\n",
    "p.legend.location = \"top_left\"\n",
    "p.legend.orientation = \"horizontal\"\n",
    "\n",
    "show(p)"
   ]
  },
  {
   "cell_type": "markdown",
   "metadata": {},
   "source": [
    "Sometimes we may want to stack bars that have both positive and negative extents. The example below shows how it is possible to create such a stacked bar chart that is split by positive and negative values:"
   ]
  },
  {
   "cell_type": "code",
   "execution_count": 30,
   "metadata": {},
   "outputs": [
    {
     "data": {
      "text/html": [
       "\n",
       "  <div class=\"bk-root\" id=\"ecfecfd7-1c05-455f-bb75-d1e3f5452dd6\" data-root-id=\"5732\"></div>\n"
      ]
     },
     "metadata": {},
     "output_type": "display_data"
    },
    {
     "data": {
      "application/javascript": [
       "(function(root) {\n",
       "  function embed_document(root) {\n",
       "  const docs_json = {\"94f60e07-bbdb-4faf-b47d-5cc8970ab5fa\":{\"defs\":[],\"roots\":{\"references\":[{\"attributes\":{\"below\":[{\"id\":\"5743\"}],\"center\":[{\"id\":\"5746\"},{\"id\":\"5749\"},{\"id\":\"5787\"}],\"height\":250,\"left\":[{\"id\":\"5747\"}],\"outline_line_color\":null,\"renderers\":[{\"id\":\"5775\"},{\"id\":\"5793\"},{\"id\":\"5810\"},{\"id\":\"5834\"},{\"id\":\"5853\"},{\"id\":\"5872\"}],\"title\":{\"id\":\"5733\"},\"toolbar\":{\"id\":\"5757\"},\"toolbar_location\":null,\"x_range\":{\"id\":\"5735\"},\"x_scale\":{\"id\":\"5739\"},\"y_range\":{\"id\":\"5737\"},\"y_scale\":{\"id\":\"5741\"}},\"id\":\"5732\",\"subtype\":\"Figure\",\"type\":\"Plot\"},{\"attributes\":{\"label\":{\"value\":\"2015 exports\"},\"renderers\":[{\"id\":\"5775\"}]},\"id\":\"5788\",\"type\":\"LegendItem\"},{\"attributes\":{\"coordinates\":null,\"group\":null,\"items\":[{\"id\":\"5788\"},{\"id\":\"5805\"},{\"id\":\"5822\"},{\"id\":\"5848\"},{\"id\":\"5867\"},{\"id\":\"5886\"}],\"location\":\"top_left\"},\"id\":\"5787\",\"type\":\"Legend\"},{\"attributes\":{\"coordinates\":null,\"data_source\":{\"id\":\"5764\"},\"glyph\":{\"id\":\"5790\"},\"group\":null,\"hover_glyph\":null,\"muted_glyph\":{\"id\":\"5792\"},\"name\":\"2016\",\"nonselection_glyph\":{\"id\":\"5791\"},\"view\":{\"id\":\"5794\"}},\"id\":\"5793\",\"type\":\"GlyphRenderer\"},{\"attributes\":{\"bottom_units\":\"screen\",\"coordinates\":null,\"fill_alpha\":0.5,\"fill_color\":\"lightgrey\",\"group\":null,\"left_units\":\"screen\",\"level\":\"overlay\",\"line_alpha\":1.0,\"line_color\":\"black\",\"line_dash\":[4,4],\"line_width\":2,\"right_units\":\"screen\",\"syncable\":false,\"top_units\":\"screen\"},\"id\":\"5756\",\"type\":\"BoxAnnotation\"},{\"attributes\":{\"fill_color\":{\"value\":\"#a8ddb5\"},\"hatch_color\":{\"value\":\"#a8ddb5\"},\"height\":{\"value\":0.9},\"left\":{\"expr\":{\"id\":\"5767\"}},\"line_color\":{\"value\":\"#a8ddb5\"},\"right\":{\"expr\":{\"id\":\"5768\"}},\"y\":{\"field\":\"fruits\"}},\"id\":\"5790\",\"type\":\"HBar\"},{\"attributes\":{},\"id\":\"5739\",\"type\":\"LinearScale\"},{\"attributes\":{\"fields\":[\"2015\",\"2016\",\"2017\"]},\"id\":\"5770\",\"type\":\"Stack\"},{\"attributes\":{\"coordinates\":null,\"group\":null,\"text\":\"Fruit import/export, by year\"},\"id\":\"5733\",\"type\":\"Title\"},{\"attributes\":{\"fill_alpha\":{\"value\":0.2},\"fill_color\":{\"value\":\"#a8ddb5\"},\"hatch_alpha\":{\"value\":0.2},\"hatch_color\":{\"value\":\"#a8ddb5\"},\"height\":{\"value\":0.9},\"left\":{\"expr\":{\"id\":\"5767\"}},\"line_alpha\":{\"value\":0.2},\"line_color\":{\"value\":\"#a8ddb5\"},\"right\":{\"expr\":{\"id\":\"5768\"}},\"y\":{\"field\":\"fruits\"}},\"id\":\"5792\",\"type\":\"HBar\"},{\"attributes\":{},\"id\":\"5779\",\"type\":\"CategoricalTickFormatter\"},{\"attributes\":{\"data\":{\"2015\":[2,1,4,3,2,4],\"2016\":[5,3,4,2,4,6],\"2017\":[3,2,4,4,5,3],\"fruits\":[\"Apples\",\"Pears\",\"Nectarines\",\"Plums\",\"Grapes\",\"Strawberries\"]},\"selected\":{\"id\":\"5785\"},\"selection_policy\":{\"id\":\"5784\"}},\"id\":\"5764\",\"type\":\"ColumnDataSource\"},{\"attributes\":{\"fill_alpha\":{\"value\":0.1},\"fill_color\":{\"value\":\"#a8ddb5\"},\"hatch_alpha\":{\"value\":0.1},\"hatch_color\":{\"value\":\"#a8ddb5\"},\"height\":{\"value\":0.9},\"left\":{\"expr\":{\"id\":\"5767\"}},\"line_alpha\":{\"value\":0.1},\"line_color\":{\"value\":\"#a8ddb5\"},\"right\":{\"expr\":{\"id\":\"5768\"}},\"y\":{\"field\":\"fruits\"}},\"id\":\"5791\",\"type\":\"HBar\"},{\"attributes\":{\"fields\":[\"2015\",\"2016\"]},\"id\":\"5769\",\"type\":\"Stack\"},{\"attributes\":{\"factors\":[\"Apples\",\"Pears\",\"Nectarines\",\"Plums\",\"Grapes\",\"Strawberries\"],\"range_padding\":0.1},\"id\":\"5737\",\"type\":\"FactorRange\"},{\"attributes\":{\"fill_color\":{\"value\":\"#43a2ca\"},\"hatch_color\":{\"value\":\"#43a2ca\"},\"height\":{\"value\":0.9},\"left\":{\"expr\":{\"id\":\"5765\"}},\"line_color\":{\"value\":\"#43a2ca\"},\"right\":{\"expr\":{\"id\":\"5766\"}},\"y\":{\"field\":\"fruits\"}},\"id\":\"5772\",\"type\":\"HBar\"},{\"attributes\":{},\"id\":\"5780\",\"type\":\"AllLabels\"},{\"attributes\":{\"fill_alpha\":{\"value\":0.2},\"fill_color\":{\"value\":\"#e0f3db\"},\"hatch_alpha\":{\"value\":0.2},\"hatch_color\":{\"value\":\"#e0f3db\"},\"height\":{\"value\":0.9},\"left\":{\"expr\":{\"id\":\"5769\"}},\"line_alpha\":{\"value\":0.2},\"line_color\":{\"value\":\"#e0f3db\"},\"right\":{\"expr\":{\"id\":\"5770\"}},\"y\":{\"field\":\"fruits\"}},\"id\":\"5809\",\"type\":\"HBar\"},{\"attributes\":{},\"id\":\"5782\",\"type\":\"BasicTickFormatter\"},{\"attributes\":{\"fields\":[\"2015\"]},\"id\":\"5766\",\"type\":\"Stack\"},{\"attributes\":{\"end\":16,\"start\":-16},\"id\":\"5735\",\"type\":\"Range1d\"},{\"attributes\":{},\"id\":\"5783\",\"type\":\"AllLabels\"},{\"attributes\":{\"fields\":[\"2015\"]},\"id\":\"5767\",\"type\":\"Stack\"},{\"attributes\":{\"source\":{\"id\":\"5764\"}},\"id\":\"5794\",\"type\":\"CDSView\"},{\"attributes\":{},\"id\":\"5754\",\"type\":\"ResetTool\"},{\"attributes\":{\"label\":{\"value\":\"2016 exports\"},\"renderers\":[{\"id\":\"5793\"}]},\"id\":\"5805\",\"type\":\"LegendItem\"},{\"attributes\":{},\"id\":\"5753\",\"type\":\"SaveTool\"},{\"attributes\":{\"overlay\":{\"id\":\"5756\"}},\"id\":\"5752\",\"type\":\"BoxZoomTool\"},{\"attributes\":{},\"id\":\"5750\",\"type\":\"PanTool\"},{\"attributes\":{\"fields\":[]},\"id\":\"5765\",\"type\":\"Stack\"},{\"attributes\":{},\"id\":\"5751\",\"type\":\"WheelZoomTool\"},{\"attributes\":{\"fields\":[\"2015\",\"2016\"]},\"id\":\"5768\",\"type\":\"Stack\"},{\"attributes\":{},\"id\":\"5748\",\"type\":\"CategoricalTicker\"},{\"attributes\":{\"axis\":{\"id\":\"5747\"},\"coordinates\":null,\"dimension\":1,\"grid_line_color\":null,\"group\":null,\"ticker\":null},\"id\":\"5749\",\"type\":\"Grid\"},{\"attributes\":{},\"id\":\"5784\",\"type\":\"UnionRenderers\"},{\"attributes\":{},\"id\":\"5785\",\"type\":\"Selection\"},{\"attributes\":{},\"id\":\"5744\",\"type\":\"BasicTicker\"},{\"attributes\":{\"coordinates\":null,\"formatter\":{\"id\":\"5782\"},\"group\":null,\"major_label_policy\":{\"id\":\"5783\"},\"minor_tick_line_color\":null,\"ticker\":{\"id\":\"5744\"}},\"id\":\"5743\",\"type\":\"LinearAxis\"},{\"attributes\":{},\"id\":\"5741\",\"type\":\"CategoricalScale\"},{\"attributes\":{},\"id\":\"5755\",\"type\":\"HelpTool\"},{\"attributes\":{\"coordinates\":null,\"formatter\":{\"id\":\"5779\"},\"group\":null,\"major_label_policy\":{\"id\":\"5780\"},\"minor_tick_line_color\":null,\"ticker\":{\"id\":\"5748\"}},\"id\":\"5747\",\"type\":\"CategoricalAxis\"},{\"attributes\":{\"axis\":{\"id\":\"5743\"},\"coordinates\":null,\"group\":null,\"ticker\":null},\"id\":\"5746\",\"type\":\"Grid\"},{\"attributes\":{\"coordinates\":null,\"data_source\":{\"id\":\"5764\"},\"glyph\":{\"id\":\"5772\"},\"group\":null,\"hover_glyph\":null,\"muted_glyph\":{\"id\":\"5774\"},\"name\":\"2015\",\"nonselection_glyph\":{\"id\":\"5773\"},\"view\":{\"id\":\"5776\"}},\"id\":\"5775\",\"type\":\"GlyphRenderer\"},{\"attributes\":{\"fill_alpha\":{\"value\":0.2},\"fill_color\":{\"value\":\"#43a2ca\"},\"hatch_alpha\":{\"value\":0.2},\"hatch_color\":{\"value\":\"#43a2ca\"},\"height\":{\"value\":0.9},\"left\":{\"expr\":{\"id\":\"5765\"}},\"line_alpha\":{\"value\":0.2},\"line_color\":{\"value\":\"#43a2ca\"},\"right\":{\"expr\":{\"id\":\"5766\"}},\"y\":{\"field\":\"fruits\"}},\"id\":\"5774\",\"type\":\"HBar\"},{\"attributes\":{\"coordinates\":null,\"data_source\":{\"id\":\"5764\"},\"glyph\":{\"id\":\"5807\"},\"group\":null,\"hover_glyph\":null,\"muted_glyph\":{\"id\":\"5809\"},\"name\":\"2017\",\"nonselection_glyph\":{\"id\":\"5808\"},\"view\":{\"id\":\"5811\"}},\"id\":\"5810\",\"type\":\"GlyphRenderer\"},{\"attributes\":{\"fill_color\":{\"value\":\"#e0f3db\"},\"hatch_color\":{\"value\":\"#e0f3db\"},\"height\":{\"value\":0.9},\"left\":{\"expr\":{\"id\":\"5769\"}},\"line_color\":{\"value\":\"#e0f3db\"},\"right\":{\"expr\":{\"id\":\"5770\"}},\"y\":{\"field\":\"fruits\"}},\"id\":\"5807\",\"type\":\"HBar\"},{\"attributes\":{\"fill_alpha\":{\"value\":0.1},\"fill_color\":{\"value\":\"#43a2ca\"},\"hatch_alpha\":{\"value\":0.1},\"hatch_color\":{\"value\":\"#43a2ca\"},\"height\":{\"value\":0.9},\"left\":{\"expr\":{\"id\":\"5765\"}},\"line_alpha\":{\"value\":0.1},\"line_color\":{\"value\":\"#43a2ca\"},\"right\":{\"expr\":{\"id\":\"5766\"}},\"y\":{\"field\":\"fruits\"}},\"id\":\"5773\",\"type\":\"HBar\"},{\"attributes\":{\"fill_alpha\":{\"value\":0.1},\"fill_color\":{\"value\":\"#e0f3db\"},\"hatch_alpha\":{\"value\":0.1},\"hatch_color\":{\"value\":\"#e0f3db\"},\"height\":{\"value\":0.9},\"left\":{\"expr\":{\"id\":\"5769\"}},\"line_alpha\":{\"value\":0.1},\"line_color\":{\"value\":\"#e0f3db\"},\"right\":{\"expr\":{\"id\":\"5770\"}},\"y\":{\"field\":\"fruits\"}},\"id\":\"5808\",\"type\":\"HBar\"},{\"attributes\":{\"fields\":[]},\"id\":\"5824\",\"type\":\"Stack\"},{\"attributes\":{\"source\":{\"id\":\"5764\"}},\"id\":\"5811\",\"type\":\"CDSView\"},{\"attributes\":{\"coordinates\":null,\"data_source\":{\"id\":\"5823\"},\"glyph\":{\"id\":\"5850\"},\"group\":null,\"hover_glyph\":null,\"muted_glyph\":{\"id\":\"5852\"},\"name\":\"2016\",\"nonselection_glyph\":{\"id\":\"5851\"},\"view\":{\"id\":\"5854\"}},\"id\":\"5853\",\"type\":\"GlyphRenderer\"},{\"attributes\":{\"label\":{\"value\":\"2017 exports\"},\"renderers\":[{\"id\":\"5810\"}]},\"id\":\"5822\",\"type\":\"LegendItem\"},{\"attributes\":{\"fill_alpha\":{\"value\":0.2},\"fill_color\":{\"value\":\"#fdbb84\"},\"hatch_alpha\":{\"value\":0.2},\"hatch_color\":{\"value\":\"#fdbb84\"},\"height\":{\"value\":0.9},\"left\":{\"expr\":{\"id\":\"5826\"}},\"line_alpha\":{\"value\":0.2},\"line_color\":{\"value\":\"#fdbb84\"},\"right\":{\"expr\":{\"id\":\"5827\"}},\"y\":{\"field\":\"fruits\"}},\"id\":\"5852\",\"type\":\"HBar\"},{\"attributes\":{\"fill_alpha\":{\"value\":0.1},\"fill_color\":{\"value\":\"#fdbb84\"},\"hatch_alpha\":{\"value\":0.1},\"hatch_color\":{\"value\":\"#fdbb84\"},\"height\":{\"value\":0.9},\"left\":{\"expr\":{\"id\":\"5826\"}},\"line_alpha\":{\"value\":0.1},\"line_color\":{\"value\":\"#fdbb84\"},\"right\":{\"expr\":{\"id\":\"5827\"}},\"y\":{\"field\":\"fruits\"}},\"id\":\"5851\",\"type\":\"HBar\"},{\"attributes\":{\"source\":{\"id\":\"5823\"}},\"id\":\"5854\",\"type\":\"CDSView\"},{\"attributes\":{\"source\":{\"id\":\"5764\"}},\"id\":\"5776\",\"type\":\"CDSView\"},{\"attributes\":{\"label\":{\"value\":\"2016 imports\"},\"renderers\":[{\"id\":\"5853\"}]},\"id\":\"5867\",\"type\":\"LegendItem\"},{\"attributes\":{\"fields\":[\"2015\"]},\"id\":\"5825\",\"type\":\"Stack\"},{\"attributes\":{\"coordinates\":null,\"data_source\":{\"id\":\"5823\"},\"glyph\":{\"id\":\"5831\"},\"group\":null,\"hover_glyph\":null,\"muted_glyph\":{\"id\":\"5833\"},\"name\":\"2015\",\"nonselection_glyph\":{\"id\":\"5832\"},\"view\":{\"id\":\"5835\"}},\"id\":\"5834\",\"type\":\"GlyphRenderer\"},{\"attributes\":{\"fields\":[\"2015\"]},\"id\":\"5826\",\"type\":\"Stack\"},{\"attributes\":{\"fields\":[\"2015\",\"2016\"]},\"id\":\"5827\",\"type\":\"Stack\"},{\"attributes\":{\"fields\":[\"2015\",\"2016\"]},\"id\":\"5828\",\"type\":\"Stack\"},{\"attributes\":{\"fields\":[\"2015\",\"2016\",\"2017\"]},\"id\":\"5829\",\"type\":\"Stack\"},{\"attributes\":{\"fill_color\":{\"value\":\"#e34a33\"},\"hatch_color\":{\"value\":\"#e34a33\"},\"height\":{\"value\":0.9},\"left\":{\"expr\":{\"id\":\"5824\"}},\"line_color\":{\"value\":\"#e34a33\"},\"right\":{\"expr\":{\"id\":\"5825\"}},\"y\":{\"field\":\"fruits\"}},\"id\":\"5831\",\"type\":\"HBar\"},{\"attributes\":{\"fill_alpha\":{\"value\":0.2},\"fill_color\":{\"value\":\"#e34a33\"},\"hatch_alpha\":{\"value\":0.2},\"hatch_color\":{\"value\":\"#e34a33\"},\"height\":{\"value\":0.9},\"left\":{\"expr\":{\"id\":\"5824\"}},\"line_alpha\":{\"value\":0.2},\"line_color\":{\"value\":\"#e34a33\"},\"right\":{\"expr\":{\"id\":\"5825\"}},\"y\":{\"field\":\"fruits\"}},\"id\":\"5833\",\"type\":\"HBar\"},{\"attributes\":{\"fill_alpha\":{\"value\":0.1},\"fill_color\":{\"value\":\"#e34a33\"},\"hatch_alpha\":{\"value\":0.1},\"hatch_color\":{\"value\":\"#e34a33\"},\"height\":{\"value\":0.9},\"left\":{\"expr\":{\"id\":\"5824\"}},\"line_alpha\":{\"value\":0.1},\"line_color\":{\"value\":\"#e34a33\"},\"right\":{\"expr\":{\"id\":\"5825\"}},\"y\":{\"field\":\"fruits\"}},\"id\":\"5832\",\"type\":\"HBar\"},{\"attributes\":{\"fill_color\":{\"value\":\"#fdbb84\"},\"hatch_color\":{\"value\":\"#fdbb84\"},\"height\":{\"value\":0.9},\"left\":{\"expr\":{\"id\":\"5826\"}},\"line_color\":{\"value\":\"#fdbb84\"},\"right\":{\"expr\":{\"id\":\"5827\"}},\"y\":{\"field\":\"fruits\"}},\"id\":\"5850\",\"type\":\"HBar\"},{\"attributes\":{\"coordinates\":null,\"data_source\":{\"id\":\"5823\"},\"glyph\":{\"id\":\"5869\"},\"group\":null,\"hover_glyph\":null,\"muted_glyph\":{\"id\":\"5871\"},\"name\":\"2017\",\"nonselection_glyph\":{\"id\":\"5870\"},\"view\":{\"id\":\"5873\"}},\"id\":\"5872\",\"type\":\"GlyphRenderer\"},{\"attributes\":{},\"id\":\"5846\",\"type\":\"Selection\"},{\"attributes\":{\"source\":{\"id\":\"5823\"}},\"id\":\"5835\",\"type\":\"CDSView\"},{\"attributes\":{\"data\":{\"2015\":[-1,0,-1,-3,-2,-1],\"2016\":[-2,-1,-3,-1,-2,-2],\"2017\":[-1,-2,-1,0,-2,-2],\"fruits\":[\"Apples\",\"Pears\",\"Nectarines\",\"Plums\",\"Grapes\",\"Strawberries\"]},\"selected\":{\"id\":\"5846\"},\"selection_policy\":{\"id\":\"5845\"}},\"id\":\"5823\",\"type\":\"ColumnDataSource\"},{\"attributes\":{\"label\":{\"value\":\"2015 imports\"},\"renderers\":[{\"id\":\"5834\"}]},\"id\":\"5848\",\"type\":\"LegendItem\"},{\"attributes\":{\"fill_color\":{\"value\":\"#fee8c8\"},\"hatch_color\":{\"value\":\"#fee8c8\"},\"height\":{\"value\":0.9},\"left\":{\"expr\":{\"id\":\"5828\"}},\"line_color\":{\"value\":\"#fee8c8\"},\"right\":{\"expr\":{\"id\":\"5829\"}},\"y\":{\"field\":\"fruits\"}},\"id\":\"5869\",\"type\":\"HBar\"},{\"attributes\":{\"fill_alpha\":{\"value\":0.2},\"fill_color\":{\"value\":\"#fee8c8\"},\"hatch_alpha\":{\"value\":0.2},\"hatch_color\":{\"value\":\"#fee8c8\"},\"height\":{\"value\":0.9},\"left\":{\"expr\":{\"id\":\"5828\"}},\"line_alpha\":{\"value\":0.2},\"line_color\":{\"value\":\"#fee8c8\"},\"right\":{\"expr\":{\"id\":\"5829\"}},\"y\":{\"field\":\"fruits\"}},\"id\":\"5871\",\"type\":\"HBar\"},{\"attributes\":{},\"id\":\"5845\",\"type\":\"UnionRenderers\"},{\"attributes\":{\"fill_alpha\":{\"value\":0.1},\"fill_color\":{\"value\":\"#fee8c8\"},\"hatch_alpha\":{\"value\":0.1},\"hatch_color\":{\"value\":\"#fee8c8\"},\"height\":{\"value\":0.9},\"left\":{\"expr\":{\"id\":\"5828\"}},\"line_alpha\":{\"value\":0.1},\"line_color\":{\"value\":\"#fee8c8\"},\"right\":{\"expr\":{\"id\":\"5829\"}},\"y\":{\"field\":\"fruits\"}},\"id\":\"5870\",\"type\":\"HBar\"},{\"attributes\":{\"tools\":[{\"id\":\"5750\"},{\"id\":\"5751\"},{\"id\":\"5752\"},{\"id\":\"5753\"},{\"id\":\"5754\"},{\"id\":\"5755\"}]},\"id\":\"5757\",\"type\":\"Toolbar\"},{\"attributes\":{\"source\":{\"id\":\"5823\"}},\"id\":\"5873\",\"type\":\"CDSView\"},{\"attributes\":{\"label\":{\"value\":\"2017 imports\"},\"renderers\":[{\"id\":\"5872\"}]},\"id\":\"5886\",\"type\":\"LegendItem\"}],\"root_ids\":[\"5732\"]},\"title\":\"Bokeh Application\",\"version\":\"2.4.3\"}};\n",
       "  const render_items = [{\"docid\":\"94f60e07-bbdb-4faf-b47d-5cc8970ab5fa\",\"root_ids\":[\"5732\"],\"roots\":{\"5732\":\"ecfecfd7-1c05-455f-bb75-d1e3f5452dd6\"}}];\n",
       "  root.Bokeh.embed.embed_items_notebook(docs_json, render_items);\n",
       "  }\n",
       "  if (root.Bokeh !== undefined) {\n",
       "    embed_document(root);\n",
       "  } else {\n",
       "    let attempts = 0;\n",
       "    const timer = setInterval(function(root) {\n",
       "      if (root.Bokeh !== undefined) {\n",
       "        clearInterval(timer);\n",
       "        embed_document(root);\n",
       "      } else {\n",
       "        attempts++;\n",
       "        if (attempts > 100) {\n",
       "          clearInterval(timer);\n",
       "          console.log(\"Bokeh: ERROR: Unable to run BokehJS code because BokehJS library is missing\");\n",
       "        }\n",
       "      }\n",
       "    }, 10, root)\n",
       "  }\n",
       "})(window);"
      ],
      "application/vnd.bokehjs_exec.v0+json": ""
     },
     "metadata": {
      "application/vnd.bokehjs_exec.v0+json": {
       "id": "5732"
      }
     },
     "output_type": "display_data"
    }
   ],
   "source": [
    "from bokeh.palettes import GnBu3, OrRd3\n",
    "\n",
    "fruits = ['Apples', 'Pears', 'Nectarines', 'Plums', 'Grapes', 'Strawberries']\n",
    "years = [\"2015\", \"2016\", \"2017\"]\n",
    "\n",
    "exports = {'fruits' : fruits,\n",
    "           '2015'   : [2, 1, 4, 3, 2, 4],\n",
    "           '2016'   : [5, 3, 4, 2, 4, 6],\n",
    "           '2017'   : [3, 2, 4, 4, 5, 3]}\n",
    "imports = {'fruits' : fruits,\n",
    "           '2015'   : [-1, 0, -1, -3, -2, -1],\n",
    "           '2016'   : [-2, -1, -3, -1, -2, -2],\n",
    "           '2017'   : [-1, -2, -1, 0, -2, -2]}\n",
    "\n",
    "p = figure(y_range=fruits, plot_height=250, x_range=(-16, 16), title=\"Fruit import/export, by year\",\n",
    "           toolbar_location=None)\n",
    "\n",
    "p.hbar_stack(years, y='fruits', height=0.9, color=GnBu3, source=ColumnDataSource(exports),\n",
    "             legend_label=[\"%s exports\" % x for x in years])\n",
    "\n",
    "p.hbar_stack(years, y='fruits', height=0.9, color=OrRd3, source=ColumnDataSource(imports),\n",
    "             legend_label=[\"%s imports\" % x for x in years])\n",
    "\n",
    "p.y_range.range_padding = 0.1\n",
    "p.ygrid.grid_line_color = None\n",
    "p.legend.location = \"top_left\"\n",
    "p.axis.minor_tick_line_color = None\n",
    "p.outline_line_color = None\n",
    "\n",
    "show(p)"
   ]
  },
  {
   "cell_type": "code",
   "execution_count": 31,
   "metadata": {},
   "outputs": [
    {
     "data": {
      "text/html": [
       "\n",
       "  <div class=\"bk-root\" id=\"60dc4f25-4785-4eb6-b58e-71a8a0b49796\" data-root-id=\"6176\"></div>\n"
      ]
     },
     "metadata": {},
     "output_type": "display_data"
    },
    {
     "data": {
      "application/javascript": [
       "(function(root) {\n",
       "  function embed_document(root) {\n",
       "  const docs_json = {\"caa16a16-19da-41ac-8378-6005e4007537\":{\"defs\":[],\"roots\":{\"references\":[{\"attributes\":{\"below\":[{\"id\":\"6187\"}],\"center\":[{\"id\":\"6190\"},{\"id\":\"6193\"},{\"id\":\"6231\"}],\"height\":250,\"left\":[{\"id\":\"6191\"}],\"outline_line_color\":null,\"renderers\":[{\"id\":\"6219\"},{\"id\":\"6237\"},{\"id\":\"6254\"},{\"id\":\"6278\"},{\"id\":\"6297\"},{\"id\":\"6316\"}],\"title\":{\"id\":\"6177\"},\"toolbar\":{\"id\":\"6201\"},\"toolbar_location\":null,\"x_range\":{\"id\":\"6179\"},\"x_scale\":{\"id\":\"6183\"},\"y_range\":{\"id\":\"6181\"},\"y_scale\":{\"id\":\"6185\"}},\"id\":\"6176\",\"subtype\":\"Figure\",\"type\":\"Plot\"},{\"attributes\":{\"source\":{\"id\":\"6267\"}},\"id\":\"6317\",\"type\":\"CDSView\"},{\"attributes\":{},\"id\":\"6226\",\"type\":\"BasicTickFormatter\"},{\"attributes\":{\"coordinates\":null,\"data_source\":{\"id\":\"6208\"},\"glyph\":{\"id\":\"6251\"},\"group\":null,\"hover_glyph\":null,\"muted_glyph\":{\"id\":\"6253\"},\"name\":\"2017\",\"nonselection_glyph\":{\"id\":\"6252\"},\"view\":{\"id\":\"6255\"}},\"id\":\"6254\",\"type\":\"GlyphRenderer\"},{\"attributes\":{\"label\":{\"value\":\"2017 imports\"},\"renderers\":[{\"id\":\"6316\"}]},\"id\":\"6330\",\"type\":\"LegendItem\"},{\"attributes\":{},\"id\":\"6224\",\"type\":\"AllLabels\"},{\"attributes\":{\"fill_alpha\":{\"value\":0.2},\"fill_color\":{\"value\":\"#3182bd\"},\"hatch_alpha\":{\"value\":0.2},\"hatch_color\":{\"value\":\"#3182bd\"},\"height\":{\"value\":0.9},\"left\":{\"expr\":{\"id\":\"6213\"}},\"line_alpha\":{\"value\":0.2},\"line_color\":{\"value\":\"#3182bd\"},\"right\":{\"expr\":{\"id\":\"6214\"}},\"y\":{\"field\":\"fruits\"}},\"id\":\"6253\",\"type\":\"HBar\"},{\"attributes\":{\"fill_alpha\":{\"value\":0.1},\"fill_color\":{\"value\":\"#3182bd\"},\"hatch_alpha\":{\"value\":0.1},\"hatch_color\":{\"value\":\"#3182bd\"},\"height\":{\"value\":0.9},\"left\":{\"expr\":{\"id\":\"6213\"}},\"line_alpha\":{\"value\":0.1},\"line_color\":{\"value\":\"#3182bd\"},\"right\":{\"expr\":{\"id\":\"6214\"}},\"y\":{\"field\":\"fruits\"}},\"id\":\"6252\",\"type\":\"HBar\"},{\"attributes\":{\"fields\":[]},\"id\":\"6268\",\"type\":\"Stack\"},{\"attributes\":{\"source\":{\"id\":\"6208\"}},\"id\":\"6255\",\"type\":\"CDSView\"},{\"attributes\":{\"label\":{\"value\":\"2017 exports\"},\"renderers\":[{\"id\":\"6254\"}]},\"id\":\"6266\",\"type\":\"LegendItem\"},{\"attributes\":{\"coordinates\":null,\"data_source\":{\"id\":\"6267\"},\"glyph\":{\"id\":\"6294\"},\"group\":null,\"hover_glyph\":null,\"muted_glyph\":{\"id\":\"6296\"},\"name\":\"2016\",\"nonselection_glyph\":{\"id\":\"6295\"},\"view\":{\"id\":\"6298\"}},\"id\":\"6297\",\"type\":\"GlyphRenderer\"},{\"attributes\":{\"fill_alpha\":{\"value\":0.2},\"fill_color\":{\"value\":\"#fdae6b\"},\"hatch_alpha\":{\"value\":0.2},\"hatch_color\":{\"value\":\"#fdae6b\"},\"height\":{\"value\":0.9},\"left\":{\"expr\":{\"id\":\"6270\"}},\"line_alpha\":{\"value\":0.2},\"line_color\":{\"value\":\"#fdae6b\"},\"right\":{\"expr\":{\"id\":\"6271\"}},\"y\":{\"field\":\"fruits\"}},\"id\":\"6296\",\"type\":\"HBar\"},{\"attributes\":{\"fill_alpha\":{\"value\":0.1},\"fill_color\":{\"value\":\"#fdae6b\"},\"hatch_alpha\":{\"value\":0.1},\"hatch_color\":{\"value\":\"#fdae6b\"},\"height\":{\"value\":0.9},\"left\":{\"expr\":{\"id\":\"6270\"}},\"line_alpha\":{\"value\":0.1},\"line_color\":{\"value\":\"#fdae6b\"},\"right\":{\"expr\":{\"id\":\"6271\"}},\"y\":{\"field\":\"fruits\"}},\"id\":\"6295\",\"type\":\"HBar\"},{\"attributes\":{\"coordinates\":null,\"data_source\":{\"id\":\"6208\"},\"glyph\":{\"id\":\"6216\"},\"group\":null,\"hover_glyph\":null,\"muted_glyph\":{\"id\":\"6218\"},\"name\":\"2015\",\"nonselection_glyph\":{\"id\":\"6217\"},\"view\":{\"id\":\"6220\"}},\"id\":\"6219\",\"type\":\"GlyphRenderer\"},{\"attributes\":{\"fill_alpha\":{\"value\":0.2},\"fill_color\":{\"value\":\"#e6550d\"},\"hatch_alpha\":{\"value\":0.2},\"hatch_color\":{\"value\":\"#e6550d\"},\"height\":{\"value\":0.9},\"left\":{\"expr\":{\"id\":\"6272\"}},\"line_alpha\":{\"value\":0.2},\"line_color\":{\"value\":\"#e6550d\"},\"right\":{\"expr\":{\"id\":\"6273\"}},\"y\":{\"field\":\"fruits\"}},\"id\":\"6315\",\"type\":\"HBar\"},{\"attributes\":{\"fields\":[\"2015\"]},\"id\":\"6210\",\"type\":\"Stack\"},{\"attributes\":{\"source\":{\"id\":\"6267\"}},\"id\":\"6298\",\"type\":\"CDSView\"},{\"attributes\":{\"label\":{\"value\":\"2016 imports\"},\"renderers\":[{\"id\":\"6297\"}]},\"id\":\"6311\",\"type\":\"LegendItem\"},{\"attributes\":{\"fields\":[\"2015\",\"2016\",\"2017\"]},\"id\":\"6214\",\"type\":\"Stack\"},{\"attributes\":{\"coordinates\":null,\"data_source\":{\"id\":\"6208\"},\"glyph\":{\"id\":\"6234\"},\"group\":null,\"hover_glyph\":null,\"muted_glyph\":{\"id\":\"6236\"},\"name\":\"2016\",\"nonselection_glyph\":{\"id\":\"6235\"},\"view\":{\"id\":\"6238\"}},\"id\":\"6237\",\"type\":\"GlyphRenderer\"},{\"attributes\":{\"fields\":[\"2015\"]},\"id\":\"6269\",\"type\":\"Stack\"},{\"attributes\":{\"fill_color\":{\"value\":\"#9ecae1\"},\"hatch_color\":{\"value\":\"#9ecae1\"},\"height\":{\"value\":0.9},\"left\":{\"expr\":{\"id\":\"6211\"}},\"line_color\":{\"value\":\"#9ecae1\"},\"right\":{\"expr\":{\"id\":\"6212\"}},\"y\":{\"field\":\"fruits\"}},\"id\":\"6234\",\"type\":\"HBar\"},{\"attributes\":{\"fill_alpha\":{\"value\":0.2},\"fill_color\":{\"value\":\"#9ecae1\"},\"hatch_alpha\":{\"value\":0.2},\"hatch_color\":{\"value\":\"#9ecae1\"},\"height\":{\"value\":0.9},\"left\":{\"expr\":{\"id\":\"6211\"}},\"line_alpha\":{\"value\":0.2},\"line_color\":{\"value\":\"#9ecae1\"},\"right\":{\"expr\":{\"id\":\"6212\"}},\"y\":{\"field\":\"fruits\"}},\"id\":\"6236\",\"type\":\"HBar\"},{\"attributes\":{\"data\":{\"2015\":[-1,0,-1,-3,-2,-1],\"2016\":[-2,-1,-3,-1,-2,-2],\"2017\":[-1,-2,-1,0,-2,-2],\"fruits\":[\"Apples\",\"Pears\",\"Nectarines\",\"Plums\",\"Grapes\",\"Strawberries\"]},\"selected\":{\"id\":\"6290\"},\"selection_policy\":{\"id\":\"6289\"}},\"id\":\"6267\",\"type\":\"ColumnDataSource\"},{\"attributes\":{\"data\":{\"2015\":[2,1,4,3,2,4],\"2016\":[5,3,4,2,4,6],\"2017\":[3,2,4,4,5,3],\"fruits\":[\"Apples\",\"Pears\",\"Nectarines\",\"Plums\",\"Grapes\",\"Strawberries\"]},\"selected\":{\"id\":\"6229\"},\"selection_policy\":{\"id\":\"6228\"}},\"id\":\"6208\",\"type\":\"ColumnDataSource\"},{\"attributes\":{\"fill_alpha\":{\"value\":0.1},\"fill_color\":{\"value\":\"#9ecae1\"},\"hatch_alpha\":{\"value\":0.1},\"hatch_color\":{\"value\":\"#9ecae1\"},\"height\":{\"value\":0.9},\"left\":{\"expr\":{\"id\":\"6211\"}},\"line_alpha\":{\"value\":0.1},\"line_color\":{\"value\":\"#9ecae1\"},\"right\":{\"expr\":{\"id\":\"6212\"}},\"y\":{\"field\":\"fruits\"}},\"id\":\"6235\",\"type\":\"HBar\"},{\"attributes\":{\"end\":16,\"start\":-16},\"id\":\"6179\",\"type\":\"Range1d\"},{\"attributes\":{\"coordinates\":null,\"data_source\":{\"id\":\"6267\"},\"glyph\":{\"id\":\"6275\"},\"group\":null,\"hover_glyph\":null,\"muted_glyph\":{\"id\":\"6277\"},\"name\":\"2015\",\"nonselection_glyph\":{\"id\":\"6276\"},\"view\":{\"id\":\"6279\"}},\"id\":\"6278\",\"type\":\"GlyphRenderer\"},{\"attributes\":{},\"id\":\"6229\",\"type\":\"Selection\"},{\"attributes\":{\"fields\":[\"2015\"]},\"id\":\"6270\",\"type\":\"Stack\"},{\"attributes\":{\"fill_color\":{\"value\":\"#3182bd\"},\"hatch_color\":{\"value\":\"#3182bd\"},\"height\":{\"value\":0.9},\"left\":{\"expr\":{\"id\":\"6213\"}},\"line_color\":{\"value\":\"#3182bd\"},\"right\":{\"expr\":{\"id\":\"6214\"}},\"y\":{\"field\":\"fruits\"}},\"id\":\"6251\",\"type\":\"HBar\"},{\"attributes\":{\"fields\":[\"2015\",\"2016\"]},\"id\":\"6271\",\"type\":\"Stack\"},{\"attributes\":{\"fields\":[\"2015\",\"2016\"]},\"id\":\"6272\",\"type\":\"Stack\"},{\"attributes\":{\"fields\":[\"2015\",\"2016\",\"2017\"]},\"id\":\"6273\",\"type\":\"Stack\"},{\"attributes\":{\"fill_color\":{\"value\":\"#fee6ce\"},\"hatch_color\":{\"value\":\"#fee6ce\"},\"height\":{\"value\":0.9},\"left\":{\"expr\":{\"id\":\"6268\"}},\"line_color\":{\"value\":\"#fee6ce\"},\"right\":{\"expr\":{\"id\":\"6269\"}},\"y\":{\"field\":\"fruits\"}},\"id\":\"6275\",\"type\":\"HBar\"},{\"attributes\":{\"source\":{\"id\":\"6208\"}},\"id\":\"6238\",\"type\":\"CDSView\"},{\"attributes\":{\"fill_alpha\":{\"value\":0.2},\"fill_color\":{\"value\":\"#fee6ce\"},\"hatch_alpha\":{\"value\":0.2},\"hatch_color\":{\"value\":\"#fee6ce\"},\"height\":{\"value\":0.9},\"left\":{\"expr\":{\"id\":\"6268\"}},\"line_alpha\":{\"value\":0.2},\"line_color\":{\"value\":\"#fee6ce\"},\"right\":{\"expr\":{\"id\":\"6269\"}},\"y\":{\"field\":\"fruits\"}},\"id\":\"6277\",\"type\":\"HBar\"},{\"attributes\":{\"fill_alpha\":{\"value\":0.1},\"fill_color\":{\"value\":\"#fee6ce\"},\"hatch_alpha\":{\"value\":0.1},\"hatch_color\":{\"value\":\"#fee6ce\"},\"height\":{\"value\":0.9},\"left\":{\"expr\":{\"id\":\"6268\"}},\"line_alpha\":{\"value\":0.1},\"line_color\":{\"value\":\"#fee6ce\"},\"right\":{\"expr\":{\"id\":\"6269\"}},\"y\":{\"field\":\"fruits\"}},\"id\":\"6276\",\"type\":\"HBar\"},{\"attributes\":{\"label\":{\"value\":\"2016 exports\"},\"renderers\":[{\"id\":\"6237\"}]},\"id\":\"6249\",\"type\":\"LegendItem\"},{\"attributes\":{\"label\":{\"value\":\"2015 exports\"},\"renderers\":[{\"id\":\"6219\"}]},\"id\":\"6232\",\"type\":\"LegendItem\"},{\"attributes\":{},\"id\":\"6228\",\"type\":\"UnionRenderers\"},{\"attributes\":{\"coordinates\":null,\"group\":null,\"items\":[{\"id\":\"6232\"},{\"id\":\"6249\"},{\"id\":\"6266\"},{\"id\":\"6292\"},{\"id\":\"6311\"},{\"id\":\"6330\"}],\"location\":\"top_left\"},\"id\":\"6231\",\"type\":\"Legend\"},{\"attributes\":{\"fill_color\":{\"value\":\"#fdae6b\"},\"hatch_color\":{\"value\":\"#fdae6b\"},\"height\":{\"value\":0.9},\"left\":{\"expr\":{\"id\":\"6270\"}},\"line_color\":{\"value\":\"#fdae6b\"},\"right\":{\"expr\":{\"id\":\"6271\"}},\"y\":{\"field\":\"fruits\"}},\"id\":\"6294\",\"type\":\"HBar\"},{\"attributes\":{},\"id\":\"6227\",\"type\":\"AllLabels\"},{\"attributes\":{},\"id\":\"6290\",\"type\":\"Selection\"},{\"attributes\":{\"source\":{\"id\":\"6267\"}},\"id\":\"6279\",\"type\":\"CDSView\"},{\"attributes\":{},\"id\":\"6223\",\"type\":\"CategoricalTickFormatter\"},{\"attributes\":{\"fields\":[\"2015\",\"2016\"]},\"id\":\"6213\",\"type\":\"Stack\"},{\"attributes\":{\"label\":{\"value\":\"2015 imports\"},\"renderers\":[{\"id\":\"6278\"}]},\"id\":\"6292\",\"type\":\"LegendItem\"},{\"attributes\":{\"fields\":[\"2015\"]},\"id\":\"6211\",\"type\":\"Stack\"},{\"attributes\":{\"fill_color\":{\"value\":\"#e6550d\"},\"hatch_color\":{\"value\":\"#e6550d\"},\"height\":{\"value\":0.9},\"left\":{\"expr\":{\"id\":\"6272\"}},\"line_color\":{\"value\":\"#e6550d\"},\"right\":{\"expr\":{\"id\":\"6273\"}},\"y\":{\"field\":\"fruits\"}},\"id\":\"6313\",\"type\":\"HBar\"},{\"attributes\":{\"fields\":[\"2015\",\"2016\"]},\"id\":\"6212\",\"type\":\"Stack\"},{\"attributes\":{\"coordinates\":null,\"data_source\":{\"id\":\"6267\"},\"glyph\":{\"id\":\"6313\"},\"group\":null,\"hover_glyph\":null,\"muted_glyph\":{\"id\":\"6315\"},\"name\":\"2017\",\"nonselection_glyph\":{\"id\":\"6314\"},\"view\":{\"id\":\"6317\"}},\"id\":\"6316\",\"type\":\"GlyphRenderer\"},{\"attributes\":{\"tools\":[{\"id\":\"6194\"},{\"id\":\"6195\"},{\"id\":\"6196\"},{\"id\":\"6197\"},{\"id\":\"6198\"},{\"id\":\"6199\"}]},\"id\":\"6201\",\"type\":\"Toolbar\"},{\"attributes\":{\"fill_alpha\":{\"value\":0.1},\"fill_color\":{\"value\":\"#deebf7\"},\"hatch_alpha\":{\"value\":0.1},\"hatch_color\":{\"value\":\"#deebf7\"},\"height\":{\"value\":0.9},\"left\":{\"expr\":{\"id\":\"6209\"}},\"line_alpha\":{\"value\":0.1},\"line_color\":{\"value\":\"#deebf7\"},\"right\":{\"expr\":{\"id\":\"6210\"}},\"y\":{\"field\":\"fruits\"}},\"id\":\"6217\",\"type\":\"HBar\"},{\"attributes\":{},\"id\":\"6289\",\"type\":\"UnionRenderers\"},{\"attributes\":{\"fill_alpha\":{\"value\":0.2},\"fill_color\":{\"value\":\"#deebf7\"},\"hatch_alpha\":{\"value\":0.2},\"hatch_color\":{\"value\":\"#deebf7\"},\"height\":{\"value\":0.9},\"left\":{\"expr\":{\"id\":\"6209\"}},\"line_alpha\":{\"value\":0.2},\"line_color\":{\"value\":\"#deebf7\"},\"right\":{\"expr\":{\"id\":\"6210\"}},\"y\":{\"field\":\"fruits\"}},\"id\":\"6218\",\"type\":\"HBar\"},{\"attributes\":{\"fill_alpha\":{\"value\":0.1},\"fill_color\":{\"value\":\"#e6550d\"},\"hatch_alpha\":{\"value\":0.1},\"hatch_color\":{\"value\":\"#e6550d\"},\"height\":{\"value\":0.9},\"left\":{\"expr\":{\"id\":\"6272\"}},\"line_alpha\":{\"value\":0.1},\"line_color\":{\"value\":\"#e6550d\"},\"right\":{\"expr\":{\"id\":\"6273\"}},\"y\":{\"field\":\"fruits\"}},\"id\":\"6314\",\"type\":\"HBar\"},{\"attributes\":{\"fill_color\":{\"value\":\"#deebf7\"},\"hatch_color\":{\"value\":\"#deebf7\"},\"height\":{\"value\":0.9},\"left\":{\"expr\":{\"id\":\"6209\"}},\"line_color\":{\"value\":\"#deebf7\"},\"right\":{\"expr\":{\"id\":\"6210\"}},\"y\":{\"field\":\"fruits\"}},\"id\":\"6216\",\"type\":\"HBar\"},{\"attributes\":{},\"id\":\"6183\",\"type\":\"LinearScale\"},{\"attributes\":{\"coordinates\":null,\"formatter\":{\"id\":\"6226\"},\"group\":null,\"major_label_policy\":{\"id\":\"6227\"},\"minor_tick_line_color\":null,\"ticker\":{\"id\":\"6188\"}},\"id\":\"6187\",\"type\":\"LinearAxis\"},{\"attributes\":{},\"id\":\"6188\",\"type\":\"BasicTicker\"},{\"attributes\":{\"source\":{\"id\":\"6208\"}},\"id\":\"6220\",\"type\":\"CDSView\"},{\"attributes\":{\"bottom_units\":\"screen\",\"coordinates\":null,\"fill_alpha\":0.5,\"fill_color\":\"lightgrey\",\"group\":null,\"left_units\":\"screen\",\"level\":\"overlay\",\"line_alpha\":1.0,\"line_color\":\"black\",\"line_dash\":[4,4],\"line_width\":2,\"right_units\":\"screen\",\"syncable\":false,\"top_units\":\"screen\"},\"id\":\"6200\",\"type\":\"BoxAnnotation\"},{\"attributes\":{},\"id\":\"6198\",\"type\":\"ResetTool\"},{\"attributes\":{},\"id\":\"6197\",\"type\":\"SaveTool\"},{\"attributes\":{\"overlay\":{\"id\":\"6200\"}},\"id\":\"6196\",\"type\":\"BoxZoomTool\"},{\"attributes\":{},\"id\":\"6194\",\"type\":\"PanTool\"},{\"attributes\":{},\"id\":\"6195\",\"type\":\"WheelZoomTool\"},{\"attributes\":{},\"id\":\"6192\",\"type\":\"CategoricalTicker\"},{\"attributes\":{\"axis\":{\"id\":\"6191\"},\"coordinates\":null,\"dimension\":1,\"grid_line_color\":null,\"group\":null,\"ticker\":null},\"id\":\"6193\",\"type\":\"Grid\"},{\"attributes\":{\"fields\":[]},\"id\":\"6209\",\"type\":\"Stack\"},{\"attributes\":{\"axis\":{\"id\":\"6187\"},\"coordinates\":null,\"group\":null,\"ticker\":null},\"id\":\"6190\",\"type\":\"Grid\"},{\"attributes\":{\"coordinates\":null,\"formatter\":{\"id\":\"6223\"},\"group\":null,\"major_label_policy\":{\"id\":\"6224\"},\"minor_tick_line_color\":null,\"ticker\":{\"id\":\"6192\"}},\"id\":\"6191\",\"type\":\"CategoricalAxis\"},{\"attributes\":{\"factors\":[\"Apples\",\"Pears\",\"Nectarines\",\"Plums\",\"Grapes\",\"Strawberries\"],\"range_padding\":0.1},\"id\":\"6181\",\"type\":\"FactorRange\"},{\"attributes\":{\"coordinates\":null,\"group\":null,\"text\":\"Fruit import/export, by year\"},\"id\":\"6177\",\"type\":\"Title\"},{\"attributes\":{},\"id\":\"6185\",\"type\":\"CategoricalScale\"},{\"attributes\":{},\"id\":\"6199\",\"type\":\"HelpTool\"}],\"root_ids\":[\"6176\"]},\"title\":\"Bokeh Application\",\"version\":\"2.4.3\"}};\n",
       "  const render_items = [{\"docid\":\"caa16a16-19da-41ac-8378-6005e4007537\",\"root_ids\":[\"6176\"],\"roots\":{\"6176\":\"60dc4f25-4785-4eb6-b58e-71a8a0b49796\"}}];\n",
       "  root.Bokeh.embed.embed_items_notebook(docs_json, render_items);\n",
       "  }\n",
       "  if (root.Bokeh !== undefined) {\n",
       "    embed_document(root);\n",
       "  } else {\n",
       "    let attempts = 0;\n",
       "    const timer = setInterval(function(root) {\n",
       "      if (root.Bokeh !== undefined) {\n",
       "        clearInterval(timer);\n",
       "        embed_document(root);\n",
       "      } else {\n",
       "        attempts++;\n",
       "        if (attempts > 100) {\n",
       "          clearInterval(timer);\n",
       "          console.log(\"Bokeh: ERROR: Unable to run BokehJS code because BokehJS library is missing\");\n",
       "        }\n",
       "      }\n",
       "    }, 10, root)\n",
       "  }\n",
       "})(window);"
      ],
      "application/vnd.bokehjs_exec.v0+json": ""
     },
     "metadata": {
      "application/vnd.bokehjs_exec.v0+json": {
       "id": "6176"
      }
     },
     "output_type": "display_data"
    }
   ],
   "source": [
    "from bokeh.palettes import GnBu3, OrRd3, Blues3, Oranges3\n",
    "\n",
    "Blues3 = Blues3[::-1]\n",
    "Oranges3 = Oranges3[::-1]\n",
    "\n",
    "fruits = ['Apples', 'Pears', 'Nectarines', 'Plums', 'Grapes', 'Strawberries']\n",
    "years = [\"2015\", \"2016\", \"2017\"]\n",
    "\n",
    "exports = {'fruits' : fruits,\n",
    "           '2015'   : [2, 1, 4, 3, 2, 4],\n",
    "           '2016'   : [5, 3, 4, 2, 4, 6],\n",
    "           '2017'   : [3, 2, 4, 4, 5, 3]}\n",
    "imports = {'fruits' : fruits,\n",
    "           '2015'   : [-1, 0, -1, -3, -2, -1],\n",
    "           '2016'   : [-2, -1, -3, -1, -2, -2],\n",
    "           '2017'   : [-1, -2, -1, 0, -2, -2]}\n",
    "\n",
    "p = figure(y_range=fruits, plot_height=250, x_range=(-16, 16), title=\"Fruit import/export, by year\",\n",
    "           toolbar_location=None)\n",
    "\n",
    "p.hbar_stack(years, y='fruits', height=0.9, color=Blues3, source=ColumnDataSource(exports),\n",
    "             legend_label=[\"%s exports\" % x for x in years])\n",
    "\n",
    "p.hbar_stack(years, y='fruits', height=0.9, color=Oranges3, source=ColumnDataSource(imports),\n",
    "             legend_label=[\"%s imports\" % x for x in years])\n",
    "\n",
    "p.y_range.range_padding = 0.1\n",
    "p.ygrid.grid_line_color = None\n",
    "p.legend.location = \"top_left\"\n",
    "p.axis.minor_tick_line_color = None\n",
    "p.outline_line_color = None\n",
    "\n",
    "show(p)"
   ]
  },
  {
   "cell_type": "markdown",
   "metadata": {},
   "source": [
    "## Mixing Categorical Levels\n",
    "\n",
    "If you have created a range with nested categories as above, it is possible to plot glyphs using only the \"outer\" categories, if desired. The plot below shows monthly values grouped by quarter as bars. The data for these are in the famliar format:\n",
    "\n",
    "    factors = [(\"Q1\", \"jan\"), (\"Q1\", \"feb\"), (\"Q1\", \"mar\"), ....]\n",
    "\n",
    "The plot also overlays a line representing average quarterly values, and this is accomplished by using only the \"quarter\" part of each nexted category:\n",
    "\n",
    "    p.line(x=[\"Q1\", \"Q2\", \"Q3\", \"Q4\"], y=....)"
   ]
  },
  {
   "cell_type": "code",
   "execution_count": 32,
   "metadata": {},
   "outputs": [
    {
     "data": {
      "text/html": [
       "\n",
       "  <div class=\"bk-root\" id=\"41a412ff-ce68-4dc0-9501-757a185177fe\" data-root-id=\"6633\"></div>\n"
      ]
     },
     "metadata": {},
     "output_type": "display_data"
    },
    {
     "data": {
      "application/javascript": [
       "(function(root) {\n",
       "  function embed_document(root) {\n",
       "  const docs_json = {\"d1dbbb11-2608-421d-8277-08aba2737a08\":{\"defs\":[],\"roots\":{\"references\":[{\"attributes\":{\"below\":[{\"id\":\"6641\"}],\"center\":[{\"id\":\"6643\"},{\"id\":\"6647\"}],\"height\":250,\"left\":[{\"id\":\"6644\"}],\"renderers\":[{\"id\":\"6666\"},{\"id\":\"6672\"},{\"id\":\"6678\"}],\"title\":{\"id\":\"6921\"},\"toolbar\":{\"id\":\"6655\"},\"x_range\":{\"id\":\"6632\"},\"x_scale\":{\"id\":\"6637\"},\"y_range\":{\"id\":\"6635\"},\"y_scale\":{\"id\":\"6639\"}},\"id\":\"6633\",\"subtype\":\"Figure\",\"type\":\"Plot\"},{\"attributes\":{\"fill_alpha\":{\"value\":0.2},\"fill_color\":{\"value\":\"white\"},\"hatch_alpha\":{\"value\":0.2},\"line_alpha\":{\"value\":0.2},\"line_color\":{\"value\":\"red\"},\"size\":{\"value\":10},\"x\":{\"field\":\"x\"},\"y\":{\"field\":\"y\"}},\"id\":\"6677\",\"type\":\"Circle\"},{\"attributes\":{},\"id\":\"6928\",\"type\":\"AllLabels\"},{\"attributes\":{\"coordinates\":null,\"formatter\":{\"id\":\"6927\"},\"group\":null,\"major_label_policy\":{\"id\":\"6928\"},\"ticker\":{\"id\":\"6642\"}},\"id\":\"6641\",\"type\":\"CategoricalAxis\"},{\"attributes\":{\"fill_color\":{\"value\":\"white\"},\"line_color\":{\"value\":\"red\"},\"size\":{\"value\":10},\"x\":{\"field\":\"x\"},\"y\":{\"field\":\"y\"}},\"id\":\"6675\",\"type\":\"Circle\"},{\"attributes\":{\"line_alpha\":0.2,\"line_color\":\"red\",\"line_width\":3,\"x\":{\"field\":\"x\"},\"y\":{\"field\":\"y\"}},\"id\":\"6671\",\"type\":\"Line\"},{\"attributes\":{},\"id\":\"6933\",\"type\":\"UnionRenderers\"},{\"attributes\":{},\"id\":\"6934\",\"type\":\"Selection\"},{\"attributes\":{\"coordinates\":null,\"data_source\":{\"id\":\"6668\"},\"glyph\":{\"id\":\"6669\"},\"group\":null,\"hover_glyph\":null,\"muted_glyph\":{\"id\":\"6671\"},\"nonselection_glyph\":{\"id\":\"6670\"},\"view\":{\"id\":\"6673\"}},\"id\":\"6672\",\"type\":\"GlyphRenderer\"},{\"attributes\":{\"data\":{\"top\":[10,12,16,9,10,8,12,13,14,14,12,16],\"x\":[[\"Q1\",\"jan\"],[\"Q1\",\"feb\"],[\"Q1\",\"mar\"],[\"Q2\",\"apr\"],[\"Q2\",\"may\"],[\"Q2\",\"jun\"],[\"Q3\",\"jul\"],[\"Q3\",\"aug\"],[\"Q3\",\"sep\"],[\"Q4\",\"oct\"],[\"Q4\",\"nov\"],[\"Q4\",\"dec\"]]},\"selected\":{\"id\":\"6930\"},\"selection_policy\":{\"id\":\"6929\"}},\"id\":\"6662\",\"type\":\"ColumnDataSource\"},{\"attributes\":{},\"id\":\"6929\",\"type\":\"UnionRenderers\"},{\"attributes\":{\"line_color\":\"red\",\"line_width\":3,\"x\":{\"field\":\"x\"},\"y\":{\"field\":\"y\"}},\"id\":\"6669\",\"type\":\"Line\"},{\"attributes\":{},\"id\":\"6642\",\"type\":\"CategoricalTicker\"},{\"attributes\":{\"coordinates\":null,\"data_source\":{\"id\":\"6662\"},\"glyph\":{\"id\":\"6663\"},\"group\":null,\"hover_glyph\":null,\"muted_glyph\":{\"id\":\"6665\"},\"nonselection_glyph\":{\"id\":\"6664\"},\"view\":{\"id\":\"6667\"}},\"id\":\"6666\",\"type\":\"GlyphRenderer\"},{\"attributes\":{\"coordinates\":null,\"formatter\":{\"id\":\"6924\"},\"group\":null,\"major_label_policy\":{\"id\":\"6925\"},\"ticker\":{\"id\":\"6645\"}},\"id\":\"6644\",\"type\":\"LinearAxis\"},{\"attributes\":{},\"id\":\"6930\",\"type\":\"Selection\"},{\"attributes\":{},\"id\":\"6639\",\"type\":\"LinearScale\"},{\"attributes\":{},\"id\":\"6924\",\"type\":\"BasicTickFormatter\"},{\"attributes\":{\"start\":0},\"id\":\"6635\",\"type\":\"DataRange1d\"},{\"attributes\":{\"bottom_units\":\"screen\",\"coordinates\":null,\"fill_alpha\":0.5,\"fill_color\":\"lightgrey\",\"group\":null,\"left_units\":\"screen\",\"level\":\"overlay\",\"line_alpha\":1.0,\"line_color\":\"black\",\"line_dash\":[4,4],\"line_width\":2,\"right_units\":\"screen\",\"syncable\":false,\"top_units\":\"screen\"},\"id\":\"6654\",\"type\":\"BoxAnnotation\"},{\"attributes\":{\"line_alpha\":0.1,\"line_color\":\"red\",\"line_width\":3,\"x\":{\"field\":\"x\"},\"y\":{\"field\":\"y\"}},\"id\":\"6670\",\"type\":\"Line\"},{\"attributes\":{\"data\":{\"x\":[\"Q1\",\"Q2\",\"Q3\",\"Q4\"],\"y\":[12,9,13,14]},\"selected\":{\"id\":\"6932\"},\"selection_policy\":{\"id\":\"6931\"}},\"id\":\"6668\",\"type\":\"ColumnDataSource\"},{\"attributes\":{\"coordinates\":null,\"group\":null},\"id\":\"6921\",\"type\":\"Title\"},{\"attributes\":{},\"id\":\"6648\",\"type\":\"PanTool\"},{\"attributes\":{\"tools\":[{\"id\":\"6648\"},{\"id\":\"6649\"},{\"id\":\"6650\"},{\"id\":\"6651\"},{\"id\":\"6652\"},{\"id\":\"6653\"}]},\"id\":\"6655\",\"type\":\"Toolbar\"},{\"attributes\":{\"fill_alpha\":{\"value\":0.1},\"fill_color\":{\"value\":\"#1f77b4\"},\"hatch_alpha\":{\"value\":0.1},\"line_alpha\":{\"value\":0.1},\"line_color\":{\"value\":\"#1f77b4\"},\"top\":{\"field\":\"top\"},\"width\":{\"value\":0.9},\"x\":{\"field\":\"x\"}},\"id\":\"6664\",\"type\":\"VBar\"},{\"attributes\":{\"source\":{\"id\":\"6662\"}},\"id\":\"6667\",\"type\":\"CDSView\"},{\"attributes\":{},\"id\":\"6645\",\"type\":\"BasicTicker\"},{\"attributes\":{},\"id\":\"6925\",\"type\":\"AllLabels\"},{\"attributes\":{\"axis\":{\"id\":\"6641\"},\"coordinates\":null,\"grid_line_color\":null,\"group\":null,\"ticker\":null},\"id\":\"6643\",\"type\":\"Grid\"},{\"attributes\":{\"data\":{\"x\":[\"Q1\",\"Q2\",\"Q3\",\"Q4\"],\"y\":[12,9,13,14]},\"selected\":{\"id\":\"6934\"},\"selection_policy\":{\"id\":\"6933\"}},\"id\":\"6674\",\"type\":\"ColumnDataSource\"},{\"attributes\":{},\"id\":\"6927\",\"type\":\"CategoricalTickFormatter\"},{\"attributes\":{\"fill_alpha\":{\"value\":0.5},\"fill_color\":{\"value\":\"#1f77b4\"},\"hatch_alpha\":{\"value\":0.5},\"line_alpha\":{\"value\":0.5},\"line_color\":{\"value\":\"#1f77b4\"},\"top\":{\"field\":\"top\"},\"width\":{\"value\":0.9},\"x\":{\"field\":\"x\"}},\"id\":\"6663\",\"type\":\"VBar\"},{\"attributes\":{\"axis\":{\"id\":\"6644\"},\"coordinates\":null,\"dimension\":1,\"group\":null,\"ticker\":null},\"id\":\"6647\",\"type\":\"Grid\"},{\"attributes\":{\"source\":{\"id\":\"6668\"}},\"id\":\"6673\",\"type\":\"CDSView\"},{\"attributes\":{\"factors\":[[\"Q1\",\"jan\"],[\"Q1\",\"feb\"],[\"Q1\",\"mar\"],[\"Q2\",\"apr\"],[\"Q2\",\"may\"],[\"Q2\",\"jun\"],[\"Q3\",\"jul\"],[\"Q3\",\"aug\"],[\"Q3\",\"sep\"],[\"Q4\",\"oct\"],[\"Q4\",\"nov\"],[\"Q4\",\"dec\"]],\"range_padding\":0.1},\"id\":\"6632\",\"type\":\"FactorRange\"},{\"attributes\":{\"coordinates\":null,\"data_source\":{\"id\":\"6674\"},\"glyph\":{\"id\":\"6675\"},\"group\":null,\"hover_glyph\":null,\"muted_glyph\":{\"id\":\"6677\"},\"nonselection_glyph\":{\"id\":\"6676\"},\"view\":{\"id\":\"6679\"}},\"id\":\"6678\",\"type\":\"GlyphRenderer\"},{\"attributes\":{\"fill_alpha\":{\"value\":0.2},\"fill_color\":{\"value\":\"#1f77b4\"},\"hatch_alpha\":{\"value\":0.2},\"line_alpha\":{\"value\":0.2},\"line_color\":{\"value\":\"#1f77b4\"},\"top\":{\"field\":\"top\"},\"width\":{\"value\":0.9},\"x\":{\"field\":\"x\"}},\"id\":\"6665\",\"type\":\"VBar\"},{\"attributes\":{},\"id\":\"6931\",\"type\":\"UnionRenderers\"},{\"attributes\":{},\"id\":\"6651\",\"type\":\"SaveTool\"},{\"attributes\":{},\"id\":\"6932\",\"type\":\"Selection\"},{\"attributes\":{\"overlay\":{\"id\":\"6654\"}},\"id\":\"6650\",\"type\":\"BoxZoomTool\"},{\"attributes\":{},\"id\":\"6637\",\"type\":\"CategoricalScale\"},{\"attributes\":{},\"id\":\"6649\",\"type\":\"WheelZoomTool\"},{\"attributes\":{\"fill_alpha\":{\"value\":0.1},\"fill_color\":{\"value\":\"white\"},\"hatch_alpha\":{\"value\":0.1},\"line_alpha\":{\"value\":0.1},\"line_color\":{\"value\":\"red\"},\"size\":{\"value\":10},\"x\":{\"field\":\"x\"},\"y\":{\"field\":\"y\"}},\"id\":\"6676\",\"type\":\"Circle\"},{\"attributes\":{\"source\":{\"id\":\"6674\"}},\"id\":\"6679\",\"type\":\"CDSView\"},{\"attributes\":{},\"id\":\"6653\",\"type\":\"HelpTool\"},{\"attributes\":{},\"id\":\"6652\",\"type\":\"ResetTool\"}],\"root_ids\":[\"6633\"]},\"title\":\"Bokeh Application\",\"version\":\"2.4.3\"}};\n",
       "  const render_items = [{\"docid\":\"d1dbbb11-2608-421d-8277-08aba2737a08\",\"root_ids\":[\"6633\"],\"roots\":{\"6633\":\"41a412ff-ce68-4dc0-9501-757a185177fe\"}}];\n",
       "  root.Bokeh.embed.embed_items_notebook(docs_json, render_items);\n",
       "  }\n",
       "  if (root.Bokeh !== undefined) {\n",
       "    embed_document(root);\n",
       "  } else {\n",
       "    let attempts = 0;\n",
       "    const timer = setInterval(function(root) {\n",
       "      if (root.Bokeh !== undefined) {\n",
       "        clearInterval(timer);\n",
       "        embed_document(root);\n",
       "      } else {\n",
       "        attempts++;\n",
       "        if (attempts > 100) {\n",
       "          clearInterval(timer);\n",
       "          console.log(\"Bokeh: ERROR: Unable to run BokehJS code because BokehJS library is missing\");\n",
       "        }\n",
       "      }\n",
       "    }, 10, root)\n",
       "  }\n",
       "})(window);"
      ],
      "application/vnd.bokehjs_exec.v0+json": ""
     },
     "metadata": {
      "application/vnd.bokehjs_exec.v0+json": {
       "id": "6633"
      }
     },
     "output_type": "display_data"
    }
   ],
   "source": [
    "factors = [(\"Q1\", \"jan\"), (\"Q1\", \"feb\"), (\"Q1\", \"mar\"),\n",
    "           (\"Q2\", \"apr\"), (\"Q2\", \"may\"), (\"Q2\", \"jun\"),\n",
    "           (\"Q3\", \"jul\"), (\"Q3\", \"aug\"), (\"Q3\", \"sep\"),\n",
    "           (\"Q4\", \"oct\"), (\"Q4\", \"nov\"), (\"Q4\", \"dec\")]\n",
    "\n",
    "p = figure(x_range=FactorRange(*factors), plot_height=250)\n",
    "\n",
    "x = [ 10, 12, 16, 9, 10, 8, 12, 13, 14, 14, 12, 16 ]\n",
    "p.vbar(x=factors, top=x, width=0.9, alpha=0.5)\n",
    "\n",
    "qs, aves = [\"Q1\", \"Q2\", \"Q3\", \"Q4\"], [12, 9, 13, 14]\n",
    "p.line(x=qs, y=aves, color=\"red\", line_width=3)\n",
    "p.circle(x=qs, y=aves, line_color=\"red\", fill_color=\"white\", size=10)\n",
    "\n",
    "p.y_range.start = 0\n",
    "p.x_range.range_padding = 0.1\n",
    "p.xgrid.grid_line_color = None\n",
    "\n",
    "show(p)"
   ]
  },
  {
   "cell_type": "markdown",
   "metadata": {},
   "source": [
    "## Using Pandas `GroupBy`\n",
    "\n",
    "We may want to make charts based on the results of \"group by\" operations. Bokeh can utilize Pandas `GroupBy` objects directly to make this simpler. Let's take a look at how Bokeh deals with `GroupBy` objects by examining the \"cars\" data set."
   ]
  },
  {
   "cell_type": "code",
   "execution_count": 33,
   "metadata": {},
   "outputs": [
    {
     "data": {
      "text/html": [
       "<div>\n",
       "<style scoped>\n",
       "    .dataframe tbody tr th:only-of-type {\n",
       "        vertical-align: middle;\n",
       "    }\n",
       "\n",
       "    .dataframe tbody tr th {\n",
       "        vertical-align: top;\n",
       "    }\n",
       "\n",
       "    .dataframe thead th {\n",
       "        text-align: right;\n",
       "    }\n",
       "</style>\n",
       "<table border=\"1\" class=\"dataframe\">\n",
       "  <thead>\n",
       "    <tr style=\"text-align: right;\">\n",
       "      <th></th>\n",
       "      <th>mpg</th>\n",
       "      <th>cyl</th>\n",
       "      <th>displ</th>\n",
       "      <th>hp</th>\n",
       "      <th>weight</th>\n",
       "      <th>accel</th>\n",
       "      <th>yr</th>\n",
       "      <th>origin</th>\n",
       "      <th>name</th>\n",
       "      <th>mfr</th>\n",
       "    </tr>\n",
       "  </thead>\n",
       "  <tbody>\n",
       "    <tr>\n",
       "      <th>0</th>\n",
       "      <td>18.0</td>\n",
       "      <td>8</td>\n",
       "      <td>307.0</td>\n",
       "      <td>130</td>\n",
       "      <td>3504</td>\n",
       "      <td>12.0</td>\n",
       "      <td>70</td>\n",
       "      <td>North America</td>\n",
       "      <td>chevrolet chevelle malibu</td>\n",
       "      <td>chevrolet</td>\n",
       "    </tr>\n",
       "    <tr>\n",
       "      <th>1</th>\n",
       "      <td>15.0</td>\n",
       "      <td>8</td>\n",
       "      <td>350.0</td>\n",
       "      <td>165</td>\n",
       "      <td>3693</td>\n",
       "      <td>11.5</td>\n",
       "      <td>70</td>\n",
       "      <td>North America</td>\n",
       "      <td>buick skylark 320</td>\n",
       "      <td>buick</td>\n",
       "    </tr>\n",
       "    <tr>\n",
       "      <th>2</th>\n",
       "      <td>18.0</td>\n",
       "      <td>8</td>\n",
       "      <td>318.0</td>\n",
       "      <td>150</td>\n",
       "      <td>3436</td>\n",
       "      <td>11.0</td>\n",
       "      <td>70</td>\n",
       "      <td>North America</td>\n",
       "      <td>plymouth satellite</td>\n",
       "      <td>plymouth</td>\n",
       "    </tr>\n",
       "    <tr>\n",
       "      <th>3</th>\n",
       "      <td>16.0</td>\n",
       "      <td>8</td>\n",
       "      <td>304.0</td>\n",
       "      <td>150</td>\n",
       "      <td>3433</td>\n",
       "      <td>12.0</td>\n",
       "      <td>70</td>\n",
       "      <td>North America</td>\n",
       "      <td>amc rebel sst</td>\n",
       "      <td>amc</td>\n",
       "    </tr>\n",
       "    <tr>\n",
       "      <th>4</th>\n",
       "      <td>17.0</td>\n",
       "      <td>8</td>\n",
       "      <td>302.0</td>\n",
       "      <td>140</td>\n",
       "      <td>3449</td>\n",
       "      <td>10.5</td>\n",
       "      <td>70</td>\n",
       "      <td>North America</td>\n",
       "      <td>ford torino</td>\n",
       "      <td>ford</td>\n",
       "    </tr>\n",
       "  </tbody>\n",
       "</table>\n",
       "</div>"
      ],
      "text/plain": [
       "    mpg cyl  displ   hp  weight  accel  yr         origin  \\\n",
       "0  18.0   8  307.0  130    3504   12.0  70  North America   \n",
       "1  15.0   8  350.0  165    3693   11.5  70  North America   \n",
       "2  18.0   8  318.0  150    3436   11.0  70  North America   \n",
       "3  16.0   8  304.0  150    3433   12.0  70  North America   \n",
       "4  17.0   8  302.0  140    3449   10.5  70  North America   \n",
       "\n",
       "                        name        mfr  \n",
       "0  chevrolet chevelle malibu  chevrolet  \n",
       "1          buick skylark 320      buick  \n",
       "2         plymouth satellite   plymouth  \n",
       "3              amc rebel sst        amc  \n",
       "4                ford torino       ford  "
      ]
     },
     "execution_count": 33,
     "metadata": {},
     "output_type": "execute_result"
    }
   ],
   "source": [
    "from bokeh.sampledata.autompg import autompg_clean as df\n",
    "\n",
    "df.cyl = df.cyl.astype(str)\n",
    "df.head()"
   ]
  },
  {
   "cell_type": "markdown",
   "metadata": {},
   "source": [
    "Suppose we would like to display some values grouped according to `\"cyl\"`. If we create `df.groupby(('cyl'))` then call `group.describe()` we can see that Pandas automatically computes various statistics for each group. "
   ]
  },
  {
   "cell_type": "code",
   "execution_count": 34,
   "metadata": {},
   "outputs": [
    {
     "data": {
      "text/html": [
       "<div>\n",
       "<style scoped>\n",
       "    .dataframe tbody tr th:only-of-type {\n",
       "        vertical-align: middle;\n",
       "    }\n",
       "\n",
       "    .dataframe tbody tr th {\n",
       "        vertical-align: top;\n",
       "    }\n",
       "\n",
       "    .dataframe thead tr th {\n",
       "        text-align: left;\n",
       "    }\n",
       "\n",
       "    .dataframe thead tr:last-of-type th {\n",
       "        text-align: right;\n",
       "    }\n",
       "</style>\n",
       "<table border=\"1\" class=\"dataframe\">\n",
       "  <thead>\n",
       "    <tr>\n",
       "      <th></th>\n",
       "      <th colspan=\"8\" halign=\"left\">mpg</th>\n",
       "      <th colspan=\"2\" halign=\"left\">displ</th>\n",
       "      <th>...</th>\n",
       "      <th colspan=\"2\" halign=\"left\">accel</th>\n",
       "      <th colspan=\"8\" halign=\"left\">yr</th>\n",
       "    </tr>\n",
       "    <tr>\n",
       "      <th></th>\n",
       "      <th>count</th>\n",
       "      <th>mean</th>\n",
       "      <th>std</th>\n",
       "      <th>min</th>\n",
       "      <th>25%</th>\n",
       "      <th>50%</th>\n",
       "      <th>75%</th>\n",
       "      <th>max</th>\n",
       "      <th>count</th>\n",
       "      <th>mean</th>\n",
       "      <th>...</th>\n",
       "      <th>75%</th>\n",
       "      <th>max</th>\n",
       "      <th>count</th>\n",
       "      <th>mean</th>\n",
       "      <th>std</th>\n",
       "      <th>min</th>\n",
       "      <th>25%</th>\n",
       "      <th>50%</th>\n",
       "      <th>75%</th>\n",
       "      <th>max</th>\n",
       "    </tr>\n",
       "    <tr>\n",
       "      <th>cyl</th>\n",
       "      <th></th>\n",
       "      <th></th>\n",
       "      <th></th>\n",
       "      <th></th>\n",
       "      <th></th>\n",
       "      <th></th>\n",
       "      <th></th>\n",
       "      <th></th>\n",
       "      <th></th>\n",
       "      <th></th>\n",
       "      <th></th>\n",
       "      <th></th>\n",
       "      <th></th>\n",
       "      <th></th>\n",
       "      <th></th>\n",
       "      <th></th>\n",
       "      <th></th>\n",
       "      <th></th>\n",
       "      <th></th>\n",
       "      <th></th>\n",
       "      <th></th>\n",
       "    </tr>\n",
       "  </thead>\n",
       "  <tbody>\n",
       "    <tr>\n",
       "      <th>3</th>\n",
       "      <td>4.0</td>\n",
       "      <td>20.550000</td>\n",
       "      <td>2.564501</td>\n",
       "      <td>18.0</td>\n",
       "      <td>18.75</td>\n",
       "      <td>20.25</td>\n",
       "      <td>22.05</td>\n",
       "      <td>23.7</td>\n",
       "      <td>4.0</td>\n",
       "      <td>72.500000</td>\n",
       "      <td>...</td>\n",
       "      <td>13.5</td>\n",
       "      <td>13.5</td>\n",
       "      <td>4.0</td>\n",
       "      <td>75.500000</td>\n",
       "      <td>3.696846</td>\n",
       "      <td>72.0</td>\n",
       "      <td>72.75</td>\n",
       "      <td>75.0</td>\n",
       "      <td>77.75</td>\n",
       "      <td>80.0</td>\n",
       "    </tr>\n",
       "    <tr>\n",
       "      <th>4</th>\n",
       "      <td>199.0</td>\n",
       "      <td>29.283920</td>\n",
       "      <td>5.670546</td>\n",
       "      <td>18.0</td>\n",
       "      <td>25.00</td>\n",
       "      <td>28.40</td>\n",
       "      <td>32.95</td>\n",
       "      <td>46.6</td>\n",
       "      <td>199.0</td>\n",
       "      <td>109.670854</td>\n",
       "      <td>...</td>\n",
       "      <td>18.0</td>\n",
       "      <td>24.8</td>\n",
       "      <td>199.0</td>\n",
       "      <td>77.030151</td>\n",
       "      <td>3.737484</td>\n",
       "      <td>70.0</td>\n",
       "      <td>74.00</td>\n",
       "      <td>77.0</td>\n",
       "      <td>80.00</td>\n",
       "      <td>82.0</td>\n",
       "    </tr>\n",
       "    <tr>\n",
       "      <th>5</th>\n",
       "      <td>3.0</td>\n",
       "      <td>27.366667</td>\n",
       "      <td>8.228204</td>\n",
       "      <td>20.3</td>\n",
       "      <td>22.85</td>\n",
       "      <td>25.40</td>\n",
       "      <td>30.90</td>\n",
       "      <td>36.4</td>\n",
       "      <td>3.0</td>\n",
       "      <td>145.000000</td>\n",
       "      <td>...</td>\n",
       "      <td>20.0</td>\n",
       "      <td>20.1</td>\n",
       "      <td>3.0</td>\n",
       "      <td>79.000000</td>\n",
       "      <td>1.000000</td>\n",
       "      <td>78.0</td>\n",
       "      <td>78.50</td>\n",
       "      <td>79.0</td>\n",
       "      <td>79.50</td>\n",
       "      <td>80.0</td>\n",
       "    </tr>\n",
       "    <tr>\n",
       "      <th>6</th>\n",
       "      <td>83.0</td>\n",
       "      <td>19.973494</td>\n",
       "      <td>3.828809</td>\n",
       "      <td>15.0</td>\n",
       "      <td>18.00</td>\n",
       "      <td>19.00</td>\n",
       "      <td>21.00</td>\n",
       "      <td>38.0</td>\n",
       "      <td>83.0</td>\n",
       "      <td>218.361446</td>\n",
       "      <td>...</td>\n",
       "      <td>17.6</td>\n",
       "      <td>21.0</td>\n",
       "      <td>83.0</td>\n",
       "      <td>75.951807</td>\n",
       "      <td>3.264381</td>\n",
       "      <td>70.0</td>\n",
       "      <td>74.00</td>\n",
       "      <td>76.0</td>\n",
       "      <td>78.00</td>\n",
       "      <td>82.0</td>\n",
       "    </tr>\n",
       "    <tr>\n",
       "      <th>8</th>\n",
       "      <td>103.0</td>\n",
       "      <td>14.963107</td>\n",
       "      <td>2.836284</td>\n",
       "      <td>9.0</td>\n",
       "      <td>13.00</td>\n",
       "      <td>14.00</td>\n",
       "      <td>16.00</td>\n",
       "      <td>26.6</td>\n",
       "      <td>103.0</td>\n",
       "      <td>345.009709</td>\n",
       "      <td>...</td>\n",
       "      <td>14.0</td>\n",
       "      <td>22.2</td>\n",
       "      <td>103.0</td>\n",
       "      <td>73.902913</td>\n",
       "      <td>3.021214</td>\n",
       "      <td>70.0</td>\n",
       "      <td>72.00</td>\n",
       "      <td>73.0</td>\n",
       "      <td>76.00</td>\n",
       "      <td>81.0</td>\n",
       "    </tr>\n",
       "  </tbody>\n",
       "</table>\n",
       "<p>5 rows × 48 columns</p>\n",
       "</div>"
      ],
      "text/plain": [
       "       mpg                                                        displ  \\\n",
       "     count       mean       std   min    25%    50%    75%   max  count   \n",
       "cyl                                                                       \n",
       "3      4.0  20.550000  2.564501  18.0  18.75  20.25  22.05  23.7    4.0   \n",
       "4    199.0  29.283920  5.670546  18.0  25.00  28.40  32.95  46.6  199.0   \n",
       "5      3.0  27.366667  8.228204  20.3  22.85  25.40  30.90  36.4    3.0   \n",
       "6     83.0  19.973494  3.828809  15.0  18.00  19.00  21.00  38.0   83.0   \n",
       "8    103.0  14.963107  2.836284   9.0  13.00  14.00  16.00  26.6  103.0   \n",
       "\n",
       "                 ... accel           yr                                    \\\n",
       "           mean  ...   75%   max  count       mean       std   min    25%   \n",
       "cyl              ...                                                        \n",
       "3     72.500000  ...  13.5  13.5    4.0  75.500000  3.696846  72.0  72.75   \n",
       "4    109.670854  ...  18.0  24.8  199.0  77.030151  3.737484  70.0  74.00   \n",
       "5    145.000000  ...  20.0  20.1    3.0  79.000000  1.000000  78.0  78.50   \n",
       "6    218.361446  ...  17.6  21.0   83.0  75.951807  3.264381  70.0  74.00   \n",
       "8    345.009709  ...  14.0  22.2  103.0  73.902913  3.021214  70.0  72.00   \n",
       "\n",
       "                        \n",
       "      50%    75%   max  \n",
       "cyl                     \n",
       "3    75.0  77.75  80.0  \n",
       "4    77.0  80.00  82.0  \n",
       "5    79.0  79.50  80.0  \n",
       "6    76.0  78.00  82.0  \n",
       "8    73.0  76.00  81.0  \n",
       "\n",
       "[5 rows x 48 columns]"
      ]
     },
     "execution_count": 34,
     "metadata": {},
     "output_type": "execute_result"
    }
   ],
   "source": [
    "group = df.groupby(('cyl'))\n",
    "\n",
    "group.describe()"
   ]
  },
  {
   "cell_type": "markdown",
   "metadata": {},
   "source": [
    "Bokeh allows us to create a `ColumnDataSource` directly from Pandas `GroupBy` objects, and when this happens, the data source is automatically filled with the summary values from `group.desribe()`. Observe the column names below, which correspond to the output above."
   ]
  },
  {
   "cell_type": "code",
   "execution_count": 35,
   "metadata": {},
   "outputs": [
    {
     "data": {
      "text/plain": [
       "'cyl,mpg_count,mpg_mean,mpg_std,mpg_min,mpg_25%,mpg_50%,mpg_75%,mpg_max,displ_count,displ_mean,displ_std,displ_min,displ_25%,displ_50%,displ_75%,displ_max,hp_count,hp_mean,hp_std,hp_min,hp_25%,hp_50%,hp_75%,hp_max,weight_count,weight_mean,weight_std,weight_min,weight_25%,weight_50%,weight_75%,weight_max,accel_count,accel_mean,accel_std,accel_min,accel_25%,accel_50%,accel_75%,accel_max,yr_count,yr_mean,yr_std,yr_min,yr_25%,yr_50%,yr_75%,yr_max'"
      ]
     },
     "execution_count": 35,
     "metadata": {},
     "output_type": "execute_result"
    }
   ],
   "source": [
    "source = ColumnDataSource(group)\n",
    "\n",
    "\",\".join(source.column_names)"
   ]
  },
  {
   "cell_type": "markdown",
   "metadata": {},
   "source": [
    "Knowing these column names, we can immediately create bar charts based on Pandas `GroupBy` objects. The example below plots the aveage MPG per cylinder, i.e. columns `\"mpg_mean\"` vs `\"cyl\"`"
   ]
  },
  {
   "cell_type": "code",
   "execution_count": 36,
   "metadata": {},
   "outputs": [
    {
     "data": {
      "text/html": [
       "\n",
       "  <div class=\"bk-root\" id=\"479d423e-0808-4ce5-a3c5-a6600067a1df\" data-root-id=\"7013\"></div>\n"
      ]
     },
     "metadata": {},
     "output_type": "display_data"
    },
    {
     "data": {
      "application/javascript": [
       "(function(root) {\n",
       "  function embed_document(root) {\n",
       "  const docs_json = {\"a392a6d4-57f0-4eb6-bb0a-858a62c40321\":{\"defs\":[],\"roots\":{\"references\":[{\"attributes\":{\"below\":[{\"id\":\"7022\"}],\"center\":[{\"id\":\"7024\"},{\"id\":\"7028\"}],\"height\":350,\"left\":[{\"id\":\"7025\"}],\"renderers\":[{\"id\":\"7047\"}],\"title\":{\"id\":\"7305\"},\"toolbar\":{\"id\":\"7036\"},\"x_range\":{\"id\":\"7014\"},\"x_scale\":{\"id\":\"7018\"},\"y_range\":{\"id\":\"7016\"},\"y_scale\":{\"id\":\"7020\"}},\"id\":\"7013\",\"subtype\":\"Figure\",\"type\":\"Plot\"},{\"attributes\":{\"source\":{\"id\":\"7011\"}},\"id\":\"7048\",\"type\":\"CDSView\"},{\"attributes\":{},\"id\":\"7026\",\"type\":\"BasicTicker\"},{\"attributes\":{},\"id\":\"7020\",\"type\":\"LinearScale\"},{\"attributes\":{\"coordinates\":null,\"data_source\":{\"id\":\"7011\"},\"glyph\":{\"id\":\"7044\"},\"group\":null,\"hover_glyph\":null,\"muted_glyph\":{\"id\":\"7046\"},\"nonselection_glyph\":{\"id\":\"7045\"},\"view\":{\"id\":\"7048\"}},\"id\":\"7047\",\"type\":\"GlyphRenderer\"},{\"attributes\":{\"tools\":[{\"id\":\"7029\"},{\"id\":\"7030\"},{\"id\":\"7031\"},{\"id\":\"7032\"},{\"id\":\"7033\"},{\"id\":\"7034\"}]},\"id\":\"7036\",\"type\":\"Toolbar\"},{\"attributes\":{},\"id\":\"7308\",\"type\":\"BasicTickFormatter\"},{\"attributes\":{},\"id\":\"7032\",\"type\":\"SaveTool\"},{\"attributes\":{\"coordinates\":null,\"group\":null},\"id\":\"7305\",\"type\":\"Title\"},{\"attributes\":{},\"id\":\"7313\",\"type\":\"UnionRenderers\"},{\"attributes\":{\"data\":{\"accel_25%\":{\"__ndarray__\":\"AAAAAACAKkCamZmZmZktQGZmZmZm5jFAmpmZmZkZLkAAAAAAAAAnQA==\",\"dtype\":\"float64\",\"order\":\"little\",\"shape\":[5]},\"accel_50%\":{\"__ndarray__\":\"AAAAAAAAK0AzMzMzMzMwQGZmZmZm5jNAAAAAAAAAMEAAAAAAAAAqQA==\",\"dtype\":\"float64\",\"order\":\"little\",\"shape\":[5]},\"accel_75%\":{\"__ndarray__\":\"AAAAAAAAK0AAAAAAAAAyQAAAAAAAADRAmpmZmZmZMUAAAAAAAAAsQA==\",\"dtype\":\"float64\",\"order\":\"little\",\"shape\":[5]},\"accel_count\":{\"__ndarray__\":\"AAAAAAAAEEAAAAAAAOBoQAAAAAAAAAhAAAAAAADAVEAAAAAAAMBZQA==\",\"dtype\":\"float64\",\"order\":\"little\",\"shape\":[5]},\"accel_max\":{\"__ndarray__\":\"AAAAAAAAK0DNzMzMzMw4QJqZmZmZGTRAAAAAAAAANUAzMzMzMzM2QA==\",\"dtype\":\"float64\",\"order\":\"little\",\"shape\":[5]},\"accel_mean\":{\"__ndarray__\":\"AAAAAACAKkCSxCwG+JQwQCIiIiIiojJA7d9LWxRBMEBCLI1MIukpQA==\",\"dtype\":\"float64\",\"order\":\"little\",\"shape\":[5]},\"accel_min\":{\"__ndarray__\":\"AAAAAAAAKUAzMzMzMzMnQM3MzMzMzC9AmpmZmZmZJkAAAAAAAAAgQA==\",\"dtype\":\"float64\",\"order\":\"little\",\"shape\":[5]},\"accel_std\":{\"__ndarray__\":\"AAAAAAAA4D+Y1TA5wxADQO1jrP039AJA0StM4BRBAEABZ5ysTswBQA==\",\"dtype\":\"float64\",\"order\":\"little\",\"shape\":[5]},\"cyl\":[\"3\",\"4\",\"5\",\"6\",\"8\"],\"displ_25%\":{\"__ndarray__\":\"AAAAAACAUUAAAAAAAMBWQAAAAAAAgF9AAAAAAADwaEAAAAAAABBzQA==\",\"dtype\":\"float64\",\"order\":\"little\",\"shape\":[5]},\"displ_50%\":{\"__ndarray__\":\"AAAAAACAUUAAAAAAAEBaQAAAAAAAYGBAAAAAAADgbEAAAAAAAOB1QA==\",\"dtype\":\"float64\",\"order\":\"little\",\"shape\":[5]},\"displ_75%\":{\"__ndarray__\":\"AAAAAAAgUkAAAAAAAEBeQAAAAAAAoGNAAAAAAABAb0AAAAAAAIB2QA==\",\"dtype\":\"float64\",\"order\":\"little\",\"shape\":[5]},\"displ_count\":{\"__ndarray__\":\"AAAAAAAAEEAAAAAAAOBoQAAAAAAAAAhAAAAAAADAVEAAAAAAAMBZQA==\",\"dtype\":\"float64\",\"order\":\"little\",\"shape\":[5]},\"displ_max\":{\"__ndarray__\":\"AAAAAAAAVEAAAAAAAIBjQAAAAAAA4GZAAAAAAABgcEAAAAAAAHB8QA==\",\"dtype\":\"float64\",\"order\":\"little\",\"shape\":[5]},\"displ_mean\":{\"__ndarray__\":\"AAAAAAAgUkD/9sBG72pbQAAAAAAAIGJAmjq/9pBLa0DJeVnEJ5B1QA==\",\"dtype\":\"float64\",\"order\":\"little\",\"shape\":[5]},\"displ_min\":{\"__ndarray__\":\"AAAAAACAUUAAAAAAAABRQAAAAAAAQF5AAAAAAAAgYkAAAAAAAEBwQA==\",\"dtype\":\"float64\",\"order\":\"little\",\"shape\":[5]},\"displ_std\":{\"__ndarray__\":\"AAAAAAAAFEC9furRdmA1QLmT4WuwpEBAT4BvAbA2QEDXs8ZGYGNHQA==\",\"dtype\":\"float64\",\"order\":\"little\",\"shape\":[5]},\"hp_25%\":{\"__ndarray__\":\"AAAAAADQV0AAAAAAAABRQAAAAAAAAFJAAAAAAAAgV0AAAAAAAIBhQA==\",\"dtype\":\"float64\",\"order\":\"little\",\"shape\":[5]},\"hp_50%\":{\"__ndarray__\":\"AAAAAACgWEAAAAAAAIBTQAAAAAAAQFNAAAAAAAAAWUAAAAAAAMBiQA==\",\"dtype\":\"float64\",\"order\":\"little\",\"shape\":[5]},\"hp_75%\":{\"__ndarray__\":\"AAAAAACgWUAAAAAAAABWQAAAAAAAgFZAAAAAAACAW0AAAAAAAOBlQA==\",\"dtype\":\"float64\",\"order\":\"little\",\"shape\":[5]},\"hp_count\":{\"__ndarray__\":\"AAAAAAAAEEAAAAAAAOBoQAAAAAAAAAhAAAAAAADAVEAAAAAAAMBZQA==\",\"dtype\":\"float64\",\"order\":\"little\",\"shape\":[5]},\"hp_max\":{\"__ndarray__\":\"AAAAAACAW0AAAAAAAMBcQAAAAAAAwFlAAAAAAACgZEAAAAAAAMBsQA==\",\"dtype\":\"float64\",\"order\":\"little\",\"shape\":[5]},\"hp_mean\":{\"__ndarray__\":\"AAAAAADQWEB2PKeSApJTQFVVVVVVlVRAsD3ksmJgWUDCfquNocljQA==\",\"dtype\":\"float64\",\"order\":\"little\",\"shape\":[5]},\"hp_min\":{\"__ndarray__\":\"AAAAAACAVkAAAAAAAABHQAAAAAAAwFBAAAAAAAAAUkAAAAAAAIBWQA==\",\"dtype\":\"float64\",\"order\":\"little\",\"shape\":[5]},\"hp_std\":{\"__ndarray__\":\"sTIWI2yaIECEr0Go0wstQDKsjxZJlTJAxZAwIvaeLEBPwZb3G3Q8QA==\",\"dtype\":\"float64\",\"order\":\"little\",\"shape\":[5]},\"mpg_25%\":{\"__ndarray__\":\"AAAAAADAMkAAAAAAAAA5QJqZmZmZ2TZAAAAAAAAAMkAAAAAAAAAqQA==\",\"dtype\":\"float64\",\"order\":\"little\",\"shape\":[5]},\"mpg_50%\":{\"__ndarray__\":\"AAAAAABANEBmZmZmZmY8QGZmZmZmZjlAAAAAAAAAM0AAAAAAAAAsQA==\",\"dtype\":\"float64\",\"order\":\"little\",\"shape\":[5]},\"mpg_75%\":{\"__ndarray__\":\"zczMzMwMNkCamZmZmXlAQGZmZmZm5j5AAAAAAAAANUAAAAAAAAAwQA==\",\"dtype\":\"float64\",\"order\":\"little\",\"shape\":[5]},\"mpg_count\":{\"__ndarray__\":\"AAAAAAAAEEAAAAAAAOBoQAAAAAAAAAhAAAAAAADAVEAAAAAAAMBZQA==\",\"dtype\":\"float64\",\"order\":\"little\",\"shape\":[5]},\"mpg_max\":{\"__ndarray__\":\"MzMzMzOzN0DNzMzMzExHQDMzMzMzM0JAAAAAAAAAQ0CamZmZmZk6QA==\",\"dtype\":\"float64\",\"order\":\"little\",\"shape\":[5]},\"mpg_mean\":{\"__ndarray__\":\"zczMzMyMNEByD2z0rkg9QN3d3d3dXTtA6lu15jb5M0BhwH9VHO0tQA==\",\"dtype\":\"float64\",\"order\":\"little\",\"shape\":[5]},\"mpg_min\":{\"__ndarray__\":\"AAAAAAAAMkAAAAAAAAAyQM3MzMzMTDRAAAAAAAAALkAAAAAAAAAiQA==\",\"dtype\":\"float64\",\"order\":\"little\",\"shape\":[5]},\"mpg_std\":{\"__ndarray__\":\"ca9eOxmEBECNLXOmo64WQOWG1RfXdCBALURKf2ahDkC3cW7BtbAGQA==\",\"dtype\":\"float64\",\"order\":\"little\",\"shape\":[5]},\"weight_25%\":{\"__ndarray__\":\"AAAAAADNoUAAAAAAAP6fQAAAAAAAlKZAAAAAAAACp0AAAAAAAK6tQA==\",\"dtype\":\"float64\",\"order\":\"little\",\"shape\":[5]},\"weight_50%\":{\"__ndarray__\":\"AAAAAACOokAAAAAAAGyhQAAAAAAADKdAAAAAAAAUqUAAAAAAACywQA==\",\"dtype\":\"float64\",\"order\":\"little\",\"shape\":[5]},\"weight_75%\":{\"__ndarray__\":\"AAAAAAB+o0AAAAAAAAWkQAAAAAAAUKlAAAAAAADOqkAAAAAAgDOxQA==\",\"dtype\":\"float64\",\"order\":\"little\",\"shape\":[5]},\"weight_count\":{\"__ndarray__\":\"AAAAAAAAEEAAAAAAAOBoQAAAAAAAAAhAAAAAAADAVEAAAAAAAMBZQA==\",\"dtype\":\"float64\",\"order\":\"little\",\"shape\":[5]},\"weight_max\":{\"__ndarray__\":\"AAAAAABApUAAAAAAAIypQAAAAAAAlKtAAAAAAACGrkAAAAAAABS0QA==\",\"dtype\":\"float64\",\"order\":\"little\",\"shape\":[5]},\"weight_mean\":{\"__ndarray__\":\"AAAAAAC9okAsMl+aOAKiQKuqqqqqPqhAjqbOrz0EqUBD0x3stxKwQA==\",\"dtype\":\"float64\",\"order\":\"little\",\"shape\":[5]},\"weight_min\":{\"__ndarray__\":\"AAAAAACYoEAAAAAAADSZQAAAAAAAHKZAAAAAAABQo0AAAAAAAByoQA==\",\"dtype\":\"float64\",\"order\":\"little\",\"shape\":[5]},\"weight_std\":{\"__ndarray__\":\"udhs7B3ybkC7+VSg9G11QA9pSX6AZXdAdmeNgiLGdEC9UR6eVA18QA==\",\"dtype\":\"float64\",\"order\":\"little\",\"shape\":[5]},\"yr_25%\":{\"__ndarray__\":\"AAAAAAAwUkAAAAAAAIBSQAAAAAAAoFNAAAAAAACAUkAAAAAAAABSQA==\",\"dtype\":\"float64\",\"order\":\"little\",\"shape\":[5]},\"yr_50%\":{\"__ndarray__\":\"AAAAAADAUkAAAAAAAEBTQAAAAAAAwFNAAAAAAAAAU0AAAAAAAEBSQA==\",\"dtype\":\"float64\",\"order\":\"little\",\"shape\":[5]},\"yr_75%\":{\"__ndarray__\":\"AAAAAABwU0AAAAAAAABUQAAAAAAA4FNAAAAAAACAU0AAAAAAAABTQA==\",\"dtype\":\"float64\",\"order\":\"little\",\"shape\":[5]},\"yr_count\":{\"__ndarray__\":\"AAAAAAAAEEAAAAAAAOBoQAAAAAAAAAhAAAAAAADAVEAAAAAAAMBZQA==\",\"dtype\":\"float64\",\"order\":\"little\",\"shape\":[5]},\"yr_max\":{\"__ndarray__\":\"AAAAAAAAVEAAAAAAAIBUQAAAAAAAAFRAAAAAAACAVEAAAAAAAEBUQA==\",\"dtype\":\"float64\",\"order\":\"little\",\"shape\":[5]},\"yr_mean\":{\"__ndarray__\":\"AAAAAADgUkDEWG397UFTQAAAAAAAwFNAghLeaOr8UkCL+ARSyXlSQA==\",\"dtype\":\"float64\",\"order\":\"little\",\"shape\":[5]},\"yr_min\":{\"__ndarray__\":\"AAAAAAAAUkAAAAAAAIBRQAAAAAAAgFNAAAAAAACAUUAAAAAAAIBRQA==\",\"dtype\":\"float64\",\"order\":\"little\",\"shape\":[5]},\"yr_std\":{\"__ndarray__\":\"p1MQvCOTDUAe5PLGXeYNQAAAAAAAAPA/p0OY+nMdCkABv1x2cisIQA==\",\"dtype\":\"float64\",\"order\":\"little\",\"shape\":[5]}},\"selected\":{\"id\":\"7314\"},\"selection_policy\":{\"id\":\"7313\"}},\"id\":\"7011\",\"type\":\"ColumnDataSource\"},{\"attributes\":{},\"id\":\"7309\",\"type\":\"AllLabels\"},{\"attributes\":{\"start\":0},\"id\":\"7016\",\"type\":\"DataRange1d\"},{\"attributes\":{\"fill_color\":{\"field\":\"cyl\",\"transform\":{\"id\":\"7012\"}},\"line_color\":{\"value\":\"white\"},\"top\":{\"field\":\"mpg_mean\"},\"x\":{\"field\":\"cyl\"}},\"id\":\"7044\",\"type\":\"VBar\"},{\"attributes\":{},\"id\":\"7030\",\"type\":\"WheelZoomTool\"},{\"attributes\":{},\"id\":\"7033\",\"type\":\"ResetTool\"},{\"attributes\":{\"axis\":{\"id\":\"7025\"},\"coordinates\":null,\"dimension\":1,\"group\":null,\"ticker\":null},\"id\":\"7028\",\"type\":\"Grid\"},{\"attributes\":{\"fill_alpha\":{\"value\":0.2},\"fill_color\":{\"field\":\"cyl\",\"transform\":{\"id\":\"7012\"}},\"hatch_alpha\":{\"value\":0.2},\"line_alpha\":{\"value\":0.2},\"line_color\":{\"value\":\"white\"},\"top\":{\"field\":\"mpg_mean\"},\"x\":{\"field\":\"cyl\"}},\"id\":\"7046\",\"type\":\"VBar\"},{\"attributes\":{},\"id\":\"7029\",\"type\":\"PanTool\"},{\"attributes\":{},\"id\":\"7314\",\"type\":\"Selection\"},{\"attributes\":{},\"id\":\"7311\",\"type\":\"CategoricalTickFormatter\"},{\"attributes\":{},\"id\":\"7018\",\"type\":\"CategoricalScale\"},{\"attributes\":{\"bottom_units\":\"screen\",\"coordinates\":null,\"fill_alpha\":0.5,\"fill_color\":\"lightgrey\",\"group\":null,\"left_units\":\"screen\",\"level\":\"overlay\",\"line_alpha\":1.0,\"line_color\":\"black\",\"line_dash\":[4,4],\"line_width\":2,\"right_units\":\"screen\",\"syncable\":false,\"top_units\":\"screen\"},\"id\":\"7035\",\"type\":\"BoxAnnotation\"},{\"attributes\":{},\"id\":\"7034\",\"type\":\"HelpTool\"},{\"attributes\":{\"factors\":[\"3\",\"4\",\"5\",\"6\",\"8\"],\"palette\":[\"#2b83ba\",\"#abdda4\",\"#ffffbf\",\"#fdae61\",\"#d7191c\"]},\"id\":\"7012\",\"type\":\"CategoricalColorMapper\"},{\"attributes\":{\"overlay\":{\"id\":\"7035\"}},\"id\":\"7031\",\"type\":\"BoxZoomTool\"},{\"attributes\":{\"axis_label\":\"Mean MPG\",\"coordinates\":null,\"formatter\":{\"id\":\"7308\"},\"group\":null,\"major_label_policy\":{\"id\":\"7309\"},\"ticker\":{\"id\":\"7026\"}},\"id\":\"7025\",\"type\":\"LinearAxis\"},{\"attributes\":{\"axis_label\":\"number of cylinders\",\"coordinates\":null,\"formatter\":{\"id\":\"7311\"},\"group\":null,\"major_label_policy\":{\"id\":\"7312\"},\"ticker\":{\"id\":\"7023\"}},\"id\":\"7022\",\"type\":\"CategoricalAxis\"},{\"attributes\":{},\"id\":\"7312\",\"type\":\"AllLabels\"},{\"attributes\":{},\"id\":\"7023\",\"type\":\"CategoricalTicker\"},{\"attributes\":{\"axis\":{\"id\":\"7022\"},\"coordinates\":null,\"grid_line_color\":null,\"group\":null,\"ticker\":null},\"id\":\"7024\",\"type\":\"Grid\"},{\"attributes\":{\"factors\":[\"3\",\"4\",\"5\",\"6\",\"8\"]},\"id\":\"7014\",\"type\":\"FactorRange\"},{\"attributes\":{\"fill_alpha\":{\"value\":0.1},\"fill_color\":{\"field\":\"cyl\",\"transform\":{\"id\":\"7012\"}},\"hatch_alpha\":{\"value\":0.1},\"line_alpha\":{\"value\":0.1},\"line_color\":{\"value\":\"white\"},\"top\":{\"field\":\"mpg_mean\"},\"x\":{\"field\":\"cyl\"}},\"id\":\"7045\",\"type\":\"VBar\"}],\"root_ids\":[\"7013\"]},\"title\":\"Bokeh Application\",\"version\":\"2.4.3\"}};\n",
       "  const render_items = [{\"docid\":\"a392a6d4-57f0-4eb6-bb0a-858a62c40321\",\"root_ids\":[\"7013\"],\"roots\":{\"7013\":\"479d423e-0808-4ce5-a3c5-a6600067a1df\"}}];\n",
       "  root.Bokeh.embed.embed_items_notebook(docs_json, render_items);\n",
       "  }\n",
       "  if (root.Bokeh !== undefined) {\n",
       "    embed_document(root);\n",
       "  } else {\n",
       "    let attempts = 0;\n",
       "    const timer = setInterval(function(root) {\n",
       "      if (root.Bokeh !== undefined) {\n",
       "        clearInterval(timer);\n",
       "        embed_document(root);\n",
       "      } else {\n",
       "        attempts++;\n",
       "        if (attempts > 100) {\n",
       "          clearInterval(timer);\n",
       "          console.log(\"Bokeh: ERROR: Unable to run BokehJS code because BokehJS library is missing\");\n",
       "        }\n",
       "      }\n",
       "    }, 10, root)\n",
       "  }\n",
       "})(window);"
      ],
      "application/vnd.bokehjs_exec.v0+json": ""
     },
     "metadata": {
      "application/vnd.bokehjs_exec.v0+json": {
       "id": "7013"
      }
     },
     "output_type": "display_data"
    }
   ],
   "source": [
    "from bokeh.palettes import Spectral5\n",
    "\n",
    "cyl_cmap = factor_cmap('cyl', palette=Spectral5, factors=sorted(df.cyl.unique()))\n",
    "\n",
    "p = figure(plot_height=350, x_range=group)\n",
    "p.vbar(x='cyl', top='mpg_mean', width=1, line_color=\"white\", \n",
    "       fill_color=cyl_cmap, source=source)\n",
    "\n",
    "p.xgrid.grid_line_color = None\n",
    "p.xaxis.axis_label = \"number of cylinders\"\n",
    "p.yaxis.axis_label = \"Mean MPG\"\n",
    "p.y_range.start = 0\n",
    "\n",
    "show(p)"
   ]
  },
  {
   "cell_type": "markdown",
   "metadata": {},
   "source": [
    "## Label\n",
    "\n",
    "The `Label` annotation allows you to easily attach single text labels to plots. The position and text to display are configured as `x`, `y`, and `text`:\n",
    "\n",
    "```python\n",
    "Label(x=10, y=5, text=\"Some Label\")\n",
    "```\n",
    "\n",
    "By default the units are in \"data space\" but `x_units` and `y_units` maybe set to `\"screen\"` to position the label relative to the canvas. Labels can also accept `x_offset` and `y_offset` to offset the final position from `x` and `y` by a given screen space distance. \n",
    "\n",
    "`Label` objects also have standard text, line (`border_line`) and fill (`background_fill`) properties. The line and fill properties apply to a bounding box around the text:\n",
    "\n",
    "```python\n",
    "Label(x=10, y=5, text=\"Some Label\", text_font_size=\"12pt\", \n",
    "      border_line_color=\"red\", background_fill_color=\"blue\")\n",
    "```"
   ]
  },
  {
   "cell_type": "code",
   "execution_count": 37,
   "metadata": {},
   "outputs": [
    {
     "data": {
      "text/html": [
       "\n",
       "  <div class=\"bk-root\" id=\"59bd6d68-6bcf-422b-8955-dcca7cf5fd3f\" data-root-id=\"7371\"></div>\n"
      ]
     },
     "metadata": {},
     "output_type": "display_data"
    },
    {
     "data": {
      "application/javascript": [
       "(function(root) {\n",
       "  function embed_document(root) {\n",
       "  const docs_json = {\"a23b0607-6799-4fb9-bd13-2d9979c7100f\":{\"defs\":[],\"roots\":{\"references\":[{\"attributes\":{\"below\":[{\"id\":\"7380\"}],\"center\":[{\"id\":\"7383\"},{\"id\":\"7387\"},{\"id\":\"7408\"}],\"left\":[{\"id\":\"7384\"}],\"renderers\":[{\"id\":\"7406\"}],\"title\":{\"id\":\"7676\"},\"toolbar\":{\"id\":\"7395\"},\"x_range\":{\"id\":\"7372\"},\"x_scale\":{\"id\":\"7376\"},\"y_range\":{\"id\":\"7374\"},\"y_scale\":{\"id\":\"7378\"}},\"id\":\"7371\",\"subtype\":\"Figure\",\"type\":\"Plot\"},{\"attributes\":{},\"id\":\"7388\",\"type\":\"PanTool\"},{\"attributes\":{\"overlay\":{\"id\":\"7394\"}},\"id\":\"7390\",\"type\":\"BoxZoomTool\"},{\"attributes\":{\"coordinates\":null,\"group\":null},\"id\":\"7676\",\"type\":\"Title\"},{\"attributes\":{\"fill_alpha\":{\"value\":0.1},\"fill_color\":{\"value\":\"olive\"},\"hatch_alpha\":{\"value\":0.1},\"hatch_color\":{\"value\":\"olive\"},\"line_alpha\":{\"value\":0.1},\"line_color\":{\"value\":\"olive\"},\"size\":{\"value\":10},\"x\":{\"field\":\"x\"},\"y\":{\"field\":\"y\"}},\"id\":\"7404\",\"type\":\"Circle\"},{\"attributes\":{\"coordinates\":null,\"data_source\":{\"id\":\"7402\"},\"glyph\":{\"id\":\"7403\"},\"group\":null,\"hover_glyph\":null,\"muted_glyph\":{\"id\":\"7405\"},\"nonselection_glyph\":{\"id\":\"7404\"},\"view\":{\"id\":\"7407\"}},\"id\":\"7406\",\"type\":\"GlyphRenderer\"},{\"attributes\":{},\"id\":\"7385\",\"type\":\"BasicTicker\"},{\"attributes\":{\"bottom_units\":\"screen\",\"coordinates\":null,\"fill_alpha\":0.5,\"fill_color\":\"lightgrey\",\"group\":null,\"left_units\":\"screen\",\"level\":\"overlay\",\"line_alpha\":1.0,\"line_color\":\"black\",\"line_dash\":[4,4],\"line_width\":2,\"right_units\":\"screen\",\"syncable\":false,\"top_units\":\"screen\"},\"id\":\"7394\",\"type\":\"BoxAnnotation\"},{\"attributes\":{\"axis\":{\"id\":\"7380\"},\"coordinates\":null,\"group\":null,\"ticker\":null},\"id\":\"7383\",\"type\":\"Grid\"},{\"attributes\":{},\"id\":\"7679\",\"type\":\"BasicTickFormatter\"},{\"attributes\":{\"end\":10},\"id\":\"7372\",\"type\":\"Range1d\"},{\"attributes\":{\"coordinates\":null,\"formatter\":{\"id\":\"7679\"},\"group\":null,\"major_label_policy\":{\"id\":\"7680\"},\"ticker\":{\"id\":\"7385\"}},\"id\":\"7384\",\"type\":\"LinearAxis\"},{\"attributes\":{},\"id\":\"7389\",\"type\":\"WheelZoomTool\"},{\"attributes\":{},\"id\":\"7378\",\"type\":\"LinearScale\"},{\"attributes\":{},\"id\":\"7680\",\"type\":\"AllLabels\"},{\"attributes\":{},\"id\":\"7391\",\"type\":\"SaveTool\"},{\"attributes\":{},\"id\":\"7682\",\"type\":\"BasicTickFormatter\"},{\"attributes\":{\"coordinates\":null,\"formatter\":{\"id\":\"7682\"},\"group\":null,\"major_label_policy\":{\"id\":\"7683\"},\"ticker\":{\"id\":\"7381\"}},\"id\":\"7380\",\"type\":\"LinearAxis\"},{\"attributes\":{},\"id\":\"7683\",\"type\":\"AllLabels\"},{\"attributes\":{\"end\":10},\"id\":\"7374\",\"type\":\"Range1d\"},{\"attributes\":{\"data\":{\"x\":[2,5,8],\"y\":[4,7,6]},\"selected\":{\"id\":\"7685\"},\"selection_policy\":{\"id\":\"7684\"}},\"id\":\"7402\",\"type\":\"ColumnDataSource\"},{\"attributes\":{\"fill_color\":{\"value\":\"olive\"},\"hatch_color\":{\"value\":\"olive\"},\"line_color\":{\"value\":\"olive\"},\"size\":{\"value\":10},\"x\":{\"field\":\"x\"},\"y\":{\"field\":\"y\"}},\"id\":\"7403\",\"type\":\"Circle\"},{\"attributes\":{},\"id\":\"7393\",\"type\":\"HelpTool\"},{\"attributes\":{\"axis\":{\"id\":\"7384\"},\"coordinates\":null,\"dimension\":1,\"group\":null,\"ticker\":null},\"id\":\"7387\",\"type\":\"Grid\"},{\"attributes\":{\"source\":{\"id\":\"7402\"}},\"id\":\"7407\",\"type\":\"CDSView\"},{\"attributes\":{\"tools\":[{\"id\":\"7388\"},{\"id\":\"7389\"},{\"id\":\"7390\"},{\"id\":\"7391\"},{\"id\":\"7392\"},{\"id\":\"7393\"}]},\"id\":\"7395\",\"type\":\"Toolbar\"},{\"attributes\":{\"fill_alpha\":{\"value\":0.2},\"fill_color\":{\"value\":\"olive\"},\"hatch_alpha\":{\"value\":0.2},\"hatch_color\":{\"value\":\"olive\"},\"line_alpha\":{\"value\":0.2},\"line_color\":{\"value\":\"olive\"},\"size\":{\"value\":10},\"x\":{\"field\":\"x\"},\"y\":{\"field\":\"y\"}},\"id\":\"7405\",\"type\":\"Circle\"},{\"attributes\":{},\"id\":\"7684\",\"type\":\"UnionRenderers\"},{\"attributes\":{},\"id\":\"7685\",\"type\":\"Selection\"},{\"attributes\":{\"coordinates\":null,\"group\":null,\"text\":\"Second Point\",\"text_baseline\":\"middle\",\"x\":5,\"x_offset\":12,\"y\":7},\"id\":\"7408\",\"type\":\"Label\"},{\"attributes\":{},\"id\":\"7376\",\"type\":\"LinearScale\"},{\"attributes\":{},\"id\":\"7381\",\"type\":\"BasicTicker\"},{\"attributes\":{},\"id\":\"7392\",\"type\":\"ResetTool\"}],\"root_ids\":[\"7371\"]},\"title\":\"Bokeh Application\",\"version\":\"2.4.3\"}};\n",
       "  const render_items = [{\"docid\":\"a23b0607-6799-4fb9-bd13-2d9979c7100f\",\"root_ids\":[\"7371\"],\"roots\":{\"7371\":\"59bd6d68-6bcf-422b-8955-dcca7cf5fd3f\"}}];\n",
       "  root.Bokeh.embed.embed_items_notebook(docs_json, render_items);\n",
       "  }\n",
       "  if (root.Bokeh !== undefined) {\n",
       "    embed_document(root);\n",
       "  } else {\n",
       "    let attempts = 0;\n",
       "    const timer = setInterval(function(root) {\n",
       "      if (root.Bokeh !== undefined) {\n",
       "        clearInterval(timer);\n",
       "        embed_document(root);\n",
       "      } else {\n",
       "        attempts++;\n",
       "        if (attempts > 100) {\n",
       "          clearInterval(timer);\n",
       "          console.log(\"Bokeh: ERROR: Unable to run BokehJS code because BokehJS library is missing\");\n",
       "        }\n",
       "      }\n",
       "    }, 10, root)\n",
       "  }\n",
       "})(window);"
      ],
      "application/vnd.bokehjs_exec.v0+json": ""
     },
     "metadata": {
      "application/vnd.bokehjs_exec.v0+json": {
       "id": "7371"
      }
     },
     "output_type": "display_data"
    }
   ],
   "source": [
    "from bokeh.models.annotations import Label\n",
    "from bokeh.plotting import figure\n",
    "\n",
    "p = figure(x_range=(0,10), y_range=(0,10))\n",
    "p.circle([2, 5, 8], [4, 7, 6], color=\"olive\", size=10)\n",
    "\n",
    "label = Label(x=5, y=7, x_offset=12, text=\"Second Point\", text_baseline=\"middle\")\n",
    "p.add_layout(label)\n",
    "\n",
    "show(p)"
   ]
  },
  {
   "cell_type": "markdown",
   "metadata": {},
   "source": [
    "## LabelSet\n",
    "\n",
    "The `LabelSet` annotation allows you to create many labels at once, for instance if you want to label an entire set of scatter markers. They are similar to `Label`, but they can also \n",
    "accept a `ColumnDataSource` as the `source` property, and then `x` and `y` may refer to columns in the data source, e.g. `x=\"col2\"` (but may also still be fixed values, e.g. `x=10`)."
   ]
  },
  {
   "cell_type": "code",
   "execution_count": 38,
   "metadata": {},
   "outputs": [
    {
     "data": {
      "text/html": [
       "\n",
       "  <div class=\"bk-root\" id=\"f1fa3051-8f1a-4f7f-9bb2-da2a553377cf\" data-root-id=\"7743\"></div>\n"
      ]
     },
     "metadata": {},
     "output_type": "display_data"
    },
    {
     "data": {
      "application/javascript": [
       "(function(root) {\n",
       "  function embed_document(root) {\n",
       "  const docs_json = {\"fef63436-bedb-4c06-bd67-fee0224d7cdf\":{\"defs\":[],\"roots\":{\"references\":[{\"attributes\":{\"below\":[{\"id\":\"7752\"}],\"center\":[{\"id\":\"7755\"},{\"id\":\"7759\"},{\"id\":\"7780\"}],\"left\":[{\"id\":\"7756\"}],\"renderers\":[{\"id\":\"7778\"}],\"title\":{\"id\":\"8060\"},\"toolbar\":{\"id\":\"7767\"},\"x_range\":{\"id\":\"7744\"},\"x_scale\":{\"id\":\"7748\"},\"y_range\":{\"id\":\"7746\"},\"y_scale\":{\"id\":\"7750\"}},\"id\":\"7743\",\"subtype\":\"Figure\",\"type\":\"Plot\"},{\"attributes\":{\"source\":{\"id\":\"7742\"}},\"id\":\"7779\",\"type\":\"CDSView\"},{\"attributes\":{},\"id\":\"8068\",\"type\":\"UnionRenderers\"},{\"attributes\":{\"axis_label\":\"Pressure (lbs)\",\"coordinates\":null,\"formatter\":{\"id\":\"8063\"},\"group\":null,\"major_label_policy\":{\"id\":\"8064\"},\"ticker\":{\"id\":\"7757\"}},\"id\":\"7756\",\"type\":\"LinearAxis\"},{\"attributes\":{\"fill_alpha\":{\"value\":0.1},\"fill_color\":{\"value\":\"#1f77b4\"},\"hatch_alpha\":{\"value\":0.1},\"line_alpha\":{\"value\":0.1},\"line_color\":{\"value\":\"#1f77b4\"},\"size\":{\"value\":8},\"x\":{\"field\":\"temp\"},\"y\":{\"field\":\"pressure\"}},\"id\":\"7776\",\"type\":\"Scatter\"},{\"attributes\":{\"coordinates\":null,\"group\":null},\"id\":\"8060\",\"type\":\"Title\"},{\"attributes\":{\"coordinates\":null,\"data_source\":{\"id\":\"7742\"},\"glyph\":{\"id\":\"7775\"},\"group\":null,\"hover_glyph\":null,\"muted_glyph\":{\"id\":\"7777\"},\"nonselection_glyph\":{\"id\":\"7776\"},\"view\":{\"id\":\"7779\"}},\"id\":\"7778\",\"type\":\"GlyphRenderer\"},{\"attributes\":{},\"id\":\"7764\",\"type\":\"ResetTool\"},{\"attributes\":{},\"id\":\"7763\",\"type\":\"SaveTool\"},{\"attributes\":{\"overlay\":{\"id\":\"7766\"}},\"id\":\"7762\",\"type\":\"BoxZoomTool\"},{\"attributes\":{},\"id\":\"7760\",\"type\":\"PanTool\"},{\"attributes\":{},\"id\":\"7761\",\"type\":\"WheelZoomTool\"},{\"attributes\":{},\"id\":\"8063\",\"type\":\"BasicTickFormatter\"},{\"attributes\":{},\"id\":\"7757\",\"type\":\"BasicTicker\"},{\"attributes\":{\"axis\":{\"id\":\"7756\"},\"coordinates\":null,\"dimension\":1,\"group\":null,\"ticker\":null},\"id\":\"7759\",\"type\":\"Grid\"},{\"attributes\":{},\"id\":\"8067\",\"type\":\"AllLabels\"},{\"attributes\":{\"axis\":{\"id\":\"7752\"},\"coordinates\":null,\"group\":null,\"ticker\":null},\"id\":\"7755\",\"type\":\"Grid\"},{\"attributes\":{},\"id\":\"7753\",\"type\":\"BasicTicker\"},{\"attributes\":{},\"id\":\"7765\",\"type\":\"HelpTool\"},{\"attributes\":{},\"id\":\"7748\",\"type\":\"LinearScale\"},{\"attributes\":{},\"id\":\"7750\",\"type\":\"LinearScale\"},{\"attributes\":{},\"id\":\"8069\",\"type\":\"Selection\"},{\"attributes\":{\"fill_alpha\":{\"value\":0.2},\"fill_color\":{\"value\":\"#1f77b4\"},\"hatch_alpha\":{\"value\":0.2},\"line_alpha\":{\"value\":0.2},\"line_color\":{\"value\":\"#1f77b4\"},\"size\":{\"value\":8},\"x\":{\"field\":\"temp\"},\"y\":{\"field\":\"pressure\"}},\"id\":\"7777\",\"type\":\"Scatter\"},{\"attributes\":{\"end\":175,\"start\":160},\"id\":\"7744\",\"type\":\"Range1d\"},{\"attributes\":{\"bottom_units\":\"screen\",\"coordinates\":null,\"fill_alpha\":0.5,\"fill_color\":\"lightgrey\",\"group\":null,\"left_units\":\"screen\",\"level\":\"overlay\",\"line_alpha\":1.0,\"line_color\":\"black\",\"line_dash\":[4,4],\"line_width\":2,\"right_units\":\"screen\",\"syncable\":false,\"top_units\":\"screen\"},\"id\":\"7766\",\"type\":\"BoxAnnotation\"},{\"attributes\":{\"data\":{\"names\":[\"A\",\"B\",\"C\",\"D\",\"E\",\"F\"],\"pressure\":[165,189,220,141,260,174],\"temp\":[166,171,172,168,174,162]},\"selected\":{\"id\":\"8069\"},\"selection_policy\":{\"id\":\"8068\"}},\"id\":\"7742\",\"type\":\"ColumnDataSource\"},{\"attributes\":{},\"id\":\"8064\",\"type\":\"AllLabels\"},{\"attributes\":{\"coordinates\":null,\"group\":null,\"level\":\"glyph\",\"source\":{\"id\":\"7742\"},\"text\":{\"field\":\"names\"},\"x\":{\"field\":\"temp\"},\"x_offset\":{\"value\":5},\"y\":{\"field\":\"pressure\"},\"y_offset\":{\"value\":5}},\"id\":\"7780\",\"type\":\"LabelSet\"},{\"attributes\":{},\"id\":\"7746\",\"type\":\"DataRange1d\"},{\"attributes\":{\"tools\":[{\"id\":\"7760\"},{\"id\":\"7761\"},{\"id\":\"7762\"},{\"id\":\"7763\"},{\"id\":\"7764\"},{\"id\":\"7765\"}]},\"id\":\"7767\",\"type\":\"Toolbar\"},{\"attributes\":{},\"id\":\"8066\",\"type\":\"BasicTickFormatter\"},{\"attributes\":{\"fill_color\":{\"value\":\"#1f77b4\"},\"line_color\":{\"value\":\"#1f77b4\"},\"size\":{\"value\":8},\"x\":{\"field\":\"temp\"},\"y\":{\"field\":\"pressure\"}},\"id\":\"7775\",\"type\":\"Scatter\"},{\"attributes\":{\"axis_label\":\"Temperature (C)\",\"coordinates\":null,\"formatter\":{\"id\":\"8066\"},\"group\":null,\"major_label_policy\":{\"id\":\"8067\"},\"ticker\":{\"id\":\"7753\"}},\"id\":\"7752\",\"type\":\"LinearAxis\"}],\"root_ids\":[\"7743\"]},\"title\":\"Bokeh Application\",\"version\":\"2.4.3\"}};\n",
       "  const render_items = [{\"docid\":\"fef63436-bedb-4c06-bd67-fee0224d7cdf\",\"root_ids\":[\"7743\"],\"roots\":{\"7743\":\"f1fa3051-8f1a-4f7f-9bb2-da2a553377cf\"}}];\n",
       "  root.Bokeh.embed.embed_items_notebook(docs_json, render_items);\n",
       "  }\n",
       "  if (root.Bokeh !== undefined) {\n",
       "    embed_document(root);\n",
       "  } else {\n",
       "    let attempts = 0;\n",
       "    const timer = setInterval(function(root) {\n",
       "      if (root.Bokeh !== undefined) {\n",
       "        clearInterval(timer);\n",
       "        embed_document(root);\n",
       "      } else {\n",
       "        attempts++;\n",
       "        if (attempts > 100) {\n",
       "          clearInterval(timer);\n",
       "          console.log(\"Bokeh: ERROR: Unable to run BokehJS code because BokehJS library is missing\");\n",
       "        }\n",
       "      }\n",
       "    }, 10, root)\n",
       "  }\n",
       "})(window);"
      ],
      "application/vnd.bokehjs_exec.v0+json": ""
     },
     "metadata": {
      "application/vnd.bokehjs_exec.v0+json": {
       "id": "7743"
      }
     },
     "output_type": "display_data"
    }
   ],
   "source": [
    "from bokeh.plotting import figure\n",
    "from bokeh.models import ColumnDataSource, LabelSet\n",
    "\n",
    "\n",
    "source = ColumnDataSource(data=dict(\n",
    "    temp=[166, 171, 172, 168, 174, 162],\n",
    "    pressure=[165, 189, 220, 141, 260, 174],\n",
    "    names=['A', 'B', 'C', 'D', 'E', 'F']))\n",
    "\n",
    "p = figure(x_range=(160, 175))\n",
    "p.scatter(x='temp', y='pressure', size=8, source=source)\n",
    "p.xaxis.axis_label = 'Temperature (C)'\n",
    "p.yaxis.axis_label = 'Pressure (lbs)'\n",
    "\n",
    "labels = LabelSet(x='temp', y='pressure', text='names', level='glyph',\n",
    "                  x_offset=5, y_offset=5, source=source, render_mode='canvas')\n",
    "\n",
    "\n",
    "p.add_layout(labels)\n",
    "\n",
    "show(p)"
   ]
  },
  {
   "cell_type": "markdown",
   "metadata": {},
   "source": [
    "## Legends\n",
    "\n",
    "When plots have multiple glyphs, it is desirable to include a legend to help users interpret what they see. Bokeh can generate legends easily based on the glyphs that are added. "
   ]
  },
  {
   "cell_type": "markdown",
   "metadata": {},
   "source": [
    "### Simple Legends\n",
    "\n",
    "In the simplest case, you can simply pass a string as the `legend` argument to a glyph function:\n",
    "```python\n",
    "p.circle(x, y, legend=\"sin(x)\")\n",
    "``` \n",
    "In this case Bokeh will automatically create a legend that shows a representation of that glyph, labeled by the test you provided. A full example is below."
   ]
  },
  {
   "cell_type": "code",
   "execution_count": 39,
   "metadata": {},
   "outputs": [
    {
     "data": {
      "text/html": [
       "\n",
       "  <div class=\"bk-root\" id=\"853fd12d-93ac-4db7-91fd-c2d405559516\" data-root-id=\"8126\"></div>\n"
      ]
     },
     "metadata": {},
     "output_type": "display_data"
    },
    {
     "data": {
      "application/javascript": [
       "(function(root) {\n",
       "  function embed_document(root) {\n",
       "  const docs_json = {\"ac443fcd-74a0-4e5e-bbfb-43a545d6eeb0\":{\"defs\":[],\"roots\":{\"references\":[{\"attributes\":{\"below\":[{\"id\":\"8135\"}],\"center\":[{\"id\":\"8138\"},{\"id\":\"8142\"},{\"id\":\"8174\"}],\"height\":400,\"left\":[{\"id\":\"8139\"}],\"renderers\":[{\"id\":\"8161\"},{\"id\":\"8180\"}],\"title\":{\"id\":\"8163\"},\"toolbar\":{\"id\":\"8150\"},\"x_range\":{\"id\":\"8127\"},\"x_scale\":{\"id\":\"8131\"},\"y_range\":{\"id\":\"8129\"},\"y_scale\":{\"id\":\"8133\"}},\"id\":\"8126\",\"subtype\":\"Figure\",\"type\":\"Plot\"},{\"attributes\":{},\"id\":\"8148\",\"type\":\"HelpTool\"},{\"attributes\":{\"source\":{\"id\":\"8176\"}},\"id\":\"8181\",\"type\":\"CDSView\"},{\"attributes\":{},\"id\":\"8127\",\"type\":\"DataRange1d\"},{\"attributes\":{\"label\":{\"value\":\"2*sin(x)\"},\"renderers\":[{\"id\":\"8180\"}]},\"id\":\"8195\",\"type\":\"LegendItem\"},{\"attributes\":{\"data\":{\"x\":{\"__ndarray__\":\"AAAAAAAAAACRGkt8Vz/AP5EaS3xXP9A/2qdwOgNf2D+RGkt8Vz/gPzXhXVstT+Q/2qdwOgNf6D9+boMZ2W7sP5EaS3xXP/A/433Ua0JH8j814V1bLU/0P4dE50oYV/Y/2qdwOgNf+D8sC/op7mb6P35ugxnZbvw/0NEMCcR2/j+RGkt8Vz8AQDrMD/RMQwFA433Ua0JHAkCML5njN0sDQDXhXVstTwRA3pIi0yJTBUCHROdKGFcGQDD2q8INWwdA2qdwOgNfCECDWTWy+GIJQCwL+inuZgpA1by+oeNqC0B+boMZ2W4MQCcgSJHOcg1A0NEMCcR2DkB5g9GAuXoPQJEaS3xXPxBAZnMtOFLBEEA6zA/0TEMRQA8l8q9HxRFA433Ua0JHEkC41rYnPckSQIwvmeM3SxNAYYh7nzLNE0A14V1bLU8UQAo6QBco0RRA3pIi0yJTFUCz6wSPHdUVQIdE50oYVxZAXJ3JBhPZFkAw9qvCDVsXQAVPjn4I3RdA2qdwOgNfGECuAFP2/eAYQINZNbL4YhlAV7IXbvPkGUAsC/op7mYaQABk3OXo6BpA1by+oeNqG0CpFaFd3uwbQH5ugxnZbhxAUsdl1dPwHEAnIEiRznIdQPt4Kk3J9B1A0NEMCcR2HkCkKu/EvvgeQHmD0YC5eh9ATdyzPLT8H0CRGkt8Vz8gQPtGPNpUgCBAZnMtOFLBIEDQnx6WTwIhQDrMD/RMQyFApPgAUkqEIUAPJfKvR8UhQHlR4w1FBiJA433Ua0JHIkBNqsXJP4giQLjWtic9ySJAIgOohToKI0CML5njN0sjQPZbikE1jCNAYYh7nzLNI0DLtGz9Lw4kQDXhXVstTyRAoA1PuSqQJEAKOkAXKNEkQHRmMXUlEiVA3pIi0yJTJUBJvxMxIJQlQLPrBI8d1SVAHRj27BoWJkCHROdKGFcmQPJw2KgVmCZAXJ3JBhPZJkDGybpkEBonQDD2q8INWydAmyKdIAucJ0AFT45+CN0nQG97f9wFHihA2qdwOgNfKEBE1GGYAKAoQK4AU/b94ChAGC1EVPshKUA=\",\"dtype\":\"float64\",\"order\":\"little\",\"shape\":[100]},\"y\":{\"__ndarray__\":\"AAAAAAAAAADwgwJ4LjTAP5qI2QHPEtA/+5MNU1HJ1z8ZTT7q2B3fP0aFmgwa+eI/ABg/lCAV5j+IQCEcMdboP3fOhmLzMOs/EyzujrQb7T/9Izwlj47uPxccgYyLg+8/g6xao7j27z9mZrL8O+bvP7+X94FZUu8/xVNiW3I97j9RB8Ai+6vsP5FWKYlppOo/oSg6uxkv6D/Sh2bxK1blPyZGRbpaJeI/8qg+VZVT3T/4C4p0qOPVP+UppLIiM8w/3FNHxZdVuD/J23zJpD6gv+3ENsZjOcS/wo12/ecH0r/dgWKM2KjZv2MTsJELcOC/83ixWvXH47+358MBZM7mv5eCD4nhdum/rExY6Hq267+TIxAn7YPtvwSssILL1+6/70I4BJ6s77/vOc8G+P7vvzTGy1KGze+/3176khQZ77/C8a4NiuTtvzGcHq/dNOy/l0FFlgER6r+EGZN4xoHnvx8WPFK3keS/Cli7+O1M4b+HQNqEwoHbv9kfIiFb+NO/gKyggGI5yL8EhrXMjDywvyGGtcyMPLA/jqyggGI5yD/gHyIhW/jTP4BA2oTCgds/DVi7+O1M4T8cFjxSt5HkP4cZk3jGgec/lUFFlgER6j8ynB6v3TTsP8Hxrg2K5O0/4F76khQZ7z80xstShs3vP+85zwb4/u8/8EI4BJ6s7z8DrLCCy9fuP5UjECftg+0/p0xY6Hq26z+Vgg+J4XbpP7fnwwFkzuY/9nixWvXH4z9dE7CRC3DgP9eBYozYqNk/w412/ecH0j/+xDbGYznEP0/bfMmkPqA/+FNHxZdVuL/UKaSyIjPMv+gLinSo49W/+Kg+VZVT3b8lRkW6WiXiv8+HZvErVuW/pig6uxkv6L+TVimJaaTqv1EHwCL7q+y/xFNiW3I97r/Al/eBWVLvv2Zmsvw75u+/g6xao7j2778YHIGMi4Pvv/sjPCWPju6/EyzujrQb7b94zoZi8zDrv4xAIRwx1ui//Bc/lCAV5r9GhZoMGvnivx5NPurYHd+/65MNU1HJ17+SiNkBzxLQv/GDAnguNMC/B1wUMyamwbw=\",\"dtype\":\"float64\",\"order\":\"little\",\"shape\":[100]}},\"selected\":{\"id\":\"8172\"},\"selection_policy\":{\"id\":\"8171\"}},\"id\":\"8157\",\"type\":\"ColumnDataSource\"},{\"attributes\":{\"line_color\":\"orange\",\"line_dash\":[4,4],\"line_width\":2,\"x\":{\"field\":\"x\"},\"y\":{\"field\":\"y\"}},\"id\":\"8177\",\"type\":\"Line\"},{\"attributes\":{\"data\":{\"x\":{\"__ndarray__\":\"AAAAAAAAAACRGkt8Vz/AP5EaS3xXP9A/2qdwOgNf2D+RGkt8Vz/gPzXhXVstT+Q/2qdwOgNf6D9+boMZ2W7sP5EaS3xXP/A/433Ua0JH8j814V1bLU/0P4dE50oYV/Y/2qdwOgNf+D8sC/op7mb6P35ugxnZbvw/0NEMCcR2/j+RGkt8Vz8AQDrMD/RMQwFA433Ua0JHAkCML5njN0sDQDXhXVstTwRA3pIi0yJTBUCHROdKGFcGQDD2q8INWwdA2qdwOgNfCECDWTWy+GIJQCwL+inuZgpA1by+oeNqC0B+boMZ2W4MQCcgSJHOcg1A0NEMCcR2DkB5g9GAuXoPQJEaS3xXPxBAZnMtOFLBEEA6zA/0TEMRQA8l8q9HxRFA433Ua0JHEkC41rYnPckSQIwvmeM3SxNAYYh7nzLNE0A14V1bLU8UQAo6QBco0RRA3pIi0yJTFUCz6wSPHdUVQIdE50oYVxZAXJ3JBhPZFkAw9qvCDVsXQAVPjn4I3RdA2qdwOgNfGECuAFP2/eAYQINZNbL4YhlAV7IXbvPkGUAsC/op7mYaQABk3OXo6BpA1by+oeNqG0CpFaFd3uwbQH5ugxnZbhxAUsdl1dPwHEAnIEiRznIdQPt4Kk3J9B1A0NEMCcR2HkCkKu/EvvgeQHmD0YC5eh9ATdyzPLT8H0CRGkt8Vz8gQPtGPNpUgCBAZnMtOFLBIEDQnx6WTwIhQDrMD/RMQyFApPgAUkqEIUAPJfKvR8UhQHlR4w1FBiJA433Ua0JHIkBNqsXJP4giQLjWtic9ySJAIgOohToKI0CML5njN0sjQPZbikE1jCNAYYh7nzLNI0DLtGz9Lw4kQDXhXVstTyRAoA1PuSqQJEAKOkAXKNEkQHRmMXUlEiVA3pIi0yJTJUBJvxMxIJQlQLPrBI8d1SVAHRj27BoWJkCHROdKGFcmQPJw2KgVmCZAXJ3JBhPZJkDGybpkEBonQDD2q8INWydAmyKdIAucJ0AFT45+CN0nQG97f9wFHihA2qdwOgNfKEBE1GGYAKAoQK4AU/b94ChAGC1EVPshKUA=\",\"dtype\":\"float64\",\"order\":\"little\",\"shape\":[100]},\"y\":{\"__ndarray__\":\"AAAAAAAAAADwgwJ4LjTQP5qI2QHPEuA/+5MNU1HJ5z8ZTT7q2B3vP0aFmgwa+fI/ABg/lCAV9j+IQCEcMdb4P3fOhmLzMPs/EyzujrQb/T/9Izwlj47+PxccgYyLg/8/g6xao7j2/z9mZrL8O+b/P7+X94FZUv8/xVNiW3I9/j9RB8Ai+6v8P5FWKYlppPo/oSg6uxkv+D/Sh2bxK1b1PyZGRbpaJfI/8qg+VZVT7T/4C4p0qOPlP+UppLIiM9w/3FNHxZdVyD/J23zJpD6wv+3ENsZjOdS/wo12/ecH4r/dgWKM2Kjpv2MTsJELcPC/83ixWvXH87+358MBZM72v5eCD4nhdvm/rExY6Hq2+7+TIxAn7YP9vwSssILL1/6/70I4BJ6s/7/vOc8G+P7/vzTGy1KGzf+/3176khQZ/7/C8a4NiuT9vzGcHq/dNPy/l0FFlgER+r+EGZN4xoH3vx8WPFK3kfS/Cli7+O1M8b+HQNqEwoHrv9kfIiFb+OO/gKyggGI52L8EhrXMjDzAvyGGtcyMPMA/jqyggGI52D/gHyIhW/jjP4BA2oTCges/DVi7+O1M8T8cFjxSt5H0P4cZk3jGgfc/lUFFlgER+j8ynB6v3TT8P8Hxrg2K5P0/4F76khQZ/z80xstShs3/P+85zwb4/v8/8EI4BJ6s/z8DrLCCy9f+P5UjECftg/0/p0xY6Hq2+z+Vgg+J4Xb5P7fnwwFkzvY/9nixWvXH8z9dE7CRC3DwP9eBYozYqOk/w412/ecH4j/+xDbGYznUP0/bfMmkPrA/+FNHxZdVyL/UKaSyIjPcv+gLinSo4+W/+Kg+VZVT7b8lRkW6WiXyv8+HZvErVvW/pig6uxkv+L+TVimJaaT6v1EHwCL7q/y/xFNiW3I9/r/Al/eBWVL/v2Zmsvw75v+/g6xao7j2/78YHIGMi4P/v/sjPCWPjv6/EyzujrQb/b94zoZi8zD7v4xAIRwx1vi//Bc/lCAV9r9GhZoMGvnyvx5NPurYHe+/65MNU1HJ57+SiNkBzxLgv/GDAnguNNC/B1wUMyam0bw=\",\"dtype\":\"float64\",\"order\":\"little\",\"shape\":[100]}},\"selected\":{\"id\":\"8193\"},\"selection_policy\":{\"id\":\"8192\"}},\"id\":\"8176\",\"type\":\"ColumnDataSource\"},{\"attributes\":{},\"id\":\"8193\",\"type\":\"Selection\"},{\"attributes\":{\"fill_color\":{\"value\":\"#1f77b4\"},\"line_color\":{\"value\":\"#1f77b4\"},\"x\":{\"field\":\"x\"},\"y\":{\"field\":\"y\"}},\"id\":\"8158\",\"type\":\"Circle\"},{\"attributes\":{},\"id\":\"8140\",\"type\":\"BasicTicker\"},{\"attributes\":{\"coordinates\":null,\"formatter\":{\"id\":\"8169\"},\"group\":null,\"major_label_policy\":{\"id\":\"8170\"},\"ticker\":{\"id\":\"8136\"}},\"id\":\"8135\",\"type\":\"LinearAxis\"},{\"attributes\":{},\"id\":\"8131\",\"type\":\"LinearScale\"},{\"attributes\":{},\"id\":\"8136\",\"type\":\"BasicTicker\"},{\"attributes\":{\"fill_alpha\":{\"value\":0.2},\"fill_color\":{\"value\":\"#1f77b4\"},\"hatch_alpha\":{\"value\":0.2},\"line_alpha\":{\"value\":0.2},\"line_color\":{\"value\":\"#1f77b4\"},\"x\":{\"field\":\"x\"},\"y\":{\"field\":\"y\"}},\"id\":\"8160\",\"type\":\"Circle\"},{\"attributes\":{},\"id\":\"8192\",\"type\":\"UnionRenderers\"},{\"attributes\":{},\"id\":\"8166\",\"type\":\"BasicTickFormatter\"},{\"attributes\":{},\"id\":\"8167\",\"type\":\"AllLabels\"},{\"attributes\":{\"tools\":[{\"id\":\"8143\"},{\"id\":\"8144\"},{\"id\":\"8145\"},{\"id\":\"8146\"},{\"id\":\"8147\"},{\"id\":\"8148\"}]},\"id\":\"8150\",\"type\":\"Toolbar\"},{\"attributes\":{},\"id\":\"8133\",\"type\":\"LinearScale\"},{\"attributes\":{},\"id\":\"8129\",\"type\":\"DataRange1d\"},{\"attributes\":{},\"id\":\"8169\",\"type\":\"BasicTickFormatter\"},{\"attributes\":{\"bottom_units\":\"screen\",\"coordinates\":null,\"fill_alpha\":0.5,\"fill_color\":\"lightgrey\",\"group\":null,\"left_units\":\"screen\",\"level\":\"overlay\",\"line_alpha\":1.0,\"line_color\":\"black\",\"line_dash\":[4,4],\"line_width\":2,\"right_units\":\"screen\",\"syncable\":false,\"top_units\":\"screen\"},\"id\":\"8149\",\"type\":\"BoxAnnotation\"},{\"attributes\":{\"axis\":{\"id\":\"8139\"},\"coordinates\":null,\"dimension\":1,\"group\":null,\"ticker\":null},\"id\":\"8142\",\"type\":\"Grid\"},{\"attributes\":{\"coordinates\":null,\"data_source\":{\"id\":\"8157\"},\"glyph\":{\"id\":\"8158\"},\"group\":null,\"hover_glyph\":null,\"muted_glyph\":{\"id\":\"8160\"},\"nonselection_glyph\":{\"id\":\"8159\"},\"view\":{\"id\":\"8162\"}},\"id\":\"8161\",\"type\":\"GlyphRenderer\"},{\"attributes\":{},\"id\":\"8143\",\"type\":\"PanTool\"},{\"attributes\":{\"coordinates\":null,\"group\":null,\"items\":[{\"id\":\"8175\"},{\"id\":\"8195\"}]},\"id\":\"8174\",\"type\":\"Legend\"},{\"attributes\":{},\"id\":\"8170\",\"type\":\"AllLabels\"},{\"attributes\":{\"overlay\":{\"id\":\"8149\"}},\"id\":\"8145\",\"type\":\"BoxZoomTool\"},{\"attributes\":{},\"id\":\"8146\",\"type\":\"SaveTool\"},{\"attributes\":{},\"id\":\"8147\",\"type\":\"ResetTool\"},{\"attributes\":{},\"id\":\"8144\",\"type\":\"WheelZoomTool\"},{\"attributes\":{\"coordinates\":null,\"group\":null},\"id\":\"8163\",\"type\":\"Title\"},{\"attributes\":{\"label\":{\"value\":\"sin(x)\"},\"renderers\":[{\"id\":\"8161\"}]},\"id\":\"8175\",\"type\":\"LegendItem\"},{\"attributes\":{\"coordinates\":null,\"formatter\":{\"id\":\"8166\"},\"group\":null,\"major_label_policy\":{\"id\":\"8167\"},\"ticker\":{\"id\":\"8140\"}},\"id\":\"8139\",\"type\":\"LinearAxis\"},{\"attributes\":{},\"id\":\"8171\",\"type\":\"UnionRenderers\"},{\"attributes\":{\"axis\":{\"id\":\"8135\"},\"coordinates\":null,\"group\":null,\"ticker\":null},\"id\":\"8138\",\"type\":\"Grid\"},{\"attributes\":{},\"id\":\"8172\",\"type\":\"Selection\"},{\"attributes\":{\"line_alpha\":0.1,\"line_color\":\"orange\",\"line_dash\":[4,4],\"line_width\":2,\"x\":{\"field\":\"x\"},\"y\":{\"field\":\"y\"}},\"id\":\"8178\",\"type\":\"Line\"},{\"attributes\":{\"coordinates\":null,\"data_source\":{\"id\":\"8176\"},\"glyph\":{\"id\":\"8177\"},\"group\":null,\"hover_glyph\":null,\"muted_glyph\":{\"id\":\"8179\"},\"nonselection_glyph\":{\"id\":\"8178\"},\"view\":{\"id\":\"8181\"}},\"id\":\"8180\",\"type\":\"GlyphRenderer\"},{\"attributes\":{\"fill_alpha\":{\"value\":0.1},\"fill_color\":{\"value\":\"#1f77b4\"},\"hatch_alpha\":{\"value\":0.1},\"line_alpha\":{\"value\":0.1},\"line_color\":{\"value\":\"#1f77b4\"},\"x\":{\"field\":\"x\"},\"y\":{\"field\":\"y\"}},\"id\":\"8159\",\"type\":\"Circle\"},{\"attributes\":{\"source\":{\"id\":\"8157\"}},\"id\":\"8162\",\"type\":\"CDSView\"},{\"attributes\":{\"line_alpha\":0.2,\"line_color\":\"orange\",\"line_dash\":[4,4],\"line_width\":2,\"x\":{\"field\":\"x\"},\"y\":{\"field\":\"y\"}},\"id\":\"8179\",\"type\":\"Line\"}],\"root_ids\":[\"8126\"]},\"title\":\"Bokeh Application\",\"version\":\"2.4.3\"}};\n",
       "  const render_items = [{\"docid\":\"ac443fcd-74a0-4e5e-bbfb-43a545d6eeb0\",\"root_ids\":[\"8126\"],\"roots\":{\"8126\":\"853fd12d-93ac-4db7-91fd-c2d405559516\"}}];\n",
       "  root.Bokeh.embed.embed_items_notebook(docs_json, render_items);\n",
       "  }\n",
       "  if (root.Bokeh !== undefined) {\n",
       "    embed_document(root);\n",
       "  } else {\n",
       "    let attempts = 0;\n",
       "    const timer = setInterval(function(root) {\n",
       "      if (root.Bokeh !== undefined) {\n",
       "        clearInterval(timer);\n",
       "        embed_document(root);\n",
       "      } else {\n",
       "        attempts++;\n",
       "        if (attempts > 100) {\n",
       "          clearInterval(timer);\n",
       "          console.log(\"Bokeh: ERROR: Unable to run BokehJS code because BokehJS library is missing\");\n",
       "        }\n",
       "      }\n",
       "    }, 10, root)\n",
       "  }\n",
       "})(window);"
      ],
      "application/vnd.bokehjs_exec.v0+json": ""
     },
     "metadata": {
      "application/vnd.bokehjs_exec.v0+json": {
       "id": "8126"
      }
     },
     "output_type": "display_data"
    }
   ],
   "source": [
    "import numpy as np\n",
    "\n",
    "x = np.linspace(0, 4*np.pi, 100)\n",
    "y = np.sin(x)\n",
    "\n",
    "p = figure(height=400)\n",
    "\n",
    "p.circle(x, y, legend_label=\"sin(x)\")\n",
    "p.line(x, 2*y, legend_label=\"2*sin(x)\", line_dash=[4, 4], line_color=\"orange\", line_width=2)\n",
    "\n",
    "show(p)"
   ]
  },
  {
   "cell_type": "markdown",
   "metadata": {},
   "source": [
    "### Compound legends\n",
    "\n",
    "In the example above, we provided a different legend label to each glyph method. Sometimes, two (or more) different glyphs are used with a single data source. In this case, you can make compound legends by specifying the same legend argument to multiple glyph methods when creating a plot, for example, if you plot a `sin` curve with both a line and a marker, you may give them the same label to cause them to show up together in the legend:\n",
    "\n",
    "```python\n",
    "p.circle(x, y, legend=\"sin(x)\")\n",
    "p.line(x, y, legend=\"sin(x)\", line_dash=[4, 4], line_color=\"orange\", line_width=2)\n",
    "```\n"
   ]
  },
  {
   "cell_type": "code",
   "execution_count": 40,
   "metadata": {},
   "outputs": [
    {
     "data": {
      "text/html": [
       "\n",
       "  <div class=\"bk-root\" id=\"701fefc6-6829-4df8-b27c-a4b213c5e325\" data-root-id=\"8563\"></div>\n"
      ]
     },
     "metadata": {},
     "output_type": "display_data"
    },
    {
     "data": {
      "application/javascript": [
       "(function(root) {\n",
       "  function embed_document(root) {\n",
       "  const docs_json = {\"ce785db0-890d-4000-becf-16ba28a21ec4\":{\"defs\":[],\"roots\":{\"references\":[{\"attributes\":{\"below\":[{\"id\":\"8572\"}],\"center\":[{\"id\":\"8575\"},{\"id\":\"8579\"},{\"id\":\"8611\"}],\"height\":400,\"left\":[{\"id\":\"8576\"}],\"renderers\":[{\"id\":\"8598\"},{\"id\":\"8617\"}],\"title\":{\"id\":\"8600\"},\"toolbar\":{\"id\":\"8587\"},\"x_range\":{\"id\":\"8564\"},\"x_scale\":{\"id\":\"8568\"},\"y_range\":{\"id\":\"8566\"},\"y_scale\":{\"id\":\"8570\"}},\"id\":\"8563\",\"subtype\":\"Figure\",\"type\":\"Plot\"},{\"attributes\":{},\"id\":\"8583\",\"type\":\"SaveTool\"},{\"attributes\":{\"source\":{\"id\":\"8613\"}},\"id\":\"8618\",\"type\":\"CDSView\"},{\"attributes\":{\"line_color\":\"grey\",\"x\":{\"field\":\"x\"},\"y\":{\"field\":\"y\"}},\"id\":\"8614\",\"type\":\"Line\"},{\"attributes\":{},\"id\":\"8584\",\"type\":\"ResetTool\"},{\"attributes\":{\"overlay\":{\"id\":\"8586\"}},\"id\":\"8582\",\"type\":\"BoxZoomTool\"},{\"attributes\":{\"data\":{\"x\":{\"__ndarray__\":\"AAAAAAAAAACRGkt8Vz/AP5EaS3xXP9A/2qdwOgNf2D+RGkt8Vz/gPzXhXVstT+Q/2qdwOgNf6D9+boMZ2W7sP5EaS3xXP/A/433Ua0JH8j814V1bLU/0P4dE50oYV/Y/2qdwOgNf+D8sC/op7mb6P35ugxnZbvw/0NEMCcR2/j+RGkt8Vz8AQDrMD/RMQwFA433Ua0JHAkCML5njN0sDQDXhXVstTwRA3pIi0yJTBUCHROdKGFcGQDD2q8INWwdA2qdwOgNfCECDWTWy+GIJQCwL+inuZgpA1by+oeNqC0B+boMZ2W4MQCcgSJHOcg1A0NEMCcR2DkB5g9GAuXoPQJEaS3xXPxBAZnMtOFLBEEA6zA/0TEMRQA8l8q9HxRFA433Ua0JHEkC41rYnPckSQIwvmeM3SxNAYYh7nzLNE0A14V1bLU8UQAo6QBco0RRA3pIi0yJTFUCz6wSPHdUVQIdE50oYVxZAXJ3JBhPZFkAw9qvCDVsXQAVPjn4I3RdA2qdwOgNfGECuAFP2/eAYQINZNbL4YhlAV7IXbvPkGUAsC/op7mYaQABk3OXo6BpA1by+oeNqG0CpFaFd3uwbQH5ugxnZbhxAUsdl1dPwHEAnIEiRznIdQPt4Kk3J9B1A0NEMCcR2HkCkKu/EvvgeQHmD0YC5eh9ATdyzPLT8H0CRGkt8Vz8gQPtGPNpUgCBAZnMtOFLBIEDQnx6WTwIhQDrMD/RMQyFApPgAUkqEIUAPJfKvR8UhQHlR4w1FBiJA433Ua0JHIkBNqsXJP4giQLjWtic9ySJAIgOohToKI0CML5njN0sjQPZbikE1jCNAYYh7nzLNI0DLtGz9Lw4kQDXhXVstTyRAoA1PuSqQJEAKOkAXKNEkQHRmMXUlEiVA3pIi0yJTJUBJvxMxIJQlQLPrBI8d1SVAHRj27BoWJkCHROdKGFcmQPJw2KgVmCZAXJ3JBhPZJkDGybpkEBonQDD2q8INWydAmyKdIAucJ0AFT45+CN0nQG97f9wFHihA2qdwOgNfKEBE1GGYAKAoQK4AU/b94ChAGC1EVPshKUA=\",\"dtype\":\"float64\",\"order\":\"little\",\"shape\":[100]},\"y\":{\"__ndarray__\":\"AAAAAAAAAADwgwJ4LjTAP5qI2QHPEtA/+5MNU1HJ1z8ZTT7q2B3fP0aFmgwa+eI/ABg/lCAV5j+IQCEcMdboP3fOhmLzMOs/EyzujrQb7T/9Izwlj47uPxccgYyLg+8/g6xao7j27z9mZrL8O+bvP7+X94FZUu8/xVNiW3I97j9RB8Ai+6vsP5FWKYlppOo/oSg6uxkv6D/Sh2bxK1blPyZGRbpaJeI/8qg+VZVT3T/4C4p0qOPVP+UppLIiM8w/3FNHxZdVuD/J23zJpD6gv+3ENsZjOcS/wo12/ecH0r/dgWKM2KjZv2MTsJELcOC/83ixWvXH47+358MBZM7mv5eCD4nhdum/rExY6Hq267+TIxAn7YPtvwSssILL1+6/70I4BJ6s77/vOc8G+P7vvzTGy1KGze+/3176khQZ77/C8a4NiuTtvzGcHq/dNOy/l0FFlgER6r+EGZN4xoHnvx8WPFK3keS/Cli7+O1M4b+HQNqEwoHbv9kfIiFb+NO/gKyggGI5yL8EhrXMjDywvyGGtcyMPLA/jqyggGI5yD/gHyIhW/jTP4BA2oTCgds/DVi7+O1M4T8cFjxSt5HkP4cZk3jGgec/lUFFlgER6j8ynB6v3TTsP8Hxrg2K5O0/4F76khQZ7z80xstShs3vP+85zwb4/u8/8EI4BJ6s7z8DrLCCy9fuP5UjECftg+0/p0xY6Hq26z+Vgg+J4XbpP7fnwwFkzuY/9nixWvXH4z9dE7CRC3DgP9eBYozYqNk/w412/ecH0j/+xDbGYznEP0/bfMmkPqA/+FNHxZdVuL/UKaSyIjPMv+gLinSo49W/+Kg+VZVT3b8lRkW6WiXiv8+HZvErVuW/pig6uxkv6L+TVimJaaTqv1EHwCL7q+y/xFNiW3I97r/Al/eBWVLvv2Zmsvw75u+/g6xao7j2778YHIGMi4Pvv/sjPCWPju6/EyzujrQb7b94zoZi8zDrv4xAIRwx1ui//Bc/lCAV5r9GhZoMGvnivx5NPurYHd+/65MNU1HJ17+SiNkBzxLQv/GDAnguNMC/B1wUMyamwbw=\",\"dtype\":\"float64\",\"order\":\"little\",\"shape\":[100]}},\"selected\":{\"id\":\"8609\"},\"selection_policy\":{\"id\":\"8608\"}},\"id\":\"8594\",\"type\":\"ColumnDataSource\"},{\"attributes\":{},\"id\":\"8564\",\"type\":\"DataRange1d\"},{\"attributes\":{\"source\":{\"id\":\"8594\"}},\"id\":\"8599\",\"type\":\"CDSView\"},{\"attributes\":{},\"id\":\"8577\",\"type\":\"BasicTicker\"},{\"attributes\":{},\"id\":\"8603\",\"type\":\"BasicTickFormatter\"},{\"attributes\":{\"fill_color\":{\"value\":\"red\"},\"hatch_color\":{\"value\":\"red\"},\"line_color\":{\"value\":\"red\"},\"size\":{\"value\":3},\"x\":{\"field\":\"x\"},\"y\":{\"field\":\"y\"}},\"id\":\"8595\",\"type\":\"Circle\"},{\"attributes\":{\"axis\":{\"id\":\"8576\"},\"coordinates\":null,\"dimension\":1,\"group\":null,\"ticker\":null},\"id\":\"8579\",\"type\":\"Grid\"},{\"attributes\":{\"fill_alpha\":{\"value\":0.1},\"fill_color\":{\"value\":\"red\"},\"hatch_alpha\":{\"value\":0.1},\"hatch_color\":{\"value\":\"red\"},\"line_alpha\":{\"value\":0.1},\"line_color\":{\"value\":\"red\"},\"size\":{\"value\":3},\"x\":{\"field\":\"x\"},\"y\":{\"field\":\"y\"}},\"id\":\"8596\",\"type\":\"Circle\"},{\"attributes\":{},\"id\":\"8629\",\"type\":\"UnionRenderers\"},{\"attributes\":{\"coordinates\":null,\"group\":null},\"id\":\"8600\",\"type\":\"Title\"},{\"attributes\":{\"data\":{\"x\":{\"__ndarray__\":\"AAAAAAAAAACRGkt8Vz/AP5EaS3xXP9A/2qdwOgNf2D+RGkt8Vz/gPzXhXVstT+Q/2qdwOgNf6D9+boMZ2W7sP5EaS3xXP/A/433Ua0JH8j814V1bLU/0P4dE50oYV/Y/2qdwOgNf+D8sC/op7mb6P35ugxnZbvw/0NEMCcR2/j+RGkt8Vz8AQDrMD/RMQwFA433Ua0JHAkCML5njN0sDQDXhXVstTwRA3pIi0yJTBUCHROdKGFcGQDD2q8INWwdA2qdwOgNfCECDWTWy+GIJQCwL+inuZgpA1by+oeNqC0B+boMZ2W4MQCcgSJHOcg1A0NEMCcR2DkB5g9GAuXoPQJEaS3xXPxBAZnMtOFLBEEA6zA/0TEMRQA8l8q9HxRFA433Ua0JHEkC41rYnPckSQIwvmeM3SxNAYYh7nzLNE0A14V1bLU8UQAo6QBco0RRA3pIi0yJTFUCz6wSPHdUVQIdE50oYVxZAXJ3JBhPZFkAw9qvCDVsXQAVPjn4I3RdA2qdwOgNfGECuAFP2/eAYQINZNbL4YhlAV7IXbvPkGUAsC/op7mYaQABk3OXo6BpA1by+oeNqG0CpFaFd3uwbQH5ugxnZbhxAUsdl1dPwHEAnIEiRznIdQPt4Kk3J9B1A0NEMCcR2HkCkKu/EvvgeQHmD0YC5eh9ATdyzPLT8H0CRGkt8Vz8gQPtGPNpUgCBAZnMtOFLBIEDQnx6WTwIhQDrMD/RMQyFApPgAUkqEIUAPJfKvR8UhQHlR4w1FBiJA433Ua0JHIkBNqsXJP4giQLjWtic9ySJAIgOohToKI0CML5njN0sjQPZbikE1jCNAYYh7nzLNI0DLtGz9Lw4kQDXhXVstTyRAoA1PuSqQJEAKOkAXKNEkQHRmMXUlEiVA3pIi0yJTJUBJvxMxIJQlQLPrBI8d1SVAHRj27BoWJkCHROdKGFcmQPJw2KgVmCZAXJ3JBhPZJkDGybpkEBonQDD2q8INWydAmyKdIAucJ0AFT45+CN0nQG97f9wFHihA2qdwOgNfKEBE1GGYAKAoQK4AU/b94ChAGC1EVPshKUA=\",\"dtype\":\"float64\",\"order\":\"little\",\"shape\":[100]},\"y\":{\"__ndarray__\":\"AAAAAAAAAADwgwJ4LjTAP5qI2QHPEtA/+5MNU1HJ1z8ZTT7q2B3fP0aFmgwa+eI/ABg/lCAV5j+IQCEcMdboP3fOhmLzMOs/EyzujrQb7T/9Izwlj47uPxccgYyLg+8/g6xao7j27z9mZrL8O+bvP7+X94FZUu8/xVNiW3I97j9RB8Ai+6vsP5FWKYlppOo/oSg6uxkv6D/Sh2bxK1blPyZGRbpaJeI/8qg+VZVT3T/4C4p0qOPVP+UppLIiM8w/3FNHxZdVuD/J23zJpD6gv+3ENsZjOcS/wo12/ecH0r/dgWKM2KjZv2MTsJELcOC/83ixWvXH47+358MBZM7mv5eCD4nhdum/rExY6Hq267+TIxAn7YPtvwSssILL1+6/70I4BJ6s77/vOc8G+P7vvzTGy1KGze+/3176khQZ77/C8a4NiuTtvzGcHq/dNOy/l0FFlgER6r+EGZN4xoHnvx8WPFK3keS/Cli7+O1M4b+HQNqEwoHbv9kfIiFb+NO/gKyggGI5yL8EhrXMjDywvyGGtcyMPLA/jqyggGI5yD/gHyIhW/jTP4BA2oTCgds/DVi7+O1M4T8cFjxSt5HkP4cZk3jGgec/lUFFlgER6j8ynB6v3TTsP8Hxrg2K5O0/4F76khQZ7z80xstShs3vP+85zwb4/u8/8EI4BJ6s7z8DrLCCy9fuP5UjECftg+0/p0xY6Hq26z+Vgg+J4XbpP7fnwwFkzuY/9nixWvXH4z9dE7CRC3DgP9eBYozYqNk/w412/ecH0j/+xDbGYznEP0/bfMmkPqA/+FNHxZdVuL/UKaSyIjPMv+gLinSo49W/+Kg+VZVT3b8lRkW6WiXiv8+HZvErVuW/pig6uxkv6L+TVimJaaTqv1EHwCL7q+y/xFNiW3I97r/Al/eBWVLvv2Zmsvw75u+/g6xao7j2778YHIGMi4Pvv/sjPCWPju6/EyzujrQb7b94zoZi8zDrv4xAIRwx1ui//Bc/lCAV5r9GhZoMGvnivx5NPurYHd+/65MNU1HJ17+SiNkBzxLQv/GDAnguNMC/B1wUMyamwbw=\",\"dtype\":\"float64\",\"order\":\"little\",\"shape\":[100]}},\"selected\":{\"id\":\"8630\"},\"selection_policy\":{\"id\":\"8629\"}},\"id\":\"8613\",\"type\":\"ColumnDataSource\"},{\"attributes\":{\"bottom_units\":\"screen\",\"coordinates\":null,\"fill_alpha\":0.5,\"fill_color\":\"lightgrey\",\"group\":null,\"left_units\":\"screen\",\"level\":\"overlay\",\"line_alpha\":1.0,\"line_color\":\"black\",\"line_dash\":[4,4],\"line_width\":2,\"right_units\":\"screen\",\"syncable\":false,\"top_units\":\"screen\"},\"id\":\"8586\",\"type\":\"BoxAnnotation\"},{\"attributes\":{\"axis\":{\"id\":\"8572\"},\"coordinates\":null,\"group\":null,\"ticker\":null},\"id\":\"8575\",\"type\":\"Grid\"},{\"attributes\":{},\"id\":\"8606\",\"type\":\"BasicTickFormatter\"},{\"attributes\":{\"tools\":[{\"id\":\"8580\"},{\"id\":\"8581\"},{\"id\":\"8582\"},{\"id\":\"8583\"},{\"id\":\"8584\"},{\"id\":\"8585\"}]},\"id\":\"8587\",\"type\":\"Toolbar\"},{\"attributes\":{\"coordinates\":null,\"data_source\":{\"id\":\"8594\"},\"glyph\":{\"id\":\"8595\"},\"group\":null,\"hover_glyph\":null,\"muted_glyph\":{\"id\":\"8597\"},\"nonselection_glyph\":{\"id\":\"8596\"},\"view\":{\"id\":\"8599\"}},\"id\":\"8598\",\"type\":\"GlyphRenderer\"},{\"attributes\":{\"fill_alpha\":{\"value\":0.2},\"fill_color\":{\"value\":\"red\"},\"hatch_alpha\":{\"value\":0.2},\"hatch_color\":{\"value\":\"red\"},\"line_alpha\":{\"value\":0.2},\"line_color\":{\"value\":\"red\"},\"size\":{\"value\":3},\"x\":{\"field\":\"x\"},\"y\":{\"field\":\"y\"}},\"id\":\"8597\",\"type\":\"Circle\"},{\"attributes\":{},\"id\":\"8573\",\"type\":\"BasicTicker\"},{\"attributes\":{},\"id\":\"8570\",\"type\":\"LinearScale\"},{\"attributes\":{\"coordinates\":null,\"formatter\":{\"id\":\"8603\"},\"group\":null,\"major_label_policy\":{\"id\":\"8604\"},\"ticker\":{\"id\":\"8577\"}},\"id\":\"8576\",\"type\":\"LinearAxis\"},{\"attributes\":{},\"id\":\"8566\",\"type\":\"DataRange1d\"},{\"attributes\":{\"coordinates\":null,\"group\":null,\"items\":[{\"id\":\"8612\"}]},\"id\":\"8611\",\"type\":\"Legend\"},{\"attributes\":{},\"id\":\"8607\",\"type\":\"AllLabels\"},{\"attributes\":{\"label\":{\"value\":\"sin(x)\"},\"renderers\":[{\"id\":\"8598\"},{\"id\":\"8617\"}]},\"id\":\"8612\",\"type\":\"LegendItem\"},{\"attributes\":{},\"id\":\"8604\",\"type\":\"AllLabels\"},{\"attributes\":{},\"id\":\"8609\",\"type\":\"Selection\"},{\"attributes\":{},\"id\":\"8630\",\"type\":\"Selection\"},{\"attributes\":{},\"id\":\"8585\",\"type\":\"HelpTool\"},{\"attributes\":{\"coordinates\":null,\"data_source\":{\"id\":\"8613\"},\"glyph\":{\"id\":\"8614\"},\"group\":null,\"hover_glyph\":null,\"muted_glyph\":{\"id\":\"8616\"},\"nonselection_glyph\":{\"id\":\"8615\"},\"view\":{\"id\":\"8618\"}},\"id\":\"8617\",\"type\":\"GlyphRenderer\"},{\"attributes\":{},\"id\":\"8581\",\"type\":\"WheelZoomTool\"},{\"attributes\":{},\"id\":\"8608\",\"type\":\"UnionRenderers\"},{\"attributes\":{},\"id\":\"8580\",\"type\":\"PanTool\"},{\"attributes\":{},\"id\":\"8568\",\"type\":\"LinearScale\"},{\"attributes\":{\"line_alpha\":0.2,\"line_color\":\"grey\",\"x\":{\"field\":\"x\"},\"y\":{\"field\":\"y\"}},\"id\":\"8616\",\"type\":\"Line\"},{\"attributes\":{\"coordinates\":null,\"formatter\":{\"id\":\"8606\"},\"group\":null,\"major_label_policy\":{\"id\":\"8607\"},\"ticker\":{\"id\":\"8573\"}},\"id\":\"8572\",\"type\":\"LinearAxis\"},{\"attributes\":{\"line_alpha\":0.1,\"line_color\":\"grey\",\"x\":{\"field\":\"x\"},\"y\":{\"field\":\"y\"}},\"id\":\"8615\",\"type\":\"Line\"}],\"root_ids\":[\"8563\"]},\"title\":\"Bokeh Application\",\"version\":\"2.4.3\"}};\n",
       "  const render_items = [{\"docid\":\"ce785db0-890d-4000-becf-16ba28a21ec4\",\"root_ids\":[\"8563\"],\"roots\":{\"8563\":\"701fefc6-6829-4df8-b27c-a4b213c5e325\"}}];\n",
       "  root.Bokeh.embed.embed_items_notebook(docs_json, render_items);\n",
       "  }\n",
       "  if (root.Bokeh !== undefined) {\n",
       "    embed_document(root);\n",
       "  } else {\n",
       "    let attempts = 0;\n",
       "    const timer = setInterval(function(root) {\n",
       "      if (root.Bokeh !== undefined) {\n",
       "        clearInterval(timer);\n",
       "        embed_document(root);\n",
       "      } else {\n",
       "        attempts++;\n",
       "        if (attempts > 100) {\n",
       "          clearInterval(timer);\n",
       "          console.log(\"Bokeh: ERROR: Unable to run BokehJS code because BokehJS library is missing\");\n",
       "        }\n",
       "      }\n",
       "    }, 10, root)\n",
       "  }\n",
       "})(window);"
      ],
      "application/vnd.bokehjs_exec.v0+json": ""
     },
     "metadata": {
      "application/vnd.bokehjs_exec.v0+json": {
       "id": "8563"
      }
     },
     "output_type": "display_data"
    }
   ],
   "source": [
    "import numpy as np\n",
    "\n",
    "x = np.linspace(0, 4*np.pi, 100)\n",
    "y = np.sin(x)\n",
    "\n",
    "p = figure(height=400)\n",
    "\n",
    "p.circle(x, y, color='red', size=3, legend_label=('sin(x)'))\n",
    "p.line(x, y, line_color=\"grey\", line_width=1, legend_label=('sin(x)'))\n",
    "#p.legend_label('sinx(x)')\n",
    "\n",
    "show(p)"
   ]
  },
  {
   "cell_type": "markdown",
   "metadata": {},
   "source": [
    "## Color bars\n",
    "\n",
    "Color bars are especially useful if we vary the color of a glyph according to some color mapping. Bokeh color bars are configured with a color mapper and added to plots with the `add_layout` method:\n",
    "```python\n",
    "color_mapper = LinearColorMapper(palette=\"Viridis256\", low=data_low, high=data_high)\n",
    "color_bar = ColorBar(color_mapper=color_mapper, location=(0,0))\n",
    "p.add_layout(color_bar, 'right')\n",
    "```\n",
    "The example below shows a complete example that also uses the color mapper to transform the glyph color."
   ]
  },
  {
   "cell_type": "code",
   "execution_count": 41,
   "metadata": {},
   "outputs": [
    {
     "data": {
      "text/html": [
       "\n",
       "  <div class=\"bk-root\" id=\"2a690c0a-d294-4fb7-85bb-6469336c5733\" data-root-id=\"9014\"></div>\n"
      ]
     },
     "metadata": {},
     "output_type": "display_data"
    },
    {
     "data": {
      "application/javascript": [
       "(function(root) {\n",
       "  function embed_document(root) {\n",
       "  const docs_json = {\"e9fbe807-61da-4970-aade-a0f25067d36c\":{\"defs\":[],\"roots\":{\"references\":[{\"attributes\":{\"below\":[{\"id\":\"9023\"}],\"center\":[{\"id\":\"9026\"},{\"id\":\"9030\"}],\"left\":[{\"id\":\"9027\"}],\"renderers\":[{\"id\":\"9037\"}],\"right\":[{\"id\":\"9039\"}],\"title\":{\"id\":\"9355\"},\"toolbar\":{\"id\":\"9031\"},\"toolbar_location\":null,\"x_range\":{\"id\":\"9015\"},\"x_scale\":{\"id\":\"9019\"},\"y_range\":{\"id\":\"9017\"},\"y_scale\":{\"id\":\"9021\"}},\"id\":\"9014\",\"subtype\":\"Figure\",\"type\":\"Plot\"},{\"attributes\":{},\"id\":\"9019\",\"type\":\"LinearScale\"},{\"attributes\":{},\"id\":\"9017\",\"type\":\"DataRange1d\"},{\"attributes\":{},\"id\":\"9364\",\"type\":\"UnionRenderers\"},{\"attributes\":{},\"id\":\"9015\",\"type\":\"DataRange1d\"},{\"attributes\":{},\"id\":\"9359\",\"type\":\"AllLabels\"},{\"attributes\":{},\"id\":\"9358\",\"type\":\"BasicTickFormatter\"},{\"attributes\":{},\"id\":\"9365\",\"type\":\"Selection\"},{\"attributes\":{\"fill_alpha\":{\"value\":0.2},\"fill_color\":{\"field\":\"weight\",\"transform\":{\"id\":\"9013\"}},\"hatch_alpha\":{\"value\":0.2},\"hatch_color\":{\"field\":\"weight\",\"transform\":{\"id\":\"9013\"}},\"line_alpha\":{\"value\":0.2},\"line_color\":{\"field\":\"weight\",\"transform\":{\"id\":\"9013\"}},\"size\":{\"value\":7.5},\"x\":{\"field\":\"hp\"},\"y\":{\"field\":\"mpg\"}},\"id\":\"9036\",\"type\":\"Circle\"},{\"attributes\":{},\"id\":\"9021\",\"type\":\"LinearScale\"},{\"attributes\":{\"high\":5140,\"low\":1613,\"palette\":[\"#440154\",\"#440255\",\"#440357\",\"#450558\",\"#45065A\",\"#45085B\",\"#46095C\",\"#460B5E\",\"#460C5F\",\"#460E61\",\"#470F62\",\"#471163\",\"#471265\",\"#471466\",\"#471567\",\"#471669\",\"#47186A\",\"#48196B\",\"#481A6C\",\"#481C6E\",\"#481D6F\",\"#481E70\",\"#482071\",\"#482172\",\"#482273\",\"#482374\",\"#472575\",\"#472676\",\"#472777\",\"#472878\",\"#472A79\",\"#472B7A\",\"#472C7B\",\"#462D7C\",\"#462F7C\",\"#46307D\",\"#46317E\",\"#45327F\",\"#45347F\",\"#453580\",\"#453681\",\"#443781\",\"#443982\",\"#433A83\",\"#433B83\",\"#433C84\",\"#423D84\",\"#423E85\",\"#424085\",\"#414186\",\"#414286\",\"#404387\",\"#404487\",\"#3F4587\",\"#3F4788\",\"#3E4888\",\"#3E4989\",\"#3D4A89\",\"#3D4B89\",\"#3D4C89\",\"#3C4D8A\",\"#3C4E8A\",\"#3B508A\",\"#3B518A\",\"#3A528B\",\"#3A538B\",\"#39548B\",\"#39558B\",\"#38568B\",\"#38578C\",\"#37588C\",\"#37598C\",\"#365A8C\",\"#365B8C\",\"#355C8C\",\"#355D8C\",\"#345E8D\",\"#345F8D\",\"#33608D\",\"#33618D\",\"#32628D\",\"#32638D\",\"#31648D\",\"#31658D\",\"#31668D\",\"#30678D\",\"#30688D\",\"#2F698D\",\"#2F6A8D\",\"#2E6B8E\",\"#2E6C8E\",\"#2E6D8E\",\"#2D6E8E\",\"#2D6F8E\",\"#2C708E\",\"#2C718E\",\"#2C728E\",\"#2B738E\",\"#2B748E\",\"#2A758E\",\"#2A768E\",\"#2A778E\",\"#29788E\",\"#29798E\",\"#287A8E\",\"#287A8E\",\"#287B8E\",\"#277C8E\",\"#277D8E\",\"#277E8E\",\"#267F8E\",\"#26808E\",\"#26818E\",\"#25828E\",\"#25838D\",\"#24848D\",\"#24858D\",\"#24868D\",\"#23878D\",\"#23888D\",\"#23898D\",\"#22898D\",\"#228A8D\",\"#228B8D\",\"#218C8D\",\"#218D8C\",\"#218E8C\",\"#208F8C\",\"#20908C\",\"#20918C\",\"#1F928C\",\"#1F938B\",\"#1F948B\",\"#1F958B\",\"#1F968B\",\"#1E978A\",\"#1E988A\",\"#1E998A\",\"#1E998A\",\"#1E9A89\",\"#1E9B89\",\"#1E9C89\",\"#1E9D88\",\"#1E9E88\",\"#1E9F88\",\"#1EA087\",\"#1FA187\",\"#1FA286\",\"#1FA386\",\"#20A485\",\"#20A585\",\"#21A685\",\"#21A784\",\"#22A784\",\"#23A883\",\"#23A982\",\"#24AA82\",\"#25AB81\",\"#26AC81\",\"#27AD80\",\"#28AE7F\",\"#29AF7F\",\"#2AB07E\",\"#2BB17D\",\"#2CB17D\",\"#2EB27C\",\"#2FB37B\",\"#30B47A\",\"#32B57A\",\"#33B679\",\"#35B778\",\"#36B877\",\"#38B976\",\"#39B976\",\"#3BBA75\",\"#3DBB74\",\"#3EBC73\",\"#40BD72\",\"#42BE71\",\"#44BE70\",\"#45BF6F\",\"#47C06E\",\"#49C16D\",\"#4BC26C\",\"#4DC26B\",\"#4FC369\",\"#51C468\",\"#53C567\",\"#55C666\",\"#57C665\",\"#59C764\",\"#5BC862\",\"#5EC961\",\"#60C960\",\"#62CA5F\",\"#64CB5D\",\"#67CC5C\",\"#69CC5B\",\"#6BCD59\",\"#6DCE58\",\"#70CE56\",\"#72CF55\",\"#74D054\",\"#77D052\",\"#79D151\",\"#7CD24F\",\"#7ED24E\",\"#81D34C\",\"#83D34B\",\"#86D449\",\"#88D547\",\"#8BD546\",\"#8DD644\",\"#90D643\",\"#92D741\",\"#95D73F\",\"#97D83E\",\"#9AD83C\",\"#9DD93A\",\"#9FD938\",\"#A2DA37\",\"#A5DA35\",\"#A7DB33\",\"#AADB32\",\"#ADDC30\",\"#AFDC2E\",\"#B2DD2C\",\"#B5DD2B\",\"#B7DD29\",\"#BADE27\",\"#BDDE26\",\"#BFDF24\",\"#C2DF22\",\"#C5DF21\",\"#C7E01F\",\"#CAE01E\",\"#CDE01D\",\"#CFE11C\",\"#D2E11B\",\"#D4E11A\",\"#D7E219\",\"#DAE218\",\"#DCE218\",\"#DFE318\",\"#E1E318\",\"#E4E318\",\"#E7E419\",\"#E9E419\",\"#ECE41A\",\"#EEE51B\",\"#F1E51C\",\"#F3E51E\",\"#F6E61F\",\"#F8E621\",\"#FAE622\",\"#FDE724\"]},\"id\":\"9013\",\"type\":\"LinearColorMapper\"},{\"attributes\":{},\"id\":\"9360\",\"type\":\"NoOverlap\"},{\"attributes\":{\"coordinates\":null,\"data_source\":{\"id\":\"9032\"},\"glyph\":{\"id\":\"9034\"},\"group\":null,\"hover_glyph\":null,\"muted_glyph\":{\"id\":\"9036\"},\"nonselection_glyph\":{\"id\":\"9035\"},\"view\":{\"id\":\"9038\"}},\"id\":\"9037\",\"type\":\"GlyphRenderer\"},{\"attributes\":{},\"id\":\"9362\",\"type\":\"BasicTickFormatter\"},{\"attributes\":{},\"id\":\"9363\",\"type\":\"AllLabels\"},{\"attributes\":{\"coordinates\":null,\"group\":null},\"id\":\"9355\",\"type\":\"Title\"},{\"attributes\":{\"fill_alpha\":{\"value\":0.6},\"fill_color\":{\"field\":\"weight\",\"transform\":{\"id\":\"9013\"}},\"hatch_alpha\":{\"value\":0.6},\"hatch_color\":{\"field\":\"weight\",\"transform\":{\"id\":\"9013\"}},\"line_alpha\":{\"value\":0.6},\"line_color\":{\"field\":\"weight\",\"transform\":{\"id\":\"9013\"}},\"size\":{\"value\":7.5},\"x\":{\"field\":\"hp\"},\"y\":{\"field\":\"mpg\"}},\"id\":\"9034\",\"type\":\"Circle\"},{\"attributes\":{\"color_mapper\":{\"id\":\"9013\"},\"coordinates\":null,\"group\":null,\"label_standoff\":12,\"location\":[0,0],\"major_label_policy\":{\"id\":\"9360\"},\"title\":\"Weight\"},\"id\":\"9039\",\"type\":\"ColorBar\"},{\"attributes\":{\"axis_label\":\"MPG\",\"coordinates\":null,\"formatter\":{\"id\":\"9358\"},\"group\":null,\"major_label_policy\":{\"id\":\"9359\"},\"ticker\":{\"id\":\"9028\"}},\"id\":\"9027\",\"type\":\"LinearAxis\"},{\"attributes\":{\"fill_alpha\":{\"value\":0.1},\"fill_color\":{\"field\":\"weight\",\"transform\":{\"id\":\"9013\"}},\"hatch_alpha\":{\"value\":0.1},\"hatch_color\":{\"field\":\"weight\",\"transform\":{\"id\":\"9013\"}},\"line_alpha\":{\"value\":0.1},\"line_color\":{\"field\":\"weight\",\"transform\":{\"id\":\"9013\"}},\"size\":{\"value\":7.5},\"x\":{\"field\":\"hp\"},\"y\":{\"field\":\"mpg\"}},\"id\":\"9035\",\"type\":\"Circle\"},{\"attributes\":{\"data\":{\"accel\":{\"__ndarray__\":\"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\",\"dtype\":\"float64\",\"order\":\"little\",\"shape\":[392]},\"cyl\":[8,8,8,8,8,8,8,8,8,8,8,8,8,8,4,6,6,6,4,4,4,4,4,4,6,8,8,8,8,4,4,4,6,6,6,6,6,8,8,8,8,8,8,8,6,4,6,6,4,4,4,4,4,4,4,4,4,4,4,4,4,8,8,8,8,8,8,8,8,8,3,8,8,8,8,4,4,4,4,4,4,4,4,4,8,8,8,8,8,8,8,8,8,8,8,8,6,6,6,6,6,4,8,8,8,8,6,4,4,4,3,4,6,4,8,8,4,4,4,4,8,4,6,8,6,6,6,4,4,4,4,6,6,6,8,8,8,8,8,4,4,4,4,4,4,4,4,4,4,4,6,6,6,6,8,8,8,8,6,6,6,6,6,8,8,4,4,6,4,4,4,4,6,4,6,4,4,4,4,4,4,4,4,4,4,8,8,8,8,6,6,6,6,4,4,4,4,6,6,6,6,4,4,4,4,4,8,4,6,6,8,8,8,8,4,4,4,4,4,8,8,8,8,6,6,6,6,8,8,8,8,4,4,4,4,4,4,4,4,6,4,3,4,4,4,4,4,8,8,8,6,6,6,4,6,6,6,6,6,6,8,6,8,8,4,4,4,4,4,4,4,4,5,6,4,6,4,4,6,6,4,6,6,8,8,8,8,8,8,8,8,4,4,4,4,5,8,4,8,4,4,4,4,4,6,6,4,4,4,4,4,4,4,4,6,4,4,4,4,4,4,4,4,4,4,5,4,4,4,4,6,3,4,4,4,4,4,6,4,4,4,4,4,4,4,4,4,4,4,4,4,4,4,4,4,6,6,6,6,8,6,6,4,4,4,4,4,4,4,4,4,4,4,4,4,4,4,4,4,4,6,6,4,6,4,4,4,4,4,4,4,4],\"displ\":{\"__ndarray__\":\"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\",\"dtype\":\"float64\",\"order\":\"little\",\"shape\":[392]},\"hp\":[130,165,150,150,140,198,220,215,225,190,170,160,150,225,95,95,97,85,88,46,87,90,95,113,90,215,200,210,193,88,90,95,100,105,100,88,100,165,175,153,150,180,170,175,110,72,100,88,86,90,70,76,65,69,60,70,95,80,54,90,86,165,175,150,153,150,208,155,160,190,97,150,130,140,150,112,76,87,69,86,92,97,80,88,175,150,145,137,150,198,150,158,150,215,225,175,105,100,100,88,95,46,150,167,170,180,100,88,72,94,90,85,107,90,145,230,49,75,91,112,150,110,122,180,95,100,100,67,80,65,75,100,110,105,140,150,150,140,150,83,67,78,52,61,75,75,75,97,93,67,95,105,72,72,170,145,150,148,110,105,110,95,110,110,129,75,83,100,78,96,71,97,97,70,90,95,88,98,115,53,86,81,92,79,83,140,150,120,152,100,105,81,90,52,60,70,53,100,78,110,95,71,70,75,72,102,150,88,108,120,180,145,130,150,68,80,58,96,70,145,110,145,130,110,105,100,98,180,170,190,149,78,88,75,89,63,83,67,78,97,110,110,48,66,52,70,60,110,140,139,105,95,85,88,100,90,105,85,110,120,145,165,139,140,68,95,97,75,95,105,85,97,103,125,115,133,71,68,115,85,88,90,110,130,129,138,135,155,142,125,150,71,65,80,80,77,125,71,90,70,70,65,69,90,115,115,90,76,60,70,65,90,88,90,90,78,90,75,92,75,65,105,65,48,48,67,67,67,67,62,132,100,88,72,84,84,92,110,84,58,64,60,67,65,62,68,63,65,65,74,75,75,100,74,80,76,116,120,110,105,88,85,88,88,88,85,84,90,92,74,68,68,63,70,88,75,70,67,67,67,110,85,92,112,96,84,90,86,52,84,79,82],\"index\":[0,1,2,3,4,5,6,7,8,9,10,11,12,13,14,15,16,17,18,19,20,21,22,23,24,25,26,27,28,29,30,31,32,33,34,35,36,37,38,39,40,41,42,43,44,45,46,47,48,49,50,51,52,53,54,55,56,57,58,59,60,61,62,63,64,65,66,67,68,69,70,71,72,73,74,75,76,77,78,79,80,81,82,83,84,85,86,87,88,89,90,91,92,93,94,95,96,97,98,99,100,101,102,103,104,105,106,107,108,109,110,111,112,113,114,115,116,117,118,119,120,121,122,123,124,125,126,127,128,129,130,131,132,133,134,135,136,137,138,139,140,141,142,143,144,145,146,147,148,149,150,151,152,153,154,155,156,157,158,159,160,161,162,163,164,165,166,167,168,169,170,171,172,173,174,175,176,177,178,179,180,181,182,183,184,185,186,187,188,189,190,191,192,193,194,195,196,197,198,199,200,201,202,203,204,205,206,207,208,209,210,211,212,213,214,215,216,217,218,219,220,221,222,223,224,225,226,227,228,229,230,231,232,233,234,235,236,237,238,239,240,241,242,243,244,245,246,247,248,249,250,251,252,253,254,255,256,257,258,259,260,261,262,263,264,265,266,267,268,269,270,271,272,273,274,275,276,277,278,279,280,281,282,283,284,285,286,287,288,289,290,291,292,293,294,295,296,297,298,299,300,301,302,303,304,305,306,307,308,309,310,311,312,313,314,315,316,317,318,319,320,321,322,323,324,325,326,327,328,329,330,331,332,333,334,335,336,337,338,339,340,341,342,343,344,345,346,347,348,349,350,351,352,353,354,355,356,357,358,359,360,361,362,363,364,365,366,367,368,369,370,371,372,373,374,375,376,377,378,379,380,381,382,383,384,385,386,387,388,389,390,391],\"mpg\":{\"__ndarray__\":\"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\",\"dtype\":\"float64\",\"order\":\"little\",\"shape\":[392]},\"name\":[\"chevrolet chevelle malibu\",\"buick skylark 320\",\"plymouth satellite\",\"amc rebel sst\",\"ford torino\",\"ford galaxie 500\",\"chevrolet impala\",\"plymouth fury iii\",\"pontiac catalina\",\"amc ambassador dpl\",\"dodge challenger se\",\"plymouth 'cuda 340\",\"chevrolet monte carlo\",\"buick estate wagon (sw)\",\"toyota corona mark ii\",\"plymouth duster\",\"amc hornet\",\"ford maverick\",\"datsun pl510\",\"volkswagen 1131 deluxe sedan\",\"peugeot 504\",\"audi 100 ls\",\"saab 99e\",\"bmw 2002\",\"amc gremlin\",\"ford f250\",\"chevy c20\",\"dodge d200\",\"hi 1200d\",\"datsun pl510\",\"chevrolet vega 2300\",\"toyota corona\",\"amc gremlin\",\"plymouth satellite custom\",\"chevrolet chevelle malibu\",\"ford torino 500\",\"amc matador\",\"chevrolet impala\",\"pontiac catalina brougham\",\"ford galaxie 500\",\"plymouth fury iii\",\"dodge monaco (sw)\",\"ford country squire (sw)\",\"pontiac safari (sw)\",\"amc hornet sportabout (sw)\",\"chevrolet vega (sw)\",\"pontiac firebird\",\"ford mustang\",\"mercury capri 2000\",\"opel 1900\",\"peugeot 304\",\"fiat 124b\",\"toyota corolla 1200\",\"datsun 1200\",\"volkswagen model 111\",\"plymouth cricket\",\"toyota corona hardtop\",\"dodge colt hardtop\",\"volkswagen type 3\",\"chevrolet vega\",\"ford pinto runabout\",\"chevrolet impala\",\"pontiac catalina\",\"plymouth fury iii\",\"ford galaxie 500\",\"amc ambassador sst\",\"mercury marquis\",\"buick lesabre custom\",\"oldsmobile delta 88 royale\",\"chrysler newport royal\",\"mazda rx2 coupe\",\"amc matador (sw)\",\"chevrolet chevelle concours (sw)\",\"ford gran torino (sw)\",\"plymouth satellite custom (sw)\",\"volvo 145e (sw)\",\"volkswagen 411 (sw)\",\"peugeot 504 (sw)\",\"renault 12 (sw)\",\"ford pinto (sw)\",\"datsun 510 (sw)\",\"toyouta corona mark ii (sw)\",\"dodge colt (sw)\",\"toyota corolla 1600 (sw)\",\"buick century 350\",\"amc matador\",\"chevrolet malibu\",\"ford gran torino\",\"dodge coronet custom\",\"mercury marquis brougham\",\"chevrolet caprice classic\",\"ford ltd\",\"plymouth fury gran sedan\",\"chrysler new yorker brougham\",\"buick electra 225 custom\",\"amc ambassador brougham\",\"plymouth valiant\",\"chevrolet nova custom\",\"amc hornet\",\"ford maverick\",\"plymouth duster\",\"volkswagen super beetle\",\"chevrolet impala\",\"ford country\",\"plymouth custom suburb\",\"oldsmobile vista cruiser\",\"amc gremlin\",\"toyota carina\",\"chevrolet vega\",\"datsun 610\",\"maxda rx3\",\"ford pinto\",\"mercury capri v6\",\"fiat 124 sport coupe\",\"chevrolet monte carlo s\",\"pontiac grand prix\",\"fiat 128\",\"opel manta\",\"audi 100ls\",\"volvo 144ea\",\"dodge dart custom\",\"saab 99le\",\"toyota mark ii\",\"oldsmobile omega\",\"plymouth duster\",\"amc hornet\",\"chevrolet nova\",\"datsun b210\",\"ford pinto\",\"toyota corolla 1200\",\"chevrolet vega\",\"chevrolet chevelle malibu classic\",\"amc matador\",\"plymouth satellite sebring\",\"ford gran torino\",\"buick century luxus (sw)\",\"dodge coronet custom (sw)\",\"ford gran torino (sw)\",\"amc matador (sw)\",\"audi fox\",\"volkswagen dasher\",\"opel manta\",\"toyota corona\",\"datsun 710\",\"dodge colt\",\"fiat 128\",\"fiat 124 tc\",\"honda civic\",\"subaru\",\"fiat x1.9\",\"plymouth valiant custom\",\"chevrolet nova\",\"mercury monarch\",\"ford maverick\",\"pontiac catalina\",\"chevrolet bel air\",\"plymouth grand fury\",\"ford ltd\",\"buick century\",\"chevroelt chevelle malibu\",\"amc matador\",\"plymouth fury\",\"buick skyhawk\",\"chevrolet monza 2+2\",\"ford mustang ii\",\"toyota corolla\",\"ford pinto\",\"amc gremlin\",\"pontiac astro\",\"toyota corona\",\"volkswagen dasher\",\"datsun 710\",\"ford pinto\",\"volkswagen rabbit\",\"amc pacer\",\"audi 100ls\",\"peugeot 504\",\"volvo 244dl\",\"saab 99le\",\"honda civic cvcc\",\"fiat 131\",\"opel 1900\",\"capri ii\",\"dodge colt\",\"renault 12tl\",\"chevrolet chevelle malibu classic\",\"dodge coronet brougham\",\"amc matador\",\"ford gran torino\",\"plymouth valiant\",\"chevrolet nova\",\"ford maverick\",\"amc hornet\",\"chevrolet chevette\",\"chevrolet woody\",\"vw rabbit\",\"honda civic\",\"dodge aspen se\",\"ford granada ghia\",\"pontiac ventura sj\",\"amc pacer d/l\",\"volkswagen rabbit\",\"datsun b-210\",\"toyota corolla\",\"ford pinto\",\"volvo 245\",\"plymouth volare premier v8\",\"peugeot 504\",\"toyota mark ii\",\"mercedes-benz 280s\",\"cadillac seville\",\"chevy c10\",\"ford f108\",\"dodge d100\",\"honda accord cvcc\",\"buick opel isuzu deluxe\",\"renault 5 gtl\",\"plymouth arrow gs\",\"datsun f-10 hatchback\",\"chevrolet caprice classic\",\"oldsmobile cutlass supreme\",\"dodge monaco brougham\",\"mercury cougar brougham\",\"chevrolet concours\",\"buick skylark\",\"plymouth volare custom\",\"ford granada\",\"pontiac grand prix lj\",\"chevrolet monte carlo landau\",\"chrysler cordoba\",\"ford thunderbird\",\"volkswagen rabbit custom\",\"pontiac sunbird coupe\",\"toyota corolla liftback\",\"ford mustang ii 2+2\",\"chevrolet chevette\",\"dodge colt m/m\",\"subaru dl\",\"volkswagen dasher\",\"datsun 810\",\"bmw 320i\",\"mazda rx-4\",\"volkswagen rabbit custom diesel\",\"ford fiesta\",\"mazda glc deluxe\",\"datsun b210 gx\",\"honda civic cvcc\",\"oldsmobile cutlass salon brougham\",\"dodge diplomat\",\"mercury monarch ghia\",\"pontiac phoenix lj\",\"chevrolet malibu\",\"ford fairmont (auto)\",\"ford fairmont (man)\",\"plymouth volare\",\"amc concord\",\"buick century special\",\"mercury zephyr\",\"dodge aspen\",\"amc concord d/l\",\"chevrolet monte carlo landau\",\"buick regal sport coupe (turbo)\",\"ford futura\",\"dodge magnum xe\",\"chevrolet chevette\",\"toyota corona\",\"datsun 510\",\"dodge omni\",\"toyota celica gt liftback\",\"plymouth sapporo\",\"oldsmobile starfire sx\",\"datsun 200-sx\",\"audi 5000\",\"volvo 264gl\",\"saab 99gle\",\"peugeot 604sl\",\"volkswagen scirocco\",\"honda accord lx\",\"pontiac lemans v6\",\"mercury zephyr 6\",\"ford fairmont 4\",\"amc concord dl 6\",\"dodge aspen 6\",\"chevrolet caprice classic\",\"ford ltd landau\",\"mercury grand marquis\",\"dodge st. regis\",\"buick estate wagon (sw)\",\"ford country squire (sw)\",\"chevrolet malibu classic (sw)\",\"chrysler lebaron town @ country (sw)\",\"vw rabbit custom\",\"maxda glc deluxe\",\"dodge colt hatchback custom\",\"amc spirit dl\",\"mercedes benz 300d\",\"cadillac eldorado\",\"peugeot 504\",\"oldsmobile cutlass salon brougham\",\"plymouth horizon\",\"plymouth horizon tc3\",\"datsun 210\",\"fiat strada custom\",\"buick skylark limited\",\"chevrolet citation\",\"oldsmobile omega brougham\",\"pontiac phoenix\",\"vw rabbit\",\"toyota corolla tercel\",\"chevrolet chevette\",\"datsun 310\",\"chevrolet citation\",\"ford fairmont\",\"amc concord\",\"dodge aspen\",\"audi 4000\",\"toyota corona liftback\",\"mazda 626\",\"datsun 510 hatchback\",\"toyota corolla\",\"mazda glc\",\"dodge colt\",\"datsun 210\",\"vw rabbit c (diesel)\",\"vw dasher (diesel)\",\"audi 5000s (diesel)\",\"mercedes-benz 240d\",\"honda civic 1500 gl\",\"subaru dl\",\"vokswagen rabbit\",\"datsun 280-zx\",\"mazda rx-7 gs\",\"triumph tr7 coupe\",\"honda accord\",\"plymouth reliant\",\"buick skylark\",\"dodge aries wagon (sw)\",\"chevrolet citation\",\"plymouth reliant\",\"toyota starlet\",\"plymouth champ\",\"honda civic 1300\",\"subaru\",\"datsun 210 mpg\",\"toyota tercel\",\"mazda glc 4\",\"plymouth horizon 4\",\"ford escort 4w\",\"ford escort 2h\",\"volkswagen jetta\",\"honda prelude\",\"toyota corolla\",\"datsun 200sx\",\"mazda 626\",\"peugeot 505s turbo diesel\",\"volvo diesel\",\"toyota cressida\",\"datsun 810 maxima\",\"buick century\",\"oldsmobile cutlass ls\",\"ford granada gl\",\"chrysler lebaron salon\",\"chevrolet cavalier\",\"chevrolet cavalier wagon\",\"chevrolet cavalier 2-door\",\"pontiac j2000 se hatchback\",\"dodge aries se\",\"pontiac phoenix\",\"ford fairmont futura\",\"volkswagen rabbit l\",\"mazda glc custom l\",\"mazda glc custom\",\"plymouth horizon miser\",\"mercury lynx l\",\"nissan stanza xe\",\"honda accord\",\"toyota corolla\",\"honda civic\",\"honda civic (auto)\",\"datsun 310 gx\",\"buick century limited\",\"oldsmobile cutlass ciera (diesel)\",\"chrysler lebaron medallion\",\"ford granada l\",\"toyota celica gt\",\"dodge charger 2.2\",\"chevrolet camaro\",\"ford mustang gl\",\"vw pickup\",\"dodge rampage\",\"ford ranger\",\"chevy s-10\"],\"origin\":[1,1,1,1,1,1,1,1,1,1,1,1,1,1,3,1,1,1,3,2,2,2,2,2,1,1,1,1,1,3,1,3,1,1,1,1,1,1,1,1,1,1,1,1,1,1,1,1,1,2,2,2,3,3,2,1,3,1,2,1,1,1,1,1,1,1,1,1,1,1,3,1,1,1,1,2,2,2,2,1,3,3,1,3,1,1,1,1,1,1,1,1,1,1,1,1,1,1,1,1,1,2,1,1,1,1,1,3,1,3,3,1,1,2,1,1,2,2,2,2,1,2,3,1,1,1,1,3,1,3,1,1,1,1,1,1,1,1,1,2,2,2,3,3,1,2,2,3,3,2,1,1,1,1,1,1,1,1,1,1,1,1,1,1,1,3,1,1,1,3,2,3,1,2,1,2,2,2,2,3,2,2,1,1,2,1,1,1,1,1,1,1,1,1,1,2,3,1,1,1,1,2,3,3,1,2,1,2,3,2,1,1,1,1,3,1,2,1,3,1,1,1,1,1,1,1,1,1,1,1,1,2,1,3,1,1,1,3,2,3,2,3,2,1,3,3,3,1,1,1,1,1,1,1,1,1,1,1,1,1,1,1,1,1,1,3,3,1,3,1,1,3,2,2,2,2,2,3,1,1,1,1,1,1,1,1,1,1,1,1,1,2,3,1,1,2,1,2,1,1,1,3,2,1,1,1,1,2,3,1,3,1,1,1,1,2,3,3,3,3,3,1,3,2,2,2,2,3,3,2,3,3,2,3,1,1,1,1,1,3,1,3,3,3,3,3,1,1,1,2,3,3,3,3,2,2,3,3,1,1,1,1,1,1,1,1,1,1,1,2,3,3,1,1,3,3,3,3,3,3,1,1,1,1,3,1,1,1,2,1,1,1],\"weight\":[3504,3693,3436,3433,3449,4341,4354,4312,4425,3850,3563,3609,3761,3086,2372,2833,2774,2587,2130,1835,2672,2430,2375,2234,2648,4615,4376,4382,4732,2130,2264,2228,2634,3439,3329,3302,3288,4209,4464,4154,4096,4955,4746,5140,2962,2408,3282,3139,2220,2123,2074,2065,1773,1613,1834,1955,2278,2126,2254,2408,2226,4274,4385,4135,4129,3672,4633,4502,4456,4422,2330,3892,4098,4294,4077,2933,2511,2979,2189,2395,2288,2506,2164,2100,4100,3672,3988,4042,3777,4952,4464,4363,4237,4735,4951,3821,3121,3278,2945,3021,2904,1950,4997,4906,4654,4499,2789,2279,2401,2379,2124,2310,2472,2265,4082,4278,1867,2158,2582,2868,3399,2660,2807,3664,3102,2901,3336,1950,2451,1836,2542,3781,3632,3613,4141,4699,4457,4638,4257,2219,1963,2300,1649,2003,2125,2108,2246,2489,2391,2000,3264,3459,3432,3158,4668,4440,4498,4657,3907,3897,3730,3785,3039,3221,3169,2171,2639,2914,2592,2702,2223,2545,2984,1937,3211,2694,2957,2945,2671,1795,2464,2220,2572,2255,2202,4215,4190,3962,4215,3233,3353,3012,3085,2035,2164,1937,1795,3651,3574,3645,3193,1825,1990,2155,2565,3150,3940,3270,2930,3820,4380,4055,3870,3755,2045,2155,1825,2300,1945,3880,4060,4140,4295,3520,3425,3630,3525,4220,4165,4325,4335,1940,2740,2265,2755,2051,2075,1985,2190,2815,2600,2720,1985,1800,1985,2070,1800,3365,3735,3570,3535,3155,2965,2720,3430,3210,3380,3070,3620,3410,3425,3445,3205,4080,2155,2560,2300,2230,2515,2745,2855,2405,2830,3140,2795,3410,1990,2135,3245,2990,2890,3265,3360,3840,3725,3955,3830,4360,4054,3605,3940,1925,1975,1915,2670,3530,3900,3190,3420,2200,2150,2020,2130,2670,2595,2700,2556,2144,1968,2120,2019,2678,2870,3003,3381,2188,2711,2542,2434,2265,2110,2800,2110,2085,2335,2950,3250,1850,2145,1845,2910,2420,2500,2290,2490,2635,2620,2725,2385,1755,1875,1760,2065,1975,2050,1985,2215,2045,2380,2190,2210,2350,2615,2635,3230,3160,2900,2930,3415,3725,3060,3465,2605,2640,2395,2575,2525,2735,2865,1980,2025,1970,2125,2125,2160,2205,2245,1965,1965,1995,2945,3015,2585,2835,2665,2370,2950,2790,2130,2295,2625,2720],\"yr\":[70,70,70,70,70,70,70,70,70,70,70,70,70,70,70,70,70,70,70,70,70,70,70,70,70,70,70,70,70,71,71,71,71,71,71,71,71,71,71,71,71,71,71,71,71,71,71,71,71,71,71,71,71,71,71,71,72,72,72,72,72,72,72,72,72,72,72,72,72,72,72,72,72,72,72,72,72,72,72,72,72,72,72,72,73,73,73,73,73,73,73,73,73,73,73,73,73,73,73,73,73,73,73,73,73,73,73,73,73,73,73,73,73,73,73,73,73,73,73,73,73,73,73,73,74,74,74,74,74,74,74,74,74,74,74,74,74,74,74,74,74,74,74,74,74,74,74,74,74,74,75,75,75,75,75,75,75,75,75,75,75,75,75,75,75,75,75,75,75,75,75,75,75,75,75,75,75,75,75,75,76,76,76,76,76,76,76,76,76,76,76,76,76,76,76,76,76,76,76,76,76,76,76,76,76,76,76,76,76,76,76,76,76,76,77,77,77,77,77,77,77,77,77,77,77,77,77,77,77,77,77,77,77,77,77,77,77,77,77,77,77,77,78,78,78,78,78,78,78,78,78,78,78,78,78,78,78,78,78,78,78,78,78,78,78,78,78,78,78,78,78,78,78,78,78,78,78,78,79,79,79,79,79,79,79,79,79,79,79,79,79,79,79,79,79,79,79,79,79,79,79,79,79,79,79,79,79,80,80,80,80,80,80,80,80,80,80,80,80,80,80,80,80,80,80,80,80,80,80,80,80,80,80,80,81,81,81,81,81,81,81,81,81,81,81,81,81,81,81,81,81,81,81,81,81,81,81,81,81,81,81,81,82,82,82,82,82,82,82,82,82,82,82,82,82,82,82,82,82,82,82,82,82,82,82,82,82,82,82,82,82,82]},\"selected\":{\"id\":\"9365\"},\"selection_policy\":{\"id\":\"9364\"}},\"id\":\"9032\",\"type\":\"ColumnDataSource\"},{\"attributes\":{\"axis\":{\"id\":\"9027\"},\"coordinates\":null,\"dimension\":1,\"group\":null,\"ticker\":null},\"id\":\"9030\",\"type\":\"Grid\"},{\"attributes\":{\"source\":{\"id\":\"9032\"}},\"id\":\"9038\",\"type\":\"CDSView\"},{\"attributes\":{},\"id\":\"9028\",\"type\":\"BasicTicker\"},{\"attributes\":{},\"id\":\"9031\",\"type\":\"Toolbar\"},{\"attributes\":{\"axis_label\":\"Horsepower\",\"coordinates\":null,\"formatter\":{\"id\":\"9362\"},\"group\":null,\"major_label_policy\":{\"id\":\"9363\"},\"ticker\":{\"id\":\"9024\"}},\"id\":\"9023\",\"type\":\"LinearAxis\"},{\"attributes\":{},\"id\":\"9024\",\"type\":\"BasicTicker\"},{\"attributes\":{\"axis\":{\"id\":\"9023\"},\"coordinates\":null,\"group\":null,\"ticker\":null},\"id\":\"9026\",\"type\":\"Grid\"}],\"root_ids\":[\"9014\"]},\"title\":\"Bokeh Application\",\"version\":\"2.4.3\"}};\n",
       "  const render_items = [{\"docid\":\"e9fbe807-61da-4970-aade-a0f25067d36c\",\"root_ids\":[\"9014\"],\"roots\":{\"9014\":\"2a690c0a-d294-4fb7-85bb-6469336c5733\"}}];\n",
       "  root.Bokeh.embed.embed_items_notebook(docs_json, render_items);\n",
       "  }\n",
       "  if (root.Bokeh !== undefined) {\n",
       "    embed_document(root);\n",
       "  } else {\n",
       "    let attempts = 0;\n",
       "    const timer = setInterval(function(root) {\n",
       "      if (root.Bokeh !== undefined) {\n",
       "        clearInterval(timer);\n",
       "        embed_document(root);\n",
       "      } else {\n",
       "        attempts++;\n",
       "        if (attempts > 100) {\n",
       "          clearInterval(timer);\n",
       "          console.log(\"Bokeh: ERROR: Unable to run BokehJS code because BokehJS library is missing\");\n",
       "        }\n",
       "      }\n",
       "    }, 10, root)\n",
       "  }\n",
       "})(window);"
      ],
      "application/vnd.bokehjs_exec.v0+json": ""
     },
     "metadata": {
      "application/vnd.bokehjs_exec.v0+json": {
       "id": "9014"
      }
     },
     "output_type": "display_data"
    }
   ],
   "source": [
    "from bokeh.sampledata.autompg import autompg\n",
    "from bokeh.models import LinearColorMapper, ColorBar\n",
    "from bokeh.transform import transform\n",
    "\n",
    "source = ColumnDataSource(autompg)\n",
    "color_mapper = LinearColorMapper(palette=\"Viridis256\", low=autompg.weight.min(), high=autompg.weight.max())\n",
    "\n",
    "p = figure(x_axis_label='Horsepower', y_axis_label='MPG', tools='', toolbar_location=None)\n",
    "p.circle(x='hp', y='mpg', color=transform('weight', color_mapper), size=7.5, alpha=0.6, source=autompg)\n",
    "\n",
    "color_bar = ColorBar(color_mapper=color_mapper, label_standoff=12, location=(0,0), title='Weight')\n",
    "p.add_layout(color_bar, 'right')\n",
    "\n",
    "show(p)"
   ]
  },
  {
   "cell_type": "markdown",
   "metadata": {},
   "source": [
    "# Configuring tools"
   ]
  },
  {
   "cell_type": "code",
   "execution_count": 42,
   "metadata": {},
   "outputs": [
    {
     "data": {
      "text/html": [
       "\n",
       "  <div class=\"bk-root\" id=\"94ac86e3-470b-41f4-8140-0bc935b6f911\" data-root-id=\"9421\"></div>\n"
      ]
     },
     "metadata": {},
     "output_type": "display_data"
    },
    {
     "data": {
      "application/javascript": [
       "(function(root) {\n",
       "  function embed_document(root) {\n",
       "  const docs_json = {\"38e4cdb9-a400-4acc-b754-c3504afba8da\":{\"defs\":[],\"roots\":{\"references\":[{\"attributes\":{\"below\":[{\"id\":\"9431\"}],\"center\":[{\"id\":\"9434\"},{\"id\":\"9438\"}],\"height\":400,\"left\":[{\"id\":\"9435\"}],\"renderers\":[{\"id\":\"9457\"}],\"title\":null,\"toolbar\":{\"id\":\"9446\"},\"toolbar_location\":\"below\",\"width\":400,\"x_range\":{\"id\":\"9423\"},\"x_scale\":{\"id\":\"9427\"},\"y_range\":{\"id\":\"9425\"},\"y_scale\":{\"id\":\"9429\"}},\"id\":\"9421\",\"subtype\":\"Figure\",\"type\":\"Plot\"},{\"attributes\":{\"coordinates\":null,\"data_source\":{\"id\":\"9453\"},\"glyph\":{\"id\":\"9454\"},\"group\":null,\"hover_glyph\":null,\"muted_glyph\":{\"id\":\"9456\"},\"nonselection_glyph\":{\"id\":\"9455\"},\"view\":{\"id\":\"9458\"}},\"id\":\"9457\",\"type\":\"GlyphRenderer\"},{\"attributes\":{},\"id\":\"9436\",\"type\":\"BasicTicker\"},{\"attributes\":{},\"id\":\"9443\",\"type\":\"ResetTool\"},{\"attributes\":{\"axis\":{\"id\":\"9431\"},\"coordinates\":null,\"group\":null,\"ticker\":null},\"id\":\"9434\",\"type\":\"Grid\"},{\"attributes\":{\"overlay\":{\"id\":\"9445\"}},\"id\":\"9441\",\"type\":\"BoxZoomTool\"},{\"attributes\":{\"tools\":[{\"id\":\"9439\"},{\"id\":\"9440\"},{\"id\":\"9441\"},{\"id\":\"9442\"},{\"id\":\"9443\"},{\"id\":\"9444\"}]},\"id\":\"9446\",\"type\":\"Toolbar\"},{\"attributes\":{},\"id\":\"9440\",\"type\":\"WheelZoomTool\"},{\"attributes\":{\"data\":{\"x\":[1,2,3,4,5],\"y\":[2,5,8,2,7]},\"selected\":{\"id\":\"9793\"},\"selection_policy\":{\"id\":\"9792\"}},\"id\":\"9453\",\"type\":\"ColumnDataSource\"},{\"attributes\":{},\"id\":\"9792\",\"type\":\"UnionRenderers\"},{\"attributes\":{},\"id\":\"9444\",\"type\":\"HelpTool\"},{\"attributes\":{},\"id\":\"9442\",\"type\":\"SaveTool\"},{\"attributes\":{\"source\":{\"id\":\"9453\"}},\"id\":\"9458\",\"type\":\"CDSView\"},{\"attributes\":{\"fill_alpha\":{\"value\":0.1},\"fill_color\":{\"value\":\"#1f77b4\"},\"hatch_alpha\":{\"value\":0.1},\"line_alpha\":{\"value\":0.1},\"line_color\":{\"value\":\"#1f77b4\"},\"size\":{\"value\":10},\"x\":{\"field\":\"x\"},\"y\":{\"field\":\"y\"}},\"id\":\"9455\",\"type\":\"Circle\"},{\"attributes\":{},\"id\":\"9439\",\"type\":\"PanTool\"},{\"attributes\":{},\"id\":\"9425\",\"type\":\"DataRange1d\"},{\"attributes\":{},\"id\":\"9793\",\"type\":\"Selection\"},{\"attributes\":{\"bottom_units\":\"screen\",\"coordinates\":null,\"fill_alpha\":0.5,\"fill_color\":\"lightgrey\",\"group\":null,\"left_units\":\"screen\",\"level\":\"overlay\",\"line_alpha\":1.0,\"line_color\":\"black\",\"line_dash\":[4,4],\"line_width\":2,\"right_units\":\"screen\",\"syncable\":false,\"top_units\":\"screen\"},\"id\":\"9445\",\"type\":\"BoxAnnotation\"},{\"attributes\":{},\"id\":\"9427\",\"type\":\"LinearScale\"},{\"attributes\":{},\"id\":\"9432\",\"type\":\"BasicTicker\"},{\"attributes\":{},\"id\":\"9429\",\"type\":\"LinearScale\"},{\"attributes\":{\"fill_color\":{\"value\":\"#1f77b4\"},\"line_color\":{\"value\":\"#1f77b4\"},\"size\":{\"value\":10},\"x\":{\"field\":\"x\"},\"y\":{\"field\":\"y\"}},\"id\":\"9454\",\"type\":\"Circle\"},{\"attributes\":{\"fill_alpha\":{\"value\":0.2},\"fill_color\":{\"value\":\"#1f77b4\"},\"hatch_alpha\":{\"value\":0.2},\"line_alpha\":{\"value\":0.2},\"line_color\":{\"value\":\"#1f77b4\"},\"size\":{\"value\":10},\"x\":{\"field\":\"x\"},\"y\":{\"field\":\"y\"}},\"id\":\"9456\",\"type\":\"Circle\"},{\"attributes\":{},\"id\":\"9423\",\"type\":\"DataRange1d\"},{\"attributes\":{},\"id\":\"9791\",\"type\":\"AllLabels\"},{\"attributes\":{\"axis\":{\"id\":\"9435\"},\"coordinates\":null,\"dimension\":1,\"group\":null,\"ticker\":null},\"id\":\"9438\",\"type\":\"Grid\"},{\"attributes\":{},\"id\":\"9790\",\"type\":\"BasicTickFormatter\"},{\"attributes\":{\"coordinates\":null,\"formatter\":{\"id\":\"9790\"},\"group\":null,\"major_label_policy\":{\"id\":\"9791\"},\"ticker\":{\"id\":\"9432\"}},\"id\":\"9431\",\"type\":\"LinearAxis\"},{\"attributes\":{\"coordinates\":null,\"formatter\":{\"id\":\"9787\"},\"group\":null,\"major_label_policy\":{\"id\":\"9788\"},\"ticker\":{\"id\":\"9436\"}},\"id\":\"9435\",\"type\":\"LinearAxis\"},{\"attributes\":{},\"id\":\"9788\",\"type\":\"AllLabels\"},{\"attributes\":{},\"id\":\"9787\",\"type\":\"BasicTickFormatter\"}],\"root_ids\":[\"9421\"]},\"title\":\"Bokeh Application\",\"version\":\"2.4.3\"}};\n",
       "  const render_items = [{\"docid\":\"38e4cdb9-a400-4acc-b754-c3504afba8da\",\"root_ids\":[\"9421\"],\"roots\":{\"9421\":\"94ac86e3-470b-41f4-8140-0bc935b6f911\"}}];\n",
       "  root.Bokeh.embed.embed_items_notebook(docs_json, render_items);\n",
       "  }\n",
       "  if (root.Bokeh !== undefined) {\n",
       "    embed_document(root);\n",
       "  } else {\n",
       "    let attempts = 0;\n",
       "    const timer = setInterval(function(root) {\n",
       "      if (root.Bokeh !== undefined) {\n",
       "        clearInterval(timer);\n",
       "        embed_document(root);\n",
       "      } else {\n",
       "        attempts++;\n",
       "        if (attempts > 100) {\n",
       "          clearInterval(timer);\n",
       "          console.log(\"Bokeh: ERROR: Unable to run BokehJS code because BokehJS library is missing\");\n",
       "        }\n",
       "      }\n",
       "    }, 10, root)\n",
       "  }\n",
       "})(window);"
      ],
      "application/vnd.bokehjs_exec.v0+json": ""
     },
     "metadata": {
      "application/vnd.bokehjs_exec.v0+json": {
       "id": "9421"
      }
     },
     "output_type": "display_data"
    }
   ],
   "source": [
    "# create a new plot with the toolbar below\n",
    "p = figure(plot_width=400, plot_height=400,\n",
    "           title=None, toolbar_location=\"below\")\n",
    "\n",
    "p.circle([1, 2, 3, 4, 5], [2, 5, 8, 2, 7], size=10)\n",
    "\n",
    "show(p)"
   ]
  },
  {
   "cell_type": "markdown",
   "metadata": {},
   "source": [
    "### Specifying tools\n",
    "In `bokeh` you can specify wich tools include within the toolbar and which one must be active at the plot render\n",
    "\n",
    "The Tools can be supplied conveniently with a comma-separate string containing tool shortcut names:\n",
    "\n",
    "```python\n",
    "tools = \"pan,wheel_zoom,box_zoom,reset\"\n",
    "```\n",
    "However, this method does not allow setting properties of the tools.\n",
    "\n",
    "Finally, it is also always possible to add new tools to a plot by passing a tool object to the add_tools method of a plot. This can also be done in conjunction with the tools keyword described above:\n",
    "```python\n",
    "from bokeh.models import BoxSelectTool\n",
    "\n",
    "plot = figure(tools=\"pan,wheel_zoom,box_zoom,reset\")\n",
    "plot.add_tools(BoxSelectTool(dimensions=[\"width\"]))\n",
    "```"
   ]
  },
  {
   "cell_type": "code",
   "execution_count": 43,
   "metadata": {},
   "outputs": [
    {
     "data": {
      "text/html": [
       "\n",
       "  <div class=\"bk-root\" id=\"e6e55d46-3b8f-46d2-bff0-6fcbe7910bfa\" data-root-id=\"9845\"></div>\n"
      ]
     },
     "metadata": {},
     "output_type": "display_data"
    },
    {
     "data": {
      "application/javascript": [
       "(function(root) {\n",
       "  function embed_document(root) {\n",
       "  const docs_json = {\"38f732df-d480-482d-97b8-b380bb7b7b0b\":{\"defs\":[],\"roots\":{\"references\":[{\"attributes\":{\"below\":[{\"id\":\"9855\"}],\"center\":[{\"id\":\"9858\"},{\"id\":\"9862\"}],\"height\":400,\"left\":[{\"id\":\"9859\"}],\"renderers\":[{\"id\":\"9877\"}],\"title\":null,\"toolbar\":{\"id\":\"9868\"},\"toolbar_location\":\"below\",\"width\":400,\"x_range\":{\"id\":\"9847\"},\"x_scale\":{\"id\":\"9851\"},\"y_range\":{\"id\":\"9849\"},\"y_scale\":{\"id\":\"9853\"}},\"id\":\"9845\",\"subtype\":\"Figure\",\"type\":\"Plot\"},{\"attributes\":{\"fill_alpha\":{\"value\":0.2},\"fill_color\":{\"value\":\"#1f77b4\"},\"hatch_alpha\":{\"value\":0.2},\"line_alpha\":{\"value\":0.2},\"line_color\":{\"value\":\"#1f77b4\"},\"size\":{\"value\":10},\"x\":{\"field\":\"x\"},\"y\":{\"field\":\"y\"}},\"id\":\"9876\",\"type\":\"Circle\"},{\"attributes\":{\"bottom_units\":\"screen\",\"coordinates\":null,\"fill_alpha\":0.5,\"fill_color\":\"lightgrey\",\"group\":null,\"left_units\":\"screen\",\"level\":\"overlay\",\"line_alpha\":1.0,\"line_color\":\"black\",\"line_dash\":[4,4],\"line_width\":2,\"right_units\":\"screen\",\"syncable\":false,\"top_units\":\"screen\"},\"id\":\"9867\",\"type\":\"BoxAnnotation\"},{\"attributes\":{\"coordinates\":null,\"formatter\":{\"id\":\"10222\"},\"group\":null,\"major_label_policy\":{\"id\":\"10223\"},\"ticker\":{\"id\":\"9856\"}},\"id\":\"9855\",\"type\":\"LinearAxis\"},{\"attributes\":{\"axis\":{\"id\":\"9855\"},\"coordinates\":null,\"group\":null,\"ticker\":null},\"id\":\"9858\",\"type\":\"Grid\"},{\"attributes\":{\"fill_alpha\":{\"value\":0.1},\"fill_color\":{\"value\":\"#1f77b4\"},\"hatch_alpha\":{\"value\":0.1},\"line_alpha\":{\"value\":0.1},\"line_color\":{\"value\":\"#1f77b4\"},\"size\":{\"value\":10},\"x\":{\"field\":\"x\"},\"y\":{\"field\":\"y\"}},\"id\":\"9875\",\"type\":\"Circle\"},{\"attributes\":{\"tools\":[{\"id\":\"9863\"},{\"id\":\"9864\"},{\"id\":\"9865\"},{\"id\":\"9866\"},{\"id\":\"9879\"}]},\"id\":\"9868\",\"type\":\"Toolbar\"},{\"attributes\":{},\"id\":\"9864\",\"type\":\"WheelZoomTool\"},{\"attributes\":{\"coordinates\":null,\"formatter\":{\"id\":\"10219\"},\"group\":null,\"major_label_policy\":{\"id\":\"10220\"},\"ticker\":{\"id\":\"9860\"}},\"id\":\"9859\",\"type\":\"LinearAxis\"},{\"attributes\":{},\"id\":\"10224\",\"type\":\"UnionRenderers\"},{\"attributes\":{\"fill_color\":{\"value\":\"#1f77b4\"},\"line_color\":{\"value\":\"#1f77b4\"},\"size\":{\"value\":10},\"x\":{\"field\":\"x\"},\"y\":{\"field\":\"y\"}},\"id\":\"9874\",\"type\":\"Circle\"},{\"attributes\":{\"dimensions\":\"height\",\"overlay\":{\"id\":\"10227\"}},\"id\":\"9879\",\"type\":\"BoxSelectTool\"},{\"attributes\":{},\"id\":\"9847\",\"type\":\"DataRange1d\"},{\"attributes\":{\"bottom_units\":\"screen\",\"coordinates\":null,\"fill_alpha\":0.5,\"fill_color\":\"lightgrey\",\"group\":null,\"left_units\":\"screen\",\"level\":\"overlay\",\"line_alpha\":1.0,\"line_color\":\"black\",\"line_dash\":[4,4],\"line_width\":2,\"right_units\":\"screen\",\"syncable\":false,\"top_units\":\"screen\"},\"id\":\"10227\",\"type\":\"BoxAnnotation\"},{\"attributes\":{\"coordinates\":null,\"data_source\":{\"id\":\"9873\"},\"glyph\":{\"id\":\"9874\"},\"group\":null,\"hover_glyph\":null,\"muted_glyph\":{\"id\":\"9876\"},\"nonselection_glyph\":{\"id\":\"9875\"},\"view\":{\"id\":\"9878\"}},\"id\":\"9877\",\"type\":\"GlyphRenderer\"},{\"attributes\":{},\"id\":\"10223\",\"type\":\"AllLabels\"},{\"attributes\":{},\"id\":\"9863\",\"type\":\"PanTool\"},{\"attributes\":{\"source\":{\"id\":\"9873\"}},\"id\":\"9878\",\"type\":\"CDSView\"},{\"attributes\":{},\"id\":\"10225\",\"type\":\"Selection\"},{\"attributes\":{},\"id\":\"10222\",\"type\":\"BasicTickFormatter\"},{\"attributes\":{\"overlay\":{\"id\":\"9867\"}},\"id\":\"9865\",\"type\":\"BoxZoomTool\"},{\"attributes\":{\"axis\":{\"id\":\"9859\"},\"coordinates\":null,\"dimension\":1,\"group\":null,\"ticker\":null},\"id\":\"9862\",\"type\":\"Grid\"},{\"attributes\":{},\"id\":\"10220\",\"type\":\"AllLabels\"},{\"attributes\":{\"data\":{\"x\":[1,2,3,4,5],\"y\":[2,5,8,2,7]},\"selected\":{\"id\":\"10225\"},\"selection_policy\":{\"id\":\"10224\"}},\"id\":\"9873\",\"type\":\"ColumnDataSource\"},{\"attributes\":{},\"id\":\"9851\",\"type\":\"LinearScale\"},{\"attributes\":{},\"id\":\"9866\",\"type\":\"ResetTool\"},{\"attributes\":{},\"id\":\"9860\",\"type\":\"BasicTicker\"},{\"attributes\":{},\"id\":\"9853\",\"type\":\"LinearScale\"},{\"attributes\":{},\"id\":\"9849\",\"type\":\"DataRange1d\"},{\"attributes\":{},\"id\":\"10219\",\"type\":\"BasicTickFormatter\"},{\"attributes\":{},\"id\":\"9856\",\"type\":\"BasicTicker\"}],\"root_ids\":[\"9845\"]},\"title\":\"Bokeh Application\",\"version\":\"2.4.3\"}};\n",
       "  const render_items = [{\"docid\":\"38f732df-d480-482d-97b8-b380bb7b7b0b\",\"root_ids\":[\"9845\"],\"roots\":{\"9845\":\"e6e55d46-3b8f-46d2-bff0-6fcbe7910bfa\"}}];\n",
       "  root.Bokeh.embed.embed_items_notebook(docs_json, render_items);\n",
       "  }\n",
       "  if (root.Bokeh !== undefined) {\n",
       "    embed_document(root);\n",
       "  } else {\n",
       "    let attempts = 0;\n",
       "    const timer = setInterval(function(root) {\n",
       "      if (root.Bokeh !== undefined) {\n",
       "        clearInterval(timer);\n",
       "        embed_document(root);\n",
       "      } else {\n",
       "        attempts++;\n",
       "        if (attempts > 100) {\n",
       "          clearInterval(timer);\n",
       "          console.log(\"Bokeh: ERROR: Unable to run BokehJS code because BokehJS library is missing\");\n",
       "        }\n",
       "      }\n",
       "    }, 10, root)\n",
       "  }\n",
       "})(window);"
      ],
      "application/vnd.bokehjs_exec.v0+json": ""
     },
     "metadata": {
      "application/vnd.bokehjs_exec.v0+json": {
       "id": "9845"
      }
     },
     "output_type": "display_data"
    }
   ],
   "source": [
    "from bokeh.models import BoxSelectTool\n",
    "\n",
    "tools = \"pan, wheel_zoom, box_zoom, reset\" \n",
    "p = figure(plot_width=400, plot_height=400, \n",
    "           tools=tools, title=None, \n",
    "           toolbar_location=\"below\")\n",
    "p.circle([1, 2, 3, 4, 5], [2, 5, 8, 2, 7], size=10)\n",
    "p.add_tools(BoxSelectTool(dimensions='height'))\n",
    "show(p)"
   ]
  },
  {
   "cell_type": "markdown",
   "metadata": {},
   "source": [
    "### Setting the active tool\n",
    "Bokeh toolbars can have (at most) one active tool from each kind of gesture (drag, scroll, tap). By default, Bokeh will use a default pre-defined order of preference to choose one of each kind from the set of configured tools, to be active.\n",
    "\n",
    "However it is possible to exert control over which tool is active. At the lowest bokeh.models level, this is accomplished by using the active_drag, active_inspect, active_scroll, and active_tap properties of Toolbar. These properties can take the following values:\n",
    "\n",
    "    None — there is no active tool of this kind\n",
    "    \"auto\" — Bokeh chooses a tool of this kind to be active (possibly none)\n",
    "    a Tool instance — Bokeh sets the given tool to be the active tool\n",
    "\n",
    "Additionally, the active_inspect tool may accept: * A sequence of Tool instances to be set as the active tools"
   ]
  },
  {
   "cell_type": "code",
   "execution_count": 44,
   "metadata": {},
   "outputs": [
    {
     "data": {
      "text/html": [
       "\n",
       "  <div class=\"bk-root\" id=\"8bcf56f1-dfd9-4f0c-bc76-fa1fa65632ef\" data-root-id=\"10283\"></div>\n"
      ]
     },
     "metadata": {},
     "output_type": "display_data"
    },
    {
     "data": {
      "application/javascript": [
       "(function(root) {\n",
       "  function embed_document(root) {\n",
       "  const docs_json = {\"7f9d304c-110e-4711-80b6-fc2d3b47de4a\":{\"defs\":[],\"roots\":{\"references\":[{\"attributes\":{\"below\":[{\"id\":\"10292\"}],\"center\":[{\"id\":\"10295\"},{\"id\":\"10299\"}],\"height\":400,\"left\":[{\"id\":\"10296\"}],\"renderers\":[{\"id\":\"10313\"}],\"title\":{\"id\":\"10662\"},\"toolbar\":{\"id\":\"10305\"},\"width\":400,\"x_range\":{\"id\":\"10284\"},\"x_scale\":{\"id\":\"10288\"},\"y_range\":{\"id\":\"10286\"},\"y_scale\":{\"id\":\"10290\"}},\"id\":\"10283\",\"subtype\":\"Figure\",\"type\":\"Plot\"},{\"attributes\":{},\"id\":\"10284\",\"type\":\"DataRange1d\"},{\"attributes\":{\"bottom_units\":\"screen\",\"coordinates\":null,\"fill_alpha\":0.5,\"fill_color\":\"lightgrey\",\"group\":null,\"left_units\":\"screen\",\"level\":\"overlay\",\"line_alpha\":1.0,\"line_color\":\"black\",\"line_dash\":[4,4],\"line_width\":2,\"right_units\":\"screen\",\"syncable\":false,\"top_units\":\"screen\"},\"id\":\"10303\",\"type\":\"BoxAnnotation\"},{\"attributes\":{\"coordinates\":null,\"group\":null},\"id\":\"10662\",\"type\":\"Title\"},{\"attributes\":{\"overlay\":{\"id\":\"10303\"}},\"id\":\"10302\",\"type\":\"BoxSelectTool\"},{\"attributes\":{},\"id\":\"10670\",\"type\":\"UnionRenderers\"},{\"attributes\":{\"coordinates\":null,\"fill_alpha\":0.5,\"fill_color\":\"lightgrey\",\"group\":null,\"level\":\"overlay\",\"line_alpha\":1.0,\"line_color\":\"black\",\"line_dash\":[4,4],\"line_width\":2,\"syncable\":false,\"xs_units\":\"screen\",\"ys_units\":\"screen\"},\"id\":\"10304\",\"type\":\"PolyAnnotation\"},{\"attributes\":{\"overlay\":{\"id\":\"10304\"}},\"id\":\"10301\",\"type\":\"LassoSelectTool\"},{\"attributes\":{},\"id\":\"10671\",\"type\":\"Selection\"},{\"attributes\":{},\"id\":\"10300\",\"type\":\"PanTool\"},{\"attributes\":{\"fill_color\":{\"value\":\"#1f77b4\"},\"line_color\":{\"value\":\"#1f77b4\"},\"size\":{\"value\":10},\"x\":{\"field\":\"x\"},\"y\":{\"field\":\"y\"}},\"id\":\"10310\",\"type\":\"Circle\"},{\"attributes\":{\"data\":{\"x\":[1,2,3,4,5],\"y\":[2,5,8,2,7]},\"selected\":{\"id\":\"10671\"},\"selection_policy\":{\"id\":\"10670\"}},\"id\":\"10309\",\"type\":\"ColumnDataSource\"},{\"attributes\":{\"active_drag\":{\"id\":\"10301\"},\"tools\":[{\"id\":\"10300\"},{\"id\":\"10301\"},{\"id\":\"10302\"}]},\"id\":\"10305\",\"type\":\"Toolbar\"},{\"attributes\":{\"fill_alpha\":{\"value\":0.1},\"fill_color\":{\"value\":\"#1f77b4\"},\"hatch_alpha\":{\"value\":0.1},\"line_alpha\":{\"value\":0.1},\"line_color\":{\"value\":\"#1f77b4\"},\"size\":{\"value\":10},\"x\":{\"field\":\"x\"},\"y\":{\"field\":\"y\"}},\"id\":\"10311\",\"type\":\"Circle\"},{\"attributes\":{\"axis\":{\"id\":\"10296\"},\"coordinates\":null,\"dimension\":1,\"group\":null,\"ticker\":null},\"id\":\"10299\",\"type\":\"Grid\"},{\"attributes\":{\"coordinates\":null,\"formatter\":{\"id\":\"10668\"},\"group\":null,\"major_label_policy\":{\"id\":\"10669\"},\"ticker\":{\"id\":\"10293\"}},\"id\":\"10292\",\"type\":\"LinearAxis\"},{\"attributes\":{},\"id\":\"10290\",\"type\":\"LinearScale\"},{\"attributes\":{},\"id\":\"10297\",\"type\":\"BasicTicker\"},{\"attributes\":{},\"id\":\"10286\",\"type\":\"DataRange1d\"},{\"attributes\":{},\"id\":\"10665\",\"type\":\"BasicTickFormatter\"},{\"attributes\":{},\"id\":\"10293\",\"type\":\"BasicTicker\"},{\"attributes\":{\"coordinates\":null,\"data_source\":{\"id\":\"10309\"},\"glyph\":{\"id\":\"10310\"},\"group\":null,\"hover_glyph\":null,\"muted_glyph\":{\"id\":\"10312\"},\"nonselection_glyph\":{\"id\":\"10311\"},\"view\":{\"id\":\"10314\"}},\"id\":\"10313\",\"type\":\"GlyphRenderer\"},{\"attributes\":{},\"id\":\"10666\",\"type\":\"AllLabels\"},{\"attributes\":{\"coordinates\":null,\"formatter\":{\"id\":\"10665\"},\"group\":null,\"major_label_policy\":{\"id\":\"10666\"},\"ticker\":{\"id\":\"10297\"}},\"id\":\"10296\",\"type\":\"LinearAxis\"},{\"attributes\":{\"fill_alpha\":{\"value\":0.2},\"fill_color\":{\"value\":\"#1f77b4\"},\"hatch_alpha\":{\"value\":0.2},\"line_alpha\":{\"value\":0.2},\"line_color\":{\"value\":\"#1f77b4\"},\"size\":{\"value\":10},\"x\":{\"field\":\"x\"},\"y\":{\"field\":\"y\"}},\"id\":\"10312\",\"type\":\"Circle\"},{\"attributes\":{\"axis\":{\"id\":\"10292\"},\"coordinates\":null,\"group\":null,\"ticker\":null},\"id\":\"10295\",\"type\":\"Grid\"},{\"attributes\":{},\"id\":\"10668\",\"type\":\"BasicTickFormatter\"},{\"attributes\":{\"source\":{\"id\":\"10309\"}},\"id\":\"10314\",\"type\":\"CDSView\"},{\"attributes\":{},\"id\":\"10669\",\"type\":\"AllLabels\"},{\"attributes\":{},\"id\":\"10288\",\"type\":\"LinearScale\"}],\"root_ids\":[\"10283\"]},\"title\":\"Bokeh Application\",\"version\":\"2.4.3\"}};\n",
       "  const render_items = [{\"docid\":\"7f9d304c-110e-4711-80b6-fc2d3b47de4a\",\"root_ids\":[\"10283\"],\"roots\":{\"10283\":\"8bcf56f1-dfd9-4f0c-bc76-fa1fa65632ef\"}}];\n",
       "  root.Bokeh.embed.embed_items_notebook(docs_json, render_items);\n",
       "  }\n",
       "  if (root.Bokeh !== undefined) {\n",
       "    embed_document(root);\n",
       "  } else {\n",
       "    let attempts = 0;\n",
       "    const timer = setInterval(function(root) {\n",
       "      if (root.Bokeh !== undefined) {\n",
       "        clearInterval(timer);\n",
       "        embed_document(root);\n",
       "      } else {\n",
       "        attempts++;\n",
       "        if (attempts > 100) {\n",
       "          clearInterval(timer);\n",
       "          console.log(\"Bokeh: ERROR: Unable to run BokehJS code because BokehJS library is missing\");\n",
       "        }\n",
       "      }\n",
       "    }, 10, root)\n",
       "  }\n",
       "})(window);"
      ],
      "application/vnd.bokehjs_exec.v0+json": ""
     },
     "metadata": {
      "application/vnd.bokehjs_exec.v0+json": {
       "id": "10283"
      }
     },
     "output_type": "display_data"
    }
   ],
   "source": [
    "plot = figure(tools=\"pan,lasso_select,box_select\", \n",
    "              plot_width=400, plot_height=400, \n",
    "              active_drag=\"lasso_select\")\n",
    "plot.circle([1, 2, 3, 4, 5], [2, 5, 8, 2, 7], size=10)\n",
    "show(plot)"
   ]
  },
  {
   "cell_type": "markdown",
   "metadata": {},
   "source": [
    "## Tooltip"
   ]
  },
  {
   "cell_type": "markdown",
   "metadata": {},
   "source": [
    "By default, the hover tool will generate a “tabular” tooltip where each row contains a label, and its associated value. The labels and values are supplied as a list of (label, value) tuples. For instance, the tooltip below on the left was created with the accompanying tooltips definition on the right."
   ]
  },
  {
   "cell_type": "markdown",
   "metadata": {},
   "source": [
    "### Basic tooltips"
   ]
  },
  {
   "cell_type": "markdown",
   "metadata": {},
   "source": [
    "<img src=\"http://bokeh.pydata.org/en/latest/_images/hover_basic.png\">"
   ]
  },
  {
   "cell_type": "markdown",
   "metadata": {},
   "source": [
    "```python\n",
    "\t\n",
    "hover.tooltips = [\n",
    "    (\"index\", \"$index\"),\n",
    "    (\"(x,y)\", \"($x, $y)\"),\n",
    "    (\"radius\", \"@radius\"),\n",
    "    (\"fill color\", \"$color[hex, swatch]:fill_color\"),\n",
    "    (\"foo\", \"@foo\"),\n",
    "    (\"bar\", \"@bar\"),\n",
    "]\n",
    "```"
   ]
  },
  {
   "cell_type": "markdown",
   "metadata": {},
   "source": [
    "Field names that begin with $ are `special fields`. These often correspond to values that are intrinsic to the plot, such as the coordinates of the mouse in data or screen space. These special fields are listed here:\n",
    "\n",
    " - `$index`: index of selected point in the data source\n",
    " - `$name`: value of the name property of the hovered glyph renderer\n",
    " - `$x`: x-coordinate under the cursor in data space\n",
    " - `$y`: y-coordinate under the cursor in data space\n",
    " - `$sx`: x-coordinate under the cursor in screen (canvas) space\n",
    " - `$sy`: y-coordinate under the cursor in screen (canvas) space\n",
    " - `$name`: The name property of the glyph that is hovered over\n",
    " - `$color`: colors from a data source, with the syntax: $color[options]:field_name. \n",
    " \n",
    "The available options are: hex (to display the color as a hex value), and swatch to also display a small color swatch.\n",
    "Field names that begin with @ are associated with columns in a ColumnDataSource. For instance the field name \"@price\" will display values from the \"price\" column whenever a hover is triggered. If the hover is for the 17th glyph, then the hover tooltip will correspondingly display the 17th price value.\n",
    "\n",
    "Note that if a column name contains spaces, the it must be supplied by surrounding it in curly braces, e.g. @{adjusted close} will display values from a column named \"adjusted close\".\n",
    "\n",
    "Sometimes (especially with stacked charts) it is desirable to allow the name of the column be specified indirectly. The field name `@$name` is distinguished in that it will look up the name field on the hovered glyph renderer, and use that value as the column name. For instance, if a user hovers with the name \"US East\", then `@$name` is equivalent to `@{US East}`.\n",
    "\n",
    "Here is a complete example of how to configure and use the hover tool by setting the tooltips argument to figure:"
   ]
  },
  {
   "cell_type": "code",
   "execution_count": 45,
   "metadata": {},
   "outputs": [
    {
     "data": {
      "text/html": [
       "\n",
       "  <div class=\"bk-root\" id=\"43b6ebb0-8097-42ee-ba1e-ba2e6e05e2b2\" data-root-id=\"10735\"></div>\n"
      ]
     },
     "metadata": {},
     "output_type": "display_data"
    },
    {
     "data": {
      "application/javascript": [
       "(function(root) {\n",
       "  function embed_document(root) {\n",
       "  const docs_json = {\"6cc1a0ba-796f-46fa-8c34-1df0d432d776\":{\"defs\":[],\"roots\":{\"references\":[{\"attributes\":{\"below\":[{\"id\":\"10746\"}],\"center\":[{\"id\":\"10749\"},{\"id\":\"10753\"}],\"height\":400,\"left\":[{\"id\":\"10750\"}],\"renderers\":[{\"id\":\"10774\"}],\"title\":{\"id\":\"10736\"},\"toolbar\":{\"id\":\"10762\"},\"width\":400,\"x_range\":{\"id\":\"10738\"},\"x_scale\":{\"id\":\"10742\"},\"y_range\":{\"id\":\"10740\"},\"y_scale\":{\"id\":\"10744\"}},\"id\":\"10735\",\"subtype\":\"Figure\",\"type\":\"Plot\"},{\"attributes\":{\"axis\":{\"id\":\"10746\"},\"coordinates\":null,\"group\":null,\"ticker\":null},\"id\":\"10749\",\"type\":\"Grid\"},{\"attributes\":{\"coordinates\":null,\"formatter\":{\"id\":\"11137\"},\"group\":null,\"major_label_policy\":{\"id\":\"11138\"},\"ticker\":{\"id\":\"10751\"}},\"id\":\"10750\",\"type\":\"LinearAxis\"},{\"attributes\":{},\"id\":\"11141\",\"type\":\"AllLabels\"},{\"attributes\":{},\"id\":\"10747\",\"type\":\"BasicTicker\"},{\"attributes\":{},\"id\":\"10742\",\"type\":\"LinearScale\"},{\"attributes\":{},\"id\":\"10759\",\"type\":\"HelpTool\"},{\"attributes\":{\"data\":{\"desc\":[\"A\",\"b\",\"C\",\"d\",\"E\"],\"x\":[1,2,3,4,5],\"y\":[2,5,8,2,7]},\"selected\":{\"id\":\"11143\"},\"selection_policy\":{\"id\":\"11142\"}},\"id\":\"10734\",\"type\":\"ColumnDataSource\"},{\"attributes\":{\"axis\":{\"id\":\"10750\"},\"coordinates\":null,\"dimension\":1,\"group\":null,\"ticker\":null},\"id\":\"10753\",\"type\":\"Grid\"},{\"attributes\":{},\"id\":\"11138\",\"type\":\"AllLabels\"},{\"attributes\":{},\"id\":\"10744\",\"type\":\"LinearScale\"},{\"attributes\":{},\"id\":\"10751\",\"type\":\"BasicTicker\"},{\"attributes\":{},\"id\":\"10740\",\"type\":\"DataRange1d\"},{\"attributes\":{\"callback\":null,\"tooltips\":[[\"index\",\"$index\"],[\"(x,y)\",\"($x, $y)\"],[\"desc\",\"@desc\"]]},\"id\":\"10761\",\"type\":\"HoverTool\"},{\"attributes\":{},\"id\":\"10755\",\"type\":\"WheelZoomTool\"},{\"attributes\":{},\"id\":\"10738\",\"type\":\"DataRange1d\"},{\"attributes\":{},\"id\":\"10754\",\"type\":\"PanTool\"},{\"attributes\":{\"overlay\":{\"id\":\"10760\"}},\"id\":\"10756\",\"type\":\"BoxZoomTool\"},{\"attributes\":{},\"id\":\"11142\",\"type\":\"UnionRenderers\"},{\"attributes\":{},\"id\":\"10757\",\"type\":\"SaveTool\"},{\"attributes\":{},\"id\":\"10758\",\"type\":\"ResetTool\"},{\"attributes\":{},\"id\":\"11143\",\"type\":\"Selection\"},{\"attributes\":{\"bottom_units\":\"screen\",\"coordinates\":null,\"fill_alpha\":0.5,\"fill_color\":\"lightgrey\",\"group\":null,\"left_units\":\"screen\",\"level\":\"overlay\",\"line_alpha\":1.0,\"line_color\":\"black\",\"line_dash\":[4,4],\"line_width\":2,\"right_units\":\"screen\",\"syncable\":false,\"top_units\":\"screen\"},\"id\":\"10760\",\"type\":\"BoxAnnotation\"},{\"attributes\":{\"tools\":[{\"id\":\"10754\"},{\"id\":\"10755\"},{\"id\":\"10756\"},{\"id\":\"10757\"},{\"id\":\"10758\"},{\"id\":\"10759\"},{\"id\":\"10761\"}]},\"id\":\"10762\",\"type\":\"Toolbar\"},{\"attributes\":{\"fill_color\":{\"value\":\"#1f77b4\"},\"line_color\":{\"value\":\"#1f77b4\"},\"size\":{\"value\":20},\"x\":{\"field\":\"x\"},\"y\":{\"field\":\"y\"}},\"id\":\"10771\",\"type\":\"Circle\"},{\"attributes\":{\"source\":{\"id\":\"10734\"}},\"id\":\"10775\",\"type\":\"CDSView\"},{\"attributes\":{\"coordinates\":null,\"formatter\":{\"id\":\"11140\"},\"group\":null,\"major_label_policy\":{\"id\":\"11141\"},\"ticker\":{\"id\":\"10747\"}},\"id\":\"10746\",\"type\":\"LinearAxis\"},{\"attributes\":{\"fill_alpha\":{\"value\":0.1},\"fill_color\":{\"value\":\"#1f77b4\"},\"hatch_alpha\":{\"value\":0.1},\"line_alpha\":{\"value\":0.1},\"line_color\":{\"value\":\"#1f77b4\"},\"size\":{\"value\":20},\"x\":{\"field\":\"x\"},\"y\":{\"field\":\"y\"}},\"id\":\"10772\",\"type\":\"Circle\"},{\"attributes\":{\"coordinates\":null,\"data_source\":{\"id\":\"10734\"},\"glyph\":{\"id\":\"10771\"},\"group\":null,\"hover_glyph\":null,\"muted_glyph\":{\"id\":\"10773\"},\"nonselection_glyph\":{\"id\":\"10772\"},\"view\":{\"id\":\"10775\"}},\"id\":\"10774\",\"type\":\"GlyphRenderer\"},{\"attributes\":{\"fill_alpha\":{\"value\":0.2},\"fill_color\":{\"value\":\"#1f77b4\"},\"hatch_alpha\":{\"value\":0.2},\"line_alpha\":{\"value\":0.2},\"line_color\":{\"value\":\"#1f77b4\"},\"size\":{\"value\":20},\"x\":{\"field\":\"x\"},\"y\":{\"field\":\"y\"}},\"id\":\"10773\",\"type\":\"Circle\"},{\"attributes\":{},\"id\":\"11140\",\"type\":\"BasicTickFormatter\"},{\"attributes\":{\"coordinates\":null,\"group\":null,\"text\":\"Mouse over the dots\"},\"id\":\"10736\",\"type\":\"Title\"},{\"attributes\":{},\"id\":\"11137\",\"type\":\"BasicTickFormatter\"}],\"root_ids\":[\"10735\"]},\"title\":\"Bokeh Application\",\"version\":\"2.4.3\"}};\n",
       "  const render_items = [{\"docid\":\"6cc1a0ba-796f-46fa-8c34-1df0d432d776\",\"root_ids\":[\"10735\"],\"roots\":{\"10735\":\"43b6ebb0-8097-42ee-ba1e-ba2e6e05e2b2\"}}];\n",
       "  root.Bokeh.embed.embed_items_notebook(docs_json, render_items);\n",
       "  }\n",
       "  if (root.Bokeh !== undefined) {\n",
       "    embed_document(root);\n",
       "  } else {\n",
       "    let attempts = 0;\n",
       "    const timer = setInterval(function(root) {\n",
       "      if (root.Bokeh !== undefined) {\n",
       "        clearInterval(timer);\n",
       "        embed_document(root);\n",
       "      } else {\n",
       "        attempts++;\n",
       "        if (attempts > 100) {\n",
       "          clearInterval(timer);\n",
       "          console.log(\"Bokeh: ERROR: Unable to run BokehJS code because BokehJS library is missing\");\n",
       "        }\n",
       "      }\n",
       "    }, 10, root)\n",
       "  }\n",
       "})(window);"
      ],
      "application/vnd.bokehjs_exec.v0+json": ""
     },
     "metadata": {
      "application/vnd.bokehjs_exec.v0+json": {
       "id": "10735"
      }
     },
     "output_type": "display_data"
    }
   ],
   "source": [
    "from bokeh.models import ColumnDataSource\n",
    "\n",
    "source = ColumnDataSource(data=dict(\n",
    "    x=[1, 2, 3, 4, 5],\n",
    "    y=[2, 5, 8, 2, 7],\n",
    "    desc=['A', 'b', 'C', 'd', 'E'],\n",
    "))\n",
    "\n",
    "TOOLTIPS = [\n",
    "    (\"index\", \"$index\"),\n",
    "    (\"(x,y)\", \"($x, $y)\"),\n",
    "    (\"desc\", \"@desc\"),\n",
    "]\n",
    "\n",
    "p = figure(plot_width=400, plot_height=400, tooltips=TOOLTIPS,\n",
    "           title=\"Mouse over the dots\")\n",
    "\n",
    "p.circle('x', 'y', size=20, source=source)\n",
    "\n",
    "show(p)"
   ]
  },
  {
   "cell_type": "markdown",
   "metadata": {},
   "source": [
    "### Formatting Tooltip Fields\n",
    "By default, values for fields (e.g. @foo) are displayed in a basic numeric format. However it is possible to control the formatting of values more precisely. Fields can be modified by appending a format specified to the end in curly braces. Some examples are below."
   ]
  },
  {
   "cell_type": "markdown",
   "metadata": {},
   "source": [
    "```python\n",
    "\"@foo{0,0.000}\"    # formats 10000.1234 as: 10,000.123\n",
    "\n",
    "\"@foo{(.00)}\"      # formats -10000.1234 as: (10000.123)\n",
    "\n",
    "\"@foo{($ 0.00 a)}\" # formats 1230974 as: $ 1.23 m\n",
    "```"
   ]
  },
  {
   "cell_type": "code",
   "execution_count": 46,
   "metadata": {},
   "outputs": [
    {
     "data": {
      "text/html": [
       "\n",
       "  <div class=\"bk-root\" id=\"19a1a6a5-98b3-4ab5-a932-79180818e653\" data-root-id=\"11196\"></div>\n"
      ]
     },
     "metadata": {},
     "output_type": "display_data"
    },
    {
     "data": {
      "application/javascript": [
       "(function(root) {\n",
       "  function embed_document(root) {\n",
       "  const docs_json = {\"866d7bfc-f201-43d7-83e4-337540498ea4\":{\"defs\":[],\"roots\":{\"references\":[{\"attributes\":{\"background_fill_color\":\"#f5f5f5\",\"below\":[{\"id\":\"11207\"}],\"center\":[{\"id\":\"11210\"},{\"id\":\"11214\"}],\"height\":250,\"left\":[{\"id\":\"11211\"}],\"renderers\":[{\"id\":\"11220\"}],\"sizing_mode\":\"scale_width\",\"title\":{\"id\":\"11197\"},\"toolbar\":{\"id\":\"11215\"},\"toolbar_location\":null,\"x_range\":{\"id\":\"11199\"},\"x_scale\":{\"id\":\"11203\"},\"y_range\":{\"id\":\"11201\"},\"y_scale\":{\"id\":\"11205\"}},\"id\":\"11196\",\"subtype\":\"Figure\",\"type\":\"Plot\"},{\"attributes\":{\"days\":[1,2,3,4,5,6,7,8,9,10,11,12,13,14,15,16,17,18,19,20,21,22,23,24,25,26,27,28,29,30,31]},\"id\":\"11605\",\"type\":\"DaysTicker\"},{\"attributes\":{\"axis\":{\"id\":\"11207\"},\"coordinates\":null,\"grid_line_color\":\"white\",\"group\":null,\"ticker\":null},\"id\":\"11210\",\"type\":\"Grid\"},{\"attributes\":{\"days\":[1,4,7,10,13,16,19,22,25,28]},\"id\":\"11606\",\"type\":\"DaysTicker\"},{\"attributes\":{\"num_minor_ticks\":5,\"tickers\":[{\"id\":\"11602\"},{\"id\":\"11603\"},{\"id\":\"11604\"},{\"id\":\"11605\"},{\"id\":\"11606\"},{\"id\":\"11607\"},{\"id\":\"11608\"},{\"id\":\"11609\"},{\"id\":\"11610\"},{\"id\":\"11611\"},{\"id\":\"11612\"},{\"id\":\"11613\"}]},\"id\":\"11208\",\"type\":\"DatetimeTicker\"},{\"attributes\":{},\"id\":\"11600\",\"type\":\"UnionRenderers\"},{\"attributes\":{\"days\":[1,15]},\"id\":\"11608\",\"type\":\"DaysTicker\"},{\"attributes\":{\"months\":[0,6]},\"id\":\"11612\",\"type\":\"MonthsTicker\"},{\"attributes\":{\"days\":[1,8,15,22]},\"id\":\"11607\",\"type\":\"DaysTicker\"},{\"attributes\":{},\"id\":\"11613\",\"type\":\"YearsTicker\"},{\"attributes\":{\"months\":[0,1,2,3,4,5,6,7,8,9,10,11]},\"id\":\"11609\",\"type\":\"MonthsTicker\"},{\"attributes\":{\"months\":[0,2,4,6,8,10]},\"id\":\"11610\",\"type\":\"MonthsTicker\"},{\"attributes\":{\"months\":[0,4,8]},\"id\":\"11611\",\"type\":\"MonthsTicker\"},{\"attributes\":{},\"id\":\"11212\",\"type\":\"BasicTicker\"},{\"attributes\":{\"base\":24,\"mantissas\":[1,2,4,6,8,12],\"max_interval\":43200000.0,\"min_interval\":3600000.0,\"num_minor_ticks\":0},\"id\":\"11604\",\"type\":\"AdaptiveTicker\"},{\"attributes\":{\"coordinates\":null,\"group\":null,\"text\":\"Hover Tooltip Formatting\"},\"id\":\"11197\",\"type\":\"Title\"},{\"attributes\":{\"axis_label\":\"Date\",\"axis_line_color\":null,\"coordinates\":null,\"formatter\":{\"id\":\"11598\"},\"group\":null,\"major_label_policy\":{\"id\":\"11599\"},\"ticker\":{\"id\":\"11208\"}},\"id\":\"11207\",\"type\":\"DatetimeAxis\"},{\"attributes\":{\"line_color\":\"#ebbd5b\",\"line_width\":2,\"x\":{\"field\":\"date\"},\"y\":{\"field\":\"adj close\"}},\"id\":\"11217\",\"type\":\"Line\"},{\"attributes\":{\"mantissas\":[1,2,5],\"max_interval\":500.0,\"num_minor_ticks\":0},\"id\":\"11602\",\"type\":\"AdaptiveTicker\"},{\"attributes\":{\"base\":60,\"mantissas\":[1,2,5,10,15,20,30],\"max_interval\":1800000.0,\"min_interval\":1000.0,\"num_minor_ticks\":0},\"id\":\"11603\",\"type\":\"AdaptiveTicker\"},{\"attributes\":{\"data\":{\"adj close\":[31.68,28.26,33.05,26.56,30.82,25.0,21.22,23.28,25.14,27.78,23.68,23.31,24.56,30.36,29.15,10.85,9.78,9.51,9.85,8.54,7.29,7.2,8.36,10.55,9.57,9.42,9.51,11.12,10.72,12.02,11.66,11.3,10.53,10.94,10.71,9.72,9.48,8.79,9.02,7.65,7.85,8.9,9.03,9.22,10.24,10.03,11.33,10.1,12.02,11.96,11.4,12.13,11.89,12.16,11.65,11.64,11.66,9.95,8.33,8.42,7.39,7.31,7.84,6.9,7.09,6.95,6.86,7.81,7.93,7.54,7.19,6.84,7.1,7.26,7.0,7.23,7.16,7.05,6.99,6.49,8.9,8.91,8.16,9.27,9.92,10.11,9.91,9.88,11.16,10.76,10.11,12.07,11.52,10.86,10.08,10.31,10.1,11.54,11.22,11.17,11.09,13.46,12.4,13.28,13.51,12.93,12.99,14.0,15.72,15.05,15.66,15.22,15.01,16.77,17.12,18.81,19.33,24.46,26.62,31.15,31.12,31.13,33.67,34.41,38.39,41.47,39.42,41.65,41.17,34.54,36.13,34.86,38.94,36.94,35.8,40.41,41.48,44.83,44.48,49.99,52.36,48.99,55.23,58.58,63.18,72.02,70.13,72.34,74.0,69.88,68.36,63.68,62.23,60.93,64.4,69.65,63.2,58.13,56.03,54.48,50.82,61.66,62.31,65.95,70.53,71.0,72.18,77.76,76.14,83.49,88.62,83.12,83.31,86.07,82.42,82.5,83.95,88.63,91.08,87.87,96.74,104.57,115.51,114.27,118.54,130.39,141.99,122.92,127.47,128.15,140.19,157.02,165.74,182.71,161.82,173.95,179.34,189.49,155.26,131.64,123.96,121.59,123.13,139.56,143.72,167.51,183.0,181.31,180.54,168.49,169.47,161.7,159.68,171.01,156.79,130.41,97.35,99.09,107.99,93.79,90.13,95.57,84.23,85.3,91.61,94.16,86.74,93.71,106.85,116.29,120.5,125.64,119.14,139.9,133.6,131.68,147.35,161.01,159.5,160.76,176.88,180.26,186.04,187.12,197.67,198.59,191.04,203.3,204.34,200.29,190.81,195.15,218.67,223.07,233.36,259.16,239.49,231.23,248.93,266.55,240.16,238.84,254.66,240.84,235.84,260.7,278.99,290.35,299.59,307.4,300.26,312.2,316.24,324.57,317.75,336.99,340.94,345.61,329.99,331.83,322.74,338.64,326.91,336.03,317.78,324.87,347.95,381.07,363.44,363.46,367.12,393.2,359.65,382.09,389.25,364.65,382.22,371.72,402.09,416.01,442.63,488.43,530.22,569.5,583.09,564.21,567.95,542.9,556.56,560.35,556.33,587.84,559.19,602.85,653.3,660.53,682.44,651.28,617.92,571.02,555.09,565.02,523.86,531.9,493.22,445.09,454.14],\"date\":{\"__ndarray__\":\"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\",\"dtype\":\"float64\",\"order\":\"little\",\"shape\":[327]},\"volume\":[38478000,15845200,8568800,33618800,11678000,17852400,14530800,9020000,7320400,14211000,14720600,6697200,4803800,10669000,9706200,72795600,21495600,31649000,14611200,17586200,12327200,10910000,15121000,30562800,9795600,12451000,15840600,19422200,16334800,11813600,11603200,10037200,11613600,12190400,10818600,15878000,6644800,7443800,7746600,20375600,12238800,5956800,7043000,8238000,6470200,6204000,18910600,20246200,16730200,9291800,12464000,8603600,7108800,10691800,9724600,9486000,5347000,12482000,10757200,7388600,14521200,11909800,7229600,8077800,7355200,7782000,16760600,10565600,5061200,5122600,5885000,5537200,6673600,13323000,8167400,5512200,11980200,4371200,3825000,7332800,21013800,7382800,9284000,10977200,9169200,7086600,8908600,4774600,9601000,10335600,8432600,21789400,9538600,10714400,8754600,6540600,3703400,17412400,10966800,9119400,9867000,35963000,15293400,9111400,12306600,9412800,7010600,14254000,13936200,12463600,11562400,7558200,11536400,13448600,8309600,9768200,41536000,42624800,18167000,49671000,26482200,8783200,79551800,30058200,18730600,43546200,36480400,19693400,14815200,33754700,16006300,22740100,13356200,19559800,14942500,24560100,20074300,32715600,9323500,16171300,19520100,18125200,21776900,22815400,18275400,30608200,17111000,16050800,40527100,24718700,20571400,32595200,21622900,29135400,28387300,27559400,33455000,45749200,31362000,30382300,44639500,26251600,24920000,23399700,31997200,23754000,16677100,22836200,15424600,16658000,25340600,25770600,30259300,48731200,22197500,14281000,29960700,25462900,17928300,26854300,19018700,34089800,52801600,61476900,34810600,25164600,78093900,40192700,30958500,51092000,40674300,33695400,46135000,35789800,49391300,34338200,36596200,38542100,79065900,48059800,34074900,44838600,41308600,27430900,30181700,28114800,29234400,28210900,40728600,22212400,31992000,37920300,28264600,18105400,26549500,59866200,57477300,70732900,58503200,66217400,10634800,37184800,24500000,28514200,30764500,24106200,22495300,27444900,22009000,18955600,19313000,16713000,10642800,33273300,22675500,16485600,31242200,14136100,15398300,16751000,26929400,19270900,13411100,29228100,15852500,10230500,17488200,17888900,16508200,66682500,22603100,16448800,21293500,21349300,20463900,28336600,45923600,45818400,27082300,28022200,24780100,36588500,15287700,11372500,13688900,14576800,36965800,19948000,14033200,13698000,18551700,11497700,9497200,10729600,26942900,11494300,29144900,19504400,14621500,16431600,21782100,11191000,16154800,19810100,14257000,12590900,15376200,21215500,26498900,31119500,20171900,19509900,19123500,22187300,10793900,13283500,12757500,8411800,9286500,9347800,6671300,33734000,15418300,29481700,26108500,37528100,18076600,12593800,13589600,15549300,9876300,16761500,31332600,8739500,20190100,13971300,12020300,13240200,17022300,18897700,29404200,19895300,22345900,12605900,16202800,19267300,13990900]},\"selected\":{\"id\":\"11601\"},\"selection_policy\":{\"id\":\"11600\"}},\"id\":\"11195\",\"type\":\"ColumnDataSource\"},{\"attributes\":{\"callback\":null,\"formatters\":{\"adj close\":\"printf\",\"date\":\"datetime\"},\"mode\":\"vline\",\"tooltips\":[[\"date\",\"@date{%F}\"],[\"close\",\"$@{adj close}{0.00 a}\"],[\"volume\",\"@volume{0.00 a}\"]]},\"id\":\"11222\",\"type\":\"HoverTool\"},{\"attributes\":{},\"id\":\"11599\",\"type\":\"AllLabels\"},{\"attributes\":{},\"id\":\"11601\",\"type\":\"Selection\"},{\"attributes\":{},\"id\":\"11201\",\"type\":\"DataRange1d\"},{\"attributes\":{\"axis\":{\"id\":\"11211\"},\"coordinates\":null,\"dimension\":1,\"grid_line_color\":\"white\",\"group\":null,\"ticker\":null},\"id\":\"11214\",\"type\":\"Grid\"},{\"attributes\":{},\"id\":\"11205\",\"type\":\"LinearScale\"},{\"attributes\":{\"line_alpha\":0.2,\"line_color\":\"#ebbd5b\",\"line_width\":2,\"x\":{\"field\":\"date\"},\"y\":{\"field\":\"adj close\"}},\"id\":\"11219\",\"type\":\"Line\"},{\"attributes\":{},\"id\":\"11203\",\"type\":\"LinearScale\"},{\"attributes\":{},\"id\":\"11199\",\"type\":\"DataRange1d\"},{\"attributes\":{\"line_alpha\":0.1,\"line_color\":\"#ebbd5b\",\"line_width\":2,\"x\":{\"field\":\"date\"},\"y\":{\"field\":\"adj close\"}},\"id\":\"11218\",\"type\":\"Line\"},{\"attributes\":{},\"id\":\"11595\",\"type\":\"BasicTickFormatter\"},{\"attributes\":{},\"id\":\"11596\",\"type\":\"AllLabels\"},{\"attributes\":{\"tools\":[{\"id\":\"11222\"}]},\"id\":\"11215\",\"type\":\"Toolbar\"},{\"attributes\":{\"axis_label\":\"Price\",\"axis_line_color\":null,\"coordinates\":null,\"formatter\":{\"id\":\"11595\"},\"group\":null,\"major_label_policy\":{\"id\":\"11596\"},\"ticker\":{\"id\":\"11212\"}},\"id\":\"11211\",\"type\":\"LinearAxis\"},{\"attributes\":{},\"id\":\"11598\",\"type\":\"DatetimeTickFormatter\"},{\"attributes\":{\"source\":{\"id\":\"11195\"}},\"id\":\"11221\",\"type\":\"CDSView\"},{\"attributes\":{\"coordinates\":null,\"data_source\":{\"id\":\"11195\"},\"glyph\":{\"id\":\"11217\"},\"group\":null,\"hover_glyph\":null,\"muted_glyph\":{\"id\":\"11219\"},\"nonselection_glyph\":{\"id\":\"11218\"},\"view\":{\"id\":\"11221\"}},\"id\":\"11220\",\"type\":\"GlyphRenderer\"}],\"root_ids\":[\"11196\"]},\"title\":\"Bokeh Application\",\"version\":\"2.4.3\"}};\n",
       "  const render_items = [{\"docid\":\"866d7bfc-f201-43d7-83e4-337540498ea4\",\"root_ids\":[\"11196\"],\"roots\":{\"11196\":\"19a1a6a5-98b3-4ab5-a932-79180818e653\"}}];\n",
       "  root.Bokeh.embed.embed_items_notebook(docs_json, render_items);\n",
       "  }\n",
       "  if (root.Bokeh !== undefined) {\n",
       "    embed_document(root);\n",
       "  } else {\n",
       "    let attempts = 0;\n",
       "    const timer = setInterval(function(root) {\n",
       "      if (root.Bokeh !== undefined) {\n",
       "        clearInterval(timer);\n",
       "        embed_document(root);\n",
       "      } else {\n",
       "        attempts++;\n",
       "        if (attempts > 100) {\n",
       "          clearInterval(timer);\n",
       "          console.log(\"Bokeh: ERROR: Unable to run BokehJS code because BokehJS library is missing\");\n",
       "        }\n",
       "      }\n",
       "    }, 10, root)\n",
       "  }\n",
       "})(window);"
      ],
      "application/vnd.bokehjs_exec.v0+json": ""
     },
     "metadata": {
      "application/vnd.bokehjs_exec.v0+json": {
       "id": "11196"
      }
     },
     "output_type": "display_data"
    }
   ],
   "source": [
    "import numpy as np\n",
    "from bokeh.models import ColumnDataSource, HoverTool\n",
    "from bokeh.plotting import figure\n",
    "from bokeh.sampledata.stocks import AAPL # Sample stock data [bokeh built-in]\n",
    "\n",
    "def datetime(x):\n",
    "    return np.array(x, dtype=np.datetime64)\n",
    "\n",
    "source = ColumnDataSource(data={\n",
    "    'date'      : datetime(AAPL['date'][::10]),\n",
    "    'adj close' : AAPL['adj_close'][::10],\n",
    "    'volume'    : AAPL['volume'][::10],\n",
    "})\n",
    "\n",
    "p = figure(plot_height=250, x_axis_type=\"datetime\", tools=\"\", toolbar_location=None,\n",
    "           title=\"Hover Tooltip Formatting\", sizing_mode=\"scale_width\")\n",
    "p.background_fill_color=\"#f5f5f5\"\n",
    "p.grid.grid_line_color=\"white\"\n",
    "p.xaxis.axis_label = 'Date'\n",
    "p.yaxis.axis_label = 'Price'\n",
    "p.axis.axis_line_color = None\n",
    "\n",
    "p.line(x='date', y='adj close', line_width=2, color='#ebbd5b', source=source)\n",
    "\n",
    "p.add_tools(HoverTool(\n",
    "    tooltips=[\n",
    "        ( 'date',   '@date{%F}'            ),\n",
    "        ( 'close',  '$@{adj close}{0.00 a}' ), # use @{ } for field names with spaces. Was: {%0.2f}\n",
    "        ( 'volume', '@volume{0.00 a}'      ),\n",
    "    ],\n",
    "\n",
    "    formatters={\n",
    "        'date'      : 'datetime', # use 'datetime' formatter for 'date' field\n",
    "        'adj close' : 'printf',   # use 'printf' formatter for 'adj close' field\n",
    "                                  # use default 'numeral' formatter for other fields\n",
    "    },\n",
    "\n",
    "    # display a tooltip whenever the cursor is vertically in line with a glyph\n",
    "    mode='vline'\n",
    "))\n",
    "\n",
    "show(p)"
   ]
  },
  {
   "cell_type": "markdown",
   "metadata": {},
   "source": [
    "### Custom HTML Tooltip"
   ]
  },
  {
   "cell_type": "markdown",
   "metadata": {},
   "source": [
    "It is also possible to supply a custom HTML template for a tooltip. To do this, pass an HTML string, with the Bokeh tooltip field name symbols wherever substitutions are desired. Note that you can also use the {safe} format after the column name to disable the escaping of HTML in the data source. An example is shown below:"
   ]
  },
  {
   "cell_type": "code",
   "execution_count": 47,
   "metadata": {},
   "outputs": [
    {
     "data": {
      "text/html": [
       "\n",
       "  <div class=\"bk-root\" id=\"3718373a-f206-4ade-b56f-835ba16c5ff3\" data-root-id=\"11720\"></div>\n"
      ]
     },
     "metadata": {},
     "output_type": "display_data"
    },
    {
     "data": {
      "application/javascript": [
       "(function(root) {\n",
       "  function embed_document(root) {\n",
       "  const docs_json = {\"087e1d58-7260-4e6e-b3d7-ba04b62a7573\":{\"defs\":[],\"roots\":{\"references\":[{\"attributes\":{\"below\":[{\"id\":\"11731\"}],\"center\":[{\"id\":\"11734\"},{\"id\":\"11738\"}],\"height\":400,\"left\":[{\"id\":\"11735\"}],\"renderers\":[{\"id\":\"11759\"}],\"title\":{\"id\":\"11721\"},\"toolbar\":{\"id\":\"11747\"},\"width\":400,\"x_range\":{\"id\":\"11723\"},\"x_scale\":{\"id\":\"11727\"},\"y_range\":{\"id\":\"11725\"},\"y_scale\":{\"id\":\"11729\"}},\"id\":\"11720\",\"subtype\":\"Figure\",\"type\":\"Plot\"},{\"attributes\":{\"fill_color\":{\"value\":\"#1f77b4\"},\"line_color\":{\"value\":\"#1f77b4\"},\"size\":{\"value\":20},\"x\":{\"field\":\"x\"},\"y\":{\"field\":\"y\"}},\"id\":\"11756\",\"type\":\"Circle\"},{\"attributes\":{},\"id\":\"11742\",\"type\":\"SaveTool\"},{\"attributes\":{\"axis\":{\"id\":\"11731\"},\"coordinates\":null,\"group\":null,\"ticker\":null},\"id\":\"11734\",\"type\":\"Grid\"},{\"attributes\":{},\"id\":\"11729\",\"type\":\"LinearScale\"},{\"attributes\":{},\"id\":\"11743\",\"type\":\"ResetTool\"},{\"attributes\":{\"fill_alpha\":{\"value\":0.2},\"fill_color\":{\"value\":\"#1f77b4\"},\"hatch_alpha\":{\"value\":0.2},\"line_alpha\":{\"value\":0.2},\"line_color\":{\"value\":\"#1f77b4\"},\"size\":{\"value\":20},\"x\":{\"field\":\"x\"},\"y\":{\"field\":\"y\"}},\"id\":\"11758\",\"type\":\"Circle\"},{\"attributes\":{},\"id\":\"11736\",\"type\":\"BasicTicker\"},{\"attributes\":{\"callback\":null,\"tooltips\":\"\\n    <div>\\n        <div>\\n            <img\\n                src=\\\"@imgs\\\" height=\\\"42\\\" alt=\\\"@imgs\\\" width=\\\"42\\\"\\n                style=\\\"float: left; margin: 0px 15px 15px 0px;\\\"\\n                border=\\\"2\\\"\\n            ></img>\\n        </div>\\n        <div>\\n            <span style=\\\"font-size: 17px; font-weight: bold;\\\">@desc</span>\\n            <span style=\\\"font-size: 15px; color: #966;\\\">[$index]</span>\\n        </div>\\n        <div>\\n            <span>@fonts{safe}</span>\\n        </div>\\n        <div>\\n            <span style=\\\"font-size: 15px;\\\">Location</span>\\n            <span style=\\\"font-size: 10px; color: #696;\\\">($x, $y)</span>\\n        </div>\\n    </div>\\n\"},\"id\":\"11746\",\"type\":\"HoverTool\"},{\"attributes\":{},\"id\":\"12153\",\"type\":\"BasicTickFormatter\"},{\"attributes\":{},\"id\":\"11744\",\"type\":\"HelpTool\"},{\"attributes\":{},\"id\":\"12154\",\"type\":\"AllLabels\"},{\"attributes\":{},\"id\":\"11727\",\"type\":\"LinearScale\"},{\"attributes\":{},\"id\":\"12157\",\"type\":\"AllLabels\"},{\"attributes\":{},\"id\":\"12159\",\"type\":\"Selection\"},{\"attributes\":{\"source\":{\"id\":\"11719\"}},\"id\":\"11760\",\"type\":\"CDSView\"},{\"attributes\":{},\"id\":\"12158\",\"type\":\"UnionRenderers\"},{\"attributes\":{\"bottom_units\":\"screen\",\"coordinates\":null,\"fill_alpha\":0.5,\"fill_color\":\"lightgrey\",\"group\":null,\"left_units\":\"screen\",\"level\":\"overlay\",\"line_alpha\":1.0,\"line_color\":\"black\",\"line_dash\":[4,4],\"line_width\":2,\"right_units\":\"screen\",\"syncable\":false,\"top_units\":\"screen\"},\"id\":\"11745\",\"type\":\"BoxAnnotation\"},{\"attributes\":{\"coordinates\":null,\"data_source\":{\"id\":\"11719\"},\"glyph\":{\"id\":\"11756\"},\"group\":null,\"hover_glyph\":null,\"muted_glyph\":{\"id\":\"11758\"},\"nonselection_glyph\":{\"id\":\"11757\"},\"view\":{\"id\":\"11760\"}},\"id\":\"11759\",\"type\":\"GlyphRenderer\"},{\"attributes\":{\"tools\":[{\"id\":\"11739\"},{\"id\":\"11740\"},{\"id\":\"11741\"},{\"id\":\"11742\"},{\"id\":\"11743\"},{\"id\":\"11744\"},{\"id\":\"11746\"}]},\"id\":\"11747\",\"type\":\"Toolbar\"},{\"attributes\":{\"coordinates\":null,\"formatter\":{\"id\":\"12153\"},\"group\":null,\"major_label_policy\":{\"id\":\"12154\"},\"ticker\":{\"id\":\"11736\"}},\"id\":\"11735\",\"type\":\"LinearAxis\"},{\"attributes\":{},\"id\":\"11732\",\"type\":\"BasicTicker\"},{\"attributes\":{\"data\":{\"desc\":[\"A\",\"b\",\"C\",\"d\",\"E\"],\"fonts\":[\"<i>italics</i>\",\"<pre>pre</pre>\",\"<b>bold</b>\",\"<small>small</small>\",\"<del>del</del>\"],\"imgs\":[\"https://bokeh.pydata.org/static/snake.jpg\",\"https://bokeh.pydata.org/static/snake2.png\",\"https://bokeh.pydata.org/static/snake3D.png\",\"https://bokeh.pydata.org/static/snake4_TheRevenge.png\",\"https://bokeh.pydata.org/static/snakebite.jpg\"],\"x\":[1,2,3,4,5],\"y\":[2,5,8,2,7]},\"selected\":{\"id\":\"12159\"},\"selection_policy\":{\"id\":\"12158\"}},\"id\":\"11719\",\"type\":\"ColumnDataSource\"},{\"attributes\":{},\"id\":\"12156\",\"type\":\"BasicTickFormatter\"},{\"attributes\":{},\"id\":\"11725\",\"type\":\"DataRange1d\"},{\"attributes\":{\"fill_alpha\":{\"value\":0.1},\"fill_color\":{\"value\":\"#1f77b4\"},\"hatch_alpha\":{\"value\":0.1},\"line_alpha\":{\"value\":0.1},\"line_color\":{\"value\":\"#1f77b4\"},\"size\":{\"value\":20},\"x\":{\"field\":\"x\"},\"y\":{\"field\":\"y\"}},\"id\":\"11757\",\"type\":\"Circle\"},{\"attributes\":{},\"id\":\"11723\",\"type\":\"DataRange1d\"},{\"attributes\":{\"coordinates\":null,\"group\":null,\"text\":\"Mouse over the dots\"},\"id\":\"11721\",\"type\":\"Title\"},{\"attributes\":{},\"id\":\"11740\",\"type\":\"WheelZoomTool\"},{\"attributes\":{\"coordinates\":null,\"formatter\":{\"id\":\"12156\"},\"group\":null,\"major_label_policy\":{\"id\":\"12157\"},\"ticker\":{\"id\":\"11732\"}},\"id\":\"11731\",\"type\":\"LinearAxis\"},{\"attributes\":{\"overlay\":{\"id\":\"11745\"}},\"id\":\"11741\",\"type\":\"BoxZoomTool\"},{\"attributes\":{\"axis\":{\"id\":\"11735\"},\"coordinates\":null,\"dimension\":1,\"group\":null,\"ticker\":null},\"id\":\"11738\",\"type\":\"Grid\"},{\"attributes\":{},\"id\":\"11739\",\"type\":\"PanTool\"}],\"root_ids\":[\"11720\"]},\"title\":\"Bokeh Application\",\"version\":\"2.4.3\"}};\n",
       "  const render_items = [{\"docid\":\"087e1d58-7260-4e6e-b3d7-ba04b62a7573\",\"root_ids\":[\"11720\"],\"roots\":{\"11720\":\"3718373a-f206-4ade-b56f-835ba16c5ff3\"}}];\n",
       "  root.Bokeh.embed.embed_items_notebook(docs_json, render_items);\n",
       "  }\n",
       "  if (root.Bokeh !== undefined) {\n",
       "    embed_document(root);\n",
       "  } else {\n",
       "    let attempts = 0;\n",
       "    const timer = setInterval(function(root) {\n",
       "      if (root.Bokeh !== undefined) {\n",
       "        clearInterval(timer);\n",
       "        embed_document(root);\n",
       "      } else {\n",
       "        attempts++;\n",
       "        if (attempts > 100) {\n",
       "          clearInterval(timer);\n",
       "          console.log(\"Bokeh: ERROR: Unable to run BokehJS code because BokehJS library is missing\");\n",
       "        }\n",
       "      }\n",
       "    }, 10, root)\n",
       "  }\n",
       "})(window);"
      ],
      "application/vnd.bokehjs_exec.v0+json": ""
     },
     "metadata": {
      "application/vnd.bokehjs_exec.v0+json": {
       "id": "11720"
      }
     },
     "output_type": "display_data"
    }
   ],
   "source": [
    "source = ColumnDataSource(data=dict(\n",
    "    x=[1, 2, 3, 4, 5],\n",
    "    y=[2, 5, 8, 2, 7],\n",
    "    desc=['A', 'b', 'C', 'd', 'E'],\n",
    "    imgs=[\n",
    "        'https://bokeh.pydata.org/static/snake.jpg',\n",
    "        'https://bokeh.pydata.org/static/snake2.png',\n",
    "        'https://bokeh.pydata.org/static/snake3D.png',\n",
    "        'https://bokeh.pydata.org/static/snake4_TheRevenge.png',\n",
    "        'https://bokeh.pydata.org/static/snakebite.jpg'\n",
    "    ],\n",
    "    fonts=[\n",
    "        '<i>italics</i>',\n",
    "        '<pre>pre</pre>',\n",
    "        '<b>bold</b>',\n",
    "        '<small>small</small>',\n",
    "        '<del>del</del>'\n",
    "    ]\n",
    "))\n",
    "\n",
    "TOOLTIPS = \"\"\"\n",
    "    <div>\n",
    "        <div>\n",
    "            <img\n",
    "                src=\"@imgs\" height=\"42\" alt=\"@imgs\" width=\"42\"\n",
    "                style=\"float: left; margin: 0px 15px 15px 0px;\"\n",
    "                border=\"2\"\n",
    "            ></img>\n",
    "        </div>\n",
    "        <div>\n",
    "            <span style=\"font-size: 17px; font-weight: bold;\">@desc</span>\n",
    "            <span style=\"font-size: 15px; color: #966;\">[$index]</span>\n",
    "        </div>\n",
    "        <div>\n",
    "            <span>@fonts{safe}</span>\n",
    "        </div>\n",
    "        <div>\n",
    "            <span style=\"font-size: 15px;\">Location</span>\n",
    "            <span style=\"font-size: 10px; color: #696;\">($x, $y)</span>\n",
    "        </div>\n",
    "    </div>\n",
    "\"\"\"\n",
    "\n",
    "p = figure(plot_width=400, plot_height=400, tooltips=TOOLTIPS,\n",
    "           title=\"Mouse over the dots\")\n",
    "\n",
    "p.circle('x', 'y', size=20, source=source)\n",
    "\n",
    "show(p)"
   ]
  },
  {
   "cell_type": "markdown",
   "metadata": {},
   "source": [
    "## Gridplots and linked charts\n",
    "In this notebook i will figure out some layout options for `bokeh` charts. The `gridplot()` function can be used to arrange Bokeh Plots in grid layout. Linking together various aspects of different plots can be a useful technique for data visualization. In Bokeh, such linkages are typically accomplished by sharing some plot component between plots."
   ]
  },
  {
   "cell_type": "markdown",
   "metadata": {},
   "source": [
    "### Gridplots\n",
    "gridplot() allows to create a N x M layout for visualise several plots in an ordered way. It also collects all tools into a single toolbar, and the currently active tool is the same for all plots in the grid. **It is possible to leave “empty” spaces in the grid by passing None instead of a plot object.**"
   ]
  },
  {
   "cell_type": "code",
   "execution_count": 48,
   "metadata": {},
   "outputs": [],
   "source": [
    "from bokeh.layouts import gridplot\n",
    "from bokeh.palettes import Viridis3\n",
    "from bokeh.plotting import figure\n",
    "import numpy as np"
   ]
  },
  {
   "cell_type": "code",
   "execution_count": 49,
   "metadata": {},
   "outputs": [
    {
     "data": {
      "text/html": [
       "\n",
       "  <div class=\"bk-root\" id=\"b0b42d41-64ae-4172-99fb-68404862b2d2\" data-root-id=\"12361\"></div>\n"
      ]
     },
     "metadata": {},
     "output_type": "display_data"
    },
    {
     "data": {
      "application/javascript": [
       "(function(root) {\n",
       "  function embed_document(root) {\n",
       "  const docs_json = {\"f6d73a97-2386-470e-95a4-c34d55978b57\":{\"defs\":[],\"roots\":{\"references\":[{\"attributes\":{\"children\":[{\"id\":\"12360\"},{\"id\":\"12358\"}]},\"id\":\"12361\",\"type\":\"Column\"},{\"attributes\":{},\"id\":\"12234\",\"type\":\"HelpTool\"},{\"attributes\":{},\"id\":\"12230\",\"type\":\"WheelZoomTool\"},{\"attributes\":{},\"id\":\"12229\",\"type\":\"PanTool\"},{\"attributes\":{\"overlay\":{\"id\":\"12235\"}},\"id\":\"12231\",\"type\":\"BoxZoomTool\"},{\"attributes\":{\"source\":{\"id\":\"12281\"}},\"id\":\"12286\",\"type\":\"CDSView\"},{\"attributes\":{},\"id\":\"12232\",\"type\":\"SaveTool\"},{\"attributes\":{\"coordinates\":null,\"data_source\":{\"id\":\"12281\"},\"glyph\":{\"id\":\"12282\"},\"group\":null,\"hover_glyph\":null,\"muted_glyph\":{\"id\":\"12284\"},\"nonselection_glyph\":{\"id\":\"12283\"},\"view\":{\"id\":\"12286\"}},\"id\":\"12285\",\"type\":\"GlyphRenderer\"},{\"attributes\":{},\"id\":\"12233\",\"type\":\"ResetTool\"},{\"attributes\":{},\"id\":\"12289\",\"type\":\"DataRange1d\"},{\"attributes\":{},\"id\":\"12338\",\"type\":\"BasicTickFormatter\"},{\"attributes\":{\"fill_color\":{\"value\":\"#FDE724\"},\"hatch_color\":{\"value\":\"#FDE724\"},\"line_color\":{\"value\":\"#FDE724\"},\"size\":{\"value\":3},\"x\":{\"field\":\"x\"},\"y\":{\"field\":\"y\"}},\"id\":\"12320\",\"type\":\"Circle\"},{\"attributes\":{\"source\":{\"id\":\"12319\"}},\"id\":\"12324\",\"type\":\"CDSView\"},{\"attributes\":{},\"id\":\"12339\",\"type\":\"AllLabels\"},{\"attributes\":{\"data\":{\"x\":{\"__ndarray__\":\"AAAAAAAAAACRGkt8Vz/AP5EaS3xXP9A/2qdwOgNf2D+RGkt8Vz/gPzXhXVstT+Q/2qdwOgNf6D9+boMZ2W7sP5EaS3xXP/A/433Ua0JH8j814V1bLU/0P4dE50oYV/Y/2qdwOgNf+D8sC/op7mb6P35ugxnZbvw/0NEMCcR2/j+RGkt8Vz8AQDrMD/RMQwFA433Ua0JHAkCML5njN0sDQDXhXVstTwRA3pIi0yJTBUCHROdKGFcGQDD2q8INWwdA2qdwOgNfCECDWTWy+GIJQCwL+inuZgpA1by+oeNqC0B+boMZ2W4MQCcgSJHOcg1A0NEMCcR2DkB5g9GAuXoPQJEaS3xXPxBAZnMtOFLBEEA6zA/0TEMRQA8l8q9HxRFA433Ua0JHEkC41rYnPckSQIwvmeM3SxNAYYh7nzLNE0A14V1bLU8UQAo6QBco0RRA3pIi0yJTFUCz6wSPHdUVQIdE50oYVxZAXJ3JBhPZFkAw9qvCDVsXQAVPjn4I3RdA2qdwOgNfGECuAFP2/eAYQINZNbL4YhlAV7IXbvPkGUAsC/op7mYaQABk3OXo6BpA1by+oeNqG0CpFaFd3uwbQH5ugxnZbhxAUsdl1dPwHEAnIEiRznIdQPt4Kk3J9B1A0NEMCcR2HkCkKu/EvvgeQHmD0YC5eh9ATdyzPLT8H0CRGkt8Vz8gQPtGPNpUgCBAZnMtOFLBIEDQnx6WTwIhQDrMD/RMQyFApPgAUkqEIUAPJfKvR8UhQHlR4w1FBiJA433Ua0JHIkBNqsXJP4giQLjWtic9ySJAIgOohToKI0CML5njN0sjQPZbikE1jCNAYYh7nzLNI0DLtGz9Lw4kQDXhXVstTyRAoA1PuSqQJEAKOkAXKNEkQHRmMXUlEiVA3pIi0yJTJUBJvxMxIJQlQLPrBI8d1SVAHRj27BoWJkCHROdKGFcmQPJw2KgVmCZAXJ3JBhPZJkDGybpkEBonQDD2q8INWydAmyKdIAucJ0AFT45+CN0nQG97f9wFHihA2qdwOgNfKEBE1GGYAKAoQK4AU/b94ChAGC1EVPshKUA=\",\"dtype\":\"float64\",\"order\":\"little\",\"shape\":[100]},\"y\":{\"__ndarray__\":\"AAAAAAAA8D+yzYPRkeXxP7ihgYdrgfM/rb0yquzM9D/245G2v8L1P87bFRfwXvY/2iiqbvqe9j/kKcny1oH2P2p9E6r9B/Y/t9rofWQz9T/V4vYmdwf0P338ARYJifI/RdfykkG+8D9ETRXIBF3tPyugTMuSxOg/JsOhHxvG4z8XRefmX+zcP4TfmO5l1dE/2IAW3tnTuT9YVAYbRxi0v26sY4ZobNC/kDyhvhiP278fJw0IIiDjv8rnndrvKei/4klI9jTQ7L9i6ms85X/wvyB3ITG5U/K/nEtETQ/c879kyJx6lxL1v3a2nZlS8vW/jCxGFqd39r9Ikzy8b6D2v7IbDo0EbPa/VCYsdD3b9b+XNIXNbvD0vyX2CM1fr/O/Ewqe7jod8r/hQKSueEDwv7KoVMWJQey/OkhCQL6N57//x2pm7XjivwmD/egKMNq/WFreULgEzr/Qjtyf0basv8DQmYTCjb8/YDFTHT090z9zKk7fyUfePwQ64frNauQ/Br4PG51d6T/UmpIn8OftPyz+X62J+/A/JAqwLSe98j/wrAGOlDH0P+CqQLrTUvU/YiQQQD0c9j8rs4V6k4r2Pw41lOsPnPY/TXYpjGpQ9j9uO9/02qj1P8SNeVoTqPQ/wTrZcjVS8z/dcSFwwazxPxnyVbD+fO8/vXE0K8Ye6z+6a09r11DmP/7dFbP8JuE/QJmw0PVs1z8YNwvg51bIP4A3qsMi+oY/tJyl3I19xb9gjLYfHAnWv+4O12hWfOC/dgkSnTaw5b/Eiyd/wIrqv1M5qN/19+6/bg/Nc81y8b9c/veZwCHzv4mZSz7lgfS/nqNH2pCN9b9BMd7bdED2vxjtFmOwl/a/lMBYHdyR9r+wHoMNEC/2vww2BinjcPW/M3KRy2Ra9L+mR1EcEPDyv8K/p5i5N/G/fKrPIO5w7r87P/7sBPXpv0iCivwvDuW/bUUVRECh3788RM3h1qPUv0S1wErRosK/wBtiTTs7oT9AtNpTsC7LP5z1ygVNz9g/audXAYjQ4T/buikNCPDmP2xZBmcMses//P//////7z8=\",\"dtype\":\"float64\",\"order\":\"little\",\"shape\":[100]}},\"selected\":{\"id\":\"12355\"},\"selection_policy\":{\"id\":\"12354\"}},\"id\":\"12319\",\"type\":\"ColumnDataSource\"},{\"attributes\":{},\"id\":\"12291\",\"type\":\"DataRange1d\"},{\"attributes\":{},\"id\":\"12293\",\"type\":\"LinearScale\"},{\"attributes\":{\"coordinates\":null,\"formatter\":{\"id\":\"12349\"},\"group\":null,\"major_label_policy\":{\"id\":\"12350\"},\"ticker\":{\"id\":\"12302\"}},\"id\":\"12301\",\"type\":\"LinearAxis\"},{\"attributes\":{},\"id\":\"12341\",\"type\":\"BasicTickFormatter\"},{\"attributes\":{},\"id\":\"12310\",\"type\":\"HelpTool\"},{\"attributes\":{},\"id\":\"12295\",\"type\":\"LinearScale\"},{\"attributes\":{\"coordinates\":null,\"formatter\":{\"id\":\"12352\"},\"group\":null,\"major_label_policy\":{\"id\":\"12353\"},\"ticker\":{\"id\":\"12298\"}},\"id\":\"12297\",\"type\":\"LinearAxis\"},{\"attributes\":{},\"id\":\"12342\",\"type\":\"AllLabels\"},{\"attributes\":{},\"id\":\"12298\",\"type\":\"BasicTicker\"},{\"attributes\":{\"axis\":{\"id\":\"12297\"},\"coordinates\":null,\"group\":null,\"ticker\":null},\"id\":\"12300\",\"type\":\"Grid\"},{\"attributes\":{\"axis\":{\"id\":\"12301\"},\"coordinates\":null,\"dimension\":1,\"group\":null,\"ticker\":null},\"id\":\"12304\",\"type\":\"Grid\"},{\"attributes\":{},\"id\":\"12302\",\"type\":\"BasicTicker\"},{\"attributes\":{\"tools\":[{\"id\":\"12305\"},{\"id\":\"12306\"},{\"id\":\"12307\"},{\"id\":\"12308\"},{\"id\":\"12309\"},{\"id\":\"12310\"}]},\"id\":\"12312\",\"type\":\"Toolbar\"},{\"attributes\":{},\"id\":\"12306\",\"type\":\"WheelZoomTool\"},{\"attributes\":{},\"id\":\"12305\",\"type\":\"PanTool\"},{\"attributes\":{},\"id\":\"12343\",\"type\":\"UnionRenderers\"},{\"attributes\":{\"overlay\":{\"id\":\"12311\"}},\"id\":\"12307\",\"type\":\"BoxZoomTool\"},{\"attributes\":{},\"id\":\"12308\",\"type\":\"SaveTool\"},{\"attributes\":{},\"id\":\"12309\",\"type\":\"ResetTool\"},{\"attributes\":{},\"id\":\"12344\",\"type\":\"Selection\"},{\"attributes\":{},\"id\":\"12253\",\"type\":\"DataRange1d\"},{\"attributes\":{\"coordinates\":null,\"formatter\":{\"id\":\"12341\"},\"group\":null,\"major_label_policy\":{\"id\":\"12342\"},\"ticker\":{\"id\":\"12260\"}},\"id\":\"12259\",\"type\":\"LinearAxis\"},{\"attributes\":{},\"id\":\"12251\",\"type\":\"DataRange1d\"},{\"attributes\":{},\"id\":\"12260\",\"type\":\"BasicTicker\"},{\"attributes\":{},\"id\":\"12327\",\"type\":\"BasicTickFormatter\"},{\"attributes\":{\"axis\":{\"id\":\"12259\"},\"coordinates\":null,\"group\":null,\"ticker\":null},\"id\":\"12262\",\"type\":\"Grid\"},{\"attributes\":{\"coordinates\":null,\"formatter\":{\"id\":\"12338\"},\"group\":null,\"major_label_policy\":{\"id\":\"12339\"},\"ticker\":{\"id\":\"12264\"}},\"id\":\"12263\",\"type\":\"LinearAxis\"},{\"attributes\":{},\"id\":\"12328\",\"type\":\"AllLabels\"},{\"attributes\":{\"below\":[{\"id\":\"12297\"}],\"center\":[{\"id\":\"12300\"},{\"id\":\"12304\"}],\"height\":250,\"left\":[{\"id\":\"12301\"}],\"renderers\":[{\"id\":\"12323\"}],\"title\":null,\"toolbar\":{\"id\":\"12312\"},\"toolbar_location\":null,\"width\":250,\"x_range\":{\"id\":\"12289\"},\"x_scale\":{\"id\":\"12293\"},\"y_range\":{\"id\":\"12291\"},\"y_scale\":{\"id\":\"12295\"}},\"id\":\"12287\",\"subtype\":\"Figure\",\"type\":\"Plot\"},{\"attributes\":{\"bottom_units\":\"screen\",\"coordinates\":null,\"fill_alpha\":0.5,\"fill_color\":\"lightgrey\",\"group\":null,\"left_units\":\"screen\",\"level\":\"overlay\",\"line_alpha\":1.0,\"line_color\":\"black\",\"line_dash\":[4,4],\"line_width\":2,\"right_units\":\"screen\",\"syncable\":false,\"top_units\":\"screen\"},\"id\":\"12235\",\"type\":\"BoxAnnotation\"},{\"attributes\":{},\"id\":\"12255\",\"type\":\"LinearScale\"},{\"attributes\":{\"fill_alpha\":{\"value\":0.2},\"fill_color\":{\"value\":\"#FDE724\"},\"hatch_alpha\":{\"value\":0.2},\"hatch_color\":{\"value\":\"#FDE724\"},\"line_alpha\":{\"value\":0.2},\"line_color\":{\"value\":\"#FDE724\"},\"size\":{\"value\":3},\"x\":{\"field\":\"x\"},\"y\":{\"field\":\"y\"}},\"id\":\"12322\",\"type\":\"Circle\"},{\"attributes\":{\"coordinates\":null,\"data_source\":{\"id\":\"12319\"},\"glyph\":{\"id\":\"12320\"},\"group\":null,\"hover_glyph\":null,\"muted_glyph\":{\"id\":\"12322\"},\"nonselection_glyph\":{\"id\":\"12321\"},\"view\":{\"id\":\"12324\"}},\"id\":\"12323\",\"type\":\"GlyphRenderer\"},{\"attributes\":{\"data\":{\"x\":{\"__ndarray__\":\"AAAAAAAAAACRGkt8Vz/AP5EaS3xXP9A/2qdwOgNf2D+RGkt8Vz/gPzXhXVstT+Q/2qdwOgNf6D9+boMZ2W7sP5EaS3xXP/A/433Ua0JH8j814V1bLU/0P4dE50oYV/Y/2qdwOgNf+D8sC/op7mb6P35ugxnZbvw/0NEMCcR2/j+RGkt8Vz8AQDrMD/RMQwFA433Ua0JHAkCML5njN0sDQDXhXVstTwRA3pIi0yJTBUCHROdKGFcGQDD2q8INWwdA2qdwOgNfCECDWTWy+GIJQCwL+inuZgpA1by+oeNqC0B+boMZ2W4MQCcgSJHOcg1A0NEMCcR2DkB5g9GAuXoPQJEaS3xXPxBAZnMtOFLBEEA6zA/0TEMRQA8l8q9HxRFA433Ua0JHEkC41rYnPckSQIwvmeM3SxNAYYh7nzLNE0A14V1bLU8UQAo6QBco0RRA3pIi0yJTFUCz6wSPHdUVQIdE50oYVxZAXJ3JBhPZFkAw9qvCDVsXQAVPjn4I3RdA2qdwOgNfGECuAFP2/eAYQINZNbL4YhlAV7IXbvPkGUAsC/op7mYaQABk3OXo6BpA1by+oeNqG0CpFaFd3uwbQH5ugxnZbhxAUsdl1dPwHEAnIEiRznIdQPt4Kk3J9B1A0NEMCcR2HkCkKu/EvvgeQHmD0YC5eh9ATdyzPLT8H0CRGkt8Vz8gQPtGPNpUgCBAZnMtOFLBIEDQnx6WTwIhQDrMD/RMQyFApPgAUkqEIUAPJfKvR8UhQHlR4w1FBiJA433Ua0JHIkBNqsXJP4giQLjWtic9ySJAIgOohToKI0CML5njN0sjQPZbikE1jCNAYYh7nzLNI0DLtGz9Lw4kQDXhXVstTyRAoA1PuSqQJEAKOkAXKNEkQHRmMXUlEiVA3pIi0yJTJUBJvxMxIJQlQLPrBI8d1SVAHRj27BoWJkCHROdKGFcmQPJw2KgVmCZAXJ3JBhPZJkDGybpkEBonQDD2q8INWydAmyKdIAucJ0AFT45+CN0nQG97f9wFHihA2qdwOgNfKEBE1GGYAKAoQK4AU/b94ChAGC1EVPshKUA=\",\"dtype\":\"float64\",\"order\":\"little\",\"shape\":[100]},\"y\":{\"__ndarray__\":\"AAAAAAAA8D9o+gYFGL7vPyN/Fo5v+e4/XLHeqjC17T9foQT4kvbrP1YykSHGxOk/tTkVSdQo5z9AE3HJfC3kP1wsoPEH3+A/thLH2SiW2j9bQ2NRvgDTP4xzC34aOsY/cyCwKKhcqD8MyeikuUm0v0/eq9oaN8q/PSGBd67u1L+LyZhelmvcv8/m3JG2ueG/hlh3f5705L9dUsfUNNnnv10cd/2OW+q/wfLvCVdx7L8bLVJC9hHuv0PyRoe4Nu+/XjTx7ufa778HB0As4PvvvwQ9tXAZme+/V1DNmyq07r/ZTwivwlDtv4lZi6GZdOu/JeDa0Vgn6b/aPrV2e3Lmv8y0DJEnYeO/+f//////3783i/Tn4LnYv4yAwi7oDdG/3kQPZF83wr9U+ijPKj+QvxHsuGvkX7w/k1rgSlktzj+GU4hOOdfWP1m1P3WwOd4/AasNgtOP4j+XUJVeWbblPzdQz6Jvg+g/uvBkh4zr6j99NRQyxuTsP/FJcov7Zu4/Juk3u/Vr7z+VSynBge/vP5RLKcGB7+8/Jek3u/Vr7z/vSXKL+2buP381FDLG5Ow/uPBkh4zr6j86UM+ib4PoP5RQlV5ZtuU/BasNgtOP4j9TtT91sDneP45TiE4519Y/hVrgSlktzj807Lhr5F+8P8f6KM8qP5C/zUQPZF83wr+TgMIu6A3Rvy+L9Ofgudi/BwAAAAAA4L/PtAyRJ2Hjv9k+tXZ7cua/I+Da0Vgn6b+NWYuhmXTrv9pPCK/CUO2/V1DNmyq07r8DPbVwGZnvvwgHQCzg+++/XjTx7ufa779E8kaHuDbvvx4tUkL2Ee6/wPLvCVdx7L9dHHf9jlvqv2BSx9Q02ee/gVh3f5705L/M5tyRtrnhv4zJmF6Wa9y/RSGBd67u1L8x3qvaGjfKv/DI6KS5SbS/bSCwKKhcqD9zcwt+GjrGP2ZDY1G+ANM/uRLH2SiW2j9aLKDxB9/gPzsTccl8LeQ/uDkVSdQo5z9WMpEhxsTpP12hBPiS9us/X7HeqjC17T8kfxaOb/nuP2j6BgUYvu8/AAAAAAAA8D8=\",\"dtype\":\"float64\",\"order\":\"little\",\"shape\":[100]}},\"selected\":{\"id\":\"12344\"},\"selection_policy\":{\"id\":\"12343\"}},\"id\":\"12281\",\"type\":\"ColumnDataSource\"},{\"attributes\":{\"toolbar\":{\"id\":\"12359\"},\"toolbar_location\":\"above\"},\"id\":\"12360\",\"type\":\"ToolbarBox\"},{\"attributes\":{\"fill_color\":{\"value\":\"#440154\"},\"hatch_color\":{\"value\":\"#440154\"},\"line_color\":{\"value\":\"#440154\"},\"size\":{\"value\":3},\"x\":{\"field\":\"x\"},\"y\":{\"field\":\"y\"}},\"id\":\"12244\",\"type\":\"Circle\"},{\"attributes\":{\"fill_alpha\":{\"value\":0.1},\"fill_color\":{\"value\":\"#FDE724\"},\"hatch_alpha\":{\"value\":0.1},\"hatch_color\":{\"value\":\"#FDE724\"},\"line_alpha\":{\"value\":0.1},\"line_color\":{\"value\":\"#FDE724\"},\"size\":{\"value\":3},\"x\":{\"field\":\"x\"},\"y\":{\"field\":\"y\"}},\"id\":\"12321\",\"type\":\"Circle\"},{\"attributes\":{\"tools\":[{\"id\":\"12229\"},{\"id\":\"12230\"},{\"id\":\"12231\"},{\"id\":\"12232\"},{\"id\":\"12233\"},{\"id\":\"12234\"}]},\"id\":\"12236\",\"type\":\"Toolbar\"},{\"attributes\":{},\"id\":\"12257\",\"type\":\"LinearScale\"},{\"attributes\":{\"axis\":{\"id\":\"12221\"},\"coordinates\":null,\"group\":null,\"ticker\":null},\"id\":\"12224\",\"type\":\"Grid\"},{\"attributes\":{},\"id\":\"12222\",\"type\":\"BasicTicker\"},{\"attributes\":{\"coordinates\":null,\"formatter\":{\"id\":\"12330\"},\"group\":null,\"major_label_policy\":{\"id\":\"12331\"},\"ticker\":{\"id\":\"12222\"}},\"id\":\"12221\",\"type\":\"LinearAxis\"},{\"attributes\":{},\"id\":\"12219\",\"type\":\"LinearScale\"},{\"attributes\":{\"coordinates\":null,\"formatter\":{\"id\":\"12327\"},\"group\":null,\"major_label_policy\":{\"id\":\"12328\"},\"ticker\":{\"id\":\"12226\"}},\"id\":\"12225\",\"type\":\"LinearAxis\"},{\"attributes\":{},\"id\":\"12217\",\"type\":\"LinearScale\"},{\"attributes\":{\"data\":{\"x\":{\"__ndarray__\":\"AAAAAAAAAACRGkt8Vz/AP5EaS3xXP9A/2qdwOgNf2D+RGkt8Vz/gPzXhXVstT+Q/2qdwOgNf6D9+boMZ2W7sP5EaS3xXP/A/433Ua0JH8j814V1bLU/0P4dE50oYV/Y/2qdwOgNf+D8sC/op7mb6P35ugxnZbvw/0NEMCcR2/j+RGkt8Vz8AQDrMD/RMQwFA433Ua0JHAkCML5njN0sDQDXhXVstTwRA3pIi0yJTBUCHROdKGFcGQDD2q8INWwdA2qdwOgNfCECDWTWy+GIJQCwL+inuZgpA1by+oeNqC0B+boMZ2W4MQCcgSJHOcg1A0NEMCcR2DkB5g9GAuXoPQJEaS3xXPxBAZnMtOFLBEEA6zA/0TEMRQA8l8q9HxRFA433Ua0JHEkC41rYnPckSQIwvmeM3SxNAYYh7nzLNE0A14V1bLU8UQAo6QBco0RRA3pIi0yJTFUCz6wSPHdUVQIdE50oYVxZAXJ3JBhPZFkAw9qvCDVsXQAVPjn4I3RdA2qdwOgNfGECuAFP2/eAYQINZNbL4YhlAV7IXbvPkGUAsC/op7mYaQABk3OXo6BpA1by+oeNqG0CpFaFd3uwbQH5ugxnZbhxAUsdl1dPwHEAnIEiRznIdQPt4Kk3J9B1A0NEMCcR2HkCkKu/EvvgeQHmD0YC5eh9ATdyzPLT8H0CRGkt8Vz8gQPtGPNpUgCBAZnMtOFLBIEDQnx6WTwIhQDrMD/RMQyFApPgAUkqEIUAPJfKvR8UhQHlR4w1FBiJA433Ua0JHIkBNqsXJP4giQLjWtic9ySJAIgOohToKI0CML5njN0sjQPZbikE1jCNAYYh7nzLNI0DLtGz9Lw4kQDXhXVstTyRAoA1PuSqQJEAKOkAXKNEkQHRmMXUlEiVA3pIi0yJTJUBJvxMxIJQlQLPrBI8d1SVAHRj27BoWJkCHROdKGFcmQPJw2KgVmCZAXJ3JBhPZJkDGybpkEBonQDD2q8INWydAmyKdIAucJ0AFT45+CN0nQG97f9wFHihA2qdwOgNfKEBE1GGYAKAoQK4AU/b94ChAGC1EVPshKUA=\",\"dtype\":\"float64\",\"order\":\"little\",\"shape\":[100]},\"y\":{\"__ndarray__\":\"AAAAAAAAAADwgwJ4LjTAP5qI2QHPEtA/+5MNU1HJ1z8ZTT7q2B3fP0aFmgwa+eI/ABg/lCAV5j+IQCEcMdboP3fOhmLzMOs/EyzujrQb7T/9Izwlj47uPxccgYyLg+8/g6xao7j27z9mZrL8O+bvP7+X94FZUu8/xVNiW3I97j9RB8Ai+6vsP5FWKYlppOo/oSg6uxkv6D/Sh2bxK1blPyZGRbpaJeI/8qg+VZVT3T/4C4p0qOPVP+UppLIiM8w/3FNHxZdVuD/J23zJpD6gv+3ENsZjOcS/wo12/ecH0r/dgWKM2KjZv2MTsJELcOC/83ixWvXH47+358MBZM7mv5eCD4nhdum/rExY6Hq267+TIxAn7YPtvwSssILL1+6/70I4BJ6s77/vOc8G+P7vvzTGy1KGze+/3176khQZ77/C8a4NiuTtvzGcHq/dNOy/l0FFlgER6r+EGZN4xoHnvx8WPFK3keS/Cli7+O1M4b+HQNqEwoHbv9kfIiFb+NO/gKyggGI5yL8EhrXMjDywvyGGtcyMPLA/jqyggGI5yD/gHyIhW/jTP4BA2oTCgds/DVi7+O1M4T8cFjxSt5HkP4cZk3jGgec/lUFFlgER6j8ynB6v3TTsP8Hxrg2K5O0/4F76khQZ7z80xstShs3vP+85zwb4/u8/8EI4BJ6s7z8DrLCCy9fuP5UjECftg+0/p0xY6Hq26z+Vgg+J4XbpP7fnwwFkzuY/9nixWvXH4z9dE7CRC3DgP9eBYozYqNk/w412/ecH0j/+xDbGYznEP0/bfMmkPqA/+FNHxZdVuL/UKaSyIjPMv+gLinSo49W/+Kg+VZVT3b8lRkW6WiXiv8+HZvErVuW/pig6uxkv6L+TVimJaaTqv1EHwCL7q+y/xFNiW3I97r/Al/eBWVLvv2Zmsvw75u+/g6xao7j2778YHIGMi4Pvv/sjPCWPju6/EyzujrQb7b94zoZi8zDrv4xAIRwx1ui//Bc/lCAV5r9GhZoMGvnivx5NPurYHd+/65MNU1HJ17+SiNkBzxLQv/GDAnguNMC/B1wUMyamwbw=\",\"dtype\":\"float64\",\"order\":\"little\",\"shape\":[100]}},\"selected\":{\"id\":\"12333\"},\"selection_policy\":{\"id\":\"12332\"}},\"id\":\"12243\",\"type\":\"ColumnDataSource\"},{\"attributes\":{},\"id\":\"12331\",\"type\":\"AllLabels\"},{\"attributes\":{},\"id\":\"12213\",\"type\":\"DataRange1d\"},{\"attributes\":{\"below\":[{\"id\":\"12221\"}],\"center\":[{\"id\":\"12224\"},{\"id\":\"12228\"}],\"height\":250,\"left\":[{\"id\":\"12225\"}],\"renderers\":[{\"id\":\"12247\"}],\"title\":null,\"toolbar\":{\"id\":\"12236\"},\"toolbar_location\":null,\"width\":250,\"x_range\":{\"id\":\"12213\"},\"x_scale\":{\"id\":\"12217\"},\"y_range\":{\"id\":\"12215\"},\"y_scale\":{\"id\":\"12219\"}},\"id\":\"12211\",\"subtype\":\"Figure\",\"type\":\"Plot\"},{\"attributes\":{\"fill_alpha\":{\"value\":0.1},\"fill_color\":{\"value\":\"#440154\"},\"hatch_alpha\":{\"value\":0.1},\"hatch_color\":{\"value\":\"#440154\"},\"line_alpha\":{\"value\":0.1},\"line_color\":{\"value\":\"#440154\"},\"size\":{\"value\":3},\"x\":{\"field\":\"x\"},\"y\":{\"field\":\"y\"}},\"id\":\"12245\",\"type\":\"Circle\"},{\"attributes\":{},\"id\":\"12215\",\"type\":\"DataRange1d\"},{\"attributes\":{\"below\":[{\"id\":\"12259\"}],\"center\":[{\"id\":\"12262\"},{\"id\":\"12266\"}],\"height\":250,\"left\":[{\"id\":\"12263\"}],\"renderers\":[{\"id\":\"12285\"}],\"title\":null,\"toolbar\":{\"id\":\"12274\"},\"toolbar_location\":null,\"width\":250,\"x_range\":{\"id\":\"12251\"},\"x_scale\":{\"id\":\"12255\"},\"y_range\":{\"id\":\"12253\"},\"y_scale\":{\"id\":\"12257\"}},\"id\":\"12249\",\"subtype\":\"Figure\",\"type\":\"Plot\"},{\"attributes\":{\"fill_color\":{\"value\":\"#208F8C\"},\"hatch_color\":{\"value\":\"#208F8C\"},\"line_color\":{\"value\":\"#208F8C\"},\"size\":{\"value\":3},\"x\":{\"field\":\"x\"},\"y\":{\"field\":\"y\"}},\"id\":\"12282\",\"type\":\"Circle\"},{\"attributes\":{\"children\":[[{\"id\":\"12211\"},0,0],[{\"id\":\"12249\"},0,1],[{\"id\":\"12287\"},1,1]]},\"id\":\"12358\",\"type\":\"GridBox\"},{\"attributes\":{},\"id\":\"12264\",\"type\":\"BasicTicker\"},{\"attributes\":{},\"id\":\"12349\",\"type\":\"BasicTickFormatter\"},{\"attributes\":{},\"id\":\"12332\",\"type\":\"UnionRenderers\"},{\"attributes\":{\"fill_alpha\":{\"value\":0.2},\"fill_color\":{\"value\":\"#208F8C\"},\"hatch_alpha\":{\"value\":0.2},\"hatch_color\":{\"value\":\"#208F8C\"},\"line_alpha\":{\"value\":0.2},\"line_color\":{\"value\":\"#208F8C\"},\"size\":{\"value\":3},\"x\":{\"field\":\"x\"},\"y\":{\"field\":\"y\"}},\"id\":\"12284\",\"type\":\"Circle\"},{\"attributes\":{},\"id\":\"12350\",\"type\":\"AllLabels\"},{\"attributes\":{},\"id\":\"12333\",\"type\":\"Selection\"},{\"attributes\":{\"overlay\":{\"id\":\"12273\"}},\"id\":\"12269\",\"type\":\"BoxZoomTool\"},{\"attributes\":{},\"id\":\"12352\",\"type\":\"BasicTickFormatter\"},{\"attributes\":{\"bottom_units\":\"screen\",\"coordinates\":null,\"fill_alpha\":0.5,\"fill_color\":\"lightgrey\",\"group\":null,\"left_units\":\"screen\",\"level\":\"overlay\",\"line_alpha\":1.0,\"line_color\":\"black\",\"line_dash\":[4,4],\"line_width\":2,\"right_units\":\"screen\",\"syncable\":false,\"top_units\":\"screen\"},\"id\":\"12273\",\"type\":\"BoxAnnotation\"},{\"attributes\":{},\"id\":\"12353\",\"type\":\"AllLabels\"},{\"attributes\":{},\"id\":\"12271\",\"type\":\"ResetTool\"},{\"attributes\":{\"toolbars\":[{\"id\":\"12236\"},{\"id\":\"12274\"},{\"id\":\"12312\"}],\"tools\":[{\"id\":\"12229\"},{\"id\":\"12230\"},{\"id\":\"12231\"},{\"id\":\"12232\"},{\"id\":\"12233\"},{\"id\":\"12234\"},{\"id\":\"12267\"},{\"id\":\"12268\"},{\"id\":\"12269\"},{\"id\":\"12270\"},{\"id\":\"12271\"},{\"id\":\"12272\"},{\"id\":\"12305\"},{\"id\":\"12306\"},{\"id\":\"12307\"},{\"id\":\"12308\"},{\"id\":\"12309\"},{\"id\":\"12310\"}]},\"id\":\"12359\",\"type\":\"ProxyToolbar\"},{\"attributes\":{},\"id\":\"12270\",\"type\":\"SaveTool\"},{\"attributes\":{},\"id\":\"12354\",\"type\":\"UnionRenderers\"},{\"attributes\":{\"fill_alpha\":{\"value\":0.1},\"fill_color\":{\"value\":\"#208F8C\"},\"hatch_alpha\":{\"value\":0.1},\"hatch_color\":{\"value\":\"#208F8C\"},\"line_alpha\":{\"value\":0.1},\"line_color\":{\"value\":\"#208F8C\"},\"size\":{\"value\":3},\"x\":{\"field\":\"x\"},\"y\":{\"field\":\"y\"}},\"id\":\"12283\",\"type\":\"Circle\"},{\"attributes\":{},\"id\":\"12267\",\"type\":\"PanTool\"},{\"attributes\":{},\"id\":\"12355\",\"type\":\"Selection\"},{\"attributes\":{\"source\":{\"id\":\"12243\"}},\"id\":\"12248\",\"type\":\"CDSView\"},{\"attributes\":{},\"id\":\"12268\",\"type\":\"WheelZoomTool\"},{\"attributes\":{\"bottom_units\":\"screen\",\"coordinates\":null,\"fill_alpha\":0.5,\"fill_color\":\"lightgrey\",\"group\":null,\"left_units\":\"screen\",\"level\":\"overlay\",\"line_alpha\":1.0,\"line_color\":\"black\",\"line_dash\":[4,4],\"line_width\":2,\"right_units\":\"screen\",\"syncable\":false,\"top_units\":\"screen\"},\"id\":\"12311\",\"type\":\"BoxAnnotation\"},{\"attributes\":{\"fill_alpha\":{\"value\":0.2},\"fill_color\":{\"value\":\"#440154\"},\"hatch_alpha\":{\"value\":0.2},\"hatch_color\":{\"value\":\"#440154\"},\"line_alpha\":{\"value\":0.2},\"line_color\":{\"value\":\"#440154\"},\"size\":{\"value\":3},\"x\":{\"field\":\"x\"},\"y\":{\"field\":\"y\"}},\"id\":\"12246\",\"type\":\"Circle\"},{\"attributes\":{\"tools\":[{\"id\":\"12267\"},{\"id\":\"12268\"},{\"id\":\"12269\"},{\"id\":\"12270\"},{\"id\":\"12271\"},{\"id\":\"12272\"}]},\"id\":\"12274\",\"type\":\"Toolbar\"},{\"attributes\":{},\"id\":\"12330\",\"type\":\"BasicTickFormatter\"},{\"attributes\":{\"axis\":{\"id\":\"12263\"},\"coordinates\":null,\"dimension\":1,\"group\":null,\"ticker\":null},\"id\":\"12266\",\"type\":\"Grid\"},{\"attributes\":{},\"id\":\"12272\",\"type\":\"HelpTool\"},{\"attributes\":{\"coordinates\":null,\"data_source\":{\"id\":\"12243\"},\"glyph\":{\"id\":\"12244\"},\"group\":null,\"hover_glyph\":null,\"muted_glyph\":{\"id\":\"12246\"},\"nonselection_glyph\":{\"id\":\"12245\"},\"view\":{\"id\":\"12248\"}},\"id\":\"12247\",\"type\":\"GlyphRenderer\"},{\"attributes\":{\"axis\":{\"id\":\"12225\"},\"coordinates\":null,\"dimension\":1,\"group\":null,\"ticker\":null},\"id\":\"12228\",\"type\":\"Grid\"},{\"attributes\":{},\"id\":\"12226\",\"type\":\"BasicTicker\"}],\"root_ids\":[\"12361\"]},\"title\":\"Bokeh Application\",\"version\":\"2.4.3\"}};\n",
       "  const render_items = [{\"docid\":\"f6d73a97-2386-470e-95a4-c34d55978b57\",\"root_ids\":[\"12361\"],\"roots\":{\"12361\":\"b0b42d41-64ae-4172-99fb-68404862b2d2\"}}];\n",
       "  root.Bokeh.embed.embed_items_notebook(docs_json, render_items);\n",
       "  }\n",
       "  if (root.Bokeh !== undefined) {\n",
       "    embed_document(root);\n",
       "  } else {\n",
       "    let attempts = 0;\n",
       "    const timer = setInterval(function(root) {\n",
       "      if (root.Bokeh !== undefined) {\n",
       "        clearInterval(timer);\n",
       "        embed_document(root);\n",
       "      } else {\n",
       "        attempts++;\n",
       "        if (attempts > 100) {\n",
       "          clearInterval(timer);\n",
       "          console.log(\"Bokeh: ERROR: Unable to run BokehJS code because BokehJS library is missing\");\n",
       "        }\n",
       "      }\n",
       "    }, 10, root)\n",
       "  }\n",
       "})(window);"
      ],
      "application/vnd.bokehjs_exec.v0+json": ""
     },
     "metadata": {
      "application/vnd.bokehjs_exec.v0+json": {
       "id": "12361"
      }
     },
     "output_type": "display_data"
    }
   ],
   "source": [
    "N = 100\n",
    "x = np.linspace(0, 4*np.pi, N)\n",
    "y0 = np.sin(x)\n",
    "y1 = np.cos(x)\n",
    "y2 = np.sin(x) + np.cos(x)\n",
    "\n",
    "# create three plots\n",
    "p1 = figure(plot_width=250, plot_height=250, title=None)\n",
    "p1.circle(x, y0, size=3, color=Viridis3[0])\n",
    "\n",
    "p2 = figure(plot_width=250, plot_height=250, title=None)\n",
    "p2.circle(x, y1, size=3, color=Viridis3[1])\n",
    "\n",
    "p3 = figure(plot_width=250, plot_height=250, title=None)\n",
    "p3.circle(x, y2, size=3, color=Viridis3[2])\n",
    "\n",
    "# make a grid\n",
    "grid = gridplot([[p1, p2], [None, p3]])\n",
    "\n",
    "# show the results\n",
    "show(grid)"
   ]
  },
  {
   "cell_type": "markdown",
   "metadata": {},
   "source": [
    "For convenience you can also just pass a list of plots, and specify the number of columns you want in your grid. For example,\n",
    "\n",
    "`gridplot([[s1, s2], [s3, None]])`\n",
    "\n",
    "and\n",
    "\n",
    "`gridplot([s1, s2, s3], ncols=2)`\n",
    "\n",
    "Furthermore, you can specify the size of the plots in the gridplot istruction."
   ]
  },
  {
   "cell_type": "code",
   "execution_count": 50,
   "metadata": {},
   "outputs": [
    {
     "data": {
      "text/html": [
       "\n",
       "  <div class=\"bk-root\" id=\"fd097b48-fa79-40f9-8325-fa7f7ea889cf\" data-root-id=\"13092\"></div>\n"
      ]
     },
     "metadata": {},
     "output_type": "display_data"
    },
    {
     "data": {
      "application/javascript": [
       "(function(root) {\n",
       "  function embed_document(root) {\n",
       "  const docs_json = {\"0d423177-b934-4b3a-ae25-0c7c6791056c\":{\"defs\":[],\"roots\":{\"references\":[{\"attributes\":{\"children\":[{\"id\":\"13091\"},{\"id\":\"13089\"}]},\"id\":\"13092\",\"type\":\"Column\"},{\"attributes\":{\"toolbar\":{\"id\":\"13090\"},\"toolbar_location\":\"above\"},\"id\":\"13091\",\"type\":\"ToolbarBox\"},{\"attributes\":{},\"id\":\"13073\",\"type\":\"UnionRenderers\"},{\"attributes\":{},\"id\":\"13074\",\"type\":\"Selection\"},{\"attributes\":{\"coordinates\":null,\"group\":null},\"id\":\"13053\",\"type\":\"Title\"},{\"attributes\":{\"fill_alpha\":{\"value\":0.1},\"fill_color\":{\"value\":\"#208F8C\"},\"hatch_alpha\":{\"value\":0.1},\"hatch_color\":{\"value\":\"#208F8C\"},\"line_alpha\":{\"value\":0.1},\"line_color\":{\"value\":\"#208F8C\"},\"size\":{\"value\":3},\"x\":{\"field\":\"x\"},\"y\":{\"field\":\"y\"}},\"id\":\"13012\",\"type\":\"Circle\"},{\"attributes\":{\"source\":{\"id\":\"12973\"}},\"id\":\"12978\",\"type\":\"CDSView\"},{\"attributes\":{},\"id\":\"12980\",\"type\":\"DataRange1d\"},{\"attributes\":{},\"id\":\"13056\",\"type\":\"BasicTickFormatter\"},{\"attributes\":{\"fill_color\":{\"value\":\"#208F8C\"},\"hatch_color\":{\"value\":\"#208F8C\"},\"line_color\":{\"value\":\"#208F8C\"},\"size\":{\"value\":3},\"x\":{\"field\":\"x\"},\"y\":{\"field\":\"y\"}},\"id\":\"13011\",\"type\":\"Circle\"},{\"attributes\":{\"coordinates\":null,\"data_source\":{\"id\":\"12973\"},\"glyph\":{\"id\":\"12974\"},\"group\":null,\"hover_glyph\":null,\"muted_glyph\":{\"id\":\"12976\"},\"nonselection_glyph\":{\"id\":\"12975\"},\"view\":{\"id\":\"12978\"}},\"id\":\"12977\",\"type\":\"GlyphRenderer\"},{\"attributes\":{},\"id\":\"13061\",\"type\":\"UnionRenderers\"},{\"attributes\":{\"children\":[[{\"id\":\"12942\"},0,0],[{\"id\":\"12979\"},0,1],[{\"id\":\"13016\"},1,0]]},\"id\":\"13089\",\"type\":\"GridBox\"},{\"attributes\":{\"fill_alpha\":{\"value\":0.2},\"fill_color\":{\"value\":\"#440154\"},\"hatch_alpha\":{\"value\":0.2},\"hatch_color\":{\"value\":\"#440154\"},\"line_alpha\":{\"value\":0.2},\"line_color\":{\"value\":\"#440154\"},\"size\":{\"value\":3},\"x\":{\"field\":\"x\"},\"y\":{\"field\":\"y\"}},\"id\":\"12976\",\"type\":\"Circle\"},{\"attributes\":{},\"id\":\"13062\",\"type\":\"Selection\"},{\"attributes\":{\"coordinates\":null,\"group\":null},\"id\":\"13077\",\"type\":\"Title\"},{\"attributes\":{\"data\":{\"x\":{\"__ndarray__\":\"AAAAAAAAAACRGkt8Vz/AP5EaS3xXP9A/2qdwOgNf2D+RGkt8Vz/gPzXhXVstT+Q/2qdwOgNf6D9+boMZ2W7sP5EaS3xXP/A/433Ua0JH8j814V1bLU/0P4dE50oYV/Y/2qdwOgNf+D8sC/op7mb6P35ugxnZbvw/0NEMCcR2/j+RGkt8Vz8AQDrMD/RMQwFA433Ua0JHAkCML5njN0sDQDXhXVstTwRA3pIi0yJTBUCHROdKGFcGQDD2q8INWwdA2qdwOgNfCECDWTWy+GIJQCwL+inuZgpA1by+oeNqC0B+boMZ2W4MQCcgSJHOcg1A0NEMCcR2DkB5g9GAuXoPQJEaS3xXPxBAZnMtOFLBEEA6zA/0TEMRQA8l8q9HxRFA433Ua0JHEkC41rYnPckSQIwvmeM3SxNAYYh7nzLNE0A14V1bLU8UQAo6QBco0RRA3pIi0yJTFUCz6wSPHdUVQIdE50oYVxZAXJ3JBhPZFkAw9qvCDVsXQAVPjn4I3RdA2qdwOgNfGECuAFP2/eAYQINZNbL4YhlAV7IXbvPkGUAsC/op7mYaQABk3OXo6BpA1by+oeNqG0CpFaFd3uwbQH5ugxnZbhxAUsdl1dPwHEAnIEiRznIdQPt4Kk3J9B1A0NEMCcR2HkCkKu/EvvgeQHmD0YC5eh9ATdyzPLT8H0CRGkt8Vz8gQPtGPNpUgCBAZnMtOFLBIEDQnx6WTwIhQDrMD/RMQyFApPgAUkqEIUAPJfKvR8UhQHlR4w1FBiJA433Ua0JHIkBNqsXJP4giQLjWtic9ySJAIgOohToKI0CML5njN0sjQPZbikE1jCNAYYh7nzLNI0DLtGz9Lw4kQDXhXVstTyRAoA1PuSqQJEAKOkAXKNEkQHRmMXUlEiVA3pIi0yJTJUBJvxMxIJQlQLPrBI8d1SVAHRj27BoWJkCHROdKGFcmQPJw2KgVmCZAXJ3JBhPZJkDGybpkEBonQDD2q8INWydAmyKdIAucJ0AFT45+CN0nQG97f9wFHihA2qdwOgNfKEBE1GGYAKAoQK4AU/b94ChAGC1EVPshKUA=\",\"dtype\":\"float64\",\"order\":\"little\",\"shape\":[100]},\"y\":{\"__ndarray__\":\"AAAAAAAA8D9o+gYFGL7vPyN/Fo5v+e4/XLHeqjC17T9foQT4kvbrP1YykSHGxOk/tTkVSdQo5z9AE3HJfC3kP1wsoPEH3+A/thLH2SiW2j9bQ2NRvgDTP4xzC34aOsY/cyCwKKhcqD8MyeikuUm0v0/eq9oaN8q/PSGBd67u1L+LyZhelmvcv8/m3JG2ueG/hlh3f5705L9dUsfUNNnnv10cd/2OW+q/wfLvCVdx7L8bLVJC9hHuv0PyRoe4Nu+/XjTx7ufa778HB0As4PvvvwQ9tXAZme+/V1DNmyq07r/ZTwivwlDtv4lZi6GZdOu/JeDa0Vgn6b/aPrV2e3Lmv8y0DJEnYeO/+f//////3783i/Tn4LnYv4yAwi7oDdG/3kQPZF83wr9U+ijPKj+QvxHsuGvkX7w/k1rgSlktzj+GU4hOOdfWP1m1P3WwOd4/AasNgtOP4j+XUJVeWbblPzdQz6Jvg+g/uvBkh4zr6j99NRQyxuTsP/FJcov7Zu4/Juk3u/Vr7z+VSynBge/vP5RLKcGB7+8/Jek3u/Vr7z/vSXKL+2buP381FDLG5Ow/uPBkh4zr6j86UM+ib4PoP5RQlV5ZtuU/BasNgtOP4j9TtT91sDneP45TiE4519Y/hVrgSlktzj807Lhr5F+8P8f6KM8qP5C/zUQPZF83wr+TgMIu6A3Rvy+L9Ofgudi/BwAAAAAA4L/PtAyRJ2Hjv9k+tXZ7cua/I+Da0Vgn6b+NWYuhmXTrv9pPCK/CUO2/V1DNmyq07r8DPbVwGZnvvwgHQCzg+++/XjTx7ufa779E8kaHuDbvvx4tUkL2Ee6/wPLvCVdx7L9dHHf9jlvqv2BSx9Q02ee/gVh3f5705L/M5tyRtrnhv4zJmF6Wa9y/RSGBd67u1L8x3qvaGjfKv/DI6KS5SbS/bSCwKKhcqD9zcwt+GjrGP2ZDY1G+ANM/uRLH2SiW2j9aLKDxB9/gPzsTccl8LeQ/uDkVSdQo5z9WMpEhxsTpP12hBPiS9us/X7HeqjC17T8kfxaOb/nuP2j6BgUYvu8/AAAAAAAA8D8=\",\"dtype\":\"float64\",\"order\":\"little\",\"shape\":[100]}},\"selected\":{\"id\":\"13074\"},\"selection_policy\":{\"id\":\"13073\"}},\"id\":\"13010\",\"type\":\"ColumnDataSource\"},{\"attributes\":{},\"id\":\"13060\",\"type\":\"AllLabels\"},{\"attributes\":{},\"id\":\"13057\",\"type\":\"AllLabels\"},{\"attributes\":{},\"id\":\"13059\",\"type\":\"BasicTickFormatter\"},{\"attributes\":{},\"id\":\"12982\",\"type\":\"DataRange1d\"},{\"attributes\":{},\"id\":\"12984\",\"type\":\"LinearScale\"},{\"attributes\":{\"coordinates\":null,\"formatter\":{\"id\":\"13071\"},\"group\":null,\"major_label_policy\":{\"id\":\"13072\"},\"ticker\":{\"id\":\"12989\"}},\"id\":\"12988\",\"type\":\"LinearAxis\"},{\"attributes\":{\"coordinates\":null,\"formatter\":{\"id\":\"13068\"},\"group\":null,\"major_label_policy\":{\"id\":\"13069\"},\"ticker\":{\"id\":\"12993\"}},\"id\":\"12992\",\"type\":\"LinearAxis\"},{\"attributes\":{},\"id\":\"13080\",\"type\":\"BasicTickFormatter\"},{\"attributes\":{},\"id\":\"12986\",\"type\":\"LinearScale\"},{\"attributes\":{},\"id\":\"13001\",\"type\":\"HelpTool\"},{\"attributes\":{},\"id\":\"12989\",\"type\":\"BasicTicker\"},{\"attributes\":{},\"id\":\"13081\",\"type\":\"AllLabels\"},{\"attributes\":{\"axis\":{\"id\":\"12988\"},\"coordinates\":null,\"group\":null,\"ticker\":null},\"id\":\"12991\",\"type\":\"Grid\"},{\"attributes\":{},\"id\":\"13083\",\"type\":\"BasicTickFormatter\"},{\"attributes\":{\"axis\":{\"id\":\"12992\"},\"coordinates\":null,\"dimension\":1,\"group\":null,\"ticker\":null},\"id\":\"12995\",\"type\":\"Grid\"},{\"attributes\":{},\"id\":\"12993\",\"type\":\"BasicTicker\"},{\"attributes\":{},\"id\":\"13084\",\"type\":\"AllLabels\"},{\"attributes\":{\"tools\":[{\"id\":\"12996\"},{\"id\":\"12997\"},{\"id\":\"12998\"},{\"id\":\"12999\"},{\"id\":\"13000\"},{\"id\":\"13001\"}]},\"id\":\"13003\",\"type\":\"Toolbar\"},{\"attributes\":{},\"id\":\"12997\",\"type\":\"WheelZoomTool\"},{\"attributes\":{},\"id\":\"12996\",\"type\":\"PanTool\"},{\"attributes\":{\"overlay\":{\"id\":\"13002\"}},\"id\":\"12998\",\"type\":\"BoxZoomTool\"},{\"attributes\":{},\"id\":\"12999\",\"type\":\"SaveTool\"},{\"attributes\":{\"toolbars\":[{\"id\":\"12966\"},{\"id\":\"13003\"},{\"id\":\"13040\"}],\"tools\":[{\"id\":\"12959\"},{\"id\":\"12960\"},{\"id\":\"12961\"},{\"id\":\"12962\"},{\"id\":\"12963\"},{\"id\":\"12964\"},{\"id\":\"12996\"},{\"id\":\"12997\"},{\"id\":\"12998\"},{\"id\":\"12999\"},{\"id\":\"13000\"},{\"id\":\"13001\"},{\"id\":\"13033\"},{\"id\":\"13034\"},{\"id\":\"13035\"},{\"id\":\"13036\"},{\"id\":\"13037\"},{\"id\":\"13038\"}]},\"id\":\"13090\",\"type\":\"ProxyToolbar\"},{\"attributes\":{},\"id\":\"13000\",\"type\":\"ResetTool\"},{\"attributes\":{},\"id\":\"13033\",\"type\":\"PanTool\"},{\"attributes\":{\"source\":{\"id\":\"13047\"}},\"id\":\"13052\",\"type\":\"CDSView\"},{\"attributes\":{\"bottom_units\":\"screen\",\"coordinates\":null,\"fill_alpha\":0.5,\"fill_color\":\"lightgrey\",\"group\":null,\"left_units\":\"screen\",\"level\":\"overlay\",\"line_alpha\":1.0,\"line_color\":\"black\",\"line_dash\":[4,4],\"line_width\":2,\"right_units\":\"screen\",\"syncable\":false,\"top_units\":\"screen\"},\"id\":\"13002\",\"type\":\"BoxAnnotation\"},{\"attributes\":{},\"id\":\"13085\",\"type\":\"UnionRenderers\"},{\"attributes\":{},\"id\":\"13086\",\"type\":\"Selection\"},{\"attributes\":{\"coordinates\":null,\"data_source\":{\"id\":\"13010\"},\"glyph\":{\"id\":\"13011\"},\"group\":null,\"hover_glyph\":null,\"muted_glyph\":{\"id\":\"13013\"},\"nonselection_glyph\":{\"id\":\"13012\"},\"view\":{\"id\":\"13015\"}},\"id\":\"13014\",\"type\":\"GlyphRenderer\"},{\"attributes\":{},\"id\":\"13034\",\"type\":\"WheelZoomTool\"},{\"attributes\":{},\"id\":\"13030\",\"type\":\"BasicTicker\"},{\"attributes\":{\"overlay\":{\"id\":\"13039\"}},\"id\":\"13035\",\"type\":\"BoxZoomTool\"},{\"attributes\":{},\"id\":\"13036\",\"type\":\"SaveTool\"},{\"attributes\":{\"tools\":[{\"id\":\"13033\"},{\"id\":\"13034\"},{\"id\":\"13035\"},{\"id\":\"13036\"},{\"id\":\"13037\"},{\"id\":\"13038\"}]},\"id\":\"13040\",\"type\":\"Toolbar\"},{\"attributes\":{},\"id\":\"13038\",\"type\":\"HelpTool\"},{\"attributes\":{},\"id\":\"13037\",\"type\":\"ResetTool\"},{\"attributes\":{\"fill_alpha\":{\"value\":0.2},\"fill_color\":{\"value\":\"#208F8C\"},\"hatch_alpha\":{\"value\":0.2},\"hatch_color\":{\"value\":\"#208F8C\"},\"line_alpha\":{\"value\":0.2},\"line_color\":{\"value\":\"#208F8C\"},\"size\":{\"value\":3},\"x\":{\"field\":\"x\"},\"y\":{\"field\":\"y\"}},\"id\":\"13013\",\"type\":\"Circle\"},{\"attributes\":{\"coordinates\":null,\"group\":null},\"id\":\"13065\",\"type\":\"Title\"},{\"attributes\":{\"coordinates\":null,\"formatter\":{\"id\":\"13059\"},\"group\":null,\"major_label_policy\":{\"id\":\"13060\"},\"ticker\":{\"id\":\"12952\"}},\"id\":\"12951\",\"type\":\"LinearAxis\"},{\"attributes\":{},\"id\":\"12943\",\"type\":\"DataRange1d\"},{\"attributes\":{\"coordinates\":null,\"formatter\":{\"id\":\"13056\"},\"group\":null,\"major_label_policy\":{\"id\":\"13057\"},\"ticker\":{\"id\":\"12956\"}},\"id\":\"12955\",\"type\":\"LinearAxis\"},{\"attributes\":{\"bottom_units\":\"screen\",\"coordinates\":null,\"fill_alpha\":0.5,\"fill_color\":\"lightgrey\",\"group\":null,\"left_units\":\"screen\",\"level\":\"overlay\",\"line_alpha\":1.0,\"line_color\":\"black\",\"line_dash\":[4,4],\"line_width\":2,\"right_units\":\"screen\",\"syncable\":false,\"top_units\":\"screen\"},\"id\":\"13039\",\"type\":\"BoxAnnotation\"},{\"attributes\":{},\"id\":\"12964\",\"type\":\"HelpTool\"},{\"attributes\":{\"data\":{\"x\":{\"__ndarray__\":\"AAAAAAAAAACRGkt8Vz/AP5EaS3xXP9A/2qdwOgNf2D+RGkt8Vz/gPzXhXVstT+Q/2qdwOgNf6D9+boMZ2W7sP5EaS3xXP/A/433Ua0JH8j814V1bLU/0P4dE50oYV/Y/2qdwOgNf+D8sC/op7mb6P35ugxnZbvw/0NEMCcR2/j+RGkt8Vz8AQDrMD/RMQwFA433Ua0JHAkCML5njN0sDQDXhXVstTwRA3pIi0yJTBUCHROdKGFcGQDD2q8INWwdA2qdwOgNfCECDWTWy+GIJQCwL+inuZgpA1by+oeNqC0B+boMZ2W4MQCcgSJHOcg1A0NEMCcR2DkB5g9GAuXoPQJEaS3xXPxBAZnMtOFLBEEA6zA/0TEMRQA8l8q9HxRFA433Ua0JHEkC41rYnPckSQIwvmeM3SxNAYYh7nzLNE0A14V1bLU8UQAo6QBco0RRA3pIi0yJTFUCz6wSPHdUVQIdE50oYVxZAXJ3JBhPZFkAw9qvCDVsXQAVPjn4I3RdA2qdwOgNfGECuAFP2/eAYQINZNbL4YhlAV7IXbvPkGUAsC/op7mYaQABk3OXo6BpA1by+oeNqG0CpFaFd3uwbQH5ugxnZbhxAUsdl1dPwHEAnIEiRznIdQPt4Kk3J9B1A0NEMCcR2HkCkKu/EvvgeQHmD0YC5eh9ATdyzPLT8H0CRGkt8Vz8gQPtGPNpUgCBAZnMtOFLBIEDQnx6WTwIhQDrMD/RMQyFApPgAUkqEIUAPJfKvR8UhQHlR4w1FBiJA433Ua0JHIkBNqsXJP4giQLjWtic9ySJAIgOohToKI0CML5njN0sjQPZbikE1jCNAYYh7nzLNI0DLtGz9Lw4kQDXhXVstTyRAoA1PuSqQJEAKOkAXKNEkQHRmMXUlEiVA3pIi0yJTJUBJvxMxIJQlQLPrBI8d1SVAHRj27BoWJkCHROdKGFcmQPJw2KgVmCZAXJ3JBhPZJkDGybpkEBonQDD2q8INWydAmyKdIAucJ0AFT45+CN0nQG97f9wFHihA2qdwOgNfKEBE1GGYAKAoQK4AU/b94ChAGC1EVPshKUA=\",\"dtype\":\"float64\",\"order\":\"little\",\"shape\":[100]},\"y\":{\"__ndarray__\":\"AAAAAAAAAADwgwJ4LjTAP5qI2QHPEtA/+5MNU1HJ1z8ZTT7q2B3fP0aFmgwa+eI/ABg/lCAV5j+IQCEcMdboP3fOhmLzMOs/EyzujrQb7T/9Izwlj47uPxccgYyLg+8/g6xao7j27z9mZrL8O+bvP7+X94FZUu8/xVNiW3I97j9RB8Ai+6vsP5FWKYlppOo/oSg6uxkv6D/Sh2bxK1blPyZGRbpaJeI/8qg+VZVT3T/4C4p0qOPVP+UppLIiM8w/3FNHxZdVuD/J23zJpD6gv+3ENsZjOcS/wo12/ecH0r/dgWKM2KjZv2MTsJELcOC/83ixWvXH47+358MBZM7mv5eCD4nhdum/rExY6Hq267+TIxAn7YPtvwSssILL1+6/70I4BJ6s77/vOc8G+P7vvzTGy1KGze+/3176khQZ77/C8a4NiuTtvzGcHq/dNOy/l0FFlgER6r+EGZN4xoHnvx8WPFK3keS/Cli7+O1M4b+HQNqEwoHbv9kfIiFb+NO/gKyggGI5yL8EhrXMjDywvyGGtcyMPLA/jqyggGI5yD/gHyIhW/jTP4BA2oTCgds/DVi7+O1M4T8cFjxSt5HkP4cZk3jGgec/lUFFlgER6j8ynB6v3TTsP8Hxrg2K5O0/4F76khQZ7z80xstShs3vP+85zwb4/u8/8EI4BJ6s7z8DrLCCy9fuP5UjECftg+0/p0xY6Hq26z+Vgg+J4XbpP7fnwwFkzuY/9nixWvXH4z9dE7CRC3DgP9eBYozYqNk/w412/ecH0j/+xDbGYznEP0/bfMmkPqA/+FNHxZdVuL/UKaSyIjPMv+gLinSo49W/+Kg+VZVT3b8lRkW6WiXiv8+HZvErVuW/pig6uxkv6L+TVimJaaTqv1EHwCL7q+y/xFNiW3I97r/Al/eBWVLvv2Zmsvw75u+/g6xao7j2778YHIGMi4Pvv/sjPCWPju6/EyzujrQb7b94zoZi8zDrv4xAIRwx1ui//Bc/lCAV5r9GhZoMGvnivx5NPurYHd+/65MNU1HJ17+SiNkBzxLQv/GDAnguNMC/B1wUMyamwbw=\",\"dtype\":\"float64\",\"order\":\"little\",\"shape\":[100]}},\"selected\":{\"id\":\"13062\"},\"selection_policy\":{\"id\":\"13061\"}},\"id\":\"12973\",\"type\":\"ColumnDataSource\"},{\"attributes\":{\"axis\":{\"id\":\"13029\"},\"coordinates\":null,\"dimension\":1,\"group\":null,\"ticker\":null},\"id\":\"13032\",\"type\":\"Grid\"},{\"attributes\":{\"fill_color\":{\"value\":\"#440154\"},\"hatch_color\":{\"value\":\"#440154\"},\"line_color\":{\"value\":\"#440154\"},\"size\":{\"value\":3},\"x\":{\"field\":\"x\"},\"y\":{\"field\":\"y\"}},\"id\":\"12974\",\"type\":\"Circle\"},{\"attributes\":{\"below\":[{\"id\":\"12951\"}],\"center\":[{\"id\":\"12954\"},{\"id\":\"12958\"}],\"height\":250,\"left\":[{\"id\":\"12955\"}],\"renderers\":[{\"id\":\"12977\"}],\"title\":{\"id\":\"13053\"},\"toolbar\":{\"id\":\"12966\"},\"toolbar_location\":null,\"width\":250,\"x_range\":{\"id\":\"12943\"},\"x_scale\":{\"id\":\"12947\"},\"y_range\":{\"id\":\"12945\"},\"y_scale\":{\"id\":\"12949\"}},\"id\":\"12942\",\"subtype\":\"Figure\",\"type\":\"Plot\"},{\"attributes\":{\"coordinates\":null,\"data_source\":{\"id\":\"13047\"},\"glyph\":{\"id\":\"13048\"},\"group\":null,\"hover_glyph\":null,\"muted_glyph\":{\"id\":\"13050\"},\"nonselection_glyph\":{\"id\":\"13049\"},\"view\":{\"id\":\"13052\"}},\"id\":\"13051\",\"type\":\"GlyphRenderer\"},{\"attributes\":{\"below\":[{\"id\":\"13025\"}],\"center\":[{\"id\":\"13028\"},{\"id\":\"13032\"}],\"height\":250,\"left\":[{\"id\":\"13029\"}],\"renderers\":[{\"id\":\"13051\"}],\"title\":{\"id\":\"13077\"},\"toolbar\":{\"id\":\"13040\"},\"toolbar_location\":null,\"width\":250,\"x_range\":{\"id\":\"13017\"},\"x_scale\":{\"id\":\"13021\"},\"y_range\":{\"id\":\"13019\"},\"y_scale\":{\"id\":\"13023\"}},\"id\":\"13016\",\"subtype\":\"Figure\",\"type\":\"Plot\"},{\"attributes\":{},\"id\":\"12947\",\"type\":\"LinearScale\"},{\"attributes\":{\"axis\":{\"id\":\"13025\"},\"coordinates\":null,\"group\":null,\"ticker\":null},\"id\":\"13028\",\"type\":\"Grid\"},{\"attributes\":{},\"id\":\"13026\",\"type\":\"BasicTicker\"},{\"attributes\":{\"tools\":[{\"id\":\"12959\"},{\"id\":\"12960\"},{\"id\":\"12961\"},{\"id\":\"12962\"},{\"id\":\"12963\"},{\"id\":\"12964\"}]},\"id\":\"12966\",\"type\":\"Toolbar\"},{\"attributes\":{\"bottom_units\":\"screen\",\"coordinates\":null,\"fill_alpha\":0.5,\"fill_color\":\"lightgrey\",\"group\":null,\"left_units\":\"screen\",\"level\":\"overlay\",\"line_alpha\":1.0,\"line_color\":\"black\",\"line_dash\":[4,4],\"line_width\":2,\"right_units\":\"screen\",\"syncable\":false,\"top_units\":\"screen\"},\"id\":\"12965\",\"type\":\"BoxAnnotation\"},{\"attributes\":{\"source\":{\"id\":\"13010\"}},\"id\":\"13015\",\"type\":\"CDSView\"},{\"attributes\":{},\"id\":\"12963\",\"type\":\"ResetTool\"},{\"attributes\":{},\"id\":\"12962\",\"type\":\"SaveTool\"},{\"attributes\":{\"data\":{\"x\":{\"__ndarray__\":\"AAAAAAAAAACRGkt8Vz/AP5EaS3xXP9A/2qdwOgNf2D+RGkt8Vz/gPzXhXVstT+Q/2qdwOgNf6D9+boMZ2W7sP5EaS3xXP/A/433Ua0JH8j814V1bLU/0P4dE50oYV/Y/2qdwOgNf+D8sC/op7mb6P35ugxnZbvw/0NEMCcR2/j+RGkt8Vz8AQDrMD/RMQwFA433Ua0JHAkCML5njN0sDQDXhXVstTwRA3pIi0yJTBUCHROdKGFcGQDD2q8INWwdA2qdwOgNfCECDWTWy+GIJQCwL+inuZgpA1by+oeNqC0B+boMZ2W4MQCcgSJHOcg1A0NEMCcR2DkB5g9GAuXoPQJEaS3xXPxBAZnMtOFLBEEA6zA/0TEMRQA8l8q9HxRFA433Ua0JHEkC41rYnPckSQIwvmeM3SxNAYYh7nzLNE0A14V1bLU8UQAo6QBco0RRA3pIi0yJTFUCz6wSPHdUVQIdE50oYVxZAXJ3JBhPZFkAw9qvCDVsXQAVPjn4I3RdA2qdwOgNfGECuAFP2/eAYQINZNbL4YhlAV7IXbvPkGUAsC/op7mYaQABk3OXo6BpA1by+oeNqG0CpFaFd3uwbQH5ugxnZbhxAUsdl1dPwHEAnIEiRznIdQPt4Kk3J9B1A0NEMCcR2HkCkKu/EvvgeQHmD0YC5eh9ATdyzPLT8H0CRGkt8Vz8gQPtGPNpUgCBAZnMtOFLBIEDQnx6WTwIhQDrMD/RMQyFApPgAUkqEIUAPJfKvR8UhQHlR4w1FBiJA433Ua0JHIkBNqsXJP4giQLjWtic9ySJAIgOohToKI0CML5njN0sjQPZbikE1jCNAYYh7nzLNI0DLtGz9Lw4kQDXhXVstTyRAoA1PuSqQJEAKOkAXKNEkQHRmMXUlEiVA3pIi0yJTJUBJvxMxIJQlQLPrBI8d1SVAHRj27BoWJkCHROdKGFcmQPJw2KgVmCZAXJ3JBhPZJkDGybpkEBonQDD2q8INWydAmyKdIAucJ0AFT45+CN0nQG97f9wFHihA2qdwOgNfKEBE1GGYAKAoQK4AU/b94ChAGC1EVPshKUA=\",\"dtype\":\"float64\",\"order\":\"little\",\"shape\":[100]},\"y\":{\"__ndarray__\":\"AAAAAAAA8D+yzYPRkeXxP7ihgYdrgfM/rb0yquzM9D/245G2v8L1P87bFRfwXvY/2iiqbvqe9j/kKcny1oH2P2p9E6r9B/Y/t9rofWQz9T/V4vYmdwf0P338ARYJifI/RdfykkG+8D9ETRXIBF3tPyugTMuSxOg/JsOhHxvG4z8XRefmX+zcP4TfmO5l1dE/2IAW3tnTuT9YVAYbRxi0v26sY4ZobNC/kDyhvhiP278fJw0IIiDjv8rnndrvKei/4klI9jTQ7L9i6ms85X/wvyB3ITG5U/K/nEtETQ/c879kyJx6lxL1v3a2nZlS8vW/jCxGFqd39r9Ikzy8b6D2v7IbDo0EbPa/VCYsdD3b9b+XNIXNbvD0vyX2CM1fr/O/Ewqe7jod8r/hQKSueEDwv7KoVMWJQey/OkhCQL6N57//x2pm7XjivwmD/egKMNq/WFreULgEzr/Qjtyf0basv8DQmYTCjb8/YDFTHT090z9zKk7fyUfePwQ64frNauQ/Br4PG51d6T/UmpIn8OftPyz+X62J+/A/JAqwLSe98j/wrAGOlDH0P+CqQLrTUvU/YiQQQD0c9j8rs4V6k4r2Pw41lOsPnPY/TXYpjGpQ9j9uO9/02qj1P8SNeVoTqPQ/wTrZcjVS8z/dcSFwwazxPxnyVbD+fO8/vXE0K8Ye6z+6a09r11DmP/7dFbP8JuE/QJmw0PVs1z8YNwvg51bIP4A3qsMi+oY/tJyl3I19xb9gjLYfHAnWv+4O12hWfOC/dgkSnTaw5b/Eiyd/wIrqv1M5qN/19+6/bg/Nc81y8b9c/veZwCHzv4mZSz7lgfS/nqNH2pCN9b9BMd7bdED2vxjtFmOwl/a/lMBYHdyR9r+wHoMNEC/2vww2BinjcPW/M3KRy2Ra9L+mR1EcEPDyv8K/p5i5N/G/fKrPIO5w7r87P/7sBPXpv0iCivwvDuW/bUUVRECh3788RM3h1qPUv0S1wErRosK/wBtiTTs7oT9AtNpTsC7LP5z1ygVNz9g/audXAYjQ4T/buikNCPDmP2xZBmcMses//P//////7z8=\",\"dtype\":\"float64\",\"order\":\"little\",\"shape\":[100]}},\"selected\":{\"id\":\"13086\"},\"selection_policy\":{\"id\":\"13085\"}},\"id\":\"13047\",\"type\":\"ColumnDataSource\"},{\"attributes\":{\"overlay\":{\"id\":\"12965\"}},\"id\":\"12961\",\"type\":\"BoxZoomTool\"},{\"attributes\":{\"fill_color\":{\"value\":\"#FDE724\"},\"hatch_color\":{\"value\":\"#FDE724\"},\"line_color\":{\"value\":\"#FDE724\"},\"size\":{\"value\":3},\"x\":{\"field\":\"x\"},\"y\":{\"field\":\"y\"}},\"id\":\"13048\",\"type\":\"Circle\"},{\"attributes\":{},\"id\":\"12949\",\"type\":\"LinearScale\"},{\"attributes\":{},\"id\":\"12952\",\"type\":\"BasicTicker\"},{\"attributes\":{},\"id\":\"13068\",\"type\":\"BasicTickFormatter\"},{\"attributes\":{\"axis\":{\"id\":\"12951\"},\"coordinates\":null,\"group\":null,\"ticker\":null},\"id\":\"12954\",\"type\":\"Grid\"},{\"attributes\":{},\"id\":\"13023\",\"type\":\"LinearScale\"},{\"attributes\":{\"fill_alpha\":{\"value\":0.1},\"fill_color\":{\"value\":\"#440154\"},\"hatch_alpha\":{\"value\":0.1},\"hatch_color\":{\"value\":\"#440154\"},\"line_alpha\":{\"value\":0.1},\"line_color\":{\"value\":\"#440154\"},\"size\":{\"value\":3},\"x\":{\"field\":\"x\"},\"y\":{\"field\":\"y\"}},\"id\":\"12975\",\"type\":\"Circle\"},{\"attributes\":{},\"id\":\"12945\",\"type\":\"DataRange1d\"},{\"attributes\":{\"coordinates\":null,\"formatter\":{\"id\":\"13080\"},\"group\":null,\"major_label_policy\":{\"id\":\"13081\"},\"ticker\":{\"id\":\"13030\"}},\"id\":\"13029\",\"type\":\"LinearAxis\"},{\"attributes\":{},\"id\":\"13069\",\"type\":\"AllLabels\"},{\"attributes\":{\"fill_alpha\":{\"value\":0.2},\"fill_color\":{\"value\":\"#FDE724\"},\"hatch_alpha\":{\"value\":0.2},\"hatch_color\":{\"value\":\"#FDE724\"},\"line_alpha\":{\"value\":0.2},\"line_color\":{\"value\":\"#FDE724\"},\"size\":{\"value\":3},\"x\":{\"field\":\"x\"},\"y\":{\"field\":\"y\"}},\"id\":\"13050\",\"type\":\"Circle\"},{\"attributes\":{\"axis\":{\"id\":\"12955\"},\"coordinates\":null,\"dimension\":1,\"group\":null,\"ticker\":null},\"id\":\"12958\",\"type\":\"Grid\"},{\"attributes\":{},\"id\":\"12956\",\"type\":\"BasicTicker\"},{\"attributes\":{},\"id\":\"13071\",\"type\":\"BasicTickFormatter\"},{\"attributes\":{\"fill_alpha\":{\"value\":0.1},\"fill_color\":{\"value\":\"#FDE724\"},\"hatch_alpha\":{\"value\":0.1},\"hatch_color\":{\"value\":\"#FDE724\"},\"line_alpha\":{\"value\":0.1},\"line_color\":{\"value\":\"#FDE724\"},\"size\":{\"value\":3},\"x\":{\"field\":\"x\"},\"y\":{\"field\":\"y\"}},\"id\":\"13049\",\"type\":\"Circle\"},{\"attributes\":{\"coordinates\":null,\"formatter\":{\"id\":\"13083\"},\"group\":null,\"major_label_policy\":{\"id\":\"13084\"},\"ticker\":{\"id\":\"13026\"}},\"id\":\"13025\",\"type\":\"LinearAxis\"},{\"attributes\":{\"below\":[{\"id\":\"12988\"}],\"center\":[{\"id\":\"12991\"},{\"id\":\"12995\"}],\"height\":250,\"left\":[{\"id\":\"12992\"}],\"renderers\":[{\"id\":\"13014\"}],\"title\":{\"id\":\"13065\"},\"toolbar\":{\"id\":\"13003\"},\"toolbar_location\":null,\"width\":250,\"x_range\":{\"id\":\"12980\"},\"x_scale\":{\"id\":\"12984\"},\"y_range\":{\"id\":\"12982\"},\"y_scale\":{\"id\":\"12986\"}},\"id\":\"12979\",\"subtype\":\"Figure\",\"type\":\"Plot\"},{\"attributes\":{},\"id\":\"13017\",\"type\":\"DataRange1d\"},{\"attributes\":{},\"id\":\"12960\",\"type\":\"WheelZoomTool\"},{\"attributes\":{},\"id\":\"13072\",\"type\":\"AllLabels\"},{\"attributes\":{},\"id\":\"13021\",\"type\":\"LinearScale\"},{\"attributes\":{},\"id\":\"13019\",\"type\":\"DataRange1d\"},{\"attributes\":{},\"id\":\"12959\",\"type\":\"PanTool\"}],\"root_ids\":[\"13092\"]},\"title\":\"Bokeh Application\",\"version\":\"2.4.3\"}};\n",
       "  const render_items = [{\"docid\":\"0d423177-b934-4b3a-ae25-0c7c6791056c\",\"root_ids\":[\"13092\"],\"roots\":{\"13092\":\"fd097b48-fa79-40f9-8325-fa7f7ea889cf\"}}];\n",
       "  root.Bokeh.embed.embed_items_notebook(docs_json, render_items);\n",
       "  }\n",
       "  if (root.Bokeh !== undefined) {\n",
       "    embed_document(root);\n",
       "  } else {\n",
       "    let attempts = 0;\n",
       "    const timer = setInterval(function(root) {\n",
       "      if (root.Bokeh !== undefined) {\n",
       "        clearInterval(timer);\n",
       "        embed_document(root);\n",
       "      } else {\n",
       "        attempts++;\n",
       "        if (attempts > 100) {\n",
       "          clearInterval(timer);\n",
       "          console.log(\"Bokeh: ERROR: Unable to run BokehJS code because BokehJS library is missing\");\n",
       "        }\n",
       "      }\n",
       "    }, 10, root)\n",
       "  }\n",
       "})(window);"
      ],
      "application/vnd.bokehjs_exec.v0+json": ""
     },
     "metadata": {
      "application/vnd.bokehjs_exec.v0+json": {
       "id": "13092"
      }
     },
     "output_type": "display_data"
    }
   ],
   "source": [
    "N = 100\n",
    "x = np.linspace(0, 4*np.pi, N)\n",
    "y0 = np.sin(x)\n",
    "y1 = np.cos(x)\n",
    "y2 = np.sin(x) + np.cos(x)\n",
    "\n",
    "# create three plots\n",
    "s1 = figure()\n",
    "s1.circle(x, y0, size=3, color=Viridis3[0])\n",
    "s2 = figure()\n",
    "s2.circle(x, y1, size=3, color=Viridis3[1])\n",
    "s3 = figure()\n",
    "s3.circle(x, y2, size=3, color=Viridis3[2])\n",
    "\n",
    "# make a grid\n",
    "grid = gridplot([s1, s2, s3], ncols=2, width=250, height=250)\n",
    "\n",
    "# show the results\n",
    "show(grid)"
   ]
  },
  {
   "cell_type": "markdown",
   "metadata": {},
   "source": [
    "### Linked panning and brushing\n",
    "\n",
    "Linking together various aspects of different plots can be a useful technique for data visualization. In Bokeh, such linkages are typically accomplished by sharing some plot component between plots. Below is an example that demonstrates linked panning (where changing the range of one plot causes others to update) by sharing range objects between the plots. Some other things to look out for in this example:\n",
    "\n",
    "- calling `figure()` multiple times to create multiple plots\n",
    "- using `gridplot()` to arrange several plots in an array\n",
    "- showing new glyphs using new glyph methods Figure.triangle and Figure.square\n",
    "- hiding the toolbar by setting toolbar_location to None\n",
    "- setting convenience arguments color (sets both line_color and fill_color) and alpha (sets both line_alpha and fill_alpha)\n"
   ]
  },
  {
   "cell_type": "code",
   "execution_count": 51,
   "metadata": {},
   "outputs": [
    {
     "data": {
      "text/html": [
       "\n",
       "  <div class=\"bk-root\" id=\"4af31cd3-ba01-4f85-b588-8e4546966a0e\" data-root-id=\"13865\"></div>\n"
      ]
     },
     "metadata": {},
     "output_type": "display_data"
    },
    {
     "data": {
      "application/javascript": [
       "(function(root) {\n",
       "  function embed_document(root) {\n",
       "  const docs_json = {\"e4f2c49f-296e-4eee-8171-370fced929e8\":{\"defs\":[],\"roots\":{\"references\":[{\"attributes\":{\"children\":[[{\"id\":\"13721\"},0,0],[{\"id\":\"13759\"},0,1],[{\"id\":\"13795\"},0,2]]},\"id\":\"13865\",\"type\":\"GridBox\"},{\"attributes\":{},\"id\":\"13839\",\"type\":\"UnionRenderers\"},{\"attributes\":{},\"id\":\"13763\",\"type\":\"LinearScale\"},{\"attributes\":{},\"id\":\"13840\",\"type\":\"Selection\"},{\"attributes\":{\"fill_alpha\":{\"value\":0.5},\"fill_color\":{\"value\":\"firebrick\"},\"hatch_alpha\":{\"value\":0.5},\"hatch_color\":{\"value\":\"firebrick\"},\"line_alpha\":{\"value\":0.5},\"line_color\":{\"value\":\"firebrick\"},\"size\":{\"value\":3},\"x\":{\"field\":\"x\"},\"y\":{\"field\":\"y\"}},\"id\":\"13790\",\"type\":\"Circle\"},{\"attributes\":{\"source\":{\"id\":\"13789\"}},\"id\":\"13794\",\"type\":\"CDSView\"},{\"attributes\":{\"source\":{\"id\":\"13753\"}},\"id\":\"13758\",\"type\":\"CDSView\"},{\"attributes\":{\"data\":{\"x\":{\"__ndarray__\":\"AAAAAAAAAACRGkt8Vz/AP5EaS3xXP9A/2qdwOgNf2D+RGkt8Vz/gPzXhXVstT+Q/2qdwOgNf6D9+boMZ2W7sP5EaS3xXP/A/433Ua0JH8j814V1bLU/0P4dE50oYV/Y/2qdwOgNf+D8sC/op7mb6P35ugxnZbvw/0NEMCcR2/j+RGkt8Vz8AQDrMD/RMQwFA433Ua0JHAkCML5njN0sDQDXhXVstTwRA3pIi0yJTBUCHROdKGFcGQDD2q8INWwdA2qdwOgNfCECDWTWy+GIJQCwL+inuZgpA1by+oeNqC0B+boMZ2W4MQCcgSJHOcg1A0NEMCcR2DkB5g9GAuXoPQJEaS3xXPxBAZnMtOFLBEEA6zA/0TEMRQA8l8q9HxRFA433Ua0JHEkC41rYnPckSQIwvmeM3SxNAYYh7nzLNE0A14V1bLU8UQAo6QBco0RRA3pIi0yJTFUCz6wSPHdUVQIdE50oYVxZAXJ3JBhPZFkAw9qvCDVsXQAVPjn4I3RdA2qdwOgNfGECuAFP2/eAYQINZNbL4YhlAV7IXbvPkGUAsC/op7mYaQABk3OXo6BpA1by+oeNqG0CpFaFd3uwbQH5ugxnZbhxAUsdl1dPwHEAnIEiRznIdQPt4Kk3J9B1A0NEMCcR2HkCkKu/EvvgeQHmD0YC5eh9ATdyzPLT8H0CRGkt8Vz8gQPtGPNpUgCBAZnMtOFLBIEDQnx6WTwIhQDrMD/RMQyFApPgAUkqEIUAPJfKvR8UhQHlR4w1FBiJA433Ua0JHIkBNqsXJP4giQLjWtic9ySJAIgOohToKI0CML5njN0sjQPZbikE1jCNAYYh7nzLNI0DLtGz9Lw4kQDXhXVstTyRAoA1PuSqQJEAKOkAXKNEkQHRmMXUlEiVA3pIi0yJTJUBJvxMxIJQlQLPrBI8d1SVAHRj27BoWJkCHROdKGFcmQPJw2KgVmCZAXJ3JBhPZJkDGybpkEBonQDD2q8INWydAmyKdIAucJ0AFT45+CN0nQG97f9wFHihA2qdwOgNfKEBE1GGYAKAoQK4AU/b94ChAGC1EVPshKUA=\",\"dtype\":\"float64\",\"order\":\"little\",\"shape\":[100]},\"y\":{\"__ndarray__\":\"AAAAAAAA8D9o+gYFGL7vPyN/Fo5v+e4/XLHeqjC17T9foQT4kvbrP1YykSHGxOk/tTkVSdQo5z9AE3HJfC3kP1wsoPEH3+A/thLH2SiW2j9bQ2NRvgDTP4xzC34aOsY/cyCwKKhcqD8MyeikuUm0v0/eq9oaN8q/PSGBd67u1L+LyZhelmvcv8/m3JG2ueG/hlh3f5705L9dUsfUNNnnv10cd/2OW+q/wfLvCVdx7L8bLVJC9hHuv0PyRoe4Nu+/XjTx7ufa778HB0As4PvvvwQ9tXAZme+/V1DNmyq07r/ZTwivwlDtv4lZi6GZdOu/JeDa0Vgn6b/aPrV2e3Lmv8y0DJEnYeO/+f//////3783i/Tn4LnYv4yAwi7oDdG/3kQPZF83wr9U+ijPKj+QvxHsuGvkX7w/k1rgSlktzj+GU4hOOdfWP1m1P3WwOd4/AasNgtOP4j+XUJVeWbblPzdQz6Jvg+g/uvBkh4zr6j99NRQyxuTsP/FJcov7Zu4/Juk3u/Vr7z+VSynBge/vP5RLKcGB7+8/Jek3u/Vr7z/vSXKL+2buP381FDLG5Ow/uPBkh4zr6j86UM+ib4PoP5RQlV5ZtuU/BasNgtOP4j9TtT91sDneP45TiE4519Y/hVrgSlktzj807Lhr5F+8P8f6KM8qP5C/zUQPZF83wr+TgMIu6A3Rvy+L9Ofgudi/BwAAAAAA4L/PtAyRJ2Hjv9k+tXZ7cua/I+Da0Vgn6b+NWYuhmXTrv9pPCK/CUO2/V1DNmyq07r8DPbVwGZnvvwgHQCzg+++/XjTx7ufa779E8kaHuDbvvx4tUkL2Ee6/wPLvCVdx7L9dHHf9jlvqv2BSx9Q02ee/gVh3f5705L/M5tyRtrnhv4zJmF6Wa9y/RSGBd67u1L8x3qvaGjfKv/DI6KS5SbS/bSCwKKhcqD9zcwt+GjrGP2ZDY1G+ANM/uRLH2SiW2j9aLKDxB9/gPzsTccl8LeQ/uDkVSdQo5z9WMpEhxsTpP12hBPiS9us/X7HeqjC17T8kfxaOb/nuP2j6BgUYvu8/AAAAAAAA8D8=\",\"dtype\":\"float64\",\"order\":\"little\",\"shape\":[100]}},\"selected\":{\"id\":\"13851\"},\"selection_policy\":{\"id\":\"13850\"}},\"id\":\"13789\",\"type\":\"ColumnDataSource\"},{\"attributes\":{},\"id\":\"13765\",\"type\":\"LinearScale\"},{\"attributes\":{\"coordinates\":null,\"formatter\":{\"id\":\"13848\"},\"group\":null,\"major_label_policy\":{\"id\":\"13849\"},\"ticker\":{\"id\":\"13768\"}},\"id\":\"13767\",\"type\":\"LinearAxis\"},{\"attributes\":{},\"id\":\"13768\",\"type\":\"BasicTicker\"},{\"attributes\":{\"coordinates\":null,\"formatter\":{\"id\":\"13845\"},\"group\":null,\"major_label_policy\":{\"id\":\"13846\"},\"ticker\":{\"id\":\"13772\"}},\"id\":\"13771\",\"type\":\"LinearAxis\"},{\"attributes\":{},\"id\":\"13780\",\"type\":\"HelpTool\"},{\"attributes\":{\"axis\":{\"id\":\"13767\"},\"coordinates\":null,\"group\":null,\"ticker\":null},\"id\":\"13770\",\"type\":\"Grid\"},{\"attributes\":{\"axis\":{\"id\":\"13771\"},\"coordinates\":null,\"dimension\":1,\"group\":null,\"ticker\":null},\"id\":\"13774\",\"type\":\"Grid\"},{\"attributes\":{},\"id\":\"13772\",\"type\":\"BasicTicker\"},{\"attributes\":{},\"id\":\"13776\",\"type\":\"WheelZoomTool\"},{\"attributes\":{},\"id\":\"13775\",\"type\":\"PanTool\"},{\"attributes\":{\"overlay\":{\"id\":\"13781\"}},\"id\":\"13777\",\"type\":\"BoxZoomTool\"},{\"attributes\":{},\"id\":\"13778\",\"type\":\"SaveTool\"},{\"attributes\":{},\"id\":\"13779\",\"type\":\"ResetTool\"},{\"attributes\":{\"bottom_units\":\"screen\",\"coordinates\":null,\"fill_alpha\":0.5,\"fill_color\":\"lightgrey\",\"group\":null,\"left_units\":\"screen\",\"level\":\"overlay\",\"line_alpha\":1.0,\"line_color\":\"black\",\"line_dash\":[4,4],\"line_width\":2,\"right_units\":\"screen\",\"syncable\":false,\"top_units\":\"screen\"},\"id\":\"13781\",\"type\":\"BoxAnnotation\"},{\"attributes\":{\"coordinates\":null,\"formatter\":{\"id\":\"13856\"},\"group\":null,\"major_label_policy\":{\"id\":\"13857\"},\"ticker\":{\"id\":\"13809\"}},\"id\":\"13808\",\"type\":\"LinearAxis\"},{\"attributes\":{},\"id\":\"13802\",\"type\":\"LinearScale\"},{\"attributes\":{\"coordinates\":null,\"formatter\":{\"id\":\"13859\"},\"group\":null,\"major_label_policy\":{\"id\":\"13860\"},\"ticker\":{\"id\":\"13805\"}},\"id\":\"13804\",\"type\":\"LinearAxis\"},{\"attributes\":{},\"id\":\"13805\",\"type\":\"BasicTicker\"},{\"attributes\":{\"axis\":{\"id\":\"13808\"},\"coordinates\":null,\"dimension\":1,\"group\":null,\"ticker\":null},\"id\":\"13811\",\"type\":\"Grid\"},{\"attributes\":{\"data\":{\"x\":{\"__ndarray__\":\"AAAAAAAAAACRGkt8Vz/AP5EaS3xXP9A/2qdwOgNf2D+RGkt8Vz/gPzXhXVstT+Q/2qdwOgNf6D9+boMZ2W7sP5EaS3xXP/A/433Ua0JH8j814V1bLU/0P4dE50oYV/Y/2qdwOgNf+D8sC/op7mb6P35ugxnZbvw/0NEMCcR2/j+RGkt8Vz8AQDrMD/RMQwFA433Ua0JHAkCML5njN0sDQDXhXVstTwRA3pIi0yJTBUCHROdKGFcGQDD2q8INWwdA2qdwOgNfCECDWTWy+GIJQCwL+inuZgpA1by+oeNqC0B+boMZ2W4MQCcgSJHOcg1A0NEMCcR2DkB5g9GAuXoPQJEaS3xXPxBAZnMtOFLBEEA6zA/0TEMRQA8l8q9HxRFA433Ua0JHEkC41rYnPckSQIwvmeM3SxNAYYh7nzLNE0A14V1bLU8UQAo6QBco0RRA3pIi0yJTFUCz6wSPHdUVQIdE50oYVxZAXJ3JBhPZFkAw9qvCDVsXQAVPjn4I3RdA2qdwOgNfGECuAFP2/eAYQINZNbL4YhlAV7IXbvPkGUAsC/op7mYaQABk3OXo6BpA1by+oeNqG0CpFaFd3uwbQH5ugxnZbhxAUsdl1dPwHEAnIEiRznIdQPt4Kk3J9B1A0NEMCcR2HkCkKu/EvvgeQHmD0YC5eh9ATdyzPLT8H0CRGkt8Vz8gQPtGPNpUgCBAZnMtOFLBIEDQnx6WTwIhQDrMD/RMQyFApPgAUkqEIUAPJfKvR8UhQHlR4w1FBiJA433Ua0JHIkBNqsXJP4giQLjWtic9ySJAIgOohToKI0CML5njN0sjQPZbikE1jCNAYYh7nzLNI0DLtGz9Lw4kQDXhXVstTyRAoA1PuSqQJEAKOkAXKNEkQHRmMXUlEiVA3pIi0yJTJUBJvxMxIJQlQLPrBI8d1SVAHRj27BoWJkCHROdKGFcmQPJw2KgVmCZAXJ3JBhPZJkDGybpkEBonQDD2q8INWydAmyKdIAucJ0AFT45+CN0nQG97f9wFHihA2qdwOgNfKEBE1GGYAKAoQK4AU/b94ChAGC1EVPshKUA=\",\"dtype\":\"float64\",\"order\":\"little\",\"shape\":[100]},\"y\":{\"__ndarray__\":\"AAAAAAAA8D+yzYPRkeXxP7ihgYdrgfM/rb0yquzM9D/245G2v8L1P87bFRfwXvY/2iiqbvqe9j/kKcny1oH2P2p9E6r9B/Y/t9rofWQz9T/V4vYmdwf0P338ARYJifI/RdfykkG+8D9ETRXIBF3tPyugTMuSxOg/JsOhHxvG4z8XRefmX+zcP4TfmO5l1dE/2IAW3tnTuT9YVAYbRxi0v26sY4ZobNC/kDyhvhiP278fJw0IIiDjv8rnndrvKei/4klI9jTQ7L9i6ms85X/wvyB3ITG5U/K/nEtETQ/c879kyJx6lxL1v3a2nZlS8vW/jCxGFqd39r9Ikzy8b6D2v7IbDo0EbPa/VCYsdD3b9b+XNIXNbvD0vyX2CM1fr/O/Ewqe7jod8r/hQKSueEDwv7KoVMWJQey/OkhCQL6N57//x2pm7XjivwmD/egKMNq/WFreULgEzr/Qjtyf0basv8DQmYTCjb8/YDFTHT090z9zKk7fyUfePwQ64frNauQ/Br4PG51d6T/UmpIn8OftPyz+X62J+/A/JAqwLSe98j/wrAGOlDH0P+CqQLrTUvU/YiQQQD0c9j8rs4V6k4r2Pw41lOsPnPY/TXYpjGpQ9j9uO9/02qj1P8SNeVoTqPQ/wTrZcjVS8z/dcSFwwazxPxnyVbD+fO8/vXE0K8Ye6z+6a09r11DmP/7dFbP8JuE/QJmw0PVs1z8YNwvg51bIP4A3qsMi+oY/tJyl3I19xb9gjLYfHAnWv+4O12hWfOC/dgkSnTaw5b/Eiyd/wIrqv1M5qN/19+6/bg/Nc81y8b9c/veZwCHzv4mZSz7lgfS/nqNH2pCN9b9BMd7bdED2vxjtFmOwl/a/lMBYHdyR9r+wHoMNEC/2vww2BinjcPW/M3KRy2Ra9L+mR1EcEPDyv8K/p5i5N/G/fKrPIO5w7r87P/7sBPXpv0iCivwvDuW/bUUVRECh3788RM3h1qPUv0S1wErRosK/wBtiTTs7oT9AtNpTsC7LP5z1ygVNz9g/audXAYjQ4T/buikNCPDmP2xZBmcMses//P//////7z8=\",\"dtype\":\"float64\",\"order\":\"little\",\"shape\":[100]}},\"selected\":{\"id\":\"13862\"},\"selection_policy\":{\"id\":\"13861\"}},\"id\":\"13826\",\"type\":\"ColumnDataSource\"},{\"attributes\":{},\"id\":\"13798\",\"type\":\"DataRange1d\"},{\"attributes\":{},\"id\":\"13800\",\"type\":\"LinearScale\"},{\"attributes\":{\"fill_alpha\":{\"value\":0.5},\"fill_color\":{\"value\":\"olive\"},\"hatch_alpha\":{\"value\":0.5},\"hatch_color\":{\"value\":\"olive\"},\"line_alpha\":{\"value\":0.5},\"line_color\":{\"value\":\"olive\"},\"size\":{\"value\":3},\"x\":{\"field\":\"x\"},\"y\":{\"field\":\"y\"}},\"id\":\"13827\",\"type\":\"Circle\"},{\"attributes\":{\"fill_alpha\":{\"value\":0.2},\"fill_color\":{\"value\":\"firebrick\"},\"hatch_alpha\":{\"value\":0.2},\"hatch_color\":{\"value\":\"firebrick\"},\"line_alpha\":{\"value\":0.2},\"line_color\":{\"value\":\"firebrick\"},\"size\":{\"value\":3},\"x\":{\"field\":\"x\"},\"y\":{\"field\":\"y\"}},\"id\":\"13792\",\"type\":\"Circle\"},{\"attributes\":{\"fill_alpha\":{\"value\":0.1},\"fill_color\":{\"value\":\"firebrick\"},\"hatch_alpha\":{\"value\":0.1},\"hatch_color\":{\"value\":\"firebrick\"},\"line_alpha\":{\"value\":0.1},\"line_color\":{\"value\":\"firebrick\"},\"size\":{\"value\":3},\"x\":{\"field\":\"x\"},\"y\":{\"field\":\"y\"}},\"id\":\"13791\",\"type\":\"Circle\"},{\"attributes\":{},\"id\":\"13809\",\"type\":\"BasicTicker\"},{\"attributes\":{},\"id\":\"13857\",\"type\":\"AllLabels\"},{\"attributes\":{\"axis\":{\"id\":\"13804\"},\"coordinates\":null,\"group\":null,\"ticker\":null},\"id\":\"13807\",\"type\":\"Grid\"},{\"attributes\":{\"tools\":[{\"id\":\"13775\"},{\"id\":\"13776\"},{\"id\":\"13777\"},{\"id\":\"13778\"},{\"id\":\"13779\"},{\"id\":\"13780\"}]},\"id\":\"13782\",\"type\":\"Toolbar\"},{\"attributes\":{},\"id\":\"13845\",\"type\":\"BasicTickFormatter\"},{\"attributes\":{},\"id\":\"13846\",\"type\":\"AllLabels\"},{\"attributes\":{\"coordinates\":null,\"data_source\":{\"id\":\"13789\"},\"glyph\":{\"id\":\"13790\"},\"group\":null,\"hover_glyph\":null,\"muted_glyph\":{\"id\":\"13792\"},\"nonselection_glyph\":{\"id\":\"13791\"},\"view\":{\"id\":\"13794\"}},\"id\":\"13793\",\"type\":\"GlyphRenderer\"},{\"attributes\":{},\"id\":\"13848\",\"type\":\"BasicTickFormatter\"},{\"attributes\":{},\"id\":\"13849\",\"type\":\"AllLabels\"},{\"attributes\":{\"bottom_units\":\"screen\",\"coordinates\":null,\"fill_alpha\":0.5,\"fill_color\":\"lightgrey\",\"group\":null,\"left_units\":\"screen\",\"level\":\"overlay\",\"line_alpha\":1.0,\"line_color\":\"black\",\"line_dash\":[4,4],\"line_width\":2,\"right_units\":\"screen\",\"syncable\":false,\"top_units\":\"screen\"},\"id\":\"13818\",\"type\":\"BoxAnnotation\"},{\"attributes\":{\"tools\":[{\"id\":\"13812\"},{\"id\":\"13813\"},{\"id\":\"13814\"},{\"id\":\"13815\"},{\"id\":\"13816\"},{\"id\":\"13817\"}]},\"id\":\"13819\",\"type\":\"Toolbar\"},{\"attributes\":{},\"id\":\"13859\",\"type\":\"BasicTickFormatter\"},{\"attributes\":{},\"id\":\"13813\",\"type\":\"WheelZoomTool\"},{\"attributes\":{},\"id\":\"13817\",\"type\":\"HelpTool\"},{\"attributes\":{},\"id\":\"13860\",\"type\":\"AllLabels\"},{\"attributes\":{},\"id\":\"13812\",\"type\":\"PanTool\"},{\"attributes\":{\"overlay\":{\"id\":\"13818\"}},\"id\":\"13814\",\"type\":\"BoxZoomTool\"},{\"attributes\":{},\"id\":\"13815\",\"type\":\"SaveTool\"},{\"attributes\":{},\"id\":\"13850\",\"type\":\"UnionRenderers\"},{\"attributes\":{},\"id\":\"13816\",\"type\":\"ResetTool\"},{\"attributes\":{\"bottom_units\":\"screen\",\"coordinates\":null,\"fill_alpha\":0.5,\"fill_color\":\"lightgrey\",\"group\":null,\"left_units\":\"screen\",\"level\":\"overlay\",\"line_alpha\":1.0,\"line_color\":\"black\",\"line_dash\":[4,4],\"line_width\":2,\"right_units\":\"screen\",\"syncable\":false,\"top_units\":\"screen\"},\"id\":\"13745\",\"type\":\"BoxAnnotation\"},{\"attributes\":{},\"id\":\"13851\",\"type\":\"Selection\"},{\"attributes\":{},\"id\":\"13861\",\"type\":\"UnionRenderers\"},{\"attributes\":{\"source\":{\"id\":\"13826\"}},\"id\":\"13831\",\"type\":\"CDSView\"},{\"attributes\":{},\"id\":\"13862\",\"type\":\"Selection\"},{\"attributes\":{\"fill_alpha\":{\"value\":0.1},\"fill_color\":{\"value\":\"olive\"},\"hatch_alpha\":{\"value\":0.1},\"hatch_color\":{\"value\":\"olive\"},\"line_alpha\":{\"value\":0.1},\"line_color\":{\"value\":\"olive\"},\"size\":{\"value\":3},\"x\":{\"field\":\"x\"},\"y\":{\"field\":\"y\"}},\"id\":\"13828\",\"type\":\"Circle\"},{\"attributes\":{\"axis\":{\"id\":\"13731\"},\"coordinates\":null,\"group\":null,\"ticker\":null},\"id\":\"13734\",\"type\":\"Grid\"},{\"attributes\":{\"coordinates\":null,\"formatter\":{\"id\":\"13837\"},\"group\":null,\"major_label_policy\":{\"id\":\"13838\"},\"ticker\":{\"id\":\"13732\"}},\"id\":\"13731\",\"type\":\"LinearAxis\"},{\"attributes\":{\"tools\":[{\"id\":\"13739\"},{\"id\":\"13740\"},{\"id\":\"13741\"},{\"id\":\"13742\"},{\"id\":\"13743\"},{\"id\":\"13744\"}]},\"id\":\"13746\",\"type\":\"Toolbar\"},{\"attributes\":{\"fill_alpha\":{\"value\":0.1},\"fill_color\":{\"value\":\"navy\"},\"hatch_alpha\":{\"value\":0.1},\"hatch_color\":{\"value\":\"navy\"},\"line_alpha\":{\"value\":0.1},\"line_color\":{\"value\":\"navy\"},\"size\":{\"value\":3},\"x\":{\"field\":\"x\"},\"y\":{\"field\":\"y\"}},\"id\":\"13755\",\"type\":\"Circle\"},{\"attributes\":{},\"id\":\"13729\",\"type\":\"LinearScale\"},{\"attributes\":{},\"id\":\"13837\",\"type\":\"BasicTickFormatter\"},{\"attributes\":{\"coordinates\":null,\"data_source\":{\"id\":\"13753\"},\"glyph\":{\"id\":\"13754\"},\"group\":null,\"hover_glyph\":null,\"muted_glyph\":{\"id\":\"13756\"},\"nonselection_glyph\":{\"id\":\"13755\"},\"view\":{\"id\":\"13758\"}},\"id\":\"13757\",\"type\":\"GlyphRenderer\"},{\"attributes\":{},\"id\":\"13838\",\"type\":\"AllLabels\"},{\"attributes\":{\"coordinates\":null,\"data_source\":{\"id\":\"13826\"},\"glyph\":{\"id\":\"13827\"},\"group\":null,\"hover_glyph\":null,\"muted_glyph\":{\"id\":\"13829\"},\"nonselection_glyph\":{\"id\":\"13828\"},\"view\":{\"id\":\"13831\"}},\"id\":\"13830\",\"type\":\"GlyphRenderer\"},{\"attributes\":{\"fill_alpha\":{\"value\":0.2},\"fill_color\":{\"value\":\"olive\"},\"hatch_alpha\":{\"value\":0.2},\"hatch_color\":{\"value\":\"olive\"},\"line_alpha\":{\"value\":0.2},\"line_color\":{\"value\":\"olive\"},\"size\":{\"value\":3},\"x\":{\"field\":\"x\"},\"y\":{\"field\":\"y\"}},\"id\":\"13829\",\"type\":\"Circle\"},{\"attributes\":{},\"id\":\"13723\",\"type\":\"DataRange1d\"},{\"attributes\":{\"below\":[{\"id\":\"13804\"}],\"center\":[{\"id\":\"13807\"},{\"id\":\"13811\"}],\"height\":250,\"left\":[{\"id\":\"13808\"}],\"renderers\":[{\"id\":\"13830\"}],\"title\":null,\"toolbar\":{\"id\":\"13819\"},\"toolbar_location\":null,\"width\":250,\"x_range\":{\"id\":\"13723\"},\"x_scale\":{\"id\":\"13800\"},\"y_range\":{\"id\":\"13798\"},\"y_scale\":{\"id\":\"13802\"}},\"id\":\"13795\",\"subtype\":\"Figure\",\"type\":\"Plot\"},{\"attributes\":{},\"id\":\"13725\",\"type\":\"DataRange1d\"},{\"attributes\":{\"below\":[{\"id\":\"13767\"}],\"center\":[{\"id\":\"13770\"},{\"id\":\"13774\"}],\"height\":250,\"left\":[{\"id\":\"13771\"}],\"renderers\":[{\"id\":\"13793\"}],\"title\":null,\"toolbar\":{\"id\":\"13782\"},\"toolbar_location\":null,\"width\":250,\"x_range\":{\"id\":\"13723\"},\"x_scale\":{\"id\":\"13763\"},\"y_range\":{\"id\":\"13725\"},\"y_scale\":{\"id\":\"13765\"}},\"id\":\"13759\",\"subtype\":\"Figure\",\"type\":\"Plot\"},{\"attributes\":{},\"id\":\"13835\",\"type\":\"AllLabels\"},{\"attributes\":{\"fill_alpha\":{\"value\":0.2},\"fill_color\":{\"value\":\"navy\"},\"hatch_alpha\":{\"value\":0.2},\"hatch_color\":{\"value\":\"navy\"},\"line_alpha\":{\"value\":0.2},\"line_color\":{\"value\":\"navy\"},\"size\":{\"value\":3},\"x\":{\"field\":\"x\"},\"y\":{\"field\":\"y\"}},\"id\":\"13756\",\"type\":\"Circle\"},{\"attributes\":{},\"id\":\"13743\",\"type\":\"ResetTool\"},{\"attributes\":{},\"id\":\"13742\",\"type\":\"SaveTool\"},{\"attributes\":{},\"id\":\"13834\",\"type\":\"BasicTickFormatter\"},{\"attributes\":{\"overlay\":{\"id\":\"13745\"}},\"id\":\"13741\",\"type\":\"BoxZoomTool\"},{\"attributes\":{},\"id\":\"13739\",\"type\":\"PanTool\"},{\"attributes\":{},\"id\":\"13740\",\"type\":\"WheelZoomTool\"},{\"attributes\":{},\"id\":\"13736\",\"type\":\"BasicTicker\"},{\"attributes\":{\"axis\":{\"id\":\"13735\"},\"coordinates\":null,\"dimension\":1,\"group\":null,\"ticker\":null},\"id\":\"13738\",\"type\":\"Grid\"},{\"attributes\":{\"fill_alpha\":{\"value\":0.5},\"fill_color\":{\"value\":\"navy\"},\"hatch_alpha\":{\"value\":0.5},\"hatch_color\":{\"value\":\"navy\"},\"line_alpha\":{\"value\":0.5},\"line_color\":{\"value\":\"navy\"},\"size\":{\"value\":3},\"x\":{\"field\":\"x\"},\"y\":{\"field\":\"y\"}},\"id\":\"13754\",\"type\":\"Circle\"},{\"attributes\":{\"below\":[{\"id\":\"13731\"}],\"center\":[{\"id\":\"13734\"},{\"id\":\"13738\"}],\"height\":250,\"left\":[{\"id\":\"13735\"}],\"renderers\":[{\"id\":\"13757\"}],\"title\":null,\"toolbar\":{\"id\":\"13746\"},\"toolbar_location\":null,\"width\":250,\"x_range\":{\"id\":\"13723\"},\"x_scale\":{\"id\":\"13727\"},\"y_range\":{\"id\":\"13725\"},\"y_scale\":{\"id\":\"13729\"}},\"id\":\"13721\",\"subtype\":\"Figure\",\"type\":\"Plot\"},{\"attributes\":{\"data\":{\"x\":{\"__ndarray__\":\"AAAAAAAAAACRGkt8Vz/AP5EaS3xXP9A/2qdwOgNf2D+RGkt8Vz/gPzXhXVstT+Q/2qdwOgNf6D9+boMZ2W7sP5EaS3xXP/A/433Ua0JH8j814V1bLU/0P4dE50oYV/Y/2qdwOgNf+D8sC/op7mb6P35ugxnZbvw/0NEMCcR2/j+RGkt8Vz8AQDrMD/RMQwFA433Ua0JHAkCML5njN0sDQDXhXVstTwRA3pIi0yJTBUCHROdKGFcGQDD2q8INWwdA2qdwOgNfCECDWTWy+GIJQCwL+inuZgpA1by+oeNqC0B+boMZ2W4MQCcgSJHOcg1A0NEMCcR2DkB5g9GAuXoPQJEaS3xXPxBAZnMtOFLBEEA6zA/0TEMRQA8l8q9HxRFA433Ua0JHEkC41rYnPckSQIwvmeM3SxNAYYh7nzLNE0A14V1bLU8UQAo6QBco0RRA3pIi0yJTFUCz6wSPHdUVQIdE50oYVxZAXJ3JBhPZFkAw9qvCDVsXQAVPjn4I3RdA2qdwOgNfGECuAFP2/eAYQINZNbL4YhlAV7IXbvPkGUAsC/op7mYaQABk3OXo6BpA1by+oeNqG0CpFaFd3uwbQH5ugxnZbhxAUsdl1dPwHEAnIEiRznIdQPt4Kk3J9B1A0NEMCcR2HkCkKu/EvvgeQHmD0YC5eh9ATdyzPLT8H0CRGkt8Vz8gQPtGPNpUgCBAZnMtOFLBIEDQnx6WTwIhQDrMD/RMQyFApPgAUkqEIUAPJfKvR8UhQHlR4w1FBiJA433Ua0JHIkBNqsXJP4giQLjWtic9ySJAIgOohToKI0CML5njN0sjQPZbikE1jCNAYYh7nzLNI0DLtGz9Lw4kQDXhXVstTyRAoA1PuSqQJEAKOkAXKNEkQHRmMXUlEiVA3pIi0yJTJUBJvxMxIJQlQLPrBI8d1SVAHRj27BoWJkCHROdKGFcmQPJw2KgVmCZAXJ3JBhPZJkDGybpkEBonQDD2q8INWydAmyKdIAucJ0AFT45+CN0nQG97f9wFHihA2qdwOgNfKEBE1GGYAKAoQK4AU/b94ChAGC1EVPshKUA=\",\"dtype\":\"float64\",\"order\":\"little\",\"shape\":[100]},\"y\":{\"__ndarray__\":\"AAAAAAAAAADwgwJ4LjTAP5qI2QHPEtA/+5MNU1HJ1z8ZTT7q2B3fP0aFmgwa+eI/ABg/lCAV5j+IQCEcMdboP3fOhmLzMOs/EyzujrQb7T/9Izwlj47uPxccgYyLg+8/g6xao7j27z9mZrL8O+bvP7+X94FZUu8/xVNiW3I97j9RB8Ai+6vsP5FWKYlppOo/oSg6uxkv6D/Sh2bxK1blPyZGRbpaJeI/8qg+VZVT3T/4C4p0qOPVP+UppLIiM8w/3FNHxZdVuD/J23zJpD6gv+3ENsZjOcS/wo12/ecH0r/dgWKM2KjZv2MTsJELcOC/83ixWvXH47+358MBZM7mv5eCD4nhdum/rExY6Hq267+TIxAn7YPtvwSssILL1+6/70I4BJ6s77/vOc8G+P7vvzTGy1KGze+/3176khQZ77/C8a4NiuTtvzGcHq/dNOy/l0FFlgER6r+EGZN4xoHnvx8WPFK3keS/Cli7+O1M4b+HQNqEwoHbv9kfIiFb+NO/gKyggGI5yL8EhrXMjDywvyGGtcyMPLA/jqyggGI5yD/gHyIhW/jTP4BA2oTCgds/DVi7+O1M4T8cFjxSt5HkP4cZk3jGgec/lUFFlgER6j8ynB6v3TTsP8Hxrg2K5O0/4F76khQZ7z80xstShs3vP+85zwb4/u8/8EI4BJ6s7z8DrLCCy9fuP5UjECftg+0/p0xY6Hq26z+Vgg+J4XbpP7fnwwFkzuY/9nixWvXH4z9dE7CRC3DgP9eBYozYqNk/w412/ecH0j/+xDbGYznEP0/bfMmkPqA/+FNHxZdVuL/UKaSyIjPMv+gLinSo49W/+Kg+VZVT3b8lRkW6WiXiv8+HZvErVuW/pig6uxkv6L+TVimJaaTqv1EHwCL7q+y/xFNiW3I97r/Al/eBWVLvv2Zmsvw75u+/g6xao7j2778YHIGMi4Pvv/sjPCWPju6/EyzujrQb7b94zoZi8zDrv4xAIRwx1ui//Bc/lCAV5r9GhZoMGvnivx5NPurYHd+/65MNU1HJ17+SiNkBzxLQv/GDAnguNMC/B1wUMyamwbw=\",\"dtype\":\"float64\",\"order\":\"little\",\"shape\":[100]}},\"selected\":{\"id\":\"13840\"},\"selection_policy\":{\"id\":\"13839\"}},\"id\":\"13753\",\"type\":\"ColumnDataSource\"},{\"attributes\":{},\"id\":\"13732\",\"type\":\"BasicTicker\"},{\"attributes\":{},\"id\":\"13856\",\"type\":\"BasicTickFormatter\"},{\"attributes\":{},\"id\":\"13727\",\"type\":\"LinearScale\"},{\"attributes\":{\"coordinates\":null,\"formatter\":{\"id\":\"13834\"},\"group\":null,\"major_label_policy\":{\"id\":\"13835\"},\"ticker\":{\"id\":\"13736\"}},\"id\":\"13735\",\"type\":\"LinearAxis\"},{\"attributes\":{},\"id\":\"13744\",\"type\":\"HelpTool\"}],\"root_ids\":[\"13865\"]},\"title\":\"Bokeh Application\",\"version\":\"2.4.3\"}};\n",
       "  const render_items = [{\"docid\":\"e4f2c49f-296e-4eee-8171-370fced929e8\",\"root_ids\":[\"13865\"],\"roots\":{\"13865\":\"4af31cd3-ba01-4f85-b588-8e4546966a0e\"}}];\n",
       "  root.Bokeh.embed.embed_items_notebook(docs_json, render_items);\n",
       "  }\n",
       "  if (root.Bokeh !== undefined) {\n",
       "    embed_document(root);\n",
       "  } else {\n",
       "    let attempts = 0;\n",
       "    const timer = setInterval(function(root) {\n",
       "      if (root.Bokeh !== undefined) {\n",
       "        clearInterval(timer);\n",
       "        embed_document(root);\n",
       "      } else {\n",
       "        attempts++;\n",
       "        if (attempts > 100) {\n",
       "          clearInterval(timer);\n",
       "          console.log(\"Bokeh: ERROR: Unable to run BokehJS code because BokehJS library is missing\");\n",
       "        }\n",
       "      }\n",
       "    }, 10, root)\n",
       "  }\n",
       "})(window);"
      ],
      "application/vnd.bokehjs_exec.v0+json": ""
     },
     "metadata": {
      "application/vnd.bokehjs_exec.v0+json": {
       "id": "13865"
      }
     },
     "output_type": "display_data"
    }
   ],
   "source": [
    "# prepare some data\n",
    "N = 100\n",
    "x = np.linspace(0, 4*np.pi, N)\n",
    "y0 = np.sin(x)\n",
    "y1 = np.cos(x)\n",
    "y2 = np.sin(x) + np.cos(x)\n",
    "\n",
    "# create a new plot\n",
    "s1 = figure(title=None)\n",
    "s1.circle(x, y0, size=3, color=\"navy\", alpha=0.5)\n",
    "\n",
    "# NEW: create a new plot and share both ranges\n",
    "s2 = figure(x_range=s1.x_range, y_range=s1.y_range, title=None)\n",
    "s2.circle(x, y1, size=3, color=\"firebrick\", alpha=0.5)\n",
    "\n",
    "# NEW: create a new plot and share only one range\n",
    "s3 = figure(x_range=s1.x_range, title=None)\n",
    "s3.circle(x, y2, size=3, color=\"olive\", alpha=0.5)\n",
    "\n",
    "# NEW: put the subplots in a gridplot\n",
    "p = gridplot([[s1, s2, s3]], toolbar_location=None, width=250, height=250)\n",
    "\n",
    "# show the results\n",
    "show(p)"
   ]
  },
  {
   "cell_type": "markdown",
   "metadata": {},
   "source": [
    "Another linkage that is often useful is linked brushing (where a selection on one plot causes a selection to update on other plots). Below is an example that demonstrates linked brushing by sharing a [ColumnDataSource](https://bokeh.pydata.org/en/latest/docs/reference/models/sources.html#bokeh.models.sources.ColumnDataSource) between two plots:"
   ]
  },
  {
   "cell_type": "code",
   "execution_count": 52,
   "metadata": {},
   "outputs": [
    {
     "data": {
      "text/html": [
       "\n",
       "  <div class=\"bk-root\" id=\"02fcca81-7796-4764-97ba-cf1657ca10d9\" data-root-id=\"14623\"></div>\n"
      ]
     },
     "metadata": {},
     "output_type": "display_data"
    },
    {
     "data": {
      "application/javascript": [
       "(function(root) {\n",
       "  function embed_document(root) {\n",
       "  const docs_json = {\"494a6712-fbdb-459a-b3e3-fd5cb4d5c8a8\":{\"defs\":[],\"roots\":{\"references\":[{\"attributes\":{\"children\":[{\"id\":\"14622\"},{\"id\":\"14620\"}]},\"id\":\"14623\",\"type\":\"Column\"},{\"attributes\":{},\"id\":\"14574\",\"type\":\"SaveTool\"},{\"attributes\":{},\"id\":\"14600\",\"type\":\"AllLabels\"},{\"attributes\":{\"toolbar\":{\"id\":\"14621\"},\"toolbar_location\":\"above\"},\"id\":\"14622\",\"type\":\"ToolbarBox\"},{\"attributes\":{\"toolbars\":[{\"id\":\"14538\"},{\"id\":\"14580\"}],\"tools\":[{\"id\":\"14528\"},{\"id\":\"14529\"},{\"id\":\"14530\"},{\"id\":\"14531\"},{\"id\":\"14532\"},{\"id\":\"14533\"},{\"id\":\"14534\"},{\"id\":\"14570\"},{\"id\":\"14571\"},{\"id\":\"14572\"},{\"id\":\"14573\"},{\"id\":\"14574\"},{\"id\":\"14575\"},{\"id\":\"14576\"}]},\"id\":\"14621\",\"type\":\"ProxyToolbar\"},{\"attributes\":{},\"id\":\"14609\",\"type\":\"BasicTickFormatter\"},{\"attributes\":{},\"id\":\"14610\",\"type\":\"AllLabels\"},{\"attributes\":{\"coordinates\":null,\"data_source\":{\"id\":\"14509\"},\"glyph\":{\"id\":\"14589\"},\"group\":null,\"hover_glyph\":null,\"muted_glyph\":{\"id\":\"14591\"},\"nonselection_glyph\":{\"id\":\"14590\"},\"view\":{\"id\":\"14593\"}},\"id\":\"14592\",\"type\":\"GlyphRenderer\"},{\"attributes\":{},\"id\":\"14612\",\"type\":\"BasicTickFormatter\"},{\"attributes\":{\"source\":{\"id\":\"14509\"}},\"id\":\"14593\",\"type\":\"CDSView\"},{\"attributes\":{},\"id\":\"14599\",\"type\":\"BasicTickFormatter\"},{\"attributes\":{},\"id\":\"14512\",\"type\":\"DataRange1d\"},{\"attributes\":{},\"id\":\"14613\",\"type\":\"AllLabels\"},{\"attributes\":{},\"id\":\"14554\",\"type\":\"DataRange1d\"},{\"attributes\":{},\"id\":\"14514\",\"type\":\"DataRange1d\"},{\"attributes\":{},\"id\":\"14601\",\"type\":\"UnionRenderers\"},{\"attributes\":{},\"id\":\"14573\",\"type\":\"ResetTool\"},{\"attributes\":{},\"id\":\"14532\",\"type\":\"SaveTool\"},{\"attributes\":{\"coordinates\":null,\"data_source\":{\"id\":\"14509\"},\"glyph\":{\"id\":\"14547\"},\"group\":null,\"hover_glyph\":null,\"muted_glyph\":{\"id\":\"14549\"},\"nonselection_glyph\":{\"id\":\"14548\"},\"view\":{\"id\":\"14551\"}},\"id\":\"14550\",\"type\":\"GlyphRenderer\"},{\"attributes\":{},\"id\":\"14531\",\"type\":\"ResetTool\"},{\"attributes\":{\"overlay\":{\"id\":\"14578\"}},\"id\":\"14572\",\"type\":\"BoxZoomTool\"},{\"attributes\":{\"overlay\":{\"id\":\"14536\"}},\"id\":\"14530\",\"type\":\"BoxZoomTool\"},{\"attributes\":{},\"id\":\"14602\",\"type\":\"Selection\"},{\"attributes\":{},\"id\":\"14528\",\"type\":\"PanTool\"},{\"attributes\":{},\"id\":\"14529\",\"type\":\"WheelZoomTool\"},{\"attributes\":{\"fill_alpha\":{\"value\":0.1},\"fill_color\":{\"value\":\"#1f77b4\"},\"hatch_alpha\":{\"value\":0.1},\"line_alpha\":{\"value\":0.1},\"line_color\":{\"value\":\"#1f77b4\"},\"x\":{\"field\":\"x\"},\"y\":{\"field\":\"y1\"}},\"id\":\"14590\",\"type\":\"Circle\"},{\"attributes\":{\"overlay\":{\"id\":\"14537\"}},\"id\":\"14534\",\"type\":\"LassoSelectTool\"},{\"attributes\":{\"coordinates\":null,\"fill_alpha\":0.5,\"fill_color\":\"lightgrey\",\"group\":null,\"level\":\"overlay\",\"line_alpha\":1.0,\"line_color\":\"black\",\"line_dash\":[4,4],\"line_width\":2,\"syncable\":false,\"xs_units\":\"screen\",\"ys_units\":\"screen\"},\"id\":\"14537\",\"type\":\"PolyAnnotation\"},{\"attributes\":{},\"id\":\"14525\",\"type\":\"BasicTicker\"},{\"attributes\":{\"axis\":{\"id\":\"14524\"},\"coordinates\":null,\"dimension\":1,\"group\":null,\"ticker\":null},\"id\":\"14527\",\"type\":\"Grid\"},{\"attributes\":{\"bottom_units\":\"screen\",\"coordinates\":null,\"fill_alpha\":0.5,\"fill_color\":\"lightgrey\",\"group\":null,\"left_units\":\"screen\",\"level\":\"overlay\",\"line_alpha\":1.0,\"line_color\":\"black\",\"line_dash\":[4,4],\"line_width\":2,\"right_units\":\"screen\",\"syncable\":false,\"top_units\":\"screen\"},\"id\":\"14535\",\"type\":\"BoxAnnotation\"},{\"attributes\":{},\"id\":\"14560\",\"type\":\"LinearScale\"},{\"attributes\":{\"bottom_units\":\"screen\",\"coordinates\":null,\"fill_alpha\":0.5,\"fill_color\":\"lightgrey\",\"group\":null,\"left_units\":\"screen\",\"level\":\"overlay\",\"line_alpha\":1.0,\"line_color\":\"black\",\"line_dash\":[4,4],\"line_width\":2,\"right_units\":\"screen\",\"syncable\":false,\"top_units\":\"screen\"},\"id\":\"14577\",\"type\":\"BoxAnnotation\"},{\"attributes\":{\"axis\":{\"id\":\"14520\"},\"coordinates\":null,\"group\":null,\"ticker\":null},\"id\":\"14523\",\"type\":\"Grid\"},{\"attributes\":{\"fill_alpha\":{\"value\":0.1},\"fill_color\":{\"value\":\"#1f77b4\"},\"hatch_alpha\":{\"value\":0.1},\"line_alpha\":{\"value\":0.1},\"line_color\":{\"value\":\"#1f77b4\"},\"x\":{\"field\":\"x\"},\"y\":{\"field\":\"y0\"}},\"id\":\"14548\",\"type\":\"Circle\"},{\"attributes\":{\"coordinates\":null,\"fill_alpha\":0.5,\"fill_color\":\"lightgrey\",\"group\":null,\"level\":\"overlay\",\"line_alpha\":1.0,\"line_color\":\"black\",\"line_dash\":[4,4],\"line_width\":2,\"syncable\":false,\"xs_units\":\"screen\",\"ys_units\":\"screen\"},\"id\":\"14579\",\"type\":\"PolyAnnotation\"},{\"attributes\":{},\"id\":\"14521\",\"type\":\"BasicTicker\"},{\"attributes\":{\"coordinates\":null,\"formatter\":{\"id\":\"14599\"},\"group\":null,\"major_label_policy\":{\"id\":\"14600\"},\"ticker\":{\"id\":\"14521\"}},\"id\":\"14520\",\"type\":\"LinearAxis\"},{\"attributes\":{\"bottom_units\":\"screen\",\"coordinates\":null,\"fill_alpha\":0.5,\"fill_color\":\"lightgrey\",\"group\":null,\"left_units\":\"screen\",\"level\":\"overlay\",\"line_alpha\":1.0,\"line_color\":\"black\",\"line_dash\":[4,4],\"line_width\":2,\"right_units\":\"screen\",\"syncable\":false,\"top_units\":\"screen\"},\"id\":\"14578\",\"type\":\"BoxAnnotation\"},{\"attributes\":{\"below\":[{\"id\":\"14562\"}],\"center\":[{\"id\":\"14565\"},{\"id\":\"14569\"}],\"height\":350,\"left\":[{\"id\":\"14566\"}],\"renderers\":[{\"id\":\"14592\"}],\"title\":null,\"toolbar\":{\"id\":\"14580\"},\"toolbar_location\":null,\"width\":350,\"x_range\":{\"id\":\"14554\"},\"x_scale\":{\"id\":\"14558\"},\"y_range\":{\"id\":\"14556\"},\"y_scale\":{\"id\":\"14560\"}},\"id\":\"14552\",\"subtype\":\"Figure\",\"type\":\"Plot\"},{\"attributes\":{\"bottom_units\":\"screen\",\"coordinates\":null,\"fill_alpha\":0.5,\"fill_color\":\"lightgrey\",\"group\":null,\"left_units\":\"screen\",\"level\":\"overlay\",\"line_alpha\":1.0,\"line_color\":\"black\",\"line_dash\":[4,4],\"line_width\":2,\"right_units\":\"screen\",\"syncable\":false,\"top_units\":\"screen\"},\"id\":\"14536\",\"type\":\"BoxAnnotation\"},{\"attributes\":{\"fill_color\":{\"value\":\"#1f77b4\"},\"line_color\":{\"value\":\"#1f77b4\"},\"x\":{\"field\":\"x\"},\"y\":{\"field\":\"y1\"}},\"id\":\"14589\",\"type\":\"Circle\"},{\"attributes\":{},\"id\":\"14518\",\"type\":\"LinearScale\"},{\"attributes\":{\"fill_color\":{\"value\":\"#1f77b4\"},\"line_color\":{\"value\":\"#1f77b4\"},\"x\":{\"field\":\"x\"},\"y\":{\"field\":\"y0\"}},\"id\":\"14547\",\"type\":\"Circle\"},{\"attributes\":{},\"id\":\"14567\",\"type\":\"BasicTicker\"},{\"attributes\":{\"fill_alpha\":{\"value\":0.2},\"fill_color\":{\"value\":\"#1f77b4\"},\"hatch_alpha\":{\"value\":0.2},\"line_alpha\":{\"value\":0.2},\"line_color\":{\"value\":\"#1f77b4\"},\"x\":{\"field\":\"x\"},\"y\":{\"field\":\"y0\"}},\"id\":\"14549\",\"type\":\"Circle\"},{\"attributes\":{\"coordinates\":null,\"formatter\":{\"id\":\"14596\"},\"group\":null,\"major_label_policy\":{\"id\":\"14597\"},\"ticker\":{\"id\":\"14525\"}},\"id\":\"14524\",\"type\":\"LinearAxis\"},{\"attributes\":{\"source\":{\"id\":\"14509\"}},\"id\":\"14551\",\"type\":\"CDSView\"},{\"attributes\":{\"tools\":[{\"id\":\"14570\"},{\"id\":\"14571\"},{\"id\":\"14572\"},{\"id\":\"14573\"},{\"id\":\"14574\"},{\"id\":\"14575\"},{\"id\":\"14576\"}]},\"id\":\"14580\",\"type\":\"Toolbar\"},{\"attributes\":{\"children\":[[{\"id\":\"14510\"},0,0],[{\"id\":\"14552\"},0,1]]},\"id\":\"14620\",\"type\":\"GridBox\"},{\"attributes\":{\"axis\":{\"id\":\"14566\"},\"coordinates\":null,\"dimension\":1,\"group\":null,\"ticker\":null},\"id\":\"14569\",\"type\":\"Grid\"},{\"attributes\":{\"below\":[{\"id\":\"14520\"}],\"center\":[{\"id\":\"14523\"},{\"id\":\"14527\"}],\"height\":350,\"left\":[{\"id\":\"14524\"}],\"renderers\":[{\"id\":\"14550\"}],\"title\":null,\"toolbar\":{\"id\":\"14538\"},\"toolbar_location\":null,\"width\":350,\"x_range\":{\"id\":\"14512\"},\"x_scale\":{\"id\":\"14516\"},\"y_range\":{\"id\":\"14514\"},\"y_scale\":{\"id\":\"14518\"}},\"id\":\"14510\",\"subtype\":\"Figure\",\"type\":\"Plot\"},{\"attributes\":{\"tools\":[{\"id\":\"14528\"},{\"id\":\"14529\"},{\"id\":\"14530\"},{\"id\":\"14531\"},{\"id\":\"14532\"},{\"id\":\"14533\"},{\"id\":\"14534\"}]},\"id\":\"14538\",\"type\":\"Toolbar\"},{\"attributes\":{},\"id\":\"14516\",\"type\":\"LinearScale\"},{\"attributes\":{\"axis\":{\"id\":\"14562\"},\"coordinates\":null,\"group\":null,\"ticker\":null},\"id\":\"14565\",\"type\":\"Grid\"},{\"attributes\":{},\"id\":\"14558\",\"type\":\"LinearScale\"},{\"attributes\":{\"coordinates\":null,\"formatter\":{\"id\":\"14612\"},\"group\":null,\"major_label_policy\":{\"id\":\"14613\"},\"ticker\":{\"id\":\"14563\"}},\"id\":\"14562\",\"type\":\"LinearAxis\"},{\"attributes\":{},\"id\":\"14596\",\"type\":\"BasicTickFormatter\"},{\"attributes\":{},\"id\":\"14571\",\"type\":\"WheelZoomTool\"},{\"attributes\":{\"overlay\":{\"id\":\"14535\"}},\"id\":\"14533\",\"type\":\"BoxSelectTool\"},{\"attributes\":{\"data\":{\"x\":{\"__ndarray__\":\"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\",\"dtype\":\"float64\",\"order\":\"little\",\"shape\":[300]},\"y0\":{\"__ndarray__\":\"AAAAAAAAAAAK5tpjEoOlP2szXHY1frU/PGJUCZUYwD9kzXNYyGrFP+eq4sdMs8o/Aqu2177vzz+juZ4+4I7SP86+fhp9HdU/2q/hCI6i1z9FdyBk7xzaP2mfYluCi9w/WiNLdC3t3j/Ktx2FbqDgP12EeeXBwuE/J8ApmA3d4j/g1Ij70e7jPxszD0mT9+Q/nWxJzdn25T8EtvYdMuzmP+dXN04t1+c/vnezIGG36D/7i6M3aIzpP9PDpELiVeo/PKpEKnQT6z8nVDA5yMTrPwl79EKOaew/yv48yHsB7T+Fa4MYTIztP8xIHXHACe4/0CecGaB57j9gnHJ9uNvuP2iI0kLdL+8/RGO6Xuh17z/taygmuq3vP0r/a1w51+8/cZmOPlPy7z8+Wc+L+/7vP2swLYss/e8/+z79Defs7z+PLoxvMs7vP1e4ypEcoe8/qdYG17ll7z+3eLQYJRzvPwLjSZt/xO4/pzk1//Be7j9HAfIup+vtP1GwRkrWau0/U7Ozjrjc7D8AjB49jkHsP6TyxHydmes/RxyFOzLl6j+qfIkLniTqP3mJZ/43WOk/KSvCfVyA6D/kp4EhbZ3nP07ss4PQr+Y/SSUpEvK35T+xo+HdQbbkP9z/Ymg0q+M/JGULb0KX4j9l1nq06HrhP2QZK8inVuA/EpSfmAdW3j9guTF0CPHbP7Ek5Uhnf9k/Tx+98j4C1z/C1ASEr3rUP9ksEcPd6dE/vI3ES+Whzj943sCXNWLJP/GF4usLF8Q//9OJ9JmFvT+YL6Egw8+yP0K9c//VIqA/cs+2kJeEhb8TwRIls+Kqv+naFkwMLLi/A09WpOhtwb+dyZDR6b3Gv+vbN8uiA8y/2zhtqlie0L+d3P91XDPTv1ZWu+yxv9W/xJ/JHzJC2L8wgG+Surnav0tOYr0tJd2/eMHfj3OD37/Buib3vOngv0lwE5caCuK/89mAR1Ai47/v9zhY3zHkv4UvTAJNOOW/TNaTnyI15r9u8lbg7Sfnv9Tu+P5AEOi/ueWa8bLt6L8REZmZ37/pvzfozvBnhuq/vnONNPJA67+6ajAOKu/rv3nAP7nAkOy/NWUMJ20l7b/7H7gf7Kztv4eSmWAAJ+6/3anut3KT7r+q9dAdEvLuvzaeYMqzQu+/MPMbSTOF77+J1FqJcrnvv8SB5utZ3++/cKqnTdj277+T62UP4//vv245lRp2+u+/jgkv45Pm779pZ5ZmRcTvv8hzhyeak++/eCUUJ6hU77/odrHaiwfvvz2AWR9orO6/9E7IKWZD7r+Zm9pztcztv8nJFqeLSO2/4eZphCS37L+DnyPJwRjsv9tiPRGrbeu/jSP6ti226r/3We2vnPLpvygXeWdQI+m/FB7UlqZI6L/ZFaoaAmPnv5v9aMbKcua/YxdQNW145b8Gg1WZWnTkv768+IcIZ+O/fyIZxfBQ4r9fiegLkTLhv/zGEtZqDOC/ecRnQga+3b+6xW5lxFXbv0Ded7Qm4di/7iQuZUlh1r9XTyvDTdfTv2jkK61ZRNG/DOJjIC5Tzb+doKTBZhDIv8bb0iW+wsK/NIXUPzTZur/4d0exyCCwvwFWn7lJhJW/dFWfuUmElT/Vd0exyCCwPxGF1D802bo/1NvSJb7Cwj+roKTBZhDIP/vhYyAuU80/YOQrrVlE0T9PTyvDTdfTP+YkLmVJYdY/ON53tCbh2D/BxW5lxFXbP3/EZ0IGvt0/+MYS1moM4D9biegLkTLhP3siGcXwUOI/u7z4hwhn4z8Cg1WZWnTkP2AXUDVteOU/nv1oxspy5j/bFaoaAmPnPxEe1JamSOg/JRd5Z1Aj6T/1We2vnPLpP4sj+rYttuo/2WI9Eatt6z+FnyPJwRjsP+LmaYQkt+w/yMkWp4tI7T+Ym9pztcztP/JOyClmQ+4/PIBZH2is7j/ndrHaiwfvP3clFCeoVO8/yHOHJ5qT7z9pZ5ZmRcTvP40JL+OT5u8/bTmVGnb67z+T62UP4//vP3Cqp03Y9u8/xYHm61nf7z+J1FqJcrnvPzHzG0kzhe8/N55gyrNC7z+r9dAdEvLuP9+p7rdyk+4/iZKZYAAn7j/9H7gf7KztPzdlDCdtJe0/eMA/ucCQ7D+4ajAOKu/rP7xzjTTyQOs/NejO8GeG6j8PEZmZ37/pP7blmvGy7eg/2u74/kAQ6D908lbg7SfnP1LWk58iNeY/iC9MAk045T/z9zhY3zHkP/fZgEdQIuM/TXATlxoK4j/Buib3vOngP3nB349zg98/TE5ivS0l3T8wgG+SurnaP72fyR8yQtg/UFa77LG/1T+W3P91XDPTP9Q4bapYntA/C9w3y6IDzD++yZDR6b3GPyVPVqTobcE/DNsWTAwsuD9ZwRIls+KqP43QtpCXhIU/+7xz/9UioL+VL6Egw8+yv/zTifSZhb2/8IXi6wsXxL933sCXNWLJv8qNxEvloc6/3ywRw93p0b/J1ASEr3rUv1YfvfI+Ate/oiTlSGd/2b9RuTF0CPHbvwOUn5gHVt6/YBkryKdW4L9h1nq06HrhvyFlC29Cl+K/2f9iaDSr47+xo+HdQbbkv0klKRLyt+W/Tuyzg9Cv5r/kp4EhbZ3nvysrwn1cgOi/e4ln/jdY6b+sfIkLniTqv0kchTsy5eq/oPLEfJ2Z67/8ix49jkHsv0+zs4643Oy/T7BGStZq7b9FAfIup+vtv6Y5Nf/wXu6/AuNJm3/E7r+2eLQYJRzvv6nWBte5Ze+/V7jKkRyh77+QLoxvMs7vv/w+/Q3n7O+/azAtiyz9778+Wc+L+/7vv3GZjj5T8u+/S/9rXDnX77/uaygmuq3vv0Vjul7ode+/aYjSQt0v779hnHJ9uNvuv9InnBmgee6/zUgdccAJ7r+Ga4MYTIztv8r+PMh7Ae2/CXv0Qo5p7L8nVDA5yMTrvzyqRCp0E+u/0cOkQuJV6r/4i6M3aIzpv7p3syBht+i/7lc3Ti3X578KtvYdMuzmv6JsSc3Z9uW/IDMPSZP35L/k1Ij70e7jvyvAKZgN3eK/YIR55cHC4b/Mtx2FbqDgv10jS3Qt7d6/aZ9iW4KL3L9EdyBk7xzav9av4QiOote/yL5+Gn0d1b+buZ4+4I7Sv++qtte+78+/DKvix0yzyr+GzXNYyGrFv1tiVAmVGMC/nzNcdjV+tb9h5tpjEoOlvwdcFDMmpsG8\",\"dtype\":\"float64\",\"order\":\"little\",\"shape\":[300]},\"y1\":{\"__ndarray__\":\"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\",\"dtype\":\"float64\",\"order\":\"little\",\"shape\":[300]}},\"selected\":{\"id\":\"14602\"},\"selection_policy\":{\"id\":\"14601\"}},\"id\":\"14509\",\"type\":\"ColumnDataSource\"},{\"attributes\":{\"fill_alpha\":{\"value\":0.2},\"fill_color\":{\"value\":\"#1f77b4\"},\"hatch_alpha\":{\"value\":0.2},\"line_alpha\":{\"value\":0.2},\"line_color\":{\"value\":\"#1f77b4\"},\"x\":{\"field\":\"x\"},\"y\":{\"field\":\"y1\"}},\"id\":\"14591\",\"type\":\"Circle\"},{\"attributes\":{},\"id\":\"14563\",\"type\":\"BasicTicker\"},{\"attributes\":{},\"id\":\"14597\",\"type\":\"AllLabels\"},{\"attributes\":{},\"id\":\"14570\",\"type\":\"PanTool\"},{\"attributes\":{\"coordinates\":null,\"formatter\":{\"id\":\"14609\"},\"group\":null,\"major_label_policy\":{\"id\":\"14610\"},\"ticker\":{\"id\":\"14567\"}},\"id\":\"14566\",\"type\":\"LinearAxis\"},{\"attributes\":{},\"id\":\"14556\",\"type\":\"DataRange1d\"},{\"attributes\":{\"overlay\":{\"id\":\"14577\"}},\"id\":\"14575\",\"type\":\"BoxSelectTool\"},{\"attributes\":{\"overlay\":{\"id\":\"14579\"}},\"id\":\"14576\",\"type\":\"LassoSelectTool\"}],\"root_ids\":[\"14623\"]},\"title\":\"Bokeh Application\",\"version\":\"2.4.3\"}};\n",
       "  const render_items = [{\"docid\":\"494a6712-fbdb-459a-b3e3-fd5cb4d5c8a8\",\"root_ids\":[\"14623\"],\"roots\":{\"14623\":\"02fcca81-7796-4764-97ba-cf1657ca10d9\"}}];\n",
       "  root.Bokeh.embed.embed_items_notebook(docs_json, render_items);\n",
       "  }\n",
       "  if (root.Bokeh !== undefined) {\n",
       "    embed_document(root);\n",
       "  } else {\n",
       "    let attempts = 0;\n",
       "    const timer = setInterval(function(root) {\n",
       "      if (root.Bokeh !== undefined) {\n",
       "        clearInterval(timer);\n",
       "        embed_document(root);\n",
       "      } else {\n",
       "        attempts++;\n",
       "        if (attempts > 100) {\n",
       "          clearInterval(timer);\n",
       "          console.log(\"Bokeh: ERROR: Unable to run BokehJS code because BokehJS library is missing\");\n",
       "        }\n",
       "      }\n",
       "    }, 10, root)\n",
       "  }\n",
       "})(window);"
      ],
      "application/vnd.bokehjs_exec.v0+json": ""
     },
     "metadata": {
      "application/vnd.bokehjs_exec.v0+json": {
       "id": "14623"
      }
     },
     "output_type": "display_data"
    }
   ],
   "source": [
    "from bokeh.models import ColumnDataSource\n",
    "# prepare some date\n",
    "N = 300\n",
    "x = np.linspace(0, 4*np.pi, N)\n",
    "y0 = np.sin(x)\n",
    "y1 = np.cos(x)\n",
    "\n",
    "# NEW: create a column data source for the plots to share\n",
    "source = ColumnDataSource(data=dict(x=x, y0=y0, y1=y1))\n",
    "\n",
    "TOOLS = \"pan,wheel_zoom,box_zoom,reset,save,box_select,lasso_select\"\n",
    "\n",
    "# create a new plot and add a renderer\n",
    "left = figure(tools=TOOLS, width=350, height=350, title=None)\n",
    "left.circle('x', 'y0', source=source)\n",
    "\n",
    "# create another new plot and add a renderer\n",
    "right = figure(tools=TOOLS, width=350, height=350, title=None)\n",
    "right.circle('x', 'y1', source=source)\n",
    "\n",
    "# put the subplots in a gridplot\n",
    "p = gridplot([[left, right]])\n",
    "\n",
    "# show the results\n",
    "show(p)"
   ]
  },
  {
   "cell_type": "markdown",
   "metadata": {},
   "source": [
    "### Linked Selection"
   ]
  },
  {
   "cell_type": "code",
   "execution_count": 53,
   "metadata": {},
   "outputs": [
    {
     "data": {
      "text/html": [
       "\n",
       "  <div class=\"bk-root\" id=\"861217ad-cd34-497e-adce-67923b6da583\" data-root-id=\"15343\"></div>\n"
      ]
     },
     "metadata": {},
     "output_type": "display_data"
    },
    {
     "data": {
      "application/javascript": [
       "(function(root) {\n",
       "  function embed_document(root) {\n",
       "  const docs_json = {\"2fe159b7-3ae8-4b25-8fa0-5b89c536a6a6\":{\"defs\":[],\"roots\":{\"references\":[{\"attributes\":{\"children\":[{\"id\":\"15342\"},{\"id\":\"15340\"}]},\"id\":\"15343\",\"type\":\"Column\"},{\"attributes\":{},\"id\":\"15331\",\"type\":\"AllLabels\"},{\"attributes\":{},\"id\":\"15323\",\"type\":\"UnionRenderers\"},{\"attributes\":{},\"id\":\"15324\",\"type\":\"Selection\"},{\"attributes\":{},\"id\":\"15334\",\"type\":\"AllLabels\"},{\"attributes\":{},\"id\":\"15318\",\"type\":\"BasicTickFormatter\"},{\"attributes\":{\"fill_color\":{\"value\":\"#1f77b4\"},\"line_color\":{\"value\":\"#1f77b4\"},\"x\":{\"field\":\"x\"},\"y\":{\"field\":\"y1\"}},\"id\":\"15311\",\"type\":\"Circle\"},{\"attributes\":{\"source\":{\"id\":\"15249\"}},\"id\":\"15282\",\"type\":\"CDSView\"},{\"attributes\":{\"children\":[[{\"id\":\"15250\"},0,0],[{\"id\":\"15283\"},0,1]]},\"id\":\"15340\",\"type\":\"GridBox\"},{\"attributes\":{\"below\":[{\"id\":\"15260\"}],\"center\":[{\"id\":\"15263\"},{\"id\":\"15267\"}],\"height\":300,\"left\":[{\"id\":\"15264\"}],\"renderers\":[{\"id\":\"15281\"}],\"title\":null,\"toolbar\":{\"id\":\"15273\"},\"toolbar_location\":null,\"width\":300,\"x_range\":{\"id\":\"15252\"},\"x_scale\":{\"id\":\"15256\"},\"y_range\":{\"id\":\"15254\"},\"y_scale\":{\"id\":\"15258\"}},\"id\":\"15250\",\"subtype\":\"Figure\",\"type\":\"Plot\"},{\"attributes\":{},\"id\":\"15294\",\"type\":\"BasicTicker\"},{\"attributes\":{\"overlay\":{\"id\":\"15271\"}},\"id\":\"15268\",\"type\":\"BoxSelectTool\"},{\"attributes\":{},\"id\":\"15322\",\"type\":\"AllLabels\"},{\"attributes\":{\"axis\":{\"id\":\"15264\"},\"coordinates\":null,\"dimension\":1,\"group\":null,\"ticker\":null},\"id\":\"15267\",\"type\":\"Grid\"},{\"attributes\":{\"coordinates\":null,\"fill_alpha\":0.5,\"fill_color\":\"lightgrey\",\"group\":null,\"level\":\"overlay\",\"line_alpha\":1.0,\"line_color\":\"black\",\"line_dash\":[4,4],\"line_width\":2,\"syncable\":false,\"xs_units\":\"screen\",\"ys_units\":\"screen\"},\"id\":\"15272\",\"type\":\"PolyAnnotation\"},{\"attributes\":{},\"id\":\"15291\",\"type\":\"LinearScale\"},{\"attributes\":{\"coordinates\":null,\"formatter\":{\"id\":\"15318\"},\"group\":null,\"major_label_policy\":{\"id\":\"15319\"},\"ticker\":{\"id\":\"15265\"}},\"id\":\"15264\",\"type\":\"LinearAxis\"},{\"attributes\":{\"fill_alpha\":{\"value\":0.1},\"fill_color\":{\"value\":\"#1f77b4\"},\"hatch_alpha\":{\"value\":0.1},\"line_alpha\":{\"value\":0.1},\"line_color\":{\"value\":\"#1f77b4\"},\"x\":{\"field\":\"x\"},\"y\":{\"field\":\"y0\"}},\"id\":\"15279\",\"type\":\"Circle\"},{\"attributes\":{\"overlay\":{\"id\":\"15305\"}},\"id\":\"15302\",\"type\":\"LassoSelectTool\"},{\"attributes\":{\"tools\":[{\"id\":\"15268\"},{\"id\":\"15269\"},{\"id\":\"15270\"}]},\"id\":\"15273\",\"type\":\"Toolbar\"},{\"attributes\":{\"coordinates\":null,\"formatter\":{\"id\":\"15321\"},\"group\":null,\"major_label_policy\":{\"id\":\"15322\"},\"ticker\":{\"id\":\"15261\"}},\"id\":\"15260\",\"type\":\"LinearAxis\"},{\"attributes\":{\"source\":{\"id\":\"15249\"}},\"id\":\"15315\",\"type\":\"CDSView\"},{\"attributes\":{},\"id\":\"15333\",\"type\":\"BasicTickFormatter\"},{\"attributes\":{\"axis\":{\"id\":\"15293\"},\"coordinates\":null,\"group\":null,\"ticker\":null},\"id\":\"15296\",\"type\":\"Grid\"},{\"attributes\":{\"fill_alpha\":{\"value\":0.2},\"fill_color\":{\"value\":\"#1f77b4\"},\"hatch_alpha\":{\"value\":0.2},\"line_alpha\":{\"value\":0.2},\"line_color\":{\"value\":\"#1f77b4\"},\"x\":{\"field\":\"x\"},\"y\":{\"field\":\"y1\"}},\"id\":\"15313\",\"type\":\"Circle\"},{\"attributes\":{},\"id\":\"15258\",\"type\":\"LinearScale\"},{\"attributes\":{},\"id\":\"15303\",\"type\":\"HelpTool\"},{\"attributes\":{\"overlay\":{\"id\":\"15272\"}},\"id\":\"15269\",\"type\":\"LassoSelectTool\"},{\"attributes\":{\"axis\":{\"id\":\"15297\"},\"coordinates\":null,\"dimension\":1,\"group\":null,\"ticker\":null},\"id\":\"15300\",\"type\":\"Grid\"},{\"attributes\":{},\"id\":\"15289\",\"type\":\"LinearScale\"},{\"attributes\":{\"coordinates\":null,\"formatter\":{\"id\":\"15330\"},\"group\":null,\"major_label_policy\":{\"id\":\"15331\"},\"ticker\":{\"id\":\"15298\"}},\"id\":\"15297\",\"type\":\"LinearAxis\"},{\"attributes\":{\"fill_alpha\":{\"value\":0.2},\"fill_color\":{\"value\":\"#1f77b4\"},\"hatch_alpha\":{\"value\":0.2},\"line_alpha\":{\"value\":0.2},\"line_color\":{\"value\":\"#1f77b4\"},\"x\":{\"field\":\"x\"},\"y\":{\"field\":\"y0\"}},\"id\":\"15280\",\"type\":\"Circle\"},{\"attributes\":{},\"id\":\"15256\",\"type\":\"LinearScale\"},{\"attributes\":{\"coordinates\":null,\"data_source\":{\"id\":\"15249\"},\"glyph\":{\"id\":\"15278\"},\"group\":null,\"hover_glyph\":null,\"muted_glyph\":{\"id\":\"15280\"},\"nonselection_glyph\":{\"id\":\"15279\"},\"view\":{\"id\":\"15282\"}},\"id\":\"15281\",\"type\":\"GlyphRenderer\"},{\"attributes\":{\"overlay\":{\"id\":\"15304\"}},\"id\":\"15301\",\"type\":\"BoxSelectTool\"},{\"attributes\":{},\"id\":\"15261\",\"type\":\"BasicTicker\"},{\"attributes\":{\"coordinates\":null,\"fill_alpha\":0.5,\"fill_color\":\"lightgrey\",\"group\":null,\"level\":\"overlay\",\"line_alpha\":1.0,\"line_color\":\"black\",\"line_dash\":[4,4],\"line_width\":2,\"syncable\":false,\"xs_units\":\"screen\",\"ys_units\":\"screen\"},\"id\":\"15305\",\"type\":\"PolyAnnotation\"},{\"attributes\":{},\"id\":\"15298\",\"type\":\"BasicTicker\"},{\"attributes\":{},\"id\":\"15265\",\"type\":\"BasicTicker\"},{\"attributes\":{\"fill_alpha\":{\"value\":0.1},\"fill_color\":{\"value\":\"#1f77b4\"},\"hatch_alpha\":{\"value\":0.1},\"line_alpha\":{\"value\":0.1},\"line_color\":{\"value\":\"#1f77b4\"},\"x\":{\"field\":\"x\"},\"y\":{\"field\":\"y1\"}},\"id\":\"15312\",\"type\":\"Circle\"},{\"attributes\":{},\"id\":\"15330\",\"type\":\"BasicTickFormatter\"},{\"attributes\":{},\"id\":\"15321\",\"type\":\"BasicTickFormatter\"},{\"attributes\":{\"below\":[{\"id\":\"15293\"}],\"center\":[{\"id\":\"15296\"},{\"id\":\"15300\"}],\"height\":300,\"left\":[{\"id\":\"15297\"}],\"renderers\":[{\"id\":\"15314\"}],\"title\":null,\"toolbar\":{\"id\":\"15306\"},\"toolbar_location\":null,\"width\":300,\"x_range\":{\"id\":\"15285\"},\"x_scale\":{\"id\":\"15289\"},\"y_range\":{\"id\":\"15287\"},\"y_scale\":{\"id\":\"15291\"}},\"id\":\"15283\",\"subtype\":\"Figure\",\"type\":\"Plot\"},{\"attributes\":{\"bottom_units\":\"screen\",\"coordinates\":null,\"fill_alpha\":0.5,\"fill_color\":\"lightgrey\",\"group\":null,\"left_units\":\"screen\",\"level\":\"overlay\",\"line_alpha\":1.0,\"line_color\":\"black\",\"line_dash\":[4,4],\"line_width\":2,\"right_units\":\"screen\",\"syncable\":false,\"top_units\":\"screen\"},\"id\":\"15271\",\"type\":\"BoxAnnotation\"},{\"attributes\":{\"toolbar\":{\"id\":\"15341\"},\"toolbar_location\":\"above\"},\"id\":\"15342\",\"type\":\"ToolbarBox\"},{\"attributes\":{},\"id\":\"15285\",\"type\":\"DataRange1d\"},{\"attributes\":{\"toolbars\":[{\"id\":\"15273\"},{\"id\":\"15306\"}],\"tools\":[{\"id\":\"15268\"},{\"id\":\"15269\"},{\"id\":\"15270\"},{\"id\":\"15301\"},{\"id\":\"15302\"},{\"id\":\"15303\"}]},\"id\":\"15341\",\"type\":\"ProxyToolbar\"},{\"attributes\":{\"axis\":{\"id\":\"15260\"},\"coordinates\":null,\"group\":null,\"ticker\":null},\"id\":\"15263\",\"type\":\"Grid\"},{\"attributes\":{\"coordinates\":null,\"data_source\":{\"id\":\"15249\"},\"glyph\":{\"id\":\"15311\"},\"group\":null,\"hover_glyph\":null,\"muted_glyph\":{\"id\":\"15313\"},\"nonselection_glyph\":{\"id\":\"15312\"},\"view\":{\"id\":\"15315\"}},\"id\":\"15314\",\"type\":\"GlyphRenderer\"},{\"attributes\":{\"bottom_units\":\"screen\",\"coordinates\":null,\"fill_alpha\":0.5,\"fill_color\":\"lightgrey\",\"group\":null,\"left_units\":\"screen\",\"level\":\"overlay\",\"line_alpha\":1.0,\"line_color\":\"black\",\"line_dash\":[4,4],\"line_width\":2,\"right_units\":\"screen\",\"syncable\":false,\"top_units\":\"screen\"},\"id\":\"15304\",\"type\":\"BoxAnnotation\"},{\"attributes\":{\"data\":{\"x\":[-20,-19,-18,-17,-16,-15,-14,-13,-12,-11,-10,-9,-8,-7,-6,-5,-4,-3,-2,-1,0,1,2,3,4,5,6,7,8,9,10,11,12,13,14,15,16,17,18,19,20],\"y0\":[20,19,18,17,16,15,14,13,12,11,10,9,8,7,6,5,4,3,2,1,0,1,2,3,4,5,6,7,8,9,10,11,12,13,14,15,16,17,18,19,20],\"y1\":[400,361,324,289,256,225,196,169,144,121,100,81,64,49,36,25,16,9,4,1,0,1,4,9,16,25,36,49,64,81,100,121,144,169,196,225,256,289,324,361,400]},\"selected\":{\"id\":\"15324\"},\"selection_policy\":{\"id\":\"15323\"}},\"id\":\"15249\",\"type\":\"ColumnDataSource\"},{\"attributes\":{\"tools\":[{\"id\":\"15301\"},{\"id\":\"15302\"},{\"id\":\"15303\"}]},\"id\":\"15306\",\"type\":\"Toolbar\"},{\"attributes\":{},\"id\":\"15252\",\"type\":\"DataRange1d\"},{\"attributes\":{\"coordinates\":null,\"formatter\":{\"id\":\"15333\"},\"group\":null,\"major_label_policy\":{\"id\":\"15334\"},\"ticker\":{\"id\":\"15294\"}},\"id\":\"15293\",\"type\":\"LinearAxis\"},{\"attributes\":{\"fill_color\":{\"value\":\"#1f77b4\"},\"line_color\":{\"value\":\"#1f77b4\"},\"x\":{\"field\":\"x\"},\"y\":{\"field\":\"y0\"}},\"id\":\"15278\",\"type\":\"Circle\"},{\"attributes\":{},\"id\":\"15254\",\"type\":\"DataRange1d\"},{\"attributes\":{},\"id\":\"15319\",\"type\":\"AllLabels\"},{\"attributes\":{},\"id\":\"15270\",\"type\":\"HelpTool\"},{\"attributes\":{},\"id\":\"15287\",\"type\":\"DataRange1d\"}],\"root_ids\":[\"15343\"]},\"title\":\"Bokeh Application\",\"version\":\"2.4.3\"}};\n",
       "  const render_items = [{\"docid\":\"2fe159b7-3ae8-4b25-8fa0-5b89c536a6a6\",\"root_ids\":[\"15343\"],\"roots\":{\"15343\":\"861217ad-cd34-497e-adce-67923b6da583\"}}];\n",
       "  root.Bokeh.embed.embed_items_notebook(docs_json, render_items);\n",
       "  }\n",
       "  if (root.Bokeh !== undefined) {\n",
       "    embed_document(root);\n",
       "  } else {\n",
       "    let attempts = 0;\n",
       "    const timer = setInterval(function(root) {\n",
       "      if (root.Bokeh !== undefined) {\n",
       "        clearInterval(timer);\n",
       "        embed_document(root);\n",
       "      } else {\n",
       "        attempts++;\n",
       "        if (attempts > 100) {\n",
       "          clearInterval(timer);\n",
       "          console.log(\"Bokeh: ERROR: Unable to run BokehJS code because BokehJS library is missing\");\n",
       "        }\n",
       "      }\n",
       "    }, 10, root)\n",
       "  }\n",
       "})(window);"
      ],
      "application/vnd.bokehjs_exec.v0+json": ""
     },
     "metadata": {
      "application/vnd.bokehjs_exec.v0+json": {
       "id": "15343"
      }
     },
     "output_type": "display_data"
    }
   ],
   "source": [
    "from bokeh.io import output_file, show\n",
    "from bokeh.layouts import gridplot\n",
    "from bokeh.models import ColumnDataSource\n",
    "from bokeh.plotting import figure\n",
    "\n",
    "x = list(range(-20, 21))\n",
    "y0 = [abs(xx) for xx in x]\n",
    "y1 = [xx**2 for xx in x]\n",
    "\n",
    "# create a column data source for the plots to share\n",
    "source = ColumnDataSource(data=dict(x=x, y0=y0, y1=y1))\n",
    "\n",
    "TOOLS = \"box_select,lasso_select,help\"\n",
    "\n",
    "# create a new plot and add a renderer\n",
    "left = figure(tools=TOOLS, plot_width=300, plot_height=300, title=None)\n",
    "left.circle('x', 'y0', source=source)\n",
    "\n",
    "# create another new plot and add a renderer\n",
    "right = figure(tools=TOOLS, plot_width=300, plot_height=300, title=None)\n",
    "right.circle('x', 'y1', source=source)\n",
    "\n",
    "p = gridplot([[left, right]])\n",
    "\n",
    "show(p)"
   ]
  },
  {
   "cell_type": "markdown",
   "metadata": {},
   "source": [
    "### Linked selection with filtered data"
   ]
  },
  {
   "cell_type": "code",
   "execution_count": 54,
   "metadata": {},
   "outputs": [
    {
     "data": {
      "text/html": [
       "\n",
       "  <div class=\"bk-root\" id=\"4db35d04-cb7d-4af5-b0ea-925cc7e4dff9\" data-root-id=\"16072\"></div>\n"
      ]
     },
     "metadata": {},
     "output_type": "display_data"
    },
    {
     "data": {
      "application/javascript": [
       "(function(root) {\n",
       "  function embed_document(root) {\n",
       "  const docs_json = {\"b3fd0f74-3db4-4d7e-a37f-1d2d96eb654f\":{\"defs\":[],\"roots\":{\"references\":[{\"attributes\":{\"children\":[{\"id\":\"16071\"},{\"id\":\"16069\"}]},\"id\":\"16072\",\"type\":\"Column\"},{\"attributes\":{\"fill_alpha\":{\"value\":0.2},\"fill_color\":{\"value\":\"#1f77b4\"},\"hatch_alpha\":{\"value\":0.2},\"line_alpha\":{\"value\":0.2},\"line_color\":{\"value\":\"#1f77b4\"},\"size\":{\"value\":10},\"x\":{\"field\":\"x\"},\"y\":{\"field\":\"y0\"}},\"id\":\"16011\",\"type\":\"Circle\"},{\"attributes\":{\"bottom_units\":\"screen\",\"coordinates\":null,\"fill_alpha\":0.5,\"fill_color\":\"lightgrey\",\"group\":null,\"left_units\":\"screen\",\"level\":\"overlay\",\"line_alpha\":1.0,\"line_color\":\"black\",\"line_dash\":[4,4],\"line_width\":2,\"right_units\":\"screen\",\"syncable\":false,\"top_units\":\"screen\"},\"id\":\"16034\",\"type\":\"BoxAnnotation\"},{\"attributes\":{\"source\":{\"id\":\"15979\"}},\"id\":\"16013\",\"type\":\"CDSView\"},{\"attributes\":{},\"id\":\"15986\",\"type\":\"DataRange1d\"},{\"attributes\":{\"fill_alpha\":{\"value\":0.1},\"fill_color\":{\"value\":\"#1f77b4\"},\"hatch_alpha\":{\"value\":0.1},\"line_alpha\":{\"value\":0.1},\"line_color\":{\"value\":\"#1f77b4\"},\"size\":{\"value\":10},\"x\":{\"field\":\"x\"},\"y\":{\"field\":\"y1\"}},\"id\":\"16041\",\"type\":\"Circle\"},{\"attributes\":{\"coordinates\":null,\"formatter\":{\"id\":\"16047\"},\"group\":null,\"major_label_policy\":{\"id\":\"16048\"},\"ticker\":{\"id\":\"15997\"}},\"id\":\"15996\",\"type\":\"LinearAxis\"},{\"attributes\":{},\"id\":\"16022\",\"type\":\"LinearScale\"},{\"attributes\":{},\"id\":\"15993\",\"type\":\"BasicTicker\"},{\"attributes\":{\"overlay\":{\"id\":\"16034\"}},\"id\":\"16032\",\"type\":\"BoxSelectTool\"},{\"attributes\":{\"fill_color\":{\"value\":\"firebrick\"},\"hatch_color\":{\"value\":\"firebrick\"},\"line_color\":{\"value\":\"firebrick\"},\"size\":{\"value\":10},\"x\":{\"field\":\"x\"},\"y\":{\"field\":\"y0\"}},\"id\":\"16010\",\"type\":\"Circle\"},{\"attributes\":{\"children\":[[{\"id\":\"15982\"},0,0],[{\"id\":\"16014\"},0,1]]},\"id\":\"16069\",\"type\":\"GridBox\"},{\"attributes\":{},\"id\":\"15990\",\"type\":\"LinearScale\"},{\"attributes\":{\"toolbar\":{\"id\":\"16070\"},\"toolbar_location\":\"above\"},\"id\":\"16071\",\"type\":\"ToolbarBox\"},{\"attributes\":{\"axis\":{\"id\":\"15992\"},\"coordinates\":null,\"group\":null,\"ticker\":null},\"id\":\"15995\",\"type\":\"Grid\"},{\"attributes\":{\"tools\":[{\"id\":\"16000\"},{\"id\":\"16001\"}]},\"id\":\"16004\",\"type\":\"Toolbar\"},{\"attributes\":{\"axis\":{\"id\":\"15996\"},\"coordinates\":null,\"dimension\":1,\"group\":null,\"ticker\":null},\"id\":\"15999\",\"type\":\"Grid\"},{\"attributes\":{\"fill_color\":{\"value\":\"firebrick\"},\"hatch_color\":{\"value\":\"firebrick\"},\"line_color\":{\"value\":\"firebrick\"},\"size\":{\"value\":10},\"x\":{\"field\":\"x\"},\"y\":{\"field\":\"y1\"}},\"id\":\"16042\",\"type\":\"Circle\"},{\"attributes\":{},\"id\":\"16059\",\"type\":\"BasicTickFormatter\"},{\"attributes\":{\"toolbars\":[{\"id\":\"16004\"},{\"id\":\"16036\"}],\"tools\":[{\"id\":\"16000\"},{\"id\":\"16001\"},{\"id\":\"16032\"},{\"id\":\"16033\"}]},\"id\":\"16070\",\"type\":\"ProxyToolbar\"},{\"attributes\":{\"coordinates\":null,\"formatter\":{\"id\":\"16050\"},\"group\":null,\"major_label_policy\":{\"id\":\"16051\"},\"ticker\":{\"id\":\"15993\"}},\"id\":\"15992\",\"type\":\"LinearAxis\"},{\"attributes\":{},\"id\":\"15984\",\"type\":\"DataRange1d\"},{\"attributes\":{},\"id\":\"16060\",\"type\":\"AllLabels\"},{\"attributes\":{\"coordinates\":null,\"formatter\":{\"id\":\"16059\"},\"group\":null,\"major_label_policy\":{\"id\":\"16060\"},\"ticker\":{\"id\":\"16029\"}},\"id\":\"16028\",\"type\":\"LinearAxis\"},{\"attributes\":{},\"id\":\"15997\",\"type\":\"BasicTicker\"},{\"attributes\":{},\"id\":\"16016\",\"type\":\"DataRange1d\"},{\"attributes\":{},\"id\":\"16062\",\"type\":\"BasicTickFormatter\"},{\"attributes\":{\"below\":[{\"id\":\"15992\"}],\"center\":[{\"id\":\"15995\"},{\"id\":\"15999\"}],\"height\":300,\"left\":[{\"id\":\"15996\"}],\"renderers\":[{\"id\":\"16012\"}],\"title\":null,\"toolbar\":{\"id\":\"16004\"},\"toolbar_location\":null,\"width\":300,\"x_range\":{\"id\":\"15984\"},\"x_scale\":{\"id\":\"15988\"},\"y_range\":{\"id\":\"15986\"},\"y_scale\":{\"id\":\"15990\"}},\"id\":\"15982\",\"subtype\":\"Figure\",\"type\":\"Plot\"},{\"attributes\":{},\"id\":\"16047\",\"type\":\"BasicTickFormatter\"},{\"attributes\":{\"overlay\":{\"id\":\"16003\"}},\"id\":\"16001\",\"type\":\"LassoSelectTool\"},{\"attributes\":{\"coordinates\":null,\"data_source\":{\"id\":\"15979\"},\"glyph\":{\"id\":\"16008\"},\"group\":null,\"hover_glyph\":{\"id\":\"16010\"},\"muted_glyph\":{\"id\":\"16011\"},\"nonselection_glyph\":{\"id\":\"16009\"},\"view\":{\"id\":\"16013\"}},\"id\":\"16012\",\"type\":\"GlyphRenderer\"},{\"attributes\":{\"overlay\":{\"id\":\"16002\"}},\"id\":\"16000\",\"type\":\"BoxSelectTool\"},{\"attributes\":{},\"id\":\"16063\",\"type\":\"AllLabels\"},{\"attributes\":{\"fill_color\":{\"value\":\"#1f77b4\"},\"line_color\":{\"value\":\"#1f77b4\"},\"size\":{\"value\":10},\"x\":{\"field\":\"x\"},\"y\":{\"field\":\"y1\"}},\"id\":\"16040\",\"type\":\"Circle\"},{\"attributes\":{\"axis\":{\"id\":\"16024\"},\"coordinates\":null,\"group\":null,\"ticker\":null},\"id\":\"16027\",\"type\":\"Grid\"},{\"attributes\":{\"fill_alpha\":{\"value\":0.1},\"fill_color\":{\"value\":\"#1f77b4\"},\"hatch_alpha\":{\"value\":0.1},\"line_alpha\":{\"value\":0.1},\"line_color\":{\"value\":\"#1f77b4\"},\"size\":{\"value\":10},\"x\":{\"field\":\"x\"},\"y\":{\"field\":\"y0\"}},\"id\":\"16009\",\"type\":\"Circle\"},{\"attributes\":{\"booleans\":[true,true,true,true,true,false,false,false,false,false,false,true,true,true,true,true,true,true,true,true,true,true,true,true,true,true,true,true,true,true,false,false,false,false,false,false,true,true,true,true,true]},\"id\":\"15980\",\"type\":\"BooleanFilter\"},{\"attributes\":{\"below\":[{\"id\":\"16024\"}],\"center\":[{\"id\":\"16027\"},{\"id\":\"16031\"}],\"height\":300,\"left\":[{\"id\":\"16028\"}],\"renderers\":[{\"id\":\"16044\"}],\"title\":null,\"toolbar\":{\"id\":\"16036\"},\"toolbar_location\":null,\"width\":300,\"x_range\":{\"id\":\"16016\"},\"x_scale\":{\"id\":\"16020\"},\"y_range\":{\"id\":\"16018\"},\"y_scale\":{\"id\":\"16022\"}},\"id\":\"16014\",\"subtype\":\"Figure\",\"type\":\"Plot\"},{\"attributes\":{},\"id\":\"16025\",\"type\":\"BasicTicker\"},{\"attributes\":{\"coordinates\":null,\"data_source\":{\"id\":\"15979\"},\"glyph\":{\"id\":\"16040\"},\"group\":null,\"hover_glyph\":{\"id\":\"16042\"},\"muted_glyph\":{\"id\":\"16043\"},\"nonselection_glyph\":{\"id\":\"16041\"},\"view\":{\"id\":\"15981\"}},\"id\":\"16044\",\"type\":\"GlyphRenderer\"},{\"attributes\":{\"coordinates\":null,\"formatter\":{\"id\":\"16062\"},\"group\":null,\"major_label_policy\":{\"id\":\"16063\"},\"ticker\":{\"id\":\"16025\"}},\"id\":\"16024\",\"type\":\"LinearAxis\"},{\"attributes\":{},\"id\":\"16048\",\"type\":\"AllLabels\"},{\"attributes\":{\"tools\":[{\"id\":\"16032\"},{\"id\":\"16033\"}]},\"id\":\"16036\",\"type\":\"Toolbar\"},{\"attributes\":{\"bottom_units\":\"screen\",\"coordinates\":null,\"fill_alpha\":0.5,\"fill_color\":\"lightgrey\",\"group\":null,\"left_units\":\"screen\",\"level\":\"overlay\",\"line_alpha\":1.0,\"line_color\":\"black\",\"line_dash\":[4,4],\"line_width\":2,\"right_units\":\"screen\",\"syncable\":false,\"top_units\":\"screen\"},\"id\":\"16002\",\"type\":\"BoxAnnotation\"},{\"attributes\":{},\"id\":\"16053\",\"type\":\"Selection\"},{\"attributes\":{\"fill_color\":{\"value\":\"#1f77b4\"},\"line_color\":{\"value\":\"#1f77b4\"},\"size\":{\"value\":10},\"x\":{\"field\":\"x\"},\"y\":{\"field\":\"y0\"}},\"id\":\"16008\",\"type\":\"Circle\"},{\"attributes\":{},\"id\":\"16050\",\"type\":\"BasicTickFormatter\"},{\"attributes\":{\"data\":{\"x\":[-20,-19,-18,-17,-16,-15,-14,-13,-12,-11,-10,-9,-8,-7,-6,-5,-4,-3,-2,-1,0,1,2,3,4,5,6,7,8,9,10,11,12,13,14,15,16,17,18,19,20],\"y0\":[20,19,18,17,16,15,14,13,12,11,10,9,8,7,6,5,4,3,2,1,0,1,2,3,4,5,6,7,8,9,10,11,12,13,14,15,16,17,18,19,20],\"y1\":[400,361,324,289,256,225,196,169,144,121,100,81,64,49,36,25,16,9,4,1,0,1,4,9,16,25,36,49,64,81,100,121,144,169,196,225,256,289,324,361,400]},\"selected\":{\"id\":\"16053\"},\"selection_policy\":{\"id\":\"16052\"}},\"id\":\"15979\",\"type\":\"ColumnDataSource\"},{\"attributes\":{},\"id\":\"15988\",\"type\":\"LinearScale\"},{\"attributes\":{\"filters\":[{\"id\":\"15980\"}],\"source\":{\"id\":\"15979\"}},\"id\":\"15981\",\"type\":\"CDSView\"},{\"attributes\":{},\"id\":\"16052\",\"type\":\"UnionRenderers\"},{\"attributes\":{\"overlay\":{\"id\":\"16035\"}},\"id\":\"16033\",\"type\":\"LassoSelectTool\"},{\"attributes\":{\"coordinates\":null,\"fill_alpha\":0.5,\"fill_color\":\"lightgrey\",\"group\":null,\"level\":\"overlay\",\"line_alpha\":1.0,\"line_color\":\"black\",\"line_dash\":[4,4],\"line_width\":2,\"syncable\":false,\"xs_units\":\"screen\",\"ys_units\":\"screen\"},\"id\":\"16003\",\"type\":\"PolyAnnotation\"},{\"attributes\":{},\"id\":\"16051\",\"type\":\"AllLabels\"},{\"attributes\":{\"axis\":{\"id\":\"16028\"},\"coordinates\":null,\"dimension\":1,\"group\":null,\"ticker\":null},\"id\":\"16031\",\"type\":\"Grid\"},{\"attributes\":{},\"id\":\"16029\",\"type\":\"BasicTicker\"},{\"attributes\":{\"fill_alpha\":{\"value\":0.2},\"fill_color\":{\"value\":\"#1f77b4\"},\"hatch_alpha\":{\"value\":0.2},\"line_alpha\":{\"value\":0.2},\"line_color\":{\"value\":\"#1f77b4\"},\"size\":{\"value\":10},\"x\":{\"field\":\"x\"},\"y\":{\"field\":\"y1\"}},\"id\":\"16043\",\"type\":\"Circle\"},{\"attributes\":{\"coordinates\":null,\"fill_alpha\":0.5,\"fill_color\":\"lightgrey\",\"group\":null,\"level\":\"overlay\",\"line_alpha\":1.0,\"line_color\":\"black\",\"line_dash\":[4,4],\"line_width\":2,\"syncable\":false,\"xs_units\":\"screen\",\"ys_units\":\"screen\"},\"id\":\"16035\",\"type\":\"PolyAnnotation\"},{\"attributes\":{},\"id\":\"16020\",\"type\":\"LinearScale\"},{\"attributes\":{},\"id\":\"16018\",\"type\":\"DataRange1d\"}],\"root_ids\":[\"16072\"]},\"title\":\"Bokeh Application\",\"version\":\"2.4.3\"}};\n",
       "  const render_items = [{\"docid\":\"b3fd0f74-3db4-4d7e-a37f-1d2d96eb654f\",\"root_ids\":[\"16072\"],\"roots\":{\"16072\":\"4db35d04-cb7d-4af5-b0ea-925cc7e4dff9\"}}];\n",
       "  root.Bokeh.embed.embed_items_notebook(docs_json, render_items);\n",
       "  }\n",
       "  if (root.Bokeh !== undefined) {\n",
       "    embed_document(root);\n",
       "  } else {\n",
       "    let attempts = 0;\n",
       "    const timer = setInterval(function(root) {\n",
       "      if (root.Bokeh !== undefined) {\n",
       "        clearInterval(timer);\n",
       "        embed_document(root);\n",
       "      } else {\n",
       "        attempts++;\n",
       "        if (attempts > 100) {\n",
       "          clearInterval(timer);\n",
       "          console.log(\"Bokeh: ERROR: Unable to run BokehJS code because BokehJS library is missing\");\n",
       "        }\n",
       "      }\n",
       "    }, 10, root)\n",
       "  }\n",
       "})(window);"
      ],
      "application/vnd.bokehjs_exec.v0+json": ""
     },
     "metadata": {
      "application/vnd.bokehjs_exec.v0+json": {
       "id": "16072"
      }
     },
     "output_type": "display_data"
    }
   ],
   "source": [
    "from bokeh.models import ColumnDataSource, CDSView, BooleanFilter\n",
    "\n",
    "x = list(range(-20, 21))\n",
    "y0 = [abs(xx) for xx in x]\n",
    "y1 = [xx**2 for xx in x]\n",
    "\n",
    "# create a column data source for the plots to share\n",
    "source = ColumnDataSource(data=dict(x=x, y0=y0, y1=y1))\n",
    "\n",
    "# create a view of the source for one plot to use\n",
    "view = CDSView(source=source, filters=[BooleanFilter([True if y > 250 or y < 100 else False for y in y1])])\n",
    "\n",
    "TOOLS = \"box_select,lasso_select\"\n",
    "\n",
    "# create a new plot and add a renderer\n",
    "left = figure(tools=TOOLS, plot_width=300, plot_height=300, title=None)\n",
    "left.circle('x', 'y0', size=10, hover_color=\"firebrick\", source=source)\n",
    "\n",
    "# create another new plot, add a renderer that uses the view of the data source\n",
    "right = figure(tools=TOOLS, plot_width=300, plot_height=300, title=None)\n",
    "right.circle('x', 'y1', size=10, hover_color=\"firebrick\", source=source, view=view)\n",
    "\n",
    "p = gridplot([[left, right]])\n",
    "\n",
    "show(p)"
   ]
  },
  {
   "cell_type": "markdown",
   "metadata": {},
   "source": [
    "# Interaction with widgets and JS CallBacks"
   ]
  },
  {
   "cell_type": "markdown",
   "metadata": {},
   "source": [
    "## Adding Widgets"
   ]
  },
  {
   "cell_type": "markdown",
   "metadata": {},
   "source": [
    "Widgets are interactive controls that can be added to Bokeh applications to provide a front end user interface to a visualization. They can drive new computations, update plots, and connect to other programmatic functionality.\n",
    "Widgets can be added directly to the document root or nested inside a layout. There are two ways to program a widget’s functionality:\n",
    "\n",
    "- Use the `CustomJS` callback. This will work in standalone HTML documents.\n",
    "- Use `bokeh serve` to start the Bokeh server and set up event handlers. *[DESCRIBED IN OTHER NOTEBOOKS]*"
   ]
  },
  {
   "cell_type": "markdown",
   "metadata": {},
   "source": [
    "### Buttons"
   ]
  },
  {
   "cell_type": "code",
   "execution_count": 55,
   "metadata": {},
   "outputs": [],
   "source": [
    "from bokeh.layouts import widgetbox"
   ]
  },
  {
   "cell_type": "code",
   "execution_count": 56,
   "metadata": {},
   "outputs": [
    {
     "data": {
      "text/html": [
       "\n",
       "  <div class=\"bk-root\" id=\"1d46d699-9290-4434-8b3e-ae4cbd37feeb\" data-root-id=\"16730\"></div>\n"
      ]
     },
     "metadata": {},
     "output_type": "display_data"
    },
    {
     "data": {
      "application/javascript": [
       "(function(root) {\n",
       "  function embed_document(root) {\n",
       "  const docs_json = {\"853e8025-3c1c-4110-ba18-b9348d830b31\":{\"defs\":[],\"roots\":{\"references\":[{\"attributes\":{\"children\":[{\"id\":\"16728\"},{\"id\":\"16729\"}]},\"id\":\"16730\",\"type\":\"Column\"},{\"attributes\":{\"button_type\":\"warning\",\"icon\":null,\"label\":\"Foo Warning\"},\"id\":\"16728\",\"type\":\"Button\"},{\"attributes\":{\"button_type\":\"success\",\"icon\":null,\"label\":\"Foo Success\"},\"id\":\"16729\",\"type\":\"Button\"}],\"root_ids\":[\"16730\"]},\"title\":\"Bokeh Application\",\"version\":\"2.4.3\"}};\n",
       "  const render_items = [{\"docid\":\"853e8025-3c1c-4110-ba18-b9348d830b31\",\"root_ids\":[\"16730\"],\"roots\":{\"16730\":\"1d46d699-9290-4434-8b3e-ae4cbd37feeb\"}}];\n",
       "  root.Bokeh.embed.embed_items_notebook(docs_json, render_items);\n",
       "  }\n",
       "  if (root.Bokeh !== undefined) {\n",
       "    embed_document(root);\n",
       "  } else {\n",
       "    let attempts = 0;\n",
       "    const timer = setInterval(function(root) {\n",
       "      if (root.Bokeh !== undefined) {\n",
       "        clearInterval(timer);\n",
       "        embed_document(root);\n",
       "      } else {\n",
       "        attempts++;\n",
       "        if (attempts > 100) {\n",
       "          clearInterval(timer);\n",
       "          console.log(\"Bokeh: ERROR: Unable to run BokehJS code because BokehJS library is missing\");\n",
       "        }\n",
       "      }\n",
       "    }, 10, root)\n",
       "  }\n",
       "})(window);"
      ],
      "application/vnd.bokehjs_exec.v0+json": ""
     },
     "metadata": {
      "application/vnd.bokehjs_exec.v0+json": {
       "id": "16730"
      }
     },
     "output_type": "display_data"
    }
   ],
   "source": [
    "from bokeh.models.widgets import Button\n",
    "from bokeh.models import Column\n",
    "\n",
    "button_warning = Button(label=\"Foo Warning\", button_type=\"warning\")\n",
    "button_success = Button(label=\"Foo Success\", button_type=\"success\")\n",
    "\n",
    "show(Column(button_warning, button_success))"
   ]
  },
  {
   "cell_type": "markdown",
   "metadata": {},
   "source": [
    "### Checkbox button group"
   ]
  },
  {
   "cell_type": "code",
   "execution_count": 66,
   "metadata": {},
   "outputs": [
    {
     "data": {
      "text/html": [
       "\n",
       "  <div class=\"bk-root\" id=\"5c18a9cf-909f-41d5-9770-bdc6ed5b5a3f\" data-root-id=\"22300\"></div>\n"
      ]
     },
     "metadata": {},
     "output_type": "display_data"
    },
    {
     "data": {
      "application/javascript": [
       "(function(root) {\n",
       "  function embed_document(root) {\n",
       "  const docs_json = {\"0d518845-a146-4b0f-9a2e-c95de33d9a49\":{\"defs\":[],\"roots\":{\"references\":[{\"attributes\":{\"children\":[{\"id\":\"22299\"}]},\"id\":\"22300\",\"type\":\"Column\"},{\"attributes\":{\"active\":[0,1],\"labels\":[\"Option 1\",\"Option 2\",\"Option 3\"]},\"id\":\"22299\",\"type\":\"CheckboxButtonGroup\"}],\"root_ids\":[\"22300\"]},\"title\":\"Bokeh Application\",\"version\":\"2.4.3\"}};\n",
       "  const render_items = [{\"docid\":\"0d518845-a146-4b0f-9a2e-c95de33d9a49\",\"root_ids\":[\"22300\"],\"roots\":{\"22300\":\"5c18a9cf-909f-41d5-9770-bdc6ed5b5a3f\"}}];\n",
       "  root.Bokeh.embed.embed_items_notebook(docs_json, render_items);\n",
       "  }\n",
       "  if (root.Bokeh !== undefined) {\n",
       "    embed_document(root);\n",
       "  } else {\n",
       "    let attempts = 0;\n",
       "    const timer = setInterval(function(root) {\n",
       "      if (root.Bokeh !== undefined) {\n",
       "        clearInterval(timer);\n",
       "        embed_document(root);\n",
       "      } else {\n",
       "        attempts++;\n",
       "        if (attempts > 100) {\n",
       "          clearInterval(timer);\n",
       "          console.log(\"Bokeh: ERROR: Unable to run BokehJS code because BokehJS library is missing\");\n",
       "        }\n",
       "      }\n",
       "    }, 10, root)\n",
       "  }\n",
       "})(window);"
      ],
      "application/vnd.bokehjs_exec.v0+json": ""
     },
     "metadata": {
      "application/vnd.bokehjs_exec.v0+json": {
       "id": "22300"
      }
     },
     "output_type": "display_data"
    }
   ],
   "source": [
    "from bokeh.models.widgets import CheckboxButtonGroup\n",
    "\n",
    "checkbox_button_group = CheckboxButtonGroup(\n",
    "        labels=[\"Option 1\", \"Option 2\", \"Option 3\"], \n",
    "        active=[0, 1]) # active param show selected the slice you specify\n",
    "\n",
    "show(Column(checkbox_button_group))"
   ]
  },
  {
   "cell_type": "markdown",
   "metadata": {},
   "source": [
    "### Checkbox group"
   ]
  },
  {
   "cell_type": "code",
   "execution_count": 67,
   "metadata": {},
   "outputs": [
    {
     "data": {
      "text/html": [
       "\n",
       "  <div class=\"bk-root\" id=\"c82d3a1e-d4c3-4100-a766-f2ddaff20e2a\" data-root-id=\"22857\"></div>\n"
      ]
     },
     "metadata": {},
     "output_type": "display_data"
    },
    {
     "data": {
      "application/javascript": [
       "(function(root) {\n",
       "  function embed_document(root) {\n",
       "  const docs_json = {\"be32a542-7d5e-4081-b66e-e1e722476609\":{\"defs\":[],\"roots\":{\"references\":[{\"attributes\":{\"children\":[{\"id\":\"22856\"}]},\"id\":\"22857\",\"type\":\"Column\"},{\"attributes\":{\"active\":[0,1],\"labels\":[\"Option 1\",\"Option 2\",\"Option 3\"]},\"id\":\"22856\",\"type\":\"CheckboxGroup\"}],\"root_ids\":[\"22857\"]},\"title\":\"Bokeh Application\",\"version\":\"2.4.3\"}};\n",
       "  const render_items = [{\"docid\":\"be32a542-7d5e-4081-b66e-e1e722476609\",\"root_ids\":[\"22857\"],\"roots\":{\"22857\":\"c82d3a1e-d4c3-4100-a766-f2ddaff20e2a\"}}];\n",
       "  root.Bokeh.embed.embed_items_notebook(docs_json, render_items);\n",
       "  }\n",
       "  if (root.Bokeh !== undefined) {\n",
       "    embed_document(root);\n",
       "  } else {\n",
       "    let attempts = 0;\n",
       "    const timer = setInterval(function(root) {\n",
       "      if (root.Bokeh !== undefined) {\n",
       "        clearInterval(timer);\n",
       "        embed_document(root);\n",
       "      } else {\n",
       "        attempts++;\n",
       "        if (attempts > 100) {\n",
       "          clearInterval(timer);\n",
       "          console.log(\"Bokeh: ERROR: Unable to run BokehJS code because BokehJS library is missing\");\n",
       "        }\n",
       "      }\n",
       "    }, 10, root)\n",
       "  }\n",
       "})(window);"
      ],
      "application/vnd.bokehjs_exec.v0+json": ""
     },
     "metadata": {
      "application/vnd.bokehjs_exec.v0+json": {
       "id": "22857"
      }
     },
     "output_type": "display_data"
    }
   ],
   "source": [
    "from bokeh.models.widgets import CheckboxGroup\n",
    "\n",
    "checkbox_group = CheckboxGroup(\n",
    "        labels=[\"Option 1\", \"Option 2\", \"Option 3\"], active=[0, 1])\n",
    "\n",
    "show(Column(checkbox_group))"
   ]
  },
  {
   "cell_type": "markdown",
   "metadata": {},
   "source": [
    "## Data Table\n",
    "Bokeh provides a sophisticated data table widget based on SlickGrid. Note that since the table is configured with a data source object, any plots that share this data source will automatically have selections linked between the plot and the table (even in static HTML documents). \n",
    "\n",
    "*The data table is sortable by clicking on the column name*"
   ]
  },
  {
   "cell_type": "code",
   "execution_count": 68,
   "metadata": {},
   "outputs": [
    {
     "data": {
      "text/html": [
       "\n",
       "  <div class=\"bk-root\" id=\"a56b741c-9a41-4565-9c6f-ab102ebad7fd\" data-root-id=\"23421\"></div>\n"
      ]
     },
     "metadata": {},
     "output_type": "display_data"
    },
    {
     "data": {
      "application/javascript": [
       "(function(root) {\n",
       "  function embed_document(root) {\n",
       "  const docs_json = {\"d78568ed-34c5-4b44-8161-0c9998afa4f4\":{\"defs\":[],\"roots\":{\"references\":[{\"attributes\":{\"children\":[{\"id\":\"23418\"}]},\"id\":\"23421\",\"type\":\"Column\"},{\"attributes\":{},\"id\":\"23980\",\"type\":\"UnionRenderers\"},{\"attributes\":{},\"id\":\"23414\",\"type\":\"DateFormatter\"},{\"attributes\":{\"editor\":{\"id\":\"23977\"},\"field\":\"dates\",\"formatter\":{\"id\":\"23414\"},\"title\":\"Date\"},\"id\":\"23415\",\"type\":\"TableColumn\"},{\"attributes\":{},\"id\":\"23979\",\"type\":\"StringEditor\"},{\"attributes\":{},\"id\":\"23981\",\"type\":\"Selection\"},{\"attributes\":{\"source\":{\"id\":\"23413\"}},\"id\":\"23420\",\"type\":\"CDSView\"},{\"attributes\":{\"editor\":{\"id\":\"23979\"},\"field\":\"downloads\",\"formatter\":{\"id\":\"23978\"},\"title\":\"Downloads\"},\"id\":\"23417\",\"type\":\"TableColumn\"},{\"attributes\":{\"columns\":[{\"id\":\"23415\"},{\"id\":\"23417\"}],\"height\":280,\"source\":{\"id\":\"23413\"},\"view\":{\"id\":\"23420\"},\"width\":400},\"id\":\"23418\",\"type\":\"DataTable\"},{\"attributes\":{},\"id\":\"23977\",\"type\":\"StringEditor\"},{\"attributes\":{},\"id\":\"23978\",\"type\":\"StringFormatter\"},{\"attributes\":{\"data\":{\"dates\":[\"2017-03-01\",\"2017-03-02\",\"2017-03-03\",\"2017-03-04\",\"2017-03-05\",\"2017-03-06\",\"2017-03-07\",\"2017-03-08\",\"2017-03-09\",\"2017-03-10\"],\"downloads\":[5,58,89,21,32,52,49,32,47,93]},\"selected\":{\"id\":\"23981\"},\"selection_policy\":{\"id\":\"23980\"}},\"id\":\"23413\",\"type\":\"ColumnDataSource\"}],\"root_ids\":[\"23421\"]},\"title\":\"Bokeh Application\",\"version\":\"2.4.3\"}};\n",
       "  const render_items = [{\"docid\":\"d78568ed-34c5-4b44-8161-0c9998afa4f4\",\"root_ids\":[\"23421\"],\"roots\":{\"23421\":\"a56b741c-9a41-4565-9c6f-ab102ebad7fd\"}}];\n",
       "  root.Bokeh.embed.embed_items_notebook(docs_json, render_items);\n",
       "  }\n",
       "  if (root.Bokeh !== undefined) {\n",
       "    embed_document(root);\n",
       "  } else {\n",
       "    let attempts = 0;\n",
       "    const timer = setInterval(function(root) {\n",
       "      if (root.Bokeh !== undefined) {\n",
       "        clearInterval(timer);\n",
       "        embed_document(root);\n",
       "      } else {\n",
       "        attempts++;\n",
       "        if (attempts > 100) {\n",
       "          clearInterval(timer);\n",
       "          console.log(\"Bokeh: ERROR: Unable to run BokehJS code because BokehJS library is missing\");\n",
       "        }\n",
       "      }\n",
       "    }, 10, root)\n",
       "  }\n",
       "})(window);"
      ],
      "application/vnd.bokehjs_exec.v0+json": ""
     },
     "metadata": {
      "application/vnd.bokehjs_exec.v0+json": {
       "id": "23421"
      }
     },
     "output_type": "display_data"
    }
   ],
   "source": [
    "from datetime import date\n",
    "from random import randint\n",
    "from bokeh.models import ColumnDataSource\n",
    "from bokeh.models.widgets import DataTable, DateFormatter, TableColumn\n",
    "\n",
    "data = dict(\n",
    "        dates=[date(2017, 3, i+1) for i in range(10)],\n",
    "        downloads=[randint(0, 100) for i in range(10)],\n",
    "    )\n",
    "source = ColumnDataSource(data)\n",
    "\n",
    "columns = [\n",
    "        TableColumn(field=\"dates\", title=\"Date\", formatter=DateFormatter()),\n",
    "        TableColumn(field=\"downloads\", title=\"Downloads\"),\n",
    "    ]\n",
    "data_table = DataTable(source=source, columns=columns, width=400, height=280)\n",
    "\n",
    "show(Column(data_table))"
   ]
  },
  {
   "cell_type": "markdown",
   "metadata": {},
   "source": [
    "## Sliders"
   ]
  },
  {
   "cell_type": "code",
   "execution_count": 70,
   "metadata": {},
   "outputs": [
    {
     "data": {
      "text/html": [
       "\n",
       "  <div class=\"bk-root\" id=\"68112942-9a02-4ad9-95e8-fe103e219320\" data-root-id=\"24572\"></div>\n"
      ]
     },
     "metadata": {},
     "output_type": "display_data"
    },
    {
     "data": {
      "application/javascript": [
       "(function(root) {\n",
       "  function embed_document(root) {\n",
       "  const docs_json = {\"d01bee39-e075-42d9-86aa-38210936f834\":{\"defs\":[],\"roots\":{\"references\":[{\"attributes\":{\"children\":[{\"id\":\"24570\"},{\"id\":\"24571\"}]},\"id\":\"24572\",\"type\":\"Column\"},{\"attributes\":{\"end\":10,\"start\":0,\"step\":0.1,\"title\":\"Slider\",\"value\":3},\"id\":\"24570\",\"type\":\"Slider\"},{\"attributes\":{\"end\":10,\"start\":0,\"step\":0.1,\"title\":\"Range Slider\",\"value\":[5,9]},\"id\":\"24571\",\"type\":\"RangeSlider\"}],\"root_ids\":[\"24572\"]},\"title\":\"Bokeh Application\",\"version\":\"2.4.3\"}};\n",
       "  const render_items = [{\"docid\":\"d01bee39-e075-42d9-86aa-38210936f834\",\"root_ids\":[\"24572\"],\"roots\":{\"24572\":\"68112942-9a02-4ad9-95e8-fe103e219320\"}}];\n",
       "  root.Bokeh.embed.embed_items_notebook(docs_json, render_items);\n",
       "  }\n",
       "  if (root.Bokeh !== undefined) {\n",
       "    embed_document(root);\n",
       "  } else {\n",
       "    let attempts = 0;\n",
       "    const timer = setInterval(function(root) {\n",
       "      if (root.Bokeh !== undefined) {\n",
       "        clearInterval(timer);\n",
       "        embed_document(root);\n",
       "      } else {\n",
       "        attempts++;\n",
       "        if (attempts > 100) {\n",
       "          clearInterval(timer);\n",
       "          console.log(\"Bokeh: ERROR: Unable to run BokehJS code because BokehJS library is missing\");\n",
       "        }\n",
       "      }\n",
       "    }, 10, root)\n",
       "  }\n",
       "})(window);"
      ],
      "application/vnd.bokehjs_exec.v0+json": ""
     },
     "metadata": {
      "application/vnd.bokehjs_exec.v0+json": {
       "id": "24572"
      }
     },
     "output_type": "display_data"
    }
   ],
   "source": [
    "from bokeh.models.widgets import Slider, RangeSlider\n",
    "\n",
    "slider = Slider(start=0, end=10, value=3, step=.1, title=\"Slider\")\n",
    "range_slider = RangeSlider(start=0, end=10, value=(5,9), step=.1, title=\"Range Slider\")\n",
    "\n",
    "show(Column(slider, range_slider))"
   ]
  },
  {
   "cell_type": "markdown",
   "metadata": {},
   "source": [
    "## Tab panes"
   ]
  },
  {
   "cell_type": "code",
   "execution_count": 71,
   "metadata": {},
   "outputs": [
    {
     "data": {
      "text/html": [
       "\n",
       "  <div class=\"bk-root\" id=\"fbb6b299-9d54-4da3-b41d-babe62bdf756\" data-root-id=\"25209\"></div>\n"
      ]
     },
     "metadata": {},
     "output_type": "display_data"
    },
    {
     "data": {
      "application/javascript": [
       "(function(root) {\n",
       "  function embed_document(root) {\n",
       "  const docs_json = {\"278dae91-8114-4ce4-afb6-d2731ed1eaaa\":{\"defs\":[],\"roots\":{\"references\":[{\"attributes\":{\"tabs\":[{\"id\":\"25170\"},{\"id\":\"25208\"}]},\"id\":\"25209\",\"type\":\"Tabs\"},{\"attributes\":{\"data\":{\"x\":[1,2,3,4,5],\"y\":[6,7,2,4,5]},\"selected\":{\"id\":\"25790\"},\"selection_policy\":{\"id\":\"25789\"}},\"id\":\"25202\",\"type\":\"ColumnDataSource\"},{\"attributes\":{},\"id\":\"25174\",\"type\":\"DataRange1d\"},{\"attributes\":{},\"id\":\"25151\",\"type\":\"WheelZoomTool\"},{\"attributes\":{},\"id\":\"25176\",\"type\":\"LinearScale\"},{\"attributes\":{},\"id\":\"25154\",\"type\":\"ResetTool\"},{\"attributes\":{\"coordinates\":null,\"formatter\":{\"id\":\"25784\"},\"group\":null,\"major_label_policy\":{\"id\":\"25785\"},\"ticker\":{\"id\":\"25181\"}},\"id\":\"25180\",\"type\":\"LinearAxis\"},{\"attributes\":{},\"id\":\"25153\",\"type\":\"SaveTool\"},{\"attributes\":{},\"id\":\"25178\",\"type\":\"LinearScale\"},{\"attributes\":{\"coordinates\":null,\"data_source\":{\"id\":\"25202\"},\"glyph\":{\"id\":\"25203\"},\"group\":null,\"hover_glyph\":null,\"muted_glyph\":{\"id\":\"25205\"},\"nonselection_glyph\":{\"id\":\"25204\"},\"view\":{\"id\":\"25207\"}},\"id\":\"25206\",\"type\":\"GlyphRenderer\"},{\"attributes\":{\"overlay\":{\"id\":\"25156\"}},\"id\":\"25152\",\"type\":\"BoxZoomTool\"},{\"attributes\":{},\"id\":\"25786\",\"type\":\"UnionRenderers\"},{\"attributes\":{},\"id\":\"25185\",\"type\":\"BasicTicker\"},{\"attributes\":{\"source\":{\"id\":\"25164\"}},\"id\":\"25169\",\"type\":\"CDSView\"},{\"attributes\":{\"below\":[{\"id\":\"25180\"}],\"center\":[{\"id\":\"25183\"},{\"id\":\"25187\"}],\"height\":300,\"left\":[{\"id\":\"25184\"}],\"renderers\":[{\"id\":\"25206\"}],\"title\":{\"id\":\"25772\"},\"toolbar\":{\"id\":\"25195\"},\"width\":300,\"x_range\":{\"id\":\"25172\"},\"x_scale\":{\"id\":\"25176\"},\"y_range\":{\"id\":\"25174\"},\"y_scale\":{\"id\":\"25178\"}},\"id\":\"25171\",\"subtype\":\"Figure\",\"type\":\"Plot\"},{\"attributes\":{\"child\":{\"id\":\"25171\"},\"title\":\"line\"},\"id\":\"25208\",\"type\":\"Panel\"},{\"attributes\":{\"bottom_units\":\"screen\",\"coordinates\":null,\"fill_alpha\":0.5,\"fill_color\":\"lightgrey\",\"group\":null,\"left_units\":\"screen\",\"level\":\"overlay\",\"line_alpha\":1.0,\"line_color\":\"black\",\"line_dash\":[4,4],\"line_width\":2,\"right_units\":\"screen\",\"syncable\":false,\"top_units\":\"screen\"},\"id\":\"25156\",\"type\":\"BoxAnnotation\"},{\"attributes\":{\"bottom_units\":\"screen\",\"coordinates\":null,\"fill_alpha\":0.5,\"fill_color\":\"lightgrey\",\"group\":null,\"left_units\":\"screen\",\"level\":\"overlay\",\"line_alpha\":1.0,\"line_color\":\"black\",\"line_dash\":[4,4],\"line_width\":2,\"right_units\":\"screen\",\"syncable\":false,\"top_units\":\"screen\"},\"id\":\"25194\",\"type\":\"BoxAnnotation\"},{\"attributes\":{\"axis\":{\"id\":\"25184\"},\"coordinates\":null,\"dimension\":1,\"group\":null,\"ticker\":null},\"id\":\"25187\",\"type\":\"Grid\"},{\"attributes\":{\"line_alpha\":0.2,\"line_color\":\"blue\",\"line_width\":3,\"x\":{\"field\":\"x\"},\"y\":{\"field\":\"y\"}},\"id\":\"25205\",\"type\":\"Line\"},{\"attributes\":{\"source\":{\"id\":\"25202\"}},\"id\":\"25207\",\"type\":\"CDSView\"},{\"attributes\":{},\"id\":\"25785\",\"type\":\"AllLabels\"},{\"attributes\":{\"line_alpha\":0.1,\"line_color\":\"blue\",\"line_width\":3,\"x\":{\"field\":\"x\"},\"y\":{\"field\":\"y\"}},\"id\":\"25204\",\"type\":\"Line\"},{\"attributes\":{\"overlay\":{\"id\":\"25194\"}},\"id\":\"25190\",\"type\":\"BoxZoomTool\"},{\"attributes\":{},\"id\":\"25147\",\"type\":\"BasicTicker\"},{\"attributes\":{},\"id\":\"25150\",\"type\":\"PanTool\"},{\"attributes\":{\"axis\":{\"id\":\"25146\"},\"coordinates\":null,\"dimension\":1,\"group\":null,\"ticker\":null},\"id\":\"25149\",\"type\":\"Grid\"},{\"attributes\":{},\"id\":\"25784\",\"type\":\"BasicTickFormatter\"},{\"attributes\":{},\"id\":\"25787\",\"type\":\"Selection\"},{\"attributes\":{},\"id\":\"25789\",\"type\":\"UnionRenderers\"},{\"attributes\":{},\"id\":\"25189\",\"type\":\"WheelZoomTool\"},{\"attributes\":{\"tools\":[{\"id\":\"25150\"},{\"id\":\"25151\"},{\"id\":\"25152\"},{\"id\":\"25153\"},{\"id\":\"25154\"},{\"id\":\"25155\"}]},\"id\":\"25157\",\"type\":\"Toolbar\"},{\"attributes\":{\"axis\":{\"id\":\"25142\"},\"coordinates\":null,\"group\":null,\"ticker\":null},\"id\":\"25145\",\"type\":\"Grid\"},{\"attributes\":{},\"id\":\"25172\",\"type\":\"DataRange1d\"},{\"attributes\":{},\"id\":\"25143\",\"type\":\"BasicTicker\"},{\"attributes\":{\"fill_alpha\":{\"value\":0.1},\"fill_color\":{\"value\":\"red\"},\"hatch_alpha\":{\"value\":0.1},\"hatch_color\":{\"value\":\"red\"},\"line_alpha\":{\"value\":0.1},\"line_color\":{\"value\":\"red\"},\"size\":{\"value\":20},\"x\":{\"field\":\"x\"},\"y\":{\"field\":\"y\"}},\"id\":\"25166\",\"type\":\"Circle\"},{\"attributes\":{},\"id\":\"25790\",\"type\":\"Selection\"},{\"attributes\":{},\"id\":\"25138\",\"type\":\"LinearScale\"},{\"attributes\":{},\"id\":\"25192\",\"type\":\"ResetTool\"},{\"attributes\":{},\"id\":\"25140\",\"type\":\"LinearScale\"},{\"attributes\":{\"fill_alpha\":{\"value\":0.5},\"fill_color\":{\"value\":\"red\"},\"hatch_alpha\":{\"value\":0.5},\"hatch_color\":{\"value\":\"red\"},\"line_alpha\":{\"value\":0.5},\"line_color\":{\"value\":\"red\"},\"size\":{\"value\":20},\"x\":{\"field\":\"x\"},\"y\":{\"field\":\"y\"}},\"id\":\"25165\",\"type\":\"Circle\"},{\"attributes\":{\"coordinates\":null,\"formatter\":{\"id\":\"25778\"},\"group\":null,\"major_label_policy\":{\"id\":\"25779\"},\"ticker\":{\"id\":\"25143\"}},\"id\":\"25142\",\"type\":\"LinearAxis\"},{\"attributes\":{},\"id\":\"25781\",\"type\":\"BasicTickFormatter\"},{\"attributes\":{\"coordinates\":null,\"formatter\":{\"id\":\"25775\"},\"group\":null,\"major_label_policy\":{\"id\":\"25776\"},\"ticker\":{\"id\":\"25147\"}},\"id\":\"25146\",\"type\":\"LinearAxis\"},{\"attributes\":{},\"id\":\"25775\",\"type\":\"BasicTickFormatter\"},{\"attributes\":{},\"id\":\"25136\",\"type\":\"DataRange1d\"},{\"attributes\":{\"tools\":[{\"id\":\"25188\"},{\"id\":\"25189\"},{\"id\":\"25190\"},{\"id\":\"25191\"},{\"id\":\"25192\"},{\"id\":\"25193\"}]},\"id\":\"25195\",\"type\":\"Toolbar\"},{\"attributes\":{\"line_alpha\":0.5,\"line_color\":\"blue\",\"line_width\":3,\"x\":{\"field\":\"x\"},\"y\":{\"field\":\"y\"}},\"id\":\"25203\",\"type\":\"Line\"},{\"attributes\":{\"coordinates\":null,\"group\":null},\"id\":\"25770\",\"type\":\"Title\"},{\"attributes\":{},\"id\":\"25134\",\"type\":\"DataRange1d\"},{\"attributes\":{},\"id\":\"25776\",\"type\":\"AllLabels\"},{\"attributes\":{},\"id\":\"25782\",\"type\":\"AllLabels\"},{\"attributes\":{\"child\":{\"id\":\"25133\"},\"title\":\"circle\"},\"id\":\"25170\",\"type\":\"Panel\"},{\"attributes\":{\"coordinates\":null,\"formatter\":{\"id\":\"25781\"},\"group\":null,\"major_label_policy\":{\"id\":\"25782\"},\"ticker\":{\"id\":\"25185\"}},\"id\":\"25184\",\"type\":\"LinearAxis\"},{\"attributes\":{\"below\":[{\"id\":\"25142\"}],\"center\":[{\"id\":\"25145\"},{\"id\":\"25149\"}],\"height\":300,\"left\":[{\"id\":\"25146\"}],\"renderers\":[{\"id\":\"25168\"}],\"title\":{\"id\":\"25770\"},\"toolbar\":{\"id\":\"25157\"},\"width\":300,\"x_range\":{\"id\":\"25134\"},\"x_scale\":{\"id\":\"25138\"},\"y_range\":{\"id\":\"25136\"},\"y_scale\":{\"id\":\"25140\"}},\"id\":\"25133\",\"subtype\":\"Figure\",\"type\":\"Plot\"},{\"attributes\":{\"data\":{\"x\":[1,2,3,4,5],\"y\":[6,7,2,4,5]},\"selected\":{\"id\":\"25787\"},\"selection_policy\":{\"id\":\"25786\"}},\"id\":\"25164\",\"type\":\"ColumnDataSource\"},{\"attributes\":{},\"id\":\"25778\",\"type\":\"BasicTickFormatter\"},{\"attributes\":{},\"id\":\"25188\",\"type\":\"PanTool\"},{\"attributes\":{\"fill_alpha\":{\"value\":0.2},\"fill_color\":{\"value\":\"red\"},\"hatch_alpha\":{\"value\":0.2},\"hatch_color\":{\"value\":\"red\"},\"line_alpha\":{\"value\":0.2},\"line_color\":{\"value\":\"red\"},\"size\":{\"value\":20},\"x\":{\"field\":\"x\"},\"y\":{\"field\":\"y\"}},\"id\":\"25167\",\"type\":\"Circle\"},{\"attributes\":{},\"id\":\"25779\",\"type\":\"AllLabels\"},{\"attributes\":{},\"id\":\"25191\",\"type\":\"SaveTool\"},{\"attributes\":{\"axis\":{\"id\":\"25180\"},\"coordinates\":null,\"group\":null,\"ticker\":null},\"id\":\"25183\",\"type\":\"Grid\"},{\"attributes\":{\"coordinates\":null,\"group\":null},\"id\":\"25772\",\"type\":\"Title\"},{\"attributes\":{\"coordinates\":null,\"data_source\":{\"id\":\"25164\"},\"glyph\":{\"id\":\"25165\"},\"group\":null,\"hover_glyph\":null,\"muted_glyph\":{\"id\":\"25167\"},\"nonselection_glyph\":{\"id\":\"25166\"},\"view\":{\"id\":\"25169\"}},\"id\":\"25168\",\"type\":\"GlyphRenderer\"},{\"attributes\":{},\"id\":\"25193\",\"type\":\"HelpTool\"},{\"attributes\":{},\"id\":\"25181\",\"type\":\"BasicTicker\"},{\"attributes\":{},\"id\":\"25155\",\"type\":\"HelpTool\"}],\"root_ids\":[\"25209\"]},\"title\":\"Bokeh Application\",\"version\":\"2.4.3\"}};\n",
       "  const render_items = [{\"docid\":\"278dae91-8114-4ce4-afb6-d2731ed1eaaa\",\"root_ids\":[\"25209\"],\"roots\":{\"25209\":\"fbb6b299-9d54-4da3-b41d-babe62bdf756\"}}];\n",
       "  root.Bokeh.embed.embed_items_notebook(docs_json, render_items);\n",
       "  }\n",
       "  if (root.Bokeh !== undefined) {\n",
       "    embed_document(root);\n",
       "  } else {\n",
       "    let attempts = 0;\n",
       "    const timer = setInterval(function(root) {\n",
       "      if (root.Bokeh !== undefined) {\n",
       "        clearInterval(timer);\n",
       "        embed_document(root);\n",
       "      } else {\n",
       "        attempts++;\n",
       "        if (attempts > 100) {\n",
       "          clearInterval(timer);\n",
       "          console.log(\"Bokeh: ERROR: Unable to run BokehJS code because BokehJS library is missing\");\n",
       "        }\n",
       "      }\n",
       "    }, 10, root)\n",
       "  }\n",
       "})(window);"
      ],
      "application/vnd.bokehjs_exec.v0+json": ""
     },
     "metadata": {
      "application/vnd.bokehjs_exec.v0+json": {
       "id": "25209"
      }
     },
     "output_type": "display_data"
    }
   ],
   "source": [
    "from bokeh.models.widgets import Panel, Tabs\n",
    "from bokeh.plotting import figure\n",
    "\n",
    "p1 = figure(plot_width=300, plot_height=300)\n",
    "p1.circle([1, 2, 3, 4, 5], [6, 7, 2, 4, 5], size=20, color=\"red\", alpha=0.5)\n",
    "tab1 = Panel(child=p1, title=\"circle\")\n",
    "\n",
    "p2 = figure(plot_width=300, plot_height=300)\n",
    "p2.line([1, 2, 3, 4, 5], [6, 7, 2, 4, 5], line_width=3, color=\"blue\", alpha=0.5)\n",
    "tab2 = Panel(child=p2, title=\"line\")\n",
    "\n",
    "tabs = Tabs(tabs=[ tab1, tab2 ])\n",
    "\n",
    "show(tabs)"
   ]
  },
  {
   "cell_type": "code",
   "execution_count": 75,
   "metadata": {},
   "outputs": [
    {
     "data": {
      "text/html": [
       "\n",
       "  <div class=\"bk-root\" id=\"91112c53-e186-4631-8fa3-048f60dd6d00\" data-root-id=\"28042\"></div>\n"
      ]
     },
     "metadata": {},
     "output_type": "display_data"
    },
    {
     "data": {
      "application/javascript": [
       "(function(root) {\n",
       "  function embed_document(root) {\n",
       "  const docs_json = {\"4d4d165d-44b9-413f-afa0-873222e604b4\":{\"defs\":[],\"roots\":{\"references\":[{\"attributes\":{\"children\":[{\"id\":\"28041\"},{\"id\":\"28003\"}]},\"id\":\"28042\",\"type\":\"Column\"},{\"attributes\":{\"coordinates\":null,\"formatter\":{\"id\":\"28661\"},\"group\":null,\"major_label_policy\":{\"id\":\"28662\"},\"ticker\":{\"id\":\"28017\"}},\"id\":\"28016\",\"type\":\"LinearAxis\"},{\"attributes\":{},\"id\":\"28017\",\"type\":\"BasicTicker\"},{\"attributes\":{\"line_alpha\":0.1,\"line_color\":\"#1f77b4\",\"line_width\":3,\"x\":{\"field\":\"x\"},\"y\":{\"field\":\"y\"}},\"id\":\"28036\",\"type\":\"Line\"},{\"attributes\":{\"axis\":{\"id\":\"28012\"},\"coordinates\":null,\"group\":null,\"ticker\":null},\"id\":\"28015\",\"type\":\"Grid\"},{\"attributes\":{},\"id\":\"28021\",\"type\":\"WheelZoomTool\"},{\"attributes\":{},\"id\":\"28013\",\"type\":\"BasicTicker\"},{\"attributes\":{},\"id\":\"28020\",\"type\":\"PanTool\"},{\"attributes\":{},\"id\":\"28008\",\"type\":\"LinearScale\"},{\"attributes\":{\"overlay\":{\"id\":\"28026\"}},\"id\":\"28022\",\"type\":\"BoxZoomTool\"},{\"attributes\":{},\"id\":\"28023\",\"type\":\"SaveTool\"},{\"attributes\":{},\"id\":\"28024\",\"type\":\"ResetTool\"},{\"attributes\":{\"bottom_units\":\"screen\",\"coordinates\":null,\"fill_alpha\":0.5,\"fill_color\":\"lightgrey\",\"group\":null,\"left_units\":\"screen\",\"level\":\"overlay\",\"line_alpha\":1.0,\"line_color\":\"black\",\"line_dash\":[4,4],\"line_width\":2,\"right_units\":\"screen\",\"syncable\":false,\"top_units\":\"screen\"},\"id\":\"28026\",\"type\":\"BoxAnnotation\"},{\"attributes\":{\"below\":[{\"id\":\"28012\"}],\"center\":[{\"id\":\"28015\"},{\"id\":\"28019\"}],\"height\":400,\"left\":[{\"id\":\"28016\"}],\"renderers\":[{\"id\":\"28038\"}],\"title\":{\"id\":\"28658\"},\"toolbar\":{\"id\":\"28027\"},\"width\":400,\"x_range\":{\"id\":\"28004\"},\"x_scale\":{\"id\":\"28008\"},\"y_range\":{\"id\":\"28006\"},\"y_scale\":{\"id\":\"28010\"}},\"id\":\"28003\",\"subtype\":\"Figure\",\"type\":\"Plot\"},{\"attributes\":{},\"id\":\"28665\",\"type\":\"AllLabels\"},{\"attributes\":{},\"id\":\"28025\",\"type\":\"HelpTool\"},{\"attributes\":{\"coordinates\":null,\"data_source\":{\"id\":\"28002\"},\"glyph\":{\"id\":\"28035\"},\"group\":null,\"hover_glyph\":null,\"muted_glyph\":{\"id\":\"28037\"},\"nonselection_glyph\":{\"id\":\"28036\"},\"view\":{\"id\":\"28039\"}},\"id\":\"28038\",\"type\":\"GlyphRenderer\"},{\"attributes\":{\"coordinates\":null,\"group\":null},\"id\":\"28658\",\"type\":\"Title\"},{\"attributes\":{},\"id\":\"28662\",\"type\":\"AllLabels\"},{\"attributes\":{\"data\":{\"x\":[0.0,0.005,0.01,0.015,0.02,0.025,0.03,0.035,0.04,0.045,0.05,0.055,0.06,0.065,0.07,0.075,0.08,0.085,0.09,0.095,0.1,0.105,0.11,0.115,0.12,0.125,0.13,0.135,0.14,0.145,0.15,0.155,0.16,0.165,0.17,0.17500000000000002,0.18,0.185,0.19,0.195,0.2,0.20500000000000002,0.21,0.215,0.22,0.225,0.23,0.23500000000000001,0.24,0.245,0.25,0.255,0.26,0.265,0.27,0.275,0.28,0.28500000000000003,0.29,0.295,0.3,0.305,0.31,0.315,0.32,0.325,0.33,0.335,0.34,0.34500000000000003,0.35000000000000003,0.355,0.36,0.365,0.37,0.375,0.38,0.385,0.39,0.395,0.4,0.405,0.41000000000000003,0.41500000000000004,0.42,0.425,0.43,0.435,0.44,0.445,0.45,0.455,0.46,0.465,0.47000000000000003,0.47500000000000003,0.48,0.485,0.49,0.495,0.5,0.505,0.51,0.515,0.52,0.525,0.53,0.535,0.54,0.545,0.55,0.555,0.56,0.5650000000000001,0.5700000000000001,0.5750000000000001,0.58,0.585,0.59,0.595,0.6,0.605,0.61,0.615,0.62,0.625,0.63,0.635,0.64,0.645,0.65,0.655,0.66,0.665,0.67,0.675,0.68,0.685,0.6900000000000001,0.6950000000000001,0.7000000000000001,0.705,0.71,0.715,0.72,0.725,0.73,0.735,0.74,0.745,0.75,0.755,0.76,0.765,0.77,0.775,0.78,0.785,0.79,0.795,0.8,0.805,0.81,0.8150000000000001,0.8200000000000001,0.8250000000000001,0.8300000000000001,0.835,0.84,0.845,0.85,0.855,0.86,0.865,0.87,0.875,0.88,0.885,0.89,0.895,0.9,0.905,0.91,0.915,0.92,0.925,0.93,0.935,0.9400000000000001,0.9450000000000001,0.9500000000000001,0.9550000000000001,0.96,0.965,0.97,0.975,0.98,0.985,0.99,0.995],\"y\":[0.0,0.005,0.01,0.015,0.02,0.025,0.03,0.035,0.04,0.045,0.05,0.055,0.06,0.065,0.07,0.075,0.08,0.085,0.09,0.095,0.1,0.105,0.11,0.115,0.12,0.125,0.13,0.135,0.14,0.145,0.15,0.155,0.16,0.165,0.17,0.17500000000000002,0.18,0.185,0.19,0.195,0.2,0.20500000000000002,0.21,0.215,0.22,0.225,0.23,0.23500000000000001,0.24,0.245,0.25,0.255,0.26,0.265,0.27,0.275,0.28,0.28500000000000003,0.29,0.295,0.3,0.305,0.31,0.315,0.32,0.325,0.33,0.335,0.34,0.34500000000000003,0.35000000000000003,0.355,0.36,0.365,0.37,0.375,0.38,0.385,0.39,0.395,0.4,0.405,0.41000000000000003,0.41500000000000004,0.42,0.425,0.43,0.435,0.44,0.445,0.45,0.455,0.46,0.465,0.47000000000000003,0.47500000000000003,0.48,0.485,0.49,0.495,0.5,0.505,0.51,0.515,0.52,0.525,0.53,0.535,0.54,0.545,0.55,0.555,0.56,0.5650000000000001,0.5700000000000001,0.5750000000000001,0.58,0.585,0.59,0.595,0.6,0.605,0.61,0.615,0.62,0.625,0.63,0.635,0.64,0.645,0.65,0.655,0.66,0.665,0.67,0.675,0.68,0.685,0.6900000000000001,0.6950000000000001,0.7000000000000001,0.705,0.71,0.715,0.72,0.725,0.73,0.735,0.74,0.745,0.75,0.755,0.76,0.765,0.77,0.775,0.78,0.785,0.79,0.795,0.8,0.805,0.81,0.8150000000000001,0.8200000000000001,0.8250000000000001,0.8300000000000001,0.835,0.84,0.845,0.85,0.855,0.86,0.865,0.87,0.875,0.88,0.885,0.89,0.895,0.9,0.905,0.91,0.915,0.92,0.925,0.93,0.935,0.9400000000000001,0.9450000000000001,0.9500000000000001,0.9550000000000001,0.96,0.965,0.97,0.975,0.98,0.985,0.99,0.995]},\"selected\":{\"id\":\"28667\"},\"selection_policy\":{\"id\":\"28666\"}},\"id\":\"28002\",\"type\":\"ColumnDataSource\"},{\"attributes\":{\"end\":4,\"js_property_callbacks\":{\"change:value\":[{\"id\":\"28040\"}]},\"start\":0.1,\"step\":0.1,\"title\":\"power\",\"value\":1},\"id\":\"28041\",\"type\":\"Slider\"},{\"attributes\":{},\"id\":\"28661\",\"type\":\"BasicTickFormatter\"},{\"attributes\":{},\"id\":\"28666\",\"type\":\"UnionRenderers\"},{\"attributes\":{\"args\":{\"source\":{\"id\":\"28002\"}},\"code\":\"\\n    var data = source.data;\\n    var f = cb_obj.value\\n    x = data['x']\\n    y = data['y']\\n    for (i = 0; i < x.length; i++) {\\n        y[i] = Math.pow(x[i], f)\\n    }\\n    source.change.emit();\\n\"},\"id\":\"28040\",\"type\":\"CustomJS\"},{\"attributes\":{\"source\":{\"id\":\"28002\"}},\"id\":\"28039\",\"type\":\"CDSView\"},{\"attributes\":{},\"id\":\"28010\",\"type\":\"LinearScale\"},{\"attributes\":{},\"id\":\"28664\",\"type\":\"BasicTickFormatter\"},{\"attributes\":{},\"id\":\"28006\",\"type\":\"DataRange1d\"},{\"attributes\":{},\"id\":\"28004\",\"type\":\"DataRange1d\"},{\"attributes\":{\"tools\":[{\"id\":\"28020\"},{\"id\":\"28021\"},{\"id\":\"28022\"},{\"id\":\"28023\"},{\"id\":\"28024\"},{\"id\":\"28025\"}]},\"id\":\"28027\",\"type\":\"Toolbar\"},{\"attributes\":{\"coordinates\":null,\"formatter\":{\"id\":\"28664\"},\"group\":null,\"major_label_policy\":{\"id\":\"28665\"},\"ticker\":{\"id\":\"28013\"}},\"id\":\"28012\",\"type\":\"LinearAxis\"},{\"attributes\":{\"line_alpha\":0.6,\"line_color\":\"#1f77b4\",\"line_width\":3,\"x\":{\"field\":\"x\"},\"y\":{\"field\":\"y\"}},\"id\":\"28035\",\"type\":\"Line\"},{\"attributes\":{},\"id\":\"28667\",\"type\":\"Selection\"},{\"attributes\":{\"line_alpha\":0.2,\"line_color\":\"#1f77b4\",\"line_width\":3,\"x\":{\"field\":\"x\"},\"y\":{\"field\":\"y\"}},\"id\":\"28037\",\"type\":\"Line\"},{\"attributes\":{\"axis\":{\"id\":\"28016\"},\"coordinates\":null,\"dimension\":1,\"group\":null,\"ticker\":null},\"id\":\"28019\",\"type\":\"Grid\"}],\"root_ids\":[\"28042\"]},\"title\":\"Bokeh Application\",\"version\":\"2.4.3\"}};\n",
       "  const render_items = [{\"docid\":\"4d4d165d-44b9-413f-afa0-873222e604b4\",\"root_ids\":[\"28042\"],\"roots\":{\"28042\":\"91112c53-e186-4631-8fa3-048f60dd6d00\"}}];\n",
       "  root.Bokeh.embed.embed_items_notebook(docs_json, render_items);\n",
       "  }\n",
       "  if (root.Bokeh !== undefined) {\n",
       "    embed_document(root);\n",
       "  } else {\n",
       "    let attempts = 0;\n",
       "    const timer = setInterval(function(root) {\n",
       "      if (root.Bokeh !== undefined) {\n",
       "        clearInterval(timer);\n",
       "        embed_document(root);\n",
       "      } else {\n",
       "        attempts++;\n",
       "        if (attempts > 100) {\n",
       "          clearInterval(timer);\n",
       "          console.log(\"Bokeh: ERROR: Unable to run BokehJS code because BokehJS library is missing\");\n",
       "        }\n",
       "      }\n",
       "    }, 10, root)\n",
       "  }\n",
       "})(window);"
      ],
      "application/vnd.bokehjs_exec.v0+json": ""
     },
     "metadata": {
      "application/vnd.bokehjs_exec.v0+json": {
       "id": "28042"
      }
     },
     "output_type": "display_data"
    }
   ],
   "source": [
    "from bokeh.layouts import column\n",
    "from bokeh.models import CustomJS, ColumnDataSource, Slider\n",
    "from bokeh.plotting import figure\n",
    "\n",
    "x = [x*0.005 for x in range(0, 200)]\n",
    "y = x\n",
    "\n",
    "source = ColumnDataSource(data=dict(x=x, y=y))\n",
    "\n",
    "plot = figure(plot_width=400, plot_height=400)\n",
    "plot.line('x', 'y', source=source, line_width=3, line_alpha=0.6)\n",
    "\n",
    "callback = CustomJS(args=dict(source=source), code=\"\"\"\n",
    "    var data = source.data;\n",
    "    var f = cb_obj.value\n",
    "    x = data['x']\n",
    "    y = data['y']\n",
    "    for (i = 0; i < x.length; i++) {\n",
    "        y[i] = Math.pow(x[i], f)\n",
    "    }\n",
    "    source.change.emit();\n",
    "\"\"\")\n",
    "\n",
    "slider = Slider(start=0.1, end=4, value=1, step=.1, title=\"power\")\n",
    "slider.js_on_change('value', callback)\n",
    "\n",
    "layout = column(slider, plot)\n",
    "\n",
    "show(layout)"
   ]
  },
  {
   "cell_type": "markdown",
   "metadata": {},
   "source": [
    "The above example shows how to attach a CustomJS callback to a Slider widget, so that whenever the slider value updates, the callback is executed to update some data."
   ]
  },
  {
   "cell_type": "markdown",
   "metadata": {},
   "source": [
    "# Additional Resources and Further Readings"
   ]
  },
  {
   "cell_type": "markdown",
   "metadata": {},
   "source": [
    "## Doumentation\n",
    "\n",
    "\n",
    "##### Main Page - https://bokeh.pydata.org/en/latest \n",
    "\n",
    "The main documentation front page, with links to many other resources\n",
    "\n",
    "---\n",
    "\n",
    "##### User's Guide - https://bokeh.pydata.org/en/latest/docs/user_guide.html\n",
    "\n",
    "The user's guide has many top-oriented subsections, for example \"Plotting with Basic Glyphs\", \"Configuring Plot Tools\", or \"Adding Interactions\". Each user's guide section typically example code and corresponding live plots that demonstrate how to accomplish various tasks. \n",
    "\n",
    "---\n",
    "\n",
    "##### Gallery - https://bokeh.pydata.org/en/latest/docs/gallery.html\n",
    "\n",
    "One of the best ways to learn is to find an existing example similar to what you want, and to study it and then use it as a starting place. Starting from a known working example can often save time and effort when getting started by allowing you to make small, incremental changes and observing the outcome. The Bokeh docs have a large thumbnail gallery that links to live plots and apps with corresponding code.  \n",
    "\n",
    "\n",
    "---\n",
    "\n",
    "##### Reference Guide - https://bokeh.pydata.org/en/latest/docs/reference.html\n",
    "\n",
    "If you are already familiar with Bokeh and have questions about specific details of the obejcts you are already using, the reference guide is a good resource for finding information. The reference guide is automatically generated from the project source code and is a complete resources for all bokeh models and their properties. \n",
    "\n",
    "---\n",
    "\n",
    "\n",
    "\n",
    "##### Issue tracker - https://github.com/bokeh/bokeh/issues\n",
    "\n",
    "The GitHub issue tracker is the place to go to submit ***bug reports*** and ***feature requests***. It it NOT the right place for general support questions (see the *General Community Support* links below).\n",
    "\n"
   ]
  },
  {
   "cell_type": "markdown",
   "metadata": {},
   "source": [
    "## Example apps and Scripts\n",
    "\n",
    "In addition to all the live gallery examples, Bokeh has many additional scripts and apps that can be instructive to study and emulate. \n",
    "\n",
    "##### Examples folder - https://github.com/bokeh/bokeh/tree/master/examples/\n",
    "\n",
    "The `examples` directory has many subfolders dedicated to different kinds of topics. Some of the hightlights are:\n",
    "\n",
    "* `app` - example Bokeh apps, run with \"`bokeh serve`\"\n",
    "* `howto` - some examples arranged around specific topics such as layout or notebook comms\n",
    "* `models` - examples that demonstrate the low-level `bokeh.models` API\n",
    "* `plotting` - a large collections of examples using the `bokeh.plotting` interface\n",
    "* `webgl` - some examples demonstrating WebGL usage\n",
    "\n",
    "---\n",
    "\n",
    "##### Example zipfile\n",
    "\n",
    "To make the things easier to obtain, a zip file of just the examples is also available at\n",
    "\n",
    "`https://cdn.pydata.org/bokeh/examples/examples-<x.y.z>.zip`\n",
    "\n",
    "For example, the examples zipfile for the `0.13.0` release can be found at:\n",
    "\n",
    "https://cdn.pydata.org/bokeh/examples/examples-0.13.0.zip\n",
    "\n",
    "\n"
   ]
  },
  {
   "cell_type": "markdown",
   "metadata": {},
   "source": [
    "## General Community Support\n",
    "\n",
    "Bokeh has a large and growing community. The best place to go for general support questions (either to ask, or to answer!) is one of the community support resources listed below. \n",
    "\n",
    "* Mailing list - https://groups.google.com/a/anaconda.com/forum/#!forum/bokeh\n",
    "* Gitter chat channel - https://gitter.im/bokeh/bokeh\n",
    "* StackOverflow (use `#bokeh` tag): http://stackoverflow.com/questions/tagged/bokeh\n",
    "\n"
   ]
  },
  {
   "cell_type": "markdown",
   "metadata": {},
   "source": [
    "## Contributor Resources\n",
    "\n",
    "Bokeh has a small but growinf developer community. We are always looking to have new contributors. Below are some resources for people involved in working on Bokeh itself.\n",
    "\n",
    "##### Source code - https://github.com/bokeh/bokeh\n",
    "\n",
    "Go here to clone the GitHub repo (in order to contribute or get the examples), or to submit issues to the issue tracker \n",
    "\n",
    "---\n",
    "\n",
    "##### Issue tracker - https://github.com/bokeh/bokeh/issues\n",
    "\n",
    "The GitHub issue tracker is the place to go to submit ***bug reports*** and ***feature requests***. For general support questions, see the *General Community Support* links above.\n",
    "\n",
    "---\n",
    "\n",
    "#### Developer's Guide - https://bokeh.pydata.org/en/latest/docs/dev_guide.html\n",
    "\n",
    "If you are interesting in becoming a contributor to Bokeh, the developer's guide is the place to start. It has information about getting a development environment set up, the library architecture, writing and running tests, \n",
    "\n",
    "---\n",
    "\n",
    "#### Dev Chat Channel - https://gitter.im/bokeh/bokeh-dev\n",
    "\n",
    "Come here for assistance with any questions about developing Bokeh itself. \n"
   ]
  }
 ],
 "metadata": {
  "kernelspec": {
   "display_name": "Python 3 (ipykernel)",
   "language": "python",
   "name": "python3"
  },
  "language_info": {
   "codemirror_mode": {
    "name": "ipython",
    "version": 3
   },
   "file_extension": ".py",
   "mimetype": "text/x-python",
   "name": "python",
   "nbconvert_exporter": "python",
   "pygments_lexer": "ipython3",
   "version": "3.9.13"
  }
 },
 "nbformat": 4,
 "nbformat_minor": 4
}
