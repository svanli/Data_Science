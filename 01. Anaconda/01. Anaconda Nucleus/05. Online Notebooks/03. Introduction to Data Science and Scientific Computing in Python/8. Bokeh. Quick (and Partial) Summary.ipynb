{
 "cells": [
  {
   "cell_type": "markdown",
   "metadata": {},
   "source": [
    "# 08. Bokeh: quick (and partial) summary\n",
    "Giuseppe Jurman\n",
    "\n",
    "April, 29th 2019\n",
    "\n",
    "(partially abridged from [Data Visualisation with Bokeh](https://github.com/ernestoarbitrio/bokeh-data-visualisation))"
   ]
  },
  {
   "cell_type": "markdown",
   "metadata": {},
   "source": [
    "**Bokeh** is a `Python` interactive visualization library that targets modern web browsers for presentation. Bokeh provides elegant, concise construction of novel graphics with high-performance interactivity over very large or streaming datasets in a quick and easy way.\n",
    "\n",
    "To offer both simplicity and the powerful and flexible features needed for advanced customizations, Bokeh exposes two interface levels to users:\n",
    "\n",
    "- a low-level bokeh.models interface that provides the most flexibility to application developers.\n",
    "- an higher-level bokeh.plotting interface centered around composing visual glyphs.\n",
    "\n",
    "This Introduction focuses on the bokeh.plotting interface."
   ]
  },
  {
   "cell_type": "markdown",
   "metadata": {},
   "source": [
    "## Defining key concepts\n",
    "\n",
    "### Glossary\n",
    "\n",
    "In order to make the best use of this User Guide, it is important to have context for some high level concepts and terms. Here is a small glossary of some of the most important concepts in Bokeh.\n",
    "\n",
    "**Application**\n",
    "\n",
    "A Bokeh application is a rendered Bokeh document, running in a browser.\n",
    "\n",
    "**BokehJS**\n",
    "\n",
    "The JavaScript client library that actually renders the visuals and handles the UI interactions for Bokeh plots and widgets in the browser. Typically, users will not have to think about this aspect of Bokeh much (“We write the JavaScript, so you don’t have to!”) but it is good to have basic knowledge of this dichotomy. For full details, see the BokehJS chapter of the Developer Guide.\n",
    "\n",
    "**Documents**\n",
    "\n",
    "An organizing data structure for Bokeh applications. Documents contain all the Bokeh Models and data needed to render an interactive visualization or application in the browser.\n",
    "\n",
    "**Embedding**\n",
    "\n",
    "Various methods of including Bokeh plots and widgets into web apps and pages, or the IPython notebook. See Embedding Plots and Apps for more details.\n",
    "\n",
    "**Glyphs**\n",
    "\n",
    "The basic visual building blocks of Bokeh plots, e.g. lines, rectangles, squares, wedges, patches, etc. The bokeh.plotting interface provides a convenient way to create plots centered around glyphs. See Plotting with Basic Glyphs for more information.\n",
    "\n",
    "**Models**\n",
    "\n",
    "The lowest-level objects that comprise Bokeh “scenegraphs”. These live in the bokeh.models interface. Most users will not use this level of interface to assemble plots directly. However, ultimately all Bokeh plots consist of collections of models, so it is important to understand them enough to configure their attributes and properties. See Styling Visual Attributes for more information.\n",
    "\n",
    "**Server**\n",
    "\n",
    "The Bokeh server is an optional component that can be used for sharing and publishing Bokeh plots and apps, for handling streaming of large data sets, or for enabling sophisticated user interactions based off of widgets and selections. See Running a Bokeh Server for more explanation.\n",
    "\n",
    "**Widgets**\n",
    "\n",
    "User interface elements outside of a Bokeh plot such as sliders, drop down menus, buttons, etc. Events and updates from widgets can inform additional computations, or cause Bokeh plots to update. Widgets can be used in both standalone applications or with the Bokeh server. For examples and information, see Adding Interactions."
   ]
  },
  {
   "cell_type": "markdown",
   "metadata": {},
   "source": [
    "### Getting Started\n",
    "\n",
    "Let’s begin with some examples.\n",
    "\n",
    "Anyway Bokeh is composed by a lot of capabilities and functions. In this tutorial we will see a little part of the library, so for more detailed information please consult the full [User Guide](http://bokeh.pydata.org/en/latest/docs/user_guide.html#userguide).\n",
    "\n",
    "Plotting data in basic Python lists as a line plot including zoom, pan, save, and other tools is simple and straightforward:"
   ]
  },
  {
   "cell_type": "code",
   "execution_count": 1,
   "metadata": {},
   "outputs": [],
   "source": [
    "import bokeh"
   ]
  },
  {
   "cell_type": "code",
   "execution_count": 2,
   "metadata": {},
   "outputs": [
    {
     "data": {
      "text/plain": [
       "'2.4.3'"
      ]
     },
     "execution_count": 2,
     "metadata": {},
     "output_type": "execute_result"
    }
   ],
   "source": [
    "bokeh.__version__"
   ]
  },
  {
   "cell_type": "code",
   "execution_count": 3,
   "metadata": {},
   "outputs": [
    {
     "data": {
      "text/html": [
       "<div class=\"bk-root\">\n",
       "        <a href=\"https://bokeh.org\" target=\"_blank\" class=\"bk-logo bk-logo-small bk-logo-notebook\"></a>\n",
       "        <span id=\"1002\">Loading BokehJS ...</span>\n",
       "    </div>\n"
      ]
     },
     "metadata": {},
     "output_type": "display_data"
    },
    {
     "data": {
      "application/javascript": [
       "(function(root) {\n",
       "  function now() {\n",
       "    return new Date();\n",
       "  }\n",
       "\n",
       "  const force = true;\n",
       "\n",
       "  if (typeof root._bokeh_onload_callbacks === \"undefined\" || force === true) {\n",
       "    root._bokeh_onload_callbacks = [];\n",
       "    root._bokeh_is_loading = undefined;\n",
       "  }\n",
       "\n",
       "const JS_MIME_TYPE = 'application/javascript';\n",
       "  const HTML_MIME_TYPE = 'text/html';\n",
       "  const EXEC_MIME_TYPE = 'application/vnd.bokehjs_exec.v0+json';\n",
       "  const CLASS_NAME = 'output_bokeh rendered_html';\n",
       "\n",
       "  /**\n",
       "   * Render data to the DOM node\n",
       "   */\n",
       "  function render(props, node) {\n",
       "    const script = document.createElement(\"script\");\n",
       "    node.appendChild(script);\n",
       "  }\n",
       "\n",
       "  /**\n",
       "   * Handle when an output is cleared or removed\n",
       "   */\n",
       "  function handleClearOutput(event, handle) {\n",
       "    const cell = handle.cell;\n",
       "\n",
       "    const id = cell.output_area._bokeh_element_id;\n",
       "    const server_id = cell.output_area._bokeh_server_id;\n",
       "    // Clean up Bokeh references\n",
       "    if (id != null && id in Bokeh.index) {\n",
       "      Bokeh.index[id].model.document.clear();\n",
       "      delete Bokeh.index[id];\n",
       "    }\n",
       "\n",
       "    if (server_id !== undefined) {\n",
       "      // Clean up Bokeh references\n",
       "      const cmd_clean = \"from bokeh.io.state import curstate; print(curstate().uuid_to_server['\" + server_id + \"'].get_sessions()[0].document.roots[0]._id)\";\n",
       "      cell.notebook.kernel.execute(cmd_clean, {\n",
       "        iopub: {\n",
       "          output: function(msg) {\n",
       "            const id = msg.content.text.trim();\n",
       "            if (id in Bokeh.index) {\n",
       "              Bokeh.index[id].model.document.clear();\n",
       "              delete Bokeh.index[id];\n",
       "            }\n",
       "          }\n",
       "        }\n",
       "      });\n",
       "      // Destroy server and session\n",
       "      const cmd_destroy = \"import bokeh.io.notebook as ion; ion.destroy_server('\" + server_id + \"')\";\n",
       "      cell.notebook.kernel.execute(cmd_destroy);\n",
       "    }\n",
       "  }\n",
       "\n",
       "  /**\n",
       "   * Handle when a new output is added\n",
       "   */\n",
       "  function handleAddOutput(event, handle) {\n",
       "    const output_area = handle.output_area;\n",
       "    const output = handle.output;\n",
       "\n",
       "    // limit handleAddOutput to display_data with EXEC_MIME_TYPE content only\n",
       "    if ((output.output_type != \"display_data\") || (!Object.prototype.hasOwnProperty.call(output.data, EXEC_MIME_TYPE))) {\n",
       "      return\n",
       "    }\n",
       "\n",
       "    const toinsert = output_area.element.find(\".\" + CLASS_NAME.split(' ')[0]);\n",
       "\n",
       "    if (output.metadata[EXEC_MIME_TYPE][\"id\"] !== undefined) {\n",
       "      toinsert[toinsert.length - 1].firstChild.textContent = output.data[JS_MIME_TYPE];\n",
       "      // store reference to embed id on output_area\n",
       "      output_area._bokeh_element_id = output.metadata[EXEC_MIME_TYPE][\"id\"];\n",
       "    }\n",
       "    if (output.metadata[EXEC_MIME_TYPE][\"server_id\"] !== undefined) {\n",
       "      const bk_div = document.createElement(\"div\");\n",
       "      bk_div.innerHTML = output.data[HTML_MIME_TYPE];\n",
       "      const script_attrs = bk_div.children[0].attributes;\n",
       "      for (let i = 0; i < script_attrs.length; i++) {\n",
       "        toinsert[toinsert.length - 1].firstChild.setAttribute(script_attrs[i].name, script_attrs[i].value);\n",
       "        toinsert[toinsert.length - 1].firstChild.textContent = bk_div.children[0].textContent\n",
       "      }\n",
       "      // store reference to server id on output_area\n",
       "      output_area._bokeh_server_id = output.metadata[EXEC_MIME_TYPE][\"server_id\"];\n",
       "    }\n",
       "  }\n",
       "\n",
       "  function register_renderer(events, OutputArea) {\n",
       "\n",
       "    function append_mime(data, metadata, element) {\n",
       "      // create a DOM node to render to\n",
       "      const toinsert = this.create_output_subarea(\n",
       "        metadata,\n",
       "        CLASS_NAME,\n",
       "        EXEC_MIME_TYPE\n",
       "      );\n",
       "      this.keyboard_manager.register_events(toinsert);\n",
       "      // Render to node\n",
       "      const props = {data: data, metadata: metadata[EXEC_MIME_TYPE]};\n",
       "      render(props, toinsert[toinsert.length - 1]);\n",
       "      element.append(toinsert);\n",
       "      return toinsert\n",
       "    }\n",
       "\n",
       "    /* Handle when an output is cleared or removed */\n",
       "    events.on('clear_output.CodeCell', handleClearOutput);\n",
       "    events.on('delete.Cell', handleClearOutput);\n",
       "\n",
       "    /* Handle when a new output is added */\n",
       "    events.on('output_added.OutputArea', handleAddOutput);\n",
       "\n",
       "    /**\n",
       "     * Register the mime type and append_mime function with output_area\n",
       "     */\n",
       "    OutputArea.prototype.register_mime_type(EXEC_MIME_TYPE, append_mime, {\n",
       "      /* Is output safe? */\n",
       "      safe: true,\n",
       "      /* Index of renderer in `output_area.display_order` */\n",
       "      index: 0\n",
       "    });\n",
       "  }\n",
       "\n",
       "  // register the mime type if in Jupyter Notebook environment and previously unregistered\n",
       "  if (root.Jupyter !== undefined) {\n",
       "    const events = require('base/js/events');\n",
       "    const OutputArea = require('notebook/js/outputarea').OutputArea;\n",
       "\n",
       "    if (OutputArea.prototype.mime_types().indexOf(EXEC_MIME_TYPE) == -1) {\n",
       "      register_renderer(events, OutputArea);\n",
       "    }\n",
       "  }\n",
       "  if (typeof (root._bokeh_timeout) === \"undefined\" || force === true) {\n",
       "    root._bokeh_timeout = Date.now() + 5000;\n",
       "    root._bokeh_failed_load = false;\n",
       "  }\n",
       "\n",
       "  const NB_LOAD_WARNING = {'data': {'text/html':\n",
       "     \"<div style='background-color: #fdd'>\\n\"+\n",
       "     \"<p>\\n\"+\n",
       "     \"BokehJS does not appear to have successfully loaded. If loading BokehJS from CDN, this \\n\"+\n",
       "     \"may be due to a slow or bad network connection. Possible fixes:\\n\"+\n",
       "     \"</p>\\n\"+\n",
       "     \"<ul>\\n\"+\n",
       "     \"<li>re-rerun `output_notebook()` to attempt to load from CDN again, or</li>\\n\"+\n",
       "     \"<li>use INLINE resources instead, as so:</li>\\n\"+\n",
       "     \"</ul>\\n\"+\n",
       "     \"<code>\\n\"+\n",
       "     \"from bokeh.resources import INLINE\\n\"+\n",
       "     \"output_notebook(resources=INLINE)\\n\"+\n",
       "     \"</code>\\n\"+\n",
       "     \"</div>\"}};\n",
       "\n",
       "  function display_loaded() {\n",
       "    const el = document.getElementById(\"1002\");\n",
       "    if (el != null) {\n",
       "      el.textContent = \"BokehJS is loading...\";\n",
       "    }\n",
       "    if (root.Bokeh !== undefined) {\n",
       "      if (el != null) {\n",
       "        el.textContent = \"BokehJS \" + root.Bokeh.version + \" successfully loaded.\";\n",
       "      }\n",
       "    } else if (Date.now() < root._bokeh_timeout) {\n",
       "      setTimeout(display_loaded, 100)\n",
       "    }\n",
       "  }\n",
       "\n",
       "  function run_callbacks() {\n",
       "    try {\n",
       "      root._bokeh_onload_callbacks.forEach(function(callback) {\n",
       "        if (callback != null)\n",
       "          callback();\n",
       "      });\n",
       "    } finally {\n",
       "      delete root._bokeh_onload_callbacks\n",
       "    }\n",
       "    console.debug(\"Bokeh: all callbacks have finished\");\n",
       "  }\n",
       "\n",
       "  function load_libs(css_urls, js_urls, callback) {\n",
       "    if (css_urls == null) css_urls = [];\n",
       "    if (js_urls == null) js_urls = [];\n",
       "\n",
       "    root._bokeh_onload_callbacks.push(callback);\n",
       "    if (root._bokeh_is_loading > 0) {\n",
       "      console.debug(\"Bokeh: BokehJS is being loaded, scheduling callback at\", now());\n",
       "      return null;\n",
       "    }\n",
       "    if (js_urls == null || js_urls.length === 0) {\n",
       "      run_callbacks();\n",
       "      return null;\n",
       "    }\n",
       "    console.debug(\"Bokeh: BokehJS not loaded, scheduling load and callback at\", now());\n",
       "    root._bokeh_is_loading = css_urls.length + js_urls.length;\n",
       "\n",
       "    function on_load() {\n",
       "      root._bokeh_is_loading--;\n",
       "      if (root._bokeh_is_loading === 0) {\n",
       "        console.debug(\"Bokeh: all BokehJS libraries/stylesheets loaded\");\n",
       "        run_callbacks()\n",
       "      }\n",
       "    }\n",
       "\n",
       "    function on_error(url) {\n",
       "      console.error(\"failed to load \" + url);\n",
       "    }\n",
       "\n",
       "    for (let i = 0; i < css_urls.length; i++) {\n",
       "      const url = css_urls[i];\n",
       "      const element = document.createElement(\"link\");\n",
       "      element.onload = on_load;\n",
       "      element.onerror = on_error.bind(null, url);\n",
       "      element.rel = \"stylesheet\";\n",
       "      element.type = \"text/css\";\n",
       "      element.href = url;\n",
       "      console.debug(\"Bokeh: injecting link tag for BokehJS stylesheet: \", url);\n",
       "      document.body.appendChild(element);\n",
       "    }\n",
       "\n",
       "    for (let i = 0; i < js_urls.length; i++) {\n",
       "      const url = js_urls[i];\n",
       "      const element = document.createElement('script');\n",
       "      element.onload = on_load;\n",
       "      element.onerror = on_error.bind(null, url);\n",
       "      element.async = false;\n",
       "      element.src = url;\n",
       "      console.debug(\"Bokeh: injecting script tag for BokehJS library: \", url);\n",
       "      document.head.appendChild(element);\n",
       "    }\n",
       "  };\n",
       "\n",
       "  function inject_raw_css(css) {\n",
       "    const element = document.createElement(\"style\");\n",
       "    element.appendChild(document.createTextNode(css));\n",
       "    document.body.appendChild(element);\n",
       "  }\n",
       "\n",
       "  const js_urls = [\"https://cdn.bokeh.org/bokeh/release/bokeh-2.4.3.min.js\", \"https://cdn.bokeh.org/bokeh/release/bokeh-gl-2.4.3.min.js\", \"https://cdn.bokeh.org/bokeh/release/bokeh-widgets-2.4.3.min.js\", \"https://cdn.bokeh.org/bokeh/release/bokeh-tables-2.4.3.min.js\", \"https://cdn.bokeh.org/bokeh/release/bokeh-mathjax-2.4.3.min.js\"];\n",
       "  const css_urls = [];\n",
       "\n",
       "  const inline_js = [    function(Bokeh) {\n",
       "      Bokeh.set_log_level(\"info\");\n",
       "    },\n",
       "function(Bokeh) {\n",
       "    }\n",
       "  ];\n",
       "\n",
       "  function run_inline_js() {\n",
       "    if (root.Bokeh !== undefined || force === true) {\n",
       "          for (let i = 0; i < inline_js.length; i++) {\n",
       "      inline_js[i].call(root, root.Bokeh);\n",
       "    }\n",
       "if (force === true) {\n",
       "        display_loaded();\n",
       "      }} else if (Date.now() < root._bokeh_timeout) {\n",
       "      setTimeout(run_inline_js, 100);\n",
       "    } else if (!root._bokeh_failed_load) {\n",
       "      console.log(\"Bokeh: BokehJS failed to load within specified timeout.\");\n",
       "      root._bokeh_failed_load = true;\n",
       "    } else if (force !== true) {\n",
       "      const cell = $(document.getElementById(\"1002\")).parents('.cell').data().cell;\n",
       "      cell.output_area.append_execute_result(NB_LOAD_WARNING)\n",
       "    }\n",
       "  }\n",
       "\n",
       "  if (root._bokeh_is_loading === 0) {\n",
       "    console.debug(\"Bokeh: BokehJS loaded, going straight to plotting\");\n",
       "    run_inline_js();\n",
       "  } else {\n",
       "    load_libs(css_urls, js_urls, function() {\n",
       "      console.debug(\"Bokeh: BokehJS plotting callback run at\", now());\n",
       "      run_inline_js();\n",
       "    });\n",
       "  }\n",
       "}(window));"
      ],
      "application/vnd.bokehjs_load.v0+json": "(function(root) {\n  function now() {\n    return new Date();\n  }\n\n  const force = true;\n\n  if (typeof root._bokeh_onload_callbacks === \"undefined\" || force === true) {\n    root._bokeh_onload_callbacks = [];\n    root._bokeh_is_loading = undefined;\n  }\n\n\n  if (typeof (root._bokeh_timeout) === \"undefined\" || force === true) {\n    root._bokeh_timeout = Date.now() + 5000;\n    root._bokeh_failed_load = false;\n  }\n\n  const NB_LOAD_WARNING = {'data': {'text/html':\n     \"<div style='background-color: #fdd'>\\n\"+\n     \"<p>\\n\"+\n     \"BokehJS does not appear to have successfully loaded. If loading BokehJS from CDN, this \\n\"+\n     \"may be due to a slow or bad network connection. Possible fixes:\\n\"+\n     \"</p>\\n\"+\n     \"<ul>\\n\"+\n     \"<li>re-rerun `output_notebook()` to attempt to load from CDN again, or</li>\\n\"+\n     \"<li>use INLINE resources instead, as so:</li>\\n\"+\n     \"</ul>\\n\"+\n     \"<code>\\n\"+\n     \"from bokeh.resources import INLINE\\n\"+\n     \"output_notebook(resources=INLINE)\\n\"+\n     \"</code>\\n\"+\n     \"</div>\"}};\n\n  function display_loaded() {\n    const el = document.getElementById(\"1002\");\n    if (el != null) {\n      el.textContent = \"BokehJS is loading...\";\n    }\n    if (root.Bokeh !== undefined) {\n      if (el != null) {\n        el.textContent = \"BokehJS \" + root.Bokeh.version + \" successfully loaded.\";\n      }\n    } else if (Date.now() < root._bokeh_timeout) {\n      setTimeout(display_loaded, 100)\n    }\n  }\n\n  function run_callbacks() {\n    try {\n      root._bokeh_onload_callbacks.forEach(function(callback) {\n        if (callback != null)\n          callback();\n      });\n    } finally {\n      delete root._bokeh_onload_callbacks\n    }\n    console.debug(\"Bokeh: all callbacks have finished\");\n  }\n\n  function load_libs(css_urls, js_urls, callback) {\n    if (css_urls == null) css_urls = [];\n    if (js_urls == null) js_urls = [];\n\n    root._bokeh_onload_callbacks.push(callback);\n    if (root._bokeh_is_loading > 0) {\n      console.debug(\"Bokeh: BokehJS is being loaded, scheduling callback at\", now());\n      return null;\n    }\n    if (js_urls == null || js_urls.length === 0) {\n      run_callbacks();\n      return null;\n    }\n    console.debug(\"Bokeh: BokehJS not loaded, scheduling load and callback at\", now());\n    root._bokeh_is_loading = css_urls.length + js_urls.length;\n\n    function on_load() {\n      root._bokeh_is_loading--;\n      if (root._bokeh_is_loading === 0) {\n        console.debug(\"Bokeh: all BokehJS libraries/stylesheets loaded\");\n        run_callbacks()\n      }\n    }\n\n    function on_error(url) {\n      console.error(\"failed to load \" + url);\n    }\n\n    for (let i = 0; i < css_urls.length; i++) {\n      const url = css_urls[i];\n      const element = document.createElement(\"link\");\n      element.onload = on_load;\n      element.onerror = on_error.bind(null, url);\n      element.rel = \"stylesheet\";\n      element.type = \"text/css\";\n      element.href = url;\n      console.debug(\"Bokeh: injecting link tag for BokehJS stylesheet: \", url);\n      document.body.appendChild(element);\n    }\n\n    for (let i = 0; i < js_urls.length; i++) {\n      const url = js_urls[i];\n      const element = document.createElement('script');\n      element.onload = on_load;\n      element.onerror = on_error.bind(null, url);\n      element.async = false;\n      element.src = url;\n      console.debug(\"Bokeh: injecting script tag for BokehJS library: \", url);\n      document.head.appendChild(element);\n    }\n  };\n\n  function inject_raw_css(css) {\n    const element = document.createElement(\"style\");\n    element.appendChild(document.createTextNode(css));\n    document.body.appendChild(element);\n  }\n\n  const js_urls = [\"https://cdn.bokeh.org/bokeh/release/bokeh-2.4.3.min.js\", \"https://cdn.bokeh.org/bokeh/release/bokeh-gl-2.4.3.min.js\", \"https://cdn.bokeh.org/bokeh/release/bokeh-widgets-2.4.3.min.js\", \"https://cdn.bokeh.org/bokeh/release/bokeh-tables-2.4.3.min.js\", \"https://cdn.bokeh.org/bokeh/release/bokeh-mathjax-2.4.3.min.js\"];\n  const css_urls = [];\n\n  const inline_js = [    function(Bokeh) {\n      Bokeh.set_log_level(\"info\");\n    },\nfunction(Bokeh) {\n    }\n  ];\n\n  function run_inline_js() {\n    if (root.Bokeh !== undefined || force === true) {\n          for (let i = 0; i < inline_js.length; i++) {\n      inline_js[i].call(root, root.Bokeh);\n    }\nif (force === true) {\n        display_loaded();\n      }} else if (Date.now() < root._bokeh_timeout) {\n      setTimeout(run_inline_js, 100);\n    } else if (!root._bokeh_failed_load) {\n      console.log(\"Bokeh: BokehJS failed to load within specified timeout.\");\n      root._bokeh_failed_load = true;\n    } else if (force !== true) {\n      const cell = $(document.getElementById(\"1002\")).parents('.cell').data().cell;\n      cell.output_area.append_execute_result(NB_LOAD_WARNING)\n    }\n  }\n\n  if (root._bokeh_is_loading === 0) {\n    console.debug(\"Bokeh: BokehJS loaded, going straight to plotting\");\n    run_inline_js();\n  } else {\n    load_libs(css_urls, js_urls, function() {\n      console.debug(\"Bokeh: BokehJS plotting callback run at\", now());\n      run_inline_js();\n    });\n  }\n}(window));"
     },
     "metadata": {},
     "output_type": "display_data"
    }
   ],
   "source": [
    "from bokeh.plotting import figure, output_notebook, show\n",
    "output_notebook()"
   ]
  },
  {
   "cell_type": "code",
   "execution_count": 4,
   "metadata": {},
   "outputs": [
    {
     "data": {
      "text/html": [
       "\n",
       "  <div class=\"bk-root\" id=\"0977e4c6-acdd-4a63-baee-bb12ab905087\" data-root-id=\"1003\"></div>\n"
      ]
     },
     "metadata": {},
     "output_type": "display_data"
    },
    {
     "data": {
      "application/javascript": [
       "(function(root) {\n",
       "  function embed_document(root) {\n",
       "  const docs_json = {\"67735f69-7fe1-44ec-886a-5fc4760eae86\":{\"defs\":[],\"roots\":{\"references\":[{\"attributes\":{\"below\":[{\"id\":\"1012\"}],\"center\":[{\"id\":\"1015\"},{\"id\":\"1019\"}],\"height\":400,\"left\":[{\"id\":\"1016\"}],\"renderers\":[{\"id\":\"1038\"}],\"title\":{\"id\":\"1040\"},\"toolbar\":{\"id\":\"1027\"},\"width\":400,\"x_range\":{\"id\":\"1004\"},\"x_scale\":{\"id\":\"1008\"},\"y_range\":{\"id\":\"1006\"},\"y_scale\":{\"id\":\"1010\"}},\"id\":\"1003\",\"subtype\":\"Figure\",\"type\":\"Plot\"},{\"attributes\":{},\"id\":\"1025\",\"type\":\"HelpTool\"},{\"attributes\":{\"axis\":{\"id\":\"1016\"},\"coordinates\":null,\"dimension\":1,\"group\":null,\"ticker\":null},\"id\":\"1019\",\"type\":\"Grid\"},{\"attributes\":{\"coordinates\":null,\"formatter\":{\"id\":\"1043\"},\"group\":null,\"major_label_policy\":{\"id\":\"1044\"},\"ticker\":{\"id\":\"1017\"}},\"id\":\"1016\",\"type\":\"LinearAxis\"},{\"attributes\":{\"fill_alpha\":{\"value\":0.2},\"fill_color\":{\"value\":\"navy\"},\"hatch_alpha\":{\"value\":0.2},\"hatch_color\":{\"value\":\"navy\"},\"line_alpha\":{\"value\":0.2},\"line_color\":{\"value\":\"navy\"},\"size\":{\"value\":20},\"x\":{\"field\":\"x\"},\"y\":{\"field\":\"y\"}},\"id\":\"1037\",\"type\":\"Circle\"},{\"attributes\":{},\"id\":\"1017\",\"type\":\"BasicTicker\"},{\"attributes\":{\"fill_alpha\":{\"value\":0.5},\"fill_color\":{\"value\":\"navy\"},\"hatch_alpha\":{\"value\":0.5},\"hatch_color\":{\"value\":\"navy\"},\"line_alpha\":{\"value\":0.5},\"line_color\":{\"value\":\"navy\"},\"size\":{\"value\":20},\"x\":{\"field\":\"x\"},\"y\":{\"field\":\"y\"}},\"id\":\"1035\",\"type\":\"Circle\"},{\"attributes\":{\"coordinates\":null,\"data_source\":{\"id\":\"1034\"},\"glyph\":{\"id\":\"1035\"},\"group\":null,\"hover_glyph\":null,\"muted_glyph\":{\"id\":\"1037\"},\"nonselection_glyph\":{\"id\":\"1036\"},\"view\":{\"id\":\"1039\"}},\"id\":\"1038\",\"type\":\"GlyphRenderer\"},{\"attributes\":{\"axis\":{\"id\":\"1012\"},\"coordinates\":null,\"group\":null,\"ticker\":null},\"id\":\"1015\",\"type\":\"Grid\"},{\"attributes\":{},\"id\":\"1043\",\"type\":\"BasicTickFormatter\"},{\"attributes\":{\"data\":{\"x\":[1,2,3,4,5],\"y\":[6,7,2,4,5]},\"selected\":{\"id\":\"1049\"},\"selection_policy\":{\"id\":\"1048\"}},\"id\":\"1034\",\"type\":\"ColumnDataSource\"},{\"attributes\":{\"source\":{\"id\":\"1034\"}},\"id\":\"1039\",\"type\":\"CDSView\"},{\"attributes\":{\"fill_alpha\":{\"value\":0.1},\"fill_color\":{\"value\":\"navy\"},\"hatch_alpha\":{\"value\":0.1},\"hatch_color\":{\"value\":\"navy\"},\"line_alpha\":{\"value\":0.1},\"line_color\":{\"value\":\"navy\"},\"size\":{\"value\":20},\"x\":{\"field\":\"x\"},\"y\":{\"field\":\"y\"}},\"id\":\"1036\",\"type\":\"Circle\"},{\"attributes\":{},\"id\":\"1044\",\"type\":\"AllLabels\"},{\"attributes\":{},\"id\":\"1046\",\"type\":\"BasicTickFormatter\"},{\"attributes\":{\"coordinates\":null,\"group\":null},\"id\":\"1040\",\"type\":\"Title\"},{\"attributes\":{},\"id\":\"1006\",\"type\":\"DataRange1d\"},{\"attributes\":{},\"id\":\"1047\",\"type\":\"AllLabels\"},{\"attributes\":{},\"id\":\"1004\",\"type\":\"DataRange1d\"},{\"attributes\":{},\"id\":\"1008\",\"type\":\"LinearScale\"},{\"attributes\":{},\"id\":\"1010\",\"type\":\"LinearScale\"},{\"attributes\":{\"coordinates\":null,\"formatter\":{\"id\":\"1046\"},\"group\":null,\"major_label_policy\":{\"id\":\"1047\"},\"ticker\":{\"id\":\"1013\"}},\"id\":\"1012\",\"type\":\"LinearAxis\"},{\"attributes\":{},\"id\":\"1048\",\"type\":\"UnionRenderers\"},{\"attributes\":{\"tools\":[{\"id\":\"1020\"},{\"id\":\"1021\"},{\"id\":\"1022\"},{\"id\":\"1023\"},{\"id\":\"1024\"},{\"id\":\"1025\"}]},\"id\":\"1027\",\"type\":\"Toolbar\"},{\"attributes\":{\"bottom_units\":\"screen\",\"coordinates\":null,\"fill_alpha\":0.5,\"fill_color\":\"lightgrey\",\"group\":null,\"left_units\":\"screen\",\"level\":\"overlay\",\"line_alpha\":1.0,\"line_color\":\"black\",\"line_dash\":[4,4],\"line_width\":2,\"right_units\":\"screen\",\"syncable\":false,\"top_units\":\"screen\"},\"id\":\"1026\",\"type\":\"BoxAnnotation\"},{\"attributes\":{},\"id\":\"1049\",\"type\":\"Selection\"},{\"attributes\":{},\"id\":\"1024\",\"type\":\"ResetTool\"},{\"attributes\":{},\"id\":\"1023\",\"type\":\"SaveTool\"},{\"attributes\":{\"overlay\":{\"id\":\"1026\"}},\"id\":\"1022\",\"type\":\"BoxZoomTool\"},{\"attributes\":{},\"id\":\"1020\",\"type\":\"PanTool\"},{\"attributes\":{},\"id\":\"1013\",\"type\":\"BasicTicker\"},{\"attributes\":{},\"id\":\"1021\",\"type\":\"WheelZoomTool\"}],\"root_ids\":[\"1003\"]},\"title\":\"Bokeh Application\",\"version\":\"2.4.3\"}};\n",
       "  const render_items = [{\"docid\":\"67735f69-7fe1-44ec-886a-5fc4760eae86\",\"root_ids\":[\"1003\"],\"roots\":{\"1003\":\"0977e4c6-acdd-4a63-baee-bb12ab905087\"}}];\n",
       "  root.Bokeh.embed.embed_items_notebook(docs_json, render_items);\n",
       "  }\n",
       "  if (root.Bokeh !== undefined) {\n",
       "    embed_document(root);\n",
       "  } else {\n",
       "    let attempts = 0;\n",
       "    const timer = setInterval(function(root) {\n",
       "      if (root.Bokeh !== undefined) {\n",
       "        clearInterval(timer);\n",
       "        embed_document(root);\n",
       "      } else {\n",
       "        attempts++;\n",
       "        if (attempts > 100) {\n",
       "          clearInterval(timer);\n",
       "          console.log(\"Bokeh: ERROR: Unable to run BokehJS code because BokehJS library is missing\");\n",
       "        }\n",
       "      }\n",
       "    }, 10, root)\n",
       "  }\n",
       "})(window);"
      ],
      "application/vnd.bokehjs_exec.v0+json": ""
     },
     "metadata": {
      "application/vnd.bokehjs_exec.v0+json": {
       "id": "1003"
      }
     },
     "output_type": "display_data"
    }
   ],
   "source": [
    "p = figure(plot_width=400, plot_height=400)\n",
    "\n",
    "# add a circle renderer with a size, color, and alpha\n",
    "p.circle([1, 2, 3, 4, 5], [6, 7, 2, 4, 5], size=20, color=\"navy\", alpha=0.5)\n",
    "\n",
    "# show the results\n",
    "show(p)"
   ]
  },
  {
   "cell_type": "markdown",
   "metadata": {},
   "source": [
    "### Multiple lines"
   ]
  },
  {
   "cell_type": "code",
   "execution_count": 5,
   "metadata": {},
   "outputs": [
    {
     "data": {
      "text/html": [
       "\n",
       "  <div class=\"bk-root\" id=\"e7eeb3d0-2395-41df-ba07-d68451c417a1\" data-root-id=\"1106\"></div>\n"
      ]
     },
     "metadata": {},
     "output_type": "display_data"
    },
    {
     "data": {
      "application/javascript": [
       "(function(root) {\n",
       "  function embed_document(root) {\n",
       "  const docs_json = {\"905d377c-28de-43e8-9a85-8287569dd7a2\":{\"defs\":[],\"roots\":{\"references\":[{\"attributes\":{\"below\":[{\"id\":\"1115\"}],\"center\":[{\"id\":\"1118\"},{\"id\":\"1122\"}],\"height\":400,\"left\":[{\"id\":\"1119\"}],\"renderers\":[{\"id\":\"1141\"}],\"title\":{\"id\":\"1154\"},\"toolbar\":{\"id\":\"1130\"},\"width\":400,\"x_range\":{\"id\":\"1107\"},\"x_scale\":{\"id\":\"1111\"},\"y_range\":{\"id\":\"1109\"},\"y_scale\":{\"id\":\"1113\"}},\"id\":\"1106\",\"subtype\":\"Figure\",\"type\":\"Plot\"},{\"attributes\":{},\"id\":\"1123\",\"type\":\"PanTool\"},{\"attributes\":{\"line_alpha\":{\"field\":\"line_alpha\"},\"line_color\":{\"field\":\"line_color\"},\"line_width\":{\"value\":4},\"xs\":{\"field\":\"xs\"},\"ys\":{\"field\":\"ys\"}},\"id\":\"1138\",\"type\":\"MultiLine\"},{\"attributes\":{},\"id\":\"1162\",\"type\":\"UnionRenderers\"},{\"attributes\":{\"coordinates\":null,\"formatter\":{\"id\":\"1160\"},\"group\":null,\"major_label_policy\":{\"id\":\"1161\"},\"ticker\":{\"id\":\"1116\"}},\"id\":\"1115\",\"type\":\"LinearAxis\"},{\"attributes\":{},\"id\":\"1109\",\"type\":\"DataRange1d\"},{\"attributes\":{\"line_alpha\":{\"value\":0.1},\"line_color\":{\"field\":\"line_color\"},\"line_width\":{\"value\":4},\"xs\":{\"field\":\"xs\"},\"ys\":{\"field\":\"ys\"}},\"id\":\"1139\",\"type\":\"MultiLine\"},{\"attributes\":{\"line_alpha\":{\"value\":0.2},\"line_color\":{\"field\":\"line_color\"},\"line_width\":{\"value\":4},\"xs\":{\"field\":\"xs\"},\"ys\":{\"field\":\"ys\"}},\"id\":\"1140\",\"type\":\"MultiLine\"},{\"attributes\":{},\"id\":\"1128\",\"type\":\"HelpTool\"},{\"attributes\":{},\"id\":\"1116\",\"type\":\"BasicTicker\"},{\"attributes\":{\"bottom_units\":\"screen\",\"coordinates\":null,\"fill_alpha\":0.5,\"fill_color\":\"lightgrey\",\"group\":null,\"left_units\":\"screen\",\"level\":\"overlay\",\"line_alpha\":1.0,\"line_color\":\"black\",\"line_dash\":[4,4],\"line_width\":2,\"right_units\":\"screen\",\"syncable\":false,\"top_units\":\"screen\"},\"id\":\"1129\",\"type\":\"BoxAnnotation\"},{\"attributes\":{},\"id\":\"1111\",\"type\":\"LinearScale\"},{\"attributes\":{},\"id\":\"1113\",\"type\":\"LinearScale\"},{\"attributes\":{},\"id\":\"1127\",\"type\":\"ResetTool\"},{\"attributes\":{\"source\":{\"id\":\"1137\"}},\"id\":\"1142\",\"type\":\"CDSView\"},{\"attributes\":{},\"id\":\"1124\",\"type\":\"WheelZoomTool\"},{\"attributes\":{\"tools\":[{\"id\":\"1123\"},{\"id\":\"1124\"},{\"id\":\"1125\"},{\"id\":\"1126\"},{\"id\":\"1127\"},{\"id\":\"1128\"}]},\"id\":\"1130\",\"type\":\"Toolbar\"},{\"attributes\":{},\"id\":\"1158\",\"type\":\"AllLabels\"},{\"attributes\":{\"overlay\":{\"id\":\"1129\"}},\"id\":\"1125\",\"type\":\"BoxZoomTool\"},{\"attributes\":{\"coordinates\":null,\"data_source\":{\"id\":\"1137\"},\"glyph\":{\"id\":\"1138\"},\"group\":null,\"hover_glyph\":null,\"muted_glyph\":{\"id\":\"1140\"},\"nonselection_glyph\":{\"id\":\"1139\"},\"view\":{\"id\":\"1142\"}},\"id\":\"1141\",\"type\":\"GlyphRenderer\"},{\"attributes\":{\"coordinates\":null,\"group\":null},\"id\":\"1154\",\"type\":\"Title\"},{\"attributes\":{\"coordinates\":null,\"formatter\":{\"id\":\"1157\"},\"group\":null,\"major_label_policy\":{\"id\":\"1158\"},\"ticker\":{\"id\":\"1120\"}},\"id\":\"1119\",\"type\":\"LinearAxis\"},{\"attributes\":{},\"id\":\"1157\",\"type\":\"BasicTickFormatter\"},{\"attributes\":{},\"id\":\"1126\",\"type\":\"SaveTool\"},{\"attributes\":{},\"id\":\"1163\",\"type\":\"Selection\"},{\"attributes\":{},\"id\":\"1160\",\"type\":\"BasicTickFormatter\"},{\"attributes\":{},\"id\":\"1161\",\"type\":\"AllLabels\"},{\"attributes\":{\"axis\":{\"id\":\"1119\"},\"coordinates\":null,\"dimension\":1,\"group\":null,\"ticker\":null},\"id\":\"1122\",\"type\":\"Grid\"},{\"attributes\":{\"data\":{\"line_alpha\":[0.8,0.3],\"line_color\":[\"firebrick\",\"navy\"],\"xs\":[[1,3,2],[3,4,6,6]],\"ys\":[[2,1,4],[4,7,8,5]]},\"selected\":{\"id\":\"1163\"},\"selection_policy\":{\"id\":\"1162\"}},\"id\":\"1137\",\"type\":\"ColumnDataSource\"},{\"attributes\":{\"axis\":{\"id\":\"1115\"},\"coordinates\":null,\"group\":null,\"ticker\":null},\"id\":\"1118\",\"type\":\"Grid\"},{\"attributes\":{},\"id\":\"1120\",\"type\":\"BasicTicker\"},{\"attributes\":{},\"id\":\"1107\",\"type\":\"DataRange1d\"}],\"root_ids\":[\"1106\"]},\"title\":\"Bokeh Application\",\"version\":\"2.4.3\"}};\n",
       "  const render_items = [{\"docid\":\"905d377c-28de-43e8-9a85-8287569dd7a2\",\"root_ids\":[\"1106\"],\"roots\":{\"1106\":\"e7eeb3d0-2395-41df-ba07-d68451c417a1\"}}];\n",
       "  root.Bokeh.embed.embed_items_notebook(docs_json, render_items);\n",
       "  }\n",
       "  if (root.Bokeh !== undefined) {\n",
       "    embed_document(root);\n",
       "  } else {\n",
       "    let attempts = 0;\n",
       "    const timer = setInterval(function(root) {\n",
       "      if (root.Bokeh !== undefined) {\n",
       "        clearInterval(timer);\n",
       "        embed_document(root);\n",
       "      } else {\n",
       "        attempts++;\n",
       "        if (attempts > 100) {\n",
       "          clearInterval(timer);\n",
       "          console.log(\"Bokeh: ERROR: Unable to run BokehJS code because BokehJS library is missing\");\n",
       "        }\n",
       "      }\n",
       "    }, 10, root)\n",
       "  }\n",
       "})(window);"
      ],
      "application/vnd.bokehjs_exec.v0+json": ""
     },
     "metadata": {
      "application/vnd.bokehjs_exec.v0+json": {
       "id": "1106"
      }
     },
     "output_type": "display_data"
    }
   ],
   "source": [
    "p = figure(plot_width=400, plot_height=400)\n",
    "p.multi_line([[1, 3, 2], [3, 4, 6, 6]], [[2, 1, 4], [4, 7, 8, 5]],\n",
    "             color=[\"firebrick\", \"navy\"], alpha=[0.8, 0.3], line_width=4)\n",
    "show(p)"
   ]
  },
  {
   "cell_type": "markdown",
   "metadata": {},
   "source": [
    "### Plotting bars"
   ]
  },
  {
   "cell_type": "code",
   "execution_count": 6,
   "metadata": {},
   "outputs": [
    {
     "data": {
      "text/html": [
       "\n",
       "  <div class=\"bk-root\" id=\"930aeb88-f6ec-427b-ad1b-82c851813bdb\" data-root-id=\"1220\"></div>\n"
      ]
     },
     "metadata": {},
     "output_type": "display_data"
    },
    {
     "data": {
      "application/javascript": [
       "(function(root) {\n",
       "  function embed_document(root) {\n",
       "  const docs_json = {\"a64472f0-696a-460b-8c02-723a82dd0ffd\":{\"defs\":[],\"roots\":{\"references\":[{\"attributes\":{\"below\":[{\"id\":\"1229\"}],\"center\":[{\"id\":\"1232\"},{\"id\":\"1236\"}],\"height\":400,\"left\":[{\"id\":\"1233\"}],\"renderers\":[{\"id\":\"1255\"}],\"title\":{\"id\":\"1279\"},\"toolbar\":{\"id\":\"1244\"},\"width\":400,\"x_range\":{\"id\":\"1221\"},\"x_scale\":{\"id\":\"1225\"},\"y_range\":{\"id\":\"1223\"},\"y_scale\":{\"id\":\"1227\"}},\"id\":\"1220\",\"subtype\":\"Figure\",\"type\":\"Plot\"},{\"attributes\":{},\"id\":\"1238\",\"type\":\"WheelZoomTool\"},{\"attributes\":{},\"id\":\"1242\",\"type\":\"HelpTool\"},{\"attributes\":{\"axis\":{\"id\":\"1233\"},\"coordinates\":null,\"dimension\":1,\"group\":null,\"ticker\":null},\"id\":\"1236\",\"type\":\"Grid\"},{\"attributes\":{\"coordinates\":null,\"formatter\":{\"id\":\"1282\"},\"group\":null,\"major_label_policy\":{\"id\":\"1283\"},\"ticker\":{\"id\":\"1234\"}},\"id\":\"1233\",\"type\":\"LinearAxis\"},{\"attributes\":{},\"id\":\"1234\",\"type\":\"BasicTicker\"},{\"attributes\":{},\"id\":\"1230\",\"type\":\"BasicTicker\"},{\"attributes\":{},\"id\":\"1221\",\"type\":\"DataRange1d\"},{\"attributes\":{\"fill_alpha\":{\"value\":0.2},\"fill_color\":{\"value\":\"red\"},\"hatch_alpha\":{\"value\":0.2},\"hatch_color\":{\"value\":\"red\"},\"line_alpha\":{\"value\":0.2},\"line_color\":{\"value\":\"red\"},\"top\":{\"field\":\"top\"},\"width\":{\"value\":0.5},\"x\":{\"field\":\"x\"}},\"id\":\"1254\",\"type\":\"VBar\"},{\"attributes\":{\"coordinates\":null,\"group\":null},\"id\":\"1279\",\"type\":\"Title\"},{\"attributes\":{\"axis\":{\"id\":\"1229\"},\"coordinates\":null,\"group\":null,\"ticker\":null},\"id\":\"1232\",\"type\":\"Grid\"},{\"attributes\":{},\"id\":\"1223\",\"type\":\"DataRange1d\"},{\"attributes\":{},\"id\":\"1282\",\"type\":\"BasicTickFormatter\"},{\"attributes\":{},\"id\":\"1227\",\"type\":\"LinearScale\"},{\"attributes\":{\"tools\":[{\"id\":\"1237\"},{\"id\":\"1238\"},{\"id\":\"1239\"},{\"id\":\"1240\"},{\"id\":\"1241\"},{\"id\":\"1242\"}]},\"id\":\"1244\",\"type\":\"Toolbar\"},{\"attributes\":{},\"id\":\"1283\",\"type\":\"AllLabels\"},{\"attributes\":{\"source\":{\"id\":\"1251\"}},\"id\":\"1256\",\"type\":\"CDSView\"},{\"attributes\":{},\"id\":\"1285\",\"type\":\"BasicTickFormatter\"},{\"attributes\":{\"coordinates\":null,\"formatter\":{\"id\":\"1285\"},\"group\":null,\"major_label_policy\":{\"id\":\"1286\"},\"ticker\":{\"id\":\"1230\"}},\"id\":\"1229\",\"type\":\"LinearAxis\"},{\"attributes\":{},\"id\":\"1286\",\"type\":\"AllLabels\"},{\"attributes\":{\"coordinates\":null,\"data_source\":{\"id\":\"1251\"},\"glyph\":{\"id\":\"1252\"},\"group\":null,\"hover_glyph\":null,\"muted_glyph\":{\"id\":\"1254\"},\"nonselection_glyph\":{\"id\":\"1253\"},\"view\":{\"id\":\"1256\"}},\"id\":\"1255\",\"type\":\"GlyphRenderer\"},{\"attributes\":{\"fill_alpha\":{\"value\":0.1},\"fill_color\":{\"value\":\"red\"},\"hatch_alpha\":{\"value\":0.1},\"hatch_color\":{\"value\":\"red\"},\"line_alpha\":{\"value\":0.1},\"line_color\":{\"value\":\"red\"},\"top\":{\"field\":\"top\"},\"width\":{\"value\":0.5},\"x\":{\"field\":\"x\"}},\"id\":\"1253\",\"type\":\"VBar\"},{\"attributes\":{\"data\":{\"top\":[1.2,2.5,3.7],\"x\":[1,2,3]},\"selected\":{\"id\":\"1288\"},\"selection_policy\":{\"id\":\"1287\"}},\"id\":\"1251\",\"type\":\"ColumnDataSource\"},{\"attributes\":{\"bottom_units\":\"screen\",\"coordinates\":null,\"fill_alpha\":0.5,\"fill_color\":\"lightgrey\",\"group\":null,\"left_units\":\"screen\",\"level\":\"overlay\",\"line_alpha\":1.0,\"line_color\":\"black\",\"line_dash\":[4,4],\"line_width\":2,\"right_units\":\"screen\",\"syncable\":false,\"top_units\":\"screen\"},\"id\":\"1243\",\"type\":\"BoxAnnotation\"},{\"attributes\":{},\"id\":\"1225\",\"type\":\"LinearScale\"},{\"attributes\":{},\"id\":\"1287\",\"type\":\"UnionRenderers\"},{\"attributes\":{\"fill_color\":{\"value\":\"red\"},\"hatch_color\":{\"value\":\"red\"},\"line_color\":{\"value\":\"red\"},\"top\":{\"field\":\"top\"},\"width\":{\"value\":0.5},\"x\":{\"field\":\"x\"}},\"id\":\"1252\",\"type\":\"VBar\"},{\"attributes\":{},\"id\":\"1241\",\"type\":\"ResetTool\"},{\"attributes\":{},\"id\":\"1240\",\"type\":\"SaveTool\"},{\"attributes\":{},\"id\":\"1288\",\"type\":\"Selection\"},{\"attributes\":{\"overlay\":{\"id\":\"1243\"}},\"id\":\"1239\",\"type\":\"BoxZoomTool\"},{\"attributes\":{},\"id\":\"1237\",\"type\":\"PanTool\"}],\"root_ids\":[\"1220\"]},\"title\":\"Bokeh Application\",\"version\":\"2.4.3\"}};\n",
       "  const render_items = [{\"docid\":\"a64472f0-696a-460b-8c02-723a82dd0ffd\",\"root_ids\":[\"1220\"],\"roots\":{\"1220\":\"930aeb88-f6ec-427b-ad1b-82c851813bdb\"}}];\n",
       "  root.Bokeh.embed.embed_items_notebook(docs_json, render_items);\n",
       "  }\n",
       "  if (root.Bokeh !== undefined) {\n",
       "    embed_document(root);\n",
       "  } else {\n",
       "    let attempts = 0;\n",
       "    const timer = setInterval(function(root) {\n",
       "      if (root.Bokeh !== undefined) {\n",
       "        clearInterval(timer);\n",
       "        embed_document(root);\n",
       "      } else {\n",
       "        attempts++;\n",
       "        if (attempts > 100) {\n",
       "          clearInterval(timer);\n",
       "          console.log(\"Bokeh: ERROR: Unable to run BokehJS code because BokehJS library is missing\");\n",
       "        }\n",
       "      }\n",
       "    }, 10, root)\n",
       "  }\n",
       "})(window);"
      ],
      "application/vnd.bokehjs_exec.v0+json": ""
     },
     "metadata": {
      "application/vnd.bokehjs_exec.v0+json": {
       "id": "1220"
      }
     },
     "output_type": "display_data"
    }
   ],
   "source": [
    "p = figure(plot_width=400, plot_height=400)\n",
    "p.vbar(x=[1, 2, 3], width=0.5, bottom=0,\n",
    "       top=[1.2, 2.5, 3.7], color=\"red\")\n",
    "show(p)"
   ]
  },
  {
   "cell_type": "code",
   "execution_count": 7,
   "metadata": {},
   "outputs": [
    {
     "data": {
      "text/html": [
       "\n",
       "  <div class=\"bk-root\" id=\"68378006-353e-4ee3-b1c0-3da08a1bf44d\" data-root-id=\"1345\"></div>\n"
      ]
     },
     "metadata": {},
     "output_type": "display_data"
    },
    {
     "data": {
      "application/javascript": [
       "(function(root) {\n",
       "  function embed_document(root) {\n",
       "  const docs_json = {\"cffe0295-ca37-4634-b60e-e21e66f60cac\":{\"defs\":[],\"roots\":{\"references\":[{\"attributes\":{\"below\":[{\"id\":\"1354\"}],\"center\":[{\"id\":\"1357\"},{\"id\":\"1361\"}],\"height\":400,\"left\":[{\"id\":\"1358\"}],\"renderers\":[{\"id\":\"1380\"}],\"title\":{\"id\":\"1415\"},\"toolbar\":{\"id\":\"1369\"},\"width\":400,\"x_range\":{\"id\":\"1346\"},\"x_scale\":{\"id\":\"1350\"},\"y_range\":{\"id\":\"1348\"},\"y_scale\":{\"id\":\"1352\"}},\"id\":\"1345\",\"subtype\":\"Figure\",\"type\":\"Plot\"},{\"attributes\":{},\"id\":\"1422\",\"type\":\"AllLabels\"},{\"attributes\":{},\"id\":\"1366\",\"type\":\"ResetTool\"},{\"attributes\":{},\"id\":\"1348\",\"type\":\"DataRange1d\"},{\"attributes\":{},\"id\":\"1350\",\"type\":\"LinearScale\"},{\"attributes\":{\"coordinates\":null,\"group\":null},\"id\":\"1415\",\"type\":\"Title\"},{\"attributes\":{\"overlay\":{\"id\":\"1368\"}},\"id\":\"1364\",\"type\":\"BoxZoomTool\"},{\"attributes\":{},\"id\":\"1346\",\"type\":\"DataRange1d\"},{\"attributes\":{\"bottom_units\":\"screen\",\"coordinates\":null,\"fill_alpha\":0.5,\"fill_color\":\"lightgrey\",\"group\":null,\"left_units\":\"screen\",\"level\":\"overlay\",\"line_alpha\":1.0,\"line_color\":\"black\",\"line_dash\":[4,4],\"line_width\":2,\"right_units\":\"screen\",\"syncable\":false,\"top_units\":\"screen\"},\"id\":\"1368\",\"type\":\"BoxAnnotation\"},{\"attributes\":{\"coordinates\":null,\"data_source\":{\"id\":\"1376\"},\"glyph\":{\"id\":\"1377\"},\"group\":null,\"hover_glyph\":null,\"muted_glyph\":{\"id\":\"1379\"},\"nonselection_glyph\":{\"id\":\"1378\"},\"view\":{\"id\":\"1381\"}},\"id\":\"1380\",\"type\":\"GlyphRenderer\"},{\"attributes\":{},\"id\":\"1423\",\"type\":\"UnionRenderers\"},{\"attributes\":{},\"id\":\"1365\",\"type\":\"SaveTool\"},{\"attributes\":{\"axis\":{\"id\":\"1358\"},\"coordinates\":null,\"dimension\":1,\"group\":null,\"ticker\":null},\"id\":\"1361\",\"type\":\"Grid\"},{\"attributes\":{},\"id\":\"1352\",\"type\":\"LinearScale\"},{\"attributes\":{},\"id\":\"1355\",\"type\":\"BasicTicker\"},{\"attributes\":{\"source\":{\"id\":\"1376\"}},\"id\":\"1381\",\"type\":\"CDSView\"},{\"attributes\":{},\"id\":\"1424\",\"type\":\"Selection\"},{\"attributes\":{\"coordinates\":null,\"formatter\":{\"id\":\"1421\"},\"group\":null,\"major_label_policy\":{\"id\":\"1422\"},\"ticker\":{\"id\":\"1355\"}},\"id\":\"1354\",\"type\":\"LinearAxis\"},{\"attributes\":{},\"id\":\"1363\",\"type\":\"WheelZoomTool\"},{\"attributes\":{\"tools\":[{\"id\":\"1362\"},{\"id\":\"1363\"},{\"id\":\"1364\"},{\"id\":\"1365\"},{\"id\":\"1366\"},{\"id\":\"1367\"}]},\"id\":\"1369\",\"type\":\"Toolbar\"},{\"attributes\":{},\"id\":\"1362\",\"type\":\"PanTool\"},{\"attributes\":{\"fill_alpha\":{\"value\":0.2},\"fill_color\":{\"value\":\"navy\"},\"hatch_alpha\":{\"value\":0.2},\"hatch_color\":{\"value\":\"navy\"},\"height\":{\"value\":0.5},\"line_alpha\":{\"value\":0.2},\"line_color\":{\"value\":\"navy\"},\"right\":{\"field\":\"right\"},\"y\":{\"field\":\"y\"}},\"id\":\"1379\",\"type\":\"HBar\"},{\"attributes\":{},\"id\":\"1359\",\"type\":\"BasicTicker\"},{\"attributes\":{},\"id\":\"1367\",\"type\":\"HelpTool\"},{\"attributes\":{\"coordinates\":null,\"formatter\":{\"id\":\"1418\"},\"group\":null,\"major_label_policy\":{\"id\":\"1419\"},\"ticker\":{\"id\":\"1359\"}},\"id\":\"1358\",\"type\":\"LinearAxis\"},{\"attributes\":{\"axis\":{\"id\":\"1354\"},\"coordinates\":null,\"group\":null,\"ticker\":null},\"id\":\"1357\",\"type\":\"Grid\"},{\"attributes\":{\"fill_color\":{\"value\":\"navy\"},\"hatch_color\":{\"value\":\"navy\"},\"height\":{\"value\":0.5},\"line_color\":{\"value\":\"navy\"},\"right\":{\"field\":\"right\"},\"y\":{\"field\":\"y\"}},\"id\":\"1377\",\"type\":\"HBar\"},{\"attributes\":{},\"id\":\"1418\",\"type\":\"BasicTickFormatter\"},{\"attributes\":{\"data\":{\"right\":[1.2,2.5,3.7],\"y\":[1,2,3]},\"selected\":{\"id\":\"1424\"},\"selection_policy\":{\"id\":\"1423\"}},\"id\":\"1376\",\"type\":\"ColumnDataSource\"},{\"attributes\":{},\"id\":\"1419\",\"type\":\"AllLabels\"},{\"attributes\":{},\"id\":\"1421\",\"type\":\"BasicTickFormatter\"},{\"attributes\":{\"fill_alpha\":{\"value\":0.1},\"fill_color\":{\"value\":\"navy\"},\"hatch_alpha\":{\"value\":0.1},\"hatch_color\":{\"value\":\"navy\"},\"height\":{\"value\":0.5},\"line_alpha\":{\"value\":0.1},\"line_color\":{\"value\":\"navy\"},\"right\":{\"field\":\"right\"},\"y\":{\"field\":\"y\"}},\"id\":\"1378\",\"type\":\"HBar\"}],\"root_ids\":[\"1345\"]},\"title\":\"Bokeh Application\",\"version\":\"2.4.3\"}};\n",
       "  const render_items = [{\"docid\":\"cffe0295-ca37-4634-b60e-e21e66f60cac\",\"root_ids\":[\"1345\"],\"roots\":{\"1345\":\"68378006-353e-4ee3-b1c0-3da08a1bf44d\"}}];\n",
       "  root.Bokeh.embed.embed_items_notebook(docs_json, render_items);\n",
       "  }\n",
       "  if (root.Bokeh !== undefined) {\n",
       "    embed_document(root);\n",
       "  } else {\n",
       "    let attempts = 0;\n",
       "    const timer = setInterval(function(root) {\n",
       "      if (root.Bokeh !== undefined) {\n",
       "        clearInterval(timer);\n",
       "        embed_document(root);\n",
       "      } else {\n",
       "        attempts++;\n",
       "        if (attempts > 100) {\n",
       "          clearInterval(timer);\n",
       "          console.log(\"Bokeh: ERROR: Unable to run BokehJS code because BokehJS library is missing\");\n",
       "        }\n",
       "      }\n",
       "    }, 10, root)\n",
       "  }\n",
       "})(window);"
      ],
      "application/vnd.bokehjs_exec.v0+json": ""
     },
     "metadata": {
      "application/vnd.bokehjs_exec.v0+json": {
       "id": "1345"
      }
     },
     "output_type": "display_data"
    }
   ],
   "source": [
    "p = figure(plot_width=400, plot_height=400)\n",
    "p.hbar(y=[1, 2, 3], height=0.5, left=0,\n",
    "       right=[1.2, 2.5, 3.7], color=\"navy\")\n",
    "show(p)"
   ]
  },
  {
   "cell_type": "markdown",
   "metadata": {},
   "source": [
    "### Plotting line"
   ]
  },
  {
   "cell_type": "code",
   "execution_count": 8,
   "metadata": {},
   "outputs": [
    {
     "name": "stderr",
     "output_type": "stream",
     "text": [
      "BokehDeprecationWarning: 'legend' keyword is deprecated, use explicit 'legend_label', 'legend_field', or 'legend_group' keywords instead\n"
     ]
    },
    {
     "data": {
      "text/html": [
       "\n",
       "  <div class=\"bk-root\" id=\"58e053a6-0427-447d-8691-8fb105d78f97\" data-root-id=\"1481\"></div>\n"
      ]
     },
     "metadata": {},
     "output_type": "display_data"
    },
    {
     "data": {
      "application/javascript": [
       "(function(root) {\n",
       "  function embed_document(root) {\n",
       "  const docs_json = {\"bed5356f-ffe6-4a19-9de9-0e62314308a3\":{\"defs\":[],\"roots\":{\"references\":[{\"attributes\":{\"below\":[{\"id\":\"1492\"}],\"center\":[{\"id\":\"1495\"},{\"id\":\"1499\"},{\"id\":\"1530\"}],\"height\":400,\"left\":[{\"id\":\"1496\"}],\"renderers\":[{\"id\":\"1518\"}],\"title\":{\"id\":\"1482\"},\"toolbar\":{\"id\":\"1507\"},\"width\":500,\"x_range\":{\"id\":\"1484\"},\"x_scale\":{\"id\":\"1488\"},\"y_range\":{\"id\":\"1486\"},\"y_scale\":{\"id\":\"1490\"}},\"id\":\"1481\",\"subtype\":\"Figure\",\"type\":\"Plot\"},{\"attributes\":{\"coordinates\":null,\"group\":null,\"items\":[{\"id\":\"1531\"}]},\"id\":\"1530\",\"type\":\"Legend\"},{\"attributes\":{\"source\":{\"id\":\"1514\"}},\"id\":\"1519\",\"type\":\"CDSView\"},{\"attributes\":{},\"id\":\"1500\",\"type\":\"PanTool\"},{\"attributes\":{},\"id\":\"1528\",\"type\":\"Selection\"},{\"attributes\":{},\"id\":\"1497\",\"type\":\"BasicTicker\"},{\"attributes\":{\"axis\":{\"id\":\"1496\"},\"coordinates\":null,\"dimension\":1,\"group\":null,\"ticker\":null},\"id\":\"1499\",\"type\":\"Grid\"},{\"attributes\":{\"axis_label\":\"y\",\"coordinates\":null,\"formatter\":{\"id\":\"1522\"},\"group\":null,\"major_label_policy\":{\"id\":\"1523\"},\"ticker\":{\"id\":\"1497\"}},\"id\":\"1496\",\"type\":\"LinearAxis\"},{\"attributes\":{},\"id\":\"1525\",\"type\":\"BasicTickFormatter\"},{\"attributes\":{},\"id\":\"1526\",\"type\":\"AllLabels\"},{\"attributes\":{\"tools\":[{\"id\":\"1500\"},{\"id\":\"1501\"},{\"id\":\"1502\"},{\"id\":\"1503\"},{\"id\":\"1504\"},{\"id\":\"1505\"}]},\"id\":\"1507\",\"type\":\"Toolbar\"},{\"attributes\":{\"bottom_units\":\"screen\",\"coordinates\":null,\"fill_alpha\":0.5,\"fill_color\":\"lightgrey\",\"group\":null,\"left_units\":\"screen\",\"level\":\"overlay\",\"line_alpha\":1.0,\"line_color\":\"black\",\"line_dash\":[4,4],\"line_width\":2,\"right_units\":\"screen\",\"syncable\":false,\"top_units\":\"screen\"},\"id\":\"1506\",\"type\":\"BoxAnnotation\"},{\"attributes\":{\"line_alpha\":0.2,\"line_color\":\"#1f77b4\",\"line_width\":2,\"x\":{\"field\":\"x\"},\"y\":{\"field\":\"y\"}},\"id\":\"1517\",\"type\":\"Line\"},{\"attributes\":{\"line_alpha\":0.1,\"line_color\":\"#1f77b4\",\"line_width\":2,\"x\":{\"field\":\"x\"},\"y\":{\"field\":\"y\"}},\"id\":\"1516\",\"type\":\"Line\"},{\"attributes\":{\"line_color\":\"#1f77b4\",\"line_width\":2,\"x\":{\"field\":\"x\"},\"y\":{\"field\":\"y\"}},\"id\":\"1515\",\"type\":\"Line\"},{\"attributes\":{\"label\":{\"value\":\"Temp.\"},\"renderers\":[{\"id\":\"1518\"}]},\"id\":\"1531\",\"type\":\"LegendItem\"},{\"attributes\":{},\"id\":\"1523\",\"type\":\"AllLabels\"},{\"attributes\":{},\"id\":\"1484\",\"type\":\"DataRange1d\"},{\"attributes\":{},\"id\":\"1486\",\"type\":\"DataRange1d\"},{\"attributes\":{},\"id\":\"1522\",\"type\":\"BasicTickFormatter\"},{\"attributes\":{},\"id\":\"1488\",\"type\":\"LinearScale\"},{\"attributes\":{\"data\":{\"x\":[1,2,3,4,5,6,7],\"y\":[6,7,2,4,5,10,4]},\"selected\":{\"id\":\"1528\"},\"selection_policy\":{\"id\":\"1527\"}},\"id\":\"1514\",\"type\":\"ColumnDataSource\"},{\"attributes\":{},\"id\":\"1505\",\"type\":\"HelpTool\"},{\"attributes\":{\"overlay\":{\"id\":\"1506\"}},\"id\":\"1502\",\"type\":\"BoxZoomTool\"},{\"attributes\":{\"coordinates\":null,\"group\":null,\"text\":\"line example\"},\"id\":\"1482\",\"type\":\"Title\"},{\"attributes\":{},\"id\":\"1504\",\"type\":\"ResetTool\"},{\"attributes\":{},\"id\":\"1527\",\"type\":\"UnionRenderers\"},{\"attributes\":{},\"id\":\"1503\",\"type\":\"SaveTool\"},{\"attributes\":{},\"id\":\"1493\",\"type\":\"BasicTicker\"},{\"attributes\":{\"axis\":{\"id\":\"1492\"},\"coordinates\":null,\"group\":null,\"ticker\":null},\"id\":\"1495\",\"type\":\"Grid\"},{\"attributes\":{\"axis_label\":\"x\",\"coordinates\":null,\"formatter\":{\"id\":\"1525\"},\"group\":null,\"major_label_policy\":{\"id\":\"1526\"},\"ticker\":{\"id\":\"1493\"}},\"id\":\"1492\",\"type\":\"LinearAxis\"},{\"attributes\":{},\"id\":\"1490\",\"type\":\"LinearScale\"},{\"attributes\":{},\"id\":\"1501\",\"type\":\"WheelZoomTool\"},{\"attributes\":{\"coordinates\":null,\"data_source\":{\"id\":\"1514\"},\"glyph\":{\"id\":\"1515\"},\"group\":null,\"hover_glyph\":null,\"muted_glyph\":{\"id\":\"1517\"},\"nonselection_glyph\":{\"id\":\"1516\"},\"view\":{\"id\":\"1519\"}},\"id\":\"1518\",\"type\":\"GlyphRenderer\"}],\"root_ids\":[\"1481\"]},\"title\":\"Bokeh Application\",\"version\":\"2.4.3\"}};\n",
       "  const render_items = [{\"docid\":\"bed5356f-ffe6-4a19-9de9-0e62314308a3\",\"root_ids\":[\"1481\"],\"roots\":{\"1481\":\"58e053a6-0427-447d-8691-8fb105d78f97\"}}];\n",
       "  root.Bokeh.embed.embed_items_notebook(docs_json, render_items);\n",
       "  }\n",
       "  if (root.Bokeh !== undefined) {\n",
       "    embed_document(root);\n",
       "  } else {\n",
       "    let attempts = 0;\n",
       "    const timer = setInterval(function(root) {\n",
       "      if (root.Bokeh !== undefined) {\n",
       "        clearInterval(timer);\n",
       "        embed_document(root);\n",
       "      } else {\n",
       "        attempts++;\n",
       "        if (attempts > 100) {\n",
       "          clearInterval(timer);\n",
       "          console.log(\"Bokeh: ERROR: Unable to run BokehJS code because BokehJS library is missing\");\n",
       "        }\n",
       "      }\n",
       "    }, 10, root)\n",
       "  }\n",
       "})(window);"
      ],
      "application/vnd.bokehjs_exec.v0+json": ""
     },
     "metadata": {
      "application/vnd.bokehjs_exec.v0+json": {
       "id": "1481"
      }
     },
     "output_type": "display_data"
    }
   ],
   "source": [
    "# prepare some demo data\n",
    "x = [1, 2, 3, 4, 5, 6, 7]\n",
    "y = [6, 7, 2, 4, 5, 10, 4]\n",
    "\n",
    "# create a new plot with a title and axis labels\n",
    "p = figure(title=\"line example\", x_axis_label='x', y_axis_label='y', width=500, height=400)\n",
    "\n",
    "# add a line renderer with legend and line thickness\n",
    "p.line(x, y, legend=\"Temp.\", line_width=2)\n",
    "\n",
    "# show the results\n",
    "show(p)"
   ]
  },
  {
   "cell_type": "markdown",
   "metadata": {},
   "source": [
    "### Twin Axes"
   ]
  },
  {
   "cell_type": "code",
   "execution_count": 9,
   "metadata": {},
   "outputs": [
    {
     "data": {
      "text/html": [
       "\n",
       "  <div class=\"bk-root\" id=\"951e1f93-5ec2-4501-8b39-79158285b762\" data-root-id=\"1636\"></div>\n"
      ]
     },
     "metadata": {},
     "output_type": "display_data"
    },
    {
     "data": {
      "application/javascript": [
       "(function(root) {\n",
       "  function embed_document(root) {\n",
       "  const docs_json = {\"787399f8-2c0b-4440-99c2-3a2e8e47a19a\":{\"defs\":[],\"roots\":{\"references\":[{\"attributes\":{\"below\":[{\"id\":\"1645\"}],\"center\":[{\"id\":\"1648\"},{\"id\":\"1652\"}],\"extra_y_ranges\":{\"foo\":{\"id\":\"1673\"}},\"left\":[{\"id\":\"1649\"},{\"id\":\"1680\"}],\"renderers\":[{\"id\":\"1671\"},{\"id\":\"1678\"}],\"title\":{\"id\":\"1735\"},\"toolbar\":{\"id\":\"1660\"},\"x_range\":{\"id\":\"1637\"},\"x_scale\":{\"id\":\"1641\"},\"y_range\":{\"id\":\"1639\"},\"y_scale\":{\"id\":\"1643\"}},\"id\":\"1636\",\"subtype\":\"Figure\",\"type\":\"Plot\"},{\"attributes\":{\"tools\":[{\"id\":\"1653\"},{\"id\":\"1654\"},{\"id\":\"1655\"},{\"id\":\"1656\"},{\"id\":\"1657\"},{\"id\":\"1658\"}]},\"id\":\"1660\",\"type\":\"Toolbar\"},{\"attributes\":{\"fill_color\":{\"value\":\"red\"},\"hatch_color\":{\"value\":\"red\"},\"line_color\":{\"value\":\"red\"},\"x\":{\"field\":\"x\"},\"y\":{\"field\":\"y\"}},\"id\":\"1668\",\"type\":\"Circle\"},{\"attributes\":{},\"id\":\"1658\",\"type\":\"HelpTool\"},{\"attributes\":{},\"id\":\"1738\",\"type\":\"BasicTickFormatter\"},{\"attributes\":{},\"id\":\"1656\",\"type\":\"SaveTool\"},{\"attributes\":{},\"id\":\"1748\",\"type\":\"UnionRenderers\"},{\"attributes\":{},\"id\":\"1749\",\"type\":\"Selection\"},{\"attributes\":{},\"id\":\"1739\",\"type\":\"AllLabels\"},{\"attributes\":{},\"id\":\"1657\",\"type\":\"ResetTool\"},{\"attributes\":{},\"id\":\"1740\",\"type\":\"BasicTicker\"},{\"attributes\":{\"fill_alpha\":{\"value\":0.1},\"fill_color\":{\"value\":\"blue\"},\"hatch_alpha\":{\"value\":0.1},\"hatch_color\":{\"value\":\"blue\"},\"line_alpha\":{\"value\":0.1},\"line_color\":{\"value\":\"blue\"},\"x\":{\"field\":\"x\"},\"y\":{\"field\":\"y\"}},\"id\":\"1676\",\"type\":\"Circle\"},{\"attributes\":{\"fill_alpha\":{\"value\":0.2},\"fill_color\":{\"value\":\"red\"},\"hatch_alpha\":{\"value\":0.2},\"hatch_color\":{\"value\":\"red\"},\"line_alpha\":{\"value\":0.2},\"line_color\":{\"value\":\"red\"},\"x\":{\"field\":\"x\"},\"y\":{\"field\":\"y\"}},\"id\":\"1670\",\"type\":\"Circle\"},{\"attributes\":{\"coordinates\":null,\"formatter\":{\"id\":\"1741\"},\"group\":null,\"major_label_policy\":{\"id\":\"1742\"},\"ticker\":{\"id\":\"1740\"},\"y_range_name\":\"foo\"},\"id\":\"1680\",\"type\":\"LinearAxis\"},{\"attributes\":{},\"id\":\"1746\",\"type\":\"UnionRenderers\"},{\"attributes\":{\"coordinates\":null,\"data_source\":{\"id\":\"1667\"},\"glyph\":{\"id\":\"1668\"},\"group\":null,\"hover_glyph\":null,\"muted_glyph\":{\"id\":\"1670\"},\"nonselection_glyph\":{\"id\":\"1669\"},\"view\":{\"id\":\"1672\"}},\"id\":\"1671\",\"type\":\"GlyphRenderer\"},{\"attributes\":{\"end\":1.1,\"start\":-1.1},\"id\":\"1639\",\"type\":\"Range1d\"},{\"attributes\":{\"fill_color\":{\"value\":\"blue\"},\"hatch_color\":{\"value\":\"blue\"},\"line_color\":{\"value\":\"blue\"},\"x\":{\"field\":\"x\"},\"y\":{\"field\":\"y\"}},\"id\":\"1675\",\"type\":\"Circle\"},{\"attributes\":{},\"id\":\"1741\",\"type\":\"BasicTickFormatter\"},{\"attributes\":{},\"id\":\"1742\",\"type\":\"AllLabels\"},{\"attributes\":{\"source\":{\"id\":\"1667\"}},\"id\":\"1672\",\"type\":\"CDSView\"},{\"attributes\":{},\"id\":\"1747\",\"type\":\"Selection\"},{\"attributes\":{\"overlay\":{\"id\":\"1659\"}},\"id\":\"1655\",\"type\":\"BoxZoomTool\"},{\"attributes\":{\"fill_alpha\":{\"value\":0.1},\"fill_color\":{\"value\":\"red\"},\"hatch_alpha\":{\"value\":0.1},\"hatch_color\":{\"value\":\"red\"},\"line_alpha\":{\"value\":0.1},\"line_color\":{\"value\":\"red\"},\"x\":{\"field\":\"x\"},\"y\":{\"field\":\"y\"}},\"id\":\"1669\",\"type\":\"Circle\"},{\"attributes\":{\"end\":100},\"id\":\"1673\",\"type\":\"Range1d\"},{\"attributes\":{\"end\":6.5,\"start\":-6.5},\"id\":\"1637\",\"type\":\"Range1d\"},{\"attributes\":{},\"id\":\"1653\",\"type\":\"PanTool\"},{\"attributes\":{},\"id\":\"1643\",\"type\":\"LinearScale\"},{\"attributes\":{},\"id\":\"1744\",\"type\":\"BasicTickFormatter\"},{\"attributes\":{},\"id\":\"1641\",\"type\":\"LinearScale\"},{\"attributes\":{\"data\":{\"x\":{\"__ndarray__\":\"GC1EVPshGcCyxt3tlLsYwExgd4cuVRjA5vkQIcjuF8CAk6q6YYgXwBotRFT7IRfAtMbd7ZS7FsBOYHeHLlUWwOj5ECHI7hXAgpOqumGIFcAcLURU+yEVwLbG3e2UuxTAUGB3hy5VFMDq+RAhyO4TwISTqrphiBPAHi1EVPshE8C4xt3tlLsSwFJgd4cuVRLA7PkQIcjuEcCGk6q6YYgRwCAtRFT7IRHAusbd7ZS7EMBUYHeHLlUQwNzzIUKQ3Q/AECdVdcMQD8BEWoio9kMOwHiNu9spdw3ArMDuDl2qDMDg8yFCkN0LwBQnVXXDEAvASFqIqPZDCsB8jbvbKXcJwLDA7g5dqgjA5PMhQpDdB8AYJ1V1wxAHwExaiKj2QwbAgI272yl3BcC0wO4OXaoEwOjzIUKQ3QPAHCdVdcMQA8BQWoio9kMCwISNu9spdwHAuMDuDl2qAMDY50OEILv/v0BOquqGIf6/qLQQUe2H/L8QG3e3U+76v3iB3R26VPm/4OdDhCC7979ITqrqhiH2v7C0EFHth/S/GBt3t1Pu8r+Agd0dulTxv9DPhwhBdu+/oJxU1Q1D7L9waSGi2g/pv0A27m6n3OW/EAO7O3Sp4r/Anw8Rguzev2A5qaobhti/ANNCRLUf0r9A2bi7nXLHvwAZ2N2hS7W/AAIG7943kT8AGltVkee9P8BZeneVwMs/QJMjIrFG1D+g+YmIF63aPwAwePe+ieA/MGOrKvK84z9glt5dJfDmP5DJEZFYI+o/wPxExItW7T/4F7x730TwP5CxVRV53vE/KEvvrhJ48z/A5IhIrBH1P1h+IuJFq/Y/8Be8e99E+D+IsVUVed75PyBL764SePs/uOSISKwR/T9QfiLiRav+P/QL3r1vIgBAwNiqijzvAECMpXdXCbwBQFhyRCTWiAJAJD8R8aJVA0DwC969byIEQLzYqoo87wRAiKV3Vwm8BUBUckQk1ogGQCA/EfGiVQdA7AvevW8iCEC42KqKPO8IQISld1cJvAlAUHJEJNaICkAcPxHxolULQOgL3r1vIgxAtNiqijzvDECApXdXCbwNQExyRCTWiA5AGD8R8aJVD0DyBe/eNxEQQFhsVUWedxBAvtK7qwTeEEAkOSISa0QRQIqfiHjRqhFA8AXv3jcREkBWbFVFnncSQLzSu6sE3hJAIjkiEmtEE0CIn4h40aoTQO4F7943ERRAVGxVRZ53FEC60rurBN4UQCA5IhJrRBVAhp+IeNGqFUDsBe/eNxEWQFJsVUWedxZAuNK7qwTeFkAeOSISa0QXQISfiHjRqhdA6gXv3jcRGEBQbFVFnncYQLbSu6sE3hhA\",\"dtype\":\"float64\",\"order\":\"little\",\"shape\":[126]},\"y\":{\"__ndarray__\":\"AAAAAAAAAACamZmZmZnpP5qZmZmZmfk/NDMzMzMzA0CamZmZmZkJQAAAAAAAABBANDMzMzMzE0BnZmZmZmYWQJqZmZmZmRlAzczMzMzMHEAAAAAAAAAgQJqZmZmZmSFANDMzMzMzI0DNzMzMzMwkQGdmZmZmZiZAAAAAAAAAKECamZmZmZkpQDQzMzMzMytAzczMzMzMLEBnZmZmZmYuQAAAAAAAADBAzczMzMzMMECamZmZmZkxQGdmZmZmZjJANDMzMzMzM0AAAAAAAAA0QM3MzMzMzDRAmpmZmZmZNUBnZmZmZmY2QDQzMzMzMzdAAAAAAAAAOEDNzMzMzMw4QJqZmZmZmTlAZ2ZmZmZmOkA0MzMzMzM7QAAAAAAAADxAzczMzMzMPECamZmZmZk9QGdmZmZmZj5ANDMzMzMzP0AAAAAAAABAQGdmZmZmZkBAzczMzMzMQEAzMzMzMzNBQJqZmZmZmUFAAAAAAAAAQkBnZmZmZmZCQM3MzMzMzEJANDMzMzMzQ0CamZmZmZlDQAAAAAAAAERAZ2ZmZmZmREDNzMzMzMxEQDQzMzMzM0VAmpmZmZmZRUAAAAAAAABGQGdmZmZmZkZAzczMzMzMRkA0MzMzMzNHQJqZmZmZmUdAAAAAAAAASEBnZmZmZmZIQM3MzMzMzEhANDMzMzMzSUCamZmZmZlJQAAAAAAAAEpAZ2ZmZmZmSkDNzMzMzMxKQDQzMzMzM0tAmpmZmZmZS0AAAAAAAABMQGdmZmZmZkxAzczMzMzMTEA0MzMzMzNNQJqZmZmZmU1AAAAAAAAATkBnZmZmZmZOQM3MzMzMzE5ANDMzMzMzT0CamZmZmZlPQAAAAAAAAFBAMzMzMzMzUEBnZmZmZmZQQJqZmZmZmVBAzczMzMzMUEAAAAAAAABRQDMzMzMzM1FAZ2ZmZmZmUUCamZmZmZlRQM3MzMzMzFFAAAAAAAAAUkAzMzMzMzNSQGdmZmZmZlJAmpmZmZmZUkDNzMzMzMxSQAAAAAAAAFNANDMzMzMzU0BnZmZmZmZTQJqZmZmZmVNAzczMzMzMU0AAAAAAAABUQDQzMzMzM1RAZ2ZmZmZmVECamZmZmZlUQM3MzMzMzFRAAAAAAAAAVUA0MzMzMzNVQGdmZmZmZlVAmpmZmZmZVUDNzMzMzMxVQAAAAAAAAFZANDMzMzMzVkBnZmZmZmZWQJqZmZmZmVZAzczMzMzMVkAAAAAAAABXQDQzMzMzM1dAZ2ZmZmZmV0CamZmZmZlXQM3MzMzMzFdAAAAAAAAAWEA0MzMzMzNYQGdmZmZmZlhAmpmZmZmZWEDNzMzMzMxYQAAAAAAAAFlA\",\"dtype\":\"float64\",\"order\":\"little\",\"shape\":[126]}},\"selected\":{\"id\":\"1749\"},\"selection_policy\":{\"id\":\"1748\"}},\"id\":\"1674\",\"type\":\"ColumnDataSource\"},{\"attributes\":{\"coordinates\":null,\"data_source\":{\"id\":\"1674\"},\"glyph\":{\"id\":\"1675\"},\"group\":null,\"hover_glyph\":null,\"muted_glyph\":{\"id\":\"1677\"},\"nonselection_glyph\":{\"id\":\"1676\"},\"view\":{\"id\":\"1679\"},\"y_range_name\":\"foo\"},\"id\":\"1678\",\"type\":\"GlyphRenderer\"},{\"attributes\":{\"coordinates\":null,\"formatter\":{\"id\":\"1744\"},\"group\":null,\"major_label_policy\":{\"id\":\"1745\"},\"ticker\":{\"id\":\"1646\"}},\"id\":\"1645\",\"type\":\"LinearAxis\"},{\"attributes\":{},\"id\":\"1650\",\"type\":\"BasicTicker\"},{\"attributes\":{},\"id\":\"1646\",\"type\":\"BasicTicker\"},{\"attributes\":{\"axis\":{\"id\":\"1645\"},\"coordinates\":null,\"group\":null,\"ticker\":null},\"id\":\"1648\",\"type\":\"Grid\"},{\"attributes\":{\"axis\":{\"id\":\"1649\"},\"coordinates\":null,\"dimension\":1,\"group\":null,\"ticker\":null},\"id\":\"1652\",\"type\":\"Grid\"},{\"attributes\":{\"coordinates\":null,\"formatter\":{\"id\":\"1738\"},\"group\":null,\"major_label_policy\":{\"id\":\"1739\"},\"ticker\":{\"id\":\"1650\"}},\"id\":\"1649\",\"type\":\"LinearAxis\"},{\"attributes\":{\"source\":{\"id\":\"1674\"}},\"id\":\"1679\",\"type\":\"CDSView\"},{\"attributes\":{\"fill_alpha\":{\"value\":0.2},\"fill_color\":{\"value\":\"blue\"},\"hatch_alpha\":{\"value\":0.2},\"hatch_color\":{\"value\":\"blue\"},\"line_alpha\":{\"value\":0.2},\"line_color\":{\"value\":\"blue\"},\"x\":{\"field\":\"x\"},\"y\":{\"field\":\"y\"}},\"id\":\"1677\",\"type\":\"Circle\"},{\"attributes\":{\"data\":{\"x\":{\"__ndarray__\":\"GC1EVPshGcCyxt3tlLsYwExgd4cuVRjA5vkQIcjuF8CAk6q6YYgXwBotRFT7IRfAtMbd7ZS7FsBOYHeHLlUWwOj5ECHI7hXAgpOqumGIFcAcLURU+yEVwLbG3e2UuxTAUGB3hy5VFMDq+RAhyO4TwISTqrphiBPAHi1EVPshE8C4xt3tlLsSwFJgd4cuVRLA7PkQIcjuEcCGk6q6YYgRwCAtRFT7IRHAusbd7ZS7EMBUYHeHLlUQwNzzIUKQ3Q/AECdVdcMQD8BEWoio9kMOwHiNu9spdw3ArMDuDl2qDMDg8yFCkN0LwBQnVXXDEAvASFqIqPZDCsB8jbvbKXcJwLDA7g5dqgjA5PMhQpDdB8AYJ1V1wxAHwExaiKj2QwbAgI272yl3BcC0wO4OXaoEwOjzIUKQ3QPAHCdVdcMQA8BQWoio9kMCwISNu9spdwHAuMDuDl2qAMDY50OEILv/v0BOquqGIf6/qLQQUe2H/L8QG3e3U+76v3iB3R26VPm/4OdDhCC7979ITqrqhiH2v7C0EFHth/S/GBt3t1Pu8r+Agd0dulTxv9DPhwhBdu+/oJxU1Q1D7L9waSGi2g/pv0A27m6n3OW/EAO7O3Sp4r/Anw8Rguzev2A5qaobhti/ANNCRLUf0r9A2bi7nXLHvwAZ2N2hS7W/AAIG7943kT8AGltVkee9P8BZeneVwMs/QJMjIrFG1D+g+YmIF63aPwAwePe+ieA/MGOrKvK84z9glt5dJfDmP5DJEZFYI+o/wPxExItW7T/4F7x730TwP5CxVRV53vE/KEvvrhJ48z/A5IhIrBH1P1h+IuJFq/Y/8Be8e99E+D+IsVUVed75PyBL764SePs/uOSISKwR/T9QfiLiRav+P/QL3r1vIgBAwNiqijzvAECMpXdXCbwBQFhyRCTWiAJAJD8R8aJVA0DwC969byIEQLzYqoo87wRAiKV3Vwm8BUBUckQk1ogGQCA/EfGiVQdA7AvevW8iCEC42KqKPO8IQISld1cJvAlAUHJEJNaICkAcPxHxolULQOgL3r1vIgxAtNiqijzvDECApXdXCbwNQExyRCTWiA5AGD8R8aJVD0DyBe/eNxEQQFhsVUWedxBAvtK7qwTeEEAkOSISa0QRQIqfiHjRqhFA8AXv3jcREkBWbFVFnncSQLzSu6sE3hJAIjkiEmtEE0CIn4h40aoTQO4F7943ERRAVGxVRZ53FEC60rurBN4UQCA5IhJrRBVAhp+IeNGqFUDsBe/eNxEWQFJsVUWedxZAuNK7qwTeFkAeOSISa0QXQISfiHjRqhdA6gXv3jcRGEBQbFVFnncYQLbSu6sE3hhA\",\"dtype\":\"float64\",\"order\":\"little\",\"shape\":[126]},\"y\":{\"__ndarray__\":\"B1wUMyamsTwky4vLro65P6zSPSP/bck/Jbq6lc3p0j9XZyvpOuzYP9gFS3Tort4/S0GlF40R4j+pGUZpbp3kP7z+v8KU9OY/MKhdmAMR6T/eDAmPVO3qPyhjLUzFhOw/t1UaokPT7T9BHsX5d9XuP/vgRN/NiO8/iG0sm3rr7z/HQuDHgfzvP72YL9e3u+8//RW9gcIp7z9qOBofF0juP2C00er2GO0/HHPrP2mf6z8x16rZM9/pP1MvWC3R3Oc/0tHD9WSd5T/vys8NrybjPwGGoLv8fuA/p6ckJDFa2z9p5l0jcnDVPz8ySNa4n84/z9a2bTgQwj9JFpiCD0qlP9gm6Dk3462/9Qq3ygIxxL+gS/8QyVrQv1Jhun47c9a/JdHwQ0FS3L/dGi7savTgv0DA7P9WlOO/crMfLS4C5r9cHtzduTfov3DI4npTL+q/lhLQ3/Lj67/viQE6O1Htv8QoRTGGc+6/Y0DHPe1H77+p7F0TUczvv1HsNw9f/++/DT4MmpTg77/B6yJ2QHDvv2CZ4PWBr+6/9yLYHEag7b8lJbqyQkXsv5cSvFTvoeq/3gUyl3y66L/SsApOyZPmv0H2lhdWM+S/OMh6STef4b8a4Y7HCrzdv3u+C2SY7de/LaSwivHh0b9m/jPXGVHHv0bTvttYRbW/xSXLwqk3kT/JIzUvK9a9PxjIxkANics//AfpL0vw0z91hzWkD+nZP4cP6pqNn98/CxrYG5SC4j9hCW3CCAblP+5iZOG2U+c/hMjjJbpl6T/Mcx3cxjbrP44pBXs3wuw/3a38hhgE7j/R9xCtMvnuPzNU7vwSn+8/IbeALBH07z+1XzrVU/fvP6DPKKDSqO8/pbRJW1YJ7z+JM+n3dhruP8RhK3eX3uw/Jfgtz99Y6z+f2l/YNI3pP+WxtFcugOc/zaIuPws35T/F08pCpLfiP3g4I+RcCOA/mTEMNiZg2j8025+JG2zUPwSg1R2oh8w/qzXOvj7cvz+ZZ0Soul6ZPxMepJQaPbO/RLIVCFdQxr8Pn7GuhmTRv7Nrs+BkdNe/O7QgoURI3b9ITvP1nmjhv9zlVSmUAOS/XGXQmV9l5r9ZNdHU4ZDov+SMb++Nfeq/d0LwuHcm7L9QJSxSYIftv8TXognBnO6/SRtzYNRj779HhCYhndrvv+yTLnbr/++/NaAP81/T77/KpXWIbFXvv+6vwmBTh+6/2k8AqCNr7b+D929HtAPsv7RWM6KcVOq/762gZSti6L8bWsKEWzHmvw8RMHvHx+O/52bX95or4b9I9bkoBsfcv2FS64I67da/RcPLJ8rY0L9F3NCChDLFvyPcIcx4+rC/\",\"dtype\":\"float64\",\"order\":\"little\",\"shape\":[126]}},\"selected\":{\"id\":\"1747\"},\"selection_policy\":{\"id\":\"1746\"}},\"id\":\"1667\",\"type\":\"ColumnDataSource\"},{\"attributes\":{},\"id\":\"1745\",\"type\":\"AllLabels\"},{\"attributes\":{},\"id\":\"1654\",\"type\":\"WheelZoomTool\"},{\"attributes\":{\"bottom_units\":\"screen\",\"coordinates\":null,\"fill_alpha\":0.5,\"fill_color\":\"lightgrey\",\"group\":null,\"left_units\":\"screen\",\"level\":\"overlay\",\"line_alpha\":1.0,\"line_color\":\"black\",\"line_dash\":[4,4],\"line_width\":2,\"right_units\":\"screen\",\"syncable\":false,\"top_units\":\"screen\"},\"id\":\"1659\",\"type\":\"BoxAnnotation\"},{\"attributes\":{\"coordinates\":null,\"group\":null},\"id\":\"1735\",\"type\":\"Title\"}],\"root_ids\":[\"1636\"]},\"title\":\"Bokeh Application\",\"version\":\"2.4.3\"}};\n",
       "  const render_items = [{\"docid\":\"787399f8-2c0b-4440-99c2-3a2e8e47a19a\",\"root_ids\":[\"1636\"],\"roots\":{\"1636\":\"951e1f93-5ec2-4501-8b39-79158285b762\"}}];\n",
       "  root.Bokeh.embed.embed_items_notebook(docs_json, render_items);\n",
       "  }\n",
       "  if (root.Bokeh !== undefined) {\n",
       "    embed_document(root);\n",
       "  } else {\n",
       "    let attempts = 0;\n",
       "    const timer = setInterval(function(root) {\n",
       "      if (root.Bokeh !== undefined) {\n",
       "        clearInterval(timer);\n",
       "        embed_document(root);\n",
       "      } else {\n",
       "        attempts++;\n",
       "        if (attempts > 100) {\n",
       "          clearInterval(timer);\n",
       "          console.log(\"Bokeh: ERROR: Unable to run BokehJS code because BokehJS library is missing\");\n",
       "        }\n",
       "      }\n",
       "    }, 10, root)\n",
       "  }\n",
       "})(window);"
      ],
      "application/vnd.bokehjs_exec.v0+json": ""
     },
     "metadata": {
      "application/vnd.bokehjs_exec.v0+json": {
       "id": "1636"
      }
     },
     "output_type": "display_data"
    }
   ],
   "source": [
    "from numpy import pi, arange, sin, linspace\n",
    "from bokeh.models import LinearAxis, Range1d\n",
    "\n",
    "x = arange(-2*pi, 2*pi, 0.1)\n",
    "y = sin(x)\n",
    "y2 = linspace(0, 100, len(y))\n",
    "\n",
    "p = figure(x_range=(-6.5, 6.5), y_range=(-1.1, 1.1))\n",
    "\n",
    "p.circle(x, y, color=\"red\")\n",
    "\n",
    "p.extra_y_ranges = {\"foo\": Range1d(start=0, end=100)}\n",
    "p.circle(x, y2, color=\"blue\", y_range_name=\"foo\")\n",
    "p.add_layout(LinearAxis(y_range_name=\"foo\"), 'left')\n",
    "\n",
    "show(p)"
   ]
  },
  {
   "cell_type": "markdown",
   "metadata": {},
   "source": [
    "The basic steps to creating plots with the [bokeh.plotting](http://bokeh.pydata.org/en/latest/docs/reference/plotting.html#bokeh-plotting) interface are:\n",
    "\n",
    " - Prepare some data (in this case plain python lists).\n",
    " - Tell Bokeh where to generate output (in this case using `output_notebook()`).\n",
    " - Call `figure()` to create a plot with some overall options like title, tools and axes labels.\n",
    " - Add renderers (in this case, `Figure.line`) for our data, with visual customizations like colors, legends and widths  to the plot.\n",
    " - Ask Bokeh to `show()` or `save()` the results.\n",
    "\n",
    "Steps three and four can be repeated to create more than one plot, as shown in some of the examples below.\n",
    "\n",
    "The [bokeh.plotting](http://bokeh.pydata.org/en/latest/docs/reference/plotting.html#bokeh-plotting) interface is also quite handy if we need to customize the output a bit more by adding more data series, glyphs, logarithmic axis, and so on. It’s also possible to easily combine multiple glyphs together on one plot as shown below:"
   ]
  },
  {
   "cell_type": "code",
   "execution_count": 10,
   "metadata": {},
   "outputs": [
    {
     "data": {
      "text/html": [
       "\n",
       "  <div class=\"bk-root\" id=\"fa6f401d-f88b-4f3f-b2ae-ca78cb794f46\" data-root-id=\"1831\"></div>\n"
      ]
     },
     "metadata": {},
     "output_type": "display_data"
    },
    {
     "data": {
      "application/javascript": [
       "(function(root) {\n",
       "  function embed_document(root) {\n",
       "  const docs_json = {\"a75925a8-dbbc-46bf-ac20-a23dc6fff291\":{\"defs\":[],\"roots\":{\"references\":[{\"attributes\":{\"below\":[{\"id\":\"1842\"}],\"center\":[{\"id\":\"1845\"},{\"id\":\"1849\"},{\"id\":\"1876\"}],\"height\":350,\"left\":[{\"id\":\"1846\"}],\"renderers\":[{\"id\":\"1864\"},{\"id\":\"1882\"},{\"id\":\"1900\"},{\"id\":\"1921\"},{\"id\":\"1944\"},{\"id\":\"1968\"}],\"title\":{\"id\":\"1832\"},\"toolbar\":{\"id\":\"1855\"},\"width\":700,\"x_range\":{\"id\":\"1834\"},\"x_scale\":{\"id\":\"1838\"},\"y_range\":{\"id\":\"1836\"},\"y_scale\":{\"id\":\"1840\"}},\"id\":\"1831\",\"subtype\":\"Figure\",\"type\":\"Plot\"},{\"attributes\":{\"coordinates\":null,\"data_source\":{\"id\":\"1940\"},\"glyph\":{\"id\":\"1941\"},\"group\":null,\"hover_glyph\":null,\"muted_glyph\":{\"id\":\"1943\"},\"nonselection_glyph\":{\"id\":\"1942\"},\"view\":{\"id\":\"1945\"}},\"id\":\"1944\",\"type\":\"GlyphRenderer\"},{\"attributes\":{\"axis_label\":\"sections\",\"coordinates\":null,\"formatter\":{\"id\":\"1871\"},\"group\":null,\"major_label_policy\":{\"id\":\"1872\"},\"ticker\":{\"id\":\"1843\"}},\"id\":\"1842\",\"type\":\"LinearAxis\"},{\"attributes\":{\"bottom_units\":\"screen\",\"coordinates\":null,\"fill_alpha\":0.5,\"fill_color\":\"lightgrey\",\"group\":null,\"left_units\":\"screen\",\"level\":\"overlay\",\"line_alpha\":1.0,\"line_color\":\"black\",\"line_dash\":[4,4],\"line_width\":2,\"right_units\":\"screen\",\"syncable\":false,\"top_units\":\"screen\"},\"id\":\"1854\",\"type\":\"BoxAnnotation\"},{\"attributes\":{\"data\":{\"x\":[0.1,0.5,1.0,1.5,2.0,2.5,3.0],\"y\":[0.1,0.5,1.0,1.5,2.0,2.5,3.0]},\"selected\":{\"id\":\"1894\"},\"selection_policy\":{\"id\":\"1893\"}},\"id\":\"1878\",\"type\":\"ColumnDataSource\"},{\"attributes\":{},\"id\":\"1840\",\"type\":\"LogScale\"},{\"attributes\":{\"fill_color\":{\"value\":\"red\"},\"line_color\":{\"value\":\"red\"},\"size\":{\"value\":6},\"x\":{\"field\":\"x\"},\"y\":{\"field\":\"y\"}},\"id\":\"1941\",\"type\":\"Circle\"},{\"attributes\":{\"fill_alpha\":{\"value\":0.2},\"fill_color\":{\"value\":\"red\"},\"hatch_alpha\":{\"value\":0.2},\"line_alpha\":{\"value\":0.2},\"line_color\":{\"value\":\"red\"},\"size\":{\"value\":6},\"x\":{\"field\":\"x\"},\"y\":{\"field\":\"y\"}},\"id\":\"1943\",\"type\":\"Circle\"},{\"attributes\":{\"data\":{\"x\":[0.1,0.5,1.0,1.5,2.0,2.5,3.0],\"y\":[0.1,0.5,1.0,1.5,2.0,2.5,3.0]},\"selected\":{\"id\":\"1874\"},\"selection_policy\":{\"id\":\"1873\"}},\"id\":\"1860\",\"type\":\"ColumnDataSource\"},{\"attributes\":{\"source\":{\"id\":\"1964\"}},\"id\":\"1969\",\"type\":\"CDSView\"},{\"attributes\":{\"label\":{\"value\":\"y=10^x^2\"},\"renderers\":[{\"id\":\"1968\"}]},\"id\":\"1990\",\"type\":\"LegendItem\"},{\"attributes\":{\"data\":{\"x\":[0.1,0.5,1.0,1.5,2.0,2.5,3.0],\"y\":[1.023292992280754,1.7782794100389228,10.0,177.82794100389228,10000.0,1778279.410038923,1000000000.0]},\"selected\":{\"id\":\"1988\"},\"selection_policy\":{\"id\":\"1987\"}},\"id\":\"1964\",\"type\":\"ColumnDataSource\"},{\"attributes\":{\"line_color\":\"orange\",\"line_dash\":[4,4],\"x\":{\"field\":\"x\"},\"y\":{\"field\":\"y\"}},\"id\":\"1965\",\"type\":\"Line\"},{\"attributes\":{},\"id\":\"1893\",\"type\":\"UnionRenderers\"},{\"attributes\":{\"coordinates\":null,\"group\":null,\"text\":\"log axis example\"},\"id\":\"1832\",\"type\":\"Title\"},{\"attributes\":{\"data\":{\"x\":[0.1,0.5,1.0,1.5,2.0,2.5,3.0],\"y\":[1.2589254117941673,3.1622776601683795,10.0,31.622776601683793,100.0,316.22776601683796,1000.0]},\"selected\":{\"id\":\"1962\"},\"selection_policy\":{\"id\":\"1961\"}},\"id\":\"1940\",\"type\":\"ColumnDataSource\"},{\"attributes\":{\"line_alpha\":0.2,\"line_color\":\"orange\",\"line_dash\":[4,4],\"x\":{\"field\":\"x\"},\"y\":{\"field\":\"y\"}},\"id\":\"1967\",\"type\":\"Line\"},{\"attributes\":{\"axis\":{\"id\":\"1842\"},\"coordinates\":null,\"group\":null,\"ticker\":null},\"id\":\"1845\",\"type\":\"Grid\"},{\"attributes\":{\"line_alpha\":0.2,\"line_color\":\"red\",\"x\":{\"field\":\"x\"},\"y\":{\"field\":\"y\"}},\"id\":\"1920\",\"type\":\"Line\"},{\"attributes\":{\"line_alpha\":0.1,\"line_color\":\"orange\",\"line_dash\":[4,4],\"x\":{\"field\":\"x\"},\"y\":{\"field\":\"y\"}},\"id\":\"1966\",\"type\":\"Line\"},{\"attributes\":{\"coordinates\":null,\"data_source\":{\"id\":\"1964\"},\"glyph\":{\"id\":\"1965\"},\"group\":null,\"hover_glyph\":null,\"muted_glyph\":{\"id\":\"1967\"},\"nonselection_glyph\":{\"id\":\"1966\"},\"view\":{\"id\":\"1969\"}},\"id\":\"1968\",\"type\":\"GlyphRenderer\"},{\"attributes\":{\"source\":{\"id\":\"1917\"}},\"id\":\"1922\",\"type\":\"CDSView\"},{\"attributes\":{},\"id\":\"1843\",\"type\":\"BasicTicker\"},{\"attributes\":{},\"id\":\"1836\",\"type\":\"DataRange1d\"},{\"attributes\":{\"line_alpha\":0.1,\"line_color\":\"red\",\"x\":{\"field\":\"x\"},\"y\":{\"field\":\"y\"}},\"id\":\"1919\",\"type\":\"Line\"},{\"attributes\":{\"fill_alpha\":{\"value\":0.1},\"fill_color\":{\"value\":\"red\"},\"hatch_alpha\":{\"value\":0.1},\"line_alpha\":{\"value\":0.1},\"line_color\":{\"value\":\"red\"},\"size\":{\"value\":6},\"x\":{\"field\":\"x\"},\"y\":{\"field\":\"y\"}},\"id\":\"1942\",\"type\":\"Circle\"},{\"attributes\":{\"source\":{\"id\":\"1940\"}},\"id\":\"1945\",\"type\":\"CDSView\"},{\"attributes\":{\"line_color\":\"red\",\"x\":{\"field\":\"x\"},\"y\":{\"field\":\"y\"}},\"id\":\"1918\",\"type\":\"Line\"},{\"attributes\":{\"label\":{\"value\":\"y=x\"},\"renderers\":[{\"id\":\"1864\"},{\"id\":\"1882\"}]},\"id\":\"1877\",\"type\":\"LegendItem\"},{\"attributes\":{\"source\":{\"id\":\"1878\"}},\"id\":\"1883\",\"type\":\"CDSView\"},{\"attributes\":{},\"id\":\"1987\",\"type\":\"UnionRenderers\"},{\"attributes\":{},\"id\":\"1988\",\"type\":\"Selection\"},{\"attributes\":{\"label\":{\"value\":\"y=10^x\"},\"renderers\":[{\"id\":\"1921\"},{\"id\":\"1944\"}]},\"id\":\"1939\",\"type\":\"LegendItem\"},{\"attributes\":{},\"id\":\"1871\",\"type\":\"BasicTickFormatter\"},{\"attributes\":{},\"id\":\"1962\",\"type\":\"Selection\"},{\"attributes\":{\"coordinates\":null,\"data_source\":{\"id\":\"1896\"},\"glyph\":{\"id\":\"1897\"},\"group\":null,\"hover_glyph\":null,\"muted_glyph\":{\"id\":\"1899\"},\"nonselection_glyph\":{\"id\":\"1898\"},\"view\":{\"id\":\"1901\"}},\"id\":\"1900\",\"type\":\"GlyphRenderer\"},{\"attributes\":{},\"id\":\"1874\",\"type\":\"Selection\"},{\"attributes\":{},\"id\":\"1936\",\"type\":\"UnionRenderers\"},{\"attributes\":{},\"id\":\"1872\",\"type\":\"AllLabels\"},{\"attributes\":{\"coordinates\":null,\"data_source\":{\"id\":\"1860\"},\"glyph\":{\"id\":\"1861\"},\"group\":null,\"hover_glyph\":null,\"muted_glyph\":{\"id\":\"1863\"},\"nonselection_glyph\":{\"id\":\"1862\"},\"view\":{\"id\":\"1865\"}},\"id\":\"1864\",\"type\":\"GlyphRenderer\"},{\"attributes\":{},\"id\":\"1873\",\"type\":\"UnionRenderers\"},{\"attributes\":{\"source\":{\"id\":\"1896\"}},\"id\":\"1901\",\"type\":\"CDSView\"},{\"attributes\":{\"fill_color\":{\"value\":\"white\"},\"line_color\":{\"value\":\"#1f77b4\"},\"size\":{\"value\":8},\"x\":{\"field\":\"x\"},\"y\":{\"field\":\"y\"}},\"id\":\"1879\",\"type\":\"Circle\"},{\"attributes\":{},\"id\":\"1937\",\"type\":\"Selection\"},{\"attributes\":{},\"id\":\"1961\",\"type\":\"UnionRenderers\"},{\"attributes\":{\"line_color\":\"#1f77b4\",\"x\":{\"field\":\"x\"},\"y\":{\"field\":\"y\"}},\"id\":\"1861\",\"type\":\"Line\"},{\"attributes\":{\"label\":{\"value\":\"y=x^2\"},\"renderers\":[{\"id\":\"1900\"}]},\"id\":\"1916\",\"type\":\"LegendItem\"},{\"attributes\":{},\"id\":\"1834\",\"type\":\"DataRange1d\"},{\"attributes\":{},\"id\":\"1913\",\"type\":\"UnionRenderers\"},{\"attributes\":{\"line_alpha\":0.2,\"line_color\":\"#1f77b4\",\"line_width\":3,\"x\":{\"field\":\"x\"},\"y\":{\"field\":\"y\"}},\"id\":\"1899\",\"type\":\"Line\"},{\"attributes\":{\"line_color\":\"#1f77b4\",\"line_width\":3,\"x\":{\"field\":\"x\"},\"y\":{\"field\":\"y\"}},\"id\":\"1897\",\"type\":\"Line\"},{\"attributes\":{\"line_alpha\":0.1,\"line_color\":\"#1f77b4\",\"line_width\":3,\"x\":{\"field\":\"x\"},\"y\":{\"field\":\"y\"}},\"id\":\"1898\",\"type\":\"Line\"},{\"attributes\":{},\"id\":\"1869\",\"type\":\"AllLabels\"},{\"attributes\":{\"fill_alpha\":{\"value\":0.1},\"fill_color\":{\"value\":\"white\"},\"hatch_alpha\":{\"value\":0.1},\"line_alpha\":{\"value\":0.1},\"line_color\":{\"value\":\"#1f77b4\"},\"size\":{\"value\":8},\"x\":{\"field\":\"x\"},\"y\":{\"field\":\"y\"}},\"id\":\"1880\",\"type\":\"Circle\"},{\"attributes\":{\"coordinates\":null,\"data_source\":{\"id\":\"1878\"},\"glyph\":{\"id\":\"1879\"},\"group\":null,\"hover_glyph\":null,\"muted_glyph\":{\"id\":\"1881\"},\"nonselection_glyph\":{\"id\":\"1880\"},\"view\":{\"id\":\"1883\"}},\"id\":\"1882\",\"type\":\"GlyphRenderer\"},{\"attributes\":{\"source\":{\"id\":\"1860\"}},\"id\":\"1865\",\"type\":\"CDSView\"},{\"attributes\":{\"fill_alpha\":{\"value\":0.2},\"fill_color\":{\"value\":\"white\"},\"hatch_alpha\":{\"value\":0.2},\"line_alpha\":{\"value\":0.2},\"line_color\":{\"value\":\"#1f77b4\"},\"size\":{\"value\":8},\"x\":{\"field\":\"x\"},\"y\":{\"field\":\"y\"}},\"id\":\"1881\",\"type\":\"Circle\"},{\"attributes\":{},\"id\":\"1838\",\"type\":\"LinearScale\"},{\"attributes\":{\"axis_label\":\"particles\",\"coordinates\":null,\"formatter\":{\"id\":\"1868\"},\"group\":null,\"major_label_policy\":{\"id\":\"1869\"},\"ticker\":{\"id\":\"1847\"}},\"id\":\"1846\",\"type\":\"LogAxis\"},{\"attributes\":{\"tools\":[{\"id\":\"1850\"},{\"id\":\"1851\"},{\"id\":\"1852\"},{\"id\":\"1853\"}]},\"id\":\"1855\",\"type\":\"Toolbar\"},{\"attributes\":{\"num_minor_ticks\":10},\"id\":\"1847\",\"type\":\"LogTicker\"},{\"attributes\":{\"data\":{\"x\":[0.1,0.5,1.0,1.5,2.0,2.5,3.0],\"y\":[0.010000000000000002,0.25,1.0,2.25,4.0,6.25,9.0]},\"selected\":{\"id\":\"1914\"},\"selection_policy\":{\"id\":\"1913\"}},\"id\":\"1896\",\"type\":\"ColumnDataSource\"},{\"attributes\":{},\"id\":\"1914\",\"type\":\"Selection\"},{\"attributes\":{\"axis\":{\"id\":\"1846\"},\"coordinates\":null,\"dimension\":1,\"group\":null,\"ticker\":null},\"id\":\"1849\",\"type\":\"Grid\"},{\"attributes\":{\"coordinates\":null,\"data_source\":{\"id\":\"1917\"},\"glyph\":{\"id\":\"1918\"},\"group\":null,\"hover_glyph\":null,\"muted_glyph\":{\"id\":\"1920\"},\"nonselection_glyph\":{\"id\":\"1919\"},\"view\":{\"id\":\"1922\"}},\"id\":\"1921\",\"type\":\"GlyphRenderer\"},{\"attributes\":{\"overlay\":{\"id\":\"1854\"}},\"id\":\"1851\",\"type\":\"BoxZoomTool\"},{\"attributes\":{\"line_alpha\":0.1,\"line_color\":\"#1f77b4\",\"x\":{\"field\":\"x\"},\"y\":{\"field\":\"y\"}},\"id\":\"1862\",\"type\":\"Line\"},{\"attributes\":{\"line_alpha\":0.2,\"line_color\":\"#1f77b4\",\"x\":{\"field\":\"x\"},\"y\":{\"field\":\"y\"}},\"id\":\"1863\",\"type\":\"Line\"},{\"attributes\":{},\"id\":\"1850\",\"type\":\"PanTool\"},{\"attributes\":{},\"id\":\"1894\",\"type\":\"Selection\"},{\"attributes\":{\"data\":{\"x\":[0.1,0.5,1.0,1.5,2.0,2.5,3.0],\"y\":[1.2589254117941673,3.1622776601683795,10.0,31.622776601683793,100.0,316.22776601683796,1000.0]},\"selected\":{\"id\":\"1937\"},\"selection_policy\":{\"id\":\"1936\"}},\"id\":\"1917\",\"type\":\"ColumnDataSource\"},{\"attributes\":{},\"id\":\"1852\",\"type\":\"ResetTool\"},{\"attributes\":{},\"id\":\"1853\",\"type\":\"SaveTool\"},{\"attributes\":{\"coordinates\":null,\"group\":null,\"items\":[{\"id\":\"1877\"},{\"id\":\"1916\"},{\"id\":\"1939\"},{\"id\":\"1990\"}]},\"id\":\"1876\",\"type\":\"Legend\"},{\"attributes\":{\"ticker\":null},\"id\":\"1868\",\"type\":\"LogTickFormatter\"}],\"root_ids\":[\"1831\"]},\"title\":\"Bokeh Application\",\"version\":\"2.4.3\"}};\n",
       "  const render_items = [{\"docid\":\"a75925a8-dbbc-46bf-ac20-a23dc6fff291\",\"root_ids\":[\"1831\"],\"roots\":{\"1831\":\"fa6f401d-f88b-4f3f-b2ae-ca78cb794f46\"}}];\n",
       "  root.Bokeh.embed.embed_items_notebook(docs_json, render_items);\n",
       "  }\n",
       "  if (root.Bokeh !== undefined) {\n",
       "    embed_document(root);\n",
       "  } else {\n",
       "    let attempts = 0;\n",
       "    const timer = setInterval(function(root) {\n",
       "      if (root.Bokeh !== undefined) {\n",
       "        clearInterval(timer);\n",
       "        embed_document(root);\n",
       "      } else {\n",
       "        attempts++;\n",
       "        if (attempts > 100) {\n",
       "          clearInterval(timer);\n",
       "          console.log(\"Bokeh: ERROR: Unable to run BokehJS code because BokehJS library is missing\");\n",
       "        }\n",
       "      }\n",
       "    }, 10, root)\n",
       "  }\n",
       "})(window);"
      ],
      "application/vnd.bokehjs_exec.v0+json": ""
     },
     "metadata": {
      "application/vnd.bokehjs_exec.v0+json": {
       "id": "1831"
      }
     },
     "output_type": "display_data"
    }
   ],
   "source": [
    "# prepare some data\n",
    "x = [0.1, 0.5, 1.0, 1.5, 2.0, 2.5, 3.0]\n",
    "y0 = [i**2 for i in x]\n",
    "y1 = [10**i for i in x]\n",
    "y2 = [10**(i**2) for i in x]\n",
    "\n",
    "# create a new plot\n",
    "p = figure(\n",
    "    tools=\"pan,box_zoom,reset,save\",\n",
    "    y_axis_type=\"log\", title=\"log axis example\",\n",
    "    x_axis_label='sections', y_axis_label='particles',\n",
    "    width=700, height=350)\n",
    "\n",
    "\n",
    "# add some renderers\n",
    "p.line(x, x, legend_label=\"y=x\")\n",
    "p.circle(x, x, legend_label=\"y=x\", fill_color=\"white\", size=8)\n",
    "\n",
    "p.line(x, y0, legend_label=\"y=x^2\", line_width=3)\n",
    "\n",
    "p.line(x, y1, legend_label=\"y=10^x\", line_color=\"red\")\n",
    "p.circle(x, y1, legend_label=\"y=10^x\", fill_color=\"red\", line_color=\"red\", size=6)\n",
    "\n",
    "p.line(x, y2, legend_label=\"y=10^x^2\", line_color=\"orange\", line_dash=\"4 4\")\n",
    "\n",
    "# show the results\n",
    "show(p)"
   ]
  },
  {
   "cell_type": "markdown",
   "metadata": {},
   "source": [
    "From the 0.12.9 it's possible to define the click policy on the legend. So for example if you want to hide the series you click on the legend:"
   ]
  },
  {
   "cell_type": "code",
   "execution_count": 11,
   "metadata": {},
   "outputs": [],
   "source": [
    "p.legend.location = \"top_left\"\n",
    "p.legend.click_policy=\"hide\" # >mute< is the other option"
   ]
  },
  {
   "cell_type": "code",
   "execution_count": 12,
   "metadata": {},
   "outputs": [
    {
     "data": {
      "text/html": [
       "\n",
       "  <div class=\"bk-root\" id=\"7e1fbbc4-2c64-4417-90b1-b17abe507ea2\" data-root-id=\"1831\"></div>\n"
      ]
     },
     "metadata": {},
     "output_type": "display_data"
    },
    {
     "data": {
      "application/javascript": [
       "(function(root) {\n",
       "  function embed_document(root) {\n",
       "  const docs_json = {\"6fb1b18b-82d0-4074-a426-6b7d59bfecd9\":{\"defs\":[],\"roots\":{\"references\":[{\"attributes\":{\"below\":[{\"id\":\"1842\"}],\"center\":[{\"id\":\"1845\"},{\"id\":\"1849\"},{\"id\":\"1876\"}],\"height\":350,\"left\":[{\"id\":\"1846\"}],\"renderers\":[{\"id\":\"1864\"},{\"id\":\"1882\"},{\"id\":\"1900\"},{\"id\":\"1921\"},{\"id\":\"1944\"},{\"id\":\"1968\"}],\"title\":{\"id\":\"1832\"},\"toolbar\":{\"id\":\"1855\"},\"width\":700,\"x_range\":{\"id\":\"1834\"},\"x_scale\":{\"id\":\"1838\"},\"y_range\":{\"id\":\"1836\"},\"y_scale\":{\"id\":\"1840\"}},\"id\":\"1831\",\"subtype\":\"Figure\",\"type\":\"Plot\"},{\"attributes\":{\"coordinates\":null,\"data_source\":{\"id\":\"1940\"},\"glyph\":{\"id\":\"1941\"},\"group\":null,\"hover_glyph\":null,\"muted_glyph\":{\"id\":\"1943\"},\"nonselection_glyph\":{\"id\":\"1942\"},\"view\":{\"id\":\"1945\"}},\"id\":\"1944\",\"type\":\"GlyphRenderer\"},{\"attributes\":{\"axis_label\":\"sections\",\"coordinates\":null,\"formatter\":{\"id\":\"1871\"},\"group\":null,\"major_label_policy\":{\"id\":\"1872\"},\"ticker\":{\"id\":\"1843\"}},\"id\":\"1842\",\"type\":\"LinearAxis\"},{\"attributes\":{\"bottom_units\":\"screen\",\"coordinates\":null,\"fill_alpha\":0.5,\"fill_color\":\"lightgrey\",\"group\":null,\"left_units\":\"screen\",\"level\":\"overlay\",\"line_alpha\":1.0,\"line_color\":\"black\",\"line_dash\":[4,4],\"line_width\":2,\"right_units\":\"screen\",\"syncable\":false,\"top_units\":\"screen\"},\"id\":\"1854\",\"type\":\"BoxAnnotation\"},{\"attributes\":{\"data\":{\"x\":[0.1,0.5,1.0,1.5,2.0,2.5,3.0],\"y\":[0.1,0.5,1.0,1.5,2.0,2.5,3.0]},\"selected\":{\"id\":\"1894\"},\"selection_policy\":{\"id\":\"1893\"}},\"id\":\"1878\",\"type\":\"ColumnDataSource\"},{\"attributes\":{},\"id\":\"1840\",\"type\":\"LogScale\"},{\"attributes\":{\"fill_color\":{\"value\":\"red\"},\"line_color\":{\"value\":\"red\"},\"size\":{\"value\":6},\"x\":{\"field\":\"x\"},\"y\":{\"field\":\"y\"}},\"id\":\"1941\",\"type\":\"Circle\"},{\"attributes\":{\"fill_alpha\":{\"value\":0.2},\"fill_color\":{\"value\":\"red\"},\"hatch_alpha\":{\"value\":0.2},\"line_alpha\":{\"value\":0.2},\"line_color\":{\"value\":\"red\"},\"size\":{\"value\":6},\"x\":{\"field\":\"x\"},\"y\":{\"field\":\"y\"}},\"id\":\"1943\",\"type\":\"Circle\"},{\"attributes\":{\"data\":{\"x\":[0.1,0.5,1.0,1.5,2.0,2.5,3.0],\"y\":[0.1,0.5,1.0,1.5,2.0,2.5,3.0]},\"selected\":{\"id\":\"1874\"},\"selection_policy\":{\"id\":\"1873\"}},\"id\":\"1860\",\"type\":\"ColumnDataSource\"},{\"attributes\":{\"source\":{\"id\":\"1964\"}},\"id\":\"1969\",\"type\":\"CDSView\"},{\"attributes\":{\"label\":{\"value\":\"y=10^x^2\"},\"renderers\":[{\"id\":\"1968\"}]},\"id\":\"1990\",\"type\":\"LegendItem\"},{\"attributes\":{\"data\":{\"x\":[0.1,0.5,1.0,1.5,2.0,2.5,3.0],\"y\":[1.023292992280754,1.7782794100389228,10.0,177.82794100389228,10000.0,1778279.410038923,1000000000.0]},\"selected\":{\"id\":\"1988\"},\"selection_policy\":{\"id\":\"1987\"}},\"id\":\"1964\",\"type\":\"ColumnDataSource\"},{\"attributes\":{\"line_color\":\"orange\",\"line_dash\":[4,4],\"x\":{\"field\":\"x\"},\"y\":{\"field\":\"y\"}},\"id\":\"1965\",\"type\":\"Line\"},{\"attributes\":{},\"id\":\"1893\",\"type\":\"UnionRenderers\"},{\"attributes\":{\"coordinates\":null,\"group\":null,\"text\":\"log axis example\"},\"id\":\"1832\",\"type\":\"Title\"},{\"attributes\":{\"data\":{\"x\":[0.1,0.5,1.0,1.5,2.0,2.5,3.0],\"y\":[1.2589254117941673,3.1622776601683795,10.0,31.622776601683793,100.0,316.22776601683796,1000.0]},\"selected\":{\"id\":\"1962\"},\"selection_policy\":{\"id\":\"1961\"}},\"id\":\"1940\",\"type\":\"ColumnDataSource\"},{\"attributes\":{\"line_alpha\":0.2,\"line_color\":\"orange\",\"line_dash\":[4,4],\"x\":{\"field\":\"x\"},\"y\":{\"field\":\"y\"}},\"id\":\"1967\",\"type\":\"Line\"},{\"attributes\":{\"axis\":{\"id\":\"1842\"},\"coordinates\":null,\"group\":null,\"ticker\":null},\"id\":\"1845\",\"type\":\"Grid\"},{\"attributes\":{\"line_alpha\":0.2,\"line_color\":\"red\",\"x\":{\"field\":\"x\"},\"y\":{\"field\":\"y\"}},\"id\":\"1920\",\"type\":\"Line\"},{\"attributes\":{\"line_alpha\":0.1,\"line_color\":\"orange\",\"line_dash\":[4,4],\"x\":{\"field\":\"x\"},\"y\":{\"field\":\"y\"}},\"id\":\"1966\",\"type\":\"Line\"},{\"attributes\":{\"coordinates\":null,\"data_source\":{\"id\":\"1964\"},\"glyph\":{\"id\":\"1965\"},\"group\":null,\"hover_glyph\":null,\"muted_glyph\":{\"id\":\"1967\"},\"nonselection_glyph\":{\"id\":\"1966\"},\"view\":{\"id\":\"1969\"}},\"id\":\"1968\",\"type\":\"GlyphRenderer\"},{\"attributes\":{\"source\":{\"id\":\"1917\"}},\"id\":\"1922\",\"type\":\"CDSView\"},{\"attributes\":{},\"id\":\"1843\",\"type\":\"BasicTicker\"},{\"attributes\":{},\"id\":\"1836\",\"type\":\"DataRange1d\"},{\"attributes\":{\"line_alpha\":0.1,\"line_color\":\"red\",\"x\":{\"field\":\"x\"},\"y\":{\"field\":\"y\"}},\"id\":\"1919\",\"type\":\"Line\"},{\"attributes\":{\"fill_alpha\":{\"value\":0.1},\"fill_color\":{\"value\":\"red\"},\"hatch_alpha\":{\"value\":0.1},\"line_alpha\":{\"value\":0.1},\"line_color\":{\"value\":\"red\"},\"size\":{\"value\":6},\"x\":{\"field\":\"x\"},\"y\":{\"field\":\"y\"}},\"id\":\"1942\",\"type\":\"Circle\"},{\"attributes\":{\"source\":{\"id\":\"1940\"}},\"id\":\"1945\",\"type\":\"CDSView\"},{\"attributes\":{\"line_color\":\"red\",\"x\":{\"field\":\"x\"},\"y\":{\"field\":\"y\"}},\"id\":\"1918\",\"type\":\"Line\"},{\"attributes\":{\"label\":{\"value\":\"y=x\"},\"renderers\":[{\"id\":\"1864\"},{\"id\":\"1882\"}]},\"id\":\"1877\",\"type\":\"LegendItem\"},{\"attributes\":{\"source\":{\"id\":\"1878\"}},\"id\":\"1883\",\"type\":\"CDSView\"},{\"attributes\":{},\"id\":\"1987\",\"type\":\"UnionRenderers\"},{\"attributes\":{},\"id\":\"1988\",\"type\":\"Selection\"},{\"attributes\":{\"label\":{\"value\":\"y=10^x\"},\"renderers\":[{\"id\":\"1921\"},{\"id\":\"1944\"}]},\"id\":\"1939\",\"type\":\"LegendItem\"},{\"attributes\":{},\"id\":\"1871\",\"type\":\"BasicTickFormatter\"},{\"attributes\":{},\"id\":\"1962\",\"type\":\"Selection\"},{\"attributes\":{\"coordinates\":null,\"data_source\":{\"id\":\"1896\"},\"glyph\":{\"id\":\"1897\"},\"group\":null,\"hover_glyph\":null,\"muted_glyph\":{\"id\":\"1899\"},\"nonselection_glyph\":{\"id\":\"1898\"},\"view\":{\"id\":\"1901\"}},\"id\":\"1900\",\"type\":\"GlyphRenderer\"},{\"attributes\":{},\"id\":\"1874\",\"type\":\"Selection\"},{\"attributes\":{},\"id\":\"1936\",\"type\":\"UnionRenderers\"},{\"attributes\":{},\"id\":\"1872\",\"type\":\"AllLabels\"},{\"attributes\":{\"coordinates\":null,\"data_source\":{\"id\":\"1860\"},\"glyph\":{\"id\":\"1861\"},\"group\":null,\"hover_glyph\":null,\"muted_glyph\":{\"id\":\"1863\"},\"nonselection_glyph\":{\"id\":\"1862\"},\"view\":{\"id\":\"1865\"}},\"id\":\"1864\",\"type\":\"GlyphRenderer\"},{\"attributes\":{},\"id\":\"1873\",\"type\":\"UnionRenderers\"},{\"attributes\":{\"source\":{\"id\":\"1896\"}},\"id\":\"1901\",\"type\":\"CDSView\"},{\"attributes\":{\"fill_color\":{\"value\":\"white\"},\"line_color\":{\"value\":\"#1f77b4\"},\"size\":{\"value\":8},\"x\":{\"field\":\"x\"},\"y\":{\"field\":\"y\"}},\"id\":\"1879\",\"type\":\"Circle\"},{\"attributes\":{},\"id\":\"1937\",\"type\":\"Selection\"},{\"attributes\":{},\"id\":\"1961\",\"type\":\"UnionRenderers\"},{\"attributes\":{\"line_color\":\"#1f77b4\",\"x\":{\"field\":\"x\"},\"y\":{\"field\":\"y\"}},\"id\":\"1861\",\"type\":\"Line\"},{\"attributes\":{\"label\":{\"value\":\"y=x^2\"},\"renderers\":[{\"id\":\"1900\"}]},\"id\":\"1916\",\"type\":\"LegendItem\"},{\"attributes\":{},\"id\":\"1834\",\"type\":\"DataRange1d\"},{\"attributes\":{},\"id\":\"1913\",\"type\":\"UnionRenderers\"},{\"attributes\":{\"line_alpha\":0.2,\"line_color\":\"#1f77b4\",\"line_width\":3,\"x\":{\"field\":\"x\"},\"y\":{\"field\":\"y\"}},\"id\":\"1899\",\"type\":\"Line\"},{\"attributes\":{\"line_color\":\"#1f77b4\",\"line_width\":3,\"x\":{\"field\":\"x\"},\"y\":{\"field\":\"y\"}},\"id\":\"1897\",\"type\":\"Line\"},{\"attributes\":{\"line_alpha\":0.1,\"line_color\":\"#1f77b4\",\"line_width\":3,\"x\":{\"field\":\"x\"},\"y\":{\"field\":\"y\"}},\"id\":\"1898\",\"type\":\"Line\"},{\"attributes\":{},\"id\":\"1869\",\"type\":\"AllLabels\"},{\"attributes\":{\"fill_alpha\":{\"value\":0.1},\"fill_color\":{\"value\":\"white\"},\"hatch_alpha\":{\"value\":0.1},\"line_alpha\":{\"value\":0.1},\"line_color\":{\"value\":\"#1f77b4\"},\"size\":{\"value\":8},\"x\":{\"field\":\"x\"},\"y\":{\"field\":\"y\"}},\"id\":\"1880\",\"type\":\"Circle\"},{\"attributes\":{\"coordinates\":null,\"data_source\":{\"id\":\"1878\"},\"glyph\":{\"id\":\"1879\"},\"group\":null,\"hover_glyph\":null,\"muted_glyph\":{\"id\":\"1881\"},\"nonselection_glyph\":{\"id\":\"1880\"},\"view\":{\"id\":\"1883\"}},\"id\":\"1882\",\"type\":\"GlyphRenderer\"},{\"attributes\":{\"source\":{\"id\":\"1860\"}},\"id\":\"1865\",\"type\":\"CDSView\"},{\"attributes\":{\"fill_alpha\":{\"value\":0.2},\"fill_color\":{\"value\":\"white\"},\"hatch_alpha\":{\"value\":0.2},\"line_alpha\":{\"value\":0.2},\"line_color\":{\"value\":\"#1f77b4\"},\"size\":{\"value\":8},\"x\":{\"field\":\"x\"},\"y\":{\"field\":\"y\"}},\"id\":\"1881\",\"type\":\"Circle\"},{\"attributes\":{},\"id\":\"1838\",\"type\":\"LinearScale\"},{\"attributes\":{\"axis_label\":\"particles\",\"coordinates\":null,\"formatter\":{\"id\":\"1868\"},\"group\":null,\"major_label_policy\":{\"id\":\"1869\"},\"ticker\":{\"id\":\"1847\"}},\"id\":\"1846\",\"type\":\"LogAxis\"},{\"attributes\":{\"tools\":[{\"id\":\"1850\"},{\"id\":\"1851\"},{\"id\":\"1852\"},{\"id\":\"1853\"}]},\"id\":\"1855\",\"type\":\"Toolbar\"},{\"attributes\":{\"num_minor_ticks\":10},\"id\":\"1847\",\"type\":\"LogTicker\"},{\"attributes\":{\"data\":{\"x\":[0.1,0.5,1.0,1.5,2.0,2.5,3.0],\"y\":[0.010000000000000002,0.25,1.0,2.25,4.0,6.25,9.0]},\"selected\":{\"id\":\"1914\"},\"selection_policy\":{\"id\":\"1913\"}},\"id\":\"1896\",\"type\":\"ColumnDataSource\"},{\"attributes\":{},\"id\":\"1914\",\"type\":\"Selection\"},{\"attributes\":{\"axis\":{\"id\":\"1846\"},\"coordinates\":null,\"dimension\":1,\"group\":null,\"ticker\":null},\"id\":\"1849\",\"type\":\"Grid\"},{\"attributes\":{\"coordinates\":null,\"data_source\":{\"id\":\"1917\"},\"glyph\":{\"id\":\"1918\"},\"group\":null,\"hover_glyph\":null,\"muted_glyph\":{\"id\":\"1920\"},\"nonselection_glyph\":{\"id\":\"1919\"},\"view\":{\"id\":\"1922\"}},\"id\":\"1921\",\"type\":\"GlyphRenderer\"},{\"attributes\":{\"overlay\":{\"id\":\"1854\"}},\"id\":\"1851\",\"type\":\"BoxZoomTool\"},{\"attributes\":{\"line_alpha\":0.1,\"line_color\":\"#1f77b4\",\"x\":{\"field\":\"x\"},\"y\":{\"field\":\"y\"}},\"id\":\"1862\",\"type\":\"Line\"},{\"attributes\":{\"line_alpha\":0.2,\"line_color\":\"#1f77b4\",\"x\":{\"field\":\"x\"},\"y\":{\"field\":\"y\"}},\"id\":\"1863\",\"type\":\"Line\"},{\"attributes\":{},\"id\":\"1850\",\"type\":\"PanTool\"},{\"attributes\":{},\"id\":\"1894\",\"type\":\"Selection\"},{\"attributes\":{\"data\":{\"x\":[0.1,0.5,1.0,1.5,2.0,2.5,3.0],\"y\":[1.2589254117941673,3.1622776601683795,10.0,31.622776601683793,100.0,316.22776601683796,1000.0]},\"selected\":{\"id\":\"1937\"},\"selection_policy\":{\"id\":\"1936\"}},\"id\":\"1917\",\"type\":\"ColumnDataSource\"},{\"attributes\":{},\"id\":\"1852\",\"type\":\"ResetTool\"},{\"attributes\":{},\"id\":\"1853\",\"type\":\"SaveTool\"},{\"attributes\":{\"click_policy\":\"hide\",\"coordinates\":null,\"group\":null,\"items\":[{\"id\":\"1877\"},{\"id\":\"1916\"},{\"id\":\"1939\"},{\"id\":\"1990\"}],\"location\":\"top_left\"},\"id\":\"1876\",\"type\":\"Legend\"},{\"attributes\":{\"ticker\":null},\"id\":\"1868\",\"type\":\"LogTickFormatter\"}],\"root_ids\":[\"1831\"]},\"title\":\"Bokeh Application\",\"version\":\"2.4.3\"}};\n",
       "  const render_items = [{\"docid\":\"6fb1b18b-82d0-4074-a426-6b7d59bfecd9\",\"root_ids\":[\"1831\"],\"roots\":{\"1831\":\"7e1fbbc4-2c64-4417-90b1-b17abe507ea2\"}}];\n",
       "  root.Bokeh.embed.embed_items_notebook(docs_json, render_items);\n",
       "  }\n",
       "  if (root.Bokeh !== undefined) {\n",
       "    embed_document(root);\n",
       "  } else {\n",
       "    let attempts = 0;\n",
       "    const timer = setInterval(function(root) {\n",
       "      if (root.Bokeh !== undefined) {\n",
       "        clearInterval(timer);\n",
       "        embed_document(root);\n",
       "      } else {\n",
       "        attempts++;\n",
       "        if (attempts > 100) {\n",
       "          clearInterval(timer);\n",
       "          console.log(\"Bokeh: ERROR: Unable to run BokehJS code because BokehJS library is missing\");\n",
       "        }\n",
       "      }\n",
       "    }, 10, root)\n",
       "  }\n",
       "})(window);"
      ],
      "application/vnd.bokehjs_exec.v0+json": ""
     },
     "metadata": {
      "application/vnd.bokehjs_exec.v0+json": {
       "id": "1831"
      }
     },
     "output_type": "display_data"
    }
   ],
   "source": [
    "show(p)"
   ]
  },
  {
   "cell_type": "markdown",
   "metadata": {},
   "source": [
    "## Sample Data\n",
    "Some of the examples included in the Bokeh source make use of sample data files that are distributed separately. To download this data, execute the following commands at a Bash or Windows command prompt:\n",
    "\n",
    "```bash\n",
    "bokeh sampledata\n",
    "```"
   ]
  },
  {
   "cell_type": "markdown",
   "metadata": {},
   "source": [
    "## Concepts\n",
    "\n",
    "Let’s consider the plots above, and use them to help define some core concepts.\n",
    "\n",
    "### Plot\n",
    "\n",
    "Plots are a central concept in Bokeh. They are containers that hold all the various objects (renderers, guides, data, and tools) that comprise the final visualization that is presented to users. The bokeh.plotting interface provides a Figure class to help with assembling all the necessary objects, and a convenience function figure() for creating Figure objects.\n",
    "\n",
    "### Glyphs\n",
    "\n",
    "Glyphs are the basic visual marks that Bokeh can display. At the lowest level, there are glyph objects, such as Line. If you are using the low-level bokeh.models interface, it is your responsibility to create and coordinate all the various Bokeh objects, including glyph objects and their data sources. To make life easier, the bokeh.plotting interface exposes higher level glyph methods such as the Figure.line method used in the first example. The second example also adds in calls to Figure.circle to display circle and line glyphs together on the same plot. Besides lines and circles, Bokeh makes many additional glyphs and markers available.\n",
    "\n",
    "The visual appearance of a glyph is tied directly to the data values that are associated with the glyph’s various attributes. In the example above we see that positional attributes like x and y can be set to vectors of data. But glyphs also have some combination of Line Properties, Fill Properties, and Text Properties to control their appearance. All of these attributes can be set with “vectorized” values as well. We will show examples of this below.\n",
    "\n",
    "### Guides and Annotations\n",
    "\n",
    "Bokeh plots can also have other visual components that aid presentation or help the user make comparisons. These fall into two categories. Guides are visual aids that help users judge distances, angles, etc. These include grid lines or bands, axes (such as linear, log, or datetime) that may have ticks and tick labels as well. Annotations are visual aids that label or name parts of the plot. These include titles, legends, etc.\n",
    "\n",
    "### Ranges\n",
    "\n",
    "Ranges describe the data-space bounds of a plot. By default, plots generated with the bokeh.plotting interface come configured with DataRange1d objects that try to automatically set the plot bounds to encompass all the available data. But it is possible to supply explicit Range1d objects for fixed bounds. As a convenience these can also typically be spelled as 2-tuples or lists:\n",
    "\n",
    "`p = figure(x_range=[0,10], y_range=(10, 20))`\n",
    "\n",
    "\n",
    "### Resources\n",
    "\n",
    "To generate plots, the client library BokehJS JavaScript and CSS code must be loaded into the browser. By default, the output_file() function will load BokehJS from http://cdn.pydata.org . However, you can also configure Bokeh to generate static HTML files with BokehJS resources embedded directly inside, by passing the argument mode=\"inline\" to the output_file() function.\n",
    "\n",
    "### More examples¶\n",
    "\n",
    "Here are a few more examples to demonstrate other common tasks and use-cases with the bokeh.plotting interface.\n",
    "\n",
    "\n",
    "### Vectorized colors and sizes¶\n",
    "\n",
    "This example shows how it is possible to provide sequences of data values for glyph attributes like fill_color and radius. Other things to look out for in this example:\n",
    "- supplying an explicit list of tool names to figure()\n",
    "- fetching BokehJS resources from CDN using the mode argument\n",
    "- setting the x_range and y_range explicitly\n",
    "- turning a line off (by setting its value to None)\n",
    "- using NumPy arrays for supplying data"
   ]
  },
  {
   "cell_type": "code",
   "execution_count": 16,
   "metadata": {},
   "outputs": [
    {
     "data": {
      "text/html": [
       "\n",
       "  <div class=\"bk-root\" id=\"d6f943dd-f994-45f6-9aeb-31b40e642d94\" data-root-id=\"2347\"></div>\n"
      ]
     },
     "metadata": {},
     "output_type": "display_data"
    },
    {
     "data": {
      "application/javascript": [
       "(function(root) {\n",
       "  function embed_document(root) {\n",
       "  const docs_json = {\"c149ab37-f26f-464d-8346-60adf448e8cd\":{\"defs\":[],\"roots\":{\"references\":[{\"attributes\":{\"below\":[{\"id\":\"2356\"}],\"center\":[{\"id\":\"2359\"},{\"id\":\"2363\"}],\"height\":500,\"left\":[{\"id\":\"2360\"}],\"renderers\":[{\"id\":\"2386\"}],\"title\":{\"id\":\"2478\"},\"toolbar\":{\"id\":\"2374\"},\"width\":500,\"x_range\":{\"id\":\"2348\"},\"x_scale\":{\"id\":\"2352\"},\"y_range\":{\"id\":\"2350\"},\"y_scale\":{\"id\":\"2354\"}},\"id\":\"2347\",\"subtype\":\"Figure\",\"type\":\"Plot\"},{\"attributes\":{},\"id\":\"2487\",\"type\":\"Selection\"},{\"attributes\":{\"coordinates\":null,\"formatter\":{\"id\":\"2481\"},\"group\":null,\"major_label_policy\":{\"id\":\"2482\"},\"ticker\":{\"id\":\"2361\"}},\"id\":\"2360\",\"type\":\"LinearAxis\"},{\"attributes\":{\"bottom_units\":\"screen\",\"coordinates\":null,\"fill_alpha\":0.5,\"fill_color\":\"lightgrey\",\"group\":null,\"left_units\":\"screen\",\"level\":\"overlay\",\"line_alpha\":1.0,\"line_color\":\"black\",\"line_dash\":[4,4],\"line_width\":2,\"right_units\":\"screen\",\"syncable\":false,\"top_units\":\"screen\"},\"id\":\"2371\",\"type\":\"BoxAnnotation\"},{\"attributes\":{\"coordinates\":null,\"data_source\":{\"id\":\"2382\"},\"glyph\":{\"id\":\"2383\"},\"group\":null,\"hover_glyph\":null,\"muted_glyph\":{\"id\":\"2385\"},\"nonselection_glyph\":{\"id\":\"2384\"},\"view\":{\"id\":\"2387\"}},\"id\":\"2386\",\"type\":\"GlyphRenderer\"},{\"attributes\":{},\"id\":\"2486\",\"type\":\"UnionRenderers\"},{\"attributes\":{\"source\":{\"id\":\"2382\"}},\"id\":\"2387\",\"type\":\"CDSView\"},{\"attributes\":{\"axis\":{\"id\":\"2360\"},\"coordinates\":null,\"dimension\":1,\"group\":null,\"ticker\":null},\"id\":\"2363\",\"type\":\"Grid\"},{\"attributes\":{\"coordinates\":null,\"group\":null},\"id\":\"2478\",\"type\":\"Title\"},{\"attributes\":{\"bottom_units\":\"screen\",\"coordinates\":null,\"fill_alpha\":0.5,\"fill_color\":\"lightgrey\",\"group\":null,\"left_units\":\"screen\",\"level\":\"overlay\",\"line_alpha\":1.0,\"line_color\":\"black\",\"line_dash\":[4,4],\"line_width\":2,\"right_units\":\"screen\",\"syncable\":false,\"top_units\":\"screen\"},\"id\":\"2372\",\"type\":\"BoxAnnotation\"},{\"attributes\":{\"tools\":[{\"id\":\"2364\"},{\"id\":\"2365\"},{\"id\":\"2366\"},{\"id\":\"2367\"},{\"id\":\"2368\"},{\"id\":\"2369\"},{\"id\":\"2370\"}]},\"id\":\"2374\",\"type\":\"Toolbar\"},{\"attributes\":{\"fill_alpha\":{\"value\":0.1},\"fill_color\":{\"field\":\"fill_color\"},\"hatch_alpha\":{\"value\":0.1},\"line_alpha\":{\"value\":0.1},\"line_color\":{\"value\":null},\"radius\":{\"field\":\"radius\"},\"x\":{\"field\":\"x\"},\"y\":{\"field\":\"y\"}},\"id\":\"2384\",\"type\":\"Circle\"},{\"attributes\":{\"end\":100},\"id\":\"2348\",\"type\":\"Range1d\"},{\"attributes\":{},\"id\":\"2481\",\"type\":\"BasicTickFormatter\"},{\"attributes\":{\"end\":100},\"id\":\"2350\",\"type\":\"Range1d\"},{\"attributes\":{\"data\":{\"fill_color\":[\"#40c196\",\"#81da96\",\"#62c796\",\"#9bbf96\",\"#757f96\",\"#538996\",\"#695696\",\"#df7096\",\"#e28c96\",\"#d88296\",\"#67e496\",\"#c1dc96\",\"#5d8396\",\"#44c696\",\"#68c296\",\"#42ba96\",\"#e55896\",\"#814e96\",\"#7ca996\",\"#ade596\",\"#3d7796\",\"#9e5996\",\"#864f96\",\"#503e96\",\"#6e4e96\",\"#d27796\",\"#a13e96\",\"#e42896\",\"#43ba96\",\"#f27c96\",\"#4ac496\",\"#91e596\",\"#36d896\",\"#608496\",\"#9a5796\",\"#53ad96\",\"#402b96\",\"#994496\",\"#325596\",\"#b44496\",\"#8d4e96\",\"#e92f96\",\"#f07496\",\"#4f7c96\",\"#322196\",\"#708496\",\"#35c996\",\"#483096\",\"#d14596\",\"#5ac096\",\"#eeab96\",\"#d48d96\",\"#df5c96\",\"#eb3396\",\"#cac996\",\"#725196\",\"#987096\",\"#bddb96\",\"#eb3696\",\"#a13b96\",\"#7e5096\",\"#543396\",\"#877996\",\"#77af96\",\"#62dd96\",\"#ab8b96\",\"#8e5796\",\"#515096\",\"#42a496\",\"#835496\",\"#f78b96\",\"#e7c796\",\"#5d3196\",\"#d7ad96\",\"#69b596\",\"#817396\",\"#a53f96\",\"#e97896\",\"#95ba96\",\"#4a1e96\",\"#d8b396\",\"#c4d196\",\"#ca2396\",\"#f2d696\",\"#3fe496\",\"#843796\",\"#5e3f96\",\"#563796\",\"#ef8096\",\"#f24096\",\"#608296\",\"#697696\",\"#eb7896\",\"#9fd196\",\"#56ba96\",\"#acc296\",\"#e2a696\",\"#8eb196\",\"#8bda96\",\"#49b596\",\"#ed9296\",\"#916f96\",\"#64d996\",\"#553896\",\"#377b96\",\"#e1cd96\",\"#6b7f96\",\"#7e7b96\",\"#b25096\",\"#d22896\",\"#d34396\",\"#f09d96\",\"#3a6c96\",\"#7d2896\",\"#eb3596\",\"#8a3096\",\"#c8d796\",\"#a54596\",\"#b1ae96\",\"#49cc96\",\"#d22096\",\"#99b696\",\"#c95c96\",\"#8bd396\",\"#8e8796\",\"#87a696\",\"#776a96\",\"#af7296\",\"#b62896\",\"#dcb996\",\"#f79296\",\"#db2796\",\"#bd5b96\",\"#e52f96\",\"#f6bd96\",\"#643696\",\"#332296\",\"#d82796\",\"#84ab96\",\"#a99896\",\"#ae9e96\",\"#b97f96\",\"#d62196\",\"#434f96\",\"#ca8296\",\"#c23996\",\"#f1d096\",\"#35a096\",\"#53b896\",\"#547d96\",\"#7bdc96\",\"#371f96\",\"#686296\",\"#daae96\",\"#af4e96\",\"#de4c96\",\"#75c196\",\"#c3bc96\",\"#aae196\",\"#643396\",\"#c23796\",\"#329096\",\"#bd6d96\",\"#d23996\",\"#f36e96\",\"#606d96\",\"#e2be96\",\"#d52196\",\"#4a9c96\",\"#c25a96\",\"#e87996\",\"#cab196\",\"#535096\",\"#443496\",\"#cfd396\",\"#c3a996\",\"#7d4c96\",\"#a36a96\",\"#af6096\",\"#e09b96\",\"#9bb996\",\"#397896\",\"#5ca596\",\"#e9c996\",\"#b34596\",\"#632796\",\"#81a496\",\"#7e2996\",\"#364696\",\"#3d3296\",\"#af7496\",\"#eac996\",\"#f47a96\",\"#784196\",\"#873396\",\"#8fb796\",\"#5d8c96\",\"#399096\",\"#756596\",\"#cc5196\",\"#ed9896\",\"#66a796\",\"#cb4296\",\"#7c2996\",\"#79c896\",\"#9eb296\",\"#cfd896\",\"#4a9a96\",\"#877196\",\"#be4696\",\"#5bc996\",\"#897596\",\"#359c96\",\"#b46896\",\"#55bb96\",\"#9cdb96\",\"#7ea696\",\"#434996\",\"#b1a296\",\"#bb6596\",\"#8e5696\",\"#4bbe96\",\"#a24796\",\"#dcdf96\",\"#e3d596\",\"#4a3596\",\"#99c896\",\"#dcd496\",\"#bb6c96\",\"#6e6296\",\"#c57b96\",\"#c38096\",\"#888e96\",\"#3b9a96\",\"#5a4096\",\"#574596\",\"#687196\",\"#90ad96\",\"#b69496\",\"#793596\",\"#cb8c96\",\"#d5c596\",\"#dd6096\",\"#40d496\",\"#889896\",\"#53d396\",\"#c35b96\",\"#d07496\",\"#e26596\",\"#42c096\",\"#a29696\",\"#895b96\",\"#cd6e96\",\"#644d96\",\"#763c96\",\"#374e96\",\"#49e496\",\"#98c196\",\"#ab5596\",\"#9a9896\",\"#3c4096\",\"#cfc396\",\"#75cd96\",\"#e28096\",\"#abc296\",\"#b5c796\",\"#b3a996\",\"#8a3196\",\"#7f8796\",\"#686596\",\"#dab496\",\"#854c96\",\"#b53e96\",\"#df6e96\",\"#e49496\",\"#805c96\",\"#584796\",\"#807396\",\"#4f5696\",\"#3ecb96\",\"#722596\",\"#ed3d96\",\"#782a96\",\"#9c5696\",\"#e6a996\",\"#afb596\",\"#9e5d96\",\"#a23596\",\"#8f7a96\",\"#9aa296\",\"#c0b396\",\"#a82c96\",\"#85d196\",\"#c46296\",\"#abc696\",\"#ec3f96\",\"#3b6196\",\"#378c96\",\"#aa6096\",\"#5ba896\",\"#496a96\",\"#5fd496\",\"#369096\",\"#8f2796\",\"#87aa96\",\"#512396\",\"#7d4c96\",\"#843796\",\"#b7af96\",\"#cbbc96\",\"#e53e96\",\"#d23d96\",\"#f82196\",\"#75cc96\",\"#f2ce96\",\"#644296\",\"#746996\",\"#5d7d96\",\"#81c896\",\"#b18e96\",\"#9e7596\",\"#e17196\",\"#acda96\",\"#be7b96\",\"#4e8296\",\"#e93096\",\"#7b2a96\",\"#9a5196\",\"#352396\",\"#3f5596\",\"#d8cd96\",\"#6cde96\",\"#7b9296\",\"#552496\",\"#9fc496\",\"#ec2796\",\"#37af96\",\"#9d8396\",\"#3c9496\",\"#536196\",\"#68a196\",\"#659f96\",\"#78e096\",\"#674f96\",\"#41cd96\",\"#61c396\",\"#886096\",\"#bb6296\",\"#532696\",\"#94af96\",\"#48e396\",\"#d92896\",\"#835a96\",\"#c24d96\",\"#803d96\",\"#4fa596\",\"#a8bf96\",\"#6a7696\",\"#629f96\",\"#f6a596\",\"#387696\",\"#bc9596\",\"#696f96\",\"#3d4e96\",\"#c58296\",\"#9a9196\",\"#b9a496\",\"#8eb296\",\"#985b96\",\"#cee496\",\"#454196\",\"#684496\",\"#b54d96\",\"#d2df96\",\"#439a96\",\"#be5496\",\"#5fdf96\",\"#6be196\",\"#443c96\",\"#8a5e96\",\"#85c996\",\"#3ed596\",\"#976b96\",\"#b82696\",\"#ec8496\",\"#c4e196\",\"#ee2496\",\"#3b4796\",\"#b68996\",\"#8f5396\",\"#d22896\",\"#865096\",\"#b77a96\",\"#e6dd96\",\"#dc6c96\",\"#593b96\",\"#4f1f96\",\"#bfa796\",\"#40a296\",\"#508496\",\"#f35a96\",\"#4a3196\",\"#723b96\",\"#468296\",\"#acd496\",\"#41d796\",\"#e86e96\",\"#7aad96\",\"#74be96\",\"#466d96\",\"#b93396\",\"#4aae96\",\"#f57e96\",\"#c0b096\",\"#419396\",\"#802e96\",\"#99a396\",\"#a8c296\",\"#cbca96\",\"#3acb96\",\"#d0a696\",\"#cfa196\",\"#4dbe96\",\"#79ac96\",\"#6ad696\",\"#889096\",\"#bacd96\",\"#c56696\",\"#ccab96\",\"#f95296\",\"#cc7896\",\"#7da696\",\"#586796\",\"#8fc196\",\"#71d896\",\"#b2d996\",\"#efdd96\",\"#a75796\",\"#a69e96\",\"#e1ac96\",\"#d1cc96\",\"#746296\",\"#4a7e96\",\"#f4cf96\",\"#ea9096\",\"#cbcd96\",\"#bb7f96\",\"#bc1f96\",\"#f82296\",\"#997d96\",\"#7b2896\",\"#bc4496\",\"#e9d496\",\"#625796\",\"#d6e596\",\"#5de496\",\"#95d796\",\"#9c5a96\",\"#ae4196\",\"#8b7596\",\"#cd7696\",\"#8fcb96\",\"#457f96\",\"#354596\",\"#568696\",\"#b98b96\",\"#552396\",\"#a5dd96\",\"#4b2f96\",\"#605a96\",\"#743396\",\"#944596\",\"#6d2e96\",\"#c72796\",\"#998c96\",\"#f6c996\",\"#412796\",\"#b95d96\",\"#d4a096\",\"#ecd996\",\"#edd896\",\"#ad3096\",\"#a2e296\",\"#9f7e96\",\"#968e96\",\"#b76d96\",\"#a3bf96\",\"#9edb96\",\"#9c9f96\",\"#607396\",\"#5fb096\",\"#76c296\",\"#e26d96\",\"#a2c896\",\"#45d296\",\"#d21f96\",\"#dc7496\",\"#c24a96\",\"#bf9c96\",\"#ab4696\",\"#482696\",\"#9a5196\",\"#419a96\",\"#377d96\",\"#d0bf96\",\"#dda396\",\"#395496\",\"#328496\",\"#e85b96\",\"#5eb796\",\"#f42496\",\"#a67996\",\"#be9e96\",\"#6bd396\",\"#8a8d96\",\"#c2da96\",\"#487296\",\"#e0c996\",\"#519296\",\"#58c196\",\"#d43e96\",\"#964296\",\"#d57496\",\"#ddcd96\",\"#e16c96\",\"#ef5396\",\"#f22e96\",\"#8db696\",\"#3ab996\",\"#8ca696\",\"#686596\",\"#b48396\",\"#f8a696\",\"#823c96\",\"#41ce96\",\"#7d3996\",\"#55c296\",\"#45d396\",\"#a48696\",\"#516396\",\"#3e7b96\",\"#f74796\",\"#395896\",\"#c7ba96\",\"#8a6d96\",\"#629996\",\"#7fc396\",\"#8e5a96\",\"#61bd96\",\"#6cdf96\",\"#8c2e96\",\"#adda96\",\"#e77c96\",\"#b89c96\",\"#ccb296\",\"#c27996\",\"#c02c96\",\"#eeaf96\",\"#388b96\",\"#9b9e96\",\"#60ad96\",\"#e76196\",\"#dd9196\",\"#9ab996\",\"#5eb096\",\"#7a2d96\",\"#90c996\",\"#e33196\",\"#d47496\",\"#45a096\",\"#b04a96\",\"#808396\",\"#596a96\",\"#8e3896\",\"#da8f96\",\"#f3a096\",\"#e3d596\",\"#caa296\",\"#a1c296\",\"#e7a296\",\"#9dc696\",\"#f16096\",\"#c96b96\",\"#a43b96\",\"#e6d196\",\"#39ba96\",\"#373796\",\"#545c96\",\"#e5ad96\",\"#7f7796\",\"#9da996\",\"#8d5e96\",\"#9ee196\",\"#d24b96\",\"#ab9496\",\"#c15996\",\"#d06896\",\"#407796\",\"#46c196\",\"#528496\",\"#84a696\",\"#9f6296\",\"#9f3a96\",\"#e93e96\",\"#bbe496\",\"#ed2996\",\"#854f96\",\"#a54596\",\"#99c096\",\"#35a996\",\"#796596\",\"#a9e096\",\"#904196\",\"#b33b96\",\"#d4a796\",\"#ac5a96\",\"#338696\",\"#3a6d96\",\"#576f96\",\"#75d496\",\"#a56496\",\"#9e4096\",\"#e98f96\",\"#e88e96\",\"#8d6796\",\"#ce7f96\",\"#522f96\",\"#587496\",\"#51d196\",\"#835996\",\"#b8a096\",\"#e02f96\",\"#af6596\",\"#83e596\",\"#b34b96\",\"#645d96\",\"#455396\",\"#b05c96\",\"#738696\",\"#912696\",\"#905196\",\"#f9d396\",\"#ca4996\",\"#e84196\",\"#79cb96\",\"#a9b296\",\"#52e496\",\"#ac7d96\",\"#d76696\",\"#b37e96\",\"#85b696\",\"#c07996\",\"#5a5496\",\"#602e96\",\"#9d7996\",\"#7bb096\",\"#61dc96\",\"#f12596\",\"#65cf96\",\"#d0c596\",\"#629996\",\"#9b9196\",\"#63a796\",\"#963b96\",\"#446196\",\"#a8a696\",\"#3edf96\",\"#a73196\",\"#d27f96\",\"#423f96\",\"#6dda96\",\"#402896\",\"#a34096\",\"#a09496\",\"#5c7896\",\"#69ce96\",\"#cc6f96\",\"#8de396\",\"#878f96\",\"#d05296\",\"#af6796\",\"#377f96\",\"#69cf96\",\"#c84096\",\"#783796\",\"#4b9e96\",\"#b97b96\",\"#db7096\",\"#81e496\",\"#dc3996\",\"#508796\",\"#74df96\",\"#37c296\",\"#8f2596\",\"#8e7a96\",\"#c69896\",\"#5e6d96\",\"#f8bb96\",\"#86d696\",\"#46c996\",\"#468296\",\"#be4f96\",\"#365e96\",\"#3ad096\",\"#f5a596\",\"#589896\",\"#6d1f96\",\"#44d196\",\"#e6c496\",\"#537d96\",\"#58d696\",\"#c73796\",\"#443896\",\"#758896\",\"#adc996\",\"#737996\",\"#6dc296\",\"#76b996\",\"#d52d96\",\"#552696\",\"#c7c596\",\"#379096\",\"#c82496\",\"#a6de96\",\"#b83496\",\"#8c2f96\",\"#a7cf96\",\"#4d9196\",\"#773796\",\"#799196\",\"#c48c96\",\"#459696\",\"#a3e596\",\"#995996\",\"#d13296\",\"#c58b96\",\"#9db996\",\"#3c4896\",\"#e9d296\",\"#ded096\",\"#746896\",\"#499a96\",\"#32d296\",\"#aadc96\",\"#cc3e96\",\"#604396\",\"#ce3696\",\"#cb4a96\",\"#cf5996\",\"#a3a496\",\"#b8ab96\",\"#5c3196\",\"#4fc296\",\"#93a496\",\"#7b6e96\",\"#a25f96\",\"#865c96\",\"#543096\",\"#eecf96\",\"#bf5796\",\"#e19996\",\"#dc4596\",\"#b43e96\",\"#b8cb96\",\"#d44696\",\"#6dbe96\",\"#b66e96\",\"#3fbf96\",\"#7b4296\",\"#833996\",\"#943a96\",\"#7dcb96\",\"#b84996\",\"#366096\",\"#438896\",\"#4b5996\",\"#dd6c96\",\"#9e4796\",\"#887696\",\"#ba7696\",\"#e1aa96\",\"#509d96\",\"#d45296\",\"#7b4c96\",\"#806696\",\"#735196\",\"#9ee196\",\"#583d96\",\"#8c6896\",\"#c83296\",\"#857096\",\"#aa5296\",\"#f88f96\",\"#6cc096\",\"#9b3096\",\"#896296\",\"#f18b96\",\"#f37396\",\"#a9bb96\",\"#ac7296\",\"#bd3f96\",\"#94ca96\",\"#547d96\",\"#52c896\",\"#cba796\",\"#394196\",\"#f7bc96\",\"#5a2e96\",\"#99cd96\",\"#334396\",\"#9a6f96\",\"#539996\",\"#944496\",\"#8b5396\",\"#567096\",\"#bf4796\",\"#667d96\",\"#472296\",\"#cf4796\",\"#ed9396\",\"#c86c96\",\"#8cc596\",\"#e84096\",\"#c79496\",\"#81bc96\",\"#d66296\",\"#6cac96\",\"#f15296\",\"#43bb96\",\"#b85c96\",\"#f42796\",\"#e09496\",\"#682796\",\"#c26a96\",\"#c5a396\",\"#ee9696\",\"#743c96\",\"#cb9596\",\"#834496\",\"#d19796\",\"#c8b996\",\"#b5b996\",\"#738996\",\"#852696\",\"#8d9296\",\"#ea9e96\",\"#bed696\",\"#b52496\",\"#804f96\",\"#cb6596\",\"#609a96\",\"#ac7a96\",\"#ef4d96\",\"#685196\",\"#da9896\",\"#7ec996\",\"#726096\",\"#c39d96\",\"#b06896\",\"#675a96\",\"#b25296\",\"#a3d996\",\"#f4ad96\",\"#ad8d96\",\"#92dd96\",\"#a25096\",\"#654896\",\"#f5a596\",\"#846696\",\"#7bd396\",\"#d17496\",\"#7f5196\",\"#47e596\",\"#f8b396\",\"#8ad396\",\"#c18396\",\"#7c7296\",\"#7a8696\",\"#841f96\",\"#b33096\",\"#c08b96\",\"#d34496\",\"#9d6696\",\"#cee096\",\"#7e8a96\",\"#b3e296\",\"#959096\",\"#ab2b96\",\"#779c96\",\"#c07796\",\"#4f4196\",\"#f2bd96\",\"#996f96\",\"#f29596\",\"#cd5796\",\"#b25b96\",\"#4eda96\",\"#e53796\",\"#d19396\",\"#c0c696\",\"#ba8496\",\"#f5b196\",\"#c56a96\",\"#f13196\",\"#ddc996\",\"#cf2796\",\"#da6996\",\"#36c996\",\"#ceb696\",\"#84ba96\",\"#cb2796\",\"#97c196\",\"#bdc496\",\"#4b9d96\",\"#f95196\",\"#5b8296\",\"#cfc996\",\"#aada96\",\"#403496\",\"#e33596\",\"#733b96\",\"#d89996\",\"#a48f96\",\"#9b6096\",\"#d14f96\",\"#b8ac96\",\"#4f3096\",\"#685396\",\"#6a3296\",\"#f24b96\",\"#327696\",\"#6c5996\",\"#f1db96\",\"#a47c96\",\"#60b296\",\"#c98696\",\"#c0bb96\",\"#5b5996\",\"#ac7096\",\"#5cb996\",\"#b9b596\",\"#85b896\",\"#48c096\",\"#545496\",\"#6d6896\",\"#58af96\",\"#cbcb96\",\"#d9d596\",\"#53be96\",\"#b77796\",\"#58da96\",\"#b48896\",\"#525896\",\"#3a4896\",\"#f7c996\",\"#546396\",\"#e28196\",\"#869196\",\"#a5c796\",\"#b82196\",\"#ec9f96\",\"#aed696\",\"#6ed596\",\"#c12496\",\"#a9a796\",\"#c16096\",\"#c22596\",\"#da3996\",\"#60a496\",\"#d28596\",\"#722196\",\"#7d7c96\",\"#d87c96\",\"#c96d96\",\"#634d96\",\"#dabc96\",\"#583d96\",\"#435f96\",\"#4d7396\",\"#b96a96\",\"#d6d996\",\"#ee5096\",\"#e86296\",\"#902a96\",\"#723596\",\"#ea7396\",\"#ddb196\",\"#f58696\",\"#e64296\",\"#b67996\",\"#c04a96\",\"#e89f96\",\"#d32b96\",\"#46ce96\",\"#4bc596\",\"#dfe396\",\"#3c7496\",\"#8d8396\",\"#d48d96\",\"#c09996\",\"#4d9c96\",\"#a64696\",\"#c74c96\",\"#d15396\",\"#6dcb96\",\"#615596\",\"#859696\",\"#4ecc96\",\"#805b96\",\"#b0cc96\",\"#432696\",\"#943496\",\"#408196\",\"#da9a96\",\"#f4bb96\",\"#50e396\",\"#c7c096\",\"#eb5696\",\"#d23f96\",\"#99dd96\",\"#4fbb96\",\"#71b396\",\"#72b996\",\"#765f96\",\"#3bd296\",\"#803796\",\"#d92d96\",\"#df7a96\",\"#f75596\",\"#862296\",\"#3fc496\",\"#6cc196\",\"#6e8e96\",\"#5e4496\",\"#ddb396\",\"#e37796\",\"#b89696\",\"#8adb96\",\"#325e96\",\"#b33696\",\"#a93096\",\"#633196\",\"#69a696\",\"#dca696\",\"#808796\",\"#3c2096\",\"#712c96\",\"#e38996\",\"#603e96\",\"#63c796\",\"#7aa396\",\"#f86996\",\"#949596\",\"#f95896\",\"#344596\",\"#37aa96\",\"#8ba396\",\"#b14196\",\"#e55596\",\"#864c96\",\"#5fb796\",\"#f37596\",\"#5fa596\",\"#673396\",\"#87bc96\",\"#5d9396\",\"#3cba96\",\"#906096\",\"#51c196\",\"#4aa896\",\"#6c2296\",\"#e38f96\",\"#b0c596\",\"#aa3496\",\"#90e196\",\"#9d4e96\",\"#c18e96\",\"#925096\",\"#7e3796\",\"#3b8d96\",\"#ba6e96\",\"#58e096\",\"#82c296\",\"#3e7d96\",\"#8b7996\",\"#ae5696\",\"#349796\",\"#48c896\",\"#e9bb96\",\"#405896\",\"#c5bb96\",\"#c98a96\",\"#b84596\",\"#553d96\",\"#becc96\",\"#9d7496\",\"#c6d396\",\"#466996\",\"#60a296\",\"#6d4f96\",\"#44c796\",\"#b18a96\",\"#d94596\",\"#b83196\",\"#403596\",\"#eb3b96\",\"#f85796\",\"#aadf96\",\"#59cf96\",\"#eec696\",\"#f45d96\",\"#d37496\",\"#e15196\",\"#7c7f96\",\"#f8e396\",\"#d7c096\",\"#b19d96\",\"#93ae96\",\"#ae7496\",\"#6a5f96\",\"#953696\",\"#759a96\",\"#a0db96\",\"#a2d796\",\"#437696\",\"#33d296\",\"#f7d296\",\"#7b5496\",\"#60ac96\",\"#d3ab96\",\"#95dc96\",\"#719696\",\"#d86096\",\"#52a796\",\"#454996\",\"#85c196\",\"#df4b96\",\"#3b9296\",\"#f98696\",\"#cf5b96\",\"#7f6b96\",\"#a66296\",\"#865596\",\"#4d8696\",\"#ab3596\",\"#f49096\",\"#453296\",\"#4ece96\",\"#6e3296\",\"#c3a396\",\"#b6b896\",\"#dd2896\",\"#a4b496\",\"#6a5796\",\"#3bd696\",\"#b7bd96\",\"#393796\",\"#9c8b96\",\"#b73896\",\"#eed196\",\"#bc7596\",\"#f0d296\",\"#ea8996\",\"#5a5196\",\"#ceca96\",\"#486e96\",\"#68ba96\",\"#65bb96\",\"#33d496\",\"#f97196\",\"#cbbd96\",\"#439196\",\"#5fba96\",\"#afd696\",\"#675d96\",\"#e34896\",\"#b84296\",\"#e3db96\",\"#baa896\",\"#8e9096\",\"#3fb196\",\"#65b496\",\"#8f3a96\",\"#c4c596\",\"#e7b996\",\"#a56c96\",\"#ca3e96\",\"#d18d96\",\"#325396\",\"#a78096\",\"#544596\",\"#64b796\",\"#8a2c96\",\"#617c96\",\"#897e96\",\"#a56896\",\"#87c696\",\"#417b96\",\"#f36b96\",\"#afce96\",\"#adaa96\",\"#81e596\",\"#b58196\",\"#46c496\",\"#f6bb96\",\"#b47496\",\"#a4da96\",\"#936896\",\"#433596\",\"#c95196\",\"#dea796\",\"#335396\",\"#6ae496\",\"#d83296\",\"#7cb196\",\"#3c7c96\",\"#80bd96\",\"#d59496\",\"#b02596\",\"#c57896\",\"#4b2d96\",\"#e57596\",\"#8f8596\",\"#9aab96\",\"#d72996\",\"#f85196\",\"#485b96\",\"#e08d96\",\"#f7e196\",\"#61aa96\",\"#5bd796\",\"#a25296\",\"#ccb996\",\"#7c3e96\",\"#d07a96\",\"#d12896\",\"#689a96\",\"#8e9296\",\"#ed2496\",\"#4a4396\",\"#494e96\",\"#6c8a96\",\"#f6db96\",\"#3ce196\",\"#b65296\",\"#4b8396\",\"#56d996\",\"#46b896\",\"#5db796\",\"#613e96\",\"#ddb596\",\"#a4ab96\",\"#f43396\",\"#3fce96\",\"#d8b096\",\"#64c996\",\"#667796\",\"#3bc196\",\"#56b196\",\"#ae4b96\",\"#325396\",\"#344f96\",\"#ab9d96\",\"#457596\",\"#c2ad96\",\"#339e96\",\"#b8a896\",\"#945496\",\"#9c9896\",\"#3f5196\",\"#d4cf96\",\"#4ccd96\",\"#ebc696\",\"#d99b96\",\"#bd4b96\",\"#ddb896\",\"#7ed096\",\"#8a9396\",\"#5cbd96\",\"#896a96\",\"#938996\",\"#e1c396\",\"#8e6296\",\"#936696\",\"#607a96\",\"#a55796\",\"#968e96\",\"#65e396\",\"#676496\",\"#322b96\",\"#74a996\",\"#537596\",\"#c0b496\",\"#35d696\",\"#e65296\",\"#96a896\",\"#39da96\",\"#454196\",\"#63cd96\",\"#d05e96\",\"#668496\",\"#92e296\",\"#3a4596\",\"#904896\",\"#c82296\",\"#eacc96\",\"#654496\",\"#f3b696\",\"#abad96\",\"#c4af96\",\"#cfc496\",\"#8b9896\",\"#65ae96\",\"#f37696\",\"#c2b496\",\"#b87496\",\"#e53a96\",\"#5cca96\",\"#4e9096\",\"#4e5a96\",\"#baa096\",\"#8b8496\",\"#ab2a96\",\"#7c2896\",\"#ba4696\",\"#bc9696\",\"#561f96\",\"#bd5a96\",\"#6b5096\",\"#735b96\",\"#3f4c96\",\"#856496\",\"#6ebb96\",\"#c23596\",\"#64cd96\",\"#e3d596\",\"#a12196\",\"#a45896\",\"#6c9696\",\"#ce5996\",\"#743196\",\"#a94b96\",\"#e39096\",\"#ed2596\",\"#68dc96\",\"#89b996\",\"#539896\",\"#971e96\",\"#7f6596\",\"#3f4996\",\"#ec5596\",\"#dc3b96\",\"#4f6996\",\"#b17496\",\"#bd7d96\",\"#477f96\",\"#d0e096\",\"#70ac96\",\"#a42396\",\"#df2496\",\"#565296\",\"#58c896\",\"#f8c396\",\"#ec5596\",\"#40b896\",\"#e5e396\",\"#776296\",\"#642b96\",\"#681e96\",\"#c89596\",\"#a43396\",\"#347c96\",\"#e5d496\",\"#66cb96\",\"#6bdc96\",\"#e9c996\",\"#565c96\",\"#687e96\",\"#736e96\",\"#c05096\",\"#643096\",\"#7c3f96\",\"#80c896\",\"#802696\",\"#cd2c96\",\"#ba9796\",\"#5d2596\",\"#622996\",\"#42be96\",\"#d26796\",\"#c7dd96\",\"#d69496\",\"#a3e596\",\"#34b396\",\"#f18b96\",\"#748096\",\"#6cc096\",\"#ef7596\",\"#e2aa96\",\"#39d696\",\"#538596\",\"#f08896\",\"#764b96\",\"#a4c696\",\"#b28e96\",\"#8fbb96\",\"#7c2296\",\"#5d3896\",\"#b4d896\",\"#3c2496\",\"#4ba096\",\"#894d96\",\"#74d296\",\"#47d196\",\"#4dc996\",\"#ba2696\",\"#60b196\",\"#f8bd96\",\"#dcda96\",\"#c69396\",\"#463f96\",\"#791e96\",\"#673c96\",\"#4d4796\",\"#af8096\",\"#f15996\",\"#446996\",\"#7c8b96\",\"#46b496\",\"#ae4996\",\"#8bc496\",\"#5dbe96\",\"#8e3196\",\"#9e3c96\",\"#aa5f96\",\"#90d596\",\"#f4a396\",\"#9ba296\",\"#ef5696\",\"#627896\",\"#b35396\",\"#a16396\",\"#b39d96\",\"#bddc96\",\"#afe096\",\"#89a696\",\"#6e1e96\",\"#a5b896\",\"#ed7696\",\"#c38196\",\"#765b96\",\"#c8dc96\",\"#df6796\",\"#c09196\",\"#928096\",\"#944f96\",\"#a56296\",\"#4a7196\",\"#f13696\",\"#445996\",\"#7c7896\",\"#359096\",\"#a48396\",\"#8f8796\",\"#6c2496\",\"#e6d796\",\"#c56c96\",\"#815896\",\"#c77e96\",\"#478e96\",\"#f64a96\",\"#b78596\",\"#f49396\",\"#bf7d96\",\"#856496\",\"#503896\",\"#934196\",\"#3f7896\",\"#822796\",\"#d28596\",\"#d6a796\",\"#d75096\",\"#d37996\",\"#c86796\",\"#936796\",\"#5a5596\",\"#94bb96\",\"#e3dd96\",\"#599696\",\"#712896\",\"#cf9296\",\"#849396\",\"#ec6a96\",\"#b2cf96\",\"#64db96\",\"#5b7496\",\"#7f4d96\",\"#9b2e96\",\"#f3c496\",\"#5d2d96\",\"#8bd296\",\"#7c7096\",\"#3b9896\",\"#46bf96\",\"#4b5296\",\"#9a6596\",\"#d15a96\",\"#8acb96\",\"#a4a396\",\"#ee2196\",\"#9ba796\",\"#f9d896\",\"#f9b496\",\"#918596\",\"#d59b96\",\"#596696\",\"#b74096\",\"#f7af96\",\"#8f8496\",\"#43ab96\",\"#f9c796\",\"#f9dd96\",\"#7fbb96\",\"#d22f96\",\"#99c296\",\"#7d3396\",\"#a66f96\",\"#a7b596\",\"#92a196\",\"#c4ad96\",\"#ae5096\",\"#5ae096\",\"#3f7796\",\"#77c696\",\"#90ab96\",\"#d2a896\",\"#ed9896\",\"#d45596\",\"#62ba96\",\"#78a196\",\"#e4d296\",\"#7a4a96\",\"#a1a196\",\"#cfc396\",\"#348a96\",\"#914096\",\"#e0b796\",\"#e23996\",\"#568b96\",\"#94ae96\",\"#ad5296\",\"#976496\",\"#a79696\",\"#f98796\",\"#35e096\",\"#37b996\",\"#4e9b96\",\"#75e396\",\"#f54696\",\"#df8696\",\"#8a3b96\",\"#c16496\",\"#378a96\",\"#aa5696\",\"#693896\",\"#e7c596\",\"#ec6396\",\"#cc9196\",\"#94e496\",\"#af1e96\",\"#3dcc96\",\"#d14296\",\"#65d596\",\"#404696\",\"#b33c96\",\"#5aae96\",\"#704396\",\"#d7a696\",\"#f17f96\",\"#973096\",\"#44c496\",\"#b35296\",\"#5a9096\",\"#596b96\",\"#8a3896\",\"#db5d96\",\"#4a4d96\",\"#968a96\",\"#ba4396\",\"#ddd796\",\"#ab9b96\",\"#b28996\",\"#779896\",\"#da6d96\",\"#b37596\",\"#38d296\",\"#465096\",\"#4e4b96\",\"#744896\",\"#6a8f96\",\"#7dc796\",\"#882096\",\"#782896\",\"#7ab096\",\"#dab396\",\"#3d5796\",\"#d04496\",\"#7cb796\",\"#342f96\",\"#674a96\",\"#833296\",\"#d39c96\",\"#4aa296\",\"#53dc96\",\"#df6296\",\"#f5c696\",\"#b82d96\",\"#cc9396\",\"#4ed596\",\"#e48a96\",\"#bcc196\",\"#763996\",\"#84c096\",\"#ad5e96\",\"#b4a396\",\"#f3c796\",\"#d16596\",\"#59ba96\",\"#757996\",\"#e3da96\",\"#c37496\",\"#38aa96\",\"#8ccd96\",\"#de4b96\",\"#545696\",\"#624596\",\"#90c696\",\"#cfa496\",\"#e2cb96\",\"#5bc496\",\"#da9a96\",\"#99a996\",\"#90ab96\",\"#ada796\",\"#815996\",\"#eb3f96\",\"#53b396\",\"#d57096\",\"#e09796\",\"#e94b96\",\"#f59b96\",\"#d75696\",\"#95b796\",\"#5a7596\",\"#549096\",\"#f56996\",\"#ea4d96\",\"#5b7596\",\"#689796\",\"#98c396\",\"#8e4496\",\"#44af96\",\"#9d8c96\",\"#374f96\",\"#bc3796\",\"#506896\",\"#a37e96\",\"#932896\",\"#4fd896\",\"#3e4196\",\"#d3bf96\",\"#b74a96\",\"#e42196\",\"#d38696\",\"#6bab96\",\"#5c4996\",\"#7d9496\",\"#f5ab96\",\"#a87496\",\"#66a596\",\"#acdc96\",\"#85e196\",\"#364496\",\"#7f1e96\",\"#4bdc96\",\"#c26c96\",\"#5fbf96\",\"#803896\",\"#784196\",\"#d02a96\",\"#7ee396\",\"#a35996\",\"#61a096\",\"#625596\",\"#515b96\",\"#893b96\",\"#72b696\",\"#64b596\",\"#65da96\",\"#40a496\",\"#eca996\",\"#41d396\",\"#ec4996\",\"#8ddb96\",\"#c88d96\",\"#6a5c96\",\"#6fe596\",\"#98a696\",\"#967396\",\"#70b996\",\"#498096\",\"#34a796\",\"#706896\",\"#923496\",\"#8a5596\",\"#bfa996\",\"#c0d496\",\"#e0dd96\",\"#825296\",\"#c2ad96\",\"#7c4296\",\"#35b196\",\"#dd4896\",\"#5f7696\",\"#818b96\",\"#f7db96\",\"#9fc496\",\"#89d096\",\"#88a996\",\"#9ad596\",\"#c88c96\",\"#b87996\",\"#73c496\",\"#d14496\",\"#33ca96\",\"#7abd96\",\"#5ce096\",\"#4b8496\",\"#eba096\",\"#e5b496\",\"#be3496\",\"#975c96\",\"#d29696\",\"#a3bd96\",\"#9e6d96\",\"#51da96\",\"#c5b896\",\"#8b3c96\",\"#ba5496\",\"#8ba996\",\"#c48096\",\"#bece96\",\"#863896\",\"#329c96\",\"#d63c96\",\"#87d796\",\"#6de396\",\"#bb4d96\",\"#91b596\",\"#768f96\",\"#cab496\",\"#d5c296\",\"#816196\",\"#54e596\",\"#53dc96\",\"#50c096\",\"#a2b396\",\"#a9b296\",\"#327996\",\"#54a396\",\"#7b2696\",\"#758196\",\"#372396\",\"#dd6896\",\"#ad9296\",\"#95d496\",\"#8a3096\",\"#4d3a96\",\"#3a5196\",\"#d26496\",\"#c24196\",\"#adb996\",\"#a4cf96\",\"#997396\",\"#c32b96\",\"#5ea496\",\"#3fc396\",\"#a79c96\",\"#ee4c96\",\"#abd996\",\"#4fdc96\",\"#d15b96\",\"#3a7796\",\"#9c4696\",\"#51a996\",\"#ec3b96\",\"#d02296\",\"#f0e496\",\"#ea3296\",\"#d94996\",\"#a54396\",\"#bf6096\",\"#97bd96\",\"#b2ca96\",\"#5e8496\",\"#502b96\",\"#37d096\",\"#d0bc96\",\"#937296\",\"#904396\",\"#c65e96\",\"#3fba96\",\"#81cf96\",\"#47bd96\",\"#e45196\",\"#c3d796\",\"#334996\",\"#b32c96\",\"#92a296\",\"#638d96\",\"#a66b96\",\"#5bcb96\",\"#f76d96\",\"#325296\",\"#583a96\",\"#b99496\",\"#668e96\",\"#4e8996\",\"#50bb96\",\"#84c596\",\"#bf9796\",\"#a72b96\",\"#907f96\",\"#ac8596\",\"#46d396\",\"#d93296\",\"#38ce96\",\"#729296\",\"#e37496\",\"#c8be96\",\"#50df96\",\"#b86d96\",\"#508c96\",\"#b8ce96\",\"#f5b496\",\"#9b2f96\",\"#f95096\",\"#6b4c96\",\"#f24396\",\"#3b8a96\",\"#3c3596\",\"#c4cb96\",\"#ce6d96\",\"#e05896\",\"#c64e96\",\"#835b96\",\"#dc9496\",\"#878d96\",\"#ef2396\",\"#d48596\",\"#a06796\",\"#d26196\",\"#c15796\",\"#76c296\",\"#84c196\",\"#a97896\",\"#a66b96\",\"#d96396\",\"#ee2396\",\"#b77996\",\"#cf7596\",\"#bf6f96\",\"#375096\",\"#575996\",\"#8a8996\",\"#8ad396\",\"#52c696\",\"#71b896\",\"#836196\",\"#922d96\",\"#657696\",\"#7fd496\",\"#ed8196\",\"#6a7296\",\"#6d3f96\",\"#5e8d96\",\"#c9b496\",\"#5bcc96\",\"#5d5d96\",\"#98d496\",\"#a79096\",\"#71b396\",\"#da6e96\",\"#32a996\",\"#c07896\",\"#636096\",\"#4e5296\",\"#b28796\",\"#4cdd96\",\"#61df96\",\"#34c596\",\"#b94396\",\"#f33296\",\"#3ea896\",\"#de8696\",\"#e9b796\",\"#597596\",\"#40b096\",\"#803996\",\"#872c96\",\"#8ca996\",\"#5e5a96\",\"#dd8196\",\"#f02a96\",\"#9dde96\",\"#932696\",\"#87d796\",\"#dba596\",\"#b29a96\",\"#4fde96\",\"#433c96\",\"#d53996\",\"#6fa496\",\"#6c9996\",\"#b94396\",\"#b83396\",\"#685c96\",\"#4da496\",\"#93a596\",\"#54ca96\",\"#33a096\",\"#a35396\",\"#384196\",\"#8e4196\",\"#5ac796\",\"#628996\",\"#845696\",\"#4cbd96\",\"#3cd696\",\"#938696\",\"#3f5f96\",\"#55a596\",\"#af8996\",\"#ac3496\",\"#624896\",\"#eed196\",\"#f5a196\",\"#ab3696\",\"#5d9c96\",\"#3c3396\",\"#ea2596\",\"#69a396\",\"#708296\",\"#875296\",\"#727596\",\"#3c2196\",\"#70d596\",\"#9e5296\",\"#d75d96\",\"#7dcb96\",\"#e84d96\",\"#b36f96\",\"#36a096\",\"#5bdf96\",\"#afa296\",\"#e26f96\",\"#c24c96\",\"#f8b696\",\"#c66196\",\"#874496\",\"#5d8296\",\"#48ba96\",\"#9a6a96\",\"#878096\",\"#7e4f96\",\"#a2a496\",\"#8bd396\",\"#3dad96\",\"#676a96\",\"#499596\",\"#f3e396\",\"#ce5796\",\"#f9b396\",\"#a8da96\",\"#3ea296\",\"#34c996\",\"#8d7696\",\"#843e96\",\"#905a96\",\"#e9e196\",\"#ca3296\",\"#6e7b96\",\"#42d496\",\"#615a96\",\"#7f7596\",\"#732396\",\"#4b6996\",\"#4edc96\",\"#b15296\",\"#f02e96\",\"#c03796\",\"#6e4096\",\"#a42f96\",\"#47c796\",\"#cc8a96\",\"#f76096\",\"#867196\",\"#796a96\",\"#622096\",\"#f64d96\",\"#842596\",\"#6a7496\",\"#e5b596\",\"#b94296\",\"#41b796\",\"#ebbb96\",\"#50de96\",\"#904296\",\"#9f5b96\",\"#c09496\",\"#6b4396\",\"#76df96\",\"#e27496\",\"#b25196\",\"#568996\",\"#b8b196\",\"#e38696\",\"#f72196\",\"#d1c196\",\"#a2e096\",\"#869896\",\"#578296\",\"#a05696\",\"#f1e396\",\"#7f9896\",\"#518096\",\"#887896\",\"#644f96\",\"#957596\",\"#9f6796\",\"#6abf96\",\"#57c796\",\"#e18996\",\"#bcc396\",\"#6d9d96\",\"#cd4796\",\"#747796\",\"#4c2896\",\"#b7e596\",\"#e27796\",\"#755396\",\"#f34096\",\"#b56096\",\"#41c396\",\"#c6ba96\",\"#c59e96\",\"#5ca896\",\"#ea4b96\",\"#709f96\",\"#635096\",\"#a58596\",\"#8e4196\",\"#36df96\",\"#c47596\",\"#582c96\",\"#5bc896\",\"#e36796\",\"#edc996\",\"#7e9296\",\"#887e96\",\"#beb796\",\"#8d8f96\",\"#41cc96\",\"#ad7796\",\"#f45e96\",\"#a3b396\",\"#946096\",\"#439496\",\"#70b796\",\"#5ac796\",\"#b89196\",\"#cd5996\",\"#db7a96\",\"#6a9b96\",\"#804b96\",\"#884c96\",\"#bc2396\",\"#7fdb96\",\"#a08996\",\"#99c096\",\"#b3aa96\",\"#595696\",\"#a8a896\",\"#7b6d96\",\"#bf2996\",\"#e38e96\",\"#97d696\",\"#ab3096\",\"#733996\",\"#ecae96\",\"#e53696\",\"#588396\",\"#462696\",\"#907496\",\"#cd8796\",\"#dea196\",\"#c32796\",\"#d8c496\",\"#677d96\",\"#deae96\",\"#b62896\",\"#a56b96\",\"#6a9d96\",\"#845096\",\"#399a96\",\"#594696\",\"#e93e96\",\"#dfb396\",\"#a96896\",\"#8db296\",\"#a14f96\",\"#5b8e96\",\"#a8e596\",\"#7eca96\",\"#ad9b96\",\"#eabd96\",\"#bdd696\",\"#ccc496\",\"#366b96\",\"#cac696\",\"#e63996\",\"#586596\",\"#33df96\",\"#baaa96\",\"#d19d96\",\"#619896\",\"#603e96\",\"#ccae96\",\"#55a296\",\"#7d2a96\",\"#70c896\",\"#58dd96\",\"#de3f96\",\"#8ba596\",\"#427c96\",\"#44d096\",\"#3a9296\",\"#7a5096\",\"#7dd296\",\"#6d4f96\",\"#d89d96\",\"#8eab96\",\"#611e96\",\"#f0b996\",\"#cbd496\",\"#3d5296\",\"#53b796\",\"#c87296\",\"#a72596\",\"#f5b996\",\"#5d6696\",\"#c23096\",\"#b56e96\",\"#3a2e96\",\"#e4ca96\",\"#6b2296\",\"#734696\",\"#3a3196\",\"#9fc796\",\"#743196\",\"#7f3896\",\"#de8a96\",\"#799b96\",\"#828f96\",\"#469d96\",\"#c16096\",\"#ddac96\",\"#43c096\",\"#a0b996\",\"#3fd096\",\"#a1c396\",\"#9e6196\",\"#61a496\",\"#68d096\",\"#9d8696\",\"#b62296\",\"#7dd096\",\"#427896\",\"#702596\",\"#ca7996\",\"#d35096\",\"#9c4996\",\"#c96496\",\"#67cc96\",\"#9fb096\",\"#a26296\",\"#795e96\",\"#7c8296\",\"#59b496\",\"#db9496\",\"#49d696\",\"#4dd396\",\"#a29596\",\"#9b6b96\",\"#c86596\",\"#b72696\",\"#ec4696\",\"#9c6096\",\"#dd9696\",\"#cc2c96\",\"#a83296\",\"#56d196\",\"#4b9d96\",\"#4a3a96\",\"#8f8f96\",\"#cf2296\",\"#db5596\",\"#765b96\",\"#97c296\",\"#617f96\",\"#449196\",\"#eb5296\",\"#735196\",\"#dc8b96\",\"#f68096\",\"#869396\",\"#cd6796\",\"#6a4c96\",\"#c52196\",\"#803996\",\"#c5a496\",\"#bb6696\",\"#68d696\",\"#7d8c96\",\"#77e396\",\"#dac096\",\"#708796\",\"#5c5996\",\"#704d96\",\"#6cc696\",\"#75c796\",\"#dcd396\",\"#89a396\",\"#48ce96\",\"#599a96\",\"#a4d996\",\"#7e9196\",\"#838496\",\"#3b7e96\",\"#41c196\",\"#46b696\",\"#645096\",\"#375796\",\"#a4d696\",\"#d2a396\",\"#b53496\",\"#598f96\",\"#946196\",\"#f34996\",\"#ceab96\",\"#9d3296\",\"#429b96\",\"#ad6996\",\"#aaa596\",\"#f45a96\",\"#7d7596\",\"#336696\",\"#8a9896\",\"#d5c996\",\"#f62496\",\"#3ca196\",\"#738296\",\"#e72596\",\"#ec7696\",\"#da1e96\",\"#f95c96\",\"#d19996\",\"#883a96\",\"#358196\",\"#cd8f96\",\"#384b96\",\"#815a96\",\"#e3d796\",\"#9ec596\",\"#636196\",\"#5e2a96\",\"#8c7696\",\"#bcaa96\",\"#5ea996\",\"#a74a96\",\"#6da396\",\"#e14596\",\"#657e96\",\"#917d96\",\"#38ba96\",\"#587896\",\"#dc6596\",\"#d7be96\",\"#c22b96\",\"#f73f96\",\"#e38896\",\"#a26b96\",\"#ab7a96\",\"#e07796\",\"#41be96\",\"#bb7496\",\"#59a796\",\"#d45296\",\"#cc8296\",\"#835f96\",\"#6c2596\",\"#9fc596\",\"#ec4a96\",\"#4b9296\",\"#a35b96\",\"#e44c96\",\"#4d2496\",\"#e02096\",\"#67d596\",\"#b6a296\",\"#a58b96\",\"#f27a96\",\"#6e3096\",\"#da5596\",\"#38e196\",\"#d5b196\",\"#dbb696\",\"#a35596\",\"#5c6996\",\"#322e96\",\"#84c796\",\"#8e4b96\",\"#f29896\",\"#9a7196\",\"#c83996\",\"#e67b96\",\"#8e9a96\",\"#6cd796\",\"#7f1e96\",\"#aa7c96\",\"#533e96\",\"#cad096\",\"#494496\",\"#483896\",\"#e08496\",\"#638796\",\"#c97a96\",\"#da9096\",\"#a62b96\",\"#3acf96\",\"#34ac96\",\"#d83296\",\"#60be96\",\"#bdb096\",\"#49ce96\",\"#74c296\",\"#327096\",\"#725e96\",\"#768e96\",\"#b15896\",\"#f27c96\",\"#38d296\",\"#dda796\",\"#99c096\",\"#8bd996\",\"#b66996\",\"#f33496\",\"#8cb396\",\"#cdde96\",\"#c35f96\",\"#975d96\",\"#b94396\",\"#be6696\",\"#326096\",\"#a63096\",\"#c36896\",\"#a57696\",\"#7fa696\",\"#89ae96\",\"#5fc896\",\"#3c7a96\",\"#7e5096\",\"#796a96\",\"#6e8f96\",\"#79a596\",\"#e11e96\",\"#584996\",\"#324696\",\"#dca396\",\"#9ed796\",\"#958a96\",\"#389f96\",\"#90c296\",\"#c15896\",\"#4b4396\",\"#4c4b96\",\"#468896\",\"#68e096\",\"#e56696\",\"#6e2a96\",\"#cecf96\",\"#a18d96\",\"#6a8796\",\"#683296\",\"#768f96\",\"#617596\",\"#752396\",\"#492596\",\"#d5cd96\",\"#67d696\",\"#44a096\",\"#7d9996\",\"#c58a96\",\"#531f96\",\"#92bb96\",\"#be3b96\",\"#9f4296\",\"#e2a496\",\"#f96e96\",\"#a05896\",\"#b36996\",\"#9b8796\",\"#999896\",\"#83e596\",\"#795596\",\"#ea9c96\",\"#34c696\",\"#b87796\",\"#c2bf96\",\"#f87996\",\"#d46296\",\"#7cb896\",\"#874296\",\"#b09696\",\"#5c4996\",\"#692296\",\"#505796\",\"#879996\",\"#953b96\",\"#cc7596\",\"#6d9396\",\"#a24e96\",\"#eb9f96\",\"#b09796\",\"#6a9896\",\"#3a5d96\",\"#a6d196\",\"#e66a96\",\"#aebc96\",\"#389296\",\"#d44e96\",\"#d5bd96\",\"#42dc96\",\"#a94296\",\"#6ce596\",\"#b29f96\",\"#d9c896\",\"#c39096\",\"#527b96\",\"#84a496\",\"#5f5496\",\"#cf7196\",\"#356896\",\"#3b9796\",\"#3b9a96\",\"#d3be96\",\"#c49296\",\"#bf7b96\",\"#9e6096\",\"#742b96\",\"#d15c96\",\"#a75996\",\"#7b6496\",\"#f49d96\",\"#c47196\",\"#6b9796\",\"#c0d496\",\"#ad2896\",\"#69c796\",\"#e98c96\",\"#564a96\",\"#aa3296\",\"#a22796\",\"#834496\",\"#6d5e96\",\"#638596\",\"#522f96\",\"#3a2296\",\"#7ac596\",\"#c3cc96\",\"#b1b596\",\"#df6996\",\"#edda96\",\"#b5d496\",\"#af7996\",\"#a46396\",\"#7a8896\",\"#4a6396\",\"#529196\",\"#e5c796\",\"#bf2c96\",\"#495096\",\"#9e7d96\",\"#d74596\",\"#d14a96\",\"#b52a96\",\"#c77c96\",\"#dddb96\",\"#7d8996\",\"#448296\",\"#67bd96\",\"#aab496\",\"#629d96\",\"#78cb96\",\"#912b96\",\"#c77596\",\"#dfd896\",\"#75b396\",\"#f34496\",\"#3d5f96\",\"#bcd196\",\"#398496\",\"#999696\",\"#cdaa96\",\"#f84496\",\"#4b9896\",\"#ae7796\",\"#89cb96\",\"#376b96\",\"#5b7196\",\"#c45496\",\"#857c96\",\"#89b996\",\"#863b96\",\"#c9ba96\",\"#5ea296\",\"#6f4196\",\"#6b5996\",\"#a4b496\",\"#32dc96\",\"#75c296\",\"#e8aa96\",\"#f07196\",\"#c2a496\",\"#b3cb96\",\"#b38e96\",\"#468996\",\"#c35d96\",\"#cb9796\",\"#536196\",\"#e46996\",\"#ca8096\",\"#f8a396\",\"#387596\",\"#c32096\",\"#a46a96\",\"#c76896\",\"#463d96\",\"#41e096\",\"#79c196\",\"#bf4796\",\"#aad996\",\"#6c8096\",\"#7f3a96\",\"#5e7c96\",\"#f53f96\",\"#542196\",\"#c5dd96\",\"#8fc296\",\"#9c4496\",\"#923d96\",\"#ee4196\",\"#c8c496\",\"#798a96\",\"#c2dd96\",\"#f1df96\",\"#49a996\",\"#4bb996\",\"#6f3096\",\"#8f8b96\",\"#b05396\",\"#e67a96\",\"#48bc96\",\"#46ac96\",\"#ece096\",\"#c34296\",\"#35c396\",\"#f56f96\",\"#f09596\",\"#4e6b96\",\"#b8d796\",\"#ab2896\",\"#e7a496\",\"#b3c896\",\"#50bc96\",\"#ed6796\",\"#b39b96\",\"#ea3f96\",\"#78c496\",\"#f6cf96\",\"#8a5896\",\"#789696\",\"#50e496\",\"#3e3f96\",\"#75cc96\",\"#6ab896\",\"#b97796\",\"#f5e596\",\"#528c96\",\"#7edd96\",\"#9eba96\",\"#e07b96\",\"#cba596\",\"#59d096\",\"#819f96\",\"#a95d96\",\"#e49896\",\"#73df96\",\"#c06796\",\"#d7ca96\",\"#775796\",\"#3b9e96\",\"#ef8396\",\"#33d096\",\"#534596\",\"#e14c96\",\"#65d696\",\"#e43696\",\"#9be596\",\"#d8d896\",\"#bf5896\",\"#799e96\",\"#458596\",\"#ab3196\",\"#5b7e96\",\"#975d96\",\"#df7996\",\"#714096\",\"#8d6f96\",\"#7d2996\",\"#bec096\",\"#3b5296\",\"#db4096\",\"#dd8796\",\"#9cd296\",\"#afcd96\",\"#405396\",\"#43ce96\",\"#6d4096\",\"#d0e596\",\"#ccb696\",\"#a7b596\",\"#427296\",\"#854a96\",\"#b89c96\",\"#968196\",\"#b07b96\",\"#e37196\",\"#f14696\",\"#e77c96\",\"#4a7e96\",\"#85a696\",\"#b98296\",\"#c95196\",\"#ccc496\",\"#be9496\",\"#c89896\",\"#523b96\",\"#825696\",\"#4aa296\",\"#ebdb96\",\"#9ad296\",\"#de6f96\",\"#43c396\",\"#8a9896\",\"#599296\",\"#e47196\",\"#995396\",\"#c9cd96\",\"#50d796\",\"#eb7196\",\"#8c8396\",\"#f26d96\",\"#e88096\",\"#e44d96\",\"#efd296\",\"#cdd796\",\"#8dcc96\",\"#83c196\",\"#e84496\",\"#43ac96\",\"#9edb96\",\"#7eb996\",\"#a35496\",\"#e51f96\",\"#7f9796\",\"#8ead96\",\"#56d896\",\"#4c6a96\",\"#93db96\",\"#a0da96\",\"#767d96\",\"#e36596\",\"#8dd596\",\"#8b3596\",\"#3cd496\",\"#8e2f96\",\"#923896\",\"#79b796\",\"#a62896\",\"#4fe296\",\"#e3ae96\",\"#756d96\",\"#8c6e96\",\"#ae3796\",\"#6a3996\",\"#e48596\",\"#9a5296\",\"#784096\",\"#cd2396\",\"#c04c96\",\"#58c996\",\"#7dce96\",\"#d0c096\",\"#a53296\",\"#45d496\",\"#b29296\",\"#92bf96\",\"#3d6d96\",\"#6a8a96\",\"#6c4996\",\"#e3b796\",\"#8fd496\",\"#914e96\",\"#984896\",\"#e26896\",\"#8f9496\",\"#d6b596\",\"#4a7696\",\"#e12496\",\"#5d3d96\",\"#f59496\",\"#336796\",\"#ad2796\",\"#d19396\",\"#dec696\",\"#504a96\",\"#5f7d96\",\"#ba2096\",\"#d85196\",\"#623c96\",\"#8cab96\",\"#dfa996\",\"#c7bd96\",\"#3fcb96\",\"#50c396\",\"#724296\",\"#9f2796\",\"#3be096\",\"#7e7196\",\"#903896\",\"#94d396\",\"#7be296\",\"#c56896\",\"#566796\",\"#4e8a96\",\"#bcac96\",\"#d3ae96\",\"#e47e96\",\"#c35b96\",\"#af5696\",\"#b13396\",\"#b42f96\",\"#b22396\",\"#59c596\",\"#637696\",\"#3dd396\",\"#cf9a96\",\"#713296\",\"#80a796\",\"#e53996\",\"#b19396\",\"#486a96\",\"#742696\",\"#ca6d96\",\"#6f9d96\",\"#af6696\",\"#e12c96\",\"#878f96\",\"#8c6996\",\"#3fa196\",\"#615e96\",\"#f49196\",\"#c85a96\",\"#4c5496\",\"#df4696\",\"#66ad96\",\"#c2d696\",\"#681e96\",\"#492896\",\"#505896\",\"#afc096\",\"#cc8a96\",\"#72a396\",\"#423a96\",\"#e69496\",\"#576f96\",\"#3adf96\",\"#884996\",\"#e58c96\",\"#d33196\",\"#8a4d96\",\"#efc596\",\"#89d796\",\"#4e8c96\",\"#a4b196\",\"#c9d596\",\"#f5c696\",\"#f59a96\",\"#ec1e96\",\"#bf4196\",\"#397596\",\"#9f8196\",\"#9b9b96\",\"#be9896\",\"#818496\",\"#f52596\",\"#f6b896\",\"#f34896\",\"#757596\",\"#5aa596\",\"#7dad96\",\"#7e6596\",\"#329b96\",\"#a64696\",\"#441e96\",\"#f9c596\",\"#7a4996\",\"#56e296\",\"#b8cc96\",\"#bac396\",\"#33d096\",\"#433296\",\"#652096\",\"#854696\",\"#907396\",\"#395296\",\"#3b4e96\",\"#5f8b96\",\"#93a196\",\"#f4aa96\",\"#c0a996\",\"#d08c96\",\"#f7c796\",\"#745696\",\"#788396\",\"#d18b96\",\"#379996\",\"#b7b896\",\"#f2cc96\",\"#4bbc96\",\"#d7b296\",\"#bf7b96\",\"#4fb496\",\"#3eba96\",\"#7c4196\",\"#a02696\",\"#887496\",\"#4dde96\",\"#b16b96\",\"#6a3e96\",\"#b6e596\",\"#74ac96\",\"#7d4396\",\"#5f9c96\",\"#c24e96\",\"#6b5f96\",\"#a16a96\",\"#46e296\",\"#997196\",\"#35d496\",\"#822396\",\"#4fc896\",\"#683e96\",\"#4a2496\",\"#a73296\",\"#515e96\",\"#738096\",\"#57b696\",\"#72de96\",\"#9a8496\",\"#53df96\",\"#a05696\",\"#939e96\",\"#e96496\",\"#9c9896\",\"#7f9a96\",\"#c07c96\",\"#b94b96\",\"#834296\",\"#523996\",\"#3d6996\",\"#ab3496\",\"#8b9796\",\"#e8c296\",\"#9c3e96\",\"#e6e196\",\"#777b96\",\"#f06196\",\"#717b96\",\"#6e3996\",\"#6adb96\",\"#ce8796\",\"#982f96\",\"#a47f96\",\"#bc8096\",\"#c55996\",\"#643896\",\"#9f9896\",\"#6c3396\",\"#879c96\",\"#a27196\",\"#669c96\",\"#be7d96\",\"#f7b696\",\"#368b96\",\"#706d96\",\"#946096\",\"#93d596\",\"#946d96\",\"#c1c196\",\"#55e196\",\"#ce6096\",\"#7b4796\",\"#8b2d96\",\"#50e196\",\"#926d96\",\"#ddd296\",\"#d23f96\",\"#777996\",\"#824996\",\"#40d696\",\"#864596\",\"#d6d796\",\"#345396\",\"#3bc696\",\"#eb5e96\",\"#d77e96\",\"#398796\",\"#5d5496\",\"#e55796\",\"#a62d96\",\"#5d4596\",\"#e68e96\",\"#deba96\",\"#3b4596\",\"#6a3c96\",\"#ccdf96\",\"#f94c96\",\"#6c5096\",\"#87bd96\",\"#569d96\",\"#f6e296\",\"#e39796\",\"#94bf96\",\"#c1a496\",\"#f09c96\",\"#f04796\",\"#ee4196\",\"#d54796\",\"#916096\",\"#9db596\",\"#4f6196\",\"#332196\",\"#7c3896\",\"#85b496\",\"#975c96\",\"#e4d796\",\"#379f96\",\"#66e196\",\"#372c96\",\"#4cd896\",\"#7ccb96\",\"#634596\",\"#9eb996\",\"#d7b796\",\"#373f96\",\"#3a3c96\",\"#aad496\",\"#de3696\",\"#d39896\",\"#f8ca96\",\"#4e7696\",\"#342896\",\"#4d2f96\",\"#f91f96\",\"#d56596\",\"#392596\",\"#a33696\",\"#c52396\",\"#e1d896\",\"#c1c896\",\"#942a96\",\"#878196\",\"#716396\",\"#758296\",\"#d03596\",\"#ed8096\",\"#41df96\",\"#994f96\",\"#788096\",\"#44a996\",\"#89bb96\",\"#f77196\",\"#6c3396\",\"#88dd96\",\"#aa8496\",\"#8b3f96\",\"#dfbb96\",\"#47ce96\",\"#dc9d96\",\"#c0e296\",\"#7a3a96\",\"#38ba96\",\"#de4696\",\"#4d6796\",\"#f5d296\",\"#79a996\",\"#b52196\",\"#7e6696\",\"#af3696\",\"#dca896\",\"#5dbb96\",\"#f2d396\",\"#451f96\",\"#a84196\",\"#a1e296\",\"#b72b96\",\"#99aa96\",\"#ed7996\",\"#9f4f96\",\"#ca5a96\",\"#4f8696\",\"#7aa296\",\"#ef2396\",\"#622896\",\"#d73496\",\"#518d96\",\"#be4596\",\"#6dc296\",\"#4f7296\",\"#a3bb96\",\"#9d6f96\",\"#c71e96\",\"#73a496\",\"#7d9996\",\"#dfa996\",\"#9d8f96\",\"#74e496\",\"#d4da96\",\"#e42296\",\"#583696\",\"#b26f96\",\"#a06696\",\"#f18e96\",\"#388096\",\"#bb9696\",\"#a0a696\",\"#567296\",\"#d58696\",\"#8ba096\",\"#3c4996\",\"#acac96\",\"#f5ba96\",\"#a57996\",\"#936996\",\"#ecbb96\",\"#7fae96\",\"#ed2f96\",\"#a98296\",\"#ef8096\",\"#977b96\",\"#849396\",\"#5ad496\",\"#d58796\",\"#6b7396\",\"#893996\",\"#8e9596\",\"#825f96\",\"#c3c296\",\"#639996\",\"#593196\",\"#e12d96\",\"#7b4c96\",\"#ada496\",\"#b0bd96\",\"#7d8296\",\"#ed5796\",\"#d4a296\",\"#ec8596\",\"#b63896\",\"#b15a96\",\"#7cbb96\",\"#f2de96\",\"#86a396\",\"#a75496\",\"#599f96\",\"#50c196\",\"#b17e96\",\"#b25596\",\"#99a996\",\"#963896\",\"#3eb896\",\"#a3be96\",\"#393e96\",\"#609396\",\"#52aa96\",\"#c33a96\",\"#c03596\",\"#a64696\",\"#dc8796\",\"#a0d296\",\"#e64496\",\"#874696\",\"#ed2496\",\"#4adc96\",\"#983496\",\"#ac5b96\",\"#473796\",\"#96e396\",\"#56b796\",\"#d6b196\",\"#ecce96\",\"#5f4b96\",\"#9ed196\",\"#7b7b96\",\"#a04096\",\"#c63b96\",\"#6dbc96\",\"#4aab96\",\"#62cb96\",\"#587696\",\"#f72f96\",\"#5b5496\",\"#d48d96\",\"#abb996\",\"#d83396\",\"#35d496\",\"#503496\",\"#6c8696\",\"#3aba96\",\"#759496\",\"#81d396\",\"#e1a596\",\"#8a5f96\",\"#504596\",\"#50d496\",\"#bd3996\",\"#398296\",\"#dc5096\",\"#83a596\",\"#80c096\",\"#d5c796\",\"#5f7c96\",\"#9c5f96\",\"#3de296\",\"#b8a196\",\"#3bc796\",\"#938796\",\"#344596\",\"#753b96\",\"#818a96\",\"#712196\",\"#bc2a96\",\"#f85a96\",\"#515696\",\"#d7b496\",\"#4f9796\",\"#493296\",\"#7a3496\",\"#58e496\",\"#4ecd96\",\"#51b196\",\"#5f8b96\",\"#f56c96\",\"#afe596\",\"#e5c696\",\"#89ce96\",\"#70e396\",\"#b2cd96\",\"#efc296\",\"#525b96\",\"#876496\",\"#4ea396\",\"#c4a696\",\"#d09796\",\"#3b7196\",\"#b28d96\",\"#a49096\",\"#748f96\",\"#80bf96\",\"#533496\",\"#85a096\",\"#ebab96\",\"#ec9696\",\"#86a796\",\"#cac196\",\"#907396\",\"#a34e96\",\"#c92396\",\"#bfa296\",\"#84d296\",\"#a5a396\",\"#e52b96\",\"#712496\",\"#ebc096\",\"#502896\",\"#92db96\",\"#606196\",\"#ae8696\",\"#898996\",\"#efbf96\",\"#3e5596\",\"#586896\",\"#f5c296\",\"#48a396\",\"#bc8396\",\"#9db296\",\"#f2a596\",\"#aec496\",\"#4db396\",\"#3c2296\",\"#a76096\",\"#af2d96\",\"#697896\",\"#e55696\",\"#95c596\",\"#861f96\",\"#d6c096\",\"#783c96\",\"#b05396\",\"#428496\",\"#853a96\",\"#36cb96\",\"#88b596\",\"#6bb796\",\"#785d96\",\"#a0a396\",\"#868796\",\"#b92296\",\"#804f96\",\"#cade96\",\"#ba8896\",\"#a8aa96\",\"#406d96\",\"#9e8196\",\"#74b696\",\"#f64196\",\"#df8696\",\"#857d96\",\"#45aa96\",\"#f13896\",\"#4dd296\",\"#bcc896\",\"#429b96\",\"#f76d96\",\"#936496\",\"#3c9c96\",\"#ca7696\",\"#a12596\",\"#4b8196\",\"#b74696\",\"#bed296\",\"#737596\",\"#aa6596\",\"#926d96\",\"#d38396\",\"#6fae96\",\"#9fae96\",\"#cd1f96\",\"#384896\",\"#db3296\",\"#e9ae96\",\"#c4a396\",\"#e4d596\",\"#af3c96\",\"#72ba96\",\"#b0de96\",\"#807e96\",\"#64c996\",\"#ac5696\",\"#915f96\",\"#cdd096\",\"#777896\",\"#b32f96\",\"#ca4196\",\"#d45396\",\"#858b96\",\"#771f96\",\"#ae8796\",\"#e86096\",\"#6d3096\",\"#b78d96\",\"#85a296\",\"#8fc496\",\"#b8a596\",\"#e73d96\",\"#40c996\",\"#6f7f96\",\"#473e96\",\"#cb2196\",\"#9bd996\",\"#e42b96\",\"#857a96\",\"#463596\",\"#d4a296\",\"#b62a96\",\"#888096\",\"#5d4896\",\"#818596\",\"#c79f96\",\"#d34196\",\"#6dcc96\",\"#eab996\",\"#76ab96\",\"#e45f96\",\"#bae396\",\"#e43396\",\"#d96696\",\"#89d796\",\"#a59196\",\"#bcab96\",\"#765296\",\"#796a96\",\"#f5b496\",\"#5f9e96\",\"#33be96\",\"#ccc596\",\"#3b8996\",\"#66c196\",\"#6d3b96\",\"#5f3a96\",\"#f14e96\",\"#462a96\",\"#ea4b96\",\"#8fdb96\",\"#c4d896\",\"#5d2296\",\"#d48396\",\"#e38096\",\"#ae2096\",\"#cb6f96\",\"#ab9096\",\"#928396\",\"#8b5796\",\"#6f4d96\",\"#e79796\",\"#85ad96\",\"#f87396\",\"#3f3f96\",\"#add496\",\"#5de196\",\"#d4e396\",\"#327696\",\"#a7e496\",\"#507196\",\"#747f96\",\"#b96296\",\"#47b796\",\"#94a396\",\"#693396\",\"#a89a96\",\"#407296\",\"#adc596\",\"#9ca996\",\"#b78196\",\"#858096\",\"#ac5f96\",\"#532596\",\"#439c96\",\"#f3c596\",\"#8f8b96\",\"#bfc496\",\"#f4a996\",\"#918e96\",\"#918c96\",\"#3a9c96\",\"#ec3a96\",\"#a7d696\",\"#a1ab96\",\"#a85696\",\"#73d696\",\"#f38e96\",\"#df2596\",\"#cb6796\",\"#816096\",\"#3e3596\",\"#ef5296\",\"#f09296\",\"#888b96\",\"#adcd96\",\"#ae4396\",\"#663e96\",\"#45cf96\",\"#f79996\",\"#7d3c96\",\"#737996\",\"#ecdc96\",\"#5d8a96\",\"#a15d96\",\"#382396\",\"#6c6996\",\"#ee5596\",\"#d1be96\",\"#885596\",\"#aa6196\",\"#783096\",\"#633f96\",\"#8ace96\",\"#e7a596\",\"#8eb896\",\"#737296\",\"#529c96\",\"#cd8096\",\"#7f8296\",\"#558196\",\"#db7596\",\"#3d9996\",\"#6c4196\",\"#3cad96\",\"#d0cd96\",\"#bfac96\",\"#a03396\",\"#699496\",\"#abc896\",\"#c2c796\",\"#7c9896\",\"#883a96\",\"#c2d496\",\"#986696\",\"#a8b396\",\"#332096\",\"#f1d896\",\"#4f5496\",\"#b84d96\",\"#bd3596\",\"#573e96\",\"#c22a96\",\"#d57c96\",\"#82cb96\",\"#3b7b96\",\"#e29596\",\"#a9d496\",\"#5fe096\",\"#684c96\",\"#4dc696\",\"#d7c696\",\"#674b96\",\"#509696\",\"#5a4f96\",\"#dc9396\",\"#d55996\",\"#f69196\",\"#e3bc96\",\"#4b7096\",\"#be5b96\",\"#c25296\",\"#645596\",\"#84c796\",\"#a0ae96\",\"#a55896\",\"#5c4196\",\"#7e7496\",\"#ce2096\",\"#6b5e96\",\"#767896\",\"#765c96\",\"#46bb96\",\"#a98496\",\"#ab9996\",\"#3c2f96\",\"#ef1f96\",\"#a97296\",\"#4ec496\",\"#607d96\",\"#ce5a96\",\"#a26e96\",\"#9ca196\",\"#83e596\",\"#8b6c96\",\"#b78996\",\"#e5bf96\",\"#d54e96\",\"#47ab96\",\"#de4896\",\"#77b396\",\"#e19396\",\"#f39896\",\"#70a196\",\"#774996\",\"#44dc96\",\"#b47796\",\"#5ab796\",\"#dd5296\",\"#372a96\",\"#a78096\",\"#75c796\",\"#c5b196\",\"#b5a996\",\"#e9ab96\",\"#79d496\",\"#9f6696\",\"#e33a96\",\"#395196\",\"#cc6596\",\"#863c96\",\"#c57496\",\"#be2b96\",\"#7e2296\",\"#d2b796\",\"#e37296\",\"#a24896\",\"#72bc96\",\"#85bf96\",\"#795796\",\"#71bd96\",\"#e4c296\",\"#5bd996\",\"#3ab796\",\"#e27796\",\"#b0c296\",\"#9d4496\",\"#39e296\",\"#3c8896\",\"#33db96\",\"#592096\",\"#7a3d96\",\"#75ad96\",\"#814796\",\"#8f5d96\",\"#9da296\",\"#604e96\",\"#6f3296\",\"#cbd096\",\"#bba096\",\"#49d696\",\"#c85a96\",\"#eebf96\",\"#e59d96\",\"#5f9196\",\"#cf4696\",\"#9c8396\",\"#c85e96\",\"#a43796\",\"#b9da96\",\"#7add96\",\"#576c96\",\"#a2ba96\",\"#ef2396\",\"#df7496\",\"#6c6d96\",\"#a48296\",\"#c47896\",\"#65b096\",\"#919596\",\"#f68c96\",\"#42b296\",\"#8f2d96\",\"#da8b96\",\"#a68a96\",\"#e7de96\",\"#b99c96\",\"#cd5d96\",\"#cc3b96\",\"#45bb96\",\"#5fa796\",\"#8d8596\",\"#99d096\",\"#5ad096\",\"#793c96\",\"#9b3796\",\"#479f96\",\"#e47a96\",\"#e6d396\",\"#e09596\",\"#418596\",\"#64e096\",\"#f43a96\",\"#aba196\",\"#e44096\",\"#898196\",\"#ee1e96\",\"#56c196\",\"#a3ac96\",\"#83d596\",\"#9c2696\",\"#a38e96\",\"#dec996\",\"#f07c96\",\"#71e596\",\"#9fad96\",\"#a64396\",\"#794b96\",\"#7f8f96\",\"#ea3896\",\"#e65496\",\"#52de96\",\"#c08996\",\"#b25d96\",\"#bf9896\",\"#589e96\",\"#507796\",\"#9a4f96\",\"#6ce496\",\"#7f7c96\",\"#abbc96\",\"#8a8596\",\"#983096\",\"#b1ba96\",\"#952996\",\"#8c4996\",\"#f43e96\",\"#dd3b96\",\"#eb9396\",\"#d19596\",\"#548996\",\"#735196\",\"#a62e96\",\"#882896\",\"#9b3b96\",\"#4da596\",\"#f7cf96\",\"#a1b396\",\"#9dcf96\",\"#73a496\",\"#866c96\",\"#f08796\",\"#441f96\",\"#814396\",\"#e44c96\",\"#edb096\",\"#5c9e96\",\"#f87e96\",\"#965796\",\"#895c96\",\"#4e8d96\",\"#9e5596\",\"#9aaf96\",\"#627696\",\"#865b96\",\"#66df96\",\"#9c4896\",\"#e22c96\",\"#8c4396\",\"#cc5596\",\"#47bf96\",\"#ba8a96\",\"#ccce96\",\"#788c96\",\"#344d96\",\"#913c96\",\"#4d8d96\",\"#edaf96\",\"#e1b696\",\"#5db796\",\"#adcd96\",\"#c68c96\",\"#f66c96\",\"#399f96\",\"#329696\",\"#323796\",\"#4d5696\",\"#8e5b96\",\"#85bf96\",\"#382b96\",\"#a29596\",\"#927d96\",\"#539996\",\"#d1d796\",\"#b67096\",\"#d06c96\",\"#5cce96\",\"#64d596\",\"#3ec396\",\"#95d196\",\"#ca7196\",\"#81a296\",\"#d8a296\",\"#b08996\",\"#cdc296\",\"#992996\",\"#7c9696\",\"#3dbd96\",\"#415296\",\"#e19996\",\"#b6d196\",\"#706496\",\"#c6ad96\",\"#437196\",\"#debc96\",\"#e43496\",\"#858096\",\"#997a96\",\"#d67396\",\"#80bf96\",\"#f99b96\",\"#8e8996\",\"#7ee296\",\"#b6cc96\",\"#636296\",\"#e3cd96\",\"#a9bb96\",\"#3b8296\",\"#4f2396\",\"#d36c96\",\"#c75996\",\"#d37996\",\"#99be96\",\"#a94d96\",\"#a42f96\",\"#5bd096\",\"#63b596\",\"#9c8896\",\"#378696\",\"#b29096\",\"#6f9d96\",\"#716696\",\"#8adf96\",\"#4e8a96\",\"#d08696\",\"#3b2496\",\"#da7596\",\"#d4b596\",\"#6d9096\",\"#814b96\",\"#7a2896\",\"#f4be96\",\"#8b6d96\",\"#38e196\",\"#e45e96\",\"#e56e96\",\"#433c96\",\"#a6dc96\",\"#7c9196\",\"#b95096\",\"#e5a096\",\"#465f96\",\"#f07c96\",\"#7fdc96\",\"#afbd96\",\"#628d96\",\"#57a696\",\"#756396\",\"#f65e96\",\"#4e2c96\",\"#5c7b96\",\"#a79396\",\"#e58196\",\"#6fce96\",\"#d34996\",\"#813f96\",\"#549e96\",\"#879896\",\"#c76b96\",\"#7cd396\",\"#e83c96\",\"#9c4896\",\"#5d5696\",\"#50cd96\",\"#445b96\",\"#5d8996\",\"#35ab96\",\"#a04696\",\"#439096\",\"#cbcf96\",\"#aaaf96\",\"#c05396\",\"#5f8a96\",\"#4f5496\",\"#4cd096\",\"#893296\",\"#6dae96\",\"#58b796\",\"#c27596\",\"#88d596\",\"#813196\",\"#4ebe96\",\"#f47996\",\"#f9d196\",\"#c2a896\",\"#9ed896\",\"#48a096\",\"#bf5c96\",\"#b6de96\",\"#3b5996\",\"#eb6196\",\"#377296\",\"#a87596\",\"#cb9796\",\"#8d8596\",\"#d0c296\",\"#e66896\",\"#986896\",\"#69a896\",\"#efb496\",\"#f97696\",\"#422a96\",\"#59b496\",\"#79be96\",\"#f26096\",\"#e49b96\",\"#ea6796\",\"#613196\",\"#f5b396\",\"#6c5396\",\"#5a4896\",\"#e05d96\",\"#82cb96\",\"#c2b596\",\"#975f96\",\"#78dc96\",\"#b13b96\",\"#7ec896\",\"#9e6796\",\"#9c9196\",\"#7a5d96\",\"#8dad96\",\"#db3596\",\"#a69b96\",\"#dc9496\",\"#6e4396\",\"#8de496\",\"#9a8e96\",\"#c59b96\",\"#966396\",\"#444896\",\"#e3dc96\",\"#e78496\",\"#6d2696\",\"#3f3296\",\"#95ab96\",\"#6ba296\",\"#635596\",\"#e23296\",\"#922696\",\"#902696\",\"#925f96\",\"#a3ad96\",\"#b75096\",\"#938896\",\"#36a796\",\"#957e96\",\"#bf5896\",\"#f75f96\",\"#be6d96\",\"#9b8096\",\"#a03796\",\"#d24196\",\"#f49696\",\"#63b596\",\"#d28196\",\"#48a196\",\"#708996\",\"#f89396\",\"#aacf96\",\"#52da96\",\"#5a3e96\",\"#ae4f96\",\"#cc5496\",\"#a95896\",\"#435d96\",\"#892e96\",\"#826c96\",\"#cd3696\",\"#c36296\",\"#9e9296\",\"#9cc496\",\"#75c696\",\"#657696\",\"#e11e96\",\"#716a96\",\"#698b96\",\"#f86c96\",\"#f19696\",\"#966c96\",\"#468996\",\"#b55396\",\"#727596\",\"#579c96\",\"#60b696\",\"#6cd696\",\"#492d96\",\"#a01e96\",\"#da8e96\",\"#6acc96\",\"#7fd096\",\"#d52d96\",\"#7c3e96\",\"#868b96\",\"#c58f96\",\"#636896\",\"#9fc496\",\"#c68196\",\"#366696\",\"#ad5296\",\"#e27596\",\"#ca2896\",\"#a32a96\",\"#53a896\",\"#903f96\",\"#bb5396\",\"#f1d296\",\"#bf2e96\",\"#a37896\",\"#bd2e96\",\"#da3496\",\"#613596\",\"#c35a96\",\"#f73296\",\"#d04296\",\"#5bce96\",\"#608096\",\"#e88296\",\"#4f4e96\",\"#8b3496\",\"#5f2396\",\"#543a96\",\"#947b96\",\"#deab96\",\"#ac7896\",\"#8b9696\",\"#482a96\",\"#b7dd96\",\"#cce596\",\"#c4b696\",\"#353596\",\"#386a96\",\"#653496\",\"#78b396\",\"#c9cc96\",\"#e17b96\",\"#634996\",\"#544096\",\"#a5bd96\",\"#8b8696\",\"#8c5096\",\"#5fd296\",\"#816796\",\"#614296\",\"#888596\",\"#437b96\",\"#5fd696\",\"#74dd96\",\"#982f96\",\"#d98096\",\"#bcac96\",\"#d73d96\",\"#948996\",\"#b5ad96\",\"#8c1f96\",\"#977b96\",\"#46c396\",\"#88dd96\",\"#3c4b96\",\"#45bb96\",\"#ee4196\",\"#422e96\",\"#515396\",\"#3d8b96\",\"#4ca896\",\"#bae296\",\"#bf8396\",\"#9f2396\",\"#c69896\",\"#efdf96\",\"#ce3c96\",\"#5f2696\",\"#8b7c96\",\"#52d096\",\"#ba9896\",\"#f45f96\",\"#c93396\",\"#b98096\",\"#e83296\",\"#a23896\",\"#6d3196\",\"#8aa096\",\"#f56796\",\"#967a96\",\"#4d2696\",\"#8c5b96\",\"#724696\",\"#3e9096\",\"#4cd596\",\"#567c96\",\"#583696\",\"#df9e96\",\"#a48396\",\"#ccde96\",\"#b4bb96\"],\"radius\":{\"__ndarray__\":\"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\",\"dtype\":\"float64\",\"order\":\"little\",\"shape\":[4000]},\"x\":{\"__ndarray__\":\"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\",\"dtype\":\"float64\",\"order\":\"little\",\"shape\":[4000]},\"y\":{\"__ndarray__\":\"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\",\"dtype\":\"float64\",\"order\":\"little\",\"shape\":[4000]}},\"selected\":{\"id\":\"2487\"},\"selection_policy\":{\"id\":\"2486\"}},\"id\":\"2382\",\"type\":\"ColumnDataSource\"},{\"attributes\":{},\"id\":\"2482\",\"type\":\"AllLabels\"},{\"attributes\":{\"fill_alpha\":{\"value\":0.6},\"fill_color\":{\"field\":\"fill_color\"},\"line_color\":{\"value\":null},\"radius\":{\"field\":\"radius\"},\"x\":{\"field\":\"x\"},\"y\":{\"field\":\"y\"}},\"id\":\"2383\",\"type\":\"Circle\"},{\"attributes\":{},\"id\":\"2357\",\"type\":\"BasicTicker\"},{\"attributes\":{},\"id\":\"2361\",\"type\":\"BasicTicker\"},{\"attributes\":{},\"id\":\"2484\",\"type\":\"BasicTickFormatter\"},{\"attributes\":{},\"id\":\"2354\",\"type\":\"LinearScale\"},{\"attributes\":{\"axis\":{\"id\":\"2356\"},\"coordinates\":null,\"group\":null,\"ticker\":null},\"id\":\"2359\",\"type\":\"Grid\"},{\"attributes\":{\"fill_alpha\":{\"value\":0.2},\"fill_color\":{\"field\":\"fill_color\"},\"hatch_alpha\":{\"value\":0.2},\"line_alpha\":{\"value\":0.2},\"line_color\":{\"value\":null},\"radius\":{\"field\":\"radius\"},\"x\":{\"field\":\"x\"},\"y\":{\"field\":\"y\"}},\"id\":\"2385\",\"type\":\"Circle\"},{\"attributes\":{},\"id\":\"2366\",\"type\":\"WheelZoomTool\"},{\"attributes\":{},\"id\":\"2485\",\"type\":\"AllLabels\"},{\"attributes\":{},\"id\":\"2365\",\"type\":\"PanTool\"},{\"attributes\":{\"coordinates\":null,\"formatter\":{\"id\":\"2484\"},\"group\":null,\"major_label_policy\":{\"id\":\"2485\"},\"ticker\":{\"id\":\"2357\"}},\"id\":\"2356\",\"type\":\"LinearAxis\"},{\"attributes\":{},\"id\":\"2364\",\"type\":\"CrosshairTool\"},{\"attributes\":{\"overlay\":{\"id\":\"2373\"}},\"id\":\"2370\",\"type\":\"LassoSelectTool\"},{\"attributes\":{\"overlay\":{\"id\":\"2372\"}},\"id\":\"2367\",\"type\":\"BoxZoomTool\"},{\"attributes\":{},\"id\":\"2368\",\"type\":\"ResetTool\"},{\"attributes\":{\"overlay\":{\"id\":\"2371\"}},\"id\":\"2369\",\"type\":\"BoxSelectTool\"},{\"attributes\":{\"coordinates\":null,\"fill_alpha\":0.5,\"fill_color\":\"lightgrey\",\"group\":null,\"level\":\"overlay\",\"line_alpha\":1.0,\"line_color\":\"black\",\"line_dash\":[4,4],\"line_width\":2,\"syncable\":false,\"xs_units\":\"screen\",\"ys_units\":\"screen\"},\"id\":\"2373\",\"type\":\"PolyAnnotation\"},{\"attributes\":{},\"id\":\"2352\",\"type\":\"LinearScale\"}],\"root_ids\":[\"2347\"]},\"title\":\"Bokeh Application\",\"version\":\"2.4.3\"}};\n",
       "  const render_items = [{\"docid\":\"c149ab37-f26f-464d-8346-60adf448e8cd\",\"root_ids\":[\"2347\"],\"roots\":{\"2347\":\"d6f943dd-f994-45f6-9aeb-31b40e642d94\"}}];\n",
       "  root.Bokeh.embed.embed_items_notebook(docs_json, render_items);\n",
       "  }\n",
       "  if (root.Bokeh !== undefined) {\n",
       "    embed_document(root);\n",
       "  } else {\n",
       "    let attempts = 0;\n",
       "    const timer = setInterval(function(root) {\n",
       "      if (root.Bokeh !== undefined) {\n",
       "        clearInterval(timer);\n",
       "        embed_document(root);\n",
       "      } else {\n",
       "        attempts++;\n",
       "        if (attempts > 100) {\n",
       "          clearInterval(timer);\n",
       "          console.log(\"Bokeh: ERROR: Unable to run BokehJS code because BokehJS library is missing\");\n",
       "        }\n",
       "      }\n",
       "    }, 10, root)\n",
       "  }\n",
       "})(window);"
      ],
      "application/vnd.bokehjs_exec.v0+json": ""
     },
     "metadata": {
      "application/vnd.bokehjs_exec.v0+json": {
       "id": "2347"
      }
     },
     "output_type": "display_data"
    }
   ],
   "source": [
    "import numpy as np\n",
    "\n",
    "from bokeh.plotting import figure, output_file, show\n",
    "\n",
    "# prepare some data\n",
    "N = 4000\n",
    "x = np.random.random(size=N) * 100\n",
    "y = np.random.random(size=N) * 100\n",
    "radii = np.random.random(size=N) * 1.5\n",
    "colors = [\n",
    "    \"#%02x%02x%02x\" % (int(r), int(g), 150) for r, g in zip(50+2*x, 30+2*y)\n",
    "]\n",
    "\n",
    "TOOLS=\"crosshair,pan,wheel_zoom,box_zoom,reset,box_select,lasso_select\"\n",
    "\n",
    "# create a new plot with the tools above, and explicit ranges\n",
    "p = figure(tools=TOOLS, x_range=(0,100), y_range=(0,100), width=500, height=500)\n",
    "\n",
    "# add a circle renderer with vectorized colors and sizes\n",
    "p.circle(x,y, radius=radii, fill_color=colors, fill_alpha=0.6, line_color=None)\n",
    "\n",
    "# show the results\n",
    "show(p)"
   ]
  },
  {
   "cell_type": "markdown",
   "metadata": {},
   "source": [
    "# Data Sources and Transformations"
   ]
  },
  {
   "cell_type": "markdown",
   "metadata": {},
   "source": [
    "We've seen how Bokeh can work well with Python lists, NumPy arrays, Pandas series, etc. At lower levels, these inputs are converted to a Bokeh `ColumnDataSource`. This data type is the central data source object used throughout Bokeh. Although Bokeh often creates them for us transparently, there are times when it is useful to create them explicitly.\n",
    "\n",
    "In later sections we will see features like hover tooltips, computed transforms, and CustomJS interactions that make use of the `ColumnDataSource`, so let's take a quick look now."
   ]
  },
  {
   "cell_type": "markdown",
   "metadata": {},
   "source": [
    "## Creating with Python Dicts\n",
    "The `ColumnDataSource` can be imported from `bokeh.models`:"
   ]
  },
  {
   "cell_type": "code",
   "execution_count": 17,
   "metadata": {},
   "outputs": [],
   "source": [
    "from bokeh.models import ColumnDataSource"
   ]
  },
  {
   "cell_type": "markdown",
   "metadata": {},
   "source": [
    "The `ColumnDataSource` is a mapping of column names (strings) to sequences of values. Here is a simple example. The mapping is provided by passing a Python `dict` with string keys and simple Python lists as values. The values could also be NumPy arrays, or Pandas sequences.\n",
    "\n",
    "***NOTE: ALL the columns in a `ColumnDataSource` must always be the SAME length.***\n"
   ]
  },
  {
   "cell_type": "code",
   "execution_count": 18,
   "metadata": {},
   "outputs": [],
   "source": [
    "source = ColumnDataSource(data={\n",
    "    'x' : [1, 2, 3, 4, 5],\n",
    "    'y' : [3, 7, 8, 5, 1],\n",
    "})"
   ]
  },
  {
   "cell_type": "markdown",
   "metadata": {},
   "source": [
    "Up until now we have called functions like `p.circle` by passing in literal lists or arrays of data directly, when we do this, Bokeh creates a `ColumnDataSource` for us, automatically. But it is possible to specify a `ColumnDataSource` explicitly by passing it as the `source` argument to a glyph method. Whenever we do this, if we want a property (like `\"x\"` or `\"y\"` or `\"fill_color\"`) to have a sequence of values, we pass the ***name of the column*** that we would like to use for a property:"
   ]
  },
  {
   "cell_type": "code",
   "execution_count": 19,
   "metadata": {},
   "outputs": [
    {
     "data": {
      "text/html": [
       "\n",
       "  <div class=\"bk-root\" id=\"3ef55857-0636-4f2d-955d-7e36964f348a\" data-root-id=\"2557\"></div>\n"
      ]
     },
     "metadata": {},
     "output_type": "display_data"
    },
    {
     "data": {
      "application/javascript": [
       "(function(root) {\n",
       "  function embed_document(root) {\n",
       "  const docs_json = {\"877d2b8f-55ea-4a46-936f-dacbb527b0f1\":{\"defs\":[],\"roots\":{\"references\":[{\"attributes\":{\"below\":[{\"id\":\"2566\"}],\"center\":[{\"id\":\"2569\"},{\"id\":\"2573\"}],\"height\":400,\"left\":[{\"id\":\"2570\"}],\"renderers\":[{\"id\":\"2592\"}],\"title\":{\"id\":\"2697\"},\"toolbar\":{\"id\":\"2581\"},\"width\":400,\"x_range\":{\"id\":\"2558\"},\"x_scale\":{\"id\":\"2562\"},\"y_range\":{\"id\":\"2560\"},\"y_scale\":{\"id\":\"2564\"}},\"id\":\"2557\",\"subtype\":\"Figure\",\"type\":\"Plot\"},{\"attributes\":{},\"id\":\"2705\",\"type\":\"UnionRenderers\"},{\"attributes\":{},\"id\":\"2567\",\"type\":\"BasicTicker\"},{\"attributes\":{\"data\":{\"x\":[1,2,3,4,5],\"y\":[3,7,8,5,1]},\"selected\":{\"id\":\"2706\"},\"selection_policy\":{\"id\":\"2705\"}},\"id\":\"2556\",\"type\":\"ColumnDataSource\"},{\"attributes\":{},\"id\":\"2706\",\"type\":\"Selection\"},{\"attributes\":{},\"id\":\"2704\",\"type\":\"AllLabels\"},{\"attributes\":{\"fill_color\":{\"value\":\"#1f77b4\"},\"line_color\":{\"value\":\"#1f77b4\"},\"size\":{\"value\":20},\"x\":{\"field\":\"x\"},\"y\":{\"field\":\"y\"}},\"id\":\"2589\",\"type\":\"Circle\"},{\"attributes\":{\"source\":{\"id\":\"2556\"}},\"id\":\"2593\",\"type\":\"CDSView\"},{\"attributes\":{},\"id\":\"2560\",\"type\":\"DataRange1d\"},{\"attributes\":{},\"id\":\"2579\",\"type\":\"HelpTool\"},{\"attributes\":{\"axis\":{\"id\":\"2566\"},\"coordinates\":null,\"group\":null,\"ticker\":null},\"id\":\"2569\",\"type\":\"Grid\"},{\"attributes\":{\"bottom_units\":\"screen\",\"coordinates\":null,\"fill_alpha\":0.5,\"fill_color\":\"lightgrey\",\"group\":null,\"left_units\":\"screen\",\"level\":\"overlay\",\"line_alpha\":1.0,\"line_color\":\"black\",\"line_dash\":[4,4],\"line_width\":2,\"right_units\":\"screen\",\"syncable\":false,\"top_units\":\"screen\"},\"id\":\"2580\",\"type\":\"BoxAnnotation\"},{\"attributes\":{\"fill_alpha\":{\"value\":0.2},\"fill_color\":{\"value\":\"#1f77b4\"},\"hatch_alpha\":{\"value\":0.2},\"line_alpha\":{\"value\":0.2},\"line_color\":{\"value\":\"#1f77b4\"},\"size\":{\"value\":20},\"x\":{\"field\":\"x\"},\"y\":{\"field\":\"y\"}},\"id\":\"2591\",\"type\":\"Circle\"},{\"attributes\":{},\"id\":\"2575\",\"type\":\"WheelZoomTool\"},{\"attributes\":{},\"id\":\"2558\",\"type\":\"DataRange1d\"},{\"attributes\":{},\"id\":\"2578\",\"type\":\"ResetTool\"},{\"attributes\":{\"coordinates\":null,\"formatter\":{\"id\":\"2703\"},\"group\":null,\"major_label_policy\":{\"id\":\"2704\"},\"ticker\":{\"id\":\"2567\"}},\"id\":\"2566\",\"type\":\"LinearAxis\"},{\"attributes\":{},\"id\":\"2577\",\"type\":\"SaveTool\"},{\"attributes\":{},\"id\":\"2703\",\"type\":\"BasicTickFormatter\"},{\"attributes\":{\"coordinates\":null,\"data_source\":{\"id\":\"2556\"},\"glyph\":{\"id\":\"2589\"},\"group\":null,\"hover_glyph\":null,\"muted_glyph\":{\"id\":\"2591\"},\"nonselection_glyph\":{\"id\":\"2590\"},\"view\":{\"id\":\"2593\"}},\"id\":\"2592\",\"type\":\"GlyphRenderer\"},{\"attributes\":{},\"id\":\"2571\",\"type\":\"BasicTicker\"},{\"attributes\":{\"overlay\":{\"id\":\"2580\"}},\"id\":\"2576\",\"type\":\"BoxZoomTool\"},{\"attributes\":{},\"id\":\"2564\",\"type\":\"LinearScale\"},{\"attributes\":{},\"id\":\"2574\",\"type\":\"PanTool\"},{\"attributes\":{},\"id\":\"2562\",\"type\":\"LinearScale\"},{\"attributes\":{},\"id\":\"2701\",\"type\":\"AllLabels\"},{\"attributes\":{\"coordinates\":null,\"group\":null},\"id\":\"2697\",\"type\":\"Title\"},{\"attributes\":{\"axis\":{\"id\":\"2570\"},\"coordinates\":null,\"dimension\":1,\"group\":null,\"ticker\":null},\"id\":\"2573\",\"type\":\"Grid\"},{\"attributes\":{},\"id\":\"2700\",\"type\":\"BasicTickFormatter\"},{\"attributes\":{\"tools\":[{\"id\":\"2574\"},{\"id\":\"2575\"},{\"id\":\"2576\"},{\"id\":\"2577\"},{\"id\":\"2578\"},{\"id\":\"2579\"}]},\"id\":\"2581\",\"type\":\"Toolbar\"},{\"attributes\":{\"coordinates\":null,\"formatter\":{\"id\":\"2700\"},\"group\":null,\"major_label_policy\":{\"id\":\"2701\"},\"ticker\":{\"id\":\"2571\"}},\"id\":\"2570\",\"type\":\"LinearAxis\"},{\"attributes\":{\"fill_alpha\":{\"value\":0.1},\"fill_color\":{\"value\":\"#1f77b4\"},\"hatch_alpha\":{\"value\":0.1},\"line_alpha\":{\"value\":0.1},\"line_color\":{\"value\":\"#1f77b4\"},\"size\":{\"value\":20},\"x\":{\"field\":\"x\"},\"y\":{\"field\":\"y\"}},\"id\":\"2590\",\"type\":\"Circle\"}],\"root_ids\":[\"2557\"]},\"title\":\"Bokeh Application\",\"version\":\"2.4.3\"}};\n",
       "  const render_items = [{\"docid\":\"877d2b8f-55ea-4a46-936f-dacbb527b0f1\",\"root_ids\":[\"2557\"],\"roots\":{\"2557\":\"3ef55857-0636-4f2d-955d-7e36964f348a\"}}];\n",
       "  root.Bokeh.embed.embed_items_notebook(docs_json, render_items);\n",
       "  }\n",
       "  if (root.Bokeh !== undefined) {\n",
       "    embed_document(root);\n",
       "  } else {\n",
       "    let attempts = 0;\n",
       "    const timer = setInterval(function(root) {\n",
       "      if (root.Bokeh !== undefined) {\n",
       "        clearInterval(timer);\n",
       "        embed_document(root);\n",
       "      } else {\n",
       "        attempts++;\n",
       "        if (attempts > 100) {\n",
       "          clearInterval(timer);\n",
       "          console.log(\"Bokeh: ERROR: Unable to run BokehJS code because BokehJS library is missing\");\n",
       "        }\n",
       "      }\n",
       "    }, 10, root)\n",
       "  }\n",
       "})(window);"
      ],
      "application/vnd.bokehjs_exec.v0+json": ""
     },
     "metadata": {
      "application/vnd.bokehjs_exec.v0+json": {
       "id": "2557"
      }
     },
     "output_type": "display_data"
    }
   ],
   "source": [
    "p = figure(plot_width=400, plot_height=400)\n",
    "p.circle('x', 'y', size=20, source=source)\n",
    "show(p)"
   ]
  },
  {
   "cell_type": "markdown",
   "metadata": {},
   "source": [
    "My notes (Stefan) <br>\n",
    "This is the same:"
   ]
  },
  {
   "cell_type": "code",
   "execution_count": 20,
   "metadata": {},
   "outputs": [
    {
     "data": {
      "text/html": [
       "\n",
       "  <div class=\"bk-root\" id=\"d3936544-ecdf-482d-b4eb-4e5b40c64c19\" data-root-id=\"2763\"></div>\n"
      ]
     },
     "metadata": {},
     "output_type": "display_data"
    },
    {
     "data": {
      "application/javascript": [
       "(function(root) {\n",
       "  function embed_document(root) {\n",
       "  const docs_json = {\"8f589b6c-0a0a-4ace-9e3b-e661c768ab93\":{\"defs\":[],\"roots\":{\"references\":[{\"attributes\":{\"below\":[{\"id\":\"2772\"}],\"center\":[{\"id\":\"2775\"},{\"id\":\"2779\"}],\"height\":400,\"left\":[{\"id\":\"2776\"}],\"renderers\":[{\"id\":\"2798\"}],\"title\":{\"id\":\"2914\"},\"toolbar\":{\"id\":\"2787\"},\"width\":400,\"x_range\":{\"id\":\"2764\"},\"x_scale\":{\"id\":\"2768\"},\"y_range\":{\"id\":\"2766\"},\"y_scale\":{\"id\":\"2770\"}},\"id\":\"2763\",\"subtype\":\"Figure\",\"type\":\"Plot\"},{\"attributes\":{},\"id\":\"2922\",\"type\":\"UnionRenderers\"},{\"attributes\":{\"coordinates\":null,\"data_source\":{\"id\":\"2794\"},\"glyph\":{\"id\":\"2795\"},\"group\":null,\"hover_glyph\":null,\"muted_glyph\":{\"id\":\"2797\"},\"nonselection_glyph\":{\"id\":\"2796\"},\"view\":{\"id\":\"2799\"}},\"id\":\"2798\",\"type\":\"GlyphRenderer\"},{\"attributes\":{},\"id\":\"2923\",\"type\":\"Selection\"},{\"attributes\":{\"fill_alpha\":{\"value\":0.2},\"fill_color\":{\"value\":\"#1f77b4\"},\"hatch_alpha\":{\"value\":0.2},\"line_alpha\":{\"value\":0.2},\"line_color\":{\"value\":\"#1f77b4\"},\"size\":{\"value\":20},\"x\":{\"field\":\"x\"},\"y\":{\"field\":\"y\"}},\"id\":\"2797\",\"type\":\"Circle\"},{\"attributes\":{},\"id\":\"2784\",\"type\":\"ResetTool\"},{\"attributes\":{\"bottom_units\":\"screen\",\"coordinates\":null,\"fill_alpha\":0.5,\"fill_color\":\"lightgrey\",\"group\":null,\"left_units\":\"screen\",\"level\":\"overlay\",\"line_alpha\":1.0,\"line_color\":\"black\",\"line_dash\":[4,4],\"line_width\":2,\"right_units\":\"screen\",\"syncable\":false,\"top_units\":\"screen\"},\"id\":\"2786\",\"type\":\"BoxAnnotation\"},{\"attributes\":{\"axis\":{\"id\":\"2776\"},\"coordinates\":null,\"dimension\":1,\"group\":null,\"ticker\":null},\"id\":\"2779\",\"type\":\"Grid\"},{\"attributes\":{},\"id\":\"2783\",\"type\":\"SaveTool\"},{\"attributes\":{},\"id\":\"2785\",\"type\":\"HelpTool\"},{\"attributes\":{},\"id\":\"2920\",\"type\":\"BasicTickFormatter\"},{\"attributes\":{},\"id\":\"2773\",\"type\":\"BasicTicker\"},{\"attributes\":{},\"id\":\"2780\",\"type\":\"PanTool\"},{\"attributes\":{\"tools\":[{\"id\":\"2780\"},{\"id\":\"2781\"},{\"id\":\"2782\"},{\"id\":\"2783\"},{\"id\":\"2784\"},{\"id\":\"2785\"}]},\"id\":\"2787\",\"type\":\"Toolbar\"},{\"attributes\":{\"fill_alpha\":{\"value\":0.1},\"fill_color\":{\"value\":\"#1f77b4\"},\"hatch_alpha\":{\"value\":0.1},\"line_alpha\":{\"value\":0.1},\"line_color\":{\"value\":\"#1f77b4\"},\"size\":{\"value\":20},\"x\":{\"field\":\"x\"},\"y\":{\"field\":\"y\"}},\"id\":\"2796\",\"type\":\"Circle\"},{\"attributes\":{\"source\":{\"id\":\"2794\"}},\"id\":\"2799\",\"type\":\"CDSView\"},{\"attributes\":{\"data\":{\"x\":[1,2,3,4,5],\"y\":[3,7,8,5,1]},\"selected\":{\"id\":\"2923\"},\"selection_policy\":{\"id\":\"2922\"}},\"id\":\"2794\",\"type\":\"ColumnDataSource\"},{\"attributes\":{},\"id\":\"2918\",\"type\":\"AllLabels\"},{\"attributes\":{\"coordinates\":null,\"formatter\":{\"id\":\"2917\"},\"group\":null,\"major_label_policy\":{\"id\":\"2918\"},\"ticker\":{\"id\":\"2777\"}},\"id\":\"2776\",\"type\":\"LinearAxis\"},{\"attributes\":{},\"id\":\"2917\",\"type\":\"BasicTickFormatter\"},{\"attributes\":{\"coordinates\":null,\"group\":null},\"id\":\"2914\",\"type\":\"Title\"},{\"attributes\":{},\"id\":\"2768\",\"type\":\"LinearScale\"},{\"attributes\":{\"overlay\":{\"id\":\"2786\"}},\"id\":\"2782\",\"type\":\"BoxZoomTool\"},{\"attributes\":{\"axis\":{\"id\":\"2772\"},\"coordinates\":null,\"group\":null,\"ticker\":null},\"id\":\"2775\",\"type\":\"Grid\"},{\"attributes\":{},\"id\":\"2781\",\"type\":\"WheelZoomTool\"},{\"attributes\":{},\"id\":\"2921\",\"type\":\"AllLabels\"},{\"attributes\":{\"fill_color\":{\"value\":\"#1f77b4\"},\"line_color\":{\"value\":\"#1f77b4\"},\"size\":{\"value\":20},\"x\":{\"field\":\"x\"},\"y\":{\"field\":\"y\"}},\"id\":\"2795\",\"type\":\"Circle\"},{\"attributes\":{\"coordinates\":null,\"formatter\":{\"id\":\"2920\"},\"group\":null,\"major_label_policy\":{\"id\":\"2921\"},\"ticker\":{\"id\":\"2773\"}},\"id\":\"2772\",\"type\":\"LinearAxis\"},{\"attributes\":{},\"id\":\"2764\",\"type\":\"DataRange1d\"},{\"attributes\":{},\"id\":\"2777\",\"type\":\"BasicTicker\"},{\"attributes\":{},\"id\":\"2770\",\"type\":\"LinearScale\"},{\"attributes\":{},\"id\":\"2766\",\"type\":\"DataRange1d\"}],\"root_ids\":[\"2763\"]},\"title\":\"Bokeh Application\",\"version\":\"2.4.3\"}};\n",
       "  const render_items = [{\"docid\":\"8f589b6c-0a0a-4ace-9e3b-e661c768ab93\",\"root_ids\":[\"2763\"],\"roots\":{\"2763\":\"d3936544-ecdf-482d-b4eb-4e5b40c64c19\"}}];\n",
       "  root.Bokeh.embed.embed_items_notebook(docs_json, render_items);\n",
       "  }\n",
       "  if (root.Bokeh !== undefined) {\n",
       "    embed_document(root);\n",
       "  } else {\n",
       "    let attempts = 0;\n",
       "    const timer = setInterval(function(root) {\n",
       "      if (root.Bokeh !== undefined) {\n",
       "        clearInterval(timer);\n",
       "        embed_document(root);\n",
       "      } else {\n",
       "        attempts++;\n",
       "        if (attempts > 100) {\n",
       "          clearInterval(timer);\n",
       "          console.log(\"Bokeh: ERROR: Unable to run BokehJS code because BokehJS library is missing\");\n",
       "        }\n",
       "      }\n",
       "    }, 10, root)\n",
       "  }\n",
       "})(window);"
      ],
      "application/vnd.bokehjs_exec.v0+json": ""
     },
     "metadata": {
      "application/vnd.bokehjs_exec.v0+json": {
       "id": "2763"
      }
     },
     "output_type": "display_data"
    }
   ],
   "source": [
    "x = [1, 2, 3, 4, 5]\n",
    "y = [3, 7, 8, 5, 1]\n",
    "\n",
    "p = figure(plot_width=400, plot_height=400)\n",
    "p.circle(x, y, size=20)\n",
    "show(p)"
   ]
  },
  {
   "cell_type": "markdown",
   "metadata": {},
   "source": [
    "## Creating with Pandas DataFrames\n",
    "\n",
    "It's also simple to create `ColumnDataSource` objects directly from Pandas data frames. To do this, just pass the data frame to  `ColumnDataSource` when you create it:"
   ]
  },
  {
   "cell_type": "code",
   "execution_count": 21,
   "metadata": {},
   "outputs": [
    {
     "data": {
      "text/html": [
       "\n",
       "  <div class=\"bk-root\" id=\"99deef18-66d2-4a14-876e-ba8238eae5d2\" data-root-id=\"2981\"></div>\n"
      ]
     },
     "metadata": {},
     "output_type": "display_data"
    },
    {
     "data": {
      "application/javascript": [
       "(function(root) {\n",
       "  function embed_document(root) {\n",
       "  const docs_json = {\"491b53ef-8197-406a-876b-118817e06d37\":{\"defs\":[],\"roots\":{\"references\":[{\"attributes\":{\"below\":[{\"id\":\"2990\"}],\"center\":[{\"id\":\"2993\"},{\"id\":\"2997\"}],\"height\":400,\"left\":[{\"id\":\"2994\"}],\"renderers\":[{\"id\":\"3016\"}],\"title\":{\"id\":\"3143\"},\"toolbar\":{\"id\":\"3005\"},\"width\":400,\"x_range\":{\"id\":\"2982\"},\"x_scale\":{\"id\":\"2986\"},\"y_range\":{\"id\":\"2984\"},\"y_scale\":{\"id\":\"2988\"}},\"id\":\"2981\",\"subtype\":\"Figure\",\"type\":\"Plot\"},{\"attributes\":{},\"id\":\"3151\",\"type\":\"UnionRenderers\"},{\"attributes\":{},\"id\":\"2982\",\"type\":\"DataRange1d\"},{\"attributes\":{},\"id\":\"3152\",\"type\":\"Selection\"},{\"attributes\":{\"coordinates\":null,\"data_source\":{\"id\":\"2980\"},\"glyph\":{\"id\":\"3013\"},\"group\":null,\"hover_glyph\":null,\"muted_glyph\":{\"id\":\"3015\"},\"nonselection_glyph\":{\"id\":\"3014\"},\"view\":{\"id\":\"3017\"}},\"id\":\"3016\",\"type\":\"GlyphRenderer\"},{\"attributes\":{\"axis\":{\"id\":\"2994\"},\"coordinates\":null,\"dimension\":1,\"group\":null,\"ticker\":null},\"id\":\"2997\",\"type\":\"Grid\"},{\"attributes\":{},\"id\":\"2984\",\"type\":\"DataRange1d\"},{\"attributes\":{\"overlay\":{\"id\":\"3004\"}},\"id\":\"3000\",\"type\":\"BoxZoomTool\"},{\"attributes\":{},\"id\":\"3150\",\"type\":\"AllLabels\"},{\"attributes\":{\"bottom_units\":\"screen\",\"coordinates\":null,\"fill_alpha\":0.5,\"fill_color\":\"lightgrey\",\"group\":null,\"left_units\":\"screen\",\"level\":\"overlay\",\"line_alpha\":1.0,\"line_color\":\"black\",\"line_dash\":[4,4],\"line_width\":2,\"right_units\":\"screen\",\"syncable\":false,\"top_units\":\"screen\"},\"id\":\"3004\",\"type\":\"BoxAnnotation\"},{\"attributes\":{},\"id\":\"3146\",\"type\":\"BasicTickFormatter\"},{\"attributes\":{},\"id\":\"2999\",\"type\":\"WheelZoomTool\"},{\"attributes\":{\"source\":{\"id\":\"2980\"}},\"id\":\"3017\",\"type\":\"CDSView\"},{\"attributes\":{\"tools\":[{\"id\":\"2998\"},{\"id\":\"2999\"},{\"id\":\"3000\"},{\"id\":\"3001\"},{\"id\":\"3002\"},{\"id\":\"3003\"}]},\"id\":\"3005\",\"type\":\"Toolbar\"},{\"attributes\":{\"fill_alpha\":{\"value\":0.1},\"fill_color\":{\"value\":\"#1f77b4\"},\"hatch_alpha\":{\"value\":0.1},\"line_alpha\":{\"value\":0.1},\"line_color\":{\"value\":\"#1f77b4\"},\"x\":{\"field\":\"petal_length\"},\"y\":{\"field\":\"petal_width\"}},\"id\":\"3014\",\"type\":\"Circle\"},{\"attributes\":{\"fill_alpha\":{\"value\":0.2},\"fill_color\":{\"value\":\"#1f77b4\"},\"hatch_alpha\":{\"value\":0.2},\"line_alpha\":{\"value\":0.2},\"line_color\":{\"value\":\"#1f77b4\"},\"x\":{\"field\":\"petal_length\"},\"y\":{\"field\":\"petal_width\"}},\"id\":\"3015\",\"type\":\"Circle\"},{\"attributes\":{},\"id\":\"2988\",\"type\":\"LinearScale\"},{\"attributes\":{\"coordinates\":null,\"formatter\":{\"id\":\"3146\"},\"group\":null,\"major_label_policy\":{\"id\":\"3147\"},\"ticker\":{\"id\":\"2995\"}},\"id\":\"2994\",\"type\":\"LinearAxis\"},{\"attributes\":{\"fill_color\":{\"value\":\"#1f77b4\"},\"line_color\":{\"value\":\"#1f77b4\"},\"x\":{\"field\":\"petal_length\"},\"y\":{\"field\":\"petal_width\"}},\"id\":\"3013\",\"type\":\"Circle\"},{\"attributes\":{},\"id\":\"3002\",\"type\":\"ResetTool\"},{\"attributes\":{},\"id\":\"3001\",\"type\":\"SaveTool\"},{\"attributes\":{},\"id\":\"2998\",\"type\":\"PanTool\"},{\"attributes\":{\"coordinates\":null,\"group\":null},\"id\":\"3143\",\"type\":\"Title\"},{\"attributes\":{},\"id\":\"3003\",\"type\":\"HelpTool\"},{\"attributes\":{},\"id\":\"2995\",\"type\":\"BasicTicker\"},{\"attributes\":{},\"id\":\"2991\",\"type\":\"BasicTicker\"},{\"attributes\":{},\"id\":\"3147\",\"type\":\"AllLabels\"},{\"attributes\":{\"coordinates\":null,\"formatter\":{\"id\":\"3149\"},\"group\":null,\"major_label_policy\":{\"id\":\"3150\"},\"ticker\":{\"id\":\"2991\"}},\"id\":\"2990\",\"type\":\"LinearAxis\"},{\"attributes\":{},\"id\":\"2986\",\"type\":\"LinearScale\"},{\"attributes\":{\"data\":{\"index\":[0,1,2,3,4,5,6,7,8,9,10,11,12,13,14,15,16,17,18,19,20,21,22,23,24,25,26,27,28,29,30,31,32,33,34,35,36,37,38,39,40,41,42,43,44,45,46,47,48,49,50,51,52,53,54,55,56,57,58,59,60,61,62,63,64,65,66,67,68,69,70,71,72,73,74,75,76,77,78,79,80,81,82,83,84,85,86,87,88,89,90,91,92,93,94,95,96,97,98,99,100,101,102,103,104,105,106,107,108,109,110,111,112,113,114,115,116,117,118,119,120,121,122,123,124,125,126,127,128,129,130,131,132,133,134,135,136,137,138,139,140,141,142,143,144,145,146,147,148,149],\"petal_length\":{\"__ndarray__\":\"ZmZmZmZm9j9mZmZmZmb2P83MzMzMzPQ/AAAAAAAA+D9mZmZmZmb2PzMzMzMzM/s/ZmZmZmZm9j8AAAAAAAD4P2ZmZmZmZvY/AAAAAAAA+D8AAAAAAAD4P5qZmZmZmfk/ZmZmZmZm9j+amZmZmZnxPzMzMzMzM/M/AAAAAAAA+D/NzMzMzMz0P2ZmZmZmZvY/MzMzMzMz+z8AAAAAAAD4PzMzMzMzM/s/AAAAAAAA+D8AAAAAAADwPzMzMzMzM/s/ZmZmZmZm/j+amZmZmZn5P5qZmZmZmfk/AAAAAAAA+D9mZmZmZmb2P5qZmZmZmfk/mpmZmZmZ+T8AAAAAAAD4PwAAAAAAAPg/ZmZmZmZm9j8AAAAAAAD4PzMzMzMzM/M/zczMzMzM9D9mZmZmZmb2P83MzMzMzPQ/AAAAAAAA+D/NzMzMzMz0P83MzMzMzPQ/zczMzMzM9D+amZmZmZn5P2ZmZmZmZv4/ZmZmZmZm9j+amZmZmZn5P2ZmZmZmZvY/AAAAAAAA+D9mZmZmZmb2P83MzMzMzBJAAAAAAAAAEkCamZmZmZkTQAAAAAAAABBAZmZmZmZmEkAAAAAAAAASQM3MzMzMzBJAZmZmZmZmCkBmZmZmZmYSQDMzMzMzMw9AAAAAAAAADEDNzMzMzMwQQAAAAAAAABBAzczMzMzMEkDNzMzMzMwMQJqZmZmZmRFAAAAAAAAAEkBmZmZmZmYQQAAAAAAAABJAMzMzMzMzD0AzMzMzMzMTQAAAAAAAABBAmpmZmZmZE0DNzMzMzMwSQDMzMzMzMxFAmpmZmZmZEUAzMzMzMzMTQAAAAAAAABRAAAAAAAAAEkAAAAAAAAAMQGZmZmZmZg5AmpmZmZmZDUAzMzMzMzMPQGZmZmZmZhRAAAAAAAAAEkAAAAAAAAASQM3MzMzMzBJAmpmZmZmZEUBmZmZmZmYQQAAAAAAAABBAmpmZmZmZEUBmZmZmZmYSQAAAAAAAABBAZmZmZmZmCkDNzMzMzMwQQM3MzMzMzBBAzczMzMzMEEAzMzMzMzMRQAAAAAAAAAhAZmZmZmZmEEAAAAAAAAAYQGZmZmZmZhRAmpmZmZmZF0BmZmZmZmYWQDMzMzMzMxdAZmZmZmZmGkAAAAAAAAASQDMzMzMzMxlAMzMzMzMzF0BmZmZmZmYYQGZmZmZmZhRAMzMzMzMzFUAAAAAAAAAWQAAAAAAAABRAZmZmZmZmFEAzMzMzMzMVQAAAAAAAABZAzczMzMzMGkCamZmZmZkbQAAAAAAAABRAzczMzMzMFkCamZmZmZkTQM3MzMzMzBpAmpmZmZmZE0DNzMzMzMwWQAAAAAAAABhAMzMzMzMzE0CamZmZmZkTQGZmZmZmZhZAMzMzMzMzF0BmZmZmZmYYQJqZmZmZmRlAZmZmZmZmFkBmZmZmZmYUQGZmZmZmZhZAZmZmZmZmGEBmZmZmZmYWQAAAAAAAABZAMzMzMzMzE0CamZmZmZkVQGZmZmZmZhZAZmZmZmZmFEBmZmZmZmYUQJqZmZmZmRdAzczMzMzMFkDNzMzMzMwUQAAAAAAAABRAzczMzMzMFECamZmZmZkVQGZmZmZmZhRA\",\"dtype\":\"float64\",\"order\":\"little\",\"shape\":[150]},\"petal_width\":{\"__ndarray__\":\"mpmZmZmZyT+amZmZmZnJP5qZmZmZmck/mpmZmZmZyT+amZmZmZnJP5qZmZmZmdk/MzMzMzMz0z+amZmZmZnJP5qZmZmZmck/mpmZmZmZuT+amZmZmZnJP5qZmZmZmck/mpmZmZmZuT+amZmZmZm5P5qZmZmZmck/mpmZmZmZ2T+amZmZmZnZPzMzMzMzM9M/MzMzMzMz0z8zMzMzMzPTP5qZmZmZmck/mpmZmZmZ2T+amZmZmZnJPwAAAAAAAOA/mpmZmZmZyT+amZmZmZnJP5qZmZmZmdk/mpmZmZmZyT+amZmZmZnJP5qZmZmZmck/mpmZmZmZyT+amZmZmZnZP5qZmZmZmbk/mpmZmZmZyT+amZmZmZnJP5qZmZmZmck/mpmZmZmZyT+amZmZmZm5P5qZmZmZmck/mpmZmZmZyT8zMzMzMzPTPzMzMzMzM9M/mpmZmZmZyT8zMzMzMzPjP5qZmZmZmdk/MzMzMzMz0z+amZmZmZnJP5qZmZmZmck/mpmZmZmZyT+amZmZmZnJP2ZmZmZmZvY/AAAAAAAA+D8AAAAAAAD4P83MzMzMzPQ/AAAAAAAA+D/NzMzMzMz0P5qZmZmZmfk/AAAAAAAA8D/NzMzMzMz0P2ZmZmZmZvY/AAAAAAAA8D8AAAAAAAD4PwAAAAAAAPA/ZmZmZmZm9j/NzMzMzMz0P2ZmZmZmZvY/AAAAAAAA+D8AAAAAAADwPwAAAAAAAPg/mpmZmZmZ8T/NzMzMzMz8P83MzMzMzPQ/AAAAAAAA+D8zMzMzMzPzP83MzMzMzPQ/ZmZmZmZm9j9mZmZmZmb2PzMzMzMzM/s/AAAAAAAA+D8AAAAAAADwP5qZmZmZmfE/AAAAAAAA8D8zMzMzMzPzP5qZmZmZmfk/AAAAAAAA+D+amZmZmZn5PwAAAAAAAPg/zczMzMzM9D/NzMzMzMz0P83MzMzMzPQ/MzMzMzMz8z9mZmZmZmb2PzMzMzMzM/M/AAAAAAAA8D/NzMzMzMz0PzMzMzMzM/M/zczMzMzM9D/NzMzMzMz0P5qZmZmZmfE/zczMzMzM9D8AAAAAAAAEQGZmZmZmZv4/zczMzMzMAEDNzMzMzMz8P5qZmZmZmQFAzczMzMzMAEAzMzMzMzP7P83MzMzMzPw/zczMzMzM/D8AAAAAAAAEQAAAAAAAAABAZmZmZmZm/j/NzMzMzMwAQAAAAAAAAABAMzMzMzMzA0BmZmZmZmYCQM3MzMzMzPw/mpmZmZmZAUBmZmZmZmYCQAAAAAAAAPg/ZmZmZmZmAkAAAAAAAAAAQAAAAAAAAABAzczMzMzM/D/NzMzMzMwAQM3MzMzMzPw/zczMzMzM/D/NzMzMzMz8P83MzMzMzABAmpmZmZmZ+T9mZmZmZmb+PwAAAAAAAABAmpmZmZmZAUAAAAAAAAD4P2ZmZmZmZvY/ZmZmZmZmAkAzMzMzMzMDQM3MzMzMzPw/zczMzMzM/D/NzMzMzMwAQDMzMzMzMwNAZmZmZmZmAkBmZmZmZmb+P2ZmZmZmZgJAAAAAAAAABEBmZmZmZmYCQGZmZmZmZv4/AAAAAAAAAEBmZmZmZmYCQM3MzMzMzPw/\",\"dtype\":\"float64\",\"order\":\"little\",\"shape\":[150]},\"sepal_length\":{\"__ndarray__\":\"ZmZmZmZmFECamZmZmZkTQM3MzMzMzBJAZmZmZmZmEkAAAAAAAAAUQJqZmZmZmRVAZmZmZmZmEkAAAAAAAAAUQJqZmZmZmRFAmpmZmZmZE0CamZmZmZkVQDMzMzMzMxNAMzMzMzMzE0AzMzMzMzMRQDMzMzMzMxdAzczMzMzMFkCamZmZmZkVQGZmZmZmZhRAzczMzMzMFkBmZmZmZmYUQJqZmZmZmRVAZmZmZmZmFEBmZmZmZmYSQGZmZmZmZhRAMzMzMzMzE0AAAAAAAAAUQAAAAAAAABRAzczMzMzMFEDNzMzMzMwUQM3MzMzMzBJAMzMzMzMzE0CamZmZmZkVQM3MzMzMzBRAAAAAAAAAFkCamZmZmZkTQAAAAAAAABRAAAAAAAAAFkCamZmZmZkTQJqZmZmZmRFAZmZmZmZmFEAAAAAAAAAUQAAAAAAAABJAmpmZmZmZEUAAAAAAAAAUQGZmZmZmZhRAMzMzMzMzE0BmZmZmZmYUQGZmZmZmZhJAMzMzMzMzFUAAAAAAAAAUQAAAAAAAABxAmpmZmZmZGUCamZmZmZkbQAAAAAAAABZAAAAAAAAAGkDNzMzMzMwWQDMzMzMzMxlAmpmZmZmZE0BmZmZmZmYaQM3MzMzMzBRAAAAAAAAAFECamZmZmZkXQAAAAAAAABhAZmZmZmZmGEBmZmZmZmYWQM3MzMzMzBpAZmZmZmZmFkAzMzMzMzMXQM3MzMzMzBhAZmZmZmZmFkCamZmZmZkXQGZmZmZmZhhAMzMzMzMzGUBmZmZmZmYYQJqZmZmZmRlAZmZmZmZmGkAzMzMzMzMbQM3MzMzMzBpAAAAAAAAAGEDNzMzMzMwWQAAAAAAAABZAAAAAAAAAFkAzMzMzMzMXQAAAAAAAABhAmpmZmZmZFUAAAAAAAAAYQM3MzMzMzBpAMzMzMzMzGUBmZmZmZmYWQAAAAAAAABZAAAAAAAAAFkBmZmZmZmYYQDMzMzMzMxdAAAAAAAAAFEBmZmZmZmYWQM3MzMzMzBZAzczMzMzMFkDNzMzMzMwYQGZmZmZmZhRAzczMzMzMFkAzMzMzMzMZQDMzMzMzMxdAZmZmZmZmHEAzMzMzMzMZQAAAAAAAABpAZmZmZmZmHkCamZmZmZkTQDMzMzMzMx1AzczMzMzMGkDNzMzMzMwcQAAAAAAAABpAmpmZmZmZGUAzMzMzMzMbQM3MzMzMzBZAMzMzMzMzF0CamZmZmZkZQAAAAAAAABpAzczMzMzMHkDNzMzMzMweQAAAAAAAABhAmpmZmZmZG0BmZmZmZmYWQM3MzMzMzB5AMzMzMzMzGUDNzMzMzMwaQM3MzMzMzBxAzczMzMzMGEBmZmZmZmYYQJqZmZmZmRlAzczMzMzMHECamZmZmZkdQJqZmZmZmR9AmpmZmZmZGUAzMzMzMzMZQGZmZmZmZhhAzczMzMzMHkAzMzMzMzMZQJqZmZmZmRlAAAAAAAAAGECamZmZmZkbQM3MzMzMzBpAmpmZmZmZG0AzMzMzMzMXQDMzMzMzMxtAzczMzMzMGkDNzMzMzMwaQDMzMzMzMxlAAAAAAAAAGkDNzMzMzMwYQJqZmZmZmRdA\",\"dtype\":\"float64\",\"order\":\"little\",\"shape\":[150]},\"sepal_width\":{\"__ndarray__\":\"AAAAAAAADEAAAAAAAAAIQJqZmZmZmQlAzczMzMzMCEDNzMzMzMwMQDMzMzMzMw9AMzMzMzMzC0AzMzMzMzMLQDMzMzMzMwdAzczMzMzMCECamZmZmZkNQDMzMzMzMwtAAAAAAAAACEAAAAAAAAAIQAAAAAAAABBAmpmZmZmZEUAzMzMzMzMPQAAAAAAAAAxAZmZmZmZmDkBmZmZmZmYOQDMzMzMzMwtAmpmZmZmZDUDNzMzMzMwMQGZmZmZmZgpAMzMzMzMzC0AAAAAAAAAIQDMzMzMzMwtAAAAAAAAADEAzMzMzMzMLQJqZmZmZmQlAzczMzMzMCEAzMzMzMzMLQGZmZmZmZhBAzczMzMzMEEDNzMzMzMwIQJqZmZmZmQlAAAAAAAAADEDNzMzMzMwMQAAAAAAAAAhAMzMzMzMzC0AAAAAAAAAMQGZmZmZmZgJAmpmZmZmZCUAAAAAAAAAMQGZmZmZmZg5AAAAAAAAACEBmZmZmZmYOQJqZmZmZmQlAmpmZmZmZDUBmZmZmZmYKQJqZmZmZmQlAmpmZmZmZCUDNzMzMzMwIQGZmZmZmZgJAZmZmZmZmBkBmZmZmZmYGQGZmZmZmZgpAMzMzMzMzA0AzMzMzMzMHQJqZmZmZmQVAAAAAAAAAAEAAAAAAAAAIQJqZmZmZmQFAMzMzMzMzB0AzMzMzMzMHQM3MzMzMzAhAAAAAAAAACECamZmZmZkFQJqZmZmZmQFAAAAAAAAABECamZmZmZkJQGZmZmZmZgZAAAAAAAAABEBmZmZmZmYGQDMzMzMzMwdAAAAAAAAACEBmZmZmZmYGQAAAAAAAAAhAMzMzMzMzB0DNzMzMzMwEQDMzMzMzMwNAMzMzMzMzA0CamZmZmZkFQJqZmZmZmQVAAAAAAAAACEAzMzMzMzMLQM3MzMzMzAhAZmZmZmZmAkAAAAAAAAAIQAAAAAAAAARAzczMzMzMBEAAAAAAAAAIQM3MzMzMzARAZmZmZmZmAkCamZmZmZkFQAAAAAAAAAhAMzMzMzMzB0AzMzMzMzMHQAAAAAAAAARAZmZmZmZmBkBmZmZmZmYKQJqZmZmZmQVAAAAAAAAACEAzMzMzMzMHQAAAAAAAAAhAAAAAAAAACEAAAAAAAAAEQDMzMzMzMwdAAAAAAAAABEDNzMzMzMwMQJqZmZmZmQlAmpmZmZmZBUAAAAAAAAAIQAAAAAAAAARAZmZmZmZmBkCamZmZmZkJQAAAAAAAAAhAZmZmZmZmDkDNzMzMzMwEQJqZmZmZmQFAmpmZmZmZCUBmZmZmZmYGQGZmZmZmZgZAmpmZmZmZBUBmZmZmZmYKQJqZmZmZmQlAZmZmZmZmBkAAAAAAAAAIQGZmZmZmZgZAAAAAAAAACEBmZmZmZmYGQGZmZmZmZg5AZmZmZmZmBkBmZmZmZmYGQM3MzMzMzARAAAAAAAAACEAzMzMzMzMLQM3MzMzMzAhAAAAAAAAACEDNzMzMzMwIQM3MzMzMzAhAzczMzMzMCECamZmZmZkFQJqZmZmZmQlAZmZmZmZmCkAAAAAAAAAIQAAAAAAAAARAAAAAAAAACEAzMzMzMzMLQAAAAAAAAAhA\",\"dtype\":\"float64\",\"order\":\"little\",\"shape\":[150]},\"species\":[\"setosa\",\"setosa\",\"setosa\",\"setosa\",\"setosa\",\"setosa\",\"setosa\",\"setosa\",\"setosa\",\"setosa\",\"setosa\",\"setosa\",\"setosa\",\"setosa\",\"setosa\",\"setosa\",\"setosa\",\"setosa\",\"setosa\",\"setosa\",\"setosa\",\"setosa\",\"setosa\",\"setosa\",\"setosa\",\"setosa\",\"setosa\",\"setosa\",\"setosa\",\"setosa\",\"setosa\",\"setosa\",\"setosa\",\"setosa\",\"setosa\",\"setosa\",\"setosa\",\"setosa\",\"setosa\",\"setosa\",\"setosa\",\"setosa\",\"setosa\",\"setosa\",\"setosa\",\"setosa\",\"setosa\",\"setosa\",\"setosa\",\"setosa\",\"versicolor\",\"versicolor\",\"versicolor\",\"versicolor\",\"versicolor\",\"versicolor\",\"versicolor\",\"versicolor\",\"versicolor\",\"versicolor\",\"versicolor\",\"versicolor\",\"versicolor\",\"versicolor\",\"versicolor\",\"versicolor\",\"versicolor\",\"versicolor\",\"versicolor\",\"versicolor\",\"versicolor\",\"versicolor\",\"versicolor\",\"versicolor\",\"versicolor\",\"versicolor\",\"versicolor\",\"versicolor\",\"versicolor\",\"versicolor\",\"versicolor\",\"versicolor\",\"versicolor\",\"versicolor\",\"versicolor\",\"versicolor\",\"versicolor\",\"versicolor\",\"versicolor\",\"versicolor\",\"versicolor\",\"versicolor\",\"versicolor\",\"versicolor\",\"versicolor\",\"versicolor\",\"versicolor\",\"versicolor\",\"versicolor\",\"versicolor\",\"virginica\",\"virginica\",\"virginica\",\"virginica\",\"virginica\",\"virginica\",\"virginica\",\"virginica\",\"virginica\",\"virginica\",\"virginica\",\"virginica\",\"virginica\",\"virginica\",\"virginica\",\"virginica\",\"virginica\",\"virginica\",\"virginica\",\"virginica\",\"virginica\",\"virginica\",\"virginica\",\"virginica\",\"virginica\",\"virginica\",\"virginica\",\"virginica\",\"virginica\",\"virginica\",\"virginica\",\"virginica\",\"virginica\",\"virginica\",\"virginica\",\"virginica\",\"virginica\",\"virginica\",\"virginica\",\"virginica\",\"virginica\",\"virginica\",\"virginica\",\"virginica\",\"virginica\",\"virginica\",\"virginica\",\"virginica\",\"virginica\",\"virginica\"]},\"selected\":{\"id\":\"3152\"},\"selection_policy\":{\"id\":\"3151\"}},\"id\":\"2980\",\"type\":\"ColumnDataSource\"},{\"attributes\":{\"axis\":{\"id\":\"2990\"},\"coordinates\":null,\"group\":null,\"ticker\":null},\"id\":\"2993\",\"type\":\"Grid\"},{\"attributes\":{},\"id\":\"3149\",\"type\":\"BasicTickFormatter\"}],\"root_ids\":[\"2981\"]},\"title\":\"Bokeh Application\",\"version\":\"2.4.3\"}};\n",
       "  const render_items = [{\"docid\":\"491b53ef-8197-406a-876b-118817e06d37\",\"root_ids\":[\"2981\"],\"roots\":{\"2981\":\"99deef18-66d2-4a14-876e-ba8238eae5d2\"}}];\n",
       "  root.Bokeh.embed.embed_items_notebook(docs_json, render_items);\n",
       "  }\n",
       "  if (root.Bokeh !== undefined) {\n",
       "    embed_document(root);\n",
       "  } else {\n",
       "    let attempts = 0;\n",
       "    const timer = setInterval(function(root) {\n",
       "      if (root.Bokeh !== undefined) {\n",
       "        clearInterval(timer);\n",
       "        embed_document(root);\n",
       "      } else {\n",
       "        attempts++;\n",
       "        if (attempts > 100) {\n",
       "          clearInterval(timer);\n",
       "          console.log(\"Bokeh: ERROR: Unable to run BokehJS code because BokehJS library is missing\");\n",
       "        }\n",
       "      }\n",
       "    }, 10, root)\n",
       "  }\n",
       "})(window);"
      ],
      "application/vnd.bokehjs_exec.v0+json": ""
     },
     "metadata": {
      "application/vnd.bokehjs_exec.v0+json": {
       "id": "2981"
      }
     },
     "output_type": "display_data"
    }
   ],
   "source": [
    "from bokeh.sampledata.iris import flowers as df\n",
    "\n",
    "source = ColumnDataSource(df)\n",
    "\n",
    "p = figure(plot_width=400, plot_height=400)\n",
    "p.circle('petal_length', 'petal_width', source=source)\n",
    "show(p)"
   ]
  },
  {
   "cell_type": "markdown",
   "metadata": {},
   "source": [
    "## Automatic Conversion\n",
    "\n",
    "If you do not need to share data sources, it may be convenient to pass dicts, Pandas `DataFrame` or `GroupBy` objects directly to glhyph methods, without explicitly creating a `ColumnDataSource`. In this case, a `ColumnDataSource` will be created automatically."
   ]
  },
  {
   "cell_type": "code",
   "execution_count": 22,
   "metadata": {},
   "outputs": [
    {
     "data": {
      "text/html": [
       "\n",
       "  <div class=\"bk-root\" id=\"14c7e895-9314-4f34-a746-501bbf29ca7b\" data-root-id=\"3209\"></div>\n"
      ]
     },
     "metadata": {},
     "output_type": "display_data"
    },
    {
     "data": {
      "application/javascript": [
       "(function(root) {\n",
       "  function embed_document(root) {\n",
       "  const docs_json = {\"6dc0ece8-bc38-4615-9f94-52df67929bb5\":{\"defs\":[],\"roots\":{\"references\":[{\"attributes\":{\"below\":[{\"id\":\"3218\"}],\"center\":[{\"id\":\"3221\"},{\"id\":\"3225\"}],\"height\":400,\"left\":[{\"id\":\"3222\"}],\"renderers\":[{\"id\":\"3245\"}],\"title\":{\"id\":\"3383\"},\"toolbar\":{\"id\":\"3233\"},\"width\":400,\"x_range\":{\"id\":\"3210\"},\"x_scale\":{\"id\":\"3214\"},\"y_range\":{\"id\":\"3212\"},\"y_scale\":{\"id\":\"3216\"}},\"id\":\"3209\",\"subtype\":\"Figure\",\"type\":\"Plot\"},{\"attributes\":{\"overlay\":{\"id\":\"3232\"}},\"id\":\"3228\",\"type\":\"BoxZoomTool\"},{\"attributes\":{},\"id\":\"3229\",\"type\":\"SaveTool\"},{\"attributes\":{\"coordinates\":null,\"group\":null},\"id\":\"3383\",\"type\":\"Title\"},{\"attributes\":{\"fill_alpha\":{\"value\":0.2},\"fill_color\":{\"value\":\"green\"},\"hatch_alpha\":{\"value\":0.2},\"hatch_color\":{\"value\":\"green\"},\"line_alpha\":{\"value\":0.2},\"line_color\":{\"value\":\"green\"},\"x\":{\"field\":\"petal_length\"},\"y\":{\"field\":\"petal_width\"}},\"id\":\"3244\",\"type\":\"Circle\"},{\"attributes\":{\"source\":{\"id\":\"3240\"}},\"id\":\"3246\",\"type\":\"CDSView\"},{\"attributes\":{},\"id\":\"3389\",\"type\":\"BasicTickFormatter\"},{\"attributes\":{},\"id\":\"3210\",\"type\":\"DataRange1d\"},{\"attributes\":{\"coordinates\":null,\"data_source\":{\"id\":\"3240\"},\"glyph\":{\"id\":\"3242\"},\"group\":null,\"hover_glyph\":null,\"muted_glyph\":{\"id\":\"3244\"},\"nonselection_glyph\":{\"id\":\"3243\"},\"view\":{\"id\":\"3246\"}},\"id\":\"3245\",\"type\":\"GlyphRenderer\"},{\"attributes\":{},\"id\":\"3219\",\"type\":\"BasicTicker\"},{\"attributes\":{},\"id\":\"3386\",\"type\":\"BasicTickFormatter\"},{\"attributes\":{\"bottom_units\":\"screen\",\"coordinates\":null,\"fill_alpha\":0.5,\"fill_color\":\"lightgrey\",\"group\":null,\"left_units\":\"screen\",\"level\":\"overlay\",\"line_alpha\":1.0,\"line_color\":\"black\",\"line_dash\":[4,4],\"line_width\":2,\"right_units\":\"screen\",\"syncable\":false,\"top_units\":\"screen\"},\"id\":\"3232\",\"type\":\"BoxAnnotation\"},{\"attributes\":{},\"id\":\"3387\",\"type\":\"AllLabels\"},{\"attributes\":{\"axis\":{\"id\":\"3218\"},\"coordinates\":null,\"group\":null,\"ticker\":null},\"id\":\"3221\",\"type\":\"Grid\"},{\"attributes\":{\"tools\":[{\"id\":\"3226\"},{\"id\":\"3227\"},{\"id\":\"3228\"},{\"id\":\"3229\"},{\"id\":\"3230\"},{\"id\":\"3231\"}]},\"id\":\"3233\",\"type\":\"Toolbar\"},{\"attributes\":{},\"id\":\"3226\",\"type\":\"PanTool\"},{\"attributes\":{},\"id\":\"3212\",\"type\":\"DataRange1d\"},{\"attributes\":{},\"id\":\"3231\",\"type\":\"HelpTool\"},{\"attributes\":{\"fill_alpha\":{\"value\":0.1},\"fill_color\":{\"value\":\"green\"},\"hatch_alpha\":{\"value\":0.1},\"hatch_color\":{\"value\":\"green\"},\"line_alpha\":{\"value\":0.1},\"line_color\":{\"value\":\"green\"},\"x\":{\"field\":\"petal_length\"},\"y\":{\"field\":\"petal_width\"}},\"id\":\"3243\",\"type\":\"Circle\"},{\"attributes\":{},\"id\":\"3391\",\"type\":\"UnionRenderers\"},{\"attributes\":{\"axis\":{\"id\":\"3222\"},\"coordinates\":null,\"dimension\":1,\"group\":null,\"ticker\":null},\"id\":\"3225\",\"type\":\"Grid\"},{\"attributes\":{\"coordinates\":null,\"formatter\":{\"id\":\"3389\"},\"group\":null,\"major_label_policy\":{\"id\":\"3390\"},\"ticker\":{\"id\":\"3219\"}},\"id\":\"3218\",\"type\":\"LinearAxis\"},{\"attributes\":{\"data\":{\"index\":[0,1,2,3,4,5,6,7,8,9,10,11,12,13,14,15,16,17,18,19,20,21,22,23,24,25,26,27,28,29,30,31,32,33,34,35,36,37,38,39,40,41,42,43,44,45,46,47,48,49,50,51,52,53,54,55,56,57,58,59,60,61,62,63,64,65,66,67,68,69,70,71,72,73,74,75,76,77,78,79,80,81,82,83,84,85,86,87,88,89,90,91,92,93,94,95,96,97,98,99,100,101,102,103,104,105,106,107,108,109,110,111,112,113,114,115,116,117,118,119,120,121,122,123,124,125,126,127,128,129,130,131,132,133,134,135,136,137,138,139,140,141,142,143,144,145,146,147,148,149],\"petal_length\":{\"__ndarray__\":\"ZmZmZmZm9j9mZmZmZmb2P83MzMzMzPQ/AAAAAAAA+D9mZmZmZmb2PzMzMzMzM/s/ZmZmZmZm9j8AAAAAAAD4P2ZmZmZmZvY/AAAAAAAA+D8AAAAAAAD4P5qZmZmZmfk/ZmZmZmZm9j+amZmZmZnxPzMzMzMzM/M/AAAAAAAA+D/NzMzMzMz0P2ZmZmZmZvY/MzMzMzMz+z8AAAAAAAD4PzMzMzMzM/s/AAAAAAAA+D8AAAAAAADwPzMzMzMzM/s/ZmZmZmZm/j+amZmZmZn5P5qZmZmZmfk/AAAAAAAA+D9mZmZmZmb2P5qZmZmZmfk/mpmZmZmZ+T8AAAAAAAD4PwAAAAAAAPg/ZmZmZmZm9j8AAAAAAAD4PzMzMzMzM/M/zczMzMzM9D9mZmZmZmb2P83MzMzMzPQ/AAAAAAAA+D/NzMzMzMz0P83MzMzMzPQ/zczMzMzM9D+amZmZmZn5P2ZmZmZmZv4/ZmZmZmZm9j+amZmZmZn5P2ZmZmZmZvY/AAAAAAAA+D9mZmZmZmb2P83MzMzMzBJAAAAAAAAAEkCamZmZmZkTQAAAAAAAABBAZmZmZmZmEkAAAAAAAAASQM3MzMzMzBJAZmZmZmZmCkBmZmZmZmYSQDMzMzMzMw9AAAAAAAAADEDNzMzMzMwQQAAAAAAAABBAzczMzMzMEkDNzMzMzMwMQJqZmZmZmRFAAAAAAAAAEkBmZmZmZmYQQAAAAAAAABJAMzMzMzMzD0AzMzMzMzMTQAAAAAAAABBAmpmZmZmZE0DNzMzMzMwSQDMzMzMzMxFAmpmZmZmZEUAzMzMzMzMTQAAAAAAAABRAAAAAAAAAEkAAAAAAAAAMQGZmZmZmZg5AmpmZmZmZDUAzMzMzMzMPQGZmZmZmZhRAAAAAAAAAEkAAAAAAAAASQM3MzMzMzBJAmpmZmZmZEUBmZmZmZmYQQAAAAAAAABBAmpmZmZmZEUBmZmZmZmYSQAAAAAAAABBAZmZmZmZmCkDNzMzMzMwQQM3MzMzMzBBAzczMzMzMEEAzMzMzMzMRQAAAAAAAAAhAZmZmZmZmEEAAAAAAAAAYQGZmZmZmZhRAmpmZmZmZF0BmZmZmZmYWQDMzMzMzMxdAZmZmZmZmGkAAAAAAAAASQDMzMzMzMxlAMzMzMzMzF0BmZmZmZmYYQGZmZmZmZhRAMzMzMzMzFUAAAAAAAAAWQAAAAAAAABRAZmZmZmZmFEAzMzMzMzMVQAAAAAAAABZAzczMzMzMGkCamZmZmZkbQAAAAAAAABRAzczMzMzMFkCamZmZmZkTQM3MzMzMzBpAmpmZmZmZE0DNzMzMzMwWQAAAAAAAABhAMzMzMzMzE0CamZmZmZkTQGZmZmZmZhZAMzMzMzMzF0BmZmZmZmYYQJqZmZmZmRlAZmZmZmZmFkBmZmZmZmYUQGZmZmZmZhZAZmZmZmZmGEBmZmZmZmYWQAAAAAAAABZAMzMzMzMzE0CamZmZmZkVQGZmZmZmZhZAZmZmZmZmFEBmZmZmZmYUQJqZmZmZmRdAzczMzMzMFkDNzMzMzMwUQAAAAAAAABRAzczMzMzMFECamZmZmZkVQGZmZmZmZhRA\",\"dtype\":\"float64\",\"order\":\"little\",\"shape\":[150]},\"petal_width\":{\"__ndarray__\":\"mpmZmZmZyT+amZmZmZnJP5qZmZmZmck/mpmZmZmZyT+amZmZmZnJP5qZmZmZmdk/MzMzMzMz0z+amZmZmZnJP5qZmZmZmck/mpmZmZmZuT+amZmZmZnJP5qZmZmZmck/mpmZmZmZuT+amZmZmZm5P5qZmZmZmck/mpmZmZmZ2T+amZmZmZnZPzMzMzMzM9M/MzMzMzMz0z8zMzMzMzPTP5qZmZmZmck/mpmZmZmZ2T+amZmZmZnJPwAAAAAAAOA/mpmZmZmZyT+amZmZmZnJP5qZmZmZmdk/mpmZmZmZyT+amZmZmZnJP5qZmZmZmck/mpmZmZmZyT+amZmZmZnZP5qZmZmZmbk/mpmZmZmZyT+amZmZmZnJP5qZmZmZmck/mpmZmZmZyT+amZmZmZm5P5qZmZmZmck/mpmZmZmZyT8zMzMzMzPTPzMzMzMzM9M/mpmZmZmZyT8zMzMzMzPjP5qZmZmZmdk/MzMzMzMz0z+amZmZmZnJP5qZmZmZmck/mpmZmZmZyT+amZmZmZnJP2ZmZmZmZvY/AAAAAAAA+D8AAAAAAAD4P83MzMzMzPQ/AAAAAAAA+D/NzMzMzMz0P5qZmZmZmfk/AAAAAAAA8D/NzMzMzMz0P2ZmZmZmZvY/AAAAAAAA8D8AAAAAAAD4PwAAAAAAAPA/ZmZmZmZm9j/NzMzMzMz0P2ZmZmZmZvY/AAAAAAAA+D8AAAAAAADwPwAAAAAAAPg/mpmZmZmZ8T/NzMzMzMz8P83MzMzMzPQ/AAAAAAAA+D8zMzMzMzPzP83MzMzMzPQ/ZmZmZmZm9j9mZmZmZmb2PzMzMzMzM/s/AAAAAAAA+D8AAAAAAADwP5qZmZmZmfE/AAAAAAAA8D8zMzMzMzPzP5qZmZmZmfk/AAAAAAAA+D+amZmZmZn5PwAAAAAAAPg/zczMzMzM9D/NzMzMzMz0P83MzMzMzPQ/MzMzMzMz8z9mZmZmZmb2PzMzMzMzM/M/AAAAAAAA8D/NzMzMzMz0PzMzMzMzM/M/zczMzMzM9D/NzMzMzMz0P5qZmZmZmfE/zczMzMzM9D8AAAAAAAAEQGZmZmZmZv4/zczMzMzMAEDNzMzMzMz8P5qZmZmZmQFAzczMzMzMAEAzMzMzMzP7P83MzMzMzPw/zczMzMzM/D8AAAAAAAAEQAAAAAAAAABAZmZmZmZm/j/NzMzMzMwAQAAAAAAAAABAMzMzMzMzA0BmZmZmZmYCQM3MzMzMzPw/mpmZmZmZAUBmZmZmZmYCQAAAAAAAAPg/ZmZmZmZmAkAAAAAAAAAAQAAAAAAAAABAzczMzMzM/D/NzMzMzMwAQM3MzMzMzPw/zczMzMzM/D/NzMzMzMz8P83MzMzMzABAmpmZmZmZ+T9mZmZmZmb+PwAAAAAAAABAmpmZmZmZAUAAAAAAAAD4P2ZmZmZmZvY/ZmZmZmZmAkAzMzMzMzMDQM3MzMzMzPw/zczMzMzM/D/NzMzMzMwAQDMzMzMzMwNAZmZmZmZmAkBmZmZmZmb+P2ZmZmZmZgJAAAAAAAAABEBmZmZmZmYCQGZmZmZmZv4/AAAAAAAAAEBmZmZmZmYCQM3MzMzMzPw/\",\"dtype\":\"float64\",\"order\":\"little\",\"shape\":[150]},\"sepal_length\":{\"__ndarray__\":\"ZmZmZmZmFECamZmZmZkTQM3MzMzMzBJAZmZmZmZmEkAAAAAAAAAUQJqZmZmZmRVAZmZmZmZmEkAAAAAAAAAUQJqZmZmZmRFAmpmZmZmZE0CamZmZmZkVQDMzMzMzMxNAMzMzMzMzE0AzMzMzMzMRQDMzMzMzMxdAzczMzMzMFkCamZmZmZkVQGZmZmZmZhRAzczMzMzMFkBmZmZmZmYUQJqZmZmZmRVAZmZmZmZmFEBmZmZmZmYSQGZmZmZmZhRAMzMzMzMzE0AAAAAAAAAUQAAAAAAAABRAzczMzMzMFEDNzMzMzMwUQM3MzMzMzBJAMzMzMzMzE0CamZmZmZkVQM3MzMzMzBRAAAAAAAAAFkCamZmZmZkTQAAAAAAAABRAAAAAAAAAFkCamZmZmZkTQJqZmZmZmRFAZmZmZmZmFEAAAAAAAAAUQAAAAAAAABJAmpmZmZmZEUAAAAAAAAAUQGZmZmZmZhRAMzMzMzMzE0BmZmZmZmYUQGZmZmZmZhJAMzMzMzMzFUAAAAAAAAAUQAAAAAAAABxAmpmZmZmZGUCamZmZmZkbQAAAAAAAABZAAAAAAAAAGkDNzMzMzMwWQDMzMzMzMxlAmpmZmZmZE0BmZmZmZmYaQM3MzMzMzBRAAAAAAAAAFECamZmZmZkXQAAAAAAAABhAZmZmZmZmGEBmZmZmZmYWQM3MzMzMzBpAZmZmZmZmFkAzMzMzMzMXQM3MzMzMzBhAZmZmZmZmFkCamZmZmZkXQGZmZmZmZhhAMzMzMzMzGUBmZmZmZmYYQJqZmZmZmRlAZmZmZmZmGkAzMzMzMzMbQM3MzMzMzBpAAAAAAAAAGEDNzMzMzMwWQAAAAAAAABZAAAAAAAAAFkAzMzMzMzMXQAAAAAAAABhAmpmZmZmZFUAAAAAAAAAYQM3MzMzMzBpAMzMzMzMzGUBmZmZmZmYWQAAAAAAAABZAAAAAAAAAFkBmZmZmZmYYQDMzMzMzMxdAAAAAAAAAFEBmZmZmZmYWQM3MzMzMzBZAzczMzMzMFkDNzMzMzMwYQGZmZmZmZhRAzczMzMzMFkAzMzMzMzMZQDMzMzMzMxdAZmZmZmZmHEAzMzMzMzMZQAAAAAAAABpAZmZmZmZmHkCamZmZmZkTQDMzMzMzMx1AzczMzMzMGkDNzMzMzMwcQAAAAAAAABpAmpmZmZmZGUAzMzMzMzMbQM3MzMzMzBZAMzMzMzMzF0CamZmZmZkZQAAAAAAAABpAzczMzMzMHkDNzMzMzMweQAAAAAAAABhAmpmZmZmZG0BmZmZmZmYWQM3MzMzMzB5AMzMzMzMzGUDNzMzMzMwaQM3MzMzMzBxAzczMzMzMGEBmZmZmZmYYQJqZmZmZmRlAzczMzMzMHECamZmZmZkdQJqZmZmZmR9AmpmZmZmZGUAzMzMzMzMZQGZmZmZmZhhAzczMzMzMHkAzMzMzMzMZQJqZmZmZmRlAAAAAAAAAGECamZmZmZkbQM3MzMzMzBpAmpmZmZmZG0AzMzMzMzMXQDMzMzMzMxtAzczMzMzMGkDNzMzMzMwaQDMzMzMzMxlAAAAAAAAAGkDNzMzMzMwYQJqZmZmZmRdA\",\"dtype\":\"float64\",\"order\":\"little\",\"shape\":[150]},\"sepal_width\":{\"__ndarray__\":\"AAAAAAAADEAAAAAAAAAIQJqZmZmZmQlAzczMzMzMCEDNzMzMzMwMQDMzMzMzMw9AMzMzMzMzC0AzMzMzMzMLQDMzMzMzMwdAzczMzMzMCECamZmZmZkNQDMzMzMzMwtAAAAAAAAACEAAAAAAAAAIQAAAAAAAABBAmpmZmZmZEUAzMzMzMzMPQAAAAAAAAAxAZmZmZmZmDkBmZmZmZmYOQDMzMzMzMwtAmpmZmZmZDUDNzMzMzMwMQGZmZmZmZgpAMzMzMzMzC0AAAAAAAAAIQDMzMzMzMwtAAAAAAAAADEAzMzMzMzMLQJqZmZmZmQlAzczMzMzMCEAzMzMzMzMLQGZmZmZmZhBAzczMzMzMEEDNzMzMzMwIQJqZmZmZmQlAAAAAAAAADEDNzMzMzMwMQAAAAAAAAAhAMzMzMzMzC0AAAAAAAAAMQGZmZmZmZgJAmpmZmZmZCUAAAAAAAAAMQGZmZmZmZg5AAAAAAAAACEBmZmZmZmYOQJqZmZmZmQlAmpmZmZmZDUBmZmZmZmYKQJqZmZmZmQlAmpmZmZmZCUDNzMzMzMwIQGZmZmZmZgJAZmZmZmZmBkBmZmZmZmYGQGZmZmZmZgpAMzMzMzMzA0AzMzMzMzMHQJqZmZmZmQVAAAAAAAAAAEAAAAAAAAAIQJqZmZmZmQFAMzMzMzMzB0AzMzMzMzMHQM3MzMzMzAhAAAAAAAAACECamZmZmZkFQJqZmZmZmQFAAAAAAAAABECamZmZmZkJQGZmZmZmZgZAAAAAAAAABEBmZmZmZmYGQDMzMzMzMwdAAAAAAAAACEBmZmZmZmYGQAAAAAAAAAhAMzMzMzMzB0DNzMzMzMwEQDMzMzMzMwNAMzMzMzMzA0CamZmZmZkFQJqZmZmZmQVAAAAAAAAACEAzMzMzMzMLQM3MzMzMzAhAZmZmZmZmAkAAAAAAAAAIQAAAAAAAAARAzczMzMzMBEAAAAAAAAAIQM3MzMzMzARAZmZmZmZmAkCamZmZmZkFQAAAAAAAAAhAMzMzMzMzB0AzMzMzMzMHQAAAAAAAAARAZmZmZmZmBkBmZmZmZmYKQJqZmZmZmQVAAAAAAAAACEAzMzMzMzMHQAAAAAAAAAhAAAAAAAAACEAAAAAAAAAEQDMzMzMzMwdAAAAAAAAABEDNzMzMzMwMQJqZmZmZmQlAmpmZmZmZBUAAAAAAAAAIQAAAAAAAAARAZmZmZmZmBkCamZmZmZkJQAAAAAAAAAhAZmZmZmZmDkDNzMzMzMwEQJqZmZmZmQFAmpmZmZmZCUBmZmZmZmYGQGZmZmZmZgZAmpmZmZmZBUBmZmZmZmYKQJqZmZmZmQlAZmZmZmZmBkAAAAAAAAAIQGZmZmZmZgZAAAAAAAAACEBmZmZmZmYGQGZmZmZmZg5AZmZmZmZmBkBmZmZmZmYGQM3MzMzMzARAAAAAAAAACEAzMzMzMzMLQM3MzMzMzAhAAAAAAAAACEDNzMzMzMwIQM3MzMzMzAhAzczMzMzMCECamZmZmZkFQJqZmZmZmQlAZmZmZmZmCkAAAAAAAAAIQAAAAAAAAARAAAAAAAAACEAzMzMzMzMLQAAAAAAAAAhA\",\"dtype\":\"float64\",\"order\":\"little\",\"shape\":[150]},\"species\":[\"setosa\",\"setosa\",\"setosa\",\"setosa\",\"setosa\",\"setosa\",\"setosa\",\"setosa\",\"setosa\",\"setosa\",\"setosa\",\"setosa\",\"setosa\",\"setosa\",\"setosa\",\"setosa\",\"setosa\",\"setosa\",\"setosa\",\"setosa\",\"setosa\",\"setosa\",\"setosa\",\"setosa\",\"setosa\",\"setosa\",\"setosa\",\"setosa\",\"setosa\",\"setosa\",\"setosa\",\"setosa\",\"setosa\",\"setosa\",\"setosa\",\"setosa\",\"setosa\",\"setosa\",\"setosa\",\"setosa\",\"setosa\",\"setosa\",\"setosa\",\"setosa\",\"setosa\",\"setosa\",\"setosa\",\"setosa\",\"setosa\",\"setosa\",\"versicolor\",\"versicolor\",\"versicolor\",\"versicolor\",\"versicolor\",\"versicolor\",\"versicolor\",\"versicolor\",\"versicolor\",\"versicolor\",\"versicolor\",\"versicolor\",\"versicolor\",\"versicolor\",\"versicolor\",\"versicolor\",\"versicolor\",\"versicolor\",\"versicolor\",\"versicolor\",\"versicolor\",\"versicolor\",\"versicolor\",\"versicolor\",\"versicolor\",\"versicolor\",\"versicolor\",\"versicolor\",\"versicolor\",\"versicolor\",\"versicolor\",\"versicolor\",\"versicolor\",\"versicolor\",\"versicolor\",\"versicolor\",\"versicolor\",\"versicolor\",\"versicolor\",\"versicolor\",\"versicolor\",\"versicolor\",\"versicolor\",\"versicolor\",\"versicolor\",\"versicolor\",\"versicolor\",\"versicolor\",\"versicolor\",\"versicolor\",\"virginica\",\"virginica\",\"virginica\",\"virginica\",\"virginica\",\"virginica\",\"virginica\",\"virginica\",\"virginica\",\"virginica\",\"virginica\",\"virginica\",\"virginica\",\"virginica\",\"virginica\",\"virginica\",\"virginica\",\"virginica\",\"virginica\",\"virginica\",\"virginica\",\"virginica\",\"virginica\",\"virginica\",\"virginica\",\"virginica\",\"virginica\",\"virginica\",\"virginica\",\"virginica\",\"virginica\",\"virginica\",\"virginica\",\"virginica\",\"virginica\",\"virginica\",\"virginica\",\"virginica\",\"virginica\",\"virginica\",\"virginica\",\"virginica\",\"virginica\",\"virginica\",\"virginica\",\"virginica\",\"virginica\",\"virginica\",\"virginica\",\"virginica\"]},\"selected\":{\"id\":\"3392\"},\"selection_policy\":{\"id\":\"3391\"}},\"id\":\"3240\",\"type\":\"ColumnDataSource\"},{\"attributes\":{},\"id\":\"3392\",\"type\":\"Selection\"},{\"attributes\":{},\"id\":\"3214\",\"type\":\"LinearScale\"},{\"attributes\":{\"fill_color\":{\"value\":\"green\"},\"hatch_color\":{\"value\":\"green\"},\"line_color\":{\"value\":\"green\"},\"x\":{\"field\":\"petal_length\"},\"y\":{\"field\":\"petal_width\"}},\"id\":\"3242\",\"type\":\"Circle\"},{\"attributes\":{},\"id\":\"3390\",\"type\":\"AllLabels\"},{\"attributes\":{\"coordinates\":null,\"formatter\":{\"id\":\"3386\"},\"group\":null,\"major_label_policy\":{\"id\":\"3387\"},\"ticker\":{\"id\":\"3223\"}},\"id\":\"3222\",\"type\":\"LinearAxis\"},{\"attributes\":{},\"id\":\"3227\",\"type\":\"WheelZoomTool\"},{\"attributes\":{},\"id\":\"3230\",\"type\":\"ResetTool\"},{\"attributes\":{},\"id\":\"3223\",\"type\":\"BasicTicker\"},{\"attributes\":{},\"id\":\"3216\",\"type\":\"LinearScale\"}],\"root_ids\":[\"3209\"]},\"title\":\"Bokeh Application\",\"version\":\"2.4.3\"}};\n",
       "  const render_items = [{\"docid\":\"6dc0ece8-bc38-4615-9f94-52df67929bb5\",\"root_ids\":[\"3209\"],\"roots\":{\"3209\":\"14c7e895-9314-4f34-a746-501bbf29ca7b\"}}];\n",
       "  root.Bokeh.embed.embed_items_notebook(docs_json, render_items);\n",
       "  }\n",
       "  if (root.Bokeh !== undefined) {\n",
       "    embed_document(root);\n",
       "  } else {\n",
       "    let attempts = 0;\n",
       "    const timer = setInterval(function(root) {\n",
       "      if (root.Bokeh !== undefined) {\n",
       "        clearInterval(timer);\n",
       "        embed_document(root);\n",
       "      } else {\n",
       "        attempts++;\n",
       "        if (attempts > 100) {\n",
       "          clearInterval(timer);\n",
       "          console.log(\"Bokeh: ERROR: Unable to run BokehJS code because BokehJS library is missing\");\n",
       "        }\n",
       "      }\n",
       "    }, 10, root)\n",
       "  }\n",
       "})(window);"
      ],
      "application/vnd.bokehjs_exec.v0+json": ""
     },
     "metadata": {
      "application/vnd.bokehjs_exec.v0+json": {
       "id": "3209"
      }
     },
     "output_type": "display_data"
    }
   ],
   "source": [
    "from bokeh.sampledata.iris import flowers as df\n",
    "\n",
    "p = figure(plot_width=400, plot_height=400)\n",
    "p.circle('petal_length', 'petal_width', source=df, color='green')\n",
    "show(p)"
   ]
  },
  {
   "cell_type": "markdown",
   "metadata": {},
   "source": [
    "## Deal with datetime and categorical axes"
   ]
  },
  {
   "cell_type": "markdown",
   "metadata": {},
   "source": [
    "### Datetime axes\n",
    "Dealing with date and time series is another common task. Bokeh has a sophisticated `DatetimeAxis` that can change the displayed ticks based on the current scale of the plot. There are some inputs for which Bokeh will automatically default to DatetimeAxis, but you can always explicitly ask for one by passing the value \"datetime\" to the `x_axis_type` or `y_axis_type` parameters to `figure()`. A few things of interest to look out for in this example:\n",
    "\n",
    "- setting the width and height arguments to figure()\n",
    "- customizing plots and other objects by assigning values to their attributes\n",
    "- accessing guides and annotations with convenience Figure attributes: `legend, grid, xgrid, ygrid, axis, xaxis, yaxis`"
   ]
  },
  {
   "cell_type": "code",
   "execution_count": 23,
   "metadata": {},
   "outputs": [
    {
     "name": "stdout",
     "output_type": "stream",
     "text": [
      "Using data directory: C:\\Users\\vanli\\.bokeh\\data\n",
      "Skipping 'CGM.csv' (checksum match)\n",
      "Skipping 'US_Counties.zip' (checksum match)\n",
      "Skipping 'us_cities.json' (checksum match)\n",
      "Skipping 'unemployment09.csv' (checksum match)\n",
      "Skipping 'AAPL.csv' (checksum match)\n",
      "Skipping 'FB.csv' (checksum match)\n",
      "Skipping 'GOOG.csv' (checksum match)\n",
      "Skipping 'IBM.csv' (checksum match)\n",
      "Skipping 'MSFT.csv' (checksum match)\n",
      "Skipping 'WPP2012_SA_DB03_POPULATION_QUINQUENNIAL.zip' (checksum match)\n",
      "Skipping 'gapminder_fertility.csv' (checksum match)\n",
      "Skipping 'gapminder_population.csv' (checksum match)\n",
      "Skipping 'gapminder_life_expectancy.csv' (checksum match)\n",
      "Skipping 'gapminder_regions.csv' (checksum match)\n",
      "Skipping 'world_cities.zip' (checksum match)\n",
      "Skipping 'airports.json' (checksum match)\n",
      "Skipping 'movies.db.zip' (checksum match)\n",
      "Skipping 'airports.csv' (checksum match)\n",
      "Skipping 'routes.csv' (checksum match)\n",
      "Skipping 'haarcascade_frontalface_default.xml' (checksum match)\n"
     ]
    }
   ],
   "source": [
    "bokeh.sampledata.download()"
   ]
  },
  {
   "cell_type": "code",
   "execution_count": 24,
   "metadata": {},
   "outputs": [],
   "source": [
    "from bokeh.sampledata.stocks import AAPL"
   ]
  },
  {
   "cell_type": "code",
   "execution_count": 25,
   "metadata": {},
   "outputs": [
    {
     "data": {
      "text/html": [
       "\n",
       "  <div class=\"bk-root\" id=\"02399557-58d8-4d2c-a13c-f40f0da3f1df\" data-root-id=\"3449\"></div>\n"
      ]
     },
     "metadata": {},
     "output_type": "display_data"
    },
    {
     "data": {
      "application/javascript": [
       "(function(root) {\n",
       "  function embed_document(root) {\n",
       "  const docs_json = {\"c28a8913-b3fd-4b53-9c9e-73f446084c40\":{\"defs\":[],\"roots\":{\"references\":[{\"attributes\":{\"below\":[{\"id\":\"3458\"}],\"center\":[{\"id\":\"3461\"},{\"id\":\"3465\"},{\"id\":\"3509\"}],\"height\":350,\"left\":[{\"id\":\"3462\"}],\"renderers\":[{\"id\":\"3484\"},{\"id\":\"3515\"}],\"title\":{\"id\":\"3486\"},\"toolbar\":{\"id\":\"3473\"},\"width\":800,\"x_range\":{\"id\":\"3450\"},\"x_scale\":{\"id\":\"3454\"},\"y_range\":{\"id\":\"3452\"},\"y_scale\":{\"id\":\"3456\"}},\"id\":\"3449\",\"subtype\":\"Figure\",\"type\":\"Plot\"},{\"attributes\":{\"line_alpha\":0.2,\"line_color\":\"red\",\"x\":{\"field\":\"x\"},\"y\":{\"field\":\"y\"}},\"id\":\"3514\",\"type\":\"Line\"},{\"attributes\":{\"coordinates\":null,\"data_source\":{\"id\":\"3511\"},\"glyph\":{\"id\":\"3512\"},\"group\":null,\"hover_glyph\":null,\"muted_glyph\":{\"id\":\"3514\"},\"nonselection_glyph\":{\"id\":\"3513\"},\"view\":{\"id\":\"3516\"}},\"id\":\"3515\",\"type\":\"GlyphRenderer\"},{\"attributes\":{\"tools\":[{\"id\":\"3466\"},{\"id\":\"3467\"},{\"id\":\"3468\"},{\"id\":\"3469\"},{\"id\":\"3470\"},{\"id\":\"3471\"}]},\"id\":\"3473\",\"type\":\"Toolbar\"},{\"attributes\":{\"fill_alpha\":{\"value\":0.1},\"fill_color\":{\"value\":\"darkgrey\"},\"hatch_alpha\":{\"value\":0.1},\"hatch_color\":{\"value\":\"darkgrey\"},\"line_alpha\":{\"value\":0.1},\"line_color\":{\"value\":\"darkgrey\"},\"x\":{\"field\":\"x\"},\"y\":{\"field\":\"y\"}},\"id\":\"3482\",\"type\":\"Circle\"},{\"attributes\":{\"data\":{\"x\":{\"__ndarray__\":\"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\",\"dtype\":\"float64\",\"order\":\"little\",\"shape\":[3270]},\"y\":{\"__ndarray__\":\"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\",\"dtype\":\"float64\",\"order\":\"little\",\"shape\":[3270]}},\"selected\":{\"id\":\"3528\"},\"selection_policy\":{\"id\":\"3527\"}},\"id\":\"3511\",\"type\":\"ColumnDataSource\"},{\"attributes\":{},\"id\":\"3528\",\"type\":\"Selection\"},{\"attributes\":{},\"id\":\"3450\",\"type\":\"DataRange1d\"},{\"attributes\":{},\"id\":\"3490\",\"type\":\"AllLabels\"},{\"attributes\":{\"axis_label\":\"Price\",\"coordinates\":null,\"formatter\":{\"id\":\"3489\"},\"group\":null,\"major_label_policy\":{\"id\":\"3490\"},\"ticker\":{\"id\":\"3463\"}},\"id\":\"3462\",\"type\":\"LinearAxis\"},{\"attributes\":{\"source\":{\"id\":\"3511\"}},\"id\":\"3516\",\"type\":\"CDSView\"},{\"attributes\":{},\"id\":\"3454\",\"type\":\"LinearScale\"},{\"attributes\":{\"line_alpha\":0.1,\"line_color\":\"red\",\"x\":{\"field\":\"x\"},\"y\":{\"field\":\"y\"}},\"id\":\"3513\",\"type\":\"Line\"},{\"attributes\":{},\"id\":\"3471\",\"type\":\"HelpTool\"},{\"attributes\":{\"line_color\":\"red\",\"x\":{\"field\":\"x\"},\"y\":{\"field\":\"y\"}},\"id\":\"3512\",\"type\":\"Line\"},{\"attributes\":{\"axis_label\":\"Date\",\"coordinates\":null,\"formatter\":{\"id\":\"3492\"},\"group\":null,\"major_label_policy\":{\"id\":\"3493\"},\"ticker\":{\"id\":\"3459\"}},\"id\":\"3458\",\"type\":\"DatetimeAxis\"},{\"attributes\":{\"fill_alpha\":{\"value\":0.2},\"fill_color\":{\"value\":\"darkgrey\"},\"hatch_alpha\":{\"value\":0.2},\"hatch_color\":{\"value\":\"darkgrey\"},\"line_alpha\":{\"value\":0.2},\"line_color\":{\"value\":\"darkgrey\"},\"x\":{\"field\":\"x\"},\"y\":{\"field\":\"y\"}},\"id\":\"3483\",\"type\":\"Circle\"},{\"attributes\":{},\"id\":\"3452\",\"type\":\"DataRange1d\"},{\"attributes\":{\"coordinates\":null,\"data_source\":{\"id\":\"3480\"},\"glyph\":{\"id\":\"3481\"},\"group\":null,\"hover_glyph\":null,\"muted_glyph\":{\"id\":\"3483\"},\"nonselection_glyph\":{\"id\":\"3482\"},\"view\":{\"id\":\"3485\"}},\"id\":\"3484\",\"type\":\"GlyphRenderer\"},{\"attributes\":{},\"id\":\"3456\",\"type\":\"LinearScale\"},{\"attributes\":{\"label\":{\"value\":\"avg\"},\"renderers\":[{\"id\":\"3515\"}]},\"id\":\"3542\",\"type\":\"LegendItem\"},{\"attributes\":{},\"id\":\"3495\",\"type\":\"Selection\"},{\"attributes\":{},\"id\":\"3463\",\"type\":\"BasicTicker\"},{\"attributes\":{\"mantissas\":[1,2,5],\"max_interval\":500.0,\"num_minor_ticks\":0},\"id\":\"3497\",\"type\":\"AdaptiveTicker\"},{\"attributes\":{\"num_minor_ticks\":5,\"tickers\":[{\"id\":\"3497\"},{\"id\":\"3498\"},{\"id\":\"3499\"},{\"id\":\"3500\"},{\"id\":\"3501\"},{\"id\":\"3502\"},{\"id\":\"3503\"},{\"id\":\"3504\"},{\"id\":\"3505\"},{\"id\":\"3506\"},{\"id\":\"3507\"},{\"id\":\"3508\"}]},\"id\":\"3459\",\"type\":\"DatetimeTicker\"},{\"attributes\":{},\"id\":\"3494\",\"type\":\"UnionRenderers\"},{\"attributes\":{\"axis\":{\"id\":\"3458\"},\"coordinates\":null,\"grid_line_alpha\":0,\"group\":null,\"ticker\":null},\"id\":\"3461\",\"type\":\"Grid\"},{\"attributes\":{\"base\":60,\"mantissas\":[1,2,5,10,15,20,30],\"max_interval\":1800000.0,\"min_interval\":1000.0,\"num_minor_ticks\":0},\"id\":\"3498\",\"type\":\"AdaptiveTicker\"},{\"attributes\":{},\"id\":\"3470\",\"type\":\"ResetTool\"},{\"attributes\":{},\"id\":\"3508\",\"type\":\"YearsTicker\"},{\"attributes\":{},\"id\":\"3469\",\"type\":\"SaveTool\"},{\"attributes\":{},\"id\":\"3527\",\"type\":\"UnionRenderers\"},{\"attributes\":{\"base\":24,\"mantissas\":[1,2,4,6,8,12],\"max_interval\":43200000.0,\"min_interval\":3600000.0,\"num_minor_ticks\":0},\"id\":\"3499\",\"type\":\"AdaptiveTicker\"},{\"attributes\":{\"axis\":{\"id\":\"3462\"},\"band_fill_alpha\":0.1,\"band_fill_color\":\"gray\",\"coordinates\":null,\"dimension\":1,\"grid_line_alpha\":0,\"group\":null,\"ticker\":null},\"id\":\"3465\",\"type\":\"Grid\"},{\"attributes\":{\"months\":[0,1,2,3,4,5,6,7,8,9,10,11]},\"id\":\"3504\",\"type\":\"MonthsTicker\"},{\"attributes\":{\"days\":[1,15]},\"id\":\"3503\",\"type\":\"DaysTicker\"},{\"attributes\":{},\"id\":\"3492\",\"type\":\"DatetimeTickFormatter\"},{\"attributes\":{\"days\":[1,2,3,4,5,6,7,8,9,10,11,12,13,14,15,16,17,18,19,20,21,22,23,24,25,26,27,28,29,30,31]},\"id\":\"3500\",\"type\":\"DaysTicker\"},{\"attributes\":{\"days\":[1,4,7,10,13,16,19,22,25,28]},\"id\":\"3501\",\"type\":\"DaysTicker\"},{\"attributes\":{\"days\":[1,8,15,22]},\"id\":\"3502\",\"type\":\"DaysTicker\"},{\"attributes\":{\"months\":[0,6]},\"id\":\"3507\",\"type\":\"MonthsTicker\"},{\"attributes\":{\"data\":{\"x\":{\"__ndarray__\":\"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\",\"dtype\":\"float64\",\"order\":\"little\",\"shape\":[3270]},\"y\":{\"__ndarray__\":\"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\",\"dtype\":\"float64\",\"order\":\"little\",\"shape\":[3270]}},\"selected\":{\"id\":\"3495\"},\"selection_policy\":{\"id\":\"3494\"}},\"id\":\"3480\",\"type\":\"ColumnDataSource\"},{\"attributes\":{\"months\":[0,2,4,6,8,10]},\"id\":\"3505\",\"type\":\"MonthsTicker\"},{\"attributes\":{\"months\":[0,4,8]},\"id\":\"3506\",\"type\":\"MonthsTicker\"},{\"attributes\":{},\"id\":\"3466\",\"type\":\"PanTool\"},{\"attributes\":{\"fill_alpha\":{\"value\":0.2},\"fill_color\":{\"value\":\"darkgrey\"},\"hatch_alpha\":{\"value\":0.2},\"hatch_color\":{\"value\":\"darkgrey\"},\"line_alpha\":{\"value\":0.2},\"line_color\":{\"value\":\"darkgrey\"},\"x\":{\"field\":\"x\"},\"y\":{\"field\":\"y\"}},\"id\":\"3481\",\"type\":\"Circle\"},{\"attributes\":{},\"id\":\"3467\",\"type\":\"WheelZoomTool\"},{\"attributes\":{\"bottom_units\":\"screen\",\"coordinates\":null,\"fill_alpha\":0.5,\"fill_color\":\"lightgrey\",\"group\":null,\"left_units\":\"screen\",\"level\":\"overlay\",\"line_alpha\":1.0,\"line_color\":\"black\",\"line_dash\":[4,4],\"line_width\":2,\"right_units\":\"screen\",\"syncable\":false,\"top_units\":\"screen\"},\"id\":\"3472\",\"type\":\"BoxAnnotation\"},{\"attributes\":{},\"id\":\"3493\",\"type\":\"AllLabels\"},{\"attributes\":{\"coordinates\":null,\"group\":null,\"text\":\"AAPL One-Month Average\"},\"id\":\"3486\",\"type\":\"Title\"},{\"attributes\":{\"click_policy\":\"hide\",\"coordinates\":null,\"group\":null,\"items\":[{\"id\":\"3510\"},{\"id\":\"3542\"}],\"location\":\"top_left\"},\"id\":\"3509\",\"type\":\"Legend\"},{\"attributes\":{\"source\":{\"id\":\"3480\"}},\"id\":\"3485\",\"type\":\"CDSView\"},{\"attributes\":{\"overlay\":{\"id\":\"3472\"}},\"id\":\"3468\",\"type\":\"BoxZoomTool\"},{\"attributes\":{},\"id\":\"3489\",\"type\":\"BasicTickFormatter\"},{\"attributes\":{\"label\":{\"value\":\"close\"},\"renderers\":[{\"id\":\"3484\"}]},\"id\":\"3510\",\"type\":\"LegendItem\"}],\"root_ids\":[\"3449\"]},\"title\":\"Bokeh Application\",\"version\":\"2.4.3\"}};\n",
       "  const render_items = [{\"docid\":\"c28a8913-b3fd-4b53-9c9e-73f446084c40\",\"root_ids\":[\"3449\"],\"roots\":{\"3449\":\"02399557-58d8-4d2c-a13c-f40f0da3f1df\"}}];\n",
       "  root.Bokeh.embed.embed_items_notebook(docs_json, render_items);\n",
       "  }\n",
       "  if (root.Bokeh !== undefined) {\n",
       "    embed_document(root);\n",
       "  } else {\n",
       "    let attempts = 0;\n",
       "    const timer = setInterval(function(root) {\n",
       "      if (root.Bokeh !== undefined) {\n",
       "        clearInterval(timer);\n",
       "        embed_document(root);\n",
       "      } else {\n",
       "        attempts++;\n",
       "        if (attempts > 100) {\n",
       "          clearInterval(timer);\n",
       "          console.log(\"Bokeh: ERROR: Unable to run BokehJS code because BokehJS library is missing\");\n",
       "        }\n",
       "      }\n",
       "    }, 10, root)\n",
       "  }\n",
       "})(window);"
      ],
      "application/vnd.bokehjs_exec.v0+json": ""
     },
     "metadata": {
      "application/vnd.bokehjs_exec.v0+json": {
       "id": "3449"
      }
     },
     "output_type": "display_data"
    }
   ],
   "source": [
    "# prepare some data\n",
    "aapl = np.array(AAPL['adj_close'])\n",
    "aapl_dates = np.array(AAPL['date'], dtype=np.datetime64)\n",
    "\n",
    "window_size = 30\n",
    "window = np.ones(window_size)/float(window_size)\n",
    "aapl_avg = np.convolve(aapl, window, 'same')\n",
    "\n",
    "# create a new plot with a datetime axis type\n",
    "p = figure(width=800, height=350, x_axis_type=\"datetime\")\n",
    "\n",
    "# add renderers\n",
    "p.circle(aapl_dates, aapl, size=4, color='darkgrey', alpha=0.2, legend_label='close')\n",
    "p.line(aapl_dates, aapl_avg, color='red', legend_label='avg')\n",
    "\n",
    "# NEW: customize by setting attributes\n",
    "p.title.text = \"AAPL One-Month Average\"\n",
    "p.legend.location = \"top_left\"\n",
    "p.grid.grid_line_alpha=0\n",
    "p.xaxis.axis_label = 'Date'\n",
    "p.yaxis.axis_label = 'Price'\n",
    "\n",
    "p.ygrid.band_fill_color=\"gray\"\n",
    "p.ygrid.band_fill_alpha = 0.1\n",
    "\n",
    "p.legend.click_policy=\"hide\" # enable the click policy on the legend\n",
    "\n",
    "# show the results\n",
    "show(p)"
   ]
  },
  {
   "cell_type": "markdown",
   "metadata": {},
   "source": [
    "## Categorical axes\n",
    "To inform Bokeh that the `x-axis` is `categorical`, we pass this list of factors as the `x_range` argument to bokeh plotting figure:\n",
    "\n",
    "```python\n",
    "p = figure(x_range=fruits, ... )\n",
    "```\n",
    "\n",
    "Note that passing the list of factors is a convenient shorthand notation for creating a FactorRange. The equivalent explicit notation is:\n",
    "```python\n",
    "p = figure(x_range=FactorRange(field=fruits), ... )\n",
    "```\n",
    "This more explicit for is useful when you want to customize the FactorRange, e.g. by changing the range or category padding.\n",
    "\n",
    "Next we can call vbar with the list of fruit name factors as the x coordinate, the bar height as the top coordinate, and optionally any width or other properties that we would like to set:\n",
    "```python\n",
    "p.vbar(x=fruits, top=[5, 3, 4, 2, 4, 6], width=0.9)\n",
    "```\n",
    "\n",
    "Now putting this stuff together we will see the output:"
   ]
  },
  {
   "cell_type": "code",
   "execution_count": 26,
   "metadata": {},
   "outputs": [
    {
     "data": {
      "text/html": [
       "\n",
       "  <div class=\"bk-root\" id=\"9f722815-452b-4a04-8b8b-7fdb24d3e32f\" data-root-id=\"3841\"></div>\n"
      ]
     },
     "metadata": {},
     "output_type": "display_data"
    },
    {
     "data": {
      "application/javascript": [
       "(function(root) {\n",
       "  function embed_document(root) {\n",
       "  const docs_json = {\"f4ee519b-8ef6-436a-9ce5-28f3b52a3f7b\":{\"defs\":[],\"roots\":{\"references\":[{\"attributes\":{\"below\":[{\"id\":\"3852\"}],\"center\":[{\"id\":\"3854\"},{\"id\":\"3858\"}],\"height\":250,\"left\":[{\"id\":\"3855\"}],\"renderers\":[{\"id\":\"3864\"}],\"title\":{\"id\":\"3842\"},\"toolbar\":{\"id\":\"3859\"},\"toolbar_location\":null,\"x_range\":{\"id\":\"3844\"},\"x_scale\":{\"id\":\"3848\"},\"y_range\":{\"id\":\"3846\"},\"y_scale\":{\"id\":\"3850\"}},\"id\":\"3841\",\"subtype\":\"Figure\",\"type\":\"Plot\"},{\"attributes\":{\"coordinates\":null,\"formatter\":{\"id\":\"4043\"},\"group\":null,\"major_label_policy\":{\"id\":\"4044\"},\"ticker\":{\"id\":\"3853\"}},\"id\":\"3852\",\"type\":\"CategoricalAxis\"},{\"attributes\":{\"start\":0},\"id\":\"3846\",\"type\":\"DataRange1d\"},{\"attributes\":{},\"id\":\"3853\",\"type\":\"CategoricalTicker\"},{\"attributes\":{},\"id\":\"3850\",\"type\":\"LinearScale\"},{\"attributes\":{\"coordinates\":null,\"group\":null,\"text\":\"Fruit Counts\"},\"id\":\"3842\",\"type\":\"Title\"},{\"attributes\":{\"fill_alpha\":{\"value\":0.2},\"fill_color\":{\"value\":\"#1f77b4\"},\"hatch_alpha\":{\"value\":0.2},\"line_alpha\":{\"value\":0.2},\"line_color\":{\"value\":\"#1f77b4\"},\"top\":{\"field\":\"top\"},\"width\":{\"value\":0.6},\"x\":{\"field\":\"x\"}},\"id\":\"3863\",\"type\":\"VBar\"},{\"attributes\":{},\"id\":\"3848\",\"type\":\"CategoricalScale\"},{\"attributes\":{\"factors\":[\"Apples\",\"Pears\",\"Nectarines\",\"Plums\",\"Grapes\",\"Strawberries\"]},\"id\":\"3844\",\"type\":\"FactorRange\"},{\"attributes\":{},\"id\":\"4046\",\"type\":\"Selection\"},{\"attributes\":{},\"id\":\"4045\",\"type\":\"UnionRenderers\"},{\"attributes\":{\"axis\":{\"id\":\"3852\"},\"coordinates\":null,\"grid_line_color\":null,\"group\":null,\"ticker\":null},\"id\":\"3854\",\"type\":\"Grid\"},{\"attributes\":{\"coordinates\":null,\"formatter\":{\"id\":\"4040\"},\"group\":null,\"major_label_policy\":{\"id\":\"4041\"},\"ticker\":{\"id\":\"3856\"}},\"id\":\"3855\",\"type\":\"LinearAxis\"},{\"attributes\":{},\"id\":\"4043\",\"type\":\"CategoricalTickFormatter\"},{\"attributes\":{},\"id\":\"4040\",\"type\":\"BasicTickFormatter\"},{\"attributes\":{},\"id\":\"4041\",\"type\":\"AllLabels\"},{\"attributes\":{},\"id\":\"4044\",\"type\":\"AllLabels\"},{\"attributes\":{\"fill_alpha\":{\"value\":0.1},\"fill_color\":{\"value\":\"#1f77b4\"},\"hatch_alpha\":{\"value\":0.1},\"line_alpha\":{\"value\":0.1},\"line_color\":{\"value\":\"#1f77b4\"},\"top\":{\"field\":\"top\"},\"width\":{\"value\":0.6},\"x\":{\"field\":\"x\"}},\"id\":\"3862\",\"type\":\"VBar\"},{\"attributes\":{\"source\":{\"id\":\"3860\"}},\"id\":\"3865\",\"type\":\"CDSView\"},{\"attributes\":{},\"id\":\"3856\",\"type\":\"BasicTicker\"},{\"attributes\":{\"data\":{\"top\":[5,3,4,2,4,6],\"x\":[\"Apples\",\"Pears\",\"Nectarines\",\"Plums\",\"Grapes\",\"Strawberries\"]},\"selected\":{\"id\":\"4046\"},\"selection_policy\":{\"id\":\"4045\"}},\"id\":\"3860\",\"type\":\"ColumnDataSource\"},{\"attributes\":{\"axis\":{\"id\":\"3855\"},\"coordinates\":null,\"dimension\":1,\"group\":null,\"ticker\":null},\"id\":\"3858\",\"type\":\"Grid\"},{\"attributes\":{\"coordinates\":null,\"data_source\":{\"id\":\"3860\"},\"glyph\":{\"id\":\"3861\"},\"group\":null,\"hover_glyph\":null,\"muted_glyph\":{\"id\":\"3863\"},\"nonselection_glyph\":{\"id\":\"3862\"},\"view\":{\"id\":\"3865\"}},\"id\":\"3864\",\"type\":\"GlyphRenderer\"},{\"attributes\":{\"fill_color\":{\"value\":\"#1f77b4\"},\"line_color\":{\"value\":\"#1f77b4\"},\"top\":{\"field\":\"top\"},\"width\":{\"value\":0.6},\"x\":{\"field\":\"x\"}},\"id\":\"3861\",\"type\":\"VBar\"},{\"attributes\":{},\"id\":\"3859\",\"type\":\"Toolbar\"}],\"root_ids\":[\"3841\"]},\"title\":\"Bokeh Application\",\"version\":\"2.4.3\"}};\n",
       "  const render_items = [{\"docid\":\"f4ee519b-8ef6-436a-9ce5-28f3b52a3f7b\",\"root_ids\":[\"3841\"],\"roots\":{\"3841\":\"9f722815-452b-4a04-8b8b-7fdb24d3e32f\"}}];\n",
       "  root.Bokeh.embed.embed_items_notebook(docs_json, render_items);\n",
       "  }\n",
       "  if (root.Bokeh !== undefined) {\n",
       "    embed_document(root);\n",
       "  } else {\n",
       "    let attempts = 0;\n",
       "    const timer = setInterval(function(root) {\n",
       "      if (root.Bokeh !== undefined) {\n",
       "        clearInterval(timer);\n",
       "        embed_document(root);\n",
       "      } else {\n",
       "        attempts++;\n",
       "        if (attempts > 100) {\n",
       "          clearInterval(timer);\n",
       "          console.log(\"Bokeh: ERROR: Unable to run BokehJS code because BokehJS library is missing\");\n",
       "        }\n",
       "      }\n",
       "    }, 10, root)\n",
       "  }\n",
       "})(window);"
      ],
      "application/vnd.bokehjs_exec.v0+json": ""
     },
     "metadata": {
      "application/vnd.bokehjs_exec.v0+json": {
       "id": "3841"
      }
     },
     "output_type": "display_data"
    }
   ],
   "source": [
    "fruits = ['Apples', 'Pears', 'Nectarines', 'Plums', 'Grapes', 'Strawberries']\n",
    "\n",
    "p = figure(x_range=fruits, plot_height=250, title=\"Fruit Counts\",\n",
    "           toolbar_location=None, tools=\"\")\n",
    "\n",
    "p.vbar(x=fruits, top=[5, 3, 4, 2, 4, 6], width=0.6)\n",
    "\n",
    "p.xgrid.grid_line_color = None\n",
    "p.y_range.start = 0\n",
    "\n",
    "show(p)"
   ]
  },
  {
   "cell_type": "markdown",
   "metadata": {},
   "source": [
    "Often times we may want to have bars that are shaded some color. One way is to supply all the colors up front. This can be done by putting all the data, including the colors for each bar, in a `ColumnDataSource`. Then the name of the column containing the colors is passed to figure as the color (or line_color/fill_color) arguments. This is shown below:"
   ]
  },
  {
   "cell_type": "code",
   "execution_count": 27,
   "metadata": {},
   "outputs": [
    {
     "data": {
      "text/html": [
       "\n",
       "  <div class=\"bk-root\" id=\"1e3f2982-cada-4223-945a-f9b48e009967\" data-root-id=\"4093\"></div>\n"
      ]
     },
     "metadata": {},
     "output_type": "display_data"
    },
    {
     "data": {
      "application/javascript": [
       "(function(root) {\n",
       "  function embed_document(root) {\n",
       "  const docs_json = {\"db16431a-4132-49fd-a171-91ecf6ed81de\":{\"defs\":[],\"roots\":{\"references\":[{\"attributes\":{\"below\":[{\"id\":\"4104\"}],\"center\":[{\"id\":\"4106\"},{\"id\":\"4110\"},{\"id\":\"4127\"}],\"height\":250,\"left\":[{\"id\":\"4107\"}],\"renderers\":[{\"id\":\"4116\"}],\"title\":{\"id\":\"4094\"},\"toolbar\":{\"id\":\"4111\"},\"toolbar_location\":null,\"x_range\":{\"id\":\"4096\"},\"x_scale\":{\"id\":\"4100\"},\"y_range\":{\"id\":\"4098\"},\"y_scale\":{\"id\":\"4102\"}},\"id\":\"4093\",\"subtype\":\"Figure\",\"type\":\"Plot\"},{\"attributes\":{\"coordinates\":null,\"group\":null,\"items\":[{\"id\":\"4128\"}],\"location\":\"top_center\",\"orientation\":\"horizontal\"},\"id\":\"4127\",\"type\":\"Legend\"},{\"attributes\":{\"label\":{\"value\":\"fruits\"},\"renderers\":[{\"id\":\"4116\"}]},\"id\":\"4128\",\"type\":\"LegendItem\"},{\"attributes\":{},\"id\":\"4121\",\"type\":\"AllLabels\"},{\"attributes\":{},\"id\":\"4125\",\"type\":\"UnionRenderers\"},{\"attributes\":{\"fill_alpha\":{\"value\":0.2},\"fill_color\":{\"field\":\"color\"},\"hatch_alpha\":{\"value\":0.2},\"hatch_color\":{\"field\":\"color\"},\"line_alpha\":{\"value\":0.2},\"line_color\":{\"field\":\"color\"},\"top\":{\"field\":\"counts\"},\"width\":{\"value\":0.6},\"x\":{\"field\":\"fruits\"}},\"id\":\"4115\",\"type\":\"VBar\"},{\"attributes\":{\"coordinates\":null,\"data_source\":{\"id\":\"4092\"},\"glyph\":{\"id\":\"4113\"},\"group\":null,\"hover_glyph\":null,\"muted_glyph\":{\"id\":\"4115\"},\"nonselection_glyph\":{\"id\":\"4114\"},\"view\":{\"id\":\"4117\"}},\"id\":\"4116\",\"type\":\"GlyphRenderer\"},{\"attributes\":{\"source\":{\"id\":\"4092\"}},\"id\":\"4117\",\"type\":\"CDSView\"},{\"attributes\":{},\"id\":\"4124\",\"type\":\"AllLabels\"},{\"attributes\":{\"coordinates\":null,\"formatter\":{\"id\":\"4120\"},\"group\":null,\"major_label_policy\":{\"id\":\"4121\"},\"ticker\":{\"id\":\"4108\"}},\"id\":\"4107\",\"type\":\"LinearAxis\"},{\"attributes\":{\"end\":9},\"id\":\"4098\",\"type\":\"Range1d\"},{\"attributes\":{\"data\":{\"color\":[\"#3288bd\",\"#99d594\",\"#e6f598\",\"#fee08b\",\"#fc8d59\",\"#d53e4f\"],\"counts\":[5,3,4,2,4,6],\"fruits\":[\"Apples\",\"Pears\",\"Nectarines\",\"Plums\",\"Grapes\",\"Strawberries\"]},\"selected\":{\"id\":\"4126\"},\"selection_policy\":{\"id\":\"4125\"}},\"id\":\"4092\",\"type\":\"ColumnDataSource\"},{\"attributes\":{},\"id\":\"4102\",\"type\":\"LinearScale\"},{\"attributes\":{\"coordinates\":null,\"group\":null,\"text\":\"Fruit Counts\"},\"id\":\"4094\",\"type\":\"Title\"},{\"attributes\":{},\"id\":\"4120\",\"type\":\"BasicTickFormatter\"},{\"attributes\":{},\"id\":\"4100\",\"type\":\"CategoricalScale\"},{\"attributes\":{},\"id\":\"4123\",\"type\":\"CategoricalTickFormatter\"},{\"attributes\":{},\"id\":\"4111\",\"type\":\"Toolbar\"},{\"attributes\":{\"factors\":[\"Apples\",\"Pears\",\"Nectarines\",\"Plums\",\"Grapes\",\"Strawberries\"]},\"id\":\"4096\",\"type\":\"FactorRange\"},{\"attributes\":{},\"id\":\"4105\",\"type\":\"CategoricalTicker\"},{\"attributes\":{\"axis\":{\"id\":\"4104\"},\"coordinates\":null,\"grid_line_color\":null,\"group\":null,\"ticker\":null},\"id\":\"4106\",\"type\":\"Grid\"},{\"attributes\":{},\"id\":\"4126\",\"type\":\"Selection\"},{\"attributes\":{\"fill_color\":{\"field\":\"color\"},\"hatch_color\":{\"field\":\"color\"},\"line_color\":{\"field\":\"color\"},\"top\":{\"field\":\"counts\"},\"width\":{\"value\":0.6},\"x\":{\"field\":\"fruits\"}},\"id\":\"4113\",\"type\":\"VBar\"},{\"attributes\":{\"fill_alpha\":{\"value\":0.1},\"fill_color\":{\"field\":\"color\"},\"hatch_alpha\":{\"value\":0.1},\"hatch_color\":{\"field\":\"color\"},\"line_alpha\":{\"value\":0.1},\"line_color\":{\"field\":\"color\"},\"top\":{\"field\":\"counts\"},\"width\":{\"value\":0.6},\"x\":{\"field\":\"fruits\"}},\"id\":\"4114\",\"type\":\"VBar\"},{\"attributes\":{\"coordinates\":null,\"formatter\":{\"id\":\"4123\"},\"group\":null,\"major_label_policy\":{\"id\":\"4124\"},\"ticker\":{\"id\":\"4105\"}},\"id\":\"4104\",\"type\":\"CategoricalAxis\"},{\"attributes\":{\"axis\":{\"id\":\"4107\"},\"coordinates\":null,\"dimension\":1,\"group\":null,\"ticker\":null},\"id\":\"4110\",\"type\":\"Grid\"},{\"attributes\":{},\"id\":\"4108\",\"type\":\"BasicTicker\"}],\"root_ids\":[\"4093\"]},\"title\":\"Bokeh Application\",\"version\":\"2.4.3\"}};\n",
       "  const render_items = [{\"docid\":\"db16431a-4132-49fd-a171-91ecf6ed81de\",\"root_ids\":[\"4093\"],\"roots\":{\"4093\":\"1e3f2982-cada-4223-945a-f9b48e009967\"}}];\n",
       "  root.Bokeh.embed.embed_items_notebook(docs_json, render_items);\n",
       "  }\n",
       "  if (root.Bokeh !== undefined) {\n",
       "    embed_document(root);\n",
       "  } else {\n",
       "    let attempts = 0;\n",
       "    const timer = setInterval(function(root) {\n",
       "      if (root.Bokeh !== undefined) {\n",
       "        clearInterval(timer);\n",
       "        embed_document(root);\n",
       "      } else {\n",
       "        attempts++;\n",
       "        if (attempts > 100) {\n",
       "          clearInterval(timer);\n",
       "          console.log(\"Bokeh: ERROR: Unable to run BokehJS code because BokehJS library is missing\");\n",
       "        }\n",
       "      }\n",
       "    }, 10, root)\n",
       "  }\n",
       "})(window);"
      ],
      "application/vnd.bokehjs_exec.v0+json": ""
     },
     "metadata": {
      "application/vnd.bokehjs_exec.v0+json": {
       "id": "4093"
      }
     },
     "output_type": "display_data"
    }
   ],
   "source": [
    "from bokeh.models import ColumnDataSource\n",
    "from bokeh.palettes import Spectral6\n",
    "\n",
    "fruits = ['Apples', 'Pears', 'Nectarines', 'Plums', 'Grapes', 'Strawberries']\n",
    "counts = [5, 3, 4, 2, 4, 6]\n",
    "\n",
    "source = ColumnDataSource(data=dict(fruits=fruits, counts=counts, color=Spectral6))\n",
    "\n",
    "p = figure(x_range=fruits, y_range=(0,9), plot_height=250, title=\"Fruit Counts\",\n",
    "           toolbar_location=None, tools=\"\")\n",
    "\n",
    "p.vbar(x='fruits', top='counts', width=0.6, color='color', legend_label=\"fruits\", source=source)\n",
    "\n",
    "p.xgrid.grid_line_color = None\n",
    "p.legend.orientation = \"horizontal\"\n",
    "p.legend.location = \"top_center\"\n",
    "\n",
    "show(p)"
   ]
  },
  {
   "cell_type": "markdown",
   "metadata": {},
   "source": [
    "### Grouped\n",
    "\n",
    "When creating bar charts, it is often desirable to visually display the data according to sub-groups. There are two basic methods that can be used, depending on your use case: using nested categorical coordinates, or applying vidual dodges.\n",
    "\n",
    "### Nested Categories\n",
    "\n",
    "If the coordinates of a plot range and data have two or three levels, then Bokeh will automatically group the factors on the axis, including a hierarchical tick labeling with separators between the groups. In the case of bar charts, this results in bars grouped together by the top-level factors. This is probably the most common way to achieve grouped bars, especially if you are starting from “tidy” data.\n",
    "\n",
    "The example below shows this approach by creating a single column of coordinates that are each 2-tuples of the form (fruit, year). Accordingly, the plot groups the axes by fruit type, with a single call to vbar:"
   ]
  },
  {
   "cell_type": "code",
   "execution_count": 28,
   "metadata": {},
   "outputs": [
    {
     "data": {
      "text/html": [
       "\n",
       "  <div class=\"bk-root\" id=\"54ee05ba-187d-4abb-be42-593a89cc6a8c\" data-root-id=\"4366\"></div>\n"
      ]
     },
     "metadata": {},
     "output_type": "display_data"
    },
    {
     "data": {
      "application/javascript": [
       "(function(root) {\n",
       "  function embed_document(root) {\n",
       "  const docs_json = {\"f0ea7b84-9ff1-44b9-9e73-ddde10405aa2\":{\"defs\":[],\"roots\":{\"references\":[{\"attributes\":{\"below\":[{\"id\":\"4376\"}],\"center\":[{\"id\":\"4378\"},{\"id\":\"4382\"}],\"height\":250,\"left\":[{\"id\":\"4379\"}],\"renderers\":[{\"id\":\"4388\"}],\"title\":{\"id\":\"4367\"},\"toolbar\":{\"id\":\"4383\"},\"toolbar_location\":null,\"x_range\":{\"id\":\"4365\"},\"x_scale\":{\"id\":\"4372\"},\"y_range\":{\"id\":\"4370\"},\"y_scale\":{\"id\":\"4374\"}},\"id\":\"4366\",\"subtype\":\"Figure\",\"type\":\"Plot\"},{\"attributes\":{\"fill_color\":{\"value\":\"#1f77b4\"},\"line_color\":{\"value\":\"#1f77b4\"},\"top\":{\"field\":\"counts\"},\"width\":{\"value\":0.9},\"x\":{\"field\":\"x\"}},\"id\":\"4385\",\"type\":\"VBar\"},{\"attributes\":{},\"id\":\"4587\",\"type\":\"UnionRenderers\"},{\"attributes\":{\"factors\":[[\"Apples\",\"2015\"],[\"Apples\",\"2016\"],[\"Apples\",\"2017\"],[\"Pears\",\"2015\"],[\"Pears\",\"2016\"],[\"Pears\",\"2017\"],[\"Nectarines\",\"2015\"],[\"Nectarines\",\"2016\"],[\"Nectarines\",\"2017\"],[\"Plums\",\"2015\"],[\"Plums\",\"2016\"],[\"Plums\",\"2017\"],[\"Grapes\",\"2015\"],[\"Grapes\",\"2016\"],[\"Grapes\",\"2017\"],[\"Strawberries\",\"2015\"],[\"Strawberries\",\"2016\"],[\"Strawberries\",\"2017\"]],\"range_padding\":0.1},\"id\":\"4365\",\"type\":\"FactorRange\"},{\"attributes\":{},\"id\":\"4374\",\"type\":\"LinearScale\"},{\"attributes\":{\"axis\":{\"id\":\"4376\"},\"coordinates\":null,\"grid_line_color\":null,\"group\":null,\"ticker\":null},\"id\":\"4378\",\"type\":\"Grid\"},{\"attributes\":{\"fill_alpha\":{\"value\":0.1},\"fill_color\":{\"value\":\"#1f77b4\"},\"hatch_alpha\":{\"value\":0.1},\"line_alpha\":{\"value\":0.1},\"line_color\":{\"value\":\"#1f77b4\"},\"top\":{\"field\":\"counts\"},\"width\":{\"value\":0.9},\"x\":{\"field\":\"x\"}},\"id\":\"4386\",\"type\":\"VBar\"},{\"attributes\":{\"start\":0},\"id\":\"4370\",\"type\":\"DataRange1d\"},{\"attributes\":{\"coordinates\":null,\"formatter\":{\"id\":\"4585\"},\"group\":null,\"major_label_orientation\":1,\"major_label_policy\":{\"id\":\"4586\"},\"ticker\":{\"id\":\"4377\"}},\"id\":\"4376\",\"type\":\"CategoricalAxis\"},{\"attributes\":{\"coordinates\":null,\"formatter\":{\"id\":\"4582\"},\"group\":null,\"major_label_policy\":{\"id\":\"4583\"},\"ticker\":{\"id\":\"4380\"}},\"id\":\"4379\",\"type\":\"LinearAxis\"},{\"attributes\":{\"coordinates\":null,\"group\":null,\"text\":\"Fruit Counts by Year\"},\"id\":\"4367\",\"type\":\"Title\"},{\"attributes\":{},\"id\":\"4383\",\"type\":\"Toolbar\"},{\"attributes\":{},\"id\":\"4372\",\"type\":\"CategoricalScale\"},{\"attributes\":{},\"id\":\"4377\",\"type\":\"CategoricalTicker\"},{\"attributes\":{\"axis\":{\"id\":\"4379\"},\"coordinates\":null,\"dimension\":1,\"group\":null,\"ticker\":null},\"id\":\"4382\",\"type\":\"Grid\"},{\"attributes\":{},\"id\":\"4582\",\"type\":\"BasicTickFormatter\"},{\"attributes\":{},\"id\":\"4380\",\"type\":\"BasicTicker\"},{\"attributes\":{\"fill_alpha\":{\"value\":0.2},\"fill_color\":{\"value\":\"#1f77b4\"},\"hatch_alpha\":{\"value\":0.2},\"line_alpha\":{\"value\":0.2},\"line_color\":{\"value\":\"#1f77b4\"},\"top\":{\"field\":\"counts\"},\"width\":{\"value\":0.9},\"x\":{\"field\":\"x\"}},\"id\":\"4387\",\"type\":\"VBar\"},{\"attributes\":{\"source\":{\"id\":\"4364\"}},\"id\":\"4389\",\"type\":\"CDSView\"},{\"attributes\":{\"coordinates\":null,\"data_source\":{\"id\":\"4364\"},\"glyph\":{\"id\":\"4385\"},\"group\":null,\"hover_glyph\":null,\"muted_glyph\":{\"id\":\"4387\"},\"nonselection_glyph\":{\"id\":\"4386\"},\"view\":{\"id\":\"4389\"}},\"id\":\"4388\",\"type\":\"GlyphRenderer\"},{\"attributes\":{\"data\":{\"counts\":[2,5,3,1,3,2,4,3,4,3,2,4,2,4,5,4,6,3],\"x\":[[\"Apples\",\"2015\"],[\"Apples\",\"2016\"],[\"Apples\",\"2017\"],[\"Pears\",\"2015\"],[\"Pears\",\"2016\"],[\"Pears\",\"2017\"],[\"Nectarines\",\"2015\"],[\"Nectarines\",\"2016\"],[\"Nectarines\",\"2017\"],[\"Plums\",\"2015\"],[\"Plums\",\"2016\"],[\"Plums\",\"2017\"],[\"Grapes\",\"2015\"],[\"Grapes\",\"2016\"],[\"Grapes\",\"2017\"],[\"Strawberries\",\"2015\"],[\"Strawberries\",\"2016\"],[\"Strawberries\",\"2017\"]]},\"selected\":{\"id\":\"4588\"},\"selection_policy\":{\"id\":\"4587\"}},\"id\":\"4364\",\"type\":\"ColumnDataSource\"},{\"attributes\":{},\"id\":\"4588\",\"type\":\"Selection\"},{\"attributes\":{},\"id\":\"4585\",\"type\":\"CategoricalTickFormatter\"},{\"attributes\":{},\"id\":\"4583\",\"type\":\"AllLabels\"},{\"attributes\":{},\"id\":\"4586\",\"type\":\"AllLabels\"}],\"root_ids\":[\"4366\"]},\"title\":\"Bokeh Application\",\"version\":\"2.4.3\"}};\n",
       "  const render_items = [{\"docid\":\"f0ea7b84-9ff1-44b9-9e73-ddde10405aa2\",\"root_ids\":[\"4366\"],\"roots\":{\"4366\":\"54ee05ba-187d-4abb-be42-593a89cc6a8c\"}}];\n",
       "  root.Bokeh.embed.embed_items_notebook(docs_json, render_items);\n",
       "  }\n",
       "  if (root.Bokeh !== undefined) {\n",
       "    embed_document(root);\n",
       "  } else {\n",
       "    let attempts = 0;\n",
       "    const timer = setInterval(function(root) {\n",
       "      if (root.Bokeh !== undefined) {\n",
       "        clearInterval(timer);\n",
       "        embed_document(root);\n",
       "      } else {\n",
       "        attempts++;\n",
       "        if (attempts > 100) {\n",
       "          clearInterval(timer);\n",
       "          console.log(\"Bokeh: ERROR: Unable to run BokehJS code because BokehJS library is missing\");\n",
       "        }\n",
       "      }\n",
       "    }, 10, root)\n",
       "  }\n",
       "})(window);"
      ],
      "application/vnd.bokehjs_exec.v0+json": ""
     },
     "metadata": {
      "application/vnd.bokehjs_exec.v0+json": {
       "id": "4366"
      }
     },
     "output_type": "display_data"
    }
   ],
   "source": [
    "from bokeh.models import ColumnDataSource, FactorRange\n",
    "from bokeh.plotting import figure\n",
    "\n",
    "fruits = ['Apples', 'Pears', 'Nectarines', 'Plums', 'Grapes', 'Strawberries']\n",
    "years = ['2015', '2016', '2017']\n",
    "\n",
    "data = {'fruits' : fruits,\n",
    "        '2015'   : [2, 1, 4, 3, 2, 4],\n",
    "        '2016'   : [5, 3, 3, 2, 4, 6],\n",
    "        '2017'   : [3, 2, 4, 4, 5, 3]}\n",
    "\n",
    "# this creates [ (\"Apples\", \"2015\"), (\"Apples\", \"2016\"), (\"Apples\", \"2017\"), (\"Pears\", \"2015), ... ]\n",
    "x = [ (fruit, year) for fruit in fruits for year in years ]\n",
    "counts = sum(zip(data['2015'], data['2016'], data['2017']), ()) # like an hstack in numpy\n",
    "\n",
    "source = ColumnDataSource(data=dict(x=x, counts=counts))\n",
    "\n",
    "p = figure(x_range=FactorRange(*x), plot_height=250, title=\"Fruit Counts by Year\",\n",
    "           toolbar_location=None, tools=\"\")\n",
    "\n",
    "p.vbar(x='x', top='counts', width=0.9, source=source)\n",
    "\n",
    "p.y_range.start = 0\n",
    "p.x_range.range_padding = 0.1\n",
    "p.xaxis.major_label_orientation = 1\n",
    "p.xgrid.grid_line_color = None\n",
    "\n",
    "show(p)"
   ]
  },
  {
   "cell_type": "markdown",
   "metadata": {},
   "source": [
    "We can also apply a color mapping, similar to the earlier example. To obtain same grouped bar plot of fruits data as above, except with the bars shaded by the year, changethe vbar function call to use `factor_cmap` for the fill_color:"
   ]
  },
  {
   "cell_type": "code",
   "execution_count": 29,
   "metadata": {},
   "outputs": [
    {
     "data": {
      "text/html": [
       "\n",
       "  <div class=\"bk-root\" id=\"42a8bd18-bd9b-4bd2-862b-aa2bd34343cc\" data-root-id=\"4366\"></div>\n"
      ]
     },
     "metadata": {},
     "output_type": "display_data"
    },
    {
     "data": {
      "application/javascript": [
       "(function(root) {\n",
       "  function embed_document(root) {\n",
       "  const docs_json = {\"dec1a565-8da6-470d-8f5c-ca1fa9c607b6\":{\"defs\":[],\"roots\":{\"references\":[{\"attributes\":{\"below\":[{\"id\":\"4376\"}],\"center\":[{\"id\":\"4378\"},{\"id\":\"4382\"}],\"height\":250,\"left\":[{\"id\":\"4379\"}],\"renderers\":[{\"id\":\"4388\"},{\"id\":\"4639\"}],\"title\":{\"id\":\"4367\"},\"toolbar\":{\"id\":\"4383\"},\"toolbar_location\":null,\"x_range\":{\"id\":\"4365\"},\"x_scale\":{\"id\":\"4372\"},\"y_range\":{\"id\":\"4370\"},\"y_scale\":{\"id\":\"4374\"}},\"id\":\"4366\",\"subtype\":\"Figure\",\"type\":\"Plot\"},{\"attributes\":{\"fill_color\":{\"value\":\"#1f77b4\"},\"line_color\":{\"value\":\"#1f77b4\"},\"top\":{\"field\":\"counts\"},\"width\":{\"value\":0.9},\"x\":{\"field\":\"x\"}},\"id\":\"4385\",\"type\":\"VBar\"},{\"attributes\":{},\"id\":\"4587\",\"type\":\"UnionRenderers\"},{\"attributes\":{\"factors\":[[\"Apples\",\"2015\"],[\"Apples\",\"2016\"],[\"Apples\",\"2017\"],[\"Pears\",\"2015\"],[\"Pears\",\"2016\"],[\"Pears\",\"2017\"],[\"Nectarines\",\"2015\"],[\"Nectarines\",\"2016\"],[\"Nectarines\",\"2017\"],[\"Plums\",\"2015\"],[\"Plums\",\"2016\"],[\"Plums\",\"2017\"],[\"Grapes\",\"2015\"],[\"Grapes\",\"2016\"],[\"Grapes\",\"2017\"],[\"Strawberries\",\"2015\"],[\"Strawberries\",\"2016\"],[\"Strawberries\",\"2017\"]],\"range_padding\":0.1},\"id\":\"4365\",\"type\":\"FactorRange\"},{\"attributes\":{\"source\":{\"id\":\"4364\"}},\"id\":\"4640\",\"type\":\"CDSView\"},{\"attributes\":{},\"id\":\"4374\",\"type\":\"LinearScale\"},{\"attributes\":{\"fill_color\":{\"field\":\"x\",\"transform\":{\"id\":\"4634\"}},\"line_color\":{\"value\":\"white\"},\"top\":{\"field\":\"counts\"},\"width\":{\"value\":0.9},\"x\":{\"field\":\"x\"}},\"id\":\"4636\",\"type\":\"VBar\"},{\"attributes\":{\"axis\":{\"id\":\"4376\"},\"coordinates\":null,\"grid_line_color\":null,\"group\":null,\"ticker\":null},\"id\":\"4378\",\"type\":\"Grid\"},{\"attributes\":{\"end\":2,\"factors\":[\"2015\",\"2016\",\"2017\"],\"palette\":[\"#5e4fa2\",\"#3288bd\",\"#66c2a5\",\"#abdda4\",\"#e6f598\",\"#fee08b\",\"#fdae61\",\"#f46d43\",\"#d53e4f\",\"#9e0142\"],\"start\":1},\"id\":\"4634\",\"type\":\"CategoricalColorMapper\"},{\"attributes\":{\"fill_alpha\":{\"value\":0.1},\"fill_color\":{\"value\":\"#1f77b4\"},\"hatch_alpha\":{\"value\":0.1},\"line_alpha\":{\"value\":0.1},\"line_color\":{\"value\":\"#1f77b4\"},\"top\":{\"field\":\"counts\"},\"width\":{\"value\":0.9},\"x\":{\"field\":\"x\"}},\"id\":\"4386\",\"type\":\"VBar\"},{\"attributes\":{\"start\":0},\"id\":\"4370\",\"type\":\"DataRange1d\"},{\"attributes\":{\"fill_alpha\":{\"value\":0.2},\"fill_color\":{\"field\":\"x\",\"transform\":{\"id\":\"4634\"}},\"hatch_alpha\":{\"value\":0.2},\"line_alpha\":{\"value\":0.2},\"line_color\":{\"value\":\"white\"},\"top\":{\"field\":\"counts\"},\"width\":{\"value\":0.9},\"x\":{\"field\":\"x\"}},\"id\":\"4638\",\"type\":\"VBar\"},{\"attributes\":{\"coordinates\":null,\"formatter\":{\"id\":\"4585\"},\"group\":null,\"major_label_orientation\":1,\"major_label_policy\":{\"id\":\"4586\"},\"ticker\":{\"id\":\"4377\"}},\"id\":\"4376\",\"type\":\"CategoricalAxis\"},{\"attributes\":{\"coordinates\":null,\"formatter\":{\"id\":\"4582\"},\"group\":null,\"major_label_policy\":{\"id\":\"4583\"},\"ticker\":{\"id\":\"4380\"}},\"id\":\"4379\",\"type\":\"LinearAxis\"},{\"attributes\":{\"coordinates\":null,\"data_source\":{\"id\":\"4364\"},\"glyph\":{\"id\":\"4636\"},\"group\":null,\"hover_glyph\":null,\"muted_glyph\":{\"id\":\"4638\"},\"nonselection_glyph\":{\"id\":\"4637\"},\"view\":{\"id\":\"4640\"}},\"id\":\"4639\",\"type\":\"GlyphRenderer\"},{\"attributes\":{\"coordinates\":null,\"group\":null,\"text\":\"Fruit Counts by Year\"},\"id\":\"4367\",\"type\":\"Title\"},{\"attributes\":{},\"id\":\"4383\",\"type\":\"Toolbar\"},{\"attributes\":{},\"id\":\"4372\",\"type\":\"CategoricalScale\"},{\"attributes\":{},\"id\":\"4377\",\"type\":\"CategoricalTicker\"},{\"attributes\":{\"axis\":{\"id\":\"4379\"},\"coordinates\":null,\"dimension\":1,\"group\":null,\"ticker\":null},\"id\":\"4382\",\"type\":\"Grid\"},{\"attributes\":{},\"id\":\"4582\",\"type\":\"BasicTickFormatter\"},{\"attributes\":{},\"id\":\"4380\",\"type\":\"BasicTicker\"},{\"attributes\":{\"fill_alpha\":{\"value\":0.1},\"fill_color\":{\"field\":\"x\",\"transform\":{\"id\":\"4634\"}},\"hatch_alpha\":{\"value\":0.1},\"line_alpha\":{\"value\":0.1},\"line_color\":{\"value\":\"white\"},\"top\":{\"field\":\"counts\"},\"width\":{\"value\":0.9},\"x\":{\"field\":\"x\"}},\"id\":\"4637\",\"type\":\"VBar\"},{\"attributes\":{\"fill_alpha\":{\"value\":0.2},\"fill_color\":{\"value\":\"#1f77b4\"},\"hatch_alpha\":{\"value\":0.2},\"line_alpha\":{\"value\":0.2},\"line_color\":{\"value\":\"#1f77b4\"},\"top\":{\"field\":\"counts\"},\"width\":{\"value\":0.9},\"x\":{\"field\":\"x\"}},\"id\":\"4387\",\"type\":\"VBar\"},{\"attributes\":{\"source\":{\"id\":\"4364\"}},\"id\":\"4389\",\"type\":\"CDSView\"},{\"attributes\":{\"coordinates\":null,\"data_source\":{\"id\":\"4364\"},\"glyph\":{\"id\":\"4385\"},\"group\":null,\"hover_glyph\":null,\"muted_glyph\":{\"id\":\"4387\"},\"nonselection_glyph\":{\"id\":\"4386\"},\"view\":{\"id\":\"4389\"}},\"id\":\"4388\",\"type\":\"GlyphRenderer\"},{\"attributes\":{\"data\":{\"counts\":[2,5,3,1,3,2,4,3,4,3,2,4,2,4,5,4,6,3],\"x\":[[\"Apples\",\"2015\"],[\"Apples\",\"2016\"],[\"Apples\",\"2017\"],[\"Pears\",\"2015\"],[\"Pears\",\"2016\"],[\"Pears\",\"2017\"],[\"Nectarines\",\"2015\"],[\"Nectarines\",\"2016\"],[\"Nectarines\",\"2017\"],[\"Plums\",\"2015\"],[\"Plums\",\"2016\"],[\"Plums\",\"2017\"],[\"Grapes\",\"2015\"],[\"Grapes\",\"2016\"],[\"Grapes\",\"2017\"],[\"Strawberries\",\"2015\"],[\"Strawberries\",\"2016\"],[\"Strawberries\",\"2017\"]]},\"selected\":{\"id\":\"4588\"},\"selection_policy\":{\"id\":\"4587\"}},\"id\":\"4364\",\"type\":\"ColumnDataSource\"},{\"attributes\":{},\"id\":\"4588\",\"type\":\"Selection\"},{\"attributes\":{},\"id\":\"4585\",\"type\":\"CategoricalTickFormatter\"},{\"attributes\":{},\"id\":\"4583\",\"type\":\"AllLabels\"},{\"attributes\":{},\"id\":\"4586\",\"type\":\"AllLabels\"}],\"root_ids\":[\"4366\"]},\"title\":\"Bokeh Application\",\"version\":\"2.4.3\"}};\n",
       "  const render_items = [{\"docid\":\"dec1a565-8da6-470d-8f5c-ca1fa9c607b6\",\"root_ids\":[\"4366\"],\"roots\":{\"4366\":\"42a8bd18-bd9b-4bd2-862b-aa2bd34343cc\"}}];\n",
       "  root.Bokeh.embed.embed_items_notebook(docs_json, render_items);\n",
       "  }\n",
       "  if (root.Bokeh !== undefined) {\n",
       "    embed_document(root);\n",
       "  } else {\n",
       "    let attempts = 0;\n",
       "    const timer = setInterval(function(root) {\n",
       "      if (root.Bokeh !== undefined) {\n",
       "        clearInterval(timer);\n",
       "        embed_document(root);\n",
       "      } else {\n",
       "        attempts++;\n",
       "        if (attempts > 100) {\n",
       "          clearInterval(timer);\n",
       "          console.log(\"Bokeh: ERROR: Unable to run BokehJS code because BokehJS library is missing\");\n",
       "        }\n",
       "      }\n",
       "    }, 10, root)\n",
       "  }\n",
       "})(window);"
      ],
      "application/vnd.bokehjs_exec.v0+json": ""
     },
     "metadata": {
      "application/vnd.bokehjs_exec.v0+json": {
       "id": "4366"
      }
     },
     "output_type": "display_data"
    }
   ],
   "source": [
    "from bokeh.transform import factor_cmap\n",
    "from bokeh.palettes import Spectral10\n",
    "\n",
    "# use the palette to colormap based on the the x[1:2] values\n",
    "p.vbar(x='x', top='counts', width=0.9, source=source, line_color=\"white\",\n",
    "       fill_color=factor_cmap('x', palette=Spectral10, factors=years, start=1, end=2))\n",
    "show(p)"
   ]
  },
  {
   "cell_type": "markdown",
   "metadata": {},
   "source": [
    "←←←←←←←←←←←←←←←←←←←←←←←←←←←←←←←←←←←←← stopped here"
   ]
  },
  {
   "cell_type": "markdown",
   "metadata": {},
   "source": [
    "Another method for achieving grouped bars is to explicitly specify a visual displacement for the bars. Such a visual offset is also referred to as a dodge.\n",
    "\n",
    "In this scenario, our data is not “tidy”. Instead a single table with rows indexed by factors (fruit, year), we have separate series for each year. We can plot all the year series using separate calls to vbar but since every bar in each group has the same fruit factor, the bars would overlap visually. We can prevent this overlap and distinguish the bars visually by using the dodge() function to provide an offset for each different call to vbar:"
   ]
  },
  {
   "cell_type": "code",
   "execution_count": null,
   "metadata": {},
   "outputs": [],
   "source": [
    "from bokeh.core.properties import value\n",
    "from bokeh.models import ColumnDataSource\n",
    "from bokeh.transform import dodge\n",
    "\n",
    "fruits = ['Apples', 'Pears', 'Nectarines', 'Plums', 'Grapes', 'Strawberries']\n",
    "years = ['2015', '2016', '2017']\n",
    "\n",
    "data = {'fruits' : fruits,\n",
    "        '2015'   : [2, 1, 4, 3, 2, 4],\n",
    "        '2016'   : [5, 3, 3, 2, 4, 6],\n",
    "        '2017'   : [3, 2, 4, 4, 5, 3]}\n",
    "\n",
    "source = ColumnDataSource(data=data)\n",
    "\n",
    "p = figure(x_range=fruits, y_range=(0, 10), plot_height=250, title=\"Fruit Counts by Year\",\n",
    "           toolbar_location=None, tools=\"\")\n",
    "\n",
    "p.vbar(x=dodge('fruits', -0.25, range=p.x_range), top='2015', width=0.2, source=source,\n",
    "       color=\"#c9d9d3\", legend_label=\"2015\")\n",
    "\n",
    "p.vbar(x=dodge('fruits',  0.0,  range=p.x_range), top='2016', width=0.2, source=source,\n",
    "       color=\"#718dbf\", legend_label=\"2016\")\n",
    "\n",
    "p.vbar(x=dodge('fruits',  0.25, range=p.x_range), top='2017', width=0.2, source=source,\n",
    "       color=\"#e84d60\", legend_label=\"2017\")\n",
    "\n",
    "p.x_range.range_padding = 0.1\n",
    "p.xgrid.grid_line_color = None\n",
    "p.legend.location = \"top_left\"\n",
    "p.legend.orientation = \"horizontal\"\n",
    "\n",
    "show(p)"
   ]
  },
  {
   "cell_type": "markdown",
   "metadata": {},
   "source": [
    "Another common operation or bar charts is to stack bars on top of one another. Bokeh makes this easy to do with the specialized hbar_stack() and vbar_stack() functions. The example below shows the fruits data from above, but with the bars for each fruit type stacked instead of grouped:"
   ]
  },
  {
   "cell_type": "code",
   "execution_count": null,
   "metadata": {},
   "outputs": [],
   "source": [
    "fruits = ['Apples', 'Pears', 'Nectarines', 'Plums', 'Grapes', 'Strawberries']\n",
    "years = [\"2015\", \"2016\", \"2017\"]\n",
    "colors = [\"#34A212\", \"#D3F543\", \"#98F5FF\"]\n",
    "\n",
    "data = {'fruits' : fruits,\n",
    "        '2015'   : [2, 1, 4, 3, 2, 4],\n",
    "        '2016'   : [5, 3, 4, 2, 4, 6],\n",
    "        '2017'   : [3, 2, 4, 4, 5, 3]}\n",
    "\n",
    "source = ColumnDataSource(data=data)\n",
    "\n",
    "p = figure(x_range=fruits, plot_height=250, title=\"Fruit Counts by Year\",\n",
    "           toolbar_location=None, tools=\"\")\n",
    "\n",
    "p.vbar_stack(years, x='fruits', width=0.9, color=colors, source=source,\n",
    "             legend_label=[x for x in years])\n",
    "\n",
    "p.y_range.start = 0\n",
    "p.x_range.range_padding = 0.1\n",
    "p.xgrid.grid_line_color = None\n",
    "p.axis.minor_tick_line_color = None\n",
    "p.outline_line_color = None\n",
    "p.legend.location = \"top_left\"\n",
    "p.legend.orientation = \"horizontal\"\n",
    "\n",
    "show(p)"
   ]
  },
  {
   "cell_type": "markdown",
   "metadata": {},
   "source": [
    "Sometimes we may want to stack bars that have both positive and negative extents. The example below shows how it is possible to create such a stacked bar chart that is split by positive and negative values:"
   ]
  },
  {
   "cell_type": "code",
   "execution_count": null,
   "metadata": {},
   "outputs": [],
   "source": [
    "from bokeh.palettes import GnBu3, OrRd3\n",
    "\n",
    "fruits = ['Apples', 'Pears', 'Nectarines', 'Plums', 'Grapes', 'Strawberries']\n",
    "years = [\"2015\", \"2016\", \"2017\"]\n",
    "\n",
    "exports = {'fruits' : fruits,\n",
    "           '2015'   : [2, 1, 4, 3, 2, 4],\n",
    "           '2016'   : [5, 3, 4, 2, 4, 6],\n",
    "           '2017'   : [3, 2, 4, 4, 5, 3]}\n",
    "imports = {'fruits' : fruits,\n",
    "           '2015'   : [-1, 0, -1, -3, -2, -1],\n",
    "           '2016'   : [-2, -1, -3, -1, -2, -2],\n",
    "           '2017'   : [-1, -2, -1, 0, -2, -2]}\n",
    "\n",
    "p = figure(y_range=fruits, plot_height=250, x_range=(-16, 16), title=\"Fruit import/export, by year\",\n",
    "           toolbar_location=None)\n",
    "\n",
    "p.hbar_stack(years, y='fruits', height=0.9, color=GnBu3, source=ColumnDataSource(exports),\n",
    "             legend_label=[\"%s exports\" % x for x in years])\n",
    "\n",
    "p.hbar_stack(years, y='fruits', height=0.9, color=OrRd3, source=ColumnDataSource(imports),\n",
    "             legend_label=[\"%s imports\" % x for x in years])\n",
    "\n",
    "p.y_range.range_padding = 0.1\n",
    "p.ygrid.grid_line_color = None\n",
    "p.legend.location = \"top_left\"\n",
    "p.axis.minor_tick_line_color = None\n",
    "p.outline_line_color = None\n",
    "\n",
    "show(p)"
   ]
  },
  {
   "cell_type": "markdown",
   "metadata": {},
   "source": [
    "## Mixing Categorical Levels\n",
    "\n",
    "If you have created a range with nested categories as above, it is possible to plot glyphs using only the \"outer\" categories, if desired. The plot below shows monthly values grouped by quarter as bars. The data for these are in the famliar format:\n",
    "\n",
    "    factors = [(\"Q1\", \"jan\"), (\"Q1\", \"feb\"), (\"Q1\", \"mar\"), ....]\n",
    "\n",
    "The plot also overlays a line representing average quarterly values, and this is accomplished by using only the \"quarter\" part of each nexted category:\n",
    "\n",
    "    p.line(x=[\"Q1\", \"Q2\", \"Q3\", \"Q4\"], y=....)"
   ]
  },
  {
   "cell_type": "code",
   "execution_count": null,
   "metadata": {},
   "outputs": [],
   "source": [
    "factors = [(\"Q1\", \"jan\"), (\"Q1\", \"feb\"), (\"Q1\", \"mar\"),\n",
    "           (\"Q2\", \"apr\"), (\"Q2\", \"may\"), (\"Q2\", \"jun\"),\n",
    "           (\"Q3\", \"jul\"), (\"Q3\", \"aug\"), (\"Q3\", \"sep\"),\n",
    "           (\"Q4\", \"oct\"), (\"Q4\", \"nov\"), (\"Q4\", \"dec\")]\n",
    "\n",
    "p = figure(x_range=FactorRange(*factors), plot_height=250)\n",
    "\n",
    "x = [ 10, 12, 16, 9, 10, 8, 12, 13, 14, 14, 12, 16 ]\n",
    "p.vbar(x=factors, top=x, width=0.9, alpha=0.5)\n",
    "\n",
    "qs, aves = [\"Q1\", \"Q2\", \"Q3\", \"Q4\"], [12, 9, 13, 14]\n",
    "p.line(x=qs, y=aves, color=\"red\", line_width=3)\n",
    "p.circle(x=qs, y=aves, line_color=\"red\", fill_color=\"white\", size=10)\n",
    "\n",
    "p.y_range.start = 0\n",
    "p.x_range.range_padding = 0.1\n",
    "p.xgrid.grid_line_color = None\n",
    "\n",
    "show(p)"
   ]
  },
  {
   "cell_type": "markdown",
   "metadata": {},
   "source": [
    "## Using Pandas `GroupBy`\n",
    "\n",
    "We may want to make charts based on the results of \"group by\" operations. Bokeh can utilize Pandas `GroupBy` objects directly to make this simpler. Let's take a look at how Bokeh deals with `GroupBy` objects by examining the \"cars\" data set."
   ]
  },
  {
   "cell_type": "code",
   "execution_count": null,
   "metadata": {},
   "outputs": [],
   "source": [
    "from bokeh.sampledata.autompg import autompg_clean as df\n",
    "\n",
    "df.cyl = df.cyl.astype(str)\n",
    "df.head()"
   ]
  },
  {
   "cell_type": "markdown",
   "metadata": {},
   "source": [
    "Suppose we would like to display some values grouped according to `\"cyl\"`. If we create `df.groupby(('cyl'))` then call `group.describe()` we can see that Pandas automatically computes various statistics for each group. "
   ]
  },
  {
   "cell_type": "code",
   "execution_count": null,
   "metadata": {},
   "outputs": [],
   "source": [
    "group = df.groupby(('cyl'))\n",
    "\n",
    "group.describe()"
   ]
  },
  {
   "cell_type": "markdown",
   "metadata": {},
   "source": [
    "Bokeh allows us to create a `ColumnDataSource` directly from Pandas `GroupBy` objects, and when this happens, the data source is automatically filled with the summary values from `group.desribe()`. Observe the column names below, which correspond to the output above."
   ]
  },
  {
   "cell_type": "code",
   "execution_count": null,
   "metadata": {},
   "outputs": [],
   "source": [
    "source = ColumnDataSource(group)\n",
    "\n",
    "\",\".join(source.column_names)"
   ]
  },
  {
   "cell_type": "markdown",
   "metadata": {},
   "source": [
    "Knowing these column names, we can immediately create bar charts based on Pandas `GroupBy` objects. The example below plots the aveage MPG per cylinder, i.e. columns `\"mpg_mean\"` vs `\"cyl\"`"
   ]
  },
  {
   "cell_type": "code",
   "execution_count": null,
   "metadata": {},
   "outputs": [],
   "source": [
    "from bokeh.palettes import Spectral5\n",
    "\n",
    "cyl_cmap = factor_cmap('cyl', palette=Spectral5, factors=sorted(df.cyl.unique()))\n",
    "\n",
    "p = figure(plot_height=350, x_range=group)\n",
    "p.vbar(x='cyl', top='mpg_mean', width=1, line_color=\"white\", \n",
    "       fill_color=cyl_cmap, source=source)\n",
    "\n",
    "p.xgrid.grid_line_color = None\n",
    "p.xaxis.axis_label = \"number of cylinders\"\n",
    "p.yaxis.axis_label = \"Mean MPG\"\n",
    "p.y_range.start = 0\n",
    "\n",
    "show(p)"
   ]
  },
  {
   "cell_type": "markdown",
   "metadata": {},
   "source": [
    "## Label\n",
    "\n",
    "The `Label` annotation allows you to easily attach single text labels to plots. The position and text to display are configured as `x`, `y`, and `text`:\n",
    "\n",
    "```python\n",
    "Label(x=10, y=5, text=\"Some Label\")\n",
    "```\n",
    "\n",
    "By default the units are in \"data space\" but `x_units` and `y_units` maybe set to `\"screen\"` to position the label relative to the canvas. Labels can also accept `x_offset` and `y_offset` to offset the final position from `x` and `y` by a given screen space distance. \n",
    "\n",
    "`Label` objects also have standard text, line (`border_line`) and fill (`background_fill`) properties. The line and fill properties apply to a bounding box around the text:\n",
    "\n",
    "```python\n",
    "Label(x=10, y=5, text=\"Some Label\", text_font_size=\"12pt\", \n",
    "      border_line_color=\"red\", background_fill_color=\"blue\")\n",
    "```"
   ]
  },
  {
   "cell_type": "code",
   "execution_count": null,
   "metadata": {},
   "outputs": [],
   "source": [
    "from bokeh.models.annotations import Label\n",
    "from bokeh.plotting import figure\n",
    "\n",
    "p = figure(x_range=(0,10), y_range=(0,10))\n",
    "p.circle([2, 5, 8], [4, 7, 6], color=\"olive\", size=10)\n",
    "\n",
    "label = Label(x=5, y=7, x_offset=12, text=\"Second Point\", text_baseline=\"middle\")\n",
    "p.add_layout(label)\n",
    "\n",
    "show(p)"
   ]
  },
  {
   "cell_type": "markdown",
   "metadata": {},
   "source": [
    "## LabelSet\n",
    "\n",
    "The `LabelSet` annotation allows you to create many labels at once, for instance if you want to label an entire set of scatter markers. They are similar to `Label`, but they can also \n",
    "accept a `ColumnDataSource` as the `source` property, and then `x` and `y` may refer to columns in the data source, e.g. `x=\"col2\"` (but may also still be fixed values, e.g. `x=10`)."
   ]
  },
  {
   "cell_type": "code",
   "execution_count": null,
   "metadata": {},
   "outputs": [],
   "source": [
    "from bokeh.plotting import figure\n",
    "from bokeh.models import ColumnDataSource, LabelSet\n",
    "\n",
    "\n",
    "source = ColumnDataSource(data=dict(\n",
    "    temp=[166, 171, 172, 168, 174, 162],\n",
    "    pressure=[165, 189, 220, 141, 260, 174],\n",
    "    names=['A', 'B', 'C', 'D', 'E', 'F']))\n",
    "\n",
    "p = figure(x_range=(160, 175))\n",
    "p.scatter(x='temp', y='pressure', size=8, source=source)\n",
    "p.xaxis.axis_label = 'Temperature (C)'\n",
    "p.yaxis.axis_label = 'Pressure (lbs)'\n",
    "\n",
    "labels = LabelSet(x='temp', y='pressure', text='names', level='glyph',\n",
    "                  x_offset=5, y_offset=5, source=source, render_mode='canvas')\n",
    "\n",
    "\n",
    "p.add_layout(labels)\n",
    "\n",
    "show(p)"
   ]
  },
  {
   "cell_type": "markdown",
   "metadata": {},
   "source": [
    "## Legends\n",
    "\n",
    "When plots have multiple glyphs, it is desirable to include a legend to help users interpret what they see. Bokeh can generate legends easily based on the glyphs that are added. "
   ]
  },
  {
   "cell_type": "markdown",
   "metadata": {},
   "source": [
    "### Simple Legends\n",
    "\n",
    "In the simplest case, you can simply pass a string as the `legend` argument to a glyph function:\n",
    "```python\n",
    "p.circle(x, y, legend=\"sin(x)\")\n",
    "``` \n",
    "In this case Bokeh will automatically create a legend that shows a representation of that glyph, labeled by the test you provided. A full example is below."
   ]
  },
  {
   "cell_type": "code",
   "execution_count": null,
   "metadata": {},
   "outputs": [],
   "source": [
    "import numpy as np\n",
    "\n",
    "x = np.linspace(0, 4*np.pi, 100)\n",
    "y = np.sin(x)\n",
    "\n",
    "p = figure(height=400)\n",
    "\n",
    "p.circle(x, y, legend_label=\"sin(x)\")\n",
    "p.line(x, 2*y, legend_label=\"2*sin(x)\", line_dash=[4, 4], line_color=\"orange\", line_width=2)\n",
    "\n",
    "show(p)"
   ]
  },
  {
   "cell_type": "markdown",
   "metadata": {},
   "source": [
    "### Compound legends\n",
    "\n",
    "In the example above, we provided a different legend label to each glyph method. Sometimes, two (or more) different glyphs are used with a single data source. In this case, you can make compound legends by specifying the same legend argument to multiple glyph methods when creating a plot, for example, if you plot a `sin` curve with both a line and a marker, you may give them the same label to cause them to show up together in the legend:\n",
    "\n",
    "```python\n",
    "p.circle(x, y, legend=\"sin(x)\")\n",
    "p.line(x, y, legend=\"sin(x)\", line_dash=[4, 4], line_color=\"orange\", line_width=2)\n",
    "```\n"
   ]
  },
  {
   "cell_type": "markdown",
   "metadata": {},
   "source": [
    "## Color bars\n",
    "\n",
    "Color bars are especially useful if we vary the color of a glyph according to some color mapping. Bokeh color bars are configured with a color mappewr and added to plots with the `add_layout` method:\n",
    "```python\n",
    "color_mapper = LinearColorMapper(palette=\"Viridis256\", low=data_low, high=data_high)\n",
    "color_bar = ColorBar(color_mapper=color_mapper, location=(0,0))\n",
    "p.add_layout(color_bar, 'right')\n",
    "```\n",
    "The example below shows a complete example that also uses the color mapper to transform the glyph color."
   ]
  },
  {
   "cell_type": "code",
   "execution_count": null,
   "metadata": {},
   "outputs": [],
   "source": [
    "from bokeh.sampledata.autompg import autompg\n",
    "from bokeh.models import LinearColorMapper, ColorBar\n",
    "from bokeh.transform import transform\n",
    "\n",
    "source = ColumnDataSource(autompg)\n",
    "color_mapper = LinearColorMapper(palette=\"Viridis256\", low=autompg.weight.min(), high=autompg.weight.max())\n",
    "\n",
    "p = figure(x_axis_label='Horsepower', y_axis_label='MPG', tools='', toolbar_location=None)\n",
    "p.circle(x='hp', y='mpg', color=transform('weight', color_mapper), size=20, alpha=0.6, source=autompg)\n",
    "\n",
    "color_bar = ColorBar(color_mapper=color_mapper, label_standoff=12, location=(0,0), title='Weight')\n",
    "p.add_layout(color_bar, 'right')\n",
    "\n",
    "show(p)"
   ]
  },
  {
   "cell_type": "markdown",
   "metadata": {},
   "source": [
    "# Configuring tools"
   ]
  },
  {
   "cell_type": "code",
   "execution_count": null,
   "metadata": {},
   "outputs": [],
   "source": [
    "# create a new plot with the toolbar below\n",
    "p = figure(plot_width=400, plot_height=400,\n",
    "           title=None, toolbar_location=\"below\")\n",
    "\n",
    "p.circle([1, 2, 3, 4, 5], [2, 5, 8, 2, 7], size=10)\n",
    "\n",
    "show(p)"
   ]
  },
  {
   "cell_type": "markdown",
   "metadata": {},
   "source": [
    "### Specifying tools\n",
    "In `bokeh` you can specify wich tools include within the toolbar and which one must be active at the plot render\n",
    "\n",
    "The Tools can be supplied conveniently with a comma-separate string containing tool shortcut names:\n",
    "\n",
    "```python\n",
    "tools = \"pan,wheel_zoom,box_zoom,reset\"\n",
    "```\n",
    "However, this method does not allow setting properties of the tools.\n",
    "\n",
    "Finally, it is also always possible to add new tools to a plot by passing a tool object to the add_tools method of a plot. This can also be done in conjunction with the tools keyword described above:\n",
    "```python\n",
    "from bokeh.models import BoxSelectTool\n",
    "\n",
    "plot = figure(tools=\"pan,wheel_zoom,box_zoom,reset\")\n",
    "plot.add_tools(BoxSelectTool(dimensions=[\"width\"]))\n",
    "```"
   ]
  },
  {
   "cell_type": "code",
   "execution_count": null,
   "metadata": {},
   "outputs": [],
   "source": [
    "from bokeh.models import BoxSelectTool\n",
    "\n",
    "tools = \"pan,wheel_zoom,box_zoom,reset\" \n",
    "p = figure(plot_width=400, plot_height=400, \n",
    "           tools=tools, title=None, \n",
    "           toolbar_location=\"below\")\n",
    "p.circle([1, 2, 3, 4, 5], [2, 5, 8, 2, 7], size=10)\n",
    "p.add_tools(BoxSelectTool(dimensions='height'))\n",
    "show(p)"
   ]
  },
  {
   "cell_type": "markdown",
   "metadata": {},
   "source": [
    "### Setting the active tool\n",
    "Bokeh toolbars can have (at most) one active tool from each kind of gesture (drag, scroll, tap). By default, Bokeh will use a default pre-defined order of preference to choose one of each kind from the set of configured tools, to be active.\n",
    "\n",
    "However it is possible to exert control over which tool is active. At the lowest bokeh.models level, this is accomplished by using the active_drag, active_inspect, active_scroll, and active_tap properties of Toolbar. These properties can take the following values:\n",
    "\n",
    "    None — there is no active tool of this kind\n",
    "    \"auto\" — Bokeh chooses a tool of this kind to be active (possibly none)\n",
    "    a Tool instance — Bokeh sets the given tool to be the active tool\n",
    "\n",
    "Additionally, the active_inspect tool may accept: * A sequence of Tool instances to be set as the active tools"
   ]
  },
  {
   "cell_type": "code",
   "execution_count": null,
   "metadata": {},
   "outputs": [],
   "source": [
    "plot = figure(tools=\"pan,lasso_select,box_select\", \n",
    "              plot_width=400, plot_height=400, \n",
    "              active_drag=\"lasso_select\")\n",
    "plot.circle([1, 2, 3, 4, 5], [2, 5, 8, 2, 7], size=10)\n",
    "show(plot)"
   ]
  },
  {
   "cell_type": "markdown",
   "metadata": {},
   "source": [
    "## Tooltip"
   ]
  },
  {
   "cell_type": "markdown",
   "metadata": {},
   "source": [
    "By default, the hover tool will generate a “tabular” tooltip where each row contains a label, and its associated value. The labels and values are supplied as a list of (label, value) tuples. For instance, the tooltip below on the left was created with the accompanying tooltips definition on the right."
   ]
  },
  {
   "cell_type": "markdown",
   "metadata": {},
   "source": [
    "### Basic tooltips"
   ]
  },
  {
   "cell_type": "markdown",
   "metadata": {},
   "source": [
    "<img src=\"http://bokeh.pydata.org/en/latest/_images/hover_basic.png\">"
   ]
  },
  {
   "cell_type": "markdown",
   "metadata": {},
   "source": [
    "```python\n",
    "\t\n",
    "hover.tooltips = [\n",
    "    (\"index\", \"$index\"),\n",
    "    (\"(x,y)\", \"($x, $y)\"),\n",
    "    (\"radius\", \"@radius\"),\n",
    "    (\"fill color\", \"$color[hex, swatch]:fill_color\"),\n",
    "    (\"foo\", \"@foo\"),\n",
    "    (\"bar\", \"@bar\"),\n",
    "]\n",
    "```"
   ]
  },
  {
   "cell_type": "markdown",
   "metadata": {},
   "source": [
    "Field names that begin with $ are `special fields`. These often correspond to values that are intrinsic to the plot, such as the coordinates of the mouse in data or screen space. These special fields are listed here:\n",
    "\n",
    " - `$index`: index of selected point in the data source\n",
    " - `$name`: value of the name property of the hovered glyph renderer\n",
    " - `$x`: x-coordinate under the cursor in data space\n",
    " - `$y`: y-coordinate under the cursor in data space\n",
    " - `$sx`: x-coordinate under the cursor in screen (canvas) space\n",
    " - `$sy`: y-coordinate under the cursor in screen (canvas) space\n",
    " - `$name`: The name property of the glyph that is hovered over\n",
    " - `$color`: colors from a data source, with the syntax: $color[options]:field_name. \n",
    " \n",
    "The available options are: hex (to display the color as a hex value), and swatch to also display a small color swatch.\n",
    "Field names that begin with @ are associated with columns in a ColumnDataSource. For instance the field name \"@price\" will display values from the \"price\" column whenever a hover is triggered. If the hover is for the 17th glyph, then the hover tooltip will correspondingly display the 17th price value.\n",
    "\n",
    "Note that if a column name contains spaces, the it must be supplied by surrounding it in curly braces, e.g. @{adjusted close} will display values from a column named \"adjusted close\".\n",
    "\n",
    "Sometimes (especially with stacked charts) it is desirable to allow the name of the column be specified indirectly. The field name `@$name` is distinguished in that it will look up the name field on the hovered glyph renderer, and use that value as the column name. For instance, if a user hovers with the name \"US East\", then `@$name` is equivalent to `@{US East}`.\n",
    "\n",
    "Here is a complete example of how to configure and use the hover tool by setting the tooltips argument to figure:"
   ]
  },
  {
   "cell_type": "code",
   "execution_count": null,
   "metadata": {},
   "outputs": [],
   "source": [
    "from bokeh.models import ColumnDataSource\n",
    "\n",
    "source = ColumnDataSource(data=dict(\n",
    "    x=[1, 2, 3, 4, 5],\n",
    "    y=[2, 5, 8, 2, 7],\n",
    "    desc=['A', 'b', 'C', 'd', 'E'],\n",
    "))\n",
    "\n",
    "TOOLTIPS = [\n",
    "    (\"index\", \"$index\"),\n",
    "    (\"(x,y)\", \"($x, $y)\"),\n",
    "    (\"desc\", \"@desc\"),\n",
    "]\n",
    "\n",
    "p = figure(plot_width=400, plot_height=400, tooltips=TOOLTIPS,\n",
    "           title=\"Mouse over the dots\")\n",
    "\n",
    "p.circle('x', 'y', size=20, source=source)\n",
    "\n",
    "show(p)"
   ]
  },
  {
   "cell_type": "markdown",
   "metadata": {},
   "source": [
    "### Formatting Tooltip Fields\n",
    "By default, values for fields (e.g. @foo) are displayed in a basic numeric format. However it is possible to control the formatting of values more precisely. Fields can be modified by appending a format specified to the end in curly braces. Some examples are below."
   ]
  },
  {
   "cell_type": "markdown",
   "metadata": {},
   "source": [
    "```python\n",
    "\"@foo{0,0.000}\"    # formats 10000.1234 as: 10,000.123\n",
    "\n",
    "\"@foo{(.00)}\"      # formats -10000.1234 as: (10000.123)\n",
    "\n",
    "\"@foo{($ 0.00 a)}\" # formats 1230974 as: $ 1.23 m\n",
    "```"
   ]
  },
  {
   "cell_type": "code",
   "execution_count": null,
   "metadata": {},
   "outputs": [],
   "source": [
    "import numpy as np\n",
    "from bokeh.models import ColumnDataSource, HoverTool\n",
    "from bokeh.plotting import figure\n",
    "from bokeh.sampledata.stocks import AAPL # Sample stock data [bokeh built-in]\n",
    "\n",
    "def datetime(x):\n",
    "    return np.array(x, dtype=np.datetime64)\n",
    "\n",
    "source = ColumnDataSource(data={\n",
    "    'date'      : datetime(AAPL['date'][::10]),\n",
    "    'adj close' : AAPL['adj_close'][::10],\n",
    "    'volume'    : AAPL['volume'][::10],\n",
    "})\n",
    "\n",
    "p = figure(plot_height=250, x_axis_type=\"datetime\", tools=\"\", toolbar_location=None,\n",
    "           title=\"Hover Tooltip Formatting\", sizing_mode=\"scale_width\")\n",
    "p.background_fill_color=\"#f5f5f5\"\n",
    "p.grid.grid_line_color=\"white\"\n",
    "p.xaxis.axis_label = 'Date'\n",
    "p.yaxis.axis_label = 'Price'\n",
    "p.axis.axis_line_color = None\n",
    "\n",
    "p.line(x='date', y='adj close', line_width=2, color='#ebbd5b', source=source)\n",
    "\n",
    "p.add_tools(HoverTool(\n",
    "    tooltips=[\n",
    "        ( 'date',   '@date{%F}'            ),\n",
    "        ( 'close',  '$@{adj close}{%0.2f}' ), # use @{ } for field names with spaces\n",
    "        ( 'volume', '@volume{0.00 a}'      ),\n",
    "    ],\n",
    "\n",
    "    formatters={\n",
    "        'date'      : 'datetime', # use 'datetime' formatter for 'date' field\n",
    "        'adj close' : 'printf',   # use 'printf' formatter for 'adj close' field\n",
    "                                  # use default 'numeral' formatter for other fields\n",
    "    },\n",
    "\n",
    "    # display a tooltip whenever the cursor is vertically in line with a glyph\n",
    "    mode='vline'\n",
    "))\n",
    "\n",
    "show(p)"
   ]
  },
  {
   "cell_type": "markdown",
   "metadata": {},
   "source": [
    "### Custom HTML Tooltip"
   ]
  },
  {
   "cell_type": "markdown",
   "metadata": {},
   "source": [
    "It is also possible to supply a custom HTML template for a tooltip. To do this, pass an HTML string, with the Bokeh tooltip field name symbols wherever substitutions are desired. Note that you can also use the {safe} format after the column name to disable the escaping of HTML in the data source. An example is shown below:"
   ]
  },
  {
   "cell_type": "code",
   "execution_count": null,
   "metadata": {},
   "outputs": [],
   "source": [
    "source = ColumnDataSource(data=dict(\n",
    "    x=[1, 2, 3, 4, 5],\n",
    "    y=[2, 5, 8, 2, 7],\n",
    "    desc=['A', 'b', 'C', 'd', 'E'],\n",
    "    imgs=[\n",
    "        'https://bokeh.pydata.org/static/snake.jpg',\n",
    "        'https://bokeh.pydata.org/static/snake2.png',\n",
    "        'https://bokeh.pydata.org/static/snake3D.png',\n",
    "        'https://bokeh.pydata.org/static/snake4_TheRevenge.png',\n",
    "        'https://bokeh.pydata.org/static/snakebite.jpg'\n",
    "    ],\n",
    "    fonts=[\n",
    "        '<i>italics</i>',\n",
    "        '<pre>pre</pre>',\n",
    "        '<b>bold</b>',\n",
    "        '<small>small</small>',\n",
    "        '<del>del</del>'\n",
    "    ]\n",
    "))\n",
    "\n",
    "TOOLTIPS = \"\"\"\n",
    "    <div>\n",
    "        <div>\n",
    "            <img\n",
    "                src=\"@imgs\" height=\"42\" alt=\"@imgs\" width=\"42\"\n",
    "                style=\"float: left; margin: 0px 15px 15px 0px;\"\n",
    "                border=\"2\"\n",
    "            ></img>\n",
    "        </div>\n",
    "        <div>\n",
    "            <span style=\"font-size: 17px; font-weight: bold;\">@desc</span>\n",
    "            <span style=\"font-size: 15px; color: #966;\">[$index]</span>\n",
    "        </div>\n",
    "        <div>\n",
    "            <span>@fonts{safe}</span>\n",
    "        </div>\n",
    "        <div>\n",
    "            <span style=\"font-size: 15px;\">Location</span>\n",
    "            <span style=\"font-size: 10px; color: #696;\">($x, $y)</span>\n",
    "        </div>\n",
    "    </div>\n",
    "\"\"\"\n",
    "\n",
    "p = figure(plot_width=400, plot_height=400, tooltips=TOOLTIPS,\n",
    "           title=\"Mouse over the dots\")\n",
    "\n",
    "p.circle('x', 'y', size=20, source=source)\n",
    "\n",
    "show(p)"
   ]
  },
  {
   "cell_type": "markdown",
   "metadata": {},
   "source": [
    "## Gridplots and linked charts\n",
    "In this notebook i will figure out some layout options for `bokeh` charts. The `gridplot()` function can be used to arrange Bokeh Plots in grid layout. Linking together various aspects of different plots can be a useful technique for data visualization. In Bokeh, such linkages are typically accomplished by sharing some plot component between plots."
   ]
  },
  {
   "cell_type": "markdown",
   "metadata": {},
   "source": [
    "### Gridplots\n",
    "gridplot() allows to create a N x M layout for visualise several plots in an ordered way. It also collects all tools into a single toolbar, and the currently active tool is the same for all plots in the grid. **It is possible to leave “empty” spaces in the grid by passing None instead of a plot object.**"
   ]
  },
  {
   "cell_type": "code",
   "execution_count": null,
   "metadata": {},
   "outputs": [],
   "source": [
    "from bokeh.layouts import gridplot\n",
    "from bokeh.palettes import Viridis3\n",
    "from bokeh.plotting import figure\n",
    "import numpy as np"
   ]
  },
  {
   "cell_type": "code",
   "execution_count": null,
   "metadata": {},
   "outputs": [],
   "source": [
    "N = 100\n",
    "x = np.linspace(0, 4*np.pi, N)\n",
    "y0 = np.sin(x)\n",
    "y1 = np.cos(x)\n",
    "y2 = np.sin(x) + np.cos(x)\n",
    "\n",
    "# create three plots\n",
    "p1 = figure(plot_width=250, plot_height=250, title=None)\n",
    "p1.circle(x, y0, size=3, color=Viridis3[0])\n",
    "\n",
    "p2 = figure(plot_width=250, plot_height=250, title=None)\n",
    "p2.circle(x, y1, size=3, color=Viridis3[1])\n",
    "\n",
    "p3 = figure(plot_width=250, plot_height=250, title=None)\n",
    "p3.circle(x, y2, size=3, color=Viridis3[2])\n",
    "\n",
    "# make a grid\n",
    "grid = gridplot([[p1, p2], [None, p3]])\n",
    "\n",
    "# show the results\n",
    "show(grid)"
   ]
  },
  {
   "cell_type": "markdown",
   "metadata": {},
   "source": [
    "For convenience you can also just pass a list of plots, and specify the number of columns you want in your grid. For example,\n",
    "\n",
    "`gridplot([[s1, s2], [s3, None]])`\n",
    "\n",
    "and\n",
    "\n",
    "`gridplot([s1, s2, s3], ncols=2)`\n",
    "\n",
    "Furthermore, you can specify the size of the plots in the gridplot istruction."
   ]
  },
  {
   "cell_type": "code",
   "execution_count": null,
   "metadata": {},
   "outputs": [],
   "source": [
    "N = 100\n",
    "x = np.linspace(0, 4*np.pi, N)\n",
    "y0 = np.sin(x)\n",
    "y1 = np.cos(x)\n",
    "y2 = np.sin(x) + np.cos(x)\n",
    "\n",
    "# create three plots\n",
    "s1 = figure()\n",
    "s1.circle(x, y0, size=3, color=Viridis3[0])\n",
    "s2 = figure()\n",
    "s2.circle(x, y1, size=3, color=Viridis3[1])\n",
    "s3 = figure()\n",
    "s3.circle(x, y2, size=3, color=Viridis3[2])\n",
    "\n",
    "# make a grid\n",
    "grid = gridplot([s1, s2, s3], ncols=2, width=250, height=250)\n",
    "\n",
    "# show the results\n",
    "show(grid)"
   ]
  },
  {
   "cell_type": "markdown",
   "metadata": {},
   "source": [
    "### Linked panning and brushing\n",
    "\n",
    "Linking together various aspects of different plots can be a useful technique for data visualization. In Bokeh, such linkages are typically accomplished by sharing some plot component between plots. Below is an example that demonstrates linked panning (where changing the range of one plot causes others to update) by sharing range objects between the plots. Some other things to look out for in this example:\n",
    "\n",
    "- calling `figure()` multiple times to create multiple plots\n",
    "- using `gridplot()` to arrange several plots in an array\n",
    "- showing new glyphs using new glyph methods Figure.triangle and Figure.square\n",
    "- hiding the toolbar by setting toolbar_location to None\n",
    "- setting convenience arguments color (sets both line_color and fill_color) and alpha (sets both line_alpha and fill_alpha)\n"
   ]
  },
  {
   "cell_type": "code",
   "execution_count": null,
   "metadata": {},
   "outputs": [],
   "source": [
    "# prepare some data\n",
    "N = 100\n",
    "x = np.linspace(0, 4*np.pi, N)\n",
    "y0 = np.sin(x)\n",
    "y1 = np.cos(x)\n",
    "y2 = np.sin(x) + np.cos(x)\n",
    "\n",
    "# create a new plot\n",
    "s1 = figure(title=None)\n",
    "s1.circle(x, y0, size=3, color=\"navy\", alpha=0.5)\n",
    "\n",
    "# NEW: create a new plot and share both ranges\n",
    "s2 = figure(x_range=s1.x_range, y_range=s1.y_range, title=None)\n",
    "s2.circle(x, y1, size=3, color=\"firebrick\", alpha=0.5)\n",
    "\n",
    "# NEW: create a new plot and share only one range\n",
    "s3 = figure(x_range=s1.x_range, title=None)\n",
    "s3.circle(x, y2, size=3, color=\"olive\", alpha=0.5)\n",
    "\n",
    "# NEW: put the subplots in a gridplot\n",
    "p = gridplot([[s1, s2, s3]], toolbar_location=None, width=250, height=250)\n",
    "\n",
    "# show the results\n",
    "show(p)"
   ]
  },
  {
   "cell_type": "markdown",
   "metadata": {},
   "source": [
    "Another linkage that is often useful is linked brushing (where a selection on one plot causes a selection to update on other plots). Below is an example that demonstrates linked brushing by sharing a [ColumnDataSource](https://bokeh.pydata.org/en/latest/docs/reference/models/sources.html#bokeh.models.sources.ColumnDataSource) between two plots:"
   ]
  },
  {
   "cell_type": "code",
   "execution_count": null,
   "metadata": {},
   "outputs": [],
   "source": [
    "from bokeh.models import ColumnDataSource\n",
    "# prepare some date\n",
    "N = 300\n",
    "x = np.linspace(0, 4*np.pi, N)\n",
    "y0 = np.sin(x)\n",
    "y1 = np.cos(x)\n",
    "\n",
    "# NEW: create a column data source for the plots to share\n",
    "source = ColumnDataSource(data=dict(x=x, y0=y0, y1=y1))\n",
    "\n",
    "TOOLS = \"pan,wheel_zoom,box_zoom,reset,save,box_select,lasso_select\"\n",
    "\n",
    "# create a new plot and add a renderer\n",
    "left = figure(tools=TOOLS, width=350, height=350, title=None)\n",
    "left.circle('x', 'y0', source=source)\n",
    "\n",
    "# create another new plot and add a renderer\n",
    "right = figure(tools=TOOLS, width=350, height=350, title=None)\n",
    "right.circle('x', 'y1', source=source)\n",
    "\n",
    "# put the subplots in a gridplot\n",
    "p = gridplot([[left, right]])\n",
    "\n",
    "# show the results\n",
    "show(p)"
   ]
  },
  {
   "cell_type": "markdown",
   "metadata": {},
   "source": [
    "### Linked Selection"
   ]
  },
  {
   "cell_type": "code",
   "execution_count": null,
   "metadata": {},
   "outputs": [],
   "source": [
    "from bokeh.io import output_file, show\n",
    "from bokeh.layouts import gridplot\n",
    "from bokeh.models import ColumnDataSource\n",
    "from bokeh.plotting import figure\n",
    "\n",
    "x = list(range(-20, 21))\n",
    "y0 = [abs(xx) for xx in x]\n",
    "y1 = [xx**2 for xx in x]\n",
    "\n",
    "# create a column data source for the plots to share\n",
    "source = ColumnDataSource(data=dict(x=x, y0=y0, y1=y1))\n",
    "\n",
    "TOOLS = \"box_select,lasso_select,help\"\n",
    "\n",
    "# create a new plot and add a renderer\n",
    "left = figure(tools=TOOLS, plot_width=300, plot_height=300, title=None)\n",
    "left.circle('x', 'y0', source=source)\n",
    "\n",
    "# create another new plot and add a renderer\n",
    "right = figure(tools=TOOLS, plot_width=300, plot_height=300, title=None)\n",
    "right.circle('x', 'y1', source=source)\n",
    "\n",
    "p = gridplot([[left, right]])\n",
    "\n",
    "show(p)"
   ]
  },
  {
   "cell_type": "markdown",
   "metadata": {},
   "source": [
    "### Linked selection with filtered data"
   ]
  },
  {
   "cell_type": "code",
   "execution_count": null,
   "metadata": {},
   "outputs": [],
   "source": [
    "from bokeh.models import ColumnDataSource, CDSView, BooleanFilter\n",
    "\n",
    "x = list(range(-20, 21))\n",
    "y0 = [abs(xx) for xx in x]\n",
    "y1 = [xx**2 for xx in x]\n",
    "\n",
    "# create a column data source for the plots to share\n",
    "source = ColumnDataSource(data=dict(x=x, y0=y0, y1=y1))\n",
    "\n",
    "# create a view of the source for one plot to use\n",
    "view = CDSView(source=source, filters=[BooleanFilter([True if y > 250 or y < 100 else False for y in y1])])\n",
    "\n",
    "TOOLS = \"box_select,lasso_select\"\n",
    "\n",
    "# create a new plot and add a renderer\n",
    "left = figure(tools=TOOLS, plot_width=300, plot_height=300, title=None)\n",
    "left.circle('x', 'y0', size=10, hover_color=\"firebrick\", source=source)\n",
    "\n",
    "# create another new plot, add a renderer that uses the view of the data source\n",
    "right = figure(tools=TOOLS, plot_width=300, plot_height=300, title=None)\n",
    "right.circle('x', 'y1', size=10, hover_color=\"firebrick\", source=source, view=view)\n",
    "\n",
    "p = gridplot([[left, right]])\n",
    "\n",
    "show(p)"
   ]
  },
  {
   "cell_type": "markdown",
   "metadata": {},
   "source": [
    "# Interaction with widgets and JS CallBacks"
   ]
  },
  {
   "cell_type": "markdown",
   "metadata": {},
   "source": [
    "## Adding Widgets"
   ]
  },
  {
   "cell_type": "markdown",
   "metadata": {},
   "source": [
    "Widgets are interactive controls that can be added to Bokeh applications to provide a front end user interface to a visualization. They can drive new computations, update plots, and connect to other programmatic functionality.\n",
    "Widgets can be added directly to the document root or nested inside a layout. There are two ways to program a widget’s functionality:\n",
    "\n",
    "- Use the `CustomJS` callback. This will work in standalone HTML documents.\n",
    "- Use `bokeh serve` to start the Bokeh server and set up event handlers. *[DESCRIBED IN OTHER NOTEBOOKS]*"
   ]
  },
  {
   "cell_type": "markdown",
   "metadata": {},
   "source": [
    "### Buttons"
   ]
  },
  {
   "cell_type": "code",
   "execution_count": null,
   "metadata": {},
   "outputs": [],
   "source": [
    "from bokeh.layouts import widgetbox"
   ]
  },
  {
   "cell_type": "code",
   "execution_count": null,
   "metadata": {},
   "outputs": [],
   "source": [
    "from bokeh.models.widgets import Button\n",
    "from bokeh.models import Column\n",
    "\n",
    "button_warning = Button(label=\"Foo Warning\", button_type=\"warning\")\n",
    "button_success = Button(label=\"Foo Success\", button_type=\"success\")\n",
    "\n",
    "show(Column(button_warning, button_success))"
   ]
  },
  {
   "cell_type": "markdown",
   "metadata": {},
   "source": [
    "### Checkbox button group"
   ]
  },
  {
   "cell_type": "code",
   "execution_count": null,
   "metadata": {},
   "outputs": [],
   "source": [
    "from bokeh.models.widgets import CheckboxButtonGroup\n",
    "\n",
    "checkbox_button_group = CheckboxButtonGroup(\n",
    "        labels=[\"Option 1\", \"Option 2\", \"Option 3\"], \n",
    "        active=[1, 2]) # active param show selected the slice you specify\n",
    "\n",
    "show(Column(checkbox_button_group))"
   ]
  },
  {
   "cell_type": "markdown",
   "metadata": {},
   "source": [
    "### Checkbox group"
   ]
  },
  {
   "cell_type": "code",
   "execution_count": null,
   "metadata": {},
   "outputs": [],
   "source": [
    "from bokeh.models.widgets import CheckboxGroup\n",
    "\n",
    "checkbox_group = CheckboxGroup(\n",
    "        labels=[\"Option 1\", \"Option 2\", \"Option 3\"], active=[0, 1])\n",
    "\n",
    "show(Column(checkbox_group))"
   ]
  },
  {
   "cell_type": "markdown",
   "metadata": {},
   "source": [
    "## Data Table\n",
    "Bokeh provides a sophisticated data table widget based on SlickGrid. Note that since the table is configured with a data source object, any plots that share this data source will automatically have selections linked between the plot and the table (even in static HTML documents). \n",
    "\n",
    "*The data table is sortable by clicking on the column name*"
   ]
  },
  {
   "cell_type": "code",
   "execution_count": null,
   "metadata": {},
   "outputs": [],
   "source": [
    "from datetime import date\n",
    "from random import randint\n",
    "from bokeh.models import ColumnDataSource\n",
    "from bokeh.models.widgets import DataTable, DateFormatter, TableColumn\n",
    "\n",
    "data = dict(\n",
    "        dates=[date(2017, 3, i+1) for i in range(10)],\n",
    "        downloads=[randint(0, 100) for i in range(10)],\n",
    "    )\n",
    "source = ColumnDataSource(data)\n",
    "\n",
    "columns = [\n",
    "        TableColumn(field=\"dates\", title=\"Date\", formatter=DateFormatter()),\n",
    "        TableColumn(field=\"downloads\", title=\"Downloads\"),\n",
    "    ]\n",
    "data_table = DataTable(source=source, columns=columns, width=400, height=280)\n",
    "\n",
    "show(Column(data_table))"
   ]
  },
  {
   "cell_type": "markdown",
   "metadata": {},
   "source": [
    "## Sliders"
   ]
  },
  {
   "cell_type": "code",
   "execution_count": null,
   "metadata": {},
   "outputs": [],
   "source": [
    "from bokeh.models.widgets import Slider, RangeSlider\n",
    "\n",
    "slider = Slider(start=0, end=10, value=3, step=.1, title=\"Slider\")\n",
    "range_slider = RangeSlider(start=0, end=10, value=(5,9), step=.1, title=\"Range Slider\")\n",
    "\n",
    "show(Column(slider, range_slider))"
   ]
  },
  {
   "cell_type": "markdown",
   "metadata": {},
   "source": [
    "## Tab panes"
   ]
  },
  {
   "cell_type": "code",
   "execution_count": null,
   "metadata": {},
   "outputs": [],
   "source": [
    "from bokeh.models.widgets import Panel, Tabs\n",
    "from bokeh.plotting import figure\n",
    "\n",
    "p1 = figure(plot_width=300, plot_height=300)\n",
    "p1.circle([1, 2, 3, 4, 5], [6, 7, 2, 4, 5], size=20, color=\"red\", alpha=0.5)\n",
    "tab1 = Panel(child=p1, title=\"circle\")\n",
    "\n",
    "p2 = figure(plot_width=300, plot_height=300)\n",
    "p2.line([1, 2, 3, 4, 5], [6, 7, 2, 4, 5], line_width=3, color=\"blue\", alpha=0.5)\n",
    "tab2 = Panel(child=p2, title=\"line\")\n",
    "\n",
    "tabs = Tabs(tabs=[ tab1, tab2 ])\n",
    "\n",
    "show(tabs)"
   ]
  },
  {
   "cell_type": "code",
   "execution_count": null,
   "metadata": {},
   "outputs": [],
   "source": [
    "from bokeh.layouts import column\n",
    "from bokeh.models import CustomJS, ColumnDataSource, Slider\n",
    "from bokeh.plotting import figure\n",
    "\n",
    "x = [x*0.005 for x in range(0, 200)]\n",
    "y = x\n",
    "\n",
    "source = ColumnDataSource(data=dict(x=x, y=y))\n",
    "\n",
    "plot = figure(plot_width=400, plot_height=400)\n",
    "plot.line('x', 'y', source=source, line_width=3, line_alpha=0.6)\n",
    "\n",
    "callback = CustomJS(args=dict(source=source), code=\"\"\"\n",
    "    var data = source.data;\n",
    "    var f = cb_obj.value\n",
    "    x = data['x']\n",
    "    y = data['y']\n",
    "    for (i = 0; i < x.length; i++) {\n",
    "        y[i] = Math.pow(x[i], f)\n",
    "    }\n",
    "    source.change.emit();\n",
    "\"\"\")\n",
    "\n",
    "slider = Slider(start=0.1, end=4, value=1, step=.1, title=\"power\")\n",
    "slider.js_on_change('value', callback)\n",
    "\n",
    "layout = column(slider, plot)\n",
    "\n",
    "show(layout)"
   ]
  },
  {
   "cell_type": "markdown",
   "metadata": {},
   "source": [
    "The above example shows how to attach a CustomJS callback to a Slider widget, so that whenever the slider value updates, the callback is executed to update some data."
   ]
  },
  {
   "cell_type": "markdown",
   "metadata": {},
   "source": [
    "# Additional Resources and Further Readings"
   ]
  },
  {
   "cell_type": "markdown",
   "metadata": {},
   "source": [
    "## Doumentation\n",
    "\n",
    "\n",
    "##### Main Page - https://bokeh.pydata.org/en/latest \n",
    "\n",
    "The main documentation front page, with links to many other resources\n",
    "\n",
    "---\n",
    "\n",
    "##### User's Guide - https://bokeh.pydata.org/en/latest/docs/user_guide.html\n",
    "\n",
    "The user's guide has many top-oriented subsections, for example \"Plotting with Basic Glyphs\", \"Configuring Plot Tools\", or \"Adding Interactions\". Each user's guide section typically example code and corresponding live plots that demonstrate how to accomplish various tasks. \n",
    "\n",
    "---\n",
    "\n",
    "##### Gallery - https://bokeh.pydata.org/en/latest/docs/gallery.html\n",
    "\n",
    "One of the best ways to learn is to find an existing example similar to what you want, and to study it and then use it as a starting place. Starting from a known working example can often save time and effort when getting started by allowing you to make small, incremental changes and observing the outcome. The Bokeh docs have a large thumbnail gallery that links to live plots and apps with corresponding code.  \n",
    "\n",
    "\n",
    "---\n",
    "\n",
    "##### Reference Guide - https://bokeh.pydata.org/en/latest/docs/reference.html\n",
    "\n",
    "If you are already familiar with Bokeh and have questions about specific details of the obejcts you are already using, the reference guide is a good resource for finding information. The reference guide is automatically generated from the project source code and is a complete resources for all bokeh models and their properties. \n",
    "\n",
    "---\n",
    "\n",
    "\n",
    "\n",
    "##### Issue tracker - https://github.com/bokeh/bokeh/issues\n",
    "\n",
    "The GitHub issue tracker is the place to go to submit ***bug reports*** and ***feature requests***. It it NOT the right place for general support questions (see the *General Community Support* links below).\n",
    "\n"
   ]
  },
  {
   "cell_type": "markdown",
   "metadata": {},
   "source": [
    "## Example apps and Scripts\n",
    "\n",
    "In addition to all the live gallery examples, Bokeh has many additional scripts and apps that can be instructive to study and emulate. \n",
    "\n",
    "##### Examples folder - https://github.com/bokeh/bokeh/tree/master/examples/\n",
    "\n",
    "The `examples` directory has many subfolders dedicated to different kinds of topics. Some of the hightlights are:\n",
    "\n",
    "* `app` - example Bokeh apps, run with \"`bokeh serve`\"\n",
    "* `howto` - some examples arranged around specific topics such as layout or notebook comms\n",
    "* `models` - examples that demonstrate the low-level `bokeh.models` API\n",
    "* `plotting` - a large collections of examples using the `bokeh.plotting` interface\n",
    "* `webgl` - some examples demonstrating WebGL usage\n",
    "\n",
    "---\n",
    "\n",
    "##### Example zipfile\n",
    "\n",
    "To make the things easier to obtain, a zip file of just the examples is also available at\n",
    "\n",
    "`https://cdn.pydata.org/bokeh/examples/examples-<x.y.z>.zip`\n",
    "\n",
    "For example, the examples zipfile for the `0.13.0` release can be found at:\n",
    "\n",
    "https://cdn.pydata.org/bokeh/examples/examples-0.13.0.zip\n",
    "\n",
    "\n"
   ]
  },
  {
   "cell_type": "markdown",
   "metadata": {},
   "source": [
    "## General Community Support\n",
    "\n",
    "Bokeh has a large and growing community. The best place to go for general support questions (either to ask, or to answer!) is one of the community support resources listed below. \n",
    "\n",
    "* Mailing list - https://groups.google.com/a/anaconda.com/forum/#!forum/bokeh\n",
    "* Gitter chat channel - https://gitter.im/bokeh/bokeh\n",
    "* StackOverflow (use `#bokeh` tag): http://stackoverflow.com/questions/tagged/bokeh\n",
    "\n"
   ]
  },
  {
   "cell_type": "markdown",
   "metadata": {},
   "source": [
    "## Contributor Resources\n",
    "\n",
    "Bokeh has a small but growinf developer community. We are always looking to have new contributors. Below are some resources for people involved in working on Bokeh itself.\n",
    "\n",
    "##### Source code - https://github.com/bokeh/bokeh\n",
    "\n",
    "Go here to clone the GitHub repo (in order to contribute or get the examples), or to submit issues to the issue tracker \n",
    "\n",
    "---\n",
    "\n",
    "##### Issue tracker - https://github.com/bokeh/bokeh/issues\n",
    "\n",
    "The GitHub issue tracker is the place to go to submit ***bug reports*** and ***feature requests***. For general support questions, see the *General Community Support* links above.\n",
    "\n",
    "---\n",
    "\n",
    "#### Developer's Guide - https://bokeh.pydata.org/en/latest/docs/dev_guide.html\n",
    "\n",
    "If you are interesting in becoming a contributor to Bokeh, the developer's guide is the place to start. It has information about getting a development environment set up, the library architecture, writing and running tests, \n",
    "\n",
    "---\n",
    "\n",
    "#### Dev Chat Channel - https://gitter.im/bokeh/bokeh-dev\n",
    "\n",
    "Come here for assistance with any questions about developing Bokeh itself. \n"
   ]
  }
 ],
 "metadata": {
  "kernelspec": {
   "display_name": "Python 3 (ipykernel)",
   "language": "python",
   "name": "python3"
  },
  "language_info": {
   "codemirror_mode": {
    "name": "ipython",
    "version": 3
   },
   "file_extension": ".py",
   "mimetype": "text/x-python",
   "name": "python",
   "nbconvert_exporter": "python",
   "pygments_lexer": "ipython3",
   "version": "3.9.13"
  }
 },
 "nbformat": 4,
 "nbformat_minor": 4
}
