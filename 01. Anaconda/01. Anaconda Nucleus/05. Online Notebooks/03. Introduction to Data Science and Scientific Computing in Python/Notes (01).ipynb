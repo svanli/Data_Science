{
 "cells": [
  {
   "cell_type": "markdown",
   "id": "0ffc4875-66eb-4282-946d-e0a763c0be1c",
   "metadata": {},
   "source": [
    "# Notes (01)"
   ]
  },
  {
   "cell_type": "code",
   "execution_count": 1,
   "id": "289d0dc8-f3f4-40e9-aa03-83431b34bca6",
   "metadata": {},
   "outputs": [],
   "source": [
    "import numpy as np"
   ]
  },
  {
   "cell_type": "markdown",
   "id": "53d7108e-e6b9-4c8f-ab82-e39635578e24",
   "metadata": {},
   "source": [
    "# 01. What is Numpy"
   ]
  },
  {
   "cell_type": "code",
   "execution_count": 2,
   "id": "e39ccc18-5ea8-4bee-bcdd-e5c6190d635e",
   "metadata": {},
   "outputs": [],
   "source": [
    "age = [10, 18, 61, 52, 13]"
   ]
  },
  {
   "cell_type": "code",
   "execution_count": 3,
   "id": "bb8a2672-80b6-4d4a-aa7a-93ee31a2a7c8",
   "metadata": {},
   "outputs": [],
   "source": [
    "ex_array = np.array(age)"
   ]
  },
  {
   "cell_type": "code",
   "execution_count": 4,
   "id": "d8ff4762-1049-4e63-83cf-63b08d964743",
   "metadata": {},
   "outputs": [
    {
     "data": {
      "text/plain": [
       "array([10, 18, 61, 52, 13])"
      ]
     },
     "execution_count": 4,
     "metadata": {},
     "output_type": "execute_result"
    }
   ],
   "source": [
    "ex_array"
   ]
  },
  {
   "cell_type": "code",
   "execution_count": 5,
   "id": "a692489e-090a-4844-ad5f-61026af0c1b7",
   "metadata": {},
   "outputs": [
    {
     "name": "stdout",
     "output_type": "stream",
     "text": [
      "<class 'numpy.ndarray'>\n",
      "<class 'list'>\n"
     ]
    }
   ],
   "source": [
    "print(type(ex_array))\n",
    "print(type(age))"
   ]
  },
  {
   "cell_type": "code",
   "execution_count": 6,
   "id": "013f874a-ae7a-4647-86d5-8d34c99667fc",
   "metadata": {},
   "outputs": [
    {
     "data": {
      "text/plain": [
       "array([10, 18, 61, 52, 13])"
      ]
     },
     "execution_count": 6,
     "metadata": {},
     "output_type": "execute_result"
    }
   ],
   "source": [
    "ex_array_1 = np.array([10, 18, 61, 52, 13])\n",
    "ex_array_1"
   ]
  },
  {
   "cell_type": "code",
   "execution_count": 7,
   "id": "d30bf5a0-cc3e-44cd-ab06-719fe3b7019d",
   "metadata": {},
   "outputs": [
    {
     "data": {
      "text/plain": [
       "array([[10, 17, 13],\n",
       "       [61, 52, 43]])"
      ]
     },
     "execution_count": 7,
     "metadata": {},
     "output_type": "execute_result"
    }
   ],
   "source": [
    "ex_array_2 = np.array([[10, 17, 13], [61, 52, 43]])\n",
    "ex_array_2"
   ]
  },
  {
   "cell_type": "code",
   "execution_count": 8,
   "id": "e7555465-f042-4c08-8510-969380acdad5",
   "metadata": {},
   "outputs": [
    {
     "name": "stdout",
     "output_type": "stream",
     "text": [
      "(5,)\n",
      "(2, 3)\n"
     ]
    }
   ],
   "source": [
    "print(np.shape(ex_array_1))\n",
    "print(np.shape(ex_array_2))"
   ]
  },
  {
   "cell_type": "code",
   "execution_count": 9,
   "id": "5e2f5362-2e41-47fa-b4fe-29d12b7c02e3",
   "metadata": {},
   "outputs": [
    {
     "name": "stdout",
     "output_type": "stream",
     "text": [
      "(5,)\n",
      "(2, 3)\n"
     ]
    }
   ],
   "source": [
    "print(ex_array_1.shape)\n",
    "print(ex_array_2.shape)"
   ]
  },
  {
   "cell_type": "code",
   "execution_count": 10,
   "id": "d940931f-6d55-47eb-8f2c-c1b4a5b7d062",
   "metadata": {},
   "outputs": [
    {
     "data": {
      "text/plain": [
       "((5,), (2, 3))"
      ]
     },
     "execution_count": 10,
     "metadata": {},
     "output_type": "execute_result"
    }
   ],
   "source": [
    "ex_array_1.shape, ex_array_2.shape"
   ]
  },
  {
   "cell_type": "code",
   "execution_count": 11,
   "id": "15a941c9-8a9d-4242-96ed-479157e5f351",
   "metadata": {},
   "outputs": [
    {
     "name": "stdout",
     "output_type": "stream",
     "text": [
      "5\n",
      "6\n"
     ]
    }
   ],
   "source": [
    "print(ex_array_1.size)\n",
    "print(ex_array_2.size)"
   ]
  },
  {
   "cell_type": "code",
   "execution_count": 12,
   "id": "a3459416-4900-4bf4-9fc1-8c9fc3d2f129",
   "metadata": {},
   "outputs": [
    {
     "name": "stdout",
     "output_type": "stream",
     "text": [
      "4\n",
      "4\n"
     ]
    }
   ],
   "source": [
    "print(ex_array_1.itemsize)\n",
    "print(ex_array_2.itemsize)"
   ]
  },
  {
   "cell_type": "code",
   "execution_count": 13,
   "id": "57089cec-8c37-44d2-8884-545827ff05cd",
   "metadata": {},
   "outputs": [
    {
     "name": "stdout",
     "output_type": "stream",
     "text": [
      "20\n",
      "24\n"
     ]
    }
   ],
   "source": [
    "print(ex_array_1.nbytes)\n",
    "print(ex_array_2.nbytes)"
   ]
  },
  {
   "cell_type": "code",
   "execution_count": 14,
   "id": "07b4fa53-4618-4c25-b4b9-f7241168c169",
   "metadata": {},
   "outputs": [
    {
     "name": "stdout",
     "output_type": "stream",
     "text": [
      "1\n",
      "2\n"
     ]
    }
   ],
   "source": [
    "print(ex_array_1.ndim)\n",
    "print(ex_array_2.ndim)"
   ]
  },
  {
   "cell_type": "code",
   "execution_count": 15,
   "id": "18554408-23ba-4f4e-b48e-82254c9c8f4e",
   "metadata": {},
   "outputs": [],
   "source": [
    "age_tuple = (10, 18, 61, 52, 13)"
   ]
  },
  {
   "cell_type": "code",
   "execution_count": 16,
   "id": "91a595bf-1aea-4c49-8922-9803e7d1735d",
   "metadata": {},
   "outputs": [
    {
     "data": {
      "text/plain": [
       "array([10, 18, 61, 52, 13])"
      ]
     },
     "execution_count": 16,
     "metadata": {},
     "output_type": "execute_result"
    }
   ],
   "source": [
    "ex_array_1_tuple = np.array(age_tuple)\n",
    "ex_array_1_tuple"
   ]
  },
  {
   "cell_type": "code",
   "execution_count": 17,
   "id": "0bc85298-1e60-4885-b111-066d48b8e16a",
   "metadata": {},
   "outputs": [
    {
     "name": "stdout",
     "output_type": "stream",
     "text": [
      "[  1   2   3   4   5   6   7   8   9  10  11  12  13  14  15  16  17  18\n",
      "  19  20  21  22  23  24  25  26  27  28  29  30  31  32  33  34  35  36\n",
      "  37  38  39  40  41  42  43  44  45  46  47  48  49  50  51  52  53  54\n",
      "  55  56  57  58  59  60  61  62  63  64  65  66  67  68  69  70  71  72\n",
      "  73  74  75  76  77  78  79  80  81  82  83  84  85  86  87  88  89  90\n",
      "  91  92  93  94  95  96  97  98  99 100]\n"
     ]
    }
   ],
   "source": [
    "ex_array_1_func = np.arange(1, 100+1, 1)\n",
    "print(ex_array_1_func)"
   ]
  },
  {
   "cell_type": "code",
   "execution_count": 18,
   "id": "63d97193-6046-4ac5-a9ec-ff4063ab0048",
   "metadata": {
    "tags": []
   },
   "outputs": [
    {
     "data": {
      "text/plain": [
       "\u001b[1;31mSignature:\u001b[0m\n",
       "\u001b[0mnp\u001b[0m\u001b[1;33m.\u001b[0m\u001b[0mlinspace\u001b[0m\u001b[1;33m(\u001b[0m\u001b[1;33m\n",
       "\u001b[0m    \u001b[0mstart\u001b[0m\u001b[1;33m,\u001b[0m\u001b[1;33m\n",
       "\u001b[0m    \u001b[0mstop\u001b[0m\u001b[1;33m,\u001b[0m\u001b[1;33m\n",
       "\u001b[0m    \u001b[0mnum\u001b[0m\u001b[1;33m=\u001b[0m\u001b[1;36m50\u001b[0m\u001b[1;33m,\u001b[0m\u001b[1;33m\n",
       "\u001b[0m    \u001b[0mendpoint\u001b[0m\u001b[1;33m=\u001b[0m\u001b[1;32mTrue\u001b[0m\u001b[1;33m,\u001b[0m\u001b[1;33m\n",
       "\u001b[0m    \u001b[0mretstep\u001b[0m\u001b[1;33m=\u001b[0m\u001b[1;32mFalse\u001b[0m\u001b[1;33m,\u001b[0m\u001b[1;33m\n",
       "\u001b[0m    \u001b[0mdtype\u001b[0m\u001b[1;33m=\u001b[0m\u001b[1;32mNone\u001b[0m\u001b[1;33m,\u001b[0m\u001b[1;33m\n",
       "\u001b[0m    \u001b[0maxis\u001b[0m\u001b[1;33m=\u001b[0m\u001b[1;36m0\u001b[0m\u001b[1;33m,\u001b[0m\u001b[1;33m\n",
       "\u001b[0m\u001b[1;33m)\u001b[0m\u001b[1;33m\u001b[0m\u001b[1;33m\u001b[0m\u001b[0m\n",
       "\u001b[1;31mDocstring:\u001b[0m\n",
       "Return evenly spaced numbers over a specified interval.\n",
       "\n",
       "Returns `num` evenly spaced samples, calculated over the\n",
       "interval [`start`, `stop`].\n",
       "\n",
       "The endpoint of the interval can optionally be excluded.\n",
       "\n",
       ".. versionchanged:: 1.16.0\n",
       "    Non-scalar `start` and `stop` are now supported.\n",
       "\n",
       ".. versionchanged:: 1.20.0\n",
       "    Values are rounded towards ``-inf`` instead of ``0`` when an\n",
       "    integer ``dtype`` is specified. The old behavior can\n",
       "    still be obtained with ``np.linspace(start, stop, num).astype(int)``\n",
       "\n",
       "Parameters\n",
       "----------\n",
       "start : array_like\n",
       "    The starting value of the sequence.\n",
       "stop : array_like\n",
       "    The end value of the sequence, unless `endpoint` is set to False.\n",
       "    In that case, the sequence consists of all but the last of ``num + 1``\n",
       "    evenly spaced samples, so that `stop` is excluded.  Note that the step\n",
       "    size changes when `endpoint` is False.\n",
       "num : int, optional\n",
       "    Number of samples to generate. Default is 50. Must be non-negative.\n",
       "endpoint : bool, optional\n",
       "    If True, `stop` is the last sample. Otherwise, it is not included.\n",
       "    Default is True.\n",
       "retstep : bool, optional\n",
       "    If True, return (`samples`, `step`), where `step` is the spacing\n",
       "    between samples.\n",
       "dtype : dtype, optional\n",
       "    The type of the output array.  If `dtype` is not given, the data type\n",
       "    is inferred from `start` and `stop`. The inferred dtype will never be\n",
       "    an integer; `float` is chosen even if the arguments would produce an\n",
       "    array of integers.\n",
       "\n",
       "    .. versionadded:: 1.9.0\n",
       "\n",
       "axis : int, optional\n",
       "    The axis in the result to store the samples.  Relevant only if start\n",
       "    or stop are array-like.  By default (0), the samples will be along a\n",
       "    new axis inserted at the beginning. Use -1 to get an axis at the end.\n",
       "\n",
       "    .. versionadded:: 1.16.0\n",
       "\n",
       "Returns\n",
       "-------\n",
       "samples : ndarray\n",
       "    There are `num` equally spaced samples in the closed interval\n",
       "    ``[start, stop]`` or the half-open interval ``[start, stop)``\n",
       "    (depending on whether `endpoint` is True or False).\n",
       "step : float, optional\n",
       "    Only returned if `retstep` is True\n",
       "\n",
       "    Size of spacing between samples.\n",
       "\n",
       "\n",
       "See Also\n",
       "--------\n",
       "arange : Similar to `linspace`, but uses a step size (instead of the\n",
       "         number of samples).\n",
       "geomspace : Similar to `linspace`, but with numbers spaced evenly on a log\n",
       "            scale (a geometric progression).\n",
       "logspace : Similar to `geomspace`, but with the end points specified as\n",
       "           logarithms.\n",
       "\n",
       "Examples\n",
       "--------\n",
       ">>> np.linspace(2.0, 3.0, num=5)\n",
       "array([2.  , 2.25, 2.5 , 2.75, 3.  ])\n",
       ">>> np.linspace(2.0, 3.0, num=5, endpoint=False)\n",
       "array([2. ,  2.2,  2.4,  2.6,  2.8])\n",
       ">>> np.linspace(2.0, 3.0, num=5, retstep=True)\n",
       "(array([2.  ,  2.25,  2.5 ,  2.75,  3.  ]), 0.25)\n",
       "\n",
       "Graphical illustration:\n",
       "\n",
       ">>> import matplotlib.pyplot as plt\n",
       ">>> N = 8\n",
       ">>> y = np.zeros(N)\n",
       ">>> x1 = np.linspace(0, 10, N, endpoint=True)\n",
       ">>> x2 = np.linspace(0, 10, N, endpoint=False)\n",
       ">>> plt.plot(x1, y, 'o')\n",
       "[<matplotlib.lines.Line2D object at 0x...>]\n",
       ">>> plt.plot(x2, y + 0.5, 'o')\n",
       "[<matplotlib.lines.Line2D object at 0x...>]\n",
       ">>> plt.ylim([-0.5, 1])\n",
       "(-0.5, 1)\n",
       ">>> plt.show()\n",
       "\u001b[1;31mFile:\u001b[0m      c:\\programdata\\anaconda3\\lib\\site-packages\\numpy\\core\\function_base.py\n",
       "\u001b[1;31mType:\u001b[0m      function\n"
      ]
     },
     "metadata": {},
     "output_type": "display_data"
    }
   ],
   "source": [
    "np.linspace?"
   ]
  },
  {
   "cell_type": "code",
   "execution_count": 19,
   "id": "6392b85e-eefc-4f8f-bdca-9c26226671e3",
   "metadata": {},
   "outputs": [
    {
     "data": {
      "text/plain": [
       "array([ 1.  ,  3.25,  5.5 ,  7.75, 10.  ])"
      ]
     },
     "execution_count": 19,
     "metadata": {},
     "output_type": "execute_result"
    }
   ],
   "source": [
    "np.linspace(1, 10, 5)"
   ]
  },
  {
   "cell_type": "code",
   "execution_count": 20,
   "id": "1098defb-1d7c-4a27-825f-1e5c1f81f67c",
   "metadata": {
    "tags": []
   },
   "outputs": [
    {
     "data": {
      "text/plain": [
       "\u001b[1;31mSignature:\u001b[0m\n",
       "\u001b[0mnp\u001b[0m\u001b[1;33m.\u001b[0m\u001b[0mlogspace\u001b[0m\u001b[1;33m(\u001b[0m\u001b[1;33m\n",
       "\u001b[0m    \u001b[0mstart\u001b[0m\u001b[1;33m,\u001b[0m\u001b[1;33m\n",
       "\u001b[0m    \u001b[0mstop\u001b[0m\u001b[1;33m,\u001b[0m\u001b[1;33m\n",
       "\u001b[0m    \u001b[0mnum\u001b[0m\u001b[1;33m=\u001b[0m\u001b[1;36m50\u001b[0m\u001b[1;33m,\u001b[0m\u001b[1;33m\n",
       "\u001b[0m    \u001b[0mendpoint\u001b[0m\u001b[1;33m=\u001b[0m\u001b[1;32mTrue\u001b[0m\u001b[1;33m,\u001b[0m\u001b[1;33m\n",
       "\u001b[0m    \u001b[0mbase\u001b[0m\u001b[1;33m=\u001b[0m\u001b[1;36m10.0\u001b[0m\u001b[1;33m,\u001b[0m\u001b[1;33m\n",
       "\u001b[0m    \u001b[0mdtype\u001b[0m\u001b[1;33m=\u001b[0m\u001b[1;32mNone\u001b[0m\u001b[1;33m,\u001b[0m\u001b[1;33m\n",
       "\u001b[0m    \u001b[0maxis\u001b[0m\u001b[1;33m=\u001b[0m\u001b[1;36m0\u001b[0m\u001b[1;33m,\u001b[0m\u001b[1;33m\n",
       "\u001b[0m\u001b[1;33m)\u001b[0m\u001b[1;33m\u001b[0m\u001b[1;33m\u001b[0m\u001b[0m\n",
       "\u001b[1;31mDocstring:\u001b[0m\n",
       "Return numbers spaced evenly on a log scale.\n",
       "\n",
       "In linear space, the sequence starts at ``base ** start``\n",
       "(`base` to the power of `start`) and ends with ``base ** stop``\n",
       "(see `endpoint` below).\n",
       "\n",
       ".. versionchanged:: 1.16.0\n",
       "    Non-scalar `start` and `stop` are now supported.\n",
       "\n",
       "Parameters\n",
       "----------\n",
       "start : array_like\n",
       "    ``base ** start`` is the starting value of the sequence.\n",
       "stop : array_like\n",
       "    ``base ** stop`` is the final value of the sequence, unless `endpoint`\n",
       "    is False.  In that case, ``num + 1`` values are spaced over the\n",
       "    interval in log-space, of which all but the last (a sequence of\n",
       "    length `num`) are returned.\n",
       "num : integer, optional\n",
       "    Number of samples to generate.  Default is 50.\n",
       "endpoint : boolean, optional\n",
       "    If true, `stop` is the last sample. Otherwise, it is not included.\n",
       "    Default is True.\n",
       "base : array_like, optional\n",
       "    The base of the log space. The step size between the elements in\n",
       "    ``ln(samples) / ln(base)`` (or ``log_base(samples)``) is uniform.\n",
       "    Default is 10.0.\n",
       "dtype : dtype\n",
       "    The type of the output array.  If `dtype` is not given, the data type\n",
       "    is inferred from `start` and `stop`. The inferred type will never be\n",
       "    an integer; `float` is chosen even if the arguments would produce an\n",
       "    array of integers.\n",
       "axis : int, optional\n",
       "    The axis in the result to store the samples.  Relevant only if start\n",
       "    or stop are array-like.  By default (0), the samples will be along a\n",
       "    new axis inserted at the beginning. Use -1 to get an axis at the end.\n",
       "\n",
       "    .. versionadded:: 1.16.0\n",
       "\n",
       "\n",
       "Returns\n",
       "-------\n",
       "samples : ndarray\n",
       "    `num` samples, equally spaced on a log scale.\n",
       "\n",
       "See Also\n",
       "--------\n",
       "arange : Similar to linspace, with the step size specified instead of the\n",
       "         number of samples. Note that, when used with a float endpoint, the\n",
       "         endpoint may or may not be included.\n",
       "linspace : Similar to logspace, but with the samples uniformly distributed\n",
       "           in linear space, instead of log space.\n",
       "geomspace : Similar to logspace, but with endpoints specified directly.\n",
       "\n",
       "Notes\n",
       "-----\n",
       "Logspace is equivalent to the code\n",
       "\n",
       ">>> y = np.linspace(start, stop, num=num, endpoint=endpoint)\n",
       "... # doctest: +SKIP\n",
       ">>> power(base, y).astype(dtype)\n",
       "... # doctest: +SKIP\n",
       "\n",
       "Examples\n",
       "--------\n",
       ">>> np.logspace(2.0, 3.0, num=4)\n",
       "array([ 100.        ,  215.443469  ,  464.15888336, 1000.        ])\n",
       ">>> np.logspace(2.0, 3.0, num=4, endpoint=False)\n",
       "array([100.        ,  177.827941  ,  316.22776602,  562.34132519])\n",
       ">>> np.logspace(2.0, 3.0, num=4, base=2.0)\n",
       "array([4.        ,  5.0396842 ,  6.34960421,  8.        ])\n",
       "\n",
       "Graphical illustration:\n",
       "\n",
       ">>> import matplotlib.pyplot as plt\n",
       ">>> N = 10\n",
       ">>> x1 = np.logspace(0.1, 1, N, endpoint=True)\n",
       ">>> x2 = np.logspace(0.1, 1, N, endpoint=False)\n",
       ">>> y = np.zeros(N)\n",
       ">>> plt.plot(x1, y, 'o')\n",
       "[<matplotlib.lines.Line2D object at 0x...>]\n",
       ">>> plt.plot(x2, y + 0.5, 'o')\n",
       "[<matplotlib.lines.Line2D object at 0x...>]\n",
       ">>> plt.ylim([-0.5, 1])\n",
       "(-0.5, 1)\n",
       ">>> plt.show()\n",
       "\u001b[1;31mFile:\u001b[0m      c:\\programdata\\anaconda3\\lib\\site-packages\\numpy\\core\\function_base.py\n",
       "\u001b[1;31mType:\u001b[0m      function\n"
      ]
     },
     "metadata": {},
     "output_type": "display_data"
    }
   ],
   "source": [
    "np.logspace?"
   ]
  },
  {
   "cell_type": "code",
   "execution_count": 21,
   "id": "43505647-4d26-48e3-bb1f-4fc6b42a2b24",
   "metadata": {},
   "outputs": [
    {
     "data": {
      "text/plain": [
       "array([1.e+01, 1.e+16])"
      ]
     },
     "execution_count": 21,
     "metadata": {},
     "output_type": "execute_result"
    }
   ],
   "source": [
    "np.logspace(1, 16, 2)"
   ]
  },
  {
   "cell_type": "code",
   "execution_count": 22,
   "id": "c67fe93f-9846-4610-a9fe-10474c054ad6",
   "metadata": {},
   "outputs": [
    {
     "data": {
      "text/plain": [
       "2.718281828459045"
      ]
     },
     "execution_count": 22,
     "metadata": {},
     "output_type": "execute_result"
    }
   ],
   "source": [
    "np.e"
   ]
  },
  {
   "cell_type": "code",
   "execution_count": 23,
   "id": "b9656110-9665-4d22-ad4d-10d3e64d4946",
   "metadata": {},
   "outputs": [
    {
     "data": {
      "text/plain": [
       "7.3890560989306495"
      ]
     },
     "execution_count": 23,
     "metadata": {},
     "output_type": "execute_result"
    }
   ],
   "source": [
    "np.e**2"
   ]
  },
  {
   "cell_type": "code",
   "execution_count": 24,
   "id": "a6d3afaa-3469-4195-be56-e47f362079a0",
   "metadata": {},
   "outputs": [
    {
     "data": {
      "text/plain": [
       "array([1.00000000e+00, 2.27278564e+00, 5.16555456e+00, 1.17401982e+01,\n",
       "       2.66829540e+01, 6.06446346e+01, 1.37832255e+02, 3.13263169e+02,\n",
       "       7.11980032e+02, 1.61817799e+03])"
      ]
     },
     "execution_count": 24,
     "metadata": {},
     "output_type": "execute_result"
    }
   ],
   "source": [
    "np.logspace(\n",
    "    0,         # start  starting value of the sequence\n",
    "    np.e**2,   # stop   ending value of the sequence\n",
    "    10,        # num    number of elements in the sequence\n",
    "    base=np.e  # base   base of the logarithm\n",
    ")"
   ]
  },
  {
   "cell_type": "code",
   "execution_count": 25,
   "id": "28739bef-3514-4ebe-9c8c-2a3e7c549005",
   "metadata": {},
   "outputs": [
    {
     "data": {
      "text/plain": [
       "array([1.00000000e+01, 5.62341325e+04, 3.16227766e+08, 1.77827941e+12,\n",
       "       1.00000000e+16])"
      ]
     },
     "execution_count": 25,
     "metadata": {},
     "output_type": "execute_result"
    }
   ],
   "source": [
    "np.logspace(\n",
    "    1,\n",
    "    16,\n",
    "    5,\n",
    "    2\n",
    ")"
   ]
  },
  {
   "cell_type": "code",
   "execution_count": 26,
   "id": "6daef10d-44ee-44f4-90c7-42f516fc069a",
   "metadata": {},
   "outputs": [
    {
     "data": {
      "text/plain": [
       "\u001b[1;31mType:\u001b[0m        MGridClass\n",
       "\u001b[1;31mString form:\u001b[0m <numpy.lib.index_tricks.MGridClass object at 0x0000015E1F8D9790>\n",
       "\u001b[1;31mFile:\u001b[0m        c:\\programdata\\anaconda3\\lib\\site-packages\\numpy\\lib\\index_tricks.py\n",
       "\u001b[1;31mDocstring:\u001b[0m  \n",
       "`nd_grid` instance which returns a dense multi-dimensional \"meshgrid\".\n",
       "\n",
       "An instance of `numpy.lib.index_tricks.nd_grid` which returns an dense\n",
       "(or fleshed out) mesh-grid when indexed, so that each returned argument\n",
       "has the same shape.  The dimensions and number of the output arrays are\n",
       "equal to the number of indexing dimensions.  If the step length is not a\n",
       "complex number, then the stop is not inclusive.\n",
       "\n",
       "However, if the step length is a **complex number** (e.g. 5j), then\n",
       "the integer part of its magnitude is interpreted as specifying the\n",
       "number of points to create between the start and stop values, where\n",
       "the stop value **is inclusive**.\n",
       "\n",
       "Returns\n",
       "-------\n",
       "mesh-grid `ndarrays` all of the same dimensions\n",
       "\n",
       "See Also\n",
       "--------\n",
       "numpy.lib.index_tricks.nd_grid : class of `ogrid` and `mgrid` objects\n",
       "ogrid : like mgrid but returns open (not fleshed out) mesh grids\n",
       "r_ : array concatenator\n",
       "\n",
       "Examples\n",
       "--------\n",
       ">>> np.mgrid[0:5,0:5]\n",
       "array([[[0, 0, 0, 0, 0],\n",
       "        [1, 1, 1, 1, 1],\n",
       "        [2, 2, 2, 2, 2],\n",
       "        [3, 3, 3, 3, 3],\n",
       "        [4, 4, 4, 4, 4]],\n",
       "       [[0, 1, 2, 3, 4],\n",
       "        [0, 1, 2, 3, 4],\n",
       "        [0, 1, 2, 3, 4],\n",
       "        [0, 1, 2, 3, 4],\n",
       "        [0, 1, 2, 3, 4]]])\n",
       ">>> np.mgrid[-1:1:5j]\n",
       "array([-1. , -0.5,  0. ,  0.5,  1. ])\n"
      ]
     },
     "metadata": {},
     "output_type": "display_data"
    }
   ],
   "source": [
    "np.mgrid?"
   ]
  },
  {
   "cell_type": "code",
   "execution_count": 27,
   "id": "84e3c436-4080-4a71-b275-17d545b8fe2e",
   "metadata": {},
   "outputs": [
    {
     "data": {
      "text/plain": [
       "array([[[0, 0, 0, 0, 0],\n",
       "        [1, 1, 1, 1, 1],\n",
       "        [2, 2, 2, 2, 2],\n",
       "        [3, 3, 3, 3, 3],\n",
       "        [4, 4, 4, 4, 4]],\n",
       "\n",
       "       [[0, 1, 2, 3, 4],\n",
       "        [0, 1, 2, 3, 4],\n",
       "        [0, 1, 2, 3, 4],\n",
       "        [0, 1, 2, 3, 4],\n",
       "        [0, 1, 2, 3, 4]]])"
      ]
     },
     "execution_count": 27,
     "metadata": {},
     "output_type": "execute_result"
    }
   ],
   "source": [
    "ex_grid = np.mgrid[0:5, 0:5]\n",
    "ex_grid"
   ]
  },
  {
   "cell_type": "code",
   "execution_count": 28,
   "id": "d0cc1467-03b8-47b9-a248-2b33acb9f183",
   "metadata": {},
   "outputs": [
    {
     "data": {
      "text/plain": [
       "3"
      ]
     },
     "execution_count": 28,
     "metadata": {},
     "output_type": "execute_result"
    }
   ],
   "source": [
    "ex_grid[1, 2, 3]"
   ]
  },
  {
   "cell_type": "code",
   "execution_count": 29,
   "id": "4b5d224f-b113-4cf4-b1e8-f140e03a0b38",
   "metadata": {},
   "outputs": [
    {
     "data": {
      "text/plain": [
       "array([[[0, 0],\n",
       "        [1, 1]],\n",
       "\n",
       "       [[0, 1],\n",
       "        [0, 1]]])"
      ]
     },
     "execution_count": 29,
     "metadata": {},
     "output_type": "execute_result"
    }
   ],
   "source": [
    "np.mgrid[0:1+1, 0:1+1]"
   ]
  },
  {
   "cell_type": "code",
   "execution_count": 30,
   "id": "1fefdda4-232b-4ff3-8051-d655b0aabd07",
   "metadata": {},
   "outputs": [
    {
     "data": {
      "text/plain": [
       "array([[-0.64774223]])"
      ]
     },
     "execution_count": 30,
     "metadata": {},
     "output_type": "execute_result"
    }
   ],
   "source": [
    "np.random.randn(1, 1)"
   ]
  },
  {
   "cell_type": "code",
   "execution_count": 31,
   "id": "80287150",
   "metadata": {},
   "outputs": [
    {
     "data": {
      "text/plain": [
       "array([[-0.87363524,  0.39649984],\n",
       "       [-0.25157119, -0.3089113 ]])"
      ]
     },
     "execution_count": 31,
     "metadata": {},
     "output_type": "execute_result"
    }
   ],
   "source": [
    "np.random.randn(2, 2)"
   ]
  },
  {
   "cell_type": "code",
   "execution_count": 32,
   "id": "678fb05f-4ad8-45f3-8022-3921ab160516",
   "metadata": {
    "tags": []
   },
   "outputs": [
    {
     "data": {
      "text/plain": [
       "\u001b[1;31mDocstring:\u001b[0m\n",
       "randn(d0, d1, ..., dn)\n",
       "\n",
       "Return a sample (or samples) from the \"standard normal\" distribution.\n",
       "\n",
       ".. note::\n",
       "    This is a convenience function for users porting code from Matlab,\n",
       "    and wraps `standard_normal`. That function takes a\n",
       "    tuple to specify the size of the output, which is consistent with\n",
       "    other NumPy functions like `numpy.zeros` and `numpy.ones`.\n",
       "\n",
       ".. note::\n",
       "    New code should use the ``standard_normal`` method of a ``default_rng()``\n",
       "    instance instead; please see the :ref:`random-quick-start`.\n",
       "\n",
       "If positive int_like arguments are provided, `randn` generates an array\n",
       "of shape ``(d0, d1, ..., dn)``, filled\n",
       "with random floats sampled from a univariate \"normal\" (Gaussian)\n",
       "distribution of mean 0 and variance 1. A single float randomly sampled\n",
       "from the distribution is returned if no argument is provided.\n",
       "\n",
       "Parameters\n",
       "----------\n",
       "d0, d1, ..., dn : int, optional\n",
       "    The dimensions of the returned array, must be non-negative.\n",
       "    If no argument is given a single Python float is returned.\n",
       "\n",
       "Returns\n",
       "-------\n",
       "Z : ndarray or float\n",
       "    A ``(d0, d1, ..., dn)``-shaped array of floating-point samples from\n",
       "    the standard normal distribution, or a single such float if\n",
       "    no parameters were supplied.\n",
       "\n",
       "See Also\n",
       "--------\n",
       "standard_normal : Similar, but takes a tuple as its argument.\n",
       "normal : Also accepts mu and sigma arguments.\n",
       "Generator.standard_normal: which should be used for new code.\n",
       "\n",
       "Notes\n",
       "-----\n",
       "For random samples from :math:`N(\\mu, \\sigma^2)`, use:\n",
       "\n",
       "``sigma * np.random.randn(...) + mu``\n",
       "\n",
       "Examples\n",
       "--------\n",
       ">>> np.random.randn()\n",
       "2.1923875335537315  # random\n",
       "\n",
       "Two-by-four array of samples from N(3, 6.25):\n",
       "\n",
       ">>> 3 + 2.5 * np.random.randn(2, 4)\n",
       "array([[-4.49401501,  4.00950034, -1.81814867,  7.29718677],   # random\n",
       "       [ 0.39924804,  4.68456316,  4.99394529,  4.84057254]])  # random\n",
       "\u001b[1;31mType:\u001b[0m      builtin_function_or_method\n"
      ]
     },
     "metadata": {},
     "output_type": "display_data"
    }
   ],
   "source": [
    "np.random.randn?"
   ]
  },
  {
   "cell_type": "code",
   "execution_count": 33,
   "id": "402fa507-2d43-41e5-847f-4c7b5f12e8e0",
   "metadata": {},
   "outputs": [],
   "source": [
    "np.random.seed(4)"
   ]
  },
  {
   "cell_type": "code",
   "execution_count": 34,
   "id": "61673553-2bbb-44c9-8bca-348257dfff6f",
   "metadata": {},
   "outputs": [],
   "source": [
    "r = np.random.rand(10, 2)"
   ]
  },
  {
   "cell_type": "code",
   "execution_count": 35,
   "id": "bed991f3-6c89-4a05-961f-89484730981b",
   "metadata": {},
   "outputs": [
    {
     "data": {
      "text/plain": [
       "array([[0.96702984, 0.54723225],\n",
       "       [0.97268436, 0.71481599],\n",
       "       [0.69772882, 0.2160895 ],\n",
       "       [0.97627445, 0.00623026],\n",
       "       [0.25298236, 0.43479153],\n",
       "       [0.77938292, 0.19768507],\n",
       "       [0.86299324, 0.98340068],\n",
       "       [0.16384224, 0.59733394],\n",
       "       [0.0089861 , 0.38657128],\n",
       "       [0.04416006, 0.95665297]])"
      ]
     },
     "execution_count": 35,
     "metadata": {},
     "output_type": "execute_result"
    }
   ],
   "source": [
    "r"
   ]
  },
  {
   "cell_type": "code",
   "execution_count": 36,
   "id": "2899cc73-e990-479f-b468-13fd7925e48b",
   "metadata": {},
   "outputs": [],
   "source": [
    "np.random.seed(5)"
   ]
  },
  {
   "cell_type": "code",
   "execution_count": 37,
   "id": "3a101205-7a0b-404d-aaba-20ccbbcd217f",
   "metadata": {},
   "outputs": [],
   "source": [
    "r2 = np.random.rand(5,5)"
   ]
  },
  {
   "cell_type": "code",
   "execution_count": 38,
   "id": "ebfbb23e-0389-4f53-9bbe-93a7de03956a",
   "metadata": {},
   "outputs": [
    {
     "data": {
      "text/plain": [
       "array([[0.22199317, 0.87073231, 0.20671916, 0.91861091, 0.48841119],\n",
       "       [0.61174386, 0.76590786, 0.51841799, 0.2968005 , 0.18772123],\n",
       "       [0.08074127, 0.7384403 , 0.44130922, 0.15830987, 0.87993703],\n",
       "       [0.27408646, 0.41423502, 0.29607993, 0.62878791, 0.57983781],\n",
       "       [0.5999292 , 0.26581912, 0.28468588, 0.25358821, 0.32756395]])"
      ]
     },
     "execution_count": 38,
     "metadata": {},
     "output_type": "execute_result"
    }
   ],
   "source": [
    "r2"
   ]
  },
  {
   "cell_type": "code",
   "execution_count": 39,
   "id": "3da76136-b600-49dd-8286-16d4a324fa00",
   "metadata": {},
   "outputs": [
    {
     "data": {
      "text/plain": [
       "array([[0.22199317, 0.87073231, 0.20671916, 0.91861091, 0.48841119],\n",
       "       [0.61174386, 0.76590786, 0.51841799, 0.2968005 , 0.18772123],\n",
       "       [0.08074127, 0.7384403 , 0.44130922, 0.15830987, 0.87993703],\n",
       "       [0.27408646, 0.41423502, 0.29607993, 0.62878791, 0.57983781],\n",
       "       [0.5999292 , 0.26581912, 0.28468588, 0.25358821, 0.32756395]])"
      ]
     },
     "execution_count": 39,
     "metadata": {},
     "output_type": "execute_result"
    }
   ],
   "source": [
    "r2"
   ]
  },
  {
   "cell_type": "code",
   "execution_count": 40,
   "id": "d653ad8a-7623-45cb-b977-c8242161d843",
   "metadata": {},
   "outputs": [],
   "source": [
    "r3 = np.random.rand(10, 2)"
   ]
  },
  {
   "cell_type": "code",
   "execution_count": 41,
   "id": "87177b31-97ae-408d-8ed3-c075282ddd11",
   "metadata": {},
   "outputs": [
    {
     "data": {
      "text/plain": [
       "array([[0.1441643 , 0.16561286],\n",
       "       [0.96393053, 0.96022672],\n",
       "       [0.18841466, 0.02430656],\n",
       "       [0.20455555, 0.69984361],\n",
       "       [0.77951459, 0.02293309],\n",
       "       [0.57766286, 0.00164217],\n",
       "       [0.51547261, 0.63979518],\n",
       "       [0.9856244 , 0.2590976 ],\n",
       "       [0.80249689, 0.87048309],\n",
       "       [0.92274961, 0.00221421]])"
      ]
     },
     "execution_count": 41,
     "metadata": {},
     "output_type": "execute_result"
    }
   ],
   "source": [
    "r3"
   ]
  },
  {
   "cell_type": "code",
   "execution_count": 42,
   "id": "a36619bf-7aed-4c53-8dc4-df124d0751af",
   "metadata": {},
   "outputs": [
    {
     "data": {
      "text/plain": [
       "array([0.4349867 , 0.97345204, 0.62407665, 0.34092971, 0.69136453])"
      ]
     },
     "execution_count": 42,
     "metadata": {},
     "output_type": "execute_result"
    }
   ],
   "source": [
    "np.random.seed(1231)\n",
    "random_number = np.random.rand(5)\n",
    "random_number"
   ]
  },
  {
   "cell_type": "code",
   "execution_count": 43,
   "id": "a1cd7a12-51a7-4074-8099-ab5c276993b5",
   "metadata": {},
   "outputs": [
    {
     "name": "stdout",
     "output_type": "stream",
     "text": [
      "[0.21486448 0.05320882 0.99298964 0.72044526 0.56748278]\n"
     ]
    }
   ],
   "source": [
    "random_numbers = np.random.rand(5)\n",
    "print(random_numbers)"
   ]
  },
  {
   "cell_type": "code",
   "execution_count": 44,
   "id": "e4fa3a62-f6d5-4ce1-a6e0-e4eb041a5c3b",
   "metadata": {},
   "outputs": [
    {
     "data": {
      "text/plain": [
       "array([[4.17022005e-01, 7.20324493e-01],\n",
       "       [1.14374817e-04, 3.02332573e-01]])"
      ]
     },
     "execution_count": 44,
     "metadata": {},
     "output_type": "execute_result"
    }
   ],
   "source": [
    "np.random.seed(1)\n",
    "random_with_seed = np.random.rand(2, 2)\n",
    "random_with_seed"
   ]
  },
  {
   "cell_type": "code",
   "execution_count": 45,
   "id": "6b179754-1c76-490d-97e1-fe49e6e09cfb",
   "metadata": {},
   "outputs": [
    {
     "data": {
      "text/plain": [
       "array([[0.14675589, 0.09233859, 0.18626021, 0.34556073, 0.39676747],\n",
       "       [0.53881673, 0.41919451, 0.6852195 , 0.20445225, 0.87811744]])"
      ]
     },
     "execution_count": 45,
     "metadata": {},
     "output_type": "execute_result"
    }
   ],
   "source": [
    "random_without_seed = np.random.rand(2, 5)\n",
    "random_without_seed"
   ]
  },
  {
   "cell_type": "code",
   "execution_count": 46,
   "id": "c425b579-ecde-4751-a7f9-ef5e52ad2a3f",
   "metadata": {},
   "outputs": [
    {
     "data": {
      "text/plain": [
       "array([[0, 0, 0, 0, 0],\n",
       "       [1, 0, 0, 0, 0],\n",
       "       [0, 2, 0, 0, 0],\n",
       "       [0, 0, 3, 0, 0],\n",
       "       [0, 0, 0, 4, 0]])"
      ]
     },
     "execution_count": 46,
     "metadata": {},
     "output_type": "execute_result"
    }
   ],
   "source": [
    "np.diag([1, 2, 3, 4], k=-1)"
   ]
  },
  {
   "cell_type": "code",
   "execution_count": 47,
   "id": "77294166-c663-4405-96de-67c55ff49036",
   "metadata": {},
   "outputs": [
    {
     "data": {
      "text/plain": [
       "array([[0, 0, 0, 4, 0],\n",
       "       [0, 0, 3, 0, 0],\n",
       "       [0, 2, 0, 0, 0],\n",
       "       [1, 0, 0, 0, 0],\n",
       "       [0, 0, 0, 0, 0]])"
      ]
     },
     "execution_count": 47,
     "metadata": {},
     "output_type": "execute_result"
    }
   ],
   "source": [
    "np.diag([1, 2, 3, 4], k=-1)[::-1]"
   ]
  },
  {
   "cell_type": "code",
   "execution_count": 48,
   "id": "5169b555-bfd8-4286-9a19-2d711b5a3ae0",
   "metadata": {},
   "outputs": [
    {
     "data": {
      "text/plain": [
       "array([[1, 0, 0, 0, 0],\n",
       "       [0, 1, 0, 0, 0],\n",
       "       [0, 0, 1, 0, 0],\n",
       "       [0, 0, 0, 1, 0],\n",
       "       [0, 0, 0, 0, 1]])"
      ]
     },
     "execution_count": 48,
     "metadata": {},
     "output_type": "execute_result"
    }
   ],
   "source": [
    "np.eye(5, dtype='int')"
   ]
  },
  {
   "cell_type": "code",
   "execution_count": 49,
   "id": "c2fb1fd3-21a7-42a7-b802-a6c1721b2590",
   "metadata": {},
   "outputs": [
    {
     "data": {
      "text/plain": [
       "array([[0, 0],\n",
       "       [0, 0],\n",
       "       [0, 0],\n",
       "       [0, 0],\n",
       "       [0, 0]])"
      ]
     },
     "execution_count": 49,
     "metadata": {},
     "output_type": "execute_result"
    }
   ],
   "source": [
    "np.zeros((5, 2), dtype='int')"
   ]
  },
  {
   "cell_type": "code",
   "execution_count": 50,
   "id": "a7987152-48f8-40e7-9514-8b762f21012f",
   "metadata": {},
   "outputs": [
    {
     "data": {
      "text/plain": [
       "array([[1, 1, 1],\n",
       "       [1, 1, 1],\n",
       "       [1, 1, 1],\n",
       "       [1, 1, 1],\n",
       "       [1, 1, 1]])"
      ]
     },
     "execution_count": 50,
     "metadata": {},
     "output_type": "execute_result"
    }
   ],
   "source": [
    "np.ones((5, 3), dtype='int')"
   ]
  },
  {
   "cell_type": "code",
   "execution_count": 51,
   "id": "715f585e-329e-4609-a6c7-3c7fb53f8fdc",
   "metadata": {},
   "outputs": [
    {
     "data": {
      "text/plain": [
       "array([['', ''],\n",
       "       ['', ''],\n",
       "       ['', ''],\n",
       "       ['', '']], dtype='<U1')"
      ]
     },
     "execution_count": 51,
     "metadata": {},
     "output_type": "execute_result"
    }
   ],
   "source": [
    "np.empty((4, 2), dtype='str')"
   ]
  },
  {
   "cell_type": "code",
   "execution_count": 52,
   "id": "8d39f99f-6c54-4ca9-a1ee-c4baf38c0597",
   "metadata": {},
   "outputs": [
    {
     "data": {
      "text/plain": [
       "array([[0.00000000e+000, 0.00000000e+000],\n",
       "       [0.00000000e+000, 0.00000000e+000],\n",
       "       [0.00000000e+000, 8.14220184e-321],\n",
       "       [3.11525958e-307, 1.24610723e-306]])"
      ]
     },
     "execution_count": 52,
     "metadata": {},
     "output_type": "execute_result"
    }
   ],
   "source": [
    "np.empty((4, 2))"
   ]
  },
  {
   "cell_type": "code",
   "execution_count": 53,
   "id": "9aee09f7-3be8-4d1d-b713-57be4279b25f",
   "metadata": {},
   "outputs": [
    {
     "data": {
      "text/plain": [
       "array([['', ''],\n",
       "       ['', ''],\n",
       "       ['', ''],\n",
       "       ['', '']], dtype='<U1')"
      ]
     },
     "execution_count": 53,
     "metadata": {},
     "output_type": "execute_result"
    }
   ],
   "source": [
    "np.full((4, 2), '', dtype='str')"
   ]
  },
  {
   "cell_type": "code",
   "execution_count": 54,
   "id": "f5a27d55-a469-4dbe-9dcf-d460af4cbb17",
   "metadata": {},
   "outputs": [
    {
     "data": {
      "text/plain": [
       "array([[0, 0, 0, 0, 0],\n",
       "       [0, 1, 0, 0, 0],\n",
       "       [0, 0, 2, 0, 0],\n",
       "       [0, 0, 0, 3, 0],\n",
       "       [0, 0, 0, 0, 4]])"
      ]
     },
     "execution_count": 54,
     "metadata": {},
     "output_type": "execute_result"
    }
   ],
   "source": [
    "np.diag(np.arange(5))"
   ]
  },
  {
   "cell_type": "code",
   "execution_count": 55,
   "id": "d985d8b8-039d-4721-b076-b2585bf9c2ac",
   "metadata": {},
   "outputs": [
    {
     "name": "stdout",
     "output_type": "stream",
     "text": [
      "[[6 7]\n",
      " [8 9]]\n"
     ]
    }
   ],
   "source": [
    "ex_array = np.array([[6, 7], [8, 9]])\n",
    "print(ex_array)"
   ]
  },
  {
   "cell_type": "code",
   "execution_count": 56,
   "id": "383b8027-dba7-401b-adae-07f5c39d027f",
   "metadata": {},
   "outputs": [
    {
     "data": {
      "text/plain": [
       "array([[6, 7, 6, 7],\n",
       "       [8, 9, 8, 9],\n",
       "       [6, 7, 6, 7],\n",
       "       [8, 9, 8, 9],\n",
       "       [6, 7, 6, 7],\n",
       "       [8, 9, 8, 9]])"
      ]
     },
     "execution_count": 56,
     "metadata": {},
     "output_type": "execute_result"
    }
   ],
   "source": [
    "np.tile(ex_array, (3, 2))"
   ]
  },
  {
   "cell_type": "code",
   "execution_count": 57,
   "id": "348cfdfe-1686-46fc-848f-58c20e9ab9de",
   "metadata": {},
   "outputs": [
    {
     "data": {
      "text/plain": [
       "range(0, 100000)"
      ]
     },
     "execution_count": 57,
     "metadata": {},
     "output_type": "execute_result"
    }
   ],
   "source": [
    "L = range(100_000)\n",
    "L"
   ]
  },
  {
   "cell_type": "code",
   "execution_count": 58,
   "id": "2ddd8f45-4b2c-489f-8c5b-929b1a98945a",
   "metadata": {},
   "outputs": [
    {
     "data": {
      "text/plain": [
       "[1, 8, 27, 64]"
      ]
     },
     "execution_count": 58,
     "metadata": {},
     "output_type": "execute_result"
    }
   ],
   "source": [
    "upgraded_b = [i**3 for i in range(1, 4+1)]\n",
    "upgraded_b"
   ]
  },
  {
   "cell_type": "code",
   "execution_count": 59,
   "id": "95660a6d-922e-47c1-b226-7cad0ae0e57a",
   "metadata": {},
   "outputs": [
    {
     "data": {
      "text/plain": [
       "[0, 1, 4, 9, 16, 25, 36, 49, 64, 81]"
      ]
     },
     "execution_count": 59,
     "metadata": {},
     "output_type": "execute_result"
    }
   ],
   "source": [
    "L = range(10)\n",
    "new_L = [i**2 for i in L]\n",
    "new_L"
   ]
  },
  {
   "cell_type": "code",
   "execution_count": 60,
   "id": "5b03029b-e34a-4353-a3d9-1a1b67b02b53",
   "metadata": {},
   "outputs": [
    {
     "data": {
      "text/plain": [
       "array([0, 1, 2, 3, 4, 5, 6, 7, 8, 9])"
      ]
     },
     "execution_count": 60,
     "metadata": {},
     "output_type": "execute_result"
    }
   ],
   "source": [
    "np.arange(10)"
   ]
  },
  {
   "cell_type": "code",
   "execution_count": 61,
   "id": "6dc85d34-2553-45fd-a985-f6aeed5b31be",
   "metadata": {},
   "outputs": [
    {
     "data": {
      "text/plain": [
       "array([100, 105, 110, 115, 120, 125, 130, 135, 140, 145])"
      ]
     },
     "execution_count": 61,
     "metadata": {},
     "output_type": "execute_result"
    }
   ],
   "source": [
    "np.arange(100, 150, 5)"
   ]
  },
  {
   "cell_type": "code",
   "execution_count": 62,
   "id": "251167f0-7adf-4916-87b3-e97382a7859e",
   "metadata": {},
   "outputs": [
    {
     "data": {
      "text/plain": [
       "array([-1.00000000e+00, -9.00000000e-01, -8.00000000e-01, -7.00000000e-01,\n",
       "       -6.00000000e-01, -5.00000000e-01, -4.00000000e-01, -3.00000000e-01,\n",
       "       -2.00000000e-01, -1.00000000e-01, -2.22044605e-16,  1.00000000e-01,\n",
       "        2.00000000e-01,  3.00000000e-01,  4.00000000e-01,  5.00000000e-01,\n",
       "        6.00000000e-01,  7.00000000e-01,  8.00000000e-01,  9.00000000e-01])"
      ]
     },
     "execution_count": 62,
     "metadata": {},
     "output_type": "execute_result"
    }
   ],
   "source": [
    "np.arange(-1, 1, 0.1)"
   ]
  },
  {
   "cell_type": "code",
   "execution_count": 63,
   "id": "dc35218a-7928-43ba-a537-d687fb5d39d7",
   "metadata": {},
   "outputs": [
    {
     "data": {
      "text/plain": [
       "array([20.        , 21.11111111, 22.22222222, 23.33333333, 24.44444444,\n",
       "       25.55555556, 26.66666667, 27.77777778, 28.88888889, 30.        ])"
      ]
     },
     "execution_count": 63,
     "metadata": {},
     "output_type": "execute_result"
    }
   ],
   "source": [
    "np.linspace(20, 30, 10)"
   ]
  },
  {
   "cell_type": "code",
   "execution_count": 64,
   "id": "bebdaffe-30d3-4c45-99ff-0f53601bbf37",
   "metadata": {},
   "outputs": [
    {
     "data": {
      "text/plain": [
       "array([[1, 1, 1, 1, 1, 1, 1, 1, 1, 1],\n",
       "       [1, 1, 1, 1, 1, 1, 1, 1, 1, 1],\n",
       "       [1, 1, 1, 1, 1, 1, 1, 1, 1, 1],\n",
       "       [1, 1, 1, 1, 1, 1, 1, 1, 1, 1],\n",
       "       [1, 1, 1, 1, 1, 1, 1, 1, 1, 1],\n",
       "       [1, 1, 1, 1, 1, 1, 1, 1, 1, 1],\n",
       "       [1, 1, 1, 1, 1, 1, 1, 1, 1, 1],\n",
       "       [1, 1, 1, 1, 1, 1, 1, 1, 1, 1],\n",
       "       [1, 1, 1, 1, 1, 1, 1, 1, 1, 1],\n",
       "       [1, 1, 1, 1, 1, 1, 1, 1, 1, 1]])"
      ]
     },
     "execution_count": 64,
     "metadata": {},
     "output_type": "execute_result"
    }
   ],
   "source": [
    "np.ones((10, 10), dtype='int')"
   ]
  },
  {
   "cell_type": "code",
   "execution_count": 65,
   "id": "091866c6-d1f4-487e-aa37-869724c87315",
   "metadata": {},
   "outputs": [
    {
     "data": {
      "text/plain": [
       "array([[0, 0, 0],\n",
       "       [0, 0, 0],\n",
       "       [0, 0, 0],\n",
       "       [0, 0, 0],\n",
       "       [0, 0, 0]])"
      ]
     },
     "execution_count": 65,
     "metadata": {},
     "output_type": "execute_result"
    }
   ],
   "source": [
    "np.zeros((5, 3), dtype='int')"
   ]
  },
  {
   "cell_type": "code",
   "execution_count": 66,
   "id": "21a71844-43a8-457c-aed3-352d40077e1a",
   "metadata": {},
   "outputs": [
    {
     "data": {
      "text/plain": [
       "array([[1, 0, 0, 0, 0, 0, 0, 0, 0, 0],\n",
       "       [0, 1, 0, 0, 0, 0, 0, 0, 0, 0],\n",
       "       [0, 0, 1, 0, 0, 0, 0, 0, 0, 0],\n",
       "       [0, 0, 0, 1, 0, 0, 0, 0, 0, 0],\n",
       "       [0, 0, 0, 0, 1, 0, 0, 0, 0, 0],\n",
       "       [0, 0, 0, 0, 0, 1, 0, 0, 0, 0],\n",
       "       [0, 0, 0, 0, 0, 0, 1, 0, 0, 0],\n",
       "       [0, 0, 0, 0, 0, 0, 0, 1, 0, 0],\n",
       "       [0, 0, 0, 0, 0, 0, 0, 0, 1, 0],\n",
       "       [0, 0, 0, 0, 0, 0, 0, 0, 0, 1]])"
      ]
     },
     "execution_count": 66,
     "metadata": {},
     "output_type": "execute_result"
    }
   ],
   "source": [
    "np.eye(10, dtype='int')"
   ]
  },
  {
   "cell_type": "code",
   "execution_count": 67,
   "id": "a927dd20-6027-40bf-984b-895458196be9",
   "metadata": {},
   "outputs": [
    {
     "data": {
      "text/plain": [
       "array([[5, 0, 0],\n",
       "       [0, 8, 0],\n",
       "       [0, 0, 3]])"
      ]
     },
     "execution_count": 67,
     "metadata": {},
     "output_type": "execute_result"
    }
   ],
   "source": [
    "np.diag([5, 8, 3])"
   ]
  },
  {
   "cell_type": "code",
   "execution_count": 68,
   "id": "4a635f07-981a-430f-a54c-cf925eaa7d07",
   "metadata": {},
   "outputs": [
    {
     "data": {
      "text/plain": [
       "array([[ 1.46210794, -2.06014071, -0.3224172 , -0.38405435],\n",
       "       [ 1.13376944, -1.09989127, -0.17242821, -0.87785842],\n",
       "       [ 0.04221375,  0.58281521, -1.10061918,  1.14472371],\n",
       "       [ 0.90159072,  0.50249434,  0.90085595, -0.68372786],\n",
       "       [-0.12289023, -0.93576943, -0.26788808,  0.53035547]])"
      ]
     },
     "execution_count": 68,
     "metadata": {},
     "output_type": "execute_result"
    }
   ],
   "source": [
    "np.random.randn(5, 4)"
   ]
  },
  {
   "cell_type": "code",
   "execution_count": 69,
   "id": "18a29394-02a1-4e10-bf7a-19e1dab35d4b",
   "metadata": {},
   "outputs": [
    {
     "data": {
      "text/plain": [
       "array([[4.17022005e-01, 7.20324493e-01],\n",
       "       [1.14374817e-04, 3.02332573e-01]])"
      ]
     },
     "execution_count": 69,
     "metadata": {},
     "output_type": "execute_result"
    }
   ],
   "source": [
    "np.random.seed(1)\n",
    "np.random.rand(2, 2)"
   ]
  },
  {
   "cell_type": "code",
   "execution_count": 70,
   "id": "a8c5b220-7d76-4dae-8b48-bfb53776df16",
   "metadata": {},
   "outputs": [
    {
     "data": {
      "text/plain": [
       "array([['', '', '', ''],\n",
       "       ['', '', '', ''],\n",
       "       ['', '', '', ''],\n",
       "       ['', '', '', ''],\n",
       "       ['', '', '', ''],\n",
       "       ['', '', '', ''],\n",
       "       ['', '', '', ''],\n",
       "       ['', '', '', ''],\n",
       "       ['', '', '', ''],\n",
       "       ['', '', '', '']], dtype='<U1')"
      ]
     },
     "execution_count": 70,
     "metadata": {},
     "output_type": "execute_result"
    }
   ],
   "source": [
    "np.empty((10, 4), dtype='str')"
   ]
  },
  {
   "cell_type": "code",
   "execution_count": 71,
   "id": "6c13f008-673b-44d5-b899-301b5a1c908a",
   "metadata": {},
   "outputs": [
    {
     "data": {
      "text/plain": [
       "array([0, 0, 0, 0, 0], dtype=uint8)"
      ]
     },
     "execution_count": 71,
     "metadata": {},
     "output_type": "execute_result"
    }
   ],
   "source": [
    "x = np.zeros(5, dtype='uint8')\n",
    "x"
   ]
  },
  {
   "cell_type": "code",
   "execution_count": 72,
   "id": "46b3e8e2-bf83-412c-b242-34408975799a",
   "metadata": {},
   "outputs": [
    {
     "data": {
      "text/plain": [
       "array([255,   0,   1,   2,   3], dtype=uint8)"
      ]
     },
     "execution_count": 72,
     "metadata": {},
     "output_type": "execute_result"
    }
   ],
   "source": [
    "x[0] = 255\n",
    "x[1] = 255+1\n",
    "x[2] = 255+2\n",
    "x[3] = 255+3\n",
    "x[4] = 255+4\n",
    "x"
   ]
  },
  {
   "cell_type": "code",
   "execution_count": 73,
   "id": "3c84594d-74ba-4975-a5ef-c3902615d8dc",
   "metadata": {},
   "outputs": [
    {
     "data": {
      "text/plain": [
       "array([207,   0,   1,   2,   3], dtype=uint8)"
      ]
     },
     "execution_count": 73,
     "metadata": {},
     "output_type": "execute_result"
    }
   ],
   "source": [
    "x[0] = 1231\n",
    "x"
   ]
  },
  {
   "cell_type": "code",
   "execution_count": 74,
   "id": "7b481b5a-5c04-4379-abb4-0942b301e02c",
   "metadata": {},
   "outputs": [
    {
     "data": {
      "text/plain": [
       "64"
      ]
     },
     "execution_count": 74,
     "metadata": {},
     "output_type": "execute_result"
    }
   ],
   "source": [
    "2 ** 6"
   ]
  },
  {
   "cell_type": "code",
   "execution_count": 75,
   "id": "250ef958-ff8d-4131-9428-8c4c33afe901",
   "metadata": {},
   "outputs": [
    {
     "data": {
      "text/plain": [
       "array([ 2,  3,  4,  5,  6,  7,  8,  9, 10, 11, 12, 13, 14, 15, 16, 17, 18,\n",
       "       19, 20, 21, 22, 23, 24, 25, 26, 27, 28, 29, 30, 31, 32, 33, 34, 35,\n",
       "       36, 37, 38, 39, 40, 41, 42, 43, 44, 45, 46, 47, 48, 49, 50, 51, 52,\n",
       "       53, 54, 55, 56, 57, 58, 59, 60, 61, 62, 63, 64])"
      ]
     },
     "execution_count": 75,
     "metadata": {},
     "output_type": "execute_result"
    }
   ],
   "source": [
    "np.arange(2, 2**6 + 1)"
   ]
  },
  {
   "cell_type": "code",
   "execution_count": 76,
   "id": "2b42d1f2-b480-4459-9b70-3bc7d35aa9be",
   "metadata": {},
   "outputs": [
    {
     "data": {
      "text/plain": [
       "array([ 2,  3,  4,  5,  6,  7,  8,  9, 10, 11, 12, 13, 14, 15, 16, 17, 18,\n",
       "       19, 20, 21, 22, 23, 24, 25, 26, 27, 28, 29, 30, 31, 32, 33, 34, 35,\n",
       "       36, 37, 38, 39, 40, 41, 42, 43, 44, 45, 46, 47, 48, 49, 50, 51, 52,\n",
       "       53, 54, 55, 56, 57, 58, 59, 60, 61, 62, 63, 64])"
      ]
     },
     "execution_count": 76,
     "metadata": {},
     "output_type": "execute_result"
    }
   ],
   "source": [
    "np.array(range(2, 2**6 + 1))"
   ]
  },
  {
   "cell_type": "code",
   "execution_count": 77,
   "id": "a2b3b7e4-bcf3-4ff9-a82f-ec96df7fd9c0",
   "metadata": {},
   "outputs": [
    {
     "data": {
      "text/plain": [
       "array([1, 2, 3, 4, 5])"
      ]
     },
     "execution_count": 77,
     "metadata": {},
     "output_type": "execute_result"
    }
   ],
   "source": [
    "a = np.array([1, 2, 3, 4, 5])\n",
    "a"
   ]
  },
  {
   "cell_type": "code",
   "execution_count": 78,
   "id": "76af9928-2a92-45c8-af77-71a527a4802a",
   "metadata": {},
   "outputs": [
    {
     "data": {
      "text/plain": [
       "array([2, 3, 4])"
      ]
     },
     "execution_count": 78,
     "metadata": {},
     "output_type": "execute_result"
    }
   ],
   "source": [
    "a[1:4]"
   ]
  },
  {
   "cell_type": "code",
   "execution_count": 79,
   "id": "79bb126f-2bac-4044-b5c2-3e67fdb43c7b",
   "metadata": {},
   "outputs": [
    {
     "data": {
      "text/plain": [
       "array([ 1, -2, -3, 20,  5])"
      ]
     },
     "execution_count": 79,
     "metadata": {},
     "output_type": "execute_result"
    }
   ],
   "source": [
    "a[1:4] = [-2,-3, 20]\n",
    "a"
   ]
  },
  {
   "cell_type": "code",
   "execution_count": 80,
   "id": "9fecdf3d-024e-4779-be2a-5e65f865128b",
   "metadata": {},
   "outputs": [
    {
     "name": "stdout",
     "output_type": "stream",
     "text": [
      "0\n",
      "1\n",
      "2\n",
      "3\n",
      "4\n"
     ]
    }
   ],
   "source": [
    "for m in range(5):\n",
    "    print(m)"
   ]
  },
  {
   "cell_type": "code",
   "execution_count": 81,
   "id": "ad5b98a6-1423-432e-8c83-cfeafbc6381e",
   "metadata": {},
   "outputs": [
    {
     "data": {
      "text/plain": [
       "array([[ 0,  1,  2,  3,  4],\n",
       "       [10, 11, 12, 13, 14],\n",
       "       [20, 21, 22, 23, 24],\n",
       "       [30, 31, 32, 33, 34],\n",
       "       [40, 41, 42, 43, 44]])"
      ]
     },
     "execution_count": 81,
     "metadata": {},
     "output_type": "execute_result"
    }
   ],
   "source": [
    "A = np.array([[n+m*10 for n in range(5)] \n",
    "              for m in range(5)])\n",
    "A"
   ]
  },
  {
   "cell_type": "code",
   "execution_count": 82,
   "id": "fed53e7f-3fea-4d28-bab8-553e956b1941",
   "metadata": {},
   "outputs": [
    {
     "data": {
      "text/plain": [
       "array([[ 511588520,        350,         64,          0,          0],\n",
       "       [         0,          0,          0,          0,         54],\n",
       "       [1680946277,  858928440,  876033079,  842425188, 1717710948],\n",
       "       [1647731251,  845505076,  808466736, 1633892403,  828519524],\n",
       "       [1681483319, 1647666224, 1664574518,  946092388, 1684103989]])"
      ]
     },
     "execution_count": 82,
     "metadata": {},
     "output_type": "execute_result"
    }
   ],
   "source": [
    "B = np.empty((5, 5), dtype='int')\n",
    "B"
   ]
  },
  {
   "cell_type": "code",
   "execution_count": 83,
   "id": "98fea36c-33d3-4e6d-b23a-31609f06306a",
   "metadata": {},
   "outputs": [
    {
     "name": "stdout",
     "output_type": "stream",
     "text": [
      "0 0\n",
      "0 1\n",
      "0 2\n",
      "0 3\n",
      "0 4\n",
      "1 0\n",
      "1 1\n",
      "1 2\n",
      "1 3\n",
      "1 4\n",
      "2 0\n",
      "2 1\n",
      "2 2\n",
      "2 3\n",
      "2 4\n",
      "3 0\n",
      "3 1\n",
      "3 2\n",
      "3 3\n",
      "3 4\n",
      "4 0\n",
      "4 1\n",
      "4 2\n",
      "4 3\n",
      "4 4\n"
     ]
    }
   ],
   "source": [
    "for m in range(5):\n",
    "    for n in range(5):\n",
    "        print(m, n)"
   ]
  },
  {
   "cell_type": "code",
   "execution_count": 84,
   "id": "777f54f6-88f2-4e12-8464-0b936874c04f",
   "metadata": {},
   "outputs": [
    {
     "name": "stdout",
     "output_type": "stream",
     "text": [
      "0\n",
      "1\n",
      "2\n",
      "3\n",
      "4\n"
     ]
    }
   ],
   "source": [
    "for m in range(5):\n",
    "    print(m)"
   ]
  },
  {
   "cell_type": "code",
   "execution_count": 85,
   "id": "e55bb5ec-cccf-4ab1-9d5e-1b6651c1fff6",
   "metadata": {},
   "outputs": [
    {
     "name": "stdout",
     "output_type": "stream",
     "text": [
      "0\n",
      "1\n",
      "2\n"
     ]
    }
   ],
   "source": [
    "for n in range(3):\n",
    "    print(n)"
   ]
  },
  {
   "cell_type": "code",
   "execution_count": 86,
   "id": "231395cd-72e2-4997-8857-7783396ae4e4",
   "metadata": {
    "tags": []
   },
   "outputs": [
    {
     "name": "stdout",
     "output_type": "stream",
     "text": [
      "0 0 0\n",
      "0 0 1\n",
      "0 0 2\n",
      "0 0 3\n",
      "0 0 4\n",
      "0 1 0\n",
      "0 1 1\n",
      "0 1 2\n",
      "0 1 3\n",
      "0 1 4\n",
      "0 2 0\n",
      "0 2 1\n",
      "0 2 2\n",
      "0 2 3\n",
      "0 2 4\n",
      "0 3 0\n",
      "0 3 1\n",
      "0 3 2\n",
      "0 3 3\n",
      "0 3 4\n",
      "0 4 0\n",
      "0 4 1\n",
      "0 4 2\n",
      "0 4 3\n",
      "0 4 4\n",
      "1 0 0\n",
      "1 0 1\n",
      "1 0 2\n",
      "1 0 3\n",
      "1 0 4\n",
      "1 1 0\n",
      "1 1 1\n",
      "1 1 2\n",
      "1 1 3\n",
      "1 1 4\n",
      "1 2 0\n",
      "1 2 1\n",
      "1 2 2\n",
      "1 2 3\n",
      "1 2 4\n",
      "1 3 0\n",
      "1 3 1\n",
      "1 3 2\n",
      "1 3 3\n",
      "1 3 4\n",
      "1 4 0\n",
      "1 4 1\n",
      "1 4 2\n",
      "1 4 3\n",
      "1 4 4\n",
      "2 0 0\n",
      "2 0 1\n",
      "2 0 2\n",
      "2 0 3\n",
      "2 0 4\n",
      "2 1 0\n",
      "2 1 1\n",
      "2 1 2\n",
      "2 1 3\n",
      "2 1 4\n",
      "2 2 0\n",
      "2 2 1\n",
      "2 2 2\n",
      "2 2 3\n",
      "2 2 4\n",
      "2 3 0\n",
      "2 3 1\n",
      "2 3 2\n",
      "2 3 3\n",
      "2 3 4\n",
      "2 4 0\n",
      "2 4 1\n",
      "2 4 2\n",
      "2 4 3\n",
      "2 4 4\n",
      "3 0 0\n",
      "3 0 1\n",
      "3 0 2\n",
      "3 0 3\n",
      "3 0 4\n",
      "3 1 0\n",
      "3 1 1\n",
      "3 1 2\n",
      "3 1 3\n",
      "3 1 4\n",
      "3 2 0\n",
      "3 2 1\n",
      "3 2 2\n",
      "3 2 3\n",
      "3 2 4\n",
      "3 3 0\n",
      "3 3 1\n",
      "3 3 2\n",
      "3 3 3\n",
      "3 3 4\n",
      "3 4 0\n",
      "3 4 1\n",
      "3 4 2\n",
      "3 4 3\n",
      "3 4 4\n",
      "4 0 0\n",
      "4 0 1\n",
      "4 0 2\n",
      "4 0 3\n",
      "4 0 4\n",
      "4 1 0\n",
      "4 1 1\n",
      "4 1 2\n",
      "4 1 3\n",
      "4 1 4\n",
      "4 2 0\n",
      "4 2 1\n",
      "4 2 2\n",
      "4 2 3\n",
      "4 2 4\n",
      "4 3 0\n",
      "4 3 1\n",
      "4 3 2\n",
      "4 3 3\n",
      "4 3 4\n",
      "4 4 0\n",
      "4 4 1\n",
      "4 4 2\n",
      "4 4 3\n",
      "4 4 4\n"
     ]
    }
   ],
   "source": [
    "for m in range(5):\n",
    "    for n in range(5):\n",
    "        for x in range(5):\n",
    "            print(m, n, x)"
   ]
  },
  {
   "cell_type": "code",
   "execution_count": 87,
   "id": "6e22d8bb-16e9-4f5f-b2b4-40bb4f0f3c6e",
   "metadata": {},
   "outputs": [
    {
     "data": {
      "text/plain": [
       "[]"
      ]
     },
     "execution_count": 87,
     "metadata": {},
     "output_type": "execute_result"
    }
   ],
   "source": [
    "C = []\n",
    "C"
   ]
  },
  {
   "cell_type": "code",
   "execution_count": 88,
   "id": "ca4601b1-3781-4fe7-af83-0432c672d188",
   "metadata": {},
   "outputs": [
    {
     "ename": "TypeError",
     "evalue": "list indices must be integers or slices, not tuple",
     "output_type": "error",
     "traceback": [
      "\u001b[1;31m---------------------------------------------------------------------------\u001b[0m",
      "\u001b[1;31mTypeError\u001b[0m                                 Traceback (most recent call last)",
      "\u001b[1;32m~\\AppData\\Local\\Temp\\ipykernel_22788\\2208623782.py\u001b[0m in \u001b[0;36m<module>\u001b[1;34m\u001b[0m\n\u001b[0;32m      2\u001b[0m     \u001b[1;32mfor\u001b[0m \u001b[0mn\u001b[0m \u001b[1;32min\u001b[0m \u001b[0mrange\u001b[0m\u001b[1;33m(\u001b[0m\u001b[1;36m3\u001b[0m\u001b[1;33m)\u001b[0m\u001b[1;33m:\u001b[0m\u001b[1;33m\u001b[0m\u001b[1;33m\u001b[0m\u001b[0m\n\u001b[0;32m      3\u001b[0m         \u001b[1;32mfor\u001b[0m \u001b[0mx\u001b[0m \u001b[1;32min\u001b[0m \u001b[0mrange\u001b[0m\u001b[1;33m(\u001b[0m\u001b[1;36m3\u001b[0m\u001b[1;33m)\u001b[0m\u001b[1;33m:\u001b[0m\u001b[1;33m\u001b[0m\u001b[1;33m\u001b[0m\u001b[0m\n\u001b[1;32m----> 4\u001b[1;33m             \u001b[0mC\u001b[0m\u001b[1;33m[\u001b[0m\u001b[0mm\u001b[0m\u001b[1;33m,\u001b[0m \u001b[0mn\u001b[0m\u001b[1;33m,\u001b[0m \u001b[0mx\u001b[0m\u001b[1;33m]\u001b[0m \u001b[1;33m=\u001b[0m \u001b[0mm\u001b[0m\u001b[1;33m,\u001b[0m \u001b[0mn\u001b[0m\u001b[1;33m,\u001b[0m \u001b[0mx\u001b[0m\u001b[1;33m\u001b[0m\u001b[1;33m\u001b[0m\u001b[0m\n\u001b[0m",
      "\u001b[1;31mTypeError\u001b[0m: list indices must be integers or slices, not tuple"
     ]
    }
   ],
   "source": [
    "for m in range(3):\n",
    "    for n in range(3):\n",
    "        for x in range(3):\n",
    "            C[m, n, x] = m, n, x"
   ]
  },
  {
   "cell_type": "code",
   "execution_count": 89,
   "id": "3672503f-9645-487e-be2a-7560bc256594",
   "metadata": {},
   "outputs": [
    {
     "data": {
      "text/plain": [
       "[]"
      ]
     },
     "execution_count": 89,
     "metadata": {},
     "output_type": "execute_result"
    }
   ],
   "source": [
    "D = []\n",
    "D"
   ]
  },
  {
   "cell_type": "code",
   "execution_count": 90,
   "id": "d292b3d0-e5bc-489b-80cd-b79db6ed0a58",
   "metadata": {},
   "outputs": [
    {
     "name": "stdout",
     "output_type": "stream",
     "text": [
      "1 0\n",
      "2 1\n",
      "3 2\n"
     ]
    }
   ],
   "source": [
    "for i, m in enumerate(range(3)):\n",
    "    print(i+1, m)"
   ]
  },
  {
   "cell_type": "code",
   "execution_count": 91,
   "id": "e3585cbc-bd55-492d-928c-af291eb23d79",
   "metadata": {},
   "outputs": [
    {
     "ename": "IndexError",
     "evalue": "list assignment index out of range",
     "output_type": "error",
     "traceback": [
      "\u001b[1;31m---------------------------------------------------------------------------\u001b[0m",
      "\u001b[1;31mIndexError\u001b[0m                                Traceback (most recent call last)",
      "\u001b[1;32m~\\AppData\\Local\\Temp\\ipykernel_22788\\1771315710.py\u001b[0m in \u001b[0;36m<module>\u001b[1;34m\u001b[0m\n\u001b[0;32m      1\u001b[0m \u001b[1;32mfor\u001b[0m \u001b[0mi\u001b[0m\u001b[1;33m,\u001b[0m \u001b[0mm\u001b[0m \u001b[1;32min\u001b[0m \u001b[0menumerate\u001b[0m\u001b[1;33m(\u001b[0m\u001b[0mrange\u001b[0m\u001b[1;33m(\u001b[0m\u001b[1;36m3\u001b[0m\u001b[1;33m)\u001b[0m\u001b[1;33m)\u001b[0m\u001b[1;33m:\u001b[0m\u001b[1;33m\u001b[0m\u001b[1;33m\u001b[0m\u001b[0m\n\u001b[1;32m----> 2\u001b[1;33m     \u001b[0mD\u001b[0m\u001b[1;33m[\u001b[0m\u001b[0mi\u001b[0m\u001b[1;33m]\u001b[0m \u001b[1;33m=\u001b[0m \u001b[0mm\u001b[0m\u001b[1;33m\u001b[0m\u001b[1;33m\u001b[0m\u001b[0m\n\u001b[0m",
      "\u001b[1;31mIndexError\u001b[0m: list assignment index out of range"
     ]
    }
   ],
   "source": [
    "for i, m in enumerate(range(3)):\n",
    "    D[i] = m"
   ]
  },
  {
   "cell_type": "code",
   "execution_count": 92,
   "id": "5e8f22e2-6bc9-412e-9a24-4cf92ccb5749",
   "metadata": {},
   "outputs": [
    {
     "data": {
      "text/plain": [
       "array([5, 8, 3])"
      ]
     },
     "execution_count": 92,
     "metadata": {},
     "output_type": "execute_result"
    }
   ],
   "source": [
    "D = np.empty(3, int)\n",
    "D"
   ]
  },
  {
   "cell_type": "code",
   "execution_count": 93,
   "id": "7e6be651-4960-4ac4-b6cd-424d279c6620",
   "metadata": {},
   "outputs": [],
   "source": [
    "for m in range(3):\n",
    "    D[m] = m"
   ]
  },
  {
   "cell_type": "code",
   "execution_count": 94,
   "id": "fb1589b1-1c62-4e70-9267-c8ee172953a3",
   "metadata": {},
   "outputs": [
    {
     "data": {
      "text/plain": [
       "array([0, 1, 2])"
      ]
     },
     "execution_count": 94,
     "metadata": {},
     "output_type": "execute_result"
    }
   ],
   "source": [
    "D"
   ]
  },
  {
   "cell_type": "code",
   "execution_count": 95,
   "id": "643eb4ab-3676-4237-a63d-d8cfaf6ffc88",
   "metadata": {},
   "outputs": [
    {
     "data": {
      "text/plain": [
       "array([[   0,    0],\n",
       "       [   0,    0],\n",
       "       [   0,    0],\n",
       "       [   0,    0],\n",
       "       [   0,    0],\n",
       "       [1752,    0],\n",
       "       [   0,    0],\n",
       "       [   0,    0],\n",
       "       [   0,    0]])"
      ]
     },
     "execution_count": 95,
     "metadata": {},
     "output_type": "execute_result"
    }
   ],
   "source": [
    "E = np.empty((3*3, 2), dtype='int')\n",
    "E"
   ]
  },
  {
   "cell_type": "code",
   "execution_count": 96,
   "id": "8ee3b285-dfdb-4069-9be1-a9ffbd209ef9",
   "metadata": {},
   "outputs": [
    {
     "ename": "ValueError",
     "evalue": "setting an array element with a sequence.",
     "output_type": "error",
     "traceback": [
      "\u001b[1;31m---------------------------------------------------------------------------\u001b[0m",
      "\u001b[1;31mTypeError\u001b[0m                                 Traceback (most recent call last)",
      "\u001b[1;31mTypeError\u001b[0m: int() argument must be a string, a bytes-like object or a number, not 'tuple'",
      "\nThe above exception was the direct cause of the following exception:\n",
      "\u001b[1;31mValueError\u001b[0m                                Traceback (most recent call last)",
      "\u001b[1;32m~\\AppData\\Local\\Temp\\ipykernel_22788\\3108621413.py\u001b[0m in \u001b[0;36m<module>\u001b[1;34m\u001b[0m\n\u001b[0;32m      1\u001b[0m \u001b[1;32mfor\u001b[0m \u001b[0mm\u001b[0m \u001b[1;32min\u001b[0m \u001b[0mrange\u001b[0m\u001b[1;33m(\u001b[0m\u001b[1;36m3\u001b[0m\u001b[1;33m)\u001b[0m\u001b[1;33m:\u001b[0m\u001b[1;33m\u001b[0m\u001b[1;33m\u001b[0m\u001b[0m\n\u001b[0;32m      2\u001b[0m     \u001b[1;32mfor\u001b[0m \u001b[0mn\u001b[0m \u001b[1;32min\u001b[0m \u001b[0mrange\u001b[0m\u001b[1;33m(\u001b[0m\u001b[1;36m3\u001b[0m\u001b[1;33m)\u001b[0m\u001b[1;33m:\u001b[0m\u001b[1;33m\u001b[0m\u001b[1;33m\u001b[0m\u001b[0m\n\u001b[1;32m----> 3\u001b[1;33m         \u001b[0mE\u001b[0m\u001b[1;33m[\u001b[0m\u001b[0mm\u001b[0m\u001b[1;33m,\u001b[0m \u001b[0mn\u001b[0m\u001b[1;33m]\u001b[0m \u001b[1;33m=\u001b[0m \u001b[0mm\u001b[0m\u001b[1;33m,\u001b[0m \u001b[0mn\u001b[0m\u001b[1;33m\u001b[0m\u001b[1;33m\u001b[0m\u001b[0m\n\u001b[0m\u001b[0;32m      4\u001b[0m \u001b[1;33m\u001b[0m\u001b[0m\n\u001b[0;32m      5\u001b[0m \u001b[0mE\u001b[0m\u001b[1;33m\u001b[0m\u001b[1;33m\u001b[0m\u001b[0m\n",
      "\u001b[1;31mValueError\u001b[0m: setting an array element with a sequence."
     ]
    }
   ],
   "source": [
    "for m in range(3):\n",
    "    for n in range(3):\n",
    "        E[m, n] = m, n\n",
    "\n",
    "E"
   ]
  },
  {
   "cell_type": "code",
   "execution_count": 97,
   "id": "89754066-b56b-436e-b6eb-7ada2d14fb18",
   "metadata": {},
   "outputs": [
    {
     "name": "stdout",
     "output_type": "stream",
     "text": [
      "0 0 0\n",
      "0 0 1\n",
      "0 0 2\n",
      "0 1 0\n",
      "0 1 1\n",
      "0 1 2\n",
      "0 2 0\n",
      "0 2 1\n",
      "0 2 2\n",
      "1 0 0\n",
      "1 0 1\n",
      "1 0 2\n",
      "1 1 0\n",
      "1 1 1\n",
      "1 1 2\n",
      "1 2 0\n",
      "1 2 1\n",
      "1 2 2\n",
      "2 0 0\n",
      "2 0 1\n",
      "2 0 2\n",
      "2 1 0\n",
      "2 1 1\n",
      "2 1 2\n",
      "2 2 0\n",
      "2 2 1\n",
      "2 2 2\n"
     ]
    }
   ],
   "source": [
    "for m in range(3):\n",
    "    for n in range(3):\n",
    "        for x in range(3):\n",
    "            print(m, n, x)"
   ]
  },
  {
   "cell_type": "code",
   "execution_count": 98,
   "id": "d2528038-d750-4703-9857-43ca456f240a",
   "metadata": {},
   "outputs": [
    {
     "name": "stdout",
     "output_type": "stream",
     "text": [
      "0 0\n",
      "0 1\n",
      "0 2\n",
      "1 0\n",
      "1 1\n",
      "1 2\n",
      "2 0\n",
      "2 1\n",
      "2 2\n"
     ]
    }
   ],
   "source": [
    "for m in range(3):\n",
    "    for n in range(3):\n",
    "        print(m, n)"
   ]
  },
  {
   "cell_type": "code",
   "execution_count": 99,
   "id": "c2c4e030-e02d-467a-8f8d-0a7319a52217",
   "metadata": {},
   "outputs": [
    {
     "name": "stdout",
     "output_type": "stream",
     "text": [
      "0\n",
      "1\n",
      "2\n"
     ]
    }
   ],
   "source": [
    "for a in range(3):\n",
    "    print(a)"
   ]
  },
  {
   "cell_type": "code",
   "execution_count": 100,
   "id": "de3ff225-fae8-4d3b-b682-2722dc318a76",
   "metadata": {},
   "outputs": [
    {
     "name": "stdout",
     "output_type": "stream",
     "text": [
      "0 0\n",
      "0 1\n",
      "0 2\n",
      "1 0\n",
      "1 1\n",
      "1 2\n",
      "2 0\n",
      "2 1\n",
      "2 2\n"
     ]
    }
   ],
   "source": [
    "for a in range(3):\n",
    "    for b in range(3):\n",
    "        print(a, b)"
   ]
  },
  {
   "cell_type": "code",
   "execution_count": 101,
   "id": "449d7e31-53bd-470a-a515-a2d24e29edbc",
   "metadata": {
    "tags": []
   },
   "outputs": [
    {
     "name": "stdout",
     "output_type": "stream",
     "text": [
      "0 0 0\n",
      "0 0 1\n",
      "0 0 2\n",
      "0 1 0\n",
      "0 1 1\n",
      "0 1 2\n",
      "0 2 0\n",
      "0 2 1\n",
      "0 2 2\n",
      "1 0 0\n",
      "1 0 1\n",
      "1 0 2\n",
      "1 1 0\n",
      "1 1 1\n",
      "1 1 2\n",
      "1 2 0\n",
      "1 2 1\n",
      "1 2 2\n",
      "2 0 0\n",
      "2 0 1\n",
      "2 0 2\n",
      "2 1 0\n",
      "2 1 1\n",
      "2 1 2\n",
      "2 2 0\n",
      "2 2 1\n",
      "2 2 2\n"
     ]
    }
   ],
   "source": [
    "for a in range(3):\n",
    "    for b in range(3):\n",
    "        for c in range(3):\n",
    "            print(a, b, c)"
   ]
  },
  {
   "cell_type": "code",
   "execution_count": 102,
   "id": "32814df6-58a6-4542-abbb-7fef589a0fb2",
   "metadata": {},
   "outputs": [
    {
     "name": "stdout",
     "output_type": "stream",
     "text": [
      "[0 1 2]\n"
     ]
    }
   ],
   "source": [
    "list_1 = np.empty(3, dtype='int')\n",
    "\n",
    "for a in range(3):\n",
    "    list_1[a] = a\n",
    "    \n",
    "print(list_1)"
   ]
  },
  {
   "cell_type": "code",
   "execution_count": 103,
   "id": "e91bc146-86de-47d7-9746-7df97744e805",
   "metadata": {},
   "outputs": [
    {
     "name": "stdout",
     "output_type": "stream",
     "text": [
      "[[        0         0]\n",
      " [        0         0]\n",
      " [        0         0]\n",
      " [        0         0]\n",
      " [        0         0]\n",
      " [     1780         0]\n",
      " [        0   4980828]\n",
      " [        0   7077985]\n",
      " [741605376 892219424]]\n"
     ]
    }
   ],
   "source": [
    "list_2 = np.empty((9, 2), dtype='int')\n",
    "print(list_2)"
   ]
  },
  {
   "cell_type": "code",
   "execution_count": 104,
   "id": "f3d9da62-0f40-4866-8ae4-e52841f785da",
   "metadata": {},
   "outputs": [
    {
     "ename": "ValueError",
     "evalue": "setting an array element with a sequence.",
     "output_type": "error",
     "traceback": [
      "\u001b[1;31m---------------------------------------------------------------------------\u001b[0m",
      "\u001b[1;31mTypeError\u001b[0m                                 Traceback (most recent call last)",
      "\u001b[1;31mTypeError\u001b[0m: int() argument must be a string, a bytes-like object or a number, not 'tuple'",
      "\nThe above exception was the direct cause of the following exception:\n",
      "\u001b[1;31mValueError\u001b[0m                                Traceback (most recent call last)",
      "\u001b[1;32m~\\AppData\\Local\\Temp\\ipykernel_22788\\2463547113.py\u001b[0m in \u001b[0;36m<module>\u001b[1;34m\u001b[0m\n\u001b[0;32m      1\u001b[0m \u001b[1;32mfor\u001b[0m \u001b[0ma\u001b[0m \u001b[1;32min\u001b[0m \u001b[0mrange\u001b[0m\u001b[1;33m(\u001b[0m\u001b[1;36m3\u001b[0m\u001b[1;33m)\u001b[0m\u001b[1;33m:\u001b[0m\u001b[1;33m\u001b[0m\u001b[1;33m\u001b[0m\u001b[0m\n\u001b[0;32m      2\u001b[0m     \u001b[1;32mfor\u001b[0m \u001b[0mb\u001b[0m \u001b[1;32min\u001b[0m \u001b[0mrange\u001b[0m\u001b[1;33m(\u001b[0m\u001b[1;36m3\u001b[0m\u001b[1;33m)\u001b[0m\u001b[1;33m:\u001b[0m\u001b[1;33m\u001b[0m\u001b[1;33m\u001b[0m\u001b[0m\n\u001b[1;32m----> 3\u001b[1;33m         \u001b[0mlist_2\u001b[0m\u001b[1;33m[\u001b[0m\u001b[0ma\u001b[0m\u001b[1;33m,\u001b[0m \u001b[0mb\u001b[0m\u001b[1;33m]\u001b[0m \u001b[1;33m=\u001b[0m \u001b[0ma\u001b[0m\u001b[1;33m,\u001b[0m \u001b[0mb\u001b[0m\u001b[1;33m\u001b[0m\u001b[1;33m\u001b[0m\u001b[0m\n\u001b[0m\u001b[0;32m      4\u001b[0m \u001b[1;33m\u001b[0m\u001b[0m\n\u001b[0;32m      5\u001b[0m \u001b[0mprint\u001b[0m\u001b[1;33m(\u001b[0m\u001b[0mlist_2\u001b[0m\u001b[1;33m)\u001b[0m\u001b[1;33m\u001b[0m\u001b[1;33m\u001b[0m\u001b[0m\n",
      "\u001b[1;31mValueError\u001b[0m: setting an array element with a sequence."
     ]
    }
   ],
   "source": [
    "for a in range(3):\n",
    "    for b in range(3):\n",
    "        list_2[a, b] = a, b\n",
    "    \n",
    "print(list_2)"
   ]
  },
  {
   "cell_type": "code",
   "execution_count": 105,
   "id": "1f7d048f-5ca2-45c8-8c9d-cb938ac19838",
   "metadata": {},
   "outputs": [
    {
     "name": "stdout",
     "output_type": "stream",
     "text": [
      "[[0 0]\n",
      " [0 1]\n",
      " [0 2]\n",
      " [1 0]\n",
      " [1 1]\n",
      " [1 2]\n",
      " [2 0]\n",
      " [2 1]\n",
      " [2 2]]\n"
     ]
    }
   ],
   "source": [
    "list_2 = np.empty((9, 2), dtype='int')\n",
    "\n",
    "for a in range(3):\n",
    "    for b in range(3):\n",
    "        list_2[a * 3 + b] = (a, b)\n",
    "    \n",
    "print(list_2)"
   ]
  },
  {
   "cell_type": "code",
   "execution_count": 106,
   "id": "d95cb394-c15e-4b4a-ab87-65b4f0bb2bf2",
   "metadata": {},
   "outputs": [
    {
     "name": "stdout",
     "output_type": "stream",
     "text": [
      "0 [0 0]\n",
      "1 [0 1]\n",
      "2 [0 2]\n",
      "3 [1 0]\n",
      "4 [1 1]\n",
      "5 [1 2]\n",
      "6 [2 0]\n",
      "7 [2 1]\n",
      "8 [2 2]\n"
     ]
    }
   ],
   "source": [
    "for i, n in enumerate(list_2):\n",
    "    print(i, n)"
   ]
  },
  {
   "cell_type": "code",
   "execution_count": 107,
   "id": "9e10c0df-2017-45dd-9e40-f2bfcf553b7b",
   "metadata": {},
   "outputs": [
    {
     "name": "stdout",
     "output_type": "stream",
     "text": [
      "[[0 0]\n",
      " [0 1]\n",
      " [0 2]\n",
      " [1 0]\n",
      " [1 1]\n",
      " [1 2]\n",
      " [2 0]\n",
      " [2 1]\n",
      " [2 2]]\n"
     ]
    }
   ],
   "source": [
    "list_6 = np.empty((9, 2), dtype = 'int')\n",
    "\n",
    "for a in range(3):\n",
    "    for b in range(3):\n",
    "        list_6[a * 3 + b] = (a, b)\n",
    "        \n",
    "print(list_6)"
   ]
  },
  {
   "cell_type": "code",
   "execution_count": 108,
   "id": "5cb72748-e28f-4be1-a689-46128954e109",
   "metadata": {},
   "outputs": [
    {
     "data": {
      "text/plain": [
       "0"
      ]
     },
     "execution_count": 108,
     "metadata": {},
     "output_type": "execute_result"
    }
   ],
   "source": [
    "list_6[0, 1]"
   ]
  },
  {
   "cell_type": "code",
   "execution_count": 109,
   "id": "753a7ab8-6e57-42a0-8c31-3ba823388cf9",
   "metadata": {
    "tags": []
   },
   "outputs": [
    {
     "name": "stdout",
     "output_type": "stream",
     "text": [
      "[['' '' '']\n",
      " ['' '' '']\n",
      " ['' '' '']\n",
      " ['' '' '']\n",
      " ['' '' '']\n",
      " ['' '' '']\n",
      " ['' '' '']\n",
      " ['' '' '']\n",
      " ['' '' '']\n",
      " ['' '' '']\n",
      " ['' '' '']\n",
      " ['' '' '']\n",
      " ['' '' '']\n",
      " ['' '' '']\n",
      " ['' '' '']\n",
      " ['' '' '']\n",
      " ['' '' '']\n",
      " ['' '' '']\n",
      " ['' '' '']\n",
      " ['' '' '']\n",
      " ['' '' '']\n",
      " ['' '' '']\n",
      " ['' '' '']\n",
      " ['' '' '']\n",
      " ['' '' '']\n",
      " ['' '' '']\n",
      " ['' '' '']\n",
      " ['' '' '']\n",
      " ['' '' '']\n",
      " ['' '' '']\n",
      " ['' '' '']\n",
      " ['' '' '']\n",
      " ['' '' '']\n",
      " ['' '' '']\n",
      " ['' '' '']\n",
      " ['' '' '']\n",
      " ['' '' '']\n",
      " ['' '' '']\n",
      " ['' '' '']\n",
      " ['' '' '']\n",
      " ['' '' '']\n",
      " ['' '' '']\n",
      " ['' '' '']\n",
      " ['' '' '']\n",
      " ['' '' '']\n",
      " ['' '' '']\n",
      " ['' '' '']\n",
      " ['' '' '']\n",
      " ['' '' '']\n",
      " ['' '' '']\n",
      " ['' '' '']\n",
      " ['' '' '']\n",
      " ['' '' '']\n",
      " ['' '' '']\n",
      " ['' '' '']\n",
      " ['' '' '']\n",
      " ['' '' '']\n",
      " ['' '' '']\n",
      " ['' '' '']\n",
      " ['' '' '']\n",
      " ['' '' '']\n",
      " ['' '' '']\n",
      " ['' '' '']\n",
      " ['' '' '']\n",
      " ['' '' '']\n",
      " ['' '' '']\n",
      " ['' '' '']\n",
      " ['' '' '']\n",
      " ['' '' '']\n",
      " ['' '' '']\n",
      " ['' '' '']\n",
      " ['' '' '']\n",
      " ['' '' '']\n",
      " ['' '' '']\n",
      " ['' '' '']\n",
      " ['' '' '']\n",
      " ['' '' '']\n",
      " ['' '' '']\n",
      " ['' '' '']\n",
      " ['' '' '']\n",
      " ['' '' '']\n",
      " ['' '' '']\n",
      " ['' '' '']\n",
      " ['' '' '']\n",
      " ['' '' '']\n",
      " ['' '' '']\n",
      " ['' '' '']\n",
      " ['' '' '']\n",
      " ['' '' '']\n",
      " ['' '' '']\n",
      " ['' '' '']\n",
      " ['' '' '']\n",
      " ['' '' '']\n",
      " ['' '' '']\n",
      " ['' '' '']\n",
      " ['' '' '']\n",
      " ['' '' '']\n",
      " ['' '' '']\n",
      " ['' '' '']\n",
      " ['' '' '']\n",
      " ['' '' '']\n",
      " ['' '' '']\n",
      " ['' '' '']\n",
      " ['' '' '']\n",
      " ['' '' '']\n",
      " ['' '' '']\n",
      " ['' '' '']\n",
      " ['' '' '']\n",
      " ['' '' '']\n",
      " ['' '' '']\n",
      " ['' '' '']\n",
      " ['' '' '']\n",
      " ['' '' '']\n",
      " ['' '' '']\n",
      " ['' '' '']\n",
      " ['' '' '']\n",
      " ['' '' '']\n",
      " ['' '' '']\n",
      " ['' '' '']\n",
      " ['' '' '']\n",
      " ['' '' '']\n",
      " ['' '' '']\n",
      " ['' '' '']\n",
      " ['' '' '']\n",
      " ['' '' '']\n",
      " ['' '' '']\n",
      " ['' '' '']\n",
      " ['' '' '']\n",
      " ['' '' '']\n",
      " ['' '' '']\n",
      " ['' '' '']\n",
      " ['' '' '']\n",
      " ['' '' '']\n",
      " ['' '' '']\n",
      " ['' '' '']\n",
      " ['' '' '']\n",
      " ['' '' '']\n",
      " ['' '' '']\n",
      " ['' '' '']\n",
      " ['' '' '']]\n"
     ]
    }
   ],
   "source": [
    "list_7 = np.empty((5*7*4, 3), dtype='str')\n",
    "print(list_7)"
   ]
  },
  {
   "cell_type": "code",
   "execution_count": 110,
   "id": "33e42c87-9903-42a3-b225-49b7ca6d3b62",
   "metadata": {},
   "outputs": [
    {
     "name": "stdout",
     "output_type": "stream",
     "text": [
      "[[0 0 0]\n",
      " [0 0 1]\n",
      " [0 0 2]\n",
      " [0 0 3]\n",
      " [0 1 0]\n",
      " [0 1 1]\n",
      " [0 1 2]\n",
      " [0 1 3]\n",
      " [0 2 0]\n",
      " [0 2 1]\n",
      " [0 2 2]\n",
      " [0 2 3]\n",
      " [0 3 0]\n",
      " [0 3 1]\n",
      " [0 3 2]\n",
      " [0 3 3]\n",
      " [0 4 0]\n",
      " [0 4 1]\n",
      " [0 4 2]\n",
      " [0 4 3]\n",
      " [0 5 0]\n",
      " [0 5 1]\n",
      " [0 5 2]\n",
      " [0 5 3]\n",
      " [0 6 0]\n",
      " [0 6 1]\n",
      " [0 6 2]\n",
      " [0 6 3]\n",
      " [1 0 0]\n",
      " [1 0 1]\n",
      " [1 0 2]\n",
      " [1 0 3]\n",
      " [1 1 0]\n",
      " [1 1 1]\n",
      " [1 1 2]\n",
      " [1 1 3]\n",
      " [1 2 0]\n",
      " [1 2 1]\n",
      " [1 2 2]\n",
      " [1 2 3]\n",
      " [1 3 0]\n",
      " [1 3 1]\n",
      " [1 3 2]\n",
      " [1 3 3]\n",
      " [1 4 0]\n",
      " [1 4 1]\n",
      " [1 4 2]\n",
      " [1 4 3]\n",
      " [1 5 0]\n",
      " [1 5 1]\n",
      " [1 5 2]\n",
      " [1 5 3]\n",
      " [1 6 0]\n",
      " [1 6 1]\n",
      " [1 6 2]\n",
      " [1 6 3]\n",
      " [2 0 0]\n",
      " [2 0 1]\n",
      " [2 0 2]\n",
      " [2 0 3]\n",
      " [2 1 0]\n",
      " [2 1 1]\n",
      " [2 1 2]\n",
      " [2 1 3]\n",
      " [2 2 0]\n",
      " [2 2 1]\n",
      " [2 2 2]\n",
      " [2 2 3]\n",
      " [2 3 0]\n",
      " [2 3 1]\n",
      " [2 3 2]\n",
      " [2 3 3]\n",
      " [2 4 0]\n",
      " [2 4 1]\n",
      " [2 4 2]\n",
      " [2 4 3]\n",
      " [2 5 0]\n",
      " [2 5 1]\n",
      " [2 5 2]\n",
      " [2 5 3]\n",
      " [2 6 0]\n",
      " [2 6 1]\n",
      " [2 6 2]\n",
      " [2 6 3]\n",
      " [3 0 0]\n",
      " [3 0 1]\n",
      " [3 0 2]\n",
      " [3 0 3]\n",
      " [3 1 0]\n",
      " [3 1 1]\n",
      " [3 1 2]\n",
      " [3 1 3]\n",
      " [3 2 0]\n",
      " [3 2 1]\n",
      " [3 2 2]\n",
      " [3 2 3]\n",
      " [3 3 0]\n",
      " [3 3 1]\n",
      " [3 3 2]\n",
      " [3 3 3]\n",
      " [3 4 0]\n",
      " [3 4 1]\n",
      " [3 4 2]\n",
      " [3 4 3]\n",
      " [3 5 0]\n",
      " [3 5 1]\n",
      " [3 5 2]\n",
      " [3 5 3]\n",
      " [3 6 0]\n",
      " [3 6 1]\n",
      " [3 6 2]\n",
      " [3 6 3]\n",
      " [4 0 0]\n",
      " [4 0 1]\n",
      " [4 0 2]\n",
      " [4 0 3]\n",
      " [4 1 0]\n",
      " [4 1 1]\n",
      " [4 1 2]\n",
      " [4 1 3]\n",
      " [4 2 0]\n",
      " [4 2 1]\n",
      " [4 2 2]\n",
      " [4 2 3]\n",
      " [4 3 0]\n",
      " [4 3 1]\n",
      " [4 3 2]\n",
      " [4 3 3]\n",
      " [4 4 0]\n",
      " [4 4 1]\n",
      " [4 4 2]\n",
      " [4 4 3]\n",
      " [4 5 0]\n",
      " [4 5 1]\n",
      " [4 5 2]\n",
      " [4 5 3]\n",
      " [4 6 0]\n",
      " [4 6 1]\n",
      " [4 6 2]\n",
      " [4 6 3]]\n"
     ]
    }
   ],
   "source": [
    "list_7 = np.empty((5*7*4, 3), dtype='int')\n",
    "\n",
    "for a in range(5):\n",
    "    for b in range(7):\n",
    "        for c in range(4):\n",
    "            list_7[(a*7*4) + (b*4) + c] = (a, b, c)\n",
    "            \n",
    "print(list_7)"
   ]
  },
  {
   "cell_type": "code",
   "execution_count": 132,
   "id": "f48e0b9a",
   "metadata": {},
   "outputs": [
    {
     "name": "stdout",
     "output_type": "stream",
     "text": [
      "[[0 0 0]\n",
      " [0 0 1]\n",
      " [0 0 2]\n",
      " [0 0 3]\n",
      " [0 1 0]\n",
      " [0 1 1]\n",
      " [0 1 2]\n",
      " [0 1 3]\n",
      " [0 2 0]\n",
      " [0 2 1]\n",
      " [0 2 2]\n",
      " [0 2 3]\n",
      " [0 3 0]\n",
      " [0 3 1]\n",
      " [0 3 2]\n",
      " [0 3 3]\n",
      " [0 4 0]\n",
      " [0 4 1]\n",
      " [0 4 2]\n",
      " [0 4 3]\n",
      " [0 5 0]\n",
      " [0 5 1]\n",
      " [0 5 2]\n",
      " [0 5 3]\n",
      " [0 6 0]\n",
      " [0 6 1]\n",
      " [0 6 2]\n",
      " [0 6 3]\n",
      " [1 0 0]\n",
      " [1 0 1]\n",
      " [1 0 2]\n",
      " [1 0 3]\n",
      " [1 1 0]\n",
      " [1 1 1]\n",
      " [1 1 2]\n",
      " [1 1 3]\n",
      " [1 2 0]\n",
      " [1 2 1]\n",
      " [1 2 2]\n",
      " [1 2 3]\n",
      " [1 3 0]\n",
      " [1 3 1]\n",
      " [1 3 2]\n",
      " [1 3 3]\n",
      " [1 4 0]\n",
      " [1 4 1]\n",
      " [1 4 2]\n",
      " [1 4 3]\n",
      " [1 5 0]\n",
      " [1 5 1]\n",
      " [1 5 2]\n",
      " [1 5 3]\n",
      " [1 6 0]\n",
      " [1 6 1]\n",
      " [1 6 2]\n",
      " [1 6 3]\n",
      " [2 0 0]\n",
      " [2 0 1]\n",
      " [2 0 2]\n",
      " [2 0 3]\n",
      " [2 1 0]\n",
      " [2 1 1]\n",
      " [2 1 2]\n",
      " [2 1 3]\n",
      " [2 2 0]\n",
      " [2 2 1]\n",
      " [2 2 2]\n",
      " [2 2 3]\n",
      " [2 3 0]\n",
      " [2 3 1]\n",
      " [2 3 2]\n",
      " [2 3 3]\n",
      " [2 4 0]\n",
      " [2 4 1]\n",
      " [2 4 2]\n",
      " [2 4 3]\n",
      " [2 5 0]\n",
      " [2 5 1]\n",
      " [2 5 2]\n",
      " [2 5 3]\n",
      " [2 6 0]\n",
      " [2 6 1]\n",
      " [2 6 2]\n",
      " [2 6 3]\n",
      " [3 0 0]\n",
      " [3 0 1]\n",
      " [3 0 2]\n",
      " [3 0 3]\n",
      " [3 1 0]\n",
      " [3 1 1]\n",
      " [3 1 2]\n",
      " [3 1 3]\n",
      " [3 2 0]\n",
      " [3 2 1]\n",
      " [3 2 2]\n",
      " [3 2 3]\n",
      " [3 3 0]\n",
      " [3 3 1]\n",
      " [3 3 2]\n",
      " [3 3 3]\n",
      " [3 4 0]\n",
      " [3 4 1]\n",
      " [3 4 2]\n",
      " [3 4 3]\n",
      " [3 5 0]\n",
      " [3 5 1]\n",
      " [3 5 2]\n",
      " [3 5 3]\n",
      " [3 6 0]\n",
      " [3 6 1]\n",
      " [3 6 2]\n",
      " [3 6 3]\n",
      " [4 0 0]\n",
      " [4 0 1]\n",
      " [4 0 2]\n",
      " [4 0 3]\n",
      " [4 1 0]\n",
      " [4 1 1]\n",
      " [4 1 2]\n",
      " [4 1 3]\n",
      " [4 2 0]\n",
      " [4 2 1]\n",
      " [4 2 2]\n",
      " [4 2 3]\n",
      " [4 3 0]\n",
      " [4 3 1]\n",
      " [4 3 2]\n",
      " [4 3 3]\n",
      " [4 4 0]\n",
      " [4 4 1]\n",
      " [4 4 2]\n",
      " [4 4 3]\n",
      " [4 5 0]\n",
      " [4 5 1]\n",
      " [4 5 2]\n",
      " [4 5 3]\n",
      " [4 6 0]\n",
      " [4 6 1]\n",
      " [4 6 2]\n",
      " [4 6 3]]\n"
     ]
    }
   ],
   "source": [
    "list_7 = np.empty((5*7*4, 3), dtype='int')\n",
    "\n",
    "for a in range(5):\n",
    "    for b in range(7):\n",
    "        for c in range(4):\n",
    "            list_7[(a*7*4) + (b*4) + c] = (a, b, c)\n",
    "            \n",
    "print(list_7)"
   ]
  },
  {
   "cell_type": "code",
   "execution_count": 112,
   "id": "593b4fe0-725c-427a-9160-1dec44a4aed6",
   "metadata": {},
   "outputs": [
    {
     "ename": "SyntaxError",
     "evalue": "invalid syntax (1830917748.py, line 1)",
     "output_type": "error",
     "traceback": [
      "\u001b[1;36m  File \u001b[1;32m\"C:\\Users\\vanli\\AppData\\Local\\Temp\\ipykernel_22788\\1830917748.py\"\u001b[1;36m, line \u001b[1;32m1\u001b[0m\n\u001b[1;33m    0 0 = 0, 0\u001b[0m\n\u001b[1;37m      ^\u001b[0m\n\u001b[1;31mSyntaxError\u001b[0m\u001b[1;31m:\u001b[0m invalid syntax\n"
     ]
    }
   ],
   "source": [
    "0 0 = 0, 0\n",
    "0 1 = 1, 0\n",
    "0 2 = 2, 0\n",
    "1 0 = 1, 0\n",
    "1 1 = 2, 1\n",
    "1 2 = 3, 2\n",
    "2 0 = 2, 0\n",
    "2 1 = 3, 2\n",
    "2 2 = 4, 4"
   ]
  },
  {
   "cell_type": "code",
   "execution_count": 113,
   "id": "af62dd91-8569-435b-b32d-3e59e13a2790",
   "metadata": {
    "tags": []
   },
   "outputs": [
    {
     "name": "stdout",
     "output_type": "stream",
     "text": [
      "a = 0, b = 0, (a*3)+b = (0*3)+0 = 0\n",
      "a = 0, b = 1, (a*3)+b = (0*3)+1 = 1\n",
      "a = 0, b = 2, (a*3)+b = (0*3)+2 = 2\n",
      "a = 1, b = 0, (a*3)+b = (1*3)+0 = 3\n",
      "a = 1, b = 1, (a*3)+b = (1*3)+1 = 4\n",
      "a = 1, b = 2, (a*3)+b = (1*3)+2 = 5\n",
      "a = 2, b = 0, (a*3)+b = (2*3)+0 = 6\n",
      "a = 2, b = 1, (a*3)+b = (2*3)+1 = 7\n",
      "a = 2, b = 2, (a*3)+b = (2*3)+2 = 8\n"
     ]
    }
   ],
   "source": [
    "for a in range(3):\n",
    "    for b in range(3):\n",
    "        print(f'a = {a}, b = {b}, (a*3)+b = ({a}*3)+{b} = {a * 3 + b}')"
   ]
  },
  {
   "cell_type": "code",
   "execution_count": 114,
   "id": "0fdf6848-d2af-4367-9f50-6a251df11da4",
   "metadata": {
    "tags": []
   },
   "outputs": [
    {
     "name": "stdout",
     "output_type": "stream",
     "text": [
      "[[['' '']\n",
      "  ['' '']\n",
      "  ['' '']]\n",
      "\n",
      " [['' '']\n",
      "  ['' '']\n",
      "  ['' '']]\n",
      "\n",
      " [['' '']\n",
      "  ['' '']\n",
      "  ['' '']]]\n"
     ]
    }
   ],
   "source": [
    "list_3 = np.empty((3, 3, 2), dtype='str')\n",
    "print(list_3)"
   ]
  },
  {
   "cell_type": "code",
   "execution_count": 115,
   "id": "db5adf2b-e126-4a17-83c9-6198b3382769",
   "metadata": {
    "tags": []
   },
   "outputs": [
    {
     "name": "stdout",
     "output_type": "stream",
     "text": [
      "[[[['' '' '' '' '' '' '' '' '' '']\n",
      "   ['' '' '' '' '' '' '' '' '' '']\n",
      "   ['' '' '' '' '' '' '' '' '' '']\n",
      "   ['' '' '' '' '' '' '' '' '' '']]\n",
      "\n",
      "  [['' '' '' '' '' '' '' '' '' '']\n",
      "   ['' '' '' '' '' '' '' '' '' '']\n",
      "   ['' '' '' '' '' '' '' '' '' '']\n",
      "   ['' '' '' '' '' '' '' '' '' '']]\n",
      "\n",
      "  [['' '' '' '' '' '' '' '' '' '']\n",
      "   ['' '' '' '' '' '' '' '' '' '']\n",
      "   ['' '' '' '' '' '' '' '' '' '']\n",
      "   ['' '' '' '' '' '' '' '' '' '']]]\n",
      "\n",
      "\n",
      " [[['' '' '' '' '' '' '' '' '' '']\n",
      "   ['' '' '' '' '' '' '' '' '' '']\n",
      "   ['' '' '' '' '' '' '' '' '' '']\n",
      "   ['' '' '' '' '' '' '' '' '' '']]\n",
      "\n",
      "  [['' '' '' '' '' '' '' '' '' '']\n",
      "   ['' '' '' '' '' '' '' '' '' '']\n",
      "   ['' '' '' '' '' '' '' '' '' '']\n",
      "   ['' '' '' '' '' '' '' '' '' '']]\n",
      "\n",
      "  [['' '' '' '' '' '' '' '' '' '']\n",
      "   ['' '' '' '' '' '' '' '' '' '']\n",
      "   ['' '' '' '' '' '' '' '' '' '']\n",
      "   ['' '' '' '' '' '' '' '' '' '']]]]\n"
     ]
    }
   ],
   "source": [
    "list_4 = np.empty((2, 3, 4, 10), dtype='str')\n",
    "print(list_4)"
   ]
  },
  {
   "cell_type": "code",
   "execution_count": 116,
   "id": "d2522527-8dd4-4a0f-9518-dddda9316837",
   "metadata": {
    "tags": []
   },
   "outputs": [
    {
     "name": "stdout",
     "output_type": "stream",
     "text": [
      "[[[0 0]\n",
      "  [0 1]\n",
      "  [0 2]]\n",
      "\n",
      " [[1 0]\n",
      "  [1 1]\n",
      "  [1 2]]\n",
      "\n",
      " [[2 0]\n",
      "  [2 1]\n",
      "  [2 2]]]\n"
     ]
    }
   ],
   "source": [
    "list_5 = np.empty((3, 3, 2), dtype='int')\n",
    "\n",
    "for a in range(3):\n",
    "    for b in range(3):\n",
    "        list_5[a, b] = (a, b)\n",
    "    \n",
    "print(list_5)"
   ]
  },
  {
   "cell_type": "code",
   "execution_count": 129,
   "id": "a490c8ad-3d8a-4f71-8ee5-5561119919a1",
   "metadata": {},
   "outputs": [
    {
     "name": "stdout",
     "output_type": "stream",
     "text": [
      "[[ 0  1  2  3  4]\n",
      " [10 11 12 13 14]\n",
      " [20 21 22 23 24]\n",
      " [30 31 32 33 34]\n",
      " [40 41 42 43 44]]\n"
     ]
    }
   ],
   "source": [
    "list_8 = np.empty((5, 5), dtype='int')\n",
    "\n",
    "for a in range(5):\n",
    "    for b in range(5):\n",
    "        list_8[a, b] = (a*10) + b\n",
    "\n",
    "print(list_8)"
   ]
  },
  {
   "cell_type": "code",
   "execution_count": 123,
   "id": "c6facd3c-be2c-457c-9de2-3b7026de786d",
   "metadata": {},
   "outputs": [
    {
     "name": "stdout",
     "output_type": "stream",
     "text": [
      "a = 0, b = 0, 0\n",
      "a = 0, b = 1, 1\n",
      "a = 0, b = 2, 2\n",
      "a = 0, b = 3, 3\n",
      "a = 0, b = 4, 4\n",
      "a = 1, b = 0, 10\n",
      "a = 1, b = 1, 11\n",
      "a = 1, b = 2, 12\n",
      "a = 1, b = 3, 13\n",
      "a = 1, b = 4, 14\n",
      "a = 2, b = 0, 20\n",
      "a = 2, b = 1, 21\n",
      "a = 2, b = 2, 22\n",
      "a = 2, b = 3, 23\n",
      "a = 2, b = 4, 24\n",
      "a = 3, b = 0, 30\n",
      "a = 3, b = 1, 31\n",
      "a = 3, b = 2, 32\n",
      "a = 3, b = 3, 33\n",
      "a = 3, b = 4, 34\n",
      "a = 4, b = 0, 40\n",
      "a = 4, b = 1, 41\n",
      "a = 4, b = 2, 42\n",
      "a = 4, b = 3, 43\n",
      "a = 4, b = 4, 44\n"
     ]
    }
   ],
   "source": [
    "for a in range(5):\n",
    "    for b in range(5):\n",
    "        print(f'a = {a}, b = {b}, {list_8[a, b]}')"
   ]
  },
  {
   "cell_type": "code",
   "execution_count": 124,
   "id": "698d35de",
   "metadata": {},
   "outputs": [
    {
     "name": "stdout",
     "output_type": "stream",
     "text": [
      "a = 0, b = 0, 0\n",
      "a = 0, b = 1, 1\n",
      "a = 0, b = 2, 2\n",
      "a = 0, b = 3, 3\n",
      "a = 0, b = 4, 4\n",
      "a = 1, b = 0, 10\n",
      "a = 1, b = 1, 11\n",
      "a = 1, b = 2, 12\n",
      "a = 1, b = 3, 13\n",
      "a = 1, b = 4, 14\n",
      "a = 2, b = 0, 20\n",
      "a = 2, b = 1, 21\n",
      "a = 2, b = 2, 22\n",
      "a = 2, b = 3, 23\n",
      "a = 2, b = 4, 24\n",
      "a = 3, b = 0, 30\n",
      "a = 3, b = 1, 31\n",
      "a = 3, b = 2, 32\n",
      "a = 3, b = 3, 33\n",
      "a = 3, b = 4, 34\n",
      "a = 4, b = 0, 40\n",
      "a = 4, b = 1, 41\n",
      "a = 4, b = 2, 42\n",
      "a = 4, b = 3, 43\n",
      "a = 4, b = 4, 44\n"
     ]
    }
   ],
   "source": [
    "for a in range(5):\n",
    "    for b in range(5):\n",
    "        print(f'a = {a}, b = {b}, {list_8[a, b]}')"
   ]
  },
  {
   "cell_type": "code",
   "execution_count": 125,
   "id": "49092a63-5374-4248-a659-c79b6a54ee49",
   "metadata": {},
   "outputs": [
    {
     "data": {
      "text/plain": [
       "1"
      ]
     },
     "execution_count": 125,
     "metadata": {},
     "output_type": "execute_result"
    }
   ],
   "source": [
    "list_8[0, 1]"
   ]
  },
  {
   "cell_type": "code",
   "execution_count": 120,
   "id": "ed0d80e7-d8b0-4743-97c5-608ef46bebec",
   "metadata": {},
   "outputs": [
    {
     "name": "stdout",
     "output_type": "stream",
     "text": [
      "0 0\n",
      "0 1\n",
      "0 2\n",
      "0 3\n",
      "0 4\n",
      "1 0\n",
      "1 1\n",
      "1 2\n",
      "1 3\n",
      "1 4\n",
      "2 0\n",
      "2 1\n",
      "2 2\n",
      "2 3\n",
      "2 4\n",
      "3 0\n",
      "3 1\n",
      "3 2\n",
      "3 3\n",
      "3 4\n",
      "4 0\n",
      "4 1\n",
      "4 2\n",
      "4 3\n",
      "4 4\n"
     ]
    }
   ],
   "source": [
    "for a in range(5):\n",
    "    for b in range(5):\n",
    "        print(a, b)"
   ]
  },
  {
   "cell_type": "code",
   "execution_count": 135,
   "id": "005468d5-1f14-4e98-be71-8ee4e887635c",
   "metadata": {},
   "outputs": [
    {
     "name": "stdout",
     "output_type": "stream",
     "text": [
      "[[ 0  1  2  3  4]\n",
      " [10 11 12 13 14]\n",
      " [20 21 22 23 24]\n",
      " [30 31 32 33 34]\n",
      " [40 41 42 43 44]]\n"
     ]
    }
   ],
   "source": [
    "list_8 = np.empty((5, 5), dtype='int')\n",
    "\n",
    "for a in range(5):\n",
    "    for b in range(5):\n",
    "        list_8[a, b] = (a*10) + b\n",
    "\n",
    "print(list_8)"
   ]
  },
  {
   "cell_type": "code",
   "execution_count": 139,
   "id": "59e9ab75-7ecb-4257-8352-cb0cc8f44d55",
   "metadata": {},
   "outputs": [
    {
     "name": "stdout",
     "output_type": "stream",
     "text": [
      "[[ 0  1  2  3  4]\n",
      " [10 11 12 13 14]\n",
      " [20 21 22 23 24]\n",
      " [30 31 32 33 34]\n",
      " [40 41 42 43 44]]\n"
     ]
    }
   ],
   "source": [
    "list_9 = np.array([[a + (b*10) for a in range(5)] for b in range(5)])\n",
    "\n",
    "print(list_9)"
   ]
  },
  {
   "cell_type": "code",
   "execution_count": 142,
   "id": "9f8ad7c2-a208-405f-876b-0b5b249e82ae",
   "metadata": {},
   "outputs": [
    {
     "data": {
      "text/plain": [
       "array([[32, 33],\n",
       "       [42, 43]])"
      ]
     },
     "execution_count": 142,
     "metadata": {},
     "output_type": "execute_result"
    }
   ],
   "source": [
    "list_9[3:, 2:4]"
   ]
  },
  {
   "cell_type": "code",
   "execution_count": 165,
   "id": "fe8805f0-6698-401d-8de4-0dc0cfc54c11",
   "metadata": {},
   "outputs": [
    {
     "name": "stdout",
     "output_type": "stream",
     "text": [
      "[[[ 0  1  2  3  4]\n",
      "  [ 5  6  7  8  9]\n",
      "  [10 11 12 13 14]\n",
      "  [15 16 17 18 19]\n",
      "  [20 21 22 23 24]]\n",
      "\n",
      " [[ 5  6  7  8  9]\n",
      "  [10 11 12 13 14]\n",
      "  [15 16 17 18 19]\n",
      "  [20 21 22 23 24]\n",
      "  [25 26 27 28 29]]\n",
      "\n",
      " [[10 11 12 13 14]\n",
      "  [15 16 17 18 19]\n",
      "  [20 21 22 23 24]\n",
      "  [25 26 27 28 29]\n",
      "  [30 31 32 33 34]]\n",
      "\n",
      " [[15 16 17 18 19]\n",
      "  [20 21 22 23 24]\n",
      "  [25 26 27 28 29]\n",
      "  [30 31 32 33 34]\n",
      "  [35 36 37 38 39]]\n",
      "\n",
      " [[20 21 22 23 24]\n",
      "  [25 26 27 28 29]\n",
      "  [30 31 32 33 34]\n",
      "  [35 36 37 38 39]\n",
      "  [40 41 42 43 44]]]\n"
     ]
    }
   ],
   "source": [
    "example_1 = np.array([[[a + b*5 + c*5 for a in range(5)] for b in range(5)] for c in range(5)])\n",
    "print(example_1)"
   ]
  },
  {
   "cell_type": "code",
   "execution_count": 58,
   "id": "9a6aa4cd-9f83-4357-9d64-a188c0bf7378",
   "metadata": {},
   "outputs": [
    {
     "data": {
      "text/plain": [
       "array([[[40, 40, 40, 40, 40, 40, 40],\n",
       "        [41, 41, 41, 41, 41, 41, 41],\n",
       "        [42, 42, 42, 42, 42, 42, 42],\n",
       "        [43, 43, 43, 43, 43, 43, 43],\n",
       "        [44, 44, 44, 44, 44, 44, 44],\n",
       "        [45, 45, 45, 45, 45, 45, 45],\n",
       "        [46, 46, 46, 46, 46, 46, 46]],\n",
       "\n",
       "       [[10, 11, 12, 13, 14, 15, 16],\n",
       "        [10, 11, 12, 13, 14, 15, 16],\n",
       "        [10, 11, 12, 13, 14, 15, 16],\n",
       "        [10, 11, 12, 13, 14, 15, 16],\n",
       "        [10, 11, 12, 13, 14, 15, 16],\n",
       "        [10, 11, 12, 13, 14, 15, 16],\n",
       "        [10, 11, 12, 13, 14, 15, 16]]])"
      ]
     },
     "execution_count": 58,
     "metadata": {},
     "output_type": "execute_result"
    }
   ],
   "source": [
    "a = np.mgrid[40:40+7, 10:10+7]\n",
    "a"
   ]
  },
  {
   "cell_type": "code",
   "execution_count": 59,
   "id": "06980410-5b43-4291-a5b3-83609c603019",
   "metadata": {},
   "outputs": [
    {
     "data": {
      "text/plain": [
       "array([[40, 40, 40, 40, 40, 40, 40],\n",
       "       [41, 41, 41, 41, 41, 41, 41],\n",
       "       [42, 42, 42, 42, 42, 42, 42],\n",
       "       [43, 43, 43, 43, 43, 43, 43],\n",
       "       [44, 44, 44, 44, 44, 44, 44],\n",
       "       [45, 45, 45, 45, 45, 45, 45],\n",
       "       [46, 46, 46, 46, 46, 46, 46]])"
      ]
     },
     "execution_count": 59,
     "metadata": {},
     "output_type": "execute_result"
    }
   ],
   "source": [
    "b = a[0]\n",
    "b"
   ]
  },
  {
   "cell_type": "code",
   "execution_count": 60,
   "id": "2aec961c-0e2d-486f-8914-1e10ed2c7030",
   "metadata": {},
   "outputs": [
    {
     "data": {
      "text/plain": [
       "array([[40, 41, 42, 43, 44, 45, 46],\n",
       "       [41, 42, 43, 44, 45, 46, 47],\n",
       "       [42, 43, 44, 45, 46, 47, 48],\n",
       "       [43, 44, 45, 46, 47, 48, 49],\n",
       "       [44, 45, 46, 47, 48, 49, 50],\n",
       "       [45, 46, 47, 48, 49, 50, 51],\n",
       "       [46, 47, 48, 49, 50, 51, 52]])"
      ]
     },
     "execution_count": 60,
     "metadata": {},
     "output_type": "execute_result"
    }
   ],
   "source": [
    "for n in range(0, b.shape[1]):\n",
    "    b[:, n] = b[:, n] + n\n",
    "    \n",
    "b"
   ]
  },
  {
   "cell_type": "code",
   "execution_count": 7,
   "id": "eec5e562",
   "metadata": {},
   "outputs": [
    {
     "name": "stdout",
     "output_type": "stream",
     "text": [
      "[[ 58 196 128  42 155 145 103]\n",
      " [ 46 179 135 191  84  89 109]\n",
      " [ 64  85  66  46  93  53 197]\n",
      " [155  64  42 116  79 110  42]\n",
      " [138 173  88 196  69 153 128]\n",
      " [ 54 166  36 166 121 133 124]\n",
      " [154 158  91 193 121 134 149]]\n"
     ]
    }
   ],
   "source": [
    "ex_3 = np.random.randint(30, 200+1, size=(7, 7))\n",
    "\n",
    "print(ex_3)"
   ]
  },
  {
   "cell_type": "code",
   "execution_count": 12,
   "id": "6e825d89-68c4-45fc-8716-952942b2d498",
   "metadata": {},
   "outputs": [
    {
     "name": "stdout",
     "output_type": "stream",
     "text": [
      "[[ 58   1 128   1 155   1 103]\n",
      " [ 46 179 135 191  84  89 109]\n",
      " [ 64   1  66   1  93   1 197]\n",
      " [155  64  42 116  79 110  42]\n",
      " [138   1  88   1  69   1 128]\n",
      " [ 54 166  36 166 121 133 124]\n",
      " [154   1  91   1 121   1 149]]\n"
     ]
    }
   ],
   "source": [
    "ex_3[::2, 1::2] = 1\n",
    "print(ex_3)"
   ]
  },
  {
   "cell_type": "code",
   "execution_count": 21,
   "id": "05b6e60d-c071-4864-8cca-b4909f2d7834",
   "metadata": {},
   "outputs": [
    {
     "data": {
      "text/plain": [
       "array([[ 58,   1, 128,   1, 155,   1, 103],\n",
       "       [ 46, 179, 135, 191,  84,  89, 109],\n",
       "       [ 64,   1,  66,   1,  93,   1, 197],\n",
       "       [155,  64,  42, 116,  79, 110,  42],\n",
       "       [138,   1,  88,   1,  69,   1, 128],\n",
       "       [ 54, 166,  36, 166, 121, 133, 124],\n",
       "       [154,   1,  91,   1, 121,   1, 149]])"
      ]
     },
     "execution_count": 21,
     "metadata": {},
     "output_type": "execute_result"
    }
   ],
   "source": [
    "ex_3"
   ]
  },
  {
   "cell_type": "code",
   "execution_count": 20,
   "id": "028dc5c9-0789-4cdb-88d0-42a59ebcc2b9",
   "metadata": {},
   "outputs": [
    {
     "data": {
      "text/plain": [
       "array([1, 1, 1, 1, 1, 1, 1, 1, 1, 1, 1, 1])"
      ]
     },
     "execution_count": 20,
     "metadata": {},
     "output_type": "execute_result"
    }
   ],
   "source": [
    "ex_3[(ex_3 == 1)]"
   ]
  },
  {
   "cell_type": "code",
   "execution_count": 28,
   "id": "350fb825-0409-424d-ba34-3f1b0b48d4fb",
   "metadata": {},
   "outputs": [
    {
     "name": "stdout",
     "output_type": "stream",
     "text": [
      "[[ 57  87  77  95  56  50  78  88  57  82]\n",
      " [ 84  64  84  55  73  78  60  94  67  85]\n",
      " [ 69  60  79  74  56  93  95  82  96  64]\n",
      " [ 77  85  89  86  71  74  51  59  92  53]\n",
      " [ 56  65  77  73  98  78  56  69  61  90]\n",
      " [ 67  75  68  62  92  75  56  93  52  53]\n",
      " [ 60  85  59  94  81  58 100  56  69  99]\n",
      " [ 50  85  59  58  67  79  89  60  63  81]\n",
      " [ 54  60  55  87  90  50  98  91  73  68]\n",
      " [ 85  92  94  92  50  92  61  74  77  77]]\n"
     ]
    }
   ],
   "source": [
    "A = np.random.randint(50, 100+1, size=(10, 10))\n",
    "print(A)"
   ]
  },
  {
   "cell_type": "code",
   "execution_count": 27,
   "id": "fba33890-6904-4de4-83b9-27146ab3c61e",
   "metadata": {},
   "outputs": [
    {
     "name": "stdout",
     "output_type": "stream",
     "text": [
      "[1 2 3 4 5 6 7 8 9]\n"
     ]
    }
   ],
   "source": [
    "B = np.arange(1, 9+1, dtype=int)\n",
    "print(B)"
   ]
  },
  {
   "cell_type": "code",
   "execution_count": 33,
   "id": "faf52617-8cf4-4550-979b-132938508ab3",
   "metadata": {},
   "outputs": [
    {
     "name": "stdout",
     "output_type": "stream",
     "text": [
      "[1 3 5 7 9]\n"
     ]
    }
   ],
   "source": [
    "print(B[::2])"
   ]
  },
  {
   "cell_type": "code",
   "execution_count": 32,
   "id": "44d47177-3d65-4ef2-8a3e-a42da0dac721",
   "metadata": {},
   "outputs": [
    {
     "name": "stdout",
     "output_type": "stream",
     "text": [
      "[1 3 5 7 9]\n"
     ]
    }
   ],
   "source": [
    "row_mask = B[::2]\n",
    "print(row_mask)"
   ]
  },
  {
   "cell_type": "code",
   "execution_count": 34,
   "id": "7d58e497-8ee6-4187-b80d-ac19cd80a1aa",
   "metadata": {},
   "outputs": [
    {
     "name": "stdout",
     "output_type": "stream",
     "text": [
      "[[84 64 84 55 73 78 60 94 67 85]\n",
      " [77 85 89 86 71 74 51 59 92 53]\n",
      " [67 75 68 62 92 75 56 93 52 53]\n",
      " [50 85 59 58 67 79 89 60 63 81]\n",
      " [85 92 94 92 50 92 61 74 77 77]]\n"
     ]
    }
   ],
   "source": [
    "print(A[row_mask])"
   ]
  },
  {
   "cell_type": "code",
   "execution_count": 38,
   "id": "7f40e807-c3cb-4bd5-8595-b81115382154",
   "metadata": {},
   "outputs": [
    {
     "data": {
      "text/plain": [
       "7.382188596694821"
      ]
     },
     "execution_count": 38,
     "metadata": {},
     "output_type": "execute_result"
    }
   ],
   "source": [
    "np.random.uniform(1, 20)"
   ]
  },
  {
   "cell_type": "code",
   "execution_count": 37,
   "id": "2827fba4-e11d-40d4-80b0-367607927db1",
   "metadata": {},
   "outputs": [
    {
     "data": {
      "text/plain": [
       "13"
      ]
     },
     "execution_count": 37,
     "metadata": {},
     "output_type": "execute_result"
    }
   ],
   "source": [
    "np.random.randint(1, 20)"
   ]
  }
 ],
 "metadata": {
  "kernelspec": {
   "display_name": "Python 3 (ipykernel)",
   "language": "python",
   "name": "python3"
  },
  "language_info": {
   "codemirror_mode": {
    "name": "ipython",
    "version": 3
   },
   "file_extension": ".py",
   "mimetype": "text/x-python",
   "name": "python",
   "nbconvert_exporter": "python",
   "pygments_lexer": "ipython3",
   "version": "3.9.13"
  }
 },
 "nbformat": 4,
 "nbformat_minor": 5
}
