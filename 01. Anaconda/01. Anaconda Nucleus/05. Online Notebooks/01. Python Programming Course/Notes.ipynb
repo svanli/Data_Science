{
 "cells": [
  {
   "cell_type": "markdown",
   "id": "321826ae-1341-443c-b3a2-484ff05398d7",
   "metadata": {},
   "source": [
    "<h1>Notes</h1>"
   ]
  },
  {
   "cell_type": "markdown",
   "id": "018dec7a-bf53-4baa-b246-b558985be0ca",
   "metadata": {},
   "source": [
    "<h2>1.1 The Way of the Program</h2>"
   ]
  },
  {
   "cell_type": "code",
   "execution_count": null,
   "id": "11fe9c46-05aa-4b73-9250-d5e8cfc60763",
   "metadata": {},
   "outputs": [],
   "source": [
    "# start the online help utility\n",
    "help()"
   ]
  },
  {
   "cell_type": "code",
   "execution_count": 1,
   "id": "d6766433-a8ac-4e6a-827c-fef5c811bbac",
   "metadata": {},
   "outputs": [
    {
     "name": "stdout",
     "output_type": "stream",
     "text": [
      "help\n"
     ]
    }
   ],
   "source": [
    "print('help')"
   ]
  },
  {
   "cell_type": "code",
   "execution_count": 20,
   "id": "b6926c5c-7d80-432d-83e4-975633e39ee1",
   "metadata": {},
   "outputs": [
    {
     "name": "stdout",
     "output_type": "stream",
     "text": [
      "Help on built-in function print in module builtins:\n",
      "\n",
      "print(...)\n",
      "    print(value, ..., sep=' ', end='\\n', file=sys.stdout, flush=False)\n",
      "    \n",
      "    Prints the values to a stream, or to sys.stdout by default.\n",
      "    Optional keyword arguments:\n",
      "    file:  a file-like object (stream); defaults to the current sys.stdout.\n",
      "    sep:   string inserted between values, default a space.\n",
      "    end:   string appended after the last value, default a newline.\n",
      "    flush: whether to forcibly flush the stream.\n",
      "\n"
     ]
    }
   ],
   "source": [
    "help('print')"
   ]
  },
  {
   "cell_type": "code",
   "execution_count": 3,
   "id": "d9598477-5a47-4407-aa76-5fa365d98e95",
   "metadata": {},
   "outputs": [
    {
     "data": {
      "text/plain": [
       "264"
      ]
     },
     "execution_count": 3,
     "metadata": {},
     "output_type": "execute_result"
    }
   ],
   "source": [
    "132*2"
   ]
  },
  {
   "cell_type": "code",
   "execution_count": 5,
   "id": "cd59fe89-921b-44ee-b4a5-23953308f12f",
   "metadata": {},
   "outputs": [
    {
     "data": {
      "text/plain": [
       "6.211180124223602"
      ]
     },
     "execution_count": 5,
     "metadata": {},
     "output_type": "execute_result"
    }
   ],
   "source": [
    "len = 10\n",
    "t = 43.5\n",
    "len_miles = 10/1.61\n",
    "len_miles"
   ]
  },
  {
   "cell_type": "code",
   "execution_count": 16,
   "id": "bbe3980c-9ec2-4994-b290-7841e53c601e",
   "metadata": {},
   "outputs": [
    {
     "name": "stdout",
     "output_type": "stream",
     "text": [
      "Average time per mile is 7.003500000000001 minutes\n"
     ]
    }
   ],
   "source": [
    "av_time_per_mile = 43.5/len_miles\n",
    "print('Average time per mile is', av_time_per_mile, 'minutes')"
   ]
  },
  {
   "cell_type": "code",
   "execution_count": 17,
   "id": "53984584-6b61-4c45-a401-35fdaf555904",
   "metadata": {},
   "outputs": [
    {
     "data": {
      "text/plain": [
       "0.725"
      ]
     },
     "execution_count": 17,
     "metadata": {},
     "output_type": "execute_result"
    }
   ],
   "source": [
    "t_in_hrs = 43.5/60\n",
    "t_in_hrs"
   ]
  },
  {
   "cell_type": "code",
   "execution_count": 19,
   "id": "8baba74b-1bfd-4194-a08c-e84e0e14032b",
   "metadata": {},
   "outputs": [
    {
     "name": "stdout",
     "output_type": "stream",
     "text": [
      "Average speed is 8.567144998929106 mph\n"
     ]
    }
   ],
   "source": [
    "miles_per_hr = len_miles/t_in_hrs\n",
    "print('Average speed is', miles_per_hr, 'mph')"
   ]
  },
  {
   "cell_type": "markdown",
   "id": "3d078c51-17dd-4c5f-80b5-150da8680796",
   "metadata": {},
   "source": [
    "<h2>1.2 Variables, Expressions, and Statements</h2>"
   ]
  },
  {
   "cell_type": "code",
   "execution_count": 1,
   "id": "c88fe8c8-f520-4ea4-840e-5f09ec6d8690",
   "metadata": {},
   "outputs": [
    {
     "data": {
      "text/plain": [
       "1"
      ]
     },
     "execution_count": 1,
     "metadata": {},
     "output_type": "execute_result"
    }
   ],
   "source": [
    "a = 1\n",
    "b = 2\n",
    "a"
   ]
  },
  {
   "cell_type": "code",
   "execution_count": 2,
   "id": "0ab4c7d7-933a-40d7-b75b-61cf97885a19",
   "metadata": {},
   "outputs": [
    {
     "data": {
      "text/plain": [
       "2"
      ]
     },
     "execution_count": 2,
     "metadata": {},
     "output_type": "execute_result"
    }
   ],
   "source": [
    "b"
   ]
  },
  {
   "cell_type": "code",
   "execution_count": 4,
   "id": "081fcd56-34bb-4f51-a7a8-d1b14d23f77e",
   "metadata": {},
   "outputs": [
    {
     "data": {
      "text/plain": [
       "2"
      ]
     },
     "execution_count": 4,
     "metadata": {},
     "output_type": "execute_result"
    }
   ],
   "source": [
    "a = 2\n",
    "a"
   ]
  },
  {
   "cell_type": "code",
   "execution_count": 13,
   "id": "29da60fd-2175-469c-8cb9-f0f4e1b89194",
   "metadata": {},
   "outputs": [
    {
     "data": {
      "text/plain": [
       "1"
      ]
     },
     "execution_count": 13,
     "metadata": {},
     "output_type": "execute_result"
    }
   ],
   "source": [
    "a = 1\n",
    "b = a\n",
    "a = 5\n",
    "b       # [b] will not change because [a] was changed after the [b = a] variable (line)"
   ]
  },
  {
   "cell_type": "code",
   "execution_count": 29,
   "id": "e15b7607-169c-4e5d-8e15-7a5d266c7b0e",
   "metadata": {},
   "outputs": [
    {
     "data": {
      "text/plain": [
       "2"
      ]
     },
     "execution_count": 29,
     "metadata": {},
     "output_type": "execute_result"
    }
   ],
   "source": [
    "StudentName = 2\n",
    "StudentName"
   ]
  },
  {
   "cell_type": "code",
   "execution_count": 38,
   "id": "dfb78d49-2506-40be-9361-1457ce86ddcb",
   "metadata": {},
   "outputs": [
    {
     "name": "stdout",
     "output_type": "stream",
     "text": [
      "Thank you for sharing Python with the world, Guido!\n"
     ]
    }
   ],
   "source": [
    "message = 'Thank you for sharing Python with the world, Guido!'\n",
    "print(message)"
   ]
  },
  {
   "cell_type": "code",
   "execution_count": 40,
   "id": "53ed6c39-9464-4fa1-90db-a49f8ae94054",
   "metadata": {},
   "outputs": [
    {
     "data": {
      "text/plain": [
       "'Thank you for sharing Python with the world, Guido!'"
      ]
     },
     "execution_count": 40,
     "metadata": {},
     "output_type": "execute_result"
    }
   ],
   "source": [
    "mеssаgе = 2\n",
    "message"
   ]
  },
  {
   "cell_type": "code",
   "execution_count": 42,
   "id": "299be659-0859-4c99-99a5-313f0c14d99a",
   "metadata": {},
   "outputs": [
    {
     "data": {
      "text/plain": [
       "5"
      ]
     },
     "execution_count": 42,
     "metadata": {},
     "output_type": "execute_result"
    }
   ],
   "source": [
    "слово = 5\n",
    "слово"
   ]
  },
  {
   "cell_type": "code",
   "execution_count": 43,
   "id": "b0200856-403f-4954-933f-9a76d9c7e7b6",
   "metadata": {},
   "outputs": [
    {
     "data": {
      "text/plain": [
       "1"
      ]
     },
     "execution_count": 43,
     "metadata": {},
     "output_type": "execute_result"
    }
   ],
   "source": [
    "ещё = 1\n",
    "ещё"
   ]
  },
  {
   "cell_type": "code",
   "execution_count": 44,
   "id": "a70bb793-47fe-4e33-9232-69676af213b7",
   "metadata": {},
   "outputs": [
    {
     "data": {
      "text/plain": [
       "1"
      ]
     },
     "execution_count": 44,
     "metadata": {},
     "output_type": "execute_result"
    }
   ],
   "source": [
    "üęéèéäüóïў = 1\n",
    "üęéèéäüóïў"
   ]
  },
  {
   "cell_type": "code",
   "execution_count": 45,
   "id": "b98d7d0c-f676-48da-9008-3bda9980b299",
   "metadata": {},
   "outputs": [
    {
     "name": "stdout",
     "output_type": "stream",
     "text": [
      "Hello World\n"
     ]
    }
   ],
   "source": [
    "hello = 'Hello World'\n",
    "print(hello)"
   ]
  },
  {
   "cell_type": "code",
   "execution_count": 46,
   "id": "ac3ab078-12db-4e96-971e-6b2a6b6f2415",
   "metadata": {},
   "outputs": [
    {
     "name": "stdout",
     "output_type": "stream",
     "text": [
      "Привет всем!\n"
     ]
    }
   ],
   "source": [
    "hello = 'Привет всем!'\n",
    "print(hello)"
   ]
  },
  {
   "cell_type": "code",
   "execution_count": 47,
   "id": "ac58d0da-9332-4b17-9cad-b705cd8be41c",
   "metadata": {},
   "outputs": [
    {
     "data": {
      "text/plain": [
       "str"
      ]
     },
     "execution_count": 47,
     "metadata": {},
     "output_type": "execute_result"
    }
   ],
   "source": [
    "type(hello)"
   ]
  },
  {
   "cell_type": "code",
   "execution_count": 48,
   "id": "3116e3f4-4e1e-4465-bfcd-53be592ec32e",
   "metadata": {},
   "outputs": [
    {
     "data": {
      "text/plain": [
       "int"
      ]
     },
     "execution_count": 48,
     "metadata": {},
     "output_type": "execute_result"
    }
   ],
   "source": [
    "type(ещё)"
   ]
  },
  {
   "cell_type": "code",
   "execution_count": 49,
   "id": "a4da6d17-b2dc-474c-afe8-67a476b5f936",
   "metadata": {},
   "outputs": [
    {
     "data": {
      "text/plain": [
       "float"
      ]
     },
     "execution_count": 49,
     "metadata": {},
     "output_type": "execute_result"
    }
   ],
   "source": [
    "float_ex = 3.4324\n",
    "type(float_ex)"
   ]
  },
  {
   "cell_type": "code",
   "execution_count": 50,
   "id": "32299038-09cb-4d43-bf92-86c6133e54d8",
   "metadata": {},
   "outputs": [],
   "source": [
    "str_ex1 = '17'\n",
    "str_ex2 = '3.2'"
   ]
  },
  {
   "cell_type": "code",
   "execution_count": 53,
   "id": "b26faf43-585f-4e2a-8fef-0996283b565e",
   "metadata": {},
   "outputs": [
    {
     "data": {
      "text/plain": [
       "str"
      ]
     },
     "execution_count": 53,
     "metadata": {},
     "output_type": "execute_result"
    }
   ],
   "source": [
    "type(str_ex1)"
   ]
  },
  {
   "cell_type": "code",
   "execution_count": 54,
   "id": "3792395b-83f6-495a-8f9d-b5f3065d8e24",
   "metadata": {},
   "outputs": [
    {
     "data": {
      "text/plain": [
       "str"
      ]
     },
     "execution_count": 54,
     "metadata": {},
     "output_type": "execute_result"
    }
   ],
   "source": [
    "type(str_ex2)"
   ]
  },
  {
   "cell_type": "code",
   "execution_count": 61,
   "id": "46f20435-3f37-4264-a4f9-d0fa3ebdba65",
   "metadata": {},
   "outputs": [],
   "source": [
    "quote1 = \"Linus Torvalds once said, 'Any program is only as good as it is useful.'\"\n",
    "quote2 = 'Linus Torvalds once said, \"Any program is only as good as it is useful.\"'"
   ]
  },
  {
   "cell_type": "code",
   "execution_count": 58,
   "id": "e1f134ba-c1ba-40ae-bca7-334688beac4f",
   "metadata": {},
   "outputs": [
    {
     "name": "stdout",
     "output_type": "stream",
     "text": [
      "Linus Torvalds once said, 'Any program is only as good as it is useful.'\n"
     ]
    }
   ],
   "source": [
    "print(quote1)"
   ]
  },
  {
   "cell_type": "code",
   "execution_count": 59,
   "id": "4516e01a-f4ef-44b5-9638-b550e375b05d",
   "metadata": {},
   "outputs": [
    {
     "name": "stdout",
     "output_type": "stream",
     "text": [
      "Linus Torvalds once said, \"Any program is only as good as it is useful.\"\n"
     ]
    }
   ],
   "source": [
    "print(quote2)"
   ]
  },
  {
   "cell_type": "code",
   "execution_count": 66,
   "id": "08f1d5f3-0e34-4004-b15e-6e440db00f60",
   "metadata": {},
   "outputs": [],
   "source": [
    "multiline_string = '''This is a string where I \n",
    "can confortably write on multiple lines\n",
    "without worring about to use the escape character \"\\\\\" as in\n",
    "the previous example. \n",
    "As you'll see, the original string formatting is preserved.\n",
    "'''"
   ]
  },
  {
   "cell_type": "code",
   "execution_count": 67,
   "id": "d230e84e-6b6c-40cd-9c31-87e2584be7d6",
   "metadata": {},
   "outputs": [
    {
     "data": {
      "text/plain": [
       "'This is a string where I \\ncan confortably write on multiple lines\\nwithout worring about to use the escape character \"\\\\\" as in\\nthe previous example. \\nAs you\\'ll see, the original string formatting is preserved.\\n'"
      ]
     },
     "execution_count": 67,
     "metadata": {},
     "output_type": "execute_result"
    }
   ],
   "source": [
    "multiline_string"
   ]
  },
  {
   "cell_type": "code",
   "execution_count": 68,
   "id": "9f78269a-fe4e-4aa8-abbd-7cc6d0ef6516",
   "metadata": {},
   "outputs": [
    {
     "name": "stdout",
     "output_type": "stream",
     "text": [
      "This is a string where I \n",
      "can confortably write on multiple lines\n",
      "without worring about to use the escape character \"\\\" as in\n",
      "the previous example. \n",
      "As you'll see, the original string formatting is preserved.\n",
      "\n"
     ]
    }
   ],
   "source": [
    "print(multiline_string)"
   ]
  },
  {
   "cell_type": "code",
   "execution_count": 80,
   "id": "38831e73-3731-43d3-a24f-fe31a2626156",
   "metadata": {},
   "outputs": [],
   "source": [
    "multiline = '''\n",
    "Example of a string\n",
    "that is located on different lines\n",
    "this can be handy in different situations\n",
    "'''"
   ]
  },
  {
   "cell_type": "code",
   "execution_count": 81,
   "id": "71cec017-b43e-4c47-8ba1-d0f8a983e2a9",
   "metadata": {},
   "outputs": [
    {
     "name": "stdout",
     "output_type": "stream",
     "text": [
      "\n",
      "Example of a string\n",
      "that is located on different lines\n",
      "this can be handy in different situations\n",
      "\n"
     ]
    }
   ],
   "source": [
    "print(multiline)"
   ]
  },
  {
   "cell_type": "code",
   "execution_count": 82,
   "id": "b93eb1f7-b5fc-4d1f-84cb-0e01f80a55ad",
   "metadata": {},
   "outputs": [
    {
     "data": {
      "text/plain": [
       "'\\nExample of a string\\nthat is located on different lines\\nthis can be handy in different situations\\n'"
      ]
     },
     "execution_count": 82,
     "metadata": {},
     "output_type": "execute_result"
    }
   ],
   "source": [
    "multiline"
   ]
  },
  {
   "cell_type": "code",
   "execution_count": 75,
   "id": "a9d3b48f-ea7d-447a-945c-4de0740ffefe",
   "metadata": {},
   "outputs": [],
   "source": [
    "multiline2 = 'Example of a string \\\\ with an escape character \\\\ used here'"
   ]
  },
  {
   "cell_type": "code",
   "execution_count": 73,
   "id": "8b9248c4-8a41-4893-929f-083caeb6191a",
   "metadata": {},
   "outputs": [
    {
     "name": "stdout",
     "output_type": "stream",
     "text": [
      "Example of a string \\ with an escape character \\ used here\n"
     ]
    }
   ],
   "source": [
    "print(multiline2)"
   ]
  },
  {
   "cell_type": "code",
   "execution_count": 83,
   "id": "e4ec1abf-028b-4b48-b736-7e52fee69ba8",
   "metadata": {},
   "outputs": [
    {
     "data": {
      "text/plain": [
       "True"
      ]
     },
     "execution_count": 83,
     "metadata": {},
     "output_type": "execute_result"
    }
   ],
   "source": [
    "a = 423\n",
    "a == 423"
   ]
  },
  {
   "cell_type": "code",
   "execution_count": 84,
   "id": "c365ad85-6b73-4acf-b4ae-98e5ab657ddc",
   "metadata": {},
   "outputs": [
    {
     "data": {
      "text/plain": [
       "False"
      ]
     },
     "execution_count": 84,
     "metadata": {},
     "output_type": "execute_result"
    }
   ],
   "source": [
    "a == 324"
   ]
  },
  {
   "cell_type": "code",
   "execution_count": 85,
   "id": "13dc46a8-e2b9-4196-b3e2-4421b5b4aa40",
   "metadata": {},
   "outputs": [
    {
     "data": {
      "text/plain": [
       "True"
      ]
     },
     "execution_count": 85,
     "metadata": {},
     "output_type": "execute_result"
    }
   ],
   "source": [
    "(a == 423) == True"
   ]
  },
  {
   "cell_type": "code",
   "execution_count": 88,
   "id": "103f1318-6fb3-40bd-b4fd-46f8e8f4b600",
   "metadata": {},
   "outputs": [],
   "source": [
    "blank_value = None\n",
    "blank_value"
   ]
  },
  {
   "cell_type": "code",
   "execution_count": 89,
   "id": "10704310-7da6-4ae6-a579-0a084144dbe0",
   "metadata": {},
   "outputs": [
    {
     "data": {
      "text/plain": [
       "NoneType"
      ]
     },
     "execution_count": 89,
     "metadata": {},
     "output_type": "execute_result"
    }
   ],
   "source": [
    "type(blank_value)"
   ]
  },
  {
   "cell_type": "code",
   "execution_count": 90,
   "id": "218b9056-3961-4055-9a1e-816a2fd74401",
   "metadata": {},
   "outputs": [
    {
     "name": "stdout",
     "output_type": "stream",
     "text": [
      "None\n"
     ]
    }
   ],
   "source": [
    "print(blank_value)"
   ]
  },
  {
   "cell_type": "code",
   "execution_count": 91,
   "id": "4ba5e604-da97-4b29-a35a-d3bee916ec5e",
   "metadata": {},
   "outputs": [],
   "source": [
    "blank_value2 = 'None'\n",
    "blank_value"
   ]
  },
  {
   "cell_type": "code",
   "execution_count": 92,
   "id": "51eebd75-4c39-4a26-b447-7a19ab035039",
   "metadata": {},
   "outputs": [
    {
     "name": "stdout",
     "output_type": "stream",
     "text": [
      "None\n"
     ]
    }
   ],
   "source": [
    "print(blank_value)"
   ]
  },
  {
   "cell_type": "code",
   "execution_count": 93,
   "id": "3ab95742-274b-4d12-963d-c5821e2efbd1",
   "metadata": {},
   "outputs": [
    {
     "data": {
      "text/plain": [
       "52"
      ]
     },
     "execution_count": 93,
     "metadata": {},
     "output_type": "execute_result"
    }
   ],
   "source": [
    "20 + 32"
   ]
  },
  {
   "cell_type": "code",
   "execution_count": 96,
   "id": "04b4b4c1-5dcb-4a0f-9dcf-e28712344461",
   "metadata": {},
   "outputs": [
    {
     "data": {
      "text/plain": [
       "25"
      ]
     },
     "execution_count": 96,
     "metadata": {},
     "output_type": "execute_result"
    }
   ],
   "source": [
    "5 ** 2"
   ]
  },
  {
   "cell_type": "code",
   "execution_count": 97,
   "id": "08f4ae70-17f8-46de-b53f-7093d907fbc8",
   "metadata": {},
   "outputs": [
    {
     "data": {
      "text/plain": [
       "625"
      ]
     },
     "execution_count": 97,
     "metadata": {},
     "output_type": "execute_result"
    }
   ],
   "source": [
    "5 ** 4"
   ]
  },
  {
   "cell_type": "code",
   "execution_count": 98,
   "id": "364587c6-1a2f-44e0-a29f-33893618b42f",
   "metadata": {},
   "outputs": [
    {
     "ename": "NameError",
     "evalue": "name 'p' is not defined",
     "output_type": "error",
     "traceback": [
      "\u001b[1;31m---------------------------------------------------------------------------\u001b[0m",
      "\u001b[1;31mNameError\u001b[0m                                 Traceback (most recent call last)",
      "\u001b[1;32m~\\AppData\\Local\\Temp\\ipykernel_10448\\3427372334.py\u001b[0m in \u001b[0;36m<module>\u001b[1;34m\u001b[0m\n\u001b[1;32m----> 1\u001b[1;33m \u001b[0mp\u001b[0m \u001b[1;32mand\u001b[0m \u001b[0mo\u001b[0m\u001b[1;33m\u001b[0m\u001b[1;33m\u001b[0m\u001b[0m\n\u001b[0m",
      "\u001b[1;31mNameError\u001b[0m: name 'p' is not defined"
     ]
    }
   ],
   "source": [
    "p and o"
   ]
  },
  {
   "cell_type": "code",
   "execution_count": 99,
   "id": "b3a75dde-e1ed-4d78-8830-c74f77b7a972",
   "metadata": {},
   "outputs": [
    {
     "data": {
      "text/plain": [
       "True"
      ]
     },
     "execution_count": 99,
     "metadata": {},
     "output_type": "execute_result"
    }
   ],
   "source": [
    "1 == 1 and 2 == 2"
   ]
  },
  {
   "cell_type": "code",
   "execution_count": 101,
   "id": "511e2e05-64e4-4dcc-b668-17a190d6786a",
   "metadata": {},
   "outputs": [
    {
     "data": {
      "text/plain": [
       "True"
      ]
     },
     "execution_count": 101,
     "metadata": {},
     "output_type": "execute_result"
    }
   ],
   "source": [
    "1 == 1 and 2 != 3 and 324*231 != 3"
   ]
  },
  {
   "cell_type": "code",
   "execution_count": 102,
   "id": "7a416524-3f65-478b-b639-213c1dc27aa3",
   "metadata": {},
   "outputs": [
    {
     "data": {
      "text/plain": [
       "True"
      ]
     },
     "execution_count": 102,
     "metadata": {},
     "output_type": "execute_result"
    }
   ],
   "source": [
    "1 == 1 or 2 == 3"
   ]
  },
  {
   "cell_type": "code",
   "execution_count": 108,
   "id": "4854c82d-4efd-4a35-80a2-f645c42cbc1c",
   "metadata": {},
   "outputs": [
    {
     "data": {
      "text/plain": [
       "'eggseasy'"
      ]
     },
     "execution_count": 108,
     "metadata": {},
     "output_type": "execute_result"
    }
   ],
   "source": [
    "'eggs'+'easy'"
   ]
  },
  {
   "cell_type": "code",
   "execution_count": 109,
   "id": "1a7eada4-d0d5-4741-be7a-4e9b0b697714",
   "metadata": {},
   "outputs": [
    {
     "data": {
      "text/plain": [
       "'eggseggseggs'"
      ]
     },
     "execution_count": 109,
     "metadata": {},
     "output_type": "execute_result"
    }
   ],
   "source": [
    "'eggs'*3"
   ]
  },
  {
   "cell_type": "code",
   "execution_count": 110,
   "id": "581cccd3-1a87-4197-a500-b219ae394cb2",
   "metadata": {},
   "outputs": [
    {
     "name": "stdout",
     "output_type": "stream",
     "text": [
      "5\n"
     ]
    }
   ],
   "source": [
    "print(2+3)"
   ]
  },
  {
   "cell_type": "code",
   "execution_count": 112,
   "id": "c38921c4-6319-47bf-b145-034054e90538",
   "metadata": {},
   "outputs": [
    {
     "name": "stdout",
     "output_type": "stream",
     "text": [
      "5\n"
     ]
    }
   ],
   "source": [
    "a = 2\n",
    "b = 3\n",
    "c = a + b\n",
    "print(c)"
   ]
  },
  {
   "cell_type": "code",
   "execution_count": 114,
   "id": "55934afe-94d7-44e8-a0be-517cfb60a3b3",
   "metadata": {},
   "outputs": [
    {
     "name": "stdout",
     "output_type": "stream",
     "text": [
      "0.5\n"
     ]
    }
   ],
   "source": [
    "a = 0.2\n",
    "b = 0.3\n",
    "c = a + b\n",
    "print(c)"
   ]
  },
  {
   "cell_type": "code",
   "execution_count": 115,
   "id": "841b76bc-748d-425f-bc0b-e86105caff96",
   "metadata": {},
   "outputs": [
    {
     "name": "stdout",
     "output_type": "stream",
     "text": [
      "0.30000000000000004\n"
     ]
    }
   ],
   "source": [
    "a = 0.1\n",
    "b = 0.2\n",
    "c = a + b\n",
    "print(c)"
   ]
  },
  {
   "cell_type": "code",
   "execution_count": 116,
   "id": "0c0548a1-e02e-4c13-935d-578e1675882d",
   "metadata": {},
   "outputs": [
    {
     "name": "stdout",
     "output_type": "stream",
     "text": [
      "0.30000000000000004\n"
     ]
    }
   ],
   "source": [
    "print(3 * a)"
   ]
  },
  {
   "cell_type": "code",
   "execution_count": 117,
   "id": "88bb2a1b-586b-49fa-a4ed-f5a956bca56c",
   "metadata": {},
   "outputs": [
    {
     "data": {
      "text/plain": [
       "3.3000000000000003"
      ]
     },
     "execution_count": 117,
     "metadata": {},
     "output_type": "execute_result"
    }
   ],
   "source": [
    "1.1 + 2.2"
   ]
  },
  {
   "cell_type": "code",
   "execution_count": 118,
   "id": "aaf1ad1d-4905-41f9-b469-73e505681aaf",
   "metadata": {},
   "outputs": [
    {
     "data": {
      "text/plain": [
       "5.551115123125783e-17"
      ]
     },
     "execution_count": 118,
     "metadata": {},
     "output_type": "execute_result"
    }
   ],
   "source": [
    "0.1 + 0.1 + 0.1 - 0.3"
   ]
  },
  {
   "cell_type": "code",
   "execution_count": 119,
   "id": "e5ac54c3-8647-40a7-9668-aea0f38e9a21",
   "metadata": {},
   "outputs": [
    {
     "data": {
      "text/plain": [
       "5.551115123125783e-17"
      ]
     },
     "execution_count": 119,
     "metadata": {},
     "output_type": "execute_result"
    }
   ],
   "source": [
    "0.1*3-0.3"
   ]
  },
  {
   "cell_type": "code",
   "execution_count": 120,
   "id": "fda77370-2314-4c95-9bdd-1de19764524b",
   "metadata": {},
   "outputs": [
    {
     "name": "stdout",
     "output_type": "stream",
     "text": [
      "37\n"
     ]
    }
   ],
   "source": [
    "a = 2\n",
    "b = 35\n",
    "print(a + b)"
   ]
  },
  {
   "cell_type": "code",
   "execution_count": 121,
   "id": "4e72de5f-52b7-416c-a588-bfb2d377b3b4",
   "metadata": {},
   "outputs": [
    {
     "name": "stdout",
     "output_type": "stream",
     "text": [
      "-33\n"
     ]
    }
   ],
   "source": [
    "print(a - b)"
   ]
  },
  {
   "cell_type": "code",
   "execution_count": 122,
   "id": "25a45ac0-fc51-4b8d-9c76-e64a255eebb3",
   "metadata": {},
   "outputs": [
    {
     "name": "stdout",
     "output_type": "stream",
     "text": [
      "70\n"
     ]
    }
   ],
   "source": [
    "print(a * b)"
   ]
  },
  {
   "cell_type": "code",
   "execution_count": 123,
   "id": "bdb233da-517c-478d-af19-02a814f32abc",
   "metadata": {},
   "outputs": [
    {
     "name": "stdout",
     "output_type": "stream",
     "text": [
      "0.05714285714285714\n"
     ]
    }
   ],
   "source": [
    "print(a / b)"
   ]
  },
  {
   "cell_type": "code",
   "execution_count": 124,
   "id": "c65feebe-fe08-4a1a-945a-54dc15ae77ab",
   "metadata": {},
   "outputs": [
    {
     "name": "stdout",
     "output_type": "stream",
     "text": [
      "34359738368\n"
     ]
    }
   ],
   "source": [
    "print (a ** b)"
   ]
  },
  {
   "cell_type": "code",
   "execution_count": 126,
   "id": "87e64ab2-d75b-4a41-b996-63eeaf38a0c1",
   "metadata": {},
   "outputs": [
    {
     "data": {
      "text/plain": [
       "-22"
      ]
     },
     "execution_count": 126,
     "metadata": {},
     "output_type": "execute_result"
    }
   ],
   "source": [
    "24 - 23 * 2"
   ]
  },
  {
   "cell_type": "code",
   "execution_count": 127,
   "id": "9bcb5b4e-1bcb-4309-abaf-0ae3f19b4800",
   "metadata": {},
   "outputs": [
    {
     "data": {
      "text/plain": [
       "2"
      ]
     },
     "execution_count": 127,
     "metadata": {},
     "output_type": "execute_result"
    }
   ],
   "source": [
    "(24 - 23) * 2"
   ]
  },
  {
   "cell_type": "markdown",
   "id": "9fefbbc6-6cd5-431b-af0d-9607fef577a9",
   "metadata": {},
   "source": [
    "Exercises. Ex 2.1"
   ]
  },
  {
   "cell_type": "code",
   "execution_count": 128,
   "id": "15c9e0d7-f41a-4983-b207-5017314b8345",
   "metadata": {},
   "outputs": [],
   "source": [
    "width = 17\n",
    "height = 12.0\n",
    "delimiter = '.'"
   ]
  },
  {
   "cell_type": "code",
   "execution_count": 129,
   "id": "c7c6fdf2-e7ee-4d41-81a9-cefe477c019c",
   "metadata": {},
   "outputs": [
    {
     "data": {
      "text/plain": [
       "8.5"
      ]
     },
     "execution_count": 129,
     "metadata": {},
     "output_type": "execute_result"
    }
   ],
   "source": [
    "width/2"
   ]
  },
  {
   "cell_type": "code",
   "execution_count": 130,
   "id": "a7ad4c06-b982-48c0-b14e-9969bf19365e",
   "metadata": {},
   "outputs": [
    {
     "data": {
      "text/plain": [
       "8.5"
      ]
     },
     "execution_count": 130,
     "metadata": {},
     "output_type": "execute_result"
    }
   ],
   "source": [
    "width/2.0"
   ]
  },
  {
   "cell_type": "code",
   "execution_count": 131,
   "id": "3a626a1c-c7df-4f2d-bcc5-9885543e05ba",
   "metadata": {},
   "outputs": [
    {
     "data": {
      "text/plain": [
       "4.0"
      ]
     },
     "execution_count": 131,
     "metadata": {},
     "output_type": "execute_result"
    }
   ],
   "source": [
    "height/3"
   ]
  },
  {
   "cell_type": "code",
   "execution_count": 132,
   "id": "9696adf0-0e59-422a-8773-8d3313bee6c3",
   "metadata": {},
   "outputs": [
    {
     "data": {
      "text/plain": [
       "11"
      ]
     },
     "execution_count": 132,
     "metadata": {},
     "output_type": "execute_result"
    }
   ],
   "source": [
    "1+2*5"
   ]
  },
  {
   "cell_type": "code",
   "execution_count": 133,
   "id": "a53a5d70-414d-4fdb-a56b-4970eba2c97e",
   "metadata": {},
   "outputs": [
    {
     "data": {
      "text/plain": [
       "'.....'"
      ]
     },
     "execution_count": 133,
     "metadata": {},
     "output_type": "execute_result"
    }
   ],
   "source": [
    "delimiter*5"
   ]
  },
  {
   "cell_type": "code",
   "execution_count": 134,
   "id": "3e2f7259-da57-435c-8ac3-3851f6b9c490",
   "metadata": {},
   "outputs": [
    {
     "data": {
      "text/plain": [
       "float"
      ]
     },
     "execution_count": 134,
     "metadata": {},
     "output_type": "execute_result"
    }
   ],
   "source": [
    "type(width/2)"
   ]
  },
  {
   "cell_type": "code",
   "execution_count": 135,
   "id": "c03ef6c6-878d-4f7f-8419-3ce9585ecf2a",
   "metadata": {},
   "outputs": [
    {
     "data": {
      "text/plain": [
       "float"
      ]
     },
     "execution_count": 135,
     "metadata": {},
     "output_type": "execute_result"
    }
   ],
   "source": [
    "type(width/2.0)"
   ]
  },
  {
   "cell_type": "code",
   "execution_count": 136,
   "id": "75966de0-325c-49ee-93df-bd6c3701327d",
   "metadata": {},
   "outputs": [
    {
     "data": {
      "text/plain": [
       "float"
      ]
     },
     "execution_count": 136,
     "metadata": {},
     "output_type": "execute_result"
    }
   ],
   "source": [
    "type(height/3)"
   ]
  },
  {
   "cell_type": "code",
   "execution_count": 137,
   "id": "22cb9e6a-4f50-412b-b774-67b2ecf5d197",
   "metadata": {},
   "outputs": [
    {
     "data": {
      "text/plain": [
       "int"
      ]
     },
     "execution_count": 137,
     "metadata": {},
     "output_type": "execute_result"
    }
   ],
   "source": [
    "type(1+2*5)"
   ]
  },
  {
   "cell_type": "code",
   "execution_count": 138,
   "id": "392212a2-7b7f-4e4f-ae8d-2065899d5235",
   "metadata": {},
   "outputs": [
    {
     "data": {
      "text/plain": [
       "str"
      ]
     },
     "execution_count": 138,
     "metadata": {},
     "output_type": "execute_result"
    }
   ],
   "source": [
    "type(delimiter*5)"
   ]
  },
  {
   "cell_type": "markdown",
   "id": "88da6359-de97-4203-a9f7-1bb9429573e4",
   "metadata": {},
   "source": [
    "Ex 2.2"
   ]
  },
  {
   "cell_type": "code",
   "execution_count": 141,
   "id": "10550e21-2921-4fe9-999f-9c4622e2506c",
   "metadata": {},
   "outputs": [
    {
     "data": {
      "text/plain": [
       "523.5983333333332"
      ]
     },
     "execution_count": 141,
     "metadata": {},
     "output_type": "execute_result"
    }
   ],
   "source": [
    "pi = 3.14159\n",
    "(4/3) * pi * (5 ** 3)"
   ]
  },
  {
   "cell_type": "markdown",
   "id": "966d5f8c-3f71-48ff-ace8-294fbffae622",
   "metadata": {},
   "source": [
    "\n",
    "\n",
    "Suppose the cover price of a book is USD 24.95, but bookstores get a 40 % discount. Shipping costs $3 for the first copy and 75 cents for each additional copy. What is the total wholesale cost for 60 copies?\n"
   ]
  },
  {
   "cell_type": "code",
   "execution_count": 148,
   "id": "301f9358-1157-4926-a97c-139ccff0649d",
   "metadata": {},
   "outputs": [],
   "source": [
    "price = 24.95\n",
    "discount = 0.4\n",
    "shipping_costs_1 = 3\n",
    "shipping_costs_2 = 0.75\n",
    "copies = 60"
   ]
  },
  {
   "cell_type": "code",
   "execution_count": 149,
   "id": "a8e2f733-f986-413a-a951-decd7728f672",
   "metadata": {},
   "outputs": [
    {
     "data": {
      "text/plain": [
       "14.969999999999999"
      ]
     },
     "execution_count": 149,
     "metadata": {},
     "output_type": "execute_result"
    }
   ],
   "source": [
    "price_per_book = price * (1 - discount)\n",
    "price_per_book"
   ]
  },
  {
   "cell_type": "code",
   "execution_count": 150,
   "id": "ea59dbea-5cb5-462e-81f9-a407e16e42b8",
   "metadata": {},
   "outputs": [
    {
     "data": {
      "text/plain": [
       "945.4499999999999"
      ]
     },
     "execution_count": 150,
     "metadata": {},
     "output_type": "execute_result"
    }
   ],
   "source": [
    "total_cost = (price_per_book + shipping_costs_1) + (price_per_book + shipping_costs_2) * (copies - 1)\n",
    "total_cost"
   ]
  },
  {
   "cell_type": "markdown",
   "id": "76126e28-f244-457b-8e4c-b0a15f6847ce",
   "metadata": {},
   "source": [
    "Alternative:"
   ]
  },
  {
   "cell_type": "code",
   "execution_count": 152,
   "id": "76862e77-f710-4086-8513-b1b04337fb1b",
   "metadata": {},
   "outputs": [
    {
     "data": {
      "text/plain": [
       "47.25"
      ]
     },
     "execution_count": 152,
     "metadata": {},
     "output_type": "execute_result"
    }
   ],
   "source": [
    "shipping_costs = shipping_costs_1 + (shipping_costs_2 * (copies - 1))\n",
    "shipping_costs"
   ]
  },
  {
   "cell_type": "code",
   "execution_count": 153,
   "id": "632e6721-cea1-4dce-a160-fc83d5cab928",
   "metadata": {},
   "outputs": [
    {
     "data": {
      "text/plain": [
       "898.1999999999999"
      ]
     },
     "execution_count": 153,
     "metadata": {},
     "output_type": "execute_result"
    }
   ],
   "source": [
    "book_costs = price_per_book * copies\n",
    "book_costs"
   ]
  },
  {
   "cell_type": "code",
   "execution_count": 155,
   "id": "fd89c2bc-1002-48c6-aa7a-8669368e9b7e",
   "metadata": {},
   "outputs": [
    {
     "data": {
      "text/plain": [
       "945.4499999999999"
      ]
     },
     "execution_count": 155,
     "metadata": {},
     "output_type": "execute_result"
    }
   ],
   "source": [
    "total_costs2 = shipping_costs + book_costs\n",
    "total_costs2"
   ]
  },
  {
   "cell_type": "markdown",
   "id": "7cfa8fe0-8535-43bc-83a0-cfb7225e1806",
   "metadata": {},
   "source": [
    "If I leave my house at 6:52am and run 1 mile at an easy pace (8:15 per mile), then 3 miles at tempo (7:12 per mile) and 1 mile at easy pace again, what time do I get home for breakfast?"
   ]
  },
  {
   "cell_type": "markdown",
   "id": "182ecba8-de1a-474f-8b60-abbd92660d2d",
   "metadata": {},
   "source": [
    "If I leave my house at 6:52 and run 1 km at an easy pace (8 m 15 s per km), then 3 kms at tempo (7 m 12 s per km) and 1 km at easy pace again, what time do I get home for breakfast?"
   ]
  },
  {
   "cell_type": "code",
   "execution_count": 157,
   "id": "1bd899ed-6ecd-4adc-9982-f2a8de1ce78c",
   "metadata": {},
   "outputs": [
    {
     "data": {
      "text/plain": [
       "495"
      ]
     },
     "execution_count": 157,
     "metadata": {},
     "output_type": "execute_result"
    }
   ],
   "source": [
    "SecondsEasyPace = (8*60) + 15 # seconds per 1 km at an easy pace\n",
    "SecondsEasyPace"
   ]
  },
  {
   "cell_type": "code",
   "execution_count": 158,
   "id": "af089adb-8153-4353-a167-54aeef132236",
   "metadata": {},
   "outputs": [
    {
     "data": {
      "text/plain": [
       "432"
      ]
     },
     "execution_count": 158,
     "metadata": {},
     "output_type": "execute_result"
    }
   ],
   "source": [
    "SecondsTempoPace = (7*60) + 12 # seconds per 1 km at a tempo pace\n",
    "SecondsTempoPace"
   ]
  },
  {
   "cell_type": "code",
   "execution_count": 160,
   "id": "b921e950-e706-4785-a2b6-5bc5b5296fdd",
   "metadata": {},
   "outputs": [
    {
     "data": {
      "text/plain": [
       "2286"
      ]
     },
     "execution_count": 160,
     "metadata": {},
     "output_type": "execute_result"
    }
   ],
   "source": [
    "TimeRunning = ((1+1) * SecondsEasyPace) + (3 * SecondsTempoPace)\n",
    "TimeRunning"
   ]
  },
  {
   "cell_type": "code",
   "execution_count": 162,
   "id": "d3ade991-09c3-4706-aa9e-570f66c7da4e",
   "metadata": {},
   "outputs": [
    {
     "data": {
      "text/plain": [
       "38.1"
      ]
     },
     "execution_count": 162,
     "metadata": {},
     "output_type": "execute_result"
    }
   ],
   "source": [
    "MinutesRunning = TimeRunning / 60\n",
    "MinutesRunning"
   ]
  },
  {
   "cell_type": "markdown",
   "id": "0532976b-08cc-4d1f-8bca-1188546227fe",
   "metadata": {},
   "source": [
    "Not really correct:"
   ]
  },
  {
   "cell_type": "code",
   "execution_count": 163,
   "id": "75a32a1a-c690-49df-90e7-e0f7c8c4f906",
   "metadata": {},
   "outputs": [
    {
     "data": {
      "text/plain": [
       "412"
      ]
     },
     "execution_count": 163,
     "metadata": {},
     "output_type": "execute_result"
    }
   ],
   "source": [
    "DepartureTime = (6 * 60) + 52\n",
    "DepartureTime"
   ]
  },
  {
   "cell_type": "code",
   "execution_count": 164,
   "id": "a6d81bc7-5d4e-45ef-9cfe-daf0301fcf5f",
   "metadata": {},
   "outputs": [
    {
     "data": {
      "text/plain": [
       "450.1"
      ]
     },
     "execution_count": 164,
     "metadata": {},
     "output_type": "execute_result"
    }
   ],
   "source": [
    "ArrivalTime = DepartureTime + MinutesRunning\n",
    "ArrivalTime"
   ]
  },
  {
   "cell_type": "code",
   "execution_count": 165,
   "id": "83de9461-4248-458c-8294-88f89b49d996",
   "metadata": {},
   "outputs": [
    {
     "data": {
      "text/plain": [
       "7.501666666666667"
      ]
     },
     "execution_count": 165,
     "metadata": {},
     "output_type": "execute_result"
    }
   ],
   "source": [
    "ArrivalTimeReal = ArrivalTime / 60\n",
    "ArrivalTimeReal"
   ]
  },
  {
   "cell_type": "markdown",
   "id": "19e3fd93-8136-4a8d-8e47-d3f22c981f96",
   "metadata": {},
   "source": [
    "Corrected:"
   ]
  },
  {
   "cell_type": "code",
   "execution_count": 167,
   "id": "79eeae4b-d463-402c-8851-64020a1053b5",
   "metadata": {},
   "outputs": [
    {
     "name": "stdout",
     "output_type": "stream",
     "text": [
      "Arrival time is around 7:30\n"
     ]
    }
   ],
   "source": [
    "print('Arrival time is around 7:30')"
   ]
  },
  {
   "cell_type": "code",
   "execution_count": null,
   "id": "7b95bb28-695b-46c0-813e-494286ada033",
   "metadata": {},
   "outputs": [],
   "source": []
  }
 ],
 "metadata": {
  "kernelspec": {
   "display_name": "Python 3 (ipykernel)",
   "language": "python",
   "name": "python3"
  },
  "language_info": {
   "codemirror_mode": {
    "name": "ipython",
    "version": 3
   },
   "file_extension": ".py",
   "mimetype": "text/x-python",
   "name": "python",
   "nbconvert_exporter": "python",
   "pygments_lexer": "ipython3",
   "version": "3.9.13"
  }
 },
 "nbformat": 4,
 "nbformat_minor": 5
}
