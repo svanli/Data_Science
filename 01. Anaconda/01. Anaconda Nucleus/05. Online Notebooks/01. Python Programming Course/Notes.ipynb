{
 "cells": [
  {
   "cell_type": "markdown",
   "id": "321826ae-1341-443c-b3a2-484ff05398d7",
   "metadata": {},
   "source": [
    "<h1>Notes</h1>"
   ]
  },
  {
   "cell_type": "markdown",
   "id": "018dec7a-bf53-4baa-b246-b558985be0ca",
   "metadata": {},
   "source": [
    "<h2>1.1 The Way of the Program</h2>"
   ]
  },
  {
   "cell_type": "code",
   "execution_count": null,
   "id": "11fe9c46-05aa-4b73-9250-d5e8cfc60763",
   "metadata": {},
   "outputs": [],
   "source": [
    "# start the online help utility\n",
    "help()"
   ]
  },
  {
   "cell_type": "code",
   "execution_count": 1,
   "id": "d6766433-a8ac-4e6a-827c-fef5c811bbac",
   "metadata": {},
   "outputs": [
    {
     "name": "stdout",
     "output_type": "stream",
     "text": [
      "help\n"
     ]
    }
   ],
   "source": [
    "print('help')"
   ]
  },
  {
   "cell_type": "code",
   "execution_count": 20,
   "id": "b6926c5c-7d80-432d-83e4-975633e39ee1",
   "metadata": {},
   "outputs": [
    {
     "name": "stdout",
     "output_type": "stream",
     "text": [
      "Help on built-in function print in module builtins:\n",
      "\n",
      "print(...)\n",
      "    print(value, ..., sep=' ', end='\\n', file=sys.stdout, flush=False)\n",
      "    \n",
      "    Prints the values to a stream, or to sys.stdout by default.\n",
      "    Optional keyword arguments:\n",
      "    file:  a file-like object (stream); defaults to the current sys.stdout.\n",
      "    sep:   string inserted between values, default a space.\n",
      "    end:   string appended after the last value, default a newline.\n",
      "    flush: whether to forcibly flush the stream.\n",
      "\n"
     ]
    }
   ],
   "source": [
    "help('print')"
   ]
  },
  {
   "cell_type": "code",
   "execution_count": 3,
   "id": "d9598477-5a47-4407-aa76-5fa365d98e95",
   "metadata": {},
   "outputs": [
    {
     "data": {
      "text/plain": [
       "264"
      ]
     },
     "execution_count": 3,
     "metadata": {},
     "output_type": "execute_result"
    }
   ],
   "source": [
    "132*2"
   ]
  },
  {
   "cell_type": "code",
   "execution_count": 5,
   "id": "cd59fe89-921b-44ee-b4a5-23953308f12f",
   "metadata": {},
   "outputs": [
    {
     "data": {
      "text/plain": [
       "6.211180124223602"
      ]
     },
     "execution_count": 5,
     "metadata": {},
     "output_type": "execute_result"
    }
   ],
   "source": [
    "len = 10\n",
    "t = 43.5\n",
    "len_miles = 10/1.61\n",
    "len_miles"
   ]
  },
  {
   "cell_type": "code",
   "execution_count": 16,
   "id": "bbe3980c-9ec2-4994-b290-7841e53c601e",
   "metadata": {},
   "outputs": [
    {
     "name": "stdout",
     "output_type": "stream",
     "text": [
      "Average time per mile is 7.003500000000001 minutes\n"
     ]
    }
   ],
   "source": [
    "av_time_per_mile = 43.5/len_miles\n",
    "print('Average time per mile is', av_time_per_mile, 'minutes')"
   ]
  },
  {
   "cell_type": "code",
   "execution_count": 17,
   "id": "53984584-6b61-4c45-a401-35fdaf555904",
   "metadata": {},
   "outputs": [
    {
     "data": {
      "text/plain": [
       "0.725"
      ]
     },
     "execution_count": 17,
     "metadata": {},
     "output_type": "execute_result"
    }
   ],
   "source": [
    "t_in_hrs = 43.5/60\n",
    "t_in_hrs"
   ]
  },
  {
   "cell_type": "code",
   "execution_count": 19,
   "id": "8baba74b-1bfd-4194-a08c-e84e0e14032b",
   "metadata": {},
   "outputs": [
    {
     "name": "stdout",
     "output_type": "stream",
     "text": [
      "Average speed is 8.567144998929106 mph\n"
     ]
    }
   ],
   "source": [
    "miles_per_hr = len_miles/t_in_hrs\n",
    "print('Average speed is', miles_per_hr, 'mph')"
   ]
  },
  {
   "cell_type": "code",
   "execution_count": null,
   "id": "28f06444-b8d0-487d-ab72-abb7f1294783",
   "metadata": {},
   "outputs": [],
   "source": []
  }
 ],
 "metadata": {
  "kernelspec": {
   "display_name": "Python 3 (ipykernel)",
   "language": "python",
   "name": "python3"
  },
  "language_info": {
   "codemirror_mode": {
    "name": "ipython",
    "version": 3
   },
   "file_extension": ".py",
   "mimetype": "text/x-python",
   "name": "python",
   "nbconvert_exporter": "python",
   "pygments_lexer": "ipython3",
   "version": "3.9.13"
  }
 },
 "nbformat": 4,
 "nbformat_minor": 5
}
