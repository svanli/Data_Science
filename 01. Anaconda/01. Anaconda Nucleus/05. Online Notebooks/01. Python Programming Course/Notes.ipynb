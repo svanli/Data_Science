{
 "cells": [
  {
   "cell_type": "markdown",
   "id": "321826ae-1341-443c-b3a2-484ff05398d7",
   "metadata": {},
   "source": [
    "<h1>Notes</h1>"
   ]
  },
  {
   "cell_type": "markdown",
   "id": "018dec7a-bf53-4baa-b246-b558985be0ca",
   "metadata": {},
   "source": [
    "<h2>1.1 The Way of the Program</h2>"
   ]
  },
  {
   "cell_type": "code",
   "execution_count": null,
   "id": "11fe9c46-05aa-4b73-9250-d5e8cfc60763",
   "metadata": {},
   "outputs": [],
   "source": [
    "# start the online help utility\n",
    "help()"
   ]
  },
  {
   "cell_type": "code",
   "execution_count": 1,
   "id": "d6766433-a8ac-4e6a-827c-fef5c811bbac",
   "metadata": {},
   "outputs": [
    {
     "name": "stdout",
     "output_type": "stream",
     "text": [
      "help\n"
     ]
    }
   ],
   "source": [
    "print('help')"
   ]
  },
  {
   "cell_type": "code",
   "execution_count": 20,
   "id": "b6926c5c-7d80-432d-83e4-975633e39ee1",
   "metadata": {},
   "outputs": [
    {
     "name": "stdout",
     "output_type": "stream",
     "text": [
      "Help on built-in function print in module builtins:\n",
      "\n",
      "print(...)\n",
      "    print(value, ..., sep=' ', end='\\n', file=sys.stdout, flush=False)\n",
      "    \n",
      "    Prints the values to a stream, or to sys.stdout by default.\n",
      "    Optional keyword arguments:\n",
      "    file:  a file-like object (stream); defaults to the current sys.stdout.\n",
      "    sep:   string inserted between values, default a space.\n",
      "    end:   string appended after the last value, default a newline.\n",
      "    flush: whether to forcibly flush the stream.\n",
      "\n"
     ]
    }
   ],
   "source": [
    "help('print')"
   ]
  },
  {
   "cell_type": "code",
   "execution_count": 3,
   "id": "d9598477-5a47-4407-aa76-5fa365d98e95",
   "metadata": {},
   "outputs": [
    {
     "data": {
      "text/plain": [
       "264"
      ]
     },
     "execution_count": 3,
     "metadata": {},
     "output_type": "execute_result"
    }
   ],
   "source": [
    "132*2"
   ]
  },
  {
   "cell_type": "code",
   "execution_count": 5,
   "id": "cd59fe89-921b-44ee-b4a5-23953308f12f",
   "metadata": {},
   "outputs": [
    {
     "data": {
      "text/plain": [
       "6.211180124223602"
      ]
     },
     "execution_count": 5,
     "metadata": {},
     "output_type": "execute_result"
    }
   ],
   "source": [
    "len = 10\n",
    "t = 43.5\n",
    "len_miles = 10/1.61\n",
    "len_miles"
   ]
  },
  {
   "cell_type": "code",
   "execution_count": 16,
   "id": "bbe3980c-9ec2-4994-b290-7841e53c601e",
   "metadata": {},
   "outputs": [
    {
     "name": "stdout",
     "output_type": "stream",
     "text": [
      "Average time per mile is 7.003500000000001 minutes\n"
     ]
    }
   ],
   "source": [
    "av_time_per_mile = 43.5/len_miles\n",
    "print('Average time per mile is', av_time_per_mile, 'minutes')"
   ]
  },
  {
   "cell_type": "code",
   "execution_count": 17,
   "id": "53984584-6b61-4c45-a401-35fdaf555904",
   "metadata": {},
   "outputs": [
    {
     "data": {
      "text/plain": [
       "0.725"
      ]
     },
     "execution_count": 17,
     "metadata": {},
     "output_type": "execute_result"
    }
   ],
   "source": [
    "t_in_hrs = 43.5/60\n",
    "t_in_hrs"
   ]
  },
  {
   "cell_type": "code",
   "execution_count": 19,
   "id": "8baba74b-1bfd-4194-a08c-e84e0e14032b",
   "metadata": {},
   "outputs": [
    {
     "name": "stdout",
     "output_type": "stream",
     "text": [
      "Average speed is 8.567144998929106 mph\n"
     ]
    }
   ],
   "source": [
    "miles_per_hr = len_miles/t_in_hrs\n",
    "print('Average speed is', miles_per_hr, 'mph')"
   ]
  },
  {
   "cell_type": "markdown",
   "id": "3d078c51-17dd-4c5f-80b5-150da8680796",
   "metadata": {},
   "source": [
    "<h2>1.2 Variables, Expressions, and Statements</h2>"
   ]
  },
  {
   "cell_type": "code",
   "execution_count": 1,
   "id": "c88fe8c8-f520-4ea4-840e-5f09ec6d8690",
   "metadata": {},
   "outputs": [
    {
     "data": {
      "text/plain": [
       "1"
      ]
     },
     "execution_count": 1,
     "metadata": {},
     "output_type": "execute_result"
    }
   ],
   "source": [
    "a = 1\n",
    "b = 2\n",
    "a"
   ]
  },
  {
   "cell_type": "code",
   "execution_count": 2,
   "id": "0ab4c7d7-933a-40d7-b75b-61cf97885a19",
   "metadata": {},
   "outputs": [
    {
     "data": {
      "text/plain": [
       "2"
      ]
     },
     "execution_count": 2,
     "metadata": {},
     "output_type": "execute_result"
    }
   ],
   "source": [
    "b"
   ]
  },
  {
   "cell_type": "code",
   "execution_count": 4,
   "id": "081fcd56-34bb-4f51-a7a8-d1b14d23f77e",
   "metadata": {},
   "outputs": [
    {
     "data": {
      "text/plain": [
       "2"
      ]
     },
     "execution_count": 4,
     "metadata": {},
     "output_type": "execute_result"
    }
   ],
   "source": [
    "a = 2\n",
    "a"
   ]
  },
  {
   "cell_type": "code",
   "execution_count": 13,
   "id": "29da60fd-2175-469c-8cb9-f0f4e1b89194",
   "metadata": {},
   "outputs": [
    {
     "data": {
      "text/plain": [
       "1"
      ]
     },
     "execution_count": 13,
     "metadata": {},
     "output_type": "execute_result"
    }
   ],
   "source": [
    "a = 1\n",
    "b = a\n",
    "a = 5\n",
    "b       # [b] will not change because [a] was changed after the [b = a] variable (line)"
   ]
  },
  {
   "cell_type": "code",
   "execution_count": 29,
   "id": "e15b7607-169c-4e5d-8e15-7a5d266c7b0e",
   "metadata": {},
   "outputs": [
    {
     "data": {
      "text/plain": [
       "2"
      ]
     },
     "execution_count": 29,
     "metadata": {},
     "output_type": "execute_result"
    }
   ],
   "source": [
    "StudentName = 2\n",
    "StudentName"
   ]
  },
  {
   "cell_type": "code",
   "execution_count": 38,
   "id": "dfb78d49-2506-40be-9361-1457ce86ddcb",
   "metadata": {},
   "outputs": [
    {
     "name": "stdout",
     "output_type": "stream",
     "text": [
      "Thank you for sharing Python with the world, Guido!\n"
     ]
    }
   ],
   "source": [
    "message = 'Thank you for sharing Python with the world, Guido!'\n",
    "print(message)"
   ]
  },
  {
   "cell_type": "code",
   "execution_count": 40,
   "id": "53ed6c39-9464-4fa1-90db-a49f8ae94054",
   "metadata": {},
   "outputs": [
    {
     "data": {
      "text/plain": [
       "'Thank you for sharing Python with the world, Guido!'"
      ]
     },
     "execution_count": 40,
     "metadata": {},
     "output_type": "execute_result"
    }
   ],
   "source": [
    "mеssаgе = 2\n",
    "message"
   ]
  },
  {
   "cell_type": "code",
   "execution_count": 42,
   "id": "299be659-0859-4c99-99a5-313f0c14d99a",
   "metadata": {},
   "outputs": [
    {
     "data": {
      "text/plain": [
       "5"
      ]
     },
     "execution_count": 42,
     "metadata": {},
     "output_type": "execute_result"
    }
   ],
   "source": [
    "слово = 5\n",
    "слово"
   ]
  },
  {
   "cell_type": "code",
   "execution_count": 43,
   "id": "b0200856-403f-4954-933f-9a76d9c7e7b6",
   "metadata": {},
   "outputs": [
    {
     "data": {
      "text/plain": [
       "1"
      ]
     },
     "execution_count": 43,
     "metadata": {},
     "output_type": "execute_result"
    }
   ],
   "source": [
    "ещё = 1\n",
    "ещё"
   ]
  },
  {
   "cell_type": "code",
   "execution_count": 44,
   "id": "a70bb793-47fe-4e33-9232-69676af213b7",
   "metadata": {},
   "outputs": [
    {
     "data": {
      "text/plain": [
       "1"
      ]
     },
     "execution_count": 44,
     "metadata": {},
     "output_type": "execute_result"
    }
   ],
   "source": [
    "üęéèéäüóïў = 1\n",
    "üęéèéäüóïў"
   ]
  },
  {
   "cell_type": "code",
   "execution_count": 45,
   "id": "b98d7d0c-f676-48da-9008-3bda9980b299",
   "metadata": {},
   "outputs": [
    {
     "name": "stdout",
     "output_type": "stream",
     "text": [
      "Hello World\n"
     ]
    }
   ],
   "source": [
    "hello = 'Hello World'\n",
    "print(hello)"
   ]
  },
  {
   "cell_type": "code",
   "execution_count": 46,
   "id": "ac3ab078-12db-4e96-971e-6b2a6b6f2415",
   "metadata": {},
   "outputs": [
    {
     "name": "stdout",
     "output_type": "stream",
     "text": [
      "Привет всем!\n"
     ]
    }
   ],
   "source": [
    "hello = 'Привет всем!'\n",
    "print(hello)"
   ]
  },
  {
   "cell_type": "code",
   "execution_count": 47,
   "id": "ac58d0da-9332-4b17-9cad-b705cd8be41c",
   "metadata": {},
   "outputs": [
    {
     "data": {
      "text/plain": [
       "str"
      ]
     },
     "execution_count": 47,
     "metadata": {},
     "output_type": "execute_result"
    }
   ],
   "source": [
    "type(hello)"
   ]
  },
  {
   "cell_type": "code",
   "execution_count": 48,
   "id": "3116e3f4-4e1e-4465-bfcd-53be592ec32e",
   "metadata": {},
   "outputs": [
    {
     "data": {
      "text/plain": [
       "int"
      ]
     },
     "execution_count": 48,
     "metadata": {},
     "output_type": "execute_result"
    }
   ],
   "source": [
    "type(ещё)"
   ]
  },
  {
   "cell_type": "code",
   "execution_count": 49,
   "id": "a4da6d17-b2dc-474c-afe8-67a476b5f936",
   "metadata": {},
   "outputs": [
    {
     "data": {
      "text/plain": [
       "float"
      ]
     },
     "execution_count": 49,
     "metadata": {},
     "output_type": "execute_result"
    }
   ],
   "source": [
    "float_ex = 3.4324\n",
    "type(float_ex)"
   ]
  },
  {
   "cell_type": "code",
   "execution_count": 50,
   "id": "32299038-09cb-4d43-bf92-86c6133e54d8",
   "metadata": {},
   "outputs": [],
   "source": [
    "str_ex1 = '17'\n",
    "str_ex2 = '3.2'"
   ]
  },
  {
   "cell_type": "code",
   "execution_count": 53,
   "id": "b26faf43-585f-4e2a-8fef-0996283b565e",
   "metadata": {},
   "outputs": [
    {
     "data": {
      "text/plain": [
       "str"
      ]
     },
     "execution_count": 53,
     "metadata": {},
     "output_type": "execute_result"
    }
   ],
   "source": [
    "type(str_ex1)"
   ]
  },
  {
   "cell_type": "code",
   "execution_count": 54,
   "id": "3792395b-83f6-495a-8f9d-b5f3065d8e24",
   "metadata": {},
   "outputs": [
    {
     "data": {
      "text/plain": [
       "str"
      ]
     },
     "execution_count": 54,
     "metadata": {},
     "output_type": "execute_result"
    }
   ],
   "source": [
    "type(str_ex2)"
   ]
  },
  {
   "cell_type": "code",
   "execution_count": 61,
   "id": "46f20435-3f37-4264-a4f9-d0fa3ebdba65",
   "metadata": {},
   "outputs": [],
   "source": [
    "quote1 = \"Linus Torvalds once said, 'Any program is only as good as it is useful.'\"\n",
    "quote2 = 'Linus Torvalds once said, \"Any program is only as good as it is useful.\"'"
   ]
  },
  {
   "cell_type": "code",
   "execution_count": 58,
   "id": "e1f134ba-c1ba-40ae-bca7-334688beac4f",
   "metadata": {},
   "outputs": [
    {
     "name": "stdout",
     "output_type": "stream",
     "text": [
      "Linus Torvalds once said, 'Any program is only as good as it is useful.'\n"
     ]
    }
   ],
   "source": [
    "print(quote1)"
   ]
  },
  {
   "cell_type": "code",
   "execution_count": 59,
   "id": "4516e01a-f4ef-44b5-9638-b550e375b05d",
   "metadata": {},
   "outputs": [
    {
     "name": "stdout",
     "output_type": "stream",
     "text": [
      "Linus Torvalds once said, \"Any program is only as good as it is useful.\"\n"
     ]
    }
   ],
   "source": [
    "print(quote2)"
   ]
  },
  {
   "cell_type": "code",
   "execution_count": 66,
   "id": "08f1d5f3-0e34-4004-b15e-6e440db00f60",
   "metadata": {},
   "outputs": [],
   "source": [
    "multiline_string = '''This is a string where I \n",
    "can confortably write on multiple lines\n",
    "without worring about to use the escape character \"\\\\\" as in\n",
    "the previous example. \n",
    "As you'll see, the original string formatting is preserved.\n",
    "'''"
   ]
  },
  {
   "cell_type": "code",
   "execution_count": 67,
   "id": "d230e84e-6b6c-40cd-9c31-87e2584be7d6",
   "metadata": {},
   "outputs": [
    {
     "data": {
      "text/plain": [
       "'This is a string where I \\ncan confortably write on multiple lines\\nwithout worring about to use the escape character \"\\\\\" as in\\nthe previous example. \\nAs you\\'ll see, the original string formatting is preserved.\\n'"
      ]
     },
     "execution_count": 67,
     "metadata": {},
     "output_type": "execute_result"
    }
   ],
   "source": [
    "multiline_string"
   ]
  },
  {
   "cell_type": "code",
   "execution_count": 68,
   "id": "9f78269a-fe4e-4aa8-abbd-7cc6d0ef6516",
   "metadata": {},
   "outputs": [
    {
     "name": "stdout",
     "output_type": "stream",
     "text": [
      "This is a string where I \n",
      "can confortably write on multiple lines\n",
      "without worring about to use the escape character \"\\\" as in\n",
      "the previous example. \n",
      "As you'll see, the original string formatting is preserved.\n",
      "\n"
     ]
    }
   ],
   "source": [
    "print(multiline_string)"
   ]
  },
  {
   "cell_type": "code",
   "execution_count": 80,
   "id": "38831e73-3731-43d3-a24f-fe31a2626156",
   "metadata": {},
   "outputs": [],
   "source": [
    "multiline = '''\n",
    "Example of a string\n",
    "that is located on different lines\n",
    "this can be handy in different situations\n",
    "'''"
   ]
  },
  {
   "cell_type": "code",
   "execution_count": 81,
   "id": "71cec017-b43e-4c47-8ba1-d0f8a983e2a9",
   "metadata": {},
   "outputs": [
    {
     "name": "stdout",
     "output_type": "stream",
     "text": [
      "\n",
      "Example of a string\n",
      "that is located on different lines\n",
      "this can be handy in different situations\n",
      "\n"
     ]
    }
   ],
   "source": [
    "print(multiline)"
   ]
  },
  {
   "cell_type": "code",
   "execution_count": 82,
   "id": "b93eb1f7-b5fc-4d1f-84cb-0e01f80a55ad",
   "metadata": {},
   "outputs": [
    {
     "data": {
      "text/plain": [
       "'\\nExample of a string\\nthat is located on different lines\\nthis can be handy in different situations\\n'"
      ]
     },
     "execution_count": 82,
     "metadata": {},
     "output_type": "execute_result"
    }
   ],
   "source": [
    "multiline"
   ]
  },
  {
   "cell_type": "code",
   "execution_count": 75,
   "id": "a9d3b48f-ea7d-447a-945c-4de0740ffefe",
   "metadata": {},
   "outputs": [],
   "source": [
    "multiline2 = 'Example of a string \\\\ with an escape character \\\\ used here'"
   ]
  },
  {
   "cell_type": "code",
   "execution_count": 73,
   "id": "8b9248c4-8a41-4893-929f-083caeb6191a",
   "metadata": {},
   "outputs": [
    {
     "name": "stdout",
     "output_type": "stream",
     "text": [
      "Example of a string \\ with an escape character \\ used here\n"
     ]
    }
   ],
   "source": [
    "print(multiline2)"
   ]
  },
  {
   "cell_type": "code",
   "execution_count": 83,
   "id": "e4ec1abf-028b-4b48-b736-7e52fee69ba8",
   "metadata": {},
   "outputs": [
    {
     "data": {
      "text/plain": [
       "True"
      ]
     },
     "execution_count": 83,
     "metadata": {},
     "output_type": "execute_result"
    }
   ],
   "source": [
    "a = 423\n",
    "a == 423"
   ]
  },
  {
   "cell_type": "code",
   "execution_count": 84,
   "id": "c365ad85-6b73-4acf-b4ae-98e5ab657ddc",
   "metadata": {},
   "outputs": [
    {
     "data": {
      "text/plain": [
       "False"
      ]
     },
     "execution_count": 84,
     "metadata": {},
     "output_type": "execute_result"
    }
   ],
   "source": [
    "a == 324"
   ]
  },
  {
   "cell_type": "code",
   "execution_count": 85,
   "id": "13dc46a8-e2b9-4196-b3e2-4421b5b4aa40",
   "metadata": {},
   "outputs": [
    {
     "data": {
      "text/plain": [
       "True"
      ]
     },
     "execution_count": 85,
     "metadata": {},
     "output_type": "execute_result"
    }
   ],
   "source": [
    "(a == 423) == True"
   ]
  },
  {
   "cell_type": "code",
   "execution_count": 88,
   "id": "103f1318-6fb3-40bd-b4fd-46f8e8f4b600",
   "metadata": {},
   "outputs": [],
   "source": [
    "blank_value = None\n",
    "blank_value"
   ]
  },
  {
   "cell_type": "code",
   "execution_count": 89,
   "id": "10704310-7da6-4ae6-a579-0a084144dbe0",
   "metadata": {},
   "outputs": [
    {
     "data": {
      "text/plain": [
       "NoneType"
      ]
     },
     "execution_count": 89,
     "metadata": {},
     "output_type": "execute_result"
    }
   ],
   "source": [
    "type(blank_value)"
   ]
  },
  {
   "cell_type": "code",
   "execution_count": 90,
   "id": "218b9056-3961-4055-9a1e-816a2fd74401",
   "metadata": {},
   "outputs": [
    {
     "name": "stdout",
     "output_type": "stream",
     "text": [
      "None\n"
     ]
    }
   ],
   "source": [
    "print(blank_value)"
   ]
  },
  {
   "cell_type": "code",
   "execution_count": 91,
   "id": "4ba5e604-da97-4b29-a35a-d3bee916ec5e",
   "metadata": {},
   "outputs": [],
   "source": [
    "blank_value2 = 'None'\n",
    "blank_value"
   ]
  },
  {
   "cell_type": "code",
   "execution_count": 92,
   "id": "51eebd75-4c39-4a26-b447-7a19ab035039",
   "metadata": {},
   "outputs": [
    {
     "name": "stdout",
     "output_type": "stream",
     "text": [
      "None\n"
     ]
    }
   ],
   "source": [
    "print(blank_value)"
   ]
  },
  {
   "cell_type": "code",
   "execution_count": 93,
   "id": "3ab95742-274b-4d12-963d-c5821e2efbd1",
   "metadata": {},
   "outputs": [
    {
     "data": {
      "text/plain": [
       "52"
      ]
     },
     "execution_count": 93,
     "metadata": {},
     "output_type": "execute_result"
    }
   ],
   "source": [
    "20 + 32"
   ]
  },
  {
   "cell_type": "code",
   "execution_count": 96,
   "id": "04b4b4c1-5dcb-4a0f-9dcf-e28712344461",
   "metadata": {},
   "outputs": [
    {
     "data": {
      "text/plain": [
       "25"
      ]
     },
     "execution_count": 96,
     "metadata": {},
     "output_type": "execute_result"
    }
   ],
   "source": [
    "5 ** 2"
   ]
  },
  {
   "cell_type": "code",
   "execution_count": 97,
   "id": "08f4ae70-17f8-46de-b53f-7093d907fbc8",
   "metadata": {},
   "outputs": [
    {
     "data": {
      "text/plain": [
       "625"
      ]
     },
     "execution_count": 97,
     "metadata": {},
     "output_type": "execute_result"
    }
   ],
   "source": [
    "5 ** 4"
   ]
  },
  {
   "cell_type": "code",
   "execution_count": 98,
   "id": "364587c6-1a2f-44e0-a29f-33893618b42f",
   "metadata": {},
   "outputs": [
    {
     "ename": "NameError",
     "evalue": "name 'p' is not defined",
     "output_type": "error",
     "traceback": [
      "\u001b[1;31m---------------------------------------------------------------------------\u001b[0m",
      "\u001b[1;31mNameError\u001b[0m                                 Traceback (most recent call last)",
      "\u001b[1;32m~\\AppData\\Local\\Temp\\ipykernel_10448\\3427372334.py\u001b[0m in \u001b[0;36m<module>\u001b[1;34m\u001b[0m\n\u001b[1;32m----> 1\u001b[1;33m \u001b[0mp\u001b[0m \u001b[1;32mand\u001b[0m \u001b[0mo\u001b[0m\u001b[1;33m\u001b[0m\u001b[1;33m\u001b[0m\u001b[0m\n\u001b[0m",
      "\u001b[1;31mNameError\u001b[0m: name 'p' is not defined"
     ]
    }
   ],
   "source": [
    "p and o"
   ]
  },
  {
   "cell_type": "code",
   "execution_count": 99,
   "id": "b3a75dde-e1ed-4d78-8830-c74f77b7a972",
   "metadata": {},
   "outputs": [
    {
     "data": {
      "text/plain": [
       "True"
      ]
     },
     "execution_count": 99,
     "metadata": {},
     "output_type": "execute_result"
    }
   ],
   "source": [
    "1 == 1 and 2 == 2"
   ]
  },
  {
   "cell_type": "code",
   "execution_count": 101,
   "id": "511e2e05-64e4-4dcc-b668-17a190d6786a",
   "metadata": {},
   "outputs": [
    {
     "data": {
      "text/plain": [
       "True"
      ]
     },
     "execution_count": 101,
     "metadata": {},
     "output_type": "execute_result"
    }
   ],
   "source": [
    "1 == 1 and 2 != 3 and 324*231 != 3"
   ]
  },
  {
   "cell_type": "code",
   "execution_count": 102,
   "id": "7a416524-3f65-478b-b639-213c1dc27aa3",
   "metadata": {},
   "outputs": [
    {
     "data": {
      "text/plain": [
       "True"
      ]
     },
     "execution_count": 102,
     "metadata": {},
     "output_type": "execute_result"
    }
   ],
   "source": [
    "1 == 1 or 2 == 3"
   ]
  },
  {
   "cell_type": "code",
   "execution_count": 108,
   "id": "4854c82d-4efd-4a35-80a2-f645c42cbc1c",
   "metadata": {},
   "outputs": [
    {
     "data": {
      "text/plain": [
       "'eggseasy'"
      ]
     },
     "execution_count": 108,
     "metadata": {},
     "output_type": "execute_result"
    }
   ],
   "source": [
    "'eggs'+'easy'"
   ]
  },
  {
   "cell_type": "code",
   "execution_count": 109,
   "id": "1a7eada4-d0d5-4741-be7a-4e9b0b697714",
   "metadata": {},
   "outputs": [
    {
     "data": {
      "text/plain": [
       "'eggseggseggs'"
      ]
     },
     "execution_count": 109,
     "metadata": {},
     "output_type": "execute_result"
    }
   ],
   "source": [
    "'eggs'*3"
   ]
  },
  {
   "cell_type": "code",
   "execution_count": 110,
   "id": "581cccd3-1a87-4197-a500-b219ae394cb2",
   "metadata": {},
   "outputs": [
    {
     "name": "stdout",
     "output_type": "stream",
     "text": [
      "5\n"
     ]
    }
   ],
   "source": [
    "print(2+3)"
   ]
  },
  {
   "cell_type": "code",
   "execution_count": 112,
   "id": "c38921c4-6319-47bf-b145-034054e90538",
   "metadata": {},
   "outputs": [
    {
     "name": "stdout",
     "output_type": "stream",
     "text": [
      "5\n"
     ]
    }
   ],
   "source": [
    "a = 2\n",
    "b = 3\n",
    "c = a + b\n",
    "print(c)"
   ]
  },
  {
   "cell_type": "code",
   "execution_count": 114,
   "id": "55934afe-94d7-44e8-a0be-517cfb60a3b3",
   "metadata": {},
   "outputs": [
    {
     "name": "stdout",
     "output_type": "stream",
     "text": [
      "0.5\n"
     ]
    }
   ],
   "source": [
    "a = 0.2\n",
    "b = 0.3\n",
    "c = a + b\n",
    "print(c)"
   ]
  },
  {
   "cell_type": "code",
   "execution_count": 115,
   "id": "841b76bc-748d-425f-bc0b-e86105caff96",
   "metadata": {},
   "outputs": [
    {
     "name": "stdout",
     "output_type": "stream",
     "text": [
      "0.30000000000000004\n"
     ]
    }
   ],
   "source": [
    "a = 0.1\n",
    "b = 0.2\n",
    "c = a + b\n",
    "print(c)"
   ]
  },
  {
   "cell_type": "code",
   "execution_count": 116,
   "id": "0c0548a1-e02e-4c13-935d-578e1675882d",
   "metadata": {},
   "outputs": [
    {
     "name": "stdout",
     "output_type": "stream",
     "text": [
      "0.30000000000000004\n"
     ]
    }
   ],
   "source": [
    "print(3 * a)"
   ]
  },
  {
   "cell_type": "code",
   "execution_count": 117,
   "id": "88bb2a1b-586b-49fa-a4ed-f5a956bca56c",
   "metadata": {},
   "outputs": [
    {
     "data": {
      "text/plain": [
       "3.3000000000000003"
      ]
     },
     "execution_count": 117,
     "metadata": {},
     "output_type": "execute_result"
    }
   ],
   "source": [
    "1.1 + 2.2"
   ]
  },
  {
   "cell_type": "code",
   "execution_count": 118,
   "id": "aaf1ad1d-4905-41f9-b469-73e505681aaf",
   "metadata": {},
   "outputs": [
    {
     "data": {
      "text/plain": [
       "5.551115123125783e-17"
      ]
     },
     "execution_count": 118,
     "metadata": {},
     "output_type": "execute_result"
    }
   ],
   "source": [
    "0.1 + 0.1 + 0.1 - 0.3"
   ]
  },
  {
   "cell_type": "code",
   "execution_count": 119,
   "id": "e5ac54c3-8647-40a7-9668-aea0f38e9a21",
   "metadata": {},
   "outputs": [
    {
     "data": {
      "text/plain": [
       "5.551115123125783e-17"
      ]
     },
     "execution_count": 119,
     "metadata": {},
     "output_type": "execute_result"
    }
   ],
   "source": [
    "0.1*3-0.3"
   ]
  },
  {
   "cell_type": "code",
   "execution_count": 120,
   "id": "fda77370-2314-4c95-9bdd-1de19764524b",
   "metadata": {},
   "outputs": [
    {
     "name": "stdout",
     "output_type": "stream",
     "text": [
      "37\n"
     ]
    }
   ],
   "source": [
    "a = 2\n",
    "b = 35\n",
    "print(a + b)"
   ]
  },
  {
   "cell_type": "code",
   "execution_count": 121,
   "id": "4e72de5f-52b7-416c-a588-bfb2d377b3b4",
   "metadata": {},
   "outputs": [
    {
     "name": "stdout",
     "output_type": "stream",
     "text": [
      "-33\n"
     ]
    }
   ],
   "source": [
    "print(a - b)"
   ]
  },
  {
   "cell_type": "code",
   "execution_count": 122,
   "id": "25a45ac0-fc51-4b8d-9c76-e64a255eebb3",
   "metadata": {},
   "outputs": [
    {
     "name": "stdout",
     "output_type": "stream",
     "text": [
      "70\n"
     ]
    }
   ],
   "source": [
    "print(a * b)"
   ]
  },
  {
   "cell_type": "code",
   "execution_count": 123,
   "id": "bdb233da-517c-478d-af19-02a814f32abc",
   "metadata": {},
   "outputs": [
    {
     "name": "stdout",
     "output_type": "stream",
     "text": [
      "0.05714285714285714\n"
     ]
    }
   ],
   "source": [
    "print(a / b)"
   ]
  },
  {
   "cell_type": "code",
   "execution_count": 124,
   "id": "c65feebe-fe08-4a1a-945a-54dc15ae77ab",
   "metadata": {},
   "outputs": [
    {
     "name": "stdout",
     "output_type": "stream",
     "text": [
      "34359738368\n"
     ]
    }
   ],
   "source": [
    "print (a ** b)"
   ]
  },
  {
   "cell_type": "code",
   "execution_count": 126,
   "id": "87e64ab2-d75b-4a41-b996-63eeaf38a0c1",
   "metadata": {},
   "outputs": [
    {
     "data": {
      "text/plain": [
       "-22"
      ]
     },
     "execution_count": 126,
     "metadata": {},
     "output_type": "execute_result"
    }
   ],
   "source": [
    "24 - 23 * 2"
   ]
  },
  {
   "cell_type": "code",
   "execution_count": 127,
   "id": "9bcb5b4e-1bcb-4309-abaf-0ae3f19b4800",
   "metadata": {},
   "outputs": [
    {
     "data": {
      "text/plain": [
       "2"
      ]
     },
     "execution_count": 127,
     "metadata": {},
     "output_type": "execute_result"
    }
   ],
   "source": [
    "(24 - 23) * 2"
   ]
  },
  {
   "cell_type": "markdown",
   "id": "9fefbbc6-6cd5-431b-af0d-9607fef577a9",
   "metadata": {},
   "source": [
    "Exercises. Ex 2.1"
   ]
  },
  {
   "cell_type": "code",
   "execution_count": 128,
   "id": "15c9e0d7-f41a-4983-b207-5017314b8345",
   "metadata": {},
   "outputs": [],
   "source": [
    "width = 17\n",
    "height = 12.0\n",
    "delimiter = '.'"
   ]
  },
  {
   "cell_type": "code",
   "execution_count": 129,
   "id": "c7c6fdf2-e7ee-4d41-81a9-cefe477c019c",
   "metadata": {},
   "outputs": [
    {
     "data": {
      "text/plain": [
       "8.5"
      ]
     },
     "execution_count": 129,
     "metadata": {},
     "output_type": "execute_result"
    }
   ],
   "source": [
    "width/2"
   ]
  },
  {
   "cell_type": "code",
   "execution_count": 130,
   "id": "a7ad4c06-b982-48c0-b14e-9969bf19365e",
   "metadata": {},
   "outputs": [
    {
     "data": {
      "text/plain": [
       "8.5"
      ]
     },
     "execution_count": 130,
     "metadata": {},
     "output_type": "execute_result"
    }
   ],
   "source": [
    "width/2.0"
   ]
  },
  {
   "cell_type": "code",
   "execution_count": 131,
   "id": "3a626a1c-c7df-4f2d-bcc5-9885543e05ba",
   "metadata": {},
   "outputs": [
    {
     "data": {
      "text/plain": [
       "4.0"
      ]
     },
     "execution_count": 131,
     "metadata": {},
     "output_type": "execute_result"
    }
   ],
   "source": [
    "height/3"
   ]
  },
  {
   "cell_type": "code",
   "execution_count": 132,
   "id": "9696adf0-0e59-422a-8773-8d3313bee6c3",
   "metadata": {},
   "outputs": [
    {
     "data": {
      "text/plain": [
       "11"
      ]
     },
     "execution_count": 132,
     "metadata": {},
     "output_type": "execute_result"
    }
   ],
   "source": [
    "1+2*5"
   ]
  },
  {
   "cell_type": "code",
   "execution_count": 133,
   "id": "a53a5d70-414d-4fdb-a56b-4970eba2c97e",
   "metadata": {},
   "outputs": [
    {
     "data": {
      "text/plain": [
       "'.....'"
      ]
     },
     "execution_count": 133,
     "metadata": {},
     "output_type": "execute_result"
    }
   ],
   "source": [
    "delimiter*5"
   ]
  },
  {
   "cell_type": "code",
   "execution_count": 134,
   "id": "3e2f7259-da57-435c-8ac3-3851f6b9c490",
   "metadata": {},
   "outputs": [
    {
     "data": {
      "text/plain": [
       "float"
      ]
     },
     "execution_count": 134,
     "metadata": {},
     "output_type": "execute_result"
    }
   ],
   "source": [
    "type(width/2)"
   ]
  },
  {
   "cell_type": "code",
   "execution_count": 135,
   "id": "c03ef6c6-878d-4f7f-8419-3ce9585ecf2a",
   "metadata": {},
   "outputs": [
    {
     "data": {
      "text/plain": [
       "float"
      ]
     },
     "execution_count": 135,
     "metadata": {},
     "output_type": "execute_result"
    }
   ],
   "source": [
    "type(width/2.0)"
   ]
  },
  {
   "cell_type": "code",
   "execution_count": 136,
   "id": "75966de0-325c-49ee-93df-bd6c3701327d",
   "metadata": {},
   "outputs": [
    {
     "data": {
      "text/plain": [
       "float"
      ]
     },
     "execution_count": 136,
     "metadata": {},
     "output_type": "execute_result"
    }
   ],
   "source": [
    "type(height/3)"
   ]
  },
  {
   "cell_type": "code",
   "execution_count": 137,
   "id": "22cb9e6a-4f50-412b-b774-67b2ecf5d197",
   "metadata": {},
   "outputs": [
    {
     "data": {
      "text/plain": [
       "int"
      ]
     },
     "execution_count": 137,
     "metadata": {},
     "output_type": "execute_result"
    }
   ],
   "source": [
    "type(1+2*5)"
   ]
  },
  {
   "cell_type": "code",
   "execution_count": 138,
   "id": "392212a2-7b7f-4e4f-ae8d-2065899d5235",
   "metadata": {},
   "outputs": [
    {
     "data": {
      "text/plain": [
       "str"
      ]
     },
     "execution_count": 138,
     "metadata": {},
     "output_type": "execute_result"
    }
   ],
   "source": [
    "type(delimiter*5)"
   ]
  },
  {
   "cell_type": "markdown",
   "id": "88da6359-de97-4203-a9f7-1bb9429573e4",
   "metadata": {},
   "source": [
    "Ex 2.2"
   ]
  },
  {
   "cell_type": "code",
   "execution_count": 141,
   "id": "10550e21-2921-4fe9-999f-9c4622e2506c",
   "metadata": {},
   "outputs": [
    {
     "data": {
      "text/plain": [
       "523.5983333333332"
      ]
     },
     "execution_count": 141,
     "metadata": {},
     "output_type": "execute_result"
    }
   ],
   "source": [
    "pi = 3.14159\n",
    "(4/3) * pi * (5 ** 3)"
   ]
  },
  {
   "cell_type": "markdown",
   "id": "b07cbb09-82f6-47f2-a8f1-d7f7ce1e0a03",
   "metadata": {},
   "source": [
    "Alternative using the <code>math</code> module and the <code>pi</code> function (<code>math.pi</code>):"
   ]
  },
  {
   "cell_type": "code",
   "execution_count": 24,
   "id": "99af3a09-ff4b-4087-82c3-cf0e3ec17b06",
   "metadata": {},
   "outputs": [
    {
     "data": {
      "text/plain": [
       "523.5987755982989"
      ]
     },
     "execution_count": 24,
     "metadata": {},
     "output_type": "execute_result"
    }
   ],
   "source": [
    "(4/3) * math.pi * (5 ** 3)"
   ]
  },
  {
   "cell_type": "code",
   "execution_count": 25,
   "id": "1b9f2d81-2f74-4545-a7b8-840f3e727555",
   "metadata": {},
   "outputs": [
    {
     "data": {
      "text/plain": [
       "523.5987755982989"
      ]
     },
     "execution_count": 25,
     "metadata": {},
     "output_type": "execute_result"
    }
   ],
   "source": [
    "pi = math.pi\n",
    "(4/3) * pi * (5 ** 3)"
   ]
  },
  {
   "cell_type": "markdown",
   "id": "966d5f8c-3f71-48ff-ace8-294fbffae622",
   "metadata": {},
   "source": [
    "\n",
    "\n",
    "Suppose the cover price of a book is USD 24.95, but bookstores get a 40 % discount. Shipping costs $3 for the first copy and 75 cents for each additional copy. What is the total wholesale cost for 60 copies?\n"
   ]
  },
  {
   "cell_type": "code",
   "execution_count": 148,
   "id": "301f9358-1157-4926-a97c-139ccff0649d",
   "metadata": {},
   "outputs": [],
   "source": [
    "price = 24.95\n",
    "discount = 0.4\n",
    "shipping_costs_1 = 3\n",
    "shipping_costs_2 = 0.75\n",
    "copies = 60"
   ]
  },
  {
   "cell_type": "code",
   "execution_count": 149,
   "id": "a8e2f733-f986-413a-a951-decd7728f672",
   "metadata": {},
   "outputs": [
    {
     "data": {
      "text/plain": [
       "14.969999999999999"
      ]
     },
     "execution_count": 149,
     "metadata": {},
     "output_type": "execute_result"
    }
   ],
   "source": [
    "price_per_book = price * (1 - discount)\n",
    "price_per_book"
   ]
  },
  {
   "cell_type": "code",
   "execution_count": 150,
   "id": "ea59dbea-5cb5-462e-81f9-a407e16e42b8",
   "metadata": {},
   "outputs": [
    {
     "data": {
      "text/plain": [
       "945.4499999999999"
      ]
     },
     "execution_count": 150,
     "metadata": {},
     "output_type": "execute_result"
    }
   ],
   "source": [
    "total_cost = (price_per_book + shipping_costs_1) + (price_per_book + shipping_costs_2) * (copies - 1)\n",
    "total_cost"
   ]
  },
  {
   "cell_type": "markdown",
   "id": "76126e28-f244-457b-8e4c-b0a15f6847ce",
   "metadata": {},
   "source": [
    "Alternative:"
   ]
  },
  {
   "cell_type": "code",
   "execution_count": 152,
   "id": "76862e77-f710-4086-8513-b1b04337fb1b",
   "metadata": {},
   "outputs": [
    {
     "data": {
      "text/plain": [
       "47.25"
      ]
     },
     "execution_count": 152,
     "metadata": {},
     "output_type": "execute_result"
    }
   ],
   "source": [
    "shipping_costs = shipping_costs_1 + (shipping_costs_2 * (copies - 1))\n",
    "shipping_costs"
   ]
  },
  {
   "cell_type": "code",
   "execution_count": 153,
   "id": "632e6721-cea1-4dce-a160-fc83d5cab928",
   "metadata": {},
   "outputs": [
    {
     "data": {
      "text/plain": [
       "898.1999999999999"
      ]
     },
     "execution_count": 153,
     "metadata": {},
     "output_type": "execute_result"
    }
   ],
   "source": [
    "book_costs = price_per_book * copies\n",
    "book_costs"
   ]
  },
  {
   "cell_type": "code",
   "execution_count": 155,
   "id": "fd89c2bc-1002-48c6-aa7a-8669368e9b7e",
   "metadata": {},
   "outputs": [
    {
     "data": {
      "text/plain": [
       "945.4499999999999"
      ]
     },
     "execution_count": 155,
     "metadata": {},
     "output_type": "execute_result"
    }
   ],
   "source": [
    "total_costs2 = shipping_costs + book_costs\n",
    "total_costs2"
   ]
  },
  {
   "cell_type": "markdown",
   "id": "7cfa8fe0-8535-43bc-83a0-cfb7225e1806",
   "metadata": {},
   "source": [
    "If I leave my house at 6:52am and run 1 mile at an easy pace (8:15 per mile), then 3 miles at tempo (7:12 per mile) and 1 mile at easy pace again, what time do I get home for breakfast?"
   ]
  },
  {
   "cell_type": "markdown",
   "id": "182ecba8-de1a-474f-8b60-abbd92660d2d",
   "metadata": {},
   "source": [
    "If I leave my house at 6:52 and run 1 km at an easy pace (8 m 15 s per km), then 3 kms at tempo (7 m 12 s per km) and 1 km at easy pace again, what time do I get home for breakfast?"
   ]
  },
  {
   "cell_type": "code",
   "execution_count": 157,
   "id": "1bd899ed-6ecd-4adc-9982-f2a8de1ce78c",
   "metadata": {},
   "outputs": [
    {
     "data": {
      "text/plain": [
       "495"
      ]
     },
     "execution_count": 157,
     "metadata": {},
     "output_type": "execute_result"
    }
   ],
   "source": [
    "SecondsEasyPace = (8*60) + 15 # seconds per 1 km at an easy pace\n",
    "SecondsEasyPace"
   ]
  },
  {
   "cell_type": "code",
   "execution_count": 158,
   "id": "af089adb-8153-4353-a167-54aeef132236",
   "metadata": {},
   "outputs": [
    {
     "data": {
      "text/plain": [
       "432"
      ]
     },
     "execution_count": 158,
     "metadata": {},
     "output_type": "execute_result"
    }
   ],
   "source": [
    "SecondsTempoPace = (7*60) + 12 # seconds per 1 km at a tempo pace\n",
    "SecondsTempoPace"
   ]
  },
  {
   "cell_type": "code",
   "execution_count": 160,
   "id": "b921e950-e706-4785-a2b6-5bc5b5296fdd",
   "metadata": {},
   "outputs": [
    {
     "data": {
      "text/plain": [
       "2286"
      ]
     },
     "execution_count": 160,
     "metadata": {},
     "output_type": "execute_result"
    }
   ],
   "source": [
    "TimeRunning = ((1+1) * SecondsEasyPace) + (3 * SecondsTempoPace)\n",
    "TimeRunning"
   ]
  },
  {
   "cell_type": "code",
   "execution_count": 162,
   "id": "d3ade991-09c3-4706-aa9e-570f66c7da4e",
   "metadata": {},
   "outputs": [
    {
     "data": {
      "text/plain": [
       "38.1"
      ]
     },
     "execution_count": 162,
     "metadata": {},
     "output_type": "execute_result"
    }
   ],
   "source": [
    "MinutesRunning = TimeRunning / 60\n",
    "MinutesRunning"
   ]
  },
  {
   "cell_type": "markdown",
   "id": "0532976b-08cc-4d1f-8bca-1188546227fe",
   "metadata": {},
   "source": [
    "Not really correct:"
   ]
  },
  {
   "cell_type": "code",
   "execution_count": 163,
   "id": "75a32a1a-c690-49df-90e7-e0f7c8c4f906",
   "metadata": {},
   "outputs": [
    {
     "data": {
      "text/plain": [
       "412"
      ]
     },
     "execution_count": 163,
     "metadata": {},
     "output_type": "execute_result"
    }
   ],
   "source": [
    "DepartureTime = (6 * 60) + 52\n",
    "DepartureTime"
   ]
  },
  {
   "cell_type": "code",
   "execution_count": 164,
   "id": "a6d81bc7-5d4e-45ef-9cfe-daf0301fcf5f",
   "metadata": {},
   "outputs": [
    {
     "data": {
      "text/plain": [
       "450.1"
      ]
     },
     "execution_count": 164,
     "metadata": {},
     "output_type": "execute_result"
    }
   ],
   "source": [
    "ArrivalTime = DepartureTime + MinutesRunning\n",
    "ArrivalTime"
   ]
  },
  {
   "cell_type": "code",
   "execution_count": 165,
   "id": "83de9461-4248-458c-8294-88f89b49d996",
   "metadata": {},
   "outputs": [
    {
     "data": {
      "text/plain": [
       "7.501666666666667"
      ]
     },
     "execution_count": 165,
     "metadata": {},
     "output_type": "execute_result"
    }
   ],
   "source": [
    "ArrivalTimeReal = ArrivalTime / 60\n",
    "ArrivalTimeReal"
   ]
  },
  {
   "cell_type": "markdown",
   "id": "19e3fd93-8136-4a8d-8e47-d3f22c981f96",
   "metadata": {},
   "source": [
    "Corrected:"
   ]
  },
  {
   "cell_type": "code",
   "execution_count": 167,
   "id": "79eeae4b-d463-402c-8851-64020a1053b5",
   "metadata": {},
   "outputs": [
    {
     "name": "stdout",
     "output_type": "stream",
     "text": [
      "Arrival time is around 7:30\n"
     ]
    }
   ],
   "source": [
    "print('Arrival time is around 7:30')"
   ]
  },
  {
   "cell_type": "markdown",
   "id": "d3ca24db-b357-4468-b3b5-5537e883c298",
   "metadata": {},
   "source": [
    "<h2>1.3 Introducing Functions</h2>"
   ]
  },
  {
   "cell_type": "code",
   "execution_count": 1,
   "id": "0ebb74af-894c-4cd2-ae78-554b0d1182dd",
   "metadata": {},
   "outputs": [
    {
     "data": {
      "text/plain": [
       "<function print>"
      ]
     },
     "execution_count": 1,
     "metadata": {},
     "output_type": "execute_result"
    }
   ],
   "source": [
    "print"
   ]
  },
  {
   "cell_type": "code",
   "execution_count": 3,
   "id": "72f99816-90a3-4aa3-8451-9ea9866002f9",
   "metadata": {},
   "outputs": [
    {
     "name": "stdout",
     "output_type": "stream",
     "text": [
      "\n"
     ]
    }
   ],
   "source": [
    "print()"
   ]
  },
  {
   "cell_type": "code",
   "execution_count": 4,
   "id": "af1b5c7e-89a3-4818-933d-3dbe64866814",
   "metadata": {},
   "outputs": [
    {
     "name": "stdout",
     "output_type": "stream",
     "text": [
      "hello\n"
     ]
    }
   ],
   "source": [
    "func = print('hello')"
   ]
  },
  {
   "cell_type": "code",
   "execution_count": 5,
   "id": "757175e1-3dfe-4494-9069-3aedcb0e944e",
   "metadata": {},
   "outputs": [],
   "source": [
    "func"
   ]
  },
  {
   "cell_type": "code",
   "execution_count": 6,
   "id": "b4d6726d-24ad-40ea-b925-b62985ea3a5b",
   "metadata": {},
   "outputs": [
    {
     "name": "stdout",
     "output_type": "stream",
     "text": [
      "hello\n"
     ]
    }
   ],
   "source": [
    "a = print('hello')"
   ]
  },
  {
   "cell_type": "code",
   "execution_count": 7,
   "id": "ab105e63-45a9-47d9-9612-cf226c352a91",
   "metadata": {},
   "outputs": [],
   "source": [
    "a"
   ]
  },
  {
   "cell_type": "code",
   "execution_count": 8,
   "id": "6e12c5a2-8edc-4fc8-87c6-d940ac93f062",
   "metadata": {},
   "outputs": [
    {
     "data": {
      "text/plain": [
       "32"
      ]
     },
     "execution_count": 8,
     "metadata": {},
     "output_type": "execute_result"
    }
   ],
   "source": [
    "int('32')"
   ]
  },
  {
   "cell_type": "code",
   "execution_count": 10,
   "id": "4e5aefa7-9d31-4a9d-9439-87037cebf965",
   "metadata": {},
   "outputs": [
    {
     "data": {
      "text/plain": [
       "3"
      ]
     },
     "execution_count": 10,
     "metadata": {},
     "output_type": "execute_result"
    }
   ],
   "source": [
    "int(3.2323243)"
   ]
  },
  {
   "cell_type": "code",
   "execution_count": 11,
   "id": "a14c406d-8b9b-4158-9bac-7c8e6533a506",
   "metadata": {},
   "outputs": [
    {
     "data": {
      "text/plain": [
       "3"
      ]
     },
     "execution_count": 11,
     "metadata": {},
     "output_type": "execute_result"
    }
   ],
   "source": [
    "int(3.99)"
   ]
  },
  {
   "cell_type": "code",
   "execution_count": 12,
   "id": "6d70277e-35be-47ab-9b39-6d5b532bf2d6",
   "metadata": {},
   "outputs": [
    {
     "data": {
      "text/plain": [
       "4"
      ]
     },
     "execution_count": 12,
     "metadata": {},
     "output_type": "execute_result"
    }
   ],
   "source": [
    "int(4.01)"
   ]
  },
  {
   "cell_type": "code",
   "execution_count": 13,
   "id": "153e03d0-61f3-4628-beb8-3bf4474f19d9",
   "metadata": {},
   "outputs": [
    {
     "data": {
      "text/plain": [
       "3.0"
      ]
     },
     "execution_count": 13,
     "metadata": {},
     "output_type": "execute_result"
    }
   ],
   "source": [
    "float(3)"
   ]
  },
  {
   "cell_type": "code",
   "execution_count": 14,
   "id": "a7eb8379-2751-4e84-b40e-63bb1600954e",
   "metadata": {},
   "outputs": [
    {
     "data": {
      "text/plain": [
       "3.42323"
      ]
     },
     "execution_count": 14,
     "metadata": {},
     "output_type": "execute_result"
    }
   ],
   "source": [
    "float('3.42323')"
   ]
  },
  {
   "cell_type": "code",
   "execution_count": 15,
   "id": "f8daf37b-d397-4b88-acbd-043eed165a0b",
   "metadata": {},
   "outputs": [
    {
     "data": {
      "text/plain": [
       "'32'"
      ]
     },
     "execution_count": 15,
     "metadata": {},
     "output_type": "execute_result"
    }
   ],
   "source": [
    "str(32)"
   ]
  },
  {
   "cell_type": "code",
   "execution_count": 16,
   "id": "68988652-4733-410b-af0f-baef8ed17435",
   "metadata": {},
   "outputs": [
    {
     "data": {
      "text/plain": [
       "'3.4234'"
      ]
     },
     "execution_count": 16,
     "metadata": {},
     "output_type": "execute_result"
    }
   ],
   "source": [
    "str(3.4234)"
   ]
  },
  {
   "cell_type": "code",
   "execution_count": 17,
   "id": "c3c5993a-ccfc-4360-91e5-f4ad416e5896",
   "metadata": {},
   "outputs": [],
   "source": [
    "import math"
   ]
  },
  {
   "cell_type": "code",
   "execution_count": 21,
   "id": "407f65e1-a98e-4427-abfe-b17db68c9489",
   "metadata": {},
   "outputs": [],
   "source": [
    "import pandas as pd"
   ]
  },
  {
   "cell_type": "code",
   "execution_count": null,
   "id": "23117ef4-bd3c-45e7-b240-45b06399b22b",
   "metadata": {},
   "outputs": [],
   "source": [
    "ratio = signal_power / noise_power\n",
    "decibels = 10 * math.log10(ratio)\n",
    "radians = 0.7\n",
    "height = math.sin(radians)"
   ]
  },
  {
   "cell_type": "code",
   "execution_count": 23,
   "id": "75bbb6ce-e8c5-4a95-a316-d00cc163472b",
   "metadata": {},
   "outputs": [
    {
     "data": {
      "text/plain": [
       "3.141592653589793"
      ]
     },
     "execution_count": 23,
     "metadata": {},
     "output_type": "execute_result"
    }
   ],
   "source": [
    "math.pi"
   ]
  },
  {
   "cell_type": "code",
   "execution_count": 29,
   "id": "ecf8c405-54b7-44ff-8b60-6f06f04f0b6e",
   "metadata": {},
   "outputs": [
    {
     "data": {
      "text/plain": [
       "4.0"
      ]
     },
     "execution_count": 29,
     "metadata": {},
     "output_type": "execute_result"
    }
   ],
   "source": [
    "math.sqrt(16)"
   ]
  },
  {
   "cell_type": "code",
   "execution_count": 31,
   "id": "4d26d6ec-e1a1-4768-b140-7ff68ed9ede1",
   "metadata": {},
   "outputs": [
    {
     "data": {
      "text/plain": [
       "2.0"
      ]
     },
     "execution_count": 31,
     "metadata": {},
     "output_type": "execute_result"
    }
   ],
   "source": [
    "math.sqrt(16) / 2"
   ]
  },
  {
   "cell_type": "code",
   "execution_count": 32,
   "id": "229e0596-1df8-413d-8b3b-41fae68f60be",
   "metadata": {},
   "outputs": [
    {
     "name": "stdout",
     "output_type": "stream",
     "text": [
      "None\n"
     ]
    }
   ],
   "source": [
    "print(func)"
   ]
  },
  {
   "cell_type": "code",
   "execution_count": 34,
   "id": "bf1483dd-3fd8-416c-80db-d255a9b5ee92",
   "metadata": {},
   "outputs": [
    {
     "name": "stdin",
     "output_type": "stream",
     "text": [
      "text wsws\n"
     ]
    }
   ],
   "source": [
    "result = input('text')"
   ]
  },
  {
   "cell_type": "code",
   "execution_count": 35,
   "id": "ad3335c7-073c-4233-96c1-edae34884bda",
   "metadata": {},
   "outputs": [
    {
     "name": "stdin",
     "output_type": "stream",
     "text": [
      "Enter something: A\n"
     ]
    }
   ],
   "source": [
    "result2 = input('Enter something:')"
   ]
  },
  {
   "cell_type": "code",
   "execution_count": 36,
   "id": "181f591e-54e3-4d9e-8b07-9f18c8deb63c",
   "metadata": {},
   "outputs": [
    {
     "data": {
      "text/plain": [
       "'wsws'"
      ]
     },
     "execution_count": 36,
     "metadata": {},
     "output_type": "execute_result"
    }
   ],
   "source": [
    "result"
   ]
  },
  {
   "cell_type": "code",
   "execution_count": 37,
   "id": "5776aeb9-e5e5-46de-a45e-371e1fe9e8c0",
   "metadata": {},
   "outputs": [
    {
     "data": {
      "text/plain": [
       "'A'"
      ]
     },
     "execution_count": 37,
     "metadata": {},
     "output_type": "execute_result"
    }
   ],
   "source": [
    "result2"
   ]
  },
  {
   "cell_type": "code",
   "execution_count": 40,
   "id": "61758625-7de3-453f-b750-278ed1392e18",
   "metadata": {},
   "outputs": [
    {
     "name": "stdin",
     "output_type": "stream",
     "text": [
      "Type your name: Tom\n"
     ]
    }
   ],
   "source": [
    "user_name = input('Type your name:')"
   ]
  },
  {
   "cell_type": "code",
   "execution_count": 41,
   "id": "210e04ac-8f7d-498a-9e5f-ae9bf0e4f353",
   "metadata": {},
   "outputs": [
    {
     "data": {
      "text/plain": [
       "'Tom'"
      ]
     },
     "execution_count": 41,
     "metadata": {},
     "output_type": "execute_result"
    }
   ],
   "source": [
    "user_name"
   ]
  },
  {
   "cell_type": "code",
   "execution_count": 43,
   "id": "e981d861-ec2f-416b-a254-991e3318b183",
   "metadata": {},
   "outputs": [],
   "source": [
    "a = 2 + 2"
   ]
  },
  {
   "cell_type": "code",
   "execution_count": 44,
   "id": "33272af3-1bc7-48ab-b0ce-b22800f1ded4",
   "metadata": {},
   "outputs": [
    {
     "data": {
      "text/plain": [
       "4"
      ]
     },
     "execution_count": 44,
     "metadata": {},
     "output_type": "execute_result"
    }
   ],
   "source": [
    "a"
   ]
  },
  {
   "cell_type": "markdown",
   "id": "856abfa9-ad24-4bfd-9106-192a573e89b6",
   "metadata": {},
   "source": [
    "<h2>1.4 How to properly set up a Code Editor for Python</h2>"
   ]
  },
  {
   "cell_type": "markdown",
   "id": "740600c8-ff7b-4eda-87a4-a50d31147d0d",
   "metadata": {},
   "source": [
    "<h2>1.5 If Statements</h2>"
   ]
  },
  {
   "cell_type": "code",
   "execution_count": 47,
   "id": "05f5e728-7893-42b1-988d-87544a4d71fc",
   "metadata": {},
   "outputs": [
    {
     "name": "stdin",
     "output_type": "stream",
     "text": [
      "Enter something: Alex\n"
     ]
    },
    {
     "name": "stdout",
     "output_type": "stream",
     "text": [
      "You entered: Alex\n"
     ]
    }
   ],
   "source": [
    "message = input('Enter something:')\n",
    "if message == '':\n",
    "    print('You did not enter anything.')\n",
    "else:\n",
    "    print('You entered:', message)"
   ]
  },
  {
   "cell_type": "code",
   "execution_count": 48,
   "id": "cf1cae19-4887-456b-9282-e0516d344021",
   "metadata": {},
   "outputs": [
    {
     "data": {
      "text/plain": [
       "3"
      ]
     },
     "execution_count": 48,
     "metadata": {},
     "output_type": "execute_result"
    }
   ],
   "source": [
    "a = 1\n",
    "b = 2\n",
    "c = a + b\n",
    "c"
   ]
  },
  {
   "cell_type": "code",
   "execution_count": 49,
   "id": "f72639ca-e151-4403-ba8b-c3224cf5e3c4",
   "metadata": {},
   "outputs": [
    {
     "name": "stdin",
     "output_type": "stream",
     "text": [
      "Enter something: \n"
     ]
    },
    {
     "name": "stdout",
     "output_type": "stream",
     "text": [
      "You did not enter anything.\n"
     ]
    }
   ],
   "source": [
    "message = input('Enter something:')\n",
    "if message:\n",
    "    print('You entered:', message)\n",
    "else:\n",
    "    print('You did not enter anything.')"
   ]
  },
  {
   "cell_type": "code",
   "execution_count": 50,
   "id": "c1a2d41a-ee4b-49ce-bc6e-918bd124e926",
   "metadata": {},
   "outputs": [
    {
     "data": {
      "text/plain": [
       "False"
      ]
     },
     "execution_count": 50,
     "metadata": {},
     "output_type": "execute_result"
    }
   ],
   "source": [
    "bool(message)"
   ]
  },
  {
   "cell_type": "code",
   "execution_count": 51,
   "id": "36a67af7-c247-4122-bad8-ccbe90aed81b",
   "metadata": {},
   "outputs": [
    {
     "data": {
      "text/plain": [
       "False"
      ]
     },
     "execution_count": 51,
     "metadata": {},
     "output_type": "execute_result"
    }
   ],
   "source": [
    "bool(message) == True"
   ]
  },
  {
   "cell_type": "code",
   "execution_count": 52,
   "id": "cd75462e-f933-43b9-8c2f-68ed4086cbfd",
   "metadata": {},
   "outputs": [
    {
     "data": {
      "text/plain": [
       "True"
      ]
     },
     "execution_count": 52,
     "metadata": {},
     "output_type": "execute_result"
    }
   ],
   "source": [
    "bool('message')"
   ]
  },
  {
   "cell_type": "code",
   "execution_count": 53,
   "id": "030e2883-0090-44c7-9661-b66d57af32bb",
   "metadata": {},
   "outputs": [
    {
     "data": {
      "text/plain": [
       "str"
      ]
     },
     "execution_count": 53,
     "metadata": {},
     "output_type": "execute_result"
    }
   ],
   "source": [
    "type('message')"
   ]
  },
  {
   "cell_type": "code",
   "execution_count": 54,
   "id": "7c52520b-26b2-48ab-b235-b4a50b395ce7",
   "metadata": {},
   "outputs": [
    {
     "data": {
      "text/plain": [
       "True"
      ]
     },
     "execution_count": 54,
     "metadata": {},
     "output_type": "execute_result"
    }
   ],
   "source": [
    "bool(32)"
   ]
  },
  {
   "cell_type": "code",
   "execution_count": 55,
   "id": "c4e147ea-1a46-46e0-87a0-33fbcfdec239",
   "metadata": {},
   "outputs": [
    {
     "data": {
      "text/plain": [
       "False"
      ]
     },
     "execution_count": 55,
     "metadata": {},
     "output_type": "execute_result"
    }
   ],
   "source": [
    "bool()"
   ]
  },
  {
   "cell_type": "code",
   "execution_count": 56,
   "id": "ede7fe28-a916-4b94-a80d-04fc7db5fa15",
   "metadata": {},
   "outputs": [
    {
     "data": {
      "text/plain": [
       "False"
      ]
     },
     "execution_count": 56,
     "metadata": {},
     "output_type": "execute_result"
    }
   ],
   "source": [
    "bool('')"
   ]
  },
  {
   "cell_type": "code",
   "execution_count": 57,
   "id": "06eba93a-0990-4737-b5d5-3b48d8c54f1b",
   "metadata": {},
   "outputs": [
    {
     "name": "stdin",
     "output_type": "stream",
     "text": [
      "Enter something: 0\n"
     ]
    },
    {
     "name": "stdout",
     "output_type": "stream",
     "text": [
      "You entered: 0\n"
     ]
    }
   ],
   "source": [
    "message = input('Enter something:')\n",
    "if message:\n",
    "    print('You entered:', message)\n",
    "else:\n",
    "    print('You did not enter anything.')"
   ]
  },
  {
   "cell_type": "code",
   "execution_count": 59,
   "id": "5fe11d55-f4eb-452e-b57d-0cb0fa1a0787",
   "metadata": {},
   "outputs": [
    {
     "name": "stdout",
     "output_type": "stream",
     "text": [
      "It's raining!\n"
     ]
    }
   ],
   "source": [
    "its_raining = True\n",
    "if its_raining:\n",
    "    print(\"It's raining!\")"
   ]
  },
  {
   "cell_type": "code",
   "execution_count": 60,
   "id": "d26473dc-0900-485a-b5d2-fdf43c723839",
   "metadata": {},
   "outputs": [
    {
     "data": {
      "text/plain": [
       "True"
      ]
     },
     "execution_count": 60,
     "metadata": {},
     "output_type": "execute_result"
    }
   ],
   "source": [
    "its_raining"
   ]
  },
  {
   "cell_type": "code",
   "execution_count": 61,
   "id": "c199000a-da26-488c-9936-08dde5d709cf",
   "metadata": {},
   "outputs": [
    {
     "name": "stdout",
     "output_type": "stream",
     "text": [
      "It's raining!\n"
     ]
    }
   ],
   "source": [
    "its_raining = True\n",
    "its_not_raining = not its_raining\n",
    "\n",
    "if its_raining:\n",
    "    print(\"It's raining!\")\n",
    "if its_not_raining:\n",
    "    print(\"It's not raining.\")"
   ]
  },
  {
   "cell_type": "code",
   "execution_count": 62,
   "id": "d3dbf956-61bd-4a25-a021-70e97867754d",
   "metadata": {},
   "outputs": [
    {
     "data": {
      "text/plain": [
       "True"
      ]
     },
     "execution_count": 62,
     "metadata": {},
     "output_type": "execute_result"
    }
   ],
   "source": [
    "its_raining"
   ]
  },
  {
   "cell_type": "code",
   "execution_count": 63,
   "id": "5e4134d2-3111-44b7-94cf-2e0c6b4f18f6",
   "metadata": {},
   "outputs": [
    {
     "data": {
      "text/plain": [
       "False"
      ]
     },
     "execution_count": 63,
     "metadata": {},
     "output_type": "execute_result"
    }
   ],
   "source": [
    "its_not_raining"
   ]
  },
  {
   "cell_type": "code",
   "execution_count": 64,
   "id": "fa751d66-2729-45e1-87a4-f973042dd929",
   "metadata": {},
   "outputs": [
    {
     "name": "stdout",
     "output_type": "stream",
     "text": [
      "It's raining!\n"
     ]
    }
   ],
   "source": [
    "its_raining = True\n",
    "\n",
    "if its_raining:\n",
    "    print(\"It's raining!\")\n",
    "if not its_raining:\n",
    "    print(\"It's not raining.\")"
   ]
  },
  {
   "cell_type": "code",
   "execution_count": 65,
   "id": "2e3acb4a-85fa-4239-b9ef-8e6cf589eb4d",
   "metadata": {},
   "outputs": [
    {
     "name": "stdout",
     "output_type": "stream",
     "text": [
      "It's raining!\n"
     ]
    }
   ],
   "source": [
    "its_raining = True\n",
    "\n",
    "if its_raining:\n",
    "    print(\"It's raining!\")\n",
    "else:\n",
    "    print(\"It's not raining.\")"
   ]
  },
  {
   "cell_type": "markdown",
   "id": "a58c99ca-13c6-4764-b14a-826a4d762315",
   "metadata": {},
   "source": [
    "Program that asks for a password:"
   ]
  },
  {
   "cell_type": "code",
   "execution_count": 68,
   "id": "d71c1a42-e1e0-4bc6-b687-85e66895fb2d",
   "metadata": {},
   "outputs": [
    {
     "name": "stdout",
     "output_type": "stream",
     "text": [
      "Hello!\n"
     ]
    },
    {
     "name": "stdin",
     "output_type": "stream",
     "text": [
      "Enter your password: 123\n"
     ]
    },
    {
     "name": "stdout",
     "output_type": "stream",
     "text": [
      "That's correct, welcome!\n"
     ]
    }
   ],
   "source": [
    "print(\"Hello!\")\n",
    "password = input(\"Enter your password:\")\n",
    "\n",
    "if password == \"123\":\n",
    "    print(\"That's correct, welcome!\")\n",
    "else:\n",
    "    print(\"Access denied.\")"
   ]
  },
  {
   "cell_type": "code",
   "execution_count": 69,
   "id": "87d76c79-bd07-4137-8563-51421500cb95",
   "metadata": {},
   "outputs": [
    {
     "name": "stdout",
     "output_type": "stream",
     "text": [
      "Hello!\n"
     ]
    },
    {
     "name": "stdin",
     "output_type": "stream",
     "text": [
      "Enter your password: a\n"
     ]
    },
    {
     "name": "stdout",
     "output_type": "stream",
     "text": [
      "Access denied.\n"
     ]
    }
   ],
   "source": [
    "print(\"Hello!\")\n",
    "password = input(\"Enter your password:\")\n",
    "\n",
    "if password == \"123\":\n",
    "    print(\"That's correct, welcome!\")\n",
    "else:\n",
    "    print(\"Access denied.\")"
   ]
  },
  {
   "cell_type": "markdown",
   "id": "1eac9c57-1336-4e4a-9715-f09692c36230",
   "metadata": {},
   "source": [
    "Example of a bad code:"
   ]
  },
  {
   "cell_type": "code",
   "execution_count": 70,
   "id": "e6ffef44-4dac-4582-b205-511ae87a57d5",
   "metadata": {},
   "outputs": [
    {
     "name": "stdout",
     "output_type": "stream",
     "text": [
      "Hello!\n"
     ]
    },
    {
     "name": "stdin",
     "output_type": "stream",
     "text": [
      "Enter something:  hi\n"
     ]
    },
    {
     "name": "stdout",
     "output_type": "stream",
     "text": [
      "Hi to you too!\n"
     ]
    }
   ],
   "source": [
    "print(\"Hello!\")\n",
    "word = input(\"Enter something: \")\n",
    "\n",
    "if word == \"hi\":\n",
    "    print(\"Hi to you too!\")\n",
    "else:\n",
    "    if word == \"hello\":\n",
    "        print(\"Hello hello!\")\n",
    "    else:\n",
    "        if word == \"howdy\":\n",
    "            print(\"Howdyyyy!\")\n",
    "        else:\n",
    "            if word == \"hey\":\n",
    "                print(\"Hey hey hey!\")\n",
    "            else:\n",
    "                if word == \"gday m8\":\n",
    "                    print(\"Gday 4 u 2!\")\n",
    "                else:\n",
    "                    print(\"I don't know what\", word, \"means.\")"
   ]
  },
  {
   "cell_type": "code",
   "execution_count": 72,
   "id": "ee405504-b9c6-4ca5-bb5b-fdd434981bb3",
   "metadata": {},
   "outputs": [
    {
     "name": "stdout",
     "output_type": "stream",
     "text": [
      "Hello!\n"
     ]
    },
    {
     "name": "stdin",
     "output_type": "stream",
     "text": [
      "Enter something: hi\n"
     ]
    },
    {
     "name": "stdout",
     "output_type": "stream",
     "text": [
      "Hi to you too!\n"
     ]
    }
   ],
   "source": [
    "print(\"Hello!\")\n",
    "word = input(\"Enter something:\")\n",
    "\n",
    "if word == \"hi\":\n",
    "    print(\"Hi to you too!\")\n",
    "elif word == \"hello\":\n",
    "    print(\"Hello hello!\")\n",
    "elif word == \"howdy\":\n",
    "    print(\"Howdyyyy!\")\n",
    "elif word == \"hey\":\n",
    "    print(\"Hey hey hey!\")\n",
    "elif word == \"gday m8\":\n",
    "    print(\"Gday 4 u 2!\")\n",
    "else:\n",
    "    print(\"I don't know what\", word, \"means.\")"
   ]
  },
  {
   "cell_type": "code",
   "execution_count": 73,
   "id": "c2a880f4-f86d-490d-a01b-16618372d66f",
   "metadata": {},
   "outputs": [
    {
     "name": "stdout",
     "output_type": "stream",
     "text": [
      "Welcome to the Classified Archive of the Milklands\n"
     ]
    },
    {
     "name": "stdin",
     "output_type": "stream",
     "text": [
      "Enter you password: iojWDIUws242\n"
     ]
    },
    {
     "name": "stdout",
     "output_type": "stream",
     "text": [
      "Password correct. You have level 2 access.\n"
     ]
    }
   ],
   "source": [
    "print(\"Welcome to the Classified Archive of the Milklands\")\n",
    "password = input(\"Enter you password:\")\n",
    "\n",
    "if password == \"diIUiws2\":\n",
    "    print(\"Password correct. You have level 1 access.\")\n",
    "elif password == \"iojWDIUws242\":\n",
    "    print(\"Password correct. You have level 2 access.\")\n",
    "elif password == \"UIHwdoi4897\":\n",
    "    print(\"Password correct. You have level 3 access.\")\n",
    "else:\n",
    "    print(\"Password incorrect.\")"
   ]
  },
  {
   "cell_type": "code",
   "execution_count": 77,
   "id": "f8ace4bf-9a1b-48de-b2ee-ee4eed65a468",
   "metadata": {},
   "outputs": [
    {
     "name": "stdout",
     "output_type": "stream",
     "text": [
      "hello\n"
     ]
    }
   ],
   "source": [
    "if 1 == 1:\n",
    "    print(\"hello\")\n",
    "    \n",
    "elif 1 == 2:\n",
    "    print(\"this is weird\")\n",
    "else:\n",
    "    print(\"world\")"
   ]
  },
  {
   "cell_type": "code",
   "execution_count": 75,
   "id": "8af33679-6440-4a76-8200-ed0607f9a7d2",
   "metadata": {},
   "outputs": [
    {
     "name": "stdout",
     "output_type": "stream",
     "text": [
      "hello\n",
      "world\n"
     ]
    }
   ],
   "source": [
    "if 1 == 1:\n",
    "    print(\"hello\")\n",
    "if 1 == 2:\n",
    "    print(\"this is weird\")\n",
    "else:\n",
    "    print(\"world\")"
   ]
  },
  {
   "cell_type": "code",
   "execution_count": 76,
   "id": "295c8a68-45b5-415b-807d-b918b04553e7",
   "metadata": {},
   "outputs": [
    {
     "name": "stdout",
     "output_type": "stream",
     "text": [
      "hello\n",
      "this is weird\n"
     ]
    }
   ],
   "source": [
    "if 1 == 1:\n",
    "    print(\"hello\")\n",
    "if 1 == 2:\n",
    "    print(\"this is weird\")\n",
    "if 32 == 32:\n",
    "    print(\"this is weird\")\n",
    "else:\n",
    "    print(\"world\")"
   ]
  },
  {
   "cell_type": "code",
   "execution_count": 79,
   "id": "6f0beb46-4128-47e8-8667-7dc0ab466bf5",
   "metadata": {},
   "outputs": [
    {
     "name": "stdout",
     "output_type": "stream",
     "text": [
      "hello\n",
      "this is weird2\n",
      "world\n"
     ]
    }
   ],
   "source": [
    "if 1 == 1:\n",
    "    print(\"hello\")\n",
    "if 1 == 2:\n",
    "    print(\"this is weird\")\n",
    "if 2 == 2:\n",
    "    print(\"this is weird2\") \n",
    "if 32 == 22:\n",
    "    print(\"this is weird3\")\n",
    "    \n",
    "else:\n",
    "    print(\"world\")"
   ]
  },
  {
   "cell_type": "markdown",
   "id": "7236443f-f6b1-4f08-8826-0474d5b38d48",
   "metadata": {},
   "source": [
    "<b>Exercises</b>"
   ]
  },
  {
   "cell_type": "markdown",
   "id": "daaf8c1d-60c7-4aac-84a8-901d42acaa7d",
   "metadata": {},
   "source": [
    "<b>Ex 1.</b> Fix the following program:"
   ]
  },
  {
   "cell_type": "code",
   "execution_count": 2,
   "id": "73e0bbdd-e331-43b9-9187-45a9a00465af",
   "metadata": {
    "collapsed": true,
    "jupyter": {
     "outputs_hidden": true
    },
    "tags": []
   },
   "outputs": [
    {
     "ename": "SyntaxError",
     "evalue": "invalid syntax (751383878.py, line 1)",
     "output_type": "error",
     "traceback": [
      "\u001b[1;36m  File \u001b[1;32m\"C:\\Users\\vanli\\AppData\\Local\\Temp\\ipykernel_11288\\751383878.py\"\u001b[1;36m, line \u001b[1;32m1\u001b[0m\n\u001b[1;33m    print(Hello!)\u001b[0m\n\u001b[1;37m               ^\u001b[0m\n\u001b[1;31mSyntaxError\u001b[0m\u001b[1;31m:\u001b[0m invalid syntax\n"
     ]
    }
   ],
   "source": [
    "print(Hello!)\n",
    "    something == input('Enter something: )\n",
    "    print('You entered:' something)"
   ]
  },
  {
   "cell_type": "code",
   "execution_count": 16,
   "id": "ee87f9f9-0ecf-4545-a836-10a13863ed76",
   "metadata": {},
   "outputs": [
    {
     "name": "stdout",
     "output_type": "stream",
     "text": [
      "Hello!\n"
     ]
    },
    {
     "name": "stdin",
     "output_type": "stream",
     "text": [
      "Enter something:  Greetings!\n"
     ]
    },
    {
     "name": "stdout",
     "output_type": "stream",
     "text": [
      "You entered: Greetings!\n"
     ]
    }
   ],
   "source": [
    "print(\"Hello!\")\n",
    "\n",
    "something = input('Enter something: ')\n",
    "\n",
    "print('You entered:', something)"
   ]
  },
  {
   "cell_type": "markdown",
   "id": "10a4e52d-521b-4379-944f-b4d7454db42e",
   "metadata": {},
   "source": [
    "<b>Ex. 2.</b> Fix this program the same way:"
   ]
  },
  {
   "cell_type": "code",
   "execution_count": 25,
   "id": "a45c7019-0ca1-4635-b83e-7f9cd27e026c",
   "metadata": {
    "tags": []
   },
   "outputs": [
    {
     "name": "stdout",
     "output_type": "stream",
     "text": [
      "Hello!\n"
     ]
    },
    {
     "name": "stdin",
     "output_type": "stream",
     "text": [
      "Enter something:  hi\n"
     ]
    },
    {
     "name": "stdout",
     "output_type": "stream",
     "text": [
      "Hi there!\n"
     ]
    }
   ],
   "source": [
    "print('Hello!')\n",
    "\n",
    "something = input(\"Enter something: \")\n",
    "\n",
    "if something == 'hello':\n",
    "       print(\"Hello for you too!\")\n",
    "\n",
    "elif something == 'hi':\n",
    "       print('Hi there!')\n",
    "\n",
    "else:\n",
    "       print(\"I don't know what,\", something, \"means.\")"
   ]
  },
  {
   "cell_type": "markdown",
   "id": "9c7cdb58-3c96-4023-8bdc-5982d4b4875f",
   "metadata": {},
   "source": [
    "<b>Ex. 3.</b> Write a program into a file that asks the user to write a word and then prints that word 1000 times. For example, if the user enters <kbd>hi</kbd> the program would reply <kbd>hihihihihihihihi...</kbd>."
   ]
  },
  {
   "cell_type": "code",
   "execution_count": 27,
   "id": "0f8387a9-3b5d-4f34-b787-873a93e3a692",
   "metadata": {},
   "outputs": [
    {
     "name": "stdin",
     "output_type": "stream",
     "text": [
      "Your text is: Hi\n"
     ]
    },
    {
     "name": "stdout",
     "output_type": "stream",
     "text": [
      "HiHiHiHiHiHiHiHiHiHiHiHiHiHiHiHiHiHiHiHiHiHiHiHiHiHiHiHiHiHiHiHiHiHiHiHiHiHiHiHiHiHiHiHiHiHiHiHiHiHiHiHiHiHiHiHiHiHiHiHiHiHiHiHiHiHiHiHiHiHiHiHiHiHiHiHiHiHiHiHiHiHiHiHiHiHiHiHiHiHiHiHiHiHiHiHiHiHiHiHiHiHiHiHiHiHiHiHiHiHiHiHiHiHiHiHiHiHiHiHiHiHiHiHiHiHiHiHiHiHiHiHiHiHiHiHiHiHiHiHiHiHiHiHiHiHiHiHiHiHiHiHiHiHiHiHiHiHiHiHiHiHiHiHiHiHiHiHiHiHiHiHiHiHiHiHiHiHiHiHiHiHiHiHiHiHiHiHiHiHiHiHiHiHiHiHiHiHiHiHiHiHiHiHiHiHiHiHiHiHiHiHiHiHiHiHiHiHiHiHiHiHiHiHiHiHiHiHiHiHiHiHiHiHiHiHiHiHiHiHiHiHiHiHiHiHiHiHiHiHiHiHiHiHiHiHiHiHiHiHiHiHiHiHiHiHiHiHiHiHiHiHiHiHiHiHiHiHiHiHiHiHiHiHiHiHiHiHiHiHiHiHiHiHiHiHiHiHiHiHiHiHiHiHiHiHiHiHiHiHiHiHiHiHiHiHiHiHiHiHiHiHiHiHiHiHiHiHiHiHiHiHiHiHiHiHiHiHiHiHiHiHiHiHiHiHiHiHiHiHiHiHiHiHiHiHiHiHiHiHiHiHiHiHiHiHiHiHiHiHiHiHiHiHiHiHiHiHiHiHiHiHiHiHiHiHiHiHiHiHiHiHiHiHiHiHiHiHiHiHiHiHiHiHiHiHiHiHiHiHiHiHiHiHiHiHiHiHiHiHiHiHiHiHiHiHiHiHiHiHiHiHiHiHiHiHiHiHiHiHiHiHiHiHiHiHiHiHiHiHiHiHiHiHiHiHiHiHiHiHiHiHiHiHiHiHiHiHiHiHiHiHiHiHiHiHiHiHiHiHiHiHiHiHiHiHiHiHiHiHiHiHiHiHiHiHiHiHiHiHiHiHiHiHiHiHiHiHiHiHiHiHiHiHiHiHiHiHiHiHiHiHiHiHiHiHiHiHiHiHiHiHiHiHiHiHiHiHiHiHiHiHiHiHiHiHiHiHiHiHiHiHiHiHiHiHiHiHiHiHiHiHiHiHiHiHiHiHiHiHiHiHiHiHiHiHiHiHiHiHiHiHiHiHiHiHiHiHiHiHiHiHiHiHiHiHiHiHiHiHiHiHiHiHiHiHiHiHiHiHiHiHiHiHiHiHiHiHiHiHiHiHiHiHiHiHiHiHiHiHiHiHiHiHiHiHiHiHiHiHiHiHiHiHiHiHiHiHiHiHiHiHiHiHiHiHiHiHiHiHiHiHiHiHiHiHiHiHiHiHiHiHiHiHiHiHiHiHiHiHiHiHiHiHiHiHiHiHiHiHiHiHiHiHiHiHiHiHiHiHiHiHiHiHiHiHiHiHiHiHiHiHiHiHiHiHiHiHiHiHiHiHiHiHiHiHiHiHiHiHiHiHiHiHiHiHiHiHiHiHiHiHiHiHiHiHiHiHiHiHiHiHiHiHiHiHiHiHiHiHiHiHiHiHiHiHiHiHiHiHiHiHiHiHiHiHiHiHiHiHiHiHiHiHiHiHiHiHiHiHiHiHiHiHiHiHiHiHiHiHiHiHiHiHiHiHiHiHiHiHiHiHiHiHiHiHiHiHiHiHiHiHiHiHiHiHiHiHiHiHiHiHiHiHiHiHiHiHiHiHiHiHiHiHiHiHiHiHiHiHiHiHiHiHiHiHiHiHiHiHiHiHiHiHiHiHiHiHiHiHiHiHiHiHiHiHiHiHiHiHiHiHiHiHiHiHiHiHiHiHiHiHiHiHiHiHiHiHiHiHiHiHiHiHiHiHiHiHiHiHiHiHiHiHiHiHiHiHiHiHiHiHiHiHiHiHiHiHiHiHiHiHiHiHiHiHiHiHiHiHiHiHiHiHiHiHiHiHiHiHiHiHiHiHiHiHiHiHiHiHiHiHiHiHiHiHiHiHiHiHiHiHiHiHiHiHiHiHiHiHiHiHiHiHiHiHiHiHiHiHiHiHiHiHiHiHiHiHiHiHi\n"
     ]
    }
   ],
   "source": [
    "UserInput = input(\"Your text is:\")\n",
    "result = UserInput * 1000\n",
    "print(result)"
   ]
  },
  {
   "cell_type": "markdown",
   "id": "150a47cc-7a79-409a-8765-b117ab87ab58",
   "metadata": {},
   "source": [
    "<b>Ex. 4.</b> Add spaces between the words, so the output is like <kbd>hi hi hi hi ...</kbd>."
   ]
  },
  {
   "cell_type": "code",
   "execution_count": 31,
   "id": "b08df8ae-e97b-4dcc-987a-002c16a413c5",
   "metadata": {
    "collapsed": true,
    "jupyter": {
     "outputs_hidden": true
    },
    "tags": []
   },
   "outputs": [
    {
     "name": "stdin",
     "output_type": "stream",
     "text": [
      "Your text is: hi\n"
     ]
    },
    {
     "name": "stdout",
     "output_type": "stream",
     "text": [
      "('hi', ' ', 'hi', ' ', 'hi', ' ', 'hi', ' ', 'hi', ' ', 'hi', ' ', 'hi', ' ', 'hi', ' ', 'hi', ' ', 'hi', ' ', 'hi', ' ', 'hi', ' ', 'hi', ' ', 'hi', ' ', 'hi', ' ', 'hi', ' ', 'hi', ' ', 'hi', ' ', 'hi', ' ', 'hi', ' ', 'hi', ' ', 'hi', ' ', 'hi', ' ', 'hi', ' ', 'hi', ' ', 'hi', ' ', 'hi', ' ', 'hi', ' ', 'hi', ' ', 'hi', ' ', 'hi', ' ', 'hi', ' ', 'hi', ' ', 'hi', ' ', 'hi', ' ', 'hi', ' ', 'hi', ' ', 'hi', ' ', 'hi', ' ', 'hi', ' ', 'hi', ' ', 'hi', ' ', 'hi', ' ', 'hi', ' ', 'hi', ' ', 'hi', ' ', 'hi', ' ', 'hi', ' ', 'hi', ' ', 'hi', ' ', 'hi', ' ', 'hi', ' ', 'hi', ' ', 'hi', ' ', 'hi', ' ', 'hi', ' ', 'hi', ' ', 'hi', ' ', 'hi', ' ', 'hi', ' ', 'hi', ' ', 'hi', ' ', 'hi', ' ', 'hi', ' ', 'hi', ' ', 'hi', ' ', 'hi', ' ', 'hi', ' ', 'hi', ' ', 'hi', ' ', 'hi', ' ', 'hi', ' ', 'hi', ' ', 'hi', ' ', 'hi', ' ', 'hi', ' ', 'hi', ' ', 'hi', ' ', 'hi', ' ', 'hi', ' ', 'hi', ' ', 'hi', ' ', 'hi', ' ', 'hi', ' ', 'hi', ' ', 'hi', ' ', 'hi', ' ', 'hi', ' ', 'hi', ' ', 'hi', ' ', 'hi', ' ', 'hi', ' ', 'hi', ' ', 'hi', ' ', 'hi', ' ', 'hi', ' ', 'hi', ' ', 'hi', ' ', 'hi', ' ', 'hi', ' ', 'hi', ' ', 'hi', ' ', 'hi', ' ', 'hi', ' ', 'hi', ' ', 'hi', ' ', 'hi', ' ', 'hi', ' ', 'hi', ' ', 'hi', ' ', 'hi', ' ', 'hi', ' ', 'hi', ' ', 'hi', ' ', 'hi', ' ', 'hi', ' ', 'hi', ' ', 'hi', ' ', 'hi', ' ', 'hi', ' ', 'hi', ' ', 'hi', ' ', 'hi', ' ', 'hi', ' ', 'hi', ' ', 'hi', ' ', 'hi', ' ', 'hi', ' ', 'hi', ' ', 'hi', ' ', 'hi', ' ', 'hi', ' ', 'hi', ' ', 'hi', ' ', 'hi', ' ', 'hi', ' ', 'hi', ' ', 'hi', ' ', 'hi', ' ', 'hi', ' ', 'hi', ' ', 'hi', ' ', 'hi', ' ', 'hi', ' ', 'hi', ' ', 'hi', ' ', 'hi', ' ', 'hi', ' ', 'hi', ' ', 'hi', ' ', 'hi', ' ', 'hi', ' ', 'hi', ' ', 'hi', ' ', 'hi', ' ', 'hi', ' ', 'hi', ' ', 'hi', ' ', 'hi', ' ', 'hi', ' ', 'hi', ' ', 'hi', ' ', 'hi', ' ', 'hi', ' ', 'hi', ' ', 'hi', ' ', 'hi', ' ', 'hi', ' ', 'hi', ' ', 'hi', ' ', 'hi', ' ', 'hi', ' ', 'hi', ' ', 'hi', ' ', 'hi', ' ', 'hi', ' ', 'hi', ' ', 'hi', ' ', 'hi', ' ', 'hi', ' ', 'hi', ' ', 'hi', ' ', 'hi', ' ', 'hi', ' ', 'hi', ' ', 'hi', ' ', 'hi', ' ', 'hi', ' ', 'hi', ' ', 'hi', ' ', 'hi', ' ', 'hi', ' ', 'hi', ' ', 'hi', ' ', 'hi', ' ', 'hi', ' ', 'hi', ' ', 'hi', ' ', 'hi', ' ', 'hi', ' ', 'hi', ' ', 'hi', ' ', 'hi', ' ', 'hi', ' ', 'hi', ' ', 'hi', ' ', 'hi', ' ', 'hi', ' ', 'hi', ' ', 'hi', ' ', 'hi', ' ', 'hi', ' ', 'hi', ' ', 'hi', ' ', 'hi', ' ', 'hi', ' ', 'hi', ' ', 'hi', ' ', 'hi', ' ', 'hi', ' ', 'hi', ' ', 'hi', ' ', 'hi', ' ', 'hi', ' ', 'hi', ' ', 'hi', ' ', 'hi', ' ', 'hi', ' ', 'hi', ' ', 'hi', ' ', 'hi', ' ', 'hi', ' ', 'hi', ' ', 'hi', ' ', 'hi', ' ', 'hi', ' ', 'hi', ' ', 'hi', ' ', 'hi', ' ', 'hi', ' ', 'hi', ' ', 'hi', ' ', 'hi', ' ', 'hi', ' ', 'hi', ' ', 'hi', ' ', 'hi', ' ', 'hi', ' ', 'hi', ' ', 'hi', ' ', 'hi', ' ', 'hi', ' ', 'hi', ' ', 'hi', ' ', 'hi', ' ', 'hi', ' ', 'hi', ' ', 'hi', ' ', 'hi', ' ', 'hi', ' ', 'hi', ' ', 'hi', ' ', 'hi', ' ', 'hi', ' ', 'hi', ' ', 'hi', ' ', 'hi', ' ', 'hi', ' ', 'hi', ' ', 'hi', ' ', 'hi', ' ', 'hi', ' ', 'hi', ' ', 'hi', ' ', 'hi', ' ', 'hi', ' ', 'hi', ' ', 'hi', ' ', 'hi', ' ', 'hi', ' ', 'hi', ' ', 'hi', ' ', 'hi', ' ', 'hi', ' ', 'hi', ' ', 'hi', ' ', 'hi', ' ', 'hi', ' ', 'hi', ' ', 'hi', ' ', 'hi', ' ', 'hi', ' ', 'hi', ' ', 'hi', ' ', 'hi', ' ', 'hi', ' ', 'hi', ' ', 'hi', ' ', 'hi', ' ', 'hi', ' ', 'hi', ' ', 'hi', ' ', 'hi', ' ', 'hi', ' ', 'hi', ' ', 'hi', ' ', 'hi', ' ', 'hi', ' ', 'hi', ' ', 'hi', ' ', 'hi', ' ', 'hi', ' ', 'hi', ' ', 'hi', ' ', 'hi', ' ', 'hi', ' ', 'hi', ' ', 'hi', ' ', 'hi', ' ', 'hi', ' ', 'hi', ' ', 'hi', ' ', 'hi', ' ', 'hi', ' ', 'hi', ' ', 'hi', ' ', 'hi', ' ', 'hi', ' ', 'hi', ' ', 'hi', ' ', 'hi', ' ', 'hi', ' ', 'hi', ' ', 'hi', ' ', 'hi', ' ', 'hi', ' ', 'hi', ' ', 'hi', ' ', 'hi', ' ', 'hi', ' ', 'hi', ' ', 'hi', ' ', 'hi', ' ', 'hi', ' ', 'hi', ' ', 'hi', ' ', 'hi', ' ', 'hi', ' ', 'hi', ' ', 'hi', ' ', 'hi', ' ', 'hi', ' ', 'hi', ' ', 'hi', ' ', 'hi', ' ', 'hi', ' ', 'hi', ' ', 'hi', ' ', 'hi', ' ', 'hi', ' ', 'hi', ' ', 'hi', ' ', 'hi', ' ', 'hi', ' ', 'hi', ' ', 'hi', ' ', 'hi', ' ', 'hi', ' ', 'hi', ' ', 'hi', ' ', 'hi', ' ', 'hi', ' ', 'hi', ' ', 'hi', ' ', 'hi', ' ', 'hi', ' ', 'hi', ' ', 'hi', ' ', 'hi', ' ', 'hi', ' ', 'hi', ' ', 'hi', ' ', 'hi', ' ', 'hi', ' ', 'hi', ' ', 'hi', ' ', 'hi', ' ', 'hi', ' ', 'hi', ' ', 'hi', ' ', 'hi', ' ', 'hi', ' ', 'hi', ' ', 'hi', ' ', 'hi', ' ', 'hi', ' ', 'hi', ' ', 'hi', ' ', 'hi', ' ', 'hi', ' ', 'hi', ' ', 'hi', ' ', 'hi', ' ', 'hi', ' ', 'hi', ' ', 'hi', ' ', 'hi', ' ', 'hi', ' ', 'hi', ' ', 'hi', ' ', 'hi', ' ', 'hi', ' ', 'hi', ' ', 'hi', ' ', 'hi', ' ', 'hi', ' ', 'hi', ' ', 'hi', ' ', 'hi', ' ', 'hi', ' ', 'hi', ' ', 'hi', ' ', 'hi', ' ', 'hi', ' ', 'hi', ' ', 'hi', ' ', 'hi', ' ', 'hi', ' ', 'hi', ' ', 'hi', ' ', 'hi', ' ', 'hi', ' ', 'hi', ' ', 'hi', ' ', 'hi', ' ', 'hi', ' ', 'hi', ' ', 'hi', ' ', 'hi', ' ', 'hi', ' ', 'hi', ' ', 'hi', ' ', 'hi', ' ', 'hi', ' ', 'hi', ' ', 'hi', ' ', 'hi', ' ', 'hi', ' ', 'hi', ' ', 'hi', ' ', 'hi', ' ', 'hi', ' ', 'hi', ' ', 'hi', ' ', 'hi', ' ', 'hi', ' ', 'hi', ' ', 'hi', ' ', 'hi', ' ', 'hi', ' ', 'hi', ' ', 'hi', ' ', 'hi', ' ', 'hi', ' ', 'hi', ' ', 'hi', ' ', 'hi', ' ', 'hi', ' ', 'hi', ' ', 'hi', ' ', 'hi', ' ', 'hi', ' ', 'hi', ' ', 'hi', ' ', 'hi', ' ', 'hi', ' ', 'hi', ' ', 'hi', ' ', 'hi', ' ', 'hi', ' ', 'hi', ' ', 'hi', ' ', 'hi', ' ', 'hi', ' ', 'hi', ' ', 'hi', ' ', 'hi', ' ', 'hi', ' ', 'hi', ' ', 'hi', ' ', 'hi', ' ', 'hi', ' ', 'hi', ' ', 'hi', ' ', 'hi', ' ', 'hi', ' ', 'hi', ' ', 'hi', ' ', 'hi', ' ', 'hi', ' ', 'hi', ' ', 'hi', ' ', 'hi', ' ', 'hi', ' ', 'hi', ' ', 'hi', ' ', 'hi', ' ', 'hi', ' ', 'hi', ' ', 'hi', ' ', 'hi', ' ', 'hi', ' ', 'hi', ' ', 'hi', ' ', 'hi', ' ', 'hi', ' ', 'hi', ' ', 'hi', ' ', 'hi', ' ', 'hi', ' ', 'hi', ' ', 'hi', ' ', 'hi', ' ', 'hi', ' ', 'hi', ' ', 'hi', ' ', 'hi', ' ', 'hi', ' ', 'hi', ' ', 'hi', ' ', 'hi', ' ', 'hi', ' ', 'hi', ' ', 'hi', ' ', 'hi', ' ', 'hi', ' ', 'hi', ' ', 'hi', ' ', 'hi', ' ', 'hi', ' ', 'hi', ' ', 'hi', ' ', 'hi', ' ', 'hi', ' ', 'hi', ' ', 'hi', ' ', 'hi', ' ', 'hi', ' ', 'hi', ' ', 'hi', ' ', 'hi', ' ', 'hi', ' ', 'hi', ' ', 'hi', ' ', 'hi', ' ', 'hi', ' ', 'hi', ' ', 'hi', ' ', 'hi', ' ', 'hi', ' ', 'hi', ' ', 'hi', ' ', 'hi', ' ', 'hi', ' ', 'hi', ' ', 'hi', ' ', 'hi', ' ', 'hi', ' ', 'hi', ' ', 'hi', ' ', 'hi', ' ', 'hi', ' ', 'hi', ' ', 'hi', ' ', 'hi', ' ', 'hi', ' ', 'hi', ' ', 'hi', ' ', 'hi', ' ', 'hi', ' ', 'hi', ' ', 'hi', ' ', 'hi', ' ', 'hi', ' ', 'hi', ' ', 'hi', ' ', 'hi', ' ', 'hi', ' ', 'hi', ' ', 'hi', ' ', 'hi', ' ', 'hi', ' ', 'hi', ' ', 'hi', ' ', 'hi', ' ', 'hi', ' ', 'hi', ' ', 'hi', ' ', 'hi', ' ', 'hi', ' ', 'hi', ' ', 'hi', ' ', 'hi', ' ', 'hi', ' ', 'hi', ' ', 'hi', ' ', 'hi', ' ', 'hi', ' ', 'hi', ' ', 'hi', ' ', 'hi', ' ', 'hi', ' ', 'hi', ' ', 'hi', ' ', 'hi', ' ', 'hi', ' ', 'hi', ' ', 'hi', ' ', 'hi', ' ', 'hi', ' ', 'hi', ' ', 'hi', ' ', 'hi', ' ', 'hi', ' ', 'hi', ' ', 'hi', ' ', 'hi', ' ', 'hi', ' ', 'hi', ' ', 'hi', ' ', 'hi', ' ', 'hi', ' ', 'hi', ' ', 'hi', ' ', 'hi', ' ', 'hi', ' ', 'hi', ' ', 'hi', ' ', 'hi', ' ', 'hi', ' ', 'hi', ' ', 'hi', ' ', 'hi', ' ', 'hi', ' ', 'hi', ' ', 'hi', ' ', 'hi', ' ', 'hi', ' ', 'hi', ' ', 'hi', ' ', 'hi', ' ', 'hi', ' ', 'hi', ' ', 'hi', ' ', 'hi', ' ', 'hi', ' ', 'hi', ' ', 'hi', ' ', 'hi', ' ', 'hi', ' ', 'hi', ' ', 'hi', ' ', 'hi', ' ', 'hi', ' ', 'hi', ' ', 'hi', ' ', 'hi', ' ', 'hi', ' ', 'hi', ' ', 'hi', ' ', 'hi', ' ', 'hi', ' ', 'hi', ' ', 'hi', ' ', 'hi', ' ', 'hi', ' ', 'hi', ' ', 'hi', ' ', 'hi', ' ', 'hi', ' ', 'hi', ' ', 'hi', ' ', 'hi', ' ', 'hi', ' ', 'hi', ' ', 'hi', ' ', 'hi', ' ', 'hi', ' ', 'hi', ' ', 'hi', ' ', 'hi', ' ', 'hi', ' ', 'hi', ' ', 'hi', ' ', 'hi', ' ', 'hi', ' ', 'hi', ' ', 'hi', ' ', 'hi', ' ', 'hi', ' ', 'hi', ' ', 'hi', ' ', 'hi', ' ', 'hi', ' ', 'hi', ' ', 'hi', ' ', 'hi', ' ', 'hi', ' ', 'hi', ' ', 'hi', ' ', 'hi', ' ', 'hi', ' ', 'hi', ' ', 'hi', ' ', 'hi', ' ', 'hi', ' ', 'hi', ' ', 'hi', ' ', 'hi', ' ', 'hi', ' ', 'hi', ' ', 'hi', ' ', 'hi', ' ', 'hi', ' ', 'hi', ' ', 'hi', ' ', 'hi', ' ', 'hi', ' ', 'hi', ' ', 'hi', ' ', 'hi', ' ', 'hi', ' ', 'hi', ' ', 'hi', ' ', 'hi', ' ', 'hi', ' ', 'hi', ' ', 'hi', ' ', 'hi', ' ', 'hi', ' ', 'hi', ' ', 'hi', ' ', 'hi', ' ', 'hi', ' ', 'hi', ' ', 'hi', ' ', 'hi', ' ', 'hi', ' ', 'hi', ' ', 'hi', ' ', 'hi', ' ', 'hi', ' ', 'hi', ' ', 'hi', ' ', 'hi', ' ', 'hi', ' ', 'hi', ' ', 'hi', ' ', 'hi', ' ', 'hi', ' ', 'hi', ' ', 'hi', ' ', 'hi', ' ', 'hi', ' ', 'hi', ' ', 'hi', ' ', 'hi', ' ', 'hi', ' ', 'hi', ' ', 'hi', ' ', 'hi', ' ', 'hi', ' ', 'hi', ' ', 'hi', ' ', 'hi', ' ', 'hi', ' ', 'hi', ' ', 'hi', ' ', 'hi', ' ', 'hi', ' ', 'hi', ' ', 'hi', ' ', 'hi', ' ', 'hi', ' ', 'hi', ' ', 'hi', ' ', 'hi', ' ', 'hi', ' ', 'hi', ' ', 'hi', ' ', 'hi', ' ', 'hi', ' ', 'hi', ' ', 'hi', ' ', 'hi', ' ', 'hi', ' ', 'hi', ' ', 'hi', ' ', 'hi', ' ', 'hi', ' ', 'hi', ' ', 'hi', ' ', 'hi', ' ', 'hi', ' ', 'hi', ' ', 'hi', ' ', 'hi', ' ', 'hi', ' ', 'hi', ' ', 'hi', ' ', 'hi', ' ', 'hi', ' ', 'hi', ' ', 'hi', ' ', 'hi', ' ', 'hi', ' ', 'hi', ' ', 'hi', ' ', 'hi', ' ', 'hi', ' ', 'hi', ' ', 'hi', ' ', 'hi', ' ', 'hi', ' ', 'hi', ' ', 'hi', ' ', 'hi', ' ', 'hi', ' ', 'hi', ' ', 'hi', ' ', 'hi', ' ', 'hi', ' ', 'hi', ' ', 'hi', ' ', 'hi', ' ', 'hi', ' ', 'hi', ' ', 'hi', ' ', 'hi', ' ', 'hi', ' ', 'hi', ' ', 'hi', ' ', 'hi', ' ', 'hi', ' ', 'hi', ' ', 'hi', ' ', 'hi', ' ', 'hi', ' ', 'hi', ' ', 'hi', ' ', 'hi', ' ', 'hi', ' ', 'hi', ' ', 'hi', ' ', 'hi', ' ', 'hi', ' ', 'hi', ' ', 'hi', ' ', 'hi', ' ', 'hi', ' ', 'hi', ' ', 'hi', ' ', 'hi', ' ', 'hi', ' ', 'hi', ' ', 'hi', ' ', 'hi', ' ', 'hi', ' ', 'hi', ' ', 'hi', ' ', 'hi', ' ', 'hi', ' ', 'hi', ' ', 'hi', ' ', 'hi', ' ', 'hi', ' ', 'hi', ' ', 'hi', ' ', 'hi', ' ', 'hi', ' ', 'hi', ' ', 'hi', ' ', 'hi', ' ', 'hi', ' ', 'hi', ' ', 'hi', ' ', 'hi', ' ', 'hi', ' ', 'hi', ' ', 'hi', ' ', 'hi', ' ', 'hi', ' ', 'hi', ' ', 'hi', ' ', 'hi', ' ', 'hi', ' ', 'hi', ' ', 'hi', ' ', 'hi', ' ', 'hi', ' ', 'hi', ' ', 'hi', ' ', 'hi', ' ', 'hi', ' ', 'hi', ' ', 'hi', ' ', 'hi', ' ', 'hi', ' ', 'hi', ' ', 'hi', ' ', 'hi', ' ', 'hi', ' ', 'hi', ' ', 'hi', ' ', 'hi', ' ', 'hi', ' ', 'hi', ' ', 'hi', ' ', 'hi', ' ', 'hi', ' ', 'hi', ' ', 'hi', ' ', 'hi', ' ', 'hi', ' ', 'hi', ' ', 'hi', ' ', 'hi', ' ', 'hi', ' ', 'hi', ' ', 'hi', ' ', 'hi', ' ', 'hi', ' ', 'hi', ' ', 'hi', ' ', 'hi', ' ', 'hi', ' ', 'hi', ' ', 'hi', ' ', 'hi', ' ', 'hi', ' ', 'hi', ' ', 'hi', ' ', 'hi', ' ', 'hi', ' ', 'hi', ' ', 'hi', ' ', 'hi', ' ', 'hi', ' ', 'hi', ' ', 'hi', ' ', 'hi', ' ', 'hi', ' ', 'hi', ' ', 'hi', ' ', 'hi', ' ', 'hi', ' ', 'hi', ' ', 'hi', ' ', 'hi', ' ', 'hi', ' ', 'hi', ' ', 'hi', ' ', 'hi', ' ', 'hi', ' ', 'hi', ' ', 'hi', ' ', 'hi', ' ', 'hi', ' ', 'hi', ' ', 'hi', ' ', 'hi', ' ', 'hi', ' ', 'hi', ' ', 'hi', ' ', 'hi', ' ', 'hi', ' ', 'hi', ' ', 'hi', ' ', 'hi', ' ', 'hi', ' ', 'hi', ' ', 'hi', ' ', 'hi', ' ', 'hi', ' ', 'hi', ' ', 'hi', ' ', 'hi', ' ', 'hi', ' ', 'hi', ' ', 'hi', ' ', 'hi', ' ', 'hi', ' ', 'hi', ' ', 'hi', ' ', 'hi', ' ', 'hi', ' ', 'hi', ' ', 'hi', ' ', 'hi', ' ', 'hi', ' ')\n"
     ]
    }
   ],
   "source": [
    "UserInput = input(\"Your text is:\")\n",
    "result = (UserInput, ' ') * 1000\n",
    "print(result)"
   ]
  },
  {
   "cell_type": "code",
   "execution_count": 32,
   "id": "a516e986-8fb1-47f2-9f93-cf042de185e3",
   "metadata": {},
   "outputs": [
    {
     "name": "stdin",
     "output_type": "stream",
     "text": [
      "Your text is: hi\n"
     ]
    },
    {
     "name": "stdout",
     "output_type": "stream",
     "text": [
      "hi hi hi hi hi hi hi hi hi hi hi hi hi hi hi hi hi hi hi hi hi hi hi hi hi hi hi hi hi hi hi hi hi hi hi hi hi hi hi hi hi hi hi hi hi hi hi hi hi hi hi hi hi hi hi hi hi hi hi hi hi hi hi hi hi hi hi hi hi hi hi hi hi hi hi hi hi hi hi hi hi hi hi hi hi hi hi hi hi hi hi hi hi hi hi hi hi hi hi hi hi hi hi hi hi hi hi hi hi hi hi hi hi hi hi hi hi hi hi hi hi hi hi hi hi hi hi hi hi hi hi hi hi hi hi hi hi hi hi hi hi hi hi hi hi hi hi hi hi hi hi hi hi hi hi hi hi hi hi hi hi hi hi hi hi hi hi hi hi hi hi hi hi hi hi hi hi hi hi hi hi hi hi hi hi hi hi hi hi hi hi hi hi hi hi hi hi hi hi hi hi hi hi hi hi hi hi hi hi hi hi hi hi hi hi hi hi hi hi hi hi hi hi hi hi hi hi hi hi hi hi hi hi hi hi hi hi hi hi hi hi hi hi hi hi hi hi hi hi hi hi hi hi hi hi hi hi hi hi hi hi hi hi hi hi hi hi hi hi hi hi hi hi hi hi hi hi hi hi hi hi hi hi hi hi hi hi hi hi hi hi hi hi hi hi hi hi hi hi hi hi hi hi hi hi hi hi hi hi hi hi hi hi hi hi hi hi hi hi hi hi hi hi hi hi hi hi hi hi hi hi hi hi hi hi hi hi hi hi hi hi hi hi hi hi hi hi hi hi hi hi hi hi hi hi hi hi hi hi hi hi hi hi hi hi hi hi hi hi hi hi hi hi hi hi hi hi hi hi hi hi hi hi hi hi hi hi hi hi hi hi hi hi hi hi hi hi hi hi hi hi hi hi hi hi hi hi hi hi hi hi hi hi hi hi hi hi hi hi hi hi hi hi hi hi hi hi hi hi hi hi hi hi hi hi hi hi hi hi hi hi hi hi hi hi hi hi hi hi hi hi hi hi hi hi hi hi hi hi hi hi hi hi hi hi hi hi hi hi hi hi hi hi hi hi hi hi hi hi hi hi hi hi hi hi hi hi hi hi hi hi hi hi hi hi hi hi hi hi hi hi hi hi hi hi hi hi hi hi hi hi hi hi hi hi hi hi hi hi hi hi hi hi hi hi hi hi hi hi hi hi hi hi hi hi hi hi hi hi hi hi hi hi hi hi hi hi hi hi hi hi hi hi hi hi hi hi hi hi hi hi hi hi hi hi hi hi hi hi hi hi hi hi hi hi hi hi hi hi hi hi hi hi hi hi hi hi hi hi hi hi hi hi hi hi hi hi hi hi hi hi hi hi hi hi hi hi hi hi hi hi hi hi hi hi hi hi hi hi hi hi hi hi hi hi hi hi hi hi hi hi hi hi hi hi hi hi hi hi hi hi hi hi hi hi hi hi hi hi hi hi hi hi hi hi hi hi hi hi hi hi hi hi hi hi hi hi hi hi hi hi hi hi hi hi hi hi hi hi hi hi hi hi hi hi hi hi hi hi hi hi hi hi hi hi hi hi hi hi hi hi hi hi hi hi hi hi hi hi hi hi hi hi hi hi hi hi hi hi hi hi hi hi hi hi hi hi hi hi hi hi hi hi hi hi hi hi hi hi hi hi hi hi hi hi hi hi hi hi hi hi hi hi hi hi hi hi hi hi hi hi hi hi hi hi hi hi hi hi hi hi hi hi hi hi hi hi hi hi hi hi hi hi hi hi hi hi hi hi hi hi hi hi hi hi hi hi hi hi hi hi hi hi hi hi hi hi hi hi hi hi hi hi hi hi hi hi hi hi hi hi hi hi hi hi hi hi hi hi hi hi hi hi hi hi hi hi hi hi hi hi hi hi hi hi hi hi hi hi hi hi hi hi hi hi hi hi hi hi hi hi hi hi hi hi hi hi hi hi hi hi hi hi hi hi hi hi hi hi hi hi hi hi hi hi hi hi hi hi hi hi hi hi hi hi hi hi hi hi hi hi hi hi hi hi hi hi hi hi hi hi hi hi hi hi hi hi hi hi hi hi hi hi hi hi hi hi hi hi hi hi hi hi hi hi hi hi hi hi hi hi hi hi hi hi hi hi hi hi hi hi hi hi hi hi hi hi hi hi hi hi hi hi hi hi hi hi hi hi hi hi hi hi hi hi hi hi hi hi hi hi hi hi hi hi hi hi hi hi hi hi hi hi hi hi hi hi hi hi hi \n"
     ]
    }
   ],
   "source": [
    "UserInput = input(\"Your text is:\")\n",
    "result = (UserInput + ' ') * 1000\n",
    "print(result)"
   ]
  },
  {
   "cell_type": "markdown",
   "id": "834744d9-7164-4166-8ce5-908b8ac654b9",
   "metadata": {},
   "source": [
    "<b>Ex 5.</b> Make something that asks the user to enter two words, and prints 1000 of each with spaces in between. For example, if the user enters <kbd>hello</kbd> and <kbd>hi</kbd> the program would print <kbd>hello hi hello hi hello hi hello hi hello hi...</kbd>."
   ]
  },
  {
   "cell_type": "code",
   "execution_count": 33,
   "id": "66897d2d-0000-4e85-9cb7-e681b8828cfb",
   "metadata": {},
   "outputs": [
    {
     "name": "stdin",
     "output_type": "stream",
     "text": [
      "Please enter two words: hello hi\n"
     ]
    },
    {
     "name": "stdout",
     "output_type": "stream",
     "text": [
      "hello hi hello hi hello hi hello hi hello hi hello hi hello hi hello hi hello hi hello hi hello hi hello hi hello hi hello hi hello hi hello hi hello hi hello hi hello hi hello hi hello hi hello hi hello hi hello hi hello hi hello hi hello hi hello hi hello hi hello hi hello hi hello hi hello hi hello hi hello hi hello hi hello hi hello hi hello hi hello hi hello hi hello hi hello hi hello hi hello hi hello hi hello hi hello hi hello hi hello hi hello hi hello hi hello hi hello hi hello hi hello hi hello hi hello hi hello hi hello hi hello hi hello hi hello hi hello hi hello hi hello hi hello hi hello hi hello hi hello hi hello hi hello hi hello hi hello hi hello hi hello hi hello hi hello hi hello hi hello hi hello hi hello hi hello hi hello hi hello hi hello hi hello hi hello hi hello hi hello hi hello hi hello hi hello hi hello hi hello hi hello hi hello hi hello hi hello hi hello hi hello hi hello hi hello hi hello hi hello hi hello hi hello hi hello hi hello hi hello hi hello hi hello hi hello hi hello hi hello hi hello hi hello hi hello hi hello hi hello hi hello hi hello hi hello hi hello hi hello hi hello hi hello hi hello hi hello hi hello hi hello hi hello hi hello hi hello hi hello hi hello hi hello hi hello hi hello hi hello hi hello hi hello hi hello hi hello hi hello hi hello hi hello hi hello hi hello hi hello hi hello hi hello hi hello hi hello hi hello hi hello hi hello hi hello hi hello hi hello hi hello hi hello hi hello hi hello hi hello hi hello hi hello hi hello hi hello hi hello hi hello hi hello hi hello hi hello hi hello hi hello hi hello hi hello hi hello hi hello hi hello hi hello hi hello hi hello hi hello hi hello hi hello hi hello hi hello hi hello hi hello hi hello hi hello hi hello hi hello hi hello hi hello hi hello hi hello hi hello hi hello hi hello hi hello hi hello hi hello hi hello hi hello hi hello hi hello hi hello hi hello hi hello hi hello hi hello hi hello hi hello hi hello hi hello hi hello hi hello hi hello hi hello hi hello hi hello hi hello hi hello hi hello hi hello hi hello hi hello hi hello hi hello hi hello hi hello hi hello hi hello hi hello hi hello hi hello hi hello hi hello hi hello hi hello hi hello hi hello hi hello hi hello hi hello hi hello hi hello hi hello hi hello hi hello hi hello hi hello hi hello hi hello hi hello hi hello hi hello hi hello hi hello hi hello hi hello hi hello hi hello hi hello hi hello hi hello hi hello hi hello hi hello hi hello hi hello hi hello hi hello hi hello hi hello hi hello hi hello hi hello hi hello hi hello hi hello hi hello hi hello hi hello hi hello hi hello hi hello hi hello hi hello hi hello hi hello hi hello hi hello hi hello hi hello hi hello hi hello hi hello hi hello hi hello hi hello hi hello hi hello hi hello hi hello hi hello hi hello hi hello hi hello hi hello hi hello hi hello hi hello hi hello hi hello hi hello hi hello hi hello hi hello hi hello hi hello hi hello hi hello hi hello hi hello hi hello hi hello hi hello hi hello hi hello hi hello hi hello hi hello hi hello hi hello hi hello hi hello hi hello hi hello hi hello hi hello hi hello hi hello hi hello hi hello hi hello hi hello hi hello hi hello hi hello hi hello hi hello hi hello hi hello hi hello hi hello hi hello hi hello hi hello hi hello hi hello hi hello hi hello hi hello hi hello hi hello hi hello hi hello hi hello hi hello hi hello hi hello hi hello hi hello hi hello hi hello hi hello hi hello hi hello hi hello hi hello hi hello hi hello hi hello hi hello hi hello hi hello hi hello hi hello hi hello hi hello hi hello hi hello hi hello hi hello hi hello hi hello hi hello hi hello hi hello hi hello hi hello hi hello hi hello hi hello hi hello hi hello hi hello hi hello hi hello hi hello hi hello hi hello hi hello hi hello hi hello hi hello hi hello hi hello hi hello hi hello hi hello hi hello hi hello hi hello hi hello hi hello hi hello hi hello hi hello hi hello hi hello hi hello hi hello hi hello hi hello hi hello hi hello hi hello hi hello hi hello hi hello hi hello hi hello hi hello hi hello hi hello hi hello hi hello hi hello hi hello hi hello hi hello hi hello hi hello hi hello hi hello hi hello hi hello hi hello hi hello hi hello hi hello hi hello hi hello hi hello hi hello hi hello hi hello hi hello hi hello hi hello hi hello hi hello hi hello hi hello hi hello hi hello hi hello hi hello hi hello hi hello hi hello hi hello hi hello hi hello hi hello hi hello hi hello hi hello hi hello hi hello hi hello hi hello hi hello hi hello hi hello hi hello hi hello hi hello hi hello hi hello hi hello hi hello hi hello hi hello hi hello hi hello hi hello hi hello hi hello hi hello hi hello hi hello hi hello hi hello hi hello hi hello hi hello hi hello hi hello hi hello hi hello hi hello hi hello hi hello hi hello hi hello hi hello hi hello hi hello hi hello hi hello hi hello hi hello hi hello hi hello hi hello hi hello hi hello hi hello hi hello hi hello hi hello hi hello hi hello hi hello hi hello hi hello hi hello hi hello hi hello hi hello hi hello hi hello hi hello hi hello hi hello hi hello hi hello hi hello hi hello hi hello hi hello hi hello hi hello hi hello hi hello hi hello hi hello hi hello hi hello hi hello hi hello hi hello hi hello hi hello hi hello hi hello hi hello hi hello hi hello hi hello hi hello hi hello hi hello hi hello hi hello hi hello hi hello hi hello hi hello hi hello hi hello hi hello hi hello hi hello hi hello hi hello hi hello hi hello hi hello hi hello hi hello hi hello hi hello hi hello hi hello hi hello hi hello hi hello hi hello hi hello hi hello hi hello hi hello hi hello hi hello hi hello hi hello hi hello hi hello hi hello hi hello hi hello hi hello hi hello hi hello hi hello hi hello hi hello hi hello hi hello hi hello hi hello hi hello hi hello hi hello hi hello hi hello hi hello hi hello hi hello hi hello hi hello hi hello hi hello hi hello hi hello hi hello hi hello hi hello hi hello hi hello hi hello hi hello hi hello hi hello hi hello hi hello hi hello hi hello hi hello hi hello hi hello hi hello hi hello hi hello hi hello hi hello hi hello hi hello hi hello hi hello hi hello hi hello hi hello hi hello hi hello hi hello hi hello hi hello hi hello hi hello hi hello hi hello hi hello hi hello hi hello hi hello hi hello hi hello hi hello hi hello hi hello hi hello hi hello hi hello hi hello hi hello hi hello hi hello hi hello hi hello hi hello hi hello hi hello hi hello hi hello hi hello hi hello hi hello hi hello hi hello hi hello hi hello hi hello hi hello hi hello hi hello hi hello hi hello hi hello hi hello hi hello hi hello hi hello hi hello hi hello hi hello hi hello hi hello hi hello hi hello hi hello hi hello hi hello hi hello hi hello hi hello hi hello hi hello hi hello hi hello hi hello hi hello hi hello hi hello hi hello hi hello hi hello hi hello hi hello hi hello hi hello hi hello hi hello hi hello hi hello hi hello hi hello hi hello hi hello hi hello hi hello hi hello hi hello hi hello hi hello hi hello hi hello hi hello hi hello hi hello hi hello hi hello hi hello hi hello hi hello hi hello hi hello hi hello hi hello hi hello hi hello hi hello hi hello hi hello hi hello hi hello hi hello hi hello hi hello hi hello hi hello hi hello hi hello hi hello hi hello hi hello hi hello hi hello hi hello hi hello hi hello hi hello hi hello hi hello hi hello hi hello hi hello hi hello hi hello hi hello hi hello hi hello hi hello hi hello hi hello hi hello hi hello hi hello hi hello hi hello hi hello hi hello hi hello hi hello hi hello hi hello hi hello hi hello hi hello hi hello hi hello hi hello hi hello hi hello hi hello hi hello hi hello hi hello hi hello hi hello hi hello hi hello hi hello hi hello hi hello hi hello hi hello hi hello hi hello hi hello hi hello hi hello hi hello hi hello hi hello hi hello hi hello hi hello hi hello hi hello hi hello hi hello hi hello hi hello hi hello hi hello hi hello hi hello hi hello hi hello hi hello hi hello hi hello hi hello hi hello hi hello hi hello hi hello hi hello hi hello hi hello hi hello hi hello hi hello hi hello hi hello hi hello hi hello hi hello hi hello hi hello hi hello hi hello hi hello hi hello hi hello hi hello hi hello hi hello hi hello hi hello hi hello hi hello hi hello hi hello hi hello hi hello hi hello hi hello hi hello hi hello hi hello hi hello hi hello hi hello hi hello hi hello hi hello hi hello hi hello hi hello hi hello hi hello hi hello hi hello hi hello hi hello hi hello hi hello hi hello hi hello hi hello hi hello hi hello hi hello hi hello hi hello hi hello hi hello hi hello hi hello hi hello hi hello hi hello hi hello hi hello hi hello hi hello hi hello hi hello hi hello hi hello hi hello hi hello hi hello hi hello hi hello hi hello hi hello hi hello hi hello hi hello hi hello hi hello hi hello hi hello hi hello hi hello hi hello hi hello hi hello hi hello hi hello hi hello hi hello hi hello hi hello hi hello hi hello hi hello hi hello hi hello hi hello hi hello hi hello hi hello hi hello hi hello hi hello hi hello hi hello hi hello hi hello hi \n"
     ]
    }
   ],
   "source": [
    "UserInput = input(\"Please enter two words:\")\n",
    "result = (UserInput + ' ') * 1000\n",
    "print(result)"
   ]
  },
  {
   "cell_type": "markdown",
   "id": "c0ada08d-73a4-4bcb-85cb-ff2290510fdc",
   "metadata": {},
   "source": [
    "<b>Ex 6.</b> Make a program that asks for a password and prints <kbd>Welcome!</kbd>, <kbd>Access denied</kbd> or <kbd>You didn't enter anything</kbd> depending on whether the user entered the correct password, a wrong password, or nothing at all by pressing Enter without typing anything. "
   ]
  },
  {
   "cell_type": "code",
   "execution_count": 43,
   "id": "7dab7e22-8180-4166-809b-bf4b82459762",
   "metadata": {
    "collapsed": true,
    "jupyter": {
     "outputs_hidden": true,
     "source_hidden": true
    },
    "tags": []
   },
   "outputs": [
    {
     "name": "stdin",
     "output_type": "stream",
     "text": [
      "Please enter your password: \n"
     ]
    },
    {
     "name": "stdout",
     "output_type": "stream",
     "text": [
      "You didn't enter anything\n"
     ]
    }
   ],
   "source": [
    "password = input(\"Please enter your password:\")\n",
    "\n",
    "if password == '489ijd23':\n",
    "    print(\"Welcome!\")\n",
    "elif bool(password) == False:\n",
    "    print(\"You didn't enter anything\")\n",
    "    \n",
    "else:\n",
    "    print(\"Access denied\")"
   ]
  },
  {
   "cell_type": "code",
   "execution_count": 44,
   "id": "5b2b2167-f936-4a41-9c65-03c4fc9a0cb7",
   "metadata": {},
   "outputs": [
    {
     "name": "stdin",
     "output_type": "stream",
     "text": [
      "Please enter your password: \n"
     ]
    },
    {
     "name": "stdout",
     "output_type": "stream",
     "text": [
      "You didn't enter anything\n"
     ]
    }
   ],
   "source": [
    "password = input(\"Please enter your password:\")\n",
    "\n",
    "if password == '489ijd23':\n",
    "    print(\"Welcome!\")\n",
    "elif password == \"\":\n",
    "    print(\"You didn't enter anything\")\n",
    "    \n",
    "else:\n",
    "    print(\"Access denied\")"
   ]
  },
  {
   "cell_type": "markdown",
   "id": "70002971-4f9b-497f-a8c6-c78b3e3f8511",
   "metadata": {},
   "source": [
    "<h2>2.1 Functions</h2>"
   ]
  },
  {
   "cell_type": "markdown",
   "id": "a00d528c-e40d-4d04-a1e4-51999720d4f6",
   "metadata": {},
   "source": [
    "<b>Exercises</b>"
   ]
  },
  {
   "cell_type": "markdown",
   "id": "2bf40801-23b7-4dbe-9326-6c0bbd089dd7",
   "metadata": {},
   "source": [
    "#### 1. Greeter\n",
    "- Write a function that takes in a person's name, and prints out a greeting.\n",
    "    - The greeting must be at least three lines, and the person's name must be in each line.\n",
    "- Use your function to greet at least three different people.\n",
    "- **Bonus:** Store your three people in a list, and call your function from a `for` loop."
   ]
  },
  {
   "cell_type": "code",
   "execution_count": 47,
   "id": "886e4836-d10d-4be8-98c7-8e8ee8338819",
   "metadata": {},
   "outputs": [],
   "source": [
    "def greeter(name):\n",
    "    print(\"\\nHi\", name)\n",
    "    print(\"Thank you for your work\", name)\n",
    "    print(\"We are happy that you are with us\", name)"
   ]
  },
  {
   "cell_type": "code",
   "execution_count": 49,
   "id": "fe5c16f0-8e99-40c8-adf6-e07e8da83bbc",
   "metadata": {
    "collapsed": true,
    "jupyter": {
     "outputs_hidden": true
    },
    "tags": []
   },
   "outputs": [
    {
     "name": "stdout",
     "output_type": "stream",
     "text": [
      "\n",
      "Hi Tom\n",
      "Thank you for your work Tom\n",
      "We are happy that you are with us Tom\n",
      "\n",
      "Hi John\n",
      "Thank you for your work John\n",
      "We are happy that you are with us John\n",
      "\n",
      "Hi Alice\n",
      "Thank you for your work Alice\n",
      "We are happy that you are with us Alice\n"
     ]
    }
   ],
   "source": [
    "greeter('Tom')\n",
    "greeter('John')\n",
    "greeter('Alice')"
   ]
  },
  {
   "cell_type": "code",
   "execution_count": 53,
   "id": "34de76c0-5ede-4a38-8cd4-1954bab7abb4",
   "metadata": {},
   "outputs": [],
   "source": [
    "names_list = ['Alex', 'Emil', 'Jacek']"
   ]
  },
  {
   "cell_type": "code",
   "execution_count": 57,
   "id": "256f3a15-f21e-49f9-887f-9e14cff2ae45",
   "metadata": {
    "collapsed": true,
    "jupyter": {
     "outputs_hidden": true
    },
    "tags": []
   },
   "outputs": [
    {
     "name": "stdout",
     "output_type": "stream",
     "text": [
      "\n",
      "Hi Alex\n",
      "Thank you for your work Alex\n",
      "We are happy that you are with us Alex\n",
      "\n",
      "Hi Emil\n",
      "Thank you for your work Emil\n",
      "We are happy that you are with us Emil\n",
      "\n",
      "Hi Jacek\n",
      "Thank you for your work Jacek\n",
      "We are happy that you are with us Jacek\n"
     ]
    }
   ],
   "source": [
    "for name in names_list:\n",
    "    greeter(name)"
   ]
  },
  {
   "cell_type": "code",
   "execution_count": 58,
   "id": "e3b542a6-44c1-4b32-965d-3eb53d6981fd",
   "metadata": {
    "collapsed": true,
    "jupyter": {
     "outputs_hidden": true
    },
    "tags": []
   },
   "outputs": [
    {
     "name": "stdout",
     "output_type": "stream",
     "text": [
      "\n",
      "Hi Alex\n",
      "Thank you for your work Alex\n",
      "We are happy that you are with us Alex\n",
      "\n",
      "Hi Emil\n",
      "Thank you for your work Emil\n",
      "We are happy that you are with us Emil\n",
      "\n",
      "Hi Jacek\n",
      "Thank you for your work Jacek\n",
      "We are happy that you are with us Jacek\n"
     ]
    }
   ],
   "source": [
    "def greeter(name):\n",
    "    print(\"\\nHi\", name)\n",
    "    print(\"Thank you for your work\", name)\n",
    "    print(\"We are happy that you are with us\", name)\n",
    "    \n",
    "names_list = ['Alex', 'Emil', 'Jacek']\n",
    "\n",
    "for name in names_list:\n",
    "    greeter(name)"
   ]
  },
  {
   "cell_type": "markdown",
   "id": "19076d20-9a94-4847-bf16-852003706b9a",
   "metadata": {},
   "source": [
    "<b>Best solution.</b> Alternative from ChatGPT:"
   ]
  },
  {
   "cell_type": "code",
   "execution_count": 59,
   "id": "686d0de9-8ba9-46a9-95f3-11062bc2d081",
   "metadata": {},
   "outputs": [
    {
     "name": "stdout",
     "output_type": "stream",
     "text": [
      "Hello Alice!\n",
      "How are you doing, Alice?\n",
      "It's nice to meet you, Alice.\n",
      "\n",
      "Hello Bob!\n",
      "How are you doing, Bob?\n",
      "It's nice to meet you, Bob.\n",
      "\n",
      "Hello Charlie!\n",
      "How are you doing, Charlie?\n",
      "It's nice to meet you, Charlie.\n",
      "\n"
     ]
    }
   ],
   "source": [
    "def greeter(name):\n",
    "    print(f\"Hello {name}!\")\n",
    "    print(f\"How are you doing, {name}?\")\n",
    "    print(f\"It's nice to meet you, {name}.\\n\")\n",
    "\n",
    "people = [\"Alice\", \"Bob\", \"Charlie\"]\n",
    "\n",
    "for person in people:\n",
    "    greeter(person)"
   ]
  },
  {
   "cell_type": "markdown",
   "id": "9617b7e8-07df-4267-9a2f-285cef10cab9",
   "metadata": {},
   "source": [
    "#### 2. Full Names\n",
    "- Write a function that takes in a first name and a last name, and prints out a nicely formatted full name, in a sentence. Your sentence could be as simple as, \"Hello, *full\\_name*.\"\n",
    "- Call your function three times, with a different name each time."
   ]
  },
  {
   "cell_type": "code",
   "execution_count": 6,
   "id": "9a98479b-8d0e-4b32-ab59-61bc7d623e84",
   "metadata": {},
   "outputs": [],
   "source": [
    "def names(voornaam, achternaam):\n",
    "    print(f\"Hello, {voornaam} {achternaam}\")"
   ]
  },
  {
   "cell_type": "code",
   "execution_count": 8,
   "id": "3708f161-4731-4320-b958-39734064e44b",
   "metadata": {},
   "outputs": [
    {
     "name": "stdout",
     "output_type": "stream",
     "text": [
      "Hello, Stefan Vanli\n"
     ]
    }
   ],
   "source": [
    "names(\"Stefan\", \"Vanli\")"
   ]
  },
  {
   "cell_type": "code",
   "execution_count": 12,
   "id": "5533753d-1c09-4f0e-b089-ad5c8f2d2be9",
   "metadata": {},
   "outputs": [],
   "source": [
    "people_list = [(\"Alex\", \"De Jong\"), (\"John\", \"van Maarten\"), (\"Louis\", \"Verbeek\")]"
   ]
  },
  {
   "cell_type": "code",
   "execution_count": 14,
   "id": "b95e5c45-2954-4703-b076-7c91b220f7ee",
   "metadata": {},
   "outputs": [
    {
     "name": "stdout",
     "output_type": "stream",
     "text": [
      "Hello, Alex De Jong\n",
      "Hello, John van Maarten\n",
      "Hello, Louis Verbeek\n"
     ]
    }
   ],
   "source": [
    "for voornaam, achternaam in people_list:\n",
    "    names(voornaam, achternaam)"
   ]
  },
  {
   "cell_type": "code",
   "execution_count": 15,
   "id": "7de6ddc4-e95e-44a1-9d37-14e5667839a6",
   "metadata": {},
   "outputs": [
    {
     "name": "stdout",
     "output_type": "stream",
     "text": [
      "Hello, Alex De Jong\n",
      "Hello, John van Maarten\n",
      "Hello, Louis Verbeek\n"
     ]
    }
   ],
   "source": [
    "def names(voornaam, achternaam):\n",
    "    print(f\"Hello, {voornaam} {achternaam}\")\n",
    "    \n",
    "people_list = [(\"Alex\", \"De Jong\"), (\"John\", \"van Maarten\"), (\"Louis\", \"Verbeek\")]\n",
    "\n",
    "for voornaam, achternaam in people_list:\n",
    "    names(voornaam, achternaam)"
   ]
  },
  {
   "cell_type": "markdown",
   "id": "6755201e-44ff-4fe9-9c38-7a5b4a9c795d",
   "metadata": {},
   "source": [
    "Variation of this exercise:"
   ]
  },
  {
   "cell_type": "code",
   "execution_count": 17,
   "id": "d4f3afcf-b16e-41b2-9cff-b25f88727c7e",
   "metadata": {},
   "outputs": [
    {
     "name": "stdout",
     "output_type": "stream",
     "text": [
      "Alex De Jong is 34 years old.\n",
      "He is our Software Engineer.\n",
      "Who works from Paris.\n",
      "\n",
      "John Curtis is 45 years old.\n",
      "He is our Legal Advisor.\n",
      "Who works from London.\n",
      "\n",
      "Louis Verbeek is 25 years old.\n",
      "He is our HR-intern.\n",
      "Who works from Brussels.\n",
      "\n",
      "Hans Stein is 33 years old.\n",
      "He is our Sales Manager.\n",
      "Who works from Düsseldorf.\n",
      "\n"
     ]
    }
   ],
   "source": [
    "def team(name, surname, position, age, city):\n",
    "    print(f\"{name} {surname} is {age} years old.\")\n",
    "    print(f\"He is our {position}.\")\n",
    "    print(f\"Who works from {city}.\\n\")\n",
    "\n",
    "team_list = [('Alex', 'De Jong', 'Software Engineer', 34, 'Paris'), ('John', 'Curtis', 'Legal Advisor', 45, 'London'), ('Louis', 'Verbeek', 'HR-intern', 25, 'Brussels'), ('Hans', 'Stein', 'Sales Manager', 33, 'Düsseldorf')]\n",
    "\n",
    "for name, surname, position, age, city in team_list:\n",
    "    team(name, surname, position, age, city)"
   ]
  },
  {
   "cell_type": "markdown",
   "id": "90dfbaa0-9a4f-4206-9331-ff300030e621",
   "metadata": {},
   "source": [
    "#### 3. Addition Calculator\n",
    "- Write a function that takes in two numbers, and adds them together. Make your function print out a sentence showing the two numbers, and the result.\n",
    "- Call your function with three different sets of numbers."
   ]
  },
  {
   "cell_type": "code",
   "execution_count": 27,
   "id": "7d163ae1-b8f4-49d4-84cf-1462c7347e53",
   "metadata": {},
   "outputs": [
    {
     "name": "stdout",
     "output_type": "stream",
     "text": [
      "The Addition Calculator function takes 1 and 10 and summs them. The result for these two numbers is 11.\n",
      "\n",
      "The Addition Calculator function takes 20 and 2 and summs them. The result for these two numbers is 22.\n",
      "\n",
      "The Addition Calculator function takes 30 and -2 and summs them. The result for these two numbers is 28.\n",
      "\n"
     ]
    }
   ],
   "source": [
    "def addition_calc(number1, number2):\n",
    "    print(f\"The Addition Calculator function takes {number1} and {number2} and summs them. The result for these two numbers is {number1 + number2}.\\n\")\n",
    "    \n",
    "number_list = [(1, 10), (20, 2), (30, -2)]\n",
    "\n",
    "for number1, number2 in number_list:\n",
    "    addition_calc(number1, number2)"
   ]
  },
  {
   "cell_type": "code",
   "execution_count": 28,
   "id": "c9934bc5-72a6-4a1a-a20e-9e241e30a393",
   "metadata": {},
   "outputs": [
    {
     "name": "stdout",
     "output_type": "stream",
     "text": [
      "The Addition Calculator function takes 1 and 10 and summs them. The result for these two numbers is 11.\n",
      "\n"
     ]
    }
   ],
   "source": [
    "addition_calc(1, 10)"
   ]
  },
  {
   "cell_type": "markdown",
   "id": "48d95153-2ddc-43c0-a210-b2f3f420025d",
   "metadata": {},
   "source": [
    "Alternative:"
   ]
  },
  {
   "cell_type": "code",
   "execution_count": 32,
   "id": "1eb94644-b20d-4fd9-b21c-b5c808cbce0a",
   "metadata": {},
   "outputs": [
    {
     "name": "stdout",
     "output_type": "stream",
     "text": [
      "1 + 10 = 11\n",
      "\n",
      "20 + 2 = 22\n",
      "\n",
      "30 + -2 = 28\n",
      "\n"
     ]
    }
   ],
   "source": [
    "def addition_calc2(number1, number2):\n",
    "    print(f\"{number1} + {number2} = {number1 + number2}\\n\")\n",
    "    \n",
    "number_list = [(1, 10), (20, 2), (30, -2)]\n",
    "\n",
    "for number1, number2 in number_list:\n",
    "    addition_calc2(number1, number2)"
   ]
  },
  {
   "cell_type": "markdown",
   "id": "1f617bbd-4e0f-4177-96fc-6780df4f07f6",
   "metadata": {},
   "source": [
    "#### 4. Return Calculator\n",
    "- Modify *Addition Calculator* so that your function returns the sum of the two numbers. The printing should happen outside of the function."
   ]
  },
  {
   "cell_type": "code",
   "execution_count": 33,
   "id": "e4a3e6a5-589c-4b52-82d5-387f75f072c7",
   "metadata": {},
   "outputs": [
    {
     "name": "stdout",
     "output_type": "stream",
     "text": [
      "11\n",
      "\n",
      "22\n",
      "\n",
      "28\n",
      "\n"
     ]
    }
   ],
   "source": [
    "def addition_calc3(number1, number2):\n",
    "    print(f\"{number1 + number2}\\n\")\n",
    "    \n",
    "number_list = [(1, 10), (20, 2), (30, -2)]\n",
    "\n",
    "for number1, number2 in number_list:\n",
    "    addition_calc3(number1, number2)"
   ]
  },
  {
   "cell_type": "markdown",
   "id": "a97fe696-6d82-460d-a64f-d5b8aae2277a",
   "metadata": {},
   "source": [
    "### Default argument values / default values:"
   ]
  },
  {
   "cell_type": "code",
   "execution_count": 35,
   "id": "16982811-fd0d-4279-bfca-b5cf0c095e28",
   "metadata": {},
   "outputs": [
    {
     "name": "stdout",
     "output_type": "stream",
     "text": [
      "22\n",
      "\n"
     ]
    }
   ],
   "source": [
    "def default_value(number1=10, number2=12): # The default value for number1 is 10 and for number2 is 12\n",
    "    print(f\"{number1 + number2}\\n\")\n",
    "    \n",
    "default_value()"
   ]
  },
  {
   "cell_type": "markdown",
   "id": "ff865b7e-3582-46b7-bc19-410d3ca6b641",
   "metadata": {},
   "source": [
    "<h1>Exercises</h1>"
   ]
  },
  {
   "cell_type": "markdown",
   "id": "2b79d24a-4196-4ff9-a960-6a87a9330a18",
   "metadata": {},
   "source": [
    "#### 1. Games\n",
    "- Write a function that accepts the name of a game and prints a statement such as, \"I like playing chess!\"\n",
    "- Give the argument a default value, such as `chess`.\n",
    "- Call your function at least three times. Make sure at least one of the calls includes an argument, and at least one call includes no arguments."
   ]
  },
  {
   "cell_type": "code",
   "execution_count": 6,
   "id": "356540e6-41b2-46ce-9eec-7e5379985be9",
   "metadata": {},
   "outputs": [
    {
     "name": "stdout",
     "output_type": "stream",
     "text": [
      "I like playing basketball!\n",
      "I like playing football!\n",
      "I like playing monopoly!\n"
     ]
    }
   ],
   "source": [
    "def games(game = \"chess\"):\n",
    "    print(f\"I like playing {game}!\")\n",
    "\n",
    "games_list = ['basketball', 'football', 'monopoly']\n",
    "\n",
    "for game in games_list:\n",
    "    games(game)"
   ]
  },
  {
   "cell_type": "code",
   "execution_count": 10,
   "id": "4b2b082e-984f-449e-8bd9-47c5d1aa20ec",
   "metadata": {},
   "outputs": [
    {
     "name": "stdout",
     "output_type": "stream",
     "text": [
      "I like playing chess!\n"
     ]
    }
   ],
   "source": [
    "games()"
   ]
  },
  {
   "cell_type": "markdown",
   "id": "bdc46f25-bccc-405b-87fb-febfcdc8b889",
   "metadata": {},
   "source": [
    "#### 2. Favorite Movie\n",
    "- Write a function that accepts the name of a movie, and prints a statement such as, \"My favorite movie is The Princess Bride.\"\n",
    "- Give the argument a default value, such as `The Princess Bride`.\n",
    "- Call your function at least three times. Make sure at least one of the calls includes an argument, and at least one call includes no arguments."
   ]
  },
  {
   "cell_type": "code",
   "execution_count": 12,
   "id": "ff6d336e-5882-4a77-bfbf-814e1bafb731",
   "metadata": {},
   "outputs": [
    {
     "name": "stdout",
     "output_type": "stream",
     "text": [
      "My favorite movie is The Princess Bride.\n",
      "My favorite movie is Titanic.\n",
      "My favorite movie is Gattaca.\n"
     ]
    }
   ],
   "source": [
    "def fav_movie(movie = \"The Princess Bride\"):\n",
    "    print(f\"My favorite movie is {movie}.\")\n",
    "\n",
    "fav_movie()\n",
    "fav_movie(\"Titanic\")\n",
    "fav_movie(\"Gattaca\")"
   ]
  },
  {
   "cell_type": "markdown",
   "id": "7a30b9ed-cae0-4869-adfa-ca787f296f0b",
   "metadata": {},
   "source": [
    "#### 3. Favorite Colors\n",
    "- Write a function that takes two arguments, a person's name and their favorite color. The function should print out a statement such as \"Hillary's favorite color is blue.\"\n",
    "- Call your function three times, with a different person and color each time."
   ]
  },
  {
   "cell_type": "code",
   "execution_count": 17,
   "id": "b32c3e33-5b83-470c-ba24-3af902d7001a",
   "metadata": {},
   "outputs": [
    {
     "name": "stdout",
     "output_type": "stream",
     "text": [
      "John's favorite color is blue.\n",
      "Alice's favorite color is yellow.\n",
      "Tom's favorite color is orange.\n",
      "George's favorite color is black.\n"
     ]
    }
   ],
   "source": [
    "def fav_color(name, color):\n",
    "    print(f\"{name}'s favorite color is {color}.\")\n",
    "    \n",
    "fav_color(\"John\", \"blue\")\n",
    "fav_color(\"Alice\", \"yellow\")\n",
    "fav_color(\"Tom\", \"orange\")\n",
    "fav_color(color = \"black\", name = \"George\")"
   ]
  },
  {
   "cell_type": "markdown",
   "id": "24747ad5-9565-4973-915e-926aab616ca5",
   "metadata": {},
   "source": [
    "#### Mixing positional and keyword arguments\n"
   ]
  },
  {
   "cell_type": "code",
   "execution_count": 20,
   "id": "4be9a20f-00d3-43b8-9db5-d4e8e722de23",
   "metadata": {},
   "outputs": [
    {
     "name": "stdout",
     "output_type": "stream",
     "text": [
      "First name:  brian\n",
      "Last name:  kernighan\n",
      "Favorite language:  C\n",
      "\n",
      "\n",
      "First name:  adele\n",
      "Last name:  goldberg\n",
      "Age:  68\n",
      "Favorite language:  Smalltalk\n",
      "\n",
      "\n",
      "First name:  dennis\n",
      "Last name:  ritchie\n",
      "Favorite language:  C\n",
      "Has died:  2011\n",
      "\n",
      "\n",
      "First name:  guido\n",
      "Last name:  van rossum\n",
      "Favorite language:  Python\n",
      "\n",
      "\n"
     ]
    }
   ],
   "source": [
    "def describe_person(first_name, last_name, age=None, \n",
    "                    favorite_language=None, died=None):\n",
    "    \"\"\"\n",
    "    This function takes in a person's first and last name, their age, \n",
    "    and their favourite language.\n",
    "    It then prints this information out in a simple format.\n",
    "    \"\"\"\n",
    "    \n",
    "    print(\"First name: \", first_name)\n",
    "    print(\"Last name: \", last_name)\n",
    "    \n",
    "    # Optional information:\n",
    "    if age:\n",
    "        print(\"Age: \", age)\n",
    "    if favorite_language:\n",
    "        print(\"Favorite language: \", favorite_language)\n",
    "    if died:\n",
    "        print(\"Has died: \", died)\n",
    "    # Blank line at end.\n",
    "    print(\"\\n\")\n",
    "\n",
    "describe_person('brian', 'kernighan', favorite_language='C')\n",
    "describe_person('adele', 'goldberg', age=68, favorite_language='Smalltalk')\n",
    "describe_person('dennis', 'ritchie', favorite_language='C', died=2011)\n",
    "describe_person('guido', 'van rossum', favorite_language='Python')"
   ]
  },
  {
   "cell_type": "markdown",
   "id": "5e4c9d8c-d1f5-48a4-9b95-af2f29bc43fa",
   "metadata": {},
   "source": [
    "<h1>Exercises</h1>"
   ]
  },
  {
   "cell_type": "markdown",
   "id": "098270e8-d38f-4110-9d3c-0ae76e91e33c",
   "metadata": {},
   "source": [
    "#### 1. Sports Teams\n",
    "- Write a function that takes in two arguments, the name of a city and the name of a sports team from that city.\n",
    "- Call your function three times, using a mix of positional and keyword arguments."
   ]
  },
  {
   "cell_type": "code",
   "execution_count": 28,
   "id": "3d03500d-1c99-4828-80b1-b969d9c54e22",
   "metadata": {},
   "outputs": [
    {
     "name": "stdout",
     "output_type": "stream",
     "text": [
      "City: Moscow\n",
      "Sports team: Dinamo\n",
      "\n",
      "City: Moscow\n",
      "Sports team: Spartak\n",
      "\n",
      "City: Moscow\n",
      "Sports team: CSKA\n",
      "\n"
     ]
    }
   ],
   "source": [
    "def sports_teams(city, team):\n",
    "    print(f\"City: {city}\")\n",
    "    print(f\"Sports team: {team}\\n\")\n",
    "\n",
    "sports_teams(\"Moscow\", \"Dinamo\")\n",
    "sports_teams(city=\"Moscow\", team=\"Spartak\")\n",
    "sports_teams(team=\"CSKA\", city=\"Moscow\")"
   ]
  },
  {
   "cell_type": "markdown",
   "id": "bc7b48d9-5d20-4152-88eb-42e25a3c6b82",
   "metadata": {},
   "source": [
    "#### 2. World Languages\n",
    "- Write a function that takes in two arguments, the name of a country and a major language spoken there.\n",
    "- Call your function three times, using a mix of positional and keyword arguments."
   ]
  },
  {
   "cell_type": "code",
   "execution_count": 31,
   "id": "3fe965f7-1a76-4bf1-bf9a-345011f8f727",
   "metadata": {},
   "outputs": [
    {
     "name": "stdout",
     "output_type": "stream",
     "text": [
      "The major language in Russia is Russian.\n",
      "\n",
      "The major language in France is French.\n",
      "\n",
      "The major language in Italy is Italian.\n",
      "\n"
     ]
    }
   ],
   "source": [
    "def world_languages(country, language):\n",
    "    print(f\"The major language in {country} is {language}.\\n\")\n",
    "\n",
    "world_languages(\"Russia\", \"Russian\")\n",
    "world_languages(language=\"French\", country=\"France\")\n",
    "world_languages(\"Italy\", language=\"Italian\")"
   ]
  },
  {
   "cell_type": "markdown",
   "id": "10200823-588b-4b9a-911b-a287ea9eb8ce",
   "metadata": {},
   "source": [
    "# The \"main\" function"
   ]
  },
  {
   "cell_type": "code",
   "execution_count": 17,
   "id": "5db8e512-e188-4b22-bf88-1bba06ff86f6",
   "metadata": {},
   "outputs": [
    {
     "name": "stdin",
     "output_type": "stream",
     "text": [
      "Enter a number:  2\n"
     ]
    },
    {
     "name": "stdout",
     "output_type": "stream",
     "text": [
      "Square of 2 is 4\n",
      "Cube of 2 is 8\n"
     ]
    }
   ],
   "source": [
    "def calculate_square(number):\n",
    "    return number**2\n",
    "\n",
    "def calculate_cube(number):\n",
    "    return number**3\n",
    "\n",
    "def main():\n",
    "    num = int(input(\"Enter a number: \"))\n",
    "    print(\"Square of\", num, \"is\", calculate_square(num))\n",
    "    print(\"Cube of\", num, \"is\", calculate_cube(num))\n",
    "\n",
    "if __name__ == '__main__':\n",
    "    main()"
   ]
  },
  {
   "cell_type": "code",
   "execution_count": 4,
   "id": "aa9127ed-f333-46b3-aecd-73ebc1dfddcf",
   "metadata": {},
   "outputs": [
    {
     "data": {
      "text/plain": [
       "4"
      ]
     },
     "execution_count": 4,
     "metadata": {},
     "output_type": "execute_result"
    }
   ],
   "source": [
    "calculate_square(2)"
   ]
  },
  {
   "cell_type": "code",
   "execution_count": 7,
   "id": "34144527-6de8-4b73-a4b3-a557d62d03c3",
   "metadata": {},
   "outputs": [
    {
     "name": "stdin",
     "output_type": "stream",
     "text": [
      "Enter a number:  4\n"
     ]
    },
    {
     "name": "stdout",
     "output_type": "stream",
     "text": [
      "Square of 4 is 16\n",
      "Cube of 4 is 64\n"
     ]
    }
   ],
   "source": [
    "main()"
   ]
  },
  {
   "cell_type": "code",
   "execution_count": 15,
   "id": "47ac34d6-4baa-4f58-a061-3fbc53518c34",
   "metadata": {},
   "outputs": [],
   "source": [
    "def calculate_square(number):\n",
    "    return number**2\n",
    "\n",
    "def calculate_cube(number):\n",
    "    return number**3\n",
    "\n",
    "def main():\n",
    "    num = int(input(\"Enter a number: \"))\n",
    "    print(\"Square of\", num, \"is\", calculate_square(num))\n",
    "    print(\"Cube of\", num, \"is\", calculate_cube(num))"
   ]
  },
  {
   "cell_type": "code",
   "execution_count": 16,
   "id": "b4270d8f-24c2-466d-81fd-1d8f88684606",
   "metadata": {},
   "outputs": [
    {
     "name": "stdin",
     "output_type": "stream",
     "text": [
      "Enter a number:  2\n"
     ]
    },
    {
     "name": "stdout",
     "output_type": "stream",
     "text": [
      "Square of 2 is 4\n",
      "Cube of 2 is 8\n"
     ]
    }
   ],
   "source": [
    "main()"
   ]
  },
  {
   "cell_type": "code",
   "execution_count": 18,
   "id": "99e50b0e-c777-4a13-8bb0-82152ef57624",
   "metadata": {},
   "outputs": [
    {
     "name": "stdin",
     "output_type": "stream",
     "text": [
      "Enter a number:  2\n"
     ]
    },
    {
     "name": "stdout",
     "output_type": "stream",
     "text": [
      "Square of 2 is 4\n",
      "Cube of 2 is 8\n"
     ]
    }
   ],
   "source": [
    "def calculate_square(number):\n",
    "    return number**2\n",
    "\n",
    "def calculate_cube(number):\n",
    "    return number**3\n",
    "\n",
    "def main():\n",
    "    num = int(input(\"Enter a number: \"))\n",
    "    print(\"Square of\", num, \"is\", calculate_square(num))\n",
    "    print(\"Cube of\", num, \"is\", calculate_cube(num))\n",
    "    \n",
    "main()"
   ]
  },
  {
   "cell_type": "markdown",
   "id": "571b7ac3-05eb-4f69-b9dd-4c7c36fdb7b0",
   "metadata": {},
   "source": [
    "# More than one"
   ]
  },
  {
   "cell_type": "code",
   "execution_count": 5,
   "id": "0b7022ca-11ae-492c-88db-d59430f2e487",
   "metadata": {},
   "outputs": [],
   "source": [
    "def return_two_values():\n",
    "    return 1, 2"
   ]
  },
  {
   "cell_type": "code",
   "execution_count": 6,
   "id": "e1eef1bf-d91d-4e41-a7a8-1e0bf0aa6df8",
   "metadata": {},
   "outputs": [
    {
     "data": {
      "text/plain": [
       "(1, 2)"
      ]
     },
     "execution_count": 6,
     "metadata": {},
     "output_type": "execute_result"
    }
   ],
   "source": [
    "return_two_values()"
   ]
  },
  {
   "cell_type": "code",
   "execution_count": 7,
   "id": "b360d880-5743-48ab-8b18-14fb99f0fc15",
   "metadata": {},
   "outputs": [
    {
     "data": {
      "text/plain": [
       "(1, 2)"
      ]
     },
     "execution_count": 7,
     "metadata": {},
     "output_type": "execute_result"
    }
   ],
   "source": [
    "values = return_two_values()\n",
    "values"
   ]
  },
  {
   "cell_type": "code",
   "execution_count": 26,
   "id": "611aa263-375f-4e0d-be2c-66e569bf9f04",
   "metadata": {},
   "outputs": [
    {
     "data": {
      "text/plain": [
       "tuple"
      ]
     },
     "execution_count": 26,
     "metadata": {},
     "output_type": "execute_result"
    }
   ],
   "source": [
    "type(values)"
   ]
  },
  {
   "cell_type": "code",
   "execution_count": 27,
   "id": "69403906-9e70-49e5-a128-ca4569d7edb9",
   "metadata": {},
   "outputs": [
    {
     "data": {
      "text/plain": [
       "1"
      ]
     },
     "execution_count": 27,
     "metadata": {},
     "output_type": "execute_result"
    }
   ],
   "source": [
    "values[0]"
   ]
  },
  {
   "cell_type": "code",
   "execution_count": 28,
   "id": "f34f68c1-b7f7-4c15-b03b-d581fead957b",
   "metadata": {},
   "outputs": [
    {
     "data": {
      "text/plain": [
       "2"
      ]
     },
     "execution_count": 28,
     "metadata": {},
     "output_type": "execute_result"
    }
   ],
   "source": [
    "values[1]"
   ]
  },
  {
   "cell_type": "code",
   "execution_count": 10,
   "id": "0c9e84e4-aeee-481f-89d1-2e12457ddbe8",
   "metadata": {},
   "outputs": [],
   "source": [
    "values_ex = (2, 4)"
   ]
  },
  {
   "cell_type": "code",
   "execution_count": 11,
   "id": "4bc1b29a-e599-4c15-9ba1-d4508b100973",
   "metadata": {},
   "outputs": [],
   "source": [
    "two, four = values_ex"
   ]
  },
  {
   "cell_type": "code",
   "execution_count": 12,
   "id": "f3bebd14-646d-4c2c-baf8-16a06663b384",
   "metadata": {},
   "outputs": [
    {
     "data": {
      "text/plain": [
       "2"
      ]
     },
     "execution_count": 12,
     "metadata": {},
     "output_type": "execute_result"
    }
   ],
   "source": [
    "two"
   ]
  },
  {
   "cell_type": "code",
   "execution_count": 13,
   "id": "f5782b17-7802-4277-8861-bf955df9f14b",
   "metadata": {},
   "outputs": [
    {
     "data": {
      "text/plain": [
       "4"
      ]
     },
     "execution_count": 13,
     "metadata": {},
     "output_type": "execute_result"
    }
   ],
   "source": [
    "four"
   ]
  },
  {
   "cell_type": "code",
   "execution_count": 14,
   "id": "06c45308-04bd-4c78-a0e0-169a971cc249",
   "metadata": {},
   "outputs": [],
   "source": [
    "values_example = (2, 4, 6)\n",
    "two, four, six = values_example"
   ]
  },
  {
   "cell_type": "code",
   "execution_count": 15,
   "id": "4dbd017d-d7f0-452c-9769-9115933c128a",
   "metadata": {},
   "outputs": [
    {
     "data": {
      "text/plain": [
       "2"
      ]
     },
     "execution_count": 15,
     "metadata": {},
     "output_type": "execute_result"
    }
   ],
   "source": [
    "two"
   ]
  },
  {
   "cell_type": "code",
   "execution_count": 16,
   "id": "bee44988-e71d-4c78-8379-c25c7b3ef293",
   "metadata": {},
   "outputs": [
    {
     "data": {
      "text/plain": [
       "4"
      ]
     },
     "execution_count": 16,
     "metadata": {},
     "output_type": "execute_result"
    }
   ],
   "source": [
    "four"
   ]
  },
  {
   "cell_type": "code",
   "execution_count": 17,
   "id": "8e25699e-3715-4ccd-80c9-c342c6bedccd",
   "metadata": {},
   "outputs": [
    {
     "data": {
      "text/plain": [
       "6"
      ]
     },
     "execution_count": 17,
     "metadata": {},
     "output_type": "execute_result"
    }
   ],
   "source": [
    "six"
   ]
  },
  {
   "cell_type": "markdown",
   "id": "0ab8303b-742f-427e-a561-1f6603bf2ede",
   "metadata": {},
   "source": [
    "<h1>2.2 Overview of Built-in Sequences</h1>"
   ]
  },
  {
   "cell_type": "code",
   "execution_count": 18,
   "id": "889aa34d-85e3-45cc-a2bb-0dffebe8de5a",
   "metadata": {},
   "outputs": [
    {
     "data": {
      "text/plain": [
       "list"
      ]
     },
     "execution_count": 18,
     "metadata": {},
     "output_type": "execute_result"
    }
   ],
   "source": [
    "people = [\"Alice\", \"Bob\", \"Charlie\"]\n",
    "type(people)"
   ]
  },
  {
   "cell_type": "code",
   "execution_count": 19,
   "id": "ecc812a8-8d7f-46e9-ba84-839e3057cea7",
   "metadata": {},
   "outputs": [
    {
     "data": {
      "text/plain": [
       "tuple"
      ]
     },
     "execution_count": 19,
     "metadata": {},
     "output_type": "execute_result"
    }
   ],
   "source": [
    "numbers = (0, 1, 3)\n",
    "type(numbers)"
   ]
  },
  {
   "cell_type": "code",
   "execution_count": 21,
   "id": "1518b69b-1e5a-4f9b-973c-e1b63606cedb",
   "metadata": {},
   "outputs": [
    {
     "data": {
      "text/plain": [
       "set"
      ]
     },
     "execution_count": 21,
     "metadata": {},
     "output_type": "execute_result"
    }
   ],
   "source": [
    "set = {0, 1, 2}\n",
    "type(set)"
   ]
  },
  {
   "cell_type": "markdown",
   "id": "5b89efec-0813-4ab5-97a2-1f0506371ef0",
   "metadata": {},
   "source": [
    "<h2><i>for</i> special keywords <code>break</code> and <code>continue</code></h2>"
   ]
  },
  {
   "cell_type": "markdown",
   "id": "607db904-a018-4130-b564-b664b4f31519",
   "metadata": {},
   "source": [
    "Example with a <code>break</code> keyword:"
   ]
  },
  {
   "cell_type": "code",
   "execution_count": 24,
   "id": "169fef45-19a4-4b1b-8242-689f41844823",
   "metadata": {},
   "outputs": [
    {
     "name": "stdout",
     "output_type": "stream",
     "text": [
      "Found a number greater than 10: 12\n"
     ]
    }
   ],
   "source": [
    "# Loop through a list of numbers and stop when a number is found greater than 10\n",
    "numbers = [1, 3, 5, 9, 12, 8, 7]\n",
    "\n",
    "for number in numbers:\n",
    "    if number > 10:\n",
    "        print(\"Found a number greater than 10:\", number)\n",
    "        break"
   ]
  },
  {
   "cell_type": "markdown",
   "id": "0c9ca760-1683-47e6-906f-febfb2997478",
   "metadata": {},
   "source": [
    "Example with a <code>continue</code> keyword:"
   ]
  },
  {
   "cell_type": "code",
   "execution_count": 64,
   "id": "26a3237f-93fa-4600-9759-1c20fe537ad9",
   "metadata": {},
   "outputs": [
    {
     "name": "stdout",
     "output_type": "stream",
     "text": [
      "Even number found: 2\n",
      "Even number found: 4\n",
      "Even number found: 6\n",
      "Even number found: 8\n",
      "Even number found: 10\n"
     ]
    }
   ],
   "source": [
    "# Loop through a list of numbers and skip odd numbers\n",
    "numbers = [1, 2, 3, 4, 5, 6, 7, 8, 9, 10]\n",
    "\n",
    "for number in numbers:\n",
    "    if number % 2 == 1:\n",
    "        continue\n",
    "    print(\"Even number found:\", number)"
   ]
  },
  {
   "cell_type": "code",
   "execution_count": 26,
   "id": "a85c6c06-35d6-4e38-9fb3-f63ddc81efca",
   "metadata": {},
   "outputs": [
    {
     "data": {
      "text/plain": [
       "list"
      ]
     },
     "execution_count": 26,
     "metadata": {},
     "output_type": "execute_result"
    }
   ],
   "source": [
    "type(numbers)"
   ]
  },
  {
   "cell_type": "code",
   "execution_count": 72,
   "id": "bdb598fa-dc2f-4974-857d-67104cec2a24",
   "metadata": {},
   "outputs": [
    {
     "name": "stdout",
     "output_type": "stream",
     "text": [
      "Found an outlier that is higher than 10: 329\n"
     ]
    }
   ],
   "source": [
    "tuple = (0, 0, 2, 3, 4, 329, 2, 4, 8)\n",
    "\n",
    "for number in tuple:\n",
    "    if number > 10:\n",
    "        print(\"Found an outlier that is higher than 10:\", number)\n",
    "\n",
    "        break"
   ]
  },
  {
   "cell_type": "markdown",
   "id": "59f54f10-12b7-4bc7-a289-82e10fe0de57",
   "metadata": {},
   "source": [
    "Modulo operator <code>%</code> (link https://www.freecodecamp.org/news/the-python-modulo-operator-what-does-the-symbol-mean-in-python-solved/)"
   ]
  },
  {
   "cell_type": "code",
   "execution_count": 37,
   "id": "da5ce2af-bd7d-4710-9246-6b4fd7847c86",
   "metadata": {},
   "outputs": [
    {
     "data": {
      "text/plain": [
       "1"
      ]
     },
     "execution_count": 37,
     "metadata": {},
     "output_type": "execute_result"
    }
   ],
   "source": [
    "5 % 2"
   ]
  },
  {
   "cell_type": "code",
   "execution_count": 44,
   "id": "7325fbb8-8d1f-4288-9b3a-6e99aa70b3ac",
   "metadata": {},
   "outputs": [
    {
     "data": {
      "text/plain": [
       "0"
      ]
     },
     "execution_count": 44,
     "metadata": {},
     "output_type": "execute_result"
    }
   ],
   "source": [
    "10 % 2"
   ]
  },
  {
   "cell_type": "code",
   "execution_count": 45,
   "id": "593102e0-1137-488c-9f16-ab826be28d21",
   "metadata": {},
   "outputs": [
    {
     "data": {
      "text/plain": [
       "2"
      ]
     },
     "execution_count": 45,
     "metadata": {},
     "output_type": "execute_result"
    }
   ],
   "source": [
    "10 % 4"
   ]
  },
  {
   "cell_type": "code",
   "execution_count": 46,
   "id": "4500c237-bbb7-4251-be1a-5a0216454530",
   "metadata": {},
   "outputs": [
    {
     "data": {
      "text/plain": [
       "1"
      ]
     },
     "execution_count": 46,
     "metadata": {},
     "output_type": "execute_result"
    }
   ],
   "source": [
    "10 % 3"
   ]
  },
  {
   "cell_type": "code",
   "execution_count": 47,
   "id": "3a962111-8fe1-4dcd-8eed-0e0a15bde1a9",
   "metadata": {},
   "outputs": [
    {
     "data": {
      "text/plain": [
       "0.0"
      ]
     },
     "execution_count": 47,
     "metadata": {},
     "output_type": "execute_result"
    }
   ],
   "source": [
    "10 % 2.5"
   ]
  },
  {
   "cell_type": "code",
   "execution_count": 48,
   "id": "96dd69aa-c745-4aa3-8a47-2c4bb74fc681",
   "metadata": {},
   "outputs": [
    {
     "data": {
      "text/plain": [
       "0.5"
      ]
     },
     "execution_count": 48,
     "metadata": {},
     "output_type": "execute_result"
    }
   ],
   "source": [
    "8 % 1.5"
   ]
  },
  {
   "cell_type": "code",
   "execution_count": 49,
   "id": "02f93633-a38f-4456-b0d8-360ee0192b63",
   "metadata": {},
   "outputs": [
    {
     "data": {
      "text/plain": [
       "1"
      ]
     },
     "execution_count": 49,
     "metadata": {},
     "output_type": "execute_result"
    }
   ],
   "source": [
    "1 % 2"
   ]
  },
  {
   "cell_type": "code",
   "execution_count": 61,
   "id": "16caebc5-59ff-4774-a153-a726a36f2fb2",
   "metadata": {},
   "outputs": [
    {
     "name": "stdout",
     "output_type": "stream",
     "text": [
      "True\n",
      "False\n",
      "True\n",
      "False\n",
      "True\n",
      "False\n",
      "True\n",
      "False\n",
      "True\n",
      "False\n"
     ]
    }
   ],
   "source": [
    "# Loop through a list of numbers and skip odd numbers\n",
    "numbers = [1, 2, 3, 4, 5, 6, 7, 8, 9, 10]\n",
    "\n",
    "for number in numbers:\n",
    "    print(number % 2 == 1)"
   ]
  },
  {
   "cell_type": "code",
   "execution_count": 69,
   "id": "b0c17868-39b9-435f-ae3f-97ee58107995",
   "metadata": {},
   "outputs": [
    {
     "name": "stdout",
     "output_type": "stream",
     "text": [
      "New name found: Tom\n",
      "New name found: Jack\n",
      "New name found: Alex\n",
      "New name found: Tom\n",
      "New name found: Tom\n",
      "New name found: John\n",
      "New name found: Victor\n"
     ]
    }
   ],
   "source": [
    "names = (\"Tom\", \"Jack\", \"Alex\", \"Tom\", \"Tom\", \"John\", \"Victor\")\n",
    "\n",
    "for name in names:\n",
    "#    if name == \"Tom\":\n",
    "#        continue\n",
    "    print(f\"New name found: {name}\")"
   ]
  },
  {
   "cell_type": "code",
   "execution_count": 71,
   "id": "342b784e-4316-4cb6-89e5-c7c348fa25ed",
   "metadata": {},
   "outputs": [
    {
     "name": "stdout",
     "output_type": "stream",
     "text": [
      "Found John.\n"
     ]
    }
   ],
   "source": [
    "for name in names:\n",
    "    if name == \"John\":\n",
    "        print(f\"Found {name}.\")\n",
    "        break"
   ]
  },
  {
   "cell_type": "markdown",
   "id": "49c9590d-20d4-41da-9643-dec296ce6ca5",
   "metadata": {},
   "source": [
    "<h2>Lists</h2>"
   ]
  },
  {
   "cell_type": "code",
   "execution_count": 73,
   "id": "60586e9e-671f-4952-8b1f-ca81adb807bc",
   "metadata": {},
   "outputs": [],
   "source": [
    "dogs = ['border collie', \n",
    "        'australian cattle dog', \n",
    "        'labrador retriever']"
   ]
  },
  {
   "cell_type": "code",
   "execution_count": 75,
   "id": "fa991dbf-ec15-40b2-a253-f5f93ee748fa",
   "metadata": {},
   "outputs": [
    {
     "name": "stdout",
     "output_type": "stream",
     "text": [
      "3\n"
     ]
    }
   ],
   "source": [
    "print(len(dogs))"
   ]
  },
  {
   "cell_type": "code",
   "execution_count": 77,
   "id": "470e1a22-7aaf-453e-a845-b43404754f2f",
   "metadata": {},
   "outputs": [
    {
     "name": "stdout",
     "output_type": "stream",
     "text": [
      "[5, 11]\n"
     ]
    }
   ],
   "source": [
    "numbers = [5, 10]\n",
    "numbers[1] = 11\n",
    "print(numbers)"
   ]
  },
  {
   "cell_type": "code",
   "execution_count": 4,
   "id": "87a625ab-3333-4946-b5b2-36eef36523e0",
   "metadata": {},
   "outputs": [
    {
     "name": "stdout",
     "output_type": "stream",
     "text": [
      "His name is Tom.\n",
      "His name is Alex.\n",
      "His name is John.\n",
      "His name is Luis.\n",
      "His name is Maarten.\n",
      "His name is Paul.\n",
      "His name is Travis.\n",
      "His name is Jack.\n",
      "His name is Zack.\n"
     ]
    }
   ],
   "source": [
    "names = [\"Tom\", \"Alex\", \"John\", \"Luis\", \"Maarten\", \"Paul\", \"Travis\", \"Jack\", \"Zack\"]\n",
    "\n",
    "for name in names:\n",
    "    print(f\"His name is {name}.\")"
   ]
  },
  {
   "cell_type": "code",
   "execution_count": 8,
   "id": "febb7387-fc89-40bb-8712-d92f5edbb9a8",
   "metadata": {},
   "outputs": [
    {
     "name": "stdout",
     "output_type": "stream",
     "text": [
      "Tom\n",
      "Alex\n",
      "John\n",
      "Luis\n",
      "Maarten\n",
      "Paul\n",
      "Travis\n",
      "Jack\n",
      "Zack\n"
     ]
    }
   ],
   "source": [
    "for name in names:\n",
    "    print(name)"
   ]
  },
  {
   "cell_type": "markdown",
   "id": "afd914e5-9fdd-483e-ace3-e6dff69c4067",
   "metadata": {},
   "source": [
    "This is what happens if we try to <code>print</code> a list as a whole:"
   ]
  },
  {
   "cell_type": "code",
   "execution_count": 6,
   "id": "44d6a2c0-e2ed-41ad-b293-37003ac071e6",
   "metadata": {},
   "outputs": [
    {
     "name": "stdout",
     "output_type": "stream",
     "text": [
      "['Tom', 'Alex', 'John', 'Luis', 'Maarten', 'Paul', 'Travis', 'Jack', 'Zack']\n"
     ]
    }
   ],
   "source": [
    "print(names)"
   ]
  },
  {
   "cell_type": "markdown",
   "id": "0bc609c0-e429-4e1a-b84b-b21f9b9553be",
   "metadata": {},
   "source": [
    "or:"
   ]
  },
  {
   "cell_type": "code",
   "execution_count": 7,
   "id": "03da891f-cb81-43fa-80d2-0da34ff38afc",
   "metadata": {},
   "outputs": [
    {
     "data": {
      "text/plain": [
       "['Tom', 'Alex', 'John', 'Luis', 'Maarten', 'Paul', 'Travis', 'Jack', 'Zack']"
      ]
     },
     "execution_count": 7,
     "metadata": {},
     "output_type": "execute_result"
    }
   ],
   "source": [
    "names"
   ]
  },
  {
   "cell_type": "code",
   "execution_count": 9,
   "id": "43dcc46b-bafb-448a-923b-7e48a052ec84",
   "metadata": {},
   "outputs": [
    {
     "name": "stdout",
     "output_type": "stream",
     "text": [
      "Tom\n",
      "Alex\n",
      "John\n",
      "Luis\n",
      "Maarten\n",
      "Paul\n",
      "Travis\n",
      "Jack\n",
      "Zack\n"
     ]
    }
   ],
   "source": [
    "for names in names:\n",
    "    print(names)"
   ]
  },
  {
   "cell_type": "code",
   "execution_count": 13,
   "id": "d53bfca7-79fc-4803-a480-7d0b72d44297",
   "metadata": {},
   "outputs": [],
   "source": [
    "names = [\"Tom\", \"Alex\", \"John\", \"Luis\", \"Maarten\", \"Paul\", \"Travis\", \"Jack\", \"Zack\"]"
   ]
  },
  {
   "cell_type": "code",
   "execution_count": 14,
   "id": "1d41d80d-f6da-4896-bdd3-bb48ca6ccaa0",
   "metadata": {},
   "outputs": [
    {
     "data": {
      "text/plain": [
       "9"
      ]
     },
     "execution_count": 14,
     "metadata": {},
     "output_type": "execute_result"
    }
   ],
   "source": [
    "len(names)"
   ]
  },
  {
   "cell_type": "code",
   "execution_count": 15,
   "id": "43bf7119-2e5f-4dc8-bedd-96a83f8488e0",
   "metadata": {},
   "outputs": [
    {
     "data": {
      "text/plain": [
       "range(0, 9)"
      ]
     },
     "execution_count": 15,
     "metadata": {},
     "output_type": "execute_result"
    }
   ],
   "source": [
    "range(0, len(names))"
   ]
  },
  {
   "cell_type": "code",
   "execution_count": 17,
   "id": "9577ff13-2c8f-41db-9fdc-5b85b86814ca",
   "metadata": {},
   "outputs": [
    {
     "data": {
      "text/plain": [
       "['Tom', 'Alex', 'John', 'Luis', 'Maarten', 'Paul', 'Travis', 'Jack', 'Zack']"
      ]
     },
     "execution_count": 17,
     "metadata": {},
     "output_type": "execute_result"
    }
   ],
   "source": [
    "names = [\"Tom\", \"Alex\", \"John\", \"Luis\", \"Maarten\", \"Paul\", \"Travis\", \"Jack\", \"Zack\"]\n",
    "names"
   ]
  },
  {
   "cell_type": "code",
   "execution_count": 18,
   "id": "c1448898-dbd5-4141-9672-aa5180b9506e",
   "metadata": {},
   "outputs": [
    {
     "data": {
      "text/plain": [
       "['Tom', 'Alex', 'John', 'Luis', 'Maarten', 'Paul', 'Travis', 'Jack', 'Zack']"
      ]
     },
     "execution_count": 18,
     "metadata": {},
     "output_type": "execute_result"
    }
   ],
   "source": [
    "names = ['Tom', 'Alex', 'John', 'Luis', 'Maarten', 'Paul', 'Travis', 'Jack', 'Zack']\n",
    "names"
   ]
  },
  {
   "cell_type": "code",
   "execution_count": null,
   "id": "21573bd3-12a7-4e5d-9042-e6344d1684ce",
   "metadata": {},
   "outputs": [],
   "source": []
  }
 ],
 "metadata": {
  "kernelspec": {
   "display_name": "Python 3 (ipykernel)",
   "language": "python",
   "name": "python3"
  },
  "language_info": {
   "codemirror_mode": {
    "name": "ipython",
    "version": 3
   },
   "file_extension": ".py",
   "mimetype": "text/x-python",
   "name": "python",
   "nbconvert_exporter": "python",
   "pygments_lexer": "ipython3",
   "version": "3.9.13"
  }
 },
 "nbformat": 4,
 "nbformat_minor": 5
}
