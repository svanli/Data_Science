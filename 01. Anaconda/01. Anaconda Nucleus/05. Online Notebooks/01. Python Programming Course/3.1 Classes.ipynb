{
 "cells": [
  {
   "cell_type": "markdown",
   "metadata": {
    "slideshow": {
     "slide_type": "slide"
    }
   },
   "source": [
    "Classes\n",
    "==="
   ]
  },
  {
   "cell_type": "markdown",
   "metadata": {
    "slideshow": {
     "slide_type": "subslide"
    }
   },
   "source": [
    "So far you have learned about Python's core data structures (e.g. lists, tuples, and dictionaries). \n",
    "\n",
    "In this section you will learn about the last major data structure, classes. \n",
    "\n",
    "Classes are quite unlike the other data types, in that they are much more flexible. \n",
    "\n",
    "Classes allow you to define the information and behavior that characterize anything you want to model in your program. \n",
    "\n",
    "Classes are a rich topic, so you will learn just enough here to dive into the projects you'd like to get started on."
   ]
  },
  {
   "cell_type": "markdown",
   "metadata": {
    "slideshow": {
     "slide_type": "fragment"
    }
   },
   "source": [
    "There is a lot of new language that comes into play when you start learning about classes. If you are familiar with object-oriented programming from your work in another language, this will be a quick read about how Python approaches OOP. If you are new to programming in general, there will be a lot of new ideas here. Just start reading, try out the examples on your own machine, and trust that it will start to make sense as you work your way through the examples and exercises."
   ]
  },
  {
   "cell_type": "markdown",
   "metadata": {
    "slideshow": {
     "slide_type": "slide"
    }
   },
   "source": [
    "## Object-Oriented terminology"
   ]
  },
  {
   "cell_type": "markdown",
   "metadata": {
    "slideshow": {
     "slide_type": "subslide"
    }
   },
   "source": [
    "Classes are part of a programming paradigm called **object-oriented programming**. Object-oriented programming, or OOP for short, focuses on building reusable blocks of code called classes. When you want to use a class in one of your programs, you make an **object** from that class, which is where the phrase \"object-oriented\" comes from. Python itself is not tied to object-oriented programming, but you will be using objects in most or all of your Python projects. In order to understand classes, you have to understand some of the language that is used in OOP."
   ]
  },
  {
   "cell_type": "markdown",
   "metadata": {
    "slideshow": {
     "slide_type": "subslide"
    }
   },
   "source": [
    "<a name='general_terminology'></a>General terminology\n",
    "---"
   ]
  },
  {
   "cell_type": "markdown",
   "metadata": {
    "slideshow": {
     "slide_type": "fragment"
    }
   },
   "source": [
    "A **class** is a body of code that defines the **attributes** and **behaviors** required to accurately model something you need for your program. You can model something from the real world, such as a rocket ship or a guitar string, or you can model something from a virtual world such as a rocket in a game, or a set of physical laws for a game engine."
   ]
  },
  {
   "cell_type": "markdown",
   "metadata": {
    "slideshow": {
     "slide_type": "fragment"
    }
   },
   "source": [
    "An **attribute** is a piece of information. In code, an attribute is just a variable that is part of a class."
   ]
  },
  {
   "cell_type": "markdown",
   "metadata": {
    "slideshow": {
     "slide_type": "fragment"
    }
   },
   "source": [
    "A **behavior** is an action that is defined within a class. These are made up of **methods**, which are just functions that are defined for the class."
   ]
  },
  {
   "cell_type": "markdown",
   "metadata": {
    "slideshow": {
     "slide_type": "fragment"
    }
   },
   "source": [
    "An **object** is a particular instance of a class. An object has a certain set of values for all of the attributes (variables) in the class. You can have as many objects as you want for any one class."
   ]
  },
  {
   "cell_type": "markdown",
   "metadata": {
    "slideshow": {
     "slide_type": "fragment"
    }
   },
   "source": [
    "There is much more to know, but these words will help you get started. They will make more sense as you see more examples, and start to use classes on your own."
   ]
  },
  {
   "cell_type": "markdown",
   "metadata": {
    "slideshow": {
     "slide_type": "slide"
    }
   },
   "source": [
    "<a name=\"what\"></a>What are classes?\n",
    "===\n",
    "Classes are a way of combining information and behavior. For example, let's consider what you'd need to do if you were creating a rocket ship in a game, or in a physics simulation. One of the first things you'd want to track are the x and y coordinates of the rocket. Here is what a simple rocket ship class looks like in code:"
   ]
  },
  {
   "cell_type": "code",
   "execution_count": 1,
   "metadata": {
    "slideshow": {
     "slide_type": "fragment"
    }
   },
   "outputs": [],
   "source": [
    "class Rocket:\n",
    "    # Rocket simulates a rocket ship for a game,\n",
    "    #  or a physics simulation.\n",
    "    \n",
    "    def __init__(self):\n",
    "        # Each rocket has an (x,y) position.\n",
    "        self.x = 0\n",
    "        self.y = 0"
   ]
  },
  {
   "cell_type": "markdown",
   "metadata": {
    "slideshow": {
     "slide_type": "subslide"
    }
   },
   "source": [
    "One of the first things you do with a class is to define the **\\_\\_init\\_\\_()** method. The `__init__()` method sets the values for any parameters that need to be defined when an object is first created. The *self* part will be explained later; basically, it's a syntax that allows you to access a variable from anywhere else in the class.\n",
    "\n",
    "The Rocket class stores two pieces of information so far, but it can't do anything. The first behavior to define is a core behavior of a rocket: moving up. Here is what that might look like in code:"
   ]
  },
  {
   "cell_type": "markdown",
   "metadata": {
    "slideshow": {
     "slide_type": "fragment"
    }
   },
   "source": [
    "```python \n",
    "class Rocket:\n",
    "    # Rocket simulates a rocket ship for a game,\n",
    "    #  or a physics simulation.\n",
    "    \n",
    "    def __init__(self):\n",
    "        # Each rocket has an (x,y) position.\n",
    "        self.x = 0\n",
    "        self.y = 0\n",
    "        \n",
    "    def move_up(self):\n",
    "        # Increment the y-position of the rocket.\n",
    "        self.y += 1\n",
    "```"
   ]
  },
  {
   "cell_type": "markdown",
   "metadata": {
    "jupyter": {
     "source_hidden": true
    },
    "tags": []
   },
   "source": [
    "<div class=\"alert alert-info\">\n",
    "    <p>Now it's your turn! Please <strong>re-write</strong> below the code from the cell above to make practice in writing classes in Python</p>\n",
    "    <p><strong>Note:</strong> Please notice the wording! It's better that you <em>re-write</em> rather than just <em>copy and paste</em>. Copying and Pasting code is most of the time useless and error-prone. Also, from your learning perspective, it just teaches you on how to use keyboards combinations (assuming you're using keyboards and not mouse clicks!).\n",
    "    We do very much encourage than to re-write the whole code snippet! This will aid fixing syntax in your mind ☺️\n",
    "    </p>\n",
    "</div"
   ]
  },
  {
   "cell_type": "code",
   "execution_count": 4,
   "metadata": {},
   "outputs": [],
   "source": [
    "class Rocket:\n",
    "\n",
    "    def __init__(self):\n",
    "        self.x = 0\n",
    "        self.y = 0\n",
    "        \n",
    "    def move_up(self):\n",
    "        self.y += 1 # equivalent to self.y = self.y + 1"
   ]
  },
  {
   "cell_type": "markdown",
   "metadata": {
    "slideshow": {
     "slide_type": "subslide"
    }
   },
   "source": [
    "The Rocket class can now store some information, and it can do something. \n",
    "\n",
    "But this code has not actually created a rocket yet. Here is how you actually make a rocket:"
   ]
  },
  {
   "cell_type": "markdown",
   "metadata": {
    "slideshow": {
     "slide_type": "fragment"
    }
   },
   "source": [
    "```python \n",
    ">>> my_rocket = Rocket()  # Create a Rocket object.\n",
    "```"
   ]
  },
  {
   "cell_type": "code",
   "execution_count": 5,
   "metadata": {},
   "outputs": [],
   "source": [
    "my_rocket = Rocket()"
   ]
  },
  {
   "cell_type": "markdown",
   "metadata": {
    "slideshow": {
     "slide_type": "subslide"
    }
   },
   "source": [
    "To actually **use a class**, you create a variable such as `my_rocket`. \n",
    "\n",
    "Then you set that equal to the name of the class, with an empty set of parentheses. Python creates an **object** from the class. \n",
    "\n",
    "An object is a single instance of the Rocket class; it has a copy of each of the class's variables, and it can do any action that is defined for the class. \n",
    "\n",
    "In this case, you can see that the variable `my_rocket` is a Rocket object from the `__main__` program file, which is stored at a particular location in memory."
   ]
  },
  {
   "cell_type": "markdown",
   "metadata": {
    "slideshow": {
     "slide_type": "subslide"
    }
   },
   "source": [
    "Once you have a class, you can define an object and use its methods. \n",
    "\n",
    "Here is how you might define a rocket and have it start to move up:"
   ]
  },
  {
   "cell_type": "code",
   "execution_count": 6,
   "metadata": {
    "slideshow": {
     "slide_type": "fragment"
    }
   },
   "outputs": [
    {
     "name": "stdout",
     "output_type": "stream",
     "text": [
      "Rocket altitude: 0\n",
      "Rocket altitude: 1\n",
      "Rocket altitude: 2\n"
     ]
    }
   ],
   "source": [
    "# Create a Rocket object, and have it start to move up.\n",
    "my_rocket = Rocket()\n",
    "print(\"Rocket altitude:\", my_rocket.y)\n",
    "\n",
    "my_rocket.move_up()\n",
    "print(\"Rocket altitude:\", my_rocket.y)\n",
    "\n",
    "my_rocket.move_up()\n",
    "print(\"Rocket altitude:\", my_rocket.y)"
   ]
  },
  {
   "cell_type": "code",
   "execution_count": 7,
   "metadata": {},
   "outputs": [
    {
     "name": "stdout",
     "output_type": "stream",
     "text": [
      "Rocket longitude: 0\n"
     ]
    }
   ],
   "source": [
    "print(\"Rocket longitude:\", my_rocket.x)"
   ]
  },
  {
   "cell_type": "code",
   "execution_count": 8,
   "metadata": {},
   "outputs": [
    {
     "name": "stdout",
     "output_type": "stream",
     "text": [
      "Rocket longitude: 0\n"
     ]
    }
   ],
   "source": [
    "print(f'Rocket longitude: {my_rocket.x}')"
   ]
  },
  {
   "cell_type": "markdown",
   "metadata": {
    "slideshow": {
     "slide_type": "subslide"
    }
   },
   "source": [
    "To access an object's variables or methods, you give the name of the object and then use **dot notation** to access the variables and methods. \n",
    "\n",
    "So to get the `y-value` of *my\\_rocket*, you use `my_rocket.y`. \n",
    "\n",
    "To use the `move_up()` method on `my_rocket`, you write `my_rocket.move_up()`."
   ]
  },
  {
   "cell_type": "markdown",
   "metadata": {
    "slideshow": {
     "slide_type": "fragment"
    }
   },
   "source": [
    "Once you have a **Class defined**, you can create as many objects from that class as you want. \n",
    "\n",
    "Each object is its own instance of that class, with its own separate variables. \n",
    "\n",
    "All of the objects are capable of the same behavior, but each object's particular actions do not affect any of the other objects."
   ]
  },
  {
   "cell_type": "markdown",
   "metadata": {
    "slideshow": {
     "slide_type": "subslide"
    }
   },
   "source": [
    "Once you have a class, you can define an object and use its methods. Here is how you might define a rocket and have it start to move up:"
   ]
  },
  {
   "cell_type": "markdown",
   "metadata": {
    "slideshow": {
     "slide_type": "fragment"
    }
   },
   "source": [
    "```python\n",
    "# Create a fleet of 5 rockets, and store them in a list.\n",
    "rocket_fleet = []\n",
    "for x in range(0,5):\n",
    "    new_rocket = Rocket()\n",
    "    rocket_fleet.append(new_rocket)\n",
    "```\n",
    "```python\n",
    ">>> # Show that each rocket is a separate object.\n",
    ">>> for rocket in rocket_fleet:\n",
    "...    print(rocket)\n",
    "...\n",
    "<__main__.Rocket object at 0x10655eef0>\n",
    "<__main__.Rocket object at 0x10655ee48>\n",
    "<__main__.Rocket object at 0x10655e5f8>\n",
    "<__main__.Rocket object at 0x10655ed68>\n",
    "<__main__.Rocket object at 0x10655ea90>\n",
    "```"
   ]
  },
  {
   "cell_type": "code",
   "execution_count": 9,
   "metadata": {},
   "outputs": [],
   "source": [
    "# Create a fleet of 5 rockets, and store them in a list.\n",
    "rocket_fleet = []\n",
    "\n",
    "for x in range(0, 5):\n",
    "    new_rocket = Rocket()\n",
    "    rocket_fleet.append(new_rocket)"
   ]
  },
  {
   "cell_type": "code",
   "execution_count": 10,
   "metadata": {},
   "outputs": [
    {
     "name": "stdout",
     "output_type": "stream",
     "text": [
      "<__main__.Rocket object at 0x000001C1084B2FA0>\n",
      "<__main__.Rocket object at 0x000001C1084BB700>\n",
      "<__main__.Rocket object at 0x000001C1084BB7C0>\n",
      "<__main__.Rocket object at 0x000001C1084BBE80>\n",
      "<__main__.Rocket object at 0x000001C1084BB0A0>\n"
     ]
    }
   ],
   "source": [
    "for rocket in rocket_fleet:\n",
    "    print(rocket)"
   ]
  },
  {
   "cell_type": "markdown",
   "metadata": {
    "slideshow": {
     "slide_type": "subslide"
    }
   },
   "source": [
    "You can see that each rocket is at a separate place in memory. \n",
    "\n",
    "\n",
    "By the way, if you remember **list comprehension**, you can make the fleet of rockets in one line:"
   ]
  },
  {
   "cell_type": "code",
   "execution_count": 11,
   "metadata": {
    "slideshow": {
     "slide_type": "fragment"
    }
   },
   "outputs": [],
   "source": [
    "# Create a fleet of 5 rockets, and store them in a list.\n",
    "rocket_fleet = [Rocket() for x in range(0,5)]"
   ]
  },
  {
   "cell_type": "markdown",
   "metadata": {
    "slideshow": {
     "slide_type": "slide"
    }
   },
   "source": [
    "### A closer look at the Rocket class ←←←←←←←←←←←←←←←←←←←←←←←←← stopped here\n",
    "\n",
    "Now that you have seen a simple example of a class, and have learned some basic OOP terminology, it will be helpful to take a closer look at the Rocket class."
   ]
  },
  {
   "cell_type": "markdown",
   "metadata": {
    "slideshow": {
     "slide_type": "subslide"
    }
   },
   "source": [
    "<a name=\"init_method\"></a>The \\_\\_init()\\_\\_ method\n",
    "---\n",
    "Here is the initial code block that defined the Rocket class:"
   ]
  },
  {
   "cell_type": "markdown",
   "metadata": {
    "slideshow": {
     "slide_type": "fragment"
    }
   },
   "source": [
    "```python\n",
    "class Rocket:\n",
    "    # Rocket simulates a rocket ship for a game,\n",
    "    #  or a physics simulation.\n",
    "    \n",
    "    def __init__(self):\n",
    "        # Each rocket has an (x,y) position.\n",
    "        self.x = 0\n",
    "        self.y = 0\n",
    "```"
   ]
  },
  {
   "cell_type": "markdown",
   "metadata": {
    "slideshow": {
     "slide_type": "subslide"
    }
   },
   "source": [
    "The first line shows how a class is defined in Python. \n",
    "\n",
    "The keyword **class** tells Python that you are about to define a class. \n",
    "\n",
    "The rules for naming a class are the same rules you learned about naming variables, but there is a strong convention among Python programmers that classes should be named using **CamelCase**. If you are unfamiliar with CamelCase, it is a convention where each letter that starts a word is capitalized, with no underscores in the name. "
   ]
  },
  {
   "cell_type": "markdown",
   "metadata": {
    "slideshow": {
     "slide_type": "fragment"
    }
   },
   "source": [
    "It is good practice to write a comment at the beginning of your class, describing the class. There is a [more formal syntax](http://www.python.org/dev/peps/pep-0257/) for documenting your classes, but you can wait a little bit to get that formal. For now, just write a comment at the beginning of your class summarizing what you intend the class to do. Writing more formal documentation for your classes will be easy later if you start by writing simple comments now."
   ]
  },
  {
   "cell_type": "markdown",
   "metadata": {
    "slideshow": {
     "slide_type": "fragment"
    }
   },
   "source": [
    "Function names that start and end with two underscores are **special built-in functions** that Python uses in certain ways. The `__init()__` method is one of these special functions. \n",
    "\n",
    "It is called automatically when you create an object from your class. The `__init()__` method lets you make sure that all relevant attributes are set to their proper values when an object is created from the class, before the object is used. \n",
    "\n",
    "In this case, The `__init__()` method initializes the `x` and `y` values of the Rocket to `0`."
   ]
  },
  {
   "cell_type": "markdown",
   "metadata": {
    "slideshow": {
     "slide_type": "fragment"
    }
   },
   "source": [
    "The **self** keyword often takes people a little while to understand. \n",
    "\n",
    "The word `self` refers to the **current object that you are working with**. \n",
    "\n",
    "When you are writing a class, it lets you refer to certain attributes from any other part of the class. \n",
    "\n",
    "Basically, all methods in a class need the *self* object as their first argument, so they can access any attribute that is part of the class."
   ]
  },
  {
   "cell_type": "markdown",
   "metadata": {
    "slideshow": {
     "slide_type": "fragment"
    }
   },
   "source": [
    "#### Now let's take a closer look at a **method**."
   ]
  },
  {
   "cell_type": "markdown",
   "metadata": {
    "slideshow": {
     "slide_type": "subslide"
    }
   },
   "source": [
    "<a name='simple_method'></a>A simple method\n",
    "---\n",
    "Here is the method that was defined for the Rocket class:"
   ]
  },
  {
   "cell_type": "markdown",
   "metadata": {},
   "source": [
    "```python \n",
    "class Rocket:\n",
    "    # Rocket simulates a rocket ship for a game,\n",
    "    #  or a physics simulation.\n",
    "    \n",
    "    def __init__(self):\n",
    "        # Each rocket has an (x,y) position.\n",
    "        self.x = 0\n",
    "        self.y = 0\n",
    "        \n",
    "    def move_up(self):\n",
    "        # Increment the y-position of the rocket.\n",
    "        self.y += 1\n",
    "```"
   ]
  },
  {
   "cell_type": "markdown",
   "metadata": {
    "slideshow": {
     "slide_type": "subslide"
    }
   },
   "source": [
    "A method is just a function that is part of a class. \n",
    "\n",
    "Since it is just a function, you can do anything with a method that you learned about with functions. \n",
    "\n",
    "You can accept **positional** arguments, **keyword** arguments, an arbitrary list of argument values, or any combination of those. \n",
    "\n",
    "Your arguments can return a value or a set of values if you want, or they can just do some work without returning any values.\n"
   ]
  },
  {
   "cell_type": "markdown",
   "metadata": {
    "slideshow": {
     "slide_type": "fragment"
    }
   },
   "source": [
    "Each method has to accept one argument by default, the value **self**. \n",
    "\n",
    "This is a reference to the particular object that is calling the method. \n",
    "\n",
    "This `self` argument gives you access to the calling object's attributes. \n",
    "\n",
    "In this example, the `self` argument is used to access a Rocket object's `y-value`. \n",
    "\n",
    "That value is increased by `1`, every time the method `move_up()` is called by a particular `Rocket` object. \n",
    "\n",
    "This is probably still somewhat confusing, but it should start to make sense as you work through your own examples."
   ]
  },
  {
   "cell_type": "markdown",
   "metadata": {
    "slideshow": {
     "slide_type": "subslide"
    }
   },
   "source": [
    "**If you take a second look at what happens when a method is called, things might make a little more sense:**"
   ]
  },
  {
   "cell_type": "code",
   "execution_count": null,
   "metadata": {
    "slideshow": {
     "slide_type": "fragment"
    }
   },
   "outputs": [],
   "source": [
    "\n",
    "class Rocket:\n",
    "    # Rocket simulates a rocket ship for a game,\n",
    "    #  or a physics simulation.\n",
    "    \n",
    "    def __init__(self):\n",
    "        # Each rocket has an (x,y) position.\n",
    "        self.x = 0\n",
    "        self.y = 0\n",
    "        \n",
    "    def move_up(self):\n",
    "        # Increment the y-position of the rocket.\n",
    "        self.y += 1\n",
    "\n",
    "# Create a Rocket object, and have it start to move up.\n",
    "my_rocket = Rocket()\n",
    "print(\"Rocket altitude:\", my_rocket.y)\n",
    "\n",
    "my_rocket.move_up()\n",
    "print(\"Rocket altitude:\", my_rocket.y)\n",
    "\n",
    "my_rocket.move_up()\n",
    "print(\"Rocket altitude:\", my_rocket.y)\n"
   ]
  },
  {
   "cell_type": "markdown",
   "metadata": {
    "slideshow": {
     "slide_type": "subslide"
    }
   },
   "source": [
    "In this example, a `Rocket` object is created and stored in the variable `my_rocket`. \n",
    "\n",
    "After this object is created, its `y` value is printed. The value of the attribute `y` is accessed using dot notation. \n",
    "\n",
    "The phrase `my_rocket.y` asks Python to return \"the value of the variable `y` attached to the object `my_rocket`\".\n",
    "\n",
    "After the object `my_rocket` is created and its initial `y-value` is printed, the method `move_up()` is called. \n",
    "\n",
    "This tells Python to apply the method `move_up()` to the object `my_rocket`. \n",
    "\n",
    "Python finds the `y-value` associated with my_rocket and adds `1` to that value. \n",
    "\n",
    "This process is repeated several times, and you can see from the output that the `y-value` is in fact increasing."
   ]
  },
  {
   "cell_type": "markdown",
   "metadata": {
    "slideshow": {
     "slide_type": "subslide"
    }
   },
   "source": [
    "<a name='check_in'></a>A quick check-in\n",
    "---\n",
    "If all of this makes sense, then the rest of your work with classes will involve learning a lot of details about how classes can be used in more flexible and powerful ways. If this does not make any sense, you could try a few different things:\n",
    "\n",
    "- Reread the previous sections, and see if things start to make any more sense.\n",
    "- Type out these examples in your own editor, and run them. Try making some changes, and see what happens.\n",
    "- Try the next exercise, and see if it helps solidify some of the concepts you have been reading about.\n",
    "- Read on. The next sections are going to add more functionality to the Rocket class. These steps will involve rehashing some of what has already been covered, in a slightly different way.\n",
    "\n",
    "Classes are a huge topic, and once you understand them you will probably use them for the rest of your life as a programmer. If you are brand new to this, be patient and trust that things will start to sink in."
   ]
  },
  {
   "cell_type": "markdown",
   "metadata": {
    "slideshow": {
     "slide_type": "subslide"
    }
   },
   "source": [
    "#### Exercises\n",
    "\n",
    "- Without looking back at the previous examples, try to recreate the **Rocket class** as it has been shown so far.\n",
    "    - Define the `Rocket()` class.\n",
    "    - Define the `__init__()` method, which sets an `x` and a `y` value for each Rocket object.\n",
    "    - Define the `move_up()` method.\n",
    "    - Create a Rocket object.\n",
    "    - Print the object's `y`-value.\n",
    "    - Move the rocket up, and print its `y`-value again."
   ]
  },
  {
   "cell_type": "markdown",
   "metadata": {
    "slideshow": {
     "slide_type": "slide"
    }
   },
   "source": [
    "<a name='refining_rocket'></a>Refining the Rocket class\n",
    "===\n",
    "The Rocket class so far is very simple. It can be made a little more interesting with some refinements to the `__init__()` method, and by the addition of some methods."
   ]
  },
  {
   "cell_type": "markdown",
   "metadata": {
    "slideshow": {
     "slide_type": "subslide"
    }
   },
   "source": [
    "#### Accepting paremeters for the \\_\\_init\\_\\_() method\n",
    "\n",
    "The `__init__()` method is run automatically one time when you create a new object from a class."
   ]
  },
  {
   "cell_type": "markdown",
   "metadata": {
    "slideshow": {
     "slide_type": "fragment"
    }
   },
   "source": [
    "```python \n",
    "class Rocket:\n",
    "    # Rocket simulates a rocket ship for a game,\n",
    "    #  or a physics simulation.\n",
    "    \n",
    "    def __init__(self):\n",
    "        # Each rocket has an (x,y) position.\n",
    "        self.x = 0\n",
    "        self.y = 0\n",
    "        \n",
    "    def move_up(self):\n",
    "        # Increment the y-position of the rocket.\n",
    "        self.y += 1\n",
    "```"
   ]
  },
  {
   "cell_type": "markdown",
   "metadata": {
    "slideshow": {
     "slide_type": "subslide"
    }
   },
   "source": [
    "All the `__init__()` method does so far is set the `x` and `y` values for the rocket to 0. We can easily add a couple keyword arguments so that new rockets can be initialized at any position:"
   ]
  },
  {
   "cell_type": "markdown",
   "metadata": {
    "slideshow": {
     "slide_type": "fragment"
    }
   },
   "source": [
    "```python \n",
    "class Rocket:\n",
    "    # Rocket simulates a rocket ship for a game,\n",
    "    #  or a physics simulation.\n",
    "    \n",
    "    def __init__(self, x=0, y=0):\n",
    "        # Each rocket has an (x,y) position.\n",
    "        self.x = x\n",
    "        self.y = y\n",
    "        \n",
    "    def move_up(self):\n",
    "        # Increment the y-position of the rocket.\n",
    "        self.y += 1\n",
    "```"
   ]
  },
  {
   "cell_type": "code",
   "execution_count": null,
   "metadata": {},
   "outputs": [],
   "source": [
    "# YOUR TURN: Rewrite code here\n",
    "\n",
    "\n"
   ]
  },
  {
   "cell_type": "markdown",
   "metadata": {
    "slideshow": {
     "slide_type": "subslide"
    }
   },
   "source": [
    "Now when you create a new Rocket object you have the choice of passing in arbitrary initial values for **x and y**:"
   ]
  },
  {
   "cell_type": "markdown",
   "metadata": {
    "slideshow": {
     "slide_type": "fragment"
    }
   },
   "source": [
    "```python \n",
    "# Make a series of rockets at different starting places.\n",
    "rockets = []\n",
    "rockets.append(Rocket())\n",
    "rockets.append(Rocket(0,10))\n",
    "rockets.append(Rocket(100,0))\n",
    "```"
   ]
  },
  {
   "cell_type": "markdown",
   "metadata": {
    "slideshow": {
     "slide_type": "subslide"
    }
   },
   "source": [
    "#### Accepting paremeters in a method\n",
    "\n",
    "The `__init__` method is just a special method that serves a particular purpose, which is to help create new objects from a class. Any method in a class can accept parameters of any kind. With this in mind, the `move_up()` method can be made much more flexible. By accepting keyword arguments, the `move_up()` method can be rewritten as a more general `move_rocket()` method."
   ]
  },
  {
   "cell_type": "markdown",
   "metadata": {
    "slideshow": {
     "slide_type": "subslide"
    }
   },
   "source": [
    "This new method will allow the rocket to be moved any amount, in any direction:"
   ]
  },
  {
   "cell_type": "markdown",
   "metadata": {
    "slideshow": {
     "slide_type": "fragment"
    }
   },
   "source": [
    "```python \n",
    "class Rocket:\n",
    "    # Rocket simulates a rocket ship for a game,\n",
    "    #  or a physics simulation.\n",
    "    \n",
    "    def __init__(self, x=0, y=0):\n",
    "        # Each rocket has an (x,y) position.\n",
    "        self.x = x\n",
    "        self.y = y\n",
    "        \n",
    "    def move_rocket(self, x_increment=0, y_increment=1):\n",
    "        # Move the rocket according to the paremeters given.\n",
    "        #  Default behavior is to move the rocket up one unit.\n",
    "        self.x += x_increment\n",
    "        self.y += y_increment\n",
    "```"
   ]
  },
  {
   "cell_type": "code",
   "execution_count": null,
   "metadata": {},
   "outputs": [],
   "source": [
    "# YOUR TURN: Rewrite code here\n",
    "\n"
   ]
  },
  {
   "cell_type": "markdown",
   "metadata": {
    "slideshow": {
     "slide_type": "subslide"
    }
   },
   "source": [
    "The paremeters for the `move()` method are named `x_increment` and `y_increment` rather than `x` and `y`. \n",
    "\n",
    "It's good to emphasize that these are changes in the `x` and `y` position, not new values for the actual position of the rocket. \n",
    "\n",
    "**By carefully choosing the right default values, we can define a meaningful default behavior**. \n",
    "\n",
    "If someone calls the method `move_rocket()` **with no parameters**, the rocket will simply move up one unit in the y-direciton. \n",
    "\n",
    "Note that this method can be given negative values to move the rocket left or right:"
   ]
  },
  {
   "cell_type": "markdown",
   "metadata": {
    "slideshow": {
     "slide_type": "fragment"
    }
   },
   "source": [
    "```python \n",
    "# Create three rockets.\n",
    "rockets = [Rocket() for x in range(0,3)]\n",
    "\n",
    "# Move each rocket a different amount.\n",
    "rockets[0].move_rocket()\n",
    "rockets[1].move_rocket(10,10)\n",
    "rockets[2].move_rocket(-10,0)\n",
    "```"
   ]
  },
  {
   "cell_type": "code",
   "execution_count": null,
   "metadata": {},
   "outputs": [],
   "source": [
    "# YOUR TURN: Rewrite code here\n"
   ]
  },
  {
   "cell_type": "markdown",
   "metadata": {
    "slideshow": {
     "slide_type": "subslide"
    }
   },
   "source": [
    "<a name='adding_method'></a>Adding a new method\n",
    "---\n",
    "One of the strengths of object-oriented programming is the ability to closely model real-world phenomena by adding appropriate attributes and behaviors to classes. One of the jobs of a team piloting a rocket is to make sure the rocket does not get too close to any other rockets. Let's add a method that will report the distance from one rocket to any other rocket.\n",
    "\n",
    "If you are not familiar with distance calculations, there is a fairly simple formula to tell the distance between two points if you know the x and y values of each point."
   ]
  },
  {
   "cell_type": "markdown",
   "metadata": {
    "slideshow": {
     "slide_type": "subslide"
    }
   },
   "source": [
    "This new method performs that calculation, and then returns the resulting distance."
   ]
  },
  {
   "cell_type": "markdown",
   "metadata": {
    "slideshow": {
     "slide_type": "fragment"
    }
   },
   "source": [
    "```python \n",
    "from math import sqrt\n",
    "\n",
    "class Rocket:\n",
    "    # Rocket simulates a rocket ship for a game,\n",
    "    #  or a physics simulation.\n",
    "    \n",
    "    def __init__(self, x=0, y=0):\n",
    "        # Each rocket has an (x,y) position.\n",
    "        self.x = x\n",
    "        self.y = y\n",
    "        \n",
    "    def move_rocket(self, x_increment=0, y_increment=1):\n",
    "        # Move the rocket according to the paremeters given.\n",
    "        #  Default behavior is to move the rocket up one unit.\n",
    "        self.x += x_increment\n",
    "        self.y += y_increment\n",
    "        \n",
    "    def get_distance(self, other_rocket):\n",
    "        # Calculates the distance from this rocket to another rocket,\n",
    "        #  and returns that value.\n",
    "        distance = sqrt((self.x-other_rocket.x)**2+(self.y-other_rocket.y)**2)\n",
    "        return distance\n",
    "```"
   ]
  },
  {
   "cell_type": "code",
   "execution_count": null,
   "metadata": {},
   "outputs": [],
   "source": [
    "# YOUR TURN: Rewrite code here\n",
    "\n"
   ]
  },
  {
   "cell_type": "markdown",
   "metadata": {
    "slideshow": {
     "slide_type": "subslide"
    }
   },
   "source": [
    "```python\n",
    "    \n",
    "# Make two rockets, at different places.\n",
    "rocket_0 = Rocket()\n",
    "rocket_1 = Rocket(10,5)\n",
    "\n",
    "# Show the distance between them.\n",
    "distance = rocket_0.get_distance(rocket_1)\n",
    "print(\"The rockets are {} units apart.\".format(distance))\n",
    "```"
   ]
  },
  {
   "cell_type": "code",
   "execution_count": null,
   "metadata": {},
   "outputs": [],
   "source": [
    "# YOUR TURN: Rewrite code here"
   ]
  },
  {
   "cell_type": "markdown",
   "metadata": {
    "slideshow": {
     "slide_type": "subslide"
    }
   },
   "source": [
    "Hopefully these short refinements show that you can extend a class' attributes and behavior to model the phenomena you are interested in as closely as you want. The rocket could have a name, a crew capacity, a payload, a certain amount of fuel, and any number of other attributes. You could define any behavior you want for the rocket, including interactions with other rockets and launch facilities, gravitational fields, and whatever you need it to! There are techniques for managing these more complex interactions, but what you have just seen is the core of object-oriented programming.\n",
    "\n",
    "At this point you should try your hand at writing some classes of your own. After trying some exercises, we will look at object inheritance, and then you will be ready to move on for now."
   ]
  },
  {
   "cell_type": "markdown",
   "metadata": {
    "slideshow": {
     "slide_type": "slide"
    }
   },
   "source": [
    "<a name='exercises_refining_rocket'></a>Exercises\n",
    "---"
   ]
  },
  {
   "cell_type": "markdown",
   "metadata": {
    "slideshow": {
     "slide_type": "subslide"
    }
   },
   "source": [
    "#### Your Own Rocket 2\n",
    "- There are enough new concepts here that you might want to try re-creating the [Rocket class](#adding_method) as it has been developed so far, looking at the examples as little as possible. Once you have your own version, regardless of how much you needed to look at the example, you can modify the class and explore the possibilities of what you have already learned.\n",
    "    - Re-create the Rocket class as it has been developed so far:\n",
    "        - Define the Rocket() class.\n",
    "        - Define the \\_\\_init\\_\\_() method. Let your \\_\\_init\\_\\_() method accept x and y values for the initial position of the rocket. Make sure the default behavior is to position the rocket at (0,0).\n",
    "        - Define the move_rocket() method. The method should accept an amount to move left or right, and an amount to move up or down.\n",
    "        - Create a Rocket object. Move the rocket around, printing its position after each move.\n",
    "        - Create a small fleet of rockets. Move several of them around, and print their final positions to prove that each rocket can move independently of the other rockets.\n",
    "        - Define the get_distance() method. The method should accept a Rocket object, and calculate the distance between the current rocket and the rocket that is passed into the method.\n",
    "        - Use the get_distance() method to print the distances between several of the rockets in your fleet.\n",
    "\n",
    "\n",
    "\n",
    "    \n"
   ]
  },
  {
   "cell_type": "markdown",
   "metadata": {
    "slideshow": {
     "slide_type": "subslide"
    }
   },
   "source": [
    "#### Rocket Attributes\n",
    "- Start with a copy of the Rocket class, either one you made from a previous exercise or the latest version from the last section.\n",
    "- Add several of your own attributes to the \\_\\_init\\_\\_() function. The values of your attributes can be set automatically by the \\_\\_init\\_\\_ function, or they can be set by paremeters passed into \\_\\_init\\_\\_().\n",
    "- Create a rocket and print the values for the attributes you have created, to show they have been set correctly.\n",
    "- Create a small fleet of rockets, and set different values for one of the attributes you have created. Print the values of these attributes for each rocket in your fleet, to show that they have been set properly for each rocket.\n",
    "- If you are not sure what kind of attributes to add, you could consider storing the height of the rocket, the crew size, the name of the rocket, the speed of the rocket, or many other possible characteristics of a rocket.\n",
    "\n",
    "\n"
   ]
  },
  {
   "cell_type": "markdown",
   "metadata": {
    "slideshow": {
     "slide_type": "subslide"
    }
   },
   "source": [
    "#### Rocket Methods\n",
    "- Start with a copy of the Rocket class, either one you made from a previous exercise or the latest version from the [last section](#adding_method).\n",
    "- Add a new method to the class. This is probably a little more challenging than adding attributes, but give it a try.\n",
    "    - Think of what rockets do, and make a very simple version of that behavior using print statements. For example, rockets lift off when they are launched. You could make a method called *launch()*, and all it would do is print a statement such as \"The rocket has lifted off!\" If your rocket has a name, this sentence could be more descriptive.\n",
    "    - You could make a very simple *land_rocket()* method that simply sets the x and y values of the rocket back to 0. Print the position before and after calling the *land_rocket()* method to make sure your method is doing what it's supposed to.\n",
    "    - If you enjoy working with math, you could implement a *safety_check()* method. This method would take in another rocket object, and call the get_distance() method on that rocket. Then it would check if that rocket is too close, and print a warning message if the rocket is too close. If there is zero distance between the two rockets, your method could print a message such as, \"The rockets have crashed!\" (Be careful; getting a zero distance could mean that you accidentally found the distance between a rocket and itself, rather than a second rocket.)"
   ]
  },
  {
   "cell_type": "markdown",
   "metadata": {
    "slideshow": {
     "slide_type": "subslide"
    }
   },
   "source": [
    "    \n",
    "#### <a name='exercise_person_class'></a>Person Class\n",
    "- Modeling a person is a classic exercise for people who are trying to learn how to write classes. We are all familiar with characteristics and behaviors of people, so it is a good exercise to try.\n",
    "    - Define a Person() class.\n",
    "    - In the \\_\\_init()\\_\\_ function, define several attributes of a person. Good attributes to consider are name, age, place of birth, and anything else you like to know about the people in your life.\n",
    "    - Write one method. This could be as simple as *introduce_yourself()*. This method would print out a statement such as, \"Hello, my name is Eric.\"\n",
    "    - You could also make a method such as *age_person()*. A simple version of this method would just add 1 to the person's age.\n",
    "        - A more complicated version of this method would involve storing the person's birthdate rather than their age, and then calculating the age whenever the age is requested. But dealing with dates and times is not particularly easy if you've never done it in any other programming language before.\n",
    "    - Create a person, set the attribute values appropriately, and print out information about the person.\n",
    "    - Call your method on the person you created. Make sure your method executed properly; if the method does not print anything out directly, print something before and after calling the method to make sure it did what it was supposed to."
   ]
  },
  {
   "cell_type": "markdown",
   "metadata": {
    "slideshow": {
     "slide_type": "subslide"
    }
   },
   "source": [
    "#### <a name='exercise_car_class'></a>Car Class\n",
    "- Modeling a car is another classic exercise.\n",
    "    - Define a Car() class.\n",
    "    - In the \\_\\_init\\_\\_() function, define several attributes of a car. Some good attributes to consider are make (Subaru, Audi, Volvo...), model (Outback, allroad, C30), year, num_doors, owner, or any other aspect of a car you care to include in your class.\n",
    "    - Write one method. This could be something such as *describe_car()*. This method could print a series of statements that describe the car, using the information that is stored in the attributes. You could also write a method that adjusts the mileage of the car or tracks its position.\n",
    "    - Create a car object, and use your method.\n",
    "    - Create several car objects with different values for the attributes. Use your method on several of your cars."
   ]
  },
  {
   "cell_type": "markdown",
   "metadata": {
    "slideshow": {
     "slide_type": "skip"
    }
   },
   "source": [
    "---"
   ]
  },
  {
   "cell_type": "markdown",
   "metadata": {
    "slideshow": {
     "slide_type": "slide"
    }
   },
   "source": [
    "<a name='inheritance'></a>Inheritance\n",
    "==="
   ]
  },
  {
   "cell_type": "markdown",
   "metadata": {
    "slideshow": {
     "slide_type": "fragment"
    }
   },
   "source": [
    "One of the most important goals of the object-oriented approach to programming is the creation of stable, reliable, reusable code. If you had to create a new class for every kind of object you wanted to model, you would hardly have any reusable code. "
   ]
  },
  {
   "cell_type": "markdown",
   "metadata": {
    "slideshow": {
     "slide_type": "fragment"
    }
   },
   "source": [
    "In Python and any other language that supports OOP, one class can **inherit** from another class. This means you can base a new class on an existing class; the new class *inherits* all of the attributes and behavior of the class it is based on. "
   ]
  },
  {
   "cell_type": "markdown",
   "metadata": {
    "slideshow": {
     "slide_type": "subslide"
    }
   },
   "source": [
    "A new class can override any undesirable attributes or behavior of the class it inherits from, and it can add any new attributes or behavior that are appropriate. The original class is called the **parent** class, and the new class is a **child** of the parent class. The parent class is also called a **superclass**, and the child class is also called a **subclass**."
   ]
  },
  {
   "cell_type": "markdown",
   "metadata": {
    "slideshow": {
     "slide_type": "fragment"
    }
   },
   "source": [
    "The child class inherits all attributes and behavior from the parent class, but any attributes that are defined in the child class are not available to the parent class. This may be obvious to many people, but it is worth stating. "
   ]
  },
  {
   "cell_type": "markdown",
   "metadata": {
    "slideshow": {
     "slide_type": "fragment"
    }
   },
   "source": [
    "This also means a child class can override behavior of the parent class. If a child class defines a method that also appears in the parent class, objects of the child class will use the new method rather than the parent class method.\n"
   ]
  },
  {
   "cell_type": "markdown",
   "metadata": {
    "slideshow": {
     "slide_type": "fragment"
    }
   },
   "source": [
    "To better understand inheritance, let's look at an example of a class that can be based on the Rocket class."
   ]
  },
  {
   "cell_type": "markdown",
   "metadata": {
    "slideshow": {
     "slide_type": "subslide"
    }
   },
   "source": [
    "```python \n",
    "from math import sqrt\n",
    "\n",
    "class Rocket:\n",
    "    # Rocket simulates a rocket ship for a game,\n",
    "    #  or a physics simulation.\n",
    "    \n",
    "    def __init__(self, x=0, y=0):\n",
    "        # Each rocket has an (x,y) position.\n",
    "        self.x = x\n",
    "        self.y = y\n",
    "        \n",
    "    def move_rocket(self, x_increment=0, y_increment=1):\n",
    "        # Move the rocket according to the paremeters given.\n",
    "        #  Default behavior is to move the rocket up one unit.\n",
    "        self.x += x_increment\n",
    "        self.y += y_increment\n",
    "        \n",
    "    def get_distance(self, other_rocket):\n",
    "        # Calculates the distance from this rocket to another rocket,\n",
    "        #  and returns that value.\n",
    "        distance = sqrt((self.x-other_rocket.x)**2+(self.y-other_rocket.y)**2)\n",
    "        return distance\n",
    "    \n",
    "class Shuttle(Rocket):\n",
    "    # Shuttle simulates a space shuttle, which is really\n",
    "    #  just a reusable rocket.\n",
    "    \n",
    "    def __init__(self, x=0, y=0, flights_completed=0):\n",
    "        super().__init__(x, y)\n",
    "        self.flights_completed = flights_completed\n",
    "```"
   ]
  },
  {
   "cell_type": "code",
   "execution_count": null,
   "metadata": {},
   "outputs": [],
   "source": [
    "# YOUR TURN: Rewrite code here\n",
    "\n"
   ]
  },
  {
   "cell_type": "markdown",
   "metadata": {
    "slideshow": {
     "slide_type": "fragment"
    }
   },
   "source": [
    "When a new class is based on an existing class, you write the name of the parent class in parentheses when you define the new class.\n",
    "\n",
    "    "
   ]
  },
  {
   "cell_type": "markdown",
   "metadata": {
    "slideshow": {
     "slide_type": "subslide"
    }
   },
   "source": [
    "#### General Syntaxt"
   ]
  },
  {
   "cell_type": "markdown",
   "metadata": {
    "slideshow": {
     "slide_type": "fragment"
    }
   },
   "source": [
    "```python \n",
    "class NewClass(ParentClass):\n",
    "```"
   ]
  },
  {
   "cell_type": "markdown",
   "metadata": {
    "slideshow": {
     "slide_type": "subslide"
    }
   },
   "source": [
    "The `__init__()` function of the new class needs to call the `__init__()` function of the parent class. \n",
    "\n",
    "The `__init__()` function of the new class needs to accept all of the parameters required to build an object from the parent class, and these parameters need to be passed to the `__init__()` function of the parent class. \n",
    "\n",
    "The `super().__init__()` function takes care of this:\n"
   ]
  },
  {
   "cell_type": "markdown",
   "metadata": {
    "slideshow": {
     "slide_type": "fragment"
    }
   },
   "source": [
    "```python \n",
    "class NewClass(ParentClass):\n",
    "    \n",
    "    def __init__(self, arguments_new_class, arguments_parent_class):\n",
    "        super().__init__(arguments_parent_class)\n",
    "        # Code for initializing an object of the new class.\n",
    "```"
   ]
  },
  {
   "cell_type": "markdown",
   "metadata": {
    "slideshow": {
     "slide_type": "subslide"
    }
   },
   "source": [
    "The `super()` function passes the *self* argument to the parent class automatically. \n",
    "\n",
    "You could also do this by explicitly naming the parent class when you call the `__init__()` function, but you then have to include the `self` argument manually:"
   ]
  },
  {
   "cell_type": "markdown",
   "metadata": {
    "slideshow": {
     "slide_type": "fragment"
    }
   },
   "source": [
    "```python \n",
    "class Shuttle(Rocket):\n",
    "    # Shuttle simulates a space shuttle, which is really\n",
    "    #  just a reusable rocket.\n",
    "    \n",
    "    def __init__(self, x=0, y=0, flights_completed=0):\n",
    "        Rocket.__init__(self, x, y)\n",
    "        self.flights_completed = flights_completed\n",
    "```"
   ]
  },
  {
   "cell_type": "markdown",
   "metadata": {
    "slideshow": {
     "slide_type": "subslide"
    }
   },
   "source": [
    "This might seem a little easier to read, but it is preferable to use the *super()* syntax. When you use *super()*, you don't need to explicitly name the parent class, so your code is more resilient to later changes. As you learn more about classes, you will be able to write child classes that inherit from multiple parent classes, and the *super()* function will call the parent classes' \\_\\_init\\_\\_() functions for you, in one line. This explicit approach to calling the parent class' \\_\\_init\\_\\_() function is included so that you will be less confused if you see it in someone else's code."
   ]
  },
  {
   "cell_type": "markdown",
   "metadata": {
    "slideshow": {
     "slide_type": "subslide"
    }
   },
   "source": [
    "The output above shows that a new Shuttle object was created. This new Shuttle object can store the number of flights completed, but it also has all of the functionality of the Rocket class: it has a position that can be changed, and it can calculate the distance between itself and other rockets or shuttles. This can be demonstrated by creating several rockets and shuttles, and then finding the distance between one shuttle and all the other shuttles and rockets."
   ]
  },
  {
   "cell_type": "markdown",
   "metadata": {
    "slideshow": {
     "slide_type": "subslide"
    }
   },
   "source": [
    "This example uses a simple function called [randint](https://docs.python.org/3/library/random.html#random.randint), which generates a random integer between a lower and upper bound, to determine the position of each rocket and shuttle:"
   ]
  },
  {
   "cell_type": "markdown",
   "metadata": {
    "slideshow": {
     "slide_type": "fragment"
    }
   },
   "source": [
    "```python \n",
    "from math import sqrt\n",
    "from random import randint\n",
    "\n",
    "class Rocket:\n",
    "    # Rocket simulates a rocket ship for a game,\n",
    "    #  or a physics simulation.\n",
    "    \n",
    "    def __init__(self, x=0, y=0):\n",
    "        # Each rocket has an (x,y) position.\n",
    "        self.x = x\n",
    "        self.y = y\n",
    "        \n",
    "    def move_rocket(self, x_increment=0, y_increment=1):\n",
    "        # Move the rocket according to the paremeters given.\n",
    "        #  Default behavior is to move the rocket up one unit.\n",
    "        self.x += x_increment\n",
    "        self.y += y_increment\n",
    "        \n",
    "    def get_distance(self, other_rocket):\n",
    "        # Calculates the distance from this rocket to another rocket,\n",
    "        #  and returns that value.\n",
    "        distance = sqrt((self.x-other_rocket.x)**2+(self.y-other_rocket.y)**2)\n",
    "        return distance\n",
    "```"
   ]
  },
  {
   "cell_type": "code",
   "execution_count": null,
   "metadata": {},
   "outputs": [],
   "source": [
    "# YOUR TURN: Rewrite code here\n",
    "\n"
   ]
  },
  {
   "cell_type": "markdown",
   "metadata": {
    "slideshow": {
     "slide_type": "subslide"
    }
   },
   "source": [
    "```python \n",
    "class Shuttle(Rocket):\n",
    "    # Shuttle simulates a space shuttle, which is really\n",
    "    #  just a reusable rocket.\n",
    "    \n",
    "    def __init__(self, x=0, y=0, flights_completed=0):\n",
    "        super().__init__(x, y)\n",
    "        self.flights_completed = flights_completed\n",
    "```"
   ]
  },
  {
   "cell_type": "code",
   "execution_count": null,
   "metadata": {},
   "outputs": [],
   "source": [
    "# YOUR TURN: Rewrite code here\n",
    "\n",
    "\n"
   ]
  },
  {
   "cell_type": "markdown",
   "metadata": {
    "slideshow": {
     "slide_type": "fragment"
    }
   },
   "source": [
    "```python \n",
    "# Create several shuttles and rockets, with random positions.\n",
    "#  Shuttles have a random number of flights completed.\n",
    ">>> shuttles = []\n",
    ">>> for x in range(0,3):\n",
    "...    x = randint(0,100)\n",
    "...    y = randint(1,100)\n",
    "...    flights_completed = randint(0,10)\n",
    "...    shuttles.append(Shuttle(x, y, flights_completed))\n",
    "...\n",
    "\n",
    ">>> rockets = []\n",
    ">>> for x in range(0,3):\n",
    "...    x = randint(0,100)\n",
    "...    y = randint(1,100)\n",
    "...    rockets.append(Rocket(x, y))\n",
    "...\n",
    "```"
   ]
  },
  {
   "cell_type": "code",
   "execution_count": null,
   "metadata": {},
   "outputs": [],
   "source": [
    "# YOUR TURN: Rewrite code here\n",
    "\n"
   ]
  },
  {
   "cell_type": "markdown",
   "metadata": {
    "slideshow": {
     "slide_type": "subslide"
    }
   },
   "source": [
    "```python \n",
    "# Show the number of flights completed for each shuttle.\n",
    ">>> for index, shuttle in enumerate(shuttles):\n",
    "...    print(\"Shuttle {} has completed {} flights.\".format(index, shuttle.flights_completed))\n",
    "...\n",
    "Shuttle 0 has completed 10 flights.\n",
    "Shuttle 1 has completed 9 flights.\n",
    "Shuttle 2 has completed 4 flights.\n",
    "\n",
    "# Show the distance from the first shuttle to all other shuttles.\n",
    ">>> first_shuttle = shuttles[0]\n",
    ">>> for index, shuttle in enumerate(shuttles):\n",
    "...    distance = first_shuttle.get_distance(shuttle)\n",
    "...    print(\"The first shuttle is {} units away from shuttle {}.\".format(distance, index))\n",
    "The first shuttle is 0.000000 units away from shuttle 0.\n",
    "The first shuttle is 45.177428 units away from shuttle 1.\n",
    "The first shuttle is 89.358827 units away from shuttle 2.\n",
    "```"
   ]
  },
  {
   "cell_type": "code",
   "execution_count": null,
   "metadata": {},
   "outputs": [],
   "source": [
    "# YOUR TURN: Rewrite code here\n",
    "\n",
    "\n"
   ]
  },
  {
   "cell_type": "markdown",
   "metadata": {
    "slideshow": {
     "slide_type": "subslide"
    }
   },
   "source": [
    "```python \n",
    "# Show the distance from the first shuttle to all other rockets.\n",
    ">>> for index, rocket in enumerate(rockets):\n",
    "...    distance = first_shuttle.get_distance(rocket)\n",
    "...    print(\"The first shuttle is {} units away from rocket {}.\".format(distance, index))\n",
    "\n",
    "The first shuttle is 63.505905 units away from rocket 0.\n",
    "The first shuttle is 21.095023 units away from rocket 1.\n",
    "The first shuttle is 16.763055 units away from rocket 2.\n",
    "```"
   ]
  },
  {
   "cell_type": "code",
   "execution_count": null,
   "metadata": {},
   "outputs": [],
   "source": [
    "# YOUR TURN: Rewrite code here\n",
    "\n",
    "\n"
   ]
  },
  {
   "cell_type": "markdown",
   "metadata": {
    "slideshow": {
     "slide_type": "subslide"
    }
   },
   "source": [
    "Inheritance is a powerful feature of object-oriented programming. Using just what you have seen so far about classes, you can model an incredible variety of real-world and virtual phenomena with a high degree of accuracy. The code you write has the potential to be stable and reusable in a variety of applications."
   ]
  },
  {
   "cell_type": "markdown",
   "metadata": {
    "slideshow": {
     "slide_type": "subslide"
    }
   },
   "source": [
    "<a name='exercises_inheritance'></a>Exercises\n",
    "---\n",
    "#### <a name='exercise_student_class'></a>Student Class\n",
    "- Start with your program from [Person Class](#exercise_person_class).\n",
    "- Make a new class called Student that inherits from Person.\n",
    "- Define some attributes that a student has, which other people don't have.\n",
    "    - A student has a school they are associated with, a graduation year, a gpa, and other particular attributes.\n",
    "- Create a Student object, and prove that you have used inheritance correctly.\n",
    "    - Set some attribute values for the student, that are only coded in the Person class.\n",
    "    - Set some attribute values for the student, that are only coded in the Student class.\n",
    "    - Print the values for all of these attributes.\n",
    "\n",
    "#### Refining Shuttle\n",
    "- Take the latest version of the [Shuttle class](#shuttle). Extend it.\n",
    "    - Add more attributes that are particular to shuttles such as maximum number of flights, capability of supporting spacewalks, and capability of docking with the ISS.\n",
    "    - Add one more method to the class, that relates to shuttle behavior. This method could simply print a statement, such as \"Docking with the ISS,\" for a dock_ISS() method.\n",
    "    - Prove that your refinements work by creating a Shuttle object with these attributes, and then call your new method."
   ]
  }
 ],
 "metadata": {
  "kernelspec": {
   "display_name": "Python 3 (ipykernel)",
   "language": "python",
   "name": "python3"
  },
  "language_info": {
   "codemirror_mode": {
    "name": "ipython",
    "version": 3
   },
   "file_extension": ".py",
   "mimetype": "text/x-python",
   "name": "python",
   "nbconvert_exporter": "python",
   "pygments_lexer": "ipython3",
   "version": "3.9.13"
  }
 },
 "nbformat": 4,
 "nbformat_minor": 4
}
