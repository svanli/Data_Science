{
 "cells": [
  {
   "cell_type": "markdown",
   "id": "ac50e253-01c7-41ab-83c8-b59596bc298c",
   "metadata": {},
   "source": [
    "<h1>Notes (parts 3.1–...)</h1>"
   ]
  },
  {
   "cell_type": "markdown",
   "id": "f70722cc-71df-439b-b712-09b8f894a8f9",
   "metadata": {},
   "source": [
    "<h2>3.1 Classes</h2>"
   ]
  },
  {
   "cell_type": "code",
   "execution_count": 9,
   "id": "58ba5a99-a421-48c8-b734-7a9abe3146d9",
   "metadata": {},
   "outputs": [
    {
     "name": "stdout",
     "output_type": "stream",
     "text": [
      "Hello, my name is John.\n"
     ]
    }
   ],
   "source": [
    "class Person:\n",
    "    def __init__(self, name):\n",
    "        self.name = name\n",
    "    \n",
    "    def say_hello(self):\n",
    "        print(f\"Hello, my name is {self.name}.\")\n",
    "\n",
    "person = Person(\"John\")\n",
    "person.say_hello() # Output: \"Hello, my name is John.\""
   ]
  },
  {
   "cell_type": "code",
   "execution_count": 12,
   "id": "a77758c0-5d85-4467-a977-8505e24cb70d",
   "metadata": {},
   "outputs": [
    {
     "name": "stdout",
     "output_type": "stream",
     "text": [
      "Hello, my name is John.\n"
     ]
    }
   ],
   "source": [
    "# We define a class called 'Person':\n",
    "class Person:\n",
    "    # This class has two methods: '__init__' and 'say_hello'.\n",
    "    # The first method '__init__' is called when an instance of a class is created:\n",
    "    def __init__(self, name): # It takes the 'name' parameter\n",
    "        self.name = name # and initializes the 'name' attribute of the class with that value\n",
    "    \n",
    "    #The second method 'say_hello':\n",
    "    def say_hello(self):\n",
    "        print(f\"Hello, my name is {self.name}.\") # it simply prints a message to the console using \n",
    "                                                 # the 'name' attribute of the class\n",
    "\n",
    "# We then create an instance of the class called 'person'\n",
    "person = Person(\"John\")\n",
    "\n",
    "# and call the 'say_hello' method on it\n",
    "person.say_hello() # Output: \"Hello, my name is John.\""
   ]
  },
  {
   "cell_type": "code",
   "execution_count": 11,
   "id": "7106ca97-b241-49ff-842e-88584f801dd8",
   "metadata": {},
   "outputs": [
    {
     "name": "stdout",
     "output_type": "stream",
     "text": [
      "Hello, my name is Alex.\n"
     ]
    }
   ],
   "source": [
    "person2 = Person('Alex')\n",
    "person2.say_hello()"
   ]
  },
  {
   "cell_type": "code",
   "execution_count": 14,
   "id": "542a338a-07e6-4776-882a-3a6208e0d734",
   "metadata": {},
   "outputs": [
    {
     "name": "stdout",
     "output_type": "stream",
     "text": [
      "John\n",
      "Alex\n"
     ]
    }
   ],
   "source": [
    "print(person.name)\n",
    "print(person2.name)"
   ]
  },
  {
   "cell_type": "code",
   "execution_count": 17,
   "id": "b283fa60-d891-4795-b13f-3bc5311c3da5",
   "metadata": {},
   "outputs": [
    {
     "name": "stdout",
     "output_type": "stream",
     "text": [
      "0\n",
      "1\n",
      "2\n",
      "3\n",
      "4\n"
     ]
    }
   ],
   "source": [
    "for number in range(0, 5):\n",
    "    print(number)"
   ]
  },
  {
   "cell_type": "code",
   "execution_count": 1,
   "id": "7df30549-4260-4652-ad00-2b36a26ee9f0",
   "metadata": {},
   "outputs": [],
   "source": [
    "class Rocket:\n",
    "    def __init__(self):\n",
    "        self.x = 0\n",
    "        self.y = 0"
   ]
  },
  {
   "cell_type": "code",
   "execution_count": 2,
   "id": "df8fd207-c9a3-45ed-a60f-e37ec9a40663",
   "metadata": {},
   "outputs": [],
   "source": [
    "class Rocket:\n",
    "\n",
    "    def __init__(self):\n",
    "        self.x = 0\n",
    "        self.y = 0\n",
    "        \n",
    "    def move_up(self):\n",
    "        self.y += 1 # equivalent to self.y = self.y + 1"
   ]
  },
  {
   "cell_type": "code",
   "execution_count": 3,
   "id": "a0c4c45d-b5bb-4108-8526-c45661b67400",
   "metadata": {},
   "outputs": [],
   "source": [
    "my_rocket = Rocket()"
   ]
  },
  {
   "cell_type": "code",
   "execution_count": 5,
   "id": "815f01d2-694c-4164-abba-df6017f6b618",
   "metadata": {},
   "outputs": [],
   "source": [
    "class MyClass:\n",
    "    pass"
   ]
  },
  {
   "cell_type": "code",
   "execution_count": 6,
   "id": "0edb3b58-5df3-4e40-b3b2-d4b85392ee39",
   "metadata": {},
   "outputs": [
    {
     "data": {
      "text/plain": [
       "__main__.MyClass"
      ]
     },
     "execution_count": 6,
     "metadata": {},
     "output_type": "execute_result"
    }
   ],
   "source": [
    "MyClass"
   ]
  },
  {
   "cell_type": "code",
   "execution_count": 10,
   "id": "81d86421-f106-4757-9e85-13a9e4e9a613",
   "metadata": {},
   "outputs": [],
   "source": [
    "class Rocket:\n",
    "    \"\"\" \n",
    "    Rocket simulates a rocket ship for a game, or a physics simulation.\n",
    "    \"\"\"\n",
    "    def __init__(self):\n",
    "        # Each rocket has an (x,y) position.\n",
    "        self.x = 0\n",
    "        self.y = 0\n",
    "        \n",
    "    def move_up(self):\n",
    "        # Increment the y-position of the rocket.\n",
    "        self.y += 1"
   ]
  },
  {
   "cell_type": "code",
   "execution_count": 13,
   "id": "572a3fc8-70fc-40fb-9ee4-639a804dd899",
   "metadata": {},
   "outputs": [],
   "source": [
    "class Rocket:\n",
    "    # Rocket simulates a rocket ship for a game,\n",
    "    #  or a physics simulation.\n",
    "    \n",
    "    def __init__(self):\n",
    "        # Each rocket has an (x,y) position.\n",
    "        self.x = 0\n",
    "        self.y = 0\n",
    "        \n",
    "    def move_up(self):\n",
    "        # Increment the y-position of the rocket.\n",
    "        self.y += 1 # equivalent to self.y = self.y + 1"
   ]
  },
  {
   "cell_type": "code",
   "execution_count": 21,
   "id": "fc71b5d9-4bf5-4a0e-a46b-f1037751d92e",
   "metadata": {},
   "outputs": [],
   "source": [
    "class Rocket:\n",
    "    \n",
    "    def __init__(self):\n",
    "        self.x = 0\n",
    "        self.y = 0\n",
    "        \n",
    "    def move_up(self):\n",
    "        self.y += 1"
   ]
  },
  {
   "cell_type": "code",
   "execution_count": 22,
   "id": "4a7488e9-4fc3-4824-979e-1b9d757ed650",
   "metadata": {},
   "outputs": [],
   "source": [
    "object = Rocket()"
   ]
  },
  {
   "cell_type": "code",
   "execution_count": 23,
   "id": "8ec0e263-e642-4ada-bcd3-ac6c29c761d6",
   "metadata": {},
   "outputs": [
    {
     "name": "stdout",
     "output_type": "stream",
     "text": [
      "Original y-value: 0\n"
     ]
    }
   ],
   "source": [
    "print(f'Original y-value: {object.y}')"
   ]
  },
  {
   "cell_type": "code",
   "execution_count": 24,
   "id": "c653171c-8c3c-4dd3-a7ce-87c8d9e9cd2e",
   "metadata": {},
   "outputs": [
    {
     "name": "stdout",
     "output_type": "stream",
     "text": [
      "y-value after applying 'move_up': 1\n"
     ]
    }
   ],
   "source": [
    "object.move_up()\n",
    "\n",
    "print(f\"y-value after applying 'move_up': {object.y}\")"
   ]
  },
  {
   "cell_type": "code",
   "execution_count": 25,
   "id": "b7946950-e414-4e3c-9618-e5e7744f1754",
   "metadata": {},
   "outputs": [],
   "source": [
    "class Rocket:\n",
    "    \n",
    "    def __init__(self):\n",
    "        self.x = 0\n",
    "        self.y = 0\n",
    "        \n",
    "    def move_up(self):\n",
    "        self.y += 1"
   ]
  },
  {
   "cell_type": "code",
   "execution_count": 26,
   "id": "4240ed42-434c-4116-a204-7125e326a062",
   "metadata": {},
   "outputs": [],
   "source": [
    "object2 = Rocket()"
   ]
  },
  {
   "cell_type": "code",
   "execution_count": 27,
   "id": "18834b1c-88e3-4668-b1fb-ba860288536c",
   "metadata": {},
   "outputs": [
    {
     "name": "stdout",
     "output_type": "stream",
     "text": [
      "Original y-value: 0\n"
     ]
    }
   ],
   "source": [
    "print(f'Original y-value: {object2.y}')"
   ]
  },
  {
   "cell_type": "code",
   "execution_count": 28,
   "id": "29767863-3c15-4c39-84f3-0fb9ab5bba6c",
   "metadata": {},
   "outputs": [
    {
     "name": "stdout",
     "output_type": "stream",
     "text": [
      "y-value after applying 'move_up': 1\n"
     ]
    }
   ],
   "source": [
    "object2.move_up()\n",
    "\n",
    "print(f\"y-value after applying 'move_up': {object2.y}\")"
   ]
  },
  {
   "cell_type": "code",
   "execution_count": 29,
   "id": "d2a44645-f818-425f-b234-4cd9287c5237",
   "metadata": {},
   "outputs": [],
   "source": [
    "class Rocket:\n",
    "    # Rocket simulates a rocket shop for a game,\n",
    "    # or a physics simulation.\n",
    "    \n",
    "    def __init__(self, x = 0, y = 0):\n",
    "        # Each rocket has an (x, y) position.\n",
    "        self.x = x\n",
    "        self.y = y\n",
    "        \n",
    "    def move_up(self):\n",
    "        # Increment the y-position of the rocket.\n",
    "        self.y += 1"
   ]
  },
  {
   "cell_type": "code",
   "execution_count": 31,
   "id": "67d70f6a-98d7-4eb1-9e37-beb4cd3da3b3",
   "metadata": {},
   "outputs": [],
   "source": [
    "object = Rocket()"
   ]
  },
  {
   "cell_type": "code",
   "execution_count": 32,
   "id": "7c1c415d-5d7d-4892-9c1e-6b1f25f9022d",
   "metadata": {},
   "outputs": [
    {
     "data": {
      "text/plain": [
       "0"
      ]
     },
     "execution_count": 32,
     "metadata": {},
     "output_type": "execute_result"
    }
   ],
   "source": [
    "object.x"
   ]
  },
  {
   "cell_type": "code",
   "execution_count": 33,
   "id": "a41dd5f0-4c86-40d5-b272-94d380ea1154",
   "metadata": {},
   "outputs": [
    {
     "data": {
      "text/plain": [
       "0"
      ]
     },
     "execution_count": 33,
     "metadata": {},
     "output_type": "execute_result"
    }
   ],
   "source": [
    "object.y"
   ]
  },
  {
   "cell_type": "code",
   "execution_count": 34,
   "id": "7e4a9af4-a347-4a4e-b3f7-b32f23fbef5d",
   "metadata": {},
   "outputs": [],
   "source": [
    "object2 = Rocket(1, 3)"
   ]
  },
  {
   "cell_type": "code",
   "execution_count": 37,
   "id": "a8cdb295-0d3f-402c-84f9-c08d7bca7269",
   "metadata": {},
   "outputs": [
    {
     "data": {
      "text/plain": [
       "1"
      ]
     },
     "execution_count": 37,
     "metadata": {},
     "output_type": "execute_result"
    }
   ],
   "source": [
    "object2.x"
   ]
  },
  {
   "cell_type": "code",
   "execution_count": 38,
   "id": "9ec6392e-971a-4b06-908f-508eedd1a97e",
   "metadata": {},
   "outputs": [
    {
     "data": {
      "text/plain": [
       "3"
      ]
     },
     "execution_count": 38,
     "metadata": {},
     "output_type": "execute_result"
    }
   ],
   "source": [
    "object2.y"
   ]
  },
  {
   "cell_type": "code",
   "execution_count": 39,
   "id": "dfd99d92-a836-4942-b4e3-bd347de232e4",
   "metadata": {},
   "outputs": [
    {
     "data": {
      "text/plain": [
       "4"
      ]
     },
     "execution_count": 39,
     "metadata": {},
     "output_type": "execute_result"
    }
   ],
   "source": [
    "object2.move_up()\n",
    "object2.y"
   ]
  },
  {
   "cell_type": "code",
   "execution_count": 40,
   "id": "51adcbe0-8d00-49e8-b71b-41d3aa62d1f9",
   "metadata": {},
   "outputs": [],
   "source": [
    "rockets = []\n",
    "rockets.append(Rocket())\n",
    "rockets.append(Rocket(0, 10))\n",
    "rockets.append(Rocket(100, 0))"
   ]
  },
  {
   "cell_type": "code",
   "execution_count": 44,
   "id": "fc868b27-608e-4b8e-bef9-a72a3e6b8a7d",
   "metadata": {},
   "outputs": [],
   "source": [
    "class Rocket:\n",
    "    # Rocket simulates a rocket ship for a game,\n",
    "    # or a physics simulation.\n",
    "    \n",
    "    def __init__(self, x = 0, y = 0):\n",
    "        # Each rocket has an (x, y) position.\n",
    "        self.x = x\n",
    "        self.y = y\n",
    "        \n",
    "    def move_rocket(self, x_increment = 0, y_increment = 1):\n",
    "        # Move the rocket according to the parementers given.\n",
    "        # Default behavior is to move the rocket up one unit.\n",
    "        self.x += x_increment\n",
    "        self.y += y_increment"
   ]
  },
  {
   "cell_type": "code",
   "execution_count": 46,
   "id": "7d22369f-46d0-44fb-b4ef-a05cf2a7a546",
   "metadata": {},
   "outputs": [],
   "source": [
    "first_rocket = Rocket(8, 4)"
   ]
  },
  {
   "cell_type": "code",
   "execution_count": 48,
   "id": "63cd9522-8305-4d4c-9acd-0fddfc70798d",
   "metadata": {},
   "outputs": [
    {
     "name": "stdout",
     "output_type": "stream",
     "text": [
      "8\n",
      "4\n"
     ]
    }
   ],
   "source": [
    "print(first_rocket.x)\n",
    "print(first_rocket.y)"
   ]
  },
  {
   "cell_type": "code",
   "execution_count": 49,
   "id": "bdf24903-6e55-438d-aa87-fd79c2bdcc9a",
   "metadata": {},
   "outputs": [],
   "source": [
    "first_rocket.move_rocket(10, 15)"
   ]
  },
  {
   "cell_type": "code",
   "execution_count": 50,
   "id": "89ee1e30-dd67-4da0-9cb1-66dd0693393f",
   "metadata": {},
   "outputs": [
    {
     "name": "stdout",
     "output_type": "stream",
     "text": [
      "18\n",
      "19\n"
     ]
    }
   ],
   "source": [
    "print(first_rocket.x)\n",
    "print(first_rocket.y)"
   ]
  },
  {
   "cell_type": "code",
   "execution_count": 15,
   "id": "c95e281d-e134-48d6-ade5-c1021df1fa3e",
   "metadata": {},
   "outputs": [],
   "source": [
    "from math import sqrt\n",
    "\n",
    "class Rocket:\n",
    "    \n",
    "    def __init__(self, x = 0, y = 0):\n",
    "        self.x = x\n",
    "        self.y = y\n",
    "        \n",
    "    def move_rocket(self, x_increment = 0, y_increment = 1):\n",
    "        self.x += x_increment\n",
    "        self.y += y_increment\n",
    "        \n",
    "    def get_distance(self, other_rocket):\n",
    "        distance = sqrt(((self.x - other_rocket.x) ** 2) + ((self.y - other_rocket.y) ** 2))\n",
    "        return distance"
   ]
  },
  {
   "cell_type": "code",
   "execution_count": 2,
   "id": "4cbd1f76-acd0-41c5-8367-7962bf012720",
   "metadata": {},
   "outputs": [],
   "source": [
    "object1 = Rocket()"
   ]
  },
  {
   "cell_type": "code",
   "execution_count": 3,
   "id": "df0826d7-087c-4c04-b6df-8a1f83d87ac6",
   "metadata": {},
   "outputs": [
    {
     "name": "stdout",
     "output_type": "stream",
     "text": [
      "0\n",
      "0\n"
     ]
    }
   ],
   "source": [
    "print(object1.x)\n",
    "print(object1.y)"
   ]
  },
  {
   "cell_type": "code",
   "execution_count": 4,
   "id": "fd0b35e8-8187-43d7-98e5-d07fc15ffe63",
   "metadata": {},
   "outputs": [],
   "source": [
    "object2 = Rocket(10, 53)"
   ]
  },
  {
   "cell_type": "code",
   "execution_count": 5,
   "id": "9223c485-5698-4978-87ea-a430568c41ac",
   "metadata": {},
   "outputs": [
    {
     "name": "stdout",
     "output_type": "stream",
     "text": [
      "10\n",
      "53\n"
     ]
    }
   ],
   "source": [
    "print(object2.x)\n",
    "print(object2.y)"
   ]
  },
  {
   "cell_type": "code",
   "execution_count": 6,
   "id": "8ce10ee3-6eec-47bc-8697-edd4c4940cac",
   "metadata": {},
   "outputs": [],
   "source": [
    "object1.move_rocket()"
   ]
  },
  {
   "cell_type": "code",
   "execution_count": 7,
   "id": "9ef3f87e-0d61-4bd1-80c2-392f5c351ad5",
   "metadata": {},
   "outputs": [
    {
     "name": "stdout",
     "output_type": "stream",
     "text": [
      "0\n",
      "1\n"
     ]
    }
   ],
   "source": [
    "print(object1.x)\n",
    "print(object1.y)"
   ]
  },
  {
   "cell_type": "code",
   "execution_count": 8,
   "id": "8334c9e7-611d-4c43-af9c-cd43744fbbde",
   "metadata": {},
   "outputs": [],
   "source": [
    "object2.move_rocket(5, 0)"
   ]
  },
  {
   "cell_type": "code",
   "execution_count": 9,
   "id": "c3589645-2d02-4e1e-bc30-b13ba1054bad",
   "metadata": {},
   "outputs": [
    {
     "name": "stdout",
     "output_type": "stream",
     "text": [
      "15\n",
      "53\n"
     ]
    }
   ],
   "source": [
    "print(object2.x)\n",
    "print(object2.y)"
   ]
  },
  {
   "cell_type": "code",
   "execution_count": 10,
   "id": "4a83a95d-1f8a-410f-9172-bd021df4dc5f",
   "metadata": {},
   "outputs": [],
   "source": [
    "object2.move_rocket(-10, -28)"
   ]
  },
  {
   "cell_type": "code",
   "execution_count": 11,
   "id": "422da4a6-b3d6-4cbe-8396-2a6b1b46a3f4",
   "metadata": {},
   "outputs": [
    {
     "name": "stdout",
     "output_type": "stream",
     "text": [
      "5\n",
      "25\n"
     ]
    }
   ],
   "source": [
    "print(object2.x)\n",
    "print(object2.y)"
   ]
  },
  {
   "cell_type": "code",
   "execution_count": 14,
   "id": "e346eb4a-572c-433e-9258-587bf96848fa",
   "metadata": {},
   "outputs": [
    {
     "data": {
      "text/plain": [
       "24.515301344262525"
      ]
     },
     "execution_count": 14,
     "metadata": {},
     "output_type": "execute_result"
    }
   ],
   "source": [
    "object1.get_distance(object2)"
   ]
  },
  {
   "cell_type": "code",
   "execution_count": 16,
   "id": "eb9ff741-7b67-4d28-860e-21e20cd959ff",
   "metadata": {},
   "outputs": [],
   "source": [
    "object3 = Rocket(372, 7849)\n",
    "object4 = Rocket(68, 37)"
   ]
  },
  {
   "cell_type": "code",
   "execution_count": 17,
   "id": "19f4cb6d-5b77-4cf8-855c-cf6b701c5bb2",
   "metadata": {},
   "outputs": [],
   "source": [
    "object3.move_rocket(-298, 87)\n",
    "object4.move_rocket(3198, -289)"
   ]
  },
  {
   "cell_type": "code",
   "execution_count": 18,
   "id": "165a004b-c8c9-4435-8404-3efa1b445f56",
   "metadata": {},
   "outputs": [
    {
     "data": {
      "text/plain": [
       "8788.185705821197"
      ]
     },
     "execution_count": 18,
     "metadata": {},
     "output_type": "execute_result"
    }
   ],
   "source": [
    "object3.get_distance(object4)"
   ]
  },
  {
   "cell_type": "code",
   "execution_count": 20,
   "id": "53062676-aa1f-4966-861b-0c63603e9459",
   "metadata": {},
   "outputs": [],
   "source": [
    "from math import sqrt\n",
    "\n",
    "class Rocket:\n",
    "    \n",
    "    def __init__(self, x = 0, y = 0):\n",
    "        self.x = x\n",
    "        self.y = y\n",
    "        \n",
    "    def move_rocket(self, change_x = 0, change_y = 1):\n",
    "        self.x += change_x\n",
    "        self.y += change_y\n",
    "        \n",
    "    def get_distance(self, second_rocket):\n",
    "        distance = sqrt((self.x - second_rocket.x) ** 2 + (self.y - other_rocket.y) ** 2)\n",
    "        return distance"
   ]
  },
  {
   "cell_type": "code",
   "execution_count": 57,
   "id": "2d3aa1da-0158-422e-992e-cb1395221ac8",
   "metadata": {},
   "outputs": [],
   "source": [
    "from math import sqrt\n",
    "\n",
    "class Rocket:\n",
    "    \n",
    "    def __init__(self, \n",
    "                 x = 0, \n",
    "                 y = 0, \n",
    "                 h = 100, \n",
    "                 c = 10, \n",
    "                 n = 'rocket', \n",
    "                 s = 1000):\n",
    "        self.x = x\n",
    "        self.y = y\n",
    "        self.h = h\n",
    "        self.c = c\n",
    "        self.n = n\n",
    "        self.s = s\n",
    "        \n",
    "    def move_rocket(self, \n",
    "                    change_x = 0, \n",
    "                    change_y = 1, \n",
    "                    change_h = 0, \n",
    "                    change_c = 0, \n",
    "                    change_n = '', \n",
    "                    change_s = 0):\n",
    "        self.x += change_x\n",
    "        self.y += change_y\n",
    "        self.h = change_h\n",
    "        self.c = change_c\n",
    "        self.n = change_n\n",
    "        self.s = change_s\n",
    "        \n",
    "    def get_distance(self, second_rocket):\n",
    "        distance = sqrt((self.x - second_rocket.x) ** 2 + (self.y - other_rocket.y) ** 2)\n",
    "        return distance"
   ]
  },
  {
   "cell_type": "code",
   "execution_count": 58,
   "id": "1c3bc9c6-2134-4122-a8f3-f87fd5fd8963",
   "metadata": {},
   "outputs": [],
   "source": [
    "rocket1 = Rocket()\n",
    "rocket2 = Rocket(1203, 893, 120, 6, 'rocket 2', 1212)"
   ]
  },
  {
   "cell_type": "code",
   "execution_count": 59,
   "id": "066190a1-a38f-4bfe-a449-3cb0d2b85f78",
   "metadata": {},
   "outputs": [
    {
     "name": "stdout",
     "output_type": "stream",
     "text": [
      "1. 0 \n",
      "2. 0 \n",
      "3. 100 \n",
      "4. 10 \n",
      "5. rocket \n",
      "6. 1000\n",
      "\n",
      "\n",
      "1. 1203 \n",
      "2. 893 \n",
      "3. 120 \n",
      "4. 6 \n",
      "5. rocket 2 \n",
      "6. 1212\n"
     ]
    }
   ],
   "source": [
    "print(\n",
    "    f\"\"\"1. {rocket1.x} \n",
    "2. {rocket1.y} \n",
    "3. {rocket1.h} \n",
    "4. {rocket1.c} \n",
    "5. {rocket1.n} \n",
    "6. {rocket1.s}\"\"\"\n",
    ")\n",
    "\n",
    "print('\\n')\n",
    "\n",
    "print(\n",
    "    f\"\"\"1. {rocket2.x} \n",
    "2. {rocket2.y} \n",
    "3. {rocket2.h} \n",
    "4. {rocket2.c} \n",
    "5. {rocket2.n} \n",
    "6. {rocket2.s}\"\"\"\n",
    ")"
   ]
  },
  {
   "cell_type": "code",
   "execution_count": 60,
   "id": "9d5dfa24-280e-4a5a-98d1-1efa62ef5fb1",
   "metadata": {},
   "outputs": [],
   "source": [
    "rocket1.move_rocket()\n",
    "rocket2.move_rocket(132, 87, 2, 1, 'rocket 2.1', 1213)"
   ]
  },
  {
   "cell_type": "code",
   "execution_count": 61,
   "id": "65d43300-d452-4e32-9dad-5419e2c3de3b",
   "metadata": {},
   "outputs": [
    {
     "name": "stdout",
     "output_type": "stream",
     "text": [
      "1. 0 \n",
      "2. 1 \n",
      "3. 0 \n",
      "4. 0 \n",
      "5.  \n",
      "6. 0\n",
      "\n",
      "\n",
      "1. 1335 \n",
      "2. 980 \n",
      "3. 2 \n",
      "4. 1 \n",
      "5. rocket 2.1 \n",
      "6. 1213\n"
     ]
    }
   ],
   "source": [
    "print(\n",
    "    f\"\"\"1. {rocket1.x} \n",
    "2. {rocket1.y} \n",
    "3. {rocket1.h} \n",
    "4. {rocket1.c} \n",
    "5. {rocket1.n} \n",
    "6. {rocket1.s}\"\"\"\n",
    ")\n",
    "\n",
    "print('\\n')\n",
    "\n",
    "print(\n",
    "    f\"\"\"1. {rocket2.x} \n",
    "2. {rocket2.y} \n",
    "3. {rocket2.h} \n",
    "4. {rocket2.c} \n",
    "5. {rocket2.n} \n",
    "6. {rocket2.s}\"\"\"\n",
    ")"
   ]
  },
  {
   "cell_type": "code",
   "execution_count": 3,
   "id": "165c5119-6072-4206-a4a6-05aaf2f0abdb",
   "metadata": {},
   "outputs": [],
   "source": [
    "class Person:\n",
    "    \n",
    "    def __init__(self, name, age, birthplace, city, function):\n",
    "        self.name = name\n",
    "        self.age = age\n",
    "        self.birthplace = birthplace\n",
    "        self.city = city\n",
    "        self.function = function\n",
    "    \n",
    "    def introduce_yourself(self):\n",
    "        print(f'Hello, my name is {self.name}. I am {self.age} years old. '\n",
    "              f'I was born in {self.birthplace} and live now in {self.city}. '\n",
    "              f'My function is {self.function}.')\n",
    "        \n",
    "    def age_person(self, incr_age = 1):\n",
    "        self.age += incr_age\n",
    "        print(f'{self.name} is now {self.age} years old.')"
   ]
  },
  {
   "cell_type": "code",
   "execution_count": 73,
   "id": "00689f31-e304-4369-a249-f5818fd3a2f6",
   "metadata": {},
   "outputs": [],
   "source": [
    "person1 = Person('Alex', 29, 'Rome', 'Naples', 'Accountant')"
   ]
  },
  {
   "cell_type": "code",
   "execution_count": 74,
   "id": "e6ada455-0b39-4fb6-9d9a-d88323d1fca0",
   "metadata": {},
   "outputs": [
    {
     "name": "stdout",
     "output_type": "stream",
     "text": [
      "Hello, my name is Alex. I am 29 years old. I was born in Rome and live now in Naples. My function is Accountant.\n"
     ]
    }
   ],
   "source": [
    "person1.introduce_yourself()"
   ]
  },
  {
   "cell_type": "code",
   "execution_count": 75,
   "id": "316850bc-85f8-4ae4-9d7e-891151d11edb",
   "metadata": {},
   "outputs": [
    {
     "name": "stdout",
     "output_type": "stream",
     "text": [
      "Alex is now 30 years old.\n"
     ]
    }
   ],
   "source": [
    "person1.age_person()"
   ]
  },
  {
   "cell_type": "code",
   "execution_count": 79,
   "id": "a54f1013-774b-479d-a8c3-b4b1d673e097",
   "metadata": {},
   "outputs": [
    {
     "name": "stdout",
     "output_type": "stream",
     "text": [
      "Hello, my name is John. I am 35 years old. I was born in Tokyo and live now in Kyoto. My function is Senior Manager.\n",
      "\n",
      "\n",
      "John is now 36 years old.\n"
     ]
    }
   ],
   "source": [
    "person2 = Person('John', 35, 'Tokyo', 'Kyoto', 'Senior Manager')\n",
    "person2.introduce_yourself()\n",
    "print('\\n')\n",
    "person2.age_person()"
   ]
  },
  {
   "cell_type": "code",
   "execution_count": 117,
   "id": "02b3fe80-f588-46aa-a4d2-cfb965dc1358",
   "metadata": {},
   "outputs": [],
   "source": [
    "class Car:\n",
    "    \n",
    "    def __init__(self, brand, model, year, num_doors, owner, mileage):\n",
    "        self.brand = brand\n",
    "        self.model = model\n",
    "        self.year = year\n",
    "        self.num_doors = num_doors\n",
    "        self.owner = owner\n",
    "        self.mileage = mileage\n",
    "        \n",
    "    def describe_car(self):\n",
    "        print(f\"It is a {self.brand} {self.model} from {self.year}. It has {self.num_doors} doors \"\n",
    "              f\"and its' owner is {self.owner}. Its' mileage is {self.mileage} km.\")\n",
    "        \n",
    "    def newest_mileage(self, mileage_increase = 5000):\n",
    "        self.mileage += mileage_increase\n",
    "        print(f'{self.owner} drove {mileage_increase} since the last check. '\n",
    "              f'Current mileage is {self.mileage}.')"
   ]
  },
  {
   "cell_type": "code",
   "execution_count": 118,
   "id": "b8e50588-7306-40c9-bb09-476ab307774b",
   "metadata": {},
   "outputs": [],
   "source": [
    "car1 = Car('Subaru', 'Outback', 2013, 4, 'John Track', 50231)"
   ]
  },
  {
   "cell_type": "code",
   "execution_count": 119,
   "id": "38285f2a-a684-4616-9bb9-8c9a8ba3e6da",
   "metadata": {},
   "outputs": [
    {
     "name": "stdout",
     "output_type": "stream",
     "text": [
      "It is a Subaru Outback from 2013. It has 4 doors and its' owner is John Track. Its' mileage is 50231 km.\n"
     ]
    }
   ],
   "source": [
    "car1.describe_car()"
   ]
  },
  {
   "cell_type": "code",
   "execution_count": 120,
   "id": "05f85712-09cf-4c0b-b023-a0f74f6929e2",
   "metadata": {},
   "outputs": [
    {
     "name": "stdout",
     "output_type": "stream",
     "text": [
      "John Track drove 7809 since the last check. Current mileage is 58040.\n"
     ]
    }
   ],
   "source": [
    "car1.newest_mileage(7809)"
   ]
  },
  {
   "cell_type": "code",
   "execution_count": 1,
   "id": "5db77a71-c5b7-4cfd-a6ba-3725a95eb2e5",
   "metadata": {},
   "outputs": [
    {
     "name": "stdout",
     "output_type": "stream",
     "text": [
      "My car is a Toyota Camry.\n",
      "The Toyota is being driven.\n",
      "The Toyota Camry is honking.\n"
     ]
    }
   ],
   "source": [
    "class Vehicle:\n",
    "    def __init__(self, brand):\n",
    "        self.brand = brand\n",
    "\n",
    "    def drive(self):\n",
    "        print(f\"The {self.brand} is being driven.\")\n",
    "\n",
    "class Car(Vehicle):\n",
    "    def __init__(self, brand, model):\n",
    "        super().__init__(brand)\n",
    "        self.model = model\n",
    "\n",
    "    def honk(self):\n",
    "        print(f\"The {self.brand} {self.model} is honking.\")\n",
    "\n",
    "# Create an instance of the Car class\n",
    "my_car = Car(\"Toyota\", \"Camry\")\n",
    "\n",
    "# Access attributes and call methods from both the parent and child class\n",
    "print(f\"My car is a {my_car.brand} {my_car.model}.\")\n",
    "my_car.drive()\n",
    "my_car.honk()"
   ]
  },
  {
   "cell_type": "code",
   "execution_count": null,
   "id": "90bb747f-d252-43fb-bb19-f7fd9f6b8c07",
   "metadata": {},
   "outputs": [],
   "source": [
    "from math import sqrt\n",
    "\n",
    "class Rocket:\n",
    "    # Rocket simulates a rocket ship for a game,\n",
    "    # or a physics simulation.\n",
    "    \n",
    "    def __init__(self, x = 0, y = 0):\n",
    "        # Each rocket has an (x, y) position.\n",
    "        self.x = x\n",
    "        self.y = y\n",
    "    \n",
    "    def move_rocket(self, x_increment = 0, y_increment = 1):\n",
    "        # Move the rocket according to the parameters given.\n",
    "        # Default behavior is to move the rocket up one unit.\n",
    "        self.x += x_increment\n",
    "        self.y += y_increment\n",
    "        \n",
    "    def get_distance(self, other_rocket):\n",
    "        # Calculates the distance from this rocket to another ricket,\n",
    "        # and returns that value.\n",
    "        distance = sqrt((self.x - other_rocket.x) ** 2 + (self.y - other_rocket.y) ** 2)\n",
    "\n",
    "class Shuttle(Rocket):\n",
    "    # Shuttle simulates a space shuttle, which is really\n",
    "    # just a reusable rocket.\n",
    "    \n",
    "    def __init__(self, x = 0, y = 0, flights_completed = 0):\n",
    "        super().__init__(x, y)\n",
    "        self.flights_completed = flights_completed"
   ]
  },
  {
   "cell_type": "code",
   "execution_count": 4,
   "id": "757b4208-929c-4a67-a604-411e33a82cb9",
   "metadata": {},
   "outputs": [],
   "source": [
    "class Student(Person):\n",
    "    \n",
    "    def __init__(self, name, age, birthplace, city, function, university, graduated, gpa):\n",
    "        super().__init__(name, age, birthplace, city, function)\n",
    "        self.university = university\n",
    "        self.graduated = graduated\n",
    "        self.gpa = gpa"
   ]
  },
  {
   "cell_type": "code",
   "execution_count": 5,
   "id": "30369a79-a458-4c78-b3d0-44cff5d50d93",
   "metadata": {},
   "outputs": [],
   "source": [
    "student1 = Student('Louis', 25, 'Manchester', 'London', 'HR support', 'LSE', '2023', '7.5')"
   ]
  },
  {
   "cell_type": "code",
   "execution_count": 6,
   "id": "84c3ca00-7f46-4571-8cd9-3d1f9d1c1c87",
   "metadata": {},
   "outputs": [
    {
     "name": "stdout",
     "output_type": "stream",
     "text": [
      "Hello, my name is Louis. I am 25 years old. I was born in Manchester and live now in London. My function is HR support.\n"
     ]
    }
   ],
   "source": [
    "student1.introduce_yourself()"
   ]
  },
  {
   "cell_type": "code",
   "execution_count": 7,
   "id": "cfb3df55-6b3b-40b0-a468-d49da388f66a",
   "metadata": {},
   "outputs": [
    {
     "name": "stdout",
     "output_type": "stream",
     "text": [
      "Louis is now 26 years old.\n"
     ]
    }
   ],
   "source": [
    "student1.age_person()"
   ]
  },
  {
   "cell_type": "code",
   "execution_count": 11,
   "id": "4976b0a9-487c-4c0b-91d1-68874b9c32a5",
   "metadata": {},
   "outputs": [
    {
     "name": "stdout",
     "output_type": "stream",
     "text": [
      "Louis graduated in 2023 from LSE with a 7.5 GPA.\n"
     ]
    }
   ],
   "source": [
    "print(f'{student1.name} graduated in {student1.graduated} '\n",
    "      f'from {student1.university} with a {student1.gpa} GPA.')"
   ]
  },
  {
   "cell_type": "code",
   "execution_count": 13,
   "id": "71068256-c050-4ed6-871c-fd9ece44eb4a",
   "metadata": {},
   "outputs": [],
   "source": [
    "from random import randint"
   ]
  },
  {
   "cell_type": "code",
   "execution_count": 14,
   "id": "5694bed4-0354-44ce-8126-5030d7bce4c2",
   "metadata": {},
   "outputs": [
    {
     "data": {
      "text/plain": [
       "2"
      ]
     },
     "execution_count": 14,
     "metadata": {},
     "output_type": "execute_result"
    }
   ],
   "source": [
    "num1 = randint(0, 2)\n",
    "num1"
   ]
  },
  {
   "cell_type": "code",
   "execution_count": 16,
   "id": "25b2803e-c7c5-4d48-a61b-7e546f1b15d1",
   "metadata": {},
   "outputs": [
    {
     "data": {
      "text/plain": [
       "1"
      ]
     },
     "execution_count": 16,
     "metadata": {},
     "output_type": "execute_result"
    }
   ],
   "source": [
    "num2 = randint(0, 2)\n",
    "num2"
   ]
  },
  {
   "cell_type": "code",
   "execution_count": 17,
   "id": "d0887204-6c6d-47b5-8313-6caf30516fed",
   "metadata": {},
   "outputs": [
    {
     "data": {
      "text/plain": [
       "2"
      ]
     },
     "execution_count": 17,
     "metadata": {},
     "output_type": "execute_result"
    }
   ],
   "source": [
    "num3 = randint(0, 2)\n",
    "num3"
   ]
  },
  {
   "cell_type": "code",
   "execution_count": 18,
   "id": "1c0a9cbf-3069-4185-b76d-eb26de73d5aa",
   "metadata": {},
   "outputs": [
    {
     "data": {
      "text/plain": [
       "0"
      ]
     },
     "execution_count": 18,
     "metadata": {},
     "output_type": "execute_result"
    }
   ],
   "source": [
    "num4 = randint(0, 2)\n",
    "num4"
   ]
  },
  {
   "cell_type": "markdown",
   "id": "82a0dda4-ee91-48df-ba68-50317581bc16",
   "metadata": {},
   "source": [
    "<h2>3.2 Modules and classes</h2>"
   ]
  },
  {
   "cell_type": "markdown",
   "id": "b5442e0e-5c95-449f-aef5-f567e66f5ba9",
   "metadata": {},
   "source": [
    "Import <kbd>Person</kbd> and <kbd>Student</kbd> classes from <kbd>person.py</kbd> module. Option 1:"
   ]
  },
  {
   "cell_type": "code",
   "execution_count": 1,
   "id": "f9d9e5f9-48a6-465f-9ad8-ba232711a4d8",
   "metadata": {},
   "outputs": [],
   "source": [
    "from person import Person, Student"
   ]
  },
  {
   "cell_type": "code",
   "execution_count": 7,
   "id": "2bb1086a-6dc6-423a-a53d-1b309c631cd8",
   "metadata": {},
   "outputs": [],
   "source": [
    "Alex = Person('Alex', 19, 'London', 'Leeds', 'Student')"
   ]
  },
  {
   "cell_type": "code",
   "execution_count": 11,
   "id": "59cc09cb-ae1d-401b-a94b-34ddf1ee571f",
   "metadata": {},
   "outputs": [
    {
     "name": "stdout",
     "output_type": "stream",
     "text": [
      "Hello, my name is Alex. I am 19 years old. I was born in London and live now in Leeds. My function is Student.\n",
      "Alex is now 20 years old.\n"
     ]
    }
   ],
   "source": [
    "Alex.introduce_yourself()\n",
    "Alex.age_person()"
   ]
  },
  {
   "cell_type": "code",
   "execution_count": 13,
   "id": "698b3118-1998-447a-a14e-f557cee700f8",
   "metadata": {},
   "outputs": [],
   "source": [
    "Alex = Student('Alex', 19, 'London', 'Leeds', 'Student', 'LSE', 2020, 7.5)"
   ]
  },
  {
   "cell_type": "code",
   "execution_count": 18,
   "id": "b4c5e8e8-2226-4e33-ad1e-40fd3ad9bb01",
   "metadata": {},
   "outputs": [
    {
     "name": "stdout",
     "output_type": "stream",
     "text": [
      "LSE\n"
     ]
    }
   ],
   "source": [
    "print(Alex.university)"
   ]
  },
  {
   "cell_type": "markdown",
   "id": "c5cd6313-1c3d-4226-9950-b0b7376f62b1",
   "metadata": {},
   "source": [
    "Import <kbd>Person</kbd> and <kbd>Student</kbd> classes from <kbd>person.py</kbd> module. Option 2:"
   ]
  },
  {
   "cell_type": "code",
   "execution_count": 19,
   "id": "eef9789a-7208-4c34-b9f2-670060904ff7",
   "metadata": {},
   "outputs": [],
   "source": [
    "import person\n",
    "\n",
    "person_class = person.Person\n",
    "student_class = person.Student"
   ]
  },
  {
   "cell_type": "code",
   "execution_count": 21,
   "id": "06a84965-7436-4613-9867-03b17d2f0204",
   "metadata": {},
   "outputs": [],
   "source": [
    "John = person_class('John', 25, 'Paris', 'Manchester', 'HR officer')"
   ]
  },
  {
   "cell_type": "code",
   "execution_count": 22,
   "id": "21bef556-8f20-4386-8f12-9ed61682eff1",
   "metadata": {},
   "outputs": [
    {
     "name": "stdout",
     "output_type": "stream",
     "text": [
      "Hello, my name is John. I am 25 years old. I was born in Paris and live now in Manchester. My function is HR officer.\n"
     ]
    }
   ],
   "source": [
    "John.introduce_yourself()"
   ]
  },
  {
   "cell_type": "markdown",
   "id": "13d0f28b-79e4-4459-acde-401dc1119d24",
   "metadata": {},
   "source": [
    "Import <kbd>Person</kbd> and <kbd>Student</kbd> classes from <kbd>person.py</kbd> module. Option 3:"
   ]
  },
  {
   "cell_type": "code",
   "execution_count": 23,
   "id": "adde3454-e3b4-4806-81d8-6b4b24937f2a",
   "metadata": {},
   "outputs": [],
   "source": [
    "import person as p\n",
    "\n",
    "person = p.Person\n",
    "student = p.Student"
   ]
  },
  {
   "cell_type": "markdown",
   "id": "37e48c1c-0d4b-4223-a29b-24d754f76de3",
   "metadata": {},
   "source": [
    "Import <kbd>Person</kbd> and <kbd>Student</kbd> classes from <kbd>person.py</kbd> module. Option 4:"
   ]
  },
  {
   "cell_type": "code",
   "execution_count": 24,
   "id": "bf266331-e34e-4e53-8180-547638ec0c72",
   "metadata": {},
   "outputs": [],
   "source": [
    "from person import *"
   ]
  },
  {
   "cell_type": "markdown",
   "id": "8f0a6ac6-4887-4907-876b-7b9690d4def7",
   "metadata": {},
   "source": [
    "Import <kbd>Car</kbd> class from <kbd>car.py</kbd> module. Option 1:"
   ]
  },
  {
   "cell_type": "code",
   "execution_count": 26,
   "id": "fb716fc9-72b1-483e-ae57-2e699c123311",
   "metadata": {},
   "outputs": [],
   "source": [
    "from car import Car"
   ]
  },
  {
   "cell_type": "code",
   "execution_count": 27,
   "id": "481f2bcf-9ce2-4117-8494-03b2e864803c",
   "metadata": {},
   "outputs": [
    {
     "name": "stdout",
     "output_type": "stream",
     "text": [
      "It is a Volvo X1 from 2020. It has 4 doors and its' owner is Alex. Its' mileage is 13000 km.\n"
     ]
    }
   ],
   "source": [
    "car1 = Car('Volvo', 'X1', 2020, 4, 'Alex', 13000)\n",
    "car1.describe_car()"
   ]
  },
  {
   "cell_type": "code",
   "execution_count": 28,
   "id": "111aeb3c-fdc3-4898-83a3-b35da9477498",
   "metadata": {},
   "outputs": [
    {
     "name": "stdout",
     "output_type": "stream",
     "text": [
      "Alex drove 5000 since the last check. Current mileage is 18000.\n"
     ]
    }
   ],
   "source": [
    "car1.newest_mileage()"
   ]
  },
  {
   "cell_type": "markdown",
   "id": "d5dfa02b-102f-41e7-ac7b-27e3256d14d7",
   "metadata": {},
   "source": [
    "Import <kbd>Car</kbd> class from <kbd>car.py</kbd> module. Option 2:"
   ]
  },
  {
   "cell_type": "code",
   "execution_count": 29,
   "id": "4c787906-c95f-4d26-bcd2-60cea481edb8",
   "metadata": {},
   "outputs": [],
   "source": [
    "import car\n",
    "\n",
    "car_class = car.Car"
   ]
  },
  {
   "cell_type": "markdown",
   "id": "f923fa69-94ba-4046-880b-77a8f395abcc",
   "metadata": {},
   "source": [
    "Import <kbd>Car</kbd> class from <kbd>car.py</kbd> module. Option 3:"
   ]
  },
  {
   "cell_type": "code",
   "execution_count": 30,
   "id": "81d537c5-9218-442b-99c1-50b1328e64e9",
   "metadata": {},
   "outputs": [],
   "source": [
    "import car as c\n",
    "\n",
    "car = c.Car"
   ]
  },
  {
   "cell_type": "markdown",
   "id": "3e8ec062-2ff6-417e-873d-90a8a6c261bb",
   "metadata": {},
   "source": [
    "Import <kbd>Car</kbd> class from <kbd>car.py</kbd> module. Option 4:"
   ]
  },
  {
   "cell_type": "code",
   "execution_count": 31,
   "id": "224f7b60-6b30-44de-976c-7d06f071985e",
   "metadata": {},
   "outputs": [],
   "source": [
    "from car import *"
   ]
  },
  {
   "cell_type": "markdown",
   "id": "8a985ab7-05e9-4007-a8e7-02b2b5dde45e",
   "metadata": {},
   "source": [
    "<h2>3.3 Python Data Model</h2>"
   ]
  },
  {
   "cell_type": "code",
   "execution_count": 32,
   "id": "4948f870-0cba-48b9-b36f-b0869dd6df4a",
   "metadata": {},
   "outputs": [],
   "source": [
    "ranks = [str(n) for n in range(2, 11)] + list('JQKA')"
   ]
  },
  {
   "cell_type": "code",
   "execution_count": 33,
   "id": "a13cfff1-1e22-487b-b1ad-0d9f89c95d9a",
   "metadata": {},
   "outputs": [
    {
     "name": "stdout",
     "output_type": "stream",
     "text": [
      "['2', '3', '4', '5', '6', '7', '8', '9', '10', 'J', 'Q', 'K', 'A']\n"
     ]
    }
   ],
   "source": [
    "print(ranks)"
   ]
  },
  {
   "cell_type": "code",
   "execution_count": 34,
   "id": "058d8a6c-9495-437b-bf75-2bd7a55f7928",
   "metadata": {},
   "outputs": [
    {
     "name": "stdout",
     "output_type": "stream",
     "text": [
      "['S', 't', 'e', 'f', 'a', 'n']\n"
     ]
    }
   ],
   "source": [
    "a = list('Stefan')\n",
    "print(a)"
   ]
  },
  {
   "cell_type": "code",
   "execution_count": 37,
   "id": "fc4b842f-80f1-48f7-9fed-6207cf2d3020",
   "metadata": {},
   "outputs": [
    {
     "name": "stdout",
     "output_type": "stream",
     "text": [
      "['Stefan']\n"
     ]
    }
   ],
   "source": [
    "a = (['Stefan'])\n",
    "b = list(a)\n",
    "print(b)"
   ]
  },
  {
   "cell_type": "code",
   "execution_count": 38,
   "id": "5b101ae9-7541-4d47-acff-274980f91d35",
   "metadata": {},
   "outputs": [
    {
     "name": "stdout",
     "output_type": "stream",
     "text": [
      "['spades', 'diamonds', 'clubs', 'hearts']\n"
     ]
    }
   ],
   "source": [
    "suits = 'spades diamonds clubs hearts'.split()\n",
    "print(suits)"
   ]
  },
  {
   "cell_type": "code",
   "execution_count": 40,
   "id": "ee8b3139-b58e-4c26-806d-61bbffc2dbea",
   "metadata": {},
   "outputs": [],
   "source": [
    "from collections import namedtuple\n",
    "\n",
    "# Define a named tuple called 'Person' with fields 'name' and 'age'\n",
    "Person = namedtuple('Person', ['name', 'age'])\n",
    "\n",
    "# Create instances of the named tuple\n",
    "person1 = Person('Alice', 25)\n",
    "person2 = Person('Bob', 30)"
   ]
  },
  {
   "cell_type": "code",
   "execution_count": 42,
   "id": "c08e1b0f-40fd-4bac-98d9-a3ae91d52f30",
   "metadata": {},
   "outputs": [
    {
     "name": "stdout",
     "output_type": "stream",
     "text": [
      "Alice\n",
      "25\n"
     ]
    }
   ],
   "source": [
    "# Access the fields of the named tuple\n",
    "print(person1.name)\n",
    "print(person1.age)"
   ]
  },
  {
   "cell_type": "code",
   "execution_count": null,
   "id": "3cb26627-2d9f-4630-8695-5287ac3180af",
   "metadata": {},
   "outputs": [
    {
     "name": "stdout",
     "output_type": "stream",
     "text": [
      "26\n"
     ]
    }
   ],
   "source": [
    "# Named tuples are immutable, but you can replace fields using the _replace() method\n",
    "person1 = person1._replace(age = 26)\n",
    "print(person1.age)"
   ]
  },
  {
   "cell_type": "code",
   "execution_count": 59,
   "id": "06601310-274a-47a2-8e8c-037b4058ccef",
   "metadata": {},
   "outputs": [
    {
     "data": {
      "text/plain": [
       "Person(name='Alice', age=26)"
      ]
     },
     "execution_count": 59,
     "metadata": {},
     "output_type": "execute_result"
    }
   ],
   "source": [
    "person1"
   ]
  },
  {
   "cell_type": "code",
   "execution_count": 45,
   "id": "74b1233e-0d6b-40f1-8395-9e4164823161",
   "metadata": {},
   "outputs": [],
   "source": [
    "numbers = (1, 2, 3, 4)"
   ]
  },
  {
   "cell_type": "code",
   "execution_count": 57,
   "id": "60ce7d73-c029-4bc9-b3b8-a4a334896f12",
   "metadata": {},
   "outputs": [
    {
     "data": {
      "text/plain": [
       "1"
      ]
     },
     "execution_count": 57,
     "metadata": {},
     "output_type": "execute_result"
    }
   ],
   "source": [
    "from random import choice\n",
    "\n",
    "choice(numbers)"
   ]
  },
  {
   "cell_type": "code",
   "execution_count": 5,
   "id": "735335bb-eb62-4f74-9b96-ce2e7edd2865",
   "metadata": {},
   "outputs": [],
   "source": [
    "class MyList:\n",
    "    def __init__(self, data):\n",
    "        self.data = data\n",
    "\n",
    "    def __len__(self):\n",
    "        return len(self.data)"
   ]
  },
  {
   "cell_type": "code",
   "execution_count": 6,
   "id": "c6d48454-8ac6-48da-87e9-41d2c0e3c90b",
   "metadata": {},
   "outputs": [],
   "source": [
    "my_list = MyList([1, 2, 3, 4, 5])"
   ]
  },
  {
   "cell_type": "code",
   "execution_count": 9,
   "id": "d5aa2b7e-f386-4d92-9ee2-ce834fd9116a",
   "metadata": {},
   "outputs": [
    {
     "name": "stdout",
     "output_type": "stream",
     "text": [
      "5\n"
     ]
    }
   ],
   "source": [
    "# Using len() function\n",
    "print(len(my_list))"
   ]
  },
  {
   "cell_type": "code",
   "execution_count": 10,
   "id": "e2cbd201-de6b-410e-bcc1-7d0a8559f2e3",
   "metadata": {},
   "outputs": [
    {
     "name": "stdout",
     "output_type": "stream",
     "text": [
      "5\n"
     ]
    }
   ],
   "source": [
    "# Accessing __len__ directly\n",
    "print(my_list.__len__())"
   ]
  },
  {
   "cell_type": "code",
   "execution_count": 12,
   "id": "ad7e07d1-f294-4d63-bec8-ffb1d0ced3bd",
   "metadata": {},
   "outputs": [],
   "source": [
    "import collections\n",
    "\n",
    "Card = collections.namedtuple('Card', ['rank', 'suit'])"
   ]
  },
  {
   "cell_type": "code",
   "execution_count": 16,
   "id": "64fc2445-ffcf-4c28-8bfe-7273c1034eec",
   "metadata": {},
   "outputs": [],
   "source": [
    "a = [n for n in range (2, 11)]"
   ]
  },
  {
   "cell_type": "code",
   "execution_count": 17,
   "id": "4b061a07-f6f5-4d4f-a727-48092d55c181",
   "metadata": {},
   "outputs": [
    {
     "data": {
      "text/plain": [
       "[2, 3, 4, 5, 6, 7, 8, 9, 10]"
      ]
     },
     "execution_count": 17,
     "metadata": {},
     "output_type": "execute_result"
    }
   ],
   "source": [
    "a"
   ]
  },
  {
   "cell_type": "code",
   "execution_count": 18,
   "id": "f8cb43e4-b358-45a3-84b9-8f0b8c8e50e3",
   "metadata": {},
   "outputs": [
    {
     "data": {
      "text/plain": [
       "[range(2, 11)]"
      ]
     },
     "execution_count": 18,
     "metadata": {},
     "output_type": "execute_result"
    }
   ],
   "source": [
    "b = [range(2, 11)]\n",
    "b"
   ]
  },
  {
   "cell_type": "code",
   "execution_count": 19,
   "id": "a8f16cde-b11a-4747-9ef8-041fff5696fa",
   "metadata": {},
   "outputs": [
    {
     "name": "stdout",
     "output_type": "stream",
     "text": [
      "<generator object <genexpr> at 0x0000018E0AA1E5F0>\n"
     ]
    }
   ],
   "source": [
    "print(n for n in range(2, 11))"
   ]
  },
  {
   "cell_type": "code",
   "execution_count": 20,
   "id": "0ba1f1d1-34db-4878-ad2e-e295555ce12a",
   "metadata": {},
   "outputs": [
    {
     "data": {
      "text/plain": [
       "range(2, 11)"
      ]
     },
     "execution_count": 20,
     "metadata": {},
     "output_type": "execute_result"
    }
   ],
   "source": [
    "a = range(2, 11)\n",
    "a"
   ]
  },
  {
   "cell_type": "code",
   "execution_count": 26,
   "id": "f3664527-4856-4fa5-ba92-3bb27b9ec6a9",
   "metadata": {},
   "outputs": [
    {
     "name": "stdout",
     "output_type": "stream",
     "text": [
      "2\n",
      "3\n",
      "4\n",
      "5\n",
      "6\n",
      "7\n",
      "8\n",
      "9\n",
      "10\n"
     ]
    }
   ],
   "source": [
    "for n in a:\n",
    "    print(str(n))"
   ]
  },
  {
   "cell_type": "code",
   "execution_count": 27,
   "id": "631f97ef-af37-4411-8c01-7723a1489d55",
   "metadata": {},
   "outputs": [],
   "source": [
    "ranks = [str(n) for n in range(2, 11)] + list('JQKA')\n",
    "suits = 'spades diamonds clubs hearts'.split()"
   ]
  },
  {
   "cell_type": "code",
   "execution_count": 30,
   "id": "1dcd078e-60c2-4fc3-b846-5f5676f82089",
   "metadata": {},
   "outputs": [
    {
     "name": "stdout",
     "output_type": "stream",
     "text": [
      "['2', '3', '4', '5', '6', '7', '8', '9', '10', 'J', 'Q', 'K', 'A']\n",
      "['spades', 'diamonds', 'clubs', 'hearts']\n"
     ]
    }
   ],
   "source": [
    "print(ranks)\n",
    "print(suits)"
   ]
  },
  {
   "cell_type": "code",
   "execution_count": 32,
   "id": "416dab5b-69fe-414f-abbb-5ded100466b2",
   "metadata": {},
   "outputs": [],
   "source": [
    "card = [(rank, suit) for suit in suits for rank in ranks]"
   ]
  },
  {
   "cell_type": "code",
   "execution_count": 33,
   "id": "b74f81d3-b79d-4c2f-8672-e3b2ef8a4f35",
   "metadata": {},
   "outputs": [
    {
     "data": {
      "text/plain": [
       "[('2', 'spades'),\n",
       " ('3', 'spades'),\n",
       " ('4', 'spades'),\n",
       " ('5', 'spades'),\n",
       " ('6', 'spades'),\n",
       " ('7', 'spades'),\n",
       " ('8', 'spades'),\n",
       " ('9', 'spades'),\n",
       " ('10', 'spades'),\n",
       " ('J', 'spades'),\n",
       " ('Q', 'spades'),\n",
       " ('K', 'spades'),\n",
       " ('A', 'spades'),\n",
       " ('2', 'diamonds'),\n",
       " ('3', 'diamonds'),\n",
       " ('4', 'diamonds'),\n",
       " ('5', 'diamonds'),\n",
       " ('6', 'diamonds'),\n",
       " ('7', 'diamonds'),\n",
       " ('8', 'diamonds'),\n",
       " ('9', 'diamonds'),\n",
       " ('10', 'diamonds'),\n",
       " ('J', 'diamonds'),\n",
       " ('Q', 'diamonds'),\n",
       " ('K', 'diamonds'),\n",
       " ('A', 'diamonds'),\n",
       " ('2', 'clubs'),\n",
       " ('3', 'clubs'),\n",
       " ('4', 'clubs'),\n",
       " ('5', 'clubs'),\n",
       " ('6', 'clubs'),\n",
       " ('7', 'clubs'),\n",
       " ('8', 'clubs'),\n",
       " ('9', 'clubs'),\n",
       " ('10', 'clubs'),\n",
       " ('J', 'clubs'),\n",
       " ('Q', 'clubs'),\n",
       " ('K', 'clubs'),\n",
       " ('A', 'clubs'),\n",
       " ('2', 'hearts'),\n",
       " ('3', 'hearts'),\n",
       " ('4', 'hearts'),\n",
       " ('5', 'hearts'),\n",
       " ('6', 'hearts'),\n",
       " ('7', 'hearts'),\n",
       " ('8', 'hearts'),\n",
       " ('9', 'hearts'),\n",
       " ('10', 'hearts'),\n",
       " ('J', 'hearts'),\n",
       " ('Q', 'hearts'),\n",
       " ('K', 'hearts'),\n",
       " ('A', 'hearts')]"
      ]
     },
     "execution_count": 33,
     "metadata": {},
     "output_type": "execute_result"
    }
   ],
   "source": [
    "card"
   ]
  },
  {
   "cell_type": "code",
   "execution_count": 39,
   "id": "c4b6921a-7faf-4f38-8022-f5459dead1d3",
   "metadata": {},
   "outputs": [],
   "source": [
    "a = [n for n in range(0, 11)]\n",
    "b = [n for n in reversed(range(0, 11))]"
   ]
  },
  {
   "cell_type": "code",
   "execution_count": 40,
   "id": "c118a39b-6d58-43fa-aec9-07df4314459d",
   "metadata": {},
   "outputs": [
    {
     "name": "stdout",
     "output_type": "stream",
     "text": [
      "[0, 1, 2, 3, 4, 5, 6, 7, 8, 9, 10]\n",
      "[10, 9, 8, 7, 6, 5, 4, 3, 2, 1, 0]\n"
     ]
    }
   ],
   "source": [
    "print(a)\n",
    "print(b)"
   ]
  },
  {
   "cell_type": "code",
   "execution_count": 42,
   "id": "0699c0de-4b0f-4f5c-92c6-6f93958ac90b",
   "metadata": {},
   "outputs": [],
   "source": [
    "from math import hypot\n",
    "\n",
    "class Vector:\n",
    "    \n",
    "    def __init__(self, x = 0, y = 0):\n",
    "        self.x = x\n",
    "        self.y = y\n",
    "        \n",
    "    def __repr__(self):\n",
    "        return 'Vector(%r, %r)' % (self.x, self.y)\n",
    "    \n",
    "    def __abs__(self):\n",
    "        return hypot(self.x, self.y)\n",
    "    \n",
    "    def __bool__(self):\n",
    "        return bool(abs(self))\n",
    "    \n",
    "    def __add__(self, other):\n",
    "        x = self.x + other.x\n",
    "        y = self.y + other.y\n",
    "        return Vector(x, y)\n",
    "    \n",
    "    def __mul__(self, scalar):\n",
    "        return Vector(self.x * scalar, self.y * scalar)"
   ]
  },
  {
   "cell_type": "code",
   "execution_count": 44,
   "id": "9779c01e-3be0-4f50-82c9-0cdd8efec49a",
   "metadata": {},
   "outputs": [],
   "source": [
    "vector1 = Vector()\n",
    "vector2 = Vector(25, 10)"
   ]
  },
  {
   "cell_type": "code",
   "execution_count": 51,
   "id": "4ee79add-8a01-486e-b2b5-d5760085ef43",
   "metadata": {},
   "outputs": [
    {
     "name": "stdout",
     "output_type": "stream",
     "text": [
      "Vector(0, 0)\n",
      "Vector(25, 10)\n"
     ]
    }
   ],
   "source": [
    "print(repr(vector1))\n",
    "print(repr(vector2))"
   ]
  },
  {
   "cell_type": "code",
   "execution_count": 52,
   "id": "cf7c4905-ec12-4a39-b168-7cc2686efc78",
   "metadata": {},
   "outputs": [
    {
     "name": "stdout",
     "output_type": "stream",
     "text": [
      "0.0\n",
      "26.925824035672523\n"
     ]
    }
   ],
   "source": [
    "print(abs(vector1))\n",
    "print(abs(vector2))"
   ]
  },
  {
   "cell_type": "code",
   "execution_count": 53,
   "id": "f4f931e6-36e7-42f3-a3fb-81e00f8ca045",
   "metadata": {},
   "outputs": [
    {
     "name": "stdout",
     "output_type": "stream",
     "text": [
      "False\n",
      "True\n"
     ]
    }
   ],
   "source": [
    "print(bool(vector1))\n",
    "print(bool(vector2))"
   ]
  },
  {
   "cell_type": "code",
   "execution_count": 74,
   "id": "51f4a6f4-0614-40d1-82e0-5119757c08fd",
   "metadata": {},
   "outputs": [
    {
     "name": "stdout",
     "output_type": "stream",
     "text": [
      "True\n"
     ]
    }
   ],
   "source": [
    "vector3 = Vector(-1, 10)\n",
    "print(bool(vector3))"
   ]
  },
  {
   "cell_type": "code",
   "execution_count": 75,
   "id": "7a9ba164-293f-4d6b-8659-f1d825d506f1",
   "metadata": {},
   "outputs": [],
   "source": [
    "vector4 = Vector(4, 20)"
   ]
  },
  {
   "cell_type": "code",
   "execution_count": 78,
   "id": "58f676a1-3fd2-42c6-ab65-176aaed358ef",
   "metadata": {},
   "outputs": [
    {
     "data": {
      "text/plain": [
       "Vector(24, 20)"
      ]
     },
     "execution_count": 78,
     "metadata": {},
     "output_type": "execute_result"
    }
   ],
   "source": [
    "vector2.__add__(vector3)"
   ]
  },
  {
   "cell_type": "code",
   "execution_count": 79,
   "id": "b43f9f12-31cc-43fb-9767-c4bd33d29a6a",
   "metadata": {},
   "outputs": [
    {
     "data": {
      "text/plain": [
       "Vector(50, 20)"
      ]
     },
     "execution_count": 79,
     "metadata": {},
     "output_type": "execute_result"
    }
   ],
   "source": [
    "vector2.__mul__(2)"
   ]
  },
  {
   "cell_type": "code",
   "execution_count": 81,
   "id": "be64115e-425a-4615-a72a-89773415fa71",
   "metadata": {},
   "outputs": [
    {
     "data": {
      "text/plain": [
       "Vector(24, 20)"
      ]
     },
     "execution_count": 81,
     "metadata": {},
     "output_type": "execute_result"
    }
   ],
   "source": [
    "vector2 + vector3"
   ]
  },
  {
   "cell_type": "code",
   "execution_count": 82,
   "id": "42880362-9fad-4868-b9e8-6103aac8650f",
   "metadata": {},
   "outputs": [
    {
     "data": {
      "text/plain": [
       "Vector(50, 20)"
      ]
     },
     "execution_count": 82,
     "metadata": {},
     "output_type": "execute_result"
    }
   ],
   "source": [
    "vector2 * 2"
   ]
  },
  {
   "cell_type": "code",
   "execution_count": 84,
   "id": "001c6951-ac8c-4f23-89b8-24d63174d52c",
   "metadata": {},
   "outputs": [
    {
     "name": "stdout",
     "output_type": "stream",
     "text": [
      "Vector(25, 10)\n",
      "26.925824035672523\n",
      "True\n",
      "Vector(30, 18)\n",
      "Vector(50, 20)\n"
     ]
    }
   ],
   "source": [
    "from math import hypot\n",
    "\n",
    "class Vector:\n",
    "\n",
    "    def __init__(self, x=0, y=0):\n",
    "        self.x = x\n",
    "        self.y = y\n",
    "\n",
    "    def __repr__(self):\n",
    "        return 'Vector(%r, %r)' % (self.x, self.y)\n",
    "\n",
    "    def __abs__(self):\n",
    "        return hypot(self.x, self.y)\n",
    "\n",
    "    def __bool__(self):\n",
    "        return bool(abs(self))\n",
    "\n",
    "    def __add__(self, other):\n",
    "        x = self.x + other.x\n",
    "        y = self.y + other.y\n",
    "        return Vector(x, y)\n",
    "\n",
    "    def __mul__(self, scalar):\n",
    "        return Vector(self.x * scalar, self.y * scalar)\n",
    "\n",
    "# Create an instance of Vector using vector1 = (25, 10)\n",
    "vector1 = Vector(25, 10)\n",
    "print(vector1)  # Output: Vector(25, 10)\n",
    "\n",
    "# Calculate the absolute value (magnitude) of the vector\n",
    "magnitude = abs(vector1)\n",
    "print(magnitude)  # Output: 26.90724809414742\n",
    "\n",
    "# Check if the vector is considered True or False\n",
    "is_nonzero = bool(vector1)\n",
    "print(is_nonzero)  # Output: True\n",
    "\n",
    "# Create another vector\n",
    "vector2 = Vector(5, 8)\n",
    "\n",
    "# Add two vectors\n",
    "vector_sum = vector1 + vector2\n",
    "print(vector_sum)  # Output: Vector(30, 18)\n",
    "\n",
    "# Multiply the vector by a scalar\n",
    "scaled_vector = vector1 * 2\n",
    "print(scaled_vector)  # Output: Vector(50, 20)"
   ]
  },
  {
   "cell_type": "code",
   "execution_count": 85,
   "id": "fbaf1832-be7b-47b6-99d0-1444f4b098d8",
   "metadata": {},
   "outputs": [
    {
     "name": "stdout",
     "output_type": "stream",
     "text": [
      "Vector(25, 10)\n"
     ]
    }
   ],
   "source": [
    "vector1 = Vector(25, 10)\n",
    "\n",
    "print(vector1)"
   ]
  },
  {
   "cell_type": "code",
   "execution_count": 86,
   "id": "a752f031-c351-43a8-8f34-a97689d5eb61",
   "metadata": {},
   "outputs": [
    {
     "data": {
      "text/plain": [
       "26.925824035672523"
      ]
     },
     "execution_count": 86,
     "metadata": {},
     "output_type": "execute_result"
    }
   ],
   "source": [
    "abs(vector1)"
   ]
  },
  {
   "cell_type": "code",
   "execution_count": 87,
   "id": "332ee3e8-d2bb-42ef-a212-b33e4e45cc58",
   "metadata": {},
   "outputs": [
    {
     "data": {
      "text/plain": [
       "True"
      ]
     },
     "execution_count": 87,
     "metadata": {},
     "output_type": "execute_result"
    }
   ],
   "source": [
    "bool(vector1)"
   ]
  },
  {
   "cell_type": "code",
   "execution_count": 88,
   "id": "cce7dec3-b8be-491f-bd08-26bbc53d90cf",
   "metadata": {},
   "outputs": [
    {
     "data": {
      "text/plain": [
       "Vector(30, 18)"
      ]
     },
     "execution_count": 88,
     "metadata": {},
     "output_type": "execute_result"
    }
   ],
   "source": [
    "vector2 = Vector(5, 8)\n",
    "\n",
    "vector1 + vector2"
   ]
  },
  {
   "cell_type": "code",
   "execution_count": 89,
   "id": "a910b042-319b-4549-8409-8a68ddb42da4",
   "metadata": {},
   "outputs": [
    {
     "data": {
      "text/plain": [
       "Vector(50, 20)"
      ]
     },
     "execution_count": 89,
     "metadata": {},
     "output_type": "execute_result"
    }
   ],
   "source": [
    "vector1 * 2"
   ]
  },
  {
   "cell_type": "code",
   "execution_count": 41,
   "id": "8e40a891-2f5f-4bff-9170-7858fbf8052a",
   "metadata": {},
   "outputs": [],
   "source": [
    "class ClassA:\n",
    "    \n",
    "    def __init__(self, x, y):\n",
    "        self.x = x\n",
    "        self.y = y\n",
    "        \n",
    "    def __repr__(self):\n",
    "        return f'ClassA({self.x}, {self.y})'\n",
    "        \n",
    "    def addition(self, other_number):\n",
    "        x = self.x + other_number.x\n",
    "        y = self.y + other_number.y\n",
    "        return ClassA(x, y)"
   ]
  },
  {
   "cell_type": "code",
   "execution_count": 42,
   "id": "9a4e2ab8-cee7-439e-8e54-f48325bbbf0d",
   "metadata": {},
   "outputs": [],
   "source": [
    "class ClassB:\n",
    "    \n",
    "    def __init__(self, x, y):\n",
    "        self.x = x\n",
    "        self.y = y\n",
    "        \n",
    "    def __repr__(self):\n",
    "        return f'ClassB({self.x}, {self.y})'\n",
    "        \n",
    "    def __add__(self, other_number):\n",
    "        x = self.x + other_number.x\n",
    "        y = self.y + other_number.y\n",
    "        return ClassB(x, y)"
   ]
  },
  {
   "cell_type": "code",
   "execution_count": 43,
   "id": "6e89e784-c93e-4694-bbee-19a569a3631f",
   "metadata": {},
   "outputs": [
    {
     "data": {
      "text/plain": [
       "ClassA(15, 27)"
      ]
     },
     "execution_count": 43,
     "metadata": {},
     "output_type": "execute_result"
    }
   ],
   "source": [
    "num1 = ClassA(10, 20)\n",
    "num2 = ClassA(5, 7)\n",
    "\n",
    "num1 = num1.addition(num2)\n",
    "num1"
   ]
  },
  {
   "cell_type": "code",
   "execution_count": 44,
   "id": "7b481373-6216-458d-b7b6-408508e74b0d",
   "metadata": {},
   "outputs": [
    {
     "data": {
      "text/plain": [
       "ClassB(15, 27)"
      ]
     },
     "execution_count": 44,
     "metadata": {},
     "output_type": "execute_result"
    }
   ],
   "source": [
    "num11 = ClassB(10, 20)\n",
    "num22 = ClassB(5, 7)\n",
    "\n",
    "num11 + num22"
   ]
  },
  {
   "cell_type": "code",
   "execution_count": 92,
   "id": "93807b87-143f-42f0-9573-da7eb6c70284",
   "metadata": {},
   "outputs": [],
   "source": [
    "class Person:\n",
    "    \n",
    "    def __init__(self, name, age, birthplace, city, function):\n",
    "        self.name = name\n",
    "        self.age = age\n",
    "        self.birthplace = birthplace\n",
    "        self.city = city\n",
    "        self.function = function\n",
    "        \n",
    "    def introduce_yourself(self):\n",
    "        return f'Hello, my name is {self.name}. I am {self.age} years old. ' \\\n",
    "               f'I was born in {self.birthplace} and live now in {self.city}. ' \\\n",
    "               f'My function is {self.function}.'"
   ]
  },
  {
   "cell_type": "code",
   "execution_count": 93,
   "id": "a783739d-5163-422d-b81b-a911ccac4c66",
   "metadata": {},
   "outputs": [],
   "source": [
    "Alex = Person('Alex', 29, 'Paris', 'Lyon', 'HR manager')"
   ]
  },
  {
   "cell_type": "code",
   "execution_count": 95,
   "id": "5e021f1e-7589-4b01-b02c-129c19451e1c",
   "metadata": {},
   "outputs": [
    {
     "name": "stdout",
     "output_type": "stream",
     "text": [
      "Hello, my name is Alex. I am 29 years old. I was born in Paris and live now in Lyon. My function is HR manager.\n"
     ]
    }
   ],
   "source": [
    "print(Alex.introduce_yourself())"
   ]
  },
  {
   "cell_type": "code",
   "execution_count": 88,
   "id": "3e57d695-39d9-47ae-976d-b3c46ea89e6c",
   "metadata": {},
   "outputs": [],
   "source": [
    "class Person2:\n",
    "    \n",
    "    def __init__(self, name, age, birthplace, city, function):\n",
    "        self.name = name\n",
    "        self.age = age\n",
    "        self.birthplace = birthplace\n",
    "        self.city = city\n",
    "        self.function = function\n",
    "        \n",
    "    def __repr__(self):\n",
    "        return f'Hello, my name is {self.name}. I am {self.age} years old. ' \\\n",
    "               f'I was born in {self.birthplace} and live now in {self.city}. ' \\\n",
    "               f'My function is {self.function}.'"
   ]
  },
  {
   "cell_type": "code",
   "execution_count": 89,
   "id": "3c426d86-3731-41bb-8e61-7c2efad625ed",
   "metadata": {},
   "outputs": [],
   "source": [
    "John = Person2('John', 31, 'Berlin', 'Manchester', 'HR officer')"
   ]
  },
  {
   "cell_type": "code",
   "execution_count": 91,
   "id": "18547da0-12a0-423d-bf76-aa4c51904348",
   "metadata": {},
   "outputs": [
    {
     "data": {
      "text/plain": [
       "Hello, my name is John. I am 31 years old. I was born in Berlin and live now in Manchester. My function is HR officer."
      ]
     },
     "execution_count": 91,
     "metadata": {},
     "output_type": "execute_result"
    }
   ],
   "source": [
    "John"
   ]
  },
  {
   "cell_type": "code",
   "execution_count": 82,
   "id": "f46de64f-cc50-4186-ad5b-ff59b3a09417",
   "metadata": {},
   "outputs": [
    {
     "name": "stdout",
     "output_type": "stream",
     "text": [
      "Hello, my name is John. I am 31 years old. I was born in Berlin and live now in Manchester. My function is HR officer.\n"
     ]
    }
   ],
   "source": [
    "class Person2:\n",
    "    \n",
    "    def __init__(self, name, age, birthplace, city, function):\n",
    "        self.name = name\n",
    "        self.age = age\n",
    "        self.birthplace = birthplace\n",
    "        self.city = city\n",
    "        self.function = function\n",
    "        \n",
    "    def __str__(self):\n",
    "        return f'Hello, my name is {self.name}. I am {self.age} years old. ' \\\n",
    "               f'I was born in {self.birthplace} and live now in {self.city}. ' \\\n",
    "               f'My function is {self.function}.'\n",
    "\n",
    "# Create an instance of the Person2 class\n",
    "John = Person2('John', 31, 'Berlin', 'Manchester', 'HR officer')\n",
    "\n",
    "# Print the representation and string representation of the John object\n",
    "print(str(John))"
   ]
  },
  {
   "cell_type": "code",
   "execution_count": 103,
   "id": "282ddf48-ecad-4ae0-8701-1f190955cc51",
   "metadata": {},
   "outputs": [],
   "source": [
    "class ArbitraryName:\n",
    "    \n",
    "    def __init__(self, x, y):\n",
    "        self.x = x\n",
    "        self.y = y\n",
    "        \n",
    "    def show(self):\n",
    "        print(f'ArbitraryName({self.x}, {self.y})')\n",
    "        \n",
    "    def multiply(self, other):\n",
    "        x = self.x * other.x\n",
    "        y = self.y * other.y\n",
    "        print(f'ArbitraryName({x}, {y})')"
   ]
  },
  {
   "cell_type": "code",
   "execution_count": 104,
   "id": "a193c419-cbd2-440a-9c94-1940734fa14f",
   "metadata": {},
   "outputs": [
    {
     "name": "stdout",
     "output_type": "stream",
     "text": [
      "ArbitraryName(10, 20)\n"
     ]
    }
   ],
   "source": [
    "Num1 = ArbitraryName(10, 20)\n",
    "\n",
    "Num1.show()"
   ]
  },
  {
   "cell_type": "code",
   "execution_count": 105,
   "id": "bfac81d4-f6a5-446b-89f9-f2a09eaaa07c",
   "metadata": {},
   "outputs": [
    {
     "name": "stdout",
     "output_type": "stream",
     "text": [
      "ArbitraryName(20, 40)\n"
     ]
    }
   ],
   "source": [
    "Num2 = ArbitraryName(2, 2)\n",
    "\n",
    "Num1.multiply(Num2)"
   ]
  },
  {
   "cell_type": "code",
   "execution_count": 106,
   "id": "3943ee58-4d04-444c-a99a-650209a29018",
   "metadata": {},
   "outputs": [],
   "source": [
    "class DataModel:\n",
    "    \n",
    "    def __init__(self, x, y):\n",
    "        self.x = x\n",
    "        self.y = y\n",
    "        \n",
    "    def __repr__(self):\n",
    "        return f'ArbitraryName({self.x}, {self.y})'\n",
    "        \n",
    "    def __mul__(self, other):\n",
    "        x = self.x * other.x\n",
    "        y = self.y * other.y\n",
    "        return f'ArbitraryName({x}, {y})'"
   ]
  },
  {
   "cell_type": "code",
   "execution_count": 107,
   "id": "4346f04a-31ac-4342-858d-b09fc8320f07",
   "metadata": {},
   "outputs": [],
   "source": [
    "DMNum1 = DataModel(40, 50)\n",
    "DMNum2 = DataModel(3, 2)"
   ]
  },
  {
   "cell_type": "code",
   "execution_count": 108,
   "id": "0665bc9a-37f4-46a5-93b5-32416f392f95",
   "metadata": {},
   "outputs": [
    {
     "data": {
      "text/plain": [
       "ArbitraryName(40, 50)"
      ]
     },
     "execution_count": 108,
     "metadata": {},
     "output_type": "execute_result"
    }
   ],
   "source": [
    "DMNum1"
   ]
  },
  {
   "cell_type": "code",
   "execution_count": 109,
   "id": "5c5d2b35-5cc2-4128-8954-7b3d0e209ed2",
   "metadata": {},
   "outputs": [
    {
     "data": {
      "text/plain": [
       "ArbitraryName(3, 2)"
      ]
     },
     "execution_count": 109,
     "metadata": {},
     "output_type": "execute_result"
    }
   ],
   "source": [
    "DMNum2"
   ]
  },
  {
   "cell_type": "code",
   "execution_count": 112,
   "id": "2f76a4e9-7f51-4f40-b37b-624d7db85f78",
   "metadata": {},
   "outputs": [
    {
     "name": "stdout",
     "output_type": "stream",
     "text": [
      "ArbitraryName(120, 100)\n"
     ]
    }
   ],
   "source": [
    "print(DMNum1 * DMNum2)"
   ]
  },
  {
   "cell_type": "markdown",
   "id": "210c2721-bfe1-450c-9bd3-9f5e940dae39",
   "metadata": {},
   "source": [
    "# 3.4 Functions as Objects"
   ]
  },
  {
   "cell_type": "code",
   "execution_count": 90,
   "id": "9e4ec145-68e1-4c0e-a37f-2651817be291",
   "metadata": {},
   "outputs": [
    {
     "data": {
      "text/plain": [
       "['Alex', 'John', 'Louis', 'Steven', 'Walter', 'Patrick', 'Zachary']"
      ]
     },
     "execution_count": 90,
     "metadata": {},
     "output_type": "execute_result"
    }
   ],
   "source": [
    "names_list = ['Alex', 'John', 'Steven', 'Patrick', 'Louis', 'Walter', 'Zachary']\n",
    "\n",
    "sorted(names_list, key = len)"
   ]
  },
  {
   "cell_type": "markdown",
   "id": "7d22e9b5-e2ce-4b30-9cf5-66dc48c46690",
   "metadata": {},
   "source": [
    "# 3.5 Magic Methods and Operator Overloading"
   ]
  },
  {
   "cell_type": "code",
   "execution_count": 113,
   "id": "b2a5096b-e30b-4ddc-932c-ec08fcd234b1",
   "metadata": {},
   "outputs": [
    {
     "data": {
      "text/plain": [
       "9"
      ]
     },
     "execution_count": 113,
     "metadata": {},
     "output_type": "execute_result"
    }
   ],
   "source": [
    "4 + 5"
   ]
  },
  {
   "cell_type": "code",
   "execution_count": 114,
   "id": "1f015590-680c-4cf4-8729-67c7e9a46727",
   "metadata": {},
   "outputs": [
    {
     "data": {
      "text/plain": [
       "12.8"
      ]
     },
     "execution_count": 114,
     "metadata": {},
     "output_type": "execute_result"
    }
   ],
   "source": [
    "3.8 + 9"
   ]
  },
  {
   "cell_type": "code",
   "execution_count": 115,
   "id": "87729095-057d-4a32-9dda-2176dbd4a0ea",
   "metadata": {},
   "outputs": [
    {
     "data": {
      "text/plain": [
       "'Peter Pan'"
      ]
     },
     "execution_count": 115,
     "metadata": {},
     "output_type": "execute_result"
    }
   ],
   "source": [
    "'Peter' + ' ' + 'Pan'"
   ]
  },
  {
   "cell_type": "code",
   "execution_count": 117,
   "id": "0135e82d-b822-40af-af7e-93266b14397b",
   "metadata": {},
   "outputs": [
    {
     "data": {
      "text/plain": [
       "'Peter Pan'"
      ]
     },
     "execution_count": 117,
     "metadata": {},
     "output_type": "execute_result"
    }
   ],
   "source": [
    "'Peter' + \" \" + 'Pan'"
   ]
  },
  {
   "cell_type": "code",
   "execution_count": 118,
   "id": "1fa45d2e-42a1-444c-905b-57cfb042be02",
   "metadata": {},
   "outputs": [
    {
     "data": {
      "text/plain": [
       "[3, 6, 8, 7, 11, 13]"
      ]
     },
     "execution_count": 118,
     "metadata": {},
     "output_type": "execute_result"
    }
   ],
   "source": [
    "[3, 6, 8] + [7, 11, 13]"
   ]
  },
  {
   "cell_type": "code",
   "execution_count": 32,
   "id": "262d5eca-fffe-4e8f-98dc-e798a13abffe",
   "metadata": {},
   "outputs": [],
   "source": [
    "class Length:\n",
    "\n",
    "    __metric = {\"mm\": 0.001, \"cm\": 0.01, \"m\": 1, \"km\": 1000,\n",
    "                \"in\": 0.0254, \"ft\": 0.3048, \"yd\": 0.9144,\n",
    "                \"mi\": 1609.344}\n",
    "    \n",
    "    def __init__(self, value, unit = \"m\" ):\n",
    "        self.value = value\n",
    "        self.unit = unit\n",
    "    \n",
    "    def Converse2Metres(self):\n",
    "        return self.value * Length.__metric[self.unit]\n",
    "    \n",
    "    def __add__(self, other):\n",
    "        l = self.Converse2Metres() + other.Converse2Metres()\n",
    "        return Length(l / Length.__metric[self.unit], self.unit )\n",
    "    \n",
    "    def __str__(self):\n",
    "        return str(self.Converse2Metres())\n",
    "    \n",
    "    def __repr__(self):\n",
    "        return \"Length(\" + str(self.value) + \", '\" + self.unit + \"')\""
   ]
  },
  {
   "cell_type": "code",
   "execution_count": 3,
   "id": "45b01aa3-a28e-4127-9355-7902d63489ea",
   "metadata": {},
   "outputs": [
    {
     "name": "stdout",
     "output_type": "stream",
     "text": [
      "5.57162\n"
     ]
    }
   ],
   "source": [
    "L = Length\n",
    "print(L(2.56, 'm') + L(3, 'yd') + L(7.8, 'in') + L(7.03, 'cm'))"
   ]
  },
  {
   "cell_type": "code",
   "execution_count": 6,
   "id": "0d5cc888-409d-4c96-8c6f-6143c6b1c01d",
   "metadata": {},
   "outputs": [
    {
     "name": "stdout",
     "output_type": "stream",
     "text": [
      "5.15\n"
     ]
    }
   ],
   "source": [
    "print(L(3, 'm') + L(2, 'm') + L(15, 'cm'))"
   ]
  },
  {
   "cell_type": "code",
   "execution_count": 13,
   "id": "b9c52c81-c281-46b5-9969-76c8c1565f9d",
   "metadata": {},
   "outputs": [
    {
     "name": "stdout",
     "output_type": "stream",
     "text": [
      "4\n",
      "Length(5.593613298337708, 'yd')\n",
      "5.1148\n"
     ]
    }
   ],
   "source": [
    "if __name__ == \"__main__\":\n",
    "    x = Length(4)\n",
    "    print(x)\n",
    "    y = eval(repr(x)) # Output 4\n",
    "\n",
    "z = Length(4.5, \"yd\") + Length(1)\n",
    "print(repr(z)) # Output Length(5.593613298337708, 'yd')\n",
    "print(z)       # Output 5.1148"
   ]
  },
  {
   "cell_type": "code",
   "execution_count": 29,
   "id": "dd4c5f50-ea48-4dd1-8b0d-5073e3886c49",
   "metadata": {},
   "outputs": [
    {
     "data": {
      "text/plain": [
       "0.001"
      ]
     },
     "execution_count": 29,
     "metadata": {},
     "output_type": "execute_result"
    }
   ],
   "source": [
    "Length._Length__metric['mm']"
   ]
  },
  {
   "cell_type": "code",
   "execution_count": 95,
   "id": "6c89a06b-7a16-4d45-90e6-483007fa227d",
   "metadata": {},
   "outputs": [],
   "source": [
    "class Length:\n",
    "# This is a class that converts different numeric values into different metrics.\n",
    "    \n",
    "    # This is a dictionary that says how can you make an e.g. mm into a meter.\n",
    "    # 1 mm is 0.001 m etc.\n",
    "    # Double underscore means that this dictionary is only used within the class.\n",
    "    __metric = {\"mm\": 0.001, \"cm\": 0.01, \"m\": 1, \"km\": 1000,\n",
    "                \"in\": 0.0254, \"ft\": 0.3048, \"yd\": 0.9144,\n",
    "                \"mi\": 1609.344}\n",
    "    \n",
    "    # The default value is in meters, so if you input just a number like 5\n",
    "    # it will be automatically considered as meters.\n",
    "    def __init__(self, value, unit = \"m\" ):\n",
    "        self.value = value\n",
    "        self.unit = unit\n",
    "    \n",
    "    # This method converts values into metres\n",
    "    # Length.__metric indicates that the dictionary __metric is inside the Length class.\n",
    "    # You can use __metric without the Length. part but it's recommended to use the\n",
    "    # full name: Length.__metric.\n",
    "    def Converse2Metres(self):\n",
    "        # Multiply your value on the number corresponding for the unit in the __metric dictionary.\n",
    "        return self.value * Length.__metric[self.unit]\n",
    "    \n",
    "    # This method takes two values, converts them to meters, sums them, converts them back\n",
    "    # to the unit of the first number.\n",
    "    def __add__(self, other):\n",
    "        l = self.Converse2Metres() + other.Converse2Metres()\n",
    "        return Length(l / Length.__metric[self.unit], self.unit)\n",
    "    \n",
    "    # This method is called by str(number1) or print(number1).\n",
    "    # The first one will give the result in '5' instead of 5 because the result will be a string.\n",
    "    def __str__(self):\n",
    "        return str(self.Converse2Metres())\n",
    "    \n",
    "    # This method is called simply by writing number1 (name of the value).\n",
    "    def __repr__(self):\n",
    "        return \"Length(\" + str(self.value) + \", '\" + self.unit + \"')\"\n",
    "        # The above line is the same as the following line:\n",
    "        # return f'Length({str(self.value)}, {self.unit})'"
   ]
  },
  {
   "cell_type": "code",
   "execution_count": 38,
   "id": "bd108f9e-df0d-453d-bf89-8de2dfffc2ea",
   "metadata": {},
   "outputs": [],
   "source": [
    "l = Length\n",
    "\n",
    "# Setting a number\n",
    "number1 = l(10)"
   ]
  },
  {
   "cell_type": "code",
   "execution_count": 39,
   "id": "76f13b1b-c3ad-48d0-ab94-548c7f6df410",
   "metadata": {},
   "outputs": [
    {
     "data": {
      "text/plain": [
       "Length(10, 'm')"
      ]
     },
     "execution_count": 39,
     "metadata": {},
     "output_type": "execute_result"
    }
   ],
   "source": [
    "# Calling a number\n",
    "number1"
   ]
  },
  {
   "cell_type": "code",
   "execution_count": 41,
   "id": "6c89421f-687e-4db9-ac11-39f83e47e51b",
   "metadata": {},
   "outputs": [
    {
     "data": {
      "text/plain": [
       "Length(65, 'cm')"
      ]
     },
     "execution_count": 41,
     "metadata": {},
     "output_type": "execute_result"
    }
   ],
   "source": [
    "# Setting and calling a number in cm\n",
    "number2 = l(65, 'cm')\n",
    "number2"
   ]
  },
  {
   "cell_type": "code",
   "execution_count": 50,
   "id": "c992ef9b-edbc-48e1-82e8-59117158f73e",
   "metadata": {},
   "outputs": [
    {
     "data": {
      "text/plain": [
       "0.65"
      ]
     },
     "execution_count": 50,
     "metadata": {},
     "output_type": "execute_result"
    }
   ],
   "source": [
    "# Running the converter on a number\n",
    "number2.Converse2Metres()"
   ]
  },
  {
   "cell_type": "code",
   "execution_count": 51,
   "id": "bec95585-01ab-4d05-9d77-e63790ae3cd0",
   "metadata": {},
   "outputs": [
    {
     "data": {
      "text/plain": [
       "10"
      ]
     },
     "execution_count": 51,
     "metadata": {},
     "output_type": "execute_result"
    }
   ],
   "source": [
    "# When run on a value already in meters the value is not changed\n",
    "number1.Converse2Metres()"
   ]
  },
  {
   "cell_type": "code",
   "execution_count": 55,
   "id": "b0c41261-205f-4be0-9f14-1f1025f3b14b",
   "metadata": {},
   "outputs": [
    {
     "data": {
      "text/plain": [
       "0.01"
      ]
     },
     "execution_count": 55,
     "metadata": {},
     "output_type": "execute_result"
    }
   ],
   "source": [
    "Length._Length__metric['cm']"
   ]
  },
  {
   "cell_type": "code",
   "execution_count": 59,
   "id": "ad6cd6a5-fff8-4bae-a131-ca59f7b64bf6",
   "metadata": {},
   "outputs": [
    {
     "data": {
      "text/plain": [
       "Length(10.65, 'm')"
      ]
     },
     "execution_count": 59,
     "metadata": {},
     "output_type": "execute_result"
    }
   ],
   "source": [
    "number1 + number2"
   ]
  },
  {
   "cell_type": "code",
   "execution_count": 61,
   "id": "b7040d1d-5d08-49ea-a178-cc818e1486d8",
   "metadata": {},
   "outputs": [
    {
     "data": {
      "text/plain": [
       "Length(10.65, 'm')"
      ]
     },
     "execution_count": 61,
     "metadata": {},
     "output_type": "execute_result"
    }
   ],
   "source": [
    "number1 + number2"
   ]
  },
  {
   "cell_type": "code",
   "execution_count": 76,
   "id": "11ced588-021c-4f35-8692-839a002b5c64",
   "metadata": {},
   "outputs": [
    {
     "data": {
      "text/plain": [
       "Length(10.08, 'cm')"
      ]
     },
     "execution_count": 76,
     "metadata": {},
     "output_type": "execute_result"
    }
   ],
   "source": [
    "length1 = Length(5, 'cm')\n",
    "length2 = Length(2, 'in')\n",
    "\n",
    "length1 + length2"
   ]
  },
  {
   "cell_type": "code",
   "execution_count": 89,
   "id": "8da273e3-d0ef-4e1b-b831-a598ffaafc2e",
   "metadata": {},
   "outputs": [
    {
     "data": {
      "text/plain": [
       "'0.65'"
      ]
     },
     "execution_count": 89,
     "metadata": {},
     "output_type": "execute_result"
    }
   ],
   "source": [
    "str(number2)"
   ]
  },
  {
   "cell_type": "code",
   "execution_count": 90,
   "id": "359650ec-b390-45af-8756-00f35e616536",
   "metadata": {},
   "outputs": [
    {
     "name": "stdout",
     "output_type": "stream",
     "text": [
      "0.65\n"
     ]
    }
   ],
   "source": [
    "print(number2)"
   ]
  },
  {
   "cell_type": "code",
   "execution_count": 91,
   "id": "c5c0bb56-f4c0-4a11-8cd7-3ee3b16301d9",
   "metadata": {},
   "outputs": [
    {
     "data": {
      "text/plain": [
       "Length(65, 'cm')"
      ]
     },
     "execution_count": 91,
     "metadata": {},
     "output_type": "execute_result"
    }
   ],
   "source": [
    "number2"
   ]
  },
  {
   "cell_type": "code",
   "execution_count": 94,
   "id": "c6d38b48-f2e6-4728-87c8-f8c784fea921",
   "metadata": {},
   "outputs": [
    {
     "data": {
      "text/plain": [
       "Length(65, 'cm')"
      ]
     },
     "execution_count": 94,
     "metadata": {},
     "output_type": "execute_result"
    }
   ],
   "source": [
    "number2"
   ]
  },
  {
   "cell_type": "code",
   "execution_count": 1,
   "id": "f857e40e-58b9-4e79-8a36-50bd7573b64a",
   "metadata": {},
   "outputs": [
    {
     "name": "stdout",
     "output_type": "stream",
     "text": [
      "4\n",
      "Length(5.593613298337708, 'yd')\n",
      "5.1148\n"
     ]
    }
   ],
   "source": [
    "class Length:\n",
    "\n",
    "    __metric = {\"mm\" : 0.001, \"cm\" : 0.01, \"m\" : 1, \"km\" : 1000,\n",
    "                \"in\" : 0.0254, \"ft\" : 0.3048, \"yd\" : 0.9144,\n",
    "                \"mi\" : 1609.344 }\n",
    "    \n",
    "    def __init__(self, value, unit = \"m\" ):\n",
    "        self.value = value\n",
    "        self.unit = unit\n",
    "    \n",
    "    def Converse2Metres(self):\n",
    "        return self.value * Length.__metric[self.unit]\n",
    "    \n",
    "    def __add__(self, other):\n",
    "        l = self.Converse2Metres() + other.Converse2Metres()\n",
    "        return Length(l / Length.__metric[self.unit], self.unit )\n",
    "    \n",
    "    def __str__(self):\n",
    "        return str(self.Converse2Metres())\n",
    "    \n",
    "    def __repr__(self):\n",
    "        return \"Length(\" + str(self.value) + \", '\" + self.unit + \"')\"\n",
    "\n",
    "# if __name__ == \"__main__\":\n",
    "x = Length(4)\n",
    "print(x)\n",
    "y = eval(repr(x))\n",
    "\n",
    "z = Length(4.5, \"yd\") + Length(1)\n",
    "print(repr(z))\n",
    "print(z)"
   ]
  },
  {
   "cell_type": "code",
   "execution_count": 98,
   "id": "7bc8bf8e-7202-4578-85e4-0f6e9bd5cd6b",
   "metadata": {},
   "outputs": [
    {
     "data": {
      "text/plain": [
       "Length(4, 'm')"
      ]
     },
     "execution_count": 98,
     "metadata": {},
     "output_type": "execute_result"
    }
   ],
   "source": [
    "x"
   ]
  },
  {
   "cell_type": "code",
   "execution_count": 100,
   "id": "06c67d16-2280-4c89-9434-589502f6d151",
   "metadata": {},
   "outputs": [
    {
     "data": {
      "text/plain": [
       "Length(4, 'm')"
      ]
     },
     "execution_count": 100,
     "metadata": {},
     "output_type": "execute_result"
    }
   ],
   "source": [
    "eval(repr(x))"
   ]
  },
  {
   "cell_type": "code",
   "execution_count": 101,
   "id": "eaecca03-ebab-4465-b6c7-a7816215ff5d",
   "metadata": {},
   "outputs": [
    {
     "data": {
      "text/plain": [
       "Length(4, 'm')"
      ]
     },
     "execution_count": 101,
     "metadata": {},
     "output_type": "execute_result"
    }
   ],
   "source": [
    "x2 = x\n",
    "x2"
   ]
  },
  {
   "cell_type": "code",
   "execution_count": 2,
   "id": "2ffdbeb7-f168-4997-8f4b-6065acd7d954",
   "metadata": {},
   "outputs": [
    {
     "data": {
      "text/plain": [
       "Length(5.0, 'm')"
      ]
     },
     "execution_count": 2,
     "metadata": {},
     "output_type": "execute_result"
    }
   ],
   "source": [
    "x += Length(1)\n",
    "x"
   ]
  },
  {
   "cell_type": "code",
   "execution_count": 3,
   "id": "1e84331d-def1-4e29-9e95-927944c28554",
   "metadata": {},
   "outputs": [
    {
     "data": {
      "text/plain": [
       "Length(5.0, 'm')"
      ]
     },
     "execution_count": 3,
     "metadata": {},
     "output_type": "execute_result"
    }
   ],
   "source": [
    "x"
   ]
  },
  {
   "cell_type": "code",
   "execution_count": 4,
   "id": "00aeab60-8e70-48f8-81f0-ae343d5b3cb9",
   "metadata": {},
   "outputs": [
    {
     "data": {
      "text/plain": [
       "Length(9.5, 'm')"
      ]
     },
     "execution_count": 4,
     "metadata": {},
     "output_type": "execute_result"
    }
   ],
   "source": [
    "x += Length(4.5)\n",
    "x"
   ]
  },
  {
   "cell_type": "code",
   "execution_count": 2,
   "id": "01bc417e-3d19-4c1d-8b71-41524815eed1",
   "metadata": {},
   "outputs": [
    {
     "name": "stdout",
     "output_type": "stream",
     "text": [
      "4\n",
      "Length(5.593613298337708, 'yd')\n",
      "5.1148\n"
     ]
    }
   ],
   "source": [
    "class Length:\n",
    "\n",
    "    __metric = {\"mm\": 0.001, \"cm\": 0.01, \"m\": 1, \"km\": 1000,\n",
    "                \"in\": 0.0254, \"ft\": 0.3048, \"yd\": 0.9144,\n",
    "                \"mi\": 1609.344 }\n",
    "    \n",
    "    def __init__(self, value, unit = \"m\" ):\n",
    "        self.value = value\n",
    "        self.unit = unit\n",
    "    \n",
    "    def Converse2Metres(self):\n",
    "        return self.value * Length.__metric[self.unit]\n",
    "    \n",
    "    def __add__(self, other):\n",
    "        l = self.Converse2Metres() + other.Converse2Metres()\n",
    "        return Length(l / Length.__metric[self.unit], self.unit )\n",
    "    \n",
    "    def __str__(self):\n",
    "        return str(self.Converse2Metres())\n",
    "    \n",
    "    def __repr__(self):\n",
    "        return \"Length(\" + str(self.value) + \", '\" + self.unit + \"')\"\n",
    "\n",
    "if __name__ == \"__main__\":\n",
    "    x = Length(4)\n",
    "    print(x)\n",
    "    y = eval(repr(x))\n",
    "\n",
    "    z = Length(4.5, \"yd\") + Length(1)\n",
    "    print(repr(z))\n",
    "    print(z)"
   ]
  },
  {
   "cell_type": "code",
   "execution_count": 4,
   "id": "725b5688-6e6d-420a-902a-09b70cc300c6",
   "metadata": {},
   "outputs": [],
   "source": [
    "    def __iadd__(self, other):\n",
    "        l = self.Converse2Metres() + other.Converse2Metres()\n",
    "        self.value = l / Length.__metric[self.unit]\n",
    "        return self"
   ]
  },
  {
   "cell_type": "code",
   "execution_count": 5,
   "id": "6203eb3c-462f-4563-8287-fd055bc5a1a2",
   "metadata": {},
   "outputs": [],
   "source": [
    "    def __add__(self, other):\n",
    "        if type(other) == int or type(other) == float:\n",
    "            l = self.Converse2Metres() + other\n",
    "        else:\n",
    "            l = self.Converse2Metres() + other.Converse2Metres()\n",
    "        return Length(l / Length.__metric[self.unit], self.unit )\n",
    "\n",
    "    def __iadd__(self, other):\n",
    "        if type(other) == int or type(other) == float:\n",
    "            l = self.Converse2Metres() + other\n",
    "        else:\n",
    "            l = self.Converse2Metres() + other.Converse2Metres()\n",
    "        self.value = l / Length.__metric[self.unit]\n",
    "        return self"
   ]
  },
  {
   "cell_type": "code",
   "execution_count": 10,
   "id": "78cb8adb-a48d-4827-b3e8-f1bc5de219e5",
   "metadata": {},
   "outputs": [],
   "source": [
    "    def __radd__(self, other):\n",
    "        if type(other) == int or type(other) == float:\n",
    "            l = self.Converse2Metres() + otherLength.__radd__(Length(3, \"yd\"), 5)\n",
    "        else:\n",
    "            l = self.Converse2Metres() + other.Converse2Metres()\n",
    "        return Length(l / Length.__metric[self.unit], self.unit )"
   ]
  },
  {
   "cell_type": "code",
   "execution_count": 13,
   "id": "a469ee79-c639-4460-adad-54154e3aa44c",
   "metadata": {},
   "outputs": [],
   "source": [
    "    def __radd__(self, other):\n",
    "        return Length.__add__(self,other) "
   ]
  },
  {
   "cell_type": "code",
   "execution_count": 25,
   "id": "f28b7857-0021-4c95-a5e3-4228d86fb60d",
   "metadata": {},
   "outputs": [],
   "source": [
    "class Polynomial:\n",
    "    \n",
    "    def __init__(self, *coefficients):\n",
    "        self.coefficients = coefficients[::-1]\n",
    "        \n",
    "    def __call__(self, x):\n",
    "        res = 0\n",
    "        for index, coeff in enumerate(self.coefficients):\n",
    "            res += coeff * x** index\n",
    "        return res"
   ]
  },
  {
   "cell_type": "code",
   "execution_count": 26,
   "id": "9016c684-6883-4d34-be9d-70472f5cde12",
   "metadata": {},
   "outputs": [],
   "source": [
    "# a constant function\n",
    "p1 = Polynomial(42)\n",
    "\n",
    "# a straight Line\n",
    "p2 = Polynomial(0.75, 2)\n",
    "\n",
    "# a third degree Polynomial\n",
    "p3 = Polynomial(1, -0.5, 0.75, 2)"
   ]
  },
  {
   "cell_type": "code",
   "execution_count": 18,
   "id": "57b97c81-8060-45b2-9cff-ed96b56070c0",
   "metadata": {},
   "outputs": [
    {
     "name": "stdout",
     "output_type": "stream",
     "text": [
      "1 42 2.75 3.25\n",
      "2 42 3.5 9.5\n",
      "3 42 4.25 26.75\n",
      "4 42 5.0 61.0\n",
      "5 42 5.75 118.25\n",
      "6 42 6.5 204.5\n",
      "7 42 7.25 325.75\n",
      "8 42 8.0 488.0\n",
      "9 42 8.75 697.25\n"
     ]
    }
   ],
   "source": [
    "for i in range(1, 10):\n",
    "    print(i, p1(i), p2(i), p3(i))"
   ]
  },
  {
   "cell_type": "code",
   "execution_count": 27,
   "id": "9478af0c-c657-47c6-8039-dcbd2df84130",
   "metadata": {},
   "outputs": [
    {
     "name": "stdout",
     "output_type": "stream",
     "text": [
      "[3, 4, 47]\n"
     ]
    }
   ],
   "source": [
    "class Plist(list):\n",
    "\n",
    "    def __init__(self, l):\n",
    "        list.__init__(self, l)\n",
    "\n",
    "    def push(self, item):\n",
    "        self.append(item)\n",
    "\n",
    "\n",
    "if __name__ == \"__main__\":\n",
    "    x = Plist([3,4])\n",
    "    x.push(47)\n",
    "    print(x)"
   ]
  },
  {
   "cell_type": "markdown",
   "id": "0f67e1ef-a8be-44bb-81cd-99309b45615a",
   "metadata": {},
   "source": [
    "<b>Exercise 1: Canadian money</b>"
   ]
  },
  {
   "cell_type": "code",
   "execution_count": 76,
   "id": "2ddb113f-01a1-4fdd-9e8c-acb1ba096ac2",
   "metadata": {},
   "outputs": [],
   "source": [
    "class Converter:\n",
    "    \n",
    "    __rates = {'EUR': 1, 'GBP': 0.859421, 'USD': 1.06933, 'RUB': 0.011492}\n",
    "    \n",
    "    def __init__(self, amount, currency = 'EUR'):\n",
    "        self.amount = amount\n",
    "        self.currency = currency\n",
    "        \n",
    "    def IntoEuros(self):\n",
    "        return self.amount * Converter.__rates[self.currency]\n",
    "    \n",
    "    def __add__(self, other):\n",
    "        if isinstance(other, (int, float)):\n",
    "            other = Converter(other, 'EUR')\n",
    "        c = self.IntoEuros() + other.IntoEuros()\n",
    "        return c\n",
    "\n",
    "    def __radd__(self, other):\n",
    "        if isinstance(other, (int, float)):\n",
    "            other = Converter(other, 'EUR')\n",
    "        c = other.IntoEuros() + self.IntoEuros()\n",
    "        return c    \n",
    "    \n",
    "    def __str__(self):\n",
    "        return str(self.IntoEuros())\n",
    "    \n",
    "    def __repr__(self):\n",
    "        return f'Converter({str(self.value)}, {self.currency})'"
   ]
  },
  {
   "cell_type": "code",
   "execution_count": 66,
   "id": "31fc8845-0444-497b-83b7-d311ea8cf3f4",
   "metadata": {},
   "outputs": [],
   "source": [
    "v1 = Converter(23.43, 'EUR')\n",
    "v2 = Converter(19.97, 'USD')"
   ]
  },
  {
   "cell_type": "code",
   "execution_count": 67,
   "id": "5fe0b9b9-4ee5-4da6-b20c-28e336d0e442",
   "metadata": {},
   "outputs": [
    {
     "name": "stdout",
     "output_type": "stream",
     "text": [
      "44.784520099999995\n"
     ]
    }
   ],
   "source": [
    "print(v1 + v2)"
   ]
  },
  {
   "cell_type": "code",
   "execution_count": 68,
   "id": "cd0be7c0-857d-4ead-ae69-cc75d67b17e2",
   "metadata": {},
   "outputs": [
    {
     "name": "stdout",
     "output_type": "stream",
     "text": [
      "44.784520099999995\n"
     ]
    }
   ],
   "source": [
    "print(v2 + v1)"
   ]
  },
  {
   "cell_type": "code",
   "execution_count": 69,
   "id": "0e2b19fa-3b53-4385-be15-a7799c6d44c3",
   "metadata": {},
   "outputs": [
    {
     "name": "stdout",
     "output_type": "stream",
     "text": [
      "26.43\n"
     ]
    }
   ],
   "source": [
    "print(v1 + 3)"
   ]
  },
  {
   "cell_type": "code",
   "execution_count": 71,
   "id": "9e062371-a57a-462c-aac6-d78f5a7944e1",
   "metadata": {},
   "outputs": [
    {
     "name": "stdout",
     "output_type": "stream",
     "text": [
      "26.43\n"
     ]
    }
   ],
   "source": [
    "print(3 + v1)"
   ]
  },
  {
   "cell_type": "code",
   "execution_count": 80,
   "id": "ddd2567a-9fd5-42b7-8c73-e77120450078",
   "metadata": {},
   "outputs": [
    {
     "data": {
      "text/plain": [
       "1425.008"
      ]
     },
     "execution_count": 80,
     "metadata": {},
     "output_type": "execute_result"
    }
   ],
   "source": [
    "v3 = Converter(124000, 'RUB')\n",
    "\n",
    "v3.IntoEuros()"
   ]
  },
  {
   "cell_type": "code",
   "execution_count": 79,
   "id": "8906736a-b2b9-4254-b301-39b5ec78d294",
   "metadata": {},
   "outputs": [
    {
     "name": "stdout",
     "output_type": "stream",
     "text": [
      "52\n",
      "2♠\n",
      "A♣\n",
      "True\n"
     ]
    }
   ],
   "source": [
    "import random\n",
    "\n",
    "class CardDeck:\n",
    "    ranks = [str(n) for n in range(2, 11)] + ['J', 'Q', 'K', 'A']\n",
    "    suits = '♠♡♢♣'\n",
    "\n",
    "    def __init__(self):\n",
    "        self._cards = [\n",
    "            rank + suit\n",
    "            for suit in self.suits\n",
    "            for rank in self.ranks\n",
    "        ]\n",
    "\n",
    "    def __len__(self):\n",
    "        return len(self._cards)\n",
    "\n",
    "    def __getitem__(self, position):\n",
    "        return self._cards[position]\n",
    "\n",
    "    def __setitem__(self, position, value):\n",
    "        self._cards[position] = value\n",
    "\n",
    "    def __iter__(self):\n",
    "        return iter(self._cards)\n",
    "\n",
    "    def shuffle(self):\n",
    "        random.shuffle(self._cards)\n",
    "\n",
    "# Usage:\n",
    "deck = CardDeck()\n",
    "print(len(deck))  # Output: 52\n",
    "print(deck[0])  # Output: 2♠\n",
    "print(deck[-1])  # Output: A♣\n",
    "print(random.choice(deck) in list(deck))  # Output: True\n",
    "deck.shuffle()  # Shuffles the deck\n"
   ]
  },
  {
   "cell_type": "code",
   "execution_count": 81,
   "id": "a3dd7ea2-9f77-47fd-9dd5-a085fcc73f35",
   "metadata": {},
   "outputs": [],
   "source": [
    "class Polynomial:\n",
    "    def __init__(self, coefficients):\n",
    "        self.coefficients = coefficients\n",
    "\n",
    "    def __str__(self):\n",
    "        terms = []\n",
    "        for power, coeff in enumerate(self.coefficients[::-1]):\n",
    "            if coeff != 0:\n",
    "                term = f\"{coeff}x^{power}\" if power > 1 else f\"{coeff}x\" if power == 1 else str(coeff)\n",
    "                terms.append(term)\n",
    "        return \" + \".join(terms)\n",
    "\n",
    "    def __add__(self, poly):\n",
    "        max_len = max(len(self.coefficients), len(poly.coefficients))\n",
    "        padded_self = self.coefficients + [0] * (max_len - len(self.coefficients))\n",
    "        padded_poly = poly.coefficients + [0] * (max_len - len(poly.coefficients))\n",
    "        result = [a + b for a, b in zip(padded_self, padded_poly)]\n",
    "        return Polynomial(result)\n",
    "\n",
    "    def __sub__(self, poly):\n",
    "        max_len = max(len(self.coefficients), len(poly.coefficients))\n",
    "        padded_self = self.coefficients + [0] * (max_len - len(self.coefficients))\n",
    "        padded_poly = poly.coefficients + [0] * (max_len - len(poly.coefficients))\n",
    "        result = [a - b for a, b in zip(padded_self, padded_poly)]\n",
    "        return Polynomial(result)\n",
    "\n",
    "    def __mul__(self, poly):\n",
    "        product = [0] * (len(self.coefficients) + len(poly.coefficients) - 1)\n",
    "        for i, a in enumerate(self.coefficients):\n",
    "            for j, b in enumerate(poly.coefficients):\n",
    "                product[i + j] += a * b\n",
    "        return Polynomial(product)\n",
    "\n",
    "    def value(self, x):\n",
    "        result = 0\n",
    "        for power, coeff in enumerate(self.coefficients):\n",
    "            result += coeff * x ** power\n",
    "        return result\n",
    "\n",
    "    def derivative(self):\n",
    "        derivative_coeffs = [coeff * power for power, coeff in enumerate(self.coefficients[1:], start=1)]\n",
    "        return Polynomial(derivative_coeffs)"
   ]
  },
  {
   "cell_type": "code",
   "execution_count": 82,
   "id": "fee5a5dc-47fe-4c76-8bbb-46702592e259",
   "metadata": {},
   "outputs": [
    {
     "name": "stdout",
     "output_type": "stream",
     "text": [
      "7 + -1x + 2x^2\n",
      "1 + 4x + 3x^2\n",
      "8 + 3x + 5x^2\n",
      "6 + -5x + -1x^2\n",
      "7 + 27x + 19x^2 + 5x^3 + 6x^4\n",
      "28\n",
      "14 + -1x\n"
     ]
    }
   ],
   "source": [
    "p1 = Polynomial([2, -1, 7])\n",
    "p2 = Polynomial([3, 4, 1])\n",
    "\n",
    "print(p1)  # Output: 2x^2 - x + 7\n",
    "print(p2)  # Output: 3x^2 + 4x + 1\n",
    "\n",
    "p3 = p1 + p2\n",
    "print(p3)  # Output: 5x^2 + 3x + 8\n",
    "\n",
    "p4 = p1 - p2\n",
    "print(p4)  # Output: -1x^2 - 5x + 6\n",
    "\n",
    "p5 = p1 * p2\n",
    "print(p5)  # Output: 6x^4 + 5x^3 + 17x^2 + 3x + 7\n",
    "\n",
    "print(p1.value(2))  # Output: 19\n",
    "\n",
    "p6 = p1.derivative()\n",
    "print(p6)  # Output: 4x - 1"
   ]
  },
  {
   "cell_type": "markdown",
   "id": "529d9556-59a7-4150-93ac-4803fa1b5e50",
   "metadata": {},
   "source": [
    "# 3.6 Exceptions"
   ]
  },
  {
   "cell_type": "code",
   "execution_count": 1,
   "id": "55f505c0-4d71-4ca2-ab08-12ebd8d802bc",
   "metadata": {},
   "outputs": [
    {
     "name": "stdout",
     "output_type": "stream",
     "text": [
      "[1, 2, 3, 4, 5, 6, 7, 8, 9, 10, 11, 12, 13, 14, 15, 16, 17, 18, 19, 20, 21, 22, 23, 24, 25, 26, 27, 28, 29, 30, 31, 32, 33, 34, 35, 36, 37, 38, 39, 40, 41, 42, 43, 44, 45, 46, 47, 48, 49, 50, 51, 52, 53, 54, 55, 56, 57, 58, 59, 60, 61, 62, 63, 64, 65, 66, 67, 68, 69, 70, 71, 72, 73, 74, 75, 76, 77, 78, 79, 80, 81, 82, 83, 84, 85, 86, 87, 88, 89, 90, 91, 92, 93, 94, 95, 96, 97, 98, 99]\n"
     ]
    }
   ],
   "source": [
    "list_of_numbers = [number for number in range(1, 100)]\n",
    "print(list_of_numbers)"
   ]
  },
  {
   "cell_type": "code",
   "execution_count": 2,
   "id": "fa8a3fd2-fd26-4f01-86c6-0afd87f02d85",
   "metadata": {},
   "outputs": [],
   "source": [
    "dictionary_of_numbers = {}\n",
    "for number in list_of_numbers:\n",
    "    dictionary_of_numbers[number ** 2] = number"
   ]
  },
  {
   "cell_type": "code",
   "execution_count": 3,
   "id": "1af4602e-6dfb-4f22-a8c3-092d771ecfcb",
   "metadata": {},
   "outputs": [
    {
     "name": "stdout",
     "output_type": "stream",
     "text": [
      "Getting number at position 1 : 1\n",
      "Cleaning UP\n"
     ]
    }
   ],
   "source": [
    "try:\n",
    "    index = list_of_numbers.index(2)\n",
    "    value = dictionary_of_numbers[index]\n",
    "except (ValueError, KeyError):\n",
    "    print('Error Raised, but Controlled! ')\n",
    "else: \n",
    "    # This executes ONLY if no exception is raised\n",
    "    print('Getting number at position %d : %d' % (index, value))\n",
    "finally:\n",
    "    # Do cleanup operations\n",
    "    print('Cleaning UP')"
   ]
  }
 ],
 "metadata": {
  "kernelspec": {
   "display_name": "Python 3 (ipykernel)",
   "language": "python",
   "name": "python3"
  },
  "language_info": {
   "codemirror_mode": {
    "name": "ipython",
    "version": 3
   },
   "file_extension": ".py",
   "mimetype": "text/x-python",
   "name": "python",
   "nbconvert_exporter": "python",
   "pygments_lexer": "ipython3",
   "version": "3.9.13"
  }
 },
 "nbformat": 4,
 "nbformat_minor": 5
}
