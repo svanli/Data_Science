{
 "cells": [
  {
   "cell_type": "markdown",
   "id": "e3f09a74-27b1-40ff-b2d7-d72ec502622d",
   "metadata": {},
   "source": [
    "<h1>Notes (parts 2.3–...)</h1>"
   ]
  },
  {
   "cell_type": "markdown",
   "id": "a8b4ea55-1256-46cf-9d44-7caefbf917e2",
   "metadata": {},
   "source": [
    "<h2>2.3 Dictionaries</h2>"
   ]
  },
  {
   "cell_type": "code",
   "execution_count": 3,
   "id": "604c7ba5-28be-4e4e-8ad1-10d7b07f6d5d",
   "metadata": {},
   "outputs": [
    {
     "data": {
      "text/plain": [
       "{'John': 29, 'Alex': 35, 'George': 45, 'Bert': 61, 'Tom': 25}"
      ]
     },
     "execution_count": 3,
     "metadata": {},
     "output_type": "execute_result"
    }
   ],
   "source": [
    "emp_age = {\n",
    "    'John': 29,\n",
    "    'Alex': 35,\n",
    "    'George': 45,\n",
    "    'Bert': 61,\n",
    "    'Tom': 25\n",
    "}\n",
    "\n",
    "emp_age"
   ]
  },
  {
   "cell_type": "code",
   "execution_count": 8,
   "id": "ab143aac-bf95-4e33-ae1b-b130a641a2c9",
   "metadata": {},
   "outputs": [
    {
     "data": {
      "text/plain": [
       "{1: 11, 2: 22, 3: 33}"
      ]
     },
     "execution_count": 8,
     "metadata": {},
     "output_type": "execute_result"
    }
   ],
   "source": [
    "ex_numbers = {\n",
    "    1: 11,\n",
    "    2: 22,\n",
    "    3: 33\n",
    "}\n",
    "\n",
    "ex_numbers"
   ]
  },
  {
   "cell_type": "code",
   "execution_count": 10,
   "id": "cfb26c08-fd2f-4022-8123-9bed57acbd6c",
   "metadata": {},
   "outputs": [
    {
     "data": {
      "text/plain": [
       "{1: 'A', 2: 'B', 3: 'C'}"
      ]
     },
     "execution_count": 10,
     "metadata": {},
     "output_type": "execute_result"
    }
   ],
   "source": [
    "ex_letters = {\n",
    "    1: 'A',\n",
    "    2: 'B',\n",
    "    3: 'C'\n",
    "}\n",
    "\n",
    "ex_letters"
   ]
  },
  {
   "cell_type": "code",
   "execution_count": 11,
   "id": "e4700c35-a829-426e-8f3a-e647754c90e6",
   "metadata": {},
   "outputs": [
    {
     "name": "stdout",
     "output_type": "stream",
     "text": [
      "{}\n"
     ]
    }
   ],
   "source": [
    "rus2eng = dict()\n",
    "\n",
    "print(rus2eng)"
   ]
  },
  {
   "cell_type": "code",
   "execution_count": 12,
   "id": "180d4e0c-36a1-48ba-ac00-e71576d7f0e6",
   "metadata": {},
   "outputs": [],
   "source": [
    "rus2eng['привет'] = 'hello'"
   ]
  },
  {
   "cell_type": "code",
   "execution_count": 14,
   "id": "10bc74d6-feb4-423b-a97d-ca2c540f8b47",
   "metadata": {},
   "outputs": [
    {
     "name": "stdout",
     "output_type": "stream",
     "text": [
      "hello\n"
     ]
    }
   ],
   "source": [
    "print(rus2eng['привет'])"
   ]
  },
  {
   "cell_type": "code",
   "execution_count": 15,
   "id": "136c1f45-fb2f-447a-8fbf-f6d9e142b6d7",
   "metadata": {},
   "outputs": [
    {
     "data": {
      "text/plain": [
       "{'привет': 'hello'}"
      ]
     },
     "execution_count": 15,
     "metadata": {},
     "output_type": "execute_result"
    }
   ],
   "source": [
    "rus2eng"
   ]
  },
  {
   "cell_type": "code",
   "execution_count": 18,
   "id": "036d6e82-1a0e-4822-ba9b-b9be3001829c",
   "metadata": {},
   "outputs": [],
   "source": [
    "ruswords = ['привет', 'как дела?', 'как тебя зовут?', 'сколько тебе лет?']\n",
    "engwords = ['hello', 'how are you?', 'what is your name?', 'how old are you?']\n",
    "\n",
    "ruseng = dict()"
   ]
  },
  {
   "cell_type": "code",
   "execution_count": 21,
   "id": "7bdac860-9097-4c12-a45f-7d6040690b26",
   "metadata": {},
   "outputs": [],
   "source": [
    "ruseng[ruswords[0]] = engwords[0]"
   ]
  },
  {
   "cell_type": "code",
   "execution_count": 22,
   "id": "43f7480c-d1d5-40d1-9ddb-5b648aab53c7",
   "metadata": {},
   "outputs": [
    {
     "data": {
      "text/plain": [
       "{'привет': 'hello'}"
      ]
     },
     "execution_count": 22,
     "metadata": {},
     "output_type": "execute_result"
    }
   ],
   "source": [
    "ruseng\n"
   ]
  },
  {
   "cell_type": "code",
   "execution_count": 26,
   "id": "13ff6cea-4b31-492c-a212-6d471f7506b2",
   "metadata": {},
   "outputs": [
    {
     "name": "stdout",
     "output_type": "stream",
     "text": [
      "{'привет': 'hello', 'как дела?': 'how are you?', 'как тебя зовут?': 'what is your name?', 'сколько тебе лет?': 'how old are you?'}\n"
     ]
    }
   ],
   "source": [
    "for rus, eng in zip(ruswords, engwords):\n",
    "    ruseng[rus] = eng\n",
    "    \n",
    "print(ruseng)"
   ]
  },
  {
   "cell_type": "code",
   "execution_count": 28,
   "id": "7face64e-e21a-451a-8ec6-9d95d6ab66a7",
   "metadata": {},
   "outputs": [
    {
     "name": "stdout",
     "output_type": "stream",
     "text": [
      "what is your name?\n"
     ]
    }
   ],
   "source": [
    "print(ruseng['как тебя зовут?'])"
   ]
  },
  {
   "cell_type": "code",
   "execution_count": 32,
   "id": "ccd93593-e83e-4e5f-99db-d208b8582bf8",
   "metadata": {},
   "outputs": [],
   "source": [
    "eng2 = [\n",
    "    'people',\n",
    "    'family',\n",
    "    'woman',\n",
    "    'man',\n",
    "    'girl',\n",
    "    'boy',\n",
    "    'child',\n",
    "    'friend',\n",
    "    'husband',\n",
    "    'wife',\n",
    "    'name',\n",
    "    'head',\n",
    "    'face',\n",
    "    'hand'\n",
    "]\n",
    "\n",
    "rus2 = [\n",
    "    'люди',\n",
    "    'семья',\n",
    "    'женщина',\n",
    "    'мужчина',\n",
    "    'девочка',\n",
    "    'мальчик',\n",
    "    'ребёнок',\n",
    "    'друг',\n",
    "    'муж',\n",
    "    'жена',\n",
    "    'имя',\n",
    "    'голова',\n",
    "    'лицо',\n",
    "    'рука'\n",
    "]\n",
    "\n",
    "engrus2 = {}"
   ]
  },
  {
   "cell_type": "code",
   "execution_count": 33,
   "id": "1386f924-3a0e-425c-b614-879ac0940a16",
   "metadata": {},
   "outputs": [
    {
     "name": "stdout",
     "output_type": "stream",
     "text": [
      "{'people': 'люди', 'family': 'семья', 'woman': 'женщина', 'man': 'мужчина', 'girl': 'девочка', 'boy': 'мальчик', 'child': 'ребёнок', 'friend': 'друг', 'husband': 'муж', 'wife': 'жена', 'name': 'имя', 'head': 'голова', 'face': 'лицо', 'hand': 'рука'}\n"
     ]
    }
   ],
   "source": [
    "for eng, rus in zip(eng2, rus2):\n",
    "    engrus2[eng] = rus\n",
    "\n",
    "print(engrus2)"
   ]
  },
  {
   "cell_type": "code",
   "execution_count": 34,
   "id": "c925978c-9e2e-4497-84f2-bb0349f0bd74",
   "metadata": {},
   "outputs": [
    {
     "name": "stdout",
     "output_type": "stream",
     "text": [
      "семья\n"
     ]
    }
   ],
   "source": [
    "print(engrus2['family'])"
   ]
  },
  {
   "cell_type": "code",
   "execution_count": 35,
   "id": "526ba2ca-b026-4887-969f-9d3a2f334dbd",
   "metadata": {},
   "outputs": [
    {
     "name": "stdout",
     "output_type": "stream",
     "text": [
      "LIST: a\n",
      "DICTIONARY: a\n",
      "FUNCTION: a\n"
     ]
    }
   ],
   "source": [
    "words = ['list', 'dictionary', 'function']\n",
    "\n",
    "for word in words:\n",
    "    print(f'{word.upper()}: a')"
   ]
  },
  {
   "cell_type": "code",
   "execution_count": 36,
   "id": "c4f1c4e9-7391-4cd8-bbc4-6f1e124fdd6d",
   "metadata": {},
   "outputs": [
    {
     "name": "stdout",
     "output_type": "stream",
     "text": [
      "LIST: a\n",
      "DICTIONARY: b\n",
      "FUNCTION: c\n"
     ]
    }
   ],
   "source": [
    "words2 = {'list': 'a', 'dictionary': 'b', 'function': 'c'}\n",
    "\n",
    "for word in words2:\n",
    "    print(f'{word.upper()}: {words2[word]}')"
   ]
  },
  {
   "cell_type": "code",
   "execution_count": 44,
   "id": "da3836ae-9e72-424e-a124-defdb88ebfaf",
   "metadata": {},
   "outputs": [
    {
     "name": "stdout",
     "output_type": "stream",
     "text": [
      "1. JAMES is 29 years old\n",
      "\n",
      "2. RON is 45 years old\n",
      "\n",
      "3. JOHN is 35 years old\n",
      "\n",
      "4. TOM is 34 years old\n",
      "\n",
      "5. ALEX is 23 years old\n",
      "\n"
     ]
    }
   ],
   "source": [
    "emp_age = {\n",
    "    'James': 29,\n",
    "    'Ron': 45,\n",
    "    'John': 35,\n",
    "    'Tom': 34,\n",
    "    'Alex': 23\n",
    "}\n",
    "\n",
    "for i, emp in enumerate(emp_age):\n",
    "    print(f'{i+1}. {emp.upper()} is {emp_age[emp]} years old\\n')"
   ]
  },
  {
   "cell_type": "code",
   "execution_count": 49,
   "id": "50ba7848-e4fb-4adc-96ef-2ea68c2788d7",
   "metadata": {},
   "outputs": [
    {
     "name": "stdout",
     "output_type": "stream",
     "text": [
      "Employee 1 is James.\n",
      "Employee 2 is Ron.\n",
      "Employee 3 is John.\n",
      "Employee 4 is Tom.\n",
      "\tTom's age is 34\n",
      "Employee 5 is Alex.\n"
     ]
    }
   ],
   "source": [
    "for i, emp in enumerate(emp_age):\n",
    "    print(f'Employee {i+1} is {emp}.')\n",
    "    if emp == 'Tom':\n",
    "        print(f\"\\tTom's age is {emp_age[emp]}\")"
   ]
  },
  {
   "cell_type": "code",
   "execution_count": 53,
   "id": "f8558324-4645-44d2-aab6-fc6175bc6c97",
   "metadata": {},
   "outputs": [
    {
     "name": "stdout",
     "output_type": "stream",
     "text": [
      "Employee 1 is James.\n",
      "\t(age 29)\n",
      "\n",
      "Employee 2 is Ron.\n",
      "\t(age 45)\n",
      "\n",
      "Employee 3 is John.\n",
      "\t(age 35)\n",
      "\n",
      "Employee 4 is Tom.\n",
      "\t(age 34)\n",
      "\n",
      "Employee 5 is Alex.\n",
      "\t(age 23)\n",
      "\n"
     ]
    }
   ],
   "source": [
    "for i, emp in enumerate(emp_age):\n",
    "    print(f'Employee {i+1} is {emp}.')\n",
    "    print(f'\\t(age {emp_age[emp]})\\n')"
   ]
  },
  {
   "cell_type": "code",
   "execution_count": null,
   "id": "74353955-e17a-404d-833b-1abbd2a45a3a",
   "metadata": {},
   "outputs": [],
   "source": []
  }
 ],
 "metadata": {
  "kernelspec": {
   "display_name": "Python 3 (ipykernel)",
   "language": "python",
   "name": "python3"
  },
  "language_info": {
   "codemirror_mode": {
    "name": "ipython",
    "version": 3
   },
   "file_extension": ".py",
   "mimetype": "text/x-python",
   "name": "python",
   "nbconvert_exporter": "python",
   "pygments_lexer": "ipython3",
   "version": "3.9.13"
  }
 },
 "nbformat": 4,
 "nbformat_minor": 5
}
