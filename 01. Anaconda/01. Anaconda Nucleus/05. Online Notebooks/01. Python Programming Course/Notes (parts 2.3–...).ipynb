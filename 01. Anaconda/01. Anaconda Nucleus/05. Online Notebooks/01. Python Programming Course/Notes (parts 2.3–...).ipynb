{
 "cells": [
  {
   "cell_type": "markdown",
   "id": "e3f09a74-27b1-40ff-b2d7-d72ec502622d",
   "metadata": {},
   "source": [
    "<h1>Notes (parts 2.3–...)</h1>"
   ]
  },
  {
   "cell_type": "markdown",
   "id": "a8b4ea55-1256-46cf-9d44-7caefbf917e2",
   "metadata": {},
   "source": [
    "<h2>2.3 Dictionaries</h2>"
   ]
  },
  {
   "cell_type": "code",
   "execution_count": 1,
   "id": "604c7ba5-28be-4e4e-8ad1-10d7b07f6d5d",
   "metadata": {},
   "outputs": [
    {
     "data": {
      "text/plain": [
       "{'John': 29, 'Alex': 35, 'George': 45, 'Bert': 61, 'Tom': 25}"
      ]
     },
     "execution_count": 1,
     "metadata": {},
     "output_type": "execute_result"
    }
   ],
   "source": [
    "emp_age = {\n",
    "    'John': 29,\n",
    "    'Alex': 35,\n",
    "    'George': 45,\n",
    "    'Bert': 61,\n",
    "    'Tom': 25\n",
    "}\n",
    "\n",
    "emp_age"
   ]
  },
  {
   "cell_type": "code",
   "execution_count": 2,
   "id": "ab143aac-bf95-4e33-ae1b-b130a641a2c9",
   "metadata": {},
   "outputs": [
    {
     "data": {
      "text/plain": [
       "{1: 11, 2: 22, 3: 33}"
      ]
     },
     "execution_count": 2,
     "metadata": {},
     "output_type": "execute_result"
    }
   ],
   "source": [
    "ex_numbers = {\n",
    "    1: 11,\n",
    "    2: 22,\n",
    "    3: 33\n",
    "}\n",
    "\n",
    "ex_numbers"
   ]
  },
  {
   "cell_type": "code",
   "execution_count": 3,
   "id": "cfb26c08-fd2f-4022-8123-9bed57acbd6c",
   "metadata": {},
   "outputs": [
    {
     "data": {
      "text/plain": [
       "{1: 'A', 2: 'B', 3: 'C'}"
      ]
     },
     "execution_count": 3,
     "metadata": {},
     "output_type": "execute_result"
    }
   ],
   "source": [
    "ex_letters = {\n",
    "    1: 'A',\n",
    "    2: 'B',\n",
    "    3: 'C'\n",
    "}\n",
    "\n",
    "ex_letters"
   ]
  },
  {
   "cell_type": "code",
   "execution_count": 4,
   "id": "e4700c35-a829-426e-8f3a-e647754c90e6",
   "metadata": {},
   "outputs": [
    {
     "name": "stdout",
     "output_type": "stream",
     "text": [
      "{}\n"
     ]
    }
   ],
   "source": [
    "rus2eng = dict()\n",
    "\n",
    "print(rus2eng)"
   ]
  },
  {
   "cell_type": "code",
   "execution_count": 5,
   "id": "180d4e0c-36a1-48ba-ac00-e71576d7f0e6",
   "metadata": {},
   "outputs": [],
   "source": [
    "rus2eng['привет'] = 'hello'"
   ]
  },
  {
   "cell_type": "code",
   "execution_count": 6,
   "id": "10bc74d6-feb4-423b-a97d-ca2c540f8b47",
   "metadata": {},
   "outputs": [
    {
     "name": "stdout",
     "output_type": "stream",
     "text": [
      "hello\n"
     ]
    }
   ],
   "source": [
    "print(rus2eng['привет'])"
   ]
  },
  {
   "cell_type": "code",
   "execution_count": 7,
   "id": "136c1f45-fb2f-447a-8fbf-f6d9e142b6d7",
   "metadata": {},
   "outputs": [
    {
     "data": {
      "text/plain": [
       "{'привет': 'hello'}"
      ]
     },
     "execution_count": 7,
     "metadata": {},
     "output_type": "execute_result"
    }
   ],
   "source": [
    "rus2eng"
   ]
  },
  {
   "cell_type": "code",
   "execution_count": 8,
   "id": "036d6e82-1a0e-4822-ba9b-b9be3001829c",
   "metadata": {},
   "outputs": [],
   "source": [
    "ruswords = ['привет', 'как дела?', 'как тебя зовут?', 'сколько тебе лет?']\n",
    "engwords = ['hello', 'how are you?', 'what is your name?', 'how old are you?']\n",
    "\n",
    "ruseng = dict()"
   ]
  },
  {
   "cell_type": "code",
   "execution_count": 9,
   "id": "7bdac860-9097-4c12-a45f-7d6040690b26",
   "metadata": {},
   "outputs": [],
   "source": [
    "ruseng[ruswords[0]] = engwords[0]"
   ]
  },
  {
   "cell_type": "code",
   "execution_count": 10,
   "id": "43f7480c-d1d5-40d1-9ddb-5b648aab53c7",
   "metadata": {},
   "outputs": [
    {
     "data": {
      "text/plain": [
       "{'привет': 'hello'}"
      ]
     },
     "execution_count": 10,
     "metadata": {},
     "output_type": "execute_result"
    }
   ],
   "source": [
    "ruseng\n"
   ]
  },
  {
   "cell_type": "code",
   "execution_count": 11,
   "id": "13ff6cea-4b31-492c-a212-6d471f7506b2",
   "metadata": {},
   "outputs": [
    {
     "name": "stdout",
     "output_type": "stream",
     "text": [
      "{'привет': 'hello', 'как дела?': 'how are you?', 'как тебя зовут?': 'what is your name?', 'сколько тебе лет?': 'how old are you?'}\n"
     ]
    }
   ],
   "source": [
    "for rus, eng in zip(ruswords, engwords):\n",
    "    ruseng[rus] = eng\n",
    "    \n",
    "print(ruseng)"
   ]
  },
  {
   "cell_type": "code",
   "execution_count": 12,
   "id": "7face64e-e21a-451a-8ec6-9d95d6ab66a7",
   "metadata": {},
   "outputs": [
    {
     "name": "stdout",
     "output_type": "stream",
     "text": [
      "what is your name?\n"
     ]
    }
   ],
   "source": [
    "print(ruseng['как тебя зовут?'])"
   ]
  },
  {
   "cell_type": "code",
   "execution_count": 13,
   "id": "ccd93593-e83e-4e5f-99db-d208b8582bf8",
   "metadata": {},
   "outputs": [],
   "source": [
    "eng2 = [\n",
    "    'people',\n",
    "    'family',\n",
    "    'woman',\n",
    "    'man',\n",
    "    'girl',\n",
    "    'boy',\n",
    "    'child',\n",
    "    'friend',\n",
    "    'husband',\n",
    "    'wife',\n",
    "    'name',\n",
    "    'head',\n",
    "    'face',\n",
    "    'hand'\n",
    "]\n",
    "\n",
    "rus2 = [\n",
    "    'люди',\n",
    "    'семья',\n",
    "    'женщина',\n",
    "    'мужчина',\n",
    "    'девочка',\n",
    "    'мальчик',\n",
    "    'ребёнок',\n",
    "    'друг',\n",
    "    'муж',\n",
    "    'жена',\n",
    "    'имя',\n",
    "    'голова',\n",
    "    'лицо',\n",
    "    'рука'\n",
    "]\n",
    "\n",
    "engrus2 = {}"
   ]
  },
  {
   "cell_type": "code",
   "execution_count": 14,
   "id": "1386f924-3a0e-425c-b614-879ac0940a16",
   "metadata": {},
   "outputs": [
    {
     "name": "stdout",
     "output_type": "stream",
     "text": [
      "{'people': 'люди', 'family': 'семья', 'woman': 'женщина', 'man': 'мужчина', 'girl': 'девочка', 'boy': 'мальчик', 'child': 'ребёнок', 'friend': 'друг', 'husband': 'муж', 'wife': 'жена', 'name': 'имя', 'head': 'голова', 'face': 'лицо', 'hand': 'рука'}\n"
     ]
    }
   ],
   "source": [
    "for eng, rus in zip(eng2, rus2):\n",
    "    engrus2[eng] = rus\n",
    "\n",
    "print(engrus2)"
   ]
  },
  {
   "cell_type": "code",
   "execution_count": 15,
   "id": "c925978c-9e2e-4497-84f2-bb0349f0bd74",
   "metadata": {},
   "outputs": [
    {
     "name": "stdout",
     "output_type": "stream",
     "text": [
      "семья\n"
     ]
    }
   ],
   "source": [
    "print(engrus2['family'])"
   ]
  },
  {
   "cell_type": "code",
   "execution_count": 16,
   "id": "526ba2ca-b026-4887-969f-9d3a2f334dbd",
   "metadata": {},
   "outputs": [
    {
     "name": "stdout",
     "output_type": "stream",
     "text": [
      "LIST: a\n",
      "DICTIONARY: a\n",
      "FUNCTION: a\n"
     ]
    }
   ],
   "source": [
    "words = ['list', 'dictionary', 'function']\n",
    "\n",
    "for word in words:\n",
    "    print(f'{word.upper()}: a')"
   ]
  },
  {
   "cell_type": "code",
   "execution_count": 17,
   "id": "c4f1c4e9-7391-4cd8-bbc4-6f1e124fdd6d",
   "metadata": {},
   "outputs": [
    {
     "name": "stdout",
     "output_type": "stream",
     "text": [
      "LIST: a\n",
      "DICTIONARY: b\n",
      "FUNCTION: c\n"
     ]
    }
   ],
   "source": [
    "words2 = {'list': 'a', 'dictionary': 'b', 'function': 'c'}\n",
    "\n",
    "for word in words2:\n",
    "    print(f'{word.upper()}: {words2[word]}')"
   ]
  },
  {
   "cell_type": "code",
   "execution_count": 18,
   "id": "da3836ae-9e72-424e-a124-defdb88ebfaf",
   "metadata": {},
   "outputs": [
    {
     "name": "stdout",
     "output_type": "stream",
     "text": [
      "1. JAMES is 29 years old\n",
      "\n",
      "2. RON is 45 years old\n",
      "\n",
      "3. JOHN is 35 years old\n",
      "\n",
      "4. TOM is 34 years old\n",
      "\n",
      "5. ALEX is 23 years old\n",
      "\n"
     ]
    }
   ],
   "source": [
    "emp_age = {\n",
    "    'James': 29,\n",
    "    'Ron': 45,\n",
    "    'John': 35,\n",
    "    'Tom': 34,\n",
    "    'Alex': 23\n",
    "}\n",
    "\n",
    "for i, emp in enumerate(emp_age):\n",
    "    print(f'{i+1}. {emp.upper()} is {emp_age[emp]} years old\\n')"
   ]
  },
  {
   "cell_type": "code",
   "execution_count": 19,
   "id": "50ba7848-e4fb-4adc-96ef-2ea68c2788d7",
   "metadata": {},
   "outputs": [
    {
     "name": "stdout",
     "output_type": "stream",
     "text": [
      "Employee 1 is James.\n",
      "Employee 2 is Ron.\n",
      "Employee 3 is John.\n",
      "Employee 4 is Tom.\n",
      "\tTom's age is 34\n",
      "Employee 5 is Alex.\n"
     ]
    }
   ],
   "source": [
    "for i, emp in enumerate(emp_age):\n",
    "    print(f'Employee {i+1} is {emp}.')\n",
    "    if emp == 'Tom':\n",
    "        print(f\"\\tTom's age is {emp_age[emp]}\")"
   ]
  },
  {
   "cell_type": "code",
   "execution_count": 20,
   "id": "f8558324-4645-44d2-aab6-fc6175bc6c97",
   "metadata": {},
   "outputs": [
    {
     "name": "stdout",
     "output_type": "stream",
     "text": [
      "Employee 1 is James.\n",
      "\t(age 29)\n",
      "\n",
      "Employee 2 is Ron.\n",
      "\t(age 45)\n",
      "\n",
      "Employee 3 is John.\n",
      "\t(age 35)\n",
      "\n",
      "Employee 4 is Tom.\n",
      "\t(age 34)\n",
      "\n",
      "Employee 5 is Alex.\n",
      "\t(age 23)\n",
      "\n"
     ]
    }
   ],
   "source": [
    "for i, emp in enumerate(emp_age):\n",
    "    print(f'Employee {i+1} is {emp}.')\n",
    "    print(f'\\t(age {emp_age[emp]})\\n')"
   ]
  },
  {
   "cell_type": "code",
   "execution_count": 22,
   "id": "7e0f7abb-0919-4086-a240-7467de4c48c3",
   "metadata": {},
   "outputs": [
    {
     "name": "stdout",
     "output_type": "stream",
     "text": [
      "29\n",
      "45\n",
      "35\n",
      "34\n",
      "23\n"
     ]
    }
   ],
   "source": [
    "for age in emp_age.values():\n",
    "    print(age)"
   ]
  },
  {
   "cell_type": "code",
   "execution_count": 23,
   "id": "8a3b56b1-6dee-4df2-ae3a-35696f576aee",
   "metadata": {},
   "outputs": [
    {
     "data": {
      "text/plain": [
       "dict_values([29, 45, 35, 34, 23])"
      ]
     },
     "execution_count": 23,
     "metadata": {},
     "output_type": "execute_result"
    }
   ],
   "source": [
    "emp_age.values()"
   ]
  },
  {
   "cell_type": "code",
   "execution_count": 28,
   "id": "93ce4d88-62b1-45d4-8a7b-6348cf6d5edc",
   "metadata": {},
   "outputs": [
    {
     "data": {
      "text/plain": [
       "33.2"
      ]
     },
     "execution_count": 28,
     "metadata": {},
     "output_type": "execute_result"
    }
   ],
   "source": [
    "import statistics\n",
    "\n",
    "emp_age = {\n",
    "    'James': 29,\n",
    "    'Ron': 45,\n",
    "    'John': 35,\n",
    "    'Tom': 34,\n",
    "    'Alex': 23\n",
    "}\n",
    "\n",
    "av_age = statistics.mean(emp_age.values())\n",
    "av_age"
   ]
  },
  {
   "cell_type": "code",
   "execution_count": 30,
   "id": "80ffd5f5-ecb2-4652-bd33-b8a0f68b703f",
   "metadata": {},
   "outputs": [
    {
     "data": {
      "text/plain": [
       "38"
      ]
     },
     "execution_count": 30,
     "metadata": {},
     "output_type": "execute_result"
    }
   ],
   "source": [
    "list = [29, 32, 45, 42, 42]\n",
    "av_list_age = statistics.mean(list)\n",
    "av_list_age"
   ]
  },
  {
   "cell_type": "code",
   "execution_count": 31,
   "id": "419386bc-78b5-415f-92b7-ae484f3bc28d",
   "metadata": {},
   "outputs": [
    {
     "data": {
      "text/plain": [
       "{'James': 29, 'Ron': 45, 'John': 35, 'Tom': 34, 'Alex': 23}"
      ]
     },
     "execution_count": 31,
     "metadata": {},
     "output_type": "execute_result"
    }
   ],
   "source": [
    "emp_age"
   ]
  },
  {
   "cell_type": "code",
   "execution_count": 32,
   "id": "d6b0a94a-d873-4a1d-bcfb-7a3b824e7a2d",
   "metadata": {},
   "outputs": [
    {
     "data": {
      "text/plain": [
       "{'James': 29,\n",
       " 'Ron': 45,\n",
       " 'John': 35,\n",
       " 'Tom': 34,\n",
       " 'Alex': 23,\n",
       " 'Walter': 43,\n",
       " 'Louis': 58}"
      ]
     },
     "execution_count": 32,
     "metadata": {},
     "output_type": "execute_result"
    }
   ],
   "source": [
    "emp_age['Walter'] = 43\n",
    "emp_age['Louis'] = 58\n",
    "\n",
    "emp_age"
   ]
  },
  {
   "cell_type": "code",
   "execution_count": 33,
   "id": "0ab96ae9-e779-4c8c-813a-570f3a776243",
   "metadata": {},
   "outputs": [
    {
     "data": {
      "text/plain": [
       "{'James': 29,\n",
       " 'Ron': 45,\n",
       " 'John': 35,\n",
       " 'Tom': 34,\n",
       " 'Alex': 23,\n",
       " 'Walter': 53,\n",
       " 'Louis': 58}"
      ]
     },
     "execution_count": 33,
     "metadata": {},
     "output_type": "execute_result"
    }
   ],
   "source": [
    "emp_age['Walter'] = 53\n",
    "\n",
    "emp_age"
   ]
  },
  {
   "cell_type": "code",
   "execution_count": 38,
   "id": "b702275b-c264-4771-bd2f-eca4330dc1e5",
   "metadata": {},
   "outputs": [
    {
     "data": {
      "text/plain": [
       "{'James': 29,\n",
       " 'Ron': 45,\n",
       " 'John': 35,\n",
       " 'Tom': 34,\n",
       " 'Alex': 23,\n",
       " 'Walter': 53,\n",
       " 'Louis': 58,\n",
       " 'Walterius': 53}"
      ]
     },
     "execution_count": 38,
     "metadata": {},
     "output_type": "execute_result"
    }
   ],
   "source": [
    "emp_age['Walterius'] = emp_age['Walter']\n",
    "\n",
    "emp_age"
   ]
  },
  {
   "cell_type": "code",
   "execution_count": 39,
   "id": "c88684cb-d3b9-4a72-a4f0-0510e1b867b2",
   "metadata": {},
   "outputs": [
    {
     "data": {
      "text/plain": [
       "{'list': 'A collection of values that are not connected, but have an order.',\n",
       " 'dictionary': 'A collection of key-value pairs.',\n",
       " 'function': 'A named set of instructions that defines a set of actions in Python.'}"
      ]
     },
     "execution_count": 39,
     "metadata": {},
     "output_type": "execute_result"
    }
   ],
   "source": [
    "python_words = {\n",
    "    'list': 'A collection of values that are not connected, but have an order.',\n",
    "    'dictionary': 'A collection of key-value pairs.',\n",
    "    'function': 'A named set of instructions that defines a set of actions in Python.',\n",
    "}\n",
    "\n",
    "python_words"
   ]
  },
  {
   "cell_type": "code",
   "execution_count": 43,
   "id": "e13ab03a-aba1-4cc0-a647-b7bd57a377bd",
   "metadata": {},
   "outputs": [
    {
     "name": "stdout",
     "output_type": "stream",
     "text": [
      "Hello, my name is John and I am 30 years old.\n"
     ]
    }
   ],
   "source": [
    "name = 'John'\n",
    "age = 30\n",
    "\n",
    "greeting = 'Hello, my name is ' + name + ' and I am ' + str(age) + ' years old.'\n",
    "print(greeting)"
   ]
  },
  {
   "cell_type": "code",
   "execution_count": 41,
   "id": "3c8692ac-8dca-4272-9b4e-176df07cf0b5",
   "metadata": {},
   "outputs": [
    {
     "name": "stdout",
     "output_type": "stream",
     "text": [
      "Hello, my name is John and I am 30 years old.\n"
     ]
    }
   ],
   "source": [
    "name = 'John'\n",
    "age = 30\n",
    "\n",
    "greeting = f'Hello, my name is {name} and I am {age} years old.'\n",
    "print(greeting)"
   ]
  },
  {
   "cell_type": "code",
   "execution_count": 44,
   "id": "995ed17d-950c-4a0f-8985-53459431a103",
   "metadata": {},
   "outputs": [
    {
     "data": {
      "text/plain": [
       "{'James': 29,\n",
       " 'Ron': 45,\n",
       " 'John': 35,\n",
       " 'Tom': 34,\n",
       " 'Alex': 23,\n",
       " 'Walter': 53,\n",
       " 'Louis': 58,\n",
       " 'Walterius': 53}"
      ]
     },
     "execution_count": 44,
     "metadata": {},
     "output_type": "execute_result"
    }
   ],
   "source": [
    "emp_age"
   ]
  },
  {
   "cell_type": "code",
   "execution_count": 45,
   "id": "23280460-f6c6-46c4-8a82-86325b5ca6d8",
   "metadata": {},
   "outputs": [
    {
     "data": {
      "text/plain": [
       "{'James': 29,\n",
       " 'Ron': 45,\n",
       " 'John': 35,\n",
       " 'Tom': 34,\n",
       " 'Alex': 23,\n",
       " 'Walter': 53,\n",
       " 'Louis': 58}"
      ]
     },
     "execution_count": 45,
     "metadata": {},
     "output_type": "execute_result"
    }
   ],
   "source": [
    "walterius = emp_age.pop('Walterius')\n",
    "emp_age"
   ]
  },
  {
   "cell_type": "code",
   "execution_count": 46,
   "id": "875fa914-1afb-41d4-88cd-373f39f2f393",
   "metadata": {},
   "outputs": [
    {
     "data": {
      "text/plain": [
       "53"
      ]
     },
     "execution_count": 46,
     "metadata": {},
     "output_type": "execute_result"
    }
   ],
   "source": [
    "walterius"
   ]
  },
  {
   "cell_type": "code",
   "execution_count": 47,
   "id": "279b1338-937f-4b5f-8517-acbcfbd76075",
   "metadata": {},
   "outputs": [
    {
     "data": {
      "text/plain": [
       "{'James': 29,\n",
       " 'Ron': 45,\n",
       " 'John': 35,\n",
       " 'Tom': 34,\n",
       " 'Alex': 23,\n",
       " 'Walter': 53,\n",
       " 'Louis': 58}"
      ]
     },
     "execution_count": 47,
     "metadata": {},
     "output_type": "execute_result"
    }
   ],
   "source": [
    "emp_age"
   ]
  },
  {
   "cell_type": "code",
   "execution_count": 48,
   "id": "16892297-98a1-437b-990e-4ea1382363c7",
   "metadata": {},
   "outputs": [
    {
     "data": {
      "text/plain": [
       "{'James': 29, 'Ron': 45, 'John': 35, 'Tom': 34, 'Alex': 23, 'Walter': 53}"
      ]
     },
     "execution_count": 48,
     "metadata": {},
     "output_type": "execute_result"
    }
   ],
   "source": [
    "louis = emp_age.popitem()\n",
    "emp_age"
   ]
  },
  {
   "cell_type": "code",
   "execution_count": 49,
   "id": "8b362d4d-e01f-4f7d-a04e-8745c5f61b23",
   "metadata": {},
   "outputs": [
    {
     "data": {
      "text/plain": [
       "('Louis', 58)"
      ]
     },
     "execution_count": 49,
     "metadata": {},
     "output_type": "execute_result"
    }
   ],
   "source": [
    "louis"
   ]
  },
  {
   "cell_type": "code",
   "execution_count": 51,
   "id": "db48a0f5-7c6f-452a-9bd1-60ab90f3d209",
   "metadata": {},
   "outputs": [
    {
     "data": {
      "text/plain": [
       "{'Tom': [9, 9.5, 8.5, 9],\n",
       " 'Alex': [6, 5.5, 6.3, 7],\n",
       " 'Alice': [7, 7.3, 8, 6.1],\n",
       " 'John': [5.5, 7, 9, 5.7]}"
      ]
     },
     "execution_count": 51,
     "metadata": {},
     "output_type": "execute_result"
    }
   ],
   "source": [
    "student_scores = {\n",
    "    'Tom': [9, 9.5, 8.5, 9],\n",
    "    'Alex': [6, 5.5, 6.3, 7],\n",
    "    'Alice': [7, 7.3, 8, 6.1],\n",
    "    'John': [5.5, 7, 9, 5.7],\n",
    "}\n",
    "\n",
    "student_scores"
   ]
  },
  {
   "cell_type": "code",
   "execution_count": null,
   "id": "86d965d1-7e87-4921-b9a8-9c585c0b54b5",
   "metadata": {},
   "outputs": [],
   "source": []
  }
 ],
 "metadata": {
  "kernelspec": {
   "display_name": "Python 3 (ipykernel)",
   "language": "python",
   "name": "python3"
  },
  "language_info": {
   "codemirror_mode": {
    "name": "ipython",
    "version": 3
   },
   "file_extension": ".py",
   "mimetype": "text/x-python",
   "name": "python",
   "nbconvert_exporter": "python",
   "pygments_lexer": "ipython3",
   "version": "3.9.13"
  }
 },
 "nbformat": 4,
 "nbformat_minor": 5
}
