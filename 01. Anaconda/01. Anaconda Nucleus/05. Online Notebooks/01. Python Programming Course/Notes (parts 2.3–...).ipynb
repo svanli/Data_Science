{
 "cells": [
  {
   "cell_type": "markdown",
   "id": "e3f09a74-27b1-40ff-b2d7-d72ec502622d",
   "metadata": {},
   "source": [
    "<h1>Notes (parts 2.3–...)</h1>"
   ]
  },
  {
   "cell_type": "markdown",
   "id": "a8b4ea55-1256-46cf-9d44-7caefbf917e2",
   "metadata": {},
   "source": [
    "<h2>2.3 Dictionaries</h2>"
   ]
  },
  {
   "cell_type": "code",
   "execution_count": 1,
   "id": "604c7ba5-28be-4e4e-8ad1-10d7b07f6d5d",
   "metadata": {},
   "outputs": [
    {
     "data": {
      "text/plain": [
       "{'John': 29, 'Alex': 35, 'George': 45, 'Bert': 61, 'Tom': 25}"
      ]
     },
     "execution_count": 1,
     "metadata": {},
     "output_type": "execute_result"
    }
   ],
   "source": [
    "emp_age = {\n",
    "    'John': 29,\n",
    "    'Alex': 35,\n",
    "    'George': 45,\n",
    "    'Bert': 61,\n",
    "    'Tom': 25\n",
    "}\n",
    "\n",
    "emp_age"
   ]
  },
  {
   "cell_type": "code",
   "execution_count": 2,
   "id": "ab143aac-bf95-4e33-ae1b-b130a641a2c9",
   "metadata": {},
   "outputs": [
    {
     "data": {
      "text/plain": [
       "{1: 11, 2: 22, 3: 33}"
      ]
     },
     "execution_count": 2,
     "metadata": {},
     "output_type": "execute_result"
    }
   ],
   "source": [
    "ex_numbers = {\n",
    "    1: 11,\n",
    "    2: 22,\n",
    "    3: 33\n",
    "}\n",
    "\n",
    "ex_numbers"
   ]
  },
  {
   "cell_type": "code",
   "execution_count": 3,
   "id": "cfb26c08-fd2f-4022-8123-9bed57acbd6c",
   "metadata": {},
   "outputs": [
    {
     "data": {
      "text/plain": [
       "{1: 'A', 2: 'B', 3: 'C'}"
      ]
     },
     "execution_count": 3,
     "metadata": {},
     "output_type": "execute_result"
    }
   ],
   "source": [
    "ex_letters = {\n",
    "    1: 'A',\n",
    "    2: 'B',\n",
    "    3: 'C'\n",
    "}\n",
    "\n",
    "ex_letters"
   ]
  },
  {
   "cell_type": "code",
   "execution_count": 4,
   "id": "e4700c35-a829-426e-8f3a-e647754c90e6",
   "metadata": {},
   "outputs": [
    {
     "name": "stdout",
     "output_type": "stream",
     "text": [
      "{}\n"
     ]
    }
   ],
   "source": [
    "rus2eng = dict()\n",
    "\n",
    "print(rus2eng)"
   ]
  },
  {
   "cell_type": "code",
   "execution_count": 5,
   "id": "180d4e0c-36a1-48ba-ac00-e71576d7f0e6",
   "metadata": {},
   "outputs": [],
   "source": [
    "rus2eng['привет'] = 'hello'"
   ]
  },
  {
   "cell_type": "code",
   "execution_count": 6,
   "id": "10bc74d6-feb4-423b-a97d-ca2c540f8b47",
   "metadata": {},
   "outputs": [
    {
     "name": "stdout",
     "output_type": "stream",
     "text": [
      "hello\n"
     ]
    }
   ],
   "source": [
    "print(rus2eng['привет'])"
   ]
  },
  {
   "cell_type": "code",
   "execution_count": 7,
   "id": "136c1f45-fb2f-447a-8fbf-f6d9e142b6d7",
   "metadata": {},
   "outputs": [
    {
     "data": {
      "text/plain": [
       "{'привет': 'hello'}"
      ]
     },
     "execution_count": 7,
     "metadata": {},
     "output_type": "execute_result"
    }
   ],
   "source": [
    "rus2eng"
   ]
  },
  {
   "cell_type": "code",
   "execution_count": 8,
   "id": "036d6e82-1a0e-4822-ba9b-b9be3001829c",
   "metadata": {},
   "outputs": [],
   "source": [
    "ruswords = ['привет', 'как дела?', 'как тебя зовут?', 'сколько тебе лет?']\n",
    "engwords = ['hello', 'how are you?', 'what is your name?', 'how old are you?']\n",
    "\n",
    "ruseng = dict()"
   ]
  },
  {
   "cell_type": "code",
   "execution_count": 9,
   "id": "7bdac860-9097-4c12-a45f-7d6040690b26",
   "metadata": {},
   "outputs": [],
   "source": [
    "ruseng[ruswords[0]] = engwords[0]"
   ]
  },
  {
   "cell_type": "code",
   "execution_count": 10,
   "id": "43f7480c-d1d5-40d1-9ddb-5b648aab53c7",
   "metadata": {},
   "outputs": [
    {
     "data": {
      "text/plain": [
       "{'привет': 'hello'}"
      ]
     },
     "execution_count": 10,
     "metadata": {},
     "output_type": "execute_result"
    }
   ],
   "source": [
    "ruseng\n"
   ]
  },
  {
   "cell_type": "code",
   "execution_count": 11,
   "id": "13ff6cea-4b31-492c-a212-6d471f7506b2",
   "metadata": {},
   "outputs": [
    {
     "name": "stdout",
     "output_type": "stream",
     "text": [
      "{'привет': 'hello', 'как дела?': 'how are you?', 'как тебя зовут?': 'what is your name?', 'сколько тебе лет?': 'how old are you?'}\n"
     ]
    }
   ],
   "source": [
    "for rus, eng in zip(ruswords, engwords):\n",
    "    ruseng[rus] = eng\n",
    "    \n",
    "print(ruseng)"
   ]
  },
  {
   "cell_type": "code",
   "execution_count": 12,
   "id": "7face64e-e21a-451a-8ec6-9d95d6ab66a7",
   "metadata": {},
   "outputs": [
    {
     "name": "stdout",
     "output_type": "stream",
     "text": [
      "what is your name?\n"
     ]
    }
   ],
   "source": [
    "print(ruseng['как тебя зовут?'])"
   ]
  },
  {
   "cell_type": "code",
   "execution_count": 13,
   "id": "ccd93593-e83e-4e5f-99db-d208b8582bf8",
   "metadata": {},
   "outputs": [],
   "source": [
    "eng2 = [\n",
    "    'people',\n",
    "    'family',\n",
    "    'woman',\n",
    "    'man',\n",
    "    'girl',\n",
    "    'boy',\n",
    "    'child',\n",
    "    'friend',\n",
    "    'husband',\n",
    "    'wife',\n",
    "    'name',\n",
    "    'head',\n",
    "    'face',\n",
    "    'hand'\n",
    "]\n",
    "\n",
    "rus2 = [\n",
    "    'люди',\n",
    "    'семья',\n",
    "    'женщина',\n",
    "    'мужчина',\n",
    "    'девочка',\n",
    "    'мальчик',\n",
    "    'ребёнок',\n",
    "    'друг',\n",
    "    'муж',\n",
    "    'жена',\n",
    "    'имя',\n",
    "    'голова',\n",
    "    'лицо',\n",
    "    'рука'\n",
    "]\n",
    "\n",
    "engrus2 = {}"
   ]
  },
  {
   "cell_type": "code",
   "execution_count": 14,
   "id": "1386f924-3a0e-425c-b614-879ac0940a16",
   "metadata": {},
   "outputs": [
    {
     "name": "stdout",
     "output_type": "stream",
     "text": [
      "{'people': 'люди', 'family': 'семья', 'woman': 'женщина', 'man': 'мужчина', 'girl': 'девочка', 'boy': 'мальчик', 'child': 'ребёнок', 'friend': 'друг', 'husband': 'муж', 'wife': 'жена', 'name': 'имя', 'head': 'голова', 'face': 'лицо', 'hand': 'рука'}\n"
     ]
    }
   ],
   "source": [
    "for eng, rus in zip(eng2, rus2):\n",
    "    engrus2[eng] = rus\n",
    "\n",
    "print(engrus2)"
   ]
  },
  {
   "cell_type": "code",
   "execution_count": 15,
   "id": "c925978c-9e2e-4497-84f2-bb0349f0bd74",
   "metadata": {},
   "outputs": [
    {
     "name": "stdout",
     "output_type": "stream",
     "text": [
      "семья\n"
     ]
    }
   ],
   "source": [
    "print(engrus2['family'])"
   ]
  },
  {
   "cell_type": "code",
   "execution_count": 16,
   "id": "526ba2ca-b026-4887-969f-9d3a2f334dbd",
   "metadata": {},
   "outputs": [
    {
     "name": "stdout",
     "output_type": "stream",
     "text": [
      "LIST: a\n",
      "DICTIONARY: a\n",
      "FUNCTION: a\n"
     ]
    }
   ],
   "source": [
    "words = ['list', 'dictionary', 'function']\n",
    "\n",
    "for word in words:\n",
    "    print(f'{word.upper()}: a')"
   ]
  },
  {
   "cell_type": "code",
   "execution_count": 17,
   "id": "c4f1c4e9-7391-4cd8-bbc4-6f1e124fdd6d",
   "metadata": {},
   "outputs": [
    {
     "name": "stdout",
     "output_type": "stream",
     "text": [
      "LIST: a\n",
      "DICTIONARY: b\n",
      "FUNCTION: c\n"
     ]
    }
   ],
   "source": [
    "words2 = {'list': 'a', 'dictionary': 'b', 'function': 'c'}\n",
    "\n",
    "for word in words2:\n",
    "    print(f'{word.upper()}: {words2[word]}')"
   ]
  },
  {
   "cell_type": "code",
   "execution_count": 18,
   "id": "da3836ae-9e72-424e-a124-defdb88ebfaf",
   "metadata": {},
   "outputs": [
    {
     "name": "stdout",
     "output_type": "stream",
     "text": [
      "1. JAMES is 29 years old\n",
      "\n",
      "2. RON is 45 years old\n",
      "\n",
      "3. JOHN is 35 years old\n",
      "\n",
      "4. TOM is 34 years old\n",
      "\n",
      "5. ALEX is 23 years old\n",
      "\n"
     ]
    }
   ],
   "source": [
    "emp_age = {\n",
    "    'James': 29,\n",
    "    'Ron': 45,\n",
    "    'John': 35,\n",
    "    'Tom': 34,\n",
    "    'Alex': 23\n",
    "}\n",
    "\n",
    "for i, emp in enumerate(emp_age):\n",
    "    print(f'{i+1}. {emp.upper()} is {emp_age[emp]} years old\\n')"
   ]
  },
  {
   "cell_type": "code",
   "execution_count": 19,
   "id": "50ba7848-e4fb-4adc-96ef-2ea68c2788d7",
   "metadata": {},
   "outputs": [
    {
     "name": "stdout",
     "output_type": "stream",
     "text": [
      "Employee 1 is James.\n",
      "Employee 2 is Ron.\n",
      "Employee 3 is John.\n",
      "Employee 4 is Tom.\n",
      "\tTom's age is 34\n",
      "Employee 5 is Alex.\n"
     ]
    }
   ],
   "source": [
    "for i, emp in enumerate(emp_age):\n",
    "    print(f'Employee {i+1} is {emp}.')\n",
    "    if emp == 'Tom':\n",
    "        print(f\"\\tTom's age is {emp_age[emp]}\")"
   ]
  },
  {
   "cell_type": "code",
   "execution_count": 20,
   "id": "f8558324-4645-44d2-aab6-fc6175bc6c97",
   "metadata": {},
   "outputs": [
    {
     "name": "stdout",
     "output_type": "stream",
     "text": [
      "Employee 1 is James.\n",
      "\t(age 29)\n",
      "\n",
      "Employee 2 is Ron.\n",
      "\t(age 45)\n",
      "\n",
      "Employee 3 is John.\n",
      "\t(age 35)\n",
      "\n",
      "Employee 4 is Tom.\n",
      "\t(age 34)\n",
      "\n",
      "Employee 5 is Alex.\n",
      "\t(age 23)\n",
      "\n"
     ]
    }
   ],
   "source": [
    "for i, emp in enumerate(emp_age):\n",
    "    print(f'Employee {i+1} is {emp}.')\n",
    "    print(f'\\t(age {emp_age[emp]})\\n')"
   ]
  },
  {
   "cell_type": "code",
   "execution_count": 21,
   "id": "7e0f7abb-0919-4086-a240-7467de4c48c3",
   "metadata": {},
   "outputs": [
    {
     "name": "stdout",
     "output_type": "stream",
     "text": [
      "29\n",
      "45\n",
      "35\n",
      "34\n",
      "23\n"
     ]
    }
   ],
   "source": [
    "for age in emp_age.values():\n",
    "    print(age)"
   ]
  },
  {
   "cell_type": "code",
   "execution_count": 22,
   "id": "8a3b56b1-6dee-4df2-ae3a-35696f576aee",
   "metadata": {},
   "outputs": [
    {
     "data": {
      "text/plain": [
       "dict_values([29, 45, 35, 34, 23])"
      ]
     },
     "execution_count": 22,
     "metadata": {},
     "output_type": "execute_result"
    }
   ],
   "source": [
    "emp_age.values()"
   ]
  },
  {
   "cell_type": "code",
   "execution_count": 23,
   "id": "93ce4d88-62b1-45d4-8a7b-6348cf6d5edc",
   "metadata": {},
   "outputs": [
    {
     "data": {
      "text/plain": [
       "33.2"
      ]
     },
     "execution_count": 23,
     "metadata": {},
     "output_type": "execute_result"
    }
   ],
   "source": [
    "import statistics\n",
    "\n",
    "emp_age = {\n",
    "    'James': 29,\n",
    "    'Ron': 45,\n",
    "    'John': 35,\n",
    "    'Tom': 34,\n",
    "    'Alex': 23\n",
    "}\n",
    "\n",
    "av_age = statistics.mean(emp_age.values())\n",
    "av_age"
   ]
  },
  {
   "cell_type": "code",
   "execution_count": 24,
   "id": "80ffd5f5-ecb2-4652-bd33-b8a0f68b703f",
   "metadata": {},
   "outputs": [
    {
     "data": {
      "text/plain": [
       "38"
      ]
     },
     "execution_count": 24,
     "metadata": {},
     "output_type": "execute_result"
    }
   ],
   "source": [
    "list = [29, 32, 45, 42, 42]\n",
    "av_list_age = statistics.mean(list)\n",
    "av_list_age"
   ]
  },
  {
   "cell_type": "code",
   "execution_count": 25,
   "id": "419386bc-78b5-415f-92b7-ae484f3bc28d",
   "metadata": {},
   "outputs": [
    {
     "data": {
      "text/plain": [
       "{'James': 29, 'Ron': 45, 'John': 35, 'Tom': 34, 'Alex': 23}"
      ]
     },
     "execution_count": 25,
     "metadata": {},
     "output_type": "execute_result"
    }
   ],
   "source": [
    "emp_age"
   ]
  },
  {
   "cell_type": "code",
   "execution_count": 26,
   "id": "d6b0a94a-d873-4a1d-bcfb-7a3b824e7a2d",
   "metadata": {},
   "outputs": [
    {
     "data": {
      "text/plain": [
       "{'James': 29,\n",
       " 'Ron': 45,\n",
       " 'John': 35,\n",
       " 'Tom': 34,\n",
       " 'Alex': 23,\n",
       " 'Walter': 43,\n",
       " 'Louis': 58}"
      ]
     },
     "execution_count": 26,
     "metadata": {},
     "output_type": "execute_result"
    }
   ],
   "source": [
    "emp_age['Walter'] = 43\n",
    "emp_age['Louis'] = 58\n",
    "\n",
    "emp_age"
   ]
  },
  {
   "cell_type": "code",
   "execution_count": 27,
   "id": "0ab96ae9-e779-4c8c-813a-570f3a776243",
   "metadata": {},
   "outputs": [
    {
     "data": {
      "text/plain": [
       "{'James': 29,\n",
       " 'Ron': 45,\n",
       " 'John': 35,\n",
       " 'Tom': 34,\n",
       " 'Alex': 23,\n",
       " 'Walter': 53,\n",
       " 'Louis': 58}"
      ]
     },
     "execution_count": 27,
     "metadata": {},
     "output_type": "execute_result"
    }
   ],
   "source": [
    "emp_age['Walter'] = 53\n",
    "\n",
    "emp_age"
   ]
  },
  {
   "cell_type": "code",
   "execution_count": 28,
   "id": "b702275b-c264-4771-bd2f-eca4330dc1e5",
   "metadata": {},
   "outputs": [
    {
     "data": {
      "text/plain": [
       "{'James': 29,\n",
       " 'Ron': 45,\n",
       " 'John': 35,\n",
       " 'Tom': 34,\n",
       " 'Alex': 23,\n",
       " 'Walter': 53,\n",
       " 'Louis': 58,\n",
       " 'Walterius': 53}"
      ]
     },
     "execution_count": 28,
     "metadata": {},
     "output_type": "execute_result"
    }
   ],
   "source": [
    "emp_age['Walterius'] = emp_age['Walter']\n",
    "\n",
    "emp_age"
   ]
  },
  {
   "cell_type": "code",
   "execution_count": 29,
   "id": "c88684cb-d3b9-4a72-a4f0-0510e1b867b2",
   "metadata": {},
   "outputs": [
    {
     "data": {
      "text/plain": [
       "{'list': 'A collection of values that are not connected, but have an order.',\n",
       " 'dictionary': 'A collection of key-value pairs.',\n",
       " 'function': 'A named set of instructions that defines a set of actions in Python.'}"
      ]
     },
     "execution_count": 29,
     "metadata": {},
     "output_type": "execute_result"
    }
   ],
   "source": [
    "python_words = {\n",
    "    'list': 'A collection of values that are not connected, but have an order.',\n",
    "    'dictionary': 'A collection of key-value pairs.',\n",
    "    'function': 'A named set of instructions that defines a set of actions in Python.',\n",
    "}\n",
    "\n",
    "python_words"
   ]
  },
  {
   "cell_type": "code",
   "execution_count": 30,
   "id": "e13ab03a-aba1-4cc0-a647-b7bd57a377bd",
   "metadata": {},
   "outputs": [
    {
     "name": "stdout",
     "output_type": "stream",
     "text": [
      "Hello, my name is John and I am 30 years old.\n"
     ]
    }
   ],
   "source": [
    "name = 'John'\n",
    "age = 30\n",
    "\n",
    "greeting = 'Hello, my name is ' + name + ' and I am ' + str(age) + ' years old.'\n",
    "print(greeting)"
   ]
  },
  {
   "cell_type": "code",
   "execution_count": 31,
   "id": "3c8692ac-8dca-4272-9b4e-176df07cf0b5",
   "metadata": {},
   "outputs": [
    {
     "name": "stdout",
     "output_type": "stream",
     "text": [
      "Hello, my name is John and I am 30 years old.\n"
     ]
    }
   ],
   "source": [
    "name = 'John'\n",
    "age = 30\n",
    "\n",
    "greeting = f'Hello, my name is {name} and I am {age} years old.'\n",
    "print(greeting)"
   ]
  },
  {
   "cell_type": "code",
   "execution_count": 32,
   "id": "995ed17d-950c-4a0f-8985-53459431a103",
   "metadata": {},
   "outputs": [
    {
     "data": {
      "text/plain": [
       "{'James': 29,\n",
       " 'Ron': 45,\n",
       " 'John': 35,\n",
       " 'Tom': 34,\n",
       " 'Alex': 23,\n",
       " 'Walter': 53,\n",
       " 'Louis': 58,\n",
       " 'Walterius': 53}"
      ]
     },
     "execution_count": 32,
     "metadata": {},
     "output_type": "execute_result"
    }
   ],
   "source": [
    "emp_age"
   ]
  },
  {
   "cell_type": "code",
   "execution_count": 33,
   "id": "23280460-f6c6-46c4-8a82-86325b5ca6d8",
   "metadata": {},
   "outputs": [
    {
     "data": {
      "text/plain": [
       "{'James': 29,\n",
       " 'Ron': 45,\n",
       " 'John': 35,\n",
       " 'Tom': 34,\n",
       " 'Alex': 23,\n",
       " 'Walter': 53,\n",
       " 'Louis': 58}"
      ]
     },
     "execution_count": 33,
     "metadata": {},
     "output_type": "execute_result"
    }
   ],
   "source": [
    "walterius = emp_age.pop('Walterius')\n",
    "emp_age"
   ]
  },
  {
   "cell_type": "code",
   "execution_count": 34,
   "id": "875fa914-1afb-41d4-88cd-373f39f2f393",
   "metadata": {},
   "outputs": [
    {
     "data": {
      "text/plain": [
       "53"
      ]
     },
     "execution_count": 34,
     "metadata": {},
     "output_type": "execute_result"
    }
   ],
   "source": [
    "walterius"
   ]
  },
  {
   "cell_type": "code",
   "execution_count": 35,
   "id": "279b1338-937f-4b5f-8517-acbcfbd76075",
   "metadata": {},
   "outputs": [
    {
     "data": {
      "text/plain": [
       "{'James': 29,\n",
       " 'Ron': 45,\n",
       " 'John': 35,\n",
       " 'Tom': 34,\n",
       " 'Alex': 23,\n",
       " 'Walter': 53,\n",
       " 'Louis': 58}"
      ]
     },
     "execution_count": 35,
     "metadata": {},
     "output_type": "execute_result"
    }
   ],
   "source": [
    "emp_age"
   ]
  },
  {
   "cell_type": "code",
   "execution_count": 36,
   "id": "16892297-98a1-437b-990e-4ea1382363c7",
   "metadata": {},
   "outputs": [
    {
     "data": {
      "text/plain": [
       "{'James': 29, 'Ron': 45, 'John': 35, 'Tom': 34, 'Alex': 23, 'Walter': 53}"
      ]
     },
     "execution_count": 36,
     "metadata": {},
     "output_type": "execute_result"
    }
   ],
   "source": [
    "louis = emp_age.popitem()\n",
    "emp_age"
   ]
  },
  {
   "cell_type": "code",
   "execution_count": 37,
   "id": "8b362d4d-e01f-4f7d-a04e-8745c5f61b23",
   "metadata": {},
   "outputs": [
    {
     "data": {
      "text/plain": [
       "('Louis', 58)"
      ]
     },
     "execution_count": 37,
     "metadata": {},
     "output_type": "execute_result"
    }
   ],
   "source": [
    "louis"
   ]
  },
  {
   "cell_type": "code",
   "execution_count": 38,
   "id": "db48a0f5-7c6f-452a-9bd1-60ab90f3d209",
   "metadata": {},
   "outputs": [
    {
     "data": {
      "text/plain": [
       "{'Tom': [9, 9.5, 8.5, 9],\n",
       " 'Alex': [6, 5.5, 6.3, 7],\n",
       " 'Alice': [7, 7.3, 8, 6.1],\n",
       " 'John': [5.5, 7, 9, 5.7]}"
      ]
     },
     "execution_count": 38,
     "metadata": {},
     "output_type": "execute_result"
    }
   ],
   "source": [
    "student_scores = {\n",
    "    'Tom': [9, 9.5, 8.5, 9],\n",
    "    'Alex': [6, 5.5, 6.3, 7],\n",
    "    'Alice': [7, 7.3, 8, 6.1],\n",
    "    'John': [5.5, 7, 9, 5.7],\n",
    "}\n",
    "\n",
    "student_scores"
   ]
  },
  {
   "cell_type": "code",
   "execution_count": 39,
   "id": "86d965d1-7e87-4921-b9a8-9c585c0b54b5",
   "metadata": {},
   "outputs": [
    {
     "name": "stdout",
     "output_type": "stream",
     "text": [
      "\n",
      "Tom's score is:\n",
      "9\n",
      "9.5\n",
      "8.5\n",
      "9\n",
      "\n",
      "Alex's score is:\n",
      "6\n",
      "5.5\n",
      "6.3\n",
      "7\n",
      "\n",
      "Alice's score is:\n",
      "7\n",
      "7.3\n",
      "8\n",
      "6.1\n",
      "\n",
      "John's score is:\n",
      "5.5\n",
      "7\n",
      "9\n",
      "5.7\n"
     ]
    }
   ],
   "source": [
    "for student in student_scores:\n",
    "    print(\"\\n%s's score is:\" % student.title())\n",
    "    latest_student_scores = student_scores[student]\n",
    "    for student_score in latest_student_scores:\n",
    "        print(student_score)"
   ]
  },
  {
   "cell_type": "code",
   "execution_count": 40,
   "id": "d6293e19-cbfc-4d55-ab07-4d91a8f66566",
   "metadata": {},
   "outputs": [
    {
     "name": "stdout",
     "output_type": "stream",
     "text": [
      "\n",
      "Tom's score is:\n",
      "9\n",
      "9.5\n",
      "8.5\n",
      "9\n",
      "\n",
      "Alex's score is:\n",
      "6\n",
      "5.5\n",
      "6.3\n",
      "7\n",
      "\n",
      "Alice's score is:\n",
      "7\n",
      "7.3\n",
      "8\n",
      "6.1\n",
      "\n",
      "John's score is:\n",
      "5.5\n",
      "7\n",
      "9\n",
      "5.7\n"
     ]
    }
   ],
   "source": [
    "for student in student_scores:\n",
    "    print(f\"\\n{student.title()}'s score is:\")\n",
    "    latest_student_scores = student_scores[student]\n",
    "    for student_score in latest_student_scores:\n",
    "        print(student_score)"
   ]
  },
  {
   "cell_type": "code",
   "execution_count": 41,
   "id": "bfd57675-bbc8-4f87-83ac-99a97d2ae54c",
   "metadata": {},
   "outputs": [
    {
     "data": {
      "text/plain": [
       "[9, 9.5, 8.5, 9]"
      ]
     },
     "execution_count": 41,
     "metadata": {},
     "output_type": "execute_result"
    }
   ],
   "source": [
    "student_scores['Tom']"
   ]
  },
  {
   "cell_type": "code",
   "execution_count": 42,
   "id": "576f82a0-eedf-4175-9772-54ea9b5cc90c",
   "metadata": {},
   "outputs": [
    {
     "data": {
      "text/plain": [
       "{'Пушкин А. С.': ['Капитанская дочка',\n",
       "  'Борис Годунов',\n",
       "  'Евгений Онегин',\n",
       "  'Маленькие трагедии'],\n",
       " 'Лермонтов М. Ю.': ['Герой нашего времени', 'Мцыри', 'Бородино'],\n",
       " 'Тургенев И. С.': ['Отцы и дети', 'Муму', 'Ася', 'Записки охотника'],\n",
       " 'Чехов А. П.': ['Вишнёвый сад', 'Чайка', 'Дядя Ваня']}"
      ]
     },
     "execution_count": 42,
     "metadata": {},
     "output_type": "execute_result"
    }
   ],
   "source": [
    "writers_list = {\n",
    "    'Пушкин А. С.': ['Капитанская дочка', 'Борис Годунов', 'Евгений Онегин', 'Маленькие трагедии'],\n",
    "    'Лермонтов М. Ю.': ['Герой нашего времени', 'Мцыри', 'Бородино'],\n",
    "    'Тургенев И. С.': ['Отцы и дети', 'Муму', 'Ася', 'Записки охотника'],\n",
    "    'Чехов А. П.': ['Вишнёвый сад', 'Чайка', 'Дядя Ваня'],\n",
    "}\n",
    "\n",
    "writers_list"
   ]
  },
  {
   "cell_type": "code",
   "execution_count": 43,
   "id": "c8d5e321-67f1-44c0-9f26-007c1782137f",
   "metadata": {},
   "outputs": [
    {
     "name": "stdout",
     "output_type": "stream",
     "text": [
      "\n",
      "Пушкин А. С. написал:\n",
      " - Капитанская дочка\n",
      " - Борис Годунов\n",
      " - Евгений Онегин\n",
      " - Маленькие трагедии\n",
      "\n",
      "Лермонтов М. Ю. написал:\n",
      " - Герой нашего времени\n",
      " - Мцыри\n",
      " - Бородино\n",
      "\n",
      "Тургенев И. С. написал:\n",
      " - Отцы и дети\n",
      " - Муму\n",
      " - Ася\n",
      " - Записки охотника\n",
      "\n",
      "Чехов А. П. написал:\n",
      " - Вишнёвый сад\n",
      " - Чайка\n",
      " - Дядя Ваня\n"
     ]
    }
   ],
   "source": [
    "for writer in writers_list:\n",
    "    print(f'\\n{writer} написал:')\n",
    "    \n",
    "    per_writer = writers_list[writer]\n",
    "    \n",
    "    for book in per_writer:\n",
    "        print(f' - {book}')"
   ]
  },
  {
   "cell_type": "code",
   "execution_count": 44,
   "id": "6bd2bf86-94a9-4a57-8d24-0ff36eda154d",
   "metadata": {},
   "outputs": [
    {
     "name": "stdout",
     "output_type": "stream",
     "text": [
      "\n",
      "Пушкин А. С. написал:\n",
      " - Капитанская дочка\n",
      " - Борис Годунов\n",
      " - Евгений Онегин\n",
      " - Маленькие трагедии\n",
      "\n",
      "Лермонтов М. Ю. написал:\n",
      " - Герой нашего времени\n",
      " - Мцыри\n",
      " - Бородино\n",
      "\n",
      "Тургенев И. С. написал:\n",
      " - Отцы и дети\n",
      " - Муму\n",
      " - Ася\n",
      " - Записки охотника\n",
      "\n",
      "Чехов А. П. написал:\n",
      " - Вишнёвый сад\n",
      " - Чайка\n",
      " - Дядя Ваня\n"
     ]
    }
   ],
   "source": [
    "for writer in writers_list:\n",
    "    print('\\n%s написал:' % writer.title())\n",
    "    \n",
    "    books_writers_list = writers_list[writer]\n",
    "    \n",
    "    for book in books_writers_list:\n",
    "        print(f' - {book}')"
   ]
  },
  {
   "cell_type": "code",
   "execution_count": 45,
   "id": "09aeb2a8-820b-4bcb-98e7-a48940396bfd",
   "metadata": {},
   "outputs": [],
   "source": [
    "def create_matrix_list(n, m):\n",
    "    # create a list of n lists, each of length m filled with 0's\n",
    "    matrix = [[0 for j in range(m)] for i in range(n)]\n",
    "    return matrix"
   ]
  },
  {
   "cell_type": "code",
   "execution_count": 46,
   "id": "5386dc7b-e4d5-403f-8e0f-dc4bc46ecbe6",
   "metadata": {},
   "outputs": [],
   "source": [
    "def create_matrix_dict(n, m):\n",
    "    # create a dictionary of dictionaries, with each element initialized to 0\n",
    "    matrix = {(i,j): 0 for i in range(n) for j in range(m)}\n",
    "    return matrix"
   ]
  },
  {
   "cell_type": "code",
   "execution_count": 47,
   "id": "32fcaaa4-2c6f-414d-a790-930c7138addf",
   "metadata": {},
   "outputs": [
    {
     "name": "stdout",
     "output_type": "stream",
     "text": [
      "[[0, 0, 0, 0], [0, 0, 0, 0], [0, 0, 0, 0]]\n",
      "{(0, 0): 0, (0, 1): 0, (0, 2): 0, (0, 3): 0, (1, 0): 0, (1, 1): 0, (1, 2): 0, (1, 3): 0, (2, 0): 0, (2, 1): 0, (2, 2): 0, (2, 3): 0}\n"
     ]
    }
   ],
   "source": [
    "# create a 3-by-4 matrix using lists\n",
    "matrix_list = create_matrix_list(3, 4)\n",
    "print(matrix_list)\n",
    "\n",
    "# create a 3-by-4 matrix using dictionaries\n",
    "matrix_dict = create_matrix_dict(3, 4)\n",
    "print(matrix_dict)"
   ]
  },
  {
   "cell_type": "code",
   "execution_count": 48,
   "id": "378e88be-b3e4-48c9-8909-ee5472ba76cc",
   "metadata": {},
   "outputs": [],
   "source": [
    "def create_sparse_matrix_lists(N, M):\n",
    "    \"\"\"\n",
    "    Creates a sparse matrix using lists.\n",
    "\n",
    "    Args:\n",
    "    - N (int): number of rows\n",
    "    - M (int): number of columns\n",
    "\n",
    "    Returns:\n",
    "    - matrix (list of lists): the sparse matrix\n",
    "    \"\"\"\n",
    "    matrix = []\n",
    "    for i in range(N):\n",
    "        row = []\n",
    "        for j in range(M):\n",
    "            row.append(None)\n",
    "        matrix.append(row)\n",
    "    return matrix"
   ]
  },
  {
   "cell_type": "code",
   "execution_count": 49,
   "id": "af00a210-32ee-449e-8b58-2d1f6f2ea3df",
   "metadata": {},
   "outputs": [],
   "source": [
    "def create_sparse_matrix_dict(N, M):\n",
    "    \"\"\"\n",
    "    Creates a sparse matrix using dictionaries.\n",
    "\n",
    "    Args:\n",
    "    - N (int): number of rows\n",
    "    - M (int): number of columns\n",
    "\n",
    "    Returns:\n",
    "    - matrix (dictionary of dictionaries): the sparse matrix\n",
    "    \"\"\"\n",
    "    matrix = {}\n",
    "    for i in range(N):\n",
    "        matrix[i] = {}\n",
    "        for j in range(M):\n",
    "            matrix[i][j] = None\n",
    "    return matrix"
   ]
  },
  {
   "cell_type": "code",
   "execution_count": 50,
   "id": "5e13520f-6d0c-4000-be61-f91be534463f",
   "metadata": {},
   "outputs": [
    {
     "data": {
      "text/plain": [
       "[[None, None, None, None, None],\n",
       " [None, None, None, None, None],\n",
       " [None, None, None, None, None],\n",
       " [None, None, None, None, None]]"
      ]
     },
     "execution_count": 50,
     "metadata": {},
     "output_type": "execute_result"
    }
   ],
   "source": [
    "create_sparse_matrix_lists(4, 5)"
   ]
  },
  {
   "cell_type": "code",
   "execution_count": 51,
   "id": "c97523cd-24cc-4d09-94aa-c9927db77231",
   "metadata": {},
   "outputs": [
    {
     "data": {
      "text/plain": [
       "{0: {0: None, 1: None, 2: None, 3: None, 4: None},\n",
       " 1: {0: None, 1: None, 2: None, 3: None, 4: None},\n",
       " 2: {0: None, 1: None, 2: None, 3: None, 4: None},\n",
       " 3: {0: None, 1: None, 2: None, 3: None, 4: None}}"
      ]
     },
     "execution_count": 51,
     "metadata": {},
     "output_type": "execute_result"
    }
   ],
   "source": [
    "create_sparse_matrix_dict(4, 5)"
   ]
  },
  {
   "cell_type": "code",
   "execution_count": 52,
   "id": "0f560956-3deb-479b-a37d-37f256a340e4",
   "metadata": {},
   "outputs": [],
   "source": [
    "def countdown(n): \n",
    "    if n <= 0:\n",
    "        print('Blastoff!')\n",
    "    else:\n",
    "        print(n)\n",
    "        countdown(n-1)"
   ]
  },
  {
   "cell_type": "code",
   "execution_count": 53,
   "id": "5261f646-6574-420e-94e4-6cb0385f5173",
   "metadata": {},
   "outputs": [
    {
     "name": "stdout",
     "output_type": "stream",
     "text": [
      "2\n",
      "1\n",
      "Blastoff!\n"
     ]
    }
   ],
   "source": [
    "countdown(2)"
   ]
  },
  {
   "cell_type": "code",
   "execution_count": 54,
   "id": "582f2d28-2513-4582-bd85-d0526a8f266a",
   "metadata": {},
   "outputs": [
    {
     "name": "stdout",
     "output_type": "stream",
     "text": [
      "Blastoff!\n"
     ]
    }
   ],
   "source": [
    "countdown(-1)"
   ]
  },
  {
   "cell_type": "code",
   "execution_count": 55,
   "id": "a1becccf-b98f-44b0-be0e-b641c094867f",
   "metadata": {},
   "outputs": [
    {
     "name": "stdout",
     "output_type": "stream",
     "text": [
      "Blastoff!\n"
     ]
    }
   ],
   "source": [
    "countdown(0)"
   ]
  },
  {
   "cell_type": "code",
   "execution_count": 56,
   "id": "5b1ae649-cac9-4f6a-8519-f610f25d46b2",
   "metadata": {},
   "outputs": [],
   "source": [
    "def fibonacci (n): \n",
    "    if n == 0:\n",
    "        return 0 \n",
    "    elif n == 1:\n",
    "        return 1 \n",
    "    else:\n",
    "        return fibonacci(n - 1) + fibonacci(n - 2)"
   ]
  },
  {
   "cell_type": "code",
   "execution_count": 57,
   "id": "d04036c6-d17b-4954-a894-e47b03620bee",
   "metadata": {},
   "outputs": [
    {
     "data": {
      "text/plain": [
       "1"
      ]
     },
     "execution_count": 57,
     "metadata": {},
     "output_type": "execute_result"
    }
   ],
   "source": [
    "fibonacci(2)"
   ]
  },
  {
   "cell_type": "code",
   "execution_count": 58,
   "id": "2ea6a34f-afe7-4f7c-aa4a-f7fe515689d3",
   "metadata": {},
   "outputs": [
    {
     "data": {
      "text/plain": [
       "5"
      ]
     },
     "execution_count": 58,
     "metadata": {},
     "output_type": "execute_result"
    }
   ],
   "source": [
    "fibonacci(5)"
   ]
  },
  {
   "cell_type": "code",
   "execution_count": 59,
   "id": "77b8e452-f86a-47a9-abbb-b17f437ce736",
   "metadata": {},
   "outputs": [
    {
     "data": {
      "text/plain": [
       "55"
      ]
     },
     "execution_count": 59,
     "metadata": {},
     "output_type": "execute_result"
    }
   ],
   "source": [
    "fibonacci(10)"
   ]
  },
  {
   "cell_type": "code",
   "execution_count": 60,
   "id": "2c68f3f9-bbde-4cc9-ab01-03817fcd34c5",
   "metadata": {},
   "outputs": [],
   "source": [
    "def fibonacci(n, memo={}):\n",
    "    if n in memo:\n",
    "        return memo[n]\n",
    "    elif n == 0:\n",
    "        memo[0] = 0\n",
    "        return 0\n",
    "    elif n == 1:\n",
    "        memo[1] = 1\n",
    "        return 1\n",
    "    else:\n",
    "        result = fibonacci(n-1, memo) + fibonacci(n-2, memo)\n",
    "        memo[n] = result\n",
    "        return result"
   ]
  },
  {
   "cell_type": "markdown",
   "id": "2c899e44-011d-488a-8546-7b60506cbdc9",
   "metadata": {},
   "source": [
    "<h2>2.4 Iterables, iterators and generators</h2>"
   ]
  },
  {
   "cell_type": "code",
   "execution_count": 61,
   "id": "b8727960-ab88-4a3a-8dda-3df34f9a52be",
   "metadata": {},
   "outputs": [
    {
     "data": {
      "text/plain": [
       "['a', 'b', 'c']"
      ]
     },
     "execution_count": 61,
     "metadata": {},
     "output_type": "execute_result"
    }
   ],
   "source": [
    "['a', 'b', 'c']"
   ]
  },
  {
   "cell_type": "code",
   "execution_count": 63,
   "id": "955e2d14-7943-40b7-b7ca-839df0a8abab",
   "metadata": {},
   "outputs": [
    {
     "data": {
      "text/plain": [
       "'a b c'"
      ]
     },
     "execution_count": 63,
     "metadata": {},
     "output_type": "execute_result"
    }
   ],
   "source": [
    "' '.join(['a', 'b', 'c'])"
   ]
  },
  {
   "cell_type": "code",
   "execution_count": 65,
   "id": "3adfe7ea-3d35-4543-835a-35e296ca6fad",
   "metadata": {},
   "outputs": [
    {
     "name": "stdout",
     "output_type": "stream",
     "text": [
      "1\n",
      "2\n",
      "3\n"
     ]
    }
   ],
   "source": [
    "for thing in '123':\n",
    "    print(thing)"
   ]
  },
  {
   "cell_type": "code",
   "execution_count": 66,
   "id": "0c82b88d-955c-48ab-bd2c-93f6e9a033e2",
   "metadata": {},
   "outputs": [
    {
     "name": "stdout",
     "output_type": "stream",
     "text": [
      "0\n",
      "2\n",
      "4\n",
      "6\n",
      "8\n",
      "10\n"
     ]
    }
   ],
   "source": [
    "# Print all even numbers between 0 and 10 using range() with step of 2\n",
    "for i in range(0, 11, 2):\n",
    "    print(i)"
   ]
  },
  {
   "cell_type": "code",
   "execution_count": 6,
   "id": "86d9c4cb-db92-4ae7-aa07-730f9150d452",
   "metadata": {},
   "outputs": [
    {
     "data": {
      "text/plain": [
       "range(0, 21, 3)"
      ]
     },
     "execution_count": 6,
     "metadata": {},
     "output_type": "execute_result"
    }
   ],
   "source": [
    "range2 = range(0, 21, 3)\n",
    "range2"
   ]
  },
  {
   "cell_type": "code",
   "execution_count": 13,
   "id": "f8e5fdc1-0377-4012-914f-65f1ef031d10",
   "metadata": {},
   "outputs": [
    {
     "name": "stdout",
     "output_type": "stream",
     "text": [
      "1. 0\n",
      "2. 3\n",
      "3. 6\n",
      "4. 9\n",
      "5. 12\n",
      "6. 15\n",
      "7. 18\n"
     ]
    }
   ],
   "source": [
    "for i, number in enumerate(range2):\n",
    "    print(f'{i+1}. {number}')"
   ]
  },
  {
   "cell_type": "code",
   "execution_count": 14,
   "id": "d0673da6-848f-46d4-833d-22a129863ba4",
   "metadata": {},
   "outputs": [
    {
     "name": "stdout",
     "output_type": "stream",
     "text": [
      "(0, 'h')\n",
      "(1, 'e')\n",
      "(2, 'l')\n",
      "(3, 'l')\n",
      "(4, 'o')\n"
     ]
    }
   ],
   "source": [
    "e = enumerate('hello')\n",
    "for pair in e:\n",
    "    print(pair)"
   ]
  },
  {
   "cell_type": "code",
   "execution_count": 19,
   "id": "57822ac4-f085-44df-8275-fb00910e12e3",
   "metadata": {},
   "outputs": [
    {
     "data": {
      "text/plain": [
       "(0, 'w')"
      ]
     },
     "execution_count": 19,
     "metadata": {},
     "output_type": "execute_result"
    }
   ],
   "source": [
    "e2 = enumerate('word')\n",
    "e2.__next__()"
   ]
  },
  {
   "cell_type": "code",
   "execution_count": 20,
   "id": "2824d804-fb58-4f40-87e1-d29302d553c9",
   "metadata": {},
   "outputs": [
    {
     "data": {
      "text/plain": [
       "(1, 'o')"
      ]
     },
     "execution_count": 20,
     "metadata": {},
     "output_type": "execute_result"
    }
   ],
   "source": [
    "e2.__next__()"
   ]
  },
  {
   "cell_type": "code",
   "execution_count": 21,
   "id": "f319951b-f026-43bd-9857-044101ba2a05",
   "metadata": {},
   "outputs": [
    {
     "data": {
      "text/plain": [
       "(2, 'r')"
      ]
     },
     "execution_count": 21,
     "metadata": {},
     "output_type": "execute_result"
    }
   ],
   "source": [
    "next(e2)"
   ]
  },
  {
   "cell_type": "code",
   "execution_count": 22,
   "id": "a9aebf8c-723f-411a-a16f-c4b972eb7e36",
   "metadata": {},
   "outputs": [
    {
     "data": {
      "text/plain": [
       "(0, 't')"
      ]
     },
     "execution_count": 22,
     "metadata": {},
     "output_type": "execute_result"
    }
   ],
   "source": [
    "e3 = enumerate('text')\n",
    "next(e3)"
   ]
  },
  {
   "cell_type": "code",
   "execution_count": 23,
   "id": "29f88298-02ec-4095-8db5-380f93d9db92",
   "metadata": {},
   "outputs": [
    {
     "name": "stdout",
     "output_type": "stream",
     "text": [
      "1\n",
      "2\n",
      "3\n",
      "4\n",
      "5\n"
     ]
    }
   ],
   "source": [
    "numbers = [1, 2, 3, 4, 5]\n",
    "it = iter(numbers)\n",
    "for num in it:\n",
    "    print(num)"
   ]
  },
  {
   "cell_type": "code",
   "execution_count": 25,
   "id": "600e214f-d53b-4513-928d-fc224e1fbd5e",
   "metadata": {},
   "outputs": [
    {
     "name": "stdout",
     "output_type": "stream",
     "text": [
      "1\n",
      "2\n",
      "3\n",
      "4\n",
      "5\n"
     ]
    }
   ],
   "source": [
    "numbers = [1, 2, 3, 4, 5]\n",
    "for number in numbers:\n",
    "    print(number)"
   ]
  },
  {
   "cell_type": "code",
   "execution_count": 1,
   "id": "0bdd43a8-468b-4515-9e48-d2e34845ced4",
   "metadata": {},
   "outputs": [
    {
     "data": {
      "text/plain": [
       "4"
      ]
     },
     "execution_count": 1,
     "metadata": {},
     "output_type": "execute_result"
    }
   ],
   "source": [
    "2 ** 2"
   ]
  },
  {
   "cell_type": "code",
   "execution_count": 2,
   "id": "bb4eb24e-8c5e-47db-8fc2-0a850d5cbce3",
   "metadata": {},
   "outputs": [
    {
     "data": {
      "text/plain": [
       "256"
      ]
     },
     "execution_count": 2,
     "metadata": {},
     "output_type": "execute_result"
    }
   ],
   "source": [
    "4 ** 4"
   ]
  },
  {
   "cell_type": "code",
   "execution_count": 3,
   "id": "1f3d5d50-66ef-4c50-9855-126e6a8885c1",
   "metadata": {},
   "outputs": [
    {
     "data": {
      "text/plain": [
       "256"
      ]
     },
     "execution_count": 3,
     "metadata": {},
     "output_type": "execute_result"
    }
   ],
   "source": [
    "4 * 4 * 4 * 4"
   ]
  },
  {
   "cell_type": "code",
   "execution_count": 4,
   "id": "90ffa835-9eaa-4f70-b7ee-ee9a2b5dd885",
   "metadata": {},
   "outputs": [
    {
     "data": {
      "text/plain": [
       "8"
      ]
     },
     "execution_count": 4,
     "metadata": {},
     "output_type": "execute_result"
    }
   ],
   "source": [
    "2 ** 3"
   ]
  },
  {
   "cell_type": "code",
   "execution_count": 11,
   "id": "3fc42451-d11f-4b71-94cd-80c9cd5b614f",
   "metadata": {},
   "outputs": [
    {
     "name": "stdout",
     "output_type": "stream",
     "text": [
      "9.429999999999998\n",
      "13.529999999999998\n",
      "17.63\n",
      "21.729999999999997\n",
      "25.83\n",
      "29.929999999999996\n",
      "34.03\n",
      "38.13\n",
      "42.23\n",
      "46.33\n"
     ]
    }
   ],
   "source": [
    "list = []\n",
    "\n",
    "for number in range(1, 11):\n",
    "    list.append((number + 1.3) * 4.1)\n",
    "    \n",
    "for number in list:\n",
    "    print(number)"
   ]
  },
  {
   "cell_type": "code",
   "execution_count": 7,
   "id": "30aa3c18-c28c-4408-a5ec-8d605634e2d3",
   "metadata": {
    "tags": []
   },
   "outputs": [
    {
     "name": "stdout",
     "output_type": "stream",
     "text": [
      "500.0\n",
      "500.5\n",
      "501.0\n",
      "501.5\n",
      "502.0\n",
      "502.5\n",
      "503.0\n",
      "503.5\n",
      "504.0\n",
      "504.5\n",
      "505.0\n",
      "505.5\n",
      "506.0\n",
      "506.5\n",
      "507.0\n",
      "507.5\n",
      "508.0\n",
      "508.5\n",
      "509.0\n",
      "509.5\n",
      "510.0\n"
     ]
    }
   ],
   "source": [
    "division = []\n",
    "\n",
    "for number in range(1000, 1021, 1):\n",
    "    division.append(number / 2)\n",
    "    \n",
    "for number in division:\n",
    "    print(number)"
   ]
  },
  {
   "cell_type": "code",
   "execution_count": 12,
   "id": "8900b2a6-95f3-4d5c-907a-378d352c8c3a",
   "metadata": {},
   "outputs": [
    {
     "name": "stdout",
     "output_type": "stream",
     "text": [
      "9.429999999999998\n",
      "13.529999999999998\n",
      "17.63\n",
      "21.729999999999997\n",
      "25.83\n",
      "29.929999999999996\n",
      "34.03\n",
      "38.13\n",
      "42.23\n",
      "46.33\n"
     ]
    }
   ],
   "source": [
    "list = [(number + 1.3) * 4.1 for number in range(1, 11)]\n",
    "\n",
    "for number in list:\n",
    "    print(number)"
   ]
  },
  {
   "cell_type": "code",
   "execution_count": 14,
   "id": "3f31484f-4311-4610-a1ad-ebab7c1641cf",
   "metadata": {},
   "outputs": [
    {
     "data": {
      "text/plain": [
       "range(0, 5)"
      ]
     },
     "execution_count": 14,
     "metadata": {},
     "output_type": "execute_result"
    }
   ],
   "source": [
    "a = range(5)\n",
    "a"
   ]
  },
  {
   "cell_type": "code",
   "execution_count": 15,
   "id": "933d2bec-8e36-4817-b103-d9ec284d5522",
   "metadata": {},
   "outputs": [
    {
     "name": "stdout",
     "output_type": "stream",
     "text": [
      "0\n",
      "1\n",
      "2\n",
      "3\n",
      "4\n"
     ]
    }
   ],
   "source": [
    "for number in a:\n",
    "    print(number)"
   ]
  },
  {
   "cell_type": "code",
   "execution_count": 32,
   "id": "42c19d50-2ef0-4edd-ac1f-e81dcb014cb6",
   "metadata": {},
   "outputs": [
    {
     "data": {
      "text/plain": [
       "[]"
      ]
     },
     "execution_count": 32,
     "metadata": {},
     "output_type": "execute_result"
    }
   ],
   "source": [
    "upgraded_a = [x + 1 for x in range(5) if x % 2 == 2]\n",
    "\n",
    "upgraded_a"
   ]
  },
  {
   "cell_type": "code",
   "execution_count": 20,
   "id": "5a044d65-746d-460c-ba4c-691a9c313c5d",
   "metadata": {},
   "outputs": [
    {
     "data": {
      "text/plain": [
       "[27, 64]"
      ]
     },
     "execution_count": 20,
     "metadata": {},
     "output_type": "execute_result"
    }
   ],
   "source": [
    "upgraded_b = [i ** 3 for i in [1, 2, 3, 4] if i > 2]\n",
    "upgraded_b"
   ]
  },
  {
   "cell_type": "code",
   "execution_count": 31,
   "id": "d19e9031-65ed-4f48-8b0d-4979715345d1",
   "metadata": {},
   "outputs": [
    {
     "data": {
      "text/plain": [
       "[27, 64]"
      ]
     },
     "execution_count": 31,
     "metadata": {},
     "output_type": "execute_result"
    }
   ],
   "source": [
    "upgraded_c = []\n",
    "\n",
    "for i in range(1, 5, 1):\n",
    "    if i > 2:\n",
    "        upgraded_c.append(i ** 3)\n",
    "        \n",
    "# for i in upgraded_c:\n",
    "#     print(i)\n",
    "\n",
    "upgraded_c"
   ]
  },
  {
   "cell_type": "code",
   "execution_count": 36,
   "id": "de1f8cbd-9529-4d92-b935-ac5b8fc9df1a",
   "metadata": {},
   "outputs": [
    {
     "name": "stdout",
     "output_type": "stream",
     "text": [
      "10.869565217391312\n",
      "13.043478260869577\n",
      "15.217391304347828\n",
      "17.391304347826093\n",
      "19.56521739130436\n",
      "21.739130434782624\n",
      "23.913043478260875\n",
      "26.08695652173914\n",
      "28.260869565217405\n",
      "30.434782608695656\n"
     ]
    }
   ],
   "source": [
    "test_list = [(number / 9.2) -100 for number in range (1020, 1212, 20)]\n",
    "\n",
    "for number in test_list:\n",
    "    print(number)"
   ]
  },
  {
   "cell_type": "code",
   "execution_count": 39,
   "id": "143ecfe8-b3ee-4efa-ac48-7df346a9c299",
   "metadata": {},
   "outputs": [
    {
     "name": "stdout",
     "output_type": "stream",
     "text": [
      "3156.609195402299\n",
      "3614.1609195402298\n",
      "4113.919540229885\n",
      "4657.747126436781\n",
      "5247.505747126437\n"
     ]
    }
   ],
   "source": [
    "test_list_2 = [(number ** 3) / 87 for number in range(65, 80, 3)]\n",
    "\n",
    "for i in test_list_2:\n",
    "    print(i)"
   ]
  },
  {
   "cell_type": "code",
   "execution_count": 48,
   "id": "798f8726-c32e-4f3e-a46c-95d3281e1942",
   "metadata": {},
   "outputs": [
    {
     "name": "stdout",
     "output_type": "stream",
     "text": [
      "Number 1 is 3.5242618588039794e+40\n",
      "\n",
      "Number 2 is 1.206113518329091e+47\n",
      "\n",
      "Number 3 is 3.805723211182389e+49\n",
      "\n",
      "Number 4 is 1.4342440456446928e+51\n",
      "\n"
     ]
    }
   ],
   "source": [
    "test_list_3 = [((i ** 10) / 12932) + 2981 for i in range(29233, 379212, 102382)]\n",
    "\n",
    "for i, number in enumerate(test_list_3):\n",
    "    print(f'Number {i+1} is {number}\\n')"
   ]
  },
  {
   "cell_type": "code",
   "execution_count": 50,
   "id": "90a01af4-a4a3-4f3f-a4aa-5ddd6305aba2",
   "metadata": {},
   "outputs": [
    {
     "name": "stdout",
     "output_type": "stream",
     "text": [
      "1\n",
      "4\n",
      "9\n",
      "16\n",
      "25\n",
      "36\n",
      "49\n",
      "64\n",
      "81\n",
      "100\n"
     ]
    }
   ],
   "source": [
    "squares = [i ** 2 for i in range(1, 11)]\n",
    "\n",
    "for i in squares:\n",
    "    print(i)"
   ]
  },
  {
   "cell_type": "code",
   "execution_count": 59,
   "id": "994bcfc2-0446-4340-9eac-f76ad8724791",
   "metadata": {},
   "outputs": [
    {
     "name": "stdout",
     "output_type": "stream",
     "text": [
      "Number 1 is 3.5242618588039794e+40\n",
      "\n",
      "Number 2 is 1.206113518329091e+47\n",
      "\n",
      "Number 3 is 3.805723211182389e+49\n",
      "\n",
      "Number 4 is 1.4342440456446928e+51\n",
      "\n"
     ]
    }
   ],
   "source": [
    "test_list_3 = [((i ** 10) / 12932) + 2981 for i in range(29233, 379212, 102382)]\n",
    "\n",
    "for i, number in enumerate(test_list_3):\n",
    "    print(f'Number {i+1} is {number}\\n')"
   ]
  },
  {
   "cell_type": "code",
   "execution_count": 55,
   "id": "3f135f50-2556-451a-a414-98ad6467abf2",
   "metadata": {},
   "outputs": [
    {
     "name": "stdout",
     "output_type": "stream",
     "text": [
      "3156.6\n",
      "3614.2\n",
      "4113.9\n",
      "4657.7\n",
      "5247.5\n"
     ]
    }
   ],
   "source": [
    "test_list_2 = [round((number ** 3) / 87, 1) for number in range(65, 80, 3)]\n",
    "\n",
    "for i in test_list_2:\n",
    "    print(i)"
   ]
  },
  {
   "cell_type": "code",
   "execution_count": 62,
   "id": "a2498943-9f0b-42bb-b83e-d601c5d639ef",
   "metadata": {},
   "outputs": [
    {
     "name": "stdout",
     "output_type": "stream",
     "text": [
      "1\n",
      "4\n",
      "9\n",
      "16\n",
      "25\n",
      "36\n",
      "49\n",
      "64\n",
      "81\n",
      "100\n"
     ]
    }
   ],
   "source": [
    "squares = [number ** 2 for number in range(1, 11)]\n",
    "\n",
    "for number in squares:\n",
    "    print(number)"
   ]
  },
  {
   "cell_type": "code",
   "execution_count": 63,
   "id": "502e33ee-1dd1-4b87-a0ed-ef887fd6a82d",
   "metadata": {},
   "outputs": [
    {
     "data": {
      "text/plain": [
       "[2, 4, 6, 8, 10, 12, 14, 16, 18, 20]"
      ]
     },
     "execution_count": 63,
     "metadata": {},
     "output_type": "execute_result"
    }
   ],
   "source": [
    "evens = []\n",
    "\n",
    "for number in range(1, 11):\n",
    "    evens.append(number *2)\n",
    "    \n",
    "evens"
   ]
  },
  {
   "cell_type": "code",
   "execution_count": 65,
   "id": "15d4e3a9-f824-44e7-8e7a-b42bcac7e86d",
   "metadata": {},
   "outputs": [
    {
     "data": {
      "text/plain": [
       "[2, 4, 6, 8, 10, 12, 14, 16, 18, 20]"
      ]
     },
     "execution_count": 65,
     "metadata": {},
     "output_type": "execute_result"
    }
   ],
   "source": [
    "evens_short = [number * 2 for number in range (1, 11)]\n",
    "evens_short"
   ]
  },
  {
   "cell_type": "code",
   "execution_count": 66,
   "id": "1b8bb521-33e1-4d90-968b-92c1fbea14b3",
   "metadata": {},
   "outputs": [],
   "source": [
    "country_map = {'IT': 'Italy', 'UK': 'United Kingdom', 'DE': 'Germany', 'DK': 'Denmark', 'FR': 'France'}"
   ]
  },
  {
   "cell_type": "code",
   "execution_count": 73,
   "id": "1164e77e-7516-468f-996b-7187e29e8600",
   "metadata": {},
   "outputs": [
    {
     "name": "stdout",
     "output_type": "stream",
     "text": [
      "Code: IT\n",
      "Country: Italy \n",
      "\n",
      "Code: UK\n",
      "Country: United Kingdom \n",
      "\n",
      "Code: DE\n",
      "Country: Germany \n",
      "\n",
      "Code: DK\n",
      "Country: Denmark \n",
      "\n",
      "Code: FR\n",
      "Country: France \n",
      "\n"
     ]
    }
   ],
   "source": [
    "country_map_2 = [(code, country) for code, country in country_map.items()]\n",
    "\n",
    "for code, country in country_map_2:\n",
    "    print('Code:', code)\n",
    "    print('Country:', country, '\\n')"
   ]
  },
  {
   "cell_type": "code",
   "execution_count": 83,
   "id": "88391ceb-1741-4489-9ce9-c9e9a0cecc21",
   "metadata": {},
   "outputs": [
    {
     "name": "stdout",
     "output_type": "stream",
     "text": [
      "IT is Italy.\n",
      "\n",
      "UK means Brexit!\n",
      "\n",
      "DE is Germany.\n",
      "\n",
      "DK is Denmark.\n",
      "\n",
      "FR is France.\n",
      "\n"
     ]
    }
   ],
   "source": [
    "country_map_2 = [(code, country) for code, country in country_map.items()]\n",
    "\n",
    "for code, country in country_map_2:\n",
    "    if code == 'UK':\n",
    "        print(f'{code} means Brexit!\\n')\n",
    "    else:\n",
    "        print(f'{code} is {country}.\\n')"
   ]
  },
  {
   "cell_type": "code",
   "execution_count": 88,
   "id": "93d6ca9d-528e-4cc8-bf5f-6a3972a081e1",
   "metadata": {},
   "outputs": [
    {
     "data": {
      "text/plain": [
       "(68, 70, 71, 72, 111, 105, 104, 117, 118, 103, 99, 102)"
      ]
     },
     "execution_count": 88,
     "metadata": {},
     "output_type": "execute_result"
    }
   ],
   "source": [
    "symbols = 'DFGHoihuvgcf'\n",
    "\n",
    "tuple(ord(i) for i in symbols)"
   ]
  }
 ],
 "metadata": {
  "kernelspec": {
   "display_name": "Python 3 (ipykernel)",
   "language": "python",
   "name": "python3"
  },
  "language_info": {
   "codemirror_mode": {
    "name": "ipython",
    "version": 3
   },
   "file_extension": ".py",
   "mimetype": "text/x-python",
   "name": "python",
   "nbconvert_exporter": "python",
   "pygments_lexer": "ipython3",
   "version": "3.9.13"
  }
 },
 "nbformat": 4,
 "nbformat_minor": 5
}
