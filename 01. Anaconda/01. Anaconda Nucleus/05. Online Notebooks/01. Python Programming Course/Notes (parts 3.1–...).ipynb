{
 "cells": [
  {
   "cell_type": "markdown",
   "id": "ac50e253-01c7-41ab-83c8-b59596bc298c",
   "metadata": {},
   "source": [
    "<h1>Notes (parts 3.1–...)</h1>"
   ]
  },
  {
   "cell_type": "markdown",
   "id": "f70722cc-71df-439b-b712-09b8f894a8f9",
   "metadata": {},
   "source": [
    "<h2>3.1 Classes</h2>"
   ]
  },
  {
   "cell_type": "code",
   "execution_count": 9,
   "id": "58ba5a99-a421-48c8-b734-7a9abe3146d9",
   "metadata": {},
   "outputs": [
    {
     "name": "stdout",
     "output_type": "stream",
     "text": [
      "Hello, my name is John.\n"
     ]
    }
   ],
   "source": [
    "class Person:\n",
    "    def __init__(self, name):\n",
    "        self.name = name\n",
    "    \n",
    "    def say_hello(self):\n",
    "        print(f\"Hello, my name is {self.name}.\")\n",
    "\n",
    "person = Person(\"John\")\n",
    "person.say_hello() # Output: \"Hello, my name is John.\""
   ]
  },
  {
   "cell_type": "code",
   "execution_count": 12,
   "id": "a77758c0-5d85-4467-a977-8505e24cb70d",
   "metadata": {},
   "outputs": [
    {
     "name": "stdout",
     "output_type": "stream",
     "text": [
      "Hello, my name is John.\n"
     ]
    }
   ],
   "source": [
    "# We define a class called 'Person':\n",
    "class Person:\n",
    "    # This class has two methods: '__init__' and 'say_hello'.\n",
    "    # The first method '__init__' is called when an instance of a class is created:\n",
    "    def __init__(self, name): # It takes the 'name' parameter\n",
    "        self.name = name # and initializes the 'name' attribute of the class with that value\n",
    "    \n",
    "    #The second method 'say_hello':\n",
    "    def say_hello(self):\n",
    "        print(f\"Hello, my name is {self.name}.\") # it simply prints a message to the console using \n",
    "                                                 # the 'name' attribute of the class\n",
    "\n",
    "# We then create an instance of the class called 'person'\n",
    "person = Person(\"John\")\n",
    "\n",
    "# and call the 'say_hello' method on it\n",
    "person.say_hello() # Output: \"Hello, my name is John.\""
   ]
  },
  {
   "cell_type": "code",
   "execution_count": 11,
   "id": "7106ca97-b241-49ff-842e-88584f801dd8",
   "metadata": {},
   "outputs": [
    {
     "name": "stdout",
     "output_type": "stream",
     "text": [
      "Hello, my name is Alex.\n"
     ]
    }
   ],
   "source": [
    "person2 = Person('Alex')\n",
    "person2.say_hello()"
   ]
  },
  {
   "cell_type": "code",
   "execution_count": 14,
   "id": "542a338a-07e6-4776-882a-3a6208e0d734",
   "metadata": {},
   "outputs": [
    {
     "name": "stdout",
     "output_type": "stream",
     "text": [
      "John\n",
      "Alex\n"
     ]
    }
   ],
   "source": [
    "print(person.name)\n",
    "print(person2.name)"
   ]
  },
  {
   "cell_type": "code",
   "execution_count": 17,
   "id": "b283fa60-d891-4795-b13f-3bc5311c3da5",
   "metadata": {},
   "outputs": [
    {
     "name": "stdout",
     "output_type": "stream",
     "text": [
      "0\n",
      "1\n",
      "2\n",
      "3\n",
      "4\n"
     ]
    }
   ],
   "source": [
    "for number in range(0, 5):\n",
    "    print(number)"
   ]
  },
  {
   "cell_type": "code",
   "execution_count": 1,
   "id": "7df30549-4260-4652-ad00-2b36a26ee9f0",
   "metadata": {},
   "outputs": [],
   "source": [
    "class Rocket:\n",
    "    def __init__(self):\n",
    "        self.x = 0\n",
    "        self.y = 0"
   ]
  },
  {
   "cell_type": "code",
   "execution_count": 2,
   "id": "df8fd207-c9a3-45ed-a60f-e37ec9a40663",
   "metadata": {},
   "outputs": [],
   "source": [
    "class Rocket:\n",
    "\n",
    "    def __init__(self):\n",
    "        self.x = 0\n",
    "        self.y = 0\n",
    "        \n",
    "    def move_up(self):\n",
    "        self.y += 1 # equivalent to self.y = self.y + 1"
   ]
  },
  {
   "cell_type": "code",
   "execution_count": 3,
   "id": "a0c4c45d-b5bb-4108-8526-c45661b67400",
   "metadata": {},
   "outputs": [],
   "source": [
    "my_rocket = Rocket()"
   ]
  },
  {
   "cell_type": "code",
   "execution_count": 5,
   "id": "815f01d2-694c-4164-abba-df6017f6b618",
   "metadata": {},
   "outputs": [],
   "source": [
    "class MyClass:\n",
    "    pass"
   ]
  },
  {
   "cell_type": "code",
   "execution_count": 6,
   "id": "0edb3b58-5df3-4e40-b3b2-d4b85392ee39",
   "metadata": {},
   "outputs": [
    {
     "data": {
      "text/plain": [
       "__main__.MyClass"
      ]
     },
     "execution_count": 6,
     "metadata": {},
     "output_type": "execute_result"
    }
   ],
   "source": [
    "MyClass"
   ]
  },
  {
   "cell_type": "code",
   "execution_count": 10,
   "id": "81d86421-f106-4757-9e85-13a9e4e9a613",
   "metadata": {},
   "outputs": [],
   "source": [
    "class Rocket:\n",
    "    \"\"\" \n",
    "    Rocket simulates a rocket ship for a game, or a physics simulation.\n",
    "    \"\"\"\n",
    "    def __init__(self):\n",
    "        # Each rocket has an (x,y) position.\n",
    "        self.x = 0\n",
    "        self.y = 0\n",
    "        \n",
    "    def move_up(self):\n",
    "        # Increment the y-position of the rocket.\n",
    "        self.y += 1"
   ]
  },
  {
   "cell_type": "code",
   "execution_count": 13,
   "id": "572a3fc8-70fc-40fb-9ee4-639a804dd899",
   "metadata": {},
   "outputs": [],
   "source": [
    "class Rocket:\n",
    "    # Rocket simulates a rocket ship for a game,\n",
    "    #  or a physics simulation.\n",
    "    \n",
    "    def __init__(self):\n",
    "        # Each rocket has an (x,y) position.\n",
    "        self.x = 0\n",
    "        self.y = 0\n",
    "        \n",
    "    def move_up(self):\n",
    "        # Increment the y-position of the rocket.\n",
    "        self.y += 1 # equivalent to self.y = self.y + 1"
   ]
  },
  {
   "cell_type": "code",
   "execution_count": 21,
   "id": "fc71b5d9-4bf5-4a0e-a46b-f1037751d92e",
   "metadata": {},
   "outputs": [],
   "source": [
    "class Rocket:\n",
    "    \n",
    "    def __init__(self):\n",
    "        self.x = 0\n",
    "        self.y = 0\n",
    "        \n",
    "    def move_up(self):\n",
    "        self.y += 1"
   ]
  },
  {
   "cell_type": "code",
   "execution_count": 22,
   "id": "4a7488e9-4fc3-4824-979e-1b9d757ed650",
   "metadata": {},
   "outputs": [],
   "source": [
    "object = Rocket()"
   ]
  },
  {
   "cell_type": "code",
   "execution_count": 23,
   "id": "8ec0e263-e642-4ada-bcd3-ac6c29c761d6",
   "metadata": {},
   "outputs": [
    {
     "name": "stdout",
     "output_type": "stream",
     "text": [
      "Original y-value: 0\n"
     ]
    }
   ],
   "source": [
    "print(f'Original y-value: {object.y}')"
   ]
  },
  {
   "cell_type": "code",
   "execution_count": 24,
   "id": "c653171c-8c3c-4dd3-a7ce-87c8d9e9cd2e",
   "metadata": {},
   "outputs": [
    {
     "name": "stdout",
     "output_type": "stream",
     "text": [
      "y-value after applying 'move_up': 1\n"
     ]
    }
   ],
   "source": [
    "object.move_up()\n",
    "\n",
    "print(f\"y-value after applying 'move_up': {object.y}\")"
   ]
  },
  {
   "cell_type": "code",
   "execution_count": 25,
   "id": "b7946950-e414-4e3c-9618-e5e7744f1754",
   "metadata": {},
   "outputs": [],
   "source": [
    "class Rocket:\n",
    "    \n",
    "    def __init__(self):\n",
    "        self.x = 0\n",
    "        self.y = 0\n",
    "        \n",
    "    def move_up(self):\n",
    "        self.y += 1"
   ]
  },
  {
   "cell_type": "code",
   "execution_count": 26,
   "id": "4240ed42-434c-4116-a204-7125e326a062",
   "metadata": {},
   "outputs": [],
   "source": [
    "object2 = Rocket()"
   ]
  },
  {
   "cell_type": "code",
   "execution_count": 27,
   "id": "18834b1c-88e3-4668-b1fb-ba860288536c",
   "metadata": {},
   "outputs": [
    {
     "name": "stdout",
     "output_type": "stream",
     "text": [
      "Original y-value: 0\n"
     ]
    }
   ],
   "source": [
    "print(f'Original y-value: {object2.y}')"
   ]
  },
  {
   "cell_type": "code",
   "execution_count": 28,
   "id": "29767863-3c15-4c39-84f3-0fb9ab5bba6c",
   "metadata": {},
   "outputs": [
    {
     "name": "stdout",
     "output_type": "stream",
     "text": [
      "y-value after applying 'move_up': 1\n"
     ]
    }
   ],
   "source": [
    "object2.move_up()\n",
    "\n",
    "print(f\"y-value after applying 'move_up': {object2.y}\")"
   ]
  },
  {
   "cell_type": "code",
   "execution_count": 29,
   "id": "d2a44645-f818-425f-b234-4cd9287c5237",
   "metadata": {},
   "outputs": [],
   "source": [
    "class Rocket:\n",
    "    # Rocket simulates a rocket shop for a game,\n",
    "    # or a physics simulation.\n",
    "    \n",
    "    def __init__(self, x = 0, y = 0):\n",
    "        # Each rocket has an (x, y) position.\n",
    "        self.x = x\n",
    "        self.y = y\n",
    "        \n",
    "    def move_up(self):\n",
    "        # Increment the y-position of the rocket.\n",
    "        self.y += 1"
   ]
  },
  {
   "cell_type": "code",
   "execution_count": 31,
   "id": "67d70f6a-98d7-4eb1-9e37-beb4cd3da3b3",
   "metadata": {},
   "outputs": [],
   "source": [
    "object = Rocket()"
   ]
  },
  {
   "cell_type": "code",
   "execution_count": 32,
   "id": "7c1c415d-5d7d-4892-9c1e-6b1f25f9022d",
   "metadata": {},
   "outputs": [
    {
     "data": {
      "text/plain": [
       "0"
      ]
     },
     "execution_count": 32,
     "metadata": {},
     "output_type": "execute_result"
    }
   ],
   "source": [
    "object.x"
   ]
  },
  {
   "cell_type": "code",
   "execution_count": 33,
   "id": "a41dd5f0-4c86-40d5-b272-94d380ea1154",
   "metadata": {},
   "outputs": [
    {
     "data": {
      "text/plain": [
       "0"
      ]
     },
     "execution_count": 33,
     "metadata": {},
     "output_type": "execute_result"
    }
   ],
   "source": [
    "object.y"
   ]
  },
  {
   "cell_type": "code",
   "execution_count": 34,
   "id": "7e4a9af4-a347-4a4e-b3f7-b32f23fbef5d",
   "metadata": {},
   "outputs": [],
   "source": [
    "object2 = Rocket(1, 3)"
   ]
  },
  {
   "cell_type": "code",
   "execution_count": 37,
   "id": "a8cdb295-0d3f-402c-84f9-c08d7bca7269",
   "metadata": {},
   "outputs": [
    {
     "data": {
      "text/plain": [
       "1"
      ]
     },
     "execution_count": 37,
     "metadata": {},
     "output_type": "execute_result"
    }
   ],
   "source": [
    "object2.x"
   ]
  },
  {
   "cell_type": "code",
   "execution_count": 38,
   "id": "9ec6392e-971a-4b06-908f-508eedd1a97e",
   "metadata": {},
   "outputs": [
    {
     "data": {
      "text/plain": [
       "3"
      ]
     },
     "execution_count": 38,
     "metadata": {},
     "output_type": "execute_result"
    }
   ],
   "source": [
    "object2.y"
   ]
  },
  {
   "cell_type": "code",
   "execution_count": 39,
   "id": "dfd99d92-a836-4942-b4e3-bd347de232e4",
   "metadata": {},
   "outputs": [
    {
     "data": {
      "text/plain": [
       "4"
      ]
     },
     "execution_count": 39,
     "metadata": {},
     "output_type": "execute_result"
    }
   ],
   "source": [
    "object2.move_up()\n",
    "object2.y"
   ]
  },
  {
   "cell_type": "code",
   "execution_count": 40,
   "id": "51adcbe0-8d00-49e8-b71b-41d3aa62d1f9",
   "metadata": {},
   "outputs": [],
   "source": [
    "rockets = []\n",
    "rockets.append(Rocket())\n",
    "rockets.append(Rocket(0, 10))\n",
    "rockets.append(Rocket(100, 0))"
   ]
  },
  {
   "cell_type": "code",
   "execution_count": 44,
   "id": "fc868b27-608e-4b8e-bef9-a72a3e6b8a7d",
   "metadata": {},
   "outputs": [],
   "source": [
    "class Rocket:\n",
    "    # Rocket simulates a rocket ship for a game,\n",
    "    # or a physics simulation.\n",
    "    \n",
    "    def __init__(self, x = 0, y = 0):\n",
    "        # Each rocket has an (x, y) position.\n",
    "        self.x = x\n",
    "        self.y = y\n",
    "        \n",
    "    def move_rocket(self, x_increment = 0, y_increment = 1):\n",
    "        # Move the rocket according to the parementers given.\n",
    "        # Default behavior is to move the rocket up one unit.\n",
    "        self.x += x_increment\n",
    "        self.y += y_increment"
   ]
  },
  {
   "cell_type": "code",
   "execution_count": 46,
   "id": "7d22369f-46d0-44fb-b4ef-a05cf2a7a546",
   "metadata": {},
   "outputs": [],
   "source": [
    "first_rocket = Rocket(8, 4)"
   ]
  },
  {
   "cell_type": "code",
   "execution_count": 48,
   "id": "63cd9522-8305-4d4c-9acd-0fddfc70798d",
   "metadata": {},
   "outputs": [
    {
     "name": "stdout",
     "output_type": "stream",
     "text": [
      "8\n",
      "4\n"
     ]
    }
   ],
   "source": [
    "print(first_rocket.x)\n",
    "print(first_rocket.y)"
   ]
  },
  {
   "cell_type": "code",
   "execution_count": 49,
   "id": "bdf24903-6e55-438d-aa87-fd79c2bdcc9a",
   "metadata": {},
   "outputs": [],
   "source": [
    "first_rocket.move_rocket(10, 15)"
   ]
  },
  {
   "cell_type": "code",
   "execution_count": 50,
   "id": "89ee1e30-dd67-4da0-9cb1-66dd0693393f",
   "metadata": {},
   "outputs": [
    {
     "name": "stdout",
     "output_type": "stream",
     "text": [
      "18\n",
      "19\n"
     ]
    }
   ],
   "source": [
    "print(first_rocket.x)\n",
    "print(first_rocket.y)"
   ]
  },
  {
   "cell_type": "code",
   "execution_count": null,
   "id": "c95e281d-e134-48d6-ade5-c1021df1fa3e",
   "metadata": {},
   "outputs": [],
   "source": []
  },
  {
   "cell_type": "code",
   "execution_count": null,
   "id": "4cbd1f76-acd0-41c5-8367-7962bf012720",
   "metadata": {},
   "outputs": [],
   "source": []
  }
 ],
 "metadata": {
  "kernelspec": {
   "display_name": "Python 3 (ipykernel)",
   "language": "python",
   "name": "python3"
  },
  "language_info": {
   "codemirror_mode": {
    "name": "ipython",
    "version": 3
   },
   "file_extension": ".py",
   "mimetype": "text/x-python",
   "name": "python",
   "nbconvert_exporter": "python",
   "pygments_lexer": "ipython3",
   "version": "3.9.13"
  }
 },
 "nbformat": 4,
 "nbformat_minor": 5
}
