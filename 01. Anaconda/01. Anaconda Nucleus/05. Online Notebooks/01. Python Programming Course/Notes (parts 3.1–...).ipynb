{
 "cells": [
  {
   "cell_type": "markdown",
   "id": "ac50e253-01c7-41ab-83c8-b59596bc298c",
   "metadata": {},
   "source": [
    "<h1>Notes (parts 3.1–...)</h1>"
   ]
  },
  {
   "cell_type": "markdown",
   "id": "f70722cc-71df-439b-b712-09b8f894a8f9",
   "metadata": {},
   "source": [
    "<h2>3.1 Classes</h2>"
   ]
  },
  {
   "cell_type": "code",
   "execution_count": 9,
   "id": "58ba5a99-a421-48c8-b734-7a9abe3146d9",
   "metadata": {},
   "outputs": [
    {
     "name": "stdout",
     "output_type": "stream",
     "text": [
      "Hello, my name is John.\n"
     ]
    }
   ],
   "source": [
    "class Person:\n",
    "    def __init__(self, name):\n",
    "        self.name = name\n",
    "    \n",
    "    def say_hello(self):\n",
    "        print(f\"Hello, my name is {self.name}.\")\n",
    "\n",
    "person = Person(\"John\")\n",
    "person.say_hello() # Output: \"Hello, my name is John.\""
   ]
  },
  {
   "cell_type": "code",
   "execution_count": 12,
   "id": "a77758c0-5d85-4467-a977-8505e24cb70d",
   "metadata": {},
   "outputs": [
    {
     "name": "stdout",
     "output_type": "stream",
     "text": [
      "Hello, my name is John.\n"
     ]
    }
   ],
   "source": [
    "# We define a class called 'Person':\n",
    "class Person:\n",
    "    # This class has two methods: '__init__' and 'say_hello'.\n",
    "    # The first method '__init__' is called when an instance of a class is created:\n",
    "    def __init__(self, name): # It takes the 'name' parameter\n",
    "        self.name = name # and initializes the 'name' attribute of the class with that value\n",
    "    \n",
    "    #The second method 'say_hello':\n",
    "    def say_hello(self):\n",
    "        print(f\"Hello, my name is {self.name}.\") # it simply prints a message to the console using \n",
    "                                                 # the 'name' attribute of the class\n",
    "\n",
    "# We then create an instance of the class called 'person'\n",
    "person = Person(\"John\")\n",
    "\n",
    "# and call the 'say_hello' method on it\n",
    "person.say_hello() # Output: \"Hello, my name is John.\""
   ]
  },
  {
   "cell_type": "code",
   "execution_count": 11,
   "id": "7106ca97-b241-49ff-842e-88584f801dd8",
   "metadata": {},
   "outputs": [
    {
     "name": "stdout",
     "output_type": "stream",
     "text": [
      "Hello, my name is Alex.\n"
     ]
    }
   ],
   "source": [
    "person2 = Person('Alex')\n",
    "person2.say_hello()"
   ]
  },
  {
   "cell_type": "code",
   "execution_count": 14,
   "id": "542a338a-07e6-4776-882a-3a6208e0d734",
   "metadata": {},
   "outputs": [
    {
     "name": "stdout",
     "output_type": "stream",
     "text": [
      "John\n",
      "Alex\n"
     ]
    }
   ],
   "source": [
    "print(person.name)\n",
    "print(person2.name)"
   ]
  },
  {
   "cell_type": "code",
   "execution_count": 17,
   "id": "b283fa60-d891-4795-b13f-3bc5311c3da5",
   "metadata": {},
   "outputs": [
    {
     "name": "stdout",
     "output_type": "stream",
     "text": [
      "0\n",
      "1\n",
      "2\n",
      "3\n",
      "4\n"
     ]
    }
   ],
   "source": [
    "for number in range(0, 5):\n",
    "    print(number)"
   ]
  }
 ],
 "metadata": {
  "kernelspec": {
   "display_name": "Python 3 (ipykernel)",
   "language": "python",
   "name": "python3"
  },
  "language_info": {
   "codemirror_mode": {
    "name": "ipython",
    "version": 3
   },
   "file_extension": ".py",
   "mimetype": "text/x-python",
   "name": "python",
   "nbconvert_exporter": "python",
   "pygments_lexer": "ipython3",
   "version": "3.9.13"
  }
 },
 "nbformat": 4,
 "nbformat_minor": 5
}
