{
 "cells": [
  {
   "cell_type": "markdown",
   "id": "ac50e253-01c7-41ab-83c8-b59596bc298c",
   "metadata": {},
   "source": [
    "<h1>Notes (parts 3.1–...)</h1>"
   ]
  },
  {
   "cell_type": "markdown",
   "id": "f70722cc-71df-439b-b712-09b8f894a8f9",
   "metadata": {},
   "source": [
    "<h2>3.1 Classes</h2>"
   ]
  },
  {
   "cell_type": "code",
   "execution_count": 9,
   "id": "58ba5a99-a421-48c8-b734-7a9abe3146d9",
   "metadata": {},
   "outputs": [
    {
     "name": "stdout",
     "output_type": "stream",
     "text": [
      "Hello, my name is John.\n"
     ]
    }
   ],
   "source": [
    "class Person:\n",
    "    def __init__(self, name):\n",
    "        self.name = name\n",
    "    \n",
    "    def say_hello(self):\n",
    "        print(f\"Hello, my name is {self.name}.\")\n",
    "\n",
    "person = Person(\"John\")\n",
    "person.say_hello() # Output: \"Hello, my name is John.\""
   ]
  },
  {
   "cell_type": "code",
   "execution_count": 12,
   "id": "a77758c0-5d85-4467-a977-8505e24cb70d",
   "metadata": {},
   "outputs": [
    {
     "name": "stdout",
     "output_type": "stream",
     "text": [
      "Hello, my name is John.\n"
     ]
    }
   ],
   "source": [
    "# We define a class called 'Person':\n",
    "class Person:\n",
    "    # This class has two methods: '__init__' and 'say_hello'.\n",
    "    # The first method '__init__' is called when an instance of a class is created:\n",
    "    def __init__(self, name): # It takes the 'name' parameter\n",
    "        self.name = name # and initializes the 'name' attribute of the class with that value\n",
    "    \n",
    "    #The second method 'say_hello':\n",
    "    def say_hello(self):\n",
    "        print(f\"Hello, my name is {self.name}.\") # it simply prints a message to the console using \n",
    "                                                 # the 'name' attribute of the class\n",
    "\n",
    "# We then create an instance of the class called 'person'\n",
    "person = Person(\"John\")\n",
    "\n",
    "# and call the 'say_hello' method on it\n",
    "person.say_hello() # Output: \"Hello, my name is John.\""
   ]
  },
  {
   "cell_type": "code",
   "execution_count": 11,
   "id": "7106ca97-b241-49ff-842e-88584f801dd8",
   "metadata": {},
   "outputs": [
    {
     "name": "stdout",
     "output_type": "stream",
     "text": [
      "Hello, my name is Alex.\n"
     ]
    }
   ],
   "source": [
    "person2 = Person('Alex')\n",
    "person2.say_hello()"
   ]
  },
  {
   "cell_type": "code",
   "execution_count": 14,
   "id": "542a338a-07e6-4776-882a-3a6208e0d734",
   "metadata": {},
   "outputs": [
    {
     "name": "stdout",
     "output_type": "stream",
     "text": [
      "John\n",
      "Alex\n"
     ]
    }
   ],
   "source": [
    "print(person.name)\n",
    "print(person2.name)"
   ]
  },
  {
   "cell_type": "code",
   "execution_count": 17,
   "id": "b283fa60-d891-4795-b13f-3bc5311c3da5",
   "metadata": {},
   "outputs": [
    {
     "name": "stdout",
     "output_type": "stream",
     "text": [
      "0\n",
      "1\n",
      "2\n",
      "3\n",
      "4\n"
     ]
    }
   ],
   "source": [
    "for number in range(0, 5):\n",
    "    print(number)"
   ]
  },
  {
   "cell_type": "code",
   "execution_count": 1,
   "id": "7df30549-4260-4652-ad00-2b36a26ee9f0",
   "metadata": {},
   "outputs": [],
   "source": [
    "class Rocket:\n",
    "    def __init__(self):\n",
    "        self.x = 0\n",
    "        self.y = 0"
   ]
  },
  {
   "cell_type": "code",
   "execution_count": 2,
   "id": "df8fd207-c9a3-45ed-a60f-e37ec9a40663",
   "metadata": {},
   "outputs": [],
   "source": [
    "class Rocket:\n",
    "\n",
    "    def __init__(self):\n",
    "        self.x = 0\n",
    "        self.y = 0\n",
    "        \n",
    "    def move_up(self):\n",
    "        self.y += 1 # equivalent to self.y = self.y + 1"
   ]
  },
  {
   "cell_type": "code",
   "execution_count": 3,
   "id": "a0c4c45d-b5bb-4108-8526-c45661b67400",
   "metadata": {},
   "outputs": [],
   "source": [
    "my_rocket = Rocket()"
   ]
  },
  {
   "cell_type": "code",
   "execution_count": 5,
   "id": "815f01d2-694c-4164-abba-df6017f6b618",
   "metadata": {},
   "outputs": [],
   "source": [
    "class MyClass:\n",
    "    pass"
   ]
  },
  {
   "cell_type": "code",
   "execution_count": 6,
   "id": "0edb3b58-5df3-4e40-b3b2-d4b85392ee39",
   "metadata": {},
   "outputs": [
    {
     "data": {
      "text/plain": [
       "__main__.MyClass"
      ]
     },
     "execution_count": 6,
     "metadata": {},
     "output_type": "execute_result"
    }
   ],
   "source": [
    "MyClass"
   ]
  },
  {
   "cell_type": "code",
   "execution_count": 10,
   "id": "81d86421-f106-4757-9e85-13a9e4e9a613",
   "metadata": {},
   "outputs": [],
   "source": [
    "class Rocket:\n",
    "    \"\"\" \n",
    "    Rocket simulates a rocket ship for a game, or a physics simulation.\n",
    "    \"\"\"\n",
    "    def __init__(self):\n",
    "        # Each rocket has an (x,y) position.\n",
    "        self.x = 0\n",
    "        self.y = 0\n",
    "        \n",
    "    def move_up(self):\n",
    "        # Increment the y-position of the rocket.\n",
    "        self.y += 1"
   ]
  },
  {
   "cell_type": "code",
   "execution_count": 13,
   "id": "572a3fc8-70fc-40fb-9ee4-639a804dd899",
   "metadata": {},
   "outputs": [],
   "source": [
    "class Rocket:\n",
    "    # Rocket simulates a rocket ship for a game,\n",
    "    #  or a physics simulation.\n",
    "    \n",
    "    def __init__(self):\n",
    "        # Each rocket has an (x,y) position.\n",
    "        self.x = 0\n",
    "        self.y = 0\n",
    "        \n",
    "    def move_up(self):\n",
    "        # Increment the y-position of the rocket.\n",
    "        self.y += 1 # equivalent to self.y = self.y + 1"
   ]
  },
  {
   "cell_type": "code",
   "execution_count": 21,
   "id": "fc71b5d9-4bf5-4a0e-a46b-f1037751d92e",
   "metadata": {},
   "outputs": [],
   "source": [
    "class Rocket:\n",
    "    \n",
    "    def __init__(self):\n",
    "        self.x = 0\n",
    "        self.y = 0\n",
    "        \n",
    "    def move_up(self):\n",
    "        self.y += 1"
   ]
  },
  {
   "cell_type": "code",
   "execution_count": 22,
   "id": "4a7488e9-4fc3-4824-979e-1b9d757ed650",
   "metadata": {},
   "outputs": [],
   "source": [
    "object = Rocket()"
   ]
  },
  {
   "cell_type": "code",
   "execution_count": 23,
   "id": "8ec0e263-e642-4ada-bcd3-ac6c29c761d6",
   "metadata": {},
   "outputs": [
    {
     "name": "stdout",
     "output_type": "stream",
     "text": [
      "Original y-value: 0\n"
     ]
    }
   ],
   "source": [
    "print(f'Original y-value: {object.y}')"
   ]
  },
  {
   "cell_type": "code",
   "execution_count": 24,
   "id": "c653171c-8c3c-4dd3-a7ce-87c8d9e9cd2e",
   "metadata": {},
   "outputs": [
    {
     "name": "stdout",
     "output_type": "stream",
     "text": [
      "y-value after applying 'move_up': 1\n"
     ]
    }
   ],
   "source": [
    "object.move_up()\n",
    "\n",
    "print(f\"y-value after applying 'move_up': {object.y}\")"
   ]
  },
  {
   "cell_type": "code",
   "execution_count": 25,
   "id": "b7946950-e414-4e3c-9618-e5e7744f1754",
   "metadata": {},
   "outputs": [],
   "source": [
    "class Rocket:\n",
    "    \n",
    "    def __init__(self):\n",
    "        self.x = 0\n",
    "        self.y = 0\n",
    "        \n",
    "    def move_up(self):\n",
    "        self.y += 1"
   ]
  },
  {
   "cell_type": "code",
   "execution_count": 26,
   "id": "4240ed42-434c-4116-a204-7125e326a062",
   "metadata": {},
   "outputs": [],
   "source": [
    "object2 = Rocket()"
   ]
  },
  {
   "cell_type": "code",
   "execution_count": 27,
   "id": "18834b1c-88e3-4668-b1fb-ba860288536c",
   "metadata": {},
   "outputs": [
    {
     "name": "stdout",
     "output_type": "stream",
     "text": [
      "Original y-value: 0\n"
     ]
    }
   ],
   "source": [
    "print(f'Original y-value: {object2.y}')"
   ]
  },
  {
   "cell_type": "code",
   "execution_count": 28,
   "id": "29767863-3c15-4c39-84f3-0fb9ab5bba6c",
   "metadata": {},
   "outputs": [
    {
     "name": "stdout",
     "output_type": "stream",
     "text": [
      "y-value after applying 'move_up': 1\n"
     ]
    }
   ],
   "source": [
    "object2.move_up()\n",
    "\n",
    "print(f\"y-value after applying 'move_up': {object2.y}\")"
   ]
  },
  {
   "cell_type": "code",
   "execution_count": 29,
   "id": "d2a44645-f818-425f-b234-4cd9287c5237",
   "metadata": {},
   "outputs": [],
   "source": [
    "class Rocket:\n",
    "    # Rocket simulates a rocket shop for a game,\n",
    "    # or a physics simulation.\n",
    "    \n",
    "    def __init__(self, x = 0, y = 0):\n",
    "        # Each rocket has an (x, y) position.\n",
    "        self.x = x\n",
    "        self.y = y\n",
    "        \n",
    "    def move_up(self):\n",
    "        # Increment the y-position of the rocket.\n",
    "        self.y += 1"
   ]
  },
  {
   "cell_type": "code",
   "execution_count": 31,
   "id": "67d70f6a-98d7-4eb1-9e37-beb4cd3da3b3",
   "metadata": {},
   "outputs": [],
   "source": [
    "object = Rocket()"
   ]
  },
  {
   "cell_type": "code",
   "execution_count": 32,
   "id": "7c1c415d-5d7d-4892-9c1e-6b1f25f9022d",
   "metadata": {},
   "outputs": [
    {
     "data": {
      "text/plain": [
       "0"
      ]
     },
     "execution_count": 32,
     "metadata": {},
     "output_type": "execute_result"
    }
   ],
   "source": [
    "object.x"
   ]
  },
  {
   "cell_type": "code",
   "execution_count": 33,
   "id": "a41dd5f0-4c86-40d5-b272-94d380ea1154",
   "metadata": {},
   "outputs": [
    {
     "data": {
      "text/plain": [
       "0"
      ]
     },
     "execution_count": 33,
     "metadata": {},
     "output_type": "execute_result"
    }
   ],
   "source": [
    "object.y"
   ]
  },
  {
   "cell_type": "code",
   "execution_count": 34,
   "id": "7e4a9af4-a347-4a4e-b3f7-b32f23fbef5d",
   "metadata": {},
   "outputs": [],
   "source": [
    "object2 = Rocket(1, 3)"
   ]
  },
  {
   "cell_type": "code",
   "execution_count": 37,
   "id": "a8cdb295-0d3f-402c-84f9-c08d7bca7269",
   "metadata": {},
   "outputs": [
    {
     "data": {
      "text/plain": [
       "1"
      ]
     },
     "execution_count": 37,
     "metadata": {},
     "output_type": "execute_result"
    }
   ],
   "source": [
    "object2.x"
   ]
  },
  {
   "cell_type": "code",
   "execution_count": 38,
   "id": "9ec6392e-971a-4b06-908f-508eedd1a97e",
   "metadata": {},
   "outputs": [
    {
     "data": {
      "text/plain": [
       "3"
      ]
     },
     "execution_count": 38,
     "metadata": {},
     "output_type": "execute_result"
    }
   ],
   "source": [
    "object2.y"
   ]
  },
  {
   "cell_type": "code",
   "execution_count": 39,
   "id": "dfd99d92-a836-4942-b4e3-bd347de232e4",
   "metadata": {},
   "outputs": [
    {
     "data": {
      "text/plain": [
       "4"
      ]
     },
     "execution_count": 39,
     "metadata": {},
     "output_type": "execute_result"
    }
   ],
   "source": [
    "object2.move_up()\n",
    "object2.y"
   ]
  },
  {
   "cell_type": "code",
   "execution_count": 40,
   "id": "51adcbe0-8d00-49e8-b71b-41d3aa62d1f9",
   "metadata": {},
   "outputs": [],
   "source": [
    "rockets = []\n",
    "rockets.append(Rocket())\n",
    "rockets.append(Rocket(0, 10))\n",
    "rockets.append(Rocket(100, 0))"
   ]
  },
  {
   "cell_type": "code",
   "execution_count": 44,
   "id": "fc868b27-608e-4b8e-bef9-a72a3e6b8a7d",
   "metadata": {},
   "outputs": [],
   "source": [
    "class Rocket:\n",
    "    # Rocket simulates a rocket ship for a game,\n",
    "    # or a physics simulation.\n",
    "    \n",
    "    def __init__(self, x = 0, y = 0):\n",
    "        # Each rocket has an (x, y) position.\n",
    "        self.x = x\n",
    "        self.y = y\n",
    "        \n",
    "    def move_rocket(self, x_increment = 0, y_increment = 1):\n",
    "        # Move the rocket according to the parementers given.\n",
    "        # Default behavior is to move the rocket up one unit.\n",
    "        self.x += x_increment\n",
    "        self.y += y_increment"
   ]
  },
  {
   "cell_type": "code",
   "execution_count": 46,
   "id": "7d22369f-46d0-44fb-b4ef-a05cf2a7a546",
   "metadata": {},
   "outputs": [],
   "source": [
    "first_rocket = Rocket(8, 4)"
   ]
  },
  {
   "cell_type": "code",
   "execution_count": 48,
   "id": "63cd9522-8305-4d4c-9acd-0fddfc70798d",
   "metadata": {},
   "outputs": [
    {
     "name": "stdout",
     "output_type": "stream",
     "text": [
      "8\n",
      "4\n"
     ]
    }
   ],
   "source": [
    "print(first_rocket.x)\n",
    "print(first_rocket.y)"
   ]
  },
  {
   "cell_type": "code",
   "execution_count": 49,
   "id": "bdf24903-6e55-438d-aa87-fd79c2bdcc9a",
   "metadata": {},
   "outputs": [],
   "source": [
    "first_rocket.move_rocket(10, 15)"
   ]
  },
  {
   "cell_type": "code",
   "execution_count": 50,
   "id": "89ee1e30-dd67-4da0-9cb1-66dd0693393f",
   "metadata": {},
   "outputs": [
    {
     "name": "stdout",
     "output_type": "stream",
     "text": [
      "18\n",
      "19\n"
     ]
    }
   ],
   "source": [
    "print(first_rocket.x)\n",
    "print(first_rocket.y)"
   ]
  },
  {
   "cell_type": "code",
   "execution_count": 15,
   "id": "c95e281d-e134-48d6-ade5-c1021df1fa3e",
   "metadata": {},
   "outputs": [],
   "source": [
    "from math import sqrt\n",
    "\n",
    "class Rocket:\n",
    "    \n",
    "    def __init__(self, x = 0, y = 0):\n",
    "        self.x = x\n",
    "        self.y = y\n",
    "        \n",
    "    def move_rocket(self, x_increment = 0, y_increment = 1):\n",
    "        self.x += x_increment\n",
    "        self.y += y_increment\n",
    "        \n",
    "    def get_distance(self, other_rocket):\n",
    "        distance = sqrt(((self.x - other_rocket.x) ** 2) + ((self.y - other_rocket.y) ** 2))\n",
    "        return distance"
   ]
  },
  {
   "cell_type": "code",
   "execution_count": 2,
   "id": "4cbd1f76-acd0-41c5-8367-7962bf012720",
   "metadata": {},
   "outputs": [],
   "source": [
    "object1 = Rocket()"
   ]
  },
  {
   "cell_type": "code",
   "execution_count": 3,
   "id": "df0826d7-087c-4c04-b6df-8a1f83d87ac6",
   "metadata": {},
   "outputs": [
    {
     "name": "stdout",
     "output_type": "stream",
     "text": [
      "0\n",
      "0\n"
     ]
    }
   ],
   "source": [
    "print(object1.x)\n",
    "print(object1.y)"
   ]
  },
  {
   "cell_type": "code",
   "execution_count": 4,
   "id": "fd0b35e8-8187-43d7-98e5-d07fc15ffe63",
   "metadata": {},
   "outputs": [],
   "source": [
    "object2 = Rocket(10, 53)"
   ]
  },
  {
   "cell_type": "code",
   "execution_count": 5,
   "id": "9223c485-5698-4978-87ea-a430568c41ac",
   "metadata": {},
   "outputs": [
    {
     "name": "stdout",
     "output_type": "stream",
     "text": [
      "10\n",
      "53\n"
     ]
    }
   ],
   "source": [
    "print(object2.x)\n",
    "print(object2.y)"
   ]
  },
  {
   "cell_type": "code",
   "execution_count": 6,
   "id": "8ce10ee3-6eec-47bc-8697-edd4c4940cac",
   "metadata": {},
   "outputs": [],
   "source": [
    "object1.move_rocket()"
   ]
  },
  {
   "cell_type": "code",
   "execution_count": 7,
   "id": "9ef3f87e-0d61-4bd1-80c2-392f5c351ad5",
   "metadata": {},
   "outputs": [
    {
     "name": "stdout",
     "output_type": "stream",
     "text": [
      "0\n",
      "1\n"
     ]
    }
   ],
   "source": [
    "print(object1.x)\n",
    "print(object1.y)"
   ]
  },
  {
   "cell_type": "code",
   "execution_count": 8,
   "id": "8334c9e7-611d-4c43-af9c-cd43744fbbde",
   "metadata": {},
   "outputs": [],
   "source": [
    "object2.move_rocket(5, 0)"
   ]
  },
  {
   "cell_type": "code",
   "execution_count": 9,
   "id": "c3589645-2d02-4e1e-bc30-b13ba1054bad",
   "metadata": {},
   "outputs": [
    {
     "name": "stdout",
     "output_type": "stream",
     "text": [
      "15\n",
      "53\n"
     ]
    }
   ],
   "source": [
    "print(object2.x)\n",
    "print(object2.y)"
   ]
  },
  {
   "cell_type": "code",
   "execution_count": 10,
   "id": "4a83a95d-1f8a-410f-9172-bd021df4dc5f",
   "metadata": {},
   "outputs": [],
   "source": [
    "object2.move_rocket(-10, -28)"
   ]
  },
  {
   "cell_type": "code",
   "execution_count": 11,
   "id": "422da4a6-b3d6-4cbe-8396-2a6b1b46a3f4",
   "metadata": {},
   "outputs": [
    {
     "name": "stdout",
     "output_type": "stream",
     "text": [
      "5\n",
      "25\n"
     ]
    }
   ],
   "source": [
    "print(object2.x)\n",
    "print(object2.y)"
   ]
  },
  {
   "cell_type": "code",
   "execution_count": 14,
   "id": "e346eb4a-572c-433e-9258-587bf96848fa",
   "metadata": {},
   "outputs": [
    {
     "data": {
      "text/plain": [
       "24.515301344262525"
      ]
     },
     "execution_count": 14,
     "metadata": {},
     "output_type": "execute_result"
    }
   ],
   "source": [
    "object1.get_distance(object2)"
   ]
  },
  {
   "cell_type": "code",
   "execution_count": 16,
   "id": "eb9ff741-7b67-4d28-860e-21e20cd959ff",
   "metadata": {},
   "outputs": [],
   "source": [
    "object3 = Rocket(372, 7849)\n",
    "object4 = Rocket(68, 37)"
   ]
  },
  {
   "cell_type": "code",
   "execution_count": 17,
   "id": "19f4cb6d-5b77-4cf8-855c-cf6b701c5bb2",
   "metadata": {},
   "outputs": [],
   "source": [
    "object3.move_rocket(-298, 87)\n",
    "object4.move_rocket(3198, -289)"
   ]
  },
  {
   "cell_type": "code",
   "execution_count": 18,
   "id": "165a004b-c8c9-4435-8404-3efa1b445f56",
   "metadata": {},
   "outputs": [
    {
     "data": {
      "text/plain": [
       "8788.185705821197"
      ]
     },
     "execution_count": 18,
     "metadata": {},
     "output_type": "execute_result"
    }
   ],
   "source": [
    "object3.get_distance(object4)"
   ]
  },
  {
   "cell_type": "code",
   "execution_count": 20,
   "id": "53062676-aa1f-4966-861b-0c63603e9459",
   "metadata": {},
   "outputs": [],
   "source": [
    "from math import sqrt\n",
    "\n",
    "class Rocket:\n",
    "    \n",
    "    def __init__(self, x = 0, y = 0):\n",
    "        self.x = x\n",
    "        self.y = y\n",
    "        \n",
    "    def move_rocket(self, change_x = 0, change_y = 1):\n",
    "        self.x += change_x\n",
    "        self.y += change_y\n",
    "        \n",
    "    def get_distance(self, second_rocket):\n",
    "        distance = sqrt((self.x - second_rocket.x) ** 2 + (self.y - other_rocket.y) ** 2)\n",
    "        return distance"
   ]
  },
  {
   "cell_type": "code",
   "execution_count": 57,
   "id": "2d3aa1da-0158-422e-992e-cb1395221ac8",
   "metadata": {},
   "outputs": [],
   "source": [
    "from math import sqrt\n",
    "\n",
    "class Rocket:\n",
    "    \n",
    "    def __init__(self, \n",
    "                 x = 0, \n",
    "                 y = 0, \n",
    "                 h = 100, \n",
    "                 c = 10, \n",
    "                 n = 'rocket', \n",
    "                 s = 1000):\n",
    "        self.x = x\n",
    "        self.y = y\n",
    "        self.h = h\n",
    "        self.c = c\n",
    "        self.n = n\n",
    "        self.s = s\n",
    "        \n",
    "    def move_rocket(self, \n",
    "                    change_x = 0, \n",
    "                    change_y = 1, \n",
    "                    change_h = 0, \n",
    "                    change_c = 0, \n",
    "                    change_n = '', \n",
    "                    change_s = 0):\n",
    "        self.x += change_x\n",
    "        self.y += change_y\n",
    "        self.h = change_h\n",
    "        self.c = change_c\n",
    "        self.n = change_n\n",
    "        self.s = change_s\n",
    "        \n",
    "    def get_distance(self, second_rocket):\n",
    "        distance = sqrt((self.x - second_rocket.x) ** 2 + (self.y - other_rocket.y) ** 2)\n",
    "        return distance"
   ]
  },
  {
   "cell_type": "code",
   "execution_count": 58,
   "id": "1c3bc9c6-2134-4122-a8f3-f87fd5fd8963",
   "metadata": {},
   "outputs": [],
   "source": [
    "rocket1 = Rocket()\n",
    "rocket2 = Rocket(1203, 893, 120, 6, 'rocket 2', 1212)"
   ]
  },
  {
   "cell_type": "code",
   "execution_count": 59,
   "id": "066190a1-a38f-4bfe-a449-3cb0d2b85f78",
   "metadata": {},
   "outputs": [
    {
     "name": "stdout",
     "output_type": "stream",
     "text": [
      "1. 0 \n",
      "2. 0 \n",
      "3. 100 \n",
      "4. 10 \n",
      "5. rocket \n",
      "6. 1000\n",
      "\n",
      "\n",
      "1. 1203 \n",
      "2. 893 \n",
      "3. 120 \n",
      "4. 6 \n",
      "5. rocket 2 \n",
      "6. 1212\n"
     ]
    }
   ],
   "source": [
    "print(\n",
    "    f\"\"\"1. {rocket1.x} \n",
    "2. {rocket1.y} \n",
    "3. {rocket1.h} \n",
    "4. {rocket1.c} \n",
    "5. {rocket1.n} \n",
    "6. {rocket1.s}\"\"\"\n",
    ")\n",
    "\n",
    "print('\\n')\n",
    "\n",
    "print(\n",
    "    f\"\"\"1. {rocket2.x} \n",
    "2. {rocket2.y} \n",
    "3. {rocket2.h} \n",
    "4. {rocket2.c} \n",
    "5. {rocket2.n} \n",
    "6. {rocket2.s}\"\"\"\n",
    ")"
   ]
  },
  {
   "cell_type": "code",
   "execution_count": 60,
   "id": "9d5dfa24-280e-4a5a-98d1-1efa62ef5fb1",
   "metadata": {},
   "outputs": [],
   "source": [
    "rocket1.move_rocket()\n",
    "rocket2.move_rocket(132, 87, 2, 1, 'rocket 2.1', 1213)"
   ]
  },
  {
   "cell_type": "code",
   "execution_count": 61,
   "id": "65d43300-d452-4e32-9dad-5419e2c3de3b",
   "metadata": {},
   "outputs": [
    {
     "name": "stdout",
     "output_type": "stream",
     "text": [
      "1. 0 \n",
      "2. 1 \n",
      "3. 0 \n",
      "4. 0 \n",
      "5.  \n",
      "6. 0\n",
      "\n",
      "\n",
      "1. 1335 \n",
      "2. 980 \n",
      "3. 2 \n",
      "4. 1 \n",
      "5. rocket 2.1 \n",
      "6. 1213\n"
     ]
    }
   ],
   "source": [
    "print(\n",
    "    f\"\"\"1. {rocket1.x} \n",
    "2. {rocket1.y} \n",
    "3. {rocket1.h} \n",
    "4. {rocket1.c} \n",
    "5. {rocket1.n} \n",
    "6. {rocket1.s}\"\"\"\n",
    ")\n",
    "\n",
    "print('\\n')\n",
    "\n",
    "print(\n",
    "    f\"\"\"1. {rocket2.x} \n",
    "2. {rocket2.y} \n",
    "3. {rocket2.h} \n",
    "4. {rocket2.c} \n",
    "5. {rocket2.n} \n",
    "6. {rocket2.s}\"\"\"\n",
    ")"
   ]
  },
  {
   "cell_type": "code",
   "execution_count": 3,
   "id": "165c5119-6072-4206-a4a6-05aaf2f0abdb",
   "metadata": {},
   "outputs": [],
   "source": [
    "class Person:\n",
    "    \n",
    "    def __init__(self, name, age, birthplace, city, function):\n",
    "        self.name = name\n",
    "        self.age = age\n",
    "        self.birthplace = birthplace\n",
    "        self.city = city\n",
    "        self.function = function\n",
    "    \n",
    "    def introduce_yourself(self):\n",
    "        print(f'Hello, my name is {self.name}. I am {self.age} years old. '\n",
    "              f'I was born in {self.birthplace} and live now in {self.city}. '\n",
    "              f'My function is {self.function}.')\n",
    "        \n",
    "    def age_person(self, incr_age = 1):\n",
    "        self.age += incr_age\n",
    "        print(f'{self.name} is now {self.age} years old.')"
   ]
  },
  {
   "cell_type": "code",
   "execution_count": 73,
   "id": "00689f31-e304-4369-a249-f5818fd3a2f6",
   "metadata": {},
   "outputs": [],
   "source": [
    "person1 = Person('Alex', 29, 'Rome', 'Naples', 'Accountant')"
   ]
  },
  {
   "cell_type": "code",
   "execution_count": 74,
   "id": "e6ada455-0b39-4fb6-9d9a-d88323d1fca0",
   "metadata": {},
   "outputs": [
    {
     "name": "stdout",
     "output_type": "stream",
     "text": [
      "Hello, my name is Alex. I am 29 years old. I was born in Rome and live now in Naples. My function is Accountant.\n"
     ]
    }
   ],
   "source": [
    "person1.introduce_yourself()"
   ]
  },
  {
   "cell_type": "code",
   "execution_count": 75,
   "id": "316850bc-85f8-4ae4-9d7e-891151d11edb",
   "metadata": {},
   "outputs": [
    {
     "name": "stdout",
     "output_type": "stream",
     "text": [
      "Alex is now 30 years old.\n"
     ]
    }
   ],
   "source": [
    "person1.age_person()"
   ]
  },
  {
   "cell_type": "code",
   "execution_count": 79,
   "id": "a54f1013-774b-479d-a8c3-b4b1d673e097",
   "metadata": {},
   "outputs": [
    {
     "name": "stdout",
     "output_type": "stream",
     "text": [
      "Hello, my name is John. I am 35 years old. I was born in Tokyo and live now in Kyoto. My function is Senior Manager.\n",
      "\n",
      "\n",
      "John is now 36 years old.\n"
     ]
    }
   ],
   "source": [
    "person2 = Person('John', 35, 'Tokyo', 'Kyoto', 'Senior Manager')\n",
    "person2.introduce_yourself()\n",
    "print('\\n')\n",
    "person2.age_person()"
   ]
  },
  {
   "cell_type": "code",
   "execution_count": 117,
   "id": "02b3fe80-f588-46aa-a4d2-cfb965dc1358",
   "metadata": {},
   "outputs": [],
   "source": [
    "class Car:\n",
    "    \n",
    "    def __init__(self, brand, model, year, num_doors, owner, mileage):\n",
    "        self.brand = brand\n",
    "        self.model = model\n",
    "        self.year = year\n",
    "        self.num_doors = num_doors\n",
    "        self.owner = owner\n",
    "        self.mileage = mileage\n",
    "        \n",
    "    def describe_car(self):\n",
    "        print(f\"It is a {self.brand} {self.model} from {self.year}. It has {self.num_doors} doors \"\n",
    "              f\"and its' owner is {self.owner}. Its' mileage is {self.mileage} km.\")\n",
    "        \n",
    "    def newest_mileage(self, mileage_increase = 5000):\n",
    "        self.mileage += mileage_increase\n",
    "        print(f'{self.owner} drove {mileage_increase} since the last check. '\n",
    "              f'Current mileage is {self.mileage}.')"
   ]
  },
  {
   "cell_type": "code",
   "execution_count": 118,
   "id": "b8e50588-7306-40c9-bb09-476ab307774b",
   "metadata": {},
   "outputs": [],
   "source": [
    "car1 = Car('Subaru', 'Outback', 2013, 4, 'John Track', 50231)"
   ]
  },
  {
   "cell_type": "code",
   "execution_count": 119,
   "id": "38285f2a-a684-4616-9bb9-8c9a8ba3e6da",
   "metadata": {},
   "outputs": [
    {
     "name": "stdout",
     "output_type": "stream",
     "text": [
      "It is a Subaru Outback from 2013. It has 4 doors and its' owner is John Track. Its' mileage is 50231 km.\n"
     ]
    }
   ],
   "source": [
    "car1.describe_car()"
   ]
  },
  {
   "cell_type": "code",
   "execution_count": 120,
   "id": "05f85712-09cf-4c0b-b023-a0f74f6929e2",
   "metadata": {},
   "outputs": [
    {
     "name": "stdout",
     "output_type": "stream",
     "text": [
      "John Track drove 7809 since the last check. Current mileage is 58040.\n"
     ]
    }
   ],
   "source": [
    "car1.newest_mileage(7809)"
   ]
  },
  {
   "cell_type": "code",
   "execution_count": 1,
   "id": "5db77a71-c5b7-4cfd-a6ba-3725a95eb2e5",
   "metadata": {},
   "outputs": [
    {
     "name": "stdout",
     "output_type": "stream",
     "text": [
      "My car is a Toyota Camry.\n",
      "The Toyota is being driven.\n",
      "The Toyota Camry is honking.\n"
     ]
    }
   ],
   "source": [
    "class Vehicle:\n",
    "    def __init__(self, brand):\n",
    "        self.brand = brand\n",
    "\n",
    "    def drive(self):\n",
    "        print(f\"The {self.brand} is being driven.\")\n",
    "\n",
    "class Car(Vehicle):\n",
    "    def __init__(self, brand, model):\n",
    "        super().__init__(brand)\n",
    "        self.model = model\n",
    "\n",
    "    def honk(self):\n",
    "        print(f\"The {self.brand} {self.model} is honking.\")\n",
    "\n",
    "# Create an instance of the Car class\n",
    "my_car = Car(\"Toyota\", \"Camry\")\n",
    "\n",
    "# Access attributes and call methods from both the parent and child class\n",
    "print(f\"My car is a {my_car.brand} {my_car.model}.\")\n",
    "my_car.drive()\n",
    "my_car.honk()"
   ]
  },
  {
   "cell_type": "code",
   "execution_count": null,
   "id": "90bb747f-d252-43fb-bb19-f7fd9f6b8c07",
   "metadata": {},
   "outputs": [],
   "source": [
    "from math import sqrt\n",
    "\n",
    "class Rocket:\n",
    "    # Rocket simulates a rocket ship for a game,\n",
    "    # or a physics simulation.\n",
    "    \n",
    "    def __init__(self, x = 0, y = 0):\n",
    "        # Each rocket has an (x, y) position.\n",
    "        self.x = x\n",
    "        self.y = y\n",
    "    \n",
    "    def move_rocket(self, x_increment = 0, y_increment = 1):\n",
    "        # Move the rocket according to the parameters given.\n",
    "        # Default behavior is to move the rocket up one unit.\n",
    "        self.x += x_increment\n",
    "        self.y += y_increment\n",
    "        \n",
    "    def get_distance(self, other_rocket):\n",
    "        # Calculates the distance from this rocket to another ricket,\n",
    "        # and returns that value.\n",
    "        distance = sqrt((self.x - other_rocket.x) ** 2 + (self.y - other_rocket.y) ** 2)\n",
    "\n",
    "class Shuttle(Rocket):\n",
    "    # Shuttle simulates a space shuttle, which is really\n",
    "    # just a reusable rocket.\n",
    "    \n",
    "    def __init__(self, x = 0, y = 0, flights_completed = 0):\n",
    "        super().__init__(x, y)\n",
    "        self.flights_completed = flights_completed"
   ]
  },
  {
   "cell_type": "code",
   "execution_count": 4,
   "id": "757b4208-929c-4a67-a604-411e33a82cb9",
   "metadata": {},
   "outputs": [],
   "source": [
    "class Student(Person):\n",
    "    \n",
    "    def __init__(self, name, age, birthplace, city, function, university, graduated, gpa):\n",
    "        super().__init__(name, age, birthplace, city, function)\n",
    "        self.university = university\n",
    "        self.graduated = graduated\n",
    "        self.gpa = gpa"
   ]
  },
  {
   "cell_type": "code",
   "execution_count": 5,
   "id": "30369a79-a458-4c78-b3d0-44cff5d50d93",
   "metadata": {},
   "outputs": [],
   "source": [
    "student1 = Student('Louis', 25, 'Manchester', 'London', 'HR support', 'LSE', '2023', '7.5')"
   ]
  },
  {
   "cell_type": "code",
   "execution_count": 6,
   "id": "84c3ca00-7f46-4571-8cd9-3d1f9d1c1c87",
   "metadata": {},
   "outputs": [
    {
     "name": "stdout",
     "output_type": "stream",
     "text": [
      "Hello, my name is Louis. I am 25 years old. I was born in Manchester and live now in London. My function is HR support.\n"
     ]
    }
   ],
   "source": [
    "student1.introduce_yourself()"
   ]
  },
  {
   "cell_type": "code",
   "execution_count": 7,
   "id": "cfb3df55-6b3b-40b0-a468-d49da388f66a",
   "metadata": {},
   "outputs": [
    {
     "name": "stdout",
     "output_type": "stream",
     "text": [
      "Louis is now 26 years old.\n"
     ]
    }
   ],
   "source": [
    "student1.age_person()"
   ]
  },
  {
   "cell_type": "code",
   "execution_count": 11,
   "id": "4976b0a9-487c-4c0b-91d1-68874b9c32a5",
   "metadata": {},
   "outputs": [
    {
     "name": "stdout",
     "output_type": "stream",
     "text": [
      "Louis graduated in 2023 from LSE with a 7.5 GPA.\n"
     ]
    }
   ],
   "source": [
    "print(f'{student1.name} graduated in {student1.graduated} '\n",
    "      f'from {student1.university} with a {student1.gpa} GPA.')"
   ]
  },
  {
   "cell_type": "code",
   "execution_count": 13,
   "id": "71068256-c050-4ed6-871c-fd9ece44eb4a",
   "metadata": {},
   "outputs": [],
   "source": [
    "from random import randint"
   ]
  },
  {
   "cell_type": "code",
   "execution_count": 14,
   "id": "5694bed4-0354-44ce-8126-5030d7bce4c2",
   "metadata": {},
   "outputs": [
    {
     "data": {
      "text/plain": [
       "2"
      ]
     },
     "execution_count": 14,
     "metadata": {},
     "output_type": "execute_result"
    }
   ],
   "source": [
    "num1 = randint(0, 2)\n",
    "num1"
   ]
  },
  {
   "cell_type": "code",
   "execution_count": 16,
   "id": "25b2803e-c7c5-4d48-a61b-7e546f1b15d1",
   "metadata": {},
   "outputs": [
    {
     "data": {
      "text/plain": [
       "1"
      ]
     },
     "execution_count": 16,
     "metadata": {},
     "output_type": "execute_result"
    }
   ],
   "source": [
    "num2 = randint(0, 2)\n",
    "num2"
   ]
  },
  {
   "cell_type": "code",
   "execution_count": 17,
   "id": "d0887204-6c6d-47b5-8313-6caf30516fed",
   "metadata": {},
   "outputs": [
    {
     "data": {
      "text/plain": [
       "2"
      ]
     },
     "execution_count": 17,
     "metadata": {},
     "output_type": "execute_result"
    }
   ],
   "source": [
    "num3 = randint(0, 2)\n",
    "num3"
   ]
  },
  {
   "cell_type": "code",
   "execution_count": 18,
   "id": "1c0a9cbf-3069-4185-b76d-eb26de73d5aa",
   "metadata": {},
   "outputs": [
    {
     "data": {
      "text/plain": [
       "0"
      ]
     },
     "execution_count": 18,
     "metadata": {},
     "output_type": "execute_result"
    }
   ],
   "source": [
    "num4 = randint(0, 2)\n",
    "num4"
   ]
  },
  {
   "cell_type": "markdown",
   "id": "82a0dda4-ee91-48df-ba68-50317581bc16",
   "metadata": {},
   "source": [
    "<h2>3.2 Modules and classes</h2>"
   ]
  },
  {
   "cell_type": "code",
   "execution_count": null,
   "id": "2158d79f-b7ee-4016-914c-838b719ee772",
   "metadata": {},
   "outputs": [],
   "source": []
  }
 ],
 "metadata": {
  "kernelspec": {
   "display_name": "Python 3 (ipykernel)",
   "language": "python",
   "name": "python3"
  },
  "language_info": {
   "codemirror_mode": {
    "name": "ipython",
    "version": 3
   },
   "file_extension": ".py",
   "mimetype": "text/x-python",
   "name": "python",
   "nbconvert_exporter": "python",
   "pygments_lexer": "ipython3",
   "version": "3.9.13"
  }
 },
 "nbformat": 4,
 "nbformat_minor": 5
}
