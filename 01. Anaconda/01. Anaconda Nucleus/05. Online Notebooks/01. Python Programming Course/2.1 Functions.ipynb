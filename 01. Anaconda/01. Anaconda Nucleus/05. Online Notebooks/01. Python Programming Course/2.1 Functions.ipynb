{
 "cells": [
  {
   "cell_type": "markdown",
   "metadata": {
    "slideshow": {
     "slide_type": "slide"
    }
   },
   "source": [
    "# Functions"
   ]
  },
  {
   "cell_type": "markdown",
   "metadata": {
    "slideshow": {
     "slide_type": "subslide"
    }
   },
   "source": [
    "One of the core principles of any programming language is, **\"Don't Repeat Yourself\"**. \n",
    "\n",
    "If you have an action that should occur many times, you can define that action once and then call that code whenever you need to carry out that action.\n",
    "\n",
    "We are already repeating ourselves in our code, so this is a good time to introduce simple functions. Functions mean less work for us as programmers, and effective use of functions results in code that is less error-prone."
   ]
  },
  {
   "cell_type": "markdown",
   "metadata": {},
   "source": [
    "So far, we have only been using the functions that come with Python, but it is also possible to **add new functions**. \n",
    "\n",
    "A **function definition** specifies the name of a new function and the sequence of statements that execute when the function is called.\n"
   ]
  },
  {
   "cell_type": "markdown",
   "metadata": {
    "slideshow": {
     "slide_type": "subslide"
    }
   },
   "source": [
    "<a name='general_syntax'></a>General Syntax\n",
    "---\n",
    "A general function looks something like this:"
   ]
  },
  {
   "cell_type": "markdown",
   "metadata": {
    "slideshow": {
     "slide_type": "fragment"
    }
   },
   "source": [
    "```python\n",
    "# Let's define a function.\n",
    "def function_name(argument_1, argument_2):\n",
    "    # Do whatever we want this function to do,\n",
    "    #  using argument_1 and argument_2\n",
    "\n",
    "# Use function_name to call the function.\n",
    "function_name(value_1, value_2)\n",
    "```"
   ]
  },
  {
   "cell_type": "markdown",
   "metadata": {
    "slideshow": {
     "slide_type": "subslide"
    }
   },
   "source": [
    "This code will not run, but it shows how functions are used in general."
   ]
  },
  {
   "cell_type": "markdown",
   "metadata": {
    "slideshow": {
     "slide_type": "fragment"
    }
   },
   "source": [
    "- **Defining a function**\n",
    "    - Give the keyword `def`, which tells Python that you are about to *define* a function.\n",
    "    - Give your function a name. A variable name tells you what kind of value the variable contains; a function name should tell you what the function does.\n",
    "    - Give names for each value the function needs in order to do its work.\n",
    "        - These are basically variable names, but they are only used in the function.\n",
    "        - They can be different names than what you use in the rest of your program.\n",
    "        - These are called the function's *arguments*.\n",
    "    - Make sure the function definition line ends with a colon.\n",
    "    - Inside the function, write whatever code you need to make the function do its work."
   ]
  },
  {
   "cell_type": "markdown",
   "metadata": {
    "slideshow": {
     "slide_type": "fragment"
    }
   },
   "source": [
    "- **Using your function**\n",
    "    - To *call* your function, write its name followed by parentheses.\n",
    "    - Inside the parentheses, give the values you want the function to work with.\n",
    "        - These can be variables such as `current_name` and `current_age`, or they can be actual values such as 'eric' and 5."
   ]
  },
  {
   "cell_type": "markdown",
   "metadata": {
    "slideshow": {
     "slide_type": "subslide"
    }
   },
   "source": [
    "---\n",
    "\n",
    "<div class=\"alert alert-info\">\n",
    "    <strong>NOTE</strong>\n",
    "    </div>\n",
    "\n",
    "From now on, in the code snippets you would rarely see the `>>>` characters.\n",
    "This is because we will now switch to the **script** mode. \n",
    "\n",
    "So, in these cases you are supposed to follow the five steps reported below:\n",
    "\n",
    "1. Open your code editor\n",
    "2. Create a new Python file called the way you fancy the most (e.g. `functions.py` in this case)\n",
    "3. Write the instructions in the file (Python module)\n",
    "4. Save the file\n",
    "5. **Execute** your code: In the terminal prompt type \n",
    "\n",
    "`$ python functions.py` (for example)\n",
    "\n",
    "\n",
    "---"
   ]
  },
  {
   "cell_type": "markdown",
   "metadata": {
    "slideshow": {
     "slide_type": "slide"
    }
   },
   "source": [
    "<a name='examples'></a>Basic Examples\n",
    "===\n",
    "For a simple first example, we will look at a program that compliments people. Let's look at the example, and then try to understand the code. First we will look at a version of this program as we would have written it earlier, with no functions."
   ]
  },
  {
   "cell_type": "code",
   "execution_count": null,
   "metadata": {
    "slideshow": {
     "slide_type": "subslide"
    }
   },
   "outputs": [],
   "source": [
    "print(\"You are doing good work, Adriana!\")\n",
    "print(\"Thank you very much for your efforts on this project.\")\n",
    "\n",
    "print(\"\\nYou are doing good work, Billy!\")\n",
    "print(\"Thank you very much for your efforts on this project.\")\n",
    "\n",
    "print(\"\\nYou are doing good work, Caroline!\")\n",
    "print(\"Thank you very much for your efforts on this project.\")"
   ]
  },
  {
   "cell_type": "markdown",
   "metadata": {
    "slideshow": {
     "slide_type": "subslide"
    }
   },
   "source": [
    "Functions take repeated code, put it in one place, and then you call that code when you want to use it. Here's what the same program looks like with a function."
   ]
  },
  {
   "cell_type": "code",
   "execution_count": null,
   "metadata": {
    "slideshow": {
     "slide_type": "fragment"
    }
   },
   "outputs": [],
   "source": [
    "\n",
    "def thank_you(name):\n",
    "    # This function prints a two-line personalized thank you message.\n",
    "    print(\"\\nYou are doing good work \", name)\n",
    "    print(\"Thank you very much for your efforts on this project.\")\n",
    "    \n",
    "thank_you('Adriana')\n",
    "thank_you('Billy')\n",
    "thank_you('Caroline')\n"
   ]
  },
  {
   "cell_type": "markdown",
   "metadata": {
    "slideshow": {
     "slide_type": "subslide"
    }
   },
   "source": [
    "In our original code, each pair of print statements was run three times, and the only difference was the name of the person being thanked. When you see repetition like this, you can usually make your program more efficient by defining a function."
   ]
  },
  {
   "cell_type": "markdown",
   "metadata": {
    "slideshow": {
     "slide_type": "fragment"
    }
   },
   "source": [
    "The keyword *def* tells Python that we are about to define a function. We give our function a name, *thank\\_you()* in this case. A variable's name should tell us what kind of information it holds; a function's name should tell us what the variable does.  We then put parentheses. Inside these parenthese we create variable names for any variable the function will need to be given in order to do its job. In this case the function will need a name to include in the thank you message. The variable `name` will hold the value that is passed into the function *thank\\_you()*."
   ]
  },
  {
   "cell_type": "markdown",
   "metadata": {
    "slideshow": {
     "slide_type": "fragment"
    }
   },
   "source": [
    "To use a function we give the function's name, and then put any values the function needs in order to do its work. In this case we call the function three times, each time passing it a different name."
   ]
  },
  {
   "cell_type": "markdown",
   "metadata": {
    "slideshow": {
     "slide_type": "subslide"
    }
   },
   "source": [
    "### A common error\n",
    "A function must be defined before you use it in your program. For example, putting the function at the end of the program would not work."
   ]
  },
  {
   "cell_type": "code",
   "execution_count": null,
   "metadata": {
    "slideshow": {
     "slide_type": "fragment"
    }
   },
   "outputs": [],
   "source": [
    "thank_you('Adriana')\n",
    "thank_you('Billy')\n",
    "thank_you('Caroline')\n",
    "\n",
    "def thank_you(name):\n",
    "    # This function prints a two-line personalized thank you message.\n",
    "    print(\"\\nYou are doing good work \", name)\n",
    "    print(\"Thank you very much for your efforts on this project.\")"
   ]
  },
  {
   "cell_type": "markdown",
   "metadata": {
    "slideshow": {
     "slide_type": "fragment"
    }
   },
   "source": [
    "On the first line we ask Python to run the function *thank\\_you()*, but Python does not yet know how to do this function. We define our functions at the beginning of our programs, and then we can use them when we need to."
   ]
  },
  {
   "cell_type": "markdown",
   "metadata": {
    "slideshow": {
     "slide_type": "subslide"
    }
   },
   "source": [
    "### Advantages of using functions\n",
    "You might be able to see some advantages of using functions, through this example:\n",
    "\n",
    "- We write a set of instructions once. We save some work in this simple example, and we save even more work in larger programs."
   ]
  },
  {
   "cell_type": "markdown",
   "metadata": {
    "slideshow": {
     "slide_type": "fragment"
    }
   },
   "source": [
    "- When our function works, we don't have to worry about that code anymore. Every time you repeat code in your program, you introduce an opportunity to make a mistake. Writing a function means there is one place to fix mistakes, and when those bugs are fixed, we can be confident that this function will continue to work correctly."
   ]
  },
  {
   "cell_type": "markdown",
   "metadata": {
    "slideshow": {
     "slide_type": "fragment"
    }
   },
   "source": [
    "- We can modify our function's behavior, and that change takes effect every time the function is called. This is much better than deciding we need some new behavior, and then having to change code in many different places in our program."
   ]
  },
  {
   "cell_type": "markdown",
   "metadata": {
    "slideshow": {
     "slide_type": "subslide"
    }
   },
   "source": [
    "<a name='return_value'></a>Returning a Value\n",
    "---\n",
    "Each function you create can return a value. This can be in addition to the primary work the function does, or it can be the function's main job. The following function takes in a number, and returns the corresponding word for that number:"
   ]
  },
  {
   "cell_type": "markdown",
   "metadata": {
    "slideshow": {
     "slide_type": "fragment"
    }
   },
   "source": [
    "```python\n",
    "def get_number_word(number):\n",
    "    # Takes in a numerical value, and returns\n",
    "    #  the word corresponding to that number.\n",
    "    if number == 1:\n",
    "        return 'one'\n",
    "    elif number == 2:\n",
    "        return 'two'\n",
    "    elif number == 3:\n",
    "        return 'three'\n",
    "    # ...\n",
    "```"
   ]
  },
  {
   "cell_type": "markdown",
   "metadata": {
    "slideshow": {
     "slide_type": "fragment"
    }
   },
   "source": [
    "It's helpful sometimes to see programs that don't quite work as they are supposed to, and then see how those programs can be improved. \n",
    "\n",
    "In this case, there are no Python errors; all of the code has proper Python syntax. \n",
    "\n",
    "But there is a logical error, in the first line of the output."
   ]
  },
  {
   "cell_type": "markdown",
   "metadata": {
    "slideshow": {
     "slide_type": "subslide"
    }
   },
   "source": [
    "We want to either not include `0` in the range we send to the function, or have the function return something other than `None` when it receives a value that it doesn't know.\n",
    "\n",
    "Let's teach our function the word 'zero', but let's also add an `else` clause that returns a more informative message for numbers that are not in the if-chain."
   ]
  },
  {
   "cell_type": "code",
   "execution_count": null,
   "metadata": {
    "slideshow": {
     "slide_type": "fragment"
    }
   },
   "outputs": [],
   "source": [
    "\n",
    "def get_number_word(number):\n",
    "    # Takes in a numerical value, and returns\n",
    "    #  the word corresponding to that number.\n",
    "    if number == 0:\n",
    "        return 'zero'\n",
    "    elif number == 1:\n",
    "        return 'one'\n",
    "    elif number == 2:\n",
    "        return 'two'\n",
    "    elif number == 3:\n",
    "        return 'three'\n",
    "    else:\n",
    "        return \"I'm sorry, I don't know that number.\"\n"
   ]
  },
  {
   "cell_type": "markdown",
   "metadata": {
    "slideshow": {
     "slide_type": "subslide"
    }
   },
   "source": [
    "If you use a return statement in one of your functions, keep in mind that the function stops executing as soon as it hits a return statement. For example, we can add a line to the *get\\_number\\_word()* function that will never execute, because it comes after the function has returned a value:"
   ]
  },
  {
   "cell_type": "markdown",
   "metadata": {
    "slideshow": {
     "slide_type": "subslide"
    }
   },
   "source": [
    "More in the next sections\n",
    "---\n",
    "There is much more to learn about functions, but we will get to those details later. For now, feel free to use functions whenever you find yourself writing the same code several times in a program. Some of the things you will learn when we focus on functions:\n",
    "\n",
    "- How to give the arguments in your function default values.\n",
    "- How to let your functions accept different numbers of arguments."
   ]
  },
  {
   "cell_type": "markdown",
   "metadata": {
    "slideshow": {
     "slide_type": "slide"
    }
   },
   "source": [
    "<a name='exercises'></a>Exercises\n",
    "---\n",
    "#### Greeter\n",
    "- Write a function that takes in a person's name, and prints out a greeting.\n",
    "    - The greeting must be at least three lines, and the person's name must be in each line.\n",
    "- Use your function to greet at least three different people.\n",
    "- **Bonus:** Store your three people in a list, and call your function from a `for` loop.\n",
    "\n",
    "#### Full Names\n",
    "- Write a function that takes in a first name and a last name, and prints out a nicely formatted full name, in a sentence. Your sentence could be as simple as, \"Hello, *full\\_name*.\"\n",
    "- Call your function three times, with a different name each time.\n",
    "\n",
    "#### Addition Calculator\n",
    "- Write a function that takes in two numbers, and adds them together. Make your function print out a sentence showing the two numbers, and the result.\n",
    "- Call your function with three different sets of numbers.\n",
    "\n",
    "#### Return Calculator\n",
    "- Modify *Addition Calculator* so that your function returns the sum of the two numbers. The printing should happen outside of the function."
   ]
  },
  {
   "cell_type": "markdown",
   "metadata": {
    "slideshow": {
     "slide_type": "skip"
    }
   },
   "source": [
    "---"
   ]
  },
  {
   "cell_type": "markdown",
   "metadata": {
    "slideshow": {
     "slide_type": "subslide"
    }
   },
   "source": [
    "In previous sections, we learnt the most bare-boned versions of functions. \n",
    "\n",
    "Now we will learn more general concepts about functions, like how to handle parameters in functions."
   ]
  },
  {
   "cell_type": "markdown",
   "metadata": {
    "slideshow": {
     "slide_type": "slide"
    }
   },
   "source": [
    "### Default argument values\n",
    "\n",
    "When we first introduced functions, we started with this example:"
   ]
  },
  {
   "cell_type": "code",
   "execution_count": null,
   "metadata": {
    "slideshow": {
     "slide_type": "fragment"
    }
   },
   "outputs": [],
   "source": [
    "\n",
    "def thank_you(name):\n",
    "    # This function prints a two-line personalized thank you message.\n",
    "    print(\"\\nYou are doing good work \", name)\n",
    "    print(\"Thank you very much for your efforts on this project.\")\n",
    "    \n",
    "thank_you('Adriana')\n",
    "thank_you('Billy')\n",
    "thank_you('Caroline')\n"
   ]
  },
  {
   "cell_type": "markdown",
   "metadata": {
    "slideshow": {
     "slide_type": "subslide"
    }
   },
   "source": [
    "This function works fine, but it fails if you don't pass in a value:"
   ]
  },
  {
   "cell_type": "markdown",
   "metadata": {
    "slideshow": {
     "slide_type": "fragment"
    }
   },
   "source": [
    "```python\n",
    "thank_you()\n",
    "```\n",
    "```\n",
    "---------------------------------------------------------------------------\n",
    "TypeError                                 Traceback (most recent call last)\n",
    "----> thank_you()\n",
    "\n",
    "TypeError: thank_you() missing 1 required positional argument: 'name'\n",
    "```"
   ]
  },
  {
   "cell_type": "markdown",
   "metadata": {
    "slideshow": {
     "slide_type": "subslide"
    }
   },
   "source": [
    "That makes sense; the function needs to have a name in order to do its work, so without a name it is stuck.\n",
    "\n",
    "If you want your function to do something by default, even if no information is passed to it, you can do so by giving your arguments default values. You do this by specifying the default values when you define the function:"
   ]
  },
  {
   "cell_type": "code",
   "execution_count": null,
   "metadata": {
    "slideshow": {
     "slide_type": "fragment"
    }
   },
   "outputs": [],
   "source": [
    "\n",
    "def thank_you(name='everyone'):\n",
    "    # This function prints a two-line personalized thank you message.\n",
    "    #  If no name is passed in, it prints a general thank you message\n",
    "    #  to everyone.\n",
    "    print(\"\\nYou are doing good work, \", name)\n",
    "    print(\"Thank you very much for your efforts on this project.\")\n",
    "    \n",
    "thank_you('Billy')\n",
    "thank_you('Caroline')\n",
    "thank_you()\n"
   ]
  },
  {
   "cell_type": "markdown",
   "metadata": {
    "slideshow": {
     "slide_type": "fragment"
    }
   },
   "source": [
    "This is particularly useful when you have a number of arguments in your function, and some of those arguments almost always have the same value. This allows people who use the function to only specify the values that are unique to their use of the function."
   ]
  },
  {
   "cell_type": "markdown",
   "metadata": {
    "slideshow": {
     "slide_type": "slide"
    }
   },
   "source": [
    "<a name='exercises_default_values'></a>Exercises\n",
    "---\n",
    "\n",
    "<div class=\"alert alert-success\">\n",
    "    Some exercises on functions.\n",
    "</div>\n",
    "\n",
    "---\n",
    "#### Games\n",
    "- Write a function that accepts the name of a game and prints a statement such as, \"I like playing chess!\"\n",
    "- Give the argument a default value, such as `chess`.\n",
    "- Call your function at least three times. Make sure at least one of the calls includes an argument, and at least one call includes no arguments.\n",
    "\n",
    "#### Favorite Movie\n",
    "- Write a function that accepts the name of a movie, and prints a statement such as, \"My favorite movie is The Princess Bride.\"\n",
    "- Give the argument a default value, such as `The Princess Bride`.\n",
    "- Call your function at least three times. Make sure at least one of the calls includes an argument, and at least one call includes no arguments."
   ]
  },
  {
   "cell_type": "markdown",
   "metadata": {
    "slideshow": {
     "slide_type": "slide"
    }
   },
   "source": [
    "### Positional Arguments"
   ]
  },
  {
   "cell_type": "markdown",
   "metadata": {
    "slideshow": {
     "slide_type": "fragment"
    }
   },
   "source": [
    "Much of what you will have to learn about using functions involves how to pass values from your calling statement to the function itself. \n",
    "\n",
    "The example we just looked at is pretty simple, in that the function only needed one argument in order to do its work. Let's take a look at a function that requires two arguments to do its work.\n",
    "\n",
    "Let's make a simple function that takes in three arguments. \n",
    "\n",
    "Let's make a function that takes in a person's first and last name, and then prints out everything it knows about the person."
   ]
  },
  {
   "cell_type": "markdown",
   "metadata": {
    "slideshow": {
     "slide_type": "subslide"
    }
   },
   "source": [
    "Here is a simple implementation of this function:"
   ]
  },
  {
   "cell_type": "markdown",
   "metadata": {
    "slideshow": {
     "slide_type": "fragment"
    }
   },
   "source": [
    "```python\n",
    "def describe_person(first_name, last_name, age):\n",
    "    # This function takes in a person's first and last name,\n",
    "    #  and their age.\n",
    "    # It then prints this information out in a simple format.\n",
    "    print(\"First name: \", first_name)\n",
    "    print(\"Last name: \", last_name)\n",
    "    print(\"Age: \", age)\n",
    "\n",
    "describe_person('brian', 'kernighan', 71)\n",
    "describe_person('ken', 'thompson', 70)\n",
    "describe_person('adele', 'goldberg', 68)\n",
    "```"
   ]
  },
  {
   "cell_type": "markdown",
   "metadata": {
    "slideshow": {
     "slide_type": "subslide"
    }
   },
   "source": [
    "The arguments in this function are `first_name`, `last_name`, and `age`. These are called *positional arguments* because Python knows which value to assign to each by the order in which you give the function values. In the calling line\n",
    "\n",
    "    describe_person('brian', 'kernighan', 71)\n",
    "\n",
    "we send the values *brian*, *kernighan*, and *71* to the function. Python matches the first value *brian* with the first argument `first_name`. It matches the second value *kernighan* with the second argument `last_name`. Finally it matches the third value *71* with the third argument `age`.\n",
    "\n",
    "This is pretty straightforward, but it means we have to make sure to get the arguments in the right order."
   ]
  },
  {
   "cell_type": "markdown",
   "metadata": {
    "slideshow": {
     "slide_type": "subslide"
    }
   },
   "source": [
    "If we mess up the order, we get nonsense results or an error:"
   ]
  },
  {
   "cell_type": "markdown",
   "metadata": {
    "slideshow": {
     "slide_type": "fragment"
    }
   },
   "source": [
    "```python\n",
    "describe_person(71, 'brian', 'kernighan')\n",
    "describe_person(70, 'ken', 'thompson')\n",
    "describe_person(68, 'adele', 'goldberg')\n",
    "```"
   ]
  },
  {
   "cell_type": "markdown",
   "metadata": {
    "slideshow": {
     "slide_type": "fragment"
    }
   },
   "source": [
    "This fails because Python tries to match the value 71 with the argument `first_name`, the value *brian* with the argument `last_name`, and the value *kernighan* with the argument `age`. Then when it tries to print the value `first_name.title()`, it realizes it can't use the `title()` method on an integer."
   ]
  },
  {
   "cell_type": "markdown",
   "metadata": {
    "slideshow": {
     "slide_type": "subslide"
    }
   },
   "source": [
    "<a name='exercises_positional_arguments'></a>Exercises\n",
    "---\n",
    "\n",
    "<div class=\"alert alert-success\">\n",
    "    Some exercises on functions and positional arguments.\n",
    "</div>\n",
    "\n",
    "\n",
    "#### Favorite Colors\n",
    "- Write a function that takes two arguments, a person's name and their favorite color. The function should print out a statement such as \"Hillary's favorite color is blue.\"\n",
    "- Call your function three times, with a different person and color each time."
   ]
  },
  {
   "cell_type": "markdown",
   "metadata": {
    "slideshow": {
     "slide_type": "subslide"
    }
   },
   "source": [
    "### Keyword arguments\n",
    "\n",
    "Python allows us to use a syntax called *keyword arguments*. \n",
    "\n",
    "In this case, we can give the arguments in any order when we call the function, as long as we use the name of the arguments in our calling statement. \n",
    "\n",
    "Here is how the previous code can be made to work using keyword arguments:"
   ]
  },
  {
   "cell_type": "markdown",
   "metadata": {
    "slideshow": {
     "slide_type": "subslide"
    }
   },
   "source": [
    "```python\n",
    "describe_person(age=71, first_name='brian', last_name='kernighan')\n",
    "describe_person(age=70, first_name='ken', last_name='thompson')\n",
    "describe_person(age=68, first_name='adele', last_name='goldberg')\n",
    "describe_person('adele', age=68, last_name='goldberg')\n",
    "```"
   ]
  },
  {
   "cell_type": "markdown",
   "metadata": {
    "slideshow": {
     "slide_type": "fragment"
    }
   },
   "source": [
    "This works, because Python does not have to match values to arguments by position. It matches the value 71 with the argument `age`, because the value 71 is clearly marked to go with that argument. This syntax is a little more typing, but it makes for very readable code."
   ]
  },
  {
   "cell_type": "markdown",
   "metadata": {
    "slideshow": {
     "slide_type": "subslide"
    }
   },
   "source": [
    "#### Mixing positional and keyword arguments\n",
    "\n",
    "It can make good sense sometimes to mix positional and keyword arguments. \n",
    "\n",
    "In our previous example, we can expect this function to always take in a first name and a last name. Before we start mixing positional and keyword arguments, let's add another piece of information to our description of a person. Let's also go back to using just positional arguments for a moment:"
   ]
  },
  {
   "cell_type": "markdown",
   "metadata": {
    "slideshow": {
     "slide_type": "fragment"
    }
   },
   "source": [
    "```python \n",
    "def describe_person(first_name, last_name, age, favorite_language):\n",
    "    # This function takes in a person's first and last name,\n",
    "    #  their age, and their favorite language.\n",
    "    # It then prints this information out in a simple format.\n",
    "    print(\"First name: \", first_name)\n",
    "    print(\"Last name: \", last_name)\n",
    "    print(\"Age: \", age)\n",
    "    print(\"Favorite language: \", favorite_language)\n",
    "\n",
    "describe_person('brian', 'kernighan', 71, 'C')\n",
    "describe_person('ken', 'thompson', 70, 'Go')\n",
    "describe_person('adele', 'goldberg', 68, 'Smalltalk')\n",
    "```"
   ]
  },
  {
   "cell_type": "markdown",
   "metadata": {
    "slideshow": {
     "slide_type": "subslide"
    }
   },
   "source": [
    "We can expect anyone who uses this function to supply a first name and a last name, in that order. \n",
    "\n",
    "But now we are starting to include some information that might not apply to everyone. \n",
    "\n",
    "We can address this by keeping positional arguments for the first name and last name, but expect keyword arguments for everything else. \n",
    "\n",
    "We can show this works by adding a few more people, and having different information about each person:"
   ]
  },
  {
   "cell_type": "markdown",
   "metadata": {
    "slideshow": {
     "slide_type": "subslide"
    }
   },
   "source": [
    "```python\n",
    "def describe_person(first_name, last_name, age=None, \n",
    "                    favorite_language=None, died=None):\n",
    "    \"\"\" \n",
    "    This function takes in a person's first and last name, their age, \n",
    "    and their favourite language.\n",
    "    It then prints this information out in a simple format.\n",
    "    \"\"\"\n",
    "    \n",
    "    print(\"First name: \", first_name)\n",
    "    print(\"Last name: \", last_name)\n",
    "    \n",
    "    # Optional information:\n",
    "    if age:\n",
    "        print(\"Age: \", age)\n",
    "    if favorite_language:\n",
    "        print(\"Favorite language: \", favorite_language)\n",
    "    if died:\n",
    "        print(\"Has died: \", died)\n",
    "    # Blank line at end.\n",
    "    print(\"\\n\")\n",
    "\n",
    "describe_person('brian', 'kernighan', favorite_language='C')\n",
    "describe_person('adele', 'goldberg', age=68, favorite_language='Smalltalk')\n",
    "describe_person('dennis', 'ritchie', favorite_language='C', died=2011)\n",
    "describe_person('guido', 'van rossum', favorite_language='Python')\n",
    "```"
   ]
  },
  {
   "cell_type": "markdown",
   "metadata": {
    "slideshow": {
     "slide_type": "subslide"
    }
   },
   "source": [
    "Everyone needs a first and last name, but **everthing else is optional**. \n",
    "\n",
    "This code takes advantage of the Python keyword `None`, which acts as an empty value for a variable. \n",
    "\n",
    "This way, the user is free to supply any of the 'extra' values they care to. \n",
    "\n",
    "Any arguments that don't receive a value are not displayed. Python matches these extra values by name, rather than by position. This is a very common and useful way to define functions."
   ]
  },
  {
   "cell_type": "markdown",
   "metadata": {
    "slideshow": {
     "slide_type": "subslide"
    }
   },
   "source": [
    "<a name='exercises_keyword_arguments'></a>Exercises\n",
    "---\n",
    "\n",
    "<div class=\"alert alert-success\">\n",
    "    Some exercises on functions and positional arguments.\n",
    "</div>\n",
    "\n",
    "---\n",
    "\n",
    "#### Sports Teams\n",
    "- Write a function that takes in two arguments, the name of a city and the name of a sports team from that city.\n",
    "- Call your function three times, using a mix of positional and keyword arguments.\n",
    "\n",
    "#### World Languages\n",
    "- Write a function that takes in two arguments, the name of a country and a major language spoken there.\n",
    "- Call your function three times, using a mix of positional and keyword arguments."
   ]
  },
  {
   "cell_type": "markdown",
   "metadata": {
    "slideshow": {
     "slide_type": "skip"
    }
   },
   "source": [
    "---"
   ]
  },
  {
   "cell_type": "markdown",
   "metadata": {
    "slideshow": {
     "slide_type": "slide"
    }
   },
   "source": [
    "**Before we conclude...**"
   ]
  },
  {
   "cell_type": "markdown",
   "metadata": {
    "slideshow": {
     "slide_type": "slide"
    }
   },
   "source": [
    "# The \"main\" function"
   ]
  },
  {
   "cell_type": "markdown",
   "metadata": {
    "slideshow": {
     "slide_type": "subslide"
    }
   },
   "source": [
    "The last function in a program like this is **usually** called `main` and it\n",
    "runs the program using other functions. \n",
    "\n",
    "**Please note** that this is just a code convention, it is **not** a rule.\n",
    "\n",
    "So, imagine that we defined a function called `main`:\n",
    "\n",
    "```python\n",
    "def main():\n",
    "    ...\n",
    "```\n",
    "\n",
    "In order to instruct the interpreter to properly define a **main** section \n",
    "in our Python module, we need to add the following two lines at the end of the \n",
    "file:\n",
    "\n",
    "```python\n",
    "if __name__ == '__main__':\n",
    "    main()\n",
    "```\n",
    "\n",
    "The `__name__` variable is set differently depending on how we run the\n",
    "file, and it's `'__main__'` when we run the file directly instead of\n",
    "importing. \n",
    "\n",
    "So if we run the file, the code will enter the main section and will execute; otherwise (in the case in which we import the module) we can still run the functions one by one\n",
    "but the **main section** won't be executed."
   ]
  },
  {
   "cell_type": "markdown",
   "metadata": {
    "slideshow": {
     "slide_type": "subslide"
    }
   },
   "source": [
    "# More than one"
   ]
  },
  {
   "cell_type": "markdown",
   "metadata": {
    "slideshow": {
     "slide_type": "fragment"
    }
   },
   "source": [
    "Differently from other programming languages, in Python a function may return **more** than one value. For example:\n",
    "\n",
    "```python \n",
    "\n",
    "def return_two_values():\n",
    "    return 1, 2\n",
    "\n",
    "```"
   ]
  },
  {
   "cell_type": "markdown",
   "metadata": {
    "slideshow": {
     "slide_type": "subslide"
    }
   },
   "source": [
    "When called, this function will return **two** values (i.e. `1` and `2`, respectively). So, if we want to get those values, we can do:\n",
    "\n",
    "```python \n",
    "\n",
    ">>> values = return_two_values()\n",
    ">>> print(values)\n",
    "(1, 2)\n",
    "```\n",
    "\n",
    "In this case, the `type` of the variable `values` will be automagically mapped to a **tuple** (more on this in the next section)."
   ]
  },
  {
   "cell_type": "markdown",
   "metadata": {
    "slideshow": {
     "slide_type": "subslide"
    }
   },
   "source": [
    "**Moreover**, another possibility is to take the two return values separately in **two** different variables like this:\n",
    "\n",
    "```python \n",
    ">>> first, second = return_two_values()\n",
    ">>> print(first)\n",
    "1\n",
    ">>> print(second)\n",
    "2\n",
    "```"
   ]
  },
  {
   "cell_type": "markdown",
   "metadata": {
    "slideshow": {
     "slide_type": "fragment"
    }
   },
   "source": [
    "This particular operation of assigning \"at the same time\" values to more-than-one variables is called **tuple unpacking** (more on this in the section about tuples)"
   ]
  },
  {
   "cell_type": "markdown",
   "metadata": {
    "slideshow": {
     "slide_type": "fragment"
    }
   },
   "source": [
    "There are **many** built-in functions in Python returning more than one value. Perhaps, the most common one is `enumerate` which is \n",
    "used to `enumerate` a sequence (e.g. `list`, `tuple`...)"
   ]
  }
 ],
 "metadata": {
  "celltoolbar": "Slideshow",
  "kernelspec": {
   "display_name": "Python 3 (ipykernel)",
   "language": "python",
   "name": "python3"
  },
  "language_info": {
   "codemirror_mode": {
    "name": "ipython",
    "version": 3
   },
   "file_extension": ".py",
   "mimetype": "text/x-python",
   "name": "python",
   "nbconvert_exporter": "python",
   "pygments_lexer": "ipython3",
   "version": "3.10.4"
  }
 },
 "nbformat": 4,
 "nbformat_minor": 4
}
