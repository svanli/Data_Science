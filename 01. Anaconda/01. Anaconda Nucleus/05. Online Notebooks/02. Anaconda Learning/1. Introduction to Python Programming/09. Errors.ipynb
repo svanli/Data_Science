{
 "cells": [
  {
   "cell_type": "markdown",
   "id": "b0348beb",
   "metadata": {},
   "source": [
    "# 09. Errors"
   ]
  },
  {
   "cell_type": "markdown",
   "id": "f290f2db",
   "metadata": {},
   "source": [
    "### Common Errors"
   ]
  },
  {
   "cell_type": "code",
   "execution_count": 1,
   "id": "27092d5d",
   "metadata": {},
   "outputs": [],
   "source": [
    "colours = [\"⬛️\", \"🟩\", \"🟦\", \"🟥\", \"🟧\"]"
   ]
  },
  {
   "cell_type": "code",
   "execution_count": 2,
   "id": "7942fb1c",
   "metadata": {},
   "outputs": [
    {
     "ename": "IndexError",
     "evalue": "list index out of range",
     "output_type": "error",
     "traceback": [
      "\u001b[1;31m---------------------------------------------------------------------------\u001b[0m",
      "\u001b[1;31mIndexError\u001b[0m                                Traceback (most recent call last)",
      "\u001b[1;32m~\\AppData\\Local\\Temp\\ipykernel_16152\\2619526314.py\u001b[0m in \u001b[0;36m<module>\u001b[1;34m\u001b[0m\n\u001b[1;32m----> 1\u001b[1;33m \u001b[0mcolours\u001b[0m\u001b[1;33m[\u001b[0m\u001b[1;36m1000\u001b[0m\u001b[1;33m]\u001b[0m\u001b[1;33m\u001b[0m\u001b[1;33m\u001b[0m\u001b[0m\n\u001b[0m",
      "\u001b[1;31mIndexError\u001b[0m: list index out of range"
     ]
    }
   ],
   "source": [
    "colours[1000]"
   ]
  },
  {
   "cell_type": "code",
   "execution_count": 4,
   "id": "f8942e9a",
   "metadata": {},
   "outputs": [
    {
     "data": {
      "text/plain": [
       "IndexError"
      ]
     },
     "execution_count": 4,
     "metadata": {},
     "output_type": "execute_result"
    }
   ],
   "source": [
    "IndexError"
   ]
  },
  {
   "cell_type": "code",
   "execution_count": 5,
   "id": "0713ff84",
   "metadata": {},
   "outputs": [
    {
     "ename": "ValueError",
     "evalue": "could not convert string to float: '3.3432.4929,88372'",
     "output_type": "error",
     "traceback": [
      "\u001b[1;31m---------------------------------------------------------------------------\u001b[0m",
      "\u001b[1;31mValueError\u001b[0m                                Traceback (most recent call last)",
      "\u001b[1;32m~\\AppData\\Local\\Temp\\ipykernel_16152\\3757225496.py\u001b[0m in \u001b[0;36m<module>\u001b[1;34m\u001b[0m\n\u001b[1;32m----> 1\u001b[1;33m \u001b[0mfloat\u001b[0m\u001b[1;33m(\u001b[0m\u001b[1;34m\"3.3432.4929,88372\"\u001b[0m\u001b[1;33m)\u001b[0m\u001b[1;33m\u001b[0m\u001b[1;33m\u001b[0m\u001b[0m\n\u001b[0m",
      "\u001b[1;31mValueError\u001b[0m: could not convert string to float: '3.3432.4929,88372'"
     ]
    }
   ],
   "source": [
    "float(\"3.3432.4929,88372\")"
   ]
  },
  {
   "cell_type": "code",
   "execution_count": 6,
   "id": "e0b89721",
   "metadata": {},
   "outputs": [],
   "source": [
    "vocab = {\"ni\": \"you\"}"
   ]
  },
  {
   "cell_type": "code",
   "execution_count": 7,
   "id": "cd065254",
   "metadata": {},
   "outputs": [
    {
     "ename": "KeyError",
     "evalue": "'wo'",
     "output_type": "error",
     "traceback": [
      "\u001b[1;31m---------------------------------------------------------------------------\u001b[0m",
      "\u001b[1;31mKeyError\u001b[0m                                  Traceback (most recent call last)",
      "\u001b[1;32m~\\AppData\\Local\\Temp\\ipykernel_16152\\1949840973.py\u001b[0m in \u001b[0;36m<module>\u001b[1;34m\u001b[0m\n\u001b[1;32m----> 1\u001b[1;33m \u001b[0mvocab\u001b[0m\u001b[1;33m[\u001b[0m\u001b[1;34m\"wo\"\u001b[0m\u001b[1;33m]\u001b[0m\u001b[1;33m\u001b[0m\u001b[1;33m\u001b[0m\u001b[0m\n\u001b[0m",
      "\u001b[1;31mKeyError\u001b[0m: 'wo'"
     ]
    }
   ],
   "source": [
    "vocab[\"wo\"]"
   ]
  },
  {
   "cell_type": "code",
   "execution_count": 8,
   "id": "d8e91610",
   "metadata": {},
   "outputs": [
    {
     "data": {
      "text/plain": [
       "'Name'"
      ]
     },
     "execution_count": 8,
     "metadata": {},
     "output_type": "execute_result"
    }
   ],
   "source": [
    "True and 0 or \"Name\""
   ]
  },
  {
   "cell_type": "code",
   "execution_count": 9,
   "id": "edad4777",
   "metadata": {},
   "outputs": [],
   "source": [
    "def func():\n",
    "    my_variable = 1\n",
    "    return my_variable"
   ]
  },
  {
   "cell_type": "code",
   "execution_count": 10,
   "id": "011bb3d9",
   "metadata": {},
   "outputs": [
    {
     "ename": "TypeError",
     "evalue": "unsupported operand type(s) for +: 'int' and 'str'",
     "output_type": "error",
     "traceback": [
      "\u001b[1;31m---------------------------------------------------------------------------\u001b[0m",
      "\u001b[1;31mTypeError\u001b[0m                                 Traceback (most recent call last)",
      "\u001b[1;32m~\\AppData\\Local\\Temp\\ipykernel_16152\\581437108.py\u001b[0m in \u001b[0;36m<module>\u001b[1;34m\u001b[0m\n\u001b[1;32m----> 1\u001b[1;33m \u001b[1;36m1\u001b[0m \u001b[1;33m+\u001b[0m \u001b[1;34m\"1\"\u001b[0m\u001b[1;33m\u001b[0m\u001b[1;33m\u001b[0m\u001b[0m\n\u001b[0m",
      "\u001b[1;31mTypeError\u001b[0m: unsupported operand type(s) for +: 'int' and 'str'"
     ]
    }
   ],
   "source": [
    "1 + \"1\""
   ]
  },
  {
   "cell_type": "markdown",
   "id": "7ebf4e5b",
   "metadata": {},
   "source": [
    "### \"try\""
   ]
  },
  {
   "cell_type": "code",
   "execution_count": 11,
   "id": "2019b8c8",
   "metadata": {},
   "outputs": [
    {
     "ename": "ValueError",
     "evalue": "could not convert string to float: '$5,999.98'",
     "output_type": "error",
     "traceback": [
      "\u001b[1;31m---------------------------------------------------------------------------\u001b[0m",
      "\u001b[1;31mValueError\u001b[0m                                Traceback (most recent call last)",
      "\u001b[1;32m~\\AppData\\Local\\Temp\\ipykernel_16152\\2603141393.py\u001b[0m in \u001b[0;36m<module>\u001b[1;34m\u001b[0m\n\u001b[1;32m----> 1\u001b[1;33m \u001b[0mfloat\u001b[0m\u001b[1;33m(\u001b[0m\u001b[1;34m\"$5,999.98\"\u001b[0m\u001b[1;33m)\u001b[0m\u001b[1;33m\u001b[0m\u001b[1;33m\u001b[0m\u001b[0m\n\u001b[0m",
      "\u001b[1;31mValueError\u001b[0m: could not convert string to float: '$5,999.98'"
     ]
    }
   ],
   "source": [
    "float(\"$5,999.98\")"
   ]
  },
  {
   "cell_type": "markdown",
   "id": "dfcd4de1",
   "metadata": {},
   "source": [
    "### `try` ... `except` ... (`pass`)"
   ]
  },
  {
   "cell_type": "code",
   "execution_count": 12,
   "id": "7687faf1",
   "metadata": {},
   "outputs": [
    {
     "name": "stdout",
     "output_type": "stream",
     "text": [
      "Whoopsies\n"
     ]
    }
   ],
   "source": [
    "try:\n",
    "    float(\"$5,999.98\")\n",
    "except ValueError:\n",
    "    print(\"Whoopsies\")"
   ]
  },
  {
   "cell_type": "code",
   "execution_count": 21,
   "id": "44c182ed",
   "metadata": {},
   "outputs": [],
   "source": [
    "price = \"$5,999.98\"\n",
    "\n",
    "def discount(price, by=0.20):\n",
    "    try:\n",
    "        price = price.replace(\"$\", \"\").replace(\",\", \"\")\n",
    "        price = float(price)\n",
    "    except ValueError:\n",
    "        return None\n",
    "    return price * (1-by)"
   ]
  },
  {
   "cell_type": "code",
   "execution_count": 14,
   "id": "b84ad826",
   "metadata": {},
   "outputs": [
    {
     "data": {
      "text/plain": [
       "8500.832999999999"
      ]
     },
     "execution_count": 14,
     "metadata": {},
     "output_type": "execute_result"
    }
   ],
   "source": [
    "discount(\"$10,000.98\", by=0.15)"
   ]
  },
  {
   "cell_type": "code",
   "execution_count": 23,
   "id": "f2df615b-2657-44a1-baf1-e56f168d7763",
   "metadata": {},
   "outputs": [],
   "source": [
    "discount(\"€10,000.98\", by=0.15)"
   ]
  },
  {
   "cell_type": "markdown",
   "id": "62c5d400",
   "metadata": {},
   "source": [
    "### `raise`"
   ]
  },
  {
   "cell_type": "code",
   "execution_count": 24,
   "id": "839c437f",
   "metadata": {},
   "outputs": [],
   "source": [
    "def discount(price, by=0.20):\n",
    "    if by >= 1:\n",
    "        raise ValueError(\"Can't discount by more than 100%!\")\n",
    "    return price * (1-by)"
   ]
  },
  {
   "cell_type": "code",
   "execution_count": 27,
   "id": "453d5f14",
   "metadata": {},
   "outputs": [
    {
     "ename": "ValueError",
     "evalue": "Can't discount by more than 100%!",
     "output_type": "error",
     "traceback": [
      "\u001b[1;31m---------------------------------------------------------------------------\u001b[0m",
      "\u001b[1;31mValueError\u001b[0m                                Traceback (most recent call last)",
      "\u001b[1;32m~\\AppData\\Local\\Temp\\ipykernel_16152\\1814990770.py\u001b[0m in \u001b[0;36m<module>\u001b[1;34m\u001b[0m\n\u001b[1;32m----> 1\u001b[1;33m \u001b[0mdiscount\u001b[0m\u001b[1;33m(\u001b[0m\u001b[1;36m50\u001b[0m\u001b[1;33m,\u001b[0m \u001b[0mby\u001b[0m\u001b[1;33m=\u001b[0m\u001b[1;36m1.20\u001b[0m\u001b[1;33m)\u001b[0m\u001b[1;33m\u001b[0m\u001b[1;33m\u001b[0m\u001b[0m\n\u001b[0m\u001b[0;32m      2\u001b[0m \u001b[0mprint\u001b[0m\u001b[1;33m(\u001b[0m\u001b[1;34m\"this\"\u001b[0m\u001b[1;33m)\u001b[0m\u001b[1;33m\u001b[0m\u001b[1;33m\u001b[0m\u001b[0m\n",
      "\u001b[1;32m~\\AppData\\Local\\Temp\\ipykernel_16152\\1823920000.py\u001b[0m in \u001b[0;36mdiscount\u001b[1;34m(price, by)\u001b[0m\n\u001b[0;32m      1\u001b[0m \u001b[1;32mdef\u001b[0m \u001b[0mdiscount\u001b[0m\u001b[1;33m(\u001b[0m\u001b[0mprice\u001b[0m\u001b[1;33m,\u001b[0m \u001b[0mby\u001b[0m\u001b[1;33m=\u001b[0m\u001b[1;36m0.20\u001b[0m\u001b[1;33m)\u001b[0m\u001b[1;33m:\u001b[0m\u001b[1;33m\u001b[0m\u001b[1;33m\u001b[0m\u001b[0m\n\u001b[0;32m      2\u001b[0m     \u001b[1;32mif\u001b[0m \u001b[0mby\u001b[0m \u001b[1;33m>=\u001b[0m \u001b[1;36m1\u001b[0m\u001b[1;33m:\u001b[0m\u001b[1;33m\u001b[0m\u001b[1;33m\u001b[0m\u001b[0m\n\u001b[1;32m----> 3\u001b[1;33m         \u001b[1;32mraise\u001b[0m \u001b[0mValueError\u001b[0m\u001b[1;33m(\u001b[0m\u001b[1;34m\"Can't discount by more than 100%!\"\u001b[0m\u001b[1;33m)\u001b[0m\u001b[1;33m\u001b[0m\u001b[1;33m\u001b[0m\u001b[0m\n\u001b[0m\u001b[0;32m      4\u001b[0m     \u001b[1;32mreturn\u001b[0m \u001b[0mprice\u001b[0m \u001b[1;33m*\u001b[0m \u001b[1;33m(\u001b[0m\u001b[1;36m1\u001b[0m\u001b[1;33m-\u001b[0m\u001b[0mby\u001b[0m\u001b[1;33m)\u001b[0m\u001b[1;33m\u001b[0m\u001b[1;33m\u001b[0m\u001b[0m\n",
      "\u001b[1;31mValueError\u001b[0m: Can't discount by more than 100%!"
     ]
    }
   ],
   "source": [
    "discount(50, by=1.20)\n",
    "print(\"this\")"
   ]
  },
  {
   "cell_type": "markdown",
   "id": "13c056cc",
   "metadata": {},
   "source": [
    "### Warnings"
   ]
  },
  {
   "cell_type": "code",
   "execution_count": 28,
   "id": "236ac92f",
   "metadata": {},
   "outputs": [
    {
     "name": "stdout",
     "output_type": "stream",
     "text": [
      "this will still print\n"
     ]
    },
    {
     "name": "stderr",
     "output_type": "stream",
     "text": [
      "C:\\Users\\vanli\\AppData\\Local\\Temp\\ipykernel_16152\\1716414842.py:3: DeprecationWarning: Use .method2 instead()\n",
      "  warnings.warn(\"Use .method2 instead()\", DeprecationWarning)\n"
     ]
    }
   ],
   "source": [
    "import warnings\n",
    "  \n",
    "warnings.warn(\"Use .method2 instead()\", DeprecationWarning)\n",
    "print(\"this will still print\")"
   ]
  },
  {
   "cell_type": "code",
   "execution_count": 29,
   "id": "a09d2817",
   "metadata": {},
   "outputs": [
    {
     "name": "stderr",
     "output_type": "stream",
     "text": [
      "C:\\Users\\vanli\\AppData\\Local\\Temp\\ipykernel_16152\\1775545655.py:1: UserWarning: Pandas will give you a lot of warnings!\n",
      "  warnings.warn(\"Pandas will give you a lot of warnings!\")\n"
     ]
    }
   ],
   "source": [
    "warnings.warn(\"Pandas will give you a lot of warnings!\")"
   ]
  },
  {
   "cell_type": "markdown",
   "id": "15760bfc",
   "metadata": {},
   "source": [
    "- `default`: Show all warnings (even those ignored by default) ←←←←←←←←←←←←←←←←←←←←← stopped here\n",
    "- `ignore`: Ignore all warnings\n",
    "- `error`: Convert all warnings to errors"
   ]
  },
  {
   "cell_type": "code",
   "execution_count": 30,
   "id": "3d274770",
   "metadata": {},
   "outputs": [],
   "source": [
    "warnings.simplefilter('error', UserWarning)"
   ]
  },
  {
   "cell_type": "code",
   "execution_count": 31,
   "id": "acbe593c",
   "metadata": {},
   "outputs": [
    {
     "ename": "UserWarning",
     "evalue": "Pandas will give you a lot of warnings!",
     "output_type": "error",
     "traceback": [
      "\u001b[1;31m---------------------------------------------------------------------------\u001b[0m",
      "\u001b[1;31mUserWarning\u001b[0m                               Traceback (most recent call last)",
      "\u001b[1;32m~\\AppData\\Local\\Temp\\ipykernel_16152\\1775545655.py\u001b[0m in \u001b[0;36m<module>\u001b[1;34m\u001b[0m\n\u001b[1;32m----> 1\u001b[1;33m \u001b[0mwarnings\u001b[0m\u001b[1;33m.\u001b[0m\u001b[0mwarn\u001b[0m\u001b[1;33m(\u001b[0m\u001b[1;34m\"Pandas will give you a lot of warnings!\"\u001b[0m\u001b[1;33m)\u001b[0m\u001b[1;33m\u001b[0m\u001b[1;33m\u001b[0m\u001b[0m\n\u001b[0m",
      "\u001b[1;31mUserWarning\u001b[0m: Pandas will give you a lot of warnings!"
     ]
    }
   ],
   "source": [
    "warnings.warn(\"Pandas will give you a lot of warnings!\")"
   ]
  },
  {
   "cell_type": "code",
   "execution_count": 32,
   "id": "83a5cced",
   "metadata": {},
   "outputs": [],
   "source": [
    "warnings.simplefilter('ignore', UserWarning)\n",
    "warnings.simplefilter('ignore', DeprecationWarning)"
   ]
  },
  {
   "cell_type": "code",
   "execution_count": 33,
   "id": "7c083eca",
   "metadata": {},
   "outputs": [],
   "source": [
    "warnings.warn(\"Pandas will give you a lot of warnings!\", DeprecationWarning)"
   ]
  },
  {
   "cell_type": "code",
   "execution_count": 34,
   "id": "ada876c4",
   "metadata": {},
   "outputs": [],
   "source": [
    "warnings.resetwarnings()"
   ]
  },
  {
   "cell_type": "code",
   "execution_count": 35,
   "id": "78362b20",
   "metadata": {},
   "outputs": [
    {
     "name": "stderr",
     "output_type": "stream",
     "text": [
      "C:\\Users\\vanli\\AppData\\Local\\Temp\\ipykernel_16152\\1268399421.py:1: DeprecationWarning: Pandas will give you a lot of warnings!\n",
      "  warnings.warn(\"Pandas will give you a lot of warnings!\", DeprecationWarning)\n"
     ]
    }
   ],
   "source": [
    "warnings.warn(\"Pandas will give you a lot of warnings!\", DeprecationWarning)"
   ]
  },
  {
   "cell_type": "markdown",
   "id": "ee2e74c0",
   "metadata": {},
   "source": [
    "### `catch_warnings`"
   ]
  },
  {
   "cell_type": "code",
   "execution_count": null,
   "id": "cf059530",
   "metadata": {},
   "outputs": [],
   "source": [
    "def random_letter():\n",
    "    warnings.warn(\"Will return \\\"M\\\" in the 3.1\", FutureWarning)\n",
    "    return \"L\""
   ]
  },
  {
   "cell_type": "code",
   "execution_count": null,
   "id": "7538d441",
   "metadata": {},
   "outputs": [],
   "source": [
    "with warnings.catch_warnings():\n",
    "    warnings.simplefilter(\"ignore\")\n",
    "    letter = random_letter()\n",
    "    print(letter)"
   ]
  },
  {
   "cell_type": "markdown",
   "id": "f1c62db3",
   "metadata": {},
   "source": [
    "### Homework\n",
    "\n",
    "<div class='alert alert-info'>\n",
    "  🎒 Create a discount function that issues a warning if the discount is greater than 80%. Then try to convert the warning into an error!\n",
    "</div>"
   ]
  },
  {
   "cell_type": "code",
   "execution_count": null,
   "id": "ffbece50",
   "metadata": {},
   "outputs": [],
   "source": [
    "def discount(price, by=0.20):\n",
    "    if by >= 1:\n",
    "        raise ValueError(\"Can't discount by more than 100%!\")\n",
    "    if by >= 0.8:\n",
    "        warnings.warn(\"Profit margins will be really thin!\")\n",
    "    return price * (1-by)"
   ]
  },
  {
   "cell_type": "code",
   "execution_count": null,
   "id": "5ca1f27b",
   "metadata": {},
   "outputs": [],
   "source": [
    "discount(500, by=0.85)"
   ]
  },
  {
   "cell_type": "code",
   "execution_count": null,
   "id": "cd7f7216",
   "metadata": {},
   "outputs": [],
   "source": [
    "warnings.simplefilter('error', UserWarning)"
   ]
  },
  {
   "cell_type": "code",
   "execution_count": null,
   "id": "c76efb70",
   "metadata": {},
   "outputs": [],
   "source": [
    "discount(500, by=0.85)"
   ]
  }
 ],
 "metadata": {
  "kernelspec": {
   "display_name": "Python 3 (ipykernel)",
   "language": "python",
   "name": "python3"
  },
  "language_info": {
   "codemirror_mode": {
    "name": "ipython",
    "version": 3
   },
   "file_extension": ".py",
   "mimetype": "text/x-python",
   "name": "python",
   "nbconvert_exporter": "python",
   "pygments_lexer": "ipython3",
   "version": "3.9.13"
  }
 },
 "nbformat": 4,
 "nbformat_minor": 5
}
