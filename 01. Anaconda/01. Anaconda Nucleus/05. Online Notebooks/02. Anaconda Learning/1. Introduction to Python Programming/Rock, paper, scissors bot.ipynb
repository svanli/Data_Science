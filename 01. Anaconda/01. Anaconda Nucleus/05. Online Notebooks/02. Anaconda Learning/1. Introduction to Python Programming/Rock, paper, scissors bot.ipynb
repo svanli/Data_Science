{
 "cells": [
  {
   "cell_type": "markdown",
   "id": "7b346faf-a1da-4b54-965b-fdc19ee707c6",
   "metadata": {},
   "source": [
    "<h2>Бот «камень, ножницы, бумага»</h2>"
   ]
  },
  {
   "cell_type": "code",
   "execution_count": 2,
   "id": "5bc2b68a-832a-4f89-986c-bd459fbc7408",
   "metadata": {},
   "outputs": [],
   "source": [
    "import random\n",
    "\n",
    "def кнб_бот(input):\n",
    "    \n",
    "    # Компьютер генерирует камень/ножницы/бумагу\n",
    "    генерация_кнб = random.choice(['🪨 камень', '✂️ ножницы', '📄 бумага'])\n",
    "    \n",
    "    # Из ввода игрока убирают заглавные буквы и пробелы\n",
    "    input = input.lower().strip()\n",
    "    \n",
    "    # Словарь с введёнными значениями и их новыми значениями\n",
    "    values_dict = {\n",
    "        'камень': '🪨 камень',\n",
    "        'ножницы': '✂️ ножницы',\n",
    "        'бумага': '📄 бумага'\n",
    "    }\n",
    "    \n",
    "    # Проверка на корректное значение\n",
    "    if input not in values_dict:\n",
    "        return print('Привет! Чтобы начать играть введи «камень», «ножницы» или «бумага» :)')\n",
    "    \n",
    "    # Корректные значения получают эмоджи\n",
    "    input = values_dict[input]\n",
    " \n",
    "    # Выводятся ввод игрока и сгенерированное значение компьютера\n",
    "    print(\n",
    "        f'ТЫ: {input}\\n'\n",
    "        f'ОН: {генерация_кнб}\\n'\n",
    "    )\n",
    "    \n",
    "    # Словарь с выигрышниыми комбинациями\n",
    "    winning_combinations = {\n",
    "        '🪨 камень': '✂️ ножницы',\n",
    "        '✂️ ножницы': '📄 бумага',\n",
    "        '📄 бумага': '🪨 камень'\n",
    "    }\n",
    "    \n",
    "    # Вывод значений в зависимости от ввода игрока и компьютера\n",
    "    if input == генерация_кнб:\n",
    "        print('Ничья! Победила дружба! :)')\n",
    "\n",
    "    elif winning_combinations[input] == генерация_кнб:\n",
    "        print(f'Победа! :D')\n",
    "\n",
    "    else:\n",
    "        print(f'Проигрыш... :( Попробуй ещё')"
   ]
  },
  {
   "cell_type": "code",
   "execution_count": 3,
   "id": "6ca6adfc-edda-4a60-bbfb-49512e3900e3",
   "metadata": {},
   "outputs": [
    {
     "name": "stdout",
     "output_type": "stream",
     "text": [
      "ТЫ: 🪨 камень\n",
      "ОН: 🪨 камень\n",
      "\n",
      "Ничья! Победила дружба! :)\n"
     ]
    }
   ],
   "source": [
    "кнб_бот('камень')"
   ]
  }
 ],
 "metadata": {
  "kernelspec": {
   "display_name": "Python 3 (ipykernel)",
   "language": "python",
   "name": "python3"
  },
  "language_info": {
   "codemirror_mode": {
    "name": "ipython",
    "version": 3
   },
   "file_extension": ".py",
   "mimetype": "text/x-python",
   "name": "python",
   "nbconvert_exporter": "python",
   "pygments_lexer": "ipython3",
   "version": "3.9.13"
  }
 },
 "nbformat": 4,
 "nbformat_minor": 5
}
