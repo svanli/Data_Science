{
 "cells": [
  {
   "cell_type": "markdown",
   "id": "f3cfa244",
   "metadata": {},
   "source": [
    "# 05. Imports"
   ]
  },
  {
   "cell_type": "markdown",
   "id": "a96dd70e",
   "metadata": {},
   "source": [
    "### \"Square Root\""
   ]
  },
  {
   "cell_type": "code",
   "execution_count": 1,
   "id": "b733be5f",
   "metadata": {},
   "outputs": [
    {
     "data": {
      "text/plain": [
       "100"
      ]
     },
     "execution_count": 1,
     "metadata": {},
     "output_type": "execute_result"
    }
   ],
   "source": [
    "10 ** 2"
   ]
  },
  {
   "cell_type": "code",
   "execution_count": 2,
   "id": "e3c2261f",
   "metadata": {},
   "outputs": [
    {
     "data": {
      "text/plain": [
       "10.0"
      ]
     },
     "execution_count": 2,
     "metadata": {},
     "output_type": "execute_result"
    }
   ],
   "source": [
    "100 ** (1/2)"
   ]
  },
  {
   "cell_type": "code",
   "execution_count": 3,
   "id": "1a98bd9d",
   "metadata": {},
   "outputs": [
    {
     "data": {
      "text/plain": [
       "4"
      ]
     },
     "execution_count": 3,
     "metadata": {},
     "output_type": "execute_result"
    }
   ],
   "source": [
    "round(4.5)"
   ]
  },
  {
   "cell_type": "markdown",
   "id": "bb10bce5",
   "metadata": {},
   "source": [
    "### `import`"
   ]
  },
  {
   "cell_type": "code",
   "execution_count": 4,
   "id": "a435345f",
   "metadata": {},
   "outputs": [],
   "source": [
    "import math"
   ]
  },
  {
   "cell_type": "code",
   "execution_count": 5,
   "id": "0b9fcd54",
   "metadata": {},
   "outputs": [
    {
     "data": {
      "text/plain": [
       "10.0"
      ]
     },
     "execution_count": 5,
     "metadata": {},
     "output_type": "execute_result"
    }
   ],
   "source": [
    "math.sqrt(100)"
   ]
  },
  {
   "cell_type": "code",
   "execution_count": 6,
   "id": "27b39b4b",
   "metadata": {},
   "outputs": [
    {
     "data": {
      "text/plain": [
       "'THIS IS A STRING'"
      ]
     },
     "execution_count": 6,
     "metadata": {},
     "output_type": "execute_result"
    }
   ],
   "source": [
    "my_string = \"this is a string\"\n",
    "my_string.upper()"
   ]
  },
  {
   "cell_type": "markdown",
   "id": "9694e451",
   "metadata": {},
   "source": [
    "### `from`"
   ]
  },
  {
   "cell_type": "code",
   "execution_count": 7,
   "id": "0bd93d4a",
   "metadata": {},
   "outputs": [],
   "source": [
    "from math import sqrt"
   ]
  },
  {
   "cell_type": "code",
   "execution_count": 8,
   "id": "150e57b0",
   "metadata": {},
   "outputs": [
    {
     "data": {
      "text/plain": [
       "3.0"
      ]
     },
     "execution_count": 8,
     "metadata": {},
     "output_type": "execute_result"
    }
   ],
   "source": [
    "sqrt(9)"
   ]
  },
  {
   "cell_type": "markdown",
   "id": "bc8c1260",
   "metadata": {},
   "source": [
    "### `as`"
   ]
  },
  {
   "cell_type": "code",
   "execution_count": 9,
   "id": "2e42ebc3",
   "metadata": {},
   "outputs": [],
   "source": [
    "from math import sqrt as square_root"
   ]
  },
  {
   "cell_type": "code",
   "execution_count": 10,
   "id": "43a1d148",
   "metadata": {},
   "outputs": [
    {
     "data": {
      "text/plain": [
       "2.6457513110645907"
      ]
     },
     "execution_count": 10,
     "metadata": {},
     "output_type": "execute_result"
    }
   ],
   "source": [
    "square_root(7)"
   ]
  },
  {
   "cell_type": "markdown",
   "id": "584adfbf",
   "metadata": {},
   "source": [
    "### Documentation"
   ]
  },
  {
   "cell_type": "code",
   "execution_count": 11,
   "id": "fed5cded",
   "metadata": {},
   "outputs": [
    {
     "name": "stdout",
     "output_type": "stream",
     "text": [
      "Help on built-in function sqrt in module math:\n",
      "\n",
      "sqrt(x, /)\n",
      "    Return the square root of x.\n",
      "\n"
     ]
    }
   ],
   "source": [
    "help(sqrt)"
   ]
  },
  {
   "cell_type": "code",
   "execution_count": 12,
   "id": "cad417f2",
   "metadata": {},
   "outputs": [
    {
     "name": "stdout",
     "output_type": "stream",
     "text": [
      "Help on built-in function sqrt in module math:\n",
      "\n",
      "sqrt(x, /)\n",
      "    Return the square root of x.\n",
      "\n"
     ]
    }
   ],
   "source": [
    "help(square_root)"
   ]
  },
  {
   "cell_type": "code",
   "execution_count": 15,
   "id": "b63cfaef",
   "metadata": {},
   "outputs": [
    {
     "data": {
      "text/plain": [
       "float"
      ]
     },
     "execution_count": 15,
     "metadata": {},
     "output_type": "execute_result"
    }
   ],
   "source": [
    "type(math.pi)"
   ]
  },
  {
   "cell_type": "code",
   "execution_count": 17,
   "id": "c50492ab",
   "metadata": {},
   "outputs": [
    {
     "data": {
      "text/plain": [
       "3.1622776601683795"
      ]
     },
     "execution_count": 17,
     "metadata": {},
     "output_type": "execute_result"
    }
   ],
   "source": [
    "square_root(10)"
   ]
  },
  {
   "cell_type": "markdown",
   "id": "c35c0d9e",
   "metadata": {},
   "source": [
    "### Challenge\n",
    "\n",
    "<div class='alert alert-info'>\n",
    "  🎒 Find some interesting/useful tools in the <a href=\"https://docs.python.org/3/library/math.html\">math</a> module\n",
    "</div>"
   ]
  },
  {
   "cell_type": "markdown",
   "id": "e8b597a1",
   "metadata": {},
   "source": [
    "### Examples"
   ]
  },
  {
   "cell_type": "code",
   "execution_count": 18,
   "id": "925ec437",
   "metadata": {},
   "outputs": [
    {
     "data": {
      "text/plain": [
       "10"
      ]
     },
     "execution_count": 18,
     "metadata": {},
     "output_type": "execute_result"
    }
   ],
   "source": [
    "math.ceil(9.9)"
   ]
  },
  {
   "cell_type": "code",
   "execution_count": 19,
   "id": "1fbf4eab",
   "metadata": {},
   "outputs": [
    {
     "data": {
      "text/plain": [
       "9.0"
      ]
     },
     "execution_count": 19,
     "metadata": {},
     "output_type": "execute_result"
    }
   ],
   "source": [
    "9.9 // 1"
   ]
  },
  {
   "cell_type": "code",
   "execution_count": 20,
   "id": "dd9b11a7",
   "metadata": {},
   "outputs": [
    {
     "data": {
      "text/plain": [
       "9"
      ]
     },
     "execution_count": 20,
     "metadata": {},
     "output_type": "execute_result"
    }
   ],
   "source": [
    "math.floor(9.9)"
   ]
  },
  {
   "cell_type": "code",
   "execution_count": 21,
   "id": "a9528ad8",
   "metadata": {},
   "outputs": [],
   "source": [
    "from math import tau"
   ]
  },
  {
   "cell_type": "code",
   "execution_count": 22,
   "id": "3cae84df",
   "metadata": {},
   "outputs": [
    {
     "data": {
      "text/plain": [
       "6.283185307179586"
      ]
     },
     "execution_count": 22,
     "metadata": {},
     "output_type": "execute_result"
    }
   ],
   "source": [
    "tau"
   ]
  },
  {
   "cell_type": "code",
   "execution_count": 23,
   "id": "ea7466a6",
   "metadata": {},
   "outputs": [
    {
     "data": {
      "text/plain": [
       "4"
      ]
     },
     "execution_count": 23,
     "metadata": {},
     "output_type": "execute_result"
    }
   ],
   "source": [
    "math.gcd(20, 12, 16)"
   ]
  },
  {
   "cell_type": "markdown",
   "id": "61dbe1b3",
   "metadata": {},
   "source": [
    "### [Useful Modules](https://docs.python.org/3/py-modindex.html)"
   ]
  },
  {
   "cell_type": "markdown",
   "id": "1137365d",
   "metadata": {},
   "source": [
    "<div class='alert alert-success'>\n",
    "  🔬📁 Don't get overwhelmed, just look at a couple\n",
    "</div>"
   ]
  },
  {
   "cell_type": "markdown",
   "id": "eccd786b",
   "metadata": {},
   "source": [
    "- time\n",
    "- itertools\n",
    "- random\n",
    "- collections"
   ]
  },
  {
   "cell_type": "markdown",
   "id": "919b798c",
   "metadata": {},
   "source": [
    "### time"
   ]
  },
  {
   "cell_type": "code",
   "execution_count": 24,
   "id": "822c6f34",
   "metadata": {},
   "outputs": [],
   "source": [
    "import time"
   ]
  },
  {
   "cell_type": "code",
   "execution_count": 25,
   "id": "87bfce7a",
   "metadata": {},
   "outputs": [
    {
     "name": "stdout",
     "output_type": "stream",
     "text": [
      "1\n",
      "2\n",
      "3\n",
      "4\n"
     ]
    }
   ],
   "source": [
    "print(1)\n",
    "time.sleep(1)\n",
    "print(2)\n",
    "time.sleep(1)\n",
    "print(3)\n",
    "time.sleep(1)\n",
    "print(4)"
   ]
  },
  {
   "cell_type": "markdown",
   "id": "09a58570",
   "metadata": {},
   "source": [
    "### itertools"
   ]
  },
  {
   "cell_type": "code",
   "execution_count": 29,
   "id": "1891f10e",
   "metadata": {},
   "outputs": [],
   "source": [
    "food = [\"indian\", \"sushi\", \"pizza\"]\n",
    "drinks = [\"cocktail\", \"wine\", \"beer\"]\n",
    "dessert = [\"ice cream\", \"cake\", \"popcorn\"]"
   ]
  },
  {
   "cell_type": "code",
   "execution_count": 30,
   "id": "95d487a8",
   "metadata": {},
   "outputs": [],
   "source": [
    "import itertools"
   ]
  },
  {
   "cell_type": "code",
   "execution_count": 31,
   "id": "592b792e",
   "metadata": {},
   "outputs": [
    {
     "data": {
      "text/plain": [
       "[('indian', 'cocktail', 'ice cream'),\n",
       " ('indian', 'cocktail', 'cake'),\n",
       " ('indian', 'cocktail', 'popcorn'),\n",
       " ('indian', 'wine', 'ice cream'),\n",
       " ('indian', 'wine', 'cake'),\n",
       " ('indian', 'wine', 'popcorn'),\n",
       " ('indian', 'beer', 'ice cream'),\n",
       " ('indian', 'beer', 'cake'),\n",
       " ('indian', 'beer', 'popcorn'),\n",
       " ('sushi', 'cocktail', 'ice cream'),\n",
       " ('sushi', 'cocktail', 'cake'),\n",
       " ('sushi', 'cocktail', 'popcorn'),\n",
       " ('sushi', 'wine', 'ice cream'),\n",
       " ('sushi', 'wine', 'cake'),\n",
       " ('sushi', 'wine', 'popcorn'),\n",
       " ('sushi', 'beer', 'ice cream'),\n",
       " ('sushi', 'beer', 'cake'),\n",
       " ('sushi', 'beer', 'popcorn'),\n",
       " ('pizza', 'cocktail', 'ice cream'),\n",
       " ('pizza', 'cocktail', 'cake'),\n",
       " ('pizza', 'cocktail', 'popcorn'),\n",
       " ('pizza', 'wine', 'ice cream'),\n",
       " ('pizza', 'wine', 'cake'),\n",
       " ('pizza', 'wine', 'popcorn'),\n",
       " ('pizza', 'beer', 'ice cream'),\n",
       " ('pizza', 'beer', 'cake'),\n",
       " ('pizza', 'beer', 'popcorn')]"
      ]
     },
     "execution_count": 31,
     "metadata": {},
     "output_type": "execute_result"
    }
   ],
   "source": [
    "list(itertools.product(food, drinks, dessert))"
   ]
  },
  {
   "cell_type": "markdown",
   "id": "e2ab257b",
   "metadata": {},
   "source": [
    "### `random`"
   ]
  },
  {
   "cell_type": "code",
   "execution_count": 32,
   "id": "3fb6ba9f",
   "metadata": {},
   "outputs": [],
   "source": [
    "import random"
   ]
  },
  {
   "cell_type": "code",
   "execution_count": 33,
   "id": "577bf6f4",
   "metadata": {},
   "outputs": [
    {
     "data": {
      "text/plain": [
       "['🟩', '🟥', '🟦', '🟥', '🟦', '🟥', '🟦', '🟥', '🟧', '🟥']"
      ]
     },
     "execution_count": 33,
     "metadata": {},
     "output_type": "execute_result"
    }
   ],
   "source": [
    "random.choices([\"🟦\", \"🟥\", \"🟧\", \"🟩\"], k=10)"
   ]
  },
  {
   "cell_type": "code",
   "execution_count": 34,
   "id": "8ea31884",
   "metadata": {},
   "outputs": [
    {
     "data": {
      "text/plain": [
       "['☀️', '☁️', '☀️', '☀️', '☀️', '☀️', '🌧', '☁️', '☀️', '☁️']"
      ]
     },
     "execution_count": 34,
     "metadata": {},
     "output_type": "execute_result"
    }
   ],
   "source": [
    "options = [\"☀️\", \"🌧\", \"⛈\", \"🌤\", \"☁️\"]\n",
    "weights = [1000, 200, 40, 30, 150]\n",
    "\n",
    "random.choices(options, weights, k=10)"
   ]
  },
  {
   "cell_type": "code",
   "execution_count": 35,
   "id": "2a8d86b3",
   "metadata": {},
   "outputs": [
    {
     "name": "stdout",
     "output_type": "stream",
     "text": [
      "Couldn't find program: 'false'\n"
     ]
    }
   ],
   "source": [
    "%%script false --no-raise-error\n",
    "\n",
    "random.sample([\"🟦\", \"🟥\", \"🟧\", \"🟩\"], k=10)"
   ]
  },
  {
   "cell_type": "code",
   "execution_count": 36,
   "id": "06657c88",
   "metadata": {},
   "outputs": [
    {
     "data": {
      "text/plain": [
       "'☁️'"
      ]
     },
     "execution_count": 36,
     "metadata": {},
     "output_type": "execute_result"
    }
   ],
   "source": [
    "random.choice([\"☀️\", \"🌧\", \"⛈\", \"🌤\", \"☁️\"])\n",
    "random.choices([\"☀️\", \"🌧\", \"⛈\", \"🌤\", \"☁️\"])[0]"
   ]
  },
  {
   "cell_type": "markdown",
   "id": "2207c233",
   "metadata": {},
   "source": [
    "### Challenge\n",
    "\n",
    "<div class='alert alert-info'>\n",
    "  🎒 Use random.choices with weights to model some of your own daily/weekly activities!\n",
    "</div>"
   ]
  },
  {
   "cell_type": "code",
   "execution_count": 37,
   "id": "21eb01b1",
   "metadata": {},
   "outputs": [
    {
     "data": {
      "text/plain": [
       "['🪨', '🥘', '🪨', '🇨🇳', '🍻', '🇨🇳', '🥘', '🥘', '🍻', '🇨🇳']"
      ]
     },
     "execution_count": 37,
     "metadata": {},
     "output_type": "execute_result"
    }
   ],
   "source": [
    "options = [\"🪨\", \"🎶\", \"🍻\", \"🇨🇳\", \"🥘\"]\n",
    "weights = [3, 1, 2, 4, 5]\n",
    "\n",
    "random.choices(options, weights, k=10)"
   ]
  },
  {
   "cell_type": "markdown",
   "id": "90e7b21b",
   "metadata": {},
   "source": [
    "### `collections.Counter`"
   ]
  },
  {
   "cell_type": "code",
   "execution_count": 1,
   "id": "660c91f9",
   "metadata": {},
   "outputs": [],
   "source": [
    "from collections import Counter"
   ]
  },
  {
   "cell_type": "code",
   "execution_count": 2,
   "id": "44af5621",
   "metadata": {},
   "outputs": [],
   "source": [
    "colours = [\"Red\", \"Red\", \"Red\", \"Green\", \"Blue\", \"Blue\"]"
   ]
  },
  {
   "cell_type": "code",
   "execution_count": 3,
   "id": "be3b5338",
   "metadata": {},
   "outputs": [],
   "source": [
    "counter = Counter(colours)"
   ]
  },
  {
   "cell_type": "code",
   "execution_count": 4,
   "id": "585609e0",
   "metadata": {},
   "outputs": [
    {
     "data": {
      "text/plain": [
       "Counter({'Red': 3, 'Green': 1, 'Blue': 2})"
      ]
     },
     "execution_count": 4,
     "metadata": {},
     "output_type": "execute_result"
    }
   ],
   "source": [
    "counter"
   ]
  },
  {
   "cell_type": "code",
   "execution_count": 5,
   "id": "b95f6c30",
   "metadata": {},
   "outputs": [
    {
     "data": {
      "text/plain": [
       "collections.Counter"
      ]
     },
     "execution_count": 5,
     "metadata": {},
     "output_type": "execute_result"
    }
   ],
   "source": [
    "type(counter)"
   ]
  },
  {
   "cell_type": "code",
   "execution_count": 6,
   "id": "c4cea351",
   "metadata": {},
   "outputs": [
    {
     "data": {
      "text/plain": [
       "3"
      ]
     },
     "execution_count": 6,
     "metadata": {},
     "output_type": "execute_result"
    }
   ],
   "source": [
    "counter[\"Red\"]"
   ]
  },
  {
   "cell_type": "code",
   "execution_count": 7,
   "id": "028b78bc",
   "metadata": {},
   "outputs": [
    {
     "data": {
      "text/plain": [
       "[('Red', 3), ('Blue', 2)]"
      ]
     },
     "execution_count": 7,
     "metadata": {},
     "output_type": "execute_result"
    }
   ],
   "source": [
    "counter.most_common(2)"
   ]
  },
  {
   "cell_type": "markdown",
   "id": "729d4d4c",
   "metadata": {},
   "source": [
    "### Challenge\n",
    "\n",
    "<div class='alert alert-info'>\n",
    "  🎒 Use Counter to count how many times you press Left in the \"Konami Cheat Code\", and print the number of button presses in the full cheat code (Hint: Up, Up, Down, Down, Left, Right, Left, Right, B, A, Start)\n",
    "</div>"
   ]
  },
  {
   "cell_type": "code",
   "execution_count": 8,
   "id": "78eccc1f",
   "metadata": {},
   "outputs": [],
   "source": [
    "code = [\"⬆️\", \"⬆️\", \"⬇️\", \"⬇️\", \"⬅️\", \"➡️\", \"⬅️\", \"➡️\", \"🅱️\", \"🅰️\", \"⭐️\"]"
   ]
  },
  {
   "cell_type": "code",
   "execution_count": 9,
   "id": "624bde2c",
   "metadata": {},
   "outputs": [],
   "source": [
    "counter_code = Counter(code)"
   ]
  },
  {
   "cell_type": "code",
   "execution_count": 10,
   "id": "56f6d245",
   "metadata": {},
   "outputs": [
    {
     "data": {
      "text/plain": [
       "2"
      ]
     },
     "execution_count": 10,
     "metadata": {},
     "output_type": "execute_result"
    }
   ],
   "source": [
    "counter_code[\"⬅️\"]"
   ]
  },
  {
   "cell_type": "code",
   "execution_count": 11,
   "id": "511025b0",
   "metadata": {},
   "outputs": [
    {
     "data": {
      "text/plain": [
       "Counter({'⬆️': 2, '⬇️': 2, '⬅️': 2, '➡️': 2, '🅱️': 1, '🅰️': 1, '⭐️': 1})"
      ]
     },
     "execution_count": 11,
     "metadata": {},
     "output_type": "execute_result"
    }
   ],
   "source": [
    "counter_code"
   ]
  },
  {
   "cell_type": "markdown",
   "id": "c4b513cf",
   "metadata": {},
   "source": [
    "### \"Third Party\" Libraries"
   ]
  },
  {
   "cell_type": "markdown",
   "id": "f5d1b22b",
   "metadata": {},
   "source": [
    "- [rich](https://github.com/Textualize/rich)\n",
    "- [chime](https://github.com/MaxHalford/chime)\n",
    "- [schedule](https://github.com/dbader/schedule)\n",
    "- [faker](https://github.com/joke2k/faker)\n",
    "- [pandas](https://github.com/pandas-dev/pandas)"
   ]
  },
  {
   "cell_type": "markdown",
   "id": "59e78306",
   "metadata": {},
   "source": [
    "### rich"
   ]
  },
  {
   "cell_type": "code",
   "execution_count": 33,
   "id": "0370993f-500d-4e96-9502-5dce94874796",
   "metadata": {},
   "outputs": [
    {
     "name": "stdout",
     "output_type": "stream",
     "text": [
      "Collecting rich\n",
      "  Downloading rich-13.4.2-py3-none-any.whl (239 kB)\n",
      "     ------------------------------------ 239.4/239.4 kB 504.8 kB/s eta 0:00:00\n",
      "Collecting markdown-it-py>=2.2.0\n",
      "  Downloading markdown_it_py-3.0.0-py3-none-any.whl (87 kB)\n",
      "     -------------------------------------- 87.5/87.5 kB 141.3 kB/s eta 0:00:00\n",
      "Collecting pygments<3.0.0,>=2.13.0\n",
      "  Downloading Pygments-2.15.1-py3-none-any.whl (1.1 MB)\n",
      "     ---------------------------------------- 1.1/1.1 MB 363.6 kB/s eta 0:00:00\n",
      "Collecting mdurl~=0.1\n",
      "  Downloading mdurl-0.1.2-py3-none-any.whl (10.0 kB)\n",
      "Installing collected packages: pygments, mdurl, markdown-it-py, rich\n",
      "  Attempting uninstall: pygments\n",
      "    Found existing installation: Pygments 2.11.2\n",
      "    Uninstalling Pygments-2.11.2:\n",
      "      Successfully uninstalled Pygments-2.11.2\n",
      "Successfully installed markdown-it-py-3.0.0 mdurl-0.1.2 pygments-2.15.1 rich-13.4.2\n",
      "Note: you may need to restart the kernel to use updated packages.\n"
     ]
    },
    {
     "name": "stderr",
     "output_type": "stream",
     "text": [
      "ERROR: pip's dependency resolver does not currently take into account all the packages that are installed. This behaviour is the source of the following dependency conflicts.\n",
      "spyder 5.2.2 requires pyqt5<5.13, which is not installed.\n",
      "spyder 5.2.2 requires pyqtwebengine<5.13, which is not installed.\n"
     ]
    }
   ],
   "source": [
    "pip install rich"
   ]
  },
  {
   "cell_type": "code",
   "execution_count": 34,
   "id": "ca8ad0b9",
   "metadata": {},
   "outputs": [],
   "source": [
    "from rich import print"
   ]
  },
  {
   "cell_type": "code",
   "execution_count": 36,
   "id": "21b65b37",
   "metadata": {},
   "outputs": [
    {
     "ename": "NameError",
     "evalue": "name 'itertools' is not defined",
     "output_type": "error",
     "traceback": [
      "\u001b[1;31m---------------------------------------------------------------------------\u001b[0m",
      "\u001b[1;31mNameError\u001b[0m                                 Traceback (most recent call last)",
      "\u001b[1;32m~\\AppData\\Local\\Temp\\ipykernel_19244\\196625105.py\u001b[0m in \u001b[0;36m<module>\u001b[1;34m\u001b[0m\n\u001b[1;32m----> 1\u001b[1;33m \u001b[0mprint\u001b[0m\u001b[1;33m(\u001b[0m\u001b[0mlist\u001b[0m\u001b[1;33m(\u001b[0m\u001b[0mitertools\u001b[0m\u001b[1;33m.\u001b[0m\u001b[0mproduct\u001b[0m\u001b[1;33m(\u001b[0m\u001b[0mfood\u001b[0m\u001b[1;33m,\u001b[0m \u001b[0mdrinks\u001b[0m\u001b[1;33m,\u001b[0m \u001b[0mdessert\u001b[0m\u001b[1;33m)\u001b[0m\u001b[1;33m)\u001b[0m\u001b[1;33m)\u001b[0m\u001b[1;33m\u001b[0m\u001b[1;33m\u001b[0m\u001b[0m\n\u001b[0m",
      "\u001b[1;31mNameError\u001b[0m: name 'itertools' is not defined"
     ]
    }
   ],
   "source": [
    "print(list(itertools.product(food, drinks, dessert)))"
   ]
  },
  {
   "cell_type": "markdown",
   "id": "3152cafd",
   "metadata": {},
   "source": [
    "### chime"
   ]
  },
  {
   "cell_type": "code",
   "execution_count": 37,
   "id": "fcfcec24-d850-48a5-a8f6-e840a55c72b5",
   "metadata": {},
   "outputs": [
    {
     "name": "stdout",
     "output_type": "stream",
     "text": [
      "Collecting chime\n",
      "  Downloading chime-0.7.0-py3-none-any.whl (3.9 MB)\n",
      "     ---------------------------------------- 3.9/3.9 MB 35.4 kB/s eta 0:00:00\n",
      "Installing collected packages: chime\n",
      "Successfully installed chime-0.7.0\n",
      "Note: you may need to restart the kernel to use updated packages.\n"
     ]
    }
   ],
   "source": [
    "pip install chime"
   ]
  },
  {
   "cell_type": "code",
   "execution_count": 39,
   "id": "e3fba38e",
   "metadata": {},
   "outputs": [],
   "source": [
    "import chime"
   ]
  },
  {
   "cell_type": "code",
   "execution_count": 53,
   "id": "8a7610bc",
   "metadata": {},
   "outputs": [],
   "source": [
    "chime.success()"
   ]
  },
  {
   "cell_type": "code",
   "execution_count": 52,
   "id": "c43fedf0",
   "metadata": {},
   "outputs": [],
   "source": [
    "chime.warning()"
   ]
  },
  {
   "cell_type": "code",
   "execution_count": 65,
   "id": "37b1c971-30f0-406b-b715-6850734e7470",
   "metadata": {},
   "outputs": [],
   "source": [
    "#chime.success()\n",
    "#chime.warning()\n",
    "#chime.error()\n",
    "chime.info()"
   ]
  },
  {
   "cell_type": "markdown",
   "id": "4ba14297",
   "metadata": {},
   "source": [
    "### schedule"
   ]
  },
  {
   "cell_type": "code",
   "execution_count": 54,
   "id": "245e7c8a-a057-41cc-8b56-906aa8d69993",
   "metadata": {},
   "outputs": [
    {
     "name": "stdout",
     "output_type": "stream",
     "text": [
      "Collecting schedule\n",
      "  Downloading schedule-1.2.0-py2.py3-none-any.whl (11 kB)\n",
      "Installing collected packages: schedule\n",
      "Successfully installed schedule-1.2.0\n",
      "Note: you may need to restart the kernel to use updated packages.\n"
     ]
    }
   ],
   "source": [
    "pip install schedule"
   ]
  },
  {
   "cell_type": "code",
   "execution_count": 55,
   "id": "3d819444",
   "metadata": {},
   "outputs": [],
   "source": [
    "import schedule\n",
    "\n",
    "def job():\n",
    "    print(\"This could be anything!\")"
   ]
  },
  {
   "cell_type": "code",
   "execution_count": 56,
   "id": "a373d818",
   "metadata": {},
   "outputs": [
    {
     "data": {
      "text/plain": [
       "Every 5 minutes do job() (last run: [never], next run: 2023-06-14 19:05:27)"
      ]
     },
     "execution_count": 56,
     "metadata": {},
     "output_type": "execute_result"
    }
   ],
   "source": [
    "schedule.every(5).minutes.do(job)"
   ]
  },
  {
   "cell_type": "code",
   "execution_count": 57,
   "id": "2a1a1554",
   "metadata": {},
   "outputs": [],
   "source": [
    "# while True:\n",
    "#     schedule.run_pending()"
   ]
  },
  {
   "cell_type": "code",
   "execution_count": 68,
   "id": "0c377e1e-52ec-48a9-a395-e7b3f52d5b32",
   "metadata": {},
   "outputs": [
    {
     "data": {
      "text/plain": [
       "Every 5 seconds do job() (last run: [never], next run: 2023-06-14 19:22:26)"
      ]
     },
     "execution_count": 68,
     "metadata": {},
     "output_type": "execute_result"
    }
   ],
   "source": [
    "import schedule\n",
    "import time\n",
    "\n",
    "def job():\n",
    "    print(\"I'm working...\")\n",
    "\n",
    "schedule.every(5).seconds.do(job)"
   ]
  },
  {
   "cell_type": "markdown",
   "id": "d3ece8d2",
   "metadata": {},
   "source": [
    "### faker"
   ]
  },
  {
   "cell_type": "code",
   "execution_count": 28,
   "id": "6e612d99-a8f7-4334-a113-703524e04d8f",
   "metadata": {
    "collapsed": true,
    "jupyter": {
     "outputs_hidden": true
    },
    "tags": []
   },
   "outputs": [
    {
     "name": "stdout",
     "output_type": "stream",
     "text": [
      "Collecting Faker\n",
      "  Downloading Faker-18.10.1-py3-none-any.whl (1.7 MB)\n",
      "     ---------------------------------------- 1.7/1.7 MB 294.0 kB/s eta 0:00:00\n",
      "Requirement already satisfied: python-dateutil>=2.4 in c:\\programdata\\anaconda3\\lib\\site-packages (from Faker) (2.8.2)\n",
      "Requirement already satisfied: six>=1.5 in c:\\programdata\\anaconda3\\lib\\site-packages (from python-dateutil>=2.4->Faker) (1.16.0)\n",
      "Installing collected packages: Faker\n",
      "Successfully installed Faker-18.10.1\n",
      "Note: you may need to restart the kernel to use updated packages.\n"
     ]
    }
   ],
   "source": [
    "pip install Faker"
   ]
  },
  {
   "cell_type": "code",
   "execution_count": 190,
   "id": "40496b89",
   "metadata": {},
   "outputs": [],
   "source": [
    "from faker import Faker\n",
    "\n",
    "fake = Faker('nl_NL')"
   ]
  },
  {
   "cell_type": "code",
   "execution_count": 191,
   "id": "5b2f4397",
   "metadata": {},
   "outputs": [
    {
     "data": {
      "text/plain": [
       "'Maya Reijers'"
      ]
     },
     "execution_count": 191,
     "metadata": {},
     "output_type": "execute_result"
    }
   ],
   "source": [
    "fake.name()"
   ]
  },
  {
   "cell_type": "code",
   "execution_count": 192,
   "id": "dfe695a4",
   "metadata": {},
   "outputs": [
    {
     "data": {
      "text/plain": [
       "'213143619805162'"
      ]
     },
     "execution_count": 192,
     "metadata": {},
     "output_type": "execute_result"
    }
   ],
   "source": [
    "fake.credit_card_number()"
   ]
  },
  {
   "cell_type": "code",
   "execution_count": 193,
   "id": "05e8990c-2295-416e-aab4-1ac82782ec47",
   "metadata": {},
   "outputs": [
    {
     "data": {
      "text/html": [
       "<pre style=\"white-space:pre;overflow-x:auto;line-height:normal;font-family:Menlo,'DejaVu Sans Mono',consolas,'Courier New',monospace\">Evybaan <span style=\"color: #008080; text-decoration-color: #008080; font-weight: bold\">2</span>\n",
       "<span style=\"color: #008080; text-decoration-color: #008080; font-weight: bold\">2177</span> OY\n",
       "Eijsden\n",
       "</pre>\n"
      ],
      "text/plain": [
       "Evybaan \u001b[1;36m2\u001b[0m\n",
       "\u001b[1;36m2177\u001b[0m OY\n",
       "Eijsden\n"
      ]
     },
     "metadata": {},
     "output_type": "display_data"
    }
   ],
   "source": [
    "print(fake.address())"
   ]
  },
  {
   "cell_type": "markdown",
   "id": "613ca888",
   "metadata": {},
   "source": [
    "### pandas"
   ]
  },
  {
   "cell_type": "code",
   "execution_count": 24,
   "id": "10a72d56",
   "metadata": {},
   "outputs": [],
   "source": [
    "import pandas as pd"
   ]
  },
  {
   "cell_type": "code",
   "execution_count": 25,
   "id": "2da45caa",
   "metadata": {},
   "outputs": [],
   "source": [
    "df = pd.DataFrame({\n",
    "    \"a\": 1.0,\n",
    "    \"b\": pd.Timestamp(\"20220101\"),\n",
    "    \"c\": pd.Series([1, 2, 3, 4], dtype=\"float32\"),\n",
    "    \"d\": pd.Categorical([\"test\", \"train\", \"test\", \"train\"]),\n",
    "    \"e\": \"foo\",\n",
    "})"
   ]
  },
  {
   "cell_type": "code",
   "execution_count": 26,
   "id": "b63a4d58",
   "metadata": {},
   "outputs": [
    {
     "data": {
      "text/plain": [
       "0    1.0\n",
       "1    2.0\n",
       "2    3.0\n",
       "3    4.0\n",
       "Name: c, dtype: float32"
      ]
     },
     "execution_count": 26,
     "metadata": {},
     "output_type": "execute_result"
    }
   ],
   "source": [
    "df[\"c\"]"
   ]
  },
  {
   "cell_type": "code",
   "execution_count": 198,
   "id": "481e1a8b-1790-4c1b-83fa-6dca0e99ffb0",
   "metadata": {},
   "outputs": [
    {
     "data": {
      "text/html": [
       "<div>\n",
       "<style scoped>\n",
       "    .dataframe tbody tr th:only-of-type {\n",
       "        vertical-align: middle;\n",
       "    }\n",
       "\n",
       "    .dataframe tbody tr th {\n",
       "        vertical-align: top;\n",
       "    }\n",
       "\n",
       "    .dataframe thead th {\n",
       "        text-align: right;\n",
       "    }\n",
       "</style>\n",
       "<table border=\"1\" class=\"dataframe\">\n",
       "  <thead>\n",
       "    <tr style=\"text-align: right;\">\n",
       "      <th></th>\n",
       "      <th>a</th>\n",
       "      <th>b</th>\n",
       "      <th>c</th>\n",
       "      <th>d</th>\n",
       "      <th>e</th>\n",
       "    </tr>\n",
       "  </thead>\n",
       "  <tbody>\n",
       "    <tr>\n",
       "      <th>0</th>\n",
       "      <td>1.0</td>\n",
       "      <td>2022-01-01</td>\n",
       "      <td>1.0</td>\n",
       "      <td>test</td>\n",
       "      <td>foo</td>\n",
       "    </tr>\n",
       "    <tr>\n",
       "      <th>1</th>\n",
       "      <td>1.0</td>\n",
       "      <td>2022-01-01</td>\n",
       "      <td>2.0</td>\n",
       "      <td>train</td>\n",
       "      <td>foo</td>\n",
       "    </tr>\n",
       "    <tr>\n",
       "      <th>2</th>\n",
       "      <td>1.0</td>\n",
       "      <td>2022-01-01</td>\n",
       "      <td>3.0</td>\n",
       "      <td>test</td>\n",
       "      <td>foo</td>\n",
       "    </tr>\n",
       "    <tr>\n",
       "      <th>3</th>\n",
       "      <td>1.0</td>\n",
       "      <td>2022-01-01</td>\n",
       "      <td>4.0</td>\n",
       "      <td>train</td>\n",
       "      <td>foo</td>\n",
       "    </tr>\n",
       "  </tbody>\n",
       "</table>\n",
       "</div>"
      ],
      "text/plain": [
       "     a          b    c      d    e\n",
       "0  1.0 2022-01-01  1.0   test  foo\n",
       "1  1.0 2022-01-01  2.0  train  foo\n",
       "2  1.0 2022-01-01  3.0   test  foo\n",
       "3  1.0 2022-01-01  4.0  train  foo"
      ]
     },
     "execution_count": 198,
     "metadata": {},
     "output_type": "execute_result"
    }
   ],
   "source": [
    "df"
   ]
  },
  {
   "cell_type": "markdown",
   "id": "a8b31ab8",
   "metadata": {},
   "source": [
    "### Antigravity"
   ]
  },
  {
   "cell_type": "code",
   "execution_count": 199,
   "id": "5fe16f34",
   "metadata": {},
   "outputs": [],
   "source": [
    "import antigravity"
   ]
  },
  {
   "cell_type": "markdown",
   "id": "6cfb7c6d",
   "metadata": {},
   "source": [
    "### Challenge\n",
    "\n",
    "<div class='alert alert-info'>\n",
    "🎒 Use Faker to generate a fake email and password!\n",
    "</div>"
   ]
  },
  {
   "cell_type": "code",
   "execution_count": null,
   "id": "a82b34e5",
   "metadata": {},
   "outputs": [],
   "source": [
    "from faker import Faker\n",
    "\n",
    "fake = Faker()"
   ]
  },
  {
   "cell_type": "code",
   "execution_count": null,
   "id": "5745476d",
   "metadata": {},
   "outputs": [],
   "source": [
    "fake.email()"
   ]
  },
  {
   "cell_type": "code",
   "execution_count": null,
   "id": "0e0fc8d4",
   "metadata": {},
   "outputs": [],
   "source": [
    "fake.password()"
   ]
  },
  {
   "cell_type": "markdown",
   "id": "92a4ae99",
   "metadata": {},
   "source": [
    "### Homework"
   ]
  },
  {
   "cell_type": "markdown",
   "id": "1bb4e62f",
   "metadata": {},
   "source": [
    "<div class='alert alert-info'>\n",
    "🎒 Explore some other packages on <a href=\"https://anaconda.cloud/package-categories\">Anaconda Nucleus</a>!\n",
    "</div>"
   ]
  }
 ],
 "metadata": {
  "kernelspec": {
   "display_name": "Python 3 (ipykernel)",
   "language": "python",
   "name": "python3"
  },
  "language_info": {
   "codemirror_mode": {
    "name": "ipython",
    "version": 3
   },
   "file_extension": ".py",
   "mimetype": "text/x-python",
   "name": "python",
   "nbconvert_exporter": "python",
   "pygments_lexer": "ipython3",
   "version": "3.9.13"
  }
 },
 "nbformat": 4,
 "nbformat_minor": 5
}
