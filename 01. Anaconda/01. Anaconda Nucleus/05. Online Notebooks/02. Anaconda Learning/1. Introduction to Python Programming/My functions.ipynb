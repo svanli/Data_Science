{
 "cells": [
  {
   "cell_type": "markdown",
   "id": "2f9ecbf0-2fea-427e-a191-0ce5c454387e",
   "metadata": {},
   "source": [
    "<h1><b>My functions</b></h1>"
   ]
  },
  {
   "cell_type": "markdown",
   "id": "7b346faf-a1da-4b54-965b-fdc19ee707c6",
   "metadata": {},
   "source": [
    "<h2>Бот «камень, ножницы, бумага»</h2>"
   ]
  },
  {
   "cell_type": "code",
   "execution_count": 2,
   "id": "5bc2b68a-832a-4f89-986c-bd459fbc7408",
   "metadata": {},
   "outputs": [],
   "source": [
    "import random\n",
    "\n",
    "def кнб_бот(input):\n",
    "    \n",
    "    # Компьютер генерирует камень/ножницы/бумагу\n",
    "    генерация_кнб = random.choice(['🪨 камень', '✂️ ножницы', '📄 бумага'])\n",
    "    \n",
    "    # Из ввода игрока убирают заглавные буквы и пробелы\n",
    "    input = input.lower().strip()\n",
    "    \n",
    "    # Словарь с введёнными значениями и их новыми значениями\n",
    "    values_dict = {\n",
    "        'камень': '🪨 камень',\n",
    "        'ножницы': '✂️ ножницы',\n",
    "        'бумага': '📄 бумага'\n",
    "    }\n",
    "    \n",
    "    # Проверка на корректное значение\n",
    "    if input not in values_dict:\n",
    "        return print('Привет! Чтобы начать играть введи «камень», «ножницы» или «бумага» :)')\n",
    "    \n",
    "    # Корректные значения получают эмоджи\n",
    "    input = values_dict[input]\n",
    " \n",
    "    # Выводятся ввод игрока и сгенерированное значение компьютера\n",
    "    print(\n",
    "        f'ТЫ: {input}\\n'\n",
    "        f'ОН: {генерация_кнб}\\n'\n",
    "    )\n",
    "    \n",
    "    # Словарь с выигрышниыми комбинациями\n",
    "    winning_combinations = {\n",
    "        '🪨 камень': '✂️ ножницы',\n",
    "        '✂️ ножницы': '📄 бумага',\n",
    "        '📄 бумага': '🪨 камень'\n",
    "    }\n",
    "    \n",
    "    # Вывод значений в зависимости от ввода игрока и компьютера\n",
    "    if input == генерация_кнб:\n",
    "        print('Ничья! Победила дружба! :)')\n",
    "\n",
    "    elif winning_combinations[input] == генерация_кнб:\n",
    "        print(f'Победа! :D')\n",
    "\n",
    "    else:\n",
    "        print(f'Проигрыш... :( Попробуй ещё')"
   ]
  },
  {
   "cell_type": "code",
   "execution_count": 3,
   "id": "6ca6adfc-edda-4a60-bbfb-49512e3900e3",
   "metadata": {},
   "outputs": [
    {
     "name": "stdout",
     "output_type": "stream",
     "text": [
      "ТЫ: 🪨 камень\n",
      "ОН: 🪨 камень\n",
      "\n",
      "Ничья! Победила дружба! :)\n"
     ]
    }
   ],
   "source": [
    "кнб_бот('камень')"
   ]
  },
  {
   "cell_type": "markdown",
   "id": "0f6e6491-4548-427c-a7a0-911781d323a7",
   "metadata": {},
   "source": [
    "<h2>Robot Pickup</h2>"
   ]
  },
  {
   "cell_type": "markdown",
   "id": "a35c86fc-126a-48e3-a78a-9dbe897c951d",
   "metadata": {},
   "source": [
    "1. Robot picks items from a shelf.\n",
    "\n",
    "2. Robot can go:<br>\n",
    "U · ↑ up<br>\n",
    "D · ↓ down<br>\n",
    "L · ← left<br>\n",
    "R · → right<br>\n",
    "\n",
    "3. Create a function to determine if the robot successfully picked the item from the shelf and has returned to its’ starting position.\n",
    " \n",
    "Example 1:<br>\n",
    "Input: moves = \"UDUD\"<br>\n",
    "Output: true\n",
    "\n",
    "Example 2:<br>\n",
    "Input: moves = \"LLLLDDDU\"<br>\n",
    "Output: false\n",
    "\n",
    "Example 3:<br>\n",
    "Input: moves = \"RRDDLULU\"<br>\n",
    "Output: true"
   ]
  },
  {
   "cell_type": "markdown",
   "id": "c074c180-f64b-4886-90b2-2f673face418",
   "metadata": {},
   "source": [
    "<b>Solution 1:</b>"
   ]
  },
  {
   "cell_type": "code",
   "execution_count": 1,
   "id": "03bdd9e6-0337-4f50-bf30-26980c4ef189",
   "metadata": {},
   "outputs": [],
   "source": [
    "def robot_check(directions):\n",
    "    \n",
    "    value_per_direction = {\n",
    "        'U': 1,\n",
    "        'D': -1,\n",
    "        'L': 1,\n",
    "        'R': -1\n",
    "    }\n",
    "    \n",
    "    values = (value_per_direction[direction] for direction in directions) # ← generator expression\n",
    "    \n",
    "    print(sum(values) == 0)"
   ]
  },
  {
   "cell_type": "markdown",
   "id": "016d1ccf-c30d-41a9-aafc-128978598f37",
   "metadata": {},
   "source": [
    "<b>Chat GPT solution:</b>"
   ]
  },
  {
   "cell_type": "code",
   "execution_count": 2,
   "id": "8d074e86-0603-48a6-8f4c-89704f52bfc9",
   "metadata": {},
   "outputs": [],
   "source": [
    "def robot_pickup(moves):\n",
    "    position = [0, 0]  # Starting position\n",
    "    \n",
    "    for move in moves:\n",
    "        if move == 'U':\n",
    "            position[1] += 1\n",
    "        elif move == 'D':\n",
    "            position[1] -= 1\n",
    "        elif move == 'L':\n",
    "            position[0] -= 1\n",
    "        elif move == 'R':\n",
    "            position[0] += 1\n",
    "    \n",
    "    return position == [0, 0]  # Check if the final position is the starting position"
   ]
  },
  {
   "cell_type": "markdown",
   "id": "fcc71b4a-2d5a-4515-8804-10f0f94753b5",
   "metadata": {},
   "source": [
    "<b>Exercise solution:</b>"
   ]
  },
  {
   "cell_type": "code",
   "execution_count": 4,
   "id": "3a28b0db-d6f1-4e4f-a7a5-6b30b2cdf459",
   "metadata": {},
   "outputs": [],
   "source": [
    "def did_pick_and_return(moves):\n",
    "    \n",
    "    x = y = 0\n",
    "    \n",
    "    for move in moves:\n",
    "        if move == 'R':\n",
    "            x += 1\n",
    "        if move == 'L':\n",
    "            x -= 1\n",
    "        if move == 'U':\n",
    "            y += 1\n",
    "        if move == 'D':\n",
    "            y -= 1\n",
    "           \n",
    "    return x == 0 and y == 0"
   ]
  }
 ],
 "metadata": {
  "kernelspec": {
   "display_name": "Python 3 (ipykernel)",
   "language": "python",
   "name": "python3"
  },
  "language_info": {
   "codemirror_mode": {
    "name": "ipython",
    "version": 3
   },
   "file_extension": ".py",
   "mimetype": "text/x-python",
   "name": "python",
   "nbconvert_exporter": "python",
   "pygments_lexer": "ipython3",
   "version": "3.9.13"
  }
 },
 "nbformat": 4,
 "nbformat_minor": 5
}
