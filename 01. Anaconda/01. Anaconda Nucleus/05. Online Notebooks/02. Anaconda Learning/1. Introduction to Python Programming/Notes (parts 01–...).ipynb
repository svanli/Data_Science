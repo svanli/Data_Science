{
 "cells": [
  {
   "cell_type": "markdown",
   "id": "321826ae-1341-443c-b3a2-484ff05398d7",
   "metadata": {},
   "source": [
    "<h1>Notes (parts 01–...)</h1>"
   ]
  },
  {
   "cell_type": "markdown",
   "id": "29af0e53-42c7-4e5a-8655-0c66598ce83a",
   "metadata": {},
   "source": [
    "# 01. Strings"
   ]
  },
  {
   "cell_type": "code",
   "execution_count": 1,
   "id": "f279dfe0-a915-42ab-897f-0deb63bf0075",
   "metadata": {},
   "outputs": [
    {
     "data": {
      "text/plain": [
       "'Print this text'"
      ]
     },
     "execution_count": 1,
     "metadata": {},
     "output_type": "execute_result"
    }
   ],
   "source": [
    "f'Print this text'"
   ]
  },
  {
   "cell_type": "code",
   "execution_count": 2,
   "id": "d54195a9-9f18-4374-9c3a-78f3d6a32cbe",
   "metadata": {},
   "outputs": [
    {
     "name": "stdout",
     "output_type": "stream",
     "text": [
      "Print this text\n"
     ]
    }
   ],
   "source": [
    "print(f'Print this text')"
   ]
  },
  {
   "cell_type": "code",
   "execution_count": 3,
   "id": "27156053-9073-4ee6-a109-cf25d30cd2eb",
   "metadata": {},
   "outputs": [
    {
     "data": {
      "text/plain": [
       "False"
      ]
     },
     "execution_count": 3,
     "metadata": {},
     "output_type": "execute_result"
    }
   ],
   "source": [
    "'a' in 'good bye'"
   ]
  },
  {
   "cell_type": "code",
   "execution_count": 4,
   "id": "bf6ad428-0e59-4e4d-b1f5-92c42ac84a88",
   "metadata": {},
   "outputs": [
    {
     "data": {
      "text/plain": [
       "True"
      ]
     },
     "execution_count": 4,
     "metadata": {},
     "output_type": "execute_result"
    }
   ],
   "source": [
    "'o' in 'good bye'"
   ]
  },
  {
   "cell_type": "markdown",
   "id": "b71edb72-8770-4135-b7c3-aa7e25a68933",
   "metadata": {},
   "source": [
    "# 02. Numbers"
   ]
  },
  {
   "cell_type": "code",
   "execution_count": 5,
   "id": "bc2bcc66-0a09-4fab-b919-e712f2bed4ac",
   "metadata": {},
   "outputs": [
    {
     "data": {
      "text/plain": [
       "float"
      ]
     },
     "execution_count": 5,
     "metadata": {},
     "output_type": "execute_result"
    }
   ],
   "source": [
    "a = 9 / 3\n",
    "type(a)"
   ]
  },
  {
   "cell_type": "code",
   "execution_count": 7,
   "id": "26aa3187-c7db-48fe-9732-73c67d529ca7",
   "metadata": {},
   "outputs": [
    {
     "name": "stdout",
     "output_type": "stream",
     "text": [
      "9-2=\n"
     ]
    }
   ],
   "source": [
    "print(\"9-2=\")"
   ]
  },
  {
   "cell_type": "markdown",
   "id": "58b76aa3-8491-4735-a64e-a05cf018570d",
   "metadata": {},
   "source": [
    "Homework"
   ]
  },
  {
   "cell_type": "code",
   "execution_count": 12,
   "id": "887900ec-8f3a-4e27-a491-5c324b1ca6ba",
   "metadata": {},
   "outputs": [],
   "source": [
    "shoes = 10\n",
    "coach = 5"
   ]
  },
  {
   "cell_type": "code",
   "execution_count": 5,
   "id": "16becd02-d621-4a53-bbe8-067aa62851d6",
   "metadata": {},
   "outputs": [
    {
     "data": {
      "text/plain": [
       "30"
      ]
     },
     "execution_count": 5,
     "metadata": {},
     "output_type": "execute_result"
    }
   ],
   "source": [
    "ex1 = shoes + shoes + shoes\n",
    "ex1"
   ]
  },
  {
   "cell_type": "code",
   "execution_count": 6,
   "id": "f388d257-1c22-4676-842c-42284ad9dafe",
   "metadata": {},
   "outputs": [
    {
     "data": {
      "text/plain": [
       "20"
      ]
     },
     "execution_count": 6,
     "metadata": {},
     "output_type": "execute_result"
    }
   ],
   "source": [
    "ex2 = shoes + coach + coach\n",
    "ex2"
   ]
  },
  {
   "cell_type": "code",
   "execution_count": 7,
   "id": "acd01fee-71ef-4ae0-a7d0-a949a9bb92ce",
   "metadata": {},
   "outputs": [],
   "source": [
    "ex3 = 13"
   ]
  },
  {
   "cell_type": "code",
   "execution_count": 13,
   "id": "8965678d-4d5a-4328-b6d3-eb6bda99f213",
   "metadata": {},
   "outputs": [
    {
     "data": {
      "text/plain": [
       "4.0"
      ]
     },
     "execution_count": 13,
     "metadata": {},
     "output_type": "execute_result"
    }
   ],
   "source": [
    "whistles = (ex3-coach) / 2\n",
    "whistles"
   ]
  },
  {
   "cell_type": "code",
   "execution_count": 14,
   "id": "d9b54bbf-8745-4e03-8176-2a1aaeff586c",
   "metadata": {},
   "outputs": [
    {
     "data": {
      "text/plain": [
       "13.0"
      ]
     },
     "execution_count": 14,
     "metadata": {},
     "output_type": "execute_result"
    }
   ],
   "source": [
    "ex3 = coach + whistles + whistles\n",
    "ex3"
   ]
  },
  {
   "cell_type": "code",
   "execution_count": 15,
   "id": "808cd5f7-68fc-4a54-9430-1fb34cec8d82",
   "metadata": {},
   "outputs": [
    {
     "data": {
      "text/plain": [
       "11.0"
      ]
     },
     "execution_count": 15,
     "metadata": {},
     "output_type": "execute_result"
    }
   ],
   "source": [
    "ex4 = (shoes/2) + (coach-(whistles/2)) * (whistles/2)\n",
    "ex4"
   ]
  },
  {
   "cell_type": "markdown",
   "id": "785d0606-9a1a-4ec5-ac64-93602f5ffdba",
   "metadata": {},
   "source": [
    "# 03. Bools"
   ]
  },
  {
   "cell_type": "code",
   "execution_count": 16,
   "id": "2c88e598-61a7-4282-bedd-ba740f6a7758",
   "metadata": {},
   "outputs": [
    {
     "data": {
      "text/plain": [
       "True"
      ]
     },
     "execution_count": 16,
     "metadata": {},
     "output_type": "execute_result"
    }
   ],
   "source": [
    "0.1 == 0.1"
   ]
  },
  {
   "cell_type": "code",
   "execution_count": 17,
   "id": "db7f4296-1b5e-4448-8b16-0e16f38dec3b",
   "metadata": {},
   "outputs": [
    {
     "data": {
      "text/plain": [
       "True"
      ]
     },
     "execution_count": 17,
     "metadata": {},
     "output_type": "execute_result"
    }
   ],
   "source": [
    "0.2 == 0.2"
   ]
  },
  {
   "cell_type": "code",
   "execution_count": 18,
   "id": "2fe9af5f-e66c-43ef-9a2a-a7a3c888713d",
   "metadata": {},
   "outputs": [
    {
     "data": {
      "text/plain": [
       "True"
      ]
     },
     "execution_count": 18,
     "metadata": {},
     "output_type": "execute_result"
    }
   ],
   "source": [
    "0.3 == 0.3"
   ]
  },
  {
   "cell_type": "code",
   "execution_count": 20,
   "id": "687915d7-10a7-4861-95c6-1c96f5dcb865",
   "metadata": {},
   "outputs": [
    {
     "data": {
      "text/plain": [
       "False"
      ]
     },
     "execution_count": 20,
     "metadata": {},
     "output_type": "execute_result"
    }
   ],
   "source": [
    "0.7 + 0.2 == 0.9"
   ]
  },
  {
   "cell_type": "code",
   "execution_count": 21,
   "id": "173daaa1-45e7-414e-917a-7cfd830cff87",
   "metadata": {},
   "outputs": [
    {
     "data": {
      "text/plain": [
       "True"
      ]
     },
     "execution_count": 21,
     "metadata": {},
     "output_type": "execute_result"
    }
   ],
   "source": [
    "x = 20\n",
    "15 < x < 21"
   ]
  },
  {
   "cell_type": "code",
   "execution_count": 22,
   "id": "b5aa33a5-e263-4965-8029-c14d2c5893d9",
   "metadata": {},
   "outputs": [
    {
     "data": {
      "text/plain": [
       "False"
      ]
     },
     "execution_count": 22,
     "metadata": {},
     "output_type": "execute_result"
    }
   ],
   "source": [
    "16 < x < 19"
   ]
  },
  {
   "cell_type": "code",
   "execution_count": 24,
   "id": "4a37c323-ad10-432a-89a0-3737a97a414d",
   "metadata": {},
   "outputs": [],
   "source": [
    "pizza = True\n",
    "football = False\n",
    "swimming = True\n",
    "architecture = True\n",
    "Greece = False\n",
    "France = True"
   ]
  },
  {
   "cell_type": "code",
   "execution_count": 25,
   "id": "7a2a6357-1999-4a25-b130-aecc9527de0c",
   "metadata": {},
   "outputs": [
    {
     "data": {
      "text/plain": [
       "True"
      ]
     },
     "execution_count": 25,
     "metadata": {},
     "output_type": "execute_result"
    }
   ],
   "source": [
    "pizza & (football | swimming) & architecture & (Greece | France)"
   ]
  },
  {
   "cell_type": "markdown",
   "id": "300254b9-aa64-4d06-9501-c7abeb17961d",
   "metadata": {},
   "source": [
    "# 04. Collections"
   ]
  },
  {
   "cell_type": "code",
   "execution_count": 26,
   "id": "db74c752-4911-4a1d-abbf-a844f6535db6",
   "metadata": {},
   "outputs": [
    {
     "name": "stdout",
     "output_type": "stream",
     "text": [
      "[1, 2, 3, 4]\n"
     ]
    }
   ],
   "source": [
    "my_list = [1, 2, 3]\n",
    "my_list.append(4)\n",
    "print(my_list)"
   ]
  },
  {
   "cell_type": "code",
   "execution_count": 27,
   "id": "2c606e42-e053-48d0-8289-96d295a71c6e",
   "metadata": {},
   "outputs": [
    {
     "name": "stdout",
     "output_type": "stream",
     "text": [
      "[1, 2, 3, 4, 5, 6]\n"
     ]
    }
   ],
   "source": [
    "my_list = [1, 2, 3]\n",
    "my_list.extend([4, 5, 6])\n",
    "print(my_list)"
   ]
  },
  {
   "cell_type": "code",
   "execution_count": 29,
   "id": "7f8131ba-ede7-4890-b5ee-14b1804761fa",
   "metadata": {},
   "outputs": [
    {
     "name": "stdout",
     "output_type": "stream",
     "text": [
      "[1, 2, 3, 4, 5, 6, [7, 8, 9], 7, 8, 9]\n"
     ]
    }
   ],
   "source": [
    "my_list.extend([7, 8, 9])\n",
    "print(my_list)"
   ]
  },
  {
   "cell_type": "code",
   "execution_count": 30,
   "id": "fcd872df-078d-4c5a-a25f-9f13515f886d",
   "metadata": {},
   "outputs": [],
   "source": [
    "numbers = [1, 9, 3, -1, 5, 5, 5]"
   ]
  },
  {
   "cell_type": "code",
   "execution_count": 31,
   "id": "7b2f5047-be08-488b-9537-1f3a4908207b",
   "metadata": {},
   "outputs": [
    {
     "data": {
      "text/plain": [
       "[]"
      ]
     },
     "execution_count": 31,
     "metadata": {},
     "output_type": "execute_result"
    }
   ],
   "source": [
    "numbers[36:]"
   ]
  },
  {
   "cell_type": "code",
   "execution_count": 35,
   "id": "9d9318a6-837f-4459-8b60-3709cf2d3711",
   "metadata": {},
   "outputs": [
    {
     "data": {
      "text/plain": [
       "['__add__', '__class__', '__class_getitem__', '__contains__', '__delattr__']"
      ]
     },
     "execution_count": 35,
     "metadata": {},
     "output_type": "execute_result"
    }
   ],
   "source": [
    "dir(numbers)[0:5]"
   ]
  }
 ],
 "metadata": {
  "kernelspec": {
   "display_name": "Python 3 (ipykernel)",
   "language": "python",
   "name": "python3"
  },
  "language_info": {
   "codemirror_mode": {
    "name": "ipython",
    "version": 3
   },
   "file_extension": ".py",
   "mimetype": "text/x-python",
   "name": "python",
   "nbconvert_exporter": "python",
   "pygments_lexer": "ipython3",
   "version": "3.9.13"
  }
 },
 "nbformat": 4,
 "nbformat_minor": 5
}
