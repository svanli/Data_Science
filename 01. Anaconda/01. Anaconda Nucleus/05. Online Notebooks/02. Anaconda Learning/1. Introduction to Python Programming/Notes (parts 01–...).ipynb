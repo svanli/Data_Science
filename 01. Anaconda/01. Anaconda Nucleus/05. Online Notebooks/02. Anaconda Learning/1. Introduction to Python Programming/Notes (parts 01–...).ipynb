{
 "cells": [
  {
   "cell_type": "markdown",
   "id": "321826ae-1341-443c-b3a2-484ff05398d7",
   "metadata": {},
   "source": [
    "<h1>Notes (parts 01–...)</h1>"
   ]
  },
  {
   "cell_type": "markdown",
   "id": "29af0e53-42c7-4e5a-8655-0c66598ce83a",
   "metadata": {},
   "source": [
    "# 01. Strings"
   ]
  },
  {
   "cell_type": "code",
   "execution_count": 1,
   "id": "f279dfe0-a915-42ab-897f-0deb63bf0075",
   "metadata": {},
   "outputs": [
    {
     "data": {
      "text/plain": [
       "'Print this text'"
      ]
     },
     "execution_count": 1,
     "metadata": {},
     "output_type": "execute_result"
    }
   ],
   "source": [
    "f'Print this text'"
   ]
  },
  {
   "cell_type": "code",
   "execution_count": 2,
   "id": "d54195a9-9f18-4374-9c3a-78f3d6a32cbe",
   "metadata": {},
   "outputs": [
    {
     "name": "stdout",
     "output_type": "stream",
     "text": [
      "Print this text\n"
     ]
    }
   ],
   "source": [
    "print(f'Print this text')"
   ]
  },
  {
   "cell_type": "code",
   "execution_count": 3,
   "id": "27156053-9073-4ee6-a109-cf25d30cd2eb",
   "metadata": {},
   "outputs": [
    {
     "data": {
      "text/plain": [
       "False"
      ]
     },
     "execution_count": 3,
     "metadata": {},
     "output_type": "execute_result"
    }
   ],
   "source": [
    "'a' in 'good bye'"
   ]
  },
  {
   "cell_type": "code",
   "execution_count": 4,
   "id": "bf6ad428-0e59-4e4d-b1f5-92c42ac84a88",
   "metadata": {},
   "outputs": [
    {
     "data": {
      "text/plain": [
       "True"
      ]
     },
     "execution_count": 4,
     "metadata": {},
     "output_type": "execute_result"
    }
   ],
   "source": [
    "'o' in 'good bye'"
   ]
  },
  {
   "cell_type": "markdown",
   "id": "b71edb72-8770-4135-b7c3-aa7e25a68933",
   "metadata": {},
   "source": [
    "# 02. Numbers"
   ]
  },
  {
   "cell_type": "code",
   "execution_count": 5,
   "id": "bc2bcc66-0a09-4fab-b919-e712f2bed4ac",
   "metadata": {},
   "outputs": [
    {
     "data": {
      "text/plain": [
       "float"
      ]
     },
     "execution_count": 5,
     "metadata": {},
     "output_type": "execute_result"
    }
   ],
   "source": [
    "a = 9 / 3\n",
    "type(a)"
   ]
  },
  {
   "cell_type": "code",
   "execution_count": 7,
   "id": "26aa3187-c7db-48fe-9732-73c67d529ca7",
   "metadata": {},
   "outputs": [
    {
     "name": "stdout",
     "output_type": "stream",
     "text": [
      "9-2=\n"
     ]
    }
   ],
   "source": [
    "print(\"9-2=\")"
   ]
  }
 ],
 "metadata": {
  "kernelspec": {
   "display_name": "Python 3 (ipykernel)",
   "language": "python",
   "name": "python3"
  },
  "language_info": {
   "codemirror_mode": {
    "name": "ipython",
    "version": 3
   },
   "file_extension": ".py",
   "mimetype": "text/x-python",
   "name": "python",
   "nbconvert_exporter": "python",
   "pygments_lexer": "ipython3",
   "version": "3.9.13"
  }
 },
 "nbformat": 4,
 "nbformat_minor": 5
}
