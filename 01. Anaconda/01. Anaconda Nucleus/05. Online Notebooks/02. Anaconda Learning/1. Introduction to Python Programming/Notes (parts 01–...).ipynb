{
 "cells": [
  {
   "cell_type": "markdown",
   "id": "321826ae-1341-443c-b3a2-484ff05398d7",
   "metadata": {},
   "source": [
    "<h1>Notes (parts 01–...)</h1>"
   ]
  },
  {
   "cell_type": "markdown",
   "id": "29af0e53-42c7-4e5a-8655-0c66598ce83a",
   "metadata": {},
   "source": [
    "# 01. Strings"
   ]
  },
  {
   "cell_type": "code",
   "execution_count": 1,
   "id": "f279dfe0-a915-42ab-897f-0deb63bf0075",
   "metadata": {},
   "outputs": [
    {
     "data": {
      "text/plain": [
       "'Print this text'"
      ]
     },
     "execution_count": 1,
     "metadata": {},
     "output_type": "execute_result"
    }
   ],
   "source": [
    "f'Print this text'"
   ]
  },
  {
   "cell_type": "code",
   "execution_count": 2,
   "id": "d54195a9-9f18-4374-9c3a-78f3d6a32cbe",
   "metadata": {},
   "outputs": [
    {
     "name": "stdout",
     "output_type": "stream",
     "text": [
      "Print this text\n"
     ]
    }
   ],
   "source": [
    "print(f'Print this text')"
   ]
  },
  {
   "cell_type": "code",
   "execution_count": 3,
   "id": "27156053-9073-4ee6-a109-cf25d30cd2eb",
   "metadata": {},
   "outputs": [
    {
     "data": {
      "text/plain": [
       "False"
      ]
     },
     "execution_count": 3,
     "metadata": {},
     "output_type": "execute_result"
    }
   ],
   "source": [
    "'a' in 'good bye'"
   ]
  },
  {
   "cell_type": "code",
   "execution_count": 4,
   "id": "bf6ad428-0e59-4e4d-b1f5-92c42ac84a88",
   "metadata": {},
   "outputs": [
    {
     "data": {
      "text/plain": [
       "True"
      ]
     },
     "execution_count": 4,
     "metadata": {},
     "output_type": "execute_result"
    }
   ],
   "source": [
    "'o' in 'good bye'"
   ]
  },
  {
   "cell_type": "markdown",
   "id": "b71edb72-8770-4135-b7c3-aa7e25a68933",
   "metadata": {},
   "source": [
    "# 02. Numbers"
   ]
  },
  {
   "cell_type": "code",
   "execution_count": 5,
   "id": "bc2bcc66-0a09-4fab-b919-e712f2bed4ac",
   "metadata": {},
   "outputs": [
    {
     "data": {
      "text/plain": [
       "float"
      ]
     },
     "execution_count": 5,
     "metadata": {},
     "output_type": "execute_result"
    }
   ],
   "source": [
    "a = 9 / 3\n",
    "type(a)"
   ]
  },
  {
   "cell_type": "code",
   "execution_count": 6,
   "id": "26aa3187-c7db-48fe-9732-73c67d529ca7",
   "metadata": {},
   "outputs": [
    {
     "name": "stdout",
     "output_type": "stream",
     "text": [
      "9-2=\n"
     ]
    }
   ],
   "source": [
    "print(\"9-2=\")"
   ]
  },
  {
   "cell_type": "markdown",
   "id": "58b76aa3-8491-4735-a64e-a05cf018570d",
   "metadata": {},
   "source": [
    "Homework"
   ]
  },
  {
   "cell_type": "code",
   "execution_count": 7,
   "id": "887900ec-8f3a-4e27-a491-5c324b1ca6ba",
   "metadata": {},
   "outputs": [],
   "source": [
    "shoes = 10\n",
    "coach = 5"
   ]
  },
  {
   "cell_type": "code",
   "execution_count": 8,
   "id": "16becd02-d621-4a53-bbe8-067aa62851d6",
   "metadata": {},
   "outputs": [
    {
     "data": {
      "text/plain": [
       "30"
      ]
     },
     "execution_count": 8,
     "metadata": {},
     "output_type": "execute_result"
    }
   ],
   "source": [
    "ex1 = shoes + shoes + shoes\n",
    "ex1"
   ]
  },
  {
   "cell_type": "code",
   "execution_count": 9,
   "id": "f388d257-1c22-4676-842c-42284ad9dafe",
   "metadata": {},
   "outputs": [
    {
     "data": {
      "text/plain": [
       "20"
      ]
     },
     "execution_count": 9,
     "metadata": {},
     "output_type": "execute_result"
    }
   ],
   "source": [
    "ex2 = shoes + coach + coach\n",
    "ex2"
   ]
  },
  {
   "cell_type": "code",
   "execution_count": 10,
   "id": "acd01fee-71ef-4ae0-a7d0-a949a9bb92ce",
   "metadata": {},
   "outputs": [],
   "source": [
    "ex3 = 13"
   ]
  },
  {
   "cell_type": "code",
   "execution_count": 11,
   "id": "8965678d-4d5a-4328-b6d3-eb6bda99f213",
   "metadata": {},
   "outputs": [
    {
     "data": {
      "text/plain": [
       "4.0"
      ]
     },
     "execution_count": 11,
     "metadata": {},
     "output_type": "execute_result"
    }
   ],
   "source": [
    "whistles = (ex3-coach) / 2\n",
    "whistles"
   ]
  },
  {
   "cell_type": "code",
   "execution_count": 12,
   "id": "d9b54bbf-8745-4e03-8176-2a1aaeff586c",
   "metadata": {},
   "outputs": [
    {
     "data": {
      "text/plain": [
       "13.0"
      ]
     },
     "execution_count": 12,
     "metadata": {},
     "output_type": "execute_result"
    }
   ],
   "source": [
    "ex3 = coach + whistles + whistles\n",
    "ex3"
   ]
  },
  {
   "cell_type": "code",
   "execution_count": 13,
   "id": "808cd5f7-68fc-4a54-9430-1fb34cec8d82",
   "metadata": {},
   "outputs": [
    {
     "data": {
      "text/plain": [
       "11.0"
      ]
     },
     "execution_count": 13,
     "metadata": {},
     "output_type": "execute_result"
    }
   ],
   "source": [
    "ex4 = (shoes/2) + (coach-(whistles/2)) * (whistles/2)\n",
    "ex4"
   ]
  },
  {
   "cell_type": "markdown",
   "id": "785d0606-9a1a-4ec5-ac64-93602f5ffdba",
   "metadata": {},
   "source": [
    "# 03. Bools"
   ]
  },
  {
   "cell_type": "code",
   "execution_count": 14,
   "id": "2c88e598-61a7-4282-bedd-ba740f6a7758",
   "metadata": {},
   "outputs": [
    {
     "data": {
      "text/plain": [
       "True"
      ]
     },
     "execution_count": 14,
     "metadata": {},
     "output_type": "execute_result"
    }
   ],
   "source": [
    "0.1 == 0.1"
   ]
  },
  {
   "cell_type": "code",
   "execution_count": 15,
   "id": "db7f4296-1b5e-4448-8b16-0e16f38dec3b",
   "metadata": {},
   "outputs": [
    {
     "data": {
      "text/plain": [
       "True"
      ]
     },
     "execution_count": 15,
     "metadata": {},
     "output_type": "execute_result"
    }
   ],
   "source": [
    "0.2 == 0.2"
   ]
  },
  {
   "cell_type": "code",
   "execution_count": 16,
   "id": "2fe9af5f-e66c-43ef-9a2a-a7a3c888713d",
   "metadata": {},
   "outputs": [
    {
     "data": {
      "text/plain": [
       "True"
      ]
     },
     "execution_count": 16,
     "metadata": {},
     "output_type": "execute_result"
    }
   ],
   "source": [
    "0.3 == 0.3"
   ]
  },
  {
   "cell_type": "code",
   "execution_count": 17,
   "id": "687915d7-10a7-4861-95c6-1c96f5dcb865",
   "metadata": {},
   "outputs": [
    {
     "data": {
      "text/plain": [
       "False"
      ]
     },
     "execution_count": 17,
     "metadata": {},
     "output_type": "execute_result"
    }
   ],
   "source": [
    "0.7 + 0.2 == 0.9"
   ]
  },
  {
   "cell_type": "code",
   "execution_count": 18,
   "id": "173daaa1-45e7-414e-917a-7cfd830cff87",
   "metadata": {},
   "outputs": [
    {
     "data": {
      "text/plain": [
       "True"
      ]
     },
     "execution_count": 18,
     "metadata": {},
     "output_type": "execute_result"
    }
   ],
   "source": [
    "x = 20\n",
    "15 < x < 21"
   ]
  },
  {
   "cell_type": "code",
   "execution_count": 19,
   "id": "b5aa33a5-e263-4965-8029-c14d2c5893d9",
   "metadata": {},
   "outputs": [
    {
     "data": {
      "text/plain": [
       "False"
      ]
     },
     "execution_count": 19,
     "metadata": {},
     "output_type": "execute_result"
    }
   ],
   "source": [
    "16 < x < 19"
   ]
  },
  {
   "cell_type": "code",
   "execution_count": 20,
   "id": "4a37c323-ad10-432a-89a0-3737a97a414d",
   "metadata": {},
   "outputs": [],
   "source": [
    "pizza = True\n",
    "football = False\n",
    "swimming = True\n",
    "architecture = True\n",
    "Greece = False\n",
    "France = True"
   ]
  },
  {
   "cell_type": "code",
   "execution_count": 21,
   "id": "7a2a6357-1999-4a25-b130-aecc9527de0c",
   "metadata": {},
   "outputs": [
    {
     "data": {
      "text/plain": [
       "True"
      ]
     },
     "execution_count": 21,
     "metadata": {},
     "output_type": "execute_result"
    }
   ],
   "source": [
    "pizza & (football | swimming) & architecture & (Greece | France)"
   ]
  },
  {
   "cell_type": "markdown",
   "id": "300254b9-aa64-4d06-9501-c7abeb17961d",
   "metadata": {},
   "source": [
    "# 04. Collections"
   ]
  },
  {
   "cell_type": "code",
   "execution_count": 22,
   "id": "db74c752-4911-4a1d-abbf-a844f6535db6",
   "metadata": {},
   "outputs": [
    {
     "name": "stdout",
     "output_type": "stream",
     "text": [
      "[1, 2, 3, 4]\n"
     ]
    }
   ],
   "source": [
    "my_list = [1, 2, 3]\n",
    "my_list.append(4)\n",
    "print(my_list)"
   ]
  },
  {
   "cell_type": "code",
   "execution_count": 23,
   "id": "2c606e42-e053-48d0-8289-96d295a71c6e",
   "metadata": {},
   "outputs": [
    {
     "name": "stdout",
     "output_type": "stream",
     "text": [
      "[1, 2, 3, 4, 5, 6]\n"
     ]
    }
   ],
   "source": [
    "my_list = [1, 2, 3]\n",
    "my_list.extend([4, 5, 6])\n",
    "print(my_list)"
   ]
  },
  {
   "cell_type": "code",
   "execution_count": 24,
   "id": "7f8131ba-ede7-4890-b5ee-14b1804761fa",
   "metadata": {},
   "outputs": [
    {
     "name": "stdout",
     "output_type": "stream",
     "text": [
      "[1, 2, 3, 4, 5, 6, 7, 8, 9]\n"
     ]
    }
   ],
   "source": [
    "my_list.extend([7, 8, 9])\n",
    "print(my_list)"
   ]
  },
  {
   "cell_type": "code",
   "execution_count": 25,
   "id": "fcd872df-078d-4c5a-a25f-9f13515f886d",
   "metadata": {},
   "outputs": [],
   "source": [
    "numbers = [1, 9, 3, -1, 5, 5, 5]"
   ]
  },
  {
   "cell_type": "code",
   "execution_count": 26,
   "id": "7b2f5047-be08-488b-9537-1f3a4908207b",
   "metadata": {},
   "outputs": [
    {
     "data": {
      "text/plain": [
       "[]"
      ]
     },
     "execution_count": 26,
     "metadata": {},
     "output_type": "execute_result"
    }
   ],
   "source": [
    "numbers[36:]"
   ]
  },
  {
   "cell_type": "code",
   "execution_count": 27,
   "id": "9d9318a6-837f-4459-8b60-3709cf2d3711",
   "metadata": {},
   "outputs": [
    {
     "data": {
      "text/plain": [
       "['__add__', '__class__', '__class_getitem__', '__contains__', '__delattr__']"
      ]
     },
     "execution_count": 27,
     "metadata": {},
     "output_type": "execute_result"
    }
   ],
   "source": [
    "dir(numbers)[0:5]"
   ]
  },
  {
   "cell_type": "code",
   "execution_count": 28,
   "id": "6cf16bcb-f88a-4cf9-a0d1-46ac486b85fb",
   "metadata": {},
   "outputs": [
    {
     "data": {
      "text/plain": [
       "{'Amsterdam', 'Antwerp', 'Lille', 'London', 'Lyon', 'Paris'}"
      ]
     },
     "execution_count": 28,
     "metadata": {},
     "output_type": "execute_result"
    }
   ],
   "source": [
    "cities = {'Amsterdam', 'Antwerp', 'Lyon', 'Lille', 'Paris', 'London'}\n",
    "cities"
   ]
  },
  {
   "cell_type": "code",
   "execution_count": 29,
   "id": "6d2e369f-cb4a-4ee1-a902-c89f73ab2908",
   "metadata": {},
   "outputs": [
    {
     "data": {
      "text/plain": [
       "set"
      ]
     },
     "execution_count": 29,
     "metadata": {},
     "output_type": "execute_result"
    }
   ],
   "source": [
    "type(cities)"
   ]
  },
  {
   "cell_type": "code",
   "execution_count": 30,
   "id": "c413f6e4-1eac-46ea-a167-1ae8df4a9d09",
   "metadata": {},
   "outputs": [
    {
     "data": {
      "text/plain": [
       "{'Amsterdam', 'Antwerp', 'Lille', 'London', 'Lyon', 'Moscow', 'Paris'}"
      ]
     },
     "execution_count": 30,
     "metadata": {},
     "output_type": "execute_result"
    }
   ],
   "source": [
    "cities.add('Moscow')\n",
    "cities"
   ]
  },
  {
   "cell_type": "code",
   "execution_count": 31,
   "id": "aa7c6adf-e6d9-4249-8cc2-af539daaedb5",
   "metadata": {},
   "outputs": [
    {
     "data": {
      "text/plain": [
       "{'Amsterdam', 'Antwerp', 'Lille', 'Lyon', 'Moscow', 'Paris'}"
      ]
     },
     "execution_count": 31,
     "metadata": {},
     "output_type": "execute_result"
    }
   ],
   "source": [
    "cities.remove('London')\n",
    "cities"
   ]
  },
  {
   "cell_type": "code",
   "execution_count": 32,
   "id": "889bf109-5b4c-4689-8f6f-5d0e6d5c9b1e",
   "metadata": {},
   "outputs": [
    {
     "data": {
      "text/plain": [
       "{'Amsterdam', 'Antwerp', 'Lille', 'Lyon', 'Moscow', 'Paris'}"
      ]
     },
     "execution_count": 32,
     "metadata": {},
     "output_type": "execute_result"
    }
   ],
   "source": [
    "cities.discard('Barcelona')\n",
    "cities"
   ]
  },
  {
   "cell_type": "code",
   "execution_count": 33,
   "id": "323339ff-b782-4360-934a-0d347b92a7b8",
   "metadata": {},
   "outputs": [
    {
     "data": {
      "text/plain": [
       "6"
      ]
     },
     "execution_count": 33,
     "metadata": {},
     "output_type": "execute_result"
    }
   ],
   "source": [
    "len(cities)"
   ]
  },
  {
   "cell_type": "code",
   "execution_count": 34,
   "id": "39f7eb10-d45a-413f-aabd-be365ba95620",
   "metadata": {},
   "outputs": [
    {
     "name": "stdout",
     "output_type": "stream",
     "text": [
      "1. Lille\n",
      "2. Lyon\n",
      "3. Antwerp\n",
      "4. Paris\n",
      "5. Amsterdam\n",
      "6. Moscow\n"
     ]
    }
   ],
   "source": [
    "for i, city in enumerate(cities):\n",
    "    print(f'{i+1}. {city}')"
   ]
  },
  {
   "cell_type": "code",
   "execution_count": 35,
   "id": "d39346eb-5294-4ba2-9006-02ecaf852a9b",
   "metadata": {},
   "outputs": [],
   "source": [
    "input1 = {'Moscow', 'Berlin', 'London', 'Paris', 'Rome', 'Amsterdam', 'Madrid', 'Warsaw', 'Prague'}\n",
    "input2 = {'Paris', 'Rotterdam', 'Brussels', 'Madrid', 'Prague', 'London', 'Leeds', 'New York', 'Malaga'}"
   ]
  },
  {
   "cell_type": "code",
   "execution_count": 36,
   "id": "1c4a43b2-d3d6-43fa-ae5a-9a93a8b6bb9f",
   "metadata": {},
   "outputs": [
    {
     "data": {
      "text/plain": [
       "{'Amsterdam',\n",
       " 'Berlin',\n",
       " 'Brussels',\n",
       " 'Leeds',\n",
       " 'Malaga',\n",
       " 'Moscow',\n",
       " 'New York',\n",
       " 'Rome',\n",
       " 'Rotterdam',\n",
       " 'Warsaw'}"
      ]
     },
     "execution_count": 36,
     "metadata": {},
     "output_type": "execute_result"
    }
   ],
   "source": [
    "input1 ^ input2"
   ]
  },
  {
   "cell_type": "code",
   "execution_count": 37,
   "id": "b1b4abe3-08f6-48b3-9785-daafc0c4d72c",
   "metadata": {},
   "outputs": [
    {
     "data": {
      "text/plain": [
       "{'Amsterdam', 'Berlin', 'Moscow', 'Rome', 'Warsaw'}"
      ]
     },
     "execution_count": 37,
     "metadata": {},
     "output_type": "execute_result"
    }
   ],
   "source": [
    "input1 - input2"
   ]
  },
  {
   "cell_type": "code",
   "execution_count": 38,
   "id": "e7babe8f-c0cb-4ca2-a3a6-bb37609719c8",
   "metadata": {},
   "outputs": [
    {
     "data": {
      "text/plain": [
       "(100, 0)"
      ]
     },
     "execution_count": 38,
     "metadata": {},
     "output_type": "execute_result"
    }
   ],
   "source": [
    "tuple = (100, 0)\n",
    "tuple"
   ]
  },
  {
   "cell_type": "code",
   "execution_count": 39,
   "id": "40158ac3-8e2a-493d-8006-63e0d5ab5a0b",
   "metadata": {},
   "outputs": [
    {
     "data": {
      "text/plain": [
       "(200, 0)"
      ]
     },
     "execution_count": 39,
     "metadata": {},
     "output_type": "execute_result"
    }
   ],
   "source": [
    "tuple2 = (200,) + tuple[1:]\n",
    "tuple2"
   ]
  },
  {
   "cell_type": "markdown",
   "id": "f5ee58f6-5443-471d-bbf6-cbf742543517",
   "metadata": {},
   "source": [
    "Homework"
   ]
  },
  {
   "cell_type": "code",
   "execution_count": 40,
   "id": "e508ea17-f0a7-459c-8e2f-22c8327a59a2",
   "metadata": {},
   "outputs": [
    {
     "data": {
      "text/plain": [
       "['Zenit Saint Petersburg',\n",
       " 'CSKA Moscow',\n",
       " 'Krasnodar',\n",
       " 'Lokomotiv Moscow',\n",
       " 'Spartak Moscow']"
      ]
     },
     "execution_count": 40,
     "metadata": {},
     "output_type": "execute_result"
    }
   ],
   "source": [
    "teams = ['Zenit Saint Petersburg', 'CSKA Moscow', 'Krasnodar', 'Lokomotiv Moscow', 'Spartak Moscow']\n",
    "teams"
   ]
  },
  {
   "cell_type": "code",
   "execution_count": 41,
   "id": "e3322c19-7557-4ba8-9ff8-f0d7bfc496b9",
   "metadata": {},
   "outputs": [
    {
     "data": {
      "text/plain": [
       "['Zenit Saint Petersburg',\n",
       " 'CSKA Moscow',\n",
       " 'Krasnodar',\n",
       " 'Lokomotiv Moscow',\n",
       " 'Spartak Moscow',\n",
       " 'Rostov']"
      ]
     },
     "execution_count": 41,
     "metadata": {},
     "output_type": "execute_result"
    }
   ],
   "source": [
    "teams.append('Rostov')\n",
    "teams"
   ]
  },
  {
   "cell_type": "code",
   "execution_count": 42,
   "id": "500d0262-fbda-429a-9d07-36e2ef818118",
   "metadata": {},
   "outputs": [
    {
     "data": {
      "text/plain": [
       "['Zenit Saint Petersburg',\n",
       " 'CSKA Moscow',\n",
       " 'Krasnodar',\n",
       " 'Lokomotiv Moscow',\n",
       " 'Spartak Moscow',\n",
       " 'Rostov',\n",
       " 'Dynamo Moscow',\n",
       " 'Ufa']"
      ]
     },
     "execution_count": 42,
     "metadata": {},
     "output_type": "execute_result"
    }
   ],
   "source": [
    "teams.extend(['Dynamo Moscow', 'Ufa'])\n",
    "teams"
   ]
  },
  {
   "cell_type": "code",
   "execution_count": 43,
   "id": "35cd572d-c45c-4fa1-a6a3-084bcba227df",
   "metadata": {},
   "outputs": [
    {
     "data": {
      "text/plain": [
       "{'Saint Petersburg': 'Zenit',\n",
       " 'Moscow': ['CSKA', 'Lokomotiv', 'Spartak', 'Dynamo'],\n",
       " 'Krasnodar': 'Krasnodar',\n",
       " 'Ufa': 'Ufa'}"
      ]
     },
     "execution_count": 43,
     "metadata": {},
     "output_type": "execute_result"
    }
   ],
   "source": [
    "cities_teams = {\n",
    "    'Saint Petersburg': 'Zenit', \n",
    "    'Moscow': ['CSKA', 'Lokomotiv', 'Spartak', 'Dynamo'], \n",
    "    'Krasnodar': 'Krasnodar',\n",
    "    'Ufa': 'Ufa',\n",
    "}\n",
    "\n",
    "cities_teams"
   ]
  },
  {
   "cell_type": "code",
   "execution_count": 44,
   "id": "b773911c-10ec-477d-95f3-651b833aa05d",
   "metadata": {},
   "outputs": [
    {
     "data": {
      "text/plain": [
       "'Zenit'"
      ]
     },
     "execution_count": 44,
     "metadata": {},
     "output_type": "execute_result"
    }
   ],
   "source": [
    "cities_teams['Saint Petersburg']"
   ]
  },
  {
   "cell_type": "code",
   "execution_count": 45,
   "id": "592da070-cb7d-4f1e-a508-93a7e470a765",
   "metadata": {},
   "outputs": [
    {
     "name": "stdout",
     "output_type": "stream",
     "text": [
      "Lokomotiv\n"
     ]
    }
   ],
   "source": [
    "print(cities_teams['Moscow'][1])"
   ]
  },
  {
   "cell_type": "markdown",
   "id": "9932f48c-8808-484d-a703-3ce4f993d931",
   "metadata": {},
   "source": [
    "# 05. Imports"
   ]
  },
  {
   "cell_type": "code",
   "execution_count": 46,
   "id": "e11aa5af-bfac-4aa3-ac00-1c69904b40de",
   "metadata": {},
   "outputs": [],
   "source": [
    "import math as m"
   ]
  },
  {
   "cell_type": "code",
   "execution_count": 47,
   "id": "6c7b9dda-5786-41ee-b55c-25780778aee6",
   "metadata": {},
   "outputs": [
    {
     "data": {
      "text/plain": [
       "3.1622776601683795"
      ]
     },
     "execution_count": 47,
     "metadata": {},
     "output_type": "execute_result"
    }
   ],
   "source": [
    "m.sqrt(10)"
   ]
  },
  {
   "cell_type": "code",
   "execution_count": 48,
   "id": "5e8cf506-0066-487f-8dd9-b9a08fb6fb70",
   "metadata": {},
   "outputs": [],
   "source": [
    "from math import sqrt"
   ]
  },
  {
   "cell_type": "code",
   "execution_count": 49,
   "id": "505d2db5-5a4b-4e09-bc76-76fdb0cbf390",
   "metadata": {},
   "outputs": [
    {
     "data": {
      "text/plain": [
       "12.0"
      ]
     },
     "execution_count": 49,
     "metadata": {},
     "output_type": "execute_result"
    }
   ],
   "source": [
    "sqrt(144)"
   ]
  },
  {
   "cell_type": "code",
   "execution_count": 50,
   "id": "3756bb7c-bfcc-4aba-8d0c-6b3e46a357d8",
   "metadata": {},
   "outputs": [],
   "source": [
    "from math import pi"
   ]
  },
  {
   "cell_type": "code",
   "execution_count": 51,
   "id": "e161b326-e6e5-45db-b40a-b9c696dc8ccb",
   "metadata": {},
   "outputs": [
    {
     "data": {
      "text/plain": [
       "float"
      ]
     },
     "execution_count": 51,
     "metadata": {},
     "output_type": "execute_result"
    }
   ],
   "source": [
    "type(pi)"
   ]
  },
  {
   "cell_type": "code",
   "execution_count": 52,
   "id": "50a2ec9b-80df-4954-9a1f-1b42d46e700d",
   "metadata": {},
   "outputs": [],
   "source": [
    "import math"
   ]
  },
  {
   "cell_type": "code",
   "execution_count": 53,
   "id": "7cc657ef-ddac-4d6c-85df-54dddb5be252",
   "metadata": {},
   "outputs": [
    {
     "name": "stdout",
     "output_type": "stream",
     "text": [
      "Help on built-in function ceil in module math:\n",
      "\n",
      "ceil(x, /)\n",
      "    Return the ceiling of x as an Integral.\n",
      "    \n",
      "    This is the smallest integer >= x.\n",
      "\n"
     ]
    }
   ],
   "source": [
    "help(math.ceil)"
   ]
  },
  {
   "cell_type": "code",
   "execution_count": 54,
   "id": "2ee69eac-6f01-488b-8b66-576cfec74396",
   "metadata": {
    "tags": []
   },
   "outputs": [
    {
     "name": "stdout",
     "output_type": "stream",
     "text": [
      "Help on float object:\n",
      "\n",
      "class float(object)\n",
      " |  float(x=0, /)\n",
      " |  \n",
      " |  Convert a string or number to a floating point number, if possible.\n",
      " |  \n",
      " |  Methods defined here:\n",
      " |  \n",
      " |  __abs__(self, /)\n",
      " |      abs(self)\n",
      " |  \n",
      " |  __add__(self, value, /)\n",
      " |      Return self+value.\n",
      " |  \n",
      " |  __bool__(self, /)\n",
      " |      True if self else False\n",
      " |  \n",
      " |  __ceil__(self, /)\n",
      " |      Return the ceiling as an Integral.\n",
      " |  \n",
      " |  __divmod__(self, value, /)\n",
      " |      Return divmod(self, value).\n",
      " |  \n",
      " |  __eq__(self, value, /)\n",
      " |      Return self==value.\n",
      " |  \n",
      " |  __float__(self, /)\n",
      " |      float(self)\n",
      " |  \n",
      " |  __floor__(self, /)\n",
      " |      Return the floor as an Integral.\n",
      " |  \n",
      " |  __floordiv__(self, value, /)\n",
      " |      Return self//value.\n",
      " |  \n",
      " |  __format__(self, format_spec, /)\n",
      " |      Formats the float according to format_spec.\n",
      " |  \n",
      " |  __ge__(self, value, /)\n",
      " |      Return self>=value.\n",
      " |  \n",
      " |  __getattribute__(self, name, /)\n",
      " |      Return getattr(self, name).\n",
      " |  \n",
      " |  __getnewargs__(self, /)\n",
      " |  \n",
      " |  __gt__(self, value, /)\n",
      " |      Return self>value.\n",
      " |  \n",
      " |  __hash__(self, /)\n",
      " |      Return hash(self).\n",
      " |  \n",
      " |  __int__(self, /)\n",
      " |      int(self)\n",
      " |  \n",
      " |  __le__(self, value, /)\n",
      " |      Return self<=value.\n",
      " |  \n",
      " |  __lt__(self, value, /)\n",
      " |      Return self<value.\n",
      " |  \n",
      " |  __mod__(self, value, /)\n",
      " |      Return self%value.\n",
      " |  \n",
      " |  __mul__(self, value, /)\n",
      " |      Return self*value.\n",
      " |  \n",
      " |  __ne__(self, value, /)\n",
      " |      Return self!=value.\n",
      " |  \n",
      " |  __neg__(self, /)\n",
      " |      -self\n",
      " |  \n",
      " |  __pos__(self, /)\n",
      " |      +self\n",
      " |  \n",
      " |  __pow__(self, value, mod=None, /)\n",
      " |      Return pow(self, value, mod).\n",
      " |  \n",
      " |  __radd__(self, value, /)\n",
      " |      Return value+self.\n",
      " |  \n",
      " |  __rdivmod__(self, value, /)\n",
      " |      Return divmod(value, self).\n",
      " |  \n",
      " |  __repr__(self, /)\n",
      " |      Return repr(self).\n",
      " |  \n",
      " |  __rfloordiv__(self, value, /)\n",
      " |      Return value//self.\n",
      " |  \n",
      " |  __rmod__(self, value, /)\n",
      " |      Return value%self.\n",
      " |  \n",
      " |  __rmul__(self, value, /)\n",
      " |      Return value*self.\n",
      " |  \n",
      " |  __round__(self, ndigits=None, /)\n",
      " |      Return the Integral closest to x, rounding half toward even.\n",
      " |      \n",
      " |      When an argument is passed, work like built-in round(x, ndigits).\n",
      " |  \n",
      " |  __rpow__(self, value, mod=None, /)\n",
      " |      Return pow(value, self, mod).\n",
      " |  \n",
      " |  __rsub__(self, value, /)\n",
      " |      Return value-self.\n",
      " |  \n",
      " |  __rtruediv__(self, value, /)\n",
      " |      Return value/self.\n",
      " |  \n",
      " |  __sub__(self, value, /)\n",
      " |      Return self-value.\n",
      " |  \n",
      " |  __truediv__(self, value, /)\n",
      " |      Return self/value.\n",
      " |  \n",
      " |  __trunc__(self, /)\n",
      " |      Return the Integral closest to x between 0 and x.\n",
      " |  \n",
      " |  as_integer_ratio(self, /)\n",
      " |      Return integer ratio.\n",
      " |      \n",
      " |      Return a pair of integers, whose ratio is exactly equal to the original float\n",
      " |      and with a positive denominator.\n",
      " |      \n",
      " |      Raise OverflowError on infinities and a ValueError on NaNs.\n",
      " |      \n",
      " |      >>> (10.0).as_integer_ratio()\n",
      " |      (10, 1)\n",
      " |      >>> (0.0).as_integer_ratio()\n",
      " |      (0, 1)\n",
      " |      >>> (-.25).as_integer_ratio()\n",
      " |      (-1, 4)\n",
      " |  \n",
      " |  conjugate(self, /)\n",
      " |      Return self, the complex conjugate of any float.\n",
      " |  \n",
      " |  hex(self, /)\n",
      " |      Return a hexadecimal representation of a floating-point number.\n",
      " |      \n",
      " |      >>> (-0.1).hex()\n",
      " |      '-0x1.999999999999ap-4'\n",
      " |      >>> 3.14159.hex()\n",
      " |      '0x1.921f9f01b866ep+1'\n",
      " |  \n",
      " |  is_integer(self, /)\n",
      " |      Return True if the float is an integer.\n",
      " |  \n",
      " |  ----------------------------------------------------------------------\n",
      " |  Class methods defined here:\n",
      " |  \n",
      " |  __getformat__(typestr, /) from builtins.type\n",
      " |      You probably don't want to use this function.\n",
      " |      \n",
      " |        typestr\n",
      " |          Must be 'double' or 'float'.\n",
      " |      \n",
      " |      It exists mainly to be used in Python's test suite.\n",
      " |      \n",
      " |      This function returns whichever of 'unknown', 'IEEE, big-endian' or 'IEEE,\n",
      " |      little-endian' best describes the format of floating point numbers used by the\n",
      " |      C type named by typestr.\n",
      " |  \n",
      " |  __setformat__(typestr, fmt, /) from builtins.type\n",
      " |      You probably don't want to use this function.\n",
      " |      \n",
      " |        typestr\n",
      " |          Must be 'double' or 'float'.\n",
      " |        fmt\n",
      " |          Must be one of 'unknown', 'IEEE, big-endian' or 'IEEE, little-endian',\n",
      " |          and in addition can only be one of the latter two if it appears to\n",
      " |          match the underlying C reality.\n",
      " |      \n",
      " |      It exists mainly to be used in Python's test suite.\n",
      " |      \n",
      " |      Override the automatic determination of C-level floating point type.\n",
      " |      This affects how floats are converted to and from binary strings.\n",
      " |  \n",
      " |  fromhex(string, /) from builtins.type\n",
      " |      Create a floating-point number from a hexadecimal string.\n",
      " |      \n",
      " |      >>> float.fromhex('0x1.ffffp10')\n",
      " |      2047.984375\n",
      " |      >>> float.fromhex('-0x1p-1074')\n",
      " |      -5e-324\n",
      " |  \n",
      " |  ----------------------------------------------------------------------\n",
      " |  Static methods defined here:\n",
      " |  \n",
      " |  __new__(*args, **kwargs) from builtins.type\n",
      " |      Create and return a new object.  See help(type) for accurate signature.\n",
      " |  \n",
      " |  ----------------------------------------------------------------------\n",
      " |  Data descriptors defined here:\n",
      " |  \n",
      " |  imag\n",
      " |      the imaginary part of a complex number\n",
      " |  \n",
      " |  real\n",
      " |      the real part of a complex number\n",
      "\n"
     ]
    }
   ],
   "source": [
    "help(math.tau)"
   ]
  },
  {
   "cell_type": "code",
   "execution_count": 55,
   "id": "75acc57a-fc1e-4e29-a348-2751665458e4",
   "metadata": {},
   "outputs": [
    {
     "name": "stdout",
     "output_type": "stream",
     "text": [
      "Help on built-in function gcd in module math:\n",
      "\n",
      "gcd(*integers)\n",
      "    Greatest Common Divisor.\n",
      "\n"
     ]
    }
   ],
   "source": [
    "help(math.gcd)"
   ]
  },
  {
   "cell_type": "code",
   "execution_count": 56,
   "id": "b1f78353-c58b-4851-9e62-2dfcb4d91e18",
   "metadata": {},
   "outputs": [
    {
     "data": {
      "text/plain": [
       "4"
      ]
     },
     "execution_count": 56,
     "metadata": {},
     "output_type": "execute_result"
    }
   ],
   "source": [
    "m.gcd(20, 12, 16)"
   ]
  },
  {
   "cell_type": "code",
   "execution_count": 57,
   "id": "a481c7f8-6e7e-4f6c-9480-a389a248f4e2",
   "metadata": {},
   "outputs": [
    {
     "data": {
      "text/plain": [
       "1"
      ]
     },
     "execution_count": 57,
     "metadata": {},
     "output_type": "execute_result"
    }
   ],
   "source": [
    "m.gcd(3, 10, 13)"
   ]
  },
  {
   "cell_type": "code",
   "execution_count": 58,
   "id": "eca56dd4-c5d6-498a-a70e-24f312d2cc44",
   "metadata": {},
   "outputs": [
    {
     "data": {
      "text/plain": [
       "1"
      ]
     },
     "execution_count": 58,
     "metadata": {},
     "output_type": "execute_result"
    }
   ],
   "source": [
    "m.gcd(41, 11, 17)"
   ]
  },
  {
   "cell_type": "code",
   "execution_count": 59,
   "id": "26a6d48b-88d5-4cb5-bdc9-447412eae7f3",
   "metadata": {},
   "outputs": [
    {
     "data": {
      "text/plain": [
       "2"
      ]
     },
     "execution_count": 59,
     "metadata": {},
     "output_type": "execute_result"
    }
   ],
   "source": [
    "m. gcd(2, 22, 88)"
   ]
  },
  {
   "cell_type": "code",
   "execution_count": 60,
   "id": "639f56db-ae7d-4775-80d7-ae1c814e5f2e",
   "metadata": {},
   "outputs": [],
   "source": [
    "import time"
   ]
  },
  {
   "cell_type": "code",
   "execution_count": 61,
   "id": "623775ea-7263-4523-ab53-f919c8a3b99b",
   "metadata": {},
   "outputs": [
    {
     "name": "stdout",
     "output_type": "stream",
     "text": [
      "Help on built-in function sleep in module time:\n",
      "\n",
      "sleep(...)\n",
      "    sleep(seconds)\n",
      "    \n",
      "    Delay execution for a given number of seconds.  The argument may be\n",
      "    a floating point number for subsecond precision.\n",
      "\n"
     ]
    }
   ],
   "source": [
    "help(time.sleep)"
   ]
  },
  {
   "cell_type": "code",
   "execution_count": 62,
   "id": "2131d2c2-6fd8-463b-84d0-d2ac3e36f4c5",
   "metadata": {},
   "outputs": [
    {
     "name": "stdout",
     "output_type": "stream",
     "text": [
      "1\n",
      "10 seconds later\n"
     ]
    }
   ],
   "source": [
    "print(1)\n",
    "time.sleep(10)\n",
    "print('10 seconds later')"
   ]
  },
  {
   "cell_type": "code",
   "execution_count": 63,
   "id": "14967ba9-f938-4880-bea9-471a874096af",
   "metadata": {},
   "outputs": [],
   "source": [
    "import itertools"
   ]
  },
  {
   "cell_type": "code",
   "execution_count": 64,
   "id": "3bc1a065-a21c-40a9-a5bd-9ec8d8386269",
   "metadata": {
    "tags": []
   },
   "outputs": [
    {
     "name": "stdout",
     "output_type": "stream",
     "text": [
      "Help on class product in module itertools:\n",
      "\n",
      "class product(builtins.object)\n",
      " |  product(*iterables, repeat=1) --> product object\n",
      " |  \n",
      " |  Cartesian product of input iterables.  Equivalent to nested for-loops.\n",
      " |  \n",
      " |  For example, product(A, B) returns the same as:  ((x,y) for x in A for y in B).\n",
      " |  The leftmost iterators are in the outermost for-loop, so the output tuples\n",
      " |  cycle in a manner similar to an odometer (with the rightmost element changing\n",
      " |  on every iteration).\n",
      " |  \n",
      " |  To compute the product of an iterable with itself, specify the number\n",
      " |  of repetitions with the optional repeat keyword argument. For example,\n",
      " |  product(A, repeat=4) means the same as product(A, A, A, A).\n",
      " |  \n",
      " |  product('ab', range(3)) --> ('a',0) ('a',1) ('a',2) ('b',0) ('b',1) ('b',2)\n",
      " |  product((0,1), (0,1), (0,1)) --> (0,0,0) (0,0,1) (0,1,0) (0,1,1) (1,0,0) ...\n",
      " |  \n",
      " |  Methods defined here:\n",
      " |  \n",
      " |  __getattribute__(self, name, /)\n",
      " |      Return getattr(self, name).\n",
      " |  \n",
      " |  __iter__(self, /)\n",
      " |      Implement iter(self).\n",
      " |  \n",
      " |  __next__(self, /)\n",
      " |      Implement next(self).\n",
      " |  \n",
      " |  __reduce__(...)\n",
      " |      Return state information for pickling.\n",
      " |  \n",
      " |  __setstate__(...)\n",
      " |      Set state information for unpickling.\n",
      " |  \n",
      " |  __sizeof__(...)\n",
      " |      Returns size in memory, in bytes.\n",
      " |  \n",
      " |  ----------------------------------------------------------------------\n",
      " |  Static methods defined here:\n",
      " |  \n",
      " |  __new__(*args, **kwargs) from builtins.type\n",
      " |      Create and return a new object.  See help(type) for accurate signature.\n",
      "\n"
     ]
    }
   ],
   "source": [
    "help(itertools.product)"
   ]
  },
  {
   "cell_type": "code",
   "execution_count": 65,
   "id": "9f9fb663-cf4a-4261-9b4b-3b8d5a0fcff4",
   "metadata": {},
   "outputs": [
    {
     "name": "stdout",
     "output_type": "stream",
     "text": [
      "black S\n",
      "black M\n",
      "black L\n",
      "white S\n",
      "white M\n",
      "white L\n"
     ]
    }
   ],
   "source": [
    "colors = ['black', 'white']\n",
    "sizes = ['S', 'M', 'L']\n",
    "\n",
    "combination = list(itertools.product(colors, sizes))\n",
    "\n",
    "for color, size in combination:\n",
    "    print (color, size)"
   ]
  },
  {
   "cell_type": "code",
   "execution_count": 66,
   "id": "dfc7855a-d95a-436a-bc45-17c25c74a13f",
   "metadata": {},
   "outputs": [],
   "source": [
    "import itertools"
   ]
  },
  {
   "cell_type": "code",
   "execution_count": 67,
   "id": "2e492caf-8f79-4cf3-8052-3826e0f98f76",
   "metadata": {},
   "outputs": [],
   "source": [
    "food = [\"indian\", \"sushi\"]\n",
    "drinks = [\"cocktail\", \"wine\"]"
   ]
  },
  {
   "cell_type": "code",
   "execution_count": 68,
   "id": "33583105-3510-48f3-a7e6-4d96cd90cae4",
   "metadata": {},
   "outputs": [
    {
     "data": {
      "text/plain": [
       "[('indian', 'cocktail'),\n",
       " ('indian', 'wine'),\n",
       " ('sushi', 'cocktail'),\n",
       " ('sushi', 'wine')]"
      ]
     },
     "execution_count": 68,
     "metadata": {},
     "output_type": "execute_result"
    }
   ],
   "source": [
    "list(itertools.product(food, drinks))"
   ]
  },
  {
   "cell_type": "code",
   "execution_count": 69,
   "id": "a042c081-7478-484b-a943-c9025c2b4006",
   "metadata": {},
   "outputs": [],
   "source": [
    "import random"
   ]
  },
  {
   "cell_type": "code",
   "execution_count": 70,
   "id": "3ff3747c-4a31-490d-afcb-f64ca6595a7c",
   "metadata": {},
   "outputs": [
    {
     "name": "stdout",
     "output_type": "stream",
     "text": [
      "Help on method choices in module random:\n",
      "\n",
      "choices(population, weights=None, *, cum_weights=None, k=1) method of random.Random instance\n",
      "    Return a k sized list of population elements chosen with replacement.\n",
      "    \n",
      "    If the relative weights or cumulative weights are not specified,\n",
      "    the selections are made with equal probability.\n",
      "\n"
     ]
    }
   ],
   "source": [
    "help(random.choices)"
   ]
  },
  {
   "cell_type": "code",
   "execution_count": 71,
   "id": "a5df9cc5-4024-434d-b782-7b46c6ce8901",
   "metadata": {},
   "outputs": [
    {
     "data": {
      "text/plain": [
       "[4, 2, 2, 1, 4, 3, 3, 2, 3, 1]"
      ]
     },
     "execution_count": 71,
     "metadata": {},
     "output_type": "execute_result"
    }
   ],
   "source": [
    "random.choices([1, 2, 3, 4, 5], k=10)"
   ]
  },
  {
   "cell_type": "code",
   "execution_count": 72,
   "id": "a14e93e8-a8af-48a1-ac5f-77668205c3ff",
   "metadata": {},
   "outputs": [
    {
     "data": {
      "text/plain": [
       "[5, 5, 3, 5, 5, 3, 3, 5, 5, 3]"
      ]
     },
     "execution_count": 72,
     "metadata": {},
     "output_type": "execute_result"
    }
   ],
   "source": [
    "random.choices([3, 5], k=10)"
   ]
  },
  {
   "cell_type": "code",
   "execution_count": 73,
   "id": "521ac0dc-4b74-4183-a6a6-2072fdb6483c",
   "metadata": {},
   "outputs": [
    {
     "data": {
      "text/plain": [
       "[3, 3, 3, 3, 3, 3, 3, 3, 3, 3]"
      ]
     },
     "execution_count": 73,
     "metadata": {},
     "output_type": "execute_result"
    }
   ],
   "source": [
    "numbers = [1, 2, 3, 4, 5]\n",
    "weights = [0.1, 0.5, 8.8, 0.5, 0.1]\n",
    "\n",
    "random.choices(numbers, weights, k=10)"
   ]
  },
  {
   "cell_type": "code",
   "execution_count": 74,
   "id": "7f2d3e48-0c6f-4f36-ac4d-e5adb33344b8",
   "metadata": {},
   "outputs": [
    {
     "name": "stdout",
     "output_type": "stream",
     "text": [
      "Help on method sample in module random:\n",
      "\n",
      "sample(population, k, *, counts=None) method of random.Random instance\n",
      "    Chooses k unique random elements from a population sequence or set.\n",
      "    \n",
      "    Returns a new list containing elements from the population while\n",
      "    leaving the original population unchanged.  The resulting list is\n",
      "    in selection order so that all sub-slices will also be valid random\n",
      "    samples.  This allows raffle winners (the sample) to be partitioned\n",
      "    into grand prize and second place winners (the subslices).\n",
      "    \n",
      "    Members of the population need not be hashable or unique.  If the\n",
      "    population contains repeats, then each occurrence is a possible\n",
      "    selection in the sample.\n",
      "    \n",
      "    Repeated elements can be specified one at a time or with the optional\n",
      "    counts parameter.  For example:\n",
      "    \n",
      "        sample(['red', 'blue'], counts=[4, 2], k=5)\n",
      "    \n",
      "    is equivalent to:\n",
      "    \n",
      "        sample(['red', 'red', 'red', 'red', 'blue', 'blue'], k=5)\n",
      "    \n",
      "    To choose a sample from a range of integers, use range() for the\n",
      "    population argument.  This is especially fast and space efficient\n",
      "    for sampling from a large population:\n",
      "    \n",
      "        sample(range(10000000), 60)\n",
      "\n"
     ]
    }
   ],
   "source": [
    "help(random.sample)"
   ]
  },
  {
   "cell_type": "code",
   "execution_count": 75,
   "id": "c4c4389f-8dec-4ad1-945c-ffff2f57dd4f",
   "metadata": {},
   "outputs": [
    {
     "data": {
      "text/plain": [
       "2"
      ]
     },
     "execution_count": 75,
     "metadata": {},
     "output_type": "execute_result"
    }
   ],
   "source": [
    "random.choices([1, 2, 3, 4, 5])[0]"
   ]
  },
  {
   "cell_type": "code",
   "execution_count": 76,
   "id": "570ec498-c81f-4fb8-8e21-7332c01fcabf",
   "metadata": {},
   "outputs": [
    {
     "data": {
      "text/plain": [
       "[3, 4]"
      ]
     },
     "execution_count": 76,
     "metadata": {},
     "output_type": "execute_result"
    }
   ],
   "source": [
    "random.sample([1, 2, 3, 4, 5], k=2)"
   ]
  },
  {
   "cell_type": "code",
   "execution_count": 77,
   "id": "f0bf51fc-e904-4093-954b-9653314f3c03",
   "metadata": {},
   "outputs": [
    {
     "data": {
      "text/plain": [
       "[1, 1, 1, 1, 1]"
      ]
     },
     "execution_count": 77,
     "metadata": {},
     "output_type": "execute_result"
    }
   ],
   "source": [
    "random.sample([1, 1, 1, 1, 1, 1, 5], k=5)"
   ]
  },
  {
   "cell_type": "code",
   "execution_count": 78,
   "id": "0010fec7-9d4b-49b4-9a5c-db2efe8dff50",
   "metadata": {},
   "outputs": [
    {
     "data": {
      "text/plain": [
       "[1, 1, 5, 1, 1]"
      ]
     },
     "execution_count": 78,
     "metadata": {},
     "output_type": "execute_result"
    }
   ],
   "source": [
    "random.sample([1, 5], counts=[10, 1], k=5)"
   ]
  },
  {
   "cell_type": "code",
   "execution_count": 79,
   "id": "823ad8e0-4a50-4b64-8b51-6ecc68ea767b",
   "metadata": {
    "tags": []
   },
   "outputs": [
    {
     "data": {
      "text/plain": [
       "[2818408,\n",
       " 4635797,\n",
       " 6461839,\n",
       " 4404865,\n",
       " 3146499,\n",
       " 5781643,\n",
       " 6001248,\n",
       " 1706647,\n",
       " 136806,\n",
       " 1143891,\n",
       " 3127603,\n",
       " 4474783,\n",
       " 1548590,\n",
       " 9149841,\n",
       " 2604753,\n",
       " 2375915,\n",
       " 1198832,\n",
       " 8686571,\n",
       " 1266493,\n",
       " 4711777,\n",
       " 9972897,\n",
       " 7519447,\n",
       " 6385032,\n",
       " 2233505,\n",
       " 9626415,\n",
       " 1153215,\n",
       " 6828702,\n",
       " 1241347,\n",
       " 6181456,\n",
       " 2286973,\n",
       " 9351915,\n",
       " 6604344,\n",
       " 8136490,\n",
       " 9390242,\n",
       " 8754879,\n",
       " 3224675,\n",
       " 771672,\n",
       " 6473655,\n",
       " 6116387,\n",
       " 5947415,\n",
       " 7835017,\n",
       " 2007003,\n",
       " 3338694,\n",
       " 474274,\n",
       " 9760289,\n",
       " 5390358,\n",
       " 1975166,\n",
       " 1559589,\n",
       " 6128490,\n",
       " 3129809,\n",
       " 7944579,\n",
       " 4350662,\n",
       " 8697582,\n",
       " 3350601,\n",
       " 5796073,\n",
       " 9308747,\n",
       " 6839288,\n",
       " 1178789,\n",
       " 9360696,\n",
       " 1633443]"
      ]
     },
     "execution_count": 79,
     "metadata": {},
     "output_type": "execute_result"
    }
   ],
   "source": [
    "random.sample(range(10_000_000), 60)"
   ]
  },
  {
   "cell_type": "code",
   "execution_count": 80,
   "id": "6f64b3ef-d94f-4838-bca1-1e488ec0c709",
   "metadata": {},
   "outputs": [
    {
     "data": {
      "text/plain": [
       "[9, 8, 6, 5, 4]"
      ]
     },
     "execution_count": 80,
     "metadata": {},
     "output_type": "execute_result"
    }
   ],
   "source": [
    "random.sample(range(10), 5)"
   ]
  },
  {
   "cell_type": "code",
   "execution_count": 81,
   "id": "8e29dc03-f11e-493a-a08b-4e971c2c6b04",
   "metadata": {
    "tags": []
   },
   "outputs": [
    {
     "data": {
      "text/plain": [
       "[68,\n",
       " 41,\n",
       " 69,\n",
       " 62,\n",
       " 87,\n",
       " 37,\n",
       " 59,\n",
       " 29,\n",
       " 66,\n",
       " 44,\n",
       " 21,\n",
       " 42,\n",
       " 47,\n",
       " 40,\n",
       " 58,\n",
       " 44,\n",
       " 37,\n",
       " 52,\n",
       " 58,\n",
       " 66,\n",
       " 49,\n",
       " 21,\n",
       " 84,\n",
       " 56,\n",
       " 45,\n",
       " 35,\n",
       " 29,\n",
       " 79,\n",
       " 30,\n",
       " 73,\n",
       " 74,\n",
       " 40,\n",
       " 78,\n",
       " 60,\n",
       " 70,\n",
       " 20,\n",
       " 23,\n",
       " 22,\n",
       " 28,\n",
       " 89,\n",
       " 23,\n",
       " 38,\n",
       " 88,\n",
       " 78,\n",
       " 43,\n",
       " 83,\n",
       " 79,\n",
       " 79,\n",
       " 64,\n",
       " 50]"
      ]
     },
     "execution_count": 81,
     "metadata": {},
     "output_type": "execute_result"
    }
   ],
   "source": [
    "emp_list = random.choices(range(20, 91), k=50)\n",
    "emp_list"
   ]
  },
  {
   "cell_type": "code",
   "execution_count": 82,
   "id": "4b4964e5-c503-4946-be56-704cf1ab20a9",
   "metadata": {},
   "outputs": [
    {
     "data": {
      "text/plain": [
       "[30,\n",
       " 58,\n",
       " 43,\n",
       " 59,\n",
       " 69,\n",
       " 50,\n",
       " 79,\n",
       " 28,\n",
       " 21,\n",
       " 47,\n",
       " 68,\n",
       " 45,\n",
       " 66,\n",
       " 66,\n",
       " 58,\n",
       " 49,\n",
       " 23,\n",
       " 23,\n",
       " 29,\n",
       " 62,\n",
       " 87,\n",
       " 29,\n",
       " 89,\n",
       " 88,\n",
       " 35]"
      ]
     },
     "execution_count": 82,
     "metadata": {},
     "output_type": "execute_result"
    }
   ],
   "source": [
    "random.sample(emp_list, 25)"
   ]
  },
  {
   "cell_type": "code",
   "execution_count": 83,
   "id": "ca074e41-a4a4-41c7-9cbf-596fbcb13fbc",
   "metadata": {},
   "outputs": [],
   "source": [
    "activities = ['sleep', 'work', 'study', 'eat', 'walk', 'relax']\n",
    "weights = [0.30, 0.33, 0.13, 0.12, 0.04, 0.08]"
   ]
  },
  {
   "cell_type": "code",
   "execution_count": 84,
   "id": "9df140f7-b51b-4e50-abb8-a3d1976e9477",
   "metadata": {},
   "outputs": [
    {
     "data": {
      "text/plain": [
       "['relax',\n",
       " 'work',\n",
       " 'study',\n",
       " 'study',\n",
       " 'sleep',\n",
       " 'sleep',\n",
       " 'sleep',\n",
       " 'work',\n",
       " 'work',\n",
       " 'eat']"
      ]
     },
     "execution_count": 84,
     "metadata": {},
     "output_type": "execute_result"
    }
   ],
   "source": [
    "random.choices(activities, weights, k=10)"
   ]
  },
  {
   "cell_type": "code",
   "execution_count": 85,
   "id": "4f5f5e7c-179c-4b0f-bd1c-fdb9bcbc095b",
   "metadata": {},
   "outputs": [],
   "source": [
    "import collections"
   ]
  },
  {
   "cell_type": "code",
   "execution_count": 86,
   "id": "b38d55da-d4f0-46ee-a8ae-9be57d854f94",
   "metadata": {
    "tags": []
   },
   "outputs": [
    {
     "name": "stdout",
     "output_type": "stream",
     "text": [
      "Help on class Counter in module collections:\n",
      "\n",
      "class Counter(builtins.dict)\n",
      " |  Counter(iterable=None, /, **kwds)\n",
      " |  \n",
      " |  Dict subclass for counting hashable items.  Sometimes called a bag\n",
      " |  or multiset.  Elements are stored as dictionary keys and their counts\n",
      " |  are stored as dictionary values.\n",
      " |  \n",
      " |  >>> c = Counter('abcdeabcdabcaba')  # count elements from a string\n",
      " |  \n",
      " |  >>> c.most_common(3)                # three most common elements\n",
      " |  [('a', 5), ('b', 4), ('c', 3)]\n",
      " |  >>> sorted(c)                       # list all unique elements\n",
      " |  ['a', 'b', 'c', 'd', 'e']\n",
      " |  >>> ''.join(sorted(c.elements()))   # list elements with repetitions\n",
      " |  'aaaaabbbbcccdde'\n",
      " |  >>> sum(c.values())                 # total of all counts\n",
      " |  15\n",
      " |  \n",
      " |  >>> c['a']                          # count of letter 'a'\n",
      " |  5\n",
      " |  >>> for elem in 'shazam':           # update counts from an iterable\n",
      " |  ...     c[elem] += 1                # by adding 1 to each element's count\n",
      " |  >>> c['a']                          # now there are seven 'a'\n",
      " |  7\n",
      " |  >>> del c['b']                      # remove all 'b'\n",
      " |  >>> c['b']                          # now there are zero 'b'\n",
      " |  0\n",
      " |  \n",
      " |  >>> d = Counter('simsalabim')       # make another counter\n",
      " |  >>> c.update(d)                     # add in the second counter\n",
      " |  >>> c['a']                          # now there are nine 'a'\n",
      " |  9\n",
      " |  \n",
      " |  >>> c.clear()                       # empty the counter\n",
      " |  >>> c\n",
      " |  Counter()\n",
      " |  \n",
      " |  Note:  If a count is set to zero or reduced to zero, it will remain\n",
      " |  in the counter until the entry is deleted or the counter is cleared:\n",
      " |  \n",
      " |  >>> c = Counter('aaabbc')\n",
      " |  >>> c['b'] -= 2                     # reduce the count of 'b' by two\n",
      " |  >>> c.most_common()                 # 'b' is still in, but its count is zero\n",
      " |  [('a', 3), ('c', 1), ('b', 0)]\n",
      " |  \n",
      " |  Method resolution order:\n",
      " |      Counter\n",
      " |      builtins.dict\n",
      " |      builtins.object\n",
      " |  \n",
      " |  Methods defined here:\n",
      " |  \n",
      " |  __add__(self, other)\n",
      " |      Add counts from two counters.\n",
      " |      \n",
      " |      >>> Counter('abbb') + Counter('bcc')\n",
      " |      Counter({'b': 4, 'c': 2, 'a': 1})\n",
      " |  \n",
      " |  __and__(self, other)\n",
      " |      Intersection is the minimum of corresponding counts.\n",
      " |      \n",
      " |      >>> Counter('abbb') & Counter('bcc')\n",
      " |      Counter({'b': 1})\n",
      " |  \n",
      " |  __delitem__(self, elem)\n",
      " |      Like dict.__delitem__() but does not raise KeyError for missing values.\n",
      " |  \n",
      " |  __iadd__(self, other)\n",
      " |      Inplace add from another counter, keeping only positive counts.\n",
      " |      \n",
      " |      >>> c = Counter('abbb')\n",
      " |      >>> c += Counter('bcc')\n",
      " |      >>> c\n",
      " |      Counter({'b': 4, 'c': 2, 'a': 1})\n",
      " |  \n",
      " |  __iand__(self, other)\n",
      " |      Inplace intersection is the minimum of corresponding counts.\n",
      " |      \n",
      " |      >>> c = Counter('abbb')\n",
      " |      >>> c &= Counter('bcc')\n",
      " |      >>> c\n",
      " |      Counter({'b': 1})\n",
      " |  \n",
      " |  __init__(self, iterable=None, /, **kwds)\n",
      " |      Create a new, empty Counter object.  And if given, count elements\n",
      " |      from an input iterable.  Or, initialize the count from another mapping\n",
      " |      of elements to their counts.\n",
      " |      \n",
      " |      >>> c = Counter()                           # a new, empty counter\n",
      " |      >>> c = Counter('gallahad')                 # a new counter from an iterable\n",
      " |      >>> c = Counter({'a': 4, 'b': 2})           # a new counter from a mapping\n",
      " |      >>> c = Counter(a=4, b=2)                   # a new counter from keyword args\n",
      " |  \n",
      " |  __ior__(self, other)\n",
      " |      Inplace union is the maximum of value from either counter.\n",
      " |      \n",
      " |      >>> c = Counter('abbb')\n",
      " |      >>> c |= Counter('bcc')\n",
      " |      >>> c\n",
      " |      Counter({'b': 3, 'c': 2, 'a': 1})\n",
      " |  \n",
      " |  __isub__(self, other)\n",
      " |      Inplace subtract counter, but keep only results with positive counts.\n",
      " |      \n",
      " |      >>> c = Counter('abbbc')\n",
      " |      >>> c -= Counter('bccd')\n",
      " |      >>> c\n",
      " |      Counter({'b': 2, 'a': 1})\n",
      " |  \n",
      " |  __missing__(self, key)\n",
      " |      The count of elements not in the Counter is zero.\n",
      " |  \n",
      " |  __neg__(self)\n",
      " |      Subtracts from an empty counter.  Strips positive and zero counts,\n",
      " |      and flips the sign on negative counts.\n",
      " |  \n",
      " |  __or__(self, other)\n",
      " |      Union is the maximum of value in either of the input counters.\n",
      " |      \n",
      " |      >>> Counter('abbb') | Counter('bcc')\n",
      " |      Counter({'b': 3, 'c': 2, 'a': 1})\n",
      " |  \n",
      " |  __pos__(self)\n",
      " |      Adds an empty counter, effectively stripping negative and zero counts\n",
      " |  \n",
      " |  __reduce__(self)\n",
      " |      Helper for pickle.\n",
      " |  \n",
      " |  __repr__(self)\n",
      " |      Return repr(self).\n",
      " |  \n",
      " |  __sub__(self, other)\n",
      " |      Subtract count, but keep only results with positive counts.\n",
      " |      \n",
      " |      >>> Counter('abbbc') - Counter('bccd')\n",
      " |      Counter({'b': 2, 'a': 1})\n",
      " |  \n",
      " |  copy(self)\n",
      " |      Return a shallow copy.\n",
      " |  \n",
      " |  elements(self)\n",
      " |      Iterator over elements repeating each as many times as its count.\n",
      " |      \n",
      " |      >>> c = Counter('ABCABC')\n",
      " |      >>> sorted(c.elements())\n",
      " |      ['A', 'A', 'B', 'B', 'C', 'C']\n",
      " |      \n",
      " |      # Knuth's example for prime factors of 1836:  2**2 * 3**3 * 17**1\n",
      " |      >>> prime_factors = Counter({2: 2, 3: 3, 17: 1})\n",
      " |      >>> product = 1\n",
      " |      >>> for factor in prime_factors.elements():     # loop over factors\n",
      " |      ...     product *= factor                       # and multiply them\n",
      " |      >>> product\n",
      " |      1836\n",
      " |      \n",
      " |      Note, if an element's count has been set to zero or is a negative\n",
      " |      number, elements() will ignore it.\n",
      " |  \n",
      " |  most_common(self, n=None)\n",
      " |      List the n most common elements and their counts from the most\n",
      " |      common to the least.  If n is None, then list all element counts.\n",
      " |      \n",
      " |      >>> Counter('abracadabra').most_common(3)\n",
      " |      [('a', 5), ('b', 2), ('r', 2)]\n",
      " |  \n",
      " |  subtract(self, iterable=None, /, **kwds)\n",
      " |      Like dict.update() but subtracts counts instead of replacing them.\n",
      " |      Counts can be reduced below zero.  Both the inputs and outputs are\n",
      " |      allowed to contain zero and negative counts.\n",
      " |      \n",
      " |      Source can be an iterable, a dictionary, or another Counter instance.\n",
      " |      \n",
      " |      >>> c = Counter('which')\n",
      " |      >>> c.subtract('witch')             # subtract elements from another iterable\n",
      " |      >>> c.subtract(Counter('watch'))    # subtract elements from another counter\n",
      " |      >>> c['h']                          # 2 in which, minus 1 in witch, minus 1 in watch\n",
      " |      0\n",
      " |      >>> c['w']                          # 1 in which, minus 1 in witch, minus 1 in watch\n",
      " |      -1\n",
      " |  \n",
      " |  update(self, iterable=None, /, **kwds)\n",
      " |      Like dict.update() but add counts instead of replacing them.\n",
      " |      \n",
      " |      Source can be an iterable, a dictionary, or another Counter instance.\n",
      " |      \n",
      " |      >>> c = Counter('which')\n",
      " |      >>> c.update('witch')           # add elements from another iterable\n",
      " |      >>> d = Counter('watch')\n",
      " |      >>> c.update(d)                 # add elements from another counter\n",
      " |      >>> c['h']                      # four 'h' in which, witch, and watch\n",
      " |      4\n",
      " |  \n",
      " |  ----------------------------------------------------------------------\n",
      " |  Class methods defined here:\n",
      " |  \n",
      " |  fromkeys(iterable, v=None) from builtins.type\n",
      " |      Create a new dictionary with keys from iterable and values set to value.\n",
      " |  \n",
      " |  ----------------------------------------------------------------------\n",
      " |  Data descriptors defined here:\n",
      " |  \n",
      " |  __dict__\n",
      " |      dictionary for instance variables (if defined)\n",
      " |  \n",
      " |  __weakref__\n",
      " |      list of weak references to the object (if defined)\n",
      " |  \n",
      " |  ----------------------------------------------------------------------\n",
      " |  Methods inherited from builtins.dict:\n",
      " |  \n",
      " |  __contains__(self, key, /)\n",
      " |      True if the dictionary has the specified key, else False.\n",
      " |  \n",
      " |  __eq__(self, value, /)\n",
      " |      Return self==value.\n",
      " |  \n",
      " |  __ge__(self, value, /)\n",
      " |      Return self>=value.\n",
      " |  \n",
      " |  __getattribute__(self, name, /)\n",
      " |      Return getattr(self, name).\n",
      " |  \n",
      " |  __getitem__(...)\n",
      " |      x.__getitem__(y) <==> x[y]\n",
      " |  \n",
      " |  __gt__(self, value, /)\n",
      " |      Return self>value.\n",
      " |  \n",
      " |  __iter__(self, /)\n",
      " |      Implement iter(self).\n",
      " |  \n",
      " |  __le__(self, value, /)\n",
      " |      Return self<=value.\n",
      " |  \n",
      " |  __len__(self, /)\n",
      " |      Return len(self).\n",
      " |  \n",
      " |  __lt__(self, value, /)\n",
      " |      Return self<value.\n",
      " |  \n",
      " |  __ne__(self, value, /)\n",
      " |      Return self!=value.\n",
      " |  \n",
      " |  __reversed__(self, /)\n",
      " |      Return a reverse iterator over the dict keys.\n",
      " |  \n",
      " |  __ror__(self, value, /)\n",
      " |      Return value|self.\n",
      " |  \n",
      " |  __setitem__(self, key, value, /)\n",
      " |      Set self[key] to value.\n",
      " |  \n",
      " |  __sizeof__(...)\n",
      " |      D.__sizeof__() -> size of D in memory, in bytes\n",
      " |  \n",
      " |  clear(...)\n",
      " |      D.clear() -> None.  Remove all items from D.\n",
      " |  \n",
      " |  get(self, key, default=None, /)\n",
      " |      Return the value for key if key is in the dictionary, else default.\n",
      " |  \n",
      " |  items(...)\n",
      " |      D.items() -> a set-like object providing a view on D's items\n",
      " |  \n",
      " |  keys(...)\n",
      " |      D.keys() -> a set-like object providing a view on D's keys\n",
      " |  \n",
      " |  pop(...)\n",
      " |      D.pop(k[,d]) -> v, remove specified key and return the corresponding value.\n",
      " |      \n",
      " |      If key is not found, default is returned if given, otherwise KeyError is raised\n",
      " |  \n",
      " |  popitem(self, /)\n",
      " |      Remove and return a (key, value) pair as a 2-tuple.\n",
      " |      \n",
      " |      Pairs are returned in LIFO (last-in, first-out) order.\n",
      " |      Raises KeyError if the dict is empty.\n",
      " |  \n",
      " |  setdefault(self, key, default=None, /)\n",
      " |      Insert key with a value of default if key is not in the dictionary.\n",
      " |      \n",
      " |      Return the value for key if key is in the dictionary, else default.\n",
      " |  \n",
      " |  values(...)\n",
      " |      D.values() -> an object providing a view on D's values\n",
      " |  \n",
      " |  ----------------------------------------------------------------------\n",
      " |  Class methods inherited from builtins.dict:\n",
      " |  \n",
      " |  __class_getitem__(...) from builtins.type\n",
      " |      See PEP 585\n",
      " |  \n",
      " |  ----------------------------------------------------------------------\n",
      " |  Static methods inherited from builtins.dict:\n",
      " |  \n",
      " |  __new__(*args, **kwargs) from builtins.type\n",
      " |      Create and return a new object.  See help(type) for accurate signature.\n",
      " |  \n",
      " |  ----------------------------------------------------------------------\n",
      " |  Data and other attributes inherited from builtins.dict:\n",
      " |  \n",
      " |  __hash__ = None\n",
      "\n"
     ]
    }
   ],
   "source": [
    "help(collections.Counter)"
   ]
  },
  {
   "cell_type": "code",
   "execution_count": 87,
   "id": "3c8a15c6-0918-4fba-8f20-4c8413b179d6",
   "metadata": {},
   "outputs": [],
   "source": [
    "from collections import Counter"
   ]
  },
  {
   "cell_type": "code",
   "execution_count": 88,
   "id": "c1197a50-d7e2-476c-84ed-2daa0d6d27c0",
   "metadata": {},
   "outputs": [],
   "source": [
    "numbers = [1, 1, 1, 1, 2, 2, 2, 3, 4, 4, 4]"
   ]
  },
  {
   "cell_type": "code",
   "execution_count": 89,
   "id": "90b94e1e-4492-4afb-8c65-799e3147f36e",
   "metadata": {},
   "outputs": [
    {
     "data": {
      "text/plain": [
       "Counter({1: 4, 2: 3, 3: 1, 4: 3})"
      ]
     },
     "execution_count": 89,
     "metadata": {},
     "output_type": "execute_result"
    }
   ],
   "source": [
    "Counter(numbers)"
   ]
  },
  {
   "cell_type": "code",
   "execution_count": 90,
   "id": "3ca3bee6-71d7-4515-beed-3e40e24985fd",
   "metadata": {},
   "outputs": [],
   "source": [
    "num_dict = Counter(numbers)"
   ]
  },
  {
   "cell_type": "code",
   "execution_count": 91,
   "id": "ab4b45de-572e-489f-9084-707ecd9e433f",
   "metadata": {},
   "outputs": [
    {
     "data": {
      "text/plain": [
       "3"
      ]
     },
     "execution_count": 91,
     "metadata": {},
     "output_type": "execute_result"
    }
   ],
   "source": [
    "num_dict[4]"
   ]
  },
  {
   "cell_type": "code",
   "execution_count": 92,
   "id": "69ff37de-7c88-4964-945a-31f05c9ea5e8",
   "metadata": {},
   "outputs": [
    {
     "name": "stdout",
     "output_type": "stream",
     "text": [
      "Help on function most_common in module collections:\n",
      "\n",
      "most_common(self, n=None)\n",
      "    List the n most common elements and their counts from the most\n",
      "    common to the least.  If n is None, then list all element counts.\n",
      "    \n",
      "    >>> Counter('abracadabra').most_common(3)\n",
      "    [('a', 5), ('b', 2), ('r', 2)]\n",
      "\n"
     ]
    }
   ],
   "source": [
    "help(Counter.most_common)"
   ]
  },
  {
   "cell_type": "code",
   "execution_count": 93,
   "id": "7a012682-c83a-4349-ac56-af54e41ac0ff",
   "metadata": {},
   "outputs": [
    {
     "data": {
      "text/plain": [
       "[(1, 4), (2, 3), (4, 3)]"
      ]
     },
     "execution_count": 93,
     "metadata": {},
     "output_type": "execute_result"
    }
   ],
   "source": [
    "num_dict.most_common(3)"
   ]
  },
  {
   "cell_type": "markdown",
   "id": "514b653e-76fc-4d1e-b038-3849dbd60dad",
   "metadata": {},
   "source": [
    "Challenge"
   ]
  },
  {
   "cell_type": "code",
   "execution_count": 94,
   "id": "ef017300-c24d-4929-af10-8e82eae20048",
   "metadata": {},
   "outputs": [
    {
     "data": {
      "text/plain": [
       "2"
      ]
     },
     "execution_count": 94,
     "metadata": {},
     "output_type": "execute_result"
    }
   ],
   "source": [
    "konami_cheat_code = ['up', 'up', 'down', 'down', 'left', 'right', 'left', 'right', 'B', 'A', 'start']\n",
    "kcc = Counter(konami_cheat_code)\n",
    "kcc['left']"
   ]
  },
  {
   "cell_type": "code",
   "execution_count": 95,
   "id": "c8d97b77-0261-41ce-b4df-aa665122dc34",
   "metadata": {},
   "outputs": [
    {
     "data": {
      "text/plain": [
       "[('up', 2),\n",
       " ('down', 2),\n",
       " ('left', 2),\n",
       " ('right', 2),\n",
       " ('B', 1),\n",
       " ('A', 1),\n",
       " ('start', 1)]"
      ]
     },
     "execution_count": 95,
     "metadata": {},
     "output_type": "execute_result"
    }
   ],
   "source": [
    "kcc.most_common()"
   ]
  },
  {
   "cell_type": "code",
   "execution_count": 96,
   "id": "de11c348-11f1-40a1-97a2-61f7be6f63b6",
   "metadata": {},
   "outputs": [],
   "source": [
    "import pandas as pd"
   ]
  },
  {
   "cell_type": "code",
   "execution_count": 97,
   "id": "0956148b-8356-4b30-af4e-d5fe3131e1b9",
   "metadata": {},
   "outputs": [],
   "source": [
    "df = pd.DataFrame({\n",
    "    \"a\": 1.0,\n",
    "    \"b\": pd.Timestamp(\"20220101\"),\n",
    "    \"c\": pd.Series([1, 2, 3, 3], dtype=\"float32\"),\n",
    "    \"d\": pd.Categorical([\"test\", \"train\", \"test\", \"test\"]),\n",
    "    \"e\": \"foo\",\n",
    "})"
   ]
  },
  {
   "cell_type": "code",
   "execution_count": 98,
   "id": "db72d188-e087-4a5c-99c4-bdba3624e926",
   "metadata": {},
   "outputs": [
    {
     "data": {
      "text/html": [
       "<div>\n",
       "<style scoped>\n",
       "    .dataframe tbody tr th:only-of-type {\n",
       "        vertical-align: middle;\n",
       "    }\n",
       "\n",
       "    .dataframe tbody tr th {\n",
       "        vertical-align: top;\n",
       "    }\n",
       "\n",
       "    .dataframe thead th {\n",
       "        text-align: right;\n",
       "    }\n",
       "</style>\n",
       "<table border=\"1\" class=\"dataframe\">\n",
       "  <thead>\n",
       "    <tr style=\"text-align: right;\">\n",
       "      <th></th>\n",
       "      <th>a</th>\n",
       "      <th>b</th>\n",
       "      <th>c</th>\n",
       "      <th>d</th>\n",
       "      <th>e</th>\n",
       "    </tr>\n",
       "  </thead>\n",
       "  <tbody>\n",
       "    <tr>\n",
       "      <th>0</th>\n",
       "      <td>1.0</td>\n",
       "      <td>2022-01-01</td>\n",
       "      <td>1.0</td>\n",
       "      <td>test</td>\n",
       "      <td>foo</td>\n",
       "    </tr>\n",
       "    <tr>\n",
       "      <th>1</th>\n",
       "      <td>1.0</td>\n",
       "      <td>2022-01-01</td>\n",
       "      <td>2.0</td>\n",
       "      <td>train</td>\n",
       "      <td>foo</td>\n",
       "    </tr>\n",
       "    <tr>\n",
       "      <th>2</th>\n",
       "      <td>1.0</td>\n",
       "      <td>2022-01-01</td>\n",
       "      <td>3.0</td>\n",
       "      <td>test</td>\n",
       "      <td>foo</td>\n",
       "    </tr>\n",
       "    <tr>\n",
       "      <th>3</th>\n",
       "      <td>1.0</td>\n",
       "      <td>2022-01-01</td>\n",
       "      <td>3.0</td>\n",
       "      <td>test</td>\n",
       "      <td>foo</td>\n",
       "    </tr>\n",
       "  </tbody>\n",
       "</table>\n",
       "</div>"
      ],
      "text/plain": [
       "     a          b    c      d    e\n",
       "0  1.0 2022-01-01  1.0   test  foo\n",
       "1  1.0 2022-01-01  2.0  train  foo\n",
       "2  1.0 2022-01-01  3.0   test  foo\n",
       "3  1.0 2022-01-01  3.0   test  foo"
      ]
     },
     "execution_count": 98,
     "metadata": {},
     "output_type": "execute_result"
    }
   ],
   "source": [
    "df"
   ]
  },
  {
   "cell_type": "markdown",
   "id": "a27248b9-dba5-44c0-bd90-81ee47926024",
   "metadata": {},
   "source": [
    "Challenge"
   ]
  },
  {
   "cell_type": "code",
   "execution_count": 99,
   "id": "538fe8a7-77f7-4099-940c-cca9f9fa9da2",
   "metadata": {},
   "outputs": [
    {
     "name": "stdout",
     "output_type": "stream",
     "text": [
      "Requirement already satisfied: Faker in c:\\programdata\\anaconda3\\lib\\site-packages (18.10.1)\n",
      "Requirement already satisfied: python-dateutil>=2.4 in c:\\programdata\\anaconda3\\lib\\site-packages (from Faker) (2.8.2)\n",
      "Requirement already satisfied: six>=1.5 in c:\\programdata\\anaconda3\\lib\\site-packages (from python-dateutil>=2.4->Faker) (1.16.0)\n",
      "Note: you may need to restart the kernel to use updated packages.\n"
     ]
    }
   ],
   "source": [
    "pip install Faker"
   ]
  },
  {
   "cell_type": "code",
   "execution_count": 100,
   "id": "70114ad3-37cd-44d6-9721-a0dca4951ec3",
   "metadata": {},
   "outputs": [],
   "source": [
    "from faker import Faker"
   ]
  },
  {
   "cell_type": "code",
   "execution_count": 101,
   "id": "5810453b-82ee-4b1b-a089-5b5eb8f72ab6",
   "metadata": {},
   "outputs": [],
   "source": [
    "fake = Faker()"
   ]
  },
  {
   "cell_type": "code",
   "execution_count": 102,
   "id": "473a1e62-f2e4-4692-a323-0c5746914f3f",
   "metadata": {},
   "outputs": [
    {
     "data": {
      "text/plain": [
       "'herrerajessica@example.com'"
      ]
     },
     "execution_count": 102,
     "metadata": {},
     "output_type": "execute_result"
    }
   ],
   "source": [
    "fake.email()"
   ]
  },
  {
   "cell_type": "code",
   "execution_count": 103,
   "id": "767bec42-dbfb-4079-97a8-cc241ad6f2e9",
   "metadata": {},
   "outputs": [
    {
     "data": {
      "text/plain": [
       "'^f436Eqess'"
      ]
     },
     "execution_count": 103,
     "metadata": {},
     "output_type": "execute_result"
    }
   ],
   "source": [
    "fake.password()"
   ]
  },
  {
   "cell_type": "markdown",
   "id": "88cb8f2a-e8a5-467b-8de5-420f8a2640d5",
   "metadata": {},
   "source": [
    "# 06. Functions"
   ]
  },
  {
   "cell_type": "code",
   "execution_count": 104,
   "id": "4954ca57-a3e7-4636-a09a-de47813cc0a9",
   "metadata": {},
   "outputs": [
    {
     "data": {
      "text/plain": [
       "<zip at 0x24ec2751800>"
      ]
     },
     "execution_count": 104,
     "metadata": {},
     "output_type": "execute_result"
    }
   ],
   "source": [
    "zip([1, 2, 3], 'abc')"
   ]
  },
  {
   "cell_type": "code",
   "execution_count": 105,
   "id": "b066ec28-9c28-40ae-93d0-aa6c9ec2eb57",
   "metadata": {},
   "outputs": [
    {
     "data": {
      "text/plain": [
       "[('w', 'a', 2), ('o', 'l', 10)]"
      ]
     },
     "execution_count": 105,
     "metadata": {},
     "output_type": "execute_result"
    }
   ],
   "source": [
    "list(zip('word', 'alex', [2, 10]))"
   ]
  },
  {
   "cell_type": "code",
   "execution_count": 106,
   "id": "92e4d86b-0982-49dc-a988-77938d70b749",
   "metadata": {},
   "outputs": [],
   "source": [
    "def uppr(input):\n",
    "    print(input.upper())"
   ]
  },
  {
   "cell_type": "code",
   "execution_count": 107,
   "id": "24561cbe-5f8a-42b8-8ced-57fa4ac87224",
   "metadata": {},
   "outputs": [
    {
     "name": "stdout",
     "output_type": "stream",
     "text": [
      "I AM GOING HOME!\n"
     ]
    }
   ],
   "source": [
    "example1 = uppr('I am going home!')"
   ]
  },
  {
   "cell_type": "code",
   "execution_count": 108,
   "id": "906acd4b-13a9-4f5a-a9c1-bc70c7048d27",
   "metadata": {},
   "outputs": [],
   "source": [
    "example = 'Tony lives in Rome.'"
   ]
  },
  {
   "cell_type": "code",
   "execution_count": 109,
   "id": "e1977425-b981-41f5-a9aa-0b0063596fb9",
   "metadata": {},
   "outputs": [
    {
     "data": {
      "text/plain": [
       "'Tony lives in Milan.'"
      ]
     },
     "execution_count": 109,
     "metadata": {},
     "output_type": "execute_result"
    }
   ],
   "source": [
    "example.replace('Rome', 'Milan')"
   ]
  },
  {
   "cell_type": "code",
   "execution_count": 110,
   "id": "835b88c4-b62f-4d1c-b1f4-becc15c53039",
   "metadata": {},
   "outputs": [],
   "source": [
    "import random"
   ]
  },
  {
   "cell_type": "code",
   "execution_count": 111,
   "id": "277795e4-b76a-479c-8596-ddb5add08a8d",
   "metadata": {},
   "outputs": [
    {
     "data": {
      "text/plain": [
       "'b'"
      ]
     },
     "execution_count": 111,
     "metadata": {},
     "output_type": "execute_result"
    }
   ],
   "source": [
    "random.choice('abcd')"
   ]
  },
  {
   "cell_type": "code",
   "execution_count": 112,
   "id": "e4da6757-6f7b-449f-a791-ce6955998d15",
   "metadata": {},
   "outputs": [
    {
     "data": {
      "text/plain": [
       "1"
      ]
     },
     "execution_count": 112,
     "metadata": {},
     "output_type": "execute_result"
    }
   ],
   "source": [
    "random.choice([1, 2, 3])"
   ]
  },
  {
   "cell_type": "code",
   "execution_count": 113,
   "id": "9a224f9f-93d6-406f-a1bd-681d54a6f6b0",
   "metadata": {},
   "outputs": [
    {
     "data": {
      "text/plain": [
       "str"
      ]
     },
     "execution_count": 113,
     "metadata": {},
     "output_type": "execute_result"
    }
   ],
   "source": [
    "type('abcd')"
   ]
  },
  {
   "cell_type": "code",
   "execution_count": 114,
   "id": "62a22ad6-3af6-447b-9c2b-ce27c07dd777",
   "metadata": {},
   "outputs": [],
   "source": [
    "def dna():\n",
    "    return \"\".join(random.choices(\"ATGC\", k=50))"
   ]
  },
  {
   "cell_type": "code",
   "execution_count": 115,
   "id": "6d5f1474-0905-49f6-ad00-e0905ff1cec0",
   "metadata": {},
   "outputs": [
    {
     "data": {
      "text/plain": [
       "'CAGCGACTGGGATTATCCTGACATACGGCCCAGAAGAAGCGTTCCTACAA'"
      ]
     },
     "execution_count": 115,
     "metadata": {},
     "output_type": "execute_result"
    }
   ],
   "source": [
    "dna()"
   ]
  },
  {
   "cell_type": "code",
   "execution_count": 116,
   "id": "1f2b40d9-e346-4559-a98d-212acdb5a1e9",
   "metadata": {},
   "outputs": [],
   "source": [
    "def dna2():\n",
    "    return str(random.choices(\"ATGC\", k=50))"
   ]
  },
  {
   "cell_type": "code",
   "execution_count": 117,
   "id": "3441c180-fa53-4cfb-96cc-f055eec6a2a9",
   "metadata": {},
   "outputs": [
    {
     "data": {
      "text/plain": [
       "\"['C', 'A', 'G', 'G', 'A', 'A', 'G', 'T', 'G', 'C', 'A', 'T', 'C', 'T', 'C', 'G', 'C', 'A', 'A', 'G', 'G', 'T', 'G', 'G', 'G', 'C', 'A', 'G', 'G', 'G', 'G', 'G', 'G', 'T', 'G', 'G', 'A', 'A', 'A', 'T', 'T', 'T', 'G', 'C', 'G', 'A', 'C', 'C', 'T', 'T']\""
      ]
     },
     "execution_count": 117,
     "metadata": {},
     "output_type": "execute_result"
    }
   ],
   "source": [
    "dna2()"
   ]
  },
  {
   "cell_type": "code",
   "execution_count": 118,
   "id": "ec292483-7030-49b0-86bd-394efbc963fc",
   "metadata": {},
   "outputs": [
    {
     "data": {
      "text/plain": [
       "'GCCGCTCAGCGTAGTTTGTAGACAGAACTGTGGTCAGAGCACCTGACCGT'"
      ]
     },
     "execution_count": 118,
     "metadata": {},
     "output_type": "execute_result"
    }
   ],
   "source": [
    "\"\".join(random.choices(\"ATGC\", k=50))"
   ]
  },
  {
   "cell_type": "markdown",
   "id": "6b6db59c-0f83-406a-931e-bdfa2137f6ac",
   "metadata": {},
   "source": [
    "Challenge"
   ]
  },
  {
   "cell_type": "code",
   "execution_count": 119,
   "id": "e926427c-9fca-4ae9-af96-2e34466b5624",
   "metadata": {},
   "outputs": [],
   "source": [
    "def converter(text):\n",
    "    if text == 'DNA':\n",
    "        return print('RNA')\n",
    "    else:\n",
    "        return print(\"Input is not equal to 'DNA'\")"
   ]
  },
  {
   "cell_type": "code",
   "execution_count": 120,
   "id": "9ad8edd6-76ca-481f-b3ff-4deb5780e9e4",
   "metadata": {},
   "outputs": [
    {
     "name": "stdout",
     "output_type": "stream",
     "text": [
      "RNA\n"
     ]
    }
   ],
   "source": [
    "converter('DNA')"
   ]
  },
  {
   "cell_type": "code",
   "execution_count": 121,
   "id": "d95b5b21-b8f1-4f20-9214-119a2da7d67d",
   "metadata": {},
   "outputs": [
    {
     "name": "stdout",
     "output_type": "stream",
     "text": [
      "Input is not equal to 'DNA'\n"
     ]
    }
   ],
   "source": [
    "converter(1231)"
   ]
  },
  {
   "cell_type": "code",
   "execution_count": 122,
   "id": "1f318b26-8e35-41e2-be59-986ffd7de437",
   "metadata": {},
   "outputs": [
    {
     "name": "stdout",
     "output_type": "stream",
     "text": [
      "Input is not equal to 'DNA'\n"
     ]
    }
   ],
   "source": [
    "converter('DNAA')"
   ]
  },
  {
   "cell_type": "code",
   "execution_count": 123,
   "id": "e8dfaf4b-3496-4916-9dc0-12df7fc3ceb0",
   "metadata": {},
   "outputs": [
    {
     "data": {
      "text/plain": [
       "5"
      ]
     },
     "execution_count": 123,
     "metadata": {},
     "output_type": "execute_result"
    }
   ],
   "source": [
    "round(4.6)"
   ]
  },
  {
   "cell_type": "code",
   "execution_count": 124,
   "id": "614282c2-db0c-480d-9d40-306396f75e2e",
   "metadata": {},
   "outputs": [
    {
     "data": {
      "text/plain": [
       "4"
      ]
     },
     "execution_count": 124,
     "metadata": {},
     "output_type": "execute_result"
    }
   ],
   "source": [
    "round(4.5)"
   ]
  },
  {
   "cell_type": "code",
   "execution_count": 125,
   "id": "ac7a9c0c-56b0-4567-8cef-9d902b782373",
   "metadata": {},
   "outputs": [],
   "source": [
    "songs = [\"1.mp3\", \"2.flac\", \"3.mp3\", \"4.mp3\"]"
   ]
  },
  {
   "cell_type": "code",
   "execution_count": 126,
   "id": "0d4fbb44-79b3-4ff1-adb7-822a32afd6ea",
   "metadata": {},
   "outputs": [
    {
     "name": "stdout",
     "output_type": "stream",
     "text": [
      "['1.mp3', '3.mp3', '4.mp3']\n"
     ]
    }
   ],
   "source": [
    "mp3_songs = []\n",
    "\n",
    "def mp3_keeper(song):\n",
    "    if song.endswith('.mp3'):\n",
    "        mp3_songs.append(song)\n",
    "\n",
    "for song in songs:\n",
    "    mp3_keeper(song)\n",
    "    \n",
    "print(mp3_songs)"
   ]
  },
  {
   "cell_type": "code",
   "execution_count": 127,
   "id": "78b158d2-e73e-406a-bfe8-cd23c47913bb",
   "metadata": {},
   "outputs": [
    {
     "name": "stdout",
     "output_type": "stream",
     "text": [
      "['1.mp3', '3.mp3', '4.mp3']\n"
     ]
    }
   ],
   "source": [
    "mp3_songs = [song for song in songs if song.endswith('.mp3')]\n",
    "\n",
    "print(mp3_songs)"
   ]
  },
  {
   "cell_type": "code",
   "execution_count": 128,
   "id": "65b786c0-ad05-4754-851e-c62b99679a70",
   "metadata": {},
   "outputs": [
    {
     "name": "stdout",
     "output_type": "stream",
     "text": [
      "['Alex Looker', 'John Looker', 'Joe Looker', 'Tom Looker', 'Louis Looker']\n"
     ]
    }
   ],
   "source": [
    "names = ['Alex', 'John', 'Joe', 'Tom', 'Louis']\n",
    "\n",
    "def surname(name):\n",
    "    sur = ' Looker'\n",
    "    return name + sur\n",
    "\n",
    "res = list(map(surname, names))\n",
    "\n",
    "print(res)"
   ]
  },
  {
   "cell_type": "code",
   "execution_count": 129,
   "id": "c1a302ee-42ae-43e8-b00f-ee5a77127a31",
   "metadata": {},
   "outputs": [
    {
     "data": {
      "text/plain": [
       "'Alex Looker'"
      ]
     },
     "execution_count": 129,
     "metadata": {},
     "output_type": "execute_result"
    }
   ],
   "source": [
    "a = 'Alex'\n",
    "b = ' Looker'\n",
    "a + b"
   ]
  },
  {
   "cell_type": "code",
   "execution_count": 139,
   "id": "9b97ab7d-562d-44b4-b6e5-a80300608d91",
   "metadata": {},
   "outputs": [
    {
     "data": {
      "text/plain": [
       "['Alex Looker', 'John Looker', 'Joe Looker', 'Tom Looker', 'Louis Looker']"
      ]
     },
     "execution_count": 139,
     "metadata": {},
     "output_type": "execute_result"
    }
   ],
   "source": [
    "names = ['Alex', 'John', 'Joe', 'Tom', 'Louis']\n",
    "\n",
    "def surname(name):\n",
    "    sur = ' Looker'\n",
    "    return name + sur\n",
    "\n",
    "result = list(map(surname, names))\n",
    "\n",
    "result"
   ]
  },
  {
   "cell_type": "code",
   "execution_count": 140,
   "id": "3a0a0c34-45a3-4ace-acd1-831caf65fa54",
   "metadata": {},
   "outputs": [
    {
     "name": "stdout",
     "output_type": "stream",
     "text": [
      "[1, 4, 9, 16, 25]\n"
     ]
    }
   ],
   "source": [
    "def square(x):\n",
    "    return x ** 2\n",
    "\n",
    "numbers = [1, 2, 3, 4, 5]\n",
    "\n",
    "squared_numbers = list(map(square, numbers))\n",
    "\n",
    "print(squared_numbers)"
   ]
  },
  {
   "cell_type": "code",
   "execution_count": 142,
   "id": "ca72ea77-d7ba-4fc9-af38-ac079186244d",
   "metadata": {},
   "outputs": [
    {
     "data": {
      "text/plain": [
       "[30, 41, 62, 45, 25, 37, 27, 52, 57, 35]"
      ]
     },
     "execution_count": 142,
     "metadata": {},
     "output_type": "execute_result"
    }
   ],
   "source": [
    "def birthday(age):\n",
    "    return age + 1\n",
    "\n",
    "emp_age = [29, 40, 61, 44, 24, 36, 26, 51, 56, 34]\n",
    "\n",
    "new_emp_age = list(map(birthday, emp_age))\n",
    "new_emp_age"
   ]
  },
  {
   "cell_type": "code",
   "execution_count": 143,
   "id": "aff116e8-77e2-431a-a81d-2329f9f5df8f",
   "metadata": {},
   "outputs": [],
   "source": [
    "from functools import reduce"
   ]
  },
  {
   "cell_type": "code",
   "execution_count": 144,
   "id": "d0dda963-aba4-441b-85f1-66c86fd2987b",
   "metadata": {},
   "outputs": [
    {
     "name": "stdout",
     "output_type": "stream",
     "text": [
      "Help on built-in function reduce in module _functools:\n",
      "\n",
      "reduce(...)\n",
      "    reduce(function, sequence[, initial]) -> value\n",
      "    \n",
      "    Apply a function of two arguments cumulatively to the items of a sequence,\n",
      "    from left to right, so as to reduce the sequence to a single value.\n",
      "    For example, reduce(lambda x, y: x+y, [1, 2, 3, 4, 5]) calculates\n",
      "    ((((1+2)+3)+4)+5).  If initial is present, it is placed before the items\n",
      "    of the sequence in the calculation, and serves as a default when the\n",
      "    sequence is empty.\n",
      "\n"
     ]
    }
   ],
   "source": [
    "help(reduce)"
   ]
  },
  {
   "cell_type": "code",
   "execution_count": 146,
   "id": "44862926-3f70-4998-9236-addd8d2a6b5c",
   "metadata": {},
   "outputs": [
    {
     "name": "stdout",
     "output_type": "stream",
     "text": [
      "Help on built-in function sum in module builtins:\n",
      "\n",
      "sum(iterable, /, start=0)\n",
      "    Return the sum of a 'start' value (default: 0) plus an iterable of numbers\n",
      "    \n",
      "    When the iterable is empty, return the start value.\n",
      "    This function is intended specifically for use with numeric values and may\n",
      "    reject non-numeric types.\n",
      "\n"
     ]
    }
   ],
   "source": [
    "help(sum)"
   ]
  },
  {
   "cell_type": "code",
   "execution_count": 150,
   "id": "b246c42a-58ce-4c02-b79a-9ee4b61c8cdf",
   "metadata": {},
   "outputs": [
    {
     "data": {
      "text/plain": [
       "120"
      ]
     },
     "execution_count": 150,
     "metadata": {},
     "output_type": "execute_result"
    }
   ],
   "source": [
    "def multiply(x, y):\n",
    "    return x * y\n",
    "\n",
    "numbers = [1, 2, 3, 4, 5]\n",
    "\n",
    "product = reduce(multiply, numbers)\n",
    "\n",
    "product"
   ]
  }
 ],
 "metadata": {
  "kernelspec": {
   "display_name": "Python 3 (ipykernel)",
   "language": "python",
   "name": "python3"
  },
  "language_info": {
   "codemirror_mode": {
    "name": "ipython",
    "version": 3
   },
   "file_extension": ".py",
   "mimetype": "text/x-python",
   "name": "python",
   "nbconvert_exporter": "python",
   "pygments_lexer": "ipython3",
   "version": "3.9.13"
  }
 },
 "nbformat": 4,
 "nbformat_minor": 5
}
