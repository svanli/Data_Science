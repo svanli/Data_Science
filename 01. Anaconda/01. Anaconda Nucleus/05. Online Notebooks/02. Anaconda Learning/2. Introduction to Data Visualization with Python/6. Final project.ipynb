{
 "cells": [
  {
   "cell_type": "markdown",
   "id": "26649f8f",
   "metadata": {},
   "source": [
    "<h1>06. Final project </h1>\n",
    "<br>\n",
    "\n",
    "In this notebook, we will complete an end-to-end data visualization project and learn how we can use visualization to solve real-world problems. \n",
    "\n",
    "<p class=\"lead\"> \n",
    "Table of Contents: \n",
    "\n",
    "- <a href=\"#Come-up-with-questions\">Come up with questions</a>\n",
    "- <a href=\"#Find-data\">Find data</a>    \n",
    "- <a href=\"#Refine-questions\">Refine your questions</a>\n",
    "- <a href=\"#Data-cleaning\">Data cleaning</a>\n",
    "- <a href=\"#Data-exploration-and-visualization\">Data exploration and visualization</a>\n",
    "\n",
    "    \n",
    "</p>\n",
    "\n",
    "\n",
    "\n"
   ]
  },
  {
   "cell_type": "markdown",
   "id": "2f023122",
   "metadata": {},
   "source": [
    "<div>\n",
    "<h2 class=\"breadcrumb\">Come up with questions</h2><p>\n",
    "</div>\n",
    "\n",
    "- What excites you? What kind of problems would you like to explore and solve with data visualization?\n",
    "\n",
    "![](assets/UFO1.gif)\n",
    "\n",
    "![UFO](assets/UFO01.gif)"
   ]
  },
  {
   "cell_type": "markdown",
   "id": "29203370",
   "metadata": {},
   "source": [
    "<div>\n",
    "<h2 class=\"breadcrumb\">Find data</h2><p>\n",
    "</div>\n",
    "\n",
    "- Google\n",
    "- Find public datasets (e.g., https://www.kaggle.com/datasets/) \n",
    "- Use API (e.g., Twitter API)\n",
    "- Web scraping \n",
    "- Survey\n",
    "\n",
    "\n",
    "UFO data: https://www.kaggle.com/datasets/NUFORC/ufo-sightings"
   ]
  },
  {
   "cell_type": "markdown",
   "id": "1f48fa62",
   "metadata": {},
   "source": [
    "<div>\n",
    "<h2 class=\"breadcrumb\">Refine questions</h2><p>\n",
    "</div>\n",
    "\n",
    "Given the data we see, we can refine our questions:\n",
    "\n",
    "- What is the yearly/monthly/daily trend of UFO sightings? Which year/month of the year/day of the month has the highest number of UFO sightings?\n",
    "- Which country has the highest number of UFO sightings?\n",
    "- Are there overall trend differences by country?"
   ]
  },
  {
   "cell_type": "markdown",
   "id": "7007b7fe",
   "metadata": {},
   "source": [
    "<div>\n",
    "<h2 class=\"breadcrumb\">Data cleaning</h2><p>\n",
    "</div>"
   ]
  },
  {
   "cell_type": "code",
   "execution_count": 1,
   "id": "7f7be86c",
   "metadata": {},
   "outputs": [],
   "source": [
    "import pandas as pd\n",
    "import seaborn as sns\n",
    "import matplotlib.pyplot as plt"
   ]
  },
  {
   "cell_type": "code",
   "execution_count": 4,
   "id": "2d1ae8ff",
   "metadata": {},
   "outputs": [],
   "source": [
    "df = pd.read_csv('scrubbed.csv', low_memory=False)"
   ]
  },
  {
   "cell_type": "code",
   "execution_count": 5,
   "id": "f65dee29",
   "metadata": {
    "scrolled": true
   },
   "outputs": [
    {
     "data": {
      "text/html": [
       "<div>\n",
       "<style scoped>\n",
       "    .dataframe tbody tr th:only-of-type {\n",
       "        vertical-align: middle;\n",
       "    }\n",
       "\n",
       "    .dataframe tbody tr th {\n",
       "        vertical-align: top;\n",
       "    }\n",
       "\n",
       "    .dataframe thead th {\n",
       "        text-align: right;\n",
       "    }\n",
       "</style>\n",
       "<table border=\"1\" class=\"dataframe\">\n",
       "  <thead>\n",
       "    <tr style=\"text-align: right;\">\n",
       "      <th></th>\n",
       "      <th>datetime</th>\n",
       "      <th>city</th>\n",
       "      <th>state</th>\n",
       "      <th>country</th>\n",
       "      <th>shape</th>\n",
       "      <th>duration (seconds)</th>\n",
       "      <th>duration (hours/min)</th>\n",
       "      <th>comments</th>\n",
       "      <th>date posted</th>\n",
       "      <th>latitude</th>\n",
       "      <th>longitude</th>\n",
       "    </tr>\n",
       "  </thead>\n",
       "  <tbody>\n",
       "    <tr>\n",
       "      <th>0</th>\n",
       "      <td>10/10/1949 20:30</td>\n",
       "      <td>san marcos</td>\n",
       "      <td>tx</td>\n",
       "      <td>us</td>\n",
       "      <td>cylinder</td>\n",
       "      <td>2700</td>\n",
       "      <td>45 minutes</td>\n",
       "      <td>This event took place in early fall around 194...</td>\n",
       "      <td>4/27/2004</td>\n",
       "      <td>29.8830556</td>\n",
       "      <td>-97.941111</td>\n",
       "    </tr>\n",
       "    <tr>\n",
       "      <th>1</th>\n",
       "      <td>10/10/1949 21:00</td>\n",
       "      <td>lackland afb</td>\n",
       "      <td>tx</td>\n",
       "      <td>NaN</td>\n",
       "      <td>light</td>\n",
       "      <td>7200</td>\n",
       "      <td>1-2 hrs</td>\n",
       "      <td>1949 Lackland AFB&amp;#44 TX.  Lights racing acros...</td>\n",
       "      <td>12/16/2005</td>\n",
       "      <td>29.38421</td>\n",
       "      <td>-98.581082</td>\n",
       "    </tr>\n",
       "    <tr>\n",
       "      <th>2</th>\n",
       "      <td>10/10/1955 17:00</td>\n",
       "      <td>chester (uk/england)</td>\n",
       "      <td>NaN</td>\n",
       "      <td>gb</td>\n",
       "      <td>circle</td>\n",
       "      <td>20</td>\n",
       "      <td>20 seconds</td>\n",
       "      <td>Green/Orange circular disc over Chester&amp;#44 En...</td>\n",
       "      <td>1/21/2008</td>\n",
       "      <td>53.2</td>\n",
       "      <td>-2.916667</td>\n",
       "    </tr>\n",
       "    <tr>\n",
       "      <th>3</th>\n",
       "      <td>10/10/1956 21:00</td>\n",
       "      <td>edna</td>\n",
       "      <td>tx</td>\n",
       "      <td>us</td>\n",
       "      <td>circle</td>\n",
       "      <td>20</td>\n",
       "      <td>1/2 hour</td>\n",
       "      <td>My older brother and twin sister were leaving ...</td>\n",
       "      <td>1/17/2004</td>\n",
       "      <td>28.9783333</td>\n",
       "      <td>-96.645833</td>\n",
       "    </tr>\n",
       "    <tr>\n",
       "      <th>4</th>\n",
       "      <td>10/10/1960 20:00</td>\n",
       "      <td>kaneohe</td>\n",
       "      <td>hi</td>\n",
       "      <td>us</td>\n",
       "      <td>light</td>\n",
       "      <td>900</td>\n",
       "      <td>15 minutes</td>\n",
       "      <td>AS a Marine 1st Lt. flying an FJ4B fighter/att...</td>\n",
       "      <td>1/22/2004</td>\n",
       "      <td>21.4180556</td>\n",
       "      <td>-157.803611</td>\n",
       "    </tr>\n",
       "  </tbody>\n",
       "</table>\n",
       "</div>"
      ],
      "text/plain": [
       "           datetime                  city state country     shape  \\\n",
       "0  10/10/1949 20:30            san marcos    tx      us  cylinder   \n",
       "1  10/10/1949 21:00          lackland afb    tx     NaN     light   \n",
       "2  10/10/1955 17:00  chester (uk/england)   NaN      gb    circle   \n",
       "3  10/10/1956 21:00                  edna    tx      us    circle   \n",
       "4  10/10/1960 20:00               kaneohe    hi      us     light   \n",
       "\n",
       "  duration (seconds) duration (hours/min)  \\\n",
       "0               2700           45 minutes   \n",
       "1               7200              1-2 hrs   \n",
       "2                 20           20 seconds   \n",
       "3                 20             1/2 hour   \n",
       "4                900           15 minutes   \n",
       "\n",
       "                                            comments date posted    latitude  \\\n",
       "0  This event took place in early fall around 194...   4/27/2004  29.8830556   \n",
       "1  1949 Lackland AFB&#44 TX.  Lights racing acros...  12/16/2005    29.38421   \n",
       "2  Green/Orange circular disc over Chester&#44 En...   1/21/2008        53.2   \n",
       "3  My older brother and twin sister were leaving ...   1/17/2004  28.9783333   \n",
       "4  AS a Marine 1st Lt. flying an FJ4B fighter/att...   1/22/2004  21.4180556   \n",
       "\n",
       "   longitude   \n",
       "0  -97.941111  \n",
       "1  -98.581082  \n",
       "2   -2.916667  \n",
       "3  -96.645833  \n",
       "4 -157.803611  "
      ]
     },
     "execution_count": 5,
     "metadata": {},
     "output_type": "execute_result"
    }
   ],
   "source": [
    "df.head()"
   ]
  },
  {
   "cell_type": "code",
   "execution_count": 6,
   "id": "b6741b8d",
   "metadata": {},
   "outputs": [
    {
     "data": {
      "text/plain": [
       "Index(['datetime', 'city', 'state', 'country', 'shape', 'duration (seconds)',\n",
       "       'duration (hours/min)', 'comments', 'date posted', 'latitude',\n",
       "       'longitude '],\n",
       "      dtype='object')"
      ]
     },
     "execution_count": 6,
     "metadata": {},
     "output_type": "execute_result"
    }
   ],
   "source": [
    "df.columns"
   ]
  },
  {
   "cell_type": "code",
   "execution_count": 7,
   "id": "fbc0e432",
   "metadata": {},
   "outputs": [],
   "source": [
    "# rename column \"longitude \" to \"longitude\". There is an extra space. \n",
    "df = df.rename(columns={\"longitude \": \"longitude\"})"
   ]
  },
  {
   "cell_type": "code",
   "execution_count": 8,
   "id": "8651ac5d",
   "metadata": {},
   "outputs": [
    {
     "data": {
      "text/plain": [
       "datetime                 object\n",
       "city                     object\n",
       "state                    object\n",
       "country                  object\n",
       "shape                    object\n",
       "duration (seconds)       object\n",
       "duration (hours/min)     object\n",
       "comments                 object\n",
       "date posted              object\n",
       "latitude                 object\n",
       "longitude               float64\n",
       "dtype: object"
      ]
     },
     "execution_count": 8,
     "metadata": {},
     "output_type": "execute_result"
    }
   ],
   "source": [
    "# check data types\n",
    "df.dtypes"
   ]
  },
  {
   "cell_type": "code",
   "execution_count": 12,
   "id": "477de0d3",
   "metadata": {},
   "outputs": [],
   "source": [
    "# convert duration to float \n",
    "# df['duration (seconds)'] = df['duration (seconds)'].astype(float)"
   ]
  },
  {
   "cell_type": "code",
   "execution_count": 11,
   "id": "648a8b79",
   "metadata": {},
   "outputs": [
    {
     "data": {
      "text/html": [
       "<div>\n",
       "<style scoped>\n",
       "    .dataframe tbody tr th:only-of-type {\n",
       "        vertical-align: middle;\n",
       "    }\n",
       "\n",
       "    .dataframe tbody tr th {\n",
       "        vertical-align: top;\n",
       "    }\n",
       "\n",
       "    .dataframe thead th {\n",
       "        text-align: right;\n",
       "    }\n",
       "</style>\n",
       "<table border=\"1\" class=\"dataframe\">\n",
       "  <thead>\n",
       "    <tr style=\"text-align: right;\">\n",
       "      <th></th>\n",
       "      <th>datetime</th>\n",
       "      <th>city</th>\n",
       "      <th>state</th>\n",
       "      <th>country</th>\n",
       "      <th>shape</th>\n",
       "      <th>duration (seconds)</th>\n",
       "      <th>duration (hours/min)</th>\n",
       "      <th>comments</th>\n",
       "      <th>date posted</th>\n",
       "      <th>latitude</th>\n",
       "      <th>longitude</th>\n",
       "    </tr>\n",
       "  </thead>\n",
       "  <tbody>\n",
       "    <tr>\n",
       "      <th>27822</th>\n",
       "      <td>2/2/2000 19:33</td>\n",
       "      <td>bouse</td>\n",
       "      <td>az</td>\n",
       "      <td>us</td>\n",
       "      <td>NaN</td>\n",
       "      <td>2`</td>\n",
       "      <td>each a few seconds</td>\n",
       "      <td>Driving through Plomosa Pass towards Bouse Loo...</td>\n",
       "      <td>2/16/2000</td>\n",
       "      <td>33.9325000</td>\n",
       "      <td>-114.005</td>\n",
       "    </tr>\n",
       "  </tbody>\n",
       "</table>\n",
       "</div>"
      ],
      "text/plain": [
       "             datetime   city state country shape duration (seconds)  \\\n",
       "27822  2/2/2000 19:33  bouse    az      us   NaN                 2`   \n",
       "\n",
       "      duration (hours/min)                                           comments  \\\n",
       "27822   each a few seconds  Driving through Plomosa Pass towards Bouse Loo...   \n",
       "\n",
       "      date posted    latitude  longitude  \n",
       "27822   2/16/2000  33.9325000   -114.005  "
      ]
     },
     "execution_count": 11,
     "metadata": {},
     "output_type": "execute_result"
    }
   ],
   "source": [
    "# found an issue with data\n",
    "df[df['duration (seconds)']=='2`']"
   ]
  },
  {
   "cell_type": "markdown",
   "id": "ea70eb3c-fea0-46fe-bdaf-da3b5ed277a5",
   "metadata": {},
   "source": [
    "←←←←←←←←←←←←←←←←←←←← stopped here"
   ]
  },
  {
   "cell_type": "code",
   "execution_count": 13,
   "id": "6b06cf7c",
   "metadata": {},
   "outputs": [],
   "source": [
    "# clean up duration \n",
    "df['duration (seconds)'] = df['duration (seconds)'].str.strip('`')"
   ]
  },
  {
   "cell_type": "code",
   "execution_count": 14,
   "id": "47e18633",
   "metadata": {},
   "outputs": [],
   "source": [
    "# convert duration to float \n",
    "df['duration (seconds)'] = df['duration (seconds)'].astype(float)"
   ]
  },
  {
   "cell_type": "code",
   "execution_count": 16,
   "id": "3f65f6cb",
   "metadata": {},
   "outputs": [],
   "source": [
    "# convert latitude to float \n",
    "# df['latitude'] = df['latitude'].astype(float)"
   ]
  },
  {
   "cell_type": "code",
   "execution_count": 17,
   "id": "c234fb3b",
   "metadata": {},
   "outputs": [
    {
     "data": {
      "text/html": [
       "<div>\n",
       "<style scoped>\n",
       "    .dataframe tbody tr th:only-of-type {\n",
       "        vertical-align: middle;\n",
       "    }\n",
       "\n",
       "    .dataframe tbody tr th {\n",
       "        vertical-align: top;\n",
       "    }\n",
       "\n",
       "    .dataframe thead th {\n",
       "        text-align: right;\n",
       "    }\n",
       "</style>\n",
       "<table border=\"1\" class=\"dataframe\">\n",
       "  <thead>\n",
       "    <tr style=\"text-align: right;\">\n",
       "      <th></th>\n",
       "      <th>datetime</th>\n",
       "      <th>city</th>\n",
       "      <th>state</th>\n",
       "      <th>country</th>\n",
       "      <th>shape</th>\n",
       "      <th>duration (seconds)</th>\n",
       "      <th>duration (hours/min)</th>\n",
       "      <th>comments</th>\n",
       "      <th>date posted</th>\n",
       "      <th>latitude</th>\n",
       "      <th>longitude</th>\n",
       "    </tr>\n",
       "  </thead>\n",
       "  <tbody>\n",
       "    <tr>\n",
       "      <th>43782</th>\n",
       "      <td>5/22/1974 05:30</td>\n",
       "      <td>mescalero indian reservation</td>\n",
       "      <td>nm</td>\n",
       "      <td>NaN</td>\n",
       "      <td>rectangle</td>\n",
       "      <td>180.0</td>\n",
       "      <td>two hours</td>\n",
       "      <td>Huge rectangular object emmitting intense whit...</td>\n",
       "      <td>4/18/2012</td>\n",
       "      <td>33q.200088</td>\n",
       "      <td>-105.624152</td>\n",
       "    </tr>\n",
       "  </tbody>\n",
       "</table>\n",
       "</div>"
      ],
      "text/plain": [
       "              datetime                          city state country      shape  \\\n",
       "43782  5/22/1974 05:30  mescalero indian reservation    nm     NaN  rectangle   \n",
       "\n",
       "       duration (seconds) duration (hours/min)  \\\n",
       "43782               180.0            two hours   \n",
       "\n",
       "                                                comments date posted  \\\n",
       "43782  Huge rectangular object emmitting intense whit...   4/18/2012   \n",
       "\n",
       "         latitude   longitude  \n",
       "43782  33q.200088 -105.624152  "
      ]
     },
     "execution_count": 17,
     "metadata": {},
     "output_type": "execute_result"
    }
   ],
   "source": [
    "# found an issue with data\n",
    "df[df.latitude=='33q.200088']"
   ]
  },
  {
   "cell_type": "code",
   "execution_count": 18,
   "id": "9205c142",
   "metadata": {},
   "outputs": [
    {
     "data": {
      "text/html": [
       "<div>\n",
       "<style scoped>\n",
       "    .dataframe tbody tr th:only-of-type {\n",
       "        vertical-align: middle;\n",
       "    }\n",
       "\n",
       "    .dataframe tbody tr th {\n",
       "        vertical-align: top;\n",
       "    }\n",
       "\n",
       "    .dataframe thead th {\n",
       "        text-align: right;\n",
       "    }\n",
       "</style>\n",
       "<table border=\"1\" class=\"dataframe\">\n",
       "  <thead>\n",
       "    <tr style=\"text-align: right;\">\n",
       "      <th></th>\n",
       "      <th>datetime</th>\n",
       "      <th>city</th>\n",
       "      <th>state</th>\n",
       "      <th>country</th>\n",
       "      <th>shape</th>\n",
       "      <th>duration (seconds)</th>\n",
       "      <th>duration (hours/min)</th>\n",
       "      <th>comments</th>\n",
       "      <th>date posted</th>\n",
       "      <th>latitude</th>\n",
       "      <th>longitude</th>\n",
       "    </tr>\n",
       "  </thead>\n",
       "  <tbody>\n",
       "    <tr>\n",
       "      <th>43780</th>\n",
       "      <td>5/2/2014 22:40</td>\n",
       "      <td>iron gate</td>\n",
       "      <td>va</td>\n",
       "      <td>us</td>\n",
       "      <td>light</td>\n",
       "      <td>180.0</td>\n",
       "      <td>3 minutes</td>\n",
       "      <td>3 fiery orange lights in formation maneuvering...</td>\n",
       "      <td>5/8/2014</td>\n",
       "      <td>37.7975000</td>\n",
       "      <td>-79.791389</td>\n",
       "    </tr>\n",
       "    <tr>\n",
       "      <th>43781</th>\n",
       "      <td>5/2/2014 22:45</td>\n",
       "      <td>parma</td>\n",
       "      <td>oh</td>\n",
       "      <td>us</td>\n",
       "      <td>fireball</td>\n",
       "      <td>40.0</td>\n",
       "      <td>30-40 seconds</td>\n",
       "      <td>Round orange red fireball over Parma.</td>\n",
       "      <td>5/8/2014</td>\n",
       "      <td>41.4047222</td>\n",
       "      <td>-81.723056</td>\n",
       "    </tr>\n",
       "    <tr>\n",
       "      <th>43782</th>\n",
       "      <td>5/22/1974 05:30</td>\n",
       "      <td>mescalero indian reservation</td>\n",
       "      <td>nm</td>\n",
       "      <td>NaN</td>\n",
       "      <td>rectangle</td>\n",
       "      <td>180.0</td>\n",
       "      <td>two hours</td>\n",
       "      <td>Huge rectangular object emmitting intense whit...</td>\n",
       "      <td>4/18/2012</td>\n",
       "      <td>33q.200088</td>\n",
       "      <td>-105.624152</td>\n",
       "    </tr>\n",
       "    <tr>\n",
       "      <th>43783</th>\n",
       "      <td>5/22/1977 20:00</td>\n",
       "      <td>marana</td>\n",
       "      <td>az</td>\n",
       "      <td>us</td>\n",
       "      <td>sphere</td>\n",
       "      <td>3600.0</td>\n",
       "      <td>60 min ??</td>\n",
       "      <td>That&amp;#39s NOT the moon&amp;#33</td>\n",
       "      <td>9/29/2004</td>\n",
       "      <td>32.4366667</td>\n",
       "      <td>-111.224722</td>\n",
       "    </tr>\n",
       "    <tr>\n",
       "      <th>43784</th>\n",
       "      <td>5/22/1980 02:00</td>\n",
       "      <td>little rock</td>\n",
       "      <td>ar</td>\n",
       "      <td>us</td>\n",
       "      <td>unknown</td>\n",
       "      <td>15.0</td>\n",
       "      <td>15 seconds</td>\n",
       "      <td>Bright intense light awoke us at 2:00 am in Li...</td>\n",
       "      <td>4/16/2005</td>\n",
       "      <td>34.7463889</td>\n",
       "      <td>-92.289444</td>\n",
       "    </tr>\n",
       "    <tr>\n",
       "      <th>43785</th>\n",
       "      <td>5/22/1990 23:00</td>\n",
       "      <td>perl island (private)</td>\n",
       "      <td>ak</td>\n",
       "      <td>NaN</td>\n",
       "      <td>sphere</td>\n",
       "      <td>2100.0</td>\n",
       "      <td>two @ 35minea</td>\n",
       "      <td>The ship hovered over our runway twice for 35 ...</td>\n",
       "      <td>3/2/2004</td>\n",
       "      <td>59.119149</td>\n",
       "      <td>-151.688170</td>\n",
       "    </tr>\n",
       "  </tbody>\n",
       "</table>\n",
       "</div>"
      ],
      "text/plain": [
       "              datetime                          city state country      shape  \\\n",
       "43780   5/2/2014 22:40                     iron gate    va      us      light   \n",
       "43781   5/2/2014 22:45                         parma    oh      us   fireball   \n",
       "43782  5/22/1974 05:30  mescalero indian reservation    nm     NaN  rectangle   \n",
       "43783  5/22/1977 20:00                        marana    az      us     sphere   \n",
       "43784  5/22/1980 02:00                   little rock    ar      us    unknown   \n",
       "43785  5/22/1990 23:00         perl island (private)    ak     NaN     sphere   \n",
       "\n",
       "       duration (seconds) duration (hours/min)  \\\n",
       "43780               180.0            3 minutes   \n",
       "43781                40.0        30-40 seconds   \n",
       "43782               180.0            two hours   \n",
       "43783              3600.0            60 min ??   \n",
       "43784                15.0           15 seconds   \n",
       "43785              2100.0        two @ 35minea   \n",
       "\n",
       "                                                comments date posted  \\\n",
       "43780  3 fiery orange lights in formation maneuvering...    5/8/2014   \n",
       "43781              Round orange red fireball over Parma.    5/8/2014   \n",
       "43782  Huge rectangular object emmitting intense whit...   4/18/2012   \n",
       "43783                         That&#39s NOT the moon&#33   9/29/2004   \n",
       "43784  Bright intense light awoke us at 2:00 am in Li...   4/16/2005   \n",
       "43785  The ship hovered over our runway twice for 35 ...    3/2/2004   \n",
       "\n",
       "         latitude   longitude  \n",
       "43780  37.7975000  -79.791389  \n",
       "43781  41.4047222  -81.723056  \n",
       "43782  33q.200088 -105.624152  \n",
       "43783  32.4366667 -111.224722  \n",
       "43784  34.7463889  -92.289444  \n",
       "43785   59.119149 -151.688170  "
      ]
     },
     "execution_count": 18,
     "metadata": {},
     "output_type": "execute_result"
    }
   ],
   "source": [
    "# check data\n",
    "df.iloc[43780: 43786]"
   ]
  },
  {
   "cell_type": "code",
   "execution_count": 19,
   "id": "0fd6cba8",
   "metadata": {},
   "outputs": [
    {
     "data": {
      "text/html": [
       "<div>\n",
       "<style scoped>\n",
       "    .dataframe tbody tr th:only-of-type {\n",
       "        vertical-align: middle;\n",
       "    }\n",
       "\n",
       "    .dataframe tbody tr th {\n",
       "        vertical-align: top;\n",
       "    }\n",
       "\n",
       "    .dataframe thead th {\n",
       "        text-align: right;\n",
       "    }\n",
       "</style>\n",
       "<table border=\"1\" class=\"dataframe\">\n",
       "  <thead>\n",
       "    <tr style=\"text-align: right;\">\n",
       "      <th></th>\n",
       "      <th>datetime</th>\n",
       "      <th>city</th>\n",
       "      <th>state</th>\n",
       "      <th>country</th>\n",
       "      <th>shape</th>\n",
       "      <th>duration (seconds)</th>\n",
       "      <th>duration (hours/min)</th>\n",
       "      <th>comments</th>\n",
       "      <th>date posted</th>\n",
       "      <th>latitude</th>\n",
       "      <th>longitude</th>\n",
       "    </tr>\n",
       "  </thead>\n",
       "  <tbody>\n",
       "    <tr>\n",
       "      <th>43782</th>\n",
       "      <td>5/22/1974 05:30</td>\n",
       "      <td>mescalero indian reservation</td>\n",
       "      <td>nm</td>\n",
       "      <td>NaN</td>\n",
       "      <td>rectangle</td>\n",
       "      <td>180.0</td>\n",
       "      <td>two hours</td>\n",
       "      <td>Huge rectangular object emmitting intense whit...</td>\n",
       "      <td>4/18/2012</td>\n",
       "      <td>33q.200088</td>\n",
       "      <td>-105.624152</td>\n",
       "    </tr>\n",
       "  </tbody>\n",
       "</table>\n",
       "</div>"
      ],
      "text/plain": [
       "              datetime                          city state country      shape  \\\n",
       "43782  5/22/1974 05:30  mescalero indian reservation    nm     NaN  rectangle   \n",
       "\n",
       "       duration (seconds) duration (hours/min)  \\\n",
       "43782               180.0            two hours   \n",
       "\n",
       "                                                comments date posted  \\\n",
       "43782  Huge rectangular object emmitting intense whit...   4/18/2012   \n",
       "\n",
       "         latitude   longitude  \n",
       "43782  33q.200088 -105.624152  "
      ]
     },
     "execution_count": 19,
     "metadata": {},
     "output_type": "execute_result"
    }
   ],
   "source": [
    "# check rows with latitude containing string q \n",
    "df[df['latitude'].str.contains('q')]"
   ]
  },
  {
   "cell_type": "code",
   "execution_count": 20,
   "id": "1e6fad82",
   "metadata": {},
   "outputs": [],
   "source": [
    "# clean up latitude\n",
    "df['latitude'] = df['latitude'].str.replace('q','')"
   ]
  },
  {
   "cell_type": "code",
   "execution_count": 21,
   "id": "c12d7afe",
   "metadata": {},
   "outputs": [],
   "source": [
    "# convert latitude to float\n",
    "df['latitude'] = df['latitude'].astype(float)"
   ]
  },
  {
   "cell_type": "code",
   "execution_count": 23,
   "id": "fa66bc2b",
   "metadata": {},
   "outputs": [],
   "source": [
    "# convert datetime to pandas datetime object \n",
    "# df['datetime'] = pd.to_datetime(df['datetime'])"
   ]
  },
  {
   "cell_type": "code",
   "execution_count": 24,
   "id": "a296a142",
   "metadata": {},
   "outputs": [
    {
     "data": {
      "text/html": [
       "<div>\n",
       "<style scoped>\n",
       "    .dataframe tbody tr th:only-of-type {\n",
       "        vertical-align: middle;\n",
       "    }\n",
       "\n",
       "    .dataframe tbody tr th {\n",
       "        vertical-align: top;\n",
       "    }\n",
       "\n",
       "    .dataframe thead th {\n",
       "        text-align: right;\n",
       "    }\n",
       "</style>\n",
       "<table border=\"1\" class=\"dataframe\">\n",
       "  <thead>\n",
       "    <tr style=\"text-align: right;\">\n",
       "      <th></th>\n",
       "      <th>datetime</th>\n",
       "      <th>city</th>\n",
       "      <th>state</th>\n",
       "      <th>country</th>\n",
       "      <th>shape</th>\n",
       "      <th>duration (seconds)</th>\n",
       "      <th>duration (hours/min)</th>\n",
       "      <th>comments</th>\n",
       "      <th>date posted</th>\n",
       "      <th>latitude</th>\n",
       "      <th>longitude</th>\n",
       "    </tr>\n",
       "  </thead>\n",
       "  <tbody>\n",
       "    <tr>\n",
       "      <th>388</th>\n",
       "      <td>10/11/2006 24:00</td>\n",
       "      <td>rome</td>\n",
       "      <td>ny</td>\n",
       "      <td>us</td>\n",
       "      <td>oval</td>\n",
       "      <td>120.0</td>\n",
       "      <td>a min or two</td>\n",
       "      <td>I was walking from the garage to the house&amp;#44...</td>\n",
       "      <td>2/1/2007</td>\n",
       "      <td>43.212778</td>\n",
       "      <td>-75.456111</td>\n",
       "    </tr>\n",
       "  </tbody>\n",
       "</table>\n",
       "</div>"
      ],
      "text/plain": [
       "             datetime  city state country shape  duration (seconds)  \\\n",
       "388  10/11/2006 24:00  rome    ny      us  oval               120.0   \n",
       "\n",
       "    duration (hours/min)                                           comments  \\\n",
       "388         a min or two  I was walking from the garage to the house&#44...   \n",
       "\n",
       "    date posted   latitude  longitude  \n",
       "388    2/1/2007  43.212778 -75.456111  "
      ]
     },
     "execution_count": 24,
     "metadata": {},
     "output_type": "execute_result"
    }
   ],
   "source": [
    "# found an issue \n",
    "df[df['datetime']=='10/11/2006 24:00']"
   ]
  },
  {
   "cell_type": "code",
   "execution_count": 25,
   "id": "b15abb17",
   "metadata": {},
   "outputs": [],
   "source": [
    "# clean up datetime\n",
    "df['datetime'] = df['datetime'].str.replace('24:00','23:59')"
   ]
  },
  {
   "cell_type": "code",
   "execution_count": 26,
   "id": "e9ddf948",
   "metadata": {},
   "outputs": [],
   "source": [
    "# convert datetime to pandas datetime object\n",
    "df['datetime'] = pd.to_datetime(df['datetime'])"
   ]
  },
  {
   "cell_type": "code",
   "execution_count": 27,
   "id": "41f7fbee",
   "metadata": {},
   "outputs": [],
   "source": [
    "# create variables year, month, day \n",
    "df['year'] = df['datetime'].dt.year\n",
    "df['month'] = df['datetime'].dt.month\n",
    "df['day'] = df['datetime'].dt.day"
   ]
  },
  {
   "cell_type": "code",
   "execution_count": 28,
   "id": "71a317f1",
   "metadata": {},
   "outputs": [
    {
     "data": {
      "text/plain": [
       "datetime                datetime64[ns]\n",
       "city                            object\n",
       "state                           object\n",
       "country                         object\n",
       "shape                           object\n",
       "duration (seconds)             float64\n",
       "duration (hours/min)            object\n",
       "comments                        object\n",
       "date posted                     object\n",
       "latitude                       float64\n",
       "longitude                      float64\n",
       "year                             int64\n",
       "month                            int64\n",
       "day                              int64\n",
       "dtype: object"
      ]
     },
     "execution_count": 28,
     "metadata": {},
     "output_type": "execute_result"
    }
   ],
   "source": [
    "# check data types again\n",
    "df.dtypes"
   ]
  },
  {
   "cell_type": "markdown",
   "id": "aed50c59",
   "metadata": {},
   "source": [
    "<div>\n",
    "<h2 class=\"breadcrumb\">Data exploration and visualization</h2><p>\n",
    "</div>"
   ]
  },
  {
   "cell_type": "markdown",
   "id": "549c224f",
   "metadata": {},
   "source": [
    "### What is the overall trend of UFO sightings over time?"
   ]
  },
  {
   "cell_type": "code",
   "execution_count": null,
   "id": "550f5df2",
   "metadata": {},
   "outputs": [],
   "source": [
    "fig, ax = plt.subplots(figsize=(14,5), constrained_layout=True)\n",
    "sns.histplot(data=df, x='datetime', kde=True);"
   ]
  },
  {
   "cell_type": "markdown",
   "id": "22183c90",
   "metadata": {},
   "source": [
    "### Which year has the highest number of UFO sightings?"
   ]
  },
  {
   "cell_type": "code",
   "execution_count": null,
   "id": "9b6b7ccd",
   "metadata": {},
   "outputs": [],
   "source": [
    "df.year.value_counts()"
   ]
  },
  {
   "cell_type": "code",
   "execution_count": null,
   "id": "df5d152d",
   "metadata": {},
   "outputs": [],
   "source": [
    "fig, ax = plt.subplots(figsize=(15,5), constrained_layout=True)\n",
    "sns.countplot(data=df[df.year>1980], x='year');\n",
    "ax.set_xlabel(\"Year\");\n",
    "plt.xticks(rotation=90);\n",
    "ax.grid()\n"
   ]
  },
  {
   "cell_type": "code",
   "execution_count": null,
   "id": "7b86e372",
   "metadata": {},
   "outputs": [],
   "source": [
    "df.head()"
   ]
  },
  {
   "cell_type": "markdown",
   "id": "fea19d4e",
   "metadata": {},
   "source": [
    "### Which day of the month has the highest number of UFO sightings?"
   ]
  },
  {
   "cell_type": "code",
   "execution_count": null,
   "id": "713511b1",
   "metadata": {
    "scrolled": true
   },
   "outputs": [],
   "source": [
    "df.day.value_counts()"
   ]
  },
  {
   "cell_type": "code",
   "execution_count": null,
   "id": "114ec4c3",
   "metadata": {},
   "outputs": [],
   "source": [
    "fig, ax = plt.subplots(figsize=(14,5), constrained_layout=True)\n",
    "sns.countplot(data=df, x='day');\n",
    "ax.set_xlabel(\"Day of month\");\n",
    "for p in ax.patches:\n",
    "    ax.annotate(p.get_height(),  (p.get_x(), p.get_height()));"
   ]
  },
  {
   "cell_type": "markdown",
   "id": "ffbc2805",
   "metadata": {},
   "source": [
    "### Which month of the year has the highest number of UFO sightings?"
   ]
  },
  {
   "cell_type": "code",
   "execution_count": null,
   "id": "7a67c64b",
   "metadata": {},
   "outputs": [],
   "source": [
    "df.month.value_counts()"
   ]
  },
  {
   "cell_type": "code",
   "execution_count": null,
   "id": "b6bcf88c",
   "metadata": {},
   "outputs": [],
   "source": [
    "fig, ax = plt.subplots(figsize=(14,5), constrained_layout=True)\n",
    "sns.countplot(data=df, x='month');\n",
    "ax.set_xlabel(\"Month of year\");\n",
    "for p in ax.patches:\n",
    "    ax.annotate(p.get_height(),  (p.get_x()+0.2, p.get_height()));"
   ]
  },
  {
   "cell_type": "markdown",
   "id": "d60085c8",
   "metadata": {},
   "source": [
    "### Which country has the highest number of UFO sightings?"
   ]
  },
  {
   "cell_type": "code",
   "execution_count": null,
   "id": "fb91ac02",
   "metadata": {},
   "outputs": [],
   "source": [
    "df.plot('longitude', 'latitude', kind='scatter', alpha=0.1);\n",
    "# there are other tools more approriate for geographical plotting that we will not cover here. "
   ]
  },
  {
   "cell_type": "code",
   "execution_count": null,
   "id": "ca598d98",
   "metadata": {},
   "outputs": [],
   "source": [
    "fig, ax = plt.subplots(figsize=(14,5), constrained_layout=True)\n",
    "sns.countplot(data=df, x='country');\n",
    "ax.set_xlabel(\"Country\");\n",
    "for p in ax.patches:\n",
    "    ax.annotate(p.get_height(),  (p.get_x()+0.3, p.get_height()));"
   ]
  },
  {
   "cell_type": "markdown",
   "id": "0fc3d456",
   "metadata": {},
   "source": [
    "### Are there overall trend differences by country?"
   ]
  },
  {
   "cell_type": "code",
   "execution_count": null,
   "id": "bceee52c",
   "metadata": {},
   "outputs": [],
   "source": [
    "fig, ax = plt.subplots(figsize=(14,5), constrained_layout=True)\n",
    "sns.kdeplot(data=df, x='datetime', hue='country');"
   ]
  },
  {
   "cell_type": "code",
   "execution_count": null,
   "id": "53a16c3c",
   "metadata": {},
   "outputs": [],
   "source": [
    "fig, ax = plt.subplots(figsize=(14,5), constrained_layout=True)\n",
    "for c in df['country'].unique():\n",
    "    sns.kdeplot(data=df[df.country==c], x='datetime', label=c, ax=ax);\n",
    "ax.legend();\n"
   ]
  },
  {
   "cell_type": "markdown",
   "id": "8b58e3f5",
   "metadata": {},
   "source": [
    "It's your turn!\n",
    "\n",
    "What other insights can you find with this dataset or another dataset you chose? "
   ]
  },
  {
   "cell_type": "code",
   "execution_count": null,
   "id": "20900025",
   "metadata": {},
   "outputs": [],
   "source": []
  }
 ],
 "metadata": {
  "kernelspec": {
   "display_name": "Python 3 (ipykernel)",
   "language": "python",
   "name": "python3"
  },
  "language_info": {
   "codemirror_mode": {
    "name": "ipython",
    "version": 3
   },
   "file_extension": ".py",
   "mimetype": "text/x-python",
   "name": "python",
   "nbconvert_exporter": "python",
   "pygments_lexer": "ipython3",
   "version": "3.9.13"
  }
 },
 "nbformat": 4,
 "nbformat_minor": 5
}
