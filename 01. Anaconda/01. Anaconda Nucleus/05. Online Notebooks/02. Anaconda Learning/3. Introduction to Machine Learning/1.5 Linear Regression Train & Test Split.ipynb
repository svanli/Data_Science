{
 "cells": [
  {
   "cell_type": "markdown",
   "id": "a6d04f10",
   "metadata": {},
   "source": [
    "# Linear Regression Train/Test Split\n",
    "\n"
   ]
  },
  {
   "cell_type": "code",
   "execution_count": 16,
   "id": "0d149dc1",
   "metadata": {},
   "outputs": [],
   "source": [
    "import pandas as pd\n",
    "from sklearn.linear_model import LinearRegression\n",
    "from sklearn.model_selection import train_test_split"
   ]
  },
  {
   "cell_type": "code",
   "execution_count": 17,
   "id": "17730ca6",
   "metadata": {},
   "outputs": [
    {
     "data": {
      "text/html": [
       "<div>\n",
       "<style scoped>\n",
       "    .dataframe tbody tr th:only-of-type {\n",
       "        vertical-align: middle;\n",
       "    }\n",
       "\n",
       "    .dataframe tbody tr th {\n",
       "        vertical-align: top;\n",
       "    }\n",
       "\n",
       "    .dataframe thead th {\n",
       "        text-align: right;\n",
       "    }\n",
       "</style>\n",
       "<table border=\"1\" class=\"dataframe\">\n",
       "  <thead>\n",
       "    <tr style=\"text-align: right;\">\n",
       "      <th></th>\n",
       "      <th>x</th>\n",
       "      <th>y</th>\n",
       "    </tr>\n",
       "  </thead>\n",
       "  <tbody>\n",
       "    <tr>\n",
       "      <th>0</th>\n",
       "      <td>99.504842</td>\n",
       "      <td>159.464415</td>\n",
       "    </tr>\n",
       "    <tr>\n",
       "      <th>1</th>\n",
       "      <td>44.662766</td>\n",
       "      <td>50.508179</td>\n",
       "    </tr>\n",
       "    <tr>\n",
       "      <th>2</th>\n",
       "      <td>66.631337</td>\n",
       "      <td>91.677570</td>\n",
       "    </tr>\n",
       "    <tr>\n",
       "      <th>3</th>\n",
       "      <td>74.663878</td>\n",
       "      <td>121.276874</td>\n",
       "    </tr>\n",
       "    <tr>\n",
       "      <th>4</th>\n",
       "      <td>57.554853</td>\n",
       "      <td>77.660511</td>\n",
       "    </tr>\n",
       "    <tr>\n",
       "      <th>...</th>\n",
       "      <td>...</td>\n",
       "      <td>...</td>\n",
       "    </tr>\n",
       "    <tr>\n",
       "      <th>375</th>\n",
       "      <td>187.856720</td>\n",
       "      <td>314.745930</td>\n",
       "    </tr>\n",
       "    <tr>\n",
       "      <th>376</th>\n",
       "      <td>54.705039</td>\n",
       "      <td>74.161177</td>\n",
       "    </tr>\n",
       "    <tr>\n",
       "      <th>377</th>\n",
       "      <td>137.863407</td>\n",
       "      <td>222.073346</td>\n",
       "    </tr>\n",
       "    <tr>\n",
       "      <th>378</th>\n",
       "      <td>128.667926</td>\n",
       "      <td>226.704162</td>\n",
       "    </tr>\n",
       "    <tr>\n",
       "      <th>379</th>\n",
       "      <td>107.317790</td>\n",
       "      <td>161.477933</td>\n",
       "    </tr>\n",
       "  </tbody>\n",
       "</table>\n",
       "<p>380 rows × 2 columns</p>\n",
       "</div>"
      ],
      "text/plain": [
       "              x           y\n",
       "0     99.504842  159.464415\n",
       "1     44.662766   50.508179\n",
       "2     66.631337   91.677570\n",
       "3     74.663878  121.276874\n",
       "4     57.554853   77.660511\n",
       "..          ...         ...\n",
       "375  187.856720  314.745930\n",
       "376   54.705039   74.161177\n",
       "377  137.863407  222.073346\n",
       "378  128.667926  226.704162\n",
       "379  107.317790  161.477933\n",
       "\n",
       "[380 rows x 2 columns]"
      ]
     },
     "execution_count": 17,
     "metadata": {},
     "output_type": "execute_result"
    }
   ],
   "source": [
    "# Load the data\n",
    "df = pd.read_csv('https://bit.ly/3cIH97A', delimiter=\",\")\n",
    "df"
   ]
  },
  {
   "cell_type": "markdown",
   "id": "201c6248",
   "metadata": {},
   "source": [
    "Extract the $ X $ and $ Y $ columns from the dataframe."
   ]
  },
  {
   "cell_type": "code",
   "execution_count": 18,
   "id": "30c98d98",
   "metadata": {},
   "outputs": [],
   "source": [
    "# Extract input variables (all rows, all columns but last column)\n",
    "X = df.values[:, :-1]\n",
    "\n",
    "# Extract output column (all rows, last column)\n",
    "Y = df.values[:, -1]"
   ]
  },
  {
   "cell_type": "markdown",
   "id": "cf69454c",
   "metadata": {},
   "source": [
    "Separate out the training and testing data."
   ]
  },
  {
   "cell_type": "code",
   "execution_count": 19,
   "id": "322afb6f",
   "metadata": {},
   "outputs": [],
   "source": [
    "# Separate training and testing data to evaluate performance and reduce overfitting\n",
    "# This leaves a third of the data out for testing\n",
    "# Set a random seed just to make the randomly selected split consistent\n",
    "X_train, X_test, Y_train, Y_test = train_test_split(X, Y, test_size=1.0/3.0, random_state=10)"
   ]
  },
  {
   "cell_type": "markdown",
   "id": "a0e09fc8",
   "metadata": {},
   "source": [
    "Fit a linear regression with the training data and calculate the $ R^2 $ for the test dataset. "
   ]
  },
  {
   "cell_type": "code",
   "execution_count": 20,
   "id": "07061775",
   "metadata": {},
   "outputs": [
    {
     "name": "stdout",
     "output_type": "stream",
     "text": [
      "R^2: 0.994\n"
     ]
    }
   ],
   "source": [
    "model = LinearRegression()\n",
    "model.fit(X_train, Y_train)\n",
    "result = model.score(X_test, Y_test)\n",
    "print(\"R^2: %.3f\" % result) # same as print(f'R^2: {round(result, 3)}')"
   ]
  },
  {
   "cell_type": "markdown",
   "id": "483967ea",
   "metadata": {},
   "source": [
    "Plot the linear regression against the scatterplot"
   ]
  },
  {
   "cell_type": "code",
   "execution_count": 21,
   "id": "2532442c",
   "metadata": {
    "scrolled": true
   },
   "outputs": [
    {
     "data": {
      "image/png": "[encoded data removed]",
      "text/plain": [
       "<Figure size 640x480 with 1 Axes>"
      ]
     },
     "metadata": {},
     "output_type": "display_data"
    }
   ],
   "source": [
    "import matplotlib.pyplot as plt\n",
    "\n",
    "# show in chart\n",
    "plt.plot(X, Y, 'o') # scatterplot\n",
    "plt.plot(X, model.coef_.flatten()*X+model.intercept_.flatten()) # line\n",
    "plt.show()"
   ]
  }
 ],
 "metadata": {
  "kernelspec": {
   "display_name": "Python 3 (ipykernel)",
   "language": "python",
   "name": "python3"
  },
  "language_info": {
   "codemirror_mode": {
    "name": "ipython",
    "version": 3
   },
   "file_extension": ".py",
   "mimetype": "text/x-python",
   "name": "python",
   "nbconvert_exporter": "python",
   "pygments_lexer": "ipython3",
   "version": "3.9.13"
  }
 },
 "nbformat": 4,
 "nbformat_minor": 5
}
