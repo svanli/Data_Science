{
 "cells": [
  {
   "cell_type": "markdown",
   "id": "a6d04f10",
   "metadata": {},
   "source": [
    "# EXERCISE - Naive Bayes"
   ]
  },
  {
   "cell_type": "markdown",
   "id": "3d096e1a",
   "metadata": {},
   "source": [
    "In the runnable cell below, replace the question marks \"?\" with the proper Python code to perform a Naive Bayes classification on a banking transaction dataset (https://bit.ly/3QJhJd4).\n",
    "\n",
    "Use $ 1 / 4 $ of the data for testing and evaluate the prediction performance with a confusion matrix. "
   ]
  },
  {
   "cell_type": "code",
   "execution_count": 2,
   "id": "0d149dc1",
   "metadata": {},
   "outputs": [
    {
     "name": "stdout",
     "output_type": "stream",
     "text": [
      "0.75\n"
     ]
    },
    {
     "data": {
      "text/plain": [
       "array([[1, 0, 0, 0],\n",
       "       [0, 0, 1, 0],\n",
       "       [0, 0, 1, 0],\n",
       "       [0, 0, 0, 1]], dtype=int64)"
      ]
     },
     "execution_count": 2,
     "metadata": {},
     "output_type": "execute_result"
    }
   ],
   "source": [
    "import pandas as pd\n",
    "from sklearn.model_selection import train_test_split\n",
    "from sklearn.feature_extraction.text import CountVectorizer\n",
    "from sklearn.naive_bayes import MultinomialNB\n",
    "from sklearn.metrics import confusion_matrix\n",
    "\n",
    "df = pd.read_csv('https://bit.ly/3QJhJd4')\n",
    "\n",
    "cv = CountVectorizer()\n",
    "X = cv.fit_transform(df['MEMO'])\n",
    "Y = df['CATEGORY']\n",
    "\n",
    "x_train, x_test, y_train, y_test = train_test_split(X, Y, test_size=1/4, random_state=7)\n",
    "\n",
    "model = MultinomialNB().fit(x_train, y_train)\n",
    "\n",
    "result = model.score(x_test, y_test)\n",
    "\n",
    "print(result)\n",
    "\n",
    "confusion_matrix(y_true=y_test, y_pred=model.predict(x_test))"
   ]
  },
  {
   "cell_type": "markdown",
   "id": "c41eaed7",
   "metadata": {
    "tags": []
   },
   "source": [
    "### SCROLL DOWN FOR ANSWER\n",
    "|<br>\n",
    "|<br>\n",
    "|<br>\n",
    "|<br>\n",
    "|<br>\n",
    "|<br>\n",
    "|<br>\n",
    "|<br>\n",
    "|<br>\n",
    "|<br>\n",
    "|<br>\n",
    "|<br>\n",
    "|<br>\n",
    "|<br>\n",
    "|<br>\n",
    "|<br>\n",
    "|<br>\n",
    "|<br>\n",
    "|<br>\n",
    "|<br>\n",
    "|<br>\n",
    "|<br>\n",
    "|<br>\n",
    "v \n",
    "\n",
    "```python\n",
    "import pandas as pd\n",
    "from sklearn.model_selection import train_test_split\n",
    "from sklearn.feature_extraction.text import CountVectorizer\n",
    "from sklearn.naive_bayes import MultinomialNB\n",
    "from sklearn.metrics import confusion_matrix\n",
    "\n",
    "df = pd.read_csv('https://bit.ly/3QJhJd4')\n",
    "\n",
    "cv = CountVectorizer()\n",
    "X = cv.fit_transform(df['MEMO'])\n",
    "Y = df['CATEGORY']\n",
    "\n",
    "x_train, x_test, y_train, y_test = train_test_split(X, Y, test_size=1.0/4.0, random_state=7)\n",
    "\n",
    "model = MultinomialNB().fit(x_train, y_train)\n",
    "\n",
    "result = model.score(x_test,y_test)\n",
    "\n",
    "print(result)\n",
    "\n",
    "confusion_matrix(y_true=y_test, y_pred=model.predict(x_test))\n",
    "```"
   ]
  },
  {
   "cell_type": "code",
   "execution_count": 3,
   "id": "a7102a39-6b21-499d-a48d-f2ae51d0a48f",
   "metadata": {},
   "outputs": [
    {
     "name": "stdout",
     "output_type": "stream",
     "text": [
      "0.75\n"
     ]
    },
    {
     "data": {
      "text/plain": [
       "array([[1, 0, 0, 0],\n",
       "       [0, 0, 1, 0],\n",
       "       [0, 0, 1, 0],\n",
       "       [0, 0, 0, 1]], dtype=int64)"
      ]
     },
     "execution_count": 3,
     "metadata": {},
     "output_type": "execute_result"
    }
   ],
   "source": [
    "import pandas as pd\n",
    "from sklearn.model_selection import train_test_split\n",
    "from sklearn.feature_extraction.text import CountVectorizer\n",
    "from sklearn.naive_bayes import MultinomialNB\n",
    "from sklearn.metrics import confusion_matrix\n",
    "\n",
    "df = pd.read_csv('https://bit.ly/3QJhJd4')\n",
    "\n",
    "cv = CountVectorizer()\n",
    "X = cv.fit_transform(df['MEMO'])\n",
    "Y = df['CATEGORY']\n",
    "\n",
    "x_train, x_test, y_train, y_test = train_test_split(X, Y, test_size=1.0/4.0, random_state=7)\n",
    "\n",
    "model = MultinomialNB().fit(x_train, y_train)\n",
    "\n",
    "result = model.score(x_test,y_test)\n",
    "\n",
    "print(result)\n",
    "\n",
    "confusion_matrix(y_true=y_test, y_pred=model.predict(x_test))"
   ]
  }
 ],
 "metadata": {
  "kernelspec": {
   "display_name": "Python 3 (ipykernel)",
   "language": "python",
   "name": "python3"
  },
  "language_info": {
   "codemirror_mode": {
    "name": "ipython",
    "version": 3
   },
   "file_extension": ".py",
   "mimetype": "text/x-python",
   "name": "python",
   "nbconvert_exporter": "python",
   "pygments_lexer": "ipython3",
   "version": "3.9.13"
  }
 },
 "nbformat": 4,
 "nbformat_minor": 5
}
