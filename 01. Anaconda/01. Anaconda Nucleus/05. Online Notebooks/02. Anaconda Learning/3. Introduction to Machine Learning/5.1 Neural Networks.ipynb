{
 "cells": [
  {
   "cell_type": "markdown",
   "id": "fbcf111f",
   "metadata": {},
   "source": [
    "# Neural Networks\n",
    "\n",
    "Import dependencies."
   ]
  },
  {
   "cell_type": "code",
   "execution_count": 1,
   "id": "59e4ed99",
   "metadata": {
    "scrolled": true
   },
   "outputs": [],
   "source": [
    "import pandas as pd\n",
    "from sklearn.model_selection import train_test_split\n",
    "from sklearn.neural_network import MLPClassifier\n",
    "from sklearn.metrics import confusion_matrix"
   ]
  },
  {
   "cell_type": "markdown",
   "id": "b109689c",
   "metadata": {},
   "source": [
    "Bring in data and present in dataframe."
   ]
  },
  {
   "cell_type": "code",
   "execution_count": 2,
   "id": "b2dfae00",
   "metadata": {},
   "outputs": [
    {
     "data": {
      "text/html": [
       "<div>\n",
       "<style scoped>\n",
       "    .dataframe tbody tr th:only-of-type {\n",
       "        vertical-align: middle;\n",
       "    }\n",
       "\n",
       "    .dataframe tbody tr th {\n",
       "        vertical-align: top;\n",
       "    }\n",
       "\n",
       "    .dataframe thead th {\n",
       "        text-align: right;\n",
       "    }\n",
       "</style>\n",
       "<table border=\"1\" class=\"dataframe\">\n",
       "  <thead>\n",
       "    <tr style=\"text-align: right;\">\n",
       "      <th></th>\n",
       "      <th>RED</th>\n",
       "      <th>GREEN</th>\n",
       "      <th>BLUE</th>\n",
       "      <th>LIGHT_OR_DARK_FONT_IND</th>\n",
       "    </tr>\n",
       "  </thead>\n",
       "  <tbody>\n",
       "    <tr>\n",
       "      <th>0</th>\n",
       "      <td>0</td>\n",
       "      <td>0</td>\n",
       "      <td>0</td>\n",
       "      <td>0</td>\n",
       "    </tr>\n",
       "    <tr>\n",
       "      <th>1</th>\n",
       "      <td>0</td>\n",
       "      <td>0</td>\n",
       "      <td>128</td>\n",
       "      <td>0</td>\n",
       "    </tr>\n",
       "    <tr>\n",
       "      <th>2</th>\n",
       "      <td>0</td>\n",
       "      <td>0</td>\n",
       "      <td>139</td>\n",
       "      <td>0</td>\n",
       "    </tr>\n",
       "    <tr>\n",
       "      <th>3</th>\n",
       "      <td>0</td>\n",
       "      <td>0</td>\n",
       "      <td>205</td>\n",
       "      <td>0</td>\n",
       "    </tr>\n",
       "    <tr>\n",
       "      <th>4</th>\n",
       "      <td>0</td>\n",
       "      <td>0</td>\n",
       "      <td>238</td>\n",
       "      <td>0</td>\n",
       "    </tr>\n",
       "    <tr>\n",
       "      <th>...</th>\n",
       "      <td>...</td>\n",
       "      <td>...</td>\n",
       "      <td>...</td>\n",
       "      <td>...</td>\n",
       "    </tr>\n",
       "    <tr>\n",
       "      <th>1340</th>\n",
       "      <td>95</td>\n",
       "      <td>158</td>\n",
       "      <td>160</td>\n",
       "      <td>1</td>\n",
       "    </tr>\n",
       "    <tr>\n",
       "      <th>1341</th>\n",
       "      <td>96</td>\n",
       "      <td>123</td>\n",
       "      <td>139</td>\n",
       "      <td>0</td>\n",
       "    </tr>\n",
       "    <tr>\n",
       "      <th>1342</th>\n",
       "      <td>97</td>\n",
       "      <td>97</td>\n",
       "      <td>97</td>\n",
       "      <td>0</td>\n",
       "    </tr>\n",
       "    <tr>\n",
       "      <th>1343</th>\n",
       "      <td>99</td>\n",
       "      <td>184</td>\n",
       "      <td>255</td>\n",
       "      <td>1</td>\n",
       "    </tr>\n",
       "    <tr>\n",
       "      <th>1344</th>\n",
       "      <td>99</td>\n",
       "      <td>99</td>\n",
       "      <td>99</td>\n",
       "      <td>0</td>\n",
       "    </tr>\n",
       "  </tbody>\n",
       "</table>\n",
       "<p>1345 rows × 4 columns</p>\n",
       "</div>"
      ],
      "text/plain": [
       "      RED  GREEN  BLUE  LIGHT_OR_DARK_FONT_IND\n",
       "0       0      0     0                       0\n",
       "1       0      0   128                       0\n",
       "2       0      0   139                       0\n",
       "3       0      0   205                       0\n",
       "4       0      0   238                       0\n",
       "...   ...    ...   ...                     ...\n",
       "1340   95    158   160                       1\n",
       "1341   96    123   139                       0\n",
       "1342   97     97    97                       0\n",
       "1343   99    184   255                       1\n",
       "1344   99     99    99                       0\n",
       "\n",
       "[1345 rows x 4 columns]"
      ]
     },
     "execution_count": 2,
     "metadata": {},
     "output_type": "execute_result"
    }
   ],
   "source": [
    "df = pd.read_csv('https://bit.ly/3GsNzGt', delimiter=\",\")\n",
    "df"
   ]
  },
  {
   "cell_type": "markdown",
   "id": "1dfa3d3a",
   "metadata": {},
   "source": [
    "Extract out input and output variable columns, scale down input variables by 255. Separate training and testing dataset by $ 1/3 $. "
   ]
  },
  {
   "cell_type": "code",
   "execution_count": 3,
   "id": "17be5754",
   "metadata": {},
   "outputs": [],
   "source": [
    "# Extract input variables (all rows, all columns but last column)\n",
    "# Note we should do some linear scaling here\n",
    "X = (df.values[:, :-1] / 255.0)\n",
    "\n",
    "# Extract output column (all rows, last column)\n",
    "Y = df.values[:, -1]\n",
    "\n",
    "# Separate training and testing data\n",
    "X_train, X_test, Y_train, Y_test = train_test_split(X, Y, test_size=1/3, random_state=7)"
   ]
  },
  {
   "cell_type": "markdown",
   "id": "50530737",
   "metadata": {},
   "source": [
    "Fit a neural network (multi-layer perceptron) classifier with a middle ReLU function, 3 nodes in a hidden layer, 100000 iterations, and a .05 learning rate. Fit the training data to the model. "
   ]
  },
  {
   "cell_type": "code",
   "execution_count": 4,
   "id": "0dbb5b6e",
   "metadata": {},
   "outputs": [
    {
     "data": {
      "text/plain": [
       "MLPClassifier(hidden_layer_sizes=(3,), learning_rate_init=0.05, max_iter=100000,\n",
       "              solver='sgd')"
      ]
     },
     "execution_count": 4,
     "metadata": {},
     "output_type": "execute_result"
    }
   ],
   "source": [
    "nn = MLPClassifier(solver='sgd',\n",
    "                   hidden_layer_sizes=(3, ),\n",
    "                   activation='relu',\n",
    "                   max_iter=100_000,\n",
    "                   learning_rate_init=.05)\n",
    "\n",
    "nn.fit(X_train, Y_train)"
   ]
  },
  {
   "cell_type": "markdown",
   "id": "3e4764b6",
   "metadata": {},
   "source": [
    "Print out the coefficients and test score, as well as the confusion matrix. "
   ]
  },
  {
   "cell_type": "code",
   "execution_count": 5,
   "id": "43b53768",
   "metadata": {},
   "outputs": [
    {
     "name": "stdout",
     "output_type": "stream",
     "text": [
      "[array([[ 0.86998698, -0.29799094,  3.49590092],\n",
      "       [-0.52647315,  0.1199488 ,  7.06666354],\n",
      "       [-0.82005473, -0.14497971,  1.3016506 ]]), array([[-0.16597651],\n",
      "       [ 0.13713433],\n",
      "       [ 9.38528815]])]\n",
      "[array([-0.26189674, -1.13075528, -5.31689085]), array([-5.847187])]\n",
      "Test set score: 0.997773\n",
      "[[178   0]\n",
      " [  1 270]]\n"
     ]
    }
   ],
   "source": [
    "# Print weights and biases\n",
    "print(nn.coefs_ )\n",
    "print(nn.intercepts_)\n",
    "\n",
    "print(\"Test set score: %f\" % nn.score(X_test, Y_test))\n",
    "\n",
    "cf = confusion_matrix(y_true=Y_test, y_pred=nn.predict(X_test))\n",
    "print(cf)"
   ]
  }
 ],
 "metadata": {
  "kernelspec": {
   "display_name": "Python 3 (ipykernel)",
   "language": "python",
   "name": "python3"
  },
  "language_info": {
   "codemirror_mode": {
    "name": "ipython",
    "version": 3
   },
   "file_extension": ".py",
   "mimetype": "text/x-python",
   "name": "python",
   "nbconvert_exporter": "python",
   "pygments_lexer": "ipython3",
   "version": "3.9.13"
  }
 },
 "nbformat": 4,
 "nbformat_minor": 5
}
