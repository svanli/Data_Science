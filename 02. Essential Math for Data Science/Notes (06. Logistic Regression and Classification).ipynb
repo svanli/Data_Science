{
 "cells": [
  {
   "cell_type": "markdown",
   "id": "54d90d12-1edd-4563-a9ff-ed58bd346b81",
   "metadata": {},
   "source": [
    "# Essential Math for Data Science"
   ]
  },
  {
   "cell_type": "markdown",
   "id": "658ab407-bab9-4e37-88a9-700652724c50",
   "metadata": {},
   "source": [
    "## 6. Logistic Regression and Classification"
   ]
  },
  {
   "cell_type": "markdown",
   "id": "8c61f033-acec-47dc-8aa5-9ccf2c5b6a9f",
   "metadata": {},
   "source": [
    "### Logistic Function"
   ]
  },
  {
   "cell_type": "code",
   "execution_count": 1,
   "id": "fca9c30d-5c8b-416c-8894-b36d5c3a11a0",
   "metadata": {},
   "outputs": [],
   "source": [
    "import math\n",
    "\n",
    "def predict_probability(x, b0, b1):\n",
    "    p = 1.0 / (1.0 + math.exp(-(b0 + b1 * x)))\n",
    "    return p"
   ]
  },
  {
   "cell_type": "code",
   "execution_count": 9,
   "id": "e1b440fd-f2ae-4b08-9d74-e7299f6b98e9",
   "metadata": {},
   "outputs": [
    {
     "name": "stdout",
     "output_type": "stream",
     "text": [
      "1.0/(1.0 + 16.8272567955368*exp(-0.62*x))\n"
     ]
    },
    {
     "data": {
      "image/png": "[encoded data removed]",
      "text/plain": [
       "<Figure size 640x480 with 1 Axes>"
      ]
     },
     "metadata": {},
     "output_type": "display_data"
    }
   ],
   "source": [
    "from sympy import *\n",
    "\n",
    "b0, b1, x = symbols('b0 b1 x')\n",
    "\n",
    "p = 1.0 / (1.0 + exp(-(b0 + b1 * x)))\n",
    "\n",
    "p = p.subs(b0, -2.823)\n",
    "p = p.subs(b1, 0.620)\n",
    "\n",
    "print(p)\n",
    "\n",
    "plot(p);"
   ]
  },
  {
   "cell_type": "markdown",
   "id": "439a034e-a1cb-4bc1-83d5-db5dba4b598c",
   "metadata": {},
   "source": [
    "### Fitting the Logistic Curve Using scikit-learn"
   ]
  },
  {
   "cell_type": "code",
   "execution_count": 3,
   "id": "ac2f03d5-f21c-4b6d-a13e-6ddda0200fda",
   "metadata": {},
   "outputs": [
    {
     "name": "stdout",
     "output_type": "stream",
     "text": [
      "[0.69267212]\n",
      "[-3.17576395]\n"
     ]
    }
   ],
   "source": [
    "import pandas as pd\n",
    "from sklearn.linear_model import LogisticRegression\n",
    "\n",
    "df = pd.read_csv('https://bit.ly/33ebs2R', delimiter = ',')\n",
    "\n",
    "X = df.values[:, :-1]\n",
    "Y = df.values[:, -1]\n",
    "\n",
    "# Perform logistic regression\n",
    "# Turn off penalty\n",
    "model = LogisticRegression(penalty = 'none')\n",
    "model.fit(X, Y)\n",
    "\n",
    "# print beta1\n",
    "print(model.coef_.flatten())\n",
    "\n",
    "# print beta0\n",
    "print(model.intercept_.flatten())"
   ]
  },
  {
   "cell_type": "markdown",
   "id": "7a3165da-88ba-4225-adb5-9066f4b7824c",
   "metadata": {},
   "source": [
    "### Fitting the Logistic Curve Using Maximum Likelihood and Gradient Descent"
   ]
  },
  {
   "cell_type": "code",
   "execution_count": 16,
   "id": "d3522278-d63c-4571-956f-18aa85e43602",
   "metadata": {},
   "outputs": [
    {
     "name": "stdout",
     "output_type": "stream",
     "text": [
      "4.7911180221699105e-05\n"
     ]
    }
   ],
   "source": [
    "import math\n",
    "import pandas as pd\n",
    "\n",
    "patient_data = pd.read_csv('https://bit.ly/33ebs2R', delimiter = ',').itertuples()\n",
    "\n",
    "b0 = -3.17576395\n",
    "b1 = 0.69267212\n",
    "\n",
    "def logistic_function(x):\n",
    "    p = 1.0 / (1.0 + math.exp(-(b0 + b1 * x)))\n",
    "    return p\n",
    "\n",
    "# Calculate the join likelihood\n",
    "joint_likelihood = 1.0\n",
    "\n",
    "for p in patient_data:\n",
    "    if p.y == 1.0:\n",
    "        joint_likelihood *= logistic_function(p.x)\n",
    "    elif p.y == 0.0:\n",
    "        joint_likelihood *= (1.0 - logistic_function(p.x))\n",
    "        \n",
    "print(joint_likelihood)"
   ]
  },
  {
   "cell_type": "code",
   "execution_count": 17,
   "id": "33fde56b-feab-485a-a353-7375e8c843cc",
   "metadata": {},
   "outputs": [],
   "source": [
    "for p in patient_data:\n",
    "    joint_likelihood *= logistic_function(p.x) ** p.y * \\\n",
    "                        (1.0 - logistic_function(p.x)) ** (1.0 - p.y)"
   ]
  },
  {
   "cell_type": "code",
   "execution_count": 20,
   "id": "b8b80aa5-1967-4136-b96f-656843a116ae",
   "metadata": {},
   "outputs": [],
   "source": [
    "# Calculate the joint likelihood\n",
    "joint_likelihood = 0.0\n",
    "\n",
    "for p in patient_data:\n",
    "    joint_likelihood += math.log(logistic_function(p.x) ** p.y * \\\n",
    "                        (1.0 - logistic_function(p.x)) ** (1.0 - p.y))\n",
    "    \n",
    "joint_likelihood = math.exp(joint_likelihood)"
   ]
  },
  {
   "cell_type": "code",
   "execution_count": 26,
   "id": "df6dbf07-b2ed-4acd-8a8b-177d89fa1255",
   "metadata": {},
   "outputs": [],
   "source": [
    "#joint_likelihood = Sum(log((1.0 / (1.0 + exp(-(b + m * x(i)))))**y(i) * \\\n",
    "#                       (1.0 - (1.0 / (1.0 + exp(-(b + m * x(i))))))**(1 - y(i))), (i, 0, n))"
   ]
  },
  {
   "cell_type": "code",
   "execution_count": 33,
   "id": "31810f3d-e4f1-4d55-affb-62453e48766b",
   "metadata": {},
   "outputs": [
    {
     "name": "stdout",
     "output_type": "stream",
     "text": [
      "0.6926693075370812 -3.175751550409821\n"
     ]
    }
   ],
   "source": [
    "from sympy import *\n",
    "import pandas as pd\n",
    "\n",
    "points = list(pd.read_csv(\"https://tinyurl.com/y2cocoo7\").itertuples())\n",
    "\n",
    "b1, b0, i, n = symbols('b1 b0 i n')\n",
    "x, y = symbols('x y', cls=Function)\n",
    "joint_likelihood = Sum(log((1.0 / (1.0 + exp(-(b0 + b1 * x(i))))) ** y(i) \\\n",
    "     * (1.0 - (1.0 / (1.0 + exp(-(b0 + b1 * x(i)))))) ** (1 - y(i))), (i, 0, n))\n",
    "\n",
    "# Partial derivative for m, with points substituted\n",
    "d_b1 = diff(joint_likelihood, b1) \\\n",
    "       .subs(n, len(points) - 1) \\\n",
    "       .doit().replace(x, lambda i: points[i].x) \\\n",
    "       .replace(y, lambda i: points[i].y)\n",
    "\n",
    "# Partial derivative for m, with points substituted\n",
    "d_b0 = diff(joint_likelihood, b0) \\\n",
    "       .subs(n, len(points) - 1) \\\n",
    "       .doit().replace(x, lambda i: points[i].x) \\\n",
    "       .replace(y, lambda i: points[i].y)\n",
    "\n",
    "# compile using lambdify for faster computation\n",
    "d_b1 = lambdify([b1, b0], d_b1)\n",
    "d_b0 = lambdify([b1, b0], d_b0)\n",
    "\n",
    "# Perform Gradient Descent\n",
    "b1 = 0.01\n",
    "b0 = 0.01\n",
    "L = .01\n",
    "\n",
    "for j in range(10_000):\n",
    "    b1 += d_b1(b1, b0) * L\n",
    "    b0 += d_b0(b1, b0) * L\n",
    "\n",
    "print(b1, b0)"
   ]
  },
  {
   "cell_type": "markdown",
   "id": "99a9442f-a7af-40c6-bcc0-b9977bc10a71",
   "metadata": {},
   "source": [
    "### Multivariable Logistic Regression"
   ]
  },
  {
   "cell_type": "code",
   "execution_count": 1,
   "id": "74808900-302b-488c-af79-55f1369d5e44",
   "metadata": {},
   "outputs": [
    {
     "name": "stdout",
     "output_type": "stream",
     "text": [
      "Coefficient: [ 0.03213405  0.03682453 -2.50410028  0.9742266 ]\n",
      "Intercept: [-2.73485302]\n"
     ]
    }
   ],
   "source": [
    "import pandas as pd\n",
    "from sklearn.linear_model import LogisticRegression\n",
    "\n",
    "employee_data = pd.read_csv('https://tinyurl.com/y6r7qjrp')\n",
    "\n",
    "# Select independent variable columns\n",
    "inputs = employee_data.iloc[:, :-1]\n",
    "\n",
    "# Select dependent variable column\n",
    "output = employee_data.iloc[:, -1]\n",
    "\n",
    "# Build logistic regression\n",
    "fit = LogisticRegression(penalty = 'none').fit(inputs, output)\n",
    "\n",
    "# Print coefficients\n",
    "print(f'Coefficient: {fit.coef_.flatten()}')\n",
    "print(f'Intercept: {fit.intercept_.flatten()}')\n",
    "\n",
    "# Interact and test with new employee data\n",
    "def predict_employee_will_stay(sex, age, promotions, years_employed):\n",
    "    prediction = fit.predict([[sex, age, promotions, years_employed]])\n",
    "    probabilities = fit.predict_proba([[sex, age, promotions, years_employed]])\n",
    "    if prediction == [[1]]:\n",
    "        return print(f'Will leave: {probabilities}')\n",
    "    else:\n",
    "        return print(f'Will stay: {probabilities}')"
   ]
  },
  {
   "cell_type": "code",
   "execution_count": 1,
   "id": "326a3ab8-7372-4235-846c-06a59913ea77",
   "metadata": {
    "collapsed": true,
    "jupyter": {
     "outputs_hidden": true
    },
    "tags": []
   },
   "outputs": [
    {
     "name": "stdout",
     "output_type": "stream",
     "text": [
      "COEFFICIENTS: [ 0.03213405  0.03682453 -2.50410028  0.9742266 ]\n",
      "INTERCEPT: [-2.73485302]\n"
     ]
    },
    {
     "name": "stdin",
     "output_type": "stream",
     "text": [
      "Predict employee will stay or leave {sex}, {age}, {promotions}, {years employed}:  0, 30, 0, 2\n"
     ]
    },
    {
     "name": "stderr",
     "output_type": "stream",
     "text": [
      "C:\\ProgramData\\Anaconda3\\lib\\site-packages\\sklearn\\base.py:450: UserWarning: X does not have valid feature names, but LogisticRegression was fitted with feature names\n",
      "  warnings.warn(\n",
      "C:\\ProgramData\\Anaconda3\\lib\\site-packages\\sklearn\\base.py:450: UserWarning: X does not have valid feature names, but LogisticRegression was fitted with feature names\n",
      "  warnings.warn(\n"
     ]
    },
    {
     "name": "stdout",
     "output_type": "stream",
     "text": [
      "WILL LEAVE: [[0.4210813 0.5789187]]\n"
     ]
    },
    {
     "ename": "KeyboardInterrupt",
     "evalue": "Interrupted by user",
     "output_type": "error",
     "traceback": [
      "\u001b[1;31m---------------------------------------------------------------------------\u001b[0m",
      "\u001b[1;31mKeyboardInterrupt\u001b[0m                         Traceback (most recent call last)",
      "\u001b[1;32m~\\AppData\\Local\\Temp\\ipykernel_11756\\1618337690.py\u001b[0m in \u001b[0;36m<module>\u001b[1;34m\u001b[0m\n\u001b[0;32m     28\u001b[0m \u001b[1;31m# Test a prediction\u001b[0m\u001b[1;33m\u001b[0m\u001b[1;33m\u001b[0m\u001b[0m\n\u001b[0;32m     29\u001b[0m \u001b[1;32mwhile\u001b[0m \u001b[1;32mTrue\u001b[0m\u001b[1;33m:\u001b[0m\u001b[1;33m\u001b[0m\u001b[1;33m\u001b[0m\u001b[0m\n\u001b[1;32m---> 30\u001b[1;33m     \u001b[0mn\u001b[0m \u001b[1;33m=\u001b[0m \u001b[0minput\u001b[0m\u001b[1;33m(\u001b[0m\u001b[1;34m\"Predict employee will stay or leave {sex}, {age}, {promotions}, {years employed}: \"\u001b[0m\u001b[1;33m)\u001b[0m\u001b[1;33m\u001b[0m\u001b[1;33m\u001b[0m\u001b[0m\n\u001b[0m\u001b[0;32m     31\u001b[0m     \u001b[1;33m(\u001b[0m\u001b[0msex\u001b[0m\u001b[1;33m,\u001b[0m \u001b[0mage\u001b[0m\u001b[1;33m,\u001b[0m \u001b[0mpromotions\u001b[0m\u001b[1;33m,\u001b[0m \u001b[0myears_employed\u001b[0m\u001b[1;33m)\u001b[0m \u001b[1;33m=\u001b[0m \u001b[0mn\u001b[0m\u001b[1;33m.\u001b[0m\u001b[0msplit\u001b[0m\u001b[1;33m(\u001b[0m\u001b[1;34m\",\"\u001b[0m\u001b[1;33m)\u001b[0m\u001b[1;33m\u001b[0m\u001b[1;33m\u001b[0m\u001b[0m\n\u001b[0;32m     32\u001b[0m     \u001b[0mprint\u001b[0m\u001b[1;33m(\u001b[0m\u001b[0mpredict_employee_will_stay\u001b[0m\u001b[1;33m(\u001b[0m\u001b[0mint\u001b[0m\u001b[1;33m(\u001b[0m\u001b[0msex\u001b[0m\u001b[1;33m)\u001b[0m\u001b[1;33m,\u001b[0m \u001b[0mint\u001b[0m\u001b[1;33m(\u001b[0m\u001b[0mage\u001b[0m\u001b[1;33m)\u001b[0m\u001b[1;33m,\u001b[0m \u001b[0mint\u001b[0m\u001b[1;33m(\u001b[0m\u001b[0mpromotions\u001b[0m\u001b[1;33m)\u001b[0m\u001b[1;33m,\u001b[0m \u001b[0mint\u001b[0m\u001b[1;33m(\u001b[0m\u001b[0myears_employed\u001b[0m\u001b[1;33m)\u001b[0m\u001b[1;33m)\u001b[0m\u001b[1;33m)\u001b[0m\u001b[1;33m\u001b[0m\u001b[1;33m\u001b[0m\u001b[0m\n",
      "\u001b[1;32mC:\\ProgramData\\Anaconda3\\lib\\site-packages\\ipykernel\\kernelbase.py\u001b[0m in \u001b[0;36mraw_input\u001b[1;34m(self, prompt)\u001b[0m\n\u001b[0;32m   1175\u001b[0m                 \u001b[1;34m\"raw_input was called, but this frontend does not support input requests.\"\u001b[0m\u001b[1;33m\u001b[0m\u001b[1;33m\u001b[0m\u001b[0m\n\u001b[0;32m   1176\u001b[0m             )\n\u001b[1;32m-> 1177\u001b[1;33m         return self._input_request(\n\u001b[0m\u001b[0;32m   1178\u001b[0m             \u001b[0mstr\u001b[0m\u001b[1;33m(\u001b[0m\u001b[0mprompt\u001b[0m\u001b[1;33m)\u001b[0m\u001b[1;33m,\u001b[0m\u001b[1;33m\u001b[0m\u001b[1;33m\u001b[0m\u001b[0m\n\u001b[0;32m   1179\u001b[0m             \u001b[0mself\u001b[0m\u001b[1;33m.\u001b[0m\u001b[0m_parent_ident\u001b[0m\u001b[1;33m[\u001b[0m\u001b[1;34m\"shell\"\u001b[0m\u001b[1;33m]\u001b[0m\u001b[1;33m,\u001b[0m\u001b[1;33m\u001b[0m\u001b[1;33m\u001b[0m\u001b[0m\n",
      "\u001b[1;32mC:\\ProgramData\\Anaconda3\\lib\\site-packages\\ipykernel\\kernelbase.py\u001b[0m in \u001b[0;36m_input_request\u001b[1;34m(self, prompt, ident, parent, password)\u001b[0m\n\u001b[0;32m   1217\u001b[0m             \u001b[1;32mexcept\u001b[0m \u001b[0mKeyboardInterrupt\u001b[0m\u001b[1;33m:\u001b[0m\u001b[1;33m\u001b[0m\u001b[1;33m\u001b[0m\u001b[0m\n\u001b[0;32m   1218\u001b[0m                 \u001b[1;31m# re-raise KeyboardInterrupt, to truncate traceback\u001b[0m\u001b[1;33m\u001b[0m\u001b[1;33m\u001b[0m\u001b[0m\n\u001b[1;32m-> 1219\u001b[1;33m                 \u001b[1;32mraise\u001b[0m \u001b[0mKeyboardInterrupt\u001b[0m\u001b[1;33m(\u001b[0m\u001b[1;34m\"Interrupted by user\"\u001b[0m\u001b[1;33m)\u001b[0m \u001b[1;32mfrom\u001b[0m \u001b[1;32mNone\u001b[0m\u001b[1;33m\u001b[0m\u001b[1;33m\u001b[0m\u001b[0m\n\u001b[0m\u001b[0;32m   1220\u001b[0m             \u001b[1;32mexcept\u001b[0m \u001b[0mException\u001b[0m\u001b[1;33m:\u001b[0m\u001b[1;33m\u001b[0m\u001b[1;33m\u001b[0m\u001b[0m\n\u001b[0;32m   1221\u001b[0m                 \u001b[0mself\u001b[0m\u001b[1;33m.\u001b[0m\u001b[0mlog\u001b[0m\u001b[1;33m.\u001b[0m\u001b[0mwarning\u001b[0m\u001b[1;33m(\u001b[0m\u001b[1;34m\"Invalid Message:\"\u001b[0m\u001b[1;33m,\u001b[0m \u001b[0mexc_info\u001b[0m\u001b[1;33m=\u001b[0m\u001b[1;32mTrue\u001b[0m\u001b[1;33m)\u001b[0m\u001b[1;33m\u001b[0m\u001b[1;33m\u001b[0m\u001b[0m\n",
      "\u001b[1;31mKeyboardInterrupt\u001b[0m: Interrupted by user"
     ]
    }
   ],
   "source": [
    "import pandas as pd\n",
    "from sklearn.linear_model import LogisticRegression\n",
    "\n",
    "employee_data = pd.read_csv(\"https://tinyurl.com/y6r7qjrp\")\n",
    "\n",
    "# grab independent variable columns\n",
    "inputs = employee_data.iloc[:, :-1]\n",
    "\n",
    "# grab dependent \"did_quit\" variable column\n",
    "output = employee_data.iloc[:, -1]\n",
    "\n",
    "# build logistic regression\n",
    "fit = LogisticRegression(penalty='none').fit(inputs, output)\n",
    "\n",
    "# Print coefficients:\n",
    "print(\"COEFFICIENTS: {0}\".format(fit.coef_.flatten()))\n",
    "print(\"INTERCEPT: {0}\".format(fit.intercept_.flatten()))\n",
    "\n",
    "# Interact and test with new employee data\n",
    "def predict_employee_will_stay(sex, age, promotions, years_employed):\n",
    "    prediction = fit.predict([[sex, age, promotions, years_employed]])\n",
    "    probabilities = fit.predict_proba([[sex, age, promotions, years_employed]])\n",
    "    if prediction == [[1]]:\n",
    "        return \"WILL LEAVE: {0}\".format(probabilities)\n",
    "    else:\n",
    "        return \"WILL STAY: {0}\".format(probabilities)\n",
    "\n",
    "# Test a prediction\n",
    "while True:\n",
    "    n = input(\"Predict employee will stay or leave {sex}, {age}, {promotions}, {years employed}: \")\n",
    "    (sex, age, promotions, years_employed) = n.split(\",\")\n",
    "    print(predict_employee_will_stay(int(sex), ibnt(age), int(promotions), int(years_employed)))"
   ]
  },
  {
   "cell_type": "code",
   "execution_count": 9,
   "id": "9a5ac70a-dc5b-4ada-acfa-2c4a5ef74b77",
   "metadata": {},
   "outputs": [
    {
     "name": "stdout",
     "output_type": "stream",
     "text": [
      "COEFFICIENTS: [ 0.03213405  0.03682453 -2.50410028  0.9742266 ]\n",
      "INTERCEPT: [-2.73485302]\n"
     ]
    }
   ],
   "source": [
    "import pandas as pd\n",
    "from sklearn.linear_model import LogisticRegression\n",
    "\n",
    "employee_data = pd.read_csv(\"https://tinyurl.com/y6r7qjrp\")\n",
    "\n",
    "# grab independent variable columns\n",
    "inputs = employee_data.iloc[:, :-1]\n",
    "\n",
    "# grab dependent \"did_quit\" variable column\n",
    "output = employee_data.iloc[:, -1]\n",
    "\n",
    "# build logistic regression\n",
    "fit = LogisticRegression(penalty='none').fit(inputs, output)\n",
    "\n",
    "# Print coefficients:\n",
    "print(\"COEFFICIENTS: {0}\".format(fit.coef_.flatten()))\n",
    "print(\"INTERCEPT: {0}\".format(fit.intercept_.flatten()))\n",
    "\n",
    "# Interact and test with new employee data\n",
    "def predict_employee_will_stay(sex, age, promotions, years_employed):\n",
    "    prediction = fit.predict([[sex, age, promotions, years_employed]])\n",
    "    probabilities = fit.predict_proba([[sex, age, promotions, years_employed]])\n",
    "    if prediction == [[1]]:\n",
    "        return \"WILL LEAVE: {0}\".format(probabilities)\n",
    "    else:\n",
    "        return \"WILL STAY: {0}\".format(probabilities)"
   ]
  },
  {
   "cell_type": "code",
   "execution_count": 17,
   "id": "dea8e98b-521a-4734-a60f-3cfd269b43ac",
   "metadata": {},
   "outputs": [
    {
     "name": "stderr",
     "output_type": "stream",
     "text": [
      "C:\\ProgramData\\Anaconda3\\lib\\site-packages\\sklearn\\base.py:450: UserWarning: X does not have valid feature names, but LogisticRegression was fitted with feature names\n",
      "  warnings.warn(\n",
      "C:\\ProgramData\\Anaconda3\\lib\\site-packages\\sklearn\\base.py:450: UserWarning: X does not have valid feature names, but LogisticRegression was fitted with feature names\n",
      "  warnings.warn(\n"
     ]
    },
    {
     "data": {
      "text/plain": [
       "'WILL STAY: [[0.55905087 0.44094913]]'"
      ]
     },
     "execution_count": 17,
     "metadata": {},
     "output_type": "execute_result"
    }
   ],
   "source": [
    "predict_employee_will_stay(\n",
    "    sex = 0, \n",
    "    age = 30, \n",
    "    promotions = 1, \n",
    "    years_employed = 4)"
   ]
  },
  {
   "cell_type": "markdown",
   "id": "7a82446c-784b-4449-961e-ee35f266f8f2",
   "metadata": {},
   "source": [
    "### R-Squared"
   ]
  },
  {
   "cell_type": "code",
   "execution_count": 20,
   "id": "3ade200b-11b2-4613-a16b-2302fd62e2ac",
   "metadata": {},
   "outputs": [
    {
     "name": "stdout",
     "output_type": "stream",
     "text": [
      "-9.946161673231583\n"
     ]
    }
   ],
   "source": [
    "from math import log, exp\n",
    "import pandas as pd\n",
    "\n",
    "patient_data = pd.read_csv('https://bit.ly/33ebs2R', delimiter = ',').itertuples()\n",
    "\n",
    "b0 = -3.17576395\n",
    "b1 = 0.69267212\n",
    "\n",
    "def logistic_function(x):\n",
    "    p = 1.0 / (1.0 + exp(-(b0 + b1 * x)))\n",
    "    return p\n",
    "\n",
    "# Sum the log-likelihoods\n",
    "log_likelihood_fit = 0.0\n",
    "\n",
    "for p in patient_data:\n",
    "    if p.y == 1.0:\n",
    "        log_likelihood_fit += log(logistic_function(p.x))\n",
    "    elif p.y == 0.0:\n",
    "        log_likelihood_fit += log(1.0 - logistic_function(p.x))\n",
    "        \n",
    "print(log_likelihood_fit)"
   ]
  },
  {
   "cell_type": "code",
   "execution_count": 22,
   "id": "be8015ae-9925-46dd-a7d6-f57479270ebc",
   "metadata": {},
   "outputs": [],
   "source": [
    "log_likelihood_fit = sum(log(logistic_function(p.x)) * p.y + \n",
    "                         log(1.0 - logistic_function(p.x)) * (1.0 - p.y)\n",
    "                         for p in patient_data)"
   ]
  },
  {
   "cell_type": "code",
   "execution_count": 25,
   "id": "bdfe8982-559a-4e3d-9307-db1632cf455f",
   "metadata": {},
   "outputs": [
    {
     "name": "stdout",
     "output_type": "stream",
     "text": [
      "-14.341070198709906\n"
     ]
    }
   ],
   "source": [
    "import pandas as pd\n",
    "from math import log, exp\n",
    "\n",
    "patient_data = list(pd.read_csv('https://bit.ly/33ebs2R', delimiter = ',').itertuples())\n",
    "\n",
    "likelihood = sum(p.y for p in patient_data) / len(patient_data)\n",
    "\n",
    "log_likelihood = 0.0\n",
    "\n",
    "for p in patient_data:\n",
    "    if p.y == 1.0:\n",
    "        log_likelihood += log(likelihood)\n",
    "    elif p.y == 0.0:\n",
    "        log_likelihood += log(1.0 - likelihood)\n",
    "        \n",
    "print(log_likelihood)"
   ]
  },
  {
   "cell_type": "code",
   "execution_count": 27,
   "id": "3fe174d5-a76a-476a-956e-74122eee7413",
   "metadata": {},
   "outputs": [],
   "source": [
    "log_likelihood = sum(log(likelihood)*p.y + log(1.0 - likelihood)*(1.0 - p.y) \\\n",
    "                     for p in patient_data)"
   ]
  },
  {
   "cell_type": "code",
   "execution_count": 26,
   "id": "e9bccad4-6cdb-4013-9cc1-b64852fc182b",
   "metadata": {},
   "outputs": [
    {
     "name": "stdout",
     "output_type": "stream",
     "text": [
      "0.306456105756576\n"
     ]
    }
   ],
   "source": [
    "import pandas as pd\n",
    "from math import log, exp\n",
    "\n",
    "patient_data = list(pd.read_csv('https://bit.ly/33ebs2R', delimiter = ',').itertuples())\n",
    "\n",
    "# Declare fitted logistic regression\n",
    "b0 = -3.17576395\n",
    "b1 = 0.69267212\n",
    "\n",
    "def logistic_function(x):\n",
    "    p = 1.0 / (1.0 + exp(-(b0 + b1 * x)))\n",
    "    return p\n",
    "\n",
    "# Calculate the log likelihood of the fit\n",
    "log_likelihood_fit = sum(log(logistic_function(p.x)) * p.y +\n",
    "                         log(1.0 - logistic_function(p.x)) * (1.0 - p.y)\n",
    "                         for p in patient_data)\n",
    "\n",
    "# Calculate the log likelihood without fit\n",
    "likelihood = sum(p.y for p in patient_data) / len(patient_data)\n",
    "\n",
    "log_likelihood = sum(log(likelihood) * p.y + log(1.0 - likelihood) * (1.0 - p.y) \\\n",
    "                     for p in patient_data)\n",
    "\n",
    "# Calculate R-Square\n",
    "r2 = (log_likelihood - log_likelihood_fit) / log_likelihood\n",
    "\n",
    "print(r2)"
   ]
  }
 ],
 "metadata": {
  "kernelspec": {
   "display_name": "Python 3 (ipykernel)",
   "language": "python",
   "name": "python3"
  },
  "language_info": {
   "codemirror_mode": {
    "name": "ipython",
    "version": 3
   },
   "file_extension": ".py",
   "mimetype": "text/x-python",
   "name": "python",
   "nbconvert_exporter": "python",
   "pygments_lexer": "ipython3",
   "version": "3.9.13"
  }
 },
 "nbformat": 4,
 "nbformat_minor": 5
}
