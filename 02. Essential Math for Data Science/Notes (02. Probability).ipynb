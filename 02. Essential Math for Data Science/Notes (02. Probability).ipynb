{
 "cells": [
  {
   "cell_type": "markdown",
   "id": "54d90d12-1edd-4563-a9ff-ed58bd346b81",
   "metadata": {},
   "source": [
    "# Essential Math for Data Science"
   ]
  },
  {
   "cell_type": "markdown",
   "id": "658ab407-bab9-4e37-88a9-700652724c50",
   "metadata": {},
   "source": [
    "## 2. Probability"
   ]
  },
  {
   "cell_type": "markdown",
   "id": "1ddad8d3-fa2b-4917-a138-f5ba82ef92be",
   "metadata": {},
   "source": [
    "### Joint Probabilities"
   ]
  },
  {
   "cell_type": "code",
   "execution_count": 4,
   "id": "baae552c-7fa4-4c76-8e9a-0274f4716bc0",
   "metadata": {},
   "outputs": [
    {
     "data": {
      "text/plain": [
       "0.08333333333333333"
      ]
     },
     "execution_count": 4,
     "metadata": {},
     "output_type": "execute_result"
    }
   ],
   "source": [
    "p_heads = 1/2\n",
    "p_six   = 1/6\n",
    "\n",
    "p_both  = p_heads * p_six\n",
    "\n",
    "p_both"
   ]
  },
  {
   "cell_type": "code",
   "execution_count": 5,
   "id": "3b9789d8-f8c4-4125-981b-ffe841a8f141",
   "metadata": {},
   "outputs": [
    {
     "name": "stdout",
     "output_type": "stream",
     "text": [
      "Heads 1\n",
      "Heads 2\n",
      "Heads 3\n",
      "Heads 4\n",
      "Heads 5\n",
      "Heads 6\n",
      "Tail 1\n",
      "Tail 2\n",
      "Tail 3\n",
      "Tail 4\n",
      "Tail 5\n",
      "Tail 6\n"
     ]
    }
   ],
   "source": [
    "for c in ('Heads', 'Tail'):\n",
    "    for d in range(1, 6+1):\n",
    "        print(c, d)"
   ]
  },
  {
   "cell_type": "markdown",
   "id": "53cb1efe-bf88-4bdd-8451-2882199ac7fd",
   "metadata": {},
   "source": [
    "### Union Probabilities"
   ]
  },
  {
   "cell_type": "code",
   "execution_count": 8,
   "id": "28cce663-f1df-427a-8ee3-f1f175baace6",
   "metadata": {},
   "outputs": [
    {
     "data": {
      "text/plain": [
       "0.5833333333333333"
      ]
     },
     "execution_count": 8,
     "metadata": {},
     "output_type": "execute_result"
    }
   ],
   "source": [
    "p_or = p_heads + p_six - p_both\n",
    "p_or"
   ]
  },
  {
   "cell_type": "code",
   "execution_count": 9,
   "id": "576178b4-c66b-473b-b52b-9928dd2632df",
   "metadata": {},
   "outputs": [
    {
     "data": {
      "text/plain": [
       "0.5833333333333333"
      ]
     },
     "execution_count": 9,
     "metadata": {},
     "output_type": "execute_result"
    }
   ],
   "source": [
    "p_or = p_heads + p_six - p_heads * p_six\n",
    "p_or"
   ]
  },
  {
   "cell_type": "markdown",
   "id": "0b0f540b-293a-4540-8558-77354204d15a",
   "metadata": {},
   "source": [
    "### Conditional Probability and Bayes’ Theorem"
   ]
  },
  {
   "cell_type": "code",
   "execution_count": 21,
   "id": "82d710c5-2ab1-4fd9-98ef-a50f40f99892",
   "metadata": {},
   "outputs": [
    {
     "name": "stdout",
     "output_type": "stream",
     "text": [
      "Probability of having cancer being a coffee drinker is 0.65%.\n"
     ]
    }
   ],
   "source": [
    "p_coffee_drinker = 0.65\n",
    "p_cancer = 0.005\n",
    "p_coffee_drinker_given_cancer = 0.85\n",
    "\n",
    "p_cancer_given_coffee_drinker = (p_coffee_drinker_given_cancer * p_cancer) / p_coffee_drinker\n",
    "\n",
    "print(f'Probability of having cancer being a coffee drinker is '\n",
    "      f'{round(p_cancer_given_coffee_drinker*100, 2)}%.')"
   ]
  },
  {
   "cell_type": "markdown",
   "id": "b2935efe-707d-498b-9474-f87e685b4b58",
   "metadata": {},
   "source": [
    "### Binomial Distribution"
   ]
  },
  {
   "cell_type": "code",
   "execution_count": 41,
   "id": "b992fdfa-a1d3-4136-95c0-bbd8866f29a2",
   "metadata": {},
   "outputs": [
    {
     "name": "stdout",
     "output_type": "stream",
     "text": [
      "0: 0.0\n",
      "1: 0.0\n",
      "2: 0.0\n",
      "3: 0.0\n",
      "4: 0.01\n",
      "5: 0.15\n",
      "6: 1.12\n",
      "7: 5.74\n",
      "8: 19.37\n",
      "9: 38.74\n",
      "10: 34.87\n"
     ]
    }
   ],
   "source": [
    "# Calculating the binomial distribution\n",
    "\n",
    "from scipy.stats import binom\n",
    "\n",
    "n = 10 # number of trials\n",
    "p = 0.9 # probability of success for each trial\n",
    "\n",
    "for k in range(n + 1): # k is the total number of successes over all n trials\n",
    "    probability = binom.pmf(k, n, p) # probability mass function\n",
    "    print(f'{k}: {round(probability*100, 2)}')"
   ]
  },
  {
   "cell_type": "code",
   "execution_count": 47,
   "id": "2cac3fff-e7d6-44a5-bb30-f06d36debb15",
   "metadata": {},
   "outputs": [
    {
     "name": "stdout",
     "output_type": "stream",
     "text": [
      "0: 3.12\n",
      "1: 15.62\n",
      "2: 31.25\n",
      "3: 31.25\n",
      "4: 15.62\n",
      "5: 3.12\n"
     ]
    }
   ],
   "source": [
    "n = 5     # number of trials\n",
    "p = 0.5   # probability of success for each trial\n",
    "\n",
    "for k in range(n + 1):   # number of successes\n",
    "    probability = binom.pmf(k, n, p)\n",
    "    print(f'{k}: {round(probability*100, 2)}')"
   ]
  },
  {
   "cell_type": "markdown",
   "id": "7f259d5d-bcdf-40b7-a3fc-b6086c3c8692",
   "metadata": {
    "tags": []
   },
   "source": [
    "### Beta T-Distribution"
   ]
  },
  {
   "cell_type": "code",
   "execution_count": 1,
   "id": "a7c38eaf-4dbc-4c49-8571-61ab352508fe",
   "metadata": {},
   "outputs": [],
   "source": [
    "from scipy.stats import beta"
   ]
  },
  {
   "cell_type": "code",
   "execution_count": 54,
   "id": "114fbe7e-f1e2-4c96-b53e-b8adef12696e",
   "metadata": {},
   "outputs": [
    {
     "name": "stdout",
     "output_type": "stream",
     "text": [
      "There is a 77.48% chance the underlying probability of success is 90% or less.\n"
     ]
    }
   ],
   "source": [
    "a = 8  # number of successes\n",
    "b = 2  # number of failures\n",
    "\n",
    "# Calculate the area up to a given x-value\n",
    "# Calculate the area up to 90%\n",
    "p = beta.cdf(0.90, a, b)  # cdf is cumulative density function\n",
    "\n",
    "print(f'There is a {round(p*100, 2)}% chance the '\n",
    "      f'underlying probability of success is 90% or less.') # Beta distribution"
   ]
  },
  {
   "cell_type": "code",
   "execution_count": 60,
   "id": "a92c06dc-eed2-4517-bc6f-40b05d7bbca6",
   "metadata": {},
   "outputs": [
    {
     "name": "stdout",
     "output_type": "stream",
     "text": [
      "There is a 22.52% chance the underlying probability of success is 90% or greater.\n"
     ]
    }
   ],
   "source": [
    "a = 8  # number of successes\n",
    "b = 2  # number of failures\n",
    "\n",
    "p = 1.0 - beta.cdf(0.90, a, b)\n",
    "\n",
    "print(f'There is a {round(p*100, 2)}% chance the '\n",
    "      f'underlying probability of success is 90% or greater.') # Beta distribution"
   ]
  },
  {
   "cell_type": "code",
   "execution_count": 61,
   "id": "924b7cac-03f8-4d2c-8aff-07406b3cd9f6",
   "metadata": {},
   "outputs": [
    {
     "name": "stdout",
     "output_type": "stream",
     "text": [
      "There is a 13.16% chance the underlying probability of success is 90% or greater.\n"
     ]
    }
   ],
   "source": [
    "a = 30  # number of successes\n",
    "b = 6  # number of failures\n",
    "\n",
    "p = 1.0 - beta.cdf(0.90, a, b)\n",
    "\n",
    "print(f'There is a {round(p*100, 2)}% chance the '\n",
    "      f'underlying probability of success is 90% or greater.') # Beta distribution"
   ]
  },
  {
   "cell_type": "code",
   "execution_count": 3,
   "id": "eb37281a-2362-4b83-aef9-70c6db112884",
   "metadata": {},
   "outputs": [
    {
     "name": "stdout",
     "output_type": "stream",
     "text": [
      "There is a 33.86% chance the underlying probability of success is 90% or less.\n"
     ]
    }
   ],
   "source": [
    "a = 8  # number of successes\n",
    "b = 2  # number of failures\n",
    "\n",
    "# Calculate the area up to a given x-value\n",
    "# Calculate the area up to 90%\n",
    "p = beta.cdf(0.90, a, b) - beta.cdf(0.80, a, b) # cdf is cumulative density function\n",
    "\n",
    "print(f'There is a {round(p*100, 2)}% chance the '\n",
    "      f'underlying probability of success is 90% or less.') # Beta distribution"
   ]
  },
  {
   "cell_type": "markdown",
   "id": "abb69e52-33da-4bf0-93d7-8649631b543c",
   "metadata": {},
   "source": [
    "## Exercises"
   ]
  },
  {
   "cell_type": "markdown",
   "id": "6aaf2c15-8d44-489d-aaf8-1a1e79f89d05",
   "metadata": {},
   "source": [
    "<b></b>1. There is a 30% chance of rain today, and a 40% chance your umbrella order will arrive on time. You are eager to walk in the rain today and cannot do so without either!\n",
    "\n",
    "What is the probability it will rain AND your umbrella will arrive?"
   ]
  },
  {
   "cell_type": "code",
   "execution_count": 13,
   "id": "a44ac696-411f-4d6b-8efa-a6fd38da90ca",
   "metadata": {},
   "outputs": [
    {
     "name": "stdout",
     "output_type": "stream",
     "text": [
      "There is a 12% probability that it will rain and that my umbrella will arrive on time.\n"
     ]
    }
   ],
   "source": [
    "p_r = 0.30\n",
    "p_u = 0.40\n",
    "\n",
    "p_r_and_u = p_r * p_u\n",
    "\n",
    "print(f'There is a {int(p_r_and_u * 100)}% probability that it will rain '\n",
    "      f'and that my umbrella will arrive on time.')"
   ]
  },
  {
   "cell_type": "markdown",
   "id": "eb151f8e-768f-4a55-8423-026c7a774aa4",
   "metadata": {},
   "source": [
    "<b></b>2. There is a 30% chance of rain today, and a 40% chance your umbrella order will arrive on time.\n",
    "\n",
    "You will be able to run errands only if it does <i>not</i> rain or your umbrella arrives.\n",
    "    \n",
    "What is the probability it will <i>not</i> rain OR your umbrella arrives?"
   ]
  },
  {
   "cell_type": "code",
   "execution_count": 17,
   "id": "63f73158-e4d2-4baf-856d-4f349306308a",
   "metadata": {},
   "outputs": [
    {
     "name": "stdout",
     "output_type": "stream",
     "text": [
      "There is a 98% probability that it will not rain or that my umbrella will arrive on time.\n"
     ]
    }
   ],
   "source": [
    "p_r = 0.30\n",
    "p_u = 0.40\n",
    "\n",
    "p_r_or_u = (1 - p_r) + p_u - (p_r * p_u)\n",
    "\n",
    "print(f'There is a {int(p_r_or_u * 100)}% probability that it will not rain '\n",
    "      f'or that my umbrella will arrive on time.')"
   ]
  },
  {
   "cell_type": "markdown",
   "id": "4fed60fe-9b36-45fe-801d-380ccd1ba2ce",
   "metadata": {},
   "source": [
    "<b></b>3. There is a 30% chance of rain today, and a 40% chance your umbrella order will arrive on time.\n",
    "\n",
    "However, you found out if it rains there is only a 20% chance your umbrella will arrive on time.\n",
    "\n",
    "What is the probability it will rain AND your umbrella will arrive on time?"
   ]
  },
  {
   "cell_type": "code",
   "execution_count": 19,
   "id": "4cad6356-c4a7-4089-9db6-34c465eb4505",
   "metadata": {},
   "outputs": [
    {
     "name": "stdout",
     "output_type": "stream",
     "text": [
      "There is a 6% probability that it will rain and that my umbrella will arrive on time.\n"
     ]
    }
   ],
   "source": [
    "p_r = 0.30\n",
    "p_u = 0.40\n",
    "p_u_w_r = 0.20\n",
    "\n",
    "p_r_and_u = p_r * p_u_w_r\n",
    "\n",
    "print(f'There is a {int(p_r_and_u * 100)}% probability that it will rain '\n",
    "      f'and that my umbrella will arrive on time.')"
   ]
  },
  {
   "cell_type": "markdown",
   "id": "288eb1fa-bd07-4755-b9a7-738b21fd4550",
   "metadata": {},
   "source": [
    "<b></b>4. You have 137 passengers booked on a flight from Las Vegas to Dallas. However, it is Las Vegas on a Sunday morning and you estimate each passenger is 40% likely to not show up.\n",
    "\n",
    "You are trying to figure out how many seats to overbook so the plane does not fly empty.\n",
    "\n",
    "How likely is it <i>at least</i> 50 passengers will not show up?"
   ]
  },
  {
   "cell_type": "markdown",
   "id": "e58e7f9a-4890-4b3f-9716-756f3c5f0004",
   "metadata": {},
   "source": [
    "<i>= Find the probability of 50 or more passengers not showing up.\n",
    "<br>\n",
    "= I’m trying to determine the probability of having 50 or more passengers who won’t show up. How can I calculate this likelihood?</i>"
   ]
  },
  {
   "cell_type": "code",
   "execution_count": 1,
   "id": "f7819cb5-2383-4f15-9d7d-510c96eb641c",
   "metadata": {},
   "outputs": [],
   "source": [
    "from scipy.stats import binom"
   ]
  },
  {
   "cell_type": "code",
   "execution_count": 38,
   "id": "761594b1-a469-410e-85ba-51a899c225e7",
   "metadata": {
    "tags": []
   },
   "outputs": [
    {
     "name": "stdout",
     "output_type": "stream",
     "text": [
      "Probability of 50 or more passengers not showing up is 82.21%.\n"
     ]
    }
   ],
   "source": [
    "n_booked = 137\n",
    "n_no_show = 50\n",
    "p_no_show = 0.40\n",
    "probability = 0\n",
    "\n",
    "for k in range (n_no_show, n_booked + 1):\n",
    "    probability += binom.pmf(k, n_booked, p_no_show)\n",
    "\n",
    "print(f'Probability of 50 or more passengers '\n",
    "      f'not showing up is {round(probability * 100, 2)}%.')"
   ]
  },
  {
   "cell_type": "code",
   "execution_count": 32,
   "id": "40de49b6-9da1-4c63-baa3-865b84542c3a",
   "metadata": {},
   "outputs": [
    {
     "name": "stdout",
     "output_type": "stream",
     "text": [
      "Probability of getting a number n times or more while flipping coins:\n",
      "\n",
      "0: 0.1%\n",
      "1: 1.07%\n",
      "2: 5.47%\n",
      "3: 17.19%\n",
      "4: 37.7%\n",
      "5: 62.3%\n",
      "6: 82.81%\n",
      "7: 94.53%\n",
      "8: 98.93%\n",
      "9: 99.9%\n",
      "10: 100.0%\n"
     ]
    }
   ],
   "source": [
    "n_flip = 10\n",
    "n_number = 3\n",
    "p_win = 0.50\n",
    "probability = 0\n",
    "\n",
    "print(f'Probability of getting a number n times or more while flipping coins:\\n')\n",
    "\n",
    "for k in range (0, n_flip + 1):\n",
    "    probability += binom.pmf(k, n_flip, p_win)\n",
    "    print(f'{k}: {round(probability * 100, 2)}%')"
   ]
  },
  {
   "cell_type": "markdown",
   "id": "a8d8b7a7-fb33-4adc-8851-03b8695235e2",
   "metadata": {},
   "source": [
    "<b></b>5. You flipped a coin 19 times and got heads 15 times and tails 4 times.\n",
    "\n",
    "Do you think this coin has any good probability of being fair? Why or why not?"
   ]
  },
  {
   "cell_type": "code",
   "execution_count": 41,
   "id": "38d5a54a-71c0-40d3-bdf5-34dee31fb781",
   "metadata": {},
   "outputs": [],
   "source": [
    "from scipy.stats import beta"
   ]
  },
  {
   "cell_type": "code",
   "execution_count": 65,
   "id": "a3e698e2-2eb5-4a18-add0-5d8b7be2e6d0",
   "metadata": {},
   "outputs": [
    {
     "name": "stdout",
     "output_type": "stream",
     "text": [
      "With 99.62% this coin has a bad probability of being fair.\n"
     ]
    }
   ],
   "source": [
    "n_flips = 19\n",
    "n_heads = 15\n",
    "n_tails = 4\n",
    "p_win = 0.5\n",
    "\n",
    "p = 1.0 - beta.cdf(p_win, n_heads, n_tails)\n",
    "\n",
    "print(f'With {round(p*100, 2)}% this coin has a bad probability of being fair.')"
   ]
  }
 ],
 "metadata": {
  "kernelspec": {
   "display_name": "Python 3 (ipykernel)",
   "language": "python",
   "name": "python3"
  },
  "language_info": {
   "codemirror_mode": {
    "name": "ipython",
    "version": 3
   },
   "file_extension": ".py",
   "mimetype": "text/x-python",
   "name": "python",
   "nbconvert_exporter": "python",
   "pygments_lexer": "ipython3",
   "version": "3.9.13"
  }
 },
 "nbformat": 4,
 "nbformat_minor": 5
}
