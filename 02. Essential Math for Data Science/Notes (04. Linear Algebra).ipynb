{
 "cells": [
  {
   "cell_type": "markdown",
   "id": "54d90d12-1edd-4563-a9ff-ed58bd346b81",
   "metadata": {},
   "source": [
    "# Essential Math for Data Science"
   ]
  },
  {
   "cell_type": "markdown",
   "id": "658ab407-bab9-4e37-88a9-700652724c50",
   "metadata": {},
   "source": [
    "## 4. Linear Algebra"
   ]
  },
  {
   "cell_type": "markdown",
   "id": "1ddad8d3-fa2b-4917-a138-f5ba82ef92be",
   "metadata": {},
   "source": [
    "### What is a Vector?"
   ]
  },
  {
   "cell_type": "code",
   "execution_count": 1,
   "id": "1b963ac4-5022-475f-9d0c-b77e4799b4fa",
   "metadata": {},
   "outputs": [
    {
     "name": "stdout",
     "output_type": "stream",
     "text": [
      "[3, 2]\n"
     ]
    }
   ],
   "source": [
    "v = [3, 2]\n",
    "print(v)"
   ]
  },
  {
   "cell_type": "code",
   "execution_count": 2,
   "id": "b3cc570b-fa65-4cd5-a8bc-32b64f7cd318",
   "metadata": {},
   "outputs": [
    {
     "name": "stdout",
     "output_type": "stream",
     "text": [
      "[3 2]\n"
     ]
    }
   ],
   "source": [
    "import numpy as np\n",
    "\n",
    "v = np.array([3, 2])\n",
    "\n",
    "print(v)"
   ]
  },
  {
   "cell_type": "code",
   "execution_count": 6,
   "id": "49f16ad6-014c-4837-846f-1b238f8eca0e",
   "metadata": {},
   "outputs": [
    {
     "name": "stdout",
     "output_type": "stream",
     "text": [
      "[4 1 2]\n"
     ]
    }
   ],
   "source": [
    "import numpy as np\n",
    "\n",
    "# Declaring a three-dimensional vector\n",
    "v = np.array([4, 1, 2])\n",
    "\n",
    "print(v)"
   ]
  },
  {
   "cell_type": "code",
   "execution_count": 7,
   "id": "60d1efc9-8365-4b54-8ba8-95a29ec8ab47",
   "metadata": {},
   "outputs": [
    {
     "name": "stdout",
     "output_type": "stream",
     "text": [
      "[6 1 5 8 3]\n"
     ]
    }
   ],
   "source": [
    "# Declaring a five-dimensional vector\n",
    "v = np.array([6, 1, 5, 8, 3])\n",
    "\n",
    "print(v)"
   ]
  },
  {
   "cell_type": "markdown",
   "id": "44d56f3e-1b9e-43b2-86ec-988414898308",
   "metadata": {},
   "source": [
    "### Adding and Combining Vectors"
   ]
  },
  {
   "cell_type": "code",
   "execution_count": 9,
   "id": "ffdf794c-bc03-4625-9afd-59e411c9345d",
   "metadata": {},
   "outputs": [
    {
     "name": "stdout",
     "output_type": "stream",
     "text": [
      "[5 1]\n"
     ]
    }
   ],
   "source": [
    "from numpy import array\n",
    "\n",
    "v = array([3, 2])\n",
    "w = array([2, -1])\n",
    "\n",
    "v_plus_w = v + w\n",
    "\n",
    "print(v_plus_w)"
   ]
  },
  {
   "cell_type": "markdown",
   "id": "a9125f41-ae80-4075-9c2e-b913c9687d36",
   "metadata": {},
   "source": [
    "### Scaling Vectors"
   ]
  },
  {
   "cell_type": "code",
   "execution_count": 10,
   "id": "8db07491-f91f-4b36-8889-3dffab4e74fc",
   "metadata": {},
   "outputs": [
    {
     "data": {
      "text/plain": [
       "array([9, 6])"
      ]
     },
     "execution_count": 10,
     "metadata": {},
     "output_type": "execute_result"
    }
   ],
   "source": [
    "scaled_v = v * 3\n",
    "scaled_v"
   ]
  },
  {
   "cell_type": "code",
   "execution_count": 11,
   "id": "fc03820d-ea1b-480f-82d3-886eeb0106d7",
   "metadata": {},
   "outputs": [
    {
     "name": "stdout",
     "output_type": "stream",
     "text": [
      "[6 2]\n"
     ]
    }
   ],
   "source": [
    "v = array([3, 1])\n",
    "\n",
    "scaled_v = 2 * v\n",
    "\n",
    "print(scaled_v)"
   ]
  },
  {
   "cell_type": "code",
   "execution_count": 12,
   "id": "d359a10f-3709-419a-ad33-5fffb6cdce44",
   "metadata": {},
   "outputs": [
    {
     "name": "stdout",
     "output_type": "stream",
     "text": [
      "[1.5 0.5]\n"
     ]
    }
   ],
   "source": [
    "scaled_v_2 = 0.5 * v\n",
    "\n",
    "print(scaled_v_2)"
   ]
  },
  {
   "cell_type": "markdown",
   "id": "5af4083f-72b3-457c-b899-656d5c50e600",
   "metadata": {},
   "source": [
    "### Matrix Vector Multiplication"
   ]
  },
  {
   "cell_type": "code",
   "execution_count": 6,
   "id": "a9103258-2352-4485-ae3d-cfef77d07bf7",
   "metadata": {},
   "outputs": [
    {
     "name": "stdout",
     "output_type": "stream",
     "text": [
      "[3 2]\n"
     ]
    }
   ],
   "source": [
    "from numpy import array\n",
    "\n",
    "# Compose basis matrix with i-hat and j-hat\n",
    "basis = array(\n",
    "    [[3, 0], \n",
    "     [0, 2]]\n",
    ")\n",
    "\n",
    "# Declare vector v\n",
    "v = array([1, 1])\n",
    "\n",
    "# Create new vector by transforming v with dot product\n",
    "new_v = basis.dot(v)\n",
    "\n",
    "print(new_v)"
   ]
  },
  {
   "cell_type": "code",
   "execution_count": 15,
   "id": "e35cf6c0-878b-40a8-8970-4987acd81943",
   "metadata": {},
   "outputs": [
    {
     "name": "stdout",
     "output_type": "stream",
     "text": [
      "[17 31]\n"
     ]
    }
   ],
   "source": [
    "from numpy import array\n",
    "\n",
    "# Compose basis matrix with i-hat and j-hat\n",
    "basis = array(\n",
    "    [[3, 2], \n",
    "     [5, 4]]\n",
    ")\n",
    "\n",
    "# Declare vector v\n",
    "v = array([3, 4])\n",
    "\n",
    "# Create new vector by transforming v with dot product\n",
    "new_v = basis.dot(v)\n",
    "\n",
    "print(new_v)"
   ]
  },
  {
   "cell_type": "code",
   "execution_count": 9,
   "id": "090717ce-1f31-4043-8efa-4703e98623ae",
   "metadata": {},
   "outputs": [
    {
     "name": "stdout",
     "output_type": "stream",
     "text": [
      "[2 3]\n"
     ]
    }
   ],
   "source": [
    "i_hat = array([2, 0])\n",
    "j_hat = array([0, 3])\n",
    "\n",
    "# Compose basis matrix using i-hat and j-hat\n",
    "# Also need to transpose rows into columns\n",
    "basis = array([i_hat, j_hat]).transpose()\n",
    "\n",
    "v = array([1, 1])\n",
    "\n",
    "new_v = basis.dot(v)\n",
    "\n",
    "print(new_v)"
   ]
  },
  {
   "cell_type": "code",
   "execution_count": 12,
   "id": "78a2e662-dc26-47ae-b6ec-efb411dd6106",
   "metadata": {},
   "outputs": [
    {
     "name": "stdout",
     "output_type": "stream",
     "text": [
      "[4 5]\n"
     ]
    }
   ],
   "source": [
    "i_hat = array([2, 1])\n",
    "j_hat = array([0, 3])\n",
    "\n",
    "# Compose basis matrix using i-hat and j-hat\n",
    "# Also need to transpose rows into columns\n",
    "basis = array([i_hat, j_hat]).transpose()\n",
    "\n",
    "v = array([2, 1])\n",
    "\n",
    "new_v = basis.dot(v)\n",
    "\n",
    "print(new_v)"
   ]
  },
  {
   "cell_type": "code",
   "execution_count": 13,
   "id": "c6221dbc-210e-475e-9f10-0c10e2edc9d7",
   "metadata": {},
   "outputs": [
    {
     "data": {
      "text/plain": [
       "array([[2, 0],\n",
       "       [1, 3]])"
      ]
     },
     "execution_count": 13,
     "metadata": {},
     "output_type": "execute_result"
    }
   ],
   "source": [
    "basis"
   ]
  },
  {
   "cell_type": "code",
   "execution_count": 16,
   "id": "5f82cf2f-c77f-4502-a1be-76a7f0586774",
   "metadata": {},
   "outputs": [
    {
     "name": "stdout",
     "output_type": "stream",
     "text": [
      "[6 5]\n"
     ]
    }
   ],
   "source": [
    "from numpy import array\n",
    "\n",
    "i_hat = array([2, 3])\n",
    "j_hat = array([2, -1])\n",
    "\n",
    "basis = array([i_hat, j_hat]).transpose()\n",
    "\n",
    "v = array([2, 1])\n",
    "\n",
    "new_v = basis.dot(v)\n",
    "\n",
    "print(new_v)"
   ]
  },
  {
   "cell_type": "markdown",
   "id": "d6b2c76f-ada2-4825-9119-570186905514",
   "metadata": {},
   "source": [
    "### Matrix Multiplication"
   ]
  },
  {
   "cell_type": "code",
   "execution_count": 34,
   "id": "5bf12ded-810c-4489-945a-789ba30ae6c4",
   "metadata": {},
   "outputs": [
    {
     "name": "stdout",
     "output_type": "stream",
     "text": [
      "Combined Matrix:\n",
      "[[ 1 -1]\n",
      " [ 1  0]]\n",
      "\n",
      "[-1  1]\n"
     ]
    }
   ],
   "source": [
    "from numpy import array\n",
    "import numpy as np\n",
    "\n",
    "# Transformation 1\n",
    "i_hat1 = array([0, 1])\n",
    "j_hat1 = array([-1, 0])\n",
    "transform1 = array([i_hat1, j_hat1]).transpose()\n",
    "\n",
    "# Transformation 2\n",
    "i_hat2 = array([1, 0])\n",
    "j_hat2 = array([1, 1])\n",
    "transform2 = array([i_hat2, j_hat2]).transpose()\n",
    "\n",
    "# Combine transformations\n",
    "combined = transform2 @ transform1\n",
    "\n",
    "# Or you can use:\n",
    "# combined = np.matmul(transform2, transform1)\n",
    "\n",
    "print(f'Combined Matrix:\\n{combined}\\n')\n",
    "#print(\"COMBINED MATRIX:\\n {}\".format(combined))\n",
    "\n",
    "v = array([1, 2])\n",
    "print(combined.dot(v))"
   ]
  },
  {
   "cell_type": "code",
   "execution_count": 35,
   "id": "51d70f16-dafe-4a7a-a6bd-10adba46500b",
   "metadata": {},
   "outputs": [
    {
     "name": "stdout",
     "output_type": "stream",
     "text": [
      "[-1  1]\n"
     ]
    }
   ],
   "source": [
    "rotated = transform1.dot(v)\n",
    "sheared = transform2.dot(rotated)\n",
    "print(sheared)"
   ]
  },
  {
   "cell_type": "code",
   "execution_count": 36,
   "id": "6affc9d0-9717-426d-b746-3b71dd68e66d",
   "metadata": {},
   "outputs": [
    {
     "name": "stdout",
     "output_type": "stream",
     "text": [
      "Combined Matrix:\n",
      "[[ 0 -1]\n",
      " [ 1  1]]\n",
      "\n",
      "[-2  3]\n"
     ]
    }
   ],
   "source": [
    "from numpy import array\n",
    "\n",
    "# Transformation 1\n",
    "i_hat1 = array([0, 1])\n",
    "j_hat1 = array([-1, 0])\n",
    "transform1 = array([i_hat1, j_hat1]).transpose()\n",
    "\n",
    "# Transformation 2\n",
    "i_hat2 = array([1, 0])\n",
    "j_hat2 = array([1, 1])\n",
    "transform2 = array([i_hat2, j_hat2]).transpose()\n",
    "\n",
    "# Combine transformations\n",
    "combined = transform1 @ transform2\n",
    "\n",
    "print(f'Combined Matrix:\\n{combined}\\n')\n",
    "#print(\"COMBINED MATRIX:\\n {}\".format(combined))\n",
    "\n",
    "v = array([1, 2])\n",
    "print(combined.dot(v))"
   ]
  },
  {
   "cell_type": "markdown",
   "id": "4442267d-47da-4350-a3c5-b8f1183035f4",
   "metadata": {},
   "source": [
    "### Determinants"
   ]
  },
  {
   "cell_type": "code",
   "execution_count": 37,
   "id": "a4b79e8b-f190-4372-a069-bdecb29d4749",
   "metadata": {},
   "outputs": [
    {
     "name": "stdout",
     "output_type": "stream",
     "text": [
      "6.0\n"
     ]
    }
   ],
   "source": [
    "from numpy.linalg import det\n",
    "from numpy import array\n",
    "\n",
    "i_hat = array([3, 0])\n",
    "j_hat = array([0, 2])\n",
    "\n",
    "basis = array([i_hat, j_hat]).transpose()\n",
    "\n",
    "determinant = det(basis)\n",
    "\n",
    "print(determinant)"
   ]
  },
  {
   "cell_type": "code",
   "execution_count": 38,
   "id": "758d2196-f634-4cdc-9132-a3a8d566d678",
   "metadata": {},
   "outputs": [
    {
     "name": "stdout",
     "output_type": "stream",
     "text": [
      "1.0\n"
     ]
    }
   ],
   "source": [
    "from numpy.linalg import det\n",
    "from numpy import array\n",
    "\n",
    "i_hat = array([1, 0])\n",
    "j_hat = array([1, 1])\n",
    "\n",
    "basis = array([i_hat, j_hat]).transpose()\n",
    "\n",
    "determinant = det(basis)\n",
    "\n",
    "print(determinant)"
   ]
  },
  {
   "cell_type": "code",
   "execution_count": 39,
   "id": "33c7143a-328f-4a32-841c-e6688dd74334",
   "metadata": {},
   "outputs": [
    {
     "name": "stdout",
     "output_type": "stream",
     "text": [
      "-5.000000000000001\n"
     ]
    }
   ],
   "source": [
    "from numpy.linalg import det\n",
    "from numpy import array\n",
    "\n",
    "i_hat = array([-2, 1])\n",
    "j_hat = array([1, 2])\n",
    "\n",
    "basis = array([i_hat, j_hat]).transpose()\n",
    "\n",
    "determinant = det(basis)\n",
    "\n",
    "print(determinant)"
   ]
  },
  {
   "cell_type": "code",
   "execution_count": 40,
   "id": "f73924f3-cdcf-4080-9215-d0af6d90181b",
   "metadata": {},
   "outputs": [
    {
     "name": "stdout",
     "output_type": "stream",
     "text": [
      "0.0\n"
     ]
    }
   ],
   "source": [
    "from numpy.linalg import det\n",
    "from numpy import array\n",
    "\n",
    "i_hat = array([-2, 1])\n",
    "j_hat = array([3, -1.5])\n",
    "\n",
    "basis = array([i_hat, j_hat]).transpose()\n",
    "\n",
    "determinant = det(basis)\n",
    "\n",
    "print(determinant)"
   ]
  },
  {
   "cell_type": "markdown",
   "id": "fdabdd93-6cec-4b8e-ad50-c6b96b320781",
   "metadata": {},
   "source": [
    "### Systems of Equations and Inverse Matrices"
   ]
  },
  {
   "cell_type": "code",
   "execution_count": 21,
   "id": "b4371bf1",
   "metadata": {},
   "outputs": [
    {
     "name": "stdout",
     "output_type": "stream",
     "text": [
      "INVERSE: Matrix([[-1/2, 0, 1/3], [11/2, -2, -4/3], [-2, 1, 1/3]])\n",
      "IDENTITY: Matrix([[1, 0, 0], [0, 1, 0], [0, 0, 1]])\n"
     ]
    }
   ],
   "source": [
    "from numpy import array\n",
    "from numpy.linalg import inv\n",
    "\n",
    "# 4x + 2y + 4z = 44\n",
    "# 5x + 3y + 7z = 56\n",
    "# 9x + 3y + 6z = 72\n",
    "\n",
    "A = array([\n",
    "    [4, 2, 4],\n",
    "    [5, 3, 7],\n",
    "    [9, 3, 6]\n",
    "])\n",
    "\n",
    "B = array([\n",
    "    44,\n",
    "    56,\n",
    "    72\n",
    "])\n",
    "\n",
    "X = inv(A).dot(B)\n",
    "\n",
    "print(X)\n",
    "print(f'\\nx = {int(X[0])}\\ny = {int(X[1])}\\nz = {int(X[2])}')"
   ]
  },
  {
   "cell_type": "code",
   "execution_count": 21,
   "id": "c9584f0b",
   "metadata": {},
   "outputs": [
    {
     "name": "stdout",
     "output_type": "stream",
     "text": [
      "INVERSE: Matrix([[-1/2, 0, 1/3], [11/2, -2, -4/3], [-2, 1, 1/3]])\n",
      "IDENTITY: Matrix([[1, 0, 0], [0, 1, 0], [0, 0, 1]])\n"
     ]
    }
   ],
   "source": [
    "from numpy import array\n",
    "from numpy.linalg import inv\n",
    "\n",
    "# 4x + 2y + 4z = 44\n",
    "# 5x + 3y + 7z = 56\n",
    "# 9x + 3y + 6z = 72\n",
    "\n",
    "A = array([\n",
    "    [4, 2, 4],\n",
    "    [5, 3, 7],\n",
    "    [9, 3, 6]\n",
    "])\n",
    "\n",
    "B = array([\n",
    "    44,\n",
    "    56,\n",
    "    72\n",
    "])\n",
    "\n",
    "X = inv(A).dot(B)\n",
    "\n",
    "print(X)\n",
    "print(f'\\nx = {int(X[0])}\\ny = {int(X[1])}\\nz = {int(X[2])}')"
   ]
  },
  {
   "cell_type": "code",
   "execution_count": 23,
   "id": "7996adaa-e4b5-40a9-a1fe-4a3c252ef3b9",
   "metadata": {},
   "outputs": [
    {
     "name": "stdout",
     "output_type": "stream",
     "text": [
      "Matrix([[2], [34], [-8]])\n"
     ]
    }
   ],
   "source": [
    "from sympy import *\n",
    "\n",
    "# 4x + 2y + 4z = 44\n",
    "# 5x + 3y + 7z = 56\n",
    "# 9x + 3y + 6z = 72\n",
    "\n",
    "A = Matrix([\n",
    "    [4, 2, 4],\n",
    "    [5, 3, 7],\n",
    "    [9, 3, 6]\n",
    "])\n",
    "\n",
    "B = Matrix([\n",
    "    44,\n",
    "    56,\n",
    "    72\n",
    "])\n",
    "\n",
    "X = A.inv() * B\n",
    "\n",
    "print(X)"
   ]
  },
  {
   "cell_type": "markdown",
   "id": "6f463d12-4cb8-438c-a214-e1c37a2d27e0",
   "metadata": {},
   "source": [
    "### Eigenvectors and Eigenvalues"
   ]
  },
  {
   "cell_type": "code",
   "execution_count": 2,
   "id": "59487516-2d3c-4aa1-ab13-12c989b90087",
   "metadata": {},
   "outputs": [],
   "source": [
    "import numpy as np"
   ]
  },
  {
   "cell_type": "code",
   "execution_count": 6,
   "id": "41446190-b09b-4462-8dc9-83fd941632d7",
   "metadata": {},
   "outputs": [],
   "source": [
    "a = array([-0.464, 6.464])\n",
    "b = array([[0.0806, 0.0343], [0.59, -0.939]])\n",
    "c = array([[1, 2], [4, 5]])"
   ]
  },
  {
   "cell_type": "code",
   "execution_count": 7,
   "id": "174933dd-c90a-447b-b4e4-d57acf2c66af",
   "metadata": {},
   "outputs": [
    {
     "data": {
      "text/plain": [
       "array([[-0.0373984,  0.2217152],\n",
       "       [-0.27376  , -6.069696 ]])"
      ]
     },
     "execution_count": 7,
     "metadata": {},
     "output_type": "execute_result"
    }
   ],
   "source": [
    "x = a * b\n",
    "x"
   ]
  },
  {
   "cell_type": "code",
   "execution_count": 8,
   "id": "a8c91f80-a097-4e01-a7e8-a2122f7319dc",
   "metadata": {},
   "outputs": [
    {
     "data": {
      "text/plain": [
       "array([[ 0.0806,  0.0686],\n",
       "       [ 2.36  , -4.695 ]])"
      ]
     },
     "execution_count": 8,
     "metadata": {},
     "output_type": "execute_result"
    }
   ],
   "source": [
    "x2 = b * c\n",
    "x2"
   ]
  },
  {
   "cell_type": "code",
   "execution_count": 9,
   "id": "4995184a-df87-44ac-90cf-cf313ef56902",
   "metadata": {},
   "outputs": [
    {
     "name": "stdout",
     "output_type": "stream",
     "text": [
      "EIGENVALUES\n",
      "[-0.46410162  6.46410162]\n",
      "\n",
      "EIGENVECTORS\n",
      "[[-0.80689822 -0.34372377]\n",
      " [ 0.59069049 -0.9390708 ]]\n"
     ]
    }
   ],
   "source": [
    "from numpy import array, diag\n",
    "from numpy.linalg import eig, inv\n",
    "\n",
    "A = array([\n",
    "    [1, 2],\n",
    "    [4, 5]\n",
    "])\n",
    "\n",
    "eigenvals, eigenvecs = eig(A)\n",
    "\n",
    "print('EIGENVALUES')\n",
    "print(eigenvals)\n",
    "print('\\nEIGENVECTORS')\n",
    "print(eigenvecs)"
   ]
  },
  {
   "cell_type": "code",
   "execution_count": 11,
   "id": "eca3e326-ed59-404c-ab52-028b95d846c9",
   "metadata": {},
   "outputs": [
    {
     "name": "stdout",
     "output_type": "stream",
     "text": [
      "EIGENVALUES\n",
      "[-0.46410162  6.46410162]\n",
      "\n",
      "EIGENVECTORS\n",
      "[[-0.80689822 -0.34372377]\n",
      " [ 0.59069049 -0.9390708 ]]\n",
      "\n",
      "REBUILD MATRIX\n",
      "[[1. 2.]\n",
      " [4. 5.]]\n"
     ]
    }
   ],
   "source": [
    "from numpy import array, diag\n",
    "from numpy.linalg import eig, inv\n",
    "\n",
    "A = array([\n",
    "    [1, 2],\n",
    "    [4, 5]\n",
    "])\n",
    "\n",
    "eigenvals, eigenvecs = eig(A)\n",
    "\n",
    "print('EIGENVALUES')\n",
    "print(eigenvals)\n",
    "print('\\nEIGENVECTORS')\n",
    "print(eigenvecs)\n",
    "\n",
    "print('\\nREBUILD MATRIX')\n",
    "Q = eigenvecs\n",
    "R = inv(Q)\n",
    "L = diag(eigenvals)\n",
    "\n",
    "B = Q @ L @ R\n",
    "\n",
    "print (B)"
   ]
  },
  {
   "cell_type": "markdown",
   "id": "e8b38a12-e601-498c-a720-0edf08f843d0",
   "metadata": {},
   "source": [
    "## Exercises"
   ]
  },
  {
   "cell_type": "markdown",
   "id": "11ecf1e5-5185-4a39-845c-463738097522",
   "metadata": {},
   "source": [
    "<b></b>1. Vector <i>v</i> has a value of [1, 2] but then a transformation happens. <i>i</i> lands at [2, 0]\n",
    "and <i>j</i> lands at [0, 1.5]. Where does <i>v</i> land?"
   ]
  },
  {
   "cell_type": "code",
   "execution_count": 15,
   "id": "05c6bc70-d316-4e30-9ad5-20b0815f09fc",
   "metadata": {},
   "outputs": [
    {
     "name": "stdout",
     "output_type": "stream",
     "text": [
      "v lands here:\n",
      "[2. 3.]\n"
     ]
    }
   ],
   "source": [
    "from numpy import array\n",
    "\n",
    "# Declare the original vector v\n",
    "v = array([1, 2])\n",
    "\n",
    "# Declare two basis vectors\n",
    "# They are used to describe transformations on other vectors\n",
    "i_hat = array([2, 0])\n",
    "j_hat = array([0, 1.5])\n",
    "\n",
    "# Compose basis matrix\n",
    "basis = array([i_hat, j_hat])\n",
    "\n",
    "# Create new vector by transforming v with dot product\n",
    "w = basis.dot(v)\n",
    "\n",
    "print('v lands here:')\n",
    "print(w)"
   ]
  },
  {
   "cell_type": "markdown",
   "id": "b49f076d-bd78-4435-80ce-ea4669ca4fa4",
   "metadata": {},
   "source": [
    "<b></b>2. Vector <i>v</i> has a value of [1, 2] but then a transformation happens. <i>i</i> lands at\n",
    "[-2, 1] and <i>j</i> lands at [1, -2]. Where does <i>v</i> land?"
   ]
  },
  {
   "cell_type": "code",
   "execution_count": 16,
   "id": "fa8e6d1a-82a4-460e-b2f7-22c836bb5848",
   "metadata": {},
   "outputs": [
    {
     "name": "stdout",
     "output_type": "stream",
     "text": [
      "v lands here:\n",
      "[ 0 -3]\n"
     ]
    }
   ],
   "source": [
    "import numpy as np\n",
    "\n",
    "v = np.array([1, 2])\n",
    "\n",
    "i_hat = np.array([-2, 1])\n",
    "j_hat = np.array([1, -2])\n",
    "\n",
    "basis = np.array([i_hat, j_hat])\n",
    "\n",
    "w = basis.dot(v)\n",
    "\n",
    "print('v lands here:')\n",
    "print(w)"
   ]
  },
  {
   "cell_type": "markdown",
   "id": "d1255bb1-561b-4a41-90a2-523339849922",
   "metadata": {},
   "source": [
    "<b></b>3. A transformation <i>i</i> lands at [1, 0] and <i>j</i> lands at [2, 2]. What is the determinant\n",
    "of this transformation?"
   ]
  },
  {
   "cell_type": "code",
   "execution_count": 23,
   "id": "d37126dc-b99c-4e15-b7d2-0751f445d582",
   "metadata": {},
   "outputs": [
    {
     "name": "stdout",
     "output_type": "stream",
     "text": [
      "2.0\n"
     ]
    }
   ],
   "source": [
    "from numpy.linalg import det\n",
    "\n",
    "i_hat = np.array([1, 0])\n",
    "j_hat = np.array([2, 2])\n",
    "\n",
    "basis = np.array([i_hat, j_hat]).transpose()\n",
    "\n",
    "determinant = det(basis)\n",
    "\n",
    "print(determinant)"
   ]
  },
  {
   "cell_type": "markdown",
   "id": "d9c13c28-dbfa-4934-865d-2a19fce80e77",
   "metadata": {},
   "source": [
    "<b></b>4. Can two or more linear transformations be done in single linear transformation? Why or why not?"
   ]
  },
  {
   "cell_type": "markdown",
   "id": "3e592458-65bd-4e41-8dc4-f9b63e58ae8b",
   "metadata": {},
   "source": [
    "Yes, because matrix multiplication allows us to combine several matrices into a single matrix representing one consolidated transformation."
   ]
  },
  {
   "cell_type": "markdown",
   "id": "848be3c0-0476-4862-9ca4-c84263fffe07",
   "metadata": {},
   "source": [
    "<b></b>5. Solve the system of equations for <i>x</i>, <i>y</i>, and <i>z</i>:\n",
    "\n",
    "3<i>x</i> + 1<i>y</i> + 0<i>z</i> = = 54<br>\n",
    "2<i>x</i> + 4<i>y</i> + 1<i>z</i> = 12<br>\n",
    "3<i>x</i> + 1<i>y</i> + 8<i>z</i> = 6"
   ]
  },
  {
   "cell_type": "code",
   "execution_count": 31,
   "id": "10048707-be79-4c0e-ba3f-c6e88aaf41ba",
   "metadata": {},
   "outputs": [
    {
     "name": "stdout",
     "output_type": "stream",
     "text": [
      "[19.8 -5.4 -6. ]\n",
      "\n",
      "x = 19.8\n",
      "y = -5.4\n",
      "z = -6.0\n"
     ]
    }
   ],
   "source": [
    "from numpy.linalg import inv\n",
    "\n",
    "A = np.array([\n",
    "    [3, 1, 0],\n",
    "    [2, 4, 1],\n",
    "    [3, 1, 8]\n",
    "])\n",
    "\n",
    "B = np.array([\n",
    "    54,\n",
    "    12,\n",
    "    6\n",
    "])\n",
    "\n",
    "X = inv(A).dot(B)\n",
    "\n",
    "print(X)\n",
    "print(f'\\nx = {round(X[0], 1)}\\ny = {round(X[1], 1)}\\nz = {round(X[2], 1)}')"
   ]
  },
  {
   "attachments": {
    "2d6ea067-b0e7-4bdf-bd5f-7da77c0b46a7.png": {
     "image/png": "[encoded data removed]"
    }
   },
   "cell_type": "markdown",
   "id": "79e6848b-f639-4dfd-95f3-053e29a91677",
   "metadata": {},
   "source": [
    "<b></b>6. Is the following matrix linearly dependent? Why or why not?\n",
    "\n",
    "![изображение.png](attachment:2d6ea067-b0e7-4bdf-bd5f-7da77c0b46a7.png)"
   ]
  },
  {
   "cell_type": "code",
   "execution_count": 38,
   "id": "de168f50-8d9e-42ae-8f4c-b6af824df288",
   "metadata": {},
   "outputs": [
    {
     "name": "stdout",
     "output_type": "stream",
     "text": [
      "Its determinant is 0.0.\n",
      "\n",
      "Therefore the following matrix is linear dependent.\n"
     ]
    }
   ],
   "source": [
    "from numpy.linalg import det\n",
    "\n",
    "i_hat = np.array([2, 6])\n",
    "j_hat = np.array([1, 3])\n",
    "\n",
    "basis = np.array([i_hat, j_hat]).transpose()\n",
    "\n",
    "determinant = det(basis)\n",
    "\n",
    "def check(x):\n",
    "    print(f'Its determinant is {x}.\\n')\n",
    "    \n",
    "    if x == 0:\n",
    "        print('Therefore the following matrix is linear dependent.')\n",
    "    else:\n",
    "        print('Therefore the following matrix is not linear dependent.')\n",
    "\n",
    "check(determinant)"
   ]
  },
  {
   "cell_type": "code",
   "execution_count": 40,
   "id": "ed05b518-8059-4879-90f2-765e8c50500f",
   "metadata": {},
   "outputs": [
    {
     "name": "stdout",
     "output_type": "stream",
     "text": [
      "Its determinant is 0.\n",
      "\n",
      "Therefore the following matrix is linear dependent.\n"
     ]
    }
   ],
   "source": [
    "from sympy import *\n",
    "\n",
    "basis = Matrix([\n",
    "    [2, 1],\n",
    "    [6, 3]\n",
    "])\n",
    "\n",
    "determinant = det(basis)\n",
    "\n",
    "def check(x):\n",
    "    print(f'Its determinant is {x}.\\n')\n",
    "    \n",
    "    if x == 0:\n",
    "        print('Therefore the following matrix is linear dependent.')\n",
    "    else:\n",
    "        print('Therefore the following matrix is not linear dependent.')\n",
    "\n",
    "check(determinant)"
   ]
  }
 ],
 "metadata": {
  "kernelspec": {
   "display_name": "Python 3 (ipykernel)",
   "language": "python",
   "name": "python3"
  },
  "language_info": {
   "codemirror_mode": {
    "name": "ipython",
    "version": 3
   },
   "file_extension": ".py",
   "mimetype": "text/x-python",
   "name": "python",
   "nbconvert_exporter": "python",
   "pygments_lexer": "ipython3",
   "version": "3.9.13"
  }
 },
 "nbformat": 4,
 "nbformat_minor": 5
}
