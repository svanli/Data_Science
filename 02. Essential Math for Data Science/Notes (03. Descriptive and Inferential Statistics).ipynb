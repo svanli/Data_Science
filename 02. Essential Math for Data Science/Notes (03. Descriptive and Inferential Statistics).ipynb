{
 "cells": [
  {
   "cell_type": "markdown",
   "id": "54d90d12-1edd-4563-a9ff-ed58bd346b81",
   "metadata": {},
   "source": [
    "# Essential Math for Data Science"
   ]
  },
  {
   "cell_type": "markdown",
   "id": "658ab407-bab9-4e37-88a9-700652724c50",
   "metadata": {},
   "source": [
    "## 3. Descriptive and Inferential Statistics"
   ]
  },
  {
   "cell_type": "markdown",
   "id": "1ddad8d3-fa2b-4917-a138-f5ba82ef92be",
   "metadata": {},
   "source": [
    "### Mean and Weighted Mean"
   ]
  },
  {
   "cell_type": "code",
   "execution_count": 1,
   "id": "63d07f92-a5c2-43c4-b564-fbd5e169224c",
   "metadata": {},
   "outputs": [
    {
     "name": "stdout",
     "output_type": "stream",
     "text": [
      "2.875\n"
     ]
    }
   ],
   "source": [
    "# Number of pets each person owns\n",
    "sample = [1, 3, 2, 5, 7, 0, 2, 3]\n",
    "\n",
    "mean = sum(sample) / len(sample)\n",
    "\n",
    "print(mean)"
   ]
  },
  {
   "cell_type": "code",
   "execution_count": 2,
   "id": "14fdeb11-633a-40f9-80c6-02e4af406b67",
   "metadata": {},
   "outputs": [
    {
     "name": "stdout",
     "output_type": "stream",
     "text": [
      "81.4\n"
     ]
    }
   ],
   "source": [
    "# Three exams of 0.20 weight each and final exam of 0.40 weight\n",
    "sample = [90, 80, 63, 87]\n",
    "weights = [0.20, 0.20, 0.20, 0.40]\n",
    "\n",
    "weighted_mean = sum(s * w for s, w in zip(sample, weights)) / sum(weights)\n",
    "\n",
    "print(weighted_mean)"
   ]
  },
  {
   "cell_type": "code",
   "execution_count": 3,
   "id": "38d739dd-72cc-4ab5-a998-026cc6de533b",
   "metadata": {},
   "outputs": [
    {
     "name": "stdout",
     "output_type": "stream",
     "text": [
      "81.4\n"
     ]
    }
   ],
   "source": [
    "# Three exams of 0.20 weight each and final exam of 0.40 weight\n",
    "sample = [90, 80, 63, 87]\n",
    "weights = [1, 1, 1, 2]\n",
    "\n",
    "weighted_mean = sum(s * w for s, w in zip(sample, weights)) / sum(weights)\n",
    "\n",
    "print(weighted_mean)"
   ]
  },
  {
   "cell_type": "code",
   "execution_count": 8,
   "id": "3cc3130b-24ed-4435-be73-10e0b09fde0b",
   "metadata": {},
   "outputs": [
    {
     "name": "stdout",
     "output_type": "stream",
     "text": [
      "[0, 1, 5, 7, 9, 10, 14]\n",
      "7\n"
     ]
    }
   ],
   "source": [
    "# Number of pets each person owns\n",
    "sample = [0, 1, 5, 7, 9, 10, 14]\n",
    "\n",
    "def median(values):\n",
    "    ordered = sorted(values)\n",
    "    print(ordered)\n",
    "    n = len(ordered)\n",
    "    mid = int(n / 2) - 1 if n % 2 == 0 else int(n / 2)\n",
    "    \n",
    "    if n % 2 == 0:\n",
    "        return (ordered[mid] + ordered[mid+1]) / 2.0\n",
    "    else:\n",
    "        return ordered[mid]\n",
    "    \n",
    "print(median(sample))"
   ]
  }
 ],
 "metadata": {
  "kernelspec": {
   "display_name": "Python 3 (ipykernel)",
   "language": "python",
   "name": "python3"
  },
  "language_info": {
   "codemirror_mode": {
    "name": "ipython",
    "version": 3
   },
   "file_extension": ".py",
   "mimetype": "text/x-python",
   "name": "python",
   "nbconvert_exporter": "python",
   "pygments_lexer": "ipython3",
   "version": "3.9.13"
  }
 },
 "nbformat": 4,
 "nbformat_minor": 5
}
