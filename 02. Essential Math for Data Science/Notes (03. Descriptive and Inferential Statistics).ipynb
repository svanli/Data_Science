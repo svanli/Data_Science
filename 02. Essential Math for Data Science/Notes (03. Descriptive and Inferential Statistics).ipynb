{
 "cells": [
  {
   "cell_type": "markdown",
   "id": "54d90d12-1edd-4563-a9ff-ed58bd346b81",
   "metadata": {},
   "source": [
    "# Essential Math for Data Science"
   ]
  },
  {
   "cell_type": "markdown",
   "id": "658ab407-bab9-4e37-88a9-700652724c50",
   "metadata": {},
   "source": [
    "## 3. Descriptive and Inferential Statistics"
   ]
  },
  {
   "cell_type": "markdown",
   "id": "1ddad8d3-fa2b-4917-a138-f5ba82ef92be",
   "metadata": {},
   "source": [
    "### Mean and Weighted Mean"
   ]
  },
  {
   "cell_type": "code",
   "execution_count": 1,
   "id": "63d07f92-a5c2-43c4-b564-fbd5e169224c",
   "metadata": {},
   "outputs": [
    {
     "name": "stdout",
     "output_type": "stream",
     "text": [
      "2.875\n"
     ]
    }
   ],
   "source": [
    "# Number of pets each person owns\n",
    "sample = [1, 3, 2, 5, 7, 0, 2, 3]\n",
    "\n",
    "mean = sum(sample) / len(sample)\n",
    "\n",
    "print(mean)"
   ]
  },
  {
   "cell_type": "code",
   "execution_count": 2,
   "id": "14fdeb11-633a-40f9-80c6-02e4af406b67",
   "metadata": {},
   "outputs": [
    {
     "name": "stdout",
     "output_type": "stream",
     "text": [
      "81.4\n"
     ]
    }
   ],
   "source": [
    "# Three exams of 0.20 weight each and final exam of 0.40 weight\n",
    "sample = [90, 80, 63, 87]\n",
    "weights = [0.20, 0.20, 0.20, 0.40]\n",
    "\n",
    "weighted_mean = sum(s * w for s, w in zip(sample, weights)) / sum(weights)\n",
    "\n",
    "print(weighted_mean)"
   ]
  },
  {
   "cell_type": "code",
   "execution_count": 3,
   "id": "38d739dd-72cc-4ab5-a998-026cc6de533b",
   "metadata": {},
   "outputs": [
    {
     "name": "stdout",
     "output_type": "stream",
     "text": [
      "81.4\n"
     ]
    }
   ],
   "source": [
    "# Three exams of 0.20 weight each and final exam of 0.40 weight\n",
    "sample = [90, 80, 63, 87]\n",
    "weights = [1, 1, 1, 2]\n",
    "\n",
    "weighted_mean = sum(s * w for s, w in zip(sample, weights)) / sum(weights)\n",
    "\n",
    "print(weighted_mean)"
   ]
  },
  {
   "cell_type": "markdown",
   "id": "b1b1cd2f-55fe-4934-954b-6b8c0acde8b9",
   "metadata": {},
   "source": [
    "### Median"
   ]
  },
  {
   "cell_type": "code",
   "execution_count": 4,
   "id": "3cc3130b-24ed-4435-be73-10e0b09fde0b",
   "metadata": {},
   "outputs": [
    {
     "name": "stdout",
     "output_type": "stream",
     "text": [
      "[0, 1, 5, 7, 9, 10, 14]\n",
      "7\n"
     ]
    }
   ],
   "source": [
    "# Number of pets each person owns\n",
    "sample = [0, 1, 5, 7, 9, 10, 14]\n",
    "\n",
    "def median(values):\n",
    "    ordered = sorted(values)\n",
    "    print(ordered)\n",
    "    n = len(ordered)\n",
    "    mid = int(n / 2) - 1 if n % 2 == 0 else int(n / 2)\n",
    "    \n",
    "    if n % 2 == 0:\n",
    "        return (ordered[mid] + ordered[mid+1]) / 2.0\n",
    "    else:\n",
    "        return ordered[mid]\n",
    "    \n",
    "print(median(sample))"
   ]
  },
  {
   "cell_type": "markdown",
   "id": "77f895e1-61bb-4fe1-8020-7ec66cc2febf",
   "metadata": {},
   "source": [
    "### Mode"
   ]
  },
  {
   "cell_type": "code",
   "execution_count": 5,
   "id": "fb033eb0-444b-4c6d-9e55-bb785c417da5",
   "metadata": {},
   "outputs": [
    {
     "name": "stdout",
     "output_type": "stream",
     "text": [
      "[2, 3]\n"
     ]
    }
   ],
   "source": [
    "from collections import defaultdict\n",
    "\n",
    "sample = [1, 3, 2, 5, 7, 0, 2, 3]\n",
    "\n",
    "def mode(values):\n",
    "    counts = defaultdict(lambda: 0)\n",
    "    \n",
    "    for s in values:\n",
    "           counts[s] += 1\n",
    "            \n",
    "    max_count = max(counts.values())\n",
    "    modes = [v for v in set(values) if counts[v] == max_count]\n",
    "    return modes\n",
    "\n",
    "print(mode(sample))"
   ]
  },
  {
   "cell_type": "code",
   "execution_count": 8,
   "id": "bf8d8799-62a9-483a-9e02-ccbb9f6a9961",
   "metadata": {},
   "outputs": [
    {
     "name": "stdout",
     "output_type": "stream",
     "text": [
      "defaultdict(<function <lambda> at 0x000001BDF917B550>, {'apple': 2, 'banana': 1})\n"
     ]
    }
   ],
   "source": [
    "from collections import defaultdict\n",
    "\n",
    "# Create a defaultdict with default value 0\n",
    "counts = defaultdict(lambda: 0)\n",
    "\n",
    "# Increment counts for different keys\n",
    "counts['apple'] += 1\n",
    "counts['banana'] += 1\n",
    "counts['apple'] += 1\n",
    "\n",
    "print(counts) "
   ]
  },
  {
   "cell_type": "markdown",
   "id": "4e447980-b0a8-49cc-af08-ab216b9a12d9",
   "metadata": {},
   "source": [
    "### Population Variance and Standard Deviation"
   ]
  },
  {
   "cell_type": "code",
   "execution_count": 11,
   "id": "2e2c5093-f851-4904-893e-1dd8c2b0f53c",
   "metadata": {},
   "outputs": [
    {
     "name": "stdout",
     "output_type": "stream",
     "text": [
      "21.39\n"
     ]
    }
   ],
   "source": [
    "data = [0, 1, 5, 7, 9, 10, 14]\n",
    "\n",
    "def variance(values):\n",
    "    mean = sum(values) / len(values)\n",
    "    _variance = sum((v - mean) ** 2 for v in values) / len(values)\n",
    "    return _variance\n",
    "\n",
    "print(round(variance(data), 2))"
   ]
  },
  {
   "cell_type": "code",
   "execution_count": 12,
   "id": "a133c387-e329-4543-9589-7ae8b7e69858",
   "metadata": {},
   "outputs": [
    {
     "name": "stdout",
     "output_type": "stream",
     "text": [
      "4.62\n"
     ]
    }
   ],
   "source": [
    "from math import sqrt\n",
    "\n",
    "data = [0, 1, 5, 7, 9, 10, 14]\n",
    "\n",
    "def variance(values):\n",
    "    mean = sum(values) / len(values)\n",
    "    _variance = sum((v - mean) ** 2 for v in values) / len(values)\n",
    "    return _variance\n",
    "\n",
    "def std_dev(values):\n",
    "    return sqrt(variance(values))\n",
    "\n",
    "print(round(std_dev(data), 2))"
   ]
  },
  {
   "cell_type": "markdown",
   "id": "18e31241-bccc-4807-80f1-9119f2849391",
   "metadata": {},
   "source": [
    "### Sample Variance and Standard Deviation"
   ]
  },
  {
   "cell_type": "code",
   "execution_count": 28,
   "id": "8c8ca83c-4449-44c1-889f-7b02c76809a7",
   "metadata": {},
   "outputs": [
    {
     "name": "stdout",
     "output_type": "stream",
     "text": [
      "VARIANCE = 24.95\n",
      "STD DEV = 5.0\n"
     ]
    }
   ],
   "source": [
    "from math import sqrt\n",
    "\n",
    "data = [0, 1, 5, 7, 9, 10, 14]\n",
    "\n",
    "def variance(values, is_sample: bool = False):\n",
    "    mean = sum(values) / len(values)\n",
    "    _variance = sum((v - mean) ** 2 for v in values) / (len(values) - (1 if is_sample else 0))\n",
    "    \n",
    "    return _variance\n",
    "\n",
    "def std_dev(values, is_sample: bool = False):\n",
    "    return sqrt(variance(values, is_sample))\n",
    "\n",
    "print(f'VARIANCE = {round(variance(data, is_sample=True), 2)}')\n",
    "print(f'STD DEV = {round(std_dev(data, is_sample=True), 2)}')"
   ]
  },
  {
   "cell_type": "markdown",
   "id": "99ea9a7b-543a-4db0-b6a6-99afa8449879",
   "metadata": {},
   "source": [
    "### The Probability Density Function (PDF)"
   ]
  },
  {
   "cell_type": "code",
   "execution_count": 30,
   "id": "1666a895-d9ee-4aa2-b036-b9872f9acbd6",
   "metadata": {},
   "outputs": [],
   "source": [
    "# normal distribution, returns likelihood\n",
    "def normal_pdf(x: float, mean: float, std_dev: float) -> float:\n",
    "    return (1.0 / (2.0 * math.pi * std_dev ** 2) ** 0.5) * math.exp(-1.0 * ((x - mean) ** 2 / (2.0 * std_dev ** 2)))"
   ]
  },
  {
   "cell_type": "markdown",
   "id": "89b3f4b5-aa0d-46e8-b79e-a3caece77fe8",
   "metadata": {},
   "source": [
    "### The Cumulative Distribution Function (CDF)"
   ]
  },
  {
   "cell_type": "code",
   "execution_count": 31,
   "id": "9d923e38-cdec-4c79-b18f-9efb0afc65d3",
   "metadata": {},
   "outputs": [
    {
     "name": "stdout",
     "output_type": "stream",
     "text": [
      "0.5\n"
     ]
    }
   ],
   "source": [
    "from scipy.stats import norm\n",
    "\n",
    "mean = 64.43\n",
    "std_dev = 2.99\n",
    "\n",
    "x = norm.cdf(64.43, mean, std_dev)\n",
    "\n",
    "print(x)"
   ]
  },
  {
   "cell_type": "code",
   "execution_count": 38,
   "id": "e901ccee-5f7d-4bdb-b022-6f74bf213fa4",
   "metadata": {},
   "outputs": [
    {
     "name": "stdout",
     "output_type": "stream",
     "text": [
      "80.5%\n"
     ]
    }
   ],
   "source": [
    "from scipy.stats import norm\n",
    "\n",
    "mean = 64.43\n",
    "std_dev = 2.99\n",
    "\n",
    "x = norm.cdf(67, mean, std_dev)\n",
    "\n",
    "print(f'{round(x*100,2)}%')"
   ]
  },
  {
   "cell_type": "code",
   "execution_count": 40,
   "id": "1c666fd4-a555-4580-acb8-b4a5688aac37",
   "metadata": {},
   "outputs": [
    {
     "name": "stdout",
     "output_type": "stream",
     "text": [
      "49.2%\n"
     ]
    }
   ],
   "source": [
    "from scipy.stats import norm\n",
    "\n",
    "mean = 64.43\n",
    "std_dev = 2.99\n",
    "\n",
    "x = norm.cdf(66, mean, std_dev) - norm.cdf(62, mean, std_dev)\n",
    "\n",
    "print(f'{round(x*100,2)}%')"
   ]
  }
 ],
 "metadata": {
  "kernelspec": {
   "display_name": "Python 3 (ipykernel)",
   "language": "python",
   "name": "python3"
  },
  "language_info": {
   "codemirror_mode": {
    "name": "ipython",
    "version": 3
   },
   "file_extension": ".py",
   "mimetype": "text/x-python",
   "name": "python",
   "nbconvert_exporter": "python",
   "pygments_lexer": "ipython3",
   "version": "3.9.13"
  }
 },
 "nbformat": 4,
 "nbformat_minor": 5
}
