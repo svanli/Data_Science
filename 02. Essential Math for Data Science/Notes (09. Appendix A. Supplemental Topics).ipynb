{
 "cells": [
  {
   "cell_type": "markdown",
   "id": "54d90d12-1edd-4563-a9ff-ed58bd346b81",
   "metadata": {},
   "source": [
    "# Essential Math for Data Science"
   ]
  },
  {
   "cell_type": "markdown",
   "id": "658ab407-bab9-4e37-88a9-700652724c50",
   "metadata": {},
   "source": [
    "## 9. Appendix A. Supplemental Topics"
   ]
  },
  {
   "cell_type": "markdown",
   "id": "8c61f033-acec-47dc-8aa5-9ccf2c5b6a9f",
   "metadata": {},
   "source": [
    "### Using LaTeX Rendering with SymPy"
   ]
  },
  {
   "cell_type": "code",
   "execution_count": 1,
   "id": "7b0ca929-147e-488f-9efe-b7d0667115de",
   "metadata": {},
   "outputs": [
    {
     "name": "stdout",
     "output_type": "stream",
     "text": [
      "\\frac{x^{2}}{\\sqrt{2 y^{3} - 1}}\n"
     ]
    }
   ],
   "source": [
    "from sympy import *\n",
    "\n",
    "x, y = symbols('x y')\n",
    "\n",
    "z = x**2 / sqrt(2 * y**3 - 1)\n",
    "\n",
    "print(latex(z))"
   ]
  }
 ],
 "metadata": {
  "kernelspec": {
   "display_name": "Python 3 (ipykernel)",
   "language": "python",
   "name": "python3"
  },
  "language_info": {
   "codemirror_mode": {
    "name": "ipython",
    "version": 3
   },
   "file_extension": ".py",
   "mimetype": "text/x-python",
   "name": "python",
   "nbconvert_exporter": "python",
   "pygments_lexer": "ipython3",
   "version": "3.9.13"
  }
 },
 "nbformat": 4,
 "nbformat_minor": 5
}
