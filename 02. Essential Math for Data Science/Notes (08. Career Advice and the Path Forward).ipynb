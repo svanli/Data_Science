{
 "cells": [
  {
   "cell_type": "markdown",
   "id": "54d90d12-1edd-4563-a9ff-ed58bd346b81",
   "metadata": {},
   "source": [
    "# Essential Math for Data Science"
   ]
  },
  {
   "cell_type": "markdown",
   "id": "658ab407-bab9-4e37-88a9-700652724c50",
   "metadata": {},
   "source": [
    "## 8. Career Advice and the Path Forward"
   ]
  },
  {
   "cell_type": "markdown",
   "id": "8c61f033-acec-47dc-8aa5-9ccf2c5b6a9f",
   "metadata": {},
   "source": [
    "### SQL Proficiency"
   ]
  },
  {
   "cell_type": "code",
   "execution_count": null,
   "id": "e1644e5c-43c5-44f3-8ddc-e077ff67fc4d",
   "metadata": {},
   "outputs": [],
   "source": [
    "SELECT CUSTOMER_ID, \n",
    "       NAME\n",
    "    \n",
    "FROM   CUSTOMER\n",
    "\n",
    "WHERE  STATE = 'TX'"
   ]
  },
  {
   "cell_type": "code",
   "execution_count": null,
   "id": "1426471a-6c59-4f7e-b228-8fb59b1befac",
   "metadata": {},
   "outputs": [],
   "source": []
  }
 ],
 "metadata": {
  "kernelspec": {
   "display_name": "Python 3 (ipykernel)",
   "language": "python",
   "name": "python3"
  },
  "language_info": {
   "codemirror_mode": {
    "name": "ipython",
    "version": 3
   },
   "file_extension": ".py",
   "mimetype": "text/x-python",
   "name": "python",
   "nbconvert_exporter": "python",
   "pygments_lexer": "ipython3",
   "version": "3.9.13"
  }
 },
 "nbformat": 4,
 "nbformat_minor": 5
}
