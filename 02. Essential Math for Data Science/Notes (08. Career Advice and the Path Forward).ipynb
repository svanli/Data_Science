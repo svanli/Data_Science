{
 "cells": [
  {
   "cell_type": "markdown",
   "id": "54d90d12-1edd-4563-a9ff-ed58bd346b81",
   "metadata": {},
   "source": [
    "# Essential Math for Data Science"
   ]
  },
  {
   "cell_type": "markdown",
   "id": "658ab407-bab9-4e37-88a9-700652724c50",
   "metadata": {},
   "source": [
    "## 8. Career Advice and the Path Forward"
   ]
  },
  {
   "cell_type": "markdown",
   "id": "8c61f033-acec-47dc-8aa5-9ccf2c5b6a9f",
   "metadata": {},
   "source": [
    "### SQL Proficiency"
   ]
  },
  {
   "cell_type": "code",
   "execution_count": null,
   "id": "e1644e5c-43c5-44f3-8ddc-e077ff67fc4d",
   "metadata": {},
   "outputs": [],
   "source": [
    "SELECT CUSTOMER_ID, \n",
    "       NAME\n",
    "    \n",
    "FROM   CUSTOMER\n",
    "\n",
    "WHERE  STATE = 'TX'"
   ]
  },
  {
   "cell_type": "code",
   "execution_count": 1,
   "id": "1426471a-6c59-4f7e-b228-8fb59b1befac",
   "metadata": {},
   "outputs": [
    {
     "name": "stdout",
     "output_type": "stream",
     "text": [
      "Requirement already satisfied: sqlalchemy in c:\\programdata\\anaconda3\\lib\\site-packages (1.4.39)Note: you may need to restart the kernel to use updated packages.\n",
      "\n",
      "Requirement already satisfied: greenlet!=0.4.17 in c:\\programdata\\anaconda3\\lib\\site-packages (from sqlalchemy) (1.1.1)\n"
     ]
    }
   ],
   "source": [
    "pip install sqlalchemy"
   ]
  },
  {
   "cell_type": "code",
   "execution_count": 2,
   "id": "0917b11f-4bd8-4f34-883b-cacee31163b7",
   "metadata": {},
   "outputs": [
    {
     "name": "stdout",
     "output_type": "stream",
     "text": [
      "(1, 'Alpha Medical', '18745 Train Dr', 'Dallas', 'TX', 75021, 'INDUSTRIAL')\n",
      "(2, 'Oak Cliff Base', '2379 Cliff Ave', 'Abbevile', 'LA', 70510, 'GOVERNMENT')\n",
      "(3, 'Sports Unlimited', '1605 Station Dr', 'Alexandrai', 'LA', 71301, 'COMMERCIAL')\n",
      "(4, 'Riley Sporting Goods', '9854 Firefly Blvd', 'Austin', 'TX', 78701, 'COMMERCIAL')\n",
      "(5, 'Lite Industrial', '462 Roadrunner Blvd', 'Houston', 'TX', 77254, 'INDUSTRIAL')\n",
      "(6, 'Prairie Sports Center', '689 Stadium Way', 'Tulsa', 'OK', 74101, 'COMMERCIAL')\n",
      "(7, 'Facility 95', '2396 Runway Dr', 'Oklahoma City', 'OK', 73101, 'GOVERNMENT')\n",
      "(8, 'Allen Stadium', '573 HIllcrest Rd', 'Allen', 'TX', 75002, 'COMMERCIAL')\n",
      "(9, 'Dent Research', '392 45th St', 'Waco', 'TX', 76700, 'INDUSTRIAL')\n",
      "(10, 'Gamma Solutions', '2752 27th St', 'Phoenix', 'AZ', 85001, 'COMMERCIAL')\n"
     ]
    }
   ],
   "source": [
    "from sqlalchemy import create_engine, text\n",
    "\n",
    "engine = create_engine('sqlite:///thunderbird_manufacturing.db')\n",
    "conn = engine.connect()\n",
    "\n",
    "stmt = text('SELECT * FROM CUSTOMER')\n",
    "results = conn.execute(stmt)\n",
    "\n",
    "for customer in results:\n",
    "    print(customer)"
   ]
  },
  {
   "cell_type": "code",
   "execution_count": 9,
   "id": "9f65e6c6-9044-4d86-9ce5-fd1e6bda15c0",
   "metadata": {},
   "outputs": [
    {
     "name": "stdout",
     "output_type": "stream",
     "text": [
      "   CUSTOMER_ID          CUSTOMER_NAME              ADDRESS           CITY  \\\n",
      "0            1          Alpha Medical       18745 Train Dr         Dallas   \n",
      "1            2         Oak Cliff Base       2379 Cliff Ave       Abbevile   \n",
      "2            3       Sports Unlimited      1605 Station Dr     Alexandrai   \n",
      "3            4   Riley Sporting Goods    9854 Firefly Blvd         Austin   \n",
      "4            5        Lite Industrial  462 Roadrunner Blvd        Houston   \n",
      "5            6  Prairie Sports Center      689 Stadium Way          Tulsa   \n",
      "6            7            Facility 95       2396 Runway Dr  Oklahoma City   \n",
      "7            8          Allen Stadium     573 HIllcrest Rd          Allen   \n",
      "8            9          Dent Research          392 45th St           Waco   \n",
      "9           10        Gamma Solutions         2752 27th St        Phoenix   \n",
      "\n",
      "  STATE    ZIP    CATEGORY  \n",
      "0    TX  75021  INDUSTRIAL  \n",
      "1    LA  70510  GOVERNMENT  \n",
      "2    LA  71301  COMMERCIAL  \n",
      "3    TX  78701  COMMERCIAL  \n",
      "4    TX  77254  INDUSTRIAL  \n",
      "5    OK  74101  COMMERCIAL  \n",
      "6    OK  73101  GOVERNMENT  \n",
      "7    TX  75002  COMMERCIAL  \n",
      "8    TX  76700  INDUSTRIAL  \n",
      "9    AZ  85001  COMMERCIAL  \n"
     ]
    }
   ],
   "source": [
    "import pandas as pd\n",
    "\n",
    "df = pd.read_sql('SELECT * FROM CUSTOMER', conn)\n",
    "print(df)"
   ]
  }
 ],
 "metadata": {
  "kernelspec": {
   "display_name": "Python 3 (ipykernel)",
   "language": "python",
   "name": "python3"
  },
  "language_info": {
   "codemirror_mode": {
    "name": "ipython",
    "version": 3
   },
   "file_extension": ".py",
   "mimetype": "text/x-python",
   "name": "python",
   "nbconvert_exporter": "python",
   "pygments_lexer": "ipython3",
   "version": "3.9.13"
  }
 },
 "nbformat": 4,
 "nbformat_minor": 5
}
