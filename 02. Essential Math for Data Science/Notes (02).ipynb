{
 "cells": [
  {
   "cell_type": "markdown",
   "id": "54d90d12-1edd-4563-a9ff-ed58bd346b81",
   "metadata": {},
   "source": [
    "# Essential Math for Data Science"
   ]
  },
  {
   "cell_type": "markdown",
   "id": "658ab407-bab9-4e37-88a9-700652724c50",
   "metadata": {},
   "source": [
    "## 2. Probability"
   ]
  },
  {
   "cell_type": "markdown",
   "id": "1ddad8d3-fa2b-4917-a138-f5ba82ef92be",
   "metadata": {},
   "source": [
    "### Joint Probabilities"
   ]
  },
  {
   "cell_type": "code",
   "execution_count": 4,
   "id": "baae552c-7fa4-4c76-8e9a-0274f4716bc0",
   "metadata": {},
   "outputs": [
    {
     "data": {
      "text/plain": [
       "0.08333333333333333"
      ]
     },
     "execution_count": 4,
     "metadata": {},
     "output_type": "execute_result"
    }
   ],
   "source": [
    "p_heads = 1/2\n",
    "p_six   = 1/6\n",
    "\n",
    "p_both  = p_heads * p_six\n",
    "\n",
    "p_both"
   ]
  },
  {
   "cell_type": "code",
   "execution_count": 5,
   "id": "3b9789d8-f8c4-4125-981b-ffe841a8f141",
   "metadata": {},
   "outputs": [
    {
     "name": "stdout",
     "output_type": "stream",
     "text": [
      "Heads 1\n",
      "Heads 2\n",
      "Heads 3\n",
      "Heads 4\n",
      "Heads 5\n",
      "Heads 6\n",
      "Tail 1\n",
      "Tail 2\n",
      "Tail 3\n",
      "Tail 4\n",
      "Tail 5\n",
      "Tail 6\n"
     ]
    }
   ],
   "source": [
    "for c in ('Heads', 'Tail'):\n",
    "    for d in range(1, 6+1):\n",
    "        print(c, d)"
   ]
  },
  {
   "cell_type": "markdown",
   "id": "53cb1efe-bf88-4bdd-8451-2882199ac7fd",
   "metadata": {},
   "source": [
    "### Union Probabilities"
   ]
  },
  {
   "cell_type": "code",
   "execution_count": 8,
   "id": "28cce663-f1df-427a-8ee3-f1f175baace6",
   "metadata": {},
   "outputs": [
    {
     "data": {
      "text/plain": [
       "0.5833333333333333"
      ]
     },
     "execution_count": 8,
     "metadata": {},
     "output_type": "execute_result"
    }
   ],
   "source": [
    "p_or = p_heads + p_six - p_both\n",
    "p_or"
   ]
  },
  {
   "cell_type": "code",
   "execution_count": 9,
   "id": "576178b4-c66b-473b-b52b-9928dd2632df",
   "metadata": {},
   "outputs": [
    {
     "data": {
      "text/plain": [
       "0.5833333333333333"
      ]
     },
     "execution_count": 9,
     "metadata": {},
     "output_type": "execute_result"
    }
   ],
   "source": [
    "p_or = p_heads + p_six - p_heads * p_six\n",
    "p_or"
   ]
  },
  {
   "cell_type": "markdown",
   "id": "0b0f540b-293a-4540-8558-77354204d15a",
   "metadata": {},
   "source": [
    "### Conditional Probability and Bayes’ Theorem"
   ]
  },
  {
   "cell_type": "code",
   "execution_count": 21,
   "id": "82d710c5-2ab1-4fd9-98ef-a50f40f99892",
   "metadata": {},
   "outputs": [
    {
     "name": "stdout",
     "output_type": "stream",
     "text": [
      "Probability of having cancer being a coffee drinker is 0.65%.\n"
     ]
    }
   ],
   "source": [
    "p_coffee_drinker = 0.65\n",
    "p_cancer = 0.005\n",
    "p_coffee_drinker_given_cancer = 0.85\n",
    "\n",
    "p_cancer_given_coffee_drinker = (p_coffee_drinker_given_cancer * p_cancer) / p_coffee_drinker\n",
    "\n",
    "print(f'Probability of having cancer being a coffee drinker is '\n",
    "      f'{round(p_cancer_given_coffee_drinker*100, 2)}%.')"
   ]
  },
  {
   "cell_type": "markdown",
   "id": "b2935efe-707d-498b-9474-f87e685b4b58",
   "metadata": {},
   "source": [
    "### Binomial Distribution"
   ]
  },
  {
   "cell_type": "code",
   "execution_count": 41,
   "id": "b992fdfa-a1d3-4136-95c0-bbd8866f29a2",
   "metadata": {},
   "outputs": [
    {
     "name": "stdout",
     "output_type": "stream",
     "text": [
      "0: 0.0\n",
      "1: 0.0\n",
      "2: 0.0\n",
      "3: 0.0\n",
      "4: 0.01\n",
      "5: 0.15\n",
      "6: 1.12\n",
      "7: 5.74\n",
      "8: 19.37\n",
      "9: 38.74\n",
      "10: 34.87\n"
     ]
    }
   ],
   "source": [
    "# Calculating the binomial distribution\n",
    "\n",
    "from scipy.stats import binom\n",
    "\n",
    "n = 10 # number of trials\n",
    "p = 0.9 # probability of success for each trial\n",
    "\n",
    "for k in range(n + 1): # k is the total number of successes over all n trials\n",
    "    probability = binom.pmf(k, n, p) # probability mass function\n",
    "    print(f'{k}: {round(probability*100, 2)}')"
   ]
  },
  {
   "cell_type": "code",
   "execution_count": 47,
   "id": "2cac3fff-e7d6-44a5-bb30-f06d36debb15",
   "metadata": {},
   "outputs": [
    {
     "name": "stdout",
     "output_type": "stream",
     "text": [
      "0: 3.12\n",
      "1: 15.62\n",
      "2: 31.25\n",
      "3: 31.25\n",
      "4: 15.62\n",
      "5: 3.12\n"
     ]
    }
   ],
   "source": [
    "n = 5     # number of trials\n",
    "p = 0.5   # probability of success for each trial\n",
    "\n",
    "for k in range(n + 1):   # number of successes\n",
    "    probability = binom.pmf(k, n, p)\n",
    "    print(f'{k}: {round(probability*100, 2)}')"
   ]
  },
  {
   "cell_type": "markdown",
   "id": "7f259d5d-bcdf-40b7-a3fc-b6086c3c8692",
   "metadata": {},
   "source": [
    "### Beta T-Distribution"
   ]
  },
  {
   "cell_type": "code",
   "execution_count": 48,
   "id": "a7c38eaf-4dbc-4c49-8571-61ab352508fe",
   "metadata": {},
   "outputs": [],
   "source": [
    "from scipy.stats import beta"
   ]
  },
  {
   "cell_type": "code",
   "execution_count": 54,
   "id": "114fbe7e-f1e2-4c96-b53e-b8adef12696e",
   "metadata": {},
   "outputs": [
    {
     "name": "stdout",
     "output_type": "stream",
     "text": [
      "There is a 77.48% chance the underlying probability of success is 90% or less.\n"
     ]
    }
   ],
   "source": [
    "a = 8  # number of successes\n",
    "b = 2  # number of failures\n",
    "\n",
    "# Calculate the area up to a given x-value\n",
    "# Calculate the area up to 90%\n",
    "p = beta.cdf(0.90, a, b)  # cdf is cumulative density function\n",
    "\n",
    "print(f'There is a {round(p*100, 2)}% chance the '\n",
    "      f'underlying probability of success is 90% or less.') # Beta distribution"
   ]
  },
  {
   "cell_type": "code",
   "execution_count": 60,
   "id": "a92c06dc-eed2-4517-bc6f-40b05d7bbca6",
   "metadata": {},
   "outputs": [
    {
     "name": "stdout",
     "output_type": "stream",
     "text": [
      "There is a 22.52% chance the underlying probability of success is 90% or greater.\n"
     ]
    }
   ],
   "source": [
    "a = 8  # number of successes\n",
    "b = 2  # number of failures\n",
    "\n",
    "p = 1.0 - beta.cdf(0.90, a, b)\n",
    "\n",
    "print(f'There is a {round(p*100, 2)}% chance the '\n",
    "      f'underlying probability of success is 90% or greater.') # Beta distribution"
   ]
  },
  {
   "cell_type": "code",
   "execution_count": 61,
   "id": "924b7cac-03f8-4d2c-8aff-07406b3cd9f6",
   "metadata": {},
   "outputs": [
    {
     "name": "stdout",
     "output_type": "stream",
     "text": [
      "There is a 13.16% chance the underlying probability of success is 90% or greater.\n"
     ]
    }
   ],
   "source": [
    "a = 30  # number of successes\n",
    "b = 6  # number of failures\n",
    "\n",
    "p = 1.0 - beta.cdf(0.90, a, b)\n",
    "\n",
    "print(f'There is a {round(p*100, 2)}% chance the '\n",
    "      f'underlying probability of success is 90% or greater.') # Beta distribution"
   ]
  }
 ],
 "metadata": {
  "kernelspec": {
   "display_name": "Python 3 (ipykernel)",
   "language": "python",
   "name": "python3"
  },
  "language_info": {
   "codemirror_mode": {
    "name": "ipython",
    "version": 3
   },
   "file_extension": ".py",
   "mimetype": "text/x-python",
   "name": "python",
   "nbconvert_exporter": "python",
   "pygments_lexer": "ipython3",
   "version": "3.9.13"
  }
 },
 "nbformat": 4,
 "nbformat_minor": 5
}
